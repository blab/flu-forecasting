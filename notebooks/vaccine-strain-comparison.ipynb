{
 "cells": [
  {
   "cell_type": "markdown",
   "metadata": {},
   "source": [
    "# Figure 8. Compare vaccine strains to estimated and observed closest strains to the future\n",
    "\n",
    "Observed distance to natural H3N2 populations one year into the future for each vaccine strain (green) and the observed (blue) and estimated (orange) closest strains to the future at the corresponding timepoints. Vaccine strains were assigned to the validation or test timepoint closest to the date they were selected by the WHO. The distance to the future of each vaccine strain was calculated from their amino acid sequences and the frequencies and sequences of the corresponding population one year in the future. The estimated closest strain to the future was identified by either the best model in the validation period (mutational load and LBI) or the best model in the test period\n",
    "(HI antigenic novelty and mutational load)."
   ]
  },
  {
   "cell_type": "code",
   "execution_count": null,
   "metadata": {},
   "outputs": [],
   "source": [
    "validation_tip_attributes_path = snakemake.input.validation_tip_attributes\n",
    "validation_forecasts_path = snakemake.input.validation_forecasts_path\n",
    "\n",
    "test_tip_attributes_path = snakemake.input.test_tip_attributes\n",
    "test_forecasts_path = snakemake.input.test_forecasts_path\n",
    "\n",
    "vaccines_json_path = snakemake.input.vaccines_json_path\n",
    "\n",
    "output_figure = snakemake.output.figure"
   ]
  },
  {
   "cell_type": "code",
   "execution_count": null,
   "metadata": {},
   "outputs": [],
   "source": [
    "\"\"\"\n",
    "validation_tip_attributes_path = \"../results/builds/natural/natural_sample_1_with_90_vpm_sliding/tip_attributes_with_weighted_distances.tsv\"\n",
    "validation_forecasts_path = \"../results/builds/natural/natural_sample_1_with_90_vpm_sliding/forecasts.tsv\"\n",
    "\n",
    "test_tip_attributes_path = \"../results/builds/natural/natural_sample_1_with_90_vpm_sliding_test_tree/tip_attributes_with_weighted_distances.tsv\"\n",
    "test_forecasts_path = \"../results/builds/natural/natural_sample_1_with_90_vpm_sliding_test_tree/forecasts.tsv\"\n",
    "\n",
    "vaccines_json_path = \"../config/vaccines_h3n2.json\"\n",
    "\n",
    "output_figure = \"../manuscript/figures/vaccine-comparison.pdf\"\n",
    "\"\"\""
   ]
  },
  {
   "cell_type": "code",
   "execution_count": null,
   "metadata": {},
   "outputs": [],
   "source": [
    "import json\n",
    "import matplotlib as mpl\n",
    "import matplotlib.pyplot as plt\n",
    "import matplotlib.gridspec as gridspec\n",
    "import numpy as np\n",
    "import pandas as pd\n",
    "from pandas.plotting import register_matplotlib_converters\n",
    "from scipy.stats import pearsonr, spearmanr, probplot\n",
    "import seaborn as sns\n",
    "import statsmodels.api as sm\n",
    "\n",
    "%matplotlib inline"
   ]
  },
  {
   "cell_type": "code",
   "execution_count": null,
   "metadata": {},
   "outputs": [],
   "source": [
    "register_matplotlib_converters()"
   ]
  },
  {
   "cell_type": "code",
   "execution_count": null,
   "metadata": {},
   "outputs": [],
   "source": [
    "first_validation_timepoint = \"2003-10-01\"\n",
    "\n",
    "min_clade_frequency = 0.15\n",
    "precision = 4\n",
    "pseudofrequency = 0.001\n",
    "number_of_bootstrap_samples = 200"
   ]
  },
  {
   "cell_type": "code",
   "execution_count": null,
   "metadata": {},
   "outputs": [],
   "source": [
    "sns.set_style(\"ticks\")"
   ]
  },
  {
   "cell_type": "code",
   "execution_count": null,
   "metadata": {},
   "outputs": [],
   "source": [
    "# Display figures at a reasonable default size.\n",
    "mpl.rcParams['figure.figsize'] = (6, 4)\n",
    "\n",
    "# Disable top and right spines.\n",
    "mpl.rcParams['axes.spines.top'] = False\n",
    "mpl.rcParams['axes.spines.right'] = False\n",
    "    \n",
    "# Display and save figures at higher resolution for presentations and manuscripts.\n",
    "mpl.rcParams['savefig.dpi'] = 200\n",
    "mpl.rcParams['figure.dpi'] = 200\n",
    "\n",
    "# Display text at sizes large enough for presentations and manuscripts.\n",
    "mpl.rcParams['font.weight'] = \"normal\"\n",
    "mpl.rcParams['axes.labelweight'] = \"normal\"\n",
    "mpl.rcParams['font.size'] = 18\n",
    "mpl.rcParams['axes.labelsize'] = 14\n",
    "mpl.rcParams['legend.fontsize'] = 12\n",
    "mpl.rcParams['xtick.labelsize'] = 14\n",
    "mpl.rcParams['ytick.labelsize'] = 14\n",
    "\n",
    "mpl.rc('text', usetex=False)"
   ]
  },
  {
   "cell_type": "markdown",
   "metadata": {},
   "source": [
    "## Load data"
   ]
  },
  {
   "cell_type": "code",
   "execution_count": null,
   "metadata": {},
   "outputs": [],
   "source": [
    "validation_forecasts = pd.read_csv(\n",
    "    validation_forecasts_path,\n",
    "    sep=\"\\t\",\n",
    "    parse_dates=[\"timepoint\", \"future_timepoint\"]\n",
    ")"
   ]
  },
  {
   "cell_type": "code",
   "execution_count": null,
   "metadata": {},
   "outputs": [],
   "source": [
    "validation_forecasts = validation_forecasts.query(\"timepoint >= '%s'\" % first_validation_timepoint).dropna().copy()"
   ]
  },
  {
   "cell_type": "code",
   "execution_count": null,
   "metadata": {},
   "outputs": [],
   "source": [
    "test_forecasts = pd.read_csv(\n",
    "    test_forecasts_path,\n",
    "    sep=\"\\t\",\n",
    "    parse_dates=[\"timepoint\", \"future_timepoint\"]\n",
    ").dropna()"
   ]
  },
  {
   "cell_type": "code",
   "execution_count": null,
   "metadata": {},
   "outputs": [],
   "source": [
    "test_forecasts.head()"
   ]
  },
  {
   "cell_type": "code",
   "execution_count": null,
   "metadata": {},
   "outputs": [],
   "source": [
    "validation_forecasts.tail()"
   ]
  },
  {
   "cell_type": "code",
   "execution_count": null,
   "metadata": {},
   "outputs": [],
   "source": [
    "forecasts = pd.concat([validation_forecasts, test_forecasts])"
   ]
  },
  {
   "cell_type": "code",
   "execution_count": null,
   "metadata": {},
   "outputs": [],
   "source": [
    "forecasts.head()"
   ]
  },
  {
   "cell_type": "code",
   "execution_count": null,
   "metadata": {},
   "outputs": [],
   "source": [
    "forecasts.shape"
   ]
  },
  {
   "cell_type": "code",
   "execution_count": null,
   "metadata": {},
   "outputs": [],
   "source": [
    "validation_forecasts.shape"
   ]
  },
  {
   "cell_type": "code",
   "execution_count": null,
   "metadata": {},
   "outputs": [],
   "source": [
    "test_forecasts.shape"
   ]
  },
  {
   "cell_type": "code",
   "execution_count": null,
   "metadata": {},
   "outputs": [],
   "source": [
    "validation_forecasts.shape[0] + test_forecasts.shape[0]"
   ]
  },
  {
   "cell_type": "code",
   "execution_count": null,
   "metadata": {},
   "outputs": [],
   "source": [
    "forecasts.dropna().shape"
   ]
  },
  {
   "cell_type": "markdown",
   "metadata": {},
   "source": [
    "## Estimated and observed closest strains per timepoint"
   ]
  },
  {
   "cell_type": "code",
   "execution_count": null,
   "metadata": {},
   "outputs": [],
   "source": [
    "sorted_df = forecasts.sort_values(\n",
    "    [\"timepoint\"]\n",
    ").copy()"
   ]
  },
  {
   "cell_type": "code",
   "execution_count": null,
   "metadata": {},
   "outputs": [],
   "source": [
    "sorted_df.head()"
   ]
  },
  {
   "cell_type": "code",
   "execution_count": null,
   "metadata": {},
   "outputs": [],
   "source": [
    "validation_tips_with_sequence = pd.read_csv(\n",
    "    validation_tip_attributes_path,\n",
    "    sep=\"\\t\",\n",
    "    parse_dates=[\"timepoint\"],\n",
    "    usecols=[\"strain\", \"timepoint\", \"frequency\", \"aa_sequence\"]\n",
    ")"
   ]
  },
  {
   "cell_type": "code",
   "execution_count": null,
   "metadata": {},
   "outputs": [],
   "source": [
    "test_tips_with_sequence = pd.read_csv(\n",
    "    test_tip_attributes_path,\n",
    "    sep=\"\\t\",\n",
    "    parse_dates=[\"timepoint\"],\n",
    "    usecols=[\"strain\", \"timepoint\", \"frequency\", \"aa_sequence\"]\n",
    ")"
   ]
  },
  {
   "cell_type": "code",
   "execution_count": null,
   "metadata": {},
   "outputs": [],
   "source": [
    "validation_tips_with_sequence.shape"
   ]
  },
  {
   "cell_type": "code",
   "execution_count": null,
   "metadata": {},
   "outputs": [],
   "source": [
    "validation_tips_with_sequence = validation_tips_with_sequence[\n",
    "    validation_tips_with_sequence[\"timepoint\"].isin(validation_forecasts[\"timepoint\"])\n",
    "].copy()"
   ]
  },
  {
   "cell_type": "code",
   "execution_count": null,
   "metadata": {},
   "outputs": [],
   "source": [
    "validation_tips_with_sequence.shape"
   ]
  },
  {
   "cell_type": "code",
   "execution_count": null,
   "metadata": {},
   "outputs": [],
   "source": [
    "distinct_validation_tips_with_sequence = validation_tips_with_sequence.groupby([\"timepoint\", \"aa_sequence\"]).first().reset_index()"
   ]
  },
  {
   "cell_type": "code",
   "execution_count": null,
   "metadata": {},
   "outputs": [],
   "source": [
    "distinct_test_tips_with_sequence = test_tips_with_sequence.groupby([\"timepoint\", \"aa_sequence\"]).first().reset_index()"
   ]
  },
  {
   "cell_type": "code",
   "execution_count": null,
   "metadata": {},
   "outputs": [],
   "source": [
    "distinct_validation_tips_with_sequence.head()"
   ]
  },
  {
   "cell_type": "code",
   "execution_count": null,
   "metadata": {},
   "outputs": [],
   "source": [
    "distinct_validation_tips_with_sequence.tail()"
   ]
  },
  {
   "cell_type": "code",
   "execution_count": null,
   "metadata": {},
   "outputs": [],
   "source": [
    "distinct_test_tips_with_sequence.head()"
   ]
  },
  {
   "cell_type": "code",
   "execution_count": null,
   "metadata": {},
   "outputs": [],
   "source": [
    "distinct_test_tips_with_sequence.tail()"
   ]
  },
  {
   "cell_type": "code",
   "execution_count": null,
   "metadata": {},
   "outputs": [],
   "source": [
    "tips_with_sequence = pd.concat([validation_tips_with_sequence, test_tips_with_sequence])"
   ]
  },
  {
   "cell_type": "code",
   "execution_count": null,
   "metadata": {},
   "outputs": [],
   "source": [
    "distinct_tips_with_sequence = pd.concat([distinct_validation_tips_with_sequence, distinct_test_tips_with_sequence])"
   ]
  },
  {
   "cell_type": "code",
   "execution_count": null,
   "metadata": {},
   "outputs": [],
   "source": [
    "sorted_df = sorted_df.merge(\n",
    "    distinct_tips_with_sequence,\n",
    "    on=[\"timepoint\", \"strain\", \"frequency\"]\n",
    ")"
   ]
  },
  {
   "cell_type": "code",
   "execution_count": null,
   "metadata": {},
   "outputs": [],
   "source": [
    "sorted_df.head()"
   ]
  },
  {
   "cell_type": "code",
   "execution_count": null,
   "metadata": {},
   "outputs": [],
   "source": [
    "sorted_df.tail()"
   ]
  },
  {
   "cell_type": "code",
   "execution_count": null,
   "metadata": {},
   "outputs": [],
   "source": [
    "sorted_df[\"timepoint_rank\"] = sorted_df.groupby(\"timepoint\")[\"weighted_distance_to_future\"].rank(pct=True)\n",
    "sorted_df[\"timepoint_estimated_rank\"] = sorted_df.groupby(\"timepoint\")[\"y\"].rank(pct=True)"
   ]
  },
  {
   "cell_type": "code",
   "execution_count": null,
   "metadata": {},
   "outputs": [],
   "source": [
    "spearmanr(\n",
    "    sorted_df[\"timepoint_rank\"],\n",
    "    sorted_df[\"timepoint_estimated_rank\"]\n",
    ")"
   ]
  },
  {
   "cell_type": "code",
   "execution_count": null,
   "metadata": {},
   "outputs": [],
   "source": [
    "observed_closest_strains = sorted_df.sort_values(\n",
    "    [\"timepoint\", \"weighted_distance_to_future\"],\n",
    "    ascending=True\n",
    ").groupby(\"timepoint\").first().reset_index().loc[:, [\"timepoint\", \"strain\", \"weighted_distance_to_future\", \"aa_sequence\"]]"
   ]
  },
  {
   "cell_type": "code",
   "execution_count": null,
   "metadata": {},
   "outputs": [],
   "source": [
    "estimated_closest_strains = sorted_df.sort_values(\n",
    "    [\"timepoint\", \"y\"],\n",
    "    ascending=True\n",
    ").groupby(\"timepoint\").first().reset_index().loc[:, [\"timepoint\", \"strain\", \"weighted_distance_to_future\", \"y\", \"timepoint_rank\", \"aa_sequence\"]]"
   ]
  },
  {
   "cell_type": "code",
   "execution_count": null,
   "metadata": {},
   "outputs": [],
   "source": [
    "estimated_closest_strains.head()"
   ]
  },
  {
   "cell_type": "code",
   "execution_count": null,
   "metadata": {},
   "outputs": [],
   "source": [
    "closest_strains = observed_closest_strains.merge(\n",
    "    estimated_closest_strains,\n",
    "    on=[\"timepoint\"],\n",
    "    suffixes=[\"_observed\", \"_estimated\"]\n",
    ")"
   ]
  },
  {
   "cell_type": "code",
   "execution_count": null,
   "metadata": {},
   "outputs": [],
   "source": [
    "closest_strains.head()"
   ]
  },
  {
   "cell_type": "code",
   "execution_count": null,
   "metadata": {},
   "outputs": [],
   "source": [
    "with open(vaccines_json_path, \"r\") as fh:\n",
    "    vaccines_json = json.load(fh)"
   ]
  },
  {
   "cell_type": "code",
   "execution_count": null,
   "metadata": {},
   "outputs": [],
   "source": [
    "vaccine_df = pd.DataFrame([\n",
    "    {\n",
    "        \"vaccine_strain\": vaccine,\n",
    "        \"vaccine_timepoint\": vaccine_data[\"vaccine\"][\"timepoint\"],\n",
    "        \"aa_sequence\": vaccine_data[\"aa_sequence\"]\n",
    "    }\n",
    "    for vaccine, vaccine_data in vaccines_json[\"nodes\"].items()\n",
    "])\n",
    "vaccine_df[\"vaccine_timepoint\"] = pd.to_datetime(vaccine_df[\"vaccine_timepoint\"])\n",
    "vaccine_df[\"future_vaccine_timepoint\"] = vaccine_df[\"vaccine_timepoint\"] + pd.DateOffset(months=12)"
   ]
  },
  {
   "cell_type": "code",
   "execution_count": null,
   "metadata": {},
   "outputs": [],
   "source": [
    "vaccine_df"
   ]
  },
  {
   "cell_type": "code",
   "execution_count": null,
   "metadata": {},
   "outputs": [],
   "source": [
    "forecasts.head()"
   ]
  },
  {
   "cell_type": "code",
   "execution_count": null,
   "metadata": {},
   "outputs": [],
   "source": [
    "tips_for_vaccines_df = vaccine_df.merge(\n",
    "    tips_with_sequence,\n",
    "    left_on=[\"future_vaccine_timepoint\"],\n",
    "    right_on=[\"timepoint\"],\n",
    "    suffixes=[\"_vaccine\", \"\"]\n",
    ")"
   ]
  },
  {
   "cell_type": "code",
   "execution_count": null,
   "metadata": {},
   "outputs": [],
   "source": [
    "tips_for_vaccines_df.head()"
   ]
  },
  {
   "cell_type": "code",
   "execution_count": null,
   "metadata": {},
   "outputs": [],
   "source": [
    "def calculate_weighted_distance_between_pairs(row):\n",
    "    distance = (\n",
    "        np.frombuffer(row[\"aa_sequence_vaccine\"].encode(), dtype=\"S1\") !=\n",
    "        np.frombuffer(row[\"aa_sequence\"].encode(), dtype=\"S1\")\n",
    "    ).sum()\n",
    "    return row[\"frequency\"] * distance\n",
    "\n",
    "def calculate_weighted_distance_by_group(group_df):\n",
    "    return group_df.apply(calculate_weighted_distance_between_pairs, axis=1).sum()"
   ]
  },
  {
   "cell_type": "code",
   "execution_count": null,
   "metadata": {},
   "outputs": [],
   "source": [
    "vaccine_distance_to_future = tips_for_vaccines_df.groupby(\"vaccine_timepoint\").apply(\n",
    "    calculate_weighted_distance_by_group\n",
    ").reset_index(name=\"vaccine_distance_to_future\")"
   ]
  },
  {
   "cell_type": "code",
   "execution_count": null,
   "metadata": {},
   "outputs": [],
   "source": [
    "vaccine_forecasts = vaccine_df.merge(\n",
    "    vaccine_distance_to_future,\n",
    "    on=\"vaccine_timepoint\"\n",
    ")"
   ]
  },
  {
   "cell_type": "code",
   "execution_count": null,
   "metadata": {},
   "outputs": [],
   "source": [
    "vaccine_forecasts"
   ]
  },
  {
   "cell_type": "code",
   "execution_count": null,
   "metadata": {},
   "outputs": [],
   "source": [
    "closest_strains_with_vaccine_timepoints = closest_strains[closest_strains[\"timepoint\"].isin(vaccine_forecasts[\"vaccine_timepoint\"])]"
   ]
  },
  {
   "cell_type": "code",
   "execution_count": null,
   "metadata": {},
   "outputs": [],
   "source": [
    "vaccine_forecasts = vaccine_forecasts[vaccine_forecasts[\"vaccine_timepoint\"].isin(closest_strains_with_vaccine_timepoints[\"timepoint\"])].copy()"
   ]
  },
  {
   "cell_type": "code",
   "execution_count": null,
   "metadata": {},
   "outputs": [],
   "source": [
    "closest_strains_with_vaccine_timepoints.shape"
   ]
  },
  {
   "cell_type": "code",
   "execution_count": null,
   "metadata": {},
   "outputs": [],
   "source": [
    "vaccine_forecasts.shape"
   ]
  },
  {
   "cell_type": "code",
   "execution_count": null,
   "metadata": {},
   "outputs": [],
   "source": [
    "for index, record in vaccine_forecasts.iterrows():\n",
    "    print(record[\"vaccine_strain\"])"
   ]
  },
  {
   "cell_type": "code",
   "execution_count": null,
   "metadata": {},
   "outputs": [],
   "source": []
  },
  {
   "cell_type": "code",
   "execution_count": null,
   "metadata": {},
   "outputs": [],
   "source": [
    "max_analysis_distance_to_future = closest_strains_with_vaccine_timepoints.loc[\n",
    "    :, [\"weighted_distance_to_future_observed\", \"weighted_distance_to_future_estimated\"]\n",
    "].max().max()\n",
    "\n",
    "max_vaccine_distance_to_future = vaccine_forecasts[\"vaccine_distance_to_future\"].max()\n",
    "max_distance_to_future = max(max_analysis_distance_to_future, max_vaccine_distance_to_future)"
   ]
  },
  {
   "cell_type": "code",
   "execution_count": null,
   "metadata": {},
   "outputs": [],
   "source": [
    "distance_ticks = np.arange(int(np.ceil(max_distance_to_future)) + 2, step=2)"
   ]
  },
  {
   "cell_type": "code",
   "execution_count": null,
   "metadata": {},
   "outputs": [],
   "source": [
    "distance_ticks"
   ]
  },
  {
   "cell_type": "code",
   "execution_count": null,
   "metadata": {},
   "outputs": [],
   "source": [
    "vaccine_forecasts[\"vaccine_distance_to_future\"].max()"
   ]
  },
  {
   "cell_type": "code",
   "execution_count": null,
   "metadata": {},
   "outputs": [],
   "source": [
    "fig, ax = plt.subplots(1, 1, figsize=(8, 4))\n",
    "strain_alpha=0.5\n",
    "ax.plot(\n",
    "    closest_strains_with_vaccine_timepoints[\"timepoint\"],\n",
    "    closest_strains_with_vaccine_timepoints[\"weighted_distance_to_future_observed\"],\n",
    "    \"o-\", label=\"Observed best\", alpha=strain_alpha\n",
    ")\n",
    "ax.plot(\n",
    "    closest_strains_with_vaccine_timepoints[\"timepoint\"],\n",
    "    closest_strains_with_vaccine_timepoints[\"weighted_distance_to_future_estimated\"],\n",
    "    \"o-\", label=\"Estimated best\", alpha=strain_alpha\n",
    ")\n",
    "ax.plot(\n",
    "    vaccine_forecasts[\"vaccine_timepoint\"],\n",
    "    vaccine_forecasts[\"vaccine_distance_to_future\"],\n",
    "    \"o-\", label=\"Vaccine strain\", alpha=strain_alpha\n",
    ")\n",
    "\n",
    "for index, record in vaccine_forecasts.iterrows():\n",
    "    ax.text(\n",
    "        record[\"vaccine_timepoint\"],\n",
    "        record[\"vaccine_distance_to_future\"],\n",
    "        record[\"vaccine_strain\"],\n",
    "        fontsize=8\n",
    "    )\n",
    "\n",
    "ax.axvline(\n",
    "    validation_forecasts[\"timepoint\"].max(),\n",
    "    zorder=-10,\n",
    "    alpha=0.2,\n",
    "    color=\"#000000\",\n",
    "    linestyle=\"--\",\n",
    "    label=\"Last validation timepoint\"\n",
    ")\n",
    "\n",
    "ax.legend(\n",
    "    loc=(0.01, 0.7),\n",
    "    frameon=False\n",
    ")\n",
    "\n",
    "ax.set_yticks(distance_ticks)\n",
    "\n",
    "ax.set_xlabel(\"Date\")\n",
    "ax.set_ylabel(\"Weighted distance\\nto the future (AAs)\")\n",
    "ax.set_ylim(bottom=0)\n",
    "\n",
    "plt.tight_layout()\n",
    "plt.savefig(output_figure, bbox_inches=\"tight\")"
   ]
  },
  {
   "cell_type": "code",
   "execution_count": null,
   "metadata": {},
   "outputs": [],
   "source": [
    "vaccine_forecasts"
   ]
  },
  {
   "cell_type": "code",
   "execution_count": null,
   "metadata": {},
   "outputs": [],
   "source": [
    "merged_model_and_vaccine_df = closest_strains_with_vaccine_timepoints.merge(\n",
    "    vaccine_forecasts,\n",
    "    left_on=[\"timepoint\"],\n",
    "    right_on=[\"vaccine_timepoint\"]\n",
    ")"
   ]
  },
  {
   "cell_type": "code",
   "execution_count": null,
   "metadata": {},
   "outputs": [],
   "source": [
    "merged_model_and_vaccine_df[\"vaccine_distance_to_future\"] - merged_model_and_vaccine_df[\"weighted_distance_to_future_estimated\"]"
   ]
  },
  {
   "cell_type": "code",
   "execution_count": null,
   "metadata": {},
   "outputs": [],
   "source": []
  }
 ],
 "metadata": {
  "kernelspec": {
   "display_name": "Python 3",
   "language": "python",
   "name": "python3"
  },
  "language_info": {
   "codemirror_mode": {
    "name": "ipython",
    "version": 3
   },
   "file_extension": ".py",
   "mimetype": "text/x-python",
   "name": "python",
   "nbconvert_exporter": "python",
   "pygments_lexer": "ipython3",
   "version": "3.6.10"
  }
 },
 "nbformat": 4,
 "nbformat_minor": 4
}
