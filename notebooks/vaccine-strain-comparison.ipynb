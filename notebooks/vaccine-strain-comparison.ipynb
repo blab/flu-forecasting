{
 "cells": [
  {
   "cell_type": "markdown",
   "metadata": {},
   "outputs": [],
   "source": [
    "# Figure 8. Compare vaccine strains to estimated and observed closest strains to the future\n",
    "\n",
    "Observed distance to natural H3N2 populations one year into the future for each vaccine strain (green) and the observed (blue) and estimated (orange) closest strains to the future at the corresponding timepoints. Vaccine strains were assigned to the validation or test timepoint closest to the date they were selected by the WHO. The distance to the future of each vaccine strain was calculated from their amino acid sequences and the frequencies and sequences of the corresponding population one year in the future. The estimated closest strain to the future was identified by either the best model in the validation period (mutational load and LBI) or the best model in the test period\n",
    "(HI antigenic novelty and mutational load)."
   ]
  },
  {
   "cell_type": "code",
   "execution_count": null,
   "metadata": {},
   "outputs": [],
   "source": [
    "validation_tip_attributes_path = snakemake.input.validation_tip_attributes\n",
    "test_tip_attributes_path = snakemake.input.test_tip_attributes\n",
    "\n",
    "cTiter_x_ne_star_validation_forecasts_path = snakemake.input.cTiter_x_ne_star_validation_forecasts_path\n",
    "ne_star_lbi_validation_forecasts_path = snakemake.input.ne_star_lbi_validation_forecasts_path\n",
    "naive_validation_forecasts_path = snakemake.input.naive_validation_forecasts_path\n",
    "\n",
    "cTiter_x_ne_star_test_forecasts_path = snakemake.input.cTiter_x_ne_star_test_forecasts_path\n",
    "ne_star_lbi_test_forecasts_path = snakemake.input.ne_star_lbi_test_forecasts_path\n",
    "naive_test_forecasts_path = snakemake.input.naive_test_forecasts_path\n",
    "\n",
    "vaccines_json_path = snakemake.input.vaccines_json_path\n",
    "titers_path = snakemake.input.titers\n",
    "\n",
    "output_figure = snakemake.output.figure\n",
    "output_relative_figure = snakemake.output.relative_figure\n",
    "output_source_data = snakemake.output.source_data"
   ]
  },
  {
   "cell_type": "code",
   "execution_count": null,
   "metadata": {},
   "outputs": [],
   "source": [
    "\"\"\"\n",
    "validation_tip_attributes_path = \"../results/builds/natural/natural_sample_1_with_90_vpm_sliding/tip_attributes_with_weighted_distances.tsv\"\n",
    "validation_forecasts_path = \"../results/builds/natural/natural_sample_1_with_90_vpm_sliding/forecasts.tsv\"\n",
    "\n",
    "test_tip_attributes_path = \"../results/builds/natural/natural_sample_1_with_90_vpm_sliding_test_tree/tip_attributes_with_weighted_distances.tsv\"\n",
    "test_forecasts_path = \"../results/builds/natural/natural_sample_1_with_90_vpm_sliding_test_tree/forecasts.tsv\"\n",
    "\n",
    "vaccines_json_path = \"../config/vaccines_h3n2.json\"\n",
    "\n",
    "output_figure = \"../manuscript/figures/vaccine-comparison.pdf\"\n",
    "\"\"\""
   ]
  },
  {
   "cell_type": "code",
   "execution_count": null,
   "metadata": {},
   "outputs": [],
   "source": [
    "from augur.titer_model import TiterCollection\n",
    "import json\n",
    "import matplotlib as mpl\n",
    "import matplotlib.pyplot as plt\n",
    "import matplotlib.gridspec as gridspec\n",
    "import numpy as np\n",
    "import pandas as pd\n",
    "from pandas.plotting import register_matplotlib_converters\n",
    "from scipy.stats import pearsonr, spearmanr, probplot\n",
    "import seaborn as sns\n",
    "import statsmodels.api as sm\n",
    "\n",
    "%matplotlib inline"
   ]
  },
  {
   "cell_type": "code",
   "execution_count": null,
   "metadata": {},
   "outputs": [],
   "source": [
    "register_matplotlib_converters()"
   ]
  },
  {
   "cell_type": "code",
   "execution_count": null,
   "metadata": {},
   "outputs": [],
   "source": [
    "first_validation_timepoint = \"2003-10-01\""
   ]
  },
  {
   "cell_type": "code",
   "execution_count": null,
   "metadata": {},
   "outputs": [],
   "source": [
    "sns.set_style(\"ticks\")"
   ]
  },
  {
   "cell_type": "code",
   "execution_count": null,
   "metadata": {},
   "outputs": [],
   "source": [
    "# Display figures at a reasonable default size.\n",
    "mpl.rcParams['figure.figsize'] = (6, 4)\n",
    "\n",
    "# Disable top and right spines.\n",
    "mpl.rcParams['axes.spines.top'] = False\n",
    "mpl.rcParams['axes.spines.right'] = False\n",
    "    \n",
    "# Display and save figures at higher resolution for presentations and manuscripts.\n",
    "mpl.rcParams['savefig.dpi'] = 200\n",
    "mpl.rcParams['figure.dpi'] = 200\n",
    "\n",
    "# Display text at sizes large enough for presentations and manuscripts.\n",
    "mpl.rcParams['font.weight'] = \"normal\"\n",
    "mpl.rcParams['axes.labelweight'] = \"normal\"\n",
    "mpl.rcParams['font.size'] = 18\n",
    "mpl.rcParams['axes.labelsize'] = 14\n",
    "mpl.rcParams['legend.fontsize'] = 12\n",
    "mpl.rcParams['xtick.labelsize'] = 14\n",
    "mpl.rcParams['ytick.labelsize'] = 14\n",
    "\n",
    "mpl.rc('text', usetex=False)"
   ]
  },
  {
   "cell_type": "markdown",
   "metadata": {},
   "outputs": [],
   "source": [
    "## Define functions"
   ]
  },
  {
   "cell_type": "code",
   "execution_count": null,
   "metadata": {},
   "outputs": [],
   "source": [
    "def calculate_pairwise_distance(sequence_1, sequence_2):\n",
    "    return (\n",
    "        np.frombuffer(sequence_1.encode(), dtype=\"S1\") !=\n",
    "        np.frombuffer(sequence_2.encode(), dtype=\"S1\")\n",
    "    ).sum()\n",
    "    \n",
    "def calculate_weighted_distance_between_pairs(row):\n",
    "    distance = calculate_pairwise_distance(\n",
    "        row[\"aa_sequence\"],\n",
    "        row[\"aa_sequence_future\"]\n",
    "    )\n",
    "    return row[\"frequency\"] * distance\n",
    "\n",
    "def calculate_weighted_distance_by_group(group_df):\n",
    "    return group_df.apply(calculate_weighted_distance_between_pairs, axis=1).sum()"
   ]
  },
  {
   "cell_type": "markdown",
   "metadata": {},
   "outputs": [],
   "source": [
    "## Load tip attributes with sequences\n",
    "\n",
    "For each timepoint, find distinct sequences that will be used to calculate distances to the future."
   ]
  },
  {
   "cell_type": "code",
   "execution_count": null,
   "metadata": {},
   "outputs": [],
   "source": [
    "validation_tips_with_sequence = pd.read_csv(\n",
    "    validation_tip_attributes_path,\n",
    "    sep=\"\\t\",\n",
    "    parse_dates=[\"timepoint\"],\n",
    "    usecols=[\"strain\", \"timepoint\", \"frequency\", \"aa_sequence\"]\n",
    ")"
   ]
  },
  {
   "cell_type": "code",
   "execution_count": null,
   "metadata": {},
   "outputs": [],
   "source": [
    "test_tips_with_sequence = pd.read_csv(\n",
    "    test_tip_attributes_path,\n",
    "    sep=\"\\t\",\n",
    "    parse_dates=[\"timepoint\"],\n",
    "    usecols=[\"strain\", \"timepoint\", \"frequency\", \"aa_sequence\"]\n",
    ")"
   ]
  },
  {
   "cell_type": "code",
   "execution_count": null,
   "metadata": {},
   "outputs": [],
   "source": [
    "# Retain only validation tips whose timepoints occur prior to the first\n",
    "# test timepoint. This prevents us from using too many tips from overlapping\n",
    "# timepoints between validation and test periods.\n",
    "validation_tips_with_sequence = validation_tips_with_sequence[\n",
    "    (validation_tips_with_sequence[\"timepoint\"] < test_tips_with_sequence[\"timepoint\"].min()) &\n",
    "    (validation_tips_with_sequence[\"timepoint\"] >= first_validation_timepoint)\n",
    "].copy()"
   ]
  },
  {
   "cell_type": "code",
   "execution_count": null,
   "metadata": {},
   "outputs": [],
   "source": [
    "last_validation_timepoint = validation_tips_with_sequence[\"timepoint\"].max()"
   ]
  },
  {
   "cell_type": "code",
   "execution_count": null,
   "metadata": {},
   "outputs": [],
   "source": [
    "last_validation_timepoint"
   ]
  },
  {
   "cell_type": "code",
   "execution_count": null,
   "metadata": {},
   "outputs": [],
   "source": [
    "distinct_validation_tips_with_sequence = validation_tips_with_sequence.groupby(\n",
    "    [\"timepoint\", \"aa_sequence\"]\n",
    ").first().reset_index()"
   ]
  },
  {
   "cell_type": "code",
   "execution_count": null,
   "metadata": {},
   "outputs": [],
   "source": [
    "distinct_test_tips_with_sequence = test_tips_with_sequence.groupby(\n",
    "    [\"timepoint\", \"aa_sequence\"]\n",
    ").first().reset_index()"
   ]
  },
  {
   "cell_type": "code",
   "execution_count": null,
   "metadata": {},
   "outputs": [],
   "source": [
    "tips_with_sequence = pd.concat([validation_tips_with_sequence, test_tips_with_sequence])"
   ]
  },
  {
   "cell_type": "code",
   "execution_count": null,
   "metadata": {},
   "outputs": [],
   "source": [
    "distinct_tips_with_sequence = pd.concat([distinct_validation_tips_with_sequence, distinct_test_tips_with_sequence])"
   ]
  },
  {
   "cell_type": "markdown",
   "metadata": {},
   "outputs": [],
   "source": [
    "## Load vaccine strain data\n",
    "\n",
    "Load information about vaccine strains including their names, amino acid sequences, and the timepoint in our analysis when they were selected for the vaccine. These latter timepoints constrain the timepoints we consider in the analyses that follow."
   ]
  },
  {
   "cell_type": "code",
   "execution_count": null,
   "metadata": {},
   "outputs": [],
   "source": [
    "with open(vaccines_json_path, \"r\") as fh:\n",
    "    vaccines_json = json.load(fh)"
   ]
  },
  {
   "cell_type": "code",
   "execution_count": null,
   "metadata": {},
   "outputs": [],
   "source": [
    "vaccine_df = pd.DataFrame([\n",
    "    {\n",
    "        \"strain_type\": \"vaccine\",\n",
    "        \"strain\": vaccine,\n",
    "        \"timepoint\": vaccine_data[\"vaccine\"][\"timepoint\"],\n",
    "        \"aa_sequence\": vaccine_data[\"aa_sequence\"],\n",
    "        \"abbreviation\": vaccine_data[\"vaccine\"][\"abbreviation\"]\n",
    "    }\n",
    "    for vaccine, vaccine_data in vaccines_json[\"nodes\"].items()\n",
    "])\n",
    "vaccine_df[\"timepoint\"] = pd.to_datetime(vaccine_df[\"timepoint\"])\n",
    "vaccine_df[\"future_timepoint\"] = vaccine_df[\"timepoint\"] + pd.DateOffset(months=12)"
   ]
  },
  {
   "cell_type": "code",
   "execution_count": null,
   "metadata": {},
   "outputs": [],
   "source": [
    "# Find all tips with sequences at the future timepoint for each vaccine strain.\n",
    "tips_for_vaccines_df = vaccine_df.merge(\n",
    "    tips_with_sequence,\n",
    "    left_on=[\"future_timepoint\"],\n",
    "    right_on=[\"timepoint\"],\n",
    "    suffixes=[\"\", \"_future\"]\n",
    ")"
   ]
  },
  {
   "cell_type": "code",
   "execution_count": null,
   "metadata": {},
   "outputs": [],
   "source": [
    "vaccine_distance_to_future = tips_for_vaccines_df.groupby(\"timepoint\").apply(\n",
    "    calculate_weighted_distance_by_group\n",
    ").reset_index(name=\"distance_to_future\")"
   ]
  },
  {
   "cell_type": "code",
   "execution_count": null,
   "metadata": {},
   "outputs": [],
   "source": [
    "vaccine_forecasts = vaccine_df.merge(\n",
    "    vaccine_distance_to_future,\n",
    "    on=\"timepoint\"\n",
    ").loc[:, [\"strain_type\", \"strain\", \"abbreviation\", \"timepoint\", \"future_timepoint\", \"distance_to_future\", \"aa_sequence\"]]"
   ]
  },
  {
   "cell_type": "code",
   "execution_count": null,
   "metadata": {},
   "outputs": [],
   "source": [
    "vaccine_forecasts"
   ]
  },
  {
   "cell_type": "code",
   "execution_count": null,
   "metadata": {},
   "outputs": [],
   "source": [
    "vaccine_strains = vaccine_forecasts[\"strain\"].values"
   ]
  },
  {
   "cell_type": "code",
   "execution_count": null,
   "metadata": {},
   "outputs": [],
   "source": [
    "vaccine_strains"
   ]
  },
  {
   "cell_type": "markdown",
   "metadata": {},
   "outputs": [],
   "source": [
    "## Load titer data"
   ]
  },
  {
   "cell_type": "code",
   "execution_count": null,
   "metadata": {},
   "outputs": [],
   "source": [
    "titers, titer_strains, titer_sources = TiterCollection.load_from_file(titers_path)"
   ]
  },
  {
   "cell_type": "code",
   "execution_count": null,
   "metadata": {},
   "outputs": [],
   "source": [
    "vaccine_titers = TiterCollection.filter_strains(titers, vaccine_strains)"
   ]
  },
  {
   "cell_type": "code",
   "execution_count": null,
   "metadata": {},
   "outputs": [],
   "source": [
    "titer_collection = TiterCollection(titers)"
   ]
  },
  {
   "cell_type": "code",
   "execution_count": null,
   "metadata": {},
   "outputs": [],
   "source": [
    "titer_collection.normalize_titers()"
   ]
  },
  {
   "cell_type": "code",
   "execution_count": null,
   "metadata": {},
   "outputs": [],
   "source": [
    "len(titer_collection.titers_normalized)"
   ]
  },
  {
   "cell_type": "code",
   "execution_count": null,
   "metadata": {},
   "outputs": [],
   "source": [
    "records = []\n",
    "for key, log2_titer in titer_collection.titers_normalized.items():\n",
    "    if key[1][0] in vaccine_strains:\n",
    "        records.append({\n",
    "            \"reference\": key[1][0],\n",
    "            \"virus\": key[0],\n",
    "            \"log2_titer\": log2_titer\n",
    "        })"
   ]
  },
  {
   "cell_type": "code",
   "execution_count": null,
   "metadata": {},
   "outputs": [],
   "source": [
    "len(records)"
   ]
  },
  {
   "cell_type": "code",
   "execution_count": null,
   "metadata": {},
   "outputs": [],
   "source": [
    "titers_df = pd.DataFrame(records)"
   ]
  },
  {
   "cell_type": "code",
   "execution_count": null,
   "metadata": {},
   "outputs": [],
   "source": [
    "titers_df[\"reference\"].value_counts()"
   ]
  },
  {
   "cell_type": "markdown",
   "metadata": {},
   "outputs": [],
   "source": [
    "## Load forecasts from models"
   ]
  },
  {
   "cell_type": "markdown",
   "metadata": {},
   "outputs": [],
   "source": [
    "### Load forecasts from mutational load and LBI model"
   ]
  },
  {
   "cell_type": "code",
   "execution_count": null,
   "metadata": {},
   "outputs": [],
   "source": [
    "ne_star_lbi_validation_forecasts = pd.read_csv(\n",
    "    ne_star_lbi_validation_forecasts_path,\n",
    "    sep=\"\\t\",\n",
    "    parse_dates=[\"timepoint\", \"future_timepoint\"]\n",
    ")"
   ]
  },
  {
   "cell_type": "code",
   "execution_count": null,
   "metadata": {},
   "outputs": [],
   "source": [
    "ne_star_lbi_validation_forecasts = ne_star_lbi_validation_forecasts.query(\n",
    "    \"timepoint >= '%s'\" % first_validation_timepoint\n",
    ").dropna().copy()"
   ]
  },
  {
   "cell_type": "code",
   "execution_count": null,
   "metadata": {},
   "outputs": [],
   "source": [
    "ne_star_lbi_test_forecasts = pd.read_csv(\n",
    "    ne_star_lbi_test_forecasts_path,\n",
    "    sep=\"\\t\",\n",
    "    parse_dates=[\"timepoint\", \"future_timepoint\"]\n",
    ").dropna()"
   ]
  },
  {
   "cell_type": "code",
   "execution_count": null,
   "metadata": {},
   "outputs": [],
   "source": [
    "ne_star_lbi_forecasts = pd.concat([\n",
    "    ne_star_lbi_validation_forecasts,\n",
    "    ne_star_lbi_test_forecasts\n",
    "])\n",
    "ne_star_lbi_forecasts = ne_star_lbi_forecasts[\n",
    "    ne_star_lbi_forecasts[\"timepoint\"].isin(vaccine_forecasts[\"timepoint\"])\n",
    "].copy()"
   ]
  },
  {
   "cell_type": "markdown",
   "metadata": {},
   "outputs": [],
   "source": [
    "### Load forecasts from HI antigenic novelty and mutational load model"
   ]
  },
  {
   "cell_type": "code",
   "execution_count": null,
   "metadata": {},
   "outputs": [],
   "source": [
    "cTiter_x_ne_star_validation_forecasts = pd.read_csv(\n",
    "    cTiter_x_ne_star_validation_forecasts_path,\n",
    "    sep=\"\\t\",\n",
    "    parse_dates=[\"timepoint\", \"future_timepoint\"]\n",
    ")"
   ]
  },
  {
   "cell_type": "code",
   "execution_count": null,
   "metadata": {},
   "outputs": [],
   "source": [
    "cTiter_x_ne_star_validation_forecasts = cTiter_x_ne_star_validation_forecasts.query(\n",
    "    \"timepoint >= '%s'\" % first_validation_timepoint\n",
    ").dropna().copy()"
   ]
  },
  {
   "cell_type": "code",
   "execution_count": null,
   "metadata": {},
   "outputs": [],
   "source": [
    "cTiter_x_ne_star_test_forecasts = pd.read_csv(\n",
    "    cTiter_x_ne_star_test_forecasts_path,\n",
    "    sep=\"\\t\",\n",
    "    parse_dates=[\"timepoint\", \"future_timepoint\"]\n",
    ").dropna()"
   ]
  },
  {
   "cell_type": "code",
   "execution_count": null,
   "metadata": {},
   "outputs": [],
   "source": [
    "cTiter_x_ne_star_forecasts = pd.concat([\n",
    "    cTiter_x_ne_star_validation_forecasts,\n",
    "    cTiter_x_ne_star_test_forecasts\n",
    "])\n",
    "cTiter_x_ne_star_forecasts = cTiter_x_ne_star_forecasts[\n",
    "    cTiter_x_ne_star_forecasts[\"timepoint\"].isin(vaccine_forecasts[\"timepoint\"])\n",
    "].copy()"
   ]
  },
  {
   "cell_type": "markdown",
   "metadata": {},
   "outputs": [],
   "source": [
    "### Load forecasts from naive model"
   ]
  },
  {
   "cell_type": "code",
   "execution_count": null,
   "metadata": {},
   "outputs": [],
   "source": [
    "naive_validation_forecasts = pd.read_csv(\n",
    "    naive_validation_forecasts_path,\n",
    "    sep=\"\\t\",\n",
    "    parse_dates=[\"timepoint\", \"future_timepoint\"]\n",
    ")"
   ]
  },
  {
   "cell_type": "code",
   "execution_count": null,
   "metadata": {},
   "outputs": [],
   "source": [
    "naive_validation_forecasts = naive_validation_forecasts.query(\n",
    "    \"timepoint >= '%s'\" % first_validation_timepoint\n",
    ").dropna().copy()"
   ]
  },
  {
   "cell_type": "code",
   "execution_count": null,
   "metadata": {},
   "outputs": [],
   "source": [
    "naive_test_forecasts = pd.read_csv(\n",
    "    naive_test_forecasts_path,\n",
    "    sep=\"\\t\",\n",
    "    parse_dates=[\"timepoint\", \"future_timepoint\"]\n",
    ").dropna()"
   ]
  },
  {
   "cell_type": "code",
   "execution_count": null,
   "metadata": {},
   "outputs": [],
   "source": [
    "naive_forecasts = pd.concat([\n",
    "    naive_validation_forecasts,\n",
    "    naive_test_forecasts\n",
    "])\n",
    "naive_forecasts = naive_forecasts[\n",
    "    naive_forecasts[\"timepoint\"].isin(vaccine_forecasts[\"timepoint\"])\n",
    "].copy()"
   ]
  },
  {
   "cell_type": "markdown",
   "metadata": {},
   "outputs": [],
   "source": [
    "## Identify observed closest strains to the future\n",
    "\n",
    "Use strains from forecast models with annotated weighted distances to the future to find observed closest strains to the future per timepoint with a vaccine."
   ]
  },
  {
   "cell_type": "code",
   "execution_count": null,
   "metadata": {},
   "outputs": [],
   "source": [
    "combined_forecasts = pd.concat([\n",
    "    ne_star_lbi_forecasts,\n",
    "    cTiter_x_ne_star_forecasts\n",
    "])"
   ]
  },
  {
   "cell_type": "code",
   "execution_count": null,
   "metadata": {},
   "outputs": [],
   "source": [
    "observed_closest_strains = combined_forecasts.sort_values([\"timepoint\", \"weighted_distance_to_future\"]).groupby(\n",
    "    \"timepoint\"\n",
    ").first().reset_index().loc[:, [\"timepoint\", \"future_timepoint\", \"strain\", \"weighted_distance_to_future\"]]\n",
    "observed_closest_strains[\"strain_type\"] = \"observed closest\"\n",
    "observed_closest_strains = observed_closest_strains.rename(\n",
    "    columns={\"weighted_distance_to_future\": \"distance_to_future\"}\n",
    ")"
   ]
  },
  {
   "cell_type": "code",
   "execution_count": null,
   "metadata": {},
   "outputs": [],
   "source": [
    "observed_closest_strains[\"relative_distance_to_future\"] = (\n",
    "    observed_closest_strains[\"distance_to_future\"] - vaccine_forecasts[\"distance_to_future\"]\n",
    ")"
   ]
  },
  {
   "cell_type": "code",
   "execution_count": null,
   "metadata": {},
   "outputs": [],
   "source": [
    "observed_closest_strains"
   ]
  },
  {
   "cell_type": "markdown",
   "metadata": {},
   "outputs": [],
   "source": [
    "## Identify estimated closest strains to the future by model\n",
    "\n",
    "Use strains from forecast models with annotated weighted distances to the future to find estimated closest strains to the future per timepoint with a vaccine."
   ]
  },
  {
   "cell_type": "markdown",
   "metadata": {},
   "outputs": [],
   "source": [
    "### Identify estimated closest strains to the future by mutational load and LBI"
   ]
  },
  {
   "cell_type": "code",
   "execution_count": null,
   "metadata": {},
   "outputs": [],
   "source": [
    "estimated_closest_strains_by_ne_star_lbi = ne_star_lbi_forecasts.sort_values(\n",
    "    [\"timepoint\", \"y\"]\n",
    ").groupby(\n",
    "    \"timepoint\"\n",
    ").first().reset_index().loc[:, [\"timepoint\", \"future_timepoint\", \"strain\", \"weighted_distance_to_future\"]]\n",
    "estimated_closest_strains_by_ne_star_lbi[\"strain_type\"] = \"estimated closest by ne_star-lbi\"\n",
    "estimated_closest_strains_by_ne_star_lbi = estimated_closest_strains_by_ne_star_lbi.rename(\n",
    "    columns={\"weighted_distance_to_future\": \"distance_to_future\"}\n",
    ")"
   ]
  },
  {
   "cell_type": "code",
   "execution_count": null,
   "metadata": {},
   "outputs": [],
   "source": [
    "estimated_closest_strains_by_ne_star_lbi[\"relative_distance_to_future\"] = (\n",
    "    estimated_closest_strains_by_ne_star_lbi[\"distance_to_future\"] - vaccine_forecasts[\"distance_to_future\"]\n",
    ")"
   ]
  },
  {
   "cell_type": "code",
   "execution_count": null,
   "metadata": {},
   "outputs": [],
   "source": [
    "estimated_closest_strains_by_ne_star_lbi"
   ]
  },
  {
   "cell_type": "markdown",
   "metadata": {},
   "outputs": [],
   "source": [
    "### Identify estimated closest strains to the future by HI antigenic novelty and mutational load"
   ]
  },
  {
   "cell_type": "code",
   "execution_count": null,
   "metadata": {},
   "outputs": [],
   "source": [
    "estimated_closest_strains_by_cTiter_x_ne_star = cTiter_x_ne_star_forecasts.sort_values(\n",
    "    [\"timepoint\", \"y\"]\n",
    ").groupby(\n",
    "    \"timepoint\"\n",
    ").first().reset_index().loc[:, [\"timepoint\", \"future_timepoint\", \"strain\", \"weighted_distance_to_future\"]]\n",
    "estimated_closest_strains_by_cTiter_x_ne_star[\"strain_type\"] = \"estimated closest by cTiter_x-ne_star\"\n",
    "estimated_closest_strains_by_cTiter_x_ne_star = estimated_closest_strains_by_cTiter_x_ne_star.rename(\n",
    "    columns={\"weighted_distance_to_future\": \"distance_to_future\"}\n",
    ")"
   ]
  },
  {
   "cell_type": "code",
   "execution_count": null,
   "metadata": {},
   "outputs": [],
   "source": [
    "estimated_closest_strains_by_cTiter_x_ne_star[\"relative_distance_to_future\"] = (\n",
    "    estimated_closest_strains_by_cTiter_x_ne_star[\"distance_to_future\"] - vaccine_forecasts[\"distance_to_future\"]\n",
    ")"
   ]
  },
  {
   "cell_type": "code",
   "execution_count": null,
   "metadata": {},
   "outputs": [],
   "source": [
    "estimated_closest_strains_by_cTiter_x_ne_star"
   ]
  },
  {
   "cell_type": "markdown",
   "metadata": {},
   "outputs": [],
   "source": [
    "### Identify estimated closest strains to the future by naive model"
   ]
  },
  {
   "cell_type": "code",
   "execution_count": null,
   "metadata": {},
   "outputs": [],
   "source": [
    "estimated_closest_strains_by_naive = naive_forecasts.sort_values(\n",
    "    [\"timepoint\", \"y\"]\n",
    ").groupby(\n",
    "    \"timepoint\"\n",
    ").first().reset_index().loc[:, [\"timepoint\", \"future_timepoint\", \"strain\", \"weighted_distance_to_future\"]]\n",
    "estimated_closest_strains_by_naive[\"strain_type\"] = \"estimated closest by naive\"\n",
    "estimated_closest_strains_by_naive = estimated_closest_strains_by_naive.rename(\n",
    "    columns={\"weighted_distance_to_future\": \"distance_to_future\"}\n",
    ")"
   ]
  },
  {
   "cell_type": "code",
   "execution_count": null,
   "metadata": {},
   "outputs": [],
   "source": [
    "estimated_closest_strains_by_naive[\"relative_distance_to_future\"] = (\n",
    "    estimated_closest_strains_by_naive[\"distance_to_future\"] - vaccine_forecasts[\"distance_to_future\"]\n",
    ")"
   ]
  },
  {
   "cell_type": "code",
   "execution_count": null,
   "metadata": {},
   "outputs": [],
   "source": [
    "estimated_closest_strains_by_naive"
   ]
  },
  {
   "cell_type": "markdown",
   "metadata": {},
   "outputs": [],
   "source": [
    "## Plot distance to the future by timepoint and strain type\n",
    "\n",
    "Compare distances to the future for selected vaccine strains and the observed and estimated closest strains to the future."
   ]
  },
  {
   "cell_type": "code",
   "execution_count": null,
   "metadata": {},
   "outputs": [],
   "source": [
    "colors_by_strain_type = {\n",
    "    \"vaccine strain\": \"#2ca02c\",\n",
    "    \"observed best\": \"#1f77b4\",\n",
    "    \"estimated best by ne_star-lbi\": \"#ff7f0e\",\n",
    "    \"estimated best by cTiter_x-ne_star\": \"#9467bd\",\n",
    "    \"estimated best by naive\": \"#000000\",\n",
    "}"
   ]
  },
  {
   "cell_type": "markdown",
   "metadata": {},
   "outputs": [],
   "source": [
    "Split data frames into validation and test periods."
   ]
  },
  {
   "cell_type": "code",
   "execution_count": null,
   "metadata": {},
   "outputs": [],
   "source": [
    "observed_closest_strains_for_validation = observed_closest_strains[\n",
    "    observed_closest_strains[\"timepoint\"] <= last_validation_timepoint\n",
    "]\n",
    "estimated_closest_strains_by_cTiter_x_ne_star_for_validation = estimated_closest_strains_by_cTiter_x_ne_star[\n",
    "    estimated_closest_strains_by_cTiter_x_ne_star[\"timepoint\"] <= last_validation_timepoint\n",
    "]\n",
    "estimated_closest_strains_by_ne_star_lbi_for_validation = estimated_closest_strains_by_ne_star_lbi[\n",
    "    estimated_closest_strains_by_ne_star_lbi[\"timepoint\"] <= last_validation_timepoint\n",
    "]\n",
    "estimated_closest_strains_by_naive_for_validation = estimated_closest_strains_by_naive[\n",
    "    estimated_closest_strains_by_naive[\"timepoint\"] <= last_validation_timepoint\n",
    "]\n",
    "vaccine_forecasts_for_validation = vaccine_forecasts[\n",
    "    vaccine_forecasts[\"timepoint\"] <= last_validation_timepoint\n",
    "]"
   ]
  },
  {
   "cell_type": "code",
   "execution_count": null,
   "metadata": {},
   "outputs": [],
   "source": [
    "observed_closest_strains_for_test = observed_closest_strains[\n",
    "    observed_closest_strains[\"timepoint\"] > last_validation_timepoint\n",
    "]\n",
    "estimated_closest_strains_by_cTiter_x_ne_star_for_test = estimated_closest_strains_by_cTiter_x_ne_star[\n",
    "    estimated_closest_strains_by_cTiter_x_ne_star[\"timepoint\"] > last_validation_timepoint\n",
    "]\n",
    "estimated_closest_strains_by_ne_star_lbi_for_test = estimated_closest_strains_by_ne_star_lbi[\n",
    "    estimated_closest_strains_by_ne_star_lbi[\"timepoint\"] > last_validation_timepoint\n",
    "]\n",
    "estimated_closest_strains_by_naive_for_test = estimated_closest_strains_by_naive[\n",
    "    estimated_closest_strains_by_naive[\"timepoint\"] > last_validation_timepoint\n",
    "]\n",
    "vaccine_forecasts_for_test = vaccine_forecasts[\n",
    "    vaccine_forecasts[\"timepoint\"] > last_validation_timepoint\n",
    "]"
   ]
  },
  {
   "cell_type": "code",
   "execution_count": null,
   "metadata": {},
   "outputs": [],
   "source": [
    "max_distance_to_future = max(\n",
    "    observed_closest_strains[\"distance_to_future\"].max(),\n",
    "    estimated_closest_strains_by_ne_star_lbi[\"distance_to_future\"].max(),\n",
    "    estimated_closest_strains_by_cTiter_x_ne_star[\"distance_to_future\"].max(),\n",
    "    estimated_closest_strains_by_naive[\"distance_to_future\"].max(),\n",
    "    vaccine_forecasts[\"distance_to_future\"].max()\n",
    ")"
   ]
  },
  {
   "cell_type": "code",
   "execution_count": null,
   "metadata": {},
   "outputs": [],
   "source": [
    "max_distance_to_future"
   ]
  },
  {
   "cell_type": "code",
   "execution_count": null,
   "metadata": {},
   "outputs": [],
   "source": [
    "distance_ticks = np.arange(int(np.ceil(max_distance_to_future)) + 2, step=2)"
   ]
  },
  {
   "cell_type": "code",
   "execution_count": null,
   "metadata": {},
   "outputs": [],
   "source": [
    "fig, ax = plt.subplots(1, 1, figsize=(8, 3.5))\n",
    "#ax = axes[0]\n",
    "\n",
    "strain_alpha=0.5\n",
    "\n",
    "# Plot validation results.\n",
    "ax.plot(\n",
    "    estimated_closest_strains_by_naive_for_validation[\"timepoint\"],\n",
    "    estimated_closest_strains_by_naive_for_validation[\"distance_to_future\"],\n",
    "    \"o-\",\n",
    "    color=colors_by_strain_type[\"estimated best by naive\"],\n",
    "    alpha=strain_alpha,\n",
    "    label=\"estimated best by naive\"\n",
    ")\n",
    "\n",
    "ax.plot(\n",
    "    estimated_closest_strains_by_cTiter_x_ne_star_for_validation[\"timepoint\"],\n",
    "    estimated_closest_strains_by_cTiter_x_ne_star_for_validation[\"distance_to_future\"],\n",
    "    \"o-\",\n",
    "    color=colors_by_strain_type[\"estimated best by cTiter_x-ne_star\"],\n",
    "    alpha=strain_alpha,\n",
    "    label=\"estimated best by HI + mutational load\"\n",
    ")\n",
    "\n",
    "ax.plot(\n",
    "    estimated_closest_strains_by_ne_star_lbi_for_validation[\"timepoint\"],\n",
    "    estimated_closest_strains_by_ne_star_lbi_for_validation[\"distance_to_future\"],\n",
    "    \"o-\",\n",
    "    color=colors_by_strain_type[\"estimated best by ne_star-lbi\"],\n",
    "    alpha=strain_alpha,\n",
    "    label=\"estimated best by mutational load + LBI\"\n",
    ")\n",
    "\n",
    "ax.plot(\n",
    "    observed_closest_strains_for_validation[\"timepoint\"],\n",
    "    observed_closest_strains_for_validation[\"distance_to_future\"],\n",
    "    \"o-\",\n",
    "    color=colors_by_strain_type[\"observed best\"],\n",
    "    alpha=strain_alpha,\n",
    "    label=\"observed best\"\n",
    ")\n",
    "\n",
    "ax.plot(\n",
    "    vaccine_forecasts_for_validation[\"timepoint\"],\n",
    "    vaccine_forecasts_for_validation[\"distance_to_future\"],\n",
    "    \"o-\",\n",
    "    color=colors_by_strain_type[\"vaccine strain\"],\n",
    "    alpha=strain_alpha,\n",
    "    label=\"vaccine strain\"\n",
    ")\n",
    "\n",
    "# Plot test results.\n",
    "ax.plot(\n",
    "    estimated_closest_strains_by_naive_for_test[\"timepoint\"],\n",
    "    estimated_closest_strains_by_naive_for_test[\"distance_to_future\"],\n",
    "    \"o-\",\n",
    "    color=colors_by_strain_type[\"estimated best by naive\"],\n",
    "    alpha=strain_alpha\n",
    ")\n",
    "\n",
    "ax.plot(\n",
    "    estimated_closest_strains_by_cTiter_x_ne_star_for_test[\"timepoint\"],\n",
    "    estimated_closest_strains_by_cTiter_x_ne_star_for_test[\"distance_to_future\"],\n",
    "    \"o-\",\n",
    "    color=colors_by_strain_type[\"estimated best by cTiter_x-ne_star\"],\n",
    "    alpha=strain_alpha\n",
    ")\n",
    "\n",
    "ax.plot(\n",
    "    estimated_closest_strains_by_ne_star_lbi_for_test[\"timepoint\"],\n",
    "    estimated_closest_strains_by_ne_star_lbi_for_test[\"distance_to_future\"],\n",
    "    \"o-\",\n",
    "    color=colors_by_strain_type[\"estimated best by ne_star-lbi\"],\n",
    "    alpha=strain_alpha\n",
    ")\n",
    "\n",
    "ax.plot(\n",
    "    observed_closest_strains_for_test[\"timepoint\"],\n",
    "    observed_closest_strains_for_test[\"distance_to_future\"],\n",
    "    \"o-\",\n",
    "    color=colors_by_strain_type[\"observed best\"],\n",
    "    alpha=strain_alpha\n",
    ")\n",
    "\n",
    "ax.plot(\n",
    "    vaccine_forecasts_for_test[\"timepoint\"],\n",
    "    vaccine_forecasts_for_test[\"distance_to_future\"],\n",
    "    \"o-\",\n",
    "    color=colors_by_strain_type[\"vaccine strain\"],\n",
    "    alpha=strain_alpha\n",
    ")\n",
    "\n",
    "for index, record in vaccine_forecasts.iterrows():\n",
    "    ax.text(\n",
    "        record[\"timepoint\"],\n",
    "        record[\"distance_to_future\"] + 0.3,\n",
    "        record[\"abbreviation\"],\n",
    "        fontsize=10,\n",
    "        horizontalalignment=\"center\"\n",
    "    )\n",
    "\n",
    "ax.axvline(\n",
    "    last_validation_timepoint + pd.Timedelta(days=35),\n",
    "    ymax=0.75,\n",
    "    zorder=-10,\n",
    "    alpha=0.2,\n",
    "    color=\"#000000\",\n",
    "    linestyle=\"--\",\n",
    "    label=\"end of validation period\"\n",
    ")\n",
    "\n",
    "ax.legend(\n",
    "    loc=(0.01, 0.75),\n",
    "    frameon=False,\n",
    "    fontsize=10,\n",
    "    ncol=2\n",
    ")\n",
    "\n",
    "ax.set_yticks(distance_ticks)\n",
    "\n",
    "ax.set_xlabel(\"Date\")\n",
    "ax.set_ylabel(\"Weighted distance\\nto the future (AAs)\")\n",
    "ax.set_ylim(bottom=0)\n",
    "\n",
    "plt.tight_layout()\n",
    "plt.savefig(output_figure, bbox_inches=\"tight\")"
   ]
  },
  {
   "cell_type": "markdown",
   "metadata": {},
   "outputs": [],
   "source": [
    "Plot the distance to the future for each model relative to the vaccine strain. This view provides a better sense of how much closer to the future an estimated best strain is than the selected vaccine strain."
   ]
  },
  {
   "cell_type": "code",
   "execution_count": null,
   "metadata": {},
   "outputs": [],
   "source": [
    "fig, ax = plt.subplots(1, 1, figsize=(8, 3.5))\n",
    "#ax = axes[0]\n",
    "\n",
    "strain_alpha=0.5\n",
    "\n",
    "# Plot validation results.\n",
    "ax.plot(\n",
    "    estimated_closest_strains_by_naive_for_validation[\"timepoint\"],\n",
    "    estimated_closest_strains_by_naive_for_validation[\"relative_distance_to_future\"],\n",
    "    \"o-\",\n",
    "    color=colors_by_strain_type[\"estimated best by naive\"],\n",
    "    alpha=strain_alpha,\n",
    "    label=\"estimated best by naive\"\n",
    ")\n",
    "\n",
    "ax.plot(\n",
    "    estimated_closest_strains_by_cTiter_x_ne_star_for_validation[\"timepoint\"],\n",
    "    estimated_closest_strains_by_cTiter_x_ne_star_for_validation[\"relative_distance_to_future\"],\n",
    "    \"o-\",\n",
    "    color=colors_by_strain_type[\"estimated best by cTiter_x-ne_star\"],\n",
    "    alpha=strain_alpha,\n",
    "    label=\"estimated best by HI + mutational load\"\n",
    ")\n",
    "\n",
    "ax.plot(\n",
    "    estimated_closest_strains_by_ne_star_lbi_for_validation[\"timepoint\"],\n",
    "    estimated_closest_strains_by_ne_star_lbi_for_validation[\"relative_distance_to_future\"],\n",
    "    \"o-\",\n",
    "    color=colors_by_strain_type[\"estimated best by ne_star-lbi\"],\n",
    "    alpha=strain_alpha,\n",
    "    label=\"estimated best by mutational load + LBI\"\n",
    ")\n",
    "\n",
    "ax.plot(\n",
    "    observed_closest_strains_for_validation[\"timepoint\"],\n",
    "    observed_closest_strains_for_validation[\"relative_distance_to_future\"],\n",
    "    \"o-\",\n",
    "    color=colors_by_strain_type[\"observed best\"],\n",
    "    alpha=strain_alpha,\n",
    "    label=\"observed best\"\n",
    ")\n",
    "\n",
    "# Plot test results.\n",
    "ax.plot(\n",
    "    estimated_closest_strains_by_naive_for_test[\"timepoint\"],\n",
    "    estimated_closest_strains_by_naive_for_test[\"relative_distance_to_future\"],\n",
    "    \"o-\",\n",
    "    color=colors_by_strain_type[\"estimated best by naive\"],\n",
    "    alpha=strain_alpha\n",
    ")\n",
    "\n",
    "ax.plot(\n",
    "    estimated_closest_strains_by_cTiter_x_ne_star_for_test[\"timepoint\"],\n",
    "    estimated_closest_strains_by_cTiter_x_ne_star_for_test[\"relative_distance_to_future\"],\n",
    "    \"o-\",\n",
    "    color=colors_by_strain_type[\"estimated best by cTiter_x-ne_star\"],\n",
    "    alpha=strain_alpha\n",
    ")\n",
    "\n",
    "ax.plot(\n",
    "    estimated_closest_strains_by_ne_star_lbi_for_test[\"timepoint\"],\n",
    "    estimated_closest_strains_by_ne_star_lbi_for_test[\"relative_distance_to_future\"],\n",
    "    \"o-\",\n",
    "    color=colors_by_strain_type[\"estimated best by ne_star-lbi\"],\n",
    "    alpha=strain_alpha\n",
    ")\n",
    "\n",
    "ax.plot(\n",
    "    observed_closest_strains_for_test[\"timepoint\"],\n",
    "    observed_closest_strains_for_test[\"relative_distance_to_future\"],\n",
    "    \"o-\",\n",
    "    color=colors_by_strain_type[\"observed best\"],\n",
    "    alpha=strain_alpha\n",
    ")\n",
    "\n",
    "ax.axhline(\n",
    "    y=0,\n",
    "    color=\"#000000\",\n",
    "    zorder=-10,\n",
    "    lw=0.75\n",
    ")\n",
    "\n",
    "ax.axvline(\n",
    "    last_validation_timepoint + pd.Timedelta(days=35),\n",
    "    ymax=0.8,\n",
    "    zorder=-10,\n",
    "    alpha=0.2,\n",
    "    color=\"#000000\",\n",
    "    linestyle=\"--\",\n",
    "    label=\"end of validation period\"\n",
    ")\n",
    "\n",
    "ax.legend(\n",
    "    loc=(0.01, 0.75),\n",
    "    frameon=False,\n",
    "    fontsize=10,\n",
    "    ncol=2\n",
    ")\n",
    "\n",
    "#ax.set_yticks(distance_ticks)\n",
    "\n",
    "ax.set_xlabel(\"Date\")\n",
    "ax.set_ylabel(\"Weighted distance\\nto the future (AAs)\\nrelative to vaccine strain\")\n",
    "ax.set_ylim(-8, 3)\n",
    "\n",
    "plt.tight_layout()\n",
    "plt.savefig(output_relative_figure, bbox_inches=\"tight\")"
   ]
  },
  {
   "cell_type": "markdown",
   "metadata": {},
   "outputs": [],
   "source": [
    "Collect data frames into a single data frame for export as source data."
   ]
  },
  {
   "cell_type": "code",
   "execution_count": null,
   "metadata": {},
   "outputs": [],
   "source": [
    "source_data = np.around(\n",
    "    pd.concat([\n",
    "        vaccine_forecasts,\n",
    "        observed_closest_strains,\n",
    "        estimated_closest_strains_by_naive,\n",
    "        estimated_closest_strains_by_ne_star_lbi,\n",
    "        estimated_closest_strains_by_cTiter_x_ne_star\n",
    "    ]).drop(columns=[\"aa_sequence\", \"future_timepoint\"]),\n",
    "    2\n",
    ")"
   ]
  },
  {
   "cell_type": "code",
   "execution_count": null,
   "metadata": {},
   "outputs": [],
   "source": [
    "source_data.to_csv(\n",
    "    output_source_data,\n",
    "    header=True,\n",
    "    index=False,\n",
    "    na_rep=\"N/A\"\n",
    ")"
   ]
  },
  {
   "cell_type": "code",
   "execution_count": null,
   "metadata": {},
   "outputs": [],
   "source": [
    "last_validation_timepoint + pd.Timedelta(days=5)"
   ]
  },
  {
   "cell_type": "code",
   "execution_count": null,
   "metadata": {},
   "outputs": [],
   "source": [
    "merged_model_and_vaccine_ne_star_lbi = vaccine_forecasts.merge(\n",
    "    estimated_closest_strains_by_ne_star_lbi,\n",
    "    on=[\"timepoint\"],\n",
    "    suffixes=[\"_vaccine\", \"_model\"]\n",
    ")"
   ]
  },
  {
   "cell_type": "code",
   "execution_count": null,
   "metadata": {},
   "outputs": [],
   "source": [
    "merged_model_and_vaccine_ne_star_lbi[\"vaccine_minus_model\"] = (\n",
    "    merged_model_and_vaccine_ne_star_lbi[\"distance_to_future_vaccine\"] - \n",
    "    merged_model_and_vaccine_ne_star_lbi[\"distance_to_future_model\"]\n",
    ")"
   ]
  },
  {
   "cell_type": "code",
   "execution_count": null,
   "metadata": {
    "scrolled": true
   },
   "outputs": [],
   "source": [
    "merged_model_and_vaccine_ne_star_lbi[\"vaccine_minus_model\"]"
   ]
  },
  {
   "cell_type": "code",
   "execution_count": null,
   "metadata": {},
   "outputs": [],
   "source": [
    "(merged_model_and_vaccine_ne_star_lbi[\"vaccine_minus_model\"] < 0).sum()"
   ]
  },
  {
   "cell_type": "code",
   "execution_count": null,
   "metadata": {},
   "outputs": [],
   "source": [
    "merged_model_and_vaccine_ne_star_lbi[\n",
    "    merged_model_and_vaccine_ne_star_lbi[\"vaccine_minus_model\"] < 0\n",
    "][\"vaccine_minus_model\"].mean()"
   ]
  },
  {
   "cell_type": "code",
   "execution_count": null,
   "metadata": {},
   "outputs": [],
   "source": [
    "merged_model_and_vaccine_ne_star_lbi[\"vaccine_minus_model\"].mean()"
   ]
  },
  {
   "cell_type": "code",
   "execution_count": null,
   "metadata": {},
   "outputs": [],
   "source": [
    "merged_model_and_vaccine_cTiter_x_ne_star = vaccine_forecasts.merge(\n",
    "    estimated_closest_strains_by_cTiter_x_ne_star,\n",
    "    on=[\"timepoint\"],\n",
    "    suffixes=[\"_vaccine\", \"_model\"]\n",
    ")"
   ]
  },
  {
   "cell_type": "code",
   "execution_count": null,
   "metadata": {},
   "outputs": [],
   "source": [
    "merged_model_and_vaccine_cTiter_x_ne_star[\"vaccine_minus_model\"] = (\n",
    "    merged_model_and_vaccine_cTiter_x_ne_star[\"distance_to_future_vaccine\"] -\n",
    "    merged_model_and_vaccine_cTiter_x_ne_star[\"distance_to_future_model\"]\n",
    ")"
   ]
  },
  {
   "cell_type": "code",
   "execution_count": null,
   "metadata": {},
   "outputs": [],
   "source": [
    "merged_model_and_vaccine_cTiter_x_ne_star[\"vaccine_minus_model\"]"
   ]
  },
  {
   "cell_type": "code",
   "execution_count": null,
   "metadata": {},
   "outputs": [],
   "source": [
    "(merged_model_and_vaccine_cTiter_x_ne_star[\"vaccine_minus_model\"] < 0).sum()"
   ]
  },
  {
   "cell_type": "code",
   "execution_count": null,
   "metadata": {},
   "outputs": [],
   "source": [
    "merged_model_and_vaccine_cTiter_x_ne_star[\n",
    "    merged_model_and_vaccine_cTiter_x_ne_star[\"vaccine_minus_model\"] < 0\n",
    "][\"vaccine_minus_model\"]"
   ]
  },
  {
   "cell_type": "code",
   "execution_count": null,
   "metadata": {},
   "outputs": [],
   "source": [
    "merged_model_and_vaccine_cTiter_x_ne_star[\"vaccine_minus_model\"].mean()"
   ]
  },
  {
   "cell_type": "code",
   "execution_count": null,
   "metadata": {},
   "outputs": [],
   "source": [
    "merged_model_and_vaccine_naive = vaccine_forecasts.merge(\n",
    "    estimated_closest_strains_by_naive,\n",
    "    on=[\"timepoint\"],\n",
    "    suffixes=[\"_vaccine\", \"_model\"]\n",
    ")"
   ]
  },
  {
   "cell_type": "code",
   "execution_count": null,
   "metadata": {},
   "outputs": [],
   "source": [
    "merged_model_and_vaccine_naive[\"vaccine_minus_model\"] = (\n",
    "    merged_model_and_vaccine_naive[\"distance_to_future_vaccine\"] -\n",
    "    merged_model_and_vaccine_naive[\"distance_to_future_model\"]\n",
    ")"
   ]
  },
  {
   "cell_type": "code",
   "execution_count": null,
   "metadata": {},
   "outputs": [],
   "source": [
    "merged_model_and_vaccine_naive[\"vaccine_minus_model\"]"
   ]
  },
  {
   "cell_type": "code",
   "execution_count": null,
   "metadata": {},
   "outputs": [],
   "source": [
    "(merged_model_and_vaccine_naive[\"vaccine_minus_model\"] < 0).sum()"
   ]
  },
  {
   "cell_type": "code",
   "execution_count": null,
   "metadata": {},
   "outputs": [],
   "source": [
    "merged_model_and_vaccine_naive[\"vaccine_minus_model\"].mean()"
   ]
  },
  {
   "cell_type": "markdown",
   "metadata": {},
   "outputs": [],
   "source": [
    "## Calculate antigenic distance between vaccine strains and observed/estimated best strains\n",
    "\n",
    "Determine whether observed and estimated closest strains to the future are antigenically distinct from vaccine strains. First, we look for existing HI measurements between each vaccine strain and the \"best\" strains. If no measurements exist, we identify the first strain with the closest sequence to each best strain and existing titer measurements as a proxy."
   ]
  },
  {
   "cell_type": "code",
   "execution_count": null,
   "metadata": {},
   "outputs": [],
   "source": [
    "vaccine_forecasts.head()"
   ]
  },
  {
   "cell_type": "code",
   "execution_count": null,
   "metadata": {},
   "outputs": [],
   "source": [
    "closest_strains = pd.concat([\n",
    "    observed_closest_strains,\n",
    "    estimated_closest_strains_by_naive,\n",
    "    estimated_closest_strains_by_ne_star_lbi,\n",
    "    estimated_closest_strains_by_cTiter_x_ne_star\n",
    "])"
   ]
  },
  {
   "cell_type": "code",
   "execution_count": null,
   "metadata": {},
   "outputs": [],
   "source": [
    "closest_strains.head()"
   ]
  },
  {
   "cell_type": "code",
   "execution_count": null,
   "metadata": {},
   "outputs": [],
   "source": [
    "closest_strains_and_vaccines = closest_strains.merge(\n",
    "    vaccine_forecasts,\n",
    "    on=\"timepoint\",\n",
    "    suffixes=[\"\", \"_vaccine\"]\n",
    ")"
   ]
  },
  {
   "cell_type": "code",
   "execution_count": null,
   "metadata": {},
   "outputs": [],
   "source": [
    "closest_strains_and_vaccines.head()"
   ]
  },
  {
   "cell_type": "code",
   "execution_count": null,
   "metadata": {},
   "outputs": [],
   "source": [
    "tips_with_sequence.head()"
   ]
  },
  {
   "cell_type": "code",
   "execution_count": null,
   "metadata": {},
   "outputs": [],
   "source": [
    "def find_closest_titers_to_vaccine_strain(titers, tips, vaccine_strain, search_strain):\n",
    "    \"\"\"Find titer measurement between the vaccine strain and the closest strain by amino acid sequence\n",
    "    distance to the search strain.\n",
    "    \"\"\"\n",
    "    # Find titer measurements for the given vaccine strain.\n",
    "    vaccine_titers = titers.query(f\"reference == '{vaccine_strain}'\").copy()\n",
    "    \n",
    "    # Get tips with titer measurements against the vaccine strain.\n",
    "    strains_with_vaccine_titers = vaccine_titers[\"virus\"].values\n",
    "    \n",
    "    # Check for the search strain in tips with vaccine titers before calculating distances.\n",
    "    if search_strain in strains_with_vaccine_titers:\n",
    "        distance = 0\n",
    "        closest_strain = search_strain\n",
    "        log2_titer = vaccine_titers.loc[vaccine_titers[\"virus\"] == search_strain, \"log2_titer\"].mean()\n",
    "    else:\n",
    "        # Get all tips with vaccine titers.\n",
    "        tips_with_vaccine_titers = tips[tips[\"strain\"].isin(strains_with_vaccine_titers)].copy()\n",
    "        \n",
    "        # Get the sequence of the search strain.\n",
    "        search_strain_sequence = tips[tips[\"strain\"] == search_strain][\"aa_sequence\"].values[0]\n",
    "\n",
    "        # Calculate pairwise distances between tips with vaccine titers and the search strain.\n",
    "        tips_with_vaccine_titers[\"distance_to_search_strain\"] = tips_with_vaccine_titers.apply(\n",
    "            lambda row: calculate_pairwise_distance(row[\"aa_sequence\"], search_strain_sequence),\n",
    "            axis=1\n",
    "        )\n",
    "        \n",
    "        # Select the strain with the minimum distance to the search strain and its distance.\n",
    "        distance = tips_with_vaccine_titers[\"distance_to_search_strain\"].min()\n",
    "        index_of_closest_strain = tips_with_vaccine_titers[\"distance_to_search_strain\"].argmin()\n",
    "        closest_strain = tips_with_vaccine_titers.iloc[index_of_closest_strain][\"strain\"]\n",
    "        \n",
    "        # Get the log2 titer of the closest strain.\n",
    "        log2_titer = vaccine_titers.loc[vaccine_titers[\"virus\"] == closest_strain, \"log2_titer\"].mean()\n",
    "        \n",
    "    return closest_strain, distance, log2_titer"
   ]
  },
  {
   "cell_type": "code",
   "execution_count": null,
   "metadata": {},
   "outputs": [],
   "source": [
    "antigenic_distances = []\n",
    "for index, row in closest_strains_and_vaccines.iterrows():\n",
    "    closest_strain, distance, log2_titer = find_closest_titers_to_vaccine_strain(\n",
    "        titers_df,\n",
    "        tips_with_sequence,\n",
    "        row[\"strain_vaccine\"],\n",
    "        row[\"strain\"]\n",
    "    )\n",
    "    \n",
    "    antigenic_distances.append({\n",
    "        \"timepoint\": row[\"timepoint\"],\n",
    "        \"vaccine_strain\": row[\"strain_vaccine\"],\n",
    "        \"model_strain\": row[\"strain\"],\n",
    "        \"model\": row[\"strain_type\"],\n",
    "        \"closest_strain\": closest_strain,\n",
    "        \"distance_to_closest_strain\": distance,\n",
    "        \"relative_distance_to_future\": row[\"relative_distance_to_future\"],\n",
    "        \"log2_titer\": log2_titer\n",
    "    })"
   ]
  },
  {
   "cell_type": "code",
   "execution_count": null,
   "metadata": {},
   "outputs": [],
   "source": [
    "len(antigenic_distances)"
   ]
  },
  {
   "cell_type": "code",
   "execution_count": null,
   "metadata": {},
   "outputs": [],
   "source": [
    "antigenic_distances_df = pd.DataFrame(antigenic_distances)"
   ]
  },
  {
   "cell_type": "code",
   "execution_count": null,
   "metadata": {},
   "outputs": [],
   "source": [
    "antigenic_distances_df.head()"
   ]
  },
  {
   "cell_type": "markdown",
   "metadata": {},
   "outputs": [],
   "source": [
    "At some timepoints, multiple models select the same closest strain to the future. To prevent our analysis of antigenic distances from being biased by these redundant entries, we need to drop duplicates before plotting."
   ]
  },
  {
   "cell_type": "code",
   "execution_count": null,
   "metadata": {},
   "outputs": [],
   "source": [
    "nonredundant_antigenic_distances_df = antigenic_distances_df.drop(columns=\"model\").drop_duplicates()"
   ]
  },
  {
   "cell_type": "code",
   "execution_count": null,
   "metadata": {},
   "outputs": [],
   "source": [
    "nonredundant_antigenic_distances_df.shape"
   ]
  },
  {
   "cell_type": "code",
   "execution_count": null,
   "metadata": {},
   "outputs": [],
   "source": [
    "nonredundant_antigenic_distances_df[\"distance_to_closest_strain\"].value_counts()"
   ]
  },
  {
   "cell_type": "code",
   "execution_count": null,
   "metadata": {},
   "outputs": [],
   "source": [
    "fig, ax = plt.subplots(1, 1, figsize=(4, 4))\n",
    "sns.regplot(\n",
    "    nonredundant_antigenic_distances_df[\"relative_distance_to_future\"],\n",
    "    nonredundant_antigenic_distances_df[\"log2_titer\"],\n",
    "    ax=ax,\n",
    "    scatter_kws={\"alpha\": 0.5}\n",
    ")\n",
    "\n",
    "ax.axvline(x=0, color=\"#cccccc\", zorder=-10)\n",
    "ax.axhline(y=0, color=\"#cccccc\", zorder=-10)\n",
    "\n",
    "ax.set_xlabel(\"Weighted distance to the future (AAs)\\nrelative to vaccine strain\")\n",
    "ax.set_ylabel(\"Antigenic distance between\\nstrains ($log_{2}$ titer drop)\")"
   ]
  },
  {
   "cell_type": "code",
   "execution_count": null,
   "metadata": {},
   "outputs": [],
   "source": []
  }
 ],
 "metadata": {
  "kernelspec": {
   "display_name": "Python 3",
   "language": "python",
   "name": "python3"
  },
  "language_info": {
   "codemirror_mode": {
    "name": "ipython",
    "version": 3
   },
   "file_extension": ".py",
   "mimetype": "text/x-python",
   "name": "python",
   "nbconvert_exporter": "python",
   "pygments_lexer": "ipython3",
   "version": "3.6.10"
  }
 },
 "nbformat": 4,
 "nbformat_minor": 4
}
