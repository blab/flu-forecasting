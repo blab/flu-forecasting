{
 "cells": [
  {
   "cell_type": "markdown",
   "metadata": {},
   "source": [
    "# Table S2. Count epitope mutations by trunk status for natural populations\n",
    "\n",
    "For a given tree, classify each node as trunk or not and count the number of epitope and non-epitope mutations. Finally, summarize the number of mutations by category of trunk and mutation."
   ]
  },
  {
   "cell_type": "code",
   "execution_count": null,
   "metadata": {},
   "outputs": [],
   "source": [
    "# Define inputs.\n",
    "full_tree_json = snakemake.input.full_tree_json\n",
    "epitope_sites_distance_map = snakemake.input.epitope_sites_distance_map\n",
    "\n",
    "# Define outputs.\n",
    "output_table = snakemake.output.table"
   ]
  },
  {
   "cell_type": "code",
   "execution_count": null,
   "metadata": {},
   "outputs": [],
   "source": [
    "from augur.distance import read_distance_map\n",
    "from augur.utils import json_to_tree\n",
    "import Bio.Phylo\n",
    "import json\n",
    "import matplotlib.pyplot as plt\n",
    "import numpy as np\n",
    "import pandas as pd\n",
    "\n",
    "%matplotlib inline"
   ]
  },
  {
   "cell_type": "markdown",
   "metadata": {},
   "source": [
    "## Load tree data"
   ]
  },
  {
   "cell_type": "code",
   "execution_count": null,
   "metadata": {},
   "outputs": [],
   "source": [
    "with open(full_tree_json, \"r\") as fh:\n",
    "    tree_json = json.load(fh)"
   ]
  },
  {
   "cell_type": "code",
   "execution_count": null,
   "metadata": {},
   "outputs": [],
   "source": [
    "tree = json_to_tree(tree_json)"
   ]
  },
  {
   "cell_type": "code",
   "execution_count": null,
   "metadata": {},
   "outputs": [],
   "source": [
    "tree"
   ]
  },
  {
   "cell_type": "markdown",
   "metadata": {},
   "source": [
    "## Load distance map"
   ]
  },
  {
   "cell_type": "code",
   "execution_count": null,
   "metadata": {},
   "outputs": [],
   "source": [
    "distance_map = read_distance_map(epitope_sites_distance_map)"
   ]
  },
  {
   "cell_type": "code",
   "execution_count": null,
   "metadata": {},
   "outputs": [],
   "source": [
    "# Extract all epitope sites from the distance map, readjusting to one-based coordinates\n",
    "# for comparison with one-based coordinates of amino acid mutations annotated on trees.\n",
    "epitope_sites = [site + 1 for site in distance_map[\"map\"][\"HA1\"].keys()]"
   ]
  },
  {
   "cell_type": "code",
   "execution_count": null,
   "metadata": {},
   "outputs": [],
   "source": [
    "np.array(epitope_sites)"
   ]
  },
  {
   "cell_type": "code",
   "execution_count": null,
   "metadata": {},
   "outputs": [],
   "source": [
    "\", \".join([str(site) for site in epitope_sites[:-1]]) + \", and \" + str(epitope_sites[-1])"
   ]
  },
  {
   "cell_type": "markdown",
   "metadata": {},
   "source": [
    "## Annotate number of epitope and non-epitope mutations per node"
   ]
  },
  {
   "cell_type": "code",
   "execution_count": null,
   "metadata": {},
   "outputs": [],
   "source": [
    "for node in tree.find_clades():\n",
    "    epitope_mutations = 0\n",
    "    nonepitope_mutations = 0\n",
    "    \n",
    "    if len(node.aa_muts) > 0:\n",
    "        for gene, muts in node.aa_muts.items():\n",
    "            for mut in muts:\n",
    "                if gene == \"HA1\" and int(mut[1:-1]) in epitope_sites:\n",
    "                    epitope_mutations += 1\n",
    "                else:\n",
    "                    nonepitope_mutations += 1\n",
    "                    \n",
    "    node.epitope_mutations = epitope_mutations\n",
    "    node.nonepitope_mutations = nonepitope_mutations"
   ]
  },
  {
   "cell_type": "code",
   "execution_count": null,
   "metadata": {},
   "outputs": [],
   "source": [
    "set([node.epitope_mutations for node in tree.find_clades() if node.epitope_mutations > 0])"
   ]
  },
  {
   "cell_type": "markdown",
   "metadata": {},
   "source": [
    "## Assign trunk status\n",
    "\n",
    "[Bedford et al. 2015](http://www.nature.com.offcampus.lib.washington.edu/nature/journal/v523/n7559/pdf/nature14460.pdf) defines trunk as \"all branches ancestral to viruses\n",
    "sampled within 1 year of the most recent sample\". The algorithm for finding the trunk based on this definition is then:\n",
    "\n",
    "  1. Select all nodes in the last year\n",
    "  1. Select the parent of each selected node until the root\n",
    "  1. Create a unique set of nodes\n",
    "  1. Omit all nodes from the last year since resolution of the trunk is limited (note: this step is not implemented below)\n",
    "\n",
    "Note that this definition was based on 12 years of flu data from 2000 to 2012."
   ]
  },
  {
   "cell_type": "code",
   "execution_count": null,
   "metadata": {},
   "outputs": [],
   "source": [
    "max_date = max([tip.attr[\"num_date\"] for tip in tree.find_clades(terminal=True)])"
   ]
  },
  {
   "cell_type": "code",
   "execution_count": null,
   "metadata": {},
   "outputs": [],
   "source": [
    "max_date"
   ]
  },
  {
   "cell_type": "code",
   "execution_count": null,
   "metadata": {},
   "outputs": [],
   "source": [
    "# Find all tips of the tree sampled within a year of the most recent sample in the tree.\n",
    "recent_nodes = [node for node in tree.find_clades(terminal=True) if node.attr[\"num_date\"] > (max_date - 1)]"
   ]
  },
  {
   "cell_type": "code",
   "execution_count": null,
   "metadata": {},
   "outputs": [],
   "source": [
    "len(recent_nodes)"
   ]
  },
  {
   "cell_type": "code",
   "execution_count": null,
   "metadata": {},
   "outputs": [],
   "source": [
    "# Find the last common ancestor of all recent nodes.\n",
    "mrca = tree.common_ancestor(recent_nodes)"
   ]
  },
  {
   "cell_type": "code",
   "execution_count": null,
   "metadata": {},
   "outputs": [],
   "source": [
    "mrca"
   ]
  },
  {
   "cell_type": "code",
   "execution_count": null,
   "metadata": {},
   "outputs": [],
   "source": [
    "mrca.attr[\"num_date\"]"
   ]
  },
  {
   "cell_type": "code",
   "execution_count": null,
   "metadata": {},
   "outputs": [],
   "source": [
    "# Label all nodes as not part of the trunk by default.\n",
    "for node in tree.find_clades():\n",
    "    node.is_trunk = False\n",
    "    node.is_side_branch_ancestor = False"
   ]
  },
  {
   "cell_type": "code",
   "execution_count": null,
   "metadata": {},
   "outputs": [],
   "source": [
    "# Find all nodes that are ancestral to recent nodes.\n",
    "# Label these ancestral nodes as part of the \"trunk\"\n",
    "# and collect the set of distinct nodes in the trunk.\n",
    "for recent_node in recent_nodes:\n",
    "    current_node = recent_node.parent\n",
    "    \n",
    "    # Traverse from the current node to the tree's root.\n",
    "    while current_node != tree.root:\n",
    "        # Mark a node as part of the trunk if it was sampled\n",
    "        # before the MRCA of all recent nodes.\n",
    "        if current_node.attr[\"num_date\"] < mrca.attr[\"num_date\"]:\n",
    "            current_node.is_trunk = True\n",
    "            \n",
    "        current_node = current_node.parent"
   ]
  },
  {
   "cell_type": "code",
   "execution_count": null,
   "metadata": {},
   "outputs": [],
   "source": [
    "def is_side_branch_ancestor(node):\n",
    "    \"\"\"Returns True if the current node belongs to a \"side branch\" clade\n",
    "    and is the immediate descendent from a trunk.\n",
    "    \"\"\"\n",
    "    return node.parent is not None and node.parent.is_trunk"
   ]
  },
  {
   "cell_type": "code",
   "execution_count": null,
   "metadata": {},
   "outputs": [],
   "source": [
    "trunk_path = [node for node in tree.find_clades(terminal=False)\n",
    "              if node.is_trunk]"
   ]
  },
  {
   "cell_type": "code",
   "execution_count": null,
   "metadata": {},
   "outputs": [],
   "source": [
    "# Find all nodes that are not on the trunk. These are\n",
    "# side branch nodes.\n",
    "side_branch_nodes = [node for node in tree.find_clades(terminal=False)\n",
    "                     if not node.is_trunk and node.attr[\"num_date\"] < mrca.attr[\"num_date\"]]"
   ]
  },
  {
   "cell_type": "code",
   "execution_count": null,
   "metadata": {},
   "outputs": [],
   "source": [
    "len(trunk_path)"
   ]
  },
  {
   "cell_type": "code",
   "execution_count": null,
   "metadata": {},
   "outputs": [],
   "source": [
    "len(side_branch_nodes)"
   ]
  },
  {
   "cell_type": "code",
   "execution_count": null,
   "metadata": {},
   "outputs": [],
   "source": [
    "# Find all side branch nodes whose immediate parent is on the trunk.\n",
    "side_branch_ancestors = []\n",
    "for node in side_branch_nodes:\n",
    "    if is_side_branch_ancestor(node):\n",
    "        node.is_side_branch_ancestor = True\n",
    "        side_branch_ancestors.append(node)"
   ]
  },
  {
   "cell_type": "code",
   "execution_count": null,
   "metadata": {},
   "outputs": [],
   "source": [
    "len(side_branch_ancestors)"
   ]
  },
  {
   "cell_type": "code",
   "execution_count": null,
   "metadata": {},
   "outputs": [],
   "source": [
    "# Color nodes by status as on the trunk or as a side branch ancestor.\n",
    "for node in tree.find_clades():\n",
    "    if node.is_trunk:\n",
    "        node.color = \"green\"\n",
    "    elif node.is_side_branch_ancestor:\n",
    "        node.color = \"orange\"\n",
    "    else:\n",
    "        node.color = \"black\""
   ]
  },
  {
   "cell_type": "code",
   "execution_count": null,
   "metadata": {},
   "outputs": [],
   "source": [
    "# Draw tree with node colors instead of with node labels.\n",
    "fig = plt.figure(figsize=(12, 8))\n",
    "ax = fig.add_subplot(111)\n",
    "Bio.Phylo.draw(tree, axes=ax, label_func=lambda node: \"\")"
   ]
  },
  {
   "cell_type": "markdown",
   "metadata": {},
   "source": [
    "## Annotate mutations by trunk status"
   ]
  },
  {
   "cell_type": "code",
   "execution_count": null,
   "metadata": {},
   "outputs": [],
   "source": [
    "records = []\n",
    "for node in tree.find_clades(terminal=False):\n",
    "    # Collect records for nodes that are on the trunk or that were sampled prior\n",
    "    # to the MRCA of recent nodes (i.e., side branch nodes).\n",
    "    if node.is_trunk or node.attr[\"num_date\"] < mrca.attr[\"num_date\"]:\n",
    "        records.append({\n",
    "            \"node\": node.name,\n",
    "            \"branch type\": \"trunk\" if node.is_trunk else \"side branch\",\n",
    "            \"epitope mutations\": node.epitope_mutations,\n",
    "            \"non-epitope mutations\": node.nonepitope_mutations\n",
    "        })"
   ]
  },
  {
   "cell_type": "code",
   "execution_count": null,
   "metadata": {},
   "outputs": [],
   "source": [
    "df = pd.DataFrame(records)"
   ]
  },
  {
   "cell_type": "code",
   "execution_count": null,
   "metadata": {},
   "outputs": [],
   "source": [
    "df.head()"
   ]
  },
  {
   "cell_type": "code",
   "execution_count": null,
   "metadata": {},
   "outputs": [],
   "source": [
    "counts_by_trunk_status = df.groupby(\"branch type\").aggregate({\"epitope mutations\": \"sum\", \"non-epitope mutations\": \"sum\"})"
   ]
  },
  {
   "cell_type": "code",
   "execution_count": null,
   "metadata": {},
   "outputs": [],
   "source": [
    "counts_by_trunk_status[\"epitope-to-non-epitope ratio\"] = round(\n",
    "    counts_by_trunk_status[\"epitope mutations\"] / counts_by_trunk_status[\"non-epitope mutations\"]\n",
    ", 2)"
   ]
  },
  {
   "cell_type": "code",
   "execution_count": null,
   "metadata": {},
   "outputs": [],
   "source": [
    "counts_by_trunk_status"
   ]
  },
  {
   "cell_type": "code",
   "execution_count": null,
   "metadata": {},
   "outputs": [],
   "source": [
    "counts_by_trunk_status_table = counts_by_trunk_status.to_latex(escape=False)\n",
    "\n",
    "with open(output_table, \"w\") as oh:\n",
    "    oh.write(counts_by_trunk_status_table)"
   ]
  },
  {
   "cell_type": "code",
   "execution_count": null,
   "metadata": {},
   "outputs": [],
   "source": []
  }
 ],
 "metadata": {
  "kernelspec": {
   "display_name": "Python 3",
   "language": "python",
   "name": "python3"
  },
  "language_info": {
   "codemirror_mode": {
    "name": "ipython",
    "version": 3
   },
   "file_extension": ".py",
   "mimetype": "text/x-python",
   "name": "python",
   "nbconvert_exporter": "python",
   "pygments_lexer": "ipython3",
   "version": "3.6.10"
  }
 },
 "nbformat": 4,
 "nbformat_minor": 4
}
