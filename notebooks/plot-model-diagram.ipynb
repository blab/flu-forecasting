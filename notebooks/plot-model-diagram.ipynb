{
 "cells": [
  {
   "cell_type": "markdown",
   "metadata": {},
   "source": [
    "# Figure 1. Model Schematic\n",
    "\n",
    "Summarize tree and frequencies for two timepoints from simulated data for Figure 1.\n",
    "\n",
    "Note: [this notebook is executed by Snakemake](https://snakemake.readthedocs.io/en/stable/snakefiles/rules.html#jupyter-notebook-integration) and expects to have a global `snakemake` variable that provides input and output files and optionally params."
   ]
  },
  {
   "cell_type": "code",
   "execution_count": null,
   "metadata": {},
   "outputs": [],
   "source": [
    "# Define inputs.\n",
    "tree_for_timepoint_t = snakemake.input.tree_for_timepoint_t\n",
    "tree_for_timepoint_u = snakemake.input.tree_for_timepoint_u\n",
    "frequencies_for_timepoint_t = snakemake.input.frequencies_for_timepoint_t\n",
    "frequencies_for_timepoint_u = snakemake.input.frequencies_for_timepoint_u\n",
    "\n",
    "# Define outputs.\n",
    "distance_model_figure = snakemake.output.figure"
   ]
  },
  {
   "cell_type": "code",
   "execution_count": null,
   "metadata": {},
   "outputs": [],
   "source": [
    "\"\"\"\n",
    "# Define inputs.\n",
    "tree_for_timepoint_t = \"../results/auspice/flu_simulated_simulated_sample_3_2029-10-01_tree.json\"\n",
    "tree_for_timepoint_u = \"../results/auspice/flu_simulated_simulated_sample_3_2030-10-01_tree.json\"\n",
    "frequencies_for_timepoint_t = \"../results/auspice/flu_simulated_simulated_sample_3_2029-10-01_tip-frequencies.json\"\n",
    "frequencies_for_timepoint_u = \"../results/auspice/flu_simulated_simulated_sample_3_2030-10-01_tip-frequencies.json\"\n",
    "\n",
    "# Define outputs.\n",
    "distance_model_figure = \"../manuscript/figures/distance-based-fitness-model.pdf\"\n",
    "\"\"\""
   ]
  },
  {
   "cell_type": "code",
   "execution_count": null,
   "metadata": {},
   "outputs": [],
   "source": [
    "from augur.titer_model import TiterCollection\n",
    "from augur.utils import json_to_tree\n",
    "import datetime\n",
    "import json\n",
    "import matplotlib as mpl\n",
    "import matplotlib.dates as mdates\n",
    "from matplotlib import gridspec\n",
    "import matplotlib.pyplot as plt\n",
    "from matplotlib.collections import LineCollection\n",
    "import numpy as np\n",
    "import pandas as pd\n",
    "import seaborn as sns\n",
    "\n",
    "from scipy.cluster.hierarchy import linkage\n",
    "from scipy.spatial.distance import squareform\n",
    "\n",
    "from sklearn.manifold import TSNE\n",
    "from sklearn.cluster import DBSCAN\n",
    "from treetime.utils import numeric_date\n",
    "\n",
    "%matplotlib inline"
   ]
  },
  {
   "cell_type": "code",
   "execution_count": null,
   "metadata": {},
   "outputs": [],
   "source": [
    "np.random.seed(314159)"
   ]
  },
  {
   "cell_type": "code",
   "execution_count": null,
   "metadata": {},
   "outputs": [],
   "source": [
    "sns.set_style(\"ticks\")"
   ]
  },
  {
   "cell_type": "code",
   "execution_count": null,
   "metadata": {},
   "outputs": [],
   "source": [
    "# Display figures at a reasonable default size.\n",
    "mpl.rcParams['figure.figsize'] = (6, 4)\n",
    "\n",
    "# Disable top and right spines.\n",
    "mpl.rcParams['axes.spines.top'] = False\n",
    "mpl.rcParams['axes.spines.right'] = False\n",
    "    \n",
    "# Display and save figures at higher resolution for presentations and manuscripts.\n",
    "mpl.rcParams['savefig.dpi'] = 300\n",
    "mpl.rcParams['figure.dpi'] = 100\n",
    "\n",
    "# Display text at sizes large enough for presentations and manuscripts.\n",
    "mpl.rcParams['font.weight'] = \"normal\"\n",
    "mpl.rcParams['axes.labelweight'] = \"normal\"\n",
    "mpl.rcParams['font.size'] = 14\n",
    "mpl.rcParams['axes.labelsize'] = 14\n",
    "mpl.rcParams['legend.fontsize'] = 12\n",
    "mpl.rcParams['xtick.labelsize'] = 14\n",
    "mpl.rcParams['ytick.labelsize'] = 14\n",
    "\n",
    "mpl.rc('text', usetex=False)"
   ]
  },
  {
   "cell_type": "code",
   "execution_count": null,
   "metadata": {},
   "outputs": [],
   "source": [
    "tip_size = 10\n",
    "end_date = 2004.3"
   ]
  },
  {
   "cell_type": "code",
   "execution_count": null,
   "metadata": {},
   "outputs": [],
   "source": [
    "def float_to_datestring(time):\n",
    "    \"\"\"Convert a floating point date from TreeTime `numeric_date` to a date string\n",
    "    \"\"\"\n",
    "    # Extract the year and remainder from the floating point date.\n",
    "    year = int(time)\n",
    "    remainder = time - year\n",
    "\n",
    "    # Calculate the day of the year (out of 365 + 0.25 for leap years).\n",
    "    tm_yday = int(remainder * 365.25)\n",
    "    if tm_yday == 0:\n",
    "        tm_yday = 1\n",
    "\n",
    "    # Construct a date object from the year and day of the year.\n",
    "    date = datetime.datetime.strptime(\"%s-%s\" % (year, tm_yday), \"%Y-%j\")\n",
    "\n",
    "    # Build the date string with zero-padded months and days.\n",
    "    date_string = \"%s-%.2i-%.2i\" % (date.year, date.month, date.day)\n",
    "\n",
    "    return date_string"
   ]
  },
  {
   "cell_type": "code",
   "execution_count": null,
   "metadata": {},
   "outputs": [],
   "source": [
    "def plot_tree_by_datetime(tree, color_by_trait=None, size_by_trait=None, initial_branch_width=5, tip_size=10,\n",
    "              start_date=None, end_date=None, include_color_bar=False, ax=None, colorbar_ax=None,\n",
    "              earliest_node_date=None, default_color=\"#cccccc\", default_color_branch=\"#999999\", override_y_values=None,\n",
    "              cmap=None, default_size=0.001, plot_projection_from_date=None, plot_projection_to_date=None,\n",
    "              projection_attr=\"projected_frequency\", projection_line_threshold=1e-2, size_scaler=1e3):\n",
    "    \"\"\"Plot a BioPython Phylo tree in the BALTIC-style.\n",
    "    \"\"\"\n",
    "    # Plot H3N2 tree in BALTIC style from Bio.Phylo tree.\n",
    "    if override_y_values is None:\n",
    "        override_y_values = {}\n",
    "        \n",
    "    yvalues = [node.yvalue for node in tree.find_clades()]\n",
    "    y_span = max(yvalues)\n",
    "    y_unit = y_span / float(len(yvalues))\n",
    "\n",
    "    # Setup colors.\n",
    "    if color_by_trait:\n",
    "        trait_name = color_by_trait\n",
    "        \n",
    "        if cmap is None:\n",
    "            traits = [k.attr[trait_name] for k in tree.find_clades() if trait_name in k.attr]\n",
    "            norm = mpl.colors.Normalize(min(traits), max(traits))\n",
    "            cmap = mpl.cm.viridis\n",
    "\n",
    "    #\n",
    "    # Setup the figure grid.\n",
    "    #\n",
    "\n",
    "    if ax is None:\n",
    "        if include_color_bar:\n",
    "            fig = plt.figure(figsize=(8, 6), facecolor='w')\n",
    "            gs = gridspec.GridSpec(2, 1, height_ratios=[14, 1], width_ratios=[1], hspace=0.1, wspace=0.1)\n",
    "            ax = fig.add_subplot(gs[0])\n",
    "            colorbar_ax = fig.add_subplot(gs[1])\n",
    "        else:\n",
    "            fig = plt.figure(figsize=(8, 4), facecolor='w')\n",
    "            gs = gridspec.GridSpec(1, 1)\n",
    "            ax = fig.add_subplot(gs[0])\n",
    "\n",
    "    L=len([k for k in tree.find_clades() if k.is_terminal()])\n",
    "\n",
    "    # Setup arrays for tip and internal node coordinates.\n",
    "    tip_circles_x = []\n",
    "    tip_circles_y = []\n",
    "    tip_circles_color = []\n",
    "    tip_circle_sizes = []\n",
    "    node_circles_x = []\n",
    "    node_circles_y = []\n",
    "    node_circles_color = []\n",
    "    node_line_widths = []\n",
    "    node_line_segments = []\n",
    "    node_line_colors = []\n",
    "    branch_line_segments = []\n",
    "    branch_line_widths = []\n",
    "    branch_line_colors = []\n",
    "    branch_line_labels = []\n",
    "    projection_line_segments = []\n",
    "\n",
    "    for k in tree.find_clades(): ## iterate over objects in tree\n",
    "        x=k.attr[\"collection_date_ordinal\"] ## or from x position determined earlier\n",
    "        \n",
    "        if earliest_node_date and x < earliest_node_date:\n",
    "            continue\n",
    "        \n",
    "        if k.name in override_y_values:\n",
    "            y = override_y_values[k.name]\n",
    "        else:\n",
    "            y = y_span - k.yvalue ## get y position from .drawTree that was run earlier, but could be anything else\n",
    "\n",
    "        if k.parent is None:\n",
    "            xp = None\n",
    "        else:\n",
    "            xp=k.parent.attr[\"collection_date_ordinal\"] ## get x position of current object's parent\n",
    "\n",
    "        #if x==None: ## matplotlib won't plot Nones, like root\n",
    "        #    x=0.0\n",
    "        if xp==None:\n",
    "            xp=x\n",
    "\n",
    "        c = default_color\n",
    "        if color_by_trait and trait_name in k.attr:\n",
    "            if isinstance(cmap, dict):\n",
    "                c = cmap[k.attr[trait_name]]\n",
    "            else:\n",
    "                c = cmap(norm(k.attr[trait_name]))\n",
    "\n",
    "        branchWidth=initial_branch_width\n",
    "        if k.is_terminal(): ## if leaf...            \n",
    "            if size_by_trait is not None and size_by_trait in k.attr:\n",
    "                s = (size_scaler * np.sqrt(k.attr.get(size_by_trait, default_size)))\n",
    "            else:\n",
    "                s = tip_size ## tip size can be fixed\n",
    "\n",
    "            tip_circle_sizes.append(s)\n",
    "            tip_circles_x.append(x)\n",
    "            tip_circles_y.append(y)\n",
    "            tip_circles_color.append(c)\n",
    "            \n",
    "            if plot_projection_to_date is not None and plot_projection_from_date is not None:\n",
    "                if k.attr.get(projection_attr, 0.0) > projection_line_threshold:\n",
    "                    future_s = (size_scaler * np.sqrt(k.attr.get(projection_attr)))\n",
    "                    future_x = plot_projection_to_date + np.random.randint(-60, 0)\n",
    "                    future_y = y\n",
    "                    future_c = c\n",
    "\n",
    "                    tip_circle_sizes.append(future_s)\n",
    "                    tip_circles_x.append(future_x)\n",
    "                    tip_circles_y.append(future_y)\n",
    "                    tip_circles_color.append(future_c)\n",
    "                    \n",
    "                    projection_line_segments.append([(x + 1, y), (future_x, y)])\n",
    "            \n",
    "        else: ## if node...\n",
    "            k_leaves = [child\n",
    "                        for child in k.find_clades()\n",
    "                        if child.is_terminal()]\n",
    "\n",
    "            # Scale branch widths by the number of tips.\n",
    "            branchWidth += initial_branch_width * len(k_leaves) / float(L)\n",
    "\n",
    "            if len(k.clades)==1:\n",
    "                node_circles_x.append(x)\n",
    "                node_circles_y.append(y)\n",
    "                node_circles_color.append(c)\n",
    "\n",
    "            ax.plot([x,x],[y_span - k.clades[-1].yvalue, y_span - k.clades[0].yvalue], lw=branchWidth, color=default_color_branch, ls='-', zorder=9, solid_capstyle='round')\n",
    "\n",
    "        branch_line_segments.append([(xp, y), (x, y)])\n",
    "        branch_line_widths.append(branchWidth)\n",
    "        branch_line_colors.append(default_color_branch)\n",
    "\n",
    "    branch_lc = LineCollection(branch_line_segments, zorder=9)\n",
    "    branch_lc.set_color(branch_line_colors)\n",
    "    branch_lc.set_linewidth(branch_line_widths)\n",
    "    branch_lc.set_label(branch_line_labels)\n",
    "    branch_lc.set_linestyle(\"-\")\n",
    "    ax.add_collection(branch_lc)\n",
    "    \n",
    "    if len(projection_line_segments) > 0:\n",
    "        projection_lc = LineCollection(projection_line_segments, zorder=-10)\n",
    "        projection_lc.set_color(\"#cccccc\")\n",
    "        projection_lc.set_linewidth(1)\n",
    "        projection_lc.set_linestyle(\"--\")\n",
    "        projection_lc.set_alpha(0.5)\n",
    "        ax.add_collection(projection_lc)\n",
    "\n",
    "    # Add circles for tips and internal nodes.\n",
    "    tip_circle_sizes = np.array(tip_circle_sizes)\n",
    "    ax.scatter(tip_circles_x, tip_circles_y, s=tip_circle_sizes, facecolor=tip_circles_color, edgecolors='#000000', linewidths=0.5, alpha=0.75, zorder=11) ## plot circle for every tip\n",
    "    #ax.scatter(tip_circles_x, tip_circles_y, s=tip_circle_sizes*1.75, facecolor=\"#000000\", edgecolor='none', zorder=10) ## plot black circle underneath\n",
    "    ax.scatter(node_circles_x, node_circles_y, facecolor=node_circles_color, s=50, edgecolor='none', zorder=10, lw=2, marker='|') ## mark every node in the tree to highlight that it's a multitype tree\n",
    "\n",
    "    #ax.set_ylim(-10, y_span - 300)\n",
    "\n",
    "    ax.spines['top'].set_visible(False) ## no axes\n",
    "    ax.spines['right'].set_visible(False)\n",
    "    ax.spines['left'].set_visible(False)\n",
    "\n",
    "    ax.tick_params(axis='y',size=0)\n",
    "    ax.set_yticklabels([])\n",
    "\n",
    "    if start_date:\n",
    "        ax.set_xlim(left=start_date)\n",
    "\n",
    "    if end_date:\n",
    "        ax.set_xlim(right=end_date)\n",
    "\n",
    "    if include_color_bar:\n",
    "        cb1 = mpl.colorbar.ColorbarBase(\n",
    "            colorbar_ax,\n",
    "            cmap=cmap,\n",
    "            norm=norm,\n",
    "            orientation='horizontal'\n",
    "        )\n",
    "        cb1.set_label(color_by_trait)\n",
    "\n",
    "    return ax, colorbar_ax"
   ]
  },
  {
   "cell_type": "markdown",
   "metadata": {},
   "source": [
    "## Load trees\n",
    "\n",
    "Load an auspice tree for both timepoint t and timepoint u. The first tree needs to be annotated with the projected frequency at time u and weighted distance to the future.\n",
    "\n",
    "Both trees need to be annotated with amino acid sequences for the tips as an `aa_sequence` key in each tip's `attr` attribute."
   ]
  },
  {
   "cell_type": "code",
   "execution_count": null,
   "metadata": {},
   "outputs": [],
   "source": [
    "with open(tree_for_timepoint_t, \"r\") as fh:\n",
    "    tree_json_for_t = json.load(fh)\n",
    "    \n",
    "tree_for_t = json_to_tree(tree_json_for_t)"
   ]
  },
  {
   "cell_type": "code",
   "execution_count": null,
   "metadata": {},
   "outputs": [],
   "source": [
    "latest_sample_date_in_t = max([node.attr[\"num_date\"] for node in tree_for_t.find_clades(terminal=True)])"
   ]
  },
  {
   "cell_type": "code",
   "execution_count": null,
   "metadata": {},
   "outputs": [],
   "source": [
    "latest_sample_date_in_t"
   ]
  },
  {
   "cell_type": "code",
   "execution_count": null,
   "metadata": {},
   "outputs": [],
   "source": [
    "earliest_date_to_plot = latest_sample_date_in_t - 2.0"
   ]
  },
  {
   "cell_type": "code",
   "execution_count": null,
   "metadata": {},
   "outputs": [],
   "source": [
    "with open(tree_for_timepoint_u, \"r\") as fh:\n",
    "    tree_json_for_u = json.load(fh)"
   ]
  },
  {
   "cell_type": "code",
   "execution_count": null,
   "metadata": {},
   "outputs": [],
   "source": [
    "tree_for_u = json_to_tree(tree_json_for_u)"
   ]
  },
  {
   "cell_type": "code",
   "execution_count": null,
   "metadata": {},
   "outputs": [],
   "source": [
    "tree_for_u"
   ]
  },
  {
   "cell_type": "markdown",
   "metadata": {},
   "source": [
    "Annotate ordinal collection dates from floating point dates on both trees."
   ]
  },
  {
   "cell_type": "code",
   "execution_count": null,
   "metadata": {},
   "outputs": [],
   "source": [
    "for node in tree_for_t.find_clades():\n",
    "    node.attr[\"collection_date_ordinal\"] = pd.to_datetime(float_to_datestring(node.attr[\"num_date\"])).toordinal()"
   ]
  },
  {
   "cell_type": "code",
   "execution_count": null,
   "metadata": {},
   "outputs": [],
   "source": [
    "for node in tree_for_u.find_clades():\n",
    "    node.attr[\"collection_date_ordinal\"] = pd.to_datetime(float_to_datestring(node.attr[\"num_date\"])).toordinal()"
   ]
  },
  {
   "cell_type": "markdown",
   "metadata": {},
   "source": [
    "## Load frequencies\n",
    "\n",
    "Load tip frequencies from auspice. These should include a `projected_pivot` key and one or more pivots after that timepoint for each tip."
   ]
  },
  {
   "cell_type": "code",
   "execution_count": null,
   "metadata": {},
   "outputs": [],
   "source": [
    "with open(frequencies_for_timepoint_t, \"r\") as fh:\n",
    "    frequencies_for_t = json.load(fh)"
   ]
  },
  {
   "cell_type": "code",
   "execution_count": null,
   "metadata": {},
   "outputs": [],
   "source": [
    "with open(frequencies_for_timepoint_u, \"r\") as fh:\n",
    "    frequencies_for_u = json.load(fh)"
   ]
  },
  {
   "cell_type": "code",
   "execution_count": null,
   "metadata": {},
   "outputs": [],
   "source": [
    "pivots = frequencies_for_t.pop(\"pivots\")"
   ]
  },
  {
   "cell_type": "code",
   "execution_count": null,
   "metadata": {},
   "outputs": [],
   "source": [
    "projection_pivot = frequencies_for_t.pop(\"projection_pivot\")"
   ]
  },
  {
   "cell_type": "code",
   "execution_count": null,
   "metadata": {},
   "outputs": [],
   "source": [
    "projection_pivot_index_for_t = pivots.index(projection_pivot)"
   ]
  },
  {
   "cell_type": "code",
   "execution_count": null,
   "metadata": {},
   "outputs": [],
   "source": [
    "frequency_records_for_t = []\n",
    "for sample, sample_frequencies in frequencies_for_t.items():\n",
    "    for pivot, sample_frequency in zip(pivots, sample_frequencies[\"frequencies\"]):\n",
    "        frequency_records_for_t.append({\n",
    "            \"strain\": sample,\n",
    "            \"timepoint\": float_to_datestring(pivot),\n",
    "            \"pivot\": pivot,\n",
    "            \"frequency\": sample_frequency\n",
    "        })"
   ]
  },
  {
   "cell_type": "code",
   "execution_count": null,
   "metadata": {},
   "outputs": [],
   "source": [
    "frequency_df_for_t = pd.DataFrame(frequency_records_for_t)"
   ]
  },
  {
   "cell_type": "code",
   "execution_count": null,
   "metadata": {},
   "outputs": [],
   "source": [
    "frequency_df_for_t[\"timepoint\"] = pd.to_datetime(frequency_df_for_t[\"timepoint\"])"
   ]
  },
  {
   "cell_type": "markdown",
   "metadata": {},
   "source": [
    "Repeat the above analysis to get observed frequencies at timepoint u. We ignore all projected frequencies from this later timepoint, however."
   ]
  },
  {
   "cell_type": "code",
   "execution_count": null,
   "metadata": {},
   "outputs": [],
   "source": [
    "pivots_for_u = frequencies_for_u.pop(\"pivots\")"
   ]
  },
  {
   "cell_type": "code",
   "execution_count": null,
   "metadata": {},
   "outputs": [],
   "source": [
    "projection_pivot_for_u = frequencies_for_u.pop(\"projection_pivot\")"
   ]
  },
  {
   "cell_type": "code",
   "execution_count": null,
   "metadata": {},
   "outputs": [],
   "source": [
    "projection_pivot_index = pivots_for_u.index(projection_pivot_for_u)"
   ]
  },
  {
   "cell_type": "code",
   "execution_count": null,
   "metadata": {},
   "outputs": [],
   "source": [
    "pivots_for_u[:projection_pivot_index + 1]"
   ]
  },
  {
   "cell_type": "code",
   "execution_count": null,
   "metadata": {},
   "outputs": [],
   "source": [
    "frequency_records_for_u = []\n",
    "for sample, sample_frequencies in frequencies_for_u.items():\n",
    "    for pivot, sample_frequency in zip(pivots_for_u, sample_frequencies[\"frequencies\"]):\n",
    "        # Ignore projected frequencies from timepoint u.\n",
    "        if pivot <= projection_pivot_for_u:\n",
    "            frequency_records_for_u.append({\n",
    "                \"strain\": sample,\n",
    "                \"timepoint\": float_to_datestring(pivot),\n",
    "                \"pivot\": pivot,\n",
    "                \"frequency\": sample_frequency\n",
    "            })"
   ]
  },
  {
   "cell_type": "code",
   "execution_count": null,
   "metadata": {},
   "outputs": [],
   "source": [
    "frequency_df_for_u = pd.DataFrame(frequency_records_for_u)"
   ]
  },
  {
   "cell_type": "code",
   "execution_count": null,
   "metadata": {},
   "outputs": [],
   "source": [
    "frequency_df_for_u[\"timepoint\"] = pd.to_datetime(frequency_df_for_u[\"timepoint\"])"
   ]
  },
  {
   "cell_type": "code",
   "execution_count": null,
   "metadata": {},
   "outputs": [],
   "source": [
    "frequency_df_for_u.head()"
   ]
  },
  {
   "cell_type": "markdown",
   "metadata": {},
   "source": [
    "Annotate trees with frequencies at corresponding timepoints. For the tree at timepoint t, annotate both current and projected frequencies. For the tree at timepoint u, annotate the current frequencies."
   ]
  },
  {
   "cell_type": "code",
   "execution_count": null,
   "metadata": {},
   "outputs": [],
   "source": [
    "pivots[projection_pivot_index_for_t]"
   ]
  },
  {
   "cell_type": "code",
   "execution_count": null,
   "metadata": {},
   "outputs": [],
   "source": [
    "projection_pivot_index_for_t"
   ]
  },
  {
   "cell_type": "code",
   "execution_count": null,
   "metadata": {},
   "outputs": [],
   "source": [
    "max_frequency = 0.5"
   ]
  },
  {
   "cell_type": "code",
   "execution_count": null,
   "metadata": {},
   "outputs": [],
   "source": [
    "for tip in tree_for_t.find_clades(terminal=True):\n",
    "    tip.attr[\"frequency_at_t\"] = min(frequencies_for_t[tip.name][\"frequencies\"][projection_pivot_index_for_t], max_frequency)\n",
    "    tip.attr[\"projected_frequency_at_u\"] = min(frequencies_for_t[tip.name][\"frequencies\"][-1], max_frequency)"
   ]
  },
  {
   "cell_type": "code",
   "execution_count": null,
   "metadata": {},
   "outputs": [],
   "source": [
    "projection_pivot"
   ]
  },
  {
   "cell_type": "code",
   "execution_count": null,
   "metadata": {},
   "outputs": [],
   "source": [
    "for tip in tree_for_u.find_clades(terminal=True):\n",
    "    if tip.attr[\"num_date\"] > projection_pivot:\n",
    "        tip.attr[\"frequency_at_u\"] = min(frequencies_for_u[tip.name][\"frequencies\"][projection_pivot_index], max_frequency)\n",
    "    else:\n",
    "        tip.attr[\"frequency_at_u\"] = 0.0"
   ]
  },
  {
   "cell_type": "code",
   "execution_count": null,
   "metadata": {},
   "outputs": [],
   "source": [
    "tips_with_nonzero_frequencies = set()\n",
    "\n",
    "for tip in tree_for_t.find_clades(terminal=True):\n",
    "    if tip.attr[\"frequency_at_t\"] > 0:\n",
    "        tips_with_nonzero_frequencies.add(tip.name)\n",
    "\n",
    "for tip in tree_for_u.find_clades(terminal=True):\n",
    "    if tip.attr[\"frequency_at_u\"] > 0:\n",
    "        tips_with_nonzero_frequencies.add(tip.name)"
   ]
  },
  {
   "cell_type": "code",
   "execution_count": null,
   "metadata": {},
   "outputs": [],
   "source": [
    "len(tips_with_nonzero_frequencies)"
   ]
  },
  {
   "cell_type": "markdown",
   "metadata": {},
   "source": [
    "## t-SNE to cluster sequences\n",
    "\n",
    "Cluster sequences for tips in the latest tree which should be a super set of tips in the earliest tree. We only consider tips with a projected frequency greater than zero from timepoint t to u or tips that are collected after timepoint t. Clustering happens in one dimension through t-SNE dimensionality reduction. This is a simple way of identifying sequences that are \"close\" to each other in a low dimensional space for comparison of tips within and between timepoints."
   ]
  },
  {
   "cell_type": "code",
   "execution_count": null,
   "metadata": {},
   "outputs": [],
   "source": [
    "projected_frequency_by_sample_from_t = {\n",
    "    node.name: node.attr.get(\"projected_frequency\", 0.0)\n",
    "    for node in tree_for_t.find_clades(terminal=True)\n",
    "}"
   ]
  },
  {
   "cell_type": "code",
   "execution_count": null,
   "metadata": {},
   "outputs": [],
   "source": [
    "nodes = [\n",
    "    node for node in tree_for_u.find_clades(terminal=True)\n",
    "    if node.attr[\"num_date\"] > earliest_date_to_plot\n",
    "]"
   ]
  },
  {
   "cell_type": "code",
   "execution_count": null,
   "metadata": {},
   "outputs": [],
   "source": [
    "total_nodes = len(nodes)"
   ]
  },
  {
   "cell_type": "code",
   "execution_count": null,
   "metadata": {},
   "outputs": [],
   "source": [
    "total_nodes"
   ]
  },
  {
   "cell_type": "code",
   "execution_count": null,
   "metadata": {},
   "outputs": [],
   "source": [
    "distances = np.zeros((total_nodes, total_nodes))\n",
    "for i, node_a in enumerate(nodes):\n",
    "    node_a_array = np.frombuffer(node_a.attr[\"aa_sequence\"].encode(), 'S1')\n",
    "    \n",
    "    for j, node_b in enumerate(nodes):\n",
    "        if node_a.name == node_b.name:\n",
    "            distance = 0.0\n",
    "        elif distances[j, i] > 0:\n",
    "            distance = distances[j, i]\n",
    "        else:\n",
    "            node_b_array = np.frombuffer(node_b.attr[\"aa_sequence\"].encode(), 'S1')\n",
    "            distance = (node_a_array != node_b_array).sum()\n",
    "            \n",
    "        distances[i, j] = distance"
   ]
  },
  {
   "cell_type": "code",
   "execution_count": null,
   "metadata": {},
   "outputs": [],
   "source": [
    "sns.heatmap(\n",
    "    distances,\n",
    "    cmap=\"cividis\",\n",
    "    robust=True,\n",
    "    square=True,\n",
    "    xticklabels=False,\n",
    "    yticklabels=False\n",
    ")"
   ]
  },
  {
   "cell_type": "code",
   "execution_count": null,
   "metadata": {},
   "outputs": [],
   "source": [
    "X_embedded = TSNE(n_components=2, learning_rate=400, metric=\"precomputed\", random_state=314).fit_transform(distances)"
   ]
  },
  {
   "cell_type": "code",
   "execution_count": null,
   "metadata": {},
   "outputs": [],
   "source": [
    "fig, ax = plt.subplots(1, 1, figsize=(6, 6))\n",
    "ax.plot(X_embedded[:, 0], X_embedded[:, 1], \".\", alpha=0.25)"
   ]
  },
  {
   "cell_type": "code",
   "execution_count": null,
   "metadata": {},
   "outputs": [],
   "source": [
    "clustering = DBSCAN(eps=10, min_samples=20).fit(X_embedded)"
   ]
  },
  {
   "cell_type": "code",
   "execution_count": null,
   "metadata": {},
   "outputs": [],
   "source": [
    "df = pd.DataFrame(X_embedded, columns=[\"dimension 0\", \"dimension 1\"])"
   ]
  },
  {
   "cell_type": "code",
   "execution_count": null,
   "metadata": {},
   "outputs": [],
   "source": [
    "df[\"label\"] = clustering.labels_"
   ]
  },
  {
   "cell_type": "code",
   "execution_count": null,
   "metadata": {},
   "outputs": [],
   "source": [
    "label_normalizer = mpl.colors.Normalize(df[\"label\"].min(), df[\"label\"].max())"
   ]
  },
  {
   "cell_type": "code",
   "execution_count": null,
   "metadata": {},
   "outputs": [],
   "source": [
    "cmap = list(reversed(sns.color_palette(\"Paired\", n_colors=len(df[\"label\"].unique()))))"
   ]
  },
  {
   "cell_type": "code",
   "execution_count": null,
   "metadata": {},
   "outputs": [],
   "source": [
    "df[\"color\"] = df[\"label\"].apply(lambda value: cmap[value])"
   ]
  },
  {
   "cell_type": "code",
   "execution_count": null,
   "metadata": {},
   "outputs": [],
   "source": [
    "cmap_for_tree = dict(df.loc[:, [\"label\", \"color\"]].values)"
   ]
  },
  {
   "cell_type": "code",
   "execution_count": null,
   "metadata": {},
   "outputs": [],
   "source": [
    "fig, ax = plt.subplots(1, 1, figsize=(6, 6))\n",
    "ax.scatter(\n",
    "    df[\"dimension 0\"],\n",
    "    df[\"dimension 1\"],\n",
    "    alpha=0.25,\n",
    "    c=df[\"color\"]\n",
    ")\n",
    "ax.set_xlabel(\"dimension 0\")\n",
    "ax.set_ylabel(\"dimension 1\")\n",
    "plt.tight_layout()"
   ]
  },
  {
   "cell_type": "code",
   "execution_count": null,
   "metadata": {},
   "outputs": [],
   "source": [
    "X_embedded_1d = TSNE(n_components=1, learning_rate=500, metric=\"precomputed\", random_state=314).fit_transform(distances)"
   ]
  },
  {
   "cell_type": "code",
   "execution_count": null,
   "metadata": {},
   "outputs": [],
   "source": [
    "X_embedded_1d.shape"
   ]
  },
  {
   "cell_type": "markdown",
   "metadata": {},
   "source": [
    "Annotate nodes in both trees with ranks from t-SNE."
   ]
  },
  {
   "cell_type": "code",
   "execution_count": null,
   "metadata": {},
   "outputs": [],
   "source": [
    "tree_t_nodes_by_name = {node.name: node for node in tree_for_t.find_clades(terminal=True)}"
   ]
  },
  {
   "cell_type": "code",
   "execution_count": null,
   "metadata": {},
   "outputs": [],
   "source": [
    "rank_records = []\n",
    "for i, node in enumerate(nodes):\n",
    "    node.attr[\"rank\"] = X_embedded_1d[i, 0]\n",
    "    node.attr[\"label\"] = clustering.labels_[i]\n",
    "    \n",
    "    if node.name in tree_t_nodes_by_name:\n",
    "        tree_t_nodes_by_name[node.name].attr[\"rank\"] = X_embedded_1d[i, 0]\n",
    "        tree_t_nodes_by_name[node.name].attr[\"label\"] = clustering.labels_[i]\n",
    "    \n",
    "    rank_records.append({\n",
    "        \"strain\": node.name,\n",
    "        \"rank\": node.attr[\"rank\"],\n",
    "        \"label\": node.attr[\"label\"]\n",
    "    })"
   ]
  },
  {
   "cell_type": "code",
   "execution_count": null,
   "metadata": {},
   "outputs": [],
   "source": [
    "rank_df = pd.DataFrame(rank_records)"
   ]
  },
  {
   "cell_type": "code",
   "execution_count": null,
   "metadata": {},
   "outputs": [],
   "source": [
    "rank_normalizer = mpl.colors.Normalize(rank_df[\"rank\"].min(), rank_df[\"rank\"].max())"
   ]
  },
  {
   "cell_type": "code",
   "execution_count": null,
   "metadata": {},
   "outputs": [],
   "source": [
    "rank_df[\"color\"] = rank_df[\"label\"].apply(lambda value: cmap[value])"
   ]
  },
  {
   "cell_type": "code",
   "execution_count": null,
   "metadata": {},
   "outputs": [],
   "source": [
    "fig, ax = plt.subplots(1, 1, figsize=(8, 0.5))\n",
    "ax.scatter(X_embedded_1d[:, 0], np.zeros_like(X_embedded_1d[:, 0]), marker=\".\", alpha=0.04, c=rank_df[\"color\"].values.tolist())\n",
    "ax.set_ylim(-0.001, 0.001)"
   ]
  },
  {
   "cell_type": "code",
   "execution_count": null,
   "metadata": {},
   "outputs": [],
   "source": [
    "fig, ax = plt.subplots(1, 1, figsize=(8, 1))\n",
    "ax.scatter(X_embedded_1d[:, 0], rank_df[\"label\"], marker=\".\", alpha=0.02, c=rank_df[\"color\"].values.tolist())\n",
    "#ax.set_ylim(-0.001, 0.001)"
   ]
  },
  {
   "cell_type": "markdown",
   "metadata": {},
   "source": [
    "## Annotate t-SNE-based cluster information for both sets of frequencies."
   ]
  },
  {
   "cell_type": "code",
   "execution_count": null,
   "metadata": {},
   "outputs": [],
   "source": [
    "rank_frequency_df_for_t = frequency_df_for_t.merge(\n",
    "    rank_df,\n",
    "    on=\"strain\"\n",
    ").sort_values([\"label\", \"strain\", \"timepoint\"])"
   ]
  },
  {
   "cell_type": "code",
   "execution_count": null,
   "metadata": {},
   "outputs": [],
   "source": [
    "rank_frequency_df_for_t[\"ordinal_timepoint\"] = rank_frequency_df_for_t[\"timepoint\"].apply(lambda value: value.toordinal())"
   ]
  },
  {
   "cell_type": "code",
   "execution_count": null,
   "metadata": {},
   "outputs": [],
   "source": [
    "rank_frequency_df_for_u = frequency_df_for_u.merge(\n",
    "    rank_df,\n",
    "    on=\"strain\"\n",
    ").sort_values([\"label\", \"strain\", \"timepoint\"])"
   ]
  },
  {
   "cell_type": "code",
   "execution_count": null,
   "metadata": {},
   "outputs": [],
   "source": [
    "rank_frequency_df_for_u[\"ordinal_timepoint\"] = rank_frequency_df_for_u[\"timepoint\"].apply(lambda value: value.toordinal())"
   ]
  },
  {
   "cell_type": "code",
   "execution_count": null,
   "metadata": {},
   "outputs": [],
   "source": [
    "start_date = pd.to_datetime(\"2028-10-01\").toordinal()\n",
    "end_date = pd.to_datetime(\"2030-11-15\").toordinal()\n",
    "frequency_end_date = pd.to_datetime(\"2030-10-01\").toordinal()\n",
    "\n",
    "timepoint_t = pd.to_datetime(float_to_datestring(projection_pivot)).toordinal()\n",
    "timepoint_u = pd.to_datetime(float_to_datestring(projection_pivot_for_u)).toordinal()"
   ]
  },
  {
   "cell_type": "code",
   "execution_count": null,
   "metadata": {},
   "outputs": [],
   "source": [
    "frequency_steps = [0, 0.25, 0.5, 0.75, 1.0]"
   ]
  },
  {
   "cell_type": "markdown",
   "metadata": {},
   "source": [
    "## Plot tree"
   ]
  },
  {
   "cell_type": "code",
   "execution_count": null,
   "metadata": {},
   "outputs": [],
   "source": [
    "yvalues = [node.yvalue for node in tree_for_t.find_clades(terminal=True)]\n",
    "y_span = max(yvalues)"
   ]
  },
  {
   "cell_type": "code",
   "execution_count": null,
   "metadata": {},
   "outputs": [],
   "source": [
    "fig = plt.figure(figsize=(12, 8), facecolor='w')\n",
    "gs = gridspec.GridSpec(2, 2, height_ratios=[1, 0.5], width_ratios=[1, 1], hspace=0.25, wspace=0.1)\n",
    "\n",
    "# Tree plot for timepoint t\n",
    "\n",
    "tree_ax = fig.add_subplot(gs[0])    \n",
    "tree_ax, colorbar_ax = plot_tree_by_datetime(\n",
    "    tree_for_t,\n",
    "    color_by_trait=\"label\",\n",
    "    size_by_trait=\"frequency_at_t\",\n",
    "    ax=tree_ax,\n",
    "    start_date=start_date,\n",
    "    end_date=end_date,\n",
    "    tip_size=tip_size,\n",
    "    initial_branch_width=1,\n",
    "    plot_projection_from_date=timepoint_t,\n",
    "    plot_projection_to_date=timepoint_u,\n",
    "    projection_attr=\"projected_frequency_at_u\",\n",
    "    cmap=cmap_for_tree\n",
    ")\n",
    "tree_ax.set_ylim(4000, 6700)\n",
    "#tree_ax.set_ylim(400, 750)\n",
    "\n",
    "years = mdates.YearLocator()\n",
    "years_fmt = mdates.DateFormatter(\"%y\")\n",
    "months = mdates.MonthLocator()\n",
    "tree_ax.xaxis.set_major_locator(years)\n",
    "tree_ax.xaxis.set_major_formatter(years_fmt)\n",
    "tree_ax.xaxis.set_minor_locator(months)\n",
    "tree_ax.format_xdata = mdates.DateFormatter(\"%b %y\")\n",
    "\n",
    "tree_ax.text(0.46, 1.0, \"$\\mathbf{x}(t)$\", \n",
    "             horizontalalignment='center',\n",
    "             verticalalignment='center',\n",
    "             transform=tree_ax.transAxes,\n",
    "             fontdict={\"fontsize\": 14})\n",
    "tree_ax.text(0.94, 1.0, \"$\\mathbf{\\hat{x}}(u)$\", \n",
    "             horizontalalignment='center',\n",
    "             verticalalignment='center',\n",
    "             transform=tree_ax.transAxes,\n",
    "             fontdict={\"fontsize\": 14})\n",
    "tree_ax.axvline(x=timepoint_t, ymax=0.96, color=\"#999999\", linestyle=\"--\", alpha=0.5)\n",
    "tree_ax.axvline(x=timepoint_u, ymax=0.96, color=\"#999999\", linestyle=\"--\", alpha=0.5)\n",
    "\n",
    "# Frequency plot for timepoint t\n",
    "\n",
    "frequency_ax = fig.add_subplot(gs[2])\n",
    "baseline = np.zeros_like(pivots)\n",
    "for strain, strain_df in rank_frequency_df_for_t.groupby([\"label\", \"strain\"]):\n",
    "    frequency_ax.fill_between(\n",
    "        strain_df[\"ordinal_timepoint\"].values,\n",
    "        baseline, baseline + strain_df[\"frequency\"].values,\n",
    "        color=strain_df[\"color\"].unique()[0]\n",
    "    )\n",
    "    baseline = baseline + strain_df[\"frequency\"].values\n",
    "\n",
    "frequency_ax.axvline(x=timepoint_t, color=\"#999999\", linestyle=\"--\")\n",
    "frequency_ax.axvline(x=timepoint_u, color=\"#999999\", linestyle=\"--\")    \n",
    "\n",
    "frequency_ax.text(\n",
    "    0.72,\n",
    "    0.995,\n",
    "    \"Forecast\",\n",
    "    horizontalalignment=\"center\",\n",
    "    verticalalignment=\"center\",\n",
    "    transform=frequency_ax.transAxes,\n",
    "    fontdict={\"fontsize\": 12}\n",
    ")\n",
    "\n",
    "frequency_ax.set_yticks(frequency_steps)\n",
    "frequency_ax.set_yticklabels(['{:3.0f}%'.format(x*100) for x in frequency_steps])\n",
    "frequency_ax.set_ylabel(\"Frequency\")\n",
    "frequency_ax.set_xlabel(\"Date\")\n",
    "\n",
    "frequency_ax.set_xlim(start_date, end_date)\n",
    "frequency_ax.set_ylim(bottom=0.0)\n",
    "\n",
    "frequency_ax.xaxis.set_major_locator(years)\n",
    "frequency_ax.xaxis.set_major_formatter(years_fmt)\n",
    "frequency_ax.xaxis.set_minor_locator(months)\n",
    "frequency_ax.format_xdata = mdates.DateFormatter(\"%b %y\")\n",
    "\n",
    "# Tree plot for timepoint u\n",
    "\n",
    "tree_u_ax = fig.add_subplot(gs[1])    \n",
    "tree_u_ax, colorbar_u_ax = plot_tree_by_datetime(\n",
    "    tree_for_u,\n",
    "    color_by_trait=\"label\",\n",
    "    size_by_trait=\"frequency_at_u\",\n",
    "    ax=tree_u_ax,\n",
    "    start_date=start_date,\n",
    "    end_date=end_date,\n",
    "    tip_size=tip_size,\n",
    "    initial_branch_width=1,\n",
    "    cmap=cmap_for_tree\n",
    ")\n",
    "tree_u_ax.set_ylim(4100, 6700)\n",
    "\n",
    "#tree_u_ax.set_ylim(400, 750)\n",
    "\n",
    "tree_u_ax.xaxis.set_major_locator(years)\n",
    "tree_u_ax.xaxis.set_major_formatter(years_fmt)\n",
    "tree_u_ax.xaxis.set_minor_locator(months)\n",
    "tree_u_ax.format_xdata = mdates.DateFormatter(\"%b %y\")\n",
    "\n",
    "tree_u_ax.text(0.46, 1.0, \"$\\mathbf{x}(t)$\", \n",
    "             horizontalalignment='center',\n",
    "             verticalalignment='center',\n",
    "             transform=tree_u_ax.transAxes,\n",
    "             fontdict={\"fontsize\": 14})\n",
    "tree_u_ax.text(0.94, 1.0, \"$\\mathbf{x}(u)$\", \n",
    "             horizontalalignment='center',\n",
    "             verticalalignment='center',\n",
    "             transform=tree_u_ax.transAxes,\n",
    "             fontdict={\"fontsize\": 14})\n",
    "tree_u_ax.axvline(x=timepoint_t, ymax=0.96, color=\"#999999\", linestyle=\"--\", alpha=0.5)\n",
    "tree_u_ax.axvline(x=timepoint_u, ymax=0.96, color=\"#999999\", linestyle=\"--\", alpha=0.5)\n",
    "\n",
    "# Frequency plot for timepoint u\n",
    "\n",
    "frequency_u_ax = fig.add_subplot(gs[3])\n",
    "baseline_u = np.zeros_like(pivots[2:])\n",
    "for strain, strain_df in rank_frequency_df_for_u.groupby([\"label\", \"strain\"]):\n",
    "    frequency_u_ax.fill_between(\n",
    "        strain_df[\"ordinal_timepoint\"].values[:projection_pivot_index + 1],\n",
    "        baseline_u, baseline_u + strain_df[\"frequency\"].values[:projection_pivot_index + 1],\n",
    "        color=strain_df[\"color\"].unique()[0]\n",
    "    )\n",
    "    baseline_u = baseline_u + strain_df[\"frequency\"].values[:projection_pivot_index + 1]\n",
    "\n",
    "frequency_u_ax.axvline(x=timepoint_t, color=\"#999999\", linestyle=\"--\")\n",
    "frequency_u_ax.axvline(x=timepoint_u, color=\"#999999\", linestyle=\"--\")    \n",
    "\n",
    "frequency_u_ax.text(\n",
    "    0.72,\n",
    "    0.995,\n",
    "    \"Retrospective\",\n",
    "    horizontalalignment=\"center\",\n",
    "    verticalalignment=\"center\",\n",
    "    transform=frequency_u_ax.transAxes,\n",
    "    fontdict={\"fontsize\": 12}\n",
    ")\n",
    "\n",
    "frequency_u_ax.set_yticks(frequency_steps)\n",
    "frequency_u_ax.set_yticklabels(['{:3.0f}%'.format(x*100) for x in frequency_steps])\n",
    "frequency_u_ax.set_ylabel(\"Frequency\")\n",
    "frequency_u_ax.set_xlabel(\"Date\")\n",
    "\n",
    "frequency_u_ax.set_xlim(start_date, end_date)\n",
    "frequency_u_ax.set_ylim(bottom=0.0)\n",
    "\n",
    "frequency_u_ax.xaxis.set_major_locator(years)\n",
    "frequency_u_ax.xaxis.set_major_formatter(years_fmt)\n",
    "frequency_u_ax.xaxis.set_minor_locator(months)\n",
    "frequency_u_ax.format_xdata = mdates.DateFormatter(\"%b %y\")\n",
    "\n",
    "fig.autofmt_xdate(rotation=0, ha=\"center\")\n",
    "\n",
    "# Annotate panel labels.\n",
    "panel_labels_dict = {\n",
    "    \"weight\": \"bold\",\n",
    "    \"size\": 14\n",
    "}\n",
    "plt.figtext(0.0, 0.98, \"A\", **panel_labels_dict)\n",
    "plt.figtext(0.0, 0.36, \"B\", **panel_labels_dict)\n",
    "plt.figtext(0.5, 0.98, \"C\", **panel_labels_dict)\n",
    "plt.figtext(0.5, 0.36, \"D\", **panel_labels_dict)\n",
    "\n",
    "gs.tight_layout(fig, h_pad=1.0)\n",
    "\n",
    "plt.savefig(distance_model_figure)"
   ]
  },
  {
   "cell_type": "code",
   "execution_count": null,
   "metadata": {},
   "outputs": [],
   "source": [
    "projected_frequency_records = []\n",
    "projected_frequency_at_u = []\n",
    "projected_colors = []\n",
    "for tip in tree_for_t.find_clades(terminal=True):\n",
    "    if \"projected_frequency_at_u\" in tip.attr and tip.attr[\"projected_frequency_at_u\"] > 1e-2:\n",
    "        projected_frequency_at_u.append(tip.attr[\"projected_frequency_at_u\"])\n",
    "        projected_colors.append(cmap_for_tree[tip.attr[\"label\"]])\n",
    "        \n",
    "        projected_frequency_records.append({\n",
    "            \"frequency\": tip.attr[\"projected_frequency_at_u\"],\n",
    "            \"group\": tip.attr[\"label\"]\n",
    "        })\n",
    "\n",
    "projected_frequency_df = pd.DataFrame(projected_frequency_records)"
   ]
  },
  {
   "cell_type": "code",
   "execution_count": null,
   "metadata": {},
   "outputs": [],
   "source": [
    "observed_frequency_records = []\n",
    "observed_frequency_at_u = []\n",
    "observed_colors = []\n",
    "for tip in tree_for_u.find_clades(terminal=True):\n",
    "    if \"frequency_at_u\" in tip.attr and tip.attr[\"frequency_at_u\"] > 0.0:\n",
    "        observed_frequency_at_u.append(tip.attr[\"frequency_at_u\"])\n",
    "        observed_colors.append(cmap_for_tree[tip.attr[\"label\"]])\n",
    "        \n",
    "        observed_frequency_records.append({\n",
    "            \"frequency\": tip.attr[\"frequency_at_u\"],\n",
    "            \"group\": tip.attr[\"label\"]\n",
    "        })\n",
    "\n",
    "observed_frequency_df = pd.DataFrame(observed_frequency_records)"
   ]
  },
  {
   "cell_type": "code",
   "execution_count": null,
   "metadata": {},
   "outputs": [],
   "source": [
    "projected_frequency_arrays = []\n",
    "projected_frequency_colors = []\n",
    "for group, df in projected_frequency_df.groupby(\"group\"):\n",
    "    projected_frequency_arrays.append(df[\"frequency\"].values)\n",
    "    projected_frequency_colors.append(cmap_for_tree[group])"
   ]
  },
  {
   "cell_type": "code",
   "execution_count": null,
   "metadata": {},
   "outputs": [],
   "source": [
    "projected_frequency_rank = []\n",
    "projected_frequency_frequencies = []\n",
    "projected_frequency_colors = []\n",
    "for index, row in projected_frequency_df.groupby(\"group\")[\"frequency\"].sum().sort_values(ascending=False).reset_index().iterrows():\n",
    "    projected_frequency_rank.append(row[\"group\"])\n",
    "    projected_frequency_frequencies.append(row[\"frequency\"])\n",
    "    projected_frequency_colors.append(cmap_for_tree[row[\"group\"]])"
   ]
  },
  {
   "cell_type": "code",
   "execution_count": null,
   "metadata": {},
   "outputs": [],
   "source": [
    "observed_frequency_arrays = []\n",
    "observed_frequency_colors = []\n",
    "for group, df in observed_frequency_df.groupby(\"group\"):\n",
    "    observed_frequency_arrays.append(df[\"frequency\"].values)\n",
    "    observed_frequency_colors.append(cmap_for_tree[group])"
   ]
  },
  {
   "cell_type": "code",
   "execution_count": null,
   "metadata": {},
   "outputs": [],
   "source": [
    "observed_frequency_rank = []\n",
    "observed_frequency_frequencies = []\n",
    "observed_frequency_colors = []\n",
    "for index, row in observed_frequency_df.groupby(\"group\")[\"frequency\"].sum().sort_values(ascending=False).reset_index().iterrows():\n",
    "    if row[\"frequency\"] > 0.05:\n",
    "        observed_frequency_rank.append(row[\"group\"])\n",
    "        observed_frequency_frequencies.append(row[\"frequency\"])\n",
    "        observed_frequency_colors.append(cmap_for_tree[row[\"group\"]])"
   ]
  },
  {
   "cell_type": "code",
   "execution_count": null,
   "metadata": {},
   "outputs": [],
   "source": [
    "rank_to_index = {\n",
    "    7: 0,\n",
    "    6: 1,\n",
    "    8: 2,\n",
    "    4: 3\n",
    "}"
   ]
  },
  {
   "cell_type": "code",
   "execution_count": null,
   "metadata": {},
   "outputs": [],
   "source": [
    "rank_normalizer = mpl.colors.Normalize(X_embedded_1d.min(), X_embedded_1d.max())"
   ]
  },
  {
   "cell_type": "code",
   "execution_count": null,
   "metadata": {},
   "outputs": [],
   "source": [
    "size_scaler = 1e3\n",
    "default_size = 0.001\n",
    "projection_attr = \"projected_frequency\"\n",
    "projection_line_threshold = 1e-2\n",
    "plot_projection_to_date = timepoint_u\n",
    "\n",
    "fig = plt.figure(figsize=(12, 8), facecolor='w')\n",
    "gs = gridspec.GridSpec(2, 2, height_ratios=[1, 0.5], width_ratios=[1, 1], hspace=0.25, wspace=0.1)\n",
    "\n",
    "# Plot for timepoint t\n",
    "tip_circles_x_for_t = []\n",
    "tip_circles_y_for_t = []\n",
    "tip_circles_sizes_for_t = []\n",
    "tip_circles_colors_for_t = []\n",
    "projection_line_segments = []\n",
    "\n",
    "t_ax = fig.add_subplot(gs[0])\n",
    "for node in tree_for_t.find_clades(terminal=True):\n",
    "    if \"rank\" in node.attr:\n",
    "        x = node.attr[\"collection_date_ordinal\"]\n",
    "        y = node.attr[\"rank\"]\n",
    "        tip_circles_x_for_t.append(x)\n",
    "        tip_circles_y_for_t.append(y)\n",
    "        tip_circles_sizes_for_t.append(size_scaler * np.sqrt(node.attr.get(\"frequency_at_t\", default_size)))\n",
    "        tip_circles_colors_for_t.append(mpl.cm.gist_gray(rank_normalizer(y)))\n",
    "        \n",
    "        if node.attr.get(projection_attr, 0.0) > projection_line_threshold:\n",
    "            future_s = (size_scaler * np.sqrt(node.attr.get(projection_attr)))\n",
    "            future_x = plot_projection_to_date + np.random.randint(-60, 0)\n",
    "            future_y = y\n",
    "\n",
    "            tip_circles_sizes_for_t.append(future_s)\n",
    "            tip_circles_x_for_t.append(future_x)\n",
    "            tip_circles_y_for_t.append(future_y)\n",
    "            tip_circles_colors_for_t.append(mpl.cm.gist_gray(rank_normalizer(y)))\n",
    "\n",
    "            projection_line_segments.append([(x + 1, y), (future_x, y)])\n",
    "\n",
    "t_ax.scatter(\n",
    "    tip_circles_x_for_t,\n",
    "    tip_circles_y_for_t,\n",
    "    s=tip_circles_sizes_for_t,\n",
    "    facecolor=tip_circles_colors_for_t,\n",
    "    edgecolors='#000000',\n",
    "    linewidths=0.5,\n",
    "    alpha=0.75,\n",
    "    zorder=11\n",
    ")\n",
    "\n",
    "projection_lc = LineCollection(projection_line_segments, zorder=-10)\n",
    "projection_lc.set_color(\"#cccccc\")\n",
    "projection_lc.set_linewidth(1)\n",
    "projection_lc.set_linestyle(\"--\")\n",
    "projection_lc.set_alpha(0.5)\n",
    "t_ax.add_collection(projection_lc)\n",
    "\n",
    "t_ax.axvline(x=timepoint_t, linestyle=\"--\", color=\"#999999\")\n",
    "t_ax.axvline(x=timepoint_u, linestyle=\"--\", color=\"#999999\")\n",
    "\n",
    "t_ax.spines['top'].set_visible(False) ## no axes\n",
    "t_ax.spines['right'].set_visible(False)\n",
    "t_ax.spines['left'].set_visible(False)\n",
    "t_ax.tick_params(axis='y',size=0)\n",
    "t_ax.set_yticklabels([])\n",
    "\n",
    "t_ax.xaxis.set_major_locator(years)\n",
    "t_ax.xaxis.set_major_formatter(years_fmt)\n",
    "t_ax.xaxis.set_minor_locator(months)\n",
    "t_ax.format_xdata = mdates.DateFormatter(\"%b %y\")\n",
    "\n",
    "t_ax.set_xlim(start_date, end_date)\n",
    "\n",
    "# Frequency plot for timepoint t\n",
    "\n",
    "frequency_ax = fig.add_subplot(gs[2])\n",
    "baseline = np.zeros_like(pivots)\n",
    "for (rank, strain), strain_df in rank_frequency_df_for_t.groupby([\"rank\", \"strain\"]):\n",
    "    frequency_ax.fill_between(\n",
    "        strain_df[\"ordinal_timepoint\"].values,\n",
    "        baseline, baseline + strain_df[\"frequency\"].values,\n",
    "        color=mpl.cm.gist_gray(rank_normalizer(rank))\n",
    "    )\n",
    "    baseline = baseline + strain_df[\"frequency\"].values\n",
    "\n",
    "frequency_ax.axvline(x=timepoint_t, color=\"#999999\", linestyle=\"--\")\n",
    "frequency_ax.axvline(x=timepoint_u, color=\"#999999\", linestyle=\"--\")    \n",
    "\n",
    "frequency_ax.text(\n",
    "    0.72,\n",
    "    0.99,\n",
    "    \"Projection\",\n",
    "    horizontalalignment=\"center\",\n",
    "    verticalalignment=\"center\",\n",
    "    transform=frequency_ax.transAxes,\n",
    "    fontdict={\"fontsize\": 10}\n",
    ")\n",
    "\n",
    "frequency_ax.set_yticks(frequency_steps)\n",
    "frequency_ax.set_yticklabels(['{:3.0f}%'.format(x*100) for x in frequency_steps])\n",
    "frequency_ax.set_ylabel(\"Frequency\")\n",
    "frequency_ax.set_xlabel(\"Date\")\n",
    "\n",
    "frequency_ax.set_xlim(start_date, end_date)\n",
    "frequency_ax.set_ylim(bottom=0.0)\n",
    "\n",
    "frequency_ax.xaxis.set_major_locator(years)\n",
    "frequency_ax.xaxis.set_major_formatter(years_fmt)\n",
    "frequency_ax.xaxis.set_minor_locator(months)\n",
    "frequency_ax.format_xdata = mdates.DateFormatter(\"%b %y\")\n",
    "\n",
    "# Plot for timepoint u\n",
    "u_ax = fig.add_subplot(gs[1])\n",
    "\n",
    "tip_circles_x_for_u = []\n",
    "tip_circles_y_for_u = []\n",
    "tip_circles_sizes_for_u = []\n",
    "tip_circles_colors_for_u = []\n",
    "\n",
    "for node in tree_for_t.find_clades(terminal=True):\n",
    "    if \"rank\" in node.attr:\n",
    "        x = node.attr[\"collection_date_ordinal\"]\n",
    "        y = node.attr[\"rank\"]\n",
    "        tip_circles_x_for_u.append(x)\n",
    "        tip_circles_y_for_u.append(y)\n",
    "        tip_circles_sizes_for_u.append(size_scaler * np.sqrt(node.attr.get(\"frequency_at_t\", default_size)))\n",
    "        tip_circles_colors_for_u.append(mpl.cm.gist_gray(rank_normalizer(y)))\n",
    "\n",
    "for node in tree_for_u.find_clades(terminal=True):\n",
    "    if \"rank\" in node.attr:\n",
    "        tip_circles_x_for_u.append(node.attr[\"collection_date_ordinal\"])\n",
    "        tip_circles_y_for_u.append(node.attr[\"rank\"])\n",
    "        tip_circles_sizes_for_u.append(1e3 * np.sqrt(node.attr.get(\"frequency_at_u\", default_size)))\n",
    "        tip_circles_colors_for_u.append(mpl.cm.gist_gray(rank_normalizer(node.attr[\"rank\"])))\n",
    "        \n",
    "u_ax.scatter(\n",
    "    tip_circles_x_for_u,\n",
    "    tip_circles_y_for_u,\n",
    "    s=tip_circles_sizes_for_u,\n",
    "    facecolor=tip_circles_colors_for_u,\n",
    "    edgecolors='#000000',\n",
    "    linewidths=0.5,\n",
    "    alpha=0.75,\n",
    "    zorder=11\n",
    ")\n",
    "\n",
    "u_ax.axvline(x=timepoint_t, linestyle=\"--\", color=\"#999999\")\n",
    "u_ax.axvline(x=timepoint_u, linestyle=\"--\", color=\"#999999\")\n",
    "\n",
    "u_ax.spines['top'].set_visible(False) ## no axes\n",
    "u_ax.spines['right'].set_visible(False)\n",
    "u_ax.spines['left'].set_visible(False)\n",
    "u_ax.tick_params(axis='y',size=0)\n",
    "u_ax.set_yticklabels([])\n",
    "\n",
    "u_ax.xaxis.set_major_locator(years)\n",
    "u_ax.xaxis.set_major_formatter(years_fmt)\n",
    "u_ax.xaxis.set_minor_locator(months)\n",
    "u_ax.format_xdata = mdates.DateFormatter(\"%b %y\")\n",
    "\n",
    "u_ax.set_xlim(end_date, start_date)\n",
    "\n",
    "# Frequency plot for timepoint u\n",
    "\n",
    "frequency_u_ax = fig.add_subplot(gs[3])\n",
    "baseline_u = np.zeros_like(pivots[2:])\n",
    "for (rank, strain), strain_df in rank_frequency_df_for_u.groupby([\"rank\", \"strain\"]):\n",
    "    frequency_u_ax.fill_between(\n",
    "        strain_df[\"ordinal_timepoint\"].values[:projection_pivot_index + 1],\n",
    "        baseline_u, baseline_u + strain_df[\"frequency\"].values[:projection_pivot_index + 1],\n",
    "        color=mpl.cm.gist_gray(rank_normalizer(rank))\n",
    "    )\n",
    "    baseline_u = baseline_u + strain_df[\"frequency\"].values[:projection_pivot_index + 1]\n",
    "\n",
    "frequency_u_ax.axvline(x=timepoint_t, color=\"#999999\", linestyle=\"--\")\n",
    "frequency_u_ax.axvline(x=timepoint_u, color=\"#999999\", linestyle=\"--\")    \n",
    "\n",
    "frequency_u_ax.text(\n",
    "    0.28,\n",
    "    0.99,\n",
    "    \"Observed\",\n",
    "    horizontalalignment=\"center\",\n",
    "    verticalalignment=\"center\",\n",
    "    transform=frequency_u_ax.transAxes,\n",
    "    fontdict={\"fontsize\": 10}\n",
    ")\n",
    "\n",
    "frequency_u_ax.set_yticks(frequency_steps)\n",
    "frequency_u_ax.set_yticklabels(['{:3.0f}%'.format(x*100) for x in frequency_steps])\n",
    "frequency_u_ax.set_xlabel(\"Date\")\n",
    "\n",
    "frequency_u_ax.set_xlim(end_date, start_date)\n",
    "frequency_u_ax.set_ylim(bottom=0.0)\n",
    "\n",
    "frequency_u_ax.xaxis.set_major_locator(years)\n",
    "frequency_u_ax.xaxis.set_major_formatter(years_fmt)\n",
    "frequency_u_ax.xaxis.set_minor_locator(months)\n",
    "frequency_u_ax.format_xdata = mdates.DateFormatter(\"%b %y\")\n",
    "\n",
    "frequency_u_ax.spines['top'].set_visible(False)\n",
    "frequency_u_ax.spines['right'].set_visible(False)\n",
    "frequency_u_ax.spines['left'].set_visible(False)\n",
    "frequency_u_ax.tick_params(axis='y',size=0)\n",
    "frequency_u_ax.set_yticklabels([])\n",
    "\n",
    "fig.autofmt_xdate(rotation=0, ha=\"center\")\n",
    "gs.tight_layout(fig, h_pad=1.0)"
   ]
  },
  {
   "cell_type": "code",
   "execution_count": null,
   "metadata": {},
   "outputs": [],
   "source": []
  }
 ],
 "metadata": {
  "kernelspec": {
   "display_name": "Python 3",
   "language": "python",
   "name": "python3"
  },
  "language_info": {
   "codemirror_mode": {
    "name": "ipython",
    "version": 3
   },
   "file_extension": ".py",
   "mimetype": "text/x-python",
   "name": "python",
   "nbconvert_exporter": "python",
   "pygments_lexer": "ipython3",
   "version": "3.6.10"
  }
 },
 "nbformat": 4,
 "nbformat_minor": 4
}
