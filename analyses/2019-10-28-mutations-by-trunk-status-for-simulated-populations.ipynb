{
 "cells": [
  {
   "cell_type": "markdown",
   "metadata": {},
   "source": [
    "# Count epitope mutations by trunk status for simulated populations\n",
    "\n",
    "For a given tree, classify each node as trunk or not and count the number of epitope and non-epitope mutations. Finally, summarize the number of mutations by category of trunk and mutation."
   ]
  },
  {
   "cell_type": "code",
   "execution_count": 1,
   "metadata": {},
   "outputs": [],
   "source": [
    "from augur.distance import read_distance_map\n",
    "from augur.utils import json_to_tree\n",
    "import Bio.Phylo\n",
    "import json\n",
    "import matplotlib.pyplot as plt\n",
    "import numpy as np\n",
    "import pandas as pd\n",
    "\n",
    "%matplotlib inline"
   ]
  },
  {
   "cell_type": "markdown",
   "metadata": {},
   "source": [
    "## Load tree data"
   ]
  },
  {
   "cell_type": "code",
   "execution_count": 2,
   "metadata": {},
   "outputs": [],
   "source": [
    "with open(\"../results/auspice/flu_simulated_simulated_sample_3_full_tree_2040-10-01_tree.json\", \"r\") as fh:\n",
    "    tree_json = json.load(fh)"
   ]
  },
  {
   "cell_type": "code",
   "execution_count": 3,
   "metadata": {},
   "outputs": [],
   "source": [
    "tree = json_to_tree(tree_json)"
   ]
  },
  {
   "cell_type": "code",
   "execution_count": 4,
   "metadata": {},
   "outputs": [
    {
     "data": {
      "text/plain": [
       "Clade(branch_length=0, clade=19276, name='NODE_0000001', numdate=2028.4722323774806, strain='NODE_0000001', yvalue=10751.816071098714)"
      ]
     },
     "execution_count": 4,
     "metadata": {},
     "output_type": "execute_result"
    }
   ],
   "source": [
    "tree"
   ]
  },
  {
   "cell_type": "markdown",
   "metadata": {},
   "source": [
    "## Load distance map"
   ]
  },
  {
   "cell_type": "code",
   "execution_count": 5,
   "metadata": {},
   "outputs": [],
   "source": [
    "distance_map = read_distance_map(\"../config/distance_maps/h3n2/ha/luksza.json\")"
   ]
  },
  {
   "cell_type": "code",
   "execution_count": 6,
   "metadata": {},
   "outputs": [],
   "source": [
    "# Extract all epitope sites from the distance map, readjusting to one-based coordinates\n",
    "# for comparison with one-based coordinates of amino acid mutations annotated on trees.\n",
    "epitope_sites = [site + 1 for site in distance_map[\"map\"][\"HA1\"].keys()]"
   ]
  },
  {
   "cell_type": "code",
   "execution_count": 7,
   "metadata": {},
   "outputs": [
    {
     "data": {
      "text/plain": [
       "array([ 50,  53,  54, 121, 122, 124, 126, 131, 133, 135, 137, 142, 143,\n",
       "       144, 145, 146, 155, 156, 157, 158, 159, 160, 163, 164, 172, 173,\n",
       "       174, 186, 188, 189, 190, 192, 193, 196, 197, 201, 207, 213, 217,\n",
       "       226, 227, 242, 244, 248, 275, 276, 278, 299, 307])"
      ]
     },
     "execution_count": 7,
     "metadata": {},
     "output_type": "execute_result"
    }
   ],
   "source": [
    "np.array(epitope_sites)"
   ]
  },
  {
   "cell_type": "code",
   "execution_count": 8,
   "metadata": {},
   "outputs": [
    {
     "data": {
      "text/plain": [
       "'50, 53, 54, 121, 122, 124, 126, 131, 133, 135, 137, 142, 143, 144, 145, 146, 155, 156, 157, 158, 159, 160, 163, 164, 172, 173, 174, 186, 188, 189, 190, 192, 193, 196, 197, 201, 207, 213, 217, 226, 227, 242, 244, 248, 275, 276, 278, 299, and 307'"
      ]
     },
     "execution_count": 8,
     "metadata": {},
     "output_type": "execute_result"
    }
   ],
   "source": [
    "\", \".join([str(site) for site in epitope_sites[:-1]]) + \", and \" + str(epitope_sites[-1])"
   ]
  },
  {
   "cell_type": "markdown",
   "metadata": {},
   "source": [
    "## Annotate number of epitope and non-epitope mutations per node"
   ]
  },
  {
   "cell_type": "code",
   "execution_count": 9,
   "metadata": {},
   "outputs": [],
   "source": [
    "for node in tree.find_clades():\n",
    "    epitope_mutations = 0\n",
    "    nonepitope_mutations = 0\n",
    "    \n",
    "    if len(node.aa_muts) > 0:\n",
    "        for gene, muts in node.aa_muts.items():\n",
    "            for mut in muts:\n",
    "                if gene == \"HA1\" and int(mut[1:-1]) in epitope_sites:\n",
    "                    epitope_mutations += 1\n",
    "                else:\n",
    "                    nonepitope_mutations += 1\n",
    "                    \n",
    "    node.epitope_mutations = epitope_mutations\n",
    "    node.nonepitope_mutations = nonepitope_mutations"
   ]
  },
  {
   "cell_type": "code",
   "execution_count": 10,
   "metadata": {},
   "outputs": [
    {
     "data": {
      "text/plain": [
       "{1, 2, 3, 5}"
      ]
     },
     "execution_count": 10,
     "metadata": {},
     "output_type": "execute_result"
    }
   ],
   "source": [
    "set([node.epitope_mutations for node in tree.find_clades() if node.epitope_mutations > 0])"
   ]
  },
  {
   "cell_type": "markdown",
   "metadata": {},
   "source": [
    "## Assign trunk status\n",
    "\n",
    "[Bedford et al. 2015](http://www.nature.com.offcampus.lib.washington.edu/nature/journal/v523/n7559/pdf/nature14460.pdf) defines trunk as \"all branches ancestral to viruses\n",
    "sampled within 1 year of the most recent sample\". The algorithm for finding the trunk based on this definition is then:\n",
    "\n",
    "  1. Select all nodes in the last year\n",
    "  1. Select the parent of each selected node until the root\n",
    "  1. Create a unique set of nodes\n",
    "  1. Omit all nodes from the last year since resolution of the trunk is limited (note: this step is not implemented below)\n",
    "\n",
    "Note that this definition was based on 12 years of flu data from 2000 to 2012."
   ]
  },
  {
   "cell_type": "code",
   "execution_count": 11,
   "metadata": {},
   "outputs": [],
   "source": [
    "max_date = max([tip.attr[\"num_date\"] for tip in tree.find_clades(terminal=True)])"
   ]
  },
  {
   "cell_type": "code",
   "execution_count": 12,
   "metadata": {},
   "outputs": [
    {
     "data": {
      "text/plain": [
       "2040.74"
      ]
     },
     "execution_count": 12,
     "metadata": {},
     "output_type": "execute_result"
    }
   ],
   "source": [
    "max_date"
   ]
  },
  {
   "cell_type": "code",
   "execution_count": 13,
   "metadata": {},
   "outputs": [],
   "source": [
    "# Find all tips of the tree sampled within a year of the most recent sample in the tree.\n",
    "recent_nodes = [node for node in tree.find_clades(terminal=True) if node.attr[\"num_date\"] > (max_date - 1)]"
   ]
  },
  {
   "cell_type": "code",
   "execution_count": 14,
   "metadata": {},
   "outputs": [
    {
     "data": {
      "text/plain": [
       "1080"
      ]
     },
     "execution_count": 14,
     "metadata": {},
     "output_type": "execute_result"
    }
   ],
   "source": [
    "len(recent_nodes)"
   ]
  },
  {
   "cell_type": "code",
   "execution_count": 15,
   "metadata": {},
   "outputs": [],
   "source": [
    "# Find the last common ancestor of all recent nodes.\n",
    "mrca = tree.common_ancestor(recent_nodes)"
   ]
  },
  {
   "cell_type": "code",
   "execution_count": 16,
   "metadata": {},
   "outputs": [
    {
     "data": {
      "text/plain": [
       "Clade(branch_length=0.06771649285334287, clade=19134, epitope_mutations=0, name='NODE_0009343', nonepitope_mutations=0, numdate=2038.0206324862932, strain='NODE_0009343', yvalue=1338.1353990231582)"
      ]
     },
     "execution_count": 16,
     "metadata": {},
     "output_type": "execute_result"
    }
   ],
   "source": [
    "mrca"
   ]
  },
  {
   "cell_type": "code",
   "execution_count": 17,
   "metadata": {},
   "outputs": [
    {
     "data": {
      "text/plain": [
       "2038.0206324862932"
      ]
     },
     "execution_count": 17,
     "metadata": {},
     "output_type": "execute_result"
    }
   ],
   "source": [
    "mrca.attr[\"num_date\"]"
   ]
  },
  {
   "cell_type": "code",
   "execution_count": 18,
   "metadata": {},
   "outputs": [],
   "source": [
    "# Label all nodes as not part of the trunk by default.\n",
    "for node in tree.find_clades():\n",
    "    node.is_trunk = False\n",
    "    node.is_side_branch_ancestor = False"
   ]
  },
  {
   "cell_type": "code",
   "execution_count": 19,
   "metadata": {},
   "outputs": [],
   "source": [
    "# Find all nodes that are ancestral to recent nodes.\n",
    "# Label these ancestral nodes as part of the \"trunk\"\n",
    "# and collect the set of distinct nodes in the trunk.\n",
    "for recent_node in recent_nodes:\n",
    "    current_node = recent_node.parent\n",
    "    \n",
    "    # Traverse from the current node to the tree's root.\n",
    "    while current_node != tree.root:\n",
    "        # Mark a node as part of the trunk if it was sampled\n",
    "        # before the MRCA of all recent nodes.\n",
    "        if current_node.attr[\"num_date\"] < mrca.attr[\"num_date\"]:\n",
    "            current_node.is_trunk = True\n",
    "            \n",
    "        current_node = current_node.parent"
   ]
  },
  {
   "cell_type": "code",
   "execution_count": 20,
   "metadata": {},
   "outputs": [],
   "source": [
    "def is_side_branch_ancestor(node):\n",
    "    \"\"\"Returns True if the current node belongs to a \"side branch\" clade\n",
    "    and is the immediate descendent from a trunk.\n",
    "    \"\"\"\n",
    "    return node.parent is not None and node.parent.is_trunk"
   ]
  },
  {
   "cell_type": "code",
   "execution_count": 21,
   "metadata": {},
   "outputs": [],
   "source": [
    "trunk_path = [node for node in tree.find_clades(terminal=False)\n",
    "              if node.is_trunk]"
   ]
  },
  {
   "cell_type": "code",
   "execution_count": 22,
   "metadata": {},
   "outputs": [],
   "source": [
    "# Find all nodes that are not on the trunk. These are\n",
    "# side branch nodes.\n",
    "side_branch_nodes = [node for node in tree.find_clades(terminal=False)\n",
    "                     if not node.is_trunk and node.attr[\"num_date\"] < mrca.attr[\"num_date\"]]"
   ]
  },
  {
   "cell_type": "code",
   "execution_count": 23,
   "metadata": {},
   "outputs": [
    {
     "data": {
      "text/plain": [
       "141"
      ]
     },
     "execution_count": 23,
     "metadata": {},
     "output_type": "execute_result"
    }
   ],
   "source": [
    "len(trunk_path)"
   ]
  },
  {
   "cell_type": "code",
   "execution_count": 24,
   "metadata": {},
   "outputs": [
    {
     "data": {
      "text/plain": [
       "6199"
      ]
     },
     "execution_count": 24,
     "metadata": {},
     "output_type": "execute_result"
    }
   ],
   "source": [
    "len(side_branch_nodes)"
   ]
  },
  {
   "cell_type": "code",
   "execution_count": 25,
   "metadata": {},
   "outputs": [],
   "source": [
    "# Find all side branch nodes whose immediate parent is on the trunk.\n",
    "side_branch_ancestors = []\n",
    "for node in side_branch_nodes:\n",
    "    if is_side_branch_ancestor(node):\n",
    "        node.is_side_branch_ancestor = True\n",
    "        side_branch_ancestors.append(node)"
   ]
  },
  {
   "cell_type": "code",
   "execution_count": 26,
   "metadata": {},
   "outputs": [
    {
     "data": {
      "text/plain": [
       "174"
      ]
     },
     "execution_count": 26,
     "metadata": {},
     "output_type": "execute_result"
    }
   ],
   "source": [
    "len(side_branch_ancestors)"
   ]
  },
  {
   "cell_type": "code",
   "execution_count": 27,
   "metadata": {},
   "outputs": [],
   "source": [
    "# Color nodes by status as on the trunk or as a side branch ancestor.\n",
    "for node in tree.find_clades():\n",
    "    if node.is_trunk:\n",
    "        node.color = \"green\"\n",
    "    elif node.is_side_branch_ancestor:\n",
    "        node.color = \"orange\"\n",
    "    else:\n",
    "        node.color = \"black\""
   ]
  },
  {
   "cell_type": "code",
   "execution_count": 28,
   "metadata": {},
   "outputs": [
    {
     "data": {
      "image/png": "[encoded data removed]",
      "text/plain": [
       "<Figure size 864x576 with 1 Axes>"
      ]
     },
     "metadata": {
      "needs_background": "light"
     },
     "output_type": "display_data"
    }
   ],
   "source": [
    "# Draw tree with node colors instead of with node labels.\n",
    "fig = plt.figure(figsize=(12, 8))\n",
    "ax = fig.add_subplot(111)\n",
    "Bio.Phylo.draw(tree, axes=ax, label_func=lambda node: \"\")"
   ]
  },
  {
   "cell_type": "markdown",
   "metadata": {},
   "source": [
    "## Annotate mutations by trunk status"
   ]
  },
  {
   "cell_type": "code",
   "execution_count": 29,
   "metadata": {},
   "outputs": [],
   "source": [
    "records = []\n",
    "for node in tree.find_clades(terminal=False):\n",
    "    # Collect records for nodes that are on the trunk or that were sampled prior\n",
    "    # to the MRCA of recent nodes (i.e., side branch nodes).\n",
    "    if node.is_trunk or node.attr[\"num_date\"] < mrca.attr[\"num_date\"]:\n",
    "        records.append({\n",
    "            \"node\": node.name,\n",
    "            \"branch type\": \"trunk\" if node.is_trunk else \"side branch\",\n",
    "            \"epitope mutations\": node.epitope_mutations,\n",
    "            \"non-epitope mutations\": node.nonepitope_mutations\n",
    "        })"
   ]
  },
  {
   "cell_type": "code",
   "execution_count": 30,
   "metadata": {},
   "outputs": [],
   "source": [
    "df = pd.DataFrame(records)"
   ]
  },
  {
   "cell_type": "code",
   "execution_count": 31,
   "metadata": {},
   "outputs": [
    {
     "data": {
      "text/html": [
       "<div>\n",
       "<style scoped>\n",
       "    .dataframe tbody tr th:only-of-type {\n",
       "        vertical-align: middle;\n",
       "    }\n",
       "\n",
       "    .dataframe tbody tr th {\n",
       "        vertical-align: top;\n",
       "    }\n",
       "\n",
       "    .dataframe thead th {\n",
       "        text-align: right;\n",
       "    }\n",
       "</style>\n",
       "<table border=\"1\" class=\"dataframe\">\n",
       "  <thead>\n",
       "    <tr style=\"text-align: right;\">\n",
       "      <th></th>\n",
       "      <th>branch type</th>\n",
       "      <th>epitope mutations</th>\n",
       "      <th>node</th>\n",
       "      <th>non-epitope mutations</th>\n",
       "    </tr>\n",
       "  </thead>\n",
       "  <tbody>\n",
       "    <tr>\n",
       "      <th>0</th>\n",
       "      <td>side branch</td>\n",
       "      <td>0</td>\n",
       "      <td>NODE_0000001</td>\n",
       "      <td>0</td>\n",
       "    </tr>\n",
       "    <tr>\n",
       "      <th>1</th>\n",
       "      <td>side branch</td>\n",
       "      <td>5</td>\n",
       "      <td>NODE_0000013</td>\n",
       "      <td>5</td>\n",
       "    </tr>\n",
       "    <tr>\n",
       "      <th>2</th>\n",
       "      <td>side branch</td>\n",
       "      <td>1</td>\n",
       "      <td>NODE_0000014</td>\n",
       "      <td>1</td>\n",
       "    </tr>\n",
       "    <tr>\n",
       "      <th>3</th>\n",
       "      <td>side branch</td>\n",
       "      <td>0</td>\n",
       "      <td>NODE_0000010</td>\n",
       "      <td>1</td>\n",
       "    </tr>\n",
       "    <tr>\n",
       "      <th>4</th>\n",
       "      <td>side branch</td>\n",
       "      <td>1</td>\n",
       "      <td>NODE_0000011</td>\n",
       "      <td>0</td>\n",
       "    </tr>\n",
       "  </tbody>\n",
       "</table>\n",
       "</div>"
      ],
      "text/plain": [
       "   branch type  epitope mutations          node  non-epitope mutations\n",
       "0  side branch                  0  NODE_0000001                      0\n",
       "1  side branch                  5  NODE_0000013                      5\n",
       "2  side branch                  1  NODE_0000014                      1\n",
       "3  side branch                  0  NODE_0000010                      1\n",
       "4  side branch                  1  NODE_0000011                      0"
      ]
     },
     "execution_count": 31,
     "metadata": {},
     "output_type": "execute_result"
    }
   ],
   "source": [
    "df.head()"
   ]
  },
  {
   "cell_type": "code",
   "execution_count": 32,
   "metadata": {},
   "outputs": [],
   "source": [
    "counts_by_trunk_status = df.groupby(\"branch type\").aggregate({\"epitope mutations\": \"sum\", \"non-epitope mutations\": \"sum\"})"
   ]
  },
  {
   "cell_type": "code",
   "execution_count": 33,
   "metadata": {},
   "outputs": [],
   "source": [
    "counts_by_trunk_status[\"epitope-to-non-epitope ratio\"] = round(\n",
    "    counts_by_trunk_status[\"epitope mutations\"] / counts_by_trunk_status[\"non-epitope mutations\"]\n",
    ", 2)"
   ]
  },
  {
   "cell_type": "code",
   "execution_count": 34,
   "metadata": {},
   "outputs": [
    {
     "data": {
      "text/html": [
       "<div>\n",
       "<style scoped>\n",
       "    .dataframe tbody tr th:only-of-type {\n",
       "        vertical-align: middle;\n",
       "    }\n",
       "\n",
       "    .dataframe tbody tr th {\n",
       "        vertical-align: top;\n",
       "    }\n",
       "\n",
       "    .dataframe thead th {\n",
       "        text-align: right;\n",
       "    }\n",
       "</style>\n",
       "<table border=\"1\" class=\"dataframe\">\n",
       "  <thead>\n",
       "    <tr style=\"text-align: right;\">\n",
       "      <th></th>\n",
       "      <th>epitope mutations</th>\n",
       "      <th>non-epitope mutations</th>\n",
       "      <th>epitope-to-non-epitope ratio</th>\n",
       "    </tr>\n",
       "    <tr>\n",
       "      <th>branch type</th>\n",
       "      <th></th>\n",
       "      <th></th>\n",
       "      <th></th>\n",
       "    </tr>\n",
       "  </thead>\n",
       "  <tbody>\n",
       "    <tr>\n",
       "      <th>side branch</th>\n",
       "      <td>590</td>\n",
       "      <td>1327</td>\n",
       "      <td>0.44</td>\n",
       "    </tr>\n",
       "    <tr>\n",
       "      <th>trunk</th>\n",
       "      <td>23</td>\n",
       "      <td>12</td>\n",
       "      <td>1.92</td>\n",
       "    </tr>\n",
       "  </tbody>\n",
       "</table>\n",
       "</div>"
      ],
      "text/plain": [
       "             epitope mutations  non-epitope mutations  \\\n",
       "branch type                                             \n",
       "side branch                590                   1327   \n",
       "trunk                       23                     12   \n",
       "\n",
       "             epitope-to-non-epitope ratio  \n",
       "branch type                                \n",
       "side branch                          0.44  \n",
       "trunk                                1.92  "
      ]
     },
     "execution_count": 34,
     "metadata": {},
     "output_type": "execute_result"
    }
   ],
   "source": [
    "counts_by_trunk_status"
   ]
  },
  {
   "cell_type": "code",
   "execution_count": 35,
   "metadata": {},
   "outputs": [],
   "source": [
    "counts_by_trunk_status_table = counts_by_trunk_status.to_latex(escape=False)\n",
    "\n",
    "with open(\"../manuscript/tables/mutations_by_trunk_status_for_simulated_populations.tex\", \"w\") as oh:\n",
    "    oh.write(counts_by_trunk_status_table)"
   ]
  },
  {
   "cell_type": "code",
   "execution_count": null,
   "metadata": {},
   "outputs": [],
   "source": []
  }
 ],
 "metadata": {
  "kernelspec": {
   "display_name": "Python 3",
   "language": "python",
   "name": "python3"
  },
  "language_info": {
   "codemirror_mode": {
    "name": "ipython",
    "version": 3
   },
   "file_extension": ".py",
   "mimetype": "text/x-python",
   "name": "python",
   "nbconvert_exporter": "python",
   "pygments_lexer": "ipython3",
   "version": "3.6.7"
  }
 },
 "nbformat": 4,
 "nbformat_minor": 4
}
