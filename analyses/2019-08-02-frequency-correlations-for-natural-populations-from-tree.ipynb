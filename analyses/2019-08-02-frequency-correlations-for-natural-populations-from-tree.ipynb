{
 "cells": [
  {
   "cell_type": "markdown",
   "metadata": {},
   "source": [
    "# Frequency correlation plots for natural populations from tree\n",
    "\n",
    "Example code for how to calculate frequency correlation plots from augur forecasting builds."
   ]
  },
  {
   "cell_type": "code",
   "execution_count": 51,
   "metadata": {},
   "outputs": [],
   "source": [
    "import altair as alt\n",
    "import Bio.Phylo\n",
    "import numpy as np\n",
    "import pandas as pd\n",
    "from scipy.stats import pearsonr"
   ]
  },
  {
   "cell_type": "code",
   "execution_count": 52,
   "metadata": {},
   "outputs": [
    {
     "name": "stdout",
     "output_type": "stream",
     "text": [
      "/Users/jlhudd/projects/nextstrain/flu-forecasting/analyses\n"
     ]
    }
   ],
   "source": [
    "!pwd"
   ]
  },
  {
   "cell_type": "code",
   "execution_count": 92,
   "metadata": {},
   "outputs": [],
   "source": [
    "def matthews_correlation_coefficient(tp, tn, fp, fn):\n",
    "    \"\"\"Return Matthews correlation coefficient for values from a confusion matrix.\n",
    "    Implementation is based on the definition from wikipedia:\n",
    "\n",
    "    https://en.wikipedia.org/wiki/Matthews_correlation_coefficient\n",
    "    \"\"\"\n",
    "    numerator = (tp * tn) - (fp * fn)\n",
    "    denominator = np.sqrt((tp + fp) * (tp + fn) * (tn + fp) * (tn + fn))\n",
    "    if denominator == 0:\n",
    "            denominator = 1\n",
    "\n",
    "    return float(numerator) / denominator\n",
    "\n",
    "def get_matthews_correlation_coefficient_for_data_frame(freq_df, return_confusion_matrix=False):\n",
    "        \"\"\"Calculate Matthew's correlation coefficient from a given pandas data frame\n",
    "        with columns for initial, observed, and predicted frequencies.\n",
    "        \"\"\"\n",
    "        observed_growth = (freq_df[\"observed\"] > freq_df[\"initial\"])\n",
    "        predicted_growth = (freq_df[\"estimated\"] > freq_df[\"initial\"])\n",
    "        true_positives = ((observed_growth) & (predicted_growth)).sum()\n",
    "        false_positives= ((~observed_growth) & (predicted_growth)).sum()\n",
    "\n",
    "        observed_decline = (freq_df[\"observed\"] <= freq_df[\"initial\"])\n",
    "        predicted_decline = (freq_df[\"estimated\"] <= freq_df[\"initial\"])\n",
    "        true_negatives = ((observed_decline) & (predicted_decline)).sum()\n",
    "        false_negatives = ((~observed_decline) & (predicted_decline)).sum()\n",
    "\n",
    "        mcc = matthews_correlation_coefficient(\n",
    "            true_positives,\n",
    "            true_negatives,\n",
    "            false_positives,\n",
    "            false_negatives\n",
    "        )\n",
    "\n",
    "        if return_confusion_matrix:\n",
    "            confusion_matrix = {\n",
    "                \"tp\": true_positives,\n",
    "                \"tn\": true_negatives,\n",
    "                \"fp\": false_positives,\n",
    "                \"fn\": false_negatives\n",
    "            }\n",
    "            \n",
    "            return mcc, confusion_matrix\n",
    "        else:\n",
    "            return mcc"
   ]
  },
  {
   "cell_type": "markdown",
   "metadata": {},
   "source": [
    "## Load data"
   ]
  },
  {
   "cell_type": "code",
   "execution_count": 54,
   "metadata": {},
   "outputs": [],
   "source": [
    "data_root = \"../results/builds/natural/natural_sample_1_with_10_vpm/\""
   ]
  },
  {
   "cell_type": "code",
   "execution_count": 55,
   "metadata": {},
   "outputs": [],
   "source": [
    "tips = pd.read_csv(\n",
    "    \"%s/tip_attributes_with_weighted_distances.tsv\" % data_root,\n",
    "    sep=\"\\t\",\n",
    "    parse_dates=[\"timepoint\"],\n",
    "    usecols=[\"strain\", \"timepoint\", \"frequency\"]\n",
    ")"
   ]
  },
  {
   "cell_type": "code",
   "execution_count": 56,
   "metadata": {},
   "outputs": [
    {
     "data": {
      "text/html": [
       "<div>\n",
       "<style scoped>\n",
       "    .dataframe tbody tr th:only-of-type {\n",
       "        vertical-align: middle;\n",
       "    }\n",
       "\n",
       "    .dataframe tbody tr th {\n",
       "        vertical-align: top;\n",
       "    }\n",
       "\n",
       "    .dataframe thead th {\n",
       "        text-align: right;\n",
       "    }\n",
       "</style>\n",
       "<table border=\"1\" class=\"dataframe\">\n",
       "  <thead>\n",
       "    <tr style=\"text-align: right;\">\n",
       "      <th></th>\n",
       "      <th>strain</th>\n",
       "      <th>timepoint</th>\n",
       "      <th>frequency</th>\n",
       "    </tr>\n",
       "  </thead>\n",
       "  <tbody>\n",
       "    <tr>\n",
       "      <th>0</th>\n",
       "      <td>A/England/121/1995</td>\n",
       "      <td>1995-10-01</td>\n",
       "      <td>0.003272</td>\n",
       "    </tr>\n",
       "  </tbody>\n",
       "</table>\n",
       "</div>"
      ],
      "text/plain": [
       "               strain  timepoint  frequency\n",
       "0  A/England/121/1995 1995-10-01   0.003272"
      ]
     },
     "execution_count": 56,
     "metadata": {},
     "output_type": "execute_result"
    }
   ],
   "source": [
    "tips.head(1)"
   ]
  },
  {
   "cell_type": "code",
   "execution_count": 57,
   "metadata": {},
   "outputs": [],
   "source": [
    "tree = Bio.Phylo.read(\"%s/final_tree.nwk\" % data_root, \"newick\")"
   ]
  },
  {
   "cell_type": "code",
   "execution_count": 58,
   "metadata": {},
   "outputs": [
    {
     "data": {
      "text/plain": [
       "Tree(rooted=False, weight=1.0)"
      ]
     },
     "execution_count": 58,
     "metadata": {},
     "output_type": "execute_result"
    }
   ],
   "source": [
    "tree"
   ]
  },
  {
   "cell_type": "code",
   "execution_count": 59,
   "metadata": {},
   "outputs": [],
   "source": [
    "forecasts = pd.read_csv(\n",
    "    \"%s/natural_sample_1_with_10_vpm_lbi_forecast.tsv\" % data_root,\n",
    "    sep=\"\\t\",\n",
    "    parse_dates=[\"timepoint\"],\n",
    "    usecols=[\"timepoint\", \"strain\", \"fitness\", \"frequency\", \"projected_frequency\"]\n",
    ")"
   ]
  },
  {
   "cell_type": "code",
   "execution_count": 60,
   "metadata": {},
   "outputs": [
    {
     "data": {
      "text/html": [
       "<div>\n",
       "<style scoped>\n",
       "    .dataframe tbody tr th:only-of-type {\n",
       "        vertical-align: middle;\n",
       "    }\n",
       "\n",
       "    .dataframe tbody tr th {\n",
       "        vertical-align: top;\n",
       "    }\n",
       "\n",
       "    .dataframe thead th {\n",
       "        text-align: right;\n",
       "    }\n",
       "</style>\n",
       "<table border=\"1\" class=\"dataframe\">\n",
       "  <thead>\n",
       "    <tr style=\"text-align: right;\">\n",
       "      <th></th>\n",
       "      <th>timepoint</th>\n",
       "      <th>strain</th>\n",
       "      <th>frequency</th>\n",
       "      <th>fitness</th>\n",
       "      <th>projected_frequency</th>\n",
       "    </tr>\n",
       "  </thead>\n",
       "  <tbody>\n",
       "    <tr>\n",
       "      <th>0</th>\n",
       "      <td>1995-10-01</td>\n",
       "      <td>A/England/121/1995</td>\n",
       "      <td>0.003272</td>\n",
       "      <td>-2.645588</td>\n",
       "      <td>0.000436</td>\n",
       "    </tr>\n",
       "  </tbody>\n",
       "</table>\n",
       "</div>"
      ],
      "text/plain": [
       "   timepoint              strain  frequency   fitness  projected_frequency\n",
       "0 1995-10-01  A/England/121/1995   0.003272 -2.645588             0.000436"
      ]
     },
     "execution_count": 60,
     "metadata": {},
     "output_type": "execute_result"
    }
   ],
   "source": [
    "forecasts.head(1)"
   ]
  },
  {
   "cell_type": "markdown",
   "metadata": {},
   "source": [
    "## Find clade frequencies\n",
    "\n",
    "Find frequencies of clades at all timepoints using only clades with extant tips at each timepoint. The approach would is:\n",
    "\n",
    "1. Get tip attributes from censored builds\n",
    "2. Get forecast tip frequencies from censored builds\n",
    "3. Get final tree\n",
    "4. For each timepoint in the censored builds, find all internal nodes in the tree with extant tips at the timepoint\n",
    "5. For each internal node, calculate the initial frequency of tips at the current timepoint, the observed final frequency of tips at the next timepoint, and the estimated final frequency of tips and log the result.\n"
   ]
  },
  {
   "cell_type": "code",
   "execution_count": 67,
   "metadata": {},
   "outputs": [],
   "source": [
    "timepoints = tips[\"timepoint\"].unique()"
   ]
  },
  {
   "cell_type": "code",
   "execution_count": 69,
   "metadata": {},
   "outputs": [
    {
     "data": {
      "text/plain": [
       "array(['1995-10-01T00:00:00.000000000', '1996-04-01T00:00:00.000000000',\n",
       "       '1996-10-01T00:00:00.000000000', '1997-04-01T00:00:00.000000000',\n",
       "       '1997-10-01T00:00:00.000000000'], dtype='datetime64[ns]')"
      ]
     },
     "execution_count": 69,
     "metadata": {},
     "output_type": "execute_result"
    }
   ],
   "source": [
    "timepoints[:5]"
   ]
  },
  {
   "cell_type": "code",
   "execution_count": 70,
   "metadata": {},
   "outputs": [
    {
     "data": {
      "text/html": [
       "<div>\n",
       "<style scoped>\n",
       "    .dataframe tbody tr th:only-of-type {\n",
       "        vertical-align: middle;\n",
       "    }\n",
       "\n",
       "    .dataframe tbody tr th {\n",
       "        vertical-align: top;\n",
       "    }\n",
       "\n",
       "    .dataframe thead th {\n",
       "        text-align: right;\n",
       "    }\n",
       "</style>\n",
       "<table border=\"1\" class=\"dataframe\">\n",
       "  <thead>\n",
       "    <tr style=\"text-align: right;\">\n",
       "      <th></th>\n",
       "      <th>strain</th>\n",
       "      <th>timepoint</th>\n",
       "      <th>frequency</th>\n",
       "    </tr>\n",
       "  </thead>\n",
       "  <tbody>\n",
       "    <tr>\n",
       "      <th>0</th>\n",
       "      <td>A/England/121/1995</td>\n",
       "      <td>1995-10-01</td>\n",
       "      <td>0.003272</td>\n",
       "    </tr>\n",
       "    <tr>\n",
       "      <th>1</th>\n",
       "      <td>A/England/255/1995</td>\n",
       "      <td>1995-10-01</td>\n",
       "      <td>0.005768</td>\n",
       "    </tr>\n",
       "    <tr>\n",
       "      <th>2</th>\n",
       "      <td>A/England/258/1995</td>\n",
       "      <td>1995-10-01</td>\n",
       "      <td>0.044474</td>\n",
       "    </tr>\n",
       "    <tr>\n",
       "      <th>3</th>\n",
       "      <td>A/England/263/1995</td>\n",
       "      <td>1995-10-01</td>\n",
       "      <td>0.053012</td>\n",
       "    </tr>\n",
       "    <tr>\n",
       "      <th>4</th>\n",
       "      <td>A/England/268/1995</td>\n",
       "      <td>1995-10-01</td>\n",
       "      <td>0.069978</td>\n",
       "    </tr>\n",
       "  </tbody>\n",
       "</table>\n",
       "</div>"
      ],
      "text/plain": [
       "               strain  timepoint  frequency\n",
       "0  A/England/121/1995 1995-10-01   0.003272\n",
       "1  A/England/255/1995 1995-10-01   0.005768\n",
       "2  A/England/258/1995 1995-10-01   0.044474\n",
       "3  A/England/263/1995 1995-10-01   0.053012\n",
       "4  A/England/268/1995 1995-10-01   0.069978"
      ]
     },
     "execution_count": 70,
     "metadata": {},
     "output_type": "execute_result"
    }
   ],
   "source": [
    "tips.head()"
   ]
  },
  {
   "cell_type": "code",
   "execution_count": 76,
   "metadata": {},
   "outputs": [],
   "source": [
    "tips_by_node = {}\n",
    "for node in tree.find_clades(terminal=False):\n",
    "    tips_by_node[node.name] = set([tip.name for tip in node.find_clades(terminal=True)])"
   ]
  },
  {
   "cell_type": "code",
   "execution_count": 77,
   "metadata": {},
   "outputs": [
    {
     "data": {
      "text/plain": [
       "3278"
      ]
     },
     "execution_count": 77,
     "metadata": {},
     "output_type": "execute_result"
    }
   ],
   "source": [
    "len(tips_by_node)"
   ]
  },
  {
   "cell_type": "code",
   "execution_count": 106,
   "metadata": {},
   "outputs": [
    {
     "data": {
      "text/plain": [
       "numpy.datetime64('2002-10-01T00:00:00.000000000')"
      ]
     },
     "execution_count": 106,
     "metadata": {},
     "output_type": "execute_result"
    }
   ],
   "source": [
    "timepoints[14]"
   ]
  },
  {
   "cell_type": "code",
   "execution_count": 166,
   "metadata": {},
   "outputs": [],
   "source": [
    "subset_timepoints = timepoints[-10:]"
   ]
  },
  {
   "cell_type": "code",
   "execution_count": 167,
   "metadata": {},
   "outputs": [
    {
     "name": "stdout",
     "output_type": "stream",
     "text": [
      "Timepoint:  2011-04-01T00:00:00.000000000\n",
      "Timepoint:  2011-10-01T00:00:00.000000000\n",
      "Timepoint:  2012-04-01T00:00:00.000000000\n",
      "Timepoint:  2012-10-01T00:00:00.000000000\n",
      "Timepoint:  2013-04-01T00:00:00.000000000\n",
      "Timepoint:  2013-10-01T00:00:00.000000000\n",
      "Timepoint:  2014-04-01T00:00:00.000000000\n",
      "Timepoint:  2014-10-01T00:00:00.000000000\n"
     ]
    }
   ],
   "source": [
    "min_freq = 0.15\n",
    "\n",
    "clade_frequencies = []\n",
    "for i, timepoint in enumerate(subset_timepoints[:-2]):\n",
    "    print(\"Timepoint: \", timepoint)\n",
    "    tips_at_timepoint = tips[tips[\"timepoint\"] == timepoint]\n",
    "    tips_at_future_timepoint = tips[tips[\"timepoint\"] == subset_timepoints[i + 2]]\n",
    "    forecast_tips_at_timepoint = forecasts[forecasts[\"timepoint\"] == timepoint]\n",
    "    \n",
    "    for total_nodes, node in enumerate(tree.find_clades(terminal=False)):            \n",
    "        node_tips = tips_by_node[node.name]\n",
    "        initial_freq = tips_at_timepoint.loc[tips_at_timepoint[\"strain\"].isin(node_tips), \"frequency\"].sum()\n",
    "        \n",
    "        if initial_freq > min_freq:\n",
    "            observed_freq = tips_at_future_timepoint.loc[tips_at_future_timepoint[\"strain\"].isin(node_tips), \"frequency\"].sum()\n",
    "            estimated_freq = forecast_tips_at_timepoint.loc[forecast_tips_at_timepoint[\"strain\"].isin(node_tips), \"projected_frequency\"].sum()\n",
    "            \n",
    "            clade_frequencies.append({\n",
    "                \"initial\": initial_freq,\n",
    "                \"observed\": observed_freq,\n",
    "                \"estimated\": estimated_freq\n",
    "            })"
   ]
  },
  {
   "cell_type": "code",
   "execution_count": 168,
   "metadata": {},
   "outputs": [
    {
     "data": {
      "text/plain": [
       "1282"
      ]
     },
     "execution_count": 168,
     "metadata": {},
     "output_type": "execute_result"
    }
   ],
   "source": [
    "len(clade_frequencies)"
   ]
  },
  {
   "cell_type": "code",
   "execution_count": 169,
   "metadata": {},
   "outputs": [],
   "source": [
    "clade_frequencies = pd.DataFrame(clade_frequencies)"
   ]
  },
  {
   "cell_type": "code",
   "execution_count": 170,
   "metadata": {},
   "outputs": [],
   "source": [
    "clade_frequencies[\"observed_growth_rate\"] = (\n",
    "    clade_frequencies[\"observed\"] / clade_frequencies[\"initial\"]\n",
    ")"
   ]
  },
  {
   "cell_type": "code",
   "execution_count": 171,
   "metadata": {},
   "outputs": [],
   "source": [
    "clade_frequencies[\"estimated_growth_rate\"] = (\n",
    "    clade_frequencies[\"estimated\"] / clade_frequencies[\"initial\"]\n",
    ")"
   ]
  },
  {
   "cell_type": "code",
   "execution_count": 172,
   "metadata": {},
   "outputs": [
    {
     "data": {
      "text/html": [
       "<div>\n",
       "<style scoped>\n",
       "    .dataframe tbody tr th:only-of-type {\n",
       "        vertical-align: middle;\n",
       "    }\n",
       "\n",
       "    .dataframe tbody tr th {\n",
       "        vertical-align: top;\n",
       "    }\n",
       "\n",
       "    .dataframe thead th {\n",
       "        text-align: right;\n",
       "    }\n",
       "</style>\n",
       "<table border=\"1\" class=\"dataframe\">\n",
       "  <thead>\n",
       "    <tr style=\"text-align: right;\">\n",
       "      <th></th>\n",
       "      <th>estimated</th>\n",
       "      <th>initial</th>\n",
       "      <th>observed</th>\n",
       "      <th>observed_growth_rate</th>\n",
       "      <th>estimated_growth_rate</th>\n",
       "    </tr>\n",
       "  </thead>\n",
       "  <tbody>\n",
       "    <tr>\n",
       "      <th>0</th>\n",
       "      <td>1.0</td>\n",
       "      <td>1.000003</td>\n",
       "      <td>0.999996</td>\n",
       "      <td>0.999993</td>\n",
       "      <td>0.999997</td>\n",
       "    </tr>\n",
       "    <tr>\n",
       "      <th>1</th>\n",
       "      <td>1.0</td>\n",
       "      <td>1.000003</td>\n",
       "      <td>0.999996</td>\n",
       "      <td>0.999993</td>\n",
       "      <td>0.999997</td>\n",
       "    </tr>\n",
       "    <tr>\n",
       "      <th>2</th>\n",
       "      <td>1.0</td>\n",
       "      <td>1.000003</td>\n",
       "      <td>0.999996</td>\n",
       "      <td>0.999993</td>\n",
       "      <td>0.999997</td>\n",
       "    </tr>\n",
       "    <tr>\n",
       "      <th>3</th>\n",
       "      <td>1.0</td>\n",
       "      <td>1.000003</td>\n",
       "      <td>0.999996</td>\n",
       "      <td>0.999993</td>\n",
       "      <td>0.999997</td>\n",
       "    </tr>\n",
       "    <tr>\n",
       "      <th>4</th>\n",
       "      <td>1.0</td>\n",
       "      <td>1.000003</td>\n",
       "      <td>0.999996</td>\n",
       "      <td>0.999993</td>\n",
       "      <td>0.999997</td>\n",
       "    </tr>\n",
       "  </tbody>\n",
       "</table>\n",
       "</div>"
      ],
      "text/plain": [
       "   estimated   initial  observed  observed_growth_rate  estimated_growth_rate\n",
       "0        1.0  1.000003  0.999996              0.999993               0.999997\n",
       "1        1.0  1.000003  0.999996              0.999993               0.999997\n",
       "2        1.0  1.000003  0.999996              0.999993               0.999997\n",
       "3        1.0  1.000003  0.999996              0.999993               0.999997\n",
       "4        1.0  1.000003  0.999996              0.999993               0.999997"
      ]
     },
     "execution_count": 172,
     "metadata": {},
     "output_type": "execute_result"
    }
   ],
   "source": [
    "clade_frequencies.head()"
   ]
  },
  {
   "cell_type": "code",
   "execution_count": 173,
   "metadata": {},
   "outputs": [
    {
     "data": {
      "application/vnd.vegalite.v3+json": {
       "$schema": "https://vega.github.io/schema/vega-lite/v3.3.0.json",
       "config": {
        "mark": {
         "tooltip": null
        },
        "view": {
         "height": 300,
         "width": 400
        }
       },
       "data": {
        "name": "data-a4e5e7f0169098806fbafff5c9717f83"
       },
       "datasets": {
        "data-a4e5e7f0169098806fbafff5c9717f83": [
         {
          "estimated": 1,
          "estimated_growth_rate": 0.999997000009,
          "initial": 1.000003,
          "observed": 0.999996,
          "observed_growth_rate": 0.999993000021
         },
         {
          "estimated": 1,
          "estimated_growth_rate": 0.999997000009,
          "initial": 1.000003,
          "observed": 0.999996,
          "observed_growth_rate": 0.999993000021
         },
         {
          "estimated": 1,
          "estimated_growth_rate": 0.999997000009,
          "initial": 1.000003,
          "observed": 0.999996,
          "observed_growth_rate": 0.999993000021
         },
         {
          "estimated": 1,
          "estimated_growth_rate": 0.999997000009,
          "initial": 1.000003,
          "observed": 0.999996,
          "observed_growth_rate": 0.999993000021
         },
         {
          "estimated": 1,
          "estimated_growth_rate": 0.999997000009,
          "initial": 1.000003,
          "observed": 0.999996,
          "observed_growth_rate": 0.999993000021
         },
         {
          "estimated": 1,
          "estimated_growth_rate": 0.999997000009,
          "initial": 1.000003,
          "observed": 0.999996,
          "observed_growth_rate": 0.999993000021
         },
         {
          "estimated": 1,
          "estimated_growth_rate": 0.999997000009,
          "initial": 1.000003,
          "observed": 0.999996,
          "observed_growth_rate": 0.999993000021
         },
         {
          "estimated": 1,
          "estimated_growth_rate": 0.999997000009,
          "initial": 1.000003,
          "observed": 0.999996,
          "observed_growth_rate": 0.999993000021
         },
         {
          "estimated": 1,
          "estimated_growth_rate": 0.999997000009,
          "initial": 1.000003,
          "observed": 0.999996,
          "observed_growth_rate": 0.999993000021
         },
         {
          "estimated": 1,
          "estimated_growth_rate": 0.999997000009,
          "initial": 1.000003,
          "observed": 0.999996,
          "observed_growth_rate": 0.999993000021
         },
         {
          "estimated": 1,
          "estimated_growth_rate": 0.999997000009,
          "initial": 1.000003,
          "observed": 0.999996,
          "observed_growth_rate": 0.999993000021
         },
         {
          "estimated": 1,
          "estimated_growth_rate": 0.999997000009,
          "initial": 1.000003,
          "observed": 0.999996,
          "observed_growth_rate": 0.999993000021
         },
         {
          "estimated": 1,
          "estimated_growth_rate": 0.999997000009,
          "initial": 1.000003,
          "observed": 0.999996,
          "observed_growth_rate": 0.999993000021
         },
         {
          "estimated": 1,
          "estimated_growth_rate": 0.999997000009,
          "initial": 1.000003,
          "observed": 0.999996,
          "observed_growth_rate": 0.999993000021
         },
         {
          "estimated": 1,
          "estimated_growth_rate": 0.999997000009,
          "initial": 1.000003,
          "observed": 0.999996,
          "observed_growth_rate": 0.999993000021
         },
         {
          "estimated": 1,
          "estimated_growth_rate": 0.999997000009,
          "initial": 1.000003,
          "observed": 0.999996,
          "observed_growth_rate": 0.999993000021
         },
         {
          "estimated": 1,
          "estimated_growth_rate": 0.999997000009,
          "initial": 1.000003,
          "observed": 0.999996,
          "observed_growth_rate": 0.999993000021
         },
         {
          "estimated": 1,
          "estimated_growth_rate": 0.999997000009,
          "initial": 1.000003,
          "observed": 0.999996,
          "observed_growth_rate": 0.999993000021
         },
         {
          "estimated": 1,
          "estimated_growth_rate": 0.999997000009,
          "initial": 1.000003,
          "observed": 0.999996,
          "observed_growth_rate": 0.999993000021
         },
         {
          "estimated": 1,
          "estimated_growth_rate": 0.999997000009,
          "initial": 1.000003,
          "observed": 0.999996,
          "observed_growth_rate": 0.999993000021
         },
         {
          "estimated": 1,
          "estimated_growth_rate": 0.999997000009,
          "initial": 1.000003,
          "observed": 0.999996,
          "observed_growth_rate": 0.999993000021
         },
         {
          "estimated": 1,
          "estimated_growth_rate": 0.999997000009,
          "initial": 1.000003,
          "observed": 0.999996,
          "observed_growth_rate": 0.999993000021
         },
         {
          "estimated": 1,
          "estimated_growth_rate": 0.999997000009,
          "initial": 1.000003,
          "observed": 0.999996,
          "observed_growth_rate": 0.999993000021
         },
         {
          "estimated": 1,
          "estimated_growth_rate": 0.999997000009,
          "initial": 1.000003,
          "observed": 0.999996,
          "observed_growth_rate": 0.999993000021
         },
         {
          "estimated": 1,
          "estimated_growth_rate": 0.999997000009,
          "initial": 1.000003,
          "observed": 0.999996,
          "observed_growth_rate": 0.999993000021
         },
         {
          "estimated": 1,
          "estimated_growth_rate": 0.999997000009,
          "initial": 1.000003,
          "observed": 0.999996,
          "observed_growth_rate": 0.999993000021
         },
         {
          "estimated": 1,
          "estimated_growth_rate": 0.999997000009,
          "initial": 1.000003,
          "observed": 0.999996,
          "observed_growth_rate": 0.999993000021
         },
         {
          "estimated": 1,
          "estimated_growth_rate": 0.999997000009,
          "initial": 1.000003,
          "observed": 0.999996,
          "observed_growth_rate": 0.999993000021
         },
         {
          "estimated": 1,
          "estimated_growth_rate": 0.999997000009,
          "initial": 1.000003,
          "observed": 0.999996,
          "observed_growth_rate": 0.999993000021
         },
         {
          "estimated": 1,
          "estimated_growth_rate": 0.999997000009,
          "initial": 1.000003,
          "observed": 0.999996,
          "observed_growth_rate": 0.999993000021
         },
         {
          "estimated": 1,
          "estimated_growth_rate": 0.999997000009,
          "initial": 1.000003,
          "observed": 0.999996,
          "observed_growth_rate": 0.999993000021
         },
         {
          "estimated": 1,
          "estimated_growth_rate": 0.999997000009,
          "initial": 1.000003,
          "observed": 0.999996,
          "observed_growth_rate": 0.999993000021
         },
         {
          "estimated": 1,
          "estimated_growth_rate": 0.999997000009,
          "initial": 1.000003,
          "observed": 0.999996,
          "observed_growth_rate": 0.999993000021
         },
         {
          "estimated": 1,
          "estimated_growth_rate": 0.999997000009,
          "initial": 1.000003,
          "observed": 0.999996,
          "observed_growth_rate": 0.999993000021
         },
         {
          "estimated": 1,
          "estimated_growth_rate": 0.999997000009,
          "initial": 1.000003,
          "observed": 0.999996,
          "observed_growth_rate": 0.999993000021
         },
         {
          "estimated": 1,
          "estimated_growth_rate": 0.999997000009,
          "initial": 1.000003,
          "observed": 0.999996,
          "observed_growth_rate": 0.999993000021
         },
         {
          "estimated": 1,
          "estimated_growth_rate": 0.999997000009,
          "initial": 1.000003,
          "observed": 0.999996,
          "observed_growth_rate": 0.999993000021
         },
         {
          "estimated": 1,
          "estimated_growth_rate": 0.999997000009,
          "initial": 1.000003,
          "observed": 0.999996,
          "observed_growth_rate": 0.999993000021
         },
         {
          "estimated": 1,
          "estimated_growth_rate": 0.999997000009,
          "initial": 1.000003,
          "observed": 0.999996,
          "observed_growth_rate": 0.999993000021
         },
         {
          "estimated": 1,
          "estimated_growth_rate": 0.999997000009,
          "initial": 1.000003,
          "observed": 0.999996,
          "observed_growth_rate": 0.999993000021
         },
         {
          "estimated": 1,
          "estimated_growth_rate": 0.999997000009,
          "initial": 1.000003,
          "observed": 0.999996,
          "observed_growth_rate": 0.999993000021
         },
         {
          "estimated": 1,
          "estimated_growth_rate": 0.999997000009,
          "initial": 1.000003,
          "observed": 0.999996,
          "observed_growth_rate": 0.999993000021
         },
         {
          "estimated": 1,
          "estimated_growth_rate": 0.999997000009,
          "initial": 1.000003,
          "observed": 0.999996,
          "observed_growth_rate": 0.999993000021
         },
         {
          "estimated": 1,
          "estimated_growth_rate": 0.999997000009,
          "initial": 1.000003,
          "observed": 0.999996,
          "observed_growth_rate": 0.999993000021
         },
         {
          "estimated": 1,
          "estimated_growth_rate": 0.999997000009,
          "initial": 1.000003,
          "observed": 0.999996,
          "observed_growth_rate": 0.999993000021
         },
         {
          "estimated": 1,
          "estimated_growth_rate": 0.999997000009,
          "initial": 1.000003,
          "observed": 0.999996,
          "observed_growth_rate": 0.999993000021
         },
         {
          "estimated": 1,
          "estimated_growth_rate": 0.999997000009,
          "initial": 1.000003,
          "observed": 0.999996,
          "observed_growth_rate": 0.999993000021
         },
         {
          "estimated": 1,
          "estimated_growth_rate": 0.999997000009,
          "initial": 1.000003,
          "observed": 0.999996,
          "observed_growth_rate": 0.999993000021
         },
         {
          "estimated": 1,
          "estimated_growth_rate": 0.999997000009,
          "initial": 1.000003,
          "observed": 0.999996,
          "observed_growth_rate": 0.999993000021
         },
         {
          "estimated": 1,
          "estimated_growth_rate": 0.999997000009,
          "initial": 1.000003,
          "observed": 0.999996,
          "observed_growth_rate": 0.999993000021
         },
         {
          "estimated": 1,
          "estimated_growth_rate": 0.999997000009,
          "initial": 1.000003,
          "observed": 0.999996,
          "observed_growth_rate": 0.999993000021
         },
         {
          "estimated": 1,
          "estimated_growth_rate": 0.999997000009,
          "initial": 1.000003,
          "observed": 0.999996,
          "observed_growth_rate": 0.999993000021
         },
         {
          "estimated": 1,
          "estimated_growth_rate": 0.999997000009,
          "initial": 1.000003,
          "observed": 0.999996,
          "observed_growth_rate": 0.999993000021
         },
         {
          "estimated": 1,
          "estimated_growth_rate": 0.999997000009,
          "initial": 1.000003,
          "observed": 0.999996,
          "observed_growth_rate": 0.999993000021
         },
         {
          "estimated": 1,
          "estimated_growth_rate": 0.999997000009,
          "initial": 1.000003,
          "observed": 0.999996,
          "observed_growth_rate": 0.999993000021
         },
         {
          "estimated": 1,
          "estimated_growth_rate": 0.999997000009,
          "initial": 1.000003,
          "observed": 0.999996,
          "observed_growth_rate": 0.999993000021
         },
         {
          "estimated": 1,
          "estimated_growth_rate": 0.999997000009,
          "initial": 1.000003,
          "observed": 0.999996,
          "observed_growth_rate": 0.999993000021
         },
         {
          "estimated": 1,
          "estimated_growth_rate": 0.999997000009,
          "initial": 1.000003,
          "observed": 0.999996,
          "observed_growth_rate": 0.999993000021
         },
         {
          "estimated": 1,
          "estimated_growth_rate": 0.999997000009,
          "initial": 1.000003,
          "observed": 0.999996,
          "observed_growth_rate": 0.999993000021
         },
         {
          "estimated": 1,
          "estimated_growth_rate": 0.999997000009,
          "initial": 1.000003,
          "observed": 0.999996,
          "observed_growth_rate": 0.999993000021
         },
         {
          "estimated": 1,
          "estimated_growth_rate": 0.999997000009,
          "initial": 1.000003,
          "observed": 0.999996,
          "observed_growth_rate": 0.999993000021
         },
         {
          "estimated": 1,
          "estimated_growth_rate": 0.999997000009,
          "initial": 1.000003,
          "observed": 0.999996,
          "observed_growth_rate": 0.999993000021
         },
         {
          "estimated": 1,
          "estimated_growth_rate": 0.999997000009,
          "initial": 1.000003,
          "observed": 0.999996,
          "observed_growth_rate": 0.999993000021
         },
         {
          "estimated": 1,
          "estimated_growth_rate": 0.999997000009,
          "initial": 1.000003,
          "observed": 0.999996,
          "observed_growth_rate": 0.999993000021
         },
         {
          "estimated": 1,
          "estimated_growth_rate": 0.999997000009,
          "initial": 1.000003,
          "observed": 0.999996,
          "observed_growth_rate": 0.999993000021
         },
         {
          "estimated": 1,
          "estimated_growth_rate": 0.999997000009,
          "initial": 1.000003,
          "observed": 0.999996,
          "observed_growth_rate": 0.999993000021
         },
         {
          "estimated": 1,
          "estimated_growth_rate": 0.999997000009,
          "initial": 1.000003,
          "observed": 0.999996,
          "observed_growth_rate": 0.999993000021
         },
         {
          "estimated": 1,
          "estimated_growth_rate": 0.999997000009,
          "initial": 1.000003,
          "observed": 0.999996,
          "observed_growth_rate": 0.999993000021
         },
         {
          "estimated": 1,
          "estimated_growth_rate": 0.999997000009,
          "initial": 1.000003,
          "observed": 0.999996,
          "observed_growth_rate": 0.999993000021
         },
         {
          "estimated": 1,
          "estimated_growth_rate": 0.999997000009,
          "initial": 1.000003,
          "observed": 0.999996,
          "observed_growth_rate": 0.999993000021
         },
         {
          "estimated": 1,
          "estimated_growth_rate": 0.999997000009,
          "initial": 1.000003,
          "observed": 0.999996,
          "observed_growth_rate": 0.999993000021
         },
         {
          "estimated": 1,
          "estimated_growth_rate": 0.999997000009,
          "initial": 1.000003,
          "observed": 0.999996,
          "observed_growth_rate": 0.999993000021
         },
         {
          "estimated": 1,
          "estimated_growth_rate": 0.999997000009,
          "initial": 1.000003,
          "observed": 0.999996,
          "observed_growth_rate": 0.999993000021
         },
         {
          "estimated": 1,
          "estimated_growth_rate": 0.999997000009,
          "initial": 1.000003,
          "observed": 0.999996,
          "observed_growth_rate": 0.999993000021
         },
         {
          "estimated": 1,
          "estimated_growth_rate": 0.999997000009,
          "initial": 1.000003,
          "observed": 0.999996,
          "observed_growth_rate": 0.999993000021
         },
         {
          "estimated": 1,
          "estimated_growth_rate": 0.999997000009,
          "initial": 1.000003,
          "observed": 0.999996,
          "observed_growth_rate": 0.999993000021
         },
         {
          "estimated": 1,
          "estimated_growth_rate": 0.999997000009,
          "initial": 1.000003,
          "observed": 0.999996,
          "observed_growth_rate": 0.999993000021
         },
         {
          "estimated": 1,
          "estimated_growth_rate": 0.999997000009,
          "initial": 1.000003,
          "observed": 0.999996,
          "observed_growth_rate": 0.999993000021
         },
         {
          "estimated": 1,
          "estimated_growth_rate": 0.999997000009,
          "initial": 1.000003,
          "observed": 0.999996,
          "observed_growth_rate": 0.999993000021
         },
         {
          "estimated": 0.9987686002217869,
          "estimated_growth_rate": 1.1638096039704389,
          "initial": 0.858189,
          "observed": 0.999996,
          "observed_growth_rate": 1.1652398247938391
         },
         {
          "estimated": 0.9987686002217869,
          "estimated_growth_rate": 1.1638096039704389,
          "initial": 0.858189,
          "observed": 0.999996,
          "observed_growth_rate": 1.1652398247938391
         },
         {
          "estimated": 0.9987686002217869,
          "estimated_growth_rate": 1.1638096039704389,
          "initial": 0.858189,
          "observed": 0.999996,
          "observed_growth_rate": 1.1652398247938391
         },
         {
          "estimated": 0.9987686002217869,
          "estimated_growth_rate": 1.1638096039704389,
          "initial": 0.858189,
          "observed": 0.999996,
          "observed_growth_rate": 1.1652398247938391
         },
         {
          "estimated": 0.9987686002217869,
          "estimated_growth_rate": 1.1638096039704389,
          "initial": 0.858189,
          "observed": 0.999996,
          "observed_growth_rate": 1.1652398247938391
         },
         {
          "estimated": 0.9987686002217869,
          "estimated_growth_rate": 1.1638096039704389,
          "initial": 0.858189,
          "observed": 0.999996,
          "observed_growth_rate": 1.1652398247938391
         },
         {
          "estimated": 0.9987686002217869,
          "estimated_growth_rate": 1.1638096039704389,
          "initial": 0.858189,
          "observed": 0.999996,
          "observed_growth_rate": 1.1652398247938391
         },
         {
          "estimated": 0.9987686002217869,
          "estimated_growth_rate": 1.1638096039704389,
          "initial": 0.858189,
          "observed": 0.999996,
          "observed_growth_rate": 1.1652398247938391
         },
         {
          "estimated": 0.9987686002217869,
          "estimated_growth_rate": 1.1638096039704389,
          "initial": 0.858189,
          "observed": 0.999996,
          "observed_growth_rate": 1.1652398247938391
         },
         {
          "estimated": 0.9987686002217869,
          "estimated_growth_rate": 1.1638096039704389,
          "initial": 0.858189,
          "observed": 0.999996,
          "observed_growth_rate": 1.1652398247938391
         },
         {
          "estimated": 0.9987686002217869,
          "estimated_growth_rate": 1.1638096039704389,
          "initial": 0.858189,
          "observed": 0.999996,
          "observed_growth_rate": 1.1652398247938391
         },
         {
          "estimated": 0.9987686002217869,
          "estimated_growth_rate": 1.1638096039704389,
          "initial": 0.858189,
          "observed": 0.999996,
          "observed_growth_rate": 1.1652398247938391
         },
         {
          "estimated": 0.9987679775636575,
          "estimated_growth_rate": 1.1640733822889875,
          "initial": 0.857994,
          "observed": 0.999996,
          "observed_growth_rate": 1.1655046538786984
         },
         {
          "estimated": 0.9977995615697792,
          "estimated_growth_rate": 1.6310950501029517,
          "initial": 0.611736,
          "observed": 0.14183499999999996,
          "observed_growth_rate": 0.2318565524997711
         },
         {
          "estimated": 0.9977995615697792,
          "estimated_growth_rate": 1.6310950501029517,
          "initial": 0.611736,
          "observed": 0.14183499999999996,
          "observed_growth_rate": 0.2318565524997711
         },
         {
          "estimated": 0.9977995615697792,
          "estimated_growth_rate": 1.6310950501029517,
          "initial": 0.611736,
          "observed": 0.14183499999999996,
          "observed_growth_rate": 0.2318565524997711
         },
         {
          "estimated": 0.9977861297845341,
          "estimated_growth_rate": 1.6442434690501786,
          "initial": 0.6068359999999999,
          "observed": 0.14183499999999996,
          "observed_growth_rate": 0.2337287174788575
         },
         {
          "estimated": 0.9976754474008894,
          "estimated_growth_rate": 1.7893533766664325,
          "initial": 0.557562,
          "observed": 0.14183499999999996,
          "observed_growth_rate": 0.25438426578568835
         },
         {
          "estimated": 0.997659712579308,
          "estimated_growth_rate": 1.8109107605865646,
          "initial": 0.5509160000000001,
          "observed": 0.14183499999999996,
          "observed_growth_rate": 0.25745304184303947
         },
         {
          "estimated": 0.9976264689454651,
          "estimated_growth_rate": 1.8541864339927607,
          "initial": 0.5380400000000001,
          "observed": 0.14183499999999996,
          "observed_growth_rate": 0.2636142294253214
         },
         {
          "estimated": 0.9976084459639095,
          "estimated_growth_rate": 1.8541667211188648,
          "initial": 0.538036,
          "observed": 0.14183499999999996,
          "observed_growth_rate": 0.26361618925127683
         },
         {
          "estimated": 0.9976084459639095,
          "estimated_growth_rate": 1.8541667211188648,
          "initial": 0.538036,
          "observed": 0.14183499999999996,
          "observed_growth_rate": 0.26361618925127683
         },
         {
          "estimated": 0.9923742667319916,
          "estimated_growth_rate": 2.201020841333403,
          "initial": 0.45087000000000005,
          "observed": 0.091776,
          "observed_growth_rate": 0.20355313061414596
         },
         {
          "estimated": 0.9923187381013397,
          "estimated_growth_rate": 2.269630430042221,
          "initial": 0.437216,
          "observed": 0.091776,
          "observed_growth_rate": 0.2099099758471785
         },
         {
          "estimated": 0.9922133667306282,
          "estimated_growth_rate": 2.33458672755356,
          "initial": 0.425006,
          "observed": 0.091776,
          "observed_growth_rate": 0.21594048084027048
         },
         {
          "estimated": 0.9921499176870703,
          "estimated_growth_rate": 2.3372365827958035,
          "initial": 0.424497,
          "observed": 0.091776,
          "observed_growth_rate": 0.2161994077696662
         },
         {
          "estimated": 0.9914154773672876,
          "estimated_growth_rate": 2.696005213991836,
          "initial": 0.367735,
          "observed": 0.08824800000000001,
          "observed_growth_rate": 0.23997715746393466
         },
         {
          "estimated": 0.9905306976285033,
          "estimated_growth_rate": 2.7778950283488046,
          "initial": 0.356576,
          "observed": 0.08824800000000001,
          "observed_growth_rate": 0.24748721170241408
         },
         {
          "estimated": 0.9901227962997156,
          "estimated_growth_rate": 2.8543010893997938,
          "initial": 0.346888,
          "observed": 0.08824800000000001,
          "observed_growth_rate": 0.25439911441156804
         },
         {
          "estimated": 0.9900879017566535,
          "estimated_growth_rate": 2.8543815241524206,
          "initial": 0.346866,
          "observed": 0.078435,
          "observed_growth_rate": 0.22612478594039198
         },
         {
          "estimated": 0.9900530072135914,
          "estimated_growth_rate": 2.854461969108854,
          "initial": 0.346844,
          "observed": 0.078435,
          "observed_growth_rate": 0.22613912883025225
         },
         {
          "estimated": 0.987545949306584,
          "estimated_growth_rate": 2.8535687434091668,
          "initial": 0.346074,
          "observed": 0.078435,
          "observed_growth_rate": 0.22664227881898094
         },
         {
          "estimated": 0.9776444123657891,
          "estimated_growth_rate": 3.831060164684956,
          "initial": 0.255189,
          "observed": 0.062236999999999994,
          "observed_growth_rate": 0.2438859041729855
         },
         {
          "estimated": 0.9775828994844171,
          "estimated_growth_rate": 4.019897936083562,
          "initial": 0.24318599999999999,
          "observed": 0.062236999999999994,
          "observed_growth_rate": 0.2559234495406808
         },
         {
          "estimated": 0.9763706251178379,
          "estimated_growth_rate": 4.018134931408316,
          "initial": 0.24299099999999998,
          "observed": 0.062236999999999994,
          "observed_growth_rate": 0.25612882781666807
         },
         {
          "estimated": 0.9751784114269253,
          "estimated_growth_rate": 4.818741779628236,
          "initial": 0.20237199999999997,
          "observed": 0.062236999999999994,
          "observed_growth_rate": 0.30753760401636593
         },
         {
          "estimated": 0.9746486579017946,
          "estimated_growth_rate": 6.197926017155651,
          "initial": 0.15725399999999998,
          "observed": 0.062236,
          "observed_growth_rate": 0.39576735726913154
         },
         {
          "estimated": 0.0009684159938782255,
          "estimated_growth_rate": 0.0039325260250559395,
          "initial": 0.24625799999999998,
          "observed": 0.858161,
          "observed_growth_rate": 3.4848045545728463
         },
         {
          "estimated": 0.0009684159938782255,
          "estimated_growth_rate": 0.0039325260250559395,
          "initial": 0.24625799999999998,
          "observed": 0.858161,
          "observed_growth_rate": 3.4848045545728463
         },
         {
          "estimated": 0.0009684159938782255,
          "estimated_growth_rate": 0.0039325260250559395,
          "initial": 0.24625799999999998,
          "observed": 0.858161,
          "observed_growth_rate": 3.4848045545728463
         },
         {
          "estimated": 0.0009684159938782255,
          "estimated_growth_rate": 0.0039325260250559395,
          "initial": 0.24625799999999998,
          "observed": 0.858161,
          "observed_growth_rate": 3.4848045545728463
         },
         {
          "estimated": 0.0009684159938782255,
          "estimated_growth_rate": 0.0039325260250559395,
          "initial": 0.24625799999999998,
          "observed": 0.858161,
          "observed_growth_rate": 3.4848045545728463
         },
         {
          "estimated": 0.0009684159938782255,
          "estimated_growth_rate": 0.0039325260250559395,
          "initial": 0.24625799999999998,
          "observed": 0.858161,
          "observed_growth_rate": 3.4848045545728463
         },
         {
          "estimated": 0.0009684159938782255,
          "estimated_growth_rate": 0.0039325260250559395,
          "initial": 0.24625799999999998,
          "observed": 0.858161,
          "observed_growth_rate": 3.4848045545728463
         },
         {
          "estimated": 0.0009684159938782255,
          "estimated_growth_rate": 0.0039325260250559395,
          "initial": 0.24625799999999998,
          "observed": 0.858161,
          "observed_growth_rate": 3.4848045545728463
         },
         {
          "estimated": 1,
          "estimated_growth_rate": 1.000003000009,
          "initial": 0.9999969999999999,
          "observed": 0.999992,
          "observed_growth_rate": 0.9999949999850001
         },
         {
          "estimated": 1,
          "estimated_growth_rate": 1.000003000009,
          "initial": 0.9999969999999999,
          "observed": 0.999992,
          "observed_growth_rate": 0.9999949999850001
         },
         {
          "estimated": 1,
          "estimated_growth_rate": 1.000003000009,
          "initial": 0.9999969999999999,
          "observed": 0.999992,
          "observed_growth_rate": 0.9999949999850001
         },
         {
          "estimated": 1,
          "estimated_growth_rate": 1.000003000009,
          "initial": 0.9999969999999999,
          "observed": 0.999992,
          "observed_growth_rate": 0.9999949999850001
         },
         {
          "estimated": 1,
          "estimated_growth_rate": 1.000003000009,
          "initial": 0.9999969999999999,
          "observed": 0.999992,
          "observed_growth_rate": 0.9999949999850001
         },
         {
          "estimated": 1,
          "estimated_growth_rate": 1.000003000009,
          "initial": 0.9999969999999999,
          "observed": 0.999992,
          "observed_growth_rate": 0.9999949999850001
         },
         {
          "estimated": 1,
          "estimated_growth_rate": 1.000003000009,
          "initial": 0.9999969999999999,
          "observed": 0.999992,
          "observed_growth_rate": 0.9999949999850001
         },
         {
          "estimated": 1,
          "estimated_growth_rate": 1.000003000009,
          "initial": 0.9999969999999999,
          "observed": 0.999992,
          "observed_growth_rate": 0.9999949999850001
         },
         {
          "estimated": 1,
          "estimated_growth_rate": 1.000003000009,
          "initial": 0.9999969999999999,
          "observed": 0.999992,
          "observed_growth_rate": 0.9999949999850001
         },
         {
          "estimated": 1,
          "estimated_growth_rate": 1.000003000009,
          "initial": 0.9999969999999999,
          "observed": 0.999992,
          "observed_growth_rate": 0.9999949999850001
         },
         {
          "estimated": 1,
          "estimated_growth_rate": 1.000003000009,
          "initial": 0.9999969999999999,
          "observed": 0.999992,
          "observed_growth_rate": 0.9999949999850001
         },
         {
          "estimated": 1,
          "estimated_growth_rate": 1.000003000009,
          "initial": 0.9999969999999999,
          "observed": 0.999992,
          "observed_growth_rate": 0.9999949999850001
         },
         {
          "estimated": 1,
          "estimated_growth_rate": 1.000003000009,
          "initial": 0.9999969999999999,
          "observed": 0.999992,
          "observed_growth_rate": 0.9999949999850001
         },
         {
          "estimated": 1,
          "estimated_growth_rate": 1.000003000009,
          "initial": 0.9999969999999999,
          "observed": 0.999992,
          "observed_growth_rate": 0.9999949999850001
         },
         {
          "estimated": 1,
          "estimated_growth_rate": 1.000003000009,
          "initial": 0.9999969999999999,
          "observed": 0.999992,
          "observed_growth_rate": 0.9999949999850001
         },
         {
          "estimated": 1,
          "estimated_growth_rate": 1.000003000009,
          "initial": 0.9999969999999999,
          "observed": 0.999992,
          "observed_growth_rate": 0.9999949999850001
         },
         {
          "estimated": 1,
          "estimated_growth_rate": 1.000003000009,
          "initial": 0.9999969999999999,
          "observed": 0.999992,
          "observed_growth_rate": 0.9999949999850001
         },
         {
          "estimated": 1,
          "estimated_growth_rate": 1.000003000009,
          "initial": 0.9999969999999999,
          "observed": 0.999992,
          "observed_growth_rate": 0.9999949999850001
         },
         {
          "estimated": 1,
          "estimated_growth_rate": 1.000003000009,
          "initial": 0.9999969999999999,
          "observed": 0.999992,
          "observed_growth_rate": 0.9999949999850001
         },
         {
          "estimated": 1,
          "estimated_growth_rate": 1.000003000009,
          "initial": 0.9999969999999999,
          "observed": 0.999992,
          "observed_growth_rate": 0.9999949999850001
         },
         {
          "estimated": 1,
          "estimated_growth_rate": 1.000003000009,
          "initial": 0.9999969999999999,
          "observed": 0.999992,
          "observed_growth_rate": 0.9999949999850001
         },
         {
          "estimated": 1,
          "estimated_growth_rate": 1.000003000009,
          "initial": 0.9999969999999999,
          "observed": 0.999992,
          "observed_growth_rate": 0.9999949999850001
         },
         {
          "estimated": 1,
          "estimated_growth_rate": 1.000003000009,
          "initial": 0.9999969999999999,
          "observed": 0.999992,
          "observed_growth_rate": 0.9999949999850001
         },
         {
          "estimated": 1,
          "estimated_growth_rate": 1.000003000009,
          "initial": 0.9999969999999999,
          "observed": 0.999992,
          "observed_growth_rate": 0.9999949999850001
         },
         {
          "estimated": 1,
          "estimated_growth_rate": 1.000003000009,
          "initial": 0.9999969999999999,
          "observed": 0.999992,
          "observed_growth_rate": 0.9999949999850001
         },
         {
          "estimated": 1,
          "estimated_growth_rate": 1.000003000009,
          "initial": 0.9999969999999999,
          "observed": 0.999992,
          "observed_growth_rate": 0.9999949999850001
         },
         {
          "estimated": 1,
          "estimated_growth_rate": 1.000003000009,
          "initial": 0.9999969999999999,
          "observed": 0.999992,
          "observed_growth_rate": 0.9999949999850001
         },
         {
          "estimated": 1,
          "estimated_growth_rate": 1.000003000009,
          "initial": 0.9999969999999999,
          "observed": 0.999992,
          "observed_growth_rate": 0.9999949999850001
         },
         {
          "estimated": 1,
          "estimated_growth_rate": 1.000003000009,
          "initial": 0.9999969999999999,
          "observed": 0.999992,
          "observed_growth_rate": 0.9999949999850001
         },
         {
          "estimated": 1,
          "estimated_growth_rate": 1.000003000009,
          "initial": 0.9999969999999999,
          "observed": 0.999992,
          "observed_growth_rate": 0.9999949999850001
         },
         {
          "estimated": 1,
          "estimated_growth_rate": 1.000003000009,
          "initial": 0.9999969999999999,
          "observed": 0.999992,
          "observed_growth_rate": 0.9999949999850001
         },
         {
          "estimated": 1,
          "estimated_growth_rate": 1.000003000009,
          "initial": 0.9999969999999999,
          "observed": 0.999992,
          "observed_growth_rate": 0.9999949999850001
         },
         {
          "estimated": 1,
          "estimated_growth_rate": 1.000003000009,
          "initial": 0.9999969999999999,
          "observed": 0.999992,
          "observed_growth_rate": 0.9999949999850001
         },
         {
          "estimated": 1,
          "estimated_growth_rate": 1.000003000009,
          "initial": 0.9999969999999999,
          "observed": 0.999992,
          "observed_growth_rate": 0.9999949999850001
         },
         {
          "estimated": 1,
          "estimated_growth_rate": 1.000003000009,
          "initial": 0.9999969999999999,
          "observed": 0.999992,
          "observed_growth_rate": 0.9999949999850001
         },
         {
          "estimated": 1,
          "estimated_growth_rate": 1.000003000009,
          "initial": 0.9999969999999999,
          "observed": 0.999992,
          "observed_growth_rate": 0.9999949999850001
         },
         {
          "estimated": 1,
          "estimated_growth_rate": 1.000003000009,
          "initial": 0.9999969999999999,
          "observed": 0.999992,
          "observed_growth_rate": 0.9999949999850001
         },
         {
          "estimated": 1,
          "estimated_growth_rate": 1.000003000009,
          "initial": 0.9999969999999999,
          "observed": 0.999992,
          "observed_growth_rate": 0.9999949999850001
         },
         {
          "estimated": 1,
          "estimated_growth_rate": 1.000003000009,
          "initial": 0.9999969999999999,
          "observed": 0.999992,
          "observed_growth_rate": 0.9999949999850001
         },
         {
          "estimated": 1,
          "estimated_growth_rate": 1.000003000009,
          "initial": 0.9999969999999999,
          "observed": 0.999992,
          "observed_growth_rate": 0.9999949999850001
         },
         {
          "estimated": 1,
          "estimated_growth_rate": 1.000003000009,
          "initial": 0.9999969999999999,
          "observed": 0.999992,
          "observed_growth_rate": 0.9999949999850001
         },
         {
          "estimated": 1,
          "estimated_growth_rate": 1.000003000009,
          "initial": 0.9999969999999999,
          "observed": 0.999992,
          "observed_growth_rate": 0.9999949999850001
         },
         {
          "estimated": 1,
          "estimated_growth_rate": 1.000003000009,
          "initial": 0.9999969999999999,
          "observed": 0.999992,
          "observed_growth_rate": 0.9999949999850001
         },
         {
          "estimated": 1,
          "estimated_growth_rate": 1.000003000009,
          "initial": 0.9999969999999999,
          "observed": 0.999992,
          "observed_growth_rate": 0.9999949999850001
         },
         {
          "estimated": 1,
          "estimated_growth_rate": 1.000003000009,
          "initial": 0.9999969999999999,
          "observed": 0.999992,
          "observed_growth_rate": 0.9999949999850001
         },
         {
          "estimated": 1,
          "estimated_growth_rate": 1.000003000009,
          "initial": 0.9999969999999999,
          "observed": 0.999992,
          "observed_growth_rate": 0.9999949999850001
         },
         {
          "estimated": 1,
          "estimated_growth_rate": 1.000003000009,
          "initial": 0.9999969999999999,
          "observed": 0.999992,
          "observed_growth_rate": 0.9999949999850001
         },
         {
          "estimated": 1,
          "estimated_growth_rate": 1.000003000009,
          "initial": 0.9999969999999999,
          "observed": 0.999992,
          "observed_growth_rate": 0.9999949999850001
         },
         {
          "estimated": 1,
          "estimated_growth_rate": 1.000003000009,
          "initial": 0.9999969999999999,
          "observed": 0.999992,
          "observed_growth_rate": 0.9999949999850001
         },
         {
          "estimated": 1,
          "estimated_growth_rate": 1.000003000009,
          "initial": 0.9999969999999999,
          "observed": 0.999992,
          "observed_growth_rate": 0.9999949999850001
         },
         {
          "estimated": 1,
          "estimated_growth_rate": 1.000003000009,
          "initial": 0.9999969999999999,
          "observed": 0.999992,
          "observed_growth_rate": 0.9999949999850001
         },
         {
          "estimated": 1,
          "estimated_growth_rate": 1.000003000009,
          "initial": 0.9999969999999999,
          "observed": 0.999992,
          "observed_growth_rate": 0.9999949999850001
         },
         {
          "estimated": 1,
          "estimated_growth_rate": 1.000003000009,
          "initial": 0.9999969999999999,
          "observed": 0.999992,
          "observed_growth_rate": 0.9999949999850001
         },
         {
          "estimated": 1,
          "estimated_growth_rate": 1.000003000009,
          "initial": 0.9999969999999999,
          "observed": 0.999992,
          "observed_growth_rate": 0.9999949999850001
         },
         {
          "estimated": 1,
          "estimated_growth_rate": 1.000003000009,
          "initial": 0.9999969999999999,
          "observed": 0.999992,
          "observed_growth_rate": 0.9999949999850001
         },
         {
          "estimated": 1,
          "estimated_growth_rate": 1.000003000009,
          "initial": 0.9999969999999999,
          "observed": 0.999992,
          "observed_growth_rate": 0.9999949999850001
         },
         {
          "estimated": 1,
          "estimated_growth_rate": 1.000003000009,
          "initial": 0.9999969999999999,
          "observed": 0.999992,
          "observed_growth_rate": 0.9999949999850001
         },
         {
          "estimated": 1,
          "estimated_growth_rate": 1.000003000009,
          "initial": 0.9999969999999999,
          "observed": 0.999992,
          "observed_growth_rate": 0.9999949999850001
         },
         {
          "estimated": 1,
          "estimated_growth_rate": 1.000003000009,
          "initial": 0.9999969999999999,
          "observed": 0.999992,
          "observed_growth_rate": 0.9999949999850001
         },
         {
          "estimated": 1,
          "estimated_growth_rate": 1.000003000009,
          "initial": 0.9999969999999999,
          "observed": 0.999992,
          "observed_growth_rate": 0.9999949999850001
         },
         {
          "estimated": 1,
          "estimated_growth_rate": 1.000003000009,
          "initial": 0.9999969999999999,
          "observed": 0.999992,
          "observed_growth_rate": 0.9999949999850001
         },
         {
          "estimated": 1,
          "estimated_growth_rate": 1.000003000009,
          "initial": 0.9999969999999999,
          "observed": 0.999992,
          "observed_growth_rate": 0.9999949999850001
         },
         {
          "estimated": 1,
          "estimated_growth_rate": 1.000003000009,
          "initial": 0.9999969999999999,
          "observed": 0.999992,
          "observed_growth_rate": 0.9999949999850001
         },
         {
          "estimated": 1,
          "estimated_growth_rate": 1.000003000009,
          "initial": 0.9999969999999999,
          "observed": 0.999992,
          "observed_growth_rate": 0.9999949999850001
         },
         {
          "estimated": 1,
          "estimated_growth_rate": 1.000003000009,
          "initial": 0.9999969999999999,
          "observed": 0.999992,
          "observed_growth_rate": 0.9999949999850001
         },
         {
          "estimated": 1,
          "estimated_growth_rate": 1.000003000009,
          "initial": 0.9999969999999999,
          "observed": 0.999992,
          "observed_growth_rate": 0.9999949999850001
         },
         {
          "estimated": 1,
          "estimated_growth_rate": 1.000003000009,
          "initial": 0.9999969999999999,
          "observed": 0.999992,
          "observed_growth_rate": 0.9999949999850001
         },
         {
          "estimated": 1,
          "estimated_growth_rate": 1.000003000009,
          "initial": 0.9999969999999999,
          "observed": 0.999992,
          "observed_growth_rate": 0.9999949999850001
         },
         {
          "estimated": 1,
          "estimated_growth_rate": 1.000003000009,
          "initial": 0.9999969999999999,
          "observed": 0.999992,
          "observed_growth_rate": 0.9999949999850001
         },
         {
          "estimated": 1,
          "estimated_growth_rate": 1.000003000009,
          "initial": 0.9999969999999999,
          "observed": 0.999992,
          "observed_growth_rate": 0.9999949999850001
         },
         {
          "estimated": 1,
          "estimated_growth_rate": 1.000003000009,
          "initial": 0.9999969999999999,
          "observed": 0.999992,
          "observed_growth_rate": 0.9999949999850001
         },
         {
          "estimated": 1,
          "estimated_growth_rate": 1.000003000009,
          "initial": 0.9999969999999999,
          "observed": 0.999992,
          "observed_growth_rate": 0.9999949999850001
         },
         {
          "estimated": 1,
          "estimated_growth_rate": 1.000003000009,
          "initial": 0.9999969999999999,
          "observed": 0.999992,
          "observed_growth_rate": 0.9999949999850001
         },
         {
          "estimated": 1,
          "estimated_growth_rate": 1.000003000009,
          "initial": 0.9999969999999999,
          "observed": 0.999992,
          "observed_growth_rate": 0.9999949999850001
         },
         {
          "estimated": 1,
          "estimated_growth_rate": 1.000003000009,
          "initial": 0.9999969999999999,
          "observed": 0.999992,
          "observed_growth_rate": 0.9999949999850001
         },
         {
          "estimated": 1,
          "estimated_growth_rate": 1.000003000009,
          "initial": 0.9999969999999999,
          "observed": 0.999992,
          "observed_growth_rate": 0.9999949999850001
         },
         {
          "estimated": 1,
          "estimated_growth_rate": 1.000003000009,
          "initial": 0.9999969999999999,
          "observed": 0.999992,
          "observed_growth_rate": 0.9999949999850001
         },
         {
          "estimated": 1,
          "estimated_growth_rate": 1.000003000009,
          "initial": 0.9999969999999999,
          "observed": 0.999992,
          "observed_growth_rate": 0.9999949999850001
         },
         {
          "estimated": 1,
          "estimated_growth_rate": 1.000003000009,
          "initial": 0.9999969999999999,
          "observed": 0.999992,
          "observed_growth_rate": 0.9999949999850001
         },
         {
          "estimated": 0.9999981339409727,
          "estimated_growth_rate": 1.0473103803743855,
          "initial": 0.954825,
          "observed": 0.994998,
          "observed_growth_rate": 1.0420736784227476
         },
         {
          "estimated": 0.9999981339409727,
          "estimated_growth_rate": 1.0473103803743855,
          "initial": 0.954825,
          "observed": 0.994998,
          "observed_growth_rate": 1.0420736784227476
         },
         {
          "estimated": 0.9999981339409727,
          "estimated_growth_rate": 1.0473103803743855,
          "initial": 0.954825,
          "observed": 0.994998,
          "observed_growth_rate": 1.0420736784227476
         },
         {
          "estimated": 0.9999981339409727,
          "estimated_growth_rate": 1.0473103803743855,
          "initial": 0.954825,
          "observed": 0.994998,
          "observed_growth_rate": 1.0420736784227476
         },
         {
          "estimated": 0.9999981339409727,
          "estimated_growth_rate": 1.0473103803743855,
          "initial": 0.954825,
          "observed": 0.994998,
          "observed_growth_rate": 1.0420736784227476
         },
         {
          "estimated": 0.9999981339409727,
          "estimated_growth_rate": 1.0473103803743855,
          "initial": 0.954825,
          "observed": 0.994998,
          "observed_growth_rate": 1.0420736784227476
         },
         {
          "estimated": 0.9999981339409727,
          "estimated_growth_rate": 1.0473103803743855,
          "initial": 0.954825,
          "observed": 0.994998,
          "observed_growth_rate": 1.0420736784227476
         },
         {
          "estimated": 0.9999981339409727,
          "estimated_growth_rate": 1.0473103803743855,
          "initial": 0.954825,
          "observed": 0.994998,
          "observed_growth_rate": 1.0420736784227476
         },
         {
          "estimated": 0.9999981339409727,
          "estimated_growth_rate": 1.0473103803743855,
          "initial": 0.954825,
          "observed": 0.994998,
          "observed_growth_rate": 1.0420736784227476
         },
         {
          "estimated": 0.9999981339409727,
          "estimated_growth_rate": 1.0473103803743855,
          "initial": 0.954825,
          "observed": 0.994998,
          "observed_growth_rate": 1.0420736784227476
         },
         {
          "estimated": 0.9999981339409727,
          "estimated_growth_rate": 1.0473103803743855,
          "initial": 0.954825,
          "observed": 0.994998,
          "observed_growth_rate": 1.0420736784227476
         },
         {
          "estimated": 0.9999981339409727,
          "estimated_growth_rate": 1.0473103803743855,
          "initial": 0.954825,
          "observed": 0.994998,
          "observed_growth_rate": 1.0420736784227476
         },
         {
          "estimated": 0.9999981339409727,
          "estimated_growth_rate": 1.0473103803743855,
          "initial": 0.954825,
          "observed": 0.994998,
          "observed_growth_rate": 1.0420736784227476
         },
         {
          "estimated": 0.00011248750015946207,
          "estimated_growth_rate": 0.0003074991666788643,
          "initial": 0.36581400000000003,
          "observed": 0.20650100000000002,
          "observed_growth_rate": 0.5644972581694523
         },
         {
          "estimated": 0.00011248750015946207,
          "estimated_growth_rate": 0.0003074991666788643,
          "initial": 0.36581400000000003,
          "observed": 0.20650100000000002,
          "observed_growth_rate": 0.5644972581694523
         },
         {
          "estimated": 0.00011248750015946207,
          "estimated_growth_rate": 0.0003074991666788643,
          "initial": 0.36581400000000003,
          "observed": 0.20650100000000002,
          "observed_growth_rate": 0.5644972581694523
         },
         {
          "estimated": 0.00011244937492722335,
          "estimated_growth_rate": 0.000309480347894788,
          "initial": 0.3633490000000001,
          "observed": 0.20650100000000002,
          "observed_growth_rate": 0.5683268703092618
         },
         {
          "estimated": 0.00011241778717123675,
          "estimated_growth_rate": 0.00031043574850740137,
          "initial": 0.36212900000000003,
          "observed": 0.20650100000000002,
          "observed_growth_rate": 0.570241543759268
         },
         {
          "estimated": 0.00011241146548730069,
          "estimated_growth_rate": 0.0003106396077256832,
          "initial": 0.361871,
          "observed": 0.20650100000000002,
          "observed_growth_rate": 0.5706481038823228
         },
         {
          "estimated": 0.00011238214481481964,
          "estimated_growth_rate": 0.0003114536855614391,
          "initial": 0.360831,
          "observed": 0.20650100000000002,
          "observed_growth_rate": 0.5722928462354954
         },
         {
          "estimated": 0.00011238214481481964,
          "estimated_growth_rate": 0.0003114536855614391,
          "initial": 0.360831,
          "observed": 0.20650100000000002,
          "observed_growth_rate": 0.5722928462354954
         },
         {
          "estimated": 0.00011224466714656917,
          "estimated_growth_rate": 0.00031837129997126486,
          "initial": 0.352559,
          "observed": 0.20650100000000002,
          "observed_growth_rate": 0.585720404244396
         },
         {
          "estimated": 0.00010579643466887865,
          "estimated_growth_rate": 0.00041937778835723097,
          "initial": 0.25227,
          "observed": 0.157595,
          "observed_growth_rate": 0.6247076544971658
         },
         {
          "estimated": 0.0001057963265553874,
          "estimated_growth_rate": 0.0004193973097201572,
          "initial": 0.252258,
          "observed": 0.157595,
          "observed_growth_rate": 0.624737372055594
         },
         {
          "estimated": 0.0001057953595443963,
          "estimated_growth_rate": 0.0004194234044735026,
          "initial": 0.25224,
          "observed": 0.157595,
          "observed_growth_rate": 0.6247819536948938
         },
         {
          "estimated": 0.0001057953595443963,
          "estimated_growth_rate": 0.0004194234044735026,
          "initial": 0.25224,
          "observed": 0.157595,
          "observed_growth_rate": 0.6247819536948938
         },
         {
          "estimated": 0.00010488645641284183,
          "estimated_growth_rate": 0.000461343551409025,
          "initial": 0.22735,
          "observed": 0.157595,
          "observed_growth_rate": 0.693182318011876
         },
         {
          "estimated": 0.00010488645641284183,
          "estimated_growth_rate": 0.000461343551409025,
          "initial": 0.22735,
          "observed": 0.157595,
          "observed_growth_rate": 0.693182318011876
         },
         {
          "estimated": 0.00010486046043186213,
          "estimated_growth_rate": 0.0004624313056234246,
          "initial": 0.226759,
          "observed": 0.157595,
          "observed_growth_rate": 0.6949889530294278
         },
         {
          "estimated": 0.00010245419456507226,
          "estimated_growth_rate": 0.0005392212509477287,
          "initial": 0.190004,
          "observed": 0.157595,
          "observed_growth_rate": 0.8294299067388056
         },
         {
          "estimated": 0.00010245419456507226,
          "estimated_growth_rate": 0.0005392212509477287,
          "initial": 0.190004,
          "observed": 0.157595,
          "observed_growth_rate": 0.8294299067388056
         },
         {
          "estimated": 0.00010245419456507226,
          "estimated_growth_rate": 0.0005392212509477287,
          "initial": 0.190004,
          "observed": 0.157595,
          "observed_growth_rate": 0.8294299067388056
         },
         {
          "estimated": 0.9998856464408133,
          "estimated_growth_rate": 1.6975670173236381,
          "initial": 0.589011,
          "observed": 0.788497,
          "observed_growth_rate": 1.33867958323359
         },
         {
          "estimated": 0.9998856464408133,
          "estimated_growth_rate": 1.6975670173236381,
          "initial": 0.589011,
          "observed": 0.788497,
          "observed_growth_rate": 1.33867958323359
         },
         {
          "estimated": 0.9998856464408133,
          "estimated_growth_rate": 1.6975670173236381,
          "initial": 0.589011,
          "observed": 0.788497,
          "observed_growth_rate": 1.33867958323359
         },
         {
          "estimated": 0.9998856464408133,
          "estimated_growth_rate": 1.6975670173236381,
          "initial": 0.589011,
          "observed": 0.788497,
          "observed_growth_rate": 1.33867958323359
         },
         {
          "estimated": 0.9998856464408133,
          "estimated_growth_rate": 1.6975670173236381,
          "initial": 0.589011,
          "observed": 0.788497,
          "observed_growth_rate": 1.33867958323359
         },
         {
          "estimated": 0.9998856464408133,
          "estimated_growth_rate": 1.6975670173236381,
          "initial": 0.589011,
          "observed": 0.788497,
          "observed_growth_rate": 1.33867958323359
         },
         {
          "estimated": 0.9998856464408133,
          "estimated_growth_rate": 1.6975670173236381,
          "initial": 0.589011,
          "observed": 0.788497,
          "observed_growth_rate": 1.33867958323359
         },
         {
          "estimated": 0.9998856464408133,
          "estimated_growth_rate": 1.6975670173236381,
          "initial": 0.589011,
          "observed": 0.788497,
          "observed_growth_rate": 1.33867958323359
         },
         {
          "estimated": 0.9998843973708631,
          "estimated_growth_rate": 1.7711175225770315,
          "initial": 0.56455,
          "observed": 0.788497,
          "observed_growth_rate": 1.3966823133469135
         },
         {
          "estimated": 0.9998843973708631,
          "estimated_growth_rate": 1.7711175225770315,
          "initial": 0.56455,
          "observed": 0.788497,
          "observed_growth_rate": 1.3966823133469135
         },
         {
          "estimated": 0.9998843973708631,
          "estimated_growth_rate": 1.7711175225770315,
          "initial": 0.56455,
          "observed": 0.788497,
          "observed_growth_rate": 1.3966823133469135
         },
         {
          "estimated": 0.9998843973708631,
          "estimated_growth_rate": 1.7711175225770315,
          "initial": 0.56455,
          "observed": 0.788497,
          "observed_growth_rate": 1.3966823133469135
         },
         {
          "estimated": 0.9998843973708631,
          "estimated_growth_rate": 1.7711175225770315,
          "initial": 0.56455,
          "observed": 0.788497,
          "observed_growth_rate": 1.3966823133469135
         },
         {
          "estimated": 0.9998843973708631,
          "estimated_growth_rate": 1.7711175225770315,
          "initial": 0.56455,
          "observed": 0.788497,
          "observed_growth_rate": 1.3966823133469135
         },
         {
          "estimated": 0.9998843973708631,
          "estimated_growth_rate": 1.7711175225770315,
          "initial": 0.56455,
          "observed": 0.788497,
          "observed_growth_rate": 1.3966823133469135
         },
         {
          "estimated": 0.9998835757148522,
          "estimated_growth_rate": 1.8972870867272202,
          "initial": 0.527007,
          "observed": 0.7793640000000001,
          "observed_growth_rate": 1.4788494270474586
         },
         {
          "estimated": 0.9998795151049785,
          "estimated_growth_rate": 2.099114308667822,
          "initial": 0.47633400000000004,
          "observed": 0.695827,
          "observed_growth_rate": 1.4607964159602294
         },
         {
          "estimated": 0.9998795151049785,
          "estimated_growth_rate": 2.099114308667822,
          "initial": 0.47633400000000004,
          "observed": 0.695805,
          "observed_growth_rate": 1.4607502298807138
         },
         {
          "estimated": 0.9997740215962189,
          "estimated_growth_rate": 3.746183730379495,
          "initial": 0.266878,
          "observed": 0.21501599999999998,
          "observed_growth_rate": 0.8056715053320243
         },
         {
          "estimated": 0.9996389622863047,
          "estimated_growth_rate": 5.948426146147924,
          "initial": 0.16805099999999998,
          "observed": 0.200642,
          "observed_growth_rate": 1.1939351744410924
         },
         {
          "estimated": 0.9996381795516207,
          "estimated_growth_rate": 6.268463730406286,
          "initial": 0.15947099999999997,
          "observed": 0.200642,
          "observed_growth_rate": 1.2581723322735796
         },
         {
          "estimated": 0.9996381795516207,
          "estimated_growth_rate": 6.268463730406286,
          "initial": 0.15947099999999997,
          "observed": 0.200633,
          "observed_growth_rate": 1.2581158956800926
         },
         {
          "estimated": 0.00010549350875953212,
          "estimated_growth_rate": 0.0005036547473432707,
          "initial": 0.209456,
          "observed": 0.480789,
          "observed_growth_rate": 2.2954176533496295
         },
         {
          "estimated": 0.00010549350875953212,
          "estimated_growth_rate": 0.0005036547473432707,
          "initial": 0.209456,
          "observed": 0.480725,
          "observed_growth_rate": 2.295112099915973
         },
         {
          "estimated": 0.00010443352441980731,
          "estimated_growth_rate": 0.0005667018901353208,
          "initial": 0.184283,
          "observed": 0.472536,
          "observed_growth_rate": 2.564186604298823
         },
         {
          "estimated": 0.00010372109905557036,
          "estimated_growth_rate": 0.0005953113646075324,
          "initial": 0.17423,
          "observed": 0.472536,
          "observed_growth_rate": 2.7121391264420596
         },
         {
          "estimated": 0.9999999999999999,
          "estimated_growth_rate": 1.000004000016,
          "initial": 0.999996,
          "observed": 0.9999990000000001,
          "observed_growth_rate": 1.0000030000120002
         },
         {
          "estimated": 0.9999999999999999,
          "estimated_growth_rate": 1.000004000016,
          "initial": 0.999996,
          "observed": 0.9999990000000001,
          "observed_growth_rate": 1.0000030000120002
         },
         {
          "estimated": 0.9999999999999999,
          "estimated_growth_rate": 1.000004000016,
          "initial": 0.999996,
          "observed": 0.9999990000000001,
          "observed_growth_rate": 1.0000030000120002
         },
         {
          "estimated": 0.9999999999999999,
          "estimated_growth_rate": 1.000004000016,
          "initial": 0.999996,
          "observed": 0.9999990000000001,
          "observed_growth_rate": 1.0000030000120002
         },
         {
          "estimated": 0.9999999999999999,
          "estimated_growth_rate": 1.000004000016,
          "initial": 0.999996,
          "observed": 0.9999990000000001,
          "observed_growth_rate": 1.0000030000120002
         },
         {
          "estimated": 0.9999999999999999,
          "estimated_growth_rate": 1.000004000016,
          "initial": 0.999996,
          "observed": 0.9999990000000001,
          "observed_growth_rate": 1.0000030000120002
         },
         {
          "estimated": 0.9999999999999999,
          "estimated_growth_rate": 1.000004000016,
          "initial": 0.999996,
          "observed": 0.9999990000000001,
          "observed_growth_rate": 1.0000030000120002
         },
         {
          "estimated": 0.9999999999999999,
          "estimated_growth_rate": 1.000004000016,
          "initial": 0.999996,
          "observed": 0.9999990000000001,
          "observed_growth_rate": 1.0000030000120002
         },
         {
          "estimated": 0.9999999999999999,
          "estimated_growth_rate": 1.000004000016,
          "initial": 0.999996,
          "observed": 0.9999990000000001,
          "observed_growth_rate": 1.0000030000120002
         },
         {
          "estimated": 0.9999999999999999,
          "estimated_growth_rate": 1.000004000016,
          "initial": 0.999996,
          "observed": 0.9999990000000001,
          "observed_growth_rate": 1.0000030000120002
         },
         {
          "estimated": 0.9999999999999999,
          "estimated_growth_rate": 1.000004000016,
          "initial": 0.999996,
          "observed": 0.9999990000000001,
          "observed_growth_rate": 1.0000030000120002
         },
         {
          "estimated": 0.9999999999999999,
          "estimated_growth_rate": 1.000004000016,
          "initial": 0.999996,
          "observed": 0.9999990000000001,
          "observed_growth_rate": 1.0000030000120002
         },
         {
          "estimated": 0.9999999999999999,
          "estimated_growth_rate": 1.000004000016,
          "initial": 0.999996,
          "observed": 0.9999990000000001,
          "observed_growth_rate": 1.0000030000120002
         },
         {
          "estimated": 0.9999999999999999,
          "estimated_growth_rate": 1.000004000016,
          "initial": 0.999996,
          "observed": 0.9999990000000001,
          "observed_growth_rate": 1.0000030000120002
         },
         {
          "estimated": 0.9999999999999999,
          "estimated_growth_rate": 1.000004000016,
          "initial": 0.999996,
          "observed": 0.9999990000000001,
          "observed_growth_rate": 1.0000030000120002
         },
         {
          "estimated": 0.9999999999999999,
          "estimated_growth_rate": 1.000004000016,
          "initial": 0.999996,
          "observed": 0.9999990000000001,
          "observed_growth_rate": 1.0000030000120002
         },
         {
          "estimated": 0.9999999999999999,
          "estimated_growth_rate": 1.000004000016,
          "initial": 0.999996,
          "observed": 0.9999990000000001,
          "observed_growth_rate": 1.0000030000120002
         },
         {
          "estimated": 0.9999999999999999,
          "estimated_growth_rate": 1.000004000016,
          "initial": 0.999996,
          "observed": 0.9999990000000001,
          "observed_growth_rate": 1.0000030000120002
         },
         {
          "estimated": 0.9999999999999999,
          "estimated_growth_rate": 1.000004000016,
          "initial": 0.999996,
          "observed": 0.9999990000000001,
          "observed_growth_rate": 1.0000030000120002
         },
         {
          "estimated": 0.9999999999999999,
          "estimated_growth_rate": 1.000004000016,
          "initial": 0.999996,
          "observed": 0.9999990000000001,
          "observed_growth_rate": 1.0000030000120002
         },
         {
          "estimated": 0.9999999999999999,
          "estimated_growth_rate": 1.000004000016,
          "initial": 0.999996,
          "observed": 0.9999990000000001,
          "observed_growth_rate": 1.0000030000120002
         },
         {
          "estimated": 0.9999999999999999,
          "estimated_growth_rate": 1.000004000016,
          "initial": 0.999996,
          "observed": 0.9999990000000001,
          "observed_growth_rate": 1.0000030000120002
         },
         {
          "estimated": 0.9999999999999999,
          "estimated_growth_rate": 1.000004000016,
          "initial": 0.999996,
          "observed": 0.9999990000000001,
          "observed_growth_rate": 1.0000030000120002
         },
         {
          "estimated": 0.9999999999999999,
          "estimated_growth_rate": 1.000004000016,
          "initial": 0.999996,
          "observed": 0.9999990000000001,
          "observed_growth_rate": 1.0000030000120002
         },
         {
          "estimated": 0.9999999999999999,
          "estimated_growth_rate": 1.000004000016,
          "initial": 0.999996,
          "observed": 0.9999990000000001,
          "observed_growth_rate": 1.0000030000120002
         },
         {
          "estimated": 0.9999999999999999,
          "estimated_growth_rate": 1.000004000016,
          "initial": 0.999996,
          "observed": 0.9999990000000001,
          "observed_growth_rate": 1.0000030000120002
         },
         {
          "estimated": 0.9999999999999999,
          "estimated_growth_rate": 1.000004000016,
          "initial": 0.999996,
          "observed": 0.9999990000000001,
          "observed_growth_rate": 1.0000030000120002
         },
         {
          "estimated": 0.9999999999999999,
          "estimated_growth_rate": 1.000004000016,
          "initial": 0.999996,
          "observed": 0.9999990000000001,
          "observed_growth_rate": 1.0000030000120002
         },
         {
          "estimated": 0.9999999999999999,
          "estimated_growth_rate": 1.000004000016,
          "initial": 0.999996,
          "observed": 0.9999990000000001,
          "observed_growth_rate": 1.0000030000120002
         },
         {
          "estimated": 0.9999999999999999,
          "estimated_growth_rate": 1.000004000016,
          "initial": 0.999996,
          "observed": 0.9999990000000001,
          "observed_growth_rate": 1.0000030000120002
         },
         {
          "estimated": 0.9999999999999999,
          "estimated_growth_rate": 1.000004000016,
          "initial": 0.999996,
          "observed": 0.9999990000000001,
          "observed_growth_rate": 1.0000030000120002
         },
         {
          "estimated": 0.9999999999999999,
          "estimated_growth_rate": 1.000004000016,
          "initial": 0.999996,
          "observed": 0.9999990000000001,
          "observed_growth_rate": 1.0000030000120002
         },
         {
          "estimated": 0.9999999999999999,
          "estimated_growth_rate": 1.000004000016,
          "initial": 0.999996,
          "observed": 0.9999990000000001,
          "observed_growth_rate": 1.0000030000120002
         },
         {
          "estimated": 0.9999999999999999,
          "estimated_growth_rate": 1.000004000016,
          "initial": 0.999996,
          "observed": 0.9999990000000001,
          "observed_growth_rate": 1.0000030000120002
         },
         {
          "estimated": 0.9999999999999999,
          "estimated_growth_rate": 1.000004000016,
          "initial": 0.999996,
          "observed": 0.9999990000000001,
          "observed_growth_rate": 1.0000030000120002
         },
         {
          "estimated": 0.9999999999999999,
          "estimated_growth_rate": 1.000004000016,
          "initial": 0.999996,
          "observed": 0.9999990000000001,
          "observed_growth_rate": 1.0000030000120002
         },
         {
          "estimated": 0.9999999999999999,
          "estimated_growth_rate": 1.000004000016,
          "initial": 0.999996,
          "observed": 0.9999990000000001,
          "observed_growth_rate": 1.0000030000120002
         },
         {
          "estimated": 0.9999999999999999,
          "estimated_growth_rate": 1.000004000016,
          "initial": 0.999996,
          "observed": 0.9999990000000001,
          "observed_growth_rate": 1.0000030000120002
         },
         {
          "estimated": 0.9999999999999999,
          "estimated_growth_rate": 1.000004000016,
          "initial": 0.999996,
          "observed": 0.9999990000000001,
          "observed_growth_rate": 1.0000030000120002
         },
         {
          "estimated": 0.9999999999999999,
          "estimated_growth_rate": 1.000004000016,
          "initial": 0.999996,
          "observed": 0.9999990000000001,
          "observed_growth_rate": 1.0000030000120002
         },
         {
          "estimated": 0.9999999999999999,
          "estimated_growth_rate": 1.000004000016,
          "initial": 0.999996,
          "observed": 0.9999990000000001,
          "observed_growth_rate": 1.0000030000120002
         },
         {
          "estimated": 0.9999999999999999,
          "estimated_growth_rate": 1.000004000016,
          "initial": 0.999996,
          "observed": 0.9999990000000001,
          "observed_growth_rate": 1.0000030000120002
         },
         {
          "estimated": 0.9999999999999999,
          "estimated_growth_rate": 1.000004000016,
          "initial": 0.999996,
          "observed": 0.9999990000000001,
          "observed_growth_rate": 1.0000030000120002
         },
         {
          "estimated": 0.9999999999999999,
          "estimated_growth_rate": 1.000004000016,
          "initial": 0.999996,
          "observed": 0.9999990000000001,
          "observed_growth_rate": 1.0000030000120002
         },
         {
          "estimated": 0.9999999999999999,
          "estimated_growth_rate": 1.000004000016,
          "initial": 0.999996,
          "observed": 0.9999990000000001,
          "observed_growth_rate": 1.0000030000120002
         },
         {
          "estimated": 0.9999999999999999,
          "estimated_growth_rate": 1.000004000016,
          "initial": 0.999996,
          "observed": 0.9999990000000001,
          "observed_growth_rate": 1.0000030000120002
         },
         {
          "estimated": 0.9999999999999999,
          "estimated_growth_rate": 1.000004000016,
          "initial": 0.999996,
          "observed": 0.9999990000000001,
          "observed_growth_rate": 1.0000030000120002
         },
         {
          "estimated": 0.9999999999999999,
          "estimated_growth_rate": 1.000004000016,
          "initial": 0.999996,
          "observed": 0.9999990000000001,
          "observed_growth_rate": 1.0000030000120002
         },
         {
          "estimated": 0.9999999999999999,
          "estimated_growth_rate": 1.000004000016,
          "initial": 0.999996,
          "observed": 0.9999990000000001,
          "observed_growth_rate": 1.0000030000120002
         },
         {
          "estimated": 0.9999999999999999,
          "estimated_growth_rate": 1.000004000016,
          "initial": 0.999996,
          "observed": 0.9999990000000001,
          "observed_growth_rate": 1.0000030000120002
         },
         {
          "estimated": 0.9999999999999999,
          "estimated_growth_rate": 1.000004000016,
          "initial": 0.999996,
          "observed": 0.9999990000000001,
          "observed_growth_rate": 1.0000030000120002
         },
         {
          "estimated": 0.9999999999999999,
          "estimated_growth_rate": 1.000004000016,
          "initial": 0.999996,
          "observed": 0.9999990000000001,
          "observed_growth_rate": 1.0000030000120002
         },
         {
          "estimated": 0.9999999999999999,
          "estimated_growth_rate": 1.000004000016,
          "initial": 0.999996,
          "observed": 0.9999990000000001,
          "observed_growth_rate": 1.0000030000120002
         },
         {
          "estimated": 0.9999999999999999,
          "estimated_growth_rate": 1.000004000016,
          "initial": 0.999996,
          "observed": 0.9999990000000001,
          "observed_growth_rate": 1.0000030000120002
         },
         {
          "estimated": 0.9999999999999999,
          "estimated_growth_rate": 1.000004000016,
          "initial": 0.999996,
          "observed": 0.9999990000000001,
          "observed_growth_rate": 1.0000030000120002
         },
         {
          "estimated": 0.9999999999999999,
          "estimated_growth_rate": 1.000004000016,
          "initial": 0.999996,
          "observed": 0.9999990000000001,
          "observed_growth_rate": 1.0000030000120002
         },
         {
          "estimated": 0.9999999999999999,
          "estimated_growth_rate": 1.000004000016,
          "initial": 0.999996,
          "observed": 0.9999990000000001,
          "observed_growth_rate": 1.0000030000120002
         },
         {
          "estimated": 0.9999999999999999,
          "estimated_growth_rate": 1.000004000016,
          "initial": 0.999996,
          "observed": 0.9999990000000001,
          "observed_growth_rate": 1.0000030000120002
         },
         {
          "estimated": 0.9999999999999999,
          "estimated_growth_rate": 1.000004000016,
          "initial": 0.999996,
          "observed": 0.9999990000000001,
          "observed_growth_rate": 1.0000030000120002
         },
         {
          "estimated": 0.9999999999999999,
          "estimated_growth_rate": 1.000004000016,
          "initial": 0.999996,
          "observed": 0.9999990000000001,
          "observed_growth_rate": 1.0000030000120002
         },
         {
          "estimated": 0.9999999999999999,
          "estimated_growth_rate": 1.000004000016,
          "initial": 0.999996,
          "observed": 0.9999990000000001,
          "observed_growth_rate": 1.0000030000120002
         },
         {
          "estimated": 0.9999999999999999,
          "estimated_growth_rate": 1.000004000016,
          "initial": 0.999996,
          "observed": 0.9999990000000001,
          "observed_growth_rate": 1.0000030000120002
         },
         {
          "estimated": 0.9999999999999999,
          "estimated_growth_rate": 1.000004000016,
          "initial": 0.999996,
          "observed": 0.9999990000000001,
          "observed_growth_rate": 1.0000030000120002
         },
         {
          "estimated": 0.9999999999999999,
          "estimated_growth_rate": 1.000004000016,
          "initial": 0.999996,
          "observed": 0.9999990000000001,
          "observed_growth_rate": 1.0000030000120002
         },
         {
          "estimated": 0.9999999999999999,
          "estimated_growth_rate": 1.000004000016,
          "initial": 0.999996,
          "observed": 0.9999990000000001,
          "observed_growth_rate": 1.0000030000120002
         },
         {
          "estimated": 0.9999999999999999,
          "estimated_growth_rate": 1.000004000016,
          "initial": 0.999996,
          "observed": 0.9999990000000001,
          "observed_growth_rate": 1.0000030000120002
         },
         {
          "estimated": 0.9999999999999999,
          "estimated_growth_rate": 1.000004000016,
          "initial": 0.999996,
          "observed": 0.9999990000000001,
          "observed_growth_rate": 1.0000030000120002
         },
         {
          "estimated": 0.9999999999999999,
          "estimated_growth_rate": 1.000004000016,
          "initial": 0.999996,
          "observed": 0.9999990000000001,
          "observed_growth_rate": 1.0000030000120002
         },
         {
          "estimated": 0.9999999999999999,
          "estimated_growth_rate": 1.000004000016,
          "initial": 0.999996,
          "observed": 0.9999990000000001,
          "observed_growth_rate": 1.0000030000120002
         },
         {
          "estimated": 0.9999999999999999,
          "estimated_growth_rate": 1.000004000016,
          "initial": 0.999996,
          "observed": 0.9999990000000001,
          "observed_growth_rate": 1.0000030000120002
         },
         {
          "estimated": 0.9999999999999999,
          "estimated_growth_rate": 1.000004000016,
          "initial": 0.999996,
          "observed": 0.9999990000000001,
          "observed_growth_rate": 1.0000030000120002
         },
         {
          "estimated": 0.9999999999999999,
          "estimated_growth_rate": 1.000004000016,
          "initial": 0.999996,
          "observed": 0.9999990000000001,
          "observed_growth_rate": 1.0000030000120002
         },
         {
          "estimated": 0.9999999999999999,
          "estimated_growth_rate": 1.000004000016,
          "initial": 0.999996,
          "observed": 0.9999990000000001,
          "observed_growth_rate": 1.0000030000120002
         },
         {
          "estimated": 0.9999999999999999,
          "estimated_growth_rate": 1.000004000016,
          "initial": 0.999996,
          "observed": 0.9999990000000001,
          "observed_growth_rate": 1.0000030000120002
         },
         {
          "estimated": 0.9999999999999999,
          "estimated_growth_rate": 1.000004000016,
          "initial": 0.999996,
          "observed": 0.9999990000000001,
          "observed_growth_rate": 1.0000030000120002
         },
         {
          "estimated": 0.9999999999999999,
          "estimated_growth_rate": 1.000004000016,
          "initial": 0.999996,
          "observed": 0.9999990000000001,
          "observed_growth_rate": 1.0000030000120002
         },
         {
          "estimated": 0.9999999999999999,
          "estimated_growth_rate": 1.000004000016,
          "initial": 0.999996,
          "observed": 0.9999990000000001,
          "observed_growth_rate": 1.0000030000120002
         },
         {
          "estimated": 0.9999999999999999,
          "estimated_growth_rate": 1.000004000016,
          "initial": 0.999996,
          "observed": 0.9999990000000001,
          "observed_growth_rate": 1.0000030000120002
         },
         {
          "estimated": 0.9999999999999999,
          "estimated_growth_rate": 1.000004000016,
          "initial": 0.999996,
          "observed": 0.9999990000000001,
          "observed_growth_rate": 1.0000030000120002
         },
         {
          "estimated": 0.9999999999999999,
          "estimated_growth_rate": 1.000004000016,
          "initial": 0.999996,
          "observed": 0.9999990000000001,
          "observed_growth_rate": 1.0000030000120002
         },
         {
          "estimated": 0.9999999999999999,
          "estimated_growth_rate": 1.000004000016,
          "initial": 0.999996,
          "observed": 0.9999990000000001,
          "observed_growth_rate": 1.0000030000120002
         },
         {
          "estimated": 0.9999999999999999,
          "estimated_growth_rate": 1.000004000016,
          "initial": 0.999996,
          "observed": 0.9999990000000001,
          "observed_growth_rate": 1.0000030000120002
         },
         {
          "estimated": 0.9999999999999999,
          "estimated_growth_rate": 1.000004000016,
          "initial": 0.999996,
          "observed": 0.9999990000000001,
          "observed_growth_rate": 1.0000030000120002
         },
         {
          "estimated": 0.9999999999999999,
          "estimated_growth_rate": 1.000004000016,
          "initial": 0.999996,
          "observed": 0.9999990000000001,
          "observed_growth_rate": 1.0000030000120002
         },
         {
          "estimated": 0.9999999999999999,
          "estimated_growth_rate": 1.000004000016,
          "initial": 0.999996,
          "observed": 0.9999990000000001,
          "observed_growth_rate": 1.0000030000120002
         },
         {
          "estimated": 0.9999999999999999,
          "estimated_growth_rate": 1.000004000016,
          "initial": 0.999996,
          "observed": 0.9999990000000001,
          "observed_growth_rate": 1.0000030000120002
         },
         {
          "estimated": 0.9999999999999999,
          "estimated_growth_rate": 1.000004000016,
          "initial": 0.999996,
          "observed": 0.9999990000000001,
          "observed_growth_rate": 1.0000030000120002
         },
         {
          "estimated": 0.9999999999999999,
          "estimated_growth_rate": 1.000004000016,
          "initial": 0.999996,
          "observed": 0.9999990000000001,
          "observed_growth_rate": 1.0000030000120002
         },
         {
          "estimated": 0.9999999999999999,
          "estimated_growth_rate": 1.000004000016,
          "initial": 0.999996,
          "observed": 0.9999990000000001,
          "observed_growth_rate": 1.0000030000120002
         },
         {
          "estimated": 0.9999999999999999,
          "estimated_growth_rate": 1.000004000016,
          "initial": 0.999996,
          "observed": 0.9999990000000001,
          "observed_growth_rate": 1.0000030000120002
         },
         {
          "estimated": 0.9999999999999999,
          "estimated_growth_rate": 1.000004000016,
          "initial": 0.999996,
          "observed": 0.9999990000000001,
          "observed_growth_rate": 1.0000030000120002
         },
         {
          "estimated": 0.9999999999999999,
          "estimated_growth_rate": 1.000004000016,
          "initial": 0.999996,
          "observed": 0.9999990000000001,
          "observed_growth_rate": 1.0000030000120002
         },
         {
          "estimated": 0.9992359646442885,
          "estimated_growth_rate": 1.16439218823075,
          "initial": 0.858161,
          "observed": 0.935092,
          "observed_growth_rate": 1.0896463484124774
         },
         {
          "estimated": 0.9992359646442885,
          "estimated_growth_rate": 1.16439218823075,
          "initial": 0.858161,
          "observed": 0.935092,
          "observed_growth_rate": 1.0896463484124774
         },
         {
          "estimated": 0.9992359646442885,
          "estimated_growth_rate": 1.16439218823075,
          "initial": 0.858161,
          "observed": 0.935092,
          "observed_growth_rate": 1.0896463484124774
         },
         {
          "estimated": 0.9992359646442885,
          "estimated_growth_rate": 1.16439218823075,
          "initial": 0.858161,
          "observed": 0.935092,
          "observed_growth_rate": 1.0896463484124774
         },
         {
          "estimated": 0.9992359646442885,
          "estimated_growth_rate": 1.16439218823075,
          "initial": 0.858161,
          "observed": 0.935092,
          "observed_growth_rate": 1.0896463484124774
         },
         {
          "estimated": 0.9992359646442885,
          "estimated_growth_rate": 1.16439218823075,
          "initial": 0.858161,
          "observed": 0.935092,
          "observed_growth_rate": 1.0896463484124774
         },
         {
          "estimated": 0.9992359646442885,
          "estimated_growth_rate": 1.16439218823075,
          "initial": 0.858161,
          "observed": 0.935092,
          "observed_growth_rate": 1.0896463484124774
         },
         {
          "estimated": 0.9992359646442885,
          "estimated_growth_rate": 1.16439218823075,
          "initial": 0.858161,
          "observed": 0.935092,
          "observed_growth_rate": 1.0896463484124774
         },
         {
          "estimated": 0.9992359646442885,
          "estimated_growth_rate": 1.16439218823075,
          "initial": 0.858161,
          "observed": 0.935092,
          "observed_growth_rate": 1.0896463484124774
         },
         {
          "estimated": 0.9992359646442885,
          "estimated_growth_rate": 1.16439218823075,
          "initial": 0.858161,
          "observed": 0.935092,
          "observed_growth_rate": 1.0896463484124774
         },
         {
          "estimated": 0.9992359646442885,
          "estimated_growth_rate": 1.16439218823075,
          "initial": 0.858161,
          "observed": 0.935092,
          "observed_growth_rate": 1.0896463484124774
         },
         {
          "estimated": 0.9992359646442885,
          "estimated_growth_rate": 1.16439218823075,
          "initial": 0.858161,
          "observed": 0.935092,
          "observed_growth_rate": 1.0896463484124774
         },
         {
          "estimated": 0.9992359646442885,
          "estimated_growth_rate": 1.16439218823075,
          "initial": 0.858161,
          "observed": 0.935092,
          "observed_growth_rate": 1.0896463484124774
         },
         {
          "estimated": 0.9992359646442885,
          "estimated_growth_rate": 1.16439218823075,
          "initial": 0.858161,
          "observed": 0.935092,
          "observed_growth_rate": 1.0896463484124774
         },
         {
          "estimated": 0.9992359646442885,
          "estimated_growth_rate": 1.16439218823075,
          "initial": 0.858161,
          "observed": 0.935092,
          "observed_growth_rate": 1.0896463484124774
         },
         {
          "estimated": 0.9991957936275705,
          "estimated_growth_rate": 1.180358377812631,
          "initial": 0.846519,
          "observed": 0.935092,
          "observed_growth_rate": 1.104632028341951
         },
         {
          "estimated": 0.9986739341788473,
          "estimated_growth_rate": 1.3221917872613052,
          "initial": 0.755317,
          "observed": 0.9156139999999999,
          "observed_growth_rate": 1.2122248009776027
         },
         {
          "estimated": 0.9986448606104597,
          "estimated_growth_rate": 1.3333558450333318,
          "initial": 0.748971,
          "observed": 0.9156139999999999,
          "observed_growth_rate": 1.222495931084114
         },
         {
          "estimated": 0.9426641947422276,
          "estimated_growth_rate": 2.246562094985564,
          "initial": 0.419603,
          "observed": 0.043096,
          "observed_growth_rate": 0.10270660600615344
         },
         {
          "estimated": 0.9424427142702159,
          "estimated_growth_rate": 2.467728306289793,
          "initial": 0.381907,
          "observed": 0.043096,
          "observed_growth_rate": 0.11284422647398451
         },
         {
          "estimated": 0.9424419429122943,
          "estimated_growth_rate": 2.4681011156564354,
          "initial": 0.38184900000000005,
          "observed": 0.043096,
          "observed_growth_rate": 0.11286136666588101
         },
         {
          "estimated": 0.9424151866851271,
          "estimated_growth_rate": 2.5097741843768198,
          "initial": 0.37549800000000005,
          "observed": 0.043096,
          "observed_growth_rate": 0.11477025177231302
         },
         {
          "estimated": 0.9423180263939408,
          "estimated_growth_rate": 2.6184010536589413,
          "initial": 0.359883,
          "observed": 0.043096,
          "observed_growth_rate": 0.11975002987081913
         },
         {
          "estimated": 0.9423180263939408,
          "estimated_growth_rate": 2.6184010536589413,
          "initial": 0.359883,
          "observed": 0.043048,
          "observed_growth_rate": 0.11961665319006455
         },
         {
          "estimated": 0.9422190308283318,
          "estimated_growth_rate": 2.7412081519717324,
          "initial": 0.34372400000000003,
          "observed": 0.043048,
          "observed_growth_rate": 0.12524001815410038
         },
         {
          "estimated": 0.9421525698561322,
          "estimated_growth_rate": 2.843075485782797,
          "initial": 0.331385,
          "observed": 0.043048,
          "observed_growth_rate": 0.12990328469906606
         },
         {
          "estimated": 0.942100957222789,
          "estimated_growth_rate": 2.8949330494722054,
          "initial": 0.3254309999999999,
          "observed": 0.043048,
          "observed_growth_rate": 0.1322799610362873
         },
         {
          "estimated": 0.9420924692411325,
          "estimated_growth_rate": 2.89707021550959,
          "initial": 0.325188,
          "observed": 0.043048,
          "observed_growth_rate": 0.13237880856612178
         },
         {
          "estimated": 0.9420606127237783,
          "estimated_growth_rate": 2.954353510887686,
          "initial": 0.318872,
          "observed": 0.043048,
          "observed_growth_rate": 0.1350008780952859
         },
         {
          "estimated": 0.9420420794840108,
          "estimated_growth_rate": 2.9935843536085405,
          "initial": 0.314687,
          "observed": 0.043048,
          "observed_growth_rate": 0.13679624515788705
         },
         {
          "estimated": 0.9419452271463418,
          "estimated_growth_rate": 3.1167947003015777,
          "initial": 0.30221600000000004,
          "observed": 0.043048,
          "observed_growth_rate": 0.14244116790639808
         },
         {
          "estimated": 0.9419004419242778,
          "estimated_growth_rate": 3.1166980749353193,
          "initial": 0.302211,
          "observed": 0.043048,
          "observed_growth_rate": 0.1424435245573457
         },
         {
          "estimated": 0.9417411062559986,
          "estimated_growth_rate": 3.1231568682109825,
          "initial": 0.301535,
          "observed": 0.043048,
          "observed_growth_rate": 0.14276286334919663
         },
         {
          "estimated": 0.9415594090960642,
          "estimated_growth_rate": 3.1226682091510605,
          "initial": 0.30152399999999996,
          "observed": 0.043048,
          "observed_growth_rate": 0.14276807152996115
         },
         {
          "estimated": 0.9415284595783173,
          "estimated_growth_rate": 3.18966484827383,
          "initial": 0.29518099999999997,
          "observed": 0.036379,
          "observed_growth_rate": 0.12324302715960718
         },
         {
          "estimated": 0.9389592761265297,
          "estimated_growth_rate": 4.026653727610276,
          "initial": 0.233186,
          "observed": 0.034856,
          "observed_growth_rate": 0.14947724134381996
         },
         {
          "estimated": 0.9389592761265297,
          "estimated_growth_rate": 4.026653727610276,
          "initial": 0.233186,
          "observed": 0.034856,
          "observed_growth_rate": 0.14947724134381996
         },
         {
          "estimated": 0.9386248458383977,
          "estimated_growth_rate": 4.108828300692072,
          "initial": 0.228441,
          "observed": 0.034856,
          "observed_growth_rate": 0.15258206714206293
         },
         {
          "estimated": 0.9383306807671545,
          "estimated_growth_rate": 4.343520255368025,
          "initial": 0.21603,
          "observed": 0.03179,
          "observed_growth_rate": 0.1471554876637504
         },
         {
          "estimated": 0.9363122401818882,
          "estimated_growth_rate": 4.342035717944751,
          "initial": 0.21563900000000003,
          "observed": 0.03179,
          "observed_growth_rate": 0.14742231229044836
         },
         {
          "estimated": 0.9330650355809726,
          "estimated_growth_rate": 5.385967649393746,
          "initial": 0.17324000000000003,
          "observed": 0.03179,
          "observed_growth_rate": 0.18350265527591775
         },
         {
          "estimated": 0.05598066586823194,
          "estimated_growth_rate": 0.16996388801654058,
          "initial": 0.329368,
          "observed": 0.8725180000000001,
          "observed_growth_rate": 2.6490673046561906
         },
         {
          "estimated": 0.05595925886331824,
          "estimated_growth_rate": 0.17322059254645766,
          "initial": 0.323052,
          "observed": 0.8725180000000001,
          "observed_growth_rate": 2.700859304384434
         },
         {
          "estimated": 0.05575815361628554,
          "estimated_growth_rate": 0.19674094194709954,
          "initial": 0.283409,
          "observed": 0.8725180000000001,
          "observed_growth_rate": 3.078653112639331
         },
         {
          "estimated": 0.05575815361628554,
          "estimated_growth_rate": 0.19674094194709954,
          "initial": 0.283409,
          "observed": 0.851935,
          "observed_growth_rate": 3.006026625830513
         },
         {
          "estimated": 0.05573575420034463,
          "estimated_growth_rate": 0.20049842150448088,
          "initial": 0.277986,
          "observed": 0.851935,
          "observed_growth_rate": 3.0646687243242465
         },
         {
          "estimated": 0.05555093060771087,
          "estimated_growth_rate": 0.2083758978495475,
          "initial": 0.26659000000000005,
          "observed": 0.851934,
          "observed_growth_rate": 3.1956712554859514
         },
         {
          "estimated": 0.055472874176359446,
          "estimated_growth_rate": 0.22189327185161262,
          "initial": 0.24999799999999997,
          "observed": 0.8488140000000001,
          "observed_growth_rate": 3.3952831622652986
         },
         {
          "estimated": 0.055449697224144,
          "estimated_growth_rate": 0.2275354116962622,
          "initial": 0.24369699999999997,
          "observed": 0.8488140000000001,
          "observed_growth_rate": 3.4830711908640657
         },
         {
          "estimated": 0.05544584381665889,
          "estimated_growth_rate": 0.2280839667645392,
          "initial": 0.24309399999999998,
          "observed": 0.8488140000000001,
          "observed_growth_rate": 3.4917110253646744
         },
         {
          "estimated": 0.05542196471172948,
          "estimated_growth_rate": 0.23409884311341894,
          "initial": 0.23674599999999998,
          "observed": 0.8488140000000001,
          "observed_growth_rate": 3.5853361830822914
         },
         {
          "estimated": 0.05542196471172948,
          "estimated_growth_rate": 0.23409884311341894,
          "initial": 0.23674599999999998,
          "observed": 0.8418650000000001,
          "observed_growth_rate": 3.555984050416903
         },
         {
          "estimated": 0.05540940107681383,
          "estimated_growth_rate": 0.2347159786369036,
          "initial": 0.23606999999999997,
          "observed": 0.8418650000000001,
          "observed_growth_rate": 3.5661668149277763
         },
         {
          "estimated": 0.055270753222827124,
          "estimated_growth_rate": 0.2654733412240673,
          "initial": 0.20819699999999997,
          "observed": 0.8418650000000001,
          "observed_growth_rate": 4.043598130616677
         },
         {
          "estimated": 0.0551992139764445,
          "estimated_growth_rate": 0.2733013188780846,
          "initial": 0.20197199999999996,
          "observed": 0.8418650000000001,
          "observed_growth_rate": 4.168226288792507
         },
         {
          "estimated": 0.05493676176067628,
          "estimated_growth_rate": 0.2841473358229653,
          "initial": 0.19333899999999998,
          "observed": 0.8418650000000001,
          "observed_growth_rate": 4.354346510533313
         },
         {
          "estimated": 0.05472028339720646,
          "estimated_growth_rate": 0.30000648802999214,
          "initial": 0.18239699999999995,
          "observed": 0.8418650000000001,
          "observed_growth_rate": 4.6155638524756455
         },
         {
          "estimated": 0.9999999999999998,
          "estimated_growth_rate": 1.0000080000640004,
          "initial": 0.999992,
          "observed": 0.9999990000000001,
          "observed_growth_rate": 1.0000070000560006
         },
         {
          "estimated": 0.9999999999999998,
          "estimated_growth_rate": 1.0000080000640004,
          "initial": 0.999992,
          "observed": 0.9999990000000001,
          "observed_growth_rate": 1.0000070000560006
         },
         {
          "estimated": 0.9999999999999998,
          "estimated_growth_rate": 1.0000080000640004,
          "initial": 0.999992,
          "observed": 0.9999990000000001,
          "observed_growth_rate": 1.0000070000560006
         },
         {
          "estimated": 0.9999999999999998,
          "estimated_growth_rate": 1.0000080000640004,
          "initial": 0.999992,
          "observed": 0.9999990000000001,
          "observed_growth_rate": 1.0000070000560006
         },
         {
          "estimated": 0.9999999999999998,
          "estimated_growth_rate": 1.0000080000640004,
          "initial": 0.999992,
          "observed": 0.9999990000000001,
          "observed_growth_rate": 1.0000070000560006
         },
         {
          "estimated": 0.9999999999999998,
          "estimated_growth_rate": 1.0000080000640004,
          "initial": 0.999992,
          "observed": 0.9999990000000001,
          "observed_growth_rate": 1.0000070000560006
         },
         {
          "estimated": 0.9999999999999998,
          "estimated_growth_rate": 1.0000080000640004,
          "initial": 0.999992,
          "observed": 0.9999990000000001,
          "observed_growth_rate": 1.0000070000560006
         },
         {
          "estimated": 0.9999999999999998,
          "estimated_growth_rate": 1.0000080000640004,
          "initial": 0.999992,
          "observed": 0.9999990000000001,
          "observed_growth_rate": 1.0000070000560006
         },
         {
          "estimated": 0.9999999999999998,
          "estimated_growth_rate": 1.0000080000640004,
          "initial": 0.999992,
          "observed": 0.9999990000000001,
          "observed_growth_rate": 1.0000070000560006
         },
         {
          "estimated": 0.9999999999999998,
          "estimated_growth_rate": 1.0000080000640004,
          "initial": 0.999992,
          "observed": 0.9999990000000001,
          "observed_growth_rate": 1.0000070000560006
         },
         {
          "estimated": 0.9999999999999998,
          "estimated_growth_rate": 1.0000080000640004,
          "initial": 0.999992,
          "observed": 0.9999990000000001,
          "observed_growth_rate": 1.0000070000560006
         },
         {
          "estimated": 0.9999999999999998,
          "estimated_growth_rate": 1.0000080000640004,
          "initial": 0.999992,
          "observed": 0.9999990000000001,
          "observed_growth_rate": 1.0000070000560006
         },
         {
          "estimated": 0.9999999999999998,
          "estimated_growth_rate": 1.0000080000640004,
          "initial": 0.999992,
          "observed": 0.9999990000000001,
          "observed_growth_rate": 1.0000070000560006
         },
         {
          "estimated": 0.9999999999999998,
          "estimated_growth_rate": 1.0000080000640004,
          "initial": 0.999992,
          "observed": 0.9999990000000001,
          "observed_growth_rate": 1.0000070000560006
         },
         {
          "estimated": 0.9999999999999998,
          "estimated_growth_rate": 1.0000080000640004,
          "initial": 0.999992,
          "observed": 0.9999990000000001,
          "observed_growth_rate": 1.0000070000560006
         },
         {
          "estimated": 0.9999999999999998,
          "estimated_growth_rate": 1.0000080000640004,
          "initial": 0.999992,
          "observed": 0.9999990000000001,
          "observed_growth_rate": 1.0000070000560006
         },
         {
          "estimated": 0.9999999999999998,
          "estimated_growth_rate": 1.0000080000640004,
          "initial": 0.999992,
          "observed": 0.9999990000000001,
          "observed_growth_rate": 1.0000070000560006
         },
         {
          "estimated": 0.9999999999999998,
          "estimated_growth_rate": 1.0000080000640004,
          "initial": 0.999992,
          "observed": 0.9999990000000001,
          "observed_growth_rate": 1.0000070000560006
         },
         {
          "estimated": 0.9999999999999998,
          "estimated_growth_rate": 1.0000080000640004,
          "initial": 0.999992,
          "observed": 0.9999990000000001,
          "observed_growth_rate": 1.0000070000560006
         },
         {
          "estimated": 0.9999999999999998,
          "estimated_growth_rate": 1.0000080000640004,
          "initial": 0.999992,
          "observed": 0.9999990000000001,
          "observed_growth_rate": 1.0000070000560006
         },
         {
          "estimated": 0.9999999999999998,
          "estimated_growth_rate": 1.0000080000640004,
          "initial": 0.999992,
          "observed": 0.9999990000000001,
          "observed_growth_rate": 1.0000070000560006
         },
         {
          "estimated": 0.9999999999999998,
          "estimated_growth_rate": 1.0000080000640004,
          "initial": 0.999992,
          "observed": 0.9999990000000001,
          "observed_growth_rate": 1.0000070000560006
         },
         {
          "estimated": 0.9999999999999998,
          "estimated_growth_rate": 1.0000080000640004,
          "initial": 0.999992,
          "observed": 0.9999990000000001,
          "observed_growth_rate": 1.0000070000560006
         },
         {
          "estimated": 0.9999999999999998,
          "estimated_growth_rate": 1.0000080000640004,
          "initial": 0.999992,
          "observed": 0.9999990000000001,
          "observed_growth_rate": 1.0000070000560006
         },
         {
          "estimated": 0.9999999999999998,
          "estimated_growth_rate": 1.0000080000640004,
          "initial": 0.999992,
          "observed": 0.9999990000000001,
          "observed_growth_rate": 1.0000070000560006
         },
         {
          "estimated": 0.9999999999999998,
          "estimated_growth_rate": 1.0000080000640004,
          "initial": 0.999992,
          "observed": 0.9999990000000001,
          "observed_growth_rate": 1.0000070000560006
         },
         {
          "estimated": 0.9999999999999998,
          "estimated_growth_rate": 1.0000080000640004,
          "initial": 0.999992,
          "observed": 0.9999990000000001,
          "observed_growth_rate": 1.0000070000560006
         },
         {
          "estimated": 0.9999999999999998,
          "estimated_growth_rate": 1.0000080000640004,
          "initial": 0.999992,
          "observed": 0.9999990000000001,
          "observed_growth_rate": 1.0000070000560006
         },
         {
          "estimated": 0.9999999999999998,
          "estimated_growth_rate": 1.0000080000640004,
          "initial": 0.999992,
          "observed": 0.9999990000000001,
          "observed_growth_rate": 1.0000070000560006
         },
         {
          "estimated": 0.9999999999999998,
          "estimated_growth_rate": 1.0000080000640004,
          "initial": 0.999992,
          "observed": 0.9999990000000001,
          "observed_growth_rate": 1.0000070000560006
         },
         {
          "estimated": 0.9999999999999998,
          "estimated_growth_rate": 1.0000080000640004,
          "initial": 0.999992,
          "observed": 0.9999990000000001,
          "observed_growth_rate": 1.0000070000560006
         },
         {
          "estimated": 0.9999999999999998,
          "estimated_growth_rate": 1.0000080000640004,
          "initial": 0.999992,
          "observed": 0.9999990000000001,
          "observed_growth_rate": 1.0000070000560006
         },
         {
          "estimated": 0.9999999999999998,
          "estimated_growth_rate": 1.0000080000640004,
          "initial": 0.999992,
          "observed": 0.9999990000000001,
          "observed_growth_rate": 1.0000070000560006
         },
         {
          "estimated": 0.9999999999999998,
          "estimated_growth_rate": 1.0000080000640004,
          "initial": 0.999992,
          "observed": 0.9999990000000001,
          "observed_growth_rate": 1.0000070000560006
         },
         {
          "estimated": 0.9999999999999998,
          "estimated_growth_rate": 1.0000080000640004,
          "initial": 0.999992,
          "observed": 0.9999990000000001,
          "observed_growth_rate": 1.0000070000560006
         },
         {
          "estimated": 0.9999999999999998,
          "estimated_growth_rate": 1.0000080000640004,
          "initial": 0.999992,
          "observed": 0.9999990000000001,
          "observed_growth_rate": 1.0000070000560006
         },
         {
          "estimated": 0.9999999999999998,
          "estimated_growth_rate": 1.0000080000640004,
          "initial": 0.999992,
          "observed": 0.9999990000000001,
          "observed_growth_rate": 1.0000070000560006
         },
         {
          "estimated": 0.9999999999999998,
          "estimated_growth_rate": 1.0000080000640004,
          "initial": 0.999992,
          "observed": 0.9999990000000001,
          "observed_growth_rate": 1.0000070000560006
         },
         {
          "estimated": 0.9999999999999998,
          "estimated_growth_rate": 1.0000080000640004,
          "initial": 0.999992,
          "observed": 0.9999990000000001,
          "observed_growth_rate": 1.0000070000560006
         },
         {
          "estimated": 0.9999999999999998,
          "estimated_growth_rate": 1.0000080000640004,
          "initial": 0.999992,
          "observed": 0.9999990000000001,
          "observed_growth_rate": 1.0000070000560006
         },
         {
          "estimated": 0.9999999999999998,
          "estimated_growth_rate": 1.0000080000640004,
          "initial": 0.999992,
          "observed": 0.9999990000000001,
          "observed_growth_rate": 1.0000070000560006
         },
         {
          "estimated": 0.9999999999999998,
          "estimated_growth_rate": 1.0000080000640004,
          "initial": 0.999992,
          "observed": 0.9999990000000001,
          "observed_growth_rate": 1.0000070000560006
         },
         {
          "estimated": 0.9999999999999998,
          "estimated_growth_rate": 1.0000080000640004,
          "initial": 0.999992,
          "observed": 0.9999990000000001,
          "observed_growth_rate": 1.0000070000560006
         },
         {
          "estimated": 0.9999999999999998,
          "estimated_growth_rate": 1.0000080000640004,
          "initial": 0.999992,
          "observed": 0.9999990000000001,
          "observed_growth_rate": 1.0000070000560006
         },
         {
          "estimated": 0.9999999999999998,
          "estimated_growth_rate": 1.0000080000640004,
          "initial": 0.999992,
          "observed": 0.9999990000000001,
          "observed_growth_rate": 1.0000070000560006
         },
         {
          "estimated": 0.9999999999999998,
          "estimated_growth_rate": 1.0000080000640004,
          "initial": 0.999992,
          "observed": 0.9999990000000001,
          "observed_growth_rate": 1.0000070000560006
         },
         {
          "estimated": 0.9999999999999998,
          "estimated_growth_rate": 1.0000080000640004,
          "initial": 0.999992,
          "observed": 0.9999990000000001,
          "observed_growth_rate": 1.0000070000560006
         },
         {
          "estimated": 0.9999999999999998,
          "estimated_growth_rate": 1.0000080000640004,
          "initial": 0.999992,
          "observed": 0.9999990000000001,
          "observed_growth_rate": 1.0000070000560006
         },
         {
          "estimated": 0.9999999999999998,
          "estimated_growth_rate": 1.0000080000640004,
          "initial": 0.999992,
          "observed": 0.9999990000000001,
          "observed_growth_rate": 1.0000070000560006
         },
         {
          "estimated": 0.9999999999999998,
          "estimated_growth_rate": 1.0000080000640004,
          "initial": 0.999992,
          "observed": 0.9999990000000001,
          "observed_growth_rate": 1.0000070000560006
         },
         {
          "estimated": 0.9999999999999998,
          "estimated_growth_rate": 1.0000080000640004,
          "initial": 0.999992,
          "observed": 0.9999990000000001,
          "observed_growth_rate": 1.0000070000560006
         },
         {
          "estimated": 0.9999999999999998,
          "estimated_growth_rate": 1.0000080000640004,
          "initial": 0.999992,
          "observed": 0.9999990000000001,
          "observed_growth_rate": 1.0000070000560006
         },
         {
          "estimated": 0.9999999999999998,
          "estimated_growth_rate": 1.0000080000640004,
          "initial": 0.999992,
          "observed": 0.9999990000000001,
          "observed_growth_rate": 1.0000070000560006
         },
         {
          "estimated": 0.9999999999999998,
          "estimated_growth_rate": 1.0000080000640004,
          "initial": 0.999992,
          "observed": 0.9999990000000001,
          "observed_growth_rate": 1.0000070000560006
         },
         {
          "estimated": 0.9999999999999998,
          "estimated_growth_rate": 1.0000080000640004,
          "initial": 0.999992,
          "observed": 0.9999990000000001,
          "observed_growth_rate": 1.0000070000560006
         },
         {
          "estimated": 0.9999999999999998,
          "estimated_growth_rate": 1.0000080000640004,
          "initial": 0.999992,
          "observed": 0.9999990000000001,
          "observed_growth_rate": 1.0000070000560006
         },
         {
          "estimated": 0.9999999999999998,
          "estimated_growth_rate": 1.0000080000640004,
          "initial": 0.999992,
          "observed": 0.9999990000000001,
          "observed_growth_rate": 1.0000070000560006
         },
         {
          "estimated": 0.9999999999999998,
          "estimated_growth_rate": 1.0000080000640004,
          "initial": 0.999992,
          "observed": 0.9999990000000001,
          "observed_growth_rate": 1.0000070000560006
         },
         {
          "estimated": 0.9999999999999998,
          "estimated_growth_rate": 1.0000080000640004,
          "initial": 0.999992,
          "observed": 0.9999990000000001,
          "observed_growth_rate": 1.0000070000560006
         },
         {
          "estimated": 0.9999999999999998,
          "estimated_growth_rate": 1.0000080000640004,
          "initial": 0.999992,
          "observed": 0.9999990000000001,
          "observed_growth_rate": 1.0000070000560006
         },
         {
          "estimated": 0.9999999999999998,
          "estimated_growth_rate": 1.0000080000640004,
          "initial": 0.999992,
          "observed": 0.9999990000000001,
          "observed_growth_rate": 1.0000070000560006
         },
         {
          "estimated": 0.9999999999999998,
          "estimated_growth_rate": 1.0000080000640004,
          "initial": 0.999992,
          "observed": 0.9999990000000001,
          "observed_growth_rate": 1.0000070000560006
         },
         {
          "estimated": 0.9999999999999998,
          "estimated_growth_rate": 1.0000080000640004,
          "initial": 0.999992,
          "observed": 0.9999990000000001,
          "observed_growth_rate": 1.0000070000560006
         },
         {
          "estimated": 0.9999999999999998,
          "estimated_growth_rate": 1.0000080000640004,
          "initial": 0.999992,
          "observed": 0.9999990000000001,
          "observed_growth_rate": 1.0000070000560006
         },
         {
          "estimated": 0.9999999999999998,
          "estimated_growth_rate": 1.0000080000640004,
          "initial": 0.999992,
          "observed": 0.9999990000000001,
          "observed_growth_rate": 1.0000070000560006
         },
         {
          "estimated": 0.9999999999999998,
          "estimated_growth_rate": 1.0000080000640004,
          "initial": 0.999992,
          "observed": 0.9999990000000001,
          "observed_growth_rate": 1.0000070000560006
         },
         {
          "estimated": 0.9999999999999998,
          "estimated_growth_rate": 1.0000080000640004,
          "initial": 0.999992,
          "observed": 0.9999990000000001,
          "observed_growth_rate": 1.0000070000560006
         },
         {
          "estimated": 0.9999999999999998,
          "estimated_growth_rate": 1.0000080000640004,
          "initial": 0.999992,
          "observed": 0.9999990000000001,
          "observed_growth_rate": 1.0000070000560006
         },
         {
          "estimated": 0.9999999999999998,
          "estimated_growth_rate": 1.0000080000640004,
          "initial": 0.999992,
          "observed": 0.9999990000000001,
          "observed_growth_rate": 1.0000070000560006
         },
         {
          "estimated": 0.9999999999999998,
          "estimated_growth_rate": 1.0000080000640004,
          "initial": 0.999992,
          "observed": 0.9999990000000001,
          "observed_growth_rate": 1.0000070000560006
         },
         {
          "estimated": 0.9999999999999998,
          "estimated_growth_rate": 1.0000080000640004,
          "initial": 0.999992,
          "observed": 0.9999990000000001,
          "observed_growth_rate": 1.0000070000560006
         },
         {
          "estimated": 0.9999999999999998,
          "estimated_growth_rate": 1.0000080000640004,
          "initial": 0.999992,
          "observed": 0.9999990000000001,
          "observed_growth_rate": 1.0000070000560006
         },
         {
          "estimated": 0.9999999999999998,
          "estimated_growth_rate": 1.0000080000640004,
          "initial": 0.999992,
          "observed": 0.9999990000000001,
          "observed_growth_rate": 1.0000070000560006
         },
         {
          "estimated": 0.9999999999999998,
          "estimated_growth_rate": 1.0000080000640004,
          "initial": 0.999992,
          "observed": 0.9999990000000001,
          "observed_growth_rate": 1.0000070000560006
         },
         {
          "estimated": 0.9999999999999998,
          "estimated_growth_rate": 1.0000080000640004,
          "initial": 0.999992,
          "observed": 0.9999990000000001,
          "observed_growth_rate": 1.0000070000560006
         },
         {
          "estimated": 0.9999999999999998,
          "estimated_growth_rate": 1.0000080000640004,
          "initial": 0.999992,
          "observed": 0.9999990000000001,
          "observed_growth_rate": 1.0000070000560006
         },
         {
          "estimated": 0.9999999999999998,
          "estimated_growth_rate": 1.0000080000640004,
          "initial": 0.999992,
          "observed": 0.9999990000000001,
          "observed_growth_rate": 1.0000070000560006
         },
         {
          "estimated": 0.9999999999999998,
          "estimated_growth_rate": 1.0000080000640004,
          "initial": 0.999992,
          "observed": 0.9999990000000001,
          "observed_growth_rate": 1.0000070000560006
         },
         {
          "estimated": 0.9999999999999998,
          "estimated_growth_rate": 1.0000080000640004,
          "initial": 0.999992,
          "observed": 0.9999990000000001,
          "observed_growth_rate": 1.0000070000560006
         },
         {
          "estimated": 0.9999927116515097,
          "estimated_growth_rate": 1.0050198207951269,
          "initial": 0.994998,
          "observed": 0.9999990000000001,
          "observed_growth_rate": 1.005026140756062
         },
         {
          "estimated": 0.9999927116515097,
          "estimated_growth_rate": 1.0050198207951269,
          "initial": 0.994998,
          "observed": 0.9999990000000001,
          "observed_growth_rate": 1.005026140756062
         },
         {
          "estimated": 0.9999927116515097,
          "estimated_growth_rate": 1.0050198207951269,
          "initial": 0.994998,
          "observed": 0.9999990000000001,
          "observed_growth_rate": 1.005026140756062
         },
         {
          "estimated": 0.9999927116515097,
          "estimated_growth_rate": 1.0050198207951269,
          "initial": 0.994998,
          "observed": 0.9999990000000001,
          "observed_growth_rate": 1.005026140756062
         },
         {
          "estimated": 0.9999927116515097,
          "estimated_growth_rate": 1.0050198207951269,
          "initial": 0.994998,
          "observed": 0.9999990000000001,
          "observed_growth_rate": 1.005026140756062
         },
         {
          "estimated": 0.9999927116515097,
          "estimated_growth_rate": 1.0050198207951269,
          "initial": 0.994998,
          "observed": 0.9999990000000001,
          "observed_growth_rate": 1.005026140756062
         },
         {
          "estimated": 0.9999927116515097,
          "estimated_growth_rate": 1.0050198207951269,
          "initial": 0.994998,
          "observed": 0.9999990000000001,
          "observed_growth_rate": 1.005026140756062
         },
         {
          "estimated": 0.9999927116515097,
          "estimated_growth_rate": 1.0050198207951269,
          "initial": 0.994998,
          "observed": 0.9999990000000001,
          "observed_growth_rate": 1.005026140756062
         },
         {
          "estimated": 0.9999927116515097,
          "estimated_growth_rate": 1.0050198207951269,
          "initial": 0.994998,
          "observed": 0.9999990000000001,
          "observed_growth_rate": 1.005026140756062
         },
         {
          "estimated": 0.9999927116515097,
          "estimated_growth_rate": 1.0050198207951269,
          "initial": 0.994998,
          "observed": 0.9999990000000001,
          "observed_growth_rate": 1.005026140756062
         },
         {
          "estimated": 0.9999927116515097,
          "estimated_growth_rate": 1.0050198207951269,
          "initial": 0.994998,
          "observed": 0.9999990000000001,
          "observed_growth_rate": 1.005026140756062
         },
         {
          "estimated": 0.9999927116515097,
          "estimated_growth_rate": 1.0050198207951269,
          "initial": 0.994998,
          "observed": 0.9999990000000001,
          "observed_growth_rate": 1.005026140756062
         },
         {
          "estimated": 0.9999927116515097,
          "estimated_growth_rate": 1.0050198207951269,
          "initial": 0.994998,
          "observed": 0.9999990000000001,
          "observed_growth_rate": 1.005026140756062
         },
         {
          "estimated": 0.002271277564208455,
          "estimated_growth_rate": 0.010998869565805758,
          "initial": 0.20650100000000002,
          "observed": 0.014506000000000002,
          "observed_growth_rate": 0.07024663318821701
         },
         {
          "estimated": 0.002271277564208455,
          "estimated_growth_rate": 0.010998869565805758,
          "initial": 0.20650100000000002,
          "observed": 0.014506000000000002,
          "observed_growth_rate": 0.07024663318821701
         },
         {
          "estimated": 0.002271277564208455,
          "estimated_growth_rate": 0.010998869565805758,
          "initial": 0.20650100000000002,
          "observed": 0.014506000000000002,
          "observed_growth_rate": 0.07024663318821701
         },
         {
          "estimated": 0.002271277564208455,
          "estimated_growth_rate": 0.010998869565805758,
          "initial": 0.20650100000000002,
          "observed": 0.014506000000000002,
          "observed_growth_rate": 0.07024663318821701
         },
         {
          "estimated": 0.002271277564208455,
          "estimated_growth_rate": 0.010998869565805758,
          "initial": 0.20650100000000002,
          "observed": 0.014506000000000002,
          "observed_growth_rate": 0.07024663318821701
         },
         {
          "estimated": 0.002271277564208455,
          "estimated_growth_rate": 0.010998869565805758,
          "initial": 0.20650100000000002,
          "observed": 0.014506000000000002,
          "observed_growth_rate": 0.07024663318821701
         },
         {
          "estimated": 0.002271277564208455,
          "estimated_growth_rate": 0.010998869565805758,
          "initial": 0.20650100000000002,
          "observed": 0.014506000000000002,
          "observed_growth_rate": 0.07024663318821701
         },
         {
          "estimated": 0.002271277564208455,
          "estimated_growth_rate": 0.010998869565805758,
          "initial": 0.20650100000000002,
          "observed": 0.014506000000000002,
          "observed_growth_rate": 0.07024663318821701
         },
         {
          "estimated": 0.002271277564208455,
          "estimated_growth_rate": 0.010998869565805758,
          "initial": 0.20650100000000002,
          "observed": 0.014506000000000002,
          "observed_growth_rate": 0.07024663318821701
         },
         {
          "estimated": 0.0020954385995095443,
          "estimated_growth_rate": 0.013296352038513558,
          "initial": 0.157595,
          "observed": 0.014506000000000002,
          "observed_growth_rate": 0.09204606745137854
         },
         {
          "estimated": 0.0020954385995095443,
          "estimated_growth_rate": 0.013296352038513558,
          "initial": 0.157595,
          "observed": 0.014506000000000002,
          "observed_growth_rate": 0.09204606745137854
         },
         {
          "estimated": 0.0020954385995095443,
          "estimated_growth_rate": 0.013296352038513558,
          "initial": 0.157595,
          "observed": 0.014506000000000002,
          "observed_growth_rate": 0.09204606745137854
         },
         {
          "estimated": 0.0020954385995095443,
          "estimated_growth_rate": 0.013296352038513558,
          "initial": 0.157595,
          "observed": 0.014506000000000002,
          "observed_growth_rate": 0.09204606745137854
         },
         {
          "estimated": 0.0020954385995095443,
          "estimated_growth_rate": 0.013296352038513558,
          "initial": 0.157595,
          "observed": 0.014506000000000002,
          "observed_growth_rate": 0.09204606745137854
         },
         {
          "estimated": 0.0020954385995095443,
          "estimated_growth_rate": 0.013296352038513558,
          "initial": 0.157595,
          "observed": 0.014506000000000002,
          "observed_growth_rate": 0.09204606745137854
         },
         {
          "estimated": 0.0020954385995095443,
          "estimated_growth_rate": 0.013296352038513558,
          "initial": 0.157595,
          "observed": 0.014506000000000002,
          "observed_growth_rate": 0.09204606745137854
         },
         {
          "estimated": 0.0020954385995095443,
          "estimated_growth_rate": 0.013296352038513558,
          "initial": 0.157595,
          "observed": 0.014506000000000002,
          "observed_growth_rate": 0.09204606745137854
         },
         {
          "estimated": 0.0020954385995095443,
          "estimated_growth_rate": 0.013296352038513558,
          "initial": 0.157595,
          "observed": 0.014506000000000002,
          "observed_growth_rate": 0.09204606745137854
         },
         {
          "estimated": 0.0020954385995095443,
          "estimated_growth_rate": 0.013296352038513558,
          "initial": 0.157595,
          "observed": 0.014506000000000002,
          "observed_growth_rate": 0.09204606745137854
         },
         {
          "estimated": 0.9977214340873013,
          "estimated_growth_rate": 1.265345884749468,
          "initial": 0.788497,
          "observed": 0.985493,
          "observed_growth_rate": 1.2498373487787524
         },
         {
          "estimated": 0.9977214340873013,
          "estimated_growth_rate": 1.265345884749468,
          "initial": 0.788497,
          "observed": 0.985493,
          "observed_growth_rate": 1.2498373487787524
         },
         {
          "estimated": 0.9977214340873013,
          "estimated_growth_rate": 1.265345884749468,
          "initial": 0.788497,
          "observed": 0.985493,
          "observed_growth_rate": 1.2498373487787524
         },
         {
          "estimated": 0.9977214340873013,
          "estimated_growth_rate": 1.265345884749468,
          "initial": 0.788497,
          "observed": 0.985493,
          "observed_growth_rate": 1.2498373487787524
         },
         {
          "estimated": 0.9977214340873013,
          "estimated_growth_rate": 1.265345884749468,
          "initial": 0.788497,
          "observed": 0.985493,
          "observed_growth_rate": 1.2498373487787524
         },
         {
          "estimated": 0.9977214340873013,
          "estimated_growth_rate": 1.265345884749468,
          "initial": 0.788497,
          "observed": 0.985493,
          "observed_growth_rate": 1.2498373487787524
         },
         {
          "estimated": 0.9977214340873013,
          "estimated_growth_rate": 1.265345884749468,
          "initial": 0.788497,
          "observed": 0.985493,
          "observed_growth_rate": 1.2498373487787524
         },
         {
          "estimated": 0.9977214340873013,
          "estimated_growth_rate": 1.265345884749468,
          "initial": 0.788497,
          "observed": 0.985493,
          "observed_growth_rate": 1.2498373487787524
         },
         {
          "estimated": 0.9977214340873013,
          "estimated_growth_rate": 1.265345884749468,
          "initial": 0.788497,
          "observed": 0.9722310000000001,
          "observed_growth_rate": 1.2330180076778987
         },
         {
          "estimated": 0.9977214340873013,
          "estimated_growth_rate": 1.265345884749468,
          "initial": 0.788497,
          "observed": 0.9722310000000001,
          "observed_growth_rate": 1.2330180076778987
         },
         {
          "estimated": 0.9977214340873013,
          "estimated_growth_rate": 1.265345884749468,
          "initial": 0.788497,
          "observed": 0.9722310000000001,
          "observed_growth_rate": 1.2330180076778987
         },
         {
          "estimated": 0.9977214340873013,
          "estimated_growth_rate": 1.265345884749468,
          "initial": 0.788497,
          "observed": 0.9722310000000001,
          "observed_growth_rate": 1.2330180076778987
         },
         {
          "estimated": 0.9977214340873013,
          "estimated_growth_rate": 1.265345884749468,
          "initial": 0.788497,
          "observed": 0.9722310000000001,
          "observed_growth_rate": 1.2330180076778987
         },
         {
          "estimated": 0.9977214340873013,
          "estimated_growth_rate": 1.265345884749468,
          "initial": 0.788497,
          "observed": 0.9722310000000001,
          "observed_growth_rate": 1.2330180076778987
         },
         {
          "estimated": 0.9977214340873013,
          "estimated_growth_rate": 1.265345884749468,
          "initial": 0.788497,
          "observed": 0.9722310000000001,
          "observed_growth_rate": 1.2330180076778987
         },
         {
          "estimated": 0.9977034215168141,
          "estimated_growth_rate": 1.2801507659024718,
          "initial": 0.7793640000000001,
          "observed": 0.9722310000000001,
          "observed_growth_rate": 1.2474671655349747
         },
         {
          "estimated": 0.997366798106667,
          "estimated_growth_rate": 1.4333545523623932,
          "initial": 0.695827,
          "observed": 0.971908,
          "observed_growth_rate": 1.3967667250624078
         },
         {
          "estimated": 0.9973666131262309,
          "estimated_growth_rate": 1.4333996063929275,
          "initial": 0.695805,
          "observed": 0.971908,
          "observed_growth_rate": 1.3968108881080188
         },
         {
          "estimated": 0.004858508699737075,
          "estimated_growth_rate": 0.022596033317227905,
          "initial": 0.21501599999999998,
          "observed": 0.004583,
          "observed_growth_rate": 0.02131469286006623
         },
         {
          "estimated": 0.004789603911625198,
          "estimated_growth_rate": 0.023871392388558718,
          "initial": 0.200642,
          "observed": 0.004583,
          "observed_growth_rate": 0.022841678212936478
         },
         {
          "estimated": 0.004789603911625198,
          "estimated_growth_rate": 0.023871392388558718,
          "initial": 0.200642,
          "observed": 0.004583,
          "observed_growth_rate": 0.022841678212936478
         },
         {
          "estimated": 0.004789586035194728,
          "estimated_growth_rate": 0.02387237411190945,
          "initial": 0.200633,
          "observed": 0.004583,
          "observed_growth_rate": 0.02284270284549401
         },
         {
          "estimated": 0.0047862522958759856,
          "estimated_growth_rate": 0.02406300643963694,
          "initial": 0.198905,
          "observed": 0.004583,
          "observed_growth_rate": 0.0230411502978809
         },
         {
          "estimated": 0.004773996154097917,
          "estimated_growth_rate": 0.024998670755081515,
          "initial": 0.19097,
          "observed": 0.004583,
          "observed_growth_rate": 0.023998533801120596
         },
         {
          "estimated": 0.00476733853285503,
          "estimated_growth_rate": 0.025422415853113077,
          "initial": 0.18752500000000003,
          "observed": 0.004583,
          "observed_growth_rate": 0.02443940807892281
         },
         {
          "estimated": 0.004766595264087571,
          "estimated_growth_rate": 0.025461765456703152,
          "initial": 0.187206,
          "observed": 0.004583,
          "observed_growth_rate": 0.024481052957704346
         },
         {
          "estimated": 0.004766595264087571,
          "estimated_growth_rate": 0.025461765456703152,
          "initial": 0.187206,
          "observed": 0.004583,
          "observed_growth_rate": 0.024481052957704346
         },
         {
          "estimated": 0.004766595264087571,
          "estimated_growth_rate": 0.025461765456703152,
          "initial": 0.187206,
          "observed": 0.004583,
          "observed_growth_rate": 0.024481052957704346
         },
         {
          "estimated": 0.004766333371420257,
          "estimated_growth_rate": 0.02546907359876594,
          "initial": 0.18714200000000003,
          "observed": 0.004583,
          "observed_growth_rate": 0.02448942514240523
         },
         {
          "estimated": 0.004757553837708419,
          "estimated_growth_rate": 0.025799903676253073,
          "initial": 0.184402,
          "observed": 0.004583,
          "observed_growth_rate": 0.024853309617032353
         },
         {
          "estimated": 0.004755007720406642,
          "estimated_growth_rate": 0.025832324962007488,
          "initial": 0.18407199999999999,
          "observed": 0.004583,
          "observed_growth_rate": 0.024897866052414275
         },
         {
          "estimated": 0.004755007720406642,
          "estimated_growth_rate": 0.025832324962007488,
          "initial": 0.18407199999999999,
          "observed": 0.004583,
          "observed_growth_rate": 0.024897866052414275
         },
         {
          "estimated": 0.004755007720406642,
          "estimated_growth_rate": 0.025832324962007488,
          "initial": 0.18407199999999999,
          "observed": 0.004583,
          "observed_growth_rate": 0.024897866052414275
         },
         {
          "estimated": 0.004755007720406642,
          "estimated_growth_rate": 0.025832324962007488,
          "initial": 0.18407199999999999,
          "observed": 0.004583,
          "observed_growth_rate": 0.024897866052414275
         },
         {
          "estimated": 0.00473911145499242,
          "estimated_growth_rate": 0.026889033316836147,
          "initial": 0.176247,
          "observed": 0.004157,
          "observed_growth_rate": 0.023586217070361484
         },
         {
          "estimated": 0.992508104426494,
          "estimated_growth_rate": 2.064331971876424,
          "initial": 0.480789,
          "observed": 0.967325,
          "observed_growth_rate": 2.0119532684815997
         },
         {
          "estimated": 0.9925080088711199,
          "estimated_growth_rate": 2.064606602259337,
          "initial": 0.480725,
          "observed": 0.9592940000000001,
          "observed_growth_rate": 1.99551510738988
         },
         {
          "estimated": 0.9924953284181107,
          "estimated_growth_rate": 2.100359186216734,
          "initial": 0.472536,
          "observed": 0.9592940000000001,
          "observed_growth_rate": 2.030097177781164
         },
         {
          "estimated": 0.9924953284181107,
          "estimated_growth_rate": 2.100359186216734,
          "initial": 0.472536,
          "observed": 0.9587610000000001,
          "observed_growth_rate": 2.028969221392656
         },
         {
          "estimated": 0.9924953284181107,
          "estimated_growth_rate": 2.100359186216734,
          "initial": 0.472536,
          "observed": 0.9587610000000001,
          "observed_growth_rate": 2.028969221392656
         },
         {
          "estimated": 0.9924310131370628,
          "estimated_growth_rate": 2.14356747498723,
          "initial": 0.46298100000000003,
          "observed": 0.9587610000000001,
          "observed_growth_rate": 2.070843079953605
         },
         {
          "estimated": 0.9921920070742072,
          "estimated_growth_rate": 2.348572446242318,
          "initial": 0.422466,
          "observed": 0.9587610000000001,
          "observed_growth_rate": 2.269439434179319
         },
         {
          "estimated": 0.9920998259753095,
          "estimated_growth_rate": 2.372842834054784,
          "initial": 0.41810600000000003,
          "observed": 0.9587610000000001,
          "observed_growth_rate": 2.293105097750331
         },
         {
          "estimated": 0.9920998259753095,
          "estimated_growth_rate": 2.372842834054784,
          "initial": 0.41810600000000003,
          "observed": 0.9587610000000001,
          "observed_growth_rate": 2.293105097750331
         },
         {
          "estimated": 0.9920878252545681,
          "estimated_growth_rate": 2.4156139675736625,
          "initial": 0.410698,
          "observed": 0.9587610000000001,
          "observed_growth_rate": 2.3344671753940855
         },
         {
          "estimated": 0.9920878252545681,
          "estimated_growth_rate": 2.4156139675736625,
          "initial": 0.410698,
          "observed": 0.9587600000000001,
          "observed_growth_rate": 2.334464740514928
         },
         {
          "estimated": 0.9920878252545681,
          "estimated_growth_rate": 2.4156139675736625,
          "initial": 0.410698,
          "observed": 0.9587600000000001,
          "observed_growth_rate": 2.334464740514928
         },
         {
          "estimated": 0.9897608220546805,
          "estimated_growth_rate": 2.5551578179737624,
          "initial": 0.387358,
          "observed": 0.9587600000000001,
          "observed_growth_rate": 2.4751263688887284
         },
         {
          "estimated": 0.9897608220546805,
          "estimated_growth_rate": 2.5551578179737624,
          "initial": 0.387358,
          "observed": 0.9587600000000001,
          "observed_growth_rate": 2.4751263688887284
         },
         {
          "estimated": 0.9897606362164358,
          "estimated_growth_rate": 2.5553354526656418,
          "initial": 0.38733100000000004,
          "observed": 0.9587600000000001,
          "observed_growth_rate": 2.4752989045545024
         },
         {
          "estimated": 0.9897399494331162,
          "estimated_growth_rate": 2.60127246009182,
          "initial": 0.38048300000000007,
          "observed": 0.9587600000000001,
          "observed_growth_rate": 2.519849769897735
         },
         {
          "estimated": 0.989556879556666,
          "estimated_growth_rate": 2.8024436911305872,
          "initial": 0.353105,
          "observed": 0.9587600000000001,
          "observed_growth_rate": 2.715226349102958
         },
         {
          "estimated": 0.989556879556666,
          "estimated_growth_rate": 2.8024436911305872,
          "initial": 0.353105,
          "observed": 0.9587600000000001,
          "observed_growth_rate": 2.715226349102958
         },
         {
          "estimated": 0.989556879556666,
          "estimated_growth_rate": 2.8024436911305872,
          "initial": 0.353105,
          "observed": 0.9587600000000001,
          "observed_growth_rate": 2.715226349102958
         },
         {
          "estimated": 0.9895559879090905,
          "estimated_growth_rate": 2.8025205338764083,
          "initial": 0.35309500000000005,
          "observed": 0.9587600000000001,
          "observed_growth_rate": 2.715303247001515
         },
         {
          "estimated": 0.9895559879090905,
          "estimated_growth_rate": 2.8025205338764083,
          "initial": 0.35309500000000005,
          "observed": 0.9587600000000001,
          "observed_growth_rate": 2.715303247001515
         },
         {
          "estimated": 0.989365477675755,
          "estimated_growth_rate": 2.9322786493257507,
          "initial": 0.337405,
          "observed": 0.9587600000000001,
          "observed_growth_rate": 2.841570219765564
         },
         {
          "estimated": 0.9893522936353565,
          "estimated_growth_rate": 2.984822629616626,
          "initial": 0.331461,
          "observed": 0.9587600000000001,
          "observed_growth_rate": 2.8925273259900863
         },
         {
          "estimated": 0.9257708287246222,
          "estimated_growth_rate": 3.9460662929533865,
          "initial": 0.234606,
          "observed": 0.958689,
          "observed_growth_rate": 4.086378864990665
         },
         {
          "estimated": 0.9257708287246222,
          "estimated_growth_rate": 3.9460662929533865,
          "initial": 0.234606,
          "observed": 0.958689,
          "observed_growth_rate": 4.086378864990665
         },
         {
          "estimated": 0.9231057980487465,
          "estimated_growth_rate": 5.673110192290534,
          "initial": 0.162716,
          "observed": 0.958689,
          "observed_growth_rate": 5.891793062759655
         },
         {
          "estimated": 0.9230703298525462,
          "estimated_growth_rate": 5.834647007696004,
          "initial": 0.15820499999999998,
          "observed": 0.957329,
          "observed_growth_rate": 6.051193072279638
         },
         {
          "estimated": 0.9999999999999998,
          "estimated_growth_rate": 1.0000010000009998,
          "initial": 0.9999990000000001,
          "observed": 1.0000040000000001,
          "observed_growth_rate": 1.000005000005
         },
         {
          "estimated": 0.9999999999999998,
          "estimated_growth_rate": 1.0000010000009998,
          "initial": 0.9999990000000001,
          "observed": 1.0000040000000001,
          "observed_growth_rate": 1.000005000005
         },
         {
          "estimated": 0.9999999999999998,
          "estimated_growth_rate": 1.0000010000009998,
          "initial": 0.9999990000000001,
          "observed": 1.0000040000000001,
          "observed_growth_rate": 1.000005000005
         },
         {
          "estimated": 0.9999999999999998,
          "estimated_growth_rate": 1.0000010000009998,
          "initial": 0.9999990000000001,
          "observed": 1.0000040000000001,
          "observed_growth_rate": 1.000005000005
         },
         {
          "estimated": 0.9999999999999998,
          "estimated_growth_rate": 1.0000010000009998,
          "initial": 0.9999990000000001,
          "observed": 1.0000040000000001,
          "observed_growth_rate": 1.000005000005
         },
         {
          "estimated": 0.9999999999999998,
          "estimated_growth_rate": 1.0000010000009998,
          "initial": 0.9999990000000001,
          "observed": 1.0000040000000001,
          "observed_growth_rate": 1.000005000005
         },
         {
          "estimated": 0.9999999999999998,
          "estimated_growth_rate": 1.0000010000009998,
          "initial": 0.9999990000000001,
          "observed": 1.0000040000000001,
          "observed_growth_rate": 1.000005000005
         },
         {
          "estimated": 0.9999999999999998,
          "estimated_growth_rate": 1.0000010000009998,
          "initial": 0.9999990000000001,
          "observed": 1.0000040000000001,
          "observed_growth_rate": 1.000005000005
         },
         {
          "estimated": 0.9999999999999998,
          "estimated_growth_rate": 1.0000010000009998,
          "initial": 0.9999990000000001,
          "observed": 1.0000040000000001,
          "observed_growth_rate": 1.000005000005
         },
         {
          "estimated": 0.9999999999999998,
          "estimated_growth_rate": 1.0000010000009998,
          "initial": 0.9999990000000001,
          "observed": 1.0000040000000001,
          "observed_growth_rate": 1.000005000005
         },
         {
          "estimated": 0.9999999999999998,
          "estimated_growth_rate": 1.0000010000009998,
          "initial": 0.9999990000000001,
          "observed": 1.0000040000000001,
          "observed_growth_rate": 1.000005000005
         },
         {
          "estimated": 0.9999999999999998,
          "estimated_growth_rate": 1.0000010000009998,
          "initial": 0.9999990000000001,
          "observed": 1.0000040000000001,
          "observed_growth_rate": 1.000005000005
         },
         {
          "estimated": 0.9999999999999998,
          "estimated_growth_rate": 1.0000010000009998,
          "initial": 0.9999990000000001,
          "observed": 1.0000040000000001,
          "observed_growth_rate": 1.000005000005
         },
         {
          "estimated": 0.9999999999999998,
          "estimated_growth_rate": 1.0000010000009998,
          "initial": 0.9999990000000001,
          "observed": 1.0000040000000001,
          "observed_growth_rate": 1.000005000005
         },
         {
          "estimated": 0.9999999999999998,
          "estimated_growth_rate": 1.0000010000009998,
          "initial": 0.9999990000000001,
          "observed": 1.0000040000000001,
          "observed_growth_rate": 1.000005000005
         },
         {
          "estimated": 0.9999999999999998,
          "estimated_growth_rate": 1.0000010000009998,
          "initial": 0.9999990000000001,
          "observed": 1.0000040000000001,
          "observed_growth_rate": 1.000005000005
         },
         {
          "estimated": 0.9999999999999998,
          "estimated_growth_rate": 1.0000010000009998,
          "initial": 0.9999990000000001,
          "observed": 1.0000040000000001,
          "observed_growth_rate": 1.000005000005
         },
         {
          "estimated": 0.9999999999999998,
          "estimated_growth_rate": 1.0000010000009998,
          "initial": 0.9999990000000001,
          "observed": 1.0000040000000001,
          "observed_growth_rate": 1.000005000005
         },
         {
          "estimated": 0.9999999999999998,
          "estimated_growth_rate": 1.0000010000009998,
          "initial": 0.9999990000000001,
          "observed": 1.0000040000000001,
          "observed_growth_rate": 1.000005000005
         },
         {
          "estimated": 0.9999999999999998,
          "estimated_growth_rate": 1.0000010000009998,
          "initial": 0.9999990000000001,
          "observed": 1.0000040000000001,
          "observed_growth_rate": 1.000005000005
         },
         {
          "estimated": 0.9999999999999998,
          "estimated_growth_rate": 1.0000010000009998,
          "initial": 0.9999990000000001,
          "observed": 1.0000040000000001,
          "observed_growth_rate": 1.000005000005
         },
         {
          "estimated": 0.9999999999999998,
          "estimated_growth_rate": 1.0000010000009998,
          "initial": 0.9999990000000001,
          "observed": 1.0000040000000001,
          "observed_growth_rate": 1.000005000005
         },
         {
          "estimated": 0.9999999999999998,
          "estimated_growth_rate": 1.0000010000009998,
          "initial": 0.9999990000000001,
          "observed": 1.0000040000000001,
          "observed_growth_rate": 1.000005000005
         },
         {
          "estimated": 0.9999999999999998,
          "estimated_growth_rate": 1.0000010000009998,
          "initial": 0.9999990000000001,
          "observed": 1.0000040000000001,
          "observed_growth_rate": 1.000005000005
         },
         {
          "estimated": 0.9999999999999998,
          "estimated_growth_rate": 1.0000010000009998,
          "initial": 0.9999990000000001,
          "observed": 1.0000040000000001,
          "observed_growth_rate": 1.000005000005
         },
         {
          "estimated": 0.9999999999999998,
          "estimated_growth_rate": 1.0000010000009998,
          "initial": 0.9999990000000001,
          "observed": 1.0000040000000001,
          "observed_growth_rate": 1.000005000005
         },
         {
          "estimated": 0.9999999999999998,
          "estimated_growth_rate": 1.0000010000009998,
          "initial": 0.9999990000000001,
          "observed": 1.0000040000000001,
          "observed_growth_rate": 1.000005000005
         },
         {
          "estimated": 0.9999999999999998,
          "estimated_growth_rate": 1.0000010000009998,
          "initial": 0.9999990000000001,
          "observed": 1.0000040000000001,
          "observed_growth_rate": 1.000005000005
         },
         {
          "estimated": 0.9999999999999998,
          "estimated_growth_rate": 1.0000010000009998,
          "initial": 0.9999990000000001,
          "observed": 1.0000040000000001,
          "observed_growth_rate": 1.000005000005
         },
         {
          "estimated": 0.9999999999999998,
          "estimated_growth_rate": 1.0000010000009998,
          "initial": 0.9999990000000001,
          "observed": 1.0000040000000001,
          "observed_growth_rate": 1.000005000005
         },
         {
          "estimated": 0.9999999999999998,
          "estimated_growth_rate": 1.0000010000009998,
          "initial": 0.9999990000000001,
          "observed": 1.0000040000000001,
          "observed_growth_rate": 1.000005000005
         },
         {
          "estimated": 0.9999999999999998,
          "estimated_growth_rate": 1.0000010000009998,
          "initial": 0.9999990000000001,
          "observed": 1.0000040000000001,
          "observed_growth_rate": 1.000005000005
         },
         {
          "estimated": 0.9999999999999998,
          "estimated_growth_rate": 1.0000010000009998,
          "initial": 0.9999990000000001,
          "observed": 1.0000040000000001,
          "observed_growth_rate": 1.000005000005
         },
         {
          "estimated": 0.9999999999999998,
          "estimated_growth_rate": 1.0000010000009998,
          "initial": 0.9999990000000001,
          "observed": 1.0000040000000001,
          "observed_growth_rate": 1.000005000005
         },
         {
          "estimated": 0.9999999999999998,
          "estimated_growth_rate": 1.0000010000009998,
          "initial": 0.9999990000000001,
          "observed": 1.0000040000000001,
          "observed_growth_rate": 1.000005000005
         },
         {
          "estimated": 0.9999999999999998,
          "estimated_growth_rate": 1.0000010000009998,
          "initial": 0.9999990000000001,
          "observed": 1.0000040000000001,
          "observed_growth_rate": 1.000005000005
         },
         {
          "estimated": 0.9999999999999998,
          "estimated_growth_rate": 1.0000010000009998,
          "initial": 0.9999990000000001,
          "observed": 1.0000040000000001,
          "observed_growth_rate": 1.000005000005
         },
         {
          "estimated": 0.9999999999999998,
          "estimated_growth_rate": 1.0000010000009998,
          "initial": 0.9999990000000001,
          "observed": 1.0000040000000001,
          "observed_growth_rate": 1.000005000005
         },
         {
          "estimated": 0.9999999999999998,
          "estimated_growth_rate": 1.0000010000009998,
          "initial": 0.9999990000000001,
          "observed": 1.0000040000000001,
          "observed_growth_rate": 1.000005000005
         },
         {
          "estimated": 0.9999999999999998,
          "estimated_growth_rate": 1.0000010000009998,
          "initial": 0.9999990000000001,
          "observed": 1.0000040000000001,
          "observed_growth_rate": 1.000005000005
         },
         {
          "estimated": 0.9999999999999998,
          "estimated_growth_rate": 1.0000010000009998,
          "initial": 0.9999990000000001,
          "observed": 1.0000040000000001,
          "observed_growth_rate": 1.000005000005
         },
         {
          "estimated": 0.9999999999999998,
          "estimated_growth_rate": 1.0000010000009998,
          "initial": 0.9999990000000001,
          "observed": 1.0000040000000001,
          "observed_growth_rate": 1.000005000005
         },
         {
          "estimated": 0.9999999999999998,
          "estimated_growth_rate": 1.0000010000009998,
          "initial": 0.9999990000000001,
          "observed": 1.0000040000000001,
          "observed_growth_rate": 1.000005000005
         },
         {
          "estimated": 0.9999999999999998,
          "estimated_growth_rate": 1.0000010000009998,
          "initial": 0.9999990000000001,
          "observed": 1.0000040000000001,
          "observed_growth_rate": 1.000005000005
         },
         {
          "estimated": 0.9999999999999998,
          "estimated_growth_rate": 1.0000010000009998,
          "initial": 0.9999990000000001,
          "observed": 1.0000040000000001,
          "observed_growth_rate": 1.000005000005
         },
         {
          "estimated": 0.9999999999999998,
          "estimated_growth_rate": 1.0000010000009998,
          "initial": 0.9999990000000001,
          "observed": 1.0000040000000001,
          "observed_growth_rate": 1.000005000005
         },
         {
          "estimated": 0.9999999999999998,
          "estimated_growth_rate": 1.0000010000009998,
          "initial": 0.9999990000000001,
          "observed": 1.0000040000000001,
          "observed_growth_rate": 1.000005000005
         },
         {
          "estimated": 0.9999999999999998,
          "estimated_growth_rate": 1.0000010000009998,
          "initial": 0.9999990000000001,
          "observed": 1.0000040000000001,
          "observed_growth_rate": 1.000005000005
         },
         {
          "estimated": 0.9999999999999998,
          "estimated_growth_rate": 1.0000010000009998,
          "initial": 0.9999990000000001,
          "observed": 1.0000040000000001,
          "observed_growth_rate": 1.000005000005
         },
         {
          "estimated": 0.9999999999999998,
          "estimated_growth_rate": 1.0000010000009998,
          "initial": 0.9999990000000001,
          "observed": 1.0000040000000001,
          "observed_growth_rate": 1.000005000005
         },
         {
          "estimated": 0.9999999999999998,
          "estimated_growth_rate": 1.0000010000009998,
          "initial": 0.9999990000000001,
          "observed": 1.0000040000000001,
          "observed_growth_rate": 1.000005000005
         },
         {
          "estimated": 0.9999999999999998,
          "estimated_growth_rate": 1.0000010000009998,
          "initial": 0.9999990000000001,
          "observed": 1.0000040000000001,
          "observed_growth_rate": 1.000005000005
         },
         {
          "estimated": 0.9999999999999998,
          "estimated_growth_rate": 1.0000010000009998,
          "initial": 0.9999990000000001,
          "observed": 1.0000040000000001,
          "observed_growth_rate": 1.000005000005
         },
         {
          "estimated": 0.9999999999999998,
          "estimated_growth_rate": 1.0000010000009998,
          "initial": 0.9999990000000001,
          "observed": 1.0000040000000001,
          "observed_growth_rate": 1.000005000005
         },
         {
          "estimated": 0.9999999999999998,
          "estimated_growth_rate": 1.0000010000009998,
          "initial": 0.9999990000000001,
          "observed": 1.0000040000000001,
          "observed_growth_rate": 1.000005000005
         },
         {
          "estimated": 0.9999999999999998,
          "estimated_growth_rate": 1.0000010000009998,
          "initial": 0.9999990000000001,
          "observed": 1.0000040000000001,
          "observed_growth_rate": 1.000005000005
         },
         {
          "estimated": 0.9999999999999998,
          "estimated_growth_rate": 1.0000010000009998,
          "initial": 0.9999990000000001,
          "observed": 1.0000040000000001,
          "observed_growth_rate": 1.000005000005
         },
         {
          "estimated": 0.9999999999999998,
          "estimated_growth_rate": 1.0000010000009998,
          "initial": 0.9999990000000001,
          "observed": 1.0000040000000001,
          "observed_growth_rate": 1.000005000005
         },
         {
          "estimated": 0.9999999999999998,
          "estimated_growth_rate": 1.0000010000009998,
          "initial": 0.9999990000000001,
          "observed": 1.0000040000000001,
          "observed_growth_rate": 1.000005000005
         },
         {
          "estimated": 0.9999999999999998,
          "estimated_growth_rate": 1.0000010000009998,
          "initial": 0.9999990000000001,
          "observed": 1.0000040000000001,
          "observed_growth_rate": 1.000005000005
         },
         {
          "estimated": 0.9999999999999998,
          "estimated_growth_rate": 1.0000010000009998,
          "initial": 0.9999990000000001,
          "observed": 1.0000040000000001,
          "observed_growth_rate": 1.000005000005
         },
         {
          "estimated": 0.9999999999999998,
          "estimated_growth_rate": 1.0000010000009998,
          "initial": 0.9999990000000001,
          "observed": 1.0000040000000001,
          "observed_growth_rate": 1.000005000005
         },
         {
          "estimated": 0.9999999999999998,
          "estimated_growth_rate": 1.0000010000009998,
          "initial": 0.9999990000000001,
          "observed": 1.0000040000000001,
          "observed_growth_rate": 1.000005000005
         },
         {
          "estimated": 0.9999999999999998,
          "estimated_growth_rate": 1.0000010000009998,
          "initial": 0.9999990000000001,
          "observed": 1.0000040000000001,
          "observed_growth_rate": 1.000005000005
         },
         {
          "estimated": 0.9999999999999998,
          "estimated_growth_rate": 1.0000010000009998,
          "initial": 0.9999990000000001,
          "observed": 1.0000040000000001,
          "observed_growth_rate": 1.000005000005
         },
         {
          "estimated": 0.9999999999999998,
          "estimated_growth_rate": 1.0000010000009998,
          "initial": 0.9999990000000001,
          "observed": 1.0000040000000001,
          "observed_growth_rate": 1.000005000005
         },
         {
          "estimated": 0.9999999999999998,
          "estimated_growth_rate": 1.0000010000009998,
          "initial": 0.9999990000000001,
          "observed": 1.0000040000000001,
          "observed_growth_rate": 1.000005000005
         },
         {
          "estimated": 0.9999999999999998,
          "estimated_growth_rate": 1.0000010000009998,
          "initial": 0.9999990000000001,
          "observed": 1.0000040000000001,
          "observed_growth_rate": 1.000005000005
         },
         {
          "estimated": 0.9999999999999998,
          "estimated_growth_rate": 1.0000010000009998,
          "initial": 0.9999990000000001,
          "observed": 1.0000040000000001,
          "observed_growth_rate": 1.000005000005
         },
         {
          "estimated": 0.9999999999999998,
          "estimated_growth_rate": 1.0000010000009998,
          "initial": 0.9999990000000001,
          "observed": 1.0000040000000001,
          "observed_growth_rate": 1.000005000005
         },
         {
          "estimated": 0.9999999999999998,
          "estimated_growth_rate": 1.0000010000009998,
          "initial": 0.9999990000000001,
          "observed": 1.0000040000000001,
          "observed_growth_rate": 1.000005000005
         },
         {
          "estimated": 0.9999999999999998,
          "estimated_growth_rate": 1.0000010000009998,
          "initial": 0.9999990000000001,
          "observed": 1.0000040000000001,
          "observed_growth_rate": 1.000005000005
         },
         {
          "estimated": 0.9999999999999998,
          "estimated_growth_rate": 1.0000010000009998,
          "initial": 0.9999990000000001,
          "observed": 1.0000040000000001,
          "observed_growth_rate": 1.000005000005
         },
         {
          "estimated": 0.9999999999999998,
          "estimated_growth_rate": 1.0000010000009998,
          "initial": 0.9999990000000001,
          "observed": 1.0000040000000001,
          "observed_growth_rate": 1.000005000005
         },
         {
          "estimated": 0.9999999999999998,
          "estimated_growth_rate": 1.0000010000009998,
          "initial": 0.9999990000000001,
          "observed": 1.0000040000000001,
          "observed_growth_rate": 1.000005000005
         },
         {
          "estimated": 0.9999999999999998,
          "estimated_growth_rate": 1.0000010000009998,
          "initial": 0.9999990000000001,
          "observed": 1.0000040000000001,
          "observed_growth_rate": 1.000005000005
         },
         {
          "estimated": 0.9999999999999998,
          "estimated_growth_rate": 1.0000010000009998,
          "initial": 0.9999990000000001,
          "observed": 1.0000040000000001,
          "observed_growth_rate": 1.000005000005
         },
         {
          "estimated": 0.9999999999999998,
          "estimated_growth_rate": 1.0000010000009998,
          "initial": 0.9999990000000001,
          "observed": 1.0000040000000001,
          "observed_growth_rate": 1.000005000005
         },
         {
          "estimated": 0.9999999999999998,
          "estimated_growth_rate": 1.0000010000009998,
          "initial": 0.9999990000000001,
          "observed": 1.0000040000000001,
          "observed_growth_rate": 1.000005000005
         },
         {
          "estimated": 0.9999999999999998,
          "estimated_growth_rate": 1.0000010000009998,
          "initial": 0.9999990000000001,
          "observed": 1.0000040000000001,
          "observed_growth_rate": 1.000005000005
         },
         {
          "estimated": 0.9999999999999998,
          "estimated_growth_rate": 1.0000010000009998,
          "initial": 0.9999990000000001,
          "observed": 1.0000040000000001,
          "observed_growth_rate": 1.000005000005
         },
         {
          "estimated": 0.9999999999999998,
          "estimated_growth_rate": 1.0000010000009998,
          "initial": 0.9999990000000001,
          "observed": 1.0000040000000001,
          "observed_growth_rate": 1.000005000005
         },
         {
          "estimated": 0.9999999999999998,
          "estimated_growth_rate": 1.0000010000009998,
          "initial": 0.9999990000000001,
          "observed": 1.0000040000000001,
          "observed_growth_rate": 1.000005000005
         },
         {
          "estimated": 0.9999999999999998,
          "estimated_growth_rate": 1.0000010000009998,
          "initial": 0.9999990000000001,
          "observed": 1.0000040000000001,
          "observed_growth_rate": 1.000005000005
         },
         {
          "estimated": 0.9999999999999998,
          "estimated_growth_rate": 1.0000010000009998,
          "initial": 0.9999990000000001,
          "observed": 1.0000040000000001,
          "observed_growth_rate": 1.000005000005
         },
         {
          "estimated": 0.9999999999999998,
          "estimated_growth_rate": 1.0000010000009998,
          "initial": 0.9999990000000001,
          "observed": 1.0000040000000001,
          "observed_growth_rate": 1.000005000005
         },
         {
          "estimated": 0.9999999999999998,
          "estimated_growth_rate": 1.0000010000009998,
          "initial": 0.9999990000000001,
          "observed": 1.0000040000000001,
          "observed_growth_rate": 1.000005000005
         },
         {
          "estimated": 0.9999999999999998,
          "estimated_growth_rate": 1.0000010000009998,
          "initial": 0.9999990000000001,
          "observed": 1.0000040000000001,
          "observed_growth_rate": 1.000005000005
         },
         {
          "estimated": 0.9999999999999998,
          "estimated_growth_rate": 1.0000010000009998,
          "initial": 0.9999990000000001,
          "observed": 1.0000040000000001,
          "observed_growth_rate": 1.000005000005
         },
         {
          "estimated": 0.9999999999999998,
          "estimated_growth_rate": 1.0000010000009998,
          "initial": 0.9999990000000001,
          "observed": 1.0000040000000001,
          "observed_growth_rate": 1.000005000005
         },
         {
          "estimated": 0.9999999999999998,
          "estimated_growth_rate": 1.0000010000009998,
          "initial": 0.9999990000000001,
          "observed": 1.0000040000000001,
          "observed_growth_rate": 1.000005000005
         },
         {
          "estimated": 0.9999999999999998,
          "estimated_growth_rate": 1.0000010000009998,
          "initial": 0.9999990000000001,
          "observed": 1.0000040000000001,
          "observed_growth_rate": 1.000005000005
         },
         {
          "estimated": 0.9999378615201624,
          "estimated_growth_rate": 1.0693470391364297,
          "initial": 0.935092,
          "observed": 1.0000040000000001,
          "observed_growth_rate": 1.0694177685190336
         },
         {
          "estimated": 0.9999378615201624,
          "estimated_growth_rate": 1.0693470391364297,
          "initial": 0.935092,
          "observed": 1.0000040000000001,
          "observed_growth_rate": 1.0694177685190336
         },
         {
          "estimated": 0.9999378615201624,
          "estimated_growth_rate": 1.0693470391364297,
          "initial": 0.935092,
          "observed": 1.0000040000000001,
          "observed_growth_rate": 1.0694177685190336
         },
         {
          "estimated": 0.9999378615201624,
          "estimated_growth_rate": 1.0693470391364297,
          "initial": 0.935092,
          "observed": 1.0000040000000001,
          "observed_growth_rate": 1.0694177685190336
         },
         {
          "estimated": 0.9999378615201624,
          "estimated_growth_rate": 1.0693470391364297,
          "initial": 0.935092,
          "observed": 1.0000040000000001,
          "observed_growth_rate": 1.0694177685190336
         },
         {
          "estimated": 0.9999378615201624,
          "estimated_growth_rate": 1.0693470391364297,
          "initial": 0.935092,
          "observed": 1.0000040000000001,
          "observed_growth_rate": 1.0694177685190336
         },
         {
          "estimated": 0.9999378615201624,
          "estimated_growth_rate": 1.0693470391364297,
          "initial": 0.935092,
          "observed": 1.0000040000000001,
          "observed_growth_rate": 1.0694177685190336
         },
         {
          "estimated": 0.9999378615201624,
          "estimated_growth_rate": 1.0693470391364297,
          "initial": 0.935092,
          "observed": 1.0000040000000001,
          "observed_growth_rate": 1.0694177685190336
         },
         {
          "estimated": 0.9999378615201624,
          "estimated_growth_rate": 1.0693470391364297,
          "initial": 0.935092,
          "observed": 0.999993,
          "observed_growth_rate": 1.069406004970634
         },
         {
          "estimated": 0.9999378615201624,
          "estimated_growth_rate": 1.0693470391364297,
          "initial": 0.935092,
          "observed": 0.999993,
          "observed_growth_rate": 1.069406004970634
         },
         {
          "estimated": 0.9999378615201624,
          "estimated_growth_rate": 1.0693470391364297,
          "initial": 0.935092,
          "observed": 0.999993,
          "observed_growth_rate": 1.069406004970634
         },
         {
          "estimated": 0.9999378615201624,
          "estimated_growth_rate": 1.0693470391364297,
          "initial": 0.935092,
          "observed": 0.999993,
          "observed_growth_rate": 1.069406004970634
         },
         {
          "estimated": 0.9999378615201624,
          "estimated_growth_rate": 1.0693470391364297,
          "initial": 0.935092,
          "observed": 0.999993,
          "observed_growth_rate": 1.069406004970634
         },
         {
          "estimated": 0.9999378615201624,
          "estimated_growth_rate": 1.0693470391364297,
          "initial": 0.935092,
          "observed": 0.999993,
          "observed_growth_rate": 1.069406004970634
         },
         {
          "estimated": 0.9999378615201624,
          "estimated_growth_rate": 1.0693470391364297,
          "initial": 0.935092,
          "observed": 0.999993,
          "observed_growth_rate": 1.069406004970634
         },
         {
          "estimated": 0.9999378615201624,
          "estimated_growth_rate": 1.0693470391364297,
          "initial": 0.935092,
          "observed": 0.999993,
          "observed_growth_rate": 1.069406004970634
         },
         {
          "estimated": 0.9999268450472757,
          "estimated_growth_rate": 1.0920833943640833,
          "initial": 0.9156139999999999,
          "observed": 0.999993,
          "observed_growth_rate": 1.0921556463750008
         },
         {
          "estimated": 0.9999268450472757,
          "estimated_growth_rate": 1.0920833943640833,
          "initial": 0.9156139999999999,
          "observed": 0.999993,
          "observed_growth_rate": 1.0921556463750008
         },
         {
          "estimated": 0.9998713112896129,
          "estimated_growth_rate": 1.145960669338183,
          "initial": 0.8725180000000001,
          "observed": 0.9970289999999999,
          "observed_growth_rate": 1.1427030731744214
         },
         {
          "estimated": 0.9998713112896129,
          "estimated_growth_rate": 1.145960669338183,
          "initial": 0.8725180000000001,
          "observed": 0.997028,
          "observed_growth_rate": 1.142701927066261
         },
         {
          "estimated": 0.9998713112896129,
          "estimated_growth_rate": 1.145960669338183,
          "initial": 0.8725180000000001,
          "observed": 0.997028,
          "observed_growth_rate": 1.142701927066261
         },
         {
          "estimated": 0.999853347419865,
          "estimated_growth_rate": 1.1736263299663297,
          "initial": 0.851935,
          "observed": 0.997028,
          "observed_growth_rate": 1.1703099414861462
         },
         {
          "estimated": 0.999853347419865,
          "estimated_growth_rate": 1.1736263299663297,
          "initial": 0.851935,
          "observed": 0.997028,
          "observed_growth_rate": 1.1703099414861462
         },
         {
          "estimated": 0.9998533472387903,
          "estimated_growth_rate": 1.1736277073561923,
          "initial": 0.851934,
          "observed": 0.997028,
          "observed_growth_rate": 1.1703113151957782
         },
         {
          "estimated": 0.999850843631247,
          "estimated_growth_rate": 1.17793868106705,
          "initial": 0.8488140000000001,
          "observed": 0.997028,
          "observed_growth_rate": 1.1746130483238966
         },
         {
          "estimated": 0.999850843631247,
          "estimated_growth_rate": 1.17793868106705,
          "initial": 0.8488140000000001,
          "observed": 0.997028,
          "observed_growth_rate": 1.1746130483238966
         },
         {
          "estimated": 0.999850843631247,
          "estimated_growth_rate": 1.17793868106705,
          "initial": 0.8488140000000001,
          "observed": 0.997028,
          "observed_growth_rate": 1.1746130483238966
         },
         {
          "estimated": 0.999850843631247,
          "estimated_growth_rate": 1.17793868106705,
          "initial": 0.8488140000000001,
          "observed": 0.997028,
          "observed_growth_rate": 1.1746130483238966
         },
         {
          "estimated": 0.9998470420374157,
          "estimated_growth_rate": 1.1876572158688337,
          "initial": 0.8418650000000001,
          "observed": 0.997028,
          "observed_growth_rate": 1.1843086480611498
         },
         {
          "estimated": 0.9998470420374157,
          "estimated_growth_rate": 1.1876572158688337,
          "initial": 0.8418650000000001,
          "observed": 0.997028,
          "observed_growth_rate": 1.1843086480611498
         },
         {
          "estimated": 0.9998470420374157,
          "estimated_growth_rate": 1.1876572158688337,
          "initial": 0.8418650000000001,
          "observed": 0.997028,
          "observed_growth_rate": 1.1843086480611498
         },
         {
          "estimated": 0.9998470420374157,
          "estimated_growth_rate": 1.1876572158688337,
          "initial": 0.8418650000000001,
          "observed": 0.997028,
          "observed_growth_rate": 1.1843086480611498
         },
         {
          "estimated": 0.9998470420374157,
          "estimated_growth_rate": 1.1876572158688337,
          "initial": 0.8418650000000001,
          "observed": 0.997028,
          "observed_growth_rate": 1.1843086480611498
         },
         {
          "estimated": 0.9998470420374157,
          "estimated_growth_rate": 1.1876572158688337,
          "initial": 0.8418650000000001,
          "observed": 0.997028,
          "observed_growth_rate": 1.1843086480611498
         },
         {
          "estimated": 0.9998466665873048,
          "estimated_growth_rate": 1.188414823454473,
          "initial": 0.841328,
          "observed": 0.997028,
          "observed_growth_rate": 1.1850645645931195
         },
         {
          "estimated": 0.9998466665873048,
          "estimated_growth_rate": 1.188414823454473,
          "initial": 0.841328,
          "observed": 0.997028,
          "observed_growth_rate": 1.1850645645931195
         },
         {
          "estimated": 0.9998466665873048,
          "estimated_growth_rate": 1.188414823454473,
          "initial": 0.841328,
          "observed": 0.997028,
          "observed_growth_rate": 1.1850645645931195
         },
         {
          "estimated": 0.9998466665873048,
          "estimated_growth_rate": 1.188414823454473,
          "initial": 0.841328,
          "observed": 0.997028,
          "observed_growth_rate": 1.1850645645931195
         },
         {
          "estimated": 0.9998466665873048,
          "estimated_growth_rate": 1.188414823454473,
          "initial": 0.841328,
          "observed": 0.997028,
          "observed_growth_rate": 1.1850645645931195
         },
         {
          "estimated": 0.9998466665873048,
          "estimated_growth_rate": 1.188414823454473,
          "initial": 0.841328,
          "observed": 0.997028,
          "observed_growth_rate": 1.1850645645931195
         },
         {
          "estimated": 0.9998455213033846,
          "estimated_growth_rate": 1.190965750041255,
          "initial": 0.839525,
          "observed": 0.997028,
          "observed_growth_rate": 1.1876096602245318
         },
         {
          "estimated": 0.9998391391886646,
          "estimated_growth_rate": 1.2032916997889866,
          "initial": 0.8309199999999999,
          "observed": 0.997028,
          "observed_growth_rate": 1.199908535117701
         },
         {
          "estimated": 0.9998391391886646,
          "estimated_growth_rate": 1.2032916997889866,
          "initial": 0.8309199999999999,
          "observed": 0.997028,
          "observed_growth_rate": 1.199908535117701
         },
         {
          "estimated": 0.9998327831900055,
          "estimated_growth_rate": 1.2127858507174896,
          "initial": 0.82441,
          "observed": 0.997028,
          "observed_growth_rate": 1.2093836804502616
         },
         {
          "estimated": 0.9997856124594784,
          "estimated_growth_rate": 1.246197487949152,
          "initial": 0.8022690000000001,
          "observed": 0.997028,
          "observed_growth_rate": 1.2427602213222746
         },
         {
          "estimated": 0.00871045783237316,
          "estimated_growth_rate": 0.0259301554905131,
          "initial": 0.33592,
          "observed": 0.251479,
          "observed_growth_rate": 0.748627649440343
         },
         {
          "estimated": 0.00844556640313204,
          "estimated_growth_rate": 0.034405416516474545,
          "initial": 0.245472,
          "observed": 0.251293,
          "observed_growth_rate": 1.0237134988919305
         },
         {
          "estimated": 0.008109912209037578,
          "estimated_growth_rate": 0.04784270263484343,
          "initial": 0.16951199999999997,
          "observed": 0.25124300000000005,
          "observed_growth_rate": 1.48215465571759
         },
         {
          "estimated": 0.008076423038133303,
          "estimated_growth_rate": 0.04950123218351334,
          "initial": 0.163156,
          "observed": 0.25124300000000005,
          "observed_growth_rate": 1.5398943342567852
         },
         {
          "estimated": 0.990112932860866,
          "estimated_growth_rate": 3.0790731891854946,
          "initial": 0.321562,
          "observed": 0.745549,
          "observed_growth_rate": 2.318523332980887
         },
         {
          "estimated": 0.9901041261834591,
          "estimated_growth_rate": 3.1477344296792484,
          "initial": 0.31454499999999996,
          "observed": 0.745549,
          "observed_growth_rate": 2.370245910759987
         },
         {
          "estimated": 0.8853608061265418,
          "estimated_growth_rate": 3.3402026926777197,
          "initial": 0.265062,
          "observed": 0.727656,
          "observed_growth_rate": 2.745229418022953
         },
         {
          "estimated": 0.8853560650118982,
          "estimated_growth_rate": 3.3878852983273955,
          "initial": 0.26133,
          "observed": 0.7107570000000001,
          "observed_growth_rate": 2.7197681092871084
         },
         {
          "estimated": 0.8847618293293589,
          "estimated_growth_rate": 3.4368091196267776,
          "initial": 0.257437,
          "observed": 0.70811,
          "observed_growth_rate": 2.750614713502721
         },
         {
          "estimated": 0.8847618293293589,
          "estimated_growth_rate": 3.4368091196267776,
          "initial": 0.257437,
          "observed": 0.70811,
          "observed_growth_rate": 2.750614713502721
         },
         {
          "estimated": 0.8847486429997227,
          "estimated_growth_rate": 3.5084847882800076,
          "initial": 0.252174,
          "observed": 0.70811,
          "observed_growth_rate": 2.8080214455098464
         },
         {
          "estimated": 0.8420680696694368,
          "estimated_growth_rate": 3.6988454985765293,
          "initial": 0.22765699999999997,
          "observed": 0.60564,
          "observed_growth_rate": 2.660317934436455
         },
         {
          "estimated": 0.8420277862523593,
          "estimated_growth_rate": 3.8137734559816265,
          "initial": 0.22078599999999998,
          "observed": 0.60564,
          "observed_growth_rate": 2.743108711603091
         },
         {
          "estimated": 0.8420277862523593,
          "estimated_growth_rate": 3.8137734559816265,
          "initial": 0.22078599999999998,
          "observed": 0.605329,
          "observed_growth_rate": 2.74170010779669
         },
         {
          "estimated": 0.7993931438965618,
          "estimated_growth_rate": 4.399521980718558,
          "initial": 0.18169999999999997,
          "observed": 0.554983,
          "observed_growth_rate": 3.054391854705559
         },
         {
          "estimated": 0.3454126135217191,
          "estimated_growth_rate": 2.106469892251469,
          "initial": 0.16397699999999998,
          "observed": 0.554983,
          "observed_growth_rate": 3.3845173408465823
         },
         {
          "estimated": 0.9999999999999999,
          "estimated_growth_rate": 1.0000010000009998,
          "initial": 0.9999990000000001,
          "observed": 0.9999870000000001,
          "observed_growth_rate": 0.999987999988
         },
         {
          "estimated": 0.9999999999999999,
          "estimated_growth_rate": 1.0000010000009998,
          "initial": 0.9999990000000001,
          "observed": 0.9999870000000001,
          "observed_growth_rate": 0.999987999988
         },
         {
          "estimated": 0.9999999999999999,
          "estimated_growth_rate": 1.0000010000009998,
          "initial": 0.9999990000000001,
          "observed": 0.9999870000000001,
          "observed_growth_rate": 0.999987999988
         },
         {
          "estimated": 0.9999999999999999,
          "estimated_growth_rate": 1.0000010000009998,
          "initial": 0.9999990000000001,
          "observed": 0.9999870000000001,
          "observed_growth_rate": 0.999987999988
         },
         {
          "estimated": 0.9999999999999999,
          "estimated_growth_rate": 1.0000010000009998,
          "initial": 0.9999990000000001,
          "observed": 0.9999870000000001,
          "observed_growth_rate": 0.999987999988
         },
         {
          "estimated": 0.9999999999999999,
          "estimated_growth_rate": 1.0000010000009998,
          "initial": 0.9999990000000001,
          "observed": 0.9999870000000001,
          "observed_growth_rate": 0.999987999988
         },
         {
          "estimated": 0.9999999999999999,
          "estimated_growth_rate": 1.0000010000009998,
          "initial": 0.9999990000000001,
          "observed": 0.9999870000000001,
          "observed_growth_rate": 0.999987999988
         },
         {
          "estimated": 0.9999999999999999,
          "estimated_growth_rate": 1.0000010000009998,
          "initial": 0.9999990000000001,
          "observed": 0.9999870000000001,
          "observed_growth_rate": 0.999987999988
         },
         {
          "estimated": 0.9999999999999999,
          "estimated_growth_rate": 1.0000010000009998,
          "initial": 0.9999990000000001,
          "observed": 0.9999870000000001,
          "observed_growth_rate": 0.999987999988
         },
         {
          "estimated": 0.9999999999999999,
          "estimated_growth_rate": 1.0000010000009998,
          "initial": 0.9999990000000001,
          "observed": 0.9999870000000001,
          "observed_growth_rate": 0.999987999988
         },
         {
          "estimated": 0.9999999999999999,
          "estimated_growth_rate": 1.0000010000009998,
          "initial": 0.9999990000000001,
          "observed": 0.9999870000000001,
          "observed_growth_rate": 0.999987999988
         },
         {
          "estimated": 0.9999999999999999,
          "estimated_growth_rate": 1.0000010000009998,
          "initial": 0.9999990000000001,
          "observed": 0.9999870000000001,
          "observed_growth_rate": 0.999987999988
         },
         {
          "estimated": 0.9999999999999999,
          "estimated_growth_rate": 1.0000010000009998,
          "initial": 0.9999990000000001,
          "observed": 0.9999870000000001,
          "observed_growth_rate": 0.999987999988
         },
         {
          "estimated": 0.9999999999999999,
          "estimated_growth_rate": 1.0000010000009998,
          "initial": 0.9999990000000001,
          "observed": 0.9999870000000001,
          "observed_growth_rate": 0.999987999988
         },
         {
          "estimated": 0.9999999999999999,
          "estimated_growth_rate": 1.0000010000009998,
          "initial": 0.9999990000000001,
          "observed": 0.9999870000000001,
          "observed_growth_rate": 0.999987999988
         },
         {
          "estimated": 0.9999999999999999,
          "estimated_growth_rate": 1.0000010000009998,
          "initial": 0.9999990000000001,
          "observed": 0.9999870000000001,
          "observed_growth_rate": 0.999987999988
         },
         {
          "estimated": 0.9999999999999999,
          "estimated_growth_rate": 1.0000010000009998,
          "initial": 0.9999990000000001,
          "observed": 0.9999870000000001,
          "observed_growth_rate": 0.999987999988
         },
         {
          "estimated": 0.9999999999999999,
          "estimated_growth_rate": 1.0000010000009998,
          "initial": 0.9999990000000001,
          "observed": 0.9999870000000001,
          "observed_growth_rate": 0.999987999988
         },
         {
          "estimated": 0.9999999999999999,
          "estimated_growth_rate": 1.0000010000009998,
          "initial": 0.9999990000000001,
          "observed": 0.9999870000000001,
          "observed_growth_rate": 0.999987999988
         },
         {
          "estimated": 0.9999999999999999,
          "estimated_growth_rate": 1.0000010000009998,
          "initial": 0.9999990000000001,
          "observed": 0.9999870000000001,
          "observed_growth_rate": 0.999987999988
         },
         {
          "estimated": 0.9999999999999999,
          "estimated_growth_rate": 1.0000010000009998,
          "initial": 0.9999990000000001,
          "observed": 0.9999870000000001,
          "observed_growth_rate": 0.999987999988
         },
         {
          "estimated": 0.9999999999999999,
          "estimated_growth_rate": 1.0000010000009998,
          "initial": 0.9999990000000001,
          "observed": 0.9999870000000001,
          "observed_growth_rate": 0.999987999988
         },
         {
          "estimated": 0.9999999999999999,
          "estimated_growth_rate": 1.0000010000009998,
          "initial": 0.9999990000000001,
          "observed": 0.9999870000000001,
          "observed_growth_rate": 0.999987999988
         },
         {
          "estimated": 0.9999999999999999,
          "estimated_growth_rate": 1.0000010000009998,
          "initial": 0.9999990000000001,
          "observed": 0.9999870000000001,
          "observed_growth_rate": 0.999987999988
         },
         {
          "estimated": 0.9999999999999999,
          "estimated_growth_rate": 1.0000010000009998,
          "initial": 0.9999990000000001,
          "observed": 0.9999870000000001,
          "observed_growth_rate": 0.999987999988
         },
         {
          "estimated": 0.9999999999999999,
          "estimated_growth_rate": 1.0000010000009998,
          "initial": 0.9999990000000001,
          "observed": 0.9999870000000001,
          "observed_growth_rate": 0.999987999988
         },
         {
          "estimated": 0.9999999999999999,
          "estimated_growth_rate": 1.0000010000009998,
          "initial": 0.9999990000000001,
          "observed": 0.9999870000000001,
          "observed_growth_rate": 0.999987999988
         },
         {
          "estimated": 0.9999999999999999,
          "estimated_growth_rate": 1.0000010000009998,
          "initial": 0.9999990000000001,
          "observed": 0.9999870000000001,
          "observed_growth_rate": 0.999987999988
         },
         {
          "estimated": 0.9999999999999999,
          "estimated_growth_rate": 1.0000010000009998,
          "initial": 0.9999990000000001,
          "observed": 0.9999870000000001,
          "observed_growth_rate": 0.999987999988
         },
         {
          "estimated": 0.9999999999999999,
          "estimated_growth_rate": 1.0000010000009998,
          "initial": 0.9999990000000001,
          "observed": 0.9999870000000001,
          "observed_growth_rate": 0.999987999988
         },
         {
          "estimated": 0.9999999999999999,
          "estimated_growth_rate": 1.0000010000009998,
          "initial": 0.9999990000000001,
          "observed": 0.9999870000000001,
          "observed_growth_rate": 0.999987999988
         },
         {
          "estimated": 0.9999999999999999,
          "estimated_growth_rate": 1.0000010000009998,
          "initial": 0.9999990000000001,
          "observed": 0.9999870000000001,
          "observed_growth_rate": 0.999987999988
         },
         {
          "estimated": 0.9999999999999999,
          "estimated_growth_rate": 1.0000010000009998,
          "initial": 0.9999990000000001,
          "observed": 0.9999870000000001,
          "observed_growth_rate": 0.999987999988
         },
         {
          "estimated": 0.9999999999999999,
          "estimated_growth_rate": 1.0000010000009998,
          "initial": 0.9999990000000001,
          "observed": 0.9999870000000001,
          "observed_growth_rate": 0.999987999988
         },
         {
          "estimated": 0.9999999999999999,
          "estimated_growth_rate": 1.0000010000009998,
          "initial": 0.9999990000000001,
          "observed": 0.9999870000000001,
          "observed_growth_rate": 0.999987999988
         },
         {
          "estimated": 0.9999999999999999,
          "estimated_growth_rate": 1.0000010000009998,
          "initial": 0.9999990000000001,
          "observed": 0.9999870000000001,
          "observed_growth_rate": 0.999987999988
         },
         {
          "estimated": 0.9999999999999999,
          "estimated_growth_rate": 1.0000010000009998,
          "initial": 0.9999990000000001,
          "observed": 0.9999870000000001,
          "observed_growth_rate": 0.999987999988
         },
         {
          "estimated": 0.9999999999999999,
          "estimated_growth_rate": 1.0000010000009998,
          "initial": 0.9999990000000001,
          "observed": 0.9999870000000001,
          "observed_growth_rate": 0.999987999988
         },
         {
          "estimated": 0.9999999999999999,
          "estimated_growth_rate": 1.0000010000009998,
          "initial": 0.9999990000000001,
          "observed": 0.9999870000000001,
          "observed_growth_rate": 0.999987999988
         },
         {
          "estimated": 0.9999999999999999,
          "estimated_growth_rate": 1.0000010000009998,
          "initial": 0.9999990000000001,
          "observed": 0.9999870000000001,
          "observed_growth_rate": 0.999987999988
         },
         {
          "estimated": 0.9999999999999999,
          "estimated_growth_rate": 1.0000010000009998,
          "initial": 0.9999990000000001,
          "observed": 0.9999870000000001,
          "observed_growth_rate": 0.999987999988
         },
         {
          "estimated": 0.9999999999999999,
          "estimated_growth_rate": 1.0000010000009998,
          "initial": 0.9999990000000001,
          "observed": 0.9999870000000001,
          "observed_growth_rate": 0.999987999988
         },
         {
          "estimated": 0.9999999999999999,
          "estimated_growth_rate": 1.0000010000009998,
          "initial": 0.9999990000000001,
          "observed": 0.9999870000000001,
          "observed_growth_rate": 0.999987999988
         },
         {
          "estimated": 0.9999999999999999,
          "estimated_growth_rate": 1.0000010000009998,
          "initial": 0.9999990000000001,
          "observed": 0.9999870000000001,
          "observed_growth_rate": 0.999987999988
         },
         {
          "estimated": 0.9999999999999999,
          "estimated_growth_rate": 1.0000010000009998,
          "initial": 0.9999990000000001,
          "observed": 0.9999870000000001,
          "observed_growth_rate": 0.999987999988
         },
         {
          "estimated": 0.9999999999999999,
          "estimated_growth_rate": 1.0000010000009998,
          "initial": 0.9999990000000001,
          "observed": 0.9999870000000001,
          "observed_growth_rate": 0.999987999988
         },
         {
          "estimated": 0.9999999999999999,
          "estimated_growth_rate": 1.0000010000009998,
          "initial": 0.9999990000000001,
          "observed": 0.9999870000000001,
          "observed_growth_rate": 0.999987999988
         },
         {
          "estimated": 0.9999999999999999,
          "estimated_growth_rate": 1.0000010000009998,
          "initial": 0.9999990000000001,
          "observed": 0.9999870000000001,
          "observed_growth_rate": 0.999987999988
         },
         {
          "estimated": 0.9999999999999999,
          "estimated_growth_rate": 1.0000010000009998,
          "initial": 0.9999990000000001,
          "observed": 0.9999870000000001,
          "observed_growth_rate": 0.999987999988
         },
         {
          "estimated": 0.9999999999999999,
          "estimated_growth_rate": 1.0000010000009998,
          "initial": 0.9999990000000001,
          "observed": 0.9999870000000001,
          "observed_growth_rate": 0.999987999988
         },
         {
          "estimated": 0.9999999999999999,
          "estimated_growth_rate": 1.0000010000009998,
          "initial": 0.9999990000000001,
          "observed": 0.9999870000000001,
          "observed_growth_rate": 0.999987999988
         },
         {
          "estimated": 0.9999999999999999,
          "estimated_growth_rate": 1.0000010000009998,
          "initial": 0.9999990000000001,
          "observed": 0.9999870000000001,
          "observed_growth_rate": 0.999987999988
         },
         {
          "estimated": 0.9999999999999999,
          "estimated_growth_rate": 1.0000010000009998,
          "initial": 0.9999990000000001,
          "observed": 0.9999870000000001,
          "observed_growth_rate": 0.999987999988
         },
         {
          "estimated": 0.9999999999999999,
          "estimated_growth_rate": 1.0000010000009998,
          "initial": 0.9999990000000001,
          "observed": 0.9999870000000001,
          "observed_growth_rate": 0.999987999988
         },
         {
          "estimated": 0.9999999999999999,
          "estimated_growth_rate": 1.0000010000009998,
          "initial": 0.9999990000000001,
          "observed": 0.9999870000000001,
          "observed_growth_rate": 0.999987999988
         },
         {
          "estimated": 0.9999999999999999,
          "estimated_growth_rate": 1.0000010000009998,
          "initial": 0.9999990000000001,
          "observed": 0.9999870000000001,
          "observed_growth_rate": 0.999987999988
         },
         {
          "estimated": 0.9999999999999999,
          "estimated_growth_rate": 1.0000010000009998,
          "initial": 0.9999990000000001,
          "observed": 0.9999870000000001,
          "observed_growth_rate": 0.999987999988
         },
         {
          "estimated": 0.9999999999999999,
          "estimated_growth_rate": 1.0000010000009998,
          "initial": 0.9999990000000001,
          "observed": 0.9999870000000001,
          "observed_growth_rate": 0.999987999988
         },
         {
          "estimated": 0.9999999999999999,
          "estimated_growth_rate": 1.0000010000009998,
          "initial": 0.9999990000000001,
          "observed": 0.9999870000000001,
          "observed_growth_rate": 0.999987999988
         },
         {
          "estimated": 0.9999999999999999,
          "estimated_growth_rate": 1.0000010000009998,
          "initial": 0.9999990000000001,
          "observed": 0.9999870000000001,
          "observed_growth_rate": 0.999987999988
         },
         {
          "estimated": 0.9999999999999999,
          "estimated_growth_rate": 1.0000010000009998,
          "initial": 0.9999990000000001,
          "observed": 0.9999870000000001,
          "observed_growth_rate": 0.999987999988
         },
         {
          "estimated": 0.9999999999999999,
          "estimated_growth_rate": 1.0000010000009998,
          "initial": 0.9999990000000001,
          "observed": 0.9999870000000001,
          "observed_growth_rate": 0.999987999988
         },
         {
          "estimated": 0.9999999999999999,
          "estimated_growth_rate": 1.0000010000009998,
          "initial": 0.9999990000000001,
          "observed": 0.9999870000000001,
          "observed_growth_rate": 0.999987999988
         },
         {
          "estimated": 0.9999999999999999,
          "estimated_growth_rate": 1.0000010000009998,
          "initial": 0.9999990000000001,
          "observed": 0.9999870000000001,
          "observed_growth_rate": 0.999987999988
         },
         {
          "estimated": 0.9999999999999999,
          "estimated_growth_rate": 1.0000010000009998,
          "initial": 0.9999990000000001,
          "observed": 0.9999870000000001,
          "observed_growth_rate": 0.999987999988
         },
         {
          "estimated": 0.9999999999999999,
          "estimated_growth_rate": 1.0000010000009998,
          "initial": 0.9999990000000001,
          "observed": 0.9999870000000001,
          "observed_growth_rate": 0.999987999988
         },
         {
          "estimated": 0.9999999999999999,
          "estimated_growth_rate": 1.0000010000009998,
          "initial": 0.9999990000000001,
          "observed": 0.9999870000000001,
          "observed_growth_rate": 0.999987999988
         },
         {
          "estimated": 0.9999999999999999,
          "estimated_growth_rate": 1.0000010000009998,
          "initial": 0.9999990000000001,
          "observed": 0.9999870000000001,
          "observed_growth_rate": 0.999987999988
         },
         {
          "estimated": 0.9999999999999999,
          "estimated_growth_rate": 1.0000010000009998,
          "initial": 0.9999990000000001,
          "observed": 0.9999870000000001,
          "observed_growth_rate": 0.999987999988
         },
         {
          "estimated": 0.9999999999999999,
          "estimated_growth_rate": 1.0000010000009998,
          "initial": 0.9999990000000001,
          "observed": 0.9999870000000001,
          "observed_growth_rate": 0.999987999988
         },
         {
          "estimated": 0.9999999999999999,
          "estimated_growth_rate": 1.0000010000009998,
          "initial": 0.9999990000000001,
          "observed": 0.9999870000000001,
          "observed_growth_rate": 0.999987999988
         },
         {
          "estimated": 0.9999999999999999,
          "estimated_growth_rate": 1.0000010000009998,
          "initial": 0.9999990000000001,
          "observed": 0.9999870000000001,
          "observed_growth_rate": 0.999987999988
         },
         {
          "estimated": 0.9999999999999999,
          "estimated_growth_rate": 1.0000010000009998,
          "initial": 0.9999990000000001,
          "observed": 0.9999870000000001,
          "observed_growth_rate": 0.999987999988
         },
         {
          "estimated": 0.9999999999999999,
          "estimated_growth_rate": 1.0000010000009998,
          "initial": 0.9999990000000001,
          "observed": 0.9999870000000001,
          "observed_growth_rate": 0.999987999988
         },
         {
          "estimated": 0.9999999999999999,
          "estimated_growth_rate": 1.0000010000009998,
          "initial": 0.9999990000000001,
          "observed": 0.9999870000000001,
          "observed_growth_rate": 0.999987999988
         },
         {
          "estimated": 0.9999999999999999,
          "estimated_growth_rate": 1.0000010000009998,
          "initial": 0.9999990000000001,
          "observed": 0.9999870000000001,
          "observed_growth_rate": 0.999987999988
         },
         {
          "estimated": 0.9999999999999999,
          "estimated_growth_rate": 1.0000010000009998,
          "initial": 0.9999990000000001,
          "observed": 0.9999870000000001,
          "observed_growth_rate": 0.999987999988
         },
         {
          "estimated": 0.9999999999999999,
          "estimated_growth_rate": 1.0000010000009998,
          "initial": 0.9999990000000001,
          "observed": 0.9999870000000001,
          "observed_growth_rate": 0.999987999988
         },
         {
          "estimated": 0.9999999999999999,
          "estimated_growth_rate": 1.0000010000009998,
          "initial": 0.9999990000000001,
          "observed": 0.9999870000000001,
          "observed_growth_rate": 0.999987999988
         },
         {
          "estimated": 0.9999999999999999,
          "estimated_growth_rate": 1.0000010000009998,
          "initial": 0.9999990000000001,
          "observed": 0.9999870000000001,
          "observed_growth_rate": 0.999987999988
         },
         {
          "estimated": 0.9999999999999999,
          "estimated_growth_rate": 1.0000010000009998,
          "initial": 0.9999990000000001,
          "observed": 0.9999870000000001,
          "observed_growth_rate": 0.999987999988
         },
         {
          "estimated": 0.9999999999999999,
          "estimated_growth_rate": 1.0000010000009998,
          "initial": 0.9999990000000001,
          "observed": 0.9999870000000001,
          "observed_growth_rate": 0.999987999988
         },
         {
          "estimated": 0.9999999999999999,
          "estimated_growth_rate": 1.0000010000009998,
          "initial": 0.9999990000000001,
          "observed": 0.9999870000000001,
          "observed_growth_rate": 0.999987999988
         },
         {
          "estimated": 0.9999999999999999,
          "estimated_growth_rate": 1.0000010000009998,
          "initial": 0.9999990000000001,
          "observed": 0.9999870000000001,
          "observed_growth_rate": 0.999987999988
         },
         {
          "estimated": 0.9999999999999999,
          "estimated_growth_rate": 1.0000010000009998,
          "initial": 0.9999990000000001,
          "observed": 0.9999870000000001,
          "observed_growth_rate": 0.999987999988
         },
         {
          "estimated": 0.9999999999999999,
          "estimated_growth_rate": 1.0000010000009998,
          "initial": 0.9999990000000001,
          "observed": 0.9999870000000001,
          "observed_growth_rate": 0.999987999988
         },
         {
          "estimated": 0.9999999999999999,
          "estimated_growth_rate": 1.0000010000009998,
          "initial": 0.9999990000000001,
          "observed": 0.9999870000000001,
          "observed_growth_rate": 0.999987999988
         },
         {
          "estimated": 0.9999999999999999,
          "estimated_growth_rate": 1.0000010000009998,
          "initial": 0.9999990000000001,
          "observed": 0.9999870000000001,
          "observed_growth_rate": 0.999987999988
         },
         {
          "estimated": 0.9999999999999999,
          "estimated_growth_rate": 1.0000010000009998,
          "initial": 0.9999990000000001,
          "observed": 0.9999870000000001,
          "observed_growth_rate": 0.999987999988
         },
         {
          "estimated": 0.9999999999999999,
          "estimated_growth_rate": 1.0000010000009998,
          "initial": 0.9999990000000001,
          "observed": 0.9999870000000001,
          "observed_growth_rate": 0.999987999988
         },
         {
          "estimated": 0.9999999999999999,
          "estimated_growth_rate": 1.0000010000009998,
          "initial": 0.9999990000000001,
          "observed": 0.9999870000000001,
          "observed_growth_rate": 0.999987999988
         },
         {
          "estimated": 0.9999999999999999,
          "estimated_growth_rate": 1.0000010000009998,
          "initial": 0.9999990000000001,
          "observed": 0.9999870000000001,
          "observed_growth_rate": 0.999987999988
         },
         {
          "estimated": 0.9997909112871459,
          "estimated_growth_rate": 1.0145083844199259,
          "initial": 0.985493,
          "observed": 0.9999870000000001,
          "observed_growth_rate": 1.0147073596666847
         },
         {
          "estimated": 0.9997909112871459,
          "estimated_growth_rate": 1.0145083844199259,
          "initial": 0.985493,
          "observed": 0.9999870000000001,
          "observed_growth_rate": 1.0147073596666847
         },
         {
          "estimated": 0.9997909112871459,
          "estimated_growth_rate": 1.0145083844199259,
          "initial": 0.985493,
          "observed": 0.9999870000000001,
          "observed_growth_rate": 1.0147073596666847
         },
         {
          "estimated": 0.9997909112871459,
          "estimated_growth_rate": 1.0145083844199259,
          "initial": 0.985493,
          "observed": 0.9999870000000001,
          "observed_growth_rate": 1.0147073596666847
         },
         {
          "estimated": 0.9997909112871459,
          "estimated_growth_rate": 1.0145083844199259,
          "initial": 0.985493,
          "observed": 0.9999870000000001,
          "observed_growth_rate": 1.0147073596666847
         },
         {
          "estimated": 0.9997909112871459,
          "estimated_growth_rate": 1.0145083844199259,
          "initial": 0.985493,
          "observed": 0.9999870000000001,
          "observed_growth_rate": 1.0147073596666847
         },
         {
          "estimated": 0.9997909112871459,
          "estimated_growth_rate": 1.0145083844199259,
          "initial": 0.985493,
          "observed": 0.9999870000000001,
          "observed_growth_rate": 1.0147073596666847
         },
         {
          "estimated": 0.9997909112871459,
          "estimated_growth_rate": 1.0145083844199259,
          "initial": 0.985493,
          "observed": 0.9999870000000001,
          "observed_growth_rate": 1.0147073596666847
         },
         {
          "estimated": 0.9996009394136705,
          "estimated_growth_rate": 1.028151683513147,
          "initial": 0.9722310000000001,
          "observed": 0.9999870000000001,
          "observed_growth_rate": 1.028548770816812
         },
         {
          "estimated": 0.9996009394136705,
          "estimated_growth_rate": 1.028151683513147,
          "initial": 0.9722310000000001,
          "observed": 0.9999870000000001,
          "observed_growth_rate": 1.028548770816812
         },
         {
          "estimated": 0.9996009394136705,
          "estimated_growth_rate": 1.028151683513147,
          "initial": 0.9722310000000001,
          "observed": 0.9999870000000001,
          "observed_growth_rate": 1.028548770816812
         },
         {
          "estimated": 0.9996009394136705,
          "estimated_growth_rate": 1.028151683513147,
          "initial": 0.9722310000000001,
          "observed": 0.9999870000000001,
          "observed_growth_rate": 1.028548770816812
         },
         {
          "estimated": 0.9996009394136705,
          "estimated_growth_rate": 1.028151683513147,
          "initial": 0.9722310000000001,
          "observed": 0.9999870000000001,
          "observed_growth_rate": 1.028548770816812
         },
         {
          "estimated": 0.9996009394136705,
          "estimated_growth_rate": 1.028151683513147,
          "initial": 0.9722310000000001,
          "observed": 0.9999870000000001,
          "observed_growth_rate": 1.028548770816812
         },
         {
          "estimated": 0.9996009394136705,
          "estimated_growth_rate": 1.028151683513147,
          "initial": 0.9722310000000001,
          "observed": 0.9999870000000001,
          "observed_growth_rate": 1.028548770816812
         },
         {
          "estimated": 0.9996009394136705,
          "estimated_growth_rate": 1.028151683513147,
          "initial": 0.9722310000000001,
          "observed": 0.9999870000000001,
          "observed_growth_rate": 1.028548770816812
         },
         {
          "estimated": 0.9995963365855655,
          "estimated_growth_rate": 1.0284886394448503,
          "initial": 0.971908,
          "observed": 0.9999870000000001,
          "observed_growth_rate": 1.0288905945830265
         },
         {
          "estimated": 0.9995963365855655,
          "estimated_growth_rate": 1.0284886394448503,
          "initial": 0.971908,
          "observed": 0.9999870000000001,
          "observed_growth_rate": 1.0288905945830265
         },
         {
          "estimated": 0.9995310276521898,
          "estimated_growth_rate": 1.0332939060317783,
          "initial": 0.967325,
          "observed": 0.9999870000000001,
          "observed_growth_rate": 1.0337652805417001
         },
         {
          "estimated": 0.9994165809697839,
          "estimated_growth_rate": 1.0418251140628252,
          "initial": 0.9592940000000001,
          "observed": 0.9962070000000001,
          "observed_growth_rate": 1.0384793400146357
         },
         {
          "estimated": 0.9994165809697839,
          "estimated_growth_rate": 1.0418251140628252,
          "initial": 0.9592940000000001,
          "observed": 0.9962070000000001,
          "observed_growth_rate": 1.0384793400146357
         },
         {
          "estimated": 0.9994078435197885,
          "estimated_growth_rate": 1.042395178276743,
          "initial": 0.9587610000000001,
          "observed": 0.9962070000000001,
          "observed_growth_rate": 1.039056657498584
         },
         {
          "estimated": 0.9994078435197885,
          "estimated_growth_rate": 1.042395178276743,
          "initial": 0.9587610000000001,
          "observed": 0.9962070000000001,
          "observed_growth_rate": 1.039056657498584
         },
         {
          "estimated": 0.9994078435197885,
          "estimated_growth_rate": 1.042395178276743,
          "initial": 0.9587610000000001,
          "observed": 0.9962070000000001,
          "observed_growth_rate": 1.039056657498584
         },
         {
          "estimated": 0.9994078435197885,
          "estimated_growth_rate": 1.042395178276743,
          "initial": 0.9587610000000001,
          "observed": 0.9962070000000001,
          "observed_growth_rate": 1.039056657498584
         },
         {
          "estimated": 0.9994078435197885,
          "estimated_growth_rate": 1.042395178276743,
          "initial": 0.9587610000000001,
          "observed": 0.9962070000000001,
          "observed_growth_rate": 1.039056657498584
         },
         {
          "estimated": 0.9994078435197885,
          "estimated_growth_rate": 1.042395178276743,
          "initial": 0.9587610000000001,
          "observed": 0.9962070000000001,
          "observed_growth_rate": 1.039056657498584
         },
         {
          "estimated": 0.9994078435197885,
          "estimated_growth_rate": 1.042395178276743,
          "initial": 0.9587610000000001,
          "observed": 0.9962070000000001,
          "observed_growth_rate": 1.039056657498584
         },
         {
          "estimated": 0.999407836782487,
          "estimated_growth_rate": 1.0423962584822968,
          "initial": 0.9587600000000001,
          "observed": 0.9962070000000001,
          "observed_growth_rate": 1.0390577412491135
         },
         {
          "estimated": 0.999407836782487,
          "estimated_growth_rate": 1.0423962584822968,
          "initial": 0.9587600000000001,
          "observed": 0.9962070000000001,
          "observed_growth_rate": 1.0390577412491135
         },
         {
          "estimated": 0.999407836782487,
          "estimated_growth_rate": 1.0423962584822968,
          "initial": 0.9587600000000001,
          "observed": 0.9962070000000001,
          "observed_growth_rate": 1.0390577412491135
         },
         {
          "estimated": 0.999407836782487,
          "estimated_growth_rate": 1.0423962584822968,
          "initial": 0.9587600000000001,
          "observed": 0.9962070000000001,
          "observed_growth_rate": 1.0390577412491135
         },
         {
          "estimated": 0.999407836782487,
          "estimated_growth_rate": 1.0423962584822968,
          "initial": 0.9587600000000001,
          "observed": 0.9962070000000001,
          "observed_growth_rate": 1.0390577412491135
         },
         {
          "estimated": 0.999407836782487,
          "estimated_growth_rate": 1.0423962584822968,
          "initial": 0.9587600000000001,
          "observed": 0.9962070000000001,
          "observed_growth_rate": 1.0390577412491135
         },
         {
          "estimated": 0.999407836782487,
          "estimated_growth_rate": 1.0423962584822968,
          "initial": 0.9587600000000001,
          "observed": 0.9962070000000001,
          "observed_growth_rate": 1.0390577412491135
         },
         {
          "estimated": 0.999407836782487,
          "estimated_growth_rate": 1.0423962584822968,
          "initial": 0.9587600000000001,
          "observed": 0.9962070000000001,
          "observed_growth_rate": 1.0390577412491135
         },
         {
          "estimated": 0.999407836782487,
          "estimated_growth_rate": 1.0423962584822968,
          "initial": 0.9587600000000001,
          "observed": 0.9962070000000001,
          "observed_growth_rate": 1.0390577412491135
         },
         {
          "estimated": 0.999407836782487,
          "estimated_growth_rate": 1.0423962584822968,
          "initial": 0.9587600000000001,
          "observed": 0.9962070000000001,
          "observed_growth_rate": 1.0390577412491135
         },
         {
          "estimated": 0.999407836782487,
          "estimated_growth_rate": 1.0423962584822968,
          "initial": 0.9587600000000001,
          "observed": 0.9962070000000001,
          "observed_growth_rate": 1.0390577412491135
         },
         {
          "estimated": 0.999407836782487,
          "estimated_growth_rate": 1.0423962584822968,
          "initial": 0.9587600000000001,
          "observed": 0.9962070000000001,
          "observed_growth_rate": 1.0390577412491135
         },
         {
          "estimated": 0.999407836782487,
          "estimated_growth_rate": 1.0423962584822968,
          "initial": 0.9587600000000001,
          "observed": 0.9962070000000001,
          "observed_growth_rate": 1.0390577412491135
         },
         {
          "estimated": 0.9994068155698903,
          "estimated_growth_rate": 1.0424723925797525,
          "initial": 0.958689,
          "observed": 0.9962070000000001,
          "observed_growth_rate": 1.0391346933155592
         },
         {
          "estimated": 0.9994068155698903,
          "estimated_growth_rate": 1.0424723925797525,
          "initial": 0.958689,
          "observed": 0.9962070000000001,
          "observed_growth_rate": 1.0391346933155592
         },
         {
          "estimated": 0.9994068155698903,
          "estimated_growth_rate": 1.0424723925797525,
          "initial": 0.958689,
          "observed": 0.9962070000000001,
          "observed_growth_rate": 1.0391346933155592
         },
         {
          "estimated": 0.9993859082064442,
          "estimated_growth_rate": 1.0439315096549298,
          "initial": 0.957329,
          "observed": 0.9962070000000001,
          "observed_growth_rate": 1.0406109080577315
         },
         {
          "estimated": 0.390259772074342,
          "estimated_growth_rate": 0.9669924304522314,
          "initial": 0.40358099999999997,
          "observed": 0.19752099999999997,
          "observed_growth_rate": 0.4894209588657543
         },
         {
          "estimated": 0.3900939328668014,
          "estimated_growth_rate": 0.9909966336248061,
          "initial": 0.393638,
          "observed": 0.19752099999999997,
          "observed_growth_rate": 0.5017833644109562
         },
         {
          "estimated": 0.3890514706971696,
          "estimated_growth_rate": 1.130641476257257,
          "initial": 0.344098,
          "observed": 0.19752099999999997,
          "observed_growth_rate": 0.5740254229899621
         },
         {
          "estimated": 0.38902455826310756,
          "estimated_growth_rate": 1.135274632337548,
          "initial": 0.34267,
          "observed": 0.19752099999999997,
          "observed_growth_rate": 0.5764175445764146
         },
         {
          "estimated": 0.38291572589132905,
          "estimated_growth_rate": 1.4895908982355515,
          "initial": 0.257061,
          "observed": 0.197056,
          "observed_growth_rate": 0.7665729146000366
         },
         {
          "estimated": 0.38291152033336073,
          "estimated_growth_rate": 1.4899860707940416,
          "initial": 0.25699,
          "observed": 0.197056,
          "observed_growth_rate": 0.7667846997937663
         },
         {
          "estimated": 0.382862131269394,
          "estimated_growth_rate": 1.493670608058559,
          "initial": 0.256323,
          "observed": 0.197056,
          "observed_growth_rate": 0.7687800158393902
         },
         {
          "estimated": 0.38276883716684473,
          "estimated_growth_rate": 1.5007423444023194,
          "initial": 0.255053,
          "observed": 0.197056,
          "observed_growth_rate": 0.772608046170796
         },
         {
          "estimated": 0.38273164497050505,
          "estimated_growth_rate": 1.5012380953091857,
          "initial": 0.254944,
          "observed": 0.197056,
          "observed_growth_rate": 0.7729383707794654
         },
         {
          "estimated": 0.382654642733924,
          "estimated_growth_rate": 1.5018314654067793,
          "initial": 0.25479199999999996,
          "observed": 0.197056,
          "observed_growth_rate": 0.773399478790543
         },
         {
          "estimated": 0.3826481896382406,
          "estimated_growth_rate": 1.5018179270702954,
          "initial": 0.25479,
          "observed": 0.197056,
          "observed_growth_rate": 0.7734055496683543
         },
         {
          "estimated": 0.3826355097791379,
          "estimated_growth_rate": 1.501779949523282,
          "initial": 0.25478799999999996,
          "observed": 0.197056,
          "observed_growth_rate": 0.7734116206414746
         },
         {
          "estimated": 0.38200205327977077,
          "estimated_growth_rate": 1.5410641082441272,
          "initial": 0.24788200000000002,
          "observed": 0.197056,
          "observed_growth_rate": 0.7949588917307429
         },
         {
          "estimated": 0.38127208348322317,
          "estimated_growth_rate": 1.547923298431352,
          "initial": 0.246312,
          "observed": 0.197056,
          "observed_growth_rate": 0.800025983305726
         },
         {
          "estimated": 0.3807947251111366,
          "estimated_growth_rate": 1.5973871163203233,
          "initial": 0.23838600000000001,
          "observed": 0.197056,
          "observed_growth_rate": 0.826625724665039
         },
         {
          "estimated": 0.3807947251111366,
          "estimated_growth_rate": 1.5973871163203233,
          "initial": 0.23838600000000001,
          "observed": 0.197056,
          "observed_growth_rate": 0.826625724665039
         },
         {
          "estimated": 0.3794928964538146,
          "estimated_growth_rate": 1.5934233691932995,
          "initial": 0.238162,
          "observed": 0.197056,
          "observed_growth_rate": 0.8274031961438013
         },
         {
          "estimated": 0.37828541935507415,
          "estimated_growth_rate": 1.7658734915277476,
          "initial": 0.21422000000000002,
          "observed": 0.197055,
          "observed_growth_rate": 0.91987209410886
         },
         {
          "estimated": 0.37543231390361803,
          "estimated_growth_rate": 1.9236661999006892,
          "initial": 0.195165,
          "observed": 0.029861000000000002,
          "observed_growth_rate": 0.15300386852150744
         },
         {
          "estimated": 0.3518601159867542,
          "estimated_growth_rate": 1.8060965413193557,
          "initial": 0.194818,
          "observed": 0.029861000000000002,
          "observed_growth_rate": 0.15327639129854534
         },
         {
          "estimated": 0.34961414734264024,
          "estimated_growth_rate": 2.048792499839667,
          "initial": 0.17064400000000002,
          "observed": 0.029861000000000002,
          "observed_growth_rate": 0.17499003773938726
         },
         {
          "estimated": 0.6080590931244574,
          "estimated_growth_rate": 1.1775966448040835,
          "initial": 0.516356,
          "observed": 0.798686,
          "observed_growth_rate": 1.5467739311637707
         },
         {
          "estimated": 0.60805857851433,
          "estimated_growth_rate": 1.1776093318763048,
          "initial": 0.51635,
          "observed": 0.798686,
          "observed_growth_rate": 1.5467919047157936
         },
         {
          "estimated": 0.607909843275866,
          "estimated_growth_rate": 1.1949322704640208,
          "initial": 0.50874,
          "observed": 0.7983210000000001,
          "observed_growth_rate": 1.5692121712466094
         },
         {
          "estimated": 0.6077479379352589,
          "estimated_growth_rate": 1.2161452974593612,
          "initial": 0.49973300000000004,
          "observed": 0.7980320000000001,
          "observed_growth_rate": 1.5969167535463937
         },
         {
          "estimated": 0.6076771479206143,
          "estimated_growth_rate": 1.2272512696492082,
          "initial": 0.495153,
          "observed": 0.7980320000000001,
          "observed_growth_rate": 1.611687700569319
         },
         {
          "estimated": 0.6073290232131928,
          "estimated_growth_rate": 1.2572095612359784,
          "initial": 0.4830770000000001,
          "observed": 0.791763,
          "observed_growth_rate": 1.6389995797771366
         },
         {
          "estimated": 0.6071589534738547,
          "estimated_growth_rate": 1.262203378729967,
          "initial": 0.48103100000000004,
          "observed": 0.791763,
          "observed_growth_rate": 1.6459708417960588
         },
         {
          "estimated": 0.6069805705902352,
          "estimated_growth_rate": 1.2832434553339502,
          "initial": 0.4730050000000001,
          "observed": 0.37749800000000006,
          "observed_growth_rate": 0.7980845868436908
         },
         {
          "estimated": 0.6068919866231322,
          "estimated_growth_rate": 1.28357719991441,
          "initial": 0.4728130000000001,
          "observed": 0.37749800000000006,
          "observed_growth_rate": 0.7984086731963799
         },
         {
          "estimated": 0.6065047440351012,
          "estimated_growth_rate": 1.3270915894671573,
          "initial": 0.457018,
          "observed": 0.37062900000000004,
          "observed_growth_rate": 0.8109724343461309
         },
         {
          "estimated": 0.5489695779243191,
          "estimated_growth_rate": 1.4009972844266796,
          "initial": 0.3918420000000001,
          "observed": 0.29274000000000006,
          "observed_growth_rate": 0.747086836020641
         },
         {
          "estimated": 0.5487167517418015,
          "estimated_growth_rate": 1.4008632948815327,
          "initial": 0.39169899999999996,
          "observed": 0.29274000000000006,
          "observed_growth_rate": 0.7473595796772524
         },
         {
          "estimated": 0.5363659434448932,
          "estimated_growth_rate": 1.8675694409641128,
          "initial": 0.2872,
          "observed": 0.27005400000000007,
          "observed_growth_rate": 0.9402994428969361
         },
         {
          "estimated": 0.5298136077884262,
          "estimated_growth_rate": 2.164306638133083,
          "initial": 0.24479599999999999,
          "observed": 0.2696860000000001,
          "observed_growth_rate": 1.1016764979819935
         },
         {
          "estimated": 0.5293525088911895,
          "estimated_growth_rate": 2.1624848701991897,
          "initial": 0.244789,
          "observed": 0.2696860000000001,
          "observed_growth_rate": 1.101708001585039
         },
         {
          "estimated": 0.5270917880999227,
          "estimated_growth_rate": 2.1533990329773127,
          "initial": 0.244772,
          "observed": 0.2696860000000001,
          "observed_growth_rate": 1.1017845178370078
         },
         {
          "estimated": 0.5264739719840449,
          "estimated_growth_rate": 2.2860354840818276,
          "initial": 0.2303,
          "observed": 0.269612,
          "observed_growth_rate": 1.1706990881458967
         },
         {
          "estimated": 0.5252846732474508,
          "estimated_growth_rate": 2.5262937148492055,
          "initial": 0.207927,
          "observed": 0.269612,
          "observed_growth_rate": 1.2966666185728646
         },
         {
          "estimated": 1,
          "estimated_growth_rate": 0.9999960000159999,
          "initial": 1.0000040000000001,
          "observed": 1.000001,
          "observed_growth_rate": 0.9999970000119998
         },
         {
          "estimated": 1,
          "estimated_growth_rate": 0.9999960000159999,
          "initial": 1.0000040000000001,
          "observed": 1.000001,
          "observed_growth_rate": 0.9999970000119998
         },
         {
          "estimated": 1,
          "estimated_growth_rate": 0.9999960000159999,
          "initial": 1.0000040000000001,
          "observed": 1.000001,
          "observed_growth_rate": 0.9999970000119998
         },
         {
          "estimated": 1,
          "estimated_growth_rate": 0.9999960000159999,
          "initial": 1.0000040000000001,
          "observed": 1.000001,
          "observed_growth_rate": 0.9999970000119998
         },
         {
          "estimated": 1,
          "estimated_growth_rate": 0.9999960000159999,
          "initial": 1.0000040000000001,
          "observed": 1.000001,
          "observed_growth_rate": 0.9999970000119998
         },
         {
          "estimated": 1,
          "estimated_growth_rate": 0.9999960000159999,
          "initial": 1.0000040000000001,
          "observed": 1.000001,
          "observed_growth_rate": 0.9999970000119998
         },
         {
          "estimated": 1,
          "estimated_growth_rate": 0.9999960000159999,
          "initial": 1.0000040000000001,
          "observed": 1.000001,
          "observed_growth_rate": 0.9999970000119998
         },
         {
          "estimated": 1,
          "estimated_growth_rate": 0.9999960000159999,
          "initial": 1.0000040000000001,
          "observed": 1.000001,
          "observed_growth_rate": 0.9999970000119998
         },
         {
          "estimated": 1,
          "estimated_growth_rate": 0.9999960000159999,
          "initial": 1.0000040000000001,
          "observed": 1.000001,
          "observed_growth_rate": 0.9999970000119998
         },
         {
          "estimated": 1,
          "estimated_growth_rate": 0.9999960000159999,
          "initial": 1.0000040000000001,
          "observed": 1.000001,
          "observed_growth_rate": 0.9999970000119998
         },
         {
          "estimated": 1,
          "estimated_growth_rate": 0.9999960000159999,
          "initial": 1.0000040000000001,
          "observed": 1.000001,
          "observed_growth_rate": 0.9999970000119998
         },
         {
          "estimated": 1,
          "estimated_growth_rate": 0.9999960000159999,
          "initial": 1.0000040000000001,
          "observed": 1.000001,
          "observed_growth_rate": 0.9999970000119998
         },
         {
          "estimated": 1,
          "estimated_growth_rate": 0.9999960000159999,
          "initial": 1.0000040000000001,
          "observed": 1.000001,
          "observed_growth_rate": 0.9999970000119998
         },
         {
          "estimated": 1,
          "estimated_growth_rate": 0.9999960000159999,
          "initial": 1.0000040000000001,
          "observed": 1.000001,
          "observed_growth_rate": 0.9999970000119998
         },
         {
          "estimated": 1,
          "estimated_growth_rate": 0.9999960000159999,
          "initial": 1.0000040000000001,
          "observed": 1.000001,
          "observed_growth_rate": 0.9999970000119998
         },
         {
          "estimated": 1,
          "estimated_growth_rate": 0.9999960000159999,
          "initial": 1.0000040000000001,
          "observed": 1.000001,
          "observed_growth_rate": 0.9999970000119998
         },
         {
          "estimated": 1,
          "estimated_growth_rate": 0.9999960000159999,
          "initial": 1.0000040000000001,
          "observed": 1.000001,
          "observed_growth_rate": 0.9999970000119998
         },
         {
          "estimated": 1,
          "estimated_growth_rate": 0.9999960000159999,
          "initial": 1.0000040000000001,
          "observed": 1.000001,
          "observed_growth_rate": 0.9999970000119998
         },
         {
          "estimated": 1,
          "estimated_growth_rate": 0.9999960000159999,
          "initial": 1.0000040000000001,
          "observed": 1.000001,
          "observed_growth_rate": 0.9999970000119998
         },
         {
          "estimated": 1,
          "estimated_growth_rate": 0.9999960000159999,
          "initial": 1.0000040000000001,
          "observed": 1.000001,
          "observed_growth_rate": 0.9999970000119998
         },
         {
          "estimated": 1,
          "estimated_growth_rate": 0.9999960000159999,
          "initial": 1.0000040000000001,
          "observed": 1.000001,
          "observed_growth_rate": 0.9999970000119998
         },
         {
          "estimated": 1,
          "estimated_growth_rate": 0.9999960000159999,
          "initial": 1.0000040000000001,
          "observed": 1.000001,
          "observed_growth_rate": 0.9999970000119998
         },
         {
          "estimated": 1,
          "estimated_growth_rate": 0.9999960000159999,
          "initial": 1.0000040000000001,
          "observed": 1.000001,
          "observed_growth_rate": 0.9999970000119998
         },
         {
          "estimated": 1,
          "estimated_growth_rate": 0.9999960000159999,
          "initial": 1.0000040000000001,
          "observed": 1.000001,
          "observed_growth_rate": 0.9999970000119998
         },
         {
          "estimated": 1,
          "estimated_growth_rate": 0.9999960000159999,
          "initial": 1.0000040000000001,
          "observed": 1.000001,
          "observed_growth_rate": 0.9999970000119998
         },
         {
          "estimated": 1,
          "estimated_growth_rate": 0.9999960000159999,
          "initial": 1.0000040000000001,
          "observed": 1.000001,
          "observed_growth_rate": 0.9999970000119998
         },
         {
          "estimated": 1,
          "estimated_growth_rate": 0.9999960000159999,
          "initial": 1.0000040000000001,
          "observed": 1.000001,
          "observed_growth_rate": 0.9999970000119998
         },
         {
          "estimated": 1,
          "estimated_growth_rate": 0.9999960000159999,
          "initial": 1.0000040000000001,
          "observed": 1.000001,
          "observed_growth_rate": 0.9999970000119998
         },
         {
          "estimated": 1,
          "estimated_growth_rate": 0.9999960000159999,
          "initial": 1.0000040000000001,
          "observed": 1.000001,
          "observed_growth_rate": 0.9999970000119998
         },
         {
          "estimated": 1,
          "estimated_growth_rate": 0.9999960000159999,
          "initial": 1.0000040000000001,
          "observed": 1.000001,
          "observed_growth_rate": 0.9999970000119998
         },
         {
          "estimated": 1,
          "estimated_growth_rate": 0.9999960000159999,
          "initial": 1.0000040000000001,
          "observed": 1.000001,
          "observed_growth_rate": 0.9999970000119998
         },
         {
          "estimated": 1,
          "estimated_growth_rate": 0.9999960000159999,
          "initial": 1.0000040000000001,
          "observed": 1.000001,
          "observed_growth_rate": 0.9999970000119998
         },
         {
          "estimated": 1,
          "estimated_growth_rate": 0.9999960000159999,
          "initial": 1.0000040000000001,
          "observed": 1.000001,
          "observed_growth_rate": 0.9999970000119998
         },
         {
          "estimated": 1,
          "estimated_growth_rate": 0.9999960000159999,
          "initial": 1.0000040000000001,
          "observed": 1.000001,
          "observed_growth_rate": 0.9999970000119998
         },
         {
          "estimated": 1,
          "estimated_growth_rate": 0.9999960000159999,
          "initial": 1.0000040000000001,
          "observed": 1.000001,
          "observed_growth_rate": 0.9999970000119998
         },
         {
          "estimated": 1,
          "estimated_growth_rate": 0.9999960000159999,
          "initial": 1.0000040000000001,
          "observed": 1.000001,
          "observed_growth_rate": 0.9999970000119998
         },
         {
          "estimated": 1,
          "estimated_growth_rate": 0.9999960000159999,
          "initial": 1.0000040000000001,
          "observed": 1.000001,
          "observed_growth_rate": 0.9999970000119998
         },
         {
          "estimated": 1,
          "estimated_growth_rate": 0.9999960000159999,
          "initial": 1.0000040000000001,
          "observed": 1.000001,
          "observed_growth_rate": 0.9999970000119998
         },
         {
          "estimated": 1,
          "estimated_growth_rate": 0.9999960000159999,
          "initial": 1.0000040000000001,
          "observed": 1.000001,
          "observed_growth_rate": 0.9999970000119998
         },
         {
          "estimated": 1,
          "estimated_growth_rate": 0.9999960000159999,
          "initial": 1.0000040000000001,
          "observed": 1.000001,
          "observed_growth_rate": 0.9999970000119998
         },
         {
          "estimated": 1,
          "estimated_growth_rate": 0.9999960000159999,
          "initial": 1.0000040000000001,
          "observed": 1.000001,
          "observed_growth_rate": 0.9999970000119998
         },
         {
          "estimated": 1,
          "estimated_growth_rate": 0.9999960000159999,
          "initial": 1.0000040000000001,
          "observed": 1.000001,
          "observed_growth_rate": 0.9999970000119998
         },
         {
          "estimated": 1,
          "estimated_growth_rate": 0.9999960000159999,
          "initial": 1.0000040000000001,
          "observed": 1.000001,
          "observed_growth_rate": 0.9999970000119998
         },
         {
          "estimated": 1,
          "estimated_growth_rate": 0.9999960000159999,
          "initial": 1.0000040000000001,
          "observed": 1.000001,
          "observed_growth_rate": 0.9999970000119998
         },
         {
          "estimated": 1,
          "estimated_growth_rate": 0.9999960000159999,
          "initial": 1.0000040000000001,
          "observed": 1.000001,
          "observed_growth_rate": 0.9999970000119998
         },
         {
          "estimated": 1,
          "estimated_growth_rate": 0.9999960000159999,
          "initial": 1.0000040000000001,
          "observed": 1.000001,
          "observed_growth_rate": 0.9999970000119998
         },
         {
          "estimated": 1,
          "estimated_growth_rate": 0.9999960000159999,
          "initial": 1.0000040000000001,
          "observed": 1.000001,
          "observed_growth_rate": 0.9999970000119998
         },
         {
          "estimated": 1,
          "estimated_growth_rate": 0.9999960000159999,
          "initial": 1.0000040000000001,
          "observed": 1.000001,
          "observed_growth_rate": 0.9999970000119998
         },
         {
          "estimated": 1,
          "estimated_growth_rate": 0.9999960000159999,
          "initial": 1.0000040000000001,
          "observed": 1.000001,
          "observed_growth_rate": 0.9999970000119998
         },
         {
          "estimated": 1,
          "estimated_growth_rate": 0.9999960000159999,
          "initial": 1.0000040000000001,
          "observed": 1.000001,
          "observed_growth_rate": 0.9999970000119998
         },
         {
          "estimated": 1,
          "estimated_growth_rate": 0.9999960000159999,
          "initial": 1.0000040000000001,
          "observed": 1.000001,
          "observed_growth_rate": 0.9999970000119998
         },
         {
          "estimated": 1,
          "estimated_growth_rate": 0.9999960000159999,
          "initial": 1.0000040000000001,
          "observed": 1.000001,
          "observed_growth_rate": 0.9999970000119998
         },
         {
          "estimated": 1,
          "estimated_growth_rate": 0.9999960000159999,
          "initial": 1.0000040000000001,
          "observed": 1.000001,
          "observed_growth_rate": 0.9999970000119998
         },
         {
          "estimated": 1,
          "estimated_growth_rate": 0.9999960000159999,
          "initial": 1.0000040000000001,
          "observed": 1.000001,
          "observed_growth_rate": 0.9999970000119998
         },
         {
          "estimated": 1,
          "estimated_growth_rate": 0.9999960000159999,
          "initial": 1.0000040000000001,
          "observed": 1.000001,
          "observed_growth_rate": 0.9999970000119998
         },
         {
          "estimated": 1,
          "estimated_growth_rate": 0.9999960000159999,
          "initial": 1.0000040000000001,
          "observed": 1.000001,
          "observed_growth_rate": 0.9999970000119998
         },
         {
          "estimated": 1,
          "estimated_growth_rate": 0.9999960000159999,
          "initial": 1.0000040000000001,
          "observed": 1.000001,
          "observed_growth_rate": 0.9999970000119998
         },
         {
          "estimated": 1,
          "estimated_growth_rate": 0.9999960000159999,
          "initial": 1.0000040000000001,
          "observed": 1.000001,
          "observed_growth_rate": 0.9999970000119998
         },
         {
          "estimated": 1,
          "estimated_growth_rate": 0.9999960000159999,
          "initial": 1.0000040000000001,
          "observed": 1.000001,
          "observed_growth_rate": 0.9999970000119998
         },
         {
          "estimated": 1,
          "estimated_growth_rate": 0.9999960000159999,
          "initial": 1.0000040000000001,
          "observed": 1.000001,
          "observed_growth_rate": 0.9999970000119998
         },
         {
          "estimated": 1,
          "estimated_growth_rate": 0.9999960000159999,
          "initial": 1.0000040000000001,
          "observed": 1.000001,
          "observed_growth_rate": 0.9999970000119998
         },
         {
          "estimated": 1,
          "estimated_growth_rate": 0.9999960000159999,
          "initial": 1.0000040000000001,
          "observed": 1.000001,
          "observed_growth_rate": 0.9999970000119998
         },
         {
          "estimated": 1,
          "estimated_growth_rate": 0.9999960000159999,
          "initial": 1.0000040000000001,
          "observed": 1.000001,
          "observed_growth_rate": 0.9999970000119998
         },
         {
          "estimated": 1,
          "estimated_growth_rate": 0.9999960000159999,
          "initial": 1.0000040000000001,
          "observed": 1.000001,
          "observed_growth_rate": 0.9999970000119998
         },
         {
          "estimated": 1,
          "estimated_growth_rate": 0.9999960000159999,
          "initial": 1.0000040000000001,
          "observed": 1.000001,
          "observed_growth_rate": 0.9999970000119998
         },
         {
          "estimated": 1,
          "estimated_growth_rate": 0.9999960000159999,
          "initial": 1.0000040000000001,
          "observed": 1.000001,
          "observed_growth_rate": 0.9999970000119998
         },
         {
          "estimated": 1,
          "estimated_growth_rate": 0.9999960000159999,
          "initial": 1.0000040000000001,
          "observed": 1.000001,
          "observed_growth_rate": 0.9999970000119998
         },
         {
          "estimated": 1,
          "estimated_growth_rate": 0.9999960000159999,
          "initial": 1.0000040000000001,
          "observed": 1.000001,
          "observed_growth_rate": 0.9999970000119998
         },
         {
          "estimated": 1,
          "estimated_growth_rate": 0.9999960000159999,
          "initial": 1.0000040000000001,
          "observed": 1.000001,
          "observed_growth_rate": 0.9999970000119998
         },
         {
          "estimated": 1,
          "estimated_growth_rate": 0.9999960000159999,
          "initial": 1.0000040000000001,
          "observed": 1.000001,
          "observed_growth_rate": 0.9999970000119998
         },
         {
          "estimated": 1,
          "estimated_growth_rate": 0.9999960000159999,
          "initial": 1.0000040000000001,
          "observed": 1.000001,
          "observed_growth_rate": 0.9999970000119998
         },
         {
          "estimated": 1,
          "estimated_growth_rate": 0.9999960000159999,
          "initial": 1.0000040000000001,
          "observed": 1.000001,
          "observed_growth_rate": 0.9999970000119998
         },
         {
          "estimated": 1,
          "estimated_growth_rate": 0.9999960000159999,
          "initial": 1.0000040000000001,
          "observed": 1.000001,
          "observed_growth_rate": 0.9999970000119998
         },
         {
          "estimated": 1,
          "estimated_growth_rate": 0.9999960000159999,
          "initial": 1.0000040000000001,
          "observed": 1.000001,
          "observed_growth_rate": 0.9999970000119998
         },
         {
          "estimated": 1,
          "estimated_growth_rate": 0.9999960000159999,
          "initial": 1.0000040000000001,
          "observed": 1.000001,
          "observed_growth_rate": 0.9999970000119998
         },
         {
          "estimated": 1,
          "estimated_growth_rate": 0.9999960000159999,
          "initial": 1.0000040000000001,
          "observed": 1.000001,
          "observed_growth_rate": 0.9999970000119998
         },
         {
          "estimated": 1,
          "estimated_growth_rate": 0.9999960000159999,
          "initial": 1.0000040000000001,
          "observed": 1.000001,
          "observed_growth_rate": 0.9999970000119998
         },
         {
          "estimated": 1,
          "estimated_growth_rate": 0.9999960000159999,
          "initial": 1.0000040000000001,
          "observed": 1.000001,
          "observed_growth_rate": 0.9999970000119998
         },
         {
          "estimated": 1,
          "estimated_growth_rate": 0.9999960000159999,
          "initial": 1.0000040000000001,
          "observed": 1.000001,
          "observed_growth_rate": 0.9999970000119998
         },
         {
          "estimated": 1,
          "estimated_growth_rate": 0.9999960000159999,
          "initial": 1.0000040000000001,
          "observed": 1.000001,
          "observed_growth_rate": 0.9999970000119998
         },
         {
          "estimated": 1,
          "estimated_growth_rate": 0.9999960000159999,
          "initial": 1.0000040000000001,
          "observed": 1.000001,
          "observed_growth_rate": 0.9999970000119998
         },
         {
          "estimated": 1,
          "estimated_growth_rate": 0.9999960000159999,
          "initial": 1.0000040000000001,
          "observed": 1.000001,
          "observed_growth_rate": 0.9999970000119998
         },
         {
          "estimated": 1,
          "estimated_growth_rate": 0.9999960000159999,
          "initial": 1.0000040000000001,
          "observed": 1.000001,
          "observed_growth_rate": 0.9999970000119998
         },
         {
          "estimated": 1,
          "estimated_growth_rate": 0.9999960000159999,
          "initial": 1.0000040000000001,
          "observed": 1.000001,
          "observed_growth_rate": 0.9999970000119998
         },
         {
          "estimated": 1,
          "estimated_growth_rate": 0.9999960000159999,
          "initial": 1.0000040000000001,
          "observed": 1.000001,
          "observed_growth_rate": 0.9999970000119998
         },
         {
          "estimated": 1,
          "estimated_growth_rate": 0.9999960000159999,
          "initial": 1.0000040000000001,
          "observed": 1.000001,
          "observed_growth_rate": 0.9999970000119998
         },
         {
          "estimated": 1,
          "estimated_growth_rate": 0.9999960000159999,
          "initial": 1.0000040000000001,
          "observed": 1.000001,
          "observed_growth_rate": 0.9999970000119998
         },
         {
          "estimated": 1,
          "estimated_growth_rate": 0.9999960000159999,
          "initial": 1.0000040000000001,
          "observed": 1.000001,
          "observed_growth_rate": 0.9999970000119998
         },
         {
          "estimated": 1,
          "estimated_growth_rate": 0.9999960000159999,
          "initial": 1.0000040000000001,
          "observed": 1.000001,
          "observed_growth_rate": 0.9999970000119998
         },
         {
          "estimated": 1,
          "estimated_growth_rate": 0.9999960000159999,
          "initial": 1.0000040000000001,
          "observed": 1.000001,
          "observed_growth_rate": 0.9999970000119998
         },
         {
          "estimated": 1,
          "estimated_growth_rate": 0.9999960000159999,
          "initial": 1.0000040000000001,
          "observed": 1.000001,
          "observed_growth_rate": 0.9999970000119998
         },
         {
          "estimated": 1,
          "estimated_growth_rate": 0.9999960000159999,
          "initial": 1.0000040000000001,
          "observed": 1.000001,
          "observed_growth_rate": 0.9999970000119998
         },
         {
          "estimated": 1,
          "estimated_growth_rate": 0.9999960000159999,
          "initial": 1.0000040000000001,
          "observed": 1.000001,
          "observed_growth_rate": 0.9999970000119998
         },
         {
          "estimated": 1,
          "estimated_growth_rate": 0.9999960000159999,
          "initial": 1.0000040000000001,
          "observed": 1.000001,
          "observed_growth_rate": 0.9999970000119998
         },
         {
          "estimated": 1,
          "estimated_growth_rate": 0.9999960000159999,
          "initial": 1.0000040000000001,
          "observed": 1.000001,
          "observed_growth_rate": 0.9999970000119998
         },
         {
          "estimated": 1,
          "estimated_growth_rate": 0.9999960000159999,
          "initial": 1.0000040000000001,
          "observed": 1.000001,
          "observed_growth_rate": 0.9999970000119998
         },
         {
          "estimated": 1,
          "estimated_growth_rate": 0.9999960000159999,
          "initial": 1.0000040000000001,
          "observed": 1.000001,
          "observed_growth_rate": 0.9999970000119998
         },
         {
          "estimated": 1,
          "estimated_growth_rate": 0.9999960000159999,
          "initial": 1.0000040000000001,
          "observed": 1.000001,
          "observed_growth_rate": 0.9999970000119998
         },
         {
          "estimated": 1,
          "estimated_growth_rate": 0.9999960000159999,
          "initial": 1.0000040000000001,
          "observed": 1.000001,
          "observed_growth_rate": 0.9999970000119998
         },
         {
          "estimated": 1,
          "estimated_growth_rate": 0.9999960000159999,
          "initial": 1.0000040000000001,
          "observed": 1.000001,
          "observed_growth_rate": 0.9999970000119998
         },
         {
          "estimated": 0.9999999799420157,
          "estimated_growth_rate": 1.0000069799908757,
          "initial": 0.999993,
          "observed": 1.000001,
          "observed_growth_rate": 1.0000080000560003
         },
         {
          "estimated": 0.9999999799420157,
          "estimated_growth_rate": 1.0000069799908757,
          "initial": 0.999993,
          "observed": 1.000001,
          "observed_growth_rate": 1.0000080000560003
         },
         {
          "estimated": 0.9999999799420157,
          "estimated_growth_rate": 1.0000069799908757,
          "initial": 0.999993,
          "observed": 1.000001,
          "observed_growth_rate": 1.0000080000560003
         },
         {
          "estimated": 0.9999999799420157,
          "estimated_growth_rate": 1.0000069799908757,
          "initial": 0.999993,
          "observed": 1.000001,
          "observed_growth_rate": 1.0000080000560003
         },
         {
          "estimated": 0.9999999799420157,
          "estimated_growth_rate": 1.0000069799908757,
          "initial": 0.999993,
          "observed": 1.000001,
          "observed_growth_rate": 1.0000080000560003
         },
         {
          "estimated": 0.9999999799420157,
          "estimated_growth_rate": 1.0000069799908757,
          "initial": 0.999993,
          "observed": 1.000001,
          "observed_growth_rate": 1.0000080000560003
         },
         {
          "estimated": 0.9999999799420157,
          "estimated_growth_rate": 1.0000069799908757,
          "initial": 0.999993,
          "observed": 1.000001,
          "observed_growth_rate": 1.0000080000560003
         },
         {
          "estimated": 0.9999999799420157,
          "estimated_growth_rate": 1.0000069799908757,
          "initial": 0.999993,
          "observed": 1.000001,
          "observed_growth_rate": 1.0000080000560003
         },
         {
          "estimated": 0.9999999799420157,
          "estimated_growth_rate": 1.0000069799908757,
          "initial": 0.999993,
          "observed": 1.000001,
          "observed_growth_rate": 1.0000080000560003
         },
         {
          "estimated": 0.9999999799420157,
          "estimated_growth_rate": 1.0000069799908757,
          "initial": 0.999993,
          "observed": 1.000001,
          "observed_growth_rate": 1.0000080000560003
         },
         {
          "estimated": 0.9999945752060376,
          "estimated_growth_rate": 1.0029744121846382,
          "initial": 0.9970289999999999,
          "observed": 1.000001,
          "observed_growth_rate": 1.002980856123543
         },
         {
          "estimated": 0.9999945749785827,
          "estimated_growth_rate": 1.0029754179206427,
          "initial": 0.997028,
          "observed": 1.000001,
          "observed_growth_rate": 1.0029818620941438
         },
         {
          "estimated": 0.9999945749785827,
          "estimated_growth_rate": 1.0029754179206427,
          "initial": 0.997028,
          "observed": 1.000001,
          "observed_growth_rate": 1.0029818620941438
         },
         {
          "estimated": 0.9999945749785827,
          "estimated_growth_rate": 1.0029754179206427,
          "initial": 0.997028,
          "observed": 1.000001,
          "observed_growth_rate": 1.0029818620941438
         },
         {
          "estimated": 0.9999945749785827,
          "estimated_growth_rate": 1.0029754179206427,
          "initial": 0.997028,
          "observed": 1.000001,
          "observed_growth_rate": 1.0029818620941438
         },
         {
          "estimated": 0.9999945749785827,
          "estimated_growth_rate": 1.0029754179206427,
          "initial": 0.997028,
          "observed": 1.000001,
          "observed_growth_rate": 1.0029818620941438
         },
         {
          "estimated": 0.9999945749785827,
          "estimated_growth_rate": 1.0029754179206427,
          "initial": 0.997028,
          "observed": 1.000001,
          "observed_growth_rate": 1.0029818620941438
         },
         {
          "estimated": 0.9999945749785827,
          "estimated_growth_rate": 1.0029754179206427,
          "initial": 0.997028,
          "observed": 1.000001,
          "observed_growth_rate": 1.0029818620941438
         },
         {
          "estimated": 0.9999945749785827,
          "estimated_growth_rate": 1.0029754179206427,
          "initial": 0.997028,
          "observed": 1.000001,
          "observed_growth_rate": 1.0029818620941438
         },
         {
          "estimated": 0.9999945749785827,
          "estimated_growth_rate": 1.0029754179206427,
          "initial": 0.997028,
          "observed": 1.000001,
          "observed_growth_rate": 1.0029818620941438
         },
         {
          "estimated": 0.9999945749785827,
          "estimated_growth_rate": 1.0029754179206427,
          "initial": 0.997028,
          "observed": 1.000001,
          "observed_growth_rate": 1.0029818620941438
         },
         {
          "estimated": 0.9999945749785827,
          "estimated_growth_rate": 1.0029754179206427,
          "initial": 0.997028,
          "observed": 1.000001,
          "observed_growth_rate": 1.0029818620941438
         },
         {
          "estimated": 0.9999945749785827,
          "estimated_growth_rate": 1.0029754179206427,
          "initial": 0.997028,
          "observed": 1.000001,
          "observed_growth_rate": 1.0029818620941438
         },
         {
          "estimated": 0.9999945749785827,
          "estimated_growth_rate": 1.0029754179206427,
          "initial": 0.997028,
          "observed": 1.000001,
          "observed_growth_rate": 1.0029818620941438
         },
         {
          "estimated": 0.9999945749785827,
          "estimated_growth_rate": 1.0029754179206427,
          "initial": 0.997028,
          "observed": 1.000001,
          "observed_growth_rate": 1.0029818620941438
         },
         {
          "estimated": 0.9999945749785827,
          "estimated_growth_rate": 1.0029754179206427,
          "initial": 0.997028,
          "observed": 1.000001,
          "observed_growth_rate": 1.0029818620941438
         },
         {
          "estimated": 0.9999945749785827,
          "estimated_growth_rate": 1.0029754179206427,
          "initial": 0.997028,
          "observed": 1.000001,
          "observed_growth_rate": 1.0029818620941438
         },
         {
          "estimated": 0.9999945749785827,
          "estimated_growth_rate": 1.0029754179206427,
          "initial": 0.997028,
          "observed": 1.000001,
          "observed_growth_rate": 1.0029818620941438
         },
         {
          "estimated": 0.9999945749785827,
          "estimated_growth_rate": 1.0029754179206427,
          "initial": 0.997028,
          "observed": 1.000001,
          "observed_growth_rate": 1.0029818620941438
         },
         {
          "estimated": 0.9999945749785827,
          "estimated_growth_rate": 1.0029754179206427,
          "initial": 0.997028,
          "observed": 1.000001,
          "observed_growth_rate": 1.0029818620941438
         },
         {
          "estimated": 0.9999945749785827,
          "estimated_growth_rate": 1.0029754179206427,
          "initial": 0.997028,
          "observed": 1.000001,
          "observed_growth_rate": 1.0029818620941438
         },
         {
          "estimated": 0.9999945749785827,
          "estimated_growth_rate": 1.0029754179206427,
          "initial": 0.997028,
          "observed": 1.000001,
          "observed_growth_rate": 1.0029818620941438
         },
         {
          "estimated": 0.9999945749785827,
          "estimated_growth_rate": 1.0029754179206427,
          "initial": 0.997028,
          "observed": 1.000001,
          "observed_growth_rate": 1.0029818620941438
         },
         {
          "estimated": 0.9999945749785827,
          "estimated_growth_rate": 1.0029754179206427,
          "initial": 0.997028,
          "observed": 1.000001,
          "observed_growth_rate": 1.0029818620941438
         },
         {
          "estimated": 0.9999945749785827,
          "estimated_growth_rate": 1.0029754179206427,
          "initial": 0.997028,
          "observed": 1.000001,
          "observed_growth_rate": 1.0029818620941438
         },
         {
          "estimated": 0.9999945749785827,
          "estimated_growth_rate": 1.0029754179206427,
          "initial": 0.997028,
          "observed": 1.000001,
          "observed_growth_rate": 1.0029818620941438
         },
         {
          "estimated": 0.9999945749785827,
          "estimated_growth_rate": 1.0029754179206427,
          "initial": 0.997028,
          "observed": 1.000001,
          "observed_growth_rate": 1.0029818620941438
         },
         {
          "estimated": 0.0714751055143665,
          "estimated_growth_rate": 0.2842189825566608,
          "initial": 0.251479,
          "observed": 0.522098,
          "observed_growth_rate": 2.0761097348088704
         },
         {
          "estimated": 0.07147475842447763,
          "estimated_growth_rate": 0.28442797222555993,
          "initial": 0.251293,
          "observed": 0.522098,
          "observed_growth_rate": 2.07764641275324
         },
         {
          "estimated": 0.07147460487570112,
          "estimated_growth_rate": 0.2844839652276923,
          "initial": 0.25124300000000005,
          "observed": 0.522098,
          "observed_growth_rate": 2.0780598862455864
         },
         {
          "estimated": 0.07147460487570112,
          "estimated_growth_rate": 0.2844839652276923,
          "initial": 0.25124300000000005,
          "observed": 0.522098,
          "observed_growth_rate": 2.0780598862455864
         },
         {
          "estimated": 0.07143520802754554,
          "estimated_growth_rate": 0.30681931934949225,
          "initial": 0.232825,
          "observed": 0.522098,
          "observed_growth_rate": 2.24244819070117
         },
         {
          "estimated": 0.07143520802754554,
          "estimated_growth_rate": 0.30681931934949225,
          "initial": 0.232825,
          "observed": 0.522098,
          "observed_growth_rate": 2.24244819070117
         },
         {
          "estimated": 0.07143520802754554,
          "estimated_growth_rate": 0.30681931934949225,
          "initial": 0.232825,
          "observed": 0.522098,
          "observed_growth_rate": 2.24244819070117
         },
         {
          "estimated": 0.07143520802754554,
          "estimated_growth_rate": 0.30681931934949225,
          "initial": 0.232825,
          "observed": 0.522098,
          "observed_growth_rate": 2.24244819070117
         },
         {
          "estimated": 0.07143520802754554,
          "estimated_growth_rate": 0.30681931934949225,
          "initial": 0.232825,
          "observed": 0.522098,
          "observed_growth_rate": 2.24244819070117
         },
         {
          "estimated": 0.07143520802754554,
          "estimated_growth_rate": 0.30681931934949225,
          "initial": 0.232825,
          "observed": 0.522098,
          "observed_growth_rate": 2.24244819070117
         },
         {
          "estimated": 0.07143520802754554,
          "estimated_growth_rate": 0.30681931934949225,
          "initial": 0.232825,
          "observed": 0.522098,
          "observed_growth_rate": 2.24244819070117
         },
         {
          "estimated": 0.07143520802754554,
          "estimated_growth_rate": 0.30681931934949225,
          "initial": 0.232825,
          "observed": 0.522098,
          "observed_growth_rate": 2.24244819070117
         },
         {
          "estimated": 0.07143520802754554,
          "estimated_growth_rate": 0.30681931934949225,
          "initial": 0.232825,
          "observed": 0.522098,
          "observed_growth_rate": 2.24244819070117
         },
         {
          "estimated": 0.07143520802754554,
          "estimated_growth_rate": 0.30681931934949225,
          "initial": 0.232825,
          "observed": 0.522098,
          "observed_growth_rate": 2.24244819070117
         },
         {
          "estimated": 0.07143520802754554,
          "estimated_growth_rate": 0.30681931934949225,
          "initial": 0.232825,
          "observed": 0.522098,
          "observed_growth_rate": 2.24244819070117
         },
         {
          "estimated": 0.07141790090808135,
          "estimated_growth_rate": 0.3145456347167876,
          "initial": 0.22705100000000003,
          "observed": 0.522098,
          "observed_growth_rate": 2.2994745673879433
         },
         {
          "estimated": 0.07141790090808135,
          "estimated_growth_rate": 0.3145456347167876,
          "initial": 0.22705100000000003,
          "observed": 0.522098,
          "observed_growth_rate": 2.2994745673879433
         },
         {
          "estimated": 0.07136937598484815,
          "estimated_growth_rate": 0.3233143337947212,
          "initial": 0.22074300000000002,
          "observed": 0.522098,
          "observed_growth_rate": 2.3651848529738198
         },
         {
          "estimated": 0.928519469464216,
          "estimated_growth_rate": 1.245417094603059,
          "initial": 0.745549,
          "observed": 0.47790299999999997,
          "observed_growth_rate": 0.6410081698184827
         },
         {
          "estimated": 0.928519469464216,
          "estimated_growth_rate": 1.245417094603059,
          "initial": 0.745549,
          "observed": 0.47790299999999997,
          "observed_growth_rate": 0.6410081698184827
         },
         {
          "estimated": 0.9283693297625157,
          "estimated_growth_rate": 1.2758354631343873,
          "initial": 0.727656,
          "observed": 0.47790299999999997,
          "observed_growth_rate": 0.6567705069428411
         },
         {
          "estimated": 0.928245958744806,
          "estimated_growth_rate": 1.305996224792448,
          "initial": 0.7107570000000001,
          "observed": 0.47790299999999997,
          "observed_growth_rate": 0.6723859209265612
         },
         {
          "estimated": 0.9282405921504266,
          "estimated_growth_rate": 1.3108706163596426,
          "initial": 0.70811,
          "observed": 0.47790299999999997,
          "observed_growth_rate": 0.6748993800398243
         },
         {
          "estimated": 0.9282405921504266,
          "estimated_growth_rate": 1.3108706163596426,
          "initial": 0.70811,
          "observed": 0.47790299999999997,
          "observed_growth_rate": 0.6748993800398243
         },
         {
          "estimated": 0.9282405921504266,
          "estimated_growth_rate": 1.3108706163596426,
          "initial": 0.70811,
          "observed": 0.47790299999999997,
          "observed_growth_rate": 0.6748993800398243
         },
         {
          "estimated": 0.5852014494470804,
          "estimated_growth_rate": 0.9662529711496606,
          "initial": 0.60564,
          "observed": 0.213178,
          "observed_growth_rate": 0.3519879796578826
         },
         {
          "estimated": 0.5852014494470804,
          "estimated_growth_rate": 0.9662529711496606,
          "initial": 0.60564,
          "observed": 0.213178,
          "observed_growth_rate": 0.3519879796578826
         },
         {
          "estimated": 0.5852007459778392,
          "estimated_growth_rate": 0.966748241002561,
          "initial": 0.605329,
          "observed": 0.20422600000000002,
          "observed_growth_rate": 0.33738016847036906
         },
         {
          "estimated": 0.584051410216077,
          "estimated_growth_rate": 1.0523771182470039,
          "initial": 0.554983,
          "observed": 0.175719,
          "observed_growth_rate": 0.316620509096675
         },
         {
          "estimated": 0.584051410216077,
          "estimated_growth_rate": 1.0523771182470039,
          "initial": 0.554983,
          "observed": 0.175719,
          "observed_growth_rate": 0.316620509096675
         },
         {
          "estimated": 0.5804608412904247,
          "estimated_growth_rate": 1.214864077343035,
          "initial": 0.477799,
          "observed": 0.17363,
          "observed_growth_rate": 0.36339548638653496
         },
         {
          "estimated": 0.5803591127754628,
          "estimated_growth_rate": 1.2782142344059935,
          "initial": 0.45403899999999997,
          "observed": 0.17363,
          "observed_growth_rate": 0.3824120835434842
         },
         {
          "estimated": 0.5803591127754628,
          "estimated_growth_rate": 1.2782142344059935,
          "initial": 0.45403899999999997,
          "observed": 0.17363,
          "observed_growth_rate": 0.3824120835434842
         },
         {
          "estimated": 0.5803591127754628,
          "estimated_growth_rate": 1.2782142344059935,
          "initial": 0.45403899999999997,
          "observed": 0.17363,
          "observed_growth_rate": 0.3824120835434842
         },
         {
          "estimated": 0.5802658752819428,
          "estimated_growth_rate": 1.331394995977686,
          "initial": 0.435833,
          "observed": 0.17363,
          "observed_growth_rate": 0.3983865379629353
         },
         {
          "estimated": 0.5802124964261534,
          "estimated_growth_rate": 1.352937121785394,
          "initial": 0.428854,
          "observed": 0.17363,
          "observed_growth_rate": 0.40486972256292353
         },
         {
          "estimated": 0.5051375446058327,
          "estimated_growth_rate": 2.2512291243357687,
          "initial": 0.22438299999999997,
          "observed": 0.000368,
          "observed_growth_rate": 0.0016400529451874699
         },
         {
          "estimated": 0.5050972993952495,
          "estimated_growth_rate": 2.306938662759707,
          "initial": 0.218947,
          "observed": 0.000368,
          "observed_growth_rate": 0.0016807720589914455
         },
         {
          "estimated": 0.5050972993952495,
          "estimated_growth_rate": 2.306938662759707,
          "initial": 0.218947,
          "observed": 0.000368,
          "observed_growth_rate": 0.0016807720589914455
         },
         {
          "estimated": 0.5050972993952495,
          "estimated_growth_rate": 2.306938662759707,
          "initial": 0.218947,
          "observed": 0.000368,
          "observed_growth_rate": 0.0016807720589914455
         },
         {
          "estimated": 0.5050972993952495,
          "estimated_growth_rate": 2.306938662759707,
          "initial": 0.218947,
          "observed": 0.000368,
          "observed_growth_rate": 0.0016807720589914455
         },
         {
          "estimated": 0.5049925233236219,
          "estimated_growth_rate": 2.4389058245971973,
          "initial": 0.207057,
          "observed": 0.000368,
          "observed_growth_rate": 0.0017772883795283425
         },
         {
          "estimated": 0.5045678322237623,
          "estimated_growth_rate": 2.736535194453701,
          "initial": 0.18438200000000002,
          "observed": 0.000368,
          "observed_growth_rate": 0.0019958564285016975
         },
         {
          "estimated": 0.07507495182032052,
          "estimated_growth_rate": 0.3671667464839538,
          "initial": 0.204471,
          "observed": 0.173262,
          "observed_growth_rate": 0.8473671082940857
         },
         {
          "estimated": 1,
          "estimated_growth_rate": 1.0000130001690022,
          "initial": 0.9999870000000001,
          "observed": 0.999991,
          "observed_growth_rate": 1.0000040000520005
         },
         {
          "estimated": 1,
          "estimated_growth_rate": 1.0000130001690022,
          "initial": 0.9999870000000001,
          "observed": 0.999991,
          "observed_growth_rate": 1.0000040000520005
         },
         {
          "estimated": 1,
          "estimated_growth_rate": 1.0000130001690022,
          "initial": 0.9999870000000001,
          "observed": 0.999991,
          "observed_growth_rate": 1.0000040000520005
         },
         {
          "estimated": 1,
          "estimated_growth_rate": 1.0000130001690022,
          "initial": 0.9999870000000001,
          "observed": 0.999991,
          "observed_growth_rate": 1.0000040000520005
         },
         {
          "estimated": 1,
          "estimated_growth_rate": 1.0000130001690022,
          "initial": 0.9999870000000001,
          "observed": 0.999991,
          "observed_growth_rate": 1.0000040000520005
         },
         {
          "estimated": 1,
          "estimated_growth_rate": 1.0000130001690022,
          "initial": 0.9999870000000001,
          "observed": 0.999991,
          "observed_growth_rate": 1.0000040000520005
         },
         {
          "estimated": 1,
          "estimated_growth_rate": 1.0000130001690022,
          "initial": 0.9999870000000001,
          "observed": 0.999991,
          "observed_growth_rate": 1.0000040000520005
         },
         {
          "estimated": 1,
          "estimated_growth_rate": 1.0000130001690022,
          "initial": 0.9999870000000001,
          "observed": 0.999991,
          "observed_growth_rate": 1.0000040000520005
         },
         {
          "estimated": 1,
          "estimated_growth_rate": 1.0000130001690022,
          "initial": 0.9999870000000001,
          "observed": 0.999991,
          "observed_growth_rate": 1.0000040000520005
         },
         {
          "estimated": 1,
          "estimated_growth_rate": 1.0000130001690022,
          "initial": 0.9999870000000001,
          "observed": 0.999991,
          "observed_growth_rate": 1.0000040000520005
         },
         {
          "estimated": 1,
          "estimated_growth_rate": 1.0000130001690022,
          "initial": 0.9999870000000001,
          "observed": 0.999991,
          "observed_growth_rate": 1.0000040000520005
         },
         {
          "estimated": 1,
          "estimated_growth_rate": 1.0000130001690022,
          "initial": 0.9999870000000001,
          "observed": 0.999991,
          "observed_growth_rate": 1.0000040000520005
         },
         {
          "estimated": 1,
          "estimated_growth_rate": 1.0000130001690022,
          "initial": 0.9999870000000001,
          "observed": 0.999991,
          "observed_growth_rate": 1.0000040000520005
         },
         {
          "estimated": 1,
          "estimated_growth_rate": 1.0000130001690022,
          "initial": 0.9999870000000001,
          "observed": 0.999991,
          "observed_growth_rate": 1.0000040000520005
         },
         {
          "estimated": 1,
          "estimated_growth_rate": 1.0000130001690022,
          "initial": 0.9999870000000001,
          "observed": 0.999991,
          "observed_growth_rate": 1.0000040000520005
         },
         {
          "estimated": 1,
          "estimated_growth_rate": 1.0000130001690022,
          "initial": 0.9999870000000001,
          "observed": 0.999991,
          "observed_growth_rate": 1.0000040000520005
         },
         {
          "estimated": 1,
          "estimated_growth_rate": 1.0000130001690022,
          "initial": 0.9999870000000001,
          "observed": 0.999991,
          "observed_growth_rate": 1.0000040000520005
         },
         {
          "estimated": 1,
          "estimated_growth_rate": 1.0000130001690022,
          "initial": 0.9999870000000001,
          "observed": 0.999991,
          "observed_growth_rate": 1.0000040000520005
         },
         {
          "estimated": 1,
          "estimated_growth_rate": 1.0000130001690022,
          "initial": 0.9999870000000001,
          "observed": 0.999991,
          "observed_growth_rate": 1.0000040000520005
         },
         {
          "estimated": 1,
          "estimated_growth_rate": 1.0000130001690022,
          "initial": 0.9999870000000001,
          "observed": 0.999991,
          "observed_growth_rate": 1.0000040000520005
         },
         {
          "estimated": 1,
          "estimated_growth_rate": 1.0000130001690022,
          "initial": 0.9999870000000001,
          "observed": 0.999991,
          "observed_growth_rate": 1.0000040000520005
         },
         {
          "estimated": 1,
          "estimated_growth_rate": 1.0000130001690022,
          "initial": 0.9999870000000001,
          "observed": 0.999991,
          "observed_growth_rate": 1.0000040000520005
         },
         {
          "estimated": 1,
          "estimated_growth_rate": 1.0000130001690022,
          "initial": 0.9999870000000001,
          "observed": 0.999991,
          "observed_growth_rate": 1.0000040000520005
         },
         {
          "estimated": 1,
          "estimated_growth_rate": 1.0000130001690022,
          "initial": 0.9999870000000001,
          "observed": 0.999991,
          "observed_growth_rate": 1.0000040000520005
         },
         {
          "estimated": 1,
          "estimated_growth_rate": 1.0000130001690022,
          "initial": 0.9999870000000001,
          "observed": 0.999991,
          "observed_growth_rate": 1.0000040000520005
         },
         {
          "estimated": 1,
          "estimated_growth_rate": 1.0000130001690022,
          "initial": 0.9999870000000001,
          "observed": 0.999991,
          "observed_growth_rate": 1.0000040000520005
         },
         {
          "estimated": 1,
          "estimated_growth_rate": 1.0000130001690022,
          "initial": 0.9999870000000001,
          "observed": 0.999991,
          "observed_growth_rate": 1.0000040000520005
         },
         {
          "estimated": 1,
          "estimated_growth_rate": 1.0000130001690022,
          "initial": 0.9999870000000001,
          "observed": 0.999991,
          "observed_growth_rate": 1.0000040000520005
         },
         {
          "estimated": 1,
          "estimated_growth_rate": 1.0000130001690022,
          "initial": 0.9999870000000001,
          "observed": 0.999991,
          "observed_growth_rate": 1.0000040000520005
         },
         {
          "estimated": 1,
          "estimated_growth_rate": 1.0000130001690022,
          "initial": 0.9999870000000001,
          "observed": 0.999991,
          "observed_growth_rate": 1.0000040000520005
         },
         {
          "estimated": 1,
          "estimated_growth_rate": 1.0000130001690022,
          "initial": 0.9999870000000001,
          "observed": 0.999991,
          "observed_growth_rate": 1.0000040000520005
         },
         {
          "estimated": 1,
          "estimated_growth_rate": 1.0000130001690022,
          "initial": 0.9999870000000001,
          "observed": 0.999991,
          "observed_growth_rate": 1.0000040000520005
         },
         {
          "estimated": 1,
          "estimated_growth_rate": 1.0000130001690022,
          "initial": 0.9999870000000001,
          "observed": 0.999991,
          "observed_growth_rate": 1.0000040000520005
         },
         {
          "estimated": 1,
          "estimated_growth_rate": 1.0000130001690022,
          "initial": 0.9999870000000001,
          "observed": 0.999991,
          "observed_growth_rate": 1.0000040000520005
         },
         {
          "estimated": 1,
          "estimated_growth_rate": 1.0000130001690022,
          "initial": 0.9999870000000001,
          "observed": 0.999991,
          "observed_growth_rate": 1.0000040000520005
         },
         {
          "estimated": 1,
          "estimated_growth_rate": 1.0000130001690022,
          "initial": 0.9999870000000001,
          "observed": 0.999991,
          "observed_growth_rate": 1.0000040000520005
         },
         {
          "estimated": 1,
          "estimated_growth_rate": 1.0000130001690022,
          "initial": 0.9999870000000001,
          "observed": 0.999991,
          "observed_growth_rate": 1.0000040000520005
         },
         {
          "estimated": 1,
          "estimated_growth_rate": 1.0000130001690022,
          "initial": 0.9999870000000001,
          "observed": 0.999991,
          "observed_growth_rate": 1.0000040000520005
         },
         {
          "estimated": 1,
          "estimated_growth_rate": 1.0000130001690022,
          "initial": 0.9999870000000001,
          "observed": 0.999991,
          "observed_growth_rate": 1.0000040000520005
         },
         {
          "estimated": 1,
          "estimated_growth_rate": 1.0000130001690022,
          "initial": 0.9999870000000001,
          "observed": 0.999991,
          "observed_growth_rate": 1.0000040000520005
         },
         {
          "estimated": 1,
          "estimated_growth_rate": 1.0000130001690022,
          "initial": 0.9999870000000001,
          "observed": 0.999991,
          "observed_growth_rate": 1.0000040000520005
         },
         {
          "estimated": 1,
          "estimated_growth_rate": 1.0000130001690022,
          "initial": 0.9999870000000001,
          "observed": 0.999991,
          "observed_growth_rate": 1.0000040000520005
         },
         {
          "estimated": 1,
          "estimated_growth_rate": 1.0000130001690022,
          "initial": 0.9999870000000001,
          "observed": 0.999991,
          "observed_growth_rate": 1.0000040000520005
         },
         {
          "estimated": 1,
          "estimated_growth_rate": 1.0000130001690022,
          "initial": 0.9999870000000001,
          "observed": 0.999991,
          "observed_growth_rate": 1.0000040000520005
         },
         {
          "estimated": 1,
          "estimated_growth_rate": 1.0000130001690022,
          "initial": 0.9999870000000001,
          "observed": 0.999991,
          "observed_growth_rate": 1.0000040000520005
         },
         {
          "estimated": 1,
          "estimated_growth_rate": 1.0000130001690022,
          "initial": 0.9999870000000001,
          "observed": 0.999991,
          "observed_growth_rate": 1.0000040000520005
         },
         {
          "estimated": 1,
          "estimated_growth_rate": 1.0000130001690022,
          "initial": 0.9999870000000001,
          "observed": 0.999991,
          "observed_growth_rate": 1.0000040000520005
         },
         {
          "estimated": 1,
          "estimated_growth_rate": 1.0000130001690022,
          "initial": 0.9999870000000001,
          "observed": 0.999991,
          "observed_growth_rate": 1.0000040000520005
         },
         {
          "estimated": 1,
          "estimated_growth_rate": 1.0000130001690022,
          "initial": 0.9999870000000001,
          "observed": 0.999991,
          "observed_growth_rate": 1.0000040000520005
         },
         {
          "estimated": 1,
          "estimated_growth_rate": 1.0000130001690022,
          "initial": 0.9999870000000001,
          "observed": 0.999991,
          "observed_growth_rate": 1.0000040000520005
         },
         {
          "estimated": 1,
          "estimated_growth_rate": 1.0000130001690022,
          "initial": 0.9999870000000001,
          "observed": 0.999991,
          "observed_growth_rate": 1.0000040000520005
         },
         {
          "estimated": 1,
          "estimated_growth_rate": 1.0000130001690022,
          "initial": 0.9999870000000001,
          "observed": 0.999991,
          "observed_growth_rate": 1.0000040000520005
         },
         {
          "estimated": 1,
          "estimated_growth_rate": 1.0000130001690022,
          "initial": 0.9999870000000001,
          "observed": 0.999991,
          "observed_growth_rate": 1.0000040000520005
         },
         {
          "estimated": 1,
          "estimated_growth_rate": 1.0000130001690022,
          "initial": 0.9999870000000001,
          "observed": 0.999991,
          "observed_growth_rate": 1.0000040000520005
         },
         {
          "estimated": 1,
          "estimated_growth_rate": 1.0000130001690022,
          "initial": 0.9999870000000001,
          "observed": 0.999991,
          "observed_growth_rate": 1.0000040000520005
         },
         {
          "estimated": 1,
          "estimated_growth_rate": 1.0000130001690022,
          "initial": 0.9999870000000001,
          "observed": 0.999991,
          "observed_growth_rate": 1.0000040000520005
         },
         {
          "estimated": 1,
          "estimated_growth_rate": 1.0000130001690022,
          "initial": 0.9999870000000001,
          "observed": 0.999991,
          "observed_growth_rate": 1.0000040000520005
         },
         {
          "estimated": 1,
          "estimated_growth_rate": 1.0000130001690022,
          "initial": 0.9999870000000001,
          "observed": 0.999991,
          "observed_growth_rate": 1.0000040000520005
         },
         {
          "estimated": 1,
          "estimated_growth_rate": 1.0000130001690022,
          "initial": 0.9999870000000001,
          "observed": 0.999991,
          "observed_growth_rate": 1.0000040000520005
         },
         {
          "estimated": 1,
          "estimated_growth_rate": 1.0000130001690022,
          "initial": 0.9999870000000001,
          "observed": 0.999991,
          "observed_growth_rate": 1.0000040000520005
         },
         {
          "estimated": 1,
          "estimated_growth_rate": 1.0000130001690022,
          "initial": 0.9999870000000001,
          "observed": 0.999991,
          "observed_growth_rate": 1.0000040000520005
         },
         {
          "estimated": 1,
          "estimated_growth_rate": 1.0000130001690022,
          "initial": 0.9999870000000001,
          "observed": 0.999991,
          "observed_growth_rate": 1.0000040000520005
         },
         {
          "estimated": 1,
          "estimated_growth_rate": 1.0000130001690022,
          "initial": 0.9999870000000001,
          "observed": 0.999991,
          "observed_growth_rate": 1.0000040000520005
         },
         {
          "estimated": 1,
          "estimated_growth_rate": 1.0000130001690022,
          "initial": 0.9999870000000001,
          "observed": 0.999991,
          "observed_growth_rate": 1.0000040000520005
         },
         {
          "estimated": 1,
          "estimated_growth_rate": 1.0000130001690022,
          "initial": 0.9999870000000001,
          "observed": 0.999991,
          "observed_growth_rate": 1.0000040000520005
         },
         {
          "estimated": 1,
          "estimated_growth_rate": 1.0000130001690022,
          "initial": 0.9999870000000001,
          "observed": 0.999991,
          "observed_growth_rate": 1.0000040000520005
         },
         {
          "estimated": 1,
          "estimated_growth_rate": 1.0000130001690022,
          "initial": 0.9999870000000001,
          "observed": 0.999991,
          "observed_growth_rate": 1.0000040000520005
         },
         {
          "estimated": 1,
          "estimated_growth_rate": 1.0000130001690022,
          "initial": 0.9999870000000001,
          "observed": 0.999991,
          "observed_growth_rate": 1.0000040000520005
         },
         {
          "estimated": 1,
          "estimated_growth_rate": 1.0000130001690022,
          "initial": 0.9999870000000001,
          "observed": 0.999991,
          "observed_growth_rate": 1.0000040000520005
         },
         {
          "estimated": 1,
          "estimated_growth_rate": 1.0000130001690022,
          "initial": 0.9999870000000001,
          "observed": 0.999991,
          "observed_growth_rate": 1.0000040000520005
         },
         {
          "estimated": 1,
          "estimated_growth_rate": 1.0000130001690022,
          "initial": 0.9999870000000001,
          "observed": 0.999991,
          "observed_growth_rate": 1.0000040000520005
         },
         {
          "estimated": 1,
          "estimated_growth_rate": 1.0000130001690022,
          "initial": 0.9999870000000001,
          "observed": 0.999991,
          "observed_growth_rate": 1.0000040000520005
         },
         {
          "estimated": 1,
          "estimated_growth_rate": 1.0000130001690022,
          "initial": 0.9999870000000001,
          "observed": 0.999991,
          "observed_growth_rate": 1.0000040000520005
         },
         {
          "estimated": 1,
          "estimated_growth_rate": 1.0000130001690022,
          "initial": 0.9999870000000001,
          "observed": 0.999991,
          "observed_growth_rate": 1.0000040000520005
         },
         {
          "estimated": 1,
          "estimated_growth_rate": 1.0000130001690022,
          "initial": 0.9999870000000001,
          "observed": 0.999991,
          "observed_growth_rate": 1.0000040000520005
         },
         {
          "estimated": 1,
          "estimated_growth_rate": 1.0000130001690022,
          "initial": 0.9999870000000001,
          "observed": 0.999991,
          "observed_growth_rate": 1.0000040000520005
         },
         {
          "estimated": 1,
          "estimated_growth_rate": 1.0000130001690022,
          "initial": 0.9999870000000001,
          "observed": 0.999991,
          "observed_growth_rate": 1.0000040000520005
         },
         {
          "estimated": 1,
          "estimated_growth_rate": 1.0000130001690022,
          "initial": 0.9999870000000001,
          "observed": 0.999991,
          "observed_growth_rate": 1.0000040000520005
         },
         {
          "estimated": 1,
          "estimated_growth_rate": 1.0000130001690022,
          "initial": 0.9999870000000001,
          "observed": 0.999991,
          "observed_growth_rate": 1.0000040000520005
         },
         {
          "estimated": 1,
          "estimated_growth_rate": 1.0000130001690022,
          "initial": 0.9999870000000001,
          "observed": 0.999991,
          "observed_growth_rate": 1.0000040000520005
         },
         {
          "estimated": 1,
          "estimated_growth_rate": 1.0000130001690022,
          "initial": 0.9999870000000001,
          "observed": 0.999991,
          "observed_growth_rate": 1.0000040000520005
         },
         {
          "estimated": 1,
          "estimated_growth_rate": 1.0000130001690022,
          "initial": 0.9999870000000001,
          "observed": 0.999991,
          "observed_growth_rate": 1.0000040000520005
         },
         {
          "estimated": 1,
          "estimated_growth_rate": 1.0000130001690022,
          "initial": 0.9999870000000001,
          "observed": 0.999991,
          "observed_growth_rate": 1.0000040000520005
         },
         {
          "estimated": 1,
          "estimated_growth_rate": 1.0000130001690022,
          "initial": 0.9999870000000001,
          "observed": 0.999991,
          "observed_growth_rate": 1.0000040000520005
         },
         {
          "estimated": 1,
          "estimated_growth_rate": 1.0000130001690022,
          "initial": 0.9999870000000001,
          "observed": 0.999991,
          "observed_growth_rate": 1.0000040000520005
         },
         {
          "estimated": 1,
          "estimated_growth_rate": 1.0000130001690022,
          "initial": 0.9999870000000001,
          "observed": 0.999991,
          "observed_growth_rate": 1.0000040000520005
         },
         {
          "estimated": 1,
          "estimated_growth_rate": 1.0000130001690022,
          "initial": 0.9999870000000001,
          "observed": 0.999991,
          "observed_growth_rate": 1.0000040000520005
         },
         {
          "estimated": 1,
          "estimated_growth_rate": 1.0000130001690022,
          "initial": 0.9999870000000001,
          "observed": 0.999991,
          "observed_growth_rate": 1.0000040000520005
         },
         {
          "estimated": 1,
          "estimated_growth_rate": 1.0000130001690022,
          "initial": 0.9999870000000001,
          "observed": 0.999991,
          "observed_growth_rate": 1.0000040000520005
         },
         {
          "estimated": 1,
          "estimated_growth_rate": 1.0000130001690022,
          "initial": 0.9999870000000001,
          "observed": 0.999991,
          "observed_growth_rate": 1.0000040000520005
         },
         {
          "estimated": 1,
          "estimated_growth_rate": 1.0000130001690022,
          "initial": 0.9999870000000001,
          "observed": 0.999991,
          "observed_growth_rate": 1.0000040000520005
         },
         {
          "estimated": 1,
          "estimated_growth_rate": 1.0000130001690022,
          "initial": 0.9999870000000001,
          "observed": 0.999991,
          "observed_growth_rate": 1.0000040000520005
         },
         {
          "estimated": 1,
          "estimated_growth_rate": 1.0000130001690022,
          "initial": 0.9999870000000001,
          "observed": 0.999991,
          "observed_growth_rate": 1.0000040000520005
         },
         {
          "estimated": 1,
          "estimated_growth_rate": 1.0000130001690022,
          "initial": 0.9999870000000001,
          "observed": 0.999991,
          "observed_growth_rate": 1.0000040000520005
         },
         {
          "estimated": 1,
          "estimated_growth_rate": 1.0000130001690022,
          "initial": 0.9999870000000001,
          "observed": 0.999991,
          "observed_growth_rate": 1.0000040000520005
         },
         {
          "estimated": 1,
          "estimated_growth_rate": 1.0000130001690022,
          "initial": 0.9999870000000001,
          "observed": 0.999991,
          "observed_growth_rate": 1.0000040000520005
         },
         {
          "estimated": 1,
          "estimated_growth_rate": 1.0000130001690022,
          "initial": 0.9999870000000001,
          "observed": 0.999991,
          "observed_growth_rate": 1.0000040000520005
         },
         {
          "estimated": 1,
          "estimated_growth_rate": 1.0000130001690022,
          "initial": 0.9999870000000001,
          "observed": 0.999991,
          "observed_growth_rate": 1.0000040000520005
         },
         {
          "estimated": 1,
          "estimated_growth_rate": 1.0000130001690022,
          "initial": 0.9999870000000001,
          "observed": 0.999991,
          "observed_growth_rate": 1.0000040000520005
         },
         {
          "estimated": 1,
          "estimated_growth_rate": 1.0000130001690022,
          "initial": 0.9999870000000001,
          "observed": 0.999991,
          "observed_growth_rate": 1.0000040000520005
         },
         {
          "estimated": 1,
          "estimated_growth_rate": 1.0000130001690022,
          "initial": 0.9999870000000001,
          "observed": 0.999991,
          "observed_growth_rate": 1.0000040000520005
         },
         {
          "estimated": 1,
          "estimated_growth_rate": 1.0000130001690022,
          "initial": 0.9999870000000001,
          "observed": 0.999991,
          "observed_growth_rate": 1.0000040000520005
         },
         {
          "estimated": 1,
          "estimated_growth_rate": 1.0000130001690022,
          "initial": 0.9999870000000001,
          "observed": 0.999991,
          "observed_growth_rate": 1.0000040000520005
         },
         {
          "estimated": 1,
          "estimated_growth_rate": 1.0000130001690022,
          "initial": 0.9999870000000001,
          "observed": 0.999991,
          "observed_growth_rate": 1.0000040000520005
         },
         {
          "estimated": 1,
          "estimated_growth_rate": 1.0000130001690022,
          "initial": 0.9999870000000001,
          "observed": 0.999991,
          "observed_growth_rate": 1.0000040000520005
         },
         {
          "estimated": 1,
          "estimated_growth_rate": 1.0000130001690022,
          "initial": 0.9999870000000001,
          "observed": 0.999991,
          "observed_growth_rate": 1.0000040000520005
         },
         {
          "estimated": 1,
          "estimated_growth_rate": 1.0000130001690022,
          "initial": 0.9999870000000001,
          "observed": 0.999991,
          "observed_growth_rate": 1.0000040000520005
         },
         {
          "estimated": 1,
          "estimated_growth_rate": 1.0000130001690022,
          "initial": 0.9999870000000001,
          "observed": 0.999991,
          "observed_growth_rate": 1.0000040000520005
         },
         {
          "estimated": 1,
          "estimated_growth_rate": 1.0000130001690022,
          "initial": 0.9999870000000001,
          "observed": 0.999991,
          "observed_growth_rate": 1.0000040000520005
         },
         {
          "estimated": 1,
          "estimated_growth_rate": 1.0000130001690022,
          "initial": 0.9999870000000001,
          "observed": 0.999991,
          "observed_growth_rate": 1.0000040000520005
         },
         {
          "estimated": 1,
          "estimated_growth_rate": 1.0000130001690022,
          "initial": 0.9999870000000001,
          "observed": 0.999991,
          "observed_growth_rate": 1.0000040000520005
         },
         {
          "estimated": 0.999952465027374,
          "estimated_growth_rate": 1.0037597256668283,
          "initial": 0.9962070000000001,
          "observed": 0.999991,
          "observed_growth_rate": 1.003798407359113
         },
         {
          "estimated": 0.999952465027374,
          "estimated_growth_rate": 1.0037597256668283,
          "initial": 0.9962070000000001,
          "observed": 0.999991,
          "observed_growth_rate": 1.003798407359113
         },
         {
          "estimated": 0.999952465027374,
          "estimated_growth_rate": 1.0037597256668283,
          "initial": 0.9962070000000001,
          "observed": 0.999991,
          "observed_growth_rate": 1.003798407359113
         },
         {
          "estimated": 0.999952465027374,
          "estimated_growth_rate": 1.0037597256668283,
          "initial": 0.9962070000000001,
          "observed": 0.999991,
          "observed_growth_rate": 1.003798407359113
         },
         {
          "estimated": 0.999952465027374,
          "estimated_growth_rate": 1.0037597256668283,
          "initial": 0.9962070000000001,
          "observed": 0.999991,
          "observed_growth_rate": 1.003798407359113
         },
         {
          "estimated": 0.999952465027374,
          "estimated_growth_rate": 1.0037597256668283,
          "initial": 0.9962070000000001,
          "observed": 0.999991,
          "observed_growth_rate": 1.003798407359113
         },
         {
          "estimated": 0.999952465027374,
          "estimated_growth_rate": 1.0037597256668283,
          "initial": 0.9962070000000001,
          "observed": 0.999991,
          "observed_growth_rate": 1.003798407359113
         },
         {
          "estimated": 0.999952465027374,
          "estimated_growth_rate": 1.0037597256668283,
          "initial": 0.9962070000000001,
          "observed": 0.999991,
          "observed_growth_rate": 1.003798407359113
         },
         {
          "estimated": 0.999952465027374,
          "estimated_growth_rate": 1.0037597256668283,
          "initial": 0.9962070000000001,
          "observed": 0.999991,
          "observed_growth_rate": 1.003798407359113
         },
         {
          "estimated": 0.999952465027374,
          "estimated_growth_rate": 1.0037597256668283,
          "initial": 0.9962070000000001,
          "observed": 0.999991,
          "observed_growth_rate": 1.003798407359113
         },
         {
          "estimated": 0.999952465027374,
          "estimated_growth_rate": 1.0037597256668283,
          "initial": 0.9962070000000001,
          "observed": 0.999991,
          "observed_growth_rate": 1.003798407359113
         },
         {
          "estimated": 0.999952465027374,
          "estimated_growth_rate": 1.0037597256668283,
          "initial": 0.9962070000000001,
          "observed": 0.999991,
          "observed_growth_rate": 1.003798407359113
         },
         {
          "estimated": 0.999952465027374,
          "estimated_growth_rate": 1.0037597256668283,
          "initial": 0.9962070000000001,
          "observed": 0.999991,
          "observed_growth_rate": 1.003798407359113
         },
         {
          "estimated": 0.999952465027374,
          "estimated_growth_rate": 1.0037597256668283,
          "initial": 0.9962070000000001,
          "observed": 0.999991,
          "observed_growth_rate": 1.003798407359113
         },
         {
          "estimated": 0.999952465027374,
          "estimated_growth_rate": 1.0037597256668283,
          "initial": 0.9962070000000001,
          "observed": 0.999991,
          "observed_growth_rate": 1.003798407359113
         },
         {
          "estimated": 0.999952465027374,
          "estimated_growth_rate": 1.0037597256668283,
          "initial": 0.9962070000000001,
          "observed": 0.999991,
          "observed_growth_rate": 1.003798407359113
         },
         {
          "estimated": 0.999952465027374,
          "estimated_growth_rate": 1.0037597256668283,
          "initial": 0.9962070000000001,
          "observed": 0.999991,
          "observed_growth_rate": 1.003798407359113
         },
         {
          "estimated": 0.999952465027374,
          "estimated_growth_rate": 1.0037597256668283,
          "initial": 0.9962070000000001,
          "observed": 0.999991,
          "observed_growth_rate": 1.003798407359113
         },
         {
          "estimated": 0.999952465027374,
          "estimated_growth_rate": 1.0037597256668283,
          "initial": 0.9962070000000001,
          "observed": 0.999991,
          "observed_growth_rate": 1.003798407359113
         },
         {
          "estimated": 0.999952465027374,
          "estimated_growth_rate": 1.0037597256668283,
          "initial": 0.9962070000000001,
          "observed": 0.999991,
          "observed_growth_rate": 1.003798407359113
         },
         {
          "estimated": 0.999952465027374,
          "estimated_growth_rate": 1.0037597256668283,
          "initial": 0.9962070000000001,
          "observed": 0.999991,
          "observed_growth_rate": 1.003798407359113
         },
         {
          "estimated": 0.999952465027374,
          "estimated_growth_rate": 1.0037597256668283,
          "initial": 0.9962070000000001,
          "observed": 0.999991,
          "observed_growth_rate": 1.003798407359113
         },
         {
          "estimated": 0.999952465027374,
          "estimated_growth_rate": 1.0037597256668283,
          "initial": 0.9962070000000001,
          "observed": 0.999991,
          "observed_growth_rate": 1.003798407359113
         },
         {
          "estimated": 0.999952465027374,
          "estimated_growth_rate": 1.0037597256668283,
          "initial": 0.9962070000000001,
          "observed": 0.999991,
          "observed_growth_rate": 1.003798407359113
         },
         {
          "estimated": 0.999952465027374,
          "estimated_growth_rate": 1.0037597256668283,
          "initial": 0.9962070000000001,
          "observed": 0.999991,
          "observed_growth_rate": 1.003798407359113
         },
         {
          "estimated": 0.999952465027374,
          "estimated_growth_rate": 1.0037597256668283,
          "initial": 0.9962070000000001,
          "observed": 0.999991,
          "observed_growth_rate": 1.003798407359113
         },
         {
          "estimated": 0.01667288256417677,
          "estimated_growth_rate": 0.0844106832396392,
          "initial": 0.19752099999999997,
          "observed": 0.855175,
          "observed_growth_rate": 4.329539643885967
         },
         {
          "estimated": 0.01667288256417677,
          "estimated_growth_rate": 0.0844106832396392,
          "initial": 0.19752099999999997,
          "observed": 0.855175,
          "observed_growth_rate": 4.329539643885967
         },
         {
          "estimated": 0.01667288256417677,
          "estimated_growth_rate": 0.0844106832396392,
          "initial": 0.19752099999999997,
          "observed": 0.855175,
          "observed_growth_rate": 4.329539643885967
         },
         {
          "estimated": 0.01667288256417677,
          "estimated_growth_rate": 0.0844106832396392,
          "initial": 0.19752099999999997,
          "observed": 0.855175,
          "observed_growth_rate": 4.329539643885967
         },
         {
          "estimated": 0.016667023490651762,
          "estimated_growth_rate": 0.08458013707094308,
          "initial": 0.197056,
          "observed": 0.855175,
          "observed_growth_rate": 4.339756211432283
         },
         {
          "estimated": 0.016667023490651762,
          "estimated_growth_rate": 0.08458013707094308,
          "initial": 0.197056,
          "observed": 0.855175,
          "observed_growth_rate": 4.339756211432283
         },
         {
          "estimated": 0.016667023490651762,
          "estimated_growth_rate": 0.08458013707094308,
          "initial": 0.197056,
          "observed": 0.855175,
          "observed_growth_rate": 4.339756211432283
         },
         {
          "estimated": 0.016667023490651762,
          "estimated_growth_rate": 0.08458013707094308,
          "initial": 0.197056,
          "observed": 0.855175,
          "observed_growth_rate": 4.339756211432283
         },
         {
          "estimated": 0.016667023490651762,
          "estimated_growth_rate": 0.08458013707094308,
          "initial": 0.197056,
          "observed": 0.855175,
          "observed_growth_rate": 4.339756211432283
         },
         {
          "estimated": 0.016667023490651762,
          "estimated_growth_rate": 0.08458013707094308,
          "initial": 0.197056,
          "observed": 0.855175,
          "observed_growth_rate": 4.339756211432283
         },
         {
          "estimated": 0.016667023490651762,
          "estimated_growth_rate": 0.08458013707094308,
          "initial": 0.197056,
          "observed": 0.855175,
          "observed_growth_rate": 4.339756211432283
         },
         {
          "estimated": 0.016667023490651762,
          "estimated_growth_rate": 0.08458013707094308,
          "initial": 0.197056,
          "observed": 0.855175,
          "observed_growth_rate": 4.339756211432283
         },
         {
          "estimated": 0.016667023490651762,
          "estimated_growth_rate": 0.08458013707094308,
          "initial": 0.197056,
          "observed": 0.855175,
          "observed_growth_rate": 4.339756211432283
         },
         {
          "estimated": 0.016667023490651762,
          "estimated_growth_rate": 0.08458013707094308,
          "initial": 0.197056,
          "observed": 0.855175,
          "observed_growth_rate": 4.339756211432283
         },
         {
          "estimated": 0.016667023490651762,
          "estimated_growth_rate": 0.08458013707094308,
          "initial": 0.197056,
          "observed": 0.855175,
          "observed_growth_rate": 4.339756211432283
         },
         {
          "estimated": 0.016667023490651762,
          "estimated_growth_rate": 0.08458013707094308,
          "initial": 0.197056,
          "observed": 0.855175,
          "observed_growth_rate": 4.339756211432283
         },
         {
          "estimated": 0.016667023490651762,
          "estimated_growth_rate": 0.08458013707094308,
          "initial": 0.197056,
          "observed": 0.855175,
          "observed_growth_rate": 4.339756211432283
         },
         {
          "estimated": 0.016667017678753903,
          "estimated_growth_rate": 0.08458053679812186,
          "initial": 0.197055,
          "observed": 0.855175,
          "observed_growth_rate": 4.339778234503058
         },
         {
          "estimated": 0.0161484403783224,
          "estimated_growth_rate": 0.09658504718065483,
          "initial": 0.16719399999999998,
          "observed": 0.855175,
          "observed_growth_rate": 5.114866562197209
         },
         {
          "estimated": 0.0161484403783224,
          "estimated_growth_rate": 0.09658504718065483,
          "initial": 0.16719399999999998,
          "observed": 0.855175,
          "observed_growth_rate": 5.114866562197209
         },
         {
          "estimated": 0.01598829380141994,
          "estimated_growth_rate": 0.09944700446234385,
          "initial": 0.16077199999999997,
          "observed": 0.855175,
          "observed_growth_rate": 5.31917871271117
         },
         {
          "estimated": 0.015884611756209997,
          "estimated_growth_rate": 0.10148485041214653,
          "initial": 0.156522,
          "observed": 0.855175,
          "observed_growth_rate": 5.46360894954064
         },
         {
          "estimated": 0.015884611756209997,
          "estimated_growth_rate": 0.10148485041214653,
          "initial": 0.156522,
          "observed": 0.855175,
          "observed_growth_rate": 5.46360894954064
         },
         {
          "estimated": 0.015794688502944246,
          "estimated_growth_rate": 0.10455834730965799,
          "initial": 0.151061,
          "observed": 0.855175,
          "observed_growth_rate": 5.661123652034608
         },
         {
          "estimated": 0.9832795824631972,
          "estimated_growth_rate": 1.2311215952992756,
          "initial": 0.798686,
          "observed": 0.14481600000000003,
          "observed_growth_rate": 0.18131781451033327
         },
         {
          "estimated": 0.9832795824631972,
          "estimated_growth_rate": 1.2311215952992756,
          "initial": 0.798686,
          "observed": 0.14481600000000003,
          "observed_growth_rate": 0.18131781451033327
         },
         {
          "estimated": 0.9832749525211508,
          "estimated_growth_rate": 1.231678676273267,
          "initial": 0.7983210000000001,
          "observed": 0.14481600000000003,
          "observed_growth_rate": 0.18140071475008177
         },
         {
          "estimated": 0.9832711839493737,
          "estimated_growth_rate": 1.232119995124724,
          "initial": 0.7980320000000001,
          "observed": 0.14481600000000003,
          "observed_growth_rate": 0.1814664073621108
         },
         {
          "estimated": 0.9832711839493737,
          "estimated_growth_rate": 1.232119995124724,
          "initial": 0.7980320000000001,
          "observed": 0.14481600000000003,
          "observed_growth_rate": 0.1814664073621108
         },
         {
          "estimated": 0.9831913735041697,
          "estimated_growth_rate": 1.241774841087762,
          "initial": 0.791763,
          "observed": 0.14481600000000003,
          "observed_growth_rate": 0.1829032172506167
         },
         {
          "estimated": 0.9831913735041697,
          "estimated_growth_rate": 1.241774841087762,
          "initial": 0.791763,
          "observed": 0.14481600000000003,
          "observed_growth_rate": 0.1829032172506167
         },
         {
          "estimated": 0.9684845093385621,
          "estimated_growth_rate": 2.3378381213439763,
          "initial": 0.41426499999999994,
          "observed": 0.03907600000000001,
          "observed_growth_rate": 0.09432609561512562
         },
         {
          "estimated": 0.9684845093385621,
          "estimated_growth_rate": 2.3378381213439763,
          "initial": 0.41426499999999994,
          "observed": 0.03907600000000001,
          "observed_growth_rate": 0.09432609561512562
         },
         {
          "estimated": 0.9684845093385621,
          "estimated_growth_rate": 2.3378381213439763,
          "initial": 0.41426499999999994,
          "observed": 0.03907600000000001,
          "observed_growth_rate": 0.09432609561512562
         },
         {
          "estimated": 0.9516854526992515,
          "estimated_growth_rate": 2.5625927703977953,
          "initial": 0.371376,
          "observed": 0.013746,
          "observed_growth_rate": 0.037013700400672096
         },
         {
          "estimated": 0.06835874395637506,
          "estimated_growth_rate": 0.39128546136228376,
          "initial": 0.174703,
          "observed": 1.6e-05,
          "observed_growth_rate": 9.158400256435207e-05
         },
         {
          "estimated": 0.06535835496373918,
          "estimated_growth_rate": 0.41528481633057907,
          "initial": 0.15738199999999997,
          "observed": 1.6e-05,
          "observed_growth_rate": 0.00010166346850338669
         },
         {
          "estimated": 0.8762632466010655,
          "estimated_growth_rate": 5.26271589031534,
          "initial": 0.16650400000000004,
          "observed": 0.013714,
          "observed_growth_rate": 0.0823643876423389
         },
         {
          "estimated": 0.8762632466010655,
          "estimated_growth_rate": 5.26271589031534,
          "initial": 0.16650400000000004,
          "observed": 0.013714,
          "observed_growth_rate": 0.0823643876423389
         },
         {
          "estimated": 0.861609033768332,
          "estimated_growth_rate": 5.274845164888193,
          "initial": 0.163343,
          "observed": 0.013714,
          "observed_growth_rate": 0.08395829634572649
         },
         {
          "estimated": 0.0147068641656075,
          "estimated_growth_rate": 0.038958786975315095,
          "initial": 0.37749800000000006,
          "observed": 0.10574,
          "observed_growth_rate": 0.28010744427785045
         },
         {
          "estimated": 0.0147068641656075,
          "estimated_growth_rate": 0.038958786975315095,
          "initial": 0.37749800000000006,
          "observed": 0.10574,
          "observed_growth_rate": 0.28010744427785045
         },
         {
          "estimated": 0.014618915552690709,
          "estimated_growth_rate": 0.03944352857626011,
          "initial": 0.37062900000000004,
          "observed": 0.10269299999999999,
          "observed_growth_rate": 0.27707761670025816
         },
         {
          "estimated": 0.012531664119967775,
          "estimated_growth_rate": 0.04280817148311735,
          "initial": 0.29274000000000006,
          "observed": 0.093196,
          "observed_growth_rate": 0.31835758693721383
         },
         {
          "estimated": 0.012531664119967775,
          "estimated_growth_rate": 0.04280817148311735,
          "initial": 0.29274000000000006,
          "observed": 0.093196,
          "observed_growth_rate": 0.31835758693721383
         },
         {
          "estimated": 0.012192988759602338,
          "estimated_growth_rate": 0.045150187590638664,
          "initial": 0.27005400000000007,
          "observed": 0.093196,
          "observed_growth_rate": 0.3451013501003502
         },
         {
          "estimated": 0.012187731839782934,
          "estimated_growth_rate": 0.045192304531132245,
          "initial": 0.2696860000000001,
          "observed": 0.093196,
          "observed_growth_rate": 0.34557225810757686
         },
         {
          "estimated": 0.012187731839782934,
          "estimated_growth_rate": 0.045192304531132245,
          "initial": 0.2696860000000001,
          "observed": 0.093196,
          "observed_growth_rate": 0.34557225810757686
         },
         {
          "estimated": 0.012187731839782934,
          "estimated_growth_rate": 0.045192304531132245,
          "initial": 0.2696860000000001,
          "observed": 0.093196,
          "observed_growth_rate": 0.34557225810757686
         },
         {
          "estimated": 0.01218640304607679,
          "estimated_growth_rate": 0.045199779854297246,
          "initial": 0.269612,
          "observed": 0.093196,
          "observed_growth_rate": 0.3456671068053351
         },
         {
          "estimated": 0.01218640304607679,
          "estimated_growth_rate": 0.045199779854297246,
          "initial": 0.269612,
          "observed": 0.093196,
          "observed_growth_rate": 0.3456671068053351
         },
         {
          "estimated": 0.011362272701687794,
          "estimated_growth_rate": 0.05040870219867435,
          "initial": 0.22540300000000002,
          "observed": 0.093196,
          "observed_growth_rate": 0.41346388468653916
         }
        ]
       },
       "encoding": {
        "x": {
         "bin": true,
         "field": "observed_growth_rate",
         "title": "Observed growth rate",
         "type": "quantitative"
        },
        "y": {
         "aggregate": "count",
         "type": "quantitative"
        }
       },
       "mark": "rect"
      },
      "image/png": "[encoded data removed]",
      "text/plain": [
       "<VegaLite 3 object>\n",
       "\n",
       "If you see this message, it means the renderer has not been properly enabled\n",
       "for the frontend that you are using. For more information, see\n",
       "https://altair-viz.github.io/user_guide/troubleshooting.html\n"
      ]
     },
     "execution_count": 173,
     "metadata": {},
     "output_type": "execute_result"
    }
   ],
   "source": [
    "alt.Chart(clade_frequencies).mark_rect().encode(\n",
    "    x=alt.X(\"observed_growth_rate:Q\", bin=True, title=\"Observed growth rate\"),\n",
    "    y=\"count()\"\n",
    ")"
   ]
  },
  {
   "cell_type": "markdown",
   "metadata": {},
   "source": [
    "## Find estimated future frequencies of large clades\n",
    "\n",
    "Use the LBI model as an example, first."
   ]
  },
  {
   "cell_type": "code",
   "execution_count": 174,
   "metadata": {},
   "outputs": [
    {
     "data": {
      "text/plain": [
       "(1282, 5)"
      ]
     },
     "execution_count": 174,
     "metadata": {},
     "output_type": "execute_result"
    }
   ],
   "source": [
    "clade_frequencies.shape"
   ]
  },
  {
   "cell_type": "code",
   "execution_count": 175,
   "metadata": {},
   "outputs": [],
   "source": [
    "r, p = pearsonr(\n",
    "    clade_frequencies[\"observed_growth_rate\"],\n",
    "    clade_frequencies[\"estimated_growth_rate\"]\n",
    ")"
   ]
  },
  {
   "cell_type": "code",
   "execution_count": 176,
   "metadata": {},
   "outputs": [
    {
     "data": {
      "text/plain": [
       "-0.06322540267708207"
      ]
     },
     "execution_count": 176,
     "metadata": {},
     "output_type": "execute_result"
    }
   ],
   "source": [
    "r"
   ]
  },
  {
   "cell_type": "code",
   "execution_count": 177,
   "metadata": {},
   "outputs": [
    {
     "data": {
      "text/plain": [
       "0.023583698446759567"
      ]
     },
     "execution_count": 177,
     "metadata": {},
     "output_type": "execute_result"
    }
   ],
   "source": [
    "p"
   ]
  },
  {
   "cell_type": "code",
   "execution_count": 178,
   "metadata": {},
   "outputs": [],
   "source": [
    "mcc, confusion_matrix = get_matthews_correlation_coefficient_for_data_frame(clade_frequencies, True)"
   ]
  },
  {
   "cell_type": "code",
   "execution_count": 179,
   "metadata": {},
   "outputs": [
    {
     "data": {
      "text/plain": [
       "0.42821672061437627"
      ]
     },
     "execution_count": 179,
     "metadata": {},
     "output_type": "execute_result"
    }
   ],
   "source": [
    "mcc"
   ]
  },
  {
   "cell_type": "code",
   "execution_count": 180,
   "metadata": {},
   "outputs": [
    {
     "data": {
      "text/plain": [
       "0.7064989517819706"
      ]
     },
     "execution_count": 180,
     "metadata": {},
     "output_type": "execute_result"
    }
   ],
   "source": [
    "confusion_matrix[\"tp\"] / float(confusion_matrix[\"tp\"] + confusion_matrix[\"fp\"])"
   ]
  },
  {
   "cell_type": "code",
   "execution_count": 181,
   "metadata": {},
   "outputs": [
    {
     "data": {
      "text/plain": [
       "0.7774390243902439"
      ]
     },
     "execution_count": 181,
     "metadata": {},
     "output_type": "execute_result"
    }
   ],
   "source": [
    "confusion_matrix[\"tn\"] / float(confusion_matrix[\"tn\"] + confusion_matrix[\"fn\"])"
   ]
  },
  {
   "cell_type": "code",
   "execution_count": 182,
   "metadata": {},
   "outputs": [],
   "source": [
    "min_growth_rate = 0\n",
    "max_growth_rate = clade_frequencies.loc[:, [\"observed_growth_rate\", \"estimated_growth_rate\"]].max().max() + 0.2"
   ]
  },
  {
   "cell_type": "code",
   "execution_count": 183,
   "metadata": {},
   "outputs": [
    {
     "data": {
      "application/vnd.vegalite.v3+json": {
       "$schema": "https://vega.github.io/schema/vega-lite/v3.3.0.json",
       "config": {
        "mark": {
         "tooltip": null
        },
        "view": {
         "height": 300,
         "width": 400
        }
       },
       "data": {
        "name": "data-a4e5e7f0169098806fbafff5c9717f83"
       },
       "datasets": {
        "data-a4e5e7f0169098806fbafff5c9717f83": [
         {
          "estimated": 1,
          "estimated_growth_rate": 0.999997000009,
          "initial": 1.000003,
          "observed": 0.999996,
          "observed_growth_rate": 0.999993000021
         },
         {
          "estimated": 1,
          "estimated_growth_rate": 0.999997000009,
          "initial": 1.000003,
          "observed": 0.999996,
          "observed_growth_rate": 0.999993000021
         },
         {
          "estimated": 1,
          "estimated_growth_rate": 0.999997000009,
          "initial": 1.000003,
          "observed": 0.999996,
          "observed_growth_rate": 0.999993000021
         },
         {
          "estimated": 1,
          "estimated_growth_rate": 0.999997000009,
          "initial": 1.000003,
          "observed": 0.999996,
          "observed_growth_rate": 0.999993000021
         },
         {
          "estimated": 1,
          "estimated_growth_rate": 0.999997000009,
          "initial": 1.000003,
          "observed": 0.999996,
          "observed_growth_rate": 0.999993000021
         },
         {
          "estimated": 1,
          "estimated_growth_rate": 0.999997000009,
          "initial": 1.000003,
          "observed": 0.999996,
          "observed_growth_rate": 0.999993000021
         },
         {
          "estimated": 1,
          "estimated_growth_rate": 0.999997000009,
          "initial": 1.000003,
          "observed": 0.999996,
          "observed_growth_rate": 0.999993000021
         },
         {
          "estimated": 1,
          "estimated_growth_rate": 0.999997000009,
          "initial": 1.000003,
          "observed": 0.999996,
          "observed_growth_rate": 0.999993000021
         },
         {
          "estimated": 1,
          "estimated_growth_rate": 0.999997000009,
          "initial": 1.000003,
          "observed": 0.999996,
          "observed_growth_rate": 0.999993000021
         },
         {
          "estimated": 1,
          "estimated_growth_rate": 0.999997000009,
          "initial": 1.000003,
          "observed": 0.999996,
          "observed_growth_rate": 0.999993000021
         },
         {
          "estimated": 1,
          "estimated_growth_rate": 0.999997000009,
          "initial": 1.000003,
          "observed": 0.999996,
          "observed_growth_rate": 0.999993000021
         },
         {
          "estimated": 1,
          "estimated_growth_rate": 0.999997000009,
          "initial": 1.000003,
          "observed": 0.999996,
          "observed_growth_rate": 0.999993000021
         },
         {
          "estimated": 1,
          "estimated_growth_rate": 0.999997000009,
          "initial": 1.000003,
          "observed": 0.999996,
          "observed_growth_rate": 0.999993000021
         },
         {
          "estimated": 1,
          "estimated_growth_rate": 0.999997000009,
          "initial": 1.000003,
          "observed": 0.999996,
          "observed_growth_rate": 0.999993000021
         },
         {
          "estimated": 1,
          "estimated_growth_rate": 0.999997000009,
          "initial": 1.000003,
          "observed": 0.999996,
          "observed_growth_rate": 0.999993000021
         },
         {
          "estimated": 1,
          "estimated_growth_rate": 0.999997000009,
          "initial": 1.000003,
          "observed": 0.999996,
          "observed_growth_rate": 0.999993000021
         },
         {
          "estimated": 1,
          "estimated_growth_rate": 0.999997000009,
          "initial": 1.000003,
          "observed": 0.999996,
          "observed_growth_rate": 0.999993000021
         },
         {
          "estimated": 1,
          "estimated_growth_rate": 0.999997000009,
          "initial": 1.000003,
          "observed": 0.999996,
          "observed_growth_rate": 0.999993000021
         },
         {
          "estimated": 1,
          "estimated_growth_rate": 0.999997000009,
          "initial": 1.000003,
          "observed": 0.999996,
          "observed_growth_rate": 0.999993000021
         },
         {
          "estimated": 1,
          "estimated_growth_rate": 0.999997000009,
          "initial": 1.000003,
          "observed": 0.999996,
          "observed_growth_rate": 0.999993000021
         },
         {
          "estimated": 1,
          "estimated_growth_rate": 0.999997000009,
          "initial": 1.000003,
          "observed": 0.999996,
          "observed_growth_rate": 0.999993000021
         },
         {
          "estimated": 1,
          "estimated_growth_rate": 0.999997000009,
          "initial": 1.000003,
          "observed": 0.999996,
          "observed_growth_rate": 0.999993000021
         },
         {
          "estimated": 1,
          "estimated_growth_rate": 0.999997000009,
          "initial": 1.000003,
          "observed": 0.999996,
          "observed_growth_rate": 0.999993000021
         },
         {
          "estimated": 1,
          "estimated_growth_rate": 0.999997000009,
          "initial": 1.000003,
          "observed": 0.999996,
          "observed_growth_rate": 0.999993000021
         },
         {
          "estimated": 1,
          "estimated_growth_rate": 0.999997000009,
          "initial": 1.000003,
          "observed": 0.999996,
          "observed_growth_rate": 0.999993000021
         },
         {
          "estimated": 1,
          "estimated_growth_rate": 0.999997000009,
          "initial": 1.000003,
          "observed": 0.999996,
          "observed_growth_rate": 0.999993000021
         },
         {
          "estimated": 1,
          "estimated_growth_rate": 0.999997000009,
          "initial": 1.000003,
          "observed": 0.999996,
          "observed_growth_rate": 0.999993000021
         },
         {
          "estimated": 1,
          "estimated_growth_rate": 0.999997000009,
          "initial": 1.000003,
          "observed": 0.999996,
          "observed_growth_rate": 0.999993000021
         },
         {
          "estimated": 1,
          "estimated_growth_rate": 0.999997000009,
          "initial": 1.000003,
          "observed": 0.999996,
          "observed_growth_rate": 0.999993000021
         },
         {
          "estimated": 1,
          "estimated_growth_rate": 0.999997000009,
          "initial": 1.000003,
          "observed": 0.999996,
          "observed_growth_rate": 0.999993000021
         },
         {
          "estimated": 1,
          "estimated_growth_rate": 0.999997000009,
          "initial": 1.000003,
          "observed": 0.999996,
          "observed_growth_rate": 0.999993000021
         },
         {
          "estimated": 1,
          "estimated_growth_rate": 0.999997000009,
          "initial": 1.000003,
          "observed": 0.999996,
          "observed_growth_rate": 0.999993000021
         },
         {
          "estimated": 1,
          "estimated_growth_rate": 0.999997000009,
          "initial": 1.000003,
          "observed": 0.999996,
          "observed_growth_rate": 0.999993000021
         },
         {
          "estimated": 1,
          "estimated_growth_rate": 0.999997000009,
          "initial": 1.000003,
          "observed": 0.999996,
          "observed_growth_rate": 0.999993000021
         },
         {
          "estimated": 1,
          "estimated_growth_rate": 0.999997000009,
          "initial": 1.000003,
          "observed": 0.999996,
          "observed_growth_rate": 0.999993000021
         },
         {
          "estimated": 1,
          "estimated_growth_rate": 0.999997000009,
          "initial": 1.000003,
          "observed": 0.999996,
          "observed_growth_rate": 0.999993000021
         },
         {
          "estimated": 1,
          "estimated_growth_rate": 0.999997000009,
          "initial": 1.000003,
          "observed": 0.999996,
          "observed_growth_rate": 0.999993000021
         },
         {
          "estimated": 1,
          "estimated_growth_rate": 0.999997000009,
          "initial": 1.000003,
          "observed": 0.999996,
          "observed_growth_rate": 0.999993000021
         },
         {
          "estimated": 1,
          "estimated_growth_rate": 0.999997000009,
          "initial": 1.000003,
          "observed": 0.999996,
          "observed_growth_rate": 0.999993000021
         },
         {
          "estimated": 1,
          "estimated_growth_rate": 0.999997000009,
          "initial": 1.000003,
          "observed": 0.999996,
          "observed_growth_rate": 0.999993000021
         },
         {
          "estimated": 1,
          "estimated_growth_rate": 0.999997000009,
          "initial": 1.000003,
          "observed": 0.999996,
          "observed_growth_rate": 0.999993000021
         },
         {
          "estimated": 1,
          "estimated_growth_rate": 0.999997000009,
          "initial": 1.000003,
          "observed": 0.999996,
          "observed_growth_rate": 0.999993000021
         },
         {
          "estimated": 1,
          "estimated_growth_rate": 0.999997000009,
          "initial": 1.000003,
          "observed": 0.999996,
          "observed_growth_rate": 0.999993000021
         },
         {
          "estimated": 1,
          "estimated_growth_rate": 0.999997000009,
          "initial": 1.000003,
          "observed": 0.999996,
          "observed_growth_rate": 0.999993000021
         },
         {
          "estimated": 1,
          "estimated_growth_rate": 0.999997000009,
          "initial": 1.000003,
          "observed": 0.999996,
          "observed_growth_rate": 0.999993000021
         },
         {
          "estimated": 1,
          "estimated_growth_rate": 0.999997000009,
          "initial": 1.000003,
          "observed": 0.999996,
          "observed_growth_rate": 0.999993000021
         },
         {
          "estimated": 1,
          "estimated_growth_rate": 0.999997000009,
          "initial": 1.000003,
          "observed": 0.999996,
          "observed_growth_rate": 0.999993000021
         },
         {
          "estimated": 1,
          "estimated_growth_rate": 0.999997000009,
          "initial": 1.000003,
          "observed": 0.999996,
          "observed_growth_rate": 0.999993000021
         },
         {
          "estimated": 1,
          "estimated_growth_rate": 0.999997000009,
          "initial": 1.000003,
          "observed": 0.999996,
          "observed_growth_rate": 0.999993000021
         },
         {
          "estimated": 1,
          "estimated_growth_rate": 0.999997000009,
          "initial": 1.000003,
          "observed": 0.999996,
          "observed_growth_rate": 0.999993000021
         },
         {
          "estimated": 1,
          "estimated_growth_rate": 0.999997000009,
          "initial": 1.000003,
          "observed": 0.999996,
          "observed_growth_rate": 0.999993000021
         },
         {
          "estimated": 1,
          "estimated_growth_rate": 0.999997000009,
          "initial": 1.000003,
          "observed": 0.999996,
          "observed_growth_rate": 0.999993000021
         },
         {
          "estimated": 1,
          "estimated_growth_rate": 0.999997000009,
          "initial": 1.000003,
          "observed": 0.999996,
          "observed_growth_rate": 0.999993000021
         },
         {
          "estimated": 1,
          "estimated_growth_rate": 0.999997000009,
          "initial": 1.000003,
          "observed": 0.999996,
          "observed_growth_rate": 0.999993000021
         },
         {
          "estimated": 1,
          "estimated_growth_rate": 0.999997000009,
          "initial": 1.000003,
          "observed": 0.999996,
          "observed_growth_rate": 0.999993000021
         },
         {
          "estimated": 1,
          "estimated_growth_rate": 0.999997000009,
          "initial": 1.000003,
          "observed": 0.999996,
          "observed_growth_rate": 0.999993000021
         },
         {
          "estimated": 1,
          "estimated_growth_rate": 0.999997000009,
          "initial": 1.000003,
          "observed": 0.999996,
          "observed_growth_rate": 0.999993000021
         },
         {
          "estimated": 1,
          "estimated_growth_rate": 0.999997000009,
          "initial": 1.000003,
          "observed": 0.999996,
          "observed_growth_rate": 0.999993000021
         },
         {
          "estimated": 1,
          "estimated_growth_rate": 0.999997000009,
          "initial": 1.000003,
          "observed": 0.999996,
          "observed_growth_rate": 0.999993000021
         },
         {
          "estimated": 1,
          "estimated_growth_rate": 0.999997000009,
          "initial": 1.000003,
          "observed": 0.999996,
          "observed_growth_rate": 0.999993000021
         },
         {
          "estimated": 1,
          "estimated_growth_rate": 0.999997000009,
          "initial": 1.000003,
          "observed": 0.999996,
          "observed_growth_rate": 0.999993000021
         },
         {
          "estimated": 1,
          "estimated_growth_rate": 0.999997000009,
          "initial": 1.000003,
          "observed": 0.999996,
          "observed_growth_rate": 0.999993000021
         },
         {
          "estimated": 1,
          "estimated_growth_rate": 0.999997000009,
          "initial": 1.000003,
          "observed": 0.999996,
          "observed_growth_rate": 0.999993000021
         },
         {
          "estimated": 1,
          "estimated_growth_rate": 0.999997000009,
          "initial": 1.000003,
          "observed": 0.999996,
          "observed_growth_rate": 0.999993000021
         },
         {
          "estimated": 1,
          "estimated_growth_rate": 0.999997000009,
          "initial": 1.000003,
          "observed": 0.999996,
          "observed_growth_rate": 0.999993000021
         },
         {
          "estimated": 1,
          "estimated_growth_rate": 0.999997000009,
          "initial": 1.000003,
          "observed": 0.999996,
          "observed_growth_rate": 0.999993000021
         },
         {
          "estimated": 1,
          "estimated_growth_rate": 0.999997000009,
          "initial": 1.000003,
          "observed": 0.999996,
          "observed_growth_rate": 0.999993000021
         },
         {
          "estimated": 1,
          "estimated_growth_rate": 0.999997000009,
          "initial": 1.000003,
          "observed": 0.999996,
          "observed_growth_rate": 0.999993000021
         },
         {
          "estimated": 1,
          "estimated_growth_rate": 0.999997000009,
          "initial": 1.000003,
          "observed": 0.999996,
          "observed_growth_rate": 0.999993000021
         },
         {
          "estimated": 1,
          "estimated_growth_rate": 0.999997000009,
          "initial": 1.000003,
          "observed": 0.999996,
          "observed_growth_rate": 0.999993000021
         },
         {
          "estimated": 1,
          "estimated_growth_rate": 0.999997000009,
          "initial": 1.000003,
          "observed": 0.999996,
          "observed_growth_rate": 0.999993000021
         },
         {
          "estimated": 1,
          "estimated_growth_rate": 0.999997000009,
          "initial": 1.000003,
          "observed": 0.999996,
          "observed_growth_rate": 0.999993000021
         },
         {
          "estimated": 1,
          "estimated_growth_rate": 0.999997000009,
          "initial": 1.000003,
          "observed": 0.999996,
          "observed_growth_rate": 0.999993000021
         },
         {
          "estimated": 1,
          "estimated_growth_rate": 0.999997000009,
          "initial": 1.000003,
          "observed": 0.999996,
          "observed_growth_rate": 0.999993000021
         },
         {
          "estimated": 1,
          "estimated_growth_rate": 0.999997000009,
          "initial": 1.000003,
          "observed": 0.999996,
          "observed_growth_rate": 0.999993000021
         },
         {
          "estimated": 1,
          "estimated_growth_rate": 0.999997000009,
          "initial": 1.000003,
          "observed": 0.999996,
          "observed_growth_rate": 0.999993000021
         },
         {
          "estimated": 1,
          "estimated_growth_rate": 0.999997000009,
          "initial": 1.000003,
          "observed": 0.999996,
          "observed_growth_rate": 0.999993000021
         },
         {
          "estimated": 1,
          "estimated_growth_rate": 0.999997000009,
          "initial": 1.000003,
          "observed": 0.999996,
          "observed_growth_rate": 0.999993000021
         },
         {
          "estimated": 1,
          "estimated_growth_rate": 0.999997000009,
          "initial": 1.000003,
          "observed": 0.999996,
          "observed_growth_rate": 0.999993000021
         },
         {
          "estimated": 0.9987686002217869,
          "estimated_growth_rate": 1.1638096039704389,
          "initial": 0.858189,
          "observed": 0.999996,
          "observed_growth_rate": 1.1652398247938391
         },
         {
          "estimated": 0.9987686002217869,
          "estimated_growth_rate": 1.1638096039704389,
          "initial": 0.858189,
          "observed": 0.999996,
          "observed_growth_rate": 1.1652398247938391
         },
         {
          "estimated": 0.9987686002217869,
          "estimated_growth_rate": 1.1638096039704389,
          "initial": 0.858189,
          "observed": 0.999996,
          "observed_growth_rate": 1.1652398247938391
         },
         {
          "estimated": 0.9987686002217869,
          "estimated_growth_rate": 1.1638096039704389,
          "initial": 0.858189,
          "observed": 0.999996,
          "observed_growth_rate": 1.1652398247938391
         },
         {
          "estimated": 0.9987686002217869,
          "estimated_growth_rate": 1.1638096039704389,
          "initial": 0.858189,
          "observed": 0.999996,
          "observed_growth_rate": 1.1652398247938391
         },
         {
          "estimated": 0.9987686002217869,
          "estimated_growth_rate": 1.1638096039704389,
          "initial": 0.858189,
          "observed": 0.999996,
          "observed_growth_rate": 1.1652398247938391
         },
         {
          "estimated": 0.9987686002217869,
          "estimated_growth_rate": 1.1638096039704389,
          "initial": 0.858189,
          "observed": 0.999996,
          "observed_growth_rate": 1.1652398247938391
         },
         {
          "estimated": 0.9987686002217869,
          "estimated_growth_rate": 1.1638096039704389,
          "initial": 0.858189,
          "observed": 0.999996,
          "observed_growth_rate": 1.1652398247938391
         },
         {
          "estimated": 0.9987686002217869,
          "estimated_growth_rate": 1.1638096039704389,
          "initial": 0.858189,
          "observed": 0.999996,
          "observed_growth_rate": 1.1652398247938391
         },
         {
          "estimated": 0.9987686002217869,
          "estimated_growth_rate": 1.1638096039704389,
          "initial": 0.858189,
          "observed": 0.999996,
          "observed_growth_rate": 1.1652398247938391
         },
         {
          "estimated": 0.9987686002217869,
          "estimated_growth_rate": 1.1638096039704389,
          "initial": 0.858189,
          "observed": 0.999996,
          "observed_growth_rate": 1.1652398247938391
         },
         {
          "estimated": 0.9987686002217869,
          "estimated_growth_rate": 1.1638096039704389,
          "initial": 0.858189,
          "observed": 0.999996,
          "observed_growth_rate": 1.1652398247938391
         },
         {
          "estimated": 0.9987679775636575,
          "estimated_growth_rate": 1.1640733822889875,
          "initial": 0.857994,
          "observed": 0.999996,
          "observed_growth_rate": 1.1655046538786984
         },
         {
          "estimated": 0.9977995615697792,
          "estimated_growth_rate": 1.6310950501029517,
          "initial": 0.611736,
          "observed": 0.14183499999999996,
          "observed_growth_rate": 0.2318565524997711
         },
         {
          "estimated": 0.9977995615697792,
          "estimated_growth_rate": 1.6310950501029517,
          "initial": 0.611736,
          "observed": 0.14183499999999996,
          "observed_growth_rate": 0.2318565524997711
         },
         {
          "estimated": 0.9977995615697792,
          "estimated_growth_rate": 1.6310950501029517,
          "initial": 0.611736,
          "observed": 0.14183499999999996,
          "observed_growth_rate": 0.2318565524997711
         },
         {
          "estimated": 0.9977861297845341,
          "estimated_growth_rate": 1.6442434690501786,
          "initial": 0.6068359999999999,
          "observed": 0.14183499999999996,
          "observed_growth_rate": 0.2337287174788575
         },
         {
          "estimated": 0.9976754474008894,
          "estimated_growth_rate": 1.7893533766664325,
          "initial": 0.557562,
          "observed": 0.14183499999999996,
          "observed_growth_rate": 0.25438426578568835
         },
         {
          "estimated": 0.997659712579308,
          "estimated_growth_rate": 1.8109107605865646,
          "initial": 0.5509160000000001,
          "observed": 0.14183499999999996,
          "observed_growth_rate": 0.25745304184303947
         },
         {
          "estimated": 0.9976264689454651,
          "estimated_growth_rate": 1.8541864339927607,
          "initial": 0.5380400000000001,
          "observed": 0.14183499999999996,
          "observed_growth_rate": 0.2636142294253214
         },
         {
          "estimated": 0.9976084459639095,
          "estimated_growth_rate": 1.8541667211188648,
          "initial": 0.538036,
          "observed": 0.14183499999999996,
          "observed_growth_rate": 0.26361618925127683
         },
         {
          "estimated": 0.9976084459639095,
          "estimated_growth_rate": 1.8541667211188648,
          "initial": 0.538036,
          "observed": 0.14183499999999996,
          "observed_growth_rate": 0.26361618925127683
         },
         {
          "estimated": 0.9923742667319916,
          "estimated_growth_rate": 2.201020841333403,
          "initial": 0.45087000000000005,
          "observed": 0.091776,
          "observed_growth_rate": 0.20355313061414596
         },
         {
          "estimated": 0.9923187381013397,
          "estimated_growth_rate": 2.269630430042221,
          "initial": 0.437216,
          "observed": 0.091776,
          "observed_growth_rate": 0.2099099758471785
         },
         {
          "estimated": 0.9922133667306282,
          "estimated_growth_rate": 2.33458672755356,
          "initial": 0.425006,
          "observed": 0.091776,
          "observed_growth_rate": 0.21594048084027048
         },
         {
          "estimated": 0.9921499176870703,
          "estimated_growth_rate": 2.3372365827958035,
          "initial": 0.424497,
          "observed": 0.091776,
          "observed_growth_rate": 0.2161994077696662
         },
         {
          "estimated": 0.9914154773672876,
          "estimated_growth_rate": 2.696005213991836,
          "initial": 0.367735,
          "observed": 0.08824800000000001,
          "observed_growth_rate": 0.23997715746393466
         },
         {
          "estimated": 0.9905306976285033,
          "estimated_growth_rate": 2.7778950283488046,
          "initial": 0.356576,
          "observed": 0.08824800000000001,
          "observed_growth_rate": 0.24748721170241408
         },
         {
          "estimated": 0.9901227962997156,
          "estimated_growth_rate": 2.8543010893997938,
          "initial": 0.346888,
          "observed": 0.08824800000000001,
          "observed_growth_rate": 0.25439911441156804
         },
         {
          "estimated": 0.9900879017566535,
          "estimated_growth_rate": 2.8543815241524206,
          "initial": 0.346866,
          "observed": 0.078435,
          "observed_growth_rate": 0.22612478594039198
         },
         {
          "estimated": 0.9900530072135914,
          "estimated_growth_rate": 2.854461969108854,
          "initial": 0.346844,
          "observed": 0.078435,
          "observed_growth_rate": 0.22613912883025225
         },
         {
          "estimated": 0.987545949306584,
          "estimated_growth_rate": 2.8535687434091668,
          "initial": 0.346074,
          "observed": 0.078435,
          "observed_growth_rate": 0.22664227881898094
         },
         {
          "estimated": 0.9776444123657891,
          "estimated_growth_rate": 3.831060164684956,
          "initial": 0.255189,
          "observed": 0.062236999999999994,
          "observed_growth_rate": 0.2438859041729855
         },
         {
          "estimated": 0.9775828994844171,
          "estimated_growth_rate": 4.019897936083562,
          "initial": 0.24318599999999999,
          "observed": 0.062236999999999994,
          "observed_growth_rate": 0.2559234495406808
         },
         {
          "estimated": 0.9763706251178379,
          "estimated_growth_rate": 4.018134931408316,
          "initial": 0.24299099999999998,
          "observed": 0.062236999999999994,
          "observed_growth_rate": 0.25612882781666807
         },
         {
          "estimated": 0.9751784114269253,
          "estimated_growth_rate": 4.818741779628236,
          "initial": 0.20237199999999997,
          "observed": 0.062236999999999994,
          "observed_growth_rate": 0.30753760401636593
         },
         {
          "estimated": 0.9746486579017946,
          "estimated_growth_rate": 6.197926017155651,
          "initial": 0.15725399999999998,
          "observed": 0.062236,
          "observed_growth_rate": 0.39576735726913154
         },
         {
          "estimated": 0.0009684159938782255,
          "estimated_growth_rate": 0.0039325260250559395,
          "initial": 0.24625799999999998,
          "observed": 0.858161,
          "observed_growth_rate": 3.4848045545728463
         },
         {
          "estimated": 0.0009684159938782255,
          "estimated_growth_rate": 0.0039325260250559395,
          "initial": 0.24625799999999998,
          "observed": 0.858161,
          "observed_growth_rate": 3.4848045545728463
         },
         {
          "estimated": 0.0009684159938782255,
          "estimated_growth_rate": 0.0039325260250559395,
          "initial": 0.24625799999999998,
          "observed": 0.858161,
          "observed_growth_rate": 3.4848045545728463
         },
         {
          "estimated": 0.0009684159938782255,
          "estimated_growth_rate": 0.0039325260250559395,
          "initial": 0.24625799999999998,
          "observed": 0.858161,
          "observed_growth_rate": 3.4848045545728463
         },
         {
          "estimated": 0.0009684159938782255,
          "estimated_growth_rate": 0.0039325260250559395,
          "initial": 0.24625799999999998,
          "observed": 0.858161,
          "observed_growth_rate": 3.4848045545728463
         },
         {
          "estimated": 0.0009684159938782255,
          "estimated_growth_rate": 0.0039325260250559395,
          "initial": 0.24625799999999998,
          "observed": 0.858161,
          "observed_growth_rate": 3.4848045545728463
         },
         {
          "estimated": 0.0009684159938782255,
          "estimated_growth_rate": 0.0039325260250559395,
          "initial": 0.24625799999999998,
          "observed": 0.858161,
          "observed_growth_rate": 3.4848045545728463
         },
         {
          "estimated": 0.0009684159938782255,
          "estimated_growth_rate": 0.0039325260250559395,
          "initial": 0.24625799999999998,
          "observed": 0.858161,
          "observed_growth_rate": 3.4848045545728463
         },
         {
          "estimated": 1,
          "estimated_growth_rate": 1.000003000009,
          "initial": 0.9999969999999999,
          "observed": 0.999992,
          "observed_growth_rate": 0.9999949999850001
         },
         {
          "estimated": 1,
          "estimated_growth_rate": 1.000003000009,
          "initial": 0.9999969999999999,
          "observed": 0.999992,
          "observed_growth_rate": 0.9999949999850001
         },
         {
          "estimated": 1,
          "estimated_growth_rate": 1.000003000009,
          "initial": 0.9999969999999999,
          "observed": 0.999992,
          "observed_growth_rate": 0.9999949999850001
         },
         {
          "estimated": 1,
          "estimated_growth_rate": 1.000003000009,
          "initial": 0.9999969999999999,
          "observed": 0.999992,
          "observed_growth_rate": 0.9999949999850001
         },
         {
          "estimated": 1,
          "estimated_growth_rate": 1.000003000009,
          "initial": 0.9999969999999999,
          "observed": 0.999992,
          "observed_growth_rate": 0.9999949999850001
         },
         {
          "estimated": 1,
          "estimated_growth_rate": 1.000003000009,
          "initial": 0.9999969999999999,
          "observed": 0.999992,
          "observed_growth_rate": 0.9999949999850001
         },
         {
          "estimated": 1,
          "estimated_growth_rate": 1.000003000009,
          "initial": 0.9999969999999999,
          "observed": 0.999992,
          "observed_growth_rate": 0.9999949999850001
         },
         {
          "estimated": 1,
          "estimated_growth_rate": 1.000003000009,
          "initial": 0.9999969999999999,
          "observed": 0.999992,
          "observed_growth_rate": 0.9999949999850001
         },
         {
          "estimated": 1,
          "estimated_growth_rate": 1.000003000009,
          "initial": 0.9999969999999999,
          "observed": 0.999992,
          "observed_growth_rate": 0.9999949999850001
         },
         {
          "estimated": 1,
          "estimated_growth_rate": 1.000003000009,
          "initial": 0.9999969999999999,
          "observed": 0.999992,
          "observed_growth_rate": 0.9999949999850001
         },
         {
          "estimated": 1,
          "estimated_growth_rate": 1.000003000009,
          "initial": 0.9999969999999999,
          "observed": 0.999992,
          "observed_growth_rate": 0.9999949999850001
         },
         {
          "estimated": 1,
          "estimated_growth_rate": 1.000003000009,
          "initial": 0.9999969999999999,
          "observed": 0.999992,
          "observed_growth_rate": 0.9999949999850001
         },
         {
          "estimated": 1,
          "estimated_growth_rate": 1.000003000009,
          "initial": 0.9999969999999999,
          "observed": 0.999992,
          "observed_growth_rate": 0.9999949999850001
         },
         {
          "estimated": 1,
          "estimated_growth_rate": 1.000003000009,
          "initial": 0.9999969999999999,
          "observed": 0.999992,
          "observed_growth_rate": 0.9999949999850001
         },
         {
          "estimated": 1,
          "estimated_growth_rate": 1.000003000009,
          "initial": 0.9999969999999999,
          "observed": 0.999992,
          "observed_growth_rate": 0.9999949999850001
         },
         {
          "estimated": 1,
          "estimated_growth_rate": 1.000003000009,
          "initial": 0.9999969999999999,
          "observed": 0.999992,
          "observed_growth_rate": 0.9999949999850001
         },
         {
          "estimated": 1,
          "estimated_growth_rate": 1.000003000009,
          "initial": 0.9999969999999999,
          "observed": 0.999992,
          "observed_growth_rate": 0.9999949999850001
         },
         {
          "estimated": 1,
          "estimated_growth_rate": 1.000003000009,
          "initial": 0.9999969999999999,
          "observed": 0.999992,
          "observed_growth_rate": 0.9999949999850001
         },
         {
          "estimated": 1,
          "estimated_growth_rate": 1.000003000009,
          "initial": 0.9999969999999999,
          "observed": 0.999992,
          "observed_growth_rate": 0.9999949999850001
         },
         {
          "estimated": 1,
          "estimated_growth_rate": 1.000003000009,
          "initial": 0.9999969999999999,
          "observed": 0.999992,
          "observed_growth_rate": 0.9999949999850001
         },
         {
          "estimated": 1,
          "estimated_growth_rate": 1.000003000009,
          "initial": 0.9999969999999999,
          "observed": 0.999992,
          "observed_growth_rate": 0.9999949999850001
         },
         {
          "estimated": 1,
          "estimated_growth_rate": 1.000003000009,
          "initial": 0.9999969999999999,
          "observed": 0.999992,
          "observed_growth_rate": 0.9999949999850001
         },
         {
          "estimated": 1,
          "estimated_growth_rate": 1.000003000009,
          "initial": 0.9999969999999999,
          "observed": 0.999992,
          "observed_growth_rate": 0.9999949999850001
         },
         {
          "estimated": 1,
          "estimated_growth_rate": 1.000003000009,
          "initial": 0.9999969999999999,
          "observed": 0.999992,
          "observed_growth_rate": 0.9999949999850001
         },
         {
          "estimated": 1,
          "estimated_growth_rate": 1.000003000009,
          "initial": 0.9999969999999999,
          "observed": 0.999992,
          "observed_growth_rate": 0.9999949999850001
         },
         {
          "estimated": 1,
          "estimated_growth_rate": 1.000003000009,
          "initial": 0.9999969999999999,
          "observed": 0.999992,
          "observed_growth_rate": 0.9999949999850001
         },
         {
          "estimated": 1,
          "estimated_growth_rate": 1.000003000009,
          "initial": 0.9999969999999999,
          "observed": 0.999992,
          "observed_growth_rate": 0.9999949999850001
         },
         {
          "estimated": 1,
          "estimated_growth_rate": 1.000003000009,
          "initial": 0.9999969999999999,
          "observed": 0.999992,
          "observed_growth_rate": 0.9999949999850001
         },
         {
          "estimated": 1,
          "estimated_growth_rate": 1.000003000009,
          "initial": 0.9999969999999999,
          "observed": 0.999992,
          "observed_growth_rate": 0.9999949999850001
         },
         {
          "estimated": 1,
          "estimated_growth_rate": 1.000003000009,
          "initial": 0.9999969999999999,
          "observed": 0.999992,
          "observed_growth_rate": 0.9999949999850001
         },
         {
          "estimated": 1,
          "estimated_growth_rate": 1.000003000009,
          "initial": 0.9999969999999999,
          "observed": 0.999992,
          "observed_growth_rate": 0.9999949999850001
         },
         {
          "estimated": 1,
          "estimated_growth_rate": 1.000003000009,
          "initial": 0.9999969999999999,
          "observed": 0.999992,
          "observed_growth_rate": 0.9999949999850001
         },
         {
          "estimated": 1,
          "estimated_growth_rate": 1.000003000009,
          "initial": 0.9999969999999999,
          "observed": 0.999992,
          "observed_growth_rate": 0.9999949999850001
         },
         {
          "estimated": 1,
          "estimated_growth_rate": 1.000003000009,
          "initial": 0.9999969999999999,
          "observed": 0.999992,
          "observed_growth_rate": 0.9999949999850001
         },
         {
          "estimated": 1,
          "estimated_growth_rate": 1.000003000009,
          "initial": 0.9999969999999999,
          "observed": 0.999992,
          "observed_growth_rate": 0.9999949999850001
         },
         {
          "estimated": 1,
          "estimated_growth_rate": 1.000003000009,
          "initial": 0.9999969999999999,
          "observed": 0.999992,
          "observed_growth_rate": 0.9999949999850001
         },
         {
          "estimated": 1,
          "estimated_growth_rate": 1.000003000009,
          "initial": 0.9999969999999999,
          "observed": 0.999992,
          "observed_growth_rate": 0.9999949999850001
         },
         {
          "estimated": 1,
          "estimated_growth_rate": 1.000003000009,
          "initial": 0.9999969999999999,
          "observed": 0.999992,
          "observed_growth_rate": 0.9999949999850001
         },
         {
          "estimated": 1,
          "estimated_growth_rate": 1.000003000009,
          "initial": 0.9999969999999999,
          "observed": 0.999992,
          "observed_growth_rate": 0.9999949999850001
         },
         {
          "estimated": 1,
          "estimated_growth_rate": 1.000003000009,
          "initial": 0.9999969999999999,
          "observed": 0.999992,
          "observed_growth_rate": 0.9999949999850001
         },
         {
          "estimated": 1,
          "estimated_growth_rate": 1.000003000009,
          "initial": 0.9999969999999999,
          "observed": 0.999992,
          "observed_growth_rate": 0.9999949999850001
         },
         {
          "estimated": 1,
          "estimated_growth_rate": 1.000003000009,
          "initial": 0.9999969999999999,
          "observed": 0.999992,
          "observed_growth_rate": 0.9999949999850001
         },
         {
          "estimated": 1,
          "estimated_growth_rate": 1.000003000009,
          "initial": 0.9999969999999999,
          "observed": 0.999992,
          "observed_growth_rate": 0.9999949999850001
         },
         {
          "estimated": 1,
          "estimated_growth_rate": 1.000003000009,
          "initial": 0.9999969999999999,
          "observed": 0.999992,
          "observed_growth_rate": 0.9999949999850001
         },
         {
          "estimated": 1,
          "estimated_growth_rate": 1.000003000009,
          "initial": 0.9999969999999999,
          "observed": 0.999992,
          "observed_growth_rate": 0.9999949999850001
         },
         {
          "estimated": 1,
          "estimated_growth_rate": 1.000003000009,
          "initial": 0.9999969999999999,
          "observed": 0.999992,
          "observed_growth_rate": 0.9999949999850001
         },
         {
          "estimated": 1,
          "estimated_growth_rate": 1.000003000009,
          "initial": 0.9999969999999999,
          "observed": 0.999992,
          "observed_growth_rate": 0.9999949999850001
         },
         {
          "estimated": 1,
          "estimated_growth_rate": 1.000003000009,
          "initial": 0.9999969999999999,
          "observed": 0.999992,
          "observed_growth_rate": 0.9999949999850001
         },
         {
          "estimated": 1,
          "estimated_growth_rate": 1.000003000009,
          "initial": 0.9999969999999999,
          "observed": 0.999992,
          "observed_growth_rate": 0.9999949999850001
         },
         {
          "estimated": 1,
          "estimated_growth_rate": 1.000003000009,
          "initial": 0.9999969999999999,
          "observed": 0.999992,
          "observed_growth_rate": 0.9999949999850001
         },
         {
          "estimated": 1,
          "estimated_growth_rate": 1.000003000009,
          "initial": 0.9999969999999999,
          "observed": 0.999992,
          "observed_growth_rate": 0.9999949999850001
         },
         {
          "estimated": 1,
          "estimated_growth_rate": 1.000003000009,
          "initial": 0.9999969999999999,
          "observed": 0.999992,
          "observed_growth_rate": 0.9999949999850001
         },
         {
          "estimated": 1,
          "estimated_growth_rate": 1.000003000009,
          "initial": 0.9999969999999999,
          "observed": 0.999992,
          "observed_growth_rate": 0.9999949999850001
         },
         {
          "estimated": 1,
          "estimated_growth_rate": 1.000003000009,
          "initial": 0.9999969999999999,
          "observed": 0.999992,
          "observed_growth_rate": 0.9999949999850001
         },
         {
          "estimated": 1,
          "estimated_growth_rate": 1.000003000009,
          "initial": 0.9999969999999999,
          "observed": 0.999992,
          "observed_growth_rate": 0.9999949999850001
         },
         {
          "estimated": 1,
          "estimated_growth_rate": 1.000003000009,
          "initial": 0.9999969999999999,
          "observed": 0.999992,
          "observed_growth_rate": 0.9999949999850001
         },
         {
          "estimated": 1,
          "estimated_growth_rate": 1.000003000009,
          "initial": 0.9999969999999999,
          "observed": 0.999992,
          "observed_growth_rate": 0.9999949999850001
         },
         {
          "estimated": 1,
          "estimated_growth_rate": 1.000003000009,
          "initial": 0.9999969999999999,
          "observed": 0.999992,
          "observed_growth_rate": 0.9999949999850001
         },
         {
          "estimated": 1,
          "estimated_growth_rate": 1.000003000009,
          "initial": 0.9999969999999999,
          "observed": 0.999992,
          "observed_growth_rate": 0.9999949999850001
         },
         {
          "estimated": 1,
          "estimated_growth_rate": 1.000003000009,
          "initial": 0.9999969999999999,
          "observed": 0.999992,
          "observed_growth_rate": 0.9999949999850001
         },
         {
          "estimated": 1,
          "estimated_growth_rate": 1.000003000009,
          "initial": 0.9999969999999999,
          "observed": 0.999992,
          "observed_growth_rate": 0.9999949999850001
         },
         {
          "estimated": 1,
          "estimated_growth_rate": 1.000003000009,
          "initial": 0.9999969999999999,
          "observed": 0.999992,
          "observed_growth_rate": 0.9999949999850001
         },
         {
          "estimated": 1,
          "estimated_growth_rate": 1.000003000009,
          "initial": 0.9999969999999999,
          "observed": 0.999992,
          "observed_growth_rate": 0.9999949999850001
         },
         {
          "estimated": 1,
          "estimated_growth_rate": 1.000003000009,
          "initial": 0.9999969999999999,
          "observed": 0.999992,
          "observed_growth_rate": 0.9999949999850001
         },
         {
          "estimated": 1,
          "estimated_growth_rate": 1.000003000009,
          "initial": 0.9999969999999999,
          "observed": 0.999992,
          "observed_growth_rate": 0.9999949999850001
         },
         {
          "estimated": 1,
          "estimated_growth_rate": 1.000003000009,
          "initial": 0.9999969999999999,
          "observed": 0.999992,
          "observed_growth_rate": 0.9999949999850001
         },
         {
          "estimated": 1,
          "estimated_growth_rate": 1.000003000009,
          "initial": 0.9999969999999999,
          "observed": 0.999992,
          "observed_growth_rate": 0.9999949999850001
         },
         {
          "estimated": 1,
          "estimated_growth_rate": 1.000003000009,
          "initial": 0.9999969999999999,
          "observed": 0.999992,
          "observed_growth_rate": 0.9999949999850001
         },
         {
          "estimated": 1,
          "estimated_growth_rate": 1.000003000009,
          "initial": 0.9999969999999999,
          "observed": 0.999992,
          "observed_growth_rate": 0.9999949999850001
         },
         {
          "estimated": 1,
          "estimated_growth_rate": 1.000003000009,
          "initial": 0.9999969999999999,
          "observed": 0.999992,
          "observed_growth_rate": 0.9999949999850001
         },
         {
          "estimated": 1,
          "estimated_growth_rate": 1.000003000009,
          "initial": 0.9999969999999999,
          "observed": 0.999992,
          "observed_growth_rate": 0.9999949999850001
         },
         {
          "estimated": 1,
          "estimated_growth_rate": 1.000003000009,
          "initial": 0.9999969999999999,
          "observed": 0.999992,
          "observed_growth_rate": 0.9999949999850001
         },
         {
          "estimated": 1,
          "estimated_growth_rate": 1.000003000009,
          "initial": 0.9999969999999999,
          "observed": 0.999992,
          "observed_growth_rate": 0.9999949999850001
         },
         {
          "estimated": 1,
          "estimated_growth_rate": 1.000003000009,
          "initial": 0.9999969999999999,
          "observed": 0.999992,
          "observed_growth_rate": 0.9999949999850001
         },
         {
          "estimated": 1,
          "estimated_growth_rate": 1.000003000009,
          "initial": 0.9999969999999999,
          "observed": 0.999992,
          "observed_growth_rate": 0.9999949999850001
         },
         {
          "estimated": 1,
          "estimated_growth_rate": 1.000003000009,
          "initial": 0.9999969999999999,
          "observed": 0.999992,
          "observed_growth_rate": 0.9999949999850001
         },
         {
          "estimated": 1,
          "estimated_growth_rate": 1.000003000009,
          "initial": 0.9999969999999999,
          "observed": 0.999992,
          "observed_growth_rate": 0.9999949999850001
         },
         {
          "estimated": 1,
          "estimated_growth_rate": 1.000003000009,
          "initial": 0.9999969999999999,
          "observed": 0.999992,
          "observed_growth_rate": 0.9999949999850001
         },
         {
          "estimated": 1,
          "estimated_growth_rate": 1.000003000009,
          "initial": 0.9999969999999999,
          "observed": 0.999992,
          "observed_growth_rate": 0.9999949999850001
         },
         {
          "estimated": 0.9999981339409727,
          "estimated_growth_rate": 1.0473103803743855,
          "initial": 0.954825,
          "observed": 0.994998,
          "observed_growth_rate": 1.0420736784227476
         },
         {
          "estimated": 0.9999981339409727,
          "estimated_growth_rate": 1.0473103803743855,
          "initial": 0.954825,
          "observed": 0.994998,
          "observed_growth_rate": 1.0420736784227476
         },
         {
          "estimated": 0.9999981339409727,
          "estimated_growth_rate": 1.0473103803743855,
          "initial": 0.954825,
          "observed": 0.994998,
          "observed_growth_rate": 1.0420736784227476
         },
         {
          "estimated": 0.9999981339409727,
          "estimated_growth_rate": 1.0473103803743855,
          "initial": 0.954825,
          "observed": 0.994998,
          "observed_growth_rate": 1.0420736784227476
         },
         {
          "estimated": 0.9999981339409727,
          "estimated_growth_rate": 1.0473103803743855,
          "initial": 0.954825,
          "observed": 0.994998,
          "observed_growth_rate": 1.0420736784227476
         },
         {
          "estimated": 0.9999981339409727,
          "estimated_growth_rate": 1.0473103803743855,
          "initial": 0.954825,
          "observed": 0.994998,
          "observed_growth_rate": 1.0420736784227476
         },
         {
          "estimated": 0.9999981339409727,
          "estimated_growth_rate": 1.0473103803743855,
          "initial": 0.954825,
          "observed": 0.994998,
          "observed_growth_rate": 1.0420736784227476
         },
         {
          "estimated": 0.9999981339409727,
          "estimated_growth_rate": 1.0473103803743855,
          "initial": 0.954825,
          "observed": 0.994998,
          "observed_growth_rate": 1.0420736784227476
         },
         {
          "estimated": 0.9999981339409727,
          "estimated_growth_rate": 1.0473103803743855,
          "initial": 0.954825,
          "observed": 0.994998,
          "observed_growth_rate": 1.0420736784227476
         },
         {
          "estimated": 0.9999981339409727,
          "estimated_growth_rate": 1.0473103803743855,
          "initial": 0.954825,
          "observed": 0.994998,
          "observed_growth_rate": 1.0420736784227476
         },
         {
          "estimated": 0.9999981339409727,
          "estimated_growth_rate": 1.0473103803743855,
          "initial": 0.954825,
          "observed": 0.994998,
          "observed_growth_rate": 1.0420736784227476
         },
         {
          "estimated": 0.9999981339409727,
          "estimated_growth_rate": 1.0473103803743855,
          "initial": 0.954825,
          "observed": 0.994998,
          "observed_growth_rate": 1.0420736784227476
         },
         {
          "estimated": 0.9999981339409727,
          "estimated_growth_rate": 1.0473103803743855,
          "initial": 0.954825,
          "observed": 0.994998,
          "observed_growth_rate": 1.0420736784227476
         },
         {
          "estimated": 0.00011248750015946207,
          "estimated_growth_rate": 0.0003074991666788643,
          "initial": 0.36581400000000003,
          "observed": 0.20650100000000002,
          "observed_growth_rate": 0.5644972581694523
         },
         {
          "estimated": 0.00011248750015946207,
          "estimated_growth_rate": 0.0003074991666788643,
          "initial": 0.36581400000000003,
          "observed": 0.20650100000000002,
          "observed_growth_rate": 0.5644972581694523
         },
         {
          "estimated": 0.00011248750015946207,
          "estimated_growth_rate": 0.0003074991666788643,
          "initial": 0.36581400000000003,
          "observed": 0.20650100000000002,
          "observed_growth_rate": 0.5644972581694523
         },
         {
          "estimated": 0.00011244937492722335,
          "estimated_growth_rate": 0.000309480347894788,
          "initial": 0.3633490000000001,
          "observed": 0.20650100000000002,
          "observed_growth_rate": 0.5683268703092618
         },
         {
          "estimated": 0.00011241778717123675,
          "estimated_growth_rate": 0.00031043574850740137,
          "initial": 0.36212900000000003,
          "observed": 0.20650100000000002,
          "observed_growth_rate": 0.570241543759268
         },
         {
          "estimated": 0.00011241146548730069,
          "estimated_growth_rate": 0.0003106396077256832,
          "initial": 0.361871,
          "observed": 0.20650100000000002,
          "observed_growth_rate": 0.5706481038823228
         },
         {
          "estimated": 0.00011238214481481964,
          "estimated_growth_rate": 0.0003114536855614391,
          "initial": 0.360831,
          "observed": 0.20650100000000002,
          "observed_growth_rate": 0.5722928462354954
         },
         {
          "estimated": 0.00011238214481481964,
          "estimated_growth_rate": 0.0003114536855614391,
          "initial": 0.360831,
          "observed": 0.20650100000000002,
          "observed_growth_rate": 0.5722928462354954
         },
         {
          "estimated": 0.00011224466714656917,
          "estimated_growth_rate": 0.00031837129997126486,
          "initial": 0.352559,
          "observed": 0.20650100000000002,
          "observed_growth_rate": 0.585720404244396
         },
         {
          "estimated": 0.00010579643466887865,
          "estimated_growth_rate": 0.00041937778835723097,
          "initial": 0.25227,
          "observed": 0.157595,
          "observed_growth_rate": 0.6247076544971658
         },
         {
          "estimated": 0.0001057963265553874,
          "estimated_growth_rate": 0.0004193973097201572,
          "initial": 0.252258,
          "observed": 0.157595,
          "observed_growth_rate": 0.624737372055594
         },
         {
          "estimated": 0.0001057953595443963,
          "estimated_growth_rate": 0.0004194234044735026,
          "initial": 0.25224,
          "observed": 0.157595,
          "observed_growth_rate": 0.6247819536948938
         },
         {
          "estimated": 0.0001057953595443963,
          "estimated_growth_rate": 0.0004194234044735026,
          "initial": 0.25224,
          "observed": 0.157595,
          "observed_growth_rate": 0.6247819536948938
         },
         {
          "estimated": 0.00010488645641284183,
          "estimated_growth_rate": 0.000461343551409025,
          "initial": 0.22735,
          "observed": 0.157595,
          "observed_growth_rate": 0.693182318011876
         },
         {
          "estimated": 0.00010488645641284183,
          "estimated_growth_rate": 0.000461343551409025,
          "initial": 0.22735,
          "observed": 0.157595,
          "observed_growth_rate": 0.693182318011876
         },
         {
          "estimated": 0.00010486046043186213,
          "estimated_growth_rate": 0.0004624313056234246,
          "initial": 0.226759,
          "observed": 0.157595,
          "observed_growth_rate": 0.6949889530294278
         },
         {
          "estimated": 0.00010245419456507226,
          "estimated_growth_rate": 0.0005392212509477287,
          "initial": 0.190004,
          "observed": 0.157595,
          "observed_growth_rate": 0.8294299067388056
         },
         {
          "estimated": 0.00010245419456507226,
          "estimated_growth_rate": 0.0005392212509477287,
          "initial": 0.190004,
          "observed": 0.157595,
          "observed_growth_rate": 0.8294299067388056
         },
         {
          "estimated": 0.00010245419456507226,
          "estimated_growth_rate": 0.0005392212509477287,
          "initial": 0.190004,
          "observed": 0.157595,
          "observed_growth_rate": 0.8294299067388056
         },
         {
          "estimated": 0.9998856464408133,
          "estimated_growth_rate": 1.6975670173236381,
          "initial": 0.589011,
          "observed": 0.788497,
          "observed_growth_rate": 1.33867958323359
         },
         {
          "estimated": 0.9998856464408133,
          "estimated_growth_rate": 1.6975670173236381,
          "initial": 0.589011,
          "observed": 0.788497,
          "observed_growth_rate": 1.33867958323359
         },
         {
          "estimated": 0.9998856464408133,
          "estimated_growth_rate": 1.6975670173236381,
          "initial": 0.589011,
          "observed": 0.788497,
          "observed_growth_rate": 1.33867958323359
         },
         {
          "estimated": 0.9998856464408133,
          "estimated_growth_rate": 1.6975670173236381,
          "initial": 0.589011,
          "observed": 0.788497,
          "observed_growth_rate": 1.33867958323359
         },
         {
          "estimated": 0.9998856464408133,
          "estimated_growth_rate": 1.6975670173236381,
          "initial": 0.589011,
          "observed": 0.788497,
          "observed_growth_rate": 1.33867958323359
         },
         {
          "estimated": 0.9998856464408133,
          "estimated_growth_rate": 1.6975670173236381,
          "initial": 0.589011,
          "observed": 0.788497,
          "observed_growth_rate": 1.33867958323359
         },
         {
          "estimated": 0.9998856464408133,
          "estimated_growth_rate": 1.6975670173236381,
          "initial": 0.589011,
          "observed": 0.788497,
          "observed_growth_rate": 1.33867958323359
         },
         {
          "estimated": 0.9998856464408133,
          "estimated_growth_rate": 1.6975670173236381,
          "initial": 0.589011,
          "observed": 0.788497,
          "observed_growth_rate": 1.33867958323359
         },
         {
          "estimated": 0.9998843973708631,
          "estimated_growth_rate": 1.7711175225770315,
          "initial": 0.56455,
          "observed": 0.788497,
          "observed_growth_rate": 1.3966823133469135
         },
         {
          "estimated": 0.9998843973708631,
          "estimated_growth_rate": 1.7711175225770315,
          "initial": 0.56455,
          "observed": 0.788497,
          "observed_growth_rate": 1.3966823133469135
         },
         {
          "estimated": 0.9998843973708631,
          "estimated_growth_rate": 1.7711175225770315,
          "initial": 0.56455,
          "observed": 0.788497,
          "observed_growth_rate": 1.3966823133469135
         },
         {
          "estimated": 0.9998843973708631,
          "estimated_growth_rate": 1.7711175225770315,
          "initial": 0.56455,
          "observed": 0.788497,
          "observed_growth_rate": 1.3966823133469135
         },
         {
          "estimated": 0.9998843973708631,
          "estimated_growth_rate": 1.7711175225770315,
          "initial": 0.56455,
          "observed": 0.788497,
          "observed_growth_rate": 1.3966823133469135
         },
         {
          "estimated": 0.9998843973708631,
          "estimated_growth_rate": 1.7711175225770315,
          "initial": 0.56455,
          "observed": 0.788497,
          "observed_growth_rate": 1.3966823133469135
         },
         {
          "estimated": 0.9998843973708631,
          "estimated_growth_rate": 1.7711175225770315,
          "initial": 0.56455,
          "observed": 0.788497,
          "observed_growth_rate": 1.3966823133469135
         },
         {
          "estimated": 0.9998835757148522,
          "estimated_growth_rate": 1.8972870867272202,
          "initial": 0.527007,
          "observed": 0.7793640000000001,
          "observed_growth_rate": 1.4788494270474586
         },
         {
          "estimated": 0.9998795151049785,
          "estimated_growth_rate": 2.099114308667822,
          "initial": 0.47633400000000004,
          "observed": 0.695827,
          "observed_growth_rate": 1.4607964159602294
         },
         {
          "estimated": 0.9998795151049785,
          "estimated_growth_rate": 2.099114308667822,
          "initial": 0.47633400000000004,
          "observed": 0.695805,
          "observed_growth_rate": 1.4607502298807138
         },
         {
          "estimated": 0.9997740215962189,
          "estimated_growth_rate": 3.746183730379495,
          "initial": 0.266878,
          "observed": 0.21501599999999998,
          "observed_growth_rate": 0.8056715053320243
         },
         {
          "estimated": 0.9996389622863047,
          "estimated_growth_rate": 5.948426146147924,
          "initial": 0.16805099999999998,
          "observed": 0.200642,
          "observed_growth_rate": 1.1939351744410924
         },
         {
          "estimated": 0.9996381795516207,
          "estimated_growth_rate": 6.268463730406286,
          "initial": 0.15947099999999997,
          "observed": 0.200642,
          "observed_growth_rate": 1.2581723322735796
         },
         {
          "estimated": 0.9996381795516207,
          "estimated_growth_rate": 6.268463730406286,
          "initial": 0.15947099999999997,
          "observed": 0.200633,
          "observed_growth_rate": 1.2581158956800926
         },
         {
          "estimated": 0.00010549350875953212,
          "estimated_growth_rate": 0.0005036547473432707,
          "initial": 0.209456,
          "observed": 0.480789,
          "observed_growth_rate": 2.2954176533496295
         },
         {
          "estimated": 0.00010549350875953212,
          "estimated_growth_rate": 0.0005036547473432707,
          "initial": 0.209456,
          "observed": 0.480725,
          "observed_growth_rate": 2.295112099915973
         },
         {
          "estimated": 0.00010443352441980731,
          "estimated_growth_rate": 0.0005667018901353208,
          "initial": 0.184283,
          "observed": 0.472536,
          "observed_growth_rate": 2.564186604298823
         },
         {
          "estimated": 0.00010372109905557036,
          "estimated_growth_rate": 0.0005953113646075324,
          "initial": 0.17423,
          "observed": 0.472536,
          "observed_growth_rate": 2.7121391264420596
         },
         {
          "estimated": 0.9999999999999999,
          "estimated_growth_rate": 1.000004000016,
          "initial": 0.999996,
          "observed": 0.9999990000000001,
          "observed_growth_rate": 1.0000030000120002
         },
         {
          "estimated": 0.9999999999999999,
          "estimated_growth_rate": 1.000004000016,
          "initial": 0.999996,
          "observed": 0.9999990000000001,
          "observed_growth_rate": 1.0000030000120002
         },
         {
          "estimated": 0.9999999999999999,
          "estimated_growth_rate": 1.000004000016,
          "initial": 0.999996,
          "observed": 0.9999990000000001,
          "observed_growth_rate": 1.0000030000120002
         },
         {
          "estimated": 0.9999999999999999,
          "estimated_growth_rate": 1.000004000016,
          "initial": 0.999996,
          "observed": 0.9999990000000001,
          "observed_growth_rate": 1.0000030000120002
         },
         {
          "estimated": 0.9999999999999999,
          "estimated_growth_rate": 1.000004000016,
          "initial": 0.999996,
          "observed": 0.9999990000000001,
          "observed_growth_rate": 1.0000030000120002
         },
         {
          "estimated": 0.9999999999999999,
          "estimated_growth_rate": 1.000004000016,
          "initial": 0.999996,
          "observed": 0.9999990000000001,
          "observed_growth_rate": 1.0000030000120002
         },
         {
          "estimated": 0.9999999999999999,
          "estimated_growth_rate": 1.000004000016,
          "initial": 0.999996,
          "observed": 0.9999990000000001,
          "observed_growth_rate": 1.0000030000120002
         },
         {
          "estimated": 0.9999999999999999,
          "estimated_growth_rate": 1.000004000016,
          "initial": 0.999996,
          "observed": 0.9999990000000001,
          "observed_growth_rate": 1.0000030000120002
         },
         {
          "estimated": 0.9999999999999999,
          "estimated_growth_rate": 1.000004000016,
          "initial": 0.999996,
          "observed": 0.9999990000000001,
          "observed_growth_rate": 1.0000030000120002
         },
         {
          "estimated": 0.9999999999999999,
          "estimated_growth_rate": 1.000004000016,
          "initial": 0.999996,
          "observed": 0.9999990000000001,
          "observed_growth_rate": 1.0000030000120002
         },
         {
          "estimated": 0.9999999999999999,
          "estimated_growth_rate": 1.000004000016,
          "initial": 0.999996,
          "observed": 0.9999990000000001,
          "observed_growth_rate": 1.0000030000120002
         },
         {
          "estimated": 0.9999999999999999,
          "estimated_growth_rate": 1.000004000016,
          "initial": 0.999996,
          "observed": 0.9999990000000001,
          "observed_growth_rate": 1.0000030000120002
         },
         {
          "estimated": 0.9999999999999999,
          "estimated_growth_rate": 1.000004000016,
          "initial": 0.999996,
          "observed": 0.9999990000000001,
          "observed_growth_rate": 1.0000030000120002
         },
         {
          "estimated": 0.9999999999999999,
          "estimated_growth_rate": 1.000004000016,
          "initial": 0.999996,
          "observed": 0.9999990000000001,
          "observed_growth_rate": 1.0000030000120002
         },
         {
          "estimated": 0.9999999999999999,
          "estimated_growth_rate": 1.000004000016,
          "initial": 0.999996,
          "observed": 0.9999990000000001,
          "observed_growth_rate": 1.0000030000120002
         },
         {
          "estimated": 0.9999999999999999,
          "estimated_growth_rate": 1.000004000016,
          "initial": 0.999996,
          "observed": 0.9999990000000001,
          "observed_growth_rate": 1.0000030000120002
         },
         {
          "estimated": 0.9999999999999999,
          "estimated_growth_rate": 1.000004000016,
          "initial": 0.999996,
          "observed": 0.9999990000000001,
          "observed_growth_rate": 1.0000030000120002
         },
         {
          "estimated": 0.9999999999999999,
          "estimated_growth_rate": 1.000004000016,
          "initial": 0.999996,
          "observed": 0.9999990000000001,
          "observed_growth_rate": 1.0000030000120002
         },
         {
          "estimated": 0.9999999999999999,
          "estimated_growth_rate": 1.000004000016,
          "initial": 0.999996,
          "observed": 0.9999990000000001,
          "observed_growth_rate": 1.0000030000120002
         },
         {
          "estimated": 0.9999999999999999,
          "estimated_growth_rate": 1.000004000016,
          "initial": 0.999996,
          "observed": 0.9999990000000001,
          "observed_growth_rate": 1.0000030000120002
         },
         {
          "estimated": 0.9999999999999999,
          "estimated_growth_rate": 1.000004000016,
          "initial": 0.999996,
          "observed": 0.9999990000000001,
          "observed_growth_rate": 1.0000030000120002
         },
         {
          "estimated": 0.9999999999999999,
          "estimated_growth_rate": 1.000004000016,
          "initial": 0.999996,
          "observed": 0.9999990000000001,
          "observed_growth_rate": 1.0000030000120002
         },
         {
          "estimated": 0.9999999999999999,
          "estimated_growth_rate": 1.000004000016,
          "initial": 0.999996,
          "observed": 0.9999990000000001,
          "observed_growth_rate": 1.0000030000120002
         },
         {
          "estimated": 0.9999999999999999,
          "estimated_growth_rate": 1.000004000016,
          "initial": 0.999996,
          "observed": 0.9999990000000001,
          "observed_growth_rate": 1.0000030000120002
         },
         {
          "estimated": 0.9999999999999999,
          "estimated_growth_rate": 1.000004000016,
          "initial": 0.999996,
          "observed": 0.9999990000000001,
          "observed_growth_rate": 1.0000030000120002
         },
         {
          "estimated": 0.9999999999999999,
          "estimated_growth_rate": 1.000004000016,
          "initial": 0.999996,
          "observed": 0.9999990000000001,
          "observed_growth_rate": 1.0000030000120002
         },
         {
          "estimated": 0.9999999999999999,
          "estimated_growth_rate": 1.000004000016,
          "initial": 0.999996,
          "observed": 0.9999990000000001,
          "observed_growth_rate": 1.0000030000120002
         },
         {
          "estimated": 0.9999999999999999,
          "estimated_growth_rate": 1.000004000016,
          "initial": 0.999996,
          "observed": 0.9999990000000001,
          "observed_growth_rate": 1.0000030000120002
         },
         {
          "estimated": 0.9999999999999999,
          "estimated_growth_rate": 1.000004000016,
          "initial": 0.999996,
          "observed": 0.9999990000000001,
          "observed_growth_rate": 1.0000030000120002
         },
         {
          "estimated": 0.9999999999999999,
          "estimated_growth_rate": 1.000004000016,
          "initial": 0.999996,
          "observed": 0.9999990000000001,
          "observed_growth_rate": 1.0000030000120002
         },
         {
          "estimated": 0.9999999999999999,
          "estimated_growth_rate": 1.000004000016,
          "initial": 0.999996,
          "observed": 0.9999990000000001,
          "observed_growth_rate": 1.0000030000120002
         },
         {
          "estimated": 0.9999999999999999,
          "estimated_growth_rate": 1.000004000016,
          "initial": 0.999996,
          "observed": 0.9999990000000001,
          "observed_growth_rate": 1.0000030000120002
         },
         {
          "estimated": 0.9999999999999999,
          "estimated_growth_rate": 1.000004000016,
          "initial": 0.999996,
          "observed": 0.9999990000000001,
          "observed_growth_rate": 1.0000030000120002
         },
         {
          "estimated": 0.9999999999999999,
          "estimated_growth_rate": 1.000004000016,
          "initial": 0.999996,
          "observed": 0.9999990000000001,
          "observed_growth_rate": 1.0000030000120002
         },
         {
          "estimated": 0.9999999999999999,
          "estimated_growth_rate": 1.000004000016,
          "initial": 0.999996,
          "observed": 0.9999990000000001,
          "observed_growth_rate": 1.0000030000120002
         },
         {
          "estimated": 0.9999999999999999,
          "estimated_growth_rate": 1.000004000016,
          "initial": 0.999996,
          "observed": 0.9999990000000001,
          "observed_growth_rate": 1.0000030000120002
         },
         {
          "estimated": 0.9999999999999999,
          "estimated_growth_rate": 1.000004000016,
          "initial": 0.999996,
          "observed": 0.9999990000000001,
          "observed_growth_rate": 1.0000030000120002
         },
         {
          "estimated": 0.9999999999999999,
          "estimated_growth_rate": 1.000004000016,
          "initial": 0.999996,
          "observed": 0.9999990000000001,
          "observed_growth_rate": 1.0000030000120002
         },
         {
          "estimated": 0.9999999999999999,
          "estimated_growth_rate": 1.000004000016,
          "initial": 0.999996,
          "observed": 0.9999990000000001,
          "observed_growth_rate": 1.0000030000120002
         },
         {
          "estimated": 0.9999999999999999,
          "estimated_growth_rate": 1.000004000016,
          "initial": 0.999996,
          "observed": 0.9999990000000001,
          "observed_growth_rate": 1.0000030000120002
         },
         {
          "estimated": 0.9999999999999999,
          "estimated_growth_rate": 1.000004000016,
          "initial": 0.999996,
          "observed": 0.9999990000000001,
          "observed_growth_rate": 1.0000030000120002
         },
         {
          "estimated": 0.9999999999999999,
          "estimated_growth_rate": 1.000004000016,
          "initial": 0.999996,
          "observed": 0.9999990000000001,
          "observed_growth_rate": 1.0000030000120002
         },
         {
          "estimated": 0.9999999999999999,
          "estimated_growth_rate": 1.000004000016,
          "initial": 0.999996,
          "observed": 0.9999990000000001,
          "observed_growth_rate": 1.0000030000120002
         },
         {
          "estimated": 0.9999999999999999,
          "estimated_growth_rate": 1.000004000016,
          "initial": 0.999996,
          "observed": 0.9999990000000001,
          "observed_growth_rate": 1.0000030000120002
         },
         {
          "estimated": 0.9999999999999999,
          "estimated_growth_rate": 1.000004000016,
          "initial": 0.999996,
          "observed": 0.9999990000000001,
          "observed_growth_rate": 1.0000030000120002
         },
         {
          "estimated": 0.9999999999999999,
          "estimated_growth_rate": 1.000004000016,
          "initial": 0.999996,
          "observed": 0.9999990000000001,
          "observed_growth_rate": 1.0000030000120002
         },
         {
          "estimated": 0.9999999999999999,
          "estimated_growth_rate": 1.000004000016,
          "initial": 0.999996,
          "observed": 0.9999990000000001,
          "observed_growth_rate": 1.0000030000120002
         },
         {
          "estimated": 0.9999999999999999,
          "estimated_growth_rate": 1.000004000016,
          "initial": 0.999996,
          "observed": 0.9999990000000001,
          "observed_growth_rate": 1.0000030000120002
         },
         {
          "estimated": 0.9999999999999999,
          "estimated_growth_rate": 1.000004000016,
          "initial": 0.999996,
          "observed": 0.9999990000000001,
          "observed_growth_rate": 1.0000030000120002
         },
         {
          "estimated": 0.9999999999999999,
          "estimated_growth_rate": 1.000004000016,
          "initial": 0.999996,
          "observed": 0.9999990000000001,
          "observed_growth_rate": 1.0000030000120002
         },
         {
          "estimated": 0.9999999999999999,
          "estimated_growth_rate": 1.000004000016,
          "initial": 0.999996,
          "observed": 0.9999990000000001,
          "observed_growth_rate": 1.0000030000120002
         },
         {
          "estimated": 0.9999999999999999,
          "estimated_growth_rate": 1.000004000016,
          "initial": 0.999996,
          "observed": 0.9999990000000001,
          "observed_growth_rate": 1.0000030000120002
         },
         {
          "estimated": 0.9999999999999999,
          "estimated_growth_rate": 1.000004000016,
          "initial": 0.999996,
          "observed": 0.9999990000000001,
          "observed_growth_rate": 1.0000030000120002
         },
         {
          "estimated": 0.9999999999999999,
          "estimated_growth_rate": 1.000004000016,
          "initial": 0.999996,
          "observed": 0.9999990000000001,
          "observed_growth_rate": 1.0000030000120002
         },
         {
          "estimated": 0.9999999999999999,
          "estimated_growth_rate": 1.000004000016,
          "initial": 0.999996,
          "observed": 0.9999990000000001,
          "observed_growth_rate": 1.0000030000120002
         },
         {
          "estimated": 0.9999999999999999,
          "estimated_growth_rate": 1.000004000016,
          "initial": 0.999996,
          "observed": 0.9999990000000001,
          "observed_growth_rate": 1.0000030000120002
         },
         {
          "estimated": 0.9999999999999999,
          "estimated_growth_rate": 1.000004000016,
          "initial": 0.999996,
          "observed": 0.9999990000000001,
          "observed_growth_rate": 1.0000030000120002
         },
         {
          "estimated": 0.9999999999999999,
          "estimated_growth_rate": 1.000004000016,
          "initial": 0.999996,
          "observed": 0.9999990000000001,
          "observed_growth_rate": 1.0000030000120002
         },
         {
          "estimated": 0.9999999999999999,
          "estimated_growth_rate": 1.000004000016,
          "initial": 0.999996,
          "observed": 0.9999990000000001,
          "observed_growth_rate": 1.0000030000120002
         },
         {
          "estimated": 0.9999999999999999,
          "estimated_growth_rate": 1.000004000016,
          "initial": 0.999996,
          "observed": 0.9999990000000001,
          "observed_growth_rate": 1.0000030000120002
         },
         {
          "estimated": 0.9999999999999999,
          "estimated_growth_rate": 1.000004000016,
          "initial": 0.999996,
          "observed": 0.9999990000000001,
          "observed_growth_rate": 1.0000030000120002
         },
         {
          "estimated": 0.9999999999999999,
          "estimated_growth_rate": 1.000004000016,
          "initial": 0.999996,
          "observed": 0.9999990000000001,
          "observed_growth_rate": 1.0000030000120002
         },
         {
          "estimated": 0.9999999999999999,
          "estimated_growth_rate": 1.000004000016,
          "initial": 0.999996,
          "observed": 0.9999990000000001,
          "observed_growth_rate": 1.0000030000120002
         },
         {
          "estimated": 0.9999999999999999,
          "estimated_growth_rate": 1.000004000016,
          "initial": 0.999996,
          "observed": 0.9999990000000001,
          "observed_growth_rate": 1.0000030000120002
         },
         {
          "estimated": 0.9999999999999999,
          "estimated_growth_rate": 1.000004000016,
          "initial": 0.999996,
          "observed": 0.9999990000000001,
          "observed_growth_rate": 1.0000030000120002
         },
         {
          "estimated": 0.9999999999999999,
          "estimated_growth_rate": 1.000004000016,
          "initial": 0.999996,
          "observed": 0.9999990000000001,
          "observed_growth_rate": 1.0000030000120002
         },
         {
          "estimated": 0.9999999999999999,
          "estimated_growth_rate": 1.000004000016,
          "initial": 0.999996,
          "observed": 0.9999990000000001,
          "observed_growth_rate": 1.0000030000120002
         },
         {
          "estimated": 0.9999999999999999,
          "estimated_growth_rate": 1.000004000016,
          "initial": 0.999996,
          "observed": 0.9999990000000001,
          "observed_growth_rate": 1.0000030000120002
         },
         {
          "estimated": 0.9999999999999999,
          "estimated_growth_rate": 1.000004000016,
          "initial": 0.999996,
          "observed": 0.9999990000000001,
          "observed_growth_rate": 1.0000030000120002
         },
         {
          "estimated": 0.9999999999999999,
          "estimated_growth_rate": 1.000004000016,
          "initial": 0.999996,
          "observed": 0.9999990000000001,
          "observed_growth_rate": 1.0000030000120002
         },
         {
          "estimated": 0.9999999999999999,
          "estimated_growth_rate": 1.000004000016,
          "initial": 0.999996,
          "observed": 0.9999990000000001,
          "observed_growth_rate": 1.0000030000120002
         },
         {
          "estimated": 0.9999999999999999,
          "estimated_growth_rate": 1.000004000016,
          "initial": 0.999996,
          "observed": 0.9999990000000001,
          "observed_growth_rate": 1.0000030000120002
         },
         {
          "estimated": 0.9999999999999999,
          "estimated_growth_rate": 1.000004000016,
          "initial": 0.999996,
          "observed": 0.9999990000000001,
          "observed_growth_rate": 1.0000030000120002
         },
         {
          "estimated": 0.9999999999999999,
          "estimated_growth_rate": 1.000004000016,
          "initial": 0.999996,
          "observed": 0.9999990000000001,
          "observed_growth_rate": 1.0000030000120002
         },
         {
          "estimated": 0.9999999999999999,
          "estimated_growth_rate": 1.000004000016,
          "initial": 0.999996,
          "observed": 0.9999990000000001,
          "observed_growth_rate": 1.0000030000120002
         },
         {
          "estimated": 0.9999999999999999,
          "estimated_growth_rate": 1.000004000016,
          "initial": 0.999996,
          "observed": 0.9999990000000001,
          "observed_growth_rate": 1.0000030000120002
         },
         {
          "estimated": 0.9999999999999999,
          "estimated_growth_rate": 1.000004000016,
          "initial": 0.999996,
          "observed": 0.9999990000000001,
          "observed_growth_rate": 1.0000030000120002
         },
         {
          "estimated": 0.9999999999999999,
          "estimated_growth_rate": 1.000004000016,
          "initial": 0.999996,
          "observed": 0.9999990000000001,
          "observed_growth_rate": 1.0000030000120002
         },
         {
          "estimated": 0.9999999999999999,
          "estimated_growth_rate": 1.000004000016,
          "initial": 0.999996,
          "observed": 0.9999990000000001,
          "observed_growth_rate": 1.0000030000120002
         },
         {
          "estimated": 0.9999999999999999,
          "estimated_growth_rate": 1.000004000016,
          "initial": 0.999996,
          "observed": 0.9999990000000001,
          "observed_growth_rate": 1.0000030000120002
         },
         {
          "estimated": 0.9999999999999999,
          "estimated_growth_rate": 1.000004000016,
          "initial": 0.999996,
          "observed": 0.9999990000000001,
          "observed_growth_rate": 1.0000030000120002
         },
         {
          "estimated": 0.9999999999999999,
          "estimated_growth_rate": 1.000004000016,
          "initial": 0.999996,
          "observed": 0.9999990000000001,
          "observed_growth_rate": 1.0000030000120002
         },
         {
          "estimated": 0.9999999999999999,
          "estimated_growth_rate": 1.000004000016,
          "initial": 0.999996,
          "observed": 0.9999990000000001,
          "observed_growth_rate": 1.0000030000120002
         },
         {
          "estimated": 0.9999999999999999,
          "estimated_growth_rate": 1.000004000016,
          "initial": 0.999996,
          "observed": 0.9999990000000001,
          "observed_growth_rate": 1.0000030000120002
         },
         {
          "estimated": 0.9999999999999999,
          "estimated_growth_rate": 1.000004000016,
          "initial": 0.999996,
          "observed": 0.9999990000000001,
          "observed_growth_rate": 1.0000030000120002
         },
         {
          "estimated": 0.9999999999999999,
          "estimated_growth_rate": 1.000004000016,
          "initial": 0.999996,
          "observed": 0.9999990000000001,
          "observed_growth_rate": 1.0000030000120002
         },
         {
          "estimated": 0.9999999999999999,
          "estimated_growth_rate": 1.000004000016,
          "initial": 0.999996,
          "observed": 0.9999990000000001,
          "observed_growth_rate": 1.0000030000120002
         },
         {
          "estimated": 0.9999999999999999,
          "estimated_growth_rate": 1.000004000016,
          "initial": 0.999996,
          "observed": 0.9999990000000001,
          "observed_growth_rate": 1.0000030000120002
         },
         {
          "estimated": 0.9999999999999999,
          "estimated_growth_rate": 1.000004000016,
          "initial": 0.999996,
          "observed": 0.9999990000000001,
          "observed_growth_rate": 1.0000030000120002
         },
         {
          "estimated": 0.9999999999999999,
          "estimated_growth_rate": 1.000004000016,
          "initial": 0.999996,
          "observed": 0.9999990000000001,
          "observed_growth_rate": 1.0000030000120002
         },
         {
          "estimated": 0.9999999999999999,
          "estimated_growth_rate": 1.000004000016,
          "initial": 0.999996,
          "observed": 0.9999990000000001,
          "observed_growth_rate": 1.0000030000120002
         },
         {
          "estimated": 0.9999999999999999,
          "estimated_growth_rate": 1.000004000016,
          "initial": 0.999996,
          "observed": 0.9999990000000001,
          "observed_growth_rate": 1.0000030000120002
         },
         {
          "estimated": 0.9992359646442885,
          "estimated_growth_rate": 1.16439218823075,
          "initial": 0.858161,
          "observed": 0.935092,
          "observed_growth_rate": 1.0896463484124774
         },
         {
          "estimated": 0.9992359646442885,
          "estimated_growth_rate": 1.16439218823075,
          "initial": 0.858161,
          "observed": 0.935092,
          "observed_growth_rate": 1.0896463484124774
         },
         {
          "estimated": 0.9992359646442885,
          "estimated_growth_rate": 1.16439218823075,
          "initial": 0.858161,
          "observed": 0.935092,
          "observed_growth_rate": 1.0896463484124774
         },
         {
          "estimated": 0.9992359646442885,
          "estimated_growth_rate": 1.16439218823075,
          "initial": 0.858161,
          "observed": 0.935092,
          "observed_growth_rate": 1.0896463484124774
         },
         {
          "estimated": 0.9992359646442885,
          "estimated_growth_rate": 1.16439218823075,
          "initial": 0.858161,
          "observed": 0.935092,
          "observed_growth_rate": 1.0896463484124774
         },
         {
          "estimated": 0.9992359646442885,
          "estimated_growth_rate": 1.16439218823075,
          "initial": 0.858161,
          "observed": 0.935092,
          "observed_growth_rate": 1.0896463484124774
         },
         {
          "estimated": 0.9992359646442885,
          "estimated_growth_rate": 1.16439218823075,
          "initial": 0.858161,
          "observed": 0.935092,
          "observed_growth_rate": 1.0896463484124774
         },
         {
          "estimated": 0.9992359646442885,
          "estimated_growth_rate": 1.16439218823075,
          "initial": 0.858161,
          "observed": 0.935092,
          "observed_growth_rate": 1.0896463484124774
         },
         {
          "estimated": 0.9992359646442885,
          "estimated_growth_rate": 1.16439218823075,
          "initial": 0.858161,
          "observed": 0.935092,
          "observed_growth_rate": 1.0896463484124774
         },
         {
          "estimated": 0.9992359646442885,
          "estimated_growth_rate": 1.16439218823075,
          "initial": 0.858161,
          "observed": 0.935092,
          "observed_growth_rate": 1.0896463484124774
         },
         {
          "estimated": 0.9992359646442885,
          "estimated_growth_rate": 1.16439218823075,
          "initial": 0.858161,
          "observed": 0.935092,
          "observed_growth_rate": 1.0896463484124774
         },
         {
          "estimated": 0.9992359646442885,
          "estimated_growth_rate": 1.16439218823075,
          "initial": 0.858161,
          "observed": 0.935092,
          "observed_growth_rate": 1.0896463484124774
         },
         {
          "estimated": 0.9992359646442885,
          "estimated_growth_rate": 1.16439218823075,
          "initial": 0.858161,
          "observed": 0.935092,
          "observed_growth_rate": 1.0896463484124774
         },
         {
          "estimated": 0.9992359646442885,
          "estimated_growth_rate": 1.16439218823075,
          "initial": 0.858161,
          "observed": 0.935092,
          "observed_growth_rate": 1.0896463484124774
         },
         {
          "estimated": 0.9992359646442885,
          "estimated_growth_rate": 1.16439218823075,
          "initial": 0.858161,
          "observed": 0.935092,
          "observed_growth_rate": 1.0896463484124774
         },
         {
          "estimated": 0.9991957936275705,
          "estimated_growth_rate": 1.180358377812631,
          "initial": 0.846519,
          "observed": 0.935092,
          "observed_growth_rate": 1.104632028341951
         },
         {
          "estimated": 0.9986739341788473,
          "estimated_growth_rate": 1.3221917872613052,
          "initial": 0.755317,
          "observed": 0.9156139999999999,
          "observed_growth_rate": 1.2122248009776027
         },
         {
          "estimated": 0.9986448606104597,
          "estimated_growth_rate": 1.3333558450333318,
          "initial": 0.748971,
          "observed": 0.9156139999999999,
          "observed_growth_rate": 1.222495931084114
         },
         {
          "estimated": 0.9426641947422276,
          "estimated_growth_rate": 2.246562094985564,
          "initial": 0.419603,
          "observed": 0.043096,
          "observed_growth_rate": 0.10270660600615344
         },
         {
          "estimated": 0.9424427142702159,
          "estimated_growth_rate": 2.467728306289793,
          "initial": 0.381907,
          "observed": 0.043096,
          "observed_growth_rate": 0.11284422647398451
         },
         {
          "estimated": 0.9424419429122943,
          "estimated_growth_rate": 2.4681011156564354,
          "initial": 0.38184900000000005,
          "observed": 0.043096,
          "observed_growth_rate": 0.11286136666588101
         },
         {
          "estimated": 0.9424151866851271,
          "estimated_growth_rate": 2.5097741843768198,
          "initial": 0.37549800000000005,
          "observed": 0.043096,
          "observed_growth_rate": 0.11477025177231302
         },
         {
          "estimated": 0.9423180263939408,
          "estimated_growth_rate": 2.6184010536589413,
          "initial": 0.359883,
          "observed": 0.043096,
          "observed_growth_rate": 0.11975002987081913
         },
         {
          "estimated": 0.9423180263939408,
          "estimated_growth_rate": 2.6184010536589413,
          "initial": 0.359883,
          "observed": 0.043048,
          "observed_growth_rate": 0.11961665319006455
         },
         {
          "estimated": 0.9422190308283318,
          "estimated_growth_rate": 2.7412081519717324,
          "initial": 0.34372400000000003,
          "observed": 0.043048,
          "observed_growth_rate": 0.12524001815410038
         },
         {
          "estimated": 0.9421525698561322,
          "estimated_growth_rate": 2.843075485782797,
          "initial": 0.331385,
          "observed": 0.043048,
          "observed_growth_rate": 0.12990328469906606
         },
         {
          "estimated": 0.942100957222789,
          "estimated_growth_rate": 2.8949330494722054,
          "initial": 0.3254309999999999,
          "observed": 0.043048,
          "observed_growth_rate": 0.1322799610362873
         },
         {
          "estimated": 0.9420924692411325,
          "estimated_growth_rate": 2.89707021550959,
          "initial": 0.325188,
          "observed": 0.043048,
          "observed_growth_rate": 0.13237880856612178
         },
         {
          "estimated": 0.9420606127237783,
          "estimated_growth_rate": 2.954353510887686,
          "initial": 0.318872,
          "observed": 0.043048,
          "observed_growth_rate": 0.1350008780952859
         },
         {
          "estimated": 0.9420420794840108,
          "estimated_growth_rate": 2.9935843536085405,
          "initial": 0.314687,
          "observed": 0.043048,
          "observed_growth_rate": 0.13679624515788705
         },
         {
          "estimated": 0.9419452271463418,
          "estimated_growth_rate": 3.1167947003015777,
          "initial": 0.30221600000000004,
          "observed": 0.043048,
          "observed_growth_rate": 0.14244116790639808
         },
         {
          "estimated": 0.9419004419242778,
          "estimated_growth_rate": 3.1166980749353193,
          "initial": 0.302211,
          "observed": 0.043048,
          "observed_growth_rate": 0.1424435245573457
         },
         {
          "estimated": 0.9417411062559986,
          "estimated_growth_rate": 3.1231568682109825,
          "initial": 0.301535,
          "observed": 0.043048,
          "observed_growth_rate": 0.14276286334919663
         },
         {
          "estimated": 0.9415594090960642,
          "estimated_growth_rate": 3.1226682091510605,
          "initial": 0.30152399999999996,
          "observed": 0.043048,
          "observed_growth_rate": 0.14276807152996115
         },
         {
          "estimated": 0.9415284595783173,
          "estimated_growth_rate": 3.18966484827383,
          "initial": 0.29518099999999997,
          "observed": 0.036379,
          "observed_growth_rate": 0.12324302715960718
         },
         {
          "estimated": 0.9389592761265297,
          "estimated_growth_rate": 4.026653727610276,
          "initial": 0.233186,
          "observed": 0.034856,
          "observed_growth_rate": 0.14947724134381996
         },
         {
          "estimated": 0.9389592761265297,
          "estimated_growth_rate": 4.026653727610276,
          "initial": 0.233186,
          "observed": 0.034856,
          "observed_growth_rate": 0.14947724134381996
         },
         {
          "estimated": 0.9386248458383977,
          "estimated_growth_rate": 4.108828300692072,
          "initial": 0.228441,
          "observed": 0.034856,
          "observed_growth_rate": 0.15258206714206293
         },
         {
          "estimated": 0.9383306807671545,
          "estimated_growth_rate": 4.343520255368025,
          "initial": 0.21603,
          "observed": 0.03179,
          "observed_growth_rate": 0.1471554876637504
         },
         {
          "estimated": 0.9363122401818882,
          "estimated_growth_rate": 4.342035717944751,
          "initial": 0.21563900000000003,
          "observed": 0.03179,
          "observed_growth_rate": 0.14742231229044836
         },
         {
          "estimated": 0.9330650355809726,
          "estimated_growth_rate": 5.385967649393746,
          "initial": 0.17324000000000003,
          "observed": 0.03179,
          "observed_growth_rate": 0.18350265527591775
         },
         {
          "estimated": 0.05598066586823194,
          "estimated_growth_rate": 0.16996388801654058,
          "initial": 0.329368,
          "observed": 0.8725180000000001,
          "observed_growth_rate": 2.6490673046561906
         },
         {
          "estimated": 0.05595925886331824,
          "estimated_growth_rate": 0.17322059254645766,
          "initial": 0.323052,
          "observed": 0.8725180000000001,
          "observed_growth_rate": 2.700859304384434
         },
         {
          "estimated": 0.05575815361628554,
          "estimated_growth_rate": 0.19674094194709954,
          "initial": 0.283409,
          "observed": 0.8725180000000001,
          "observed_growth_rate": 3.078653112639331
         },
         {
          "estimated": 0.05575815361628554,
          "estimated_growth_rate": 0.19674094194709954,
          "initial": 0.283409,
          "observed": 0.851935,
          "observed_growth_rate": 3.006026625830513
         },
         {
          "estimated": 0.05573575420034463,
          "estimated_growth_rate": 0.20049842150448088,
          "initial": 0.277986,
          "observed": 0.851935,
          "observed_growth_rate": 3.0646687243242465
         },
         {
          "estimated": 0.05555093060771087,
          "estimated_growth_rate": 0.2083758978495475,
          "initial": 0.26659000000000005,
          "observed": 0.851934,
          "observed_growth_rate": 3.1956712554859514
         },
         {
          "estimated": 0.055472874176359446,
          "estimated_growth_rate": 0.22189327185161262,
          "initial": 0.24999799999999997,
          "observed": 0.8488140000000001,
          "observed_growth_rate": 3.3952831622652986
         },
         {
          "estimated": 0.055449697224144,
          "estimated_growth_rate": 0.2275354116962622,
          "initial": 0.24369699999999997,
          "observed": 0.8488140000000001,
          "observed_growth_rate": 3.4830711908640657
         },
         {
          "estimated": 0.05544584381665889,
          "estimated_growth_rate": 0.2280839667645392,
          "initial": 0.24309399999999998,
          "observed": 0.8488140000000001,
          "observed_growth_rate": 3.4917110253646744
         },
         {
          "estimated": 0.05542196471172948,
          "estimated_growth_rate": 0.23409884311341894,
          "initial": 0.23674599999999998,
          "observed": 0.8488140000000001,
          "observed_growth_rate": 3.5853361830822914
         },
         {
          "estimated": 0.05542196471172948,
          "estimated_growth_rate": 0.23409884311341894,
          "initial": 0.23674599999999998,
          "observed": 0.8418650000000001,
          "observed_growth_rate": 3.555984050416903
         },
         {
          "estimated": 0.05540940107681383,
          "estimated_growth_rate": 0.2347159786369036,
          "initial": 0.23606999999999997,
          "observed": 0.8418650000000001,
          "observed_growth_rate": 3.5661668149277763
         },
         {
          "estimated": 0.055270753222827124,
          "estimated_growth_rate": 0.2654733412240673,
          "initial": 0.20819699999999997,
          "observed": 0.8418650000000001,
          "observed_growth_rate": 4.043598130616677
         },
         {
          "estimated": 0.0551992139764445,
          "estimated_growth_rate": 0.2733013188780846,
          "initial": 0.20197199999999996,
          "observed": 0.8418650000000001,
          "observed_growth_rate": 4.168226288792507
         },
         {
          "estimated": 0.05493676176067628,
          "estimated_growth_rate": 0.2841473358229653,
          "initial": 0.19333899999999998,
          "observed": 0.8418650000000001,
          "observed_growth_rate": 4.354346510533313
         },
         {
          "estimated": 0.05472028339720646,
          "estimated_growth_rate": 0.30000648802999214,
          "initial": 0.18239699999999995,
          "observed": 0.8418650000000001,
          "observed_growth_rate": 4.6155638524756455
         },
         {
          "estimated": 0.9999999999999998,
          "estimated_growth_rate": 1.0000080000640004,
          "initial": 0.999992,
          "observed": 0.9999990000000001,
          "observed_growth_rate": 1.0000070000560006
         },
         {
          "estimated": 0.9999999999999998,
          "estimated_growth_rate": 1.0000080000640004,
          "initial": 0.999992,
          "observed": 0.9999990000000001,
          "observed_growth_rate": 1.0000070000560006
         },
         {
          "estimated": 0.9999999999999998,
          "estimated_growth_rate": 1.0000080000640004,
          "initial": 0.999992,
          "observed": 0.9999990000000001,
          "observed_growth_rate": 1.0000070000560006
         },
         {
          "estimated": 0.9999999999999998,
          "estimated_growth_rate": 1.0000080000640004,
          "initial": 0.999992,
          "observed": 0.9999990000000001,
          "observed_growth_rate": 1.0000070000560006
         },
         {
          "estimated": 0.9999999999999998,
          "estimated_growth_rate": 1.0000080000640004,
          "initial": 0.999992,
          "observed": 0.9999990000000001,
          "observed_growth_rate": 1.0000070000560006
         },
         {
          "estimated": 0.9999999999999998,
          "estimated_growth_rate": 1.0000080000640004,
          "initial": 0.999992,
          "observed": 0.9999990000000001,
          "observed_growth_rate": 1.0000070000560006
         },
         {
          "estimated": 0.9999999999999998,
          "estimated_growth_rate": 1.0000080000640004,
          "initial": 0.999992,
          "observed": 0.9999990000000001,
          "observed_growth_rate": 1.0000070000560006
         },
         {
          "estimated": 0.9999999999999998,
          "estimated_growth_rate": 1.0000080000640004,
          "initial": 0.999992,
          "observed": 0.9999990000000001,
          "observed_growth_rate": 1.0000070000560006
         },
         {
          "estimated": 0.9999999999999998,
          "estimated_growth_rate": 1.0000080000640004,
          "initial": 0.999992,
          "observed": 0.9999990000000001,
          "observed_growth_rate": 1.0000070000560006
         },
         {
          "estimated": 0.9999999999999998,
          "estimated_growth_rate": 1.0000080000640004,
          "initial": 0.999992,
          "observed": 0.9999990000000001,
          "observed_growth_rate": 1.0000070000560006
         },
         {
          "estimated": 0.9999999999999998,
          "estimated_growth_rate": 1.0000080000640004,
          "initial": 0.999992,
          "observed": 0.9999990000000001,
          "observed_growth_rate": 1.0000070000560006
         },
         {
          "estimated": 0.9999999999999998,
          "estimated_growth_rate": 1.0000080000640004,
          "initial": 0.999992,
          "observed": 0.9999990000000001,
          "observed_growth_rate": 1.0000070000560006
         },
         {
          "estimated": 0.9999999999999998,
          "estimated_growth_rate": 1.0000080000640004,
          "initial": 0.999992,
          "observed": 0.9999990000000001,
          "observed_growth_rate": 1.0000070000560006
         },
         {
          "estimated": 0.9999999999999998,
          "estimated_growth_rate": 1.0000080000640004,
          "initial": 0.999992,
          "observed": 0.9999990000000001,
          "observed_growth_rate": 1.0000070000560006
         },
         {
          "estimated": 0.9999999999999998,
          "estimated_growth_rate": 1.0000080000640004,
          "initial": 0.999992,
          "observed": 0.9999990000000001,
          "observed_growth_rate": 1.0000070000560006
         },
         {
          "estimated": 0.9999999999999998,
          "estimated_growth_rate": 1.0000080000640004,
          "initial": 0.999992,
          "observed": 0.9999990000000001,
          "observed_growth_rate": 1.0000070000560006
         },
         {
          "estimated": 0.9999999999999998,
          "estimated_growth_rate": 1.0000080000640004,
          "initial": 0.999992,
          "observed": 0.9999990000000001,
          "observed_growth_rate": 1.0000070000560006
         },
         {
          "estimated": 0.9999999999999998,
          "estimated_growth_rate": 1.0000080000640004,
          "initial": 0.999992,
          "observed": 0.9999990000000001,
          "observed_growth_rate": 1.0000070000560006
         },
         {
          "estimated": 0.9999999999999998,
          "estimated_growth_rate": 1.0000080000640004,
          "initial": 0.999992,
          "observed": 0.9999990000000001,
          "observed_growth_rate": 1.0000070000560006
         },
         {
          "estimated": 0.9999999999999998,
          "estimated_growth_rate": 1.0000080000640004,
          "initial": 0.999992,
          "observed": 0.9999990000000001,
          "observed_growth_rate": 1.0000070000560006
         },
         {
          "estimated": 0.9999999999999998,
          "estimated_growth_rate": 1.0000080000640004,
          "initial": 0.999992,
          "observed": 0.9999990000000001,
          "observed_growth_rate": 1.0000070000560006
         },
         {
          "estimated": 0.9999999999999998,
          "estimated_growth_rate": 1.0000080000640004,
          "initial": 0.999992,
          "observed": 0.9999990000000001,
          "observed_growth_rate": 1.0000070000560006
         },
         {
          "estimated": 0.9999999999999998,
          "estimated_growth_rate": 1.0000080000640004,
          "initial": 0.999992,
          "observed": 0.9999990000000001,
          "observed_growth_rate": 1.0000070000560006
         },
         {
          "estimated": 0.9999999999999998,
          "estimated_growth_rate": 1.0000080000640004,
          "initial": 0.999992,
          "observed": 0.9999990000000001,
          "observed_growth_rate": 1.0000070000560006
         },
         {
          "estimated": 0.9999999999999998,
          "estimated_growth_rate": 1.0000080000640004,
          "initial": 0.999992,
          "observed": 0.9999990000000001,
          "observed_growth_rate": 1.0000070000560006
         },
         {
          "estimated": 0.9999999999999998,
          "estimated_growth_rate": 1.0000080000640004,
          "initial": 0.999992,
          "observed": 0.9999990000000001,
          "observed_growth_rate": 1.0000070000560006
         },
         {
          "estimated": 0.9999999999999998,
          "estimated_growth_rate": 1.0000080000640004,
          "initial": 0.999992,
          "observed": 0.9999990000000001,
          "observed_growth_rate": 1.0000070000560006
         },
         {
          "estimated": 0.9999999999999998,
          "estimated_growth_rate": 1.0000080000640004,
          "initial": 0.999992,
          "observed": 0.9999990000000001,
          "observed_growth_rate": 1.0000070000560006
         },
         {
          "estimated": 0.9999999999999998,
          "estimated_growth_rate": 1.0000080000640004,
          "initial": 0.999992,
          "observed": 0.9999990000000001,
          "observed_growth_rate": 1.0000070000560006
         },
         {
          "estimated": 0.9999999999999998,
          "estimated_growth_rate": 1.0000080000640004,
          "initial": 0.999992,
          "observed": 0.9999990000000001,
          "observed_growth_rate": 1.0000070000560006
         },
         {
          "estimated": 0.9999999999999998,
          "estimated_growth_rate": 1.0000080000640004,
          "initial": 0.999992,
          "observed": 0.9999990000000001,
          "observed_growth_rate": 1.0000070000560006
         },
         {
          "estimated": 0.9999999999999998,
          "estimated_growth_rate": 1.0000080000640004,
          "initial": 0.999992,
          "observed": 0.9999990000000001,
          "observed_growth_rate": 1.0000070000560006
         },
         {
          "estimated": 0.9999999999999998,
          "estimated_growth_rate": 1.0000080000640004,
          "initial": 0.999992,
          "observed": 0.9999990000000001,
          "observed_growth_rate": 1.0000070000560006
         },
         {
          "estimated": 0.9999999999999998,
          "estimated_growth_rate": 1.0000080000640004,
          "initial": 0.999992,
          "observed": 0.9999990000000001,
          "observed_growth_rate": 1.0000070000560006
         },
         {
          "estimated": 0.9999999999999998,
          "estimated_growth_rate": 1.0000080000640004,
          "initial": 0.999992,
          "observed": 0.9999990000000001,
          "observed_growth_rate": 1.0000070000560006
         },
         {
          "estimated": 0.9999999999999998,
          "estimated_growth_rate": 1.0000080000640004,
          "initial": 0.999992,
          "observed": 0.9999990000000001,
          "observed_growth_rate": 1.0000070000560006
         },
         {
          "estimated": 0.9999999999999998,
          "estimated_growth_rate": 1.0000080000640004,
          "initial": 0.999992,
          "observed": 0.9999990000000001,
          "observed_growth_rate": 1.0000070000560006
         },
         {
          "estimated": 0.9999999999999998,
          "estimated_growth_rate": 1.0000080000640004,
          "initial": 0.999992,
          "observed": 0.9999990000000001,
          "observed_growth_rate": 1.0000070000560006
         },
         {
          "estimated": 0.9999999999999998,
          "estimated_growth_rate": 1.0000080000640004,
          "initial": 0.999992,
          "observed": 0.9999990000000001,
          "observed_growth_rate": 1.0000070000560006
         },
         {
          "estimated": 0.9999999999999998,
          "estimated_growth_rate": 1.0000080000640004,
          "initial": 0.999992,
          "observed": 0.9999990000000001,
          "observed_growth_rate": 1.0000070000560006
         },
         {
          "estimated": 0.9999999999999998,
          "estimated_growth_rate": 1.0000080000640004,
          "initial": 0.999992,
          "observed": 0.9999990000000001,
          "observed_growth_rate": 1.0000070000560006
         },
         {
          "estimated": 0.9999999999999998,
          "estimated_growth_rate": 1.0000080000640004,
          "initial": 0.999992,
          "observed": 0.9999990000000001,
          "observed_growth_rate": 1.0000070000560006
         },
         {
          "estimated": 0.9999999999999998,
          "estimated_growth_rate": 1.0000080000640004,
          "initial": 0.999992,
          "observed": 0.9999990000000001,
          "observed_growth_rate": 1.0000070000560006
         },
         {
          "estimated": 0.9999999999999998,
          "estimated_growth_rate": 1.0000080000640004,
          "initial": 0.999992,
          "observed": 0.9999990000000001,
          "observed_growth_rate": 1.0000070000560006
         },
         {
          "estimated": 0.9999999999999998,
          "estimated_growth_rate": 1.0000080000640004,
          "initial": 0.999992,
          "observed": 0.9999990000000001,
          "observed_growth_rate": 1.0000070000560006
         },
         {
          "estimated": 0.9999999999999998,
          "estimated_growth_rate": 1.0000080000640004,
          "initial": 0.999992,
          "observed": 0.9999990000000001,
          "observed_growth_rate": 1.0000070000560006
         },
         {
          "estimated": 0.9999999999999998,
          "estimated_growth_rate": 1.0000080000640004,
          "initial": 0.999992,
          "observed": 0.9999990000000001,
          "observed_growth_rate": 1.0000070000560006
         },
         {
          "estimated": 0.9999999999999998,
          "estimated_growth_rate": 1.0000080000640004,
          "initial": 0.999992,
          "observed": 0.9999990000000001,
          "observed_growth_rate": 1.0000070000560006
         },
         {
          "estimated": 0.9999999999999998,
          "estimated_growth_rate": 1.0000080000640004,
          "initial": 0.999992,
          "observed": 0.9999990000000001,
          "observed_growth_rate": 1.0000070000560006
         },
         {
          "estimated": 0.9999999999999998,
          "estimated_growth_rate": 1.0000080000640004,
          "initial": 0.999992,
          "observed": 0.9999990000000001,
          "observed_growth_rate": 1.0000070000560006
         },
         {
          "estimated": 0.9999999999999998,
          "estimated_growth_rate": 1.0000080000640004,
          "initial": 0.999992,
          "observed": 0.9999990000000001,
          "observed_growth_rate": 1.0000070000560006
         },
         {
          "estimated": 0.9999999999999998,
          "estimated_growth_rate": 1.0000080000640004,
          "initial": 0.999992,
          "observed": 0.9999990000000001,
          "observed_growth_rate": 1.0000070000560006
         },
         {
          "estimated": 0.9999999999999998,
          "estimated_growth_rate": 1.0000080000640004,
          "initial": 0.999992,
          "observed": 0.9999990000000001,
          "observed_growth_rate": 1.0000070000560006
         },
         {
          "estimated": 0.9999999999999998,
          "estimated_growth_rate": 1.0000080000640004,
          "initial": 0.999992,
          "observed": 0.9999990000000001,
          "observed_growth_rate": 1.0000070000560006
         },
         {
          "estimated": 0.9999999999999998,
          "estimated_growth_rate": 1.0000080000640004,
          "initial": 0.999992,
          "observed": 0.9999990000000001,
          "observed_growth_rate": 1.0000070000560006
         },
         {
          "estimated": 0.9999999999999998,
          "estimated_growth_rate": 1.0000080000640004,
          "initial": 0.999992,
          "observed": 0.9999990000000001,
          "observed_growth_rate": 1.0000070000560006
         },
         {
          "estimated": 0.9999999999999998,
          "estimated_growth_rate": 1.0000080000640004,
          "initial": 0.999992,
          "observed": 0.9999990000000001,
          "observed_growth_rate": 1.0000070000560006
         },
         {
          "estimated": 0.9999999999999998,
          "estimated_growth_rate": 1.0000080000640004,
          "initial": 0.999992,
          "observed": 0.9999990000000001,
          "observed_growth_rate": 1.0000070000560006
         },
         {
          "estimated": 0.9999999999999998,
          "estimated_growth_rate": 1.0000080000640004,
          "initial": 0.999992,
          "observed": 0.9999990000000001,
          "observed_growth_rate": 1.0000070000560006
         },
         {
          "estimated": 0.9999999999999998,
          "estimated_growth_rate": 1.0000080000640004,
          "initial": 0.999992,
          "observed": 0.9999990000000001,
          "observed_growth_rate": 1.0000070000560006
         },
         {
          "estimated": 0.9999999999999998,
          "estimated_growth_rate": 1.0000080000640004,
          "initial": 0.999992,
          "observed": 0.9999990000000001,
          "observed_growth_rate": 1.0000070000560006
         },
         {
          "estimated": 0.9999999999999998,
          "estimated_growth_rate": 1.0000080000640004,
          "initial": 0.999992,
          "observed": 0.9999990000000001,
          "observed_growth_rate": 1.0000070000560006
         },
         {
          "estimated": 0.9999999999999998,
          "estimated_growth_rate": 1.0000080000640004,
          "initial": 0.999992,
          "observed": 0.9999990000000001,
          "observed_growth_rate": 1.0000070000560006
         },
         {
          "estimated": 0.9999999999999998,
          "estimated_growth_rate": 1.0000080000640004,
          "initial": 0.999992,
          "observed": 0.9999990000000001,
          "observed_growth_rate": 1.0000070000560006
         },
         {
          "estimated": 0.9999999999999998,
          "estimated_growth_rate": 1.0000080000640004,
          "initial": 0.999992,
          "observed": 0.9999990000000001,
          "observed_growth_rate": 1.0000070000560006
         },
         {
          "estimated": 0.9999999999999998,
          "estimated_growth_rate": 1.0000080000640004,
          "initial": 0.999992,
          "observed": 0.9999990000000001,
          "observed_growth_rate": 1.0000070000560006
         },
         {
          "estimated": 0.9999999999999998,
          "estimated_growth_rate": 1.0000080000640004,
          "initial": 0.999992,
          "observed": 0.9999990000000001,
          "observed_growth_rate": 1.0000070000560006
         },
         {
          "estimated": 0.9999999999999998,
          "estimated_growth_rate": 1.0000080000640004,
          "initial": 0.999992,
          "observed": 0.9999990000000001,
          "observed_growth_rate": 1.0000070000560006
         },
         {
          "estimated": 0.9999999999999998,
          "estimated_growth_rate": 1.0000080000640004,
          "initial": 0.999992,
          "observed": 0.9999990000000001,
          "observed_growth_rate": 1.0000070000560006
         },
         {
          "estimated": 0.9999999999999998,
          "estimated_growth_rate": 1.0000080000640004,
          "initial": 0.999992,
          "observed": 0.9999990000000001,
          "observed_growth_rate": 1.0000070000560006
         },
         {
          "estimated": 0.9999999999999998,
          "estimated_growth_rate": 1.0000080000640004,
          "initial": 0.999992,
          "observed": 0.9999990000000001,
          "observed_growth_rate": 1.0000070000560006
         },
         {
          "estimated": 0.9999999999999998,
          "estimated_growth_rate": 1.0000080000640004,
          "initial": 0.999992,
          "observed": 0.9999990000000001,
          "observed_growth_rate": 1.0000070000560006
         },
         {
          "estimated": 0.9999999999999998,
          "estimated_growth_rate": 1.0000080000640004,
          "initial": 0.999992,
          "observed": 0.9999990000000001,
          "observed_growth_rate": 1.0000070000560006
         },
         {
          "estimated": 0.9999999999999998,
          "estimated_growth_rate": 1.0000080000640004,
          "initial": 0.999992,
          "observed": 0.9999990000000001,
          "observed_growth_rate": 1.0000070000560006
         },
         {
          "estimated": 0.9999999999999998,
          "estimated_growth_rate": 1.0000080000640004,
          "initial": 0.999992,
          "observed": 0.9999990000000001,
          "observed_growth_rate": 1.0000070000560006
         },
         {
          "estimated": 0.9999999999999998,
          "estimated_growth_rate": 1.0000080000640004,
          "initial": 0.999992,
          "observed": 0.9999990000000001,
          "observed_growth_rate": 1.0000070000560006
         },
         {
          "estimated": 0.9999999999999998,
          "estimated_growth_rate": 1.0000080000640004,
          "initial": 0.999992,
          "observed": 0.9999990000000001,
          "observed_growth_rate": 1.0000070000560006
         },
         {
          "estimated": 0.9999999999999998,
          "estimated_growth_rate": 1.0000080000640004,
          "initial": 0.999992,
          "observed": 0.9999990000000001,
          "observed_growth_rate": 1.0000070000560006
         },
         {
          "estimated": 0.9999999999999998,
          "estimated_growth_rate": 1.0000080000640004,
          "initial": 0.999992,
          "observed": 0.9999990000000001,
          "observed_growth_rate": 1.0000070000560006
         },
         {
          "estimated": 0.9999927116515097,
          "estimated_growth_rate": 1.0050198207951269,
          "initial": 0.994998,
          "observed": 0.9999990000000001,
          "observed_growth_rate": 1.005026140756062
         },
         {
          "estimated": 0.9999927116515097,
          "estimated_growth_rate": 1.0050198207951269,
          "initial": 0.994998,
          "observed": 0.9999990000000001,
          "observed_growth_rate": 1.005026140756062
         },
         {
          "estimated": 0.9999927116515097,
          "estimated_growth_rate": 1.0050198207951269,
          "initial": 0.994998,
          "observed": 0.9999990000000001,
          "observed_growth_rate": 1.005026140756062
         },
         {
          "estimated": 0.9999927116515097,
          "estimated_growth_rate": 1.0050198207951269,
          "initial": 0.994998,
          "observed": 0.9999990000000001,
          "observed_growth_rate": 1.005026140756062
         },
         {
          "estimated": 0.9999927116515097,
          "estimated_growth_rate": 1.0050198207951269,
          "initial": 0.994998,
          "observed": 0.9999990000000001,
          "observed_growth_rate": 1.005026140756062
         },
         {
          "estimated": 0.9999927116515097,
          "estimated_growth_rate": 1.0050198207951269,
          "initial": 0.994998,
          "observed": 0.9999990000000001,
          "observed_growth_rate": 1.005026140756062
         },
         {
          "estimated": 0.9999927116515097,
          "estimated_growth_rate": 1.0050198207951269,
          "initial": 0.994998,
          "observed": 0.9999990000000001,
          "observed_growth_rate": 1.005026140756062
         },
         {
          "estimated": 0.9999927116515097,
          "estimated_growth_rate": 1.0050198207951269,
          "initial": 0.994998,
          "observed": 0.9999990000000001,
          "observed_growth_rate": 1.005026140756062
         },
         {
          "estimated": 0.9999927116515097,
          "estimated_growth_rate": 1.0050198207951269,
          "initial": 0.994998,
          "observed": 0.9999990000000001,
          "observed_growth_rate": 1.005026140756062
         },
         {
          "estimated": 0.9999927116515097,
          "estimated_growth_rate": 1.0050198207951269,
          "initial": 0.994998,
          "observed": 0.9999990000000001,
          "observed_growth_rate": 1.005026140756062
         },
         {
          "estimated": 0.9999927116515097,
          "estimated_growth_rate": 1.0050198207951269,
          "initial": 0.994998,
          "observed": 0.9999990000000001,
          "observed_growth_rate": 1.005026140756062
         },
         {
          "estimated": 0.9999927116515097,
          "estimated_growth_rate": 1.0050198207951269,
          "initial": 0.994998,
          "observed": 0.9999990000000001,
          "observed_growth_rate": 1.005026140756062
         },
         {
          "estimated": 0.9999927116515097,
          "estimated_growth_rate": 1.0050198207951269,
          "initial": 0.994998,
          "observed": 0.9999990000000001,
          "observed_growth_rate": 1.005026140756062
         },
         {
          "estimated": 0.002271277564208455,
          "estimated_growth_rate": 0.010998869565805758,
          "initial": 0.20650100000000002,
          "observed": 0.014506000000000002,
          "observed_growth_rate": 0.07024663318821701
         },
         {
          "estimated": 0.002271277564208455,
          "estimated_growth_rate": 0.010998869565805758,
          "initial": 0.20650100000000002,
          "observed": 0.014506000000000002,
          "observed_growth_rate": 0.07024663318821701
         },
         {
          "estimated": 0.002271277564208455,
          "estimated_growth_rate": 0.010998869565805758,
          "initial": 0.20650100000000002,
          "observed": 0.014506000000000002,
          "observed_growth_rate": 0.07024663318821701
         },
         {
          "estimated": 0.002271277564208455,
          "estimated_growth_rate": 0.010998869565805758,
          "initial": 0.20650100000000002,
          "observed": 0.014506000000000002,
          "observed_growth_rate": 0.07024663318821701
         },
         {
          "estimated": 0.002271277564208455,
          "estimated_growth_rate": 0.010998869565805758,
          "initial": 0.20650100000000002,
          "observed": 0.014506000000000002,
          "observed_growth_rate": 0.07024663318821701
         },
         {
          "estimated": 0.002271277564208455,
          "estimated_growth_rate": 0.010998869565805758,
          "initial": 0.20650100000000002,
          "observed": 0.014506000000000002,
          "observed_growth_rate": 0.07024663318821701
         },
         {
          "estimated": 0.002271277564208455,
          "estimated_growth_rate": 0.010998869565805758,
          "initial": 0.20650100000000002,
          "observed": 0.014506000000000002,
          "observed_growth_rate": 0.07024663318821701
         },
         {
          "estimated": 0.002271277564208455,
          "estimated_growth_rate": 0.010998869565805758,
          "initial": 0.20650100000000002,
          "observed": 0.014506000000000002,
          "observed_growth_rate": 0.07024663318821701
         },
         {
          "estimated": 0.002271277564208455,
          "estimated_growth_rate": 0.010998869565805758,
          "initial": 0.20650100000000002,
          "observed": 0.014506000000000002,
          "observed_growth_rate": 0.07024663318821701
         },
         {
          "estimated": 0.0020954385995095443,
          "estimated_growth_rate": 0.013296352038513558,
          "initial": 0.157595,
          "observed": 0.014506000000000002,
          "observed_growth_rate": 0.09204606745137854
         },
         {
          "estimated": 0.0020954385995095443,
          "estimated_growth_rate": 0.013296352038513558,
          "initial": 0.157595,
          "observed": 0.014506000000000002,
          "observed_growth_rate": 0.09204606745137854
         },
         {
          "estimated": 0.0020954385995095443,
          "estimated_growth_rate": 0.013296352038513558,
          "initial": 0.157595,
          "observed": 0.014506000000000002,
          "observed_growth_rate": 0.09204606745137854
         },
         {
          "estimated": 0.0020954385995095443,
          "estimated_growth_rate": 0.013296352038513558,
          "initial": 0.157595,
          "observed": 0.014506000000000002,
          "observed_growth_rate": 0.09204606745137854
         },
         {
          "estimated": 0.0020954385995095443,
          "estimated_growth_rate": 0.013296352038513558,
          "initial": 0.157595,
          "observed": 0.014506000000000002,
          "observed_growth_rate": 0.09204606745137854
         },
         {
          "estimated": 0.0020954385995095443,
          "estimated_growth_rate": 0.013296352038513558,
          "initial": 0.157595,
          "observed": 0.014506000000000002,
          "observed_growth_rate": 0.09204606745137854
         },
         {
          "estimated": 0.0020954385995095443,
          "estimated_growth_rate": 0.013296352038513558,
          "initial": 0.157595,
          "observed": 0.014506000000000002,
          "observed_growth_rate": 0.09204606745137854
         },
         {
          "estimated": 0.0020954385995095443,
          "estimated_growth_rate": 0.013296352038513558,
          "initial": 0.157595,
          "observed": 0.014506000000000002,
          "observed_growth_rate": 0.09204606745137854
         },
         {
          "estimated": 0.0020954385995095443,
          "estimated_growth_rate": 0.013296352038513558,
          "initial": 0.157595,
          "observed": 0.014506000000000002,
          "observed_growth_rate": 0.09204606745137854
         },
         {
          "estimated": 0.0020954385995095443,
          "estimated_growth_rate": 0.013296352038513558,
          "initial": 0.157595,
          "observed": 0.014506000000000002,
          "observed_growth_rate": 0.09204606745137854
         },
         {
          "estimated": 0.9977214340873013,
          "estimated_growth_rate": 1.265345884749468,
          "initial": 0.788497,
          "observed": 0.985493,
          "observed_growth_rate": 1.2498373487787524
         },
         {
          "estimated": 0.9977214340873013,
          "estimated_growth_rate": 1.265345884749468,
          "initial": 0.788497,
          "observed": 0.985493,
          "observed_growth_rate": 1.2498373487787524
         },
         {
          "estimated": 0.9977214340873013,
          "estimated_growth_rate": 1.265345884749468,
          "initial": 0.788497,
          "observed": 0.985493,
          "observed_growth_rate": 1.2498373487787524
         },
         {
          "estimated": 0.9977214340873013,
          "estimated_growth_rate": 1.265345884749468,
          "initial": 0.788497,
          "observed": 0.985493,
          "observed_growth_rate": 1.2498373487787524
         },
         {
          "estimated": 0.9977214340873013,
          "estimated_growth_rate": 1.265345884749468,
          "initial": 0.788497,
          "observed": 0.985493,
          "observed_growth_rate": 1.2498373487787524
         },
         {
          "estimated": 0.9977214340873013,
          "estimated_growth_rate": 1.265345884749468,
          "initial": 0.788497,
          "observed": 0.985493,
          "observed_growth_rate": 1.2498373487787524
         },
         {
          "estimated": 0.9977214340873013,
          "estimated_growth_rate": 1.265345884749468,
          "initial": 0.788497,
          "observed": 0.985493,
          "observed_growth_rate": 1.2498373487787524
         },
         {
          "estimated": 0.9977214340873013,
          "estimated_growth_rate": 1.265345884749468,
          "initial": 0.788497,
          "observed": 0.985493,
          "observed_growth_rate": 1.2498373487787524
         },
         {
          "estimated": 0.9977214340873013,
          "estimated_growth_rate": 1.265345884749468,
          "initial": 0.788497,
          "observed": 0.9722310000000001,
          "observed_growth_rate": 1.2330180076778987
         },
         {
          "estimated": 0.9977214340873013,
          "estimated_growth_rate": 1.265345884749468,
          "initial": 0.788497,
          "observed": 0.9722310000000001,
          "observed_growth_rate": 1.2330180076778987
         },
         {
          "estimated": 0.9977214340873013,
          "estimated_growth_rate": 1.265345884749468,
          "initial": 0.788497,
          "observed": 0.9722310000000001,
          "observed_growth_rate": 1.2330180076778987
         },
         {
          "estimated": 0.9977214340873013,
          "estimated_growth_rate": 1.265345884749468,
          "initial": 0.788497,
          "observed": 0.9722310000000001,
          "observed_growth_rate": 1.2330180076778987
         },
         {
          "estimated": 0.9977214340873013,
          "estimated_growth_rate": 1.265345884749468,
          "initial": 0.788497,
          "observed": 0.9722310000000001,
          "observed_growth_rate": 1.2330180076778987
         },
         {
          "estimated": 0.9977214340873013,
          "estimated_growth_rate": 1.265345884749468,
          "initial": 0.788497,
          "observed": 0.9722310000000001,
          "observed_growth_rate": 1.2330180076778987
         },
         {
          "estimated": 0.9977214340873013,
          "estimated_growth_rate": 1.265345884749468,
          "initial": 0.788497,
          "observed": 0.9722310000000001,
          "observed_growth_rate": 1.2330180076778987
         },
         {
          "estimated": 0.9977034215168141,
          "estimated_growth_rate": 1.2801507659024718,
          "initial": 0.7793640000000001,
          "observed": 0.9722310000000001,
          "observed_growth_rate": 1.2474671655349747
         },
         {
          "estimated": 0.997366798106667,
          "estimated_growth_rate": 1.4333545523623932,
          "initial": 0.695827,
          "observed": 0.971908,
          "observed_growth_rate": 1.3967667250624078
         },
         {
          "estimated": 0.9973666131262309,
          "estimated_growth_rate": 1.4333996063929275,
          "initial": 0.695805,
          "observed": 0.971908,
          "observed_growth_rate": 1.3968108881080188
         },
         {
          "estimated": 0.004858508699737075,
          "estimated_growth_rate": 0.022596033317227905,
          "initial": 0.21501599999999998,
          "observed": 0.004583,
          "observed_growth_rate": 0.02131469286006623
         },
         {
          "estimated": 0.004789603911625198,
          "estimated_growth_rate": 0.023871392388558718,
          "initial": 0.200642,
          "observed": 0.004583,
          "observed_growth_rate": 0.022841678212936478
         },
         {
          "estimated": 0.004789603911625198,
          "estimated_growth_rate": 0.023871392388558718,
          "initial": 0.200642,
          "observed": 0.004583,
          "observed_growth_rate": 0.022841678212936478
         },
         {
          "estimated": 0.004789586035194728,
          "estimated_growth_rate": 0.02387237411190945,
          "initial": 0.200633,
          "observed": 0.004583,
          "observed_growth_rate": 0.02284270284549401
         },
         {
          "estimated": 0.0047862522958759856,
          "estimated_growth_rate": 0.02406300643963694,
          "initial": 0.198905,
          "observed": 0.004583,
          "observed_growth_rate": 0.0230411502978809
         },
         {
          "estimated": 0.004773996154097917,
          "estimated_growth_rate": 0.024998670755081515,
          "initial": 0.19097,
          "observed": 0.004583,
          "observed_growth_rate": 0.023998533801120596
         },
         {
          "estimated": 0.00476733853285503,
          "estimated_growth_rate": 0.025422415853113077,
          "initial": 0.18752500000000003,
          "observed": 0.004583,
          "observed_growth_rate": 0.02443940807892281
         },
         {
          "estimated": 0.004766595264087571,
          "estimated_growth_rate": 0.025461765456703152,
          "initial": 0.187206,
          "observed": 0.004583,
          "observed_growth_rate": 0.024481052957704346
         },
         {
          "estimated": 0.004766595264087571,
          "estimated_growth_rate": 0.025461765456703152,
          "initial": 0.187206,
          "observed": 0.004583,
          "observed_growth_rate": 0.024481052957704346
         },
         {
          "estimated": 0.004766595264087571,
          "estimated_growth_rate": 0.025461765456703152,
          "initial": 0.187206,
          "observed": 0.004583,
          "observed_growth_rate": 0.024481052957704346
         },
         {
          "estimated": 0.004766333371420257,
          "estimated_growth_rate": 0.02546907359876594,
          "initial": 0.18714200000000003,
          "observed": 0.004583,
          "observed_growth_rate": 0.02448942514240523
         },
         {
          "estimated": 0.004757553837708419,
          "estimated_growth_rate": 0.025799903676253073,
          "initial": 0.184402,
          "observed": 0.004583,
          "observed_growth_rate": 0.024853309617032353
         },
         {
          "estimated": 0.004755007720406642,
          "estimated_growth_rate": 0.025832324962007488,
          "initial": 0.18407199999999999,
          "observed": 0.004583,
          "observed_growth_rate": 0.024897866052414275
         },
         {
          "estimated": 0.004755007720406642,
          "estimated_growth_rate": 0.025832324962007488,
          "initial": 0.18407199999999999,
          "observed": 0.004583,
          "observed_growth_rate": 0.024897866052414275
         },
         {
          "estimated": 0.004755007720406642,
          "estimated_growth_rate": 0.025832324962007488,
          "initial": 0.18407199999999999,
          "observed": 0.004583,
          "observed_growth_rate": 0.024897866052414275
         },
         {
          "estimated": 0.004755007720406642,
          "estimated_growth_rate": 0.025832324962007488,
          "initial": 0.18407199999999999,
          "observed": 0.004583,
          "observed_growth_rate": 0.024897866052414275
         },
         {
          "estimated": 0.00473911145499242,
          "estimated_growth_rate": 0.026889033316836147,
          "initial": 0.176247,
          "observed": 0.004157,
          "observed_growth_rate": 0.023586217070361484
         },
         {
          "estimated": 0.992508104426494,
          "estimated_growth_rate": 2.064331971876424,
          "initial": 0.480789,
          "observed": 0.967325,
          "observed_growth_rate": 2.0119532684815997
         },
         {
          "estimated": 0.9925080088711199,
          "estimated_growth_rate": 2.064606602259337,
          "initial": 0.480725,
          "observed": 0.9592940000000001,
          "observed_growth_rate": 1.99551510738988
         },
         {
          "estimated": 0.9924953284181107,
          "estimated_growth_rate": 2.100359186216734,
          "initial": 0.472536,
          "observed": 0.9592940000000001,
          "observed_growth_rate": 2.030097177781164
         },
         {
          "estimated": 0.9924953284181107,
          "estimated_growth_rate": 2.100359186216734,
          "initial": 0.472536,
          "observed": 0.9587610000000001,
          "observed_growth_rate": 2.028969221392656
         },
         {
          "estimated": 0.9924953284181107,
          "estimated_growth_rate": 2.100359186216734,
          "initial": 0.472536,
          "observed": 0.9587610000000001,
          "observed_growth_rate": 2.028969221392656
         },
         {
          "estimated": 0.9924310131370628,
          "estimated_growth_rate": 2.14356747498723,
          "initial": 0.46298100000000003,
          "observed": 0.9587610000000001,
          "observed_growth_rate": 2.070843079953605
         },
         {
          "estimated": 0.9921920070742072,
          "estimated_growth_rate": 2.348572446242318,
          "initial": 0.422466,
          "observed": 0.9587610000000001,
          "observed_growth_rate": 2.269439434179319
         },
         {
          "estimated": 0.9920998259753095,
          "estimated_growth_rate": 2.372842834054784,
          "initial": 0.41810600000000003,
          "observed": 0.9587610000000001,
          "observed_growth_rate": 2.293105097750331
         },
         {
          "estimated": 0.9920998259753095,
          "estimated_growth_rate": 2.372842834054784,
          "initial": 0.41810600000000003,
          "observed": 0.9587610000000001,
          "observed_growth_rate": 2.293105097750331
         },
         {
          "estimated": 0.9920878252545681,
          "estimated_growth_rate": 2.4156139675736625,
          "initial": 0.410698,
          "observed": 0.9587610000000001,
          "observed_growth_rate": 2.3344671753940855
         },
         {
          "estimated": 0.9920878252545681,
          "estimated_growth_rate": 2.4156139675736625,
          "initial": 0.410698,
          "observed": 0.9587600000000001,
          "observed_growth_rate": 2.334464740514928
         },
         {
          "estimated": 0.9920878252545681,
          "estimated_growth_rate": 2.4156139675736625,
          "initial": 0.410698,
          "observed": 0.9587600000000001,
          "observed_growth_rate": 2.334464740514928
         },
         {
          "estimated": 0.9897608220546805,
          "estimated_growth_rate": 2.5551578179737624,
          "initial": 0.387358,
          "observed": 0.9587600000000001,
          "observed_growth_rate": 2.4751263688887284
         },
         {
          "estimated": 0.9897608220546805,
          "estimated_growth_rate": 2.5551578179737624,
          "initial": 0.387358,
          "observed": 0.9587600000000001,
          "observed_growth_rate": 2.4751263688887284
         },
         {
          "estimated": 0.9897606362164358,
          "estimated_growth_rate": 2.5553354526656418,
          "initial": 0.38733100000000004,
          "observed": 0.9587600000000001,
          "observed_growth_rate": 2.4752989045545024
         },
         {
          "estimated": 0.9897399494331162,
          "estimated_growth_rate": 2.60127246009182,
          "initial": 0.38048300000000007,
          "observed": 0.9587600000000001,
          "observed_growth_rate": 2.519849769897735
         },
         {
          "estimated": 0.989556879556666,
          "estimated_growth_rate": 2.8024436911305872,
          "initial": 0.353105,
          "observed": 0.9587600000000001,
          "observed_growth_rate": 2.715226349102958
         },
         {
          "estimated": 0.989556879556666,
          "estimated_growth_rate": 2.8024436911305872,
          "initial": 0.353105,
          "observed": 0.9587600000000001,
          "observed_growth_rate": 2.715226349102958
         },
         {
          "estimated": 0.989556879556666,
          "estimated_growth_rate": 2.8024436911305872,
          "initial": 0.353105,
          "observed": 0.9587600000000001,
          "observed_growth_rate": 2.715226349102958
         },
         {
          "estimated": 0.9895559879090905,
          "estimated_growth_rate": 2.8025205338764083,
          "initial": 0.35309500000000005,
          "observed": 0.9587600000000001,
          "observed_growth_rate": 2.715303247001515
         },
         {
          "estimated": 0.9895559879090905,
          "estimated_growth_rate": 2.8025205338764083,
          "initial": 0.35309500000000005,
          "observed": 0.9587600000000001,
          "observed_growth_rate": 2.715303247001515
         },
         {
          "estimated": 0.989365477675755,
          "estimated_growth_rate": 2.9322786493257507,
          "initial": 0.337405,
          "observed": 0.9587600000000001,
          "observed_growth_rate": 2.841570219765564
         },
         {
          "estimated": 0.9893522936353565,
          "estimated_growth_rate": 2.984822629616626,
          "initial": 0.331461,
          "observed": 0.9587600000000001,
          "observed_growth_rate": 2.8925273259900863
         },
         {
          "estimated": 0.9257708287246222,
          "estimated_growth_rate": 3.9460662929533865,
          "initial": 0.234606,
          "observed": 0.958689,
          "observed_growth_rate": 4.086378864990665
         },
         {
          "estimated": 0.9257708287246222,
          "estimated_growth_rate": 3.9460662929533865,
          "initial": 0.234606,
          "observed": 0.958689,
          "observed_growth_rate": 4.086378864990665
         },
         {
          "estimated": 0.9231057980487465,
          "estimated_growth_rate": 5.673110192290534,
          "initial": 0.162716,
          "observed": 0.958689,
          "observed_growth_rate": 5.891793062759655
         },
         {
          "estimated": 0.9230703298525462,
          "estimated_growth_rate": 5.834647007696004,
          "initial": 0.15820499999999998,
          "observed": 0.957329,
          "observed_growth_rate": 6.051193072279638
         },
         {
          "estimated": 0.9999999999999998,
          "estimated_growth_rate": 1.0000010000009998,
          "initial": 0.9999990000000001,
          "observed": 1.0000040000000001,
          "observed_growth_rate": 1.000005000005
         },
         {
          "estimated": 0.9999999999999998,
          "estimated_growth_rate": 1.0000010000009998,
          "initial": 0.9999990000000001,
          "observed": 1.0000040000000001,
          "observed_growth_rate": 1.000005000005
         },
         {
          "estimated": 0.9999999999999998,
          "estimated_growth_rate": 1.0000010000009998,
          "initial": 0.9999990000000001,
          "observed": 1.0000040000000001,
          "observed_growth_rate": 1.000005000005
         },
         {
          "estimated": 0.9999999999999998,
          "estimated_growth_rate": 1.0000010000009998,
          "initial": 0.9999990000000001,
          "observed": 1.0000040000000001,
          "observed_growth_rate": 1.000005000005
         },
         {
          "estimated": 0.9999999999999998,
          "estimated_growth_rate": 1.0000010000009998,
          "initial": 0.9999990000000001,
          "observed": 1.0000040000000001,
          "observed_growth_rate": 1.000005000005
         },
         {
          "estimated": 0.9999999999999998,
          "estimated_growth_rate": 1.0000010000009998,
          "initial": 0.9999990000000001,
          "observed": 1.0000040000000001,
          "observed_growth_rate": 1.000005000005
         },
         {
          "estimated": 0.9999999999999998,
          "estimated_growth_rate": 1.0000010000009998,
          "initial": 0.9999990000000001,
          "observed": 1.0000040000000001,
          "observed_growth_rate": 1.000005000005
         },
         {
          "estimated": 0.9999999999999998,
          "estimated_growth_rate": 1.0000010000009998,
          "initial": 0.9999990000000001,
          "observed": 1.0000040000000001,
          "observed_growth_rate": 1.000005000005
         },
         {
          "estimated": 0.9999999999999998,
          "estimated_growth_rate": 1.0000010000009998,
          "initial": 0.9999990000000001,
          "observed": 1.0000040000000001,
          "observed_growth_rate": 1.000005000005
         },
         {
          "estimated": 0.9999999999999998,
          "estimated_growth_rate": 1.0000010000009998,
          "initial": 0.9999990000000001,
          "observed": 1.0000040000000001,
          "observed_growth_rate": 1.000005000005
         },
         {
          "estimated": 0.9999999999999998,
          "estimated_growth_rate": 1.0000010000009998,
          "initial": 0.9999990000000001,
          "observed": 1.0000040000000001,
          "observed_growth_rate": 1.000005000005
         },
         {
          "estimated": 0.9999999999999998,
          "estimated_growth_rate": 1.0000010000009998,
          "initial": 0.9999990000000001,
          "observed": 1.0000040000000001,
          "observed_growth_rate": 1.000005000005
         },
         {
          "estimated": 0.9999999999999998,
          "estimated_growth_rate": 1.0000010000009998,
          "initial": 0.9999990000000001,
          "observed": 1.0000040000000001,
          "observed_growth_rate": 1.000005000005
         },
         {
          "estimated": 0.9999999999999998,
          "estimated_growth_rate": 1.0000010000009998,
          "initial": 0.9999990000000001,
          "observed": 1.0000040000000001,
          "observed_growth_rate": 1.000005000005
         },
         {
          "estimated": 0.9999999999999998,
          "estimated_growth_rate": 1.0000010000009998,
          "initial": 0.9999990000000001,
          "observed": 1.0000040000000001,
          "observed_growth_rate": 1.000005000005
         },
         {
          "estimated": 0.9999999999999998,
          "estimated_growth_rate": 1.0000010000009998,
          "initial": 0.9999990000000001,
          "observed": 1.0000040000000001,
          "observed_growth_rate": 1.000005000005
         },
         {
          "estimated": 0.9999999999999998,
          "estimated_growth_rate": 1.0000010000009998,
          "initial": 0.9999990000000001,
          "observed": 1.0000040000000001,
          "observed_growth_rate": 1.000005000005
         },
         {
          "estimated": 0.9999999999999998,
          "estimated_growth_rate": 1.0000010000009998,
          "initial": 0.9999990000000001,
          "observed": 1.0000040000000001,
          "observed_growth_rate": 1.000005000005
         },
         {
          "estimated": 0.9999999999999998,
          "estimated_growth_rate": 1.0000010000009998,
          "initial": 0.9999990000000001,
          "observed": 1.0000040000000001,
          "observed_growth_rate": 1.000005000005
         },
         {
          "estimated": 0.9999999999999998,
          "estimated_growth_rate": 1.0000010000009998,
          "initial": 0.9999990000000001,
          "observed": 1.0000040000000001,
          "observed_growth_rate": 1.000005000005
         },
         {
          "estimated": 0.9999999999999998,
          "estimated_growth_rate": 1.0000010000009998,
          "initial": 0.9999990000000001,
          "observed": 1.0000040000000001,
          "observed_growth_rate": 1.000005000005
         },
         {
          "estimated": 0.9999999999999998,
          "estimated_growth_rate": 1.0000010000009998,
          "initial": 0.9999990000000001,
          "observed": 1.0000040000000001,
          "observed_growth_rate": 1.000005000005
         },
         {
          "estimated": 0.9999999999999998,
          "estimated_growth_rate": 1.0000010000009998,
          "initial": 0.9999990000000001,
          "observed": 1.0000040000000001,
          "observed_growth_rate": 1.000005000005
         },
         {
          "estimated": 0.9999999999999998,
          "estimated_growth_rate": 1.0000010000009998,
          "initial": 0.9999990000000001,
          "observed": 1.0000040000000001,
          "observed_growth_rate": 1.000005000005
         },
         {
          "estimated": 0.9999999999999998,
          "estimated_growth_rate": 1.0000010000009998,
          "initial": 0.9999990000000001,
          "observed": 1.0000040000000001,
          "observed_growth_rate": 1.000005000005
         },
         {
          "estimated": 0.9999999999999998,
          "estimated_growth_rate": 1.0000010000009998,
          "initial": 0.9999990000000001,
          "observed": 1.0000040000000001,
          "observed_growth_rate": 1.000005000005
         },
         {
          "estimated": 0.9999999999999998,
          "estimated_growth_rate": 1.0000010000009998,
          "initial": 0.9999990000000001,
          "observed": 1.0000040000000001,
          "observed_growth_rate": 1.000005000005
         },
         {
          "estimated": 0.9999999999999998,
          "estimated_growth_rate": 1.0000010000009998,
          "initial": 0.9999990000000001,
          "observed": 1.0000040000000001,
          "observed_growth_rate": 1.000005000005
         },
         {
          "estimated": 0.9999999999999998,
          "estimated_growth_rate": 1.0000010000009998,
          "initial": 0.9999990000000001,
          "observed": 1.0000040000000001,
          "observed_growth_rate": 1.000005000005
         },
         {
          "estimated": 0.9999999999999998,
          "estimated_growth_rate": 1.0000010000009998,
          "initial": 0.9999990000000001,
          "observed": 1.0000040000000001,
          "observed_growth_rate": 1.000005000005
         },
         {
          "estimated": 0.9999999999999998,
          "estimated_growth_rate": 1.0000010000009998,
          "initial": 0.9999990000000001,
          "observed": 1.0000040000000001,
          "observed_growth_rate": 1.000005000005
         },
         {
          "estimated": 0.9999999999999998,
          "estimated_growth_rate": 1.0000010000009998,
          "initial": 0.9999990000000001,
          "observed": 1.0000040000000001,
          "observed_growth_rate": 1.000005000005
         },
         {
          "estimated": 0.9999999999999998,
          "estimated_growth_rate": 1.0000010000009998,
          "initial": 0.9999990000000001,
          "observed": 1.0000040000000001,
          "observed_growth_rate": 1.000005000005
         },
         {
          "estimated": 0.9999999999999998,
          "estimated_growth_rate": 1.0000010000009998,
          "initial": 0.9999990000000001,
          "observed": 1.0000040000000001,
          "observed_growth_rate": 1.000005000005
         },
         {
          "estimated": 0.9999999999999998,
          "estimated_growth_rate": 1.0000010000009998,
          "initial": 0.9999990000000001,
          "observed": 1.0000040000000001,
          "observed_growth_rate": 1.000005000005
         },
         {
          "estimated": 0.9999999999999998,
          "estimated_growth_rate": 1.0000010000009998,
          "initial": 0.9999990000000001,
          "observed": 1.0000040000000001,
          "observed_growth_rate": 1.000005000005
         },
         {
          "estimated": 0.9999999999999998,
          "estimated_growth_rate": 1.0000010000009998,
          "initial": 0.9999990000000001,
          "observed": 1.0000040000000001,
          "observed_growth_rate": 1.000005000005
         },
         {
          "estimated": 0.9999999999999998,
          "estimated_growth_rate": 1.0000010000009998,
          "initial": 0.9999990000000001,
          "observed": 1.0000040000000001,
          "observed_growth_rate": 1.000005000005
         },
         {
          "estimated": 0.9999999999999998,
          "estimated_growth_rate": 1.0000010000009998,
          "initial": 0.9999990000000001,
          "observed": 1.0000040000000001,
          "observed_growth_rate": 1.000005000005
         },
         {
          "estimated": 0.9999999999999998,
          "estimated_growth_rate": 1.0000010000009998,
          "initial": 0.9999990000000001,
          "observed": 1.0000040000000001,
          "observed_growth_rate": 1.000005000005
         },
         {
          "estimated": 0.9999999999999998,
          "estimated_growth_rate": 1.0000010000009998,
          "initial": 0.9999990000000001,
          "observed": 1.0000040000000001,
          "observed_growth_rate": 1.000005000005
         },
         {
          "estimated": 0.9999999999999998,
          "estimated_growth_rate": 1.0000010000009998,
          "initial": 0.9999990000000001,
          "observed": 1.0000040000000001,
          "observed_growth_rate": 1.000005000005
         },
         {
          "estimated": 0.9999999999999998,
          "estimated_growth_rate": 1.0000010000009998,
          "initial": 0.9999990000000001,
          "observed": 1.0000040000000001,
          "observed_growth_rate": 1.000005000005
         },
         {
          "estimated": 0.9999999999999998,
          "estimated_growth_rate": 1.0000010000009998,
          "initial": 0.9999990000000001,
          "observed": 1.0000040000000001,
          "observed_growth_rate": 1.000005000005
         },
         {
          "estimated": 0.9999999999999998,
          "estimated_growth_rate": 1.0000010000009998,
          "initial": 0.9999990000000001,
          "observed": 1.0000040000000001,
          "observed_growth_rate": 1.000005000005
         },
         {
          "estimated": 0.9999999999999998,
          "estimated_growth_rate": 1.0000010000009998,
          "initial": 0.9999990000000001,
          "observed": 1.0000040000000001,
          "observed_growth_rate": 1.000005000005
         },
         {
          "estimated": 0.9999999999999998,
          "estimated_growth_rate": 1.0000010000009998,
          "initial": 0.9999990000000001,
          "observed": 1.0000040000000001,
          "observed_growth_rate": 1.000005000005
         },
         {
          "estimated": 0.9999999999999998,
          "estimated_growth_rate": 1.0000010000009998,
          "initial": 0.9999990000000001,
          "observed": 1.0000040000000001,
          "observed_growth_rate": 1.000005000005
         },
         {
          "estimated": 0.9999999999999998,
          "estimated_growth_rate": 1.0000010000009998,
          "initial": 0.9999990000000001,
          "observed": 1.0000040000000001,
          "observed_growth_rate": 1.000005000005
         },
         {
          "estimated": 0.9999999999999998,
          "estimated_growth_rate": 1.0000010000009998,
          "initial": 0.9999990000000001,
          "observed": 1.0000040000000001,
          "observed_growth_rate": 1.000005000005
         },
         {
          "estimated": 0.9999999999999998,
          "estimated_growth_rate": 1.0000010000009998,
          "initial": 0.9999990000000001,
          "observed": 1.0000040000000001,
          "observed_growth_rate": 1.000005000005
         },
         {
          "estimated": 0.9999999999999998,
          "estimated_growth_rate": 1.0000010000009998,
          "initial": 0.9999990000000001,
          "observed": 1.0000040000000001,
          "observed_growth_rate": 1.000005000005
         },
         {
          "estimated": 0.9999999999999998,
          "estimated_growth_rate": 1.0000010000009998,
          "initial": 0.9999990000000001,
          "observed": 1.0000040000000001,
          "observed_growth_rate": 1.000005000005
         },
         {
          "estimated": 0.9999999999999998,
          "estimated_growth_rate": 1.0000010000009998,
          "initial": 0.9999990000000001,
          "observed": 1.0000040000000001,
          "observed_growth_rate": 1.000005000005
         },
         {
          "estimated": 0.9999999999999998,
          "estimated_growth_rate": 1.0000010000009998,
          "initial": 0.9999990000000001,
          "observed": 1.0000040000000001,
          "observed_growth_rate": 1.000005000005
         },
         {
          "estimated": 0.9999999999999998,
          "estimated_growth_rate": 1.0000010000009998,
          "initial": 0.9999990000000001,
          "observed": 1.0000040000000001,
          "observed_growth_rate": 1.000005000005
         },
         {
          "estimated": 0.9999999999999998,
          "estimated_growth_rate": 1.0000010000009998,
          "initial": 0.9999990000000001,
          "observed": 1.0000040000000001,
          "observed_growth_rate": 1.000005000005
         },
         {
          "estimated": 0.9999999999999998,
          "estimated_growth_rate": 1.0000010000009998,
          "initial": 0.9999990000000001,
          "observed": 1.0000040000000001,
          "observed_growth_rate": 1.000005000005
         },
         {
          "estimated": 0.9999999999999998,
          "estimated_growth_rate": 1.0000010000009998,
          "initial": 0.9999990000000001,
          "observed": 1.0000040000000001,
          "observed_growth_rate": 1.000005000005
         },
         {
          "estimated": 0.9999999999999998,
          "estimated_growth_rate": 1.0000010000009998,
          "initial": 0.9999990000000001,
          "observed": 1.0000040000000001,
          "observed_growth_rate": 1.000005000005
         },
         {
          "estimated": 0.9999999999999998,
          "estimated_growth_rate": 1.0000010000009998,
          "initial": 0.9999990000000001,
          "observed": 1.0000040000000001,
          "observed_growth_rate": 1.000005000005
         },
         {
          "estimated": 0.9999999999999998,
          "estimated_growth_rate": 1.0000010000009998,
          "initial": 0.9999990000000001,
          "observed": 1.0000040000000001,
          "observed_growth_rate": 1.000005000005
         },
         {
          "estimated": 0.9999999999999998,
          "estimated_growth_rate": 1.0000010000009998,
          "initial": 0.9999990000000001,
          "observed": 1.0000040000000001,
          "observed_growth_rate": 1.000005000005
         },
         {
          "estimated": 0.9999999999999998,
          "estimated_growth_rate": 1.0000010000009998,
          "initial": 0.9999990000000001,
          "observed": 1.0000040000000001,
          "observed_growth_rate": 1.000005000005
         },
         {
          "estimated": 0.9999999999999998,
          "estimated_growth_rate": 1.0000010000009998,
          "initial": 0.9999990000000001,
          "observed": 1.0000040000000001,
          "observed_growth_rate": 1.000005000005
         },
         {
          "estimated": 0.9999999999999998,
          "estimated_growth_rate": 1.0000010000009998,
          "initial": 0.9999990000000001,
          "observed": 1.0000040000000001,
          "observed_growth_rate": 1.000005000005
         },
         {
          "estimated": 0.9999999999999998,
          "estimated_growth_rate": 1.0000010000009998,
          "initial": 0.9999990000000001,
          "observed": 1.0000040000000001,
          "observed_growth_rate": 1.000005000005
         },
         {
          "estimated": 0.9999999999999998,
          "estimated_growth_rate": 1.0000010000009998,
          "initial": 0.9999990000000001,
          "observed": 1.0000040000000001,
          "observed_growth_rate": 1.000005000005
         },
         {
          "estimated": 0.9999999999999998,
          "estimated_growth_rate": 1.0000010000009998,
          "initial": 0.9999990000000001,
          "observed": 1.0000040000000001,
          "observed_growth_rate": 1.000005000005
         },
         {
          "estimated": 0.9999999999999998,
          "estimated_growth_rate": 1.0000010000009998,
          "initial": 0.9999990000000001,
          "observed": 1.0000040000000001,
          "observed_growth_rate": 1.000005000005
         },
         {
          "estimated": 0.9999999999999998,
          "estimated_growth_rate": 1.0000010000009998,
          "initial": 0.9999990000000001,
          "observed": 1.0000040000000001,
          "observed_growth_rate": 1.000005000005
         },
         {
          "estimated": 0.9999999999999998,
          "estimated_growth_rate": 1.0000010000009998,
          "initial": 0.9999990000000001,
          "observed": 1.0000040000000001,
          "observed_growth_rate": 1.000005000005
         },
         {
          "estimated": 0.9999999999999998,
          "estimated_growth_rate": 1.0000010000009998,
          "initial": 0.9999990000000001,
          "observed": 1.0000040000000001,
          "observed_growth_rate": 1.000005000005
         },
         {
          "estimated": 0.9999999999999998,
          "estimated_growth_rate": 1.0000010000009998,
          "initial": 0.9999990000000001,
          "observed": 1.0000040000000001,
          "observed_growth_rate": 1.000005000005
         },
         {
          "estimated": 0.9999999999999998,
          "estimated_growth_rate": 1.0000010000009998,
          "initial": 0.9999990000000001,
          "observed": 1.0000040000000001,
          "observed_growth_rate": 1.000005000005
         },
         {
          "estimated": 0.9999999999999998,
          "estimated_growth_rate": 1.0000010000009998,
          "initial": 0.9999990000000001,
          "observed": 1.0000040000000001,
          "observed_growth_rate": 1.000005000005
         },
         {
          "estimated": 0.9999999999999998,
          "estimated_growth_rate": 1.0000010000009998,
          "initial": 0.9999990000000001,
          "observed": 1.0000040000000001,
          "observed_growth_rate": 1.000005000005
         },
         {
          "estimated": 0.9999999999999998,
          "estimated_growth_rate": 1.0000010000009998,
          "initial": 0.9999990000000001,
          "observed": 1.0000040000000001,
          "observed_growth_rate": 1.000005000005
         },
         {
          "estimated": 0.9999999999999998,
          "estimated_growth_rate": 1.0000010000009998,
          "initial": 0.9999990000000001,
          "observed": 1.0000040000000001,
          "observed_growth_rate": 1.000005000005
         },
         {
          "estimated": 0.9999999999999998,
          "estimated_growth_rate": 1.0000010000009998,
          "initial": 0.9999990000000001,
          "observed": 1.0000040000000001,
          "observed_growth_rate": 1.000005000005
         },
         {
          "estimated": 0.9999999999999998,
          "estimated_growth_rate": 1.0000010000009998,
          "initial": 0.9999990000000001,
          "observed": 1.0000040000000001,
          "observed_growth_rate": 1.000005000005
         },
         {
          "estimated": 0.9999999999999998,
          "estimated_growth_rate": 1.0000010000009998,
          "initial": 0.9999990000000001,
          "observed": 1.0000040000000001,
          "observed_growth_rate": 1.000005000005
         },
         {
          "estimated": 0.9999999999999998,
          "estimated_growth_rate": 1.0000010000009998,
          "initial": 0.9999990000000001,
          "observed": 1.0000040000000001,
          "observed_growth_rate": 1.000005000005
         },
         {
          "estimated": 0.9999999999999998,
          "estimated_growth_rate": 1.0000010000009998,
          "initial": 0.9999990000000001,
          "observed": 1.0000040000000001,
          "observed_growth_rate": 1.000005000005
         },
         {
          "estimated": 0.9999999999999998,
          "estimated_growth_rate": 1.0000010000009998,
          "initial": 0.9999990000000001,
          "observed": 1.0000040000000001,
          "observed_growth_rate": 1.000005000005
         },
         {
          "estimated": 0.9999999999999998,
          "estimated_growth_rate": 1.0000010000009998,
          "initial": 0.9999990000000001,
          "observed": 1.0000040000000001,
          "observed_growth_rate": 1.000005000005
         },
         {
          "estimated": 0.9999999999999998,
          "estimated_growth_rate": 1.0000010000009998,
          "initial": 0.9999990000000001,
          "observed": 1.0000040000000001,
          "observed_growth_rate": 1.000005000005
         },
         {
          "estimated": 0.9999999999999998,
          "estimated_growth_rate": 1.0000010000009998,
          "initial": 0.9999990000000001,
          "observed": 1.0000040000000001,
          "observed_growth_rate": 1.000005000005
         },
         {
          "estimated": 0.9999999999999998,
          "estimated_growth_rate": 1.0000010000009998,
          "initial": 0.9999990000000001,
          "observed": 1.0000040000000001,
          "observed_growth_rate": 1.000005000005
         },
         {
          "estimated": 0.9999999999999998,
          "estimated_growth_rate": 1.0000010000009998,
          "initial": 0.9999990000000001,
          "observed": 1.0000040000000001,
          "observed_growth_rate": 1.000005000005
         },
         {
          "estimated": 0.9999999999999998,
          "estimated_growth_rate": 1.0000010000009998,
          "initial": 0.9999990000000001,
          "observed": 1.0000040000000001,
          "observed_growth_rate": 1.000005000005
         },
         {
          "estimated": 0.9999999999999998,
          "estimated_growth_rate": 1.0000010000009998,
          "initial": 0.9999990000000001,
          "observed": 1.0000040000000001,
          "observed_growth_rate": 1.000005000005
         },
         {
          "estimated": 0.9999378615201624,
          "estimated_growth_rate": 1.0693470391364297,
          "initial": 0.935092,
          "observed": 1.0000040000000001,
          "observed_growth_rate": 1.0694177685190336
         },
         {
          "estimated": 0.9999378615201624,
          "estimated_growth_rate": 1.0693470391364297,
          "initial": 0.935092,
          "observed": 1.0000040000000001,
          "observed_growth_rate": 1.0694177685190336
         },
         {
          "estimated": 0.9999378615201624,
          "estimated_growth_rate": 1.0693470391364297,
          "initial": 0.935092,
          "observed": 1.0000040000000001,
          "observed_growth_rate": 1.0694177685190336
         },
         {
          "estimated": 0.9999378615201624,
          "estimated_growth_rate": 1.0693470391364297,
          "initial": 0.935092,
          "observed": 1.0000040000000001,
          "observed_growth_rate": 1.0694177685190336
         },
         {
          "estimated": 0.9999378615201624,
          "estimated_growth_rate": 1.0693470391364297,
          "initial": 0.935092,
          "observed": 1.0000040000000001,
          "observed_growth_rate": 1.0694177685190336
         },
         {
          "estimated": 0.9999378615201624,
          "estimated_growth_rate": 1.0693470391364297,
          "initial": 0.935092,
          "observed": 1.0000040000000001,
          "observed_growth_rate": 1.0694177685190336
         },
         {
          "estimated": 0.9999378615201624,
          "estimated_growth_rate": 1.0693470391364297,
          "initial": 0.935092,
          "observed": 1.0000040000000001,
          "observed_growth_rate": 1.0694177685190336
         },
         {
          "estimated": 0.9999378615201624,
          "estimated_growth_rate": 1.0693470391364297,
          "initial": 0.935092,
          "observed": 1.0000040000000001,
          "observed_growth_rate": 1.0694177685190336
         },
         {
          "estimated": 0.9999378615201624,
          "estimated_growth_rate": 1.0693470391364297,
          "initial": 0.935092,
          "observed": 0.999993,
          "observed_growth_rate": 1.069406004970634
         },
         {
          "estimated": 0.9999378615201624,
          "estimated_growth_rate": 1.0693470391364297,
          "initial": 0.935092,
          "observed": 0.999993,
          "observed_growth_rate": 1.069406004970634
         },
         {
          "estimated": 0.9999378615201624,
          "estimated_growth_rate": 1.0693470391364297,
          "initial": 0.935092,
          "observed": 0.999993,
          "observed_growth_rate": 1.069406004970634
         },
         {
          "estimated": 0.9999378615201624,
          "estimated_growth_rate": 1.0693470391364297,
          "initial": 0.935092,
          "observed": 0.999993,
          "observed_growth_rate": 1.069406004970634
         },
         {
          "estimated": 0.9999378615201624,
          "estimated_growth_rate": 1.0693470391364297,
          "initial": 0.935092,
          "observed": 0.999993,
          "observed_growth_rate": 1.069406004970634
         },
         {
          "estimated": 0.9999378615201624,
          "estimated_growth_rate": 1.0693470391364297,
          "initial": 0.935092,
          "observed": 0.999993,
          "observed_growth_rate": 1.069406004970634
         },
         {
          "estimated": 0.9999378615201624,
          "estimated_growth_rate": 1.0693470391364297,
          "initial": 0.935092,
          "observed": 0.999993,
          "observed_growth_rate": 1.069406004970634
         },
         {
          "estimated": 0.9999378615201624,
          "estimated_growth_rate": 1.0693470391364297,
          "initial": 0.935092,
          "observed": 0.999993,
          "observed_growth_rate": 1.069406004970634
         },
         {
          "estimated": 0.9999268450472757,
          "estimated_growth_rate": 1.0920833943640833,
          "initial": 0.9156139999999999,
          "observed": 0.999993,
          "observed_growth_rate": 1.0921556463750008
         },
         {
          "estimated": 0.9999268450472757,
          "estimated_growth_rate": 1.0920833943640833,
          "initial": 0.9156139999999999,
          "observed": 0.999993,
          "observed_growth_rate": 1.0921556463750008
         },
         {
          "estimated": 0.9998713112896129,
          "estimated_growth_rate": 1.145960669338183,
          "initial": 0.8725180000000001,
          "observed": 0.9970289999999999,
          "observed_growth_rate": 1.1427030731744214
         },
         {
          "estimated": 0.9998713112896129,
          "estimated_growth_rate": 1.145960669338183,
          "initial": 0.8725180000000001,
          "observed": 0.997028,
          "observed_growth_rate": 1.142701927066261
         },
         {
          "estimated": 0.9998713112896129,
          "estimated_growth_rate": 1.145960669338183,
          "initial": 0.8725180000000001,
          "observed": 0.997028,
          "observed_growth_rate": 1.142701927066261
         },
         {
          "estimated": 0.999853347419865,
          "estimated_growth_rate": 1.1736263299663297,
          "initial": 0.851935,
          "observed": 0.997028,
          "observed_growth_rate": 1.1703099414861462
         },
         {
          "estimated": 0.999853347419865,
          "estimated_growth_rate": 1.1736263299663297,
          "initial": 0.851935,
          "observed": 0.997028,
          "observed_growth_rate": 1.1703099414861462
         },
         {
          "estimated": 0.9998533472387903,
          "estimated_growth_rate": 1.1736277073561923,
          "initial": 0.851934,
          "observed": 0.997028,
          "observed_growth_rate": 1.1703113151957782
         },
         {
          "estimated": 0.999850843631247,
          "estimated_growth_rate": 1.17793868106705,
          "initial": 0.8488140000000001,
          "observed": 0.997028,
          "observed_growth_rate": 1.1746130483238966
         },
         {
          "estimated": 0.999850843631247,
          "estimated_growth_rate": 1.17793868106705,
          "initial": 0.8488140000000001,
          "observed": 0.997028,
          "observed_growth_rate": 1.1746130483238966
         },
         {
          "estimated": 0.999850843631247,
          "estimated_growth_rate": 1.17793868106705,
          "initial": 0.8488140000000001,
          "observed": 0.997028,
          "observed_growth_rate": 1.1746130483238966
         },
         {
          "estimated": 0.999850843631247,
          "estimated_growth_rate": 1.17793868106705,
          "initial": 0.8488140000000001,
          "observed": 0.997028,
          "observed_growth_rate": 1.1746130483238966
         },
         {
          "estimated": 0.9998470420374157,
          "estimated_growth_rate": 1.1876572158688337,
          "initial": 0.8418650000000001,
          "observed": 0.997028,
          "observed_growth_rate": 1.1843086480611498
         },
         {
          "estimated": 0.9998470420374157,
          "estimated_growth_rate": 1.1876572158688337,
          "initial": 0.8418650000000001,
          "observed": 0.997028,
          "observed_growth_rate": 1.1843086480611498
         },
         {
          "estimated": 0.9998470420374157,
          "estimated_growth_rate": 1.1876572158688337,
          "initial": 0.8418650000000001,
          "observed": 0.997028,
          "observed_growth_rate": 1.1843086480611498
         },
         {
          "estimated": 0.9998470420374157,
          "estimated_growth_rate": 1.1876572158688337,
          "initial": 0.8418650000000001,
          "observed": 0.997028,
          "observed_growth_rate": 1.1843086480611498
         },
         {
          "estimated": 0.9998470420374157,
          "estimated_growth_rate": 1.1876572158688337,
          "initial": 0.8418650000000001,
          "observed": 0.997028,
          "observed_growth_rate": 1.1843086480611498
         },
         {
          "estimated": 0.9998470420374157,
          "estimated_growth_rate": 1.1876572158688337,
          "initial": 0.8418650000000001,
          "observed": 0.997028,
          "observed_growth_rate": 1.1843086480611498
         },
         {
          "estimated": 0.9998466665873048,
          "estimated_growth_rate": 1.188414823454473,
          "initial": 0.841328,
          "observed": 0.997028,
          "observed_growth_rate": 1.1850645645931195
         },
         {
          "estimated": 0.9998466665873048,
          "estimated_growth_rate": 1.188414823454473,
          "initial": 0.841328,
          "observed": 0.997028,
          "observed_growth_rate": 1.1850645645931195
         },
         {
          "estimated": 0.9998466665873048,
          "estimated_growth_rate": 1.188414823454473,
          "initial": 0.841328,
          "observed": 0.997028,
          "observed_growth_rate": 1.1850645645931195
         },
         {
          "estimated": 0.9998466665873048,
          "estimated_growth_rate": 1.188414823454473,
          "initial": 0.841328,
          "observed": 0.997028,
          "observed_growth_rate": 1.1850645645931195
         },
         {
          "estimated": 0.9998466665873048,
          "estimated_growth_rate": 1.188414823454473,
          "initial": 0.841328,
          "observed": 0.997028,
          "observed_growth_rate": 1.1850645645931195
         },
         {
          "estimated": 0.9998466665873048,
          "estimated_growth_rate": 1.188414823454473,
          "initial": 0.841328,
          "observed": 0.997028,
          "observed_growth_rate": 1.1850645645931195
         },
         {
          "estimated": 0.9998455213033846,
          "estimated_growth_rate": 1.190965750041255,
          "initial": 0.839525,
          "observed": 0.997028,
          "observed_growth_rate": 1.1876096602245318
         },
         {
          "estimated": 0.9998391391886646,
          "estimated_growth_rate": 1.2032916997889866,
          "initial": 0.8309199999999999,
          "observed": 0.997028,
          "observed_growth_rate": 1.199908535117701
         },
         {
          "estimated": 0.9998391391886646,
          "estimated_growth_rate": 1.2032916997889866,
          "initial": 0.8309199999999999,
          "observed": 0.997028,
          "observed_growth_rate": 1.199908535117701
         },
         {
          "estimated": 0.9998327831900055,
          "estimated_growth_rate": 1.2127858507174896,
          "initial": 0.82441,
          "observed": 0.997028,
          "observed_growth_rate": 1.2093836804502616
         },
         {
          "estimated": 0.9997856124594784,
          "estimated_growth_rate": 1.246197487949152,
          "initial": 0.8022690000000001,
          "observed": 0.997028,
          "observed_growth_rate": 1.2427602213222746
         },
         {
          "estimated": 0.00871045783237316,
          "estimated_growth_rate": 0.0259301554905131,
          "initial": 0.33592,
          "observed": 0.251479,
          "observed_growth_rate": 0.748627649440343
         },
         {
          "estimated": 0.00844556640313204,
          "estimated_growth_rate": 0.034405416516474545,
          "initial": 0.245472,
          "observed": 0.251293,
          "observed_growth_rate": 1.0237134988919305
         },
         {
          "estimated": 0.008109912209037578,
          "estimated_growth_rate": 0.04784270263484343,
          "initial": 0.16951199999999997,
          "observed": 0.25124300000000005,
          "observed_growth_rate": 1.48215465571759
         },
         {
          "estimated": 0.008076423038133303,
          "estimated_growth_rate": 0.04950123218351334,
          "initial": 0.163156,
          "observed": 0.25124300000000005,
          "observed_growth_rate": 1.5398943342567852
         },
         {
          "estimated": 0.990112932860866,
          "estimated_growth_rate": 3.0790731891854946,
          "initial": 0.321562,
          "observed": 0.745549,
          "observed_growth_rate": 2.318523332980887
         },
         {
          "estimated": 0.9901041261834591,
          "estimated_growth_rate": 3.1477344296792484,
          "initial": 0.31454499999999996,
          "observed": 0.745549,
          "observed_growth_rate": 2.370245910759987
         },
         {
          "estimated": 0.8853608061265418,
          "estimated_growth_rate": 3.3402026926777197,
          "initial": 0.265062,
          "observed": 0.727656,
          "observed_growth_rate": 2.745229418022953
         },
         {
          "estimated": 0.8853560650118982,
          "estimated_growth_rate": 3.3878852983273955,
          "initial": 0.26133,
          "observed": 0.7107570000000001,
          "observed_growth_rate": 2.7197681092871084
         },
         {
          "estimated": 0.8847618293293589,
          "estimated_growth_rate": 3.4368091196267776,
          "initial": 0.257437,
          "observed": 0.70811,
          "observed_growth_rate": 2.750614713502721
         },
         {
          "estimated": 0.8847618293293589,
          "estimated_growth_rate": 3.4368091196267776,
          "initial": 0.257437,
          "observed": 0.70811,
          "observed_growth_rate": 2.750614713502721
         },
         {
          "estimated": 0.8847486429997227,
          "estimated_growth_rate": 3.5084847882800076,
          "initial": 0.252174,
          "observed": 0.70811,
          "observed_growth_rate": 2.8080214455098464
         },
         {
          "estimated": 0.8420680696694368,
          "estimated_growth_rate": 3.6988454985765293,
          "initial": 0.22765699999999997,
          "observed": 0.60564,
          "observed_growth_rate": 2.660317934436455
         },
         {
          "estimated": 0.8420277862523593,
          "estimated_growth_rate": 3.8137734559816265,
          "initial": 0.22078599999999998,
          "observed": 0.60564,
          "observed_growth_rate": 2.743108711603091
         },
         {
          "estimated": 0.8420277862523593,
          "estimated_growth_rate": 3.8137734559816265,
          "initial": 0.22078599999999998,
          "observed": 0.605329,
          "observed_growth_rate": 2.74170010779669
         },
         {
          "estimated": 0.7993931438965618,
          "estimated_growth_rate": 4.399521980718558,
          "initial": 0.18169999999999997,
          "observed": 0.554983,
          "observed_growth_rate": 3.054391854705559
         },
         {
          "estimated": 0.3454126135217191,
          "estimated_growth_rate": 2.106469892251469,
          "initial": 0.16397699999999998,
          "observed": 0.554983,
          "observed_growth_rate": 3.3845173408465823
         },
         {
          "estimated": 0.9999999999999999,
          "estimated_growth_rate": 1.0000010000009998,
          "initial": 0.9999990000000001,
          "observed": 0.9999870000000001,
          "observed_growth_rate": 0.999987999988
         },
         {
          "estimated": 0.9999999999999999,
          "estimated_growth_rate": 1.0000010000009998,
          "initial": 0.9999990000000001,
          "observed": 0.9999870000000001,
          "observed_growth_rate": 0.999987999988
         },
         {
          "estimated": 0.9999999999999999,
          "estimated_growth_rate": 1.0000010000009998,
          "initial": 0.9999990000000001,
          "observed": 0.9999870000000001,
          "observed_growth_rate": 0.999987999988
         },
         {
          "estimated": 0.9999999999999999,
          "estimated_growth_rate": 1.0000010000009998,
          "initial": 0.9999990000000001,
          "observed": 0.9999870000000001,
          "observed_growth_rate": 0.999987999988
         },
         {
          "estimated": 0.9999999999999999,
          "estimated_growth_rate": 1.0000010000009998,
          "initial": 0.9999990000000001,
          "observed": 0.9999870000000001,
          "observed_growth_rate": 0.999987999988
         },
         {
          "estimated": 0.9999999999999999,
          "estimated_growth_rate": 1.0000010000009998,
          "initial": 0.9999990000000001,
          "observed": 0.9999870000000001,
          "observed_growth_rate": 0.999987999988
         },
         {
          "estimated": 0.9999999999999999,
          "estimated_growth_rate": 1.0000010000009998,
          "initial": 0.9999990000000001,
          "observed": 0.9999870000000001,
          "observed_growth_rate": 0.999987999988
         },
         {
          "estimated": 0.9999999999999999,
          "estimated_growth_rate": 1.0000010000009998,
          "initial": 0.9999990000000001,
          "observed": 0.9999870000000001,
          "observed_growth_rate": 0.999987999988
         },
         {
          "estimated": 0.9999999999999999,
          "estimated_growth_rate": 1.0000010000009998,
          "initial": 0.9999990000000001,
          "observed": 0.9999870000000001,
          "observed_growth_rate": 0.999987999988
         },
         {
          "estimated": 0.9999999999999999,
          "estimated_growth_rate": 1.0000010000009998,
          "initial": 0.9999990000000001,
          "observed": 0.9999870000000001,
          "observed_growth_rate": 0.999987999988
         },
         {
          "estimated": 0.9999999999999999,
          "estimated_growth_rate": 1.0000010000009998,
          "initial": 0.9999990000000001,
          "observed": 0.9999870000000001,
          "observed_growth_rate": 0.999987999988
         },
         {
          "estimated": 0.9999999999999999,
          "estimated_growth_rate": 1.0000010000009998,
          "initial": 0.9999990000000001,
          "observed": 0.9999870000000001,
          "observed_growth_rate": 0.999987999988
         },
         {
          "estimated": 0.9999999999999999,
          "estimated_growth_rate": 1.0000010000009998,
          "initial": 0.9999990000000001,
          "observed": 0.9999870000000001,
          "observed_growth_rate": 0.999987999988
         },
         {
          "estimated": 0.9999999999999999,
          "estimated_growth_rate": 1.0000010000009998,
          "initial": 0.9999990000000001,
          "observed": 0.9999870000000001,
          "observed_growth_rate": 0.999987999988
         },
         {
          "estimated": 0.9999999999999999,
          "estimated_growth_rate": 1.0000010000009998,
          "initial": 0.9999990000000001,
          "observed": 0.9999870000000001,
          "observed_growth_rate": 0.999987999988
         },
         {
          "estimated": 0.9999999999999999,
          "estimated_growth_rate": 1.0000010000009998,
          "initial": 0.9999990000000001,
          "observed": 0.9999870000000001,
          "observed_growth_rate": 0.999987999988
         },
         {
          "estimated": 0.9999999999999999,
          "estimated_growth_rate": 1.0000010000009998,
          "initial": 0.9999990000000001,
          "observed": 0.9999870000000001,
          "observed_growth_rate": 0.999987999988
         },
         {
          "estimated": 0.9999999999999999,
          "estimated_growth_rate": 1.0000010000009998,
          "initial": 0.9999990000000001,
          "observed": 0.9999870000000001,
          "observed_growth_rate": 0.999987999988
         },
         {
          "estimated": 0.9999999999999999,
          "estimated_growth_rate": 1.0000010000009998,
          "initial": 0.9999990000000001,
          "observed": 0.9999870000000001,
          "observed_growth_rate": 0.999987999988
         },
         {
          "estimated": 0.9999999999999999,
          "estimated_growth_rate": 1.0000010000009998,
          "initial": 0.9999990000000001,
          "observed": 0.9999870000000001,
          "observed_growth_rate": 0.999987999988
         },
         {
          "estimated": 0.9999999999999999,
          "estimated_growth_rate": 1.0000010000009998,
          "initial": 0.9999990000000001,
          "observed": 0.9999870000000001,
          "observed_growth_rate": 0.999987999988
         },
         {
          "estimated": 0.9999999999999999,
          "estimated_growth_rate": 1.0000010000009998,
          "initial": 0.9999990000000001,
          "observed": 0.9999870000000001,
          "observed_growth_rate": 0.999987999988
         },
         {
          "estimated": 0.9999999999999999,
          "estimated_growth_rate": 1.0000010000009998,
          "initial": 0.9999990000000001,
          "observed": 0.9999870000000001,
          "observed_growth_rate": 0.999987999988
         },
         {
          "estimated": 0.9999999999999999,
          "estimated_growth_rate": 1.0000010000009998,
          "initial": 0.9999990000000001,
          "observed": 0.9999870000000001,
          "observed_growth_rate": 0.999987999988
         },
         {
          "estimated": 0.9999999999999999,
          "estimated_growth_rate": 1.0000010000009998,
          "initial": 0.9999990000000001,
          "observed": 0.9999870000000001,
          "observed_growth_rate": 0.999987999988
         },
         {
          "estimated": 0.9999999999999999,
          "estimated_growth_rate": 1.0000010000009998,
          "initial": 0.9999990000000001,
          "observed": 0.9999870000000001,
          "observed_growth_rate": 0.999987999988
         },
         {
          "estimated": 0.9999999999999999,
          "estimated_growth_rate": 1.0000010000009998,
          "initial": 0.9999990000000001,
          "observed": 0.9999870000000001,
          "observed_growth_rate": 0.999987999988
         },
         {
          "estimated": 0.9999999999999999,
          "estimated_growth_rate": 1.0000010000009998,
          "initial": 0.9999990000000001,
          "observed": 0.9999870000000001,
          "observed_growth_rate": 0.999987999988
         },
         {
          "estimated": 0.9999999999999999,
          "estimated_growth_rate": 1.0000010000009998,
          "initial": 0.9999990000000001,
          "observed": 0.9999870000000001,
          "observed_growth_rate": 0.999987999988
         },
         {
          "estimated": 0.9999999999999999,
          "estimated_growth_rate": 1.0000010000009998,
          "initial": 0.9999990000000001,
          "observed": 0.9999870000000001,
          "observed_growth_rate": 0.999987999988
         },
         {
          "estimated": 0.9999999999999999,
          "estimated_growth_rate": 1.0000010000009998,
          "initial": 0.9999990000000001,
          "observed": 0.9999870000000001,
          "observed_growth_rate": 0.999987999988
         },
         {
          "estimated": 0.9999999999999999,
          "estimated_growth_rate": 1.0000010000009998,
          "initial": 0.9999990000000001,
          "observed": 0.9999870000000001,
          "observed_growth_rate": 0.999987999988
         },
         {
          "estimated": 0.9999999999999999,
          "estimated_growth_rate": 1.0000010000009998,
          "initial": 0.9999990000000001,
          "observed": 0.9999870000000001,
          "observed_growth_rate": 0.999987999988
         },
         {
          "estimated": 0.9999999999999999,
          "estimated_growth_rate": 1.0000010000009998,
          "initial": 0.9999990000000001,
          "observed": 0.9999870000000001,
          "observed_growth_rate": 0.999987999988
         },
         {
          "estimated": 0.9999999999999999,
          "estimated_growth_rate": 1.0000010000009998,
          "initial": 0.9999990000000001,
          "observed": 0.9999870000000001,
          "observed_growth_rate": 0.999987999988
         },
         {
          "estimated": 0.9999999999999999,
          "estimated_growth_rate": 1.0000010000009998,
          "initial": 0.9999990000000001,
          "observed": 0.9999870000000001,
          "observed_growth_rate": 0.999987999988
         },
         {
          "estimated": 0.9999999999999999,
          "estimated_growth_rate": 1.0000010000009998,
          "initial": 0.9999990000000001,
          "observed": 0.9999870000000001,
          "observed_growth_rate": 0.999987999988
         },
         {
          "estimated": 0.9999999999999999,
          "estimated_growth_rate": 1.0000010000009998,
          "initial": 0.9999990000000001,
          "observed": 0.9999870000000001,
          "observed_growth_rate": 0.999987999988
         },
         {
          "estimated": 0.9999999999999999,
          "estimated_growth_rate": 1.0000010000009998,
          "initial": 0.9999990000000001,
          "observed": 0.9999870000000001,
          "observed_growth_rate": 0.999987999988
         },
         {
          "estimated": 0.9999999999999999,
          "estimated_growth_rate": 1.0000010000009998,
          "initial": 0.9999990000000001,
          "observed": 0.9999870000000001,
          "observed_growth_rate": 0.999987999988
         },
         {
          "estimated": 0.9999999999999999,
          "estimated_growth_rate": 1.0000010000009998,
          "initial": 0.9999990000000001,
          "observed": 0.9999870000000001,
          "observed_growth_rate": 0.999987999988
         },
         {
          "estimated": 0.9999999999999999,
          "estimated_growth_rate": 1.0000010000009998,
          "initial": 0.9999990000000001,
          "observed": 0.9999870000000001,
          "observed_growth_rate": 0.999987999988
         },
         {
          "estimated": 0.9999999999999999,
          "estimated_growth_rate": 1.0000010000009998,
          "initial": 0.9999990000000001,
          "observed": 0.9999870000000001,
          "observed_growth_rate": 0.999987999988
         },
         {
          "estimated": 0.9999999999999999,
          "estimated_growth_rate": 1.0000010000009998,
          "initial": 0.9999990000000001,
          "observed": 0.9999870000000001,
          "observed_growth_rate": 0.999987999988
         },
         {
          "estimated": 0.9999999999999999,
          "estimated_growth_rate": 1.0000010000009998,
          "initial": 0.9999990000000001,
          "observed": 0.9999870000000001,
          "observed_growth_rate": 0.999987999988
         },
         {
          "estimated": 0.9999999999999999,
          "estimated_growth_rate": 1.0000010000009998,
          "initial": 0.9999990000000001,
          "observed": 0.9999870000000001,
          "observed_growth_rate": 0.999987999988
         },
         {
          "estimated": 0.9999999999999999,
          "estimated_growth_rate": 1.0000010000009998,
          "initial": 0.9999990000000001,
          "observed": 0.9999870000000001,
          "observed_growth_rate": 0.999987999988
         },
         {
          "estimated": 0.9999999999999999,
          "estimated_growth_rate": 1.0000010000009998,
          "initial": 0.9999990000000001,
          "observed": 0.9999870000000001,
          "observed_growth_rate": 0.999987999988
         },
         {
          "estimated": 0.9999999999999999,
          "estimated_growth_rate": 1.0000010000009998,
          "initial": 0.9999990000000001,
          "observed": 0.9999870000000001,
          "observed_growth_rate": 0.999987999988
         },
         {
          "estimated": 0.9999999999999999,
          "estimated_growth_rate": 1.0000010000009998,
          "initial": 0.9999990000000001,
          "observed": 0.9999870000000001,
          "observed_growth_rate": 0.999987999988
         },
         {
          "estimated": 0.9999999999999999,
          "estimated_growth_rate": 1.0000010000009998,
          "initial": 0.9999990000000001,
          "observed": 0.9999870000000001,
          "observed_growth_rate": 0.999987999988
         },
         {
          "estimated": 0.9999999999999999,
          "estimated_growth_rate": 1.0000010000009998,
          "initial": 0.9999990000000001,
          "observed": 0.9999870000000001,
          "observed_growth_rate": 0.999987999988
         },
         {
          "estimated": 0.9999999999999999,
          "estimated_growth_rate": 1.0000010000009998,
          "initial": 0.9999990000000001,
          "observed": 0.9999870000000001,
          "observed_growth_rate": 0.999987999988
         },
         {
          "estimated": 0.9999999999999999,
          "estimated_growth_rate": 1.0000010000009998,
          "initial": 0.9999990000000001,
          "observed": 0.9999870000000001,
          "observed_growth_rate": 0.999987999988
         },
         {
          "estimated": 0.9999999999999999,
          "estimated_growth_rate": 1.0000010000009998,
          "initial": 0.9999990000000001,
          "observed": 0.9999870000000001,
          "observed_growth_rate": 0.999987999988
         },
         {
          "estimated": 0.9999999999999999,
          "estimated_growth_rate": 1.0000010000009998,
          "initial": 0.9999990000000001,
          "observed": 0.9999870000000001,
          "observed_growth_rate": 0.999987999988
         },
         {
          "estimated": 0.9999999999999999,
          "estimated_growth_rate": 1.0000010000009998,
          "initial": 0.9999990000000001,
          "observed": 0.9999870000000001,
          "observed_growth_rate": 0.999987999988
         },
         {
          "estimated": 0.9999999999999999,
          "estimated_growth_rate": 1.0000010000009998,
          "initial": 0.9999990000000001,
          "observed": 0.9999870000000001,
          "observed_growth_rate": 0.999987999988
         },
         {
          "estimated": 0.9999999999999999,
          "estimated_growth_rate": 1.0000010000009998,
          "initial": 0.9999990000000001,
          "observed": 0.9999870000000001,
          "observed_growth_rate": 0.999987999988
         },
         {
          "estimated": 0.9999999999999999,
          "estimated_growth_rate": 1.0000010000009998,
          "initial": 0.9999990000000001,
          "observed": 0.9999870000000001,
          "observed_growth_rate": 0.999987999988
         },
         {
          "estimated": 0.9999999999999999,
          "estimated_growth_rate": 1.0000010000009998,
          "initial": 0.9999990000000001,
          "observed": 0.9999870000000001,
          "observed_growth_rate": 0.999987999988
         },
         {
          "estimated": 0.9999999999999999,
          "estimated_growth_rate": 1.0000010000009998,
          "initial": 0.9999990000000001,
          "observed": 0.9999870000000001,
          "observed_growth_rate": 0.999987999988
         },
         {
          "estimated": 0.9999999999999999,
          "estimated_growth_rate": 1.0000010000009998,
          "initial": 0.9999990000000001,
          "observed": 0.9999870000000001,
          "observed_growth_rate": 0.999987999988
         },
         {
          "estimated": 0.9999999999999999,
          "estimated_growth_rate": 1.0000010000009998,
          "initial": 0.9999990000000001,
          "observed": 0.9999870000000001,
          "observed_growth_rate": 0.999987999988
         },
         {
          "estimated": 0.9999999999999999,
          "estimated_growth_rate": 1.0000010000009998,
          "initial": 0.9999990000000001,
          "observed": 0.9999870000000001,
          "observed_growth_rate": 0.999987999988
         },
         {
          "estimated": 0.9999999999999999,
          "estimated_growth_rate": 1.0000010000009998,
          "initial": 0.9999990000000001,
          "observed": 0.9999870000000001,
          "observed_growth_rate": 0.999987999988
         },
         {
          "estimated": 0.9999999999999999,
          "estimated_growth_rate": 1.0000010000009998,
          "initial": 0.9999990000000001,
          "observed": 0.9999870000000001,
          "observed_growth_rate": 0.999987999988
         },
         {
          "estimated": 0.9999999999999999,
          "estimated_growth_rate": 1.0000010000009998,
          "initial": 0.9999990000000001,
          "observed": 0.9999870000000001,
          "observed_growth_rate": 0.999987999988
         },
         {
          "estimated": 0.9999999999999999,
          "estimated_growth_rate": 1.0000010000009998,
          "initial": 0.9999990000000001,
          "observed": 0.9999870000000001,
          "observed_growth_rate": 0.999987999988
         },
         {
          "estimated": 0.9999999999999999,
          "estimated_growth_rate": 1.0000010000009998,
          "initial": 0.9999990000000001,
          "observed": 0.9999870000000001,
          "observed_growth_rate": 0.999987999988
         },
         {
          "estimated": 0.9999999999999999,
          "estimated_growth_rate": 1.0000010000009998,
          "initial": 0.9999990000000001,
          "observed": 0.9999870000000001,
          "observed_growth_rate": 0.999987999988
         },
         {
          "estimated": 0.9999999999999999,
          "estimated_growth_rate": 1.0000010000009998,
          "initial": 0.9999990000000001,
          "observed": 0.9999870000000001,
          "observed_growth_rate": 0.999987999988
         },
         {
          "estimated": 0.9999999999999999,
          "estimated_growth_rate": 1.0000010000009998,
          "initial": 0.9999990000000001,
          "observed": 0.9999870000000001,
          "observed_growth_rate": 0.999987999988
         },
         {
          "estimated": 0.9999999999999999,
          "estimated_growth_rate": 1.0000010000009998,
          "initial": 0.9999990000000001,
          "observed": 0.9999870000000001,
          "observed_growth_rate": 0.999987999988
         },
         {
          "estimated": 0.9999999999999999,
          "estimated_growth_rate": 1.0000010000009998,
          "initial": 0.9999990000000001,
          "observed": 0.9999870000000001,
          "observed_growth_rate": 0.999987999988
         },
         {
          "estimated": 0.9999999999999999,
          "estimated_growth_rate": 1.0000010000009998,
          "initial": 0.9999990000000001,
          "observed": 0.9999870000000001,
          "observed_growth_rate": 0.999987999988
         },
         {
          "estimated": 0.9999999999999999,
          "estimated_growth_rate": 1.0000010000009998,
          "initial": 0.9999990000000001,
          "observed": 0.9999870000000001,
          "observed_growth_rate": 0.999987999988
         },
         {
          "estimated": 0.9999999999999999,
          "estimated_growth_rate": 1.0000010000009998,
          "initial": 0.9999990000000001,
          "observed": 0.9999870000000001,
          "observed_growth_rate": 0.999987999988
         },
         {
          "estimated": 0.9999999999999999,
          "estimated_growth_rate": 1.0000010000009998,
          "initial": 0.9999990000000001,
          "observed": 0.9999870000000001,
          "observed_growth_rate": 0.999987999988
         },
         {
          "estimated": 0.9999999999999999,
          "estimated_growth_rate": 1.0000010000009998,
          "initial": 0.9999990000000001,
          "observed": 0.9999870000000001,
          "observed_growth_rate": 0.999987999988
         },
         {
          "estimated": 0.9999999999999999,
          "estimated_growth_rate": 1.0000010000009998,
          "initial": 0.9999990000000001,
          "observed": 0.9999870000000001,
          "observed_growth_rate": 0.999987999988
         },
         {
          "estimated": 0.9999999999999999,
          "estimated_growth_rate": 1.0000010000009998,
          "initial": 0.9999990000000001,
          "observed": 0.9999870000000001,
          "observed_growth_rate": 0.999987999988
         },
         {
          "estimated": 0.9999999999999999,
          "estimated_growth_rate": 1.0000010000009998,
          "initial": 0.9999990000000001,
          "observed": 0.9999870000000001,
          "observed_growth_rate": 0.999987999988
         },
         {
          "estimated": 0.9999999999999999,
          "estimated_growth_rate": 1.0000010000009998,
          "initial": 0.9999990000000001,
          "observed": 0.9999870000000001,
          "observed_growth_rate": 0.999987999988
         },
         {
          "estimated": 0.9999999999999999,
          "estimated_growth_rate": 1.0000010000009998,
          "initial": 0.9999990000000001,
          "observed": 0.9999870000000001,
          "observed_growth_rate": 0.999987999988
         },
         {
          "estimated": 0.9999999999999999,
          "estimated_growth_rate": 1.0000010000009998,
          "initial": 0.9999990000000001,
          "observed": 0.9999870000000001,
          "observed_growth_rate": 0.999987999988
         },
         {
          "estimated": 0.9999999999999999,
          "estimated_growth_rate": 1.0000010000009998,
          "initial": 0.9999990000000001,
          "observed": 0.9999870000000001,
          "observed_growth_rate": 0.999987999988
         },
         {
          "estimated": 0.9999999999999999,
          "estimated_growth_rate": 1.0000010000009998,
          "initial": 0.9999990000000001,
          "observed": 0.9999870000000001,
          "observed_growth_rate": 0.999987999988
         },
         {
          "estimated": 0.9999999999999999,
          "estimated_growth_rate": 1.0000010000009998,
          "initial": 0.9999990000000001,
          "observed": 0.9999870000000001,
          "observed_growth_rate": 0.999987999988
         },
         {
          "estimated": 0.9999999999999999,
          "estimated_growth_rate": 1.0000010000009998,
          "initial": 0.9999990000000001,
          "observed": 0.9999870000000001,
          "observed_growth_rate": 0.999987999988
         },
         {
          "estimated": 0.9999999999999999,
          "estimated_growth_rate": 1.0000010000009998,
          "initial": 0.9999990000000001,
          "observed": 0.9999870000000001,
          "observed_growth_rate": 0.999987999988
         },
         {
          "estimated": 0.9999999999999999,
          "estimated_growth_rate": 1.0000010000009998,
          "initial": 0.9999990000000001,
          "observed": 0.9999870000000001,
          "observed_growth_rate": 0.999987999988
         },
         {
          "estimated": 0.9997909112871459,
          "estimated_growth_rate": 1.0145083844199259,
          "initial": 0.985493,
          "observed": 0.9999870000000001,
          "observed_growth_rate": 1.0147073596666847
         },
         {
          "estimated": 0.9997909112871459,
          "estimated_growth_rate": 1.0145083844199259,
          "initial": 0.985493,
          "observed": 0.9999870000000001,
          "observed_growth_rate": 1.0147073596666847
         },
         {
          "estimated": 0.9997909112871459,
          "estimated_growth_rate": 1.0145083844199259,
          "initial": 0.985493,
          "observed": 0.9999870000000001,
          "observed_growth_rate": 1.0147073596666847
         },
         {
          "estimated": 0.9997909112871459,
          "estimated_growth_rate": 1.0145083844199259,
          "initial": 0.985493,
          "observed": 0.9999870000000001,
          "observed_growth_rate": 1.0147073596666847
         },
         {
          "estimated": 0.9997909112871459,
          "estimated_growth_rate": 1.0145083844199259,
          "initial": 0.985493,
          "observed": 0.9999870000000001,
          "observed_growth_rate": 1.0147073596666847
         },
         {
          "estimated": 0.9997909112871459,
          "estimated_growth_rate": 1.0145083844199259,
          "initial": 0.985493,
          "observed": 0.9999870000000001,
          "observed_growth_rate": 1.0147073596666847
         },
         {
          "estimated": 0.9997909112871459,
          "estimated_growth_rate": 1.0145083844199259,
          "initial": 0.985493,
          "observed": 0.9999870000000001,
          "observed_growth_rate": 1.0147073596666847
         },
         {
          "estimated": 0.9997909112871459,
          "estimated_growth_rate": 1.0145083844199259,
          "initial": 0.985493,
          "observed": 0.9999870000000001,
          "observed_growth_rate": 1.0147073596666847
         },
         {
          "estimated": 0.9996009394136705,
          "estimated_growth_rate": 1.028151683513147,
          "initial": 0.9722310000000001,
          "observed": 0.9999870000000001,
          "observed_growth_rate": 1.028548770816812
         },
         {
          "estimated": 0.9996009394136705,
          "estimated_growth_rate": 1.028151683513147,
          "initial": 0.9722310000000001,
          "observed": 0.9999870000000001,
          "observed_growth_rate": 1.028548770816812
         },
         {
          "estimated": 0.9996009394136705,
          "estimated_growth_rate": 1.028151683513147,
          "initial": 0.9722310000000001,
          "observed": 0.9999870000000001,
          "observed_growth_rate": 1.028548770816812
         },
         {
          "estimated": 0.9996009394136705,
          "estimated_growth_rate": 1.028151683513147,
          "initial": 0.9722310000000001,
          "observed": 0.9999870000000001,
          "observed_growth_rate": 1.028548770816812
         },
         {
          "estimated": 0.9996009394136705,
          "estimated_growth_rate": 1.028151683513147,
          "initial": 0.9722310000000001,
          "observed": 0.9999870000000001,
          "observed_growth_rate": 1.028548770816812
         },
         {
          "estimated": 0.9996009394136705,
          "estimated_growth_rate": 1.028151683513147,
          "initial": 0.9722310000000001,
          "observed": 0.9999870000000001,
          "observed_growth_rate": 1.028548770816812
         },
         {
          "estimated": 0.9996009394136705,
          "estimated_growth_rate": 1.028151683513147,
          "initial": 0.9722310000000001,
          "observed": 0.9999870000000001,
          "observed_growth_rate": 1.028548770816812
         },
         {
          "estimated": 0.9996009394136705,
          "estimated_growth_rate": 1.028151683513147,
          "initial": 0.9722310000000001,
          "observed": 0.9999870000000001,
          "observed_growth_rate": 1.028548770816812
         },
         {
          "estimated": 0.9995963365855655,
          "estimated_growth_rate": 1.0284886394448503,
          "initial": 0.971908,
          "observed": 0.9999870000000001,
          "observed_growth_rate": 1.0288905945830265
         },
         {
          "estimated": 0.9995963365855655,
          "estimated_growth_rate": 1.0284886394448503,
          "initial": 0.971908,
          "observed": 0.9999870000000001,
          "observed_growth_rate": 1.0288905945830265
         },
         {
          "estimated": 0.9995310276521898,
          "estimated_growth_rate": 1.0332939060317783,
          "initial": 0.967325,
          "observed": 0.9999870000000001,
          "observed_growth_rate": 1.0337652805417001
         },
         {
          "estimated": 0.9994165809697839,
          "estimated_growth_rate": 1.0418251140628252,
          "initial": 0.9592940000000001,
          "observed": 0.9962070000000001,
          "observed_growth_rate": 1.0384793400146357
         },
         {
          "estimated": 0.9994165809697839,
          "estimated_growth_rate": 1.0418251140628252,
          "initial": 0.9592940000000001,
          "observed": 0.9962070000000001,
          "observed_growth_rate": 1.0384793400146357
         },
         {
          "estimated": 0.9994078435197885,
          "estimated_growth_rate": 1.042395178276743,
          "initial": 0.9587610000000001,
          "observed": 0.9962070000000001,
          "observed_growth_rate": 1.039056657498584
         },
         {
          "estimated": 0.9994078435197885,
          "estimated_growth_rate": 1.042395178276743,
          "initial": 0.9587610000000001,
          "observed": 0.9962070000000001,
          "observed_growth_rate": 1.039056657498584
         },
         {
          "estimated": 0.9994078435197885,
          "estimated_growth_rate": 1.042395178276743,
          "initial": 0.9587610000000001,
          "observed": 0.9962070000000001,
          "observed_growth_rate": 1.039056657498584
         },
         {
          "estimated": 0.9994078435197885,
          "estimated_growth_rate": 1.042395178276743,
          "initial": 0.9587610000000001,
          "observed": 0.9962070000000001,
          "observed_growth_rate": 1.039056657498584
         },
         {
          "estimated": 0.9994078435197885,
          "estimated_growth_rate": 1.042395178276743,
          "initial": 0.9587610000000001,
          "observed": 0.9962070000000001,
          "observed_growth_rate": 1.039056657498584
         },
         {
          "estimated": 0.9994078435197885,
          "estimated_growth_rate": 1.042395178276743,
          "initial": 0.9587610000000001,
          "observed": 0.9962070000000001,
          "observed_growth_rate": 1.039056657498584
         },
         {
          "estimated": 0.9994078435197885,
          "estimated_growth_rate": 1.042395178276743,
          "initial": 0.9587610000000001,
          "observed": 0.9962070000000001,
          "observed_growth_rate": 1.039056657498584
         },
         {
          "estimated": 0.999407836782487,
          "estimated_growth_rate": 1.0423962584822968,
          "initial": 0.9587600000000001,
          "observed": 0.9962070000000001,
          "observed_growth_rate": 1.0390577412491135
         },
         {
          "estimated": 0.999407836782487,
          "estimated_growth_rate": 1.0423962584822968,
          "initial": 0.9587600000000001,
          "observed": 0.9962070000000001,
          "observed_growth_rate": 1.0390577412491135
         },
         {
          "estimated": 0.999407836782487,
          "estimated_growth_rate": 1.0423962584822968,
          "initial": 0.9587600000000001,
          "observed": 0.9962070000000001,
          "observed_growth_rate": 1.0390577412491135
         },
         {
          "estimated": 0.999407836782487,
          "estimated_growth_rate": 1.0423962584822968,
          "initial": 0.9587600000000001,
          "observed": 0.9962070000000001,
          "observed_growth_rate": 1.0390577412491135
         },
         {
          "estimated": 0.999407836782487,
          "estimated_growth_rate": 1.0423962584822968,
          "initial": 0.9587600000000001,
          "observed": 0.9962070000000001,
          "observed_growth_rate": 1.0390577412491135
         },
         {
          "estimated": 0.999407836782487,
          "estimated_growth_rate": 1.0423962584822968,
          "initial": 0.9587600000000001,
          "observed": 0.9962070000000001,
          "observed_growth_rate": 1.0390577412491135
         },
         {
          "estimated": 0.999407836782487,
          "estimated_growth_rate": 1.0423962584822968,
          "initial": 0.9587600000000001,
          "observed": 0.9962070000000001,
          "observed_growth_rate": 1.0390577412491135
         },
         {
          "estimated": 0.999407836782487,
          "estimated_growth_rate": 1.0423962584822968,
          "initial": 0.9587600000000001,
          "observed": 0.9962070000000001,
          "observed_growth_rate": 1.0390577412491135
         },
         {
          "estimated": 0.999407836782487,
          "estimated_growth_rate": 1.0423962584822968,
          "initial": 0.9587600000000001,
          "observed": 0.9962070000000001,
          "observed_growth_rate": 1.0390577412491135
         },
         {
          "estimated": 0.999407836782487,
          "estimated_growth_rate": 1.0423962584822968,
          "initial": 0.9587600000000001,
          "observed": 0.9962070000000001,
          "observed_growth_rate": 1.0390577412491135
         },
         {
          "estimated": 0.999407836782487,
          "estimated_growth_rate": 1.0423962584822968,
          "initial": 0.9587600000000001,
          "observed": 0.9962070000000001,
          "observed_growth_rate": 1.0390577412491135
         },
         {
          "estimated": 0.999407836782487,
          "estimated_growth_rate": 1.0423962584822968,
          "initial": 0.9587600000000001,
          "observed": 0.9962070000000001,
          "observed_growth_rate": 1.0390577412491135
         },
         {
          "estimated": 0.999407836782487,
          "estimated_growth_rate": 1.0423962584822968,
          "initial": 0.9587600000000001,
          "observed": 0.9962070000000001,
          "observed_growth_rate": 1.0390577412491135
         },
         {
          "estimated": 0.9994068155698903,
          "estimated_growth_rate": 1.0424723925797525,
          "initial": 0.958689,
          "observed": 0.9962070000000001,
          "observed_growth_rate": 1.0391346933155592
         },
         {
          "estimated": 0.9994068155698903,
          "estimated_growth_rate": 1.0424723925797525,
          "initial": 0.958689,
          "observed": 0.9962070000000001,
          "observed_growth_rate": 1.0391346933155592
         },
         {
          "estimated": 0.9994068155698903,
          "estimated_growth_rate": 1.0424723925797525,
          "initial": 0.958689,
          "observed": 0.9962070000000001,
          "observed_growth_rate": 1.0391346933155592
         },
         {
          "estimated": 0.9993859082064442,
          "estimated_growth_rate": 1.0439315096549298,
          "initial": 0.957329,
          "observed": 0.9962070000000001,
          "observed_growth_rate": 1.0406109080577315
         },
         {
          "estimated": 0.390259772074342,
          "estimated_growth_rate": 0.9669924304522314,
          "initial": 0.40358099999999997,
          "observed": 0.19752099999999997,
          "observed_growth_rate": 0.4894209588657543
         },
         {
          "estimated": 0.3900939328668014,
          "estimated_growth_rate": 0.9909966336248061,
          "initial": 0.393638,
          "observed": 0.19752099999999997,
          "observed_growth_rate": 0.5017833644109562
         },
         {
          "estimated": 0.3890514706971696,
          "estimated_growth_rate": 1.130641476257257,
          "initial": 0.344098,
          "observed": 0.19752099999999997,
          "observed_growth_rate": 0.5740254229899621
         },
         {
          "estimated": 0.38902455826310756,
          "estimated_growth_rate": 1.135274632337548,
          "initial": 0.34267,
          "observed": 0.19752099999999997,
          "observed_growth_rate": 0.5764175445764146
         },
         {
          "estimated": 0.38291572589132905,
          "estimated_growth_rate": 1.4895908982355515,
          "initial": 0.257061,
          "observed": 0.197056,
          "observed_growth_rate": 0.7665729146000366
         },
         {
          "estimated": 0.38291152033336073,
          "estimated_growth_rate": 1.4899860707940416,
          "initial": 0.25699,
          "observed": 0.197056,
          "observed_growth_rate": 0.7667846997937663
         },
         {
          "estimated": 0.382862131269394,
          "estimated_growth_rate": 1.493670608058559,
          "initial": 0.256323,
          "observed": 0.197056,
          "observed_growth_rate": 0.7687800158393902
         },
         {
          "estimated": 0.38276883716684473,
          "estimated_growth_rate": 1.5007423444023194,
          "initial": 0.255053,
          "observed": 0.197056,
          "observed_growth_rate": 0.772608046170796
         },
         {
          "estimated": 0.38273164497050505,
          "estimated_growth_rate": 1.5012380953091857,
          "initial": 0.254944,
          "observed": 0.197056,
          "observed_growth_rate": 0.7729383707794654
         },
         {
          "estimated": 0.382654642733924,
          "estimated_growth_rate": 1.5018314654067793,
          "initial": 0.25479199999999996,
          "observed": 0.197056,
          "observed_growth_rate": 0.773399478790543
         },
         {
          "estimated": 0.3826481896382406,
          "estimated_growth_rate": 1.5018179270702954,
          "initial": 0.25479,
          "observed": 0.197056,
          "observed_growth_rate": 0.7734055496683543
         },
         {
          "estimated": 0.3826355097791379,
          "estimated_growth_rate": 1.501779949523282,
          "initial": 0.25478799999999996,
          "observed": 0.197056,
          "observed_growth_rate": 0.7734116206414746
         },
         {
          "estimated": 0.38200205327977077,
          "estimated_growth_rate": 1.5410641082441272,
          "initial": 0.24788200000000002,
          "observed": 0.197056,
          "observed_growth_rate": 0.7949588917307429
         },
         {
          "estimated": 0.38127208348322317,
          "estimated_growth_rate": 1.547923298431352,
          "initial": 0.246312,
          "observed": 0.197056,
          "observed_growth_rate": 0.800025983305726
         },
         {
          "estimated": 0.3807947251111366,
          "estimated_growth_rate": 1.5973871163203233,
          "initial": 0.23838600000000001,
          "observed": 0.197056,
          "observed_growth_rate": 0.826625724665039
         },
         {
          "estimated": 0.3807947251111366,
          "estimated_growth_rate": 1.5973871163203233,
          "initial": 0.23838600000000001,
          "observed": 0.197056,
          "observed_growth_rate": 0.826625724665039
         },
         {
          "estimated": 0.3794928964538146,
          "estimated_growth_rate": 1.5934233691932995,
          "initial": 0.238162,
          "observed": 0.197056,
          "observed_growth_rate": 0.8274031961438013
         },
         {
          "estimated": 0.37828541935507415,
          "estimated_growth_rate": 1.7658734915277476,
          "initial": 0.21422000000000002,
          "observed": 0.197055,
          "observed_growth_rate": 0.91987209410886
         },
         {
          "estimated": 0.37543231390361803,
          "estimated_growth_rate": 1.9236661999006892,
          "initial": 0.195165,
          "observed": 0.029861000000000002,
          "observed_growth_rate": 0.15300386852150744
         },
         {
          "estimated": 0.3518601159867542,
          "estimated_growth_rate": 1.8060965413193557,
          "initial": 0.194818,
          "observed": 0.029861000000000002,
          "observed_growth_rate": 0.15327639129854534
         },
         {
          "estimated": 0.34961414734264024,
          "estimated_growth_rate": 2.048792499839667,
          "initial": 0.17064400000000002,
          "observed": 0.029861000000000002,
          "observed_growth_rate": 0.17499003773938726
         },
         {
          "estimated": 0.6080590931244574,
          "estimated_growth_rate": 1.1775966448040835,
          "initial": 0.516356,
          "observed": 0.798686,
          "observed_growth_rate": 1.5467739311637707
         },
         {
          "estimated": 0.60805857851433,
          "estimated_growth_rate": 1.1776093318763048,
          "initial": 0.51635,
          "observed": 0.798686,
          "observed_growth_rate": 1.5467919047157936
         },
         {
          "estimated": 0.607909843275866,
          "estimated_growth_rate": 1.1949322704640208,
          "initial": 0.50874,
          "observed": 0.7983210000000001,
          "observed_growth_rate": 1.5692121712466094
         },
         {
          "estimated": 0.6077479379352589,
          "estimated_growth_rate": 1.2161452974593612,
          "initial": 0.49973300000000004,
          "observed": 0.7980320000000001,
          "observed_growth_rate": 1.5969167535463937
         },
         {
          "estimated": 0.6076771479206143,
          "estimated_growth_rate": 1.2272512696492082,
          "initial": 0.495153,
          "observed": 0.7980320000000001,
          "observed_growth_rate": 1.611687700569319
         },
         {
          "estimated": 0.6073290232131928,
          "estimated_growth_rate": 1.2572095612359784,
          "initial": 0.4830770000000001,
          "observed": 0.791763,
          "observed_growth_rate": 1.6389995797771366
         },
         {
          "estimated": 0.6071589534738547,
          "estimated_growth_rate": 1.262203378729967,
          "initial": 0.48103100000000004,
          "observed": 0.791763,
          "observed_growth_rate": 1.6459708417960588
         },
         {
          "estimated": 0.6069805705902352,
          "estimated_growth_rate": 1.2832434553339502,
          "initial": 0.4730050000000001,
          "observed": 0.37749800000000006,
          "observed_growth_rate": 0.7980845868436908
         },
         {
          "estimated": 0.6068919866231322,
          "estimated_growth_rate": 1.28357719991441,
          "initial": 0.4728130000000001,
          "observed": 0.37749800000000006,
          "observed_growth_rate": 0.7984086731963799
         },
         {
          "estimated": 0.6065047440351012,
          "estimated_growth_rate": 1.3270915894671573,
          "initial": 0.457018,
          "observed": 0.37062900000000004,
          "observed_growth_rate": 0.8109724343461309
         },
         {
          "estimated": 0.5489695779243191,
          "estimated_growth_rate": 1.4009972844266796,
          "initial": 0.3918420000000001,
          "observed": 0.29274000000000006,
          "observed_growth_rate": 0.747086836020641
         },
         {
          "estimated": 0.5487167517418015,
          "estimated_growth_rate": 1.4008632948815327,
          "initial": 0.39169899999999996,
          "observed": 0.29274000000000006,
          "observed_growth_rate": 0.7473595796772524
         },
         {
          "estimated": 0.5363659434448932,
          "estimated_growth_rate": 1.8675694409641128,
          "initial": 0.2872,
          "observed": 0.27005400000000007,
          "observed_growth_rate": 0.9402994428969361
         },
         {
          "estimated": 0.5298136077884262,
          "estimated_growth_rate": 2.164306638133083,
          "initial": 0.24479599999999999,
          "observed": 0.2696860000000001,
          "observed_growth_rate": 1.1016764979819935
         },
         {
          "estimated": 0.5293525088911895,
          "estimated_growth_rate": 2.1624848701991897,
          "initial": 0.244789,
          "observed": 0.2696860000000001,
          "observed_growth_rate": 1.101708001585039
         },
         {
          "estimated": 0.5270917880999227,
          "estimated_growth_rate": 2.1533990329773127,
          "initial": 0.244772,
          "observed": 0.2696860000000001,
          "observed_growth_rate": 1.1017845178370078
         },
         {
          "estimated": 0.5264739719840449,
          "estimated_growth_rate": 2.2860354840818276,
          "initial": 0.2303,
          "observed": 0.269612,
          "observed_growth_rate": 1.1706990881458967
         },
         {
          "estimated": 0.5252846732474508,
          "estimated_growth_rate": 2.5262937148492055,
          "initial": 0.207927,
          "observed": 0.269612,
          "observed_growth_rate": 1.2966666185728646
         },
         {
          "estimated": 1,
          "estimated_growth_rate": 0.9999960000159999,
          "initial": 1.0000040000000001,
          "observed": 1.000001,
          "observed_growth_rate": 0.9999970000119998
         },
         {
          "estimated": 1,
          "estimated_growth_rate": 0.9999960000159999,
          "initial": 1.0000040000000001,
          "observed": 1.000001,
          "observed_growth_rate": 0.9999970000119998
         },
         {
          "estimated": 1,
          "estimated_growth_rate": 0.9999960000159999,
          "initial": 1.0000040000000001,
          "observed": 1.000001,
          "observed_growth_rate": 0.9999970000119998
         },
         {
          "estimated": 1,
          "estimated_growth_rate": 0.9999960000159999,
          "initial": 1.0000040000000001,
          "observed": 1.000001,
          "observed_growth_rate": 0.9999970000119998
         },
         {
          "estimated": 1,
          "estimated_growth_rate": 0.9999960000159999,
          "initial": 1.0000040000000001,
          "observed": 1.000001,
          "observed_growth_rate": 0.9999970000119998
         },
         {
          "estimated": 1,
          "estimated_growth_rate": 0.9999960000159999,
          "initial": 1.0000040000000001,
          "observed": 1.000001,
          "observed_growth_rate": 0.9999970000119998
         },
         {
          "estimated": 1,
          "estimated_growth_rate": 0.9999960000159999,
          "initial": 1.0000040000000001,
          "observed": 1.000001,
          "observed_growth_rate": 0.9999970000119998
         },
         {
          "estimated": 1,
          "estimated_growth_rate": 0.9999960000159999,
          "initial": 1.0000040000000001,
          "observed": 1.000001,
          "observed_growth_rate": 0.9999970000119998
         },
         {
          "estimated": 1,
          "estimated_growth_rate": 0.9999960000159999,
          "initial": 1.0000040000000001,
          "observed": 1.000001,
          "observed_growth_rate": 0.9999970000119998
         },
         {
          "estimated": 1,
          "estimated_growth_rate": 0.9999960000159999,
          "initial": 1.0000040000000001,
          "observed": 1.000001,
          "observed_growth_rate": 0.9999970000119998
         },
         {
          "estimated": 1,
          "estimated_growth_rate": 0.9999960000159999,
          "initial": 1.0000040000000001,
          "observed": 1.000001,
          "observed_growth_rate": 0.9999970000119998
         },
         {
          "estimated": 1,
          "estimated_growth_rate": 0.9999960000159999,
          "initial": 1.0000040000000001,
          "observed": 1.000001,
          "observed_growth_rate": 0.9999970000119998
         },
         {
          "estimated": 1,
          "estimated_growth_rate": 0.9999960000159999,
          "initial": 1.0000040000000001,
          "observed": 1.000001,
          "observed_growth_rate": 0.9999970000119998
         },
         {
          "estimated": 1,
          "estimated_growth_rate": 0.9999960000159999,
          "initial": 1.0000040000000001,
          "observed": 1.000001,
          "observed_growth_rate": 0.9999970000119998
         },
         {
          "estimated": 1,
          "estimated_growth_rate": 0.9999960000159999,
          "initial": 1.0000040000000001,
          "observed": 1.000001,
          "observed_growth_rate": 0.9999970000119998
         },
         {
          "estimated": 1,
          "estimated_growth_rate": 0.9999960000159999,
          "initial": 1.0000040000000001,
          "observed": 1.000001,
          "observed_growth_rate": 0.9999970000119998
         },
         {
          "estimated": 1,
          "estimated_growth_rate": 0.9999960000159999,
          "initial": 1.0000040000000001,
          "observed": 1.000001,
          "observed_growth_rate": 0.9999970000119998
         },
         {
          "estimated": 1,
          "estimated_growth_rate": 0.9999960000159999,
          "initial": 1.0000040000000001,
          "observed": 1.000001,
          "observed_growth_rate": 0.9999970000119998
         },
         {
          "estimated": 1,
          "estimated_growth_rate": 0.9999960000159999,
          "initial": 1.0000040000000001,
          "observed": 1.000001,
          "observed_growth_rate": 0.9999970000119998
         },
         {
          "estimated": 1,
          "estimated_growth_rate": 0.9999960000159999,
          "initial": 1.0000040000000001,
          "observed": 1.000001,
          "observed_growth_rate": 0.9999970000119998
         },
         {
          "estimated": 1,
          "estimated_growth_rate": 0.9999960000159999,
          "initial": 1.0000040000000001,
          "observed": 1.000001,
          "observed_growth_rate": 0.9999970000119998
         },
         {
          "estimated": 1,
          "estimated_growth_rate": 0.9999960000159999,
          "initial": 1.0000040000000001,
          "observed": 1.000001,
          "observed_growth_rate": 0.9999970000119998
         },
         {
          "estimated": 1,
          "estimated_growth_rate": 0.9999960000159999,
          "initial": 1.0000040000000001,
          "observed": 1.000001,
          "observed_growth_rate": 0.9999970000119998
         },
         {
          "estimated": 1,
          "estimated_growth_rate": 0.9999960000159999,
          "initial": 1.0000040000000001,
          "observed": 1.000001,
          "observed_growth_rate": 0.9999970000119998
         },
         {
          "estimated": 1,
          "estimated_growth_rate": 0.9999960000159999,
          "initial": 1.0000040000000001,
          "observed": 1.000001,
          "observed_growth_rate": 0.9999970000119998
         },
         {
          "estimated": 1,
          "estimated_growth_rate": 0.9999960000159999,
          "initial": 1.0000040000000001,
          "observed": 1.000001,
          "observed_growth_rate": 0.9999970000119998
         },
         {
          "estimated": 1,
          "estimated_growth_rate": 0.9999960000159999,
          "initial": 1.0000040000000001,
          "observed": 1.000001,
          "observed_growth_rate": 0.9999970000119998
         },
         {
          "estimated": 1,
          "estimated_growth_rate": 0.9999960000159999,
          "initial": 1.0000040000000001,
          "observed": 1.000001,
          "observed_growth_rate": 0.9999970000119998
         },
         {
          "estimated": 1,
          "estimated_growth_rate": 0.9999960000159999,
          "initial": 1.0000040000000001,
          "observed": 1.000001,
          "observed_growth_rate": 0.9999970000119998
         },
         {
          "estimated": 1,
          "estimated_growth_rate": 0.9999960000159999,
          "initial": 1.0000040000000001,
          "observed": 1.000001,
          "observed_growth_rate": 0.9999970000119998
         },
         {
          "estimated": 1,
          "estimated_growth_rate": 0.9999960000159999,
          "initial": 1.0000040000000001,
          "observed": 1.000001,
          "observed_growth_rate": 0.9999970000119998
         },
         {
          "estimated": 1,
          "estimated_growth_rate": 0.9999960000159999,
          "initial": 1.0000040000000001,
          "observed": 1.000001,
          "observed_growth_rate": 0.9999970000119998
         },
         {
          "estimated": 1,
          "estimated_growth_rate": 0.9999960000159999,
          "initial": 1.0000040000000001,
          "observed": 1.000001,
          "observed_growth_rate": 0.9999970000119998
         },
         {
          "estimated": 1,
          "estimated_growth_rate": 0.9999960000159999,
          "initial": 1.0000040000000001,
          "observed": 1.000001,
          "observed_growth_rate": 0.9999970000119998
         },
         {
          "estimated": 1,
          "estimated_growth_rate": 0.9999960000159999,
          "initial": 1.0000040000000001,
          "observed": 1.000001,
          "observed_growth_rate": 0.9999970000119998
         },
         {
          "estimated": 1,
          "estimated_growth_rate": 0.9999960000159999,
          "initial": 1.0000040000000001,
          "observed": 1.000001,
          "observed_growth_rate": 0.9999970000119998
         },
         {
          "estimated": 1,
          "estimated_growth_rate": 0.9999960000159999,
          "initial": 1.0000040000000001,
          "observed": 1.000001,
          "observed_growth_rate": 0.9999970000119998
         },
         {
          "estimated": 1,
          "estimated_growth_rate": 0.9999960000159999,
          "initial": 1.0000040000000001,
          "observed": 1.000001,
          "observed_growth_rate": 0.9999970000119998
         },
         {
          "estimated": 1,
          "estimated_growth_rate": 0.9999960000159999,
          "initial": 1.0000040000000001,
          "observed": 1.000001,
          "observed_growth_rate": 0.9999970000119998
         },
         {
          "estimated": 1,
          "estimated_growth_rate": 0.9999960000159999,
          "initial": 1.0000040000000001,
          "observed": 1.000001,
          "observed_growth_rate": 0.9999970000119998
         },
         {
          "estimated": 1,
          "estimated_growth_rate": 0.9999960000159999,
          "initial": 1.0000040000000001,
          "observed": 1.000001,
          "observed_growth_rate": 0.9999970000119998
         },
         {
          "estimated": 1,
          "estimated_growth_rate": 0.9999960000159999,
          "initial": 1.0000040000000001,
          "observed": 1.000001,
          "observed_growth_rate": 0.9999970000119998
         },
         {
          "estimated": 1,
          "estimated_growth_rate": 0.9999960000159999,
          "initial": 1.0000040000000001,
          "observed": 1.000001,
          "observed_growth_rate": 0.9999970000119998
         },
         {
          "estimated": 1,
          "estimated_growth_rate": 0.9999960000159999,
          "initial": 1.0000040000000001,
          "observed": 1.000001,
          "observed_growth_rate": 0.9999970000119998
         },
         {
          "estimated": 1,
          "estimated_growth_rate": 0.9999960000159999,
          "initial": 1.0000040000000001,
          "observed": 1.000001,
          "observed_growth_rate": 0.9999970000119998
         },
         {
          "estimated": 1,
          "estimated_growth_rate": 0.9999960000159999,
          "initial": 1.0000040000000001,
          "observed": 1.000001,
          "observed_growth_rate": 0.9999970000119998
         },
         {
          "estimated": 1,
          "estimated_growth_rate": 0.9999960000159999,
          "initial": 1.0000040000000001,
          "observed": 1.000001,
          "observed_growth_rate": 0.9999970000119998
         },
         {
          "estimated": 1,
          "estimated_growth_rate": 0.9999960000159999,
          "initial": 1.0000040000000001,
          "observed": 1.000001,
          "observed_growth_rate": 0.9999970000119998
         },
         {
          "estimated": 1,
          "estimated_growth_rate": 0.9999960000159999,
          "initial": 1.0000040000000001,
          "observed": 1.000001,
          "observed_growth_rate": 0.9999970000119998
         },
         {
          "estimated": 1,
          "estimated_growth_rate": 0.9999960000159999,
          "initial": 1.0000040000000001,
          "observed": 1.000001,
          "observed_growth_rate": 0.9999970000119998
         },
         {
          "estimated": 1,
          "estimated_growth_rate": 0.9999960000159999,
          "initial": 1.0000040000000001,
          "observed": 1.000001,
          "observed_growth_rate": 0.9999970000119998
         },
         {
          "estimated": 1,
          "estimated_growth_rate": 0.9999960000159999,
          "initial": 1.0000040000000001,
          "observed": 1.000001,
          "observed_growth_rate": 0.9999970000119998
         },
         {
          "estimated": 1,
          "estimated_growth_rate": 0.9999960000159999,
          "initial": 1.0000040000000001,
          "observed": 1.000001,
          "observed_growth_rate": 0.9999970000119998
         },
         {
          "estimated": 1,
          "estimated_growth_rate": 0.9999960000159999,
          "initial": 1.0000040000000001,
          "observed": 1.000001,
          "observed_growth_rate": 0.9999970000119998
         },
         {
          "estimated": 1,
          "estimated_growth_rate": 0.9999960000159999,
          "initial": 1.0000040000000001,
          "observed": 1.000001,
          "observed_growth_rate": 0.9999970000119998
         },
         {
          "estimated": 1,
          "estimated_growth_rate": 0.9999960000159999,
          "initial": 1.0000040000000001,
          "observed": 1.000001,
          "observed_growth_rate": 0.9999970000119998
         },
         {
          "estimated": 1,
          "estimated_growth_rate": 0.9999960000159999,
          "initial": 1.0000040000000001,
          "observed": 1.000001,
          "observed_growth_rate": 0.9999970000119998
         },
         {
          "estimated": 1,
          "estimated_growth_rate": 0.9999960000159999,
          "initial": 1.0000040000000001,
          "observed": 1.000001,
          "observed_growth_rate": 0.9999970000119998
         },
         {
          "estimated": 1,
          "estimated_growth_rate": 0.9999960000159999,
          "initial": 1.0000040000000001,
          "observed": 1.000001,
          "observed_growth_rate": 0.9999970000119998
         },
         {
          "estimated": 1,
          "estimated_growth_rate": 0.9999960000159999,
          "initial": 1.0000040000000001,
          "observed": 1.000001,
          "observed_growth_rate": 0.9999970000119998
         },
         {
          "estimated": 1,
          "estimated_growth_rate": 0.9999960000159999,
          "initial": 1.0000040000000001,
          "observed": 1.000001,
          "observed_growth_rate": 0.9999970000119998
         },
         {
          "estimated": 1,
          "estimated_growth_rate": 0.9999960000159999,
          "initial": 1.0000040000000001,
          "observed": 1.000001,
          "observed_growth_rate": 0.9999970000119998
         },
         {
          "estimated": 1,
          "estimated_growth_rate": 0.9999960000159999,
          "initial": 1.0000040000000001,
          "observed": 1.000001,
          "observed_growth_rate": 0.9999970000119998
         },
         {
          "estimated": 1,
          "estimated_growth_rate": 0.9999960000159999,
          "initial": 1.0000040000000001,
          "observed": 1.000001,
          "observed_growth_rate": 0.9999970000119998
         },
         {
          "estimated": 1,
          "estimated_growth_rate": 0.9999960000159999,
          "initial": 1.0000040000000001,
          "observed": 1.000001,
          "observed_growth_rate": 0.9999970000119998
         },
         {
          "estimated": 1,
          "estimated_growth_rate": 0.9999960000159999,
          "initial": 1.0000040000000001,
          "observed": 1.000001,
          "observed_growth_rate": 0.9999970000119998
         },
         {
          "estimated": 1,
          "estimated_growth_rate": 0.9999960000159999,
          "initial": 1.0000040000000001,
          "observed": 1.000001,
          "observed_growth_rate": 0.9999970000119998
         },
         {
          "estimated": 1,
          "estimated_growth_rate": 0.9999960000159999,
          "initial": 1.0000040000000001,
          "observed": 1.000001,
          "observed_growth_rate": 0.9999970000119998
         },
         {
          "estimated": 1,
          "estimated_growth_rate": 0.9999960000159999,
          "initial": 1.0000040000000001,
          "observed": 1.000001,
          "observed_growth_rate": 0.9999970000119998
         },
         {
          "estimated": 1,
          "estimated_growth_rate": 0.9999960000159999,
          "initial": 1.0000040000000001,
          "observed": 1.000001,
          "observed_growth_rate": 0.9999970000119998
         },
         {
          "estimated": 1,
          "estimated_growth_rate": 0.9999960000159999,
          "initial": 1.0000040000000001,
          "observed": 1.000001,
          "observed_growth_rate": 0.9999970000119998
         },
         {
          "estimated": 1,
          "estimated_growth_rate": 0.9999960000159999,
          "initial": 1.0000040000000001,
          "observed": 1.000001,
          "observed_growth_rate": 0.9999970000119998
         },
         {
          "estimated": 1,
          "estimated_growth_rate": 0.9999960000159999,
          "initial": 1.0000040000000001,
          "observed": 1.000001,
          "observed_growth_rate": 0.9999970000119998
         },
         {
          "estimated": 1,
          "estimated_growth_rate": 0.9999960000159999,
          "initial": 1.0000040000000001,
          "observed": 1.000001,
          "observed_growth_rate": 0.9999970000119998
         },
         {
          "estimated": 1,
          "estimated_growth_rate": 0.9999960000159999,
          "initial": 1.0000040000000001,
          "observed": 1.000001,
          "observed_growth_rate": 0.9999970000119998
         },
         {
          "estimated": 1,
          "estimated_growth_rate": 0.9999960000159999,
          "initial": 1.0000040000000001,
          "observed": 1.000001,
          "observed_growth_rate": 0.9999970000119998
         },
         {
          "estimated": 1,
          "estimated_growth_rate": 0.9999960000159999,
          "initial": 1.0000040000000001,
          "observed": 1.000001,
          "observed_growth_rate": 0.9999970000119998
         },
         {
          "estimated": 1,
          "estimated_growth_rate": 0.9999960000159999,
          "initial": 1.0000040000000001,
          "observed": 1.000001,
          "observed_growth_rate": 0.9999970000119998
         },
         {
          "estimated": 1,
          "estimated_growth_rate": 0.9999960000159999,
          "initial": 1.0000040000000001,
          "observed": 1.000001,
          "observed_growth_rate": 0.9999970000119998
         },
         {
          "estimated": 1,
          "estimated_growth_rate": 0.9999960000159999,
          "initial": 1.0000040000000001,
          "observed": 1.000001,
          "observed_growth_rate": 0.9999970000119998
         },
         {
          "estimated": 1,
          "estimated_growth_rate": 0.9999960000159999,
          "initial": 1.0000040000000001,
          "observed": 1.000001,
          "observed_growth_rate": 0.9999970000119998
         },
         {
          "estimated": 1,
          "estimated_growth_rate": 0.9999960000159999,
          "initial": 1.0000040000000001,
          "observed": 1.000001,
          "observed_growth_rate": 0.9999970000119998
         },
         {
          "estimated": 1,
          "estimated_growth_rate": 0.9999960000159999,
          "initial": 1.0000040000000001,
          "observed": 1.000001,
          "observed_growth_rate": 0.9999970000119998
         },
         {
          "estimated": 1,
          "estimated_growth_rate": 0.9999960000159999,
          "initial": 1.0000040000000001,
          "observed": 1.000001,
          "observed_growth_rate": 0.9999970000119998
         },
         {
          "estimated": 1,
          "estimated_growth_rate": 0.9999960000159999,
          "initial": 1.0000040000000001,
          "observed": 1.000001,
          "observed_growth_rate": 0.9999970000119998
         },
         {
          "estimated": 1,
          "estimated_growth_rate": 0.9999960000159999,
          "initial": 1.0000040000000001,
          "observed": 1.000001,
          "observed_growth_rate": 0.9999970000119998
         },
         {
          "estimated": 1,
          "estimated_growth_rate": 0.9999960000159999,
          "initial": 1.0000040000000001,
          "observed": 1.000001,
          "observed_growth_rate": 0.9999970000119998
         },
         {
          "estimated": 1,
          "estimated_growth_rate": 0.9999960000159999,
          "initial": 1.0000040000000001,
          "observed": 1.000001,
          "observed_growth_rate": 0.9999970000119998
         },
         {
          "estimated": 1,
          "estimated_growth_rate": 0.9999960000159999,
          "initial": 1.0000040000000001,
          "observed": 1.000001,
          "observed_growth_rate": 0.9999970000119998
         },
         {
          "estimated": 1,
          "estimated_growth_rate": 0.9999960000159999,
          "initial": 1.0000040000000001,
          "observed": 1.000001,
          "observed_growth_rate": 0.9999970000119998
         },
         {
          "estimated": 1,
          "estimated_growth_rate": 0.9999960000159999,
          "initial": 1.0000040000000001,
          "observed": 1.000001,
          "observed_growth_rate": 0.9999970000119998
         },
         {
          "estimated": 1,
          "estimated_growth_rate": 0.9999960000159999,
          "initial": 1.0000040000000001,
          "observed": 1.000001,
          "observed_growth_rate": 0.9999970000119998
         },
         {
          "estimated": 1,
          "estimated_growth_rate": 0.9999960000159999,
          "initial": 1.0000040000000001,
          "observed": 1.000001,
          "observed_growth_rate": 0.9999970000119998
         },
         {
          "estimated": 1,
          "estimated_growth_rate": 0.9999960000159999,
          "initial": 1.0000040000000001,
          "observed": 1.000001,
          "observed_growth_rate": 0.9999970000119998
         },
         {
          "estimated": 1,
          "estimated_growth_rate": 0.9999960000159999,
          "initial": 1.0000040000000001,
          "observed": 1.000001,
          "observed_growth_rate": 0.9999970000119998
         },
         {
          "estimated": 1,
          "estimated_growth_rate": 0.9999960000159999,
          "initial": 1.0000040000000001,
          "observed": 1.000001,
          "observed_growth_rate": 0.9999970000119998
         },
         {
          "estimated": 1,
          "estimated_growth_rate": 0.9999960000159999,
          "initial": 1.0000040000000001,
          "observed": 1.000001,
          "observed_growth_rate": 0.9999970000119998
         },
         {
          "estimated": 1,
          "estimated_growth_rate": 0.9999960000159999,
          "initial": 1.0000040000000001,
          "observed": 1.000001,
          "observed_growth_rate": 0.9999970000119998
         },
         {
          "estimated": 1,
          "estimated_growth_rate": 0.9999960000159999,
          "initial": 1.0000040000000001,
          "observed": 1.000001,
          "observed_growth_rate": 0.9999970000119998
         },
         {
          "estimated": 1,
          "estimated_growth_rate": 0.9999960000159999,
          "initial": 1.0000040000000001,
          "observed": 1.000001,
          "observed_growth_rate": 0.9999970000119998
         },
         {
          "estimated": 0.9999999799420157,
          "estimated_growth_rate": 1.0000069799908757,
          "initial": 0.999993,
          "observed": 1.000001,
          "observed_growth_rate": 1.0000080000560003
         },
         {
          "estimated": 0.9999999799420157,
          "estimated_growth_rate": 1.0000069799908757,
          "initial": 0.999993,
          "observed": 1.000001,
          "observed_growth_rate": 1.0000080000560003
         },
         {
          "estimated": 0.9999999799420157,
          "estimated_growth_rate": 1.0000069799908757,
          "initial": 0.999993,
          "observed": 1.000001,
          "observed_growth_rate": 1.0000080000560003
         },
         {
          "estimated": 0.9999999799420157,
          "estimated_growth_rate": 1.0000069799908757,
          "initial": 0.999993,
          "observed": 1.000001,
          "observed_growth_rate": 1.0000080000560003
         },
         {
          "estimated": 0.9999999799420157,
          "estimated_growth_rate": 1.0000069799908757,
          "initial": 0.999993,
          "observed": 1.000001,
          "observed_growth_rate": 1.0000080000560003
         },
         {
          "estimated": 0.9999999799420157,
          "estimated_growth_rate": 1.0000069799908757,
          "initial": 0.999993,
          "observed": 1.000001,
          "observed_growth_rate": 1.0000080000560003
         },
         {
          "estimated": 0.9999999799420157,
          "estimated_growth_rate": 1.0000069799908757,
          "initial": 0.999993,
          "observed": 1.000001,
          "observed_growth_rate": 1.0000080000560003
         },
         {
          "estimated": 0.9999999799420157,
          "estimated_growth_rate": 1.0000069799908757,
          "initial": 0.999993,
          "observed": 1.000001,
          "observed_growth_rate": 1.0000080000560003
         },
         {
          "estimated": 0.9999999799420157,
          "estimated_growth_rate": 1.0000069799908757,
          "initial": 0.999993,
          "observed": 1.000001,
          "observed_growth_rate": 1.0000080000560003
         },
         {
          "estimated": 0.9999999799420157,
          "estimated_growth_rate": 1.0000069799908757,
          "initial": 0.999993,
          "observed": 1.000001,
          "observed_growth_rate": 1.0000080000560003
         },
         {
          "estimated": 0.9999945752060376,
          "estimated_growth_rate": 1.0029744121846382,
          "initial": 0.9970289999999999,
          "observed": 1.000001,
          "observed_growth_rate": 1.002980856123543
         },
         {
          "estimated": 0.9999945749785827,
          "estimated_growth_rate": 1.0029754179206427,
          "initial": 0.997028,
          "observed": 1.000001,
          "observed_growth_rate": 1.0029818620941438
         },
         {
          "estimated": 0.9999945749785827,
          "estimated_growth_rate": 1.0029754179206427,
          "initial": 0.997028,
          "observed": 1.000001,
          "observed_growth_rate": 1.0029818620941438
         },
         {
          "estimated": 0.9999945749785827,
          "estimated_growth_rate": 1.0029754179206427,
          "initial": 0.997028,
          "observed": 1.000001,
          "observed_growth_rate": 1.0029818620941438
         },
         {
          "estimated": 0.9999945749785827,
          "estimated_growth_rate": 1.0029754179206427,
          "initial": 0.997028,
          "observed": 1.000001,
          "observed_growth_rate": 1.0029818620941438
         },
         {
          "estimated": 0.9999945749785827,
          "estimated_growth_rate": 1.0029754179206427,
          "initial": 0.997028,
          "observed": 1.000001,
          "observed_growth_rate": 1.0029818620941438
         },
         {
          "estimated": 0.9999945749785827,
          "estimated_growth_rate": 1.0029754179206427,
          "initial": 0.997028,
          "observed": 1.000001,
          "observed_growth_rate": 1.0029818620941438
         },
         {
          "estimated": 0.9999945749785827,
          "estimated_growth_rate": 1.0029754179206427,
          "initial": 0.997028,
          "observed": 1.000001,
          "observed_growth_rate": 1.0029818620941438
         },
         {
          "estimated": 0.9999945749785827,
          "estimated_growth_rate": 1.0029754179206427,
          "initial": 0.997028,
          "observed": 1.000001,
          "observed_growth_rate": 1.0029818620941438
         },
         {
          "estimated": 0.9999945749785827,
          "estimated_growth_rate": 1.0029754179206427,
          "initial": 0.997028,
          "observed": 1.000001,
          "observed_growth_rate": 1.0029818620941438
         },
         {
          "estimated": 0.9999945749785827,
          "estimated_growth_rate": 1.0029754179206427,
          "initial": 0.997028,
          "observed": 1.000001,
          "observed_growth_rate": 1.0029818620941438
         },
         {
          "estimated": 0.9999945749785827,
          "estimated_growth_rate": 1.0029754179206427,
          "initial": 0.997028,
          "observed": 1.000001,
          "observed_growth_rate": 1.0029818620941438
         },
         {
          "estimated": 0.9999945749785827,
          "estimated_growth_rate": 1.0029754179206427,
          "initial": 0.997028,
          "observed": 1.000001,
          "observed_growth_rate": 1.0029818620941438
         },
         {
          "estimated": 0.9999945749785827,
          "estimated_growth_rate": 1.0029754179206427,
          "initial": 0.997028,
          "observed": 1.000001,
          "observed_growth_rate": 1.0029818620941438
         },
         {
          "estimated": 0.9999945749785827,
          "estimated_growth_rate": 1.0029754179206427,
          "initial": 0.997028,
          "observed": 1.000001,
          "observed_growth_rate": 1.0029818620941438
         },
         {
          "estimated": 0.9999945749785827,
          "estimated_growth_rate": 1.0029754179206427,
          "initial": 0.997028,
          "observed": 1.000001,
          "observed_growth_rate": 1.0029818620941438
         },
         {
          "estimated": 0.9999945749785827,
          "estimated_growth_rate": 1.0029754179206427,
          "initial": 0.997028,
          "observed": 1.000001,
          "observed_growth_rate": 1.0029818620941438
         },
         {
          "estimated": 0.9999945749785827,
          "estimated_growth_rate": 1.0029754179206427,
          "initial": 0.997028,
          "observed": 1.000001,
          "observed_growth_rate": 1.0029818620941438
         },
         {
          "estimated": 0.9999945749785827,
          "estimated_growth_rate": 1.0029754179206427,
          "initial": 0.997028,
          "observed": 1.000001,
          "observed_growth_rate": 1.0029818620941438
         },
         {
          "estimated": 0.9999945749785827,
          "estimated_growth_rate": 1.0029754179206427,
          "initial": 0.997028,
          "observed": 1.000001,
          "observed_growth_rate": 1.0029818620941438
         },
         {
          "estimated": 0.9999945749785827,
          "estimated_growth_rate": 1.0029754179206427,
          "initial": 0.997028,
          "observed": 1.000001,
          "observed_growth_rate": 1.0029818620941438
         },
         {
          "estimated": 0.9999945749785827,
          "estimated_growth_rate": 1.0029754179206427,
          "initial": 0.997028,
          "observed": 1.000001,
          "observed_growth_rate": 1.0029818620941438
         },
         {
          "estimated": 0.9999945749785827,
          "estimated_growth_rate": 1.0029754179206427,
          "initial": 0.997028,
          "observed": 1.000001,
          "observed_growth_rate": 1.0029818620941438
         },
         {
          "estimated": 0.9999945749785827,
          "estimated_growth_rate": 1.0029754179206427,
          "initial": 0.997028,
          "observed": 1.000001,
          "observed_growth_rate": 1.0029818620941438
         },
         {
          "estimated": 0.9999945749785827,
          "estimated_growth_rate": 1.0029754179206427,
          "initial": 0.997028,
          "observed": 1.000001,
          "observed_growth_rate": 1.0029818620941438
         },
         {
          "estimated": 0.9999945749785827,
          "estimated_growth_rate": 1.0029754179206427,
          "initial": 0.997028,
          "observed": 1.000001,
          "observed_growth_rate": 1.0029818620941438
         },
         {
          "estimated": 0.9999945749785827,
          "estimated_growth_rate": 1.0029754179206427,
          "initial": 0.997028,
          "observed": 1.000001,
          "observed_growth_rate": 1.0029818620941438
         },
         {
          "estimated": 0.0714751055143665,
          "estimated_growth_rate": 0.2842189825566608,
          "initial": 0.251479,
          "observed": 0.522098,
          "observed_growth_rate": 2.0761097348088704
         },
         {
          "estimated": 0.07147475842447763,
          "estimated_growth_rate": 0.28442797222555993,
          "initial": 0.251293,
          "observed": 0.522098,
          "observed_growth_rate": 2.07764641275324
         },
         {
          "estimated": 0.07147460487570112,
          "estimated_growth_rate": 0.2844839652276923,
          "initial": 0.25124300000000005,
          "observed": 0.522098,
          "observed_growth_rate": 2.0780598862455864
         },
         {
          "estimated": 0.07147460487570112,
          "estimated_growth_rate": 0.2844839652276923,
          "initial": 0.25124300000000005,
          "observed": 0.522098,
          "observed_growth_rate": 2.0780598862455864
         },
         {
          "estimated": 0.07143520802754554,
          "estimated_growth_rate": 0.30681931934949225,
          "initial": 0.232825,
          "observed": 0.522098,
          "observed_growth_rate": 2.24244819070117
         },
         {
          "estimated": 0.07143520802754554,
          "estimated_growth_rate": 0.30681931934949225,
          "initial": 0.232825,
          "observed": 0.522098,
          "observed_growth_rate": 2.24244819070117
         },
         {
          "estimated": 0.07143520802754554,
          "estimated_growth_rate": 0.30681931934949225,
          "initial": 0.232825,
          "observed": 0.522098,
          "observed_growth_rate": 2.24244819070117
         },
         {
          "estimated": 0.07143520802754554,
          "estimated_growth_rate": 0.30681931934949225,
          "initial": 0.232825,
          "observed": 0.522098,
          "observed_growth_rate": 2.24244819070117
         },
         {
          "estimated": 0.07143520802754554,
          "estimated_growth_rate": 0.30681931934949225,
          "initial": 0.232825,
          "observed": 0.522098,
          "observed_growth_rate": 2.24244819070117
         },
         {
          "estimated": 0.07143520802754554,
          "estimated_growth_rate": 0.30681931934949225,
          "initial": 0.232825,
          "observed": 0.522098,
          "observed_growth_rate": 2.24244819070117
         },
         {
          "estimated": 0.07143520802754554,
          "estimated_growth_rate": 0.30681931934949225,
          "initial": 0.232825,
          "observed": 0.522098,
          "observed_growth_rate": 2.24244819070117
         },
         {
          "estimated": 0.07143520802754554,
          "estimated_growth_rate": 0.30681931934949225,
          "initial": 0.232825,
          "observed": 0.522098,
          "observed_growth_rate": 2.24244819070117
         },
         {
          "estimated": 0.07143520802754554,
          "estimated_growth_rate": 0.30681931934949225,
          "initial": 0.232825,
          "observed": 0.522098,
          "observed_growth_rate": 2.24244819070117
         },
         {
          "estimated": 0.07143520802754554,
          "estimated_growth_rate": 0.30681931934949225,
          "initial": 0.232825,
          "observed": 0.522098,
          "observed_growth_rate": 2.24244819070117
         },
         {
          "estimated": 0.07143520802754554,
          "estimated_growth_rate": 0.30681931934949225,
          "initial": 0.232825,
          "observed": 0.522098,
          "observed_growth_rate": 2.24244819070117
         },
         {
          "estimated": 0.07141790090808135,
          "estimated_growth_rate": 0.3145456347167876,
          "initial": 0.22705100000000003,
          "observed": 0.522098,
          "observed_growth_rate": 2.2994745673879433
         },
         {
          "estimated": 0.07141790090808135,
          "estimated_growth_rate": 0.3145456347167876,
          "initial": 0.22705100000000003,
          "observed": 0.522098,
          "observed_growth_rate": 2.2994745673879433
         },
         {
          "estimated": 0.07136937598484815,
          "estimated_growth_rate": 0.3233143337947212,
          "initial": 0.22074300000000002,
          "observed": 0.522098,
          "observed_growth_rate": 2.3651848529738198
         },
         {
          "estimated": 0.928519469464216,
          "estimated_growth_rate": 1.245417094603059,
          "initial": 0.745549,
          "observed": 0.47790299999999997,
          "observed_growth_rate": 0.6410081698184827
         },
         {
          "estimated": 0.928519469464216,
          "estimated_growth_rate": 1.245417094603059,
          "initial": 0.745549,
          "observed": 0.47790299999999997,
          "observed_growth_rate": 0.6410081698184827
         },
         {
          "estimated": 0.9283693297625157,
          "estimated_growth_rate": 1.2758354631343873,
          "initial": 0.727656,
          "observed": 0.47790299999999997,
          "observed_growth_rate": 0.6567705069428411
         },
         {
          "estimated": 0.928245958744806,
          "estimated_growth_rate": 1.305996224792448,
          "initial": 0.7107570000000001,
          "observed": 0.47790299999999997,
          "observed_growth_rate": 0.6723859209265612
         },
         {
          "estimated": 0.9282405921504266,
          "estimated_growth_rate": 1.3108706163596426,
          "initial": 0.70811,
          "observed": 0.47790299999999997,
          "observed_growth_rate": 0.6748993800398243
         },
         {
          "estimated": 0.9282405921504266,
          "estimated_growth_rate": 1.3108706163596426,
          "initial": 0.70811,
          "observed": 0.47790299999999997,
          "observed_growth_rate": 0.6748993800398243
         },
         {
          "estimated": 0.9282405921504266,
          "estimated_growth_rate": 1.3108706163596426,
          "initial": 0.70811,
          "observed": 0.47790299999999997,
          "observed_growth_rate": 0.6748993800398243
         },
         {
          "estimated": 0.5852014494470804,
          "estimated_growth_rate": 0.9662529711496606,
          "initial": 0.60564,
          "observed": 0.213178,
          "observed_growth_rate": 0.3519879796578826
         },
         {
          "estimated": 0.5852014494470804,
          "estimated_growth_rate": 0.9662529711496606,
          "initial": 0.60564,
          "observed": 0.213178,
          "observed_growth_rate": 0.3519879796578826
         },
         {
          "estimated": 0.5852007459778392,
          "estimated_growth_rate": 0.966748241002561,
          "initial": 0.605329,
          "observed": 0.20422600000000002,
          "observed_growth_rate": 0.33738016847036906
         },
         {
          "estimated": 0.584051410216077,
          "estimated_growth_rate": 1.0523771182470039,
          "initial": 0.554983,
          "observed": 0.175719,
          "observed_growth_rate": 0.316620509096675
         },
         {
          "estimated": 0.584051410216077,
          "estimated_growth_rate": 1.0523771182470039,
          "initial": 0.554983,
          "observed": 0.175719,
          "observed_growth_rate": 0.316620509096675
         },
         {
          "estimated": 0.5804608412904247,
          "estimated_growth_rate": 1.214864077343035,
          "initial": 0.477799,
          "observed": 0.17363,
          "observed_growth_rate": 0.36339548638653496
         },
         {
          "estimated": 0.5803591127754628,
          "estimated_growth_rate": 1.2782142344059935,
          "initial": 0.45403899999999997,
          "observed": 0.17363,
          "observed_growth_rate": 0.3824120835434842
         },
         {
          "estimated": 0.5803591127754628,
          "estimated_growth_rate": 1.2782142344059935,
          "initial": 0.45403899999999997,
          "observed": 0.17363,
          "observed_growth_rate": 0.3824120835434842
         },
         {
          "estimated": 0.5803591127754628,
          "estimated_growth_rate": 1.2782142344059935,
          "initial": 0.45403899999999997,
          "observed": 0.17363,
          "observed_growth_rate": 0.3824120835434842
         },
         {
          "estimated": 0.5802658752819428,
          "estimated_growth_rate": 1.331394995977686,
          "initial": 0.435833,
          "observed": 0.17363,
          "observed_growth_rate": 0.3983865379629353
         },
         {
          "estimated": 0.5802124964261534,
          "estimated_growth_rate": 1.352937121785394,
          "initial": 0.428854,
          "observed": 0.17363,
          "observed_growth_rate": 0.40486972256292353
         },
         {
          "estimated": 0.5051375446058327,
          "estimated_growth_rate": 2.2512291243357687,
          "initial": 0.22438299999999997,
          "observed": 0.000368,
          "observed_growth_rate": 0.0016400529451874699
         },
         {
          "estimated": 0.5050972993952495,
          "estimated_growth_rate": 2.306938662759707,
          "initial": 0.218947,
          "observed": 0.000368,
          "observed_growth_rate": 0.0016807720589914455
         },
         {
          "estimated": 0.5050972993952495,
          "estimated_growth_rate": 2.306938662759707,
          "initial": 0.218947,
          "observed": 0.000368,
          "observed_growth_rate": 0.0016807720589914455
         },
         {
          "estimated": 0.5050972993952495,
          "estimated_growth_rate": 2.306938662759707,
          "initial": 0.218947,
          "observed": 0.000368,
          "observed_growth_rate": 0.0016807720589914455
         },
         {
          "estimated": 0.5050972993952495,
          "estimated_growth_rate": 2.306938662759707,
          "initial": 0.218947,
          "observed": 0.000368,
          "observed_growth_rate": 0.0016807720589914455
         },
         {
          "estimated": 0.5049925233236219,
          "estimated_growth_rate": 2.4389058245971973,
          "initial": 0.207057,
          "observed": 0.000368,
          "observed_growth_rate": 0.0017772883795283425
         },
         {
          "estimated": 0.5045678322237623,
          "estimated_growth_rate": 2.736535194453701,
          "initial": 0.18438200000000002,
          "observed": 0.000368,
          "observed_growth_rate": 0.0019958564285016975
         },
         {
          "estimated": 0.07507495182032052,
          "estimated_growth_rate": 0.3671667464839538,
          "initial": 0.204471,
          "observed": 0.173262,
          "observed_growth_rate": 0.8473671082940857
         },
         {
          "estimated": 1,
          "estimated_growth_rate": 1.0000130001690022,
          "initial": 0.9999870000000001,
          "observed": 0.999991,
          "observed_growth_rate": 1.0000040000520005
         },
         {
          "estimated": 1,
          "estimated_growth_rate": 1.0000130001690022,
          "initial": 0.9999870000000001,
          "observed": 0.999991,
          "observed_growth_rate": 1.0000040000520005
         },
         {
          "estimated": 1,
          "estimated_growth_rate": 1.0000130001690022,
          "initial": 0.9999870000000001,
          "observed": 0.999991,
          "observed_growth_rate": 1.0000040000520005
         },
         {
          "estimated": 1,
          "estimated_growth_rate": 1.0000130001690022,
          "initial": 0.9999870000000001,
          "observed": 0.999991,
          "observed_growth_rate": 1.0000040000520005
         },
         {
          "estimated": 1,
          "estimated_growth_rate": 1.0000130001690022,
          "initial": 0.9999870000000001,
          "observed": 0.999991,
          "observed_growth_rate": 1.0000040000520005
         },
         {
          "estimated": 1,
          "estimated_growth_rate": 1.0000130001690022,
          "initial": 0.9999870000000001,
          "observed": 0.999991,
          "observed_growth_rate": 1.0000040000520005
         },
         {
          "estimated": 1,
          "estimated_growth_rate": 1.0000130001690022,
          "initial": 0.9999870000000001,
          "observed": 0.999991,
          "observed_growth_rate": 1.0000040000520005
         },
         {
          "estimated": 1,
          "estimated_growth_rate": 1.0000130001690022,
          "initial": 0.9999870000000001,
          "observed": 0.999991,
          "observed_growth_rate": 1.0000040000520005
         },
         {
          "estimated": 1,
          "estimated_growth_rate": 1.0000130001690022,
          "initial": 0.9999870000000001,
          "observed": 0.999991,
          "observed_growth_rate": 1.0000040000520005
         },
         {
          "estimated": 1,
          "estimated_growth_rate": 1.0000130001690022,
          "initial": 0.9999870000000001,
          "observed": 0.999991,
          "observed_growth_rate": 1.0000040000520005
         },
         {
          "estimated": 1,
          "estimated_growth_rate": 1.0000130001690022,
          "initial": 0.9999870000000001,
          "observed": 0.999991,
          "observed_growth_rate": 1.0000040000520005
         },
         {
          "estimated": 1,
          "estimated_growth_rate": 1.0000130001690022,
          "initial": 0.9999870000000001,
          "observed": 0.999991,
          "observed_growth_rate": 1.0000040000520005
         },
         {
          "estimated": 1,
          "estimated_growth_rate": 1.0000130001690022,
          "initial": 0.9999870000000001,
          "observed": 0.999991,
          "observed_growth_rate": 1.0000040000520005
         },
         {
          "estimated": 1,
          "estimated_growth_rate": 1.0000130001690022,
          "initial": 0.9999870000000001,
          "observed": 0.999991,
          "observed_growth_rate": 1.0000040000520005
         },
         {
          "estimated": 1,
          "estimated_growth_rate": 1.0000130001690022,
          "initial": 0.9999870000000001,
          "observed": 0.999991,
          "observed_growth_rate": 1.0000040000520005
         },
         {
          "estimated": 1,
          "estimated_growth_rate": 1.0000130001690022,
          "initial": 0.9999870000000001,
          "observed": 0.999991,
          "observed_growth_rate": 1.0000040000520005
         },
         {
          "estimated": 1,
          "estimated_growth_rate": 1.0000130001690022,
          "initial": 0.9999870000000001,
          "observed": 0.999991,
          "observed_growth_rate": 1.0000040000520005
         },
         {
          "estimated": 1,
          "estimated_growth_rate": 1.0000130001690022,
          "initial": 0.9999870000000001,
          "observed": 0.999991,
          "observed_growth_rate": 1.0000040000520005
         },
         {
          "estimated": 1,
          "estimated_growth_rate": 1.0000130001690022,
          "initial": 0.9999870000000001,
          "observed": 0.999991,
          "observed_growth_rate": 1.0000040000520005
         },
         {
          "estimated": 1,
          "estimated_growth_rate": 1.0000130001690022,
          "initial": 0.9999870000000001,
          "observed": 0.999991,
          "observed_growth_rate": 1.0000040000520005
         },
         {
          "estimated": 1,
          "estimated_growth_rate": 1.0000130001690022,
          "initial": 0.9999870000000001,
          "observed": 0.999991,
          "observed_growth_rate": 1.0000040000520005
         },
         {
          "estimated": 1,
          "estimated_growth_rate": 1.0000130001690022,
          "initial": 0.9999870000000001,
          "observed": 0.999991,
          "observed_growth_rate": 1.0000040000520005
         },
         {
          "estimated": 1,
          "estimated_growth_rate": 1.0000130001690022,
          "initial": 0.9999870000000001,
          "observed": 0.999991,
          "observed_growth_rate": 1.0000040000520005
         },
         {
          "estimated": 1,
          "estimated_growth_rate": 1.0000130001690022,
          "initial": 0.9999870000000001,
          "observed": 0.999991,
          "observed_growth_rate": 1.0000040000520005
         },
         {
          "estimated": 1,
          "estimated_growth_rate": 1.0000130001690022,
          "initial": 0.9999870000000001,
          "observed": 0.999991,
          "observed_growth_rate": 1.0000040000520005
         },
         {
          "estimated": 1,
          "estimated_growth_rate": 1.0000130001690022,
          "initial": 0.9999870000000001,
          "observed": 0.999991,
          "observed_growth_rate": 1.0000040000520005
         },
         {
          "estimated": 1,
          "estimated_growth_rate": 1.0000130001690022,
          "initial": 0.9999870000000001,
          "observed": 0.999991,
          "observed_growth_rate": 1.0000040000520005
         },
         {
          "estimated": 1,
          "estimated_growth_rate": 1.0000130001690022,
          "initial": 0.9999870000000001,
          "observed": 0.999991,
          "observed_growth_rate": 1.0000040000520005
         },
         {
          "estimated": 1,
          "estimated_growth_rate": 1.0000130001690022,
          "initial": 0.9999870000000001,
          "observed": 0.999991,
          "observed_growth_rate": 1.0000040000520005
         },
         {
          "estimated": 1,
          "estimated_growth_rate": 1.0000130001690022,
          "initial": 0.9999870000000001,
          "observed": 0.999991,
          "observed_growth_rate": 1.0000040000520005
         },
         {
          "estimated": 1,
          "estimated_growth_rate": 1.0000130001690022,
          "initial": 0.9999870000000001,
          "observed": 0.999991,
          "observed_growth_rate": 1.0000040000520005
         },
         {
          "estimated": 1,
          "estimated_growth_rate": 1.0000130001690022,
          "initial": 0.9999870000000001,
          "observed": 0.999991,
          "observed_growth_rate": 1.0000040000520005
         },
         {
          "estimated": 1,
          "estimated_growth_rate": 1.0000130001690022,
          "initial": 0.9999870000000001,
          "observed": 0.999991,
          "observed_growth_rate": 1.0000040000520005
         },
         {
          "estimated": 1,
          "estimated_growth_rate": 1.0000130001690022,
          "initial": 0.9999870000000001,
          "observed": 0.999991,
          "observed_growth_rate": 1.0000040000520005
         },
         {
          "estimated": 1,
          "estimated_growth_rate": 1.0000130001690022,
          "initial": 0.9999870000000001,
          "observed": 0.999991,
          "observed_growth_rate": 1.0000040000520005
         },
         {
          "estimated": 1,
          "estimated_growth_rate": 1.0000130001690022,
          "initial": 0.9999870000000001,
          "observed": 0.999991,
          "observed_growth_rate": 1.0000040000520005
         },
         {
          "estimated": 1,
          "estimated_growth_rate": 1.0000130001690022,
          "initial": 0.9999870000000001,
          "observed": 0.999991,
          "observed_growth_rate": 1.0000040000520005
         },
         {
          "estimated": 1,
          "estimated_growth_rate": 1.0000130001690022,
          "initial": 0.9999870000000001,
          "observed": 0.999991,
          "observed_growth_rate": 1.0000040000520005
         },
         {
          "estimated": 1,
          "estimated_growth_rate": 1.0000130001690022,
          "initial": 0.9999870000000001,
          "observed": 0.999991,
          "observed_growth_rate": 1.0000040000520005
         },
         {
          "estimated": 1,
          "estimated_growth_rate": 1.0000130001690022,
          "initial": 0.9999870000000001,
          "observed": 0.999991,
          "observed_growth_rate": 1.0000040000520005
         },
         {
          "estimated": 1,
          "estimated_growth_rate": 1.0000130001690022,
          "initial": 0.9999870000000001,
          "observed": 0.999991,
          "observed_growth_rate": 1.0000040000520005
         },
         {
          "estimated": 1,
          "estimated_growth_rate": 1.0000130001690022,
          "initial": 0.9999870000000001,
          "observed": 0.999991,
          "observed_growth_rate": 1.0000040000520005
         },
         {
          "estimated": 1,
          "estimated_growth_rate": 1.0000130001690022,
          "initial": 0.9999870000000001,
          "observed": 0.999991,
          "observed_growth_rate": 1.0000040000520005
         },
         {
          "estimated": 1,
          "estimated_growth_rate": 1.0000130001690022,
          "initial": 0.9999870000000001,
          "observed": 0.999991,
          "observed_growth_rate": 1.0000040000520005
         },
         {
          "estimated": 1,
          "estimated_growth_rate": 1.0000130001690022,
          "initial": 0.9999870000000001,
          "observed": 0.999991,
          "observed_growth_rate": 1.0000040000520005
         },
         {
          "estimated": 1,
          "estimated_growth_rate": 1.0000130001690022,
          "initial": 0.9999870000000001,
          "observed": 0.999991,
          "observed_growth_rate": 1.0000040000520005
         },
         {
          "estimated": 1,
          "estimated_growth_rate": 1.0000130001690022,
          "initial": 0.9999870000000001,
          "observed": 0.999991,
          "observed_growth_rate": 1.0000040000520005
         },
         {
          "estimated": 1,
          "estimated_growth_rate": 1.0000130001690022,
          "initial": 0.9999870000000001,
          "observed": 0.999991,
          "observed_growth_rate": 1.0000040000520005
         },
         {
          "estimated": 1,
          "estimated_growth_rate": 1.0000130001690022,
          "initial": 0.9999870000000001,
          "observed": 0.999991,
          "observed_growth_rate": 1.0000040000520005
         },
         {
          "estimated": 1,
          "estimated_growth_rate": 1.0000130001690022,
          "initial": 0.9999870000000001,
          "observed": 0.999991,
          "observed_growth_rate": 1.0000040000520005
         },
         {
          "estimated": 1,
          "estimated_growth_rate": 1.0000130001690022,
          "initial": 0.9999870000000001,
          "observed": 0.999991,
          "observed_growth_rate": 1.0000040000520005
         },
         {
          "estimated": 1,
          "estimated_growth_rate": 1.0000130001690022,
          "initial": 0.9999870000000001,
          "observed": 0.999991,
          "observed_growth_rate": 1.0000040000520005
         },
         {
          "estimated": 1,
          "estimated_growth_rate": 1.0000130001690022,
          "initial": 0.9999870000000001,
          "observed": 0.999991,
          "observed_growth_rate": 1.0000040000520005
         },
         {
          "estimated": 1,
          "estimated_growth_rate": 1.0000130001690022,
          "initial": 0.9999870000000001,
          "observed": 0.999991,
          "observed_growth_rate": 1.0000040000520005
         },
         {
          "estimated": 1,
          "estimated_growth_rate": 1.0000130001690022,
          "initial": 0.9999870000000001,
          "observed": 0.999991,
          "observed_growth_rate": 1.0000040000520005
         },
         {
          "estimated": 1,
          "estimated_growth_rate": 1.0000130001690022,
          "initial": 0.9999870000000001,
          "observed": 0.999991,
          "observed_growth_rate": 1.0000040000520005
         },
         {
          "estimated": 1,
          "estimated_growth_rate": 1.0000130001690022,
          "initial": 0.9999870000000001,
          "observed": 0.999991,
          "observed_growth_rate": 1.0000040000520005
         },
         {
          "estimated": 1,
          "estimated_growth_rate": 1.0000130001690022,
          "initial": 0.9999870000000001,
          "observed": 0.999991,
          "observed_growth_rate": 1.0000040000520005
         },
         {
          "estimated": 1,
          "estimated_growth_rate": 1.0000130001690022,
          "initial": 0.9999870000000001,
          "observed": 0.999991,
          "observed_growth_rate": 1.0000040000520005
         },
         {
          "estimated": 1,
          "estimated_growth_rate": 1.0000130001690022,
          "initial": 0.9999870000000001,
          "observed": 0.999991,
          "observed_growth_rate": 1.0000040000520005
         },
         {
          "estimated": 1,
          "estimated_growth_rate": 1.0000130001690022,
          "initial": 0.9999870000000001,
          "observed": 0.999991,
          "observed_growth_rate": 1.0000040000520005
         },
         {
          "estimated": 1,
          "estimated_growth_rate": 1.0000130001690022,
          "initial": 0.9999870000000001,
          "observed": 0.999991,
          "observed_growth_rate": 1.0000040000520005
         },
         {
          "estimated": 1,
          "estimated_growth_rate": 1.0000130001690022,
          "initial": 0.9999870000000001,
          "observed": 0.999991,
          "observed_growth_rate": 1.0000040000520005
         },
         {
          "estimated": 1,
          "estimated_growth_rate": 1.0000130001690022,
          "initial": 0.9999870000000001,
          "observed": 0.999991,
          "observed_growth_rate": 1.0000040000520005
         },
         {
          "estimated": 1,
          "estimated_growth_rate": 1.0000130001690022,
          "initial": 0.9999870000000001,
          "observed": 0.999991,
          "observed_growth_rate": 1.0000040000520005
         },
         {
          "estimated": 1,
          "estimated_growth_rate": 1.0000130001690022,
          "initial": 0.9999870000000001,
          "observed": 0.999991,
          "observed_growth_rate": 1.0000040000520005
         },
         {
          "estimated": 1,
          "estimated_growth_rate": 1.0000130001690022,
          "initial": 0.9999870000000001,
          "observed": 0.999991,
          "observed_growth_rate": 1.0000040000520005
         },
         {
          "estimated": 1,
          "estimated_growth_rate": 1.0000130001690022,
          "initial": 0.9999870000000001,
          "observed": 0.999991,
          "observed_growth_rate": 1.0000040000520005
         },
         {
          "estimated": 1,
          "estimated_growth_rate": 1.0000130001690022,
          "initial": 0.9999870000000001,
          "observed": 0.999991,
          "observed_growth_rate": 1.0000040000520005
         },
         {
          "estimated": 1,
          "estimated_growth_rate": 1.0000130001690022,
          "initial": 0.9999870000000001,
          "observed": 0.999991,
          "observed_growth_rate": 1.0000040000520005
         },
         {
          "estimated": 1,
          "estimated_growth_rate": 1.0000130001690022,
          "initial": 0.9999870000000001,
          "observed": 0.999991,
          "observed_growth_rate": 1.0000040000520005
         },
         {
          "estimated": 1,
          "estimated_growth_rate": 1.0000130001690022,
          "initial": 0.9999870000000001,
          "observed": 0.999991,
          "observed_growth_rate": 1.0000040000520005
         },
         {
          "estimated": 1,
          "estimated_growth_rate": 1.0000130001690022,
          "initial": 0.9999870000000001,
          "observed": 0.999991,
          "observed_growth_rate": 1.0000040000520005
         },
         {
          "estimated": 1,
          "estimated_growth_rate": 1.0000130001690022,
          "initial": 0.9999870000000001,
          "observed": 0.999991,
          "observed_growth_rate": 1.0000040000520005
         },
         {
          "estimated": 1,
          "estimated_growth_rate": 1.0000130001690022,
          "initial": 0.9999870000000001,
          "observed": 0.999991,
          "observed_growth_rate": 1.0000040000520005
         },
         {
          "estimated": 1,
          "estimated_growth_rate": 1.0000130001690022,
          "initial": 0.9999870000000001,
          "observed": 0.999991,
          "observed_growth_rate": 1.0000040000520005
         },
         {
          "estimated": 1,
          "estimated_growth_rate": 1.0000130001690022,
          "initial": 0.9999870000000001,
          "observed": 0.999991,
          "observed_growth_rate": 1.0000040000520005
         },
         {
          "estimated": 1,
          "estimated_growth_rate": 1.0000130001690022,
          "initial": 0.9999870000000001,
          "observed": 0.999991,
          "observed_growth_rate": 1.0000040000520005
         },
         {
          "estimated": 1,
          "estimated_growth_rate": 1.0000130001690022,
          "initial": 0.9999870000000001,
          "observed": 0.999991,
          "observed_growth_rate": 1.0000040000520005
         },
         {
          "estimated": 1,
          "estimated_growth_rate": 1.0000130001690022,
          "initial": 0.9999870000000001,
          "observed": 0.999991,
          "observed_growth_rate": 1.0000040000520005
         },
         {
          "estimated": 1,
          "estimated_growth_rate": 1.0000130001690022,
          "initial": 0.9999870000000001,
          "observed": 0.999991,
          "observed_growth_rate": 1.0000040000520005
         },
         {
          "estimated": 1,
          "estimated_growth_rate": 1.0000130001690022,
          "initial": 0.9999870000000001,
          "observed": 0.999991,
          "observed_growth_rate": 1.0000040000520005
         },
         {
          "estimated": 1,
          "estimated_growth_rate": 1.0000130001690022,
          "initial": 0.9999870000000001,
          "observed": 0.999991,
          "observed_growth_rate": 1.0000040000520005
         },
         {
          "estimated": 1,
          "estimated_growth_rate": 1.0000130001690022,
          "initial": 0.9999870000000001,
          "observed": 0.999991,
          "observed_growth_rate": 1.0000040000520005
         },
         {
          "estimated": 1,
          "estimated_growth_rate": 1.0000130001690022,
          "initial": 0.9999870000000001,
          "observed": 0.999991,
          "observed_growth_rate": 1.0000040000520005
         },
         {
          "estimated": 1,
          "estimated_growth_rate": 1.0000130001690022,
          "initial": 0.9999870000000001,
          "observed": 0.999991,
          "observed_growth_rate": 1.0000040000520005
         },
         {
          "estimated": 1,
          "estimated_growth_rate": 1.0000130001690022,
          "initial": 0.9999870000000001,
          "observed": 0.999991,
          "observed_growth_rate": 1.0000040000520005
         },
         {
          "estimated": 1,
          "estimated_growth_rate": 1.0000130001690022,
          "initial": 0.9999870000000001,
          "observed": 0.999991,
          "observed_growth_rate": 1.0000040000520005
         },
         {
          "estimated": 1,
          "estimated_growth_rate": 1.0000130001690022,
          "initial": 0.9999870000000001,
          "observed": 0.999991,
          "observed_growth_rate": 1.0000040000520005
         },
         {
          "estimated": 1,
          "estimated_growth_rate": 1.0000130001690022,
          "initial": 0.9999870000000001,
          "observed": 0.999991,
          "observed_growth_rate": 1.0000040000520005
         },
         {
          "estimated": 1,
          "estimated_growth_rate": 1.0000130001690022,
          "initial": 0.9999870000000001,
          "observed": 0.999991,
          "observed_growth_rate": 1.0000040000520005
         },
         {
          "estimated": 1,
          "estimated_growth_rate": 1.0000130001690022,
          "initial": 0.9999870000000001,
          "observed": 0.999991,
          "observed_growth_rate": 1.0000040000520005
         },
         {
          "estimated": 1,
          "estimated_growth_rate": 1.0000130001690022,
          "initial": 0.9999870000000001,
          "observed": 0.999991,
          "observed_growth_rate": 1.0000040000520005
         },
         {
          "estimated": 1,
          "estimated_growth_rate": 1.0000130001690022,
          "initial": 0.9999870000000001,
          "observed": 0.999991,
          "observed_growth_rate": 1.0000040000520005
         },
         {
          "estimated": 1,
          "estimated_growth_rate": 1.0000130001690022,
          "initial": 0.9999870000000001,
          "observed": 0.999991,
          "observed_growth_rate": 1.0000040000520005
         },
         {
          "estimated": 1,
          "estimated_growth_rate": 1.0000130001690022,
          "initial": 0.9999870000000001,
          "observed": 0.999991,
          "observed_growth_rate": 1.0000040000520005
         },
         {
          "estimated": 1,
          "estimated_growth_rate": 1.0000130001690022,
          "initial": 0.9999870000000001,
          "observed": 0.999991,
          "observed_growth_rate": 1.0000040000520005
         },
         {
          "estimated": 1,
          "estimated_growth_rate": 1.0000130001690022,
          "initial": 0.9999870000000001,
          "observed": 0.999991,
          "observed_growth_rate": 1.0000040000520005
         },
         {
          "estimated": 1,
          "estimated_growth_rate": 1.0000130001690022,
          "initial": 0.9999870000000001,
          "observed": 0.999991,
          "observed_growth_rate": 1.0000040000520005
         },
         {
          "estimated": 1,
          "estimated_growth_rate": 1.0000130001690022,
          "initial": 0.9999870000000001,
          "observed": 0.999991,
          "observed_growth_rate": 1.0000040000520005
         },
         {
          "estimated": 1,
          "estimated_growth_rate": 1.0000130001690022,
          "initial": 0.9999870000000001,
          "observed": 0.999991,
          "observed_growth_rate": 1.0000040000520005
         },
         {
          "estimated": 1,
          "estimated_growth_rate": 1.0000130001690022,
          "initial": 0.9999870000000001,
          "observed": 0.999991,
          "observed_growth_rate": 1.0000040000520005
         },
         {
          "estimated": 1,
          "estimated_growth_rate": 1.0000130001690022,
          "initial": 0.9999870000000001,
          "observed": 0.999991,
          "observed_growth_rate": 1.0000040000520005
         },
         {
          "estimated": 1,
          "estimated_growth_rate": 1.0000130001690022,
          "initial": 0.9999870000000001,
          "observed": 0.999991,
          "observed_growth_rate": 1.0000040000520005
         },
         {
          "estimated": 1,
          "estimated_growth_rate": 1.0000130001690022,
          "initial": 0.9999870000000001,
          "observed": 0.999991,
          "observed_growth_rate": 1.0000040000520005
         },
         {
          "estimated": 1,
          "estimated_growth_rate": 1.0000130001690022,
          "initial": 0.9999870000000001,
          "observed": 0.999991,
          "observed_growth_rate": 1.0000040000520005
         },
         {
          "estimated": 1,
          "estimated_growth_rate": 1.0000130001690022,
          "initial": 0.9999870000000001,
          "observed": 0.999991,
          "observed_growth_rate": 1.0000040000520005
         },
         {
          "estimated": 1,
          "estimated_growth_rate": 1.0000130001690022,
          "initial": 0.9999870000000001,
          "observed": 0.999991,
          "observed_growth_rate": 1.0000040000520005
         },
         {
          "estimated": 1,
          "estimated_growth_rate": 1.0000130001690022,
          "initial": 0.9999870000000001,
          "observed": 0.999991,
          "observed_growth_rate": 1.0000040000520005
         },
         {
          "estimated": 1,
          "estimated_growth_rate": 1.0000130001690022,
          "initial": 0.9999870000000001,
          "observed": 0.999991,
          "observed_growth_rate": 1.0000040000520005
         },
         {
          "estimated": 1,
          "estimated_growth_rate": 1.0000130001690022,
          "initial": 0.9999870000000001,
          "observed": 0.999991,
          "observed_growth_rate": 1.0000040000520005
         },
         {
          "estimated": 0.999952465027374,
          "estimated_growth_rate": 1.0037597256668283,
          "initial": 0.9962070000000001,
          "observed": 0.999991,
          "observed_growth_rate": 1.003798407359113
         },
         {
          "estimated": 0.999952465027374,
          "estimated_growth_rate": 1.0037597256668283,
          "initial": 0.9962070000000001,
          "observed": 0.999991,
          "observed_growth_rate": 1.003798407359113
         },
         {
          "estimated": 0.999952465027374,
          "estimated_growth_rate": 1.0037597256668283,
          "initial": 0.9962070000000001,
          "observed": 0.999991,
          "observed_growth_rate": 1.003798407359113
         },
         {
          "estimated": 0.999952465027374,
          "estimated_growth_rate": 1.0037597256668283,
          "initial": 0.9962070000000001,
          "observed": 0.999991,
          "observed_growth_rate": 1.003798407359113
         },
         {
          "estimated": 0.999952465027374,
          "estimated_growth_rate": 1.0037597256668283,
          "initial": 0.9962070000000001,
          "observed": 0.999991,
          "observed_growth_rate": 1.003798407359113
         },
         {
          "estimated": 0.999952465027374,
          "estimated_growth_rate": 1.0037597256668283,
          "initial": 0.9962070000000001,
          "observed": 0.999991,
          "observed_growth_rate": 1.003798407359113
         },
         {
          "estimated": 0.999952465027374,
          "estimated_growth_rate": 1.0037597256668283,
          "initial": 0.9962070000000001,
          "observed": 0.999991,
          "observed_growth_rate": 1.003798407359113
         },
         {
          "estimated": 0.999952465027374,
          "estimated_growth_rate": 1.0037597256668283,
          "initial": 0.9962070000000001,
          "observed": 0.999991,
          "observed_growth_rate": 1.003798407359113
         },
         {
          "estimated": 0.999952465027374,
          "estimated_growth_rate": 1.0037597256668283,
          "initial": 0.9962070000000001,
          "observed": 0.999991,
          "observed_growth_rate": 1.003798407359113
         },
         {
          "estimated": 0.999952465027374,
          "estimated_growth_rate": 1.0037597256668283,
          "initial": 0.9962070000000001,
          "observed": 0.999991,
          "observed_growth_rate": 1.003798407359113
         },
         {
          "estimated": 0.999952465027374,
          "estimated_growth_rate": 1.0037597256668283,
          "initial": 0.9962070000000001,
          "observed": 0.999991,
          "observed_growth_rate": 1.003798407359113
         },
         {
          "estimated": 0.999952465027374,
          "estimated_growth_rate": 1.0037597256668283,
          "initial": 0.9962070000000001,
          "observed": 0.999991,
          "observed_growth_rate": 1.003798407359113
         },
         {
          "estimated": 0.999952465027374,
          "estimated_growth_rate": 1.0037597256668283,
          "initial": 0.9962070000000001,
          "observed": 0.999991,
          "observed_growth_rate": 1.003798407359113
         },
         {
          "estimated": 0.999952465027374,
          "estimated_growth_rate": 1.0037597256668283,
          "initial": 0.9962070000000001,
          "observed": 0.999991,
          "observed_growth_rate": 1.003798407359113
         },
         {
          "estimated": 0.999952465027374,
          "estimated_growth_rate": 1.0037597256668283,
          "initial": 0.9962070000000001,
          "observed": 0.999991,
          "observed_growth_rate": 1.003798407359113
         },
         {
          "estimated": 0.999952465027374,
          "estimated_growth_rate": 1.0037597256668283,
          "initial": 0.9962070000000001,
          "observed": 0.999991,
          "observed_growth_rate": 1.003798407359113
         },
         {
          "estimated": 0.999952465027374,
          "estimated_growth_rate": 1.0037597256668283,
          "initial": 0.9962070000000001,
          "observed": 0.999991,
          "observed_growth_rate": 1.003798407359113
         },
         {
          "estimated": 0.999952465027374,
          "estimated_growth_rate": 1.0037597256668283,
          "initial": 0.9962070000000001,
          "observed": 0.999991,
          "observed_growth_rate": 1.003798407359113
         },
         {
          "estimated": 0.999952465027374,
          "estimated_growth_rate": 1.0037597256668283,
          "initial": 0.9962070000000001,
          "observed": 0.999991,
          "observed_growth_rate": 1.003798407359113
         },
         {
          "estimated": 0.999952465027374,
          "estimated_growth_rate": 1.0037597256668283,
          "initial": 0.9962070000000001,
          "observed": 0.999991,
          "observed_growth_rate": 1.003798407359113
         },
         {
          "estimated": 0.999952465027374,
          "estimated_growth_rate": 1.0037597256668283,
          "initial": 0.9962070000000001,
          "observed": 0.999991,
          "observed_growth_rate": 1.003798407359113
         },
         {
          "estimated": 0.999952465027374,
          "estimated_growth_rate": 1.0037597256668283,
          "initial": 0.9962070000000001,
          "observed": 0.999991,
          "observed_growth_rate": 1.003798407359113
         },
         {
          "estimated": 0.999952465027374,
          "estimated_growth_rate": 1.0037597256668283,
          "initial": 0.9962070000000001,
          "observed": 0.999991,
          "observed_growth_rate": 1.003798407359113
         },
         {
          "estimated": 0.999952465027374,
          "estimated_growth_rate": 1.0037597256668283,
          "initial": 0.9962070000000001,
          "observed": 0.999991,
          "observed_growth_rate": 1.003798407359113
         },
         {
          "estimated": 0.999952465027374,
          "estimated_growth_rate": 1.0037597256668283,
          "initial": 0.9962070000000001,
          "observed": 0.999991,
          "observed_growth_rate": 1.003798407359113
         },
         {
          "estimated": 0.999952465027374,
          "estimated_growth_rate": 1.0037597256668283,
          "initial": 0.9962070000000001,
          "observed": 0.999991,
          "observed_growth_rate": 1.003798407359113
         },
         {
          "estimated": 0.01667288256417677,
          "estimated_growth_rate": 0.0844106832396392,
          "initial": 0.19752099999999997,
          "observed": 0.855175,
          "observed_growth_rate": 4.329539643885967
         },
         {
          "estimated": 0.01667288256417677,
          "estimated_growth_rate": 0.0844106832396392,
          "initial": 0.19752099999999997,
          "observed": 0.855175,
          "observed_growth_rate": 4.329539643885967
         },
         {
          "estimated": 0.01667288256417677,
          "estimated_growth_rate": 0.0844106832396392,
          "initial": 0.19752099999999997,
          "observed": 0.855175,
          "observed_growth_rate": 4.329539643885967
         },
         {
          "estimated": 0.01667288256417677,
          "estimated_growth_rate": 0.0844106832396392,
          "initial": 0.19752099999999997,
          "observed": 0.855175,
          "observed_growth_rate": 4.329539643885967
         },
         {
          "estimated": 0.016667023490651762,
          "estimated_growth_rate": 0.08458013707094308,
          "initial": 0.197056,
          "observed": 0.855175,
          "observed_growth_rate": 4.339756211432283
         },
         {
          "estimated": 0.016667023490651762,
          "estimated_growth_rate": 0.08458013707094308,
          "initial": 0.197056,
          "observed": 0.855175,
          "observed_growth_rate": 4.339756211432283
         },
         {
          "estimated": 0.016667023490651762,
          "estimated_growth_rate": 0.08458013707094308,
          "initial": 0.197056,
          "observed": 0.855175,
          "observed_growth_rate": 4.339756211432283
         },
         {
          "estimated": 0.016667023490651762,
          "estimated_growth_rate": 0.08458013707094308,
          "initial": 0.197056,
          "observed": 0.855175,
          "observed_growth_rate": 4.339756211432283
         },
         {
          "estimated": 0.016667023490651762,
          "estimated_growth_rate": 0.08458013707094308,
          "initial": 0.197056,
          "observed": 0.855175,
          "observed_growth_rate": 4.339756211432283
         },
         {
          "estimated": 0.016667023490651762,
          "estimated_growth_rate": 0.08458013707094308,
          "initial": 0.197056,
          "observed": 0.855175,
          "observed_growth_rate": 4.339756211432283
         },
         {
          "estimated": 0.016667023490651762,
          "estimated_growth_rate": 0.08458013707094308,
          "initial": 0.197056,
          "observed": 0.855175,
          "observed_growth_rate": 4.339756211432283
         },
         {
          "estimated": 0.016667023490651762,
          "estimated_growth_rate": 0.08458013707094308,
          "initial": 0.197056,
          "observed": 0.855175,
          "observed_growth_rate": 4.339756211432283
         },
         {
          "estimated": 0.016667023490651762,
          "estimated_growth_rate": 0.08458013707094308,
          "initial": 0.197056,
          "observed": 0.855175,
          "observed_growth_rate": 4.339756211432283
         },
         {
          "estimated": 0.016667023490651762,
          "estimated_growth_rate": 0.08458013707094308,
          "initial": 0.197056,
          "observed": 0.855175,
          "observed_growth_rate": 4.339756211432283
         },
         {
          "estimated": 0.016667023490651762,
          "estimated_growth_rate": 0.08458013707094308,
          "initial": 0.197056,
          "observed": 0.855175,
          "observed_growth_rate": 4.339756211432283
         },
         {
          "estimated": 0.016667023490651762,
          "estimated_growth_rate": 0.08458013707094308,
          "initial": 0.197056,
          "observed": 0.855175,
          "observed_growth_rate": 4.339756211432283
         },
         {
          "estimated": 0.016667023490651762,
          "estimated_growth_rate": 0.08458013707094308,
          "initial": 0.197056,
          "observed": 0.855175,
          "observed_growth_rate": 4.339756211432283
         },
         {
          "estimated": 0.016667017678753903,
          "estimated_growth_rate": 0.08458053679812186,
          "initial": 0.197055,
          "observed": 0.855175,
          "observed_growth_rate": 4.339778234503058
         },
         {
          "estimated": 0.0161484403783224,
          "estimated_growth_rate": 0.09658504718065483,
          "initial": 0.16719399999999998,
          "observed": 0.855175,
          "observed_growth_rate": 5.114866562197209
         },
         {
          "estimated": 0.0161484403783224,
          "estimated_growth_rate": 0.09658504718065483,
          "initial": 0.16719399999999998,
          "observed": 0.855175,
          "observed_growth_rate": 5.114866562197209
         },
         {
          "estimated": 0.01598829380141994,
          "estimated_growth_rate": 0.09944700446234385,
          "initial": 0.16077199999999997,
          "observed": 0.855175,
          "observed_growth_rate": 5.31917871271117
         },
         {
          "estimated": 0.015884611756209997,
          "estimated_growth_rate": 0.10148485041214653,
          "initial": 0.156522,
          "observed": 0.855175,
          "observed_growth_rate": 5.46360894954064
         },
         {
          "estimated": 0.015884611756209997,
          "estimated_growth_rate": 0.10148485041214653,
          "initial": 0.156522,
          "observed": 0.855175,
          "observed_growth_rate": 5.46360894954064
         },
         {
          "estimated": 0.015794688502944246,
          "estimated_growth_rate": 0.10455834730965799,
          "initial": 0.151061,
          "observed": 0.855175,
          "observed_growth_rate": 5.661123652034608
         },
         {
          "estimated": 0.9832795824631972,
          "estimated_growth_rate": 1.2311215952992756,
          "initial": 0.798686,
          "observed": 0.14481600000000003,
          "observed_growth_rate": 0.18131781451033327
         },
         {
          "estimated": 0.9832795824631972,
          "estimated_growth_rate": 1.2311215952992756,
          "initial": 0.798686,
          "observed": 0.14481600000000003,
          "observed_growth_rate": 0.18131781451033327
         },
         {
          "estimated": 0.9832749525211508,
          "estimated_growth_rate": 1.231678676273267,
          "initial": 0.7983210000000001,
          "observed": 0.14481600000000003,
          "observed_growth_rate": 0.18140071475008177
         },
         {
          "estimated": 0.9832711839493737,
          "estimated_growth_rate": 1.232119995124724,
          "initial": 0.7980320000000001,
          "observed": 0.14481600000000003,
          "observed_growth_rate": 0.1814664073621108
         },
         {
          "estimated": 0.9832711839493737,
          "estimated_growth_rate": 1.232119995124724,
          "initial": 0.7980320000000001,
          "observed": 0.14481600000000003,
          "observed_growth_rate": 0.1814664073621108
         },
         {
          "estimated": 0.9831913735041697,
          "estimated_growth_rate": 1.241774841087762,
          "initial": 0.791763,
          "observed": 0.14481600000000003,
          "observed_growth_rate": 0.1829032172506167
         },
         {
          "estimated": 0.9831913735041697,
          "estimated_growth_rate": 1.241774841087762,
          "initial": 0.791763,
          "observed": 0.14481600000000003,
          "observed_growth_rate": 0.1829032172506167
         },
         {
          "estimated": 0.9684845093385621,
          "estimated_growth_rate": 2.3378381213439763,
          "initial": 0.41426499999999994,
          "observed": 0.03907600000000001,
          "observed_growth_rate": 0.09432609561512562
         },
         {
          "estimated": 0.9684845093385621,
          "estimated_growth_rate": 2.3378381213439763,
          "initial": 0.41426499999999994,
          "observed": 0.03907600000000001,
          "observed_growth_rate": 0.09432609561512562
         },
         {
          "estimated": 0.9684845093385621,
          "estimated_growth_rate": 2.3378381213439763,
          "initial": 0.41426499999999994,
          "observed": 0.03907600000000001,
          "observed_growth_rate": 0.09432609561512562
         },
         {
          "estimated": 0.9516854526992515,
          "estimated_growth_rate": 2.5625927703977953,
          "initial": 0.371376,
          "observed": 0.013746,
          "observed_growth_rate": 0.037013700400672096
         },
         {
          "estimated": 0.06835874395637506,
          "estimated_growth_rate": 0.39128546136228376,
          "initial": 0.174703,
          "observed": 1.6e-05,
          "observed_growth_rate": 9.158400256435207e-05
         },
         {
          "estimated": 0.06535835496373918,
          "estimated_growth_rate": 0.41528481633057907,
          "initial": 0.15738199999999997,
          "observed": 1.6e-05,
          "observed_growth_rate": 0.00010166346850338669
         },
         {
          "estimated": 0.8762632466010655,
          "estimated_growth_rate": 5.26271589031534,
          "initial": 0.16650400000000004,
          "observed": 0.013714,
          "observed_growth_rate": 0.0823643876423389
         },
         {
          "estimated": 0.8762632466010655,
          "estimated_growth_rate": 5.26271589031534,
          "initial": 0.16650400000000004,
          "observed": 0.013714,
          "observed_growth_rate": 0.0823643876423389
         },
         {
          "estimated": 0.861609033768332,
          "estimated_growth_rate": 5.274845164888193,
          "initial": 0.163343,
          "observed": 0.013714,
          "observed_growth_rate": 0.08395829634572649
         },
         {
          "estimated": 0.0147068641656075,
          "estimated_growth_rate": 0.038958786975315095,
          "initial": 0.37749800000000006,
          "observed": 0.10574,
          "observed_growth_rate": 0.28010744427785045
         },
         {
          "estimated": 0.0147068641656075,
          "estimated_growth_rate": 0.038958786975315095,
          "initial": 0.37749800000000006,
          "observed": 0.10574,
          "observed_growth_rate": 0.28010744427785045
         },
         {
          "estimated": 0.014618915552690709,
          "estimated_growth_rate": 0.03944352857626011,
          "initial": 0.37062900000000004,
          "observed": 0.10269299999999999,
          "observed_growth_rate": 0.27707761670025816
         },
         {
          "estimated": 0.012531664119967775,
          "estimated_growth_rate": 0.04280817148311735,
          "initial": 0.29274000000000006,
          "observed": 0.093196,
          "observed_growth_rate": 0.31835758693721383
         },
         {
          "estimated": 0.012531664119967775,
          "estimated_growth_rate": 0.04280817148311735,
          "initial": 0.29274000000000006,
          "observed": 0.093196,
          "observed_growth_rate": 0.31835758693721383
         },
         {
          "estimated": 0.012192988759602338,
          "estimated_growth_rate": 0.045150187590638664,
          "initial": 0.27005400000000007,
          "observed": 0.093196,
          "observed_growth_rate": 0.3451013501003502
         },
         {
          "estimated": 0.012187731839782934,
          "estimated_growth_rate": 0.045192304531132245,
          "initial": 0.2696860000000001,
          "observed": 0.093196,
          "observed_growth_rate": 0.34557225810757686
         },
         {
          "estimated": 0.012187731839782934,
          "estimated_growth_rate": 0.045192304531132245,
          "initial": 0.2696860000000001,
          "observed": 0.093196,
          "observed_growth_rate": 0.34557225810757686
         },
         {
          "estimated": 0.012187731839782934,
          "estimated_growth_rate": 0.045192304531132245,
          "initial": 0.2696860000000001,
          "observed": 0.093196,
          "observed_growth_rate": 0.34557225810757686
         },
         {
          "estimated": 0.01218640304607679,
          "estimated_growth_rate": 0.045199779854297246,
          "initial": 0.269612,
          "observed": 0.093196,
          "observed_growth_rate": 0.3456671068053351
         },
         {
          "estimated": 0.01218640304607679,
          "estimated_growth_rate": 0.045199779854297246,
          "initial": 0.269612,
          "observed": 0.093196,
          "observed_growth_rate": 0.3456671068053351
         },
         {
          "estimated": 0.011362272701687794,
          "estimated_growth_rate": 0.05040870219867435,
          "initial": 0.22540300000000002,
          "observed": 0.093196,
          "observed_growth_rate": 0.41346388468653916
         }
        ]
       },
       "encoding": {
        "tooltip": [
         {
          "field": "observed_growth_rate",
          "type": "quantitative"
         },
         {
          "field": "estimated_growth_rate",
          "type": "quantitative"
         },
         {
          "field": "timepoint",
          "type": "nominal"
         },
         {
          "field": "initial",
          "type": "quantitative"
         },
         {
          "field": "observed",
          "type": "quantitative"
         },
         {
          "field": "estimated",
          "type": "quantitative"
         },
         {
          "field": "clade_membership",
          "type": "nominal"
         }
        ],
        "x": {
         "field": "observed_growth_rate",
         "scale": {
          "domain": [
           0,
           6.468463730406286
          ]
         },
         "type": "quantitative"
        },
        "y": {
         "field": "estimated_growth_rate",
         "scale": {
          "domain": [
           0,
           6.468463730406286
          ]
         },
         "type": "quantitative"
        }
       },
       "height": 400,
       "mark": "circle",
       "title": "Forecasts by LBI: Pearson's R = -0.06, MCC = 0.43",
       "width": 400
      },
      "image/png": "[encoded data removed]",
      "text/plain": [
       "<VegaLite 3 object>\n",
       "\n",
       "If you see this message, it means the renderer has not been properly enabled\n",
       "for the frontend that you are using. For more information, see\n",
       "https://altair-viz.github.io/user_guide/troubleshooting.html\n"
      ]
     },
     "execution_count": 183,
     "metadata": {},
     "output_type": "execute_result"
    }
   ],
   "source": [
    "tooltip_attributes = [\"observed_growth_rate:Q\", \"estimated_growth_rate:Q\", \"timepoint:N\", \"initial:Q\", \"observed:Q\",\n",
    "                      \"estimated:Q\", \"clade_membership:N\"]\n",
    "\n",
    "chart = alt.Chart(clade_frequencies).mark_circle().encode(\n",
    "    alt.X(\"observed_growth_rate:Q\", scale=alt.Scale(domain=(min_growth_rate, max_growth_rate))),\n",
    "    alt.Y(\"estimated_growth_rate:Q\", scale=alt.Scale(domain=(min_growth_rate, max_growth_rate))),\n",
    "    alt.Tooltip(tooltip_attributes)\n",
    ").properties(\n",
    "    width=400,\n",
    "    height=400,\n",
    "    title=\"Forecasts by LBI: Pearson's R = %.2f, MCC = %.2f\" % (r, mcc)\n",
    ")\n",
    "\n",
    "#chart.save(\"forecast_growth_correlation_natural_lbi.svg\")\n",
    "chart"
   ]
  },
  {
   "cell_type": "code",
   "execution_count": null,
   "metadata": {},
   "outputs": [],
   "source": []
  }
 ],
 "metadata": {
  "kernelspec": {
   "display_name": "Python 3",
   "language": "python",
   "name": "python3"
  },
  "language_info": {
   "codemirror_mode": {
    "name": "ipython",
    "version": 3
   },
   "file_extension": ".py",
   "mimetype": "text/x-python",
   "name": "python",
   "nbconvert_exporter": "python",
   "pygments_lexer": "ipython3",
   "version": "3.6.7"
  }
 },
 "nbformat": 4,
 "nbformat_minor": 4
}
