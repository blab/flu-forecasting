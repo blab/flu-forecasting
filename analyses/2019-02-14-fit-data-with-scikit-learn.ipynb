{
 "cells": [
  {
   "cell_type": "markdown",
   "metadata": {},
   "source": [
    "# Fit flu data with scikit-learn models\n",
    "\n",
    "As an attempt to figure out a nice interface for the fitness model class itself, I wanted to see what steps would be required to go from tip attributes and final clade frequencies data frames to beta parameters for a number of predictors with a scikit-learn standard regression model. Below I attempt this model fitting using the linear regression model."
   ]
  },
  {
   "cell_type": "code",
   "execution_count": 55,
   "metadata": {},
   "outputs": [],
   "source": [
    "import matplotlib.pyplot as plt\n",
    "import pandas as pd\n",
    "from sklearn import linear_model\n",
    "import statsmodels.formula.api as smf\n",
    "\n",
    "%matplotlib inline"
   ]
  },
  {
   "cell_type": "code",
   "execution_count": 10,
   "metadata": {},
   "outputs": [],
   "source": [
    "X = pd.read_csv(\"standardized_tip_attributes.tsv\", sep=\"\\t\")"
   ]
  },
  {
   "cell_type": "code",
   "execution_count": 11,
   "metadata": {},
   "outputs": [],
   "source": [
    "X = X.loc[:, [\"strain\", \"clade_membership\", \"timepoint\", \"cTiterSub\", \"lbi\", \"ep\", \"ne\", \"frequency\"]].copy()"
   ]
  },
  {
   "cell_type": "code",
   "execution_count": 12,
   "metadata": {},
   "outputs": [
    {
     "data": {
      "text/html": [
       "<div>\n",
       "<style scoped>\n",
       "    .dataframe tbody tr th:only-of-type {\n",
       "        vertical-align: middle;\n",
       "    }\n",
       "\n",
       "    .dataframe tbody tr th {\n",
       "        vertical-align: top;\n",
       "    }\n",
       "\n",
       "    .dataframe thead th {\n",
       "        text-align: right;\n",
       "    }\n",
       "</style>\n",
       "<table border=\"1\" class=\"dataframe\">\n",
       "  <thead>\n",
       "    <tr style=\"text-align: right;\">\n",
       "      <th></th>\n",
       "      <th>strain</th>\n",
       "      <th>clade_membership</th>\n",
       "      <th>timepoint</th>\n",
       "      <th>cTiterSub</th>\n",
       "      <th>lbi</th>\n",
       "      <th>ep</th>\n",
       "      <th>ne</th>\n",
       "      <th>frequency</th>\n",
       "    </tr>\n",
       "  </thead>\n",
       "  <tbody>\n",
       "    <tr>\n",
       "      <th>0</th>\n",
       "      <td>A/Australia/22/2009</td>\n",
       "      <td>SigPep:9Y,HA1:50E,HA1:62K,HA1:140I,HA1:144K,HA...</td>\n",
       "      <td>2009-10-01</td>\n",
       "      <td>3.074121</td>\n",
       "      <td>-0.201707</td>\n",
       "      <td>9</td>\n",
       "      <td>6</td>\n",
       "      <td>0.000261</td>\n",
       "    </tr>\n",
       "    <tr>\n",
       "      <th>1</th>\n",
       "      <td>A/Brazil/1814/2009</td>\n",
       "      <td>SigPep:9Y,HA1:50E,HA1:140I,HA1:173Q,HA1:193F,H...</td>\n",
       "      <td>2009-10-01</td>\n",
       "      <td>1.004591</td>\n",
       "      <td>-1.085007</td>\n",
       "      <td>5</td>\n",
       "      <td>9</td>\n",
       "      <td>0.000003</td>\n",
       "    </tr>\n",
       "    <tr>\n",
       "      <th>2</th>\n",
       "      <td>A/Brazil/884/2009</td>\n",
       "      <td>SigPep:9Y,HA1:50E,HA1:140I,HA1:173Q,HA1:193F,H...</td>\n",
       "      <td>2009-10-01</td>\n",
       "      <td>1.004591</td>\n",
       "      <td>-1.269448</td>\n",
       "      <td>4</td>\n",
       "      <td>8</td>\n",
       "      <td>0.003814</td>\n",
       "    </tr>\n",
       "    <tr>\n",
       "      <th>3</th>\n",
       "      <td>A/Colombia/227/2009</td>\n",
       "      <td>SigPep:9Y,HA1:50E,HA1:140I,HA1:173Q,HA1:193F,H...</td>\n",
       "      <td>2009-10-01</td>\n",
       "      <td>1.004603</td>\n",
       "      <td>-1.382931</td>\n",
       "      <td>6</td>\n",
       "      <td>8</td>\n",
       "      <td>0.000001</td>\n",
       "    </tr>\n",
       "    <tr>\n",
       "      <th>4</th>\n",
       "      <td>A/CostaRica/3090/2009</td>\n",
       "      <td>SigPep:9Y,HA1:50E,HA1:62K,HA1:140I,HA1:144K,HA...</td>\n",
       "      <td>2009-10-01</td>\n",
       "      <td>3.074121</td>\n",
       "      <td>-0.113271</td>\n",
       "      <td>10</td>\n",
       "      <td>6</td>\n",
       "      <td>0.001549</td>\n",
       "    </tr>\n",
       "  </tbody>\n",
       "</table>\n",
       "</div>"
      ],
      "text/plain": [
       "                  strain                                   clade_membership  \\\n",
       "0    A/Australia/22/2009  SigPep:9Y,HA1:50E,HA1:62K,HA1:140I,HA1:144K,HA...   \n",
       "1     A/Brazil/1814/2009  SigPep:9Y,HA1:50E,HA1:140I,HA1:173Q,HA1:193F,H...   \n",
       "2      A/Brazil/884/2009  SigPep:9Y,HA1:50E,HA1:140I,HA1:173Q,HA1:193F,H...   \n",
       "3    A/Colombia/227/2009  SigPep:9Y,HA1:50E,HA1:140I,HA1:173Q,HA1:193F,H...   \n",
       "4  A/CostaRica/3090/2009  SigPep:9Y,HA1:50E,HA1:62K,HA1:140I,HA1:144K,HA...   \n",
       "\n",
       "    timepoint  cTiterSub       lbi  ep  ne  frequency  \n",
       "0  2009-10-01   3.074121 -0.201707   9   6   0.000261  \n",
       "1  2009-10-01   1.004591 -1.085007   5   9   0.000003  \n",
       "2  2009-10-01   1.004591 -1.269448   4   8   0.003814  \n",
       "3  2009-10-01   1.004603 -1.382931   6   8   0.000001  \n",
       "4  2009-10-01   3.074121 -0.113271  10   6   0.001549  "
      ]
     },
     "execution_count": 12,
     "metadata": {},
     "output_type": "execute_result"
    }
   ],
   "source": [
    "X.head()"
   ]
  },
  {
   "cell_type": "markdown",
   "metadata": {},
   "source": [
    "There isn't a clear way to map multiple tips from one timepoint to multiple different tips in a future timepoint using the standard linear regression approach. The simplest way I can see to handle this is to summarize the input and output matrices by clade. A better approach would be to have some support for hierarchical modeling which is outside the scope of this attempt."
   ]
  },
  {
   "cell_type": "code",
   "execution_count": 18,
   "metadata": {},
   "outputs": [],
   "source": [
    "grouped_X = X.groupby([\"timepoint\", \"clade_membership\"]).aggregate({\n",
    "    \"frequency\": \"sum\",\n",
    "    \"cTiterSub\": \"mean\",\n",
    "    \"lbi\": \"mean\",\n",
    "    \"ep\": \"mean\",\n",
    "    \"ne\": \"mean\"\n",
    "}).reset_index()"
   ]
  },
  {
   "cell_type": "code",
   "execution_count": 19,
   "metadata": {},
   "outputs": [
    {
     "data": {
      "text/html": [
       "<div>\n",
       "<style scoped>\n",
       "    .dataframe tbody tr th:only-of-type {\n",
       "        vertical-align: middle;\n",
       "    }\n",
       "\n",
       "    .dataframe tbody tr th {\n",
       "        vertical-align: top;\n",
       "    }\n",
       "\n",
       "    .dataframe thead th {\n",
       "        text-align: right;\n",
       "    }\n",
       "</style>\n",
       "<table border=\"1\" class=\"dataframe\">\n",
       "  <thead>\n",
       "    <tr style=\"text-align: right;\">\n",
       "      <th></th>\n",
       "      <th>timepoint</th>\n",
       "      <th>clade_membership</th>\n",
       "      <th>frequency</th>\n",
       "      <th>cTiterSub</th>\n",
       "      <th>lbi</th>\n",
       "      <th>ep</th>\n",
       "      <th>ne</th>\n",
       "    </tr>\n",
       "  </thead>\n",
       "  <tbody>\n",
       "    <tr>\n",
       "      <th>0</th>\n",
       "      <td>2009-10-01</td>\n",
       "      <td>SigPep:9Y,HA1:50E,HA1:140I,HA1:158N,HA1:173Q,H...</td>\n",
       "      <td>0.537488</td>\n",
       "      <td>1.004591</td>\n",
       "      <td>1.203186</td>\n",
       "      <td>7.750000</td>\n",
       "      <td>6.500000</td>\n",
       "    </tr>\n",
       "    <tr>\n",
       "      <th>1</th>\n",
       "      <td>2009-10-01</td>\n",
       "      <td>SigPep:9Y,HA1:50E,HA1:140I,HA1:158R,HA1:193F,H...</td>\n",
       "      <td>0.000003</td>\n",
       "      <td>1.190845</td>\n",
       "      <td>-1.036770</td>\n",
       "      <td>8.000000</td>\n",
       "      <td>6.000000</td>\n",
       "    </tr>\n",
       "    <tr>\n",
       "      <th>2</th>\n",
       "      <td>2009-10-01</td>\n",
       "      <td>SigPep:9Y,HA1:50E,HA1:140I,HA1:173Q,HA1:193F,H...</td>\n",
       "      <td>0.058907</td>\n",
       "      <td>1.004592</td>\n",
       "      <td>-1.073766</td>\n",
       "      <td>4.400000</td>\n",
       "      <td>7.300000</td>\n",
       "    </tr>\n",
       "    <tr>\n",
       "      <th>3</th>\n",
       "      <td>2009-10-01</td>\n",
       "      <td>SigPep:9Y,HA1:50E,HA1:62K,HA1:140I,HA1:144K,HA...</td>\n",
       "      <td>0.278036</td>\n",
       "      <td>3.074121</td>\n",
       "      <td>0.914128</td>\n",
       "      <td>9.300000</td>\n",
       "      <td>6.400000</td>\n",
       "    </tr>\n",
       "    <tr>\n",
       "      <th>4</th>\n",
       "      <td>2009-10-01</td>\n",
       "      <td>SigPep:9Y,HA1:50E,HA1:62K,HA1:140I,HA1:144K,HA...</td>\n",
       "      <td>0.125566</td>\n",
       "      <td>3.419726</td>\n",
       "      <td>-0.010970</td>\n",
       "      <td>9.666667</td>\n",
       "      <td>6.333333</td>\n",
       "    </tr>\n",
       "  </tbody>\n",
       "</table>\n",
       "</div>"
      ],
      "text/plain": [
       "    timepoint                                   clade_membership  frequency  \\\n",
       "0  2009-10-01  SigPep:9Y,HA1:50E,HA1:140I,HA1:158N,HA1:173Q,H...   0.537488   \n",
       "1  2009-10-01  SigPep:9Y,HA1:50E,HA1:140I,HA1:158R,HA1:193F,H...   0.000003   \n",
       "2  2009-10-01  SigPep:9Y,HA1:50E,HA1:140I,HA1:173Q,HA1:193F,H...   0.058907   \n",
       "3  2009-10-01  SigPep:9Y,HA1:50E,HA1:62K,HA1:140I,HA1:144K,HA...   0.278036   \n",
       "4  2009-10-01  SigPep:9Y,HA1:50E,HA1:62K,HA1:140I,HA1:144K,HA...   0.125566   \n",
       "\n",
       "   cTiterSub       lbi        ep        ne  \n",
       "0   1.004591  1.203186  7.750000  6.500000  \n",
       "1   1.190845 -1.036770  8.000000  6.000000  \n",
       "2   1.004592 -1.073766  4.400000  7.300000  \n",
       "3   3.074121  0.914128  9.300000  6.400000  \n",
       "4   3.419726 -0.010970  9.666667  6.333333  "
      ]
     },
     "execution_count": 19,
     "metadata": {},
     "output_type": "execute_result"
    }
   ],
   "source": [
    "grouped_X.head()"
   ]
  },
  {
   "cell_type": "code",
   "execution_count": 30,
   "metadata": {},
   "outputs": [
    {
     "data": {
      "text/plain": [
       "array([[ 1.20318616],\n",
       "       [-1.03676998],\n",
       "       [-1.07376592],\n",
       "       [ 0.91412811],\n",
       "       [-0.01096963],\n",
       "       [-0.22818173],\n",
       "       [-0.52471774],\n",
       "       [-0.47640192],\n",
       "       [-1.72632703],\n",
       "       [-1.762719  ],\n",
       "       [-1.16194532],\n",
       "       [-0.26227434],\n",
       "       [-0.26407564],\n",
       "       [-1.20748964],\n",
       "       [ 0.11771159],\n",
       "       [-0.91633487],\n",
       "       [-0.27266383],\n",
       "       [ 0.88385441],\n",
       "       [ 0.06026402],\n",
       "       [-1.30488079],\n",
       "       [-1.65672665],\n",
       "       [ 0.51943552]])"
      ]
     },
     "execution_count": 30,
     "metadata": {},
     "output_type": "execute_result"
    }
   ],
   "source": [
    "grouped_X.loc[:, [\"lbi\"]].values"
   ]
  },
  {
   "cell_type": "code",
   "execution_count": 13,
   "metadata": {},
   "outputs": [],
   "source": [
    "Y = pd.read_table(\"final_clade_frequencies.tsv\", sep=\"\\t\")"
   ]
  },
  {
   "cell_type": "code",
   "execution_count": 14,
   "metadata": {},
   "outputs": [
    {
     "data": {
      "text/html": [
       "<div>\n",
       "<style scoped>\n",
       "    .dataframe tbody tr th:only-of-type {\n",
       "        vertical-align: middle;\n",
       "    }\n",
       "\n",
       "    .dataframe tbody tr th {\n",
       "        vertical-align: top;\n",
       "    }\n",
       "\n",
       "    .dataframe thead th {\n",
       "        text-align: right;\n",
       "    }\n",
       "</style>\n",
       "<table border=\"1\" class=\"dataframe\">\n",
       "  <thead>\n",
       "    <tr style=\"text-align: right;\">\n",
       "      <th></th>\n",
       "      <th>initial_timepoint</th>\n",
       "      <th>clade_membership</th>\n",
       "      <th>final_timepoint</th>\n",
       "      <th>strain</th>\n",
       "      <th>frequency</th>\n",
       "    </tr>\n",
       "  </thead>\n",
       "  <tbody>\n",
       "    <tr>\n",
       "      <th>0</th>\n",
       "      <td>2009-10-01</td>\n",
       "      <td>SigPep:9Y,HA1:50E,HA1:62K,HA1:140I,HA1:144K,HA...</td>\n",
       "      <td>2010-10-01</td>\n",
       "      <td>NaN</td>\n",
       "      <td>0.000000</td>\n",
       "    </tr>\n",
       "    <tr>\n",
       "      <th>1</th>\n",
       "      <td>2009-10-01</td>\n",
       "      <td>SigPep:9Y,HA1:50E,HA1:140I,HA1:173Q,HA1:193F,H...</td>\n",
       "      <td>2010-10-01</td>\n",
       "      <td>NaN</td>\n",
       "      <td>0.000000</td>\n",
       "    </tr>\n",
       "    <tr>\n",
       "      <th>2</th>\n",
       "      <td>2009-10-01</td>\n",
       "      <td>SigPep:9Y,HA1:50E,HA1:140I,HA1:158N,HA1:173Q,H...</td>\n",
       "      <td>2010-10-01</td>\n",
       "      <td>A/Alabama/5/2010</td>\n",
       "      <td>0.001952</td>\n",
       "    </tr>\n",
       "    <tr>\n",
       "      <th>3</th>\n",
       "      <td>2009-10-01</td>\n",
       "      <td>SigPep:9Y,HA1:50E,HA1:140I,HA1:158N,HA1:173Q,H...</td>\n",
       "      <td>2010-10-01</td>\n",
       "      <td>A/Alaska/5/2010</td>\n",
       "      <td>0.016012</td>\n",
       "    </tr>\n",
       "    <tr>\n",
       "      <th>4</th>\n",
       "      <td>2009-10-01</td>\n",
       "      <td>SigPep:9Y,HA1:50E,HA1:140I,HA1:158N,HA1:173Q,H...</td>\n",
       "      <td>2010-10-01</td>\n",
       "      <td>A/Argentina/27893/2010</td>\n",
       "      <td>0.045617</td>\n",
       "    </tr>\n",
       "  </tbody>\n",
       "</table>\n",
       "</div>"
      ],
      "text/plain": [
       "  initial_timepoint                                   clade_membership  \\\n",
       "0        2009-10-01  SigPep:9Y,HA1:50E,HA1:62K,HA1:140I,HA1:144K,HA...   \n",
       "1        2009-10-01  SigPep:9Y,HA1:50E,HA1:140I,HA1:173Q,HA1:193F,H...   \n",
       "2        2009-10-01  SigPep:9Y,HA1:50E,HA1:140I,HA1:158N,HA1:173Q,H...   \n",
       "3        2009-10-01  SigPep:9Y,HA1:50E,HA1:140I,HA1:158N,HA1:173Q,H...   \n",
       "4        2009-10-01  SigPep:9Y,HA1:50E,HA1:140I,HA1:158N,HA1:173Q,H...   \n",
       "\n",
       "  final_timepoint                  strain  frequency  \n",
       "0      2010-10-01                     NaN   0.000000  \n",
       "1      2010-10-01                     NaN   0.000000  \n",
       "2      2010-10-01        A/Alabama/5/2010   0.001952  \n",
       "3      2010-10-01         A/Alaska/5/2010   0.016012  \n",
       "4      2010-10-01  A/Argentina/27893/2010   0.045617  "
      ]
     },
     "execution_count": 14,
     "metadata": {},
     "output_type": "execute_result"
    }
   ],
   "source": [
    "Y.head()"
   ]
  },
  {
   "cell_type": "code",
   "execution_count": 24,
   "metadata": {},
   "outputs": [],
   "source": [
    "grouped_Y = Y.groupby([\"initial_timepoint\", \"final_timepoint\", \"clade_membership\"])[\"frequency\"].sum().reset_index()"
   ]
  },
  {
   "cell_type": "code",
   "execution_count": 25,
   "metadata": {},
   "outputs": [
    {
     "data": {
      "text/html": [
       "<div>\n",
       "<style scoped>\n",
       "    .dataframe tbody tr th:only-of-type {\n",
       "        vertical-align: middle;\n",
       "    }\n",
       "\n",
       "    .dataframe tbody tr th {\n",
       "        vertical-align: top;\n",
       "    }\n",
       "\n",
       "    .dataframe thead th {\n",
       "        text-align: right;\n",
       "    }\n",
       "</style>\n",
       "<table border=\"1\" class=\"dataframe\">\n",
       "  <thead>\n",
       "    <tr style=\"text-align: right;\">\n",
       "      <th></th>\n",
       "      <th>initial_timepoint</th>\n",
       "      <th>final_timepoint</th>\n",
       "      <th>clade_membership</th>\n",
       "      <th>frequency</th>\n",
       "    </tr>\n",
       "  </thead>\n",
       "  <tbody>\n",
       "    <tr>\n",
       "      <th>0</th>\n",
       "      <td>2009-10-01</td>\n",
       "      <td>2010-10-01</td>\n",
       "      <td>SigPep:9Y,HA1:50E,HA1:140I,HA1:158N,HA1:173Q,H...</td>\n",
       "      <td>0.849796</td>\n",
       "    </tr>\n",
       "    <tr>\n",
       "      <th>1</th>\n",
       "      <td>2009-10-01</td>\n",
       "      <td>2010-10-01</td>\n",
       "      <td>SigPep:9Y,HA1:50E,HA1:140I,HA1:158R,HA1:193F,H...</td>\n",
       "      <td>0.000000</td>\n",
       "    </tr>\n",
       "    <tr>\n",
       "      <th>2</th>\n",
       "      <td>2009-10-01</td>\n",
       "      <td>2010-10-01</td>\n",
       "      <td>SigPep:9Y,HA1:50E,HA1:140I,HA1:173Q,HA1:193F,H...</td>\n",
       "      <td>0.000000</td>\n",
       "    </tr>\n",
       "    <tr>\n",
       "      <th>3</th>\n",
       "      <td>2009-10-01</td>\n",
       "      <td>2010-10-01</td>\n",
       "      <td>SigPep:9Y,HA1:50E,HA1:62K,HA1:140I,HA1:144K,HA...</td>\n",
       "      <td>0.000000</td>\n",
       "    </tr>\n",
       "    <tr>\n",
       "      <th>4</th>\n",
       "      <td>2009-10-01</td>\n",
       "      <td>2010-10-01</td>\n",
       "      <td>SigPep:9Y,HA1:50E,HA1:62K,HA1:140I,HA1:144K,HA...</td>\n",
       "      <td>0.150200</td>\n",
       "    </tr>\n",
       "  </tbody>\n",
       "</table>\n",
       "</div>"
      ],
      "text/plain": [
       "  initial_timepoint final_timepoint  \\\n",
       "0        2009-10-01      2010-10-01   \n",
       "1        2009-10-01      2010-10-01   \n",
       "2        2009-10-01      2010-10-01   \n",
       "3        2009-10-01      2010-10-01   \n",
       "4        2009-10-01      2010-10-01   \n",
       "\n",
       "                                    clade_membership  frequency  \n",
       "0  SigPep:9Y,HA1:50E,HA1:140I,HA1:158N,HA1:173Q,H...   0.849796  \n",
       "1  SigPep:9Y,HA1:50E,HA1:140I,HA1:158R,HA1:193F,H...   0.000000  \n",
       "2  SigPep:9Y,HA1:50E,HA1:140I,HA1:173Q,HA1:193F,H...   0.000000  \n",
       "3  SigPep:9Y,HA1:50E,HA1:62K,HA1:140I,HA1:144K,HA...   0.000000  \n",
       "4  SigPep:9Y,HA1:50E,HA1:62K,HA1:140I,HA1:144K,HA...   0.150200  "
      ]
     },
     "execution_count": 25,
     "metadata": {},
     "output_type": "execute_result"
    }
   ],
   "source": [
    "grouped_Y.head()"
   ]
  },
  {
   "cell_type": "code",
   "execution_count": 32,
   "metadata": {},
   "outputs": [
    {
     "data": {
      "text/plain": [
       "array([0.849796, 0.      , 0.      , 0.      , 0.1502  , 0.      ,\n",
       "       0.      , 0.      , 0.      , 0.      , 0.      , 0.      ,\n",
       "       0.      , 0.      , 0.      , 0.      , 0.      , 0.      ,\n",
       "       0.      , 0.      , 0.      , 0.      ])"
      ]
     },
     "execution_count": 32,
     "metadata": {},
     "output_type": "execute_result"
    }
   ],
   "source": [
    "grouped_Y.loc[:, \"frequency\"].values"
   ]
  },
  {
   "cell_type": "code",
   "execution_count": 43,
   "metadata": {},
   "outputs": [],
   "source": [
    "y = grouped_Y.loc[:, \"frequency\"].values"
   ]
  },
  {
   "cell_type": "code",
   "execution_count": 27,
   "metadata": {},
   "outputs": [],
   "source": [
    "reg = linear_model.LinearRegression()"
   ]
  },
  {
   "cell_type": "markdown",
   "metadata": {},
   "source": [
    "## Fit a linear regression model with initial frequency and LBI"
   ]
  },
  {
   "cell_type": "code",
   "execution_count": 44,
   "metadata": {},
   "outputs": [
    {
     "data": {
      "text/plain": [
       "LinearRegression(copy_X=True, fit_intercept=True, n_jobs=None,\n",
       "         normalize=False)"
      ]
     },
     "execution_count": 44,
     "metadata": {},
     "output_type": "execute_result"
    }
   ],
   "source": [
    "x = grouped_X.loc[:, [\"frequency\", \"lbi\"]].values\n",
    "reg.fit(x, y)"
   ]
  },
  {
   "cell_type": "code",
   "execution_count": 45,
   "metadata": {},
   "outputs": [
    {
     "data": {
      "text/plain": [
       "array([6.35133486e-01, 4.88227466e-04])"
      ]
     },
     "execution_count": 45,
     "metadata": {},
     "output_type": "execute_result"
    }
   ],
   "source": [
    "reg.coef_"
   ]
  },
  {
   "cell_type": "markdown",
   "metadata": {},
   "source": [
    "## Fit a linear regression model with initial frequency, LBI, and cTiterSub"
   ]
  },
  {
   "cell_type": "code",
   "execution_count": 46,
   "metadata": {},
   "outputs": [
    {
     "data": {
      "text/plain": [
       "LinearRegression(copy_X=True, fit_intercept=True, n_jobs=None,\n",
       "         normalize=False)"
      ]
     },
     "execution_count": 46,
     "metadata": {},
     "output_type": "execute_result"
    }
   ],
   "source": [
    "x = grouped_X.loc[:, [\"frequency\", \"lbi\", \"cTiterSub\"]].values\n",
    "reg.fit(x, y)"
   ]
  },
  {
   "cell_type": "code",
   "execution_count": 47,
   "metadata": {},
   "outputs": [
    {
     "data": {
      "text/plain": [
       "array([ 0.47212291,  0.03328364, -0.03680707])"
      ]
     },
     "execution_count": 47,
     "metadata": {},
     "output_type": "execute_result"
    }
   ],
   "source": [
    "reg.coef_"
   ]
  },
  {
   "cell_type": "markdown",
   "metadata": {},
   "source": [
    "## Try to predict values from a fit model"
   ]
  },
  {
   "cell_type": "code",
   "execution_count": 49,
   "metadata": {},
   "outputs": [],
   "source": [
    "y_hat = reg.predict(x)"
   ]
  },
  {
   "cell_type": "code",
   "execution_count": 51,
   "metadata": {},
   "outputs": [],
   "source": [
    "residuals = y - y_hat"
   ]
  },
  {
   "cell_type": "code",
   "execution_count": 54,
   "metadata": {},
   "outputs": [
    {
     "data": {
      "text/plain": [
       "(array([1., 3., 8., 5., 4., 0., 0., 0., 0., 1.]),\n",
       " array([-0.2362368 , -0.16378784, -0.09133889, -0.01888994,  0.05355901,\n",
       "         0.12600797,  0.19845692,  0.27090587,  0.34335482,  0.41580378,\n",
       "         0.48825273]),\n",
       " <a list of 10 Patch objects>)"
      ]
     },
     "execution_count": 54,
     "metadata": {},
     "output_type": "execute_result"
    },
    {
     "data": {
      "image/png": "[encoded data removed]",
      "text/plain": [
       "<Figure size 432x288 with 1 Axes>"
      ]
     },
     "metadata": {
      "needs_background": "light"
     },
     "output_type": "display_data"
    }
   ],
   "source": [
    "plt.hist(residuals)"
   ]
  },
  {
   "cell_type": "markdown",
   "metadata": {},
   "source": [
    "## Try fitting a linear mixed effects model\n",
    "\n",
    "Try using the [statsmodels functionality for linear mixed models](https://www.statsmodels.org/dev/mixed_linear.html). It is still not clear how to actually map tip data from one timepoint to tip data from a later timepoint in this framework. "
   ]
  },
  {
   "cell_type": "code",
   "execution_count": 56,
   "metadata": {},
   "outputs": [
    {
     "data": {
      "text/html": [
       "<div>\n",
       "<style scoped>\n",
       "    .dataframe tbody tr th:only-of-type {\n",
       "        vertical-align: middle;\n",
       "    }\n",
       "\n",
       "    .dataframe tbody tr th {\n",
       "        vertical-align: top;\n",
       "    }\n",
       "\n",
       "    .dataframe thead th {\n",
       "        text-align: right;\n",
       "    }\n",
       "</style>\n",
       "<table border=\"1\" class=\"dataframe\">\n",
       "  <thead>\n",
       "    <tr style=\"text-align: right;\">\n",
       "      <th></th>\n",
       "      <th>timepoint</th>\n",
       "      <th>clade_membership</th>\n",
       "      <th>frequency</th>\n",
       "      <th>cTiterSub</th>\n",
       "      <th>lbi</th>\n",
       "      <th>ep</th>\n",
       "      <th>ne</th>\n",
       "    </tr>\n",
       "  </thead>\n",
       "  <tbody>\n",
       "    <tr>\n",
       "      <th>0</th>\n",
       "      <td>2009-10-01</td>\n",
       "      <td>SigPep:9Y,HA1:50E,HA1:140I,HA1:158N,HA1:173Q,H...</td>\n",
       "      <td>0.537488</td>\n",
       "      <td>1.004591</td>\n",
       "      <td>1.203186</td>\n",
       "      <td>7.750000</td>\n",
       "      <td>6.500000</td>\n",
       "    </tr>\n",
       "    <tr>\n",
       "      <th>1</th>\n",
       "      <td>2009-10-01</td>\n",
       "      <td>SigPep:9Y,HA1:50E,HA1:140I,HA1:158R,HA1:193F,H...</td>\n",
       "      <td>0.000003</td>\n",
       "      <td>1.190845</td>\n",
       "      <td>-1.036770</td>\n",
       "      <td>8.000000</td>\n",
       "      <td>6.000000</td>\n",
       "    </tr>\n",
       "    <tr>\n",
       "      <th>2</th>\n",
       "      <td>2009-10-01</td>\n",
       "      <td>SigPep:9Y,HA1:50E,HA1:140I,HA1:173Q,HA1:193F,H...</td>\n",
       "      <td>0.058907</td>\n",
       "      <td>1.004592</td>\n",
       "      <td>-1.073766</td>\n",
       "      <td>4.400000</td>\n",
       "      <td>7.300000</td>\n",
       "    </tr>\n",
       "    <tr>\n",
       "      <th>3</th>\n",
       "      <td>2009-10-01</td>\n",
       "      <td>SigPep:9Y,HA1:50E,HA1:62K,HA1:140I,HA1:144K,HA...</td>\n",
       "      <td>0.278036</td>\n",
       "      <td>3.074121</td>\n",
       "      <td>0.914128</td>\n",
       "      <td>9.300000</td>\n",
       "      <td>6.400000</td>\n",
       "    </tr>\n",
       "    <tr>\n",
       "      <th>4</th>\n",
       "      <td>2009-10-01</td>\n",
       "      <td>SigPep:9Y,HA1:50E,HA1:62K,HA1:140I,HA1:144K,HA...</td>\n",
       "      <td>0.125566</td>\n",
       "      <td>3.419726</td>\n",
       "      <td>-0.010970</td>\n",
       "      <td>9.666667</td>\n",
       "      <td>6.333333</td>\n",
       "    </tr>\n",
       "  </tbody>\n",
       "</table>\n",
       "</div>"
      ],
      "text/plain": [
       "    timepoint                                   clade_membership  frequency  \\\n",
       "0  2009-10-01  SigPep:9Y,HA1:50E,HA1:140I,HA1:158N,HA1:173Q,H...   0.537488   \n",
       "1  2009-10-01  SigPep:9Y,HA1:50E,HA1:140I,HA1:158R,HA1:193F,H...   0.000003   \n",
       "2  2009-10-01  SigPep:9Y,HA1:50E,HA1:140I,HA1:173Q,HA1:193F,H...   0.058907   \n",
       "3  2009-10-01  SigPep:9Y,HA1:50E,HA1:62K,HA1:140I,HA1:144K,HA...   0.278036   \n",
       "4  2009-10-01  SigPep:9Y,HA1:50E,HA1:62K,HA1:140I,HA1:144K,HA...   0.125566   \n",
       "\n",
       "   cTiterSub       lbi        ep        ne  \n",
       "0   1.004591  1.203186  7.750000  6.500000  \n",
       "1   1.190845 -1.036770  8.000000  6.000000  \n",
       "2   1.004592 -1.073766  4.400000  7.300000  \n",
       "3   3.074121  0.914128  9.300000  6.400000  \n",
       "4   3.419726 -0.010970  9.666667  6.333333  "
      ]
     },
     "execution_count": 56,
     "metadata": {},
     "output_type": "execute_result"
    }
   ],
   "source": [
    "grouped_X.head()"
   ]
  },
  {
   "cell_type": "code",
   "execution_count": 57,
   "metadata": {},
   "outputs": [
    {
     "data": {
      "text/html": [
       "<div>\n",
       "<style scoped>\n",
       "    .dataframe tbody tr th:only-of-type {\n",
       "        vertical-align: middle;\n",
       "    }\n",
       "\n",
       "    .dataframe tbody tr th {\n",
       "        vertical-align: top;\n",
       "    }\n",
       "\n",
       "    .dataframe thead th {\n",
       "        text-align: right;\n",
       "    }\n",
       "</style>\n",
       "<table border=\"1\" class=\"dataframe\">\n",
       "  <thead>\n",
       "    <tr style=\"text-align: right;\">\n",
       "      <th></th>\n",
       "      <th>initial_timepoint</th>\n",
       "      <th>final_timepoint</th>\n",
       "      <th>clade_membership</th>\n",
       "      <th>frequency</th>\n",
       "    </tr>\n",
       "  </thead>\n",
       "  <tbody>\n",
       "    <tr>\n",
       "      <th>0</th>\n",
       "      <td>2009-10-01</td>\n",
       "      <td>2010-10-01</td>\n",
       "      <td>SigPep:9Y,HA1:50E,HA1:140I,HA1:158N,HA1:173Q,H...</td>\n",
       "      <td>0.849796</td>\n",
       "    </tr>\n",
       "    <tr>\n",
       "      <th>1</th>\n",
       "      <td>2009-10-01</td>\n",
       "      <td>2010-10-01</td>\n",
       "      <td>SigPep:9Y,HA1:50E,HA1:140I,HA1:158R,HA1:193F,H...</td>\n",
       "      <td>0.000000</td>\n",
       "    </tr>\n",
       "    <tr>\n",
       "      <th>2</th>\n",
       "      <td>2009-10-01</td>\n",
       "      <td>2010-10-01</td>\n",
       "      <td>SigPep:9Y,HA1:50E,HA1:140I,HA1:173Q,HA1:193F,H...</td>\n",
       "      <td>0.000000</td>\n",
       "    </tr>\n",
       "    <tr>\n",
       "      <th>3</th>\n",
       "      <td>2009-10-01</td>\n",
       "      <td>2010-10-01</td>\n",
       "      <td>SigPep:9Y,HA1:50E,HA1:62K,HA1:140I,HA1:144K,HA...</td>\n",
       "      <td>0.000000</td>\n",
       "    </tr>\n",
       "    <tr>\n",
       "      <th>4</th>\n",
       "      <td>2009-10-01</td>\n",
       "      <td>2010-10-01</td>\n",
       "      <td>SigPep:9Y,HA1:50E,HA1:62K,HA1:140I,HA1:144K,HA...</td>\n",
       "      <td>0.150200</td>\n",
       "    </tr>\n",
       "  </tbody>\n",
       "</table>\n",
       "</div>"
      ],
      "text/plain": [
       "  initial_timepoint final_timepoint  \\\n",
       "0        2009-10-01      2010-10-01   \n",
       "1        2009-10-01      2010-10-01   \n",
       "2        2009-10-01      2010-10-01   \n",
       "3        2009-10-01      2010-10-01   \n",
       "4        2009-10-01      2010-10-01   \n",
       "\n",
       "                                    clade_membership  frequency  \n",
       "0  SigPep:9Y,HA1:50E,HA1:140I,HA1:158N,HA1:173Q,H...   0.849796  \n",
       "1  SigPep:9Y,HA1:50E,HA1:140I,HA1:158R,HA1:193F,H...   0.000000  \n",
       "2  SigPep:9Y,HA1:50E,HA1:140I,HA1:173Q,HA1:193F,H...   0.000000  \n",
       "3  SigPep:9Y,HA1:50E,HA1:62K,HA1:140I,HA1:144K,HA...   0.000000  \n",
       "4  SigPep:9Y,HA1:50E,HA1:62K,HA1:140I,HA1:144K,HA...   0.150200  "
      ]
     },
     "execution_count": 57,
     "metadata": {},
     "output_type": "execute_result"
    }
   ],
   "source": [
    "grouped_Y.head()"
   ]
  },
  {
   "cell_type": "code",
   "execution_count": 60,
   "metadata": {},
   "outputs": [],
   "source": [
    "data = grouped_X.merge(\n",
    "    grouped_Y,\n",
    "    left_on=[\"timepoint\", \"clade_membership\"],\n",
    "    right_on=[\"initial_timepoint\", \"clade_membership\"],\n",
    "    suffixes=[\"_initial\", \"_final\"]\n",
    ")"
   ]
  },
  {
   "cell_type": "code",
   "execution_count": 61,
   "metadata": {},
   "outputs": [
    {
     "data": {
      "text/html": [
       "<div>\n",
       "<style scoped>\n",
       "    .dataframe tbody tr th:only-of-type {\n",
       "        vertical-align: middle;\n",
       "    }\n",
       "\n",
       "    .dataframe tbody tr th {\n",
       "        vertical-align: top;\n",
       "    }\n",
       "\n",
       "    .dataframe thead th {\n",
       "        text-align: right;\n",
       "    }\n",
       "</style>\n",
       "<table border=\"1\" class=\"dataframe\">\n",
       "  <thead>\n",
       "    <tr style=\"text-align: right;\">\n",
       "      <th></th>\n",
       "      <th>timepoint</th>\n",
       "      <th>clade_membership</th>\n",
       "      <th>frequency_initial</th>\n",
       "      <th>cTiterSub</th>\n",
       "      <th>lbi</th>\n",
       "      <th>ep</th>\n",
       "      <th>ne</th>\n",
       "      <th>initial_timepoint</th>\n",
       "      <th>final_timepoint</th>\n",
       "      <th>frequency_final</th>\n",
       "    </tr>\n",
       "  </thead>\n",
       "  <tbody>\n",
       "    <tr>\n",
       "      <th>0</th>\n",
       "      <td>2009-10-01</td>\n",
       "      <td>SigPep:9Y,HA1:50E,HA1:140I,HA1:158N,HA1:173Q,H...</td>\n",
       "      <td>0.537488</td>\n",
       "      <td>1.004591</td>\n",
       "      <td>1.203186</td>\n",
       "      <td>7.750000</td>\n",
       "      <td>6.500000</td>\n",
       "      <td>2009-10-01</td>\n",
       "      <td>2010-10-01</td>\n",
       "      <td>0.849796</td>\n",
       "    </tr>\n",
       "    <tr>\n",
       "      <th>1</th>\n",
       "      <td>2009-10-01</td>\n",
       "      <td>SigPep:9Y,HA1:50E,HA1:140I,HA1:158R,HA1:193F,H...</td>\n",
       "      <td>0.000003</td>\n",
       "      <td>1.190845</td>\n",
       "      <td>-1.036770</td>\n",
       "      <td>8.000000</td>\n",
       "      <td>6.000000</td>\n",
       "      <td>2009-10-01</td>\n",
       "      <td>2010-10-01</td>\n",
       "      <td>0.000000</td>\n",
       "    </tr>\n",
       "    <tr>\n",
       "      <th>2</th>\n",
       "      <td>2009-10-01</td>\n",
       "      <td>SigPep:9Y,HA1:50E,HA1:140I,HA1:173Q,HA1:193F,H...</td>\n",
       "      <td>0.058907</td>\n",
       "      <td>1.004592</td>\n",
       "      <td>-1.073766</td>\n",
       "      <td>4.400000</td>\n",
       "      <td>7.300000</td>\n",
       "      <td>2009-10-01</td>\n",
       "      <td>2010-10-01</td>\n",
       "      <td>0.000000</td>\n",
       "    </tr>\n",
       "    <tr>\n",
       "      <th>3</th>\n",
       "      <td>2009-10-01</td>\n",
       "      <td>SigPep:9Y,HA1:50E,HA1:62K,HA1:140I,HA1:144K,HA...</td>\n",
       "      <td>0.278036</td>\n",
       "      <td>3.074121</td>\n",
       "      <td>0.914128</td>\n",
       "      <td>9.300000</td>\n",
       "      <td>6.400000</td>\n",
       "      <td>2009-10-01</td>\n",
       "      <td>2010-10-01</td>\n",
       "      <td>0.000000</td>\n",
       "    </tr>\n",
       "    <tr>\n",
       "      <th>4</th>\n",
       "      <td>2009-10-01</td>\n",
       "      <td>SigPep:9Y,HA1:50E,HA1:62K,HA1:140I,HA1:144K,HA...</td>\n",
       "      <td>0.125566</td>\n",
       "      <td>3.419726</td>\n",
       "      <td>-0.010970</td>\n",
       "      <td>9.666667</td>\n",
       "      <td>6.333333</td>\n",
       "      <td>2009-10-01</td>\n",
       "      <td>2010-10-01</td>\n",
       "      <td>0.150200</td>\n",
       "    </tr>\n",
       "  </tbody>\n",
       "</table>\n",
       "</div>"
      ],
      "text/plain": [
       "    timepoint                                   clade_membership  \\\n",
       "0  2009-10-01  SigPep:9Y,HA1:50E,HA1:140I,HA1:158N,HA1:173Q,H...   \n",
       "1  2009-10-01  SigPep:9Y,HA1:50E,HA1:140I,HA1:158R,HA1:193F,H...   \n",
       "2  2009-10-01  SigPep:9Y,HA1:50E,HA1:140I,HA1:173Q,HA1:193F,H...   \n",
       "3  2009-10-01  SigPep:9Y,HA1:50E,HA1:62K,HA1:140I,HA1:144K,HA...   \n",
       "4  2009-10-01  SigPep:9Y,HA1:50E,HA1:62K,HA1:140I,HA1:144K,HA...   \n",
       "\n",
       "   frequency_initial  cTiterSub       lbi        ep        ne  \\\n",
       "0           0.537488   1.004591  1.203186  7.750000  6.500000   \n",
       "1           0.000003   1.190845 -1.036770  8.000000  6.000000   \n",
       "2           0.058907   1.004592 -1.073766  4.400000  7.300000   \n",
       "3           0.278036   3.074121  0.914128  9.300000  6.400000   \n",
       "4           0.125566   3.419726 -0.010970  9.666667  6.333333   \n",
       "\n",
       "  initial_timepoint final_timepoint  frequency_final  \n",
       "0        2009-10-01      2010-10-01         0.849796  \n",
       "1        2009-10-01      2010-10-01         0.000000  \n",
       "2        2009-10-01      2010-10-01         0.000000  \n",
       "3        2009-10-01      2010-10-01         0.000000  \n",
       "4        2009-10-01      2010-10-01         0.150200  "
      ]
     },
     "execution_count": 61,
     "metadata": {},
     "output_type": "execute_result"
    }
   ],
   "source": [
    "data.head()"
   ]
  },
  {
   "cell_type": "code",
   "execution_count": 64,
   "metadata": {},
   "outputs": [],
   "source": [
    "md = smf.mixedlm(\"frequency_final ~ frequency_initial + lbi + cTiterSub\", data, groups=data[\"initial_timepoint\"])"
   ]
  },
  {
   "cell_type": "code",
   "execution_count": 65,
   "metadata": {},
   "outputs": [
    {
     "name": "stderr",
     "output_type": "stream",
     "text": [
      "/Users/jlhudd/miniconda3/envs/nextstrain/lib/python3.6/site-packages/statsmodels/regression/mixed_linear_model.py:2045: ConvergenceWarning: The MLE may be on the boundary of the parameter space.\n",
      "  warnings.warn(msg, ConvergenceWarning)\n"
     ]
    }
   ],
   "source": [
    "mdf = md.fit()"
   ]
  },
  {
   "cell_type": "code",
   "execution_count": 66,
   "metadata": {},
   "outputs": [
    {
     "name": "stdout",
     "output_type": "stream",
     "text": [
      "            Mixed Linear Model Regression Results\n",
      "=============================================================\n",
      "Model:            MixedLM Dependent Variable: frequency_final\n",
      "No. Observations: 22      Method:             REML           \n",
      "No. Groups:       3       Scale:              0.0227         \n",
      "Min. group size:  5       Likelihood:         4.2178         \n",
      "Max. group size:  9       Converged:          Yes            \n",
      "Mean group size:  7.3                                        \n",
      "-------------------------------------------------------------\n",
      "                   Coef.  Std.Err.   z    P>|z| [0.025 0.975]\n",
      "-------------------------------------------------------------\n",
      "Intercept           0.093    0.136  0.689 0.491 -0.172  0.359\n",
      "frequency_initial   0.528    0.380  1.387 0.165 -0.218  1.273\n",
      "lbi                 0.016    0.076  0.214 0.831 -0.133  0.166\n",
      "cTiterSub          -0.037    0.028 -1.336 0.181 -0.091  0.017\n",
      "Group Var           0.002    0.047                           \n",
      "=============================================================\n",
      "\n"
     ]
    }
   ],
   "source": [
    "print(mdf.summary())"
   ]
  },
  {
   "cell_type": "code",
   "execution_count": null,
   "metadata": {},
   "outputs": [],
   "source": []
  }
 ],
 "metadata": {
  "kernelspec": {
   "display_name": "Python 3",
   "language": "python",
   "name": "python3"
  },
  "language_info": {
   "codemirror_mode": {
    "name": "ipython",
    "version": 3
   },
   "file_extension": ".py",
   "mimetype": "text/x-python",
   "name": "python",
   "nbconvert_exporter": "python",
   "pygments_lexer": "ipython3",
   "version": "3.6.7"
  }
 },
 "nbformat": 4,
 "nbformat_minor": 2
}
