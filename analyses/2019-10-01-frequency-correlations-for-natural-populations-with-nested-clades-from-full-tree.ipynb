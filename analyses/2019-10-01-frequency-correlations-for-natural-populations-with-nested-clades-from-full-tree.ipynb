{
 "cells": [
  {
   "cell_type": "markdown",
   "metadata": {},
   "source": [
    "# Frequency correlation plots for natural populations with nested clades from a full tree\n",
    "\n",
    "Example code for how to calculate frequency correlation plots from augur forecasting builds."
   ]
  },
  {
   "cell_type": "code",
   "execution_count": 1,
   "metadata": {},
   "outputs": [],
   "source": [
    "import altair as alt\n",
    "import matplotlib as mpl\n",
    "import matplotlib.pyplot as plt\n",
    "import matplotlib.gridspec as gridspec\n",
    "import numpy as np\n",
    "import pandas as pd\n",
    "from scipy.stats import pearsonr\n",
    "import seaborn as sns\n",
    "\n",
    "%matplotlib inline"
   ]
  },
  {
   "cell_type": "code",
   "execution_count": 2,
   "metadata": {},
   "outputs": [],
   "source": [
    "sns.set_style(\"white\")\n",
    "plt.style.use(\"huddlej\")"
   ]
  },
  {
   "cell_type": "code",
   "execution_count": 3,
   "metadata": {},
   "outputs": [],
   "source": [
    "mpl.rcParams['savefig.dpi'] = 200\n",
    "mpl.rcParams['figure.dpi'] = 200\n",
    "mpl.rcParams['font.weight'] = 300\n",
    "mpl.rcParams['axes.labelweight'] = 300\n",
    "mpl.rcParams['font.size'] = 18"
   ]
  },
  {
   "cell_type": "code",
   "execution_count": 4,
   "metadata": {},
   "outputs": [
    {
     "name": "stdout",
     "output_type": "stream",
     "text": [
      "/Users/jlhudd/projects/nextstrain/flu-forecasting/analyses\n"
     ]
    }
   ],
   "source": [
    "!pwd"
   ]
  },
  {
   "cell_type": "code",
   "execution_count": 5,
   "metadata": {},
   "outputs": [],
   "source": [
    "def matthews_correlation_coefficient(tp, tn, fp, fn):\n",
    "    \"\"\"Return Matthews correlation coefficient for values from a confusion matrix.\n",
    "    Implementation is based on the definition from wikipedia:\n",
    "\n",
    "    https://en.wikipedia.org/wiki/Matthews_correlation_coefficient\n",
    "    \"\"\"\n",
    "    numerator = (tp * tn) - (fp * fn)\n",
    "    denominator = np.sqrt((tp + fp) * (tp + fn) * (tn + fp) * (tn + fn))\n",
    "    if denominator == 0:\n",
    "            denominator = 1\n",
    "\n",
    "    return float(numerator) / denominator\n",
    "\n",
    "def get_matthews_correlation_coefficient_for_data_frame(freq_df, return_confusion_matrix=False):\n",
    "        \"\"\"Calculate Matthew's correlation coefficient from a given pandas data frame\n",
    "        with columns for initial, observed, and predicted frequencies.\n",
    "        \"\"\"\n",
    "        observed_growth = (freq_df[\"frequency_final\"] > freq_df[\"frequency\"])\n",
    "        predicted_growth = (freq_df[\"projected_frequency\"] > freq_df[\"frequency\"])\n",
    "        true_positives = ((observed_growth) & (predicted_growth)).sum()\n",
    "        false_positives= ((~observed_growth) & (predicted_growth)).sum()\n",
    "\n",
    "        observed_decline = (freq_df[\"frequency_final\"] < freq_df[\"frequency\"])\n",
    "        predicted_decline = (freq_df[\"projected_frequency\"] < freq_df[\"frequency\"])\n",
    "        true_negatives = ((observed_decline) & (predicted_decline)).sum()\n",
    "        false_negatives = ((~observed_decline) & (predicted_decline)).sum()\n",
    "\n",
    "        mcc = matthews_correlation_coefficient(\n",
    "            true_positives,\n",
    "            true_negatives,\n",
    "            false_positives,\n",
    "            false_negatives\n",
    "        )\n",
    "\n",
    "        if return_confusion_matrix:\n",
    "            confusion_matrix = {\n",
    "                \"tp\": true_positives,\n",
    "                \"tn\": true_negatives,\n",
    "                \"fp\": false_positives,\n",
    "                \"fn\": false_negatives\n",
    "            }\n",
    "            \n",
    "            return mcc, confusion_matrix\n",
    "        else:\n",
    "            return mcc"
   ]
  },
  {
   "cell_type": "markdown",
   "metadata": {},
   "source": [
    "## Load data"
   ]
  },
  {
   "cell_type": "code",
   "execution_count": 6,
   "metadata": {},
   "outputs": [],
   "source": [
    "min_clade_frequency = 0.15"
   ]
  },
  {
   "cell_type": "code",
   "execution_count": 7,
   "metadata": {},
   "outputs": [],
   "source": [
    "precision = 4"
   ]
  },
  {
   "cell_type": "code",
   "execution_count": 8,
   "metadata": {},
   "outputs": [],
   "source": [
    "data_root = \"../results/builds/natural/natural_sample_0_with_90_vpm_sliding\""
   ]
  },
  {
   "cell_type": "code",
   "execution_count": 9,
   "metadata": {},
   "outputs": [],
   "source": [
    "data_root_full_tree = \"../results/builds/natural/natural_sample_0_with_90_vpm_sliding_full_tree\""
   ]
  },
  {
   "cell_type": "code",
   "execution_count": 10,
   "metadata": {},
   "outputs": [],
   "source": [
    "first_validation_timepoint = \"2005-10-01\""
   ]
  },
  {
   "cell_type": "code",
   "execution_count": 11,
   "metadata": {},
   "outputs": [],
   "source": [
    "tips = pd.read_csv(\n",
    "    \"%s/tip_attributes_with_weighted_distances.tsv\" % data_root,\n",
    "    sep=\"\\t\",\n",
    "    parse_dates=[\"timepoint\"],\n",
    "    usecols=[\"strain\", \"timepoint\", \"frequency\"]\n",
    ")"
   ]
  },
  {
   "cell_type": "code",
   "execution_count": 12,
   "metadata": {},
   "outputs": [],
   "source": [
    "tips = tips.query(\"timepoint >= '%s'\" % first_validation_timepoint).copy()"
   ]
  },
  {
   "cell_type": "code",
   "execution_count": 13,
   "metadata": {},
   "outputs": [],
   "source": [
    "#tips = np.round(tips, precision)"
   ]
  },
  {
   "cell_type": "code",
   "execution_count": 14,
   "metadata": {},
   "outputs": [
    {
     "data": {
      "text/html": [
       "<div>\n",
       "<style scoped>\n",
       "    .dataframe tbody tr th:only-of-type {\n",
       "        vertical-align: middle;\n",
       "    }\n",
       "\n",
       "    .dataframe tbody tr th {\n",
       "        vertical-align: top;\n",
       "    }\n",
       "\n",
       "    .dataframe thead th {\n",
       "        text-align: right;\n",
       "    }\n",
       "</style>\n",
       "<table border=\"1\" class=\"dataframe\">\n",
       "  <thead>\n",
       "    <tr style=\"text-align: right;\">\n",
       "      <th></th>\n",
       "      <th>strain</th>\n",
       "      <th>timepoint</th>\n",
       "      <th>frequency</th>\n",
       "    </tr>\n",
       "  </thead>\n",
       "  <tbody>\n",
       "    <tr>\n",
       "      <th>3391</th>\n",
       "      <td>A/Aichi/113/2005</td>\n",
       "      <td>2005-10-01</td>\n",
       "      <td>0.0</td>\n",
       "    </tr>\n",
       "  </tbody>\n",
       "</table>\n",
       "</div>"
      ],
      "text/plain": [
       "                strain  timepoint  frequency\n",
       "3391  A/Aichi/113/2005 2005-10-01        0.0"
      ]
     },
     "execution_count": 14,
     "metadata": {},
     "output_type": "execute_result"
    }
   ],
   "source": [
    "np.round(tips.head(1), precision)"
   ]
  },
  {
   "cell_type": "code",
   "execution_count": 15,
   "metadata": {},
   "outputs": [
    {
     "data": {
      "text/plain": [
       "12139"
      ]
     },
     "execution_count": 15,
     "metadata": {},
     "output_type": "execute_result"
    }
   ],
   "source": [
    "(tips[\"frequency\"] > 0).sum()"
   ]
  },
  {
   "cell_type": "code",
   "execution_count": 16,
   "metadata": {},
   "outputs": [],
   "source": [
    "tips_to_clades = pd.read_csv(\"%s/tips_to_clades.tsv\" % data_root_full_tree, sep=\"\\t\",\n",
    "                             usecols=[\"tip\", \"clade_membership\", \"depth\"])"
   ]
  },
  {
   "cell_type": "code",
   "execution_count": 17,
   "metadata": {},
   "outputs": [],
   "source": [
    "tips_to_clades = tips_to_clades.rename(columns={\"tip\": \"strain\"})"
   ]
  },
  {
   "cell_type": "code",
   "execution_count": 18,
   "metadata": {},
   "outputs": [
    {
     "data": {
      "text/html": [
       "<div>\n",
       "<style scoped>\n",
       "    .dataframe tbody tr th:only-of-type {\n",
       "        vertical-align: middle;\n",
       "    }\n",
       "\n",
       "    .dataframe tbody tr th {\n",
       "        vertical-align: top;\n",
       "    }\n",
       "\n",
       "    .dataframe thead th {\n",
       "        text-align: right;\n",
       "    }\n",
       "</style>\n",
       "<table border=\"1\" class=\"dataframe\">\n",
       "  <thead>\n",
       "    <tr style=\"text-align: right;\">\n",
       "      <th></th>\n",
       "      <th>strain</th>\n",
       "      <th>clade_membership</th>\n",
       "      <th>depth</th>\n",
       "    </tr>\n",
       "  </thead>\n",
       "  <tbody>\n",
       "    <tr>\n",
       "      <th>0</th>\n",
       "      <td>A/HongKong/56/1994</td>\n",
       "      <td>b3aa7d8</td>\n",
       "      <td>0</td>\n",
       "    </tr>\n",
       "    <tr>\n",
       "      <th>1</th>\n",
       "      <td>A/HongKong/2/1994</td>\n",
       "      <td>19e1fb2</td>\n",
       "      <td>0</td>\n",
       "    </tr>\n",
       "    <tr>\n",
       "      <th>2</th>\n",
       "      <td>A/HongKong/2/1994</td>\n",
       "      <td>8e08f7f</td>\n",
       "      <td>2</td>\n",
       "    </tr>\n",
       "    <tr>\n",
       "      <th>3</th>\n",
       "      <td>A/HongKong/2/1994</td>\n",
       "      <td>b3aa7d8</td>\n",
       "      <td>3</td>\n",
       "    </tr>\n",
       "    <tr>\n",
       "      <th>4</th>\n",
       "      <td>A/Umea/1982/1992</td>\n",
       "      <td>bcf3094</td>\n",
       "      <td>0</td>\n",
       "    </tr>\n",
       "    <tr>\n",
       "      <th>5</th>\n",
       "      <td>A/Umea/1982/1992</td>\n",
       "      <td>19e1fb2</td>\n",
       "      <td>2</td>\n",
       "    </tr>\n",
       "    <tr>\n",
       "      <th>6</th>\n",
       "      <td>A/Umea/1982/1992</td>\n",
       "      <td>8e08f7f</td>\n",
       "      <td>3</td>\n",
       "    </tr>\n",
       "    <tr>\n",
       "      <th>7</th>\n",
       "      <td>A/Umea/1982/1992</td>\n",
       "      <td>b3aa7d8</td>\n",
       "      <td>4</td>\n",
       "    </tr>\n",
       "    <tr>\n",
       "      <th>8</th>\n",
       "      <td>A/Netherlands/165/1993</td>\n",
       "      <td>bcf3094</td>\n",
       "      <td>0</td>\n",
       "    </tr>\n",
       "    <tr>\n",
       "      <th>9</th>\n",
       "      <td>A/Netherlands/165/1993</td>\n",
       "      <td>19e1fb2</td>\n",
       "      <td>2</td>\n",
       "    </tr>\n",
       "    <tr>\n",
       "      <th>10</th>\n",
       "      <td>A/Netherlands/165/1993</td>\n",
       "      <td>8e08f7f</td>\n",
       "      <td>3</td>\n",
       "    </tr>\n",
       "    <tr>\n",
       "      <th>11</th>\n",
       "      <td>A/Netherlands/165/1993</td>\n",
       "      <td>b3aa7d8</td>\n",
       "      <td>4</td>\n",
       "    </tr>\n",
       "    <tr>\n",
       "      <th>12</th>\n",
       "      <td>A/Netherlands/126/1993</td>\n",
       "      <td>56aeb39</td>\n",
       "      <td>0</td>\n",
       "    </tr>\n",
       "    <tr>\n",
       "      <th>13</th>\n",
       "      <td>A/Netherlands/126/1993</td>\n",
       "      <td>8e08f7f</td>\n",
       "      <td>2</td>\n",
       "    </tr>\n",
       "    <tr>\n",
       "      <th>14</th>\n",
       "      <td>A/Netherlands/126/1993</td>\n",
       "      <td>b3aa7d8</td>\n",
       "      <td>3</td>\n",
       "    </tr>\n",
       "    <tr>\n",
       "      <th>15</th>\n",
       "      <td>A/NewYork/794/1993</td>\n",
       "      <td>65b3077</td>\n",
       "      <td>0</td>\n",
       "    </tr>\n",
       "    <tr>\n",
       "      <th>16</th>\n",
       "      <td>A/NewYork/794/1993</td>\n",
       "      <td>56aeb39</td>\n",
       "      <td>2</td>\n",
       "    </tr>\n",
       "    <tr>\n",
       "      <th>17</th>\n",
       "      <td>A/NewYork/794/1993</td>\n",
       "      <td>8e08f7f</td>\n",
       "      <td>3</td>\n",
       "    </tr>\n",
       "    <tr>\n",
       "      <th>18</th>\n",
       "      <td>A/NewYork/794/1993</td>\n",
       "      <td>b3aa7d8</td>\n",
       "      <td>4</td>\n",
       "    </tr>\n",
       "    <tr>\n",
       "      <th>19</th>\n",
       "      <td>A/NewYork/782/1993</td>\n",
       "      <td>65b3077</td>\n",
       "      <td>0</td>\n",
       "    </tr>\n",
       "  </tbody>\n",
       "</table>\n",
       "</div>"
      ],
      "text/plain": [
       "                    strain clade_membership  depth\n",
       "0       A/HongKong/56/1994          b3aa7d8      0\n",
       "1        A/HongKong/2/1994          19e1fb2      0\n",
       "2        A/HongKong/2/1994          8e08f7f      2\n",
       "3        A/HongKong/2/1994          b3aa7d8      3\n",
       "4         A/Umea/1982/1992          bcf3094      0\n",
       "5         A/Umea/1982/1992          19e1fb2      2\n",
       "6         A/Umea/1982/1992          8e08f7f      3\n",
       "7         A/Umea/1982/1992          b3aa7d8      4\n",
       "8   A/Netherlands/165/1993          bcf3094      0\n",
       "9   A/Netherlands/165/1993          19e1fb2      2\n",
       "10  A/Netherlands/165/1993          8e08f7f      3\n",
       "11  A/Netherlands/165/1993          b3aa7d8      4\n",
       "12  A/Netherlands/126/1993          56aeb39      0\n",
       "13  A/Netherlands/126/1993          8e08f7f      2\n",
       "14  A/Netherlands/126/1993          b3aa7d8      3\n",
       "15      A/NewYork/794/1993          65b3077      0\n",
       "16      A/NewYork/794/1993          56aeb39      2\n",
       "17      A/NewYork/794/1993          8e08f7f      3\n",
       "18      A/NewYork/794/1993          b3aa7d8      4\n",
       "19      A/NewYork/782/1993          65b3077      0"
      ]
     },
     "execution_count": 18,
     "metadata": {},
     "output_type": "execute_result"
    }
   ],
   "source": [
    "tips_to_clades.head(20)"
   ]
  },
  {
   "cell_type": "code",
   "execution_count": 19,
   "metadata": {},
   "outputs": [
    {
     "data": {
      "text/plain": [
       "(488505, 3)"
      ]
     },
     "execution_count": 19,
     "metadata": {},
     "output_type": "execute_result"
    }
   ],
   "source": [
    "tips_to_clades.shape"
   ]
  },
  {
   "cell_type": "code",
   "execution_count": 20,
   "metadata": {},
   "outputs": [],
   "source": [
    "forecasts = pd.read_csv(\n",
    "    \"%s/forecasts.tsv\" % data_root,\n",
    "    sep=\"\\t\",\n",
    "    parse_dates=[\"timepoint\"],\n",
    "    usecols=[\"timepoint\", \"strain\", \"frequency\", \"projected_frequency\"]\n",
    ")"
   ]
  },
  {
   "cell_type": "code",
   "execution_count": 21,
   "metadata": {},
   "outputs": [],
   "source": [
    "#forecasts = np.round(forecasts, precision)"
   ]
  },
  {
   "cell_type": "code",
   "execution_count": 22,
   "metadata": {},
   "outputs": [
    {
     "data": {
      "text/html": [
       "<div>\n",
       "<style scoped>\n",
       "    .dataframe tbody tr th:only-of-type {\n",
       "        vertical-align: middle;\n",
       "    }\n",
       "\n",
       "    .dataframe tbody tr th {\n",
       "        vertical-align: top;\n",
       "    }\n",
       "\n",
       "    .dataframe thead th {\n",
       "        text-align: right;\n",
       "    }\n",
       "</style>\n",
       "<table border=\"1\" class=\"dataframe\">\n",
       "  <thead>\n",
       "    <tr style=\"text-align: right;\">\n",
       "      <th></th>\n",
       "      <th>timepoint</th>\n",
       "      <th>strain</th>\n",
       "      <th>frequency</th>\n",
       "      <th>projected_frequency</th>\n",
       "    </tr>\n",
       "  </thead>\n",
       "  <tbody>\n",
       "    <tr>\n",
       "      <th>0</th>\n",
       "      <td>1998-10-01</td>\n",
       "      <td>A/Christchurch/45/1998</td>\n",
       "      <td>0.0314</td>\n",
       "      <td>0.0016</td>\n",
       "    </tr>\n",
       "  </tbody>\n",
       "</table>\n",
       "</div>"
      ],
      "text/plain": [
       "   timepoint                  strain  frequency  projected_frequency\n",
       "0 1998-10-01  A/Christchurch/45/1998     0.0314               0.0016"
      ]
     },
     "execution_count": 22,
     "metadata": {},
     "output_type": "execute_result"
    }
   ],
   "source": [
    "np.round(forecasts.head(1), 4)"
   ]
  },
  {
   "cell_type": "code",
   "execution_count": 23,
   "metadata": {},
   "outputs": [],
   "source": [
    "full_forecasts = pd.read_csv(\n",
    "    \"%s/forecasts.tsv\" % data_root,\n",
    "    sep=\"\\t\",\n",
    "    parse_dates=[\"timepoint\", \"future_timepoint\"]\n",
    ")"
   ]
  },
  {
   "cell_type": "code",
   "execution_count": 24,
   "metadata": {},
   "outputs": [],
   "source": [
    "full_forecasts = full_forecasts.query(\"timepoint >= '%s'\" % first_validation_timepoint).copy()"
   ]
  },
  {
   "cell_type": "code",
   "execution_count": 25,
   "metadata": {},
   "outputs": [],
   "source": [
    "#full_forecasts = np.round(full_forecasts, precision)"
   ]
  },
  {
   "cell_type": "code",
   "execution_count": 26,
   "metadata": {},
   "outputs": [
    {
     "data": {
      "text/html": [
       "<div>\n",
       "<style scoped>\n",
       "    .dataframe tbody tr th:only-of-type {\n",
       "        vertical-align: middle;\n",
       "    }\n",
       "\n",
       "    .dataframe tbody tr th {\n",
       "        vertical-align: top;\n",
       "    }\n",
       "\n",
       "    .dataframe thead th {\n",
       "        text-align: right;\n",
       "    }\n",
       "</style>\n",
       "<table border=\"1\" class=\"dataframe\">\n",
       "  <thead>\n",
       "    <tr style=\"text-align: right;\">\n",
       "      <th></th>\n",
       "      <th>timepoint</th>\n",
       "      <th>strain</th>\n",
       "      <th>frequency</th>\n",
       "      <th>weighted_distance_to_present</th>\n",
       "      <th>weighted_distance_to_future</th>\n",
       "      <th>fitness</th>\n",
       "      <th>projected_frequency</th>\n",
       "      <th>y</th>\n",
       "      <th>future_timepoint</th>\n",
       "    </tr>\n",
       "  </thead>\n",
       "  <tbody>\n",
       "    <tr>\n",
       "      <th>3391</th>\n",
       "      <td>2005-10-01</td>\n",
       "      <td>A/Aichi/113/2005</td>\n",
       "      <td>0.000032</td>\n",
       "      <td>6.269370</td>\n",
       "      <td>7.937148</td>\n",
       "      <td>0.762245</td>\n",
       "      <td>0.000010</td>\n",
       "      <td>5.606210</td>\n",
       "      <td>2006-10-01</td>\n",
       "    </tr>\n",
       "    <tr>\n",
       "      <th>3392</th>\n",
       "      <td>2005-10-01</td>\n",
       "      <td>A/Aichi/133/2005</td>\n",
       "      <td>0.000017</td>\n",
       "      <td>7.516969</td>\n",
       "      <td>9.232954</td>\n",
       "      <td>0.299436</td>\n",
       "      <td>0.000003</td>\n",
       "      <td>6.486119</td>\n",
       "      <td>2006-10-01</td>\n",
       "    </tr>\n",
       "    <tr>\n",
       "      <th>3393</th>\n",
       "      <td>2005-10-01</td>\n",
       "      <td>A/Aichi/145/2005</td>\n",
       "      <td>0.000138</td>\n",
       "      <td>7.253756</td>\n",
       "      <td>8.447406</td>\n",
       "      <td>0.543380</td>\n",
       "      <td>0.000034</td>\n",
       "      <td>6.597563</td>\n",
       "      <td>2006-10-01</td>\n",
       "    </tr>\n",
       "    <tr>\n",
       "      <th>3394</th>\n",
       "      <td>2005-10-01</td>\n",
       "      <td>A/Aichi/164/2005</td>\n",
       "      <td>0.000206</td>\n",
       "      <td>7.539313</td>\n",
       "      <td>9.279278</td>\n",
       "      <td>-1.979300</td>\n",
       "      <td>0.000004</td>\n",
       "      <td>6.488149</td>\n",
       "      <td>2006-10-01</td>\n",
       "    </tr>\n",
       "    <tr>\n",
       "      <th>3395</th>\n",
       "      <td>2005-10-01</td>\n",
       "      <td>A/Aichi/165/2005</td>\n",
       "      <td>0.001607</td>\n",
       "      <td>4.562649</td>\n",
       "      <td>4.605699</td>\n",
       "      <td>1.343866</td>\n",
       "      <td>0.000889</td>\n",
       "      <td>2.173264</td>\n",
       "      <td>2006-10-01</td>\n",
       "    </tr>\n",
       "  </tbody>\n",
       "</table>\n",
       "</div>"
      ],
      "text/plain": [
       "      timepoint            strain  frequency  weighted_distance_to_present  \\\n",
       "3391 2005-10-01  A/Aichi/113/2005   0.000032                      6.269370   \n",
       "3392 2005-10-01  A/Aichi/133/2005   0.000017                      7.516969   \n",
       "3393 2005-10-01  A/Aichi/145/2005   0.000138                      7.253756   \n",
       "3394 2005-10-01  A/Aichi/164/2005   0.000206                      7.539313   \n",
       "3395 2005-10-01  A/Aichi/165/2005   0.001607                      4.562649   \n",
       "\n",
       "      weighted_distance_to_future   fitness  projected_frequency         y  \\\n",
       "3391                     7.937148  0.762245             0.000010  5.606210   \n",
       "3392                     9.232954  0.299436             0.000003  6.486119   \n",
       "3393                     8.447406  0.543380             0.000034  6.597563   \n",
       "3394                     9.279278 -1.979300             0.000004  6.488149   \n",
       "3395                     4.605699  1.343866             0.000889  2.173264   \n",
       "\n",
       "     future_timepoint  \n",
       "3391       2006-10-01  \n",
       "3392       2006-10-01  \n",
       "3393       2006-10-01  \n",
       "3394       2006-10-01  \n",
       "3395       2006-10-01  "
      ]
     },
     "execution_count": 26,
     "metadata": {},
     "output_type": "execute_result"
    }
   ],
   "source": [
    "full_forecasts.head()"
   ]
  },
  {
   "cell_type": "markdown",
   "metadata": {},
   "source": [
    "## Find large clades\n",
    "\n",
    "Find all clades with an initial frequency some minimum value (e.g., >15%)."
   ]
  },
  {
   "cell_type": "code",
   "execution_count": 27,
   "metadata": {},
   "outputs": [
    {
     "data": {
      "text/html": [
       "<div>\n",
       "<style scoped>\n",
       "    .dataframe tbody tr th:only-of-type {\n",
       "        vertical-align: middle;\n",
       "    }\n",
       "\n",
       "    .dataframe tbody tr th {\n",
       "        vertical-align: top;\n",
       "    }\n",
       "\n",
       "    .dataframe thead th {\n",
       "        text-align: right;\n",
       "    }\n",
       "</style>\n",
       "<table border=\"1\" class=\"dataframe\">\n",
       "  <thead>\n",
       "    <tr style=\"text-align: right;\">\n",
       "      <th></th>\n",
       "      <th>strain</th>\n",
       "      <th>timepoint</th>\n",
       "      <th>frequency</th>\n",
       "    </tr>\n",
       "  </thead>\n",
       "  <tbody>\n",
       "    <tr>\n",
       "      <th>3391</th>\n",
       "      <td>A/Aichi/113/2005</td>\n",
       "      <td>2005-10-01</td>\n",
       "      <td>0.000032</td>\n",
       "    </tr>\n",
       "    <tr>\n",
       "      <th>3392</th>\n",
       "      <td>A/Aichi/133/2005</td>\n",
       "      <td>2005-10-01</td>\n",
       "      <td>0.000017</td>\n",
       "    </tr>\n",
       "    <tr>\n",
       "      <th>3393</th>\n",
       "      <td>A/Aichi/145/2005</td>\n",
       "      <td>2005-10-01</td>\n",
       "      <td>0.000138</td>\n",
       "    </tr>\n",
       "    <tr>\n",
       "      <th>3394</th>\n",
       "      <td>A/Aichi/164/2005</td>\n",
       "      <td>2005-10-01</td>\n",
       "      <td>0.000206</td>\n",
       "    </tr>\n",
       "    <tr>\n",
       "      <th>3395</th>\n",
       "      <td>A/Aichi/165/2005</td>\n",
       "      <td>2005-10-01</td>\n",
       "      <td>0.001607</td>\n",
       "    </tr>\n",
       "  </tbody>\n",
       "</table>\n",
       "</div>"
      ],
      "text/plain": [
       "                strain  timepoint  frequency\n",
       "3391  A/Aichi/113/2005 2005-10-01   0.000032\n",
       "3392  A/Aichi/133/2005 2005-10-01   0.000017\n",
       "3393  A/Aichi/145/2005 2005-10-01   0.000138\n",
       "3394  A/Aichi/164/2005 2005-10-01   0.000206\n",
       "3395  A/Aichi/165/2005 2005-10-01   0.001607"
      ]
     },
     "execution_count": 27,
     "metadata": {},
     "output_type": "execute_result"
    }
   ],
   "source": [
    "tips.head()"
   ]
  },
  {
   "cell_type": "code",
   "execution_count": 28,
   "metadata": {},
   "outputs": [],
   "source": [
    "clade_tip_initial_frequencies = tips_to_clades.merge(\n",
    "    tips,\n",
    "    on=[\"strain\"]\n",
    ")"
   ]
  },
  {
   "cell_type": "code",
   "execution_count": 29,
   "metadata": {},
   "outputs": [
    {
     "data": {
      "text/html": [
       "<div>\n",
       "<style scoped>\n",
       "    .dataframe tbody tr th:only-of-type {\n",
       "        vertical-align: middle;\n",
       "    }\n",
       "\n",
       "    .dataframe tbody tr th {\n",
       "        vertical-align: top;\n",
       "    }\n",
       "\n",
       "    .dataframe thead th {\n",
       "        text-align: right;\n",
       "    }\n",
       "</style>\n",
       "<table border=\"1\" class=\"dataframe\">\n",
       "  <thead>\n",
       "    <tr style=\"text-align: right;\">\n",
       "      <th></th>\n",
       "      <th>strain</th>\n",
       "      <th>clade_membership</th>\n",
       "      <th>depth</th>\n",
       "      <th>timepoint</th>\n",
       "      <th>frequency</th>\n",
       "    </tr>\n",
       "  </thead>\n",
       "  <tbody>\n",
       "    <tr>\n",
       "      <th>0</th>\n",
       "      <td>A/Illinois/9/2012</td>\n",
       "      <td>51b37c6</td>\n",
       "      <td>0</td>\n",
       "      <td>2012-10-01</td>\n",
       "      <td>0.003505</td>\n",
       "    </tr>\n",
       "    <tr>\n",
       "      <th>1</th>\n",
       "      <td>A/Illinois/9/2012</td>\n",
       "      <td>55aee48</td>\n",
       "      <td>3</td>\n",
       "      <td>2012-10-01</td>\n",
       "      <td>0.003505</td>\n",
       "    </tr>\n",
       "    <tr>\n",
       "      <th>2</th>\n",
       "      <td>A/Illinois/9/2012</td>\n",
       "      <td>763ba7c</td>\n",
       "      <td>5</td>\n",
       "      <td>2012-10-01</td>\n",
       "      <td>0.003505</td>\n",
       "    </tr>\n",
       "    <tr>\n",
       "      <th>3</th>\n",
       "      <td>A/Illinois/9/2012</td>\n",
       "      <td>7511705</td>\n",
       "      <td>6</td>\n",
       "      <td>2012-10-01</td>\n",
       "      <td>0.003505</td>\n",
       "    </tr>\n",
       "    <tr>\n",
       "      <th>4</th>\n",
       "      <td>A/Illinois/9/2012</td>\n",
       "      <td>02e323e</td>\n",
       "      <td>7</td>\n",
       "      <td>2012-10-01</td>\n",
       "      <td>0.003505</td>\n",
       "    </tr>\n",
       "  </tbody>\n",
       "</table>\n",
       "</div>"
      ],
      "text/plain": [
       "              strain clade_membership  depth  timepoint  frequency\n",
       "0  A/Illinois/9/2012          51b37c6      0 2012-10-01   0.003505\n",
       "1  A/Illinois/9/2012          55aee48      3 2012-10-01   0.003505\n",
       "2  A/Illinois/9/2012          763ba7c      5 2012-10-01   0.003505\n",
       "3  A/Illinois/9/2012          7511705      6 2012-10-01   0.003505\n",
       "4  A/Illinois/9/2012          02e323e      7 2012-10-01   0.003505"
      ]
     },
     "execution_count": 29,
     "metadata": {},
     "output_type": "execute_result"
    }
   ],
   "source": [
    "clade_tip_initial_frequencies.head()"
   ]
  },
  {
   "cell_type": "code",
   "execution_count": 30,
   "metadata": {},
   "outputs": [],
   "source": [
    "clade_tip_initial_frequencies[\"future_timepoint\"] = clade_tip_initial_frequencies[\"timepoint\"] + pd.DateOffset(months=12)"
   ]
  },
  {
   "cell_type": "code",
   "execution_count": 31,
   "metadata": {},
   "outputs": [
    {
     "data": {
      "text/html": [
       "<div>\n",
       "<style scoped>\n",
       "    .dataframe tbody tr th:only-of-type {\n",
       "        vertical-align: middle;\n",
       "    }\n",
       "\n",
       "    .dataframe tbody tr th {\n",
       "        vertical-align: top;\n",
       "    }\n",
       "\n",
       "    .dataframe thead th {\n",
       "        text-align: right;\n",
       "    }\n",
       "</style>\n",
       "<table border=\"1\" class=\"dataframe\">\n",
       "  <thead>\n",
       "    <tr style=\"text-align: right;\">\n",
       "      <th></th>\n",
       "      <th>strain</th>\n",
       "      <th>clade_membership</th>\n",
       "      <th>depth</th>\n",
       "      <th>timepoint</th>\n",
       "      <th>frequency</th>\n",
       "      <th>future_timepoint</th>\n",
       "    </tr>\n",
       "  </thead>\n",
       "  <tbody>\n",
       "    <tr>\n",
       "      <th>0</th>\n",
       "      <td>A/Illinois/9/2012</td>\n",
       "      <td>51b37c6</td>\n",
       "      <td>0</td>\n",
       "      <td>2012-10-01</td>\n",
       "      <td>0.003505</td>\n",
       "      <td>2013-10-01</td>\n",
       "    </tr>\n",
       "    <tr>\n",
       "      <th>1</th>\n",
       "      <td>A/Illinois/9/2012</td>\n",
       "      <td>55aee48</td>\n",
       "      <td>3</td>\n",
       "      <td>2012-10-01</td>\n",
       "      <td>0.003505</td>\n",
       "      <td>2013-10-01</td>\n",
       "    </tr>\n",
       "    <tr>\n",
       "      <th>2</th>\n",
       "      <td>A/Illinois/9/2012</td>\n",
       "      <td>763ba7c</td>\n",
       "      <td>5</td>\n",
       "      <td>2012-10-01</td>\n",
       "      <td>0.003505</td>\n",
       "      <td>2013-10-01</td>\n",
       "    </tr>\n",
       "    <tr>\n",
       "      <th>3</th>\n",
       "      <td>A/Illinois/9/2012</td>\n",
       "      <td>7511705</td>\n",
       "      <td>6</td>\n",
       "      <td>2012-10-01</td>\n",
       "      <td>0.003505</td>\n",
       "      <td>2013-10-01</td>\n",
       "    </tr>\n",
       "    <tr>\n",
       "      <th>4</th>\n",
       "      <td>A/Illinois/9/2012</td>\n",
       "      <td>02e323e</td>\n",
       "      <td>7</td>\n",
       "      <td>2012-10-01</td>\n",
       "      <td>0.003505</td>\n",
       "      <td>2013-10-01</td>\n",
       "    </tr>\n",
       "  </tbody>\n",
       "</table>\n",
       "</div>"
      ],
      "text/plain": [
       "              strain clade_membership  depth  timepoint  frequency  \\\n",
       "0  A/Illinois/9/2012          51b37c6      0 2012-10-01   0.003505   \n",
       "1  A/Illinois/9/2012          55aee48      3 2012-10-01   0.003505   \n",
       "2  A/Illinois/9/2012          763ba7c      5 2012-10-01   0.003505   \n",
       "3  A/Illinois/9/2012          7511705      6 2012-10-01   0.003505   \n",
       "4  A/Illinois/9/2012          02e323e      7 2012-10-01   0.003505   \n",
       "\n",
       "  future_timepoint  \n",
       "0       2013-10-01  \n",
       "1       2013-10-01  \n",
       "2       2013-10-01  \n",
       "3       2013-10-01  \n",
       "4       2013-10-01  "
      ]
     },
     "execution_count": 31,
     "metadata": {},
     "output_type": "execute_result"
    }
   ],
   "source": [
    "clade_tip_initial_frequencies.head()"
   ]
  },
  {
   "cell_type": "code",
   "execution_count": 32,
   "metadata": {},
   "outputs": [],
   "source": [
    "initial_clade_frequencies = clade_tip_initial_frequencies.groupby([\n",
    "    \"timepoint\", \"future_timepoint\", \"clade_membership\"\n",
    "])[\"frequency\"].sum().reset_index()"
   ]
  },
  {
   "cell_type": "code",
   "execution_count": 33,
   "metadata": {},
   "outputs": [
    {
     "data": {
      "text/html": [
       "<div>\n",
       "<style scoped>\n",
       "    .dataframe tbody tr th:only-of-type {\n",
       "        vertical-align: middle;\n",
       "    }\n",
       "\n",
       "    .dataframe tbody tr th {\n",
       "        vertical-align: top;\n",
       "    }\n",
       "\n",
       "    .dataframe thead th {\n",
       "        text-align: right;\n",
       "    }\n",
       "</style>\n",
       "<table border=\"1\" class=\"dataframe\">\n",
       "  <thead>\n",
       "    <tr style=\"text-align: right;\">\n",
       "      <th></th>\n",
       "      <th>timepoint</th>\n",
       "      <th>future_timepoint</th>\n",
       "      <th>clade_membership</th>\n",
       "      <th>frequency</th>\n",
       "    </tr>\n",
       "  </thead>\n",
       "  <tbody>\n",
       "    <tr>\n",
       "      <th>0</th>\n",
       "      <td>2005-10-01</td>\n",
       "      <td>2006-10-01</td>\n",
       "      <td>02e323e</td>\n",
       "      <td>0.999976</td>\n",
       "    </tr>\n",
       "    <tr>\n",
       "      <th>1</th>\n",
       "      <td>2005-10-01</td>\n",
       "      <td>2006-10-01</td>\n",
       "      <td>048f8ca</td>\n",
       "      <td>0.999976</td>\n",
       "    </tr>\n",
       "    <tr>\n",
       "      <th>2</th>\n",
       "      <td>2005-10-01</td>\n",
       "      <td>2006-10-01</td>\n",
       "      <td>054ca27</td>\n",
       "      <td>0.021212</td>\n",
       "    </tr>\n",
       "    <tr>\n",
       "      <th>3</th>\n",
       "      <td>2005-10-01</td>\n",
       "      <td>2006-10-01</td>\n",
       "      <td>058a85c</td>\n",
       "      <td>0.004405</td>\n",
       "    </tr>\n",
       "    <tr>\n",
       "      <th>4</th>\n",
       "      <td>2005-10-01</td>\n",
       "      <td>2006-10-01</td>\n",
       "      <td>05a6dc1</td>\n",
       "      <td>0.021212</td>\n",
       "    </tr>\n",
       "  </tbody>\n",
       "</table>\n",
       "</div>"
      ],
      "text/plain": [
       "   timepoint future_timepoint clade_membership  frequency\n",
       "0 2005-10-01       2006-10-01          02e323e   0.999976\n",
       "1 2005-10-01       2006-10-01          048f8ca   0.999976\n",
       "2 2005-10-01       2006-10-01          054ca27   0.021212\n",
       "3 2005-10-01       2006-10-01          058a85c   0.004405\n",
       "4 2005-10-01       2006-10-01          05a6dc1   0.021212"
      ]
     },
     "execution_count": 33,
     "metadata": {},
     "output_type": "execute_result"
    }
   ],
   "source": [
    "initial_clade_frequencies.head()"
   ]
  },
  {
   "cell_type": "code",
   "execution_count": 34,
   "metadata": {},
   "outputs": [
    {
     "data": {
      "text/html": [
       "<div>\n",
       "<style scoped>\n",
       "    .dataframe tbody tr th:only-of-type {\n",
       "        vertical-align: middle;\n",
       "    }\n",
       "\n",
       "    .dataframe tbody tr th {\n",
       "        vertical-align: top;\n",
       "    }\n",
       "\n",
       "    .dataframe thead th {\n",
       "        text-align: right;\n",
       "    }\n",
       "</style>\n",
       "<table border=\"1\" class=\"dataframe\">\n",
       "  <thead>\n",
       "    <tr style=\"text-align: right;\">\n",
       "      <th></th>\n",
       "      <th>timepoint</th>\n",
       "      <th>future_timepoint</th>\n",
       "      <th>clade_membership</th>\n",
       "      <th>frequency</th>\n",
       "    </tr>\n",
       "  </thead>\n",
       "  <tbody>\n",
       "    <tr>\n",
       "      <th>72</th>\n",
       "      <td>2005-10-01</td>\n",
       "      <td>2006-10-01</td>\n",
       "      <td>8517059</td>\n",
       "      <td>0.016044</td>\n",
       "    </tr>\n",
       "    <tr>\n",
       "      <th>226</th>\n",
       "      <td>2006-04-01</td>\n",
       "      <td>2007-04-01</td>\n",
       "      <td>8517059</td>\n",
       "      <td>0.304336</td>\n",
       "    </tr>\n",
       "    <tr>\n",
       "      <th>369</th>\n",
       "      <td>2006-10-01</td>\n",
       "      <td>2007-10-01</td>\n",
       "      <td>8517059</td>\n",
       "      <td>0.266351</td>\n",
       "    </tr>\n",
       "    <tr>\n",
       "      <th>509</th>\n",
       "      <td>2007-04-01</td>\n",
       "      <td>2008-04-01</td>\n",
       "      <td>8517059</td>\n",
       "      <td>0.003662</td>\n",
       "    </tr>\n",
       "    <tr>\n",
       "      <th>658</th>\n",
       "      <td>2007-10-01</td>\n",
       "      <td>2008-10-01</td>\n",
       "      <td>8517059</td>\n",
       "      <td>0.000286</td>\n",
       "    </tr>\n",
       "  </tbody>\n",
       "</table>\n",
       "</div>"
      ],
      "text/plain": [
       "     timepoint future_timepoint clade_membership  frequency\n",
       "72  2005-10-01       2006-10-01          8517059   0.016044\n",
       "226 2006-04-01       2007-04-01          8517059   0.304336\n",
       "369 2006-10-01       2007-10-01          8517059   0.266351\n",
       "509 2007-04-01       2008-04-01          8517059   0.003662\n",
       "658 2007-10-01       2008-10-01          8517059   0.000286"
      ]
     },
     "execution_count": 34,
     "metadata": {},
     "output_type": "execute_result"
    }
   ],
   "source": [
    "initial_clade_frequencies.query(\"clade_membership == '8517059'\")"
   ]
  },
  {
   "cell_type": "markdown",
   "metadata": {},
   "source": [
    "Merge clade frequencies between adjacent years."
   ]
  },
  {
   "cell_type": "code",
   "execution_count": 35,
   "metadata": {},
   "outputs": [],
   "source": [
    "initial_and_observed_clade_frequencies = initial_clade_frequencies.merge(\n",
    "    initial_clade_frequencies,\n",
    "    left_on=[\"future_timepoint\", \"clade_membership\"],\n",
    "    right_on=[\"timepoint\", \"clade_membership\"],\n",
    "    suffixes=[\"\", \"_final\"]\n",
    ").groupby([\"timepoint\", \"clade_membership\", \"frequency\"])[\"frequency_final\"].sum().reset_index()"
   ]
  },
  {
   "cell_type": "code",
   "execution_count": 36,
   "metadata": {},
   "outputs": [
    {
     "data": {
      "text/html": [
       "<div>\n",
       "<style scoped>\n",
       "    .dataframe tbody tr th:only-of-type {\n",
       "        vertical-align: middle;\n",
       "    }\n",
       "\n",
       "    .dataframe tbody tr th {\n",
       "        vertical-align: top;\n",
       "    }\n",
       "\n",
       "    .dataframe thead th {\n",
       "        text-align: right;\n",
       "    }\n",
       "</style>\n",
       "<table border=\"1\" class=\"dataframe\">\n",
       "  <thead>\n",
       "    <tr style=\"text-align: right;\">\n",
       "      <th></th>\n",
       "      <th>timepoint</th>\n",
       "      <th>clade_membership</th>\n",
       "      <th>frequency</th>\n",
       "      <th>frequency_final</th>\n",
       "    </tr>\n",
       "  </thead>\n",
       "  <tbody>\n",
       "    <tr>\n",
       "      <th>0</th>\n",
       "      <td>2005-10-01</td>\n",
       "      <td>02e323e</td>\n",
       "      <td>0.999976</td>\n",
       "      <td>1.000002</td>\n",
       "    </tr>\n",
       "    <tr>\n",
       "      <th>1</th>\n",
       "      <td>2005-10-01</td>\n",
       "      <td>048f8ca</td>\n",
       "      <td>0.999976</td>\n",
       "      <td>1.000002</td>\n",
       "    </tr>\n",
       "    <tr>\n",
       "      <th>2</th>\n",
       "      <td>2005-10-01</td>\n",
       "      <td>09e68a2</td>\n",
       "      <td>0.999976</td>\n",
       "      <td>1.000002</td>\n",
       "    </tr>\n",
       "    <tr>\n",
       "      <th>3</th>\n",
       "      <td>2005-10-01</td>\n",
       "      <td>1518fdb</td>\n",
       "      <td>0.000090</td>\n",
       "      <td>0.148332</td>\n",
       "    </tr>\n",
       "    <tr>\n",
       "      <th>4</th>\n",
       "      <td>2005-10-01</td>\n",
       "      <td>1d65d84</td>\n",
       "      <td>0.005592</td>\n",
       "      <td>0.000108</td>\n",
       "    </tr>\n",
       "  </tbody>\n",
       "</table>\n",
       "</div>"
      ],
      "text/plain": [
       "   timepoint clade_membership  frequency  frequency_final\n",
       "0 2005-10-01          02e323e   0.999976         1.000002\n",
       "1 2005-10-01          048f8ca   0.999976         1.000002\n",
       "2 2005-10-01          09e68a2   0.999976         1.000002\n",
       "3 2005-10-01          1518fdb   0.000090         0.148332\n",
       "4 2005-10-01          1d65d84   0.005592         0.000108"
      ]
     },
     "execution_count": 36,
     "metadata": {},
     "output_type": "execute_result"
    }
   ],
   "source": [
    "initial_and_observed_clade_frequencies.head()"
   ]
  },
  {
   "cell_type": "code",
   "execution_count": 37,
   "metadata": {},
   "outputs": [
    {
     "data": {
      "text/html": [
       "<div>\n",
       "<style scoped>\n",
       "    .dataframe tbody tr th:only-of-type {\n",
       "        vertical-align: middle;\n",
       "    }\n",
       "\n",
       "    .dataframe tbody tr th {\n",
       "        vertical-align: top;\n",
       "    }\n",
       "\n",
       "    .dataframe thead th {\n",
       "        text-align: right;\n",
       "    }\n",
       "</style>\n",
       "<table border=\"1\" class=\"dataframe\">\n",
       "  <thead>\n",
       "    <tr style=\"text-align: right;\">\n",
       "      <th></th>\n",
       "      <th>timepoint</th>\n",
       "      <th>clade_membership</th>\n",
       "      <th>frequency</th>\n",
       "      <th>frequency_final</th>\n",
       "    </tr>\n",
       "  </thead>\n",
       "  <tbody>\n",
       "  </tbody>\n",
       "</table>\n",
       "</div>"
      ],
      "text/plain": [
       "Empty DataFrame\n",
       "Columns: [timepoint, clade_membership, frequency, frequency_final]\n",
       "Index: []"
      ]
     },
     "execution_count": 37,
     "metadata": {},
     "output_type": "execute_result"
    }
   ],
   "source": [
    "initial_and_observed_clade_frequencies.query(\"clade_membership == 'cb64469'\")"
   ]
  },
  {
   "cell_type": "markdown",
   "metadata": {},
   "source": [
    "Select clades with an initial frequency >15%."
   ]
  },
  {
   "cell_type": "code",
   "execution_count": 38,
   "metadata": {},
   "outputs": [],
   "source": [
    "large_clades = initial_and_observed_clade_frequencies.query(\"frequency > %s\" % min_clade_frequency).copy()"
   ]
  },
  {
   "cell_type": "code",
   "execution_count": 39,
   "metadata": {},
   "outputs": [
    {
     "data": {
      "text/html": [
       "<div>\n",
       "<style scoped>\n",
       "    .dataframe tbody tr th:only-of-type {\n",
       "        vertical-align: middle;\n",
       "    }\n",
       "\n",
       "    .dataframe tbody tr th {\n",
       "        vertical-align: top;\n",
       "    }\n",
       "\n",
       "    .dataframe thead th {\n",
       "        text-align: right;\n",
       "    }\n",
       "</style>\n",
       "<table border=\"1\" class=\"dataframe\">\n",
       "  <thead>\n",
       "    <tr style=\"text-align: right;\">\n",
       "      <th></th>\n",
       "      <th>timepoint</th>\n",
       "      <th>clade_membership</th>\n",
       "      <th>frequency</th>\n",
       "      <th>frequency_final</th>\n",
       "    </tr>\n",
       "  </thead>\n",
       "  <tbody>\n",
       "    <tr>\n",
       "      <th>0</th>\n",
       "      <td>2005-10-01</td>\n",
       "      <td>02e323e</td>\n",
       "      <td>0.999976</td>\n",
       "      <td>1.000002</td>\n",
       "    </tr>\n",
       "    <tr>\n",
       "      <th>1</th>\n",
       "      <td>2005-10-01</td>\n",
       "      <td>048f8ca</td>\n",
       "      <td>0.999976</td>\n",
       "      <td>1.000002</td>\n",
       "    </tr>\n",
       "    <tr>\n",
       "      <th>2</th>\n",
       "      <td>2005-10-01</td>\n",
       "      <td>09e68a2</td>\n",
       "      <td>0.999976</td>\n",
       "      <td>1.000002</td>\n",
       "    </tr>\n",
       "    <tr>\n",
       "      <th>5</th>\n",
       "      <td>2005-10-01</td>\n",
       "      <td>26f855a</td>\n",
       "      <td>0.572141</td>\n",
       "      <td>0.946808</td>\n",
       "    </tr>\n",
       "    <tr>\n",
       "      <th>6</th>\n",
       "      <td>2005-10-01</td>\n",
       "      <td>2806112</td>\n",
       "      <td>0.231124</td>\n",
       "      <td>0.001333</td>\n",
       "    </tr>\n",
       "  </tbody>\n",
       "</table>\n",
       "</div>"
      ],
      "text/plain": [
       "   timepoint clade_membership  frequency  frequency_final\n",
       "0 2005-10-01          02e323e   0.999976         1.000002\n",
       "1 2005-10-01          048f8ca   0.999976         1.000002\n",
       "2 2005-10-01          09e68a2   0.999976         1.000002\n",
       "5 2005-10-01          26f855a   0.572141         0.946808\n",
       "6 2005-10-01          2806112   0.231124         0.001333"
      ]
     },
     "execution_count": 39,
     "metadata": {},
     "output_type": "execute_result"
    }
   ],
   "source": [
    "large_clades.head()"
   ]
  },
  {
   "cell_type": "code",
   "execution_count": 40,
   "metadata": {},
   "outputs": [
    {
     "data": {
      "text/html": [
       "<div>\n",
       "<style scoped>\n",
       "    .dataframe tbody tr th:only-of-type {\n",
       "        vertical-align: middle;\n",
       "    }\n",
       "\n",
       "    .dataframe tbody tr th {\n",
       "        vertical-align: top;\n",
       "    }\n",
       "\n",
       "    .dataframe thead th {\n",
       "        text-align: right;\n",
       "    }\n",
       "</style>\n",
       "<table border=\"1\" class=\"dataframe\">\n",
       "  <thead>\n",
       "    <tr style=\"text-align: right;\">\n",
       "      <th></th>\n",
       "      <th>timepoint</th>\n",
       "      <th>clade_membership</th>\n",
       "      <th>frequency</th>\n",
       "      <th>frequency_final</th>\n",
       "    </tr>\n",
       "  </thead>\n",
       "  <tbody>\n",
       "    <tr>\n",
       "      <th>1295</th>\n",
       "      <td>2014-10-01</td>\n",
       "      <td>e64cc68</td>\n",
       "      <td>0.999987</td>\n",
       "      <td>0.999997</td>\n",
       "    </tr>\n",
       "    <tr>\n",
       "      <th>1297</th>\n",
       "      <td>2014-10-01</td>\n",
       "      <td>ea08d9e</td>\n",
       "      <td>0.230692</td>\n",
       "      <td>0.885642</td>\n",
       "    </tr>\n",
       "    <tr>\n",
       "      <th>1298</th>\n",
       "      <td>2014-10-01</td>\n",
       "      <td>ecf49fd</td>\n",
       "      <td>0.999987</td>\n",
       "      <td>0.999997</td>\n",
       "    </tr>\n",
       "    <tr>\n",
       "      <th>1300</th>\n",
       "      <td>2014-10-01</td>\n",
       "      <td>f2ec31a</td>\n",
       "      <td>0.999987</td>\n",
       "      <td>0.999997</td>\n",
       "    </tr>\n",
       "    <tr>\n",
       "      <th>1301</th>\n",
       "      <td>2014-10-01</td>\n",
       "      <td>f3f16af</td>\n",
       "      <td>0.999987</td>\n",
       "      <td>0.999997</td>\n",
       "    </tr>\n",
       "  </tbody>\n",
       "</table>\n",
       "</div>"
      ],
      "text/plain": [
       "      timepoint clade_membership  frequency  frequency_final\n",
       "1295 2014-10-01          e64cc68   0.999987         0.999997\n",
       "1297 2014-10-01          ea08d9e   0.230692         0.885642\n",
       "1298 2014-10-01          ecf49fd   0.999987         0.999997\n",
       "1300 2014-10-01          f2ec31a   0.999987         0.999997\n",
       "1301 2014-10-01          f3f16af   0.999987         0.999997"
      ]
     },
     "execution_count": 40,
     "metadata": {},
     "output_type": "execute_result"
    }
   ],
   "source": [
    "large_clades.tail()"
   ]
  },
  {
   "cell_type": "code",
   "execution_count": 41,
   "metadata": {},
   "outputs": [
    {
     "data": {
      "text/plain": [
       "(784, 4)"
      ]
     },
     "execution_count": 41,
     "metadata": {},
     "output_type": "execute_result"
    }
   ],
   "source": [
    "large_clades.shape"
   ]
  },
  {
   "cell_type": "markdown",
   "metadata": {},
   "source": [
    "## Find estimated future frequencies of large clades\n",
    "\n",
    "Use the true fitness metric for forecasts."
   ]
  },
  {
   "cell_type": "code",
   "execution_count": 42,
   "metadata": {},
   "outputs": [],
   "source": [
    "clade_tip_estimated_frequencies = tips_to_clades.merge(\n",
    "    forecasts,\n",
    "    on=[\"strain\"]\n",
    ")"
   ]
  },
  {
   "cell_type": "code",
   "execution_count": 43,
   "metadata": {},
   "outputs": [
    {
     "data": {
      "text/html": [
       "<div>\n",
       "<style scoped>\n",
       "    .dataframe tbody tr th:only-of-type {\n",
       "        vertical-align: middle;\n",
       "    }\n",
       "\n",
       "    .dataframe tbody tr th {\n",
       "        vertical-align: top;\n",
       "    }\n",
       "\n",
       "    .dataframe thead th {\n",
       "        text-align: right;\n",
       "    }\n",
       "</style>\n",
       "<table border=\"1\" class=\"dataframe\">\n",
       "  <thead>\n",
       "    <tr style=\"text-align: right;\">\n",
       "      <th></th>\n",
       "      <th>strain</th>\n",
       "      <th>clade_membership</th>\n",
       "      <th>depth</th>\n",
       "      <th>timepoint</th>\n",
       "      <th>frequency</th>\n",
       "      <th>projected_frequency</th>\n",
       "    </tr>\n",
       "  </thead>\n",
       "  <tbody>\n",
       "    <tr>\n",
       "      <th>0</th>\n",
       "      <td>A/Kyongbuk/304/2002</td>\n",
       "      <td>5d540d1</td>\n",
       "      <td>0</td>\n",
       "      <td>2003-04-01</td>\n",
       "      <td>0.000553</td>\n",
       "      <td>0.000321</td>\n",
       "    </tr>\n",
       "    <tr>\n",
       "      <th>1</th>\n",
       "      <td>A/Kyongbuk/304/2002</td>\n",
       "      <td>02e323e</td>\n",
       "      <td>2</td>\n",
       "      <td>2003-04-01</td>\n",
       "      <td>0.000553</td>\n",
       "      <td>0.000321</td>\n",
       "    </tr>\n",
       "    <tr>\n",
       "      <th>2</th>\n",
       "      <td>A/Kyongbuk/304/2002</td>\n",
       "      <td>35491c6</td>\n",
       "      <td>10</td>\n",
       "      <td>2003-04-01</td>\n",
       "      <td>0.000553</td>\n",
       "      <td>0.000321</td>\n",
       "    </tr>\n",
       "    <tr>\n",
       "      <th>3</th>\n",
       "      <td>A/Kyongbuk/304/2002</td>\n",
       "      <td>b3aa7d8</td>\n",
       "      <td>12</td>\n",
       "      <td>2003-04-01</td>\n",
       "      <td>0.000553</td>\n",
       "      <td>0.000321</td>\n",
       "    </tr>\n",
       "    <tr>\n",
       "      <th>4</th>\n",
       "      <td>A/Chongqing/3/1999</td>\n",
       "      <td>ded8857</td>\n",
       "      <td>0</td>\n",
       "      <td>1999-04-01</td>\n",
       "      <td>0.008659</td>\n",
       "      <td>0.000294</td>\n",
       "    </tr>\n",
       "  </tbody>\n",
       "</table>\n",
       "</div>"
      ],
      "text/plain": [
       "                strain clade_membership  depth  timepoint  frequency  \\\n",
       "0  A/Kyongbuk/304/2002          5d540d1      0 2003-04-01   0.000553   \n",
       "1  A/Kyongbuk/304/2002          02e323e      2 2003-04-01   0.000553   \n",
       "2  A/Kyongbuk/304/2002          35491c6     10 2003-04-01   0.000553   \n",
       "3  A/Kyongbuk/304/2002          b3aa7d8     12 2003-04-01   0.000553   \n",
       "4   A/Chongqing/3/1999          ded8857      0 1999-04-01   0.008659   \n",
       "\n",
       "   projected_frequency  \n",
       "0             0.000321  \n",
       "1             0.000321  \n",
       "2             0.000321  \n",
       "3             0.000321  \n",
       "4             0.000294  "
      ]
     },
     "execution_count": 43,
     "metadata": {},
     "output_type": "execute_result"
    }
   ],
   "source": [
    "clade_tip_estimated_frequencies.head()"
   ]
  },
  {
   "cell_type": "code",
   "execution_count": 44,
   "metadata": {},
   "outputs": [],
   "source": [
    "estimated_clade_frequencies = clade_tip_estimated_frequencies.groupby(\n",
    "    [\"timepoint\", \"clade_membership\"]\n",
    ").aggregate({\"projected_frequency\": \"sum\"}).reset_index()"
   ]
  },
  {
   "cell_type": "code",
   "execution_count": 45,
   "metadata": {},
   "outputs": [
    {
     "data": {
      "text/html": [
       "<div>\n",
       "<style scoped>\n",
       "    .dataframe tbody tr th:only-of-type {\n",
       "        vertical-align: middle;\n",
       "    }\n",
       "\n",
       "    .dataframe tbody tr th {\n",
       "        vertical-align: top;\n",
       "    }\n",
       "\n",
       "    .dataframe thead th {\n",
       "        text-align: right;\n",
       "    }\n",
       "</style>\n",
       "<table border=\"1\" class=\"dataframe\">\n",
       "  <thead>\n",
       "    <tr style=\"text-align: right;\">\n",
       "      <th></th>\n",
       "      <th>timepoint</th>\n",
       "      <th>clade_membership</th>\n",
       "      <th>projected_frequency</th>\n",
       "    </tr>\n",
       "  </thead>\n",
       "  <tbody>\n",
       "    <tr>\n",
       "      <th>0</th>\n",
       "      <td>1998-10-01</td>\n",
       "      <td>029a558</td>\n",
       "      <td>0.001095</td>\n",
       "    </tr>\n",
       "    <tr>\n",
       "      <th>1</th>\n",
       "      <td>1998-10-01</td>\n",
       "      <td>02cc04f</td>\n",
       "      <td>0.122495</td>\n",
       "    </tr>\n",
       "    <tr>\n",
       "      <th>2</th>\n",
       "      <td>1998-10-01</td>\n",
       "      <td>02e323e</td>\n",
       "      <td>1.000000</td>\n",
       "    </tr>\n",
       "    <tr>\n",
       "      <th>3</th>\n",
       "      <td>1998-10-01</td>\n",
       "      <td>048f8ca</td>\n",
       "      <td>0.001728</td>\n",
       "    </tr>\n",
       "    <tr>\n",
       "      <th>4</th>\n",
       "      <td>1998-10-01</td>\n",
       "      <td>09e68a2</td>\n",
       "      <td>0.993146</td>\n",
       "    </tr>\n",
       "  </tbody>\n",
       "</table>\n",
       "</div>"
      ],
      "text/plain": [
       "   timepoint clade_membership  projected_frequency\n",
       "0 1998-10-01          029a558             0.001095\n",
       "1 1998-10-01          02cc04f             0.122495\n",
       "2 1998-10-01          02e323e             1.000000\n",
       "3 1998-10-01          048f8ca             0.001728\n",
       "4 1998-10-01          09e68a2             0.993146"
      ]
     },
     "execution_count": 45,
     "metadata": {},
     "output_type": "execute_result"
    }
   ],
   "source": [
    "estimated_clade_frequencies.head()"
   ]
  },
  {
   "cell_type": "code",
   "execution_count": 46,
   "metadata": {},
   "outputs": [],
   "source": [
    "complete_clade_frequencies = large_clades.merge(\n",
    "    estimated_clade_frequencies,\n",
    "    on=[\"timepoint\", \"clade_membership\"],\n",
    "    suffixes=[\"\", \"_other\"]\n",
    ")"
   ]
  },
  {
   "cell_type": "code",
   "execution_count": 47,
   "metadata": {},
   "outputs": [],
   "source": [
    "complete_clade_frequencies = np.round(complete_clade_frequencies, 2)"
   ]
  },
  {
   "cell_type": "code",
   "execution_count": 48,
   "metadata": {},
   "outputs": [],
   "source": [
    "complete_clade_frequencies = complete_clade_frequencies.query(\"frequency != frequency_final\").copy()"
   ]
  },
  {
   "cell_type": "code",
   "execution_count": 49,
   "metadata": {},
   "outputs": [
    {
     "data": {
      "text/plain": [
       "(161, 5)"
      ]
     },
     "execution_count": 49,
     "metadata": {},
     "output_type": "execute_result"
    }
   ],
   "source": [
    "complete_clade_frequencies.shape"
   ]
  },
  {
   "cell_type": "code",
   "execution_count": 50,
   "metadata": {},
   "outputs": [],
   "source": [
    "complete_clade_frequencies[\"observed_growth_rate\"] = (\n",
    "    complete_clade_frequencies[\"frequency_final\"] / complete_clade_frequencies[\"frequency\"]\n",
    ")"
   ]
  },
  {
   "cell_type": "code",
   "execution_count": 51,
   "metadata": {},
   "outputs": [],
   "source": [
    "complete_clade_frequencies[\"estimated_growth_rate\"] = (\n",
    "    complete_clade_frequencies[\"projected_frequency\"] / complete_clade_frequencies[\"frequency\"]\n",
    ")"
   ]
  },
  {
   "cell_type": "code",
   "execution_count": 52,
   "metadata": {},
   "outputs": [
    {
     "data": {
      "application/vnd.vegalite.v3+json": {
       "$schema": "https://vega.github.io/schema/vega-lite/v3.3.0.json",
       "config": {
        "mark": {
         "tooltip": null
        },
        "view": {
         "height": 300,
         "width": 400
        }
       },
       "data": {
        "name": "data-aa79b85c995b8796caf7b4adfb6cc966"
       },
       "datasets": {
        "data-aa79b85c995b8796caf7b4adfb6cc966": [
         {
          "clade_membership": "26f855a",
          "estimated_growth_rate": 1.456140350877193,
          "frequency": 0.57,
          "frequency_final": 0.95,
          "observed_growth_rate": 1.6666666666666667,
          "projected_frequency": 0.83,
          "timepoint": "2005-10-01T00:00:00"
         },
         {
          "clade_membership": "2806112",
          "estimated_growth_rate": 0.6086956521739131,
          "frequency": 0.23,
          "frequency_final": 0,
          "observed_growth_rate": 0,
          "projected_frequency": 0.14,
          "timepoint": "2005-10-01T00:00:00"
         },
         {
          "clade_membership": "3a81d99",
          "estimated_growth_rate": 1.0204081632653061,
          "frequency": 0.98,
          "frequency_final": 1,
          "observed_growth_rate": 1.0204081632653061,
          "projected_frequency": 1,
          "timepoint": "2005-10-01T00:00:00"
         },
         {
          "clade_membership": "412c00a",
          "estimated_growth_rate": 1.0204081632653061,
          "frequency": 0.98,
          "frequency_final": 1,
          "observed_growth_rate": 1.0204081632653061,
          "projected_frequency": 1,
          "timepoint": "2005-10-01T00:00:00"
         },
         {
          "clade_membership": "44989e1",
          "estimated_growth_rate": 1.0309278350515465,
          "frequency": 0.97,
          "frequency_final": 1,
          "observed_growth_rate": 1.0309278350515465,
          "projected_frequency": 1,
          "timepoint": "2005-10-01T00:00:00"
         },
         {
          "clade_membership": "4952842",
          "estimated_growth_rate": 1.0204081632653061,
          "frequency": 0.98,
          "frequency_final": 1,
          "observed_growth_rate": 1.0204081632653061,
          "projected_frequency": 1,
          "timepoint": "2005-10-01T00:00:00"
         },
         {
          "clade_membership": "4e35443",
          "estimated_growth_rate": 1.0204081632653061,
          "frequency": 0.98,
          "frequency_final": 1,
          "observed_growth_rate": 1.0204081632653061,
          "projected_frequency": 1,
          "timepoint": "2005-10-01T00:00:00"
         },
         {
          "clade_membership": "4ff1302",
          "estimated_growth_rate": 1.0204081632653061,
          "frequency": 0.98,
          "frequency_final": 1,
          "observed_growth_rate": 1.0204081632653061,
          "projected_frequency": 1,
          "timepoint": "2005-10-01T00:00:00"
         },
         {
          "clade_membership": "543686e",
          "estimated_growth_rate": 1.0204081632653061,
          "frequency": 0.98,
          "frequency_final": 1,
          "observed_growth_rate": 1.0204081632653061,
          "projected_frequency": 1,
          "timepoint": "2005-10-01T00:00:00"
         },
         {
          "clade_membership": "5ce45ae",
          "estimated_growth_rate": 0.5769230769230769,
          "frequency": 0.26,
          "frequency_final": 0.03,
          "observed_growth_rate": 0.11538461538461538,
          "projected_frequency": 0.15,
          "timepoint": "2005-10-01T00:00:00"
         },
         {
          "clade_membership": "6a436ac",
          "estimated_growth_rate": 0.7000000000000001,
          "frequency": 0.2,
          "frequency_final": 0,
          "observed_growth_rate": 0,
          "projected_frequency": 0.14,
          "timepoint": "2005-10-01T00:00:00"
         },
         {
          "clade_membership": "7aa732d",
          "estimated_growth_rate": 1.0531914893617023,
          "frequency": 0.94,
          "frequency_final": 1,
          "observed_growth_rate": 1.0638297872340425,
          "projected_frequency": 0.99,
          "timepoint": "2005-10-01T00:00:00"
         },
         {
          "clade_membership": "8386d16",
          "estimated_growth_rate": 1.0204081632653061,
          "frequency": 0.98,
          "frequency_final": 1,
          "observed_growth_rate": 1.0204081632653061,
          "projected_frequency": 1,
          "timepoint": "2005-10-01T00:00:00"
         },
         {
          "clade_membership": "9a3ff5d",
          "estimated_growth_rate": 1.0204081632653061,
          "frequency": 0.98,
          "frequency_final": 1,
          "observed_growth_rate": 1.0204081632653061,
          "projected_frequency": 1,
          "timepoint": "2005-10-01T00:00:00"
         },
         {
          "clade_membership": "9b04f13",
          "estimated_growth_rate": 1.482142857142857,
          "frequency": 0.56,
          "frequency_final": 0.95,
          "observed_growth_rate": 1.6964285714285712,
          "projected_frequency": 0.83,
          "timepoint": "2005-10-01T00:00:00"
         },
         {
          "clade_membership": "a5bcb4f",
          "estimated_growth_rate": 1.0204081632653061,
          "frequency": 0.98,
          "frequency_final": 1,
          "observed_growth_rate": 1.0204081632653061,
          "projected_frequency": 1,
          "timepoint": "2005-10-01T00:00:00"
         },
         {
          "clade_membership": "aab80f6",
          "estimated_growth_rate": 1.0204081632653061,
          "frequency": 0.98,
          "frequency_final": 1,
          "observed_growth_rate": 1.0204081632653061,
          "projected_frequency": 1,
          "timepoint": "2005-10-01T00:00:00"
         },
         {
          "clade_membership": "b32cea9",
          "estimated_growth_rate": 1.0204081632653061,
          "frequency": 0.98,
          "frequency_final": 1,
          "observed_growth_rate": 1.0204081632653061,
          "projected_frequency": 1,
          "timepoint": "2005-10-01T00:00:00"
         },
         {
          "clade_membership": "d8ea4e1",
          "estimated_growth_rate": 0.5769230769230769,
          "frequency": 0.26,
          "frequency_final": 0.05,
          "observed_growth_rate": 0.19230769230769232,
          "projected_frequency": 0.15,
          "timepoint": "2005-10-01T00:00:00"
         },
         {
          "clade_membership": "26f855a",
          "estimated_growth_rate": 1.2564102564102564,
          "frequency": 0.78,
          "frequency_final": 0.99,
          "observed_growth_rate": 1.2692307692307692,
          "projected_frequency": 0.98,
          "timepoint": "2006-04-01T00:00:00"
         },
         {
          "clade_membership": "5ce45ae",
          "estimated_growth_rate": 0.10526315789473684,
          "frequency": 0.19,
          "frequency_final": 0.01,
          "observed_growth_rate": 0.05263157894736842,
          "projected_frequency": 0.02,
          "timepoint": "2006-04-01T00:00:00"
         },
         {
          "clade_membership": "8517059",
          "estimated_growth_rate": 0.6,
          "frequency": 0.3,
          "frequency_final": 0,
          "observed_growth_rate": 0,
          "projected_frequency": 0.18,
          "timepoint": "2006-04-01T00:00:00"
         },
         {
          "clade_membership": "9b04f13",
          "estimated_growth_rate": 1.2727272727272727,
          "frequency": 0.77,
          "frequency_final": 0.99,
          "observed_growth_rate": 1.2857142857142856,
          "projected_frequency": 0.98,
          "timepoint": "2006-04-01T00:00:00"
         },
         {
          "clade_membership": "d8ea4e1",
          "estimated_growth_rate": 0.10526315789473684,
          "frequency": 0.19,
          "frequency_final": 0.01,
          "observed_growth_rate": 0.05263157894736842,
          "projected_frequency": 0.02,
          "timepoint": "2006-04-01T00:00:00"
         },
         {
          "clade_membership": "26f855a",
          "estimated_growth_rate": 1.0526315789473684,
          "frequency": 0.95,
          "frequency_final": 1,
          "observed_growth_rate": 1.0526315789473684,
          "projected_frequency": 1,
          "timepoint": "2006-10-01T00:00:00"
         },
         {
          "clade_membership": "3c0baec",
          "estimated_growth_rate": 1.4705882352941175,
          "frequency": 0.34,
          "frequency_final": 0.75,
          "observed_growth_rate": 2.205882352941176,
          "projected_frequency": 0.5,
          "timepoint": "2006-10-01T00:00:00"
         },
         {
          "clade_membership": "8517059",
          "estimated_growth_rate": 1.074074074074074,
          "frequency": 0.27,
          "frequency_final": 0,
          "observed_growth_rate": 0,
          "projected_frequency": 0.29,
          "timepoint": "2006-10-01T00:00:00"
         },
         {
          "clade_membership": "9b04f13",
          "estimated_growth_rate": 1.0526315789473684,
          "frequency": 0.95,
          "frequency_final": 1,
          "observed_growth_rate": 1.0526315789473684,
          "projected_frequency": 1,
          "timepoint": "2006-10-01T00:00:00"
         },
         {
          "clade_membership": "ac68424",
          "estimated_growth_rate": 1.3421052631578947,
          "frequency": 0.38,
          "frequency_final": 0.75,
          "observed_growth_rate": 1.9736842105263157,
          "projected_frequency": 0.51,
          "timepoint": "2006-10-01T00:00:00"
         },
         {
          "clade_membership": "1518fdb",
          "estimated_growth_rate": 0.2608695652173913,
          "frequency": 0.23,
          "frequency_final": 0.03,
          "observed_growth_rate": 0.13043478260869565,
          "projected_frequency": 0.06,
          "timepoint": "2007-04-01T00:00:00"
         },
         {
          "clade_membership": "26f855a",
          "estimated_growth_rate": 1.0101010101010102,
          "frequency": 0.99,
          "frequency_final": 1,
          "observed_growth_rate": 1.0101010101010102,
          "projected_frequency": 1,
          "timepoint": "2007-04-01T00:00:00"
         },
         {
          "clade_membership": "3c0baec",
          "estimated_growth_rate": 1.8333333333333335,
          "frequency": 0.48,
          "frequency_final": 0.97,
          "observed_growth_rate": 2.0208333333333335,
          "projected_frequency": 0.88,
          "timepoint": "2007-04-01T00:00:00"
         },
         {
          "clade_membership": "5954a94",
          "estimated_growth_rate": 0.2222222222222222,
          "frequency": 0.27,
          "frequency_final": 0.01,
          "observed_growth_rate": 0.037037037037037035,
          "projected_frequency": 0.06,
          "timepoint": "2007-04-01T00:00:00"
         },
         {
          "clade_membership": "5eafe23",
          "estimated_growth_rate": 0.2608695652173913,
          "frequency": 0.23,
          "frequency_final": 0.03,
          "observed_growth_rate": 0.13043478260869565,
          "projected_frequency": 0.06,
          "timepoint": "2007-04-01T00:00:00"
         },
         {
          "clade_membership": "84d7d30",
          "estimated_growth_rate": 0.2222222222222222,
          "frequency": 0.27,
          "frequency_final": 0.01,
          "observed_growth_rate": 0.037037037037037035,
          "projected_frequency": 0.06,
          "timepoint": "2007-04-01T00:00:00"
         },
         {
          "clade_membership": "8dd9dae",
          "estimated_growth_rate": 2.0232558139534884,
          "frequency": 0.43,
          "frequency_final": 0.96,
          "observed_growth_rate": 2.2325581395348837,
          "projected_frequency": 0.87,
          "timepoint": "2007-04-01T00:00:00"
         },
         {
          "clade_membership": "91769ce",
          "estimated_growth_rate": 2.0714285714285716,
          "frequency": 0.42,
          "frequency_final": 0.96,
          "observed_growth_rate": 2.2857142857142856,
          "projected_frequency": 0.87,
          "timepoint": "2007-04-01T00:00:00"
         },
         {
          "clade_membership": "9b04f13",
          "estimated_growth_rate": 1.0101010101010102,
          "frequency": 0.99,
          "frequency_final": 1,
          "observed_growth_rate": 1.0101010101010102,
          "projected_frequency": 1,
          "timepoint": "2007-04-01T00:00:00"
         },
         {
          "clade_membership": "a5fc6e2",
          "estimated_growth_rate": 0.24,
          "frequency": 0.25,
          "frequency_final": 0.01,
          "observed_growth_rate": 0.04,
          "projected_frequency": 0.06,
          "timepoint": "2007-04-01T00:00:00"
         },
         {
          "clade_membership": "ac68424",
          "estimated_growth_rate": 1.8333333333333335,
          "frequency": 0.48,
          "frequency_final": 0.97,
          "observed_growth_rate": 2.0208333333333335,
          "projected_frequency": 0.88,
          "timepoint": "2007-04-01T00:00:00"
         },
         {
          "clade_membership": "3c0baec",
          "estimated_growth_rate": 1.2666666666666666,
          "frequency": 0.75,
          "frequency_final": 1,
          "observed_growth_rate": 1.3333333333333333,
          "projected_frequency": 0.95,
          "timepoint": "2007-10-01T00:00:00"
         },
         {
          "clade_membership": "8dd9dae",
          "estimated_growth_rate": 1.3013698630136985,
          "frequency": 0.73,
          "frequency_final": 1,
          "observed_growth_rate": 1.36986301369863,
          "projected_frequency": 0.95,
          "timepoint": "2007-10-01T00:00:00"
         },
         {
          "clade_membership": "91769ce",
          "estimated_growth_rate": 1.3013698630136985,
          "frequency": 0.73,
          "frequency_final": 1,
          "observed_growth_rate": 1.36986301369863,
          "projected_frequency": 0.95,
          "timepoint": "2007-10-01T00:00:00"
         },
         {
          "clade_membership": "ac68424",
          "estimated_growth_rate": 1.2666666666666666,
          "frequency": 0.75,
          "frequency_final": 1,
          "observed_growth_rate": 1.3333333333333333,
          "projected_frequency": 0.95,
          "timepoint": "2007-10-01T00:00:00"
         },
         {
          "clade_membership": "3c0baec",
          "estimated_growth_rate": 1.0206185567010309,
          "frequency": 0.97,
          "frequency_final": 1,
          "observed_growth_rate": 1.0309278350515465,
          "projected_frequency": 0.99,
          "timepoint": "2008-04-01T00:00:00"
         },
         {
          "clade_membership": "41bb3e2",
          "estimated_growth_rate": 2.0930232558139537,
          "frequency": 0.43,
          "frequency_final": 0.93,
          "observed_growth_rate": 2.162790697674419,
          "projected_frequency": 0.9,
          "timepoint": "2008-04-01T00:00:00"
         },
         {
          "clade_membership": "8dd9dae",
          "estimated_growth_rate": 1.03125,
          "frequency": 0.96,
          "frequency_final": 1,
          "observed_growth_rate": 1.0416666666666667,
          "projected_frequency": 0.99,
          "timepoint": "2008-04-01T00:00:00"
         },
         {
          "clade_membership": "91769ce",
          "estimated_growth_rate": 1.03125,
          "frequency": 0.96,
          "frequency_final": 1,
          "observed_growth_rate": 1.0416666666666667,
          "projected_frequency": 0.99,
          "timepoint": "2008-04-01T00:00:00"
         },
         {
          "clade_membership": "ac68424",
          "estimated_growth_rate": 1.0206185567010309,
          "frequency": 0.97,
          "frequency_final": 1,
          "observed_growth_rate": 1.0309278350515465,
          "projected_frequency": 0.99,
          "timepoint": "2008-04-01T00:00:00"
         },
         {
          "clade_membership": "d01c4e1",
          "estimated_growth_rate": 0.20833333333333334,
          "frequency": 0.24,
          "frequency_final": 0.04,
          "observed_growth_rate": 0.16666666666666669,
          "projected_frequency": 0.05,
          "timepoint": "2008-04-01T00:00:00"
         },
         {
          "clade_membership": "36560d9",
          "estimated_growth_rate": 0.7826086956521738,
          "frequency": 0.23,
          "frequency_final": 0,
          "observed_growth_rate": 0,
          "projected_frequency": 0.18,
          "timepoint": "2008-10-01T00:00:00"
         },
         {
          "clade_membership": "41bb3e2",
          "estimated_growth_rate": 1.4814814814814814,
          "frequency": 0.54,
          "frequency_final": 0.98,
          "observed_growth_rate": 1.8148148148148147,
          "projected_frequency": 0.8,
          "timepoint": "2008-10-01T00:00:00"
         },
         {
          "clade_membership": "d01c4e1",
          "estimated_growth_rate": 0.5277777777777778,
          "frequency": 0.36,
          "frequency_final": 0.02,
          "observed_growth_rate": 0.05555555555555556,
          "projected_frequency": 0.19,
          "timepoint": "2008-10-01T00:00:00"
         },
         {
          "clade_membership": "33f72b5",
          "estimated_growth_rate": 0.10526315789473684,
          "frequency": 0.19,
          "frequency_final": 0.03,
          "observed_growth_rate": 0.15789473684210525,
          "projected_frequency": 0.02,
          "timepoint": "2009-04-01T00:00:00"
         },
         {
          "clade_membership": "41bb3e2",
          "estimated_growth_rate": 1.064516129032258,
          "frequency": 0.93,
          "frequency_final": 0.99,
          "observed_growth_rate": 1.064516129032258,
          "projected_frequency": 0.99,
          "timepoint": "2009-04-01T00:00:00"
         },
         {
          "clade_membership": "41bb3e2",
          "estimated_growth_rate": 1.0204081632653061,
          "frequency": 0.98,
          "frequency_final": 1,
          "observed_growth_rate": 1.0204081632653061,
          "projected_frequency": 1,
          "timepoint": "2009-10-01T00:00:00"
         },
         {
          "clade_membership": "819ddab",
          "estimated_growth_rate": 1.6226415094339621,
          "frequency": 0.53,
          "frequency_final": 0.15,
          "observed_growth_rate": 0.2830188679245283,
          "projected_frequency": 0.86,
          "timepoint": "2009-10-01T00:00:00"
         },
         {
          "clade_membership": "956f201",
          "estimated_growth_rate": 0.36111111111111116,
          "frequency": 0.36,
          "frequency_final": 0.85,
          "observed_growth_rate": 2.361111111111111,
          "projected_frequency": 0.13,
          "timepoint": "2009-10-01T00:00:00"
         },
         {
          "clade_membership": "c0ab28c",
          "estimated_growth_rate": 1.6226415094339621,
          "frequency": 0.53,
          "frequency_final": 0.15,
          "observed_growth_rate": 0.2830188679245283,
          "projected_frequency": 0.86,
          "timepoint": "2009-10-01T00:00:00"
         },
         {
          "clade_membership": "e2563b0",
          "estimated_growth_rate": 0.36111111111111116,
          "frequency": 0.36,
          "frequency_final": 0.85,
          "observed_growth_rate": 2.361111111111111,
          "projected_frequency": 0.13,
          "timepoint": "2009-10-01T00:00:00"
         },
         {
          "clade_membership": "e62a2e8",
          "estimated_growth_rate": 2.375,
          "frequency": 0.32,
          "frequency_final": 0.01,
          "observed_growth_rate": 0.03125,
          "projected_frequency": 0.76,
          "timepoint": "2009-10-01T00:00:00"
         },
         {
          "clade_membership": "41bb3e2",
          "estimated_growth_rate": 1.0101010101010102,
          "frequency": 0.99,
          "frequency_final": 1,
          "observed_growth_rate": 1.0101010101010102,
          "projected_frequency": 1,
          "timepoint": "2010-04-01T00:00:00"
         },
         {
          "clade_membership": "7fba9ff",
          "estimated_growth_rate": 1.111111111111111,
          "frequency": 0.27,
          "frequency_final": 0.16,
          "observed_growth_rate": 0.5925925925925926,
          "projected_frequency": 0.3,
          "timepoint": "2010-04-01T00:00:00"
         },
         {
          "clade_membership": "819ddab",
          "estimated_growth_rate": 0.4042553191489362,
          "frequency": 0.47,
          "frequency_final": 0.21,
          "observed_growth_rate": 0.4468085106382979,
          "projected_frequency": 0.19,
          "timepoint": "2010-04-01T00:00:00"
         },
         {
          "clade_membership": "956f201",
          "estimated_growth_rate": 1.8372093023255816,
          "frequency": 0.43,
          "frequency_final": 0.79,
          "observed_growth_rate": 1.8372093023255816,
          "projected_frequency": 0.79,
          "timepoint": "2010-04-01T00:00:00"
         },
         {
          "clade_membership": "c0ab28c",
          "estimated_growth_rate": 0.4042553191489362,
          "frequency": 0.47,
          "frequency_final": 0.21,
          "observed_growth_rate": 0.4468085106382979,
          "projected_frequency": 0.19,
          "timepoint": "2010-04-01T00:00:00"
         },
         {
          "clade_membership": "d4a2597",
          "estimated_growth_rate": 0.5652173913043478,
          "frequency": 0.23,
          "frequency_final": 0.2,
          "observed_growth_rate": 0.8695652173913043,
          "projected_frequency": 0.13,
          "timepoint": "2010-04-01T00:00:00"
         },
         {
          "clade_membership": "e2563b0",
          "estimated_growth_rate": 1.8372093023255816,
          "frequency": 0.43,
          "frequency_final": 0.79,
          "observed_growth_rate": 1.8372093023255816,
          "projected_frequency": 0.79,
          "timepoint": "2010-04-01T00:00:00"
         },
         {
          "clade_membership": "026d21f",
          "estimated_growth_rate": 1.36,
          "frequency": 0.5,
          "frequency_final": 0.36,
          "observed_growth_rate": 0.72,
          "projected_frequency": 0.68,
          "timepoint": "2010-10-01T00:00:00"
         },
         {
          "clade_membership": "4786bbf",
          "estimated_growth_rate": 1.36,
          "frequency": 0.5,
          "frequency_final": 0.36,
          "observed_growth_rate": 0.72,
          "projected_frequency": 0.68,
          "timepoint": "2010-10-01T00:00:00"
         },
         {
          "clade_membership": "7fba9ff",
          "estimated_growth_rate": 0.35000000000000003,
          "frequency": 0.2,
          "frequency_final": 0.58,
          "observed_growth_rate": 2.8999999999999995,
          "projected_frequency": 0.07,
          "timepoint": "2010-10-01T00:00:00"
         },
         {
          "clade_membership": "956f201",
          "estimated_growth_rate": 1.1176470588235294,
          "frequency": 0.85,
          "frequency_final": 0.99,
          "observed_growth_rate": 1.1647058823529413,
          "projected_frequency": 0.95,
          "timepoint": "2010-10-01T00:00:00"
         },
         {
          "clade_membership": "a08d8f5",
          "estimated_growth_rate": 1.36,
          "frequency": 0.5,
          "frequency_final": 0.36,
          "observed_growth_rate": 0.72,
          "projected_frequency": 0.68,
          "timepoint": "2010-10-01T00:00:00"
         },
         {
          "clade_membership": "e2563b0",
          "estimated_growth_rate": 1.1176470588235294,
          "frequency": 0.85,
          "frequency_final": 0.99,
          "observed_growth_rate": 1.1647058823529413,
          "projected_frequency": 0.95,
          "timepoint": "2010-10-01T00:00:00"
         },
         {
          "clade_membership": "e56a121",
          "estimated_growth_rate": 1.36,
          "frequency": 0.5,
          "frequency_final": 0.36,
          "observed_growth_rate": 0.72,
          "projected_frequency": 0.68,
          "timepoint": "2010-10-01T00:00:00"
         },
         {
          "clade_membership": "026d21f",
          "estimated_growth_rate": 1.6538461538461537,
          "frequency": 0.52,
          "frequency_final": 0.12,
          "observed_growth_rate": 0.23076923076923075,
          "projected_frequency": 0.86,
          "timepoint": "2011-04-01T00:00:00"
         },
         {
          "clade_membership": "24fc224",
          "estimated_growth_rate": 0.5789473684210527,
          "frequency": 0.19,
          "frequency_final": 0,
          "observed_growth_rate": 0,
          "projected_frequency": 0.11,
          "timepoint": "2011-04-01T00:00:00"
         },
         {
          "clade_membership": "2e38996",
          "estimated_growth_rate": 0.5499999999999999,
          "frequency": 0.2,
          "frequency_final": 0,
          "observed_growth_rate": 0,
          "projected_frequency": 0.11,
          "timepoint": "2011-04-01T00:00:00"
         },
         {
          "clade_membership": "4748b2c",
          "estimated_growth_rate": 0.5499999999999999,
          "frequency": 0.2,
          "frequency_final": 0,
          "observed_growth_rate": 0,
          "projected_frequency": 0.11,
          "timepoint": "2011-04-01T00:00:00"
         },
         {
          "clade_membership": "4786bbf",
          "estimated_growth_rate": 1.6226415094339621,
          "frequency": 0.53,
          "frequency_final": 0.13,
          "observed_growth_rate": 0.24528301886792453,
          "projected_frequency": 0.86,
          "timepoint": "2011-04-01T00:00:00"
         },
         {
          "clade_membership": "7fba9ff",
          "estimated_growth_rate": 0.0625,
          "frequency": 0.16,
          "frequency_final": 0.78,
          "observed_growth_rate": 4.875,
          "projected_frequency": 0.01,
          "timepoint": "2011-04-01T00:00:00"
         },
         {
          "clade_membership": "819ddab",
          "estimated_growth_rate": 0.5238095238095238,
          "frequency": 0.21,
          "frequency_final": 0,
          "observed_growth_rate": 0,
          "projected_frequency": 0.11,
          "timepoint": "2011-04-01T00:00:00"
         },
         {
          "clade_membership": "956f201",
          "estimated_growth_rate": 1.1265822784810127,
          "frequency": 0.79,
          "frequency_final": 1,
          "observed_growth_rate": 1.2658227848101264,
          "projected_frequency": 0.89,
          "timepoint": "2011-04-01T00:00:00"
         },
         {
          "clade_membership": "a08d8f5",
          "estimated_growth_rate": 1.6538461538461537,
          "frequency": 0.52,
          "frequency_final": 0.13,
          "observed_growth_rate": 0.25,
          "projected_frequency": 0.86,
          "timepoint": "2011-04-01T00:00:00"
         },
         {
          "clade_membership": "c0ab28c",
          "estimated_growth_rate": 0.5238095238095238,
          "frequency": 0.21,
          "frequency_final": 0,
          "observed_growth_rate": 0,
          "projected_frequency": 0.11,
          "timepoint": "2011-04-01T00:00:00"
         },
         {
          "clade_membership": "d4a2597",
          "estimated_growth_rate": 0.5499999999999999,
          "frequency": 0.2,
          "frequency_final": 0,
          "observed_growth_rate": 0,
          "projected_frequency": 0.11,
          "timepoint": "2011-04-01T00:00:00"
         },
         {
          "clade_membership": "e2563b0",
          "estimated_growth_rate": 1.1265822784810127,
          "frequency": 0.79,
          "frequency_final": 1,
          "observed_growth_rate": 1.2658227848101264,
          "projected_frequency": 0.89,
          "timepoint": "2011-04-01T00:00:00"
         },
         {
          "clade_membership": "e56a121",
          "estimated_growth_rate": 1.6538461538461537,
          "frequency": 0.52,
          "frequency_final": 0.12,
          "observed_growth_rate": 0.23076923076923075,
          "projected_frequency": 0.86,
          "timepoint": "2011-04-01T00:00:00"
         },
         {
          "clade_membership": "f162f83",
          "estimated_growth_rate": 0.5499999999999999,
          "frequency": 0.2,
          "frequency_final": 0,
          "observed_growth_rate": 0,
          "projected_frequency": 0.11,
          "timepoint": "2011-04-01T00:00:00"
         },
         {
          "clade_membership": "026d21f",
          "estimated_growth_rate": 0.8055555555555556,
          "frequency": 0.36,
          "frequency_final": 0.22,
          "observed_growth_rate": 0.6111111111111112,
          "projected_frequency": 0.29,
          "timepoint": "2011-10-01T00:00:00"
         },
         {
          "clade_membership": "38da78c",
          "estimated_growth_rate": 1.6296296296296295,
          "frequency": 0.27,
          "frequency_final": 0.53,
          "observed_growth_rate": 1.962962962962963,
          "projected_frequency": 0.44,
          "timepoint": "2011-10-01T00:00:00"
         },
         {
          "clade_membership": "3b60fb2",
          "estimated_growth_rate": 0.8125,
          "frequency": 0.16,
          "frequency_final": 0.04,
          "observed_growth_rate": 0.25,
          "projected_frequency": 0.13,
          "timepoint": "2011-10-01T00:00:00"
         },
         {
          "clade_membership": "4231ffc",
          "estimated_growth_rate": 1.1896551724137931,
          "frequency": 0.58,
          "frequency_final": 0.67,
          "observed_growth_rate": 1.1551724137931036,
          "projected_frequency": 0.69,
          "timepoint": "2011-10-01T00:00:00"
         },
         {
          "clade_membership": "4786bbf",
          "estimated_growth_rate": 0.8055555555555556,
          "frequency": 0.36,
          "frequency_final": 0.22,
          "observed_growth_rate": 0.6111111111111112,
          "projected_frequency": 0.29,
          "timepoint": "2011-10-01T00:00:00"
         },
         {
          "clade_membership": "7fba9ff",
          "estimated_growth_rate": 1.1896551724137931,
          "frequency": 0.58,
          "frequency_final": 0.67,
          "observed_growth_rate": 1.1551724137931036,
          "projected_frequency": 0.69,
          "timepoint": "2011-10-01T00:00:00"
         },
         {
          "clade_membership": "88299f7",
          "estimated_growth_rate": 1.1896551724137931,
          "frequency": 0.58,
          "frequency_final": 0.67,
          "observed_growth_rate": 1.1551724137931036,
          "projected_frequency": 0.69,
          "timepoint": "2011-10-01T00:00:00"
         },
         {
          "clade_membership": "9449654",
          "estimated_growth_rate": 0.8064516129032259,
          "frequency": 0.31,
          "frequency_final": 0.14,
          "observed_growth_rate": 0.4516129032258065,
          "projected_frequency": 0.25,
          "timepoint": "2011-10-01T00:00:00"
         },
         {
          "clade_membership": "956f201",
          "estimated_growth_rate": 1.0101010101010102,
          "frequency": 0.99,
          "frequency_final": 1,
          "observed_growth_rate": 1.0101010101010102,
          "projected_frequency": 1,
          "timepoint": "2011-10-01T00:00:00"
         },
         {
          "clade_membership": "a08d8f5",
          "estimated_growth_rate": 0.8055555555555556,
          "frequency": 0.36,
          "frequency_final": 0.22,
          "observed_growth_rate": 0.6111111111111112,
          "projected_frequency": 0.29,
          "timepoint": "2011-10-01T00:00:00"
         },
         {
          "clade_membership": "c139e7c",
          "estimated_growth_rate": 0.8064516129032259,
          "frequency": 0.31,
          "frequency_final": 0.14,
          "observed_growth_rate": 0.4516129032258065,
          "projected_frequency": 0.25,
          "timepoint": "2011-10-01T00:00:00"
         },
         {
          "clade_membership": "e2563b0",
          "estimated_growth_rate": 1.0101010101010102,
          "frequency": 0.99,
          "frequency_final": 1,
          "observed_growth_rate": 1.0101010101010102,
          "projected_frequency": 1,
          "timepoint": "2011-10-01T00:00:00"
         },
         {
          "clade_membership": "e56a121",
          "estimated_growth_rate": 0.8055555555555556,
          "frequency": 0.36,
          "frequency_final": 0.22,
          "observed_growth_rate": 0.6111111111111112,
          "projected_frequency": 0.29,
          "timepoint": "2011-10-01T00:00:00"
         },
         {
          "clade_membership": "38da78c",
          "estimated_growth_rate": 1.4390243902439024,
          "frequency": 0.41,
          "frequency_final": 0.94,
          "observed_growth_rate": 2.292682926829268,
          "projected_frequency": 0.59,
          "timepoint": "2012-04-01T00:00:00"
         },
         {
          "clade_membership": "4231ffc",
          "estimated_growth_rate": 1.2564102564102564,
          "frequency": 0.78,
          "frequency_final": 0.97,
          "observed_growth_rate": 1.2435897435897436,
          "projected_frequency": 0.98,
          "timepoint": "2012-04-01T00:00:00"
         },
         {
          "clade_membership": "6c1138e",
          "estimated_growth_rate": 1.657142857142857,
          "frequency": 0.35,
          "frequency_final": 0.93,
          "observed_growth_rate": 2.6571428571428575,
          "projected_frequency": 0.58,
          "timepoint": "2012-04-01T00:00:00"
         },
         {
          "clade_membership": "7fba9ff",
          "estimated_growth_rate": 1.2564102564102564,
          "frequency": 0.78,
          "frequency_final": 0.97,
          "observed_growth_rate": 1.2435897435897436,
          "projected_frequency": 0.98,
          "timepoint": "2012-04-01T00:00:00"
         },
         {
          "clade_membership": "88299f7",
          "estimated_growth_rate": 1.2564102564102564,
          "frequency": 0.78,
          "frequency_final": 0.97,
          "observed_growth_rate": 1.2435897435897436,
          "projected_frequency": 0.98,
          "timepoint": "2012-04-01T00:00:00"
         },
         {
          "clade_membership": "9449654",
          "estimated_growth_rate": 1.0833333333333335,
          "frequency": 0.36,
          "frequency_final": 0.03,
          "observed_growth_rate": 0.08333333333333333,
          "projected_frequency": 0.39,
          "timepoint": "2012-04-01T00:00:00"
         },
         {
          "clade_membership": "c139e7c",
          "estimated_growth_rate": 1.0833333333333335,
          "frequency": 0.36,
          "frequency_final": 0.03,
          "observed_growth_rate": 0.08333333333333333,
          "projected_frequency": 0.39,
          "timepoint": "2012-04-01T00:00:00"
         },
         {
          "clade_membership": "f2ec31a",
          "estimated_growth_rate": 1.657142857142857,
          "frequency": 0.35,
          "frequency_final": 0.93,
          "observed_growth_rate": 2.6571428571428575,
          "projected_frequency": 0.58,
          "timepoint": "2012-04-01T00:00:00"
         },
         {
          "clade_membership": "026d21f",
          "estimated_growth_rate": 0.13636363636363635,
          "frequency": 0.22,
          "frequency_final": 0,
          "observed_growth_rate": 0,
          "projected_frequency": 0.03,
          "timepoint": "2012-10-01T00:00:00"
         },
         {
          "clade_membership": "38da78c",
          "estimated_growth_rate": 1.6792452830188678,
          "frequency": 0.53,
          "frequency_final": 0.99,
          "observed_growth_rate": 1.8679245283018866,
          "projected_frequency": 0.89,
          "timepoint": "2012-10-01T00:00:00"
         },
         {
          "clade_membership": "4231ffc",
          "estimated_growth_rate": 1.4029850746268655,
          "frequency": 0.67,
          "frequency_final": 1,
          "observed_growth_rate": 1.4925373134328357,
          "projected_frequency": 0.94,
          "timepoint": "2012-10-01T00:00:00"
         },
         {
          "clade_membership": "4786bbf",
          "estimated_growth_rate": 0.13636363636363635,
          "frequency": 0.22,
          "frequency_final": 0,
          "observed_growth_rate": 0,
          "projected_frequency": 0.03,
          "timepoint": "2012-10-01T00:00:00"
         },
         {
          "clade_membership": "6c1138e",
          "estimated_growth_rate": 1.7115384615384615,
          "frequency": 0.52,
          "frequency_final": 0.99,
          "observed_growth_rate": 1.9038461538461537,
          "projected_frequency": 0.89,
          "timepoint": "2012-10-01T00:00:00"
         },
         {
          "clade_membership": "7fba9ff",
          "estimated_growth_rate": 1.4029850746268655,
          "frequency": 0.67,
          "frequency_final": 1,
          "observed_growth_rate": 1.4925373134328357,
          "projected_frequency": 0.94,
          "timepoint": "2012-10-01T00:00:00"
         },
         {
          "clade_membership": "88299f7",
          "estimated_growth_rate": 1.4029850746268655,
          "frequency": 0.67,
          "frequency_final": 1,
          "observed_growth_rate": 1.4925373134328357,
          "projected_frequency": 0.94,
          "timepoint": "2012-10-01T00:00:00"
         },
         {
          "clade_membership": "a08d8f5",
          "estimated_growth_rate": 0.13636363636363635,
          "frequency": 0.22,
          "frequency_final": 0,
          "observed_growth_rate": 0,
          "projected_frequency": 0.03,
          "timepoint": "2012-10-01T00:00:00"
         },
         {
          "clade_membership": "a229f16",
          "estimated_growth_rate": 2.4,
          "frequency": 0.35,
          "frequency_final": 0.99,
          "observed_growth_rate": 2.8285714285714287,
          "projected_frequency": 0.84,
          "timepoint": "2012-10-01T00:00:00"
         },
         {
          "clade_membership": "dbdf9a1",
          "estimated_growth_rate": 0.16666666666666666,
          "frequency": 0.18,
          "frequency_final": 0,
          "observed_growth_rate": 0,
          "projected_frequency": 0.03,
          "timepoint": "2012-10-01T00:00:00"
         },
         {
          "clade_membership": "e56a121",
          "estimated_growth_rate": 0.13636363636363635,
          "frequency": 0.22,
          "frequency_final": 0,
          "observed_growth_rate": 0,
          "projected_frequency": 0.03,
          "timepoint": "2012-10-01T00:00:00"
         },
         {
          "clade_membership": "f2ec31a",
          "estimated_growth_rate": 1.7115384615384615,
          "frequency": 0.52,
          "frequency_final": 0.99,
          "observed_growth_rate": 1.9038461538461537,
          "projected_frequency": 0.89,
          "timepoint": "2012-10-01T00:00:00"
         },
         {
          "clade_membership": "0165eeb",
          "estimated_growth_rate": 0.5217391304347826,
          "frequency": 0.23,
          "frequency_final": 0.22,
          "observed_growth_rate": 0.9565217391304347,
          "projected_frequency": 0.12,
          "timepoint": "2013-04-01T00:00:00"
         },
         {
          "clade_membership": "1a16e36",
          "estimated_growth_rate": 2.0588235294117645,
          "frequency": 0.17,
          "frequency_final": 0.49,
          "observed_growth_rate": 2.88235294117647,
          "projected_frequency": 0.35,
          "timepoint": "2013-04-01T00:00:00"
         },
         {
          "clade_membership": "38da78c",
          "estimated_growth_rate": 1.0638297872340425,
          "frequency": 0.94,
          "frequency_final": 1,
          "observed_growth_rate": 1.0638297872340425,
          "projected_frequency": 1,
          "timepoint": "2013-04-01T00:00:00"
         },
         {
          "clade_membership": "4231ffc",
          "estimated_growth_rate": 1.0309278350515465,
          "frequency": 0.97,
          "frequency_final": 1,
          "observed_growth_rate": 1.0309278350515465,
          "projected_frequency": 1,
          "timepoint": "2013-04-01T00:00:00"
         },
         {
          "clade_membership": "66a66dd",
          "estimated_growth_rate": 1.840909090909091,
          "frequency": 0.44,
          "frequency_final": 0.78,
          "observed_growth_rate": 1.7727272727272727,
          "projected_frequency": 0.81,
          "timepoint": "2013-04-01T00:00:00"
         },
         {
          "clade_membership": "6c1138e",
          "estimated_growth_rate": 1.075268817204301,
          "frequency": 0.93,
          "frequency_final": 1,
          "observed_growth_rate": 1.075268817204301,
          "projected_frequency": 1,
          "timepoint": "2013-04-01T00:00:00"
         },
         {
          "clade_membership": "7fba9ff",
          "estimated_growth_rate": 1.0309278350515465,
          "frequency": 0.97,
          "frequency_final": 1,
          "observed_growth_rate": 1.0309278350515465,
          "projected_frequency": 1,
          "timepoint": "2013-04-01T00:00:00"
         },
         {
          "clade_membership": "88299f7",
          "estimated_growth_rate": 1.0309278350515465,
          "frequency": 0.97,
          "frequency_final": 1,
          "observed_growth_rate": 1.0309278350515465,
          "projected_frequency": 1,
          "timepoint": "2013-04-01T00:00:00"
         },
         {
          "clade_membership": "8d4351f",
          "estimated_growth_rate": 1.840909090909091,
          "frequency": 0.44,
          "frequency_final": 0.78,
          "observed_growth_rate": 1.7727272727272727,
          "projected_frequency": 0.81,
          "timepoint": "2013-04-01T00:00:00"
         },
         {
          "clade_membership": "a229f16",
          "estimated_growth_rate": 1.076086956521739,
          "frequency": 0.92,
          "frequency_final": 1,
          "observed_growth_rate": 1.0869565217391304,
          "projected_frequency": 0.99,
          "timepoint": "2013-04-01T00:00:00"
         },
         {
          "clade_membership": "f2ec31a",
          "estimated_growth_rate": 1.075268817204301,
          "frequency": 0.93,
          "frequency_final": 1,
          "observed_growth_rate": 1.075268817204301,
          "projected_frequency": 1,
          "timepoint": "2013-04-01T00:00:00"
         },
         {
          "clade_membership": "0165eeb",
          "estimated_growth_rate": 2.592592592592592,
          "frequency": 0.27,
          "frequency_final": 0.25,
          "observed_growth_rate": 0.9259259259259258,
          "projected_frequency": 0.7,
          "timepoint": "2013-10-01T00:00:00"
         },
         {
          "clade_membership": "1a16e36",
          "estimated_growth_rate": 0.5813953488372093,
          "frequency": 0.43,
          "frequency_final": 0.29,
          "observed_growth_rate": 0.6744186046511628,
          "projected_frequency": 0.25,
          "timepoint": "2013-10-01T00:00:00"
         },
         {
          "clade_membership": "38da78c",
          "estimated_growth_rate": 1.0101010101010102,
          "frequency": 0.99,
          "frequency_final": 1,
          "observed_growth_rate": 1.0101010101010102,
          "projected_frequency": 1,
          "timepoint": "2013-10-01T00:00:00"
         },
         {
          "clade_membership": "66a66dd",
          "estimated_growth_rate": 0.4285714285714286,
          "frequency": 0.7,
          "frequency_final": 0.75,
          "observed_growth_rate": 1.0714285714285714,
          "projected_frequency": 0.3,
          "timepoint": "2013-10-01T00:00:00"
         },
         {
          "clade_membership": "6c1138e",
          "estimated_growth_rate": 1.0101010101010102,
          "frequency": 0.99,
          "frequency_final": 1,
          "observed_growth_rate": 1.0101010101010102,
          "projected_frequency": 1,
          "timepoint": "2013-10-01T00:00:00"
         },
         {
          "clade_membership": "7a8b37b",
          "estimated_growth_rate": 1.0625,
          "frequency": 0.16,
          "frequency_final": 0.23,
          "observed_growth_rate": 1.4375,
          "projected_frequency": 0.17,
          "timepoint": "2013-10-01T00:00:00"
         },
         {
          "clade_membership": "8d4351f",
          "estimated_growth_rate": 0.4285714285714286,
          "frequency": 0.7,
          "frequency_final": 0.75,
          "observed_growth_rate": 1.0714285714285714,
          "projected_frequency": 0.3,
          "timepoint": "2013-10-01T00:00:00"
         },
         {
          "clade_membership": "a229f16",
          "estimated_growth_rate": 1.0101010101010102,
          "frequency": 0.99,
          "frequency_final": 1,
          "observed_growth_rate": 1.0101010101010102,
          "projected_frequency": 1,
          "timepoint": "2013-10-01T00:00:00"
         },
         {
          "clade_membership": "f2ec31a",
          "estimated_growth_rate": 1.0101010101010102,
          "frequency": 0.99,
          "frequency_final": 1,
          "observed_growth_rate": 1.0101010101010102,
          "projected_frequency": 1,
          "timepoint": "2013-10-01T00:00:00"
         },
         {
          "clade_membership": "0165eeb",
          "estimated_growth_rate": 0.2272727272727273,
          "frequency": 0.22,
          "frequency_final": 0.69,
          "observed_growth_rate": 3.1363636363636362,
          "projected_frequency": 0.05,
          "timepoint": "2014-04-01T00:00:00"
         },
         {
          "clade_membership": "1a16e36",
          "estimated_growth_rate": 0.6326530612244898,
          "frequency": 0.49,
          "frequency_final": 0.14,
          "observed_growth_rate": 0.28571428571428575,
          "projected_frequency": 0.31,
          "timepoint": "2014-04-01T00:00:00"
         },
         {
          "clade_membership": "66a66dd",
          "estimated_growth_rate": 1.2179487179487178,
          "frequency": 0.78,
          "frequency_final": 0.31,
          "observed_growth_rate": 0.3974358974358974,
          "projected_frequency": 0.95,
          "timepoint": "2014-04-01T00:00:00"
         },
         {
          "clade_membership": "7a8b37b",
          "estimated_growth_rate": 0.7499999999999999,
          "frequency": 0.2,
          "frequency_final": 0.13,
          "observed_growth_rate": 0.65,
          "projected_frequency": 0.15,
          "timepoint": "2014-04-01T00:00:00"
         },
         {
          "clade_membership": "80897ab",
          "estimated_growth_rate": 3.0625,
          "frequency": 0.16,
          "frequency_final": 0.15,
          "observed_growth_rate": 0.9375,
          "projected_frequency": 0.49,
          "timepoint": "2014-04-01T00:00:00"
         },
         {
          "clade_membership": "8d4351f",
          "estimated_growth_rate": 1.2179487179487178,
          "frequency": 0.78,
          "frequency_final": 0.31,
          "observed_growth_rate": 0.3974358974358974,
          "projected_frequency": 0.95,
          "timepoint": "2014-04-01T00:00:00"
         },
         {
          "clade_membership": "fb19d40",
          "estimated_growth_rate": 0.625,
          "frequency": 0.16,
          "frequency_final": 0.01,
          "observed_growth_rate": 0.0625,
          "projected_frequency": 0.1,
          "timepoint": "2014-04-01T00:00:00"
         },
         {
          "clade_membership": "0165eeb",
          "estimated_growth_rate": 2,
          "frequency": 0.25,
          "frequency_final": 0.89,
          "observed_growth_rate": 3.56,
          "projected_frequency": 0.5,
          "timepoint": "2014-10-01T00:00:00"
         },
         {
          "clade_membership": "07acbbd",
          "estimated_growth_rate": 1.125,
          "frequency": 0.4,
          "frequency_final": 0.06,
          "observed_growth_rate": 0.15,
          "projected_frequency": 0.45,
          "timepoint": "2014-10-01T00:00:00"
         },
         {
          "clade_membership": "1a16e36",
          "estimated_growth_rate": 0.13793103448275865,
          "frequency": 0.29,
          "frequency_final": 0.05,
          "observed_growth_rate": 0.1724137931034483,
          "projected_frequency": 0.04,
          "timepoint": "2014-10-01T00:00:00"
         },
         {
          "clade_membership": "1edac85",
          "estimated_growth_rate": 1.125,
          "frequency": 0.4,
          "frequency_final": 0.06,
          "observed_growth_rate": 0.15,
          "projected_frequency": 0.45,
          "timepoint": "2014-10-01T00:00:00"
         },
         {
          "clade_membership": "66a66dd",
          "estimated_growth_rate": 0.6666666666666666,
          "frequency": 0.75,
          "frequency_final": 0.11,
          "observed_growth_rate": 0.14666666666666667,
          "projected_frequency": 0.5,
          "timepoint": "2014-10-01T00:00:00"
         },
         {
          "clade_membership": "7a8b37b",
          "estimated_growth_rate": 0.13043478260869565,
          "frequency": 0.23,
          "frequency_final": 0.05,
          "observed_growth_rate": 0.21739130434782608,
          "projected_frequency": 0.03,
          "timepoint": "2014-10-01T00:00:00"
         },
         {
          "clade_membership": "80897ab",
          "estimated_growth_rate": 1.2857142857142858,
          "frequency": 0.35,
          "frequency_final": 0.04,
          "observed_growth_rate": 0.1142857142857143,
          "projected_frequency": 0.45,
          "timepoint": "2014-10-01T00:00:00"
         },
         {
          "clade_membership": "8d4351f",
          "estimated_growth_rate": 0.6666666666666666,
          "frequency": 0.75,
          "frequency_final": 0.11,
          "observed_growth_rate": 0.14666666666666667,
          "projected_frequency": 0.5,
          "timepoint": "2014-10-01T00:00:00"
         },
         {
          "clade_membership": "934e1c1",
          "estimated_growth_rate": 2.0833333333333335,
          "frequency": 0.24,
          "frequency_final": 0.89,
          "observed_growth_rate": 3.7083333333333335,
          "projected_frequency": 0.5,
          "timepoint": "2014-10-01T00:00:00"
         },
         {
          "clade_membership": "c9346ca",
          "estimated_growth_rate": 1.125,
          "frequency": 0.4,
          "frequency_final": 0.06,
          "observed_growth_rate": 0.15,
          "projected_frequency": 0.45,
          "timepoint": "2014-10-01T00:00:00"
         },
         {
          "clade_membership": "e221fe1",
          "estimated_growth_rate": 2.0833333333333335,
          "frequency": 0.24,
          "frequency_final": 0.89,
          "observed_growth_rate": 3.7083333333333335,
          "projected_frequency": 0.5,
          "timepoint": "2014-10-01T00:00:00"
         },
         {
          "clade_membership": "ea08d9e",
          "estimated_growth_rate": 2.1739130434782608,
          "frequency": 0.23,
          "frequency_final": 0.89,
          "observed_growth_rate": 3.869565217391304,
          "projected_frequency": 0.5,
          "timepoint": "2014-10-01T00:00:00"
         }
        ]
       },
       "encoding": {
        "x": {
         "bin": true,
         "field": "observed_growth_rate",
         "title": "Observed growth rate",
         "type": "quantitative"
        },
        "y": {
         "aggregate": "count",
         "type": "quantitative"
        }
       },
       "mark": "rect"
      },
      "image/png": "[encoded data removed]",
      "text/plain": [
       "<VegaLite 3 object>\n",
       "\n",
       "If you see this message, it means the renderer has not been properly enabled\n",
       "for the frontend that you are using. For more information, see\n",
       "https://altair-viz.github.io/user_guide/troubleshooting.html\n"
      ]
     },
     "execution_count": 52,
     "metadata": {},
     "output_type": "execute_result"
    }
   ],
   "source": [
    "alt.Chart(complete_clade_frequencies).mark_rect().encode(\n",
    "    x=alt.X(\"observed_growth_rate:Q\", bin=True, title=\"Observed growth rate\"),\n",
    "    y=\"count()\"\n",
    ")"
   ]
  },
  {
   "cell_type": "code",
   "execution_count": 53,
   "metadata": {},
   "outputs": [],
   "source": [
    "complete_clade_frequencies[\"year\"] = complete_clade_frequencies[\"timepoint\"].dt.year"
   ]
  },
  {
   "cell_type": "code",
   "execution_count": 54,
   "metadata": {},
   "outputs": [
    {
     "data": {
      "text/html": [
       "<div>\n",
       "<style scoped>\n",
       "    .dataframe tbody tr th:only-of-type {\n",
       "        vertical-align: middle;\n",
       "    }\n",
       "\n",
       "    .dataframe tbody tr th {\n",
       "        vertical-align: top;\n",
       "    }\n",
       "\n",
       "    .dataframe thead th {\n",
       "        text-align: right;\n",
       "    }\n",
       "</style>\n",
       "<table border=\"1\" class=\"dataframe\">\n",
       "  <thead>\n",
       "    <tr style=\"text-align: right;\">\n",
       "      <th></th>\n",
       "      <th>timepoint</th>\n",
       "      <th>clade_membership</th>\n",
       "      <th>frequency</th>\n",
       "      <th>frequency_final</th>\n",
       "      <th>projected_frequency</th>\n",
       "      <th>observed_growth_rate</th>\n",
       "      <th>estimated_growth_rate</th>\n",
       "      <th>year</th>\n",
       "    </tr>\n",
       "  </thead>\n",
       "  <tbody>\n",
       "    <tr>\n",
       "      <th>3</th>\n",
       "      <td>2005-10-01</td>\n",
       "      <td>26f855a</td>\n",
       "      <td>0.57</td>\n",
       "      <td>0.95</td>\n",
       "      <td>0.83</td>\n",
       "      <td>1.666667</td>\n",
       "      <td>1.456140</td>\n",
       "      <td>2005</td>\n",
       "    </tr>\n",
       "    <tr>\n",
       "      <th>4</th>\n",
       "      <td>2005-10-01</td>\n",
       "      <td>2806112</td>\n",
       "      <td>0.23</td>\n",
       "      <td>0.00</td>\n",
       "      <td>0.14</td>\n",
       "      <td>0.000000</td>\n",
       "      <td>0.608696</td>\n",
       "      <td>2005</td>\n",
       "    </tr>\n",
       "    <tr>\n",
       "      <th>6</th>\n",
       "      <td>2005-10-01</td>\n",
       "      <td>3a81d99</td>\n",
       "      <td>0.98</td>\n",
       "      <td>1.00</td>\n",
       "      <td>1.00</td>\n",
       "      <td>1.020408</td>\n",
       "      <td>1.020408</td>\n",
       "      <td>2005</td>\n",
       "    </tr>\n",
       "    <tr>\n",
       "      <th>7</th>\n",
       "      <td>2005-10-01</td>\n",
       "      <td>412c00a</td>\n",
       "      <td>0.98</td>\n",
       "      <td>1.00</td>\n",
       "      <td>1.00</td>\n",
       "      <td>1.020408</td>\n",
       "      <td>1.020408</td>\n",
       "      <td>2005</td>\n",
       "    </tr>\n",
       "    <tr>\n",
       "      <th>8</th>\n",
       "      <td>2005-10-01</td>\n",
       "      <td>44989e1</td>\n",
       "      <td>0.97</td>\n",
       "      <td>1.00</td>\n",
       "      <td>1.00</td>\n",
       "      <td>1.030928</td>\n",
       "      <td>1.030928</td>\n",
       "      <td>2005</td>\n",
       "    </tr>\n",
       "  </tbody>\n",
       "</table>\n",
       "</div>"
      ],
      "text/plain": [
       "   timepoint clade_membership  frequency  frequency_final  \\\n",
       "3 2005-10-01          26f855a       0.57             0.95   \n",
       "4 2005-10-01          2806112       0.23             0.00   \n",
       "6 2005-10-01          3a81d99       0.98             1.00   \n",
       "7 2005-10-01          412c00a       0.98             1.00   \n",
       "8 2005-10-01          44989e1       0.97             1.00   \n",
       "\n",
       "   projected_frequency  observed_growth_rate  estimated_growth_rate  year  \n",
       "3                 0.83              1.666667               1.456140  2005  \n",
       "4                 0.14              0.000000               0.608696  2005  \n",
       "6                 1.00              1.020408               1.020408  2005  \n",
       "7                 1.00              1.020408               1.020408  2005  \n",
       "8                 1.00              1.030928               1.030928  2005  "
      ]
     },
     "execution_count": 54,
     "metadata": {},
     "output_type": "execute_result"
    }
   ],
   "source": [
    "complete_clade_frequencies.head()"
   ]
  },
  {
   "cell_type": "code",
   "execution_count": 55,
   "metadata": {},
   "outputs": [
    {
     "data": {
      "text/plain": [
       "(161, 8)"
      ]
     },
     "execution_count": 55,
     "metadata": {},
     "output_type": "execute_result"
    }
   ],
   "source": [
    "complete_clade_frequencies.shape"
   ]
  },
  {
   "cell_type": "code",
   "execution_count": 56,
   "metadata": {},
   "outputs": [],
   "source": [
    "r, p = pearsonr(\n",
    "    complete_clade_frequencies[\"observed_growth_rate\"],\n",
    "    complete_clade_frequencies[\"estimated_growth_rate\"]\n",
    ")"
   ]
  },
  {
   "cell_type": "code",
   "execution_count": 57,
   "metadata": {},
   "outputs": [
    {
     "data": {
      "text/plain": [
       "0.4829668110930756"
      ]
     },
     "execution_count": 57,
     "metadata": {},
     "output_type": "execute_result"
    }
   ],
   "source": [
    "r"
   ]
  },
  {
   "cell_type": "code",
   "execution_count": 58,
   "metadata": {},
   "outputs": [
    {
     "data": {
      "text/plain": [
       "8.666529364153138e-11"
      ]
     },
     "execution_count": 58,
     "metadata": {},
     "output_type": "execute_result"
    }
   ],
   "source": [
    "p"
   ]
  },
  {
   "cell_type": "code",
   "execution_count": 59,
   "metadata": {},
   "outputs": [],
   "source": [
    "mcc, confusion_matrix = get_matthews_correlation_coefficient_for_data_frame(complete_clade_frequencies, True)"
   ]
  },
  {
   "cell_type": "code",
   "execution_count": 60,
   "metadata": {},
   "outputs": [
    {
     "data": {
      "text/plain": [
       "0.6242187651391702"
      ]
     },
     "execution_count": 60,
     "metadata": {},
     "output_type": "execute_result"
    }
   ],
   "source": [
    "mcc"
   ]
  },
  {
   "cell_type": "code",
   "execution_count": 61,
   "metadata": {},
   "outputs": [
    {
     "data": {
      "text/plain": [
       "{'tp': 84, 'tn': 47, 'fp': 23, 'fn': 7}"
      ]
     },
     "execution_count": 61,
     "metadata": {},
     "output_type": "execute_result"
    }
   ],
   "source": [
    "confusion_matrix"
   ]
  },
  {
   "cell_type": "code",
   "execution_count": 62,
   "metadata": {},
   "outputs": [
    {
     "data": {
      "text/plain": [
       "161"
      ]
     },
     "execution_count": 62,
     "metadata": {},
     "output_type": "execute_result"
    }
   ],
   "source": [
    "sum(confusion_matrix.values())"
   ]
  },
  {
   "cell_type": "code",
   "execution_count": 63,
   "metadata": {},
   "outputs": [
    {
     "data": {
      "text/plain": [
       "0.7850467289719626"
      ]
     },
     "execution_count": 63,
     "metadata": {},
     "output_type": "execute_result"
    }
   ],
   "source": [
    "growth_accuracy = confusion_matrix[\"tp\"] / float(confusion_matrix[\"tp\"] + confusion_matrix[\"fp\"])\n",
    "growth_accuracy"
   ]
  },
  {
   "cell_type": "code",
   "execution_count": 64,
   "metadata": {},
   "outputs": [
    {
     "data": {
      "text/plain": [
       "0.8703703703703703"
      ]
     },
     "execution_count": 64,
     "metadata": {},
     "output_type": "execute_result"
    }
   ],
   "source": [
    "decline_accuracy = confusion_matrix[\"tn\"] / float(confusion_matrix[\"tn\"] + confusion_matrix[\"fn\"])\n",
    "decline_accuracy"
   ]
  },
  {
   "cell_type": "code",
   "execution_count": 65,
   "metadata": {},
   "outputs": [],
   "source": [
    "min_growth_rate = 0\n",
    "max_growth_rate = complete_clade_frequencies.loc[:, [\"observed_growth_rate\", \"estimated_growth_rate\"]].max().max() + 0.2"
   ]
  },
  {
   "cell_type": "code",
   "execution_count": 66,
   "metadata": {},
   "outputs": [],
   "source": [
    "pseudofrequency = 0.001"
   ]
  },
  {
   "cell_type": "code",
   "execution_count": 67,
   "metadata": {},
   "outputs": [],
   "source": [
    "complete_clade_frequencies[\"log_observed_growth_rate\"] = (\n",
    "    np.log10((complete_clade_frequencies[\"frequency_final\"] + pseudofrequency) / (complete_clade_frequencies[\"frequency\"] + pseudofrequency))\n",
    ")\n",
    "\n",
    "complete_clade_frequencies[\"log_estimated_growth_rate\"] = (\n",
    "    np.log10((complete_clade_frequencies[\"projected_frequency\"] + pseudofrequency) / (complete_clade_frequencies[\"frequency\"] + pseudofrequency))\n",
    ")"
   ]
  },
  {
   "cell_type": "code",
   "execution_count": 68,
   "metadata": {},
   "outputs": [
    {
     "data": {
      "text/html": [
       "<div>\n",
       "<style scoped>\n",
       "    .dataframe tbody tr th:only-of-type {\n",
       "        vertical-align: middle;\n",
       "    }\n",
       "\n",
       "    .dataframe tbody tr th {\n",
       "        vertical-align: top;\n",
       "    }\n",
       "\n",
       "    .dataframe thead th {\n",
       "        text-align: right;\n",
       "    }\n",
       "</style>\n",
       "<table border=\"1\" class=\"dataframe\">\n",
       "  <thead>\n",
       "    <tr style=\"text-align: right;\">\n",
       "      <th></th>\n",
       "      <th>timepoint</th>\n",
       "      <th>clade_membership</th>\n",
       "      <th>frequency</th>\n",
       "      <th>frequency_final</th>\n",
       "      <th>projected_frequency</th>\n",
       "      <th>observed_growth_rate</th>\n",
       "      <th>estimated_growth_rate</th>\n",
       "      <th>year</th>\n",
       "      <th>log_observed_growth_rate</th>\n",
       "      <th>log_estimated_growth_rate</th>\n",
       "    </tr>\n",
       "  </thead>\n",
       "  <tbody>\n",
       "    <tr>\n",
       "      <th>3</th>\n",
       "      <td>2005-10-01</td>\n",
       "      <td>26f855a</td>\n",
       "      <td>0.57</td>\n",
       "      <td>0.95</td>\n",
       "      <td>0.83</td>\n",
       "      <td>1.666667</td>\n",
       "      <td>1.456140</td>\n",
       "      <td>2005</td>\n",
       "      <td>0.221544</td>\n",
       "      <td>0.162965</td>\n",
       "    </tr>\n",
       "    <tr>\n",
       "      <th>4</th>\n",
       "      <td>2005-10-01</td>\n",
       "      <td>2806112</td>\n",
       "      <td>0.23</td>\n",
       "      <td>0.00</td>\n",
       "      <td>0.14</td>\n",
       "      <td>0.000000</td>\n",
       "      <td>0.608696</td>\n",
       "      <td>2005</td>\n",
       "      <td>-2.363612</td>\n",
       "      <td>-0.214393</td>\n",
       "    </tr>\n",
       "    <tr>\n",
       "      <th>6</th>\n",
       "      <td>2005-10-01</td>\n",
       "      <td>3a81d99</td>\n",
       "      <td>0.98</td>\n",
       "      <td>1.00</td>\n",
       "      <td>1.00</td>\n",
       "      <td>1.020408</td>\n",
       "      <td>1.020408</td>\n",
       "      <td>2005</td>\n",
       "      <td>0.008765</td>\n",
       "      <td>0.008765</td>\n",
       "    </tr>\n",
       "    <tr>\n",
       "      <th>7</th>\n",
       "      <td>2005-10-01</td>\n",
       "      <td>412c00a</td>\n",
       "      <td>0.98</td>\n",
       "      <td>1.00</td>\n",
       "      <td>1.00</td>\n",
       "      <td>1.020408</td>\n",
       "      <td>1.020408</td>\n",
       "      <td>2005</td>\n",
       "      <td>0.008765</td>\n",
       "      <td>0.008765</td>\n",
       "    </tr>\n",
       "    <tr>\n",
       "      <th>8</th>\n",
       "      <td>2005-10-01</td>\n",
       "      <td>44989e1</td>\n",
       "      <td>0.97</td>\n",
       "      <td>1.00</td>\n",
       "      <td>1.00</td>\n",
       "      <td>1.030928</td>\n",
       "      <td>1.030928</td>\n",
       "      <td>2005</td>\n",
       "      <td>0.013215</td>\n",
       "      <td>0.013215</td>\n",
       "    </tr>\n",
       "  </tbody>\n",
       "</table>\n",
       "</div>"
      ],
      "text/plain": [
       "   timepoint clade_membership  frequency  frequency_final  \\\n",
       "3 2005-10-01          26f855a       0.57             0.95   \n",
       "4 2005-10-01          2806112       0.23             0.00   \n",
       "6 2005-10-01          3a81d99       0.98             1.00   \n",
       "7 2005-10-01          412c00a       0.98             1.00   \n",
       "8 2005-10-01          44989e1       0.97             1.00   \n",
       "\n",
       "   projected_frequency  observed_growth_rate  estimated_growth_rate  year  \\\n",
       "3                 0.83              1.666667               1.456140  2005   \n",
       "4                 0.14              0.000000               0.608696  2005   \n",
       "6                 1.00              1.020408               1.020408  2005   \n",
       "7                 1.00              1.020408               1.020408  2005   \n",
       "8                 1.00              1.030928               1.030928  2005   \n",
       "\n",
       "   log_observed_growth_rate  log_estimated_growth_rate  \n",
       "3                  0.221544                   0.162965  \n",
       "4                 -2.363612                  -0.214393  \n",
       "6                  0.008765                   0.008765  \n",
       "7                  0.008765                   0.008765  \n",
       "8                  0.013215                   0.013215  "
      ]
     },
     "execution_count": 68,
     "metadata": {},
     "output_type": "execute_result"
    }
   ],
   "source": [
    "complete_clade_frequencies.head()"
   ]
  },
  {
   "cell_type": "code",
   "execution_count": 69,
   "metadata": {},
   "outputs": [],
   "source": [
    "upper_limit = np.ceil(complete_clade_frequencies.loc[:, [\"observed_growth_rate\", \"estimated_growth_rate\"]].max().max())\n",
    "\n",
    "log_lower_limit = complete_clade_frequencies.loc[:, [\"log_observed_growth_rate\", \"log_estimated_growth_rate\"]].min().min() - 0.1\n",
    "log_upper_limit = np.ceil(complete_clade_frequencies.loc[:, [\"log_observed_growth_rate\", \"log_estimated_growth_rate\"]].max().max()) + 0.1"
   ]
  },
  {
   "cell_type": "code",
   "execution_count": 70,
   "metadata": {},
   "outputs": [
    {
     "data": {
      "application/vnd.vegalite.v3+json": {
       "$schema": "https://vega.github.io/schema/vega-lite/v3.3.0.json",
       "config": {
        "mark": {
         "tooltip": null
        },
        "view": {
         "height": 300,
         "width": 400
        }
       },
       "data": {
        "name": "data-0da1e1d624dfd7344a9bd1e606c5b89e"
       },
       "datasets": {
        "data-0da1e1d624dfd7344a9bd1e606c5b89e": [
         {
          "clade_membership": "26f855a",
          "estimated_growth_rate": 1.456140350877193,
          "frequency": 0.57,
          "frequency_final": 0.95,
          "log_estimated_growth_rate": 0.16296491553826298,
          "log_observed_growth_rate": 0.2215444086915659,
          "observed_growth_rate": 1.6666666666666667,
          "projected_frequency": 0.83,
          "timepoint": "2005-10-01T00:00:00",
          "year": 2005
         },
         {
          "clade_membership": "2806112",
          "estimated_growth_rate": 0.6086956521739131,
          "frequency": 0.23,
          "frequency_final": 0,
          "log_estimated_growth_rate": -0.21439286723676443,
          "log_observed_growth_rate": -2.3636119798921444,
          "observed_growth_rate": 0,
          "projected_frequency": 0.14,
          "timepoint": "2005-10-01T00:00:00",
          "year": 2005
         },
         {
          "clade_membership": "3a81d99",
          "estimated_growth_rate": 1.0204081632653061,
          "frequency": 0.98,
          "frequency_final": 1,
          "log_estimated_growth_rate": 0.008765070099370121,
          "log_observed_growth_rate": 0.008765070099370121,
          "observed_growth_rate": 1.0204081632653061,
          "projected_frequency": 1,
          "timepoint": "2005-10-01T00:00:00",
          "year": 2005
         },
         {
          "clade_membership": "412c00a",
          "estimated_growth_rate": 1.0204081632653061,
          "frequency": 0.98,
          "frequency_final": 1,
          "log_estimated_growth_rate": 0.008765070099370121,
          "log_observed_growth_rate": 0.008765070099370121,
          "observed_growth_rate": 1.0204081632653061,
          "projected_frequency": 1,
          "timepoint": "2005-10-01T00:00:00",
          "year": 2005
         },
         {
          "clade_membership": "44989e1",
          "estimated_growth_rate": 1.0309278350515465,
          "frequency": 0.97,
          "frequency_final": 1,
          "log_estimated_growth_rate": 0.013214847571313755,
          "log_observed_growth_rate": 0.013214847571313755,
          "observed_growth_rate": 1.0309278350515465,
          "projected_frequency": 1,
          "timepoint": "2005-10-01T00:00:00",
          "year": 2005
         },
         {
          "clade_membership": "4952842",
          "estimated_growth_rate": 1.0204081632653061,
          "frequency": 0.98,
          "frequency_final": 1,
          "log_estimated_growth_rate": 0.008765070099370121,
          "log_observed_growth_rate": 0.008765070099370121,
          "observed_growth_rate": 1.0204081632653061,
          "projected_frequency": 1,
          "timepoint": "2005-10-01T00:00:00",
          "year": 2005
         },
         {
          "clade_membership": "4e35443",
          "estimated_growth_rate": 1.0204081632653061,
          "frequency": 0.98,
          "frequency_final": 1,
          "log_estimated_growth_rate": 0.008765070099370121,
          "log_observed_growth_rate": 0.008765070099370121,
          "observed_growth_rate": 1.0204081632653061,
          "projected_frequency": 1,
          "timepoint": "2005-10-01T00:00:00",
          "year": 2005
         },
         {
          "clade_membership": "4ff1302",
          "estimated_growth_rate": 1.0204081632653061,
          "frequency": 0.98,
          "frequency_final": 1,
          "log_estimated_growth_rate": 0.008765070099370121,
          "log_observed_growth_rate": 0.008765070099370121,
          "observed_growth_rate": 1.0204081632653061,
          "projected_frequency": 1,
          "timepoint": "2005-10-01T00:00:00",
          "year": 2005
         },
         {
          "clade_membership": "543686e",
          "estimated_growth_rate": 1.0204081632653061,
          "frequency": 0.98,
          "frequency_final": 1,
          "log_estimated_growth_rate": 0.008765070099370121,
          "log_observed_growth_rate": 0.008765070099370121,
          "observed_growth_rate": 1.0204081632653061,
          "projected_frequency": 1,
          "timepoint": "2005-10-01T00:00:00",
          "year": 2005
         },
         {
          "clade_membership": "5ce45ae",
          "estimated_growth_rate": 0.5769230769230769,
          "frequency": 0.26,
          "frequency_final": 0.03,
          "log_estimated_growth_rate": -0.23766356004511152,
          "log_observed_growth_rate": -0.9252788135040083,
          "observed_growth_rate": 0.11538461538461538,
          "projected_frequency": 0.15,
          "timepoint": "2005-10-01T00:00:00",
          "year": 2005
         },
         {
          "clade_membership": "6a436ac",
          "estimated_growth_rate": 0.7000000000000001,
          "frequency": 0.2,
          "frequency_final": 0,
          "log_estimated_growth_rate": -0.15397694476510895,
          "log_observed_growth_rate": -2.303196057420489,
          "observed_growth_rate": 0,
          "projected_frequency": 0.14,
          "timepoint": "2005-10-01T00:00:00",
          "year": 2005
         },
         {
          "clade_membership": "7aa732d",
          "estimated_growth_rate": 1.0531914893617023,
          "frequency": 0.94,
          "frequency_final": 1,
          "log_estimated_growth_rate": 0.0224840310580184,
          "log_observed_growth_rate": 0.02684445405206167,
          "observed_growth_rate": 1.0638297872340425,
          "projected_frequency": 0.99,
          "timepoint": "2005-10-01T00:00:00",
          "year": 2005
         },
         {
          "clade_membership": "8386d16",
          "estimated_growth_rate": 1.0204081632653061,
          "frequency": 0.98,
          "frequency_final": 1,
          "log_estimated_growth_rate": 0.008765070099370121,
          "log_observed_growth_rate": 0.008765070099370121,
          "observed_growth_rate": 1.0204081632653061,
          "projected_frequency": 1,
          "timepoint": "2005-10-01T00:00:00",
          "year": 2005
         },
         {
          "clade_membership": "9a3ff5d",
          "estimated_growth_rate": 1.0204081632653061,
          "frequency": 0.98,
          "frequency_final": 1,
          "log_estimated_growth_rate": 0.008765070099370121,
          "log_observed_growth_rate": 0.008765070099370121,
          "observed_growth_rate": 1.0204081632653061,
          "projected_frequency": 1,
          "timepoint": "2005-10-01T00:00:00",
          "year": 2005
         },
         {
          "clade_membership": "9b04f13",
          "estimated_growth_rate": 1.482142857142857,
          "frequency": 0.56,
          "frequency_final": 0.95,
          "log_estimated_growth_rate": 0.1706381625279495,
          "log_observed_growth_rate": 0.22921765568125244,
          "observed_growth_rate": 1.6964285714285712,
          "projected_frequency": 0.83,
          "timepoint": "2005-10-01T00:00:00",
          "year": 2005
         },
         {
          "clade_membership": "a5bcb4f",
          "estimated_growth_rate": 1.0204081632653061,
          "frequency": 0.98,
          "frequency_final": 1,
          "log_estimated_growth_rate": 0.008765070099370121,
          "log_observed_growth_rate": 0.008765070099370121,
          "observed_growth_rate": 1.0204081632653061,
          "projected_frequency": 1,
          "timepoint": "2005-10-01T00:00:00",
          "year": 2005
         },
         {
          "clade_membership": "aab80f6",
          "estimated_growth_rate": 1.0204081632653061,
          "frequency": 0.98,
          "frequency_final": 1,
          "log_estimated_growth_rate": 0.008765070099370121,
          "log_observed_growth_rate": 0.008765070099370121,
          "observed_growth_rate": 1.0204081632653061,
          "projected_frequency": 1,
          "timepoint": "2005-10-01T00:00:00",
          "year": 2005
         },
         {
          "clade_membership": "b32cea9",
          "estimated_growth_rate": 1.0204081632653061,
          "frequency": 0.98,
          "frequency_final": 1,
          "log_estimated_growth_rate": 0.008765070099370121,
          "log_observed_growth_rate": 0.008765070099370121,
          "observed_growth_rate": 1.0204081632653061,
          "projected_frequency": 1,
          "timepoint": "2005-10-01T00:00:00",
          "year": 2005
         },
         {
          "clade_membership": "d8ea4e1",
          "estimated_growth_rate": 0.5769230769230769,
          "frequency": 0.26,
          "frequency_final": 0.05,
          "log_estimated_growth_rate": -0.23766356004511152,
          "log_observed_growth_rate": -0.7090703312403446,
          "observed_growth_rate": 0.19230769230769232,
          "projected_frequency": 0.15,
          "timepoint": "2005-10-01T00:00:00",
          "year": 2005
         },
         {
          "clade_membership": "26f855a",
          "estimated_growth_rate": 1.2564102564102564,
          "frequency": 0.78,
          "frequency_final": 0.99,
          "log_estimated_growth_rate": 0.09901797350264817,
          "log_observed_growth_rate": 0.103422620607975,
          "observed_growth_rate": 1.2692307692307692,
          "projected_frequency": 0.98,
          "timepoint": "2006-04-01T00:00:00",
          "year": 2006
         },
         {
          "clade_membership": "5ce45ae",
          "estimated_growth_rate": 0.10526315789473684,
          "frequency": 0.19,
          "frequency_final": 0.01,
          "log_estimated_growth_rate": -0.9588140725138082,
          "log_observed_growth_rate": -1.2396406820895025,
          "observed_growth_rate": 0.05263157894736842,
          "projected_frequency": 0.02,
          "timepoint": "2006-04-01T00:00:00",
          "year": 2006
         },
         {
          "clade_membership": "8517059",
          "estimated_growth_rate": 0.6,
          "frequency": 0.3,
          "frequency_final": 0,
          "log_estimated_growth_rate": -0.22088792072465882,
          "log_observed_growth_rate": -2.4785664955938436,
          "observed_growth_rate": 0,
          "projected_frequency": 0.18,
          "timepoint": "2006-04-01T00:00:00",
          "year": 2006
         },
         {
          "clade_membership": "9b04f13",
          "estimated_growth_rate": 1.2727272727272727,
          "frequency": 0.77,
          "frequency_final": 0.99,
          "log_estimated_growth_rate": 0.1046146293289915,
          "log_observed_growth_rate": 0.10901927643431832,
          "observed_growth_rate": 1.2857142857142856,
          "projected_frequency": 0.98,
          "timepoint": "2006-04-01T00:00:00",
          "year": 2006
         },
         {
          "clade_membership": "d8ea4e1",
          "estimated_growth_rate": 0.10526315789473684,
          "frequency": 0.19,
          "frequency_final": 0.01,
          "log_estimated_growth_rate": -0.9588140725138082,
          "log_observed_growth_rate": -1.2396406820895025,
          "observed_growth_rate": 0.05263157894736842,
          "projected_frequency": 0.02,
          "timepoint": "2006-04-01T00:00:00",
          "year": 2006
         },
         {
          "clade_membership": "26f855a",
          "estimated_growth_rate": 1.0526315789473684,
          "frequency": 0.95,
          "frequency_final": 1,
          "log_estimated_growth_rate": 0.022253560541904666,
          "log_observed_growth_rate": 0.022253560541904666,
          "observed_growth_rate": 1.0526315789473684,
          "projected_frequency": 1,
          "timepoint": "2006-10-01T00:00:00",
          "year": 2006
         },
         {
          "clade_membership": "3c0baec",
          "estimated_growth_rate": 1.4705882352941175,
          "frequency": 0.34,
          "frequency_final": 0.75,
          "log_estimated_growth_rate": 0.16708334687474793,
          "log_observed_growth_rate": 0.34288555801167064,
          "observed_growth_rate": 2.205882352941176,
          "projected_frequency": 0.5,
          "timepoint": "2006-10-01T00:00:00",
          "year": 2006
         },
         {
          "clade_membership": "8517059",
          "estimated_growth_rate": 1.074074074074074,
          "frequency": 0.27,
          "frequency_final": 0,
          "log_estimated_growth_rate": 0.030923698111501516,
          "log_observed_growth_rate": -2.432969290874406,
          "observed_growth_rate": 0,
          "projected_frequency": 0.29,
          "timepoint": "2006-10-01T00:00:00",
          "year": 2006
         },
         {
          "clade_membership": "9b04f13",
          "estimated_growth_rate": 1.0526315789473684,
          "frequency": 0.95,
          "frequency_final": 1,
          "log_estimated_growth_rate": 0.022253560541904666,
          "log_observed_growth_rate": 0.022253560541904666,
          "observed_growth_rate": 1.0526315789473684,
          "projected_frequency": 1,
          "timepoint": "2006-10-01T00:00:00",
          "year": 2006
         },
         {
          "clade_membership": "ac68424",
          "estimated_growth_rate": 1.3421052631578947,
          "frequency": 0.38,
          "frequency_final": 0.75,
          "log_estimated_growth_rate": 0.1274959244590934,
          "log_observed_growth_rate": 0.2947149613285491,
          "observed_growth_rate": 1.9736842105263157,
          "projected_frequency": 0.51,
          "timepoint": "2006-10-01T00:00:00",
          "year": 2006
         },
         {
          "clade_membership": "1518fdb",
          "estimated_growth_rate": 0.2608695652173913,
          "frequency": 0.23,
          "frequency_final": 0.03,
          "log_estimated_growth_rate": -0.5782821448813773,
          "log_observed_growth_rate": -0.8722502860578717,
          "observed_growth_rate": 0.13043478260869565,
          "projected_frequency": 0.06,
          "timepoint": "2007-04-01T00:00:00",
          "year": 2007
         },
         {
          "clade_membership": "26f855a",
          "estimated_growth_rate": 1.0101010101010102,
          "frequency": 0.99,
          "frequency_final": 1,
          "log_estimated_growth_rate": 0.004360422994043273,
          "log_observed_growth_rate": 0.004360422994043273,
          "observed_growth_rate": 1.0101010101010102,
          "projected_frequency": 1,
          "timepoint": "2007-04-01T00:00:00",
          "year": 2007
         },
         {
          "clade_membership": "3c0baec",
          "estimated_growth_rate": 1.8333333333333335,
          "frequency": 0.48,
          "frequency_final": 0.97,
          "log_estimated_growth_rate": 0.26283083203821617,
          "log_observed_growth_rate": 0.3050741535341731,
          "observed_growth_rate": 2.0208333333333335,
          "projected_frequency": 0.88,
          "timepoint": "2007-04-01T00:00:00",
          "year": 2007
         },
         {
          "clade_membership": "5954a94",
          "estimated_growth_rate": 0.2222222222222222,
          "frequency": 0.27,
          "frequency_final": 0.01,
          "log_estimated_growth_rate": -0.6476394558636387,
          "log_observed_growth_rate": -1.3915766057161807,
          "observed_growth_rate": 0.037037037037037035,
          "projected_frequency": 0.06,
          "timepoint": "2007-04-01T00:00:00",
          "year": 2007
         },
         {
          "clade_membership": "5eafe23",
          "estimated_growth_rate": 0.2608695652173913,
          "frequency": 0.23,
          "frequency_final": 0.03,
          "log_estimated_growth_rate": -0.5782821448813773,
          "log_observed_growth_rate": -0.8722502860578717,
          "observed_growth_rate": 0.13043478260869565,
          "projected_frequency": 0.06,
          "timepoint": "2007-04-01T00:00:00",
          "year": 2007
         },
         {
          "clade_membership": "84d7d30",
          "estimated_growth_rate": 0.2222222222222222,
          "frequency": 0.27,
          "frequency_final": 0.01,
          "log_estimated_growth_rate": -0.6476394558636387,
          "log_observed_growth_rate": -1.3915766057161807,
          "observed_growth_rate": 0.037037037037037035,
          "projected_frequency": 0.06,
          "timepoint": "2007-04-01T00:00:00",
          "year": 2007
         },
         {
          "clade_membership": "8dd9dae",
          "estimated_growth_rate": 2.0232558139534884,
          "frequency": 0.43,
          "frequency_final": 0.96,
          "log_estimated_growth_rate": 0.3055408848469316,
          "log_observed_growth_rate": 0.34824611750781376,
          "observed_growth_rate": 2.2325581395348837,
          "projected_frequency": 0.87,
          "timepoint": "2007-04-01T00:00:00",
          "year": 2007
         },
         {
          "clade_membership": "91769ce",
          "estimated_growth_rate": 2.0714285714285716,
          "frequency": 0.42,
          "frequency_final": 0.96,
          "log_estimated_growth_rate": 0.3157360591719949,
          "log_observed_growth_rate": 0.35844129183287704,
          "observed_growth_rate": 2.2857142857142856,
          "projected_frequency": 0.87,
          "timepoint": "2007-04-01T00:00:00",
          "year": 2007
         },
         {
          "clade_membership": "9b04f13",
          "estimated_growth_rate": 1.0101010101010102,
          "frequency": 0.99,
          "frequency_final": 1,
          "log_estimated_growth_rate": 0.004360422994043273,
          "log_observed_growth_rate": 0.004360422994043273,
          "observed_growth_rate": 1.0101010101010102,
          "projected_frequency": 1,
          "timepoint": "2007-04-01T00:00:00",
          "year": 2007
         },
         {
          "clade_membership": "a5fc6e2",
          "estimated_growth_rate": 0.24,
          "frequency": 0.25,
          "frequency_final": 0.01,
          "log_estimated_growth_rate": -0.614343886470271,
          "log_observed_growth_rate": -1.358281036322813,
          "observed_growth_rate": 0.04,
          "projected_frequency": 0.06,
          "timepoint": "2007-04-01T00:00:00",
          "year": 2007
         },
         {
          "clade_membership": "ac68424",
          "estimated_growth_rate": 1.8333333333333335,
          "frequency": 0.48,
          "frequency_final": 0.97,
          "log_estimated_growth_rate": 0.26283083203821617,
          "log_observed_growth_rate": 0.3050741535341731,
          "observed_growth_rate": 2.0208333333333335,
          "projected_frequency": 0.88,
          "timepoint": "2007-04-01T00:00:00",
          "year": 2007
         },
         {
          "clade_membership": "3c0baec",
          "estimated_growth_rate": 1.2666666666666666,
          "frequency": 0.75,
          "frequency_final": 1,
          "log_estimated_growth_rate": 0.10254057993324554,
          "log_observed_growth_rate": 0.12479414047515017,
          "observed_growth_rate": 1.3333333333333333,
          "projected_frequency": 0.95,
          "timepoint": "2007-10-01T00:00:00",
          "year": 2007
         },
         {
          "clade_membership": "8dd9dae",
          "estimated_growth_rate": 1.3013698630136985,
          "frequency": 0.73,
          "frequency_final": 1,
          "log_estimated_growth_rate": 0.1142631399795535,
          "log_observed_growth_rate": 0.13651670052145815,
          "observed_growth_rate": 1.36986301369863,
          "projected_frequency": 0.95,
          "timepoint": "2007-10-01T00:00:00",
          "year": 2007
         },
         {
          "clade_membership": "91769ce",
          "estimated_growth_rate": 1.3013698630136985,
          "frequency": 0.73,
          "frequency_final": 1,
          "log_estimated_growth_rate": 0.1142631399795535,
          "log_observed_growth_rate": 0.13651670052145815,
          "observed_growth_rate": 1.36986301369863,
          "projected_frequency": 0.95,
          "timepoint": "2007-10-01T00:00:00",
          "year": 2007
         },
         {
          "clade_membership": "ac68424",
          "estimated_growth_rate": 1.2666666666666666,
          "frequency": 0.75,
          "frequency_final": 1,
          "log_estimated_growth_rate": 0.10254057993324554,
          "log_observed_growth_rate": 0.12479414047515017,
          "observed_growth_rate": 1.3333333333333333,
          "projected_frequency": 0.95,
          "timepoint": "2007-10-01T00:00:00",
          "year": 2007
         },
         {
          "clade_membership": "3c0baec",
          "estimated_growth_rate": 1.0206185567010309,
          "frequency": 0.97,
          "frequency_final": 1,
          "log_estimated_growth_rate": 0.008854424577270514,
          "log_observed_growth_rate": 0.013214847571313755,
          "observed_growth_rate": 1.0309278350515465,
          "projected_frequency": 0.99,
          "timepoint": "2008-04-01T00:00:00",
          "year": 2008
         },
         {
          "clade_membership": "41bb3e2",
          "estimated_growth_rate": 2.0930232558139537,
          "frequency": 0.43,
          "frequency_final": 0.93,
          "log_estimated_growth_rate": 0.32024752081833135,
          "log_observed_growth_rate": 0.334472410820611,
          "observed_growth_rate": 2.162790697674419,
          "projected_frequency": 0.9,
          "timepoint": "2008-04-01T00:00:00",
          "year": 2008
         },
         {
          "clade_membership": "8dd9dae",
          "estimated_growth_rate": 1.03125,
          "frequency": 0.96,
          "frequency_final": 1,
          "log_estimated_growth_rate": 0.013350266816729985,
          "log_observed_growth_rate": 0.01771068981077321,
          "observed_growth_rate": 1.0416666666666667,
          "projected_frequency": 0.99,
          "timepoint": "2008-04-01T00:00:00",
          "year": 2008
         },
         {
          "clade_membership": "91769ce",
          "estimated_growth_rate": 1.03125,
          "frequency": 0.96,
          "frequency_final": 1,
          "log_estimated_growth_rate": 0.013350266816729985,
          "log_observed_growth_rate": 0.01771068981077321,
          "observed_growth_rate": 1.0416666666666667,
          "projected_frequency": 0.99,
          "timepoint": "2008-04-01T00:00:00",
          "year": 2008
         },
         {
          "clade_membership": "ac68424",
          "estimated_growth_rate": 1.0206185567010309,
          "frequency": 0.97,
          "frequency_final": 1,
          "log_estimated_growth_rate": 0.008854424577270514,
          "log_observed_growth_rate": 0.013214847571313755,
          "observed_growth_rate": 1.0309278350515465,
          "projected_frequency": 0.99,
          "timepoint": "2008-04-01T00:00:00",
          "year": 2008
         },
         {
          "clade_membership": "d01c4e1",
          "estimated_growth_rate": 0.20833333333333334,
          "frequency": 0.24,
          "frequency_final": 0.04,
          "log_estimated_growth_rate": -0.674446866476932,
          "log_observed_growth_rate": -0.7692331858551329,
          "observed_growth_rate": 0.16666666666666669,
          "projected_frequency": 0.05,
          "timepoint": "2008-04-01T00:00:00",
          "year": 2008
         },
         {
          "clade_membership": "36560d9",
          "estimated_growth_rate": 0.7826086956521738,
          "frequency": 0.23,
          "frequency_final": 0,
          "log_estimated_growth_rate": -0.10593340502295986,
          "log_observed_growth_rate": -2.3636119798921444,
          "observed_growth_rate": 0,
          "projected_frequency": 0.18,
          "timepoint": "2008-10-01T00:00:00",
          "year": 2008
         },
         {
          "clade_membership": "41bb3e2",
          "estimated_growth_rate": 1.4814814814814814,
          "frequency": 0.54,
          "frequency_final": 0.98,
          "log_estimated_growth_rate": 0.17043525097766823,
          "log_observed_growth_rate": 0.25847174227337905,
          "observed_growth_rate": 1.8148148148148147,
          "projected_frequency": 0.8,
          "timepoint": "2008-10-01T00:00:00",
          "year": 2008
         },
         {
          "clade_membership": "d01c4e1",
          "estimated_growth_rate": 0.5277777777777778,
          "frequency": 0.36,
          "frequency_final": 0.02,
          "log_estimated_growth_rate": -0.27647383465793035,
          "log_observed_growth_rate": -1.2352879071717386,
          "observed_growth_rate": 0.05555555555555556,
          "projected_frequency": 0.19,
          "timepoint": "2008-10-01T00:00:00",
          "year": 2008
         },
         {
          "clade_membership": "33f72b5",
          "estimated_growth_rate": 0.10526315789473684,
          "frequency": 0.19,
          "frequency_final": 0.03,
          "log_estimated_growth_rate": -0.9588140725138082,
          "log_observed_growth_rate": -0.7896716734134549,
          "observed_growth_rate": 0.15789473684210525,
          "projected_frequency": 0.02,
          "timepoint": "2009-04-01T00:00:00",
          "year": 2009
         },
         {
          "clade_membership": "41bb3e2",
          "estimated_growth_rate": 1.064516129032258,
          "frequency": 0.93,
          "frequency_final": 0.99,
          "log_estimated_growth_rate": 0.027123973503932638,
          "log_observed_growth_rate": 0.027123973503932638,
          "observed_growth_rate": 1.064516129032258,
          "projected_frequency": 0.99,
          "timepoint": "2009-04-01T00:00:00",
          "year": 2009
         },
         {
          "clade_membership": "41bb3e2",
          "estimated_growth_rate": 1.0204081632653061,
          "frequency": 0.98,
          "frequency_final": 1,
          "log_estimated_growth_rate": 0.008765070099370121,
          "log_observed_growth_rate": 0.008765070099370121,
          "observed_growth_rate": 1.0204081632653061,
          "projected_frequency": 1,
          "timepoint": "2009-10-01T00:00:00",
          "year": 2009
         },
         {
          "clade_membership": "819ddab",
          "estimated_growth_rate": 1.6226415094339621,
          "frequency": 0.53,
          "frequency_final": 0.15,
          "log_estimated_growth_rate": 0.20990863037218566,
          "log_observed_growth_rate": -0.5461175737882997,
          "observed_growth_rate": 0.2830188679245283,
          "projected_frequency": 0.86,
          "timepoint": "2009-10-01T00:00:00",
          "year": 2009
         },
         {
          "clade_membership": "956f201",
          "estimated_growth_rate": 0.36111111111111116,
          "frequency": 0.36,
          "frequency_final": 0.85,
          "log_estimated_growth_rate": -0.4402359062498936,
          "log_observed_growth_rate": 0.37242235817892994,
          "observed_growth_rate": 2.361111111111111,
          "projected_frequency": 0.13,
          "timepoint": "2009-10-01T00:00:00",
          "year": 2009
         },
         {
          "clade_membership": "c0ab28c",
          "estimated_growth_rate": 1.6226415094339621,
          "frequency": 0.53,
          "frequency_final": 0.15,
          "log_estimated_growth_rate": 0.20990863037218566,
          "log_observed_growth_rate": -0.5461175737882997,
          "observed_growth_rate": 0.2830188679245283,
          "projected_frequency": 0.86,
          "timepoint": "2009-10-01T00:00:00",
          "year": 2009
         },
         {
          "clade_membership": "e2563b0",
          "estimated_growth_rate": 0.36111111111111116,
          "frequency": 0.36,
          "frequency_final": 0.85,
          "log_estimated_growth_rate": -0.4402359062498936,
          "log_observed_growth_rate": 0.37242235817892994,
          "observed_growth_rate": 2.361111111111111,
          "projected_frequency": 0.13,
          "timepoint": "2009-10-01T00:00:00",
          "year": 2009
         },
         {
          "clade_membership": "e62a2e8",
          "estimated_growth_rate": 2.375,
          "frequency": 0.32,
          "frequency_final": 0.01,
          "log_estimated_growth_rate": 0.37487962436570077,
          "log_observed_growth_rate": -1.4651123472466472,
          "observed_growth_rate": 0.03125,
          "projected_frequency": 0.76,
          "timepoint": "2009-10-01T00:00:00",
          "year": 2009
         },
         {
          "clade_membership": "41bb3e2",
          "estimated_growth_rate": 1.0101010101010102,
          "frequency": 0.99,
          "frequency_final": 1,
          "log_estimated_growth_rate": 0.004360422994043273,
          "log_observed_growth_rate": 0.004360422994043273,
          "observed_growth_rate": 1.0101010101010102,
          "projected_frequency": 1,
          "timepoint": "2010-04-01T00:00:00",
          "year": 2010
         },
         {
          "clade_membership": "7fba9ff",
          "estimated_growth_rate": 1.111111111111111,
          "frequency": 0.27,
          "frequency_final": 0.16,
          "log_estimated_growth_rate": 0.04559720471943756,
          "log_observed_growth_rate": -0.22614341484255607,
          "observed_growth_rate": 0.5925925925925926,
          "projected_frequency": 0.3,
          "timepoint": "2010-04-01T00:00:00",
          "year": 2010
         },
         {
          "clade_membership": "819ddab",
          "estimated_growth_rate": 0.4042553191489362,
          "frequency": 0.47,
          "frequency_final": 0.21,
          "log_estimated_growth_rate": -0.39198753988116863,
          "log_observed_growth_rate": -0.3487384518312035,
          "observed_growth_rate": 0.4468085106382979,
          "projected_frequency": 0.19,
          "timepoint": "2010-04-01T00:00:00",
          "year": 2010
         },
         {
          "clade_membership": "956f201",
          "estimated_growth_rate": 1.8372093023255816,
          "frequency": 0.43,
          "frequency_final": 0.79,
          "log_estimated_growth_rate": 0.26369921333694496,
          "log_observed_growth_rate": 0.26369921333694496,
          "observed_growth_rate": 1.8372093023255816,
          "projected_frequency": 0.79,
          "timepoint": "2010-04-01T00:00:00",
          "year": 2010
         },
         {
          "clade_membership": "c0ab28c",
          "estimated_growth_rate": 0.4042553191489362,
          "frequency": 0.47,
          "frequency_final": 0.21,
          "log_estimated_growth_rate": -0.39198753988116863,
          "log_observed_growth_rate": -0.3487384518312035,
          "observed_growth_rate": 0.4468085106382979,
          "projected_frequency": 0.19,
          "timepoint": "2010-04-01T00:00:00",
          "year": 2010
         },
         {
          "clade_membership": "d4a2597",
          "estimated_growth_rate": 0.5652173913043478,
          "frequency": 0.23,
          "frequency_final": 0.2,
          "log_estimated_growth_rate": -0.24634068423638006,
          "log_observed_growth_rate": -0.06041592247165546,
          "observed_growth_rate": 0.8695652173913043,
          "projected_frequency": 0.13,
          "timepoint": "2010-04-01T00:00:00",
          "year": 2010
         },
         {
          "clade_membership": "e2563b0",
          "estimated_growth_rate": 1.8372093023255816,
          "frequency": 0.43,
          "frequency_final": 0.79,
          "log_estimated_growth_rate": 0.26369921333694496,
          "log_observed_growth_rate": 0.26369921333694496,
          "observed_growth_rate": 1.8372093023255816,
          "projected_frequency": 0.79,
          "timepoint": "2010-04-01T00:00:00",
          "year": 2010
         },
         {
          "clade_membership": "026d21f",
          "estimated_growth_rate": 1.36,
          "frequency": 0.5,
          "frequency_final": 0.36,
          "log_estimated_growth_rate": 0.1333093860455395,
          "log_observed_growth_rate": -0.14233052396158782,
          "observed_growth_rate": 0.72,
          "projected_frequency": 0.68,
          "timepoint": "2010-10-01T00:00:00",
          "year": 2010
         },
         {
          "clade_membership": "4786bbf",
          "estimated_growth_rate": 1.36,
          "frequency": 0.5,
          "frequency_final": 0.36,
          "log_estimated_growth_rate": 0.1333093860455395,
          "log_observed_growth_rate": -0.14233052396158782,
          "observed_growth_rate": 0.72,
          "projected_frequency": 0.68,
          "timepoint": "2010-10-01T00:00:00",
          "year": 2010
         },
         {
          "clade_membership": "7fba9ff",
          "estimated_growth_rate": 0.35000000000000003,
          "frequency": 0.2,
          "frequency_final": 0.58,
          "log_estimated_growth_rate": -0.4519377087014136,
          "log_observed_growth_rate": 0.46098007496984184,
          "observed_growth_rate": 2.8999999999999995,
          "projected_frequency": 0.07,
          "timepoint": "2010-10-01T00:00:00",
          "year": 2010
         },
         {
          "clade_membership": "956f201",
          "estimated_growth_rate": 1.1176470588235294,
          "frequency": 0.85,
          "frequency_final": 0.99,
          "log_estimated_growth_rate": 0.04825095685282609,
          "log_observed_growth_rate": 0.06614409440068747,
          "observed_growth_rate": 1.1647058823529413,
          "projected_frequency": 0.95,
          "timepoint": "2010-10-01T00:00:00",
          "year": 2010
         },
         {
          "clade_membership": "a08d8f5",
          "estimated_growth_rate": 1.36,
          "frequency": 0.5,
          "frequency_final": 0.36,
          "log_estimated_growth_rate": 0.1333093860455395,
          "log_observed_growth_rate": -0.14233052396158782,
          "observed_growth_rate": 0.72,
          "projected_frequency": 0.68,
          "timepoint": "2010-10-01T00:00:00",
          "year": 2010
         },
         {
          "clade_membership": "e2563b0",
          "estimated_growth_rate": 1.1176470588235294,
          "frequency": 0.85,
          "frequency_final": 0.99,
          "log_estimated_growth_rate": 0.04825095685282609,
          "log_observed_growth_rate": 0.06614409440068747,
          "observed_growth_rate": 1.1647058823529413,
          "projected_frequency": 0.95,
          "timepoint": "2010-10-01T00:00:00",
          "year": 2010
         },
         {
          "clade_membership": "e56a121",
          "estimated_growth_rate": 1.36,
          "frequency": 0.5,
          "frequency_final": 0.36,
          "log_estimated_growth_rate": 0.1333093860455395,
          "log_observed_growth_rate": -0.14233052396158782,
          "observed_growth_rate": 0.72,
          "projected_frequency": 0.68,
          "timepoint": "2010-10-01T00:00:00",
          "year": 2010
         },
         {
          "clade_membership": "026d21f",
          "estimated_growth_rate": 1.6538461538461537,
          "frequency": 0.52,
          "frequency_final": 0.12,
          "log_estimated_growth_rate": 0.21816542815413026,
          "log_observed_growth_rate": -0.6340523529830744,
          "observed_growth_rate": 0.23076923076923075,
          "projected_frequency": 0.86,
          "timepoint": "2011-04-01T00:00:00",
          "year": 2011
         },
         {
          "clade_membership": "24fc224",
          "estimated_growth_rate": 0.5789473684210527,
          "frequency": 0.19,
          "frequency_final": 0,
          "log_estimated_growth_rate": -0.2357103884610701,
          "log_observed_growth_rate": -2.2810333672477277,
          "observed_growth_rate": 0,
          "projected_frequency": 0.11,
          "timepoint": "2011-04-01T00:00:00",
          "year": 2011
         },
         {
          "clade_membership": "2e38996",
          "estimated_growth_rate": 0.5499999999999999,
          "frequency": 0.2,
          "frequency_final": 0,
          "log_estimated_growth_rate": -0.2578730786338315,
          "log_observed_growth_rate": -2.303196057420489,
          "observed_growth_rate": 0,
          "projected_frequency": 0.11,
          "timepoint": "2011-04-01T00:00:00",
          "year": 2011
         },
         {
          "clade_membership": "4748b2c",
          "estimated_growth_rate": 0.5499999999999999,
          "frequency": 0.2,
          "frequency_final": 0,
          "log_estimated_growth_rate": -0.2578730786338315,
          "log_observed_growth_rate": -2.303196057420489,
          "observed_growth_rate": 0,
          "projected_frequency": 0.11,
          "timepoint": "2011-04-01T00:00:00",
          "year": 2011
         },
         {
          "clade_membership": "4786bbf",
          "estimated_growth_rate": 1.6226415094339621,
          "frequency": 0.53,
          "frequency_final": 0.13,
          "log_estimated_growth_rate": 0.20990863037218566,
          "log_observed_growth_rate": -0.6078232254257048,
          "observed_growth_rate": 0.24528301886792453,
          "projected_frequency": 0.86,
          "timepoint": "2011-04-01T00:00:00",
          "year": 2011
         },
         {
          "clade_membership": "7fba9ff",
          "estimated_growth_rate": 0.0625,
          "frequency": 0.16,
          "frequency_final": 0.78,
          "log_estimated_growth_rate": -1.1654331908736246,
          "log_observed_growth_rate": 0.6858251578454506,
          "observed_growth_rate": 4.875,
          "projected_frequency": 0.01,
          "timepoint": "2011-04-01T00:00:00",
          "year": 2011
         },
         {
          "clade_membership": "819ddab",
          "estimated_growth_rate": 0.5238095238095238,
          "frequency": 0.21,
          "frequency_final": 0,
          "log_estimated_growth_rate": -0.27895947651103525,
          "log_observed_growth_rate": -2.3242824552976926,
          "observed_growth_rate": 0,
          "projected_frequency": 0.11,
          "timepoint": "2011-04-01T00:00:00",
          "year": 2011
         },
         {
          "clade_membership": "956f201",
          "estimated_growth_rate": 1.1265822784810127,
          "frequency": 0.79,
          "frequency_final": 1,
          "log_estimated_growth_rate": 0.05170122053919826,
          "log_observed_growth_rate": 0.102257593981642,
          "observed_growth_rate": 1.2658227848101264,
          "projected_frequency": 0.89,
          "timepoint": "2011-04-01T00:00:00",
          "year": 2011
         },
         {
          "clade_membership": "a08d8f5",
          "estimated_growth_rate": 1.6538461538461537,
          "frequency": 0.52,
          "frequency_final": 0.13,
          "log_estimated_growth_rate": 0.21816542815413026,
          "log_observed_growth_rate": -0.5995664276437602,
          "observed_growth_rate": 0.25,
          "projected_frequency": 0.86,
          "timepoint": "2011-04-01T00:00:00",
          "year": 2011
         },
         {
          "clade_membership": "c0ab28c",
          "estimated_growth_rate": 0.5238095238095238,
          "frequency": 0.21,
          "frequency_final": 0,
          "log_estimated_growth_rate": -0.27895947651103525,
          "log_observed_growth_rate": -2.3242824552976926,
          "observed_growth_rate": 0,
          "projected_frequency": 0.11,
          "timepoint": "2011-04-01T00:00:00",
          "year": 2011
         },
         {
          "clade_membership": "d4a2597",
          "estimated_growth_rate": 0.5499999999999999,
          "frequency": 0.2,
          "frequency_final": 0,
          "log_estimated_growth_rate": -0.2578730786338315,
          "log_observed_growth_rate": -2.303196057420489,
          "observed_growth_rate": 0,
          "projected_frequency": 0.11,
          "timepoint": "2011-04-01T00:00:00",
          "year": 2011
         },
         {
          "clade_membership": "e2563b0",
          "estimated_growth_rate": 1.1265822784810127,
          "frequency": 0.79,
          "frequency_final": 1,
          "log_estimated_growth_rate": 0.05170122053919826,
          "log_observed_growth_rate": 0.102257593981642,
          "observed_growth_rate": 1.2658227848101264,
          "projected_frequency": 0.89,
          "timepoint": "2011-04-01T00:00:00",
          "year": 2011
         },
         {
          "clade_membership": "e56a121",
          "estimated_growth_rate": 1.6538461538461537,
          "frequency": 0.52,
          "frequency_final": 0.12,
          "log_estimated_growth_rate": 0.21816542815413026,
          "log_observed_growth_rate": -0.6340523529830744,
          "observed_growth_rate": 0.23076923076923075,
          "projected_frequency": 0.86,
          "timepoint": "2011-04-01T00:00:00",
          "year": 2011
         },
         {
          "clade_membership": "f162f83",
          "estimated_growth_rate": 0.5499999999999999,
          "frequency": 0.2,
          "frequency_final": 0,
          "log_estimated_growth_rate": -0.2578730786338315,
          "log_observed_growth_rate": -2.303196057420489,
          "observed_growth_rate": 0,
          "projected_frequency": 0.11,
          "timepoint": "2011-04-01T00:00:00",
          "year": 2011
         },
         {
          "clade_membership": "026d21f",
          "estimated_growth_rate": 0.8055555555555556,
          "frequency": 0.36,
          "frequency_final": 0.22,
          "log_estimated_growth_rate": -0.09361421291975065,
          "log_observed_growth_rate": -0.2131149282205472,
          "observed_growth_rate": 0.6111111111111112,
          "projected_frequency": 0.29,
          "timepoint": "2011-10-01T00:00:00",
          "year": 2011
         },
         {
          "clade_membership": "38da78c",
          "estimated_growth_rate": 1.6296296296296295,
          "frequency": 0.27,
          "frequency_final": 0.53,
          "log_estimated_growth_rate": 0.2114692985934328,
          "log_observed_growth_rate": 0.2921252302070633,
          "observed_growth_rate": 1.962962962962963,
          "projected_frequency": 0.44,
          "timepoint": "2011-10-01T00:00:00",
          "year": 2011
         },
         {
          "clade_membership": "3b60fb2",
          "estimated_growth_rate": 0.8125,
          "frequency": 0.16,
          "frequency_final": 0.04,
          "log_estimated_growth_rate": -0.08955458037608546,
          "log_observed_growth_rate": -0.5940420193121142,
          "observed_growth_rate": 0.25,
          "projected_frequency": 0.13,
          "timepoint": "2011-10-01T00:00:00",
          "year": 2011
         },
         {
          "clade_membership": "4231ffc",
          "estimated_growth_rate": 1.1896551724137931,
          "frequency": 0.58,
          "frequency_final": 0.67,
          "log_estimated_growth_rate": 0.07530191498386768,
          "log_observed_growth_rate": 0.06254638777866137,
          "observed_growth_rate": 1.1551724137931036,
          "projected_frequency": 0.69,
          "timepoint": "2011-10-01T00:00:00",
          "year": 2011
         },
         {
          "clade_membership": "4786bbf",
          "estimated_growth_rate": 0.8055555555555556,
          "frequency": 0.36,
          "frequency_final": 0.22,
          "log_estimated_growth_rate": -0.09361421291975065,
          "log_observed_growth_rate": -0.2131149282205472,
          "observed_growth_rate": 0.6111111111111112,
          "projected_frequency": 0.29,
          "timepoint": "2011-10-01T00:00:00",
          "year": 2011
         },
         {
          "clade_membership": "7fba9ff",
          "estimated_growth_rate": 1.1896551724137931,
          "frequency": 0.58,
          "frequency_final": 0.67,
          "log_estimated_growth_rate": 0.07530191498386768,
          "log_observed_growth_rate": 0.06254638777866137,
          "observed_growth_rate": 1.1551724137931036,
          "projected_frequency": 0.69,
          "timepoint": "2011-10-01T00:00:00",
          "year": 2011
         },
         {
          "clade_membership": "88299f7",
          "estimated_growth_rate": 1.1896551724137931,
          "frequency": 0.58,
          "frequency_final": 0.67,
          "log_estimated_growth_rate": 0.07530191498386768,
          "log_observed_growth_rate": 0.06254638777866137,
          "observed_growth_rate": 1.1551724137931036,
          "projected_frequency": 0.69,
          "timepoint": "2011-10-01T00:00:00",
          "year": 2011
         },
         {
          "clade_membership": "9449654",
          "estimated_growth_rate": 0.8064516129032259,
          "frequency": 0.31,
          "frequency_final": 0.14,
          "log_estimated_growth_rate": -0.09308666754579935,
          "log_observed_growth_rate": -0.3435412763714576,
          "observed_growth_rate": 0.4516129032258065,
          "projected_frequency": 0.25,
          "timepoint": "2011-10-01T00:00:00",
          "year": 2011
         },
         {
          "clade_membership": "956f201",
          "estimated_growth_rate": 1.0101010101010102,
          "frequency": 0.99,
          "frequency_final": 1,
          "log_estimated_growth_rate": 0.004360422994043273,
          "log_observed_growth_rate": 0.004360422994043273,
          "observed_growth_rate": 1.0101010101010102,
          "projected_frequency": 1,
          "timepoint": "2011-10-01T00:00:00",
          "year": 2011
         },
         {
          "clade_membership": "a08d8f5",
          "estimated_growth_rate": 0.8055555555555556,
          "frequency": 0.36,
          "frequency_final": 0.22,
          "log_estimated_growth_rate": -0.09361421291975065,
          "log_observed_growth_rate": -0.2131149282205472,
          "observed_growth_rate": 0.6111111111111112,
          "projected_frequency": 0.29,
          "timepoint": "2011-10-01T00:00:00",
          "year": 2011
         },
         {
          "clade_membership": "c139e7c",
          "estimated_growth_rate": 0.8064516129032259,
          "frequency": 0.31,
          "frequency_final": 0.14,
          "log_estimated_growth_rate": -0.09308666754579935,
          "log_observed_growth_rate": -0.3435412763714576,
          "observed_growth_rate": 0.4516129032258065,
          "projected_frequency": 0.25,
          "timepoint": "2011-10-01T00:00:00",
          "year": 2011
         },
         {
          "clade_membership": "e2563b0",
          "estimated_growth_rate": 1.0101010101010102,
          "frequency": 0.99,
          "frequency_final": 1,
          "log_estimated_growth_rate": 0.004360422994043273,
          "log_observed_growth_rate": 0.004360422994043273,
          "observed_growth_rate": 1.0101010101010102,
          "projected_frequency": 1,
          "timepoint": "2011-10-01T00:00:00",
          "year": 2011
         },
         {
          "clade_membership": "e56a121",
          "estimated_growth_rate": 0.8055555555555556,
          "frequency": 0.36,
          "frequency_final": 0.22,
          "log_estimated_growth_rate": -0.09361421291975065,
          "log_observed_growth_rate": -0.2131149282205472,
          "observed_growth_rate": 0.6111111111111112,
          "projected_frequency": 0.29,
          "timepoint": "2011-10-01T00:00:00",
          "year": 2011
         },
         {
          "clade_membership": "38da78c",
          "estimated_growth_rate": 1.4390243902439024,
          "frequency": 0.41,
          "frequency_final": 0.94,
          "log_estimated_growth_rate": 0.15774565900518614,
          "log_observed_growth_rate": 0.3597478015511877,
          "observed_growth_rate": 2.292682926829268,
          "projected_frequency": 0.59,
          "timepoint": "2012-04-01T00:00:00",
          "year": 2012
         },
         {
          "clade_membership": "4231ffc",
          "estimated_growth_rate": 1.2564102564102564,
          "frequency": 0.78,
          "frequency_final": 0.97,
          "log_estimated_growth_rate": 0.09901797350264817,
          "log_observed_growth_rate": 0.09456819603070449,
          "observed_growth_rate": 1.2435897435897436,
          "projected_frequency": 0.98,
          "timepoint": "2012-04-01T00:00:00",
          "year": 2012
         },
         {
          "clade_membership": "6c1138e",
          "estimated_growth_rate": 1.657142857142857,
          "frequency": 0.35,
          "frequency_final": 0.93,
          "log_estimated_growth_rate": 0.21886901592450667,
          "log_observed_growth_rate": 0.42364256451551857,
          "observed_growth_rate": 2.6571428571428575,
          "projected_frequency": 0.58,
          "timepoint": "2012-04-01T00:00:00",
          "year": 2012
         },
         {
          "clade_membership": "7fba9ff",
          "estimated_growth_rate": 1.2564102564102564,
          "frequency": 0.78,
          "frequency_final": 0.97,
          "log_estimated_growth_rate": 0.09901797350264817,
          "log_observed_growth_rate": 0.09456819603070449,
          "observed_growth_rate": 1.2435897435897436,
          "projected_frequency": 0.98,
          "timepoint": "2012-04-01T00:00:00",
          "year": 2012
         },
         {
          "clade_membership": "88299f7",
          "estimated_growth_rate": 1.2564102564102564,
          "frequency": 0.78,
          "frequency_final": 0.97,
          "log_estimated_growth_rate": 0.09901797350264817,
          "log_observed_growth_rate": 0.09456819603070449,
          "observed_growth_rate": 1.2435897435897436,
          "projected_frequency": 0.98,
          "timepoint": "2012-04-01T00:00:00",
          "year": 2012
         },
         {
          "clade_membership": "9449654",
          "estimated_growth_rate": 1.0833333333333335,
          "frequency": 0.36,
          "frequency_final": 0.03,
          "log_estimated_growth_rate": 0.03466955549020892,
          "log_observed_growth_rate": -1.0661455080713853,
          "observed_growth_rate": 0.08333333333333333,
          "projected_frequency": 0.39,
          "timepoint": "2012-04-01T00:00:00",
          "year": 2012
         },
         {
          "clade_membership": "c139e7c",
          "estimated_growth_rate": 1.0833333333333335,
          "frequency": 0.36,
          "frequency_final": 0.03,
          "log_estimated_growth_rate": 0.03466955549020892,
          "log_observed_growth_rate": -1.0661455080713853,
          "observed_growth_rate": 0.08333333333333333,
          "projected_frequency": 0.39,
          "timepoint": "2012-04-01T00:00:00",
          "year": 2012
         },
         {
          "clade_membership": "f2ec31a",
          "estimated_growth_rate": 1.657142857142857,
          "frequency": 0.35,
          "frequency_final": 0.93,
          "log_estimated_growth_rate": 0.21886901592450667,
          "log_observed_growth_rate": 0.42364256451551857,
          "observed_growth_rate": 2.6571428571428575,
          "projected_frequency": 0.58,
          "timepoint": "2012-04-01T00:00:00",
          "year": 2012
         },
         {
          "clade_membership": "026d21f",
          "estimated_growth_rate": 0.13636363636363635,
          "frequency": 0.22,
          "frequency_final": 0,
          "log_estimated_growth_rate": -0.853030579850838,
          "log_observed_growth_rate": -2.3443922736851106,
          "observed_growth_rate": 0,
          "projected_frequency": 0.03,
          "timepoint": "2012-10-01T00:00:00",
          "year": 2012
         },
         {
          "clade_membership": "38da78c",
          "estimated_growth_rate": 1.6792452830188678,
          "frequency": 0.53,
          "frequency_final": 0.99,
          "log_estimated_growth_rate": 0.22478318295540572,
          "log_observed_growth_rate": 0.27097913340380625,
          "observed_growth_rate": 1.8679245283018866,
          "projected_frequency": 0.89,
          "timepoint": "2012-10-01T00:00:00",
          "year": 2012
         },
         {
          "clade_membership": "4231ffc",
          "estimated_growth_rate": 1.4029850746268655,
          "frequency": 0.67,
          "frequency_final": 1,
          "log_estimated_growth_rate": 0.14686710325826477,
          "log_observed_growth_rate": 0.17371155731032648,
          "observed_growth_rate": 1.4925373134328357,
          "projected_frequency": 0.94,
          "timepoint": "2012-10-01T00:00:00",
          "year": 2012
         },
         {
          "clade_membership": "4786bbf",
          "estimated_growth_rate": 0.13636363636363635,
          "frequency": 0.22,
          "frequency_final": 0,
          "log_estimated_growth_rate": -0.853030579850838,
          "log_observed_growth_rate": -2.3443922736851106,
          "observed_growth_rate": 0,
          "projected_frequency": 0.03,
          "timepoint": "2012-10-01T00:00:00",
          "year": 2012
         },
         {
          "clade_membership": "6c1138e",
          "estimated_growth_rate": 1.7115384615384615,
          "frequency": 0.52,
          "frequency_final": 0.99,
          "log_estimated_growth_rate": 0.2330399807373503,
          "log_observed_growth_rate": 0.27923593118575085,
          "observed_growth_rate": 1.9038461538461537,
          "projected_frequency": 0.89,
          "timepoint": "2012-10-01T00:00:00",
          "year": 2012
         },
         {
          "clade_membership": "7fba9ff",
          "estimated_growth_rate": 1.4029850746268655,
          "frequency": 0.67,
          "frequency_final": 1,
          "log_estimated_growth_rate": 0.14686710325826477,
          "log_observed_growth_rate": 0.17371155731032648,
          "observed_growth_rate": 1.4925373134328357,
          "projected_frequency": 0.94,
          "timepoint": "2012-10-01T00:00:00",
          "year": 2012
         },
         {
          "clade_membership": "88299f7",
          "estimated_growth_rate": 1.4029850746268655,
          "frequency": 0.67,
          "frequency_final": 1,
          "log_estimated_growth_rate": 0.14686710325826477,
          "log_observed_growth_rate": 0.17371155731032648,
          "observed_growth_rate": 1.4925373134328357,
          "projected_frequency": 0.94,
          "timepoint": "2012-10-01T00:00:00",
          "year": 2012
         },
         {
          "clade_membership": "a08d8f5",
          "estimated_growth_rate": 0.13636363636363635,
          "frequency": 0.22,
          "frequency_final": 0,
          "log_estimated_growth_rate": -0.853030579850838,
          "log_observed_growth_rate": -2.3443922736851106,
          "observed_growth_rate": 0,
          "projected_frequency": 0.03,
          "timepoint": "2012-10-01T00:00:00",
          "year": 2012
         },
         {
          "clade_membership": "a229f16",
          "estimated_growth_rate": 2.4,
          "frequency": 0.35,
          "frequency_final": 0.99,
          "log_estimated_growth_rate": 0.37948887933208814,
          "log_observed_growth_rate": 0.45076653801945127,
          "observed_growth_rate": 2.8285714285714287,
          "projected_frequency": 0.84,
          "timepoint": "2012-10-01T00:00:00",
          "year": 2012
         },
         {
          "clade_membership": "dbdf9a1",
          "estimated_growth_rate": 0.16666666666666666,
          "frequency": 0.18,
          "frequency_final": 0,
          "log_estimated_growth_rate": -0.7663168810349118,
          "log_observed_growth_rate": -2.2576785748691846,
          "observed_growth_rate": 0,
          "projected_frequency": 0.03,
          "timepoint": "2012-10-01T00:00:00",
          "year": 2012
         },
         {
          "clade_membership": "e56a121",
          "estimated_growth_rate": 0.13636363636363635,
          "frequency": 0.22,
          "frequency_final": 0,
          "log_estimated_growth_rate": -0.853030579850838,
          "log_observed_growth_rate": -2.3443922736851106,
          "observed_growth_rate": 0,
          "projected_frequency": 0.03,
          "timepoint": "2012-10-01T00:00:00",
          "year": 2012
         },
         {
          "clade_membership": "f2ec31a",
          "estimated_growth_rate": 1.7115384615384615,
          "frequency": 0.52,
          "frequency_final": 0.99,
          "log_estimated_growth_rate": 0.2330399807373503,
          "log_observed_growth_rate": 0.27923593118575085,
          "observed_growth_rate": 1.9038461538461537,
          "projected_frequency": 0.89,
          "timepoint": "2012-10-01T00:00:00",
          "year": 2012
         },
         {
          "clade_membership": "0165eeb",
          "estimated_growth_rate": 0.5217391304347826,
          "frequency": 0.23,
          "frequency_final": 0.22,
          "log_estimated_growth_rate": -0.2808266095756943,
          "log_observed_growth_rate": -0.01921970620703365,
          "observed_growth_rate": 0.9565217391304347,
          "projected_frequency": 0.12,
          "timepoint": "2013-04-01T00:00:00",
          "year": 2013
         },
         {
          "clade_membership": "1a16e36",
          "estimated_growth_rate": 2.0588235294117645,
          "frequency": 0.17,
          "frequency_final": 0.49,
          "log_estimated_growth_rate": 0.3123110060736702,
          "log_observed_growth_rate": 0.45808538173081464,
          "observed_growth_rate": 2.88235294117647,
          "projected_frequency": 0.35,
          "timepoint": "2013-04-01T00:00:00",
          "year": 2013
         },
         {
          "clade_membership": "38da78c",
          "estimated_growth_rate": 1.0638297872340425,
          "frequency": 0.94,
          "frequency_final": 1,
          "log_estimated_growth_rate": 0.02684445405206167,
          "log_observed_growth_rate": 0.02684445405206167,
          "observed_growth_rate": 1.0638297872340425,
          "projected_frequency": 1,
          "timepoint": "2013-04-01T00:00:00",
          "year": 2013
         },
         {
          "clade_membership": "4231ffc",
          "estimated_growth_rate": 1.0309278350515465,
          "frequency": 0.97,
          "frequency_final": 1,
          "log_estimated_growth_rate": 0.013214847571313755,
          "log_observed_growth_rate": 0.013214847571313755,
          "observed_growth_rate": 1.0309278350515465,
          "projected_frequency": 1,
          "timepoint": "2013-04-01T00:00:00",
          "year": 2013
         },
         {
          "clade_membership": "66a66dd",
          "estimated_growth_rate": 1.840909090909091,
          "frequency": 0.44,
          "frequency_final": 0.78,
          "log_estimated_growth_rate": 0.26458226474331753,
          "log_observed_growth_rate": 0.24821244440946183,
          "observed_growth_rate": 1.7727272727272727,
          "projected_frequency": 0.81,
          "timepoint": "2013-04-01T00:00:00",
          "year": 2013
         },
         {
          "clade_membership": "6c1138e",
          "estimated_growth_rate": 1.075268817204301,
          "frequency": 0.93,
          "frequency_final": 1,
          "log_estimated_growth_rate": 0.03148439649797597,
          "log_observed_growth_rate": 0.03148439649797597,
          "observed_growth_rate": 1.075268817204301,
          "projected_frequency": 1,
          "timepoint": "2013-04-01T00:00:00",
          "year": 2013
         },
         {
          "clade_membership": "7fba9ff",
          "estimated_growth_rate": 1.0309278350515465,
          "frequency": 0.97,
          "frequency_final": 1,
          "log_estimated_growth_rate": 0.013214847571313755,
          "log_observed_growth_rate": 0.013214847571313755,
          "observed_growth_rate": 1.0309278350515465,
          "projected_frequency": 1,
          "timepoint": "2013-04-01T00:00:00",
          "year": 2013
         },
         {
          "clade_membership": "88299f7",
          "estimated_growth_rate": 1.0309278350515465,
          "frequency": 0.97,
          "frequency_final": 1,
          "log_estimated_growth_rate": 0.013214847571313755,
          "log_observed_growth_rate": 0.013214847571313755,
          "observed_growth_rate": 1.0309278350515465,
          "projected_frequency": 1,
          "timepoint": "2013-04-01T00:00:00",
          "year": 2013
         },
         {
          "clade_membership": "8d4351f",
          "estimated_growth_rate": 1.840909090909091,
          "frequency": 0.44,
          "frequency_final": 0.78,
          "log_estimated_growth_rate": 0.26458226474331753,
          "log_observed_growth_rate": 0.24821244440946183,
          "observed_growth_rate": 1.7727272727272727,
          "projected_frequency": 0.81,
          "timepoint": "2013-04-01T00:00:00",
          "year": 2013
         },
         {
          "clade_membership": "a229f16",
          "estimated_growth_rate": 1.076086956521739,
          "frequency": 0.92,
          "frequency_final": 1,
          "log_estimated_growth_rate": 0.03181402428842642,
          "log_observed_growth_rate": 0.03617444728246964,
          "observed_growth_rate": 1.0869565217391304,
          "projected_frequency": 0.99,
          "timepoint": "2013-04-01T00:00:00",
          "year": 2013
         },
         {
          "clade_membership": "f2ec31a",
          "estimated_growth_rate": 1.075268817204301,
          "frequency": 0.93,
          "frequency_final": 1,
          "log_estimated_growth_rate": 0.03148439649797597,
          "log_observed_growth_rate": 0.03148439649797597,
          "observed_growth_rate": 1.075268817204301,
          "projected_frequency": 1,
          "timepoint": "2013-04-01T00:00:00",
          "year": 2013
         },
         {
          "clade_membership": "0165eeb",
          "estimated_growth_rate": 2.592592592592592,
          "frequency": 0.27,
          "frequency_final": 0.25,
          "log_estimated_growth_rate": 0.4127487270922529,
          "log_observed_growth_rate": -0.03329556939336764,
          "observed_growth_rate": 0.9259259259259258,
          "projected_frequency": 0.7,
          "timepoint": "2013-10-01T00:00:00",
          "year": 2013
         },
         {
          "clade_membership": "1a16e36",
          "estimated_growth_rate": 0.5813953488372093,
          "frequency": 0.43,
          "frequency_final": 0.29,
          "log_estimated_growth_rate": -0.2348035486796935,
          "log_observed_growth_rate": -0.17058428117482433,
          "observed_growth_rate": 0.6744186046511628,
          "projected_frequency": 0.25,
          "timepoint": "2013-10-01T00:00:00",
          "year": 2013
         },
         {
          "clade_membership": "38da78c",
          "estimated_growth_rate": 1.0101010101010102,
          "frequency": 0.99,
          "frequency_final": 1,
          "log_estimated_growth_rate": 0.004360422994043273,
          "log_observed_growth_rate": 0.004360422994043273,
          "observed_growth_rate": 1.0101010101010102,
          "projected_frequency": 1,
          "timepoint": "2013-10-01T00:00:00",
          "year": 2013
         },
         {
          "clade_membership": "66a66dd",
          "estimated_growth_rate": 0.4285714285714286,
          "frequency": 0.7,
          "frequency_final": 0.75,
          "log_estimated_growth_rate": -0.3671515223728153,
          "log_observed_growth_rate": 0.029921919037509775,
          "observed_growth_rate": 1.0714285714285714,
          "projected_frequency": 0.3,
          "timepoint": "2013-10-01T00:00:00",
          "year": 2013
         },
         {
          "clade_membership": "6c1138e",
          "estimated_growth_rate": 1.0101010101010102,
          "frequency": 0.99,
          "frequency_final": 1,
          "log_estimated_growth_rate": 0.004360422994043273,
          "log_observed_growth_rate": 0.004360422994043273,
          "observed_growth_rate": 1.0101010101010102,
          "projected_frequency": 1,
          "timepoint": "2013-10-01T00:00:00",
          "year": 2013
         },
         {
          "clade_membership": "7a8b37b",
          "estimated_growth_rate": 1.0625,
          "frequency": 0.16,
          "frequency_final": 0.23,
          "log_estimated_growth_rate": 0.026170234360304176,
          "log_observed_growth_rate": 0.15678610386029457,
          "observed_growth_rate": 1.4375,
          "projected_frequency": 0.17,
          "timepoint": "2013-10-01T00:00:00",
          "year": 2013
         },
         {
          "clade_membership": "8d4351f",
          "estimated_growth_rate": 0.4285714285714286,
          "frequency": 0.7,
          "frequency_final": 0.75,
          "log_estimated_growth_rate": -0.3671515223728153,
          "log_observed_growth_rate": 0.029921919037509775,
          "observed_growth_rate": 1.0714285714285714,
          "projected_frequency": 0.3,
          "timepoint": "2013-10-01T00:00:00",
          "year": 2013
         },
         {
          "clade_membership": "a229f16",
          "estimated_growth_rate": 1.0101010101010102,
          "frequency": 0.99,
          "frequency_final": 1,
          "log_estimated_growth_rate": 0.004360422994043273,
          "log_observed_growth_rate": 0.004360422994043273,
          "observed_growth_rate": 1.0101010101010102,
          "projected_frequency": 1,
          "timepoint": "2013-10-01T00:00:00",
          "year": 2013
         },
         {
          "clade_membership": "f2ec31a",
          "estimated_growth_rate": 1.0101010101010102,
          "frequency": 0.99,
          "frequency_final": 1,
          "log_estimated_growth_rate": 0.004360422994043273,
          "log_observed_growth_rate": 0.004360422994043273,
          "observed_growth_rate": 1.0101010101010102,
          "projected_frequency": 1,
          "timepoint": "2013-10-01T00:00:00",
          "year": 2013
         },
         {
          "clade_membership": "0165eeb",
          "estimated_growth_rate": 0.2272727272727273,
          "frequency": 0.22,
          "frequency_final": 0.69,
          "log_estimated_growth_rate": -0.6368220975871743,
          "log_observed_growth_rate": 0.4950857736890876,
          "observed_growth_rate": 3.1363636363636362,
          "projected_frequency": 0.05,
          "timepoint": "2014-04-01T00:00:00",
          "year": 2014
         },
         {
          "clade_membership": "1a16e36",
          "estimated_growth_rate": 0.6326530612244898,
          "frequency": 0.49,
          "frequency_final": 0.14,
          "log_estimated_growth_rate": -0.198321103096131,
          "log_observed_growth_rate": -0.5418623794675885,
          "observed_growth_rate": 0.28571428571428575,
          "projected_frequency": 0.31,
          "timepoint": "2014-04-01T00:00:00",
          "year": 2014
         },
         {
          "clade_membership": "66a66dd",
          "estimated_growth_rate": 1.2179487179487178,
          "frequency": 0.78,
          "frequency_final": 0.31,
          "log_estimated_growth_rate": 0.0855294830601136,
          "log_observed_growth_rate": -0.39989064485046283,
          "observed_growth_rate": 0.3974358974358974,
          "projected_frequency": 0.95,
          "timepoint": "2014-04-01T00:00:00",
          "year": 2014
         },
         {
          "clade_membership": "7a8b37b",
          "estimated_growth_rate": 0.7499999999999999,
          "frequency": 0.2,
          "frequency_final": 0.13,
          "log_estimated_growth_rate": -0.12421911012731948,
          "log_observed_growth_rate": -0.18592476176472458,
          "observed_growth_rate": 0.65,
          "projected_frequency": 0.15,
          "timepoint": "2014-04-01T00:00:00",
          "year": 2014
         },
         {
          "clade_membership": "80897ab",
          "estimated_growth_rate": 3.0625,
          "frequency": 0.16,
          "frequency_final": 0.15,
          "log_estimated_growth_rate": 0.4842556160911187,
          "log_observed_growth_rate": -0.027848928738680275,
          "observed_growth_rate": 0.9375,
          "projected_frequency": 0.49,
          "timepoint": "2014-04-01T00:00:00",
          "year": 2014
         },
         {
          "clade_membership": "8d4351f",
          "estimated_growth_rate": 1.2179487179487178,
          "frequency": 0.78,
          "frequency_final": 0.31,
          "log_estimated_growth_rate": 0.0855294830601136,
          "log_observed_growth_rate": -0.39989064485046283,
          "observed_growth_rate": 0.3974358974358974,
          "projected_frequency": 0.95,
          "timepoint": "2014-04-01T00:00:00",
          "year": 2014
         },
         {
          "clade_membership": "fb19d40",
          "estimated_growth_rate": 0.625,
          "frequency": 0.16,
          "frequency_final": 0.01,
          "log_estimated_growth_rate": -0.20250450224920707,
          "log_observed_growth_rate": -1.1654331908736246,
          "observed_growth_rate": 0.0625,
          "projected_frequency": 0.1,
          "timepoint": "2014-04-01T00:00:00",
          "year": 2014
         },
         {
          "clade_membership": "0165eeb",
          "estimated_growth_rate": 2,
          "frequency": 0.25,
          "frequency_final": 0.89,
          "log_estimated_growth_rate": 0.3001640043862076,
          "log_observed_growth_rate": 0.5502039825558367,
          "observed_growth_rate": 3.56,
          "projected_frequency": 0.5,
          "timepoint": "2014-10-01T00:00:00",
          "year": 2014
         },
         {
          "clade_membership": "07acbbd",
          "estimated_growth_rate": 1.125,
          "frequency": 0.4,
          "frequency_final": 0.06,
          "log_estimated_growth_rate": 0.05103216925777823,
          "log_observed_growth_rate": -0.8178145376094152,
          "observed_growth_rate": 0.15,
          "projected_frequency": 0.45,
          "timepoint": "2014-10-01T00:00:00",
          "year": 2014
         },
         {
          "clade_membership": "1a16e36",
          "estimated_growth_rate": 0.13793103448275865,
          "frequency": 0.29,
          "frequency_final": 0.05,
          "log_estimated_growth_rate": -0.8511091322661717,
          "log_observed_growth_rate": -0.7563228128879709,
          "observed_growth_rate": 0.1724137931034483,
          "projected_frequency": 0.04,
          "timepoint": "2014-10-01T00:00:00",
          "year": 2014
         },
         {
          "clade_membership": "1edac85",
          "estimated_growth_rate": 1.125,
          "frequency": 0.4,
          "frequency_final": 0.06,
          "log_estimated_growth_rate": 0.05103216925777823,
          "log_observed_growth_rate": -0.8178145376094152,
          "observed_growth_rate": 0.15,
          "projected_frequency": 0.45,
          "timepoint": "2014-10-01T00:00:00",
          "year": 2014
         },
         {
          "clade_membership": "66a66dd",
          "estimated_growth_rate": 0.6666666666666666,
          "frequency": 0.75,
          "frequency_final": 0.11,
          "log_estimated_growth_rate": -0.17580221113692265,
          "log_observed_growth_rate": -0.830316958217511,
          "observed_growth_rate": 0.14666666666666667,
          "projected_frequency": 0.5,
          "timepoint": "2014-10-01T00:00:00",
          "year": 2014
         },
         {
          "clade_membership": "7a8b37b",
          "estimated_growth_rate": 0.13043478260869565,
          "frequency": 0.23,
          "frequency_final": 0.05,
          "log_estimated_growth_rate": -0.8722502860578717,
          "log_observed_growth_rate": -0.656041803794208,
          "observed_growth_rate": 0.21739130434782608,
          "projected_frequency": 0.03,
          "timepoint": "2014-10-01T00:00:00",
          "year": 2014
         },
         {
          "clade_membership": "80897ab",
          "estimated_growth_rate": 1.2857142857142858,
          "frequency": 0.35,
          "frequency_final": 0.04,
          "log_estimated_growth_rate": 0.10886942541213651,
          "log_observed_growth_rate": -0.9325232597460885,
          "observed_growth_rate": 0.1142857142857143,
          "projected_frequency": 0.45,
          "timepoint": "2014-10-01T00:00:00",
          "year": 2014
         },
         {
          "clade_membership": "8d4351f",
          "estimated_growth_rate": 0.6666666666666666,
          "frequency": 0.75,
          "frequency_final": 0.11,
          "log_estimated_growth_rate": -0.17580221113692265,
          "log_observed_growth_rate": -0.830316958217511,
          "observed_growth_rate": 0.14666666666666667,
          "projected_frequency": 0.5,
          "timepoint": "2014-10-01T00:00:00",
          "year": 2014
         },
         {
          "clade_membership": "934e1c1",
          "estimated_growth_rate": 2.0833333333333335,
          "frequency": 0.24,
          "frequency_final": 0.89,
          "log_estimated_growth_rate": 0.3178206832923774,
          "log_observed_growth_rate": 0.5678606614620064,
          "observed_growth_rate": 3.7083333333333335,
          "projected_frequency": 0.5,
          "timepoint": "2014-10-01T00:00:00",
          "year": 2014
         },
         {
          "clade_membership": "c9346ca",
          "estimated_growth_rate": 1.125,
          "frequency": 0.4,
          "frequency_final": 0.06,
          "log_estimated_growth_rate": 0.05103216925777823,
          "log_observed_growth_rate": -0.8178145376094152,
          "observed_growth_rate": 0.15,
          "projected_frequency": 0.45,
          "timepoint": "2014-10-01T00:00:00",
          "year": 2014
         },
         {
          "clade_membership": "e221fe1",
          "estimated_growth_rate": 2.0833333333333335,
          "frequency": 0.24,
          "frequency_final": 0.89,
          "log_estimated_growth_rate": 0.3178206832923774,
          "log_observed_growth_rate": 0.5678606614620064,
          "observed_growth_rate": 3.7083333333333335,
          "projected_frequency": 0.5,
          "timepoint": "2014-10-01T00:00:00",
          "year": 2014
         },
         {
          "clade_membership": "ea08d9e",
          "estimated_growth_rate": 2.1739130434782608,
          "frequency": 0.23,
          "frequency_final": 0.89,
          "log_estimated_growth_rate": 0.33622574597510135,
          "log_observed_growth_rate": 0.5862657241447304,
          "observed_growth_rate": 3.869565217391304,
          "projected_frequency": 0.5,
          "timepoint": "2014-10-01T00:00:00",
          "year": 2014
         }
        ]
       },
       "encoding": {
        "color": {
         "field": "timepoint",
         "type": "nominal"
        },
        "tooltip": [
         {
          "field": "observed_growth_rate",
          "type": "quantitative"
         },
         {
          "field": "estimated_growth_rate",
          "type": "quantitative"
         },
         {
          "field": "timepoint",
          "type": "nominal"
         },
         {
          "field": "frequency",
          "type": "quantitative"
         },
         {
          "field": "frequency_final",
          "type": "quantitative"
         },
         {
          "field": "projected_frequency",
          "type": "quantitative"
         },
         {
          "field": "clade_membership",
          "type": "nominal"
         }
        ],
        "x": {
         "field": "log_observed_growth_rate",
         "scale": {
          "domain": [
           -2.5785664955938437,
           1.1
          ]
         },
         "type": "quantitative"
        },
        "y": {
         "field": "log_estimated_growth_rate",
         "scale": {
          "domain": [
           -2.5785664955938437,
           1.1
          ]
         },
         "type": "quantitative"
        }
       },
       "height": 400,
       "mark": "circle",
       "selection": {
        "selector001": {
         "bind": "scales",
         "encodings": [
          "x",
          "y"
         ],
         "type": "interval"
        }
       },
       "title": "Forecasts by LBI: Pearson's R = 0.48, MCC = 0.62",
       "width": 400
      },
      "image/png": "[encoded data removed]",
      "text/plain": [
       "<VegaLite 3 object>\n",
       "\n",
       "If you see this message, it means the renderer has not been properly enabled\n",
       "for the frontend that you are using. For more information, see\n",
       "https://altair-viz.github.io/user_guide/troubleshooting.html\n"
      ]
     },
     "execution_count": 70,
     "metadata": {},
     "output_type": "execute_result"
    }
   ],
   "source": [
    "tooltip_attributes = [\"observed_growth_rate:Q\", \"estimated_growth_rate:Q\", \"timepoint:N\", \"frequency:Q\", \"frequency_final:Q\",\n",
    "                      \"projected_frequency:Q\", \"clade_membership:N\"]\n",
    "\n",
    "chart = alt.Chart(complete_clade_frequencies).mark_circle().encode(\n",
    "    alt.X(\"log_observed_growth_rate:Q\", scale=alt.Scale(domain=(log_lower_limit, log_upper_limit))),\n",
    "    alt.Y(\"log_estimated_growth_rate:Q\", scale=alt.Scale(domain=(log_lower_limit, log_upper_limit))),\n",
    "    alt.Color(\"timepoint:N\"),\n",
    "    alt.Tooltip(tooltip_attributes)\n",
    ").properties(\n",
    "    width=400,\n",
    "    height=400,\n",
    "    title=\"Forecasts by LBI: Pearson's R = %.2f, MCC = %.2f\" % (r, mcc)\n",
    ").interactive()\n",
    "\n",
    "#chart.save(\"forecast_log_growth_correlation_natural_lbi.svg\")\n",
    "chart"
   ]
  },
  {
   "cell_type": "code",
   "execution_count": 71,
   "metadata": {},
   "outputs": [
    {
     "data": {
      "text/plain": [
       "-2.5785664955938437"
      ]
     },
     "execution_count": 71,
     "metadata": {},
     "output_type": "execute_result"
    }
   ],
   "source": [
    "log_lower_limit"
   ]
  },
  {
   "cell_type": "code",
   "execution_count": 72,
   "metadata": {},
   "outputs": [
    {
     "data": {
      "text/plain": [
       "-2.4785664955938436"
      ]
     },
     "execution_count": 72,
     "metadata": {},
     "output_type": "execute_result"
    }
   ],
   "source": [
    "complete_clade_frequencies.loc[:, [\"log_observed_growth_rate\", \"log_estimated_growth_rate\"]].min().min()"
   ]
  },
  {
   "cell_type": "code",
   "execution_count": 73,
   "metadata": {},
   "outputs": [],
   "source": [
    "r, p = pearsonr(\n",
    "    complete_clade_frequencies[\"log_observed_growth_rate\"],\n",
    "    complete_clade_frequencies[\"log_estimated_growth_rate\"]\n",
    ")"
   ]
  },
  {
   "cell_type": "code",
   "execution_count": 74,
   "metadata": {},
   "outputs": [
    {
     "data": {
      "text/plain": [
       "0.5149472143002701"
      ]
     },
     "execution_count": 74,
     "metadata": {},
     "output_type": "execute_result"
    }
   ],
   "source": [
    "r"
   ]
  },
  {
   "cell_type": "code",
   "execution_count": 75,
   "metadata": {},
   "outputs": [
    {
     "data": {
      "text/plain": [
       "2.776139573022362e-12"
      ]
     },
     "execution_count": 75,
     "metadata": {},
     "output_type": "execute_result"
    }
   ],
   "source": [
    "p"
   ]
  },
  {
   "cell_type": "code",
   "execution_count": 76,
   "metadata": {},
   "outputs": [
    {
     "data": {
      "text/plain": [
       "(0.4829668110930756, 8.666529364153138e-11)"
      ]
     },
     "execution_count": 76,
     "metadata": {},
     "output_type": "execute_result"
    }
   ],
   "source": [
    "pearsonr(\n",
    "    complete_clade_frequencies[\"observed_growth_rate\"],\n",
    "    complete_clade_frequencies[\"estimated_growth_rate\"]\n",
    ")"
   ]
  },
  {
   "cell_type": "code",
   "execution_count": 77,
   "metadata": {},
   "outputs": [],
   "source": [
    "complete_clade_frequencies[\"observed_growth\"] = (complete_clade_frequencies[\"observed_growth_rate\"] > 1)"
   ]
  },
  {
   "cell_type": "code",
   "execution_count": 78,
   "metadata": {},
   "outputs": [],
   "source": [
    "complete_clade_frequencies[\"estimated_growth\"] = (complete_clade_frequencies[\"estimated_growth_rate\"] > 1)"
   ]
  },
  {
   "cell_type": "code",
   "execution_count": 79,
   "metadata": {},
   "outputs": [],
   "source": [
    "complete_clade_frequencies[\"accurate_growth\"] = (\n",
    "    (complete_clade_frequencies[\"observed_growth\"]) == (complete_clade_frequencies[\"estimated_growth\"])\n",
    ")"
   ]
  },
  {
   "cell_type": "code",
   "execution_count": 80,
   "metadata": {},
   "outputs": [
    {
     "data": {
      "text/plain": [
       "{'tp': 84, 'tn': 47, 'fp': 23, 'fn': 7}"
      ]
     },
     "execution_count": 80,
     "metadata": {},
     "output_type": "execute_result"
    }
   ],
   "source": [
    "confusion_matrix"
   ]
  },
  {
   "cell_type": "code",
   "execution_count": 81,
   "metadata": {},
   "outputs": [
    {
     "data": {
      "text/html": [
       "<div>\n",
       "<style scoped>\n",
       "    .dataframe tbody tr th:only-of-type {\n",
       "        vertical-align: middle;\n",
       "    }\n",
       "\n",
       "    .dataframe tbody tr th {\n",
       "        vertical-align: top;\n",
       "    }\n",
       "\n",
       "    .dataframe thead th {\n",
       "        text-align: right;\n",
       "    }\n",
       "</style>\n",
       "<table border=\"1\" class=\"dataframe\">\n",
       "  <thead>\n",
       "    <tr style=\"text-align: right;\">\n",
       "      <th></th>\n",
       "      <th>timepoint</th>\n",
       "      <th>clade_membership</th>\n",
       "      <th>frequency</th>\n",
       "      <th>frequency_final</th>\n",
       "      <th>projected_frequency</th>\n",
       "      <th>observed_growth_rate</th>\n",
       "      <th>estimated_growth_rate</th>\n",
       "      <th>year</th>\n",
       "      <th>log_observed_growth_rate</th>\n",
       "      <th>log_estimated_growth_rate</th>\n",
       "      <th>observed_growth</th>\n",
       "      <th>estimated_growth</th>\n",
       "      <th>accurate_growth</th>\n",
       "    </tr>\n",
       "  </thead>\n",
       "  <tbody>\n",
       "    <tr>\n",
       "      <th>3</th>\n",
       "      <td>2005-10-01</td>\n",
       "      <td>26f855a</td>\n",
       "      <td>0.57</td>\n",
       "      <td>0.95</td>\n",
       "      <td>0.83</td>\n",
       "      <td>1.666667</td>\n",
       "      <td>1.456140</td>\n",
       "      <td>2005</td>\n",
       "      <td>0.221544</td>\n",
       "      <td>0.162965</td>\n",
       "      <td>True</td>\n",
       "      <td>True</td>\n",
       "      <td>True</td>\n",
       "    </tr>\n",
       "    <tr>\n",
       "      <th>4</th>\n",
       "      <td>2005-10-01</td>\n",
       "      <td>2806112</td>\n",
       "      <td>0.23</td>\n",
       "      <td>0.00</td>\n",
       "      <td>0.14</td>\n",
       "      <td>0.000000</td>\n",
       "      <td>0.608696</td>\n",
       "      <td>2005</td>\n",
       "      <td>-2.363612</td>\n",
       "      <td>-0.214393</td>\n",
       "      <td>False</td>\n",
       "      <td>False</td>\n",
       "      <td>True</td>\n",
       "    </tr>\n",
       "    <tr>\n",
       "      <th>6</th>\n",
       "      <td>2005-10-01</td>\n",
       "      <td>3a81d99</td>\n",
       "      <td>0.98</td>\n",
       "      <td>1.00</td>\n",
       "      <td>1.00</td>\n",
       "      <td>1.020408</td>\n",
       "      <td>1.020408</td>\n",
       "      <td>2005</td>\n",
       "      <td>0.008765</td>\n",
       "      <td>0.008765</td>\n",
       "      <td>True</td>\n",
       "      <td>True</td>\n",
       "      <td>True</td>\n",
       "    </tr>\n",
       "    <tr>\n",
       "      <th>7</th>\n",
       "      <td>2005-10-01</td>\n",
       "      <td>412c00a</td>\n",
       "      <td>0.98</td>\n",
       "      <td>1.00</td>\n",
       "      <td>1.00</td>\n",
       "      <td>1.020408</td>\n",
       "      <td>1.020408</td>\n",
       "      <td>2005</td>\n",
       "      <td>0.008765</td>\n",
       "      <td>0.008765</td>\n",
       "      <td>True</td>\n",
       "      <td>True</td>\n",
       "      <td>True</td>\n",
       "    </tr>\n",
       "    <tr>\n",
       "      <th>8</th>\n",
       "      <td>2005-10-01</td>\n",
       "      <td>44989e1</td>\n",
       "      <td>0.97</td>\n",
       "      <td>1.00</td>\n",
       "      <td>1.00</td>\n",
       "      <td>1.030928</td>\n",
       "      <td>1.030928</td>\n",
       "      <td>2005</td>\n",
       "      <td>0.013215</td>\n",
       "      <td>0.013215</td>\n",
       "      <td>True</td>\n",
       "      <td>True</td>\n",
       "      <td>True</td>\n",
       "    </tr>\n",
       "  </tbody>\n",
       "</table>\n",
       "</div>"
      ],
      "text/plain": [
       "   timepoint clade_membership  frequency  frequency_final  \\\n",
       "3 2005-10-01          26f855a       0.57             0.95   \n",
       "4 2005-10-01          2806112       0.23             0.00   \n",
       "6 2005-10-01          3a81d99       0.98             1.00   \n",
       "7 2005-10-01          412c00a       0.98             1.00   \n",
       "8 2005-10-01          44989e1       0.97             1.00   \n",
       "\n",
       "   projected_frequency  observed_growth_rate  estimated_growth_rate  year  \\\n",
       "3                 0.83              1.666667               1.456140  2005   \n",
       "4                 0.14              0.000000               0.608696  2005   \n",
       "6                 1.00              1.020408               1.020408  2005   \n",
       "7                 1.00              1.020408               1.020408  2005   \n",
       "8                 1.00              1.030928               1.030928  2005   \n",
       "\n",
       "   log_observed_growth_rate  log_estimated_growth_rate  observed_growth  \\\n",
       "3                  0.221544                   0.162965             True   \n",
       "4                 -2.363612                  -0.214393            False   \n",
       "6                  0.008765                   0.008765             True   \n",
       "7                  0.008765                   0.008765             True   \n",
       "8                  0.013215                   0.013215             True   \n",
       "\n",
       "   estimated_growth  accurate_growth  \n",
       "3              True             True  \n",
       "4             False             True  \n",
       "6              True             True  \n",
       "7              True             True  \n",
       "8              True             True  "
      ]
     },
     "execution_count": 81,
     "metadata": {},
     "output_type": "execute_result"
    }
   ],
   "source": [
    "complete_clade_frequencies.head()"
   ]
  },
  {
   "cell_type": "code",
   "execution_count": 82,
   "metadata": {},
   "outputs": [
    {
     "data": {
      "text/plain": [
       "107"
      ]
     },
     "execution_count": 82,
     "metadata": {},
     "output_type": "execute_result"
    }
   ],
   "source": [
    "(complete_clade_frequencies[\"estimated_growth_rate\"] > 1).sum()"
   ]
  },
  {
   "cell_type": "code",
   "execution_count": null,
   "metadata": {},
   "outputs": [],
   "source": []
  },
  {
   "cell_type": "code",
   "execution_count": 83,
   "metadata": {},
   "outputs": [
    {
     "data": {
      "image/png": "[encoded data removed]",
      "text/plain": [
       "<Figure size 1200x1200 with 1 Axes>"
      ]
     },
     "metadata": {},
     "output_type": "display_data"
    }
   ],
   "source": [
    "fig, ax = plt.subplots(1, 1, figsize=(6, 6))\n",
    "ax.plot(\n",
    "    complete_clade_frequencies[\"log_observed_growth_rate\"],\n",
    "    complete_clade_frequencies[\"log_estimated_growth_rate\"],\n",
    "    \"o\",\n",
    "    alpha=0.4\n",
    ")\n",
    "\n",
    "ax.axhline(color=\"#cccccc\", zorder=-5)\n",
    "ax.axvline(color=\"#cccccc\", zorder=-5)\n",
    "\n",
    "if p < 0.001:\n",
    "    p_value = \"$p$ < 0.001\"\n",
    "else:\n",
    "    p_value = \"$p$ = %.3f\" % p\n",
    "\n",
    "ax.text(\n",
    "    0.02,\n",
    "    0.9,\n",
    "    \"Growth accuracy = %.2f\\nDecline accuracy = %.2f\\n$R$ = %.2f\\n%s\" % (growth_accuracy, decline_accuracy, r, p_value),\n",
    "    fontsize=12,\n",
    "    horizontalalignment=\"left\",\n",
    "    verticalalignment=\"center\",\n",
    "    transform=ax.transAxes\n",
    ")\n",
    "\n",
    "ax.set_xlabel(\"Observed $log_{10}$ growth rate\")\n",
    "ax.set_ylabel(\"Estimated $log_{10}$ growth rate\")\n",
    "\n",
    "ticks = np.arange(-6, 4, 1)\n",
    "ax.set_xticks(ticks)\n",
    "ax.set_yticks(ticks)\n",
    "\n",
    "ax.set_xlim(log_lower_limit, log_upper_limit)\n",
    "ax.set_ylim(log_lower_limit, log_upper_limit)\n",
    "ax.set_aspect(\"equal\")\n",
    "\n",
    "#plt.savefig(\"../manuscript/figures/validation-of-best-model-for-natural-populations.pdf\")"
   ]
  },
  {
   "cell_type": "code",
   "execution_count": 84,
   "metadata": {},
   "outputs": [],
   "source": [
    "false_positives = (complete_clade_frequencies[\"log_observed_growth_rate\"] < 0) & (complete_clade_frequencies[\"log_estimated_growth_rate\"] > 0)"
   ]
  },
  {
   "cell_type": "code",
   "execution_count": 85,
   "metadata": {},
   "outputs": [
    {
     "data": {
      "text/plain": [
       "{'tp': 84, 'tn': 47, 'fp': 23, 'fn': 7}"
      ]
     },
     "execution_count": 85,
     "metadata": {},
     "output_type": "execute_result"
    }
   ],
   "source": [
    "confusion_matrix"
   ]
  },
  {
   "cell_type": "code",
   "execution_count": 86,
   "metadata": {},
   "outputs": [
    {
     "data": {
      "text/html": [
       "<div>\n",
       "<style scoped>\n",
       "    .dataframe tbody tr th:only-of-type {\n",
       "        vertical-align: middle;\n",
       "    }\n",
       "\n",
       "    .dataframe tbody tr th {\n",
       "        vertical-align: top;\n",
       "    }\n",
       "\n",
       "    .dataframe thead th {\n",
       "        text-align: right;\n",
       "    }\n",
       "</style>\n",
       "<table border=\"1\" class=\"dataframe\">\n",
       "  <thead>\n",
       "    <tr style=\"text-align: right;\">\n",
       "      <th></th>\n",
       "      <th>timepoint</th>\n",
       "      <th>clade_membership</th>\n",
       "      <th>frequency</th>\n",
       "      <th>frequency_final</th>\n",
       "      <th>projected_frequency</th>\n",
       "      <th>observed_growth_rate</th>\n",
       "      <th>estimated_growth_rate</th>\n",
       "      <th>year</th>\n",
       "      <th>log_observed_growth_rate</th>\n",
       "      <th>log_estimated_growth_rate</th>\n",
       "      <th>observed_growth</th>\n",
       "      <th>estimated_growth</th>\n",
       "      <th>accurate_growth</th>\n",
       "    </tr>\n",
       "  </thead>\n",
       "  <tbody>\n",
       "    <tr>\n",
       "      <th>702</th>\n",
       "      <td>2014-04-01</td>\n",
       "      <td>80897ab</td>\n",
       "      <td>0.16</td>\n",
       "      <td>0.15</td>\n",
       "      <td>0.49</td>\n",
       "      <td>0.937500</td>\n",
       "      <td>3.062500</td>\n",
       "      <td>2014</td>\n",
       "      <td>-0.027849</td>\n",
       "      <td>0.484256</td>\n",
       "      <td>False</td>\n",
       "      <td>True</td>\n",
       "      <td>False</td>\n",
       "    </tr>\n",
       "    <tr>\n",
       "      <th>81</th>\n",
       "      <td>2006-10-01</td>\n",
       "      <td>8517059</td>\n",
       "      <td>0.27</td>\n",
       "      <td>0.00</td>\n",
       "      <td>0.29</td>\n",
       "      <td>0.000000</td>\n",
       "      <td>1.074074</td>\n",
       "      <td>2006</td>\n",
       "      <td>-2.432969</td>\n",
       "      <td>0.030924</td>\n",
       "      <td>False</td>\n",
       "      <td>True</td>\n",
       "      <td>False</td>\n",
       "    </tr>\n",
       "    <tr>\n",
       "      <th>329</th>\n",
       "      <td>2010-04-01</td>\n",
       "      <td>7fba9ff</td>\n",
       "      <td>0.27</td>\n",
       "      <td>0.16</td>\n",
       "      <td>0.30</td>\n",
       "      <td>0.592593</td>\n",
       "      <td>1.111111</td>\n",
       "      <td>2010</td>\n",
       "      <td>-0.226143</td>\n",
       "      <td>0.045597</td>\n",
       "      <td>False</td>\n",
       "      <td>True</td>\n",
       "      <td>False</td>\n",
       "    </tr>\n",
       "    <tr>\n",
       "      <th>628</th>\n",
       "      <td>2013-10-01</td>\n",
       "      <td>0165eeb</td>\n",
       "      <td>0.27</td>\n",
       "      <td>0.25</td>\n",
       "      <td>0.70</td>\n",
       "      <td>0.925926</td>\n",
       "      <td>2.592593</td>\n",
       "      <td>2013</td>\n",
       "      <td>-0.033296</td>\n",
       "      <td>0.412749</td>\n",
       "      <td>False</td>\n",
       "      <td>True</td>\n",
       "      <td>False</td>\n",
       "    </tr>\n",
       "    <tr>\n",
       "      <th>309</th>\n",
       "      <td>2009-10-01</td>\n",
       "      <td>e62a2e8</td>\n",
       "      <td>0.32</td>\n",
       "      <td>0.01</td>\n",
       "      <td>0.76</td>\n",
       "      <td>0.031250</td>\n",
       "      <td>2.375000</td>\n",
       "      <td>2009</td>\n",
       "      <td>-1.465112</td>\n",
       "      <td>0.374880</td>\n",
       "      <td>False</td>\n",
       "      <td>True</td>\n",
       "      <td>False</td>\n",
       "    </tr>\n",
       "    <tr>\n",
       "      <th>755</th>\n",
       "      <td>2014-10-01</td>\n",
       "      <td>80897ab</td>\n",
       "      <td>0.35</td>\n",
       "      <td>0.04</td>\n",
       "      <td>0.45</td>\n",
       "      <td>0.114286</td>\n",
       "      <td>1.285714</td>\n",
       "      <td>2014</td>\n",
       "      <td>-0.932523</td>\n",
       "      <td>0.108869</td>\n",
       "      <td>False</td>\n",
       "      <td>True</td>\n",
       "      <td>False</td>\n",
       "    </tr>\n",
       "    <tr>\n",
       "      <th>524</th>\n",
       "      <td>2012-04-01</td>\n",
       "      <td>c139e7c</td>\n",
       "      <td>0.36</td>\n",
       "      <td>0.03</td>\n",
       "      <td>0.39</td>\n",
       "      <td>0.083333</td>\n",
       "      <td>1.083333</td>\n",
       "      <td>2012</td>\n",
       "      <td>-1.066146</td>\n",
       "      <td>0.034670</td>\n",
       "      <td>False</td>\n",
       "      <td>True</td>\n",
       "      <td>False</td>\n",
       "    </tr>\n",
       "    <tr>\n",
       "      <th>514</th>\n",
       "      <td>2012-04-01</td>\n",
       "      <td>9449654</td>\n",
       "      <td>0.36</td>\n",
       "      <td>0.03</td>\n",
       "      <td>0.39</td>\n",
       "      <td>0.083333</td>\n",
       "      <td>1.083333</td>\n",
       "      <td>2012</td>\n",
       "      <td>-1.066146</td>\n",
       "      <td>0.034670</td>\n",
       "      <td>False</td>\n",
       "      <td>True</td>\n",
       "      <td>False</td>\n",
       "    </tr>\n",
       "    <tr>\n",
       "      <th>735</th>\n",
       "      <td>2014-10-01</td>\n",
       "      <td>1edac85</td>\n",
       "      <td>0.40</td>\n",
       "      <td>0.06</td>\n",
       "      <td>0.45</td>\n",
       "      <td>0.150000</td>\n",
       "      <td>1.125000</td>\n",
       "      <td>2014</td>\n",
       "      <td>-0.817815</td>\n",
       "      <td>0.051032</td>\n",
       "      <td>False</td>\n",
       "      <td>True</td>\n",
       "      <td>False</td>\n",
       "    </tr>\n",
       "    <tr>\n",
       "      <th>732</th>\n",
       "      <td>2014-10-01</td>\n",
       "      <td>07acbbd</td>\n",
       "      <td>0.40</td>\n",
       "      <td>0.06</td>\n",
       "      <td>0.45</td>\n",
       "      <td>0.150000</td>\n",
       "      <td>1.125000</td>\n",
       "      <td>2014</td>\n",
       "      <td>-0.817815</td>\n",
       "      <td>0.051032</td>\n",
       "      <td>False</td>\n",
       "      <td>True</td>\n",
       "      <td>False</td>\n",
       "    </tr>\n",
       "    <tr>\n",
       "      <th>773</th>\n",
       "      <td>2014-10-01</td>\n",
       "      <td>c9346ca</td>\n",
       "      <td>0.40</td>\n",
       "      <td>0.06</td>\n",
       "      <td>0.45</td>\n",
       "      <td>0.150000</td>\n",
       "      <td>1.125000</td>\n",
       "      <td>2014</td>\n",
       "      <td>-0.817815</td>\n",
       "      <td>0.051032</td>\n",
       "      <td>False</td>\n",
       "      <td>True</td>\n",
       "      <td>False</td>\n",
       "    </tr>\n",
       "    <tr>\n",
       "      <th>390</th>\n",
       "      <td>2010-10-01</td>\n",
       "      <td>e56a121</td>\n",
       "      <td>0.50</td>\n",
       "      <td>0.36</td>\n",
       "      <td>0.68</td>\n",
       "      <td>0.720000</td>\n",
       "      <td>1.360000</td>\n",
       "      <td>2010</td>\n",
       "      <td>-0.142331</td>\n",
       "      <td>0.133309</td>\n",
       "      <td>False</td>\n",
       "      <td>True</td>\n",
       "      <td>False</td>\n",
       "    </tr>\n",
       "    <tr>\n",
       "      <th>380</th>\n",
       "      <td>2010-10-01</td>\n",
       "      <td>a08d8f5</td>\n",
       "      <td>0.50</td>\n",
       "      <td>0.36</td>\n",
       "      <td>0.68</td>\n",
       "      <td>0.720000</td>\n",
       "      <td>1.360000</td>\n",
       "      <td>2010</td>\n",
       "      <td>-0.142331</td>\n",
       "      <td>0.133309</td>\n",
       "      <td>False</td>\n",
       "      <td>True</td>\n",
       "      <td>False</td>\n",
       "    </tr>\n",
       "    <tr>\n",
       "      <th>364</th>\n",
       "      <td>2010-10-01</td>\n",
       "      <td>4786bbf</td>\n",
       "      <td>0.50</td>\n",
       "      <td>0.36</td>\n",
       "      <td>0.68</td>\n",
       "      <td>0.720000</td>\n",
       "      <td>1.360000</td>\n",
       "      <td>2010</td>\n",
       "      <td>-0.142331</td>\n",
       "      <td>0.133309</td>\n",
       "      <td>False</td>\n",
       "      <td>True</td>\n",
       "      <td>False</td>\n",
       "    </tr>\n",
       "    <tr>\n",
       "      <th>353</th>\n",
       "      <td>2010-10-01</td>\n",
       "      <td>026d21f</td>\n",
       "      <td>0.50</td>\n",
       "      <td>0.36</td>\n",
       "      <td>0.68</td>\n",
       "      <td>0.720000</td>\n",
       "      <td>1.360000</td>\n",
       "      <td>2010</td>\n",
       "      <td>-0.142331</td>\n",
       "      <td>0.133309</td>\n",
       "      <td>False</td>\n",
       "      <td>True</td>\n",
       "      <td>False</td>\n",
       "    </tr>\n",
       "    <tr>\n",
       "      <th>394</th>\n",
       "      <td>2011-04-01</td>\n",
       "      <td>026d21f</td>\n",
       "      <td>0.52</td>\n",
       "      <td>0.12</td>\n",
       "      <td>0.86</td>\n",
       "      <td>0.230769</td>\n",
       "      <td>1.653846</td>\n",
       "      <td>2011</td>\n",
       "      <td>-0.634052</td>\n",
       "      <td>0.218165</td>\n",
       "      <td>False</td>\n",
       "      <td>True</td>\n",
       "      <td>False</td>\n",
       "    </tr>\n",
       "    <tr>\n",
       "      <th>437</th>\n",
       "      <td>2011-04-01</td>\n",
       "      <td>e56a121</td>\n",
       "      <td>0.52</td>\n",
       "      <td>0.12</td>\n",
       "      <td>0.86</td>\n",
       "      <td>0.230769</td>\n",
       "      <td>1.653846</td>\n",
       "      <td>2011</td>\n",
       "      <td>-0.634052</td>\n",
       "      <td>0.218165</td>\n",
       "      <td>False</td>\n",
       "      <td>True</td>\n",
       "      <td>False</td>\n",
       "    </tr>\n",
       "    <tr>\n",
       "      <th>425</th>\n",
       "      <td>2011-04-01</td>\n",
       "      <td>a08d8f5</td>\n",
       "      <td>0.52</td>\n",
       "      <td>0.13</td>\n",
       "      <td>0.86</td>\n",
       "      <td>0.250000</td>\n",
       "      <td>1.653846</td>\n",
       "      <td>2011</td>\n",
       "      <td>-0.599566</td>\n",
       "      <td>0.218165</td>\n",
       "      <td>False</td>\n",
       "      <td>True</td>\n",
       "      <td>False</td>\n",
       "    </tr>\n",
       "    <tr>\n",
       "      <th>304</th>\n",
       "      <td>2009-10-01</td>\n",
       "      <td>c0ab28c</td>\n",
       "      <td>0.53</td>\n",
       "      <td>0.15</td>\n",
       "      <td>0.86</td>\n",
       "      <td>0.283019</td>\n",
       "      <td>1.622642</td>\n",
       "      <td>2009</td>\n",
       "      <td>-0.546118</td>\n",
       "      <td>0.209909</td>\n",
       "      <td>False</td>\n",
       "      <td>True</td>\n",
       "      <td>False</td>\n",
       "    </tr>\n",
       "    <tr>\n",
       "      <th>290</th>\n",
       "      <td>2009-10-01</td>\n",
       "      <td>819ddab</td>\n",
       "      <td>0.53</td>\n",
       "      <td>0.15</td>\n",
       "      <td>0.86</td>\n",
       "      <td>0.283019</td>\n",
       "      <td>1.622642</td>\n",
       "      <td>2009</td>\n",
       "      <td>-0.546118</td>\n",
       "      <td>0.209909</td>\n",
       "      <td>False</td>\n",
       "      <td>True</td>\n",
       "      <td>False</td>\n",
       "    </tr>\n",
       "    <tr>\n",
       "      <th>408</th>\n",
       "      <td>2011-04-01</td>\n",
       "      <td>4786bbf</td>\n",
       "      <td>0.53</td>\n",
       "      <td>0.13</td>\n",
       "      <td>0.86</td>\n",
       "      <td>0.245283</td>\n",
       "      <td>1.622642</td>\n",
       "      <td>2011</td>\n",
       "      <td>-0.607823</td>\n",
       "      <td>0.209909</td>\n",
       "      <td>False</td>\n",
       "      <td>True</td>\n",
       "      <td>False</td>\n",
       "    </tr>\n",
       "    <tr>\n",
       "      <th>697</th>\n",
       "      <td>2014-04-01</td>\n",
       "      <td>66a66dd</td>\n",
       "      <td>0.78</td>\n",
       "      <td>0.31</td>\n",
       "      <td>0.95</td>\n",
       "      <td>0.397436</td>\n",
       "      <td>1.217949</td>\n",
       "      <td>2014</td>\n",
       "      <td>-0.399891</td>\n",
       "      <td>0.085529</td>\n",
       "      <td>False</td>\n",
       "      <td>True</td>\n",
       "      <td>False</td>\n",
       "    </tr>\n",
       "    <tr>\n",
       "      <th>706</th>\n",
       "      <td>2014-04-01</td>\n",
       "      <td>8d4351f</td>\n",
       "      <td>0.78</td>\n",
       "      <td>0.31</td>\n",
       "      <td>0.95</td>\n",
       "      <td>0.397436</td>\n",
       "      <td>1.217949</td>\n",
       "      <td>2014</td>\n",
       "      <td>-0.399891</td>\n",
       "      <td>0.085529</td>\n",
       "      <td>False</td>\n",
       "      <td>True</td>\n",
       "      <td>False</td>\n",
       "    </tr>\n",
       "  </tbody>\n",
       "</table>\n",
       "</div>"
      ],
      "text/plain": [
       "     timepoint clade_membership  frequency  frequency_final  \\\n",
       "702 2014-04-01          80897ab       0.16             0.15   \n",
       "81  2006-10-01          8517059       0.27             0.00   \n",
       "329 2010-04-01          7fba9ff       0.27             0.16   \n",
       "628 2013-10-01          0165eeb       0.27             0.25   \n",
       "309 2009-10-01          e62a2e8       0.32             0.01   \n",
       "755 2014-10-01          80897ab       0.35             0.04   \n",
       "524 2012-04-01          c139e7c       0.36             0.03   \n",
       "514 2012-04-01          9449654       0.36             0.03   \n",
       "735 2014-10-01          1edac85       0.40             0.06   \n",
       "732 2014-10-01          07acbbd       0.40             0.06   \n",
       "773 2014-10-01          c9346ca       0.40             0.06   \n",
       "390 2010-10-01          e56a121       0.50             0.36   \n",
       "380 2010-10-01          a08d8f5       0.50             0.36   \n",
       "364 2010-10-01          4786bbf       0.50             0.36   \n",
       "353 2010-10-01          026d21f       0.50             0.36   \n",
       "394 2011-04-01          026d21f       0.52             0.12   \n",
       "437 2011-04-01          e56a121       0.52             0.12   \n",
       "425 2011-04-01          a08d8f5       0.52             0.13   \n",
       "304 2009-10-01          c0ab28c       0.53             0.15   \n",
       "290 2009-10-01          819ddab       0.53             0.15   \n",
       "408 2011-04-01          4786bbf       0.53             0.13   \n",
       "697 2014-04-01          66a66dd       0.78             0.31   \n",
       "706 2014-04-01          8d4351f       0.78             0.31   \n",
       "\n",
       "     projected_frequency  observed_growth_rate  estimated_growth_rate  year  \\\n",
       "702                 0.49              0.937500               3.062500  2014   \n",
       "81                  0.29              0.000000               1.074074  2006   \n",
       "329                 0.30              0.592593               1.111111  2010   \n",
       "628                 0.70              0.925926               2.592593  2013   \n",
       "309                 0.76              0.031250               2.375000  2009   \n",
       "755                 0.45              0.114286               1.285714  2014   \n",
       "524                 0.39              0.083333               1.083333  2012   \n",
       "514                 0.39              0.083333               1.083333  2012   \n",
       "735                 0.45              0.150000               1.125000  2014   \n",
       "732                 0.45              0.150000               1.125000  2014   \n",
       "773                 0.45              0.150000               1.125000  2014   \n",
       "390                 0.68              0.720000               1.360000  2010   \n",
       "380                 0.68              0.720000               1.360000  2010   \n",
       "364                 0.68              0.720000               1.360000  2010   \n",
       "353                 0.68              0.720000               1.360000  2010   \n",
       "394                 0.86              0.230769               1.653846  2011   \n",
       "437                 0.86              0.230769               1.653846  2011   \n",
       "425                 0.86              0.250000               1.653846  2011   \n",
       "304                 0.86              0.283019               1.622642  2009   \n",
       "290                 0.86              0.283019               1.622642  2009   \n",
       "408                 0.86              0.245283               1.622642  2011   \n",
       "697                 0.95              0.397436               1.217949  2014   \n",
       "706                 0.95              0.397436               1.217949  2014   \n",
       "\n",
       "     log_observed_growth_rate  log_estimated_growth_rate  observed_growth  \\\n",
       "702                 -0.027849                   0.484256            False   \n",
       "81                  -2.432969                   0.030924            False   \n",
       "329                 -0.226143                   0.045597            False   \n",
       "628                 -0.033296                   0.412749            False   \n",
       "309                 -1.465112                   0.374880            False   \n",
       "755                 -0.932523                   0.108869            False   \n",
       "524                 -1.066146                   0.034670            False   \n",
       "514                 -1.066146                   0.034670            False   \n",
       "735                 -0.817815                   0.051032            False   \n",
       "732                 -0.817815                   0.051032            False   \n",
       "773                 -0.817815                   0.051032            False   \n",
       "390                 -0.142331                   0.133309            False   \n",
       "380                 -0.142331                   0.133309            False   \n",
       "364                 -0.142331                   0.133309            False   \n",
       "353                 -0.142331                   0.133309            False   \n",
       "394                 -0.634052                   0.218165            False   \n",
       "437                 -0.634052                   0.218165            False   \n",
       "425                 -0.599566                   0.218165            False   \n",
       "304                 -0.546118                   0.209909            False   \n",
       "290                 -0.546118                   0.209909            False   \n",
       "408                 -0.607823                   0.209909            False   \n",
       "697                 -0.399891                   0.085529            False   \n",
       "706                 -0.399891                   0.085529            False   \n",
       "\n",
       "     estimated_growth  accurate_growth  \n",
       "702              True            False  \n",
       "81               True            False  \n",
       "329              True            False  \n",
       "628              True            False  \n",
       "309              True            False  \n",
       "755              True            False  \n",
       "524              True            False  \n",
       "514              True            False  \n",
       "735              True            False  \n",
       "732              True            False  \n",
       "773              True            False  \n",
       "390              True            False  \n",
       "380              True            False  \n",
       "364              True            False  \n",
       "353              True            False  \n",
       "394              True            False  \n",
       "437              True            False  \n",
       "425              True            False  \n",
       "304              True            False  \n",
       "290              True            False  \n",
       "408              True            False  \n",
       "697              True            False  \n",
       "706              True            False  "
      ]
     },
     "execution_count": 86,
     "metadata": {},
     "output_type": "execute_result"
    }
   ],
   "source": [
    "complete_clade_frequencies[false_positives].sort_values(\"frequency\")"
   ]
  },
  {
   "cell_type": "markdown",
   "metadata": {},
   "source": [
    "## Estimated and observed closest strains per timepoint\n",
    "\n",
    "Create a figure similar to Figure 2D in Neher et al. 2014 showing the minimum estimated distance to the future and minimum observed distance to the future per timepoint."
   ]
  },
  {
   "cell_type": "code",
   "execution_count": 87,
   "metadata": {},
   "outputs": [],
   "source": [
    "sorted_df = full_forecasts.dropna().sort_values(\n",
    "    [\"timepoint\"]\n",
    ").copy()"
   ]
  },
  {
   "cell_type": "code",
   "execution_count": 88,
   "metadata": {},
   "outputs": [],
   "source": [
    "sorted_df[\"timepoint_rank\"] = sorted_df.groupby(\"timepoint\")[\"weighted_distance_to_future\"].rank(pct=True)"
   ]
  },
  {
   "cell_type": "code",
   "execution_count": 89,
   "metadata": {},
   "outputs": [],
   "source": [
    "best_fitness_rank_by_timepoint_df = sorted_df.sort_values(\n",
    "    [\"timepoint\", \"fitness\"],\n",
    "    ascending=False\n",
    ").groupby(\"timepoint\")[\"timepoint_rank\"].first().reset_index()"
   ]
  },
  {
   "cell_type": "code",
   "execution_count": 90,
   "metadata": {},
   "outputs": [
    {
     "data": {
      "text/html": [
       "<div>\n",
       "<style scoped>\n",
       "    .dataframe tbody tr th:only-of-type {\n",
       "        vertical-align: middle;\n",
       "    }\n",
       "\n",
       "    .dataframe tbody tr th {\n",
       "        vertical-align: top;\n",
       "    }\n",
       "\n",
       "    .dataframe thead th {\n",
       "        text-align: right;\n",
       "    }\n",
       "</style>\n",
       "<table border=\"1\" class=\"dataframe\">\n",
       "  <thead>\n",
       "    <tr style=\"text-align: right;\">\n",
       "      <th></th>\n",
       "      <th>timepoint</th>\n",
       "      <th>timepoint_rank</th>\n",
       "    </tr>\n",
       "  </thead>\n",
       "  <tbody>\n",
       "    <tr>\n",
       "      <th>0</th>\n",
       "      <td>2005-10-01</td>\n",
       "      <td>0.115217</td>\n",
       "    </tr>\n",
       "    <tr>\n",
       "      <th>1</th>\n",
       "      <td>2006-04-01</td>\n",
       "      <td>0.118863</td>\n",
       "    </tr>\n",
       "    <tr>\n",
       "      <th>2</th>\n",
       "      <td>2006-10-01</td>\n",
       "      <td>0.294737</td>\n",
       "    </tr>\n",
       "    <tr>\n",
       "      <th>3</th>\n",
       "      <td>2007-04-01</td>\n",
       "      <td>0.086605</td>\n",
       "    </tr>\n",
       "    <tr>\n",
       "      <th>4</th>\n",
       "      <td>2007-10-01</td>\n",
       "      <td>0.315565</td>\n",
       "    </tr>\n",
       "  </tbody>\n",
       "</table>\n",
       "</div>"
      ],
      "text/plain": [
       "   timepoint  timepoint_rank\n",
       "0 2005-10-01        0.115217\n",
       "1 2006-04-01        0.118863\n",
       "2 2006-10-01        0.294737\n",
       "3 2007-04-01        0.086605\n",
       "4 2007-10-01        0.315565"
      ]
     },
     "execution_count": 90,
     "metadata": {},
     "output_type": "execute_result"
    }
   ],
   "source": [
    "best_fitness_rank_by_timepoint_df.head()"
   ]
  },
  {
   "cell_type": "code",
   "execution_count": 91,
   "metadata": {},
   "outputs": [
    {
     "data": {
      "text/plain": [
       "Text(0,0.5,'Number of timepoints')"
      ]
     },
     "execution_count": 91,
     "metadata": {},
     "output_type": "execute_result"
    },
    {
     "data": {
      "image/png": "[encoded data removed]",
      "text/plain": [
       "<Figure size 1200x800 with 1 Axes>"
      ]
     },
     "metadata": {},
     "output_type": "display_data"
    }
   ],
   "source": [
    "median_best_rank = best_fitness_rank_by_timepoint_df[\"timepoint_rank\"].median()\n",
    "\n",
    "fig, ax = plt.subplots(1, 1, figsize=(6, 4))\n",
    "ax.hist(best_fitness_rank_by_timepoint_df[\"timepoint_rank\"], bins=np.arange(0, 1.01, 0.05), label=None)\n",
    "ax.axvline(\n",
    "    median_best_rank,\n",
    "    color=\"orange\",\n",
    "    label=\"median = %i%%\" % round(median_best_rank * 100, 0)\n",
    ")\n",
    "ax.set_xticklabels(['{:3.0f}%'.format(x*100) for x in [0, 0.2, 0.4, 0.6, 0.8, 1.0]])\n",
    "ax.set_xlim(0, 1)\n",
    "\n",
    "ax.legend(\n",
    "    frameon=False\n",
    ")\n",
    "ax.set_xlabel(\"Percentile rank of distance for fittest strain\")\n",
    "ax.set_ylabel(\"Number of timepoints\")"
   ]
  },
  {
   "cell_type": "markdown",
   "metadata": {},
   "source": [
    "## Merge validation figures into subpanels of one figure"
   ]
  },
  {
   "cell_type": "code",
   "execution_count": 92,
   "metadata": {},
   "outputs": [
    {
     "data": {
      "image/png": "[encoded data removed]",
      "text/plain": [
       "<Figure size 1600x800 with 2 Axes>"
      ]
     },
     "metadata": {},
     "output_type": "display_data"
    }
   ],
   "source": [
    "fig = plt.figure(figsize=(8, 4), facecolor='w')\n",
    "gs = gridspec.GridSpec(1, 2, width_ratios=[1, 1], wspace=0.1)\n",
    "\n",
    "#\n",
    "# Clade growth rate correlations\n",
    "#\n",
    "\n",
    "clade_ax = fig.add_subplot(gs[0])\n",
    "clade_ax.plot(\n",
    "    complete_clade_frequencies[\"log_observed_growth_rate\"],\n",
    "    complete_clade_frequencies[\"log_estimated_growth_rate\"],\n",
    "    \"o\",\n",
    "    alpha=0.4\n",
    ")\n",
    "\n",
    "clade_ax.axhline(color=\"#cccccc\", zorder=-5)\n",
    "clade_ax.axvline(color=\"#cccccc\", zorder=-5)\n",
    "\n",
    "if p < 0.001:\n",
    "    p_value = \"$p$ < 0.001\"\n",
    "else:\n",
    "    p_value = \"$p$ = %.3f\" % p\n",
    "\n",
    "clade_ax.text(\n",
    "    0.02,\n",
    "    0.9,\n",
    "    \"Growth accuracy = %.2f\\nDecline accuracy = %.2f\\n$R$ = %.2f, %s\\nN = %s\" % (growth_accuracy, decline_accuracy, r, p_value, complete_clade_frequencies.shape[0]),\n",
    "    fontsize=10,\n",
    "    horizontalalignment=\"left\",\n",
    "    verticalalignment=\"center\",\n",
    "    transform=clade_ax.transAxes\n",
    ")\n",
    "\n",
    "clade_ax.set_xlabel(\"Observed $log_{10}$ growth rate\")\n",
    "clade_ax.set_ylabel(\"Estimated $log_{10}$ growth rate\")\n",
    "\n",
    "ticks = np.arange(-6, 4, 1)\n",
    "clade_ax.set_xticks(ticks)\n",
    "clade_ax.set_yticks(ticks)\n",
    "\n",
    "clade_ax.set_xlim(log_lower_limit, log_upper_limit)\n",
    "clade_ax.set_ylim(log_lower_limit, log_upper_limit)\n",
    "clade_ax.set_aspect(\"equal\")\n",
    "\n",
    "#\n",
    "# Estimated closest strain to the future ranking\n",
    "#\n",
    "\n",
    "rank_ax = fig.add_subplot(gs[1])\n",
    "\n",
    "median_best_rank = best_fitness_rank_by_timepoint_df[\"timepoint_rank\"].median()\n",
    "\n",
    "rank_ax.hist(best_fitness_rank_by_timepoint_df[\"timepoint_rank\"], bins=np.arange(0, 1.01, 0.05), label=None)\n",
    "rank_ax.axvline(\n",
    "    median_best_rank,\n",
    "    color=\"orange\",\n",
    "    label=\"median = %i%%\" % round(median_best_rank * 100, 0)\n",
    ")\n",
    "rank_ax.set_xticklabels(['{:3.0f}%'.format(x*100) for x in [0, 0.2, 0.4, 0.6, 0.8, 1.0]])\n",
    "rank_ax.set_xlim(0, 1)\n",
    "\n",
    "rank_ax.legend(\n",
    "    frameon=False\n",
    ")\n",
    "rank_ax.set_xlabel(\"Percentile rank by distance\\nfor estimated best strain\")\n",
    "rank_ax.set_ylabel(\"Number of timepoints\")\n",
    "\n",
    "gs.tight_layout(fig)\n",
    "\n",
    "plt.savefig(\"../manuscript/figures/validation-of-best-model-for-natural-populations.png\")"
   ]
  },
  {
   "cell_type": "code",
   "execution_count": 93,
   "metadata": {},
   "outputs": [
    {
     "data": {
      "text/plain": [
       "12"
      ]
     },
     "execution_count": 93,
     "metadata": {},
     "output_type": "execute_result"
    }
   ],
   "source": [
    "(best_fitness_rank_by_timepoint_df[\"timepoint_rank\"] < 0.2).sum()"
   ]
  },
  {
   "cell_type": "code",
   "execution_count": 94,
   "metadata": {},
   "outputs": [
    {
     "data": {
      "text/plain": [
       "(19, 2)"
      ]
     },
     "execution_count": 94,
     "metadata": {},
     "output_type": "execute_result"
    }
   ],
   "source": [
    "best_fitness_rank_by_timepoint_df.shape"
   ]
  },
  {
   "cell_type": "code",
   "execution_count": 95,
   "metadata": {},
   "outputs": [
    {
     "data": {
      "text/plain": [
       "0.631578947368421"
      ]
     },
     "execution_count": 95,
     "metadata": {},
     "output_type": "execute_result"
    }
   ],
   "source": [
    "(best_fitness_rank_by_timepoint_df[\"timepoint_rank\"] <= 0.2).sum() / float(best_fitness_rank_by_timepoint_df.shape[0])"
   ]
  },
  {
   "cell_type": "code",
   "execution_count": null,
   "metadata": {},
   "outputs": [],
   "source": []
  }
 ],
 "metadata": {
  "kernelspec": {
   "display_name": "Python 3",
   "language": "python",
   "name": "python3"
  },
  "language_info": {
   "codemirror_mode": {
    "name": "ipython",
    "version": 3
   },
   "file_extension": ".py",
   "mimetype": "text/x-python",
   "name": "python",
   "nbconvert_exporter": "python",
   "pygments_lexer": "ipython3",
   "version": "3.6.7"
  }
 },
 "nbformat": 4,
 "nbformat_minor": 4
}
