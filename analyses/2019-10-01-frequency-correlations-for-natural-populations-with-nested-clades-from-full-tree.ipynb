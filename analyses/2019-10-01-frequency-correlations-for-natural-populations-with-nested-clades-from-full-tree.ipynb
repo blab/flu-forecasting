{
 "cells": [
  {
   "cell_type": "markdown",
   "metadata": {},
   "source": [
    "# Frequency correlation plots for natural populations with nested clades from a full tree\n",
    "\n",
    "Example code for how to calculate frequency correlation plots from augur forecasting builds."
   ]
  },
  {
   "cell_type": "code",
   "execution_count": 197,
   "metadata": {},
   "outputs": [],
   "source": [
    "import altair as alt\n",
    "import matplotlib as mpl\n",
    "import matplotlib.pyplot as plt\n",
    "import matplotlib.gridspec as gridspec\n",
    "import numpy as np\n",
    "import pandas as pd\n",
    "from scipy.stats import pearsonr\n",
    "import seaborn as sns\n",
    "\n",
    "%matplotlib inline"
   ]
  },
  {
   "cell_type": "code",
   "execution_count": 198,
   "metadata": {},
   "outputs": [],
   "source": [
    "sns.set_style(\"white\")\n",
    "plt.style.use(\"huddlej\")"
   ]
  },
  {
   "cell_type": "code",
   "execution_count": 199,
   "metadata": {},
   "outputs": [],
   "source": [
    "mpl.rcParams['savefig.dpi'] = 200\n",
    "mpl.rcParams['figure.dpi'] = 200\n",
    "mpl.rcParams['font.weight'] = 300\n",
    "mpl.rcParams['axes.labelweight'] = 300\n",
    "mpl.rcParams['font.size'] = 18"
   ]
  },
  {
   "cell_type": "code",
   "execution_count": 200,
   "metadata": {},
   "outputs": [
    {
     "name": "stdout",
     "output_type": "stream",
     "text": [
      "/Users/jlhudd/projects/nextstrain/flu-forecasting/analyses\n"
     ]
    }
   ],
   "source": [
    "!pwd"
   ]
  },
  {
   "cell_type": "code",
   "execution_count": 201,
   "metadata": {},
   "outputs": [],
   "source": [
    "def matthews_correlation_coefficient(tp, tn, fp, fn):\n",
    "    \"\"\"Return Matthews correlation coefficient for values from a confusion matrix.\n",
    "    Implementation is based on the definition from wikipedia:\n",
    "\n",
    "    https://en.wikipedia.org/wiki/Matthews_correlation_coefficient\n",
    "    \"\"\"\n",
    "    numerator = (tp * tn) - (fp * fn)\n",
    "    denominator = np.sqrt((tp + fp) * (tp + fn) * (tn + fp) * (tn + fn))\n",
    "    if denominator == 0:\n",
    "            denominator = 1\n",
    "\n",
    "    return float(numerator) / denominator\n",
    "\n",
    "def get_matthews_correlation_coefficient_for_data_frame(freq_df, return_confusion_matrix=False):\n",
    "        \"\"\"Calculate Matthew's correlation coefficient from a given pandas data frame\n",
    "        with columns for initial, observed, and predicted frequencies.\n",
    "        \"\"\"\n",
    "        observed_growth = (freq_df[\"frequency_final\"] > freq_df[\"frequency\"])\n",
    "        predicted_growth = (freq_df[\"projected_frequency\"] > freq_df[\"frequency\"])\n",
    "        true_positives = ((observed_growth) & (predicted_growth)).sum()\n",
    "        false_positives= ((~observed_growth) & (predicted_growth)).sum()\n",
    "\n",
    "        observed_decline = (freq_df[\"frequency_final\"] < freq_df[\"frequency\"])\n",
    "        predicted_decline = (freq_df[\"projected_frequency\"] < freq_df[\"frequency\"])\n",
    "        true_negatives = ((observed_decline) & (predicted_decline)).sum()\n",
    "        false_negatives = ((~observed_decline) & (predicted_decline)).sum()\n",
    "\n",
    "        mcc = matthews_correlation_coefficient(\n",
    "            true_positives,\n",
    "            true_negatives,\n",
    "            false_positives,\n",
    "            false_negatives\n",
    "        )\n",
    "\n",
    "        if return_confusion_matrix:\n",
    "            confusion_matrix = {\n",
    "                \"tp\": true_positives,\n",
    "                \"tn\": true_negatives,\n",
    "                \"fp\": false_positives,\n",
    "                \"fn\": false_negatives\n",
    "            }\n",
    "            \n",
    "            return mcc, confusion_matrix\n",
    "        else:\n",
    "            return mcc"
   ]
  },
  {
   "cell_type": "markdown",
   "metadata": {},
   "source": [
    "## Load data"
   ]
  },
  {
   "cell_type": "code",
   "execution_count": 202,
   "metadata": {},
   "outputs": [],
   "source": [
    "min_clade_frequency = 0.15"
   ]
  },
  {
   "cell_type": "code",
   "execution_count": 203,
   "metadata": {},
   "outputs": [],
   "source": [
    "precision = 4"
   ]
  },
  {
   "cell_type": "code",
   "execution_count": 204,
   "metadata": {},
   "outputs": [],
   "source": [
    "data_root = \"../results/builds/natural/natural_sample_1_with_90_vpm_sliding\""
   ]
  },
  {
   "cell_type": "code",
   "execution_count": 205,
   "metadata": {},
   "outputs": [],
   "source": [
    "data_root_full_tree = \"../results/builds/natural/natural_sample_1_with_90_vpm_sliding_full_tree\""
   ]
  },
  {
   "cell_type": "code",
   "execution_count": 206,
   "metadata": {},
   "outputs": [],
   "source": [
    "first_validation_timepoint = \"2003-10-01\""
   ]
  },
  {
   "cell_type": "code",
   "execution_count": 207,
   "metadata": {},
   "outputs": [],
   "source": [
    "tips = pd.read_csv(\n",
    "    \"%s/tip_attributes_with_weighted_distances.tsv\" % data_root,\n",
    "    sep=\"\\t\",\n",
    "    parse_dates=[\"timepoint\"],\n",
    "    usecols=[\"strain\", \"timepoint\", \"frequency\"]\n",
    ")"
   ]
  },
  {
   "cell_type": "code",
   "execution_count": 208,
   "metadata": {},
   "outputs": [],
   "source": [
    "tips = tips.query(\"timepoint >= '%s'\" % first_validation_timepoint).copy()"
   ]
  },
  {
   "cell_type": "code",
   "execution_count": 209,
   "metadata": {},
   "outputs": [],
   "source": [
    "#tips = np.round(tips, precision)"
   ]
  },
  {
   "cell_type": "code",
   "execution_count": 210,
   "metadata": {},
   "outputs": [
    {
     "data": {
      "text/html": [
       "<div>\n",
       "<style scoped>\n",
       "    .dataframe tbody tr th:only-of-type {\n",
       "        vertical-align: middle;\n",
       "    }\n",
       "\n",
       "    .dataframe tbody tr th {\n",
       "        vertical-align: top;\n",
       "    }\n",
       "\n",
       "    .dataframe thead th {\n",
       "        text-align: right;\n",
       "    }\n",
       "</style>\n",
       "<table border=\"1\" class=\"dataframe\">\n",
       "  <thead>\n",
       "    <tr style=\"text-align: right;\">\n",
       "      <th></th>\n",
       "      <th>strain</th>\n",
       "      <th>timepoint</th>\n",
       "      <th>frequency</th>\n",
       "    </tr>\n",
       "  </thead>\n",
       "  <tbody>\n",
       "    <tr>\n",
       "      <th>1971</th>\n",
       "      <td>A/Alaska/17/2003</td>\n",
       "      <td>2003-10-01</td>\n",
       "      <td>0.0001</td>\n",
       "    </tr>\n",
       "  </tbody>\n",
       "</table>\n",
       "</div>"
      ],
      "text/plain": [
       "                strain  timepoint  frequency\n",
       "1971  A/Alaska/17/2003 2003-10-01     0.0001"
      ]
     },
     "execution_count": 210,
     "metadata": {},
     "output_type": "execute_result"
    }
   ],
   "source": [
    "np.round(tips.head(1), precision)"
   ]
  },
  {
   "cell_type": "code",
   "execution_count": 211,
   "metadata": {},
   "outputs": [
    {
     "data": {
      "text/plain": [
       "13817"
      ]
     },
     "execution_count": 211,
     "metadata": {},
     "output_type": "execute_result"
    }
   ],
   "source": [
    "(tips[\"frequency\"] > 0).sum()"
   ]
  },
  {
   "cell_type": "code",
   "execution_count": 212,
   "metadata": {},
   "outputs": [],
   "source": [
    "tips_to_clades = pd.read_csv(\"%s/tips_to_clades.tsv\" % data_root_full_tree, sep=\"\\t\",\n",
    "                             usecols=[\"tip\", \"clade_membership\", \"depth\"])"
   ]
  },
  {
   "cell_type": "code",
   "execution_count": 213,
   "metadata": {},
   "outputs": [],
   "source": [
    "tips_to_clades = tips_to_clades.rename(columns={\"tip\": \"strain\"})"
   ]
  },
  {
   "cell_type": "code",
   "execution_count": 214,
   "metadata": {},
   "outputs": [
    {
     "data": {
      "text/html": [
       "<div>\n",
       "<style scoped>\n",
       "    .dataframe tbody tr th:only-of-type {\n",
       "        vertical-align: middle;\n",
       "    }\n",
       "\n",
       "    .dataframe tbody tr th {\n",
       "        vertical-align: top;\n",
       "    }\n",
       "\n",
       "    .dataframe thead th {\n",
       "        text-align: right;\n",
       "    }\n",
       "</style>\n",
       "<table border=\"1\" class=\"dataframe\">\n",
       "  <thead>\n",
       "    <tr style=\"text-align: right;\">\n",
       "      <th></th>\n",
       "      <th>strain</th>\n",
       "      <th>clade_membership</th>\n",
       "      <th>depth</th>\n",
       "    </tr>\n",
       "  </thead>\n",
       "  <tbody>\n",
       "    <tr>\n",
       "      <th>0</th>\n",
       "      <td>A/Oviedo/31/1992</td>\n",
       "      <td>f719ed0</td>\n",
       "      <td>0</td>\n",
       "    </tr>\n",
       "    <tr>\n",
       "      <th>1</th>\n",
       "      <td>A/Oviedo/31/1992</td>\n",
       "      <td>da3b22d</td>\n",
       "      <td>2</td>\n",
       "    </tr>\n",
       "    <tr>\n",
       "      <th>2</th>\n",
       "      <td>A/Nijmegen/3129/1992</td>\n",
       "      <td>f719ed0</td>\n",
       "      <td>0</td>\n",
       "    </tr>\n",
       "    <tr>\n",
       "      <th>3</th>\n",
       "      <td>A/Nijmegen/3129/1992</td>\n",
       "      <td>da3b22d</td>\n",
       "      <td>3</td>\n",
       "    </tr>\n",
       "    <tr>\n",
       "      <th>4</th>\n",
       "      <td>A/Netherlands/891/1991</td>\n",
       "      <td>f719ed0</td>\n",
       "      <td>0</td>\n",
       "    </tr>\n",
       "    <tr>\n",
       "      <th>5</th>\n",
       "      <td>A/Netherlands/891/1991</td>\n",
       "      <td>da3b22d</td>\n",
       "      <td>3</td>\n",
       "    </tr>\n",
       "    <tr>\n",
       "      <th>6</th>\n",
       "      <td>A/Paris/583/1992</td>\n",
       "      <td>56b7cc4</td>\n",
       "      <td>0</td>\n",
       "    </tr>\n",
       "    <tr>\n",
       "      <th>7</th>\n",
       "      <td>A/Paris/583/1992</td>\n",
       "      <td>da3b22d</td>\n",
       "      <td>2</td>\n",
       "    </tr>\n",
       "    <tr>\n",
       "      <th>8</th>\n",
       "      <td>A/Netherlands/935/1992</td>\n",
       "      <td>3674bd3</td>\n",
       "      <td>0</td>\n",
       "    </tr>\n",
       "    <tr>\n",
       "      <th>9</th>\n",
       "      <td>A/Netherlands/935/1992</td>\n",
       "      <td>56b7cc4</td>\n",
       "      <td>2</td>\n",
       "    </tr>\n",
       "    <tr>\n",
       "      <th>10</th>\n",
       "      <td>A/Netherlands/935/1992</td>\n",
       "      <td>da3b22d</td>\n",
       "      <td>3</td>\n",
       "    </tr>\n",
       "    <tr>\n",
       "      <th>11</th>\n",
       "      <td>A/Enschede/1285/1992</td>\n",
       "      <td>3674bd3</td>\n",
       "      <td>0</td>\n",
       "    </tr>\n",
       "    <tr>\n",
       "      <th>12</th>\n",
       "      <td>A/Enschede/1285/1992</td>\n",
       "      <td>56b7cc4</td>\n",
       "      <td>2</td>\n",
       "    </tr>\n",
       "    <tr>\n",
       "      <th>13</th>\n",
       "      <td>A/Enschede/1285/1992</td>\n",
       "      <td>da3b22d</td>\n",
       "      <td>3</td>\n",
       "    </tr>\n",
       "    <tr>\n",
       "      <th>14</th>\n",
       "      <td>A/Paris/614/1992</td>\n",
       "      <td>5ccf911</td>\n",
       "      <td>0</td>\n",
       "    </tr>\n",
       "    <tr>\n",
       "      <th>15</th>\n",
       "      <td>A/Paris/614/1992</td>\n",
       "      <td>768a5e3</td>\n",
       "      <td>2</td>\n",
       "    </tr>\n",
       "    <tr>\n",
       "      <th>16</th>\n",
       "      <td>A/Paris/614/1992</td>\n",
       "      <td>56b7cc4</td>\n",
       "      <td>3</td>\n",
       "    </tr>\n",
       "    <tr>\n",
       "      <th>17</th>\n",
       "      <td>A/Paris/614/1992</td>\n",
       "      <td>da3b22d</td>\n",
       "      <td>4</td>\n",
       "    </tr>\n",
       "    <tr>\n",
       "      <th>18</th>\n",
       "      <td>A/Netherlands/819/1992</td>\n",
       "      <td>5ccf911</td>\n",
       "      <td>0</td>\n",
       "    </tr>\n",
       "    <tr>\n",
       "      <th>19</th>\n",
       "      <td>A/Netherlands/819/1992</td>\n",
       "      <td>768a5e3</td>\n",
       "      <td>2</td>\n",
       "    </tr>\n",
       "  </tbody>\n",
       "</table>\n",
       "</div>"
      ],
      "text/plain": [
       "                    strain clade_membership  depth\n",
       "0         A/Oviedo/31/1992          f719ed0      0\n",
       "1         A/Oviedo/31/1992          da3b22d      2\n",
       "2     A/Nijmegen/3129/1992          f719ed0      0\n",
       "3     A/Nijmegen/3129/1992          da3b22d      3\n",
       "4   A/Netherlands/891/1991          f719ed0      0\n",
       "5   A/Netherlands/891/1991          da3b22d      3\n",
       "6         A/Paris/583/1992          56b7cc4      0\n",
       "7         A/Paris/583/1992          da3b22d      2\n",
       "8   A/Netherlands/935/1992          3674bd3      0\n",
       "9   A/Netherlands/935/1992          56b7cc4      2\n",
       "10  A/Netherlands/935/1992          da3b22d      3\n",
       "11    A/Enschede/1285/1992          3674bd3      0\n",
       "12    A/Enschede/1285/1992          56b7cc4      2\n",
       "13    A/Enschede/1285/1992          da3b22d      3\n",
       "14        A/Paris/614/1992          5ccf911      0\n",
       "15        A/Paris/614/1992          768a5e3      2\n",
       "16        A/Paris/614/1992          56b7cc4      3\n",
       "17        A/Paris/614/1992          da3b22d      4\n",
       "18  A/Netherlands/819/1992          5ccf911      0\n",
       "19  A/Netherlands/819/1992          768a5e3      2"
      ]
     },
     "execution_count": 214,
     "metadata": {},
     "output_type": "execute_result"
    }
   ],
   "source": [
    "tips_to_clades.head(20)"
   ]
  },
  {
   "cell_type": "code",
   "execution_count": 215,
   "metadata": {},
   "outputs": [
    {
     "data": {
      "text/plain": [
       "(617460, 3)"
      ]
     },
     "execution_count": 215,
     "metadata": {},
     "output_type": "execute_result"
    }
   ],
   "source": [
    "tips_to_clades.shape"
   ]
  },
  {
   "cell_type": "code",
   "execution_count": 216,
   "metadata": {},
   "outputs": [],
   "source": [
    "forecasts = pd.read_csv(\n",
    "    \"%s/forecasts.tsv\" % data_root,\n",
    "    sep=\"\\t\",\n",
    "    parse_dates=[\"timepoint\"],\n",
    "    usecols=[\"timepoint\", \"strain\", \"frequency\", \"projected_frequency\"]\n",
    ")"
   ]
  },
  {
   "cell_type": "code",
   "execution_count": 217,
   "metadata": {},
   "outputs": [],
   "source": [
    "#forecasts = np.round(forecasts, precision)"
   ]
  },
  {
   "cell_type": "code",
   "execution_count": 218,
   "metadata": {},
   "outputs": [
    {
     "data": {
      "text/html": [
       "<div>\n",
       "<style scoped>\n",
       "    .dataframe tbody tr th:only-of-type {\n",
       "        vertical-align: middle;\n",
       "    }\n",
       "\n",
       "    .dataframe tbody tr th {\n",
       "        vertical-align: top;\n",
       "    }\n",
       "\n",
       "    .dataframe thead th {\n",
       "        text-align: right;\n",
       "    }\n",
       "</style>\n",
       "<table border=\"1\" class=\"dataframe\">\n",
       "  <thead>\n",
       "    <tr style=\"text-align: right;\">\n",
       "      <th></th>\n",
       "      <th>timepoint</th>\n",
       "      <th>strain</th>\n",
       "      <th>frequency</th>\n",
       "      <th>projected_frequency</th>\n",
       "    </tr>\n",
       "  </thead>\n",
       "  <tbody>\n",
       "    <tr>\n",
       "      <th>0</th>\n",
       "      <td>1996-10-01</td>\n",
       "      <td>A/Fujian/126/1996</td>\n",
       "      <td>0.0044</td>\n",
       "      <td>0.0143</td>\n",
       "    </tr>\n",
       "  </tbody>\n",
       "</table>\n",
       "</div>"
      ],
      "text/plain": [
       "   timepoint             strain  frequency  projected_frequency\n",
       "0 1996-10-01  A/Fujian/126/1996     0.0044               0.0143"
      ]
     },
     "execution_count": 218,
     "metadata": {},
     "output_type": "execute_result"
    }
   ],
   "source": [
    "np.round(forecasts.head(1), 4)"
   ]
  },
  {
   "cell_type": "code",
   "execution_count": 219,
   "metadata": {},
   "outputs": [],
   "source": [
    "full_forecasts = pd.read_csv(\n",
    "    \"%s/forecasts.tsv\" % data_root,\n",
    "    sep=\"\\t\",\n",
    "    parse_dates=[\"timepoint\", \"future_timepoint\"]\n",
    ")"
   ]
  },
  {
   "cell_type": "code",
   "execution_count": 220,
   "metadata": {},
   "outputs": [],
   "source": [
    "full_forecasts = full_forecasts.query(\"timepoint >= '%s'\" % first_validation_timepoint).copy()"
   ]
  },
  {
   "cell_type": "code",
   "execution_count": 221,
   "metadata": {},
   "outputs": [],
   "source": [
    "#full_forecasts = np.round(full_forecasts, precision)"
   ]
  },
  {
   "cell_type": "code",
   "execution_count": 222,
   "metadata": {},
   "outputs": [
    {
     "data": {
      "text/html": [
       "<div>\n",
       "<style scoped>\n",
       "    .dataframe tbody tr th:only-of-type {\n",
       "        vertical-align: middle;\n",
       "    }\n",
       "\n",
       "    .dataframe tbody tr th {\n",
       "        vertical-align: top;\n",
       "    }\n",
       "\n",
       "    .dataframe thead th {\n",
       "        text-align: right;\n",
       "    }\n",
       "</style>\n",
       "<table border=\"1\" class=\"dataframe\">\n",
       "  <thead>\n",
       "    <tr style=\"text-align: right;\">\n",
       "      <th></th>\n",
       "      <th>timepoint</th>\n",
       "      <th>strain</th>\n",
       "      <th>frequency</th>\n",
       "      <th>weighted_distance_to_present</th>\n",
       "      <th>weighted_distance_to_future</th>\n",
       "      <th>fitness</th>\n",
       "      <th>projected_frequency</th>\n",
       "      <th>y</th>\n",
       "      <th>future_timepoint</th>\n",
       "    </tr>\n",
       "  </thead>\n",
       "  <tbody>\n",
       "    <tr>\n",
       "      <th>1971</th>\n",
       "      <td>2003-10-01</td>\n",
       "      <td>A/Alaska/17/2003</td>\n",
       "      <td>0.000089</td>\n",
       "      <td>16.009253</td>\n",
       "      <td>17.584641</td>\n",
       "      <td>-0.404540</td>\n",
       "      <td>0.000022</td>\n",
       "      <td>15.998975</td>\n",
       "      <td>2004-10-01</td>\n",
       "    </tr>\n",
       "    <tr>\n",
       "      <th>1972</th>\n",
       "      <td>2003-10-01</td>\n",
       "      <td>A/Alaska/AK-V03-1257/2003</td>\n",
       "      <td>0.003066</td>\n",
       "      <td>19.602892</td>\n",
       "      <td>19.669335</td>\n",
       "      <td>-0.877438</td>\n",
       "      <td>0.000469</td>\n",
       "      <td>19.903079</td>\n",
       "      <td>2004-10-01</td>\n",
       "    </tr>\n",
       "    <tr>\n",
       "      <th>1973</th>\n",
       "      <td>2003-10-01</td>\n",
       "      <td>A/Alaska/AK-V03-708/2003</td>\n",
       "      <td>0.000089</td>\n",
       "      <td>16.009253</td>\n",
       "      <td>17.584641</td>\n",
       "      <td>-0.404540</td>\n",
       "      <td>0.000022</td>\n",
       "      <td>15.998975</td>\n",
       "      <td>2004-10-01</td>\n",
       "    </tr>\n",
       "    <tr>\n",
       "      <th>1974</th>\n",
       "      <td>2003-10-01</td>\n",
       "      <td>A/Anhui/318/2003</td>\n",
       "      <td>0.003663</td>\n",
       "      <td>9.363720</td>\n",
       "      <td>7.813836</td>\n",
       "      <td>-2.004048</td>\n",
       "      <td>0.000181</td>\n",
       "      <td>9.102362</td>\n",
       "      <td>2004-10-01</td>\n",
       "    </tr>\n",
       "    <tr>\n",
       "      <th>1975</th>\n",
       "      <td>2003-10-01</td>\n",
       "      <td>A/Anhui/467/2003</td>\n",
       "      <td>0.005841</td>\n",
       "      <td>9.795141</td>\n",
       "      <td>8.308792</td>\n",
       "      <td>-2.305196</td>\n",
       "      <td>0.000214</td>\n",
       "      <td>9.271581</td>\n",
       "      <td>2004-10-01</td>\n",
       "    </tr>\n",
       "  </tbody>\n",
       "</table>\n",
       "</div>"
      ],
      "text/plain": [
       "      timepoint                     strain  frequency  \\\n",
       "1971 2003-10-01           A/Alaska/17/2003   0.000089   \n",
       "1972 2003-10-01  A/Alaska/AK-V03-1257/2003   0.003066   \n",
       "1973 2003-10-01   A/Alaska/AK-V03-708/2003   0.000089   \n",
       "1974 2003-10-01           A/Anhui/318/2003   0.003663   \n",
       "1975 2003-10-01           A/Anhui/467/2003   0.005841   \n",
       "\n",
       "      weighted_distance_to_present  weighted_distance_to_future   fitness  \\\n",
       "1971                     16.009253                    17.584641 -0.404540   \n",
       "1972                     19.602892                    19.669335 -0.877438   \n",
       "1973                     16.009253                    17.584641 -0.404540   \n",
       "1974                      9.363720                     7.813836 -2.004048   \n",
       "1975                      9.795141                     8.308792 -2.305196   \n",
       "\n",
       "      projected_frequency          y future_timepoint  \n",
       "1971             0.000022  15.998975       2004-10-01  \n",
       "1972             0.000469  19.903079       2004-10-01  \n",
       "1973             0.000022  15.998975       2004-10-01  \n",
       "1974             0.000181   9.102362       2004-10-01  \n",
       "1975             0.000214   9.271581       2004-10-01  "
      ]
     },
     "execution_count": 222,
     "metadata": {},
     "output_type": "execute_result"
    }
   ],
   "source": [
    "full_forecasts.head()"
   ]
  },
  {
   "cell_type": "markdown",
   "metadata": {},
   "source": [
    "## Find large clades\n",
    "\n",
    "Find all clades with an initial frequency some minimum value (e.g., >15%)."
   ]
  },
  {
   "cell_type": "code",
   "execution_count": 223,
   "metadata": {},
   "outputs": [
    {
     "data": {
      "text/html": [
       "<div>\n",
       "<style scoped>\n",
       "    .dataframe tbody tr th:only-of-type {\n",
       "        vertical-align: middle;\n",
       "    }\n",
       "\n",
       "    .dataframe tbody tr th {\n",
       "        vertical-align: top;\n",
       "    }\n",
       "\n",
       "    .dataframe thead th {\n",
       "        text-align: right;\n",
       "    }\n",
       "</style>\n",
       "<table border=\"1\" class=\"dataframe\">\n",
       "  <thead>\n",
       "    <tr style=\"text-align: right;\">\n",
       "      <th></th>\n",
       "      <th>strain</th>\n",
       "      <th>timepoint</th>\n",
       "      <th>frequency</th>\n",
       "    </tr>\n",
       "  </thead>\n",
       "  <tbody>\n",
       "    <tr>\n",
       "      <th>1971</th>\n",
       "      <td>A/Alaska/17/2003</td>\n",
       "      <td>2003-10-01</td>\n",
       "      <td>0.000089</td>\n",
       "    </tr>\n",
       "    <tr>\n",
       "      <th>1972</th>\n",
       "      <td>A/Alaska/AK-V03-1257/2003</td>\n",
       "      <td>2003-10-01</td>\n",
       "      <td>0.003066</td>\n",
       "    </tr>\n",
       "    <tr>\n",
       "      <th>1973</th>\n",
       "      <td>A/Alaska/AK-V03-708/2003</td>\n",
       "      <td>2003-10-01</td>\n",
       "      <td>0.000089</td>\n",
       "    </tr>\n",
       "    <tr>\n",
       "      <th>1974</th>\n",
       "      <td>A/Anhui/318/2003</td>\n",
       "      <td>2003-10-01</td>\n",
       "      <td>0.003663</td>\n",
       "    </tr>\n",
       "    <tr>\n",
       "      <th>1975</th>\n",
       "      <td>A/Anhui/467/2003</td>\n",
       "      <td>2003-10-01</td>\n",
       "      <td>0.005841</td>\n",
       "    </tr>\n",
       "  </tbody>\n",
       "</table>\n",
       "</div>"
      ],
      "text/plain": [
       "                         strain  timepoint  frequency\n",
       "1971           A/Alaska/17/2003 2003-10-01   0.000089\n",
       "1972  A/Alaska/AK-V03-1257/2003 2003-10-01   0.003066\n",
       "1973   A/Alaska/AK-V03-708/2003 2003-10-01   0.000089\n",
       "1974           A/Anhui/318/2003 2003-10-01   0.003663\n",
       "1975           A/Anhui/467/2003 2003-10-01   0.005841"
      ]
     },
     "execution_count": 223,
     "metadata": {},
     "output_type": "execute_result"
    }
   ],
   "source": [
    "tips.head()"
   ]
  },
  {
   "cell_type": "code",
   "execution_count": 224,
   "metadata": {},
   "outputs": [],
   "source": [
    "clade_tip_initial_frequencies = tips_to_clades.merge(\n",
    "    tips,\n",
    "    on=[\"strain\"]\n",
    ")"
   ]
  },
  {
   "cell_type": "code",
   "execution_count": 225,
   "metadata": {},
   "outputs": [
    {
     "data": {
      "text/html": [
       "<div>\n",
       "<style scoped>\n",
       "    .dataframe tbody tr th:only-of-type {\n",
       "        vertical-align: middle;\n",
       "    }\n",
       "\n",
       "    .dataframe tbody tr th {\n",
       "        vertical-align: top;\n",
       "    }\n",
       "\n",
       "    .dataframe thead th {\n",
       "        text-align: right;\n",
       "    }\n",
       "</style>\n",
       "<table border=\"1\" class=\"dataframe\">\n",
       "  <thead>\n",
       "    <tr style=\"text-align: right;\">\n",
       "      <th></th>\n",
       "      <th>strain</th>\n",
       "      <th>clade_membership</th>\n",
       "      <th>depth</th>\n",
       "      <th>timepoint</th>\n",
       "      <th>frequency</th>\n",
       "    </tr>\n",
       "  </thead>\n",
       "  <tbody>\n",
       "    <tr>\n",
       "      <th>0</th>\n",
       "      <td>A/NewYork/197/2003</td>\n",
       "      <td>bc28593</td>\n",
       "      <td>0</td>\n",
       "      <td>2003-10-01</td>\n",
       "      <td>0.000026</td>\n",
       "    </tr>\n",
       "    <tr>\n",
       "      <th>1</th>\n",
       "      <td>A/NewYork/197/2003</td>\n",
       "      <td>d6a7721</td>\n",
       "      <td>2</td>\n",
       "      <td>2003-10-01</td>\n",
       "      <td>0.000026</td>\n",
       "    </tr>\n",
       "    <tr>\n",
       "      <th>2</th>\n",
       "      <td>A/NewYork/197/2003</td>\n",
       "      <td>98894e8</td>\n",
       "      <td>3</td>\n",
       "      <td>2003-10-01</td>\n",
       "      <td>0.000026</td>\n",
       "    </tr>\n",
       "    <tr>\n",
       "      <th>3</th>\n",
       "      <td>A/NewYork/197/2003</td>\n",
       "      <td>05a6dc1</td>\n",
       "      <td>5</td>\n",
       "      <td>2003-10-01</td>\n",
       "      <td>0.000026</td>\n",
       "    </tr>\n",
       "    <tr>\n",
       "      <th>4</th>\n",
       "      <td>A/NewYork/197/2003</td>\n",
       "      <td>7dfbda8</td>\n",
       "      <td>9</td>\n",
       "      <td>2003-10-01</td>\n",
       "      <td>0.000026</td>\n",
       "    </tr>\n",
       "  </tbody>\n",
       "</table>\n",
       "</div>"
      ],
      "text/plain": [
       "               strain clade_membership  depth  timepoint  frequency\n",
       "0  A/NewYork/197/2003          bc28593      0 2003-10-01   0.000026\n",
       "1  A/NewYork/197/2003          d6a7721      2 2003-10-01   0.000026\n",
       "2  A/NewYork/197/2003          98894e8      3 2003-10-01   0.000026\n",
       "3  A/NewYork/197/2003          05a6dc1      5 2003-10-01   0.000026\n",
       "4  A/NewYork/197/2003          7dfbda8      9 2003-10-01   0.000026"
      ]
     },
     "execution_count": 225,
     "metadata": {},
     "output_type": "execute_result"
    }
   ],
   "source": [
    "clade_tip_initial_frequencies.head()"
   ]
  },
  {
   "cell_type": "code",
   "execution_count": 226,
   "metadata": {},
   "outputs": [],
   "source": [
    "clade_tip_initial_frequencies[\"future_timepoint\"] = clade_tip_initial_frequencies[\"timepoint\"] + pd.DateOffset(months=12)"
   ]
  },
  {
   "cell_type": "code",
   "execution_count": 227,
   "metadata": {},
   "outputs": [
    {
     "data": {
      "text/html": [
       "<div>\n",
       "<style scoped>\n",
       "    .dataframe tbody tr th:only-of-type {\n",
       "        vertical-align: middle;\n",
       "    }\n",
       "\n",
       "    .dataframe tbody tr th {\n",
       "        vertical-align: top;\n",
       "    }\n",
       "\n",
       "    .dataframe thead th {\n",
       "        text-align: right;\n",
       "    }\n",
       "</style>\n",
       "<table border=\"1\" class=\"dataframe\">\n",
       "  <thead>\n",
       "    <tr style=\"text-align: right;\">\n",
       "      <th></th>\n",
       "      <th>strain</th>\n",
       "      <th>clade_membership</th>\n",
       "      <th>depth</th>\n",
       "      <th>timepoint</th>\n",
       "      <th>frequency</th>\n",
       "      <th>future_timepoint</th>\n",
       "    </tr>\n",
       "  </thead>\n",
       "  <tbody>\n",
       "    <tr>\n",
       "      <th>0</th>\n",
       "      <td>A/NewYork/197/2003</td>\n",
       "      <td>bc28593</td>\n",
       "      <td>0</td>\n",
       "      <td>2003-10-01</td>\n",
       "      <td>0.000026</td>\n",
       "      <td>2004-10-01</td>\n",
       "    </tr>\n",
       "    <tr>\n",
       "      <th>1</th>\n",
       "      <td>A/NewYork/197/2003</td>\n",
       "      <td>d6a7721</td>\n",
       "      <td>2</td>\n",
       "      <td>2003-10-01</td>\n",
       "      <td>0.000026</td>\n",
       "      <td>2004-10-01</td>\n",
       "    </tr>\n",
       "    <tr>\n",
       "      <th>2</th>\n",
       "      <td>A/NewYork/197/2003</td>\n",
       "      <td>98894e8</td>\n",
       "      <td>3</td>\n",
       "      <td>2003-10-01</td>\n",
       "      <td>0.000026</td>\n",
       "      <td>2004-10-01</td>\n",
       "    </tr>\n",
       "    <tr>\n",
       "      <th>3</th>\n",
       "      <td>A/NewYork/197/2003</td>\n",
       "      <td>05a6dc1</td>\n",
       "      <td>5</td>\n",
       "      <td>2003-10-01</td>\n",
       "      <td>0.000026</td>\n",
       "      <td>2004-10-01</td>\n",
       "    </tr>\n",
       "    <tr>\n",
       "      <th>4</th>\n",
       "      <td>A/NewYork/197/2003</td>\n",
       "      <td>7dfbda8</td>\n",
       "      <td>9</td>\n",
       "      <td>2003-10-01</td>\n",
       "      <td>0.000026</td>\n",
       "      <td>2004-10-01</td>\n",
       "    </tr>\n",
       "  </tbody>\n",
       "</table>\n",
       "</div>"
      ],
      "text/plain": [
       "               strain clade_membership  depth  timepoint  frequency  \\\n",
       "0  A/NewYork/197/2003          bc28593      0 2003-10-01   0.000026   \n",
       "1  A/NewYork/197/2003          d6a7721      2 2003-10-01   0.000026   \n",
       "2  A/NewYork/197/2003          98894e8      3 2003-10-01   0.000026   \n",
       "3  A/NewYork/197/2003          05a6dc1      5 2003-10-01   0.000026   \n",
       "4  A/NewYork/197/2003          7dfbda8      9 2003-10-01   0.000026   \n",
       "\n",
       "  future_timepoint  \n",
       "0       2004-10-01  \n",
       "1       2004-10-01  \n",
       "2       2004-10-01  \n",
       "3       2004-10-01  \n",
       "4       2004-10-01  "
      ]
     },
     "execution_count": 227,
     "metadata": {},
     "output_type": "execute_result"
    }
   ],
   "source": [
    "clade_tip_initial_frequencies.head()"
   ]
  },
  {
   "cell_type": "code",
   "execution_count": 228,
   "metadata": {},
   "outputs": [],
   "source": [
    "initial_clade_frequencies = clade_tip_initial_frequencies.groupby([\n",
    "    \"timepoint\", \"future_timepoint\", \"clade_membership\"\n",
    "])[\"frequency\"].sum().reset_index()"
   ]
  },
  {
   "cell_type": "code",
   "execution_count": 229,
   "metadata": {},
   "outputs": [
    {
     "data": {
      "text/html": [
       "<div>\n",
       "<style scoped>\n",
       "    .dataframe tbody tr th:only-of-type {\n",
       "        vertical-align: middle;\n",
       "    }\n",
       "\n",
       "    .dataframe tbody tr th {\n",
       "        vertical-align: top;\n",
       "    }\n",
       "\n",
       "    .dataframe thead th {\n",
       "        text-align: right;\n",
       "    }\n",
       "</style>\n",
       "<table border=\"1\" class=\"dataframe\">\n",
       "  <thead>\n",
       "    <tr style=\"text-align: right;\">\n",
       "      <th></th>\n",
       "      <th>timepoint</th>\n",
       "      <th>future_timepoint</th>\n",
       "      <th>clade_membership</th>\n",
       "      <th>frequency</th>\n",
       "    </tr>\n",
       "  </thead>\n",
       "  <tbody>\n",
       "    <tr>\n",
       "      <th>0</th>\n",
       "      <td>2003-10-01</td>\n",
       "      <td>2004-10-01</td>\n",
       "      <td>015478d</td>\n",
       "      <td>0.006687</td>\n",
       "    </tr>\n",
       "    <tr>\n",
       "      <th>1</th>\n",
       "      <td>2003-10-01</td>\n",
       "      <td>2004-10-01</td>\n",
       "      <td>0252ba2</td>\n",
       "      <td>0.050291</td>\n",
       "    </tr>\n",
       "    <tr>\n",
       "      <th>2</th>\n",
       "      <td>2003-10-01</td>\n",
       "      <td>2004-10-01</td>\n",
       "      <td>02e323e</td>\n",
       "      <td>0.999995</td>\n",
       "    </tr>\n",
       "    <tr>\n",
       "      <th>3</th>\n",
       "      <td>2003-10-01</td>\n",
       "      <td>2004-10-01</td>\n",
       "      <td>048f8ca</td>\n",
       "      <td>0.999995</td>\n",
       "    </tr>\n",
       "    <tr>\n",
       "      <th>4</th>\n",
       "      <td>2003-10-01</td>\n",
       "      <td>2004-10-01</td>\n",
       "      <td>0494631</td>\n",
       "      <td>0.000051</td>\n",
       "    </tr>\n",
       "  </tbody>\n",
       "</table>\n",
       "</div>"
      ],
      "text/plain": [
       "   timepoint future_timepoint clade_membership  frequency\n",
       "0 2003-10-01       2004-10-01          015478d   0.006687\n",
       "1 2003-10-01       2004-10-01          0252ba2   0.050291\n",
       "2 2003-10-01       2004-10-01          02e323e   0.999995\n",
       "3 2003-10-01       2004-10-01          048f8ca   0.999995\n",
       "4 2003-10-01       2004-10-01          0494631   0.000051"
      ]
     },
     "execution_count": 229,
     "metadata": {},
     "output_type": "execute_result"
    }
   ],
   "source": [
    "initial_clade_frequencies.head()"
   ]
  },
  {
   "cell_type": "code",
   "execution_count": 230,
   "metadata": {},
   "outputs": [
    {
     "data": {
      "text/html": [
       "<div>\n",
       "<style scoped>\n",
       "    .dataframe tbody tr th:only-of-type {\n",
       "        vertical-align: middle;\n",
       "    }\n",
       "\n",
       "    .dataframe tbody tr th {\n",
       "        vertical-align: top;\n",
       "    }\n",
       "\n",
       "    .dataframe thead th {\n",
       "        text-align: right;\n",
       "    }\n",
       "</style>\n",
       "<table border=\"1\" class=\"dataframe\">\n",
       "  <thead>\n",
       "    <tr style=\"text-align: right;\">\n",
       "      <th></th>\n",
       "      <th>timepoint</th>\n",
       "      <th>future_timepoint</th>\n",
       "      <th>clade_membership</th>\n",
       "      <th>frequency</th>\n",
       "    </tr>\n",
       "  </thead>\n",
       "  <tbody>\n",
       "    <tr>\n",
       "      <th>627</th>\n",
       "      <td>2005-10-01</td>\n",
       "      <td>2006-10-01</td>\n",
       "      <td>8517059</td>\n",
       "      <td>0.017028</td>\n",
       "    </tr>\n",
       "    <tr>\n",
       "      <th>769</th>\n",
       "      <td>2006-04-01</td>\n",
       "      <td>2007-04-01</td>\n",
       "      <td>8517059</td>\n",
       "      <td>0.286684</td>\n",
       "    </tr>\n",
       "    <tr>\n",
       "      <th>897</th>\n",
       "      <td>2006-10-01</td>\n",
       "      <td>2007-10-01</td>\n",
       "      <td>8517059</td>\n",
       "      <td>0.294691</td>\n",
       "    </tr>\n",
       "    <tr>\n",
       "      <th>1027</th>\n",
       "      <td>2007-04-01</td>\n",
       "      <td>2008-04-01</td>\n",
       "      <td>8517059</td>\n",
       "      <td>0.009279</td>\n",
       "    </tr>\n",
       "    <tr>\n",
       "      <th>1177</th>\n",
       "      <td>2007-10-01</td>\n",
       "      <td>2008-10-01</td>\n",
       "      <td>8517059</td>\n",
       "      <td>0.000287</td>\n",
       "    </tr>\n",
       "  </tbody>\n",
       "</table>\n",
       "</div>"
      ],
      "text/plain": [
       "      timepoint future_timepoint clade_membership  frequency\n",
       "627  2005-10-01       2006-10-01          8517059   0.017028\n",
       "769  2006-04-01       2007-04-01          8517059   0.286684\n",
       "897  2006-10-01       2007-10-01          8517059   0.294691\n",
       "1027 2007-04-01       2008-04-01          8517059   0.009279\n",
       "1177 2007-10-01       2008-10-01          8517059   0.000287"
      ]
     },
     "execution_count": 230,
     "metadata": {},
     "output_type": "execute_result"
    }
   ],
   "source": [
    "initial_clade_frequencies.query(\"clade_membership == '8517059'\")"
   ]
  },
  {
   "cell_type": "markdown",
   "metadata": {},
   "source": [
    "Merge clade frequencies between adjacent years."
   ]
  },
  {
   "cell_type": "code",
   "execution_count": 231,
   "metadata": {},
   "outputs": [],
   "source": [
    "initial_and_observed_clade_frequencies = initial_clade_frequencies.merge(\n",
    "    initial_clade_frequencies,\n",
    "    left_on=[\"future_timepoint\", \"clade_membership\"],\n",
    "    right_on=[\"timepoint\", \"clade_membership\"],\n",
    "    suffixes=[\"\", \"_final\"]\n",
    ").groupby([\"timepoint\", \"clade_membership\", \"frequency\"])[\"frequency_final\"].sum().reset_index()"
   ]
  },
  {
   "cell_type": "code",
   "execution_count": 232,
   "metadata": {},
   "outputs": [
    {
     "data": {
      "text/html": [
       "<div>\n",
       "<style scoped>\n",
       "    .dataframe tbody tr th:only-of-type {\n",
       "        vertical-align: middle;\n",
       "    }\n",
       "\n",
       "    .dataframe tbody tr th {\n",
       "        vertical-align: top;\n",
       "    }\n",
       "\n",
       "    .dataframe thead th {\n",
       "        text-align: right;\n",
       "    }\n",
       "</style>\n",
       "<table border=\"1\" class=\"dataframe\">\n",
       "  <thead>\n",
       "    <tr style=\"text-align: right;\">\n",
       "      <th></th>\n",
       "      <th>timepoint</th>\n",
       "      <th>clade_membership</th>\n",
       "      <th>frequency</th>\n",
       "      <th>frequency_final</th>\n",
       "    </tr>\n",
       "  </thead>\n",
       "  <tbody>\n",
       "    <tr>\n",
       "      <th>0</th>\n",
       "      <td>2003-10-01</td>\n",
       "      <td>02e323e</td>\n",
       "      <td>0.999995</td>\n",
       "      <td>1.000004</td>\n",
       "    </tr>\n",
       "    <tr>\n",
       "      <th>1</th>\n",
       "      <td>2003-10-01</td>\n",
       "      <td>048f8ca</td>\n",
       "      <td>0.999995</td>\n",
       "      <td>1.000004</td>\n",
       "    </tr>\n",
       "    <tr>\n",
       "      <th>2</th>\n",
       "      <td>2003-10-01</td>\n",
       "      <td>09e68a2</td>\n",
       "      <td>0.999995</td>\n",
       "      <td>1.000004</td>\n",
       "    </tr>\n",
       "    <tr>\n",
       "      <th>3</th>\n",
       "      <td>2003-10-01</td>\n",
       "      <td>1523083</td>\n",
       "      <td>0.009504</td>\n",
       "      <td>0.000059</td>\n",
       "    </tr>\n",
       "    <tr>\n",
       "      <th>4</th>\n",
       "      <td>2003-10-01</td>\n",
       "      <td>1b326c6</td>\n",
       "      <td>0.999995</td>\n",
       "      <td>1.000004</td>\n",
       "    </tr>\n",
       "  </tbody>\n",
       "</table>\n",
       "</div>"
      ],
      "text/plain": [
       "   timepoint clade_membership  frequency  frequency_final\n",
       "0 2003-10-01          02e323e   0.999995         1.000004\n",
       "1 2003-10-01          048f8ca   0.999995         1.000004\n",
       "2 2003-10-01          09e68a2   0.999995         1.000004\n",
       "3 2003-10-01          1523083   0.009504         0.000059\n",
       "4 2003-10-01          1b326c6   0.999995         1.000004"
      ]
     },
     "execution_count": 232,
     "metadata": {},
     "output_type": "execute_result"
    }
   ],
   "source": [
    "initial_and_observed_clade_frequencies.head()"
   ]
  },
  {
   "cell_type": "code",
   "execution_count": 233,
   "metadata": {},
   "outputs": [
    {
     "data": {
      "text/html": [
       "<div>\n",
       "<style scoped>\n",
       "    .dataframe tbody tr th:only-of-type {\n",
       "        vertical-align: middle;\n",
       "    }\n",
       "\n",
       "    .dataframe tbody tr th {\n",
       "        vertical-align: top;\n",
       "    }\n",
       "\n",
       "    .dataframe thead th {\n",
       "        text-align: right;\n",
       "    }\n",
       "</style>\n",
       "<table border=\"1\" class=\"dataframe\">\n",
       "  <thead>\n",
       "    <tr style=\"text-align: right;\">\n",
       "      <th></th>\n",
       "      <th>timepoint</th>\n",
       "      <th>clade_membership</th>\n",
       "      <th>frequency</th>\n",
       "      <th>frequency_final</th>\n",
       "    </tr>\n",
       "  </thead>\n",
       "  <tbody>\n",
       "  </tbody>\n",
       "</table>\n",
       "</div>"
      ],
      "text/plain": [
       "Empty DataFrame\n",
       "Columns: [timepoint, clade_membership, frequency, frequency_final]\n",
       "Index: []"
      ]
     },
     "execution_count": 233,
     "metadata": {},
     "output_type": "execute_result"
    }
   ],
   "source": [
    "initial_and_observed_clade_frequencies.query(\"clade_membership == 'cb64469'\")"
   ]
  },
  {
   "cell_type": "markdown",
   "metadata": {},
   "source": [
    "Select clades with an initial frequency >10%."
   ]
  },
  {
   "cell_type": "code",
   "execution_count": 234,
   "metadata": {},
   "outputs": [],
   "source": [
    "large_clades = initial_and_observed_clade_frequencies.query(\"frequency > %s\" % min_clade_frequency).copy()"
   ]
  },
  {
   "cell_type": "code",
   "execution_count": 235,
   "metadata": {},
   "outputs": [
    {
     "data": {
      "text/html": [
       "<div>\n",
       "<style scoped>\n",
       "    .dataframe tbody tr th:only-of-type {\n",
       "        vertical-align: middle;\n",
       "    }\n",
       "\n",
       "    .dataframe tbody tr th {\n",
       "        vertical-align: top;\n",
       "    }\n",
       "\n",
       "    .dataframe thead th {\n",
       "        text-align: right;\n",
       "    }\n",
       "</style>\n",
       "<table border=\"1\" class=\"dataframe\">\n",
       "  <thead>\n",
       "    <tr style=\"text-align: right;\">\n",
       "      <th></th>\n",
       "      <th>timepoint</th>\n",
       "      <th>clade_membership</th>\n",
       "      <th>frequency</th>\n",
       "      <th>frequency_final</th>\n",
       "    </tr>\n",
       "  </thead>\n",
       "  <tbody>\n",
       "    <tr>\n",
       "      <th>0</th>\n",
       "      <td>2003-10-01</td>\n",
       "      <td>02e323e</td>\n",
       "      <td>0.999995</td>\n",
       "      <td>1.000004</td>\n",
       "    </tr>\n",
       "    <tr>\n",
       "      <th>1</th>\n",
       "      <td>2003-10-01</td>\n",
       "      <td>048f8ca</td>\n",
       "      <td>0.999995</td>\n",
       "      <td>1.000004</td>\n",
       "    </tr>\n",
       "    <tr>\n",
       "      <th>2</th>\n",
       "      <td>2003-10-01</td>\n",
       "      <td>09e68a2</td>\n",
       "      <td>0.999995</td>\n",
       "      <td>1.000004</td>\n",
       "    </tr>\n",
       "    <tr>\n",
       "      <th>4</th>\n",
       "      <td>2003-10-01</td>\n",
       "      <td>1b326c6</td>\n",
       "      <td>0.999995</td>\n",
       "      <td>1.000004</td>\n",
       "    </tr>\n",
       "    <tr>\n",
       "      <th>5</th>\n",
       "      <td>2003-10-01</td>\n",
       "      <td>1c5e069</td>\n",
       "      <td>0.949704</td>\n",
       "      <td>1.000004</td>\n",
       "    </tr>\n",
       "  </tbody>\n",
       "</table>\n",
       "</div>"
      ],
      "text/plain": [
       "   timepoint clade_membership  frequency  frequency_final\n",
       "0 2003-10-01          02e323e   0.999995         1.000004\n",
       "1 2003-10-01          048f8ca   0.999995         1.000004\n",
       "2 2003-10-01          09e68a2   0.999995         1.000004\n",
       "4 2003-10-01          1b326c6   0.999995         1.000004\n",
       "5 2003-10-01          1c5e069   0.949704         1.000004"
      ]
     },
     "execution_count": 235,
     "metadata": {},
     "output_type": "execute_result"
    }
   ],
   "source": [
    "large_clades.head()"
   ]
  },
  {
   "cell_type": "code",
   "execution_count": 236,
   "metadata": {},
   "outputs": [
    {
     "data": {
      "text/html": [
       "<div>\n",
       "<style scoped>\n",
       "    .dataframe tbody tr th:only-of-type {\n",
       "        vertical-align: middle;\n",
       "    }\n",
       "\n",
       "    .dataframe tbody tr th {\n",
       "        vertical-align: top;\n",
       "    }\n",
       "\n",
       "    .dataframe thead th {\n",
       "        text-align: right;\n",
       "    }\n",
       "</style>\n",
       "<table border=\"1\" class=\"dataframe\">\n",
       "  <thead>\n",
       "    <tr style=\"text-align: right;\">\n",
       "      <th></th>\n",
       "      <th>timepoint</th>\n",
       "      <th>clade_membership</th>\n",
       "      <th>frequency</th>\n",
       "      <th>frequency_final</th>\n",
       "    </tr>\n",
       "  </thead>\n",
       "  <tbody>\n",
       "    <tr>\n",
       "      <th>1663</th>\n",
       "      <td>2014-10-01</td>\n",
       "      <td>f14fabc</td>\n",
       "      <td>0.222049</td>\n",
       "      <td>0.886460</td>\n",
       "    </tr>\n",
       "    <tr>\n",
       "      <th>1664</th>\n",
       "      <td>2014-10-01</td>\n",
       "      <td>f2ec31a</td>\n",
       "      <td>0.999986</td>\n",
       "      <td>0.999999</td>\n",
       "    </tr>\n",
       "    <tr>\n",
       "      <th>1665</th>\n",
       "      <td>2014-10-01</td>\n",
       "      <td>f3f16af</td>\n",
       "      <td>0.999986</td>\n",
       "      <td>0.999999</td>\n",
       "    </tr>\n",
       "    <tr>\n",
       "      <th>1667</th>\n",
       "      <td>2014-10-01</td>\n",
       "      <td>f8b8996</td>\n",
       "      <td>0.999986</td>\n",
       "      <td>0.999999</td>\n",
       "    </tr>\n",
       "    <tr>\n",
       "      <th>1669</th>\n",
       "      <td>2014-10-01</td>\n",
       "      <td>fd5608c</td>\n",
       "      <td>0.999986</td>\n",
       "      <td>0.999999</td>\n",
       "    </tr>\n",
       "  </tbody>\n",
       "</table>\n",
       "</div>"
      ],
      "text/plain": [
       "      timepoint clade_membership  frequency  frequency_final\n",
       "1663 2014-10-01          f14fabc   0.222049         0.886460\n",
       "1664 2014-10-01          f2ec31a   0.999986         0.999999\n",
       "1665 2014-10-01          f3f16af   0.999986         0.999999\n",
       "1667 2014-10-01          f8b8996   0.999986         0.999999\n",
       "1669 2014-10-01          fd5608c   0.999986         0.999999"
      ]
     },
     "execution_count": 236,
     "metadata": {},
     "output_type": "execute_result"
    }
   ],
   "source": [
    "large_clades.tail()"
   ]
  },
  {
   "cell_type": "code",
   "execution_count": 237,
   "metadata": {},
   "outputs": [
    {
     "data": {
      "text/plain": [
       "(1107, 4)"
      ]
     },
     "execution_count": 237,
     "metadata": {},
     "output_type": "execute_result"
    }
   ],
   "source": [
    "large_clades.shape"
   ]
  },
  {
   "cell_type": "markdown",
   "metadata": {},
   "source": [
    "## Find estimated future frequencies of large clades\n",
    "\n",
    "Use the true fitness metric for forecasts."
   ]
  },
  {
   "cell_type": "code",
   "execution_count": 238,
   "metadata": {},
   "outputs": [],
   "source": [
    "clade_tip_estimated_frequencies = tips_to_clades.merge(\n",
    "    forecasts,\n",
    "    on=[\"strain\"]\n",
    ")"
   ]
  },
  {
   "cell_type": "code",
   "execution_count": 239,
   "metadata": {},
   "outputs": [
    {
     "data": {
      "text/html": [
       "<div>\n",
       "<style scoped>\n",
       "    .dataframe tbody tr th:only-of-type {\n",
       "        vertical-align: middle;\n",
       "    }\n",
       "\n",
       "    .dataframe tbody tr th {\n",
       "        vertical-align: top;\n",
       "    }\n",
       "\n",
       "    .dataframe thead th {\n",
       "        text-align: right;\n",
       "    }\n",
       "</style>\n",
       "<table border=\"1\" class=\"dataframe\">\n",
       "  <thead>\n",
       "    <tr style=\"text-align: right;\">\n",
       "      <th></th>\n",
       "      <th>strain</th>\n",
       "      <th>clade_membership</th>\n",
       "      <th>depth</th>\n",
       "      <th>timepoint</th>\n",
       "      <th>frequency</th>\n",
       "      <th>projected_frequency</th>\n",
       "    </tr>\n",
       "  </thead>\n",
       "  <tbody>\n",
       "    <tr>\n",
       "      <th>0</th>\n",
       "      <td>A/HongKong/434/1996</td>\n",
       "      <td>f8b9dde</td>\n",
       "      <td>0</td>\n",
       "      <td>1997-04-01</td>\n",
       "      <td>0.00055</td>\n",
       "      <td>0.000092</td>\n",
       "    </tr>\n",
       "    <tr>\n",
       "      <th>1</th>\n",
       "      <td>A/HongKong/434/1996</td>\n",
       "      <td>8e08f7f</td>\n",
       "      <td>3</td>\n",
       "      <td>1997-04-01</td>\n",
       "      <td>0.00055</td>\n",
       "      <td>0.000092</td>\n",
       "    </tr>\n",
       "    <tr>\n",
       "      <th>2</th>\n",
       "      <td>A/HongKong/434/1996</td>\n",
       "      <td>56aeb39</td>\n",
       "      <td>4</td>\n",
       "      <td>1997-04-01</td>\n",
       "      <td>0.00055</td>\n",
       "      <td>0.000092</td>\n",
       "    </tr>\n",
       "    <tr>\n",
       "      <th>3</th>\n",
       "      <td>A/HongKong/434/1996</td>\n",
       "      <td>b7fdf48</td>\n",
       "      <td>6</td>\n",
       "      <td>1997-04-01</td>\n",
       "      <td>0.00055</td>\n",
       "      <td>0.000092</td>\n",
       "    </tr>\n",
       "    <tr>\n",
       "      <th>4</th>\n",
       "      <td>A/HongKong/434/1996</td>\n",
       "      <td>36de0d1</td>\n",
       "      <td>7</td>\n",
       "      <td>1997-04-01</td>\n",
       "      <td>0.00055</td>\n",
       "      <td>0.000092</td>\n",
       "    </tr>\n",
       "  </tbody>\n",
       "</table>\n",
       "</div>"
      ],
      "text/plain": [
       "                strain clade_membership  depth  timepoint  frequency  \\\n",
       "0  A/HongKong/434/1996          f8b9dde      0 1997-04-01    0.00055   \n",
       "1  A/HongKong/434/1996          8e08f7f      3 1997-04-01    0.00055   \n",
       "2  A/HongKong/434/1996          56aeb39      4 1997-04-01    0.00055   \n",
       "3  A/HongKong/434/1996          b7fdf48      6 1997-04-01    0.00055   \n",
       "4  A/HongKong/434/1996          36de0d1      7 1997-04-01    0.00055   \n",
       "\n",
       "   projected_frequency  \n",
       "0             0.000092  \n",
       "1             0.000092  \n",
       "2             0.000092  \n",
       "3             0.000092  \n",
       "4             0.000092  "
      ]
     },
     "execution_count": 239,
     "metadata": {},
     "output_type": "execute_result"
    }
   ],
   "source": [
    "clade_tip_estimated_frequencies.head()"
   ]
  },
  {
   "cell_type": "code",
   "execution_count": 240,
   "metadata": {},
   "outputs": [],
   "source": [
    "estimated_clade_frequencies = clade_tip_estimated_frequencies.groupby(\n",
    "    [\"timepoint\", \"clade_membership\"]\n",
    ").aggregate({\"projected_frequency\": \"sum\"}).reset_index()"
   ]
  },
  {
   "cell_type": "code",
   "execution_count": 241,
   "metadata": {},
   "outputs": [
    {
     "data": {
      "text/html": [
       "<div>\n",
       "<style scoped>\n",
       "    .dataframe tbody tr th:only-of-type {\n",
       "        vertical-align: middle;\n",
       "    }\n",
       "\n",
       "    .dataframe tbody tr th {\n",
       "        vertical-align: top;\n",
       "    }\n",
       "\n",
       "    .dataframe thead th {\n",
       "        text-align: right;\n",
       "    }\n",
       "</style>\n",
       "<table border=\"1\" class=\"dataframe\">\n",
       "  <thead>\n",
       "    <tr style=\"text-align: right;\">\n",
       "      <th></th>\n",
       "      <th>timepoint</th>\n",
       "      <th>clade_membership</th>\n",
       "      <th>projected_frequency</th>\n",
       "    </tr>\n",
       "  </thead>\n",
       "  <tbody>\n",
       "    <tr>\n",
       "      <th>0</th>\n",
       "      <td>1996-10-01</td>\n",
       "      <td>02e323e</td>\n",
       "      <td>0.999996</td>\n",
       "    </tr>\n",
       "    <tr>\n",
       "      <th>1</th>\n",
       "      <td>1996-10-01</td>\n",
       "      <td>03a9264</td>\n",
       "      <td>0.000966</td>\n",
       "    </tr>\n",
       "    <tr>\n",
       "      <th>2</th>\n",
       "      <td>1996-10-01</td>\n",
       "      <td>048f8ca</td>\n",
       "      <td>0.025186</td>\n",
       "    </tr>\n",
       "    <tr>\n",
       "      <th>3</th>\n",
       "      <td>1996-10-01</td>\n",
       "      <td>09e68a2</td>\n",
       "      <td>0.078409</td>\n",
       "    </tr>\n",
       "    <tr>\n",
       "      <th>4</th>\n",
       "      <td>1996-10-01</td>\n",
       "      <td>0f08269</td>\n",
       "      <td>0.071122</td>\n",
       "    </tr>\n",
       "  </tbody>\n",
       "</table>\n",
       "</div>"
      ],
      "text/plain": [
       "   timepoint clade_membership  projected_frequency\n",
       "0 1996-10-01          02e323e             0.999996\n",
       "1 1996-10-01          03a9264             0.000966\n",
       "2 1996-10-01          048f8ca             0.025186\n",
       "3 1996-10-01          09e68a2             0.078409\n",
       "4 1996-10-01          0f08269             0.071122"
      ]
     },
     "execution_count": 241,
     "metadata": {},
     "output_type": "execute_result"
    }
   ],
   "source": [
    "estimated_clade_frequencies.head()"
   ]
  },
  {
   "cell_type": "code",
   "execution_count": 242,
   "metadata": {},
   "outputs": [],
   "source": [
    "complete_clade_frequencies = large_clades.merge(\n",
    "    estimated_clade_frequencies,\n",
    "    on=[\"timepoint\", \"clade_membership\"],\n",
    "    suffixes=[\"\", \"_other\"]\n",
    ")"
   ]
  },
  {
   "cell_type": "code",
   "execution_count": 243,
   "metadata": {},
   "outputs": [],
   "source": [
    "complete_clade_frequencies = np.round(complete_clade_frequencies, 2)"
   ]
  },
  {
   "cell_type": "code",
   "execution_count": 244,
   "metadata": {},
   "outputs": [],
   "source": [
    "complete_clade_frequencies = complete_clade_frequencies.query(\"frequency != frequency_final\").copy()"
   ]
  },
  {
   "cell_type": "code",
   "execution_count": 245,
   "metadata": {},
   "outputs": [
    {
     "data": {
      "text/plain": [
       "(209, 5)"
      ]
     },
     "execution_count": 245,
     "metadata": {},
     "output_type": "execute_result"
    }
   ],
   "source": [
    "complete_clade_frequencies.shape"
   ]
  },
  {
   "cell_type": "code",
   "execution_count": 246,
   "metadata": {},
   "outputs": [],
   "source": [
    "complete_clade_frequencies[\"observed_growth_rate\"] = (\n",
    "    complete_clade_frequencies[\"frequency_final\"] / complete_clade_frequencies[\"frequency\"]\n",
    ")"
   ]
  },
  {
   "cell_type": "code",
   "execution_count": 247,
   "metadata": {},
   "outputs": [],
   "source": [
    "complete_clade_frequencies[\"estimated_growth_rate\"] = (\n",
    "    complete_clade_frequencies[\"projected_frequency\"] / complete_clade_frequencies[\"frequency\"]\n",
    ")"
   ]
  },
  {
   "cell_type": "code",
   "execution_count": 248,
   "metadata": {},
   "outputs": [
    {
     "data": {
      "application/vnd.vegalite.v3+json": {
       "$schema": "https://vega.github.io/schema/vega-lite/v3.3.0.json",
       "config": {
        "mark": {
         "tooltip": null
        },
        "view": {
         "height": 300,
         "width": 400
        }
       },
       "data": {
        "name": "data-249be8cb48b53f35228a102e21246b87"
       },
       "datasets": {
        "data-249be8cb48b53f35228a102e21246b87": [
         {
          "clade_membership": "1c5e069",
          "estimated_growth_rate": 1.0421052631578949,
          "frequency": 0.95,
          "frequency_final": 1,
          "observed_growth_rate": 1.0526315789473684,
          "projected_frequency": 0.99,
          "timepoint": "2003-10-01T00:00:00"
         },
         {
          "clade_membership": "4952842",
          "estimated_growth_rate": 1.0888888888888888,
          "frequency": 0.9,
          "frequency_final": 0.97,
          "observed_growth_rate": 1.0777777777777777,
          "projected_frequency": 0.98,
          "timepoint": "2003-10-01T00:00:00"
         },
         {
          "clade_membership": "4e35443",
          "estimated_growth_rate": 1.0421052631578949,
          "frequency": 0.95,
          "frequency_final": 1,
          "observed_growth_rate": 1.0526315789473684,
          "projected_frequency": 0.99,
          "timepoint": "2003-10-01T00:00:00"
         },
         {
          "clade_membership": "6335574",
          "estimated_growth_rate": 1.0421052631578949,
          "frequency": 0.95,
          "frequency_final": 1,
          "observed_growth_rate": 1.0526315789473684,
          "projected_frequency": 0.99,
          "timepoint": "2003-10-01T00:00:00"
         },
         {
          "clade_membership": "8386d16",
          "estimated_growth_rate": 1.0421052631578949,
          "frequency": 0.95,
          "frequency_final": 1,
          "observed_growth_rate": 1.0526315789473684,
          "projected_frequency": 0.99,
          "timepoint": "2003-10-01T00:00:00"
         },
         {
          "clade_membership": "85356dd",
          "estimated_growth_rate": 1.0421052631578949,
          "frequency": 0.95,
          "frequency_final": 1,
          "observed_growth_rate": 1.0526315789473684,
          "projected_frequency": 0.99,
          "timepoint": "2003-10-01T00:00:00"
         },
         {
          "clade_membership": "962ced9",
          "estimated_growth_rate": 1.56140350877193,
          "frequency": 0.57,
          "frequency_final": 0.02,
          "observed_growth_rate": 0.03508771929824562,
          "projected_frequency": 0.89,
          "timepoint": "2003-10-01T00:00:00"
         },
         {
          "clade_membership": "9a3ff5d",
          "estimated_growth_rate": 1.0421052631578949,
          "frequency": 0.95,
          "frequency_final": 1,
          "observed_growth_rate": 1.0526315789473684,
          "projected_frequency": 0.99,
          "timepoint": "2003-10-01T00:00:00"
         },
         {
          "clade_membership": "a5bcb4f",
          "estimated_growth_rate": 1.0421052631578949,
          "frequency": 0.95,
          "frequency_final": 1,
          "observed_growth_rate": 1.0526315789473684,
          "projected_frequency": 0.99,
          "timepoint": "2003-10-01T00:00:00"
         },
         {
          "clade_membership": "aab80f6",
          "estimated_growth_rate": 1.0421052631578949,
          "frequency": 0.95,
          "frequency_final": 1,
          "observed_growth_rate": 1.0526315789473684,
          "projected_frequency": 0.99,
          "timepoint": "2003-10-01T00:00:00"
         },
         {
          "clade_membership": "cd4e884",
          "estimated_growth_rate": 1.0421052631578949,
          "frequency": 0.95,
          "frequency_final": 1,
          "observed_growth_rate": 1.0526315789473684,
          "projected_frequency": 0.99,
          "timepoint": "2003-10-01T00:00:00"
         },
         {
          "clade_membership": "fd5608c",
          "estimated_growth_rate": 1.0421052631578949,
          "frequency": 0.95,
          "frequency_final": 1,
          "observed_growth_rate": 1.0526315789473684,
          "projected_frequency": 0.99,
          "timepoint": "2003-10-01T00:00:00"
         },
         {
          "clade_membership": "1c5e069",
          "estimated_growth_rate": 1,
          "frequency": 1,
          "frequency_final": 0.99,
          "observed_growth_rate": 0.99,
          "projected_frequency": 1,
          "timepoint": "2004-04-01T00:00:00"
         },
         {
          "clade_membership": "412c00a",
          "estimated_growth_rate": 1.318840579710145,
          "frequency": 0.69,
          "frequency_final": 0.97,
          "observed_growth_rate": 1.4057971014492754,
          "projected_frequency": 0.91,
          "timepoint": "2004-04-01T00:00:00"
         },
         {
          "clade_membership": "4952842",
          "estimated_growth_rate": 1,
          "frequency": 1,
          "frequency_final": 0.98,
          "observed_growth_rate": 0.98,
          "projected_frequency": 1,
          "timepoint": "2004-04-01T00:00:00"
         },
         {
          "clade_membership": "4e35443",
          "estimated_growth_rate": 1,
          "frequency": 1,
          "frequency_final": 0.99,
          "observed_growth_rate": 0.99,
          "projected_frequency": 1,
          "timepoint": "2004-04-01T00:00:00"
         },
         {
          "clade_membership": "4ff1302",
          "estimated_growth_rate": 1.5892857142857142,
          "frequency": 0.56,
          "frequency_final": 0.97,
          "observed_growth_rate": 1.732142857142857,
          "projected_frequency": 0.89,
          "timepoint": "2004-04-01T00:00:00"
         },
         {
          "clade_membership": "6335574",
          "estimated_growth_rate": 1,
          "frequency": 1,
          "frequency_final": 0.99,
          "observed_growth_rate": 0.99,
          "projected_frequency": 1,
          "timepoint": "2004-04-01T00:00:00"
         },
         {
          "clade_membership": "8386d16",
          "estimated_growth_rate": 1,
          "frequency": 1,
          "frequency_final": 0.99,
          "observed_growth_rate": 0.99,
          "projected_frequency": 1,
          "timepoint": "2004-04-01T00:00:00"
         },
         {
          "clade_membership": "85356dd",
          "estimated_growth_rate": 1,
          "frequency": 1,
          "frequency_final": 0.99,
          "observed_growth_rate": 0.99,
          "projected_frequency": 1,
          "timepoint": "2004-04-01T00:00:00"
         },
         {
          "clade_membership": "962ced9",
          "estimated_growth_rate": 0.32,
          "frequency": 0.25,
          "frequency_final": 0,
          "observed_growth_rate": 0,
          "projected_frequency": 0.08,
          "timepoint": "2004-04-01T00:00:00"
         },
         {
          "clade_membership": "9a3ff5d",
          "estimated_growth_rate": 1,
          "frequency": 1,
          "frequency_final": 0.99,
          "observed_growth_rate": 0.99,
          "projected_frequency": 1,
          "timepoint": "2004-04-01T00:00:00"
         },
         {
          "clade_membership": "a5bcb4f",
          "estimated_growth_rate": 1,
          "frequency": 1,
          "frequency_final": 0.99,
          "observed_growth_rate": 0.99,
          "projected_frequency": 1,
          "timepoint": "2004-04-01T00:00:00"
         },
         {
          "clade_membership": "aab80f6",
          "estimated_growth_rate": 1,
          "frequency": 1,
          "frequency_final": 0.99,
          "observed_growth_rate": 0.99,
          "projected_frequency": 1,
          "timepoint": "2004-04-01T00:00:00"
         },
         {
          "clade_membership": "cd4e884",
          "estimated_growth_rate": 1,
          "frequency": 1,
          "frequency_final": 0.99,
          "observed_growth_rate": 0.99,
          "projected_frequency": 1,
          "timepoint": "2004-04-01T00:00:00"
         },
         {
          "clade_membership": "fd5608c",
          "estimated_growth_rate": 1,
          "frequency": 1,
          "frequency_final": 0.99,
          "observed_growth_rate": 0.99,
          "projected_frequency": 1,
          "timepoint": "2004-04-01T00:00:00"
         },
         {
          "clade_membership": "06ed3c7",
          "estimated_growth_rate": 0.7083333333333334,
          "frequency": 0.24,
          "frequency_final": 0,
          "observed_growth_rate": 0,
          "projected_frequency": 0.17,
          "timepoint": "2004-10-01T00:00:00"
         },
         {
          "clade_membership": "3a81d99",
          "estimated_growth_rate": 1.2857142857142858,
          "frequency": 0.63,
          "frequency_final": 0.97,
          "observed_growth_rate": 1.5396825396825395,
          "projected_frequency": 0.81,
          "timepoint": "2004-10-01T00:00:00"
         },
         {
          "clade_membership": "412c00a",
          "estimated_growth_rate": 1.0526315789473684,
          "frequency": 0.95,
          "frequency_final": 1,
          "observed_growth_rate": 1.0526315789473684,
          "projected_frequency": 1,
          "timepoint": "2004-10-01T00:00:00"
         },
         {
          "clade_membership": "44989e1",
          "estimated_growth_rate": 1.1529411764705881,
          "frequency": 0.85,
          "frequency_final": 0.96,
          "observed_growth_rate": 1.1294117647058823,
          "projected_frequency": 0.98,
          "timepoint": "2004-10-01T00:00:00"
         },
         {
          "clade_membership": "4952842",
          "estimated_growth_rate": 1.0309278350515465,
          "frequency": 0.97,
          "frequency_final": 1,
          "observed_growth_rate": 1.0309278350515465,
          "projected_frequency": 1,
          "timepoint": "2004-10-01T00:00:00"
         },
         {
          "clade_membership": "4ff1302",
          "estimated_growth_rate": 1.0526315789473684,
          "frequency": 0.95,
          "frequency_final": 1,
          "observed_growth_rate": 1.0526315789473684,
          "projected_frequency": 1,
          "timepoint": "2004-10-01T00:00:00"
         },
         {
          "clade_membership": "7aa732d",
          "estimated_growth_rate": 1.375,
          "frequency": 0.56,
          "frequency_final": 0.95,
          "observed_growth_rate": 1.6964285714285712,
          "projected_frequency": 0.77,
          "timepoint": "2004-10-01T00:00:00"
         },
         {
          "clade_membership": "1c5e069",
          "estimated_growth_rate": 1.0101010101010102,
          "frequency": 0.99,
          "frequency_final": 1,
          "observed_growth_rate": 1.0101010101010102,
          "projected_frequency": 1,
          "timepoint": "2005-04-01T00:00:00"
         },
         {
          "clade_membership": "3a81d99",
          "estimated_growth_rate": 1.1333333333333333,
          "frequency": 0.75,
          "frequency_final": 1,
          "observed_growth_rate": 1.3333333333333333,
          "projected_frequency": 0.85,
          "timepoint": "2005-04-01T00:00:00"
         },
         {
          "clade_membership": "412c00a",
          "estimated_growth_rate": 1.0309278350515465,
          "frequency": 0.97,
          "frequency_final": 1,
          "observed_growth_rate": 1.0309278350515465,
          "projected_frequency": 1,
          "timepoint": "2005-04-01T00:00:00"
         },
         {
          "clade_membership": "44989e1",
          "estimated_growth_rate": 1.125,
          "frequency": 0.88,
          "frequency_final": 1,
          "observed_growth_rate": 1.1363636363636365,
          "projected_frequency": 0.99,
          "timepoint": "2005-04-01T00:00:00"
         },
         {
          "clade_membership": "4952842",
          "estimated_growth_rate": 1.0204081632653061,
          "frequency": 0.98,
          "frequency_final": 1,
          "observed_growth_rate": 1.0204081632653061,
          "projected_frequency": 1,
          "timepoint": "2005-04-01T00:00:00"
         },
         {
          "clade_membership": "4e35443",
          "estimated_growth_rate": 1.0101010101010102,
          "frequency": 0.99,
          "frequency_final": 1,
          "observed_growth_rate": 1.0101010101010102,
          "projected_frequency": 1,
          "timepoint": "2005-04-01T00:00:00"
         },
         {
          "clade_membership": "4ff1302",
          "estimated_growth_rate": 1.0309278350515465,
          "frequency": 0.97,
          "frequency_final": 1,
          "observed_growth_rate": 1.0309278350515465,
          "projected_frequency": 1,
          "timepoint": "2005-04-01T00:00:00"
         },
         {
          "clade_membership": "6335574",
          "estimated_growth_rate": 1.0101010101010102,
          "frequency": 0.99,
          "frequency_final": 1,
          "observed_growth_rate": 1.0101010101010102,
          "projected_frequency": 1,
          "timepoint": "2005-04-01T00:00:00"
         },
         {
          "clade_membership": "7aa732d",
          "estimated_growth_rate": 1.1830985915492958,
          "frequency": 0.71,
          "frequency_final": 0.99,
          "observed_growth_rate": 1.3943661971830987,
          "projected_frequency": 0.84,
          "timepoint": "2005-04-01T00:00:00"
         },
         {
          "clade_membership": "8386d16",
          "estimated_growth_rate": 1.0101010101010102,
          "frequency": 0.99,
          "frequency_final": 1,
          "observed_growth_rate": 1.0101010101010102,
          "projected_frequency": 1,
          "timepoint": "2005-04-01T00:00:00"
         },
         {
          "clade_membership": "85356dd",
          "estimated_growth_rate": 1.0101010101010102,
          "frequency": 0.99,
          "frequency_final": 1,
          "observed_growth_rate": 1.0101010101010102,
          "projected_frequency": 1,
          "timepoint": "2005-04-01T00:00:00"
         },
         {
          "clade_membership": "9a3ff5d",
          "estimated_growth_rate": 1.0101010101010102,
          "frequency": 0.99,
          "frequency_final": 1,
          "observed_growth_rate": 1.0101010101010102,
          "projected_frequency": 1,
          "timepoint": "2005-04-01T00:00:00"
         },
         {
          "clade_membership": "a5bcb4f",
          "estimated_growth_rate": 1.0101010101010102,
          "frequency": 0.99,
          "frequency_final": 1,
          "observed_growth_rate": 1.0101010101010102,
          "projected_frequency": 1,
          "timepoint": "2005-04-01T00:00:00"
         },
         {
          "clade_membership": "aab80f6",
          "estimated_growth_rate": 1.0101010101010102,
          "frequency": 0.99,
          "frequency_final": 1,
          "observed_growth_rate": 1.0101010101010102,
          "projected_frequency": 1,
          "timepoint": "2005-04-01T00:00:00"
         },
         {
          "clade_membership": "cd4e884",
          "estimated_growth_rate": 1.0101010101010102,
          "frequency": 0.99,
          "frequency_final": 1,
          "observed_growth_rate": 1.0101010101010102,
          "projected_frequency": 1,
          "timepoint": "2005-04-01T00:00:00"
         },
         {
          "clade_membership": "fd5608c",
          "estimated_growth_rate": 1.0101010101010102,
          "frequency": 0.99,
          "frequency_final": 1,
          "observed_growth_rate": 1.0101010101010102,
          "projected_frequency": 1,
          "timepoint": "2005-04-01T00:00:00"
         },
         {
          "clade_membership": "2806112",
          "estimated_growth_rate": 0.24,
          "frequency": 0.25,
          "frequency_final": 0,
          "observed_growth_rate": 0,
          "projected_frequency": 0.06,
          "timepoint": "2005-10-01T00:00:00"
         },
         {
          "clade_membership": "3a81d99",
          "estimated_growth_rate": 1.0309278350515465,
          "frequency": 0.97,
          "frequency_final": 1,
          "observed_growth_rate": 1.0309278350515465,
          "projected_frequency": 1,
          "timepoint": "2005-10-01T00:00:00"
         },
         {
          "clade_membership": "44989e1",
          "estimated_growth_rate": 1.0416666666666667,
          "frequency": 0.96,
          "frequency_final": 1,
          "observed_growth_rate": 1.0416666666666667,
          "projected_frequency": 1,
          "timepoint": "2005-10-01T00:00:00"
         },
         {
          "clade_membership": "5ce45ae",
          "estimated_growth_rate": 0.21428571428571425,
          "frequency": 0.28,
          "frequency_final": 0.03,
          "observed_growth_rate": 0.10714285714285712,
          "projected_frequency": 0.06,
          "timepoint": "2005-10-01T00:00:00"
         },
         {
          "clade_membership": "6a436ac",
          "estimated_growth_rate": 0.2727272727272727,
          "frequency": 0.22,
          "frequency_final": 0,
          "observed_growth_rate": 0,
          "projected_frequency": 0.06,
          "timepoint": "2005-10-01T00:00:00"
         },
         {
          "clade_membership": "7aa732d",
          "estimated_growth_rate": 1.0526315789473684,
          "frequency": 0.95,
          "frequency_final": 1,
          "observed_growth_rate": 1.0526315789473684,
          "projected_frequency": 1,
          "timepoint": "2005-10-01T00:00:00"
         },
         {
          "clade_membership": "9b04f13",
          "estimated_growth_rate": 1.6428571428571428,
          "frequency": 0.56,
          "frequency_final": 0.95,
          "observed_growth_rate": 1.6964285714285712,
          "projected_frequency": 0.92,
          "timepoint": "2005-10-01T00:00:00"
         },
         {
          "clade_membership": "d8ea4e1",
          "estimated_growth_rate": 0.21428571428571425,
          "frequency": 0.28,
          "frequency_final": 0.05,
          "observed_growth_rate": 0.17857142857142858,
          "projected_frequency": 0.06,
          "timepoint": "2005-10-01T00:00:00"
         },
         {
          "clade_membership": "3a81d99",
          "estimated_growth_rate": 1,
          "frequency": 1,
          "frequency_final": 0.99,
          "observed_growth_rate": 0.99,
          "projected_frequency": 1,
          "timepoint": "2006-04-01T00:00:00"
         },
         {
          "clade_membership": "5ce45ae",
          "estimated_growth_rate": 0.13636363636363635,
          "frequency": 0.22,
          "frequency_final": 0.01,
          "observed_growth_rate": 0.045454545454545456,
          "projected_frequency": 0.03,
          "timepoint": "2006-04-01T00:00:00"
         },
         {
          "clade_membership": "8517059",
          "estimated_growth_rate": 0.6551724137931035,
          "frequency": 0.29,
          "frequency_final": 0.01,
          "observed_growth_rate": 0.03448275862068966,
          "projected_frequency": 0.19,
          "timepoint": "2006-04-01T00:00:00"
         },
         {
          "clade_membership": "9b04f13",
          "estimated_growth_rate": 1.2933333333333332,
          "frequency": 0.75,
          "frequency_final": 0.98,
          "observed_growth_rate": 1.3066666666666666,
          "projected_frequency": 0.97,
          "timepoint": "2006-04-01T00:00:00"
         },
         {
          "clade_membership": "d8ea4e1",
          "estimated_growth_rate": 0.13636363636363635,
          "frequency": 0.22,
          "frequency_final": 0.01,
          "observed_growth_rate": 0.045454545454545456,
          "projected_frequency": 0.03,
          "timepoint": "2006-04-01T00:00:00"
         },
         {
          "clade_membership": "1518fdb",
          "estimated_growth_rate": 0.9333333333333335,
          "frequency": 0.15,
          "frequency_final": 0.2,
          "observed_growth_rate": 1.3333333333333335,
          "projected_frequency": 0.14,
          "timepoint": "2006-10-01T00:00:00"
         },
         {
          "clade_membership": "3c0baec",
          "estimated_growth_rate": 1.25,
          "frequency": 0.44,
          "frequency_final": 0.8,
          "observed_growth_rate": 1.8181818181818183,
          "projected_frequency": 0.55,
          "timepoint": "2006-10-01T00:00:00"
         },
         {
          "clade_membership": "8517059",
          "estimated_growth_rate": 1,
          "frequency": 0.29,
          "frequency_final": 0,
          "observed_growth_rate": 0,
          "projected_frequency": 0.29,
          "timepoint": "2006-10-01T00:00:00"
         },
         {
          "clade_membership": "9b04f13",
          "estimated_growth_rate": 1.0526315789473684,
          "frequency": 0.95,
          "frequency_final": 1,
          "observed_growth_rate": 1.0526315789473684,
          "projected_frequency": 1,
          "timepoint": "2006-10-01T00:00:00"
         },
         {
          "clade_membership": "b122c5c",
          "estimated_growth_rate": 0.9333333333333335,
          "frequency": 0.15,
          "frequency_final": 0.2,
          "observed_growth_rate": 1.3333333333333335,
          "projected_frequency": 0.14,
          "timepoint": "2006-10-01T00:00:00"
         },
         {
          "clade_membership": "1518fdb",
          "estimated_growth_rate": 0.5238095238095238,
          "frequency": 0.21,
          "frequency_final": 0.03,
          "observed_growth_rate": 0.14285714285714285,
          "projected_frequency": 0.11,
          "timepoint": "2007-04-01T00:00:00"
         },
         {
          "clade_membership": "3a81d99",
          "estimated_growth_rate": 1.0101010101010102,
          "frequency": 0.99,
          "frequency_final": 1,
          "observed_growth_rate": 1.0101010101010102,
          "projected_frequency": 1,
          "timepoint": "2007-04-01T00:00:00"
         },
         {
          "clade_membership": "3c0baec",
          "estimated_growth_rate": 1.1733333333333333,
          "frequency": 0.75,
          "frequency_final": 0.97,
          "observed_growth_rate": 1.2933333333333332,
          "projected_frequency": 0.88,
          "timepoint": "2007-04-01T00:00:00"
         },
         {
          "clade_membership": "74a2c50",
          "estimated_growth_rate": 0.46428571428571425,
          "frequency": 0.28,
          "frequency_final": 0.01,
          "observed_growth_rate": 0.03571428571428571,
          "projected_frequency": 0.13,
          "timepoint": "2007-04-01T00:00:00"
         },
         {
          "clade_membership": "7aa732d",
          "estimated_growth_rate": 1.0101010101010102,
          "frequency": 0.99,
          "frequency_final": 1,
          "observed_growth_rate": 1.0101010101010102,
          "projected_frequency": 1,
          "timepoint": "2007-04-01T00:00:00"
         },
         {
          "clade_membership": "8dd9dae",
          "estimated_growth_rate": 1.7380952380952381,
          "frequency": 0.42,
          "frequency_final": 0.96,
          "observed_growth_rate": 2.2857142857142856,
          "projected_frequency": 0.73,
          "timepoint": "2007-04-01T00:00:00"
         },
         {
          "clade_membership": "91769ce",
          "estimated_growth_rate": 1.7560975609756098,
          "frequency": 0.41,
          "frequency_final": 0.96,
          "observed_growth_rate": 2.341463414634146,
          "projected_frequency": 0.72,
          "timepoint": "2007-04-01T00:00:00"
         },
         {
          "clade_membership": "9b04f13",
          "estimated_growth_rate": 1.010204081632653,
          "frequency": 0.98,
          "frequency_final": 1,
          "observed_growth_rate": 1.0204081632653061,
          "projected_frequency": 0.99,
          "timepoint": "2007-04-01T00:00:00"
         },
         {
          "clade_membership": "a5fc6e2",
          "estimated_growth_rate": 0.5217391304347826,
          "frequency": 0.23,
          "frequency_final": 0.01,
          "observed_growth_rate": 0.043478260869565216,
          "projected_frequency": 0.12,
          "timepoint": "2007-04-01T00:00:00"
         },
         {
          "clade_membership": "b122c5c",
          "estimated_growth_rate": 0.5,
          "frequency": 0.22,
          "frequency_final": 0.03,
          "observed_growth_rate": 0.13636363636363635,
          "projected_frequency": 0.11,
          "timepoint": "2007-04-01T00:00:00"
         },
         {
          "clade_membership": "3c0baec",
          "estimated_growth_rate": 1.2125,
          "frequency": 0.8,
          "frequency_final": 1,
          "observed_growth_rate": 1.25,
          "projected_frequency": 0.97,
          "timepoint": "2007-10-01T00:00:00"
         },
         {
          "clade_membership": "8dd9dae",
          "estimated_growth_rate": 1.3150684931506849,
          "frequency": 0.73,
          "frequency_final": 1,
          "observed_growth_rate": 1.36986301369863,
          "projected_frequency": 0.96,
          "timepoint": "2007-10-01T00:00:00"
         },
         {
          "clade_membership": "91769ce",
          "estimated_growth_rate": 1.3150684931506849,
          "frequency": 0.73,
          "frequency_final": 1,
          "observed_growth_rate": 1.36986301369863,
          "projected_frequency": 0.96,
          "timepoint": "2007-10-01T00:00:00"
         },
         {
          "clade_membership": "3c0baec",
          "estimated_growth_rate": 1.0206185567010309,
          "frequency": 0.97,
          "frequency_final": 1,
          "observed_growth_rate": 1.0309278350515465,
          "projected_frequency": 0.99,
          "timepoint": "2008-04-01T00:00:00"
         },
         {
          "clade_membership": "41bb3e2",
          "estimated_growth_rate": 2.243243243243243,
          "frequency": 0.37,
          "frequency_final": 0.93,
          "observed_growth_rate": 2.5135135135135136,
          "projected_frequency": 0.83,
          "timepoint": "2008-04-01T00:00:00"
         },
         {
          "clade_membership": "4cd02c7",
          "estimated_growth_rate": 0.25,
          "frequency": 0.16,
          "frequency_final": 0.01,
          "observed_growth_rate": 0.0625,
          "projected_frequency": 0.04,
          "timepoint": "2008-04-01T00:00:00"
         },
         {
          "clade_membership": "8dd9dae",
          "estimated_growth_rate": 1.03125,
          "frequency": 0.96,
          "frequency_final": 1,
          "observed_growth_rate": 1.0416666666666667,
          "projected_frequency": 0.99,
          "timepoint": "2008-04-01T00:00:00"
         },
         {
          "clade_membership": "91769ce",
          "estimated_growth_rate": 1.03125,
          "frequency": 0.96,
          "frequency_final": 1,
          "observed_growth_rate": 1.0416666666666667,
          "projected_frequency": 0.99,
          "timepoint": "2008-04-01T00:00:00"
         },
         {
          "clade_membership": "b7ff90b",
          "estimated_growth_rate": 2.243243243243243,
          "frequency": 0.37,
          "frequency_final": 0.93,
          "observed_growth_rate": 2.5135135135135136,
          "projected_frequency": 0.83,
          "timepoint": "2008-04-01T00:00:00"
         },
         {
          "clade_membership": "d633ffe",
          "estimated_growth_rate": 0.3125,
          "frequency": 0.16,
          "frequency_final": 0.01,
          "observed_growth_rate": 0.0625,
          "projected_frequency": 0.05,
          "timepoint": "2008-04-01T00:00:00"
         },
         {
          "clade_membership": "41bb3e2",
          "estimated_growth_rate": 1.5471698113207546,
          "frequency": 0.53,
          "frequency_final": 1,
          "observed_growth_rate": 1.8867924528301885,
          "projected_frequency": 0.82,
          "timepoint": "2008-10-01T00:00:00"
         },
         {
          "clade_membership": "4cd02c7",
          "estimated_growth_rate": 0.6956521739130435,
          "frequency": 0.23,
          "frequency_final": 0,
          "observed_growth_rate": 0,
          "projected_frequency": 0.16,
          "timepoint": "2008-10-01T00:00:00"
         },
         {
          "clade_membership": "b7ff90b",
          "estimated_growth_rate": 1.5471698113207546,
          "frequency": 0.53,
          "frequency_final": 1,
          "observed_growth_rate": 1.8867924528301885,
          "projected_frequency": 0.82,
          "timepoint": "2008-10-01T00:00:00"
         },
         {
          "clade_membership": "d633ffe",
          "estimated_growth_rate": 0.6956521739130435,
          "frequency": 0.23,
          "frequency_final": 0,
          "observed_growth_rate": 0,
          "projected_frequency": 0.16,
          "timepoint": "2008-10-01T00:00:00"
         },
         {
          "clade_membership": "33f72b5",
          "estimated_growth_rate": 0.1764705882352941,
          "frequency": 0.17,
          "frequency_final": 0.03,
          "observed_growth_rate": 0.1764705882352941,
          "projected_frequency": 0.03,
          "timepoint": "2009-04-01T00:00:00"
         },
         {
          "clade_membership": "41bb3e2",
          "estimated_growth_rate": 1.064516129032258,
          "frequency": 0.93,
          "frequency_final": 0.99,
          "observed_growth_rate": 1.064516129032258,
          "projected_frequency": 0.99,
          "timepoint": "2009-04-01T00:00:00"
         },
         {
          "clade_membership": "b7ff90b",
          "estimated_growth_rate": 1.064516129032258,
          "frequency": 0.93,
          "frequency_final": 0.99,
          "observed_growth_rate": 1.064516129032258,
          "projected_frequency": 0.99,
          "timepoint": "2009-04-01T00:00:00"
         },
         {
          "clade_membership": "13a450d",
          "estimated_growth_rate": 1.3714285714285714,
          "frequency": 0.35,
          "frequency_final": 0.84,
          "observed_growth_rate": 2.4,
          "projected_frequency": 0.48,
          "timepoint": "2009-10-01T00:00:00"
         },
         {
          "clade_membership": "1447f74",
          "estimated_growth_rate": 0.9622641509433962,
          "frequency": 0.53,
          "frequency_final": 0.16,
          "observed_growth_rate": 0.3018867924528302,
          "projected_frequency": 0.51,
          "timepoint": "2009-10-01T00:00:00"
         },
         {
          "clade_membership": "819ddab",
          "estimated_growth_rate": 0.9622641509433962,
          "frequency": 0.53,
          "frequency_final": 0.16,
          "observed_growth_rate": 0.3018867924528302,
          "projected_frequency": 0.51,
          "timepoint": "2009-10-01T00:00:00"
         },
         {
          "clade_membership": "956f201",
          "estimated_growth_rate": 1.3714285714285714,
          "frequency": 0.35,
          "frequency_final": 0.84,
          "observed_growth_rate": 2.4,
          "projected_frequency": 0.48,
          "timepoint": "2009-10-01T00:00:00"
         },
         {
          "clade_membership": "c0ab28c",
          "estimated_growth_rate": 0.9622641509433962,
          "frequency": 0.53,
          "frequency_final": 0.16,
          "observed_growth_rate": 0.3018867924528302,
          "projected_frequency": 0.51,
          "timepoint": "2009-10-01T00:00:00"
         },
         {
          "clade_membership": "e62a2e8",
          "estimated_growth_rate": 1.129032258064516,
          "frequency": 0.31,
          "frequency_final": 0.01,
          "observed_growth_rate": 0.03225806451612903,
          "projected_frequency": 0.35,
          "timepoint": "2009-10-01T00:00:00"
         },
         {
          "clade_membership": "13a450d",
          "estimated_growth_rate": 1.9767441860465116,
          "frequency": 0.43,
          "frequency_final": 0.79,
          "observed_growth_rate": 1.8372093023255816,
          "projected_frequency": 0.85,
          "timepoint": "2010-04-01T00:00:00"
         },
         {
          "clade_membership": "1447f74",
          "estimated_growth_rate": 0.2765957446808511,
          "frequency": 0.47,
          "frequency_final": 0.21,
          "observed_growth_rate": 0.4468085106382979,
          "projected_frequency": 0.13,
          "timepoint": "2010-04-01T00:00:00"
         },
         {
          "clade_membership": "41bb3e2",
          "estimated_growth_rate": 1.0101010101010102,
          "frequency": 0.99,
          "frequency_final": 1,
          "observed_growth_rate": 1.0101010101010102,
          "projected_frequency": 1,
          "timepoint": "2010-04-01T00:00:00"
         },
         {
          "clade_membership": "7fba9ff",
          "estimated_growth_rate": 1.5,
          "frequency": 0.26,
          "frequency_final": 0.13,
          "observed_growth_rate": 0.5,
          "projected_frequency": 0.39,
          "timepoint": "2010-04-01T00:00:00"
         },
         {
          "clade_membership": "819ddab",
          "estimated_growth_rate": 0.2765957446808511,
          "frequency": 0.47,
          "frequency_final": 0.21,
          "observed_growth_rate": 0.4468085106382979,
          "projected_frequency": 0.13,
          "timepoint": "2010-04-01T00:00:00"
         },
         {
          "clade_membership": "956f201",
          "estimated_growth_rate": 1.9767441860465116,
          "frequency": 0.43,
          "frequency_final": 0.79,
          "observed_growth_rate": 1.8372093023255816,
          "projected_frequency": 0.85,
          "timepoint": "2010-04-01T00:00:00"
         },
         {
          "clade_membership": "b7ff90b",
          "estimated_growth_rate": 1.0101010101010102,
          "frequency": 0.99,
          "frequency_final": 1,
          "observed_growth_rate": 1.0101010101010102,
          "projected_frequency": 1,
          "timepoint": "2010-04-01T00:00:00"
         },
         {
          "clade_membership": "c0ab28c",
          "estimated_growth_rate": 0.2765957446808511,
          "frequency": 0.47,
          "frequency_final": 0.21,
          "observed_growth_rate": 0.4468085106382979,
          "projected_frequency": 0.13,
          "timepoint": "2010-04-01T00:00:00"
         },
         {
          "clade_membership": "d4a2597",
          "estimated_growth_rate": 0.3913043478260869,
          "frequency": 0.23,
          "frequency_final": 0.19,
          "observed_growth_rate": 0.8260869565217391,
          "projected_frequency": 0.09,
          "timepoint": "2010-04-01T00:00:00"
         },
         {
          "clade_membership": "026d21f",
          "estimated_growth_rate": 1.5714285714285714,
          "frequency": 0.49,
          "frequency_final": 0.36,
          "observed_growth_rate": 0.7346938775510204,
          "projected_frequency": 0.77,
          "timepoint": "2010-10-01T00:00:00"
         },
         {
          "clade_membership": "13a450d",
          "estimated_growth_rate": 1.0952380952380953,
          "frequency": 0.84,
          "frequency_final": 0.99,
          "observed_growth_rate": 1.1785714285714286,
          "projected_frequency": 0.92,
          "timepoint": "2010-10-01T00:00:00"
         },
         {
          "clade_membership": "1447f74",
          "estimated_growth_rate": 0.5,
          "frequency": 0.16,
          "frequency_final": 0.01,
          "observed_growth_rate": 0.0625,
          "projected_frequency": 0.08,
          "timepoint": "2010-10-01T00:00:00"
         },
         {
          "clade_membership": "4786bbf",
          "estimated_growth_rate": 1.5714285714285714,
          "frequency": 0.49,
          "frequency_final": 0.36,
          "observed_growth_rate": 0.7346938775510204,
          "projected_frequency": 0.77,
          "timepoint": "2010-10-01T00:00:00"
         },
         {
          "clade_membership": "7fba9ff",
          "estimated_growth_rate": 0.44999999999999996,
          "frequency": 0.2,
          "frequency_final": 0,
          "observed_growth_rate": 0,
          "projected_frequency": 0.09,
          "timepoint": "2010-10-01T00:00:00"
         },
         {
          "clade_membership": "819ddab",
          "estimated_growth_rate": 0.5,
          "frequency": 0.16,
          "frequency_final": 0.01,
          "observed_growth_rate": 0.0625,
          "projected_frequency": 0.08,
          "timepoint": "2010-10-01T00:00:00"
         },
         {
          "clade_membership": "956f201",
          "estimated_growth_rate": 1.0952380952380953,
          "frequency": 0.84,
          "frequency_final": 0.99,
          "observed_growth_rate": 1.1785714285714286,
          "projected_frequency": 0.92,
          "timepoint": "2010-10-01T00:00:00"
         },
         {
          "clade_membership": "a08d8f5",
          "estimated_growth_rate": 1.5714285714285714,
          "frequency": 0.49,
          "frequency_final": 0.36,
          "observed_growth_rate": 0.7346938775510204,
          "projected_frequency": 0.77,
          "timepoint": "2010-10-01T00:00:00"
         },
         {
          "clade_membership": "c0ab28c",
          "estimated_growth_rate": 0.5,
          "frequency": 0.16,
          "frequency_final": 0.01,
          "observed_growth_rate": 0.0625,
          "projected_frequency": 0.08,
          "timepoint": "2010-10-01T00:00:00"
         },
         {
          "clade_membership": "e56a121",
          "estimated_growth_rate": 1.5714285714285714,
          "frequency": 0.49,
          "frequency_final": 0.36,
          "observed_growth_rate": 0.7346938775510204,
          "projected_frequency": 0.77,
          "timepoint": "2010-10-01T00:00:00"
         },
         {
          "clade_membership": "026d21f",
          "estimated_growth_rate": 1.5882352941176472,
          "frequency": 0.51,
          "frequency_final": 0.14,
          "observed_growth_rate": 0.27450980392156865,
          "projected_frequency": 0.81,
          "timepoint": "2011-04-01T00:00:00"
         },
         {
          "clade_membership": "13a450d",
          "estimated_growth_rate": 1.0759493670886076,
          "frequency": 0.79,
          "frequency_final": 1,
          "observed_growth_rate": 1.2658227848101264,
          "projected_frequency": 0.85,
          "timepoint": "2011-04-01T00:00:00"
         },
         {
          "clade_membership": "1447f74",
          "estimated_growth_rate": 0.7142857142857143,
          "frequency": 0.21,
          "frequency_final": 0,
          "observed_growth_rate": 0,
          "projected_frequency": 0.15,
          "timepoint": "2011-04-01T00:00:00"
         },
         {
          "clade_membership": "24fc224",
          "estimated_growth_rate": 0.8333333333333334,
          "frequency": 0.18,
          "frequency_final": 0,
          "observed_growth_rate": 0,
          "projected_frequency": 0.15,
          "timepoint": "2011-04-01T00:00:00"
         },
         {
          "clade_membership": "2e38996",
          "estimated_growth_rate": 0.7894736842105263,
          "frequency": 0.19,
          "frequency_final": 0,
          "observed_growth_rate": 0,
          "projected_frequency": 0.15,
          "timepoint": "2011-04-01T00:00:00"
         },
         {
          "clade_membership": "4748b2c",
          "estimated_growth_rate": 0.7894736842105263,
          "frequency": 0.19,
          "frequency_final": 0,
          "observed_growth_rate": 0,
          "projected_frequency": 0.15,
          "timepoint": "2011-04-01T00:00:00"
         },
         {
          "clade_membership": "4786bbf",
          "estimated_growth_rate": 1.5882352941176472,
          "frequency": 0.51,
          "frequency_final": 0.14,
          "observed_growth_rate": 0.27450980392156865,
          "projected_frequency": 0.81,
          "timepoint": "2011-04-01T00:00:00"
         },
         {
          "clade_membership": "819ddab",
          "estimated_growth_rate": 0.7142857142857143,
          "frequency": 0.21,
          "frequency_final": 0,
          "observed_growth_rate": 0,
          "projected_frequency": 0.15,
          "timepoint": "2011-04-01T00:00:00"
         },
         {
          "clade_membership": "956f201",
          "estimated_growth_rate": 1.0759493670886076,
          "frequency": 0.79,
          "frequency_final": 1,
          "observed_growth_rate": 1.2658227848101264,
          "projected_frequency": 0.85,
          "timepoint": "2011-04-01T00:00:00"
         },
         {
          "clade_membership": "a08d8f5",
          "estimated_growth_rate": 1.5882352941176472,
          "frequency": 0.51,
          "frequency_final": 0.14,
          "observed_growth_rate": 0.27450980392156865,
          "projected_frequency": 0.81,
          "timepoint": "2011-04-01T00:00:00"
         },
         {
          "clade_membership": "c0ab28c",
          "estimated_growth_rate": 0.7142857142857143,
          "frequency": 0.21,
          "frequency_final": 0,
          "observed_growth_rate": 0,
          "projected_frequency": 0.15,
          "timepoint": "2011-04-01T00:00:00"
         },
         {
          "clade_membership": "d4a2597",
          "estimated_growth_rate": 0.7894736842105263,
          "frequency": 0.19,
          "frequency_final": 0,
          "observed_growth_rate": 0,
          "projected_frequency": 0.15,
          "timepoint": "2011-04-01T00:00:00"
         },
         {
          "clade_membership": "e56a121",
          "estimated_growth_rate": 1.62,
          "frequency": 0.5,
          "frequency_final": 0.14,
          "observed_growth_rate": 0.28,
          "projected_frequency": 0.81,
          "timepoint": "2011-04-01T00:00:00"
         },
         {
          "clade_membership": "f162f83",
          "estimated_growth_rate": 0.7894736842105263,
          "frequency": 0.19,
          "frequency_final": 0,
          "observed_growth_rate": 0,
          "projected_frequency": 0.15,
          "timepoint": "2011-04-01T00:00:00"
         },
         {
          "clade_membership": "026d21f",
          "estimated_growth_rate": 0.36111111111111116,
          "frequency": 0.36,
          "frequency_final": 0.23,
          "observed_growth_rate": 0.638888888888889,
          "projected_frequency": 0.13,
          "timepoint": "2011-10-01T00:00:00"
         },
         {
          "clade_membership": "13a450d",
          "estimated_growth_rate": 1.0101010101010102,
          "frequency": 0.99,
          "frequency_final": 1,
          "observed_growth_rate": 1.0101010101010102,
          "projected_frequency": 1,
          "timepoint": "2011-10-01T00:00:00"
         },
         {
          "clade_membership": "38da78c",
          "estimated_growth_rate": 0.5909090909090909,
          "frequency": 0.22,
          "frequency_final": 0.53,
          "observed_growth_rate": 2.409090909090909,
          "projected_frequency": 0.13,
          "timepoint": "2011-10-01T00:00:00"
         },
         {
          "clade_membership": "3b60fb2",
          "estimated_growth_rate": 0.33333333333333337,
          "frequency": 0.15,
          "frequency_final": 0.04,
          "observed_growth_rate": 0.26666666666666666,
          "projected_frequency": 0.05,
          "timepoint": "2011-10-01T00:00:00"
         },
         {
          "clade_membership": "4786bbf",
          "estimated_growth_rate": 0.36111111111111116,
          "frequency": 0.36,
          "frequency_final": 0.23,
          "observed_growth_rate": 0.638888888888889,
          "projected_frequency": 0.13,
          "timepoint": "2011-10-01T00:00:00"
         },
         {
          "clade_membership": "8aaed0b",
          "estimated_growth_rate": 0.5384615384615385,
          "frequency": 0.26,
          "frequency_final": 0.53,
          "observed_growth_rate": 2.0384615384615383,
          "projected_frequency": 0.14,
          "timepoint": "2011-10-01T00:00:00"
         },
         {
          "clade_membership": "956f201",
          "estimated_growth_rate": 1.0101010101010102,
          "frequency": 0.99,
          "frequency_final": 1,
          "observed_growth_rate": 1.0101010101010102,
          "projected_frequency": 1,
          "timepoint": "2011-10-01T00:00:00"
         },
         {
          "clade_membership": "a08d8f5",
          "estimated_growth_rate": 0.36111111111111116,
          "frequency": 0.36,
          "frequency_final": 0.23,
          "observed_growth_rate": 0.638888888888889,
          "projected_frequency": 0.13,
          "timepoint": "2011-10-01T00:00:00"
         },
         {
          "clade_membership": "bfceca0",
          "estimated_growth_rate": 1.4827586206896552,
          "frequency": 0.58,
          "frequency_final": 0.67,
          "observed_growth_rate": 1.1551724137931036,
          "projected_frequency": 0.86,
          "timepoint": "2011-10-01T00:00:00"
         },
         {
          "clade_membership": "c139e7c",
          "estimated_growth_rate": 1.4827586206896552,
          "frequency": 0.58,
          "frequency_final": 0.67,
          "observed_growth_rate": 1.1551724137931036,
          "projected_frequency": 0.86,
          "timepoint": "2011-10-01T00:00:00"
         },
         {
          "clade_membership": "ce8636c",
          "estimated_growth_rate": 0.5769230769230769,
          "frequency": 0.26,
          "frequency_final": 0.53,
          "observed_growth_rate": 2.0384615384615383,
          "projected_frequency": 0.15,
          "timepoint": "2011-10-01T00:00:00"
         },
         {
          "clade_membership": "e56a121",
          "estimated_growth_rate": 0.36111111111111116,
          "frequency": 0.36,
          "frequency_final": 0.23,
          "observed_growth_rate": 0.638888888888889,
          "projected_frequency": 0.13,
          "timepoint": "2011-10-01T00:00:00"
         },
         {
          "clade_membership": "f8b8996",
          "estimated_growth_rate": 1.4262295081967213,
          "frequency": 0.61,
          "frequency_final": 0.76,
          "observed_growth_rate": 1.2459016393442623,
          "projected_frequency": 0.87,
          "timepoint": "2011-10-01T00:00:00"
         },
         {
          "clade_membership": "38da78c",
          "estimated_growth_rate": 1.8918918918918919,
          "frequency": 0.37,
          "frequency_final": 0.93,
          "observed_growth_rate": 2.5135135135135136,
          "projected_frequency": 0.7,
          "timepoint": "2012-04-01T00:00:00"
         },
         {
          "clade_membership": "6c1138e",
          "estimated_growth_rate": 2,
          "frequency": 0.35,
          "frequency_final": 0.92,
          "observed_growth_rate": 2.628571428571429,
          "projected_frequency": 0.7,
          "timepoint": "2012-04-01T00:00:00"
         },
         {
          "clade_membership": "8aaed0b",
          "estimated_growth_rate": 1.775,
          "frequency": 0.4,
          "frequency_final": 0.93,
          "observed_growth_rate": 2.325,
          "projected_frequency": 0.71,
          "timepoint": "2012-04-01T00:00:00"
         },
         {
          "clade_membership": "bfceca0",
          "estimated_growth_rate": 1.2727272727272727,
          "frequency": 0.77,
          "frequency_final": 0.96,
          "observed_growth_rate": 1.2467532467532467,
          "projected_frequency": 0.98,
          "timepoint": "2012-04-01T00:00:00"
         },
         {
          "clade_membership": "c139e7c",
          "estimated_growth_rate": 1.2727272727272727,
          "frequency": 0.77,
          "frequency_final": 0.96,
          "observed_growth_rate": 1.2467532467532467,
          "projected_frequency": 0.98,
          "timepoint": "2012-04-01T00:00:00"
         },
         {
          "clade_membership": "ce8636c",
          "estimated_growth_rate": 1.775,
          "frequency": 0.4,
          "frequency_final": 0.93,
          "observed_growth_rate": 2.325,
          "projected_frequency": 0.71,
          "timepoint": "2012-04-01T00:00:00"
         },
         {
          "clade_membership": "f2ec31a",
          "estimated_growth_rate": 2,
          "frequency": 0.35,
          "frequency_final": 0.91,
          "observed_growth_rate": 2.6,
          "projected_frequency": 0.7,
          "timepoint": "2012-04-01T00:00:00"
         },
         {
          "clade_membership": "f8b8996",
          "estimated_growth_rate": 1.1927710843373494,
          "frequency": 0.83,
          "frequency_final": 0.97,
          "observed_growth_rate": 1.1686746987951808,
          "projected_frequency": 0.99,
          "timepoint": "2012-04-01T00:00:00"
         },
         {
          "clade_membership": "026d21f",
          "estimated_growth_rate": 0.17391304347826086,
          "frequency": 0.23,
          "frequency_final": 0,
          "observed_growth_rate": 0,
          "projected_frequency": 0.04,
          "timepoint": "2012-10-01T00:00:00"
         },
         {
          "clade_membership": "38da78c",
          "estimated_growth_rate": 1.6981132075471699,
          "frequency": 0.53,
          "frequency_final": 0.99,
          "observed_growth_rate": 1.8679245283018866,
          "projected_frequency": 0.9,
          "timepoint": "2012-10-01T00:00:00"
         },
         {
          "clade_membership": "4786bbf",
          "estimated_growth_rate": 0.17391304347826086,
          "frequency": 0.23,
          "frequency_final": 0,
          "observed_growth_rate": 0,
          "projected_frequency": 0.04,
          "timepoint": "2012-10-01T00:00:00"
         },
         {
          "clade_membership": "6c1138e",
          "estimated_growth_rate": 1.7307692307692308,
          "frequency": 0.52,
          "frequency_final": 0.99,
          "observed_growth_rate": 1.9038461538461537,
          "projected_frequency": 0.9,
          "timepoint": "2012-10-01T00:00:00"
         },
         {
          "clade_membership": "8aaed0b",
          "estimated_growth_rate": 1.6981132075471699,
          "frequency": 0.53,
          "frequency_final": 0.99,
          "observed_growth_rate": 1.8679245283018866,
          "projected_frequency": 0.9,
          "timepoint": "2012-10-01T00:00:00"
         },
         {
          "clade_membership": "a08d8f5",
          "estimated_growth_rate": 0.17391304347826086,
          "frequency": 0.23,
          "frequency_final": 0,
          "observed_growth_rate": 0,
          "projected_frequency": 0.04,
          "timepoint": "2012-10-01T00:00:00"
         },
         {
          "clade_membership": "a229f16",
          "estimated_growth_rate": 2.5151515151515147,
          "frequency": 0.33,
          "frequency_final": 0.99,
          "observed_growth_rate": 3,
          "projected_frequency": 0.83,
          "timepoint": "2012-10-01T00:00:00"
         },
         {
          "clade_membership": "bfceca0",
          "estimated_growth_rate": 1.4029850746268655,
          "frequency": 0.67,
          "frequency_final": 1,
          "observed_growth_rate": 1.4925373134328357,
          "projected_frequency": 0.94,
          "timepoint": "2012-10-01T00:00:00"
         },
         {
          "clade_membership": "c139e7c",
          "estimated_growth_rate": 1.4029850746268655,
          "frequency": 0.67,
          "frequency_final": 1,
          "observed_growth_rate": 1.4925373134328357,
          "projected_frequency": 0.94,
          "timepoint": "2012-10-01T00:00:00"
         },
         {
          "clade_membership": "ce8636c",
          "estimated_growth_rate": 1.6981132075471699,
          "frequency": 0.53,
          "frequency_final": 0.99,
          "observed_growth_rate": 1.8679245283018866,
          "projected_frequency": 0.9,
          "timepoint": "2012-10-01T00:00:00"
         },
         {
          "clade_membership": "dbdf9a1",
          "estimated_growth_rate": 0.16666666666666666,
          "frequency": 0.18,
          "frequency_final": 0,
          "observed_growth_rate": 0,
          "projected_frequency": 0.03,
          "timepoint": "2012-10-01T00:00:00"
         },
         {
          "clade_membership": "e56a121",
          "estimated_growth_rate": 0.17391304347826086,
          "frequency": 0.23,
          "frequency_final": 0,
          "observed_growth_rate": 0,
          "projected_frequency": 0.04,
          "timepoint": "2012-10-01T00:00:00"
         },
         {
          "clade_membership": "f2ec31a",
          "estimated_growth_rate": 1.7450980392156863,
          "frequency": 0.51,
          "frequency_final": 0.99,
          "observed_growth_rate": 1.9411764705882353,
          "projected_frequency": 0.89,
          "timepoint": "2012-10-01T00:00:00"
         },
         {
          "clade_membership": "f8b8996",
          "estimated_growth_rate": 1.263157894736842,
          "frequency": 0.76,
          "frequency_final": 1,
          "observed_growth_rate": 1.3157894736842106,
          "projected_frequency": 0.96,
          "timepoint": "2012-10-01T00:00:00"
         },
         {
          "clade_membership": "0165eeb",
          "estimated_growth_rate": 0.34782608695652173,
          "frequency": 0.23,
          "frequency_final": 0.25,
          "observed_growth_rate": 1.0869565217391304,
          "projected_frequency": 0.08,
          "timepoint": "2013-04-01T00:00:00"
         },
         {
          "clade_membership": "1a16e36",
          "estimated_growth_rate": 1.888888888888889,
          "frequency": 0.18,
          "frequency_final": 0.49,
          "observed_growth_rate": 2.7222222222222223,
          "projected_frequency": 0.34,
          "timepoint": "2013-04-01T00:00:00"
         },
         {
          "clade_membership": "38da78c",
          "estimated_growth_rate": 1.064516129032258,
          "frequency": 0.93,
          "frequency_final": 1,
          "observed_growth_rate": 1.075268817204301,
          "projected_frequency": 0.99,
          "timepoint": "2013-04-01T00:00:00"
         },
         {
          "clade_membership": "66a66dd",
          "estimated_growth_rate": 2.0999999999999996,
          "frequency": 0.4,
          "frequency_final": 0.75,
          "observed_growth_rate": 1.875,
          "projected_frequency": 0.84,
          "timepoint": "2013-04-01T00:00:00"
         },
         {
          "clade_membership": "6c1138e",
          "estimated_growth_rate": 1.076086956521739,
          "frequency": 0.92,
          "frequency_final": 1,
          "observed_growth_rate": 1.0869565217391304,
          "projected_frequency": 0.99,
          "timepoint": "2013-04-01T00:00:00"
         },
         {
          "clade_membership": "8aaed0b",
          "estimated_growth_rate": 1.064516129032258,
          "frequency": 0.93,
          "frequency_final": 1,
          "observed_growth_rate": 1.075268817204301,
          "projected_frequency": 0.99,
          "timepoint": "2013-04-01T00:00:00"
         },
         {
          "clade_membership": "8d4351f",
          "estimated_growth_rate": 2.125,
          "frequency": 0.4,
          "frequency_final": 0.75,
          "observed_growth_rate": 1.875,
          "projected_frequency": 0.85,
          "timepoint": "2013-04-01T00:00:00"
         },
         {
          "clade_membership": "a229f16",
          "estimated_growth_rate": 1.0999999999999999,
          "frequency": 0.9,
          "frequency_final": 1,
          "observed_growth_rate": 1.1111111111111112,
          "projected_frequency": 0.99,
          "timepoint": "2013-04-01T00:00:00"
         },
         {
          "clade_membership": "bfceca0",
          "estimated_growth_rate": 1.0416666666666667,
          "frequency": 0.96,
          "frequency_final": 1,
          "observed_growth_rate": 1.0416666666666667,
          "projected_frequency": 1,
          "timepoint": "2013-04-01T00:00:00"
         },
         {
          "clade_membership": "c139e7c",
          "estimated_growth_rate": 1.0416666666666667,
          "frequency": 0.96,
          "frequency_final": 1,
          "observed_growth_rate": 1.0416666666666667,
          "projected_frequency": 1,
          "timepoint": "2013-04-01T00:00:00"
         },
         {
          "clade_membership": "ce8636c",
          "estimated_growth_rate": 1.064516129032258,
          "frequency": 0.93,
          "frequency_final": 1,
          "observed_growth_rate": 1.075268817204301,
          "projected_frequency": 0.99,
          "timepoint": "2013-04-01T00:00:00"
         },
         {
          "clade_membership": "f2ec31a",
          "estimated_growth_rate": 1.0879120879120878,
          "frequency": 0.91,
          "frequency_final": 1,
          "observed_growth_rate": 1.0989010989010988,
          "projected_frequency": 0.99,
          "timepoint": "2013-04-01T00:00:00"
         },
         {
          "clade_membership": "f8b8996",
          "estimated_growth_rate": 1.0309278350515465,
          "frequency": 0.97,
          "frequency_final": 1,
          "observed_growth_rate": 1.0309278350515465,
          "projected_frequency": 1,
          "timepoint": "2013-04-01T00:00:00"
         },
         {
          "clade_membership": "0165eeb",
          "estimated_growth_rate": 0.48148148148148145,
          "frequency": 0.27,
          "frequency_final": 0.24,
          "observed_growth_rate": 0.8888888888888888,
          "projected_frequency": 0.13,
          "timepoint": "2013-10-01T00:00:00"
         },
         {
          "clade_membership": "1a16e36",
          "estimated_growth_rate": 1.9,
          "frequency": 0.4,
          "frequency_final": 0.29,
          "observed_growth_rate": 0.7249999999999999,
          "projected_frequency": 0.76,
          "timepoint": "2013-10-01T00:00:00"
         },
         {
          "clade_membership": "38da78c",
          "estimated_growth_rate": 1.0101010101010102,
          "frequency": 0.99,
          "frequency_final": 1,
          "observed_growth_rate": 1.0101010101010102,
          "projected_frequency": 1,
          "timepoint": "2013-10-01T00:00:00"
         },
         {
          "clade_membership": "66a66dd",
          "estimated_growth_rate": 1.2428571428571429,
          "frequency": 0.7,
          "frequency_final": 0.76,
          "observed_growth_rate": 1.0857142857142859,
          "projected_frequency": 0.87,
          "timepoint": "2013-10-01T00:00:00"
         },
         {
          "clade_membership": "6c1138e",
          "estimated_growth_rate": 1.0101010101010102,
          "frequency": 0.99,
          "frequency_final": 1,
          "observed_growth_rate": 1.0101010101010102,
          "projected_frequency": 1,
          "timepoint": "2013-10-01T00:00:00"
         },
         {
          "clade_membership": "8aaed0b",
          "estimated_growth_rate": 1.0101010101010102,
          "frequency": 0.99,
          "frequency_final": 1,
          "observed_growth_rate": 1.0101010101010102,
          "projected_frequency": 1,
          "timepoint": "2013-10-01T00:00:00"
         },
         {
          "clade_membership": "8d4351f",
          "estimated_growth_rate": 1.2428571428571429,
          "frequency": 0.7,
          "frequency_final": 0.76,
          "observed_growth_rate": 1.0857142857142859,
          "projected_frequency": 0.87,
          "timepoint": "2013-10-01T00:00:00"
         },
         {
          "clade_membership": "a229f16",
          "estimated_growth_rate": 1.0101010101010102,
          "frequency": 0.99,
          "frequency_final": 1,
          "observed_growth_rate": 1.0101010101010102,
          "projected_frequency": 1,
          "timepoint": "2013-10-01T00:00:00"
         },
         {
          "clade_membership": "ce8636c",
          "estimated_growth_rate": 1.0101010101010102,
          "frequency": 0.99,
          "frequency_final": 1,
          "observed_growth_rate": 1.0101010101010102,
          "projected_frequency": 1,
          "timepoint": "2013-10-01T00:00:00"
         },
         {
          "clade_membership": "f2ec31a",
          "estimated_growth_rate": 1.0101010101010102,
          "frequency": 0.99,
          "frequency_final": 1,
          "observed_growth_rate": 1.0101010101010102,
          "projected_frequency": 1,
          "timepoint": "2013-10-01T00:00:00"
         },
         {
          "clade_membership": "0165eeb",
          "estimated_growth_rate": 0.24,
          "frequency": 0.25,
          "frequency_final": 0.7,
          "observed_growth_rate": 2.8,
          "projected_frequency": 0.06,
          "timepoint": "2014-04-01T00:00:00"
         },
         {
          "clade_membership": "1a16e36",
          "estimated_growth_rate": 0.34693877551020413,
          "frequency": 0.49,
          "frequency_final": 0.13,
          "observed_growth_rate": 0.2653061224489796,
          "projected_frequency": 0.17,
          "timepoint": "2014-04-01T00:00:00"
         },
         {
          "clade_membership": "66a66dd",
          "estimated_growth_rate": 1.2533333333333332,
          "frequency": 0.75,
          "frequency_final": 0.3,
          "observed_growth_rate": 0.39999999999999997,
          "projected_frequency": 0.94,
          "timepoint": "2014-04-01T00:00:00"
         },
         {
          "clade_membership": "7a8b37b",
          "estimated_growth_rate": 0.35000000000000003,
          "frequency": 0.2,
          "frequency_final": 0.12,
          "observed_growth_rate": 0.6,
          "projected_frequency": 0.07,
          "timepoint": "2014-04-01T00:00:00"
         },
         {
          "clade_membership": "8d4351f",
          "estimated_growth_rate": 1.2533333333333332,
          "frequency": 0.75,
          "frequency_final": 0.3,
          "observed_growth_rate": 0.39999999999999997,
          "projected_frequency": 0.94,
          "timepoint": "2014-04-01T00:00:00"
         },
         {
          "clade_membership": "fb19d40",
          "estimated_growth_rate": 0.375,
          "frequency": 0.16,
          "frequency_final": 0,
          "observed_growth_rate": 0,
          "projected_frequency": 0.06,
          "timepoint": "2014-04-01T00:00:00"
         },
         {
          "clade_membership": "0165eeb",
          "estimated_growth_rate": 2.125,
          "frequency": 0.24,
          "frequency_final": 0.89,
          "observed_growth_rate": 3.7083333333333335,
          "projected_frequency": 0.51,
          "timepoint": "2014-10-01T00:00:00"
         },
         {
          "clade_membership": "1a16e36",
          "estimated_growth_rate": 0.24137931034482762,
          "frequency": 0.29,
          "frequency_final": 0.05,
          "observed_growth_rate": 0.1724137931034483,
          "projected_frequency": 0.07,
          "timepoint": "2014-10-01T00:00:00"
         },
         {
          "clade_membership": "1ba36d2",
          "estimated_growth_rate": 1.0256410256410258,
          "frequency": 0.39,
          "frequency_final": 0.07,
          "observed_growth_rate": 0.1794871794871795,
          "projected_frequency": 0.4,
          "timepoint": "2014-10-01T00:00:00"
         },
         {
          "clade_membership": "1edac85",
          "estimated_growth_rate": 1.0256410256410258,
          "frequency": 0.39,
          "frequency_final": 0.07,
          "observed_growth_rate": 0.1794871794871795,
          "projected_frequency": 0.4,
          "timepoint": "2014-10-01T00:00:00"
         },
         {
          "clade_membership": "66a66dd",
          "estimated_growth_rate": 0.6447368421052632,
          "frequency": 0.76,
          "frequency_final": 0.11,
          "observed_growth_rate": 0.14473684210526316,
          "projected_frequency": 0.49,
          "timepoint": "2014-10-01T00:00:00"
         },
         {
          "clade_membership": "7a8b37b",
          "estimated_growth_rate": 0.25,
          "frequency": 0.24,
          "frequency_final": 0.05,
          "observed_growth_rate": 0.20833333333333334,
          "projected_frequency": 0.06,
          "timepoint": "2014-10-01T00:00:00"
         },
         {
          "clade_membership": "80897ab",
          "estimated_growth_rate": 1.0588235294117645,
          "frequency": 0.34,
          "frequency_final": 0.05,
          "observed_growth_rate": 0.14705882352941177,
          "projected_frequency": 0.36,
          "timepoint": "2014-10-01T00:00:00"
         },
         {
          "clade_membership": "8d4351f",
          "estimated_growth_rate": 0.6447368421052632,
          "frequency": 0.76,
          "frequency_final": 0.11,
          "observed_growth_rate": 0.14473684210526316,
          "projected_frequency": 0.49,
          "timepoint": "2014-10-01T00:00:00"
         },
         {
          "clade_membership": "934e1c1",
          "estimated_growth_rate": 2.3181818181818183,
          "frequency": 0.22,
          "frequency_final": 0.89,
          "observed_growth_rate": 4.045454545454546,
          "projected_frequency": 0.51,
          "timepoint": "2014-10-01T00:00:00"
         },
         {
          "clade_membership": "c9346ca",
          "estimated_growth_rate": 1.0256410256410258,
          "frequency": 0.39,
          "frequency_final": 0.07,
          "observed_growth_rate": 0.1794871794871795,
          "projected_frequency": 0.4,
          "timepoint": "2014-10-01T00:00:00"
         },
         {
          "clade_membership": "ea08d9e",
          "estimated_growth_rate": 2.3181818181818183,
          "frequency": 0.22,
          "frequency_final": 0.89,
          "observed_growth_rate": 4.045454545454546,
          "projected_frequency": 0.51,
          "timepoint": "2014-10-01T00:00:00"
         },
         {
          "clade_membership": "f14fabc",
          "estimated_growth_rate": 2.3181818181818183,
          "frequency": 0.22,
          "frequency_final": 0.89,
          "observed_growth_rate": 4.045454545454546,
          "projected_frequency": 0.51,
          "timepoint": "2014-10-01T00:00:00"
         }
        ]
       },
       "encoding": {
        "x": {
         "bin": true,
         "field": "observed_growth_rate",
         "title": "Observed growth rate",
         "type": "quantitative"
        },
        "y": {
         "aggregate": "count",
         "type": "quantitative"
        }
       },
       "mark": "rect"
      },
      "image/png": "[encoded data removed]",
      "text/plain": [
       "<VegaLite 3 object>\n",
       "\n",
       "If you see this message, it means the renderer has not been properly enabled\n",
       "for the frontend that you are using. For more information, see\n",
       "https://altair-viz.github.io/user_guide/troubleshooting.html\n"
      ]
     },
     "execution_count": 248,
     "metadata": {},
     "output_type": "execute_result"
    }
   ],
   "source": [
    "alt.Chart(complete_clade_frequencies).mark_rect().encode(\n",
    "    x=alt.X(\"observed_growth_rate:Q\", bin=True, title=\"Observed growth rate\"),\n",
    "    y=\"count()\"\n",
    ")"
   ]
  },
  {
   "cell_type": "code",
   "execution_count": 249,
   "metadata": {},
   "outputs": [],
   "source": [
    "complete_clade_frequencies[\"year\"] = complete_clade_frequencies[\"timepoint\"].dt.year"
   ]
  },
  {
   "cell_type": "code",
   "execution_count": 250,
   "metadata": {},
   "outputs": [
    {
     "data": {
      "text/html": [
       "<div>\n",
       "<style scoped>\n",
       "    .dataframe tbody tr th:only-of-type {\n",
       "        vertical-align: middle;\n",
       "    }\n",
       "\n",
       "    .dataframe tbody tr th {\n",
       "        vertical-align: top;\n",
       "    }\n",
       "\n",
       "    .dataframe thead th {\n",
       "        text-align: right;\n",
       "    }\n",
       "</style>\n",
       "<table border=\"1\" class=\"dataframe\">\n",
       "  <thead>\n",
       "    <tr style=\"text-align: right;\">\n",
       "      <th></th>\n",
       "      <th>timepoint</th>\n",
       "      <th>clade_membership</th>\n",
       "      <th>frequency</th>\n",
       "      <th>frequency_final</th>\n",
       "      <th>projected_frequency</th>\n",
       "      <th>observed_growth_rate</th>\n",
       "      <th>estimated_growth_rate</th>\n",
       "      <th>year</th>\n",
       "    </tr>\n",
       "  </thead>\n",
       "  <tbody>\n",
       "    <tr>\n",
       "      <th>4</th>\n",
       "      <td>2003-10-01</td>\n",
       "      <td>1c5e069</td>\n",
       "      <td>0.95</td>\n",
       "      <td>1.00</td>\n",
       "      <td>0.99</td>\n",
       "      <td>1.052632</td>\n",
       "      <td>1.042105</td>\n",
       "      <td>2003</td>\n",
       "    </tr>\n",
       "    <tr>\n",
       "      <th>7</th>\n",
       "      <td>2003-10-01</td>\n",
       "      <td>4952842</td>\n",
       "      <td>0.90</td>\n",
       "      <td>0.97</td>\n",
       "      <td>0.98</td>\n",
       "      <td>1.077778</td>\n",
       "      <td>1.088889</td>\n",
       "      <td>2003</td>\n",
       "    </tr>\n",
       "    <tr>\n",
       "      <th>8</th>\n",
       "      <td>2003-10-01</td>\n",
       "      <td>4e35443</td>\n",
       "      <td>0.95</td>\n",
       "      <td>1.00</td>\n",
       "      <td>0.99</td>\n",
       "      <td>1.052632</td>\n",
       "      <td>1.042105</td>\n",
       "      <td>2003</td>\n",
       "    </tr>\n",
       "    <tr>\n",
       "      <th>10</th>\n",
       "      <td>2003-10-01</td>\n",
       "      <td>6335574</td>\n",
       "      <td>0.95</td>\n",
       "      <td>1.00</td>\n",
       "      <td>0.99</td>\n",
       "      <td>1.052632</td>\n",
       "      <td>1.042105</td>\n",
       "      <td>2003</td>\n",
       "    </tr>\n",
       "    <tr>\n",
       "      <th>11</th>\n",
       "      <td>2003-10-01</td>\n",
       "      <td>8386d16</td>\n",
       "      <td>0.95</td>\n",
       "      <td>1.00</td>\n",
       "      <td>0.99</td>\n",
       "      <td>1.052632</td>\n",
       "      <td>1.042105</td>\n",
       "      <td>2003</td>\n",
       "    </tr>\n",
       "  </tbody>\n",
       "</table>\n",
       "</div>"
      ],
      "text/plain": [
       "    timepoint clade_membership  frequency  frequency_final  \\\n",
       "4  2003-10-01          1c5e069       0.95             1.00   \n",
       "7  2003-10-01          4952842       0.90             0.97   \n",
       "8  2003-10-01          4e35443       0.95             1.00   \n",
       "10 2003-10-01          6335574       0.95             1.00   \n",
       "11 2003-10-01          8386d16       0.95             1.00   \n",
       "\n",
       "    projected_frequency  observed_growth_rate  estimated_growth_rate  year  \n",
       "4                  0.99              1.052632               1.042105  2003  \n",
       "7                  0.98              1.077778               1.088889  2003  \n",
       "8                  0.99              1.052632               1.042105  2003  \n",
       "10                 0.99              1.052632               1.042105  2003  \n",
       "11                 0.99              1.052632               1.042105  2003  "
      ]
     },
     "execution_count": 250,
     "metadata": {},
     "output_type": "execute_result"
    }
   ],
   "source": [
    "complete_clade_frequencies.head()"
   ]
  },
  {
   "cell_type": "code",
   "execution_count": 251,
   "metadata": {},
   "outputs": [
    {
     "data": {
      "text/plain": [
       "(209, 8)"
      ]
     },
     "execution_count": 251,
     "metadata": {},
     "output_type": "execute_result"
    }
   ],
   "source": [
    "complete_clade_frequencies.shape"
   ]
  },
  {
   "cell_type": "code",
   "execution_count": 252,
   "metadata": {},
   "outputs": [],
   "source": [
    "r, p = pearsonr(\n",
    "    complete_clade_frequencies[\"observed_growth_rate\"],\n",
    "    complete_clade_frequencies[\"estimated_growth_rate\"]\n",
    ")"
   ]
  },
  {
   "cell_type": "code",
   "execution_count": 253,
   "metadata": {},
   "outputs": [
    {
     "data": {
      "text/plain": [
       "0.7236046217504225"
      ]
     },
     "execution_count": 253,
     "metadata": {},
     "output_type": "execute_result"
    }
   ],
   "source": [
    "r"
   ]
  },
  {
   "cell_type": "code",
   "execution_count": 254,
   "metadata": {},
   "outputs": [
    {
     "data": {
      "text/plain": [
       "3.5627923889199e-35"
      ]
     },
     "execution_count": 254,
     "metadata": {},
     "output_type": "execute_result"
    }
   ],
   "source": [
    "p"
   ]
  },
  {
   "cell_type": "code",
   "execution_count": 255,
   "metadata": {},
   "outputs": [],
   "source": [
    "mcc, confusion_matrix = get_matthews_correlation_coefficient_for_data_frame(complete_clade_frequencies, True)"
   ]
  },
  {
   "cell_type": "code",
   "execution_count": 256,
   "metadata": {},
   "outputs": [
    {
     "data": {
      "text/plain": [
       "0.724095164365373"
      ]
     },
     "execution_count": 256,
     "metadata": {},
     "output_type": "execute_result"
    }
   ],
   "source": [
    "mcc"
   ]
  },
  {
   "cell_type": "code",
   "execution_count": 257,
   "metadata": {},
   "outputs": [
    {
     "data": {
      "text/plain": [
       "{'tp': 116, 'tn': 55, 'fp': 18, 'fn': 7}"
      ]
     },
     "execution_count": 257,
     "metadata": {},
     "output_type": "execute_result"
    }
   ],
   "source": [
    "confusion_matrix"
   ]
  },
  {
   "cell_type": "code",
   "execution_count": 258,
   "metadata": {},
   "outputs": [
    {
     "data": {
      "text/plain": [
       "196"
      ]
     },
     "execution_count": 258,
     "metadata": {},
     "output_type": "execute_result"
    }
   ],
   "source": [
    "sum(confusion_matrix.values())"
   ]
  },
  {
   "cell_type": "code",
   "execution_count": 259,
   "metadata": {},
   "outputs": [
    {
     "data": {
      "text/plain": [
       "0.8656716417910447"
      ]
     },
     "execution_count": 259,
     "metadata": {},
     "output_type": "execute_result"
    }
   ],
   "source": [
    "growth_accuracy = confusion_matrix[\"tp\"] / float(confusion_matrix[\"tp\"] + confusion_matrix[\"fp\"])\n",
    "growth_accuracy"
   ]
  },
  {
   "cell_type": "code",
   "execution_count": 260,
   "metadata": {},
   "outputs": [
    {
     "data": {
      "text/plain": [
       "0.8870967741935484"
      ]
     },
     "execution_count": 260,
     "metadata": {},
     "output_type": "execute_result"
    }
   ],
   "source": [
    "decline_accuracy = confusion_matrix[\"tn\"] / float(confusion_matrix[\"tn\"] + confusion_matrix[\"fn\"])\n",
    "decline_accuracy"
   ]
  },
  {
   "cell_type": "code",
   "execution_count": 261,
   "metadata": {},
   "outputs": [],
   "source": [
    "min_growth_rate = 0\n",
    "max_growth_rate = complete_clade_frequencies.loc[:, [\"observed_growth_rate\", \"estimated_growth_rate\"]].max().max() + 0.2"
   ]
  },
  {
   "cell_type": "code",
   "execution_count": 262,
   "metadata": {},
   "outputs": [],
   "source": [
    "pseudofrequency = 0.001"
   ]
  },
  {
   "cell_type": "code",
   "execution_count": 263,
   "metadata": {},
   "outputs": [],
   "source": [
    "complete_clade_frequencies[\"log_observed_growth_rate\"] = (\n",
    "    np.log10((complete_clade_frequencies[\"frequency_final\"] + pseudofrequency) / (complete_clade_frequencies[\"frequency\"] + pseudofrequency))\n",
    ")\n",
    "\n",
    "complete_clade_frequencies[\"log_estimated_growth_rate\"] = (\n",
    "    np.log10((complete_clade_frequencies[\"projected_frequency\"] + pseudofrequency) / (complete_clade_frequencies[\"frequency\"] + pseudofrequency))\n",
    ")"
   ]
  },
  {
   "cell_type": "code",
   "execution_count": 264,
   "metadata": {},
   "outputs": [
    {
     "data": {
      "text/html": [
       "<div>\n",
       "<style scoped>\n",
       "    .dataframe tbody tr th:only-of-type {\n",
       "        vertical-align: middle;\n",
       "    }\n",
       "\n",
       "    .dataframe tbody tr th {\n",
       "        vertical-align: top;\n",
       "    }\n",
       "\n",
       "    .dataframe thead th {\n",
       "        text-align: right;\n",
       "    }\n",
       "</style>\n",
       "<table border=\"1\" class=\"dataframe\">\n",
       "  <thead>\n",
       "    <tr style=\"text-align: right;\">\n",
       "      <th></th>\n",
       "      <th>timepoint</th>\n",
       "      <th>clade_membership</th>\n",
       "      <th>frequency</th>\n",
       "      <th>frequency_final</th>\n",
       "      <th>projected_frequency</th>\n",
       "      <th>observed_growth_rate</th>\n",
       "      <th>estimated_growth_rate</th>\n",
       "      <th>year</th>\n",
       "      <th>log_observed_growth_rate</th>\n",
       "      <th>log_estimated_growth_rate</th>\n",
       "    </tr>\n",
       "  </thead>\n",
       "  <tbody>\n",
       "    <tr>\n",
       "      <th>4</th>\n",
       "      <td>2003-10-01</td>\n",
       "      <td>1c5e069</td>\n",
       "      <td>0.95</td>\n",
       "      <td>1.00</td>\n",
       "      <td>0.99</td>\n",
       "      <td>1.052632</td>\n",
       "      <td>1.042105</td>\n",
       "      <td>2003</td>\n",
       "      <td>0.022254</td>\n",
       "      <td>0.017893</td>\n",
       "    </tr>\n",
       "    <tr>\n",
       "      <th>7</th>\n",
       "      <td>2003-10-01</td>\n",
       "      <td>4952842</td>\n",
       "      <td>0.90</td>\n",
       "      <td>0.97</td>\n",
       "      <td>0.98</td>\n",
       "      <td>1.077778</td>\n",
       "      <td>1.088889</td>\n",
       "      <td>2003</td>\n",
       "      <td>0.032494</td>\n",
       "      <td>0.036944</td>\n",
       "    </tr>\n",
       "    <tr>\n",
       "      <th>8</th>\n",
       "      <td>2003-10-01</td>\n",
       "      <td>4e35443</td>\n",
       "      <td>0.95</td>\n",
       "      <td>1.00</td>\n",
       "      <td>0.99</td>\n",
       "      <td>1.052632</td>\n",
       "      <td>1.042105</td>\n",
       "      <td>2003</td>\n",
       "      <td>0.022254</td>\n",
       "      <td>0.017893</td>\n",
       "    </tr>\n",
       "    <tr>\n",
       "      <th>10</th>\n",
       "      <td>2003-10-01</td>\n",
       "      <td>6335574</td>\n",
       "      <td>0.95</td>\n",
       "      <td>1.00</td>\n",
       "      <td>0.99</td>\n",
       "      <td>1.052632</td>\n",
       "      <td>1.042105</td>\n",
       "      <td>2003</td>\n",
       "      <td>0.022254</td>\n",
       "      <td>0.017893</td>\n",
       "    </tr>\n",
       "    <tr>\n",
       "      <th>11</th>\n",
       "      <td>2003-10-01</td>\n",
       "      <td>8386d16</td>\n",
       "      <td>0.95</td>\n",
       "      <td>1.00</td>\n",
       "      <td>0.99</td>\n",
       "      <td>1.052632</td>\n",
       "      <td>1.042105</td>\n",
       "      <td>2003</td>\n",
       "      <td>0.022254</td>\n",
       "      <td>0.017893</td>\n",
       "    </tr>\n",
       "  </tbody>\n",
       "</table>\n",
       "</div>"
      ],
      "text/plain": [
       "    timepoint clade_membership  frequency  frequency_final  \\\n",
       "4  2003-10-01          1c5e069       0.95             1.00   \n",
       "7  2003-10-01          4952842       0.90             0.97   \n",
       "8  2003-10-01          4e35443       0.95             1.00   \n",
       "10 2003-10-01          6335574       0.95             1.00   \n",
       "11 2003-10-01          8386d16       0.95             1.00   \n",
       "\n",
       "    projected_frequency  observed_growth_rate  estimated_growth_rate  year  \\\n",
       "4                  0.99              1.052632               1.042105  2003   \n",
       "7                  0.98              1.077778               1.088889  2003   \n",
       "8                  0.99              1.052632               1.042105  2003   \n",
       "10                 0.99              1.052632               1.042105  2003   \n",
       "11                 0.99              1.052632               1.042105  2003   \n",
       "\n",
       "    log_observed_growth_rate  log_estimated_growth_rate  \n",
       "4                   0.022254                   0.017893  \n",
       "7                   0.032494                   0.036944  \n",
       "8                   0.022254                   0.017893  \n",
       "10                  0.022254                   0.017893  \n",
       "11                  0.022254                   0.017893  "
      ]
     },
     "execution_count": 264,
     "metadata": {},
     "output_type": "execute_result"
    }
   ],
   "source": [
    "complete_clade_frequencies.head()"
   ]
  },
  {
   "cell_type": "code",
   "execution_count": 265,
   "metadata": {},
   "outputs": [],
   "source": [
    "upper_limit = np.ceil(complete_clade_frequencies.loc[:, [\"observed_growth_rate\", \"estimated_growth_rate\"]].max().max())\n",
    "\n",
    "log_lower_limit = complete_clade_frequencies.loc[:, [\"log_observed_growth_rate\", \"log_estimated_growth_rate\"]].min().min() - 0.1\n",
    "log_upper_limit = np.ceil(complete_clade_frequencies.loc[:, [\"log_observed_growth_rate\", \"log_estimated_growth_rate\"]].max().max()) + 0.1"
   ]
  },
  {
   "cell_type": "code",
   "execution_count": 266,
   "metadata": {},
   "outputs": [
    {
     "data": {
      "application/vnd.vegalite.v3+json": {
       "$schema": "https://vega.github.io/schema/vega-lite/v3.3.0.json",
       "config": {
        "mark": {
         "tooltip": null
        },
        "view": {
         "height": 300,
         "width": 400
        }
       },
       "data": {
        "name": "data-e5979fcfcffbe39006e2808f1a296f45"
       },
       "datasets": {
        "data-e5979fcfcffbe39006e2808f1a296f45": [
         {
          "clade_membership": "1c5e069",
          "estimated_growth_rate": 1.0421052631578949,
          "frequency": 0.95,
          "frequency_final": 1,
          "log_estimated_growth_rate": 0.01789313754786138,
          "log_observed_growth_rate": 0.022253560541904666,
          "observed_growth_rate": 1.0526315789473684,
          "projected_frequency": 0.99,
          "timepoint": "2003-10-01T00:00:00",
          "year": 2003
         },
         {
          "clade_membership": "4952842",
          "estimated_growth_rate": 1.0888888888888888,
          "frequency": 0.9,
          "frequency_final": 0.97,
          "log_estimated_growth_rate": 0.0369442164008855,
          "log_observed_growth_rate": 0.03249443892894189,
          "observed_growth_rate": 1.0777777777777777,
          "projected_frequency": 0.98,
          "timepoint": "2003-10-01T00:00:00",
          "year": 2003
         },
         {
          "clade_membership": "4e35443",
          "estimated_growth_rate": 1.0421052631578949,
          "frequency": 0.95,
          "frequency_final": 1,
          "log_estimated_growth_rate": 0.01789313754786138,
          "log_observed_growth_rate": 0.022253560541904666,
          "observed_growth_rate": 1.0526315789473684,
          "projected_frequency": 0.99,
          "timepoint": "2003-10-01T00:00:00",
          "year": 2003
         },
         {
          "clade_membership": "6335574",
          "estimated_growth_rate": 1.0421052631578949,
          "frequency": 0.95,
          "frequency_final": 1,
          "log_estimated_growth_rate": 0.01789313754786138,
          "log_observed_growth_rate": 0.022253560541904666,
          "observed_growth_rate": 1.0526315789473684,
          "projected_frequency": 0.99,
          "timepoint": "2003-10-01T00:00:00",
          "year": 2003
         },
         {
          "clade_membership": "8386d16",
          "estimated_growth_rate": 1.0421052631578949,
          "frequency": 0.95,
          "frequency_final": 1,
          "log_estimated_growth_rate": 0.01789313754786138,
          "log_observed_growth_rate": 0.022253560541904666,
          "observed_growth_rate": 1.0526315789473684,
          "projected_frequency": 0.99,
          "timepoint": "2003-10-01T00:00:00",
          "year": 2003
         },
         {
          "clade_membership": "85356dd",
          "estimated_growth_rate": 1.0421052631578949,
          "frequency": 0.95,
          "frequency_final": 1,
          "log_estimated_growth_rate": 0.01789313754786138,
          "log_observed_growth_rate": 0.022253560541904666,
          "observed_growth_rate": 1.0526315789473684,
          "projected_frequency": 0.99,
          "timepoint": "2003-10-01T00:00:00",
          "year": 2003
         },
         {
          "clade_membership": "962ced9",
          "estimated_growth_rate": 1.56140350877193,
          "frequency": 0.57,
          "frequency_final": 0.02,
          "log_estimated_growth_rate": 0.19324159579102682,
          "log_observed_growth_rate": -1.4344168135119286,
          "observed_growth_rate": 0.03508771929824562,
          "projected_frequency": 0.89,
          "timepoint": "2003-10-01T00:00:00",
          "year": 2003
         },
         {
          "clade_membership": "9a3ff5d",
          "estimated_growth_rate": 1.0421052631578949,
          "frequency": 0.95,
          "frequency_final": 1,
          "log_estimated_growth_rate": 0.01789313754786138,
          "log_observed_growth_rate": 0.022253560541904666,
          "observed_growth_rate": 1.0526315789473684,
          "projected_frequency": 0.99,
          "timepoint": "2003-10-01T00:00:00",
          "year": 2003
         },
         {
          "clade_membership": "a5bcb4f",
          "estimated_growth_rate": 1.0421052631578949,
          "frequency": 0.95,
          "frequency_final": 1,
          "log_estimated_growth_rate": 0.01789313754786138,
          "log_observed_growth_rate": 0.022253560541904666,
          "observed_growth_rate": 1.0526315789473684,
          "projected_frequency": 0.99,
          "timepoint": "2003-10-01T00:00:00",
          "year": 2003
         },
         {
          "clade_membership": "aab80f6",
          "estimated_growth_rate": 1.0421052631578949,
          "frequency": 0.95,
          "frequency_final": 1,
          "log_estimated_growth_rate": 0.01789313754786138,
          "log_observed_growth_rate": 0.022253560541904666,
          "observed_growth_rate": 1.0526315789473684,
          "projected_frequency": 0.99,
          "timepoint": "2003-10-01T00:00:00",
          "year": 2003
         },
         {
          "clade_membership": "cd4e884",
          "estimated_growth_rate": 1.0421052631578949,
          "frequency": 0.95,
          "frequency_final": 1,
          "log_estimated_growth_rate": 0.01789313754786138,
          "log_observed_growth_rate": 0.022253560541904666,
          "observed_growth_rate": 1.0526315789473684,
          "projected_frequency": 0.99,
          "timepoint": "2003-10-01T00:00:00",
          "year": 2003
         },
         {
          "clade_membership": "fd5608c",
          "estimated_growth_rate": 1.0421052631578949,
          "frequency": 0.95,
          "frequency_final": 1,
          "log_estimated_growth_rate": 0.01789313754786138,
          "log_observed_growth_rate": 0.022253560541904666,
          "observed_growth_rate": 1.0526315789473684,
          "projected_frequency": 0.99,
          "timepoint": "2003-10-01T00:00:00",
          "year": 2003
         },
         {
          "clade_membership": "1c5e069",
          "estimated_growth_rate": 1,
          "frequency": 1,
          "frequency_final": 0.99,
          "log_estimated_growth_rate": 0,
          "log_observed_growth_rate": -0.004360422994043261,
          "observed_growth_rate": 0.99,
          "projected_frequency": 1,
          "timepoint": "2004-04-01T00:00:00",
          "year": 2004
         },
         {
          "clade_membership": "412c00a",
          "estimated_growth_rate": 1.318840579710145,
          "frequency": 0.69,
          "frequency_final": 0.97,
          "log_estimated_growth_rate": 0.12004032959879991,
          "log_observed_growth_rate": 0.14774118253380644,
          "observed_growth_rate": 1.4057971014492754,
          "projected_frequency": 0.91,
          "timepoint": "2004-04-01T00:00:00",
          "year": 2004
         },
         {
          "clade_membership": "4952842",
          "estimated_growth_rate": 1,
          "frequency": 1,
          "frequency_final": 0.98,
          "log_estimated_growth_rate": 0,
          "log_observed_growth_rate": -0.008765070099370076,
          "observed_growth_rate": 0.98,
          "projected_frequency": 1,
          "timepoint": "2004-04-01T00:00:00",
          "year": 2004
         },
         {
          "clade_membership": "4e35443",
          "estimated_growth_rate": 1,
          "frequency": 1,
          "frequency_final": 0.99,
          "log_estimated_growth_rate": 0,
          "log_observed_growth_rate": -0.004360422994043261,
          "observed_growth_rate": 0.99,
          "projected_frequency": 1,
          "timepoint": "2004-04-01T00:00:00",
          "year": 2004
         },
         {
          "clade_membership": "4ff1302",
          "estimated_growth_rate": 1.5892857142857142,
          "frequency": 0.56,
          "frequency_final": 0.97,
          "log_estimated_growth_rate": 0.20091484278071337,
          "log_observed_growth_rate": 0.23825636865184344,
          "observed_growth_rate": 1.732142857142857,
          "projected_frequency": 0.89,
          "timepoint": "2004-04-01T00:00:00",
          "year": 2004
         },
         {
          "clade_membership": "6335574",
          "estimated_growth_rate": 1,
          "frequency": 1,
          "frequency_final": 0.99,
          "log_estimated_growth_rate": 0,
          "log_observed_growth_rate": -0.004360422994043261,
          "observed_growth_rate": 0.99,
          "projected_frequency": 1,
          "timepoint": "2004-04-01T00:00:00",
          "year": 2004
         },
         {
          "clade_membership": "8386d16",
          "estimated_growth_rate": 1,
          "frequency": 1,
          "frequency_final": 0.99,
          "log_estimated_growth_rate": 0,
          "log_observed_growth_rate": -0.004360422994043261,
          "observed_growth_rate": 0.99,
          "projected_frequency": 1,
          "timepoint": "2004-04-01T00:00:00",
          "year": 2004
         },
         {
          "clade_membership": "85356dd",
          "estimated_growth_rate": 1,
          "frequency": 1,
          "frequency_final": 0.99,
          "log_estimated_growth_rate": 0,
          "log_observed_growth_rate": -0.004360422994043261,
          "observed_growth_rate": 0.99,
          "projected_frequency": 1,
          "timepoint": "2004-04-01T00:00:00",
          "year": 2004
         },
         {
          "clade_membership": "962ced9",
          "estimated_growth_rate": 0.32,
          "frequency": 0.25,
          "frequency_final": 0,
          "log_estimated_growth_rate": -0.4911887026023884,
          "log_observed_growth_rate": -2.399673721481038,
          "observed_growth_rate": 0,
          "projected_frequency": 0.08,
          "timepoint": "2004-04-01T00:00:00",
          "year": 2004
         },
         {
          "clade_membership": "9a3ff5d",
          "estimated_growth_rate": 1,
          "frequency": 1,
          "frequency_final": 0.99,
          "log_estimated_growth_rate": 0,
          "log_observed_growth_rate": -0.004360422994043261,
          "observed_growth_rate": 0.99,
          "projected_frequency": 1,
          "timepoint": "2004-04-01T00:00:00",
          "year": 2004
         },
         {
          "clade_membership": "a5bcb4f",
          "estimated_growth_rate": 1,
          "frequency": 1,
          "frequency_final": 0.99,
          "log_estimated_growth_rate": 0,
          "log_observed_growth_rate": -0.004360422994043261,
          "observed_growth_rate": 0.99,
          "projected_frequency": 1,
          "timepoint": "2004-04-01T00:00:00",
          "year": 2004
         },
         {
          "clade_membership": "aab80f6",
          "estimated_growth_rate": 1,
          "frequency": 1,
          "frequency_final": 0.99,
          "log_estimated_growth_rate": 0,
          "log_observed_growth_rate": -0.004360422994043261,
          "observed_growth_rate": 0.99,
          "projected_frequency": 1,
          "timepoint": "2004-04-01T00:00:00",
          "year": 2004
         },
         {
          "clade_membership": "cd4e884",
          "estimated_growth_rate": 1,
          "frequency": 1,
          "frequency_final": 0.99,
          "log_estimated_growth_rate": 0,
          "log_observed_growth_rate": -0.004360422994043261,
          "observed_growth_rate": 0.99,
          "projected_frequency": 1,
          "timepoint": "2004-04-01T00:00:00",
          "year": 2004
         },
         {
          "clade_membership": "fd5608c",
          "estimated_growth_rate": 1,
          "frequency": 1,
          "frequency_final": 0.99,
          "log_estimated_growth_rate": 0,
          "log_observed_growth_rate": -0.004360422994043261,
          "observed_growth_rate": 0.99,
          "projected_frequency": 1,
          "timepoint": "2004-04-01T00:00:00",
          "year": 2004
         },
         {
          "clade_membership": "06ed3c7",
          "estimated_growth_rate": 0.7083333333333334,
          "frequency": 0.24,
          "frequency_final": 0,
          "log_estimated_growth_rate": -0.14902093218271453,
          "log_observed_growth_rate": -2.3820170425748683,
          "observed_growth_rate": 0,
          "projected_frequency": 0.17,
          "timepoint": "2004-10-01T00:00:00",
          "year": 2004
         },
         {
          "clade_membership": "3a81d99",
          "estimated_growth_rate": 1.2857142857142858,
          "frequency": 0.63,
          "frequency_final": 0.97,
          "log_estimated_growth_rate": 0.10899149496702175,
          "log_observed_growth_rate": 0.18718987066387055,
          "observed_growth_rate": 1.5396825396825395,
          "projected_frequency": 0.81,
          "timepoint": "2004-10-01T00:00:00",
          "year": 2004
         },
         {
          "clade_membership": "412c00a",
          "estimated_growth_rate": 1.0526315789473684,
          "frequency": 0.95,
          "frequency_final": 1,
          "log_estimated_growth_rate": 0.022253560541904666,
          "log_observed_growth_rate": 0.022253560541904666,
          "observed_growth_rate": 1.0526315789473684,
          "projected_frequency": 1,
          "timepoint": "2004-10-01T00:00:00",
          "year": 2004
         },
         {
          "clade_membership": "44989e1",
          "estimated_growth_rate": 1.1529411764705881,
          "frequency": 0.85,
          "frequency_final": 0.96,
          "log_estimated_growth_rate": 0.06173944729536065,
          "log_observed_growth_rate": 0.05279382758395751,
          "observed_growth_rate": 1.1294117647058823,
          "projected_frequency": 0.98,
          "timepoint": "2004-10-01T00:00:00",
          "year": 2004
         },
         {
          "clade_membership": "4952842",
          "estimated_growth_rate": 1.0309278350515465,
          "frequency": 0.97,
          "frequency_final": 1,
          "log_estimated_growth_rate": 0.013214847571313755,
          "log_observed_growth_rate": 0.013214847571313755,
          "observed_growth_rate": 1.0309278350515465,
          "projected_frequency": 1,
          "timepoint": "2004-10-01T00:00:00",
          "year": 2004
         },
         {
          "clade_membership": "4ff1302",
          "estimated_growth_rate": 1.0526315789473684,
          "frequency": 0.95,
          "frequency_final": 1,
          "log_estimated_growth_rate": 0.022253560541904666,
          "log_observed_growth_rate": 0.022253560541904666,
          "observed_growth_rate": 1.0526315789473684,
          "projected_frequency": 1,
          "timepoint": "2004-10-01T00:00:00",
          "year": 2004
         },
         {
          "clade_membership": "7aa732d",
          "estimated_growth_rate": 1.375,
          "frequency": 0.56,
          "frequency_final": 0.95,
          "log_estimated_growth_rate": 0.13809151679479556,
          "log_observed_growth_rate": 0.22921765568125244,
          "observed_growth_rate": 1.6964285714285712,
          "projected_frequency": 0.77,
          "timepoint": "2004-10-01T00:00:00",
          "year": 2004
         },
         {
          "clade_membership": "1c5e069",
          "estimated_growth_rate": 1.0101010101010102,
          "frequency": 0.99,
          "frequency_final": 1,
          "log_estimated_growth_rate": 0.004360422994043273,
          "log_observed_growth_rate": 0.004360422994043273,
          "observed_growth_rate": 1.0101010101010102,
          "projected_frequency": 1,
          "timepoint": "2005-04-01T00:00:00",
          "year": 2005
         },
         {
          "clade_membership": "3a81d99",
          "estimated_growth_rate": 1.1333333333333333,
          "frequency": 0.75,
          "frequency_final": 1,
          "log_estimated_growth_rate": 0.054289623080419444,
          "log_observed_growth_rate": 0.12479414047515017,
          "observed_growth_rate": 1.3333333333333333,
          "projected_frequency": 0.85,
          "timepoint": "2005-04-01T00:00:00",
          "year": 2005
         },
         {
          "clade_membership": "412c00a",
          "estimated_growth_rate": 1.0309278350515465,
          "frequency": 0.97,
          "frequency_final": 1,
          "log_estimated_growth_rate": 0.013214847571313755,
          "log_observed_growth_rate": 0.013214847571313755,
          "observed_growth_rate": 1.0309278350515465,
          "projected_frequency": 1,
          "timepoint": "2005-04-01T00:00:00",
          "year": 2005
         },
         {
          "clade_membership": "44989e1",
          "estimated_growth_rate": 1.125,
          "frequency": 0.88,
          "frequency_final": 1,
          "log_estimated_growth_rate": 0.051097746073227396,
          "log_observed_growth_rate": 0.05545816906727064,
          "observed_growth_rate": 1.1363636363636365,
          "projected_frequency": 0.99,
          "timepoint": "2005-04-01T00:00:00",
          "year": 2005
         },
         {
          "clade_membership": "4952842",
          "estimated_growth_rate": 1.0204081632653061,
          "frequency": 0.98,
          "frequency_final": 1,
          "log_estimated_growth_rate": 0.008765070099370121,
          "log_observed_growth_rate": 0.008765070099370121,
          "observed_growth_rate": 1.0204081632653061,
          "projected_frequency": 1,
          "timepoint": "2005-04-01T00:00:00",
          "year": 2005
         },
         {
          "clade_membership": "4e35443",
          "estimated_growth_rate": 1.0101010101010102,
          "frequency": 0.99,
          "frequency_final": 1,
          "log_estimated_growth_rate": 0.004360422994043273,
          "log_observed_growth_rate": 0.004360422994043273,
          "observed_growth_rate": 1.0101010101010102,
          "projected_frequency": 1,
          "timepoint": "2005-04-01T00:00:00",
          "year": 2005
         },
         {
          "clade_membership": "4ff1302",
          "estimated_growth_rate": 1.0309278350515465,
          "frequency": 0.97,
          "frequency_final": 1,
          "log_estimated_growth_rate": 0.013214847571313755,
          "log_observed_growth_rate": 0.013214847571313755,
          "observed_growth_rate": 1.0309278350515465,
          "projected_frequency": 1,
          "timepoint": "2005-04-01T00:00:00",
          "year": 2005
         },
         {
          "clade_membership": "6335574",
          "estimated_growth_rate": 1.0101010101010102,
          "frequency": 0.99,
          "frequency_final": 1,
          "log_estimated_growth_rate": 0.004360422994043273,
          "log_observed_growth_rate": 0.004360422994043273,
          "observed_growth_rate": 1.0101010101010102,
          "projected_frequency": 1,
          "timepoint": "2005-04-01T00:00:00",
          "year": 2005
         },
         {
          "clade_membership": "7aa732d",
          "estimated_growth_rate": 1.1830985915492958,
          "frequency": 0.71,
          "frequency_final": 0.99,
          "log_estimated_growth_rate": 0.0729263950681459,
          "log_observed_growth_rate": 0.14420405375550907,
          "observed_growth_rate": 1.3943661971830987,
          "projected_frequency": 0.84,
          "timepoint": "2005-04-01T00:00:00",
          "year": 2005
         },
         {
          "clade_membership": "8386d16",
          "estimated_growth_rate": 1.0101010101010102,
          "frequency": 0.99,
          "frequency_final": 1,
          "log_estimated_growth_rate": 0.004360422994043273,
          "log_observed_growth_rate": 0.004360422994043273,
          "observed_growth_rate": 1.0101010101010102,
          "projected_frequency": 1,
          "timepoint": "2005-04-01T00:00:00",
          "year": 2005
         },
         {
          "clade_membership": "85356dd",
          "estimated_growth_rate": 1.0101010101010102,
          "frequency": 0.99,
          "frequency_final": 1,
          "log_estimated_growth_rate": 0.004360422994043273,
          "log_observed_growth_rate": 0.004360422994043273,
          "observed_growth_rate": 1.0101010101010102,
          "projected_frequency": 1,
          "timepoint": "2005-04-01T00:00:00",
          "year": 2005
         },
         {
          "clade_membership": "9a3ff5d",
          "estimated_growth_rate": 1.0101010101010102,
          "frequency": 0.99,
          "frequency_final": 1,
          "log_estimated_growth_rate": 0.004360422994043273,
          "log_observed_growth_rate": 0.004360422994043273,
          "observed_growth_rate": 1.0101010101010102,
          "projected_frequency": 1,
          "timepoint": "2005-04-01T00:00:00",
          "year": 2005
         },
         {
          "clade_membership": "a5bcb4f",
          "estimated_growth_rate": 1.0101010101010102,
          "frequency": 0.99,
          "frequency_final": 1,
          "log_estimated_growth_rate": 0.004360422994043273,
          "log_observed_growth_rate": 0.004360422994043273,
          "observed_growth_rate": 1.0101010101010102,
          "projected_frequency": 1,
          "timepoint": "2005-04-01T00:00:00",
          "year": 2005
         },
         {
          "clade_membership": "aab80f6",
          "estimated_growth_rate": 1.0101010101010102,
          "frequency": 0.99,
          "frequency_final": 1,
          "log_estimated_growth_rate": 0.004360422994043273,
          "log_observed_growth_rate": 0.004360422994043273,
          "observed_growth_rate": 1.0101010101010102,
          "projected_frequency": 1,
          "timepoint": "2005-04-01T00:00:00",
          "year": 2005
         },
         {
          "clade_membership": "cd4e884",
          "estimated_growth_rate": 1.0101010101010102,
          "frequency": 0.99,
          "frequency_final": 1,
          "log_estimated_growth_rate": 0.004360422994043273,
          "log_observed_growth_rate": 0.004360422994043273,
          "observed_growth_rate": 1.0101010101010102,
          "projected_frequency": 1,
          "timepoint": "2005-04-01T00:00:00",
          "year": 2005
         },
         {
          "clade_membership": "fd5608c",
          "estimated_growth_rate": 1.0101010101010102,
          "frequency": 0.99,
          "frequency_final": 1,
          "log_estimated_growth_rate": 0.004360422994043273,
          "log_observed_growth_rate": 0.004360422994043273,
          "observed_growth_rate": 1.0101010101010102,
          "projected_frequency": 1,
          "timepoint": "2005-04-01T00:00:00",
          "year": 2005
         },
         {
          "clade_membership": "2806112",
          "estimated_growth_rate": 0.24,
          "frequency": 0.25,
          "frequency_final": 0,
          "log_estimated_growth_rate": -0.614343886470271,
          "log_observed_growth_rate": -2.399673721481038,
          "observed_growth_rate": 0,
          "projected_frequency": 0.06,
          "timepoint": "2005-10-01T00:00:00",
          "year": 2005
         },
         {
          "clade_membership": "3a81d99",
          "estimated_growth_rate": 1.0309278350515465,
          "frequency": 0.97,
          "frequency_final": 1,
          "log_estimated_growth_rate": 0.013214847571313755,
          "log_observed_growth_rate": 0.013214847571313755,
          "observed_growth_rate": 1.0309278350515465,
          "projected_frequency": 1,
          "timepoint": "2005-10-01T00:00:00",
          "year": 2005
         },
         {
          "clade_membership": "44989e1",
          "estimated_growth_rate": 1.0416666666666667,
          "frequency": 0.96,
          "frequency_final": 1,
          "log_estimated_growth_rate": 0.01771068981077321,
          "log_observed_growth_rate": 0.01771068981077321,
          "observed_growth_rate": 1.0416666666666667,
          "projected_frequency": 1,
          "timepoint": "2005-10-01T00:00:00",
          "year": 2005
         },
         {
          "clade_membership": "5ce45ae",
          "estimated_growth_rate": 0.21428571428571425,
          "frequency": 0.28,
          "frequency_final": 0.03,
          "log_estimated_growth_rate": -0.6633764848943129,
          "log_observed_growth_rate": -0.9573446260708073,
          "observed_growth_rate": 0.10714285714285712,
          "projected_frequency": 0.06,
          "timepoint": "2005-10-01T00:00:00",
          "year": 2005
         },
         {
          "clade_membership": "6a436ac",
          "estimated_growth_rate": 0.2727272727272727,
          "frequency": 0.22,
          "frequency_final": 0,
          "log_estimated_growth_rate": -0.5590624386743437,
          "log_observed_growth_rate": -2.3443922736851106,
          "observed_growth_rate": 0,
          "projected_frequency": 0.06,
          "timepoint": "2005-10-01T00:00:00",
          "year": 2005
         },
         {
          "clade_membership": "7aa732d",
          "estimated_growth_rate": 1.0526315789473684,
          "frequency": 0.95,
          "frequency_final": 1,
          "log_estimated_growth_rate": 0.022253560541904666,
          "log_observed_growth_rate": 0.022253560541904666,
          "observed_growth_rate": 1.0526315789473684,
          "projected_frequency": 1,
          "timepoint": "2005-10-01T00:00:00",
          "year": 2005
         },
         {
          "clade_membership": "9b04f13",
          "estimated_growth_rate": 1.6428571428571428,
          "frequency": 0.56,
          "frequency_final": 0.95,
          "log_estimated_growth_rate": 0.2152967689406875,
          "log_observed_growth_rate": 0.22921765568125244,
          "observed_growth_rate": 1.6964285714285712,
          "projected_frequency": 0.92,
          "timepoint": "2005-10-01T00:00:00",
          "year": 2005
         },
         {
          "clade_membership": "d8ea4e1",
          "estimated_growth_rate": 0.21428571428571425,
          "frequency": 0.28,
          "frequency_final": 0.05,
          "log_estimated_growth_rate": -0.6633764848943129,
          "log_observed_growth_rate": -0.7411361438071435,
          "observed_growth_rate": 0.17857142857142858,
          "projected_frequency": 0.06,
          "timepoint": "2005-10-01T00:00:00",
          "year": 2005
         },
         {
          "clade_membership": "3a81d99",
          "estimated_growth_rate": 1,
          "frequency": 1,
          "frequency_final": 0.99,
          "log_estimated_growth_rate": 0,
          "log_observed_growth_rate": -0.004360422994043261,
          "observed_growth_rate": 0.99,
          "projected_frequency": 1,
          "timepoint": "2006-04-01T00:00:00",
          "year": 2006
         },
         {
          "clade_membership": "5ce45ae",
          "estimated_growth_rate": 0.13636363636363635,
          "frequency": 0.22,
          "frequency_final": 0.01,
          "log_estimated_growth_rate": -0.853030579850838,
          "log_observed_growth_rate": -1.3029995885268857,
          "observed_growth_rate": 0.045454545454545456,
          "projected_frequency": 0.03,
          "timepoint": "2006-04-01T00:00:00",
          "year": 2006
         },
         {
          "clade_membership": "8517059",
          "estimated_growth_rate": 0.6551724137931035,
          "frequency": 0.29,
          "frequency_final": 0.01,
          "log_estimated_growth_rate": -0.18285962173817974,
          "log_observed_growth_rate": -1.4225003038276822,
          "observed_growth_rate": 0.03448275862068966,
          "projected_frequency": 0.19,
          "timepoint": "2006-04-01T00:00:00",
          "year": 2006
         },
         {
          "clade_membership": "9b04f13",
          "estimated_growth_rate": 1.2933333333333332,
          "frequency": 0.75,
          "frequency_final": 0.98,
          "log_estimated_growth_rate": 0.11157929290383643,
          "log_observed_growth_rate": 0.11602907037578009,
          "observed_growth_rate": 1.3066666666666666,
          "projected_frequency": 0.97,
          "timepoint": "2006-04-01T00:00:00",
          "year": 2006
         },
         {
          "clade_membership": "d8ea4e1",
          "estimated_growth_rate": 0.13636363636363635,
          "frequency": 0.22,
          "frequency_final": 0.01,
          "log_estimated_growth_rate": -0.853030579850838,
          "log_observed_growth_rate": -1.3029995885268857,
          "observed_growth_rate": 0.045454545454545456,
          "projected_frequency": 0.03,
          "timepoint": "2006-04-01T00:00:00",
          "year": 2006
         },
         {
          "clade_membership": "1518fdb",
          "estimated_growth_rate": 0.9333333333333335,
          "frequency": 0.15,
          "frequency_final": 0.2,
          "log_estimated_growth_rate": -0.029757834637789485,
          "log_observed_growth_rate": 0.12421911012731948,
          "observed_growth_rate": 1.3333333333333335,
          "projected_frequency": 0.14,
          "timepoint": "2006-10-01T00:00:00",
          "year": 2006
         },
         {
          "clade_membership": "3c0baec",
          "estimated_growth_rate": 1.25,
          "frequency": 0.44,
          "frequency_final": 0.8,
          "log_estimated_growth_rate": 0.09671300938394656,
          "log_observed_growth_rate": 0.2591939266163991,
          "observed_growth_rate": 1.8181818181818183,
          "projected_frequency": 0.55,
          "timepoint": "2006-10-01T00:00:00",
          "year": 2006
         },
         {
          "clade_membership": "8517059",
          "estimated_growth_rate": 1,
          "frequency": 0.29,
          "frequency_final": 0,
          "log_estimated_growth_rate": 0,
          "log_observed_growth_rate": -2.4638929889859074,
          "observed_growth_rate": 0,
          "projected_frequency": 0.29,
          "timepoint": "2006-10-01T00:00:00",
          "year": 2006
         },
         {
          "clade_membership": "9b04f13",
          "estimated_growth_rate": 1.0526315789473684,
          "frequency": 0.95,
          "frequency_final": 1,
          "log_estimated_growth_rate": 0.022253560541904666,
          "log_observed_growth_rate": 0.022253560541904666,
          "observed_growth_rate": 1.0526315789473684,
          "projected_frequency": 1,
          "timepoint": "2006-10-01T00:00:00",
          "year": 2006
         },
         {
          "clade_membership": "b122c5c",
          "estimated_growth_rate": 0.9333333333333335,
          "frequency": 0.15,
          "frequency_final": 0.2,
          "log_estimated_growth_rate": -0.029757834637789485,
          "log_observed_growth_rate": 0.12421911012731948,
          "observed_growth_rate": 1.3333333333333335,
          "projected_frequency": 0.14,
          "timepoint": "2006-10-01T00:00:00",
          "year": 2006
         },
         {
          "clade_membership": "1518fdb",
          "estimated_growth_rate": 0.5238095238095238,
          "frequency": 0.21,
          "frequency_final": 0.03,
          "log_estimated_growth_rate": -0.27895947651103525,
          "log_observed_growth_rate": -0.83292076146342,
          "observed_growth_rate": 0.14285714285714285,
          "projected_frequency": 0.11,
          "timepoint": "2007-04-01T00:00:00",
          "year": 2007
         },
         {
          "clade_membership": "3a81d99",
          "estimated_growth_rate": 1.0101010101010102,
          "frequency": 0.99,
          "frequency_final": 1,
          "log_estimated_growth_rate": 0.004360422994043273,
          "log_observed_growth_rate": 0.004360422994043273,
          "observed_growth_rate": 1.0101010101010102,
          "projected_frequency": 1,
          "timepoint": "2007-04-01T00:00:00",
          "year": 2007
         },
         {
          "clade_membership": "3c0baec",
          "estimated_growth_rate": 1.1733333333333333,
          "frequency": 0.75,
          "frequency_final": 0.97,
          "log_estimated_growth_rate": 0.06933597140787952,
          "log_observed_growth_rate": 0.11157929290383643,
          "observed_growth_rate": 1.2933333333333332,
          "projected_frequency": 0.88,
          "timepoint": "2007-04-01T00:00:00",
          "year": 2007
         },
         {
          "clade_membership": "74a2c50",
          "estimated_growth_rate": 0.46428571428571425,
          "frequency": 0.28,
          "frequency_final": 0.01,
          "log_estimated_growth_rate": -0.33143502424931565,
          "log_observed_growth_rate": -1.407313634746855,
          "observed_growth_rate": 0.03571428571428571,
          "projected_frequency": 0.13,
          "timepoint": "2007-04-01T00:00:00",
          "year": 2007
         },
         {
          "clade_membership": "7aa732d",
          "estimated_growth_rate": 1.0101010101010102,
          "frequency": 0.99,
          "frequency_final": 1,
          "log_estimated_growth_rate": 0.004360422994043273,
          "log_observed_growth_rate": 0.004360422994043273,
          "observed_growth_rate": 1.0101010101010102,
          "projected_frequency": 1,
          "timepoint": "2007-04-01T00:00:00",
          "year": 2007
         },
         {
          "clade_membership": "8dd9dae",
          "estimated_growth_rate": 1.7380952380952381,
          "frequency": 0.42,
          "frequency_final": 0.96,
          "log_estimated_growth_rate": 0.23963528112219215,
          "log_observed_growth_rate": 0.35844129183287704,
          "observed_growth_rate": 2.2857142857142856,
          "projected_frequency": 0.73,
          "timepoint": "2007-04-01T00:00:00",
          "year": 2007
         },
         {
          "clade_membership": "91769ce",
          "estimated_growth_rate": 1.7560975609756098,
          "frequency": 0.41,
          "frequency_final": 0.96,
          "log_estimated_growth_rate": 0.24409344284335982,
          "log_observed_growth_rate": 0.36888156579247616,
          "observed_growth_rate": 2.341463414634146,
          "projected_frequency": 0.72,
          "timepoint": "2007-04-01T00:00:00",
          "year": 2007
         },
         {
          "clade_membership": "9b04f13",
          "estimated_growth_rate": 1.010204081632653,
          "frequency": 0.98,
          "frequency_final": 1,
          "log_estimated_growth_rate": 0.0044046471053268135,
          "log_observed_growth_rate": 0.008765070099370121,
          "observed_growth_rate": 1.0204081632653061,
          "projected_frequency": 0.99,
          "timepoint": "2007-04-01T00:00:00",
          "year": 2007
         },
         {
          "clade_membership": "a5fc6e2",
          "estimated_growth_rate": 0.5217391304347826,
          "frequency": 0.23,
          "frequency_final": 0.01,
          "log_estimated_growth_rate": -0.2808266095756943,
          "log_observed_growth_rate": -1.3222192947339193,
          "observed_growth_rate": 0.043478260869565216,
          "projected_frequency": 0.12,
          "timepoint": "2007-04-01T00:00:00",
          "year": 2007
         },
         {
          "clade_membership": "b122c5c",
          "estimated_growth_rate": 0.5,
          "frequency": 0.22,
          "frequency_final": 0.03,
          "log_estimated_growth_rate": -0.2990692948984533,
          "log_observed_growth_rate": -0.853030579850838,
          "observed_growth_rate": 0.13636363636363635,
          "projected_frequency": 0.11,
          "timepoint": "2007-04-01T00:00:00",
          "year": 2007
         },
         {
          "clade_membership": "3c0baec",
          "estimated_growth_rate": 1.2125,
          "frequency": 0.8,
          "frequency_final": 1,
          "log_estimated_growth_rate": 0.08358671382376714,
          "log_observed_growth_rate": 0.09680156139508088,
          "observed_growth_rate": 1.25,
          "projected_frequency": 0.97,
          "timepoint": "2007-10-01T00:00:00",
          "year": 2007
         },
         {
          "clade_membership": "8dd9dae",
          "estimated_growth_rate": 1.3150684931506849,
          "frequency": 0.73,
          "frequency_final": 1,
          "log_estimated_growth_rate": 0.11880601071068492,
          "log_observed_growth_rate": 0.13651670052145815,
          "observed_growth_rate": 1.36986301369863,
          "projected_frequency": 0.96,
          "timepoint": "2007-10-01T00:00:00",
          "year": 2007
         },
         {
          "clade_membership": "91769ce",
          "estimated_growth_rate": 1.3150684931506849,
          "frequency": 0.73,
          "frequency_final": 1,
          "log_estimated_growth_rate": 0.11880601071068492,
          "log_observed_growth_rate": 0.13651670052145815,
          "observed_growth_rate": 1.36986301369863,
          "projected_frequency": 0.96,
          "timepoint": "2007-10-01T00:00:00",
          "year": 2007
         },
         {
          "clade_membership": "3c0baec",
          "estimated_growth_rate": 1.0206185567010309,
          "frequency": 0.97,
          "frequency_final": 1,
          "log_estimated_growth_rate": 0.008854424577270514,
          "log_observed_growth_rate": 0.013214847571313755,
          "observed_growth_rate": 1.0309278350515465,
          "projected_frequency": 0.99,
          "timepoint": "2008-04-01T00:00:00",
          "year": 2008
         },
         {
          "clade_membership": "41bb3e2",
          "estimated_growth_rate": 2.243243243243243,
          "frequency": 0.37,
          "frequency_final": 0.93,
          "log_estimated_growth_rate": 0.3502271141690651,
          "log_observed_growth_rate": 0.39957577136629674,
          "observed_growth_rate": 2.5135135135135136,
          "projected_frequency": 0.83,
          "timepoint": "2008-04-01T00:00:00",
          "year": 2008
         },
         {
          "clade_membership": "4cd02c7",
          "estimated_growth_rate": 0.25,
          "frequency": 0.16,
          "frequency_final": 0.01,
          "log_estimated_growth_rate": -0.5940420193121142,
          "log_observed_growth_rate": -1.1654331908736246,
          "observed_growth_rate": 0.0625,
          "projected_frequency": 0.04,
          "timepoint": "2008-04-01T00:00:00",
          "year": 2008
         },
         {
          "clade_membership": "8dd9dae",
          "estimated_growth_rate": 1.03125,
          "frequency": 0.96,
          "frequency_final": 1,
          "log_estimated_growth_rate": 0.013350266816729985,
          "log_observed_growth_rate": 0.01771068981077321,
          "observed_growth_rate": 1.0416666666666667,
          "projected_frequency": 0.99,
          "timepoint": "2008-04-01T00:00:00",
          "year": 2008
         },
         {
          "clade_membership": "91769ce",
          "estimated_growth_rate": 1.03125,
          "frequency": 0.96,
          "frequency_final": 1,
          "log_estimated_growth_rate": 0.013350266816729985,
          "log_observed_growth_rate": 0.01771068981077321,
          "observed_growth_rate": 1.0416666666666667,
          "projected_frequency": 0.99,
          "timepoint": "2008-04-01T00:00:00",
          "year": 2008
         },
         {
          "clade_membership": "b7ff90b",
          "estimated_growth_rate": 2.243243243243243,
          "frequency": 0.37,
          "frequency_final": 0.93,
          "log_estimated_growth_rate": 0.3502271141690651,
          "log_observed_growth_rate": 0.39957577136629674,
          "observed_growth_rate": 2.5135135135135136,
          "projected_frequency": 0.83,
          "timepoint": "2008-04-01T00:00:00",
          "year": 2008
         },
         {
          "clade_membership": "d633ffe",
          "estimated_growth_rate": 0.3125,
          "frequency": 0.16,
          "frequency_final": 0.01,
          "log_estimated_growth_rate": -0.4992556999339134,
          "log_observed_growth_rate": -1.1654331908736246,
          "observed_growth_rate": 0.0625,
          "projected_frequency": 0.05,
          "timepoint": "2008-04-01T00:00:00",
          "year": 2008
         },
         {
          "clade_membership": "41bb3e2",
          "estimated_growth_rate": 1.5471698113207546,
          "frequency": 0.53,
          "frequency_final": 1,
          "log_estimated_growth_rate": 0.18924863603797168,
          "log_observed_growth_rate": 0.2753395563978495,
          "observed_growth_rate": 1.8867924528301885,
          "projected_frequency": 0.82,
          "timepoint": "2008-10-01T00:00:00",
          "year": 2008
         },
         {
          "clade_membership": "4cd02c7",
          "estimated_growth_rate": 0.6956521739130435,
          "frequency": 0.23,
          "frequency_final": 0,
          "log_estimated_growth_rate": -0.15678610386029465,
          "log_observed_growth_rate": -2.3636119798921444,
          "observed_growth_rate": 0,
          "projected_frequency": 0.16,
          "timepoint": "2008-10-01T00:00:00",
          "year": 2008
         },
         {
          "clade_membership": "b7ff90b",
          "estimated_growth_rate": 1.5471698113207546,
          "frequency": 0.53,
          "frequency_final": 1,
          "log_estimated_growth_rate": 0.18924863603797168,
          "log_observed_growth_rate": 0.2753395563978495,
          "observed_growth_rate": 1.8867924528301885,
          "projected_frequency": 0.82,
          "timepoint": "2008-10-01T00:00:00",
          "year": 2008
         },
         {
          "clade_membership": "d633ffe",
          "estimated_growth_rate": 0.6956521739130435,
          "frequency": 0.23,
          "frequency_final": 0,
          "log_estimated_growth_rate": -0.15678610386029465,
          "log_observed_growth_rate": -2.3636119798921444,
          "observed_growth_rate": 0,
          "projected_frequency": 0.16,
          "timepoint": "2008-10-01T00:00:00",
          "year": 2008
         },
         {
          "clade_membership": "33f72b5",
          "estimated_growth_rate": 0.1764705882352941,
          "frequency": 0.17,
          "frequency_final": 0.03,
          "log_estimated_growth_rate": -0.7416344165578812,
          "log_observed_growth_rate": -0.7416344165578812,
          "observed_growth_rate": 0.1764705882352941,
          "projected_frequency": 0.03,
          "timepoint": "2009-04-01T00:00:00",
          "year": 2009
         },
         {
          "clade_membership": "41bb3e2",
          "estimated_growth_rate": 1.064516129032258,
          "frequency": 0.93,
          "frequency_final": 0.99,
          "log_estimated_growth_rate": 0.027123973503932638,
          "log_observed_growth_rate": 0.027123973503932638,
          "observed_growth_rate": 1.064516129032258,
          "projected_frequency": 0.99,
          "timepoint": "2009-04-01T00:00:00",
          "year": 2009
         },
         {
          "clade_membership": "b7ff90b",
          "estimated_growth_rate": 1.064516129032258,
          "frequency": 0.93,
          "frequency_final": 0.99,
          "log_estimated_growth_rate": 0.027123973503932638,
          "log_observed_growth_rate": 0.027123973503932638,
          "observed_growth_rate": 1.064516129032258,
          "projected_frequency": 0.99,
          "timepoint": "2009-04-01T00:00:00",
          "year": 2009
         },
         {
          "clade_membership": "13a450d",
          "estimated_growth_rate": 1.3714285714285714,
          "frequency": 0.35,
          "frequency_final": 0.84,
          "log_estimated_growth_rate": 0.1368379599080077,
          "log_observed_growth_rate": 0.37948887933208814,
          "observed_growth_rate": 2.4,
          "projected_frequency": 0.48,
          "timepoint": "2009-10-01T00:00:00",
          "year": 2009
         },
         {
          "clade_membership": "1447f74",
          "estimated_growth_rate": 0.9622641509433962,
          "frequency": 0.53,
          "frequency_final": 0.16,
          "log_estimated_growth_rate": -0.01667362094675636,
          "log_observed_growth_rate": -0.5182686450496193,
          "observed_growth_rate": 0.3018867924528302,
          "projected_frequency": 0.51,
          "timepoint": "2009-10-01T00:00:00",
          "year": 2009
         },
         {
          "clade_membership": "819ddab",
          "estimated_growth_rate": 0.9622641509433962,
          "frequency": 0.53,
          "frequency_final": 0.16,
          "log_estimated_growth_rate": -0.01667362094675636,
          "log_observed_growth_rate": -0.5182686450496193,
          "observed_growth_rate": 0.3018867924528302,
          "projected_frequency": 0.51,
          "timepoint": "2009-10-01T00:00:00",
          "year": 2009
         },
         {
          "clade_membership": "956f201",
          "estimated_growth_rate": 1.3714285714285714,
          "frequency": 0.35,
          "frequency_final": 0.84,
          "log_estimated_growth_rate": 0.1368379599080077,
          "log_observed_growth_rate": 0.37948887933208814,
          "observed_growth_rate": 2.4,
          "projected_frequency": 0.48,
          "timepoint": "2009-10-01T00:00:00",
          "year": 2009
         },
         {
          "clade_membership": "c0ab28c",
          "estimated_growth_rate": 0.9622641509433962,
          "frequency": 0.53,
          "frequency_final": 0.16,
          "log_estimated_growth_rate": -0.01667362094675636,
          "log_observed_growth_rate": -0.5182686450496193,
          "observed_growth_rate": 0.3018867924528302,
          "projected_frequency": 0.51,
          "timepoint": "2009-10-01T00:00:00",
          "year": 2009
         },
         {
          "clade_membership": "e62a2e8",
          "estimated_growth_rate": 1.129032258064516,
          "frequency": 0.31,
          "frequency_final": 0.01,
          "log_estimated_growth_rate": 0.05254672743898659,
          "log_observed_growth_rate": -1.4513677038686124,
          "observed_growth_rate": 0.03225806451612903,
          "projected_frequency": 0.35,
          "timepoint": "2009-10-01T00:00:00",
          "year": 2009
         },
         {
          "clade_membership": "13a450d",
          "estimated_growth_rate": 1.9767441860465116,
          "frequency": 0.43,
          "frequency_final": 0.79,
          "log_estimated_growth_rate": 0.2954522899238563,
          "log_observed_growth_rate": 0.26369921333694496,
          "observed_growth_rate": 1.8372093023255816,
          "projected_frequency": 0.85,
          "timepoint": "2010-04-01T00:00:00",
          "year": 2010
         },
         {
          "clade_membership": "1447f74",
          "estimated_growth_rate": 0.2765957446808511,
          "frequency": 0.47,
          "frequency_final": 0.21,
          "log_estimated_growth_rate": -0.5557496114731318,
          "log_observed_growth_rate": -0.3487384518312035,
          "observed_growth_rate": 0.4468085106382979,
          "projected_frequency": 0.13,
          "timepoint": "2010-04-01T00:00:00",
          "year": 2010
         },
         {
          "clade_membership": "41bb3e2",
          "estimated_growth_rate": 1.0101010101010102,
          "frequency": 0.99,
          "frequency_final": 1,
          "log_estimated_growth_rate": 0.004360422994043273,
          "log_observed_growth_rate": 0.004360422994043273,
          "observed_growth_rate": 1.0101010101010102,
          "projected_frequency": 1,
          "timepoint": "2010-04-01T00:00:00",
          "year": 2010
         },
         {
          "clade_membership": "7fba9ff",
          "estimated_growth_rate": 1.5,
          "frequency": 0.26,
          "frequency_final": 0.13,
          "log_estimated_growth_rate": 0.17553625005758583,
          "log_observed_growth_rate": -0.2993692116825167,
          "observed_growth_rate": 0.5,
          "projected_frequency": 0.39,
          "timepoint": "2010-04-01T00:00:00",
          "year": 2010
         },
         {
          "clade_membership": "819ddab",
          "estimated_growth_rate": 0.2765957446808511,
          "frequency": 0.47,
          "frequency_final": 0.21,
          "log_estimated_growth_rate": -0.5557496114731318,
          "log_observed_growth_rate": -0.3487384518312035,
          "observed_growth_rate": 0.4468085106382979,
          "projected_frequency": 0.13,
          "timepoint": "2010-04-01T00:00:00",
          "year": 2010
         },
         {
          "clade_membership": "956f201",
          "estimated_growth_rate": 1.9767441860465116,
          "frequency": 0.43,
          "frequency_final": 0.79,
          "log_estimated_growth_rate": 0.2954522899238563,
          "log_observed_growth_rate": 0.26369921333694496,
          "observed_growth_rate": 1.8372093023255816,
          "projected_frequency": 0.85,
          "timepoint": "2010-04-01T00:00:00",
          "year": 2010
         },
         {
          "clade_membership": "b7ff90b",
          "estimated_growth_rate": 1.0101010101010102,
          "frequency": 0.99,
          "frequency_final": 1,
          "log_estimated_growth_rate": 0.004360422994043273,
          "log_observed_growth_rate": 0.004360422994043273,
          "observed_growth_rate": 1.0101010101010102,
          "projected_frequency": 1,
          "timepoint": "2010-04-01T00:00:00",
          "year": 2010
         },
         {
          "clade_membership": "c0ab28c",
          "estimated_growth_rate": 0.2765957446808511,
          "frequency": 0.47,
          "frequency_final": 0.21,
          "log_estimated_growth_rate": -0.5557496114731318,
          "log_observed_growth_rate": -0.3487384518312035,
          "observed_growth_rate": 0.4468085106382979,
          "projected_frequency": 0.13,
          "timepoint": "2010-04-01T00:00:00",
          "year": 2010
         },
         {
          "clade_membership": "d4a2597",
          "estimated_growth_rate": 0.3913043478260869,
          "frequency": 0.23,
          "frequency_final": 0.19,
          "log_estimated_growth_rate": -0.40457058757105074,
          "log_observed_growth_rate": -0.08257861264441678,
          "observed_growth_rate": 0.8260869565217391,
          "projected_frequency": 0.09,
          "timepoint": "2010-04-01T00:00:00",
          "year": 2010
         },
         {
          "clade_membership": "026d21f",
          "estimated_growth_rate": 1.5714285714285714,
          "frequency": 0.49,
          "frequency_final": 0.36,
          "log_estimated_growth_rate": 0.19597288592798856,
          "log_observed_growth_rate": -0.13357429021731054,
          "observed_growth_rate": 0.7346938775510204,
          "projected_frequency": 0.77,
          "timepoint": "2010-10-01T00:00:00",
          "year": 2010
         },
         {
          "clade_membership": "13a450d",
          "estimated_growth_rate": 1.0952380952380953,
          "frequency": 0.84,
          "frequency_final": 0.99,
          "log_estimated_growth_rate": 0.039463634398936805,
          "log_observed_growth_rate": 0.07127765868736319,
          "observed_growth_rate": 1.1785714285714286,
          "projected_frequency": 0.92,
          "timepoint": "2010-10-01T00:00:00",
          "year": 2010
         },
         {
          "clade_membership": "1447f74",
          "estimated_growth_rate": 0.5,
          "frequency": 0.16,
          "frequency_final": 0.01,
          "log_estimated_growth_rate": -0.2983408571532,
          "log_observed_growth_rate": -1.1654331908736246,
          "observed_growth_rate": 0.0625,
          "projected_frequency": 0.08,
          "timepoint": "2010-10-01T00:00:00",
          "year": 2010
         },
         {
          "clade_membership": "4786bbf",
          "estimated_growth_rate": 1.5714285714285714,
          "frequency": 0.49,
          "frequency_final": 0.36,
          "log_estimated_growth_rate": 0.19597288592798856,
          "log_observed_growth_rate": -0.13357429021731054,
          "observed_growth_rate": 0.7346938775510204,
          "projected_frequency": 0.77,
          "timepoint": "2010-10-01T00:00:00",
          "year": 2010
         },
         {
          "clade_membership": "7fba9ff",
          "estimated_growth_rate": 0.44999999999999996,
          "frequency": 0.2,
          "frequency_final": 0,
          "log_estimated_growth_rate": -0.34415466509939535,
          "log_observed_growth_rate": -2.303196057420489,
          "observed_growth_rate": 0,
          "projected_frequency": 0.09,
          "timepoint": "2010-10-01T00:00:00",
          "year": 2010
         },
         {
          "clade_membership": "819ddab",
          "estimated_growth_rate": 0.5,
          "frequency": 0.16,
          "frequency_final": 0.01,
          "log_estimated_growth_rate": -0.2983408571532,
          "log_observed_growth_rate": -1.1654331908736246,
          "observed_growth_rate": 0.0625,
          "projected_frequency": 0.08,
          "timepoint": "2010-10-01T00:00:00",
          "year": 2010
         },
         {
          "clade_membership": "956f201",
          "estimated_growth_rate": 1.0952380952380953,
          "frequency": 0.84,
          "frequency_final": 0.99,
          "log_estimated_growth_rate": 0.039463634398936805,
          "log_observed_growth_rate": 0.07127765868736319,
          "observed_growth_rate": 1.1785714285714286,
          "projected_frequency": 0.92,
          "timepoint": "2010-10-01T00:00:00",
          "year": 2010
         },
         {
          "clade_membership": "a08d8f5",
          "estimated_growth_rate": 1.5714285714285714,
          "frequency": 0.49,
          "frequency_final": 0.36,
          "log_estimated_growth_rate": 0.19597288592798856,
          "log_observed_growth_rate": -0.13357429021731054,
          "observed_growth_rate": 0.7346938775510204,
          "projected_frequency": 0.77,
          "timepoint": "2010-10-01T00:00:00",
          "year": 2010
         },
         {
          "clade_membership": "c0ab28c",
          "estimated_growth_rate": 0.5,
          "frequency": 0.16,
          "frequency_final": 0.01,
          "log_estimated_growth_rate": -0.2983408571532,
          "log_observed_growth_rate": -1.1654331908736246,
          "observed_growth_rate": 0.0625,
          "projected_frequency": 0.08,
          "timepoint": "2010-10-01T00:00:00",
          "year": 2010
         },
         {
          "clade_membership": "e56a121",
          "estimated_growth_rate": 1.5714285714285714,
          "frequency": 0.49,
          "frequency_final": 0.36,
          "log_estimated_growth_rate": 0.19597288592798856,
          "log_observed_growth_rate": -0.13357429021731054,
          "observed_growth_rate": 0.7346938775510204,
          "projected_frequency": 0.77,
          "timepoint": "2010-10-01T00:00:00",
          "year": 2010
         },
         {
          "clade_membership": "026d21f",
          "estimated_growth_rate": 1.5882352941176472,
          "frequency": 0.51,
          "frequency_final": 0.14,
          "log_estimated_growth_rate": 0.2005999540764433,
          "log_observed_growth_rate": -0.5592017874793328,
          "observed_growth_rate": 0.27450980392156865,
          "projected_frequency": 0.81,
          "timepoint": "2011-04-01T00:00:00",
          "year": 2011
         },
         {
          "clade_membership": "13a450d",
          "estimated_growth_rate": 1.0759493670886076,
          "frequency": 0.79,
          "frequency_final": 1,
          "log_estimated_growth_rate": 0.03175307658691127,
          "log_observed_growth_rate": 0.102257593981642,
          "observed_growth_rate": 1.2658227848101264,
          "projected_frequency": 0.85,
          "timepoint": "2011-04-01T00:00:00",
          "year": 2011
         },
         {
          "clade_membership": "1447f74",
          "estimated_growth_rate": 0.7142857142857143,
          "frequency": 0.21,
          "frequency_final": 0,
          "log_estimated_growth_rate": -0.14530550800452327,
          "log_observed_growth_rate": -2.3242824552976926,
          "observed_growth_rate": 0,
          "projected_frequency": 0.15,
          "timepoint": "2011-04-01T00:00:00",
          "year": 2011
         },
         {
          "clade_membership": "24fc224",
          "estimated_growth_rate": 0.8333333333333334,
          "frequency": 0.18,
          "frequency_final": 0,
          "log_estimated_growth_rate": -0.07870162757601508,
          "log_observed_growth_rate": -2.2576785748691846,
          "observed_growth_rate": 0,
          "projected_frequency": 0.15,
          "timepoint": "2011-04-01T00:00:00",
          "year": 2011
         },
         {
          "clade_membership": "2e38996",
          "estimated_growth_rate": 0.7894736842105263,
          "frequency": 0.19,
          "frequency_final": 0,
          "log_estimated_growth_rate": -0.1020564199545581,
          "log_observed_growth_rate": -2.2810333672477277,
          "observed_growth_rate": 0,
          "projected_frequency": 0.15,
          "timepoint": "2011-04-01T00:00:00",
          "year": 2011
         },
         {
          "clade_membership": "4748b2c",
          "estimated_growth_rate": 0.7894736842105263,
          "frequency": 0.19,
          "frequency_final": 0,
          "log_estimated_growth_rate": -0.1020564199545581,
          "log_observed_growth_rate": -2.2810333672477277,
          "observed_growth_rate": 0,
          "projected_frequency": 0.15,
          "timepoint": "2011-04-01T00:00:00",
          "year": 2011
         },
         {
          "clade_membership": "4786bbf",
          "estimated_growth_rate": 1.5882352941176472,
          "frequency": 0.51,
          "frequency_final": 0.14,
          "log_estimated_growth_rate": 0.2005999540764433,
          "log_observed_growth_rate": -0.5592017874793328,
          "observed_growth_rate": 0.27450980392156865,
          "projected_frequency": 0.81,
          "timepoint": "2011-04-01T00:00:00",
          "year": 2011
         },
         {
          "clade_membership": "819ddab",
          "estimated_growth_rate": 0.7142857142857143,
          "frequency": 0.21,
          "frequency_final": 0,
          "log_estimated_growth_rate": -0.14530550800452327,
          "log_observed_growth_rate": -2.3242824552976926,
          "observed_growth_rate": 0,
          "projected_frequency": 0.15,
          "timepoint": "2011-04-01T00:00:00",
          "year": 2011
         },
         {
          "clade_membership": "956f201",
          "estimated_growth_rate": 1.0759493670886076,
          "frequency": 0.79,
          "frequency_final": 1,
          "log_estimated_growth_rate": 0.03175307658691127,
          "log_observed_growth_rate": 0.102257593981642,
          "observed_growth_rate": 1.2658227848101264,
          "projected_frequency": 0.85,
          "timepoint": "2011-04-01T00:00:00",
          "year": 2011
         },
         {
          "clade_membership": "a08d8f5",
          "estimated_growth_rate": 1.5882352941176472,
          "frequency": 0.51,
          "frequency_final": 0.14,
          "log_estimated_growth_rate": 0.2005999540764433,
          "log_observed_growth_rate": -0.5592017874793328,
          "observed_growth_rate": 0.27450980392156865,
          "projected_frequency": 0.81,
          "timepoint": "2011-04-01T00:00:00",
          "year": 2011
         },
         {
          "clade_membership": "c0ab28c",
          "estimated_growth_rate": 0.7142857142857143,
          "frequency": 0.21,
          "frequency_final": 0,
          "log_estimated_growth_rate": -0.14530550800452327,
          "log_observed_growth_rate": -2.3242824552976926,
          "observed_growth_rate": 0,
          "projected_frequency": 0.15,
          "timepoint": "2011-04-01T00:00:00",
          "year": 2011
         },
         {
          "clade_membership": "d4a2597",
          "estimated_growth_rate": 0.7894736842105263,
          "frequency": 0.19,
          "frequency_final": 0,
          "log_estimated_growth_rate": -0.1020564199545581,
          "log_observed_growth_rate": -2.2810333672477277,
          "observed_growth_rate": 0,
          "projected_frequency": 0.15,
          "timepoint": "2011-04-01T00:00:00",
          "year": 2011
         },
         {
          "clade_membership": "e56a121",
          "estimated_growth_rate": 1.62,
          "frequency": 0.5,
          "frequency_final": 0.14,
          "log_estimated_growth_rate": 0.20918312834391034,
          "log_observed_growth_rate": -0.5506186132118658,
          "observed_growth_rate": 0.28,
          "projected_frequency": 0.81,
          "timepoint": "2011-04-01T00:00:00",
          "year": 2011
         },
         {
          "clade_membership": "f162f83",
          "estimated_growth_rate": 0.7894736842105263,
          "frequency": 0.19,
          "frequency_final": 0,
          "log_estimated_growth_rate": -0.1020564199545581,
          "log_observed_growth_rate": -2.2810333672477277,
          "observed_growth_rate": 0,
          "projected_frequency": 0.15,
          "timepoint": "2011-04-01T00:00:00",
          "year": 2011
         },
         {
          "clade_membership": "026d21f",
          "estimated_growth_rate": 0.36111111111111116,
          "frequency": 0.36,
          "frequency_final": 0.23,
          "log_estimated_growth_rate": -0.4402359062498936,
          "log_observed_growth_rate": -0.19389522201351353,
          "observed_growth_rate": 0.638888888888889,
          "projected_frequency": 0.13,
          "timepoint": "2011-10-01T00:00:00",
          "year": 2011
         },
         {
          "clade_membership": "13a450d",
          "estimated_growth_rate": 1.0101010101010102,
          "frequency": 0.99,
          "frequency_final": 1,
          "log_estimated_growth_rate": 0.004360422994043273,
          "log_observed_growth_rate": 0.004360422994043273,
          "observed_growth_rate": 1.0101010101010102,
          "projected_frequency": 1,
          "timepoint": "2011-10-01T00:00:00",
          "year": 2011
         },
         {
          "clade_membership": "38da78c",
          "estimated_growth_rate": 0.5909090909090909,
          "frequency": 0.22,
          "frequency_final": 0.53,
          "log_estimated_growth_rate": -0.22712097802934644,
          "log_observed_growth_rate": 0.38070224739635833,
          "observed_growth_rate": 2.409090909090909,
          "projected_frequency": 0.13,
          "timepoint": "2011-10-01T00:00:00",
          "year": 2011
         },
         {
          "clade_membership": "3b60fb2",
          "estimated_growth_rate": 0.33333333333333337,
          "frequency": 0.15,
          "frequency_final": 0.04,
          "log_estimated_growth_rate": -0.471406771195233,
          "log_observed_growth_rate": -0.5661930905734339,
          "observed_growth_rate": 0.26666666666666666,
          "projected_frequency": 0.05,
          "timepoint": "2011-10-01T00:00:00",
          "year": 2011
         },
         {
          "clade_membership": "4786bbf",
          "estimated_growth_rate": 0.36111111111111116,
          "frequency": 0.36,
          "frequency_final": 0.23,
          "log_estimated_growth_rate": -0.4402359062498936,
          "log_observed_growth_rate": -0.19389522201351353,
          "observed_growth_rate": 0.638888888888889,
          "projected_frequency": 0.13,
          "timepoint": "2011-10-01T00:00:00",
          "year": 2011
         },
         {
          "clade_membership": "8aaed0b",
          "estimated_growth_rate": 0.5384615384615385,
          "frequency": 0.26,
          "frequency_final": 0.53,
          "log_estimated_growth_rate": -0.26742139468290105,
          "log_observed_growth_rate": 0.3084540137431881,
          "observed_growth_rate": 2.0384615384615383,
          "projected_frequency": 0.14,
          "timepoint": "2011-10-01T00:00:00",
          "year": 2011
         },
         {
          "clade_membership": "956f201",
          "estimated_growth_rate": 1.0101010101010102,
          "frequency": 0.99,
          "frequency_final": 1,
          "log_estimated_growth_rate": 0.004360422994043273,
          "log_observed_growth_rate": 0.004360422994043273,
          "observed_growth_rate": 1.0101010101010102,
          "projected_frequency": 1,
          "timepoint": "2011-10-01T00:00:00",
          "year": 2011
         },
         {
          "clade_membership": "a08d8f5",
          "estimated_growth_rate": 0.36111111111111116,
          "frequency": 0.36,
          "frequency_final": 0.23,
          "log_estimated_growth_rate": -0.4402359062498936,
          "log_observed_growth_rate": -0.19389522201351353,
          "observed_growth_rate": 0.638888888888889,
          "projected_frequency": 0.13,
          "timepoint": "2011-10-01T00:00:00",
          "year": 2011
         },
         {
          "clade_membership": "bfceca0",
          "estimated_growth_rate": 1.4827586206896552,
          "frequency": 0.58,
          "frequency_final": 0.67,
          "log_estimated_growth_rate": 0.17082701906332404,
          "log_observed_growth_rate": 0.06254638777866137,
          "observed_growth_rate": 1.1551724137931036,
          "projected_frequency": 0.86,
          "timepoint": "2011-10-01T00:00:00",
          "year": 2011
         },
         {
          "clade_membership": "c139e7c",
          "estimated_growth_rate": 1.4827586206896552,
          "frequency": 0.58,
          "frequency_final": 0.67,
          "log_estimated_growth_rate": 0.17082701906332404,
          "log_observed_growth_rate": 0.06254638777866137,
          "observed_growth_rate": 1.1551724137931036,
          "projected_frequency": 0.86,
          "timepoint": "2011-10-01T00:00:00",
          "year": 2011
         },
         {
          "clade_membership": "ce8636c",
          "estimated_growth_rate": 0.5769230769230769,
          "frequency": 0.26,
          "frequency_final": 0.53,
          "log_estimated_growth_rate": -0.23766356004511152,
          "log_observed_growth_rate": 0.3084540137431881,
          "observed_growth_rate": 2.0384615384615383,
          "projected_frequency": 0.15,
          "timepoint": "2011-10-01T00:00:00",
          "year": 2011
         },
         {
          "clade_membership": "e56a121",
          "estimated_growth_rate": 0.36111111111111116,
          "frequency": 0.36,
          "frequency_final": 0.23,
          "log_estimated_growth_rate": -0.4402359062498936,
          "log_observed_growth_rate": -0.19389522201351353,
          "observed_growth_rate": 0.638888888888889,
          "projected_frequency": 0.13,
          "timepoint": "2011-10-01T00:00:00",
          "year": 2011
         },
         {
          "clade_membership": "f8b8996",
          "estimated_growth_rate": 1.4262295081967213,
          "frequency": 0.61,
          "frequency_final": 0.76,
          "log_estimated_growth_rate": 0.15397694476510895,
          "log_observed_growth_rate": 0.09534344652801863,
          "observed_growth_rate": 1.2459016393442623,
          "projected_frequency": 0.87,
          "timepoint": "2011-10-01T00:00:00",
          "year": 2011
         },
         {
          "clade_membership": "38da78c",
          "estimated_growth_rate": 1.8918918918918919,
          "frequency": 0.37,
          "frequency_final": 0.93,
          "log_estimated_growth_rate": 0.27634410835161277,
          "log_observed_growth_rate": 0.39957577136629674,
          "observed_growth_rate": 2.5135135135135136,
          "projected_frequency": 0.7,
          "timepoint": "2012-04-01T00:00:00",
          "year": 2012
         },
         {
          "clade_membership": "6c1138e",
          "estimated_growth_rate": 2,
          "frequency": 0.35,
          "frequency_final": 0.92,
          "log_estimated_growth_rate": 0.30041090150083455,
          "log_observed_growth_rate": 0.41895251373102493,
          "observed_growth_rate": 2.628571428571429,
          "projected_frequency": 0.7,
          "timepoint": "2012-04-01T00:00:00",
          "year": 2012
         },
         {
          "clade_membership": "8aaed0b",
          "estimated_growth_rate": 1.775,
          "frequency": 0.4,
          "frequency_final": 0.93,
          "log_estimated_growth_rate": 0.24872522810958395,
          "log_observed_growth_rate": 0.3658053083611603,
          "observed_growth_rate": 2.325,
          "projected_frequency": 0.71,
          "timepoint": "2012-04-01T00:00:00",
          "year": 2012
         },
         {
          "clade_membership": "bfceca0",
          "estimated_growth_rate": 1.2727272727272727,
          "frequency": 0.77,
          "frequency_final": 0.96,
          "log_estimated_growth_rate": 0.1046146293289915,
          "log_observed_growth_rate": 0.09566900961758838,
          "observed_growth_rate": 1.2467532467532467,
          "projected_frequency": 0.98,
          "timepoint": "2012-04-01T00:00:00",
          "year": 2012
         },
         {
          "clade_membership": "c139e7c",
          "estimated_growth_rate": 1.2727272727272727,
          "frequency": 0.77,
          "frequency_final": 0.96,
          "log_estimated_growth_rate": 0.1046146293289915,
          "log_observed_growth_rate": 0.09566900961758838,
          "observed_growth_rate": 1.2467532467532467,
          "projected_frequency": 0.98,
          "timepoint": "2012-04-01T00:00:00",
          "year": 2012
         },
         {
          "clade_membership": "ce8636c",
          "estimated_growth_rate": 1.775,
          "frequency": 0.4,
          "frequency_final": 0.93,
          "log_estimated_growth_rate": 0.24872522810958395,
          "log_observed_growth_rate": 0.3658053083611603,
          "observed_growth_rate": 2.325,
          "projected_frequency": 0.71,
          "timepoint": "2012-04-01T00:00:00",
          "year": 2012
         },
         {
          "clade_membership": "f2ec31a",
          "estimated_growth_rate": 2,
          "frequency": 0.35,
          "frequency_final": 0.91,
          "log_estimated_growth_rate": 0.30041090150083455,
          "log_observed_growth_rate": 0.4142112605071742,
          "observed_growth_rate": 2.6,
          "projected_frequency": 0.7,
          "timepoint": "2012-04-01T00:00:00",
          "year": 2012
         },
         {
          "clade_membership": "f8b8996",
          "estimated_growth_rate": 1.1927710843373494,
          "frequency": 0.83,
          "frequency_final": 0.97,
          "log_estimated_growth_rate": 0.07647263070116439,
          "log_observed_growth_rate": 0.06761820612389391,
          "observed_growth_rate": 1.1686746987951808,
          "projected_frequency": 0.99,
          "timepoint": "2012-04-01T00:00:00",
          "year": 2012
         },
         {
          "clade_membership": "026d21f",
          "estimated_growth_rate": 0.17391304347826086,
          "frequency": 0.23,
          "frequency_final": 0,
          "log_estimated_growth_rate": -0.7508281231724088,
          "log_observed_growth_rate": -2.3636119798921444,
          "observed_growth_rate": 0,
          "projected_frequency": 0.04,
          "timepoint": "2012-10-01T00:00:00",
          "year": 2012
         },
         {
          "clade_membership": "38da78c",
          "estimated_growth_rate": 1.6981132075471699,
          "frequency": 0.53,
          "frequency_final": 0.99,
          "log_estimated_growth_rate": 0.22963026989759389,
          "log_observed_growth_rate": 0.27097913340380625,
          "observed_growth_rate": 1.8679245283018866,
          "projected_frequency": 0.9,
          "timepoint": "2012-10-01T00:00:00",
          "year": 2012
         },
         {
          "clade_membership": "4786bbf",
          "estimated_growth_rate": 0.17391304347826086,
          "frequency": 0.23,
          "frequency_final": 0,
          "log_estimated_growth_rate": -0.7508281231724088,
          "log_observed_growth_rate": -2.3636119798921444,
          "observed_growth_rate": 0,
          "projected_frequency": 0.04,
          "timepoint": "2012-10-01T00:00:00",
          "year": 2012
         },
         {
          "clade_membership": "6c1138e",
          "estimated_growth_rate": 1.7307692307692308,
          "frequency": 0.52,
          "frequency_final": 0.99,
          "log_estimated_growth_rate": 0.23788706767953852,
          "log_observed_growth_rate": 0.27923593118575085,
          "observed_growth_rate": 1.9038461538461537,
          "projected_frequency": 0.9,
          "timepoint": "2012-10-01T00:00:00",
          "year": 2012
         },
         {
          "clade_membership": "8aaed0b",
          "estimated_growth_rate": 1.6981132075471699,
          "frequency": 0.53,
          "frequency_final": 0.99,
          "log_estimated_growth_rate": 0.22963026989759389,
          "log_observed_growth_rate": 0.27097913340380625,
          "observed_growth_rate": 1.8679245283018866,
          "projected_frequency": 0.9,
          "timepoint": "2012-10-01T00:00:00",
          "year": 2012
         },
         {
          "clade_membership": "a08d8f5",
          "estimated_growth_rate": 0.17391304347826086,
          "frequency": 0.23,
          "frequency_final": 0,
          "log_estimated_growth_rate": -0.7508281231724088,
          "log_observed_growth_rate": -2.3636119798921444,
          "observed_growth_rate": 0,
          "projected_frequency": 0.04,
          "timepoint": "2012-10-01T00:00:00",
          "year": 2012
         },
         {
          "clade_membership": "a229f16",
          "estimated_growth_rate": 2.5151515151515147,
          "frequency": 0.33,
          "frequency_final": 0.99,
          "log_estimated_growth_rate": 0.3997730300083922,
          "log_observed_growth_rate": 0.47624566070955654,
          "observed_growth_rate": 3,
          "projected_frequency": 0.83,
          "timepoint": "2012-10-01T00:00:00",
          "year": 2012
         },
         {
          "clade_membership": "bfceca0",
          "estimated_growth_rate": 1.4029850746268655,
          "frequency": 0.67,
          "frequency_final": 1,
          "log_estimated_growth_rate": 0.14686710325826477,
          "log_observed_growth_rate": 0.17371155731032648,
          "observed_growth_rate": 1.4925373134328357,
          "projected_frequency": 0.94,
          "timepoint": "2012-10-01T00:00:00",
          "year": 2012
         },
         {
          "clade_membership": "c139e7c",
          "estimated_growth_rate": 1.4029850746268655,
          "frequency": 0.67,
          "frequency_final": 1,
          "log_estimated_growth_rate": 0.14686710325826477,
          "log_observed_growth_rate": 0.17371155731032648,
          "observed_growth_rate": 1.4925373134328357,
          "projected_frequency": 0.94,
          "timepoint": "2012-10-01T00:00:00",
          "year": 2012
         },
         {
          "clade_membership": "ce8636c",
          "estimated_growth_rate": 1.6981132075471699,
          "frequency": 0.53,
          "frequency_final": 0.99,
          "log_estimated_growth_rate": 0.22963026989759389,
          "log_observed_growth_rate": 0.27097913340380625,
          "observed_growth_rate": 1.8679245283018866,
          "projected_frequency": 0.9,
          "timepoint": "2012-10-01T00:00:00",
          "year": 2012
         },
         {
          "clade_membership": "dbdf9a1",
          "estimated_growth_rate": 0.16666666666666666,
          "frequency": 0.18,
          "frequency_final": 0,
          "log_estimated_growth_rate": -0.7663168810349118,
          "log_observed_growth_rate": -2.2576785748691846,
          "observed_growth_rate": 0,
          "projected_frequency": 0.03,
          "timepoint": "2012-10-01T00:00:00",
          "year": 2012
         },
         {
          "clade_membership": "e56a121",
          "estimated_growth_rate": 0.17391304347826086,
          "frequency": 0.23,
          "frequency_final": 0,
          "log_estimated_growth_rate": -0.7508281231724088,
          "log_observed_growth_rate": -2.3636119798921444,
          "observed_growth_rate": 0,
          "projected_frequency": 0.04,
          "timepoint": "2012-10-01T00:00:00",
          "year": 2012
         },
         {
          "clade_membership": "f2ec31a",
          "estimated_growth_rate": 1.7450980392156863,
          "frequency": 0.51,
          "frequency_final": 0.99,
          "log_estimated_growth_rate": 0.24145680390216204,
          "log_observed_growth_rate": 0.2876527543505626,
          "observed_growth_rate": 1.9411764705882353,
          "projected_frequency": 0.89,
          "timepoint": "2012-10-01T00:00:00",
          "year": 2012
         },
         {
          "clade_membership": "f8b8996",
          "estimated_growth_rate": 1.263157894736842,
          "frequency": 0.76,
          "frequency_final": 1,
          "log_estimated_growth_rate": 0.10133873089797252,
          "log_observed_growth_rate": 0.1190494207087458,
          "observed_growth_rate": 1.3157894736842106,
          "projected_frequency": 0.96,
          "timepoint": "2012-10-01T00:00:00",
          "year": 2012
         },
         {
          "clade_membership": "0165eeb",
          "estimated_growth_rate": 0.34782608695652173,
          "frequency": 0.23,
          "frequency_final": 0.25,
          "log_estimated_growth_rate": -0.45512696101349454,
          "log_observed_growth_rate": 0.03606174158889381,
          "observed_growth_rate": 1.0869565217391304,
          "projected_frequency": 0.08,
          "timepoint": "2013-04-01T00:00:00",
          "year": 2013
         },
         {
          "clade_membership": "1a16e36",
          "estimated_growth_rate": 1.888888888888889,
          "frequency": 0.18,
          "frequency_final": 0.49,
          "log_estimated_growth_rate": 0.27507580412331323,
          "log_observed_growth_rate": 0.43340291725378394,
          "observed_growth_rate": 2.7222222222222223,
          "projected_frequency": 0.34,
          "timepoint": "2013-04-01T00:00:00",
          "year": 2013
         },
         {
          "clade_membership": "38da78c",
          "estimated_growth_rate": 1.064516129032258,
          "frequency": 0.93,
          "frequency_final": 1,
          "log_estimated_growth_rate": 0.027123973503932638,
          "log_observed_growth_rate": 0.03148439649797597,
          "observed_growth_rate": 1.075268817204301,
          "projected_frequency": 0.99,
          "timepoint": "2013-04-01T00:00:00",
          "year": 2013
         },
         {
          "clade_membership": "66a66dd",
          "estimated_growth_rate": 2.0999999999999996,
          "frequency": 0.4,
          "frequency_final": 0.75,
          "log_estimated_growth_rate": 0.3216516231777298,
          "log_observed_growth_rate": 0.27249556438398603,
          "observed_growth_rate": 1.875,
          "projected_frequency": 0.84,
          "timepoint": "2013-04-01T00:00:00",
          "year": 2013
         },
         {
          "clade_membership": "6c1138e",
          "estimated_growth_rate": 1.076086956521739,
          "frequency": 0.92,
          "frequency_final": 1,
          "log_estimated_growth_rate": 0.03181402428842642,
          "log_observed_growth_rate": 0.03617444728246964,
          "observed_growth_rate": 1.0869565217391304,
          "projected_frequency": 0.99,
          "timepoint": "2013-04-01T00:00:00",
          "year": 2013
         },
         {
          "clade_membership": "8aaed0b",
          "estimated_growth_rate": 1.064516129032258,
          "frequency": 0.93,
          "frequency_final": 1,
          "log_estimated_growth_rate": 0.027123973503932638,
          "log_observed_growth_rate": 0.03148439649797597,
          "observed_growth_rate": 1.075268817204301,
          "projected_frequency": 0.99,
          "timepoint": "2013-04-01T00:00:00",
          "year": 2013
         },
         {
          "clade_membership": "8d4351f",
          "estimated_growth_rate": 2.125,
          "frequency": 0.4,
          "frequency_final": 0.75,
          "log_estimated_growth_rate": 0.3267851874644055,
          "log_observed_growth_rate": 0.27249556438398603,
          "observed_growth_rate": 1.875,
          "projected_frequency": 0.85,
          "timepoint": "2013-04-01T00:00:00",
          "year": 2013
         },
         {
          "clade_membership": "a229f16",
          "estimated_growth_rate": 1.0999999999999999,
          "frequency": 0.9,
          "frequency_final": 1,
          "log_estimated_growth_rate": 0.04134886350621237,
          "log_observed_growth_rate": 0.045709286500255644,
          "observed_growth_rate": 1.1111111111111112,
          "projected_frequency": 0.99,
          "timepoint": "2013-04-01T00:00:00",
          "year": 2013
         },
         {
          "clade_membership": "bfceca0",
          "estimated_growth_rate": 1.0416666666666667,
          "frequency": 0.96,
          "frequency_final": 1,
          "log_estimated_growth_rate": 0.01771068981077321,
          "log_observed_growth_rate": 0.01771068981077321,
          "observed_growth_rate": 1.0416666666666667,
          "projected_frequency": 1,
          "timepoint": "2013-04-01T00:00:00",
          "year": 2013
         },
         {
          "clade_membership": "c139e7c",
          "estimated_growth_rate": 1.0416666666666667,
          "frequency": 0.96,
          "frequency_final": 1,
          "log_estimated_growth_rate": 0.01771068981077321,
          "log_observed_growth_rate": 0.01771068981077321,
          "observed_growth_rate": 1.0416666666666667,
          "projected_frequency": 1,
          "timepoint": "2013-04-01T00:00:00",
          "year": 2013
         },
         {
          "clade_membership": "ce8636c",
          "estimated_growth_rate": 1.064516129032258,
          "frequency": 0.93,
          "frequency_final": 1,
          "log_estimated_growth_rate": 0.027123973503932638,
          "log_observed_growth_rate": 0.03148439649797597,
          "observed_growth_rate": 1.075268817204301,
          "projected_frequency": 0.99,
          "timepoint": "2013-04-01T00:00:00",
          "year": 2013
         },
         {
          "clade_membership": "f2ec31a",
          "estimated_growth_rate": 1.0879120879120878,
          "frequency": 0.91,
          "frequency_final": 1,
          "log_estimated_growth_rate": 0.03655527751227709,
          "log_observed_growth_rate": 0.04091570050632029,
          "observed_growth_rate": 1.0989010989010988,
          "projected_frequency": 0.99,
          "timepoint": "2013-04-01T00:00:00",
          "year": 2013
         },
         {
          "clade_membership": "f8b8996",
          "estimated_growth_rate": 1.0309278350515465,
          "frequency": 0.97,
          "frequency_final": 1,
          "log_estimated_growth_rate": 0.013214847571313755,
          "log_observed_growth_rate": 0.013214847571313755,
          "observed_growth_rate": 1.0309278350515465,
          "projected_frequency": 1,
          "timepoint": "2013-04-01T00:00:00",
          "year": 2013
         },
         {
          "clade_membership": "0165eeb",
          "estimated_growth_rate": 0.48148148148148145,
          "frequency": 0.27,
          "frequency_final": 0.24,
          "log_estimated_growth_rate": -0.31569799521864145,
          "log_observed_growth_rate": -0.05095224829953737,
          "observed_growth_rate": 0.8888888888888888,
          "projected_frequency": 0.13,
          "timepoint": "2013-10-01T00:00:00",
          "year": 2013
         },
         {
          "clade_membership": "1a16e36",
          "estimated_growth_rate": 1.9,
          "frequency": 0.4,
          "frequency_final": 0.29,
          "log_estimated_growth_rate": 0.2782402841503905,
          "log_observed_growth_rate": -0.13925138363427508,
          "observed_growth_rate": 0.7249999999999999,
          "projected_frequency": 0.76,
          "timepoint": "2013-10-01T00:00:00",
          "year": 2013
         },
         {
          "clade_membership": "38da78c",
          "estimated_growth_rate": 1.0101010101010102,
          "frequency": 0.99,
          "frequency_final": 1,
          "log_estimated_growth_rate": 0.004360422994043273,
          "log_observed_growth_rate": 0.004360422994043273,
          "observed_growth_rate": 1.0101010101010102,
          "projected_frequency": 1,
          "timepoint": "2013-10-01T00:00:00",
          "year": 2013
         },
         {
          "clade_membership": "66a66dd",
          "estimated_growth_rate": 1.2428571428571429,
          "frequency": 0.7,
          "frequency_final": 0.76,
          "log_estimated_growth_rate": 0.09430013704100454,
          "log_observed_growth_rate": 0.035666638803914234,
          "observed_growth_rate": 1.0857142857142859,
          "projected_frequency": 0.87,
          "timepoint": "2013-10-01T00:00:00",
          "year": 2013
         },
         {
          "clade_membership": "6c1138e",
          "estimated_growth_rate": 1.0101010101010102,
          "frequency": 0.99,
          "frequency_final": 1,
          "log_estimated_growth_rate": 0.004360422994043273,
          "log_observed_growth_rate": 0.004360422994043273,
          "observed_growth_rate": 1.0101010101010102,
          "projected_frequency": 1,
          "timepoint": "2013-10-01T00:00:00",
          "year": 2013
         },
         {
          "clade_membership": "8aaed0b",
          "estimated_growth_rate": 1.0101010101010102,
          "frequency": 0.99,
          "frequency_final": 1,
          "log_estimated_growth_rate": 0.004360422994043273,
          "log_observed_growth_rate": 0.004360422994043273,
          "observed_growth_rate": 1.0101010101010102,
          "projected_frequency": 1,
          "timepoint": "2013-10-01T00:00:00",
          "year": 2013
         },
         {
          "clade_membership": "8d4351f",
          "estimated_growth_rate": 1.2428571428571429,
          "frequency": 0.7,
          "frequency_final": 0.76,
          "log_estimated_growth_rate": 0.09430013704100454,
          "log_observed_growth_rate": 0.035666638803914234,
          "observed_growth_rate": 1.0857142857142859,
          "projected_frequency": 0.87,
          "timepoint": "2013-10-01T00:00:00",
          "year": 2013
         },
         {
          "clade_membership": "a229f16",
          "estimated_growth_rate": 1.0101010101010102,
          "frequency": 0.99,
          "frequency_final": 1,
          "log_estimated_growth_rate": 0.004360422994043273,
          "log_observed_growth_rate": 0.004360422994043273,
          "observed_growth_rate": 1.0101010101010102,
          "projected_frequency": 1,
          "timepoint": "2013-10-01T00:00:00",
          "year": 2013
         },
         {
          "clade_membership": "ce8636c",
          "estimated_growth_rate": 1.0101010101010102,
          "frequency": 0.99,
          "frequency_final": 1,
          "log_estimated_growth_rate": 0.004360422994043273,
          "log_observed_growth_rate": 0.004360422994043273,
          "observed_growth_rate": 1.0101010101010102,
          "projected_frequency": 1,
          "timepoint": "2013-10-01T00:00:00",
          "year": 2013
         },
         {
          "clade_membership": "f2ec31a",
          "estimated_growth_rate": 1.0101010101010102,
          "frequency": 0.99,
          "frequency_final": 1,
          "log_estimated_growth_rate": 0.004360422994043273,
          "log_observed_growth_rate": 0.004360422994043273,
          "observed_growth_rate": 1.0101010101010102,
          "projected_frequency": 1,
          "timepoint": "2013-10-01T00:00:00",
          "year": 2013
         },
         {
          "clade_membership": "0165eeb",
          "estimated_growth_rate": 0.24,
          "frequency": 0.25,
          "frequency_final": 0.7,
          "log_estimated_growth_rate": -0.614343886470271,
          "log_observed_growth_rate": 0.4460442964856205,
          "observed_growth_rate": 2.8,
          "projected_frequency": 0.06,
          "timepoint": "2014-04-01T00:00:00",
          "year": 2014
         },
         {
          "clade_membership": "1a16e36",
          "estimated_growth_rate": 0.34693877551020413,
          "frequency": 0.49,
          "frequency_final": 0.13,
          "log_estimated_growth_rate": -0.4580853817308146,
          "log_observed_growth_rate": -0.5738101964672042,
          "observed_growth_rate": 0.2653061224489796,
          "projected_frequency": 0.17,
          "timepoint": "2014-04-01T00:00:00",
          "year": 2014
         },
         {
          "clade_membership": "66a66dd",
          "estimated_growth_rate": 1.2533333333333332,
          "frequency": 0.75,
          "frequency_final": 0.3,
          "log_estimated_growth_rate": 0.09794968642308852,
          "log_observed_growth_rate": -0.397073441410325,
          "observed_growth_rate": 0.39999999999999997,
          "projected_frequency": 0.94,
          "timepoint": "2014-04-01T00:00:00",
          "year": 2014
         },
         {
          "clade_membership": "7a8b37b",
          "estimated_growth_rate": 0.35000000000000003,
          "frequency": 0.2,
          "frequency_final": 0.12,
          "log_estimated_growth_rate": -0.4519377087014136,
          "log_observed_growth_rate": -0.22041068710403885,
          "observed_growth_rate": 0.6,
          "projected_frequency": 0.07,
          "timepoint": "2014-04-01T00:00:00",
          "year": 2014
         },
         {
          "clade_membership": "8d4351f",
          "estimated_growth_rate": 1.2533333333333332,
          "frequency": 0.75,
          "frequency_final": 0.3,
          "log_estimated_growth_rate": 0.09794968642308852,
          "log_observed_growth_rate": -0.397073441410325,
          "observed_growth_rate": 0.39999999999999997,
          "projected_frequency": 0.94,
          "timepoint": "2014-04-01T00:00:00",
          "year": 2014
         },
         {
          "clade_membership": "fb19d40",
          "estimated_growth_rate": 0.375,
          "frequency": 0.16,
          "frequency_final": 0,
          "log_estimated_growth_rate": -0.4214960410210827,
          "log_observed_growth_rate": -2.2068258760318495,
          "observed_growth_rate": 0,
          "projected_frequency": 0.06,
          "timepoint": "2014-04-01T00:00:00",
          "year": 2014
         },
         {
          "clade_membership": "0165eeb",
          "estimated_growth_rate": 2.125,
          "frequency": 0.24,
          "frequency_final": 0.89,
          "log_estimated_growth_rate": 0.32640385755984436,
          "log_observed_growth_rate": 0.5678606614620064,
          "observed_growth_rate": 3.7083333333333335,
          "projected_frequency": 0.51,
          "timepoint": "2014-10-01T00:00:00",
          "year": 2014
         },
         {
          "clade_membership": "1a16e36",
          "estimated_growth_rate": 0.24137931034482762,
          "frequency": 0.29,
          "frequency_final": 0.05,
          "log_estimated_growth_rate": -0.6126346402668319,
          "log_observed_growth_rate": -0.7563228128879709,
          "observed_growth_rate": 0.1724137931034483,
          "projected_frequency": 0.07,
          "timepoint": "2014-10-01T00:00:00",
          "year": 2014
         },
         {
          "clade_membership": "1ba36d2",
          "estimated_growth_rate": 1.0256410256410258,
          "frequency": 0.39,
          "frequency_final": 0.07,
          "log_estimated_growth_rate": 0.010967615224315497,
          "log_observed_growth_rate": -0.7409184086767915,
          "observed_growth_rate": 0.1794871794871795,
          "projected_frequency": 0.4,
          "timepoint": "2014-10-01T00:00:00",
          "year": 2014
         },
         {
          "clade_membership": "1edac85",
          "estimated_growth_rate": 1.0256410256410258,
          "frequency": 0.39,
          "frequency_final": 0.07,
          "log_estimated_growth_rate": 0.010967615224315497,
          "log_observed_growth_rate": -0.7409184086767915,
          "observed_growth_rate": 0.1794871794871795,
          "projected_frequency": 0.4,
          "timepoint": "2014-10-01T00:00:00",
          "year": 2014
         },
         {
          "clade_membership": "66a66dd",
          "estimated_growth_rate": 0.6447368421052632,
          "frequency": 0.76,
          "frequency_final": 0.11,
          "log_estimated_growth_rate": -0.19030316464760438,
          "log_observed_growth_rate": -0.8360616779839154,
          "observed_growth_rate": 0.14473684210526316,
          "projected_frequency": 0.49,
          "timepoint": "2014-10-01T00:00:00",
          "year": 2014
         },
         {
          "clade_membership": "7a8b37b",
          "estimated_growth_rate": 0.25,
          "frequency": 0.24,
          "frequency_final": 0.05,
          "log_estimated_growth_rate": -0.5966872075641013,
          "log_observed_growth_rate": -0.674446866476932,
          "observed_growth_rate": 0.20833333333333334,
          "projected_frequency": 0.06,
          "timepoint": "2014-10-01T00:00:00",
          "year": 2014
         },
         {
          "clade_membership": "80897ab",
          "estimated_growth_rate": 1.0588235294117645,
          "frequency": 0.34,
          "frequency_final": 0.05,
          "log_estimated_growth_rate": 0.02475282291316018,
          "log_observed_growth_rate": -0.8251842028945613,
          "observed_growth_rate": 0.14705882352941177,
          "projected_frequency": 0.36,
          "timepoint": "2014-10-01T00:00:00",
          "year": 2014
         },
         {
          "clade_membership": "8d4351f",
          "estimated_growth_rate": 0.6447368421052632,
          "frequency": 0.76,
          "frequency_final": 0.11,
          "log_estimated_growth_rate": -0.19030316464760438,
          "log_observed_growth_rate": -0.8360616779839154,
          "observed_growth_rate": 0.14473684210526316,
          "projected_frequency": 0.49,
          "timepoint": "2014-10-01T00:00:00",
          "year": 2014
         },
         {
          "clade_membership": "934e1c1",
          "estimated_growth_rate": 2.3181818181818183,
          "frequency": 0.22,
          "frequency_final": 0.89,
          "log_estimated_growth_rate": 0.3640286264496021,
          "log_observed_growth_rate": 0.605485430351764,
          "observed_growth_rate": 4.045454545454546,
          "projected_frequency": 0.51,
          "timepoint": "2014-10-01T00:00:00",
          "year": 2014
         },
         {
          "clade_membership": "c9346ca",
          "estimated_growth_rate": 1.0256410256410258,
          "frequency": 0.39,
          "frequency_final": 0.07,
          "log_estimated_growth_rate": 0.010967615224315497,
          "log_observed_growth_rate": -0.7409184086767915,
          "observed_growth_rate": 0.1794871794871795,
          "projected_frequency": 0.4,
          "timepoint": "2014-10-01T00:00:00",
          "year": 2014
         },
         {
          "clade_membership": "ea08d9e",
          "estimated_growth_rate": 2.3181818181818183,
          "frequency": 0.22,
          "frequency_final": 0.89,
          "log_estimated_growth_rate": 0.3640286264496021,
          "log_observed_growth_rate": 0.605485430351764,
          "observed_growth_rate": 4.045454545454546,
          "projected_frequency": 0.51,
          "timepoint": "2014-10-01T00:00:00",
          "year": 2014
         },
         {
          "clade_membership": "f14fabc",
          "estimated_growth_rate": 2.3181818181818183,
          "frequency": 0.22,
          "frequency_final": 0.89,
          "log_estimated_growth_rate": 0.3640286264496021,
          "log_observed_growth_rate": 0.605485430351764,
          "observed_growth_rate": 4.045454545454546,
          "projected_frequency": 0.51,
          "timepoint": "2014-10-01T00:00:00",
          "year": 2014
         }
        ]
       },
       "encoding": {
        "color": {
         "field": "timepoint",
         "type": "nominal"
        },
        "tooltip": [
         {
          "field": "observed_growth_rate",
          "type": "quantitative"
         },
         {
          "field": "estimated_growth_rate",
          "type": "quantitative"
         },
         {
          "field": "timepoint",
          "type": "nominal"
         },
         {
          "field": "frequency",
          "type": "quantitative"
         },
         {
          "field": "frequency_final",
          "type": "quantitative"
         },
         {
          "field": "projected_frequency",
          "type": "quantitative"
         },
         {
          "field": "clade_membership",
          "type": "nominal"
         }
        ],
        "x": {
         "field": "log_observed_growth_rate",
         "scale": {
          "domain": [
           -2.5638929889859075,
           1.1
          ]
         },
         "type": "quantitative"
        },
        "y": {
         "field": "log_estimated_growth_rate",
         "scale": {
          "domain": [
           -2.5638929889859075,
           1.1
          ]
         },
         "type": "quantitative"
        }
       },
       "height": 400,
       "mark": "circle",
       "selection": {
        "selector003": {
         "bind": "scales",
         "encodings": [
          "x",
          "y"
         ],
         "type": "interval"
        }
       },
       "title": "Forecasts by LBI: Pearson's R = 0.72, MCC = 0.72",
       "width": 400
      },
      "image/png": "[encoded data removed]",
      "text/plain": [
       "<VegaLite 3 object>\n",
       "\n",
       "If you see this message, it means the renderer has not been properly enabled\n",
       "for the frontend that you are using. For more information, see\n",
       "https://altair-viz.github.io/user_guide/troubleshooting.html\n"
      ]
     },
     "execution_count": 266,
     "metadata": {},
     "output_type": "execute_result"
    }
   ],
   "source": [
    "tooltip_attributes = [\"observed_growth_rate:Q\", \"estimated_growth_rate:Q\", \"timepoint:N\", \"frequency:Q\", \"frequency_final:Q\",\n",
    "                      \"projected_frequency:Q\", \"clade_membership:N\"]\n",
    "\n",
    "chart = alt.Chart(complete_clade_frequencies).mark_circle().encode(\n",
    "    alt.X(\"log_observed_growth_rate:Q\", scale=alt.Scale(domain=(log_lower_limit, log_upper_limit))),\n",
    "    alt.Y(\"log_estimated_growth_rate:Q\", scale=alt.Scale(domain=(log_lower_limit, log_upper_limit))),\n",
    "    alt.Color(\"timepoint:N\"),\n",
    "    alt.Tooltip(tooltip_attributes)\n",
    ").properties(\n",
    "    width=400,\n",
    "    height=400,\n",
    "    title=\"Forecasts by LBI: Pearson's R = %.2f, MCC = %.2f\" % (r, mcc)\n",
    ").interactive()\n",
    "\n",
    "#chart.save(\"forecast_log_growth_correlation_natural_lbi.svg\")\n",
    "chart"
   ]
  },
  {
   "cell_type": "code",
   "execution_count": 267,
   "metadata": {},
   "outputs": [
    {
     "data": {
      "text/plain": [
       "-2.5638929889859075"
      ]
     },
     "execution_count": 267,
     "metadata": {},
     "output_type": "execute_result"
    }
   ],
   "source": [
    "log_lower_limit"
   ]
  },
  {
   "cell_type": "code",
   "execution_count": 268,
   "metadata": {},
   "outputs": [
    {
     "data": {
      "text/plain": [
       "-2.4638929889859074"
      ]
     },
     "execution_count": 268,
     "metadata": {},
     "output_type": "execute_result"
    }
   ],
   "source": [
    "complete_clade_frequencies.loc[:, [\"log_observed_growth_rate\", \"log_estimated_growth_rate\"]].min().min()"
   ]
  },
  {
   "cell_type": "code",
   "execution_count": 269,
   "metadata": {},
   "outputs": [],
   "source": [
    "r, p = pearsonr(\n",
    "    complete_clade_frequencies[\"log_observed_growth_rate\"],\n",
    "    complete_clade_frequencies[\"log_estimated_growth_rate\"]\n",
    ")"
   ]
  },
  {
   "cell_type": "code",
   "execution_count": 270,
   "metadata": {},
   "outputs": [
    {
     "data": {
      "text/plain": [
       "0.5956388284880263"
      ]
     },
     "execution_count": 270,
     "metadata": {},
     "output_type": "execute_result"
    }
   ],
   "source": [
    "r"
   ]
  },
  {
   "cell_type": "code",
   "execution_count": 271,
   "metadata": {},
   "outputs": [
    {
     "data": {
      "text/plain": [
       "1.8582955491895612e-21"
      ]
     },
     "execution_count": 271,
     "metadata": {},
     "output_type": "execute_result"
    }
   ],
   "source": [
    "p"
   ]
  },
  {
   "cell_type": "code",
   "execution_count": 272,
   "metadata": {},
   "outputs": [
    {
     "data": {
      "text/plain": [
       "(0.7236046217504225, 3.5627923889199e-35)"
      ]
     },
     "execution_count": 272,
     "metadata": {},
     "output_type": "execute_result"
    }
   ],
   "source": [
    "pearsonr(\n",
    "    complete_clade_frequencies[\"observed_growth_rate\"],\n",
    "    complete_clade_frequencies[\"estimated_growth_rate\"]\n",
    ")"
   ]
  },
  {
   "cell_type": "code",
   "execution_count": 273,
   "metadata": {},
   "outputs": [],
   "source": [
    "complete_clade_frequencies[\"observed_growth\"] = (complete_clade_frequencies[\"observed_growth_rate\"] > 1)"
   ]
  },
  {
   "cell_type": "code",
   "execution_count": 274,
   "metadata": {},
   "outputs": [],
   "source": [
    "complete_clade_frequencies[\"estimated_growth\"] = (complete_clade_frequencies[\"estimated_growth_rate\"] > 1)"
   ]
  },
  {
   "cell_type": "code",
   "execution_count": 275,
   "metadata": {},
   "outputs": [],
   "source": [
    "complete_clade_frequencies[\"accurate_growth\"] = (\n",
    "    (complete_clade_frequencies[\"observed_growth\"]) == (complete_clade_frequencies[\"estimated_growth\"])\n",
    ")"
   ]
  },
  {
   "cell_type": "code",
   "execution_count": 276,
   "metadata": {},
   "outputs": [
    {
     "data": {
      "text/plain": [
       "{'tp': 116, 'tn': 55, 'fp': 18, 'fn': 7}"
      ]
     },
     "execution_count": 276,
     "metadata": {},
     "output_type": "execute_result"
    }
   ],
   "source": [
    "confusion_matrix"
   ]
  },
  {
   "cell_type": "code",
   "execution_count": 277,
   "metadata": {},
   "outputs": [
    {
     "data": {
      "text/html": [
       "<div>\n",
       "<style scoped>\n",
       "    .dataframe tbody tr th:only-of-type {\n",
       "        vertical-align: middle;\n",
       "    }\n",
       "\n",
       "    .dataframe tbody tr th {\n",
       "        vertical-align: top;\n",
       "    }\n",
       "\n",
       "    .dataframe thead th {\n",
       "        text-align: right;\n",
       "    }\n",
       "</style>\n",
       "<table border=\"1\" class=\"dataframe\">\n",
       "  <thead>\n",
       "    <tr style=\"text-align: right;\">\n",
       "      <th></th>\n",
       "      <th>timepoint</th>\n",
       "      <th>clade_membership</th>\n",
       "      <th>frequency</th>\n",
       "      <th>frequency_final</th>\n",
       "      <th>projected_frequency</th>\n",
       "      <th>observed_growth_rate</th>\n",
       "      <th>estimated_growth_rate</th>\n",
       "      <th>year</th>\n",
       "      <th>log_observed_growth_rate</th>\n",
       "      <th>log_estimated_growth_rate</th>\n",
       "      <th>observed_growth</th>\n",
       "      <th>estimated_growth</th>\n",
       "      <th>accurate_growth</th>\n",
       "    </tr>\n",
       "  </thead>\n",
       "  <tbody>\n",
       "    <tr>\n",
       "      <th>4</th>\n",
       "      <td>2003-10-01</td>\n",
       "      <td>1c5e069</td>\n",
       "      <td>0.95</td>\n",
       "      <td>1.00</td>\n",
       "      <td>0.99</td>\n",
       "      <td>1.052632</td>\n",
       "      <td>1.042105</td>\n",
       "      <td>2003</td>\n",
       "      <td>0.022254</td>\n",
       "      <td>0.017893</td>\n",
       "      <td>True</td>\n",
       "      <td>True</td>\n",
       "      <td>True</td>\n",
       "    </tr>\n",
       "    <tr>\n",
       "      <th>7</th>\n",
       "      <td>2003-10-01</td>\n",
       "      <td>4952842</td>\n",
       "      <td>0.90</td>\n",
       "      <td>0.97</td>\n",
       "      <td>0.98</td>\n",
       "      <td>1.077778</td>\n",
       "      <td>1.088889</td>\n",
       "      <td>2003</td>\n",
       "      <td>0.032494</td>\n",
       "      <td>0.036944</td>\n",
       "      <td>True</td>\n",
       "      <td>True</td>\n",
       "      <td>True</td>\n",
       "    </tr>\n",
       "    <tr>\n",
       "      <th>8</th>\n",
       "      <td>2003-10-01</td>\n",
       "      <td>4e35443</td>\n",
       "      <td>0.95</td>\n",
       "      <td>1.00</td>\n",
       "      <td>0.99</td>\n",
       "      <td>1.052632</td>\n",
       "      <td>1.042105</td>\n",
       "      <td>2003</td>\n",
       "      <td>0.022254</td>\n",
       "      <td>0.017893</td>\n",
       "      <td>True</td>\n",
       "      <td>True</td>\n",
       "      <td>True</td>\n",
       "    </tr>\n",
       "    <tr>\n",
       "      <th>10</th>\n",
       "      <td>2003-10-01</td>\n",
       "      <td>6335574</td>\n",
       "      <td>0.95</td>\n",
       "      <td>1.00</td>\n",
       "      <td>0.99</td>\n",
       "      <td>1.052632</td>\n",
       "      <td>1.042105</td>\n",
       "      <td>2003</td>\n",
       "      <td>0.022254</td>\n",
       "      <td>0.017893</td>\n",
       "      <td>True</td>\n",
       "      <td>True</td>\n",
       "      <td>True</td>\n",
       "    </tr>\n",
       "    <tr>\n",
       "      <th>11</th>\n",
       "      <td>2003-10-01</td>\n",
       "      <td>8386d16</td>\n",
       "      <td>0.95</td>\n",
       "      <td>1.00</td>\n",
       "      <td>0.99</td>\n",
       "      <td>1.052632</td>\n",
       "      <td>1.042105</td>\n",
       "      <td>2003</td>\n",
       "      <td>0.022254</td>\n",
       "      <td>0.017893</td>\n",
       "      <td>True</td>\n",
       "      <td>True</td>\n",
       "      <td>True</td>\n",
       "    </tr>\n",
       "  </tbody>\n",
       "</table>\n",
       "</div>"
      ],
      "text/plain": [
       "    timepoint clade_membership  frequency  frequency_final  \\\n",
       "4  2003-10-01          1c5e069       0.95             1.00   \n",
       "7  2003-10-01          4952842       0.90             0.97   \n",
       "8  2003-10-01          4e35443       0.95             1.00   \n",
       "10 2003-10-01          6335574       0.95             1.00   \n",
       "11 2003-10-01          8386d16       0.95             1.00   \n",
       "\n",
       "    projected_frequency  observed_growth_rate  estimated_growth_rate  year  \\\n",
       "4                  0.99              1.052632               1.042105  2003   \n",
       "7                  0.98              1.077778               1.088889  2003   \n",
       "8                  0.99              1.052632               1.042105  2003   \n",
       "10                 0.99              1.052632               1.042105  2003   \n",
       "11                 0.99              1.052632               1.042105  2003   \n",
       "\n",
       "    log_observed_growth_rate  log_estimated_growth_rate  observed_growth  \\\n",
       "4                   0.022254                   0.017893             True   \n",
       "7                   0.032494                   0.036944             True   \n",
       "8                   0.022254                   0.017893             True   \n",
       "10                  0.022254                   0.017893             True   \n",
       "11                  0.022254                   0.017893             True   \n",
       "\n",
       "    estimated_growth  accurate_growth  \n",
       "4               True             True  \n",
       "7               True             True  \n",
       "8               True             True  \n",
       "10              True             True  \n",
       "11              True             True  "
      ]
     },
     "execution_count": 277,
     "metadata": {},
     "output_type": "execute_result"
    }
   ],
   "source": [
    "complete_clade_frequencies.head()"
   ]
  },
  {
   "cell_type": "code",
   "execution_count": 278,
   "metadata": {},
   "outputs": [
    {
     "data": {
      "text/plain": [
       "134"
      ]
     },
     "execution_count": 278,
     "metadata": {},
     "output_type": "execute_result"
    }
   ],
   "source": [
    "(complete_clade_frequencies[\"estimated_growth_rate\"] > 1).sum()"
   ]
  },
  {
   "cell_type": "code",
   "execution_count": 279,
   "metadata": {},
   "outputs": [
    {
     "data": {
      "image/png": "[encoded data removed]",
      "text/plain": [
       "<Figure size 1200x1200 with 1 Axes>"
      ]
     },
     "metadata": {},
     "output_type": "display_data"
    }
   ],
   "source": [
    "fig, ax = plt.subplots(1, 1, figsize=(6, 6))\n",
    "ax.plot(\n",
    "    complete_clade_frequencies[\"log_observed_growth_rate\"],\n",
    "    complete_clade_frequencies[\"log_estimated_growth_rate\"],\n",
    "    \"o\",\n",
    "    alpha=0.4\n",
    ")\n",
    "\n",
    "ax.axhline(color=\"#cccccc\", zorder=-5)\n",
    "ax.axvline(color=\"#cccccc\", zorder=-5)\n",
    "\n",
    "if p < 0.001:\n",
    "    p_value = \"$p$ < 0.001\"\n",
    "else:\n",
    "    p_value = \"$p$ = %.3f\" % p\n",
    "\n",
    "ax.text(\n",
    "    0.02,\n",
    "    0.9,\n",
    "    \"Growth accuracy = %.2f\\nDecline accuracy = %.2f\\n$R$ = %.2f, %s\\nN = %s\" % (growth_accuracy, decline_accuracy, r, p_value, complete_clade_frequencies.shape[0]),\n",
    "    fontsize=14,\n",
    "    horizontalalignment=\"left\",\n",
    "    verticalalignment=\"center\",\n",
    "    transform=ax.transAxes\n",
    ")\n",
    "\n",
    "ax.set_xlabel(\"Observed $log_{10}$ growth rate\")\n",
    "ax.set_ylabel(\"Estimated $log_{10}$ growth rate\")\n",
    "\n",
    "ticks = np.arange(-6, 4, 1)\n",
    "ax.set_xticks(ticks)\n",
    "ax.set_yticks(ticks)\n",
    "\n",
    "ax.set_xlim(log_lower_limit, log_upper_limit)\n",
    "ax.set_ylim(log_lower_limit, log_upper_limit)\n",
    "ax.set_aspect(\"equal\")\n",
    "\n",
    "plt.tight_layout()\n",
    "plt.savefig(\"../manuscript/figures/validation-of-best-model-for-natural-populations-by-clade-growth.png\")"
   ]
  },
  {
   "cell_type": "code",
   "execution_count": 280,
   "metadata": {},
   "outputs": [],
   "source": [
    "false_positives = (complete_clade_frequencies[\"log_observed_growth_rate\"] < 0) & (complete_clade_frequencies[\"log_estimated_growth_rate\"] > 0)"
   ]
  },
  {
   "cell_type": "code",
   "execution_count": 281,
   "metadata": {},
   "outputs": [
    {
     "data": {
      "text/plain": [
       "{'tp': 116, 'tn': 55, 'fp': 18, 'fn': 7}"
      ]
     },
     "execution_count": 281,
     "metadata": {},
     "output_type": "execute_result"
    }
   ],
   "source": [
    "confusion_matrix"
   ]
  },
  {
   "cell_type": "code",
   "execution_count": 282,
   "metadata": {},
   "outputs": [
    {
     "data": {
      "text/html": [
       "<div>\n",
       "<style scoped>\n",
       "    .dataframe tbody tr th:only-of-type {\n",
       "        vertical-align: middle;\n",
       "    }\n",
       "\n",
       "    .dataframe tbody tr th {\n",
       "        vertical-align: top;\n",
       "    }\n",
       "\n",
       "    .dataframe thead th {\n",
       "        text-align: right;\n",
       "    }\n",
       "</style>\n",
       "<table border=\"1\" class=\"dataframe\">\n",
       "  <thead>\n",
       "    <tr style=\"text-align: right;\">\n",
       "      <th></th>\n",
       "      <th>timepoint</th>\n",
       "      <th>clade_membership</th>\n",
       "      <th>frequency</th>\n",
       "      <th>frequency_final</th>\n",
       "      <th>projected_frequency</th>\n",
       "      <th>observed_growth_rate</th>\n",
       "      <th>estimated_growth_rate</th>\n",
       "      <th>year</th>\n",
       "      <th>log_observed_growth_rate</th>\n",
       "      <th>log_estimated_growth_rate</th>\n",
       "      <th>observed_growth</th>\n",
       "      <th>estimated_growth</th>\n",
       "      <th>accurate_growth</th>\n",
       "    </tr>\n",
       "  </thead>\n",
       "  <tbody>\n",
       "    <tr>\n",
       "      <th>557</th>\n",
       "      <td>2010-04-01</td>\n",
       "      <td>7fba9ff</td>\n",
       "      <td>0.26</td>\n",
       "      <td>0.13</td>\n",
       "      <td>0.39</td>\n",
       "      <td>0.500000</td>\n",
       "      <td>1.500000</td>\n",
       "      <td>2010</td>\n",
       "      <td>-0.299369</td>\n",
       "      <td>0.175536</td>\n",
       "      <td>False</td>\n",
       "      <td>True</td>\n",
       "      <td>False</td>\n",
       "    </tr>\n",
       "    <tr>\n",
       "      <th>532</th>\n",
       "      <td>2009-10-01</td>\n",
       "      <td>e62a2e8</td>\n",
       "      <td>0.31</td>\n",
       "      <td>0.01</td>\n",
       "      <td>0.35</td>\n",
       "      <td>0.032258</td>\n",
       "      <td>1.129032</td>\n",
       "      <td>2009</td>\n",
       "      <td>-1.451368</td>\n",
       "      <td>0.052547</td>\n",
       "      <td>False</td>\n",
       "      <td>True</td>\n",
       "      <td>False</td>\n",
       "    </tr>\n",
       "    <tr>\n",
       "      <th>1068</th>\n",
       "      <td>2014-10-01</td>\n",
       "      <td>80897ab</td>\n",
       "      <td>0.34</td>\n",
       "      <td>0.05</td>\n",
       "      <td>0.36</td>\n",
       "      <td>0.147059</td>\n",
       "      <td>1.058824</td>\n",
       "      <td>2014</td>\n",
       "      <td>-0.825184</td>\n",
       "      <td>0.024753</td>\n",
       "      <td>False</td>\n",
       "      <td>True</td>\n",
       "      <td>False</td>\n",
       "    </tr>\n",
       "    <tr>\n",
       "      <th>1092</th>\n",
       "      <td>2014-10-01</td>\n",
       "      <td>c9346ca</td>\n",
       "      <td>0.39</td>\n",
       "      <td>0.07</td>\n",
       "      <td>0.40</td>\n",
       "      <td>0.179487</td>\n",
       "      <td>1.025641</td>\n",
       "      <td>2014</td>\n",
       "      <td>-0.740918</td>\n",
       "      <td>0.010968</td>\n",
       "      <td>False</td>\n",
       "      <td>True</td>\n",
       "      <td>False</td>\n",
       "    </tr>\n",
       "    <tr>\n",
       "      <th>1050</th>\n",
       "      <td>2014-10-01</td>\n",
       "      <td>1edac85</td>\n",
       "      <td>0.39</td>\n",
       "      <td>0.07</td>\n",
       "      <td>0.40</td>\n",
       "      <td>0.179487</td>\n",
       "      <td>1.025641</td>\n",
       "      <td>2014</td>\n",
       "      <td>-0.740918</td>\n",
       "      <td>0.010968</td>\n",
       "      <td>False</td>\n",
       "      <td>True</td>\n",
       "      <td>False</td>\n",
       "    </tr>\n",
       "    <tr>\n",
       "      <th>1048</th>\n",
       "      <td>2014-10-01</td>\n",
       "      <td>1ba36d2</td>\n",
       "      <td>0.39</td>\n",
       "      <td>0.07</td>\n",
       "      <td>0.40</td>\n",
       "      <td>0.179487</td>\n",
       "      <td>1.025641</td>\n",
       "      <td>2014</td>\n",
       "      <td>-0.740918</td>\n",
       "      <td>0.010968</td>\n",
       "      <td>False</td>\n",
       "      <td>True</td>\n",
       "      <td>False</td>\n",
       "    </tr>\n",
       "    <tr>\n",
       "      <th>928</th>\n",
       "      <td>2013-10-01</td>\n",
       "      <td>1a16e36</td>\n",
       "      <td>0.40</td>\n",
       "      <td>0.29</td>\n",
       "      <td>0.76</td>\n",
       "      <td>0.725000</td>\n",
       "      <td>1.900000</td>\n",
       "      <td>2013</td>\n",
       "      <td>-0.139251</td>\n",
       "      <td>0.278240</td>\n",
       "      <td>False</td>\n",
       "      <td>True</td>\n",
       "      <td>False</td>\n",
       "    </tr>\n",
       "    <tr>\n",
       "      <th>587</th>\n",
       "      <td>2010-10-01</td>\n",
       "      <td>026d21f</td>\n",
       "      <td>0.49</td>\n",
       "      <td>0.36</td>\n",
       "      <td>0.77</td>\n",
       "      <td>0.734694</td>\n",
       "      <td>1.571429</td>\n",
       "      <td>2010</td>\n",
       "      <td>-0.133574</td>\n",
       "      <td>0.195973</td>\n",
       "      <td>False</td>\n",
       "      <td>True</td>\n",
       "      <td>False</td>\n",
       "    </tr>\n",
       "    <tr>\n",
       "      <th>602</th>\n",
       "      <td>2010-10-01</td>\n",
       "      <td>4786bbf</td>\n",
       "      <td>0.49</td>\n",
       "      <td>0.36</td>\n",
       "      <td>0.77</td>\n",
       "      <td>0.734694</td>\n",
       "      <td>1.571429</td>\n",
       "      <td>2010</td>\n",
       "      <td>-0.133574</td>\n",
       "      <td>0.195973</td>\n",
       "      <td>False</td>\n",
       "      <td>True</td>\n",
       "      <td>False</td>\n",
       "    </tr>\n",
       "    <tr>\n",
       "      <th>622</th>\n",
       "      <td>2010-10-01</td>\n",
       "      <td>a08d8f5</td>\n",
       "      <td>0.49</td>\n",
       "      <td>0.36</td>\n",
       "      <td>0.77</td>\n",
       "      <td>0.734694</td>\n",
       "      <td>1.571429</td>\n",
       "      <td>2010</td>\n",
       "      <td>-0.133574</td>\n",
       "      <td>0.195973</td>\n",
       "      <td>False</td>\n",
       "      <td>True</td>\n",
       "      <td>False</td>\n",
       "    </tr>\n",
       "    <tr>\n",
       "      <th>635</th>\n",
       "      <td>2010-10-01</td>\n",
       "      <td>e56a121</td>\n",
       "      <td>0.49</td>\n",
       "      <td>0.36</td>\n",
       "      <td>0.77</td>\n",
       "      <td>0.734694</td>\n",
       "      <td>1.571429</td>\n",
       "      <td>2010</td>\n",
       "      <td>-0.133574</td>\n",
       "      <td>0.195973</td>\n",
       "      <td>False</td>\n",
       "      <td>True</td>\n",
       "      <td>False</td>\n",
       "    </tr>\n",
       "    <tr>\n",
       "      <th>691</th>\n",
       "      <td>2011-04-01</td>\n",
       "      <td>e56a121</td>\n",
       "      <td>0.50</td>\n",
       "      <td>0.14</td>\n",
       "      <td>0.81</td>\n",
       "      <td>0.280000</td>\n",
       "      <td>1.620000</td>\n",
       "      <td>2011</td>\n",
       "      <td>-0.550619</td>\n",
       "      <td>0.209183</td>\n",
       "      <td>False</td>\n",
       "      <td>True</td>\n",
       "      <td>False</td>\n",
       "    </tr>\n",
       "    <tr>\n",
       "      <th>658</th>\n",
       "      <td>2011-04-01</td>\n",
       "      <td>4786bbf</td>\n",
       "      <td>0.51</td>\n",
       "      <td>0.14</td>\n",
       "      <td>0.81</td>\n",
       "      <td>0.274510</td>\n",
       "      <td>1.588235</td>\n",
       "      <td>2011</td>\n",
       "      <td>-0.559202</td>\n",
       "      <td>0.200600</td>\n",
       "      <td>False</td>\n",
       "      <td>True</td>\n",
       "      <td>False</td>\n",
       "    </tr>\n",
       "    <tr>\n",
       "      <th>677</th>\n",
       "      <td>2011-04-01</td>\n",
       "      <td>a08d8f5</td>\n",
       "      <td>0.51</td>\n",
       "      <td>0.14</td>\n",
       "      <td>0.81</td>\n",
       "      <td>0.274510</td>\n",
       "      <td>1.588235</td>\n",
       "      <td>2011</td>\n",
       "      <td>-0.559202</td>\n",
       "      <td>0.200600</td>\n",
       "      <td>False</td>\n",
       "      <td>True</td>\n",
       "      <td>False</td>\n",
       "    </tr>\n",
       "    <tr>\n",
       "      <th>640</th>\n",
       "      <td>2011-04-01</td>\n",
       "      <td>026d21f</td>\n",
       "      <td>0.51</td>\n",
       "      <td>0.14</td>\n",
       "      <td>0.81</td>\n",
       "      <td>0.274510</td>\n",
       "      <td>1.588235</td>\n",
       "      <td>2011</td>\n",
       "      <td>-0.559202</td>\n",
       "      <td>0.200600</td>\n",
       "      <td>False</td>\n",
       "      <td>True</td>\n",
       "      <td>False</td>\n",
       "    </tr>\n",
       "    <tr>\n",
       "      <th>15</th>\n",
       "      <td>2003-10-01</td>\n",
       "      <td>962ced9</td>\n",
       "      <td>0.57</td>\n",
       "      <td>0.02</td>\n",
       "      <td>0.89</td>\n",
       "      <td>0.035088</td>\n",
       "      <td>1.561404</td>\n",
       "      <td>2003</td>\n",
       "      <td>-1.434417</td>\n",
       "      <td>0.193242</td>\n",
       "      <td>False</td>\n",
       "      <td>True</td>\n",
       "      <td>False</td>\n",
       "    </tr>\n",
       "    <tr>\n",
       "      <th>1010</th>\n",
       "      <td>2014-04-01</td>\n",
       "      <td>8d4351f</td>\n",
       "      <td>0.75</td>\n",
       "      <td>0.30</td>\n",
       "      <td>0.94</td>\n",
       "      <td>0.400000</td>\n",
       "      <td>1.253333</td>\n",
       "      <td>2014</td>\n",
       "      <td>-0.397073</td>\n",
       "      <td>0.097950</td>\n",
       "      <td>False</td>\n",
       "      <td>True</td>\n",
       "      <td>False</td>\n",
       "    </tr>\n",
       "    <tr>\n",
       "      <th>1002</th>\n",
       "      <td>2014-04-01</td>\n",
       "      <td>66a66dd</td>\n",
       "      <td>0.75</td>\n",
       "      <td>0.30</td>\n",
       "      <td>0.94</td>\n",
       "      <td>0.400000</td>\n",
       "      <td>1.253333</td>\n",
       "      <td>2014</td>\n",
       "      <td>-0.397073</td>\n",
       "      <td>0.097950</td>\n",
       "      <td>False</td>\n",
       "      <td>True</td>\n",
       "      <td>False</td>\n",
       "    </tr>\n",
       "  </tbody>\n",
       "</table>\n",
       "</div>"
      ],
      "text/plain": [
       "      timepoint clade_membership  frequency  frequency_final  \\\n",
       "557  2010-04-01          7fba9ff       0.26             0.13   \n",
       "532  2009-10-01          e62a2e8       0.31             0.01   \n",
       "1068 2014-10-01          80897ab       0.34             0.05   \n",
       "1092 2014-10-01          c9346ca       0.39             0.07   \n",
       "1050 2014-10-01          1edac85       0.39             0.07   \n",
       "1048 2014-10-01          1ba36d2       0.39             0.07   \n",
       "928  2013-10-01          1a16e36       0.40             0.29   \n",
       "587  2010-10-01          026d21f       0.49             0.36   \n",
       "602  2010-10-01          4786bbf       0.49             0.36   \n",
       "622  2010-10-01          a08d8f5       0.49             0.36   \n",
       "635  2010-10-01          e56a121       0.49             0.36   \n",
       "691  2011-04-01          e56a121       0.50             0.14   \n",
       "658  2011-04-01          4786bbf       0.51             0.14   \n",
       "677  2011-04-01          a08d8f5       0.51             0.14   \n",
       "640  2011-04-01          026d21f       0.51             0.14   \n",
       "15   2003-10-01          962ced9       0.57             0.02   \n",
       "1010 2014-04-01          8d4351f       0.75             0.30   \n",
       "1002 2014-04-01          66a66dd       0.75             0.30   \n",
       "\n",
       "      projected_frequency  observed_growth_rate  estimated_growth_rate  year  \\\n",
       "557                  0.39              0.500000               1.500000  2010   \n",
       "532                  0.35              0.032258               1.129032  2009   \n",
       "1068                 0.36              0.147059               1.058824  2014   \n",
       "1092                 0.40              0.179487               1.025641  2014   \n",
       "1050                 0.40              0.179487               1.025641  2014   \n",
       "1048                 0.40              0.179487               1.025641  2014   \n",
       "928                  0.76              0.725000               1.900000  2013   \n",
       "587                  0.77              0.734694               1.571429  2010   \n",
       "602                  0.77              0.734694               1.571429  2010   \n",
       "622                  0.77              0.734694               1.571429  2010   \n",
       "635                  0.77              0.734694               1.571429  2010   \n",
       "691                  0.81              0.280000               1.620000  2011   \n",
       "658                  0.81              0.274510               1.588235  2011   \n",
       "677                  0.81              0.274510               1.588235  2011   \n",
       "640                  0.81              0.274510               1.588235  2011   \n",
       "15                   0.89              0.035088               1.561404  2003   \n",
       "1010                 0.94              0.400000               1.253333  2014   \n",
       "1002                 0.94              0.400000               1.253333  2014   \n",
       "\n",
       "      log_observed_growth_rate  log_estimated_growth_rate  observed_growth  \\\n",
       "557                  -0.299369                   0.175536            False   \n",
       "532                  -1.451368                   0.052547            False   \n",
       "1068                 -0.825184                   0.024753            False   \n",
       "1092                 -0.740918                   0.010968            False   \n",
       "1050                 -0.740918                   0.010968            False   \n",
       "1048                 -0.740918                   0.010968            False   \n",
       "928                  -0.139251                   0.278240            False   \n",
       "587                  -0.133574                   0.195973            False   \n",
       "602                  -0.133574                   0.195973            False   \n",
       "622                  -0.133574                   0.195973            False   \n",
       "635                  -0.133574                   0.195973            False   \n",
       "691                  -0.550619                   0.209183            False   \n",
       "658                  -0.559202                   0.200600            False   \n",
       "677                  -0.559202                   0.200600            False   \n",
       "640                  -0.559202                   0.200600            False   \n",
       "15                   -1.434417                   0.193242            False   \n",
       "1010                 -0.397073                   0.097950            False   \n",
       "1002                 -0.397073                   0.097950            False   \n",
       "\n",
       "      estimated_growth  accurate_growth  \n",
       "557               True            False  \n",
       "532               True            False  \n",
       "1068              True            False  \n",
       "1092              True            False  \n",
       "1050              True            False  \n",
       "1048              True            False  \n",
       "928               True            False  \n",
       "587               True            False  \n",
       "602               True            False  \n",
       "622               True            False  \n",
       "635               True            False  \n",
       "691               True            False  \n",
       "658               True            False  \n",
       "677               True            False  \n",
       "640               True            False  \n",
       "15                True            False  \n",
       "1010              True            False  \n",
       "1002              True            False  "
      ]
     },
     "execution_count": 282,
     "metadata": {},
     "output_type": "execute_result"
    }
   ],
   "source": [
    "complete_clade_frequencies[false_positives].sort_values(\"frequency\")"
   ]
  },
  {
   "cell_type": "markdown",
   "metadata": {},
   "source": [
    "## Estimated and observed closest strains per timepoint\n",
    "\n",
    "Create a figure similar to Figure 2D in Neher et al. 2014 showing the minimum estimated distance to the future and minimum observed distance to the future per timepoint."
   ]
  },
  {
   "cell_type": "code",
   "execution_count": 283,
   "metadata": {},
   "outputs": [],
   "source": [
    "sorted_df = full_forecasts.dropna().sort_values(\n",
    "    [\"timepoint\"]\n",
    ").copy()"
   ]
  },
  {
   "cell_type": "code",
   "execution_count": 284,
   "metadata": {},
   "outputs": [],
   "source": [
    "sorted_df[\"timepoint_rank\"] = sorted_df.groupby(\"timepoint\")[\"weighted_distance_to_future\"].rank(pct=True)"
   ]
  },
  {
   "cell_type": "code",
   "execution_count": 285,
   "metadata": {},
   "outputs": [],
   "source": [
    "best_fitness_rank_by_timepoint_df = sorted_df.sort_values(\n",
    "    [\"timepoint\", \"y\"],\n",
    "    ascending=True\n",
    ").groupby(\"timepoint\")[\"timepoint_rank\"].first().reset_index()"
   ]
  },
  {
   "cell_type": "code",
   "execution_count": 286,
   "metadata": {},
   "outputs": [
    {
     "data": {
      "text/html": [
       "<div>\n",
       "<style scoped>\n",
       "    .dataframe tbody tr th:only-of-type {\n",
       "        vertical-align: middle;\n",
       "    }\n",
       "\n",
       "    .dataframe tbody tr th {\n",
       "        vertical-align: top;\n",
       "    }\n",
       "\n",
       "    .dataframe thead th {\n",
       "        text-align: right;\n",
       "    }\n",
       "</style>\n",
       "<table border=\"1\" class=\"dataframe\">\n",
       "  <thead>\n",
       "    <tr style=\"text-align: right;\">\n",
       "      <th></th>\n",
       "      <th>timepoint</th>\n",
       "      <th>timepoint_rank</th>\n",
       "    </tr>\n",
       "  </thead>\n",
       "  <tbody>\n",
       "    <tr>\n",
       "      <th>0</th>\n",
       "      <td>2003-10-01</td>\n",
       "      <td>0.413095</td>\n",
       "    </tr>\n",
       "    <tr>\n",
       "      <th>1</th>\n",
       "      <td>2004-04-01</td>\n",
       "      <td>0.093074</td>\n",
       "    </tr>\n",
       "    <tr>\n",
       "      <th>2</th>\n",
       "      <td>2004-10-01</td>\n",
       "      <td>0.153179</td>\n",
       "    </tr>\n",
       "    <tr>\n",
       "      <th>3</th>\n",
       "      <td>2005-04-01</td>\n",
       "      <td>0.136761</td>\n",
       "    </tr>\n",
       "    <tr>\n",
       "      <th>4</th>\n",
       "      <td>2005-10-01</td>\n",
       "      <td>0.127932</td>\n",
       "    </tr>\n",
       "  </tbody>\n",
       "</table>\n",
       "</div>"
      ],
      "text/plain": [
       "   timepoint  timepoint_rank\n",
       "0 2003-10-01        0.413095\n",
       "1 2004-04-01        0.093074\n",
       "2 2004-10-01        0.153179\n",
       "3 2005-04-01        0.136761\n",
       "4 2005-10-01        0.127932"
      ]
     },
     "execution_count": 286,
     "metadata": {},
     "output_type": "execute_result"
    }
   ],
   "source": [
    "best_fitness_rank_by_timepoint_df.head()"
   ]
  },
  {
   "cell_type": "code",
   "execution_count": 287,
   "metadata": {},
   "outputs": [
    {
     "data": {
      "image/png": "[encoded data removed]",
      "text/plain": [
       "<Figure size 1200x800 with 1 Axes>"
      ]
     },
     "metadata": {},
     "output_type": "display_data"
    }
   ],
   "source": [
    "median_best_rank = best_fitness_rank_by_timepoint_df[\"timepoint_rank\"].median()\n",
    "\n",
    "fig, ax = plt.subplots(1, 1, figsize=(6, 4))\n",
    "ax.hist(best_fitness_rank_by_timepoint_df[\"timepoint_rank\"], bins=np.arange(0, 1.01, 0.05), label=None)\n",
    "ax.axvline(\n",
    "    median_best_rank,\n",
    "    color=\"orange\",\n",
    "    label=\"median = %i%%\" % round(median_best_rank * 100, 0)\n",
    ")\n",
    "ax.set_xticklabels(['{:3.0f}%'.format(x*100) for x in [0, 0.2, 0.4, 0.6, 0.8, 1.0]])\n",
    "ax.set_xlim(0, 1)\n",
    "\n",
    "ax.legend(\n",
    "    frameon=False\n",
    ")\n",
    "ax.set_xlabel(\"Percentile rank by distance\\nfor estimated best strain\")\n",
    "ax.set_ylabel(\"Number of timepoints\")\n",
    "\n",
    "plt.tight_layout()\n",
    "plt.savefig(\"../manuscript/figures/validation-of-best-model-for-natural-populations-by-best-strain.png\")"
   ]
  },
  {
   "cell_type": "markdown",
   "metadata": {},
   "source": [
    "## Merge validation figures into subpanels of one figure"
   ]
  },
  {
   "cell_type": "code",
   "execution_count": 288,
   "metadata": {},
   "outputs": [
    {
     "data": {
      "image/png": "[encoded data removed]",
      "text/plain": [
       "<Figure size 1600x800 with 2 Axes>"
      ]
     },
     "metadata": {},
     "output_type": "display_data"
    }
   ],
   "source": [
    "fig = plt.figure(figsize=(8, 4), facecolor='w')\n",
    "gs = gridspec.GridSpec(1, 2, width_ratios=[1, 1], wspace=0.1)\n",
    "\n",
    "#\n",
    "# Clade growth rate correlations\n",
    "#\n",
    "\n",
    "clade_ax = fig.add_subplot(gs[0])\n",
    "clade_ax.plot(\n",
    "    complete_clade_frequencies[\"log_observed_growth_rate\"],\n",
    "    complete_clade_frequencies[\"log_estimated_growth_rate\"],\n",
    "    \"o\",\n",
    "    alpha=0.4\n",
    ")\n",
    "\n",
    "clade_ax.axhline(color=\"#cccccc\", zorder=-5)\n",
    "clade_ax.axvline(color=\"#cccccc\", zorder=-5)\n",
    "\n",
    "if p < 0.001:\n",
    "    p_value = \"$p$ < 0.001\"\n",
    "else:\n",
    "    p_value = \"$p$ = %.3f\" % p\n",
    "\n",
    "clade_ax.text(\n",
    "    0.02,\n",
    "    0.9,\n",
    "    \"Growth accuracy = %.2f\\nDecline accuracy = %.2f\\n$R$ = %.2f, %s\\nN = %s\" % (growth_accuracy, decline_accuracy, r, p_value, complete_clade_frequencies.shape[0]),\n",
    "    fontsize=10,\n",
    "    horizontalalignment=\"left\",\n",
    "    verticalalignment=\"center\",\n",
    "    transform=clade_ax.transAxes\n",
    ")\n",
    "\n",
    "clade_ax.set_xlabel(\"Observed $log_{10}$ growth rate\")\n",
    "clade_ax.set_ylabel(\"Estimated $log_{10}$ growth rate\")\n",
    "\n",
    "ticks = np.arange(-6, 4, 1)\n",
    "clade_ax.set_xticks(ticks)\n",
    "clade_ax.set_yticks(ticks)\n",
    "\n",
    "clade_ax.set_xlim(log_lower_limit, log_upper_limit)\n",
    "clade_ax.set_ylim(log_lower_limit, log_upper_limit)\n",
    "clade_ax.set_aspect(\"equal\")\n",
    "\n",
    "#\n",
    "# Estimated closest strain to the future ranking\n",
    "#\n",
    "\n",
    "rank_ax = fig.add_subplot(gs[1])\n",
    "\n",
    "median_best_rank = best_fitness_rank_by_timepoint_df[\"timepoint_rank\"].median()\n",
    "\n",
    "rank_ax.hist(best_fitness_rank_by_timepoint_df[\"timepoint_rank\"], bins=np.arange(0, 1.01, 0.05), label=None)\n",
    "rank_ax.axvline(\n",
    "    median_best_rank,\n",
    "    color=\"orange\",\n",
    "    label=\"median = %i%%\" % round(median_best_rank * 100, 0)\n",
    ")\n",
    "rank_ax.set_xticklabels(['{:3.0f}%'.format(x*100) for x in [0, 0.2, 0.4, 0.6, 0.8, 1.0]])\n",
    "rank_ax.set_xlim(0, 1)\n",
    "\n",
    "rank_ax.legend(\n",
    "    frameon=False\n",
    ")\n",
    "rank_ax.set_xlabel(\"Percentile rank by distance\\nfor estimated best strain\")\n",
    "rank_ax.set_ylabel(\"Number of timepoints\")\n",
    "\n",
    "gs.tight_layout(fig)\n",
    "\n",
    "plt.savefig(\"../manuscript/figures/validation-of-best-model-for-natural-populations.png\")"
   ]
  },
  {
   "cell_type": "code",
   "execution_count": 289,
   "metadata": {},
   "outputs": [
    {
     "data": {
      "text/plain": [
       "18"
      ]
     },
     "execution_count": 289,
     "metadata": {},
     "output_type": "execute_result"
    }
   ],
   "source": [
    "(best_fitness_rank_by_timepoint_df[\"timepoint_rank\"] < 0.2).sum()"
   ]
  },
  {
   "cell_type": "code",
   "execution_count": 290,
   "metadata": {},
   "outputs": [
    {
     "data": {
      "text/plain": [
       "(23, 2)"
      ]
     },
     "execution_count": 290,
     "metadata": {},
     "output_type": "execute_result"
    }
   ],
   "source": [
    "best_fitness_rank_by_timepoint_df.shape"
   ]
  },
  {
   "cell_type": "code",
   "execution_count": 291,
   "metadata": {},
   "outputs": [
    {
     "data": {
      "text/plain": [
       "0.782608695652174"
      ]
     },
     "execution_count": 291,
     "metadata": {},
     "output_type": "execute_result"
    }
   ],
   "source": [
    "(best_fitness_rank_by_timepoint_df[\"timepoint_rank\"] <= 0.2).sum() / float(best_fitness_rank_by_timepoint_df.shape[0])"
   ]
  },
  {
   "cell_type": "markdown",
   "metadata": {},
   "source": [
    "## Inspect uncertainty in forecast accuracy\n",
    "\n",
    "Use observed forecasting errors to inspect the accuracy of one-year lookaheads based on the initial frequency of each clade."
   ]
  },
  {
   "cell_type": "code",
   "execution_count": 292,
   "metadata": {},
   "outputs": [
    {
     "data": {
      "text/plain": [
       "(209, 13)"
      ]
     },
     "execution_count": 292,
     "metadata": {},
     "output_type": "execute_result"
    }
   ],
   "source": [
    "complete_clade_frequencies.shape"
   ]
  },
  {
   "cell_type": "code",
   "execution_count": 293,
   "metadata": {},
   "outputs": [],
   "source": [
    "complete_clade_frequencies[\"clade_error\"] = complete_clade_frequencies[\"frequency_final\"] - complete_clade_frequencies[\"projected_frequency\"]"
   ]
  },
  {
   "cell_type": "code",
   "execution_count": 294,
   "metadata": {},
   "outputs": [
    {
     "data": {
      "text/plain": [
       "Text(0,0.5,'Forecast error (%)')"
      ]
     },
     "execution_count": 294,
     "metadata": {},
     "output_type": "execute_result"
    },
    {
     "data": {
      "image/png": "[encoded data removed]",
      "text/plain": [
       "<Figure size 800x800 with 1 Axes>"
      ]
     },
     "metadata": {},
     "output_type": "display_data"
    }
   ],
   "source": [
    "fig, ax = plt.subplots(1, 1, figsize=(4, 4))\n",
    "ax.plot(\n",
    "    complete_clade_frequencies[\"frequency\"].values * 100,\n",
    "    complete_clade_frequencies[\"clade_error\"].values * 100,\n",
    "    \"o\",\n",
    "    alpha=0.25\n",
    ")\n",
    "ax.axhline(0, color=\"#cccccc\", zorder=-10)\n",
    "ax.set_xlabel(\"Initial clade frequency (%)\")\n",
    "ax.set_ylabel(\"Forecast error (%)\")"
   ]
  },
  {
   "cell_type": "code",
   "execution_count": null,
   "metadata": {},
   "outputs": [],
   "source": []
  }
 ],
 "metadata": {
  "kernelspec": {
   "display_name": "Python 3",
   "language": "python",
   "name": "python3"
  },
  "language_info": {
   "codemirror_mode": {
    "name": "ipython",
    "version": 3
   },
   "file_extension": ".py",
   "mimetype": "text/x-python",
   "name": "python",
   "nbconvert_exporter": "python",
   "pygments_lexer": "ipython3",
   "version": "3.6.7"
  }
 },
 "nbformat": 4,
 "nbformat_minor": 4
}
