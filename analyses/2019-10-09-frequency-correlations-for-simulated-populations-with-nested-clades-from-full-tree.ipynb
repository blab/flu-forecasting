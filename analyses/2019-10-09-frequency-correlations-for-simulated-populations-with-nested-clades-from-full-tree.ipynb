{
 "cells": [
  {
   "cell_type": "markdown",
   "metadata": {},
   "source": [
    "# Frequency correlation plots for simulated populations with nested clades from a full tree\n",
    "\n",
    "Example code for how to calculate frequency correlation plots from augur forecasting builds."
   ]
  },
  {
   "cell_type": "code",
   "execution_count": 1,
   "metadata": {},
   "outputs": [],
   "source": [
    "import altair as alt\n",
    "import matplotlib as mpl\n",
    "import matplotlib.pyplot as plt\n",
    "import matplotlib.gridspec as gridspec\n",
    "import numpy as np\n",
    "import pandas as pd\n",
    "from scipy.stats import pearsonr\n",
    "import seaborn as sns\n",
    "\n",
    "%matplotlib inline"
   ]
  },
  {
   "cell_type": "code",
   "execution_count": 2,
   "metadata": {},
   "outputs": [],
   "source": [
    "sns.set_style(\"white\")\n",
    "plt.style.use(\"huddlej\")"
   ]
  },
  {
   "cell_type": "code",
   "execution_count": 3,
   "metadata": {},
   "outputs": [],
   "source": [
    "mpl.rcParams['savefig.dpi'] = 200\n",
    "mpl.rcParams['figure.dpi'] = 200\n",
    "mpl.rcParams['font.weight'] = 300\n",
    "mpl.rcParams['axes.labelweight'] = 300\n",
    "mpl.rcParams['font.size'] = 18"
   ]
  },
  {
   "cell_type": "code",
   "execution_count": 4,
   "metadata": {},
   "outputs": [
    {
     "name": "stdout",
     "output_type": "stream",
     "text": [
      "/Users/jlhudd/projects/nextstrain/flu-forecasting/analyses\n"
     ]
    }
   ],
   "source": [
    "!pwd"
   ]
  },
  {
   "cell_type": "code",
   "execution_count": 5,
   "metadata": {},
   "outputs": [],
   "source": [
    "def matthews_correlation_coefficient(tp, tn, fp, fn):\n",
    "    \"\"\"Return Matthews correlation coefficient for values from a confusion matrix.\n",
    "    Implementation is based on the definition from wikipedia:\n",
    "\n",
    "    https://en.wikipedia.org/wiki/Matthews_correlation_coefficient\n",
    "    \"\"\"\n",
    "    numerator = (tp * tn) - (fp * fn)\n",
    "    denominator = np.sqrt((tp + fp) * (tp + fn) * (tn + fp) * (tn + fn))\n",
    "    if denominator == 0:\n",
    "            denominator = 1\n",
    "\n",
    "    return float(numerator) / denominator\n",
    "\n",
    "def get_matthews_correlation_coefficient_for_data_frame(freq_df, return_confusion_matrix=False):\n",
    "        \"\"\"Calculate Matthew's correlation coefficient from a given pandas data frame\n",
    "        with columns for initial, observed, and predicted frequencies.\n",
    "        \"\"\"\n",
    "        observed_growth = (freq_df[\"frequency_final\"] > freq_df[\"frequency\"])\n",
    "        predicted_growth = (freq_df[\"projected_frequency\"] > freq_df[\"frequency\"])\n",
    "        true_positives = ((observed_growth) & (predicted_growth)).sum()\n",
    "        false_positives= ((~observed_growth) & (predicted_growth)).sum()\n",
    "\n",
    "        observed_decline = (freq_df[\"frequency_final\"] < freq_df[\"frequency\"])\n",
    "        predicted_decline = (freq_df[\"projected_frequency\"] < freq_df[\"frequency\"])\n",
    "        true_negatives = ((observed_decline) & (predicted_decline)).sum()\n",
    "        false_negatives = ((~observed_decline) & (predicted_decline)).sum()\n",
    "\n",
    "        mcc = matthews_correlation_coefficient(\n",
    "            true_positives,\n",
    "            true_negatives,\n",
    "            false_positives,\n",
    "            false_negatives\n",
    "        )\n",
    "\n",
    "        if return_confusion_matrix:\n",
    "            confusion_matrix = {\n",
    "                \"tp\": true_positives,\n",
    "                \"tn\": true_negatives,\n",
    "                \"fp\": false_positives,\n",
    "                \"fn\": false_negatives\n",
    "            }\n",
    "            \n",
    "            return mcc, confusion_matrix\n",
    "        else:\n",
    "            return mcc"
   ]
  },
  {
   "cell_type": "markdown",
   "metadata": {},
   "source": [
    "## Load data"
   ]
  },
  {
   "cell_type": "code",
   "execution_count": 6,
   "metadata": {},
   "outputs": [],
   "source": [
    "min_clade_frequency = 0.15"
   ]
  },
  {
   "cell_type": "code",
   "execution_count": 7,
   "metadata": {},
   "outputs": [],
   "source": [
    "precision = 4"
   ]
  },
  {
   "cell_type": "code",
   "execution_count": 8,
   "metadata": {},
   "outputs": [],
   "source": [
    "data_root = \"../results/builds/simulated/simulated_sample_3\""
   ]
  },
  {
   "cell_type": "code",
   "execution_count": 9,
   "metadata": {},
   "outputs": [],
   "source": [
    "data_root_full_tree = \"../results/builds/simulated/simulated_sample_3_full_tree\""
   ]
  },
  {
   "cell_type": "code",
   "execution_count": 10,
   "metadata": {},
   "outputs": [],
   "source": [
    "first_validation_timepoint = \"2023-10-01\""
   ]
  },
  {
   "cell_type": "code",
   "execution_count": 11,
   "metadata": {},
   "outputs": [],
   "source": [
    "tips = pd.read_csv(\n",
    "    \"%s/tip_attributes_with_weighted_distances.tsv\" % data_root,\n",
    "    sep=\"\\t\",\n",
    "    parse_dates=[\"timepoint\"],\n",
    "    usecols=[\"strain\", \"timepoint\", \"frequency\"]\n",
    ")"
   ]
  },
  {
   "cell_type": "code",
   "execution_count": 12,
   "metadata": {},
   "outputs": [],
   "source": [
    "tips = tips.query(\"timepoint >= '%s'\" % first_validation_timepoint).copy()"
   ]
  },
  {
   "cell_type": "code",
   "execution_count": 13,
   "metadata": {},
   "outputs": [],
   "source": [
    "#tips = np.round(tips, precision)"
   ]
  },
  {
   "cell_type": "code",
   "execution_count": 14,
   "metadata": {},
   "outputs": [
    {
     "data": {
      "text/html": [
       "<div>\n",
       "<style scoped>\n",
       "    .dataframe tbody tr th:only-of-type {\n",
       "        vertical-align: middle;\n",
       "    }\n",
       "\n",
       "    .dataframe tbody tr th {\n",
       "        vertical-align: top;\n",
       "    }\n",
       "\n",
       "    .dataframe thead th {\n",
       "        text-align: right;\n",
       "    }\n",
       "</style>\n",
       "<table border=\"1\" class=\"dataframe\">\n",
       "  <thead>\n",
       "    <tr style=\"text-align: right;\">\n",
       "      <th></th>\n",
       "      <th>strain</th>\n",
       "      <th>timepoint</th>\n",
       "      <th>frequency</th>\n",
       "    </tr>\n",
       "  </thead>\n",
       "  <tbody>\n",
       "    <tr>\n",
       "      <th>8820</th>\n",
       "      <td>sample_4636_1</td>\n",
       "      <td>2023-10-01</td>\n",
       "      <td>0.0</td>\n",
       "    </tr>\n",
       "  </tbody>\n",
       "</table>\n",
       "</div>"
      ],
      "text/plain": [
       "             strain  timepoint  frequency\n",
       "8820  sample_4636_1 2023-10-01        0.0"
      ]
     },
     "execution_count": 14,
     "metadata": {},
     "output_type": "execute_result"
    }
   ],
   "source": [
    "np.round(tips.head(1), precision)"
   ]
  },
  {
   "cell_type": "code",
   "execution_count": 15,
   "metadata": {},
   "outputs": [
    {
     "data": {
      "text/plain": [
       "22050"
      ]
     },
     "execution_count": 15,
     "metadata": {},
     "output_type": "execute_result"
    }
   ],
   "source": [
    "(tips[\"frequency\"] > 0).sum()"
   ]
  },
  {
   "cell_type": "code",
   "execution_count": 16,
   "metadata": {},
   "outputs": [],
   "source": [
    "tips_to_clades = pd.read_csv(\"%s/tips_to_clades.tsv\" % data_root_full_tree, sep=\"\\t\",\n",
    "                             usecols=[\"tip\", \"clade_membership\", \"depth\"])"
   ]
  },
  {
   "cell_type": "code",
   "execution_count": 17,
   "metadata": {},
   "outputs": [],
   "source": [
    "tips_to_clades = tips_to_clades.rename(columns={\"tip\": \"strain\"})"
   ]
  },
  {
   "cell_type": "code",
   "execution_count": 18,
   "metadata": {},
   "outputs": [
    {
     "data": {
      "text/html": [
       "<div>\n",
       "<style scoped>\n",
       "    .dataframe tbody tr th:only-of-type {\n",
       "        vertical-align: middle;\n",
       "    }\n",
       "\n",
       "    .dataframe tbody tr th {\n",
       "        vertical-align: top;\n",
       "    }\n",
       "\n",
       "    .dataframe thead th {\n",
       "        text-align: right;\n",
       "    }\n",
       "</style>\n",
       "<table border=\"1\" class=\"dataframe\">\n",
       "  <thead>\n",
       "    <tr style=\"text-align: right;\">\n",
       "      <th></th>\n",
       "      <th>strain</th>\n",
       "      <th>clade_membership</th>\n",
       "      <th>depth</th>\n",
       "    </tr>\n",
       "  </thead>\n",
       "  <tbody>\n",
       "    <tr>\n",
       "      <th>0</th>\n",
       "      <td>sample_6160_82</td>\n",
       "      <td>371216c</td>\n",
       "      <td>0</td>\n",
       "    </tr>\n",
       "    <tr>\n",
       "      <th>1</th>\n",
       "      <td>sample_6160_82</td>\n",
       "      <td>bf38b41</td>\n",
       "      <td>2</td>\n",
       "    </tr>\n",
       "    <tr>\n",
       "      <th>2</th>\n",
       "      <td>sample_6160_82</td>\n",
       "      <td>adc6bab</td>\n",
       "      <td>3</td>\n",
       "    </tr>\n",
       "    <tr>\n",
       "      <th>3</th>\n",
       "      <td>sample_6164_8</td>\n",
       "      <td>371216c</td>\n",
       "      <td>0</td>\n",
       "    </tr>\n",
       "    <tr>\n",
       "      <th>4</th>\n",
       "      <td>sample_6164_8</td>\n",
       "      <td>bf38b41</td>\n",
       "      <td>2</td>\n",
       "    </tr>\n",
       "    <tr>\n",
       "      <th>5</th>\n",
       "      <td>sample_6164_8</td>\n",
       "      <td>adc6bab</td>\n",
       "      <td>3</td>\n",
       "    </tr>\n",
       "    <tr>\n",
       "      <th>6</th>\n",
       "      <td>sample_6156_7</td>\n",
       "      <td>c29d627</td>\n",
       "      <td>0</td>\n",
       "    </tr>\n",
       "    <tr>\n",
       "      <th>7</th>\n",
       "      <td>sample_6156_7</td>\n",
       "      <td>441d6bc</td>\n",
       "      <td>2</td>\n",
       "    </tr>\n",
       "    <tr>\n",
       "      <th>8</th>\n",
       "      <td>sample_6156_7</td>\n",
       "      <td>bf38b41</td>\n",
       "      <td>3</td>\n",
       "    </tr>\n",
       "    <tr>\n",
       "      <th>9</th>\n",
       "      <td>sample_6156_7</td>\n",
       "      <td>adc6bab</td>\n",
       "      <td>4</td>\n",
       "    </tr>\n",
       "    <tr>\n",
       "      <th>10</th>\n",
       "      <td>sample_6196_83</td>\n",
       "      <td>c29d627</td>\n",
       "      <td>0</td>\n",
       "    </tr>\n",
       "    <tr>\n",
       "      <th>11</th>\n",
       "      <td>sample_6196_83</td>\n",
       "      <td>441d6bc</td>\n",
       "      <td>3</td>\n",
       "    </tr>\n",
       "    <tr>\n",
       "      <th>12</th>\n",
       "      <td>sample_6196_83</td>\n",
       "      <td>bf38b41</td>\n",
       "      <td>4</td>\n",
       "    </tr>\n",
       "    <tr>\n",
       "      <th>13</th>\n",
       "      <td>sample_6196_83</td>\n",
       "      <td>adc6bab</td>\n",
       "      <td>5</td>\n",
       "    </tr>\n",
       "    <tr>\n",
       "      <th>14</th>\n",
       "      <td>sample_6196_26</td>\n",
       "      <td>c29d627</td>\n",
       "      <td>0</td>\n",
       "    </tr>\n",
       "    <tr>\n",
       "      <th>15</th>\n",
       "      <td>sample_6196_26</td>\n",
       "      <td>441d6bc</td>\n",
       "      <td>3</td>\n",
       "    </tr>\n",
       "    <tr>\n",
       "      <th>16</th>\n",
       "      <td>sample_6196_26</td>\n",
       "      <td>bf38b41</td>\n",
       "      <td>4</td>\n",
       "    </tr>\n",
       "    <tr>\n",
       "      <th>17</th>\n",
       "      <td>sample_6196_26</td>\n",
       "      <td>adc6bab</td>\n",
       "      <td>5</td>\n",
       "    </tr>\n",
       "    <tr>\n",
       "      <th>18</th>\n",
       "      <td>sample_6152_4</td>\n",
       "      <td>7cac224</td>\n",
       "      <td>0</td>\n",
       "    </tr>\n",
       "    <tr>\n",
       "      <th>19</th>\n",
       "      <td>sample_6152_4</td>\n",
       "      <td>441d6bc</td>\n",
       "      <td>2</td>\n",
       "    </tr>\n",
       "  </tbody>\n",
       "</table>\n",
       "</div>"
      ],
      "text/plain": [
       "            strain clade_membership  depth\n",
       "0   sample_6160_82          371216c      0\n",
       "1   sample_6160_82          bf38b41      2\n",
       "2   sample_6160_82          adc6bab      3\n",
       "3    sample_6164_8          371216c      0\n",
       "4    sample_6164_8          bf38b41      2\n",
       "5    sample_6164_8          adc6bab      3\n",
       "6    sample_6156_7          c29d627      0\n",
       "7    sample_6156_7          441d6bc      2\n",
       "8    sample_6156_7          bf38b41      3\n",
       "9    sample_6156_7          adc6bab      4\n",
       "10  sample_6196_83          c29d627      0\n",
       "11  sample_6196_83          441d6bc      3\n",
       "12  sample_6196_83          bf38b41      4\n",
       "13  sample_6196_83          adc6bab      5\n",
       "14  sample_6196_26          c29d627      0\n",
       "15  sample_6196_26          441d6bc      3\n",
       "16  sample_6196_26          bf38b41      4\n",
       "17  sample_6196_26          adc6bab      5\n",
       "18   sample_6152_4          7cac224      0\n",
       "19   sample_6152_4          441d6bc      2"
      ]
     },
     "execution_count": 18,
     "metadata": {},
     "output_type": "execute_result"
    }
   ],
   "source": [
    "tips_to_clades.head(20)"
   ]
  },
  {
   "cell_type": "code",
   "execution_count": 19,
   "metadata": {},
   "outputs": [
    {
     "data": {
      "text/plain": [
       "(258040, 3)"
      ]
     },
     "execution_count": 19,
     "metadata": {},
     "output_type": "execute_result"
    }
   ],
   "source": [
    "tips_to_clades.shape"
   ]
  },
  {
   "cell_type": "code",
   "execution_count": 20,
   "metadata": {},
   "outputs": [],
   "source": [
    "forecasts = pd.read_csv(\n",
    "    \"%s/forecasts.tsv\" % data_root,\n",
    "    sep=\"\\t\",\n",
    "    parse_dates=[\"timepoint\"],\n",
    "    usecols=[\"timepoint\", \"strain\", \"frequency\", \"projected_frequency\"]\n",
    ")"
   ]
  },
  {
   "cell_type": "code",
   "execution_count": 21,
   "metadata": {},
   "outputs": [],
   "source": [
    "#forecasts = np.round(forecasts, precision)"
   ]
  },
  {
   "cell_type": "code",
   "execution_count": 22,
   "metadata": {},
   "outputs": [
    {
     "data": {
      "text/html": [
       "<div>\n",
       "<style scoped>\n",
       "    .dataframe tbody tr th:only-of-type {\n",
       "        vertical-align: middle;\n",
       "    }\n",
       "\n",
       "    .dataframe tbody tr th {\n",
       "        vertical-align: top;\n",
       "    }\n",
       "\n",
       "    .dataframe thead th {\n",
       "        text-align: right;\n",
       "    }\n",
       "</style>\n",
       "<table border=\"1\" class=\"dataframe\">\n",
       "  <thead>\n",
       "    <tr style=\"text-align: right;\">\n",
       "      <th></th>\n",
       "      <th>timepoint</th>\n",
       "      <th>strain</th>\n",
       "      <th>frequency</th>\n",
       "      <th>projected_frequency</th>\n",
       "    </tr>\n",
       "  </thead>\n",
       "  <tbody>\n",
       "    <tr>\n",
       "      <th>0</th>\n",
       "      <td>2016-10-01</td>\n",
       "      <td>sample_3236_14</td>\n",
       "      <td>0.0</td>\n",
       "      <td>0.0</td>\n",
       "    </tr>\n",
       "  </tbody>\n",
       "</table>\n",
       "</div>"
      ],
      "text/plain": [
       "   timepoint          strain  frequency  projected_frequency\n",
       "0 2016-10-01  sample_3236_14        0.0                  0.0"
      ]
     },
     "execution_count": 22,
     "metadata": {},
     "output_type": "execute_result"
    }
   ],
   "source": [
    "np.round(forecasts.head(1), 4)"
   ]
  },
  {
   "cell_type": "code",
   "execution_count": 23,
   "metadata": {},
   "outputs": [],
   "source": [
    "full_forecasts = pd.read_csv(\n",
    "    \"%s/forecasts.tsv\" % data_root,\n",
    "    sep=\"\\t\",\n",
    "    parse_dates=[\"timepoint\", \"future_timepoint\"]\n",
    ")"
   ]
  },
  {
   "cell_type": "code",
   "execution_count": 24,
   "metadata": {},
   "outputs": [],
   "source": [
    "full_forecasts = full_forecasts.query(\"timepoint >= '%s'\" % first_validation_timepoint).copy()"
   ]
  },
  {
   "cell_type": "code",
   "execution_count": 25,
   "metadata": {},
   "outputs": [],
   "source": [
    "#full_forecasts = np.round(full_forecasts, precision)"
   ]
  },
  {
   "cell_type": "code",
   "execution_count": 26,
   "metadata": {},
   "outputs": [
    {
     "data": {
      "text/html": [
       "<div>\n",
       "<style scoped>\n",
       "    .dataframe tbody tr th:only-of-type {\n",
       "        vertical-align: middle;\n",
       "    }\n",
       "\n",
       "    .dataframe tbody tr th {\n",
       "        vertical-align: top;\n",
       "    }\n",
       "\n",
       "    .dataframe thead th {\n",
       "        text-align: right;\n",
       "    }\n",
       "</style>\n",
       "<table border=\"1\" class=\"dataframe\">\n",
       "  <thead>\n",
       "    <tr style=\"text-align: right;\">\n",
       "      <th></th>\n",
       "      <th>timepoint</th>\n",
       "      <th>strain</th>\n",
       "      <th>frequency</th>\n",
       "      <th>weighted_distance_to_present</th>\n",
       "      <th>weighted_distance_to_future</th>\n",
       "      <th>fitness</th>\n",
       "      <th>projected_frequency</th>\n",
       "      <th>y</th>\n",
       "      <th>future_timepoint</th>\n",
       "    </tr>\n",
       "  </thead>\n",
       "  <tbody>\n",
       "    <tr>\n",
       "      <th>8820</th>\n",
       "      <td>2023-10-01</td>\n",
       "      <td>sample_4636_1</td>\n",
       "      <td>0.000013</td>\n",
       "      <td>6.303122</td>\n",
       "      <td>8.846077</td>\n",
       "      <td>14.429269</td>\n",
       "      <td>4.717925e-05</td>\n",
       "      <td>4.210202</td>\n",
       "      <td>2024-10-01</td>\n",
       "    </tr>\n",
       "    <tr>\n",
       "      <th>8821</th>\n",
       "      <td>2023-10-01</td>\n",
       "      <td>sample_4636_10</td>\n",
       "      <td>0.000013</td>\n",
       "      <td>7.028772</td>\n",
       "      <td>8.791790</td>\n",
       "      <td>10.839396</td>\n",
       "      <td>1.302234e-06</td>\n",
       "      <td>4.849536</td>\n",
       "      <td>2024-10-01</td>\n",
       "    </tr>\n",
       "    <tr>\n",
       "      <th>8822</th>\n",
       "      <td>2023-10-01</td>\n",
       "      <td>sample_4636_24</td>\n",
       "      <td>0.000013</td>\n",
       "      <td>7.284332</td>\n",
       "      <td>9.838817</td>\n",
       "      <td>7.679263</td>\n",
       "      <td>5.524085e-08</td>\n",
       "      <td>5.210227</td>\n",
       "      <td>2024-10-01</td>\n",
       "    </tr>\n",
       "    <tr>\n",
       "      <th>8823</th>\n",
       "      <td>2023-10-01</td>\n",
       "      <td>sample_4636_27</td>\n",
       "      <td>0.000013</td>\n",
       "      <td>7.015142</td>\n",
       "      <td>8.779956</td>\n",
       "      <td>-39.344027</td>\n",
       "      <td>2.090765e-28</td>\n",
       "      <td>4.841702</td>\n",
       "      <td>2024-10-01</td>\n",
       "    </tr>\n",
       "    <tr>\n",
       "      <th>8824</th>\n",
       "      <td>2023-10-01</td>\n",
       "      <td>sample_4636_33</td>\n",
       "      <td>0.000013</td>\n",
       "      <td>13.189609</td>\n",
       "      <td>15.763376</td>\n",
       "      <td>10.898216</td>\n",
       "      <td>1.381129e-06</td>\n",
       "      <td>11.270201</td>\n",
       "      <td>2024-10-01</td>\n",
       "    </tr>\n",
       "  </tbody>\n",
       "</table>\n",
       "</div>"
      ],
      "text/plain": [
       "      timepoint          strain  frequency  weighted_distance_to_present  \\\n",
       "8820 2023-10-01   sample_4636_1   0.000013                      6.303122   \n",
       "8821 2023-10-01  sample_4636_10   0.000013                      7.028772   \n",
       "8822 2023-10-01  sample_4636_24   0.000013                      7.284332   \n",
       "8823 2023-10-01  sample_4636_27   0.000013                      7.015142   \n",
       "8824 2023-10-01  sample_4636_33   0.000013                     13.189609   \n",
       "\n",
       "      weighted_distance_to_future    fitness  projected_frequency          y  \\\n",
       "8820                     8.846077  14.429269         4.717925e-05   4.210202   \n",
       "8821                     8.791790  10.839396         1.302234e-06   4.849536   \n",
       "8822                     9.838817   7.679263         5.524085e-08   5.210227   \n",
       "8823                     8.779956 -39.344027         2.090765e-28   4.841702   \n",
       "8824                    15.763376  10.898216         1.381129e-06  11.270201   \n",
       "\n",
       "     future_timepoint  \n",
       "8820       2024-10-01  \n",
       "8821       2024-10-01  \n",
       "8822       2024-10-01  \n",
       "8823       2024-10-01  \n",
       "8824       2024-10-01  "
      ]
     },
     "execution_count": 26,
     "metadata": {},
     "output_type": "execute_result"
    }
   ],
   "source": [
    "full_forecasts.head()"
   ]
  },
  {
   "cell_type": "markdown",
   "metadata": {},
   "source": [
    "## Find large clades\n",
    "\n",
    "Find all clades with an initial frequency some minimum value (e.g., >15%)."
   ]
  },
  {
   "cell_type": "code",
   "execution_count": 27,
   "metadata": {},
   "outputs": [
    {
     "data": {
      "text/html": [
       "<div>\n",
       "<style scoped>\n",
       "    .dataframe tbody tr th:only-of-type {\n",
       "        vertical-align: middle;\n",
       "    }\n",
       "\n",
       "    .dataframe tbody tr th {\n",
       "        vertical-align: top;\n",
       "    }\n",
       "\n",
       "    .dataframe thead th {\n",
       "        text-align: right;\n",
       "    }\n",
       "</style>\n",
       "<table border=\"1\" class=\"dataframe\">\n",
       "  <thead>\n",
       "    <tr style=\"text-align: right;\">\n",
       "      <th></th>\n",
       "      <th>strain</th>\n",
       "      <th>timepoint</th>\n",
       "      <th>frequency</th>\n",
       "    </tr>\n",
       "  </thead>\n",
       "  <tbody>\n",
       "    <tr>\n",
       "      <th>8820</th>\n",
       "      <td>sample_4636_1</td>\n",
       "      <td>2023-10-01</td>\n",
       "      <td>0.000013</td>\n",
       "    </tr>\n",
       "    <tr>\n",
       "      <th>8821</th>\n",
       "      <td>sample_4636_10</td>\n",
       "      <td>2023-10-01</td>\n",
       "      <td>0.000013</td>\n",
       "    </tr>\n",
       "    <tr>\n",
       "      <th>8822</th>\n",
       "      <td>sample_4636_24</td>\n",
       "      <td>2023-10-01</td>\n",
       "      <td>0.000013</td>\n",
       "    </tr>\n",
       "    <tr>\n",
       "      <th>8823</th>\n",
       "      <td>sample_4636_27</td>\n",
       "      <td>2023-10-01</td>\n",
       "      <td>0.000013</td>\n",
       "    </tr>\n",
       "    <tr>\n",
       "      <th>8824</th>\n",
       "      <td>sample_4636_33</td>\n",
       "      <td>2023-10-01</td>\n",
       "      <td>0.000013</td>\n",
       "    </tr>\n",
       "  </tbody>\n",
       "</table>\n",
       "</div>"
      ],
      "text/plain": [
       "              strain  timepoint  frequency\n",
       "8820   sample_4636_1 2023-10-01   0.000013\n",
       "8821  sample_4636_10 2023-10-01   0.000013\n",
       "8822  sample_4636_24 2023-10-01   0.000013\n",
       "8823  sample_4636_27 2023-10-01   0.000013\n",
       "8824  sample_4636_33 2023-10-01   0.000013"
      ]
     },
     "execution_count": 27,
     "metadata": {},
     "output_type": "execute_result"
    }
   ],
   "source": [
    "tips.head()"
   ]
  },
  {
   "cell_type": "code",
   "execution_count": 28,
   "metadata": {},
   "outputs": [],
   "source": [
    "clade_tip_initial_frequencies = tips_to_clades.merge(\n",
    "    tips,\n",
    "    on=[\"strain\"]\n",
    ")"
   ]
  },
  {
   "cell_type": "code",
   "execution_count": 29,
   "metadata": {},
   "outputs": [
    {
     "data": {
      "text/html": [
       "<div>\n",
       "<style scoped>\n",
       "    .dataframe tbody tr th:only-of-type {\n",
       "        vertical-align: middle;\n",
       "    }\n",
       "\n",
       "    .dataframe tbody tr th {\n",
       "        vertical-align: top;\n",
       "    }\n",
       "\n",
       "    .dataframe thead th {\n",
       "        text-align: right;\n",
       "    }\n",
       "</style>\n",
       "<table border=\"1\" class=\"dataframe\">\n",
       "  <thead>\n",
       "    <tr style=\"text-align: right;\">\n",
       "      <th></th>\n",
       "      <th>strain</th>\n",
       "      <th>clade_membership</th>\n",
       "      <th>depth</th>\n",
       "      <th>timepoint</th>\n",
       "      <th>frequency</th>\n",
       "    </tr>\n",
       "  </thead>\n",
       "  <tbody>\n",
       "    <tr>\n",
       "      <th>0</th>\n",
       "      <td>sample_6160_82</td>\n",
       "      <td>371216c</td>\n",
       "      <td>0</td>\n",
       "      <td>2031-04-01</td>\n",
       "      <td>0.000116</td>\n",
       "    </tr>\n",
       "    <tr>\n",
       "      <th>1</th>\n",
       "      <td>sample_6160_82</td>\n",
       "      <td>bf38b41</td>\n",
       "      <td>2</td>\n",
       "      <td>2031-04-01</td>\n",
       "      <td>0.000116</td>\n",
       "    </tr>\n",
       "    <tr>\n",
       "      <th>2</th>\n",
       "      <td>sample_6160_82</td>\n",
       "      <td>adc6bab</td>\n",
       "      <td>3</td>\n",
       "      <td>2031-04-01</td>\n",
       "      <td>0.000116</td>\n",
       "    </tr>\n",
       "    <tr>\n",
       "      <th>3</th>\n",
       "      <td>sample_6164_8</td>\n",
       "      <td>371216c</td>\n",
       "      <td>0</td>\n",
       "      <td>2031-04-01</td>\n",
       "      <td>0.000159</td>\n",
       "    </tr>\n",
       "    <tr>\n",
       "      <th>4</th>\n",
       "      <td>sample_6164_8</td>\n",
       "      <td>bf38b41</td>\n",
       "      <td>2</td>\n",
       "      <td>2031-04-01</td>\n",
       "      <td>0.000159</td>\n",
       "    </tr>\n",
       "  </tbody>\n",
       "</table>\n",
       "</div>"
      ],
      "text/plain": [
       "           strain clade_membership  depth  timepoint  frequency\n",
       "0  sample_6160_82          371216c      0 2031-04-01   0.000116\n",
       "1  sample_6160_82          bf38b41      2 2031-04-01   0.000116\n",
       "2  sample_6160_82          adc6bab      3 2031-04-01   0.000116\n",
       "3   sample_6164_8          371216c      0 2031-04-01   0.000159\n",
       "4   sample_6164_8          bf38b41      2 2031-04-01   0.000159"
      ]
     },
     "execution_count": 29,
     "metadata": {},
     "output_type": "execute_result"
    }
   ],
   "source": [
    "clade_tip_initial_frequencies.head()"
   ]
  },
  {
   "cell_type": "code",
   "execution_count": 30,
   "metadata": {},
   "outputs": [],
   "source": [
    "clade_tip_initial_frequencies[\"future_timepoint\"] = clade_tip_initial_frequencies[\"timepoint\"] + pd.DateOffset(months=12)"
   ]
  },
  {
   "cell_type": "code",
   "execution_count": 31,
   "metadata": {},
   "outputs": [
    {
     "data": {
      "text/html": [
       "<div>\n",
       "<style scoped>\n",
       "    .dataframe tbody tr th:only-of-type {\n",
       "        vertical-align: middle;\n",
       "    }\n",
       "\n",
       "    .dataframe tbody tr th {\n",
       "        vertical-align: top;\n",
       "    }\n",
       "\n",
       "    .dataframe thead th {\n",
       "        text-align: right;\n",
       "    }\n",
       "</style>\n",
       "<table border=\"1\" class=\"dataframe\">\n",
       "  <thead>\n",
       "    <tr style=\"text-align: right;\">\n",
       "      <th></th>\n",
       "      <th>strain</th>\n",
       "      <th>clade_membership</th>\n",
       "      <th>depth</th>\n",
       "      <th>timepoint</th>\n",
       "      <th>frequency</th>\n",
       "      <th>future_timepoint</th>\n",
       "    </tr>\n",
       "  </thead>\n",
       "  <tbody>\n",
       "    <tr>\n",
       "      <th>0</th>\n",
       "      <td>sample_6160_82</td>\n",
       "      <td>371216c</td>\n",
       "      <td>0</td>\n",
       "      <td>2031-04-01</td>\n",
       "      <td>0.000116</td>\n",
       "      <td>2032-04-01</td>\n",
       "    </tr>\n",
       "    <tr>\n",
       "      <th>1</th>\n",
       "      <td>sample_6160_82</td>\n",
       "      <td>bf38b41</td>\n",
       "      <td>2</td>\n",
       "      <td>2031-04-01</td>\n",
       "      <td>0.000116</td>\n",
       "      <td>2032-04-01</td>\n",
       "    </tr>\n",
       "    <tr>\n",
       "      <th>2</th>\n",
       "      <td>sample_6160_82</td>\n",
       "      <td>adc6bab</td>\n",
       "      <td>3</td>\n",
       "      <td>2031-04-01</td>\n",
       "      <td>0.000116</td>\n",
       "      <td>2032-04-01</td>\n",
       "    </tr>\n",
       "    <tr>\n",
       "      <th>3</th>\n",
       "      <td>sample_6164_8</td>\n",
       "      <td>371216c</td>\n",
       "      <td>0</td>\n",
       "      <td>2031-04-01</td>\n",
       "      <td>0.000159</td>\n",
       "      <td>2032-04-01</td>\n",
       "    </tr>\n",
       "    <tr>\n",
       "      <th>4</th>\n",
       "      <td>sample_6164_8</td>\n",
       "      <td>bf38b41</td>\n",
       "      <td>2</td>\n",
       "      <td>2031-04-01</td>\n",
       "      <td>0.000159</td>\n",
       "      <td>2032-04-01</td>\n",
       "    </tr>\n",
       "  </tbody>\n",
       "</table>\n",
       "</div>"
      ],
      "text/plain": [
       "           strain clade_membership  depth  timepoint  frequency  \\\n",
       "0  sample_6160_82          371216c      0 2031-04-01   0.000116   \n",
       "1  sample_6160_82          bf38b41      2 2031-04-01   0.000116   \n",
       "2  sample_6160_82          adc6bab      3 2031-04-01   0.000116   \n",
       "3   sample_6164_8          371216c      0 2031-04-01   0.000159   \n",
       "4   sample_6164_8          bf38b41      2 2031-04-01   0.000159   \n",
       "\n",
       "  future_timepoint  \n",
       "0       2032-04-01  \n",
       "1       2032-04-01  \n",
       "2       2032-04-01  \n",
       "3       2032-04-01  \n",
       "4       2032-04-01  "
      ]
     },
     "execution_count": 31,
     "metadata": {},
     "output_type": "execute_result"
    }
   ],
   "source": [
    "clade_tip_initial_frequencies.head()"
   ]
  },
  {
   "cell_type": "code",
   "execution_count": 32,
   "metadata": {},
   "outputs": [
    {
     "data": {
      "text/plain": [
       "(298675, 6)"
      ]
     },
     "execution_count": 32,
     "metadata": {},
     "output_type": "execute_result"
    }
   ],
   "source": [
    "clade_tip_initial_frequencies.shape"
   ]
  },
  {
   "cell_type": "code",
   "execution_count": 33,
   "metadata": {},
   "outputs": [],
   "source": [
    "initial_clade_frequencies = clade_tip_initial_frequencies.groupby([\n",
    "    \"timepoint\", \"future_timepoint\", \"clade_membership\"\n",
    "])[\"frequency\"].sum().reset_index()"
   ]
  },
  {
   "cell_type": "code",
   "execution_count": 34,
   "metadata": {},
   "outputs": [
    {
     "data": {
      "text/html": [
       "<div>\n",
       "<style scoped>\n",
       "    .dataframe tbody tr th:only-of-type {\n",
       "        vertical-align: middle;\n",
       "    }\n",
       "\n",
       "    .dataframe tbody tr th {\n",
       "        vertical-align: top;\n",
       "    }\n",
       "\n",
       "    .dataframe thead th {\n",
       "        text-align: right;\n",
       "    }\n",
       "</style>\n",
       "<table border=\"1\" class=\"dataframe\">\n",
       "  <thead>\n",
       "    <tr style=\"text-align: right;\">\n",
       "      <th></th>\n",
       "      <th>timepoint</th>\n",
       "      <th>future_timepoint</th>\n",
       "      <th>clade_membership</th>\n",
       "      <th>frequency</th>\n",
       "    </tr>\n",
       "  </thead>\n",
       "  <tbody>\n",
       "    <tr>\n",
       "      <th>0</th>\n",
       "      <td>2031-04-01</td>\n",
       "      <td>2032-04-01</td>\n",
       "      <td>00bae18</td>\n",
       "      <td>0.001351</td>\n",
       "    </tr>\n",
       "    <tr>\n",
       "      <th>1</th>\n",
       "      <td>2031-04-01</td>\n",
       "      <td>2032-04-01</td>\n",
       "      <td>03167e3</td>\n",
       "      <td>0.162375</td>\n",
       "    </tr>\n",
       "    <tr>\n",
       "      <th>2</th>\n",
       "      <td>2031-04-01</td>\n",
       "      <td>2032-04-01</td>\n",
       "      <td>051218a</td>\n",
       "      <td>0.002874</td>\n",
       "    </tr>\n",
       "    <tr>\n",
       "      <th>3</th>\n",
       "      <td>2031-04-01</td>\n",
       "      <td>2032-04-01</td>\n",
       "      <td>09d720d</td>\n",
       "      <td>0.008704</td>\n",
       "    </tr>\n",
       "    <tr>\n",
       "      <th>4</th>\n",
       "      <td>2031-04-01</td>\n",
       "      <td>2032-04-01</td>\n",
       "      <td>0a86408</td>\n",
       "      <td>0.020425</td>\n",
       "    </tr>\n",
       "  </tbody>\n",
       "</table>\n",
       "</div>"
      ],
      "text/plain": [
       "   timepoint future_timepoint clade_membership  frequency\n",
       "0 2031-04-01       2032-04-01          00bae18   0.001351\n",
       "1 2031-04-01       2032-04-01          03167e3   0.162375\n",
       "2 2031-04-01       2032-04-01          051218a   0.002874\n",
       "3 2031-04-01       2032-04-01          09d720d   0.008704\n",
       "4 2031-04-01       2032-04-01          0a86408   0.020425"
      ]
     },
     "execution_count": 34,
     "metadata": {},
     "output_type": "execute_result"
    }
   ],
   "source": [
    "initial_clade_frequencies.head()"
   ]
  },
  {
   "cell_type": "code",
   "execution_count": 35,
   "metadata": {},
   "outputs": [
    {
     "data": {
      "text/html": [
       "<div>\n",
       "<style scoped>\n",
       "    .dataframe tbody tr th:only-of-type {\n",
       "        vertical-align: middle;\n",
       "    }\n",
       "\n",
       "    .dataframe tbody tr th {\n",
       "        vertical-align: top;\n",
       "    }\n",
       "\n",
       "    .dataframe thead th {\n",
       "        text-align: right;\n",
       "    }\n",
       "</style>\n",
       "<table border=\"1\" class=\"dataframe\">\n",
       "  <thead>\n",
       "    <tr style=\"text-align: right;\">\n",
       "      <th></th>\n",
       "      <th>timepoint</th>\n",
       "      <th>future_timepoint</th>\n",
       "      <th>clade_membership</th>\n",
       "      <th>frequency</th>\n",
       "    </tr>\n",
       "  </thead>\n",
       "  <tbody>\n",
       "  </tbody>\n",
       "</table>\n",
       "</div>"
      ],
      "text/plain": [
       "Empty DataFrame\n",
       "Columns: [timepoint, future_timepoint, clade_membership, frequency]\n",
       "Index: []"
      ]
     },
     "execution_count": 35,
     "metadata": {},
     "output_type": "execute_result"
    }
   ],
   "source": [
    "initial_clade_frequencies.query(\"clade_membership == '8517059'\")"
   ]
  },
  {
   "cell_type": "markdown",
   "metadata": {},
   "source": [
    "Merge clade frequencies between adjacent years."
   ]
  },
  {
   "cell_type": "code",
   "execution_count": 36,
   "metadata": {},
   "outputs": [],
   "source": [
    "initial_and_observed_clade_frequencies = initial_clade_frequencies.merge(\n",
    "    initial_clade_frequencies,\n",
    "    left_on=[\"future_timepoint\", \"clade_membership\"],\n",
    "    right_on=[\"timepoint\", \"clade_membership\"],\n",
    "    suffixes=[\"\", \"_final\"]\n",
    ").groupby([\"timepoint\", \"clade_membership\", \"frequency\"])[\"frequency_final\"].sum().reset_index()"
   ]
  },
  {
   "cell_type": "code",
   "execution_count": 37,
   "metadata": {},
   "outputs": [
    {
     "data": {
      "text/html": [
       "<div>\n",
       "<style scoped>\n",
       "    .dataframe tbody tr th:only-of-type {\n",
       "        vertical-align: middle;\n",
       "    }\n",
       "\n",
       "    .dataframe tbody tr th {\n",
       "        vertical-align: top;\n",
       "    }\n",
       "\n",
       "    .dataframe thead th {\n",
       "        text-align: right;\n",
       "    }\n",
       "</style>\n",
       "<table border=\"1\" class=\"dataframe\">\n",
       "  <thead>\n",
       "    <tr style=\"text-align: right;\">\n",
       "      <th></th>\n",
       "      <th>timepoint</th>\n",
       "      <th>clade_membership</th>\n",
       "      <th>frequency</th>\n",
       "      <th>frequency_final</th>\n",
       "    </tr>\n",
       "  </thead>\n",
       "  <tbody>\n",
       "    <tr>\n",
       "      <th>0</th>\n",
       "      <td>2031-04-01</td>\n",
       "      <td>03167e3</td>\n",
       "      <td>0.162375</td>\n",
       "      <td>0.980766</td>\n",
       "    </tr>\n",
       "    <tr>\n",
       "      <th>1</th>\n",
       "      <td>2031-04-01</td>\n",
       "      <td>1238505</td>\n",
       "      <td>0.470798</td>\n",
       "      <td>0.981053</td>\n",
       "    </tr>\n",
       "    <tr>\n",
       "      <th>2</th>\n",
       "      <td>2031-04-01</td>\n",
       "      <td>1b124f3</td>\n",
       "      <td>0.016757</td>\n",
       "      <td>0.000287</td>\n",
       "    </tr>\n",
       "    <tr>\n",
       "      <th>3</th>\n",
       "      <td>2031-04-01</td>\n",
       "      <td>236447c</td>\n",
       "      <td>0.930880</td>\n",
       "      <td>0.999936</td>\n",
       "    </tr>\n",
       "    <tr>\n",
       "      <th>4</th>\n",
       "      <td>2031-04-01</td>\n",
       "      <td>30dddad</td>\n",
       "      <td>0.438771</td>\n",
       "      <td>0.981053</td>\n",
       "    </tr>\n",
       "  </tbody>\n",
       "</table>\n",
       "</div>"
      ],
      "text/plain": [
       "   timepoint clade_membership  frequency  frequency_final\n",
       "0 2031-04-01          03167e3   0.162375         0.980766\n",
       "1 2031-04-01          1238505   0.470798         0.981053\n",
       "2 2031-04-01          1b124f3   0.016757         0.000287\n",
       "3 2031-04-01          236447c   0.930880         0.999936\n",
       "4 2031-04-01          30dddad   0.438771         0.981053"
      ]
     },
     "execution_count": 37,
     "metadata": {},
     "output_type": "execute_result"
    }
   ],
   "source": [
    "initial_and_observed_clade_frequencies.head()"
   ]
  },
  {
   "cell_type": "code",
   "execution_count": 38,
   "metadata": {},
   "outputs": [
    {
     "data": {
      "text/html": [
       "<div>\n",
       "<style scoped>\n",
       "    .dataframe tbody tr th:only-of-type {\n",
       "        vertical-align: middle;\n",
       "    }\n",
       "\n",
       "    .dataframe tbody tr th {\n",
       "        vertical-align: top;\n",
       "    }\n",
       "\n",
       "    .dataframe thead th {\n",
       "        text-align: right;\n",
       "    }\n",
       "</style>\n",
       "<table border=\"1\" class=\"dataframe\">\n",
       "  <thead>\n",
       "    <tr style=\"text-align: right;\">\n",
       "      <th></th>\n",
       "      <th>timepoint</th>\n",
       "      <th>clade_membership</th>\n",
       "      <th>frequency</th>\n",
       "      <th>frequency_final</th>\n",
       "    </tr>\n",
       "  </thead>\n",
       "  <tbody>\n",
       "  </tbody>\n",
       "</table>\n",
       "</div>"
      ],
      "text/plain": [
       "Empty DataFrame\n",
       "Columns: [timepoint, clade_membership, frequency, frequency_final]\n",
       "Index: []"
      ]
     },
     "execution_count": 38,
     "metadata": {},
     "output_type": "execute_result"
    }
   ],
   "source": [
    "initial_and_observed_clade_frequencies.query(\"clade_membership == 'cb64469'\")"
   ]
  },
  {
   "cell_type": "markdown",
   "metadata": {},
   "source": [
    "Select clades with an initial frequency >15%."
   ]
  },
  {
   "cell_type": "code",
   "execution_count": 39,
   "metadata": {},
   "outputs": [],
   "source": [
    "large_clades = initial_and_observed_clade_frequencies.query(\"frequency > %s\" % min_clade_frequency).copy()"
   ]
  },
  {
   "cell_type": "code",
   "execution_count": 40,
   "metadata": {},
   "outputs": [
    {
     "data": {
      "text/html": [
       "<div>\n",
       "<style scoped>\n",
       "    .dataframe tbody tr th:only-of-type {\n",
       "        vertical-align: middle;\n",
       "    }\n",
       "\n",
       "    .dataframe tbody tr th {\n",
       "        vertical-align: top;\n",
       "    }\n",
       "\n",
       "    .dataframe thead th {\n",
       "        text-align: right;\n",
       "    }\n",
       "</style>\n",
       "<table border=\"1\" class=\"dataframe\">\n",
       "  <thead>\n",
       "    <tr style=\"text-align: right;\">\n",
       "      <th></th>\n",
       "      <th>timepoint</th>\n",
       "      <th>clade_membership</th>\n",
       "      <th>frequency</th>\n",
       "      <th>frequency_final</th>\n",
       "    </tr>\n",
       "  </thead>\n",
       "  <tbody>\n",
       "    <tr>\n",
       "      <th>0</th>\n",
       "      <td>2031-04-01</td>\n",
       "      <td>03167e3</td>\n",
       "      <td>0.162375</td>\n",
       "      <td>0.980766</td>\n",
       "    </tr>\n",
       "    <tr>\n",
       "      <th>1</th>\n",
       "      <td>2031-04-01</td>\n",
       "      <td>1238505</td>\n",
       "      <td>0.470798</td>\n",
       "      <td>0.981053</td>\n",
       "    </tr>\n",
       "    <tr>\n",
       "      <th>3</th>\n",
       "      <td>2031-04-01</td>\n",
       "      <td>236447c</td>\n",
       "      <td>0.930880</td>\n",
       "      <td>0.999936</td>\n",
       "    </tr>\n",
       "    <tr>\n",
       "      <th>4</th>\n",
       "      <td>2031-04-01</td>\n",
       "      <td>30dddad</td>\n",
       "      <td>0.438771</td>\n",
       "      <td>0.981053</td>\n",
       "    </tr>\n",
       "    <tr>\n",
       "      <th>6</th>\n",
       "      <td>2031-04-01</td>\n",
       "      <td>695af4b</td>\n",
       "      <td>0.264314</td>\n",
       "      <td>0.018883</td>\n",
       "    </tr>\n",
       "  </tbody>\n",
       "</table>\n",
       "</div>"
      ],
      "text/plain": [
       "   timepoint clade_membership  frequency  frequency_final\n",
       "0 2031-04-01          03167e3   0.162375         0.980766\n",
       "1 2031-04-01          1238505   0.470798         0.981053\n",
       "3 2031-04-01          236447c   0.930880         0.999936\n",
       "4 2031-04-01          30dddad   0.438771         0.981053\n",
       "6 2031-04-01          695af4b   0.264314         0.018883"
      ]
     },
     "execution_count": 40,
     "metadata": {},
     "output_type": "execute_result"
    }
   ],
   "source": [
    "large_clades.head()"
   ]
  },
  {
   "cell_type": "code",
   "execution_count": 41,
   "metadata": {},
   "outputs": [
    {
     "data": {
      "text/html": [
       "<div>\n",
       "<style scoped>\n",
       "    .dataframe tbody tr th:only-of-type {\n",
       "        vertical-align: middle;\n",
       "    }\n",
       "\n",
       "    .dataframe tbody tr th {\n",
       "        vertical-align: top;\n",
       "    }\n",
       "\n",
       "    .dataframe thead th {\n",
       "        text-align: right;\n",
       "    }\n",
       "</style>\n",
       "<table border=\"1\" class=\"dataframe\">\n",
       "  <thead>\n",
       "    <tr style=\"text-align: right;\">\n",
       "      <th></th>\n",
       "      <th>timepoint</th>\n",
       "      <th>clade_membership</th>\n",
       "      <th>frequency</th>\n",
       "      <th>frequency_final</th>\n",
       "    </tr>\n",
       "  </thead>\n",
       "  <tbody>\n",
       "    <tr>\n",
       "      <th>845</th>\n",
       "      <td>2039-10-01</td>\n",
       "      <td>d91376c</td>\n",
       "      <td>0.548869</td>\n",
       "      <td>0.999954</td>\n",
       "    </tr>\n",
       "    <tr>\n",
       "      <th>846</th>\n",
       "      <td>2039-10-01</td>\n",
       "      <td>e6d6cf6</td>\n",
       "      <td>0.999977</td>\n",
       "      <td>0.999954</td>\n",
       "    </tr>\n",
       "    <tr>\n",
       "      <th>849</th>\n",
       "      <td>2039-10-01</td>\n",
       "      <td>f13c38d</td>\n",
       "      <td>0.999977</td>\n",
       "      <td>0.999954</td>\n",
       "    </tr>\n",
       "    <tr>\n",
       "      <th>850</th>\n",
       "      <td>2039-10-01</td>\n",
       "      <td>f1e64ed</td>\n",
       "      <td>0.474601</td>\n",
       "      <td>0.999954</td>\n",
       "    </tr>\n",
       "    <tr>\n",
       "      <th>851</th>\n",
       "      <td>2039-10-01</td>\n",
       "      <td>fcc72c3</td>\n",
       "      <td>0.999977</td>\n",
       "      <td>0.999954</td>\n",
       "    </tr>\n",
       "  </tbody>\n",
       "</table>\n",
       "</div>"
      ],
      "text/plain": [
       "     timepoint clade_membership  frequency  frequency_final\n",
       "845 2039-10-01          d91376c   0.548869         0.999954\n",
       "846 2039-10-01          e6d6cf6   0.999977         0.999954\n",
       "849 2039-10-01          f13c38d   0.999977         0.999954\n",
       "850 2039-10-01          f1e64ed   0.474601         0.999954\n",
       "851 2039-10-01          fcc72c3   0.999977         0.999954"
      ]
     },
     "execution_count": 41,
     "metadata": {},
     "output_type": "execute_result"
    }
   ],
   "source": [
    "large_clades.tail()"
   ]
  },
  {
   "cell_type": "code",
   "execution_count": 42,
   "metadata": {},
   "outputs": [
    {
     "data": {
      "text/plain": [
       "(419, 4)"
      ]
     },
     "execution_count": 42,
     "metadata": {},
     "output_type": "execute_result"
    }
   ],
   "source": [
    "large_clades.shape"
   ]
  },
  {
   "cell_type": "markdown",
   "metadata": {},
   "source": [
    "## Find estimated future frequencies of large clades\n",
    "\n",
    "Use the true fitness metric for forecasts."
   ]
  },
  {
   "cell_type": "code",
   "execution_count": 43,
   "metadata": {},
   "outputs": [],
   "source": [
    "clade_tip_estimated_frequencies = tips_to_clades.merge(\n",
    "    forecasts,\n",
    "    on=[\"strain\"]\n",
    ")"
   ]
  },
  {
   "cell_type": "code",
   "execution_count": 44,
   "metadata": {},
   "outputs": [
    {
     "data": {
      "text/html": [
       "<div>\n",
       "<style scoped>\n",
       "    .dataframe tbody tr th:only-of-type {\n",
       "        vertical-align: middle;\n",
       "    }\n",
       "\n",
       "    .dataframe tbody tr th {\n",
       "        vertical-align: top;\n",
       "    }\n",
       "\n",
       "    .dataframe thead th {\n",
       "        text-align: right;\n",
       "    }\n",
       "</style>\n",
       "<table border=\"1\" class=\"dataframe\">\n",
       "  <thead>\n",
       "    <tr style=\"text-align: right;\">\n",
       "      <th></th>\n",
       "      <th>strain</th>\n",
       "      <th>clade_membership</th>\n",
       "      <th>depth</th>\n",
       "      <th>timepoint</th>\n",
       "      <th>frequency</th>\n",
       "      <th>projected_frequency</th>\n",
       "    </tr>\n",
       "  </thead>\n",
       "  <tbody>\n",
       "    <tr>\n",
       "      <th>0</th>\n",
       "      <td>sample_6160_82</td>\n",
       "      <td>371216c</td>\n",
       "      <td>0</td>\n",
       "      <td>2031-04-01</td>\n",
       "      <td>0.000116</td>\n",
       "      <td>1.478994e-05</td>\n",
       "    </tr>\n",
       "    <tr>\n",
       "      <th>1</th>\n",
       "      <td>sample_6160_82</td>\n",
       "      <td>bf38b41</td>\n",
       "      <td>2</td>\n",
       "      <td>2031-04-01</td>\n",
       "      <td>0.000116</td>\n",
       "      <td>1.478994e-05</td>\n",
       "    </tr>\n",
       "    <tr>\n",
       "      <th>2</th>\n",
       "      <td>sample_6160_82</td>\n",
       "      <td>adc6bab</td>\n",
       "      <td>3</td>\n",
       "      <td>2031-04-01</td>\n",
       "      <td>0.000116</td>\n",
       "      <td>1.478994e-05</td>\n",
       "    </tr>\n",
       "    <tr>\n",
       "      <th>3</th>\n",
       "      <td>sample_6164_8</td>\n",
       "      <td>371216c</td>\n",
       "      <td>0</td>\n",
       "      <td>2031-04-01</td>\n",
       "      <td>0.000159</td>\n",
       "      <td>3.590551e-14</td>\n",
       "    </tr>\n",
       "    <tr>\n",
       "      <th>4</th>\n",
       "      <td>sample_6164_8</td>\n",
       "      <td>bf38b41</td>\n",
       "      <td>2</td>\n",
       "      <td>2031-04-01</td>\n",
       "      <td>0.000159</td>\n",
       "      <td>3.590551e-14</td>\n",
       "    </tr>\n",
       "  </tbody>\n",
       "</table>\n",
       "</div>"
      ],
      "text/plain": [
       "           strain clade_membership  depth  timepoint  frequency  \\\n",
       "0  sample_6160_82          371216c      0 2031-04-01   0.000116   \n",
       "1  sample_6160_82          bf38b41      2 2031-04-01   0.000116   \n",
       "2  sample_6160_82          adc6bab      3 2031-04-01   0.000116   \n",
       "3   sample_6164_8          371216c      0 2031-04-01   0.000159   \n",
       "4   sample_6164_8          bf38b41      2 2031-04-01   0.000159   \n",
       "\n",
       "   projected_frequency  \n",
       "0         1.478994e-05  \n",
       "1         1.478994e-05  \n",
       "2         1.478994e-05  \n",
       "3         3.590551e-14  \n",
       "4         3.590551e-14  "
      ]
     },
     "execution_count": 44,
     "metadata": {},
     "output_type": "execute_result"
    }
   ],
   "source": [
    "clade_tip_estimated_frequencies.head()"
   ]
  },
  {
   "cell_type": "code",
   "execution_count": 45,
   "metadata": {},
   "outputs": [],
   "source": [
    "estimated_clade_frequencies = clade_tip_estimated_frequencies.groupby(\n",
    "    [\"timepoint\", \"clade_membership\"]\n",
    ").aggregate({\"projected_frequency\": \"sum\"}).reset_index()"
   ]
  },
  {
   "cell_type": "code",
   "execution_count": 46,
   "metadata": {},
   "outputs": [
    {
     "data": {
      "text/html": [
       "<div>\n",
       "<style scoped>\n",
       "    .dataframe tbody tr th:only-of-type {\n",
       "        vertical-align: middle;\n",
       "    }\n",
       "\n",
       "    .dataframe tbody tr th {\n",
       "        vertical-align: top;\n",
       "    }\n",
       "\n",
       "    .dataframe thead th {\n",
       "        text-align: right;\n",
       "    }\n",
       "</style>\n",
       "<table border=\"1\" class=\"dataframe\">\n",
       "  <thead>\n",
       "    <tr style=\"text-align: right;\">\n",
       "      <th></th>\n",
       "      <th>timepoint</th>\n",
       "      <th>clade_membership</th>\n",
       "      <th>projected_frequency</th>\n",
       "    </tr>\n",
       "  </thead>\n",
       "  <tbody>\n",
       "    <tr>\n",
       "      <th>0</th>\n",
       "      <td>2031-04-01</td>\n",
       "      <td>00bae18</td>\n",
       "      <td>1.140116e-04</td>\n",
       "    </tr>\n",
       "    <tr>\n",
       "      <th>1</th>\n",
       "      <td>2031-04-01</td>\n",
       "      <td>03167e3</td>\n",
       "      <td>6.055102e-01</td>\n",
       "    </tr>\n",
       "    <tr>\n",
       "      <th>2</th>\n",
       "      <td>2031-04-01</td>\n",
       "      <td>051218a</td>\n",
       "      <td>1.196860e-11</td>\n",
       "    </tr>\n",
       "    <tr>\n",
       "      <th>3</th>\n",
       "      <td>2031-04-01</td>\n",
       "      <td>09d720d</td>\n",
       "      <td>8.444445e-08</td>\n",
       "    </tr>\n",
       "    <tr>\n",
       "      <th>4</th>\n",
       "      <td>2031-04-01</td>\n",
       "      <td>0a86408</td>\n",
       "      <td>5.899229e-03</td>\n",
       "    </tr>\n",
       "  </tbody>\n",
       "</table>\n",
       "</div>"
      ],
      "text/plain": [
       "   timepoint clade_membership  projected_frequency\n",
       "0 2031-04-01          00bae18         1.140116e-04\n",
       "1 2031-04-01          03167e3         6.055102e-01\n",
       "2 2031-04-01          051218a         1.196860e-11\n",
       "3 2031-04-01          09d720d         8.444445e-08\n",
       "4 2031-04-01          0a86408         5.899229e-03"
      ]
     },
     "execution_count": 46,
     "metadata": {},
     "output_type": "execute_result"
    }
   ],
   "source": [
    "estimated_clade_frequencies.head()"
   ]
  },
  {
   "cell_type": "code",
   "execution_count": 47,
   "metadata": {},
   "outputs": [],
   "source": [
    "complete_clade_frequencies = large_clades.merge(\n",
    "    estimated_clade_frequencies,\n",
    "    on=[\"timepoint\", \"clade_membership\"],\n",
    "    suffixes=[\"\", \"_other\"]\n",
    ")"
   ]
  },
  {
   "cell_type": "code",
   "execution_count": 48,
   "metadata": {},
   "outputs": [],
   "source": [
    "complete_clade_frequencies = np.round(complete_clade_frequencies, 2)"
   ]
  },
  {
   "cell_type": "code",
   "execution_count": 49,
   "metadata": {},
   "outputs": [],
   "source": [
    "complete_clade_frequencies = complete_clade_frequencies.query(\"frequency != frequency_final\").copy()"
   ]
  },
  {
   "cell_type": "code",
   "execution_count": 50,
   "metadata": {},
   "outputs": [
    {
     "data": {
      "text/plain": [
       "(129, 5)"
      ]
     },
     "execution_count": 50,
     "metadata": {},
     "output_type": "execute_result"
    }
   ],
   "source": [
    "complete_clade_frequencies.shape"
   ]
  },
  {
   "cell_type": "code",
   "execution_count": 51,
   "metadata": {},
   "outputs": [],
   "source": [
    "complete_clade_frequencies[\"observed_growth_rate\"] = (\n",
    "    complete_clade_frequencies[\"frequency_final\"] / complete_clade_frequencies[\"frequency\"]\n",
    ")"
   ]
  },
  {
   "cell_type": "code",
   "execution_count": 52,
   "metadata": {},
   "outputs": [],
   "source": [
    "complete_clade_frequencies[\"estimated_growth_rate\"] = (\n",
    "    complete_clade_frequencies[\"projected_frequency\"] / complete_clade_frequencies[\"frequency\"]\n",
    ")"
   ]
  },
  {
   "cell_type": "code",
   "execution_count": 53,
   "metadata": {},
   "outputs": [
    {
     "data": {
      "application/vnd.vegalite.v3+json": {
       "$schema": "https://vega.github.io/schema/vega-lite/v3.3.0.json",
       "config": {
        "mark": {
         "tooltip": null
        },
        "view": {
         "height": 300,
         "width": 400
        }
       },
       "data": {
        "name": "data-b9591b2de7e399e78fa28da656929ef3"
       },
       "datasets": {
        "data-b9591b2de7e399e78fa28da656929ef3": [
         {
          "clade_membership": "03167e3",
          "estimated_growth_rate": 3.8125,
          "frequency": 0.16,
          "frequency_final": 0.98,
          "observed_growth_rate": 6.125,
          "projected_frequency": 0.61,
          "timepoint": "2031-04-01T00:00:00"
         },
         {
          "clade_membership": "1238505",
          "estimated_growth_rate": 1.5319148936170213,
          "frequency": 0.47,
          "frequency_final": 0.98,
          "observed_growth_rate": 2.0851063829787235,
          "projected_frequency": 0.72,
          "timepoint": "2031-04-01T00:00:00"
         },
         {
          "clade_membership": "236447c",
          "estimated_growth_rate": 1.053763440860215,
          "frequency": 0.93,
          "frequency_final": 1,
          "observed_growth_rate": 1.075268817204301,
          "projected_frequency": 0.98,
          "timepoint": "2031-04-01T00:00:00"
         },
         {
          "clade_membership": "30dddad",
          "estimated_growth_rate": 1.6363636363636362,
          "frequency": 0.44,
          "frequency_final": 0.98,
          "observed_growth_rate": 2.227272727272727,
          "projected_frequency": 0.72,
          "timepoint": "2031-04-01T00:00:00"
         },
         {
          "clade_membership": "695af4b",
          "estimated_growth_rate": 0.8076923076923076,
          "frequency": 0.26,
          "frequency_final": 0.02,
          "observed_growth_rate": 0.07692307692307693,
          "projected_frequency": 0.21,
          "timepoint": "2031-04-01T00:00:00"
         },
         {
          "clade_membership": "770f3bd",
          "estimated_growth_rate": 1.010204081632653,
          "frequency": 0.98,
          "frequency_final": 1,
          "observed_growth_rate": 1.0204081632653061,
          "projected_frequency": 0.99,
          "timepoint": "2031-04-01T00:00:00"
         },
         {
          "clade_membership": "9b4a668",
          "estimated_growth_rate": 1.5319148936170213,
          "frequency": 0.47,
          "frequency_final": 0.98,
          "observed_growth_rate": 2.0851063829787235,
          "projected_frequency": 0.72,
          "timepoint": "2031-04-01T00:00:00"
         },
         {
          "clade_membership": "a6f28c4",
          "estimated_growth_rate": 0.6046511627906977,
          "frequency": 0.43,
          "frequency_final": 0.02,
          "observed_growth_rate": 0.046511627906976744,
          "projected_frequency": 0.26,
          "timepoint": "2031-04-01T00:00:00"
         },
         {
          "clade_membership": "d5f7e81",
          "estimated_growth_rate": 0.7352941176470588,
          "frequency": 0.34,
          "frequency_final": 0.02,
          "observed_growth_rate": 0.058823529411764705,
          "projected_frequency": 0.25,
          "timepoint": "2031-04-01T00:00:00"
         },
         {
          "clade_membership": "03167e3",
          "estimated_growth_rate": 1.2857142857142856,
          "frequency": 0.77,
          "frequency_final": 1,
          "observed_growth_rate": 1.2987012987012987,
          "projected_frequency": 0.99,
          "timepoint": "2031-10-01T00:00:00"
         },
         {
          "clade_membership": "1131d57",
          "estimated_growth_rate": 1.4347826086956523,
          "frequency": 0.69,
          "frequency_final": 1,
          "observed_growth_rate": 1.4492753623188408,
          "projected_frequency": 0.99,
          "timepoint": "2031-10-01T00:00:00"
         },
         {
          "clade_membership": "1238505",
          "estimated_growth_rate": 1.222222222222222,
          "frequency": 0.81,
          "frequency_final": 1,
          "observed_growth_rate": 1.2345679012345678,
          "projected_frequency": 0.99,
          "timepoint": "2031-10-01T00:00:00"
         },
         {
          "clade_membership": "30dddad",
          "estimated_growth_rate": 1.222222222222222,
          "frequency": 0.81,
          "frequency_final": 1,
          "observed_growth_rate": 1.2345679012345678,
          "projected_frequency": 0.99,
          "timepoint": "2031-10-01T00:00:00"
         },
         {
          "clade_membership": "695af4b",
          "estimated_growth_rate": 0.05263157894736842,
          "frequency": 0.19,
          "frequency_final": 0,
          "observed_growth_rate": 0,
          "projected_frequency": 0.01,
          "timepoint": "2031-10-01T00:00:00"
         },
         {
          "clade_membership": "76bbf87",
          "estimated_growth_rate": 0.06666666666666667,
          "frequency": 0.15,
          "frequency_final": 0,
          "observed_growth_rate": 0,
          "projected_frequency": 0.01,
          "timepoint": "2031-10-01T00:00:00"
         },
         {
          "clade_membership": "9b4a668",
          "estimated_growth_rate": 1.222222222222222,
          "frequency": 0.81,
          "frequency_final": 1,
          "observed_growth_rate": 1.2345679012345678,
          "projected_frequency": 0.99,
          "timepoint": "2031-10-01T00:00:00"
         },
         {
          "clade_membership": "a6f28c4",
          "estimated_growth_rate": 0.05263157894736842,
          "frequency": 0.19,
          "frequency_final": 0,
          "observed_growth_rate": 0,
          "projected_frequency": 0.01,
          "timepoint": "2031-10-01T00:00:00"
         },
         {
          "clade_membership": "d5f7e81",
          "estimated_growth_rate": 0.05263157894736842,
          "frequency": 0.19,
          "frequency_final": 0,
          "observed_growth_rate": 0,
          "projected_frequency": 0.01,
          "timepoint": "2031-10-01T00:00:00"
         },
         {
          "clade_membership": "e6d6cf6",
          "estimated_growth_rate": 1.4347826086956523,
          "frequency": 0.69,
          "frequency_final": 1,
          "observed_growth_rate": 1.4492753623188408,
          "projected_frequency": 0.99,
          "timepoint": "2031-10-01T00:00:00"
         },
         {
          "clade_membership": "03167e3",
          "estimated_growth_rate": 1.0204081632653061,
          "frequency": 0.98,
          "frequency_final": 1,
          "observed_growth_rate": 1.0204081632653061,
          "projected_frequency": 1,
          "timepoint": "2032-04-01T00:00:00"
         },
         {
          "clade_membership": "1131d57",
          "estimated_growth_rate": 1.0416666666666667,
          "frequency": 0.96,
          "frequency_final": 1,
          "observed_growth_rate": 1.0416666666666667,
          "projected_frequency": 1,
          "timepoint": "2032-04-01T00:00:00"
         },
         {
          "clade_membership": "1238505",
          "estimated_growth_rate": 1.0204081632653061,
          "frequency": 0.98,
          "frequency_final": 1,
          "observed_growth_rate": 1.0204081632653061,
          "projected_frequency": 1,
          "timepoint": "2032-04-01T00:00:00"
         },
         {
          "clade_membership": "16b37cd",
          "estimated_growth_rate": 3,
          "frequency": 0.17,
          "frequency_final": 0.2,
          "observed_growth_rate": 1.1764705882352942,
          "projected_frequency": 0.51,
          "timepoint": "2032-04-01T00:00:00"
         },
         {
          "clade_membership": "30dddad",
          "estimated_growth_rate": 1.0204081632653061,
          "frequency": 0.98,
          "frequency_final": 1,
          "observed_growth_rate": 1.0204081632653061,
          "projected_frequency": 1,
          "timepoint": "2032-04-01T00:00:00"
         },
         {
          "clade_membership": "5c73ba7",
          "estimated_growth_rate": 0.3333333333333333,
          "frequency": 0.18,
          "frequency_final": 0.08,
          "observed_growth_rate": 0.4444444444444445,
          "projected_frequency": 0.06,
          "timepoint": "2032-04-01T00:00:00"
         },
         {
          "clade_membership": "9b4a668",
          "estimated_growth_rate": 1.0204081632653061,
          "frequency": 0.98,
          "frequency_final": 1,
          "observed_growth_rate": 1.0204081632653061,
          "projected_frequency": 1,
          "timepoint": "2032-04-01T00:00:00"
         },
         {
          "clade_membership": "9c89bcc",
          "estimated_growth_rate": 2.217391304347826,
          "frequency": 0.23,
          "frequency_final": 0.2,
          "observed_growth_rate": 0.8695652173913043,
          "projected_frequency": 0.51,
          "timepoint": "2032-04-01T00:00:00"
         },
         {
          "clade_membership": "e6d6cf6",
          "estimated_growth_rate": 1.0416666666666667,
          "frequency": 0.96,
          "frequency_final": 1,
          "observed_growth_rate": 1.0416666666666667,
          "projected_frequency": 1,
          "timepoint": "2032-04-01T00:00:00"
         },
         {
          "clade_membership": "f8cdb25",
          "estimated_growth_rate": 0.3333333333333333,
          "frequency": 0.18,
          "frequency_final": 0.08,
          "observed_growth_rate": 0.4444444444444445,
          "projected_frequency": 0.06,
          "timepoint": "2032-04-01T00:00:00"
         },
         {
          "clade_membership": "16b37cd",
          "estimated_growth_rate": 1.2608695652173911,
          "frequency": 0.23,
          "frequency_final": 0.07,
          "observed_growth_rate": 0.30434782608695654,
          "projected_frequency": 0.29,
          "timepoint": "2032-10-01T00:00:00"
         },
         {
          "clade_membership": "252cee5",
          "estimated_growth_rate": 1.1153846153846152,
          "frequency": 0.26,
          "frequency_final": 0.01,
          "observed_growth_rate": 0.038461538461538464,
          "projected_frequency": 0.29,
          "timepoint": "2032-10-01T00:00:00"
         },
         {
          "clade_membership": "5c73ba7",
          "estimated_growth_rate": 1.0416666666666667,
          "frequency": 0.24,
          "frequency_final": 0,
          "observed_growth_rate": 0,
          "projected_frequency": 0.25,
          "timepoint": "2032-10-01T00:00:00"
         },
         {
          "clade_membership": "9c89bcc",
          "estimated_growth_rate": 1.2083333333333333,
          "frequency": 0.24,
          "frequency_final": 0.07,
          "observed_growth_rate": 0.2916666666666667,
          "projected_frequency": 0.29,
          "timepoint": "2032-10-01T00:00:00"
         },
         {
          "clade_membership": "bf8fcc9",
          "estimated_growth_rate": 1.121212121212121,
          "frequency": 0.33,
          "frequency_final": 0.01,
          "observed_growth_rate": 0.030303030303030304,
          "projected_frequency": 0.37,
          "timepoint": "2032-10-01T00:00:00"
         },
         {
          "clade_membership": "f8cdb25",
          "estimated_growth_rate": 1.0416666666666667,
          "frequency": 0.24,
          "frequency_final": 0,
          "observed_growth_rate": 0,
          "projected_frequency": 0.25,
          "timepoint": "2032-10-01T00:00:00"
         },
         {
          "clade_membership": "16b37cd",
          "estimated_growth_rate": 0.25,
          "frequency": 0.2,
          "frequency_final": 0.01,
          "observed_growth_rate": 0.049999999999999996,
          "projected_frequency": 0.05,
          "timepoint": "2033-04-01T00:00:00"
         },
         {
          "clade_membership": "1d3258f",
          "estimated_growth_rate": 2.021276595744681,
          "frequency": 0.47,
          "frequency_final": 0.99,
          "observed_growth_rate": 2.1063829787234045,
          "projected_frequency": 0.95,
          "timepoint": "2033-04-01T00:00:00"
         },
         {
          "clade_membership": "1f3dd6e",
          "estimated_growth_rate": 1.8269230769230769,
          "frequency": 0.52,
          "frequency_final": 0.99,
          "observed_growth_rate": 1.9038461538461537,
          "projected_frequency": 0.95,
          "timepoint": "2033-04-01T00:00:00"
         },
         {
          "clade_membership": "68a7b72",
          "estimated_growth_rate": 1.8627450980392155,
          "frequency": 0.51,
          "frequency_final": 0.99,
          "observed_growth_rate": 1.9411764705882353,
          "projected_frequency": 0.95,
          "timepoint": "2033-04-01T00:00:00"
         },
         {
          "clade_membership": "75440f6",
          "estimated_growth_rate": 1.8627450980392155,
          "frequency": 0.51,
          "frequency_final": 0.99,
          "observed_growth_rate": 1.9411764705882353,
          "projected_frequency": 0.95,
          "timepoint": "2033-04-01T00:00:00"
         },
         {
          "clade_membership": "9c89bcc",
          "estimated_growth_rate": 0.25,
          "frequency": 0.2,
          "frequency_final": 0.01,
          "observed_growth_rate": 0.049999999999999996,
          "projected_frequency": 0.05,
          "timepoint": "2033-04-01T00:00:00"
         },
         {
          "clade_membership": "abee784",
          "estimated_growth_rate": 1.8269230769230769,
          "frequency": 0.52,
          "frequency_final": 0.99,
          "observed_growth_rate": 1.9038461538461537,
          "projected_frequency": 0.95,
          "timepoint": "2033-04-01T00:00:00"
         },
         {
          "clade_membership": "01bd8b7",
          "estimated_growth_rate": 2.1904761904761907,
          "frequency": 0.21,
          "frequency_final": 0.93,
          "observed_growth_rate": 4.428571428571429,
          "projected_frequency": 0.46,
          "timepoint": "2033-10-01T00:00:00"
         },
         {
          "clade_membership": "1d3258f",
          "estimated_growth_rate": 1.076086956521739,
          "frequency": 0.92,
          "frequency_final": 1,
          "observed_growth_rate": 1.0869565217391304,
          "projected_frequency": 0.99,
          "timepoint": "2033-10-01T00:00:00"
         },
         {
          "clade_membership": "1f3dd6e",
          "estimated_growth_rate": 1.076086956521739,
          "frequency": 0.92,
          "frequency_final": 1,
          "observed_growth_rate": 1.0869565217391304,
          "projected_frequency": 0.99,
          "timepoint": "2033-10-01T00:00:00"
         },
         {
          "clade_membership": "68a7b72",
          "estimated_growth_rate": 1.076086956521739,
          "frequency": 0.92,
          "frequency_final": 1,
          "observed_growth_rate": 1.0869565217391304,
          "projected_frequency": 0.99,
          "timepoint": "2033-10-01T00:00:00"
         },
         {
          "clade_membership": "75440f6",
          "estimated_growth_rate": 1.076086956521739,
          "frequency": 0.92,
          "frequency_final": 1,
          "observed_growth_rate": 1.0869565217391304,
          "projected_frequency": 0.99,
          "timepoint": "2033-10-01T00:00:00"
         },
         {
          "clade_membership": "8d6504d",
          "estimated_growth_rate": 1.375,
          "frequency": 0.16,
          "frequency_final": 0.05,
          "observed_growth_rate": 0.3125,
          "projected_frequency": 0.22,
          "timepoint": "2033-10-01T00:00:00"
         },
         {
          "clade_membership": "abee784",
          "estimated_growth_rate": 1.076086956521739,
          "frequency": 0.92,
          "frequency_final": 1,
          "observed_growth_rate": 1.0869565217391304,
          "projected_frequency": 0.99,
          "timepoint": "2033-10-01T00:00:00"
         },
         {
          "clade_membership": "01bd8b7",
          "estimated_growth_rate": 1.94,
          "frequency": 0.5,
          "frequency_final": 1,
          "observed_growth_rate": 2,
          "projected_frequency": 0.97,
          "timepoint": "2034-04-01T00:00:00"
         },
         {
          "clade_membership": "163f34a",
          "estimated_growth_rate": 4.173913043478261,
          "frequency": 0.23,
          "frequency_final": 1,
          "observed_growth_rate": 4.3478260869565215,
          "projected_frequency": 0.96,
          "timepoint": "2034-04-01T00:00:00"
         },
         {
          "clade_membership": "1d3258f",
          "estimated_growth_rate": 1.0101010101010102,
          "frequency": 0.99,
          "frequency_final": 1,
          "observed_growth_rate": 1.0101010101010102,
          "projected_frequency": 1,
          "timepoint": "2034-04-01T00:00:00"
         },
         {
          "clade_membership": "1f3dd6e",
          "estimated_growth_rate": 1.0101010101010102,
          "frequency": 0.99,
          "frequency_final": 1,
          "observed_growth_rate": 1.0101010101010102,
          "projected_frequency": 1,
          "timepoint": "2034-04-01T00:00:00"
         },
         {
          "clade_membership": "68a7b72",
          "estimated_growth_rate": 1.0101010101010102,
          "frequency": 0.99,
          "frequency_final": 1,
          "observed_growth_rate": 1.0101010101010102,
          "projected_frequency": 1,
          "timepoint": "2034-04-01T00:00:00"
         },
         {
          "clade_membership": "75440f6",
          "estimated_growth_rate": 1.0101010101010102,
          "frequency": 0.99,
          "frequency_final": 1,
          "observed_growth_rate": 1.0101010101010102,
          "projected_frequency": 1,
          "timepoint": "2034-04-01T00:00:00"
         },
         {
          "clade_membership": "8d6504d",
          "estimated_growth_rate": 0.07692307692307693,
          "frequency": 0.26,
          "frequency_final": 0,
          "observed_growth_rate": 0,
          "projected_frequency": 0.02,
          "timepoint": "2034-04-01T00:00:00"
         },
         {
          "clade_membership": "9ec61ef",
          "estimated_growth_rate": 0.058823529411764705,
          "frequency": 0.17,
          "frequency_final": 0,
          "observed_growth_rate": 0,
          "projected_frequency": 0.01,
          "timepoint": "2034-04-01T00:00:00"
         },
         {
          "clade_membership": "a97419a",
          "estimated_growth_rate": 4.173913043478261,
          "frequency": 0.23,
          "frequency_final": 1,
          "observed_growth_rate": 4.3478260869565215,
          "projected_frequency": 0.96,
          "timepoint": "2034-04-01T00:00:00"
         },
         {
          "clade_membership": "abee784",
          "estimated_growth_rate": 1.0101010101010102,
          "frequency": 0.99,
          "frequency_final": 1,
          "observed_growth_rate": 1.0101010101010102,
          "projected_frequency": 1,
          "timepoint": "2034-04-01T00:00:00"
         },
         {
          "clade_membership": "f13c38d",
          "estimated_growth_rate": 4.173913043478261,
          "frequency": 0.23,
          "frequency_final": 1,
          "observed_growth_rate": 4.3478260869565215,
          "projected_frequency": 0.96,
          "timepoint": "2034-04-01T00:00:00"
         },
         {
          "clade_membership": "01bd8b7",
          "estimated_growth_rate": 1.075268817204301,
          "frequency": 0.93,
          "frequency_final": 1,
          "observed_growth_rate": 1.075268817204301,
          "projected_frequency": 1,
          "timepoint": "2034-10-01T00:00:00"
         },
         {
          "clade_membership": "163f34a",
          "estimated_growth_rate": 1.0999999999999999,
          "frequency": 0.9,
          "frequency_final": 1,
          "observed_growth_rate": 1.1111111111111112,
          "projected_frequency": 0.99,
          "timepoint": "2034-10-01T00:00:00"
         },
         {
          "clade_membership": "4c17808",
          "estimated_growth_rate": 1.6666666666666667,
          "frequency": 0.57,
          "frequency_final": 0.98,
          "observed_growth_rate": 1.719298245614035,
          "projected_frequency": 0.95,
          "timepoint": "2034-10-01T00:00:00"
         },
         {
          "clade_membership": "a97419a",
          "estimated_growth_rate": 1.0999999999999999,
          "frequency": 0.9,
          "frequency_final": 1,
          "observed_growth_rate": 1.1111111111111112,
          "projected_frequency": 0.99,
          "timepoint": "2034-10-01T00:00:00"
         },
         {
          "clade_membership": "baec3f4",
          "estimated_growth_rate": 1.727272727272727,
          "frequency": 0.55,
          "frequency_final": 0.97,
          "observed_growth_rate": 1.7636363636363634,
          "projected_frequency": 0.95,
          "timepoint": "2034-10-01T00:00:00"
         },
         {
          "clade_membership": "d48329b",
          "estimated_growth_rate": 1.473684210526316,
          "frequency": 0.19,
          "frequency_final": 0.13,
          "observed_growth_rate": 0.6842105263157895,
          "projected_frequency": 0.28,
          "timepoint": "2034-10-01T00:00:00"
         },
         {
          "clade_membership": "f13c38d",
          "estimated_growth_rate": 1.0999999999999999,
          "frequency": 0.9,
          "frequency_final": 1,
          "observed_growth_rate": 1.1111111111111112,
          "projected_frequency": 0.99,
          "timepoint": "2034-10-01T00:00:00"
         },
         {
          "clade_membership": "f7aaa9e",
          "estimated_growth_rate": 2.0588235294117645,
          "frequency": 0.17,
          "frequency_final": 0.24,
          "observed_growth_rate": 1.4117647058823528,
          "projected_frequency": 0.35,
          "timepoint": "2034-10-01T00:00:00"
         },
         {
          "clade_membership": "4a3be37",
          "estimated_growth_rate": 1.9473684210526316,
          "frequency": 0.19,
          "frequency_final": 0.65,
          "observed_growth_rate": 3.4210526315789473,
          "projected_frequency": 0.37,
          "timepoint": "2035-04-01T00:00:00"
         },
         {
          "clade_membership": "4c17808",
          "estimated_growth_rate": 1.064516129032258,
          "frequency": 0.93,
          "frequency_final": 1,
          "observed_growth_rate": 1.075268817204301,
          "projected_frequency": 0.99,
          "timepoint": "2035-04-01T00:00:00"
         },
         {
          "clade_membership": "baec3f4",
          "estimated_growth_rate": 1.0909090909090908,
          "frequency": 0.88,
          "frequency_final": 1,
          "observed_growth_rate": 1.1363636363636365,
          "projected_frequency": 0.96,
          "timepoint": "2035-04-01T00:00:00"
         },
         {
          "clade_membership": "d48329b",
          "estimated_growth_rate": 0.4230769230769231,
          "frequency": 0.26,
          "frequency_final": 0.03,
          "observed_growth_rate": 0.11538461538461538,
          "projected_frequency": 0.11,
          "timepoint": "2035-04-01T00:00:00"
         },
         {
          "clade_membership": "4a3be37",
          "estimated_growth_rate": 2.142857142857143,
          "frequency": 0.35,
          "frequency_final": 0.82,
          "observed_growth_rate": 2.342857142857143,
          "projected_frequency": 0.75,
          "timepoint": "2035-10-01T00:00:00"
         },
         {
          "clade_membership": "4c17808",
          "estimated_growth_rate": 1.010204081632653,
          "frequency": 0.98,
          "frequency_final": 1,
          "observed_growth_rate": 1.0204081632653061,
          "projected_frequency": 0.99,
          "timepoint": "2035-10-01T00:00:00"
         },
         {
          "clade_membership": "b57c83a",
          "estimated_growth_rate": 2.142857142857143,
          "frequency": 0.35,
          "frequency_final": 0.82,
          "observed_growth_rate": 2.342857142857143,
          "projected_frequency": 0.75,
          "timepoint": "2035-10-01T00:00:00"
         },
         {
          "clade_membership": "baec3f4",
          "estimated_growth_rate": 1.0206185567010309,
          "frequency": 0.97,
          "frequency_final": 1,
          "observed_growth_rate": 1.0309278350515465,
          "projected_frequency": 0.99,
          "timepoint": "2035-10-01T00:00:00"
         },
         {
          "clade_membership": "bc4b01e",
          "estimated_growth_rate": 3.3157894736842106,
          "frequency": 0.19,
          "frequency_final": 0.62,
          "observed_growth_rate": 3.263157894736842,
          "projected_frequency": 0.63,
          "timepoint": "2035-10-01T00:00:00"
         },
         {
          "clade_membership": "f7aaa9e",
          "estimated_growth_rate": 0.5,
          "frequency": 0.24,
          "frequency_final": 0.09,
          "observed_growth_rate": 0.375,
          "projected_frequency": 0.12,
          "timepoint": "2035-10-01T00:00:00"
         },
         {
          "clade_membership": "06eb6a0",
          "estimated_growth_rate": 0.33333333333333337,
          "frequency": 0.21,
          "frequency_final": 0.01,
          "observed_growth_rate": 0.04761904761904762,
          "projected_frequency": 0.07,
          "timepoint": "2036-04-01T00:00:00"
         },
         {
          "clade_membership": "4a3be37",
          "estimated_growth_rate": 1.2461538461538462,
          "frequency": 0.65,
          "frequency_final": 0.96,
          "observed_growth_rate": 1.4769230769230768,
          "projected_frequency": 0.81,
          "timepoint": "2036-04-01T00:00:00"
         },
         {
          "clade_membership": "79987d7",
          "estimated_growth_rate": 2.266666666666667,
          "frequency": 0.3,
          "frequency_final": 0.95,
          "observed_growth_rate": 3.1666666666666665,
          "projected_frequency": 0.68,
          "timepoint": "2036-04-01T00:00:00"
         },
         {
          "clade_membership": "ac1a4c3",
          "estimated_growth_rate": 0.33333333333333337,
          "frequency": 0.21,
          "frequency_final": 0.01,
          "observed_growth_rate": 0.04761904761904762,
          "projected_frequency": 0.07,
          "timepoint": "2036-04-01T00:00:00"
         },
         {
          "clade_membership": "b57c83a",
          "estimated_growth_rate": 1.2461538461538462,
          "frequency": 0.65,
          "frequency_final": 0.96,
          "observed_growth_rate": 1.4769230769230768,
          "projected_frequency": 0.81,
          "timepoint": "2036-04-01T00:00:00"
         },
         {
          "clade_membership": "bc4b01e",
          "estimated_growth_rate": 1.7209302325581395,
          "frequency": 0.43,
          "frequency_final": 0.95,
          "observed_growth_rate": 2.2093023255813953,
          "projected_frequency": 0.74,
          "timepoint": "2036-04-01T00:00:00"
         },
         {
          "clade_membership": "f7aaa9e",
          "estimated_growth_rate": 0.7894736842105263,
          "frequency": 0.19,
          "frequency_final": 0.01,
          "observed_growth_rate": 0.05263157894736842,
          "projected_frequency": 0.15,
          "timepoint": "2036-04-01T00:00:00"
         },
         {
          "clade_membership": "4a3be37",
          "estimated_growth_rate": 0.9878048780487806,
          "frequency": 0.82,
          "frequency_final": 1,
          "observed_growth_rate": 1.2195121951219512,
          "projected_frequency": 0.81,
          "timepoint": "2036-10-01T00:00:00"
         },
         {
          "clade_membership": "79987d7",
          "estimated_growth_rate": 1.0333333333333334,
          "frequency": 0.6,
          "frequency_final": 1,
          "observed_growth_rate": 1.6666666666666667,
          "projected_frequency": 0.62,
          "timepoint": "2036-10-01T00:00:00"
         },
         {
          "clade_membership": "a125a94",
          "estimated_growth_rate": 1.4761904761904763,
          "frequency": 0.21,
          "frequency_final": 0.01,
          "observed_growth_rate": 0.04761904761904762,
          "projected_frequency": 0.31,
          "timepoint": "2036-10-01T00:00:00"
         },
         {
          "clade_membership": "b57c83a",
          "estimated_growth_rate": 0.9878048780487806,
          "frequency": 0.82,
          "frequency_final": 1,
          "observed_growth_rate": 1.2195121951219512,
          "projected_frequency": 0.81,
          "timepoint": "2036-10-01T00:00:00"
         },
         {
          "clade_membership": "bc4b01e",
          "estimated_growth_rate": 1.0161290322580645,
          "frequency": 0.62,
          "frequency_final": 1,
          "observed_growth_rate": 1.6129032258064517,
          "projected_frequency": 0.63,
          "timepoint": "2036-10-01T00:00:00"
         },
         {
          "clade_membership": "0439b91",
          "estimated_growth_rate": 1.2195121951219512,
          "frequency": 0.82,
          "frequency_final": 1,
          "observed_growth_rate": 1.2195121951219512,
          "projected_frequency": 1,
          "timepoint": "2037-04-01T00:00:00"
         },
         {
          "clade_membership": "4246a11",
          "estimated_growth_rate": 0.92,
          "frequency": 0.25,
          "frequency_final": 0.9,
          "observed_growth_rate": 3.6,
          "projected_frequency": 0.23,
          "timepoint": "2037-04-01T00:00:00"
         },
         {
          "clade_membership": "4a3be37",
          "estimated_growth_rate": 1.0416666666666667,
          "frequency": 0.96,
          "frequency_final": 1,
          "observed_growth_rate": 1.0416666666666667,
          "projected_frequency": 1,
          "timepoint": "2037-04-01T00:00:00"
         },
         {
          "clade_membership": "79987d7",
          "estimated_growth_rate": 1.0526315789473684,
          "frequency": 0.95,
          "frequency_final": 1,
          "observed_growth_rate": 1.0526315789473684,
          "projected_frequency": 1,
          "timepoint": "2037-04-01T00:00:00"
         },
         {
          "clade_membership": "8bdf79b",
          "estimated_growth_rate": 1.1494252873563218,
          "frequency": 0.87,
          "frequency_final": 1,
          "observed_growth_rate": 1.1494252873563218,
          "projected_frequency": 1,
          "timepoint": "2037-04-01T00:00:00"
         },
         {
          "clade_membership": "8e92da7",
          "estimated_growth_rate": 1.1494252873563218,
          "frequency": 0.87,
          "frequency_final": 1,
          "observed_growth_rate": 1.1494252873563218,
          "projected_frequency": 1,
          "timepoint": "2037-04-01T00:00:00"
         },
         {
          "clade_membership": "a2f1320",
          "estimated_growth_rate": 1.4999999999999998,
          "frequency": 0.2,
          "frequency_final": 0.01,
          "observed_growth_rate": 0.049999999999999996,
          "projected_frequency": 0.3,
          "timepoint": "2037-04-01T00:00:00"
         },
         {
          "clade_membership": "b57c83a",
          "estimated_growth_rate": 1.0416666666666667,
          "frequency": 0.96,
          "frequency_final": 1,
          "observed_growth_rate": 1.0416666666666667,
          "projected_frequency": 1,
          "timepoint": "2037-04-01T00:00:00"
         },
         {
          "clade_membership": "bc4b01e",
          "estimated_growth_rate": 1.0526315789473684,
          "frequency": 0.95,
          "frequency_final": 1,
          "observed_growth_rate": 1.0526315789473684,
          "projected_frequency": 1,
          "timepoint": "2037-04-01T00:00:00"
         },
         {
          "clade_membership": "fcc72c3",
          "estimated_growth_rate": 1.1363636363636365,
          "frequency": 0.88,
          "frequency_final": 1,
          "observed_growth_rate": 1.1363636363636365,
          "projected_frequency": 1,
          "timepoint": "2037-04-01T00:00:00"
         },
         {
          "clade_membership": "0439b91",
          "estimated_growth_rate": 1.0101010101010102,
          "frequency": 0.99,
          "frequency_final": 1,
          "observed_growth_rate": 1.0101010101010102,
          "projected_frequency": 1,
          "timepoint": "2037-10-01T00:00:00"
         },
         {
          "clade_membership": "8bdf79b",
          "estimated_growth_rate": 1.0101010101010102,
          "frequency": 0.99,
          "frequency_final": 1,
          "observed_growth_rate": 1.0101010101010102,
          "projected_frequency": 1,
          "timepoint": "2037-10-01T00:00:00"
         },
         {
          "clade_membership": "8e92da7",
          "estimated_growth_rate": 1.0101010101010102,
          "frequency": 0.99,
          "frequency_final": 1,
          "observed_growth_rate": 1.0101010101010102,
          "projected_frequency": 1,
          "timepoint": "2037-10-01T00:00:00"
         },
         {
          "clade_membership": "8f812d8",
          "estimated_growth_rate": 2.0588235294117645,
          "frequency": 0.17,
          "frequency_final": 0.13,
          "observed_growth_rate": 0.7647058823529411,
          "projected_frequency": 0.35,
          "timepoint": "2037-10-01T00:00:00"
         },
         {
          "clade_membership": "fcc72c3",
          "estimated_growth_rate": 1.0101010101010102,
          "frequency": 0.99,
          "frequency_final": 1,
          "observed_growth_rate": 1.0101010101010102,
          "projected_frequency": 1,
          "timepoint": "2037-10-01T00:00:00"
         },
         {
          "clade_membership": "2a642a4",
          "estimated_growth_rate": 1.0444444444444443,
          "frequency": 0.9,
          "frequency_final": 0.91,
          "observed_growth_rate": 1.011111111111111,
          "projected_frequency": 0.94,
          "timepoint": "2038-04-01T00:00:00"
         },
         {
          "clade_membership": "4011481",
          "estimated_growth_rate": 1.0444444444444443,
          "frequency": 0.9,
          "frequency_final": 0.91,
          "observed_growth_rate": 1.011111111111111,
          "projected_frequency": 0.94,
          "timepoint": "2038-04-01T00:00:00"
         },
         {
          "clade_membership": "4246a11",
          "estimated_growth_rate": 1.0444444444444443,
          "frequency": 0.9,
          "frequency_final": 0.91,
          "observed_growth_rate": 1.011111111111111,
          "projected_frequency": 0.94,
          "timepoint": "2038-04-01T00:00:00"
         },
         {
          "clade_membership": "8753dfa",
          "estimated_growth_rate": 1.0444444444444443,
          "frequency": 0.9,
          "frequency_final": 0.91,
          "observed_growth_rate": 1.011111111111111,
          "projected_frequency": 0.94,
          "timepoint": "2038-04-01T00:00:00"
         },
         {
          "clade_membership": "2a642a4",
          "estimated_growth_rate": 1.0689655172413794,
          "frequency": 0.87,
          "frequency_final": 0.98,
          "observed_growth_rate": 1.1264367816091954,
          "projected_frequency": 0.93,
          "timepoint": "2038-10-01T00:00:00"
         },
         {
          "clade_membership": "4011481",
          "estimated_growth_rate": 1.0689655172413794,
          "frequency": 0.87,
          "frequency_final": 0.98,
          "observed_growth_rate": 1.1264367816091954,
          "projected_frequency": 0.93,
          "timepoint": "2038-10-01T00:00:00"
         },
         {
          "clade_membership": "4246a11",
          "estimated_growth_rate": 1.0689655172413794,
          "frequency": 0.87,
          "frequency_final": 0.98,
          "observed_growth_rate": 1.1264367816091954,
          "projected_frequency": 0.93,
          "timepoint": "2038-10-01T00:00:00"
         },
         {
          "clade_membership": "8753dfa",
          "estimated_growth_rate": 1.0689655172413794,
          "frequency": 0.87,
          "frequency_final": 0.98,
          "observed_growth_rate": 1.1264367816091954,
          "projected_frequency": 0.93,
          "timepoint": "2038-10-01T00:00:00"
         },
         {
          "clade_membership": "2a642a4",
          "estimated_growth_rate": 1.054945054945055,
          "frequency": 0.91,
          "frequency_final": 1,
          "observed_growth_rate": 1.0989010989010988,
          "projected_frequency": 0.96,
          "timepoint": "2039-04-01T00:00:00"
         },
         {
          "clade_membership": "4011481",
          "estimated_growth_rate": 1.054945054945055,
          "frequency": 0.91,
          "frequency_final": 1,
          "observed_growth_rate": 1.0989010989010988,
          "projected_frequency": 0.96,
          "timepoint": "2039-04-01T00:00:00"
         },
         {
          "clade_membership": "4246a11",
          "estimated_growth_rate": 1.054945054945055,
          "frequency": 0.91,
          "frequency_final": 1,
          "observed_growth_rate": 1.0989010989010988,
          "projected_frequency": 0.96,
          "timepoint": "2039-04-01T00:00:00"
         },
         {
          "clade_membership": "4e6e637",
          "estimated_growth_rate": 1.0588235294117645,
          "frequency": 0.17,
          "frequency_final": 0,
          "observed_growth_rate": 0,
          "projected_frequency": 0.18,
          "timepoint": "2039-04-01T00:00:00"
         },
         {
          "clade_membership": "8753dfa",
          "estimated_growth_rate": 1.054945054945055,
          "frequency": 0.91,
          "frequency_final": 1,
          "observed_growth_rate": 1.0989010989010988,
          "projected_frequency": 0.96,
          "timepoint": "2039-04-01T00:00:00"
         },
         {
          "clade_membership": "b76ba88",
          "estimated_growth_rate": 1.764705882352941,
          "frequency": 0.17,
          "frequency_final": 1,
          "observed_growth_rate": 5.88235294117647,
          "projected_frequency": 0.3,
          "timepoint": "2039-04-01T00:00:00"
         },
         {
          "clade_membership": "14dde64",
          "estimated_growth_rate": 0.6595744680851064,
          "frequency": 0.47,
          "frequency_final": 1,
          "observed_growth_rate": 2.127659574468085,
          "projected_frequency": 0.31,
          "timepoint": "2039-10-01T00:00:00"
         },
         {
          "clade_membership": "2a642a4",
          "estimated_growth_rate": 0.9795918367346939,
          "frequency": 0.98,
          "frequency_final": 1,
          "observed_growth_rate": 1.0204081632653061,
          "projected_frequency": 0.96,
          "timepoint": "2039-10-01T00:00:00"
         },
         {
          "clade_membership": "4011481",
          "estimated_growth_rate": 0.9795918367346939,
          "frequency": 0.98,
          "frequency_final": 1,
          "observed_growth_rate": 1.0204081632653061,
          "projected_frequency": 0.96,
          "timepoint": "2039-10-01T00:00:00"
         },
         {
          "clade_membership": "4246a11",
          "estimated_growth_rate": 0.9795918367346939,
          "frequency": 0.98,
          "frequency_final": 1,
          "observed_growth_rate": 1.0204081632653061,
          "projected_frequency": 0.96,
          "timepoint": "2039-10-01T00:00:00"
         },
         {
          "clade_membership": "5198bfc",
          "estimated_growth_rate": 0.6382978723404256,
          "frequency": 0.47,
          "frequency_final": 1,
          "observed_growth_rate": 2.127659574468085,
          "projected_frequency": 0.3,
          "timepoint": "2039-10-01T00:00:00"
         },
         {
          "clade_membership": "5dd5482",
          "estimated_growth_rate": 0.6595744680851064,
          "frequency": 0.47,
          "frequency_final": 1,
          "observed_growth_rate": 2.127659574468085,
          "projected_frequency": 0.31,
          "timepoint": "2039-10-01T00:00:00"
         },
         {
          "clade_membership": "8753dfa",
          "estimated_growth_rate": 0.9795918367346939,
          "frequency": 0.98,
          "frequency_final": 1,
          "observed_growth_rate": 1.0204081632653061,
          "projected_frequency": 0.96,
          "timepoint": "2039-10-01T00:00:00"
         },
         {
          "clade_membership": "b76ba88",
          "estimated_growth_rate": 0.7704918032786885,
          "frequency": 0.61,
          "frequency_final": 1,
          "observed_growth_rate": 1.639344262295082,
          "projected_frequency": 0.47,
          "timepoint": "2039-10-01T00:00:00"
         },
         {
          "clade_membership": "d91376c",
          "estimated_growth_rate": 0.7090909090909091,
          "frequency": 0.55,
          "frequency_final": 1,
          "observed_growth_rate": 1.8181818181818181,
          "projected_frequency": 0.39,
          "timepoint": "2039-10-01T00:00:00"
         },
         {
          "clade_membership": "f1e64ed",
          "estimated_growth_rate": 0.6595744680851064,
          "frequency": 0.47,
          "frequency_final": 1,
          "observed_growth_rate": 2.127659574468085,
          "projected_frequency": 0.31,
          "timepoint": "2039-10-01T00:00:00"
         }
        ]
       },
       "encoding": {
        "x": {
         "bin": true,
         "field": "observed_growth_rate",
         "title": "Observed growth rate",
         "type": "quantitative"
        },
        "y": {
         "aggregate": "count",
         "type": "quantitative"
        }
       },
       "mark": "rect"
      },
      "image/png": "[encoded data removed]",
      "text/plain": [
       "<VegaLite 3 object>\n",
       "\n",
       "If you see this message, it means the renderer has not been properly enabled\n",
       "for the frontend that you are using. For more information, see\n",
       "https://altair-viz.github.io/user_guide/troubleshooting.html\n"
      ]
     },
     "execution_count": 53,
     "metadata": {},
     "output_type": "execute_result"
    }
   ],
   "source": [
    "alt.Chart(complete_clade_frequencies).mark_rect().encode(\n",
    "    x=alt.X(\"observed_growth_rate:Q\", bin=True, title=\"Observed growth rate\"),\n",
    "    y=\"count()\"\n",
    ")"
   ]
  },
  {
   "cell_type": "code",
   "execution_count": 54,
   "metadata": {},
   "outputs": [],
   "source": [
    "complete_clade_frequencies[\"year\"] = complete_clade_frequencies[\"timepoint\"].dt.year"
   ]
  },
  {
   "cell_type": "code",
   "execution_count": 55,
   "metadata": {},
   "outputs": [
    {
     "data": {
      "text/html": [
       "<div>\n",
       "<style scoped>\n",
       "    .dataframe tbody tr th:only-of-type {\n",
       "        vertical-align: middle;\n",
       "    }\n",
       "\n",
       "    .dataframe tbody tr th {\n",
       "        vertical-align: top;\n",
       "    }\n",
       "\n",
       "    .dataframe thead th {\n",
       "        text-align: right;\n",
       "    }\n",
       "</style>\n",
       "<table border=\"1\" class=\"dataframe\">\n",
       "  <thead>\n",
       "    <tr style=\"text-align: right;\">\n",
       "      <th></th>\n",
       "      <th>timepoint</th>\n",
       "      <th>clade_membership</th>\n",
       "      <th>frequency</th>\n",
       "      <th>frequency_final</th>\n",
       "      <th>projected_frequency</th>\n",
       "      <th>observed_growth_rate</th>\n",
       "      <th>estimated_growth_rate</th>\n",
       "      <th>year</th>\n",
       "    </tr>\n",
       "  </thead>\n",
       "  <tbody>\n",
       "    <tr>\n",
       "      <th>0</th>\n",
       "      <td>2031-04-01</td>\n",
       "      <td>03167e3</td>\n",
       "      <td>0.16</td>\n",
       "      <td>0.98</td>\n",
       "      <td>0.61</td>\n",
       "      <td>6.125000</td>\n",
       "      <td>3.812500</td>\n",
       "      <td>2031</td>\n",
       "    </tr>\n",
       "    <tr>\n",
       "      <th>1</th>\n",
       "      <td>2031-04-01</td>\n",
       "      <td>1238505</td>\n",
       "      <td>0.47</td>\n",
       "      <td>0.98</td>\n",
       "      <td>0.72</td>\n",
       "      <td>2.085106</td>\n",
       "      <td>1.531915</td>\n",
       "      <td>2031</td>\n",
       "    </tr>\n",
       "    <tr>\n",
       "      <th>2</th>\n",
       "      <td>2031-04-01</td>\n",
       "      <td>236447c</td>\n",
       "      <td>0.93</td>\n",
       "      <td>1.00</td>\n",
       "      <td>0.98</td>\n",
       "      <td>1.075269</td>\n",
       "      <td>1.053763</td>\n",
       "      <td>2031</td>\n",
       "    </tr>\n",
       "    <tr>\n",
       "      <th>3</th>\n",
       "      <td>2031-04-01</td>\n",
       "      <td>30dddad</td>\n",
       "      <td>0.44</td>\n",
       "      <td>0.98</td>\n",
       "      <td>0.72</td>\n",
       "      <td>2.227273</td>\n",
       "      <td>1.636364</td>\n",
       "      <td>2031</td>\n",
       "    </tr>\n",
       "    <tr>\n",
       "      <th>4</th>\n",
       "      <td>2031-04-01</td>\n",
       "      <td>695af4b</td>\n",
       "      <td>0.26</td>\n",
       "      <td>0.02</td>\n",
       "      <td>0.21</td>\n",
       "      <td>0.076923</td>\n",
       "      <td>0.807692</td>\n",
       "      <td>2031</td>\n",
       "    </tr>\n",
       "  </tbody>\n",
       "</table>\n",
       "</div>"
      ],
      "text/plain": [
       "   timepoint clade_membership  frequency  frequency_final  \\\n",
       "0 2031-04-01          03167e3       0.16             0.98   \n",
       "1 2031-04-01          1238505       0.47             0.98   \n",
       "2 2031-04-01          236447c       0.93             1.00   \n",
       "3 2031-04-01          30dddad       0.44             0.98   \n",
       "4 2031-04-01          695af4b       0.26             0.02   \n",
       "\n",
       "   projected_frequency  observed_growth_rate  estimated_growth_rate  year  \n",
       "0                 0.61              6.125000               3.812500  2031  \n",
       "1                 0.72              2.085106               1.531915  2031  \n",
       "2                 0.98              1.075269               1.053763  2031  \n",
       "3                 0.72              2.227273               1.636364  2031  \n",
       "4                 0.21              0.076923               0.807692  2031  "
      ]
     },
     "execution_count": 55,
     "metadata": {},
     "output_type": "execute_result"
    }
   ],
   "source": [
    "complete_clade_frequencies.head()"
   ]
  },
  {
   "cell_type": "code",
   "execution_count": 56,
   "metadata": {},
   "outputs": [
    {
     "data": {
      "text/plain": [
       "(129, 8)"
      ]
     },
     "execution_count": 56,
     "metadata": {},
     "output_type": "execute_result"
    }
   ],
   "source": [
    "complete_clade_frequencies.shape"
   ]
  },
  {
   "cell_type": "code",
   "execution_count": 57,
   "metadata": {},
   "outputs": [],
   "source": [
    "r, p = pearsonr(\n",
    "    complete_clade_frequencies[\"observed_growth_rate\"],\n",
    "    complete_clade_frequencies[\"estimated_growth_rate\"]\n",
    ")"
   ]
  },
  {
   "cell_type": "code",
   "execution_count": 58,
   "metadata": {},
   "outputs": [
    {
     "data": {
      "text/plain": [
       "0.7305469071958913"
      ]
     },
     "execution_count": 58,
     "metadata": {},
     "output_type": "execute_result"
    }
   ],
   "source": [
    "r"
   ]
  },
  {
   "cell_type": "code",
   "execution_count": 59,
   "metadata": {},
   "outputs": [
    {
     "data": {
      "text/plain": [
       "8.76934029211108e-23"
      ]
     },
     "execution_count": 59,
     "metadata": {},
     "output_type": "execute_result"
    }
   ],
   "source": [
    "p"
   ]
  },
  {
   "cell_type": "code",
   "execution_count": 60,
   "metadata": {},
   "outputs": [],
   "source": [
    "mcc, confusion_matrix = get_matthews_correlation_coefficient_for_data_frame(complete_clade_frequencies, True)"
   ]
  },
  {
   "cell_type": "code",
   "execution_count": 61,
   "metadata": {},
   "outputs": [
    {
     "data": {
      "text/plain": [
       "0.4479921000658328"
      ]
     },
     "execution_count": 61,
     "metadata": {},
     "output_type": "execute_result"
    }
   ],
   "source": [
    "mcc"
   ]
  },
  {
   "cell_type": "code",
   "execution_count": 62,
   "metadata": {},
   "outputs": [
    {
     "data": {
      "text/plain": [
       "{'tp': 85, 'tn': 18, 'fp': 13, 'fn': 13}"
      ]
     },
     "execution_count": 62,
     "metadata": {},
     "output_type": "execute_result"
    }
   ],
   "source": [
    "confusion_matrix"
   ]
  },
  {
   "cell_type": "code",
   "execution_count": 63,
   "metadata": {},
   "outputs": [
    {
     "data": {
      "text/plain": [
       "129"
      ]
     },
     "execution_count": 63,
     "metadata": {},
     "output_type": "execute_result"
    }
   ],
   "source": [
    "sum(confusion_matrix.values())"
   ]
  },
  {
   "cell_type": "code",
   "execution_count": 64,
   "metadata": {},
   "outputs": [
    {
     "data": {
      "text/plain": [
       "0.8673469387755102"
      ]
     },
     "execution_count": 64,
     "metadata": {},
     "output_type": "execute_result"
    }
   ],
   "source": [
    "growth_accuracy = confusion_matrix[\"tp\"] / float(confusion_matrix[\"tp\"] + confusion_matrix[\"fp\"])\n",
    "growth_accuracy"
   ]
  },
  {
   "cell_type": "code",
   "execution_count": 65,
   "metadata": {},
   "outputs": [
    {
     "data": {
      "text/plain": [
       "0.5806451612903226"
      ]
     },
     "execution_count": 65,
     "metadata": {},
     "output_type": "execute_result"
    }
   ],
   "source": [
    "decline_accuracy = confusion_matrix[\"tn\"] / float(confusion_matrix[\"tn\"] + confusion_matrix[\"fn\"])\n",
    "decline_accuracy"
   ]
  },
  {
   "cell_type": "code",
   "execution_count": 66,
   "metadata": {},
   "outputs": [],
   "source": [
    "min_growth_rate = 0\n",
    "max_growth_rate = complete_clade_frequencies.loc[:, [\"observed_growth_rate\", \"estimated_growth_rate\"]].max().max() + 0.2"
   ]
  },
  {
   "cell_type": "code",
   "execution_count": 67,
   "metadata": {},
   "outputs": [],
   "source": [
    "pseudofrequency = 0.001"
   ]
  },
  {
   "cell_type": "code",
   "execution_count": 68,
   "metadata": {},
   "outputs": [],
   "source": [
    "complete_clade_frequencies[\"log_observed_growth_rate\"] = (\n",
    "    np.log10((complete_clade_frequencies[\"frequency_final\"] + pseudofrequency) / (complete_clade_frequencies[\"frequency\"] + pseudofrequency))\n",
    ")\n",
    "\n",
    "complete_clade_frequencies[\"log_estimated_growth_rate\"] = (\n",
    "    np.log10((complete_clade_frequencies[\"projected_frequency\"] + pseudofrequency) / (complete_clade_frequencies[\"frequency\"] + pseudofrequency))\n",
    ")"
   ]
  },
  {
   "cell_type": "code",
   "execution_count": 69,
   "metadata": {},
   "outputs": [],
   "source": [
    "upper_limit = np.ceil(complete_clade_frequencies.loc[:, [\"observed_growth_rate\", \"estimated_growth_rate\"]].max().max())\n",
    "\n",
    "log_lower_limit = complete_clade_frequencies.loc[:, [\"log_observed_growth_rate\", \"log_estimated_growth_rate\"]].min().min() - 0.1\n",
    "log_upper_limit = np.ceil(complete_clade_frequencies.loc[:, [\"log_observed_growth_rate\", \"log_estimated_growth_rate\"]].max().max()) + 0.1"
   ]
  },
  {
   "cell_type": "code",
   "execution_count": 70,
   "metadata": {},
   "outputs": [
    {
     "data": {
      "application/vnd.vegalite.v3+json": {
       "$schema": "https://vega.github.io/schema/vega-lite/v3.3.0.json",
       "config": {
        "mark": {
         "tooltip": null
        },
        "view": {
         "height": 300,
         "width": 400
        }
       },
       "data": {
        "name": "data-740998b8dee075d980a611d87e95f698"
       },
       "datasets": {
        "data-740998b8dee075d980a611d87e95f698": [
         {
          "clade_membership": "03167e3",
          "estimated_growth_rate": 3.8125,
          "frequency": 0.16,
          "frequency_final": 0.98,
          "log_estimated_growth_rate": 0.5792153342107045,
          "log_observed_growth_rate": 0.7848431313480988,
          "observed_growth_rate": 6.125,
          "projected_frequency": 0.61,
          "timepoint": "2031-04-01T00:00:00",
          "year": 2031
         },
         {
          "clade_membership": "1238505",
          "estimated_growth_rate": 1.5319148936170213,
          "frequency": 0.47,
          "frequency_final": 0.98,
          "log_estimated_growth_rate": 0.1849143575905329,
          "log_observed_growth_rate": 0.3186481002510524,
          "observed_growth_rate": 2.0851063829787235,
          "projected_frequency": 0.72,
          "timepoint": "2031-04-01T00:00:00",
          "year": 2031
         },
         {
          "clade_membership": "236447c",
          "estimated_growth_rate": 1.053763440860215,
          "frequency": 0.93,
          "frequency_final": 1,
          "log_estimated_growth_rate": 0.022719326398605893,
          "log_observed_growth_rate": 0.03148439649797597,
          "observed_growth_rate": 1.075268817204301,
          "projected_frequency": 0.98,
          "timepoint": "2031-04-01T00:00:00",
          "year": 2031
         },
         {
          "clade_membership": "30dddad",
          "estimated_growth_rate": 1.6363636363636362,
          "frequency": 0.44,
          "frequency_final": 0.98,
          "log_estimated_growth_rate": 0.2134966752515905,
          "log_observed_growth_rate": 0.34723041791210996,
          "observed_growth_rate": 2.227272727272727,
          "projected_frequency": 0.72,
          "timepoint": "2031-04-01T00:00:00",
          "year": 2031
         },
         {
          "clade_membership": "695af4b",
          "estimated_growth_rate": 0.8076923076923076,
          "frequency": 0.26,
          "frequency_final": 0.02,
          "log_estimated_growth_rate": -0.09235805204058833,
          "log_observed_growth_rate": -1.0944212126043618,
          "observed_growth_rate": 0.07692307692307693,
          "projected_frequency": 0.21,
          "timepoint": "2031-04-01T00:00:00",
          "year": 2031
         },
         {
          "clade_membership": "770f3bd",
          "estimated_growth_rate": 1.010204081632653,
          "frequency": 0.98,
          "frequency_final": 1,
          "log_estimated_growth_rate": 0.0044046471053268135,
          "log_observed_growth_rate": 0.008765070099370121,
          "observed_growth_rate": 1.0204081632653061,
          "projected_frequency": 0.99,
          "timepoint": "2031-04-01T00:00:00",
          "year": 2031
         },
         {
          "clade_membership": "9b4a668",
          "estimated_growth_rate": 1.5319148936170213,
          "frequency": 0.47,
          "frequency_final": 0.98,
          "log_estimated_growth_rate": 0.1849143575905329,
          "log_observed_growth_rate": 0.3186481002510524,
          "observed_growth_rate": 2.0851063829787235,
          "projected_frequency": 0.72,
          "timepoint": "2031-04-01T00:00:00",
          "year": 2031
         },
         {
          "clade_membership": "a6f28c4",
          "estimated_growth_rate": 0.6046511627906977,
          "frequency": 0.43,
          "frequency_final": 0.02,
          "log_estimated_growth_rate": -0.21783676282245065,
          "log_observed_growth_rate": -1.3122579754268122,
          "observed_growth_rate": 0.046511627906976744,
          "projected_frequency": 0.26,
          "timepoint": "2031-04-01T00:00:00",
          "year": 2031
         },
         {
          "clade_membership": "d5f7e81",
          "estimated_growth_rate": 0.7352941176470588,
          "frequency": 0.34,
          "frequency_final": 0.02,
          "log_estimated_growth_rate": -0.13308065751145964,
          "log_observed_growth_rate": -1.2105350842585785,
          "observed_growth_rate": 0.058823529411764705,
          "projected_frequency": 0.25,
          "timepoint": "2031-04-01T00:00:00",
          "year": 2031
         },
         {
          "clade_membership": "03167e3",
          "estimated_growth_rate": 1.2857142857142856,
          "frequency": 0.77,
          "frequency_final": 1,
          "log_estimated_growth_rate": 0.10901927643431832,
          "log_observed_growth_rate": 0.11337969942836161,
          "observed_growth_rate": 1.2987012987012987,
          "projected_frequency": 0.99,
          "timepoint": "2031-10-01T00:00:00",
          "year": 2031
         },
         {
          "clade_membership": "1131d57",
          "estimated_growth_rate": 1.4347826086956523,
          "frequency": 0.69,
          "frequency_final": 1,
          "log_estimated_growth_rate": 0.15659560711107698,
          "log_observed_growth_rate": 0.16095603010512022,
          "observed_growth_rate": 1.4492753623188408,
          "projected_frequency": 0.99,
          "timepoint": "2031-10-01T00:00:00",
          "year": 2031
         },
         {
          "clade_membership": "1238505",
          "estimated_growth_rate": 1.222222222222222,
          "frequency": 0.81,
          "frequency_final": 1,
          "log_estimated_growth_rate": 0.08705280027411925,
          "log_observed_growth_rate": 0.09141322326816251,
          "observed_growth_rate": 1.2345679012345678,
          "projected_frequency": 0.99,
          "timepoint": "2031-10-01T00:00:00",
          "year": 2031
         },
         {
          "clade_membership": "30dddad",
          "estimated_growth_rate": 1.222222222222222,
          "frequency": 0.81,
          "frequency_final": 1,
          "log_estimated_growth_rate": 0.08705280027411925,
          "log_observed_growth_rate": 0.09141322326816251,
          "observed_growth_rate": 1.2345679012345678,
          "projected_frequency": 0.99,
          "timepoint": "2031-10-01T00:00:00",
          "year": 2031
         },
         {
          "clade_membership": "695af4b",
          "estimated_growth_rate": 0.05263157894736842,
          "frequency": 0.19,
          "frequency_final": 0,
          "log_estimated_growth_rate": -1.2396406820895025,
          "log_observed_growth_rate": -2.2810333672477277,
          "observed_growth_rate": 0,
          "projected_frequency": 0.01,
          "timepoint": "2031-10-01T00:00:00",
          "year": 2031
         },
         {
          "clade_membership": "76bbf87",
          "estimated_growth_rate": 0.06666666666666667,
          "frequency": 0.15,
          "frequency_final": 0,
          "log_estimated_growth_rate": -1.1375842621349443,
          "log_observed_growth_rate": -2.1789769472931693,
          "observed_growth_rate": 0,
          "projected_frequency": 0.01,
          "timepoint": "2031-10-01T00:00:00",
          "year": 2031
         },
         {
          "clade_membership": "9b4a668",
          "estimated_growth_rate": 1.222222222222222,
          "frequency": 0.81,
          "frequency_final": 1,
          "log_estimated_growth_rate": 0.08705280027411925,
          "log_observed_growth_rate": 0.09141322326816251,
          "observed_growth_rate": 1.2345679012345678,
          "projected_frequency": 0.99,
          "timepoint": "2031-10-01T00:00:00",
          "year": 2031
         },
         {
          "clade_membership": "a6f28c4",
          "estimated_growth_rate": 0.05263157894736842,
          "frequency": 0.19,
          "frequency_final": 0,
          "log_estimated_growth_rate": -1.2396406820895025,
          "log_observed_growth_rate": -2.2810333672477277,
          "observed_growth_rate": 0,
          "projected_frequency": 0.01,
          "timepoint": "2031-10-01T00:00:00",
          "year": 2031
         },
         {
          "clade_membership": "d5f7e81",
          "estimated_growth_rate": 0.05263157894736842,
          "frequency": 0.19,
          "frequency_final": 0,
          "log_estimated_growth_rate": -1.2396406820895025,
          "log_observed_growth_rate": -2.2810333672477277,
          "observed_growth_rate": 0,
          "projected_frequency": 0.01,
          "timepoint": "2031-10-01T00:00:00",
          "year": 2031
         },
         {
          "clade_membership": "e6d6cf6",
          "estimated_growth_rate": 1.4347826086956523,
          "frequency": 0.69,
          "frequency_final": 1,
          "log_estimated_growth_rate": 0.15659560711107698,
          "log_observed_growth_rate": 0.16095603010512022,
          "observed_growth_rate": 1.4492753623188408,
          "projected_frequency": 0.99,
          "timepoint": "2031-10-01T00:00:00",
          "year": 2031
         },
         {
          "clade_membership": "03167e3",
          "estimated_growth_rate": 1.0204081632653061,
          "frequency": 0.98,
          "frequency_final": 1,
          "log_estimated_growth_rate": 0.008765070099370121,
          "log_observed_growth_rate": 0.008765070099370121,
          "observed_growth_rate": 1.0204081632653061,
          "projected_frequency": 1,
          "timepoint": "2032-04-01T00:00:00",
          "year": 2032
         },
         {
          "clade_membership": "1131d57",
          "estimated_growth_rate": 1.0416666666666667,
          "frequency": 0.96,
          "frequency_final": 1,
          "log_estimated_growth_rate": 0.01771068981077321,
          "log_observed_growth_rate": 0.01771068981077321,
          "observed_growth_rate": 1.0416666666666667,
          "projected_frequency": 1,
          "timepoint": "2032-04-01T00:00:00",
          "year": 2032
         },
         {
          "clade_membership": "1238505",
          "estimated_growth_rate": 1.0204081632653061,
          "frequency": 0.98,
          "frequency_final": 1,
          "log_estimated_growth_rate": 0.008765070099370121,
          "log_observed_growth_rate": 0.008765070099370121,
          "observed_growth_rate": 1.0204081632653061,
          "projected_frequency": 1,
          "timepoint": "2032-04-01T00:00:00",
          "year": 2032
         },
         {
          "clade_membership": "16b37cd",
          "estimated_growth_rate": 3,
          "frequency": 0.17,
          "frequency_final": 0.2,
          "log_estimated_growth_rate": 0.47542478974255886,
          "log_observed_growth_rate": 0.07019994702833499,
          "observed_growth_rate": 1.1764705882352942,
          "projected_frequency": 0.51,
          "timepoint": "2032-04-01T00:00:00",
          "year": 2032
         },
         {
          "clade_membership": "30dddad",
          "estimated_growth_rate": 1.0204081632653061,
          "frequency": 0.98,
          "frequency_final": 1,
          "log_estimated_growth_rate": 0.008765070099370121,
          "log_observed_growth_rate": 0.008765070099370121,
          "observed_growth_rate": 1.0204081632653061,
          "projected_frequency": 1,
          "timepoint": "2032-04-01T00:00:00",
          "year": 2032
         },
         {
          "clade_membership": "5c73ba7",
          "estimated_growth_rate": 0.3333333333333333,
          "frequency": 0.18,
          "frequency_final": 0.08,
          "log_estimated_growth_rate": -0.47234873985841747,
          "log_observed_growth_rate": -0.34919355599053475,
          "observed_growth_rate": 0.4444444444444445,
          "projected_frequency": 0.06,
          "timepoint": "2032-04-01T00:00:00",
          "year": 2032
         },
         {
          "clade_membership": "9b4a668",
          "estimated_growth_rate": 1.0204081632653061,
          "frequency": 0.98,
          "frequency_final": 1,
          "log_estimated_growth_rate": 0.008765070099370121,
          "log_observed_growth_rate": 0.008765070099370121,
          "observed_growth_rate": 1.0204081632653061,
          "projected_frequency": 1,
          "timepoint": "2032-04-01T00:00:00",
          "year": 2032
         },
         {
          "clade_membership": "9c89bcc",
          "estimated_growth_rate": 2.217391304347826,
          "frequency": 0.23,
          "frequency_final": 0.2,
          "log_estimated_growth_rate": 0.3448089202425684,
          "log_observed_growth_rate": -0.06041592247165546,
          "observed_growth_rate": 0.8695652173913043,
          "projected_frequency": 0.51,
          "timepoint": "2032-04-01T00:00:00",
          "year": 2032
         },
         {
          "clade_membership": "e6d6cf6",
          "estimated_growth_rate": 1.0416666666666667,
          "frequency": 0.96,
          "frequency_final": 1,
          "log_estimated_growth_rate": 0.01771068981077321,
          "log_observed_growth_rate": 0.01771068981077321,
          "observed_growth_rate": 1.0416666666666667,
          "projected_frequency": 1,
          "timepoint": "2032-04-01T00:00:00",
          "year": 2032
         },
         {
          "clade_membership": "f8cdb25",
          "estimated_growth_rate": 0.3333333333333333,
          "frequency": 0.18,
          "frequency_final": 0.08,
          "log_estimated_growth_rate": -0.47234873985841747,
          "log_observed_growth_rate": -0.34919355599053475,
          "observed_growth_rate": 0.4444444444444445,
          "projected_frequency": 0.06,
          "timepoint": "2032-04-01T00:00:00",
          "year": 2032
         },
         {
          "clade_membership": "16b37cd",
          "estimated_growth_rate": 1.2608695652173911,
          "frequency": 0.23,
          "frequency_final": 0.07,
          "log_estimated_growth_rate": 0.10028100909376293,
          "log_observed_growth_rate": -0.512353631173069,
          "observed_growth_rate": 0.30434782608695654,
          "projected_frequency": 0.29,
          "timepoint": "2032-10-01T00:00:00",
          "year": 2032
         },
         {
          "clade_membership": "252cee5",
          "estimated_growth_rate": 1.1153846153846152,
          "frequency": 0.26,
          "frequency_final": 0.01,
          "log_estimated_growth_rate": 0.04725248164762627,
          "log_observed_growth_rate": -1.375247822180056,
          "observed_growth_rate": 0.038461538461538464,
          "projected_frequency": 0.29,
          "timepoint": "2032-10-01T00:00:00",
          "year": 2032
         },
         {
          "clade_membership": "5c73ba7",
          "estimated_growth_rate": 1.0416666666666667,
          "frequency": 0.24,
          "frequency_final": 0,
          "log_estimated_growth_rate": 0.017656678906169787,
          "log_observed_growth_rate": -2.3820170425748683,
          "observed_growth_rate": 0,
          "projected_frequency": 0.25,
          "timepoint": "2032-10-01T00:00:00",
          "year": 2032
         },
         {
          "clade_membership": "9c89bcc",
          "estimated_growth_rate": 1.2083333333333333,
          "frequency": 0.24,
          "frequency_final": 0.07,
          "log_estimated_growth_rate": 0.08187594641103887,
          "log_observed_growth_rate": -0.530758693855793,
          "observed_growth_rate": 0.2916666666666667,
          "projected_frequency": 0.29,
          "timepoint": "2032-10-01T00:00:00",
          "year": 2032
         },
         {
          "clade_membership": "bf8fcc9",
          "estimated_growth_rate": 1.121212121212121,
          "frequency": 0.33,
          "frequency_final": 0.01,
          "log_estimated_growth_rate": 0.04954591583932709,
          "log_observed_growth_rate": -1.4784353086174937,
          "observed_growth_rate": 0.030303030303030304,
          "projected_frequency": 0.37,
          "timepoint": "2032-10-01T00:00:00",
          "year": 2032
         },
         {
          "clade_membership": "f8cdb25",
          "estimated_growth_rate": 1.0416666666666667,
          "frequency": 0.24,
          "frequency_final": 0,
          "log_estimated_growth_rate": 0.017656678906169787,
          "log_observed_growth_rate": -2.3820170425748683,
          "observed_growth_rate": 0,
          "projected_frequency": 0.25,
          "timepoint": "2032-10-01T00:00:00",
          "year": 2032
         },
         {
          "clade_membership": "16b37cd",
          "estimated_growth_rate": 0.25,
          "frequency": 0.2,
          "frequency_final": 0.01,
          "log_estimated_growth_rate": -0.5956258813225525,
          "log_observed_growth_rate": -1.261803372262264,
          "observed_growth_rate": 0.049999999999999996,
          "projected_frequency": 0.05,
          "timepoint": "2033-04-01T00:00:00",
          "year": 2033
         },
         {
          "clade_membership": "1d3258f",
          "estimated_growth_rate": 2.021276595744681,
          "frequency": 0.47,
          "frequency_final": 0.99,
          "log_estimated_growth_rate": 0.3051596098085178,
          "log_observed_growth_rate": 0.3230527473563792,
          "observed_growth_rate": 2.1063829787234045,
          "projected_frequency": 0.95,
          "timepoint": "2033-04-01T00:00:00",
          "year": 2033
         },
         {
          "clade_membership": "1f3dd6e",
          "estimated_growth_rate": 1.8269230769230769,
          "frequency": 0.52,
          "frequency_final": 0.99,
          "log_estimated_growth_rate": 0.2613427936378894,
          "log_observed_growth_rate": 0.27923593118575085,
          "observed_growth_rate": 1.9038461538461537,
          "projected_frequency": 0.95,
          "timepoint": "2033-04-01T00:00:00",
          "year": 2033
         },
         {
          "clade_membership": "68a7b72",
          "estimated_growth_rate": 1.8627450980392155,
          "frequency": 0.51,
          "frequency_final": 0.99,
          "log_estimated_growth_rate": 0.26975961680270116,
          "log_observed_growth_rate": 0.2876527543505626,
          "observed_growth_rate": 1.9411764705882353,
          "projected_frequency": 0.95,
          "timepoint": "2033-04-01T00:00:00",
          "year": 2033
         },
         {
          "clade_membership": "75440f6",
          "estimated_growth_rate": 1.8627450980392155,
          "frequency": 0.51,
          "frequency_final": 0.99,
          "log_estimated_growth_rate": 0.26975961680270116,
          "log_observed_growth_rate": 0.2876527543505626,
          "observed_growth_rate": 1.9411764705882353,
          "projected_frequency": 0.95,
          "timepoint": "2033-04-01T00:00:00",
          "year": 2033
         },
         {
          "clade_membership": "9c89bcc",
          "estimated_growth_rate": 0.25,
          "frequency": 0.2,
          "frequency_final": 0.01,
          "log_estimated_growth_rate": -0.5956258813225525,
          "log_observed_growth_rate": -1.261803372262264,
          "observed_growth_rate": 0.049999999999999996,
          "projected_frequency": 0.05,
          "timepoint": "2033-04-01T00:00:00",
          "year": 2033
         },
         {
          "clade_membership": "abee784",
          "estimated_growth_rate": 1.8269230769230769,
          "frequency": 0.52,
          "frequency_final": 0.99,
          "log_estimated_growth_rate": 0.2613427936378894,
          "log_observed_growth_rate": 0.27923593118575085,
          "observed_growth_rate": 1.9038461538461537,
          "projected_frequency": 0.95,
          "timepoint": "2033-04-01T00:00:00",
          "year": 2033
         },
         {
          "clade_membership": "01bd8b7",
          "estimated_growth_rate": 2.1904761904761907,
          "frequency": 0.21,
          "frequency_final": 0.93,
          "log_estimated_growth_rate": 0.33941847009195547,
          "log_observed_growth_rate": 0.64466722568365,
          "observed_growth_rate": 4.428571428571429,
          "projected_frequency": 0.46,
          "timepoint": "2033-10-01T00:00:00",
          "year": 2033
         },
         {
          "clade_membership": "1d3258f",
          "estimated_growth_rate": 1.076086956521739,
          "frequency": 0.92,
          "frequency_final": 1,
          "log_estimated_growth_rate": 0.03181402428842642,
          "log_observed_growth_rate": 0.03617444728246964,
          "observed_growth_rate": 1.0869565217391304,
          "projected_frequency": 0.99,
          "timepoint": "2033-10-01T00:00:00",
          "year": 2033
         },
         {
          "clade_membership": "1f3dd6e",
          "estimated_growth_rate": 1.076086956521739,
          "frequency": 0.92,
          "frequency_final": 1,
          "log_estimated_growth_rate": 0.03181402428842642,
          "log_observed_growth_rate": 0.03617444728246964,
          "observed_growth_rate": 1.0869565217391304,
          "projected_frequency": 0.99,
          "timepoint": "2033-10-01T00:00:00",
          "year": 2033
         },
         {
          "clade_membership": "68a7b72",
          "estimated_growth_rate": 1.076086956521739,
          "frequency": 0.92,
          "frequency_final": 1,
          "log_estimated_growth_rate": 0.03181402428842642,
          "log_observed_growth_rate": 0.03617444728246964,
          "observed_growth_rate": 1.0869565217391304,
          "projected_frequency": 0.99,
          "timepoint": "2033-10-01T00:00:00",
          "year": 2033
         },
         {
          "clade_membership": "75440f6",
          "estimated_growth_rate": 1.076086956521739,
          "frequency": 0.92,
          "frequency_final": 1,
          "log_estimated_growth_rate": 0.03181402428842642,
          "log_observed_growth_rate": 0.03617444728246964,
          "observed_growth_rate": 1.0869565217391304,
          "projected_frequency": 0.99,
          "timepoint": "2033-10-01T00:00:00",
          "year": 2033
         },
         {
          "clade_membership": "8d6504d",
          "estimated_growth_rate": 1.375,
          "frequency": 0.16,
          "frequency_final": 0.05,
          "log_estimated_growth_rate": 0.137566397653261,
          "log_observed_growth_rate": -0.4992556999339134,
          "observed_growth_rate": 0.3125,
          "projected_frequency": 0.22,
          "timepoint": "2033-10-01T00:00:00",
          "year": 2033
         },
         {
          "clade_membership": "abee784",
          "estimated_growth_rate": 1.076086956521739,
          "frequency": 0.92,
          "frequency_final": 1,
          "log_estimated_growth_rate": 0.03181402428842642,
          "log_observed_growth_rate": 0.03617444728246964,
          "observed_growth_rate": 1.0869565217391304,
          "projected_frequency": 0.99,
          "timepoint": "2033-10-01T00:00:00",
          "year": 2033
         },
         {
          "clade_membership": "01bd8b7",
          "estimated_growth_rate": 1.94,
          "frequency": 0.5,
          "frequency_final": 1,
          "log_estimated_growth_rate": 0.28738150404075913,
          "log_observed_growth_rate": 0.3005963516120729,
          "observed_growth_rate": 2,
          "projected_frequency": 0.97,
          "timepoint": "2034-04-01T00:00:00",
          "year": 2034
         },
         {
          "clade_membership": "163f34a",
          "estimated_growth_rate": 4.173913043478261,
          "frequency": 0.23,
          "frequency_final": 1,
          "log_estimated_growth_rate": 0.619111407776401,
          "log_observed_growth_rate": 0.6368220975871743,
          "observed_growth_rate": 4.3478260869565215,
          "projected_frequency": 0.96,
          "timepoint": "2034-04-01T00:00:00",
          "year": 2034
         },
         {
          "clade_membership": "1d3258f",
          "estimated_growth_rate": 1.0101010101010102,
          "frequency": 0.99,
          "frequency_final": 1,
          "log_estimated_growth_rate": 0.004360422994043273,
          "log_observed_growth_rate": 0.004360422994043273,
          "observed_growth_rate": 1.0101010101010102,
          "projected_frequency": 1,
          "timepoint": "2034-04-01T00:00:00",
          "year": 2034
         },
         {
          "clade_membership": "1f3dd6e",
          "estimated_growth_rate": 1.0101010101010102,
          "frequency": 0.99,
          "frequency_final": 1,
          "log_estimated_growth_rate": 0.004360422994043273,
          "log_observed_growth_rate": 0.004360422994043273,
          "observed_growth_rate": 1.0101010101010102,
          "projected_frequency": 1,
          "timepoint": "2034-04-01T00:00:00",
          "year": 2034
         },
         {
          "clade_membership": "68a7b72",
          "estimated_growth_rate": 1.0101010101010102,
          "frequency": 0.99,
          "frequency_final": 1,
          "log_estimated_growth_rate": 0.004360422994043273,
          "log_observed_growth_rate": 0.004360422994043273,
          "observed_growth_rate": 1.0101010101010102,
          "projected_frequency": 1,
          "timepoint": "2034-04-01T00:00:00",
          "year": 2034
         },
         {
          "clade_membership": "75440f6",
          "estimated_growth_rate": 1.0101010101010102,
          "frequency": 0.99,
          "frequency_final": 1,
          "log_estimated_growth_rate": 0.004360422994043273,
          "log_observed_growth_rate": 0.004360422994043273,
          "observed_growth_rate": 1.0101010101010102,
          "projected_frequency": 1,
          "timepoint": "2034-04-01T00:00:00",
          "year": 2034
         },
         {
          "clade_membership": "8d6504d",
          "estimated_growth_rate": 0.07692307692307693,
          "frequency": 0.26,
          "frequency_final": 0,
          "log_estimated_growth_rate": -1.0944212126043618,
          "log_observed_growth_rate": -2.416640507338281,
          "observed_growth_rate": 0,
          "projected_frequency": 0.02,
          "timepoint": "2034-04-01T00:00:00",
          "year": 2034
         },
         {
          "clade_membership": "9ec61ef",
          "estimated_growth_rate": 0.058823529411764705,
          "frequency": 0.17,
          "frequency_final": 0,
          "log_estimated_growth_rate": -1.191603425233929,
          "log_observed_growth_rate": -2.232996110392154,
          "observed_growth_rate": 0,
          "projected_frequency": 0.01,
          "timepoint": "2034-04-01T00:00:00",
          "year": 2034
         },
         {
          "clade_membership": "a97419a",
          "estimated_growth_rate": 4.173913043478261,
          "frequency": 0.23,
          "frequency_final": 1,
          "log_estimated_growth_rate": 0.619111407776401,
          "log_observed_growth_rate": 0.6368220975871743,
          "observed_growth_rate": 4.3478260869565215,
          "projected_frequency": 0.96,
          "timepoint": "2034-04-01T00:00:00",
          "year": 2034
         },
         {
          "clade_membership": "abee784",
          "estimated_growth_rate": 1.0101010101010102,
          "frequency": 0.99,
          "frequency_final": 1,
          "log_estimated_growth_rate": 0.004360422994043273,
          "log_observed_growth_rate": 0.004360422994043273,
          "observed_growth_rate": 1.0101010101010102,
          "projected_frequency": 1,
          "timepoint": "2034-04-01T00:00:00",
          "year": 2034
         },
         {
          "clade_membership": "f13c38d",
          "estimated_growth_rate": 4.173913043478261,
          "frequency": 0.23,
          "frequency_final": 1,
          "log_estimated_growth_rate": 0.619111407776401,
          "log_observed_growth_rate": 0.6368220975871743,
          "observed_growth_rate": 4.3478260869565215,
          "projected_frequency": 0.96,
          "timepoint": "2034-04-01T00:00:00",
          "year": 2034
         },
         {
          "clade_membership": "01bd8b7",
          "estimated_growth_rate": 1.075268817204301,
          "frequency": 0.93,
          "frequency_final": 1,
          "log_estimated_growth_rate": 0.03148439649797597,
          "log_observed_growth_rate": 0.03148439649797597,
          "observed_growth_rate": 1.075268817204301,
          "projected_frequency": 1,
          "timepoint": "2034-10-01T00:00:00",
          "year": 2034
         },
         {
          "clade_membership": "163f34a",
          "estimated_growth_rate": 1.0999999999999999,
          "frequency": 0.9,
          "frequency_final": 1,
          "log_estimated_growth_rate": 0.04134886350621237,
          "log_observed_growth_rate": 0.045709286500255644,
          "observed_growth_rate": 1.1111111111111112,
          "projected_frequency": 0.99,
          "timepoint": "2034-10-01T00:00:00",
          "year": 2034
         },
         {
          "clade_membership": "4c17808",
          "estimated_growth_rate": 1.6666666666666667,
          "frequency": 0.57,
          "frequency_final": 0.98,
          "log_estimated_growth_rate": 0.2215444086915659,
          "log_observed_growth_rate": 0.2350328991341005,
          "observed_growth_rate": 1.719298245614035,
          "projected_frequency": 0.95,
          "timepoint": "2034-10-01T00:00:00",
          "year": 2034
         },
         {
          "clade_membership": "a97419a",
          "estimated_growth_rate": 1.0999999999999999,
          "frequency": 0.9,
          "frequency_final": 1,
          "log_estimated_growth_rate": 0.04134886350621237,
          "log_observed_growth_rate": 0.045709286500255644,
          "observed_growth_rate": 1.1111111111111112,
          "projected_frequency": 0.99,
          "timepoint": "2034-10-01T00:00:00",
          "year": 2034
         },
         {
          "clade_membership": "baec3f4",
          "estimated_growth_rate": 1.727272727272727,
          "frequency": 0.55,
          "frequency_final": 0.97,
          "log_estimated_growth_rate": 0.23702891808562884,
          "log_observed_growth_rate": 0.24606763105621976,
          "observed_growth_rate": 1.7636363636363634,
          "projected_frequency": 0.95,
          "timepoint": "2034-10-01T00:00:00",
          "year": 2034
         },
         {
          "clade_membership": "d48329b",
          "estimated_growth_rate": 1.473684210526316,
          "frequency": 0.19,
          "frequency_final": 0.13,
          "log_estimated_growth_rate": 0.1676729526573524,
          "log_observed_growth_rate": -0.16376207159196327,
          "observed_growth_rate": 0.6842105263157895,
          "projected_frequency": 0.28,
          "timepoint": "2034-10-01T00:00:00",
          "year": 2034
         },
         {
          "clade_membership": "f13c38d",
          "estimated_growth_rate": 1.0999999999999999,
          "frequency": 0.9,
          "frequency_final": 1,
          "log_estimated_growth_rate": 0.04134886350621237,
          "log_observed_growth_rate": 0.045709286500255644,
          "observed_growth_rate": 1.1111111111111112,
          "projected_frequency": 0.99,
          "timepoint": "2034-10-01T00:00:00",
          "year": 2034
         },
         {
          "clade_membership": "f7aaa9e",
          "estimated_growth_rate": 2.0588235294117645,
          "frequency": 0.17,
          "frequency_final": 0.24,
          "log_estimated_growth_rate": 0.3123110060736702,
          "log_observed_growth_rate": 0.1490209321827145,
          "observed_growth_rate": 1.4117647058823528,
          "projected_frequency": 0.35,
          "timepoint": "2034-10-01T00:00:00",
          "year": 2034
         },
         {
          "clade_membership": "4a3be37",
          "estimated_growth_rate": 1.9473684210526316,
          "frequency": 0.19,
          "frequency_final": 0.65,
          "log_estimated_growth_rate": 0.2883405423673183,
          "log_observed_growth_rate": 0.5325476213204644,
          "observed_growth_rate": 3.4210526315789473,
          "projected_frequency": 0.37,
          "timepoint": "2035-04-01T00:00:00",
          "year": 2035
         },
         {
          "clade_membership": "4c17808",
          "estimated_growth_rate": 1.064516129032258,
          "frequency": 0.93,
          "frequency_final": 1,
          "log_estimated_growth_rate": 0.027123973503932638,
          "log_observed_growth_rate": 0.03148439649797597,
          "observed_growth_rate": 1.075268817204301,
          "projected_frequency": 0.99,
          "timepoint": "2035-04-01T00:00:00",
          "year": 2035
         },
         {
          "clade_membership": "baec3f4",
          "estimated_growth_rate": 1.0909090909090908,
          "frequency": 0.88,
          "frequency_final": 1,
          "log_estimated_growth_rate": 0.03774747925649745,
          "log_observed_growth_rate": 0.05545816906727064,
          "observed_growth_rate": 1.1363636363636365,
          "projected_frequency": 0.96,
          "timepoint": "2035-04-01T00:00:00",
          "year": 2035
         },
         {
          "clade_membership": "d48329b",
          "estimated_growth_rate": 0.4230769230769231,
          "frequency": 0.26,
          "frequency_final": 0.03,
          "log_estimated_growth_rate": -0.37131752855162353,
          "log_observed_growth_rate": -0.9252788135040083,
          "observed_growth_rate": 0.11538461538461538,
          "projected_frequency": 0.11,
          "timepoint": "2035-04-01T00:00:00",
          "year": 2035
         },
         {
          "clade_membership": "4a3be37",
          "estimated_growth_rate": 2.142857142857143,
          "frequency": 0.35,
          "frequency_final": 0.82,
          "log_estimated_growth_rate": 0.33033282053834434,
          "log_observed_growth_rate": 0.36903604065361667,
          "observed_growth_rate": 2.342857142857143,
          "projected_frequency": 0.75,
          "timepoint": "2035-10-01T00:00:00",
          "year": 2035
         },
         {
          "clade_membership": "4c17808",
          "estimated_growth_rate": 1.010204081632653,
          "frequency": 0.98,
          "frequency_final": 1,
          "log_estimated_growth_rate": 0.0044046471053268135,
          "log_observed_growth_rate": 0.008765070099370121,
          "observed_growth_rate": 1.0204081632653061,
          "projected_frequency": 0.99,
          "timepoint": "2035-10-01T00:00:00",
          "year": 2035
         },
         {
          "clade_membership": "b57c83a",
          "estimated_growth_rate": 2.142857142857143,
          "frequency": 0.35,
          "frequency_final": 0.82,
          "log_estimated_growth_rate": 0.33033282053834434,
          "log_observed_growth_rate": 0.36903604065361667,
          "observed_growth_rate": 2.342857142857143,
          "projected_frequency": 0.75,
          "timepoint": "2035-10-01T00:00:00",
          "year": 2035
         },
         {
          "clade_membership": "baec3f4",
          "estimated_growth_rate": 1.0206185567010309,
          "frequency": 0.97,
          "frequency_final": 1,
          "log_estimated_growth_rate": 0.008854424577270514,
          "log_observed_growth_rate": 0.013214847571313755,
          "observed_growth_rate": 1.0309278350515465,
          "projected_frequency": 0.99,
          "timepoint": "2035-10-01T00:00:00",
          "year": 2035
         },
         {
          "clade_membership": "bc4b01e",
          "estimated_growth_rate": 3.3157894736842106,
          "frequency": 0.19,
          "frequency_final": 0.62,
          "log_estimated_growth_rate": 0.5189959919964068,
          "log_observed_growth_rate": 0.5120582329288527,
          "observed_growth_rate": 3.263157894736842,
          "projected_frequency": 0.63,
          "timepoint": "2035-10-01T00:00:00",
          "year": 2035
         },
         {
          "clade_membership": "f7aaa9e",
          "estimated_growth_rate": 0.5,
          "frequency": 0.24,
          "frequency_final": 0.09,
          "log_estimated_growth_rate": -0.2992316722584183,
          "log_observed_growth_rate": -0.4229756502537748,
          "observed_growth_rate": 0.375,
          "projected_frequency": 0.12,
          "timepoint": "2035-10-01T00:00:00",
          "year": 2035
         },
         {
          "clade_membership": "06eb6a0",
          "estimated_growth_rate": 0.33333333333333337,
          "frequency": 0.21,
          "frequency_final": 0.01,
          "log_estimated_growth_rate": -0.4730241065786173,
          "log_observed_growth_rate": -1.2828897701394677,
          "observed_growth_rate": 0.04761904761904762,
          "projected_frequency": 0.07,
          "timepoint": "2036-04-01T00:00:00",
          "year": 2036
         },
         {
          "clade_membership": "4a3be37",
          "estimated_growth_rate": 1.2461538461538462,
          "frequency": 0.65,
          "frequency_final": 0.96,
          "log_estimated_growth_rate": 0.09543986564296407,
          "log_observed_growth_rate": 0.16914239910035336,
          "observed_growth_rate": 1.4769230769230768,
          "projected_frequency": 0.81,
          "timepoint": "2036-04-01T00:00:00",
          "year": 2036
         },
         {
          "clade_membership": "79987d7",
          "estimated_growth_rate": 2.266666666666667,
          "frequency": 0.3,
          "frequency_final": 0.95,
          "log_estimated_growth_rate": 0.35458061631894183,
          "log_observed_growth_rate": 0.4996140213435706,
          "observed_growth_rate": 3.1666666666666665,
          "projected_frequency": 0.68,
          "timepoint": "2036-04-01T00:00:00",
          "year": 2036
         },
         {
          "clade_membership": "ac1a4c3",
          "estimated_growth_rate": 0.33333333333333337,
          "frequency": 0.21,
          "frequency_final": 0.01,
          "log_estimated_growth_rate": -0.4730241065786173,
          "log_observed_growth_rate": -1.2828897701394677,
          "observed_growth_rate": 0.04761904761904762,
          "projected_frequency": 0.07,
          "timepoint": "2036-04-01T00:00:00",
          "year": 2036
         },
         {
          "clade_membership": "b57c83a",
          "estimated_growth_rate": 1.2461538461538462,
          "frequency": 0.65,
          "frequency_final": 0.96,
          "log_estimated_growth_rate": 0.09543986564296407,
          "log_observed_growth_rate": 0.16914239910035336,
          "observed_growth_rate": 1.4769230769230768,
          "projected_frequency": 0.81,
          "timepoint": "2036-04-01T00:00:00",
          "year": 2036
         },
         {
          "clade_membership": "bc4b01e",
          "estimated_growth_rate": 1.7209302325581395,
          "frequency": 0.43,
          "frequency_final": 0.95,
          "log_estimated_growth_rate": 0.23534093781859655,
          "log_observed_growth_rate": 0.34370324677668235,
          "observed_growth_rate": 2.2093023255813953,
          "projected_frequency": 0.74,
          "timepoint": "2036-04-01T00:00:00",
          "year": 2036
         },
         {
          "clade_membership": "f7aaa9e",
          "estimated_growth_rate": 0.7894736842105263,
          "frequency": 0.19,
          "frequency_final": 0.01,
          "log_estimated_growth_rate": -0.1020564199545581,
          "log_observed_growth_rate": -1.2396406820895025,
          "observed_growth_rate": 0.05263157894736842,
          "projected_frequency": 0.15,
          "timepoint": "2036-04-01T00:00:00",
          "year": 2036
         },
         {
          "clade_membership": "4a3be37",
          "estimated_growth_rate": 0.9878048780487806,
          "frequency": 0.82,
          "frequency_final": 1,
          "log_estimated_growth_rate": -0.005322302908284679,
          "log_observed_growth_rate": 0.08609092035987784,
          "observed_growth_rate": 1.2195121951219512,
          "projected_frequency": 0.81,
          "timepoint": "2036-10-01T00:00:00",
          "year": 2036
         },
         {
          "clade_membership": "79987d7",
          "estimated_growth_rate": 1.0333333333333334,
          "frequency": 0.6,
          "frequency_final": 1,
          "log_estimated_growth_rate": 0.014217128173840658,
          "log_observed_growth_rate": 0.22155960547657907,
          "observed_growth_rate": 1.6666666666666667,
          "projected_frequency": 0.62,
          "timepoint": "2036-10-01T00:00:00",
          "year": 2036
         },
         {
          "clade_membership": "a125a94",
          "estimated_growth_rate": 1.4761904761904763,
          "frequency": 0.21,
          "frequency_final": 0.01,
          "log_estimated_growth_rate": 0.16847793372914485,
          "log_observed_growth_rate": -1.2828897701394677,
          "observed_growth_rate": 0.04761904761904762,
          "projected_frequency": 0.31,
          "timepoint": "2036-10-01T00:00:00",
          "year": 2036
         },
         {
          "clade_membership": "b57c83a",
          "estimated_growth_rate": 0.9878048780487806,
          "frequency": 0.82,
          "frequency_final": 1,
          "log_estimated_growth_rate": -0.005322302908284679,
          "log_observed_growth_rate": 0.08609092035987784,
          "observed_growth_rate": 1.2195121951219512,
          "projected_frequency": 0.81,
          "timepoint": "2036-10-01T00:00:00",
          "year": 2036
         },
         {
          "clade_membership": "bc4b01e",
          "estimated_growth_rate": 1.0161290322580645,
          "frequency": 0.62,
          "frequency_final": 1,
          "log_estimated_growth_rate": 0.006937759067554153,
          "log_observed_growth_rate": 0.20734247730273841,
          "observed_growth_rate": 1.6129032258064517,
          "projected_frequency": 0.63,
          "timepoint": "2036-10-01T00:00:00",
          "year": 2036
         },
         {
          "clade_membership": "0439b91",
          "estimated_growth_rate": 1.2195121951219512,
          "frequency": 0.82,
          "frequency_final": 1,
          "log_estimated_growth_rate": 0.08609092035987784,
          "log_observed_growth_rate": 0.08609092035987784,
          "observed_growth_rate": 1.2195121951219512,
          "projected_frequency": 1,
          "timepoint": "2037-04-01T00:00:00",
          "year": 2037
         },
         {
          "clade_membership": "4246a11",
          "estimated_growth_rate": 0.92,
          "frequency": 0.25,
          "frequency_final": 0.9,
          "log_estimated_growth_rate": -0.036061741588893796,
          "log_observed_growth_rate": 0.5550510694980249,
          "observed_growth_rate": 3.6,
          "projected_frequency": 0.23,
          "timepoint": "2037-04-01T00:00:00",
          "year": 2037
         },
         {
          "clade_membership": "4a3be37",
          "estimated_growth_rate": 1.0416666666666667,
          "frequency": 0.96,
          "frequency_final": 1,
          "log_estimated_growth_rate": 0.01771068981077321,
          "log_observed_growth_rate": 0.01771068981077321,
          "observed_growth_rate": 1.0416666666666667,
          "projected_frequency": 1,
          "timepoint": "2037-04-01T00:00:00",
          "year": 2037
         },
         {
          "clade_membership": "79987d7",
          "estimated_growth_rate": 1.0526315789473684,
          "frequency": 0.95,
          "frequency_final": 1,
          "log_estimated_growth_rate": 0.022253560541904666,
          "log_observed_growth_rate": 0.022253560541904666,
          "observed_growth_rate": 1.0526315789473684,
          "projected_frequency": 1,
          "timepoint": "2037-04-01T00:00:00",
          "year": 2037
         },
         {
          "clade_membership": "8bdf79b",
          "estimated_growth_rate": 1.1494252873563218,
          "frequency": 0.87,
          "frequency_final": 1,
          "log_estimated_growth_rate": 0.060415922471655434,
          "log_observed_growth_rate": 0.060415922471655434,
          "observed_growth_rate": 1.1494252873563218,
          "projected_frequency": 1,
          "timepoint": "2037-04-01T00:00:00",
          "year": 2037
         },
         {
          "clade_membership": "8e92da7",
          "estimated_growth_rate": 1.1494252873563218,
          "frequency": 0.87,
          "frequency_final": 1,
          "log_estimated_growth_rate": 0.060415922471655434,
          "log_observed_growth_rate": 0.060415922471655434,
          "observed_growth_rate": 1.1494252873563218,
          "projected_frequency": 1,
          "timepoint": "2037-04-01T00:00:00",
          "year": 2037
         },
         {
          "clade_membership": "a2f1320",
          "estimated_growth_rate": 1.4999999999999998,
          "frequency": 0.2,
          "frequency_final": 0.01,
          "log_estimated_growth_rate": 0.17537043817335446,
          "log_observed_growth_rate": -1.261803372262264,
          "observed_growth_rate": 0.049999999999999996,
          "projected_frequency": 0.3,
          "timepoint": "2037-04-01T00:00:00",
          "year": 2037
         },
         {
          "clade_membership": "b57c83a",
          "estimated_growth_rate": 1.0416666666666667,
          "frequency": 0.96,
          "frequency_final": 1,
          "log_estimated_growth_rate": 0.01771068981077321,
          "log_observed_growth_rate": 0.01771068981077321,
          "observed_growth_rate": 1.0416666666666667,
          "projected_frequency": 1,
          "timepoint": "2037-04-01T00:00:00",
          "year": 2037
         },
         {
          "clade_membership": "bc4b01e",
          "estimated_growth_rate": 1.0526315789473684,
          "frequency": 0.95,
          "frequency_final": 1,
          "log_estimated_growth_rate": 0.022253560541904666,
          "log_observed_growth_rate": 0.022253560541904666,
          "observed_growth_rate": 1.0526315789473684,
          "projected_frequency": 1,
          "timepoint": "2037-04-01T00:00:00",
          "year": 2037
         },
         {
          "clade_membership": "fcc72c3",
          "estimated_growth_rate": 1.1363636363636365,
          "frequency": 0.88,
          "frequency_final": 1,
          "log_estimated_growth_rate": 0.05545816906727064,
          "log_observed_growth_rate": 0.05545816906727064,
          "observed_growth_rate": 1.1363636363636365,
          "projected_frequency": 1,
          "timepoint": "2037-04-01T00:00:00",
          "year": 2037
         },
         {
          "clade_membership": "0439b91",
          "estimated_growth_rate": 1.0101010101010102,
          "frequency": 0.99,
          "frequency_final": 1,
          "log_estimated_growth_rate": 0.004360422994043273,
          "log_observed_growth_rate": 0.004360422994043273,
          "observed_growth_rate": 1.0101010101010102,
          "projected_frequency": 1,
          "timepoint": "2037-10-01T00:00:00",
          "year": 2037
         },
         {
          "clade_membership": "8bdf79b",
          "estimated_growth_rate": 1.0101010101010102,
          "frequency": 0.99,
          "frequency_final": 1,
          "log_estimated_growth_rate": 0.004360422994043273,
          "log_observed_growth_rate": 0.004360422994043273,
          "observed_growth_rate": 1.0101010101010102,
          "projected_frequency": 1,
          "timepoint": "2037-10-01T00:00:00",
          "year": 2037
         },
         {
          "clade_membership": "8e92da7",
          "estimated_growth_rate": 1.0101010101010102,
          "frequency": 0.99,
          "frequency_final": 1,
          "log_estimated_growth_rate": 0.004360422994043273,
          "log_observed_growth_rate": 0.004360422994043273,
          "observed_growth_rate": 1.0101010101010102,
          "projected_frequency": 1,
          "timepoint": "2037-10-01T00:00:00",
          "year": 2037
         },
         {
          "clade_membership": "8f812d8",
          "estimated_growth_rate": 2.0588235294117645,
          "frequency": 0.17,
          "frequency_final": 0.13,
          "log_estimated_growth_rate": 0.3123110060736702,
          "log_observed_growth_rate": -0.11572481473638957,
          "observed_growth_rate": 0.7647058823529411,
          "projected_frequency": 0.35,
          "timepoint": "2037-10-01T00:00:00",
          "year": 2037
         },
         {
          "clade_membership": "fcc72c3",
          "estimated_growth_rate": 1.0101010101010102,
          "frequency": 0.99,
          "frequency_final": 1,
          "log_estimated_growth_rate": 0.004360422994043273,
          "log_observed_growth_rate": 0.004360422994043273,
          "observed_growth_rate": 1.0101010101010102,
          "projected_frequency": 1,
          "timepoint": "2037-10-01T00:00:00",
          "year": 2037
         },
         {
          "clade_membership": "2a642a4",
          "estimated_growth_rate": 1.0444444444444443,
          "frequency": 0.9,
          "frequency_final": 0.91,
          "log_estimated_growth_rate": 0.01886483244819387,
          "log_observed_growth_rate": 0.004793585993935233,
          "observed_growth_rate": 1.011111111111111,
          "projected_frequency": 0.94,
          "timepoint": "2038-04-01T00:00:00",
          "year": 2038
         },
         {
          "clade_membership": "4011481",
          "estimated_growth_rate": 1.0444444444444443,
          "frequency": 0.9,
          "frequency_final": 0.91,
          "log_estimated_growth_rate": 0.01886483244819387,
          "log_observed_growth_rate": 0.004793585993935233,
          "observed_growth_rate": 1.011111111111111,
          "projected_frequency": 0.94,
          "timepoint": "2038-04-01T00:00:00",
          "year": 2038
         },
         {
          "clade_membership": "4246a11",
          "estimated_growth_rate": 1.0444444444444443,
          "frequency": 0.9,
          "frequency_final": 0.91,
          "log_estimated_growth_rate": 0.01886483244819387,
          "log_observed_growth_rate": 0.004793585993935233,
          "observed_growth_rate": 1.011111111111111,
          "projected_frequency": 0.94,
          "timepoint": "2038-04-01T00:00:00",
          "year": 2038
         },
         {
          "clade_membership": "8753dfa",
          "estimated_growth_rate": 1.0444444444444443,
          "frequency": 0.9,
          "frequency_final": 0.91,
          "log_estimated_growth_rate": 0.01886483244819387,
          "log_observed_growth_rate": 0.004793585993935233,
          "observed_growth_rate": 1.011111111111111,
          "projected_frequency": 0.94,
          "timepoint": "2038-04-01T00:00:00",
          "year": 2038
         },
         {
          "clade_membership": "2a642a4",
          "estimated_growth_rate": 1.0689655172413794,
          "frequency": 0.87,
          "frequency_final": 0.98,
          "log_estimated_growth_rate": 0.028931525973679418,
          "log_observed_growth_rate": 0.051650852372285304,
          "observed_growth_rate": 1.1264367816091954,
          "projected_frequency": 0.93,
          "timepoint": "2038-10-01T00:00:00",
          "year": 2038
         },
         {
          "clade_membership": "4011481",
          "estimated_growth_rate": 1.0689655172413794,
          "frequency": 0.87,
          "frequency_final": 0.98,
          "log_estimated_growth_rate": 0.028931525973679418,
          "log_observed_growth_rate": 0.051650852372285304,
          "observed_growth_rate": 1.1264367816091954,
          "projected_frequency": 0.93,
          "timepoint": "2038-10-01T00:00:00",
          "year": 2038
         },
         {
          "clade_membership": "4246a11",
          "estimated_growth_rate": 1.0689655172413794,
          "frequency": 0.87,
          "frequency_final": 0.98,
          "log_estimated_growth_rate": 0.028931525973679418,
          "log_observed_growth_rate": 0.051650852372285304,
          "observed_growth_rate": 1.1264367816091954,
          "projected_frequency": 0.93,
          "timepoint": "2038-10-01T00:00:00",
          "year": 2038
         },
         {
          "clade_membership": "8753dfa",
          "estimated_growth_rate": 1.0689655172413794,
          "frequency": 0.87,
          "frequency_final": 0.98,
          "log_estimated_growth_rate": 0.028931525973679418,
          "log_observed_growth_rate": 0.051650852372285304,
          "observed_growth_rate": 1.1264367816091954,
          "projected_frequency": 0.93,
          "timepoint": "2038-10-01T00:00:00",
          "year": 2038
         },
         {
          "clade_membership": "2a642a4",
          "estimated_growth_rate": 1.054945054945055,
          "frequency": 0.91,
          "frequency_final": 1,
          "log_estimated_growth_rate": 0.02320501069554704,
          "log_observed_growth_rate": 0.04091570050632029,
          "observed_growth_rate": 1.0989010989010988,
          "projected_frequency": 0.96,
          "timepoint": "2039-04-01T00:00:00",
          "year": 2039
         },
         {
          "clade_membership": "4011481",
          "estimated_growth_rate": 1.054945054945055,
          "frequency": 0.91,
          "frequency_final": 1,
          "log_estimated_growth_rate": 0.02320501069554704,
          "log_observed_growth_rate": 0.04091570050632029,
          "observed_growth_rate": 1.0989010989010988,
          "projected_frequency": 0.96,
          "timepoint": "2039-04-01T00:00:00",
          "year": 2039
         },
         {
          "clade_membership": "4246a11",
          "estimated_growth_rate": 1.054945054945055,
          "frequency": 0.91,
          "frequency_final": 1,
          "log_estimated_growth_rate": 0.02320501069554704,
          "log_observed_growth_rate": 0.04091570050632029,
          "observed_growth_rate": 1.0989010989010988,
          "projected_frequency": 0.96,
          "timepoint": "2039-04-01T00:00:00",
          "year": 2039
         },
         {
          "clade_membership": "4e6e637",
          "estimated_growth_rate": 1.0588235294117645,
          "frequency": 0.17,
          "frequency_final": 0,
          "log_estimated_growth_rate": 0.024682464477030628,
          "log_observed_growth_rate": -2.232996110392154,
          "observed_growth_rate": 0,
          "projected_frequency": 0.18,
          "timepoint": "2039-04-01T00:00:00",
          "year": 2039
         },
         {
          "clade_membership": "8753dfa",
          "estimated_growth_rate": 1.054945054945055,
          "frequency": 0.91,
          "frequency_final": 1,
          "log_estimated_growth_rate": 0.02320501069554704,
          "log_observed_growth_rate": 0.04091570050632029,
          "observed_growth_rate": 1.0989010989010988,
          "projected_frequency": 0.96,
          "timepoint": "2039-04-01T00:00:00",
          "year": 2039
         },
         {
          "clade_membership": "b76ba88",
          "estimated_growth_rate": 1.764705882352941,
          "frequency": 0.17,
          "frequency_final": 1,
          "log_estimated_growth_rate": 0.24557038520168947,
          "log_observed_growth_rate": 0.7674379670871647,
          "observed_growth_rate": 5.88235294117647,
          "projected_frequency": 0.3,
          "timepoint": "2039-04-01T00:00:00",
          "year": 2039
         },
         {
          "clade_membership": "14dde64",
          "estimated_growth_rate": 0.6595744680851064,
          "frequency": 0.47,
          "frequency_final": 1,
          "log_estimated_growth_rate": -0.18026051810205862,
          "log_observed_growth_rate": 0.3274131703504224,
          "observed_growth_rate": 2.127659574468085,
          "projected_frequency": 0.31,
          "timepoint": "2039-10-01T00:00:00",
          "year": 2039
         },
         {
          "clade_membership": "2a642a4",
          "estimated_growth_rate": 0.9795918367346939,
          "frequency": 0.98,
          "frequency_final": 1,
          "log_estimated_growth_rate": -0.00894561971140314,
          "log_observed_growth_rate": 0.008765070099370121,
          "observed_growth_rate": 1.0204081632653061,
          "projected_frequency": 0.96,
          "timepoint": "2039-10-01T00:00:00",
          "year": 2039
         },
         {
          "clade_membership": "4011481",
          "estimated_growth_rate": 0.9795918367346939,
          "frequency": 0.98,
          "frequency_final": 1,
          "log_estimated_growth_rate": -0.00894561971140314,
          "log_observed_growth_rate": 0.008765070099370121,
          "observed_growth_rate": 1.0204081632653061,
          "projected_frequency": 0.96,
          "timepoint": "2039-10-01T00:00:00",
          "year": 2039
         },
         {
          "clade_membership": "4246a11",
          "estimated_growth_rate": 0.9795918367346939,
          "frequency": 0.98,
          "frequency_final": 1,
          "log_estimated_growth_rate": -0.00894561971140314,
          "log_observed_growth_rate": 0.008765070099370121,
          "observed_growth_rate": 1.0204081632653061,
          "projected_frequency": 0.96,
          "timepoint": "2039-10-01T00:00:00",
          "year": 2039
         },
         {
          "clade_membership": "5198bfc",
          "estimated_growth_rate": 0.6382978723404256,
          "frequency": 0.47,
          "frequency_final": 1,
          "log_estimated_growth_rate": -0.19445441153505283,
          "log_observed_growth_rate": 0.3274131703504224,
          "observed_growth_rate": 2.127659574468085,
          "projected_frequency": 0.3,
          "timepoint": "2039-10-01T00:00:00",
          "year": 2039
         },
         {
          "clade_membership": "5dd5482",
          "estimated_growth_rate": 0.6595744680851064,
          "frequency": 0.47,
          "frequency_final": 1,
          "log_estimated_growth_rate": -0.18026051810205862,
          "log_observed_growth_rate": 0.3274131703504224,
          "observed_growth_rate": 2.127659574468085,
          "projected_frequency": 0.31,
          "timepoint": "2039-10-01T00:00:00",
          "year": 2039
         },
         {
          "clade_membership": "8753dfa",
          "estimated_growth_rate": 0.9795918367346939,
          "frequency": 0.98,
          "frequency_final": 1,
          "log_estimated_growth_rate": -0.00894561971140314,
          "log_observed_growth_rate": 0.008765070099370121,
          "observed_growth_rate": 1.0204081632653061,
          "projected_frequency": 0.96,
          "timepoint": "2039-10-01T00:00:00",
          "year": 2039
         },
         {
          "clade_membership": "b76ba88",
          "estimated_growth_rate": 0.7704918032786885,
          "frequency": 0.61,
          "frequency_final": 1,
          "log_estimated_growth_rate": -0.11302030311365806,
          "log_observed_growth_rate": 0.21439286723676435,
          "observed_growth_rate": 1.639344262295082,
          "projected_frequency": 0.47,
          "timepoint": "2039-10-01T00:00:00",
          "year": 2039
         },
         {
          "clade_membership": "d91376c",
          "estimated_growth_rate": 0.7090909090909091,
          "frequency": 0.55,
          "frequency_final": 1,
          "log_estimated_growth_rate": -0.14897484145591827,
          "log_observed_growth_rate": 0.2592824786275335,
          "observed_growth_rate": 1.8181818181818181,
          "projected_frequency": 0.39,
          "timepoint": "2039-10-01T00:00:00",
          "year": 2039
         },
         {
          "clade_membership": "f1e64ed",
          "estimated_growth_rate": 0.6595744680851064,
          "frequency": 0.47,
          "frequency_final": 1,
          "log_estimated_growth_rate": -0.18026051810205862,
          "log_observed_growth_rate": 0.3274131703504224,
          "observed_growth_rate": 2.127659574468085,
          "projected_frequency": 0.31,
          "timepoint": "2039-10-01T00:00:00",
          "year": 2039
         }
        ]
       },
       "encoding": {
        "color": {
         "field": "timepoint",
         "type": "nominal"
        },
        "tooltip": [
         {
          "field": "observed_growth_rate",
          "type": "quantitative"
         },
         {
          "field": "estimated_growth_rate",
          "type": "quantitative"
         },
         {
          "field": "timepoint",
          "type": "nominal"
         },
         {
          "field": "frequency",
          "type": "quantitative"
         },
         {
          "field": "frequency_final",
          "type": "quantitative"
         },
         {
          "field": "projected_frequency",
          "type": "quantitative"
         },
         {
          "field": "clade_membership",
          "type": "nominal"
         }
        ],
        "x": {
         "field": "log_observed_growth_rate",
         "scale": {
          "domain": [
           -2.516640507338281,
           1.1
          ]
         },
         "type": "quantitative"
        },
        "y": {
         "field": "log_estimated_growth_rate",
         "scale": {
          "domain": [
           -2.516640507338281,
           1.1
          ]
         },
         "type": "quantitative"
        }
       },
       "height": 400,
       "mark": "circle",
       "selection": {
        "selector001": {
         "bind": "scales",
         "encodings": [
          "x",
          "y"
         ],
         "type": "interval"
        }
       },
       "title": "Forecasts by LBI: Pearson's R = 0.73, MCC = 0.45",
       "width": 400
      },
      "image/png": "[encoded data removed]",
      "text/plain": [
       "<VegaLite 3 object>\n",
       "\n",
       "If you see this message, it means the renderer has not been properly enabled\n",
       "for the frontend that you are using. For more information, see\n",
       "https://altair-viz.github.io/user_guide/troubleshooting.html\n"
      ]
     },
     "execution_count": 70,
     "metadata": {},
     "output_type": "execute_result"
    }
   ],
   "source": [
    "tooltip_attributes = [\"observed_growth_rate:Q\", \"estimated_growth_rate:Q\", \"timepoint:N\", \"frequency:Q\", \"frequency_final:Q\",\n",
    "                      \"projected_frequency:Q\", \"clade_membership:N\"]\n",
    "\n",
    "chart = alt.Chart(complete_clade_frequencies).mark_circle().encode(\n",
    "    alt.X(\"log_observed_growth_rate:Q\", scale=alt.Scale(domain=(log_lower_limit, log_upper_limit))),\n",
    "    alt.Y(\"log_estimated_growth_rate:Q\", scale=alt.Scale(domain=(log_lower_limit, log_upper_limit))),\n",
    "    alt.Color(\"timepoint:N\"),\n",
    "    alt.Tooltip(tooltip_attributes)\n",
    ").properties(\n",
    "    width=400,\n",
    "    height=400,\n",
    "    title=\"Forecasts by LBI: Pearson's R = %.2f, MCC = %.2f\" % (r, mcc)\n",
    ").interactive()\n",
    "\n",
    "#chart.save(\"forecast_log_growth_correlation_natural_lbi.svg\")\n",
    "chart"
   ]
  },
  {
   "cell_type": "code",
   "execution_count": 71,
   "metadata": {},
   "outputs": [
    {
     "data": {
      "text/plain": [
       "-2.516640507338281"
      ]
     },
     "execution_count": 71,
     "metadata": {},
     "output_type": "execute_result"
    }
   ],
   "source": [
    "log_lower_limit"
   ]
  },
  {
   "cell_type": "code",
   "execution_count": 72,
   "metadata": {},
   "outputs": [
    {
     "data": {
      "text/plain": [
       "-2.416640507338281"
      ]
     },
     "execution_count": 72,
     "metadata": {},
     "output_type": "execute_result"
    }
   ],
   "source": [
    "complete_clade_frequencies.loc[:, [\"log_observed_growth_rate\", \"log_estimated_growth_rate\"]].min().min()"
   ]
  },
  {
   "cell_type": "code",
   "execution_count": 73,
   "metadata": {},
   "outputs": [],
   "source": [
    "r, p = pearsonr(\n",
    "    complete_clade_frequencies[\"log_observed_growth_rate\"],\n",
    "    complete_clade_frequencies[\"log_estimated_growth_rate\"]\n",
    ")"
   ]
  },
  {
   "cell_type": "code",
   "execution_count": 74,
   "metadata": {},
   "outputs": [
    {
     "data": {
      "text/plain": [
       "0.7210379161004551"
      ]
     },
     "execution_count": 74,
     "metadata": {},
     "output_type": "execute_result"
    }
   ],
   "source": [
    "r"
   ]
  },
  {
   "cell_type": "code",
   "execution_count": 75,
   "metadata": {},
   "outputs": [
    {
     "data": {
      "text/plain": [
       "5.662142104343246e-22"
      ]
     },
     "execution_count": 75,
     "metadata": {},
     "output_type": "execute_result"
    }
   ],
   "source": [
    "p"
   ]
  },
  {
   "cell_type": "code",
   "execution_count": 76,
   "metadata": {},
   "outputs": [
    {
     "data": {
      "text/plain": [
       "(0.7305469071958913, 8.76934029211108e-23)"
      ]
     },
     "execution_count": 76,
     "metadata": {},
     "output_type": "execute_result"
    }
   ],
   "source": [
    "pearsonr(\n",
    "    complete_clade_frequencies[\"observed_growth_rate\"],\n",
    "    complete_clade_frequencies[\"estimated_growth_rate\"]\n",
    ")"
   ]
  },
  {
   "cell_type": "code",
   "execution_count": 77,
   "metadata": {},
   "outputs": [],
   "source": [
    "complete_clade_frequencies[\"observed_growth\"] = (complete_clade_frequencies[\"observed_growth_rate\"] > 1)"
   ]
  },
  {
   "cell_type": "code",
   "execution_count": 78,
   "metadata": {},
   "outputs": [],
   "source": [
    "complete_clade_frequencies[\"estimated_growth\"] = (complete_clade_frequencies[\"estimated_growth_rate\"] > 1)"
   ]
  },
  {
   "cell_type": "code",
   "execution_count": 79,
   "metadata": {},
   "outputs": [
    {
     "data": {
      "text/plain": [
       "observed_growth     98\n",
       "estimated_growth    98\n",
       "dtype: int64"
      ]
     },
     "execution_count": 79,
     "metadata": {},
     "output_type": "execute_result"
    }
   ],
   "source": [
    "complete_clade_frequencies.aggregate({\"observed_growth\": \"sum\", \"estimated_growth\": \"sum\"})"
   ]
  },
  {
   "cell_type": "code",
   "execution_count": 80,
   "metadata": {},
   "outputs": [],
   "source": [
    "complete_clade_frequencies[\"accurate_growth\"] = (\n",
    "    (complete_clade_frequencies[\"observed_growth\"]) == (complete_clade_frequencies[\"estimated_growth\"])\n",
    ")"
   ]
  },
  {
   "cell_type": "code",
   "execution_count": 81,
   "metadata": {},
   "outputs": [
    {
     "data": {
      "text/plain": [
       "{'tp': 85, 'tn': 18, 'fp': 13, 'fn': 13}"
      ]
     },
     "execution_count": 81,
     "metadata": {},
     "output_type": "execute_result"
    }
   ],
   "source": [
    "confusion_matrix"
   ]
  },
  {
   "cell_type": "code",
   "execution_count": 82,
   "metadata": {},
   "outputs": [
    {
     "data": {
      "image/png": "[encoded data removed]",
      "text/plain": [
       "<Figure size 1200x1200 with 1 Axes>"
      ]
     },
     "metadata": {},
     "output_type": "display_data"
    }
   ],
   "source": [
    "fig, ax = plt.subplots(1, 1, figsize=(6, 6))\n",
    "ax.plot(\n",
    "    complete_clade_frequencies[\"log_observed_growth_rate\"],\n",
    "    complete_clade_frequencies[\"log_estimated_growth_rate\"],\n",
    "    \"o\",\n",
    "    alpha=0.4\n",
    ")\n",
    "\n",
    "ax.axhline(color=\"#cccccc\", zorder=-5)\n",
    "ax.axvline(color=\"#cccccc\", zorder=-5)\n",
    "\n",
    "if p < 0.001:\n",
    "    p_value = \"$p$ < 0.001\"\n",
    "else:\n",
    "    p_value = \"$p$ = %.3f\" % p\n",
    "\n",
    "ax.text(\n",
    "    0.02,\n",
    "    0.9,\n",
    "    \"Growth accuracy = %.2f\\nDecline accuracy = %.2f\\n$R$ = %.2f\\n%s\" % (growth_accuracy, decline_accuracy, r, p_value),\n",
    "    fontsize=12,\n",
    "    horizontalalignment=\"left\",\n",
    "    verticalalignment=\"center\",\n",
    "    transform=ax.transAxes\n",
    ")\n",
    "\n",
    "ax.set_xlabel(\"Observed $log_{10}$ growth rate\")\n",
    "ax.set_ylabel(\"Estimated $log_{10}$ growth rate\")\n",
    "\n",
    "ticks = np.arange(-6, 4, 1)\n",
    "ax.set_xticks(ticks)\n",
    "ax.set_yticks(ticks)\n",
    "\n",
    "ax.set_xlim(log_lower_limit, log_upper_limit)\n",
    "ax.set_ylim(log_lower_limit, log_upper_limit)\n",
    "ax.set_aspect(\"equal\")\n",
    "\n",
    "plt.tight_layout()\n",
    "plt.savefig(\"../manuscript/figures/validation-of-best-model-for-simulated-populations-by-clade-growth.png\")"
   ]
  },
  {
   "cell_type": "code",
   "execution_count": 83,
   "metadata": {},
   "outputs": [],
   "source": [
    "false_positives = (complete_clade_frequencies[\"log_observed_growth_rate\"] < 0) & (complete_clade_frequencies[\"log_estimated_growth_rate\"] > 0)"
   ]
  },
  {
   "cell_type": "code",
   "execution_count": 84,
   "metadata": {},
   "outputs": [
    {
     "data": {
      "text/plain": [
       "{'tp': 85, 'tn': 18, 'fp': 13, 'fn': 13}"
      ]
     },
     "execution_count": 84,
     "metadata": {},
     "output_type": "execute_result"
    }
   ],
   "source": [
    "confusion_matrix"
   ]
  },
  {
   "cell_type": "code",
   "execution_count": 85,
   "metadata": {},
   "outputs": [
    {
     "data": {
      "text/html": [
       "<div>\n",
       "<style scoped>\n",
       "    .dataframe tbody tr th:only-of-type {\n",
       "        vertical-align: middle;\n",
       "    }\n",
       "\n",
       "    .dataframe tbody tr th {\n",
       "        vertical-align: top;\n",
       "    }\n",
       "\n",
       "    .dataframe thead th {\n",
       "        text-align: right;\n",
       "    }\n",
       "</style>\n",
       "<table border=\"1\" class=\"dataframe\">\n",
       "  <thead>\n",
       "    <tr style=\"text-align: right;\">\n",
       "      <th></th>\n",
       "      <th>timepoint</th>\n",
       "      <th>clade_membership</th>\n",
       "      <th>frequency</th>\n",
       "      <th>frequency_final</th>\n",
       "      <th>projected_frequency</th>\n",
       "      <th>observed_growth_rate</th>\n",
       "      <th>estimated_growth_rate</th>\n",
       "      <th>year</th>\n",
       "      <th>log_observed_growth_rate</th>\n",
       "      <th>log_estimated_growth_rate</th>\n",
       "      <th>observed_growth</th>\n",
       "      <th>estimated_growth</th>\n",
       "      <th>accurate_growth</th>\n",
       "    </tr>\n",
       "  </thead>\n",
       "  <tbody>\n",
       "    <tr>\n",
       "      <th>78</th>\n",
       "      <td>2033-10-01</td>\n",
       "      <td>8d6504d</td>\n",
       "      <td>0.16</td>\n",
       "      <td>0.05</td>\n",
       "      <td>0.22</td>\n",
       "      <td>0.312500</td>\n",
       "      <td>1.375000</td>\n",
       "      <td>2033</td>\n",
       "      <td>-0.499256</td>\n",
       "      <td>0.137566</td>\n",
       "      <td>False</td>\n",
       "      <td>True</td>\n",
       "      <td>False</td>\n",
       "    </tr>\n",
       "    <tr>\n",
       "      <th>272</th>\n",
       "      <td>2037-10-01</td>\n",
       "      <td>8f812d8</td>\n",
       "      <td>0.17</td>\n",
       "      <td>0.13</td>\n",
       "      <td>0.35</td>\n",
       "      <td>0.764706</td>\n",
       "      <td>2.058824</td>\n",
       "      <td>2037</td>\n",
       "      <td>-0.115725</td>\n",
       "      <td>0.312311</td>\n",
       "      <td>False</td>\n",
       "      <td>True</td>\n",
       "      <td>False</td>\n",
       "    </tr>\n",
       "    <tr>\n",
       "      <th>362</th>\n",
       "      <td>2039-04-01</td>\n",
       "      <td>4e6e637</td>\n",
       "      <td>0.17</td>\n",
       "      <td>0.00</td>\n",
       "      <td>0.18</td>\n",
       "      <td>0.000000</td>\n",
       "      <td>1.058824</td>\n",
       "      <td>2039</td>\n",
       "      <td>-2.232996</td>\n",
       "      <td>0.024682</td>\n",
       "      <td>False</td>\n",
       "      <td>True</td>\n",
       "      <td>False</td>\n",
       "    </tr>\n",
       "    <tr>\n",
       "      <th>121</th>\n",
       "      <td>2034-10-01</td>\n",
       "      <td>d48329b</td>\n",
       "      <td>0.19</td>\n",
       "      <td>0.13</td>\n",
       "      <td>0.28</td>\n",
       "      <td>0.684211</td>\n",
       "      <td>1.473684</td>\n",
       "      <td>2034</td>\n",
       "      <td>-0.163762</td>\n",
       "      <td>0.167673</td>\n",
       "      <td>False</td>\n",
       "      <td>True</td>\n",
       "      <td>False</td>\n",
       "    </tr>\n",
       "    <tr>\n",
       "      <th>244</th>\n",
       "      <td>2037-04-01</td>\n",
       "      <td>a2f1320</td>\n",
       "      <td>0.20</td>\n",
       "      <td>0.01</td>\n",
       "      <td>0.30</td>\n",
       "      <td>0.050000</td>\n",
       "      <td>1.500000</td>\n",
       "      <td>2037</td>\n",
       "      <td>-1.261803</td>\n",
       "      <td>0.175370</td>\n",
       "      <td>False</td>\n",
       "      <td>True</td>\n",
       "      <td>False</td>\n",
       "    </tr>\n",
       "    <tr>\n",
       "      <th>215</th>\n",
       "      <td>2036-10-01</td>\n",
       "      <td>a125a94</td>\n",
       "      <td>0.21</td>\n",
       "      <td>0.01</td>\n",
       "      <td>0.31</td>\n",
       "      <td>0.047619</td>\n",
       "      <td>1.476190</td>\n",
       "      <td>2036</td>\n",
       "      <td>-1.282890</td>\n",
       "      <td>0.168478</td>\n",
       "      <td>False</td>\n",
       "      <td>True</td>\n",
       "      <td>False</td>\n",
       "    </tr>\n",
       "    <tr>\n",
       "      <th>32</th>\n",
       "      <td>2032-04-01</td>\n",
       "      <td>9c89bcc</td>\n",
       "      <td>0.23</td>\n",
       "      <td>0.20</td>\n",
       "      <td>0.51</td>\n",
       "      <td>0.869565</td>\n",
       "      <td>2.217391</td>\n",
       "      <td>2032</td>\n",
       "      <td>-0.060416</td>\n",
       "      <td>0.344809</td>\n",
       "      <td>False</td>\n",
       "      <td>True</td>\n",
       "      <td>False</td>\n",
       "    </tr>\n",
       "    <tr>\n",
       "      <th>39</th>\n",
       "      <td>2032-10-01</td>\n",
       "      <td>16b37cd</td>\n",
       "      <td>0.23</td>\n",
       "      <td>0.07</td>\n",
       "      <td>0.29</td>\n",
       "      <td>0.304348</td>\n",
       "      <td>1.260870</td>\n",
       "      <td>2032</td>\n",
       "      <td>-0.512354</td>\n",
       "      <td>0.100281</td>\n",
       "      <td>False</td>\n",
       "      <td>True</td>\n",
       "      <td>False</td>\n",
       "    </tr>\n",
       "    <tr>\n",
       "      <th>43</th>\n",
       "      <td>2032-10-01</td>\n",
       "      <td>5c73ba7</td>\n",
       "      <td>0.24</td>\n",
       "      <td>0.00</td>\n",
       "      <td>0.25</td>\n",
       "      <td>0.000000</td>\n",
       "      <td>1.041667</td>\n",
       "      <td>2032</td>\n",
       "      <td>-2.382017</td>\n",
       "      <td>0.017657</td>\n",
       "      <td>False</td>\n",
       "      <td>True</td>\n",
       "      <td>False</td>\n",
       "    </tr>\n",
       "    <tr>\n",
       "      <th>46</th>\n",
       "      <td>2032-10-01</td>\n",
       "      <td>9c89bcc</td>\n",
       "      <td>0.24</td>\n",
       "      <td>0.07</td>\n",
       "      <td>0.29</td>\n",
       "      <td>0.291667</td>\n",
       "      <td>1.208333</td>\n",
       "      <td>2032</td>\n",
       "      <td>-0.530759</td>\n",
       "      <td>0.081876</td>\n",
       "      <td>False</td>\n",
       "      <td>True</td>\n",
       "      <td>False</td>\n",
       "    </tr>\n",
       "    <tr>\n",
       "      <th>50</th>\n",
       "      <td>2032-10-01</td>\n",
       "      <td>f8cdb25</td>\n",
       "      <td>0.24</td>\n",
       "      <td>0.00</td>\n",
       "      <td>0.25</td>\n",
       "      <td>0.000000</td>\n",
       "      <td>1.041667</td>\n",
       "      <td>2032</td>\n",
       "      <td>-2.382017</td>\n",
       "      <td>0.017657</td>\n",
       "      <td>False</td>\n",
       "      <td>True</td>\n",
       "      <td>False</td>\n",
       "    </tr>\n",
       "    <tr>\n",
       "      <th>41</th>\n",
       "      <td>2032-10-01</td>\n",
       "      <td>252cee5</td>\n",
       "      <td>0.26</td>\n",
       "      <td>0.01</td>\n",
       "      <td>0.29</td>\n",
       "      <td>0.038462</td>\n",
       "      <td>1.115385</td>\n",
       "      <td>2032</td>\n",
       "      <td>-1.375248</td>\n",
       "      <td>0.047252</td>\n",
       "      <td>False</td>\n",
       "      <td>True</td>\n",
       "      <td>False</td>\n",
       "    </tr>\n",
       "    <tr>\n",
       "      <th>48</th>\n",
       "      <td>2032-10-01</td>\n",
       "      <td>bf8fcc9</td>\n",
       "      <td>0.33</td>\n",
       "      <td>0.01</td>\n",
       "      <td>0.37</td>\n",
       "      <td>0.030303</td>\n",
       "      <td>1.121212</td>\n",
       "      <td>2032</td>\n",
       "      <td>-1.478435</td>\n",
       "      <td>0.049546</td>\n",
       "      <td>False</td>\n",
       "      <td>True</td>\n",
       "      <td>False</td>\n",
       "    </tr>\n",
       "  </tbody>\n",
       "</table>\n",
       "</div>"
      ],
      "text/plain": [
       "     timepoint clade_membership  frequency  frequency_final  \\\n",
       "78  2033-10-01          8d6504d       0.16             0.05   \n",
       "272 2037-10-01          8f812d8       0.17             0.13   \n",
       "362 2039-04-01          4e6e637       0.17             0.00   \n",
       "121 2034-10-01          d48329b       0.19             0.13   \n",
       "244 2037-04-01          a2f1320       0.20             0.01   \n",
       "215 2036-10-01          a125a94       0.21             0.01   \n",
       "32  2032-04-01          9c89bcc       0.23             0.20   \n",
       "39  2032-10-01          16b37cd       0.23             0.07   \n",
       "43  2032-10-01          5c73ba7       0.24             0.00   \n",
       "46  2032-10-01          9c89bcc       0.24             0.07   \n",
       "50  2032-10-01          f8cdb25       0.24             0.00   \n",
       "41  2032-10-01          252cee5       0.26             0.01   \n",
       "48  2032-10-01          bf8fcc9       0.33             0.01   \n",
       "\n",
       "     projected_frequency  observed_growth_rate  estimated_growth_rate  year  \\\n",
       "78                  0.22              0.312500               1.375000  2033   \n",
       "272                 0.35              0.764706               2.058824  2037   \n",
       "362                 0.18              0.000000               1.058824  2039   \n",
       "121                 0.28              0.684211               1.473684  2034   \n",
       "244                 0.30              0.050000               1.500000  2037   \n",
       "215                 0.31              0.047619               1.476190  2036   \n",
       "32                  0.51              0.869565               2.217391  2032   \n",
       "39                  0.29              0.304348               1.260870  2032   \n",
       "43                  0.25              0.000000               1.041667  2032   \n",
       "46                  0.29              0.291667               1.208333  2032   \n",
       "50                  0.25              0.000000               1.041667  2032   \n",
       "41                  0.29              0.038462               1.115385  2032   \n",
       "48                  0.37              0.030303               1.121212  2032   \n",
       "\n",
       "     log_observed_growth_rate  log_estimated_growth_rate  observed_growth  \\\n",
       "78                  -0.499256                   0.137566            False   \n",
       "272                 -0.115725                   0.312311            False   \n",
       "362                 -2.232996                   0.024682            False   \n",
       "121                 -0.163762                   0.167673            False   \n",
       "244                 -1.261803                   0.175370            False   \n",
       "215                 -1.282890                   0.168478            False   \n",
       "32                  -0.060416                   0.344809            False   \n",
       "39                  -0.512354                   0.100281            False   \n",
       "43                  -2.382017                   0.017657            False   \n",
       "46                  -0.530759                   0.081876            False   \n",
       "50                  -2.382017                   0.017657            False   \n",
       "41                  -1.375248                   0.047252            False   \n",
       "48                  -1.478435                   0.049546            False   \n",
       "\n",
       "     estimated_growth  accurate_growth  \n",
       "78               True            False  \n",
       "272              True            False  \n",
       "362              True            False  \n",
       "121              True            False  \n",
       "244              True            False  \n",
       "215              True            False  \n",
       "32               True            False  \n",
       "39               True            False  \n",
       "43               True            False  \n",
       "46               True            False  \n",
       "50               True            False  \n",
       "41               True            False  \n",
       "48               True            False  "
      ]
     },
     "execution_count": 85,
     "metadata": {},
     "output_type": "execute_result"
    }
   ],
   "source": [
    "complete_clade_frequencies[false_positives].sort_values(\"frequency\")"
   ]
  },
  {
   "cell_type": "markdown",
   "metadata": {},
   "source": [
    "## Estimated and observed closest strains per timepoint\n",
    "\n",
    "Create a figure similar to Figure 2D in Neher et al. 2014 showing the minimum estimated distance to the future and minimum observed distance to the future per timepoint."
   ]
  },
  {
   "cell_type": "code",
   "execution_count": 86,
   "metadata": {},
   "outputs": [],
   "source": [
    "sorted_df = full_forecasts.dropna().sort_values(\n",
    "    [\"timepoint\"]\n",
    ").copy()"
   ]
  },
  {
   "cell_type": "code",
   "execution_count": 87,
   "metadata": {},
   "outputs": [],
   "source": [
    "sorted_df[\"timepoint_rank\"] = sorted_df.groupby(\"timepoint\")[\"weighted_distance_to_future\"].rank(pct=True)"
   ]
  },
  {
   "cell_type": "code",
   "execution_count": 88,
   "metadata": {},
   "outputs": [],
   "source": [
    "best_fitness_rank_by_timepoint_df = sorted_df.sort_values(\n",
    "    [\"timepoint\", \"fitness\"],\n",
    "    ascending=False\n",
    ").groupby(\"timepoint\")[\"timepoint_rank\"].first().reset_index()"
   ]
  },
  {
   "cell_type": "code",
   "execution_count": 89,
   "metadata": {},
   "outputs": [
    {
     "data": {
      "text/html": [
       "<div>\n",
       "<style scoped>\n",
       "    .dataframe tbody tr th:only-of-type {\n",
       "        vertical-align: middle;\n",
       "    }\n",
       "\n",
       "    .dataframe tbody tr th {\n",
       "        vertical-align: top;\n",
       "    }\n",
       "\n",
       "    .dataframe thead th {\n",
       "        text-align: right;\n",
       "    }\n",
       "</style>\n",
       "<table border=\"1\" class=\"dataframe\">\n",
       "  <thead>\n",
       "    <tr style=\"text-align: right;\">\n",
       "      <th></th>\n",
       "      <th>timepoint</th>\n",
       "      <th>timepoint_rank</th>\n",
       "    </tr>\n",
       "  </thead>\n",
       "  <tbody>\n",
       "    <tr>\n",
       "      <th>0</th>\n",
       "      <td>2023-10-01</td>\n",
       "      <td>0.170635</td>\n",
       "    </tr>\n",
       "    <tr>\n",
       "      <th>1</th>\n",
       "      <td>2024-04-01</td>\n",
       "      <td>0.688889</td>\n",
       "    </tr>\n",
       "    <tr>\n",
       "      <th>2</th>\n",
       "      <td>2024-10-01</td>\n",
       "      <td>0.222222</td>\n",
       "    </tr>\n",
       "    <tr>\n",
       "      <th>3</th>\n",
       "      <td>2025-04-01</td>\n",
       "      <td>0.306349</td>\n",
       "    </tr>\n",
       "    <tr>\n",
       "      <th>4</th>\n",
       "      <td>2025-10-01</td>\n",
       "      <td>0.039683</td>\n",
       "    </tr>\n",
       "  </tbody>\n",
       "</table>\n",
       "</div>"
      ],
      "text/plain": [
       "   timepoint  timepoint_rank\n",
       "0 2023-10-01        0.170635\n",
       "1 2024-04-01        0.688889\n",
       "2 2024-10-01        0.222222\n",
       "3 2025-04-01        0.306349\n",
       "4 2025-10-01        0.039683"
      ]
     },
     "execution_count": 89,
     "metadata": {},
     "output_type": "execute_result"
    }
   ],
   "source": [
    "best_fitness_rank_by_timepoint_df.head()"
   ]
  },
  {
   "cell_type": "code",
   "execution_count": 90,
   "metadata": {},
   "outputs": [
    {
     "data": {
      "image/png": "[encoded data removed]",
      "text/plain": [
       "<Figure size 1200x800 with 1 Axes>"
      ]
     },
     "metadata": {},
     "output_type": "display_data"
    }
   ],
   "source": [
    "median_best_rank = best_fitness_rank_by_timepoint_df[\"timepoint_rank\"].median()\n",
    "\n",
    "fig, ax = plt.subplots(1, 1, figsize=(6, 4))\n",
    "ax.hist(best_fitness_rank_by_timepoint_df[\"timepoint_rank\"], bins=np.arange(0, 1.01, 0.05), label=None)\n",
    "ax.axvline(\n",
    "    median_best_rank,\n",
    "    color=\"orange\",\n",
    "    label=\"median = %i%%\" % round(median_best_rank * 100, 0)\n",
    ")\n",
    "ax.set_xticklabels(['{:3.0f}%'.format(x*100) for x in [0, 0.2, 0.4, 0.6, 0.8, 1.0]])\n",
    "ax.set_xlim(0, 1)\n",
    "\n",
    "ax.legend(\n",
    "    frameon=False\n",
    ")\n",
    "ax.set_xlabel(\"Percentile rank by distance\\nfor estimated best strain\")\n",
    "ax.set_ylabel(\"Number of timepoints\")\n",
    "\n",
    "plt.tight_layout()\n",
    "plt.savefig(\"../manuscript/figures/validation-of-best-model-for-simulated-populations-by-best-strain.png\")"
   ]
  },
  {
   "cell_type": "markdown",
   "metadata": {},
   "source": [
    "## Merge validation figures into subpanels of one figure"
   ]
  },
  {
   "cell_type": "code",
   "execution_count": 100,
   "metadata": {},
   "outputs": [
    {
     "data": {
      "image/png": "[encoded data removed]",
      "text/plain": [
       "<Figure size 1600x800 with 2 Axes>"
      ]
     },
     "metadata": {},
     "output_type": "display_data"
    }
   ],
   "source": [
    "fig = plt.figure(figsize=(8, 4), facecolor='w')\n",
    "gs = gridspec.GridSpec(1, 2, width_ratios=[1, 1], wspace=0.1)\n",
    "\n",
    "#\n",
    "# Clade growth rate correlations\n",
    "#\n",
    "\n",
    "clade_ax = fig.add_subplot(gs[0])\n",
    "clade_ax.plot(\n",
    "    complete_clade_frequencies[\"log_observed_growth_rate\"],\n",
    "    complete_clade_frequencies[\"log_estimated_growth_rate\"],\n",
    "    \"o\",\n",
    "    alpha=0.4\n",
    ")\n",
    "\n",
    "clade_ax.axhline(color=\"#cccccc\", zorder=-5)\n",
    "clade_ax.axvline(color=\"#cccccc\", zorder=-5)\n",
    "\n",
    "if p < 0.001:\n",
    "    p_value = \"$p$ < 0.001\"\n",
    "else:\n",
    "    p_value = \"$p$ = %.3f\" % p\n",
    "\n",
    "clade_ax.text(\n",
    "    0.02,\n",
    "    0.87,\n",
    "    \"Growth accuracy = %.2f\\nDecline accuracy = %.2f\\n$R$ = %.2f, %s\\nN = %s\" % (growth_accuracy, decline_accuracy, r, p_value, complete_clade_frequencies.shape[0]),\n",
    "    fontsize=12,\n",
    "    horizontalalignment=\"left\",\n",
    "    verticalalignment=\"center\",\n",
    "    transform=clade_ax.transAxes\n",
    ")\n",
    "\n",
    "clade_ax.set_xlabel(\"Observed $log_{10}$ growth rate\")\n",
    "clade_ax.set_ylabel(\"Estimated $log_{10}$ growth rate\")\n",
    "\n",
    "ticks = np.arange(-6, 4, 1)\n",
    "clade_ax.set_xticks(ticks)\n",
    "clade_ax.set_yticks(ticks)\n",
    "\n",
    "clade_ax.set_xlim(log_lower_limit, log_upper_limit)\n",
    "clade_ax.set_ylim(log_lower_limit, log_upper_limit)\n",
    "clade_ax.set_aspect(\"equal\")\n",
    "\n",
    "#\n",
    "# Estimated closest strain to the future ranking\n",
    "#\n",
    "\n",
    "rank_ax = fig.add_subplot(gs[1])\n",
    "\n",
    "median_best_rank = best_fitness_rank_by_timepoint_df[\"timepoint_rank\"].median()\n",
    "\n",
    "rank_ax.hist(best_fitness_rank_by_timepoint_df[\"timepoint_rank\"], bins=np.arange(0, 1.01, 0.05), label=None)\n",
    "rank_ax.axvline(\n",
    "    median_best_rank,\n",
    "    color=\"orange\",\n",
    "    label=\"median = %i%%\" % round(median_best_rank * 100, 0)\n",
    ")\n",
    "rank_ax.set_xticks([0, 0.2, 0.4, 0.6, 0.8, 1.0])\n",
    "rank_ax.set_xticklabels(['{:3.0f}%'.format(x*100) for x in [0, 0.2, 0.4, 0.6, 0.8, 1.0]])\n",
    "rank_ax.set_xlim(0, 1)\n",
    "\n",
    "rank_ax.legend(\n",
    "    frameon=False\n",
    ")\n",
    "rank_ax.set_xlabel(\"Percentile rank by distance\\nfor estimated best strain\")\n",
    "rank_ax.set_ylabel(\"Number of timepoints\")\n",
    "\n",
    "gs.tight_layout(fig)\n",
    "\n",
    "plt.savefig(\"../manuscript/figures/validation-of-best-model-for-simulated-populations.png\")"
   ]
  },
  {
   "cell_type": "code",
   "execution_count": 92,
   "metadata": {},
   "outputs": [
    {
     "data": {
      "text/plain": [
       "27"
      ]
     },
     "execution_count": 92,
     "metadata": {},
     "output_type": "execute_result"
    }
   ],
   "source": [
    "(best_fitness_rank_by_timepoint_df[\"timepoint_rank\"] <= 0.2).sum()"
   ]
  },
  {
   "cell_type": "code",
   "execution_count": 93,
   "metadata": {},
   "outputs": [
    {
     "data": {
      "text/plain": [
       "(33, 2)"
      ]
     },
     "execution_count": 93,
     "metadata": {},
     "output_type": "execute_result"
    }
   ],
   "source": [
    "best_fitness_rank_by_timepoint_df.shape"
   ]
  },
  {
   "cell_type": "code",
   "execution_count": 94,
   "metadata": {},
   "outputs": [
    {
     "data": {
      "text/plain": [
       "0.8181818181818182"
      ]
     },
     "execution_count": 94,
     "metadata": {},
     "output_type": "execute_result"
    }
   ],
   "source": [
    "(best_fitness_rank_by_timepoint_df[\"timepoint_rank\"] <= 0.2).sum() / float(best_fitness_rank_by_timepoint_df.shape[0])"
   ]
  },
  {
   "cell_type": "code",
   "execution_count": null,
   "metadata": {},
   "outputs": [],
   "source": []
  }
 ],
 "metadata": {
  "kernelspec": {
   "display_name": "Python 3",
   "language": "python",
   "name": "python3"
  },
  "language_info": {
   "codemirror_mode": {
    "name": "ipython",
    "version": 3
   },
   "file_extension": ".py",
   "mimetype": "text/x-python",
   "name": "python",
   "nbconvert_exporter": "python",
   "pygments_lexer": "ipython3",
   "version": "3.6.7"
  }
 },
 "nbformat": 4,
 "nbformat_minor": 4
}
