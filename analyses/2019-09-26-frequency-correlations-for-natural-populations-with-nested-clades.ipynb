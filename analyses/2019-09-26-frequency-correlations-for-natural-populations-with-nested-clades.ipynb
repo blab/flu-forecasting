{
 "cells": [
  {
   "cell_type": "markdown",
   "metadata": {},
   "source": [
    "# Frequency correlation plots for natural populations with nested clades\n",
    "\n",
    "Example code for how to calculate frequency correlation plots from augur forecasting builds."
   ]
  },
  {
   "cell_type": "code",
   "execution_count": 317,
   "metadata": {},
   "outputs": [],
   "source": [
    "import altair as alt\n",
    "import matplotlib as mpl\n",
    "import matplotlib.pyplot as plt\n",
    "import matplotlib.gridspec as gridspec\n",
    "import numpy as np\n",
    "import pandas as pd\n",
    "from scipy.stats import pearsonr\n",
    "import seaborn as sns\n",
    "\n",
    "%matplotlib inline"
   ]
  },
  {
   "cell_type": "code",
   "execution_count": 318,
   "metadata": {},
   "outputs": [],
   "source": [
    "sns.set_style(\"white\")\n",
    "plt.style.use(\"huddlej\")"
   ]
  },
  {
   "cell_type": "code",
   "execution_count": 319,
   "metadata": {},
   "outputs": [],
   "source": [
    "mpl.rcParams['savefig.dpi'] = 200\n",
    "mpl.rcParams['figure.dpi'] = 200\n",
    "mpl.rcParams['font.weight'] = 300\n",
    "mpl.rcParams['axes.labelweight'] = 300\n",
    "mpl.rcParams['font.size'] = 18"
   ]
  },
  {
   "cell_type": "code",
   "execution_count": 320,
   "metadata": {},
   "outputs": [
    {
     "name": "stdout",
     "output_type": "stream",
     "text": [
      "/Users/jlhudd/projects/nextstrain/flu-forecasting/analyses\n"
     ]
    }
   ],
   "source": [
    "!pwd"
   ]
  },
  {
   "cell_type": "code",
   "execution_count": 5,
   "metadata": {},
   "outputs": [],
   "source": [
    "def matthews_correlation_coefficient(tp, tn, fp, fn):\n",
    "    \"\"\"Return Matthews correlation coefficient for values from a confusion matrix.\n",
    "    Implementation is based on the definition from wikipedia:\n",
    "\n",
    "    https://en.wikipedia.org/wiki/Matthews_correlation_coefficient\n",
    "    \"\"\"\n",
    "    numerator = (tp * tn) - (fp * fn)\n",
    "    denominator = np.sqrt((tp + fp) * (tp + fn) * (tn + fp) * (tn + fn))\n",
    "    if denominator == 0:\n",
    "            denominator = 1\n",
    "\n",
    "    return float(numerator) / denominator\n",
    "\n",
    "def get_matthews_correlation_coefficient_for_data_frame(freq_df, return_confusion_matrix=False):\n",
    "        \"\"\"Calculate Matthew's correlation coefficient from a given pandas data frame\n",
    "        with columns for initial, observed, and predicted frequencies.\n",
    "        \"\"\"\n",
    "        observed_growth = (freq_df[\"frequency_final\"] > freq_df[\"frequency\"])\n",
    "        predicted_growth = (freq_df[\"projected_frequency\"] > freq_df[\"frequency\"])\n",
    "        true_positives = ((observed_growth) & (predicted_growth)).sum()\n",
    "        false_positives= ((~observed_growth) & (predicted_growth)).sum()\n",
    "\n",
    "        observed_decline = (freq_df[\"frequency_final\"] <= freq_df[\"frequency\"])\n",
    "        predicted_decline = (freq_df[\"projected_frequency\"] <= freq_df[\"frequency\"])\n",
    "        true_negatives = ((observed_decline) & (predicted_decline)).sum()\n",
    "        false_negatives = ((~observed_decline) & (predicted_decline)).sum()\n",
    "\n",
    "        mcc = matthews_correlation_coefficient(\n",
    "            true_positives,\n",
    "            true_negatives,\n",
    "            false_positives,\n",
    "            false_negatives\n",
    "        )\n",
    "\n",
    "        if return_confusion_matrix:\n",
    "            confusion_matrix = {\n",
    "                \"tp\": true_positives,\n",
    "                \"tn\": true_negatives,\n",
    "                \"fp\": false_positives,\n",
    "                \"fn\": false_negatives\n",
    "            }\n",
    "            \n",
    "            return mcc, confusion_matrix\n",
    "        else:\n",
    "            return mcc"
   ]
  },
  {
   "cell_type": "markdown",
   "metadata": {},
   "source": [
    "## Load data"
   ]
  },
  {
   "cell_type": "code",
   "execution_count": 324,
   "metadata": {},
   "outputs": [],
   "source": [
    "data_root = \"../results/builds/natural/natural_sample_0_with_90_vpm_sliding/\""
   ]
  },
  {
   "cell_type": "code",
   "execution_count": 323,
   "metadata": {},
   "outputs": [],
   "source": [
    "first_validation_timepoint = \"2005-10-01\""
   ]
  },
  {
   "cell_type": "code",
   "execution_count": 325,
   "metadata": {},
   "outputs": [],
   "source": [
    "tips = pd.read_csv(\n",
    "    \"%s/tip_attributes_with_weighted_distances.tsv\" % data_root,\n",
    "    sep=\"\\t\",\n",
    "    parse_dates=[\"timepoint\"],\n",
    "    usecols=[\"strain\", \"timepoint\", \"frequency\"]\n",
    ")"
   ]
  },
  {
   "cell_type": "code",
   "execution_count": 326,
   "metadata": {},
   "outputs": [],
   "source": [
    "tips = tips.query(\"timepoint >= '%s'\" % first_validation_timepoint).copy()"
   ]
  },
  {
   "cell_type": "code",
   "execution_count": 327,
   "metadata": {},
   "outputs": [
    {
     "data": {
      "text/html": [
       "<div>\n",
       "<style scoped>\n",
       "    .dataframe tbody tr th:only-of-type {\n",
       "        vertical-align: middle;\n",
       "    }\n",
       "\n",
       "    .dataframe tbody tr th {\n",
       "        vertical-align: top;\n",
       "    }\n",
       "\n",
       "    .dataframe thead th {\n",
       "        text-align: right;\n",
       "    }\n",
       "</style>\n",
       "<table border=\"1\" class=\"dataframe\">\n",
       "  <thead>\n",
       "    <tr style=\"text-align: right;\">\n",
       "      <th></th>\n",
       "      <th>strain</th>\n",
       "      <th>timepoint</th>\n",
       "      <th>frequency</th>\n",
       "    </tr>\n",
       "  </thead>\n",
       "  <tbody>\n",
       "    <tr>\n",
       "      <th>3391</th>\n",
       "      <td>A/Aichi/113/2005</td>\n",
       "      <td>2005-10-01</td>\n",
       "      <td>0.000032</td>\n",
       "    </tr>\n",
       "  </tbody>\n",
       "</table>\n",
       "</div>"
      ],
      "text/plain": [
       "                strain  timepoint  frequency\n",
       "3391  A/Aichi/113/2005 2005-10-01   0.000032"
      ]
     },
     "execution_count": 327,
     "metadata": {},
     "output_type": "execute_result"
    }
   ],
   "source": [
    "tips.head(1)"
   ]
  },
  {
   "cell_type": "code",
   "execution_count": 334,
   "metadata": {},
   "outputs": [
    {
     "data": {
      "text/plain": [
       "(12139, 3)"
      ]
     },
     "execution_count": 334,
     "metadata": {},
     "output_type": "execute_result"
    }
   ],
   "source": [
    "tips.shape"
   ]
  },
  {
   "cell_type": "code",
   "execution_count": 329,
   "metadata": {},
   "outputs": [],
   "source": [
    "tips_to_clades = pd.read_csv(\"%s/tips_to_clades.tsv\" % data_root, sep=\"\\t\", parse_dates=[\"timepoint\"])"
   ]
  },
  {
   "cell_type": "code",
   "execution_count": 330,
   "metadata": {},
   "outputs": [],
   "source": [
    "tips_to_clades = tips_to_clades.query(\"timepoint >= '%s'\" % first_validation_timepoint).copy()"
   ]
  },
  {
   "cell_type": "code",
   "execution_count": 331,
   "metadata": {},
   "outputs": [],
   "source": [
    "tips_to_clades = tips_to_clades.rename(columns={\"tip\": \"strain\"})"
   ]
  },
  {
   "cell_type": "code",
   "execution_count": 332,
   "metadata": {},
   "outputs": [
    {
     "data": {
      "text/html": [
       "<div>\n",
       "<style scoped>\n",
       "    .dataframe tbody tr th:only-of-type {\n",
       "        vertical-align: middle;\n",
       "    }\n",
       "\n",
       "    .dataframe tbody tr th {\n",
       "        vertical-align: top;\n",
       "    }\n",
       "\n",
       "    .dataframe thead th {\n",
       "        text-align: right;\n",
       "    }\n",
       "</style>\n",
       "<table border=\"1\" class=\"dataframe\">\n",
       "  <thead>\n",
       "    <tr style=\"text-align: right;\">\n",
       "      <th></th>\n",
       "      <th>strain</th>\n",
       "      <th>clade_membership</th>\n",
       "      <th>depth</th>\n",
       "      <th>timepoint</th>\n",
       "    </tr>\n",
       "  </thead>\n",
       "  <tbody>\n",
       "    <tr>\n",
       "      <th>217229</th>\n",
       "      <td>A/Guangzhou/98/2000</td>\n",
       "      <td>fd5608c</td>\n",
       "      <td>0</td>\n",
       "      <td>2005-10-01</td>\n",
       "    </tr>\n",
       "    <tr>\n",
       "      <th>217230</th>\n",
       "      <td>A/Taiwan/511/1999</td>\n",
       "      <td>8fd14cc</td>\n",
       "      <td>0</td>\n",
       "      <td>2005-10-01</td>\n",
       "    </tr>\n",
       "    <tr>\n",
       "      <th>217231</th>\n",
       "      <td>A/Taiwan/511/1999</td>\n",
       "      <td>6335574</td>\n",
       "      <td>2</td>\n",
       "      <td>2005-10-01</td>\n",
       "    </tr>\n",
       "    <tr>\n",
       "      <th>217232</th>\n",
       "      <td>A/Taiwan/511/1999</td>\n",
       "      <td>fd5608c</td>\n",
       "      <td>4</td>\n",
       "      <td>2005-10-01</td>\n",
       "    </tr>\n",
       "    <tr>\n",
       "      <th>217233</th>\n",
       "      <td>A/Taiwan/206/2000</td>\n",
       "      <td>8fd14cc</td>\n",
       "      <td>0</td>\n",
       "      <td>2005-10-01</td>\n",
       "    </tr>\n",
       "  </tbody>\n",
       "</table>\n",
       "</div>"
      ],
      "text/plain": [
       "                     strain clade_membership  depth  timepoint\n",
       "217229  A/Guangzhou/98/2000          fd5608c      0 2005-10-01\n",
       "217230    A/Taiwan/511/1999          8fd14cc      0 2005-10-01\n",
       "217231    A/Taiwan/511/1999          6335574      2 2005-10-01\n",
       "217232    A/Taiwan/511/1999          fd5608c      4 2005-10-01\n",
       "217233    A/Taiwan/206/2000          8fd14cc      0 2005-10-01"
      ]
     },
     "execution_count": 332,
     "metadata": {},
     "output_type": "execute_result"
    }
   ],
   "source": [
    "tips_to_clades.head()"
   ]
  },
  {
   "cell_type": "code",
   "execution_count": 333,
   "metadata": {},
   "outputs": [
    {
     "data": {
      "text/plain": [
       "(1157738, 4)"
      ]
     },
     "execution_count": 333,
     "metadata": {},
     "output_type": "execute_result"
    }
   ],
   "source": [
    "tips_to_clades.shape"
   ]
  },
  {
   "cell_type": "code",
   "execution_count": 335,
   "metadata": {},
   "outputs": [],
   "source": [
    "forecasts = pd.read_csv(\n",
    "    \"%s/forecasts.tsv\" % data_root,\n",
    "    sep=\"\\t\",\n",
    "    parse_dates=[\"timepoint\"],\n",
    "    usecols=[\"timepoint\", \"strain\", \"frequency\", \"projected_frequency\"]\n",
    ")"
   ]
  },
  {
   "cell_type": "code",
   "execution_count": 336,
   "metadata": {},
   "outputs": [
    {
     "data": {
      "text/html": [
       "<div>\n",
       "<style scoped>\n",
       "    .dataframe tbody tr th:only-of-type {\n",
       "        vertical-align: middle;\n",
       "    }\n",
       "\n",
       "    .dataframe tbody tr th {\n",
       "        vertical-align: top;\n",
       "    }\n",
       "\n",
       "    .dataframe thead th {\n",
       "        text-align: right;\n",
       "    }\n",
       "</style>\n",
       "<table border=\"1\" class=\"dataframe\">\n",
       "  <thead>\n",
       "    <tr style=\"text-align: right;\">\n",
       "      <th></th>\n",
       "      <th>timepoint</th>\n",
       "      <th>strain</th>\n",
       "      <th>frequency</th>\n",
       "      <th>projected_frequency</th>\n",
       "    </tr>\n",
       "  </thead>\n",
       "  <tbody>\n",
       "    <tr>\n",
       "      <th>0</th>\n",
       "      <td>1998-10-01</td>\n",
       "      <td>A/Christchurch/45/1998</td>\n",
       "      <td>0.031388</td>\n",
       "      <td>0.00165</td>\n",
       "    </tr>\n",
       "  </tbody>\n",
       "</table>\n",
       "</div>"
      ],
      "text/plain": [
       "   timepoint                  strain  frequency  projected_frequency\n",
       "0 1998-10-01  A/Christchurch/45/1998   0.031388              0.00165"
      ]
     },
     "execution_count": 336,
     "metadata": {},
     "output_type": "execute_result"
    }
   ],
   "source": [
    "forecasts.head(1)"
   ]
  },
  {
   "cell_type": "code",
   "execution_count": 337,
   "metadata": {},
   "outputs": [
    {
     "data": {
      "text/plain": [
       "(15530, 4)"
      ]
     },
     "execution_count": 337,
     "metadata": {},
     "output_type": "execute_result"
    }
   ],
   "source": [
    "forecasts.shape"
   ]
  },
  {
   "cell_type": "code",
   "execution_count": 338,
   "metadata": {},
   "outputs": [],
   "source": [
    "full_forecasts = pd.read_csv(\n",
    "    \"%s/forecasts.tsv\" % data_root,\n",
    "    sep=\"\\t\",\n",
    "    parse_dates=[\"timepoint\", \"future_timepoint\"]\n",
    ")"
   ]
  },
  {
   "cell_type": "code",
   "execution_count": 339,
   "metadata": {},
   "outputs": [],
   "source": [
    "full_forecasts = full_forecasts.query(\"timepoint >= '%s'\" % first_validation_timepoint).copy()"
   ]
  },
  {
   "cell_type": "markdown",
   "metadata": {},
   "source": [
    "## Find large clades\n",
    "\n",
    "Find all clades with an initial frequency some minimum value (e.g., >15%)."
   ]
  },
  {
   "cell_type": "code",
   "execution_count": 341,
   "metadata": {},
   "outputs": [],
   "source": [
    "clade_tip_initial_frequencies = tips_to_clades.merge(\n",
    "    tips,\n",
    "    on=[\"timepoint\", \"strain\"]\n",
    ")"
   ]
  },
  {
   "cell_type": "code",
   "execution_count": 342,
   "metadata": {},
   "outputs": [],
   "source": [
    "clade_tip_initial_frequencies[\"future_timepoint\"] = clade_tip_initial_frequencies[\"timepoint\"] + pd.DateOffset(months=12)"
   ]
  },
  {
   "cell_type": "code",
   "execution_count": 343,
   "metadata": {},
   "outputs": [
    {
     "data": {
      "text/html": [
       "<div>\n",
       "<style scoped>\n",
       "    .dataframe tbody tr th:only-of-type {\n",
       "        vertical-align: middle;\n",
       "    }\n",
       "\n",
       "    .dataframe tbody tr th {\n",
       "        vertical-align: top;\n",
       "    }\n",
       "\n",
       "    .dataframe thead th {\n",
       "        text-align: right;\n",
       "    }\n",
       "</style>\n",
       "<table border=\"1\" class=\"dataframe\">\n",
       "  <thead>\n",
       "    <tr style=\"text-align: right;\">\n",
       "      <th></th>\n",
       "      <th>strain</th>\n",
       "      <th>clade_membership</th>\n",
       "      <th>depth</th>\n",
       "      <th>timepoint</th>\n",
       "      <th>frequency</th>\n",
       "      <th>future_timepoint</th>\n",
       "    </tr>\n",
       "  </thead>\n",
       "  <tbody>\n",
       "    <tr>\n",
       "      <th>0</th>\n",
       "      <td>A/India/D058687/2005</td>\n",
       "      <td>bf71681</td>\n",
       "      <td>0</td>\n",
       "      <td>2005-10-01</td>\n",
       "      <td>0.00001</td>\n",
       "      <td>2006-10-01</td>\n",
       "    </tr>\n",
       "    <tr>\n",
       "      <th>1</th>\n",
       "      <td>A/India/D058687/2005</td>\n",
       "      <td>fbbd597</td>\n",
       "      <td>2</td>\n",
       "      <td>2005-10-01</td>\n",
       "      <td>0.00001</td>\n",
       "      <td>2006-10-01</td>\n",
       "    </tr>\n",
       "    <tr>\n",
       "      <th>2</th>\n",
       "      <td>A/India/D058687/2005</td>\n",
       "      <td>054ca27</td>\n",
       "      <td>14</td>\n",
       "      <td>2005-10-01</td>\n",
       "      <td>0.00001</td>\n",
       "      <td>2006-10-01</td>\n",
       "    </tr>\n",
       "    <tr>\n",
       "      <th>3</th>\n",
       "      <td>A/India/D058687/2005</td>\n",
       "      <td>5bed3da</td>\n",
       "      <td>15</td>\n",
       "      <td>2005-10-01</td>\n",
       "      <td>0.00001</td>\n",
       "      <td>2006-10-01</td>\n",
       "    </tr>\n",
       "    <tr>\n",
       "      <th>4</th>\n",
       "      <td>A/India/D058687/2005</td>\n",
       "      <td>05a6dc1</td>\n",
       "      <td>17</td>\n",
       "      <td>2005-10-01</td>\n",
       "      <td>0.00001</td>\n",
       "      <td>2006-10-01</td>\n",
       "    </tr>\n",
       "  </tbody>\n",
       "</table>\n",
       "</div>"
      ],
      "text/plain": [
       "                 strain clade_membership  depth  timepoint  frequency  \\\n",
       "0  A/India/D058687/2005          bf71681      0 2005-10-01    0.00001   \n",
       "1  A/India/D058687/2005          fbbd597      2 2005-10-01    0.00001   \n",
       "2  A/India/D058687/2005          054ca27     14 2005-10-01    0.00001   \n",
       "3  A/India/D058687/2005          5bed3da     15 2005-10-01    0.00001   \n",
       "4  A/India/D058687/2005          05a6dc1     17 2005-10-01    0.00001   \n",
       "\n",
       "  future_timepoint  \n",
       "0       2006-10-01  \n",
       "1       2006-10-01  \n",
       "2       2006-10-01  \n",
       "3       2006-10-01  \n",
       "4       2006-10-01  "
      ]
     },
     "execution_count": 343,
     "metadata": {},
     "output_type": "execute_result"
    }
   ],
   "source": [
    "clade_tip_initial_frequencies.head()"
   ]
  },
  {
   "cell_type": "code",
   "execution_count": 492,
   "metadata": {},
   "outputs": [
    {
     "data": {
      "text/html": [
       "<div>\n",
       "<style scoped>\n",
       "    .dataframe tbody tr th:only-of-type {\n",
       "        vertical-align: middle;\n",
       "    }\n",
       "\n",
       "    .dataframe tbody tr th {\n",
       "        vertical-align: top;\n",
       "    }\n",
       "\n",
       "    .dataframe thead th {\n",
       "        text-align: right;\n",
       "    }\n",
       "</style>\n",
       "<table border=\"1\" class=\"dataframe\">\n",
       "  <thead>\n",
       "    <tr style=\"text-align: right;\">\n",
       "      <th></th>\n",
       "      <th>strain</th>\n",
       "      <th>clade_membership</th>\n",
       "      <th>depth</th>\n",
       "      <th>timepoint</th>\n",
       "    </tr>\n",
       "  </thead>\n",
       "  <tbody>\n",
       "    <tr>\n",
       "      <th>497476</th>\n",
       "      <td>A/England/613446/2006</td>\n",
       "      <td>3c0baec</td>\n",
       "      <td>0</td>\n",
       "      <td>2008-10-01</td>\n",
       "    </tr>\n",
       "    <tr>\n",
       "      <th>497492</th>\n",
       "      <td>A/England/55243/2005</td>\n",
       "      <td>3c0baec</td>\n",
       "      <td>0</td>\n",
       "      <td>2008-10-01</td>\n",
       "    </tr>\n",
       "    <tr>\n",
       "      <th>497508</th>\n",
       "      <td>A/Johannesburg/503/2006</td>\n",
       "      <td>3c0baec</td>\n",
       "      <td>0</td>\n",
       "      <td>2008-10-01</td>\n",
       "    </tr>\n",
       "    <tr>\n",
       "      <th>497524</th>\n",
       "      <td>A/Johannesburg/245/2006</td>\n",
       "      <td>3c0baec</td>\n",
       "      <td>0</td>\n",
       "      <td>2008-10-01</td>\n",
       "    </tr>\n",
       "    <tr>\n",
       "      <th>497541</th>\n",
       "      <td>A/India/P0614474/2006</td>\n",
       "      <td>3c0baec</td>\n",
       "      <td>2</td>\n",
       "      <td>2008-10-01</td>\n",
       "    </tr>\n",
       "  </tbody>\n",
       "</table>\n",
       "</div>"
      ],
      "text/plain": [
       "                         strain clade_membership  depth  timepoint\n",
       "497476    A/England/613446/2006          3c0baec      0 2008-10-01\n",
       "497492     A/England/55243/2005          3c0baec      0 2008-10-01\n",
       "497508  A/Johannesburg/503/2006          3c0baec      0 2008-10-01\n",
       "497524  A/Johannesburg/245/2006          3c0baec      0 2008-10-01\n",
       "497541    A/India/P0614474/2006          3c0baec      2 2008-10-01"
      ]
     },
     "execution_count": 492,
     "metadata": {},
     "output_type": "execute_result"
    }
   ],
   "source": [
    "tips_to_clades.query(\"clade_membership == '3c0baec' & timepoint == '2008-10-01'\").head()"
   ]
  },
  {
   "cell_type": "code",
   "execution_count": 493,
   "metadata": {},
   "outputs": [
    {
     "data": {
      "text/plain": [
       "(269, 4)"
      ]
     },
     "execution_count": 493,
     "metadata": {},
     "output_type": "execute_result"
    }
   ],
   "source": [
    "tips_to_clades.query(\"clade_membership == '3c0baec' & timepoint == '2008-10-01'\").shape"
   ]
  },
  {
   "cell_type": "code",
   "execution_count": 489,
   "metadata": {},
   "outputs": [
    {
     "data": {
      "text/html": [
       "<div>\n",
       "<style scoped>\n",
       "    .dataframe tbody tr th:only-of-type {\n",
       "        vertical-align: middle;\n",
       "    }\n",
       "\n",
       "    .dataframe tbody tr th {\n",
       "        vertical-align: top;\n",
       "    }\n",
       "\n",
       "    .dataframe thead th {\n",
       "        text-align: right;\n",
       "    }\n",
       "</style>\n",
       "<table border=\"1\" class=\"dataframe\">\n",
       "  <thead>\n",
       "    <tr style=\"text-align: right;\">\n",
       "      <th></th>\n",
       "      <th>strain</th>\n",
       "      <th>clade_membership</th>\n",
       "      <th>depth</th>\n",
       "      <th>timepoint</th>\n",
       "      <th>frequency</th>\n",
       "      <th>future_timepoint</th>\n",
       "    </tr>\n",
       "  </thead>\n",
       "  <tbody>\n",
       "    <tr>\n",
       "      <th>45776</th>\n",
       "      <td>A/Kisii/6569/2008</td>\n",
       "      <td>3c0baec</td>\n",
       "      <td>3</td>\n",
       "      <td>2008-10-01</td>\n",
       "      <td>0.001259</td>\n",
       "      <td>2009-10-01</td>\n",
       "    </tr>\n",
       "  </tbody>\n",
       "</table>\n",
       "</div>"
      ],
      "text/plain": [
       "                  strain clade_membership  depth  timepoint  frequency  \\\n",
       "45776  A/Kisii/6569/2008          3c0baec      3 2008-10-01   0.001259   \n",
       "\n",
       "      future_timepoint  \n",
       "45776       2009-10-01  "
      ]
     },
     "execution_count": 489,
     "metadata": {},
     "output_type": "execute_result"
    }
   ],
   "source": [
    "clade_tip_initial_frequencies.query(\"clade_membership == '3c0baec' & timepoint == '2008-10-01'\")"
   ]
  },
  {
   "cell_type": "code",
   "execution_count": 344,
   "metadata": {},
   "outputs": [],
   "source": [
    "initial_clade_frequencies = clade_tip_initial_frequencies.groupby([\n",
    "    \"timepoint\", \"future_timepoint\", \"clade_membership\"\n",
    "])[\"frequency\"].sum().reset_index()"
   ]
  },
  {
   "cell_type": "code",
   "execution_count": 345,
   "metadata": {},
   "outputs": [
    {
     "data": {
      "text/html": [
       "<div>\n",
       "<style scoped>\n",
       "    .dataframe tbody tr th:only-of-type {\n",
       "        vertical-align: middle;\n",
       "    }\n",
       "\n",
       "    .dataframe tbody tr th {\n",
       "        vertical-align: top;\n",
       "    }\n",
       "\n",
       "    .dataframe thead th {\n",
       "        text-align: right;\n",
       "    }\n",
       "</style>\n",
       "<table border=\"1\" class=\"dataframe\">\n",
       "  <thead>\n",
       "    <tr style=\"text-align: right;\">\n",
       "      <th></th>\n",
       "      <th>timepoint</th>\n",
       "      <th>future_timepoint</th>\n",
       "      <th>clade_membership</th>\n",
       "      <th>frequency</th>\n",
       "    </tr>\n",
       "  </thead>\n",
       "  <tbody>\n",
       "    <tr>\n",
       "      <th>0</th>\n",
       "      <td>2005-10-01</td>\n",
       "      <td>2006-10-01</td>\n",
       "      <td>0252ba2</td>\n",
       "      <td>0.021212</td>\n",
       "    </tr>\n",
       "    <tr>\n",
       "      <th>1</th>\n",
       "      <td>2005-10-01</td>\n",
       "      <td>2006-10-01</td>\n",
       "      <td>02b4cfc</td>\n",
       "      <td>0.005199</td>\n",
       "    </tr>\n",
       "    <tr>\n",
       "      <th>2</th>\n",
       "      <td>2005-10-01</td>\n",
       "      <td>2006-10-01</td>\n",
       "      <td>048f8ca</td>\n",
       "      <td>0.021212</td>\n",
       "    </tr>\n",
       "    <tr>\n",
       "      <th>3</th>\n",
       "      <td>2005-10-01</td>\n",
       "      <td>2006-10-01</td>\n",
       "      <td>054ca27</td>\n",
       "      <td>0.021212</td>\n",
       "    </tr>\n",
       "    <tr>\n",
       "      <th>4</th>\n",
       "      <td>2005-10-01</td>\n",
       "      <td>2006-10-01</td>\n",
       "      <td>058a85c</td>\n",
       "      <td>0.004405</td>\n",
       "    </tr>\n",
       "  </tbody>\n",
       "</table>\n",
       "</div>"
      ],
      "text/plain": [
       "   timepoint future_timepoint clade_membership  frequency\n",
       "0 2005-10-01       2006-10-01          0252ba2   0.021212\n",
       "1 2005-10-01       2006-10-01          02b4cfc   0.005199\n",
       "2 2005-10-01       2006-10-01          048f8ca   0.021212\n",
       "3 2005-10-01       2006-10-01          054ca27   0.021212\n",
       "4 2005-10-01       2006-10-01          058a85c   0.004405"
      ]
     },
     "execution_count": 345,
     "metadata": {},
     "output_type": "execute_result"
    }
   ],
   "source": [
    "initial_clade_frequencies.head()"
   ]
  },
  {
   "cell_type": "code",
   "execution_count": 254,
   "metadata": {},
   "outputs": [
    {
     "data": {
      "text/html": [
       "<div>\n",
       "<style scoped>\n",
       "    .dataframe tbody tr th:only-of-type {\n",
       "        vertical-align: middle;\n",
       "    }\n",
       "\n",
       "    .dataframe tbody tr th {\n",
       "        vertical-align: top;\n",
       "    }\n",
       "\n",
       "    .dataframe thead th {\n",
       "        text-align: right;\n",
       "    }\n",
       "</style>\n",
       "<table border=\"1\" class=\"dataframe\">\n",
       "  <thead>\n",
       "    <tr style=\"text-align: right;\">\n",
       "      <th></th>\n",
       "      <th>timepoint</th>\n",
       "      <th>future_timepoint</th>\n",
       "      <th>clade_membership</th>\n",
       "      <th>frequency</th>\n",
       "    </tr>\n",
       "  </thead>\n",
       "  <tbody>\n",
       "    <tr>\n",
       "      <th>315</th>\n",
       "      <td>2024-04-01</td>\n",
       "      <td>2025-04-01</td>\n",
       "      <td>cb64469</td>\n",
       "      <td>0.044085</td>\n",
       "    </tr>\n",
       "    <tr>\n",
       "      <th>500</th>\n",
       "      <td>2024-10-01</td>\n",
       "      <td>2025-10-01</td>\n",
       "      <td>cb64469</td>\n",
       "      <td>0.405997</td>\n",
       "    </tr>\n",
       "    <tr>\n",
       "      <th>705</th>\n",
       "      <td>2025-04-01</td>\n",
       "      <td>2026-04-01</td>\n",
       "      <td>cb64469</td>\n",
       "      <td>0.675714</td>\n",
       "    </tr>\n",
       "    <tr>\n",
       "      <th>889</th>\n",
       "      <td>2025-10-01</td>\n",
       "      <td>2026-10-01</td>\n",
       "      <td>cb64469</td>\n",
       "      <td>0.900193</td>\n",
       "    </tr>\n",
       "    <tr>\n",
       "      <th>1046</th>\n",
       "      <td>2026-04-01</td>\n",
       "      <td>2027-04-01</td>\n",
       "      <td>cb64469</td>\n",
       "      <td>0.999877</td>\n",
       "    </tr>\n",
       "    <tr>\n",
       "      <th>1220</th>\n",
       "      <td>2026-10-01</td>\n",
       "      <td>2027-10-01</td>\n",
       "      <td>cb64469</td>\n",
       "      <td>0.999977</td>\n",
       "    </tr>\n",
       "    <tr>\n",
       "      <th>1401</th>\n",
       "      <td>2027-04-01</td>\n",
       "      <td>2028-04-01</td>\n",
       "      <td>cb64469</td>\n",
       "      <td>0.999968</td>\n",
       "    </tr>\n",
       "    <tr>\n",
       "      <th>1582</th>\n",
       "      <td>2027-10-01</td>\n",
       "      <td>2028-10-01</td>\n",
       "      <td>cb64469</td>\n",
       "      <td>0.999980</td>\n",
       "    </tr>\n",
       "    <tr>\n",
       "      <th>1794</th>\n",
       "      <td>2028-04-01</td>\n",
       "      <td>2029-04-01</td>\n",
       "      <td>cb64469</td>\n",
       "      <td>0.999943</td>\n",
       "    </tr>\n",
       "    <tr>\n",
       "      <th>2019</th>\n",
       "      <td>2028-10-01</td>\n",
       "      <td>2029-10-01</td>\n",
       "      <td>cb64469</td>\n",
       "      <td>0.999949</td>\n",
       "    </tr>\n",
       "    <tr>\n",
       "      <th>2236</th>\n",
       "      <td>2029-04-01</td>\n",
       "      <td>2030-04-01</td>\n",
       "      <td>cb64469</td>\n",
       "      <td>0.999987</td>\n",
       "    </tr>\n",
       "    <tr>\n",
       "      <th>2441</th>\n",
       "      <td>2029-10-01</td>\n",
       "      <td>2030-10-01</td>\n",
       "      <td>cb64469</td>\n",
       "      <td>0.999965</td>\n",
       "    </tr>\n",
       "  </tbody>\n",
       "</table>\n",
       "</div>"
      ],
      "text/plain": [
       "      timepoint future_timepoint clade_membership  frequency\n",
       "315  2024-04-01       2025-04-01          cb64469   0.044085\n",
       "500  2024-10-01       2025-10-01          cb64469   0.405997\n",
       "705  2025-04-01       2026-04-01          cb64469   0.675714\n",
       "889  2025-10-01       2026-10-01          cb64469   0.900193\n",
       "1046 2026-04-01       2027-04-01          cb64469   0.999877\n",
       "1220 2026-10-01       2027-10-01          cb64469   0.999977\n",
       "1401 2027-04-01       2028-04-01          cb64469   0.999968\n",
       "1582 2027-10-01       2028-10-01          cb64469   0.999980\n",
       "1794 2028-04-01       2029-04-01          cb64469   0.999943\n",
       "2019 2028-10-01       2029-10-01          cb64469   0.999949\n",
       "2236 2029-04-01       2030-04-01          cb64469   0.999987\n",
       "2441 2029-10-01       2030-10-01          cb64469   0.999965"
      ]
     },
     "execution_count": 254,
     "metadata": {},
     "output_type": "execute_result"
    }
   ],
   "source": [
    "initial_clade_frequencies.query(\"clade_membership == 'cb64469'\")"
   ]
  },
  {
   "cell_type": "markdown",
   "metadata": {},
   "source": [
    "Merge clade frequencies between adjacent years."
   ]
  },
  {
   "cell_type": "code",
   "execution_count": 346,
   "metadata": {},
   "outputs": [],
   "source": [
    "initial_and_observed_clade_frequencies = initial_clade_frequencies.merge(\n",
    "    initial_clade_frequencies,\n",
    "    left_on=[\"future_timepoint\", \"clade_membership\"],\n",
    "    right_on=[\"timepoint\", \"clade_membership\"],\n",
    "    suffixes=[\"\", \"_final\"]\n",
    ").groupby([\"timepoint\", \"clade_membership\", \"frequency\"])[\"frequency_final\"].sum().reset_index()"
   ]
  },
  {
   "cell_type": "code",
   "execution_count": 256,
   "metadata": {},
   "outputs": [
    {
     "data": {
      "text/html": [
       "<div>\n",
       "<style scoped>\n",
       "    .dataframe tbody tr th:only-of-type {\n",
       "        vertical-align: middle;\n",
       "    }\n",
       "\n",
       "    .dataframe tbody tr th {\n",
       "        vertical-align: top;\n",
       "    }\n",
       "\n",
       "    .dataframe thead th {\n",
       "        text-align: right;\n",
       "    }\n",
       "</style>\n",
       "<table border=\"1\" class=\"dataframe\">\n",
       "  <thead>\n",
       "    <tr style=\"text-align: right;\">\n",
       "      <th></th>\n",
       "      <th>timepoint</th>\n",
       "      <th>clade_membership</th>\n",
       "      <th>frequency</th>\n",
       "      <th>frequency_final</th>\n",
       "    </tr>\n",
       "  </thead>\n",
       "  <tbody>\n",
       "    <tr>\n",
       "      <th>60</th>\n",
       "      <td>2024-04-01</td>\n",
       "      <td>cb64469</td>\n",
       "      <td>0.044085</td>\n",
       "      <td>0.675714</td>\n",
       "    </tr>\n",
       "    <tr>\n",
       "      <th>93</th>\n",
       "      <td>2024-10-01</td>\n",
       "      <td>cb64469</td>\n",
       "      <td>0.405997</td>\n",
       "      <td>0.900193</td>\n",
       "    </tr>\n",
       "    <tr>\n",
       "      <th>121</th>\n",
       "      <td>2025-04-01</td>\n",
       "      <td>cb64469</td>\n",
       "      <td>0.675714</td>\n",
       "      <td>0.999877</td>\n",
       "    </tr>\n",
       "    <tr>\n",
       "      <th>144</th>\n",
       "      <td>2025-10-01</td>\n",
       "      <td>cb64469</td>\n",
       "      <td>0.900193</td>\n",
       "      <td>0.999977</td>\n",
       "    </tr>\n",
       "    <tr>\n",
       "      <th>171</th>\n",
       "      <td>2026-04-01</td>\n",
       "      <td>cb64469</td>\n",
       "      <td>0.999877</td>\n",
       "      <td>0.999968</td>\n",
       "    </tr>\n",
       "    <tr>\n",
       "      <th>205</th>\n",
       "      <td>2026-10-01</td>\n",
       "      <td>cb64469</td>\n",
       "      <td>0.999977</td>\n",
       "      <td>0.999980</td>\n",
       "    </tr>\n",
       "    <tr>\n",
       "      <th>249</th>\n",
       "      <td>2027-04-01</td>\n",
       "      <td>cb64469</td>\n",
       "      <td>0.999968</td>\n",
       "      <td>0.999943</td>\n",
       "    </tr>\n",
       "    <tr>\n",
       "      <th>291</th>\n",
       "      <td>2027-10-01</td>\n",
       "      <td>cb64469</td>\n",
       "      <td>0.999980</td>\n",
       "      <td>0.999949</td>\n",
       "    </tr>\n",
       "    <tr>\n",
       "      <th>341</th>\n",
       "      <td>2028-04-01</td>\n",
       "      <td>cb64469</td>\n",
       "      <td>0.999943</td>\n",
       "      <td>0.999987</td>\n",
       "    </tr>\n",
       "    <tr>\n",
       "      <th>386</th>\n",
       "      <td>2028-10-01</td>\n",
       "      <td>cb64469</td>\n",
       "      <td>0.999949</td>\n",
       "      <td>0.999965</td>\n",
       "    </tr>\n",
       "  </tbody>\n",
       "</table>\n",
       "</div>"
      ],
      "text/plain": [
       "     timepoint clade_membership  frequency  frequency_final\n",
       "60  2024-04-01          cb64469   0.044085         0.675714\n",
       "93  2024-10-01          cb64469   0.405997         0.900193\n",
       "121 2025-04-01          cb64469   0.675714         0.999877\n",
       "144 2025-10-01          cb64469   0.900193         0.999977\n",
       "171 2026-04-01          cb64469   0.999877         0.999968\n",
       "205 2026-10-01          cb64469   0.999977         0.999980\n",
       "249 2027-04-01          cb64469   0.999968         0.999943\n",
       "291 2027-10-01          cb64469   0.999980         0.999949\n",
       "341 2028-04-01          cb64469   0.999943         0.999987\n",
       "386 2028-10-01          cb64469   0.999949         0.999965"
      ]
     },
     "execution_count": 256,
     "metadata": {},
     "output_type": "execute_result"
    }
   ],
   "source": [
    "initial_and_observed_clade_frequencies.query(\"clade_membership == 'cb64469'\")"
   ]
  },
  {
   "cell_type": "markdown",
   "metadata": {},
   "source": [
    "Select clades with an initial frequency >15%."
   ]
  },
  {
   "cell_type": "code",
   "execution_count": 436,
   "metadata": {},
   "outputs": [],
   "source": [
    "large_clades = initial_and_observed_clade_frequencies.query(\"frequency > 0.15\").copy()"
   ]
  },
  {
   "cell_type": "code",
   "execution_count": 437,
   "metadata": {},
   "outputs": [
    {
     "data": {
      "text/html": [
       "<div>\n",
       "<style scoped>\n",
       "    .dataframe tbody tr th:only-of-type {\n",
       "        vertical-align: middle;\n",
       "    }\n",
       "\n",
       "    .dataframe tbody tr th {\n",
       "        vertical-align: top;\n",
       "    }\n",
       "\n",
       "    .dataframe thead th {\n",
       "        text-align: right;\n",
       "    }\n",
       "</style>\n",
       "<table border=\"1\" class=\"dataframe\">\n",
       "  <thead>\n",
       "    <tr style=\"text-align: right;\">\n",
       "      <th></th>\n",
       "      <th>timepoint</th>\n",
       "      <th>clade_membership</th>\n",
       "      <th>frequency</th>\n",
       "      <th>frequency_final</th>\n",
       "    </tr>\n",
       "  </thead>\n",
       "  <tbody>\n",
       "    <tr>\n",
       "      <th>0</th>\n",
       "      <td>2005-10-01</td>\n",
       "      <td>26f855a</td>\n",
       "      <td>0.572141</td>\n",
       "      <td>0.946808</td>\n",
       "    </tr>\n",
       "    <tr>\n",
       "      <th>1</th>\n",
       "      <td>2005-10-01</td>\n",
       "      <td>2806112</td>\n",
       "      <td>0.231124</td>\n",
       "      <td>0.001333</td>\n",
       "    </tr>\n",
       "    <tr>\n",
       "      <th>4</th>\n",
       "      <td>2005-10-01</td>\n",
       "      <td>412c00a</td>\n",
       "      <td>0.978610</td>\n",
       "      <td>1.000002</td>\n",
       "    </tr>\n",
       "    <tr>\n",
       "      <th>5</th>\n",
       "      <td>2005-10-01</td>\n",
       "      <td>44989e1</td>\n",
       "      <td>0.966999</td>\n",
       "      <td>1.000002</td>\n",
       "    </tr>\n",
       "    <tr>\n",
       "      <th>6</th>\n",
       "      <td>2005-10-01</td>\n",
       "      <td>4e35443</td>\n",
       "      <td>0.978764</td>\n",
       "      <td>1.000002</td>\n",
       "    </tr>\n",
       "  </tbody>\n",
       "</table>\n",
       "</div>"
      ],
      "text/plain": [
       "   timepoint clade_membership  frequency  frequency_final\n",
       "0 2005-10-01          26f855a   0.572141         0.946808\n",
       "1 2005-10-01          2806112   0.231124         0.001333\n",
       "4 2005-10-01          412c00a   0.978610         1.000002\n",
       "5 2005-10-01          44989e1   0.966999         1.000002\n",
       "6 2005-10-01          4e35443   0.978764         1.000002"
      ]
     },
     "execution_count": 437,
     "metadata": {},
     "output_type": "execute_result"
    }
   ],
   "source": [
    "large_clades.head()"
   ]
  },
  {
   "cell_type": "code",
   "execution_count": 438,
   "metadata": {},
   "outputs": [
    {
     "data": {
      "text/html": [
       "<div>\n",
       "<style scoped>\n",
       "    .dataframe tbody tr th:only-of-type {\n",
       "        vertical-align: middle;\n",
       "    }\n",
       "\n",
       "    .dataframe tbody tr th {\n",
       "        vertical-align: top;\n",
       "    }\n",
       "\n",
       "    .dataframe thead th {\n",
       "        text-align: right;\n",
       "    }\n",
       "</style>\n",
       "<table border=\"1\" class=\"dataframe\">\n",
       "  <thead>\n",
       "    <tr style=\"text-align: right;\">\n",
       "      <th></th>\n",
       "      <th>timepoint</th>\n",
       "      <th>clade_membership</th>\n",
       "      <th>frequency</th>\n",
       "      <th>frequency_final</th>\n",
       "    </tr>\n",
       "  </thead>\n",
       "  <tbody>\n",
       "    <tr>\n",
       "      <th>558</th>\n",
       "      <td>2014-10-01</td>\n",
       "      <td>bc4cbe3</td>\n",
       "      <td>0.999987</td>\n",
       "      <td>0.999997</td>\n",
       "    </tr>\n",
       "    <tr>\n",
       "      <th>560</th>\n",
       "      <td>2014-10-01</td>\n",
       "      <td>c9346ca</td>\n",
       "      <td>0.400579</td>\n",
       "      <td>0.064977</td>\n",
       "    </tr>\n",
       "    <tr>\n",
       "      <th>563</th>\n",
       "      <td>2014-10-01</td>\n",
       "      <td>ea08d9e</td>\n",
       "      <td>0.230692</td>\n",
       "      <td>0.885642</td>\n",
       "    </tr>\n",
       "    <tr>\n",
       "      <th>565</th>\n",
       "      <td>2014-10-01</td>\n",
       "      <td>f14fabc</td>\n",
       "      <td>0.242212</td>\n",
       "      <td>0.885642</td>\n",
       "    </tr>\n",
       "    <tr>\n",
       "      <th>566</th>\n",
       "      <td>2014-10-01</td>\n",
       "      <td>f2ec31a</td>\n",
       "      <td>0.999942</td>\n",
       "      <td>0.999997</td>\n",
       "    </tr>\n",
       "  </tbody>\n",
       "</table>\n",
       "</div>"
      ],
      "text/plain": [
       "     timepoint clade_membership  frequency  frequency_final\n",
       "558 2014-10-01          bc4cbe3   0.999987         0.999997\n",
       "560 2014-10-01          c9346ca   0.400579         0.064977\n",
       "563 2014-10-01          ea08d9e   0.230692         0.885642\n",
       "565 2014-10-01          f14fabc   0.242212         0.885642\n",
       "566 2014-10-01          f2ec31a   0.999942         0.999997"
      ]
     },
     "execution_count": 438,
     "metadata": {},
     "output_type": "execute_result"
    }
   ],
   "source": [
    "large_clades.tail()"
   ]
  },
  {
   "cell_type": "code",
   "execution_count": 439,
   "metadata": {},
   "outputs": [
    {
     "data": {
      "text/plain": [
       "(256, 4)"
      ]
     },
     "execution_count": 439,
     "metadata": {},
     "output_type": "execute_result"
    }
   ],
   "source": [
    "large_clades.shape"
   ]
  },
  {
   "cell_type": "code",
   "execution_count": 440,
   "metadata": {},
   "outputs": [],
   "source": [
    "large_clades[\"observed_growth_rate\"] = (large_clades[\"frequency_final\"] / large_clades[\"frequency\"])"
   ]
  },
  {
   "cell_type": "code",
   "execution_count": 441,
   "metadata": {},
   "outputs": [
    {
     "data": {
      "text/html": [
       "<div>\n",
       "<style scoped>\n",
       "    .dataframe tbody tr th:only-of-type {\n",
       "        vertical-align: middle;\n",
       "    }\n",
       "\n",
       "    .dataframe tbody tr th {\n",
       "        vertical-align: top;\n",
       "    }\n",
       "\n",
       "    .dataframe thead th {\n",
       "        text-align: right;\n",
       "    }\n",
       "</style>\n",
       "<table border=\"1\" class=\"dataframe\">\n",
       "  <thead>\n",
       "    <tr style=\"text-align: right;\">\n",
       "      <th></th>\n",
       "      <th>timepoint</th>\n",
       "      <th>clade_membership</th>\n",
       "      <th>frequency</th>\n",
       "      <th>frequency_final</th>\n",
       "      <th>observed_growth_rate</th>\n",
       "    </tr>\n",
       "  </thead>\n",
       "  <tbody>\n",
       "    <tr>\n",
       "      <th>0</th>\n",
       "      <td>2005-10-01</td>\n",
       "      <td>26f855a</td>\n",
       "      <td>0.572141</td>\n",
       "      <td>0.946808</td>\n",
       "      <td>1.654851</td>\n",
       "    </tr>\n",
       "    <tr>\n",
       "      <th>1</th>\n",
       "      <td>2005-10-01</td>\n",
       "      <td>2806112</td>\n",
       "      <td>0.231124</td>\n",
       "      <td>0.001333</td>\n",
       "      <td>0.005767</td>\n",
       "    </tr>\n",
       "    <tr>\n",
       "      <th>4</th>\n",
       "      <td>2005-10-01</td>\n",
       "      <td>412c00a</td>\n",
       "      <td>0.978610</td>\n",
       "      <td>1.000002</td>\n",
       "      <td>1.021860</td>\n",
       "    </tr>\n",
       "    <tr>\n",
       "      <th>5</th>\n",
       "      <td>2005-10-01</td>\n",
       "      <td>44989e1</td>\n",
       "      <td>0.966999</td>\n",
       "      <td>1.000002</td>\n",
       "      <td>1.034129</td>\n",
       "    </tr>\n",
       "    <tr>\n",
       "      <th>6</th>\n",
       "      <td>2005-10-01</td>\n",
       "      <td>4e35443</td>\n",
       "      <td>0.978764</td>\n",
       "      <td>1.000002</td>\n",
       "      <td>1.021699</td>\n",
       "    </tr>\n",
       "  </tbody>\n",
       "</table>\n",
       "</div>"
      ],
      "text/plain": [
       "   timepoint clade_membership  frequency  frequency_final  \\\n",
       "0 2005-10-01          26f855a   0.572141         0.946808   \n",
       "1 2005-10-01          2806112   0.231124         0.001333   \n",
       "4 2005-10-01          412c00a   0.978610         1.000002   \n",
       "5 2005-10-01          44989e1   0.966999         1.000002   \n",
       "6 2005-10-01          4e35443   0.978764         1.000002   \n",
       "\n",
       "   observed_growth_rate  \n",
       "0              1.654851  \n",
       "1              0.005767  \n",
       "4              1.021860  \n",
       "5              1.034129  \n",
       "6              1.021699  "
      ]
     },
     "execution_count": 441,
     "metadata": {},
     "output_type": "execute_result"
    }
   ],
   "source": [
    "large_clades.head()"
   ]
  },
  {
   "cell_type": "code",
   "execution_count": 442,
   "metadata": {},
   "outputs": [
    {
     "data": {
      "application/vnd.vegalite.v3+json": {
       "$schema": "https://vega.github.io/schema/vega-lite/v3.3.0.json",
       "config": {
        "mark": {
         "tooltip": null
        },
        "view": {
         "height": 300,
         "width": 400
        }
       },
       "data": {
        "name": "data-5c412658f60f39eb9ee7b370ba2f0600"
       },
       "datasets": {
        "data-5c412658f60f39eb9ee7b370ba2f0600": [
         {
          "clade_membership": "26f855a",
          "frequency": 0.5721410000000003,
          "frequency_final": 0.9468080000000001,
          "observed_growth_rate": 1.6548508147467138,
          "timepoint": "2005-10-01T00:00:00"
         },
         {
          "clade_membership": "2806112",
          "frequency": 0.231124,
          "frequency_final": 0.0013329999999999998,
          "observed_growth_rate": 0.005767466814350738,
          "timepoint": "2005-10-01T00:00:00"
         },
         {
          "clade_membership": "412c00a",
          "frequency": 0.9786100000000005,
          "frequency_final": 1.000002,
          "observed_growth_rate": 1.0218595763378664,
          "timepoint": "2005-10-01T00:00:00"
         },
         {
          "clade_membership": "44989e1",
          "frequency": 0.9669990000000007,
          "frequency_final": 1.000002,
          "observed_growth_rate": 1.0341293010644264,
          "timepoint": "2005-10-01T00:00:00"
         },
         {
          "clade_membership": "4e35443",
          "frequency": 0.9787640000000005,
          "frequency_final": 1.000002,
          "observed_growth_rate": 1.021698795623868,
          "timepoint": "2005-10-01T00:00:00"
         },
         {
          "clade_membership": "5ce45ae",
          "frequency": 0.260842,
          "frequency_final": 0.02513,
          "observed_growth_rate": 0.0963418467884773,
          "timepoint": "2005-10-01T00:00:00"
         },
         {
          "clade_membership": "6a436ac",
          "frequency": 0.20135600000000003,
          "frequency_final": 0.00047599999999999997,
          "observed_growth_rate": 0.0023639722680228047,
          "timepoint": "2005-10-01T00:00:00"
         },
         {
          "clade_membership": "7aa732d",
          "frequency": 0.9067170000000011,
          "frequency_final": 1.000002,
          "observed_growth_rate": 1.1028821561744169,
          "timepoint": "2005-10-01T00:00:00"
         },
         {
          "clade_membership": "9a3ff5d",
          "frequency": 0.9787640000000005,
          "frequency_final": 1.000002,
          "observed_growth_rate": 1.021698795623868,
          "timepoint": "2005-10-01T00:00:00"
         },
         {
          "clade_membership": "9b04f13",
          "frequency": 0.5563680000000002,
          "frequency_final": 0.946706,
          "observed_growth_rate": 1.7015824058896265,
          "timepoint": "2005-10-01T00:00:00"
         },
         {
          "clade_membership": "a5bcb4f",
          "frequency": 0.9787640000000005,
          "frequency_final": 1.000002,
          "observed_growth_rate": 1.021698795623868,
          "timepoint": "2005-10-01T00:00:00"
         },
         {
          "clade_membership": "aab80f6",
          "frequency": 0.9787640000000005,
          "frequency_final": 1.000002,
          "observed_growth_rate": 1.021698795623868,
          "timepoint": "2005-10-01T00:00:00"
         },
         {
          "clade_membership": "ddbae0a",
          "frequency": 0.9786100000000005,
          "frequency_final": 1.000002,
          "observed_growth_rate": 1.0218595763378664,
          "timepoint": "2005-10-01T00:00:00"
         },
         {
          "clade_membership": "26f855a",
          "frequency": 0.7836009999999992,
          "frequency_final": 0.9908409999999993,
          "observed_growth_rate": 1.2644713317109093,
          "timepoint": "2006-04-01T00:00:00"
         },
         {
          "clade_membership": "3674124",
          "frequency": 0.9993329999999992,
          "frequency_final": 0.9999899999999992,
          "observed_growth_rate": 1.000657438511487,
          "timepoint": "2006-04-01T00:00:00"
         },
         {
          "clade_membership": "412c00a",
          "frequency": 0.9993329999999992,
          "frequency_final": 0.9999899999999992,
          "observed_growth_rate": 1.000657438511487,
          "timepoint": "2006-04-01T00:00:00"
         },
         {
          "clade_membership": "44989e1",
          "frequency": 0.9989559999999993,
          "frequency_final": 0.9999899999999992,
          "observed_growth_rate": 1.0010350806241715,
          "timepoint": "2006-04-01T00:00:00"
         },
         {
          "clade_membership": "4ff1302",
          "frequency": 0.9993329999999992,
          "frequency_final": 0.9999899999999992,
          "observed_growth_rate": 1.000657438511487,
          "timepoint": "2006-04-01T00:00:00"
         },
         {
          "clade_membership": "5ce45ae",
          "frequency": 0.19346100000000008,
          "frequency_final": 0.006267999999999999,
          "observed_growth_rate": 0.03239929494833582,
          "timepoint": "2006-04-01T00:00:00"
         },
         {
          "clade_membership": "7aa732d",
          "frequency": 0.9918719999999992,
          "frequency_final": 0.9971089999999991,
          "observed_growth_rate": 1.005279915150342,
          "timepoint": "2006-04-01T00:00:00"
         },
         {
          "clade_membership": "8386d16",
          "frequency": 0.9993329999999992,
          "frequency_final": 0.9999899999999992,
          "observed_growth_rate": 1.000657438511487,
          "timepoint": "2006-04-01T00:00:00"
         },
         {
          "clade_membership": "8517059",
          "frequency": 0.28913400000000006,
          "frequency_final": 0.0036929999999999997,
          "observed_growth_rate": 0.012772624457863825,
          "timepoint": "2006-04-01T00:00:00"
         },
         {
          "clade_membership": "85356dd",
          "frequency": 0.9993329999999992,
          "frequency_final": 0.9999899999999992,
          "observed_growth_rate": 1.000657438511487,
          "timepoint": "2006-04-01T00:00:00"
         },
         {
          "clade_membership": "9a3ff5d",
          "frequency": 0.9993329999999992,
          "frequency_final": 0.9999899999999992,
          "observed_growth_rate": 1.000657438511487,
          "timepoint": "2006-04-01T00:00:00"
         },
         {
          "clade_membership": "9b04f13",
          "frequency": 0.7568009999999993,
          "frequency_final": 0.9908409999999993,
          "observed_growth_rate": 1.309249062831577,
          "timepoint": "2006-04-01T00:00:00"
         },
         {
          "clade_membership": "a5bcb4f",
          "frequency": 0.9993329999999992,
          "frequency_final": 0.9999899999999992,
          "observed_growth_rate": 1.000657438511487,
          "timepoint": "2006-04-01T00:00:00"
         },
         {
          "clade_membership": "aab80f6",
          "frequency": 0.9993329999999992,
          "frequency_final": 0.9999899999999992,
          "observed_growth_rate": 1.000657438511487,
          "timepoint": "2006-04-01T00:00:00"
         },
         {
          "clade_membership": "ddbae0a",
          "frequency": 0.9993329999999992,
          "frequency_final": 0.9999899999999992,
          "observed_growth_rate": 1.000657438511487,
          "timepoint": "2006-04-01T00:00:00"
         },
         {
          "clade_membership": "26f855a",
          "frequency": 0.9468080000000001,
          "frequency_final": 0.9965900000000004,
          "observed_growth_rate": 1.0525787699301234,
          "timepoint": "2006-10-01T00:00:00"
         },
         {
          "clade_membership": "3a81d99",
          "frequency": 1.000002,
          "frequency_final": 0.9999610000000004,
          "observed_growth_rate": 0.9999590000820002,
          "timepoint": "2006-10-01T00:00:00"
         },
         {
          "clade_membership": "3c0baec",
          "frequency": 0.47371199999999986,
          "frequency_final": 0.7944189999999995,
          "observed_growth_rate": 1.6770083932853712,
          "timepoint": "2006-10-01T00:00:00"
         },
         {
          "clade_membership": "412c00a",
          "frequency": 1.000002,
          "frequency_final": 0.9999610000000004,
          "observed_growth_rate": 0.9999590000820002,
          "timepoint": "2006-10-01T00:00:00"
         },
         {
          "clade_membership": "44989e1",
          "frequency": 1.000002,
          "frequency_final": 0.9999610000000004,
          "observed_growth_rate": 0.9999590000820002,
          "timepoint": "2006-10-01T00:00:00"
         },
         {
          "clade_membership": "4e35443",
          "frequency": 1.000002,
          "frequency_final": 0.9999610000000004,
          "observed_growth_rate": 0.9999590000820002,
          "timepoint": "2006-10-01T00:00:00"
         },
         {
          "clade_membership": "4ff1302",
          "frequency": 1.000002,
          "frequency_final": 0.9999610000000004,
          "observed_growth_rate": 0.9999590000820002,
          "timepoint": "2006-10-01T00:00:00"
         },
         {
          "clade_membership": "7aa732d",
          "frequency": 1.000002,
          "frequency_final": 0.9999610000000004,
          "observed_growth_rate": 0.9999590000820002,
          "timepoint": "2006-10-01T00:00:00"
         },
         {
          "clade_membership": "8386d16",
          "frequency": 1.000002,
          "frequency_final": 0.9999610000000004,
          "observed_growth_rate": 0.9999590000820002,
          "timepoint": "2006-10-01T00:00:00"
         },
         {
          "clade_membership": "8517059",
          "frequency": 0.2618699999999998,
          "frequency_final": 0.000286,
          "observed_growth_rate": 0.0010921449574216222,
          "timepoint": "2006-10-01T00:00:00"
         },
         {
          "clade_membership": "85356dd",
          "frequency": 1.000002,
          "frequency_final": 0.9999610000000004,
          "observed_growth_rate": 0.9999590000820002,
          "timepoint": "2006-10-01T00:00:00"
         },
         {
          "clade_membership": "9a3ff5d",
          "frequency": 1.000002,
          "frequency_final": 0.9999610000000004,
          "observed_growth_rate": 0.9999590000820002,
          "timepoint": "2006-10-01T00:00:00"
         },
         {
          "clade_membership": "9b04f13",
          "frequency": 0.946706,
          "frequency_final": 0.9965900000000004,
          "observed_growth_rate": 1.0526921768743416,
          "timepoint": "2006-10-01T00:00:00"
         },
         {
          "clade_membership": "a5bcb4f",
          "frequency": 1.000002,
          "frequency_final": 0.9999610000000004,
          "observed_growth_rate": 0.9999590000820002,
          "timepoint": "2006-10-01T00:00:00"
         },
         {
          "clade_membership": "aab80f6",
          "frequency": 1.000002,
          "frequency_final": 0.9999610000000004,
          "observed_growth_rate": 0.9999590000820002,
          "timepoint": "2006-10-01T00:00:00"
         },
         {
          "clade_membership": "1518fdb",
          "frequency": 0.22855100000000003,
          "frequency_final": 0.02609700000000002,
          "observed_growth_rate": 0.11418458024685964,
          "timepoint": "2007-04-01T00:00:00"
         },
         {
          "clade_membership": "2fd19ac",
          "frequency": 0.26646000000000003,
          "frequency_final": 0.0018449999999999999,
          "observed_growth_rate": 0.006924116190047285,
          "timepoint": "2007-04-01T00:00:00"
         },
         {
          "clade_membership": "3c0baec",
          "frequency": 0.7495240000000001,
          "frequency_final": 0.005121,
          "observed_growth_rate": 0.0068323362560771895,
          "timepoint": "2007-04-01T00:00:00"
         },
         {
          "clade_membership": "412c00a",
          "frequency": 0.9999899999999992,
          "frequency_final": 0.9999620000000013,
          "observed_growth_rate": 0.9999719997199994,
          "timepoint": "2007-04-01T00:00:00"
         },
         {
          "clade_membership": "44989e1",
          "frequency": 0.9999899999999992,
          "frequency_final": 0.9999620000000013,
          "observed_growth_rate": 0.9999719997199994,
          "timepoint": "2007-04-01T00:00:00"
         },
         {
          "clade_membership": "4ff1302",
          "frequency": 0.9999899999999992,
          "frequency_final": 0.9999620000000013,
          "observed_growth_rate": 0.9999719997199994,
          "timepoint": "2007-04-01T00:00:00"
         },
         {
          "clade_membership": "7aa732d",
          "frequency": 0.9971089999999991,
          "frequency_final": 0.9999620000000013,
          "observed_growth_rate": 1.0028612719371726,
          "timepoint": "2007-04-01T00:00:00"
         },
         {
          "clade_membership": "8386d16",
          "frequency": 0.9999899999999992,
          "frequency_final": 0.9999620000000013,
          "observed_growth_rate": 0.9999719997199994,
          "timepoint": "2007-04-01T00:00:00"
         },
         {
          "clade_membership": "85356dd",
          "frequency": 0.9999899999999992,
          "frequency_final": 0.9999620000000013,
          "observed_growth_rate": 0.9999719997199994,
          "timepoint": "2007-04-01T00:00:00"
         },
         {
          "clade_membership": "91769ce",
          "frequency": 0.4243909999999998,
          "frequency_final": 0.9649320000000016,
          "observed_growth_rate": 2.2736862940071823,
          "timepoint": "2007-04-01T00:00:00"
         },
         {
          "clade_membership": "98a3f76",
          "frequency": 0.26646000000000003,
          "frequency_final": 0.0018449999999999999,
          "observed_growth_rate": 0.006924116190047285,
          "timepoint": "2007-04-01T00:00:00"
         },
         {
          "clade_membership": "9a3ff5d",
          "frequency": 0.9999899999999992,
          "frequency_final": 0.9999620000000013,
          "observed_growth_rate": 0.9999719997199994,
          "timepoint": "2007-04-01T00:00:00"
         },
         {
          "clade_membership": "9b04f13",
          "frequency": 0.9908409999999993,
          "frequency_final": 0.9999620000000013,
          "observed_growth_rate": 1.00920531144755,
          "timepoint": "2007-04-01T00:00:00"
         },
         {
          "clade_membership": "9f68af2",
          "frequency": 0.22135300000000002,
          "frequency_final": 0.0018449999999999999,
          "observed_growth_rate": 0.008335102754423928,
          "timepoint": "2007-04-01T00:00:00"
         },
         {
          "clade_membership": "a5fc6e2",
          "frequency": 0.20387700000000003,
          "frequency_final": 0.0009239999999999999,
          "observed_growth_rate": 0.004532144381170999,
          "timepoint": "2007-04-01T00:00:00"
         },
         {
          "clade_membership": "ac68424",
          "frequency": 0.7495240000000001,
          "frequency_final": 0.005121,
          "observed_growth_rate": 0.0068323362560771895,
          "timepoint": "2007-04-01T00:00:00"
         },
         {
          "clade_membership": "b122c5c",
          "frequency": 0.23307699999999995,
          "frequency_final": 0.02985900000000002,
          "observed_growth_rate": 0.12810787851225144,
          "timepoint": "2007-04-01T00:00:00"
         },
         {
          "clade_membership": "0003b07",
          "frequency": 0.7321319999999998,
          "frequency_final": 0.9987219999999988,
          "observed_growth_rate": 1.364128326585915,
          "timepoint": "2007-10-01T00:00:00"
         },
         {
          "clade_membership": "26f855a",
          "frequency": 0.9965900000000004,
          "frequency_final": 0.9999809999999988,
          "observed_growth_rate": 1.003402602875805,
          "timepoint": "2007-10-01T00:00:00"
         },
         {
          "clade_membership": "3a81d99",
          "frequency": 0.9999610000000004,
          "frequency_final": 0.9999809999999988,
          "observed_growth_rate": 1.0000200007800288,
          "timepoint": "2007-10-01T00:00:00"
         },
         {
          "clade_membership": "3c0baec",
          "frequency": 0.7944189999999995,
          "frequency_final": 0.001259,
          "observed_growth_rate": 0.0015848060028775756,
          "timepoint": "2007-10-01T00:00:00"
         },
         {
          "clade_membership": "412c00a",
          "frequency": 0.9999610000000004,
          "frequency_final": 0.9999809999999988,
          "observed_growth_rate": 1.0000200007800288,
          "timepoint": "2007-10-01T00:00:00"
         },
         {
          "clade_membership": "44989e1",
          "frequency": 0.9999610000000004,
          "frequency_final": 0.9999809999999988,
          "observed_growth_rate": 1.0000200007800288,
          "timepoint": "2007-10-01T00:00:00"
         },
         {
          "clade_membership": "4952842",
          "frequency": 0.9999610000000004,
          "frequency_final": 0.9999809999999988,
          "observed_growth_rate": 1.0000200007800288,
          "timepoint": "2007-10-01T00:00:00"
         },
         {
          "clade_membership": "4ff1302",
          "frequency": 0.9999610000000004,
          "frequency_final": 0.9999809999999988,
          "observed_growth_rate": 1.0000200007800288,
          "timepoint": "2007-10-01T00:00:00"
         },
         {
          "clade_membership": "7aa732d",
          "frequency": 0.9999610000000004,
          "frequency_final": 0.9999809999999988,
          "observed_growth_rate": 1.0000200007800288,
          "timepoint": "2007-10-01T00:00:00"
         },
         {
          "clade_membership": "85356dd",
          "frequency": 0.9999610000000004,
          "frequency_final": 0.9999809999999988,
          "observed_growth_rate": 1.0000200007800288,
          "timepoint": "2007-10-01T00:00:00"
         },
         {
          "clade_membership": "91769ce",
          "frequency": 0.7321319999999998,
          "frequency_final": 0.9987219999999988,
          "observed_growth_rate": 1.364128326585915,
          "timepoint": "2007-10-01T00:00:00"
         },
         {
          "clade_membership": "9b04f13",
          "frequency": 0.9965900000000004,
          "frequency_final": 0.9999809999999988,
          "observed_growth_rate": 1.003402602875805,
          "timepoint": "2007-10-01T00:00:00"
         },
         {
          "clade_membership": "b32cea9",
          "frequency": 0.9999610000000004,
          "frequency_final": 0.9999809999999988,
          "observed_growth_rate": 1.0000200007800288,
          "timepoint": "2007-10-01T00:00:00"
         },
         {
          "clade_membership": "3a81d99",
          "frequency": 0.9999620000000013,
          "frequency_final": 0.9999869999999985,
          "observed_growth_rate": 1.0000250009500333,
          "timepoint": "2008-04-01T00:00:00"
         },
         {
          "clade_membership": "412c00a",
          "frequency": 0.9999620000000013,
          "frequency_final": 0.9999869999999985,
          "observed_growth_rate": 1.0000250009500333,
          "timepoint": "2008-04-01T00:00:00"
         },
         {
          "clade_membership": "44989e1",
          "frequency": 0.9999620000000013,
          "frequency_final": 0.9999869999999985,
          "observed_growth_rate": 1.0000250009500333,
          "timepoint": "2008-04-01T00:00:00"
         },
         {
          "clade_membership": "4952842",
          "frequency": 0.9999620000000013,
          "frequency_final": 0.9999869999999985,
          "observed_growth_rate": 1.0000250009500333,
          "timepoint": "2008-04-01T00:00:00"
         },
         {
          "clade_membership": "4cd02c7",
          "frequency": 0.158616,
          "frequency_final": 0.006718999999999994,
          "observed_growth_rate": 0.04236016543097792,
          "timepoint": "2008-04-01T00:00:00"
         },
         {
          "clade_membership": "4ff1302",
          "frequency": 0.9999620000000013,
          "frequency_final": 0.9999869999999985,
          "observed_growth_rate": 1.0000250009500333,
          "timepoint": "2008-04-01T00:00:00"
         },
         {
          "clade_membership": "7aa732d",
          "frequency": 0.9999620000000013,
          "frequency_final": 0.9999869999999985,
          "observed_growth_rate": 1.0000250009500333,
          "timepoint": "2008-04-01T00:00:00"
         },
         {
          "clade_membership": "85356dd",
          "frequency": 0.9999620000000013,
          "frequency_final": 0.9999869999999985,
          "observed_growth_rate": 1.0000250009500333,
          "timepoint": "2008-04-01T00:00:00"
         },
         {
          "clade_membership": "91769ce",
          "frequency": 0.9649320000000016,
          "frequency_final": 0.9999869999999985,
          "observed_growth_rate": 1.0363289848403794,
          "timepoint": "2008-04-01T00:00:00"
         },
         {
          "clade_membership": "9b04f13",
          "frequency": 0.9999620000000013,
          "frequency_final": 0.9999869999999985,
          "observed_growth_rate": 1.0000250009500333,
          "timepoint": "2008-04-01T00:00:00"
         },
         {
          "clade_membership": "b32cea9",
          "frequency": 0.9999620000000013,
          "frequency_final": 0.9999869999999985,
          "observed_growth_rate": 1.0000250009500333,
          "timepoint": "2008-04-01T00:00:00"
         },
         {
          "clade_membership": "d633ffe",
          "frequency": 0.167144,
          "frequency_final": 0.006718999999999994,
          "observed_growth_rate": 0.04019887043507392,
          "timepoint": "2008-04-01T00:00:00"
         },
         {
          "clade_membership": "0003b07",
          "frequency": 0.9987219999999988,
          "frequency_final": 0.9999610000000012,
          "observed_growth_rate": 1.001240585468231,
          "timepoint": "2008-10-01T00:00:00"
         },
         {
          "clade_membership": "3a81d99",
          "frequency": 0.9999809999999988,
          "frequency_final": 0.9999610000000012,
          "observed_growth_rate": 0.9999799996199952,
          "timepoint": "2008-10-01T00:00:00"
         },
         {
          "clade_membership": "412c00a",
          "frequency": 0.9999809999999988,
          "frequency_final": 0.9999610000000012,
          "observed_growth_rate": 0.9999799996199952,
          "timepoint": "2008-10-01T00:00:00"
         },
         {
          "clade_membership": "41bb3e2",
          "frequency": 0.4530129999999999,
          "frequency_final": 0.9998340000000012,
          "observed_growth_rate": 2.207075735133432,
          "timepoint": "2008-10-01T00:00:00"
         },
         {
          "clade_membership": "44989e1",
          "frequency": 0.9999809999999988,
          "frequency_final": 0.9999610000000012,
          "observed_growth_rate": 0.9999799996199952,
          "timepoint": "2008-10-01T00:00:00"
         },
         {
          "clade_membership": "4952842",
          "frequency": 0.9999809999999988,
          "frequency_final": 0.9999610000000012,
          "observed_growth_rate": 0.9999799996199952,
          "timepoint": "2008-10-01T00:00:00"
         },
         {
          "clade_membership": "4cd02c7",
          "frequency": 0.23162999999999984,
          "frequency_final": 1.4999999999999999e-05,
          "observed_growth_rate": 6.475845097785266e-05,
          "timepoint": "2008-10-01T00:00:00"
         },
         {
          "clade_membership": "4ff1302",
          "frequency": 0.9999809999999988,
          "frequency_final": 0.9999610000000012,
          "observed_growth_rate": 0.9999799996199952,
          "timepoint": "2008-10-01T00:00:00"
         },
         {
          "clade_membership": "7aa732d",
          "frequency": 0.9999809999999988,
          "frequency_final": 0.9999610000000012,
          "observed_growth_rate": 0.9999799996199952,
          "timepoint": "2008-10-01T00:00:00"
         },
         {
          "clade_membership": "91769ce",
          "frequency": 0.9987219999999988,
          "frequency_final": 0.9999610000000012,
          "observed_growth_rate": 1.001240585468231,
          "timepoint": "2008-10-01T00:00:00"
         },
         {
          "clade_membership": "9b04f13",
          "frequency": 0.9999809999999988,
          "frequency_final": 0.9999610000000012,
          "observed_growth_rate": 0.9999799996199952,
          "timepoint": "2008-10-01T00:00:00"
         },
         {
          "clade_membership": "b32cea9",
          "frequency": 0.9999809999999988,
          "frequency_final": 0.9999610000000012,
          "observed_growth_rate": 0.9999799996199952,
          "timepoint": "2008-10-01T00:00:00"
         },
         {
          "clade_membership": "0003b07",
          "frequency": 0.9999869999999985,
          "frequency_final": 1.0000019999999998,
          "observed_growth_rate": 1.000015000195004,
          "timepoint": "2009-04-01T00:00:00"
         },
         {
          "clade_membership": "33f72b5",
          "frequency": 0.19045,
          "frequency_final": 0.002926,
          "observed_growth_rate": 0.015363612496718299,
          "timepoint": "2009-04-01T00:00:00"
         },
         {
          "clade_membership": "3c0baec",
          "frequency": 0.9999869999999985,
          "frequency_final": 1.0000019999999998,
          "observed_growth_rate": 1.000015000195004,
          "timepoint": "2009-04-01T00:00:00"
         },
         {
          "clade_membership": "41bb3e2",
          "frequency": 0.9354169999999987,
          "frequency_final": 0.9927459999999999,
          "observed_growth_rate": 1.0612871051092734,
          "timepoint": "2009-04-01T00:00:00"
         },
         {
          "clade_membership": "44989e1",
          "frequency": 0.9999869999999985,
          "frequency_final": 1.0000019999999998,
          "observed_growth_rate": 1.000015000195004,
          "timepoint": "2009-04-01T00:00:00"
         },
         {
          "clade_membership": "7aa732d",
          "frequency": 0.9999869999999985,
          "frequency_final": 1.0000019999999998,
          "observed_growth_rate": 1.000015000195004,
          "timepoint": "2009-04-01T00:00:00"
         },
         {
          "clade_membership": "91769ce",
          "frequency": 0.9999869999999985,
          "frequency_final": 1.0000019999999998,
          "observed_growth_rate": 1.000015000195004,
          "timepoint": "2009-04-01T00:00:00"
         },
         {
          "clade_membership": "9b04f13",
          "frequency": 0.9999869999999985,
          "frequency_final": 1.0000019999999998,
          "observed_growth_rate": 1.000015000195004,
          "timepoint": "2009-04-01T00:00:00"
         },
         {
          "clade_membership": "b7ff90b",
          "frequency": 0.9354169999999987,
          "frequency_final": 0.9927459999999999,
          "observed_growth_rate": 1.0612871051092734,
          "timepoint": "2009-04-01T00:00:00"
         },
         {
          "clade_membership": "0003b07",
          "frequency": 0.9999610000000012,
          "frequency_final": 0.9999319999999983,
          "observed_growth_rate": 0.9999709988689529,
          "timepoint": "2009-10-01T00:00:00"
         },
         {
          "clade_membership": "3c0baec",
          "frequency": 0.9999610000000012,
          "frequency_final": 0.9999319999999983,
          "observed_growth_rate": 0.9999709988689529,
          "timepoint": "2009-10-01T00:00:00"
         },
         {
          "clade_membership": "41bb3e2",
          "frequency": 0.9998340000000012,
          "frequency_final": 0.9999319999999983,
          "observed_growth_rate": 1.000098016270698,
          "timepoint": "2009-10-01T00:00:00"
         },
         {
          "clade_membership": "44989e1",
          "frequency": 0.9999610000000012,
          "frequency_final": 0.9999319999999983,
          "observed_growth_rate": 0.9999709988689529,
          "timepoint": "2009-10-01T00:00:00"
         },
         {
          "clade_membership": "7aa732d",
          "frequency": 0.9999610000000012,
          "frequency_final": 0.9999319999999983,
          "observed_growth_rate": 0.9999709988689529,
          "timepoint": "2009-10-01T00:00:00"
         },
         {
          "clade_membership": "819ddab",
          "frequency": 0.5304890000000001,
          "frequency_final": 0.146914,
          "observed_growth_rate": 0.2769407094209304,
          "timepoint": "2009-10-01T00:00:00"
         },
         {
          "clade_membership": "91769ce",
          "frequency": 0.9999610000000012,
          "frequency_final": 0.9999319999999983,
          "observed_growth_rate": 0.9999709988689529,
          "timepoint": "2009-10-01T00:00:00"
         },
         {
          "clade_membership": "956f201",
          "frequency": 0.35824199999999995,
          "frequency_final": 0.8528559999999983,
          "observed_growth_rate": 2.380670049854563,
          "timepoint": "2009-10-01T00:00:00"
         },
         {
          "clade_membership": "9b04f13",
          "frequency": 0.9999610000000012,
          "frequency_final": 0.9999319999999983,
          "observed_growth_rate": 0.9999709988689529,
          "timepoint": "2009-10-01T00:00:00"
         },
         {
          "clade_membership": "c0ab28c",
          "frequency": 0.5304890000000001,
          "frequency_final": 0.146914,
          "observed_growth_rate": 0.2769407094209304,
          "timepoint": "2009-10-01T00:00:00"
         },
         {
          "clade_membership": "e62a2e8",
          "frequency": 0.31069199999999997,
          "frequency_final": 0.014003999999999999,
          "observed_growth_rate": 0.04507357769108957,
          "timepoint": "2009-10-01T00:00:00"
         },
         {
          "clade_membership": "0003b07",
          "frequency": 1.0000019999999998,
          "frequency_final": 0.9999829999999996,
          "observed_growth_rate": 0.9999810000379997,
          "timepoint": "2010-04-01T00:00:00"
         },
         {
          "clade_membership": "18b1f50",
          "frequency": 1.0000019999999998,
          "frequency_final": 0.9999829999999996,
          "observed_growth_rate": 0.9999810000379997,
          "timepoint": "2010-04-01T00:00:00"
         },
         {
          "clade_membership": "246b30f",
          "frequency": 1.0000019999999998,
          "frequency_final": 0.9999829999999996,
          "observed_growth_rate": 0.9999810000379997,
          "timepoint": "2010-04-01T00:00:00"
         },
         {
          "clade_membership": "3c0baec",
          "frequency": 1.0000019999999998,
          "frequency_final": 0.9999829999999996,
          "observed_growth_rate": 0.9999810000379997,
          "timepoint": "2010-04-01T00:00:00"
         },
         {
          "clade_membership": "41bb3e2",
          "frequency": 0.9927459999999999,
          "frequency_final": 0.9999829999999996,
          "observed_growth_rate": 1.0072898807952888,
          "timepoint": "2010-04-01T00:00:00"
         },
         {
          "clade_membership": "44989e1",
          "frequency": 1.0000019999999998,
          "frequency_final": 0.9999829999999996,
          "observed_growth_rate": 0.9999810000379997,
          "timepoint": "2010-04-01T00:00:00"
         },
         {
          "clade_membership": "7aa732d",
          "frequency": 1.0000019999999998,
          "frequency_final": 0.9999829999999996,
          "observed_growth_rate": 0.9999810000379997,
          "timepoint": "2010-04-01T00:00:00"
         },
         {
          "clade_membership": "7fba9ff",
          "frequency": 0.2541359999999999,
          "frequency_final": 0.15668299999999996,
          "observed_growth_rate": 0.6165320930525389,
          "timepoint": "2010-04-01T00:00:00"
         },
         {
          "clade_membership": "91769ce",
          "frequency": 1.0000019999999998,
          "frequency_final": 0.9999829999999996,
          "observed_growth_rate": 0.9999810000379997,
          "timepoint": "2010-04-01T00:00:00"
         },
         {
          "clade_membership": "956f201",
          "frequency": 0.42820099999999994,
          "frequency_final": 0.7917449999999997,
          "observed_growth_rate": 1.8490031550603567,
          "timepoint": "2010-04-01T00:00:00"
         },
         {
          "clade_membership": "9b04f13",
          "frequency": 1.0000019999999998,
          "frequency_final": 0.9999829999999996,
          "observed_growth_rate": 0.9999810000379997,
          "timepoint": "2010-04-01T00:00:00"
         },
         {
          "clade_membership": "c0ab28c",
          "frequency": 0.47196499999999997,
          "frequency_final": 0.20697399999999996,
          "observed_growth_rate": 0.43853675590350977,
          "timepoint": "2010-04-01T00:00:00"
         },
         {
          "clade_membership": "d4a2597",
          "frequency": 0.233429,
          "frequency_final": 0.19519699999999993,
          "observed_growth_rate": 0.8362157229821484,
          "timepoint": "2010-04-01T00:00:00"
         },
         {
          "clade_membership": "026d21f",
          "frequency": 0.503541,
          "frequency_final": 0.364479,
          "observed_growth_rate": 0.7238318230293064,
          "timepoint": "2010-10-01T00:00:00"
         },
         {
          "clade_membership": "13a450d",
          "frequency": 0.8528559999999983,
          "frequency_final": 0.9945499999999995,
          "observed_growth_rate": 1.1661405911431724,
          "timepoint": "2010-10-01T00:00:00"
         },
         {
          "clade_membership": "26f855a",
          "frequency": 0.9999319999999983,
          "frequency_final": 0.9999809999999995,
          "observed_growth_rate": 1.0000490033322278,
          "timepoint": "2010-10-01T00:00:00"
         },
         {
          "clade_membership": "3c0baec",
          "frequency": 0.9999319999999983,
          "frequency_final": 0.9999809999999995,
          "observed_growth_rate": 1.0000490033322278,
          "timepoint": "2010-10-01T00:00:00"
         },
         {
          "clade_membership": "41bb3e2",
          "frequency": 0.9999319999999983,
          "frequency_final": 0.9999809999999995,
          "observed_growth_rate": 1.0000490033322278,
          "timepoint": "2010-10-01T00:00:00"
         },
         {
          "clade_membership": "7aa732d",
          "frequency": 0.9999319999999983,
          "frequency_final": 0.9999809999999995,
          "observed_growth_rate": 1.0000490033322278,
          "timepoint": "2010-10-01T00:00:00"
         },
         {
          "clade_membership": "7fba9ff",
          "frequency": 0.19830299999999998,
          "frequency_final": 0.0009830000000000001,
          "observed_growth_rate": 0.0049570606596975346,
          "timepoint": "2010-10-01T00:00:00"
         },
         {
          "clade_membership": "91769ce",
          "frequency": 0.9999319999999983,
          "frequency_final": 0.9999809999999995,
          "observed_growth_rate": 1.0000490033322278,
          "timepoint": "2010-10-01T00:00:00"
         },
         {
          "clade_membership": "956f201",
          "frequency": 0.8528559999999983,
          "frequency_final": 0.9945499999999995,
          "observed_growth_rate": 1.1661405911431724,
          "timepoint": "2010-10-01T00:00:00"
         },
         {
          "clade_membership": "9b04f13",
          "frequency": 0.9999319999999983,
          "frequency_final": 0.9999809999999995,
          "observed_growth_rate": 1.0000490033322278,
          "timepoint": "2010-10-01T00:00:00"
         },
         {
          "clade_membership": "d4d7919",
          "frequency": 0.503541,
          "frequency_final": 0.364479,
          "observed_growth_rate": 0.7238318230293064,
          "timepoint": "2010-10-01T00:00:00"
         },
         {
          "clade_membership": "e56a121",
          "frequency": 0.503322,
          "frequency_final": 0.364463,
          "observed_growth_rate": 0.7241149800723988,
          "timepoint": "2010-10-01T00:00:00"
         },
         {
          "clade_membership": "0003b07",
          "frequency": 0.9999829999999996,
          "frequency_final": 0.999981000000002,
          "observed_growth_rate": 0.9999979999660018,
          "timepoint": "2011-04-01T00:00:00"
         },
         {
          "clade_membership": "026d21f",
          "frequency": 0.5248099999999999,
          "frequency_final": 0.12450699999999992,
          "observed_growth_rate": 0.2372420495036298,
          "timepoint": "2011-04-01T00:00:00"
         },
         {
          "clade_membership": "24fc224",
          "frequency": 0.18738799999999992,
          "frequency_final": 0.003616,
          "observed_growth_rate": 0.019296859991034653,
          "timepoint": "2011-04-01T00:00:00"
         },
         {
          "clade_membership": "2e38996",
          "frequency": 0.19515899999999994,
          "frequency_final": 0.00366,
          "observed_growth_rate": 0.018753939095814187,
          "timepoint": "2011-04-01T00:00:00"
         },
         {
          "clade_membership": "41bb3e2",
          "frequency": 0.9999829999999996,
          "frequency_final": 0.999981000000002,
          "observed_growth_rate": 0.9999979999660018,
          "timepoint": "2011-04-01T00:00:00"
         },
         {
          "clade_membership": "4748b2c",
          "frequency": 0.19515899999999994,
          "frequency_final": 0.00366,
          "observed_growth_rate": 0.018753939095814187,
          "timepoint": "2011-04-01T00:00:00"
         },
         {
          "clade_membership": "72597af",
          "frequency": 0.9987189999999995,
          "frequency_final": 0.999981000000002,
          "observed_growth_rate": 1.0012636186955515,
          "timepoint": "2011-04-01T00:00:00"
         },
         {
          "clade_membership": "7fba9ff",
          "frequency": 0.15668299999999996,
          "frequency_final": 0.7937850000000015,
          "observed_growth_rate": 5.0661845892662365,
          "timepoint": "2011-04-01T00:00:00"
         },
         {
          "clade_membership": "91769ce",
          "frequency": 0.9999829999999996,
          "frequency_final": 0.999981000000002,
          "observed_growth_rate": 0.9999979999660018,
          "timepoint": "2011-04-01T00:00:00"
         },
         {
          "clade_membership": "956f201",
          "frequency": 0.7917449999999997,
          "frequency_final": 0.9962560000000019,
          "observed_growth_rate": 1.258304125697039,
          "timepoint": "2011-04-01T00:00:00"
         },
         {
          "clade_membership": "c0ab28c",
          "frequency": 0.20697399999999996,
          "frequency_final": 0.003725,
          "observed_growth_rate": 0.017997429628842272,
          "timepoint": "2011-04-01T00:00:00"
         },
         {
          "clade_membership": "d4a2597",
          "frequency": 0.19519699999999993,
          "frequency_final": 0.00366,
          "observed_growth_rate": 0.018750288170412462,
          "timepoint": "2011-04-01T00:00:00"
         },
         {
          "clade_membership": "e56a121",
          "frequency": 0.5248099999999999,
          "frequency_final": 0.12450699999999992,
          "observed_growth_rate": 0.2372420495036298,
          "timepoint": "2011-04-01T00:00:00"
         },
         {
          "clade_membership": "f162f83",
          "frequency": 0.19515899999999994,
          "frequency_final": 0.00366,
          "observed_growth_rate": 0.018753939095814187,
          "timepoint": "2011-04-01T00:00:00"
         },
         {
          "clade_membership": "13a450d",
          "frequency": 0.9945499999999995,
          "frequency_final": 0.9963760000000014,
          "observed_growth_rate": 1.001836006233977,
          "timepoint": "2011-10-01T00:00:00"
         },
         {
          "clade_membership": "38da78c",
          "frequency": 0.26738,
          "frequency_final": 0.5266240000000006,
          "observed_growth_rate": 1.9695713965143264,
          "timepoint": "2011-10-01T00:00:00"
         },
         {
          "clade_membership": "3b60fb2",
          "frequency": 0.16073700000000002,
          "frequency_final": 0.04403800000000001,
          "observed_growth_rate": 0.2739755003515059,
          "timepoint": "2011-10-01T00:00:00"
         },
         {
          "clade_membership": "3c0baec",
          "frequency": 0.9999809999999995,
          "frequency_final": 0.9964690000000013,
          "observed_growth_rate": 0.9964879332707339,
          "timepoint": "2011-10-01T00:00:00"
         },
         {
          "clade_membership": "41bb3e2",
          "frequency": 0.9999809999999995,
          "frequency_final": 0.9964690000000013,
          "observed_growth_rate": 0.9964879332707339,
          "timepoint": "2011-10-01T00:00:00"
         },
         {
          "clade_membership": "4786bbf",
          "frequency": 0.364479,
          "frequency_final": 0.22203599999999998,
          "observed_growth_rate": 0.6091873605886758,
          "timepoint": "2011-10-01T00:00:00"
         },
         {
          "clade_membership": "7aa732d",
          "frequency": 0.9999809999999995,
          "frequency_final": 0.9964690000000013,
          "observed_growth_rate": 0.9964879332707339,
          "timepoint": "2011-10-01T00:00:00"
         },
         {
          "clade_membership": "91769ce",
          "frequency": 0.9999809999999995,
          "frequency_final": 0.9964690000000013,
          "observed_growth_rate": 0.9964879332707339,
          "timepoint": "2011-10-01T00:00:00"
         },
         {
          "clade_membership": "956f201",
          "frequency": 0.9945499999999995,
          "frequency_final": 0.9963760000000014,
          "observed_growth_rate": 1.001836006233977,
          "timepoint": "2011-10-01T00:00:00"
         },
         {
          "clade_membership": "9b04f13",
          "frequency": 0.9999809999999995,
          "frequency_final": 0.9964690000000013,
          "observed_growth_rate": 0.9964879332707339,
          "timepoint": "2011-10-01T00:00:00"
         },
         {
          "clade_membership": "b7ff90b",
          "frequency": 0.9999809999999995,
          "frequency_final": 0.9964690000000013,
          "observed_growth_rate": 0.9964879332707339,
          "timepoint": "2011-10-01T00:00:00"
         },
         {
          "clade_membership": "c139e7c",
          "frequency": 0.30587800000000004,
          "frequency_final": 0.6672010000000007,
          "observed_growth_rate": 2.1812650795415185,
          "timepoint": "2011-10-01T00:00:00"
         },
         {
          "clade_membership": "c17559e",
          "frequency": 0.5976190000000003,
          "frequency_final": 0.011863,
          "observed_growth_rate": 0.019850439828720295,
          "timepoint": "2011-10-01T00:00:00"
         },
         {
          "clade_membership": "ce8636c",
          "frequency": 0.31157,
          "frequency_final": 1.4999999999999999e-05,
          "observed_growth_rate": 4.814327438456847e-05,
          "timepoint": "2011-10-01T00:00:00"
         },
         {
          "clade_membership": "e56a121",
          "frequency": 0.364463,
          "frequency_final": 0.22196199999999996,
          "observed_growth_rate": 0.6090110655951358,
          "timepoint": "2011-10-01T00:00:00"
         },
         {
          "clade_membership": "38da78c",
          "frequency": 0.42489600000000016,
          "frequency_final": 0.9394600000000003,
          "observed_growth_rate": 2.2110351709594815,
          "timepoint": "2012-04-01T00:00:00"
         },
         {
          "clade_membership": "41bb3e2",
          "frequency": 0.999981000000002,
          "frequency_final": 0.9999650000000002,
          "observed_growth_rate": 0.9999839996959924,
          "timepoint": "2012-04-01T00:00:00"
         },
         {
          "clade_membership": "6c1138e",
          "frequency": 0.3644620000000001,
          "frequency_final": 0.9274340000000002,
          "observed_growth_rate": 2.544665836218865,
          "timepoint": "2012-04-01T00:00:00"
         },
         {
          "clade_membership": "7fba9ff",
          "frequency": 0.7937850000000015,
          "frequency_final": 0.971773,
          "observed_growth_rate": 1.2242269632205172,
          "timepoint": "2012-04-01T00:00:00"
         },
         {
          "clade_membership": "88299f7",
          "frequency": 0.7844560000000016,
          "frequency_final": 0.971773,
          "observed_growth_rate": 1.2387858592451304,
          "timepoint": "2012-04-01T00:00:00"
         },
         {
          "clade_membership": "91769ce",
          "frequency": 0.999981000000002,
          "frequency_final": 0.9999650000000002,
          "observed_growth_rate": 0.9999839996959924,
          "timepoint": "2012-04-01T00:00:00"
         },
         {
          "clade_membership": "956f201",
          "frequency": 0.9962560000000019,
          "frequency_final": 0.9999650000000002,
          "observed_growth_rate": 1.0037229386824253,
          "timepoint": "2012-04-01T00:00:00"
         },
         {
          "clade_membership": "c139e7c",
          "frequency": 0.3580500000000001,
          "frequency_final": 0.032312999999999995,
          "observed_growth_rate": 0.09024717218265602,
          "timepoint": "2012-04-01T00:00:00"
         },
         {
          "clade_membership": "f2ec31a",
          "frequency": 0.3644620000000001,
          "frequency_final": 0.9274340000000002,
          "observed_growth_rate": 2.544665836218865,
          "timepoint": "2012-04-01T00:00:00"
         },
         {
          "clade_membership": "38da78c",
          "frequency": 0.5266240000000006,
          "frequency_final": 0.9918400000000009,
          "observed_growth_rate": 1.883393085009418,
          "timepoint": "2012-10-01T00:00:00"
         },
         {
          "clade_membership": "3c0baec",
          "frequency": 0.9964690000000013,
          "frequency_final": 0.999989000000001,
          "observed_growth_rate": 1.0035324731627373,
          "timepoint": "2012-10-01T00:00:00"
         },
         {
          "clade_membership": "41bb3e2",
          "frequency": 0.9964690000000013,
          "frequency_final": 0.999989000000001,
          "observed_growth_rate": 1.0035324731627373,
          "timepoint": "2012-10-01T00:00:00"
         },
         {
          "clade_membership": "4786bbf",
          "frequency": 0.22203599999999998,
          "frequency_final": 0.002296,
          "observed_growth_rate": 0.010340665477670288,
          "timepoint": "2012-10-01T00:00:00"
         },
         {
          "clade_membership": "6c1138e",
          "frequency": 0.5232830000000007,
          "frequency_final": 0.002415,
          "observed_growth_rate": 0.00461509355358381,
          "timepoint": "2012-10-01T00:00:00"
         },
         {
          "clade_membership": "8aaed0b",
          "frequency": 0.5272510000000007,
          "frequency_final": 0.9918400000000009,
          "observed_growth_rate": 1.8811533785616332,
          "timepoint": "2012-10-01T00:00:00"
         },
         {
          "clade_membership": "91769ce",
          "frequency": 0.9964690000000013,
          "frequency_final": 0.999989000000001,
          "observed_growth_rate": 1.0035324731627373,
          "timepoint": "2012-10-01T00:00:00"
         },
         {
          "clade_membership": "956f201",
          "frequency": 0.9963760000000014,
          "frequency_final": 0.999989000000001,
          "observed_growth_rate": 1.0036261411354745,
          "timepoint": "2012-10-01T00:00:00"
         },
         {
          "clade_membership": "a08d8f5",
          "frequency": 0.22203599999999998,
          "frequency_final": 0.002296,
          "observed_growth_rate": 0.010340665477670288,
          "timepoint": "2012-10-01T00:00:00"
         },
         {
          "clade_membership": "a229f16",
          "frequency": 0.348294,
          "frequency_final": 0.9893800000000009,
          "observed_growth_rate": 2.8406461208059883,
          "timepoint": "2012-10-01T00:00:00"
         },
         {
          "clade_membership": "bfceca0",
          "frequency": 0.6672010000000007,
          "frequency_final": 0.997693000000001,
          "observed_growth_rate": 1.4953409842011627,
          "timepoint": "2012-10-01T00:00:00"
         },
         {
          "clade_membership": "c139e7c",
          "frequency": 0.6672010000000007,
          "frequency_final": 0.997693000000001,
          "observed_growth_rate": 1.4953409842011627,
          "timepoint": "2012-10-01T00:00:00"
         },
         {
          "clade_membership": "dbdf9a1",
          "frequency": 0.17060499999999998,
          "frequency_final": 0.002296,
          "observed_growth_rate": 0.013457987749479794,
          "timepoint": "2012-10-01T00:00:00"
         },
         {
          "clade_membership": "e56a121",
          "frequency": 0.22196199999999996,
          "frequency_final": 0.002296,
          "observed_growth_rate": 0.010344112956271795,
          "timepoint": "2012-10-01T00:00:00"
         },
         {
          "clade_membership": "f2ec31a",
          "frequency": 0.5232830000000007,
          "frequency_final": 0.9918260000000009,
          "observed_growth_rate": 1.8953912127854327,
          "timepoint": "2012-10-01T00:00:00"
         },
         {
          "clade_membership": "0165eeb",
          "frequency": 0.22759900000000008,
          "frequency_final": 0.21802399999999997,
          "observed_growth_rate": 0.9579303951247584,
          "timepoint": "2013-04-01T00:00:00"
         },
         {
          "clade_membership": "05daa66",
          "frequency": 0.971773,
          "frequency_final": 0.9999479999999997,
          "observed_growth_rate": 1.0289933966059972,
          "timepoint": "2013-04-01T00:00:00"
         },
         {
          "clade_membership": "13a450d",
          "frequency": 0.9999650000000002,
          "frequency_final": 0.9999809999999997,
          "observed_growth_rate": 1.0000160005600192,
          "timepoint": "2013-04-01T00:00:00"
         },
         {
          "clade_membership": "38da78c",
          "frequency": 0.9394600000000003,
          "frequency_final": 0.9999479999999997,
          "observed_growth_rate": 1.0643859238285818,
          "timepoint": "2013-04-01T00:00:00"
         },
         {
          "clade_membership": "41bb3e2",
          "frequency": 0.9999650000000002,
          "frequency_final": 0.9999809999999997,
          "observed_growth_rate": 1.0000160005600192,
          "timepoint": "2013-04-01T00:00:00"
         },
         {
          "clade_membership": "66a66dd",
          "frequency": 0.43592100000000006,
          "frequency_final": 0.7804679999999993,
          "observed_growth_rate": 1.790388625461951,
          "timepoint": "2013-04-01T00:00:00"
         },
         {
          "clade_membership": "6c1138e",
          "frequency": 0.9274340000000002,
          "frequency_final": 0.9999479999999997,
          "observed_growth_rate": 1.078187774008716,
          "timepoint": "2013-04-01T00:00:00"
         },
         {
          "clade_membership": "7fba9ff",
          "frequency": 0.971773,
          "frequency_final": 0.9999809999999997,
          "observed_growth_rate": 1.0290273551539297,
          "timepoint": "2013-04-01T00:00:00"
         },
         {
          "clade_membership": "88299f7",
          "frequency": 0.971773,
          "frequency_final": 0.9999809999999997,
          "observed_growth_rate": 1.0290273551539297,
          "timepoint": "2013-04-01T00:00:00"
         },
         {
          "clade_membership": "8aaed0b",
          "frequency": 0.9394600000000003,
          "frequency_final": 0.9999479999999997,
          "observed_growth_rate": 1.0643859238285818,
          "timepoint": "2013-04-01T00:00:00"
         },
         {
          "clade_membership": "8d4351f",
          "frequency": 0.43764400000000003,
          "frequency_final": 0.7804679999999993,
          "observed_growth_rate": 1.783339883558324,
          "timepoint": "2013-04-01T00:00:00"
         },
         {
          "clade_membership": "91769ce",
          "frequency": 0.9999650000000002,
          "frequency_final": 0.9999809999999997,
          "observed_growth_rate": 1.0000160005600192,
          "timepoint": "2013-04-01T00:00:00"
         },
         {
          "clade_membership": "956f201",
          "frequency": 0.9999650000000002,
          "frequency_final": 0.9999809999999997,
          "observed_growth_rate": 1.0000160005600192,
          "timepoint": "2013-04-01T00:00:00"
         },
         {
          "clade_membership": "a229f16",
          "frequency": 0.9168990000000001,
          "frequency_final": 0.9999479999999997,
          "observed_growth_rate": 1.0905759522041136,
          "timepoint": "2013-04-01T00:00:00"
         },
         {
          "clade_membership": "f2ec31a",
          "frequency": 0.9274340000000002,
          "frequency_final": 0.9999479999999997,
          "observed_growth_rate": 1.078187774008716,
          "timepoint": "2013-04-01T00:00:00"
         },
         {
          "clade_membership": "0165eeb",
          "frequency": 0.27180699999999997,
          "frequency_final": 0.24600600000000009,
          "observed_growth_rate": 0.9050760282111944,
          "timepoint": "2013-10-01T00:00:00"
         },
         {
          "clade_membership": "1a16e36",
          "frequency": 0.3927379999999998,
          "frequency_final": 0.2642310000000001,
          "observed_growth_rate": 0.6727920394767001,
          "timepoint": "2013-10-01T00:00:00"
         },
         {
          "clade_membership": "38da78c",
          "frequency": 0.9918400000000009,
          "frequency_final": 0.9999869999999981,
          "observed_growth_rate": 1.008214026455877,
          "timepoint": "2013-10-01T00:00:00"
         },
         {
          "clade_membership": "41bb3e2",
          "frequency": 0.999989000000001,
          "frequency_final": 0.9999869999999981,
          "observed_growth_rate": 0.9999979999779968,
          "timepoint": "2013-10-01T00:00:00"
         },
         {
          "clade_membership": "66a66dd",
          "frequency": 0.6935910000000002,
          "frequency_final": 0.49226900000000023,
          "observed_growth_rate": 0.7097396015807589,
          "timepoint": "2013-10-01T00:00:00"
         },
         {
          "clade_membership": "7fba9ff",
          "frequency": 0.997693000000001,
          "frequency_final": 0.9999869999999981,
          "observed_growth_rate": 1.002299304495468,
          "timepoint": "2013-10-01T00:00:00"
         },
         {
          "clade_membership": "8aaed0b",
          "frequency": 0.9918400000000009,
          "frequency_final": 0.9999869999999981,
          "observed_growth_rate": 1.008214026455877,
          "timepoint": "2013-10-01T00:00:00"
         },
         {
          "clade_membership": "956f201",
          "frequency": 0.999989000000001,
          "frequency_final": 0.9999869999999981,
          "observed_growth_rate": 0.9999979999779968,
          "timepoint": "2013-10-01T00:00:00"
         },
         {
          "clade_membership": "a229f16",
          "frequency": 0.9893800000000009,
          "frequency_final": 0.9999419999999981,
          "observed_growth_rate": 1.0106753724554742,
          "timepoint": "2013-10-01T00:00:00"
         },
         {
          "clade_membership": "f2ec31a",
          "frequency": 0.9918260000000009,
          "frequency_final": 0.9999419999999981,
          "observed_growth_rate": 1.0081828869176621,
          "timepoint": "2013-10-01T00:00:00"
         },
         {
          "clade_membership": "0165eeb",
          "frequency": 0.21802399999999997,
          "frequency_final": 0.6901999999999989,
          "observed_growth_rate": 3.1657065277217145,
          "timepoint": "2014-04-01T00:00:00"
         },
         {
          "clade_membership": "05daa66",
          "frequency": 0.9999479999999997,
          "frequency_final": 0.9999379999999989,
          "observed_growth_rate": 0.9999899994799721,
          "timepoint": "2014-04-01T00:00:00"
         },
         {
          "clade_membership": "1a16e36",
          "frequency": 0.4768329999999999,
          "frequency_final": 0.13579499999999994,
          "observed_growth_rate": 0.28478523927664395,
          "timepoint": "2014-04-01T00:00:00"
         },
         {
          "clade_membership": "1ba36d2",
          "frequency": 0.16491999999999996,
          "frequency_final": 0.16134699999999996,
          "observed_growth_rate": 0.9783349502789231,
          "timepoint": "2014-04-01T00:00:00"
         },
         {
          "clade_membership": "1edac85",
          "frequency": 0.16491999999999996,
          "frequency_final": 0.16134699999999996,
          "observed_growth_rate": 0.9783349502789231,
          "timepoint": "2014-04-01T00:00:00"
         },
         {
          "clade_membership": "38da78c",
          "frequency": 0.9999479999999997,
          "frequency_final": 0.9999379999999989,
          "observed_growth_rate": 0.9999899994799721,
          "timepoint": "2014-04-01T00:00:00"
         },
         {
          "clade_membership": "41bb3e2",
          "frequency": 0.9999809999999997,
          "frequency_final": 0.9999379999999989,
          "observed_growth_rate": 0.9999569991829836,
          "timepoint": "2014-04-01T00:00:00"
         },
         {
          "clade_membership": "66a66dd",
          "frequency": 0.7804679999999993,
          "frequency_final": 0.3097379999999997,
          "observed_growth_rate": 0.3968618828702778,
          "timepoint": "2014-04-01T00:00:00"
         },
         {
          "clade_membership": "6c1138e",
          "frequency": 0.9999479999999997,
          "frequency_final": 0.9999379999999989,
          "observed_growth_rate": 0.9999899994799721,
          "timepoint": "2014-04-01T00:00:00"
         },
         {
          "clade_membership": "7a8b37b",
          "frequency": 0.2633269999999999,
          "frequency_final": 0.13479499999999994,
          "observed_growth_rate": 0.5118920581634241,
          "timepoint": "2014-04-01T00:00:00"
         },
         {
          "clade_membership": "80897ab",
          "frequency": 0.15526099999999993,
          "frequency_final": 0.16134699999999996,
          "observed_growth_rate": 1.0391985108945585,
          "timepoint": "2014-04-01T00:00:00"
         },
         {
          "clade_membership": "8d4351f",
          "frequency": 0.7804679999999993,
          "frequency_final": 0.3097379999999997,
          "observed_growth_rate": 0.3968618828702778,
          "timepoint": "2014-04-01T00:00:00"
         },
         {
          "clade_membership": "956f201",
          "frequency": 0.9999809999999997,
          "frequency_final": 0.9999379999999989,
          "observed_growth_rate": 0.9999569991829836,
          "timepoint": "2014-04-01T00:00:00"
         },
         {
          "clade_membership": "a229f16",
          "frequency": 0.9999479999999997,
          "frequency_final": 0.9999379999999989,
          "observed_growth_rate": 0.9999899994799721,
          "timepoint": "2014-04-01T00:00:00"
         },
         {
          "clade_membership": "c9346ca",
          "frequency": 0.16491999999999996,
          "frequency_final": 0.009550999999999999,
          "observed_growth_rate": 0.05791292747999031,
          "timepoint": "2014-04-01T00:00:00"
         },
         {
          "clade_membership": "f2ec31a",
          "frequency": 0.9999479999999997,
          "frequency_final": 0.9999379999999989,
          "observed_growth_rate": 0.9999899994799721,
          "timepoint": "2014-04-01T00:00:00"
         },
         {
          "clade_membership": "0165eeb",
          "frequency": 0.24600600000000009,
          "frequency_final": 0.8856419999999982,
          "observed_growth_rate": 3.600082924806703,
          "timepoint": "2014-10-01T00:00:00"
         },
         {
          "clade_membership": "05daa66",
          "frequency": 0.9999869999999981,
          "frequency_final": 0.9999969999999978,
          "observed_growth_rate": 1.0000100001300014,
          "timepoint": "2014-10-01T00:00:00"
         },
         {
          "clade_membership": "07acbbd",
          "frequency": 0.4005790000000002,
          "frequency_final": 0.06497700000000001,
          "observed_growth_rate": 0.16220770434795628,
          "timepoint": "2014-10-01T00:00:00"
         },
         {
          "clade_membership": "1a16e36",
          "frequency": 0.2642310000000001,
          "frequency_final": 0.04862400000000002,
          "observed_growth_rate": 0.18402079998183407,
          "timepoint": "2014-10-01T00:00:00"
         },
         {
          "clade_membership": "1edac85",
          "frequency": 0.4005790000000002,
          "frequency_final": 0.06497700000000001,
          "observed_growth_rate": 0.16220770434795628,
          "timepoint": "2014-10-01T00:00:00"
         },
         {
          "clade_membership": "41bb3e2",
          "frequency": 0.9999869999999981,
          "frequency_final": 0.9999969999999978,
          "observed_growth_rate": 1.0000100001300014,
          "timepoint": "2014-10-01T00:00:00"
         },
         {
          "clade_membership": "66a66dd",
          "frequency": 0.49226900000000023,
          "frequency_final": 0.11435500000000001,
          "observed_growth_rate": 0.23230185122361952,
          "timepoint": "2014-10-01T00:00:00"
         },
         {
          "clade_membership": "6c1138e",
          "frequency": 0.9999869999999981,
          "frequency_final": 0.9999969999999978,
          "observed_growth_rate": 1.0000100001300014,
          "timepoint": "2014-10-01T00:00:00"
         },
         {
          "clade_membership": "7a8b37b",
          "frequency": 0.2263950000000001,
          "frequency_final": 0.00043000000000000004,
          "observed_growth_rate": 0.0018993352326685654,
          "timepoint": "2014-10-01T00:00:00"
         },
         {
          "clade_membership": "80897ab",
          "frequency": 0.3933090000000001,
          "frequency_final": 0.04159,
          "observed_growth_rate": 0.1057438299149015,
          "timepoint": "2014-10-01T00:00:00"
         },
         {
          "clade_membership": "80f959a",
          "frequency": 0.2420860000000001,
          "frequency_final": 0.8856419999999982,
          "observed_growth_rate": 3.658377601348272,
          "timepoint": "2014-10-01T00:00:00"
         },
         {
          "clade_membership": "8aaed0b",
          "frequency": 0.9999869999999981,
          "frequency_final": 0.9999969999999978,
          "observed_growth_rate": 1.0000100001300014,
          "timepoint": "2014-10-01T00:00:00"
         },
         {
          "clade_membership": "934e1c1",
          "frequency": 0.2420860000000001,
          "frequency_final": 0.8856419999999982,
          "observed_growth_rate": 3.658377601348272,
          "timepoint": "2014-10-01T00:00:00"
         },
         {
          "clade_membership": "956f201",
          "frequency": 0.9999869999999981,
          "frequency_final": 0.9999969999999978,
          "observed_growth_rate": 1.0000100001300014,
          "timepoint": "2014-10-01T00:00:00"
         },
         {
          "clade_membership": "a229f16",
          "frequency": 0.9999419999999981,
          "frequency_final": 0.9999969999999978,
          "observed_growth_rate": 1.0000550031901847,
          "timepoint": "2014-10-01T00:00:00"
         },
         {
          "clade_membership": "bc4cbe3",
          "frequency": 0.9999869999999981,
          "frequency_final": 0.9999969999999978,
          "observed_growth_rate": 1.0000100001300014,
          "timepoint": "2014-10-01T00:00:00"
         },
         {
          "clade_membership": "c9346ca",
          "frequency": 0.4005790000000002,
          "frequency_final": 0.06497700000000001,
          "observed_growth_rate": 0.16220770434795628,
          "timepoint": "2014-10-01T00:00:00"
         },
         {
          "clade_membership": "ea08d9e",
          "frequency": 0.2306920000000001,
          "frequency_final": 0.8856419999999982,
          "observed_growth_rate": 3.8390668076916312,
          "timepoint": "2014-10-01T00:00:00"
         },
         {
          "clade_membership": "f14fabc",
          "frequency": 0.2422120000000001,
          "frequency_final": 0.8856419999999982,
          "observed_growth_rate": 3.6564744934189792,
          "timepoint": "2014-10-01T00:00:00"
         },
         {
          "clade_membership": "f2ec31a",
          "frequency": 0.9999419999999981,
          "frequency_final": 0.9999969999999978,
          "observed_growth_rate": 1.0000550031901847,
          "timepoint": "2014-10-01T00:00:00"
         }
        ]
       },
       "encoding": {
        "x": {
         "bin": true,
         "field": "observed_growth_rate",
         "title": "Observed growth rate",
         "type": "quantitative"
        },
        "y": {
         "aggregate": "count",
         "type": "quantitative"
        }
       },
       "mark": "rect"
      },
      "image/png": "[encoded data removed]",
      "text/plain": [
       "<VegaLite 3 object>\n",
       "\n",
       "If you see this message, it means the renderer has not been properly enabled\n",
       "for the frontend that you are using. For more information, see\n",
       "https://altair-viz.github.io/user_guide/troubleshooting.html\n"
      ]
     },
     "execution_count": 442,
     "metadata": {},
     "output_type": "execute_result"
    }
   ],
   "source": [
    "alt.Chart(large_clades).mark_rect().encode(\n",
    "    x=alt.X(\"observed_growth_rate:Q\", bin=True, title=\"Observed growth rate\"),\n",
    "    y=\"count()\"\n",
    ")"
   ]
  },
  {
   "cell_type": "markdown",
   "metadata": {},
   "source": [
    "## Find estimated future frequencies of large clades\n",
    "\n",
    "Use the true fitness metric for forecasts."
   ]
  },
  {
   "cell_type": "code",
   "execution_count": 443,
   "metadata": {},
   "outputs": [],
   "source": [
    "clade_tip_estimated_frequencies = tips_to_clades.merge(\n",
    "    forecasts,\n",
    "    on=[\"timepoint\", \"strain\"]\n",
    ")"
   ]
  },
  {
   "cell_type": "code",
   "execution_count": 444,
   "metadata": {},
   "outputs": [
    {
     "data": {
      "text/html": [
       "<div>\n",
       "<style scoped>\n",
       "    .dataframe tbody tr th:only-of-type {\n",
       "        vertical-align: middle;\n",
       "    }\n",
       "\n",
       "    .dataframe tbody tr th {\n",
       "        vertical-align: top;\n",
       "    }\n",
       "\n",
       "    .dataframe thead th {\n",
       "        text-align: right;\n",
       "    }\n",
       "</style>\n",
       "<table border=\"1\" class=\"dataframe\">\n",
       "  <thead>\n",
       "    <tr style=\"text-align: right;\">\n",
       "      <th></th>\n",
       "      <th>strain</th>\n",
       "      <th>clade_membership</th>\n",
       "      <th>depth</th>\n",
       "      <th>timepoint</th>\n",
       "      <th>frequency</th>\n",
       "      <th>projected_frequency</th>\n",
       "    </tr>\n",
       "  </thead>\n",
       "  <tbody>\n",
       "    <tr>\n",
       "      <th>0</th>\n",
       "      <td>A/India/D058687/2005</td>\n",
       "      <td>bf71681</td>\n",
       "      <td>0</td>\n",
       "      <td>2005-10-01</td>\n",
       "      <td>0.00001</td>\n",
       "      <td>2.014381e-08</td>\n",
       "    </tr>\n",
       "    <tr>\n",
       "      <th>1</th>\n",
       "      <td>A/India/D058687/2005</td>\n",
       "      <td>fbbd597</td>\n",
       "      <td>2</td>\n",
       "      <td>2005-10-01</td>\n",
       "      <td>0.00001</td>\n",
       "      <td>2.014381e-08</td>\n",
       "    </tr>\n",
       "    <tr>\n",
       "      <th>2</th>\n",
       "      <td>A/India/D058687/2005</td>\n",
       "      <td>054ca27</td>\n",
       "      <td>14</td>\n",
       "      <td>2005-10-01</td>\n",
       "      <td>0.00001</td>\n",
       "      <td>2.014381e-08</td>\n",
       "    </tr>\n",
       "    <tr>\n",
       "      <th>3</th>\n",
       "      <td>A/India/D058687/2005</td>\n",
       "      <td>5bed3da</td>\n",
       "      <td>15</td>\n",
       "      <td>2005-10-01</td>\n",
       "      <td>0.00001</td>\n",
       "      <td>2.014381e-08</td>\n",
       "    </tr>\n",
       "    <tr>\n",
       "      <th>4</th>\n",
       "      <td>A/India/D058687/2005</td>\n",
       "      <td>05a6dc1</td>\n",
       "      <td>17</td>\n",
       "      <td>2005-10-01</td>\n",
       "      <td>0.00001</td>\n",
       "      <td>2.014381e-08</td>\n",
       "    </tr>\n",
       "  </tbody>\n",
       "</table>\n",
       "</div>"
      ],
      "text/plain": [
       "                 strain clade_membership  depth  timepoint  frequency  \\\n",
       "0  A/India/D058687/2005          bf71681      0 2005-10-01    0.00001   \n",
       "1  A/India/D058687/2005          fbbd597      2 2005-10-01    0.00001   \n",
       "2  A/India/D058687/2005          054ca27     14 2005-10-01    0.00001   \n",
       "3  A/India/D058687/2005          5bed3da     15 2005-10-01    0.00001   \n",
       "4  A/India/D058687/2005          05a6dc1     17 2005-10-01    0.00001   \n",
       "\n",
       "   projected_frequency  \n",
       "0         2.014381e-08  \n",
       "1         2.014381e-08  \n",
       "2         2.014381e-08  \n",
       "3         2.014381e-08  \n",
       "4         2.014381e-08  "
      ]
     },
     "execution_count": 444,
     "metadata": {},
     "output_type": "execute_result"
    }
   ],
   "source": [
    "clade_tip_estimated_frequencies.head()"
   ]
  },
  {
   "cell_type": "code",
   "execution_count": 445,
   "metadata": {},
   "outputs": [],
   "source": [
    "estimated_clade_frequencies = clade_tip_estimated_frequencies.groupby(\n",
    "    [\"timepoint\", \"clade_membership\"]\n",
    ").aggregate({\"projected_frequency\": \"sum\"}).reset_index()"
   ]
  },
  {
   "cell_type": "code",
   "execution_count": 446,
   "metadata": {},
   "outputs": [
    {
     "data": {
      "text/html": [
       "<div>\n",
       "<style scoped>\n",
       "    .dataframe tbody tr th:only-of-type {\n",
       "        vertical-align: middle;\n",
       "    }\n",
       "\n",
       "    .dataframe tbody tr th {\n",
       "        vertical-align: top;\n",
       "    }\n",
       "\n",
       "    .dataframe thead th {\n",
       "        text-align: right;\n",
       "    }\n",
       "</style>\n",
       "<table border=\"1\" class=\"dataframe\">\n",
       "  <thead>\n",
       "    <tr style=\"text-align: right;\">\n",
       "      <th></th>\n",
       "      <th>timepoint</th>\n",
       "      <th>clade_membership</th>\n",
       "      <th>projected_frequency</th>\n",
       "    </tr>\n",
       "  </thead>\n",
       "  <tbody>\n",
       "    <tr>\n",
       "      <th>0</th>\n",
       "      <td>2005-10-01</td>\n",
       "      <td>0252ba2</td>\n",
       "      <td>0.000490</td>\n",
       "    </tr>\n",
       "    <tr>\n",
       "      <th>1</th>\n",
       "      <td>2005-10-01</td>\n",
       "      <td>02b4cfc</td>\n",
       "      <td>0.000052</td>\n",
       "    </tr>\n",
       "    <tr>\n",
       "      <th>2</th>\n",
       "      <td>2005-10-01</td>\n",
       "      <td>048f8ca</td>\n",
       "      <td>0.000490</td>\n",
       "    </tr>\n",
       "    <tr>\n",
       "      <th>3</th>\n",
       "      <td>2005-10-01</td>\n",
       "      <td>054ca27</td>\n",
       "      <td>0.000490</td>\n",
       "    </tr>\n",
       "    <tr>\n",
       "      <th>4</th>\n",
       "      <td>2005-10-01</td>\n",
       "      <td>058a85c</td>\n",
       "      <td>0.000138</td>\n",
       "    </tr>\n",
       "  </tbody>\n",
       "</table>\n",
       "</div>"
      ],
      "text/plain": [
       "   timepoint clade_membership  projected_frequency\n",
       "0 2005-10-01          0252ba2             0.000490\n",
       "1 2005-10-01          02b4cfc             0.000052\n",
       "2 2005-10-01          048f8ca             0.000490\n",
       "3 2005-10-01          054ca27             0.000490\n",
       "4 2005-10-01          058a85c             0.000138"
      ]
     },
     "execution_count": 446,
     "metadata": {},
     "output_type": "execute_result"
    }
   ],
   "source": [
    "estimated_clade_frequencies.head()"
   ]
  },
  {
   "cell_type": "code",
   "execution_count": 447,
   "metadata": {},
   "outputs": [],
   "source": [
    "complete_clade_frequencies = large_clades.merge(\n",
    "    estimated_clade_frequencies,\n",
    "    on=[\"timepoint\", \"clade_membership\"],\n",
    "    suffixes=[\"\", \"_other\"]\n",
    ")"
   ]
  },
  {
   "cell_type": "code",
   "execution_count": 448,
   "metadata": {},
   "outputs": [],
   "source": [
    "complete_clade_frequencies[\"estimated_growth_rate\"] = (\n",
    "    complete_clade_frequencies[\"projected_frequency\"] / complete_clade_frequencies[\"frequency\"]\n",
    ")"
   ]
  },
  {
   "cell_type": "code",
   "execution_count": 449,
   "metadata": {},
   "outputs": [],
   "source": [
    "complete_clade_frequencies[\"year\"] = complete_clade_frequencies[\"timepoint\"].dt.year"
   ]
  },
  {
   "cell_type": "code",
   "execution_count": 450,
   "metadata": {},
   "outputs": [
    {
     "data": {
      "text/html": [
       "<div>\n",
       "<style scoped>\n",
       "    .dataframe tbody tr th:only-of-type {\n",
       "        vertical-align: middle;\n",
       "    }\n",
       "\n",
       "    .dataframe tbody tr th {\n",
       "        vertical-align: top;\n",
       "    }\n",
       "\n",
       "    .dataframe thead th {\n",
       "        text-align: right;\n",
       "    }\n",
       "</style>\n",
       "<table border=\"1\" class=\"dataframe\">\n",
       "  <thead>\n",
       "    <tr style=\"text-align: right;\">\n",
       "      <th></th>\n",
       "      <th>timepoint</th>\n",
       "      <th>clade_membership</th>\n",
       "      <th>frequency</th>\n",
       "      <th>frequency_final</th>\n",
       "      <th>observed_growth_rate</th>\n",
       "      <th>projected_frequency</th>\n",
       "      <th>estimated_growth_rate</th>\n",
       "      <th>year</th>\n",
       "    </tr>\n",
       "  </thead>\n",
       "  <tbody>\n",
       "    <tr>\n",
       "      <th>0</th>\n",
       "      <td>2005-10-01</td>\n",
       "      <td>26f855a</td>\n",
       "      <td>0.572141</td>\n",
       "      <td>0.946808</td>\n",
       "      <td>1.654851</td>\n",
       "      <td>0.834142</td>\n",
       "      <td>1.457931</td>\n",
       "      <td>2005</td>\n",
       "    </tr>\n",
       "    <tr>\n",
       "      <th>1</th>\n",
       "      <td>2005-10-01</td>\n",
       "      <td>2806112</td>\n",
       "      <td>0.231124</td>\n",
       "      <td>0.001333</td>\n",
       "      <td>0.005767</td>\n",
       "      <td>0.144996</td>\n",
       "      <td>0.627350</td>\n",
       "      <td>2005</td>\n",
       "    </tr>\n",
       "    <tr>\n",
       "      <th>2</th>\n",
       "      <td>2005-10-01</td>\n",
       "      <td>412c00a</td>\n",
       "      <td>0.978610</td>\n",
       "      <td>1.000002</td>\n",
       "      <td>1.021860</td>\n",
       "      <td>0.999504</td>\n",
       "      <td>1.021350</td>\n",
       "      <td>2005</td>\n",
       "    </tr>\n",
       "    <tr>\n",
       "      <th>3</th>\n",
       "      <td>2005-10-01</td>\n",
       "      <td>44989e1</td>\n",
       "      <td>0.966999</td>\n",
       "      <td>1.000002</td>\n",
       "      <td>1.034129</td>\n",
       "      <td>0.997232</td>\n",
       "      <td>1.031264</td>\n",
       "      <td>2005</td>\n",
       "    </tr>\n",
       "    <tr>\n",
       "      <th>4</th>\n",
       "      <td>2005-10-01</td>\n",
       "      <td>4e35443</td>\n",
       "      <td>0.978764</td>\n",
       "      <td>1.000002</td>\n",
       "      <td>1.021699</td>\n",
       "      <td>0.999510</td>\n",
       "      <td>1.021196</td>\n",
       "      <td>2005</td>\n",
       "    </tr>\n",
       "  </tbody>\n",
       "</table>\n",
       "</div>"
      ],
      "text/plain": [
       "   timepoint clade_membership  frequency  frequency_final  \\\n",
       "0 2005-10-01          26f855a   0.572141         0.946808   \n",
       "1 2005-10-01          2806112   0.231124         0.001333   \n",
       "2 2005-10-01          412c00a   0.978610         1.000002   \n",
       "3 2005-10-01          44989e1   0.966999         1.000002   \n",
       "4 2005-10-01          4e35443   0.978764         1.000002   \n",
       "\n",
       "   observed_growth_rate  projected_frequency  estimated_growth_rate  year  \n",
       "0              1.654851             0.834142               1.457931  2005  \n",
       "1              0.005767             0.144996               0.627350  2005  \n",
       "2              1.021860             0.999504               1.021350  2005  \n",
       "3              1.034129             0.997232               1.031264  2005  \n",
       "4              1.021699             0.999510               1.021196  2005  "
      ]
     },
     "execution_count": 450,
     "metadata": {},
     "output_type": "execute_result"
    }
   ],
   "source": [
    "complete_clade_frequencies.head()"
   ]
  },
  {
   "cell_type": "code",
   "execution_count": 451,
   "metadata": {},
   "outputs": [
    {
     "data": {
      "text/plain": [
       "(256, 8)"
      ]
     },
     "execution_count": 451,
     "metadata": {},
     "output_type": "execute_result"
    }
   ],
   "source": [
    "complete_clade_frequencies.shape"
   ]
  },
  {
   "cell_type": "code",
   "execution_count": 452,
   "metadata": {},
   "outputs": [],
   "source": [
    "r, p = pearsonr(\n",
    "    complete_clade_frequencies[\"observed_growth_rate\"],\n",
    "    complete_clade_frequencies[\"estimated_growth_rate\"]\n",
    ")"
   ]
  },
  {
   "cell_type": "code",
   "execution_count": 453,
   "metadata": {},
   "outputs": [
    {
     "data": {
      "text/plain": [
       "0.38968967545539396"
      ]
     },
     "execution_count": 453,
     "metadata": {},
     "output_type": "execute_result"
    }
   ],
   "source": [
    "r"
   ]
  },
  {
   "cell_type": "code",
   "execution_count": 454,
   "metadata": {},
   "outputs": [
    {
     "data": {
      "text/plain": [
       "1.0348377626546113e-10"
      ]
     },
     "execution_count": 454,
     "metadata": {},
     "output_type": "execute_result"
    }
   ],
   "source": [
    "p"
   ]
  },
  {
   "cell_type": "code",
   "execution_count": 455,
   "metadata": {},
   "outputs": [],
   "source": [
    "mcc, confusion_matrix = get_matthews_correlation_coefficient_for_data_frame(complete_clade_frequencies, True)"
   ]
  },
  {
   "cell_type": "code",
   "execution_count": 456,
   "metadata": {},
   "outputs": [
    {
     "data": {
      "text/plain": [
       "0.512316851431407"
      ]
     },
     "execution_count": 456,
     "metadata": {},
     "output_type": "execute_result"
    }
   ],
   "source": [
    "mcc"
   ]
  },
  {
   "cell_type": "code",
   "execution_count": 481,
   "metadata": {},
   "outputs": [
    {
     "data": {
      "text/plain": [
       "{'tp': 127, 'tn': 59, 'fp': 66, 'fn': 4}"
      ]
     },
     "execution_count": 481,
     "metadata": {},
     "output_type": "execute_result"
    }
   ],
   "source": [
    "confusion_matrix"
   ]
  },
  {
   "cell_type": "code",
   "execution_count": 482,
   "metadata": {},
   "outputs": [
    {
     "data": {
      "text/plain": [
       "256"
      ]
     },
     "execution_count": 482,
     "metadata": {},
     "output_type": "execute_result"
    }
   ],
   "source": [
    "sum(confusion_matrix.values())"
   ]
  },
  {
   "cell_type": "code",
   "execution_count": 457,
   "metadata": {},
   "outputs": [
    {
     "data": {
      "text/plain": [
       "0.6580310880829016"
      ]
     },
     "execution_count": 457,
     "metadata": {},
     "output_type": "execute_result"
    }
   ],
   "source": [
    "growth_accuracy = confusion_matrix[\"tp\"] / float(confusion_matrix[\"tp\"] + confusion_matrix[\"fp\"])\n",
    "growth_accuracy"
   ]
  },
  {
   "cell_type": "code",
   "execution_count": 458,
   "metadata": {},
   "outputs": [
    {
     "data": {
      "text/plain": [
       "0.9365079365079365"
      ]
     },
     "execution_count": 458,
     "metadata": {},
     "output_type": "execute_result"
    }
   ],
   "source": [
    "decline_accuracy = confusion_matrix[\"tn\"] / float(confusion_matrix[\"tn\"] + confusion_matrix[\"fn\"])\n",
    "decline_accuracy"
   ]
  },
  {
   "cell_type": "code",
   "execution_count": 459,
   "metadata": {},
   "outputs": [],
   "source": [
    "min_growth_rate = 0\n",
    "max_growth_rate = complete_clade_frequencies.loc[:, [\"observed_growth_rate\", \"estimated_growth_rate\"]].max().max() + 0.2"
   ]
  },
  {
   "cell_type": "code",
   "execution_count": 460,
   "metadata": {},
   "outputs": [],
   "source": [
    "pseudofrequency = 0.001"
   ]
  },
  {
   "cell_type": "code",
   "execution_count": 461,
   "metadata": {},
   "outputs": [],
   "source": [
    "complete_clade_frequencies[\"log_observed_growth_rate\"] = (\n",
    "    np.log10((complete_clade_frequencies[\"frequency_final\"] + pseudofrequency) / (complete_clade_frequencies[\"frequency\"] + pseudofrequency))\n",
    ")\n",
    "\n",
    "complete_clade_frequencies[\"log_estimated_growth_rate\"] = (\n",
    "    np.log10((complete_clade_frequencies[\"projected_frequency\"] + pseudofrequency) / (complete_clade_frequencies[\"frequency\"] + pseudofrequency))\n",
    ")"
   ]
  },
  {
   "cell_type": "code",
   "execution_count": 462,
   "metadata": {},
   "outputs": [
    {
     "data": {
      "text/plain": [
       "[<matplotlib.lines.Line2D at 0x126c9d358>]"
      ]
     },
     "execution_count": 462,
     "metadata": {},
     "output_type": "execute_result"
    },
    {
     "data": {
      "image/png": "[encoded data removed]",
      "text/plain": [
       "<Figure size 1200x800 with 1 Axes>"
      ]
     },
     "metadata": {},
     "output_type": "display_data"
    }
   ],
   "source": [
    "plt.plot(complete_clade_frequencies[\"log_observed_growth_rate\"], complete_clade_frequencies[\"log_estimated_growth_rate\"], \"o\")"
   ]
  },
  {
   "cell_type": "code",
   "execution_count": 463,
   "metadata": {},
   "outputs": [],
   "source": [
    "#complete_clade_frequencies[\"log_observed_growth_rate\"] = np.log(complete_clade_frequencies[\"observed_growth_rate\"])\n",
    "#complete_clade_frequencies[\"log_estimated_growth_rate\"] = np.log(complete_clade_frequencies[\"estimated_growth_rate\"])"
   ]
  },
  {
   "cell_type": "code",
   "execution_count": 464,
   "metadata": {},
   "outputs": [
    {
     "data": {
      "application/vnd.vegalite.v3+json": {
       "$schema": "https://vega.github.io/schema/vega-lite/v3.3.0.json",
       "config": {
        "mark": {
         "tooltip": null
        },
        "view": {
         "height": 300,
         "width": 400
        }
       },
       "data": {
        "name": "data-771ec45bd78400468441731ef1cdb432"
       },
       "datasets": {
        "data-771ec45bd78400468441731ef1cdb432": [
         {
          "clade_membership": "26f855a",
          "estimated_growth_rate": 1.4579311415313962,
          "frequency": 0.5721410000000003,
          "frequency_final": 0.9468080000000001,
          "log_estimated_growth_rate": 0.16349894242829965,
          "log_observed_growth_rate": 0.21845889295712057,
          "observed_growth_rate": 1.6548508147467138,
          "projected_frequency": 0.8341421812469151,
          "timepoint": "2005-10-01T00:00:00",
          "year": 2005
         },
         {
          "clade_membership": "2806112",
          "estimated_growth_rate": 0.6273496710150653,
          "frequency": 0.231124,
          "frequency_final": 0.0013329999999999998,
          "log_estimated_growth_rate": -0.2013803815655093,
          "log_observed_growth_rate": -1.997805306999136,
          "observed_growth_rate": 0.005767466814350738,
          "projected_frequency": 0.14499556536368596,
          "timepoint": "2005-10-01T00:00:00",
          "year": 2005
         },
         {
          "clade_membership": "412c00a",
          "estimated_growth_rate": 1.0213504737105388,
          "frequency": 0.9786100000000005,
          "frequency_final": 1.000002,
          "log_estimated_growth_rate": 0.00916552703825878,
          "log_observed_growth_rate": 0.00938173538375475,
          "observed_growth_rate": 1.0218595763378664,
          "projected_frequency": 0.9995037870778708,
          "timepoint": "2005-10-01T00:00:00",
          "year": 2005
         },
         {
          "clade_membership": "44989e1",
          "estimated_growth_rate": 1.0312644451230681,
          "frequency": 0.9669990000000007,
          "frequency_final": 1.000002,
          "log_estimated_growth_rate": 0.013356443032819923,
          "log_observed_growth_rate": 0.014560036542856324,
          "observed_growth_rate": 1.0341293010644264,
          "projected_frequency": 0.9972316871695626,
          "timepoint": "2005-10-01T00:00:00",
          "year": 2005
         },
         {
          "clade_membership": "4e35443",
          "estimated_growth_rate": 1.021196030451705,
          "frequency": 0.9787640000000005,
          "frequency_final": 1.000002,
          "log_estimated_growth_rate": 0.009099917434985123,
          "log_observed_growth_rate": 0.009313467303897828,
          "observed_growth_rate": 1.021698795623868,
          "projected_frequency": 0.999509911549033,
          "timepoint": "2005-10-01T00:00:00",
          "year": 2005
         },
         {
          "clade_membership": "5ce45ae",
          "estimated_growth_rate": 0.5719121875658115,
          "frequency": 0.260842,
          "frequency_final": 0.02513,
          "log_estimated_growth_rate": -0.24143091448601256,
          "log_observed_growth_rate": -1.000899899810808,
          "observed_growth_rate": 0.0963418467884773,
          "projected_frequency": 0.14917871882904143,
          "timepoint": "2005-10-01T00:00:00",
          "year": 2005
         },
         {
          "clade_membership": "6a436ac",
          "estimated_growth_rate": 0.7059218272982912,
          "frequency": 0.20135600000000003,
          "frequency_final": 0.00047599999999999997,
          "log_estimated_growth_rate": -0.15035023250523122,
          "log_observed_growth_rate": -2.1370297285732023,
          "observed_growth_rate": 0.0023639722680228047,
          "projected_frequency": 0.14214159545747476,
          "timepoint": "2005-10-01T00:00:00",
          "year": 2005
         },
         {
          "clade_membership": "7aa732d",
          "estimated_growth_rate": 1.094548671694388,
          "frequency": 0.9067170000000011,
          "frequency_final": 1.000002,
          "log_estimated_growth_rate": 0.039193747364346,
          "log_observed_growth_rate": 0.04248447607900407,
          "observed_growth_rate": 1.1028821561744169,
          "projected_frequency": 0.9924458879527215,
          "timepoint": "2005-10-01T00:00:00",
          "year": 2005
         },
         {
          "clade_membership": "9a3ff5d",
          "estimated_growth_rate": 1.021196030451705,
          "frequency": 0.9787640000000005,
          "frequency_final": 1.000002,
          "log_estimated_growth_rate": 0.009099917434985123,
          "log_observed_growth_rate": 0.009313467303897828,
          "observed_growth_rate": 1.021698795623868,
          "projected_frequency": 0.999509911549033,
          "timepoint": "2005-10-01T00:00:00",
          "year": 2005
         },
         {
          "clade_membership": "9b04f13",
          "estimated_growth_rate": 1.4972834976216436,
          "frequency": 0.5563680000000002,
          "frequency_final": 0.946706,
          "log_estimated_growth_rate": 0.17504517398143773,
          "log_observed_growth_rate": 0.23053159910987342,
          "observed_growth_rate": 1.7015824058896265,
          "projected_frequency": 0.8330406250047588,
          "timepoint": "2005-10-01T00:00:00",
          "year": 2005
         },
         {
          "clade_membership": "a5bcb4f",
          "estimated_growth_rate": 1.021196030451705,
          "frequency": 0.9787640000000005,
          "frequency_final": 1.000002,
          "log_estimated_growth_rate": 0.009099917434985123,
          "log_observed_growth_rate": 0.009313467303897828,
          "observed_growth_rate": 1.021698795623868,
          "projected_frequency": 0.999509911549033,
          "timepoint": "2005-10-01T00:00:00",
          "year": 2005
         },
         {
          "clade_membership": "aab80f6",
          "estimated_growth_rate": 1.021196030451705,
          "frequency": 0.9787640000000005,
          "frequency_final": 1.000002,
          "log_estimated_growth_rate": 0.009099917434985123,
          "log_observed_growth_rate": 0.009313467303897828,
          "observed_growth_rate": 1.021698795623868,
          "projected_frequency": 0.999509911549033,
          "timepoint": "2005-10-01T00:00:00",
          "year": 2005
         },
         {
          "clade_membership": "ddbae0a",
          "estimated_growth_rate": 1.0213504737105388,
          "frequency": 0.9786100000000005,
          "frequency_final": 1.000002,
          "log_estimated_growth_rate": 0.00916552703825878,
          "log_observed_growth_rate": 0.00938173538375475,
          "observed_growth_rate": 1.0218595763378664,
          "projected_frequency": 0.9995037870778708,
          "timepoint": "2005-10-01T00:00:00",
          "year": 2005
         },
         {
          "clade_membership": "26f855a",
          "estimated_growth_rate": 1.252872129098943,
          "frequency": 0.7836009999999992,
          "frequency_final": 0.9908409999999993,
          "log_estimated_growth_rate": 0.09779501415143581,
          "log_observed_growth_rate": 0.10179319955816546,
          "observed_growth_rate": 1.2644713317109093,
          "projected_frequency": 0.9817518532340599,
          "timepoint": "2006-04-01T00:00:00",
          "year": 2006
         },
         {
          "clade_membership": "3674124",
          "estimated_growth_rate": 1.0005559101572123,
          "frequency": 0.9993329999999992,
          "frequency_final": 0.9999899999999992,
          "log_estimated_growth_rate": 0.00024112041791561387,
          "log_observed_growth_rate": 0.0002851428628566125,
          "observed_growth_rate": 1.000657438511487,
          "projected_frequency": 0.9998885393651367,
          "timepoint": "2006-04-01T00:00:00",
          "year": 2006
         },
         {
          "clade_membership": "412c00a",
          "estimated_growth_rate": 1.0005559101572123,
          "frequency": 0.9993329999999992,
          "frequency_final": 0.9999899999999992,
          "log_estimated_growth_rate": 0.00024112041791561387,
          "log_observed_growth_rate": 0.0002851428628566125,
          "observed_growth_rate": 1.000657438511487,
          "projected_frequency": 0.9998885393651367,
          "timepoint": "2006-04-01T00:00:00",
          "year": 2006
         },
         {
          "clade_membership": "44989e1",
          "estimated_growth_rate": 1.00087967500327,
          "frequency": 0.9989559999999993,
          "frequency_final": 0.9999899999999992,
          "log_estimated_growth_rate": 0.00038148834443867016,
          "log_observed_growth_rate": 0.00044884822904739754,
          "observed_growth_rate": 1.0010350806241715,
          "projected_frequency": 0.9998347566225658,
          "timepoint": "2006-04-01T00:00:00",
          "year": 2006
         },
         {
          "clade_membership": "4ff1302",
          "estimated_growth_rate": 1.0005559101572123,
          "frequency": 0.9993329999999992,
          "frequency_final": 0.9999899999999992,
          "log_estimated_growth_rate": 0.00024112041791561387,
          "log_observed_growth_rate": 0.0002851428628566125,
          "observed_growth_rate": 1.000657438511487,
          "projected_frequency": 0.9998885393651367,
          "timepoint": "2006-04-01T00:00:00",
          "year": 2006
         },
         {
          "clade_membership": "5ce45ae",
          "estimated_growth_rate": 0.09074500972859167,
          "frequency": 0.19346100000000008,
          "frequency_final": 0.006267999999999999,
          "log_estimated_growth_rate": -1.020357037056292,
          "log_observed_growth_rate": -1.4274175961099262,
          "observed_growth_rate": 0.03239929494833582,
          "projected_frequency": 0.01755562032710308,
          "timepoint": "2006-04-01T00:00:00",
          "year": 2006
         },
         {
          "clade_membership": "7aa732d",
          "estimated_growth_rate": 1.007538219536217,
          "frequency": 0.9918719999999992,
          "frequency_final": 0.9971089999999991,
          "log_estimated_growth_rate": 0.003258256819235762,
          "log_observed_growth_rate": 0.002284708339380588,
          "observed_growth_rate": 1.005279915150342,
          "projected_frequency": 0.9993489488878258,
          "timepoint": "2006-04-01T00:00:00",
          "year": 2006
         },
         {
          "clade_membership": "8386d16",
          "estimated_growth_rate": 1.0005559101572123,
          "frequency": 0.9993329999999992,
          "frequency_final": 0.9999899999999992,
          "log_estimated_growth_rate": 0.00024112041791561387,
          "log_observed_growth_rate": 0.0002851428628566125,
          "observed_growth_rate": 1.000657438511487,
          "projected_frequency": 0.9998885393651367,
          "timepoint": "2006-04-01T00:00:00",
          "year": 2006
         },
         {
          "clade_membership": "8517059",
          "estimated_growth_rate": 0.6298263677029575,
          "frequency": 0.28913400000000006,
          "frequency_final": 0.0036929999999999997,
          "log_estimated_growth_rate": -0.1999002790745436,
          "log_observed_growth_rate": -1.7911480713401071,
          "observed_growth_rate": 0.012772624457863825,
          "projected_frequency": 0.18210421699942694,
          "timepoint": "2006-04-01T00:00:00",
          "year": 2006
         },
         {
          "clade_membership": "85356dd",
          "estimated_growth_rate": 1.0005559101572123,
          "frequency": 0.9993329999999992,
          "frequency_final": 0.9999899999999992,
          "log_estimated_growth_rate": 0.00024112041791561387,
          "log_observed_growth_rate": 0.0002851428628566125,
          "observed_growth_rate": 1.000657438511487,
          "projected_frequency": 0.9998885393651367,
          "timepoint": "2006-04-01T00:00:00",
          "year": 2006
         },
         {
          "clade_membership": "9a3ff5d",
          "estimated_growth_rate": 1.0005559101572123,
          "frequency": 0.9993329999999992,
          "frequency_final": 0.9999899999999992,
          "log_estimated_growth_rate": 0.00024112041791561387,
          "log_observed_growth_rate": 0.0002851428628566125,
          "observed_growth_rate": 1.000657438511487,
          "projected_frequency": 0.9998885393651367,
          "timepoint": "2006-04-01T00:00:00",
          "year": 2006
         },
         {
          "clade_membership": "9b04f13",
          "estimated_growth_rate": 1.2918988459760385,
          "frequency": 0.7568009999999993,
          "frequency_final": 0.9908409999999993,
          "log_estimated_growth_rate": 0.11109900194271036,
          "log_observed_growth_rate": 0.11688688283708318,
          "observed_growth_rate": 1.309249062831577,
          "projected_frequency": 0.977710338533511,
          "timepoint": "2006-04-01T00:00:00",
          "year": 2006
         },
         {
          "clade_membership": "a5bcb4f",
          "estimated_growth_rate": 1.0005559101572123,
          "frequency": 0.9993329999999992,
          "frequency_final": 0.9999899999999992,
          "log_estimated_growth_rate": 0.00024112041791561387,
          "log_observed_growth_rate": 0.0002851428628566125,
          "observed_growth_rate": 1.000657438511487,
          "projected_frequency": 0.9998885393651367,
          "timepoint": "2006-04-01T00:00:00",
          "year": 2006
         },
         {
          "clade_membership": "aab80f6",
          "estimated_growth_rate": 1.0005559101572123,
          "frequency": 0.9993329999999992,
          "frequency_final": 0.9999899999999992,
          "log_estimated_growth_rate": 0.00024112041791561387,
          "log_observed_growth_rate": 0.0002851428628566125,
          "observed_growth_rate": 1.000657438511487,
          "projected_frequency": 0.9998885393651367,
          "timepoint": "2006-04-01T00:00:00",
          "year": 2006
         },
         {
          "clade_membership": "ddbae0a",
          "estimated_growth_rate": 1.0005559101572123,
          "frequency": 0.9993329999999992,
          "frequency_final": 0.9999899999999992,
          "log_estimated_growth_rate": 0.00024112041791561387,
          "log_observed_growth_rate": 0.0002851428628566125,
          "observed_growth_rate": 1.000657438511487,
          "projected_frequency": 0.9998885393651367,
          "timepoint": "2006-04-01T00:00:00",
          "year": 2006
         },
         {
          "clade_membership": "26f855a",
          "estimated_growth_rate": 1.0519354547538526,
          "frequency": 0.9468080000000001,
          "frequency_final": 0.9965900000000004,
          "log_estimated_growth_rate": 0.021966469955657857,
          "log_observed_growth_rate": 0.02223171700210028,
          "observed_growth_rate": 1.0525787699301234,
          "projected_frequency": 0.9959809040445858,
          "timepoint": "2006-10-01T00:00:00",
          "year": 2006
         },
         {
          "clade_membership": "3a81d99",
          "estimated_growth_rate": 0.9999980000040002,
          "frequency": 1.000002,
          "frequency_final": 0.9999610000000004,
          "log_estimated_growth_rate": -8.67720375633604e-07,
          "log_observed_growth_rate": -1.7788614235444045e-05,
          "observed_growth_rate": 0.9999590000820002,
          "projected_frequency": 1.0000000000000002,
          "timepoint": "2006-10-01T00:00:00",
          "year": 2006
         },
         {
          "clade_membership": "3c0baec",
          "estimated_growth_rate": 1.1205195308122773,
          "frequency": 0.47371199999999986,
          "frequency_final": 0.7944189999999995,
          "log_estimated_growth_rate": 0.04932102028043854,
          "log_observed_growth_rate": 0.22416575050782905,
          "observed_growth_rate": 1.6770083932853712,
          "projected_frequency": 0.5308035479801453,
          "timepoint": "2006-10-01T00:00:00",
          "year": 2006
         },
         {
          "clade_membership": "412c00a",
          "estimated_growth_rate": 0.9999980000040002,
          "frequency": 1.000002,
          "frequency_final": 0.9999610000000004,
          "log_estimated_growth_rate": -8.67720375633604e-07,
          "log_observed_growth_rate": -1.7788614235444045e-05,
          "observed_growth_rate": 0.9999590000820002,
          "projected_frequency": 1.0000000000000002,
          "timepoint": "2006-10-01T00:00:00",
          "year": 2006
         },
         {
          "clade_membership": "44989e1",
          "estimated_growth_rate": 0.9999980000040002,
          "frequency": 1.000002,
          "frequency_final": 0.9999610000000004,
          "log_estimated_growth_rate": -8.67720375633604e-07,
          "log_observed_growth_rate": -1.7788614235444045e-05,
          "observed_growth_rate": 0.9999590000820002,
          "projected_frequency": 1.0000000000000002,
          "timepoint": "2006-10-01T00:00:00",
          "year": 2006
         },
         {
          "clade_membership": "4e35443",
          "estimated_growth_rate": 0.9999980000040002,
          "frequency": 1.000002,
          "frequency_final": 0.9999610000000004,
          "log_estimated_growth_rate": -8.67720375633604e-07,
          "log_observed_growth_rate": -1.7788614235444045e-05,
          "observed_growth_rate": 0.9999590000820002,
          "projected_frequency": 1.0000000000000002,
          "timepoint": "2006-10-01T00:00:00",
          "year": 2006
         },
         {
          "clade_membership": "4ff1302",
          "estimated_growth_rate": 0.9999980000040002,
          "frequency": 1.000002,
          "frequency_final": 0.9999610000000004,
          "log_estimated_growth_rate": -8.67720375633604e-07,
          "log_observed_growth_rate": -1.7788614235444045e-05,
          "observed_growth_rate": 0.9999590000820002,
          "projected_frequency": 1.0000000000000002,
          "timepoint": "2006-10-01T00:00:00",
          "year": 2006
         },
         {
          "clade_membership": "7aa732d",
          "estimated_growth_rate": 0.9999980000040002,
          "frequency": 1.000002,
          "frequency_final": 0.9999610000000004,
          "log_estimated_growth_rate": -8.67720375633604e-07,
          "log_observed_growth_rate": -1.7788614235444045e-05,
          "observed_growth_rate": 0.9999590000820002,
          "projected_frequency": 1.0000000000000002,
          "timepoint": "2006-10-01T00:00:00",
          "year": 2006
         },
         {
          "clade_membership": "8386d16",
          "estimated_growth_rate": 0.9999980000040002,
          "frequency": 1.000002,
          "frequency_final": 0.9999610000000004,
          "log_estimated_growth_rate": -8.67720375633604e-07,
          "log_observed_growth_rate": -1.7788614235444045e-05,
          "observed_growth_rate": 0.9999590000820002,
          "projected_frequency": 1.0000000000000002,
          "timepoint": "2006-10-01T00:00:00",
          "year": 2006
         },
         {
          "clade_membership": "8517059",
          "estimated_growth_rate": 1.1096401648730085,
          "frequency": 0.2618699999999998,
          "frequency_final": 0.000286,
          "log_estimated_growth_rate": 0.045018895934700626,
          "log_observed_growth_rate": -2.310500056552447,
          "observed_growth_rate": 0.0010921449574216222,
          "projected_frequency": 0.29058146997529455,
          "timepoint": "2006-10-01T00:00:00",
          "year": 2006
         },
         {
          "clade_membership": "85356dd",
          "estimated_growth_rate": 0.9999980000040002,
          "frequency": 1.000002,
          "frequency_final": 0.9999610000000004,
          "log_estimated_growth_rate": -8.67720375633604e-07,
          "log_observed_growth_rate": -1.7788614235444045e-05,
          "observed_growth_rate": 0.9999590000820002,
          "projected_frequency": 1.0000000000000002,
          "timepoint": "2006-10-01T00:00:00",
          "year": 2006
         },
         {
          "clade_membership": "9a3ff5d",
          "estimated_growth_rate": 0.9999980000040002,
          "frequency": 1.000002,
          "frequency_final": 0.9999610000000004,
          "log_estimated_growth_rate": -8.67720375633604e-07,
          "log_observed_growth_rate": -1.7788614235444045e-05,
          "observed_growth_rate": 0.9999590000820002,
          "projected_frequency": 1.0000000000000002,
          "timepoint": "2006-10-01T00:00:00",
          "year": 2006
         },
         {
          "clade_membership": "9b04f13",
          "estimated_growth_rate": 1.0520418967676874,
          "frequency": 0.946706,
          "frequency_final": 0.9965900000000004,
          "log_estimated_growth_rate": 0.022010366101133317,
          "log_observed_growth_rate": 0.022278456870227822,
          "observed_growth_rate": 1.0526921768743416,
          "projected_frequency": 0.9959743759213503,
          "timepoint": "2006-10-01T00:00:00",
          "year": 2006
         },
         {
          "clade_membership": "a5bcb4f",
          "estimated_growth_rate": 0.9999980000040002,
          "frequency": 1.000002,
          "frequency_final": 0.9999610000000004,
          "log_estimated_growth_rate": -8.67720375633604e-07,
          "log_observed_growth_rate": -1.7788614235444045e-05,
          "observed_growth_rate": 0.9999590000820002,
          "projected_frequency": 1.0000000000000002,
          "timepoint": "2006-10-01T00:00:00",
          "year": 2006
         },
         {
          "clade_membership": "aab80f6",
          "estimated_growth_rate": 0.9999980000040002,
          "frequency": 1.000002,
          "frequency_final": 0.9999610000000004,
          "log_estimated_growth_rate": -8.67720375633604e-07,
          "log_observed_growth_rate": -1.7788614235444045e-05,
          "observed_growth_rate": 0.9999590000820002,
          "projected_frequency": 1.0000000000000002,
          "timepoint": "2006-10-01T00:00:00",
          "year": 2006
         },
         {
          "clade_membership": "1518fdb",
          "estimated_growth_rate": 0.24839877421846723,
          "frequency": 0.22855100000000003,
          "frequency_final": 0.02609700000000002,
          "log_estimated_growth_rate": -0.5991633782973893,
          "log_observed_growth_rate": -0.9279579777032031,
          "observed_growth_rate": 0.11418458024685964,
          "projected_frequency": 0.056771788246404914,
          "timepoint": "2007-04-01T00:00:00",
          "year": 2007
         },
         {
          "clade_membership": "2fd19ac",
          "estimated_growth_rate": 0.21089987874327035,
          "frequency": 0.26646000000000003,
          "frequency_final": 0.0018449999999999999,
          "log_estimated_growth_rate": -0.6698902845857737,
          "log_observed_growth_rate": -1.9731765695393153,
          "observed_growth_rate": 0.006924116190047285,
          "projected_frequency": 0.056196381689931824,
          "timepoint": "2007-04-01T00:00:00",
          "year": 2007
         },
         {
          "clade_membership": "3c0baec",
          "estimated_growth_rate": 1.254614173712711,
          "frequency": 0.7495240000000001,
          "frequency_final": 0.005121,
          "log_estimated_growth_rate": 0.09839274016100308,
          "log_observed_growth_rate": -2.0885422050226885,
          "observed_growth_rate": 0.0068323362560771895,
          "projected_frequency": 0.940363433937846,
          "timepoint": "2007-04-01T00:00:00",
          "year": 2007
         },
         {
          "clade_membership": "412c00a",
          "estimated_growth_rate": 1.0000100001000016,
          "frequency": 0.9999899999999992,
          "frequency_final": 0.9999620000000013,
          "log_estimated_growth_rate": 4.338627884659436e-06,
          "log_observed_growth_rate": -1.2148388665843309e-05,
          "observed_growth_rate": 0.9999719997199994,
          "projected_frequency": 0.9999999999999999,
          "timepoint": "2007-04-01T00:00:00",
          "year": 2007
         },
         {
          "clade_membership": "44989e1",
          "estimated_growth_rate": 1.0000100001000016,
          "frequency": 0.9999899999999992,
          "frequency_final": 0.9999620000000013,
          "log_estimated_growth_rate": 4.338627884659436e-06,
          "log_observed_growth_rate": -1.2148388665843309e-05,
          "observed_growth_rate": 0.9999719997199994,
          "projected_frequency": 0.9999999999999999,
          "timepoint": "2007-04-01T00:00:00",
          "year": 2007
         },
         {
          "clade_membership": "4ff1302",
          "estimated_growth_rate": 1.0000100001000016,
          "frequency": 0.9999899999999992,
          "frequency_final": 0.9999620000000013,
          "log_estimated_growth_rate": 4.338627884659436e-06,
          "log_observed_growth_rate": -1.2148388665843309e-05,
          "observed_growth_rate": 0.9999719997199994,
          "projected_frequency": 0.9999999999999999,
          "timepoint": "2007-04-01T00:00:00",
          "year": 2007
         },
         {
          "clade_membership": "7aa732d",
          "estimated_growth_rate": 1.0024279922350035,
          "frequency": 0.9971089999999991,
          "frequency_final": 0.9999620000000013,
          "log_estimated_growth_rate": 0.001052131679509947,
          "log_observed_growth_rate": 0.001239618801029496,
          "observed_growth_rate": 1.0028612719371726,
          "projected_frequency": 0.9995299729094511,
          "timepoint": "2007-04-01T00:00:00",
          "year": 2007
         },
         {
          "clade_membership": "8386d16",
          "estimated_growth_rate": 1.0000100001000016,
          "frequency": 0.9999899999999992,
          "frequency_final": 0.9999620000000013,
          "log_estimated_growth_rate": 4.338627884659436e-06,
          "log_observed_growth_rate": -1.2148388665843309e-05,
          "observed_growth_rate": 0.9999719997199994,
          "projected_frequency": 0.9999999999999999,
          "timepoint": "2007-04-01T00:00:00",
          "year": 2007
         },
         {
          "clade_membership": "85356dd",
          "estimated_growth_rate": 1.0000100001000016,
          "frequency": 0.9999899999999992,
          "frequency_final": 0.9999620000000013,
          "log_estimated_growth_rate": 4.338627884659436e-06,
          "log_observed_growth_rate": -1.2148388665843309e-05,
          "observed_growth_rate": 0.9999719997199994,
          "projected_frequency": 0.9999999999999999,
          "timepoint": "2007-04-01T00:00:00",
          "year": 2007
         },
         {
          "clade_membership": "91769ce",
          "estimated_growth_rate": 2.0527787846298935,
          "frequency": 0.4243909999999998,
          "frequency_final": 0.9649320000000016,
          "log_estimated_growth_rate": 0.3118182451938256,
          "log_observed_growth_rate": 0.3561582565923305,
          "observed_growth_rate": 2.2736862940071823,
          "projected_frequency": 0.8711808411878648,
          "timepoint": "2007-04-01T00:00:00",
          "year": 2007
         },
         {
          "clade_membership": "98a3f76",
          "estimated_growth_rate": 0.21089987874327035,
          "frequency": 0.26646000000000003,
          "frequency_final": 0.0018449999999999999,
          "log_estimated_growth_rate": -0.6698902845857737,
          "log_observed_growth_rate": -1.9731765695393153,
          "observed_growth_rate": 0.006924116190047285,
          "projected_frequency": 0.056196381689931824,
          "timepoint": "2007-04-01T00:00:00",
          "year": 2007
         },
         {
          "clade_membership": "9a3ff5d",
          "estimated_growth_rate": 1.0000100001000016,
          "frequency": 0.9999899999999992,
          "frequency_final": 0.9999620000000013,
          "log_estimated_growth_rate": 4.338627884659436e-06,
          "log_observed_growth_rate": -1.2148388665843309e-05,
          "observed_growth_rate": 0.9999719997199994,
          "projected_frequency": 0.9999999999999999,
          "timepoint": "2007-04-01T00:00:00",
          "year": 2007
         },
         {
          "clade_membership": "9b04f13",
          "estimated_growth_rate": 1.008203380109375,
          "frequency": 0.9908409999999993,
          "frequency_final": 0.9999620000000013,
          "log_estimated_growth_rate": 0.003544586345475457,
          "log_observed_growth_rate": 0.00397553358801032,
          "observed_growth_rate": 1.00920531144755,
          "projected_frequency": 0.9989692453509527,
          "timepoint": "2007-04-01T00:00:00",
          "year": 2007
         },
         {
          "clade_membership": "9f68af2",
          "estimated_growth_rate": 0.23632792146765005,
          "frequency": 0.22135300000000002,
          "frequency_final": 0.0018449999999999999,
          "log_estimated_growth_rate": -0.6202188782038845,
          "log_observed_growth_rate": -1.8929607226205665,
          "observed_growth_rate": 0.008335102754423928,
          "projected_frequency": 0.05231189440062875,
          "timepoint": "2007-04-01T00:00:00",
          "year": 2007
         },
         {
          "clade_membership": "a5fc6e2",
          "estimated_growth_rate": 0.25051798889774013,
          "frequency": 0.20387700000000003,
          "frequency_final": 0.0009239999999999999,
          "log_estimated_growth_rate": -0.5948651282860478,
          "log_observed_growth_rate": -2.0272881384605284,
          "observed_growth_rate": 0.004532144381170999,
          "projected_frequency": 0.05107485602250457,
          "timepoint": "2007-04-01T00:00:00",
          "year": 2007
         },
         {
          "clade_membership": "ac68424",
          "estimated_growth_rate": 1.254614173712711,
          "frequency": 0.7495240000000001,
          "frequency_final": 0.005121,
          "log_estimated_growth_rate": 0.09839274016100308,
          "log_observed_growth_rate": -2.0885422050226885,
          "observed_growth_rate": 0.0068323362560771895,
          "projected_frequency": 0.940363433937846,
          "timepoint": "2007-04-01T00:00:00",
          "year": 2007
         },
         {
          "clade_membership": "b122c5c",
          "estimated_growth_rate": 0.24799723125622686,
          "frequency": 0.23307699999999995,
          "frequency_final": 0.02985900000000002,
          "log_estimated_growth_rate": -0.5999633165231721,
          "log_observed_growth_rate": -0.8799768943265313,
          "observed_growth_rate": 0.12810787851225144,
          "projected_frequency": 0.05780245066950757,
          "timepoint": "2007-04-01T00:00:00",
          "year": 2007
         },
         {
          "clade_membership": "0003b07",
          "estimated_growth_rate": 1.3029143605471585,
          "frequency": 0.7321319999999998,
          "frequency_final": 0.9987219999999988,
          "log_estimated_growth_rate": 0.11477812611197331,
          "log_observed_growth_rate": 0.13469707319282362,
          "observed_growth_rate": 1.364128326585915,
          "projected_frequency": 0.953905296616112,
          "timepoint": "2007-10-01T00:00:00",
          "year": 2007
         },
         {
          "clade_membership": "26f855a",
          "estimated_growth_rate": 1.0033882551628772,
          "frequency": 0.9965900000000004,
          "frequency_final": 0.9999809999999988,
          "log_estimated_growth_rate": 0.0014675431507999897,
          "log_observed_growth_rate": 0.0014737469935744187,
          "observed_growth_rate": 1.003402602875805,
          "projected_frequency": 0.9999667012127723,
          "timepoint": "2007-10-01T00:00:00",
          "year": 2007
         },
         {
          "clade_membership": "3a81d99",
          "estimated_growth_rate": 1.0000390015210585,
          "frequency": 0.9999610000000004,
          "frequency_final": 0.9999809999999988,
          "log_estimated_growth_rate": 1.6920893859470383e-05,
          "log_observed_growth_rate": 8.67746382030052e-06,
          "observed_growth_rate": 1.0000200007800288,
          "projected_frequency": 0.9999999999999996,
          "timepoint": "2007-10-01T00:00:00",
          "year": 2007
         },
         {
          "clade_membership": "3c0baec",
          "estimated_growth_rate": 1.2096676377604099,
          "frequency": 0.7944189999999995,
          "frequency_final": 0.001259,
          "log_estimated_growth_rate": 0.08257141639553267,
          "log_observed_growth_rate": -2.5466797297509753,
          "observed_growth_rate": 0.0015848060028775756,
          "projected_frequency": 0.9609829551219865,
          "timepoint": "2007-10-01T00:00:00",
          "year": 2007
         },
         {
          "clade_membership": "412c00a",
          "estimated_growth_rate": 1.0000390015210585,
          "frequency": 0.9999610000000004,
          "frequency_final": 0.9999809999999988,
          "log_estimated_growth_rate": 1.6920893859470383e-05,
          "log_observed_growth_rate": 8.67746382030052e-06,
          "observed_growth_rate": 1.0000200007800288,
          "projected_frequency": 0.9999999999999996,
          "timepoint": "2007-10-01T00:00:00",
          "year": 2007
         },
         {
          "clade_membership": "44989e1",
          "estimated_growth_rate": 1.0000390015210585,
          "frequency": 0.9999610000000004,
          "frequency_final": 0.9999809999999988,
          "log_estimated_growth_rate": 1.6920893859470383e-05,
          "log_observed_growth_rate": 8.67746382030052e-06,
          "observed_growth_rate": 1.0000200007800288,
          "projected_frequency": 0.9999999999999996,
          "timepoint": "2007-10-01T00:00:00",
          "year": 2007
         },
         {
          "clade_membership": "4952842",
          "estimated_growth_rate": 1.0000390015210585,
          "frequency": 0.9999610000000004,
          "frequency_final": 0.9999809999999988,
          "log_estimated_growth_rate": 1.6920893859470383e-05,
          "log_observed_growth_rate": 8.67746382030052e-06,
          "observed_growth_rate": 1.0000200007800288,
          "projected_frequency": 0.9999999999999996,
          "timepoint": "2007-10-01T00:00:00",
          "year": 2007
         },
         {
          "clade_membership": "4ff1302",
          "estimated_growth_rate": 1.0000390015210585,
          "frequency": 0.9999610000000004,
          "frequency_final": 0.9999809999999988,
          "log_estimated_growth_rate": 1.6920893859470383e-05,
          "log_observed_growth_rate": 8.67746382030052e-06,
          "observed_growth_rate": 1.0000200007800288,
          "projected_frequency": 0.9999999999999996,
          "timepoint": "2007-10-01T00:00:00",
          "year": 2007
         },
         {
          "clade_membership": "7aa732d",
          "estimated_growth_rate": 1.0000390015210585,
          "frequency": 0.9999610000000004,
          "frequency_final": 0.9999809999999988,
          "log_estimated_growth_rate": 1.6920893859470383e-05,
          "log_observed_growth_rate": 8.67746382030052e-06,
          "observed_growth_rate": 1.0000200007800288,
          "projected_frequency": 0.9999999999999996,
          "timepoint": "2007-10-01T00:00:00",
          "year": 2007
         },
         {
          "clade_membership": "85356dd",
          "estimated_growth_rate": 1.0000390015210585,
          "frequency": 0.9999610000000004,
          "frequency_final": 0.9999809999999988,
          "log_estimated_growth_rate": 1.6920893859470383e-05,
          "log_observed_growth_rate": 8.67746382030052e-06,
          "observed_growth_rate": 1.0000200007800288,
          "projected_frequency": 0.9999999999999996,
          "timepoint": "2007-10-01T00:00:00",
          "year": 2007
         },
         {
          "clade_membership": "91769ce",
          "estimated_growth_rate": 1.3029143605471585,
          "frequency": 0.7321319999999998,
          "frequency_final": 0.9987219999999988,
          "log_estimated_growth_rate": 0.11477812611197331,
          "log_observed_growth_rate": 0.13469707319282362,
          "observed_growth_rate": 1.364128326585915,
          "projected_frequency": 0.953905296616112,
          "timepoint": "2007-10-01T00:00:00",
          "year": 2007
         },
         {
          "clade_membership": "9b04f13",
          "estimated_growth_rate": 1.0033882551628772,
          "frequency": 0.9965900000000004,
          "frequency_final": 0.9999809999999988,
          "log_estimated_growth_rate": 0.0014675431507999897,
          "log_observed_growth_rate": 0.0014737469935744187,
          "observed_growth_rate": 1.003402602875805,
          "projected_frequency": 0.9999667012127723,
          "timepoint": "2007-10-01T00:00:00",
          "year": 2007
         },
         {
          "clade_membership": "b32cea9",
          "estimated_growth_rate": 1.0000390015210585,
          "frequency": 0.9999610000000004,
          "frequency_final": 0.9999809999999988,
          "log_estimated_growth_rate": 1.6920893859470383e-05,
          "log_observed_growth_rate": 8.67746382030052e-06,
          "observed_growth_rate": 1.0000200007800288,
          "projected_frequency": 0.9999999999999996,
          "timepoint": "2007-10-01T00:00:00",
          "year": 2007
         },
         {
          "clade_membership": "3a81d99",
          "estimated_growth_rate": 1.0000380014440535,
          "frequency": 0.9999620000000013,
          "frequency_final": 0.9999869999999985,
          "log_estimated_growth_rate": 1.648701655045186e-05,
          "log_observed_growth_rate": 1.0846791848348982e-05,
          "observed_growth_rate": 1.0000250009500333,
          "projected_frequency": 1,
          "timepoint": "2008-04-01T00:00:00",
          "year": 2008
         },
         {
          "clade_membership": "412c00a",
          "estimated_growth_rate": 1.0000380014440535,
          "frequency": 0.9999620000000013,
          "frequency_final": 0.9999869999999985,
          "log_estimated_growth_rate": 1.648701655045186e-05,
          "log_observed_growth_rate": 1.0846791848348982e-05,
          "observed_growth_rate": 1.0000250009500333,
          "projected_frequency": 1,
          "timepoint": "2008-04-01T00:00:00",
          "year": 2008
         },
         {
          "clade_membership": "44989e1",
          "estimated_growth_rate": 1.0000380014440535,
          "frequency": 0.9999620000000013,
          "frequency_final": 0.9999869999999985,
          "log_estimated_growth_rate": 1.648701655045186e-05,
          "log_observed_growth_rate": 1.0846791848348982e-05,
          "observed_growth_rate": 1.0000250009500333,
          "projected_frequency": 1,
          "timepoint": "2008-04-01T00:00:00",
          "year": 2008
         },
         {
          "clade_membership": "4952842",
          "estimated_growth_rate": 1.0000380014440535,
          "frequency": 0.9999620000000013,
          "frequency_final": 0.9999869999999985,
          "log_estimated_growth_rate": 1.648701655045186e-05,
          "log_observed_growth_rate": 1.0846791848348982e-05,
          "observed_growth_rate": 1.0000250009500333,
          "projected_frequency": 1,
          "timepoint": "2008-04-01T00:00:00",
          "year": 2008
         },
         {
          "clade_membership": "4cd02c7",
          "estimated_growth_rate": 0.04137984258190001,
          "frequency": 0.158616,
          "frequency_final": 0.006718999999999994,
          "log_estimated_growth_rate": -1.324353318422199,
          "log_observed_growth_rate": -1.3155153821964023,
          "observed_growth_rate": 0.04236016543097792,
          "projected_frequency": 0.006563505110970652,
          "timepoint": "2008-04-01T00:00:00",
          "year": 2008
         },
         {
          "clade_membership": "4ff1302",
          "estimated_growth_rate": 1.0000380014440535,
          "frequency": 0.9999620000000013,
          "frequency_final": 0.9999869999999985,
          "log_estimated_growth_rate": 1.648701655045186e-05,
          "log_observed_growth_rate": 1.0846791848348982e-05,
          "observed_growth_rate": 1.0000250009500333,
          "projected_frequency": 1,
          "timepoint": "2008-04-01T00:00:00",
          "year": 2008
         },
         {
          "clade_membership": "7aa732d",
          "estimated_growth_rate": 1.0000380014440535,
          "frequency": 0.9999620000000013,
          "frequency_final": 0.9999869999999985,
          "log_estimated_growth_rate": 1.648701655045186e-05,
          "log_observed_growth_rate": 1.0846791848348982e-05,
          "observed_growth_rate": 1.0000250009500333,
          "projected_frequency": 1,
          "timepoint": "2008-04-01T00:00:00",
          "year": 2008
         },
         {
          "clade_membership": "85356dd",
          "estimated_growth_rate": 1.0000380014440535,
          "frequency": 0.9999620000000013,
          "frequency_final": 0.9999869999999985,
          "log_estimated_growth_rate": 1.648701655045186e-05,
          "log_observed_growth_rate": 1.0846791848348982e-05,
          "observed_growth_rate": 1.0000250009500333,
          "projected_frequency": 1,
          "timepoint": "2008-04-01T00:00:00",
          "year": 2008
         },
         {
          "clade_membership": "91769ce",
          "estimated_growth_rate": 1.0291951508870798,
          "frequency": 0.9649320000000016,
          "frequency_final": 0.9999869999999985,
          "log_estimated_growth_rate": 0.012484977024709295,
          "log_observed_growth_rate": 0.015481883369399478,
          "observed_growth_rate": 1.0363289848403794,
          "projected_frequency": 0.9931033353357732,
          "timepoint": "2008-04-01T00:00:00",
          "year": 2008
         },
         {
          "clade_membership": "9b04f13",
          "estimated_growth_rate": 1.0000380014440535,
          "frequency": 0.9999620000000013,
          "frequency_final": 0.9999869999999985,
          "log_estimated_growth_rate": 1.648701655045186e-05,
          "log_observed_growth_rate": 1.0846791848348982e-05,
          "observed_growth_rate": 1.0000250009500333,
          "projected_frequency": 1,
          "timepoint": "2008-04-01T00:00:00",
          "year": 2008
         },
         {
          "clade_membership": "b32cea9",
          "estimated_growth_rate": 1.0000380014440535,
          "frequency": 0.9999620000000013,
          "frequency_final": 0.9999869999999985,
          "log_estimated_growth_rate": 1.648701655045186e-05,
          "log_observed_growth_rate": 1.0846791848348982e-05,
          "observed_growth_rate": 1.0000250009500333,
          "projected_frequency": 1,
          "timepoint": "2008-04-01T00:00:00",
          "year": 2008
         },
         {
          "clade_membership": "d633ffe",
          "estimated_growth_rate": 0.04739483812123246,
          "frequency": 0.167144,
          "frequency_final": 0.006718999999999994,
          "log_estimated_growth_rate": -1.2752307009636035,
          "log_observed_growth_rate": -1.338120333763271,
          "observed_growth_rate": 0.04019887043507392,
          "projected_frequency": 0.007921762822935278,
          "timepoint": "2008-04-01T00:00:00",
          "year": 2008
         },
         {
          "clade_membership": "0003b07",
          "estimated_growth_rate": 1.000808242065738,
          "frequency": 0.9987219999999988,
          "frequency_final": 0.9999610000000012,
          "log_estimated_growth_rate": 0.0003505224637422894,
          "log_observed_growth_rate": 0.0005379072365471059,
          "observed_growth_rate": 1.001240585468231,
          "projected_frequency": 0.9995292091323769,
          "timepoint": "2008-10-01T00:00:00",
          "year": 2008
         },
         {
          "clade_membership": "3a81d99",
          "estimated_growth_rate": 1.0000190003610088,
          "frequency": 0.9999809999999988,
          "frequency_final": 0.9999610000000012,
          "log_estimated_growth_rate": 8.243430039769325e-06,
          "log_observed_growth_rate": -8.677463819967192e-06,
          "observed_growth_rate": 0.9999799996199952,
          "projected_frequency": 1.0000000000000007,
          "timepoint": "2008-10-01T00:00:00",
          "year": 2008
         },
         {
          "clade_membership": "412c00a",
          "estimated_growth_rate": 1.0000190003610088,
          "frequency": 0.9999809999999988,
          "frequency_final": 0.9999610000000012,
          "log_estimated_growth_rate": 8.243430039769325e-06,
          "log_observed_growth_rate": -8.677463819967192e-06,
          "observed_growth_rate": 0.9999799996199952,
          "projected_frequency": 1.0000000000000007,
          "timepoint": "2008-10-01T00:00:00",
          "year": 2008
         },
         {
          "clade_membership": "41bb3e2",
          "estimated_growth_rate": 1.6699377542525609,
          "frequency": 0.4530129999999999,
          "frequency_final": 0.9998340000000012,
          "log_estimated_growth_rate": 0.22231636219049053,
          "log_observed_growth_rate": 0.34329376221962726,
          "observed_growth_rate": 2.207075735133432,
          "projected_frequency": 0.7565035118672152,
          "timepoint": "2008-10-01T00:00:00",
          "year": 2008
         },
         {
          "clade_membership": "44989e1",
          "estimated_growth_rate": 1.0000190003610088,
          "frequency": 0.9999809999999988,
          "frequency_final": 0.9999610000000012,
          "log_estimated_growth_rate": 8.243430039769325e-06,
          "log_observed_growth_rate": -8.677463819967192e-06,
          "observed_growth_rate": 0.9999799996199952,
          "projected_frequency": 1.0000000000000007,
          "timepoint": "2008-10-01T00:00:00",
          "year": 2008
         },
         {
          "clade_membership": "4952842",
          "estimated_growth_rate": 1.0000190003610088,
          "frequency": 0.9999809999999988,
          "frequency_final": 0.9999610000000012,
          "log_estimated_growth_rate": 8.243430039769325e-06,
          "log_observed_growth_rate": -8.677463819967192e-06,
          "observed_growth_rate": 0.9999799996199952,
          "projected_frequency": 1.0000000000000007,
          "timepoint": "2008-10-01T00:00:00",
          "year": 2008
         },
         {
          "clade_membership": "4cd02c7",
          "estimated_growth_rate": 0.7582307842378924,
          "frequency": 0.23162999999999984,
          "frequency_final": 1.4999999999999999e-05,
          "log_estimated_growth_rate": -0.11960371901403967,
          "log_observed_growth_rate": -2.360199678436924,
          "observed_growth_rate": 6.475845097785266e-05,
          "projected_frequency": 0.1756289965530229,
          "timepoint": "2008-10-01T00:00:00",
          "year": 2008
         },
         {
          "clade_membership": "4ff1302",
          "estimated_growth_rate": 1.0000190003610088,
          "frequency": 0.9999809999999988,
          "frequency_final": 0.9999610000000012,
          "log_estimated_growth_rate": 8.243430039769325e-06,
          "log_observed_growth_rate": -8.677463819967192e-06,
          "observed_growth_rate": 0.9999799996199952,
          "projected_frequency": 1.0000000000000007,
          "timepoint": "2008-10-01T00:00:00",
          "year": 2008
         },
         {
          "clade_membership": "7aa732d",
          "estimated_growth_rate": 1.0000190003610088,
          "frequency": 0.9999809999999988,
          "frequency_final": 0.9999610000000012,
          "log_estimated_growth_rate": 8.243430039769325e-06,
          "log_observed_growth_rate": -8.677463819967192e-06,
          "observed_growth_rate": 0.9999799996199952,
          "projected_frequency": 1.0000000000000007,
          "timepoint": "2008-10-01T00:00:00",
          "year": 2008
         },
         {
          "clade_membership": "91769ce",
          "estimated_growth_rate": 1.000808242065738,
          "frequency": 0.9987219999999988,
          "frequency_final": 0.9999610000000012,
          "log_estimated_growth_rate": 0.0003505224637422894,
          "log_observed_growth_rate": 0.0005379072365471059,
          "observed_growth_rate": 1.001240585468231,
          "projected_frequency": 0.9995292091323769,
          "timepoint": "2008-10-01T00:00:00",
          "year": 2008
         },
         {
          "clade_membership": "9b04f13",
          "estimated_growth_rate": 1.0000190003610088,
          "frequency": 0.9999809999999988,
          "frequency_final": 0.9999610000000012,
          "log_estimated_growth_rate": 8.243430039769325e-06,
          "log_observed_growth_rate": -8.677463819967192e-06,
          "observed_growth_rate": 0.9999799996199952,
          "projected_frequency": 1.0000000000000007,
          "timepoint": "2008-10-01T00:00:00",
          "year": 2008
         },
         {
          "clade_membership": "b32cea9",
          "estimated_growth_rate": 1.0000190003610088,
          "frequency": 0.9999809999999988,
          "frequency_final": 0.9999610000000012,
          "log_estimated_growth_rate": 8.243430039769325e-06,
          "log_observed_growth_rate": -8.677463819967192e-06,
          "observed_growth_rate": 0.9999799996199952,
          "projected_frequency": 1.0000000000000007,
          "timepoint": "2008-10-01T00:00:00",
          "year": 2008
         },
         {
          "clade_membership": "0003b07",
          "estimated_growth_rate": 1.0000130001690037,
          "frequency": 0.9999869999999985,
          "frequency_final": 1.0000019999999998,
          "log_estimated_growth_rate": 5.640224702136725e-06,
          "log_observed_growth_rate": 6.507945077851391e-06,
          "observed_growth_rate": 1.000015000195004,
          "projected_frequency": 1,
          "timepoint": "2009-04-01T00:00:00",
          "year": 2009
         },
         {
          "clade_membership": "33f72b5",
          "estimated_growth_rate": 0.11023163946220002,
          "frequency": 0.19045,
          "frequency_final": 0.002926,
          "log_estimated_growth_rate": -0.9397587377338317,
          "log_observed_growth_rate": -1.6881050754197189,
          "observed_growth_rate": 0.015363612496718299,
          "projected_frequency": 0.020993615735575996,
          "timepoint": "2009-04-01T00:00:00",
          "year": 2009
         },
         {
          "clade_membership": "3c0baec",
          "estimated_growth_rate": 1.0000130001690037,
          "frequency": 0.9999869999999985,
          "frequency_final": 1.0000019999999998,
          "log_estimated_growth_rate": 5.640224702136725e-06,
          "log_observed_growth_rate": 6.507945077851391e-06,
          "observed_growth_rate": 1.000015000195004,
          "projected_frequency": 1,
          "timepoint": "2009-04-01T00:00:00",
          "year": 2009
         },
         {
          "clade_membership": "41bb3e2",
          "estimated_growth_rate": 1.06296950637059,
          "frequency": 0.9354169999999987,
          "frequency_final": 0.9927459999999999,
          "log_estimated_growth_rate": 0.02649333097078145,
          "log_observed_growth_rate": 0.025806104146713995,
          "observed_growth_rate": 1.0612871051092734,
          "projected_frequency": 0.9943197467406568,
          "timepoint": "2009-04-01T00:00:00",
          "year": 2009
         },
         {
          "clade_membership": "44989e1",
          "estimated_growth_rate": 1.0000130001690037,
          "frequency": 0.9999869999999985,
          "frequency_final": 1.0000019999999998,
          "log_estimated_growth_rate": 5.640224702136725e-06,
          "log_observed_growth_rate": 6.507945077851391e-06,
          "observed_growth_rate": 1.000015000195004,
          "projected_frequency": 1,
          "timepoint": "2009-04-01T00:00:00",
          "year": 2009
         },
         {
          "clade_membership": "7aa732d",
          "estimated_growth_rate": 1.0000130001690037,
          "frequency": 0.9999869999999985,
          "frequency_final": 1.0000019999999998,
          "log_estimated_growth_rate": 5.640224702136725e-06,
          "log_observed_growth_rate": 6.507945077851391e-06,
          "observed_growth_rate": 1.000015000195004,
          "projected_frequency": 1,
          "timepoint": "2009-04-01T00:00:00",
          "year": 2009
         },
         {
          "clade_membership": "91769ce",
          "estimated_growth_rate": 1.0000130001690037,
          "frequency": 0.9999869999999985,
          "frequency_final": 1.0000019999999998,
          "log_estimated_growth_rate": 5.640224702136725e-06,
          "log_observed_growth_rate": 6.507945077851391e-06,
          "observed_growth_rate": 1.000015000195004,
          "projected_frequency": 1,
          "timepoint": "2009-04-01T00:00:00",
          "year": 2009
         },
         {
          "clade_membership": "9b04f13",
          "estimated_growth_rate": 1.0000130001690037,
          "frequency": 0.9999869999999985,
          "frequency_final": 1.0000019999999998,
          "log_estimated_growth_rate": 5.640224702136725e-06,
          "log_observed_growth_rate": 6.507945077851391e-06,
          "observed_growth_rate": 1.000015000195004,
          "projected_frequency": 1,
          "timepoint": "2009-04-01T00:00:00",
          "year": 2009
         },
         {
          "clade_membership": "b7ff90b",
          "estimated_growth_rate": 1.06296950637059,
          "frequency": 0.9354169999999987,
          "frequency_final": 0.9927459999999999,
          "log_estimated_growth_rate": 0.02649333097078145,
          "log_observed_growth_rate": 0.025806104146713995,
          "observed_growth_rate": 1.0612871051092734,
          "projected_frequency": 0.9943197467406568,
          "timepoint": "2009-04-01T00:00:00",
          "year": 2009
         },
         {
          "clade_membership": "0003b07",
          "estimated_growth_rate": 1.0000390015210576,
          "frequency": 0.9999610000000012,
          "frequency_final": 0.9999319999999983,
          "log_estimated_growth_rate": 1.6920893859181097e-05,
          "log_observed_growth_rate": -1.2582630517562197e-05,
          "observed_growth_rate": 0.9999709988689529,
          "projected_frequency": 0.9999999999999996,
          "timepoint": "2009-10-01T00:00:00",
          "year": 2009
         },
         {
          "clade_membership": "3c0baec",
          "estimated_growth_rate": 1.0000390015210576,
          "frequency": 0.9999610000000012,
          "frequency_final": 0.9999319999999983,
          "log_estimated_growth_rate": 1.6920893859181097e-05,
          "log_observed_growth_rate": -1.2582630517562197e-05,
          "observed_growth_rate": 0.9999709988689529,
          "projected_frequency": 0.9999999999999996,
          "timepoint": "2009-10-01T00:00:00",
          "year": 2009
         },
         {
          "clade_membership": "41bb3e2",
          "estimated_growth_rate": 1.0001608728198186,
          "frequency": 0.9998340000000012,
          "frequency_final": 0.9999319999999983,
          "log_estimated_growth_rate": 6.979076201825388e-05,
          "log_observed_growth_rate": 4.252331117546858e-05,
          "observed_growth_rate": 1.000098016270698,
          "projected_frequency": 0.9999948461149317,
          "timepoint": "2009-10-01T00:00:00",
          "year": 2009
         },
         {
          "clade_membership": "44989e1",
          "estimated_growth_rate": 1.0000390015210576,
          "frequency": 0.9999610000000012,
          "frequency_final": 0.9999319999999983,
          "log_estimated_growth_rate": 1.6920893859181097e-05,
          "log_observed_growth_rate": -1.2582630517562197e-05,
          "observed_growth_rate": 0.9999709988689529,
          "projected_frequency": 0.9999999999999996,
          "timepoint": "2009-10-01T00:00:00",
          "year": 2009
         },
         {
          "clade_membership": "7aa732d",
          "estimated_growth_rate": 1.0000390015210576,
          "frequency": 0.9999610000000012,
          "frequency_final": 0.9999319999999983,
          "log_estimated_growth_rate": 1.6920893859181097e-05,
          "log_observed_growth_rate": -1.2582630517562197e-05,
          "observed_growth_rate": 0.9999709988689529,
          "projected_frequency": 0.9999999999999996,
          "timepoint": "2009-10-01T00:00:00",
          "year": 2009
         },
         {
          "clade_membership": "819ddab",
          "estimated_growth_rate": 1.6197977095720282,
          "frequency": 0.5304890000000001,
          "frequency_final": 0.146914,
          "log_estimated_growth_rate": 0.2091480029622388,
          "log_observed_growth_rate": -0.5554849988070163,
          "observed_growth_rate": 0.2769407094209304,
          "projected_frequency": 0.8592848671531558,
          "timepoint": "2009-10-01T00:00:00",
          "year": 2009
         },
         {
          "clade_membership": "91769ce",
          "estimated_growth_rate": 1.0000390015210576,
          "frequency": 0.9999610000000012,
          "frequency_final": 0.9999319999999983,
          "log_estimated_growth_rate": 1.6920893859181097e-05,
          "log_observed_growth_rate": -1.2582630517562197e-05,
          "observed_growth_rate": 0.9999709988689529,
          "projected_frequency": 0.9999999999999996,
          "timepoint": "2009-10-01T00:00:00",
          "year": 2009
         },
         {
          "clade_membership": "956f201",
          "estimated_growth_rate": 0.36628075162062773,
          "frequency": 0.35824199999999995,
          "frequency_final": 0.8528559999999983,
          "log_estimated_growth_rate": -0.43409931726068773,
          "log_observed_growth_rate": 0.37599752896956457,
          "observed_growth_rate": 2.380670049854563,
          "projected_frequency": 0.1312171490220769,
          "timepoint": "2009-10-01T00:00:00",
          "year": 2009
         },
         {
          "clade_membership": "9b04f13",
          "estimated_growth_rate": 1.0000390015210576,
          "frequency": 0.9999610000000012,
          "frequency_final": 0.9999319999999983,
          "log_estimated_growth_rate": 1.6920893859181097e-05,
          "log_observed_growth_rate": -1.2582630517562197e-05,
          "observed_growth_rate": 0.9999709988689529,
          "projected_frequency": 0.9999999999999996,
          "timepoint": "2009-10-01T00:00:00",
          "year": 2009
         },
         {
          "clade_membership": "c0ab28c",
          "estimated_growth_rate": 1.6197977095720282,
          "frequency": 0.5304890000000001,
          "frequency_final": 0.146914,
          "log_estimated_growth_rate": 0.2091480029622388,
          "log_observed_growth_rate": -0.5554849988070163,
          "observed_growth_rate": 0.2769407094209304,
          "projected_frequency": 0.8592848671531558,
          "timepoint": "2009-10-01T00:00:00",
          "year": 2009
         },
         {
          "clade_membership": "e62a2e8",
          "estimated_growth_rate": 2.437785221404613,
          "frequency": 0.31069199999999997,
          "frequency_final": 0.014003999999999999,
          "log_estimated_growth_rate": 0.38617287826313923,
          "log_observed_growth_rate": -1.3175186001814017,
          "observed_growth_rate": 0.04507357769108957,
          "projected_frequency": 0.757400366008642,
          "timepoint": "2009-10-01T00:00:00",
          "year": 2009
         },
         {
          "clade_membership": "0003b07",
          "estimated_growth_rate": 0.9999980000040006,
          "frequency": 1.0000019999999998,
          "frequency_final": 0.9999829999999996,
          "log_estimated_growth_rate": -8.677203754407381e-07,
          "log_observed_growth_rate": -8.243413568554168e-06,
          "observed_growth_rate": 0.9999810000379997,
          "projected_frequency": 1.0000000000000004,
          "timepoint": "2010-04-01T00:00:00",
          "year": 2010
         },
         {
          "clade_membership": "18b1f50",
          "estimated_growth_rate": 0.9999980000040006,
          "frequency": 1.0000019999999998,
          "frequency_final": 0.9999829999999996,
          "log_estimated_growth_rate": -8.677203754407381e-07,
          "log_observed_growth_rate": -8.243413568554168e-06,
          "observed_growth_rate": 0.9999810000379997,
          "projected_frequency": 1.0000000000000004,
          "timepoint": "2010-04-01T00:00:00",
          "year": 2010
         },
         {
          "clade_membership": "246b30f",
          "estimated_growth_rate": 0.9999980000040006,
          "frequency": 1.0000019999999998,
          "frequency_final": 0.9999829999999996,
          "log_estimated_growth_rate": -8.677203754407381e-07,
          "log_observed_growth_rate": -8.243413568554168e-06,
          "observed_growth_rate": 0.9999810000379997,
          "projected_frequency": 1.0000000000000004,
          "timepoint": "2010-04-01T00:00:00",
          "year": 2010
         },
         {
          "clade_membership": "3c0baec",
          "estimated_growth_rate": 0.9999980000040006,
          "frequency": 1.0000019999999998,
          "frequency_final": 0.9999829999999996,
          "log_estimated_growth_rate": -8.677203754407381e-07,
          "log_observed_growth_rate": -8.243413568554168e-06,
          "observed_growth_rate": 0.9999810000379997,
          "projected_frequency": 1.0000000000000004,
          "timepoint": "2010-04-01T00:00:00",
          "year": 2010
         },
         {
          "clade_membership": "41bb3e2",
          "estimated_growth_rate": 1.0066766845777808,
          "frequency": 0.9927459999999999,
          "frequency_final": 0.9999829999999996,
          "log_estimated_growth_rate": 0.0028871115739577025,
          "log_observed_growth_rate": 0.0031513082286922216,
          "observed_growth_rate": 1.0072898807952888,
          "projected_frequency": 0.9993742519078536,
          "timepoint": "2010-04-01T00:00:00",
          "year": 2010
         },
         {
          "clade_membership": "44989e1",
          "estimated_growth_rate": 0.9999980000040006,
          "frequency": 1.0000019999999998,
          "frequency_final": 0.9999829999999996,
          "log_estimated_growth_rate": -8.677203754407381e-07,
          "log_observed_growth_rate": -8.243413568554168e-06,
          "observed_growth_rate": 0.9999810000379997,
          "projected_frequency": 1.0000000000000004,
          "timepoint": "2010-04-01T00:00:00",
          "year": 2010
         },
         {
          "clade_membership": "7aa732d",
          "estimated_growth_rate": 0.9999980000040006,
          "frequency": 1.0000019999999998,
          "frequency_final": 0.9999829999999996,
          "log_estimated_growth_rate": -8.677203754407381e-07,
          "log_observed_growth_rate": -8.243413568554168e-06,
          "observed_growth_rate": 0.9999810000379997,
          "projected_frequency": 1.0000000000000004,
          "timepoint": "2010-04-01T00:00:00",
          "year": 2010
         },
         {
          "clade_membership": "7fba9ff",
          "estimated_growth_rate": 1.1520808336449495,
          "frequency": 0.2541359999999999,
          "frequency_final": 0.15668299999999996,
          "log_estimated_growth_rate": 0.061258192952624003,
          "log_observed_growth_rate": -0.20898686838787064,
          "observed_growth_rate": 0.6165320930525389,
          "projected_frequency": 0.2927852147391928,
          "timepoint": "2010-04-01T00:00:00",
          "year": 2010
         },
         {
          "clade_membership": "91769ce",
          "estimated_growth_rate": 0.9999980000040006,
          "frequency": 1.0000019999999998,
          "frequency_final": 0.9999829999999996,
          "log_estimated_growth_rate": -8.677203754407381e-07,
          "log_observed_growth_rate": -8.243413568554168e-06,
          "observed_growth_rate": 0.9999810000379997,
          "projected_frequency": 1.0000000000000004,
          "timepoint": "2010-04-01T00:00:00",
          "year": 2010
         },
         {
          "clade_membership": "956f201",
          "estimated_growth_rate": 1.8559060017290925,
          "frequency": 0.42820099999999994,
          "frequency_final": 0.7917449999999997,
          "log_estimated_growth_rate": 0.2680890727308113,
          "log_observed_growth_rate": 0.2664727863638504,
          "observed_growth_rate": 1.8490031550603567,
          "projected_frequency": 0.794700805846399,
          "timepoint": "2010-04-01T00:00:00",
          "year": 2010
         },
         {
          "clade_membership": "9b04f13",
          "estimated_growth_rate": 0.9999980000040006,
          "frequency": 1.0000019999999998,
          "frequency_final": 0.9999829999999996,
          "log_estimated_growth_rate": -8.677203754407381e-07,
          "log_observed_growth_rate": -8.243413568554168e-06,
          "observed_growth_rate": 0.9999810000379997,
          "projected_frequency": 1.0000000000000004,
          "timepoint": "2010-04-01T00:00:00",
          "year": 2010
         },
         {
          "clade_membership": "c0ab28c",
          "estimated_growth_rate": 0.3926892521365217,
          "frequency": 0.47196499999999997,
          "frequency_final": 0.20697399999999996,
          "log_estimated_growth_rate": -0.40453320734006987,
          "log_observed_growth_rate": -0.3568199588341548,
          "observed_growth_rate": 0.43853675590350977,
          "projected_frequency": 0.18533558288461346,
          "timepoint": "2010-04-01T00:00:00",
          "year": 2010
         },
         {
          "clade_membership": "d4a2597",
          "estimated_growth_rate": 0.5660837084813461,
          "frequency": 0.233429,
          "frequency_final": 0.19519699999999993,
          "log_estimated_growth_rate": -0.2457016276969012,
          "log_observed_growth_rate": -0.07731897259036427,
          "observed_growth_rate": 0.8362157229821484,
          "projected_frequency": 0.13214035398709215,
          "timepoint": "2010-04-01T00:00:00",
          "year": 2010
         },
         {
          "clade_membership": "026d21f",
          "estimated_growth_rate": 1.3518920148045315,
          "frequency": 0.503541,
          "frequency_final": 0.364479,
          "log_estimated_growth_rate": 0.13071788967928546,
          "log_observed_growth_rate": -0.14003403568299552,
          "observed_growth_rate": 0.7238318230293064,
          "projected_frequency": 0.6807330570266886,
          "timepoint": "2010-10-01T00:00:00",
          "year": 2010
         },
         {
          "clade_membership": "13a450d",
          "estimated_growth_rate": 1.109358751596974,
          "frequency": 0.8528559999999983,
          "frequency_final": 0.9945499999999995,
          "log_estimated_growth_rate": 0.04502187128313027,
          "log_observed_growth_rate": 0.06667844216626719,
          "observed_growth_rate": 1.1661405911431724,
          "projected_frequency": 0.946123267451987,
          "timepoint": "2010-10-01T00:00:00",
          "year": 2010
         },
         {
          "clade_membership": "26f855a",
          "estimated_growth_rate": 1.0000680046243156,
          "frequency": 0.9999319999999983,
          "frequency_final": 0.9999809999999995,
          "log_estimated_growth_rate": 2.950352437680237e-05,
          "log_observed_growth_rate": 2.126009433788401e-05,
          "observed_growth_rate": 1.0000490033322278,
          "projected_frequency": 0.9999999999999994,
          "timepoint": "2010-10-01T00:00:00",
          "year": 2010
         },
         {
          "clade_membership": "3c0baec",
          "estimated_growth_rate": 1.0000680046243156,
          "frequency": 0.9999319999999983,
          "frequency_final": 0.9999809999999995,
          "log_estimated_growth_rate": 2.950352437680237e-05,
          "log_observed_growth_rate": 2.126009433788401e-05,
          "observed_growth_rate": 1.0000490033322278,
          "projected_frequency": 0.9999999999999994,
          "timepoint": "2010-10-01T00:00:00",
          "year": 2010
         },
         {
          "clade_membership": "41bb3e2",
          "estimated_growth_rate": 1.0000680046243156,
          "frequency": 0.9999319999999983,
          "frequency_final": 0.9999809999999995,
          "log_estimated_growth_rate": 2.950352437680237e-05,
          "log_observed_growth_rate": 2.126009433788401e-05,
          "observed_growth_rate": 1.0000490033322278,
          "projected_frequency": 0.9999999999999994,
          "timepoint": "2010-10-01T00:00:00",
          "year": 2010
         },
         {
          "clade_membership": "7aa732d",
          "estimated_growth_rate": 1.0000680046243156,
          "frequency": 0.9999319999999983,
          "frequency_final": 0.9999809999999995,
          "log_estimated_growth_rate": 2.950352437680237e-05,
          "log_observed_growth_rate": 2.126009433788401e-05,
          "observed_growth_rate": 1.0000490033322278,
          "projected_frequency": 0.9999999999999994,
          "timepoint": "2010-10-01T00:00:00",
          "year": 2010
         },
         {
          "clade_membership": "7fba9ff",
          "estimated_growth_rate": 0.3756120089390855,
          "frequency": 0.19830299999999998,
          "frequency_final": 0.0009830000000000001,
          "log_estimated_growth_rate": -0.42165324440436075,
          "log_observed_growth_rate": -2.002191121743754,
          "observed_growth_rate": 0.0049570606596975346,
          "projected_frequency": 0.07448498820864746,
          "timepoint": "2010-10-01T00:00:00",
          "year": 2010
         },
         {
          "clade_membership": "91769ce",
          "estimated_growth_rate": 1.0000680046243156,
          "frequency": 0.9999319999999983,
          "frequency_final": 0.9999809999999995,
          "log_estimated_growth_rate": 2.950352437680237e-05,
          "log_observed_growth_rate": 2.126009433788401e-05,
          "observed_growth_rate": 1.0000490033322278,
          "projected_frequency": 0.9999999999999994,
          "timepoint": "2010-10-01T00:00:00",
          "year": 2010
         },
         {
          "clade_membership": "956f201",
          "estimated_growth_rate": 1.109358751596974,
          "frequency": 0.8528559999999983,
          "frequency_final": 0.9945499999999995,
          "log_estimated_growth_rate": 0.04502187128313027,
          "log_observed_growth_rate": 0.06667844216626719,
          "observed_growth_rate": 1.1661405911431724,
          "projected_frequency": 0.946123267451987,
          "timepoint": "2010-10-01T00:00:00",
          "year": 2010
         },
         {
          "clade_membership": "9b04f13",
          "estimated_growth_rate": 1.0000680046243156,
          "frequency": 0.9999319999999983,
          "frequency_final": 0.9999809999999995,
          "log_estimated_growth_rate": 2.950352437680237e-05,
          "log_observed_growth_rate": 2.126009433788401e-05,
          "observed_growth_rate": 1.0000490033322278,
          "projected_frequency": 0.9999999999999994,
          "timepoint": "2010-10-01T00:00:00",
          "year": 2010
         },
         {
          "clade_membership": "d4d7919",
          "estimated_growth_rate": 1.3518920148045315,
          "frequency": 0.503541,
          "frequency_final": 0.364479,
          "log_estimated_growth_rate": 0.13071788967928546,
          "log_observed_growth_rate": -0.14003403568299552,
          "observed_growth_rate": 0.7238318230293064,
          "projected_frequency": 0.6807330570266886,
          "timepoint": "2010-10-01T00:00:00",
          "year": 2010
         },
         {
          "clade_membership": "e56a121",
          "estimated_growth_rate": 1.352449677742384,
          "frequency": 0.503322,
          "frequency_final": 0.364463,
          "log_estimated_growth_rate": 0.13089664148099728,
          "log_observed_growth_rate": -0.13986449884612784,
          "observed_growth_rate": 0.7241149800723988,
          "projected_frequency": 0.6807176767006523,
          "timepoint": "2010-10-01T00:00:00",
          "year": 2010
         },
         {
          "clade_membership": "0003b07",
          "estimated_growth_rate": 1.0000170002890052,
          "frequency": 0.9999829999999996,
          "frequency_final": 0.999981000000002,
          "log_estimated_growth_rate": 7.3756931928754825e-06,
          "log_observed_growth_rate": -8.677368451742298e-07,
          "observed_growth_rate": 0.9999979999660018,
          "projected_frequency": 0.9999999999999999,
          "timepoint": "2011-04-01T00:00:00",
          "year": 2011
         },
         {
          "clade_membership": "026d21f",
          "estimated_growth_rate": 1.6479161998037226,
          "frequency": 0.5248099999999999,
          "frequency_final": 0.12450699999999992,
          "log_estimated_growth_rate": 0.21661025906931652,
          "log_observed_growth_rate": -0.6221608926433293,
          "observed_growth_rate": 0.2372420495036298,
          "projected_frequency": 0.8648429008189915,
          "timepoint": "2011-04-01T00:00:00",
          "year": 2011
         },
         {
          "clade_membership": "24fc224",
          "estimated_growth_rate": 0.6061536016749449,
          "frequency": 0.18738799999999992,
          "frequency_final": 0.003616,
          "log_estimated_growth_rate": -0.2159220131900889,
          "log_observed_growth_rate": -1.6107874353592773,
          "observed_growth_rate": 0.019296859991034653,
          "projected_frequency": 0.11358591111066453,
          "timepoint": "2011-04-01T00:00:00",
          "year": 2011
         },
         {
          "clade_membership": "2e38996",
          "estimated_growth_rate": 0.5832051879141361,
          "frequency": 0.19515899999999994,
          "frequency_final": 0.00366,
          "log_estimated_growth_rate": -0.23259923981817912,
          "log_observed_growth_rate": -1.6242223221618357,
          "observed_growth_rate": 0.018753939095814187,
          "projected_frequency": 0.11381774126813486,
          "timepoint": "2011-04-01T00:00:00",
          "year": 2011
         },
         {
          "clade_membership": "41bb3e2",
          "estimated_growth_rate": 1.0000170002890052,
          "frequency": 0.9999829999999996,
          "frequency_final": 0.999981000000002,
          "log_estimated_growth_rate": 7.3756931928754825e-06,
          "log_observed_growth_rate": -8.677368451742298e-07,
          "observed_growth_rate": 0.9999979999660018,
          "projected_frequency": 0.9999999999999999,
          "timepoint": "2011-04-01T00:00:00",
          "year": 2011
         },
         {
          "clade_membership": "4748b2c",
          "estimated_growth_rate": 0.5832051879141361,
          "frequency": 0.19515899999999994,
          "frequency_final": 0.00366,
          "log_estimated_growth_rate": -0.23259923981817912,
          "log_observed_growth_rate": -1.6242223221618357,
          "observed_growth_rate": 0.018753939095814187,
          "projected_frequency": 0.11381774126813486,
          "timepoint": "2011-04-01T00:00:00",
          "year": 2011
         },
         {
          "clade_membership": "72597af",
          "estimated_growth_rate": 1.0012401747915172,
          "frequency": 0.9987189999999995,
          "frequency_final": 0.999981000000002,
          "log_estimated_growth_rate": 0.0005377292792179689,
          "log_observed_growth_rate": 0.0005478879480715773,
          "observed_growth_rate": 1.0012636186955515,
          "projected_frequency": 0.9999575861276087,
          "timepoint": "2011-04-01T00:00:00",
          "year": 2011
         },
         {
          "clade_membership": "7fba9ff",
          "estimated_growth_rate": 0.043185637672753595,
          "frequency": 0.15668299999999996,
          "frequency_final": 0.7937850000000015,
          "log_estimated_growth_rate": -1.3075620288456093,
          "log_observed_growth_rate": 0.7024647880375727,
          "observed_growth_rate": 5.0661845892662365,
          "projected_frequency": 0.00676645526748005,
          "timepoint": "2011-04-01T00:00:00",
          "year": 2011
         },
         {
          "clade_membership": "91769ce",
          "estimated_growth_rate": 1.0000170002890052,
          "frequency": 0.9999829999999996,
          "frequency_final": 0.999981000000002,
          "log_estimated_growth_rate": 7.3756931928754825e-06,
          "log_observed_growth_rate": -8.677368451742298e-07,
          "observed_growth_rate": 0.9999979999660018,
          "projected_frequency": 0.9999999999999999,
          "timepoint": "2011-04-01T00:00:00",
          "year": 2011
         },
         {
          "clade_membership": "956f201",
          "estimated_growth_rate": 1.1187138005362383,
          "frequency": 0.7917449999999997,
          "frequency_final": 0.9962560000000019,
          "log_estimated_growth_rate": 0.04866085733591995,
          "log_observed_growth_rate": 0.09967314640022777,
          "observed_growth_rate": 1.258304125697039,
          "projected_frequency": 0.8857360580055635,
          "timepoint": "2011-04-01T00:00:00",
          "year": 2011
         },
         {
          "clade_membership": "c0ab28c",
          "estimated_growth_rate": 0.5518641381141849,
          "frequency": 0.20697399999999996,
          "frequency_final": 0.003725,
          "log_estimated_growth_rate": -0.25647541401313056,
          "log_observed_growth_rate": -1.6436072319140334,
          "observed_growth_rate": 0.017997429628842272,
          "projected_frequency": 0.11422152812204528,
          "timepoint": "2011-04-01T00:00:00",
          "year": 2011
         },
         {
          "clade_membership": "d4a2597",
          "estimated_growth_rate": 0.5830917300260642,
          "frequency": 0.19519699999999993,
          "frequency_final": 0.00366,
          "log_estimated_growth_rate": -0.23268330603733964,
          "log_observed_growth_rate": -1.6243064457147516,
          "observed_growth_rate": 0.018750288170412462,
          "projected_frequency": 0.1138177564258976,
          "timepoint": "2011-04-01T00:00:00",
          "year": 2011
         },
         {
          "clade_membership": "e56a121",
          "estimated_growth_rate": 1.6479161998037226,
          "frequency": 0.5248099999999999,
          "frequency_final": 0.12450699999999992,
          "log_estimated_growth_rate": 0.21661025906931652,
          "log_observed_growth_rate": -0.6221608926433293,
          "observed_growth_rate": 0.2372420495036298,
          "projected_frequency": 0.8648429008189915,
          "timepoint": "2011-04-01T00:00:00",
          "year": 2011
         },
         {
          "clade_membership": "f162f83",
          "estimated_growth_rate": 0.5832051879141361,
          "frequency": 0.19515899999999994,
          "frequency_final": 0.00366,
          "log_estimated_growth_rate": -0.23259923981817912,
          "log_observed_growth_rate": -1.6242223221618357,
          "observed_growth_rate": 0.018753939095814187,
          "projected_frequency": 0.11381774126813486,
          "timepoint": "2011-04-01T00:00:00",
          "year": 2011
         },
         {
          "clade_membership": "13a450d",
          "estimated_growth_rate": 1.0040764988251956,
          "frequency": 0.9945499999999995,
          "frequency_final": 0.9963760000000014,
          "log_estimated_growth_rate": 0.0017650311052524543,
          "log_observed_growth_rate": 0.0007958368207042815,
          "observed_growth_rate": 1.001836006233977,
          "projected_frequency": 0.9986042819065977,
          "timepoint": "2011-10-01T00:00:00",
          "year": 2011
         },
         {
          "clade_membership": "38da78c",
          "estimated_growth_rate": 1.6313065873716572,
          "frequency": 0.26738,
          "frequency_final": 0.5266240000000006,
          "log_estimated_growth_rate": 0.21190890072661683,
          "log_observed_growth_rate": 0.29357439349335995,
          "observed_growth_rate": 1.9695713965143264,
          "projected_frequency": 0.43617875533143374,
          "timepoint": "2011-10-01T00:00:00",
          "year": 2011
         },
         {
          "clade_membership": "3b60fb2",
          "estimated_growth_rate": 0.8052195680117423,
          "frequency": 0.16073700000000002,
          "frequency_final": 0.04403800000000001,
          "log_estimated_growth_rate": -0.09343662486703988,
          "log_observed_growth_rate": -0.5552302867008257,
          "observed_growth_rate": 0.2739755003515059,
          "projected_frequency": 0.12942857770350344,
          "timepoint": "2011-10-01T00:00:00",
          "year": 2011
         },
         {
          "clade_membership": "3c0baec",
          "estimated_growth_rate": 1.0000190003610079,
          "frequency": 0.9999809999999995,
          "frequency_final": 0.9964690000000013,
          "log_estimated_growth_rate": 8.243430039383602e-06,
          "log_observed_growth_rate": -0.0015264267713400149,
          "observed_growth_rate": 0.9964879332707339,
          "projected_frequency": 1.0000000000000004,
          "timepoint": "2011-10-01T00:00:00",
          "year": 2011
         },
         {
          "clade_membership": "41bb3e2",
          "estimated_growth_rate": 1.0000190003610079,
          "frequency": 0.9999809999999995,
          "frequency_final": 0.9964690000000013,
          "log_estimated_growth_rate": 8.243430039383602e-06,
          "log_observed_growth_rate": -0.0015264267713400149,
          "observed_growth_rate": 0.9964879332707339,
          "projected_frequency": 1.0000000000000004,
          "timepoint": "2011-10-01T00:00:00",
          "year": 2011
         },
         {
          "clade_membership": "4786bbf",
          "estimated_growth_rate": 0.7908869453806158,
          "frequency": 0.364479,
          "frequency_final": 0.22203599999999998,
          "log_estimated_growth_rate": -0.10157151929216857,
          "log_observed_growth_rate": -0.21448746024329812,
          "observed_growth_rate": 0.6091873605886758,
          "projected_frequency": 0.28826168296538146,
          "timepoint": "2011-10-01T00:00:00",
          "year": 2011
         },
         {
          "clade_membership": "7aa732d",
          "estimated_growth_rate": 1.0000190003610079,
          "frequency": 0.9999809999999995,
          "frequency_final": 0.9964690000000013,
          "log_estimated_growth_rate": 8.243430039383602e-06,
          "log_observed_growth_rate": -0.0015264267713400149,
          "observed_growth_rate": 0.9964879332707339,
          "projected_frequency": 1.0000000000000004,
          "timepoint": "2011-10-01T00:00:00",
          "year": 2011
         },
         {
          "clade_membership": "91769ce",
          "estimated_growth_rate": 1.0000190003610079,
          "frequency": 0.9999809999999995,
          "frequency_final": 0.9964690000000013,
          "log_estimated_growth_rate": 8.243430039383602e-06,
          "log_observed_growth_rate": -0.0015264267713400149,
          "observed_growth_rate": 0.9964879332707339,
          "projected_frequency": 1.0000000000000004,
          "timepoint": "2011-10-01T00:00:00",
          "year": 2011
         },
         {
          "clade_membership": "956f201",
          "estimated_growth_rate": 1.0040764988251956,
          "frequency": 0.9945499999999995,
          "frequency_final": 0.9963760000000014,
          "log_estimated_growth_rate": 0.0017650311052524543,
          "log_observed_growth_rate": 0.0007958368207042815,
          "observed_growth_rate": 1.001836006233977,
          "projected_frequency": 0.9986042819065977,
          "timepoint": "2011-10-01T00:00:00",
          "year": 2011
         },
         {
          "clade_membership": "9b04f13",
          "estimated_growth_rate": 1.0000190003610079,
          "frequency": 0.9999809999999995,
          "frequency_final": 0.9964690000000013,
          "log_estimated_growth_rate": 8.243430039383602e-06,
          "log_observed_growth_rate": -0.0015264267713400149,
          "observed_growth_rate": 0.9964879332707339,
          "projected_frequency": 1.0000000000000004,
          "timepoint": "2011-10-01T00:00:00",
          "year": 2011
         },
         {
          "clade_membership": "b7ff90b",
          "estimated_growth_rate": 1.0000190003610079,
          "frequency": 0.9999809999999995,
          "frequency_final": 0.9964690000000013,
          "log_estimated_growth_rate": 8.243430039383602e-06,
          "log_observed_growth_rate": -0.0015264267713400149,
          "observed_growth_rate": 0.9964879332707339,
          "projected_frequency": 1.0000000000000004,
          "timepoint": "2011-10-01T00:00:00",
          "year": 2011
         },
         {
          "clade_membership": "c139e7c",
          "estimated_growth_rate": 0.8200801447617714,
          "frequency": 0.30587800000000004,
          "frequency_final": 0.6672010000000007,
          "log_estimated_growth_rate": -0.08583332823972353,
          "log_observed_growth_rate": 0.3379413661534776,
          "observed_growth_rate": 2.1812650795415185,
          "projected_frequency": 0.25084447451944114,
          "timepoint": "2011-10-01T00:00:00",
          "year": 2011
         },
         {
          "clade_membership": "c17559e",
          "estimated_growth_rate": 1.1634098649857425,
          "frequency": 0.5976190000000003,
          "frequency_final": 0.011863,
          "log_estimated_growth_rate": 0.06563082885541094,
          "log_observed_growth_rate": -1.667808227470615,
          "observed_growth_rate": 0.019850439828720295,
          "projected_frequency": 0.6952758401029149,
          "timepoint": "2011-10-01T00:00:00",
          "year": 2011
         },
         {
          "clade_membership": "ce8636c",
          "estimated_growth_rate": 0.8102901508298489,
          "frequency": 0.31157,
          "frequency_final": 1.4999999999999999e-05,
          "log_estimated_growth_rate": -0.09103426002734337,
          "log_observed_growth_rate": -2.4884812505008553,
          "observed_growth_rate": 4.814327438456847e-05,
          "projected_frequency": 0.252462102294056,
          "timepoint": "2011-10-01T00:00:00",
          "year": 2011
         },
         {
          "clade_membership": "e56a121",
          "estimated_growth_rate": 0.7909137954772208,
          "frequency": 0.364463,
          "frequency_final": 0.22196199999999996,
          "log_estimated_growth_rate": -0.10155681275418012,
          "log_observed_growth_rate": -0.2146125635168455,
          "observed_growth_rate": 0.6090110655951358,
          "projected_frequency": 0.2882588146410143,
          "timepoint": "2011-10-01T00:00:00",
          "year": 2011
         },
         {
          "clade_membership": "38da78c",
          "estimated_growth_rate": 1.3848496426249703,
          "frequency": 0.42489600000000016,
          "frequency_final": 0.9394600000000003,
          "log_estimated_growth_rate": 0.14111915076958775,
          "log_observed_growth_rate": 0.3440367674875763,
          "observed_growth_rate": 2.2110351709594815,
          "projected_frequency": 0.5884170737527796,
          "timepoint": "2012-04-01T00:00:00",
          "year": 2012
         },
         {
          "clade_membership": "41bb3e2",
          "estimated_growth_rate": 1.0000190003610052,
          "frequency": 0.999981000000002,
          "frequency_final": 0.9999650000000002,
          "log_estimated_growth_rate": 8.24343003832286e-06,
          "log_observed_growth_rate": -6.941957187016323e-06,
          "observed_growth_rate": 0.9999839996959924,
          "projected_frequency": 1.0000000000000004,
          "timepoint": "2012-04-01T00:00:00",
          "year": 2012
         },
         {
          "clade_membership": "6c1138e",
          "estimated_growth_rate": 1.6030051442010365,
          "frequency": 0.3644620000000001,
          "frequency_final": 0.9274340000000002,
          "log_estimated_growth_rate": 0.20448766456392073,
          "log_observed_growth_rate": 0.4049088097093554,
          "observed_growth_rate": 2.544665836218865,
          "projected_frequency": 0.5842344608657983,
          "timepoint": "2012-04-01T00:00:00",
          "year": 2012
         },
         {
          "clade_membership": "7fba9ff",
          "estimated_growth_rate": 1.2372214802347632,
          "frequency": 0.7937850000000015,
          "frequency_final": 0.971773,
          "log_estimated_growth_rate": 0.09234266780664742,
          "log_observed_growth_rate": 0.0877618458836418,
          "observed_growth_rate": 1.2242269632205172,
          "projected_frequency": 0.9820878526881534,
          "timepoint": "2012-04-01T00:00:00",
          "year": 2012
         },
         {
          "clade_membership": "88299f7",
          "estimated_growth_rate": 1.250943396721277,
          "frequency": 0.7844560000000016,
          "frequency_final": 0.971773,
          "log_estimated_growth_rate": 0.09712672718403623,
          "log_observed_growth_rate": 0.09288964637764198,
          "observed_growth_rate": 1.2387858592451304,
          "projected_frequency": 0.981310053218388,
          "timepoint": "2012-04-01T00:00:00",
          "year": 2012
         },
         {
          "clade_membership": "91769ce",
          "estimated_growth_rate": 1.0000190003610052,
          "frequency": 0.999981000000002,
          "frequency_final": 0.9999650000000002,
          "log_estimated_growth_rate": 8.24343003832286e-06,
          "log_observed_growth_rate": -6.941957187016323e-06,
          "observed_growth_rate": 0.9999839996959924,
          "projected_frequency": 1.0000000000000004,
          "timepoint": "2012-04-01T00:00:00",
          "year": 2012
         },
         {
          "clade_membership": "956f201",
          "estimated_growth_rate": 1.0034263440619797,
          "frequency": 0.9962560000000019,
          "frequency_final": 0.9999650000000002,
          "log_estimated_growth_rate": 0.0014840118107654402,
          "log_observed_growth_rate": 0.0016122341655650486,
          "observed_growth_rate": 1.0037229386824253,
          "projected_frequency": 0.9996695158298137,
          "timepoint": "2012-04-01T00:00:00",
          "year": 2012
         },
         {
          "clade_membership": "c139e7c",
          "estimated_growth_rate": 1.097099548666008,
          "frequency": 0.3580500000000001,
          "frequency_final": 0.032312999999999995,
          "log_estimated_growth_rate": 0.04013896977535149,
          "log_observed_growth_rate": -1.0325411862501745,
          "observed_growth_rate": 0.09024717218265602,
          "projected_frequency": 0.39281649339986424,
          "timepoint": "2012-04-01T00:00:00",
          "year": 2012
         },
         {
          "clade_membership": "f2ec31a",
          "estimated_growth_rate": 1.6030051442010365,
          "frequency": 0.3644620000000001,
          "frequency_final": 0.9274340000000002,
          "log_estimated_growth_rate": 0.20448766456392073,
          "log_observed_growth_rate": 0.4049088097093554,
          "observed_growth_rate": 2.544665836218865,
          "projected_frequency": 0.5842344608657983,
          "timepoint": "2012-04-01T00:00:00",
          "year": 2012
         },
         {
          "clade_membership": "38da78c",
          "estimated_growth_rate": 1.6930415870519686,
          "frequency": 0.5266240000000006,
          "frequency_final": 0.9918400000000009,
          "log_estimated_growth_rate": 0.2283305561458623,
          "log_observed_growth_rate": 0.27455472385170043,
          "observed_growth_rate": 1.883393085009418,
          "projected_frequency": 0.891596332739657,
          "timepoint": "2012-10-01T00:00:00",
          "year": 2012
         },
         {
          "clade_membership": "3c0baec",
          "estimated_growth_rate": 1.0035435121413354,
          "frequency": 0.9964690000000013,
          "frequency_final": 0.999989000000001,
          "log_estimated_growth_rate": 0.0015346702013641848,
          "log_observed_growth_rate": 0.0015298977083230425,
          "observed_growth_rate": 1.0035324731627373,
          "projected_frequency": 0.9999999999999656,
          "timepoint": "2012-10-01T00:00:00",
          "year": 2012
         },
         {
          "clade_membership": "41bb3e2",
          "estimated_growth_rate": 1.0035435121413354,
          "frequency": 0.9964690000000013,
          "frequency_final": 0.999989000000001,
          "log_estimated_growth_rate": 0.0015346702013641848,
          "log_observed_growth_rate": 0.0015298977083230425,
          "observed_growth_rate": 1.0035324731627373,
          "projected_frequency": 0.9999999999999656,
          "timepoint": "2012-10-01T00:00:00",
          "year": 2012
         },
         {
          "clade_membership": "4786bbf",
          "estimated_growth_rate": 0.14075391967866432,
          "frequency": 0.22203599999999998,
          "frequency_final": 0.002296,
          "log_estimated_growth_rate": -0.8398124279572816,
          "log_observed_growth_rate": -1.830387764684511,
          "observed_growth_rate": 0.010340665477670288,
          "projected_frequency": 0.03125243730977191,
          "timepoint": "2012-10-01T00:00:00",
          "year": 2012
         },
         {
          "clade_membership": "6c1138e",
          "estimated_growth_rate": 1.7031416069555274,
          "frequency": 0.5232830000000007,
          "frequency_final": 0.002415,
          "log_estimated_growth_rate": 0.23090863619660412,
          "log_observed_growth_rate": -2.186175067823411,
          "observed_growth_rate": 0.00461509355358381,
          "projected_frequency": 0.8912250495125105,
          "timepoint": "2012-10-01T00:00:00",
          "year": 2012
         },
         {
          "clade_membership": "8aaed0b",
          "estimated_growth_rate": 1.6911535193886982,
          "frequency": 0.5272510000000007,
          "frequency_final": 0.9918400000000009,
          "log_estimated_growth_rate": 0.22784690663619944,
          "log_observed_growth_rate": 0.2740389380396298,
          "observed_growth_rate": 1.8811533785616332,
          "projected_frequency": 0.8916623842512117,
          "timepoint": "2012-10-01T00:00:00",
          "year": 2012
         },
         {
          "clade_membership": "91769ce",
          "estimated_growth_rate": 1.0035435121413354,
          "frequency": 0.9964690000000013,
          "frequency_final": 0.999989000000001,
          "log_estimated_growth_rate": 0.0015346702013641848,
          "log_observed_growth_rate": 0.0015298977083230425,
          "observed_growth_rate": 1.0035324731627373,
          "projected_frequency": 0.9999999999999656,
          "timepoint": "2012-10-01T00:00:00",
          "year": 2012
         },
         {
          "clade_membership": "956f201",
          "estimated_growth_rate": 1.003630690919261,
          "frequency": 0.9963760000000014,
          "frequency_final": 0.999989000000001,
          "log_estimated_growth_rate": 0.0015723583033398249,
          "log_observed_growth_rate": 0.0015703914678343652,
          "observed_growth_rate": 1.0036261411354745,
          "projected_frequency": 0.9999935332953709,
          "timepoint": "2012-10-01T00:00:00",
          "year": 2012
         },
         {
          "clade_membership": "a08d8f5",
          "estimated_growth_rate": 0.14075391967866432,
          "frequency": 0.22203599999999998,
          "frequency_final": 0.002296,
          "log_estimated_growth_rate": -0.8398124279572816,
          "log_observed_growth_rate": -1.830387764684511,
          "observed_growth_rate": 0.010340665477670288,
          "projected_frequency": 0.03125243730977191,
          "timepoint": "2012-10-01T00:00:00",
          "year": 2012
         },
         {
          "clade_membership": "a229f16",
          "estimated_growth_rate": 2.420790529324456,
          "frequency": 0.348294,
          "frequency_final": 0.9893800000000009,
          "log_estimated_growth_rate": 0.3832268614266943,
          "log_observed_growth_rate": 0.452610735899684,
          "observed_growth_rate": 2.8406461208059883,
          "projected_frequency": 0.843146816620532,
          "timepoint": "2012-10-01T00:00:00",
          "year": 2012
         },
         {
          "clade_membership": "bfceca0",
          "estimated_growth_rate": 1.4147874767474937,
          "frequency": 0.6672010000000007,
          "frequency_final": 0.997693000000001,
          "log_estimated_growth_rate": 0.15050061393696793,
          "log_observed_growth_rate": 0.17452488459859303,
          "observed_growth_rate": 1.4953409842011627,
          "projected_frequency": 0.9439476192734055,
          "timepoint": "2012-10-01T00:00:00",
          "year": 2012
         },
         {
          "clade_membership": "c139e7c",
          "estimated_growth_rate": 1.4147874767474937,
          "frequency": 0.6672010000000007,
          "frequency_final": 0.997693000000001,
          "log_estimated_growth_rate": 0.15050061393696793,
          "log_observed_growth_rate": 0.17452488459859303,
          "observed_growth_rate": 1.4953409842011627,
          "projected_frequency": 0.9439476192734055,
          "timepoint": "2012-10-01T00:00:00",
          "year": 2012
         },
         {
          "clade_membership": "dbdf9a1",
          "estimated_growth_rate": 0.14978179712921091,
          "frequency": 0.17060499999999998,
          "frequency_final": 0.002296,
          "log_estimated_growth_rate": -0.8104077799853348,
          "log_observed_growth_rate": -1.7165427345713757,
          "observed_growth_rate": 0.013457987749479794,
          "projected_frequency": 0.025553523499229024,
          "timepoint": "2012-10-01T00:00:00",
          "year": 2012
         },
         {
          "clade_membership": "e56a121",
          "estimated_growth_rate": 0.140800678317736,
          "frequency": 0.22196199999999996,
          "frequency_final": 0.002296,
          "log_estimated_growth_rate": -0.839668811881495,
          "log_observed_growth_rate": -1.830243648379255,
          "observed_growth_rate": 0.010344112956271795,
          "projected_frequency": 0.031252400160761314,
          "timepoint": "2012-10-01T00:00:00",
          "year": 2012
         },
         {
          "clade_membership": "f2ec31a",
          "estimated_growth_rate": 1.7031416069555274,
          "frequency": 0.5232830000000007,
          "frequency_final": 0.9918260000000009,
          "log_estimated_growth_rate": 0.23090863619660412,
          "log_observed_growth_rate": 0.27730736604684686,
          "observed_growth_rate": 1.8953912127854327,
          "projected_frequency": 0.8912250495125105,
          "timepoint": "2012-10-01T00:00:00",
          "year": 2012
         },
         {
          "clade_membership": "0165eeb",
          "estimated_growth_rate": 0.5462126291430733,
          "frequency": 0.22759900000000008,
          "frequency_final": 0.21802399999999997,
          "log_estimated_growth_rate": -0.26106278342536604,
          "log_observed_growth_rate": -0.018582620105976576,
          "observed_growth_rate": 0.9579303951247584,
          "projected_frequency": 0.1243174481803344,
          "timepoint": "2013-04-01T00:00:00",
          "year": 2013
         },
         {
          "clade_membership": "05daa66",
          "estimated_growth_rate": 1.0271504392054,
          "frequency": 0.971773,
          "frequency_final": 0.9999479999999997,
          "log_estimated_growth_rate": 0.011622255115985526,
          "log_observed_growth_rate": 0.012400008194391047,
          "observed_growth_rate": 1.0289933966059972,
          "projected_frequency": 0.9981570637579492,
          "timepoint": "2013-04-01T00:00:00",
          "year": 2013
         },
         {
          "clade_membership": "13a450d",
          "estimated_growth_rate": 1.0000350012250432,
          "frequency": 0.9999650000000002,
          "frequency_final": 0.9999809999999997,
          "log_estimated_growth_rate": 1.518538722528106e-05,
          "log_observed_growth_rate": 6.941957186081909e-06,
          "observed_growth_rate": 1.0000160005600192,
          "projected_frequency": 1.0000000000000004,
          "timepoint": "2013-04-01T00:00:00",
          "year": 2013
         },
         {
          "clade_membership": "38da78c",
          "estimated_growth_rate": 1.0601169949039866,
          "frequency": 0.9394600000000003,
          "frequency_final": 0.9999479999999997,
          "log_estimated_growth_rate": 0.025327608917379132,
          "log_observed_growth_rate": 0.027071187438760087,
          "observed_growth_rate": 1.0643859238285818,
          "projected_frequency": 0.9959375120324995,
          "timepoint": "2013-04-01T00:00:00",
          "year": 2013
         },
         {
          "clade_membership": "41bb3e2",
          "estimated_growth_rate": 1.0000350012250432,
          "frequency": 0.9999650000000002,
          "frequency_final": 0.9999809999999997,
          "log_estimated_growth_rate": 1.518538722528106e-05,
          "log_observed_growth_rate": 6.941957186081909e-06,
          "observed_growth_rate": 1.0000160005600192,
          "projected_frequency": 1.0000000000000004,
          "timepoint": "2013-04-01T00:00:00",
          "year": 2013
         },
         {
          "clade_membership": "66a66dd",
          "estimated_growth_rate": 1.8627055895470885,
          "frequency": 0.43592100000000006,
          "frequency_final": 0.7804679999999993,
          "log_estimated_growth_rate": 0.2696836112771446,
          "log_observed_growth_rate": 0.2525082800084202,
          "observed_growth_rate": 1.790388625461951,
          "projected_frequency": 0.8119924833009565,
          "timepoint": "2013-04-01T00:00:00",
          "year": 2013
         },
         {
          "clade_membership": "6c1138e",
          "estimated_growth_rate": 1.0728871171508547,
          "frequency": 0.9274340000000002,
          "frequency_final": 0.9999479999999997,
          "log_estimated_growth_rate": 0.030522251052226626,
          "log_observed_growth_rate": 0.03266047985258335,
          "observed_growth_rate": 1.078187774008716,
          "projected_frequency": 0.995031990607686,
          "timepoint": "2013-04-01T00:00:00",
          "year": 2013
         },
         {
          "clade_membership": "7fba9ff",
          "estimated_growth_rate": 1.0271504392054,
          "frequency": 0.971773,
          "frequency_final": 0.9999809999999997,
          "log_estimated_growth_rate": 0.011622255115985526,
          "log_observed_growth_rate": 0.012414326102672549,
          "observed_growth_rate": 1.0290273551539297,
          "projected_frequency": 0.9981570637579492,
          "timepoint": "2013-04-01T00:00:00",
          "year": 2013
         },
         {
          "clade_membership": "88299f7",
          "estimated_growth_rate": 1.0271504392054,
          "frequency": 0.971773,
          "frequency_final": 0.9999809999999997,
          "log_estimated_growth_rate": 0.011622255115985526,
          "log_observed_growth_rate": 0.012414326102672549,
          "observed_growth_rate": 1.0290273551539297,
          "projected_frequency": 0.9981570637579492,
          "timepoint": "2013-04-01T00:00:00",
          "year": 2013
         },
         {
          "clade_membership": "8aaed0b",
          "estimated_growth_rate": 1.0601169949039866,
          "frequency": 0.9394600000000003,
          "frequency_final": 0.9999479999999997,
          "log_estimated_growth_rate": 0.025327608917379132,
          "log_observed_growth_rate": 0.027071187438760087,
          "observed_growth_rate": 1.0643859238285818,
          "projected_frequency": 0.9959375120324995,
          "timepoint": "2013-04-01T00:00:00",
          "year": 2013
         },
         {
          "clade_membership": "8d4351f",
          "estimated_growth_rate": 1.8563729511608806,
          "frequency": 0.43764400000000003,
          "frequency_final": 0.7804679999999993,
          "log_estimated_growth_rate": 0.2682082506123004,
          "log_observed_growth_rate": 0.25079900574952757,
          "observed_growth_rate": 1.783339883558324,
          "projected_frequency": 0.8124304838378525,
          "timepoint": "2013-04-01T00:00:00",
          "year": 2013
         },
         {
          "clade_membership": "91769ce",
          "estimated_growth_rate": 1.0000350012250432,
          "frequency": 0.9999650000000002,
          "frequency_final": 0.9999809999999997,
          "log_estimated_growth_rate": 1.518538722528106e-05,
          "log_observed_growth_rate": 6.941957186081909e-06,
          "observed_growth_rate": 1.0000160005600192,
          "projected_frequency": 1.0000000000000004,
          "timepoint": "2013-04-01T00:00:00",
          "year": 2013
         },
         {
          "clade_membership": "956f201",
          "estimated_growth_rate": 1.0000350012250432,
          "frequency": 0.9999650000000002,
          "frequency_final": 0.9999809999999997,
          "log_estimated_growth_rate": 1.518538722528106e-05,
          "log_observed_growth_rate": 6.941957186081909e-06,
          "observed_growth_rate": 1.0000160005600192,
          "projected_frequency": 1.0000000000000004,
          "timepoint": "2013-04-01T00:00:00",
          "year": 2013
         },
         {
          "clade_membership": "a229f16",
          "estimated_growth_rate": 1.0838041522793822,
          "frequency": 0.9168990000000001,
          "frequency_final": 0.9999479999999997,
          "log_estimated_growth_rate": 0.03491422391994721,
          "log_observed_growth_rate": 0.03761661942323364,
          "observed_growth_rate": 1.0905759522041136,
          "projected_frequency": 0.9937389434208135,
          "timepoint": "2013-04-01T00:00:00",
          "year": 2013
         },
         {
          "clade_membership": "f2ec31a",
          "estimated_growth_rate": 1.0728871171508547,
          "frequency": 0.9274340000000002,
          "frequency_final": 0.9999479999999997,
          "log_estimated_growth_rate": 0.030522251052226626,
          "log_observed_growth_rate": 0.03266047985258335,
          "observed_growth_rate": 1.078187774008716,
          "projected_frequency": 0.995031990607686,
          "timepoint": "2013-04-01T00:00:00",
          "year": 2013
         },
         {
          "clade_membership": "0165eeb",
          "estimated_growth_rate": 2.565149499837533,
          "frequency": 0.27180699999999997,
          "frequency_final": 0.24600600000000009,
          "log_estimated_growth_rate": 0.4081402519847862,
          "log_observed_growth_rate": -0.04314800696639595,
          "observed_growth_rate": 0.9050760282111944,
          "projected_frequency": 0.6972255901023402,
          "timepoint": "2013-10-01T00:00:00",
          "year": 2013
         },
         {
          "clade_membership": "1a16e36",
          "estimated_growth_rate": 0.6359603724645312,
          "frequency": 0.3927379999999998,
          "frequency_final": 0.2642310000000001,
          "log_estimated_growth_rate": -0.19593901656356547,
          "log_observed_growth_rate": -0.1715830482425106,
          "observed_growth_rate": 0.6727920394767001,
          "projected_frequency": 0.24976580476097493,
          "timepoint": "2013-10-01T00:00:00",
          "year": 2013
         },
         {
          "clade_membership": "38da78c",
          "estimated_growth_rate": 1.007181202710864,
          "frequency": 0.9918400000000009,
          "frequency_final": 0.9999869999999981,
          "log_estimated_growth_rate": 0.0031044929605312664,
          "log_observed_growth_rate": 0.003549171353255136,
          "observed_growth_rate": 1.008214026455877,
          "projected_frequency": 0.9989626040967442,
          "timepoint": "2013-10-01T00:00:00",
          "year": 2013
         },
         {
          "clade_membership": "41bb3e2",
          "estimated_growth_rate": 1.0000110001210005,
          "frequency": 0.999989000000001,
          "frequency_final": 0.9999869999999981,
          "log_estimated_growth_rate": 4.772493056294466e-06,
          "log_observed_growth_rate": -8.677316462333882e-07,
          "observed_growth_rate": 0.9999979999779968,
          "projected_frequency": 1.0000000000000002,
          "timepoint": "2013-10-01T00:00:00",
          "year": 2013
         },
         {
          "clade_membership": "66a66dd",
          "estimated_growth_rate": 0.43042756015532485,
          "frequency": 0.6935910000000002,
          "frequency_final": 0.49226900000000023,
          "log_estimated_growth_rate": -0.36527333765704545,
          "log_observed_growth_rate": -0.14864532910801007,
          "observed_growth_rate": 0.7097396015807589,
          "projected_frequency": 0.298540681875692,
          "timepoint": "2013-10-01T00:00:00",
          "year": 2013
         },
         {
          "clade_membership": "7fba9ff",
          "estimated_growth_rate": 1.0021064765319665,
          "frequency": 0.997693000000001,
          "frequency_final": 0.9999869999999981,
          "log_estimated_growth_rate": 0.0009129548461007936,
          "log_observed_growth_rate": 0.0009964314075514306,
          "observed_growth_rate": 1.002299304495468,
          "projected_frequency": 0.9997946168906083,
          "timepoint": "2013-10-01T00:00:00",
          "year": 2013
         },
         {
          "clade_membership": "8aaed0b",
          "estimated_growth_rate": 1.007181202710864,
          "frequency": 0.9918400000000009,
          "frequency_final": 0.9999869999999981,
          "log_estimated_growth_rate": 0.0031044929605312664,
          "log_observed_growth_rate": 0.003549171353255136,
          "observed_growth_rate": 1.008214026455877,
          "projected_frequency": 0.9989626040967442,
          "timepoint": "2013-10-01T00:00:00",
          "year": 2013
         },
         {
          "clade_membership": "956f201",
          "estimated_growth_rate": 1.0000110001210005,
          "frequency": 0.999989000000001,
          "frequency_final": 0.9999869999999981,
          "log_estimated_growth_rate": 4.772493056294466e-06,
          "log_observed_growth_rate": -8.677316462333882e-07,
          "observed_growth_rate": 0.9999979999779968,
          "projected_frequency": 1.0000000000000002,
          "timepoint": "2013-10-01T00:00:00",
          "year": 2013
         },
         {
          "clade_membership": "a229f16",
          "estimated_growth_rate": 1.0096366522782716,
          "frequency": 0.9893800000000009,
          "frequency_final": 0.9999419999999981,
          "log_estimated_growth_rate": 0.004160922654058904,
          "log_observed_growth_rate": 0.0046070513291690054,
          "observed_growth_rate": 1.0106753724554742,
          "projected_frequency": 0.9989143110310773,
          "timepoint": "2013-10-01T00:00:00",
          "year": 2013
         },
         {
          "clade_membership": "f2ec31a",
          "estimated_growth_rate": 1.0071951152426923,
          "frequency": 0.9918260000000009,
          "frequency_final": 0.9999419999999981,
          "log_estimated_growth_rate": 0.003110485931206612,
          "log_observed_growth_rate": 0.0035357709464216183,
          "observed_growth_rate": 1.0081828869176621,
          "projected_frequency": 0.9989623023706994,
          "timepoint": "2013-10-01T00:00:00",
          "year": 2013
         },
         {
          "clade_membership": "0165eeb",
          "estimated_growth_rate": 0.20345522967172874,
          "frequency": 0.21802399999999997,
          "frequency_final": 0.6901999999999989,
          "log_estimated_growth_rate": -0.6838366318294681,
          "log_observed_growth_rate": 0.4991120233225882,
          "observed_growth_rate": 3.1657065277217145,
          "projected_frequency": 0.04435812299394898,
          "timepoint": "2014-04-01T00:00:00",
          "year": 2014
         },
         {
          "clade_membership": "05daa66",
          "estimated_growth_rate": 1.0000418086390368,
          "frequency": 0.9999479999999997,
          "frequency_final": 0.9999379999999989,
          "log_estimated_growth_rate": 1.81387423685005e-05,
          "log_observed_growth_rate": -4.338853280817257e-06,
          "observed_growth_rate": 0.9999899994799721,
          "projected_frequency": 0.9999898064649874,
          "timepoint": "2014-04-01T00:00:00",
          "year": 2014
         },
         {
          "clade_membership": "1a16e36",
          "estimated_growth_rate": 0.6369087250628133,
          "frequency": 0.4768329999999999,
          "frequency_final": 0.13579499999999994,
          "log_estimated_growth_rate": -0.1954049708786313,
          "log_observed_growth_rate": -0.5432059158441326,
          "observed_growth_rate": 0.28478523927664395,
          "projected_frequency": 0.3036990980978764,
          "timepoint": "2014-04-01T00:00:00",
          "year": 2014
         },
         {
          "clade_membership": "1ba36d2",
          "estimated_growth_rate": 2.997708892251376,
          "frequency": 0.16491999999999996,
          "frequency_final": 0.16134699999999996,
          "log_estimated_growth_rate": 0.47504161509297127,
          "log_observed_growth_rate": -0.009454471309207175,
          "observed_growth_rate": 0.9783349502789231,
          "projected_frequency": 0.4943821505100968,
          "timepoint": "2014-04-01T00:00:00",
          "year": 2014
         },
         {
          "clade_membership": "1edac85",
          "estimated_growth_rate": 2.997708892251376,
          "frequency": 0.16491999999999996,
          "frequency_final": 0.16134699999999996,
          "log_estimated_growth_rate": 0.47504161509297127,
          "log_observed_growth_rate": -0.009454471309207175,
          "observed_growth_rate": 0.9783349502789231,
          "projected_frequency": 0.4943821505100968,
          "timepoint": "2014-04-01T00:00:00",
          "year": 2014
         },
         {
          "clade_membership": "38da78c",
          "estimated_growth_rate": 1.0000418086390368,
          "frequency": 0.9999479999999997,
          "frequency_final": 0.9999379999999989,
          "log_estimated_growth_rate": 1.81387423685005e-05,
          "log_observed_growth_rate": -4.338853280817257e-06,
          "observed_growth_rate": 0.9999899994799721,
          "projected_frequency": 0.9999898064649874,
          "timepoint": "2014-04-01T00:00:00",
          "year": 2014
         },
         {
          "clade_membership": "41bb3e2",
          "estimated_growth_rate": 1.0000190003610063,
          "frequency": 0.9999809999999997,
          "frequency_final": 0.9999379999999989,
          "log_estimated_growth_rate": 8.243430038805015e-06,
          "log_observed_growth_rate": -1.8656761562377257e-05,
          "observed_growth_rate": 0.9999569991829836,
          "projected_frequency": 0.9999999999999992,
          "timepoint": "2014-04-01T00:00:00",
          "year": 2014
         },
         {
          "clade_membership": "66a66dd",
          "estimated_growth_rate": 1.223529991919112,
          "frequency": 0.7804679999999993,
          "frequency_final": 0.3097379999999997,
          "log_estimated_growth_rate": 0.08751307766303688,
          "log_observed_growth_rate": -0.40051683281456385,
          "observed_growth_rate": 0.3968618828702778,
          "projected_frequency": 0.9549260057331247,
          "timepoint": "2014-04-01T00:00:00",
          "year": 2014
         },
         {
          "clade_membership": "6c1138e",
          "estimated_growth_rate": 1.0000418086390368,
          "frequency": 0.9999479999999997,
          "frequency_final": 0.9999379999999989,
          "log_estimated_growth_rate": 1.81387423685005e-05,
          "log_observed_growth_rate": -4.338853280817257e-06,
          "observed_growth_rate": 0.9999899994799721,
          "projected_frequency": 0.9999898064649874,
          "timepoint": "2014-04-01T00:00:00",
          "year": 2014
         },
         {
          "clade_membership": "7a8b37b",
          "estimated_growth_rate": 0.6290149235758778,
          "frequency": 0.2633269999999999,
          "frequency_final": 0.13479499999999994,
          "log_estimated_growth_rate": -0.2003710977978241,
          "log_observed_growth_rate": -0.28925774750466515,
          "observed_growth_rate": 0.5118920581634241,
          "projected_frequency": 0.16563661278046513,
          "timepoint": "2014-04-01T00:00:00",
          "year": 2014
         },
         {
          "clade_membership": "80897ab",
          "estimated_growth_rate": 3.127570272326783,
          "frequency": 0.15526099999999993,
          "frequency_final": 0.16134699999999996,
          "log_estimated_growth_rate": 0.4933123017275899,
          "log_observed_growth_rate": 0.016593668464285838,
          "observed_growth_rate": 1.0391985108945585,
          "projected_frequency": 0.4855896880517284,
          "timepoint": "2014-04-01T00:00:00",
          "year": 2014
         },
         {
          "clade_membership": "8d4351f",
          "estimated_growth_rate": 1.223529991919112,
          "frequency": 0.7804679999999993,
          "frequency_final": 0.3097379999999997,
          "log_estimated_growth_rate": 0.08751307766303688,
          "log_observed_growth_rate": -0.40051683281456385,
          "observed_growth_rate": 0.3968618828702778,
          "projected_frequency": 0.9549260057331247,
          "timepoint": "2014-04-01T00:00:00",
          "year": 2014
         },
         {
          "clade_membership": "956f201",
          "estimated_growth_rate": 1.0000190003610063,
          "frequency": 0.9999809999999997,
          "frequency_final": 0.9999379999999989,
          "log_estimated_growth_rate": 8.243430038805015e-06,
          "log_observed_growth_rate": -1.8656761562377257e-05,
          "observed_growth_rate": 0.9999569991829836,
          "projected_frequency": 0.9999999999999992,
          "timepoint": "2014-04-01T00:00:00",
          "year": 2014
         },
         {
          "clade_membership": "a229f16",
          "estimated_growth_rate": 1.0000418086390368,
          "frequency": 0.9999479999999997,
          "frequency_final": 0.9999379999999989,
          "log_estimated_growth_rate": 1.81387423685005e-05,
          "log_observed_growth_rate": -4.338853280817257e-06,
          "observed_growth_rate": 0.9999899994799721,
          "projected_frequency": 0.9999898064649874,
          "timepoint": "2014-04-01T00:00:00",
          "year": 2014
         },
         {
          "clade_membership": "c9346ca",
          "estimated_growth_rate": 2.997708892251376,
          "frequency": 0.16491999999999996,
          "frequency_final": 0.009550999999999999,
          "log_estimated_growth_rate": 0.47504161509297127,
          "log_observed_growth_rate": -1.1966051160083606,
          "observed_growth_rate": 0.05791292747999031,
          "projected_frequency": 0.4943821505100968,
          "timepoint": "2014-04-01T00:00:00",
          "year": 2014
         },
         {
          "clade_membership": "f2ec31a",
          "estimated_growth_rate": 1.0000418086390368,
          "frequency": 0.9999479999999997,
          "frequency_final": 0.9999379999999989,
          "log_estimated_growth_rate": 1.81387423685005e-05,
          "log_observed_growth_rate": -4.338853280817257e-06,
          "observed_growth_rate": 0.9999899994799721,
          "projected_frequency": 0.9999898064649874,
          "timepoint": "2014-04-01T00:00:00",
          "year": 2014
         },
         {
          "clade_membership": "0165eeb",
          "estimated_growth_rate": 2.0278608717590063,
          "frequency": 0.24600600000000009,
          "frequency_final": 0.8856419999999982,
          "log_estimated_growth_rate": 0.30614604429703135,
          "log_observed_growth_rate": 0.5550407970717177,
          "observed_growth_rate": 3.600082924806703,
          "projected_frequency": 0.4988659416179463,
          "timepoint": "2014-10-01T00:00:00",
          "year": 2014
         },
         {
          "clade_membership": "05daa66",
          "estimated_growth_rate": 1.0000130001690037,
          "frequency": 0.9999869999999981,
          "frequency_final": 0.9999969999999978,
          "log_estimated_growth_rate": 5.640224702136725e-06,
          "log_observed_growth_rate": 4.338640887135368e-06,
          "observed_growth_rate": 1.0000100001300014,
          "projected_frequency": 0.9999999999999996,
          "timepoint": "2014-10-01T00:00:00",
          "year": 2014
         },
         {
          "clade_membership": "07acbbd",
          "estimated_growth_rate": 1.132235332203617,
          "frequency": 0.4005790000000002,
          "frequency_final": 0.06497700000000001,
          "log_estimated_growth_rate": 0.053810378814226,
          "log_observed_growth_rate": -0.7843784298030883,
          "observed_growth_rate": 0.16220770434795628,
          "projected_frequency": 0.45354969713879284,
          "timepoint": "2014-10-01T00:00:00",
          "year": 2014
         },
         {
          "clade_membership": "1a16e36",
          "estimated_growth_rate": 0.12970816051990672,
          "frequency": 0.2642310000000001,
          "frequency_final": 0.04862400000000002,
          "log_estimated_growth_rate": -0.8761829067343302,
          "log_observed_growth_rate": -0.7279325145551926,
          "observed_growth_rate": 0.18402079998183407,
          "projected_frequency": 0.03427291696233548,
          "timepoint": "2014-10-01T00:00:00",
          "year": 2014
         },
         {
          "clade_membership": "1edac85",
          "estimated_growth_rate": 1.132235332203617,
          "frequency": 0.4005790000000002,
          "frequency_final": 0.06497700000000001,
          "log_estimated_growth_rate": 0.053810378814226,
          "log_observed_growth_rate": -0.7843784298030883,
          "observed_growth_rate": 0.16220770434795628,
          "projected_frequency": 0.45354969713879284,
          "timepoint": "2014-10-01T00:00:00",
          "year": 2014
         },
         {
          "clade_membership": "41bb3e2",
          "estimated_growth_rate": 1.0000130001690037,
          "frequency": 0.9999869999999981,
          "frequency_final": 0.9999969999999978,
          "log_estimated_growth_rate": 5.640224702136725e-06,
          "log_observed_growth_rate": 4.338640887135368e-06,
          "observed_growth_rate": 1.0000100001300014,
          "projected_frequency": 0.9999999999999996,
          "timepoint": "2014-10-01T00:00:00",
          "year": 2014
         },
         {
          "clade_membership": "66a66dd",
          "estimated_growth_rate": 0.9487126019929147,
          "frequency": 0.49226900000000023,
          "frequency_final": 0.11435500000000001,
          "log_estimated_growth_rate": -0.022817736483145164,
          "log_observed_growth_rate": -0.6310473991100869,
          "observed_growth_rate": 0.23230185122361952,
          "projected_frequency": 0.4670218038704504,
          "timepoint": "2014-10-01T00:00:00",
          "year": 2014
         },
         {
          "clade_membership": "6c1138e",
          "estimated_growth_rate": 1.0000130001690037,
          "frequency": 0.9999869999999981,
          "frequency_final": 0.9999969999999978,
          "log_estimated_growth_rate": 5.640224702136725e-06,
          "log_observed_growth_rate": 4.338640887135368e-06,
          "observed_growth_rate": 1.0000100001300014,
          "projected_frequency": 0.9999999999999996,
          "timepoint": "2014-10-01T00:00:00",
          "year": 2014
         },
         {
          "clade_membership": "7a8b37b",
          "estimated_growth_rate": 0.13499028742480546,
          "frequency": 0.2263950000000001,
          "frequency_final": 0.00043000000000000004,
          "log_estimated_growth_rate": -0.8576284203917907,
          "log_observed_growth_rate": -2.2014448736505825,
          "observed_growth_rate": 0.0018993352326685654,
          "projected_frequency": 0.030561126121538846,
          "timepoint": "2014-10-01T00:00:00",
          "year": 2014
         },
         {
          "clade_membership": "80897ab",
          "estimated_growth_rate": 1.1493931665602084,
          "frequency": 0.3933090000000001,
          "frequency_final": 0.04159,
          "log_estimated_growth_rate": 0.060325431150814124,
          "log_observed_growth_rate": -0.9665290497707902,
          "observed_growth_rate": 0.1057438299149015,
          "projected_frequency": 0.4520666769466291,
          "timepoint": "2014-10-01T00:00:00",
          "year": 2014
         },
         {
          "clade_membership": "80f959a",
          "estimated_growth_rate": 2.058106742149932,
          "frequency": 0.2420860000000001,
          "frequency_final": 0.8856419999999982,
          "log_estimated_growth_rate": 0.3125484083246708,
          "log_observed_growth_rate": 0.5619883525324071,
          "observed_growth_rate": 3.658377601348272,
          "projected_frequency": 0.4982388287801087,
          "timepoint": "2014-10-01T00:00:00",
          "year": 2014
         },
         {
          "clade_membership": "8aaed0b",
          "estimated_growth_rate": 1.0000130001690037,
          "frequency": 0.9999869999999981,
          "frequency_final": 0.9999969999999978,
          "log_estimated_growth_rate": 5.640224702136725e-06,
          "log_observed_growth_rate": 4.338640887135368e-06,
          "observed_growth_rate": 1.0000100001300014,
          "projected_frequency": 0.9999999999999996,
          "timepoint": "2014-10-01T00:00:00",
          "year": 2014
         },
         {
          "clade_membership": "934e1c1",
          "estimated_growth_rate": 2.058106742149932,
          "frequency": 0.2420860000000001,
          "frequency_final": 0.8856419999999982,
          "log_estimated_growth_rate": 0.3125484083246708,
          "log_observed_growth_rate": 0.5619883525324071,
          "observed_growth_rate": 3.658377601348272,
          "projected_frequency": 0.4982388287801087,
          "timepoint": "2014-10-01T00:00:00",
          "year": 2014
         },
         {
          "clade_membership": "956f201",
          "estimated_growth_rate": 1.0000130001690037,
          "frequency": 0.9999869999999981,
          "frequency_final": 0.9999969999999978,
          "log_estimated_growth_rate": 5.640224702136725e-06,
          "log_observed_growth_rate": 4.338640887135368e-06,
          "observed_growth_rate": 1.0000100001300014,
          "projected_frequency": 0.9999999999999996,
          "timepoint": "2014-10-01T00:00:00",
          "year": 2014
         },
         {
          "clade_membership": "a229f16",
          "estimated_growth_rate": 1.0000503962086382,
          "frequency": 0.9999419999999981,
          "frequency_final": 0.9999969999999978,
          "log_estimated_growth_rate": 2.1864378737231453e-05,
          "log_observed_growth_rate": 2.3863061272678664e-05,
          "observed_growth_rate": 1.0000550031901847,
          "projected_frequency": 0.9999923932856561,
          "timepoint": "2014-10-01T00:00:00",
          "year": 2014
         },
         {
          "clade_membership": "bc4cbe3",
          "estimated_growth_rate": 1.0000130001690037,
          "frequency": 0.9999869999999981,
          "frequency_final": 0.9999969999999978,
          "log_estimated_growth_rate": 5.640224702136725e-06,
          "log_observed_growth_rate": 4.338640887135368e-06,
          "observed_growth_rate": 1.0000100001300014,
          "projected_frequency": 0.9999999999999996,
          "timepoint": "2014-10-01T00:00:00",
          "year": 2014
         },
         {
          "clade_membership": "c9346ca",
          "estimated_growth_rate": 1.132235332203617,
          "frequency": 0.4005790000000002,
          "frequency_final": 0.06497700000000001,
          "log_estimated_growth_rate": 0.053810378814226,
          "log_observed_growth_rate": -0.7843784298030883,
          "observed_growth_rate": 0.16220770434795628,
          "projected_frequency": 0.45354969713879284,
          "timepoint": "2014-10-01T00:00:00",
          "year": 2014
         },
         {
          "clade_membership": "ea08d9e",
          "estimated_growth_rate": 2.1589174600424417,
          "frequency": 0.2306920000000001,
          "frequency_final": 0.8856419999999982,
          "log_estimated_growth_rate": 0.333228658640235,
          "log_observed_growth_rate": 0.5828372613976367,
          "observed_growth_rate": 3.8390668076916312,
          "projected_frequency": 0.49804498669211117,
          "timepoint": "2014-10-01T00:00:00",
          "year": 2014
         },
         {
          "clade_membership": "f14fabc",
          "estimated_growth_rate": 2.05707023823428,
          "frequency": 0.2422120000000001,
          "frequency_final": 0.8856419999999982,
          "log_estimated_growth_rate": 0.3123305487602352,
          "log_observed_growth_rate": 0.5617633007907,
          "observed_growth_rate": 3.6564744934189792,
          "projected_frequency": 0.49824709654320154,
          "timepoint": "2014-10-01T00:00:00",
          "year": 2014
         },
         {
          "clade_membership": "f2ec31a",
          "estimated_growth_rate": 1.0000503962086382,
          "frequency": 0.9999419999999981,
          "frequency_final": 0.9999969999999978,
          "log_estimated_growth_rate": 2.1864378737231453e-05,
          "log_observed_growth_rate": 2.3863061272678664e-05,
          "observed_growth_rate": 1.0000550031901847,
          "projected_frequency": 0.9999923932856561,
          "timepoint": "2014-10-01T00:00:00",
          "year": 2014
         }
        ]
       },
       "encoding": {
        "tooltip": [
         {
          "field": "observed_growth_rate",
          "type": "quantitative"
         },
         {
          "field": "estimated_growth_rate",
          "type": "quantitative"
         },
         {
          "field": "timepoint",
          "type": "nominal"
         },
         {
          "field": "frequency",
          "type": "quantitative"
         },
         {
          "field": "frequency_final",
          "type": "quantitative"
         },
         {
          "field": "projected_frequency",
          "type": "quantitative"
         },
         {
          "field": "clade_membership",
          "type": "nominal"
         }
        ],
        "x": {
         "field": "observed_growth_rate",
         "scale": {
          "domain": [
           0,
           5.266184589266237
          ]
         },
         "type": "quantitative"
        },
        "y": {
         "field": "estimated_growth_rate",
         "scale": {
          "domain": [
           0,
           5.266184589266237
          ]
         },
         "type": "quantitative"
        }
       },
       "height": 400,
       "mark": "circle",
       "title": "Forecasts by LBI: Pearson's R = 0.39, MCC = 0.51",
       "width": 400
      },
      "image/png": "[encoded data removed]",
      "text/plain": [
       "<VegaLite 3 object>\n",
       "\n",
       "If you see this message, it means the renderer has not been properly enabled\n",
       "for the frontend that you are using. For more information, see\n",
       "https://altair-viz.github.io/user_guide/troubleshooting.html\n"
      ]
     },
     "execution_count": 464,
     "metadata": {},
     "output_type": "execute_result"
    }
   ],
   "source": [
    "tooltip_attributes = [\"observed_growth_rate:Q\", \"estimated_growth_rate:Q\", \"timepoint:N\", \"frequency:Q\", \"frequency_final:Q\",\n",
    "                      \"projected_frequency:Q\", \"clade_membership:N\"]\n",
    "\n",
    "chart = alt.Chart(complete_clade_frequencies).mark_circle().encode(\n",
    "    alt.X(\"observed_growth_rate:Q\", scale=alt.Scale(domain=(min_growth_rate, max_growth_rate))),\n",
    "    alt.Y(\"estimated_growth_rate:Q\", scale=alt.Scale(domain=(min_growth_rate, max_growth_rate))),\n",
    "    alt.Tooltip(tooltip_attributes)\n",
    ").properties(\n",
    "    width=400,\n",
    "    height=400,\n",
    "    title=\"Forecasts by LBI: Pearson's R = %.2f, MCC = %.2f\" % (r, mcc)\n",
    ")\n",
    "\n",
    "#chart.save(\"forecast_growth_correlation_natural_lbi.svg\")\n",
    "chart"
   ]
  },
  {
   "cell_type": "code",
   "execution_count": 465,
   "metadata": {},
   "outputs": [
    {
     "data": {
      "text/html": [
       "<div>\n",
       "<style scoped>\n",
       "    .dataframe tbody tr th:only-of-type {\n",
       "        vertical-align: middle;\n",
       "    }\n",
       "\n",
       "    .dataframe tbody tr th {\n",
       "        vertical-align: top;\n",
       "    }\n",
       "\n",
       "    .dataframe thead th {\n",
       "        text-align: right;\n",
       "    }\n",
       "</style>\n",
       "<table border=\"1\" class=\"dataframe\">\n",
       "  <thead>\n",
       "    <tr style=\"text-align: right;\">\n",
       "      <th></th>\n",
       "      <th>timepoint</th>\n",
       "      <th>clade_membership</th>\n",
       "      <th>frequency</th>\n",
       "      <th>frequency_final</th>\n",
       "      <th>observed_growth_rate</th>\n",
       "      <th>projected_frequency</th>\n",
       "      <th>estimated_growth_rate</th>\n",
       "      <th>year</th>\n",
       "      <th>log_observed_growth_rate</th>\n",
       "      <th>log_estimated_growth_rate</th>\n",
       "    </tr>\n",
       "  </thead>\n",
       "  <tbody>\n",
       "    <tr>\n",
       "      <th>0</th>\n",
       "      <td>2005-10-01</td>\n",
       "      <td>26f855a</td>\n",
       "      <td>0.572141</td>\n",
       "      <td>0.946808</td>\n",
       "      <td>1.654851</td>\n",
       "      <td>0.834142</td>\n",
       "      <td>1.457931</td>\n",
       "      <td>2005</td>\n",
       "      <td>0.218459</td>\n",
       "      <td>0.163499</td>\n",
       "    </tr>\n",
       "    <tr>\n",
       "      <th>1</th>\n",
       "      <td>2005-10-01</td>\n",
       "      <td>2806112</td>\n",
       "      <td>0.231124</td>\n",
       "      <td>0.001333</td>\n",
       "      <td>0.005767</td>\n",
       "      <td>0.144996</td>\n",
       "      <td>0.627350</td>\n",
       "      <td>2005</td>\n",
       "      <td>-1.997805</td>\n",
       "      <td>-0.201380</td>\n",
       "    </tr>\n",
       "    <tr>\n",
       "      <th>2</th>\n",
       "      <td>2005-10-01</td>\n",
       "      <td>412c00a</td>\n",
       "      <td>0.978610</td>\n",
       "      <td>1.000002</td>\n",
       "      <td>1.021860</td>\n",
       "      <td>0.999504</td>\n",
       "      <td>1.021350</td>\n",
       "      <td>2005</td>\n",
       "      <td>0.009382</td>\n",
       "      <td>0.009166</td>\n",
       "    </tr>\n",
       "    <tr>\n",
       "      <th>3</th>\n",
       "      <td>2005-10-01</td>\n",
       "      <td>44989e1</td>\n",
       "      <td>0.966999</td>\n",
       "      <td>1.000002</td>\n",
       "      <td>1.034129</td>\n",
       "      <td>0.997232</td>\n",
       "      <td>1.031264</td>\n",
       "      <td>2005</td>\n",
       "      <td>0.014560</td>\n",
       "      <td>0.013356</td>\n",
       "    </tr>\n",
       "    <tr>\n",
       "      <th>4</th>\n",
       "      <td>2005-10-01</td>\n",
       "      <td>4e35443</td>\n",
       "      <td>0.978764</td>\n",
       "      <td>1.000002</td>\n",
       "      <td>1.021699</td>\n",
       "      <td>0.999510</td>\n",
       "      <td>1.021196</td>\n",
       "      <td>2005</td>\n",
       "      <td>0.009313</td>\n",
       "      <td>0.009100</td>\n",
       "    </tr>\n",
       "  </tbody>\n",
       "</table>\n",
       "</div>"
      ],
      "text/plain": [
       "   timepoint clade_membership  frequency  frequency_final  \\\n",
       "0 2005-10-01          26f855a   0.572141         0.946808   \n",
       "1 2005-10-01          2806112   0.231124         0.001333   \n",
       "2 2005-10-01          412c00a   0.978610         1.000002   \n",
       "3 2005-10-01          44989e1   0.966999         1.000002   \n",
       "4 2005-10-01          4e35443   0.978764         1.000002   \n",
       "\n",
       "   observed_growth_rate  projected_frequency  estimated_growth_rate  year  \\\n",
       "0              1.654851             0.834142               1.457931  2005   \n",
       "1              0.005767             0.144996               0.627350  2005   \n",
       "2              1.021860             0.999504               1.021350  2005   \n",
       "3              1.034129             0.997232               1.031264  2005   \n",
       "4              1.021699             0.999510               1.021196  2005   \n",
       "\n",
       "   log_observed_growth_rate  log_estimated_growth_rate  \n",
       "0                  0.218459                   0.163499  \n",
       "1                 -1.997805                  -0.201380  \n",
       "2                  0.009382                   0.009166  \n",
       "3                  0.014560                   0.013356  \n",
       "4                  0.009313                   0.009100  "
      ]
     },
     "execution_count": 465,
     "metadata": {},
     "output_type": "execute_result"
    }
   ],
   "source": [
    "complete_clade_frequencies.head()"
   ]
  },
  {
   "cell_type": "code",
   "execution_count": 466,
   "metadata": {},
   "outputs": [],
   "source": [
    "upper_limit = np.ceil(complete_clade_frequencies.loc[:, [\"observed_growth_rate\", \"estimated_growth_rate\"]].max().max())\n",
    "\n",
    "log_lower_limit = complete_clade_frequencies.loc[:, [\"log_observed_growth_rate\", \"log_estimated_growth_rate\"]].min().min() - 0.1\n",
    "log_upper_limit = np.ceil(complete_clade_frequencies.loc[:, [\"log_observed_growth_rate\", \"log_estimated_growth_rate\"]].max().max()) + 0.1"
   ]
  },
  {
   "cell_type": "code",
   "execution_count": 467,
   "metadata": {},
   "outputs": [
    {
     "data": {
      "application/vnd.vegalite.v3+json": {
       "$schema": "https://vega.github.io/schema/vega-lite/v3.3.0.json",
       "config": {
        "mark": {
         "tooltip": null
        },
        "view": {
         "height": 300,
         "width": 400
        }
       },
       "data": {
        "name": "data-771ec45bd78400468441731ef1cdb432"
       },
       "datasets": {
        "data-771ec45bd78400468441731ef1cdb432": [
         {
          "clade_membership": "26f855a",
          "estimated_growth_rate": 1.4579311415313962,
          "frequency": 0.5721410000000003,
          "frequency_final": 0.9468080000000001,
          "log_estimated_growth_rate": 0.16349894242829965,
          "log_observed_growth_rate": 0.21845889295712057,
          "observed_growth_rate": 1.6548508147467138,
          "projected_frequency": 0.8341421812469151,
          "timepoint": "2005-10-01T00:00:00",
          "year": 2005
         },
         {
          "clade_membership": "2806112",
          "estimated_growth_rate": 0.6273496710150653,
          "frequency": 0.231124,
          "frequency_final": 0.0013329999999999998,
          "log_estimated_growth_rate": -0.2013803815655093,
          "log_observed_growth_rate": -1.997805306999136,
          "observed_growth_rate": 0.005767466814350738,
          "projected_frequency": 0.14499556536368596,
          "timepoint": "2005-10-01T00:00:00",
          "year": 2005
         },
         {
          "clade_membership": "412c00a",
          "estimated_growth_rate": 1.0213504737105388,
          "frequency": 0.9786100000000005,
          "frequency_final": 1.000002,
          "log_estimated_growth_rate": 0.00916552703825878,
          "log_observed_growth_rate": 0.00938173538375475,
          "observed_growth_rate": 1.0218595763378664,
          "projected_frequency": 0.9995037870778708,
          "timepoint": "2005-10-01T00:00:00",
          "year": 2005
         },
         {
          "clade_membership": "44989e1",
          "estimated_growth_rate": 1.0312644451230681,
          "frequency": 0.9669990000000007,
          "frequency_final": 1.000002,
          "log_estimated_growth_rate": 0.013356443032819923,
          "log_observed_growth_rate": 0.014560036542856324,
          "observed_growth_rate": 1.0341293010644264,
          "projected_frequency": 0.9972316871695626,
          "timepoint": "2005-10-01T00:00:00",
          "year": 2005
         },
         {
          "clade_membership": "4e35443",
          "estimated_growth_rate": 1.021196030451705,
          "frequency": 0.9787640000000005,
          "frequency_final": 1.000002,
          "log_estimated_growth_rate": 0.009099917434985123,
          "log_observed_growth_rate": 0.009313467303897828,
          "observed_growth_rate": 1.021698795623868,
          "projected_frequency": 0.999509911549033,
          "timepoint": "2005-10-01T00:00:00",
          "year": 2005
         },
         {
          "clade_membership": "5ce45ae",
          "estimated_growth_rate": 0.5719121875658115,
          "frequency": 0.260842,
          "frequency_final": 0.02513,
          "log_estimated_growth_rate": -0.24143091448601256,
          "log_observed_growth_rate": -1.000899899810808,
          "observed_growth_rate": 0.0963418467884773,
          "projected_frequency": 0.14917871882904143,
          "timepoint": "2005-10-01T00:00:00",
          "year": 2005
         },
         {
          "clade_membership": "6a436ac",
          "estimated_growth_rate": 0.7059218272982912,
          "frequency": 0.20135600000000003,
          "frequency_final": 0.00047599999999999997,
          "log_estimated_growth_rate": -0.15035023250523122,
          "log_observed_growth_rate": -2.1370297285732023,
          "observed_growth_rate": 0.0023639722680228047,
          "projected_frequency": 0.14214159545747476,
          "timepoint": "2005-10-01T00:00:00",
          "year": 2005
         },
         {
          "clade_membership": "7aa732d",
          "estimated_growth_rate": 1.094548671694388,
          "frequency": 0.9067170000000011,
          "frequency_final": 1.000002,
          "log_estimated_growth_rate": 0.039193747364346,
          "log_observed_growth_rate": 0.04248447607900407,
          "observed_growth_rate": 1.1028821561744169,
          "projected_frequency": 0.9924458879527215,
          "timepoint": "2005-10-01T00:00:00",
          "year": 2005
         },
         {
          "clade_membership": "9a3ff5d",
          "estimated_growth_rate": 1.021196030451705,
          "frequency": 0.9787640000000005,
          "frequency_final": 1.000002,
          "log_estimated_growth_rate": 0.009099917434985123,
          "log_observed_growth_rate": 0.009313467303897828,
          "observed_growth_rate": 1.021698795623868,
          "projected_frequency": 0.999509911549033,
          "timepoint": "2005-10-01T00:00:00",
          "year": 2005
         },
         {
          "clade_membership": "9b04f13",
          "estimated_growth_rate": 1.4972834976216436,
          "frequency": 0.5563680000000002,
          "frequency_final": 0.946706,
          "log_estimated_growth_rate": 0.17504517398143773,
          "log_observed_growth_rate": 0.23053159910987342,
          "observed_growth_rate": 1.7015824058896265,
          "projected_frequency": 0.8330406250047588,
          "timepoint": "2005-10-01T00:00:00",
          "year": 2005
         },
         {
          "clade_membership": "a5bcb4f",
          "estimated_growth_rate": 1.021196030451705,
          "frequency": 0.9787640000000005,
          "frequency_final": 1.000002,
          "log_estimated_growth_rate": 0.009099917434985123,
          "log_observed_growth_rate": 0.009313467303897828,
          "observed_growth_rate": 1.021698795623868,
          "projected_frequency": 0.999509911549033,
          "timepoint": "2005-10-01T00:00:00",
          "year": 2005
         },
         {
          "clade_membership": "aab80f6",
          "estimated_growth_rate": 1.021196030451705,
          "frequency": 0.9787640000000005,
          "frequency_final": 1.000002,
          "log_estimated_growth_rate": 0.009099917434985123,
          "log_observed_growth_rate": 0.009313467303897828,
          "observed_growth_rate": 1.021698795623868,
          "projected_frequency": 0.999509911549033,
          "timepoint": "2005-10-01T00:00:00",
          "year": 2005
         },
         {
          "clade_membership": "ddbae0a",
          "estimated_growth_rate": 1.0213504737105388,
          "frequency": 0.9786100000000005,
          "frequency_final": 1.000002,
          "log_estimated_growth_rate": 0.00916552703825878,
          "log_observed_growth_rate": 0.00938173538375475,
          "observed_growth_rate": 1.0218595763378664,
          "projected_frequency": 0.9995037870778708,
          "timepoint": "2005-10-01T00:00:00",
          "year": 2005
         },
         {
          "clade_membership": "26f855a",
          "estimated_growth_rate": 1.252872129098943,
          "frequency": 0.7836009999999992,
          "frequency_final": 0.9908409999999993,
          "log_estimated_growth_rate": 0.09779501415143581,
          "log_observed_growth_rate": 0.10179319955816546,
          "observed_growth_rate": 1.2644713317109093,
          "projected_frequency": 0.9817518532340599,
          "timepoint": "2006-04-01T00:00:00",
          "year": 2006
         },
         {
          "clade_membership": "3674124",
          "estimated_growth_rate": 1.0005559101572123,
          "frequency": 0.9993329999999992,
          "frequency_final": 0.9999899999999992,
          "log_estimated_growth_rate": 0.00024112041791561387,
          "log_observed_growth_rate": 0.0002851428628566125,
          "observed_growth_rate": 1.000657438511487,
          "projected_frequency": 0.9998885393651367,
          "timepoint": "2006-04-01T00:00:00",
          "year": 2006
         },
         {
          "clade_membership": "412c00a",
          "estimated_growth_rate": 1.0005559101572123,
          "frequency": 0.9993329999999992,
          "frequency_final": 0.9999899999999992,
          "log_estimated_growth_rate": 0.00024112041791561387,
          "log_observed_growth_rate": 0.0002851428628566125,
          "observed_growth_rate": 1.000657438511487,
          "projected_frequency": 0.9998885393651367,
          "timepoint": "2006-04-01T00:00:00",
          "year": 2006
         },
         {
          "clade_membership": "44989e1",
          "estimated_growth_rate": 1.00087967500327,
          "frequency": 0.9989559999999993,
          "frequency_final": 0.9999899999999992,
          "log_estimated_growth_rate": 0.00038148834443867016,
          "log_observed_growth_rate": 0.00044884822904739754,
          "observed_growth_rate": 1.0010350806241715,
          "projected_frequency": 0.9998347566225658,
          "timepoint": "2006-04-01T00:00:00",
          "year": 2006
         },
         {
          "clade_membership": "4ff1302",
          "estimated_growth_rate": 1.0005559101572123,
          "frequency": 0.9993329999999992,
          "frequency_final": 0.9999899999999992,
          "log_estimated_growth_rate": 0.00024112041791561387,
          "log_observed_growth_rate": 0.0002851428628566125,
          "observed_growth_rate": 1.000657438511487,
          "projected_frequency": 0.9998885393651367,
          "timepoint": "2006-04-01T00:00:00",
          "year": 2006
         },
         {
          "clade_membership": "5ce45ae",
          "estimated_growth_rate": 0.09074500972859167,
          "frequency": 0.19346100000000008,
          "frequency_final": 0.006267999999999999,
          "log_estimated_growth_rate": -1.020357037056292,
          "log_observed_growth_rate": -1.4274175961099262,
          "observed_growth_rate": 0.03239929494833582,
          "projected_frequency": 0.01755562032710308,
          "timepoint": "2006-04-01T00:00:00",
          "year": 2006
         },
         {
          "clade_membership": "7aa732d",
          "estimated_growth_rate": 1.007538219536217,
          "frequency": 0.9918719999999992,
          "frequency_final": 0.9971089999999991,
          "log_estimated_growth_rate": 0.003258256819235762,
          "log_observed_growth_rate": 0.002284708339380588,
          "observed_growth_rate": 1.005279915150342,
          "projected_frequency": 0.9993489488878258,
          "timepoint": "2006-04-01T00:00:00",
          "year": 2006
         },
         {
          "clade_membership": "8386d16",
          "estimated_growth_rate": 1.0005559101572123,
          "frequency": 0.9993329999999992,
          "frequency_final": 0.9999899999999992,
          "log_estimated_growth_rate": 0.00024112041791561387,
          "log_observed_growth_rate": 0.0002851428628566125,
          "observed_growth_rate": 1.000657438511487,
          "projected_frequency": 0.9998885393651367,
          "timepoint": "2006-04-01T00:00:00",
          "year": 2006
         },
         {
          "clade_membership": "8517059",
          "estimated_growth_rate": 0.6298263677029575,
          "frequency": 0.28913400000000006,
          "frequency_final": 0.0036929999999999997,
          "log_estimated_growth_rate": -0.1999002790745436,
          "log_observed_growth_rate": -1.7911480713401071,
          "observed_growth_rate": 0.012772624457863825,
          "projected_frequency": 0.18210421699942694,
          "timepoint": "2006-04-01T00:00:00",
          "year": 2006
         },
         {
          "clade_membership": "85356dd",
          "estimated_growth_rate": 1.0005559101572123,
          "frequency": 0.9993329999999992,
          "frequency_final": 0.9999899999999992,
          "log_estimated_growth_rate": 0.00024112041791561387,
          "log_observed_growth_rate": 0.0002851428628566125,
          "observed_growth_rate": 1.000657438511487,
          "projected_frequency": 0.9998885393651367,
          "timepoint": "2006-04-01T00:00:00",
          "year": 2006
         },
         {
          "clade_membership": "9a3ff5d",
          "estimated_growth_rate": 1.0005559101572123,
          "frequency": 0.9993329999999992,
          "frequency_final": 0.9999899999999992,
          "log_estimated_growth_rate": 0.00024112041791561387,
          "log_observed_growth_rate": 0.0002851428628566125,
          "observed_growth_rate": 1.000657438511487,
          "projected_frequency": 0.9998885393651367,
          "timepoint": "2006-04-01T00:00:00",
          "year": 2006
         },
         {
          "clade_membership": "9b04f13",
          "estimated_growth_rate": 1.2918988459760385,
          "frequency": 0.7568009999999993,
          "frequency_final": 0.9908409999999993,
          "log_estimated_growth_rate": 0.11109900194271036,
          "log_observed_growth_rate": 0.11688688283708318,
          "observed_growth_rate": 1.309249062831577,
          "projected_frequency": 0.977710338533511,
          "timepoint": "2006-04-01T00:00:00",
          "year": 2006
         },
         {
          "clade_membership": "a5bcb4f",
          "estimated_growth_rate": 1.0005559101572123,
          "frequency": 0.9993329999999992,
          "frequency_final": 0.9999899999999992,
          "log_estimated_growth_rate": 0.00024112041791561387,
          "log_observed_growth_rate": 0.0002851428628566125,
          "observed_growth_rate": 1.000657438511487,
          "projected_frequency": 0.9998885393651367,
          "timepoint": "2006-04-01T00:00:00",
          "year": 2006
         },
         {
          "clade_membership": "aab80f6",
          "estimated_growth_rate": 1.0005559101572123,
          "frequency": 0.9993329999999992,
          "frequency_final": 0.9999899999999992,
          "log_estimated_growth_rate": 0.00024112041791561387,
          "log_observed_growth_rate": 0.0002851428628566125,
          "observed_growth_rate": 1.000657438511487,
          "projected_frequency": 0.9998885393651367,
          "timepoint": "2006-04-01T00:00:00",
          "year": 2006
         },
         {
          "clade_membership": "ddbae0a",
          "estimated_growth_rate": 1.0005559101572123,
          "frequency": 0.9993329999999992,
          "frequency_final": 0.9999899999999992,
          "log_estimated_growth_rate": 0.00024112041791561387,
          "log_observed_growth_rate": 0.0002851428628566125,
          "observed_growth_rate": 1.000657438511487,
          "projected_frequency": 0.9998885393651367,
          "timepoint": "2006-04-01T00:00:00",
          "year": 2006
         },
         {
          "clade_membership": "26f855a",
          "estimated_growth_rate": 1.0519354547538526,
          "frequency": 0.9468080000000001,
          "frequency_final": 0.9965900000000004,
          "log_estimated_growth_rate": 0.021966469955657857,
          "log_observed_growth_rate": 0.02223171700210028,
          "observed_growth_rate": 1.0525787699301234,
          "projected_frequency": 0.9959809040445858,
          "timepoint": "2006-10-01T00:00:00",
          "year": 2006
         },
         {
          "clade_membership": "3a81d99",
          "estimated_growth_rate": 0.9999980000040002,
          "frequency": 1.000002,
          "frequency_final": 0.9999610000000004,
          "log_estimated_growth_rate": -8.67720375633604e-07,
          "log_observed_growth_rate": -1.7788614235444045e-05,
          "observed_growth_rate": 0.9999590000820002,
          "projected_frequency": 1.0000000000000002,
          "timepoint": "2006-10-01T00:00:00",
          "year": 2006
         },
         {
          "clade_membership": "3c0baec",
          "estimated_growth_rate": 1.1205195308122773,
          "frequency": 0.47371199999999986,
          "frequency_final": 0.7944189999999995,
          "log_estimated_growth_rate": 0.04932102028043854,
          "log_observed_growth_rate": 0.22416575050782905,
          "observed_growth_rate": 1.6770083932853712,
          "projected_frequency": 0.5308035479801453,
          "timepoint": "2006-10-01T00:00:00",
          "year": 2006
         },
         {
          "clade_membership": "412c00a",
          "estimated_growth_rate": 0.9999980000040002,
          "frequency": 1.000002,
          "frequency_final": 0.9999610000000004,
          "log_estimated_growth_rate": -8.67720375633604e-07,
          "log_observed_growth_rate": -1.7788614235444045e-05,
          "observed_growth_rate": 0.9999590000820002,
          "projected_frequency": 1.0000000000000002,
          "timepoint": "2006-10-01T00:00:00",
          "year": 2006
         },
         {
          "clade_membership": "44989e1",
          "estimated_growth_rate": 0.9999980000040002,
          "frequency": 1.000002,
          "frequency_final": 0.9999610000000004,
          "log_estimated_growth_rate": -8.67720375633604e-07,
          "log_observed_growth_rate": -1.7788614235444045e-05,
          "observed_growth_rate": 0.9999590000820002,
          "projected_frequency": 1.0000000000000002,
          "timepoint": "2006-10-01T00:00:00",
          "year": 2006
         },
         {
          "clade_membership": "4e35443",
          "estimated_growth_rate": 0.9999980000040002,
          "frequency": 1.000002,
          "frequency_final": 0.9999610000000004,
          "log_estimated_growth_rate": -8.67720375633604e-07,
          "log_observed_growth_rate": -1.7788614235444045e-05,
          "observed_growth_rate": 0.9999590000820002,
          "projected_frequency": 1.0000000000000002,
          "timepoint": "2006-10-01T00:00:00",
          "year": 2006
         },
         {
          "clade_membership": "4ff1302",
          "estimated_growth_rate": 0.9999980000040002,
          "frequency": 1.000002,
          "frequency_final": 0.9999610000000004,
          "log_estimated_growth_rate": -8.67720375633604e-07,
          "log_observed_growth_rate": -1.7788614235444045e-05,
          "observed_growth_rate": 0.9999590000820002,
          "projected_frequency": 1.0000000000000002,
          "timepoint": "2006-10-01T00:00:00",
          "year": 2006
         },
         {
          "clade_membership": "7aa732d",
          "estimated_growth_rate": 0.9999980000040002,
          "frequency": 1.000002,
          "frequency_final": 0.9999610000000004,
          "log_estimated_growth_rate": -8.67720375633604e-07,
          "log_observed_growth_rate": -1.7788614235444045e-05,
          "observed_growth_rate": 0.9999590000820002,
          "projected_frequency": 1.0000000000000002,
          "timepoint": "2006-10-01T00:00:00",
          "year": 2006
         },
         {
          "clade_membership": "8386d16",
          "estimated_growth_rate": 0.9999980000040002,
          "frequency": 1.000002,
          "frequency_final": 0.9999610000000004,
          "log_estimated_growth_rate": -8.67720375633604e-07,
          "log_observed_growth_rate": -1.7788614235444045e-05,
          "observed_growth_rate": 0.9999590000820002,
          "projected_frequency": 1.0000000000000002,
          "timepoint": "2006-10-01T00:00:00",
          "year": 2006
         },
         {
          "clade_membership": "8517059",
          "estimated_growth_rate": 1.1096401648730085,
          "frequency": 0.2618699999999998,
          "frequency_final": 0.000286,
          "log_estimated_growth_rate": 0.045018895934700626,
          "log_observed_growth_rate": -2.310500056552447,
          "observed_growth_rate": 0.0010921449574216222,
          "projected_frequency": 0.29058146997529455,
          "timepoint": "2006-10-01T00:00:00",
          "year": 2006
         },
         {
          "clade_membership": "85356dd",
          "estimated_growth_rate": 0.9999980000040002,
          "frequency": 1.000002,
          "frequency_final": 0.9999610000000004,
          "log_estimated_growth_rate": -8.67720375633604e-07,
          "log_observed_growth_rate": -1.7788614235444045e-05,
          "observed_growth_rate": 0.9999590000820002,
          "projected_frequency": 1.0000000000000002,
          "timepoint": "2006-10-01T00:00:00",
          "year": 2006
         },
         {
          "clade_membership": "9a3ff5d",
          "estimated_growth_rate": 0.9999980000040002,
          "frequency": 1.000002,
          "frequency_final": 0.9999610000000004,
          "log_estimated_growth_rate": -8.67720375633604e-07,
          "log_observed_growth_rate": -1.7788614235444045e-05,
          "observed_growth_rate": 0.9999590000820002,
          "projected_frequency": 1.0000000000000002,
          "timepoint": "2006-10-01T00:00:00",
          "year": 2006
         },
         {
          "clade_membership": "9b04f13",
          "estimated_growth_rate": 1.0520418967676874,
          "frequency": 0.946706,
          "frequency_final": 0.9965900000000004,
          "log_estimated_growth_rate": 0.022010366101133317,
          "log_observed_growth_rate": 0.022278456870227822,
          "observed_growth_rate": 1.0526921768743416,
          "projected_frequency": 0.9959743759213503,
          "timepoint": "2006-10-01T00:00:00",
          "year": 2006
         },
         {
          "clade_membership": "a5bcb4f",
          "estimated_growth_rate": 0.9999980000040002,
          "frequency": 1.000002,
          "frequency_final": 0.9999610000000004,
          "log_estimated_growth_rate": -8.67720375633604e-07,
          "log_observed_growth_rate": -1.7788614235444045e-05,
          "observed_growth_rate": 0.9999590000820002,
          "projected_frequency": 1.0000000000000002,
          "timepoint": "2006-10-01T00:00:00",
          "year": 2006
         },
         {
          "clade_membership": "aab80f6",
          "estimated_growth_rate": 0.9999980000040002,
          "frequency": 1.000002,
          "frequency_final": 0.9999610000000004,
          "log_estimated_growth_rate": -8.67720375633604e-07,
          "log_observed_growth_rate": -1.7788614235444045e-05,
          "observed_growth_rate": 0.9999590000820002,
          "projected_frequency": 1.0000000000000002,
          "timepoint": "2006-10-01T00:00:00",
          "year": 2006
         },
         {
          "clade_membership": "1518fdb",
          "estimated_growth_rate": 0.24839877421846723,
          "frequency": 0.22855100000000003,
          "frequency_final": 0.02609700000000002,
          "log_estimated_growth_rate": -0.5991633782973893,
          "log_observed_growth_rate": -0.9279579777032031,
          "observed_growth_rate": 0.11418458024685964,
          "projected_frequency": 0.056771788246404914,
          "timepoint": "2007-04-01T00:00:00",
          "year": 2007
         },
         {
          "clade_membership": "2fd19ac",
          "estimated_growth_rate": 0.21089987874327035,
          "frequency": 0.26646000000000003,
          "frequency_final": 0.0018449999999999999,
          "log_estimated_growth_rate": -0.6698902845857737,
          "log_observed_growth_rate": -1.9731765695393153,
          "observed_growth_rate": 0.006924116190047285,
          "projected_frequency": 0.056196381689931824,
          "timepoint": "2007-04-01T00:00:00",
          "year": 2007
         },
         {
          "clade_membership": "3c0baec",
          "estimated_growth_rate": 1.254614173712711,
          "frequency": 0.7495240000000001,
          "frequency_final": 0.005121,
          "log_estimated_growth_rate": 0.09839274016100308,
          "log_observed_growth_rate": -2.0885422050226885,
          "observed_growth_rate": 0.0068323362560771895,
          "projected_frequency": 0.940363433937846,
          "timepoint": "2007-04-01T00:00:00",
          "year": 2007
         },
         {
          "clade_membership": "412c00a",
          "estimated_growth_rate": 1.0000100001000016,
          "frequency": 0.9999899999999992,
          "frequency_final": 0.9999620000000013,
          "log_estimated_growth_rate": 4.338627884659436e-06,
          "log_observed_growth_rate": -1.2148388665843309e-05,
          "observed_growth_rate": 0.9999719997199994,
          "projected_frequency": 0.9999999999999999,
          "timepoint": "2007-04-01T00:00:00",
          "year": 2007
         },
         {
          "clade_membership": "44989e1",
          "estimated_growth_rate": 1.0000100001000016,
          "frequency": 0.9999899999999992,
          "frequency_final": 0.9999620000000013,
          "log_estimated_growth_rate": 4.338627884659436e-06,
          "log_observed_growth_rate": -1.2148388665843309e-05,
          "observed_growth_rate": 0.9999719997199994,
          "projected_frequency": 0.9999999999999999,
          "timepoint": "2007-04-01T00:00:00",
          "year": 2007
         },
         {
          "clade_membership": "4ff1302",
          "estimated_growth_rate": 1.0000100001000016,
          "frequency": 0.9999899999999992,
          "frequency_final": 0.9999620000000013,
          "log_estimated_growth_rate": 4.338627884659436e-06,
          "log_observed_growth_rate": -1.2148388665843309e-05,
          "observed_growth_rate": 0.9999719997199994,
          "projected_frequency": 0.9999999999999999,
          "timepoint": "2007-04-01T00:00:00",
          "year": 2007
         },
         {
          "clade_membership": "7aa732d",
          "estimated_growth_rate": 1.0024279922350035,
          "frequency": 0.9971089999999991,
          "frequency_final": 0.9999620000000013,
          "log_estimated_growth_rate": 0.001052131679509947,
          "log_observed_growth_rate": 0.001239618801029496,
          "observed_growth_rate": 1.0028612719371726,
          "projected_frequency": 0.9995299729094511,
          "timepoint": "2007-04-01T00:00:00",
          "year": 2007
         },
         {
          "clade_membership": "8386d16",
          "estimated_growth_rate": 1.0000100001000016,
          "frequency": 0.9999899999999992,
          "frequency_final": 0.9999620000000013,
          "log_estimated_growth_rate": 4.338627884659436e-06,
          "log_observed_growth_rate": -1.2148388665843309e-05,
          "observed_growth_rate": 0.9999719997199994,
          "projected_frequency": 0.9999999999999999,
          "timepoint": "2007-04-01T00:00:00",
          "year": 2007
         },
         {
          "clade_membership": "85356dd",
          "estimated_growth_rate": 1.0000100001000016,
          "frequency": 0.9999899999999992,
          "frequency_final": 0.9999620000000013,
          "log_estimated_growth_rate": 4.338627884659436e-06,
          "log_observed_growth_rate": -1.2148388665843309e-05,
          "observed_growth_rate": 0.9999719997199994,
          "projected_frequency": 0.9999999999999999,
          "timepoint": "2007-04-01T00:00:00",
          "year": 2007
         },
         {
          "clade_membership": "91769ce",
          "estimated_growth_rate": 2.0527787846298935,
          "frequency": 0.4243909999999998,
          "frequency_final": 0.9649320000000016,
          "log_estimated_growth_rate": 0.3118182451938256,
          "log_observed_growth_rate": 0.3561582565923305,
          "observed_growth_rate": 2.2736862940071823,
          "projected_frequency": 0.8711808411878648,
          "timepoint": "2007-04-01T00:00:00",
          "year": 2007
         },
         {
          "clade_membership": "98a3f76",
          "estimated_growth_rate": 0.21089987874327035,
          "frequency": 0.26646000000000003,
          "frequency_final": 0.0018449999999999999,
          "log_estimated_growth_rate": -0.6698902845857737,
          "log_observed_growth_rate": -1.9731765695393153,
          "observed_growth_rate": 0.006924116190047285,
          "projected_frequency": 0.056196381689931824,
          "timepoint": "2007-04-01T00:00:00",
          "year": 2007
         },
         {
          "clade_membership": "9a3ff5d",
          "estimated_growth_rate": 1.0000100001000016,
          "frequency": 0.9999899999999992,
          "frequency_final": 0.9999620000000013,
          "log_estimated_growth_rate": 4.338627884659436e-06,
          "log_observed_growth_rate": -1.2148388665843309e-05,
          "observed_growth_rate": 0.9999719997199994,
          "projected_frequency": 0.9999999999999999,
          "timepoint": "2007-04-01T00:00:00",
          "year": 2007
         },
         {
          "clade_membership": "9b04f13",
          "estimated_growth_rate": 1.008203380109375,
          "frequency": 0.9908409999999993,
          "frequency_final": 0.9999620000000013,
          "log_estimated_growth_rate": 0.003544586345475457,
          "log_observed_growth_rate": 0.00397553358801032,
          "observed_growth_rate": 1.00920531144755,
          "projected_frequency": 0.9989692453509527,
          "timepoint": "2007-04-01T00:00:00",
          "year": 2007
         },
         {
          "clade_membership": "9f68af2",
          "estimated_growth_rate": 0.23632792146765005,
          "frequency": 0.22135300000000002,
          "frequency_final": 0.0018449999999999999,
          "log_estimated_growth_rate": -0.6202188782038845,
          "log_observed_growth_rate": -1.8929607226205665,
          "observed_growth_rate": 0.008335102754423928,
          "projected_frequency": 0.05231189440062875,
          "timepoint": "2007-04-01T00:00:00",
          "year": 2007
         },
         {
          "clade_membership": "a5fc6e2",
          "estimated_growth_rate": 0.25051798889774013,
          "frequency": 0.20387700000000003,
          "frequency_final": 0.0009239999999999999,
          "log_estimated_growth_rate": -0.5948651282860478,
          "log_observed_growth_rate": -2.0272881384605284,
          "observed_growth_rate": 0.004532144381170999,
          "projected_frequency": 0.05107485602250457,
          "timepoint": "2007-04-01T00:00:00",
          "year": 2007
         },
         {
          "clade_membership": "ac68424",
          "estimated_growth_rate": 1.254614173712711,
          "frequency": 0.7495240000000001,
          "frequency_final": 0.005121,
          "log_estimated_growth_rate": 0.09839274016100308,
          "log_observed_growth_rate": -2.0885422050226885,
          "observed_growth_rate": 0.0068323362560771895,
          "projected_frequency": 0.940363433937846,
          "timepoint": "2007-04-01T00:00:00",
          "year": 2007
         },
         {
          "clade_membership": "b122c5c",
          "estimated_growth_rate": 0.24799723125622686,
          "frequency": 0.23307699999999995,
          "frequency_final": 0.02985900000000002,
          "log_estimated_growth_rate": -0.5999633165231721,
          "log_observed_growth_rate": -0.8799768943265313,
          "observed_growth_rate": 0.12810787851225144,
          "projected_frequency": 0.05780245066950757,
          "timepoint": "2007-04-01T00:00:00",
          "year": 2007
         },
         {
          "clade_membership": "0003b07",
          "estimated_growth_rate": 1.3029143605471585,
          "frequency": 0.7321319999999998,
          "frequency_final": 0.9987219999999988,
          "log_estimated_growth_rate": 0.11477812611197331,
          "log_observed_growth_rate": 0.13469707319282362,
          "observed_growth_rate": 1.364128326585915,
          "projected_frequency": 0.953905296616112,
          "timepoint": "2007-10-01T00:00:00",
          "year": 2007
         },
         {
          "clade_membership": "26f855a",
          "estimated_growth_rate": 1.0033882551628772,
          "frequency": 0.9965900000000004,
          "frequency_final": 0.9999809999999988,
          "log_estimated_growth_rate": 0.0014675431507999897,
          "log_observed_growth_rate": 0.0014737469935744187,
          "observed_growth_rate": 1.003402602875805,
          "projected_frequency": 0.9999667012127723,
          "timepoint": "2007-10-01T00:00:00",
          "year": 2007
         },
         {
          "clade_membership": "3a81d99",
          "estimated_growth_rate": 1.0000390015210585,
          "frequency": 0.9999610000000004,
          "frequency_final": 0.9999809999999988,
          "log_estimated_growth_rate": 1.6920893859470383e-05,
          "log_observed_growth_rate": 8.67746382030052e-06,
          "observed_growth_rate": 1.0000200007800288,
          "projected_frequency": 0.9999999999999996,
          "timepoint": "2007-10-01T00:00:00",
          "year": 2007
         },
         {
          "clade_membership": "3c0baec",
          "estimated_growth_rate": 1.2096676377604099,
          "frequency": 0.7944189999999995,
          "frequency_final": 0.001259,
          "log_estimated_growth_rate": 0.08257141639553267,
          "log_observed_growth_rate": -2.5466797297509753,
          "observed_growth_rate": 0.0015848060028775756,
          "projected_frequency": 0.9609829551219865,
          "timepoint": "2007-10-01T00:00:00",
          "year": 2007
         },
         {
          "clade_membership": "412c00a",
          "estimated_growth_rate": 1.0000390015210585,
          "frequency": 0.9999610000000004,
          "frequency_final": 0.9999809999999988,
          "log_estimated_growth_rate": 1.6920893859470383e-05,
          "log_observed_growth_rate": 8.67746382030052e-06,
          "observed_growth_rate": 1.0000200007800288,
          "projected_frequency": 0.9999999999999996,
          "timepoint": "2007-10-01T00:00:00",
          "year": 2007
         },
         {
          "clade_membership": "44989e1",
          "estimated_growth_rate": 1.0000390015210585,
          "frequency": 0.9999610000000004,
          "frequency_final": 0.9999809999999988,
          "log_estimated_growth_rate": 1.6920893859470383e-05,
          "log_observed_growth_rate": 8.67746382030052e-06,
          "observed_growth_rate": 1.0000200007800288,
          "projected_frequency": 0.9999999999999996,
          "timepoint": "2007-10-01T00:00:00",
          "year": 2007
         },
         {
          "clade_membership": "4952842",
          "estimated_growth_rate": 1.0000390015210585,
          "frequency": 0.9999610000000004,
          "frequency_final": 0.9999809999999988,
          "log_estimated_growth_rate": 1.6920893859470383e-05,
          "log_observed_growth_rate": 8.67746382030052e-06,
          "observed_growth_rate": 1.0000200007800288,
          "projected_frequency": 0.9999999999999996,
          "timepoint": "2007-10-01T00:00:00",
          "year": 2007
         },
         {
          "clade_membership": "4ff1302",
          "estimated_growth_rate": 1.0000390015210585,
          "frequency": 0.9999610000000004,
          "frequency_final": 0.9999809999999988,
          "log_estimated_growth_rate": 1.6920893859470383e-05,
          "log_observed_growth_rate": 8.67746382030052e-06,
          "observed_growth_rate": 1.0000200007800288,
          "projected_frequency": 0.9999999999999996,
          "timepoint": "2007-10-01T00:00:00",
          "year": 2007
         },
         {
          "clade_membership": "7aa732d",
          "estimated_growth_rate": 1.0000390015210585,
          "frequency": 0.9999610000000004,
          "frequency_final": 0.9999809999999988,
          "log_estimated_growth_rate": 1.6920893859470383e-05,
          "log_observed_growth_rate": 8.67746382030052e-06,
          "observed_growth_rate": 1.0000200007800288,
          "projected_frequency": 0.9999999999999996,
          "timepoint": "2007-10-01T00:00:00",
          "year": 2007
         },
         {
          "clade_membership": "85356dd",
          "estimated_growth_rate": 1.0000390015210585,
          "frequency": 0.9999610000000004,
          "frequency_final": 0.9999809999999988,
          "log_estimated_growth_rate": 1.6920893859470383e-05,
          "log_observed_growth_rate": 8.67746382030052e-06,
          "observed_growth_rate": 1.0000200007800288,
          "projected_frequency": 0.9999999999999996,
          "timepoint": "2007-10-01T00:00:00",
          "year": 2007
         },
         {
          "clade_membership": "91769ce",
          "estimated_growth_rate": 1.3029143605471585,
          "frequency": 0.7321319999999998,
          "frequency_final": 0.9987219999999988,
          "log_estimated_growth_rate": 0.11477812611197331,
          "log_observed_growth_rate": 0.13469707319282362,
          "observed_growth_rate": 1.364128326585915,
          "projected_frequency": 0.953905296616112,
          "timepoint": "2007-10-01T00:00:00",
          "year": 2007
         },
         {
          "clade_membership": "9b04f13",
          "estimated_growth_rate": 1.0033882551628772,
          "frequency": 0.9965900000000004,
          "frequency_final": 0.9999809999999988,
          "log_estimated_growth_rate": 0.0014675431507999897,
          "log_observed_growth_rate": 0.0014737469935744187,
          "observed_growth_rate": 1.003402602875805,
          "projected_frequency": 0.9999667012127723,
          "timepoint": "2007-10-01T00:00:00",
          "year": 2007
         },
         {
          "clade_membership": "b32cea9",
          "estimated_growth_rate": 1.0000390015210585,
          "frequency": 0.9999610000000004,
          "frequency_final": 0.9999809999999988,
          "log_estimated_growth_rate": 1.6920893859470383e-05,
          "log_observed_growth_rate": 8.67746382030052e-06,
          "observed_growth_rate": 1.0000200007800288,
          "projected_frequency": 0.9999999999999996,
          "timepoint": "2007-10-01T00:00:00",
          "year": 2007
         },
         {
          "clade_membership": "3a81d99",
          "estimated_growth_rate": 1.0000380014440535,
          "frequency": 0.9999620000000013,
          "frequency_final": 0.9999869999999985,
          "log_estimated_growth_rate": 1.648701655045186e-05,
          "log_observed_growth_rate": 1.0846791848348982e-05,
          "observed_growth_rate": 1.0000250009500333,
          "projected_frequency": 1,
          "timepoint": "2008-04-01T00:00:00",
          "year": 2008
         },
         {
          "clade_membership": "412c00a",
          "estimated_growth_rate": 1.0000380014440535,
          "frequency": 0.9999620000000013,
          "frequency_final": 0.9999869999999985,
          "log_estimated_growth_rate": 1.648701655045186e-05,
          "log_observed_growth_rate": 1.0846791848348982e-05,
          "observed_growth_rate": 1.0000250009500333,
          "projected_frequency": 1,
          "timepoint": "2008-04-01T00:00:00",
          "year": 2008
         },
         {
          "clade_membership": "44989e1",
          "estimated_growth_rate": 1.0000380014440535,
          "frequency": 0.9999620000000013,
          "frequency_final": 0.9999869999999985,
          "log_estimated_growth_rate": 1.648701655045186e-05,
          "log_observed_growth_rate": 1.0846791848348982e-05,
          "observed_growth_rate": 1.0000250009500333,
          "projected_frequency": 1,
          "timepoint": "2008-04-01T00:00:00",
          "year": 2008
         },
         {
          "clade_membership": "4952842",
          "estimated_growth_rate": 1.0000380014440535,
          "frequency": 0.9999620000000013,
          "frequency_final": 0.9999869999999985,
          "log_estimated_growth_rate": 1.648701655045186e-05,
          "log_observed_growth_rate": 1.0846791848348982e-05,
          "observed_growth_rate": 1.0000250009500333,
          "projected_frequency": 1,
          "timepoint": "2008-04-01T00:00:00",
          "year": 2008
         },
         {
          "clade_membership": "4cd02c7",
          "estimated_growth_rate": 0.04137984258190001,
          "frequency": 0.158616,
          "frequency_final": 0.006718999999999994,
          "log_estimated_growth_rate": -1.324353318422199,
          "log_observed_growth_rate": -1.3155153821964023,
          "observed_growth_rate": 0.04236016543097792,
          "projected_frequency": 0.006563505110970652,
          "timepoint": "2008-04-01T00:00:00",
          "year": 2008
         },
         {
          "clade_membership": "4ff1302",
          "estimated_growth_rate": 1.0000380014440535,
          "frequency": 0.9999620000000013,
          "frequency_final": 0.9999869999999985,
          "log_estimated_growth_rate": 1.648701655045186e-05,
          "log_observed_growth_rate": 1.0846791848348982e-05,
          "observed_growth_rate": 1.0000250009500333,
          "projected_frequency": 1,
          "timepoint": "2008-04-01T00:00:00",
          "year": 2008
         },
         {
          "clade_membership": "7aa732d",
          "estimated_growth_rate": 1.0000380014440535,
          "frequency": 0.9999620000000013,
          "frequency_final": 0.9999869999999985,
          "log_estimated_growth_rate": 1.648701655045186e-05,
          "log_observed_growth_rate": 1.0846791848348982e-05,
          "observed_growth_rate": 1.0000250009500333,
          "projected_frequency": 1,
          "timepoint": "2008-04-01T00:00:00",
          "year": 2008
         },
         {
          "clade_membership": "85356dd",
          "estimated_growth_rate": 1.0000380014440535,
          "frequency": 0.9999620000000013,
          "frequency_final": 0.9999869999999985,
          "log_estimated_growth_rate": 1.648701655045186e-05,
          "log_observed_growth_rate": 1.0846791848348982e-05,
          "observed_growth_rate": 1.0000250009500333,
          "projected_frequency": 1,
          "timepoint": "2008-04-01T00:00:00",
          "year": 2008
         },
         {
          "clade_membership": "91769ce",
          "estimated_growth_rate": 1.0291951508870798,
          "frequency": 0.9649320000000016,
          "frequency_final": 0.9999869999999985,
          "log_estimated_growth_rate": 0.012484977024709295,
          "log_observed_growth_rate": 0.015481883369399478,
          "observed_growth_rate": 1.0363289848403794,
          "projected_frequency": 0.9931033353357732,
          "timepoint": "2008-04-01T00:00:00",
          "year": 2008
         },
         {
          "clade_membership": "9b04f13",
          "estimated_growth_rate": 1.0000380014440535,
          "frequency": 0.9999620000000013,
          "frequency_final": 0.9999869999999985,
          "log_estimated_growth_rate": 1.648701655045186e-05,
          "log_observed_growth_rate": 1.0846791848348982e-05,
          "observed_growth_rate": 1.0000250009500333,
          "projected_frequency": 1,
          "timepoint": "2008-04-01T00:00:00",
          "year": 2008
         },
         {
          "clade_membership": "b32cea9",
          "estimated_growth_rate": 1.0000380014440535,
          "frequency": 0.9999620000000013,
          "frequency_final": 0.9999869999999985,
          "log_estimated_growth_rate": 1.648701655045186e-05,
          "log_observed_growth_rate": 1.0846791848348982e-05,
          "observed_growth_rate": 1.0000250009500333,
          "projected_frequency": 1,
          "timepoint": "2008-04-01T00:00:00",
          "year": 2008
         },
         {
          "clade_membership": "d633ffe",
          "estimated_growth_rate": 0.04739483812123246,
          "frequency": 0.167144,
          "frequency_final": 0.006718999999999994,
          "log_estimated_growth_rate": -1.2752307009636035,
          "log_observed_growth_rate": -1.338120333763271,
          "observed_growth_rate": 0.04019887043507392,
          "projected_frequency": 0.007921762822935278,
          "timepoint": "2008-04-01T00:00:00",
          "year": 2008
         },
         {
          "clade_membership": "0003b07",
          "estimated_growth_rate": 1.000808242065738,
          "frequency": 0.9987219999999988,
          "frequency_final": 0.9999610000000012,
          "log_estimated_growth_rate": 0.0003505224637422894,
          "log_observed_growth_rate": 0.0005379072365471059,
          "observed_growth_rate": 1.001240585468231,
          "projected_frequency": 0.9995292091323769,
          "timepoint": "2008-10-01T00:00:00",
          "year": 2008
         },
         {
          "clade_membership": "3a81d99",
          "estimated_growth_rate": 1.0000190003610088,
          "frequency": 0.9999809999999988,
          "frequency_final": 0.9999610000000012,
          "log_estimated_growth_rate": 8.243430039769325e-06,
          "log_observed_growth_rate": -8.677463819967192e-06,
          "observed_growth_rate": 0.9999799996199952,
          "projected_frequency": 1.0000000000000007,
          "timepoint": "2008-10-01T00:00:00",
          "year": 2008
         },
         {
          "clade_membership": "412c00a",
          "estimated_growth_rate": 1.0000190003610088,
          "frequency": 0.9999809999999988,
          "frequency_final": 0.9999610000000012,
          "log_estimated_growth_rate": 8.243430039769325e-06,
          "log_observed_growth_rate": -8.677463819967192e-06,
          "observed_growth_rate": 0.9999799996199952,
          "projected_frequency": 1.0000000000000007,
          "timepoint": "2008-10-01T00:00:00",
          "year": 2008
         },
         {
          "clade_membership": "41bb3e2",
          "estimated_growth_rate": 1.6699377542525609,
          "frequency": 0.4530129999999999,
          "frequency_final": 0.9998340000000012,
          "log_estimated_growth_rate": 0.22231636219049053,
          "log_observed_growth_rate": 0.34329376221962726,
          "observed_growth_rate": 2.207075735133432,
          "projected_frequency": 0.7565035118672152,
          "timepoint": "2008-10-01T00:00:00",
          "year": 2008
         },
         {
          "clade_membership": "44989e1",
          "estimated_growth_rate": 1.0000190003610088,
          "frequency": 0.9999809999999988,
          "frequency_final": 0.9999610000000012,
          "log_estimated_growth_rate": 8.243430039769325e-06,
          "log_observed_growth_rate": -8.677463819967192e-06,
          "observed_growth_rate": 0.9999799996199952,
          "projected_frequency": 1.0000000000000007,
          "timepoint": "2008-10-01T00:00:00",
          "year": 2008
         },
         {
          "clade_membership": "4952842",
          "estimated_growth_rate": 1.0000190003610088,
          "frequency": 0.9999809999999988,
          "frequency_final": 0.9999610000000012,
          "log_estimated_growth_rate": 8.243430039769325e-06,
          "log_observed_growth_rate": -8.677463819967192e-06,
          "observed_growth_rate": 0.9999799996199952,
          "projected_frequency": 1.0000000000000007,
          "timepoint": "2008-10-01T00:00:00",
          "year": 2008
         },
         {
          "clade_membership": "4cd02c7",
          "estimated_growth_rate": 0.7582307842378924,
          "frequency": 0.23162999999999984,
          "frequency_final": 1.4999999999999999e-05,
          "log_estimated_growth_rate": -0.11960371901403967,
          "log_observed_growth_rate": -2.360199678436924,
          "observed_growth_rate": 6.475845097785266e-05,
          "projected_frequency": 0.1756289965530229,
          "timepoint": "2008-10-01T00:00:00",
          "year": 2008
         },
         {
          "clade_membership": "4ff1302",
          "estimated_growth_rate": 1.0000190003610088,
          "frequency": 0.9999809999999988,
          "frequency_final": 0.9999610000000012,
          "log_estimated_growth_rate": 8.243430039769325e-06,
          "log_observed_growth_rate": -8.677463819967192e-06,
          "observed_growth_rate": 0.9999799996199952,
          "projected_frequency": 1.0000000000000007,
          "timepoint": "2008-10-01T00:00:00",
          "year": 2008
         },
         {
          "clade_membership": "7aa732d",
          "estimated_growth_rate": 1.0000190003610088,
          "frequency": 0.9999809999999988,
          "frequency_final": 0.9999610000000012,
          "log_estimated_growth_rate": 8.243430039769325e-06,
          "log_observed_growth_rate": -8.677463819967192e-06,
          "observed_growth_rate": 0.9999799996199952,
          "projected_frequency": 1.0000000000000007,
          "timepoint": "2008-10-01T00:00:00",
          "year": 2008
         },
         {
          "clade_membership": "91769ce",
          "estimated_growth_rate": 1.000808242065738,
          "frequency": 0.9987219999999988,
          "frequency_final": 0.9999610000000012,
          "log_estimated_growth_rate": 0.0003505224637422894,
          "log_observed_growth_rate": 0.0005379072365471059,
          "observed_growth_rate": 1.001240585468231,
          "projected_frequency": 0.9995292091323769,
          "timepoint": "2008-10-01T00:00:00",
          "year": 2008
         },
         {
          "clade_membership": "9b04f13",
          "estimated_growth_rate": 1.0000190003610088,
          "frequency": 0.9999809999999988,
          "frequency_final": 0.9999610000000012,
          "log_estimated_growth_rate": 8.243430039769325e-06,
          "log_observed_growth_rate": -8.677463819967192e-06,
          "observed_growth_rate": 0.9999799996199952,
          "projected_frequency": 1.0000000000000007,
          "timepoint": "2008-10-01T00:00:00",
          "year": 2008
         },
         {
          "clade_membership": "b32cea9",
          "estimated_growth_rate": 1.0000190003610088,
          "frequency": 0.9999809999999988,
          "frequency_final": 0.9999610000000012,
          "log_estimated_growth_rate": 8.243430039769325e-06,
          "log_observed_growth_rate": -8.677463819967192e-06,
          "observed_growth_rate": 0.9999799996199952,
          "projected_frequency": 1.0000000000000007,
          "timepoint": "2008-10-01T00:00:00",
          "year": 2008
         },
         {
          "clade_membership": "0003b07",
          "estimated_growth_rate": 1.0000130001690037,
          "frequency": 0.9999869999999985,
          "frequency_final": 1.0000019999999998,
          "log_estimated_growth_rate": 5.640224702136725e-06,
          "log_observed_growth_rate": 6.507945077851391e-06,
          "observed_growth_rate": 1.000015000195004,
          "projected_frequency": 1,
          "timepoint": "2009-04-01T00:00:00",
          "year": 2009
         },
         {
          "clade_membership": "33f72b5",
          "estimated_growth_rate": 0.11023163946220002,
          "frequency": 0.19045,
          "frequency_final": 0.002926,
          "log_estimated_growth_rate": -0.9397587377338317,
          "log_observed_growth_rate": -1.6881050754197189,
          "observed_growth_rate": 0.015363612496718299,
          "projected_frequency": 0.020993615735575996,
          "timepoint": "2009-04-01T00:00:00",
          "year": 2009
         },
         {
          "clade_membership": "3c0baec",
          "estimated_growth_rate": 1.0000130001690037,
          "frequency": 0.9999869999999985,
          "frequency_final": 1.0000019999999998,
          "log_estimated_growth_rate": 5.640224702136725e-06,
          "log_observed_growth_rate": 6.507945077851391e-06,
          "observed_growth_rate": 1.000015000195004,
          "projected_frequency": 1,
          "timepoint": "2009-04-01T00:00:00",
          "year": 2009
         },
         {
          "clade_membership": "41bb3e2",
          "estimated_growth_rate": 1.06296950637059,
          "frequency": 0.9354169999999987,
          "frequency_final": 0.9927459999999999,
          "log_estimated_growth_rate": 0.02649333097078145,
          "log_observed_growth_rate": 0.025806104146713995,
          "observed_growth_rate": 1.0612871051092734,
          "projected_frequency": 0.9943197467406568,
          "timepoint": "2009-04-01T00:00:00",
          "year": 2009
         },
         {
          "clade_membership": "44989e1",
          "estimated_growth_rate": 1.0000130001690037,
          "frequency": 0.9999869999999985,
          "frequency_final": 1.0000019999999998,
          "log_estimated_growth_rate": 5.640224702136725e-06,
          "log_observed_growth_rate": 6.507945077851391e-06,
          "observed_growth_rate": 1.000015000195004,
          "projected_frequency": 1,
          "timepoint": "2009-04-01T00:00:00",
          "year": 2009
         },
         {
          "clade_membership": "7aa732d",
          "estimated_growth_rate": 1.0000130001690037,
          "frequency": 0.9999869999999985,
          "frequency_final": 1.0000019999999998,
          "log_estimated_growth_rate": 5.640224702136725e-06,
          "log_observed_growth_rate": 6.507945077851391e-06,
          "observed_growth_rate": 1.000015000195004,
          "projected_frequency": 1,
          "timepoint": "2009-04-01T00:00:00",
          "year": 2009
         },
         {
          "clade_membership": "91769ce",
          "estimated_growth_rate": 1.0000130001690037,
          "frequency": 0.9999869999999985,
          "frequency_final": 1.0000019999999998,
          "log_estimated_growth_rate": 5.640224702136725e-06,
          "log_observed_growth_rate": 6.507945077851391e-06,
          "observed_growth_rate": 1.000015000195004,
          "projected_frequency": 1,
          "timepoint": "2009-04-01T00:00:00",
          "year": 2009
         },
         {
          "clade_membership": "9b04f13",
          "estimated_growth_rate": 1.0000130001690037,
          "frequency": 0.9999869999999985,
          "frequency_final": 1.0000019999999998,
          "log_estimated_growth_rate": 5.640224702136725e-06,
          "log_observed_growth_rate": 6.507945077851391e-06,
          "observed_growth_rate": 1.000015000195004,
          "projected_frequency": 1,
          "timepoint": "2009-04-01T00:00:00",
          "year": 2009
         },
         {
          "clade_membership": "b7ff90b",
          "estimated_growth_rate": 1.06296950637059,
          "frequency": 0.9354169999999987,
          "frequency_final": 0.9927459999999999,
          "log_estimated_growth_rate": 0.02649333097078145,
          "log_observed_growth_rate": 0.025806104146713995,
          "observed_growth_rate": 1.0612871051092734,
          "projected_frequency": 0.9943197467406568,
          "timepoint": "2009-04-01T00:00:00",
          "year": 2009
         },
         {
          "clade_membership": "0003b07",
          "estimated_growth_rate": 1.0000390015210576,
          "frequency": 0.9999610000000012,
          "frequency_final": 0.9999319999999983,
          "log_estimated_growth_rate": 1.6920893859181097e-05,
          "log_observed_growth_rate": -1.2582630517562197e-05,
          "observed_growth_rate": 0.9999709988689529,
          "projected_frequency": 0.9999999999999996,
          "timepoint": "2009-10-01T00:00:00",
          "year": 2009
         },
         {
          "clade_membership": "3c0baec",
          "estimated_growth_rate": 1.0000390015210576,
          "frequency": 0.9999610000000012,
          "frequency_final": 0.9999319999999983,
          "log_estimated_growth_rate": 1.6920893859181097e-05,
          "log_observed_growth_rate": -1.2582630517562197e-05,
          "observed_growth_rate": 0.9999709988689529,
          "projected_frequency": 0.9999999999999996,
          "timepoint": "2009-10-01T00:00:00",
          "year": 2009
         },
         {
          "clade_membership": "41bb3e2",
          "estimated_growth_rate": 1.0001608728198186,
          "frequency": 0.9998340000000012,
          "frequency_final": 0.9999319999999983,
          "log_estimated_growth_rate": 6.979076201825388e-05,
          "log_observed_growth_rate": 4.252331117546858e-05,
          "observed_growth_rate": 1.000098016270698,
          "projected_frequency": 0.9999948461149317,
          "timepoint": "2009-10-01T00:00:00",
          "year": 2009
         },
         {
          "clade_membership": "44989e1",
          "estimated_growth_rate": 1.0000390015210576,
          "frequency": 0.9999610000000012,
          "frequency_final": 0.9999319999999983,
          "log_estimated_growth_rate": 1.6920893859181097e-05,
          "log_observed_growth_rate": -1.2582630517562197e-05,
          "observed_growth_rate": 0.9999709988689529,
          "projected_frequency": 0.9999999999999996,
          "timepoint": "2009-10-01T00:00:00",
          "year": 2009
         },
         {
          "clade_membership": "7aa732d",
          "estimated_growth_rate": 1.0000390015210576,
          "frequency": 0.9999610000000012,
          "frequency_final": 0.9999319999999983,
          "log_estimated_growth_rate": 1.6920893859181097e-05,
          "log_observed_growth_rate": -1.2582630517562197e-05,
          "observed_growth_rate": 0.9999709988689529,
          "projected_frequency": 0.9999999999999996,
          "timepoint": "2009-10-01T00:00:00",
          "year": 2009
         },
         {
          "clade_membership": "819ddab",
          "estimated_growth_rate": 1.6197977095720282,
          "frequency": 0.5304890000000001,
          "frequency_final": 0.146914,
          "log_estimated_growth_rate": 0.2091480029622388,
          "log_observed_growth_rate": -0.5554849988070163,
          "observed_growth_rate": 0.2769407094209304,
          "projected_frequency": 0.8592848671531558,
          "timepoint": "2009-10-01T00:00:00",
          "year": 2009
         },
         {
          "clade_membership": "91769ce",
          "estimated_growth_rate": 1.0000390015210576,
          "frequency": 0.9999610000000012,
          "frequency_final": 0.9999319999999983,
          "log_estimated_growth_rate": 1.6920893859181097e-05,
          "log_observed_growth_rate": -1.2582630517562197e-05,
          "observed_growth_rate": 0.9999709988689529,
          "projected_frequency": 0.9999999999999996,
          "timepoint": "2009-10-01T00:00:00",
          "year": 2009
         },
         {
          "clade_membership": "956f201",
          "estimated_growth_rate": 0.36628075162062773,
          "frequency": 0.35824199999999995,
          "frequency_final": 0.8528559999999983,
          "log_estimated_growth_rate": -0.43409931726068773,
          "log_observed_growth_rate": 0.37599752896956457,
          "observed_growth_rate": 2.380670049854563,
          "projected_frequency": 0.1312171490220769,
          "timepoint": "2009-10-01T00:00:00",
          "year": 2009
         },
         {
          "clade_membership": "9b04f13",
          "estimated_growth_rate": 1.0000390015210576,
          "frequency": 0.9999610000000012,
          "frequency_final": 0.9999319999999983,
          "log_estimated_growth_rate": 1.6920893859181097e-05,
          "log_observed_growth_rate": -1.2582630517562197e-05,
          "observed_growth_rate": 0.9999709988689529,
          "projected_frequency": 0.9999999999999996,
          "timepoint": "2009-10-01T00:00:00",
          "year": 2009
         },
         {
          "clade_membership": "c0ab28c",
          "estimated_growth_rate": 1.6197977095720282,
          "frequency": 0.5304890000000001,
          "frequency_final": 0.146914,
          "log_estimated_growth_rate": 0.2091480029622388,
          "log_observed_growth_rate": -0.5554849988070163,
          "observed_growth_rate": 0.2769407094209304,
          "projected_frequency": 0.8592848671531558,
          "timepoint": "2009-10-01T00:00:00",
          "year": 2009
         },
         {
          "clade_membership": "e62a2e8",
          "estimated_growth_rate": 2.437785221404613,
          "frequency": 0.31069199999999997,
          "frequency_final": 0.014003999999999999,
          "log_estimated_growth_rate": 0.38617287826313923,
          "log_observed_growth_rate": -1.3175186001814017,
          "observed_growth_rate": 0.04507357769108957,
          "projected_frequency": 0.757400366008642,
          "timepoint": "2009-10-01T00:00:00",
          "year": 2009
         },
         {
          "clade_membership": "0003b07",
          "estimated_growth_rate": 0.9999980000040006,
          "frequency": 1.0000019999999998,
          "frequency_final": 0.9999829999999996,
          "log_estimated_growth_rate": -8.677203754407381e-07,
          "log_observed_growth_rate": -8.243413568554168e-06,
          "observed_growth_rate": 0.9999810000379997,
          "projected_frequency": 1.0000000000000004,
          "timepoint": "2010-04-01T00:00:00",
          "year": 2010
         },
         {
          "clade_membership": "18b1f50",
          "estimated_growth_rate": 0.9999980000040006,
          "frequency": 1.0000019999999998,
          "frequency_final": 0.9999829999999996,
          "log_estimated_growth_rate": -8.677203754407381e-07,
          "log_observed_growth_rate": -8.243413568554168e-06,
          "observed_growth_rate": 0.9999810000379997,
          "projected_frequency": 1.0000000000000004,
          "timepoint": "2010-04-01T00:00:00",
          "year": 2010
         },
         {
          "clade_membership": "246b30f",
          "estimated_growth_rate": 0.9999980000040006,
          "frequency": 1.0000019999999998,
          "frequency_final": 0.9999829999999996,
          "log_estimated_growth_rate": -8.677203754407381e-07,
          "log_observed_growth_rate": -8.243413568554168e-06,
          "observed_growth_rate": 0.9999810000379997,
          "projected_frequency": 1.0000000000000004,
          "timepoint": "2010-04-01T00:00:00",
          "year": 2010
         },
         {
          "clade_membership": "3c0baec",
          "estimated_growth_rate": 0.9999980000040006,
          "frequency": 1.0000019999999998,
          "frequency_final": 0.9999829999999996,
          "log_estimated_growth_rate": -8.677203754407381e-07,
          "log_observed_growth_rate": -8.243413568554168e-06,
          "observed_growth_rate": 0.9999810000379997,
          "projected_frequency": 1.0000000000000004,
          "timepoint": "2010-04-01T00:00:00",
          "year": 2010
         },
         {
          "clade_membership": "41bb3e2",
          "estimated_growth_rate": 1.0066766845777808,
          "frequency": 0.9927459999999999,
          "frequency_final": 0.9999829999999996,
          "log_estimated_growth_rate": 0.0028871115739577025,
          "log_observed_growth_rate": 0.0031513082286922216,
          "observed_growth_rate": 1.0072898807952888,
          "projected_frequency": 0.9993742519078536,
          "timepoint": "2010-04-01T00:00:00",
          "year": 2010
         },
         {
          "clade_membership": "44989e1",
          "estimated_growth_rate": 0.9999980000040006,
          "frequency": 1.0000019999999998,
          "frequency_final": 0.9999829999999996,
          "log_estimated_growth_rate": -8.677203754407381e-07,
          "log_observed_growth_rate": -8.243413568554168e-06,
          "observed_growth_rate": 0.9999810000379997,
          "projected_frequency": 1.0000000000000004,
          "timepoint": "2010-04-01T00:00:00",
          "year": 2010
         },
         {
          "clade_membership": "7aa732d",
          "estimated_growth_rate": 0.9999980000040006,
          "frequency": 1.0000019999999998,
          "frequency_final": 0.9999829999999996,
          "log_estimated_growth_rate": -8.677203754407381e-07,
          "log_observed_growth_rate": -8.243413568554168e-06,
          "observed_growth_rate": 0.9999810000379997,
          "projected_frequency": 1.0000000000000004,
          "timepoint": "2010-04-01T00:00:00",
          "year": 2010
         },
         {
          "clade_membership": "7fba9ff",
          "estimated_growth_rate": 1.1520808336449495,
          "frequency": 0.2541359999999999,
          "frequency_final": 0.15668299999999996,
          "log_estimated_growth_rate": 0.061258192952624003,
          "log_observed_growth_rate": -0.20898686838787064,
          "observed_growth_rate": 0.6165320930525389,
          "projected_frequency": 0.2927852147391928,
          "timepoint": "2010-04-01T00:00:00",
          "year": 2010
         },
         {
          "clade_membership": "91769ce",
          "estimated_growth_rate": 0.9999980000040006,
          "frequency": 1.0000019999999998,
          "frequency_final": 0.9999829999999996,
          "log_estimated_growth_rate": -8.677203754407381e-07,
          "log_observed_growth_rate": -8.243413568554168e-06,
          "observed_growth_rate": 0.9999810000379997,
          "projected_frequency": 1.0000000000000004,
          "timepoint": "2010-04-01T00:00:00",
          "year": 2010
         },
         {
          "clade_membership": "956f201",
          "estimated_growth_rate": 1.8559060017290925,
          "frequency": 0.42820099999999994,
          "frequency_final": 0.7917449999999997,
          "log_estimated_growth_rate": 0.2680890727308113,
          "log_observed_growth_rate": 0.2664727863638504,
          "observed_growth_rate": 1.8490031550603567,
          "projected_frequency": 0.794700805846399,
          "timepoint": "2010-04-01T00:00:00",
          "year": 2010
         },
         {
          "clade_membership": "9b04f13",
          "estimated_growth_rate": 0.9999980000040006,
          "frequency": 1.0000019999999998,
          "frequency_final": 0.9999829999999996,
          "log_estimated_growth_rate": -8.677203754407381e-07,
          "log_observed_growth_rate": -8.243413568554168e-06,
          "observed_growth_rate": 0.9999810000379997,
          "projected_frequency": 1.0000000000000004,
          "timepoint": "2010-04-01T00:00:00",
          "year": 2010
         },
         {
          "clade_membership": "c0ab28c",
          "estimated_growth_rate": 0.3926892521365217,
          "frequency": 0.47196499999999997,
          "frequency_final": 0.20697399999999996,
          "log_estimated_growth_rate": -0.40453320734006987,
          "log_observed_growth_rate": -0.3568199588341548,
          "observed_growth_rate": 0.43853675590350977,
          "projected_frequency": 0.18533558288461346,
          "timepoint": "2010-04-01T00:00:00",
          "year": 2010
         },
         {
          "clade_membership": "d4a2597",
          "estimated_growth_rate": 0.5660837084813461,
          "frequency": 0.233429,
          "frequency_final": 0.19519699999999993,
          "log_estimated_growth_rate": -0.2457016276969012,
          "log_observed_growth_rate": -0.07731897259036427,
          "observed_growth_rate": 0.8362157229821484,
          "projected_frequency": 0.13214035398709215,
          "timepoint": "2010-04-01T00:00:00",
          "year": 2010
         },
         {
          "clade_membership": "026d21f",
          "estimated_growth_rate": 1.3518920148045315,
          "frequency": 0.503541,
          "frequency_final": 0.364479,
          "log_estimated_growth_rate": 0.13071788967928546,
          "log_observed_growth_rate": -0.14003403568299552,
          "observed_growth_rate": 0.7238318230293064,
          "projected_frequency": 0.6807330570266886,
          "timepoint": "2010-10-01T00:00:00",
          "year": 2010
         },
         {
          "clade_membership": "13a450d",
          "estimated_growth_rate": 1.109358751596974,
          "frequency": 0.8528559999999983,
          "frequency_final": 0.9945499999999995,
          "log_estimated_growth_rate": 0.04502187128313027,
          "log_observed_growth_rate": 0.06667844216626719,
          "observed_growth_rate": 1.1661405911431724,
          "projected_frequency": 0.946123267451987,
          "timepoint": "2010-10-01T00:00:00",
          "year": 2010
         },
         {
          "clade_membership": "26f855a",
          "estimated_growth_rate": 1.0000680046243156,
          "frequency": 0.9999319999999983,
          "frequency_final": 0.9999809999999995,
          "log_estimated_growth_rate": 2.950352437680237e-05,
          "log_observed_growth_rate": 2.126009433788401e-05,
          "observed_growth_rate": 1.0000490033322278,
          "projected_frequency": 0.9999999999999994,
          "timepoint": "2010-10-01T00:00:00",
          "year": 2010
         },
         {
          "clade_membership": "3c0baec",
          "estimated_growth_rate": 1.0000680046243156,
          "frequency": 0.9999319999999983,
          "frequency_final": 0.9999809999999995,
          "log_estimated_growth_rate": 2.950352437680237e-05,
          "log_observed_growth_rate": 2.126009433788401e-05,
          "observed_growth_rate": 1.0000490033322278,
          "projected_frequency": 0.9999999999999994,
          "timepoint": "2010-10-01T00:00:00",
          "year": 2010
         },
         {
          "clade_membership": "41bb3e2",
          "estimated_growth_rate": 1.0000680046243156,
          "frequency": 0.9999319999999983,
          "frequency_final": 0.9999809999999995,
          "log_estimated_growth_rate": 2.950352437680237e-05,
          "log_observed_growth_rate": 2.126009433788401e-05,
          "observed_growth_rate": 1.0000490033322278,
          "projected_frequency": 0.9999999999999994,
          "timepoint": "2010-10-01T00:00:00",
          "year": 2010
         },
         {
          "clade_membership": "7aa732d",
          "estimated_growth_rate": 1.0000680046243156,
          "frequency": 0.9999319999999983,
          "frequency_final": 0.9999809999999995,
          "log_estimated_growth_rate": 2.950352437680237e-05,
          "log_observed_growth_rate": 2.126009433788401e-05,
          "observed_growth_rate": 1.0000490033322278,
          "projected_frequency": 0.9999999999999994,
          "timepoint": "2010-10-01T00:00:00",
          "year": 2010
         },
         {
          "clade_membership": "7fba9ff",
          "estimated_growth_rate": 0.3756120089390855,
          "frequency": 0.19830299999999998,
          "frequency_final": 0.0009830000000000001,
          "log_estimated_growth_rate": -0.42165324440436075,
          "log_observed_growth_rate": -2.002191121743754,
          "observed_growth_rate": 0.0049570606596975346,
          "projected_frequency": 0.07448498820864746,
          "timepoint": "2010-10-01T00:00:00",
          "year": 2010
         },
         {
          "clade_membership": "91769ce",
          "estimated_growth_rate": 1.0000680046243156,
          "frequency": 0.9999319999999983,
          "frequency_final": 0.9999809999999995,
          "log_estimated_growth_rate": 2.950352437680237e-05,
          "log_observed_growth_rate": 2.126009433788401e-05,
          "observed_growth_rate": 1.0000490033322278,
          "projected_frequency": 0.9999999999999994,
          "timepoint": "2010-10-01T00:00:00",
          "year": 2010
         },
         {
          "clade_membership": "956f201",
          "estimated_growth_rate": 1.109358751596974,
          "frequency": 0.8528559999999983,
          "frequency_final": 0.9945499999999995,
          "log_estimated_growth_rate": 0.04502187128313027,
          "log_observed_growth_rate": 0.06667844216626719,
          "observed_growth_rate": 1.1661405911431724,
          "projected_frequency": 0.946123267451987,
          "timepoint": "2010-10-01T00:00:00",
          "year": 2010
         },
         {
          "clade_membership": "9b04f13",
          "estimated_growth_rate": 1.0000680046243156,
          "frequency": 0.9999319999999983,
          "frequency_final": 0.9999809999999995,
          "log_estimated_growth_rate": 2.950352437680237e-05,
          "log_observed_growth_rate": 2.126009433788401e-05,
          "observed_growth_rate": 1.0000490033322278,
          "projected_frequency": 0.9999999999999994,
          "timepoint": "2010-10-01T00:00:00",
          "year": 2010
         },
         {
          "clade_membership": "d4d7919",
          "estimated_growth_rate": 1.3518920148045315,
          "frequency": 0.503541,
          "frequency_final": 0.364479,
          "log_estimated_growth_rate": 0.13071788967928546,
          "log_observed_growth_rate": -0.14003403568299552,
          "observed_growth_rate": 0.7238318230293064,
          "projected_frequency": 0.6807330570266886,
          "timepoint": "2010-10-01T00:00:00",
          "year": 2010
         },
         {
          "clade_membership": "e56a121",
          "estimated_growth_rate": 1.352449677742384,
          "frequency": 0.503322,
          "frequency_final": 0.364463,
          "log_estimated_growth_rate": 0.13089664148099728,
          "log_observed_growth_rate": -0.13986449884612784,
          "observed_growth_rate": 0.7241149800723988,
          "projected_frequency": 0.6807176767006523,
          "timepoint": "2010-10-01T00:00:00",
          "year": 2010
         },
         {
          "clade_membership": "0003b07",
          "estimated_growth_rate": 1.0000170002890052,
          "frequency": 0.9999829999999996,
          "frequency_final": 0.999981000000002,
          "log_estimated_growth_rate": 7.3756931928754825e-06,
          "log_observed_growth_rate": -8.677368451742298e-07,
          "observed_growth_rate": 0.9999979999660018,
          "projected_frequency": 0.9999999999999999,
          "timepoint": "2011-04-01T00:00:00",
          "year": 2011
         },
         {
          "clade_membership": "026d21f",
          "estimated_growth_rate": 1.6479161998037226,
          "frequency": 0.5248099999999999,
          "frequency_final": 0.12450699999999992,
          "log_estimated_growth_rate": 0.21661025906931652,
          "log_observed_growth_rate": -0.6221608926433293,
          "observed_growth_rate": 0.2372420495036298,
          "projected_frequency": 0.8648429008189915,
          "timepoint": "2011-04-01T00:00:00",
          "year": 2011
         },
         {
          "clade_membership": "24fc224",
          "estimated_growth_rate": 0.6061536016749449,
          "frequency": 0.18738799999999992,
          "frequency_final": 0.003616,
          "log_estimated_growth_rate": -0.2159220131900889,
          "log_observed_growth_rate": -1.6107874353592773,
          "observed_growth_rate": 0.019296859991034653,
          "projected_frequency": 0.11358591111066453,
          "timepoint": "2011-04-01T00:00:00",
          "year": 2011
         },
         {
          "clade_membership": "2e38996",
          "estimated_growth_rate": 0.5832051879141361,
          "frequency": 0.19515899999999994,
          "frequency_final": 0.00366,
          "log_estimated_growth_rate": -0.23259923981817912,
          "log_observed_growth_rate": -1.6242223221618357,
          "observed_growth_rate": 0.018753939095814187,
          "projected_frequency": 0.11381774126813486,
          "timepoint": "2011-04-01T00:00:00",
          "year": 2011
         },
         {
          "clade_membership": "41bb3e2",
          "estimated_growth_rate": 1.0000170002890052,
          "frequency": 0.9999829999999996,
          "frequency_final": 0.999981000000002,
          "log_estimated_growth_rate": 7.3756931928754825e-06,
          "log_observed_growth_rate": -8.677368451742298e-07,
          "observed_growth_rate": 0.9999979999660018,
          "projected_frequency": 0.9999999999999999,
          "timepoint": "2011-04-01T00:00:00",
          "year": 2011
         },
         {
          "clade_membership": "4748b2c",
          "estimated_growth_rate": 0.5832051879141361,
          "frequency": 0.19515899999999994,
          "frequency_final": 0.00366,
          "log_estimated_growth_rate": -0.23259923981817912,
          "log_observed_growth_rate": -1.6242223221618357,
          "observed_growth_rate": 0.018753939095814187,
          "projected_frequency": 0.11381774126813486,
          "timepoint": "2011-04-01T00:00:00",
          "year": 2011
         },
         {
          "clade_membership": "72597af",
          "estimated_growth_rate": 1.0012401747915172,
          "frequency": 0.9987189999999995,
          "frequency_final": 0.999981000000002,
          "log_estimated_growth_rate": 0.0005377292792179689,
          "log_observed_growth_rate": 0.0005478879480715773,
          "observed_growth_rate": 1.0012636186955515,
          "projected_frequency": 0.9999575861276087,
          "timepoint": "2011-04-01T00:00:00",
          "year": 2011
         },
         {
          "clade_membership": "7fba9ff",
          "estimated_growth_rate": 0.043185637672753595,
          "frequency": 0.15668299999999996,
          "frequency_final": 0.7937850000000015,
          "log_estimated_growth_rate": -1.3075620288456093,
          "log_observed_growth_rate": 0.7024647880375727,
          "observed_growth_rate": 5.0661845892662365,
          "projected_frequency": 0.00676645526748005,
          "timepoint": "2011-04-01T00:00:00",
          "year": 2011
         },
         {
          "clade_membership": "91769ce",
          "estimated_growth_rate": 1.0000170002890052,
          "frequency": 0.9999829999999996,
          "frequency_final": 0.999981000000002,
          "log_estimated_growth_rate": 7.3756931928754825e-06,
          "log_observed_growth_rate": -8.677368451742298e-07,
          "observed_growth_rate": 0.9999979999660018,
          "projected_frequency": 0.9999999999999999,
          "timepoint": "2011-04-01T00:00:00",
          "year": 2011
         },
         {
          "clade_membership": "956f201",
          "estimated_growth_rate": 1.1187138005362383,
          "frequency": 0.7917449999999997,
          "frequency_final": 0.9962560000000019,
          "log_estimated_growth_rate": 0.04866085733591995,
          "log_observed_growth_rate": 0.09967314640022777,
          "observed_growth_rate": 1.258304125697039,
          "projected_frequency": 0.8857360580055635,
          "timepoint": "2011-04-01T00:00:00",
          "year": 2011
         },
         {
          "clade_membership": "c0ab28c",
          "estimated_growth_rate": 0.5518641381141849,
          "frequency": 0.20697399999999996,
          "frequency_final": 0.003725,
          "log_estimated_growth_rate": -0.25647541401313056,
          "log_observed_growth_rate": -1.6436072319140334,
          "observed_growth_rate": 0.017997429628842272,
          "projected_frequency": 0.11422152812204528,
          "timepoint": "2011-04-01T00:00:00",
          "year": 2011
         },
         {
          "clade_membership": "d4a2597",
          "estimated_growth_rate": 0.5830917300260642,
          "frequency": 0.19519699999999993,
          "frequency_final": 0.00366,
          "log_estimated_growth_rate": -0.23268330603733964,
          "log_observed_growth_rate": -1.6243064457147516,
          "observed_growth_rate": 0.018750288170412462,
          "projected_frequency": 0.1138177564258976,
          "timepoint": "2011-04-01T00:00:00",
          "year": 2011
         },
         {
          "clade_membership": "e56a121",
          "estimated_growth_rate": 1.6479161998037226,
          "frequency": 0.5248099999999999,
          "frequency_final": 0.12450699999999992,
          "log_estimated_growth_rate": 0.21661025906931652,
          "log_observed_growth_rate": -0.6221608926433293,
          "observed_growth_rate": 0.2372420495036298,
          "projected_frequency": 0.8648429008189915,
          "timepoint": "2011-04-01T00:00:00",
          "year": 2011
         },
         {
          "clade_membership": "f162f83",
          "estimated_growth_rate": 0.5832051879141361,
          "frequency": 0.19515899999999994,
          "frequency_final": 0.00366,
          "log_estimated_growth_rate": -0.23259923981817912,
          "log_observed_growth_rate": -1.6242223221618357,
          "observed_growth_rate": 0.018753939095814187,
          "projected_frequency": 0.11381774126813486,
          "timepoint": "2011-04-01T00:00:00",
          "year": 2011
         },
         {
          "clade_membership": "13a450d",
          "estimated_growth_rate": 1.0040764988251956,
          "frequency": 0.9945499999999995,
          "frequency_final": 0.9963760000000014,
          "log_estimated_growth_rate": 0.0017650311052524543,
          "log_observed_growth_rate": 0.0007958368207042815,
          "observed_growth_rate": 1.001836006233977,
          "projected_frequency": 0.9986042819065977,
          "timepoint": "2011-10-01T00:00:00",
          "year": 2011
         },
         {
          "clade_membership": "38da78c",
          "estimated_growth_rate": 1.6313065873716572,
          "frequency": 0.26738,
          "frequency_final": 0.5266240000000006,
          "log_estimated_growth_rate": 0.21190890072661683,
          "log_observed_growth_rate": 0.29357439349335995,
          "observed_growth_rate": 1.9695713965143264,
          "projected_frequency": 0.43617875533143374,
          "timepoint": "2011-10-01T00:00:00",
          "year": 2011
         },
         {
          "clade_membership": "3b60fb2",
          "estimated_growth_rate": 0.8052195680117423,
          "frequency": 0.16073700000000002,
          "frequency_final": 0.04403800000000001,
          "log_estimated_growth_rate": -0.09343662486703988,
          "log_observed_growth_rate": -0.5552302867008257,
          "observed_growth_rate": 0.2739755003515059,
          "projected_frequency": 0.12942857770350344,
          "timepoint": "2011-10-01T00:00:00",
          "year": 2011
         },
         {
          "clade_membership": "3c0baec",
          "estimated_growth_rate": 1.0000190003610079,
          "frequency": 0.9999809999999995,
          "frequency_final": 0.9964690000000013,
          "log_estimated_growth_rate": 8.243430039383602e-06,
          "log_observed_growth_rate": -0.0015264267713400149,
          "observed_growth_rate": 0.9964879332707339,
          "projected_frequency": 1.0000000000000004,
          "timepoint": "2011-10-01T00:00:00",
          "year": 2011
         },
         {
          "clade_membership": "41bb3e2",
          "estimated_growth_rate": 1.0000190003610079,
          "frequency": 0.9999809999999995,
          "frequency_final": 0.9964690000000013,
          "log_estimated_growth_rate": 8.243430039383602e-06,
          "log_observed_growth_rate": -0.0015264267713400149,
          "observed_growth_rate": 0.9964879332707339,
          "projected_frequency": 1.0000000000000004,
          "timepoint": "2011-10-01T00:00:00",
          "year": 2011
         },
         {
          "clade_membership": "4786bbf",
          "estimated_growth_rate": 0.7908869453806158,
          "frequency": 0.364479,
          "frequency_final": 0.22203599999999998,
          "log_estimated_growth_rate": -0.10157151929216857,
          "log_observed_growth_rate": -0.21448746024329812,
          "observed_growth_rate": 0.6091873605886758,
          "projected_frequency": 0.28826168296538146,
          "timepoint": "2011-10-01T00:00:00",
          "year": 2011
         },
         {
          "clade_membership": "7aa732d",
          "estimated_growth_rate": 1.0000190003610079,
          "frequency": 0.9999809999999995,
          "frequency_final": 0.9964690000000013,
          "log_estimated_growth_rate": 8.243430039383602e-06,
          "log_observed_growth_rate": -0.0015264267713400149,
          "observed_growth_rate": 0.9964879332707339,
          "projected_frequency": 1.0000000000000004,
          "timepoint": "2011-10-01T00:00:00",
          "year": 2011
         },
         {
          "clade_membership": "91769ce",
          "estimated_growth_rate": 1.0000190003610079,
          "frequency": 0.9999809999999995,
          "frequency_final": 0.9964690000000013,
          "log_estimated_growth_rate": 8.243430039383602e-06,
          "log_observed_growth_rate": -0.0015264267713400149,
          "observed_growth_rate": 0.9964879332707339,
          "projected_frequency": 1.0000000000000004,
          "timepoint": "2011-10-01T00:00:00",
          "year": 2011
         },
         {
          "clade_membership": "956f201",
          "estimated_growth_rate": 1.0040764988251956,
          "frequency": 0.9945499999999995,
          "frequency_final": 0.9963760000000014,
          "log_estimated_growth_rate": 0.0017650311052524543,
          "log_observed_growth_rate": 0.0007958368207042815,
          "observed_growth_rate": 1.001836006233977,
          "projected_frequency": 0.9986042819065977,
          "timepoint": "2011-10-01T00:00:00",
          "year": 2011
         },
         {
          "clade_membership": "9b04f13",
          "estimated_growth_rate": 1.0000190003610079,
          "frequency": 0.9999809999999995,
          "frequency_final": 0.9964690000000013,
          "log_estimated_growth_rate": 8.243430039383602e-06,
          "log_observed_growth_rate": -0.0015264267713400149,
          "observed_growth_rate": 0.9964879332707339,
          "projected_frequency": 1.0000000000000004,
          "timepoint": "2011-10-01T00:00:00",
          "year": 2011
         },
         {
          "clade_membership": "b7ff90b",
          "estimated_growth_rate": 1.0000190003610079,
          "frequency": 0.9999809999999995,
          "frequency_final": 0.9964690000000013,
          "log_estimated_growth_rate": 8.243430039383602e-06,
          "log_observed_growth_rate": -0.0015264267713400149,
          "observed_growth_rate": 0.9964879332707339,
          "projected_frequency": 1.0000000000000004,
          "timepoint": "2011-10-01T00:00:00",
          "year": 2011
         },
         {
          "clade_membership": "c139e7c",
          "estimated_growth_rate": 0.8200801447617714,
          "frequency": 0.30587800000000004,
          "frequency_final": 0.6672010000000007,
          "log_estimated_growth_rate": -0.08583332823972353,
          "log_observed_growth_rate": 0.3379413661534776,
          "observed_growth_rate": 2.1812650795415185,
          "projected_frequency": 0.25084447451944114,
          "timepoint": "2011-10-01T00:00:00",
          "year": 2011
         },
         {
          "clade_membership": "c17559e",
          "estimated_growth_rate": 1.1634098649857425,
          "frequency": 0.5976190000000003,
          "frequency_final": 0.011863,
          "log_estimated_growth_rate": 0.06563082885541094,
          "log_observed_growth_rate": -1.667808227470615,
          "observed_growth_rate": 0.019850439828720295,
          "projected_frequency": 0.6952758401029149,
          "timepoint": "2011-10-01T00:00:00",
          "year": 2011
         },
         {
          "clade_membership": "ce8636c",
          "estimated_growth_rate": 0.8102901508298489,
          "frequency": 0.31157,
          "frequency_final": 1.4999999999999999e-05,
          "log_estimated_growth_rate": -0.09103426002734337,
          "log_observed_growth_rate": -2.4884812505008553,
          "observed_growth_rate": 4.814327438456847e-05,
          "projected_frequency": 0.252462102294056,
          "timepoint": "2011-10-01T00:00:00",
          "year": 2011
         },
         {
          "clade_membership": "e56a121",
          "estimated_growth_rate": 0.7909137954772208,
          "frequency": 0.364463,
          "frequency_final": 0.22196199999999996,
          "log_estimated_growth_rate": -0.10155681275418012,
          "log_observed_growth_rate": -0.2146125635168455,
          "observed_growth_rate": 0.6090110655951358,
          "projected_frequency": 0.2882588146410143,
          "timepoint": "2011-10-01T00:00:00",
          "year": 2011
         },
         {
          "clade_membership": "38da78c",
          "estimated_growth_rate": 1.3848496426249703,
          "frequency": 0.42489600000000016,
          "frequency_final": 0.9394600000000003,
          "log_estimated_growth_rate": 0.14111915076958775,
          "log_observed_growth_rate": 0.3440367674875763,
          "observed_growth_rate": 2.2110351709594815,
          "projected_frequency": 0.5884170737527796,
          "timepoint": "2012-04-01T00:00:00",
          "year": 2012
         },
         {
          "clade_membership": "41bb3e2",
          "estimated_growth_rate": 1.0000190003610052,
          "frequency": 0.999981000000002,
          "frequency_final": 0.9999650000000002,
          "log_estimated_growth_rate": 8.24343003832286e-06,
          "log_observed_growth_rate": -6.941957187016323e-06,
          "observed_growth_rate": 0.9999839996959924,
          "projected_frequency": 1.0000000000000004,
          "timepoint": "2012-04-01T00:00:00",
          "year": 2012
         },
         {
          "clade_membership": "6c1138e",
          "estimated_growth_rate": 1.6030051442010365,
          "frequency": 0.3644620000000001,
          "frequency_final": 0.9274340000000002,
          "log_estimated_growth_rate": 0.20448766456392073,
          "log_observed_growth_rate": 0.4049088097093554,
          "observed_growth_rate": 2.544665836218865,
          "projected_frequency": 0.5842344608657983,
          "timepoint": "2012-04-01T00:00:00",
          "year": 2012
         },
         {
          "clade_membership": "7fba9ff",
          "estimated_growth_rate": 1.2372214802347632,
          "frequency": 0.7937850000000015,
          "frequency_final": 0.971773,
          "log_estimated_growth_rate": 0.09234266780664742,
          "log_observed_growth_rate": 0.0877618458836418,
          "observed_growth_rate": 1.2242269632205172,
          "projected_frequency": 0.9820878526881534,
          "timepoint": "2012-04-01T00:00:00",
          "year": 2012
         },
         {
          "clade_membership": "88299f7",
          "estimated_growth_rate": 1.250943396721277,
          "frequency": 0.7844560000000016,
          "frequency_final": 0.971773,
          "log_estimated_growth_rate": 0.09712672718403623,
          "log_observed_growth_rate": 0.09288964637764198,
          "observed_growth_rate": 1.2387858592451304,
          "projected_frequency": 0.981310053218388,
          "timepoint": "2012-04-01T00:00:00",
          "year": 2012
         },
         {
          "clade_membership": "91769ce",
          "estimated_growth_rate": 1.0000190003610052,
          "frequency": 0.999981000000002,
          "frequency_final": 0.9999650000000002,
          "log_estimated_growth_rate": 8.24343003832286e-06,
          "log_observed_growth_rate": -6.941957187016323e-06,
          "observed_growth_rate": 0.9999839996959924,
          "projected_frequency": 1.0000000000000004,
          "timepoint": "2012-04-01T00:00:00",
          "year": 2012
         },
         {
          "clade_membership": "956f201",
          "estimated_growth_rate": 1.0034263440619797,
          "frequency": 0.9962560000000019,
          "frequency_final": 0.9999650000000002,
          "log_estimated_growth_rate": 0.0014840118107654402,
          "log_observed_growth_rate": 0.0016122341655650486,
          "observed_growth_rate": 1.0037229386824253,
          "projected_frequency": 0.9996695158298137,
          "timepoint": "2012-04-01T00:00:00",
          "year": 2012
         },
         {
          "clade_membership": "c139e7c",
          "estimated_growth_rate": 1.097099548666008,
          "frequency": 0.3580500000000001,
          "frequency_final": 0.032312999999999995,
          "log_estimated_growth_rate": 0.04013896977535149,
          "log_observed_growth_rate": -1.0325411862501745,
          "observed_growth_rate": 0.09024717218265602,
          "projected_frequency": 0.39281649339986424,
          "timepoint": "2012-04-01T00:00:00",
          "year": 2012
         },
         {
          "clade_membership": "f2ec31a",
          "estimated_growth_rate": 1.6030051442010365,
          "frequency": 0.3644620000000001,
          "frequency_final": 0.9274340000000002,
          "log_estimated_growth_rate": 0.20448766456392073,
          "log_observed_growth_rate": 0.4049088097093554,
          "observed_growth_rate": 2.544665836218865,
          "projected_frequency": 0.5842344608657983,
          "timepoint": "2012-04-01T00:00:00",
          "year": 2012
         },
         {
          "clade_membership": "38da78c",
          "estimated_growth_rate": 1.6930415870519686,
          "frequency": 0.5266240000000006,
          "frequency_final": 0.9918400000000009,
          "log_estimated_growth_rate": 0.2283305561458623,
          "log_observed_growth_rate": 0.27455472385170043,
          "observed_growth_rate": 1.883393085009418,
          "projected_frequency": 0.891596332739657,
          "timepoint": "2012-10-01T00:00:00",
          "year": 2012
         },
         {
          "clade_membership": "3c0baec",
          "estimated_growth_rate": 1.0035435121413354,
          "frequency": 0.9964690000000013,
          "frequency_final": 0.999989000000001,
          "log_estimated_growth_rate": 0.0015346702013641848,
          "log_observed_growth_rate": 0.0015298977083230425,
          "observed_growth_rate": 1.0035324731627373,
          "projected_frequency": 0.9999999999999656,
          "timepoint": "2012-10-01T00:00:00",
          "year": 2012
         },
         {
          "clade_membership": "41bb3e2",
          "estimated_growth_rate": 1.0035435121413354,
          "frequency": 0.9964690000000013,
          "frequency_final": 0.999989000000001,
          "log_estimated_growth_rate": 0.0015346702013641848,
          "log_observed_growth_rate": 0.0015298977083230425,
          "observed_growth_rate": 1.0035324731627373,
          "projected_frequency": 0.9999999999999656,
          "timepoint": "2012-10-01T00:00:00",
          "year": 2012
         },
         {
          "clade_membership": "4786bbf",
          "estimated_growth_rate": 0.14075391967866432,
          "frequency": 0.22203599999999998,
          "frequency_final": 0.002296,
          "log_estimated_growth_rate": -0.8398124279572816,
          "log_observed_growth_rate": -1.830387764684511,
          "observed_growth_rate": 0.010340665477670288,
          "projected_frequency": 0.03125243730977191,
          "timepoint": "2012-10-01T00:00:00",
          "year": 2012
         },
         {
          "clade_membership": "6c1138e",
          "estimated_growth_rate": 1.7031416069555274,
          "frequency": 0.5232830000000007,
          "frequency_final": 0.002415,
          "log_estimated_growth_rate": 0.23090863619660412,
          "log_observed_growth_rate": -2.186175067823411,
          "observed_growth_rate": 0.00461509355358381,
          "projected_frequency": 0.8912250495125105,
          "timepoint": "2012-10-01T00:00:00",
          "year": 2012
         },
         {
          "clade_membership": "8aaed0b",
          "estimated_growth_rate": 1.6911535193886982,
          "frequency": 0.5272510000000007,
          "frequency_final": 0.9918400000000009,
          "log_estimated_growth_rate": 0.22784690663619944,
          "log_observed_growth_rate": 0.2740389380396298,
          "observed_growth_rate": 1.8811533785616332,
          "projected_frequency": 0.8916623842512117,
          "timepoint": "2012-10-01T00:00:00",
          "year": 2012
         },
         {
          "clade_membership": "91769ce",
          "estimated_growth_rate": 1.0035435121413354,
          "frequency": 0.9964690000000013,
          "frequency_final": 0.999989000000001,
          "log_estimated_growth_rate": 0.0015346702013641848,
          "log_observed_growth_rate": 0.0015298977083230425,
          "observed_growth_rate": 1.0035324731627373,
          "projected_frequency": 0.9999999999999656,
          "timepoint": "2012-10-01T00:00:00",
          "year": 2012
         },
         {
          "clade_membership": "956f201",
          "estimated_growth_rate": 1.003630690919261,
          "frequency": 0.9963760000000014,
          "frequency_final": 0.999989000000001,
          "log_estimated_growth_rate": 0.0015723583033398249,
          "log_observed_growth_rate": 0.0015703914678343652,
          "observed_growth_rate": 1.0036261411354745,
          "projected_frequency": 0.9999935332953709,
          "timepoint": "2012-10-01T00:00:00",
          "year": 2012
         },
         {
          "clade_membership": "a08d8f5",
          "estimated_growth_rate": 0.14075391967866432,
          "frequency": 0.22203599999999998,
          "frequency_final": 0.002296,
          "log_estimated_growth_rate": -0.8398124279572816,
          "log_observed_growth_rate": -1.830387764684511,
          "observed_growth_rate": 0.010340665477670288,
          "projected_frequency": 0.03125243730977191,
          "timepoint": "2012-10-01T00:00:00",
          "year": 2012
         },
         {
          "clade_membership": "a229f16",
          "estimated_growth_rate": 2.420790529324456,
          "frequency": 0.348294,
          "frequency_final": 0.9893800000000009,
          "log_estimated_growth_rate": 0.3832268614266943,
          "log_observed_growth_rate": 0.452610735899684,
          "observed_growth_rate": 2.8406461208059883,
          "projected_frequency": 0.843146816620532,
          "timepoint": "2012-10-01T00:00:00",
          "year": 2012
         },
         {
          "clade_membership": "bfceca0",
          "estimated_growth_rate": 1.4147874767474937,
          "frequency": 0.6672010000000007,
          "frequency_final": 0.997693000000001,
          "log_estimated_growth_rate": 0.15050061393696793,
          "log_observed_growth_rate": 0.17452488459859303,
          "observed_growth_rate": 1.4953409842011627,
          "projected_frequency": 0.9439476192734055,
          "timepoint": "2012-10-01T00:00:00",
          "year": 2012
         },
         {
          "clade_membership": "c139e7c",
          "estimated_growth_rate": 1.4147874767474937,
          "frequency": 0.6672010000000007,
          "frequency_final": 0.997693000000001,
          "log_estimated_growth_rate": 0.15050061393696793,
          "log_observed_growth_rate": 0.17452488459859303,
          "observed_growth_rate": 1.4953409842011627,
          "projected_frequency": 0.9439476192734055,
          "timepoint": "2012-10-01T00:00:00",
          "year": 2012
         },
         {
          "clade_membership": "dbdf9a1",
          "estimated_growth_rate": 0.14978179712921091,
          "frequency": 0.17060499999999998,
          "frequency_final": 0.002296,
          "log_estimated_growth_rate": -0.8104077799853348,
          "log_observed_growth_rate": -1.7165427345713757,
          "observed_growth_rate": 0.013457987749479794,
          "projected_frequency": 0.025553523499229024,
          "timepoint": "2012-10-01T00:00:00",
          "year": 2012
         },
         {
          "clade_membership": "e56a121",
          "estimated_growth_rate": 0.140800678317736,
          "frequency": 0.22196199999999996,
          "frequency_final": 0.002296,
          "log_estimated_growth_rate": -0.839668811881495,
          "log_observed_growth_rate": -1.830243648379255,
          "observed_growth_rate": 0.010344112956271795,
          "projected_frequency": 0.031252400160761314,
          "timepoint": "2012-10-01T00:00:00",
          "year": 2012
         },
         {
          "clade_membership": "f2ec31a",
          "estimated_growth_rate": 1.7031416069555274,
          "frequency": 0.5232830000000007,
          "frequency_final": 0.9918260000000009,
          "log_estimated_growth_rate": 0.23090863619660412,
          "log_observed_growth_rate": 0.27730736604684686,
          "observed_growth_rate": 1.8953912127854327,
          "projected_frequency": 0.8912250495125105,
          "timepoint": "2012-10-01T00:00:00",
          "year": 2012
         },
         {
          "clade_membership": "0165eeb",
          "estimated_growth_rate": 0.5462126291430733,
          "frequency": 0.22759900000000008,
          "frequency_final": 0.21802399999999997,
          "log_estimated_growth_rate": -0.26106278342536604,
          "log_observed_growth_rate": -0.018582620105976576,
          "observed_growth_rate": 0.9579303951247584,
          "projected_frequency": 0.1243174481803344,
          "timepoint": "2013-04-01T00:00:00",
          "year": 2013
         },
         {
          "clade_membership": "05daa66",
          "estimated_growth_rate": 1.0271504392054,
          "frequency": 0.971773,
          "frequency_final": 0.9999479999999997,
          "log_estimated_growth_rate": 0.011622255115985526,
          "log_observed_growth_rate": 0.012400008194391047,
          "observed_growth_rate": 1.0289933966059972,
          "projected_frequency": 0.9981570637579492,
          "timepoint": "2013-04-01T00:00:00",
          "year": 2013
         },
         {
          "clade_membership": "13a450d",
          "estimated_growth_rate": 1.0000350012250432,
          "frequency": 0.9999650000000002,
          "frequency_final": 0.9999809999999997,
          "log_estimated_growth_rate": 1.518538722528106e-05,
          "log_observed_growth_rate": 6.941957186081909e-06,
          "observed_growth_rate": 1.0000160005600192,
          "projected_frequency": 1.0000000000000004,
          "timepoint": "2013-04-01T00:00:00",
          "year": 2013
         },
         {
          "clade_membership": "38da78c",
          "estimated_growth_rate": 1.0601169949039866,
          "frequency": 0.9394600000000003,
          "frequency_final": 0.9999479999999997,
          "log_estimated_growth_rate": 0.025327608917379132,
          "log_observed_growth_rate": 0.027071187438760087,
          "observed_growth_rate": 1.0643859238285818,
          "projected_frequency": 0.9959375120324995,
          "timepoint": "2013-04-01T00:00:00",
          "year": 2013
         },
         {
          "clade_membership": "41bb3e2",
          "estimated_growth_rate": 1.0000350012250432,
          "frequency": 0.9999650000000002,
          "frequency_final": 0.9999809999999997,
          "log_estimated_growth_rate": 1.518538722528106e-05,
          "log_observed_growth_rate": 6.941957186081909e-06,
          "observed_growth_rate": 1.0000160005600192,
          "projected_frequency": 1.0000000000000004,
          "timepoint": "2013-04-01T00:00:00",
          "year": 2013
         },
         {
          "clade_membership": "66a66dd",
          "estimated_growth_rate": 1.8627055895470885,
          "frequency": 0.43592100000000006,
          "frequency_final": 0.7804679999999993,
          "log_estimated_growth_rate": 0.2696836112771446,
          "log_observed_growth_rate": 0.2525082800084202,
          "observed_growth_rate": 1.790388625461951,
          "projected_frequency": 0.8119924833009565,
          "timepoint": "2013-04-01T00:00:00",
          "year": 2013
         },
         {
          "clade_membership": "6c1138e",
          "estimated_growth_rate": 1.0728871171508547,
          "frequency": 0.9274340000000002,
          "frequency_final": 0.9999479999999997,
          "log_estimated_growth_rate": 0.030522251052226626,
          "log_observed_growth_rate": 0.03266047985258335,
          "observed_growth_rate": 1.078187774008716,
          "projected_frequency": 0.995031990607686,
          "timepoint": "2013-04-01T00:00:00",
          "year": 2013
         },
         {
          "clade_membership": "7fba9ff",
          "estimated_growth_rate": 1.0271504392054,
          "frequency": 0.971773,
          "frequency_final": 0.9999809999999997,
          "log_estimated_growth_rate": 0.011622255115985526,
          "log_observed_growth_rate": 0.012414326102672549,
          "observed_growth_rate": 1.0290273551539297,
          "projected_frequency": 0.9981570637579492,
          "timepoint": "2013-04-01T00:00:00",
          "year": 2013
         },
         {
          "clade_membership": "88299f7",
          "estimated_growth_rate": 1.0271504392054,
          "frequency": 0.971773,
          "frequency_final": 0.9999809999999997,
          "log_estimated_growth_rate": 0.011622255115985526,
          "log_observed_growth_rate": 0.012414326102672549,
          "observed_growth_rate": 1.0290273551539297,
          "projected_frequency": 0.9981570637579492,
          "timepoint": "2013-04-01T00:00:00",
          "year": 2013
         },
         {
          "clade_membership": "8aaed0b",
          "estimated_growth_rate": 1.0601169949039866,
          "frequency": 0.9394600000000003,
          "frequency_final": 0.9999479999999997,
          "log_estimated_growth_rate": 0.025327608917379132,
          "log_observed_growth_rate": 0.027071187438760087,
          "observed_growth_rate": 1.0643859238285818,
          "projected_frequency": 0.9959375120324995,
          "timepoint": "2013-04-01T00:00:00",
          "year": 2013
         },
         {
          "clade_membership": "8d4351f",
          "estimated_growth_rate": 1.8563729511608806,
          "frequency": 0.43764400000000003,
          "frequency_final": 0.7804679999999993,
          "log_estimated_growth_rate": 0.2682082506123004,
          "log_observed_growth_rate": 0.25079900574952757,
          "observed_growth_rate": 1.783339883558324,
          "projected_frequency": 0.8124304838378525,
          "timepoint": "2013-04-01T00:00:00",
          "year": 2013
         },
         {
          "clade_membership": "91769ce",
          "estimated_growth_rate": 1.0000350012250432,
          "frequency": 0.9999650000000002,
          "frequency_final": 0.9999809999999997,
          "log_estimated_growth_rate": 1.518538722528106e-05,
          "log_observed_growth_rate": 6.941957186081909e-06,
          "observed_growth_rate": 1.0000160005600192,
          "projected_frequency": 1.0000000000000004,
          "timepoint": "2013-04-01T00:00:00",
          "year": 2013
         },
         {
          "clade_membership": "956f201",
          "estimated_growth_rate": 1.0000350012250432,
          "frequency": 0.9999650000000002,
          "frequency_final": 0.9999809999999997,
          "log_estimated_growth_rate": 1.518538722528106e-05,
          "log_observed_growth_rate": 6.941957186081909e-06,
          "observed_growth_rate": 1.0000160005600192,
          "projected_frequency": 1.0000000000000004,
          "timepoint": "2013-04-01T00:00:00",
          "year": 2013
         },
         {
          "clade_membership": "a229f16",
          "estimated_growth_rate": 1.0838041522793822,
          "frequency": 0.9168990000000001,
          "frequency_final": 0.9999479999999997,
          "log_estimated_growth_rate": 0.03491422391994721,
          "log_observed_growth_rate": 0.03761661942323364,
          "observed_growth_rate": 1.0905759522041136,
          "projected_frequency": 0.9937389434208135,
          "timepoint": "2013-04-01T00:00:00",
          "year": 2013
         },
         {
          "clade_membership": "f2ec31a",
          "estimated_growth_rate": 1.0728871171508547,
          "frequency": 0.9274340000000002,
          "frequency_final": 0.9999479999999997,
          "log_estimated_growth_rate": 0.030522251052226626,
          "log_observed_growth_rate": 0.03266047985258335,
          "observed_growth_rate": 1.078187774008716,
          "projected_frequency": 0.995031990607686,
          "timepoint": "2013-04-01T00:00:00",
          "year": 2013
         },
         {
          "clade_membership": "0165eeb",
          "estimated_growth_rate": 2.565149499837533,
          "frequency": 0.27180699999999997,
          "frequency_final": 0.24600600000000009,
          "log_estimated_growth_rate": 0.4081402519847862,
          "log_observed_growth_rate": -0.04314800696639595,
          "observed_growth_rate": 0.9050760282111944,
          "projected_frequency": 0.6972255901023402,
          "timepoint": "2013-10-01T00:00:00",
          "year": 2013
         },
         {
          "clade_membership": "1a16e36",
          "estimated_growth_rate": 0.6359603724645312,
          "frequency": 0.3927379999999998,
          "frequency_final": 0.2642310000000001,
          "log_estimated_growth_rate": -0.19593901656356547,
          "log_observed_growth_rate": -0.1715830482425106,
          "observed_growth_rate": 0.6727920394767001,
          "projected_frequency": 0.24976580476097493,
          "timepoint": "2013-10-01T00:00:00",
          "year": 2013
         },
         {
          "clade_membership": "38da78c",
          "estimated_growth_rate": 1.007181202710864,
          "frequency": 0.9918400000000009,
          "frequency_final": 0.9999869999999981,
          "log_estimated_growth_rate": 0.0031044929605312664,
          "log_observed_growth_rate": 0.003549171353255136,
          "observed_growth_rate": 1.008214026455877,
          "projected_frequency": 0.9989626040967442,
          "timepoint": "2013-10-01T00:00:00",
          "year": 2013
         },
         {
          "clade_membership": "41bb3e2",
          "estimated_growth_rate": 1.0000110001210005,
          "frequency": 0.999989000000001,
          "frequency_final": 0.9999869999999981,
          "log_estimated_growth_rate": 4.772493056294466e-06,
          "log_observed_growth_rate": -8.677316462333882e-07,
          "observed_growth_rate": 0.9999979999779968,
          "projected_frequency": 1.0000000000000002,
          "timepoint": "2013-10-01T00:00:00",
          "year": 2013
         },
         {
          "clade_membership": "66a66dd",
          "estimated_growth_rate": 0.43042756015532485,
          "frequency": 0.6935910000000002,
          "frequency_final": 0.49226900000000023,
          "log_estimated_growth_rate": -0.36527333765704545,
          "log_observed_growth_rate": -0.14864532910801007,
          "observed_growth_rate": 0.7097396015807589,
          "projected_frequency": 0.298540681875692,
          "timepoint": "2013-10-01T00:00:00",
          "year": 2013
         },
         {
          "clade_membership": "7fba9ff",
          "estimated_growth_rate": 1.0021064765319665,
          "frequency": 0.997693000000001,
          "frequency_final": 0.9999869999999981,
          "log_estimated_growth_rate": 0.0009129548461007936,
          "log_observed_growth_rate": 0.0009964314075514306,
          "observed_growth_rate": 1.002299304495468,
          "projected_frequency": 0.9997946168906083,
          "timepoint": "2013-10-01T00:00:00",
          "year": 2013
         },
         {
          "clade_membership": "8aaed0b",
          "estimated_growth_rate": 1.007181202710864,
          "frequency": 0.9918400000000009,
          "frequency_final": 0.9999869999999981,
          "log_estimated_growth_rate": 0.0031044929605312664,
          "log_observed_growth_rate": 0.003549171353255136,
          "observed_growth_rate": 1.008214026455877,
          "projected_frequency": 0.9989626040967442,
          "timepoint": "2013-10-01T00:00:00",
          "year": 2013
         },
         {
          "clade_membership": "956f201",
          "estimated_growth_rate": 1.0000110001210005,
          "frequency": 0.999989000000001,
          "frequency_final": 0.9999869999999981,
          "log_estimated_growth_rate": 4.772493056294466e-06,
          "log_observed_growth_rate": -8.677316462333882e-07,
          "observed_growth_rate": 0.9999979999779968,
          "projected_frequency": 1.0000000000000002,
          "timepoint": "2013-10-01T00:00:00",
          "year": 2013
         },
         {
          "clade_membership": "a229f16",
          "estimated_growth_rate": 1.0096366522782716,
          "frequency": 0.9893800000000009,
          "frequency_final": 0.9999419999999981,
          "log_estimated_growth_rate": 0.004160922654058904,
          "log_observed_growth_rate": 0.0046070513291690054,
          "observed_growth_rate": 1.0106753724554742,
          "projected_frequency": 0.9989143110310773,
          "timepoint": "2013-10-01T00:00:00",
          "year": 2013
         },
         {
          "clade_membership": "f2ec31a",
          "estimated_growth_rate": 1.0071951152426923,
          "frequency": 0.9918260000000009,
          "frequency_final": 0.9999419999999981,
          "log_estimated_growth_rate": 0.003110485931206612,
          "log_observed_growth_rate": 0.0035357709464216183,
          "observed_growth_rate": 1.0081828869176621,
          "projected_frequency": 0.9989623023706994,
          "timepoint": "2013-10-01T00:00:00",
          "year": 2013
         },
         {
          "clade_membership": "0165eeb",
          "estimated_growth_rate": 0.20345522967172874,
          "frequency": 0.21802399999999997,
          "frequency_final": 0.6901999999999989,
          "log_estimated_growth_rate": -0.6838366318294681,
          "log_observed_growth_rate": 0.4991120233225882,
          "observed_growth_rate": 3.1657065277217145,
          "projected_frequency": 0.04435812299394898,
          "timepoint": "2014-04-01T00:00:00",
          "year": 2014
         },
         {
          "clade_membership": "05daa66",
          "estimated_growth_rate": 1.0000418086390368,
          "frequency": 0.9999479999999997,
          "frequency_final": 0.9999379999999989,
          "log_estimated_growth_rate": 1.81387423685005e-05,
          "log_observed_growth_rate": -4.338853280817257e-06,
          "observed_growth_rate": 0.9999899994799721,
          "projected_frequency": 0.9999898064649874,
          "timepoint": "2014-04-01T00:00:00",
          "year": 2014
         },
         {
          "clade_membership": "1a16e36",
          "estimated_growth_rate": 0.6369087250628133,
          "frequency": 0.4768329999999999,
          "frequency_final": 0.13579499999999994,
          "log_estimated_growth_rate": -0.1954049708786313,
          "log_observed_growth_rate": -0.5432059158441326,
          "observed_growth_rate": 0.28478523927664395,
          "projected_frequency": 0.3036990980978764,
          "timepoint": "2014-04-01T00:00:00",
          "year": 2014
         },
         {
          "clade_membership": "1ba36d2",
          "estimated_growth_rate": 2.997708892251376,
          "frequency": 0.16491999999999996,
          "frequency_final": 0.16134699999999996,
          "log_estimated_growth_rate": 0.47504161509297127,
          "log_observed_growth_rate": -0.009454471309207175,
          "observed_growth_rate": 0.9783349502789231,
          "projected_frequency": 0.4943821505100968,
          "timepoint": "2014-04-01T00:00:00",
          "year": 2014
         },
         {
          "clade_membership": "1edac85",
          "estimated_growth_rate": 2.997708892251376,
          "frequency": 0.16491999999999996,
          "frequency_final": 0.16134699999999996,
          "log_estimated_growth_rate": 0.47504161509297127,
          "log_observed_growth_rate": -0.009454471309207175,
          "observed_growth_rate": 0.9783349502789231,
          "projected_frequency": 0.4943821505100968,
          "timepoint": "2014-04-01T00:00:00",
          "year": 2014
         },
         {
          "clade_membership": "38da78c",
          "estimated_growth_rate": 1.0000418086390368,
          "frequency": 0.9999479999999997,
          "frequency_final": 0.9999379999999989,
          "log_estimated_growth_rate": 1.81387423685005e-05,
          "log_observed_growth_rate": -4.338853280817257e-06,
          "observed_growth_rate": 0.9999899994799721,
          "projected_frequency": 0.9999898064649874,
          "timepoint": "2014-04-01T00:00:00",
          "year": 2014
         },
         {
          "clade_membership": "41bb3e2",
          "estimated_growth_rate": 1.0000190003610063,
          "frequency": 0.9999809999999997,
          "frequency_final": 0.9999379999999989,
          "log_estimated_growth_rate": 8.243430038805015e-06,
          "log_observed_growth_rate": -1.8656761562377257e-05,
          "observed_growth_rate": 0.9999569991829836,
          "projected_frequency": 0.9999999999999992,
          "timepoint": "2014-04-01T00:00:00",
          "year": 2014
         },
         {
          "clade_membership": "66a66dd",
          "estimated_growth_rate": 1.223529991919112,
          "frequency": 0.7804679999999993,
          "frequency_final": 0.3097379999999997,
          "log_estimated_growth_rate": 0.08751307766303688,
          "log_observed_growth_rate": -0.40051683281456385,
          "observed_growth_rate": 0.3968618828702778,
          "projected_frequency": 0.9549260057331247,
          "timepoint": "2014-04-01T00:00:00",
          "year": 2014
         },
         {
          "clade_membership": "6c1138e",
          "estimated_growth_rate": 1.0000418086390368,
          "frequency": 0.9999479999999997,
          "frequency_final": 0.9999379999999989,
          "log_estimated_growth_rate": 1.81387423685005e-05,
          "log_observed_growth_rate": -4.338853280817257e-06,
          "observed_growth_rate": 0.9999899994799721,
          "projected_frequency": 0.9999898064649874,
          "timepoint": "2014-04-01T00:00:00",
          "year": 2014
         },
         {
          "clade_membership": "7a8b37b",
          "estimated_growth_rate": 0.6290149235758778,
          "frequency": 0.2633269999999999,
          "frequency_final": 0.13479499999999994,
          "log_estimated_growth_rate": -0.2003710977978241,
          "log_observed_growth_rate": -0.28925774750466515,
          "observed_growth_rate": 0.5118920581634241,
          "projected_frequency": 0.16563661278046513,
          "timepoint": "2014-04-01T00:00:00",
          "year": 2014
         },
         {
          "clade_membership": "80897ab",
          "estimated_growth_rate": 3.127570272326783,
          "frequency": 0.15526099999999993,
          "frequency_final": 0.16134699999999996,
          "log_estimated_growth_rate": 0.4933123017275899,
          "log_observed_growth_rate": 0.016593668464285838,
          "observed_growth_rate": 1.0391985108945585,
          "projected_frequency": 0.4855896880517284,
          "timepoint": "2014-04-01T00:00:00",
          "year": 2014
         },
         {
          "clade_membership": "8d4351f",
          "estimated_growth_rate": 1.223529991919112,
          "frequency": 0.7804679999999993,
          "frequency_final": 0.3097379999999997,
          "log_estimated_growth_rate": 0.08751307766303688,
          "log_observed_growth_rate": -0.40051683281456385,
          "observed_growth_rate": 0.3968618828702778,
          "projected_frequency": 0.9549260057331247,
          "timepoint": "2014-04-01T00:00:00",
          "year": 2014
         },
         {
          "clade_membership": "956f201",
          "estimated_growth_rate": 1.0000190003610063,
          "frequency": 0.9999809999999997,
          "frequency_final": 0.9999379999999989,
          "log_estimated_growth_rate": 8.243430038805015e-06,
          "log_observed_growth_rate": -1.8656761562377257e-05,
          "observed_growth_rate": 0.9999569991829836,
          "projected_frequency": 0.9999999999999992,
          "timepoint": "2014-04-01T00:00:00",
          "year": 2014
         },
         {
          "clade_membership": "a229f16",
          "estimated_growth_rate": 1.0000418086390368,
          "frequency": 0.9999479999999997,
          "frequency_final": 0.9999379999999989,
          "log_estimated_growth_rate": 1.81387423685005e-05,
          "log_observed_growth_rate": -4.338853280817257e-06,
          "observed_growth_rate": 0.9999899994799721,
          "projected_frequency": 0.9999898064649874,
          "timepoint": "2014-04-01T00:00:00",
          "year": 2014
         },
         {
          "clade_membership": "c9346ca",
          "estimated_growth_rate": 2.997708892251376,
          "frequency": 0.16491999999999996,
          "frequency_final": 0.009550999999999999,
          "log_estimated_growth_rate": 0.47504161509297127,
          "log_observed_growth_rate": -1.1966051160083606,
          "observed_growth_rate": 0.05791292747999031,
          "projected_frequency": 0.4943821505100968,
          "timepoint": "2014-04-01T00:00:00",
          "year": 2014
         },
         {
          "clade_membership": "f2ec31a",
          "estimated_growth_rate": 1.0000418086390368,
          "frequency": 0.9999479999999997,
          "frequency_final": 0.9999379999999989,
          "log_estimated_growth_rate": 1.81387423685005e-05,
          "log_observed_growth_rate": -4.338853280817257e-06,
          "observed_growth_rate": 0.9999899994799721,
          "projected_frequency": 0.9999898064649874,
          "timepoint": "2014-04-01T00:00:00",
          "year": 2014
         },
         {
          "clade_membership": "0165eeb",
          "estimated_growth_rate": 2.0278608717590063,
          "frequency": 0.24600600000000009,
          "frequency_final": 0.8856419999999982,
          "log_estimated_growth_rate": 0.30614604429703135,
          "log_observed_growth_rate": 0.5550407970717177,
          "observed_growth_rate": 3.600082924806703,
          "projected_frequency": 0.4988659416179463,
          "timepoint": "2014-10-01T00:00:00",
          "year": 2014
         },
         {
          "clade_membership": "05daa66",
          "estimated_growth_rate": 1.0000130001690037,
          "frequency": 0.9999869999999981,
          "frequency_final": 0.9999969999999978,
          "log_estimated_growth_rate": 5.640224702136725e-06,
          "log_observed_growth_rate": 4.338640887135368e-06,
          "observed_growth_rate": 1.0000100001300014,
          "projected_frequency": 0.9999999999999996,
          "timepoint": "2014-10-01T00:00:00",
          "year": 2014
         },
         {
          "clade_membership": "07acbbd",
          "estimated_growth_rate": 1.132235332203617,
          "frequency": 0.4005790000000002,
          "frequency_final": 0.06497700000000001,
          "log_estimated_growth_rate": 0.053810378814226,
          "log_observed_growth_rate": -0.7843784298030883,
          "observed_growth_rate": 0.16220770434795628,
          "projected_frequency": 0.45354969713879284,
          "timepoint": "2014-10-01T00:00:00",
          "year": 2014
         },
         {
          "clade_membership": "1a16e36",
          "estimated_growth_rate": 0.12970816051990672,
          "frequency": 0.2642310000000001,
          "frequency_final": 0.04862400000000002,
          "log_estimated_growth_rate": -0.8761829067343302,
          "log_observed_growth_rate": -0.7279325145551926,
          "observed_growth_rate": 0.18402079998183407,
          "projected_frequency": 0.03427291696233548,
          "timepoint": "2014-10-01T00:00:00",
          "year": 2014
         },
         {
          "clade_membership": "1edac85",
          "estimated_growth_rate": 1.132235332203617,
          "frequency": 0.4005790000000002,
          "frequency_final": 0.06497700000000001,
          "log_estimated_growth_rate": 0.053810378814226,
          "log_observed_growth_rate": -0.7843784298030883,
          "observed_growth_rate": 0.16220770434795628,
          "projected_frequency": 0.45354969713879284,
          "timepoint": "2014-10-01T00:00:00",
          "year": 2014
         },
         {
          "clade_membership": "41bb3e2",
          "estimated_growth_rate": 1.0000130001690037,
          "frequency": 0.9999869999999981,
          "frequency_final": 0.9999969999999978,
          "log_estimated_growth_rate": 5.640224702136725e-06,
          "log_observed_growth_rate": 4.338640887135368e-06,
          "observed_growth_rate": 1.0000100001300014,
          "projected_frequency": 0.9999999999999996,
          "timepoint": "2014-10-01T00:00:00",
          "year": 2014
         },
         {
          "clade_membership": "66a66dd",
          "estimated_growth_rate": 0.9487126019929147,
          "frequency": 0.49226900000000023,
          "frequency_final": 0.11435500000000001,
          "log_estimated_growth_rate": -0.022817736483145164,
          "log_observed_growth_rate": -0.6310473991100869,
          "observed_growth_rate": 0.23230185122361952,
          "projected_frequency": 0.4670218038704504,
          "timepoint": "2014-10-01T00:00:00",
          "year": 2014
         },
         {
          "clade_membership": "6c1138e",
          "estimated_growth_rate": 1.0000130001690037,
          "frequency": 0.9999869999999981,
          "frequency_final": 0.9999969999999978,
          "log_estimated_growth_rate": 5.640224702136725e-06,
          "log_observed_growth_rate": 4.338640887135368e-06,
          "observed_growth_rate": 1.0000100001300014,
          "projected_frequency": 0.9999999999999996,
          "timepoint": "2014-10-01T00:00:00",
          "year": 2014
         },
         {
          "clade_membership": "7a8b37b",
          "estimated_growth_rate": 0.13499028742480546,
          "frequency": 0.2263950000000001,
          "frequency_final": 0.00043000000000000004,
          "log_estimated_growth_rate": -0.8576284203917907,
          "log_observed_growth_rate": -2.2014448736505825,
          "observed_growth_rate": 0.0018993352326685654,
          "projected_frequency": 0.030561126121538846,
          "timepoint": "2014-10-01T00:00:00",
          "year": 2014
         },
         {
          "clade_membership": "80897ab",
          "estimated_growth_rate": 1.1493931665602084,
          "frequency": 0.3933090000000001,
          "frequency_final": 0.04159,
          "log_estimated_growth_rate": 0.060325431150814124,
          "log_observed_growth_rate": -0.9665290497707902,
          "observed_growth_rate": 0.1057438299149015,
          "projected_frequency": 0.4520666769466291,
          "timepoint": "2014-10-01T00:00:00",
          "year": 2014
         },
         {
          "clade_membership": "80f959a",
          "estimated_growth_rate": 2.058106742149932,
          "frequency": 0.2420860000000001,
          "frequency_final": 0.8856419999999982,
          "log_estimated_growth_rate": 0.3125484083246708,
          "log_observed_growth_rate": 0.5619883525324071,
          "observed_growth_rate": 3.658377601348272,
          "projected_frequency": 0.4982388287801087,
          "timepoint": "2014-10-01T00:00:00",
          "year": 2014
         },
         {
          "clade_membership": "8aaed0b",
          "estimated_growth_rate": 1.0000130001690037,
          "frequency": 0.9999869999999981,
          "frequency_final": 0.9999969999999978,
          "log_estimated_growth_rate": 5.640224702136725e-06,
          "log_observed_growth_rate": 4.338640887135368e-06,
          "observed_growth_rate": 1.0000100001300014,
          "projected_frequency": 0.9999999999999996,
          "timepoint": "2014-10-01T00:00:00",
          "year": 2014
         },
         {
          "clade_membership": "934e1c1",
          "estimated_growth_rate": 2.058106742149932,
          "frequency": 0.2420860000000001,
          "frequency_final": 0.8856419999999982,
          "log_estimated_growth_rate": 0.3125484083246708,
          "log_observed_growth_rate": 0.5619883525324071,
          "observed_growth_rate": 3.658377601348272,
          "projected_frequency": 0.4982388287801087,
          "timepoint": "2014-10-01T00:00:00",
          "year": 2014
         },
         {
          "clade_membership": "956f201",
          "estimated_growth_rate": 1.0000130001690037,
          "frequency": 0.9999869999999981,
          "frequency_final": 0.9999969999999978,
          "log_estimated_growth_rate": 5.640224702136725e-06,
          "log_observed_growth_rate": 4.338640887135368e-06,
          "observed_growth_rate": 1.0000100001300014,
          "projected_frequency": 0.9999999999999996,
          "timepoint": "2014-10-01T00:00:00",
          "year": 2014
         },
         {
          "clade_membership": "a229f16",
          "estimated_growth_rate": 1.0000503962086382,
          "frequency": 0.9999419999999981,
          "frequency_final": 0.9999969999999978,
          "log_estimated_growth_rate": 2.1864378737231453e-05,
          "log_observed_growth_rate": 2.3863061272678664e-05,
          "observed_growth_rate": 1.0000550031901847,
          "projected_frequency": 0.9999923932856561,
          "timepoint": "2014-10-01T00:00:00",
          "year": 2014
         },
         {
          "clade_membership": "bc4cbe3",
          "estimated_growth_rate": 1.0000130001690037,
          "frequency": 0.9999869999999981,
          "frequency_final": 0.9999969999999978,
          "log_estimated_growth_rate": 5.640224702136725e-06,
          "log_observed_growth_rate": 4.338640887135368e-06,
          "observed_growth_rate": 1.0000100001300014,
          "projected_frequency": 0.9999999999999996,
          "timepoint": "2014-10-01T00:00:00",
          "year": 2014
         },
         {
          "clade_membership": "c9346ca",
          "estimated_growth_rate": 1.132235332203617,
          "frequency": 0.4005790000000002,
          "frequency_final": 0.06497700000000001,
          "log_estimated_growth_rate": 0.053810378814226,
          "log_observed_growth_rate": -0.7843784298030883,
          "observed_growth_rate": 0.16220770434795628,
          "projected_frequency": 0.45354969713879284,
          "timepoint": "2014-10-01T00:00:00",
          "year": 2014
         },
         {
          "clade_membership": "ea08d9e",
          "estimated_growth_rate": 2.1589174600424417,
          "frequency": 0.2306920000000001,
          "frequency_final": 0.8856419999999982,
          "log_estimated_growth_rate": 0.333228658640235,
          "log_observed_growth_rate": 0.5828372613976367,
          "observed_growth_rate": 3.8390668076916312,
          "projected_frequency": 0.49804498669211117,
          "timepoint": "2014-10-01T00:00:00",
          "year": 2014
         },
         {
          "clade_membership": "f14fabc",
          "estimated_growth_rate": 2.05707023823428,
          "frequency": 0.2422120000000001,
          "frequency_final": 0.8856419999999982,
          "log_estimated_growth_rate": 0.3123305487602352,
          "log_observed_growth_rate": 0.5617633007907,
          "observed_growth_rate": 3.6564744934189792,
          "projected_frequency": 0.49824709654320154,
          "timepoint": "2014-10-01T00:00:00",
          "year": 2014
         },
         {
          "clade_membership": "f2ec31a",
          "estimated_growth_rate": 1.0000503962086382,
          "frequency": 0.9999419999999981,
          "frequency_final": 0.9999969999999978,
          "log_estimated_growth_rate": 2.1864378737231453e-05,
          "log_observed_growth_rate": 2.3863061272678664e-05,
          "observed_growth_rate": 1.0000550031901847,
          "projected_frequency": 0.9999923932856561,
          "timepoint": "2014-10-01T00:00:00",
          "year": 2014
         }
        ]
       },
       "encoding": {
        "color": {
         "field": "timepoint",
         "type": "nominal"
        },
        "tooltip": [
         {
          "field": "observed_growth_rate",
          "type": "quantitative"
         },
         {
          "field": "estimated_growth_rate",
          "type": "quantitative"
         },
         {
          "field": "timepoint",
          "type": "nominal"
         },
         {
          "field": "frequency",
          "type": "quantitative"
         },
         {
          "field": "frequency_final",
          "type": "quantitative"
         },
         {
          "field": "projected_frequency",
          "type": "quantitative"
         },
         {
          "field": "clade_membership",
          "type": "nominal"
         }
        ],
        "x": {
         "field": "log_observed_growth_rate",
         "scale": {
          "domain": [
           -2.6466797297509754,
           1.1
          ]
         },
         "type": "quantitative"
        },
        "y": {
         "field": "log_estimated_growth_rate",
         "scale": {
          "domain": [
           -2.6466797297509754,
           1.1
          ]
         },
         "type": "quantitative"
        }
       },
       "height": 400,
       "mark": "circle",
       "selection": {
        "selector006": {
         "bind": "scales",
         "encodings": [
          "x",
          "y"
         ],
         "type": "interval"
        }
       },
       "title": "Forecasts by LBI: Pearson's R = 0.39, MCC = 0.51",
       "width": 400
      },
      "image/png": "[encoded data removed]",
      "text/plain": [
       "<VegaLite 3 object>\n",
       "\n",
       "If you see this message, it means the renderer has not been properly enabled\n",
       "for the frontend that you are using. For more information, see\n",
       "https://altair-viz.github.io/user_guide/troubleshooting.html\n"
      ]
     },
     "execution_count": 467,
     "metadata": {},
     "output_type": "execute_result"
    }
   ],
   "source": [
    "tooltip_attributes = [\"observed_growth_rate:Q\", \"estimated_growth_rate:Q\", \"timepoint:N\", \"frequency:Q\", \"frequency_final:Q\",\n",
    "                      \"projected_frequency:Q\", \"clade_membership:N\"]\n",
    "\n",
    "chart = alt.Chart(complete_clade_frequencies).mark_circle().encode(\n",
    "    alt.X(\"log_observed_growth_rate:Q\", scale=alt.Scale(domain=(log_lower_limit, log_upper_limit))),\n",
    "    alt.Y(\"log_estimated_growth_rate:Q\", scale=alt.Scale(domain=(log_lower_limit, log_upper_limit))),\n",
    "    alt.Color(\"timepoint:N\"),\n",
    "    alt.Tooltip(tooltip_attributes)\n",
    ").properties(\n",
    "    width=400,\n",
    "    height=400,\n",
    "    title=\"Forecasts by LBI: Pearson's R = %.2f, MCC = %.2f\" % (r, mcc)\n",
    ").interactive()\n",
    "\n",
    "#chart.save(\"forecast_log_growth_correlation_natural_lbi.svg\")\n",
    "chart"
   ]
  },
  {
   "cell_type": "code",
   "execution_count": 468,
   "metadata": {},
   "outputs": [
    {
     "data": {
      "text/plain": [
       "-2.6466797297509754"
      ]
     },
     "execution_count": 468,
     "metadata": {},
     "output_type": "execute_result"
    }
   ],
   "source": [
    "log_lower_limit"
   ]
  },
  {
   "cell_type": "code",
   "execution_count": 469,
   "metadata": {},
   "outputs": [
    {
     "data": {
      "text/plain": [
       "-2.5466797297509753"
      ]
     },
     "execution_count": 469,
     "metadata": {},
     "output_type": "execute_result"
    }
   ],
   "source": [
    "complete_clade_frequencies.loc[:, [\"log_observed_growth_rate\", \"log_estimated_growth_rate\"]].min().min()"
   ]
  },
  {
   "cell_type": "code",
   "execution_count": 470,
   "metadata": {},
   "outputs": [],
   "source": [
    "r, p = pearsonr(\n",
    "    complete_clade_frequencies[\"log_observed_growth_rate\"],\n",
    "    complete_clade_frequencies[\"log_estimated_growth_rate\"]\n",
    ")"
   ]
  },
  {
   "cell_type": "code",
   "execution_count": 471,
   "metadata": {},
   "outputs": [
    {
     "data": {
      "text/plain": [
       "0.4734458852000844"
      ]
     },
     "execution_count": 471,
     "metadata": {},
     "output_type": "execute_result"
    }
   ],
   "source": [
    "r"
   ]
  },
  {
   "cell_type": "code",
   "execution_count": 472,
   "metadata": {},
   "outputs": [
    {
     "data": {
      "text/plain": [
       "1.0467497294492263e-15"
      ]
     },
     "execution_count": 472,
     "metadata": {},
     "output_type": "execute_result"
    }
   ],
   "source": [
    "p"
   ]
  },
  {
   "cell_type": "code",
   "execution_count": 473,
   "metadata": {},
   "outputs": [
    {
     "data": {
      "text/plain": [
       "(0.38968967545539396, 1.0348377626546113e-10)"
      ]
     },
     "execution_count": 473,
     "metadata": {},
     "output_type": "execute_result"
    }
   ],
   "source": [
    "pearsonr(\n",
    "    complete_clade_frequencies[\"observed_growth_rate\"],\n",
    "    complete_clade_frequencies[\"estimated_growth_rate\"]\n",
    ")"
   ]
  },
  {
   "cell_type": "code",
   "execution_count": 474,
   "metadata": {},
   "outputs": [
    {
     "data": {
      "image/png": "[encoded data removed]",
      "text/plain": [
       "<Figure size 1200x1200 with 1 Axes>"
      ]
     },
     "metadata": {},
     "output_type": "display_data"
    }
   ],
   "source": [
    "fig, ax = plt.subplots(1, 1, figsize=(6, 6))\n",
    "ax.plot(\n",
    "    complete_clade_frequencies[\"log_observed_growth_rate\"],\n",
    "    complete_clade_frequencies[\"log_estimated_growth_rate\"],\n",
    "    \"o\",\n",
    "    alpha=0.4\n",
    ")\n",
    "\n",
    "ax.axhline(color=\"#cccccc\", zorder=-5)\n",
    "ax.axvline(color=\"#cccccc\", zorder=-5)\n",
    "\n",
    "if p < 0.001:\n",
    "    p_value = \"$p$ < 0.001\"\n",
    "else:\n",
    "    p_value = \"$p$ = %.3f\" % p\n",
    "\n",
    "ax.text(\n",
    "    0.02,\n",
    "    0.9,\n",
    "    \"Growth accuracy = %.2f\\nDecline accuracy = %.2f\\n$R$ = %.2f\\n%s\" % (growth_accuracy, decline_accuracy, r, p_value),\n",
    "    fontsize=12,\n",
    "    horizontalalignment=\"left\",\n",
    "    verticalalignment=\"center\",\n",
    "    transform=ax.transAxes\n",
    ")\n",
    "\n",
    "ax.set_xlabel(\"Observed $log_{10}$ growth rate\")\n",
    "ax.set_ylabel(\"Estimated $log_{10}$ growth rate\")\n",
    "\n",
    "ticks = np.arange(-6, 4, 1)\n",
    "ax.set_xticks(ticks)\n",
    "ax.set_yticks(ticks)\n",
    "\n",
    "ax.set_xlim(log_lower_limit, log_upper_limit)\n",
    "ax.set_ylim(log_lower_limit, log_upper_limit)\n",
    "ax.set_aspect(\"equal\")\n",
    "\n",
    "#plt.savefig(\"../manuscript/figures/validation-of-best-model-for-natural-populations.pdf\")"
   ]
  },
  {
   "cell_type": "markdown",
   "metadata": {},
   "source": [
    "## Estimated and observed closest strains per timepoint\n",
    "\n",
    "Create a figure similar to Figure 2D in Neher et al. 2014 showing the minimum estimated distance to the future and minimum observed distance to the future per timepoint."
   ]
  },
  {
   "cell_type": "code",
   "execution_count": 475,
   "metadata": {},
   "outputs": [],
   "source": [
    "sorted_df = full_forecasts.dropna().sort_values(\n",
    "    [\"timepoint\"]\n",
    ").copy()"
   ]
  },
  {
   "cell_type": "code",
   "execution_count": 476,
   "metadata": {},
   "outputs": [],
   "source": [
    "sorted_df[\"timepoint_rank\"] = sorted_df.groupby(\"timepoint\")[\"weighted_distance_to_future\"].rank(pct=True)"
   ]
  },
  {
   "cell_type": "code",
   "execution_count": 477,
   "metadata": {},
   "outputs": [],
   "source": [
    "best_fitness_rank_by_timepoint_df = sorted_df.sort_values(\n",
    "    [\"timepoint\", \"fitness\"],\n",
    "    ascending=False\n",
    ").groupby(\"timepoint\")[\"timepoint_rank\"].first().reset_index()"
   ]
  },
  {
   "cell_type": "code",
   "execution_count": 478,
   "metadata": {},
   "outputs": [
    {
     "data": {
      "text/html": [
       "<div>\n",
       "<style scoped>\n",
       "    .dataframe tbody tr th:only-of-type {\n",
       "        vertical-align: middle;\n",
       "    }\n",
       "\n",
       "    .dataframe tbody tr th {\n",
       "        vertical-align: top;\n",
       "    }\n",
       "\n",
       "    .dataframe thead th {\n",
       "        text-align: right;\n",
       "    }\n",
       "</style>\n",
       "<table border=\"1\" class=\"dataframe\">\n",
       "  <thead>\n",
       "    <tr style=\"text-align: right;\">\n",
       "      <th></th>\n",
       "      <th>timepoint</th>\n",
       "      <th>timepoint_rank</th>\n",
       "    </tr>\n",
       "  </thead>\n",
       "  <tbody>\n",
       "    <tr>\n",
       "      <th>0</th>\n",
       "      <td>2005-10-01</td>\n",
       "      <td>0.115217</td>\n",
       "    </tr>\n",
       "    <tr>\n",
       "      <th>1</th>\n",
       "      <td>2006-04-01</td>\n",
       "      <td>0.118863</td>\n",
       "    </tr>\n",
       "    <tr>\n",
       "      <th>2</th>\n",
       "      <td>2006-10-01</td>\n",
       "      <td>0.294737</td>\n",
       "    </tr>\n",
       "    <tr>\n",
       "      <th>3</th>\n",
       "      <td>2007-04-01</td>\n",
       "      <td>0.086605</td>\n",
       "    </tr>\n",
       "    <tr>\n",
       "      <th>4</th>\n",
       "      <td>2007-10-01</td>\n",
       "      <td>0.315565</td>\n",
       "    </tr>\n",
       "  </tbody>\n",
       "</table>\n",
       "</div>"
      ],
      "text/plain": [
       "   timepoint  timepoint_rank\n",
       "0 2005-10-01        0.115217\n",
       "1 2006-04-01        0.118863\n",
       "2 2006-10-01        0.294737\n",
       "3 2007-04-01        0.086605\n",
       "4 2007-10-01        0.315565"
      ]
     },
     "execution_count": 478,
     "metadata": {},
     "output_type": "execute_result"
    }
   ],
   "source": [
    "best_fitness_rank_by_timepoint_df.head()"
   ]
  },
  {
   "cell_type": "code",
   "execution_count": 479,
   "metadata": {},
   "outputs": [
    {
     "data": {
      "text/plain": [
       "Text(0,0.5,'Number of timepoints')"
      ]
     },
     "execution_count": 479,
     "metadata": {},
     "output_type": "execute_result"
    },
    {
     "data": {
      "image/png": "[encoded data removed]",
      "text/plain": [
       "<Figure size 1200x800 with 1 Axes>"
      ]
     },
     "metadata": {},
     "output_type": "display_data"
    }
   ],
   "source": [
    "median_best_rank = best_fitness_rank_by_timepoint_df[\"timepoint_rank\"].median()\n",
    "\n",
    "fig, ax = plt.subplots(1, 1, figsize=(6, 4))\n",
    "ax.hist(best_fitness_rank_by_timepoint_df[\"timepoint_rank\"], bins=np.arange(0, 1.01, 0.05), label=None)\n",
    "ax.axvline(\n",
    "    median_best_rank,\n",
    "    color=\"orange\",\n",
    "    label=\"median = %i%%\" % round(median_best_rank * 100, 0)\n",
    ")\n",
    "ax.set_xticklabels(['{:3.0f}%'.format(x*100) for x in [0, 0.2, 0.4, 0.6, 0.8, 1.0]])\n",
    "ax.set_xlim(0, 1)\n",
    "\n",
    "ax.legend(\n",
    "    frameon=False\n",
    ")\n",
    "ax.set_xlabel(\"Percentile rank of distance for fittest strain\")\n",
    "ax.set_ylabel(\"Number of timepoints\")"
   ]
  },
  {
   "cell_type": "markdown",
   "metadata": {},
   "source": [
    "## Merge validation figures into subpanels of one figure"
   ]
  },
  {
   "cell_type": "code",
   "execution_count": 480,
   "metadata": {},
   "outputs": [
    {
     "data": {
      "image/png": "[encoded data removed]",
      "text/plain": [
       "<Figure size 1600x800 with 2 Axes>"
      ]
     },
     "metadata": {},
     "output_type": "display_data"
    }
   ],
   "source": [
    "fig = plt.figure(figsize=(8, 4), facecolor='w')\n",
    "gs = gridspec.GridSpec(1, 2, width_ratios=[1, 1], wspace=0.1)\n",
    "\n",
    "#\n",
    "# Clade growth rate correlations\n",
    "#\n",
    "\n",
    "clade_ax = fig.add_subplot(gs[0])\n",
    "clade_ax.plot(\n",
    "    complete_clade_frequencies[\"log_observed_growth_rate\"],\n",
    "    complete_clade_frequencies[\"log_estimated_growth_rate\"],\n",
    "    \"o\",\n",
    "    alpha=0.4\n",
    ")\n",
    "\n",
    "clade_ax.axhline(color=\"#cccccc\", zorder=-5)\n",
    "clade_ax.axvline(color=\"#cccccc\", zorder=-5)\n",
    "\n",
    "if p < 0.001:\n",
    "    p_value = \"$p$ < 0.001\"\n",
    "else:\n",
    "    p_value = \"$p$ = %.3f\" % p\n",
    "\n",
    "clade_ax.text(\n",
    "    0.02,\n",
    "    0.9,\n",
    "    \"Growth accuracy = %.2f\\nDecline accuracy = %.2f\\n$R$ = %.2f\\n%s\" % (growth_accuracy, decline_accuracy, r, p_value),\n",
    "    fontsize=10,\n",
    "    horizontalalignment=\"left\",\n",
    "    verticalalignment=\"center\",\n",
    "    transform=clade_ax.transAxes\n",
    ")\n",
    "\n",
    "clade_ax.set_xlabel(\"Observed $log_{10}$ growth rate\")\n",
    "clade_ax.set_ylabel(\"Estimated $log_{10}$ growth rate\")\n",
    "\n",
    "ticks = np.arange(-6, 4, 1)\n",
    "clade_ax.set_xticks(ticks)\n",
    "clade_ax.set_yticks(ticks)\n",
    "\n",
    "clade_ax.set_xlim(log_lower_limit, log_upper_limit)\n",
    "clade_ax.set_ylim(log_lower_limit, log_upper_limit)\n",
    "clade_ax.set_aspect(\"equal\")\n",
    "\n",
    "#\n",
    "# Estimated closest strain to the future ranking\n",
    "#\n",
    "\n",
    "rank_ax = fig.add_subplot(gs[1])\n",
    "\n",
    "median_best_rank = best_fitness_rank_by_timepoint_df[\"timepoint_rank\"].median()\n",
    "\n",
    "rank_ax.hist(best_fitness_rank_by_timepoint_df[\"timepoint_rank\"], bins=np.arange(0, 1.01, 0.05), label=None)\n",
    "rank_ax.axvline(\n",
    "    median_best_rank,\n",
    "    color=\"orange\",\n",
    "    label=\"median = %i%%\" % round(median_best_rank * 100, 0)\n",
    ")\n",
    "rank_ax.set_xticklabels(['{:3.0f}%'.format(x*100) for x in [0, 0.2, 0.4, 0.6, 0.8, 1.0]])\n",
    "rank_ax.set_xlim(0, 1)\n",
    "\n",
    "rank_ax.legend(\n",
    "    frameon=False\n",
    ")\n",
    "rank_ax.set_xlabel(\"Percentile rank by distance\\nfor estimated best strain\")\n",
    "rank_ax.set_ylabel(\"Number of timepoints\")\n",
    "\n",
    "gs.tight_layout(fig)\n",
    "\n",
    "plt.savefig(\"../manuscript/figures/validation-of-best-model-for-natural-populations.png\")"
   ]
  },
  {
   "cell_type": "code",
   "execution_count": 484,
   "metadata": {},
   "outputs": [
    {
     "data": {
      "text/html": [
       "<div>\n",
       "<style scoped>\n",
       "    .dataframe tbody tr th:only-of-type {\n",
       "        vertical-align: middle;\n",
       "    }\n",
       "\n",
       "    .dataframe tbody tr th {\n",
       "        vertical-align: top;\n",
       "    }\n",
       "\n",
       "    .dataframe thead th {\n",
       "        text-align: right;\n",
       "    }\n",
       "</style>\n",
       "<table border=\"1\" class=\"dataframe\">\n",
       "  <thead>\n",
       "    <tr style=\"text-align: right;\">\n",
       "      <th></th>\n",
       "      <th>timepoint</th>\n",
       "      <th>clade_membership</th>\n",
       "      <th>frequency</th>\n",
       "      <th>frequency_final</th>\n",
       "      <th>observed_growth_rate</th>\n",
       "      <th>projected_frequency</th>\n",
       "      <th>estimated_growth_rate</th>\n",
       "      <th>year</th>\n",
       "      <th>log_observed_growth_rate</th>\n",
       "      <th>log_estimated_growth_rate</th>\n",
       "    </tr>\n",
       "  </thead>\n",
       "  <tbody>\n",
       "    <tr>\n",
       "      <th>45</th>\n",
       "      <td>2007-04-01</td>\n",
       "      <td>3c0baec</td>\n",
       "      <td>0.749524</td>\n",
       "      <td>0.005121</td>\n",
       "      <td>0.006832</td>\n",
       "      <td>0.940363</td>\n",
       "      <td>1.254614</td>\n",
       "      <td>2007</td>\n",
       "      <td>-2.088542</td>\n",
       "      <td>0.098393</td>\n",
       "    </tr>\n",
       "    <tr>\n",
       "      <th>58</th>\n",
       "      <td>2007-04-01</td>\n",
       "      <td>ac68424</td>\n",
       "      <td>0.749524</td>\n",
       "      <td>0.005121</td>\n",
       "      <td>0.006832</td>\n",
       "      <td>0.940363</td>\n",
       "      <td>1.254614</td>\n",
       "      <td>2007</td>\n",
       "      <td>-2.088542</td>\n",
       "      <td>0.098393</td>\n",
       "    </tr>\n",
       "    <tr>\n",
       "      <th>63</th>\n",
       "      <td>2007-10-01</td>\n",
       "      <td>3c0baec</td>\n",
       "      <td>0.794419</td>\n",
       "      <td>0.001259</td>\n",
       "      <td>0.001585</td>\n",
       "      <td>0.960983</td>\n",
       "      <td>1.209668</td>\n",
       "      <td>2007</td>\n",
       "      <td>-2.546680</td>\n",
       "      <td>0.082571</td>\n",
       "    </tr>\n",
       "    <tr>\n",
       "      <th>184</th>\n",
       "      <td>2012-10-01</td>\n",
       "      <td>6c1138e</td>\n",
       "      <td>0.523283</td>\n",
       "      <td>0.002415</td>\n",
       "      <td>0.004615</td>\n",
       "      <td>0.891225</td>\n",
       "      <td>1.703142</td>\n",
       "      <td>2012</td>\n",
       "      <td>-2.186175</td>\n",
       "      <td>0.230909</td>\n",
       "    </tr>\n",
       "  </tbody>\n",
       "</table>\n",
       "</div>"
      ],
      "text/plain": [
       "     timepoint clade_membership  frequency  frequency_final  \\\n",
       "45  2007-04-01          3c0baec   0.749524         0.005121   \n",
       "58  2007-04-01          ac68424   0.749524         0.005121   \n",
       "63  2007-10-01          3c0baec   0.794419         0.001259   \n",
       "184 2012-10-01          6c1138e   0.523283         0.002415   \n",
       "\n",
       "     observed_growth_rate  projected_frequency  estimated_growth_rate  year  \\\n",
       "45               0.006832             0.940363               1.254614  2007   \n",
       "58               0.006832             0.940363               1.254614  2007   \n",
       "63               0.001585             0.960983               1.209668  2007   \n",
       "184              0.004615             0.891225               1.703142  2012   \n",
       "\n",
       "     log_observed_growth_rate  log_estimated_growth_rate  \n",
       "45                  -2.088542                   0.098393  \n",
       "58                  -2.088542                   0.098393  \n",
       "63                  -2.546680                   0.082571  \n",
       "184                 -2.186175                   0.230909  "
      ]
     },
     "execution_count": 484,
     "metadata": {},
     "output_type": "execute_result"
    }
   ],
   "source": [
    "complete_clade_frequencies.query(\"frequency > 0.5 & frequency_final < 0.01\")"
   ]
  },
  {
   "cell_type": "code",
   "execution_count": 485,
   "metadata": {},
   "outputs": [
    {
     "data": {
      "text/html": [
       "<div>\n",
       "<style scoped>\n",
       "    .dataframe tbody tr th:only-of-type {\n",
       "        vertical-align: middle;\n",
       "    }\n",
       "\n",
       "    .dataframe tbody tr th {\n",
       "        vertical-align: top;\n",
       "    }\n",
       "\n",
       "    .dataframe thead th {\n",
       "        text-align: right;\n",
       "    }\n",
       "</style>\n",
       "<table border=\"1\" class=\"dataframe\">\n",
       "  <thead>\n",
       "    <tr style=\"text-align: right;\">\n",
       "      <th></th>\n",
       "      <th>timepoint</th>\n",
       "      <th>clade_membership</th>\n",
       "      <th>frequency</th>\n",
       "      <th>frequency_final</th>\n",
       "      <th>observed_growth_rate</th>\n",
       "      <th>projected_frequency</th>\n",
       "      <th>estimated_growth_rate</th>\n",
       "      <th>year</th>\n",
       "      <th>log_observed_growth_rate</th>\n",
       "      <th>log_estimated_growth_rate</th>\n",
       "    </tr>\n",
       "  </thead>\n",
       "  <tbody>\n",
       "    <tr>\n",
       "      <th>30</th>\n",
       "      <td>2006-10-01</td>\n",
       "      <td>3c0baec</td>\n",
       "      <td>0.473712</td>\n",
       "      <td>0.794419</td>\n",
       "      <td>1.677008</td>\n",
       "      <td>0.530804</td>\n",
       "      <td>1.120520</td>\n",
       "      <td>2006</td>\n",
       "      <td>0.224166</td>\n",
       "      <td>4.932102e-02</td>\n",
       "    </tr>\n",
       "    <tr>\n",
       "      <th>45</th>\n",
       "      <td>2007-04-01</td>\n",
       "      <td>3c0baec</td>\n",
       "      <td>0.749524</td>\n",
       "      <td>0.005121</td>\n",
       "      <td>0.006832</td>\n",
       "      <td>0.940363</td>\n",
       "      <td>1.254614</td>\n",
       "      <td>2007</td>\n",
       "      <td>-2.088542</td>\n",
       "      <td>9.839274e-02</td>\n",
       "    </tr>\n",
       "    <tr>\n",
       "      <th>63</th>\n",
       "      <td>2007-10-01</td>\n",
       "      <td>3c0baec</td>\n",
       "      <td>0.794419</td>\n",
       "      <td>0.001259</td>\n",
       "      <td>0.001585</td>\n",
       "      <td>0.960983</td>\n",
       "      <td>1.209668</td>\n",
       "      <td>2007</td>\n",
       "      <td>-2.546680</td>\n",
       "      <td>8.257142e-02</td>\n",
       "    </tr>\n",
       "    <tr>\n",
       "      <th>99</th>\n",
       "      <td>2009-04-01</td>\n",
       "      <td>3c0baec</td>\n",
       "      <td>0.999987</td>\n",
       "      <td>1.000002</td>\n",
       "      <td>1.000015</td>\n",
       "      <td>1.000000</td>\n",
       "      <td>1.000013</td>\n",
       "      <td>2009</td>\n",
       "      <td>0.000007</td>\n",
       "      <td>5.640225e-06</td>\n",
       "    </tr>\n",
       "    <tr>\n",
       "      <th>107</th>\n",
       "      <td>2009-10-01</td>\n",
       "      <td>3c0baec</td>\n",
       "      <td>0.999961</td>\n",
       "      <td>0.999932</td>\n",
       "      <td>0.999971</td>\n",
       "      <td>1.000000</td>\n",
       "      <td>1.000039</td>\n",
       "      <td>2009</td>\n",
       "      <td>-0.000013</td>\n",
       "      <td>1.692089e-05</td>\n",
       "    </tr>\n",
       "    <tr>\n",
       "      <th>120</th>\n",
       "      <td>2010-04-01</td>\n",
       "      <td>3c0baec</td>\n",
       "      <td>1.000002</td>\n",
       "      <td>0.999983</td>\n",
       "      <td>0.999981</td>\n",
       "      <td>1.000000</td>\n",
       "      <td>0.999998</td>\n",
       "      <td>2010</td>\n",
       "      <td>-0.000008</td>\n",
       "      <td>-8.677204e-07</td>\n",
       "    </tr>\n",
       "    <tr>\n",
       "      <th>133</th>\n",
       "      <td>2010-10-01</td>\n",
       "      <td>3c0baec</td>\n",
       "      <td>0.999932</td>\n",
       "      <td>0.999981</td>\n",
       "      <td>1.000049</td>\n",
       "      <td>1.000000</td>\n",
       "      <td>1.000068</td>\n",
       "      <td>2010</td>\n",
       "      <td>0.000021</td>\n",
       "      <td>2.950352e-05</td>\n",
       "    </tr>\n",
       "    <tr>\n",
       "      <th>159</th>\n",
       "      <td>2011-10-01</td>\n",
       "      <td>3c0baec</td>\n",
       "      <td>0.999981</td>\n",
       "      <td>0.996469</td>\n",
       "      <td>0.996488</td>\n",
       "      <td>1.000000</td>\n",
       "      <td>1.000019</td>\n",
       "      <td>2011</td>\n",
       "      <td>-0.001526</td>\n",
       "      <td>8.243430e-06</td>\n",
       "    </tr>\n",
       "    <tr>\n",
       "      <th>181</th>\n",
       "      <td>2012-10-01</td>\n",
       "      <td>3c0baec</td>\n",
       "      <td>0.996469</td>\n",
       "      <td>0.999989</td>\n",
       "      <td>1.003532</td>\n",
       "      <td>1.000000</td>\n",
       "      <td>1.003544</td>\n",
       "      <td>2012</td>\n",
       "      <td>0.001530</td>\n",
       "      <td>1.534670e-03</td>\n",
       "    </tr>\n",
       "  </tbody>\n",
       "</table>\n",
       "</div>"
      ],
      "text/plain": [
       "     timepoint clade_membership  frequency  frequency_final  \\\n",
       "30  2006-10-01          3c0baec   0.473712         0.794419   \n",
       "45  2007-04-01          3c0baec   0.749524         0.005121   \n",
       "63  2007-10-01          3c0baec   0.794419         0.001259   \n",
       "99  2009-04-01          3c0baec   0.999987         1.000002   \n",
       "107 2009-10-01          3c0baec   0.999961         0.999932   \n",
       "120 2010-04-01          3c0baec   1.000002         0.999983   \n",
       "133 2010-10-01          3c0baec   0.999932         0.999981   \n",
       "159 2011-10-01          3c0baec   0.999981         0.996469   \n",
       "181 2012-10-01          3c0baec   0.996469         0.999989   \n",
       "\n",
       "     observed_growth_rate  projected_frequency  estimated_growth_rate  year  \\\n",
       "30               1.677008             0.530804               1.120520  2006   \n",
       "45               0.006832             0.940363               1.254614  2007   \n",
       "63               0.001585             0.960983               1.209668  2007   \n",
       "99               1.000015             1.000000               1.000013  2009   \n",
       "107              0.999971             1.000000               1.000039  2009   \n",
       "120              0.999981             1.000000               0.999998  2010   \n",
       "133              1.000049             1.000000               1.000068  2010   \n",
       "159              0.996488             1.000000               1.000019  2011   \n",
       "181              1.003532             1.000000               1.003544  2012   \n",
       "\n",
       "     log_observed_growth_rate  log_estimated_growth_rate  \n",
       "30                   0.224166               4.932102e-02  \n",
       "45                  -2.088542               9.839274e-02  \n",
       "63                  -2.546680               8.257142e-02  \n",
       "99                   0.000007               5.640225e-06  \n",
       "107                 -0.000013               1.692089e-05  \n",
       "120                 -0.000008              -8.677204e-07  \n",
       "133                  0.000021               2.950352e-05  \n",
       "159                 -0.001526               8.243430e-06  \n",
       "181                  0.001530               1.534670e-03  "
      ]
     },
     "execution_count": 485,
     "metadata": {},
     "output_type": "execute_result"
    }
   ],
   "source": [
    "complete_clade_frequencies.query(\"clade_membership == '3c0baec'\")"
   ]
  },
  {
   "cell_type": "code",
   "execution_count": 486,
   "metadata": {},
   "outputs": [
    {
     "data": {
      "text/html": [
       "<div>\n",
       "<style scoped>\n",
       "    .dataframe tbody tr th:only-of-type {\n",
       "        vertical-align: middle;\n",
       "    }\n",
       "\n",
       "    .dataframe tbody tr th {\n",
       "        vertical-align: top;\n",
       "    }\n",
       "\n",
       "    .dataframe thead th {\n",
       "        text-align: right;\n",
       "    }\n",
       "</style>\n",
       "<table border=\"1\" class=\"dataframe\">\n",
       "  <thead>\n",
       "    <tr style=\"text-align: right;\">\n",
       "      <th></th>\n",
       "      <th>timepoint</th>\n",
       "      <th>future_timepoint</th>\n",
       "      <th>clade_membership</th>\n",
       "      <th>frequency</th>\n",
       "    </tr>\n",
       "  </thead>\n",
       "  <tbody>\n",
       "    <tr>\n",
       "      <th>264</th>\n",
       "      <td>2006-10-01</td>\n",
       "      <td>2007-10-01</td>\n",
       "      <td>3c0baec</td>\n",
       "      <td>0.473712</td>\n",
       "    </tr>\n",
       "    <tr>\n",
       "      <th>365</th>\n",
       "      <td>2007-04-01</td>\n",
       "      <td>2008-04-01</td>\n",
       "      <td>3c0baec</td>\n",
       "      <td>0.749524</td>\n",
       "    </tr>\n",
       "    <tr>\n",
       "      <th>475</th>\n",
       "      <td>2007-10-01</td>\n",
       "      <td>2008-10-01</td>\n",
       "      <td>3c0baec</td>\n",
       "      <td>0.794419</td>\n",
       "    </tr>\n",
       "    <tr>\n",
       "      <th>586</th>\n",
       "      <td>2008-04-01</td>\n",
       "      <td>2009-04-01</td>\n",
       "      <td>3c0baec</td>\n",
       "      <td>0.005121</td>\n",
       "    </tr>\n",
       "    <tr>\n",
       "      <th>713</th>\n",
       "      <td>2008-10-01</td>\n",
       "      <td>2009-10-01</td>\n",
       "      <td>3c0baec</td>\n",
       "      <td>0.001259</td>\n",
       "    </tr>\n",
       "    <tr>\n",
       "      <th>829</th>\n",
       "      <td>2009-04-01</td>\n",
       "      <td>2010-04-01</td>\n",
       "      <td>3c0baec</td>\n",
       "      <td>0.999987</td>\n",
       "    </tr>\n",
       "    <tr>\n",
       "      <th>952</th>\n",
       "      <td>2009-10-01</td>\n",
       "      <td>2010-10-01</td>\n",
       "      <td>3c0baec</td>\n",
       "      <td>0.999961</td>\n",
       "    </tr>\n",
       "    <tr>\n",
       "      <th>1072</th>\n",
       "      <td>2010-04-01</td>\n",
       "      <td>2011-04-01</td>\n",
       "      <td>3c0baec</td>\n",
       "      <td>1.000002</td>\n",
       "    </tr>\n",
       "    <tr>\n",
       "      <th>1188</th>\n",
       "      <td>2010-10-01</td>\n",
       "      <td>2011-10-01</td>\n",
       "      <td>3c0baec</td>\n",
       "      <td>0.999932</td>\n",
       "    </tr>\n",
       "    <tr>\n",
       "      <th>1319</th>\n",
       "      <td>2011-04-01</td>\n",
       "      <td>2012-04-01</td>\n",
       "      <td>3c0baec</td>\n",
       "      <td>0.999983</td>\n",
       "    </tr>\n",
       "    <tr>\n",
       "      <th>1468</th>\n",
       "      <td>2011-10-01</td>\n",
       "      <td>2012-10-01</td>\n",
       "      <td>3c0baec</td>\n",
       "      <td>0.999981</td>\n",
       "    </tr>\n",
       "    <tr>\n",
       "      <th>1775</th>\n",
       "      <td>2012-10-01</td>\n",
       "      <td>2013-10-01</td>\n",
       "      <td>3c0baec</td>\n",
       "      <td>0.996469</td>\n",
       "    </tr>\n",
       "    <tr>\n",
       "      <th>1928</th>\n",
       "      <td>2013-04-01</td>\n",
       "      <td>2014-04-01</td>\n",
       "      <td>3c0baec</td>\n",
       "      <td>0.999965</td>\n",
       "    </tr>\n",
       "    <tr>\n",
       "      <th>2039</th>\n",
       "      <td>2013-10-01</td>\n",
       "      <td>2014-10-01</td>\n",
       "      <td>3c0baec</td>\n",
       "      <td>0.999989</td>\n",
       "    </tr>\n",
       "  </tbody>\n",
       "</table>\n",
       "</div>"
      ],
      "text/plain": [
       "      timepoint future_timepoint clade_membership  frequency\n",
       "264  2006-10-01       2007-10-01          3c0baec   0.473712\n",
       "365  2007-04-01       2008-04-01          3c0baec   0.749524\n",
       "475  2007-10-01       2008-10-01          3c0baec   0.794419\n",
       "586  2008-04-01       2009-04-01          3c0baec   0.005121\n",
       "713  2008-10-01       2009-10-01          3c0baec   0.001259\n",
       "829  2009-04-01       2010-04-01          3c0baec   0.999987\n",
       "952  2009-10-01       2010-10-01          3c0baec   0.999961\n",
       "1072 2010-04-01       2011-04-01          3c0baec   1.000002\n",
       "1188 2010-10-01       2011-10-01          3c0baec   0.999932\n",
       "1319 2011-04-01       2012-04-01          3c0baec   0.999983\n",
       "1468 2011-10-01       2012-10-01          3c0baec   0.999981\n",
       "1775 2012-10-01       2013-10-01          3c0baec   0.996469\n",
       "1928 2013-04-01       2014-04-01          3c0baec   0.999965\n",
       "2039 2013-10-01       2014-10-01          3c0baec   0.999989"
      ]
     },
     "execution_count": 486,
     "metadata": {},
     "output_type": "execute_result"
    }
   ],
   "source": [
    "initial_clade_frequencies.query(\"clade_membership == '3c0baec'\")"
   ]
  },
  {
   "cell_type": "code",
   "execution_count": 494,
   "metadata": {},
   "outputs": [
    {
     "data": {
      "text/html": [
       "<div>\n",
       "<style scoped>\n",
       "    .dataframe tbody tr th:only-of-type {\n",
       "        vertical-align: middle;\n",
       "    }\n",
       "\n",
       "    .dataframe tbody tr th {\n",
       "        vertical-align: top;\n",
       "    }\n",
       "\n",
       "    .dataframe thead th {\n",
       "        text-align: right;\n",
       "    }\n",
       "</style>\n",
       "<table border=\"1\" class=\"dataframe\">\n",
       "  <thead>\n",
       "    <tr style=\"text-align: right;\">\n",
       "      <th></th>\n",
       "      <th>timepoint</th>\n",
       "      <th>future_timepoint</th>\n",
       "      <th>clade_membership</th>\n",
       "      <th>frequency</th>\n",
       "    </tr>\n",
       "  </thead>\n",
       "  <tbody>\n",
       "    <tr>\n",
       "      <th>1343</th>\n",
       "      <td>2011-04-01</td>\n",
       "      <td>2012-04-01</td>\n",
       "      <td>6c1138e</td>\n",
       "      <td>0.005861</td>\n",
       "    </tr>\n",
       "    <tr>\n",
       "      <th>1485</th>\n",
       "      <td>2011-10-01</td>\n",
       "      <td>2012-10-01</td>\n",
       "      <td>6c1138e</td>\n",
       "      <td>0.145249</td>\n",
       "    </tr>\n",
       "    <tr>\n",
       "      <th>1642</th>\n",
       "      <td>2012-04-01</td>\n",
       "      <td>2013-04-01</td>\n",
       "      <td>6c1138e</td>\n",
       "      <td>0.364462</td>\n",
       "    </tr>\n",
       "    <tr>\n",
       "      <th>1804</th>\n",
       "      <td>2012-10-01</td>\n",
       "      <td>2013-10-01</td>\n",
       "      <td>6c1138e</td>\n",
       "      <td>0.523283</td>\n",
       "    </tr>\n",
       "    <tr>\n",
       "      <th>1952</th>\n",
       "      <td>2013-04-01</td>\n",
       "      <td>2014-04-01</td>\n",
       "      <td>6c1138e</td>\n",
       "      <td>0.927434</td>\n",
       "    </tr>\n",
       "    <tr>\n",
       "      <th>2059</th>\n",
       "      <td>2013-10-01</td>\n",
       "      <td>2014-10-01</td>\n",
       "      <td>6c1138e</td>\n",
       "      <td>0.002415</td>\n",
       "    </tr>\n",
       "    <tr>\n",
       "      <th>2175</th>\n",
       "      <td>2014-04-01</td>\n",
       "      <td>2015-04-01</td>\n",
       "      <td>6c1138e</td>\n",
       "      <td>0.999948</td>\n",
       "    </tr>\n",
       "    <tr>\n",
       "      <th>2300</th>\n",
       "      <td>2014-10-01</td>\n",
       "      <td>2015-10-01</td>\n",
       "      <td>6c1138e</td>\n",
       "      <td>0.999987</td>\n",
       "    </tr>\n",
       "    <tr>\n",
       "      <th>2451</th>\n",
       "      <td>2015-04-01</td>\n",
       "      <td>2016-04-01</td>\n",
       "      <td>6c1138e</td>\n",
       "      <td>0.999938</td>\n",
       "    </tr>\n",
       "    <tr>\n",
       "      <th>2615</th>\n",
       "      <td>2015-10-01</td>\n",
       "      <td>2016-10-01</td>\n",
       "      <td>6c1138e</td>\n",
       "      <td>0.999997</td>\n",
       "    </tr>\n",
       "  </tbody>\n",
       "</table>\n",
       "</div>"
      ],
      "text/plain": [
       "      timepoint future_timepoint clade_membership  frequency\n",
       "1343 2011-04-01       2012-04-01          6c1138e   0.005861\n",
       "1485 2011-10-01       2012-10-01          6c1138e   0.145249\n",
       "1642 2012-04-01       2013-04-01          6c1138e   0.364462\n",
       "1804 2012-10-01       2013-10-01          6c1138e   0.523283\n",
       "1952 2013-04-01       2014-04-01          6c1138e   0.927434\n",
       "2059 2013-10-01       2014-10-01          6c1138e   0.002415\n",
       "2175 2014-04-01       2015-04-01          6c1138e   0.999948\n",
       "2300 2014-10-01       2015-10-01          6c1138e   0.999987\n",
       "2451 2015-04-01       2016-04-01          6c1138e   0.999938\n",
       "2615 2015-10-01       2016-10-01          6c1138e   0.999997"
      ]
     },
     "execution_count": 494,
     "metadata": {},
     "output_type": "execute_result"
    }
   ],
   "source": [
    "initial_clade_frequencies.query(\"clade_membership == '6c1138e'\")"
   ]
  },
  {
   "cell_type": "code",
   "execution_count": null,
   "metadata": {},
   "outputs": [],
   "source": []
  }
 ],
 "metadata": {
  "kernelspec": {
   "display_name": "Python 3",
   "language": "python",
   "name": "python3"
  },
  "language_info": {
   "codemirror_mode": {
    "name": "ipython",
    "version": 3
   },
   "file_extension": ".py",
   "mimetype": "text/x-python",
   "name": "python",
   "nbconvert_exporter": "python",
   "pygments_lexer": "ipython3",
   "version": "3.6.7"
  }
 },
 "nbformat": 4,
 "nbformat_minor": 4
}
