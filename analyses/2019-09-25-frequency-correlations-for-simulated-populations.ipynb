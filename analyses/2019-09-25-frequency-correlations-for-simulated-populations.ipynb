{
 "cells": [
  {
   "cell_type": "markdown",
   "metadata": {},
   "source": [
    "# Frequency correlation plots for simulated populations\n",
    "\n",
    "Another attempt at calculating clade frequencies from tip-to-clade mappings without using a full tree."
   ]
  },
  {
   "cell_type": "code",
   "execution_count": 1,
   "metadata": {},
   "outputs": [],
   "source": [
    "import altair as alt\n",
    "import matplotlib as mpl\n",
    "import matplotlib.pyplot as plt\n",
    "import matplotlib.gridspec as gridspec\n",
    "import numpy as np\n",
    "import pandas as pd\n",
    "from scipy.stats import pearsonr\n",
    "import seaborn as sns\n",
    "\n",
    "%matplotlib inline"
   ]
  },
  {
   "cell_type": "code",
   "execution_count": 2,
   "metadata": {},
   "outputs": [],
   "source": [
    "sns.set_style(\"white\")\n",
    "plt.style.use(\"huddlej\")"
   ]
  },
  {
   "cell_type": "code",
   "execution_count": 3,
   "metadata": {},
   "outputs": [],
   "source": [
    "mpl.rcParams['savefig.dpi'] = 200\n",
    "mpl.rcParams['figure.dpi'] = 200\n",
    "mpl.rcParams['font.weight'] = 300\n",
    "mpl.rcParams['axes.labelweight'] = 300\n",
    "mpl.rcParams['font.size'] = 18"
   ]
  },
  {
   "cell_type": "code",
   "execution_count": 4,
   "metadata": {},
   "outputs": [
    {
     "name": "stdout",
     "output_type": "stream",
     "text": [
      "/Users/jlhudd/projects/nextstrain/flu-forecasting/analyses\n"
     ]
    }
   ],
   "source": [
    "!pwd"
   ]
  },
  {
   "cell_type": "code",
   "execution_count": 5,
   "metadata": {},
   "outputs": [],
   "source": [
    "def matthews_correlation_coefficient(tp, tn, fp, fn):\n",
    "    \"\"\"Return Matthews correlation coefficient for values from a confusion matrix.\n",
    "    Implementation is based on the definition from wikipedia:\n",
    "\n",
    "    https://en.wikipedia.org/wiki/Matthews_correlation_coefficient\n",
    "    \"\"\"\n",
    "    numerator = (tp * tn) - (fp * fn)\n",
    "    denominator = np.sqrt((tp + fp) * (tp + fn) * (tn + fp) * (tn + fn))\n",
    "    if denominator == 0:\n",
    "            denominator = 1\n",
    "\n",
    "    return float(numerator) / denominator\n",
    "\n",
    "def get_matthews_correlation_coefficient_for_data_frame(freq_df, return_confusion_matrix=False):\n",
    "        \"\"\"Calculate Matthew's correlation coefficient from a given pandas data frame\n",
    "        with columns for initial, observed, and predicted frequencies.\n",
    "        \"\"\"\n",
    "        observed_growth = (freq_df[\"observed_frequency\"] > freq_df[\"initial_frequency\"])\n",
    "        predicted_growth = (freq_df[\"estimated_frequency\"] > freq_df[\"initial_frequency\"])\n",
    "        true_positives = ((observed_growth) & (predicted_growth)).sum()\n",
    "        false_positives= ((~observed_growth) & (predicted_growth)).sum()\n",
    "\n",
    "        observed_decline = (freq_df[\"observed_frequency\"] <= freq_df[\"initial_frequency\"])\n",
    "        predicted_decline = (freq_df[\"estimated_frequency\"] <= freq_df[\"initial_frequency\"])\n",
    "        true_negatives = ((observed_decline) & (predicted_decline)).sum()\n",
    "        false_negatives = ((~observed_decline) & (predicted_decline)).sum()\n",
    "\n",
    "        mcc = matthews_correlation_coefficient(\n",
    "            true_positives,\n",
    "            true_negatives,\n",
    "            false_positives,\n",
    "            false_negatives\n",
    "        )\n",
    "\n",
    "        if return_confusion_matrix:\n",
    "            confusion_matrix = {\n",
    "                \"tp\": true_positives,\n",
    "                \"tn\": true_negatives,\n",
    "                \"fp\": false_positives,\n",
    "                \"fn\": false_negatives\n",
    "            }\n",
    "            \n",
    "            return mcc, confusion_matrix\n",
    "        else:\n",
    "            return mcc"
   ]
  },
  {
   "cell_type": "markdown",
   "metadata": {},
   "source": [
    "## Load data"
   ]
  },
  {
   "cell_type": "code",
   "execution_count": 6,
   "metadata": {},
   "outputs": [],
   "source": [
    "data_root = \"../results/builds/simulated/simulated_sample_3/\""
   ]
  },
  {
   "cell_type": "code",
   "execution_count": 7,
   "metadata": {},
   "outputs": [],
   "source": [
    "tips = pd.read_csv(\n",
    "    \"%s/tip_attributes_with_weighted_distances.tsv\" % data_root,\n",
    "    sep=\"\\t\",\n",
    "    parse_dates=[\"timepoint\"],\n",
    "    usecols=[\"strain\", \"timepoint\", \"frequency\"]\n",
    ")"
   ]
  },
  {
   "cell_type": "code",
   "execution_count": 8,
   "metadata": {},
   "outputs": [],
   "source": [
    "first_validation_timepoint = \"2023-10-01\""
   ]
  },
  {
   "cell_type": "code",
   "execution_count": 9,
   "metadata": {},
   "outputs": [],
   "source": [
    "tips = tips.query(\"timepoint >= '%s'\" % first_validation_timepoint).copy()"
   ]
  },
  {
   "cell_type": "code",
   "execution_count": 10,
   "metadata": {},
   "outputs": [
    {
     "data": {
      "text/plain": [
       "(22050, 3)"
      ]
     },
     "execution_count": 10,
     "metadata": {},
     "output_type": "execute_result"
    }
   ],
   "source": [
    "tips.shape"
   ]
  },
  {
   "cell_type": "code",
   "execution_count": 11,
   "metadata": {},
   "outputs": [],
   "source": [
    "tips[\"future_timepoint\"] = tips[\"timepoint\"] + pd.DateOffset(months=12)"
   ]
  },
  {
   "cell_type": "code",
   "execution_count": 12,
   "metadata": {},
   "outputs": [],
   "source": [
    "tips.set_index([\"timepoint\", \"future_timepoint\", \"strain\"], inplace=True)"
   ]
  },
  {
   "cell_type": "code",
   "execution_count": 13,
   "metadata": {},
   "outputs": [
    {
     "data": {
      "text/html": [
       "<div>\n",
       "<style scoped>\n",
       "    .dataframe tbody tr th:only-of-type {\n",
       "        vertical-align: middle;\n",
       "    }\n",
       "\n",
       "    .dataframe tbody tr th {\n",
       "        vertical-align: top;\n",
       "    }\n",
       "\n",
       "    .dataframe thead th {\n",
       "        text-align: right;\n",
       "    }\n",
       "</style>\n",
       "<table border=\"1\" class=\"dataframe\">\n",
       "  <thead>\n",
       "    <tr style=\"text-align: right;\">\n",
       "      <th></th>\n",
       "      <th></th>\n",
       "      <th></th>\n",
       "      <th>frequency</th>\n",
       "    </tr>\n",
       "    <tr>\n",
       "      <th>timepoint</th>\n",
       "      <th>future_timepoint</th>\n",
       "      <th>strain</th>\n",
       "      <th></th>\n",
       "    </tr>\n",
       "  </thead>\n",
       "  <tbody>\n",
       "    <tr>\n",
       "      <th>2023-10-01</th>\n",
       "      <th>2024-10-01</th>\n",
       "      <th>sample_4636_1</th>\n",
       "      <td>0.000013</td>\n",
       "    </tr>\n",
       "  </tbody>\n",
       "</table>\n",
       "</div>"
      ],
      "text/plain": [
       "                                           frequency\n",
       "timepoint  future_timepoint strain                  \n",
       "2023-10-01 2024-10-01       sample_4636_1   0.000013"
      ]
     },
     "execution_count": 13,
     "metadata": {},
     "output_type": "execute_result"
    }
   ],
   "source": [
    "tips.head(1)"
   ]
  },
  {
   "cell_type": "code",
   "execution_count": 14,
   "metadata": {},
   "outputs": [],
   "source": [
    "tips_to_clades = pd.read_csv(\"%s/tips_to_clades.tsv\" % data_root, sep=\"\\t\", parse_dates=[\"timepoint\"])"
   ]
  },
  {
   "cell_type": "code",
   "execution_count": 15,
   "metadata": {},
   "outputs": [],
   "source": [
    "tips_to_clades = tips_to_clades.query(\"timepoint >= '%s'\" % first_validation_timepoint).copy()"
   ]
  },
  {
   "cell_type": "code",
   "execution_count": 16,
   "metadata": {},
   "outputs": [],
   "source": [
    "tips_to_clades = tips_to_clades.rename(columns={\"tip\": \"strain\"})"
   ]
  },
  {
   "cell_type": "code",
   "execution_count": 17,
   "metadata": {},
   "outputs": [],
   "source": [
    "tips_to_clades.set_index([\"timepoint\", \"strain\"], inplace=True)"
   ]
  },
  {
   "cell_type": "code",
   "execution_count": 18,
   "metadata": {},
   "outputs": [
    {
     "data": {
      "text/html": [
       "<div>\n",
       "<style scoped>\n",
       "    .dataframe tbody tr th:only-of-type {\n",
       "        vertical-align: middle;\n",
       "    }\n",
       "\n",
       "    .dataframe tbody tr th {\n",
       "        vertical-align: top;\n",
       "    }\n",
       "\n",
       "    .dataframe thead th {\n",
       "        text-align: right;\n",
       "    }\n",
       "</style>\n",
       "<table border=\"1\" class=\"dataframe\">\n",
       "  <thead>\n",
       "    <tr style=\"text-align: right;\">\n",
       "      <th></th>\n",
       "      <th></th>\n",
       "      <th>clade_membership</th>\n",
       "      <th>depth</th>\n",
       "    </tr>\n",
       "    <tr>\n",
       "      <th>timepoint</th>\n",
       "      <th>strain</th>\n",
       "      <th></th>\n",
       "      <th></th>\n",
       "    </tr>\n",
       "  </thead>\n",
       "  <tbody>\n",
       "    <tr>\n",
       "      <th rowspan=\"5\" valign=\"top\">2023-10-01</th>\n",
       "      <th>sample_3560_60</th>\n",
       "      <td>4d834db</td>\n",
       "      <td>0</td>\n",
       "    </tr>\n",
       "    <tr>\n",
       "      <th>sample_3560_60</th>\n",
       "      <td>80a6fb5</td>\n",
       "      <td>2</td>\n",
       "    </tr>\n",
       "    <tr>\n",
       "      <th>sample_3552_23</th>\n",
       "      <td>14321ad</td>\n",
       "      <td>0</td>\n",
       "    </tr>\n",
       "    <tr>\n",
       "      <th>sample_3552_23</th>\n",
       "      <td>4d834db</td>\n",
       "      <td>2</td>\n",
       "    </tr>\n",
       "    <tr>\n",
       "      <th>sample_3552_23</th>\n",
       "      <td>80a6fb5</td>\n",
       "      <td>3</td>\n",
       "    </tr>\n",
       "  </tbody>\n",
       "</table>\n",
       "</div>"
      ],
      "text/plain": [
       "                          clade_membership  depth\n",
       "timepoint  strain                                \n",
       "2023-10-01 sample_3560_60          4d834db      0\n",
       "           sample_3560_60          80a6fb5      2\n",
       "           sample_3552_23          14321ad      0\n",
       "           sample_3552_23          4d834db      2\n",
       "           sample_3552_23          80a6fb5      3"
      ]
     },
     "execution_count": 18,
     "metadata": {},
     "output_type": "execute_result"
    }
   ],
   "source": [
    "tips_to_clades.head()"
   ]
  },
  {
   "cell_type": "code",
   "execution_count": 19,
   "metadata": {},
   "outputs": [
    {
     "data": {
      "text/plain": [
       "(3403957, 2)"
      ]
     },
     "execution_count": 19,
     "metadata": {},
     "output_type": "execute_result"
    }
   ],
   "source": [
    "tips_to_clades.shape"
   ]
  },
  {
   "cell_type": "code",
   "execution_count": 20,
   "metadata": {},
   "outputs": [],
   "source": [
    "forecasts = pd.read_csv(\n",
    "    \"%s/forecasts.tsv\" % data_root,\n",
    "    sep=\"\\t\",\n",
    "    parse_dates=[\"timepoint\"],\n",
    "    usecols=[\"timepoint\", \"strain\", \"projected_frequency\"]\n",
    ")"
   ]
  },
  {
   "cell_type": "code",
   "execution_count": 21,
   "metadata": {},
   "outputs": [],
   "source": [
    "forecasts.set_index([\"timepoint\", \"strain\"], inplace=True)"
   ]
  },
  {
   "cell_type": "code",
   "execution_count": 22,
   "metadata": {},
   "outputs": [
    {
     "data": {
      "text/html": [
       "<div>\n",
       "<style scoped>\n",
       "    .dataframe tbody tr th:only-of-type {\n",
       "        vertical-align: middle;\n",
       "    }\n",
       "\n",
       "    .dataframe tbody tr th {\n",
       "        vertical-align: top;\n",
       "    }\n",
       "\n",
       "    .dataframe thead th {\n",
       "        text-align: right;\n",
       "    }\n",
       "</style>\n",
       "<table border=\"1\" class=\"dataframe\">\n",
       "  <thead>\n",
       "    <tr style=\"text-align: right;\">\n",
       "      <th></th>\n",
       "      <th></th>\n",
       "      <th>projected_frequency</th>\n",
       "    </tr>\n",
       "    <tr>\n",
       "      <th>timepoint</th>\n",
       "      <th>strain</th>\n",
       "      <th></th>\n",
       "    </tr>\n",
       "  </thead>\n",
       "  <tbody>\n",
       "    <tr>\n",
       "      <th rowspan=\"5\" valign=\"top\">2016-10-01</th>\n",
       "      <th>sample_3236_14</th>\n",
       "      <td>1.405414e-15</td>\n",
       "    </tr>\n",
       "    <tr>\n",
       "      <th>sample_3236_17</th>\n",
       "      <td>7.802684e-08</td>\n",
       "    </tr>\n",
       "    <tr>\n",
       "      <th>sample_3236_19</th>\n",
       "      <td>8.397902e-11</td>\n",
       "    </tr>\n",
       "    <tr>\n",
       "      <th>sample_3236_21</th>\n",
       "      <td>1.371248e-08</td>\n",
       "    </tr>\n",
       "    <tr>\n",
       "      <th>sample_3236_22</th>\n",
       "      <td>1.671481e-12</td>\n",
       "    </tr>\n",
       "  </tbody>\n",
       "</table>\n",
       "</div>"
      ],
      "text/plain": [
       "                           projected_frequency\n",
       "timepoint  strain                             \n",
       "2016-10-01 sample_3236_14         1.405414e-15\n",
       "           sample_3236_17         7.802684e-08\n",
       "           sample_3236_19         8.397902e-11\n",
       "           sample_3236_21         1.371248e-08\n",
       "           sample_3236_22         1.671481e-12"
      ]
     },
     "execution_count": 22,
     "metadata": {},
     "output_type": "execute_result"
    }
   ],
   "source": [
    "forecasts.head()"
   ]
  },
  {
   "cell_type": "code",
   "execution_count": 23,
   "metadata": {},
   "outputs": [],
   "source": [
    "full_forecasts = pd.read_csv(\n",
    "    \"%s/forecasts.tsv\" % data_root,\n",
    "    sep=\"\\t\",\n",
    "    parse_dates=[\"timepoint\", \"future_timepoint\"]\n",
    ")"
   ]
  },
  {
   "cell_type": "code",
   "execution_count": 24,
   "metadata": {},
   "outputs": [],
   "source": [
    "full_forecasts = full_forecasts.query(\"timepoint >= '%s'\" % first_validation_timepoint).copy()"
   ]
  },
  {
   "cell_type": "markdown",
   "metadata": {},
   "source": [
    "## Find clades for tips at future timepoint"
   ]
  },
  {
   "cell_type": "markdown",
   "metadata": {},
   "source": [
    "Annotate projected frequencies for each tip by timepoint."
   ]
  },
  {
   "cell_type": "code",
   "execution_count": 25,
   "metadata": {},
   "outputs": [],
   "source": [
    "tips = tips.join(forecasts, on=[\"timepoint\", \"strain\"])"
   ]
  },
  {
   "cell_type": "code",
   "execution_count": 26,
   "metadata": {},
   "outputs": [],
   "source": [
    "tips_with_current_clades = tips.join(\n",
    "    tips_to_clades,\n",
    "    on=[\"timepoint\", \"strain\"]\n",
    ").reset_index().rename(columns={\n",
    "    \"level_0\": \"timepoint\",\n",
    "    \"level_2\": \"strain\"\n",
    "})"
   ]
  },
  {
   "cell_type": "code",
   "execution_count": 27,
   "metadata": {},
   "outputs": [
    {
     "data": {
      "text/plain": [
       "(550095, 7)"
      ]
     },
     "execution_count": 27,
     "metadata": {},
     "output_type": "execute_result"
    }
   ],
   "source": [
    "tips_with_current_clades.shape"
   ]
  },
  {
   "cell_type": "code",
   "execution_count": 28,
   "metadata": {},
   "outputs": [
    {
     "data": {
      "text/html": [
       "<div>\n",
       "<style scoped>\n",
       "    .dataframe tbody tr th:only-of-type {\n",
       "        vertical-align: middle;\n",
       "    }\n",
       "\n",
       "    .dataframe tbody tr th {\n",
       "        vertical-align: top;\n",
       "    }\n",
       "\n",
       "    .dataframe thead th {\n",
       "        text-align: right;\n",
       "    }\n",
       "</style>\n",
       "<table border=\"1\" class=\"dataframe\">\n",
       "  <thead>\n",
       "    <tr style=\"text-align: right;\">\n",
       "      <th></th>\n",
       "      <th>timepoint</th>\n",
       "      <th>future_timepoint</th>\n",
       "      <th>strain</th>\n",
       "      <th>frequency</th>\n",
       "      <th>projected_frequency</th>\n",
       "      <th>clade_membership</th>\n",
       "      <th>depth</th>\n",
       "    </tr>\n",
       "  </thead>\n",
       "  <tbody>\n",
       "    <tr>\n",
       "      <th>0</th>\n",
       "      <td>2023-10-01</td>\n",
       "      <td>2024-10-01</td>\n",
       "      <td>sample_4636_1</td>\n",
       "      <td>0.000013</td>\n",
       "      <td>0.000047</td>\n",
       "      <td>a4680e6</td>\n",
       "      <td>0</td>\n",
       "    </tr>\n",
       "    <tr>\n",
       "      <th>1</th>\n",
       "      <td>2023-10-01</td>\n",
       "      <td>2024-10-01</td>\n",
       "      <td>sample_4636_1</td>\n",
       "      <td>0.000013</td>\n",
       "      <td>0.000047</td>\n",
       "      <td>ede1e10</td>\n",
       "      <td>4</td>\n",
       "    </tr>\n",
       "    <tr>\n",
       "      <th>2</th>\n",
       "      <td>2023-10-01</td>\n",
       "      <td>2024-10-01</td>\n",
       "      <td>sample_4636_1</td>\n",
       "      <td>0.000013</td>\n",
       "      <td>0.000047</td>\n",
       "      <td>59c5a3e</td>\n",
       "      <td>7</td>\n",
       "    </tr>\n",
       "    <tr>\n",
       "      <th>3</th>\n",
       "      <td>2023-10-01</td>\n",
       "      <td>2024-10-01</td>\n",
       "      <td>sample_4636_1</td>\n",
       "      <td>0.000013</td>\n",
       "      <td>0.000047</td>\n",
       "      <td>6beb055</td>\n",
       "      <td>8</td>\n",
       "    </tr>\n",
       "    <tr>\n",
       "      <th>4</th>\n",
       "      <td>2023-10-01</td>\n",
       "      <td>2024-10-01</td>\n",
       "      <td>sample_4636_1</td>\n",
       "      <td>0.000013</td>\n",
       "      <td>0.000047</td>\n",
       "      <td>3543a7e</td>\n",
       "      <td>9</td>\n",
       "    </tr>\n",
       "  </tbody>\n",
       "</table>\n",
       "</div>"
      ],
      "text/plain": [
       "   timepoint future_timepoint         strain  frequency  projected_frequency  \\\n",
       "0 2023-10-01       2024-10-01  sample_4636_1   0.000013             0.000047   \n",
       "1 2023-10-01       2024-10-01  sample_4636_1   0.000013             0.000047   \n",
       "2 2023-10-01       2024-10-01  sample_4636_1   0.000013             0.000047   \n",
       "3 2023-10-01       2024-10-01  sample_4636_1   0.000013             0.000047   \n",
       "4 2023-10-01       2024-10-01  sample_4636_1   0.000013             0.000047   \n",
       "\n",
       "  clade_membership  depth  \n",
       "0          a4680e6      0  \n",
       "1          ede1e10      4  \n",
       "2          59c5a3e      7  \n",
       "3          6beb055      8  \n",
       "4          3543a7e      9  "
      ]
     },
     "execution_count": 28,
     "metadata": {},
     "output_type": "execute_result"
    }
   ],
   "source": [
    "tips_with_current_clades.head()"
   ]
  },
  {
   "cell_type": "code",
   "execution_count": 29,
   "metadata": {},
   "outputs": [],
   "source": [
    "current_tips_with_future_clades = tips.join(\n",
    "    tips_to_clades,\n",
    "    on=[\"future_timepoint\", \"strain\"]\n",
    ").reset_index().rename(columns={\n",
    "    \"level_1\": \"future_timepoint\",\n",
    "    \"level_2\": \"strain\"\n",
    "})"
   ]
  },
  {
   "cell_type": "code",
   "execution_count": 30,
   "metadata": {},
   "outputs": [
    {
     "data": {
      "text/html": [
       "<div>\n",
       "<style scoped>\n",
       "    .dataframe tbody tr th:only-of-type {\n",
       "        vertical-align: middle;\n",
       "    }\n",
       "\n",
       "    .dataframe tbody tr th {\n",
       "        vertical-align: top;\n",
       "    }\n",
       "\n",
       "    .dataframe thead th {\n",
       "        text-align: right;\n",
       "    }\n",
       "</style>\n",
       "<table border=\"1\" class=\"dataframe\">\n",
       "  <thead>\n",
       "    <tr style=\"text-align: right;\">\n",
       "      <th></th>\n",
       "      <th>timepoint</th>\n",
       "      <th>future_timepoint</th>\n",
       "      <th>strain</th>\n",
       "      <th>frequency</th>\n",
       "      <th>projected_frequency</th>\n",
       "      <th>clade_membership</th>\n",
       "      <th>depth</th>\n",
       "    </tr>\n",
       "  </thead>\n",
       "  <tbody>\n",
       "    <tr>\n",
       "      <th>0</th>\n",
       "      <td>2023-10-01</td>\n",
       "      <td>2024-10-01</td>\n",
       "      <td>sample_4636_1</td>\n",
       "      <td>0.000013</td>\n",
       "      <td>0.000047</td>\n",
       "      <td>a4680e6</td>\n",
       "      <td>0.0</td>\n",
       "    </tr>\n",
       "    <tr>\n",
       "      <th>1</th>\n",
       "      <td>2023-10-01</td>\n",
       "      <td>2024-10-01</td>\n",
       "      <td>sample_4636_1</td>\n",
       "      <td>0.000013</td>\n",
       "      <td>0.000047</td>\n",
       "      <td>ede1e10</td>\n",
       "      <td>3.0</td>\n",
       "    </tr>\n",
       "    <tr>\n",
       "      <th>2</th>\n",
       "      <td>2023-10-01</td>\n",
       "      <td>2024-10-01</td>\n",
       "      <td>sample_4636_1</td>\n",
       "      <td>0.000013</td>\n",
       "      <td>0.000047</td>\n",
       "      <td>59c5a3e</td>\n",
       "      <td>8.0</td>\n",
       "    </tr>\n",
       "    <tr>\n",
       "      <th>3</th>\n",
       "      <td>2023-10-01</td>\n",
       "      <td>2024-10-01</td>\n",
       "      <td>sample_4636_1</td>\n",
       "      <td>0.000013</td>\n",
       "      <td>0.000047</td>\n",
       "      <td>6beb055</td>\n",
       "      <td>9.0</td>\n",
       "    </tr>\n",
       "    <tr>\n",
       "      <th>4</th>\n",
       "      <td>2023-10-01</td>\n",
       "      <td>2024-10-01</td>\n",
       "      <td>sample_4636_1</td>\n",
       "      <td>0.000013</td>\n",
       "      <td>0.000047</td>\n",
       "      <td>3543a7e</td>\n",
       "      <td>10.0</td>\n",
       "    </tr>\n",
       "  </tbody>\n",
       "</table>\n",
       "</div>"
      ],
      "text/plain": [
       "   timepoint future_timepoint         strain  frequency  projected_frequency  \\\n",
       "0 2023-10-01       2024-10-01  sample_4636_1   0.000013             0.000047   \n",
       "1 2023-10-01       2024-10-01  sample_4636_1   0.000013             0.000047   \n",
       "2 2023-10-01       2024-10-01  sample_4636_1   0.000013             0.000047   \n",
       "3 2023-10-01       2024-10-01  sample_4636_1   0.000013             0.000047   \n",
       "4 2023-10-01       2024-10-01  sample_4636_1   0.000013             0.000047   \n",
       "\n",
       "  clade_membership  depth  \n",
       "0          a4680e6    0.0  \n",
       "1          ede1e10    3.0  \n",
       "2          59c5a3e    8.0  \n",
       "3          6beb055    9.0  \n",
       "4          3543a7e   10.0  "
      ]
     },
     "execution_count": 30,
     "metadata": {},
     "output_type": "execute_result"
    }
   ],
   "source": [
    "current_tips_with_future_clades.head()"
   ]
  },
  {
   "cell_type": "code",
   "execution_count": 31,
   "metadata": {},
   "outputs": [
    {
     "data": {
      "text/plain": [
       "(448383, 7)"
      ]
     },
     "execution_count": 31,
     "metadata": {},
     "output_type": "execute_result"
    }
   ],
   "source": [
    "current_tips_with_future_clades.shape"
   ]
  },
  {
   "cell_type": "markdown",
   "metadata": {},
   "source": [
    "If we take the closest clade to each tip and sum tip frequencies by timepoint, we should get 100% frequency for each timepoint."
   ]
  },
  {
   "cell_type": "code",
   "execution_count": 32,
   "metadata": {},
   "outputs": [
    {
     "data": {
      "text/plain": [
       "array([0.999937, 0.999936, 0.999948, 0.999969, 0.999941, 0.999946,\n",
       "       0.999977, 0.999968, 0.99998 , 0.999943, 0.999949, 0.999987,\n",
       "       0.999965, 0.999966, 0.999952, 0.999962, 0.999954, 0.999936,\n",
       "       0.99996 , 0.999971, 0.999982, 0.999963, 0.999966, 0.999955,\n",
       "       0.999973, 0.999985, 0.999994, 0.999973, 0.999955, 0.999951,\n",
       "       0.999987, 0.999973, 0.999977, 0.999977, 0.999954])"
      ]
     },
     "execution_count": 32,
     "metadata": {},
     "output_type": "execute_result"
    }
   ],
   "source": [
    "current_tips_with_future_clades.groupby([\"timepoint\", \"future_timepoint\", \"strain\", \"frequency\"]).first().reset_index().groupby([\n",
    "    \"timepoint\"\n",
    "])[\"frequency\"].sum().values"
   ]
  },
  {
   "cell_type": "markdown",
   "metadata": {},
   "source": [
    "Get distinct list of clades for tips from the future timepoint (this is different from the list of all possible future clades because it is filtered to just those associated with tips that are alive at the future timepoint)."
   ]
  },
  {
   "cell_type": "code",
   "execution_count": 33,
   "metadata": {},
   "outputs": [],
   "source": [
    "distinct_clades_for_future_tips = tips_with_current_clades.loc[\n",
    "    :,\n",
    "    [\"timepoint\", \"future_timepoint\", \"clade_membership\"]\n",
    "].drop_duplicates()"
   ]
  },
  {
   "cell_type": "code",
   "execution_count": 34,
   "metadata": {},
   "outputs": [
    {
     "data": {
      "text/html": [
       "<div>\n",
       "<style scoped>\n",
       "    .dataframe tbody tr th:only-of-type {\n",
       "        vertical-align: middle;\n",
       "    }\n",
       "\n",
       "    .dataframe tbody tr th {\n",
       "        vertical-align: top;\n",
       "    }\n",
       "\n",
       "    .dataframe thead th {\n",
       "        text-align: right;\n",
       "    }\n",
       "</style>\n",
       "<table border=\"1\" class=\"dataframe\">\n",
       "  <thead>\n",
       "    <tr style=\"text-align: right;\">\n",
       "      <th></th>\n",
       "      <th>timepoint</th>\n",
       "      <th>future_timepoint</th>\n",
       "      <th>clade_membership</th>\n",
       "    </tr>\n",
       "  </thead>\n",
       "  <tbody>\n",
       "    <tr>\n",
       "      <th>0</th>\n",
       "      <td>2023-10-01</td>\n",
       "      <td>2024-10-01</td>\n",
       "      <td>a4680e6</td>\n",
       "    </tr>\n",
       "    <tr>\n",
       "      <th>1</th>\n",
       "      <td>2023-10-01</td>\n",
       "      <td>2024-10-01</td>\n",
       "      <td>ede1e10</td>\n",
       "    </tr>\n",
       "    <tr>\n",
       "      <th>2</th>\n",
       "      <td>2023-10-01</td>\n",
       "      <td>2024-10-01</td>\n",
       "      <td>59c5a3e</td>\n",
       "    </tr>\n",
       "    <tr>\n",
       "      <th>3</th>\n",
       "      <td>2023-10-01</td>\n",
       "      <td>2024-10-01</td>\n",
       "      <td>6beb055</td>\n",
       "    </tr>\n",
       "    <tr>\n",
       "      <th>4</th>\n",
       "      <td>2023-10-01</td>\n",
       "      <td>2024-10-01</td>\n",
       "      <td>3543a7e</td>\n",
       "    </tr>\n",
       "  </tbody>\n",
       "</table>\n",
       "</div>"
      ],
      "text/plain": [
       "   timepoint future_timepoint clade_membership\n",
       "0 2023-10-01       2024-10-01          a4680e6\n",
       "1 2023-10-01       2024-10-01          ede1e10\n",
       "2 2023-10-01       2024-10-01          59c5a3e\n",
       "3 2023-10-01       2024-10-01          6beb055\n",
       "4 2023-10-01       2024-10-01          3543a7e"
      ]
     },
     "execution_count": 34,
     "metadata": {},
     "output_type": "execute_result"
    }
   ],
   "source": [
    "distinct_clades_for_future_tips.head()"
   ]
  },
  {
   "cell_type": "code",
   "execution_count": 36,
   "metadata": {},
   "outputs": [
    {
     "data": {
      "text/plain": [
       "(6817, 3)"
      ]
     },
     "execution_count": 36,
     "metadata": {},
     "output_type": "execute_result"
    }
   ],
   "source": [
    "distinct_clades_for_future_tips.shape"
   ]
  },
  {
   "cell_type": "markdown",
   "metadata": {},
   "source": [
    "Merge current tips with future clades with that distinct list and take the closest clade assignment from the future based on the current tip’s depth."
   ]
  },
  {
   "cell_type": "code",
   "execution_count": 37,
   "metadata": {},
   "outputs": [],
   "source": [
    "current_tips_with_assigned_clades = current_tips_with_future_clades.merge(\n",
    "    distinct_clades_for_future_tips,\n",
    "    left_on=[\"future_timepoint\", \"clade_membership\"],\n",
    "    right_on=[\"timepoint\", \"clade_membership\"],\n",
    "    suffixes=[\"\", \"_future\"],\n",
    "    copy=False\n",
    ").sort_values([\"timepoint\", \"strain\", \"depth\"]).groupby([\n",
    "    \"timepoint\",\n",
    "    \"strain\"\n",
    "]).first().reset_index().drop(columns=[\n",
    "    \"depth\",\n",
    "    \"timepoint_future\",\n",
    "    \"future_timepoint_future\"\n",
    "])"
   ]
  },
  {
   "cell_type": "code",
   "execution_count": 38,
   "metadata": {},
   "outputs": [
    {
     "data": {
      "text/html": [
       "<div>\n",
       "<style scoped>\n",
       "    .dataframe tbody tr th:only-of-type {\n",
       "        vertical-align: middle;\n",
       "    }\n",
       "\n",
       "    .dataframe tbody tr th {\n",
       "        vertical-align: top;\n",
       "    }\n",
       "\n",
       "    .dataframe thead th {\n",
       "        text-align: right;\n",
       "    }\n",
       "</style>\n",
       "<table border=\"1\" class=\"dataframe\">\n",
       "  <thead>\n",
       "    <tr style=\"text-align: right;\">\n",
       "      <th></th>\n",
       "      <th>timepoint</th>\n",
       "      <th>strain</th>\n",
       "      <th>future_timepoint</th>\n",
       "      <th>frequency</th>\n",
       "      <th>projected_frequency</th>\n",
       "      <th>clade_membership</th>\n",
       "    </tr>\n",
       "  </thead>\n",
       "  <tbody>\n",
       "    <tr>\n",
       "      <th>0</th>\n",
       "      <td>2023-10-01</td>\n",
       "      <td>sample_4636_1</td>\n",
       "      <td>2024-10-01</td>\n",
       "      <td>0.000013</td>\n",
       "      <td>4.717925e-05</td>\n",
       "      <td>ede1e10</td>\n",
       "    </tr>\n",
       "    <tr>\n",
       "      <th>1</th>\n",
       "      <td>2023-10-01</td>\n",
       "      <td>sample_4636_10</td>\n",
       "      <td>2024-10-01</td>\n",
       "      <td>0.000013</td>\n",
       "      <td>1.302234e-06</td>\n",
       "      <td>bece2b8</td>\n",
       "    </tr>\n",
       "    <tr>\n",
       "      <th>2</th>\n",
       "      <td>2023-10-01</td>\n",
       "      <td>sample_4636_24</td>\n",
       "      <td>2024-10-01</td>\n",
       "      <td>0.000013</td>\n",
       "      <td>5.524085e-08</td>\n",
       "      <td>ede1e10</td>\n",
       "    </tr>\n",
       "    <tr>\n",
       "      <th>3</th>\n",
       "      <td>2023-10-01</td>\n",
       "      <td>sample_4636_27</td>\n",
       "      <td>2024-10-01</td>\n",
       "      <td>0.000013</td>\n",
       "      <td>2.090765e-28</td>\n",
       "      <td>bece2b8</td>\n",
       "    </tr>\n",
       "    <tr>\n",
       "      <th>4</th>\n",
       "      <td>2023-10-01</td>\n",
       "      <td>sample_4636_33</td>\n",
       "      <td>2024-10-01</td>\n",
       "      <td>0.000013</td>\n",
       "      <td>1.381129e-06</td>\n",
       "      <td>8197a93</td>\n",
       "    </tr>\n",
       "  </tbody>\n",
       "</table>\n",
       "</div>"
      ],
      "text/plain": [
       "   timepoint          strain future_timepoint  frequency  projected_frequency  \\\n",
       "0 2023-10-01   sample_4636_1       2024-10-01   0.000013         4.717925e-05   \n",
       "1 2023-10-01  sample_4636_10       2024-10-01   0.000013         1.302234e-06   \n",
       "2 2023-10-01  sample_4636_24       2024-10-01   0.000013         5.524085e-08   \n",
       "3 2023-10-01  sample_4636_27       2024-10-01   0.000013         2.090765e-28   \n",
       "4 2023-10-01  sample_4636_33       2024-10-01   0.000013         1.381129e-06   \n",
       "\n",
       "  clade_membership  \n",
       "0          ede1e10  \n",
       "1          bece2b8  \n",
       "2          ede1e10  \n",
       "3          bece2b8  \n",
       "4          8197a93  "
      ]
     },
     "execution_count": 38,
     "metadata": {},
     "output_type": "execute_result"
    }
   ],
   "source": [
    "current_tips_with_assigned_clades.head()"
   ]
  },
  {
   "cell_type": "code",
   "execution_count": 39,
   "metadata": {},
   "outputs": [
    {
     "data": {
      "text/plain": [
       "(20790, 6)"
      ]
     },
     "execution_count": 39,
     "metadata": {},
     "output_type": "execute_result"
    }
   ],
   "source": [
    "current_tips_with_assigned_clades.shape"
   ]
  },
  {
   "cell_type": "code",
   "execution_count": 40,
   "metadata": {},
   "outputs": [
    {
     "data": {
      "text/html": [
       "<div>\n",
       "<style scoped>\n",
       "    .dataframe tbody tr th:only-of-type {\n",
       "        vertical-align: middle;\n",
       "    }\n",
       "\n",
       "    .dataframe tbody tr th {\n",
       "        vertical-align: top;\n",
       "    }\n",
       "\n",
       "    .dataframe thead th {\n",
       "        text-align: right;\n",
       "    }\n",
       "</style>\n",
       "<table border=\"1\" class=\"dataframe\">\n",
       "  <thead>\n",
       "    <tr style=\"text-align: right;\">\n",
       "      <th></th>\n",
       "      <th>timepoint</th>\n",
       "      <th>strain</th>\n",
       "      <th>future_timepoint</th>\n",
       "      <th>frequency</th>\n",
       "      <th>projected_frequency</th>\n",
       "      <th>clade_membership</th>\n",
       "    </tr>\n",
       "  </thead>\n",
       "  <tbody>\n",
       "  </tbody>\n",
       "</table>\n",
       "</div>"
      ],
      "text/plain": [
       "Empty DataFrame\n",
       "Columns: [timepoint, strain, future_timepoint, frequency, projected_frequency, clade_membership]\n",
       "Index: []"
      ]
     },
     "execution_count": 40,
     "metadata": {},
     "output_type": "execute_result"
    }
   ],
   "source": [
    "current_tips_with_assigned_clades[current_tips_with_assigned_clades[\"strain\"] == \"sample_5416_3\"]"
   ]
  },
  {
   "cell_type": "markdown",
   "metadata": {},
   "source": [
    "Get distinct list of clades for tips from the current timepoint."
   ]
  },
  {
   "cell_type": "code",
   "execution_count": 41,
   "metadata": {},
   "outputs": [],
   "source": [
    "distinct_clades_for_current_tips = current_tips_with_assigned_clades.loc[\n",
    "    :,\n",
    "    [\"timepoint\", \"future_timepoint\", \"clade_membership\"]\n",
    "].drop_duplicates()"
   ]
  },
  {
   "cell_type": "code",
   "execution_count": 42,
   "metadata": {},
   "outputs": [
    {
     "data": {
      "text/html": [
       "<div>\n",
       "<style scoped>\n",
       "    .dataframe tbody tr th:only-of-type {\n",
       "        vertical-align: middle;\n",
       "    }\n",
       "\n",
       "    .dataframe tbody tr th {\n",
       "        vertical-align: top;\n",
       "    }\n",
       "\n",
       "    .dataframe thead th {\n",
       "        text-align: right;\n",
       "    }\n",
       "</style>\n",
       "<table border=\"1\" class=\"dataframe\">\n",
       "  <thead>\n",
       "    <tr style=\"text-align: right;\">\n",
       "      <th></th>\n",
       "      <th>timepoint</th>\n",
       "      <th>future_timepoint</th>\n",
       "      <th>clade_membership</th>\n",
       "    </tr>\n",
       "  </thead>\n",
       "  <tbody>\n",
       "    <tr>\n",
       "      <th>0</th>\n",
       "      <td>2023-10-01</td>\n",
       "      <td>2024-10-01</td>\n",
       "      <td>ede1e10</td>\n",
       "    </tr>\n",
       "    <tr>\n",
       "      <th>1</th>\n",
       "      <td>2023-10-01</td>\n",
       "      <td>2024-10-01</td>\n",
       "      <td>bece2b8</td>\n",
       "    </tr>\n",
       "    <tr>\n",
       "      <th>4</th>\n",
       "      <td>2023-10-01</td>\n",
       "      <td>2024-10-01</td>\n",
       "      <td>8197a93</td>\n",
       "    </tr>\n",
       "    <tr>\n",
       "      <th>5</th>\n",
       "      <td>2023-10-01</td>\n",
       "      <td>2024-10-01</td>\n",
       "      <td>59c5a3e</td>\n",
       "    </tr>\n",
       "    <tr>\n",
       "      <th>6</th>\n",
       "      <td>2023-10-01</td>\n",
       "      <td>2024-10-01</td>\n",
       "      <td>602ca8b</td>\n",
       "    </tr>\n",
       "  </tbody>\n",
       "</table>\n",
       "</div>"
      ],
      "text/plain": [
       "   timepoint future_timepoint clade_membership\n",
       "0 2023-10-01       2024-10-01          ede1e10\n",
       "1 2023-10-01       2024-10-01          bece2b8\n",
       "4 2023-10-01       2024-10-01          8197a93\n",
       "5 2023-10-01       2024-10-01          59c5a3e\n",
       "6 2023-10-01       2024-10-01          602ca8b"
      ]
     },
     "execution_count": 42,
     "metadata": {},
     "output_type": "execute_result"
    }
   ],
   "source": [
    "distinct_clades_for_current_tips.head()"
   ]
  },
  {
   "cell_type": "code",
   "execution_count": 43,
   "metadata": {},
   "outputs": [
    {
     "data": {
      "text/plain": [
       "(940, 3)"
      ]
     },
     "execution_count": 43,
     "metadata": {},
     "output_type": "execute_result"
    }
   ],
   "source": [
    "distinct_clades_for_current_tips.shape"
   ]
  },
  {
   "cell_type": "markdown",
   "metadata": {},
   "source": [
    "Merge future tips with current timepoint’s future clades and take the closest clade assignment from the future."
   ]
  },
  {
   "cell_type": "code",
   "execution_count": 45,
   "metadata": {},
   "outputs": [],
   "source": [
    "future_tips_with_assigned_clades = tips_with_current_clades.merge(\n",
    "    distinct_clades_for_current_tips,\n",
    "    left_on=[\"timepoint\", \"clade_membership\"],\n",
    "    right_on=[\"future_timepoint\", \"clade_membership\"],\n",
    "    suffixes=[\"\", \"_current\"],\n",
    "    copy=False\n",
    ").sort_values([\"timepoint\", \"strain\", \"depth\"]).groupby([\n",
    "    \"timepoint\",\n",
    "    \"strain\"\n",
    "]).first().reset_index().drop(columns=[\n",
    "    \"depth\",\n",
    "    \"timepoint_current\",\n",
    "    \"future_timepoint_current\"\n",
    "])"
   ]
  },
  {
   "cell_type": "code",
   "execution_count": 46,
   "metadata": {},
   "outputs": [
    {
     "data": {
      "text/plain": [
       "(20790, 6)"
      ]
     },
     "execution_count": 46,
     "metadata": {},
     "output_type": "execute_result"
    }
   ],
   "source": [
    "future_tips_with_assigned_clades.shape"
   ]
  },
  {
   "cell_type": "code",
   "execution_count": 47,
   "metadata": {},
   "outputs": [
    {
     "data": {
      "text/html": [
       "<div>\n",
       "<style scoped>\n",
       "    .dataframe tbody tr th:only-of-type {\n",
       "        vertical-align: middle;\n",
       "    }\n",
       "\n",
       "    .dataframe tbody tr th {\n",
       "        vertical-align: top;\n",
       "    }\n",
       "\n",
       "    .dataframe thead th {\n",
       "        text-align: right;\n",
       "    }\n",
       "</style>\n",
       "<table border=\"1\" class=\"dataframe\">\n",
       "  <thead>\n",
       "    <tr style=\"text-align: right;\">\n",
       "      <th></th>\n",
       "      <th>timepoint</th>\n",
       "      <th>strain</th>\n",
       "      <th>future_timepoint</th>\n",
       "      <th>frequency</th>\n",
       "      <th>projected_frequency</th>\n",
       "      <th>clade_membership</th>\n",
       "    </tr>\n",
       "  </thead>\n",
       "  <tbody>\n",
       "    <tr>\n",
       "      <th>0</th>\n",
       "      <td>2024-10-01</td>\n",
       "      <td>sample_4836_18</td>\n",
       "      <td>2025-10-01</td>\n",
       "      <td>0.000013</td>\n",
       "      <td>2.107001e-05</td>\n",
       "      <td>a3c7961</td>\n",
       "    </tr>\n",
       "    <tr>\n",
       "      <th>1</th>\n",
       "      <td>2024-10-01</td>\n",
       "      <td>sample_4836_22</td>\n",
       "      <td>2025-10-01</td>\n",
       "      <td>0.000013</td>\n",
       "      <td>5.839055e-05</td>\n",
       "      <td>a3c7961</td>\n",
       "    </tr>\n",
       "    <tr>\n",
       "      <th>2</th>\n",
       "      <td>2024-10-01</td>\n",
       "      <td>sample_4836_24</td>\n",
       "      <td>2025-10-01</td>\n",
       "      <td>0.000013</td>\n",
       "      <td>8.370902e-14</td>\n",
       "      <td>a3c7961</td>\n",
       "    </tr>\n",
       "    <tr>\n",
       "      <th>3</th>\n",
       "      <td>2024-10-01</td>\n",
       "      <td>sample_4836_25</td>\n",
       "      <td>2025-10-01</td>\n",
       "      <td>0.000013</td>\n",
       "      <td>1.174497e-12</td>\n",
       "      <td>a3c7961</td>\n",
       "    </tr>\n",
       "    <tr>\n",
       "      <th>4</th>\n",
       "      <td>2024-10-01</td>\n",
       "      <td>sample_4836_28</td>\n",
       "      <td>2025-10-01</td>\n",
       "      <td>0.000013</td>\n",
       "      <td>5.825623e-12</td>\n",
       "      <td>a3c7961</td>\n",
       "    </tr>\n",
       "  </tbody>\n",
       "</table>\n",
       "</div>"
      ],
      "text/plain": [
       "   timepoint          strain future_timepoint  frequency  projected_frequency  \\\n",
       "0 2024-10-01  sample_4836_18       2025-10-01   0.000013         2.107001e-05   \n",
       "1 2024-10-01  sample_4836_22       2025-10-01   0.000013         5.839055e-05   \n",
       "2 2024-10-01  sample_4836_24       2025-10-01   0.000013         8.370902e-14   \n",
       "3 2024-10-01  sample_4836_25       2025-10-01   0.000013         1.174497e-12   \n",
       "4 2024-10-01  sample_4836_28       2025-10-01   0.000013         5.825623e-12   \n",
       "\n",
       "  clade_membership  \n",
       "0          a3c7961  \n",
       "1          a3c7961  \n",
       "2          a3c7961  \n",
       "3          a3c7961  \n",
       "4          a3c7961  "
      ]
     },
     "execution_count": 47,
     "metadata": {},
     "output_type": "execute_result"
    }
   ],
   "source": [
    "future_tips_with_assigned_clades.head()"
   ]
  },
  {
   "cell_type": "code",
   "execution_count": 48,
   "metadata": {},
   "outputs": [
    {
     "data": {
      "text/html": [
       "<div>\n",
       "<style scoped>\n",
       "    .dataframe tbody tr th:only-of-type {\n",
       "        vertical-align: middle;\n",
       "    }\n",
       "\n",
       "    .dataframe tbody tr th {\n",
       "        vertical-align: top;\n",
       "    }\n",
       "\n",
       "    .dataframe thead th {\n",
       "        text-align: right;\n",
       "    }\n",
       "</style>\n",
       "<table border=\"1\" class=\"dataframe\">\n",
       "  <thead>\n",
       "    <tr style=\"text-align: right;\">\n",
       "      <th></th>\n",
       "      <th>timepoint</th>\n",
       "      <th>strain</th>\n",
       "      <th>future_timepoint</th>\n",
       "      <th>frequency</th>\n",
       "      <th>projected_frequency</th>\n",
       "      <th>clade_membership</th>\n",
       "    </tr>\n",
       "  </thead>\n",
       "  <tbody>\n",
       "  </tbody>\n",
       "</table>\n",
       "</div>"
      ],
      "text/plain": [
       "Empty DataFrame\n",
       "Columns: [timepoint, strain, future_timepoint, frequency, projected_frequency, clade_membership]\n",
       "Index: []"
      ]
     },
     "execution_count": 48,
     "metadata": {},
     "output_type": "execute_result"
    }
   ],
   "source": [
    "future_tips_with_assigned_clades.query(\"strain == 'sample_5416_3'\")"
   ]
  },
  {
   "cell_type": "code",
   "execution_count": 49,
   "metadata": {},
   "outputs": [],
   "source": [
    "total_frequencies_for_current_tips = current_tips_with_assigned_clades.groupby([\"timepoint\"])[\"frequency\"].sum().values"
   ]
  },
  {
   "cell_type": "code",
   "execution_count": 50,
   "metadata": {},
   "outputs": [
    {
     "data": {
      "text/plain": [
       "True"
      ]
     },
     "execution_count": 50,
     "metadata": {},
     "output_type": "execute_result"
    }
   ],
   "source": [
    "np.allclose(\n",
    "    np.ones_like(total_frequencies_for_current_tips),\n",
    "    total_frequencies_for_current_tips,\n",
    "    1e-4\n",
    ")"
   ]
  },
  {
   "cell_type": "code",
   "execution_count": 51,
   "metadata": {},
   "outputs": [],
   "source": [
    "total_frequencies_for_future_tips = future_tips_with_assigned_clades.groupby([\"timepoint\"])[\"frequency\"].sum().values"
   ]
  },
  {
   "cell_type": "code",
   "execution_count": 52,
   "metadata": {},
   "outputs": [
    {
     "data": {
      "text/plain": [
       "True"
      ]
     },
     "execution_count": 52,
     "metadata": {},
     "output_type": "execute_result"
    }
   ],
   "source": [
    "np.allclose(\n",
    "    np.ones_like(total_frequencies_for_future_tips),\n",
    "    total_frequencies_for_future_tips,\n",
    "    1e-4\n",
    ")"
   ]
  },
  {
   "cell_type": "code",
   "execution_count": 53,
   "metadata": {},
   "outputs": [],
   "source": [
    "future_clades_for_current_timepoints = current_tips_with_assigned_clades.groupby([\n",
    "    \"timepoint\", \"future_timepoint\", \"clade_membership\"\n",
    "]).aggregate({\"frequency\": \"sum\", \"projected_frequency\": \"sum\"}).reset_index()"
   ]
  },
  {
   "cell_type": "code",
   "execution_count": 54,
   "metadata": {},
   "outputs": [
    {
     "data": {
      "text/html": [
       "<div>\n",
       "<style scoped>\n",
       "    .dataframe tbody tr th:only-of-type {\n",
       "        vertical-align: middle;\n",
       "    }\n",
       "\n",
       "    .dataframe tbody tr th {\n",
       "        vertical-align: top;\n",
       "    }\n",
       "\n",
       "    .dataframe thead th {\n",
       "        text-align: right;\n",
       "    }\n",
       "</style>\n",
       "<table border=\"1\" class=\"dataframe\">\n",
       "  <thead>\n",
       "    <tr style=\"text-align: right;\">\n",
       "      <th></th>\n",
       "      <th>timepoint</th>\n",
       "      <th>future_timepoint</th>\n",
       "      <th>clade_membership</th>\n",
       "      <th>frequency</th>\n",
       "      <th>projected_frequency</th>\n",
       "    </tr>\n",
       "  </thead>\n",
       "  <tbody>\n",
       "    <tr>\n",
       "      <th>0</th>\n",
       "      <td>2023-10-01</td>\n",
       "      <td>2024-10-01</td>\n",
       "      <td>2b50f0a</td>\n",
       "      <td>0.014485</td>\n",
       "      <td>0.002036</td>\n",
       "    </tr>\n",
       "    <tr>\n",
       "      <th>1</th>\n",
       "      <td>2023-10-01</td>\n",
       "      <td>2024-10-01</td>\n",
       "      <td>31319fe</td>\n",
       "      <td>0.149195</td>\n",
       "      <td>0.114001</td>\n",
       "    </tr>\n",
       "    <tr>\n",
       "      <th>2</th>\n",
       "      <td>2023-10-01</td>\n",
       "      <td>2024-10-01</td>\n",
       "      <td>3483876</td>\n",
       "      <td>0.177599</td>\n",
       "      <td>0.086580</td>\n",
       "    </tr>\n",
       "    <tr>\n",
       "      <th>3</th>\n",
       "      <td>2023-10-01</td>\n",
       "      <td>2024-10-01</td>\n",
       "      <td>3543a7e</td>\n",
       "      <td>0.004428</td>\n",
       "      <td>0.000183</td>\n",
       "    </tr>\n",
       "    <tr>\n",
       "      <th>4</th>\n",
       "      <td>2023-10-01</td>\n",
       "      <td>2024-10-01</td>\n",
       "      <td>48415d3</td>\n",
       "      <td>0.001629</td>\n",
       "      <td>0.000028</td>\n",
       "    </tr>\n",
       "  </tbody>\n",
       "</table>\n",
       "</div>"
      ],
      "text/plain": [
       "   timepoint future_timepoint clade_membership  frequency  projected_frequency\n",
       "0 2023-10-01       2024-10-01          2b50f0a   0.014485             0.002036\n",
       "1 2023-10-01       2024-10-01          31319fe   0.149195             0.114001\n",
       "2 2023-10-01       2024-10-01          3483876   0.177599             0.086580\n",
       "3 2023-10-01       2024-10-01          3543a7e   0.004428             0.000183\n",
       "4 2023-10-01       2024-10-01          48415d3   0.001629             0.000028"
      ]
     },
     "execution_count": 54,
     "metadata": {},
     "output_type": "execute_result"
    }
   ],
   "source": [
    "future_clades_for_current_timepoints.head()"
   ]
  },
  {
   "cell_type": "code",
   "execution_count": 55,
   "metadata": {},
   "outputs": [],
   "source": [
    "future_clades_for_future_timepoints = future_tips_with_assigned_clades.groupby([\n",
    "    \"timepoint\", \"future_timepoint\", \"clade_membership\"\n",
    "])[\"frequency\"].sum().reset_index()"
   ]
  },
  {
   "cell_type": "code",
   "execution_count": 56,
   "metadata": {},
   "outputs": [
    {
     "data": {
      "text/html": [
       "<div>\n",
       "<style scoped>\n",
       "    .dataframe tbody tr th:only-of-type {\n",
       "        vertical-align: middle;\n",
       "    }\n",
       "\n",
       "    .dataframe tbody tr th {\n",
       "        vertical-align: top;\n",
       "    }\n",
       "\n",
       "    .dataframe thead th {\n",
       "        text-align: right;\n",
       "    }\n",
       "</style>\n",
       "<table border=\"1\" class=\"dataframe\">\n",
       "  <thead>\n",
       "    <tr style=\"text-align: right;\">\n",
       "      <th></th>\n",
       "      <th>timepoint</th>\n",
       "      <th>future_timepoint</th>\n",
       "      <th>clade_membership</th>\n",
       "      <th>frequency</th>\n",
       "    </tr>\n",
       "  </thead>\n",
       "  <tbody>\n",
       "    <tr>\n",
       "      <th>0</th>\n",
       "      <td>2024-10-01</td>\n",
       "      <td>2025-10-01</td>\n",
       "      <td>a3c7961</td>\n",
       "      <td>0.957629</td>\n",
       "    </tr>\n",
       "    <tr>\n",
       "      <th>1</th>\n",
       "      <td>2024-10-01</td>\n",
       "      <td>2025-10-01</td>\n",
       "      <td>c8156cb</td>\n",
       "      <td>0.042319</td>\n",
       "    </tr>\n",
       "    <tr>\n",
       "      <th>2</th>\n",
       "      <td>2025-04-01</td>\n",
       "      <td>2026-04-01</td>\n",
       "      <td>0435f1e</td>\n",
       "      <td>0.045555</td>\n",
       "    </tr>\n",
       "    <tr>\n",
       "      <th>3</th>\n",
       "      <td>2025-04-01</td>\n",
       "      <td>2026-04-01</td>\n",
       "      <td>14a21e2</td>\n",
       "      <td>0.219689</td>\n",
       "    </tr>\n",
       "    <tr>\n",
       "      <th>4</th>\n",
       "      <td>2025-04-01</td>\n",
       "      <td>2026-04-01</td>\n",
       "      <td>1ea6a3e</td>\n",
       "      <td>0.561799</td>\n",
       "    </tr>\n",
       "  </tbody>\n",
       "</table>\n",
       "</div>"
      ],
      "text/plain": [
       "   timepoint future_timepoint clade_membership  frequency\n",
       "0 2024-10-01       2025-10-01          a3c7961   0.957629\n",
       "1 2024-10-01       2025-10-01          c8156cb   0.042319\n",
       "2 2025-04-01       2026-04-01          0435f1e   0.045555\n",
       "3 2025-04-01       2026-04-01          14a21e2   0.219689\n",
       "4 2025-04-01       2026-04-01          1ea6a3e   0.561799"
      ]
     },
     "execution_count": 56,
     "metadata": {},
     "output_type": "execute_result"
    }
   ],
   "source": [
    "future_clades_for_future_timepoints.head()"
   ]
  },
  {
   "cell_type": "code",
   "execution_count": 57,
   "metadata": {},
   "outputs": [
    {
     "data": {
      "text/plain": [
       "True"
      ]
     },
     "execution_count": 57,
     "metadata": {},
     "output_type": "execute_result"
    }
   ],
   "source": [
    "np.allclose(\n",
    "    np.ones_like(future_clades_for_current_timepoints.groupby(\"timepoint\")[\"frequency\"].sum().values),\n",
    "    future_clades_for_current_timepoints.groupby(\"timepoint\")[\"frequency\"].sum().values,\n",
    "    1e-4\n",
    ")"
   ]
  },
  {
   "cell_type": "markdown",
   "metadata": {},
   "source": [
    "Next, find future tips that belong to the same clades as the current tips or which have descended from these clades. Instead of taking every clade assigned to each tip, we want to pick the closest clade to each tip."
   ]
  },
  {
   "cell_type": "code",
   "execution_count": 58,
   "metadata": {},
   "outputs": [],
   "source": [
    "merged_clades = future_clades_for_current_timepoints.merge(\n",
    "    future_clades_for_future_timepoints,\n",
    "    how=\"outer\",\n",
    "    left_on=[\"future_timepoint\", \"clade_membership\"],\n",
    "    right_on=[\"timepoint\", \"clade_membership\"],\n",
    "    suffixes=[\"\", \"_future\"]\n",
    ").drop(columns=[\"timepoint_future\", \"future_timepoint_future\"]).sort_values([\n",
    "    \"timepoint\", \"future_timepoint\", \"clade_membership\"\n",
    "]).fillna(0.0)"
   ]
  },
  {
   "cell_type": "code",
   "execution_count": 59,
   "metadata": {},
   "outputs": [
    {
     "data": {
      "text/html": [
       "<div>\n",
       "<style scoped>\n",
       "    .dataframe tbody tr th:only-of-type {\n",
       "        vertical-align: middle;\n",
       "    }\n",
       "\n",
       "    .dataframe tbody tr th {\n",
       "        vertical-align: top;\n",
       "    }\n",
       "\n",
       "    .dataframe thead th {\n",
       "        text-align: right;\n",
       "    }\n",
       "</style>\n",
       "<table border=\"1\" class=\"dataframe\">\n",
       "  <thead>\n",
       "    <tr style=\"text-align: right;\">\n",
       "      <th></th>\n",
       "      <th>timepoint</th>\n",
       "      <th>future_timepoint</th>\n",
       "      <th>clade_membership</th>\n",
       "      <th>frequency</th>\n",
       "      <th>projected_frequency</th>\n",
       "      <th>frequency_future</th>\n",
       "    </tr>\n",
       "  </thead>\n",
       "  <tbody>\n",
       "    <tr>\n",
       "      <th>0</th>\n",
       "      <td>2023-10-01</td>\n",
       "      <td>2024-10-01</td>\n",
       "      <td>2b50f0a</td>\n",
       "      <td>0.014485</td>\n",
       "      <td>0.002036</td>\n",
       "      <td>0.0</td>\n",
       "    </tr>\n",
       "    <tr>\n",
       "      <th>1</th>\n",
       "      <td>2023-10-01</td>\n",
       "      <td>2024-10-01</td>\n",
       "      <td>31319fe</td>\n",
       "      <td>0.149195</td>\n",
       "      <td>0.114001</td>\n",
       "      <td>0.0</td>\n",
       "    </tr>\n",
       "    <tr>\n",
       "      <th>2</th>\n",
       "      <td>2023-10-01</td>\n",
       "      <td>2024-10-01</td>\n",
       "      <td>3483876</td>\n",
       "      <td>0.177599</td>\n",
       "      <td>0.086580</td>\n",
       "      <td>0.0</td>\n",
       "    </tr>\n",
       "    <tr>\n",
       "      <th>3</th>\n",
       "      <td>2023-10-01</td>\n",
       "      <td>2024-10-01</td>\n",
       "      <td>3543a7e</td>\n",
       "      <td>0.004428</td>\n",
       "      <td>0.000183</td>\n",
       "      <td>0.0</td>\n",
       "    </tr>\n",
       "    <tr>\n",
       "      <th>4</th>\n",
       "      <td>2023-10-01</td>\n",
       "      <td>2024-10-01</td>\n",
       "      <td>48415d3</td>\n",
       "      <td>0.001629</td>\n",
       "      <td>0.000028</td>\n",
       "      <td>0.0</td>\n",
       "    </tr>\n",
       "  </tbody>\n",
       "</table>\n",
       "</div>"
      ],
      "text/plain": [
       "   timepoint future_timepoint clade_membership  frequency  \\\n",
       "0 2023-10-01       2024-10-01          2b50f0a   0.014485   \n",
       "1 2023-10-01       2024-10-01          31319fe   0.149195   \n",
       "2 2023-10-01       2024-10-01          3483876   0.177599   \n",
       "3 2023-10-01       2024-10-01          3543a7e   0.004428   \n",
       "4 2023-10-01       2024-10-01          48415d3   0.001629   \n",
       "\n",
       "   projected_frequency  frequency_future  \n",
       "0             0.002036               0.0  \n",
       "1             0.114001               0.0  \n",
       "2             0.086580               0.0  \n",
       "3             0.000183               0.0  \n",
       "4             0.000028               0.0  "
      ]
     },
     "execution_count": 59,
     "metadata": {},
     "output_type": "execute_result"
    }
   ],
   "source": [
    "merged_clades.head()"
   ]
  },
  {
   "cell_type": "code",
   "execution_count": 60,
   "metadata": {},
   "outputs": [
    {
     "data": {
      "text/plain": [
       "array([0.999937, 0.999936, 0.999948, 0.999969, 0.999941, 0.999946,\n",
       "       0.999977, 0.999968, 0.99998 , 0.999943, 0.999949, 0.999987,\n",
       "       0.999965, 0.999966, 0.999952, 0.999962, 0.999954, 0.999936,\n",
       "       0.99996 , 0.999971, 0.999982, 0.999963, 0.999966, 0.999955,\n",
       "       0.999973, 0.999985, 0.999994, 0.999973, 0.999955, 0.999951,\n",
       "       0.999987, 0.999973, 0.999977])"
      ]
     },
     "execution_count": 60,
     "metadata": {},
     "output_type": "execute_result"
    }
   ],
   "source": [
    "merged_clades.groupby(\"timepoint\")[\"frequency\"].sum().values"
   ]
  },
  {
   "cell_type": "code",
   "execution_count": 61,
   "metadata": {},
   "outputs": [
    {
     "data": {
      "text/plain": [
       "array([0.999948, 0.999969, 0.999941, 0.999946, 0.999977, 0.999968,\n",
       "       0.99998 , 0.999943, 0.999949, 0.999987, 0.999965, 0.999966,\n",
       "       0.999952, 0.999962, 0.999954, 0.999936, 0.99996 , 0.999971,\n",
       "       0.999982, 0.999963, 0.999966, 0.999955, 0.999973, 0.999985,\n",
       "       0.999994, 0.999973, 0.999955, 0.999951, 0.999987, 0.999973,\n",
       "       0.999977, 0.999977, 0.999954])"
      ]
     },
     "execution_count": 61,
     "metadata": {},
     "output_type": "execute_result"
    }
   ],
   "source": [
    "merged_clades.groupby(\"timepoint\")[\"frequency_future\"].sum().values"
   ]
  },
  {
   "cell_type": "code",
   "execution_count": 62,
   "metadata": {},
   "outputs": [],
   "source": [
    "merged_clades = merged_clades.rename(columns={\n",
    "    \"frequency\": \"initial_frequency\",\n",
    "    \"projected_frequency\": \"estimated_frequency\",\n",
    "    \"frequency_future\": \"observed_frequency\"\n",
    "}).copy()"
   ]
  },
  {
   "cell_type": "code",
   "execution_count": 63,
   "metadata": {},
   "outputs": [],
   "source": [
    "merged_clades[\"observed_growth_rate\"] = (\n",
    "    merged_clades[\"observed_frequency\"] / merged_clades[\"initial_frequency\"]\n",
    ")"
   ]
  },
  {
   "cell_type": "code",
   "execution_count": 64,
   "metadata": {},
   "outputs": [],
   "source": [
    "merged_clades[\"estimated_growth_rate\"] = (\n",
    "    merged_clades[\"estimated_frequency\"] / merged_clades[\"initial_frequency\"]\n",
    ")"
   ]
  },
  {
   "cell_type": "code",
   "execution_count": 65,
   "metadata": {},
   "outputs": [
    {
     "data": {
      "text/html": [
       "<div>\n",
       "<style scoped>\n",
       "    .dataframe tbody tr th:only-of-type {\n",
       "        vertical-align: middle;\n",
       "    }\n",
       "\n",
       "    .dataframe tbody tr th {\n",
       "        vertical-align: top;\n",
       "    }\n",
       "\n",
       "    .dataframe thead th {\n",
       "        text-align: right;\n",
       "    }\n",
       "</style>\n",
       "<table border=\"1\" class=\"dataframe\">\n",
       "  <thead>\n",
       "    <tr style=\"text-align: right;\">\n",
       "      <th></th>\n",
       "      <th>timepoint</th>\n",
       "      <th>future_timepoint</th>\n",
       "      <th>clade_membership</th>\n",
       "      <th>initial_frequency</th>\n",
       "      <th>estimated_frequency</th>\n",
       "      <th>observed_frequency</th>\n",
       "      <th>observed_growth_rate</th>\n",
       "      <th>estimated_growth_rate</th>\n",
       "    </tr>\n",
       "  </thead>\n",
       "  <tbody>\n",
       "    <tr>\n",
       "      <th>0</th>\n",
       "      <td>2023-10-01</td>\n",
       "      <td>2024-10-01</td>\n",
       "      <td>2b50f0a</td>\n",
       "      <td>0.014485</td>\n",
       "      <td>0.002036</td>\n",
       "      <td>0.0</td>\n",
       "      <td>0.0</td>\n",
       "      <td>0.140565</td>\n",
       "    </tr>\n",
       "    <tr>\n",
       "      <th>1</th>\n",
       "      <td>2023-10-01</td>\n",
       "      <td>2024-10-01</td>\n",
       "      <td>31319fe</td>\n",
       "      <td>0.149195</td>\n",
       "      <td>0.114001</td>\n",
       "      <td>0.0</td>\n",
       "      <td>0.0</td>\n",
       "      <td>0.764105</td>\n",
       "    </tr>\n",
       "    <tr>\n",
       "      <th>2</th>\n",
       "      <td>2023-10-01</td>\n",
       "      <td>2024-10-01</td>\n",
       "      <td>3483876</td>\n",
       "      <td>0.177599</td>\n",
       "      <td>0.086580</td>\n",
       "      <td>0.0</td>\n",
       "      <td>0.0</td>\n",
       "      <td>0.487504</td>\n",
       "    </tr>\n",
       "    <tr>\n",
       "      <th>3</th>\n",
       "      <td>2023-10-01</td>\n",
       "      <td>2024-10-01</td>\n",
       "      <td>3543a7e</td>\n",
       "      <td>0.004428</td>\n",
       "      <td>0.000183</td>\n",
       "      <td>0.0</td>\n",
       "      <td>0.0</td>\n",
       "      <td>0.041399</td>\n",
       "    </tr>\n",
       "    <tr>\n",
       "      <th>4</th>\n",
       "      <td>2023-10-01</td>\n",
       "      <td>2024-10-01</td>\n",
       "      <td>48415d3</td>\n",
       "      <td>0.001629</td>\n",
       "      <td>0.000028</td>\n",
       "      <td>0.0</td>\n",
       "      <td>0.0</td>\n",
       "      <td>0.017394</td>\n",
       "    </tr>\n",
       "  </tbody>\n",
       "</table>\n",
       "</div>"
      ],
      "text/plain": [
       "   timepoint future_timepoint clade_membership  initial_frequency  \\\n",
       "0 2023-10-01       2024-10-01          2b50f0a           0.014485   \n",
       "1 2023-10-01       2024-10-01          31319fe           0.149195   \n",
       "2 2023-10-01       2024-10-01          3483876           0.177599   \n",
       "3 2023-10-01       2024-10-01          3543a7e           0.004428   \n",
       "4 2023-10-01       2024-10-01          48415d3           0.001629   \n",
       "\n",
       "   estimated_frequency  observed_frequency  observed_growth_rate  \\\n",
       "0             0.002036                 0.0                   0.0   \n",
       "1             0.114001                 0.0                   0.0   \n",
       "2             0.086580                 0.0                   0.0   \n",
       "3             0.000183                 0.0                   0.0   \n",
       "4             0.000028                 0.0                   0.0   \n",
       "\n",
       "   estimated_growth_rate  \n",
       "0               0.140565  \n",
       "1               0.764105  \n",
       "2               0.487504  \n",
       "3               0.041399  \n",
       "4               0.017394  "
      ]
     },
     "execution_count": 65,
     "metadata": {},
     "output_type": "execute_result"
    }
   ],
   "source": [
    "merged_clades.head()"
   ]
  },
  {
   "cell_type": "code",
   "execution_count": 66,
   "metadata": {},
   "outputs": [
    {
     "data": {
      "text/html": [
       "<div>\n",
       "<style scoped>\n",
       "    .dataframe tbody tr th:only-of-type {\n",
       "        vertical-align: middle;\n",
       "    }\n",
       "\n",
       "    .dataframe tbody tr th {\n",
       "        vertical-align: top;\n",
       "    }\n",
       "\n",
       "    .dataframe thead th {\n",
       "        text-align: right;\n",
       "    }\n",
       "</style>\n",
       "<table border=\"1\" class=\"dataframe\">\n",
       "  <thead>\n",
       "    <tr style=\"text-align: right;\">\n",
       "      <th></th>\n",
       "      <th>timepoint</th>\n",
       "      <th>future_timepoint</th>\n",
       "      <th>clade_membership</th>\n",
       "      <th>initial_frequency</th>\n",
       "      <th>estimated_frequency</th>\n",
       "      <th>observed_frequency</th>\n",
       "      <th>observed_growth_rate</th>\n",
       "      <th>estimated_growth_rate</th>\n",
       "    </tr>\n",
       "  </thead>\n",
       "  <tbody>\n",
       "    <tr>\n",
       "      <th>319</th>\n",
       "      <td>2029-10-01</td>\n",
       "      <td>2030-10-01</td>\n",
       "      <td>01e5f2f</td>\n",
       "      <td>0.071729</td>\n",
       "      <td>6.173254e-03</td>\n",
       "      <td>0.012057</td>\n",
       "      <td>0.168091</td>\n",
       "      <td>8.606357e-02</td>\n",
       "    </tr>\n",
       "    <tr>\n",
       "      <th>320</th>\n",
       "      <td>2029-10-01</td>\n",
       "      <td>2030-10-01</td>\n",
       "      <td>02b0a2a</td>\n",
       "      <td>0.130446</td>\n",
       "      <td>1.452871e-02</td>\n",
       "      <td>0.000000</td>\n",
       "      <td>0.000000</td>\n",
       "      <td>1.113772e-01</td>\n",
       "    </tr>\n",
       "    <tr>\n",
       "      <th>321</th>\n",
       "      <td>2029-10-01</td>\n",
       "      <td>2030-10-01</td>\n",
       "      <td>2772869</td>\n",
       "      <td>0.013402</td>\n",
       "      <td>9.712906e-03</td>\n",
       "      <td>0.000000</td>\n",
       "      <td>0.000000</td>\n",
       "      <td>7.247355e-01</td>\n",
       "    </tr>\n",
       "    <tr>\n",
       "      <th>322</th>\n",
       "      <td>2029-10-01</td>\n",
       "      <td>2030-10-01</td>\n",
       "      <td>358148a</td>\n",
       "      <td>0.008846</td>\n",
       "      <td>1.666892e-04</td>\n",
       "      <td>0.000000</td>\n",
       "      <td>0.000000</td>\n",
       "      <td>1.884346e-02</td>\n",
       "    </tr>\n",
       "    <tr>\n",
       "      <th>323</th>\n",
       "      <td>2029-10-01</td>\n",
       "      <td>2030-10-01</td>\n",
       "      <td>3bd94c5</td>\n",
       "      <td>0.055816</td>\n",
       "      <td>3.159356e-03</td>\n",
       "      <td>0.000000</td>\n",
       "      <td>0.000000</td>\n",
       "      <td>5.660305e-02</td>\n",
       "    </tr>\n",
       "    <tr>\n",
       "      <th>324</th>\n",
       "      <td>2029-10-01</td>\n",
       "      <td>2030-10-01</td>\n",
       "      <td>42b9822</td>\n",
       "      <td>0.004052</td>\n",
       "      <td>2.467910e-06</td>\n",
       "      <td>0.000708</td>\n",
       "      <td>0.174729</td>\n",
       "      <td>6.090598e-04</td>\n",
       "    </tr>\n",
       "    <tr>\n",
       "      <th>325</th>\n",
       "      <td>2029-10-01</td>\n",
       "      <td>2030-10-01</td>\n",
       "      <td>478e74a</td>\n",
       "      <td>0.014864</td>\n",
       "      <td>3.133778e-04</td>\n",
       "      <td>0.000000</td>\n",
       "      <td>0.000000</td>\n",
       "      <td>2.108300e-02</td>\n",
       "    </tr>\n",
       "    <tr>\n",
       "      <th>326</th>\n",
       "      <td>2029-10-01</td>\n",
       "      <td>2030-10-01</td>\n",
       "      <td>6288a52</td>\n",
       "      <td>0.004231</td>\n",
       "      <td>1.996028e-02</td>\n",
       "      <td>0.085501</td>\n",
       "      <td>20.208225</td>\n",
       "      <td>4.717627e+00</td>\n",
       "    </tr>\n",
       "    <tr>\n",
       "      <th>327</th>\n",
       "      <td>2029-10-01</td>\n",
       "      <td>2030-10-01</td>\n",
       "      <td>709baba</td>\n",
       "      <td>0.007914</td>\n",
       "      <td>9.850095e-03</td>\n",
       "      <td>0.000000</td>\n",
       "      <td>0.000000</td>\n",
       "      <td>1.244642e+00</td>\n",
       "    </tr>\n",
       "    <tr>\n",
       "      <th>328</th>\n",
       "      <td>2029-10-01</td>\n",
       "      <td>2030-10-01</td>\n",
       "      <td>770f3bd</td>\n",
       "      <td>0.187782</td>\n",
       "      <td>6.850117e-01</td>\n",
       "      <td>0.755585</td>\n",
       "      <td>4.023735</td>\n",
       "      <td>3.647909e+00</td>\n",
       "    </tr>\n",
       "    <tr>\n",
       "      <th>329</th>\n",
       "      <td>2029-10-01</td>\n",
       "      <td>2030-10-01</td>\n",
       "      <td>7fe96bc</td>\n",
       "      <td>0.014825</td>\n",
       "      <td>6.278731e-02</td>\n",
       "      <td>0.000466</td>\n",
       "      <td>0.031433</td>\n",
       "      <td>4.235232e+00</td>\n",
       "    </tr>\n",
       "    <tr>\n",
       "      <th>330</th>\n",
       "      <td>2029-10-01</td>\n",
       "      <td>2030-10-01</td>\n",
       "      <td>82a672d</td>\n",
       "      <td>0.000215</td>\n",
       "      <td>4.053308e-11</td>\n",
       "      <td>0.000000</td>\n",
       "      <td>0.000000</td>\n",
       "      <td>1.885260e-07</td>\n",
       "    </tr>\n",
       "    <tr>\n",
       "      <th>331</th>\n",
       "      <td>2029-10-01</td>\n",
       "      <td>2030-10-01</td>\n",
       "      <td>8365c29</td>\n",
       "      <td>0.000418</td>\n",
       "      <td>6.772300e-08</td>\n",
       "      <td>0.000000</td>\n",
       "      <td>0.000000</td>\n",
       "      <td>1.620167e-04</td>\n",
       "    </tr>\n",
       "    <tr>\n",
       "      <th>332</th>\n",
       "      <td>2029-10-01</td>\n",
       "      <td>2030-10-01</td>\n",
       "      <td>8426e31</td>\n",
       "      <td>0.121934</td>\n",
       "      <td>8.642018e-02</td>\n",
       "      <td>0.007160</td>\n",
       "      <td>0.058720</td>\n",
       "      <td>7.087456e-01</td>\n",
       "    </tr>\n",
       "    <tr>\n",
       "      <th>333</th>\n",
       "      <td>2029-10-01</td>\n",
       "      <td>2030-10-01</td>\n",
       "      <td>866250a</td>\n",
       "      <td>0.063222</td>\n",
       "      <td>6.641169e-03</td>\n",
       "      <td>0.000000</td>\n",
       "      <td>0.000000</td>\n",
       "      <td>1.050452e-01</td>\n",
       "    </tr>\n",
       "    <tr>\n",
       "      <th>334</th>\n",
       "      <td>2029-10-01</td>\n",
       "      <td>2030-10-01</td>\n",
       "      <td>897435a</td>\n",
       "      <td>0.021615</td>\n",
       "      <td>2.704412e-03</td>\n",
       "      <td>0.000000</td>\n",
       "      <td>0.000000</td>\n",
       "      <td>1.251174e-01</td>\n",
       "    </tr>\n",
       "    <tr>\n",
       "      <th>335</th>\n",
       "      <td>2029-10-01</td>\n",
       "      <td>2030-10-01</td>\n",
       "      <td>9b43fb2</td>\n",
       "      <td>0.004355</td>\n",
       "      <td>1.258199e-03</td>\n",
       "      <td>0.000281</td>\n",
       "      <td>0.064524</td>\n",
       "      <td>2.889090e-01</td>\n",
       "    </tr>\n",
       "    <tr>\n",
       "      <th>336</th>\n",
       "      <td>2029-10-01</td>\n",
       "      <td>2030-10-01</td>\n",
       "      <td>9d8e86e</td>\n",
       "      <td>0.001438</td>\n",
       "      <td>2.962020e-03</td>\n",
       "      <td>0.000000</td>\n",
       "      <td>0.000000</td>\n",
       "      <td>2.059819e+00</td>\n",
       "    </tr>\n",
       "    <tr>\n",
       "      <th>337</th>\n",
       "      <td>2029-10-01</td>\n",
       "      <td>2030-10-01</td>\n",
       "      <td>a260109</td>\n",
       "      <td>0.020315</td>\n",
       "      <td>6.155734e-04</td>\n",
       "      <td>0.000000</td>\n",
       "      <td>0.000000</td>\n",
       "      <td>3.030142e-02</td>\n",
       "    </tr>\n",
       "    <tr>\n",
       "      <th>338</th>\n",
       "      <td>2029-10-01</td>\n",
       "      <td>2030-10-01</td>\n",
       "      <td>a347fb5</td>\n",
       "      <td>0.008950</td>\n",
       "      <td>3.905580e-04</td>\n",
       "      <td>0.000000</td>\n",
       "      <td>0.000000</td>\n",
       "      <td>4.363776e-02</td>\n",
       "    </tr>\n",
       "    <tr>\n",
       "      <th>339</th>\n",
       "      <td>2029-10-01</td>\n",
       "      <td>2030-10-01</td>\n",
       "      <td>ac8ef94</td>\n",
       "      <td>0.003265</td>\n",
       "      <td>1.047781e-04</td>\n",
       "      <td>0.000013</td>\n",
       "      <td>0.003982</td>\n",
       "      <td>3.209131e-02</td>\n",
       "    </tr>\n",
       "    <tr>\n",
       "      <th>340</th>\n",
       "      <td>2029-10-01</td>\n",
       "      <td>2030-10-01</td>\n",
       "      <td>bc59f3b</td>\n",
       "      <td>0.001709</td>\n",
       "      <td>6.511464e-03</td>\n",
       "      <td>0.001995</td>\n",
       "      <td>1.167349</td>\n",
       "      <td>3.810102e+00</td>\n",
       "    </tr>\n",
       "    <tr>\n",
       "      <th>341</th>\n",
       "      <td>2029-10-01</td>\n",
       "      <td>2030-10-01</td>\n",
       "      <td>bfdd6ed</td>\n",
       "      <td>0.112279</td>\n",
       "      <td>4.564394e-02</td>\n",
       "      <td>0.000019</td>\n",
       "      <td>0.000169</td>\n",
       "      <td>4.065225e-01</td>\n",
       "    </tr>\n",
       "    <tr>\n",
       "      <th>342</th>\n",
       "      <td>2029-10-01</td>\n",
       "      <td>2030-10-01</td>\n",
       "      <td>d2c0228</td>\n",
       "      <td>0.021228</td>\n",
       "      <td>1.380122e-04</td>\n",
       "      <td>0.000000</td>\n",
       "      <td>0.000000</td>\n",
       "      <td>6.501424e-03</td>\n",
       "    </tr>\n",
       "    <tr>\n",
       "      <th>343</th>\n",
       "      <td>2029-10-01</td>\n",
       "      <td>2030-10-01</td>\n",
       "      <td>d71f7c9</td>\n",
       "      <td>0.008585</td>\n",
       "      <td>4.489861e-04</td>\n",
       "      <td>0.130732</td>\n",
       "      <td>15.227956</td>\n",
       "      <td>5.229890e-02</td>\n",
       "    </tr>\n",
       "    <tr>\n",
       "      <th>344</th>\n",
       "      <td>2029-10-01</td>\n",
       "      <td>2030-10-01</td>\n",
       "      <td>dfa2f40</td>\n",
       "      <td>0.019239</td>\n",
       "      <td>7.088535e-04</td>\n",
       "      <td>0.000000</td>\n",
       "      <td>0.000000</td>\n",
       "      <td>3.684461e-02</td>\n",
       "    </tr>\n",
       "    <tr>\n",
       "      <th>345</th>\n",
       "      <td>2029-10-01</td>\n",
       "      <td>2030-10-01</td>\n",
       "      <td>ec200c9</td>\n",
       "      <td>0.074980</td>\n",
       "      <td>3.184997e-02</td>\n",
       "      <td>0.005416</td>\n",
       "      <td>0.072233</td>\n",
       "      <td>4.247796e-01</td>\n",
       "    </tr>\n",
       "    <tr>\n",
       "      <th>346</th>\n",
       "      <td>2029-10-01</td>\n",
       "      <td>2030-10-01</td>\n",
       "      <td>f10c42f</td>\n",
       "      <td>0.002311</td>\n",
       "      <td>1.935705e-03</td>\n",
       "      <td>0.000019</td>\n",
       "      <td>0.008222</td>\n",
       "      <td>8.376049e-01</td>\n",
       "    </tr>\n",
       "  </tbody>\n",
       "</table>\n",
       "</div>"
      ],
      "text/plain": [
       "     timepoint future_timepoint clade_membership  initial_frequency  \\\n",
       "319 2029-10-01       2030-10-01          01e5f2f           0.071729   \n",
       "320 2029-10-01       2030-10-01          02b0a2a           0.130446   \n",
       "321 2029-10-01       2030-10-01          2772869           0.013402   \n",
       "322 2029-10-01       2030-10-01          358148a           0.008846   \n",
       "323 2029-10-01       2030-10-01          3bd94c5           0.055816   \n",
       "324 2029-10-01       2030-10-01          42b9822           0.004052   \n",
       "325 2029-10-01       2030-10-01          478e74a           0.014864   \n",
       "326 2029-10-01       2030-10-01          6288a52           0.004231   \n",
       "327 2029-10-01       2030-10-01          709baba           0.007914   \n",
       "328 2029-10-01       2030-10-01          770f3bd           0.187782   \n",
       "329 2029-10-01       2030-10-01          7fe96bc           0.014825   \n",
       "330 2029-10-01       2030-10-01          82a672d           0.000215   \n",
       "331 2029-10-01       2030-10-01          8365c29           0.000418   \n",
       "332 2029-10-01       2030-10-01          8426e31           0.121934   \n",
       "333 2029-10-01       2030-10-01          866250a           0.063222   \n",
       "334 2029-10-01       2030-10-01          897435a           0.021615   \n",
       "335 2029-10-01       2030-10-01          9b43fb2           0.004355   \n",
       "336 2029-10-01       2030-10-01          9d8e86e           0.001438   \n",
       "337 2029-10-01       2030-10-01          a260109           0.020315   \n",
       "338 2029-10-01       2030-10-01          a347fb5           0.008950   \n",
       "339 2029-10-01       2030-10-01          ac8ef94           0.003265   \n",
       "340 2029-10-01       2030-10-01          bc59f3b           0.001709   \n",
       "341 2029-10-01       2030-10-01          bfdd6ed           0.112279   \n",
       "342 2029-10-01       2030-10-01          d2c0228           0.021228   \n",
       "343 2029-10-01       2030-10-01          d71f7c9           0.008585   \n",
       "344 2029-10-01       2030-10-01          dfa2f40           0.019239   \n",
       "345 2029-10-01       2030-10-01          ec200c9           0.074980   \n",
       "346 2029-10-01       2030-10-01          f10c42f           0.002311   \n",
       "\n",
       "     estimated_frequency  observed_frequency  observed_growth_rate  \\\n",
       "319         6.173254e-03            0.012057              0.168091   \n",
       "320         1.452871e-02            0.000000              0.000000   \n",
       "321         9.712906e-03            0.000000              0.000000   \n",
       "322         1.666892e-04            0.000000              0.000000   \n",
       "323         3.159356e-03            0.000000              0.000000   \n",
       "324         2.467910e-06            0.000708              0.174729   \n",
       "325         3.133778e-04            0.000000              0.000000   \n",
       "326         1.996028e-02            0.085501             20.208225   \n",
       "327         9.850095e-03            0.000000              0.000000   \n",
       "328         6.850117e-01            0.755585              4.023735   \n",
       "329         6.278731e-02            0.000466              0.031433   \n",
       "330         4.053308e-11            0.000000              0.000000   \n",
       "331         6.772300e-08            0.000000              0.000000   \n",
       "332         8.642018e-02            0.007160              0.058720   \n",
       "333         6.641169e-03            0.000000              0.000000   \n",
       "334         2.704412e-03            0.000000              0.000000   \n",
       "335         1.258199e-03            0.000281              0.064524   \n",
       "336         2.962020e-03            0.000000              0.000000   \n",
       "337         6.155734e-04            0.000000              0.000000   \n",
       "338         3.905580e-04            0.000000              0.000000   \n",
       "339         1.047781e-04            0.000013              0.003982   \n",
       "340         6.511464e-03            0.001995              1.167349   \n",
       "341         4.564394e-02            0.000019              0.000169   \n",
       "342         1.380122e-04            0.000000              0.000000   \n",
       "343         4.489861e-04            0.130732             15.227956   \n",
       "344         7.088535e-04            0.000000              0.000000   \n",
       "345         3.184997e-02            0.005416              0.072233   \n",
       "346         1.935705e-03            0.000019              0.008222   \n",
       "\n",
       "     estimated_growth_rate  \n",
       "319           8.606357e-02  \n",
       "320           1.113772e-01  \n",
       "321           7.247355e-01  \n",
       "322           1.884346e-02  \n",
       "323           5.660305e-02  \n",
       "324           6.090598e-04  \n",
       "325           2.108300e-02  \n",
       "326           4.717627e+00  \n",
       "327           1.244642e+00  \n",
       "328           3.647909e+00  \n",
       "329           4.235232e+00  \n",
       "330           1.885260e-07  \n",
       "331           1.620167e-04  \n",
       "332           7.087456e-01  \n",
       "333           1.050452e-01  \n",
       "334           1.251174e-01  \n",
       "335           2.889090e-01  \n",
       "336           2.059819e+00  \n",
       "337           3.030142e-02  \n",
       "338           4.363776e-02  \n",
       "339           3.209131e-02  \n",
       "340           3.810102e+00  \n",
       "341           4.065225e-01  \n",
       "342           6.501424e-03  \n",
       "343           5.229890e-02  \n",
       "344           3.684461e-02  \n",
       "345           4.247796e-01  \n",
       "346           8.376049e-01  "
      ]
     },
     "execution_count": 66,
     "metadata": {},
     "output_type": "execute_result"
    }
   ],
   "source": [
    "merged_clades.query(\"timepoint == '2029-10-01'\")"
   ]
  },
  {
   "cell_type": "markdown",
   "metadata": {},
   "source": [
    "## Find and analyze large clades\n",
    "\n",
    "Find all clades with an initial frequency some minimum value (e.g., >15%)."
   ]
  },
  {
   "cell_type": "code",
   "execution_count": 67,
   "metadata": {},
   "outputs": [],
   "source": [
    "large_clades = merged_clades.query(\"initial_frequency > 0.15\").copy()"
   ]
  },
  {
   "cell_type": "code",
   "execution_count": 68,
   "metadata": {},
   "outputs": [
    {
     "data": {
      "text/html": [
       "<div>\n",
       "<style scoped>\n",
       "    .dataframe tbody tr th:only-of-type {\n",
       "        vertical-align: middle;\n",
       "    }\n",
       "\n",
       "    .dataframe tbody tr th {\n",
       "        vertical-align: top;\n",
       "    }\n",
       "\n",
       "    .dataframe thead th {\n",
       "        text-align: right;\n",
       "    }\n",
       "</style>\n",
       "<table border=\"1\" class=\"dataframe\">\n",
       "  <thead>\n",
       "    <tr style=\"text-align: right;\">\n",
       "      <th></th>\n",
       "      <th>timepoint</th>\n",
       "      <th>future_timepoint</th>\n",
       "      <th>clade_membership</th>\n",
       "      <th>initial_frequency</th>\n",
       "      <th>estimated_frequency</th>\n",
       "      <th>observed_frequency</th>\n",
       "      <th>observed_growth_rate</th>\n",
       "      <th>estimated_growth_rate</th>\n",
       "    </tr>\n",
       "  </thead>\n",
       "  <tbody>\n",
       "    <tr>\n",
       "      <th>2</th>\n",
       "      <td>2023-10-01</td>\n",
       "      <td>2024-10-01</td>\n",
       "      <td>3483876</td>\n",
       "      <td>0.177599</td>\n",
       "      <td>0.086580</td>\n",
       "      <td>0.000000</td>\n",
       "      <td>0.000000</td>\n",
       "      <td>0.487504</td>\n",
       "    </tr>\n",
       "    <tr>\n",
       "      <th>10</th>\n",
       "      <td>2023-10-01</td>\n",
       "      <td>2024-10-01</td>\n",
       "      <td>bece2b8</td>\n",
       "      <td>0.226667</td>\n",
       "      <td>0.164681</td>\n",
       "      <td>0.000000</td>\n",
       "      <td>0.000000</td>\n",
       "      <td>0.726534</td>\n",
       "    </tr>\n",
       "    <tr>\n",
       "      <th>26</th>\n",
       "      <td>2024-04-01</td>\n",
       "      <td>2025-04-01</td>\n",
       "      <td>51cac21</td>\n",
       "      <td>0.172958</td>\n",
       "      <td>0.113656</td>\n",
       "      <td>0.006735</td>\n",
       "      <td>0.038940</td>\n",
       "      <td>0.657132</td>\n",
       "    </tr>\n",
       "    <tr>\n",
       "      <th>32</th>\n",
       "      <td>2024-04-01</td>\n",
       "      <td>2025-04-01</td>\n",
       "      <td>a3c7961</td>\n",
       "      <td>0.327732</td>\n",
       "      <td>0.027183</td>\n",
       "      <td>0.000979</td>\n",
       "      <td>0.002987</td>\n",
       "      <td>0.082941</td>\n",
       "    </tr>\n",
       "    <tr>\n",
       "      <th>64</th>\n",
       "      <td>2024-10-01</td>\n",
       "      <td>2025-10-01</td>\n",
       "      <td>a3c7961</td>\n",
       "      <td>0.182237</td>\n",
       "      <td>0.031088</td>\n",
       "      <td>0.000000</td>\n",
       "      <td>0.000000</td>\n",
       "      <td>0.170591</td>\n",
       "    </tr>\n",
       "  </tbody>\n",
       "</table>\n",
       "</div>"
      ],
      "text/plain": [
       "    timepoint future_timepoint clade_membership  initial_frequency  \\\n",
       "2  2023-10-01       2024-10-01          3483876           0.177599   \n",
       "10 2023-10-01       2024-10-01          bece2b8           0.226667   \n",
       "26 2024-04-01       2025-04-01          51cac21           0.172958   \n",
       "32 2024-04-01       2025-04-01          a3c7961           0.327732   \n",
       "64 2024-10-01       2025-10-01          a3c7961           0.182237   \n",
       "\n",
       "    estimated_frequency  observed_frequency  observed_growth_rate  \\\n",
       "2              0.086580            0.000000              0.000000   \n",
       "10             0.164681            0.000000              0.000000   \n",
       "26             0.113656            0.006735              0.038940   \n",
       "32             0.027183            0.000979              0.002987   \n",
       "64             0.031088            0.000000              0.000000   \n",
       "\n",
       "    estimated_growth_rate  \n",
       "2                0.487504  \n",
       "10               0.726534  \n",
       "26               0.657132  \n",
       "32               0.082941  \n",
       "64               0.170591  "
      ]
     },
     "execution_count": 68,
     "metadata": {},
     "output_type": "execute_result"
    }
   ],
   "source": [
    "large_clades.head()"
   ]
  },
  {
   "cell_type": "code",
   "execution_count": 69,
   "metadata": {},
   "outputs": [
    {
     "data": {
      "text/plain": [
       "(48, 8)"
      ]
     },
     "execution_count": 69,
     "metadata": {},
     "output_type": "execute_result"
    }
   ],
   "source": [
    "large_clades.shape"
   ]
  },
  {
   "cell_type": "code",
   "execution_count": 70,
   "metadata": {},
   "outputs": [],
   "source": [
    "r, p = pearsonr(\n",
    "    large_clades[\"observed_growth_rate\"],\n",
    "    large_clades[\"estimated_growth_rate\"]\n",
    ")"
   ]
  },
  {
   "cell_type": "code",
   "execution_count": 71,
   "metadata": {},
   "outputs": [
    {
     "data": {
      "text/plain": [
       "0.6402892107034713"
      ]
     },
     "execution_count": 71,
     "metadata": {},
     "output_type": "execute_result"
    }
   ],
   "source": [
    "r"
   ]
  },
  {
   "cell_type": "code",
   "execution_count": 72,
   "metadata": {},
   "outputs": [
    {
     "data": {
      "text/plain": [
       "9.543893905026132e-07"
      ]
     },
     "execution_count": 72,
     "metadata": {},
     "output_type": "execute_result"
    }
   ],
   "source": [
    "p"
   ]
  },
  {
   "cell_type": "code",
   "execution_count": 73,
   "metadata": {},
   "outputs": [],
   "source": [
    "mcc, confusion_matrix = get_matthews_correlation_coefficient_for_data_frame(large_clades, True)"
   ]
  },
  {
   "cell_type": "code",
   "execution_count": 74,
   "metadata": {},
   "outputs": [
    {
     "data": {
      "text/plain": [
       "0.3810249640493438"
      ]
     },
     "execution_count": 74,
     "metadata": {},
     "output_type": "execute_result"
    }
   ],
   "source": [
    "mcc"
   ]
  },
  {
   "cell_type": "code",
   "execution_count": 75,
   "metadata": {},
   "outputs": [
    {
     "data": {
      "text/plain": [
       "0.2857142857142857"
      ]
     },
     "execution_count": 75,
     "metadata": {},
     "output_type": "execute_result"
    }
   ],
   "source": [
    "growth_accuracy = confusion_matrix[\"tp\"] / float(confusion_matrix[\"tp\"] + confusion_matrix[\"fp\"])\n",
    "growth_accuracy"
   ]
  },
  {
   "cell_type": "code",
   "execution_count": 76,
   "metadata": {},
   "outputs": [
    {
     "data": {
      "text/plain": [
       "0.975609756097561"
      ]
     },
     "execution_count": 76,
     "metadata": {},
     "output_type": "execute_result"
    }
   ],
   "source": [
    "decline_accuracy = confusion_matrix[\"tn\"] / float(confusion_matrix[\"tn\"] + confusion_matrix[\"fn\"])\n",
    "decline_accuracy"
   ]
  },
  {
   "cell_type": "code",
   "execution_count": 77,
   "metadata": {},
   "outputs": [],
   "source": [
    "min_growth_rate = 0\n",
    "max_growth_rate = large_clades.loc[:, [\"observed_growth_rate\", \"estimated_growth_rate\"]].max().max() + 0.2"
   ]
  },
  {
   "cell_type": "code",
   "execution_count": 78,
   "metadata": {},
   "outputs": [],
   "source": [
    "pseudofrequency = 0.001"
   ]
  },
  {
   "cell_type": "code",
   "execution_count": 79,
   "metadata": {},
   "outputs": [],
   "source": [
    "large_clades[\"log_observed_growth_rate\"] = (\n",
    "    np.log10((large_clades[\"observed_frequency\"] + pseudofrequency) / (large_clades[\"initial_frequency\"] + pseudofrequency))\n",
    ")\n",
    "\n",
    "large_clades[\"log_estimated_growth_rate\"] = (\n",
    "    np.log10((large_clades[\"estimated_frequency\"] + pseudofrequency) / (large_clades[\"initial_frequency\"] + pseudofrequency))\n",
    ")"
   ]
  },
  {
   "cell_type": "code",
   "execution_count": 80,
   "metadata": {},
   "outputs": [],
   "source": [
    "upper_limit = np.ceil(large_clades.loc[:, [\"observed_growth_rate\", \"estimated_growth_rate\"]].max().max())\n",
    "\n",
    "log_lower_limit = large_clades.loc[:, [\"log_observed_growth_rate\", \"log_estimated_growth_rate\"]].min().min() - 0.1\n",
    "log_upper_limit = np.ceil(large_clades.loc[:, [\"log_observed_growth_rate\", \"log_estimated_growth_rate\"]].max().max()) + 0.1"
   ]
  },
  {
   "cell_type": "code",
   "execution_count": 81,
   "metadata": {},
   "outputs": [],
   "source": [
    "r, p = pearsonr(\n",
    "    large_clades[\"log_observed_growth_rate\"],\n",
    "    large_clades[\"log_estimated_growth_rate\"]\n",
    ")"
   ]
  },
  {
   "cell_type": "code",
   "execution_count": 82,
   "metadata": {},
   "outputs": [
    {
     "data": {
      "text/plain": [
       "0.3225855988341467"
      ]
     },
     "execution_count": 82,
     "metadata": {},
     "output_type": "execute_result"
    }
   ],
   "source": [
    "r"
   ]
  },
  {
   "cell_type": "code",
   "execution_count": 83,
   "metadata": {},
   "outputs": [
    {
     "data": {
      "text/plain": [
       "0.025339958797760364"
      ]
     },
     "execution_count": 83,
     "metadata": {},
     "output_type": "execute_result"
    }
   ],
   "source": [
    "p"
   ]
  },
  {
   "cell_type": "code",
   "execution_count": 84,
   "metadata": {},
   "outputs": [
    {
     "data": {
      "image/png": "[encoded data removed]",
      "text/plain": [
       "<Figure size 1200x1200 with 1 Axes>"
      ]
     },
     "metadata": {},
     "output_type": "display_data"
    }
   ],
   "source": [
    "fig, ax = plt.subplots(1, 1, figsize=(6, 6))\n",
    "ax.plot(\n",
    "    large_clades[\"log_observed_growth_rate\"],\n",
    "    large_clades[\"log_estimated_growth_rate\"],\n",
    "    \"o\",\n",
    "    alpha=0.4\n",
    ")\n",
    "\n",
    "ax.axhline(color=\"#cccccc\", zorder=-5)\n",
    "ax.axvline(color=\"#cccccc\", zorder=-5)\n",
    "\n",
    "if p < 0.001:\n",
    "    p_value = \"$p$ < 0.001\"\n",
    "else:\n",
    "    p_value = \"$p$ = %.3f\" % p\n",
    "\n",
    "ax.text(\n",
    "    0.02,\n",
    "    0.9,\n",
    "    \"Growth accuracy = %.2f\\nDecline accuracy = %.2f\\n$R$ = %.2f\\n%s\" % (growth_accuracy, decline_accuracy, r, p_value),\n",
    "    fontsize=12,\n",
    "    horizontalalignment=\"left\",\n",
    "    verticalalignment=\"center\",\n",
    "    transform=ax.transAxes\n",
    ")\n",
    "\n",
    "ax.set_xlabel(\"Observed $log_{10}$ growth rate\")\n",
    "ax.set_ylabel(\"Estimated $log_{10}$ growth rate\")\n",
    "ax.set_title(\"Validation of best model\", fontsize=12)\n",
    "\n",
    "ticks = np.arange(-6, 4, 1)\n",
    "ax.set_xticks(ticks)\n",
    "ax.set_yticks(ticks)\n",
    "\n",
    "ax.set_xlim(log_lower_limit, log_upper_limit)\n",
    "ax.set_ylim(log_lower_limit, log_upper_limit)\n",
    "ax.set_aspect(\"equal\")\n",
    "\n",
    "#plt.savefig(\"../manuscript/figures/validation-of-best-model-for-natural-populations.pdf\")"
   ]
  },
  {
   "cell_type": "markdown",
   "metadata": {},
   "source": [
    "## Estimated and observed closest strains per timepoint\n",
    "\n",
    "Create a figure similar to Figure 2D in Neher et al. 2014 showing the minimum estimated distance to the future and minimum observed distance to the future per timepoint."
   ]
  },
  {
   "cell_type": "code",
   "execution_count": 85,
   "metadata": {},
   "outputs": [],
   "source": [
    "sorted_df = full_forecasts.dropna().sort_values(\n",
    "    [\"timepoint\"]\n",
    ").copy()"
   ]
  },
  {
   "cell_type": "code",
   "execution_count": 86,
   "metadata": {},
   "outputs": [],
   "source": [
    "sorted_df[\"timepoint_rank\"] = sorted_df.groupby(\"timepoint\")[\"weighted_distance_to_future\"].rank(pct=True)"
   ]
  },
  {
   "cell_type": "code",
   "execution_count": 87,
   "metadata": {},
   "outputs": [],
   "source": [
    "best_fitness_rank_by_timepoint_df = sorted_df.sort_values(\n",
    "    [\"timepoint\", \"fitness\"],\n",
    "    ascending=False\n",
    ").groupby(\"timepoint\")[\"timepoint_rank\"].first().reset_index()"
   ]
  },
  {
   "cell_type": "code",
   "execution_count": 88,
   "metadata": {},
   "outputs": [
    {
     "data": {
      "text/html": [
       "<div>\n",
       "<style scoped>\n",
       "    .dataframe tbody tr th:only-of-type {\n",
       "        vertical-align: middle;\n",
       "    }\n",
       "\n",
       "    .dataframe tbody tr th {\n",
       "        vertical-align: top;\n",
       "    }\n",
       "\n",
       "    .dataframe thead th {\n",
       "        text-align: right;\n",
       "    }\n",
       "</style>\n",
       "<table border=\"1\" class=\"dataframe\">\n",
       "  <thead>\n",
       "    <tr style=\"text-align: right;\">\n",
       "      <th></th>\n",
       "      <th>timepoint</th>\n",
       "      <th>timepoint_rank</th>\n",
       "    </tr>\n",
       "  </thead>\n",
       "  <tbody>\n",
       "    <tr>\n",
       "      <th>0</th>\n",
       "      <td>2023-10-01</td>\n",
       "      <td>0.170635</td>\n",
       "    </tr>\n",
       "    <tr>\n",
       "      <th>1</th>\n",
       "      <td>2024-04-01</td>\n",
       "      <td>0.688889</td>\n",
       "    </tr>\n",
       "    <tr>\n",
       "      <th>2</th>\n",
       "      <td>2024-10-01</td>\n",
       "      <td>0.222222</td>\n",
       "    </tr>\n",
       "    <tr>\n",
       "      <th>3</th>\n",
       "      <td>2025-04-01</td>\n",
       "      <td>0.306349</td>\n",
       "    </tr>\n",
       "    <tr>\n",
       "      <th>4</th>\n",
       "      <td>2025-10-01</td>\n",
       "      <td>0.039683</td>\n",
       "    </tr>\n",
       "  </tbody>\n",
       "</table>\n",
       "</div>"
      ],
      "text/plain": [
       "   timepoint  timepoint_rank\n",
       "0 2023-10-01        0.170635\n",
       "1 2024-04-01        0.688889\n",
       "2 2024-10-01        0.222222\n",
       "3 2025-04-01        0.306349\n",
       "4 2025-10-01        0.039683"
      ]
     },
     "execution_count": 88,
     "metadata": {},
     "output_type": "execute_result"
    }
   ],
   "source": [
    "best_fitness_rank_by_timepoint_df.head()"
   ]
  },
  {
   "cell_type": "code",
   "execution_count": 89,
   "metadata": {},
   "outputs": [
    {
     "data": {
      "text/plain": [
       "Text(0,0.5,'Number of timepoints')"
      ]
     },
     "execution_count": 89,
     "metadata": {},
     "output_type": "execute_result"
    },
    {
     "data": {
      "image/png": "[encoded data removed]",
      "text/plain": [
       "<Figure size 1200x800 with 1 Axes>"
      ]
     },
     "metadata": {},
     "output_type": "display_data"
    }
   ],
   "source": [
    "median_best_rank = best_fitness_rank_by_timepoint_df[\"timepoint_rank\"].median()\n",
    "\n",
    "fig, ax = plt.subplots(1, 1, figsize=(6, 4))\n",
    "ax.hist(best_fitness_rank_by_timepoint_df[\"timepoint_rank\"], bins=np.arange(0, 1.01, 0.05), label=None)\n",
    "ax.axvline(\n",
    "    median_best_rank,\n",
    "    color=\"orange\",\n",
    "    label=\"median = %i%%\" % round(median_best_rank * 100, 0)\n",
    ")\n",
    "ax.set_xticklabels(['{:3.0f}%'.format(x*100) for x in [0, 0.2, 0.4, 0.6, 0.8, 1.0]])\n",
    "ax.set_xlim(0, 1)\n",
    "\n",
    "ax.legend(\n",
    "    frameon=False\n",
    ")\n",
    "ax.set_xlabel(\"Percentile rank of distance for fittest strain\")\n",
    "ax.set_ylabel(\"Number of timepoints\")"
   ]
  },
  {
   "cell_type": "markdown",
   "metadata": {},
   "source": [
    "## Merge validation figures into subpanels of one figure"
   ]
  },
  {
   "cell_type": "code",
   "execution_count": 92,
   "metadata": {},
   "outputs": [
    {
     "data": {
      "image/png": "[encoded data removed]",
      "text/plain": [
       "<Figure size 1600x800 with 2 Axes>"
      ]
     },
     "metadata": {},
     "output_type": "display_data"
    }
   ],
   "source": [
    "fig = plt.figure(figsize=(8, 4), facecolor='w')\n",
    "gs = gridspec.GridSpec(1, 2, width_ratios=[1, 1], wspace=0.1)\n",
    "\n",
    "#\n",
    "# Clade growth rate correlations\n",
    "#\n",
    "\n",
    "clade_ax = fig.add_subplot(gs[0])\n",
    "clade_ax.plot(\n",
    "    large_clades[\"log_observed_growth_rate\"],\n",
    "    large_clades[\"log_estimated_growth_rate\"],\n",
    "    \"o\",\n",
    "    alpha=0.4\n",
    ")\n",
    "\n",
    "clade_ax.axhline(color=\"#cccccc\", zorder=-5)\n",
    "clade_ax.axvline(color=\"#cccccc\", zorder=-5)\n",
    "\n",
    "if p < 0.001:\n",
    "    p_value = \"$p$ < 0.001\"\n",
    "else:\n",
    "    p_value = \"$p$ = %.3f\" % p\n",
    "\n",
    "clade_ax.text(\n",
    "    0.02,\n",
    "    0.9,\n",
    "    \"Growth accuracy = %.2f\\nDecline accuracy = %.2f\\n$R$ = %.2f\\n%s\" % (growth_accuracy, decline_accuracy, r, p_value),\n",
    "    fontsize=10,\n",
    "    horizontalalignment=\"left\",\n",
    "    verticalalignment=\"center\",\n",
    "    transform=clade_ax.transAxes\n",
    ")\n",
    "\n",
    "clade_ax.set_xlabel(\"Observed $log_{10}$ growth rate\")\n",
    "clade_ax.set_ylabel(\"Estimated $log_{10}$ growth rate\")\n",
    "\n",
    "ticks = np.arange(-6, 4, 1)\n",
    "clade_ax.set_xticks(ticks)\n",
    "clade_ax.set_yticks(ticks)\n",
    "\n",
    "clade_ax.set_xlim(log_lower_limit, log_upper_limit)\n",
    "clade_ax.set_ylim(log_lower_limit, log_upper_limit)\n",
    "clade_ax.set_aspect(\"equal\")\n",
    "\n",
    "#\n",
    "# Estimated closest strain to the future ranking\n",
    "#\n",
    "\n",
    "rank_ax = fig.add_subplot(gs[1])\n",
    "\n",
    "median_best_rank = best_fitness_rank_by_timepoint_df[\"timepoint_rank\"].median()\n",
    "\n",
    "rank_ax.hist(best_fitness_rank_by_timepoint_df[\"timepoint_rank\"], bins=np.arange(0, 1.01, 0.05), label=None)\n",
    "rank_ax.axvline(\n",
    "    median_best_rank,\n",
    "    color=\"orange\",\n",
    "    label=\"median = %i%%\" % round(median_best_rank * 100, 0)\n",
    ")\n",
    "rank_ax.set_xticklabels(['{:3.0f}%'.format(x*100) for x in [0, 0.2, 0.4, 0.6, 0.8, 1.0]])\n",
    "rank_ax.set_xlim(0, 1)\n",
    "\n",
    "rank_ax.legend(\n",
    "    frameon=False\n",
    ")\n",
    "rank_ax.set_xlabel(\"Percentile rank by distance\\nfor estimated best strain\")\n",
    "rank_ax.set_ylabel(\"Number of timepoints\")\n",
    "\n",
    "gs.tight_layout(fig)\n",
    "\n",
    "plt.savefig(\"../manuscript/figures/validation-of-best-model-for-simulated-populations.png\")"
   ]
  },
  {
   "cell_type": "code",
   "execution_count": null,
   "metadata": {},
   "outputs": [],
   "source": []
  }
 ],
 "metadata": {
  "kernelspec": {
   "display_name": "Python 3",
   "language": "python",
   "name": "python3"
  },
  "language_info": {
   "codemirror_mode": {
    "name": "ipython",
    "version": 3
   },
   "file_extension": ".py",
   "mimetype": "text/x-python",
   "name": "python",
   "nbconvert_exporter": "python",
   "pygments_lexer": "ipython3",
   "version": "3.6.7"
  }
 },
 "nbformat": 4,
 "nbformat_minor": 4
}
