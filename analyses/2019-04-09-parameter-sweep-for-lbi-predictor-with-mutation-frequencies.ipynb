{
 "cells": [
  {
   "cell_type": "markdown",
   "metadata": {},
   "source": [
    "# Parameter sweep for LBI predictor with mutation frequencies\n",
    "\n",
    "Load flu tip attributes and final clade frequencies and then calculate the error of an exponential growth model based on just the LBI predictor across a range of predictor coefficients. The goal is to determine the shape of the error function that is exposed to scipy's optimization machinery."
   ]
  },
  {
   "cell_type": "code",
   "execution_count": 190,
   "metadata": {},
   "outputs": [],
   "source": [
    "import matplotlib.pyplot as plt\n",
    "import numpy as np\n",
    "import pandas as pd\n",
    "import seaborn as sns\n",
    "import sys\n",
    "\n",
    "%matplotlib inline\n",
    "\n",
    "plt.style.use(\"huddlej\")"
   ]
  },
  {
   "cell_type": "code",
   "execution_count": 191,
   "metadata": {},
   "outputs": [
    {
     "data": {
      "text/plain": [
       "'/Users/jlhudd/projects/nextstrain/flu-forecasting/analyses'"
      ]
     },
     "execution_count": 191,
     "metadata": {},
     "output_type": "execute_result"
    }
   ],
   "source": [
    "pwd"
   ]
  },
  {
   "cell_type": "code",
   "execution_count": 192,
   "metadata": {},
   "outputs": [],
   "source": [
    "sys.path.insert(0, \"../src\")"
   ]
  },
  {
   "cell_type": "code",
   "execution_count": 193,
   "metadata": {},
   "outputs": [],
   "source": [
    "from fit_model import ExponentialGrowthModel\n",
    "from forecast.metrics import mean_absolute_error, sum_of_squared_errors, negative_information_gain, add_pseudocounts_to_frequencies"
   ]
  },
  {
   "cell_type": "markdown",
   "metadata": {},
   "source": [
    "## Define model subclass for mutation targets"
   ]
  },
  {
   "cell_type": "code",
   "execution_count": 194,
   "metadata": {},
   "outputs": [],
   "source": [
    "class MutationExponentialGrowthModel(ExponentialGrowthModel):\n",
    "    def _fit(self, coefficients, X_tips, y, X_mutations):\n",
    "        # Estimate final frequencies.\n",
    "        y_hat = self.predict(X_tips, X_mutations, coefficients)\n",
    "\n",
    "        # Merge estimated and observed frequencies. The left join enables\n",
    "        # tracking of clades that die in the future and are therefore not\n",
    "        # observed in the future frequencies data frame.\n",
    "        frequencies = y_hat.merge(\n",
    "            y,\n",
    "            how=\"left\",\n",
    "            on=[\"timepoint\", \"mutation\"],\n",
    "            suffixes=[\"_estimated\", \"_observed\"]\n",
    "        )\n",
    "        frequencies[\"frequency_observed\"] = frequencies[\"frequency_observed\"].fillna(0.0)\n",
    "\n",
    "        # Calculate initial frequencies for use by cost function.\n",
    "        initial_frequencies = X_mutations.groupby([\n",
    "            \"timepoint\",\n",
    "            \"mutation\"\n",
    "        ])[\"frequency\"].sum().reset_index()\n",
    "\n",
    "        # Annotate future frequencies with initial frequencies.\n",
    "        frequencies = frequencies.merge(\n",
    "            initial_frequencies,\n",
    "            how=\"inner\",\n",
    "            on=[\"timepoint\", \"mutation\"]\n",
    "        )\n",
    "\n",
    "        # Calculate the error between the observed and estimated frequencies.\n",
    "        error = self.cost_function(\n",
    "            frequencies[\"frequency_observed\"],\n",
    "            frequencies[\"frequency_estimated\"],\n",
    "            initial=frequencies[\"frequency\"]\n",
    "        )\n",
    "        l1_penalty = self.l1_lambda * np.abs(coefficients).sum()\n",
    "        \n",
    "        return error + l1_penalty\n",
    "    \n",
    "    def predict(self, X_tips, X_mutations, coefficients=None):\n",
    "        # Use model coefficients, if none are provided.\n",
    "        if coefficients is None:\n",
    "            coefficients = self.coef_\n",
    "\n",
    "        estimated_frequencies = []\n",
    "        for timepoint, timepoint_df in X_tips.groupby(\"timepoint\"):\n",
    "            # Select predictors from the timepoint.\n",
    "            predictors = timepoint_df.loc[:, self.predictors].values\n",
    "\n",
    "            # Select frequencies from timepoint.\n",
    "            initial_frequencies = timepoint_df[\"frequency\"].values\n",
    "\n",
    "            # Calculate fitnesses.\n",
    "            fitnesses = self.get_fitnesses(coefficients, predictors)\n",
    "\n",
    "            # Project frequencies.\n",
    "            projected_frequencies = self.project_frequencies(\n",
    "                initial_frequencies,\n",
    "                fitnesses,\n",
    "                self.delta_time\n",
    "            )\n",
    "\n",
    "            projected_timepoint_df = timepoint_df[[\"timepoint\", \"strain\"]].copy()\n",
    "            projected_timepoint_df[\"frequency\"] = projected_frequencies\n",
    "            \n",
    "            # Sum the estimated frequencies by mutation.\n",
    "            timepoint_mutations = X_mutations[X_mutations[\"timepoint\"] == timepoint].copy()\n",
    "            annotated_timepoint_mutations = timepoint_mutations.merge(\n",
    "                projected_timepoint_df,\n",
    "                on=[\"timepoint\", \"strain\"],\n",
    "                suffixes=[\"_initial\", \"\"]\n",
    "            )\n",
    "            \n",
    "            projected_mutation_frequencies = annotated_timepoint_mutations.groupby([\n",
    "                \"timepoint\",\n",
    "                \"mutation\"\n",
    "            ])[\"frequency\"].sum().reset_index()\n",
    "\n",
    "            estimated_frequencies.append(projected_mutation_frequencies)\n",
    "            \n",
    "        # Collect all estimated frequencies by timepoint.\n",
    "        estimated_frequencies = pd.concat(estimated_frequencies)\n",
    "        return estimated_frequencies"
   ]
  },
  {
   "cell_type": "markdown",
   "metadata": {},
   "source": [
    "## Load data"
   ]
  },
  {
   "cell_type": "markdown",
   "metadata": {},
   "source": [
    "Define the range of possible coefficient values to explore."
   ]
  },
  {
   "cell_type": "code",
   "execution_count": 195,
   "metadata": {},
   "outputs": [],
   "source": [
    "coefficients = np.linspace(-3, 3, 21)"
   ]
  },
  {
   "cell_type": "code",
   "execution_count": 196,
   "metadata": {},
   "outputs": [],
   "source": [
    "delta_time = 1.0\n",
    "l1_lambda = 0.0"
   ]
  },
  {
   "cell_type": "code",
   "execution_count": 197,
   "metadata": {},
   "outputs": [],
   "source": [
    "last_timepoint = pd.to_datetime(\"2012-10-01\")"
   ]
  },
  {
   "cell_type": "code",
   "execution_count": 198,
   "metadata": {},
   "outputs": [],
   "source": [
    "# Load tip attributes.\n",
    "X = pd.read_csv(\n",
    "    \"../results/builds/h3n2/20_viruses_per_month/sample_0/2000-10-01--2015-10-01/standardized_tip_attributes.tsv\",\n",
    "    sep=\"\\t\",\n",
    "    parse_dates=[\"timepoint\"]\n",
    ")"
   ]
  },
  {
   "cell_type": "code",
   "execution_count": 199,
   "metadata": {},
   "outputs": [],
   "source": [
    "X = X.loc[:, [\"strain\", \"clade_membership\", \"timepoint\", \"cTiterSub_x\", \"lbi\", \"ep\", \"ep_x\", \"ne\", \"delta_frequency\", \"frequency\"]].copy()"
   ]
  },
  {
   "cell_type": "code",
   "execution_count": 200,
   "metadata": {},
   "outputs": [],
   "source": [
    "X = X[X[\"timepoint\"] <= last_timepoint]"
   ]
  },
  {
   "cell_type": "code",
   "execution_count": 201,
   "metadata": {},
   "outputs": [
    {
     "data": {
      "text/html": [
       "<div>\n",
       "<style scoped>\n",
       "    .dataframe tbody tr th:only-of-type {\n",
       "        vertical-align: middle;\n",
       "    }\n",
       "\n",
       "    .dataframe tbody tr th {\n",
       "        vertical-align: top;\n",
       "    }\n",
       "\n",
       "    .dataframe thead th {\n",
       "        text-align: right;\n",
       "    }\n",
       "</style>\n",
       "<table border=\"1\" class=\"dataframe\">\n",
       "  <thead>\n",
       "    <tr style=\"text-align: right;\">\n",
       "      <th></th>\n",
       "      <th>strain</th>\n",
       "      <th>clade_membership</th>\n",
       "      <th>timepoint</th>\n",
       "      <th>cTiterSub_x</th>\n",
       "      <th>lbi</th>\n",
       "      <th>ep</th>\n",
       "      <th>ep_x</th>\n",
       "      <th>ne</th>\n",
       "      <th>delta_frequency</th>\n",
       "      <th>frequency</th>\n",
       "    </tr>\n",
       "  </thead>\n",
       "  <tbody>\n",
       "    <tr>\n",
       "      <th>0</th>\n",
       "      <td>A/BacGiang/BG003/2004</td>\n",
       "      <td>4ff1302</td>\n",
       "      <td>2004-10-01</td>\n",
       "      <td>NaN</td>\n",
       "      <td>-0.947616</td>\n",
       "      <td>10</td>\n",
       "      <td>2.115938</td>\n",
       "      <td>6</td>\n",
       "      <td>-0.918187</td>\n",
       "      <td>0.001207</td>\n",
       "    </tr>\n",
       "    <tr>\n",
       "      <th>1</th>\n",
       "      <td>A/California/7/2004</td>\n",
       "      <td>7aa732d</td>\n",
       "      <td>2004-10-01</td>\n",
       "      <td>-6.794363</td>\n",
       "      <td>1.584951</td>\n",
       "      <td>14</td>\n",
       "      <td>2.780779</td>\n",
       "      <td>7</td>\n",
       "      <td>0.753406</td>\n",
       "      <td>0.013619</td>\n",
       "    </tr>\n",
       "    <tr>\n",
       "      <th>2</th>\n",
       "      <td>A/California/NHRC0002/2003</td>\n",
       "      <td>4ff1302</td>\n",
       "      <td>2004-10-01</td>\n",
       "      <td>NaN</td>\n",
       "      <td>0.142304</td>\n",
       "      <td>10</td>\n",
       "      <td>2.139431</td>\n",
       "      <td>6</td>\n",
       "      <td>-0.918187</td>\n",
       "      <td>0.000005</td>\n",
       "    </tr>\n",
       "    <tr>\n",
       "      <th>3</th>\n",
       "      <td>A/Canterbury/100/2004</td>\n",
       "      <td>7aa732d</td>\n",
       "      <td>2004-10-01</td>\n",
       "      <td>-6.794363</td>\n",
       "      <td>1.771209</td>\n",
       "      <td>11</td>\n",
       "      <td>2.300266</td>\n",
       "      <td>7</td>\n",
       "      <td>0.753406</td>\n",
       "      <td>0.014974</td>\n",
       "    </tr>\n",
       "    <tr>\n",
       "      <th>4</th>\n",
       "      <td>A/Canterbury/20/2004</td>\n",
       "      <td>7aa732d</td>\n",
       "      <td>2004-10-01</td>\n",
       "      <td>-6.794363</td>\n",
       "      <td>2.178898</td>\n",
       "      <td>11</td>\n",
       "      <td>2.300266</td>\n",
       "      <td>7</td>\n",
       "      <td>0.753406</td>\n",
       "      <td>0.018538</td>\n",
       "    </tr>\n",
       "  </tbody>\n",
       "</table>\n",
       "</div>"
      ],
      "text/plain": [
       "                       strain clade_membership  timepoint  cTiterSub_x  \\\n",
       "0       A/BacGiang/BG003/2004          4ff1302 2004-10-01          NaN   \n",
       "1         A/California/7/2004          7aa732d 2004-10-01    -6.794363   \n",
       "2  A/California/NHRC0002/2003          4ff1302 2004-10-01          NaN   \n",
       "3       A/Canterbury/100/2004          7aa732d 2004-10-01    -6.794363   \n",
       "4        A/Canterbury/20/2004          7aa732d 2004-10-01    -6.794363   \n",
       "\n",
       "        lbi  ep      ep_x  ne  delta_frequency  frequency  \n",
       "0 -0.947616  10  2.115938   6        -0.918187   0.001207  \n",
       "1  1.584951  14  2.780779   7         0.753406   0.013619  \n",
       "2  0.142304  10  2.139431   6        -0.918187   0.000005  \n",
       "3  1.771209  11  2.300266   7         0.753406   0.014974  \n",
       "4  2.178898  11  2.300266   7         0.753406   0.018538  "
      ]
     },
     "execution_count": 201,
     "metadata": {},
     "output_type": "execute_result"
    }
   ],
   "source": [
    "X.head()"
   ]
  },
  {
   "cell_type": "code",
   "execution_count": 202,
   "metadata": {},
   "outputs": [
    {
     "data": {
      "text/plain": [
       "(3361, 10)"
      ]
     },
     "execution_count": 202,
     "metadata": {},
     "output_type": "execute_result"
    }
   ],
   "source": [
    "X.shape"
   ]
  },
  {
   "cell_type": "code",
   "execution_count": 203,
   "metadata": {},
   "outputs": [],
   "source": [
    "# Load final clade tip frequencies.\n",
    "X_mutations = pd.read_csv(\n",
    "    \"../results/builds/h3n2/20_viruses_per_month/sample_0/2000-10-01--2015-10-01/mutation_frequencies_by_tip.tsv\",\n",
    "    sep=\"\\t\",\n",
    "    parse_dates=[\"timepoint\"]\n",
    ")"
   ]
  },
  {
   "cell_type": "code",
   "execution_count": 204,
   "metadata": {},
   "outputs": [],
   "source": [
    "X_mutations = X_mutations[X_mutations[\"timepoint\"] <= last_timepoint]"
   ]
  },
  {
   "cell_type": "code",
   "execution_count": 259,
   "metadata": {},
   "outputs": [
    {
     "data": {
      "text/plain": [
       "(486305, 6)"
      ]
     },
     "execution_count": 259,
     "metadata": {},
     "output_type": "execute_result"
    }
   ],
   "source": [
    "X_mutations.shape"
   ]
  },
  {
   "cell_type": "code",
   "execution_count": 205,
   "metadata": {},
   "outputs": [
    {
     "data": {
      "text/html": [
       "<div>\n",
       "<style scoped>\n",
       "    .dataframe tbody tr th:only-of-type {\n",
       "        vertical-align: middle;\n",
       "    }\n",
       "\n",
       "    .dataframe tbody tr th {\n",
       "        vertical-align: top;\n",
       "    }\n",
       "\n",
       "    .dataframe thead th {\n",
       "        text-align: right;\n",
       "    }\n",
       "</style>\n",
       "<table border=\"1\" class=\"dataframe\">\n",
       "  <thead>\n",
       "    <tr style=\"text-align: right;\">\n",
       "      <th></th>\n",
       "      <th>residue</th>\n",
       "      <th>site</th>\n",
       "      <th>strain</th>\n",
       "      <th>mutation</th>\n",
       "      <th>timepoint</th>\n",
       "      <th>frequency</th>\n",
       "    </tr>\n",
       "  </thead>\n",
       "  <tbody>\n",
       "    <tr>\n",
       "      <th>0</th>\n",
       "      <td>P</td>\n",
       "      <td>HA1:103</td>\n",
       "      <td>A/HongKong/HKU2/2004</td>\n",
       "      <td>HA1:103P</td>\n",
       "      <td>2004-10-01</td>\n",
       "      <td>0.001207</td>\n",
       "    </tr>\n",
       "    <tr>\n",
       "      <th>1</th>\n",
       "      <td>Y</td>\n",
       "      <td>HA1:105</td>\n",
       "      <td>A/HongKong/HKU2/2004</td>\n",
       "      <td>HA1:105Y</td>\n",
       "      <td>2004-10-01</td>\n",
       "      <td>0.001207</td>\n",
       "    </tr>\n",
       "    <tr>\n",
       "      <th>2</th>\n",
       "      <td>N</td>\n",
       "      <td>HA1:121</td>\n",
       "      <td>A/HongKong/HKU2/2004</td>\n",
       "      <td>HA1:121N</td>\n",
       "      <td>2004-10-01</td>\n",
       "      <td>0.001207</td>\n",
       "    </tr>\n",
       "    <tr>\n",
       "      <th>3</th>\n",
       "      <td>S</td>\n",
       "      <td>HA1:124</td>\n",
       "      <td>A/HongKong/HKU2/2004</td>\n",
       "      <td>HA1:124S</td>\n",
       "      <td>2004-10-01</td>\n",
       "      <td>0.001207</td>\n",
       "    </tr>\n",
       "    <tr>\n",
       "      <th>4</th>\n",
       "      <td>D</td>\n",
       "      <td>HA1:126</td>\n",
       "      <td>A/HongKong/HKU2/2004</td>\n",
       "      <td>HA1:126D</td>\n",
       "      <td>2004-10-01</td>\n",
       "      <td>0.001207</td>\n",
       "    </tr>\n",
       "  </tbody>\n",
       "</table>\n",
       "</div>"
      ],
      "text/plain": [
       "  residue     site                strain  mutation  timepoint  frequency\n",
       "0       P  HA1:103  A/HongKong/HKU2/2004  HA1:103P 2004-10-01   0.001207\n",
       "1       Y  HA1:105  A/HongKong/HKU2/2004  HA1:105Y 2004-10-01   0.001207\n",
       "2       N  HA1:121  A/HongKong/HKU2/2004  HA1:121N 2004-10-01   0.001207\n",
       "3       S  HA1:124  A/HongKong/HKU2/2004  HA1:124S 2004-10-01   0.001207\n",
       "4       D  HA1:126  A/HongKong/HKU2/2004  HA1:126D 2004-10-01   0.001207"
      ]
     },
     "execution_count": 205,
     "metadata": {},
     "output_type": "execute_result"
    }
   ],
   "source": [
    "X_mutations.head()"
   ]
  },
  {
   "cell_type": "code",
   "execution_count": 248,
   "metadata": {},
   "outputs": [],
   "source": [
    "max_frequency_by_timepoint_and_site = X_mutations.groupby([\"timepoint\", \"site\", \"residue\", \"mutation\"])[\"frequency\"].sum().reset_index().groupby(\n",
    "    [\"timepoint\", \"site\"]\n",
    ").max().reset_index()"
   ]
  },
  {
   "cell_type": "code",
   "execution_count": 253,
   "metadata": {},
   "outputs": [
    {
     "data": {
      "text/plain": [
       "(2098, 5)"
      ]
     },
     "execution_count": 253,
     "metadata": {},
     "output_type": "execute_result"
    }
   ],
   "source": [
    "max_frequency_by_timepoint_and_site.shape"
   ]
  },
  {
   "cell_type": "code",
   "execution_count": 256,
   "metadata": {},
   "outputs": [],
   "source": [
    "sites_to_keep = max_frequency_by_timepoint_and_site.loc[max_frequency_by_timepoint_and_site[\"frequency\"] < 0.90, [\"timepoint\", \"site\"]].drop_duplicates()"
   ]
  },
  {
   "cell_type": "code",
   "execution_count": 261,
   "metadata": {},
   "outputs": [],
   "source": [
    "X_mutations_filtered = X_mutations.merge(sites_to_keep)"
   ]
  },
  {
   "cell_type": "code",
   "execution_count": 262,
   "metadata": {},
   "outputs": [
    {
     "data": {
      "text/plain": [
       "(31679, 6)"
      ]
     },
     "execution_count": 262,
     "metadata": {},
     "output_type": "execute_result"
    }
   ],
   "source": [
    "X_mutations_filtered.shape"
   ]
  },
  {
   "cell_type": "code",
   "execution_count": 206,
   "metadata": {},
   "outputs": [],
   "source": [
    "y = X_mutations.copy()"
   ]
  },
  {
   "cell_type": "code",
   "execution_count": 207,
   "metadata": {},
   "outputs": [],
   "source": [
    "y[\"final_timepoint\"] = y[\"timepoint\"]"
   ]
  },
  {
   "cell_type": "code",
   "execution_count": 208,
   "metadata": {},
   "outputs": [],
   "source": [
    "y[\"timepoint\"] = y[\"final_timepoint\"] - pd.DateOffset(months=12)"
   ]
  },
  {
   "cell_type": "code",
   "execution_count": 209,
   "metadata": {},
   "outputs": [
    {
     "data": {
      "text/html": [
       "<div>\n",
       "<style scoped>\n",
       "    .dataframe tbody tr th:only-of-type {\n",
       "        vertical-align: middle;\n",
       "    }\n",
       "\n",
       "    .dataframe tbody tr th {\n",
       "        vertical-align: top;\n",
       "    }\n",
       "\n",
       "    .dataframe thead th {\n",
       "        text-align: right;\n",
       "    }\n",
       "</style>\n",
       "<table border=\"1\" class=\"dataframe\">\n",
       "  <thead>\n",
       "    <tr style=\"text-align: right;\">\n",
       "      <th></th>\n",
       "      <th>residue</th>\n",
       "      <th>site</th>\n",
       "      <th>strain</th>\n",
       "      <th>mutation</th>\n",
       "      <th>timepoint</th>\n",
       "      <th>frequency</th>\n",
       "      <th>final_timepoint</th>\n",
       "    </tr>\n",
       "  </thead>\n",
       "  <tbody>\n",
       "    <tr>\n",
       "      <th>0</th>\n",
       "      <td>P</td>\n",
       "      <td>HA1:103</td>\n",
       "      <td>A/HongKong/HKU2/2004</td>\n",
       "      <td>HA1:103P</td>\n",
       "      <td>2003-10-01</td>\n",
       "      <td>0.001207</td>\n",
       "      <td>2004-10-01</td>\n",
       "    </tr>\n",
       "    <tr>\n",
       "      <th>1</th>\n",
       "      <td>Y</td>\n",
       "      <td>HA1:105</td>\n",
       "      <td>A/HongKong/HKU2/2004</td>\n",
       "      <td>HA1:105Y</td>\n",
       "      <td>2003-10-01</td>\n",
       "      <td>0.001207</td>\n",
       "      <td>2004-10-01</td>\n",
       "    </tr>\n",
       "    <tr>\n",
       "      <th>2</th>\n",
       "      <td>N</td>\n",
       "      <td>HA1:121</td>\n",
       "      <td>A/HongKong/HKU2/2004</td>\n",
       "      <td>HA1:121N</td>\n",
       "      <td>2003-10-01</td>\n",
       "      <td>0.001207</td>\n",
       "      <td>2004-10-01</td>\n",
       "    </tr>\n",
       "    <tr>\n",
       "      <th>3</th>\n",
       "      <td>S</td>\n",
       "      <td>HA1:124</td>\n",
       "      <td>A/HongKong/HKU2/2004</td>\n",
       "      <td>HA1:124S</td>\n",
       "      <td>2003-10-01</td>\n",
       "      <td>0.001207</td>\n",
       "      <td>2004-10-01</td>\n",
       "    </tr>\n",
       "    <tr>\n",
       "      <th>4</th>\n",
       "      <td>D</td>\n",
       "      <td>HA1:126</td>\n",
       "      <td>A/HongKong/HKU2/2004</td>\n",
       "      <td>HA1:126D</td>\n",
       "      <td>2003-10-01</td>\n",
       "      <td>0.001207</td>\n",
       "      <td>2004-10-01</td>\n",
       "    </tr>\n",
       "  </tbody>\n",
       "</table>\n",
       "</div>"
      ],
      "text/plain": [
       "  residue     site                strain  mutation  timepoint  frequency  \\\n",
       "0       P  HA1:103  A/HongKong/HKU2/2004  HA1:103P 2003-10-01   0.001207   \n",
       "1       Y  HA1:105  A/HongKong/HKU2/2004  HA1:105Y 2003-10-01   0.001207   \n",
       "2       N  HA1:121  A/HongKong/HKU2/2004  HA1:121N 2003-10-01   0.001207   \n",
       "3       S  HA1:124  A/HongKong/HKU2/2004  HA1:124S 2003-10-01   0.001207   \n",
       "4       D  HA1:126  A/HongKong/HKU2/2004  HA1:126D 2003-10-01   0.001207   \n",
       "\n",
       "  final_timepoint  \n",
       "0      2004-10-01  \n",
       "1      2004-10-01  \n",
       "2      2004-10-01  \n",
       "3      2004-10-01  \n",
       "4      2004-10-01  "
      ]
     },
     "execution_count": 209,
     "metadata": {},
     "output_type": "execute_result"
    }
   ],
   "source": [
    "y.head()"
   ]
  },
  {
   "cell_type": "code",
   "execution_count": 210,
   "metadata": {},
   "outputs": [],
   "source": [
    "y = y.groupby([\n",
    "    \"timepoint\",\n",
    "    \"mutation\"\n",
    "])[\"frequency\"].sum().reset_index()\n",
    "\n",
    "y = y[y[\"timepoint\"] <= last_timepoint]"
   ]
  },
  {
   "cell_type": "code",
   "execution_count": 211,
   "metadata": {},
   "outputs": [
    {
     "data": {
      "text/html": [
       "<div>\n",
       "<style scoped>\n",
       "    .dataframe tbody tr th:only-of-type {\n",
       "        vertical-align: middle;\n",
       "    }\n",
       "\n",
       "    .dataframe tbody tr th {\n",
       "        vertical-align: top;\n",
       "    }\n",
       "\n",
       "    .dataframe thead th {\n",
       "        text-align: right;\n",
       "    }\n",
       "</style>\n",
       "<table border=\"1\" class=\"dataframe\">\n",
       "  <thead>\n",
       "    <tr style=\"text-align: right;\">\n",
       "      <th></th>\n",
       "      <th>timepoint</th>\n",
       "      <th>mutation</th>\n",
       "      <th>frequency</th>\n",
       "    </tr>\n",
       "  </thead>\n",
       "  <tbody>\n",
       "    <tr>\n",
       "      <th>0</th>\n",
       "      <td>2003-10-01</td>\n",
       "      <td>HA1:103P</td>\n",
       "      <td>0.980490</td>\n",
       "    </tr>\n",
       "    <tr>\n",
       "      <th>1</th>\n",
       "      <td>2003-10-01</td>\n",
       "      <td>HA1:103Q</td>\n",
       "      <td>0.019513</td>\n",
       "    </tr>\n",
       "    <tr>\n",
       "      <th>2</th>\n",
       "      <td>2003-10-01</td>\n",
       "      <td>HA1:105H</td>\n",
       "      <td>0.014087</td>\n",
       "    </tr>\n",
       "    <tr>\n",
       "      <th>3</th>\n",
       "      <td>2003-10-01</td>\n",
       "      <td>HA1:105Y</td>\n",
       "      <td>0.985916</td>\n",
       "    </tr>\n",
       "    <tr>\n",
       "      <th>4</th>\n",
       "      <td>2003-10-01</td>\n",
       "      <td>HA1:121N</td>\n",
       "      <td>0.979939</td>\n",
       "    </tr>\n",
       "    <tr>\n",
       "      <th>5</th>\n",
       "      <td>2003-10-01</td>\n",
       "      <td>HA1:121S</td>\n",
       "      <td>0.020064</td>\n",
       "    </tr>\n",
       "    <tr>\n",
       "      <th>6</th>\n",
       "      <td>2003-10-01</td>\n",
       "      <td>HA1:124N</td>\n",
       "      <td>0.020989</td>\n",
       "    </tr>\n",
       "    <tr>\n",
       "      <th>7</th>\n",
       "      <td>2003-10-01</td>\n",
       "      <td>HA1:124S</td>\n",
       "      <td>0.979014</td>\n",
       "    </tr>\n",
       "    <tr>\n",
       "      <th>8</th>\n",
       "      <td>2003-10-01</td>\n",
       "      <td>HA1:126D</td>\n",
       "      <td>0.075270</td>\n",
       "    </tr>\n",
       "    <tr>\n",
       "      <th>9</th>\n",
       "      <td>2003-10-01</td>\n",
       "      <td>HA1:126N</td>\n",
       "      <td>0.924733</td>\n",
       "    </tr>\n",
       "  </tbody>\n",
       "</table>\n",
       "</div>"
      ],
      "text/plain": [
       "   timepoint  mutation  frequency\n",
       "0 2003-10-01  HA1:103P   0.980490\n",
       "1 2003-10-01  HA1:103Q   0.019513\n",
       "2 2003-10-01  HA1:105H   0.014087\n",
       "3 2003-10-01  HA1:105Y   0.985916\n",
       "4 2003-10-01  HA1:121N   0.979939\n",
       "5 2003-10-01  HA1:121S   0.020064\n",
       "6 2003-10-01  HA1:124N   0.020989\n",
       "7 2003-10-01  HA1:124S   0.979014\n",
       "8 2003-10-01  HA1:126D   0.075270\n",
       "9 2003-10-01  HA1:126N   0.924733"
      ]
     },
     "execution_count": 211,
     "metadata": {},
     "output_type": "execute_result"
    }
   ],
   "source": [
    "y.head(10)"
   ]
  },
  {
   "cell_type": "code",
   "execution_count": 212,
   "metadata": {},
   "outputs": [
    {
     "data": {
      "text/plain": [
       "timepoint\n",
       "2003-10-01     75.000225\n",
       "2004-04-01     78.999842\n",
       "2004-10-01     59.999820\n",
       "2005-04-01     76.999538\n",
       "2005-10-01     58.999823\n",
       "2006-04-01     93.000279\n",
       "2006-10-01    132.999468\n",
       "2007-04-01    117.000234\n",
       "2007-10-01    104.000000\n",
       "2008-04-01    120.000120\n",
       "2008-10-01    140.001120\n",
       "2009-04-01    133.999330\n",
       "2009-10-01    173.000346\n",
       "2010-04-01    197.997624\n",
       "2010-10-01    141.998296\n",
       "2011-04-01    202.003434\n",
       "2011-10-01    191.999040\n",
       "Name: frequency, dtype: float64"
      ]
     },
     "execution_count": 212,
     "metadata": {},
     "output_type": "execute_result"
    }
   ],
   "source": [
    "y.groupby(\"timepoint\")[\"frequency\"].sum()"
   ]
  },
  {
   "cell_type": "code",
   "execution_count": 213,
   "metadata": {},
   "outputs": [
    {
     "data": {
      "text/plain": [
       "(3361, 10)"
      ]
     },
     "execution_count": 213,
     "metadata": {},
     "output_type": "execute_result"
    }
   ],
   "source": [
    "X.shape"
   ]
  },
  {
   "cell_type": "code",
   "execution_count": 214,
   "metadata": {},
   "outputs": [
    {
     "data": {
      "text/plain": [
       "(486305, 6)"
      ]
     },
     "execution_count": 214,
     "metadata": {},
     "output_type": "execute_result"
    }
   ],
   "source": [
    "X_mutations.shape"
   ]
  },
  {
   "cell_type": "code",
   "execution_count": 215,
   "metadata": {},
   "outputs": [
    {
     "data": {
      "text/plain": [
       "(4763, 3)"
      ]
     },
     "execution_count": 215,
     "metadata": {},
     "output_type": "execute_result"
    }
   ],
   "source": [
    "y.shape"
   ]
  },
  {
   "cell_type": "code",
   "execution_count": 216,
   "metadata": {},
   "outputs": [
    {
     "data": {
      "text/plain": [
       "(17,)"
      ]
     },
     "execution_count": 216,
     "metadata": {},
     "output_type": "execute_result"
    }
   ],
   "source": [
    "X[\"timepoint\"].unique().shape"
   ]
  },
  {
   "cell_type": "code",
   "execution_count": 217,
   "metadata": {},
   "outputs": [
    {
     "data": {
      "text/plain": [
       "(17,)"
      ]
     },
     "execution_count": 217,
     "metadata": {},
     "output_type": "execute_result"
    }
   ],
   "source": [
    "X_mutations[\"timepoint\"].unique().shape"
   ]
  },
  {
   "cell_type": "code",
   "execution_count": 218,
   "metadata": {},
   "outputs": [
    {
     "data": {
      "text/plain": [
       "(17,)"
      ]
     },
     "execution_count": 218,
     "metadata": {},
     "output_type": "execute_result"
    }
   ],
   "source": [
    "y[\"timepoint\"].unique().shape"
   ]
  },
  {
   "cell_type": "markdown",
   "metadata": {},
   "source": [
    "## Inspect LBI model"
   ]
  },
  {
   "cell_type": "code",
   "execution_count": 263,
   "metadata": {},
   "outputs": [],
   "source": [
    "predictors = [\"lbi\"]\n",
    "model = MutationExponentialGrowthModel(\n",
    "    predictors=predictors,\n",
    "    delta_time=delta_time,\n",
    "    l1_lambda=l1_lambda,\n",
    "    cost_function=sum_of_squared_errors\n",
    ")"
   ]
  },
  {
   "cell_type": "markdown",
   "metadata": {},
   "source": [
    "Calculate error for an LBI model across all coefficients."
   ]
  },
  {
   "cell_type": "code",
   "execution_count": 264,
   "metadata": {},
   "outputs": [],
   "source": [
    "errors = []\n",
    "for coefficient in coefficients:\n",
    "    error = model._fit([coefficient], X, y, X_mutations_filtered)\n",
    "    errors.append(error)"
   ]
  },
  {
   "cell_type": "code",
   "execution_count": 265,
   "metadata": {},
   "outputs": [
    {
     "data": {
      "text/plain": [
       "0.0"
      ]
     },
     "execution_count": 265,
     "metadata": {},
     "output_type": "execute_result"
    }
   ],
   "source": [
    "coefficients[np.argmin(errors)]"
   ]
  },
  {
   "cell_type": "code",
   "execution_count": 266,
   "metadata": {},
   "outputs": [
    {
     "data": {
      "text/plain": [
       "Text(0,0.5,'SSE')"
      ]
     },
     "execution_count": 266,
     "metadata": {},
     "output_type": "execute_result"
    },
    {
     "data": {
      "image/png": "[encoded data removed]",
      "text/plain": [
       "<Figure size 600x400 with 1 Axes>"
      ]
     },
     "metadata": {
      "needs_background": "light"
     },
     "output_type": "display_data"
    }
   ],
   "source": [
    "plt.plot(coefficients, errors, \"o\")\n",
    "plt.xlabel(\"LBI coefficient\")\n",
    "plt.ylabel(\"SSE\")"
   ]
  },
  {
   "cell_type": "code",
   "execution_count": 267,
   "metadata": {},
   "outputs": [
    {
     "data": {
      "text/plain": [
       "Text(0,0.5,'MAE')"
      ]
     },
     "execution_count": 267,
     "metadata": {},
     "output_type": "execute_result"
    },
    {
     "data": {
      "image/png": "[encoded data removed]",
      "text/plain": [
       "<Figure size 600x400 with 1 Axes>"
      ]
     },
     "metadata": {
      "needs_background": "light"
     },
     "output_type": "display_data"
    }
   ],
   "source": [
    "predictors = [\"lbi\"]\n",
    "model = MutationExponentialGrowthModel(\n",
    "    predictors=predictors,\n",
    "    delta_time=delta_time,\n",
    "    l1_lambda=l1_lambda,\n",
    "    cost_function=mean_absolute_error\n",
    ")\n",
    "\n",
    "errors = []\n",
    "for coefficient in coefficients:\n",
    "    error = model._fit([coefficient], X, y, X_mutations_filtered)\n",
    "    errors.append(error)\n",
    "    \n",
    "plt.plot(coefficients, errors, \"o\")\n",
    "plt.xlabel(\"LBI coefficient\")\n",
    "plt.ylabel(\"MAE\")"
   ]
  },
  {
   "cell_type": "code",
   "execution_count": 268,
   "metadata": {},
   "outputs": [
    {
     "data": {
      "text/plain": [
       "Text(0,0.5,'Negative information gain')"
      ]
     },
     "execution_count": 268,
     "metadata": {},
     "output_type": "execute_result"
    },
    {
     "data": {
      "image/png": "[encoded data removed]",
      "text/plain": [
       "<Figure size 600x400 with 1 Axes>"
      ]
     },
     "metadata": {
      "needs_background": "light"
     },
     "output_type": "display_data"
    }
   ],
   "source": [
    "predictors = [\"lbi\"]\n",
    "model = MutationExponentialGrowthModel(\n",
    "    predictors=predictors,\n",
    "    delta_time=delta_time,\n",
    "    l1_lambda=l1_lambda,\n",
    "    cost_function=negative_information_gain\n",
    ")\n",
    "\n",
    "errors = []\n",
    "for coefficient in coefficients:\n",
    "    error = model._fit([coefficient], X, y, X_mutations_filtered)\n",
    "    errors.append(error)\n",
    "    \n",
    "plt.plot(coefficients, errors, \"o\")\n",
    "plt.xlabel(\"LBI coefficient\")\n",
    "plt.ylabel(\"Negative information gain\")"
   ]
  },
  {
   "cell_type": "code",
   "execution_count": 269,
   "metadata": {},
   "outputs": [
    {
     "data": {
      "text/plain": [
       "-1.4026859723872258"
      ]
     },
     "execution_count": 269,
     "metadata": {},
     "output_type": "execute_result"
    }
   ],
   "source": [
    "np.min(errors)"
   ]
  },
  {
   "cell_type": "code",
   "execution_count": 270,
   "metadata": {},
   "outputs": [
    {
     "data": {
      "text/plain": [
       "0.2999999999999998"
      ]
     },
     "execution_count": 270,
     "metadata": {},
     "output_type": "execute_result"
    }
   ],
   "source": [
    "coefficients[np.argmin(errors)]"
   ]
  },
  {
   "cell_type": "code",
   "execution_count": 159,
   "metadata": {},
   "outputs": [
    {
     "data": {
      "text/html": [
       "<div>\n",
       "<style scoped>\n",
       "    .dataframe tbody tr th:only-of-type {\n",
       "        vertical-align: middle;\n",
       "    }\n",
       "\n",
       "    .dataframe tbody tr th {\n",
       "        vertical-align: top;\n",
       "    }\n",
       "\n",
       "    .dataframe thead th {\n",
       "        text-align: right;\n",
       "    }\n",
       "</style>\n",
       "<table border=\"1\" class=\"dataframe\">\n",
       "  <thead>\n",
       "    <tr style=\"text-align: right;\">\n",
       "      <th></th>\n",
       "      <th>residue</th>\n",
       "      <th>site</th>\n",
       "      <th>strain</th>\n",
       "      <th>mutation</th>\n",
       "      <th>timepoint</th>\n",
       "      <th>frequency</th>\n",
       "    </tr>\n",
       "  </thead>\n",
       "  <tbody>\n",
       "    <tr>\n",
       "      <th>0</th>\n",
       "      <td>P</td>\n",
       "      <td>HA1:103</td>\n",
       "      <td>A/HongKong/HKU2/2004</td>\n",
       "      <td>HA1:103P</td>\n",
       "      <td>2004-10-01</td>\n",
       "      <td>0.001207</td>\n",
       "    </tr>\n",
       "    <tr>\n",
       "      <th>1</th>\n",
       "      <td>Y</td>\n",
       "      <td>HA1:105</td>\n",
       "      <td>A/HongKong/HKU2/2004</td>\n",
       "      <td>HA1:105Y</td>\n",
       "      <td>2004-10-01</td>\n",
       "      <td>0.001207</td>\n",
       "    </tr>\n",
       "    <tr>\n",
       "      <th>2</th>\n",
       "      <td>N</td>\n",
       "      <td>HA1:121</td>\n",
       "      <td>A/HongKong/HKU2/2004</td>\n",
       "      <td>HA1:121N</td>\n",
       "      <td>2004-10-01</td>\n",
       "      <td>0.001207</td>\n",
       "    </tr>\n",
       "    <tr>\n",
       "      <th>3</th>\n",
       "      <td>S</td>\n",
       "      <td>HA1:124</td>\n",
       "      <td>A/HongKong/HKU2/2004</td>\n",
       "      <td>HA1:124S</td>\n",
       "      <td>2004-10-01</td>\n",
       "      <td>0.001207</td>\n",
       "    </tr>\n",
       "    <tr>\n",
       "      <th>4</th>\n",
       "      <td>D</td>\n",
       "      <td>HA1:126</td>\n",
       "      <td>A/HongKong/HKU2/2004</td>\n",
       "      <td>HA1:126D</td>\n",
       "      <td>2004-10-01</td>\n",
       "      <td>0.001207</td>\n",
       "    </tr>\n",
       "  </tbody>\n",
       "</table>\n",
       "</div>"
      ],
      "text/plain": [
       "  residue     site                strain  mutation  timepoint  frequency\n",
       "0       P  HA1:103  A/HongKong/HKU2/2004  HA1:103P 2004-10-01   0.001207\n",
       "1       Y  HA1:105  A/HongKong/HKU2/2004  HA1:105Y 2004-10-01   0.001207\n",
       "2       N  HA1:121  A/HongKong/HKU2/2004  HA1:121N 2004-10-01   0.001207\n",
       "3       S  HA1:124  A/HongKong/HKU2/2004  HA1:124S 2004-10-01   0.001207\n",
       "4       D  HA1:126  A/HongKong/HKU2/2004  HA1:126D 2004-10-01   0.001207"
      ]
     },
     "execution_count": 159,
     "metadata": {},
     "output_type": "execute_result"
    }
   ],
   "source": [
    "X_mutations.head()"
   ]
  },
  {
   "cell_type": "code",
   "execution_count": 160,
   "metadata": {},
   "outputs": [],
   "source": [
    "observed_mutations = X_mutations.groupby([\"timepoint\", \"site\", \"residue\", \"mutation\"])[\"frequency\"].sum().reset_index()"
   ]
  },
  {
   "cell_type": "code",
   "execution_count": 161,
   "metadata": {},
   "outputs": [
    {
     "data": {
      "text/html": [
       "<div>\n",
       "<style scoped>\n",
       "    .dataframe tbody tr th:only-of-type {\n",
       "        vertical-align: middle;\n",
       "    }\n",
       "\n",
       "    .dataframe tbody tr th {\n",
       "        vertical-align: top;\n",
       "    }\n",
       "\n",
       "    .dataframe thead th {\n",
       "        text-align: right;\n",
       "    }\n",
       "</style>\n",
       "<table border=\"1\" class=\"dataframe\">\n",
       "  <thead>\n",
       "    <tr style=\"text-align: right;\">\n",
       "      <th></th>\n",
       "      <th>timepoint</th>\n",
       "      <th>site</th>\n",
       "      <th>residue</th>\n",
       "      <th>mutation</th>\n",
       "      <th>frequency</th>\n",
       "    </tr>\n",
       "  </thead>\n",
       "  <tbody>\n",
       "    <tr>\n",
       "      <th>0</th>\n",
       "      <td>2004-10-01</td>\n",
       "      <td>HA1:103</td>\n",
       "      <td>P</td>\n",
       "      <td>HA1:103P</td>\n",
       "      <td>0.980490</td>\n",
       "    </tr>\n",
       "    <tr>\n",
       "      <th>1</th>\n",
       "      <td>2004-10-01</td>\n",
       "      <td>HA1:103</td>\n",
       "      <td>Q</td>\n",
       "      <td>HA1:103Q</td>\n",
       "      <td>0.019513</td>\n",
       "    </tr>\n",
       "    <tr>\n",
       "      <th>2</th>\n",
       "      <td>2004-10-01</td>\n",
       "      <td>HA1:105</td>\n",
       "      <td>H</td>\n",
       "      <td>HA1:105H</td>\n",
       "      <td>0.014087</td>\n",
       "    </tr>\n",
       "    <tr>\n",
       "      <th>3</th>\n",
       "      <td>2004-10-01</td>\n",
       "      <td>HA1:105</td>\n",
       "      <td>Y</td>\n",
       "      <td>HA1:105Y</td>\n",
       "      <td>0.985916</td>\n",
       "    </tr>\n",
       "    <tr>\n",
       "      <th>4</th>\n",
       "      <td>2004-10-01</td>\n",
       "      <td>HA1:121</td>\n",
       "      <td>N</td>\n",
       "      <td>HA1:121N</td>\n",
       "      <td>0.979939</td>\n",
       "    </tr>\n",
       "  </tbody>\n",
       "</table>\n",
       "</div>"
      ],
      "text/plain": [
       "   timepoint     site residue  mutation  frequency\n",
       "0 2004-10-01  HA1:103       P  HA1:103P   0.980490\n",
       "1 2004-10-01  HA1:103       Q  HA1:103Q   0.019513\n",
       "2 2004-10-01  HA1:105       H  HA1:105H   0.014087\n",
       "3 2004-10-01  HA1:105       Y  HA1:105Y   0.985916\n",
       "4 2004-10-01  HA1:121       N  HA1:121N   0.979939"
      ]
     },
     "execution_count": 161,
     "metadata": {},
     "output_type": "execute_result"
    }
   ],
   "source": [
    "observed_mutations.head()"
   ]
  },
  {
   "cell_type": "code",
   "execution_count": 231,
   "metadata": {},
   "outputs": [],
   "source": [
    "predicted_mutations = model.predict(X, X_mutations, np.array([-0.6]))"
   ]
  },
  {
   "cell_type": "code",
   "execution_count": 232,
   "metadata": {},
   "outputs": [
    {
     "data": {
      "text/html": [
       "<div>\n",
       "<style scoped>\n",
       "    .dataframe tbody tr th:only-of-type {\n",
       "        vertical-align: middle;\n",
       "    }\n",
       "\n",
       "    .dataframe tbody tr th {\n",
       "        vertical-align: top;\n",
       "    }\n",
       "\n",
       "    .dataframe thead th {\n",
       "        text-align: right;\n",
       "    }\n",
       "</style>\n",
       "<table border=\"1\" class=\"dataframe\">\n",
       "  <thead>\n",
       "    <tr style=\"text-align: right;\">\n",
       "      <th></th>\n",
       "      <th>timepoint</th>\n",
       "      <th>mutation</th>\n",
       "      <th>frequency</th>\n",
       "    </tr>\n",
       "  </thead>\n",
       "  <tbody>\n",
       "    <tr>\n",
       "      <th>0</th>\n",
       "      <td>2004-10-01</td>\n",
       "      <td>HA1:103P</td>\n",
       "      <td>0.986812</td>\n",
       "    </tr>\n",
       "    <tr>\n",
       "      <th>1</th>\n",
       "      <td>2004-10-01</td>\n",
       "      <td>HA1:103Q</td>\n",
       "      <td>0.013188</td>\n",
       "    </tr>\n",
       "    <tr>\n",
       "      <th>2</th>\n",
       "      <td>2004-10-01</td>\n",
       "      <td>HA1:105H</td>\n",
       "      <td>0.009310</td>\n",
       "    </tr>\n",
       "    <tr>\n",
       "      <th>3</th>\n",
       "      <td>2004-10-01</td>\n",
       "      <td>HA1:105Y</td>\n",
       "      <td>0.990690</td>\n",
       "    </tr>\n",
       "    <tr>\n",
       "      <th>4</th>\n",
       "      <td>2004-10-01</td>\n",
       "      <td>HA1:121N</td>\n",
       "      <td>0.986089</td>\n",
       "    </tr>\n",
       "  </tbody>\n",
       "</table>\n",
       "</div>"
      ],
      "text/plain": [
       "   timepoint  mutation  frequency\n",
       "0 2004-10-01  HA1:103P   0.986812\n",
       "1 2004-10-01  HA1:103Q   0.013188\n",
       "2 2004-10-01  HA1:105H   0.009310\n",
       "3 2004-10-01  HA1:105Y   0.990690\n",
       "4 2004-10-01  HA1:121N   0.986089"
      ]
     },
     "execution_count": 232,
     "metadata": {},
     "output_type": "execute_result"
    }
   ],
   "source": [
    "predicted_mutations.head()"
   ]
  },
  {
   "cell_type": "code",
   "execution_count": 233,
   "metadata": {},
   "outputs": [],
   "source": [
    "predicted_mutations[\"final_timepoint\"] = predicted_mutations[\"timepoint\"] + pd.DateOffset(months=12)"
   ]
  },
  {
   "cell_type": "code",
   "execution_count": 234,
   "metadata": {},
   "outputs": [],
   "source": [
    "predicted_mutations = predicted_mutations.drop(columns=[\"timepoint\"])"
   ]
  },
  {
   "cell_type": "code",
   "execution_count": 235,
   "metadata": {},
   "outputs": [],
   "source": [
    "observed_and_predicted_mutations = observed_mutations.merge(\n",
    "    predicted_mutations,\n",
    "    left_on=[\"timepoint\", \"mutation\"],\n",
    "    right_on=[\"final_timepoint\", \"mutation\"],\n",
    "    suffixes=[\"_observed\", \"_estimated\"]\n",
    ")"
   ]
  },
  {
   "cell_type": "code",
   "execution_count": 236,
   "metadata": {},
   "outputs": [],
   "source": [
    "sites_to_plot = [\"HA1:144\", \"HA1:193\"]"
   ]
  },
  {
   "cell_type": "code",
   "execution_count": 237,
   "metadata": {},
   "outputs": [
    {
     "data": {
      "text/plain": [
       "<seaborn.axisgrid.FacetGrid at 0x1a29f32e48>"
      ]
     },
     "execution_count": 237,
     "metadata": {},
     "output_type": "execute_result"
    },
    {
     "data": {
      "image/png": "[encoded data removed]",
      "text/plain": [
       "<Figure size 2400x600 with 2 Axes>"
      ]
     },
     "metadata": {
      "needs_background": "light"
     },
     "output_type": "display_data"
    }
   ],
   "source": [
    "g = sns.FacetGrid(observed_and_predicted_mutations[observed_and_predicted_mutations[\"site\"].isin(sites_to_plot)],\n",
    "                  hue=\"residue\", col=\"site\", col_wrap=4, height=6)\n",
    "g.map(plt.plot, \"timepoint\", \"frequency_observed\", marker=\"o\")\n",
    "g.map(plt.plot, \"final_timepoint\", \"frequency_estimated\", marker=\"+\", linestyle=\"--\")"
   ]
  },
  {
   "cell_type": "code",
   "execution_count": 238,
   "metadata": {},
   "outputs": [
    {
     "data": {
      "text/plain": [
       "<seaborn.axisgrid.FacetGrid at 0x1a208c76a0>"
      ]
     },
     "execution_count": 238,
     "metadata": {},
     "output_type": "execute_result"
    },
    {
     "data": {
      "image/png": "[encoded data removed]",
      "text/plain": [
       "<Figure size 500x500 with 1 Axes>"
      ]
     },
     "metadata": {
      "needs_background": "light"
     },
     "output_type": "display_data"
    }
   ],
   "source": [
    "sns.lmplot(\"frequency_observed\", \"frequency_estimated\", observed_and_predicted_mutations)"
   ]
  },
  {
   "cell_type": "code",
   "execution_count": 177,
   "metadata": {},
   "outputs": [],
   "source": [
    "predicted_mutations = model.predict(X, X_mutations, np.array([0.0]))"
   ]
  },
  {
   "cell_type": "code",
   "execution_count": 178,
   "metadata": {},
   "outputs": [],
   "source": [
    "predicted_mutations[\"final_timepoint\"] = predicted_mutations[\"timepoint\"] + pd.DateOffset(months=12)"
   ]
  },
  {
   "cell_type": "code",
   "execution_count": 179,
   "metadata": {},
   "outputs": [],
   "source": [
    "predicted_mutations = predicted_mutations.drop(columns=[\"timepoint\"])"
   ]
  },
  {
   "cell_type": "code",
   "execution_count": 180,
   "metadata": {},
   "outputs": [
    {
     "data": {
      "text/html": [
       "<div>\n",
       "<style scoped>\n",
       "    .dataframe tbody tr th:only-of-type {\n",
       "        vertical-align: middle;\n",
       "    }\n",
       "\n",
       "    .dataframe tbody tr th {\n",
       "        vertical-align: top;\n",
       "    }\n",
       "\n",
       "    .dataframe thead th {\n",
       "        text-align: right;\n",
       "    }\n",
       "</style>\n",
       "<table border=\"1\" class=\"dataframe\">\n",
       "  <thead>\n",
       "    <tr style=\"text-align: right;\">\n",
       "      <th></th>\n",
       "      <th>mutation</th>\n",
       "      <th>frequency</th>\n",
       "      <th>final_timepoint</th>\n",
       "    </tr>\n",
       "  </thead>\n",
       "  <tbody>\n",
       "    <tr>\n",
       "      <th>0</th>\n",
       "      <td>HA1:103P</td>\n",
       "      <td>0.980487</td>\n",
       "      <td>2005-10-01</td>\n",
       "    </tr>\n",
       "    <tr>\n",
       "      <th>1</th>\n",
       "      <td>HA1:103Q</td>\n",
       "      <td>0.019513</td>\n",
       "      <td>2005-10-01</td>\n",
       "    </tr>\n",
       "    <tr>\n",
       "      <th>2</th>\n",
       "      <td>HA1:105H</td>\n",
       "      <td>0.014087</td>\n",
       "      <td>2005-10-01</td>\n",
       "    </tr>\n",
       "    <tr>\n",
       "      <th>3</th>\n",
       "      <td>HA1:105Y</td>\n",
       "      <td>0.985913</td>\n",
       "      <td>2005-10-01</td>\n",
       "    </tr>\n",
       "    <tr>\n",
       "      <th>4</th>\n",
       "      <td>HA1:121N</td>\n",
       "      <td>0.979936</td>\n",
       "      <td>2005-10-01</td>\n",
       "    </tr>\n",
       "  </tbody>\n",
       "</table>\n",
       "</div>"
      ],
      "text/plain": [
       "   mutation  frequency final_timepoint\n",
       "0  HA1:103P   0.980487      2005-10-01\n",
       "1  HA1:103Q   0.019513      2005-10-01\n",
       "2  HA1:105H   0.014087      2005-10-01\n",
       "3  HA1:105Y   0.985913      2005-10-01\n",
       "4  HA1:121N   0.979936      2005-10-01"
      ]
     },
     "execution_count": 180,
     "metadata": {},
     "output_type": "execute_result"
    }
   ],
   "source": [
    "predicted_mutations.head()"
   ]
  },
  {
   "cell_type": "code",
   "execution_count": 181,
   "metadata": {},
   "outputs": [],
   "source": [
    "observed_and_predicted_mutations = observed_mutations.merge(\n",
    "    predicted_mutations,\n",
    "    left_on=[\"timepoint\", \"mutation\"],\n",
    "    right_on=[\"final_timepoint\", \"mutation\"],\n",
    "    suffixes=[\"_observed\", \"_estimated\"]\n",
    ")"
   ]
  },
  {
   "cell_type": "code",
   "execution_count": 182,
   "metadata": {},
   "outputs": [
    {
     "data": {
      "text/html": [
       "<div>\n",
       "<style scoped>\n",
       "    .dataframe tbody tr th:only-of-type {\n",
       "        vertical-align: middle;\n",
       "    }\n",
       "\n",
       "    .dataframe tbody tr th {\n",
       "        vertical-align: top;\n",
       "    }\n",
       "\n",
       "    .dataframe thead th {\n",
       "        text-align: right;\n",
       "    }\n",
       "</style>\n",
       "<table border=\"1\" class=\"dataframe\">\n",
       "  <thead>\n",
       "    <tr style=\"text-align: right;\">\n",
       "      <th></th>\n",
       "      <th>timepoint</th>\n",
       "      <th>site</th>\n",
       "      <th>residue</th>\n",
       "      <th>mutation</th>\n",
       "      <th>frequency_observed</th>\n",
       "      <th>frequency_estimated</th>\n",
       "      <th>final_timepoint</th>\n",
       "    </tr>\n",
       "  </thead>\n",
       "  <tbody>\n",
       "    <tr>\n",
       "      <th>0</th>\n",
       "      <td>2005-10-01</td>\n",
       "      <td>HA1:124</td>\n",
       "      <td>N</td>\n",
       "      <td>HA1:124N</td>\n",
       "      <td>0.025933</td>\n",
       "      <td>0.020989</td>\n",
       "      <td>2005-10-01</td>\n",
       "    </tr>\n",
       "    <tr>\n",
       "      <th>1</th>\n",
       "      <td>2005-10-01</td>\n",
       "      <td>HA1:124</td>\n",
       "      <td>S</td>\n",
       "      <td>HA1:124S</td>\n",
       "      <td>0.974030</td>\n",
       "      <td>0.979011</td>\n",
       "      <td>2005-10-01</td>\n",
       "    </tr>\n",
       "    <tr>\n",
       "      <th>2</th>\n",
       "      <td>2005-10-01</td>\n",
       "      <td>HA1:138</td>\n",
       "      <td>A</td>\n",
       "      <td>HA1:138A</td>\n",
       "      <td>0.970997</td>\n",
       "      <td>0.912624</td>\n",
       "      <td>2005-10-01</td>\n",
       "    </tr>\n",
       "    <tr>\n",
       "      <th>3</th>\n",
       "      <td>2005-10-01</td>\n",
       "      <td>HA1:138</td>\n",
       "      <td>S</td>\n",
       "      <td>HA1:138S</td>\n",
       "      <td>0.029000</td>\n",
       "      <td>0.087376</td>\n",
       "      <td>2005-10-01</td>\n",
       "    </tr>\n",
       "    <tr>\n",
       "      <th>4</th>\n",
       "      <td>2005-10-01</td>\n",
       "      <td>HA1:145</td>\n",
       "      <td>K</td>\n",
       "      <td>HA1:145K</td>\n",
       "      <td>0.006537</td>\n",
       "      <td>0.250963</td>\n",
       "      <td>2005-10-01</td>\n",
       "    </tr>\n",
       "  </tbody>\n",
       "</table>\n",
       "</div>"
      ],
      "text/plain": [
       "   timepoint     site residue  mutation  frequency_observed  \\\n",
       "0 2005-10-01  HA1:124       N  HA1:124N            0.025933   \n",
       "1 2005-10-01  HA1:124       S  HA1:124S            0.974030   \n",
       "2 2005-10-01  HA1:138       A  HA1:138A            0.970997   \n",
       "3 2005-10-01  HA1:138       S  HA1:138S            0.029000   \n",
       "4 2005-10-01  HA1:145       K  HA1:145K            0.006537   \n",
       "\n",
       "   frequency_estimated final_timepoint  \n",
       "0             0.020989      2005-10-01  \n",
       "1             0.979011      2005-10-01  \n",
       "2             0.912624      2005-10-01  \n",
       "3             0.087376      2005-10-01  \n",
       "4             0.250963      2005-10-01  "
      ]
     },
     "execution_count": 182,
     "metadata": {},
     "output_type": "execute_result"
    }
   ],
   "source": [
    "observed_and_predicted_mutations.head()"
   ]
  },
  {
   "cell_type": "code",
   "execution_count": 183,
   "metadata": {},
   "outputs": [
    {
     "data": {
      "text/plain": [
       "<seaborn.axisgrid.FacetGrid at 0x1a2b2b2940>"
      ]
     },
     "execution_count": 183,
     "metadata": {},
     "output_type": "execute_result"
    },
    {
     "data": {
      "image/png": "[encoded data removed]",
      "text/plain": [
       "<Figure size 1728x432 with 2 Axes>"
      ]
     },
     "metadata": {
      "needs_background": "light"
     },
     "output_type": "display_data"
    }
   ],
   "source": [
    "g = sns.FacetGrid(observed_and_predicted_mutations[observed_and_predicted_mutations[\"site\"].isin(sites_to_plot)],\n",
    "                  hue=\"residue\", col=\"site\", col_wrap=4, height=6)\n",
    "g.map(plt.plot, \"timepoint\", \"frequency_observed\", marker=\"o\")\n",
    "g.map(plt.plot, \"final_timepoint\", \"frequency_estimated\", marker=\"+\", linestyle=\"--\")"
   ]
  },
  {
   "cell_type": "code",
   "execution_count": 184,
   "metadata": {},
   "outputs": [
    {
     "data": {
      "text/html": [
       "<div>\n",
       "<style scoped>\n",
       "    .dataframe tbody tr th:only-of-type {\n",
       "        vertical-align: middle;\n",
       "    }\n",
       "\n",
       "    .dataframe tbody tr th {\n",
       "        vertical-align: top;\n",
       "    }\n",
       "\n",
       "    .dataframe thead th {\n",
       "        text-align: right;\n",
       "    }\n",
       "</style>\n",
       "<table border=\"1\" class=\"dataframe\">\n",
       "  <thead>\n",
       "    <tr style=\"text-align: right;\">\n",
       "      <th></th>\n",
       "      <th>timepoint</th>\n",
       "      <th>site</th>\n",
       "      <th>residue</th>\n",
       "      <th>mutation</th>\n",
       "      <th>frequency_observed</th>\n",
       "      <th>frequency_estimated</th>\n",
       "      <th>final_timepoint</th>\n",
       "    </tr>\n",
       "  </thead>\n",
       "  <tbody>\n",
       "    <tr>\n",
       "      <th>0</th>\n",
       "      <td>2005-10-01</td>\n",
       "      <td>HA1:124</td>\n",
       "      <td>N</td>\n",
       "      <td>HA1:124N</td>\n",
       "      <td>0.025933</td>\n",
       "      <td>0.020989</td>\n",
       "      <td>2005-10-01</td>\n",
       "    </tr>\n",
       "    <tr>\n",
       "      <th>1</th>\n",
       "      <td>2005-10-01</td>\n",
       "      <td>HA1:124</td>\n",
       "      <td>S</td>\n",
       "      <td>HA1:124S</td>\n",
       "      <td>0.974030</td>\n",
       "      <td>0.979011</td>\n",
       "      <td>2005-10-01</td>\n",
       "    </tr>\n",
       "    <tr>\n",
       "      <th>2</th>\n",
       "      <td>2005-10-01</td>\n",
       "      <td>HA1:138</td>\n",
       "      <td>A</td>\n",
       "      <td>HA1:138A</td>\n",
       "      <td>0.970997</td>\n",
       "      <td>0.912624</td>\n",
       "      <td>2005-10-01</td>\n",
       "    </tr>\n",
       "    <tr>\n",
       "      <th>3</th>\n",
       "      <td>2005-10-01</td>\n",
       "      <td>HA1:138</td>\n",
       "      <td>S</td>\n",
       "      <td>HA1:138S</td>\n",
       "      <td>0.029000</td>\n",
       "      <td>0.087376</td>\n",
       "      <td>2005-10-01</td>\n",
       "    </tr>\n",
       "    <tr>\n",
       "      <th>4</th>\n",
       "      <td>2005-10-01</td>\n",
       "      <td>HA1:145</td>\n",
       "      <td>K</td>\n",
       "      <td>HA1:145K</td>\n",
       "      <td>0.006537</td>\n",
       "      <td>0.250963</td>\n",
       "      <td>2005-10-01</td>\n",
       "    </tr>\n",
       "  </tbody>\n",
       "</table>\n",
       "</div>"
      ],
      "text/plain": [
       "   timepoint     site residue  mutation  frequency_observed  \\\n",
       "0 2005-10-01  HA1:124       N  HA1:124N            0.025933   \n",
       "1 2005-10-01  HA1:124       S  HA1:124S            0.974030   \n",
       "2 2005-10-01  HA1:138       A  HA1:138A            0.970997   \n",
       "3 2005-10-01  HA1:138       S  HA1:138S            0.029000   \n",
       "4 2005-10-01  HA1:145       K  HA1:145K            0.006537   \n",
       "\n",
       "   frequency_estimated final_timepoint  \n",
       "0             0.020989      2005-10-01  \n",
       "1             0.979011      2005-10-01  \n",
       "2             0.912624      2005-10-01  \n",
       "3             0.087376      2005-10-01  \n",
       "4             0.250963      2005-10-01  "
      ]
     },
     "execution_count": 184,
     "metadata": {},
     "output_type": "execute_result"
    }
   ],
   "source": [
    "observed_and_predicted_mutations.head()"
   ]
  },
  {
   "cell_type": "code",
   "execution_count": 185,
   "metadata": {},
   "outputs": [
    {
     "data": {
      "text/plain": [
       "<seaborn.axisgrid.FacetGrid at 0x1a2b58c5c0>"
      ]
     },
     "execution_count": 185,
     "metadata": {},
     "output_type": "execute_result"
    },
    {
     "data": {
      "image/png": "[encoded data removed]",
      "text/plain": [
       "<Figure size 360x360 with 1 Axes>"
      ]
     },
     "metadata": {
      "needs_background": "light"
     },
     "output_type": "display_data"
    }
   ],
   "source": [
    "sns.lmplot(\"frequency_observed\", \"frequency_estimated\", observed_and_predicted_mutations)"
   ]
  },
  {
   "cell_type": "markdown",
   "metadata": {},
   "source": [
    "## Inspect cTiterSub model"
   ]
  },
  {
   "cell_type": "code",
   "execution_count": null,
   "metadata": {},
   "outputs": [],
   "source": [
    "predictors = [\"cTiterSub_x\"]\n",
    "\n",
    "model = ExponentialGrowthModel(\n",
    "    predictors=predictors,\n",
    "    delta_time=delta_time,\n",
    "    l1_lambda=l1_lambda,\n",
    "    cost_function=sum_of_squared_errors\n",
    ")"
   ]
  },
  {
   "cell_type": "code",
   "execution_count": null,
   "metadata": {},
   "outputs": [],
   "source": [
    "errors = []\n",
    "for coefficient in coefficients:\n",
    "    error = model._fit([coefficient], X, y)\n",
    "    errors.append(error)"
   ]
  },
  {
   "cell_type": "code",
   "execution_count": null,
   "metadata": {},
   "outputs": [],
   "source": [
    "plt.plot(coefficients, errors, \"o\")\n",
    "plt.xlabel(\"Titer cross-immunity model coefficient\")\n",
    "plt.ylabel(\"SSE\")"
   ]
  },
  {
   "cell_type": "code",
   "execution_count": null,
   "metadata": {},
   "outputs": [],
   "source": [
    "predictors = [\"cTiterSub_x\"]\n",
    "\n",
    "model = ExponentialGrowthModel(\n",
    "    predictors=predictors,\n",
    "    delta_time=delta_time,\n",
    "    l1_lambda=l1_lambda,\n",
    "    cost_function=mean_absolute_error\n",
    ")\n",
    "\n",
    "errors = []\n",
    "for coefficient in coefficients:\n",
    "    error = model._fit([coefficient], X, y)\n",
    "    errors.append(error)\n",
    "    \n",
    "plt.plot(coefficients, errors, \"o\")\n",
    "plt.xlabel(\"Titer cross-immunity model coefficient\")\n",
    "plt.ylabel(\"MAE\")"
   ]
  },
  {
   "cell_type": "markdown",
   "metadata": {},
   "source": [
    "## Inspect epitope count model"
   ]
  },
  {
   "cell_type": "code",
   "execution_count": 186,
   "metadata": {},
   "outputs": [],
   "source": [
    "predictors = [\"ep\"]\n",
    "\n",
    "model = MutationExponentialGrowthModel(\n",
    "    predictors=predictors,\n",
    "    delta_time=delta_time,\n",
    "    l1_lambda=l1_lambda,\n",
    "    cost_function=sum_of_squared_errors\n",
    ")"
   ]
  },
  {
   "cell_type": "code",
   "execution_count": 187,
   "metadata": {},
   "outputs": [],
   "source": [
    "errors = []\n",
    "for coefficient in coefficients:\n",
    "    error = model._fit([coefficient], X, y, X_mutations)\n",
    "    errors.append(error)"
   ]
  },
  {
   "cell_type": "code",
   "execution_count": 188,
   "metadata": {},
   "outputs": [
    {
     "data": {
      "text/plain": [
       "Text(0,0.5,'SSE')"
      ]
     },
     "execution_count": 188,
     "metadata": {},
     "output_type": "execute_result"
    },
    {
     "data": {
      "image/png": "[encoded data removed]",
      "text/plain": [
       "<Figure size 432x288 with 1 Axes>"
      ]
     },
     "metadata": {
      "needs_background": "light"
     },
     "output_type": "display_data"
    }
   ],
   "source": [
    "plt.plot(coefficients, errors, \"o\")\n",
    "plt.xlabel(\"Epitope count model coefficient\")\n",
    "plt.ylabel(\"SSE\")"
   ]
  },
  {
   "cell_type": "code",
   "execution_count": 189,
   "metadata": {},
   "outputs": [
    {
     "data": {
      "text/plain": [
       "Text(0,0.5,'Negative information gain')"
      ]
     },
     "execution_count": 189,
     "metadata": {},
     "output_type": "execute_result"
    },
    {
     "data": {
      "image/png": "[encoded data removed]",
      "text/plain": [
       "<Figure size 432x288 with 1 Axes>"
      ]
     },
     "metadata": {
      "needs_background": "light"
     },
     "output_type": "display_data"
    }
   ],
   "source": [
    "predictors = [\"ep\"]\n",
    "\n",
    "model = MutationExponentialGrowthModel(\n",
    "    predictors=predictors,\n",
    "    delta_time=delta_time,\n",
    "    l1_lambda=l1_lambda,\n",
    "    cost_function=negative_information_gain\n",
    ")\n",
    "\n",
    "errors = []\n",
    "for coefficient in coefficients:\n",
    "    error = model._fit([coefficient], X, y, X_mutations)\n",
    "    errors.append(error)\n",
    "\n",
    "plt.plot(coefficients, errors, \"o\")\n",
    "plt.xlabel(\"Epitope count model coefficient\")\n",
    "plt.ylabel(\"Negative information gain\")"
   ]
  },
  {
   "cell_type": "markdown",
   "metadata": {},
   "source": [
    "## Inspect epitope cross-immunity model"
   ]
  },
  {
   "cell_type": "code",
   "execution_count": 96,
   "metadata": {},
   "outputs": [
    {
     "data": {
      "text/plain": [
       "Text(0,0.5,'SSE')"
      ]
     },
     "execution_count": 96,
     "metadata": {},
     "output_type": "execute_result"
    },
    {
     "data": {
      "image/png": "[encoded data removed]",
      "text/plain": [
       "<Figure size 432x288 with 1 Axes>"
      ]
     },
     "metadata": {
      "needs_background": "light"
     },
     "output_type": "display_data"
    }
   ],
   "source": [
    "predictors = [\"ep_x\"]\n",
    "\n",
    "model = MutationExponentialGrowthModel(\n",
    "    predictors=predictors,\n",
    "    delta_time=delta_time,\n",
    "    l1_lambda=l1_lambda,\n",
    "    cost_function=sum_of_squared_errors\n",
    ")\n",
    "\n",
    "errors = []\n",
    "for coefficient in coefficients:\n",
    "    error = model._fit([coefficient], X, y, X_mutations)\n",
    "    errors.append(error)\n",
    "\n",
    "plt.plot(coefficients, errors, \"o\")\n",
    "plt.xlabel(\"Epitope cross-immunity model coefficient\")\n",
    "plt.ylabel(\"SSE\")"
   ]
  },
  {
   "cell_type": "code",
   "execution_count": 97,
   "metadata": {},
   "outputs": [
    {
     "data": {
      "text/plain": [
       "Text(0,0.5,'Negative information gain')"
      ]
     },
     "execution_count": 97,
     "metadata": {},
     "output_type": "execute_result"
    },
    {
     "data": {
      "image/png": "[encoded data removed]",
      "text/plain": [
       "<Figure size 432x288 with 1 Axes>"
      ]
     },
     "metadata": {
      "needs_background": "light"
     },
     "output_type": "display_data"
    }
   ],
   "source": [
    "model = MutationExponentialGrowthModel(\n",
    "    predictors=predictors,\n",
    "    delta_time=delta_time,\n",
    "    l1_lambda=l1_lambda,\n",
    "    cost_function=negative_information_gain\n",
    ")\n",
    "\n",
    "errors = []\n",
    "for coefficient in coefficients:\n",
    "    error = model._fit([coefficient], X, y, X_mutations)\n",
    "    errors.append(error)\n",
    "\n",
    "plt.plot(coefficients, errors, \"o\")\n",
    "plt.xlabel(\"Epitope cross-immunity model coefficient\")\n",
    "plt.ylabel(\"Negative information gain\")"
   ]
  },
  {
   "cell_type": "markdown",
   "metadata": {},
   "source": [
    "## Inspect delta frequency model"
   ]
  },
  {
   "cell_type": "code",
   "execution_count": 98,
   "metadata": {},
   "outputs": [],
   "source": [
    "predictors = [\"delta_frequency\"]\n",
    "\n",
    "model = MutationExponentialGrowthModel(\n",
    "    predictors=predictors,\n",
    "    delta_time=delta_time,\n",
    "    l1_lambda=l1_lambda,\n",
    "    cost_function=negative_information_gain\n",
    ")"
   ]
  },
  {
   "cell_type": "code",
   "execution_count": 99,
   "metadata": {},
   "outputs": [],
   "source": [
    "errors = []\n",
    "for coefficient in coefficients:\n",
    "    error = model._fit([coefficient], X, y, X_mutations)\n",
    "    errors.append(error)"
   ]
  },
  {
   "cell_type": "code",
   "execution_count": 100,
   "metadata": {},
   "outputs": [
    {
     "data": {
      "text/plain": [
       "Text(0,0.5,'Negative information gain')"
      ]
     },
     "execution_count": 100,
     "metadata": {},
     "output_type": "execute_result"
    },
    {
     "data": {
      "image/png": "[encoded data removed]",
      "text/plain": [
       "<Figure size 432x288 with 1 Axes>"
      ]
     },
     "metadata": {
      "needs_background": "light"
     },
     "output_type": "display_data"
    }
   ],
   "source": [
    "plt.plot(coefficients, errors, \"o\")\n",
    "plt.xlabel(\"Delta frequency model coefficient\")\n",
    "plt.ylabel(\"Negative information gain\")"
   ]
  },
  {
   "cell_type": "markdown",
   "metadata": {},
   "source": [
    "## Inspect two-parameter models"
   ]
  },
  {
   "cell_type": "code",
   "execution_count": null,
   "metadata": {},
   "outputs": [],
   "source": [
    "predictors = [\"lbi\", \"cTiterSub_x\"]\n",
    "\n",
    "model = ExponentialGrowthModel(\n",
    "    predictors=predictors,\n",
    "    delta_time=delta_time,\n",
    "    l1_lambda=l1_lambda,\n",
    "    cost_function=sum_of_squared_errors\n",
    ")"
   ]
  },
  {
   "cell_type": "code",
   "execution_count": null,
   "metadata": {},
   "outputs": [],
   "source": [
    "len(coefficients)"
   ]
  },
  {
   "cell_type": "code",
   "execution_count": null,
   "metadata": {},
   "outputs": [],
   "source": [
    "errors_by_first_coefficient = {}\n",
    "for coefficient_i in coefficients:\n",
    "    errors = []\n",
    "    for coefficient_j in coefficients:\n",
    "        error = model._fit([coefficient_i, coefficient_j], X, y)\n",
    "        errors.append(error)\n",
    "    \n",
    "    errors_by_first_coefficient[coefficient_i] = errors"
   ]
  },
  {
   "cell_type": "code",
   "execution_count": null,
   "metadata": {},
   "outputs": [],
   "source": [
    "fig, axes = plt.subplots(6, 4, figsize=(20, 20), gridspec_kw={\"hspace\": 0.75}, sharey=True)\n",
    "\n",
    "for ci, coefficient_i in enumerate(sorted(errors_by_first_coefficient.keys())):\n",
    "    ax = axes.flatten()[ci]\n",
    "    \n",
    "    errors = errors_by_first_coefficient[coefficient_i]\n",
    "    ax.plot(coefficients, errors, \"o\")\n",
    "    ax.set_xlabel(\"Titer substitution model coefficient\")\n",
    "    ax.set_ylabel(\"SSE\")\n",
    "    ax.set_title(\"LBI coefficient: %.2f\" % coefficient_i)"
   ]
  },
  {
   "cell_type": "code",
   "execution_count": null,
   "metadata": {},
   "outputs": [],
   "source": [
    "predictors = [\"lbi\", \"cTiterSub_x\"]\n",
    "delta_time = 1.0\n",
    "l1_lambda = 0.0\n",
    "\n",
    "model = ExponentialGrowthModel(\n",
    "    predictors=predictors,\n",
    "    delta_time=delta_time,\n",
    "    l1_lambda=l1_lambda,\n",
    "    cost_function=mean_absolute_error\n",
    ")\n",
    "\n",
    "records = []\n",
    "errors_by_first_coefficient = {}\n",
    "for coefficient_i in coefficients:\n",
    "    errors = []\n",
    "    for coefficient_j in coefficients:\n",
    "        error = model._fit([coefficient_i, coefficient_j], X, y)\n",
    "        errors.append(error)\n",
    "        records.append({\n",
    "            \"lbi\": coefficient_i,\n",
    "            \"cTiterSub\": coefficient_j,\n",
    "            \"error\": error\n",
    "        })\n",
    "    \n",
    "    errors_by_first_coefficient[coefficient_i] = errors"
   ]
  },
  {
   "cell_type": "code",
   "execution_count": null,
   "metadata": {},
   "outputs": [],
   "source": [
    "records_df = pd.DataFrame(records)\n",
    "records_df.sort_values(\"error\").head()"
   ]
  },
  {
   "cell_type": "code",
   "execution_count": null,
   "metadata": {},
   "outputs": [],
   "source": [
    "fig, axes = plt.subplots(6, 4, figsize=(20, 20), gridspec_kw={\"hspace\": 0.75}, sharey=True)\n",
    "\n",
    "for ci, coefficient_i in enumerate(sorted(errors_by_first_coefficient.keys())):\n",
    "    ax = axes.flatten()[ci]\n",
    "    \n",
    "    errors = errors_by_first_coefficient[coefficient_i]\n",
    "    ax.plot(coefficients, errors, \"o\")\n",
    "    ax.set_xlabel(\"Titer substitution model coefficient\")\n",
    "    ax.set_ylabel(\"MAE\")\n",
    "    ax.set_title(\"LBI coefficient: %.2f\" % coefficient_i)"
   ]
  },
  {
   "cell_type": "markdown",
   "metadata": {},
   "source": [
    "## Minimize negative information gain"
   ]
  },
  {
   "cell_type": "markdown",
   "metadata": {},
   "source": [
    "Add pseudocounts to current and future tip frequencies."
   ]
  },
  {
   "cell_type": "code",
   "execution_count": 18,
   "metadata": {},
   "outputs": [],
   "source": [
    "pseudocount = 1e-6\n",
    "X_with_pseudocounts = add_pseudocounts_to_frequencies(X, pseudocount)\n",
    "final_clade_frequencies_with_pseudocounts = add_pseudocounts_to_frequencies(\n",
    "    final_clade_frequencies,\n",
    "    pseudocount,\n",
    "    timepoint_column=\"initial_timepoint\"\n",
    ")"
   ]
  },
  {
   "cell_type": "code",
   "execution_count": 19,
   "metadata": {},
   "outputs": [],
   "source": [
    "y_with_pseudocounts = final_clade_frequencies_with_pseudocounts.groupby([\n",
    "    \"initial_timepoint\",\n",
    "    \"clade_membership\"\n",
    "])[\"frequency\"].sum().reset_index()\n",
    "\n",
    "y_with_pseudocounts = y_with_pseudocounts.rename(\n",
    "    columns={\"initial_timepoint\": \"timepoint\"}\n",
    ")\n",
    "\n",
    "#y_with_pseudocounts = y_with_pseudocounts[y_with_pseudocounts[\"timepoint\"] <= last_timepoint]"
   ]
  },
  {
   "cell_type": "code",
   "execution_count": 20,
   "metadata": {},
   "outputs": [
    {
     "data": {
      "text/html": [
       "<div>\n",
       "<style scoped>\n",
       "    .dataframe tbody tr th:only-of-type {\n",
       "        vertical-align: middle;\n",
       "    }\n",
       "\n",
       "    .dataframe tbody tr th {\n",
       "        vertical-align: top;\n",
       "    }\n",
       "\n",
       "    .dataframe thead th {\n",
       "        text-align: right;\n",
       "    }\n",
       "</style>\n",
       "<table border=\"1\" class=\"dataframe\">\n",
       "  <thead>\n",
       "    <tr style=\"text-align: right;\">\n",
       "      <th></th>\n",
       "      <th>strain</th>\n",
       "      <th>clade_membership</th>\n",
       "      <th>timepoint</th>\n",
       "      <th>cTiterSub_x</th>\n",
       "      <th>lbi</th>\n",
       "      <th>ep</th>\n",
       "      <th>ep_x</th>\n",
       "      <th>ne</th>\n",
       "      <th>delta_frequency</th>\n",
       "      <th>frequency</th>\n",
       "    </tr>\n",
       "  </thead>\n",
       "  <tbody>\n",
       "    <tr>\n",
       "      <th>0</th>\n",
       "      <td>A/BacGiang/BG003/2004</td>\n",
       "      <td>3a81d99</td>\n",
       "      <td>2004-10-01</td>\n",
       "      <td>NaN</td>\n",
       "      <td>-0.947616</td>\n",
       "      <td>10</td>\n",
       "      <td>-3.021977</td>\n",
       "      <td>6</td>\n",
       "      <td>-1.093891</td>\n",
       "      <td>0.001207</td>\n",
       "    </tr>\n",
       "    <tr>\n",
       "      <th>1</th>\n",
       "      <td>A/Hanoi/HN30130/2004</td>\n",
       "      <td>3a81d99</td>\n",
       "      <td>2004-10-01</td>\n",
       "      <td>NaN</td>\n",
       "      <td>-0.918210</td>\n",
       "      <td>10</td>\n",
       "      <td>-3.021977</td>\n",
       "      <td>6</td>\n",
       "      <td>-1.093891</td>\n",
       "      <td>0.000557</td>\n",
       "    </tr>\n",
       "    <tr>\n",
       "      <th>2</th>\n",
       "      <td>A/Hanoi/HN30135/2004</td>\n",
       "      <td>3a81d99</td>\n",
       "      <td>2004-10-01</td>\n",
       "      <td>NaN</td>\n",
       "      <td>-0.923689</td>\n",
       "      <td>10</td>\n",
       "      <td>-3.021977</td>\n",
       "      <td>6</td>\n",
       "      <td>-1.093891</td>\n",
       "      <td>0.000646</td>\n",
       "    </tr>\n",
       "    <tr>\n",
       "      <th>3</th>\n",
       "      <td>A/California/7/2004</td>\n",
       "      <td>44f9b1f</td>\n",
       "      <td>2004-10-01</td>\n",
       "      <td>-6.794363</td>\n",
       "      <td>1.584951</td>\n",
       "      <td>14</td>\n",
       "      <td>-2.273476</td>\n",
       "      <td>7</td>\n",
       "      <td>0.155149</td>\n",
       "      <td>0.013619</td>\n",
       "    </tr>\n",
       "    <tr>\n",
       "      <th>4</th>\n",
       "      <td>A/California/NHRC0002/2003</td>\n",
       "      <td>bee4aad</td>\n",
       "      <td>2004-10-01</td>\n",
       "      <td>NaN</td>\n",
       "      <td>0.142304</td>\n",
       "      <td>10</td>\n",
       "      <td>-2.995527</td>\n",
       "      <td>6</td>\n",
       "      <td>-0.390112</td>\n",
       "      <td>0.000006</td>\n",
       "    </tr>\n",
       "  </tbody>\n",
       "</table>\n",
       "</div>"
      ],
      "text/plain": [
       "                       strain clade_membership  timepoint  cTiterSub_x  \\\n",
       "0       A/BacGiang/BG003/2004          3a81d99 2004-10-01          NaN   \n",
       "1        A/Hanoi/HN30130/2004          3a81d99 2004-10-01          NaN   \n",
       "2        A/Hanoi/HN30135/2004          3a81d99 2004-10-01          NaN   \n",
       "3         A/California/7/2004          44f9b1f 2004-10-01    -6.794363   \n",
       "4  A/California/NHRC0002/2003          bee4aad 2004-10-01          NaN   \n",
       "\n",
       "        lbi  ep      ep_x  ne  delta_frequency  frequency  \n",
       "0 -0.947616  10 -3.021977   6        -1.093891   0.001207  \n",
       "1 -0.918210  10 -3.021977   6        -1.093891   0.000557  \n",
       "2 -0.923689  10 -3.021977   6        -1.093891   0.000646  \n",
       "3  1.584951  14 -2.273476   7         0.155149   0.013619  \n",
       "4  0.142304  10 -2.995527   6        -0.390112   0.000006  "
      ]
     },
     "execution_count": 20,
     "metadata": {},
     "output_type": "execute_result"
    }
   ],
   "source": [
    "X_with_pseudocounts.head()"
   ]
  },
  {
   "cell_type": "code",
   "execution_count": 21,
   "metadata": {},
   "outputs": [
    {
     "data": {
      "text/html": [
       "<div>\n",
       "<style scoped>\n",
       "    .dataframe tbody tr th:only-of-type {\n",
       "        vertical-align: middle;\n",
       "    }\n",
       "\n",
       "    .dataframe tbody tr th {\n",
       "        vertical-align: top;\n",
       "    }\n",
       "\n",
       "    .dataframe thead th {\n",
       "        text-align: right;\n",
       "    }\n",
       "</style>\n",
       "<table border=\"1\" class=\"dataframe\">\n",
       "  <thead>\n",
       "    <tr style=\"text-align: right;\">\n",
       "      <th></th>\n",
       "      <th>initial_timepoint</th>\n",
       "      <th>clade_membership</th>\n",
       "      <th>final_timepoint</th>\n",
       "      <th>strain</th>\n",
       "      <th>frequency</th>\n",
       "    </tr>\n",
       "  </thead>\n",
       "  <tbody>\n",
       "    <tr>\n",
       "      <th>0</th>\n",
       "      <td>2004-10-01</td>\n",
       "      <td>3a81d99</td>\n",
       "      <td>2005-10-01</td>\n",
       "      <td>A/Hanoi/ISBM16/2005</td>\n",
       "      <td>0.006537</td>\n",
       "    </tr>\n",
       "    <tr>\n",
       "      <th>1</th>\n",
       "      <td>2004-10-01</td>\n",
       "      <td>44f9b1f</td>\n",
       "      <td>2005-10-01</td>\n",
       "      <td>NaN</td>\n",
       "      <td>0.000000</td>\n",
       "    </tr>\n",
       "    <tr>\n",
       "      <th>2</th>\n",
       "      <td>2004-10-01</td>\n",
       "      <td>bee4aad</td>\n",
       "      <td>2005-10-01</td>\n",
       "      <td>NaN</td>\n",
       "      <td>0.000000</td>\n",
       "    </tr>\n",
       "    <tr>\n",
       "      <th>3</th>\n",
       "      <td>2004-10-01</td>\n",
       "      <td>7aa732d</td>\n",
       "      <td>2005-10-01</td>\n",
       "      <td>A/Auckland/616/2005</td>\n",
       "      <td>0.008753</td>\n",
       "    </tr>\n",
       "    <tr>\n",
       "      <th>4</th>\n",
       "      <td>2004-10-01</td>\n",
       "      <td>7aa732d</td>\n",
       "      <td>2005-10-01</td>\n",
       "      <td>A/Auckland/617/2005</td>\n",
       "      <td>0.008971</td>\n",
       "    </tr>\n",
       "  </tbody>\n",
       "</table>\n",
       "</div>"
      ],
      "text/plain": [
       "  initial_timepoint clade_membership final_timepoint               strain  \\\n",
       "0        2004-10-01          3a81d99      2005-10-01  A/Hanoi/ISBM16/2005   \n",
       "1        2004-10-01          44f9b1f      2005-10-01                  NaN   \n",
       "2        2004-10-01          bee4aad      2005-10-01                  NaN   \n",
       "3        2004-10-01          7aa732d      2005-10-01  A/Auckland/616/2005   \n",
       "4        2004-10-01          7aa732d      2005-10-01  A/Auckland/617/2005   \n",
       "\n",
       "   frequency  \n",
       "0   0.006537  \n",
       "1   0.000000  \n",
       "2   0.000000  \n",
       "3   0.008753  \n",
       "4   0.008971  "
      ]
     },
     "execution_count": 21,
     "metadata": {},
     "output_type": "execute_result"
    }
   ],
   "source": [
    "final_clade_frequencies.head()"
   ]
  },
  {
   "cell_type": "code",
   "execution_count": 22,
   "metadata": {},
   "outputs": [
    {
     "data": {
      "text/html": [
       "<div>\n",
       "<style scoped>\n",
       "    .dataframe tbody tr th:only-of-type {\n",
       "        vertical-align: middle;\n",
       "    }\n",
       "\n",
       "    .dataframe tbody tr th {\n",
       "        vertical-align: top;\n",
       "    }\n",
       "\n",
       "    .dataframe thead th {\n",
       "        text-align: right;\n",
       "    }\n",
       "</style>\n",
       "<table border=\"1\" class=\"dataframe\">\n",
       "  <thead>\n",
       "    <tr style=\"text-align: right;\">\n",
       "      <th></th>\n",
       "      <th>initial_timepoint</th>\n",
       "      <th>clade_membership</th>\n",
       "      <th>final_timepoint</th>\n",
       "      <th>strain</th>\n",
       "      <th>frequency</th>\n",
       "    </tr>\n",
       "  </thead>\n",
       "  <tbody>\n",
       "    <tr>\n",
       "      <th>0</th>\n",
       "      <td>2004-10-01</td>\n",
       "      <td>3a81d99</td>\n",
       "      <td>2005-10-01</td>\n",
       "      <td>A/Hanoi/ISBM16/2005</td>\n",
       "      <td>6.537595e-03</td>\n",
       "    </tr>\n",
       "    <tr>\n",
       "      <th>1</th>\n",
       "      <td>2004-10-01</td>\n",
       "      <td>44f9b1f</td>\n",
       "      <td>2005-10-01</td>\n",
       "      <td>NaN</td>\n",
       "      <td>9.999380e-07</td>\n",
       "    </tr>\n",
       "    <tr>\n",
       "      <th>2</th>\n",
       "      <td>2004-10-01</td>\n",
       "      <td>bee4aad</td>\n",
       "      <td>2005-10-01</td>\n",
       "      <td>NaN</td>\n",
       "      <td>9.999380e-07</td>\n",
       "    </tr>\n",
       "    <tr>\n",
       "      <th>3</th>\n",
       "      <td>2004-10-01</td>\n",
       "      <td>7aa732d</td>\n",
       "      <td>2005-10-01</td>\n",
       "      <td>A/Auckland/616/2005</td>\n",
       "      <td>8.752470e-03</td>\n",
       "    </tr>\n",
       "    <tr>\n",
       "      <th>4</th>\n",
       "      <td>2004-10-01</td>\n",
       "      <td>7aa732d</td>\n",
       "      <td>2005-10-01</td>\n",
       "      <td>A/Auckland/617/2005</td>\n",
       "      <td>8.970456e-03</td>\n",
       "    </tr>\n",
       "  </tbody>\n",
       "</table>\n",
       "</div>"
      ],
      "text/plain": [
       "  initial_timepoint clade_membership final_timepoint               strain  \\\n",
       "0        2004-10-01          3a81d99      2005-10-01  A/Hanoi/ISBM16/2005   \n",
       "1        2004-10-01          44f9b1f      2005-10-01                  NaN   \n",
       "2        2004-10-01          bee4aad      2005-10-01                  NaN   \n",
       "3        2004-10-01          7aa732d      2005-10-01  A/Auckland/616/2005   \n",
       "4        2004-10-01          7aa732d      2005-10-01  A/Auckland/617/2005   \n",
       "\n",
       "      frequency  \n",
       "0  6.537595e-03  \n",
       "1  9.999380e-07  \n",
       "2  9.999380e-07  \n",
       "3  8.752470e-03  \n",
       "4  8.970456e-03  "
      ]
     },
     "execution_count": 22,
     "metadata": {},
     "output_type": "execute_result"
    }
   ],
   "source": [
    "final_clade_frequencies_with_pseudocounts.head()"
   ]
  },
  {
   "cell_type": "code",
   "execution_count": 23,
   "metadata": {},
   "outputs": [
    {
     "data": {
      "text/html": [
       "<div>\n",
       "<style scoped>\n",
       "    .dataframe tbody tr th:only-of-type {\n",
       "        vertical-align: middle;\n",
       "    }\n",
       "\n",
       "    .dataframe tbody tr th {\n",
       "        vertical-align: top;\n",
       "    }\n",
       "\n",
       "    .dataframe thead th {\n",
       "        text-align: right;\n",
       "    }\n",
       "</style>\n",
       "<table border=\"1\" class=\"dataframe\">\n",
       "  <thead>\n",
       "    <tr style=\"text-align: right;\">\n",
       "      <th></th>\n",
       "      <th>timepoint</th>\n",
       "      <th>clade_membership</th>\n",
       "      <th>frequency</th>\n",
       "    </tr>\n",
       "  </thead>\n",
       "  <tbody>\n",
       "    <tr>\n",
       "      <th>0</th>\n",
       "      <td>2004-10-01</td>\n",
       "      <td>089c686</td>\n",
       "      <td>9.999380e-07</td>\n",
       "    </tr>\n",
       "    <tr>\n",
       "      <th>1</th>\n",
       "      <td>2004-10-01</td>\n",
       "      <td>094757b</td>\n",
       "      <td>9.999380e-07</td>\n",
       "    </tr>\n",
       "    <tr>\n",
       "      <th>2</th>\n",
       "      <td>2004-10-01</td>\n",
       "      <td>1523083</td>\n",
       "      <td>9.999380e-07</td>\n",
       "    </tr>\n",
       "    <tr>\n",
       "      <th>3</th>\n",
       "      <td>2004-10-01</td>\n",
       "      <td>1cfb9ff</td>\n",
       "      <td>9.999380e-07</td>\n",
       "    </tr>\n",
       "    <tr>\n",
       "      <th>4</th>\n",
       "      <td>2004-10-01</td>\n",
       "      <td>1dcd826</td>\n",
       "      <td>9.999380e-07</td>\n",
       "    </tr>\n",
       "  </tbody>\n",
       "</table>\n",
       "</div>"
      ],
      "text/plain": [
       "   timepoint clade_membership     frequency\n",
       "0 2004-10-01          089c686  9.999380e-07\n",
       "1 2004-10-01          094757b  9.999380e-07\n",
       "2 2004-10-01          1523083  9.999380e-07\n",
       "3 2004-10-01          1cfb9ff  9.999380e-07\n",
       "4 2004-10-01          1dcd826  9.999380e-07"
      ]
     },
     "execution_count": 23,
     "metadata": {},
     "output_type": "execute_result"
    }
   ],
   "source": [
    "y_with_pseudocounts.head()"
   ]
  },
  {
   "cell_type": "code",
   "execution_count": 24,
   "metadata": {},
   "outputs": [
    {
     "name": "stdout",
     "output_type": "stream",
     "text": [
      "Training error for coefficients [-3.0]: 62.07117046072003\n",
      "Training error for coefficients [-2.7]: 54.349008019085026\n",
      "Training error for coefficients [-2.4]: 46.77811222596032\n",
      "Training error for coefficients [-2.1]: 39.3978696216496\n",
      "Training error for coefficients [-1.8]: 32.2621146765771\n",
      "Training error for coefficients [-1.5]: 25.443049887431897\n",
      "Training error for coefficients [-1.2000000000000002]: 19.03399749254337\n",
      "Training error for coefficients [-0.8999999999999999]: 13.14948121946783\n",
      "Training error for coefficients [-0.6000000000000001]: 7.921631346442259\n",
      "Training error for coefficients [-0.30000000000000027]: 3.4923203905983744\n",
      "Training error for coefficients [0.0]: 5.735060732370406e-15\n",
      "Training error for coefficients [0.2999999999999998]: -2.4385900596820047\n",
      "Training error for coefficients [0.5999999999999996]: -3.7475112185312054\n",
      "Training error for coefficients [0.8999999999999999]: -3.9057992667363868\n",
      "Training error for coefficients [1.2000000000000002]: -2.953407563545137\n",
      "Training error for coefficients [1.5]: -0.9846210130384769\n",
      "Training error for coefficients [1.7999999999999998]: 1.8741736073969788\n",
      "Training error for coefficients [2.0999999999999996]: 5.494725312061257\n",
      "Training error for coefficients [2.3999999999999995]: 9.770616102424599\n",
      "Training error for coefficients [2.7]: 14.625910691561252\n",
      "Training error for coefficients [3.0]: 20.010233222819437\n"
     ]
    },
    {
     "data": {
      "text/plain": [
       "Text(0,0.5,'Negative information gain')"
      ]
     },
     "execution_count": 24,
     "metadata": {},
     "output_type": "execute_result"
    },
    {
     "data": {
      "image/png": "[encoded data removed]",
      "text/plain": [
       "<Figure size 432x288 with 1 Axes>"
      ]
     },
     "metadata": {
      "needs_background": "light"
     },
     "output_type": "display_data"
    }
   ],
   "source": [
    "predictors = [\"lbi\"]\n",
    "model = ExponentialGrowthModel(\n",
    "    predictors=predictors,\n",
    "    delta_time=delta_time,\n",
    "    l1_lambda=l1_lambda,\n",
    "    cost_function=negative_information_gain\n",
    ")\n",
    "\n",
    "errors = []\n",
    "for coefficient in coefficients:\n",
    "    error = model._fit([coefficient], X_with_pseudocounts, y_with_pseudocounts)\n",
    "    errors.append(error)\n",
    "    \n",
    "plt.plot(coefficients, errors, \"o\")\n",
    "plt.xlabel(\"LBI coefficient\")\n",
    "plt.ylabel(\"Negative information gain\")"
   ]
  },
  {
   "cell_type": "code",
   "execution_count": 25,
   "metadata": {},
   "outputs": [
    {
     "name": "stdout",
     "output_type": "stream",
     "text": [
      "Training error for coefficients [-3.0]: 22.93464487042579\n",
      "Training error for coefficients [-2.7]: 18.756974453399803\n",
      "Training error for coefficients [-2.4]: 14.94930976756871\n",
      "Training error for coefficients [-2.1]: 11.5359901880372\n",
      "Training error for coefficients [-1.8]: 8.541422123862949\n",
      "Training error for coefficients [-1.5]: 5.98544400388202\n",
      "Training error for coefficients [-1.2000000000000002]: 3.880703377247434\n",
      "Training error for coefficients [-0.8999999999999999]: 2.2324913037716927\n",
      "Training error for coefficients [-0.6000000000000001]: 1.0398139396020427\n",
      "Training error for coefficients [-0.30000000000000027]: 0.2972881456632282\n",
      "Training error for coefficients [0.0]: 5.735060732370406e-15\n",
      "Training error for coefficients [0.2999999999999998]: 0.15762894526401489\n",
      "Training error for coefficients [0.5999999999999996]: 0.8371178527864935\n",
      "Training error for coefficients [0.8999999999999999]: 2.270169798714513\n",
      "Training error for coefficients [1.2000000000000002]: 4.9098722684955245\n",
      "Training error for coefficients [1.5]: 8.991687328606055\n",
      "Training error for coefficients [1.7999999999999998]: 14.269440124029806\n",
      "Training error for coefficients [2.0999999999999996]: 20.513401138512744\n",
      "Training error for coefficients [2.3999999999999995]: 27.629571535745733\n",
      "Training error for coefficients [2.7]: 35.53226047404735\n",
      "Training error for coefficients [3.0]: 44.10030148903827\n"
     ]
    },
    {
     "data": {
      "text/plain": [
       "Text(0,0.5,'Negative information gain')"
      ]
     },
     "execution_count": 25,
     "metadata": {},
     "output_type": "execute_result"
    },
    {
     "data": {
      "image/png": "[encoded data removed]",
      "text/plain": [
       "<Figure size 432x288 with 1 Axes>"
      ]
     },
     "metadata": {
      "needs_background": "light"
     },
     "output_type": "display_data"
    }
   ],
   "source": [
    "predictors = [\"ep_x\"]\n",
    "model = ExponentialGrowthModel(\n",
    "    predictors=predictors,\n",
    "    delta_time=delta_time,\n",
    "    l1_lambda=l1_lambda,\n",
    "    cost_function=negative_information_gain\n",
    ")\n",
    "\n",
    "errors = []\n",
    "for coefficient in coefficients:\n",
    "    error = model._fit([coefficient], X_with_pseudocounts, y_with_pseudocounts)\n",
    "    errors.append(error)\n",
    "    \n",
    "plt.plot(coefficients, errors, \"o\")\n",
    "plt.xlabel(\"Epitope cross-immunity coefficient\")\n",
    "plt.ylabel(\"Negative information gain\")"
   ]
  },
  {
   "cell_type": "code",
   "execution_count": 26,
   "metadata": {},
   "outputs": [
    {
     "name": "stdout",
     "output_type": "stream",
     "text": [
      "Training error for coefficients [-3.0]: 22.883149176893195\n",
      "Training error for coefficients [-2.7]: 18.717033844760582\n",
      "Training error for coefficients [-2.4]: 14.919242109862934\n",
      "Training error for coefficients [-2.1]: 11.51426037857541\n",
      "Training error for coefficients [-1.8]: 8.526586278840888\n",
      "Training error for coefficients [-1.5]: 5.976121838959449\n",
      "Training error for coefficients [-1.2000000000000002]: 3.8755767229420988\n",
      "Training error for coefficients [-0.8999999999999999]: 2.2303139845116005\n",
      "Training error for coefficients [-0.6000000000000001]: 1.0394203510838547\n",
      "Training error for coefficients [-0.30000000000000027]: 0.29759487212222635\n",
      "Training error for coefficients [0.0]: -3.8634528869302445e-06\n",
      "Training error for coefficients [0.2999999999999998]: 0.15633802640352773\n",
      "Training error for coefficients [0.5999999999999996]: 0.8334669423994341\n",
      "Training error for coefficients [0.8999999999999999]: 2.2626016506512605\n",
      "Training error for coefficients [1.2000000000000002]: 4.895756981366339\n",
      "Training error for coefficients [1.5]: 8.967777593883957\n",
      "Training error for coefficients [1.7999999999999998]: 14.233211970425819\n",
      "Training error for coefficients [2.0999999999999996]: 20.46314575021389\n",
      "Training error for coefficients [2.3999999999999995]: 27.563986401819406\n",
      "Training error for coefficients [2.7]: 35.450229590697234\n",
      "Training error for coefficients [3.0]: 44.00079563853416\n"
     ]
    },
    {
     "data": {
      "text/plain": [
       "Text(0,0.5,'Negative information gain')"
      ]
     },
     "execution_count": 26,
     "metadata": {},
     "output_type": "execute_result"
    },
    {
     "data": {
      "image/png": "[encoded data removed]",
      "text/plain": [
       "<Figure size 432x288 with 1 Axes>"
      ]
     },
     "metadata": {
      "needs_background": "light"
     },
     "output_type": "display_data"
    }
   ],
   "source": [
    "predictors = [\"ep_x\"]\n",
    "model = ExponentialGrowthModel(\n",
    "    predictors=predictors,\n",
    "    delta_time=delta_time,\n",
    "    l1_lambda=l1_lambda,\n",
    "    cost_function=negative_information_gain\n",
    ")\n",
    "\n",
    "errors = []\n",
    "for coefficient in coefficients:\n",
    "    error = model._fit([coefficient], X, y)\n",
    "    errors.append(error)\n",
    "    \n",
    "plt.plot(coefficients, errors, \"o\")\n",
    "plt.xlabel(\"Epitope cross-immunity coefficient\")\n",
    "plt.ylabel(\"Negative information gain\")"
   ]
  },
  {
   "cell_type": "code",
   "execution_count": 27,
   "metadata": {},
   "outputs": [
    {
     "name": "stdout",
     "output_type": "stream",
     "text": [
      "Training error for coefficients [-3.0, -3.0]: 100.20858034238022\n",
      "Training error for coefficients [-3.0, -2.7]: 94.88115178353684\n",
      "Training error for coefficients [-3.0, -2.4]: 89.83308343913856\n",
      "Training error for coefficients [-3.0, -2.1]: 85.07415713993974\n",
      "Training error for coefficients [-3.0, -1.8]: 80.62085578658875\n",
      "Training error for coefficients [-3.0, -1.5]: 76.49638622804389\n",
      "Training error for coefficients [-3.0, -1.2000000000000002]: 72.73071704063906\n",
      "Training error for coefficients [-3.0, -0.8999999999999999]: 69.36067166021121\n",
      "Training error for coefficients [-3.0, -0.6000000000000001]: 66.4288979421243\n",
      "Training error for coefficients [-3.0, -0.30000000000000027]: 63.98117046735106\n",
      "Training error for coefficients [-3.0, 0.0]: 62.07117046072003\n",
      "Training error for coefficients [-3.0, 0.2999999999999998]: 60.8107520246768\n",
      "Training error for coefficients [-3.0, 0.5999999999999996]: 60.53060606933494\n",
      "Training error for coefficients [-3.0, 0.8999999999999999]: 61.853781941650865\n",
      "Training error for coefficients [-3.0, 1.2000000000000002]: 65.07824687935774\n",
      "Training error for coefficients [-3.0, 1.5]: 69.9098653578996\n",
      "Training error for coefficients [-3.0, 1.7999999999999998]: 75.92757503327374\n",
      "Training error for coefficients [-3.0, 2.0999999999999996]: 82.81631776251218\n",
      "Training error for coefficients [-3.0, 2.3999999999999995]: 90.40332701792266\n",
      "Training error for coefficients [-3.0, 2.7]: 98.58277476002057\n",
      "Training error for coefficients [-3.0, 3.0]: 107.26361746936331\n",
      "Training error for coefficients [-2.7, -3.0]: 91.82071089341392\n",
      "Training error for coefficients [-2.7, -2.7]: 86.53276778071577\n",
      "Training error for coefficients [-2.7, -2.4]: 81.52689912185883\n",
      "Training error for coefficients [-2.7, -2.1]: 76.81398219820323\n",
      "Training error for coefficients [-2.7, -1.8]: 72.41186369787775\n",
      "Training error for coefficients [-2.7, -1.5]: 68.34547477659936\n",
      "Training error for coefficients [-2.7, -1.2000000000000002]: 64.64685062687525\n",
      "Training error for coefficients [-2.7, -0.8999999999999999]: 61.354667713645284\n",
      "Training error for coefficients [-2.7, -0.6000000000000001]: 58.51175064281719\n",
      "Training error for coefficients [-2.7, -0.30000000000000027]: 56.160741637522634\n",
      "Training error for coefficients [-2.7, 0.0]: 54.349008019085026\n",
      "Training error for coefficients [-2.7, 0.2999999999999998]: 53.17944444747119\n",
      "Training error for coefficients [-2.7, 0.5999999999999996]: 52.967925206665996\n",
      "Training error for coefficients [-2.7, 0.8999999999999999]: 54.331886867213115\n",
      "Training error for coefficients [-2.7, 1.2000000000000002]: 57.59109229756437\n",
      "Training error for coefficients [-2.7, 1.5]: 62.4565464932629\n",
      "Training error for coefficients [-2.7, 1.7999999999999998]: 68.51793207075329\n",
      "Training error for coefficients [-2.7, 2.0999999999999996]: 75.46696906122233\n",
      "Training error for coefficients [-2.7, 2.3999999999999995]: 83.12564901379272\n",
      "Training error for coefficients [-2.7, 2.7]: 91.38229526787828\n",
      "Training error for coefficients [-2.7, 3.0]: 100.14160564502775\n",
      "Training error for coefficients [-2.4, -3.0]: 83.48278976357227\n",
      "Training error for coefficients [-2.4, -2.7]: 78.24092378416128\n",
      "Training error for coefficients [-2.4, -2.4]: 73.28451427420512\n",
      "Training error for coefficients [-2.4, -2.1]: 68.62570599763265\n",
      "Training error for coefficients [-2.4, -1.8]: 64.28394337968771\n",
      "Training error for coefficients [-2.4, -1.5]: 60.286131416649894\n",
      "Training error for coefficients [-2.4, -1.2000000000000002]: 56.66645217028711\n",
      "Training error for coefficients [-2.4, -0.8999999999999999]: 53.4650032864707\n",
      "Training error for coefficients [-2.4, -0.6000000000000001]: 50.72368375815361\n",
      "Training error for coefficients [-2.4, -0.30000000000000027]: 48.48095768529891\n",
      "Training error for coefficients [-2.4, 0.0]: 46.77811222596032\n",
      "Training error for coefficients [-2.4, 0.2999999999999998]: 45.710184231735916\n",
      "Training error for coefficients [-2.4, 0.5999999999999996]: 45.577323211398834\n",
      "Training error for coefficients [-2.4, 0.8999999999999999]: 46.98666419547631\n",
      "Training error for coefficients [-2.4, 1.2000000000000002]: 50.27944072550761\n",
      "Training error for coefficients [-2.4, 1.5]: 55.173408810398506\n",
      "Training error for coefficients [-2.4, 1.7999999999999998]: 61.269168769857444\n",
      "Training error for coefficients [-2.4, 2.0999999999999996]: 68.26751572530603\n",
      "Training error for coefficients [-2.4, 2.3999999999999995]: 75.98615112520466\n",
      "Training error for coefficients [-2.4, 2.7]: 84.30764622309738\n",
      "Training error for coefficients [-2.4, 3.0]: 93.13289824639982\n",
      "Training error for coefficients [-2.1, -3.0]: 75.21123139601687\n",
      "Training error for coefficients [-2.1, -2.7]: 70.02401848302796\n",
      "Training error for coefficients [-2.1, -2.4]: 65.12648480248316\n",
      "Training error for coefficients [-2.1, -2.1]: 60.532255998861466\n",
      "Training error for coefficients [-2.1, -1.8]: 56.26263501026902\n",
      "Training error for coefficients [-2.1, -1.5]: 52.34670387251698\n",
      "Training error for coefficients [-2.1, -1.2000000000000002]: 48.8206674013911\n",
      "Training error for coefficients [-2.1, -0.8999999999999999]: 45.72525981727798\n",
      "Training error for coefficients [-2.1, -0.6000000000000001]: 43.10017290240438\n",
      "Training error for coefficients [-2.1, -0.30000000000000027]: 40.979038515885556\n",
      "Training error for coefficients [-2.1, 0.0]: 39.3978696216496\n",
      "Training error for coefficients [-2.1, 0.2999999999999998]: 38.444769548570946\n",
      "Training error for coefficients [-2.1, 0.5999999999999996]: 38.40204693382474\n",
      "Training error for coefficients [-2.1, 0.8999999999999999]: 39.85986773483896\n",
      "Training error for coefficients [-2.1, 1.2000000000000002]: 43.1805561033523\n",
      "Training error for coefficients [-2.1, 1.5]: 48.09195591349466\n",
      "Training error for coefficients [-2.1, 1.7999999999999998]: 54.20576971368168\n",
      "Training error for coefficients [-2.1, 2.0999999999999996]: 61.23542152143942\n",
      "Training error for coefficients [-2.1, 2.3999999999999995]: 68.99646013228116\n",
      "Training error for coefficients [-2.1, 2.7]: 77.36597317544663\n",
      "Training error for coefficients [-2.1, 3.0]: 86.24137895665994\n",
      "Training error for coefficients [-1.8, -3.0]: 67.02939987448737\n",
      "Training error for coefficients [-1.8, -2.7]: 61.90821285029629\n",
      "Training error for coefficients [-1.8, -2.4]: 57.08200552879889\n",
      "Training error for coefficients [-1.8, -2.1]: 52.56614237459918\n",
      "Training error for coefficients [-1.8, -1.8]: 48.3840443839905\n",
      "Training error for coefficients [-1.8, -1.5]: 44.56704158253251\n",
      "Training error for coefficients [-1.8, -1.2000000000000002]: 41.15290303797916\n",
      "Training error for coefficients [-1.8, -0.8999999999999999]: 38.1818207853251\n",
      "Training error for coefficients [-1.8, -0.6000000000000001]: 35.69000634425444\n",
      "Training error for coefficients [-1.8, -0.30000000000000027]: 33.70616133532801\n",
      "Training error for coefficients [-1.8, 0.0]: 32.2621146765771\n",
      "Training error for coefficients [-1.8, 0.2999999999999998]: 31.43921362186807\n",
      "Training error for coefficients [-1.8, 0.5999999999999996]: 31.498249494330356\n",
      "Training error for coefficients [-1.8, 0.8999999999999999]: 33.00381159661908\n",
      "Training error for coefficients [-1.8, 1.2000000000000002]: 36.33948942155584\n",
      "Training error for coefficients [-1.8, 1.5]: 41.24972086041639\n",
      "Training error for coefficients [-1.8, 1.7999999999999998]: 47.35747100072382\n",
      "Training error for coefficients [-1.8, 2.0999999999999996]: 54.39301002792389\n",
      "Training error for coefficients [-1.8, 2.3999999999999995]: 62.17320915959033\n",
      "Training error for coefficients [-1.8, 2.7]: 70.57009560327393\n",
      "Training error for coefficients [-1.8, 3.0]: 79.47761148093484\n",
      "Training error for coefficients [-1.5, -3.0]: 58.97073141670663\n",
      "Training error for coefficients [-1.5, -2.7]: 53.93069617414778\n",
      "Training error for coefficients [-1.5, -2.4]: 49.192350476585\n",
      "Training error for coefficients [-1.5, -2.1]: 44.773095687679806\n",
      "Training error for coefficients [-1.5, -1.8]: 40.69866879979056\n",
      "Training error for coefficients [-1.5, -1.5]: 37.00245164838053\n",
      "Training error for coefficients [-1.5, -1.2000000000000002]: 33.72284787944348\n",
      "Training error for coefficients [-1.5, -0.8999999999999999]: 30.897988171270036\n",
      "Training error for coefficients [-1.5, -0.6000000000000001]: 28.559578319917097\n",
      "Training error for coefficients [-1.5, -0.30000000000000027]: 26.731788570443037\n",
      "Training error for coefficients [-1.5, 0.0]: 25.443049887431897\n",
      "Training error for coefficients [-1.5, 0.2999999999999998]: 24.766806233790586\n",
      "Training error for coefficients [-1.5, 0.5999999999999996]: 24.93719310366975\n",
      "Training error for coefficients [-1.5, 0.8999999999999999]: 26.483381455500705\n",
      "Training error for coefficients [-1.5, 1.2000000000000002]: 29.811565685272793\n",
      "Training error for coefficients [-1.5, 1.5]: 34.693837475905696\n",
      "Training error for coefficients [-1.5, 1.7999999999999998]: 40.76427736462125\n",
      "Training error for coefficients [-1.5, 2.0999999999999996]: 47.77351247894046\n",
      "Training error for coefficients [-1.5, 2.3999999999999995]: 55.54460549136246\n",
      "Training error for coefficients [-1.5, 2.7]: 63.945351147874405\n",
      "Training error for coefficients [-1.5, 3.0]: 72.86577651161211\n",
      "Training error for coefficients [-1.2000000000000002, -3.0]: 51.08233763109285\n",
      "Training error for coefficients [-1.2000000000000002, -2.7]: 46.143416075683845\n",
      "Training error for coefficients [-1.2000000000000002, -2.4]: 41.51477342402909\n",
      "Training error for coefficients [-1.2000000000000002, -2.1]: 37.21614732102477\n",
      "Training error for coefficients [-1.2000000000000002, -1.8]: 33.275600282825955\n",
      "Training error for coefficients [-1.2000000000000002, -1.5]: 29.72791071377314\n",
      "Training error for coefficients [-1.2000000000000002, -1.2000000000000002]: 26.61062507636762\n",
      "Training error for coefficients [-1.2000000000000002, -0.8999999999999999]: 23.958133738900095\n",
      "Training error for coefficients [-1.2000000000000002, -0.6000000000000001]: 21.79701435300243\n",
      "Training error for coefficients [-1.2000000000000002, -0.30000000000000027]: 20.147381502206684\n",
      "Training error for coefficients [-1.2000000000000002, 0.0]: 19.03399749254337\n",
      "Training error for coefficients [-1.2000000000000002, 0.2999999999999998]: 18.519765096548767\n",
      "Training error for coefficients [-1.2000000000000002, 0.5999999999999996]: 18.806586627947276\n",
      "Training error for coefficients [-1.2000000000000002, 0.8999999999999999]: 20.37842907681066\n",
      "Training error for coefficients [-1.2000000000000002, 1.2000000000000002]: 23.666231411724542\n",
      "Training error for coefficients [-1.2000000000000002, 1.5]: 28.486138388921294\n",
      "Training error for coefficients [-1.2000000000000002, 1.7999999999999998]: 34.48282780763461\n",
      "Training error for coefficients [-1.2000000000000002, 2.0999999999999996]: 41.428248320593255\n",
      "Training error for coefficients [-1.2000000000000002, 2.3999999999999995]: 49.15765000910835\n",
      "Training error for coefficients [-1.2000000000000002, 2.7]: 57.53642013294493\n",
      "Training error for coefficients [-1.2000000000000002, 3.0]: 66.44978217717114\n",
      "Training error for coefficients [-0.8999999999999999, -3.0]: 43.429041240084416\n",
      "Training error for coefficients [-0.8999999999999999, -2.7]: 38.61743961792163\n",
      "Training error for coefficients [-0.8999999999999999, -2.4]: 34.127190974156626\n",
      "Training error for coefficients [-0.8999999999999999, -2.1]: 29.980533853381928\n",
      "Training error for coefficients [-0.8999999999999999, -1.8]: 26.207436295081692\n",
      "Training error for coefficients [-0.8999999999999999, -1.5]: 22.842732610105\n",
      "Training error for coefficients [-0.8999999999999999, -1.2000000000000002]: 19.921092182628808\n",
      "Training error for coefficients [-0.8999999999999999, -0.8999999999999999]: 17.471583260744897\n",
      "Training error for coefficients [-0.8999999999999999, -0.6000000000000001]: 15.515310925461756\n",
      "Training error for coefficients [-0.8999999999999999, -0.30000000000000027]: 14.068162141906654\n",
      "Training error for coefficients [-0.8999999999999999, 0.0]: 13.14948121946783\n",
      "Training error for coefficients [-0.8999999999999999, 0.2999999999999998]: 12.808368172540588\n",
      "Training error for coefficients [-0.8999999999999999, 0.5999999999999996]: 13.210441374332387\n",
      "Training error for coefficients [-0.8999999999999999, 0.8999999999999999]: 14.78582424590331\n",
      "Training error for coefficients [-0.8999999999999999, 1.2000000000000002]: 17.990790015160563\n",
      "Training error for coefficients [-0.8999999999999999, 1.5]: 22.707399101303707\n",
      "Training error for coefficients [-0.8999999999999999, 1.7999999999999998]: 28.59099395849264\n",
      "Training error for coefficients [-0.8999999999999999, 2.0999999999999996]: 35.431474590913936\n",
      "Training error for coefficients [-0.8999999999999999, 2.3999999999999995]: 43.0822386483196\n",
      "Training error for coefficients [-0.8999999999999999, 2.7]: 51.40989654263672\n",
      "Training error for coefficients [-0.8999999999999999, 3.0]: 60.29385997071592\n",
      "Training error for coefficients [-0.6000000000000001, -3.0]: 36.09897987689128\n",
      "Training error for coefficients [-0.6000000000000001, -2.7]: 31.449260565294804\n",
      "Training error for coefficients [-0.6000000000000001, -2.4]: 27.13497193526932\n",
      "Training error for coefficients [-0.6000000000000001, -2.1]: 23.180577595998837\n",
      "Training error for coefficients [-0.6000000000000001, -1.8]: 19.616746788899547\n",
      "Training error for coefficients [-0.6000000000000001, -1.5]: 16.47619451744545\n",
      "Training error for coefficients [-0.6000000000000001, -1.2000000000000002]: 13.788391610293381\n",
      "Training error for coefficients [-0.6000000000000001, -0.8999999999999999]: 11.575757413359629\n",
      "Training error for coefficients [-0.6000000000000001, -0.6000000000000001]: 9.853368165011712\n",
      "Training error for coefficients [-0.6000000000000001, -0.30000000000000027]: 8.63152587291486\n",
      "Training error for coefficients [-0.6000000000000001, 0.0]: 7.921631346442259\n",
      "Training error for coefficients [-0.6000000000000001, 0.2999999999999998]: 7.757123678881838\n",
      "Training error for coefficients [-0.6000000000000001, 0.5999999999999996]: 8.26669241265315\n",
      "Training error for coefficients [-0.6000000000000001, 0.8999999999999999]: 9.819322226585681\n",
      "Training error for coefficients [-0.6000000000000001, 1.2000000000000002]: 12.891280766069658\n",
      "Training error for coefficients [-0.6000000000000001, 1.5]: 17.457223676774028\n",
      "Training error for coefficients [-0.6000000000000001, 1.7999999999999998]: 23.186531726352037\n",
      "Training error for coefficients [-0.6000000000000001, 2.0999999999999996]: 29.87816585583674\n",
      "Training error for coefficients [-0.6000000000000001, 2.3999999999999995]: 37.407213830973404\n",
      "Training error for coefficients [-0.6000000000000001, 2.7]: 45.64763181545426\n",
      "Training error for coefficients [-0.6000000000000001, 3.0]: 54.47310666217419\n",
      "Training error for coefficients [-0.30000000000000027, -3.0]: 29.212726803209783\n",
      "Training error for coefficients [-0.30000000000000027, -2.7]: 24.77039533870418\n",
      "Training error for coefficients [-0.30000000000000027, -2.4]: 20.68035334352357\n",
      "Training error for coefficients [-0.30000000000000027, -2.1]: 16.968134905976868\n",
      "Training error for coefficients [-0.30000000000000027, -1.8]: 13.66284128529916\n",
      "Training error for coefficients [-0.30000000000000027, -1.5]: 10.792218885056744\n",
      "Training error for coefficients [-0.30000000000000027, -1.2000000000000002]: 8.378294209117321\n",
      "Training error for coefficients [-0.30000000000000027, -0.8999999999999999]: 6.43562541312512\n",
      "Training error for coefficients [-0.30000000000000027, -0.6000000000000001]: 4.972000605136683\n",
      "Training error for coefficients [-0.30000000000000027, -0.30000000000000027]: 3.99015534581958\n",
      "Training error for coefficients [-0.30000000000000027, 0.0]: 3.4923203905983744\n",
      "Training error for coefficients [-0.30000000000000027, 0.2999999999999998]: 3.4977323964240874\n",
      "Training error for coefficients [-0.30000000000000027, 0.5999999999999996]: 4.1013104423588285\n",
      "Training error for coefficients [-0.30000000000000027, 0.8999999999999999]: 5.604957783030835\n",
      "Training error for coefficients [-0.30000000000000027, 1.2000000000000002]: 8.48852091986246\n",
      "Training error for coefficients [-0.30000000000000027, 1.5]: 12.847491207691164\n",
      "Training error for coefficients [-0.30000000000000027, 1.7999999999999998]: 18.377660060882892\n",
      "Training error for coefficients [-0.30000000000000027, 2.0999999999999996]: 24.872561469734485\n",
      "Training error for coefficients [-0.30000000000000027, 2.3999999999999995]: 32.22728632458991\n",
      "Training error for coefficients [-0.30000000000000027, 2.7]: 40.33162473334943\n",
      "Training error for coefficients [-0.30000000000000027, 3.0]: 49.05713272084568\n",
      "Training error for coefficients [0.0, -3.0]: 22.93464487042579\n",
      "Training error for coefficients [0.0, -2.7]: 18.756974453399803\n",
      "Training error for coefficients [0.0, -2.4]: 14.94930976756871\n",
      "Training error for coefficients [0.0, -2.1]: 11.5359901880372\n",
      "Training error for coefficients [0.0, -1.8]: 8.541422123862949\n",
      "Training error for coefficients [0.0, -1.5]: 5.98544400388202\n",
      "Training error for coefficients [0.0, -1.2000000000000002]: 3.880703377247434\n",
      "Training error for coefficients [0.0, -0.8999999999999999]: 2.2324913037716927\n",
      "Training error for coefficients [0.0, -0.6000000000000001]: 1.0398139396020427\n",
      "Training error for coefficients [0.0, -0.30000000000000027]: 0.2972881456632282\n",
      "Training error for coefficients [0.0, 0.0]: 5.735060732370406e-15\n",
      "Training error for coefficients [0.0, 0.2999999999999998]: 0.15762894526401489\n",
      "Training error for coefficients [0.0, 0.5999999999999996]: 0.8371178527864935\n",
      "Training error for coefficients [0.0, 0.8999999999999999]: 2.270169798714513\n",
      "Training error for coefficients [0.0, 1.2000000000000002]: 4.9098722684955245\n",
      "Training error for coefficients [0.0, 1.5]: 8.991687328606055\n",
      "Training error for coefficients [0.0, 1.7999999999999998]: 14.269440124029806\n",
      "Training error for coefficients [0.0, 2.0999999999999996]: 20.513401138512744\n",
      "Training error for coefficients [0.0, 2.3999999999999995]: 27.629571535745733\n",
      "Training error for coefficients [0.0, 2.7]: 35.53226047404735\n",
      "Training error for coefficients [0.0, 3.0]: 44.10030148903827\n",
      "Training error for coefficients [0.2999999999999998, -3.0]: 17.4751562058689\n",
      "Training error for coefficients [0.2999999999999998, -2.7]: 13.62622275910707\n",
      "Training error for coefficients [0.2999999999999998, -2.4]: 10.162195386305013\n",
      "Training error for coefficients [0.2999999999999998, -2.1]: 7.103205501562446\n",
      "Training error for coefficients [0.2999999999999998, -1.8]: 4.465642982412696\n",
      "Training error for coefficients [0.2999999999999998, -1.5]: 2.258819219183166\n",
      "Training error for coefficients [0.2999999999999998, -1.2000000000000002]: 0.48425069198124393\n",
      "Training error for coefficients [0.2999999999999998, -0.8999999999999999]: -0.8631351325969729\n",
      "Training error for coefficients [0.2999999999999998, -0.6000000000000001]: -1.792807251401422\n",
      "Training error for coefficients [0.2999999999999998, -0.30000000000000027]: -2.3155271072886707\n",
      "Training error for coefficients [0.2999999999999998, 0.0]: -2.4385900596820047\n",
      "Training error for coefficients [0.2999999999999998, 0.2999999999999998]: -2.1562641468345833\n",
      "Training error for coefficients [0.2999999999999998, 0.5999999999999996]: -1.4226146182120765\n",
      "Training error for coefficients [0.2999999999999998, 0.8999999999999999]: -0.07339533389995534\n",
      "Training error for coefficients [0.2999999999999998, 1.2000000000000002]: 2.2786661948594524\n",
      "Training error for coefficients [0.2999999999999998, 1.5]: 5.997141882204467\n",
      "Training error for coefficients [0.2999999999999998, 1.7999999999999998]: 10.954722807531876\n",
      "Training error for coefficients [0.2999999999999998, 2.0999999999999996]: 16.887244520894487\n",
      "Training error for coefficients [0.2999999999999998, 2.3999999999999995]: 23.69213633368839\n",
      "Training error for coefficients [0.2999999999999998, 2.7]: 31.31224642347236\n",
      "Training error for coefficients [0.2999999999999998, 3.0]: 39.64839530516042\n",
      "Training error for coefficients [0.5999999999999996, -3.0]: 13.064355231191698\n",
      "Training error for coefficients [0.5999999999999996, -2.7]: 9.604345433370812\n",
      "Training error for coefficients [0.5999999999999996, -2.4]: 6.537737242146339\n",
      "Training error for coefficients [0.5999999999999996, -2.1]: 3.8767459168847007\n",
      "Training error for coefficients [0.5999999999999996, -1.8]: 1.6262354686016478\n",
      "Training error for coefficients [0.5999999999999996, -1.5]: -0.21730556381574906\n",
      "Training error for coefficients [0.5999999999999996, -1.2000000000000002]: -1.66412927041014\n",
      "Training error for coefficients [0.5999999999999996, -0.8999999999999999]: -2.7281901992961837\n",
      "Training error for coefficients [0.5999999999999996, -0.6000000000000001]: -3.4237046761761962\n",
      "Training error for coefficients [0.5999999999999996, -0.30000000000000027]: -3.7618404144033772\n",
      "Training error for coefficients [0.5999999999999996, 0.0]: -3.7475112185312054\n",
      "Training error for coefficients [0.5999999999999996, 0.2999999999999998]: -3.374488712341413\n",
      "Training error for coefficients [0.5999999999999996, 0.5999999999999996]: -2.6108040976904405\n",
      "Training error for coefficients [0.5999999999999996, 0.8999999999999999]: -1.3493974626358485\n",
      "Training error for coefficients [0.5999999999999996, 1.2000000000000002]: 0.7001511447260915\n",
      "Training error for coefficients [0.5999999999999996, 1.5]: 3.965920487035344\n",
      "Training error for coefficients [0.5999999999999996, 1.7999999999999998]: 8.514801063939196\n",
      "Training error for coefficients [0.5999999999999996, 2.0999999999999996]: 14.07247605243387\n",
      "Training error for coefficients [0.5999999999999996, 2.3999999999999995]: 20.493915631584713\n",
      "Training error for coefficients [0.5999999999999996, 2.7]: 27.74272474158331\n",
      "Training error for coefficients [0.5999999999999996, 3.0]: 35.756405499135056\n",
      "Training error for coefficients [0.8999999999999999, -3.0]: 9.899527123878428\n",
      "Training error for coefficients [0.8999999999999999, -2.7]: 6.8762173127571815\n",
      "Training error for coefficients [0.8999999999999999, -2.4]: 4.244313538598395\n",
      "Training error for coefficients [0.8999999999999999, -2.1]: 2.003169789424728\n",
      "Training error for coefficients [0.8999999999999999, -1.8]: 0.14339837032401914\n",
      "Training error for coefficients [0.8999999999999999, -1.5]: -1.3509246163693063\n",
      "Training error for coefficients [0.8999999999999999, -1.2000000000000002]: -2.4985906310476445\n",
      "Training error for coefficients [0.8999999999999999, -0.8999999999999999]: -3.317474416261246\n",
      "Training error for coefficients [0.8999999999999999, -0.6000000000000001]: -3.8213382997775027\n",
      "Training error for coefficients [0.8999999999999999, -0.30000000000000027]: -4.01755630061888\n",
      "Training error for coefficients [0.8999999999999999, 0.0]: -3.9057992667363868\n",
      "Training error for coefficients [0.8999999999999999, 0.2999999999999998]: -3.47680226668318\n",
      "Training error for coefficients [0.8999999999999999, 0.5999999999999996]: -2.706665666506762\n",
      "Training error for coefficients [0.8999999999999999, 0.8999999999999999]: -1.5303951974440761\n",
      "Training error for coefficients [0.8999999999999999, 1.2000000000000002]: 0.2400980486434383\n",
      "Training error for coefficients [0.8999999999999999, 1.5]: 2.997849771932968\n",
      "Training error for coefficients [0.8999999999999999, 1.7999999999999998]: 7.02767409674654\n",
      "Training error for coefficients [0.8999999999999999, 2.0999999999999996]: 12.142951504355256\n",
      "Training error for coefficients [0.8999999999999999, 2.3999999999999995]: 18.121279516310068\n",
      "Training error for coefficients [0.8999999999999999, 2.7]: 24.915948507730256\n",
      "Training error for coefficients [0.8999999999999999, 3.0]: 32.50591882344777\n",
      "Training error for coefficients [1.2000000000000002, -3.0]: 8.105024383464336\n",
      "Training error for coefficients [1.2000000000000002, -2.7]: 5.545803817251764\n",
      "Training error for coefficients [1.2000000000000002, -2.4]: 3.3580509110826657\n",
      "Training error for coefficients [1.2000000000000002, -2.1]: 1.5262203924317226\n",
      "Training error for coefficients [1.2000000000000002, -1.8]: 0.029051246959372445\n",
      "Training error for coefficients [1.2000000000000002, -1.5]: -1.156675413990942\n",
      "Training error for coefficients [1.2000000000000002, -1.2000000000000002]: -2.052387347993716\n",
      "Training error for coefficients [1.2000000000000002, -0.8999999999999999]: -2.674577628600958\n",
      "Training error for coefficients [1.2000000000000002, -0.6000000000000001]: -3.0326153460348557\n",
      "Training error for coefficients [1.2000000000000002, -0.30000000000000027]: -3.1277414868750704\n",
      "Training error for coefficients [1.2000000000000002, 0.0]: -2.953407563545137\n",
      "Training error for coefficients [1.2000000000000002, 0.2999999999999998]: -2.496680717669288\n",
      "Training error for coefficients [1.2000000000000002, 0.5999999999999996]: -1.7381320418979531\n",
      "Training error for coefficients [1.2000000000000002, 0.8999999999999999]: -0.6402136871129989\n",
      "Training error for coefficients [1.2000000000000002, 1.2000000000000002]: 0.9026456679703325\n",
      "Training error for coefficients [1.2000000000000002, 1.5]: 3.1732246019229473\n",
      "Training error for coefficients [1.2000000000000002, 1.7999999999999998]: 6.579268412606549\n",
      "Training error for coefficients [1.2000000000000002, 2.0999999999999996]: 11.164743725125948\n",
      "Training error for coefficients [1.2000000000000002, 2.3999999999999995]: 16.65804796074635\n",
      "Training error for coefficients [1.2000000000000002, 2.7]: 22.940067250901187\n",
      "Training error for coefficients [1.2000000000000002, 3.0]: 30.011526824542134\n",
      "Training error for coefficients [1.5, -3.0]: 7.711709315865897\n",
      "Training error for coefficients [1.5, -2.7]: 5.610134311037868\n",
      "Training error for coefficients [1.5, -2.4]: 3.8401001226590914\n",
      "Training error for coefficients [1.5, -2.1]: 2.3753452343544934\n",
      "Training error for coefficients [1.5, -1.8]: 1.188665701154946\n",
      "Training error for coefficients [1.5, -1.5]: 0.25557929180593364\n",
      "Training error for coefficients [1.5, -1.2000000000000002]: -0.44268578664070296\n",
      "Training error for coefficients [1.5, -0.8999999999999999]: -0.9172318386537255\n",
      "Training error for coefficients [1.5, -0.6000000000000001]: -1.1706296241096152\n",
      "Training error for coefficients [1.5, -0.30000000000000027]: -1.1971869861042133\n",
      "Training error for coefficients [1.5, 0.0]: -0.9846210130384769\n",
      "Training error for coefficients [1.5, 0.2999999999999998]: -0.5172256477871877\n",
      "Training error for coefficients [1.5, 0.5999999999999996]: 0.22125757574270777\n",
      "Training error for coefficients [1.5, 0.8999999999999999]: 1.2515242613757371\n",
      "Training error for coefficients [1.5, 1.2000000000000002]: 2.625257736679381\n",
      "Training error for coefficients [1.5, 1.5]: 4.505219613910372\n",
      "Training error for coefficients [1.5, 1.7999999999999998]: 7.25963712717843\n",
      "Training error for coefficients [1.5, 2.0999999999999996]: 11.198181708303053\n",
      "Training error for coefficients [1.5, 2.3999999999999995]: 16.161165624743987\n",
      "Training error for coefficients [1.5, 2.7]: 21.909142832007888\n",
      "Training error for coefficients [1.5, 3.0]: 28.401686808078615\n",
      "Training error for coefficients [1.7999999999999998, -3.0]: 8.654772071120407\n",
      "Training error for coefficients [1.7999999999999998, -2.7]: 6.970415541094287\n",
      "Training error for coefficients [1.7999999999999998, -2.4]: 5.563556182444394\n",
      "Training error for coefficients [1.7999999999999998, -2.1]: 4.4031901130235696\n",
      "Training error for coefficients [1.7999999999999998, -1.8]: 3.4624172841391343\n",
      "Training error for coefficients [1.7999999999999998, -1.5]: 2.7211274400774146\n",
      "Training error for coefficients [1.7999999999999998, -1.2000000000000002]: 2.167363918790278\n",
      "Training error for coefficients [1.7999999999999998, -0.8999999999999999]: 1.7976890728161932\n",
      "Training error for coefficients [1.7999999999999998, -0.6000000000000001]: 1.6168881676741897\n",
      "Training error for coefficients [1.7999999999999998, -0.30000000000000027]: 1.6368774829231074\n",
      "Training error for coefficients [1.7999999999999998, 0.0]: 1.8741736073969788\n",
      "Training error for coefficients [1.7999999999999998, 0.2999999999999998]: 2.345660356341469\n",
      "Training error for coefficients [1.7999999999999998, 0.5999999999999996]: 3.0644873144935305\n",
      "Training error for coefficients [1.7999999999999998, 0.8999999999999999]: 4.040911949259572\n",
      "Training error for coefficients [1.7999999999999998, 1.2000000000000002]: 5.29614115249887\n",
      "Training error for coefficients [1.7999999999999998, 1.5]: 6.9073342656069485\n",
      "Training error for coefficients [1.7999999999999998, 1.7999999999999998]: 9.109715310918446\n",
      "Training error for coefficients [1.7999999999999998, 2.0999999999999996]: 12.311238092148262\n",
      "Training error for coefficients [1.7999999999999998, 2.3999999999999995]: 16.65100673775232\n",
      "Training error for coefficients [1.7999999999999998, 2.7]: 21.860803679054747\n",
      "Training error for coefficients [1.7999999999999998, 3.0]: 27.76928572693445\n",
      "Training error for coefficients [2.0999999999999996, -3.0]: 10.811896580832213\n",
      "Training error for coefficients [2.0999999999999996, -2.7]: 9.477588003813427\n",
      "Training error for coefficients [2.0999999999999996, -2.4]: 8.359791581837804\n",
      "Training error for coefficients [2.0999999999999996, -2.1]: 7.430361238364728\n",
      "Training error for coefficients [2.0999999999999996, -1.8]: 6.668954141462487\n",
      "Training error for coefficients [2.0999999999999996, -1.5]: 6.0636481246186325\n",
      "Training error for coefficients [2.0999999999999996, -1.2000000000000002]: 5.61068649687612\n",
      "Training error for coefficients [2.0999999999999996, -0.8999999999999999]: 5.313960753240641\n",
      "Training error for coefficients [2.0999999999999996, -0.6000000000000001]: 5.184344417908218\n",
      "Training error for coefficients [2.0999999999999996, -0.30000000000000027]: 5.2382912198886675\n",
      "Training error for coefficients [2.0999999999999996, 0.0]: 5.494725312061257\n",
      "Training error for coefficients [2.0999999999999996, 0.2999999999999998]: 5.970151147301655\n",
      "Training error for coefficients [2.0999999999999996, 0.5999999999999996]: 6.6743533108215995\n",
      "Training error for coefficients [2.0999999999999996, 0.8999999999999999]: 7.610707555106655\n",
      "Training error for coefficients [2.0999999999999996, 1.2000000000000002]: 8.784400688257518\n",
      "Training error for coefficients [2.0999999999999996, 1.5]: 10.225160143946148\n",
      "Training error for coefficients [2.0999999999999996, 1.7999999999999998]: 12.048153441872252\n",
      "Training error for coefficients [2.0999999999999996, 2.0999999999999996]: 14.560993821786766\n",
      "Training error for coefficients [2.0999999999999996, 2.3999999999999995]: 18.146707801097662\n",
      "Training error for coefficients [2.0999999999999996, 2.7]: 22.766491977233066\n",
      "Training error for coefficients [2.0999999999999996, 3.0]: 28.12455293255718\n",
      "Training error for coefficients [2.3999999999999995, -3.0]: 14.028851484128484\n",
      "Training error for coefficients [2.3999999999999995, -2.7]: 12.958662560633677\n",
      "Training error for coefficients [2.3999999999999995, -2.4]: 12.049047889794725\n",
      "Training error for coefficients [2.3999999999999995, -2.1]: 11.280823835168945\n",
      "Training error for coefficients [2.3999999999999995, -1.8]: 10.642805551912462\n",
      "Training error for coefficients [2.3999999999999995, -1.5]: 10.131142846034644\n",
      "Training error for coefficients [2.3999999999999995, -1.2000000000000002]: 9.748710379334973\n",
      "Training error for coefficients [2.3999999999999995, -0.8999999999999999]: 9.504710517055294\n",
      "Training error for coefficients [2.3999999999999995, -0.6000000000000001]: 9.414142440582616\n",
      "Training error for coefficients [2.3999999999999995, -0.30000000000000027]: 9.496205855044582\n",
      "Training error for coefficients [2.3999999999999995, 0.0]: 9.770616102424599\n",
      "Training error for coefficients [2.3999999999999995, 0.2999999999999998]: 10.252277922343922\n",
      "Training error for coefficients [2.3999999999999995, 0.5999999999999996]: 10.947369432389088\n",
      "Training error for coefficients [2.3999999999999995, 0.8999999999999999]: 11.854240611389859\n",
      "Training error for coefficients [2.3999999999999995, 1.2000000000000002]: 12.969563180847633\n",
      "Training error for coefficients [2.3999999999999995, 1.5]: 14.30013147794849\n",
      "Training error for coefficients [2.3999999999999995, 1.7999999999999998]: 15.891390862948349\n",
      "Training error for coefficients [2.3999999999999995, 2.0999999999999996]: 17.90401966288111\n",
      "Training error for coefficients [2.3999999999999995, 2.3999999999999995]: 20.703911883948322\n",
      "Training error for coefficients [2.3999999999999995, 2.7]: 24.59555643797122\n",
      "Training error for coefficients [2.3999999999999995, 3.0]: 29.39967085273728\n",
      "Training error for coefficients [2.7, -3.0]: 18.131794988283524\n",
      "Training error for coefficients [2.7, -2.7]: 17.242241624454973\n",
      "Training error for coefficients [2.7, -2.4]: 16.472411526241466\n",
      "Training error for coefficients [2.7, -2.1]: 15.81267183065076\n",
      "Training error for coefficients [2.7, -1.8]: 15.259372576429373\n",
      "Training error for coefficients [2.7, -1.5]: 14.814259888629357\n",
      "Training error for coefficients [2.7, -1.2000000000000002]: 14.484358370179587\n",
      "Training error for coefficients [2.7, -0.8999999999999999]: 14.282062122448615\n",
      "Training error for coefficients [2.7, -0.6000000000000001]: 14.224772732808692\n",
      "Training error for coefficients [2.7, -0.30000000000000027]: 14.332976277042391\n",
      "Training error for coefficients [2.7, 0.0]: 14.625910691561252\n",
      "Training error for coefficients [2.7, 0.2999999999999998]: 15.115984642672622\n",
      "Training error for coefficients [2.7, 0.5999999999999996]: 15.805590642461372\n",
      "Training error for coefficients [2.7, 0.8999999999999999]: 16.688987047998367\n",
      "Training error for coefficients [2.7, 1.2000000000000002]: 17.757863254194028\n",
      "Training error for coefficients [2.7, 1.5]: 19.008420840744115\n",
      "Training error for coefficients [2.7, 1.7999999999999998]: 20.45390746099772\n",
      "Training error for coefficients [2.7, 2.0999999999999996]: 22.16096225696726\n",
      "Training error for coefficients [2.7, 2.3999999999999995]: 24.34199028657659\n",
      "Training error for coefficients [2.7, 2.7]: 27.400996475963364\n",
      "Training error for coefficients [2.7, 3.0]: 31.533177561138984\n",
      "Training error for coefficients [3.0, -3.0]: 22.96015316162409\n",
      "Training error for coefficients [3.0, -2.7]: 22.18917523470349\n",
      "Training error for coefficients [3.0, -2.4]: 21.512941541927\n",
      "Training error for coefficients [3.0, -2.1]: 20.928514469422147\n",
      "Training error for coefficients [3.0, -1.8]: 20.436903662033064\n",
      "Training error for coefficients [3.0, -1.5]: 20.043027989586797\n",
      "Training error for coefficients [3.0, -1.2000000000000002]: 19.756147076767057\n",
      "Training error for coefficients [3.0, -0.8999999999999999]: 19.59033602040047\n",
      "Training error for coefficients [3.0, -0.6000000000000001]: 19.56414106455015\n",
      "Training error for coefficients [3.0, -0.30000000000000027]: 19.6981931898177\n",
      "Training error for coefficients [3.0, 0.0]: 20.010233222819437\n",
      "Training error for coefficients [3.0, 0.2999999999999998]: 20.509503353351757\n",
      "Training error for coefficients [3.0, 0.5999999999999996]: 21.194529453106533\n",
      "Training error for coefficients [3.0, 0.8999999999999999]: 22.056079631538886\n",
      "Training error for coefficients [3.0, 1.2000000000000002]: 23.08271416375047\n",
      "Training error for coefficients [3.0, 1.5]: 24.266000263591305\n",
      "Training error for coefficients [3.0, 1.7999999999999998]: 25.6065472893664\n",
      "Training error for coefficients [3.0, 2.0999999999999996]: 27.128945021221213\n",
      "Training error for coefficients [3.0, 2.3999999999999995]: 28.92822986180326\n",
      "Training error for coefficients [3.0, 2.7]: 31.272417901744497\n",
      "Training error for coefficients [3.0, 3.0]: 34.575908875753676\n"
     ]
    }
   ],
   "source": [
    "predictors = [\"lbi\", \"ep_x\"]\n",
    "delta_time = 1.0\n",
    "l1_lambda = 0.0\n",
    "\n",
    "model = ExponentialGrowthModel(\n",
    "    predictors=predictors,\n",
    "    delta_time=delta_time,\n",
    "    l1_lambda=l1_lambda,\n",
    "    cost_function=negative_information_gain\n",
    ")\n",
    "\n",
    "records = []\n",
    "errors_by_first_coefficient = {}\n",
    "for coefficient_i in coefficients:\n",
    "    errors = []\n",
    "    for coefficient_j in coefficients:\n",
    "        error = model._fit([coefficient_i, coefficient_j], X_with_pseudocounts, y_with_pseudocounts)\n",
    "        errors.append(error)\n",
    "        records.append({\n",
    "            \"lbi\": coefficient_i,\n",
    "            \"ep_x\": coefficient_j,\n",
    "            \"error\": error\n",
    "        })\n",
    "    \n",
    "    errors_by_first_coefficient[coefficient_i] = errors"
   ]
  },
  {
   "cell_type": "code",
   "execution_count": 28,
   "metadata": {},
   "outputs": [
    {
     "data": {
      "image/png": "[encoded data removed]",
      "text/plain": [
       "<Figure size 1440x1440 with 24 Axes>"
      ]
     },
     "metadata": {
      "needs_background": "light"
     },
     "output_type": "display_data"
    }
   ],
   "source": [
    "fig, axes = plt.subplots(6, 4, figsize=(20, 20), gridspec_kw={\"hspace\": 0.75}, sharey=True)\n",
    "\n",
    "for ci, coefficient_i in enumerate(sorted(errors_by_first_coefficient.keys())):\n",
    "    ax = axes.flatten()[ci]\n",
    "    \n",
    "    errors = errors_by_first_coefficient[coefficient_i]\n",
    "    ax.plot(coefficients, errors, \"o\")\n",
    "    ax.set_xlabel(\"Epitope cross-immunity model coefficient\")\n",
    "    ax.set_ylabel(\"Negative information gain\")\n",
    "    ax.set_title(\"LBI coefficient: %.2f\" % coefficient_i)"
   ]
  },
  {
   "cell_type": "code",
   "execution_count": 29,
   "metadata": {},
   "outputs": [
    {
     "data": {
      "text/html": [
       "<div>\n",
       "<style scoped>\n",
       "    .dataframe tbody tr th:only-of-type {\n",
       "        vertical-align: middle;\n",
       "    }\n",
       "\n",
       "    .dataframe tbody tr th {\n",
       "        vertical-align: top;\n",
       "    }\n",
       "\n",
       "    .dataframe thead th {\n",
       "        text-align: right;\n",
       "    }\n",
       "</style>\n",
       "<table border=\"1\" class=\"dataframe\">\n",
       "  <thead>\n",
       "    <tr style=\"text-align: right;\">\n",
       "      <th></th>\n",
       "      <th>ep_x</th>\n",
       "      <th>error</th>\n",
       "      <th>lbi</th>\n",
       "    </tr>\n",
       "  </thead>\n",
       "  <tbody>\n",
       "    <tr>\n",
       "      <th>282</th>\n",
       "      <td>-0.3</td>\n",
       "      <td>-4.017556</td>\n",
       "      <td>0.9</td>\n",
       "    </tr>\n",
       "    <tr>\n",
       "      <th>283</th>\n",
       "      <td>0.0</td>\n",
       "      <td>-3.905799</td>\n",
       "      <td>0.9</td>\n",
       "    </tr>\n",
       "    <tr>\n",
       "      <th>281</th>\n",
       "      <td>-0.6</td>\n",
       "      <td>-3.821338</td>\n",
       "      <td>0.9</td>\n",
       "    </tr>\n",
       "    <tr>\n",
       "      <th>261</th>\n",
       "      <td>-0.3</td>\n",
       "      <td>-3.761840</td>\n",
       "      <td>0.6</td>\n",
       "    </tr>\n",
       "    <tr>\n",
       "      <th>262</th>\n",
       "      <td>0.0</td>\n",
       "      <td>-3.747511</td>\n",
       "      <td>0.6</td>\n",
       "    </tr>\n",
       "  </tbody>\n",
       "</table>\n",
       "</div>"
      ],
      "text/plain": [
       "     ep_x     error  lbi\n",
       "282  -0.3 -4.017556  0.9\n",
       "283   0.0 -3.905799  0.9\n",
       "281  -0.6 -3.821338  0.9\n",
       "261  -0.3 -3.761840  0.6\n",
       "262   0.0 -3.747511  0.6"
      ]
     },
     "execution_count": 29,
     "metadata": {},
     "output_type": "execute_result"
    }
   ],
   "source": [
    "records_df = pd.DataFrame(records)\n",
    "records_df.sort_values(\"error\").head()"
   ]
  },
  {
   "cell_type": "code",
   "execution_count": null,
   "metadata": {},
   "outputs": [],
   "source": []
  }
 ],
 "metadata": {
  "kernelspec": {
   "display_name": "Python 3",
   "language": "python",
   "name": "python3"
  },
  "language_info": {
   "codemirror_mode": {
    "name": "ipython",
    "version": 3
   },
   "file_extension": ".py",
   "mimetype": "text/x-python",
   "name": "python",
   "nbconvert_exporter": "python",
   "pygments_lexer": "ipython3",
   "version": "3.6.7"
  }
 },
 "nbformat": 4,
 "nbformat_minor": 2
}
