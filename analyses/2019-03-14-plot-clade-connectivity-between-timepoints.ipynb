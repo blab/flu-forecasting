{
 "cells": [
  {
   "cell_type": "markdown",
   "metadata": {},
   "source": [
    "# Plot clade connectivity between timepoints\n",
    "\n",
    "To ensure that clades are connected between timepoints, enabling model fitting across timepoints for all clades, plot the first timepoint each clade occurs in a network and connect adjacent clades with edges based on traversal of the tips-to-clades map for all timepoints."
   ]
  },
  {
   "cell_type": "code",
   "execution_count": 161,
   "metadata": {},
   "outputs": [],
   "source": [
    "import json\n",
    "import matplotlib.pyplot as plt\n",
    "import matplotlib.gridspec as gridspec\n",
    "import networkx as nx\n",
    "import numpy as np\n",
    "import pandas as pd\n",
    "import seaborn as sns\n",
    "\n",
    "%matplotlib inline\n",
    "\n",
    "plt.style.use(\"huddlej\")"
   ]
  },
  {
   "cell_type": "code",
   "execution_count": 162,
   "metadata": {},
   "outputs": [
    {
     "name": "stdout",
     "output_type": "stream",
     "text": [
      "/Users/jlhudd/projects/nextstrain/flu-forecasting/analyses\n"
     ]
    }
   ],
   "source": [
    "!pwd"
   ]
  },
  {
   "cell_type": "code",
   "execution_count": 163,
   "metadata": {},
   "outputs": [],
   "source": [
    "data_path = \"../results/builds/h3n2/5_viruses_per_month/sample_0/2005-10-01--2015-10-01/tips_to_clades.tsv\""
   ]
  },
  {
   "cell_type": "code",
   "execution_count": 164,
   "metadata": {},
   "outputs": [],
   "source": [
    "df = pd.read_csv(data_path, sep=\"\\t\", parse_dates=[\"timepoint\"])"
   ]
  },
  {
   "cell_type": "code",
   "execution_count": 165,
   "metadata": {},
   "outputs": [
    {
     "data": {
      "text/plain": [
       "(37408, 6)"
      ]
     },
     "execution_count": 165,
     "metadata": {},
     "output_type": "execute_result"
    }
   ],
   "source": [
    "df.shape"
   ]
  },
  {
   "cell_type": "code",
   "execution_count": 166,
   "metadata": {},
   "outputs": [
    {
     "data": {
      "text/html": [
       "<div>\n",
       "<style scoped>\n",
       "    .dataframe tbody tr th:only-of-type {\n",
       "        vertical-align: middle;\n",
       "    }\n",
       "\n",
       "    .dataframe tbody tr th {\n",
       "        vertical-align: top;\n",
       "    }\n",
       "\n",
       "    .dataframe thead th {\n",
       "        text-align: right;\n",
       "    }\n",
       "</style>\n",
       "<table border=\"1\" class=\"dataframe\">\n",
       "  <thead>\n",
       "    <tr style=\"text-align: right;\">\n",
       "      <th></th>\n",
       "      <th>tip</th>\n",
       "      <th>clade_membership</th>\n",
       "      <th>depth</th>\n",
       "      <th>lineage</th>\n",
       "      <th>segment</th>\n",
       "      <th>timepoint</th>\n",
       "    </tr>\n",
       "  </thead>\n",
       "  <tbody>\n",
       "    <tr>\n",
       "      <th>0</th>\n",
       "      <td>A/Indonesia/1204/2005</td>\n",
       "      <td>root</td>\n",
       "      <td>1</td>\n",
       "      <td>h3n2</td>\n",
       "      <td>ha</td>\n",
       "      <td>2009-10-01</td>\n",
       "    </tr>\n",
       "    <tr>\n",
       "      <th>1</th>\n",
       "      <td>A/Indonesia/2094/2006</td>\n",
       "      <td>root</td>\n",
       "      <td>1</td>\n",
       "      <td>h3n2</td>\n",
       "      <td>ha</td>\n",
       "      <td>2009-10-01</td>\n",
       "    </tr>\n",
       "    <tr>\n",
       "      <th>2</th>\n",
       "      <td>A/Indonesia/1142/2006</td>\n",
       "      <td>root</td>\n",
       "      <td>1</td>\n",
       "      <td>h3n2</td>\n",
       "      <td>ha</td>\n",
       "      <td>2009-10-01</td>\n",
       "    </tr>\n",
       "    <tr>\n",
       "      <th>3</th>\n",
       "      <td>A/Hanoi/TN403/2005</td>\n",
       "      <td>root</td>\n",
       "      <td>1</td>\n",
       "      <td>h3n2</td>\n",
       "      <td>ha</td>\n",
       "      <td>2009-10-01</td>\n",
       "    </tr>\n",
       "    <tr>\n",
       "      <th>4</th>\n",
       "      <td>A/India/1132/2005</td>\n",
       "      <td>root</td>\n",
       "      <td>1</td>\n",
       "      <td>h3n2</td>\n",
       "      <td>ha</td>\n",
       "      <td>2009-10-01</td>\n",
       "    </tr>\n",
       "  </tbody>\n",
       "</table>\n",
       "</div>"
      ],
      "text/plain": [
       "                     tip clade_membership  depth lineage segment  timepoint\n",
       "0  A/Indonesia/1204/2005             root      1    h3n2      ha 2009-10-01\n",
       "1  A/Indonesia/2094/2006             root      1    h3n2      ha 2009-10-01\n",
       "2  A/Indonesia/1142/2006             root      1    h3n2      ha 2009-10-01\n",
       "3     A/Hanoi/TN403/2005             root      1    h3n2      ha 2009-10-01\n",
       "4      A/India/1132/2005             root      1    h3n2      ha 2009-10-01"
      ]
     },
     "execution_count": 166,
     "metadata": {},
     "output_type": "execute_result"
    }
   ],
   "source": [
    "df.head()"
   ]
  },
  {
   "cell_type": "code",
   "execution_count": 167,
   "metadata": {},
   "outputs": [],
   "source": [
    "sorted_df = df.sort_values([\"timepoint\", \"tip\", \"depth\"]).copy()"
   ]
  },
  {
   "cell_type": "code",
   "execution_count": 168,
   "metadata": {},
   "outputs": [
    {
     "data": {
      "text/html": [
       "<div>\n",
       "<style scoped>\n",
       "    .dataframe tbody tr th:only-of-type {\n",
       "        vertical-align: middle;\n",
       "    }\n",
       "\n",
       "    .dataframe tbody tr th {\n",
       "        vertical-align: top;\n",
       "    }\n",
       "\n",
       "    .dataframe thead th {\n",
       "        text-align: right;\n",
       "    }\n",
       "</style>\n",
       "<table border=\"1\" class=\"dataframe\">\n",
       "  <thead>\n",
       "    <tr style=\"text-align: right;\">\n",
       "      <th></th>\n",
       "      <th>tip</th>\n",
       "      <th>clade_membership</th>\n",
       "      <th>depth</th>\n",
       "      <th>lineage</th>\n",
       "      <th>segment</th>\n",
       "      <th>timepoint</th>\n",
       "    </tr>\n",
       "  </thead>\n",
       "  <tbody>\n",
       "    <tr>\n",
       "      <th>1638</th>\n",
       "      <td>A/Afghanistan/AF1171/2008</td>\n",
       "      <td>6e2b4c7</td>\n",
       "      <td>1</td>\n",
       "      <td>h3n2</td>\n",
       "      <td>ha</td>\n",
       "      <td>2009-10-01</td>\n",
       "    </tr>\n",
       "    <tr>\n",
       "      <th>1639</th>\n",
       "      <td>A/Afghanistan/AF1171/2008</td>\n",
       "      <td>02aea16</td>\n",
       "      <td>2</td>\n",
       "      <td>h3n2</td>\n",
       "      <td>ha</td>\n",
       "      <td>2009-10-01</td>\n",
       "    </tr>\n",
       "    <tr>\n",
       "      <th>1640</th>\n",
       "      <td>A/Afghanistan/AF1171/2008</td>\n",
       "      <td>c3f5f3d</td>\n",
       "      <td>4</td>\n",
       "      <td>h3n2</td>\n",
       "      <td>ha</td>\n",
       "      <td>2009-10-01</td>\n",
       "    </tr>\n",
       "    <tr>\n",
       "      <th>1641</th>\n",
       "      <td>A/Afghanistan/AF1171/2008</td>\n",
       "      <td>4b9bac7</td>\n",
       "      <td>5</td>\n",
       "      <td>h3n2</td>\n",
       "      <td>ha</td>\n",
       "      <td>2009-10-01</td>\n",
       "    </tr>\n",
       "    <tr>\n",
       "      <th>1642</th>\n",
       "      <td>A/Afghanistan/AF1171/2008</td>\n",
       "      <td>c512845</td>\n",
       "      <td>6</td>\n",
       "      <td>h3n2</td>\n",
       "      <td>ha</td>\n",
       "      <td>2009-10-01</td>\n",
       "    </tr>\n",
       "  </tbody>\n",
       "</table>\n",
       "</div>"
      ],
      "text/plain": [
       "                            tip clade_membership  depth lineage segment  \\\n",
       "1638  A/Afghanistan/AF1171/2008          6e2b4c7      1    h3n2      ha   \n",
       "1639  A/Afghanistan/AF1171/2008          02aea16      2    h3n2      ha   \n",
       "1640  A/Afghanistan/AF1171/2008          c3f5f3d      4    h3n2      ha   \n",
       "1641  A/Afghanistan/AF1171/2008          4b9bac7      5    h3n2      ha   \n",
       "1642  A/Afghanistan/AF1171/2008          c512845      6    h3n2      ha   \n",
       "\n",
       "      timepoint  \n",
       "1638 2009-10-01  \n",
       "1639 2009-10-01  \n",
       "1640 2009-10-01  \n",
       "1641 2009-10-01  \n",
       "1642 2009-10-01  "
      ]
     },
     "execution_count": 168,
     "metadata": {},
     "output_type": "execute_result"
    }
   ],
   "source": [
    "sorted_df.head()"
   ]
  },
  {
   "cell_type": "code",
   "execution_count": 169,
   "metadata": {},
   "outputs": [
    {
     "data": {
      "text/plain": [
       "(112,)"
      ]
     },
     "execution_count": 169,
     "metadata": {},
     "output_type": "execute_result"
    }
   ],
   "source": [
    "sorted_df[\"clade_membership\"].unique().shape"
   ]
  },
  {
   "cell_type": "markdown",
   "metadata": {},
   "source": [
    "Create a graph that will connect all adjacent clades (essentially the original tree) and note the first timepoint each clade was observed."
   ]
  },
  {
   "cell_type": "code",
   "execution_count": 170,
   "metadata": {},
   "outputs": [],
   "source": [
    "tree = nx.Graph()\n",
    "\n",
    "timepoint_by_clade_name = {\"root\": df[\"timepoint\"].min() - pd.DateOffset(months=6)}\n",
    "clade_id_by_name = {\"root\": 50}\n",
    "observed_tips = set()\n",
    "\n",
    "current_timepoint = None\n",
    "for timepoint, timepoint_df in sorted_df.groupby(\"timepoint\"):\n",
    "    clade_counter = 0\n",
    "    for tip, tip_df in timepoint_df.groupby(\"tip\"):\n",
    "        # Only consider the clade linkages for tips once when that tip is first observed.\n",
    "        if tip in observed_tips:\n",
    "            continue\n",
    "        \n",
    "        observed_tips.add(tip)\n",
    "        clades = tip_df[\"clade_membership\"].values\n",
    "\n",
    "        # Loop through clades, adding edges between adjacent clades.\n",
    "        for i in range(len(clades)):\n",
    "            # Make sure each clade is represented in the tree.\n",
    "            tree.add_node(clades[i])\n",
    "\n",
    "            # Link each clade after the first one back to its relative.\n",
    "            if i > 0:\n",
    "                tree.add_edge(clades[i], clades[i - 1])\n",
    "\n",
    "            # Note the first timepoint each clade was observed.\n",
    "            if clades[i] not in timepoint_by_clade_name:\n",
    "                timepoint_by_clade_name[clades[i]] = timepoint\n",
    "                clade_id_by_name[clades[i]] = clade_counter\n",
    "                clade_counter += 5"
   ]
  },
  {
   "cell_type": "code",
   "execution_count": 171,
   "metadata": {},
   "outputs": [
    {
     "data": {
      "text/plain": [
       "'A/Zhuhai/902/2008'"
      ]
     },
     "execution_count": 171,
     "metadata": {},
     "output_type": "execute_result"
    }
   ],
   "source": [
    "tip"
   ]
  },
  {
   "cell_type": "code",
   "execution_count": 172,
   "metadata": {},
   "outputs": [
    {
     "data": {
      "text/plain": [
       "AtlasView({'779a52a': {}, 'a309aae': {}, '9389fa7': {}})"
      ]
     },
     "execution_count": 172,
     "metadata": {},
     "output_type": "execute_result"
    }
   ],
   "source": [
    "tree[\"root\"]"
   ]
  },
  {
   "cell_type": "code",
   "execution_count": 173,
   "metadata": {},
   "outputs": [
    {
     "data": {
      "text/html": [
       "<div>\n",
       "<style scoped>\n",
       "    .dataframe tbody tr th:only-of-type {\n",
       "        vertical-align: middle;\n",
       "    }\n",
       "\n",
       "    .dataframe tbody tr th {\n",
       "        vertical-align: top;\n",
       "    }\n",
       "\n",
       "    .dataframe thead th {\n",
       "        text-align: right;\n",
       "    }\n",
       "</style>\n",
       "<table border=\"1\" class=\"dataframe\">\n",
       "  <thead>\n",
       "    <tr style=\"text-align: right;\">\n",
       "      <th></th>\n",
       "      <th>tip</th>\n",
       "      <th>clade_membership</th>\n",
       "      <th>depth</th>\n",
       "      <th>lineage</th>\n",
       "      <th>segment</th>\n",
       "      <th>timepoint</th>\n",
       "    </tr>\n",
       "  </thead>\n",
       "  <tbody>\n",
       "    <tr>\n",
       "      <th>31215</th>\n",
       "      <td>A/Zhuhai/902/2008</td>\n",
       "      <td>fc8ccca</td>\n",
       "      <td>1</td>\n",
       "      <td>h3n2</td>\n",
       "      <td>ha</td>\n",
       "      <td>2012-10-01</td>\n",
       "    </tr>\n",
       "    <tr>\n",
       "      <th>31216</th>\n",
       "      <td>A/Zhuhai/902/2008</td>\n",
       "      <td>475ef64</td>\n",
       "      <td>3</td>\n",
       "      <td>h3n2</td>\n",
       "      <td>ha</td>\n",
       "      <td>2012-10-01</td>\n",
       "    </tr>\n",
       "    <tr>\n",
       "      <th>31217</th>\n",
       "      <td>A/Zhuhai/902/2008</td>\n",
       "      <td>c512845</td>\n",
       "      <td>12</td>\n",
       "      <td>h3n2</td>\n",
       "      <td>ha</td>\n",
       "      <td>2012-10-01</td>\n",
       "    </tr>\n",
       "    <tr>\n",
       "      <th>31218</th>\n",
       "      <td>A/Zhuhai/902/2008</td>\n",
       "      <td>20ca0a9</td>\n",
       "      <td>27</td>\n",
       "      <td>h3n2</td>\n",
       "      <td>ha</td>\n",
       "      <td>2012-10-01</td>\n",
       "    </tr>\n",
       "    <tr>\n",
       "      <th>31219</th>\n",
       "      <td>A/Zhuhai/902/2008</td>\n",
       "      <td>7c85126</td>\n",
       "      <td>28</td>\n",
       "      <td>h3n2</td>\n",
       "      <td>ha</td>\n",
       "      <td>2012-10-01</td>\n",
       "    </tr>\n",
       "    <tr>\n",
       "      <th>31220</th>\n",
       "      <td>A/Zhuhai/902/2008</td>\n",
       "      <td>779a52a</td>\n",
       "      <td>30</td>\n",
       "      <td>h3n2</td>\n",
       "      <td>ha</td>\n",
       "      <td>2012-10-01</td>\n",
       "    </tr>\n",
       "    <tr>\n",
       "      <th>31221</th>\n",
       "      <td>A/Zhuhai/902/2008</td>\n",
       "      <td>root</td>\n",
       "      <td>32</td>\n",
       "      <td>h3n2</td>\n",
       "      <td>ha</td>\n",
       "      <td>2012-10-01</td>\n",
       "    </tr>\n",
       "  </tbody>\n",
       "</table>\n",
       "</div>"
      ],
      "text/plain": [
       "                     tip clade_membership  depth lineage segment  timepoint\n",
       "31215  A/Zhuhai/902/2008          fc8ccca      1    h3n2      ha 2012-10-01\n",
       "31216  A/Zhuhai/902/2008          475ef64      3    h3n2      ha 2012-10-01\n",
       "31217  A/Zhuhai/902/2008          c512845     12    h3n2      ha 2012-10-01\n",
       "31218  A/Zhuhai/902/2008          20ca0a9     27    h3n2      ha 2012-10-01\n",
       "31219  A/Zhuhai/902/2008          7c85126     28    h3n2      ha 2012-10-01\n",
       "31220  A/Zhuhai/902/2008          779a52a     30    h3n2      ha 2012-10-01\n",
       "31221  A/Zhuhai/902/2008             root     32    h3n2      ha 2012-10-01"
      ]
     },
     "execution_count": 173,
     "metadata": {},
     "output_type": "execute_result"
    }
   ],
   "source": [
    "tip_df"
   ]
  },
  {
   "cell_type": "code",
   "execution_count": 174,
   "metadata": {},
   "outputs": [
    {
     "data": {
      "text/plain": [
       "96"
      ]
     },
     "execution_count": 174,
     "metadata": {},
     "output_type": "execute_result"
    }
   ],
   "source": [
    "tree.number_of_nodes()"
   ]
  },
  {
   "cell_type": "code",
   "execution_count": 175,
   "metadata": {},
   "outputs": [
    {
     "data": {
      "text/plain": [
       "109"
      ]
     },
     "execution_count": 175,
     "metadata": {},
     "output_type": "execute_result"
    }
   ],
   "source": [
    "tree.number_of_edges()"
   ]
  },
  {
   "cell_type": "code",
   "execution_count": 176,
   "metadata": {},
   "outputs": [
    {
     "data": {
      "text/plain": [
       "30"
      ]
     },
     "execution_count": 176,
     "metadata": {},
     "output_type": "execute_result"
    }
   ],
   "source": [
    "clade_counter"
   ]
  },
  {
   "cell_type": "code",
   "execution_count": 177,
   "metadata": {},
   "outputs": [],
   "source": [
    "positions = {clade: (timepoint_by_clade_name[clade].year + ((timepoint_by_clade_name[clade].month - 1) / 12.0), clade_id_by_name[clade])\n",
    "             for clade in timepoint_by_clade_name}"
   ]
  },
  {
   "cell_type": "code",
   "execution_count": 178,
   "metadata": {},
   "outputs": [
    {
     "data": {
      "text/plain": [
       "[('root', (2009.25, 50)),\n",
       " ('6e2b4c7', (2009.75, 0)),\n",
       " ('02aea16', (2009.75, 5)),\n",
       " ('c3f5f3d', (2009.75, 10)),\n",
       " ('4b9bac7', (2009.75, 15)),\n",
       " ('c512845', (2009.75, 20)),\n",
       " ('20ca0a9', (2009.75, 25)),\n",
       " ('7c85126', (2009.75, 30)),\n",
       " ('779a52a', (2009.75, 35)),\n",
       " ('2c8e712', (2009.75, 40))]"
      ]
     },
     "execution_count": 178,
     "metadata": {},
     "output_type": "execute_result"
    }
   ],
   "source": [
    "list(positions.items())[:10]"
   ]
  },
  {
   "cell_type": "code",
   "execution_count": 179,
   "metadata": {},
   "outputs": [
    {
     "data": {
      "image/png": "[encoded data removed]",
      "text/plain": [
       "<Figure size 600x600 with 1 Axes>"
      ]
     },
     "metadata": {},
     "output_type": "display_data"
    }
   ],
   "source": [
    "fig, ax = plt.subplots(1, 1, figsize=(6, 6))\n",
    "nx.draw(\n",
    "    tree,\n",
    "    pos=positions,\n",
    "    ax=ax,\n",
    "    node_size=10\n",
    ")\n",
    "plt.tight_layout()"
   ]
  },
  {
   "cell_type": "markdown",
   "metadata": {},
   "source": [
    "Look for nodes without any edges."
   ]
  },
  {
   "cell_type": "code",
   "execution_count": 180,
   "metadata": {},
   "outputs": [
    {
     "data": {
      "text/plain": [
       "[]"
      ]
     },
     "execution_count": 180,
     "metadata": {},
     "output_type": "execute_result"
    }
   ],
   "source": [
    "[node for node in tree if len(tree[node]) == 0]"
   ]
  },
  {
   "cell_type": "markdown",
   "metadata": {},
   "source": [
    "Look for nodes from the last timepoint that connect to nodes from more than one timepoint in the past."
   ]
  },
  {
   "cell_type": "code",
   "execution_count": 181,
   "metadata": {},
   "outputs": [],
   "source": [
    "recent_clades = [clade\n",
    "                 for clade, timepoint in timepoint_by_clade_name.items()\n",
    "                 if timepoint == df[\"timepoint\"].max()]"
   ]
  },
  {
   "cell_type": "code",
   "execution_count": 182,
   "metadata": {},
   "outputs": [
    {
     "data": {
      "text/plain": [
       "['2a0ba9c', 'c380fce', '2998a82', '4ad67a4', '28d8a67', '256721e']"
      ]
     },
     "execution_count": 182,
     "metadata": {},
     "output_type": "execute_result"
    }
   ],
   "source": [
    "recent_clades"
   ]
  },
  {
   "cell_type": "code",
   "execution_count": 204,
   "metadata": {},
   "outputs": [
    {
     "name": "stdout",
     "output_type": "stream",
     "text": [
      "28d8a67\n"
     ]
    }
   ],
   "source": [
    "broken_clade = None\n",
    "for recent_clade in recent_clades:\n",
    "    for ancestor in tree[recent_clade]:\n",
    "        delta = timepoint_by_clade_name[recent_clade] - timepoint_by_clade_name[ancestor]\n",
    "        if delta.days > 400:\n",
    "            print(recent_clade)\n",
    "            broken_clade = recent_clade\n",
    "            break\n",
    "            \n",
    "    if broken_clade is not None:\n",
    "        break"
   ]
  },
  {
   "cell_type": "code",
   "execution_count": 205,
   "metadata": {},
   "outputs": [
    {
     "data": {
      "text/plain": [
       "'28d8a67'"
      ]
     },
     "execution_count": 205,
     "metadata": {},
     "output_type": "execute_result"
    }
   ],
   "source": [
    "recent_clade"
   ]
  },
  {
   "cell_type": "code",
   "execution_count": 206,
   "metadata": {},
   "outputs": [
    {
     "data": {
      "text/html": [
       "<div>\n",
       "<style scoped>\n",
       "    .dataframe tbody tr th:only-of-type {\n",
       "        vertical-align: middle;\n",
       "    }\n",
       "\n",
       "    .dataframe tbody tr th {\n",
       "        vertical-align: top;\n",
       "    }\n",
       "\n",
       "    .dataframe thead th {\n",
       "        text-align: right;\n",
       "    }\n",
       "</style>\n",
       "<table border=\"1\" class=\"dataframe\">\n",
       "  <thead>\n",
       "    <tr style=\"text-align: right;\">\n",
       "      <th></th>\n",
       "      <th>tip</th>\n",
       "      <th>clade_membership</th>\n",
       "      <th>depth</th>\n",
       "      <th>lineage</th>\n",
       "      <th>segment</th>\n",
       "      <th>timepoint</th>\n",
       "    </tr>\n",
       "  </thead>\n",
       "  <tbody>\n",
       "    <tr>\n",
       "      <th>33078</th>\n",
       "      <td>A/Yamanashi/182/2010</td>\n",
       "      <td>28d8a67</td>\n",
       "      <td>1</td>\n",
       "      <td>h3n2</td>\n",
       "      <td>ha</td>\n",
       "      <td>2012-10-01</td>\n",
       "    </tr>\n",
       "    <tr>\n",
       "      <th>33088</th>\n",
       "      <td>A/HoChiMinh/5677/2010</td>\n",
       "      <td>28d8a67</td>\n",
       "      <td>1</td>\n",
       "      <td>h3n2</td>\n",
       "      <td>ha</td>\n",
       "      <td>2012-10-01</td>\n",
       "    </tr>\n",
       "    <tr>\n",
       "      <th>33098</th>\n",
       "      <td>A/HoChiMinh/6388/2010</td>\n",
       "      <td>28d8a67</td>\n",
       "      <td>1</td>\n",
       "      <td>h3n2</td>\n",
       "      <td>ha</td>\n",
       "      <td>2012-10-01</td>\n",
       "    </tr>\n",
       "    <tr>\n",
       "      <th>33108</th>\n",
       "      <td>A/Alabama/5/2010</td>\n",
       "      <td>28d8a67</td>\n",
       "      <td>1</td>\n",
       "      <td>h3n2</td>\n",
       "      <td>ha</td>\n",
       "      <td>2012-10-01</td>\n",
       "    </tr>\n",
       "    <tr>\n",
       "      <th>33118</th>\n",
       "      <td>A/Vietnam/838/2010</td>\n",
       "      <td>28d8a67</td>\n",
       "      <td>1</td>\n",
       "      <td>h3n2</td>\n",
       "      <td>ha</td>\n",
       "      <td>2012-10-01</td>\n",
       "    </tr>\n",
       "  </tbody>\n",
       "</table>\n",
       "</div>"
      ],
      "text/plain": [
       "                         tip clade_membership  depth lineage segment  \\\n",
       "33078   A/Yamanashi/182/2010          28d8a67      1    h3n2      ha   \n",
       "33088  A/HoChiMinh/5677/2010          28d8a67      1    h3n2      ha   \n",
       "33098  A/HoChiMinh/6388/2010          28d8a67      1    h3n2      ha   \n",
       "33108       A/Alabama/5/2010          28d8a67      1    h3n2      ha   \n",
       "33118     A/Vietnam/838/2010          28d8a67      1    h3n2      ha   \n",
       "\n",
       "       timepoint  \n",
       "33078 2012-10-01  \n",
       "33088 2012-10-01  \n",
       "33098 2012-10-01  \n",
       "33108 2012-10-01  \n",
       "33118 2012-10-01  "
      ]
     },
     "execution_count": 206,
     "metadata": {},
     "output_type": "execute_result"
    }
   ],
   "source": [
    "df[df[\"clade_membership\"] == broken_clade]"
   ]
  },
  {
   "cell_type": "code",
   "execution_count": 203,
   "metadata": {},
   "outputs": [
    {
     "data": {
      "text/plain": [
       "(71, 6)"
      ]
     },
     "execution_count": 203,
     "metadata": {},
     "output_type": "execute_result"
    }
   ],
   "source": [
    "df[df[\"clade_membership\"] == broken_clade].shape"
   ]
  },
  {
   "cell_type": "code",
   "execution_count": 188,
   "metadata": {},
   "outputs": [],
   "source": [
    "bahia_df = df[(df[\"tip\"] == \"A/Bahia/100/2011\") & (df[\"timepoint\"] == \"2012-04-01\")]"
   ]
  },
  {
   "cell_type": "code",
   "execution_count": 189,
   "metadata": {},
   "outputs": [
    {
     "data": {
      "text/html": [
       "<div>\n",
       "<style scoped>\n",
       "    .dataframe tbody tr th:only-of-type {\n",
       "        vertical-align: middle;\n",
       "    }\n",
       "\n",
       "    .dataframe tbody tr th {\n",
       "        vertical-align: top;\n",
       "    }\n",
       "\n",
       "    .dataframe thead th {\n",
       "        text-align: right;\n",
       "    }\n",
       "</style>\n",
       "<table border=\"1\" class=\"dataframe\">\n",
       "  <thead>\n",
       "    <tr style=\"text-align: right;\">\n",
       "      <th></th>\n",
       "      <th>tip</th>\n",
       "      <th>clade_membership</th>\n",
       "      <th>depth</th>\n",
       "      <th>lineage</th>\n",
       "      <th>segment</th>\n",
       "      <th>timepoint</th>\n",
       "    </tr>\n",
       "  </thead>\n",
       "  <tbody>\n",
       "    <tr>\n",
       "      <th>26875</th>\n",
       "      <td>A/Bahia/100/2011</td>\n",
       "      <td>93a23e6</td>\n",
       "      <td>1</td>\n",
       "      <td>h3n2</td>\n",
       "      <td>ha</td>\n",
       "      <td>2012-04-01</td>\n",
       "    </tr>\n",
       "    <tr>\n",
       "      <th>26876</th>\n",
       "      <td>A/Bahia/100/2011</td>\n",
       "      <td>e4e39db</td>\n",
       "      <td>4</td>\n",
       "      <td>h3n2</td>\n",
       "      <td>ha</td>\n",
       "      <td>2012-04-01</td>\n",
       "    </tr>\n",
       "    <tr>\n",
       "      <th>26877</th>\n",
       "      <td>A/Bahia/100/2011</td>\n",
       "      <td>c3e824d</td>\n",
       "      <td>23</td>\n",
       "      <td>h3n2</td>\n",
       "      <td>ha</td>\n",
       "      <td>2012-04-01</td>\n",
       "    </tr>\n",
       "    <tr>\n",
       "      <th>26878</th>\n",
       "      <td>A/Bahia/100/2011</td>\n",
       "      <td>23082c4</td>\n",
       "      <td>25</td>\n",
       "      <td>h3n2</td>\n",
       "      <td>ha</td>\n",
       "      <td>2012-04-01</td>\n",
       "    </tr>\n",
       "    <tr>\n",
       "      <th>26879</th>\n",
       "      <td>A/Bahia/100/2011</td>\n",
       "      <td>475ef64</td>\n",
       "      <td>27</td>\n",
       "      <td>h3n2</td>\n",
       "      <td>ha</td>\n",
       "      <td>2012-04-01</td>\n",
       "    </tr>\n",
       "    <tr>\n",
       "      <th>26880</th>\n",
       "      <td>A/Bahia/100/2011</td>\n",
       "      <td>c512845</td>\n",
       "      <td>53</td>\n",
       "      <td>h3n2</td>\n",
       "      <td>ha</td>\n",
       "      <td>2012-04-01</td>\n",
       "    </tr>\n",
       "    <tr>\n",
       "      <th>26881</th>\n",
       "      <td>A/Bahia/100/2011</td>\n",
       "      <td>18d08a3</td>\n",
       "      <td>67</td>\n",
       "      <td>h3n2</td>\n",
       "      <td>ha</td>\n",
       "      <td>2012-04-01</td>\n",
       "    </tr>\n",
       "    <tr>\n",
       "      <th>26882</th>\n",
       "      <td>A/Bahia/100/2011</td>\n",
       "      <td>4f7d9e7</td>\n",
       "      <td>69</td>\n",
       "      <td>h3n2</td>\n",
       "      <td>ha</td>\n",
       "      <td>2012-04-01</td>\n",
       "    </tr>\n",
       "    <tr>\n",
       "      <th>26883</th>\n",
       "      <td>A/Bahia/100/2011</td>\n",
       "      <td>779a52a</td>\n",
       "      <td>70</td>\n",
       "      <td>h3n2</td>\n",
       "      <td>ha</td>\n",
       "      <td>2012-04-01</td>\n",
       "    </tr>\n",
       "    <tr>\n",
       "      <th>26884</th>\n",
       "      <td>A/Bahia/100/2011</td>\n",
       "      <td>root</td>\n",
       "      <td>72</td>\n",
       "      <td>h3n2</td>\n",
       "      <td>ha</td>\n",
       "      <td>2012-04-01</td>\n",
       "    </tr>\n",
       "  </tbody>\n",
       "</table>\n",
       "</div>"
      ],
      "text/plain": [
       "                    tip clade_membership  depth lineage segment  timepoint\n",
       "26875  A/Bahia/100/2011          93a23e6      1    h3n2      ha 2012-04-01\n",
       "26876  A/Bahia/100/2011          e4e39db      4    h3n2      ha 2012-04-01\n",
       "26877  A/Bahia/100/2011          c3e824d     23    h3n2      ha 2012-04-01\n",
       "26878  A/Bahia/100/2011          23082c4     25    h3n2      ha 2012-04-01\n",
       "26879  A/Bahia/100/2011          475ef64     27    h3n2      ha 2012-04-01\n",
       "26880  A/Bahia/100/2011          c512845     53    h3n2      ha 2012-04-01\n",
       "26881  A/Bahia/100/2011          18d08a3     67    h3n2      ha 2012-04-01\n",
       "26882  A/Bahia/100/2011          4f7d9e7     69    h3n2      ha 2012-04-01\n",
       "26883  A/Bahia/100/2011          779a52a     70    h3n2      ha 2012-04-01\n",
       "26884  A/Bahia/100/2011             root     72    h3n2      ha 2012-04-01"
      ]
     },
     "execution_count": 189,
     "metadata": {},
     "output_type": "execute_result"
    }
   ],
   "source": [
    "bahia_df"
   ]
  },
  {
   "cell_type": "code",
   "execution_count": 190,
   "metadata": {},
   "outputs": [],
   "source": [
    "parana_df = df[(df[\"tip\"] == \"A/Parana/415/2012\") & (df[\"timepoint\"] == \"2012-10-01\")]"
   ]
  },
  {
   "cell_type": "code",
   "execution_count": 191,
   "metadata": {},
   "outputs": [
    {
     "data": {
      "text/html": [
       "<div>\n",
       "<style scoped>\n",
       "    .dataframe tbody tr th:only-of-type {\n",
       "        vertical-align: middle;\n",
       "    }\n",
       "\n",
       "    .dataframe tbody tr th {\n",
       "        vertical-align: top;\n",
       "    }\n",
       "\n",
       "    .dataframe thead th {\n",
       "        text-align: right;\n",
       "    }\n",
       "</style>\n",
       "<table border=\"1\" class=\"dataframe\">\n",
       "  <thead>\n",
       "    <tr style=\"text-align: right;\">\n",
       "      <th></th>\n",
       "      <th>tip</th>\n",
       "      <th>clade_membership</th>\n",
       "      <th>depth</th>\n",
       "      <th>lineage</th>\n",
       "      <th>segment</th>\n",
       "      <th>timepoint</th>\n",
       "    </tr>\n",
       "  </thead>\n",
       "  <tbody>\n",
       "    <tr>\n",
       "      <th>33325</th>\n",
       "      <td>A/Parana/415/2012</td>\n",
       "      <td>2998a82</td>\n",
       "      <td>1</td>\n",
       "      <td>h3n2</td>\n",
       "      <td>ha</td>\n",
       "      <td>2012-10-01</td>\n",
       "    </tr>\n",
       "    <tr>\n",
       "      <th>33326</th>\n",
       "      <td>A/Parana/415/2012</td>\n",
       "      <td>93a23e6</td>\n",
       "      <td>4</td>\n",
       "      <td>h3n2</td>\n",
       "      <td>ha</td>\n",
       "      <td>2012-10-01</td>\n",
       "    </tr>\n",
       "    <tr>\n",
       "      <th>33327</th>\n",
       "      <td>A/Parana/415/2012</td>\n",
       "      <td>e4e39db</td>\n",
       "      <td>6</td>\n",
       "      <td>h3n2</td>\n",
       "      <td>ha</td>\n",
       "      <td>2012-10-01</td>\n",
       "    </tr>\n",
       "    <tr>\n",
       "      <th>33328</th>\n",
       "      <td>A/Parana/415/2012</td>\n",
       "      <td>c3e824d</td>\n",
       "      <td>8</td>\n",
       "      <td>h3n2</td>\n",
       "      <td>ha</td>\n",
       "      <td>2012-10-01</td>\n",
       "    </tr>\n",
       "    <tr>\n",
       "      <th>33329</th>\n",
       "      <td>A/Parana/415/2012</td>\n",
       "      <td>23082c4</td>\n",
       "      <td>10</td>\n",
       "      <td>h3n2</td>\n",
       "      <td>ha</td>\n",
       "      <td>2012-10-01</td>\n",
       "    </tr>\n",
       "    <tr>\n",
       "      <th>33330</th>\n",
       "      <td>A/Parana/415/2012</td>\n",
       "      <td>475ef64</td>\n",
       "      <td>12</td>\n",
       "      <td>h3n2</td>\n",
       "      <td>ha</td>\n",
       "      <td>2012-10-01</td>\n",
       "    </tr>\n",
       "    <tr>\n",
       "      <th>33331</th>\n",
       "      <td>A/Parana/415/2012</td>\n",
       "      <td>c512845</td>\n",
       "      <td>26</td>\n",
       "      <td>h3n2</td>\n",
       "      <td>ha</td>\n",
       "      <td>2012-10-01</td>\n",
       "    </tr>\n",
       "    <tr>\n",
       "      <th>33332</th>\n",
       "      <td>A/Parana/415/2012</td>\n",
       "      <td>20ca0a9</td>\n",
       "      <td>41</td>\n",
       "      <td>h3n2</td>\n",
       "      <td>ha</td>\n",
       "      <td>2012-10-01</td>\n",
       "    </tr>\n",
       "    <tr>\n",
       "      <th>33333</th>\n",
       "      <td>A/Parana/415/2012</td>\n",
       "      <td>7c85126</td>\n",
       "      <td>42</td>\n",
       "      <td>h3n2</td>\n",
       "      <td>ha</td>\n",
       "      <td>2012-10-01</td>\n",
       "    </tr>\n",
       "    <tr>\n",
       "      <th>33334</th>\n",
       "      <td>A/Parana/415/2012</td>\n",
       "      <td>779a52a</td>\n",
       "      <td>44</td>\n",
       "      <td>h3n2</td>\n",
       "      <td>ha</td>\n",
       "      <td>2012-10-01</td>\n",
       "    </tr>\n",
       "    <tr>\n",
       "      <th>33335</th>\n",
       "      <td>A/Parana/415/2012</td>\n",
       "      <td>root</td>\n",
       "      <td>46</td>\n",
       "      <td>h3n2</td>\n",
       "      <td>ha</td>\n",
       "      <td>2012-10-01</td>\n",
       "    </tr>\n",
       "  </tbody>\n",
       "</table>\n",
       "</div>"
      ],
      "text/plain": [
       "                     tip clade_membership  depth lineage segment  timepoint\n",
       "33325  A/Parana/415/2012          2998a82      1    h3n2      ha 2012-10-01\n",
       "33326  A/Parana/415/2012          93a23e6      4    h3n2      ha 2012-10-01\n",
       "33327  A/Parana/415/2012          e4e39db      6    h3n2      ha 2012-10-01\n",
       "33328  A/Parana/415/2012          c3e824d      8    h3n2      ha 2012-10-01\n",
       "33329  A/Parana/415/2012          23082c4     10    h3n2      ha 2012-10-01\n",
       "33330  A/Parana/415/2012          475ef64     12    h3n2      ha 2012-10-01\n",
       "33331  A/Parana/415/2012          c512845     26    h3n2      ha 2012-10-01\n",
       "33332  A/Parana/415/2012          20ca0a9     41    h3n2      ha 2012-10-01\n",
       "33333  A/Parana/415/2012          7c85126     42    h3n2      ha 2012-10-01\n",
       "33334  A/Parana/415/2012          779a52a     44    h3n2      ha 2012-10-01\n",
       "33335  A/Parana/415/2012             root     46    h3n2      ha 2012-10-01"
      ]
     },
     "execution_count": 191,
     "metadata": {},
     "output_type": "execute_result"
    }
   ],
   "source": [
    "parana_df"
   ]
  },
  {
   "cell_type": "code",
   "execution_count": 192,
   "metadata": {},
   "outputs": [],
   "source": [
    "tips = pd.read_csv(\"../results/builds/h3n2/5_viruses_per_month/sample_0/2005-10-01--2015-10-01/standardized_tip_attributes.tsv\",\n",
    "                   sep=\"\\t\", parse_dates=[\"timepoint\"])\n",
    "tips = tips.loc[\n",
    "    tips[\"segment\"] == \"ha\",\n",
    "    [\"strain\", \"clade_membership\", \"timepoint\", \"frequency\"]\n",
    "].copy()"
   ]
  },
  {
   "cell_type": "code",
   "execution_count": 193,
   "metadata": {},
   "outputs": [
    {
     "data": {
      "text/html": [
       "<div>\n",
       "<style scoped>\n",
       "    .dataframe tbody tr th:only-of-type {\n",
       "        vertical-align: middle;\n",
       "    }\n",
       "\n",
       "    .dataframe tbody tr th {\n",
       "        vertical-align: top;\n",
       "    }\n",
       "\n",
       "    .dataframe thead th {\n",
       "        text-align: right;\n",
       "    }\n",
       "</style>\n",
       "<table border=\"1\" class=\"dataframe\">\n",
       "  <thead>\n",
       "    <tr style=\"text-align: right;\">\n",
       "      <th></th>\n",
       "      <th>strain</th>\n",
       "      <th>clade_membership</th>\n",
       "      <th>timepoint</th>\n",
       "      <th>frequency</th>\n",
       "    </tr>\n",
       "  </thead>\n",
       "  <tbody>\n",
       "    <tr>\n",
       "      <th>180</th>\n",
       "      <td>A/Bahia/100/2011</td>\n",
       "      <td>e4e39db</td>\n",
       "      <td>2011-04-01</td>\n",
       "      <td>0.022784</td>\n",
       "    </tr>\n",
       "  </tbody>\n",
       "</table>\n",
       "</div>"
      ],
      "text/plain": [
       "               strain clade_membership  timepoint  frequency\n",
       "180  A/Bahia/100/2011          e4e39db 2011-04-01   0.022784"
      ]
     },
     "execution_count": 193,
     "metadata": {},
     "output_type": "execute_result"
    }
   ],
   "source": [
    "tips[tips[\"strain\"] == \"A/Bahia/100/2011\"]"
   ]
  },
  {
   "cell_type": "code",
   "execution_count": 194,
   "metadata": {},
   "outputs": [],
   "source": [
    "# Identify distinct clades per timepoint.\n",
    "clades = tips.loc[:, [\"timepoint\", \"clade_membership\"]].drop_duplicates().copy()\n",
    "clades = clades.rename(columns={\"timepoint\": \"initial_timepoint\"})"
   ]
  },
  {
   "cell_type": "code",
   "execution_count": 195,
   "metadata": {},
   "outputs": [
    {
     "data": {
      "text/html": [
       "<div>\n",
       "<style scoped>\n",
       "    .dataframe tbody tr th:only-of-type {\n",
       "        vertical-align: middle;\n",
       "    }\n",
       "\n",
       "    .dataframe tbody tr th {\n",
       "        vertical-align: top;\n",
       "    }\n",
       "\n",
       "    .dataframe thead th {\n",
       "        text-align: right;\n",
       "    }\n",
       "</style>\n",
       "<table border=\"1\" class=\"dataframe\">\n",
       "  <thead>\n",
       "    <tr style=\"text-align: right;\">\n",
       "      <th></th>\n",
       "      <th>initial_timepoint</th>\n",
       "      <th>clade_membership</th>\n",
       "    </tr>\n",
       "  </thead>\n",
       "  <tbody>\n",
       "    <tr>\n",
       "      <th>112</th>\n",
       "      <td>2010-10-01</td>\n",
       "      <td>e4e39db</td>\n",
       "    </tr>\n",
       "    <tr>\n",
       "      <th>179</th>\n",
       "      <td>2011-04-01</td>\n",
       "      <td>e4e39db</td>\n",
       "    </tr>\n",
       "    <tr>\n",
       "      <th>257</th>\n",
       "      <td>2011-10-01</td>\n",
       "      <td>e4e39db</td>\n",
       "    </tr>\n",
       "    <tr>\n",
       "      <th>444</th>\n",
       "      <td>2012-10-01</td>\n",
       "      <td>e4e39db</td>\n",
       "    </tr>\n",
       "  </tbody>\n",
       "</table>\n",
       "</div>"
      ],
      "text/plain": [
       "    initial_timepoint clade_membership\n",
       "112        2010-10-01          e4e39db\n",
       "179        2011-04-01          e4e39db\n",
       "257        2011-10-01          e4e39db\n",
       "444        2012-10-01          e4e39db"
      ]
     },
     "execution_count": 195,
     "metadata": {},
     "output_type": "execute_result"
    }
   ],
   "source": [
    "clades[clades[\"clade_membership\"] == \"e4e39db\"]"
   ]
  },
  {
   "cell_type": "code",
   "execution_count": null,
   "metadata": {},
   "outputs": [],
   "source": []
  }
 ],
 "metadata": {
  "kernelspec": {
   "display_name": "Python 3",
   "language": "python",
   "name": "python3"
  },
  "language_info": {
   "codemirror_mode": {
    "name": "ipython",
    "version": 3
   },
   "file_extension": ".py",
   "mimetype": "text/x-python",
   "name": "python",
   "nbconvert_exporter": "python",
   "pygments_lexer": "ipython3",
   "version": "3.6.7"
  }
 },
 "nbformat": 4,
 "nbformat_minor": 2
}
