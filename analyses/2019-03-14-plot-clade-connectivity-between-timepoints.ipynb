{
 "cells": [
  {
   "cell_type": "markdown",
   "metadata": {},
   "source": [
    "# Plot clade connectivity between timepoints\n",
    "\n",
    "To ensure that clades are connected between timepoints, enabling model fitting across timepoints for all clades, plot the first timepoint each clade occurs in a network and connect adjacent clades with edges based on traversal of the tips-to-clades map for all timepoints."
   ]
  },
  {
   "cell_type": "code",
   "execution_count": 81,
   "metadata": {},
   "outputs": [],
   "source": [
    "from collections import defaultdict\n",
    "import json\n",
    "import matplotlib.pyplot as plt\n",
    "import matplotlib.gridspec as gridspec\n",
    "import networkx as nx\n",
    "import numpy as np\n",
    "import pandas as pd\n",
    "import seaborn as sns\n",
    "\n",
    "%matplotlib inline\n",
    "\n",
    "plt.style.use(\"huddlej\")"
   ]
  },
  {
   "cell_type": "code",
   "execution_count": 82,
   "metadata": {},
   "outputs": [
    {
     "name": "stdout",
     "output_type": "stream",
     "text": [
      "/Users/jlhudd/projects/nextstrain/flu-forecasting/analyses\n"
     ]
    }
   ],
   "source": [
    "!pwd"
   ]
  },
  {
   "cell_type": "code",
   "execution_count": 83,
   "metadata": {},
   "outputs": [],
   "source": [
    "tips = pd.read_csv(\"../results/builds/h3n2/5_viruses_per_month/sample_0/2000-10-01--2015-10-01/standardized_tip_attributes.tsv\",\n",
    "                   sep=\"\\t\", parse_dates=[\"timepoint\"])\n",
    "tips = tips.loc[\n",
    "    tips[\"segment\"] == \"ha\",\n",
    "    [\"strain\", \"clade_membership\", \"timepoint\", \"frequency\"]\n",
    "].copy()"
   ]
  },
  {
   "cell_type": "code",
   "execution_count": 84,
   "metadata": {},
   "outputs": [],
   "source": [
    "valid_tips = tips.strain.unique()"
   ]
  },
  {
   "cell_type": "code",
   "execution_count": 85,
   "metadata": {},
   "outputs": [
    {
     "data": {
      "text/plain": [
       "(1835,)"
      ]
     },
     "execution_count": 85,
     "metadata": {},
     "output_type": "execute_result"
    }
   ],
   "source": [
    "valid_tips.shape"
   ]
  },
  {
   "cell_type": "code",
   "execution_count": 86,
   "metadata": {},
   "outputs": [],
   "source": [
    "data_path = \"../results/builds/h3n2/5_viruses_per_month/sample_0/2000-10-01--2015-10-01/tips_to_clades.tsv\""
   ]
  },
  {
   "cell_type": "code",
   "execution_count": 87,
   "metadata": {},
   "outputs": [],
   "source": [
    "df = pd.read_csv(data_path, sep=\"\\t\", parse_dates=[\"timepoint\"])"
   ]
  },
  {
   "cell_type": "code",
   "execution_count": 88,
   "metadata": {},
   "outputs": [
    {
     "data": {
      "text/plain": [
       "(460301, 6)"
      ]
     },
     "execution_count": 88,
     "metadata": {},
     "output_type": "execute_result"
    }
   ],
   "source": [
    "df.shape"
   ]
  },
  {
   "cell_type": "code",
   "execution_count": 89,
   "metadata": {},
   "outputs": [
    {
     "data": {
      "text/html": [
       "<div>\n",
       "<style scoped>\n",
       "    .dataframe tbody tr th:only-of-type {\n",
       "        vertical-align: middle;\n",
       "    }\n",
       "\n",
       "    .dataframe tbody tr th {\n",
       "        vertical-align: top;\n",
       "    }\n",
       "\n",
       "    .dataframe thead th {\n",
       "        text-align: right;\n",
       "    }\n",
       "</style>\n",
       "<table border=\"1\" class=\"dataframe\">\n",
       "  <thead>\n",
       "    <tr style=\"text-align: right;\">\n",
       "      <th></th>\n",
       "      <th>tip</th>\n",
       "      <th>clade_membership</th>\n",
       "      <th>depth</th>\n",
       "      <th>lineage</th>\n",
       "      <th>segment</th>\n",
       "      <th>timepoint</th>\n",
       "    </tr>\n",
       "  </thead>\n",
       "  <tbody>\n",
       "    <tr>\n",
       "      <th>0</th>\n",
       "      <td>A/Canterbury/103/2000</td>\n",
       "      <td>2c59b06</td>\n",
       "      <td>1</td>\n",
       "      <td>h3n2</td>\n",
       "      <td>ha</td>\n",
       "      <td>2004-10-01</td>\n",
       "    </tr>\n",
       "    <tr>\n",
       "      <th>1</th>\n",
       "      <td>A/Canterbury/103/2000</td>\n",
       "      <td>4faf0ed</td>\n",
       "      <td>2</td>\n",
       "      <td>h3n2</td>\n",
       "      <td>ha</td>\n",
       "      <td>2004-10-01</td>\n",
       "    </tr>\n",
       "    <tr>\n",
       "      <th>2</th>\n",
       "      <td>A/Canterbury/103/2000</td>\n",
       "      <td>root</td>\n",
       "      <td>3</td>\n",
       "      <td>h3n2</td>\n",
       "      <td>ha</td>\n",
       "      <td>2004-10-01</td>\n",
       "    </tr>\n",
       "    <tr>\n",
       "      <th>3</th>\n",
       "      <td>A/HongKong/762/2001</td>\n",
       "      <td>4ec8fe6</td>\n",
       "      <td>1</td>\n",
       "      <td>h3n2</td>\n",
       "      <td>ha</td>\n",
       "      <td>2004-10-01</td>\n",
       "    </tr>\n",
       "    <tr>\n",
       "      <th>4</th>\n",
       "      <td>A/HongKong/762/2001</td>\n",
       "      <td>2c59b06</td>\n",
       "      <td>2</td>\n",
       "      <td>h3n2</td>\n",
       "      <td>ha</td>\n",
       "      <td>2004-10-01</td>\n",
       "    </tr>\n",
       "  </tbody>\n",
       "</table>\n",
       "</div>"
      ],
      "text/plain": [
       "                     tip clade_membership  depth lineage segment  timepoint\n",
       "0  A/Canterbury/103/2000          2c59b06      1    h3n2      ha 2004-10-01\n",
       "1  A/Canterbury/103/2000          4faf0ed      2    h3n2      ha 2004-10-01\n",
       "2  A/Canterbury/103/2000             root      3    h3n2      ha 2004-10-01\n",
       "3    A/HongKong/762/2001          4ec8fe6      1    h3n2      ha 2004-10-01\n",
       "4    A/HongKong/762/2001          2c59b06      2    h3n2      ha 2004-10-01"
      ]
     },
     "execution_count": 89,
     "metadata": {},
     "output_type": "execute_result"
    }
   ],
   "source": [
    "df.head()"
   ]
  },
  {
   "cell_type": "code",
   "execution_count": 90,
   "metadata": {},
   "outputs": [
    {
     "data": {
      "text/plain": [
       "410932"
      ]
     },
     "execution_count": 90,
     "metadata": {},
     "output_type": "execute_result"
    }
   ],
   "source": [
    "df[\"tip\"].isin(valid_tips).sum()"
   ]
  },
  {
   "cell_type": "code",
   "execution_count": 91,
   "metadata": {},
   "outputs": [],
   "source": [
    "df = df[df[\"tip\"].isin(valid_tips)].copy()"
   ]
  },
  {
   "cell_type": "code",
   "execution_count": 92,
   "metadata": {},
   "outputs": [],
   "source": [
    "df = tips.merge(df, left_on=\"strain\", right_on=\"tip\", suffixes=[\"_tip\", \"\"]).copy()"
   ]
  },
  {
   "cell_type": "code",
   "execution_count": 93,
   "metadata": {},
   "outputs": [],
   "source": [
    "sorted_df = df.sort_values([\"timepoint\", \"tip\", \"depth\"]).copy()"
   ]
  },
  {
   "cell_type": "code",
   "execution_count": 94,
   "metadata": {},
   "outputs": [
    {
     "data": {
      "text/html": [
       "<div>\n",
       "<style scoped>\n",
       "    .dataframe tbody tr th:only-of-type {\n",
       "        vertical-align: middle;\n",
       "    }\n",
       "\n",
       "    .dataframe tbody tr th {\n",
       "        vertical-align: top;\n",
       "    }\n",
       "\n",
       "    .dataframe thead th {\n",
       "        text-align: right;\n",
       "    }\n",
       "</style>\n",
       "<table border=\"1\" class=\"dataframe\">\n",
       "  <thead>\n",
       "    <tr style=\"text-align: right;\">\n",
       "      <th></th>\n",
       "      <th>strain</th>\n",
       "      <th>clade_membership_tip</th>\n",
       "      <th>timepoint_tip</th>\n",
       "      <th>frequency</th>\n",
       "      <th>tip</th>\n",
       "      <th>clade_membership</th>\n",
       "      <th>depth</th>\n",
       "      <th>lineage</th>\n",
       "      <th>segment</th>\n",
       "      <th>timepoint</th>\n",
       "    </tr>\n",
       "  </thead>\n",
       "  <tbody>\n",
       "    <tr>\n",
       "      <th>0</th>\n",
       "      <td>A/Aichi/181/2004</td>\n",
       "      <td>e5a7ac4</td>\n",
       "      <td>2004-10-01</td>\n",
       "      <td>0.005842</td>\n",
       "      <td>A/Aichi/181/2004</td>\n",
       "      <td>e5a7ac4</td>\n",
       "      <td>1</td>\n",
       "      <td>h3n2</td>\n",
       "      <td>ha</td>\n",
       "      <td>2004-10-01</td>\n",
       "    </tr>\n",
       "    <tr>\n",
       "      <th>255</th>\n",
       "      <td>A/Aichi/181/2004</td>\n",
       "      <td>e5a7ac4</td>\n",
       "      <td>2005-04-01</td>\n",
       "      <td>0.000001</td>\n",
       "      <td>A/Aichi/181/2004</td>\n",
       "      <td>e5a7ac4</td>\n",
       "      <td>1</td>\n",
       "      <td>h3n2</td>\n",
       "      <td>ha</td>\n",
       "      <td>2004-10-01</td>\n",
       "    </tr>\n",
       "    <tr>\n",
       "      <th>1</th>\n",
       "      <td>A/Aichi/181/2004</td>\n",
       "      <td>e5a7ac4</td>\n",
       "      <td>2004-10-01</td>\n",
       "      <td>0.005842</td>\n",
       "      <td>A/Aichi/181/2004</td>\n",
       "      <td>66684e0</td>\n",
       "      <td>10</td>\n",
       "      <td>h3n2</td>\n",
       "      <td>ha</td>\n",
       "      <td>2004-10-01</td>\n",
       "    </tr>\n",
       "    <tr>\n",
       "      <th>256</th>\n",
       "      <td>A/Aichi/181/2004</td>\n",
       "      <td>e5a7ac4</td>\n",
       "      <td>2005-04-01</td>\n",
       "      <td>0.000001</td>\n",
       "      <td>A/Aichi/181/2004</td>\n",
       "      <td>66684e0</td>\n",
       "      <td>10</td>\n",
       "      <td>h3n2</td>\n",
       "      <td>ha</td>\n",
       "      <td>2004-10-01</td>\n",
       "    </tr>\n",
       "    <tr>\n",
       "      <th>2</th>\n",
       "      <td>A/Aichi/181/2004</td>\n",
       "      <td>e5a7ac4</td>\n",
       "      <td>2004-10-01</td>\n",
       "      <td>0.005842</td>\n",
       "      <td>A/Aichi/181/2004</td>\n",
       "      <td>dffb0cc</td>\n",
       "      <td>11</td>\n",
       "      <td>h3n2</td>\n",
       "      <td>ha</td>\n",
       "      <td>2004-10-01</td>\n",
       "    </tr>\n",
       "  </tbody>\n",
       "</table>\n",
       "</div>"
      ],
      "text/plain": [
       "               strain clade_membership_tip timepoint_tip  frequency  \\\n",
       "0    A/Aichi/181/2004              e5a7ac4    2004-10-01   0.005842   \n",
       "255  A/Aichi/181/2004              e5a7ac4    2005-04-01   0.000001   \n",
       "1    A/Aichi/181/2004              e5a7ac4    2004-10-01   0.005842   \n",
       "256  A/Aichi/181/2004              e5a7ac4    2005-04-01   0.000001   \n",
       "2    A/Aichi/181/2004              e5a7ac4    2004-10-01   0.005842   \n",
       "\n",
       "                  tip clade_membership  depth lineage segment  timepoint  \n",
       "0    A/Aichi/181/2004          e5a7ac4      1    h3n2      ha 2004-10-01  \n",
       "255  A/Aichi/181/2004          e5a7ac4      1    h3n2      ha 2004-10-01  \n",
       "1    A/Aichi/181/2004          66684e0     10    h3n2      ha 2004-10-01  \n",
       "256  A/Aichi/181/2004          66684e0     10    h3n2      ha 2004-10-01  \n",
       "2    A/Aichi/181/2004          dffb0cc     11    h3n2      ha 2004-10-01  "
      ]
     },
     "execution_count": 94,
     "metadata": {},
     "output_type": "execute_result"
    }
   ],
   "source": [
    "sorted_df.head()"
   ]
  },
  {
   "cell_type": "code",
   "execution_count": 95,
   "metadata": {},
   "outputs": [
    {
     "data": {
      "text/plain": [
       "(521,)"
      ]
     },
     "execution_count": 95,
     "metadata": {},
     "output_type": "execute_result"
    }
   ],
   "source": [
    "sorted_df[\"clade_membership\"].unique().shape"
   ]
  },
  {
   "cell_type": "code",
   "execution_count": 96,
   "metadata": {},
   "outputs": [],
   "source": [
    "timepoint_by_clade_name = sorted_df.groupby(\"clade_membership\")[\"timepoint_tip\"].min().to_dict()\n",
    "timepoint_by_clade_name[\"root\"] = df[\"timepoint\"].min() - pd.DateOffset(months=6)"
   ]
  },
  {
   "cell_type": "code",
   "execution_count": 97,
   "metadata": {},
   "outputs": [],
   "source": [
    "clade_id_by_name = {\"root\": 20}\n",
    "clade_counter_by_timepoint = defaultdict(int)\n",
    "\n",
    "for clade, timepoint in timepoint_by_clade_name.items():\n",
    "    clade_id_by_name[clade] = clade_counter_by_timepoint[timepoint]\n",
    "    clade_counter_by_timepoint[timepoint] += 5"
   ]
  },
  {
   "cell_type": "markdown",
   "metadata": {},
   "source": [
    "Create a graph that will connect all adjacent clades (essentially the original tree) and note the first timepoint each clade was observed."
   ]
  },
  {
   "cell_type": "code",
   "execution_count": 98,
   "metadata": {},
   "outputs": [
    {
     "name": "stdout",
     "output_type": "stream",
     "text": [
      "2004-10-01 00:00:00\n",
      "2005-04-01 00:00:00\n",
      "2005-10-01 00:00:00\n",
      "2006-04-01 00:00:00\n",
      "2006-10-01 00:00:00\n",
      "2007-04-01 00:00:00\n",
      "2007-10-01 00:00:00\n",
      "2008-04-01 00:00:00\n",
      "2008-10-01 00:00:00\n",
      "2009-04-01 00:00:00\n",
      "2009-10-01 00:00:00\n",
      "2010-04-01 00:00:00\n",
      "2010-10-01 00:00:00\n",
      "2011-04-01 00:00:00\n",
      "2011-10-01 00:00:00\n",
      "2012-04-01 00:00:00\n",
      "2012-10-01 00:00:00\n",
      "2013-04-01 00:00:00\n",
      "2013-10-01 00:00:00\n",
      "2014-04-01 00:00:00\n",
      "2014-10-01 00:00:00\n",
      "2015-04-01 00:00:00\n",
      "2015-10-01 00:00:00\n"
     ]
    }
   ],
   "source": [
    "tree = nx.Graph()\n",
    "\n",
    "#timepoint_by_clade_name = {\"root\": df[\"timepoint\"].min() - pd.DateOffset(months=6)}\n",
    "observed_tips = set()\n",
    "\n",
    "for timepoint, timepoint_df in sorted_df.groupby(\"timepoint\"):\n",
    "    print(timepoint)\n",
    "    for tip, tip_df in timepoint_df.groupby(\"tip\"):\n",
    "        # Only consider the clade linkages for tips once when that tip is first observed.\n",
    "        if tip in observed_tips:\n",
    "            continue\n",
    "        \n",
    "        observed_tips.add(tip)\n",
    "        clades = tip_df[\"clade_membership\"].values\n",
    "        \n",
    "        # Loop through clades, adding edges between adjacent clades.\n",
    "        for i in range(len(clades)):\n",
    "            # Make sure each clade is represented in the tree.\n",
    "            tree.add_node(clades[i])\n",
    "\n",
    "            # Link each clade after the first one back to its relative.\n",
    "            if i > 0:\n",
    "                tree.add_edge(clades[i], clades[i - 1])\n",
    "\n",
    "            # Note the first timepoint each clade was observed.\n",
    "            #if clades[i] not in timepoint_by_clade_name:\n",
    "            #    timepoint_by_clade_name[clades[i]] = tip_timepoint\n",
    "            #    clade_id_by_name[clades[i]] = clade_counter_by_timepoint[tip_timepoint]\n",
    "            #    clade_counter_by_timepoint[tip_timepoint] += 5"
   ]
  },
  {
   "cell_type": "code",
   "execution_count": 99,
   "metadata": {},
   "outputs": [
    {
     "data": {
      "text/plain": [
       "Timestamp('2008-10-01 00:00:00')"
      ]
     },
     "execution_count": 99,
     "metadata": {},
     "output_type": "execute_result"
    }
   ],
   "source": [
    "tip_df[\"timepoint_tip\"].drop_duplicates().iloc[0]"
   ]
  },
  {
   "cell_type": "code",
   "execution_count": 100,
   "metadata": {},
   "outputs": [
    {
     "data": {
      "text/plain": [
       "'A/Zhuhai/943/2008'"
      ]
     },
     "execution_count": 100,
     "metadata": {},
     "output_type": "execute_result"
    }
   ],
   "source": [
    "tip"
   ]
  },
  {
   "cell_type": "code",
   "execution_count": 101,
   "metadata": {},
   "outputs": [
    {
     "data": {
      "text/plain": [
       "AtlasView({'289e909': {}, 'root': {}, 'ec49145': {}, 'fdedc71': {}, '4faf0ed': {}})"
      ]
     },
     "execution_count": 101,
     "metadata": {},
     "output_type": "execute_result"
    }
   ],
   "source": [
    "tree[\"root\"]"
   ]
  },
  {
   "cell_type": "code",
   "execution_count": 102,
   "metadata": {},
   "outputs": [
    {
     "data": {
      "text/html": [
       "<div>\n",
       "<style scoped>\n",
       "    .dataframe tbody tr th:only-of-type {\n",
       "        vertical-align: middle;\n",
       "    }\n",
       "\n",
       "    .dataframe tbody tr th {\n",
       "        vertical-align: top;\n",
       "    }\n",
       "\n",
       "    .dataframe thead th {\n",
       "        text-align: right;\n",
       "    }\n",
       "</style>\n",
       "<table border=\"1\" class=\"dataframe\">\n",
       "  <thead>\n",
       "    <tr style=\"text-align: right;\">\n",
       "      <th></th>\n",
       "      <th>strain</th>\n",
       "      <th>clade_membership_tip</th>\n",
       "      <th>timepoint_tip</th>\n",
       "      <th>frequency</th>\n",
       "      <th>tip</th>\n",
       "      <th>clade_membership</th>\n",
       "      <th>depth</th>\n",
       "      <th>lineage</th>\n",
       "      <th>segment</th>\n",
       "      <th>timepoint</th>\n",
       "    </tr>\n",
       "  </thead>\n",
       "  <tbody>\n",
       "    <tr>\n",
       "      <th>315968</th>\n",
       "      <td>A/Zhuhai/943/2008</td>\n",
       "      <td>1bd7f89</td>\n",
       "      <td>2008-10-01</td>\n",
       "      <td>0.031417</td>\n",
       "      <td>A/Zhuhai/943/2008</td>\n",
       "      <td>5ea83cf</td>\n",
       "      <td>1</td>\n",
       "      <td>h3n2</td>\n",
       "      <td>ha</td>\n",
       "      <td>2015-10-01</td>\n",
       "    </tr>\n",
       "    <tr>\n",
       "      <th>316256</th>\n",
       "      <td>A/Zhuhai/943/2008</td>\n",
       "      <td>5ea83cf</td>\n",
       "      <td>2009-04-01</td>\n",
       "      <td>0.002733</td>\n",
       "      <td>A/Zhuhai/943/2008</td>\n",
       "      <td>5ea83cf</td>\n",
       "      <td>1</td>\n",
       "      <td>h3n2</td>\n",
       "      <td>ha</td>\n",
       "      <td>2015-10-01</td>\n",
       "    </tr>\n",
       "    <tr>\n",
       "      <th>315969</th>\n",
       "      <td>A/Zhuhai/943/2008</td>\n",
       "      <td>1bd7f89</td>\n",
       "      <td>2008-10-01</td>\n",
       "      <td>0.031417</td>\n",
       "      <td>A/Zhuhai/943/2008</td>\n",
       "      <td>944fa14</td>\n",
       "      <td>11</td>\n",
       "      <td>h3n2</td>\n",
       "      <td>ha</td>\n",
       "      <td>2015-10-01</td>\n",
       "    </tr>\n",
       "    <tr>\n",
       "      <th>316257</th>\n",
       "      <td>A/Zhuhai/943/2008</td>\n",
       "      <td>5ea83cf</td>\n",
       "      <td>2009-04-01</td>\n",
       "      <td>0.002733</td>\n",
       "      <td>A/Zhuhai/943/2008</td>\n",
       "      <td>944fa14</td>\n",
       "      <td>11</td>\n",
       "      <td>h3n2</td>\n",
       "      <td>ha</td>\n",
       "      <td>2015-10-01</td>\n",
       "    </tr>\n",
       "    <tr>\n",
       "      <th>315970</th>\n",
       "      <td>A/Zhuhai/943/2008</td>\n",
       "      <td>1bd7f89</td>\n",
       "      <td>2008-10-01</td>\n",
       "      <td>0.031417</td>\n",
       "      <td>A/Zhuhai/943/2008</td>\n",
       "      <td>0ecbd50</td>\n",
       "      <td>15</td>\n",
       "      <td>h3n2</td>\n",
       "      <td>ha</td>\n",
       "      <td>2015-10-01</td>\n",
       "    </tr>\n",
       "    <tr>\n",
       "      <th>316258</th>\n",
       "      <td>A/Zhuhai/943/2008</td>\n",
       "      <td>5ea83cf</td>\n",
       "      <td>2009-04-01</td>\n",
       "      <td>0.002733</td>\n",
       "      <td>A/Zhuhai/943/2008</td>\n",
       "      <td>0ecbd50</td>\n",
       "      <td>15</td>\n",
       "      <td>h3n2</td>\n",
       "      <td>ha</td>\n",
       "      <td>2015-10-01</td>\n",
       "    </tr>\n",
       "    <tr>\n",
       "      <th>315971</th>\n",
       "      <td>A/Zhuhai/943/2008</td>\n",
       "      <td>1bd7f89</td>\n",
       "      <td>2008-10-01</td>\n",
       "      <td>0.031417</td>\n",
       "      <td>A/Zhuhai/943/2008</td>\n",
       "      <td>eeb6263</td>\n",
       "      <td>22</td>\n",
       "      <td>h3n2</td>\n",
       "      <td>ha</td>\n",
       "      <td>2015-10-01</td>\n",
       "    </tr>\n",
       "    <tr>\n",
       "      <th>316259</th>\n",
       "      <td>A/Zhuhai/943/2008</td>\n",
       "      <td>5ea83cf</td>\n",
       "      <td>2009-04-01</td>\n",
       "      <td>0.002733</td>\n",
       "      <td>A/Zhuhai/943/2008</td>\n",
       "      <td>eeb6263</td>\n",
       "      <td>22</td>\n",
       "      <td>h3n2</td>\n",
       "      <td>ha</td>\n",
       "      <td>2015-10-01</td>\n",
       "    </tr>\n",
       "    <tr>\n",
       "      <th>315972</th>\n",
       "      <td>A/Zhuhai/943/2008</td>\n",
       "      <td>1bd7f89</td>\n",
       "      <td>2008-10-01</td>\n",
       "      <td>0.031417</td>\n",
       "      <td>A/Zhuhai/943/2008</td>\n",
       "      <td>cec9051</td>\n",
       "      <td>25</td>\n",
       "      <td>h3n2</td>\n",
       "      <td>ha</td>\n",
       "      <td>2015-10-01</td>\n",
       "    </tr>\n",
       "    <tr>\n",
       "      <th>316260</th>\n",
       "      <td>A/Zhuhai/943/2008</td>\n",
       "      <td>5ea83cf</td>\n",
       "      <td>2009-04-01</td>\n",
       "      <td>0.002733</td>\n",
       "      <td>A/Zhuhai/943/2008</td>\n",
       "      <td>cec9051</td>\n",
       "      <td>25</td>\n",
       "      <td>h3n2</td>\n",
       "      <td>ha</td>\n",
       "      <td>2015-10-01</td>\n",
       "    </tr>\n",
       "    <tr>\n",
       "      <th>315973</th>\n",
       "      <td>A/Zhuhai/943/2008</td>\n",
       "      <td>1bd7f89</td>\n",
       "      <td>2008-10-01</td>\n",
       "      <td>0.031417</td>\n",
       "      <td>A/Zhuhai/943/2008</td>\n",
       "      <td>993737c</td>\n",
       "      <td>43</td>\n",
       "      <td>h3n2</td>\n",
       "      <td>ha</td>\n",
       "      <td>2015-10-01</td>\n",
       "    </tr>\n",
       "    <tr>\n",
       "      <th>316261</th>\n",
       "      <td>A/Zhuhai/943/2008</td>\n",
       "      <td>5ea83cf</td>\n",
       "      <td>2009-04-01</td>\n",
       "      <td>0.002733</td>\n",
       "      <td>A/Zhuhai/943/2008</td>\n",
       "      <td>993737c</td>\n",
       "      <td>43</td>\n",
       "      <td>h3n2</td>\n",
       "      <td>ha</td>\n",
       "      <td>2015-10-01</td>\n",
       "    </tr>\n",
       "    <tr>\n",
       "      <th>315974</th>\n",
       "      <td>A/Zhuhai/943/2008</td>\n",
       "      <td>1bd7f89</td>\n",
       "      <td>2008-10-01</td>\n",
       "      <td>0.031417</td>\n",
       "      <td>A/Zhuhai/943/2008</td>\n",
       "      <td>ffaf2a6</td>\n",
       "      <td>45</td>\n",
       "      <td>h3n2</td>\n",
       "      <td>ha</td>\n",
       "      <td>2015-10-01</td>\n",
       "    </tr>\n",
       "    <tr>\n",
       "      <th>316262</th>\n",
       "      <td>A/Zhuhai/943/2008</td>\n",
       "      <td>5ea83cf</td>\n",
       "      <td>2009-04-01</td>\n",
       "      <td>0.002733</td>\n",
       "      <td>A/Zhuhai/943/2008</td>\n",
       "      <td>ffaf2a6</td>\n",
       "      <td>45</td>\n",
       "      <td>h3n2</td>\n",
       "      <td>ha</td>\n",
       "      <td>2015-10-01</td>\n",
       "    </tr>\n",
       "    <tr>\n",
       "      <th>315975</th>\n",
       "      <td>A/Zhuhai/943/2008</td>\n",
       "      <td>1bd7f89</td>\n",
       "      <td>2008-10-01</td>\n",
       "      <td>0.031417</td>\n",
       "      <td>A/Zhuhai/943/2008</td>\n",
       "      <td>8f3fc76</td>\n",
       "      <td>49</td>\n",
       "      <td>h3n2</td>\n",
       "      <td>ha</td>\n",
       "      <td>2015-10-01</td>\n",
       "    </tr>\n",
       "    <tr>\n",
       "      <th>316263</th>\n",
       "      <td>A/Zhuhai/943/2008</td>\n",
       "      <td>5ea83cf</td>\n",
       "      <td>2009-04-01</td>\n",
       "      <td>0.002733</td>\n",
       "      <td>A/Zhuhai/943/2008</td>\n",
       "      <td>8f3fc76</td>\n",
       "      <td>49</td>\n",
       "      <td>h3n2</td>\n",
       "      <td>ha</td>\n",
       "      <td>2015-10-01</td>\n",
       "    </tr>\n",
       "    <tr>\n",
       "      <th>315976</th>\n",
       "      <td>A/Zhuhai/943/2008</td>\n",
       "      <td>1bd7f89</td>\n",
       "      <td>2008-10-01</td>\n",
       "      <td>0.031417</td>\n",
       "      <td>A/Zhuhai/943/2008</td>\n",
       "      <td>e5a7ac4</td>\n",
       "      <td>50</td>\n",
       "      <td>h3n2</td>\n",
       "      <td>ha</td>\n",
       "      <td>2015-10-01</td>\n",
       "    </tr>\n",
       "    <tr>\n",
       "      <th>316264</th>\n",
       "      <td>A/Zhuhai/943/2008</td>\n",
       "      <td>5ea83cf</td>\n",
       "      <td>2009-04-01</td>\n",
       "      <td>0.002733</td>\n",
       "      <td>A/Zhuhai/943/2008</td>\n",
       "      <td>e5a7ac4</td>\n",
       "      <td>50</td>\n",
       "      <td>h3n2</td>\n",
       "      <td>ha</td>\n",
       "      <td>2015-10-01</td>\n",
       "    </tr>\n",
       "    <tr>\n",
       "      <th>315977</th>\n",
       "      <td>A/Zhuhai/943/2008</td>\n",
       "      <td>1bd7f89</td>\n",
       "      <td>2008-10-01</td>\n",
       "      <td>0.031417</td>\n",
       "      <td>A/Zhuhai/943/2008</td>\n",
       "      <td>66684e0</td>\n",
       "      <td>57</td>\n",
       "      <td>h3n2</td>\n",
       "      <td>ha</td>\n",
       "      <td>2015-10-01</td>\n",
       "    </tr>\n",
       "    <tr>\n",
       "      <th>316265</th>\n",
       "      <td>A/Zhuhai/943/2008</td>\n",
       "      <td>5ea83cf</td>\n",
       "      <td>2009-04-01</td>\n",
       "      <td>0.002733</td>\n",
       "      <td>A/Zhuhai/943/2008</td>\n",
       "      <td>66684e0</td>\n",
       "      <td>57</td>\n",
       "      <td>h3n2</td>\n",
       "      <td>ha</td>\n",
       "      <td>2015-10-01</td>\n",
       "    </tr>\n",
       "    <tr>\n",
       "      <th>315978</th>\n",
       "      <td>A/Zhuhai/943/2008</td>\n",
       "      <td>1bd7f89</td>\n",
       "      <td>2008-10-01</td>\n",
       "      <td>0.031417</td>\n",
       "      <td>A/Zhuhai/943/2008</td>\n",
       "      <td>9ec21ea</td>\n",
       "      <td>58</td>\n",
       "      <td>h3n2</td>\n",
       "      <td>ha</td>\n",
       "      <td>2015-10-01</td>\n",
       "    </tr>\n",
       "    <tr>\n",
       "      <th>316266</th>\n",
       "      <td>A/Zhuhai/943/2008</td>\n",
       "      <td>5ea83cf</td>\n",
       "      <td>2009-04-01</td>\n",
       "      <td>0.002733</td>\n",
       "      <td>A/Zhuhai/943/2008</td>\n",
       "      <td>9ec21ea</td>\n",
       "      <td>58</td>\n",
       "      <td>h3n2</td>\n",
       "      <td>ha</td>\n",
       "      <td>2015-10-01</td>\n",
       "    </tr>\n",
       "    <tr>\n",
       "      <th>315979</th>\n",
       "      <td>A/Zhuhai/943/2008</td>\n",
       "      <td>1bd7f89</td>\n",
       "      <td>2008-10-01</td>\n",
       "      <td>0.031417</td>\n",
       "      <td>A/Zhuhai/943/2008</td>\n",
       "      <td>84dfd90</td>\n",
       "      <td>60</td>\n",
       "      <td>h3n2</td>\n",
       "      <td>ha</td>\n",
       "      <td>2015-10-01</td>\n",
       "    </tr>\n",
       "    <tr>\n",
       "      <th>316267</th>\n",
       "      <td>A/Zhuhai/943/2008</td>\n",
       "      <td>5ea83cf</td>\n",
       "      <td>2009-04-01</td>\n",
       "      <td>0.002733</td>\n",
       "      <td>A/Zhuhai/943/2008</td>\n",
       "      <td>84dfd90</td>\n",
       "      <td>60</td>\n",
       "      <td>h3n2</td>\n",
       "      <td>ha</td>\n",
       "      <td>2015-10-01</td>\n",
       "    </tr>\n",
       "    <tr>\n",
       "      <th>315980</th>\n",
       "      <td>A/Zhuhai/943/2008</td>\n",
       "      <td>1bd7f89</td>\n",
       "      <td>2008-10-01</td>\n",
       "      <td>0.031417</td>\n",
       "      <td>A/Zhuhai/943/2008</td>\n",
       "      <td>73ef5e0</td>\n",
       "      <td>61</td>\n",
       "      <td>h3n2</td>\n",
       "      <td>ha</td>\n",
       "      <td>2015-10-01</td>\n",
       "    </tr>\n",
       "    <tr>\n",
       "      <th>316268</th>\n",
       "      <td>A/Zhuhai/943/2008</td>\n",
       "      <td>5ea83cf</td>\n",
       "      <td>2009-04-01</td>\n",
       "      <td>0.002733</td>\n",
       "      <td>A/Zhuhai/943/2008</td>\n",
       "      <td>73ef5e0</td>\n",
       "      <td>61</td>\n",
       "      <td>h3n2</td>\n",
       "      <td>ha</td>\n",
       "      <td>2015-10-01</td>\n",
       "    </tr>\n",
       "    <tr>\n",
       "      <th>315981</th>\n",
       "      <td>A/Zhuhai/943/2008</td>\n",
       "      <td>1bd7f89</td>\n",
       "      <td>2008-10-01</td>\n",
       "      <td>0.031417</td>\n",
       "      <td>A/Zhuhai/943/2008</td>\n",
       "      <td>91da20b</td>\n",
       "      <td>66</td>\n",
       "      <td>h3n2</td>\n",
       "      <td>ha</td>\n",
       "      <td>2015-10-01</td>\n",
       "    </tr>\n",
       "    <tr>\n",
       "      <th>316269</th>\n",
       "      <td>A/Zhuhai/943/2008</td>\n",
       "      <td>5ea83cf</td>\n",
       "      <td>2009-04-01</td>\n",
       "      <td>0.002733</td>\n",
       "      <td>A/Zhuhai/943/2008</td>\n",
       "      <td>91da20b</td>\n",
       "      <td>66</td>\n",
       "      <td>h3n2</td>\n",
       "      <td>ha</td>\n",
       "      <td>2015-10-01</td>\n",
       "    </tr>\n",
       "    <tr>\n",
       "      <th>315982</th>\n",
       "      <td>A/Zhuhai/943/2008</td>\n",
       "      <td>1bd7f89</td>\n",
       "      <td>2008-10-01</td>\n",
       "      <td>0.031417</td>\n",
       "      <td>A/Zhuhai/943/2008</td>\n",
       "      <td>a46e8d1</td>\n",
       "      <td>67</td>\n",
       "      <td>h3n2</td>\n",
       "      <td>ha</td>\n",
       "      <td>2015-10-01</td>\n",
       "    </tr>\n",
       "    <tr>\n",
       "      <th>316270</th>\n",
       "      <td>A/Zhuhai/943/2008</td>\n",
       "      <td>5ea83cf</td>\n",
       "      <td>2009-04-01</td>\n",
       "      <td>0.002733</td>\n",
       "      <td>A/Zhuhai/943/2008</td>\n",
       "      <td>a46e8d1</td>\n",
       "      <td>67</td>\n",
       "      <td>h3n2</td>\n",
       "      <td>ha</td>\n",
       "      <td>2015-10-01</td>\n",
       "    </tr>\n",
       "    <tr>\n",
       "      <th>315983</th>\n",
       "      <td>A/Zhuhai/943/2008</td>\n",
       "      <td>1bd7f89</td>\n",
       "      <td>2008-10-01</td>\n",
       "      <td>0.031417</td>\n",
       "      <td>A/Zhuhai/943/2008</td>\n",
       "      <td>268849c</td>\n",
       "      <td>68</td>\n",
       "      <td>h3n2</td>\n",
       "      <td>ha</td>\n",
       "      <td>2015-10-01</td>\n",
       "    </tr>\n",
       "    <tr>\n",
       "      <th>316271</th>\n",
       "      <td>A/Zhuhai/943/2008</td>\n",
       "      <td>5ea83cf</td>\n",
       "      <td>2009-04-01</td>\n",
       "      <td>0.002733</td>\n",
       "      <td>A/Zhuhai/943/2008</td>\n",
       "      <td>268849c</td>\n",
       "      <td>68</td>\n",
       "      <td>h3n2</td>\n",
       "      <td>ha</td>\n",
       "      <td>2015-10-01</td>\n",
       "    </tr>\n",
       "    <tr>\n",
       "      <th>315984</th>\n",
       "      <td>A/Zhuhai/943/2008</td>\n",
       "      <td>1bd7f89</td>\n",
       "      <td>2008-10-01</td>\n",
       "      <td>0.031417</td>\n",
       "      <td>A/Zhuhai/943/2008</td>\n",
       "      <td>289e909</td>\n",
       "      <td>70</td>\n",
       "      <td>h3n2</td>\n",
       "      <td>ha</td>\n",
       "      <td>2015-10-01</td>\n",
       "    </tr>\n",
       "    <tr>\n",
       "      <th>316272</th>\n",
       "      <td>A/Zhuhai/943/2008</td>\n",
       "      <td>5ea83cf</td>\n",
       "      <td>2009-04-01</td>\n",
       "      <td>0.002733</td>\n",
       "      <td>A/Zhuhai/943/2008</td>\n",
       "      <td>289e909</td>\n",
       "      <td>70</td>\n",
       "      <td>h3n2</td>\n",
       "      <td>ha</td>\n",
       "      <td>2015-10-01</td>\n",
       "    </tr>\n",
       "    <tr>\n",
       "      <th>315985</th>\n",
       "      <td>A/Zhuhai/943/2008</td>\n",
       "      <td>1bd7f89</td>\n",
       "      <td>2008-10-01</td>\n",
       "      <td>0.031417</td>\n",
       "      <td>A/Zhuhai/943/2008</td>\n",
       "      <td>root</td>\n",
       "      <td>71</td>\n",
       "      <td>h3n2</td>\n",
       "      <td>ha</td>\n",
       "      <td>2015-10-01</td>\n",
       "    </tr>\n",
       "    <tr>\n",
       "      <th>316273</th>\n",
       "      <td>A/Zhuhai/943/2008</td>\n",
       "      <td>5ea83cf</td>\n",
       "      <td>2009-04-01</td>\n",
       "      <td>0.002733</td>\n",
       "      <td>A/Zhuhai/943/2008</td>\n",
       "      <td>root</td>\n",
       "      <td>71</td>\n",
       "      <td>h3n2</td>\n",
       "      <td>ha</td>\n",
       "      <td>2015-10-01</td>\n",
       "    </tr>\n",
       "  </tbody>\n",
       "</table>\n",
       "</div>"
      ],
      "text/plain": [
       "                   strain clade_membership_tip timepoint_tip  frequency  \\\n",
       "315968  A/Zhuhai/943/2008              1bd7f89    2008-10-01   0.031417   \n",
       "316256  A/Zhuhai/943/2008              5ea83cf    2009-04-01   0.002733   \n",
       "315969  A/Zhuhai/943/2008              1bd7f89    2008-10-01   0.031417   \n",
       "316257  A/Zhuhai/943/2008              5ea83cf    2009-04-01   0.002733   \n",
       "315970  A/Zhuhai/943/2008              1bd7f89    2008-10-01   0.031417   \n",
       "316258  A/Zhuhai/943/2008              5ea83cf    2009-04-01   0.002733   \n",
       "315971  A/Zhuhai/943/2008              1bd7f89    2008-10-01   0.031417   \n",
       "316259  A/Zhuhai/943/2008              5ea83cf    2009-04-01   0.002733   \n",
       "315972  A/Zhuhai/943/2008              1bd7f89    2008-10-01   0.031417   \n",
       "316260  A/Zhuhai/943/2008              5ea83cf    2009-04-01   0.002733   \n",
       "315973  A/Zhuhai/943/2008              1bd7f89    2008-10-01   0.031417   \n",
       "316261  A/Zhuhai/943/2008              5ea83cf    2009-04-01   0.002733   \n",
       "315974  A/Zhuhai/943/2008              1bd7f89    2008-10-01   0.031417   \n",
       "316262  A/Zhuhai/943/2008              5ea83cf    2009-04-01   0.002733   \n",
       "315975  A/Zhuhai/943/2008              1bd7f89    2008-10-01   0.031417   \n",
       "316263  A/Zhuhai/943/2008              5ea83cf    2009-04-01   0.002733   \n",
       "315976  A/Zhuhai/943/2008              1bd7f89    2008-10-01   0.031417   \n",
       "316264  A/Zhuhai/943/2008              5ea83cf    2009-04-01   0.002733   \n",
       "315977  A/Zhuhai/943/2008              1bd7f89    2008-10-01   0.031417   \n",
       "316265  A/Zhuhai/943/2008              5ea83cf    2009-04-01   0.002733   \n",
       "315978  A/Zhuhai/943/2008              1bd7f89    2008-10-01   0.031417   \n",
       "316266  A/Zhuhai/943/2008              5ea83cf    2009-04-01   0.002733   \n",
       "315979  A/Zhuhai/943/2008              1bd7f89    2008-10-01   0.031417   \n",
       "316267  A/Zhuhai/943/2008              5ea83cf    2009-04-01   0.002733   \n",
       "315980  A/Zhuhai/943/2008              1bd7f89    2008-10-01   0.031417   \n",
       "316268  A/Zhuhai/943/2008              5ea83cf    2009-04-01   0.002733   \n",
       "315981  A/Zhuhai/943/2008              1bd7f89    2008-10-01   0.031417   \n",
       "316269  A/Zhuhai/943/2008              5ea83cf    2009-04-01   0.002733   \n",
       "315982  A/Zhuhai/943/2008              1bd7f89    2008-10-01   0.031417   \n",
       "316270  A/Zhuhai/943/2008              5ea83cf    2009-04-01   0.002733   \n",
       "315983  A/Zhuhai/943/2008              1bd7f89    2008-10-01   0.031417   \n",
       "316271  A/Zhuhai/943/2008              5ea83cf    2009-04-01   0.002733   \n",
       "315984  A/Zhuhai/943/2008              1bd7f89    2008-10-01   0.031417   \n",
       "316272  A/Zhuhai/943/2008              5ea83cf    2009-04-01   0.002733   \n",
       "315985  A/Zhuhai/943/2008              1bd7f89    2008-10-01   0.031417   \n",
       "316273  A/Zhuhai/943/2008              5ea83cf    2009-04-01   0.002733   \n",
       "\n",
       "                      tip clade_membership  depth lineage segment  timepoint  \n",
       "315968  A/Zhuhai/943/2008          5ea83cf      1    h3n2      ha 2015-10-01  \n",
       "316256  A/Zhuhai/943/2008          5ea83cf      1    h3n2      ha 2015-10-01  \n",
       "315969  A/Zhuhai/943/2008          944fa14     11    h3n2      ha 2015-10-01  \n",
       "316257  A/Zhuhai/943/2008          944fa14     11    h3n2      ha 2015-10-01  \n",
       "315970  A/Zhuhai/943/2008          0ecbd50     15    h3n2      ha 2015-10-01  \n",
       "316258  A/Zhuhai/943/2008          0ecbd50     15    h3n2      ha 2015-10-01  \n",
       "315971  A/Zhuhai/943/2008          eeb6263     22    h3n2      ha 2015-10-01  \n",
       "316259  A/Zhuhai/943/2008          eeb6263     22    h3n2      ha 2015-10-01  \n",
       "315972  A/Zhuhai/943/2008          cec9051     25    h3n2      ha 2015-10-01  \n",
       "316260  A/Zhuhai/943/2008          cec9051     25    h3n2      ha 2015-10-01  \n",
       "315973  A/Zhuhai/943/2008          993737c     43    h3n2      ha 2015-10-01  \n",
       "316261  A/Zhuhai/943/2008          993737c     43    h3n2      ha 2015-10-01  \n",
       "315974  A/Zhuhai/943/2008          ffaf2a6     45    h3n2      ha 2015-10-01  \n",
       "316262  A/Zhuhai/943/2008          ffaf2a6     45    h3n2      ha 2015-10-01  \n",
       "315975  A/Zhuhai/943/2008          8f3fc76     49    h3n2      ha 2015-10-01  \n",
       "316263  A/Zhuhai/943/2008          8f3fc76     49    h3n2      ha 2015-10-01  \n",
       "315976  A/Zhuhai/943/2008          e5a7ac4     50    h3n2      ha 2015-10-01  \n",
       "316264  A/Zhuhai/943/2008          e5a7ac4     50    h3n2      ha 2015-10-01  \n",
       "315977  A/Zhuhai/943/2008          66684e0     57    h3n2      ha 2015-10-01  \n",
       "316265  A/Zhuhai/943/2008          66684e0     57    h3n2      ha 2015-10-01  \n",
       "315978  A/Zhuhai/943/2008          9ec21ea     58    h3n2      ha 2015-10-01  \n",
       "316266  A/Zhuhai/943/2008          9ec21ea     58    h3n2      ha 2015-10-01  \n",
       "315979  A/Zhuhai/943/2008          84dfd90     60    h3n2      ha 2015-10-01  \n",
       "316267  A/Zhuhai/943/2008          84dfd90     60    h3n2      ha 2015-10-01  \n",
       "315980  A/Zhuhai/943/2008          73ef5e0     61    h3n2      ha 2015-10-01  \n",
       "316268  A/Zhuhai/943/2008          73ef5e0     61    h3n2      ha 2015-10-01  \n",
       "315981  A/Zhuhai/943/2008          91da20b     66    h3n2      ha 2015-10-01  \n",
       "316269  A/Zhuhai/943/2008          91da20b     66    h3n2      ha 2015-10-01  \n",
       "315982  A/Zhuhai/943/2008          a46e8d1     67    h3n2      ha 2015-10-01  \n",
       "316270  A/Zhuhai/943/2008          a46e8d1     67    h3n2      ha 2015-10-01  \n",
       "315983  A/Zhuhai/943/2008          268849c     68    h3n2      ha 2015-10-01  \n",
       "316271  A/Zhuhai/943/2008          268849c     68    h3n2      ha 2015-10-01  \n",
       "315984  A/Zhuhai/943/2008          289e909     70    h3n2      ha 2015-10-01  \n",
       "316272  A/Zhuhai/943/2008          289e909     70    h3n2      ha 2015-10-01  \n",
       "315985  A/Zhuhai/943/2008             root     71    h3n2      ha 2015-10-01  \n",
       "316273  A/Zhuhai/943/2008             root     71    h3n2      ha 2015-10-01  "
      ]
     },
     "execution_count": 102,
     "metadata": {},
     "output_type": "execute_result"
    }
   ],
   "source": [
    "tip_df"
   ]
  },
  {
   "cell_type": "code",
   "execution_count": 103,
   "metadata": {},
   "outputs": [
    {
     "data": {
      "text/plain": [
       "395"
      ]
     },
     "execution_count": 103,
     "metadata": {},
     "output_type": "execute_result"
    }
   ],
   "source": [
    "tree.number_of_nodes()"
   ]
  },
  {
   "cell_type": "code",
   "execution_count": 104,
   "metadata": {},
   "outputs": [
    {
     "data": {
      "text/plain": [
       "751"
      ]
     },
     "execution_count": 104,
     "metadata": {},
     "output_type": "execute_result"
    }
   ],
   "source": [
    "tree.number_of_edges()"
   ]
  },
  {
   "cell_type": "code",
   "execution_count": 105,
   "metadata": {},
   "outputs": [],
   "source": [
    "positions = {clade: (timepoint_by_clade_name[clade].year + ((timepoint_by_clade_name[clade].month - 1) / 12.0), clade_id_by_name[clade])\n",
    "             for clade in timepoint_by_clade_name}"
   ]
  },
  {
   "cell_type": "code",
   "execution_count": 106,
   "metadata": {},
   "outputs": [
    {
     "data": {
      "text/plain": [
       "[('00090db', (2014.25, 0)),\n",
       " ('0071f82', (2005.75, 0)),\n",
       " ('00881f8', (2006.25, 0)),\n",
       " ('00ed6d2', (2004.75, 0)),\n",
       " ('00f8876', (2013.75, 0)),\n",
       " ('018eb9d', (2014.75, 0)),\n",
       " ('01abcc0', (2004.75, 5)),\n",
       " ('02ce689', (2004.75, 10)),\n",
       " ('02fdebc', (2012.25, 0)),\n",
       " ('04bf735', (2006.25, 5))]"
      ]
     },
     "execution_count": 106,
     "metadata": {},
     "output_type": "execute_result"
    }
   ],
   "source": [
    "list(positions.items())[:10]"
   ]
  },
  {
   "cell_type": "code",
   "execution_count": 107,
   "metadata": {},
   "outputs": [],
   "source": [
    "edge_colors = []\n",
    "for edge in tree.edges:\n",
    "    delta = timepoint_by_clade_name[edge[1]] - timepoint_by_clade_name[edge[0]]\n",
    "    if np.abs(delta.days) == 0:\n",
    "        edge_colors.append(\"#ffffff\")\n",
    "    elif np.abs(delta.days) < 190:\n",
    "        edge_colors.append(\"#cccccc\")\n",
    "    else:\n",
    "        edge_colors.append(\"#000000\")"
   ]
  },
  {
   "cell_type": "code",
   "execution_count": 108,
   "metadata": {},
   "outputs": [],
   "source": [
    "valid_timepoints = sorted(set([position[0] for position in positions.values()]))"
   ]
  },
  {
   "cell_type": "code",
   "execution_count": 109,
   "metadata": {},
   "outputs": [
    {
     "data": {
      "image/png": "[encoded data removed]",
      "text/plain": [
       "<Figure size 800x600 with 1 Axes>"
      ]
     },
     "metadata": {},
     "output_type": "display_data"
    }
   ],
   "source": [
    "fig, ax = plt.subplots(1, 1, figsize=(8, 6))\n",
    "\n",
    "nx.draw(\n",
    "    tree,\n",
    "    pos=positions,\n",
    "    ax=ax,\n",
    "    node_size=10,\n",
    "    edge_color=edge_colors,\n",
    "    with_labels=False\n",
    ")\n",
    "\n",
    "ax.plot(valid_timepoints, [0.0] * len(valid_timepoints), alpha=0)\n",
    "ax.set_xlabel(\"Date\")\n",
    "ax.set_yticks([])\n",
    "plt.axis(\"on\")\n",
    "plt.tight_layout()"
   ]
  },
  {
   "cell_type": "code",
   "execution_count": 110,
   "metadata": {},
   "outputs": [
    {
     "data": {
      "text/plain": [
       "[]"
      ]
     },
     "execution_count": 110,
     "metadata": {},
     "output_type": "execute_result"
    }
   ],
   "source": [
    "ax.set_yticks([])"
   ]
  },
  {
   "cell_type": "markdown",
   "metadata": {},
   "source": [
    "Look for nodes without any edges."
   ]
  },
  {
   "cell_type": "code",
   "execution_count": 111,
   "metadata": {},
   "outputs": [
    {
     "data": {
      "text/plain": [
       "[]"
      ]
     },
     "execution_count": 111,
     "metadata": {},
     "output_type": "execute_result"
    }
   ],
   "source": [
    "[node for node in tree if len(tree[node]) == 0]"
   ]
  },
  {
   "cell_type": "markdown",
   "metadata": {},
   "source": [
    "Look for nodes from the last timepoint that connect to nodes from more than one timepoint in the past."
   ]
  },
  {
   "cell_type": "code",
   "execution_count": 112,
   "metadata": {},
   "outputs": [],
   "source": [
    "recent_clades = [clade\n",
    "                 for clade, timepoint in timepoint_by_clade_name.items()\n",
    "                 if timepoint == df[\"timepoint\"].max()]"
   ]
  },
  {
   "cell_type": "code",
   "execution_count": 113,
   "metadata": {},
   "outputs": [
    {
     "data": {
      "text/plain": [
       "['094e4b9', '2235687', '3c1bdeb', '54e5c99', '56f0c5a']"
      ]
     },
     "execution_count": 113,
     "metadata": {},
     "output_type": "execute_result"
    }
   ],
   "source": [
    "recent_clades[:5]"
   ]
  },
  {
   "cell_type": "code",
   "execution_count": 114,
   "metadata": {},
   "outputs": [
    {
     "name": "stdout",
     "output_type": "stream",
     "text": [
      "548 days 00:00:00\n",
      "54e5c99\n"
     ]
    }
   ],
   "source": [
    "broken_clade = None\n",
    "for recent_clade in recent_clades:\n",
    "    for ancestor in tree[recent_clade]:\n",
    "        delta = timepoint_by_clade_name[recent_clade] - timepoint_by_clade_name[ancestor]\n",
    "        if delta.days > 190:\n",
    "            print(delta)\n",
    "            \n",
    "        if delta.days > 370:\n",
    "            print(recent_clade)\n",
    "            broken_clade = recent_clade\n",
    "            break\n",
    "            \n",
    "    if broken_clade is not None:\n",
    "        break"
   ]
  },
  {
   "cell_type": "code",
   "execution_count": 115,
   "metadata": {},
   "outputs": [
    {
     "data": {
      "text/plain": [
       "'54e5c99'"
      ]
     },
     "execution_count": 115,
     "metadata": {},
     "output_type": "execute_result"
    }
   ],
   "source": [
    "recent_clade"
   ]
  },
  {
   "cell_type": "code",
   "execution_count": 116,
   "metadata": {},
   "outputs": [],
   "source": [
    "broken_clade = \"7d7cafb\""
   ]
  },
  {
   "cell_type": "code",
   "execution_count": 117,
   "metadata": {},
   "outputs": [
    {
     "data": {
      "text/html": [
       "<div>\n",
       "<style scoped>\n",
       "    .dataframe tbody tr th:only-of-type {\n",
       "        vertical-align: middle;\n",
       "    }\n",
       "\n",
       "    .dataframe tbody tr th {\n",
       "        vertical-align: top;\n",
       "    }\n",
       "\n",
       "    .dataframe thead th {\n",
       "        text-align: right;\n",
       "    }\n",
       "</style>\n",
       "<table border=\"1\" class=\"dataframe\">\n",
       "  <thead>\n",
       "    <tr style=\"text-align: right;\">\n",
       "      <th></th>\n",
       "      <th>strain</th>\n",
       "      <th>clade_membership_tip</th>\n",
       "      <th>timepoint_tip</th>\n",
       "      <th>frequency</th>\n",
       "      <th>tip</th>\n",
       "      <th>clade_membership</th>\n",
       "      <th>depth</th>\n",
       "      <th>lineage</th>\n",
       "      <th>segment</th>\n",
       "      <th>timepoint</th>\n",
       "    </tr>\n",
       "  </thead>\n",
       "  <tbody>\n",
       "  </tbody>\n",
       "</table>\n",
       "</div>"
      ],
      "text/plain": [
       "Empty DataFrame\n",
       "Columns: [strain, clade_membership_tip, timepoint_tip, frequency, tip, clade_membership, depth, lineage, segment, timepoint]\n",
       "Index: []"
      ]
     },
     "execution_count": 117,
     "metadata": {},
     "output_type": "execute_result"
    }
   ],
   "source": [
    "df[df[\"clade_membership\"] == broken_clade].head()"
   ]
  },
  {
   "cell_type": "code",
   "execution_count": 118,
   "metadata": {},
   "outputs": [
    {
     "data": {
      "text/html": [
       "<div>\n",
       "<style scoped>\n",
       "    .dataframe tbody tr th:only-of-type {\n",
       "        vertical-align: middle;\n",
       "    }\n",
       "\n",
       "    .dataframe tbody tr th {\n",
       "        vertical-align: top;\n",
       "    }\n",
       "\n",
       "    .dataframe thead th {\n",
       "        text-align: right;\n",
       "    }\n",
       "</style>\n",
       "<table border=\"1\" class=\"dataframe\">\n",
       "  <thead>\n",
       "    <tr style=\"text-align: right;\">\n",
       "      <th></th>\n",
       "      <th>strain</th>\n",
       "      <th>clade_membership_tip</th>\n",
       "      <th>timepoint_tip</th>\n",
       "      <th>frequency</th>\n",
       "      <th>tip</th>\n",
       "      <th>clade_membership</th>\n",
       "      <th>depth</th>\n",
       "      <th>lineage</th>\n",
       "      <th>segment</th>\n",
       "      <th>timepoint</th>\n",
       "    </tr>\n",
       "  </thead>\n",
       "  <tbody>\n",
       "  </tbody>\n",
       "</table>\n",
       "</div>"
      ],
      "text/plain": [
       "Empty DataFrame\n",
       "Columns: [strain, clade_membership_tip, timepoint_tip, frequency, tip, clade_membership, depth, lineage, segment, timepoint]\n",
       "Index: []"
      ]
     },
     "execution_count": 118,
     "metadata": {},
     "output_type": "execute_result"
    }
   ],
   "source": [
    "df[df[\"tip\"] == \"A/HongKong/4974/2011\"].head()"
   ]
  },
  {
   "cell_type": "code",
   "execution_count": 119,
   "metadata": {},
   "outputs": [
    {
     "data": {
      "text/html": [
       "<div>\n",
       "<style scoped>\n",
       "    .dataframe tbody tr th:only-of-type {\n",
       "        vertical-align: middle;\n",
       "    }\n",
       "\n",
       "    .dataframe tbody tr th {\n",
       "        vertical-align: top;\n",
       "    }\n",
       "\n",
       "    .dataframe thead th {\n",
       "        text-align: right;\n",
       "    }\n",
       "</style>\n",
       "<table border=\"1\" class=\"dataframe\">\n",
       "  <thead>\n",
       "    <tr style=\"text-align: right;\">\n",
       "      <th></th>\n",
       "      <th>strain</th>\n",
       "      <th>clade_membership</th>\n",
       "      <th>timepoint</th>\n",
       "      <th>frequency</th>\n",
       "    </tr>\n",
       "  </thead>\n",
       "  <tbody>\n",
       "  </tbody>\n",
       "</table>\n",
       "</div>"
      ],
      "text/plain": [
       "Empty DataFrame\n",
       "Columns: [strain, clade_membership, timepoint, frequency]\n",
       "Index: []"
      ]
     },
     "execution_count": 119,
     "metadata": {},
     "output_type": "execute_result"
    }
   ],
   "source": [
    "tips[tips[\"strain\"] == \"A/Okayama/28/2011\"]"
   ]
  },
  {
   "cell_type": "code",
   "execution_count": 120,
   "metadata": {},
   "outputs": [
    {
     "data": {
      "text/plain": [
       "(0, 10)"
      ]
     },
     "execution_count": 120,
     "metadata": {},
     "output_type": "execute_result"
    }
   ],
   "source": [
    "df[df[\"clade_membership\"] == broken_clade].shape"
   ]
  },
  {
   "cell_type": "code",
   "execution_count": 121,
   "metadata": {},
   "outputs": [],
   "source": [
    "bahia_df = df[(df[\"tip\"] == \"A/Bahia/100/2011\") & (df[\"timepoint\"] == \"2012-04-01\")]"
   ]
  },
  {
   "cell_type": "code",
   "execution_count": 122,
   "metadata": {},
   "outputs": [
    {
     "data": {
      "text/html": [
       "<div>\n",
       "<style scoped>\n",
       "    .dataframe tbody tr th:only-of-type {\n",
       "        vertical-align: middle;\n",
       "    }\n",
       "\n",
       "    .dataframe tbody tr th {\n",
       "        vertical-align: top;\n",
       "    }\n",
       "\n",
       "    .dataframe thead th {\n",
       "        text-align: right;\n",
       "    }\n",
       "</style>\n",
       "<table border=\"1\" class=\"dataframe\">\n",
       "  <thead>\n",
       "    <tr style=\"text-align: right;\">\n",
       "      <th></th>\n",
       "      <th>strain</th>\n",
       "      <th>clade_membership_tip</th>\n",
       "      <th>timepoint_tip</th>\n",
       "      <th>frequency</th>\n",
       "      <th>tip</th>\n",
       "      <th>clade_membership</th>\n",
       "      <th>depth</th>\n",
       "      <th>lineage</th>\n",
       "      <th>segment</th>\n",
       "      <th>timepoint</th>\n",
       "    </tr>\n",
       "  </thead>\n",
       "  <tbody>\n",
       "  </tbody>\n",
       "</table>\n",
       "</div>"
      ],
      "text/plain": [
       "Empty DataFrame\n",
       "Columns: [strain, clade_membership_tip, timepoint_tip, frequency, tip, clade_membership, depth, lineage, segment, timepoint]\n",
       "Index: []"
      ]
     },
     "execution_count": 122,
     "metadata": {},
     "output_type": "execute_result"
    }
   ],
   "source": [
    "bahia_df.head()"
   ]
  },
  {
   "cell_type": "code",
   "execution_count": 123,
   "metadata": {},
   "outputs": [],
   "source": [
    "parana_df = df[(df[\"tip\"] == \"A/Parana/415/2012\") & (df[\"timepoint\"] == \"2012-10-01\")]"
   ]
  },
  {
   "cell_type": "code",
   "execution_count": 124,
   "metadata": {},
   "outputs": [
    {
     "data": {
      "text/html": [
       "<div>\n",
       "<style scoped>\n",
       "    .dataframe tbody tr th:only-of-type {\n",
       "        vertical-align: middle;\n",
       "    }\n",
       "\n",
       "    .dataframe tbody tr th {\n",
       "        vertical-align: top;\n",
       "    }\n",
       "\n",
       "    .dataframe thead th {\n",
       "        text-align: right;\n",
       "    }\n",
       "</style>\n",
       "<table border=\"1\" class=\"dataframe\">\n",
       "  <thead>\n",
       "    <tr style=\"text-align: right;\">\n",
       "      <th></th>\n",
       "      <th>strain</th>\n",
       "      <th>clade_membership_tip</th>\n",
       "      <th>timepoint_tip</th>\n",
       "      <th>frequency</th>\n",
       "      <th>tip</th>\n",
       "      <th>clade_membership</th>\n",
       "      <th>depth</th>\n",
       "      <th>lineage</th>\n",
       "      <th>segment</th>\n",
       "      <th>timepoint</th>\n",
       "    </tr>\n",
       "  </thead>\n",
       "  <tbody>\n",
       "  </tbody>\n",
       "</table>\n",
       "</div>"
      ],
      "text/plain": [
       "Empty DataFrame\n",
       "Columns: [strain, clade_membership_tip, timepoint_tip, frequency, tip, clade_membership, depth, lineage, segment, timepoint]\n",
       "Index: []"
      ]
     },
     "execution_count": 124,
     "metadata": {},
     "output_type": "execute_result"
    }
   ],
   "source": [
    "parana_df"
   ]
  },
  {
   "cell_type": "code",
   "execution_count": 125,
   "metadata": {},
   "outputs": [
    {
     "data": {
      "text/html": [
       "<div>\n",
       "<style scoped>\n",
       "    .dataframe tbody tr th:only-of-type {\n",
       "        vertical-align: middle;\n",
       "    }\n",
       "\n",
       "    .dataframe tbody tr th {\n",
       "        vertical-align: top;\n",
       "    }\n",
       "\n",
       "    .dataframe thead th {\n",
       "        text-align: right;\n",
       "    }\n",
       "</style>\n",
       "<table border=\"1\" class=\"dataframe\">\n",
       "  <thead>\n",
       "    <tr style=\"text-align: right;\">\n",
       "      <th></th>\n",
       "      <th>strain</th>\n",
       "      <th>clade_membership</th>\n",
       "      <th>timepoint</th>\n",
       "      <th>frequency</th>\n",
       "    </tr>\n",
       "  </thead>\n",
       "  <tbody>\n",
       "  </tbody>\n",
       "</table>\n",
       "</div>"
      ],
      "text/plain": [
       "Empty DataFrame\n",
       "Columns: [strain, clade_membership, timepoint, frequency]\n",
       "Index: []"
      ]
     },
     "execution_count": 125,
     "metadata": {},
     "output_type": "execute_result"
    }
   ],
   "source": [
    "tips[tips[\"strain\"] == \"A/Bahia/100/2011\"]"
   ]
  },
  {
   "cell_type": "code",
   "execution_count": 126,
   "metadata": {},
   "outputs": [
    {
     "data": {
      "text/html": [
       "<div>\n",
       "<style scoped>\n",
       "    .dataframe tbody tr th:only-of-type {\n",
       "        vertical-align: middle;\n",
       "    }\n",
       "\n",
       "    .dataframe tbody tr th {\n",
       "        vertical-align: top;\n",
       "    }\n",
       "\n",
       "    .dataframe thead th {\n",
       "        text-align: right;\n",
       "    }\n",
       "</style>\n",
       "<table border=\"1\" class=\"dataframe\">\n",
       "  <thead>\n",
       "    <tr style=\"text-align: right;\">\n",
       "      <th></th>\n",
       "      <th>strain</th>\n",
       "      <th>clade_membership</th>\n",
       "      <th>timepoint</th>\n",
       "      <th>frequency</th>\n",
       "    </tr>\n",
       "  </thead>\n",
       "  <tbody>\n",
       "  </tbody>\n",
       "</table>\n",
       "</div>"
      ],
      "text/plain": [
       "Empty DataFrame\n",
       "Columns: [strain, clade_membership, timepoint, frequency]\n",
       "Index: []"
      ]
     },
     "execution_count": 126,
     "metadata": {},
     "output_type": "execute_result"
    }
   ],
   "source": [
    "tips[tips[\"strain\"] == \"A/HoChiMinh/6388/2010\"]"
   ]
  },
  {
   "cell_type": "code",
   "execution_count": 127,
   "metadata": {},
   "outputs": [],
   "source": [
    "# Identify distinct clades per timepoint.\n",
    "clades = tips.loc[:, [\"timepoint\", \"clade_membership\"]].drop_duplicates().copy()\n",
    "clades = clades.rename(columns={\"timepoint\": \"initial_timepoint\"})"
   ]
  },
  {
   "cell_type": "code",
   "execution_count": 128,
   "metadata": {},
   "outputs": [
    {
     "data": {
      "text/html": [
       "<div>\n",
       "<style scoped>\n",
       "    .dataframe tbody tr th:only-of-type {\n",
       "        vertical-align: middle;\n",
       "    }\n",
       "\n",
       "    .dataframe tbody tr th {\n",
       "        vertical-align: top;\n",
       "    }\n",
       "\n",
       "    .dataframe thead th {\n",
       "        text-align: right;\n",
       "    }\n",
       "</style>\n",
       "<table border=\"1\" class=\"dataframe\">\n",
       "  <thead>\n",
       "    <tr style=\"text-align: right;\">\n",
       "      <th></th>\n",
       "      <th>initial_timepoint</th>\n",
       "      <th>clade_membership</th>\n",
       "    </tr>\n",
       "  </thead>\n",
       "  <tbody>\n",
       "  </tbody>\n",
       "</table>\n",
       "</div>"
      ],
      "text/plain": [
       "Empty DataFrame\n",
       "Columns: [initial_timepoint, clade_membership]\n",
       "Index: []"
      ]
     },
     "execution_count": 128,
     "metadata": {},
     "output_type": "execute_result"
    }
   ],
   "source": [
    "clades[clades[\"clade_membership\"] == \"93a23e6\"]"
   ]
  },
  {
   "cell_type": "code",
   "execution_count": 129,
   "metadata": {},
   "outputs": [
    {
     "data": {
      "text/html": [
       "<div>\n",
       "<style scoped>\n",
       "    .dataframe tbody tr th:only-of-type {\n",
       "        vertical-align: middle;\n",
       "    }\n",
       "\n",
       "    .dataframe tbody tr th {\n",
       "        vertical-align: top;\n",
       "    }\n",
       "\n",
       "    .dataframe thead th {\n",
       "        text-align: right;\n",
       "    }\n",
       "</style>\n",
       "<table border=\"1\" class=\"dataframe\">\n",
       "  <thead>\n",
       "    <tr style=\"text-align: right;\">\n",
       "      <th></th>\n",
       "      <th>strain</th>\n",
       "      <th>clade_membership_tip</th>\n",
       "      <th>timepoint_tip</th>\n",
       "      <th>frequency</th>\n",
       "      <th>tip</th>\n",
       "      <th>clade_membership</th>\n",
       "      <th>depth</th>\n",
       "      <th>lineage</th>\n",
       "      <th>segment</th>\n",
       "      <th>timepoint</th>\n",
       "    </tr>\n",
       "  </thead>\n",
       "  <tbody>\n",
       "  </tbody>\n",
       "</table>\n",
       "</div>"
      ],
      "text/plain": [
       "Empty DataFrame\n",
       "Columns: [strain, clade_membership_tip, timepoint_tip, frequency, tip, clade_membership, depth, lineage, segment, timepoint]\n",
       "Index: []"
      ]
     },
     "execution_count": 129,
     "metadata": {},
     "output_type": "execute_result"
    }
   ],
   "source": [
    "df[df[\"clade_membership\"] == \"93a23e6\"]"
   ]
  },
  {
   "cell_type": "code",
   "execution_count": 130,
   "metadata": {},
   "outputs": [
    {
     "data": {
      "text/html": [
       "<div>\n",
       "<style scoped>\n",
       "    .dataframe tbody tr th:only-of-type {\n",
       "        vertical-align: middle;\n",
       "    }\n",
       "\n",
       "    .dataframe tbody tr th {\n",
       "        vertical-align: top;\n",
       "    }\n",
       "\n",
       "    .dataframe thead th {\n",
       "        text-align: right;\n",
       "    }\n",
       "</style>\n",
       "<table border=\"1\" class=\"dataframe\">\n",
       "  <thead>\n",
       "    <tr style=\"text-align: right;\">\n",
       "      <th></th>\n",
       "      <th>initial_timepoint</th>\n",
       "      <th>clade_membership</th>\n",
       "    </tr>\n",
       "  </thead>\n",
       "  <tbody>\n",
       "    <tr>\n",
       "      <th>1716</th>\n",
       "      <td>2012-04-01</td>\n",
       "      <td>1de1231</td>\n",
       "    </tr>\n",
       "    <tr>\n",
       "      <th>1718</th>\n",
       "      <td>2012-04-01</td>\n",
       "      <td>4fcee9d</td>\n",
       "    </tr>\n",
       "    <tr>\n",
       "      <th>1719</th>\n",
       "      <td>2012-04-01</td>\n",
       "      <td>8302ba4</td>\n",
       "    </tr>\n",
       "    <tr>\n",
       "      <th>1722</th>\n",
       "      <td>2012-04-01</td>\n",
       "      <td>514e67b</td>\n",
       "    </tr>\n",
       "    <tr>\n",
       "      <th>1723</th>\n",
       "      <td>2012-04-01</td>\n",
       "      <td>9371c93</td>\n",
       "    </tr>\n",
       "  </tbody>\n",
       "</table>\n",
       "</div>"
      ],
      "text/plain": [
       "     initial_timepoint clade_membership\n",
       "1716        2012-04-01          1de1231\n",
       "1718        2012-04-01          4fcee9d\n",
       "1719        2012-04-01          8302ba4\n",
       "1722        2012-04-01          514e67b\n",
       "1723        2012-04-01          9371c93"
      ]
     },
     "execution_count": 130,
     "metadata": {},
     "output_type": "execute_result"
    }
   ],
   "source": [
    "clades[clades[\"initial_timepoint\"] == \"2012-04-01\"].head()"
   ]
  },
  {
   "cell_type": "code",
   "execution_count": 131,
   "metadata": {},
   "outputs": [
    {
     "data": {
      "text/html": [
       "<div>\n",
       "<style scoped>\n",
       "    .dataframe tbody tr th:only-of-type {\n",
       "        vertical-align: middle;\n",
       "    }\n",
       "\n",
       "    .dataframe tbody tr th {\n",
       "        vertical-align: top;\n",
       "    }\n",
       "\n",
       "    .dataframe thead th {\n",
       "        text-align: right;\n",
       "    }\n",
       "</style>\n",
       "<table border=\"1\" class=\"dataframe\">\n",
       "  <thead>\n",
       "    <tr style=\"text-align: right;\">\n",
       "      <th></th>\n",
       "      <th>initial_timepoint</th>\n",
       "      <th>clade_membership</th>\n",
       "    </tr>\n",
       "  </thead>\n",
       "  <tbody>\n",
       "    <tr>\n",
       "      <th>1863</th>\n",
       "      <td>2012-10-01</td>\n",
       "      <td>1de1231</td>\n",
       "    </tr>\n",
       "    <tr>\n",
       "      <th>1865</th>\n",
       "      <td>2012-10-01</td>\n",
       "      <td>4fcee9d</td>\n",
       "    </tr>\n",
       "    <tr>\n",
       "      <th>1866</th>\n",
       "      <td>2012-10-01</td>\n",
       "      <td>6625e83</td>\n",
       "    </tr>\n",
       "    <tr>\n",
       "      <th>1871</th>\n",
       "      <td>2012-10-01</td>\n",
       "      <td>514e67b</td>\n",
       "    </tr>\n",
       "    <tr>\n",
       "      <th>1874</th>\n",
       "      <td>2012-10-01</td>\n",
       "      <td>65b5275</td>\n",
       "    </tr>\n",
       "  </tbody>\n",
       "</table>\n",
       "</div>"
      ],
      "text/plain": [
       "     initial_timepoint clade_membership\n",
       "1863        2012-10-01          1de1231\n",
       "1865        2012-10-01          4fcee9d\n",
       "1866        2012-10-01          6625e83\n",
       "1871        2012-10-01          514e67b\n",
       "1874        2012-10-01          65b5275"
      ]
     },
     "execution_count": 131,
     "metadata": {},
     "output_type": "execute_result"
    }
   ],
   "source": [
    "clades[clades[\"initial_timepoint\"] == \"2012-10-01\"].head()"
   ]
  },
  {
   "cell_type": "code",
   "execution_count": 132,
   "metadata": {},
   "outputs": [],
   "source": [
    "final_clade_frequencies = pd.read_table(\"../results/builds/h3n2/5_viruses_per_month/sample_0/2000-10-01--2015-10-01/final_clade_frequencies.tsv\")"
   ]
  },
  {
   "cell_type": "code",
   "execution_count": 133,
   "metadata": {},
   "outputs": [
    {
     "data": {
      "text/plain": [
       "initial_timepoint  clade_membership\n",
       "2004-10-01         00ed6d2             0.000000\n",
       "                   21b8d11             0.000000\n",
       "                   482757a             0.000000\n",
       "                   4ad176b             0.000000\n",
       "                   57fdf76             0.000000\n",
       "                   5c72121             0.000000\n",
       "                   5cbfb7d             0.000000\n",
       "                   6e5d388             0.000000\n",
       "                   74907c6             0.000000\n",
       "                   84dfd90             0.000037\n",
       "                   8f3fc76             0.000000\n",
       "                   9415e47             0.000000\n",
       "                   993737c             0.816643\n",
       "                   b1c31e8             0.010778\n",
       "                   d13edda             0.000030\n",
       "                   d22442e             0.000000\n",
       "                   d5dbb5e             0.000000\n",
       "                   dc76926             0.000000\n",
       "                   e5a7ac4             0.077351\n",
       "                   e712c33             0.000000\n",
       "                   e80cc78             0.000000\n",
       "                   f4914df             0.000000\n",
       "                   ffaf2a6             0.025822\n",
       "2005-04-01         0697dee             0.000001\n",
       "                   10c5c60             0.000000\n",
       "                   12a2869             0.239064\n",
       "                   2509e22             0.000000\n",
       "                   2537bbf             0.000000\n",
       "                   2a92249             0.000000\n",
       "                   3035805             0.000000\n",
       "                                         ...   \n",
       "2015-10-01         23b353a             0.000000\n",
       "                   3261840             0.000000\n",
       "                   3c1bdeb             0.000000\n",
       "                   3c9e6f2             0.000000\n",
       "                   4c9470a             0.000000\n",
       "                   54e5c99             0.000000\n",
       "                   56da84e             0.000000\n",
       "                   56f0c5a             0.000000\n",
       "                   5999129             0.000000\n",
       "                   5b4fbef             0.000000\n",
       "                   62ac755             0.000000\n",
       "                   62c806d             0.000000\n",
       "                   6b835ab             0.000000\n",
       "                   6bc1239             0.000000\n",
       "                   74cef83             0.000000\n",
       "                   75b6692             0.000000\n",
       "                   76852dc             0.000000\n",
       "                   81101a2             0.000000\n",
       "                   8746e2b             0.000000\n",
       "                   904ccfa             0.000000\n",
       "                   93428d7             0.000000\n",
       "                   99565c6             0.000000\n",
       "                   a586cfb             0.000000\n",
       "                   b4efe8b             0.000000\n",
       "                   c97d898             0.000000\n",
       "                   cbe84d0             0.000000\n",
       "                   d6bb955             0.000000\n",
       "                   d82e617             0.000000\n",
       "                   e2a4121             0.000000\n",
       "                   fc52f6a             0.000000\n",
       "Name: frequency, Length: 698, dtype: float64"
      ]
     },
     "execution_count": 133,
     "metadata": {},
     "output_type": "execute_result"
    }
   ],
   "source": [
    "final_clade_frequencies.groupby([\"initial_timepoint\", \"clade_membership\"])[\"frequency\"].sum()"
   ]
  },
  {
   "cell_type": "code",
   "execution_count": 134,
   "metadata": {},
   "outputs": [],
   "source": [
    "clade_counts = final_clade_frequencies.groupby([\"initial_timepoint\", \"clade_membership\"])[\"frequency\"].sum().reset_index()"
   ]
  },
  {
   "cell_type": "code",
   "execution_count": 135,
   "metadata": {},
   "outputs": [
    {
     "data": {
      "image/png": "[encoded data removed]",
      "text/plain": [
       "<Figure size 1020x600 with 1 Axes>"
      ]
     },
     "metadata": {
      "needs_background": "light"
     },
     "output_type": "display_data"
    }
   ],
   "source": [
    "g = sns.FacetGrid(clade_counts, hue=\"clade_membership\", height=6, aspect=1.7)\n",
    "g.map(plt.plot, \"initial_timepoint\", \"frequency\", marker=\"o\")\n",
    "#g.axes.flatten()[0].set_ylim(0, 1)\n",
    "plt.gcf().autofmt_xdate()"
   ]
  },
  {
   "cell_type": "markdown",
   "metadata": {},
   "source": [
    "## Reattempt clade connectivity plots\n",
    "\n",
    "Build the table of future tips by clade for all distinct clades by timepoint, plot those clades by timepoint, and then plot connections between clades at timepoints where future tip frequencies are non-zero."
   ]
  },
  {
   "cell_type": "code",
   "execution_count": 136,
   "metadata": {},
   "outputs": [],
   "source": [
    "delta_months = 12\n",
    "primary_segment = \"ha\"\n",
    "delta_time_offset = pd.DateOffset(months=delta_months)"
   ]
  },
  {
   "cell_type": "code",
   "execution_count": 137,
   "metadata": {},
   "outputs": [],
   "source": [
    "tips = pd.read_csv(\"../results/builds/h3n2/5_viruses_per_month/sample_0/2000-10-01--2015-10-01/standardized_tip_attributes.tsv\",\n",
    "                   sep=\"\\t\", parse_dates=[\"timepoint\"])\n",
    "tips = tips.loc[\n",
    "    tips[\"segment\"] == \"ha\",\n",
    "    [\"strain\", \"clade_membership\", \"timepoint\", \"frequency\"]\n",
    "].copy()"
   ]
  },
  {
   "cell_type": "code",
   "execution_count": 138,
   "metadata": {},
   "outputs": [
    {
     "data": {
      "text/html": [
       "<div>\n",
       "<style scoped>\n",
       "    .dataframe tbody tr th:only-of-type {\n",
       "        vertical-align: middle;\n",
       "    }\n",
       "\n",
       "    .dataframe tbody tr th {\n",
       "        vertical-align: top;\n",
       "    }\n",
       "\n",
       "    .dataframe thead th {\n",
       "        text-align: right;\n",
       "    }\n",
       "</style>\n",
       "<table border=\"1\" class=\"dataframe\">\n",
       "  <thead>\n",
       "    <tr style=\"text-align: right;\">\n",
       "      <th></th>\n",
       "      <th>strain</th>\n",
       "      <th>clade_membership</th>\n",
       "      <th>timepoint</th>\n",
       "      <th>frequency</th>\n",
       "    </tr>\n",
       "  </thead>\n",
       "  <tbody>\n",
       "    <tr>\n",
       "      <th>0</th>\n",
       "      <td>A/Aichi/181/2004</td>\n",
       "      <td>e5a7ac4</td>\n",
       "      <td>2004-10-01</td>\n",
       "      <td>0.005842</td>\n",
       "    </tr>\n",
       "    <tr>\n",
       "      <th>1</th>\n",
       "      <td>A/Aichi/183/2004</td>\n",
       "      <td>e80cc78</td>\n",
       "      <td>2004-10-01</td>\n",
       "      <td>0.005539</td>\n",
       "    </tr>\n",
       "    <tr>\n",
       "      <th>2</th>\n",
       "      <td>A/Argentina/126/2004</td>\n",
       "      <td>d22442e</td>\n",
       "      <td>2004-10-01</td>\n",
       "      <td>0.008012</td>\n",
       "    </tr>\n",
       "    <tr>\n",
       "      <th>3</th>\n",
       "      <td>A/Argentina/AG-R126-04/2004</td>\n",
       "      <td>d22442e</td>\n",
       "      <td>2004-10-01</td>\n",
       "      <td>0.008012</td>\n",
       "    </tr>\n",
       "    <tr>\n",
       "      <th>4</th>\n",
       "      <td>A/Argentina/R26/2004</td>\n",
       "      <td>482757a</td>\n",
       "      <td>2004-10-01</td>\n",
       "      <td>0.004519</td>\n",
       "    </tr>\n",
       "  </tbody>\n",
       "</table>\n",
       "</div>"
      ],
      "text/plain": [
       "                        strain clade_membership  timepoint  frequency\n",
       "0             A/Aichi/181/2004          e5a7ac4 2004-10-01   0.005842\n",
       "1             A/Aichi/183/2004          e80cc78 2004-10-01   0.005539\n",
       "2         A/Argentina/126/2004          d22442e 2004-10-01   0.008012\n",
       "3  A/Argentina/AG-R126-04/2004          d22442e 2004-10-01   0.008012\n",
       "4         A/Argentina/R26/2004          482757a 2004-10-01   0.004519"
      ]
     },
     "execution_count": 138,
     "metadata": {},
     "output_type": "execute_result"
    }
   ],
   "source": [
    "tips.head()"
   ]
  },
  {
   "cell_type": "code",
   "execution_count": 139,
   "metadata": {},
   "outputs": [
    {
     "data": {
      "text/html": [
       "<div>\n",
       "<style scoped>\n",
       "    .dataframe tbody tr th:only-of-type {\n",
       "        vertical-align: middle;\n",
       "    }\n",
       "\n",
       "    .dataframe tbody tr th {\n",
       "        vertical-align: top;\n",
       "    }\n",
       "\n",
       "    .dataframe thead th {\n",
       "        text-align: right;\n",
       "    }\n",
       "</style>\n",
       "<table border=\"1\" class=\"dataframe\">\n",
       "  <thead>\n",
       "    <tr style=\"text-align: right;\">\n",
       "      <th></th>\n",
       "      <th>timepoint</th>\n",
       "      <th>clade_membership</th>\n",
       "      <th>frequency</th>\n",
       "    </tr>\n",
       "  </thead>\n",
       "  <tbody>\n",
       "    <tr>\n",
       "      <th>9</th>\n",
       "      <td>2004-10-01</td>\n",
       "      <td>84dfd90</td>\n",
       "      <td>0.000001</td>\n",
       "    </tr>\n",
       "    <tr>\n",
       "      <th>6</th>\n",
       "      <td>2004-10-01</td>\n",
       "      <td>5cbfb7d</td>\n",
       "      <td>0.000003</td>\n",
       "    </tr>\n",
       "    <tr>\n",
       "      <th>7</th>\n",
       "      <td>2004-10-01</td>\n",
       "      <td>6e5d388</td>\n",
       "      <td>0.000369</td>\n",
       "    </tr>\n",
       "    <tr>\n",
       "      <th>0</th>\n",
       "      <td>2004-10-01</td>\n",
       "      <td>00ed6d2</td>\n",
       "      <td>0.000473</td>\n",
       "    </tr>\n",
       "    <tr>\n",
       "      <th>11</th>\n",
       "      <td>2004-10-01</td>\n",
       "      <td>9415e47</td>\n",
       "      <td>0.000638</td>\n",
       "    </tr>\n",
       "    <tr>\n",
       "      <th>16</th>\n",
       "      <td>2004-10-01</td>\n",
       "      <td>d5dbb5e</td>\n",
       "      <td>0.001388</td>\n",
       "    </tr>\n",
       "    <tr>\n",
       "      <th>17</th>\n",
       "      <td>2004-10-01</td>\n",
       "      <td>dc76926</td>\n",
       "      <td>0.001694</td>\n",
       "    </tr>\n",
       "    <tr>\n",
       "      <th>19</th>\n",
       "      <td>2004-10-01</td>\n",
       "      <td>e712c33</td>\n",
       "      <td>0.008843</td>\n",
       "    </tr>\n",
       "    <tr>\n",
       "      <th>4</th>\n",
       "      <td>2004-10-01</td>\n",
       "      <td>57fdf76</td>\n",
       "      <td>0.013411</td>\n",
       "    </tr>\n",
       "    <tr>\n",
       "      <th>12</th>\n",
       "      <td>2004-10-01</td>\n",
       "      <td>993737c</td>\n",
       "      <td>0.013760</td>\n",
       "    </tr>\n",
       "    <tr>\n",
       "      <th>15</th>\n",
       "      <td>2004-10-01</td>\n",
       "      <td>d22442e</td>\n",
       "      <td>0.016024</td>\n",
       "    </tr>\n",
       "    <tr>\n",
       "      <th>21</th>\n",
       "      <td>2004-10-01</td>\n",
       "      <td>f4914df</td>\n",
       "      <td>0.016578</td>\n",
       "    </tr>\n",
       "    <tr>\n",
       "      <th>8</th>\n",
       "      <td>2004-10-01</td>\n",
       "      <td>74907c6</td>\n",
       "      <td>0.018539</td>\n",
       "    </tr>\n",
       "    <tr>\n",
       "      <th>20</th>\n",
       "      <td>2004-10-01</td>\n",
       "      <td>e80cc78</td>\n",
       "      <td>0.018896</td>\n",
       "    </tr>\n",
       "    <tr>\n",
       "      <th>14</th>\n",
       "      <td>2004-10-01</td>\n",
       "      <td>d13edda</td>\n",
       "      <td>0.025701</td>\n",
       "    </tr>\n",
       "    <tr>\n",
       "      <th>1</th>\n",
       "      <td>2004-10-01</td>\n",
       "      <td>21b8d11</td>\n",
       "      <td>0.039826</td>\n",
       "    </tr>\n",
       "    <tr>\n",
       "      <th>2</th>\n",
       "      <td>2004-10-01</td>\n",
       "      <td>482757a</td>\n",
       "      <td>0.054004</td>\n",
       "    </tr>\n",
       "    <tr>\n",
       "      <th>22</th>\n",
       "      <td>2004-10-01</td>\n",
       "      <td>ffaf2a6</td>\n",
       "      <td>0.105043</td>\n",
       "    </tr>\n",
       "    <tr>\n",
       "      <th>10</th>\n",
       "      <td>2004-10-01</td>\n",
       "      <td>8f3fc76</td>\n",
       "      <td>0.107930</td>\n",
       "    </tr>\n",
       "    <tr>\n",
       "      <th>5</th>\n",
       "      <td>2004-10-01</td>\n",
       "      <td>5c72121</td>\n",
       "      <td>0.121174</td>\n",
       "    </tr>\n",
       "    <tr>\n",
       "      <th>13</th>\n",
       "      <td>2004-10-01</td>\n",
       "      <td>b1c31e8</td>\n",
       "      <td>0.129607</td>\n",
       "    </tr>\n",
       "    <tr>\n",
       "      <th>3</th>\n",
       "      <td>2004-10-01</td>\n",
       "      <td>4ad176b</td>\n",
       "      <td>0.141466</td>\n",
       "    </tr>\n",
       "    <tr>\n",
       "      <th>18</th>\n",
       "      <td>2004-10-01</td>\n",
       "      <td>e5a7ac4</td>\n",
       "      <td>0.164632</td>\n",
       "    </tr>\n",
       "    <tr>\n",
       "      <th>38</th>\n",
       "      <td>2005-04-01</td>\n",
       "      <td>7ee015a</td>\n",
       "      <td>0.000001</td>\n",
       "    </tr>\n",
       "    <tr>\n",
       "      <th>33</th>\n",
       "      <td>2005-04-01</td>\n",
       "      <td>482757a</td>\n",
       "      <td>0.000007</td>\n",
       "    </tr>\n",
       "    <tr>\n",
       "      <th>37</th>\n",
       "      <td>2005-04-01</td>\n",
       "      <td>6e5d388</td>\n",
       "      <td>0.000007</td>\n",
       "    </tr>\n",
       "    <tr>\n",
       "      <th>40</th>\n",
       "      <td>2005-04-01</td>\n",
       "      <td>92f0fff</td>\n",
       "      <td>0.000009</td>\n",
       "    </tr>\n",
       "    <tr>\n",
       "      <th>49</th>\n",
       "      <td>2005-04-01</td>\n",
       "      <td>e712c33</td>\n",
       "      <td>0.000016</td>\n",
       "    </tr>\n",
       "    <tr>\n",
       "      <th>36</th>\n",
       "      <td>2005-04-01</td>\n",
       "      <td>61e8d8e</td>\n",
       "      <td>0.000028</td>\n",
       "    </tr>\n",
       "    <tr>\n",
       "      <th>39</th>\n",
       "      <td>2005-04-01</td>\n",
       "      <td>8f3fc76</td>\n",
       "      <td>0.000030</td>\n",
       "    </tr>\n",
       "    <tr>\n",
       "      <th>...</th>\n",
       "      <td>...</td>\n",
       "      <td>...</td>\n",
       "      <td>...</td>\n",
       "    </tr>\n",
       "    <tr>\n",
       "      <th>669</th>\n",
       "      <td>2015-10-01</td>\n",
       "      <td>3261840</td>\n",
       "      <td>0.000427</td>\n",
       "    </tr>\n",
       "    <tr>\n",
       "      <th>665</th>\n",
       "      <td>2015-10-01</td>\n",
       "      <td>168f8bd</td>\n",
       "      <td>0.000497</td>\n",
       "    </tr>\n",
       "    <tr>\n",
       "      <th>681</th>\n",
       "      <td>2015-10-01</td>\n",
       "      <td>6bc1239</td>\n",
       "      <td>0.000788</td>\n",
       "    </tr>\n",
       "    <tr>\n",
       "      <th>664</th>\n",
       "      <td>2015-10-01</td>\n",
       "      <td>094e4b9</td>\n",
       "      <td>0.000848</td>\n",
       "    </tr>\n",
       "    <tr>\n",
       "      <th>685</th>\n",
       "      <td>2015-10-01</td>\n",
       "      <td>81101a2</td>\n",
       "      <td>0.001056</td>\n",
       "    </tr>\n",
       "    <tr>\n",
       "      <th>686</th>\n",
       "      <td>2015-10-01</td>\n",
       "      <td>8746e2b</td>\n",
       "      <td>0.001181</td>\n",
       "    </tr>\n",
       "    <tr>\n",
       "      <th>671</th>\n",
       "      <td>2015-10-01</td>\n",
       "      <td>3c9e6f2</td>\n",
       "      <td>0.001929</td>\n",
       "    </tr>\n",
       "    <tr>\n",
       "      <th>689</th>\n",
       "      <td>2015-10-01</td>\n",
       "      <td>99565c6</td>\n",
       "      <td>0.001972</td>\n",
       "    </tr>\n",
       "    <tr>\n",
       "      <th>676</th>\n",
       "      <td>2015-10-01</td>\n",
       "      <td>5999129</td>\n",
       "      <td>0.002408</td>\n",
       "    </tr>\n",
       "    <tr>\n",
       "      <th>678</th>\n",
       "      <td>2015-10-01</td>\n",
       "      <td>62ac755</td>\n",
       "      <td>0.003857</td>\n",
       "    </tr>\n",
       "    <tr>\n",
       "      <th>673</th>\n",
       "      <td>2015-10-01</td>\n",
       "      <td>54e5c99</td>\n",
       "      <td>0.004718</td>\n",
       "    </tr>\n",
       "    <tr>\n",
       "      <th>687</th>\n",
       "      <td>2015-10-01</td>\n",
       "      <td>904ccfa</td>\n",
       "      <td>0.004958</td>\n",
       "    </tr>\n",
       "    <tr>\n",
       "      <th>666</th>\n",
       "      <td>2015-10-01</td>\n",
       "      <td>1ae06fc</td>\n",
       "      <td>0.005284</td>\n",
       "    </tr>\n",
       "    <tr>\n",
       "      <th>662</th>\n",
       "      <td>2015-10-01</td>\n",
       "      <td>079af6c</td>\n",
       "      <td>0.006906</td>\n",
       "    </tr>\n",
       "    <tr>\n",
       "      <th>694</th>\n",
       "      <td>2015-10-01</td>\n",
       "      <td>d6bb955</td>\n",
       "      <td>0.011420</td>\n",
       "    </tr>\n",
       "    <tr>\n",
       "      <th>667</th>\n",
       "      <td>2015-10-01</td>\n",
       "      <td>2235687</td>\n",
       "      <td>0.014269</td>\n",
       "    </tr>\n",
       "    <tr>\n",
       "      <th>677</th>\n",
       "      <td>2015-10-01</td>\n",
       "      <td>5b4fbef</td>\n",
       "      <td>0.015128</td>\n",
       "    </tr>\n",
       "    <tr>\n",
       "      <th>682</th>\n",
       "      <td>2015-10-01</td>\n",
       "      <td>74cef83</td>\n",
       "      <td>0.019361</td>\n",
       "    </tr>\n",
       "    <tr>\n",
       "      <th>674</th>\n",
       "      <td>2015-10-01</td>\n",
       "      <td>56da84e</td>\n",
       "      <td>0.021948</td>\n",
       "    </tr>\n",
       "    <tr>\n",
       "      <th>688</th>\n",
       "      <td>2015-10-01</td>\n",
       "      <td>93428d7</td>\n",
       "      <td>0.022581</td>\n",
       "    </tr>\n",
       "    <tr>\n",
       "      <th>690</th>\n",
       "      <td>2015-10-01</td>\n",
       "      <td>a586cfb</td>\n",
       "      <td>0.024180</td>\n",
       "    </tr>\n",
       "    <tr>\n",
       "      <th>692</th>\n",
       "      <td>2015-10-01</td>\n",
       "      <td>c97d898</td>\n",
       "      <td>0.032075</td>\n",
       "    </tr>\n",
       "    <tr>\n",
       "      <th>679</th>\n",
       "      <td>2015-10-01</td>\n",
       "      <td>62c806d</td>\n",
       "      <td>0.036839</td>\n",
       "    </tr>\n",
       "    <tr>\n",
       "      <th>675</th>\n",
       "      <td>2015-10-01</td>\n",
       "      <td>56f0c5a</td>\n",
       "      <td>0.040206</td>\n",
       "    </tr>\n",
       "    <tr>\n",
       "      <th>680</th>\n",
       "      <td>2015-10-01</td>\n",
       "      <td>6b835ab</td>\n",
       "      <td>0.060471</td>\n",
       "    </tr>\n",
       "    <tr>\n",
       "      <th>695</th>\n",
       "      <td>2015-10-01</td>\n",
       "      <td>d82e617</td>\n",
       "      <td>0.061814</td>\n",
       "    </tr>\n",
       "    <tr>\n",
       "      <th>697</th>\n",
       "      <td>2015-10-01</td>\n",
       "      <td>fc52f6a</td>\n",
       "      <td>0.075651</td>\n",
       "    </tr>\n",
       "    <tr>\n",
       "      <th>696</th>\n",
       "      <td>2015-10-01</td>\n",
       "      <td>e2a4121</td>\n",
       "      <td>0.108096</td>\n",
       "    </tr>\n",
       "    <tr>\n",
       "      <th>670</th>\n",
       "      <td>2015-10-01</td>\n",
       "      <td>3c1bdeb</td>\n",
       "      <td>0.153000</td>\n",
       "    </tr>\n",
       "    <tr>\n",
       "      <th>663</th>\n",
       "      <td>2015-10-01</td>\n",
       "      <td>0905900</td>\n",
       "      <td>0.265347</td>\n",
       "    </tr>\n",
       "  </tbody>\n",
       "</table>\n",
       "<p>698 rows × 3 columns</p>\n",
       "</div>"
      ],
      "text/plain": [
       "     timepoint clade_membership  frequency\n",
       "9   2004-10-01          84dfd90   0.000001\n",
       "6   2004-10-01          5cbfb7d   0.000003\n",
       "7   2004-10-01          6e5d388   0.000369\n",
       "0   2004-10-01          00ed6d2   0.000473\n",
       "11  2004-10-01          9415e47   0.000638\n",
       "16  2004-10-01          d5dbb5e   0.001388\n",
       "17  2004-10-01          dc76926   0.001694\n",
       "19  2004-10-01          e712c33   0.008843\n",
       "4   2004-10-01          57fdf76   0.013411\n",
       "12  2004-10-01          993737c   0.013760\n",
       "15  2004-10-01          d22442e   0.016024\n",
       "21  2004-10-01          f4914df   0.016578\n",
       "8   2004-10-01          74907c6   0.018539\n",
       "20  2004-10-01          e80cc78   0.018896\n",
       "14  2004-10-01          d13edda   0.025701\n",
       "1   2004-10-01          21b8d11   0.039826\n",
       "2   2004-10-01          482757a   0.054004\n",
       "22  2004-10-01          ffaf2a6   0.105043\n",
       "10  2004-10-01          8f3fc76   0.107930\n",
       "5   2004-10-01          5c72121   0.121174\n",
       "13  2004-10-01          b1c31e8   0.129607\n",
       "3   2004-10-01          4ad176b   0.141466\n",
       "18  2004-10-01          e5a7ac4   0.164632\n",
       "38  2005-04-01          7ee015a   0.000001\n",
       "33  2005-04-01          482757a   0.000007\n",
       "37  2005-04-01          6e5d388   0.000007\n",
       "40  2005-04-01          92f0fff   0.000009\n",
       "49  2005-04-01          e712c33   0.000016\n",
       "36  2005-04-01          61e8d8e   0.000028\n",
       "39  2005-04-01          8f3fc76   0.000030\n",
       "..         ...              ...        ...\n",
       "669 2015-10-01          3261840   0.000427\n",
       "665 2015-10-01          168f8bd   0.000497\n",
       "681 2015-10-01          6bc1239   0.000788\n",
       "664 2015-10-01          094e4b9   0.000848\n",
       "685 2015-10-01          81101a2   0.001056\n",
       "686 2015-10-01          8746e2b   0.001181\n",
       "671 2015-10-01          3c9e6f2   0.001929\n",
       "689 2015-10-01          99565c6   0.001972\n",
       "676 2015-10-01          5999129   0.002408\n",
       "678 2015-10-01          62ac755   0.003857\n",
       "673 2015-10-01          54e5c99   0.004718\n",
       "687 2015-10-01          904ccfa   0.004958\n",
       "666 2015-10-01          1ae06fc   0.005284\n",
       "662 2015-10-01          079af6c   0.006906\n",
       "694 2015-10-01          d6bb955   0.011420\n",
       "667 2015-10-01          2235687   0.014269\n",
       "677 2015-10-01          5b4fbef   0.015128\n",
       "682 2015-10-01          74cef83   0.019361\n",
       "674 2015-10-01          56da84e   0.021948\n",
       "688 2015-10-01          93428d7   0.022581\n",
       "690 2015-10-01          a586cfb   0.024180\n",
       "692 2015-10-01          c97d898   0.032075\n",
       "679 2015-10-01          62c806d   0.036839\n",
       "675 2015-10-01          56f0c5a   0.040206\n",
       "680 2015-10-01          6b835ab   0.060471\n",
       "695 2015-10-01          d82e617   0.061814\n",
       "697 2015-10-01          fc52f6a   0.075651\n",
       "696 2015-10-01          e2a4121   0.108096\n",
       "670 2015-10-01          3c1bdeb   0.153000\n",
       "663 2015-10-01          0905900   0.265347\n",
       "\n",
       "[698 rows x 3 columns]"
      ]
     },
     "execution_count": 139,
     "metadata": {},
     "output_type": "execute_result"
    }
   ],
   "source": [
    "tips.groupby([\"timepoint\", \"clade_membership\"])[\"frequency\"].sum().reset_index().sort_values([\"timepoint\", \"frequency\"])"
   ]
  },
  {
   "cell_type": "code",
   "execution_count": 140,
   "metadata": {},
   "outputs": [],
   "source": [
    "# Identify distinct clades per timepoint.\n",
    "clades = tips.groupby([\"timepoint\", \"clade_membership\"])[\"frequency\"].sum().reset_index().sort_values([\"timepoint\", \"frequency\"]).copy()\n",
    "clades = clades.rename(columns={\"timepoint\": \"initial_timepoint\"})\n",
    "clades = clades.drop(columns=\"frequency\")"
   ]
  },
  {
   "cell_type": "code",
   "execution_count": 141,
   "metadata": {},
   "outputs": [],
   "source": [
    "# Annotate future timepoint.\n",
    "clades[\"final_timepoint\"] = clades[\"initial_timepoint\"] + delta_time_offset"
   ]
  },
  {
   "cell_type": "code",
   "execution_count": 142,
   "metadata": {},
   "outputs": [
    {
     "data": {
      "text/html": [
       "<div>\n",
       "<style scoped>\n",
       "    .dataframe tbody tr th:only-of-type {\n",
       "        vertical-align: middle;\n",
       "    }\n",
       "\n",
       "    .dataframe tbody tr th {\n",
       "        vertical-align: top;\n",
       "    }\n",
       "\n",
       "    .dataframe thead th {\n",
       "        text-align: right;\n",
       "    }\n",
       "</style>\n",
       "<table border=\"1\" class=\"dataframe\">\n",
       "  <thead>\n",
       "    <tr style=\"text-align: right;\">\n",
       "      <th></th>\n",
       "      <th>initial_timepoint</th>\n",
       "      <th>clade_membership</th>\n",
       "      <th>final_timepoint</th>\n",
       "    </tr>\n",
       "  </thead>\n",
       "  <tbody>\n",
       "    <tr>\n",
       "      <th>9</th>\n",
       "      <td>2004-10-01</td>\n",
       "      <td>84dfd90</td>\n",
       "      <td>2005-10-01</td>\n",
       "    </tr>\n",
       "    <tr>\n",
       "      <th>6</th>\n",
       "      <td>2004-10-01</td>\n",
       "      <td>5cbfb7d</td>\n",
       "      <td>2005-10-01</td>\n",
       "    </tr>\n",
       "    <tr>\n",
       "      <th>7</th>\n",
       "      <td>2004-10-01</td>\n",
       "      <td>6e5d388</td>\n",
       "      <td>2005-10-01</td>\n",
       "    </tr>\n",
       "    <tr>\n",
       "      <th>0</th>\n",
       "      <td>2004-10-01</td>\n",
       "      <td>00ed6d2</td>\n",
       "      <td>2005-10-01</td>\n",
       "    </tr>\n",
       "    <tr>\n",
       "      <th>11</th>\n",
       "      <td>2004-10-01</td>\n",
       "      <td>9415e47</td>\n",
       "      <td>2005-10-01</td>\n",
       "    </tr>\n",
       "  </tbody>\n",
       "</table>\n",
       "</div>"
      ],
      "text/plain": [
       "   initial_timepoint clade_membership final_timepoint\n",
       "9         2004-10-01          84dfd90      2005-10-01\n",
       "6         2004-10-01          5cbfb7d      2005-10-01\n",
       "7         2004-10-01          6e5d388      2005-10-01\n",
       "0         2004-10-01          00ed6d2      2005-10-01\n",
       "11        2004-10-01          9415e47      2005-10-01"
      ]
     },
     "execution_count": 142,
     "metadata": {},
     "output_type": "execute_result"
    }
   ],
   "source": [
    "clades.head()"
   ]
  },
  {
   "cell_type": "code",
   "execution_count": 143,
   "metadata": {},
   "outputs": [],
   "source": [
    "for timepoint, timepoint_df in clades.groupby(\"initial_timepoint\"):\n",
    "    clades.loc[clades[\"initial_timepoint\"] == timepoint, \"y\"] = np.arange(len(timepoint_df))"
   ]
  },
  {
   "cell_type": "code",
   "execution_count": 144,
   "metadata": {},
   "outputs": [
    {
     "data": {
      "text/html": [
       "<div>\n",
       "<style scoped>\n",
       "    .dataframe tbody tr th:only-of-type {\n",
       "        vertical-align: middle;\n",
       "    }\n",
       "\n",
       "    .dataframe tbody tr th {\n",
       "        vertical-align: top;\n",
       "    }\n",
       "\n",
       "    .dataframe thead th {\n",
       "        text-align: right;\n",
       "    }\n",
       "</style>\n",
       "<table border=\"1\" class=\"dataframe\">\n",
       "  <thead>\n",
       "    <tr style=\"text-align: right;\">\n",
       "      <th></th>\n",
       "      <th>initial_timepoint</th>\n",
       "      <th>clade_membership</th>\n",
       "      <th>final_timepoint</th>\n",
       "      <th>y</th>\n",
       "    </tr>\n",
       "  </thead>\n",
       "  <tbody>\n",
       "    <tr>\n",
       "      <th>9</th>\n",
       "      <td>2004-10-01</td>\n",
       "      <td>84dfd90</td>\n",
       "      <td>2005-10-01</td>\n",
       "      <td>0.0</td>\n",
       "    </tr>\n",
       "    <tr>\n",
       "      <th>6</th>\n",
       "      <td>2004-10-01</td>\n",
       "      <td>5cbfb7d</td>\n",
       "      <td>2005-10-01</td>\n",
       "      <td>1.0</td>\n",
       "    </tr>\n",
       "    <tr>\n",
       "      <th>7</th>\n",
       "      <td>2004-10-01</td>\n",
       "      <td>6e5d388</td>\n",
       "      <td>2005-10-01</td>\n",
       "      <td>2.0</td>\n",
       "    </tr>\n",
       "    <tr>\n",
       "      <th>0</th>\n",
       "      <td>2004-10-01</td>\n",
       "      <td>00ed6d2</td>\n",
       "      <td>2005-10-01</td>\n",
       "      <td>3.0</td>\n",
       "    </tr>\n",
       "    <tr>\n",
       "      <th>11</th>\n",
       "      <td>2004-10-01</td>\n",
       "      <td>9415e47</td>\n",
       "      <td>2005-10-01</td>\n",
       "      <td>4.0</td>\n",
       "    </tr>\n",
       "    <tr>\n",
       "      <th>16</th>\n",
       "      <td>2004-10-01</td>\n",
       "      <td>d5dbb5e</td>\n",
       "      <td>2005-10-01</td>\n",
       "      <td>5.0</td>\n",
       "    </tr>\n",
       "    <tr>\n",
       "      <th>17</th>\n",
       "      <td>2004-10-01</td>\n",
       "      <td>dc76926</td>\n",
       "      <td>2005-10-01</td>\n",
       "      <td>6.0</td>\n",
       "    </tr>\n",
       "    <tr>\n",
       "      <th>19</th>\n",
       "      <td>2004-10-01</td>\n",
       "      <td>e712c33</td>\n",
       "      <td>2005-10-01</td>\n",
       "      <td>7.0</td>\n",
       "    </tr>\n",
       "    <tr>\n",
       "      <th>4</th>\n",
       "      <td>2004-10-01</td>\n",
       "      <td>57fdf76</td>\n",
       "      <td>2005-10-01</td>\n",
       "      <td>8.0</td>\n",
       "    </tr>\n",
       "    <tr>\n",
       "      <th>12</th>\n",
       "      <td>2004-10-01</td>\n",
       "      <td>993737c</td>\n",
       "      <td>2005-10-01</td>\n",
       "      <td>9.0</td>\n",
       "    </tr>\n",
       "    <tr>\n",
       "      <th>15</th>\n",
       "      <td>2004-10-01</td>\n",
       "      <td>d22442e</td>\n",
       "      <td>2005-10-01</td>\n",
       "      <td>10.0</td>\n",
       "    </tr>\n",
       "    <tr>\n",
       "      <th>21</th>\n",
       "      <td>2004-10-01</td>\n",
       "      <td>f4914df</td>\n",
       "      <td>2005-10-01</td>\n",
       "      <td>11.0</td>\n",
       "    </tr>\n",
       "    <tr>\n",
       "      <th>8</th>\n",
       "      <td>2004-10-01</td>\n",
       "      <td>74907c6</td>\n",
       "      <td>2005-10-01</td>\n",
       "      <td>12.0</td>\n",
       "    </tr>\n",
       "    <tr>\n",
       "      <th>20</th>\n",
       "      <td>2004-10-01</td>\n",
       "      <td>e80cc78</td>\n",
       "      <td>2005-10-01</td>\n",
       "      <td>13.0</td>\n",
       "    </tr>\n",
       "    <tr>\n",
       "      <th>14</th>\n",
       "      <td>2004-10-01</td>\n",
       "      <td>d13edda</td>\n",
       "      <td>2005-10-01</td>\n",
       "      <td>14.0</td>\n",
       "    </tr>\n",
       "    <tr>\n",
       "      <th>1</th>\n",
       "      <td>2004-10-01</td>\n",
       "      <td>21b8d11</td>\n",
       "      <td>2005-10-01</td>\n",
       "      <td>15.0</td>\n",
       "    </tr>\n",
       "    <tr>\n",
       "      <th>2</th>\n",
       "      <td>2004-10-01</td>\n",
       "      <td>482757a</td>\n",
       "      <td>2005-10-01</td>\n",
       "      <td>16.0</td>\n",
       "    </tr>\n",
       "    <tr>\n",
       "      <th>22</th>\n",
       "      <td>2004-10-01</td>\n",
       "      <td>ffaf2a6</td>\n",
       "      <td>2005-10-01</td>\n",
       "      <td>17.0</td>\n",
       "    </tr>\n",
       "    <tr>\n",
       "      <th>10</th>\n",
       "      <td>2004-10-01</td>\n",
       "      <td>8f3fc76</td>\n",
       "      <td>2005-10-01</td>\n",
       "      <td>18.0</td>\n",
       "    </tr>\n",
       "    <tr>\n",
       "      <th>5</th>\n",
       "      <td>2004-10-01</td>\n",
       "      <td>5c72121</td>\n",
       "      <td>2005-10-01</td>\n",
       "      <td>19.0</td>\n",
       "    </tr>\n",
       "  </tbody>\n",
       "</table>\n",
       "</div>"
      ],
      "text/plain": [
       "   initial_timepoint clade_membership final_timepoint     y\n",
       "9         2004-10-01          84dfd90      2005-10-01   0.0\n",
       "6         2004-10-01          5cbfb7d      2005-10-01   1.0\n",
       "7         2004-10-01          6e5d388      2005-10-01   2.0\n",
       "0         2004-10-01          00ed6d2      2005-10-01   3.0\n",
       "11        2004-10-01          9415e47      2005-10-01   4.0\n",
       "16        2004-10-01          d5dbb5e      2005-10-01   5.0\n",
       "17        2004-10-01          dc76926      2005-10-01   6.0\n",
       "19        2004-10-01          e712c33      2005-10-01   7.0\n",
       "4         2004-10-01          57fdf76      2005-10-01   8.0\n",
       "12        2004-10-01          993737c      2005-10-01   9.0\n",
       "15        2004-10-01          d22442e      2005-10-01  10.0\n",
       "21        2004-10-01          f4914df      2005-10-01  11.0\n",
       "8         2004-10-01          74907c6      2005-10-01  12.0\n",
       "20        2004-10-01          e80cc78      2005-10-01  13.0\n",
       "14        2004-10-01          d13edda      2005-10-01  14.0\n",
       "1         2004-10-01          21b8d11      2005-10-01  15.0\n",
       "2         2004-10-01          482757a      2005-10-01  16.0\n",
       "22        2004-10-01          ffaf2a6      2005-10-01  17.0\n",
       "10        2004-10-01          8f3fc76      2005-10-01  18.0\n",
       "5         2004-10-01          5c72121      2005-10-01  19.0"
      ]
     },
     "execution_count": 144,
     "metadata": {},
     "output_type": "execute_result"
    }
   ],
   "source": [
    "clades.head(20)"
   ]
  },
  {
   "cell_type": "code",
   "execution_count": 145,
   "metadata": {},
   "outputs": [],
   "source": [
    "# Load mapping of tips to all possible clades at each timepoint.\n",
    "tips_to_clades = pd.read_csv(\"../results/builds/h3n2/5_viruses_per_month/sample_0/2000-10-01--2015-10-01/tips_to_clades.tsv\", sep=\"\\t\", parse_dates=[\"timepoint\"])\n",
    "tips_to_clades = tips_to_clades.loc[\n",
    "    tips_to_clades[\"segment\"] == primary_segment,\n",
    "    [\"tip\", \"clade_membership\", \"depth\", \"timepoint\"]\n",
    "].copy()"
   ]
  },
  {
   "cell_type": "code",
   "execution_count": 146,
   "metadata": {},
   "outputs": [],
   "source": [
    "# Get all tip-clade combinations by timepoint for the distinct clades.\n",
    "future_tips_by_clades = clades.merge(\n",
    "    tips_to_clades,\n",
    "    how=\"inner\",\n",
    "    left_on=[\"final_timepoint\", \"clade_membership\"],\n",
    "    right_on=[\"timepoint\", \"clade_membership\"]\n",
    ")"
   ]
  },
  {
   "cell_type": "code",
   "execution_count": 147,
   "metadata": {},
   "outputs": [],
   "source": [
    "# Drop redundant columns.\n",
    "future_tips_by_clades = future_tips_by_clades.drop(\n",
    "    columns=[\"timepoint\"]\n",
    ")"
   ]
  },
  {
   "cell_type": "code",
   "execution_count": 148,
   "metadata": {},
   "outputs": [
    {
     "data": {
      "text/html": [
       "<div>\n",
       "<style scoped>\n",
       "    .dataframe tbody tr th:only-of-type {\n",
       "        vertical-align: middle;\n",
       "    }\n",
       "\n",
       "    .dataframe tbody tr th {\n",
       "        vertical-align: top;\n",
       "    }\n",
       "\n",
       "    .dataframe thead th {\n",
       "        text-align: right;\n",
       "    }\n",
       "</style>\n",
       "<table border=\"1\" class=\"dataframe\">\n",
       "  <thead>\n",
       "    <tr style=\"text-align: right;\">\n",
       "      <th></th>\n",
       "      <th>initial_timepoint</th>\n",
       "      <th>clade_membership</th>\n",
       "      <th>final_timepoint</th>\n",
       "      <th>y</th>\n",
       "      <th>tip</th>\n",
       "      <th>depth</th>\n",
       "    </tr>\n",
       "  </thead>\n",
       "  <tbody>\n",
       "    <tr>\n",
       "      <th>0</th>\n",
       "      <td>2004-10-01</td>\n",
       "      <td>84dfd90</td>\n",
       "      <td>2005-10-01</td>\n",
       "      <td>0.0</td>\n",
       "      <td>A/Bangladesh/1164729/2003</td>\n",
       "      <td>1</td>\n",
       "    </tr>\n",
       "    <tr>\n",
       "      <th>1</th>\n",
       "      <td>2004-10-01</td>\n",
       "      <td>84dfd90</td>\n",
       "      <td>2005-10-01</td>\n",
       "      <td>0.0</td>\n",
       "      <td>A/Fujian/445/2003</td>\n",
       "      <td>3</td>\n",
       "    </tr>\n",
       "    <tr>\n",
       "      <th>2</th>\n",
       "      <td>2004-10-01</td>\n",
       "      <td>84dfd90</td>\n",
       "      <td>2005-10-01</td>\n",
       "      <td>0.0</td>\n",
       "      <td>A/Chita/6/2003</td>\n",
       "      <td>4</td>\n",
       "    </tr>\n",
       "    <tr>\n",
       "      <th>3</th>\n",
       "      <td>2004-10-01</td>\n",
       "      <td>84dfd90</td>\n",
       "      <td>2005-10-01</td>\n",
       "      <td>0.0</td>\n",
       "      <td>A/Shanghai/369/2003</td>\n",
       "      <td>4</td>\n",
       "    </tr>\n",
       "    <tr>\n",
       "      <th>4</th>\n",
       "      <td>2004-10-01</td>\n",
       "      <td>84dfd90</td>\n",
       "      <td>2005-10-01</td>\n",
       "      <td>0.0</td>\n",
       "      <td>A/HongKong/1173/2003</td>\n",
       "      <td>3</td>\n",
       "    </tr>\n",
       "  </tbody>\n",
       "</table>\n",
       "</div>"
      ],
      "text/plain": [
       "  initial_timepoint clade_membership final_timepoint    y  \\\n",
       "0        2004-10-01          84dfd90      2005-10-01  0.0   \n",
       "1        2004-10-01          84dfd90      2005-10-01  0.0   \n",
       "2        2004-10-01          84dfd90      2005-10-01  0.0   \n",
       "3        2004-10-01          84dfd90      2005-10-01  0.0   \n",
       "4        2004-10-01          84dfd90      2005-10-01  0.0   \n",
       "\n",
       "                         tip  depth  \n",
       "0  A/Bangladesh/1164729/2003      1  \n",
       "1          A/Fujian/445/2003      3  \n",
       "2             A/Chita/6/2003      4  \n",
       "3        A/Shanghai/369/2003      4  \n",
       "4       A/HongKong/1173/2003      3  "
      ]
     },
     "execution_count": 148,
     "metadata": {},
     "output_type": "execute_result"
    }
   ],
   "source": [
    "future_tips_by_clades.head()"
   ]
  },
  {
   "cell_type": "code",
   "execution_count": 149,
   "metadata": {},
   "outputs": [],
   "source": [
    "# Get the closest clade to each tip by timepoint. This relies on records\n",
    "# being sorted by depth of clade from tip.\n",
    "future_tips_by_clades = future_tips_by_clades.sort_values([\"initial_timepoint\", \"tip\", \"depth\"]).groupby([\"initial_timepoint\"\\\n",
    ", \"tip\"]).first().reset_index()"
   ]
  },
  {
   "cell_type": "code",
   "execution_count": 150,
   "metadata": {},
   "outputs": [
    {
     "data": {
      "text/html": [
       "<div>\n",
       "<style scoped>\n",
       "    .dataframe tbody tr th:only-of-type {\n",
       "        vertical-align: middle;\n",
       "    }\n",
       "\n",
       "    .dataframe tbody tr th {\n",
       "        vertical-align: top;\n",
       "    }\n",
       "\n",
       "    .dataframe thead th {\n",
       "        text-align: right;\n",
       "    }\n",
       "</style>\n",
       "<table border=\"1\" class=\"dataframe\">\n",
       "  <thead>\n",
       "    <tr style=\"text-align: right;\">\n",
       "      <th></th>\n",
       "      <th>initial_timepoint</th>\n",
       "      <th>tip</th>\n",
       "      <th>clade_membership</th>\n",
       "      <th>final_timepoint</th>\n",
       "      <th>y</th>\n",
       "      <th>depth</th>\n",
       "    </tr>\n",
       "  </thead>\n",
       "  <tbody>\n",
       "    <tr>\n",
       "      <th>0</th>\n",
       "      <td>2004-10-01</td>\n",
       "      <td>A/Aichi/181/2004</td>\n",
       "      <td>e5a7ac4</td>\n",
       "      <td>2005-10-01</td>\n",
       "      <td>22.0</td>\n",
       "      <td>1</td>\n",
       "    </tr>\n",
       "    <tr>\n",
       "      <th>1</th>\n",
       "      <td>2004-10-01</td>\n",
       "      <td>A/Aichi/183/2004</td>\n",
       "      <td>e80cc78</td>\n",
       "      <td>2005-10-01</td>\n",
       "      <td>13.0</td>\n",
       "      <td>1</td>\n",
       "    </tr>\n",
       "    <tr>\n",
       "      <th>2</th>\n",
       "      <td>2004-10-01</td>\n",
       "      <td>A/Anhui/1239/2005</td>\n",
       "      <td>993737c</td>\n",
       "      <td>2005-10-01</td>\n",
       "      <td>9.0</td>\n",
       "      <td>2</td>\n",
       "    </tr>\n",
       "    <tr>\n",
       "      <th>3</th>\n",
       "      <td>2004-10-01</td>\n",
       "      <td>A/Anhui/550/2002</td>\n",
       "      <td>84dfd90</td>\n",
       "      <td>2005-10-01</td>\n",
       "      <td>0.0</td>\n",
       "      <td>1</td>\n",
       "    </tr>\n",
       "    <tr>\n",
       "      <th>4</th>\n",
       "      <td>2004-10-01</td>\n",
       "      <td>A/Argentina/126/2004</td>\n",
       "      <td>d22442e</td>\n",
       "      <td>2005-10-01</td>\n",
       "      <td>10.0</td>\n",
       "      <td>1</td>\n",
       "    </tr>\n",
       "  </tbody>\n",
       "</table>\n",
       "</div>"
      ],
      "text/plain": [
       "  initial_timepoint                   tip clade_membership final_timepoint  \\\n",
       "0        2004-10-01      A/Aichi/181/2004          e5a7ac4      2005-10-01   \n",
       "1        2004-10-01      A/Aichi/183/2004          e80cc78      2005-10-01   \n",
       "2        2004-10-01     A/Anhui/1239/2005          993737c      2005-10-01   \n",
       "3        2004-10-01      A/Anhui/550/2002          84dfd90      2005-10-01   \n",
       "4        2004-10-01  A/Argentina/126/2004          d22442e      2005-10-01   \n",
       "\n",
       "      y  depth  \n",
       "0  22.0      1  \n",
       "1  13.0      1  \n",
       "2   9.0      2  \n",
       "3   0.0      1  \n",
       "4  10.0      1  "
      ]
     },
     "execution_count": 150,
     "metadata": {},
     "output_type": "execute_result"
    }
   ],
   "source": [
    "future_tips_by_clades.head()"
   ]
  },
  {
   "cell_type": "code",
   "execution_count": 151,
   "metadata": {},
   "outputs": [
    {
     "data": {
      "text/html": [
       "<div>\n",
       "<style scoped>\n",
       "    .dataframe tbody tr th:only-of-type {\n",
       "        vertical-align: middle;\n",
       "    }\n",
       "\n",
       "    .dataframe tbody tr th {\n",
       "        vertical-align: top;\n",
       "    }\n",
       "\n",
       "    .dataframe thead th {\n",
       "        text-align: right;\n",
       "    }\n",
       "</style>\n",
       "<table border=\"1\" class=\"dataframe\">\n",
       "  <thead>\n",
       "    <tr style=\"text-align: right;\">\n",
       "      <th></th>\n",
       "      <th>initial_timepoint</th>\n",
       "      <th>tip</th>\n",
       "      <th>clade_membership</th>\n",
       "      <th>final_timepoint</th>\n",
       "      <th>y</th>\n",
       "      <th>depth</th>\n",
       "    </tr>\n",
       "  </thead>\n",
       "  <tbody>\n",
       "  </tbody>\n",
       "</table>\n",
       "</div>"
      ],
      "text/plain": [
       "Empty DataFrame\n",
       "Columns: [initial_timepoint, tip, clade_membership, final_timepoint, y, depth]\n",
       "Index: []"
      ]
     },
     "execution_count": 151,
     "metadata": {},
     "output_type": "execute_result"
    }
   ],
   "source": [
    "future_tips_by_clades[future_tips_by_clades[\"tip\"] == \"A/Aichi/114/2008\"]"
   ]
  },
  {
   "cell_type": "code",
   "execution_count": 152,
   "metadata": {},
   "outputs": [],
   "source": [
    "# Get frequencies of future tips associated with current clades.\n",
    "future_clade_frequencies = future_tips_by_clades.merge(tips, how=\"inner\", left_on=[\"tip\", \"final_timepoint\"], right_on=[\"strain\", \"timepoint\"], suffixes=[\"\", \"_tip\"])\n",
    "future_clade_frequencies = future_clade_frequencies.drop(\n",
    "    columns=[\n",
    "        \"tip\",\n",
    "        \"depth\",\n",
    "        \"clade_membership_tip\",\n",
    "        \"timepoint\"\n",
    "    ]\n",
    ")"
   ]
  },
  {
   "cell_type": "code",
   "execution_count": 153,
   "metadata": {},
   "outputs": [
    {
     "data": {
      "text/html": [
       "<div>\n",
       "<style scoped>\n",
       "    .dataframe tbody tr th:only-of-type {\n",
       "        vertical-align: middle;\n",
       "    }\n",
       "\n",
       "    .dataframe tbody tr th {\n",
       "        vertical-align: top;\n",
       "    }\n",
       "\n",
       "    .dataframe thead th {\n",
       "        text-align: right;\n",
       "    }\n",
       "</style>\n",
       "<table border=\"1\" class=\"dataframe\">\n",
       "  <thead>\n",
       "    <tr style=\"text-align: right;\">\n",
       "      <th></th>\n",
       "      <th>initial_timepoint</th>\n",
       "      <th>clade_membership</th>\n",
       "      <th>final_timepoint</th>\n",
       "      <th>y</th>\n",
       "      <th>strain</th>\n",
       "      <th>frequency</th>\n",
       "    </tr>\n",
       "  </thead>\n",
       "  <tbody>\n",
       "    <tr>\n",
       "      <th>0</th>\n",
       "      <td>2004-10-01</td>\n",
       "      <td>993737c</td>\n",
       "      <td>2005-10-01</td>\n",
       "      <td>9.0</td>\n",
       "      <td>A/Anhui/1239/2005</td>\n",
       "      <td>0.036938</td>\n",
       "    </tr>\n",
       "    <tr>\n",
       "      <th>1</th>\n",
       "      <td>2004-10-01</td>\n",
       "      <td>993737c</td>\n",
       "      <td>2005-10-01</td>\n",
       "      <td>9.0</td>\n",
       "      <td>A/Argentina/AG-R113-05/2005</td>\n",
       "      <td>0.005787</td>\n",
       "    </tr>\n",
       "    <tr>\n",
       "      <th>2</th>\n",
       "      <td>2004-10-01</td>\n",
       "      <td>993737c</td>\n",
       "      <td>2005-10-01</td>\n",
       "      <td>9.0</td>\n",
       "      <td>A/Auckland/616/2005</td>\n",
       "      <td>0.000300</td>\n",
       "    </tr>\n",
       "    <tr>\n",
       "      <th>3</th>\n",
       "      <td>2004-10-01</td>\n",
       "      <td>993737c</td>\n",
       "      <td>2005-10-01</td>\n",
       "      <td>9.0</td>\n",
       "      <td>A/Australia/NHRC0002/2005</td>\n",
       "      <td>0.000385</td>\n",
       "    </tr>\n",
       "    <tr>\n",
       "      <th>4</th>\n",
       "      <td>2004-10-01</td>\n",
       "      <td>993737c</td>\n",
       "      <td>2005-10-01</td>\n",
       "      <td>9.0</td>\n",
       "      <td>A/Australia/NHRC0004/2005</td>\n",
       "      <td>0.000385</td>\n",
       "    </tr>\n",
       "  </tbody>\n",
       "</table>\n",
       "</div>"
      ],
      "text/plain": [
       "  initial_timepoint clade_membership final_timepoint    y  \\\n",
       "0        2004-10-01          993737c      2005-10-01  9.0   \n",
       "1        2004-10-01          993737c      2005-10-01  9.0   \n",
       "2        2004-10-01          993737c      2005-10-01  9.0   \n",
       "3        2004-10-01          993737c      2005-10-01  9.0   \n",
       "4        2004-10-01          993737c      2005-10-01  9.0   \n",
       "\n",
       "                        strain  frequency  \n",
       "0            A/Anhui/1239/2005   0.036938  \n",
       "1  A/Argentina/AG-R113-05/2005   0.005787  \n",
       "2          A/Auckland/616/2005   0.000300  \n",
       "3    A/Australia/NHRC0002/2005   0.000385  \n",
       "4    A/Australia/NHRC0004/2005   0.000385  "
      ]
     },
     "execution_count": 153,
     "metadata": {},
     "output_type": "execute_result"
    }
   ],
   "source": [
    "future_clade_frequencies.head()"
   ]
  },
  {
   "cell_type": "code",
   "execution_count": 154,
   "metadata": {},
   "outputs": [
    {
     "data": {
      "text/plain": [
       "initial_timepoint\n",
       "2004-10-01    0.930661\n",
       "2005-04-01    0.999999\n",
       "2005-10-01    0.999999\n",
       "2006-04-01    0.999998\n",
       "2006-10-01    1.000002\n",
       "2007-04-01    1.000001\n",
       "2007-10-01    1.000000\n",
       "2008-04-01    0.999990\n",
       "2008-10-01    0.999997\n",
       "2009-04-01    1.000002\n",
       "2009-10-01    1.000001\n",
       "2010-04-01    1.000000\n",
       "2010-10-01    0.999991\n",
       "2011-04-01    0.999996\n",
       "2011-10-01    0.986773\n",
       "2012-04-01    0.999658\n",
       "2012-10-01    0.976453\n",
       "2013-04-01    0.999993\n",
       "2013-10-01    1.000003\n",
       "2014-04-01    1.000000\n",
       "2014-10-01    1.000001\n",
       "Name: frequency, dtype: float64"
      ]
     },
     "execution_count": 154,
     "metadata": {},
     "output_type": "execute_result"
    }
   ],
   "source": [
    "future_clade_frequencies.groupby(\"initial_timepoint\")[\"frequency\"].sum()"
   ]
  },
  {
   "cell_type": "code",
   "execution_count": 155,
   "metadata": {},
   "outputs": [
    {
     "data": {
      "text/plain": [
       "(0.9, 1.02)"
      ]
     },
     "execution_count": 155,
     "metadata": {},
     "output_type": "execute_result"
    },
    {
     "data": {
      "image/png": "[encoded data removed]",
      "text/plain": [
       "<Figure size 600x400 with 1 Axes>"
      ]
     },
     "metadata": {
      "needs_background": "light"
     },
     "output_type": "display_data"
    }
   ],
   "source": [
    "ax = future_clade_frequencies.groupby(\"initial_timepoint\")[\"frequency\"].sum().plot(marker=\"o\")\n",
    "ax.set_ylim(0.9, 1.02)"
   ]
  },
  {
   "cell_type": "code",
   "execution_count": 156,
   "metadata": {},
   "outputs": [],
   "source": [
    "future_clades = future_clade_frequencies.loc[:, [\"initial_timepoint\", \"final_timepoint\", \"clade_membership\"]].drop_duplicates()"
   ]
  },
  {
   "cell_type": "code",
   "execution_count": 157,
   "metadata": {},
   "outputs": [
    {
     "data": {
      "text/plain": [
       "(698, 4)"
      ]
     },
     "execution_count": 157,
     "metadata": {},
     "output_type": "execute_result"
    }
   ],
   "source": [
    "clades.shape"
   ]
  },
  {
   "cell_type": "code",
   "execution_count": 158,
   "metadata": {},
   "outputs": [
    {
     "data": {
      "text/html": [
       "<div>\n",
       "<style scoped>\n",
       "    .dataframe tbody tr th:only-of-type {\n",
       "        vertical-align: middle;\n",
       "    }\n",
       "\n",
       "    .dataframe tbody tr th {\n",
       "        vertical-align: top;\n",
       "    }\n",
       "\n",
       "    .dataframe thead th {\n",
       "        text-align: right;\n",
       "    }\n",
       "</style>\n",
       "<table border=\"1\" class=\"dataframe\">\n",
       "  <thead>\n",
       "    <tr style=\"text-align: right;\">\n",
       "      <th></th>\n",
       "      <th>initial_timepoint</th>\n",
       "      <th>clade_membership</th>\n",
       "      <th>final_timepoint</th>\n",
       "      <th>y</th>\n",
       "    </tr>\n",
       "  </thead>\n",
       "  <tbody>\n",
       "    <tr>\n",
       "      <th>9</th>\n",
       "      <td>2004-10-01</td>\n",
       "      <td>84dfd90</td>\n",
       "      <td>2005-10-01</td>\n",
       "      <td>0.0</td>\n",
       "    </tr>\n",
       "    <tr>\n",
       "      <th>6</th>\n",
       "      <td>2004-10-01</td>\n",
       "      <td>5cbfb7d</td>\n",
       "      <td>2005-10-01</td>\n",
       "      <td>1.0</td>\n",
       "    </tr>\n",
       "    <tr>\n",
       "      <th>7</th>\n",
       "      <td>2004-10-01</td>\n",
       "      <td>6e5d388</td>\n",
       "      <td>2005-10-01</td>\n",
       "      <td>2.0</td>\n",
       "    </tr>\n",
       "    <tr>\n",
       "      <th>0</th>\n",
       "      <td>2004-10-01</td>\n",
       "      <td>00ed6d2</td>\n",
       "      <td>2005-10-01</td>\n",
       "      <td>3.0</td>\n",
       "    </tr>\n",
       "    <tr>\n",
       "      <th>11</th>\n",
       "      <td>2004-10-01</td>\n",
       "      <td>9415e47</td>\n",
       "      <td>2005-10-01</td>\n",
       "      <td>4.0</td>\n",
       "    </tr>\n",
       "  </tbody>\n",
       "</table>\n",
       "</div>"
      ],
      "text/plain": [
       "   initial_timepoint clade_membership final_timepoint    y\n",
       "9         2004-10-01          84dfd90      2005-10-01  0.0\n",
       "6         2004-10-01          5cbfb7d      2005-10-01  1.0\n",
       "7         2004-10-01          6e5d388      2005-10-01  2.0\n",
       "0         2004-10-01          00ed6d2      2005-10-01  3.0\n",
       "11        2004-10-01          9415e47      2005-10-01  4.0"
      ]
     },
     "execution_count": 158,
     "metadata": {},
     "output_type": "execute_result"
    }
   ],
   "source": [
    "clades.head()"
   ]
  },
  {
   "cell_type": "code",
   "execution_count": 159,
   "metadata": {},
   "outputs": [
    {
     "data": {
      "text/plain": [
       "(160, 3)"
      ]
     },
     "execution_count": 159,
     "metadata": {},
     "output_type": "execute_result"
    }
   ],
   "source": [
    "future_clades.shape"
   ]
  },
  {
   "cell_type": "code",
   "execution_count": 160,
   "metadata": {},
   "outputs": [],
   "source": [
    "future_clades[\"color\"] = \"#999999\""
   ]
  },
  {
   "cell_type": "code",
   "execution_count": 161,
   "metadata": {},
   "outputs": [
    {
     "data": {
      "text/html": [
       "<div>\n",
       "<style scoped>\n",
       "    .dataframe tbody tr th:only-of-type {\n",
       "        vertical-align: middle;\n",
       "    }\n",
       "\n",
       "    .dataframe tbody tr th {\n",
       "        vertical-align: top;\n",
       "    }\n",
       "\n",
       "    .dataframe thead th {\n",
       "        text-align: right;\n",
       "    }\n",
       "</style>\n",
       "<table border=\"1\" class=\"dataframe\">\n",
       "  <thead>\n",
       "    <tr style=\"text-align: right;\">\n",
       "      <th></th>\n",
       "      <th>initial_timepoint</th>\n",
       "      <th>final_timepoint</th>\n",
       "      <th>clade_membership</th>\n",
       "      <th>color</th>\n",
       "    </tr>\n",
       "  </thead>\n",
       "  <tbody>\n",
       "    <tr>\n",
       "      <th>0</th>\n",
       "      <td>2004-10-01</td>\n",
       "      <td>2005-10-01</td>\n",
       "      <td>993737c</td>\n",
       "      <td>#999999</td>\n",
       "    </tr>\n",
       "    <tr>\n",
       "      <th>11</th>\n",
       "      <td>2004-10-01</td>\n",
       "      <td>2005-10-01</td>\n",
       "      <td>e5a7ac4</td>\n",
       "      <td>#999999</td>\n",
       "    </tr>\n",
       "    <tr>\n",
       "      <th>29</th>\n",
       "      <td>2004-10-01</td>\n",
       "      <td>2005-10-01</td>\n",
       "      <td>84dfd90</td>\n",
       "      <td>#999999</td>\n",
       "    </tr>\n",
       "    <tr>\n",
       "      <th>31</th>\n",
       "      <td>2004-10-01</td>\n",
       "      <td>2005-10-01</td>\n",
       "      <td>ffaf2a6</td>\n",
       "      <td>#999999</td>\n",
       "    </tr>\n",
       "    <tr>\n",
       "      <th>70</th>\n",
       "      <td>2004-10-01</td>\n",
       "      <td>2005-10-01</td>\n",
       "      <td>d13edda</td>\n",
       "      <td>#999999</td>\n",
       "    </tr>\n",
       "  </tbody>\n",
       "</table>\n",
       "</div>"
      ],
      "text/plain": [
       "   initial_timepoint final_timepoint clade_membership    color\n",
       "0         2004-10-01      2005-10-01          993737c  #999999\n",
       "11        2004-10-01      2005-10-01          e5a7ac4  #999999\n",
       "29        2004-10-01      2005-10-01          84dfd90  #999999\n",
       "31        2004-10-01      2005-10-01          ffaf2a6  #999999\n",
       "70        2004-10-01      2005-10-01          d13edda  #999999"
      ]
     },
     "execution_count": 161,
     "metadata": {},
     "output_type": "execute_result"
    }
   ],
   "source": [
    "future_clades.head()"
   ]
  },
  {
   "cell_type": "code",
   "execution_count": 162,
   "metadata": {},
   "outputs": [
    {
     "data": {
      "text/html": [
       "<div>\n",
       "<style scoped>\n",
       "    .dataframe tbody tr th:only-of-type {\n",
       "        vertical-align: middle;\n",
       "    }\n",
       "\n",
       "    .dataframe tbody tr th {\n",
       "        vertical-align: top;\n",
       "    }\n",
       "\n",
       "    .dataframe thead th {\n",
       "        text-align: right;\n",
       "    }\n",
       "</style>\n",
       "<table border=\"1\" class=\"dataframe\">\n",
       "  <thead>\n",
       "    <tr style=\"text-align: right;\">\n",
       "      <th></th>\n",
       "      <th>initial_timepoint</th>\n",
       "      <th>clade_membership</th>\n",
       "      <th>final_timepoint</th>\n",
       "      <th>y</th>\n",
       "    </tr>\n",
       "  </thead>\n",
       "  <tbody>\n",
       "    <tr>\n",
       "      <th>9</th>\n",
       "      <td>2004-10-01</td>\n",
       "      <td>84dfd90</td>\n",
       "      <td>2005-10-01</td>\n",
       "      <td>0.0</td>\n",
       "    </tr>\n",
       "    <tr>\n",
       "      <th>6</th>\n",
       "      <td>2004-10-01</td>\n",
       "      <td>5cbfb7d</td>\n",
       "      <td>2005-10-01</td>\n",
       "      <td>1.0</td>\n",
       "    </tr>\n",
       "    <tr>\n",
       "      <th>7</th>\n",
       "      <td>2004-10-01</td>\n",
       "      <td>6e5d388</td>\n",
       "      <td>2005-10-01</td>\n",
       "      <td>2.0</td>\n",
       "    </tr>\n",
       "    <tr>\n",
       "      <th>0</th>\n",
       "      <td>2004-10-01</td>\n",
       "      <td>00ed6d2</td>\n",
       "      <td>2005-10-01</td>\n",
       "      <td>3.0</td>\n",
       "    </tr>\n",
       "    <tr>\n",
       "      <th>11</th>\n",
       "      <td>2004-10-01</td>\n",
       "      <td>9415e47</td>\n",
       "      <td>2005-10-01</td>\n",
       "      <td>4.0</td>\n",
       "    </tr>\n",
       "  </tbody>\n",
       "</table>\n",
       "</div>"
      ],
      "text/plain": [
       "   initial_timepoint clade_membership final_timepoint    y\n",
       "9         2004-10-01          84dfd90      2005-10-01  0.0\n",
       "6         2004-10-01          5cbfb7d      2005-10-01  1.0\n",
       "7         2004-10-01          6e5d388      2005-10-01  2.0\n",
       "0         2004-10-01          00ed6d2      2005-10-01  3.0\n",
       "11        2004-10-01          9415e47      2005-10-01  4.0"
      ]
     },
     "execution_count": 162,
     "metadata": {},
     "output_type": "execute_result"
    }
   ],
   "source": [
    "clades.head()"
   ]
  },
  {
   "cell_type": "code",
   "execution_count": 163,
   "metadata": {},
   "outputs": [
    {
     "data": {
      "text/plain": [
       "(698, 4)"
      ]
     },
     "execution_count": 163,
     "metadata": {},
     "output_type": "execute_result"
    }
   ],
   "source": [
    "clades.shape"
   ]
  },
  {
   "cell_type": "code",
   "execution_count": 164,
   "metadata": {},
   "outputs": [],
   "source": [
    "clades_with_future_clades = clades.merge(future_clades, how=\"left\", on=[\"initial_timepoint\", \"final_timepoint\", \"clade_membership\"])"
   ]
  },
  {
   "cell_type": "code",
   "execution_count": 165,
   "metadata": {},
   "outputs": [],
   "source": [
    "clades_with_future_clades.loc[pd.isnull(clades_with_future_clades[\"color\"]), \"color\"] = \"#cccccc\""
   ]
  },
  {
   "cell_type": "code",
   "execution_count": 166,
   "metadata": {},
   "outputs": [
    {
     "data": {
      "text/html": [
       "<div>\n",
       "<style scoped>\n",
       "    .dataframe tbody tr th:only-of-type {\n",
       "        vertical-align: middle;\n",
       "    }\n",
       "\n",
       "    .dataframe tbody tr th {\n",
       "        vertical-align: top;\n",
       "    }\n",
       "\n",
       "    .dataframe thead th {\n",
       "        text-align: right;\n",
       "    }\n",
       "</style>\n",
       "<table border=\"1\" class=\"dataframe\">\n",
       "  <thead>\n",
       "    <tr style=\"text-align: right;\">\n",
       "      <th></th>\n",
       "      <th>initial_timepoint</th>\n",
       "      <th>clade_membership</th>\n",
       "      <th>final_timepoint</th>\n",
       "      <th>y</th>\n",
       "      <th>color</th>\n",
       "    </tr>\n",
       "  </thead>\n",
       "  <tbody>\n",
       "    <tr>\n",
       "      <th>0</th>\n",
       "      <td>2004-10-01</td>\n",
       "      <td>84dfd90</td>\n",
       "      <td>2005-10-01</td>\n",
       "      <td>0.0</td>\n",
       "      <td>#999999</td>\n",
       "    </tr>\n",
       "    <tr>\n",
       "      <th>1</th>\n",
       "      <td>2004-10-01</td>\n",
       "      <td>5cbfb7d</td>\n",
       "      <td>2005-10-01</td>\n",
       "      <td>1.0</td>\n",
       "      <td>#cccccc</td>\n",
       "    </tr>\n",
       "    <tr>\n",
       "      <th>2</th>\n",
       "      <td>2004-10-01</td>\n",
       "      <td>6e5d388</td>\n",
       "      <td>2005-10-01</td>\n",
       "      <td>2.0</td>\n",
       "      <td>#cccccc</td>\n",
       "    </tr>\n",
       "    <tr>\n",
       "      <th>3</th>\n",
       "      <td>2004-10-01</td>\n",
       "      <td>00ed6d2</td>\n",
       "      <td>2005-10-01</td>\n",
       "      <td>3.0</td>\n",
       "      <td>#cccccc</td>\n",
       "    </tr>\n",
       "    <tr>\n",
       "      <th>4</th>\n",
       "      <td>2004-10-01</td>\n",
       "      <td>9415e47</td>\n",
       "      <td>2005-10-01</td>\n",
       "      <td>4.0</td>\n",
       "      <td>#cccccc</td>\n",
       "    </tr>\n",
       "  </tbody>\n",
       "</table>\n",
       "</div>"
      ],
      "text/plain": [
       "  initial_timepoint clade_membership final_timepoint    y    color\n",
       "0        2004-10-01          84dfd90      2005-10-01  0.0  #999999\n",
       "1        2004-10-01          5cbfb7d      2005-10-01  1.0  #cccccc\n",
       "2        2004-10-01          6e5d388      2005-10-01  2.0  #cccccc\n",
       "3        2004-10-01          00ed6d2      2005-10-01  3.0  #cccccc\n",
       "4        2004-10-01          9415e47      2005-10-01  4.0  #cccccc"
      ]
     },
     "execution_count": 166,
     "metadata": {},
     "output_type": "execute_result"
    }
   ],
   "source": [
    "clades_with_future_clades.head()"
   ]
  },
  {
   "cell_type": "code",
   "execution_count": 167,
   "metadata": {},
   "outputs": [
    {
     "data": {
      "text/html": [
       "<div>\n",
       "<style scoped>\n",
       "    .dataframe tbody tr th:only-of-type {\n",
       "        vertical-align: middle;\n",
       "    }\n",
       "\n",
       "    .dataframe tbody tr th {\n",
       "        vertical-align: top;\n",
       "    }\n",
       "\n",
       "    .dataframe thead th {\n",
       "        text-align: right;\n",
       "    }\n",
       "</style>\n",
       "<table border=\"1\" class=\"dataframe\">\n",
       "  <thead>\n",
       "    <tr style=\"text-align: right;\">\n",
       "      <th></th>\n",
       "      <th>strain</th>\n",
       "      <th>clade_membership</th>\n",
       "      <th>timepoint</th>\n",
       "      <th>frequency</th>\n",
       "    </tr>\n",
       "  </thead>\n",
       "  <tbody>\n",
       "    <tr>\n",
       "      <th>1022</th>\n",
       "      <td>A/Kyrgyzstan/WRAIR1256P/2008</td>\n",
       "      <td>8c6e6c2</td>\n",
       "      <td>2009-04-01</td>\n",
       "      <td>0.005490</td>\n",
       "    </tr>\n",
       "    <tr>\n",
       "      <th>1053</th>\n",
       "      <td>A/Philippines/3803/2008</td>\n",
       "      <td>8c6e6c2</td>\n",
       "      <td>2009-04-01</td>\n",
       "      <td>0.006157</td>\n",
       "    </tr>\n",
       "    <tr>\n",
       "      <th>1145</th>\n",
       "      <td>A/Kyrgyzstan/WRAIR1256P/2008</td>\n",
       "      <td>8c6e6c2</td>\n",
       "      <td>2009-10-01</td>\n",
       "      <td>0.000001</td>\n",
       "    </tr>\n",
       "  </tbody>\n",
       "</table>\n",
       "</div>"
      ],
      "text/plain": [
       "                            strain clade_membership  timepoint  frequency\n",
       "1022  A/Kyrgyzstan/WRAIR1256P/2008          8c6e6c2 2009-04-01   0.005490\n",
       "1053       A/Philippines/3803/2008          8c6e6c2 2009-04-01   0.006157\n",
       "1145  A/Kyrgyzstan/WRAIR1256P/2008          8c6e6c2 2009-10-01   0.000001"
      ]
     },
     "execution_count": 167,
     "metadata": {},
     "output_type": "execute_result"
    }
   ],
   "source": [
    "tips[tips[\"clade_membership\"] == \"8c6e6c2\"]"
   ]
  },
  {
   "cell_type": "code",
   "execution_count": 168,
   "metadata": {},
   "outputs": [
    {
     "data": {
      "text/plain": [
       "(538, 5)"
      ]
     },
     "execution_count": 168,
     "metadata": {},
     "output_type": "execute_result"
    }
   ],
   "source": [
    "clades_with_future_clades[clades_with_future_clades[\"color\"] == \"#cccccc\"].shape"
   ]
  },
  {
   "cell_type": "code",
   "execution_count": 169,
   "metadata": {},
   "outputs": [
    {
     "data": {
      "text/plain": [
       "initial_timepoint  clade_membership\n",
       "2004-10-01         00ed6d2              2\n",
       "                   21b8d11              1\n",
       "                   482757a              6\n",
       "                   4ad176b              2\n",
       "                   57fdf76              2\n",
       "                   5c72121              6\n",
       "                   5cbfb7d              1\n",
       "                   6e5d388              2\n",
       "                   74907c6              3\n",
       "                   8f3fc76             10\n",
       "                   9415e47              2\n",
       "                   d22442e              2\n",
       "                   d5dbb5e              2\n",
       "                   dc76926              2\n",
       "                   e712c33              3\n",
       "                   e80cc78              4\n",
       "                   f4914df              2\n",
       "2005-04-01         10c5c60              2\n",
       "                   2509e22              4\n",
       "                   2537bbf              2\n",
       "                   2a92249              1\n",
       "                   3035805              1\n",
       "                   482757a              1\n",
       "                   4872ef6              2\n",
       "                   5c72121             10\n",
       "                   61e8d8e              1\n",
       "                   6e5d388              1\n",
       "                   7ee015a              1\n",
       "                   92f0fff              1\n",
       "                   97f474b              2\n",
       "                                       ..\n",
       "2015-10-01         23b353a              2\n",
       "                   3261840              4\n",
       "                   3c1bdeb              6\n",
       "                   3c9e6f2              1\n",
       "                   4c9470a              1\n",
       "                   54e5c99              2\n",
       "                   56da84e              3\n",
       "                   56f0c5a              5\n",
       "                   5999129              1\n",
       "                   5b4fbef              3\n",
       "                   62ac755              2\n",
       "                   62c806d              2\n",
       "                   6b835ab              2\n",
       "                   6bc1239              2\n",
       "                   74cef83              3\n",
       "                   75b6692              1\n",
       "                   76852dc              1\n",
       "                   81101a2              3\n",
       "                   8746e2b              2\n",
       "                   904ccfa              2\n",
       "                   93428d7              2\n",
       "                   99565c6              3\n",
       "                   a586cfb              8\n",
       "                   b4efe8b              1\n",
       "                   c97d898             11\n",
       "                   cbe84d0              2\n",
       "                   d6bb955              2\n",
       "                   d82e617              2\n",
       "                   e2a4121             17\n",
       "                   fc52f6a              4\n",
       "Name: frequency, Length: 538, dtype: int64"
      ]
     },
     "execution_count": 169,
     "metadata": {},
     "output_type": "execute_result"
    }
   ],
   "source": [
    "clades_with_future_clades[clades_with_future_clades[\"color\"] == \"#cccccc\"].merge(tips, left_on=[\"initial_timepoint\", \"clade_membership\"],\n",
    "                                                                                 right_on=[\"timepoint\", \"clade_membership\"]).groupby(\n",
    "    [\"initial_timepoint\", \"clade_membership\"]\n",
    ")[\"frequency\"].count()"
   ]
  },
  {
   "cell_type": "code",
   "execution_count": 170,
   "metadata": {},
   "outputs": [
    {
     "data": {
      "text/html": [
       "<div>\n",
       "<style scoped>\n",
       "    .dataframe tbody tr th:only-of-type {\n",
       "        vertical-align: middle;\n",
       "    }\n",
       "\n",
       "    .dataframe tbody tr th {\n",
       "        vertical-align: top;\n",
       "    }\n",
       "\n",
       "    .dataframe thead th {\n",
       "        text-align: right;\n",
       "    }\n",
       "</style>\n",
       "<table border=\"1\" class=\"dataframe\">\n",
       "  <thead>\n",
       "    <tr style=\"text-align: right;\">\n",
       "      <th></th>\n",
       "      <th>strain</th>\n",
       "      <th>clade_membership</th>\n",
       "      <th>timepoint</th>\n",
       "      <th>frequency</th>\n",
       "    </tr>\n",
       "  </thead>\n",
       "  <tbody>\n",
       "    <tr>\n",
       "      <th>1018</th>\n",
       "      <td>A/Kuwait/WRAIR1143P/2009</td>\n",
       "      <td>a54d1ad</td>\n",
       "      <td>2009-04-01</td>\n",
       "      <td>0.005568</td>\n",
       "    </tr>\n",
       "    <tr>\n",
       "      <th>1020</th>\n",
       "      <td>A/Kyrgyzstan/WRAIR1121P/2008</td>\n",
       "      <td>a54d1ad</td>\n",
       "      <td>2009-04-01</td>\n",
       "      <td>0.005541</td>\n",
       "    </tr>\n",
       "    <tr>\n",
       "      <th>1021</th>\n",
       "      <td>A/Kyrgyzstan/WRAIR1255P/2008</td>\n",
       "      <td>a54d1ad</td>\n",
       "      <td>2009-04-01</td>\n",
       "      <td>0.005490</td>\n",
       "    </tr>\n",
       "    <tr>\n",
       "      <th>1034</th>\n",
       "      <td>A/Moscow/402/2009</td>\n",
       "      <td>a54d1ad</td>\n",
       "      <td>2009-04-01</td>\n",
       "      <td>0.005568</td>\n",
       "    </tr>\n",
       "    <tr>\n",
       "      <th>1055</th>\n",
       "      <td>A/Qazvin/9/2009</td>\n",
       "      <td>a54d1ad</td>\n",
       "      <td>2009-04-01</td>\n",
       "      <td>0.005589</td>\n",
       "    </tr>\n",
       "    <tr>\n",
       "      <th>1141</th>\n",
       "      <td>A/Kuwait/WRAIR1143P/2009</td>\n",
       "      <td>a54d1ad</td>\n",
       "      <td>2009-10-01</td>\n",
       "      <td>0.000166</td>\n",
       "    </tr>\n",
       "    <tr>\n",
       "      <th>1143</th>\n",
       "      <td>A/Kyrgyzstan/WRAIR1121P/2008</td>\n",
       "      <td>a54d1ad</td>\n",
       "      <td>2009-10-01</td>\n",
       "      <td>0.000002</td>\n",
       "    </tr>\n",
       "    <tr>\n",
       "      <th>1144</th>\n",
       "      <td>A/Kyrgyzstan/WRAIR1255P/2008</td>\n",
       "      <td>a54d1ad</td>\n",
       "      <td>2009-10-01</td>\n",
       "      <td>0.000001</td>\n",
       "    </tr>\n",
       "    <tr>\n",
       "      <th>1165</th>\n",
       "      <td>A/Moscow/402/2009</td>\n",
       "      <td>a54d1ad</td>\n",
       "      <td>2009-10-01</td>\n",
       "      <td>0.000166</td>\n",
       "    </tr>\n",
       "    <tr>\n",
       "      <th>1194</th>\n",
       "      <td>A/Qazvin/9/2009</td>\n",
       "      <td>a54d1ad</td>\n",
       "      <td>2009-10-01</td>\n",
       "      <td>0.000019</td>\n",
       "    </tr>\n",
       "  </tbody>\n",
       "</table>\n",
       "</div>"
      ],
      "text/plain": [
       "                            strain clade_membership  timepoint  frequency\n",
       "1018      A/Kuwait/WRAIR1143P/2009          a54d1ad 2009-04-01   0.005568\n",
       "1020  A/Kyrgyzstan/WRAIR1121P/2008          a54d1ad 2009-04-01   0.005541\n",
       "1021  A/Kyrgyzstan/WRAIR1255P/2008          a54d1ad 2009-04-01   0.005490\n",
       "1034             A/Moscow/402/2009          a54d1ad 2009-04-01   0.005568\n",
       "1055               A/Qazvin/9/2009          a54d1ad 2009-04-01   0.005589\n",
       "1141      A/Kuwait/WRAIR1143P/2009          a54d1ad 2009-10-01   0.000166\n",
       "1143  A/Kyrgyzstan/WRAIR1121P/2008          a54d1ad 2009-10-01   0.000002\n",
       "1144  A/Kyrgyzstan/WRAIR1255P/2008          a54d1ad 2009-10-01   0.000001\n",
       "1165             A/Moscow/402/2009          a54d1ad 2009-10-01   0.000166\n",
       "1194               A/Qazvin/9/2009          a54d1ad 2009-10-01   0.000019"
      ]
     },
     "execution_count": 170,
     "metadata": {},
     "output_type": "execute_result"
    }
   ],
   "source": [
    "tips[tips[\"clade_membership\"] == \"a54d1ad\"]"
   ]
  },
  {
   "cell_type": "code",
   "execution_count": 171,
   "metadata": {},
   "outputs": [
    {
     "data": {
      "image/png": "[encoded data removed]",
      "text/plain": [
       "<Figure size 1200x800 with 1 Axes>"
      ]
     },
     "metadata": {
      "needs_background": "light"
     },
     "output_type": "display_data"
    }
   ],
   "source": [
    "fig, ax = plt.subplots(1, 1, figsize=(12, 8))\n",
    "\n",
    "present = clades_with_future_clades[clades_with_future_clades[\"color\"] == \"#999999\"]\n",
    "ax.plot(present[\"initial_timepoint\"], present[\"y\"], \"o\", linestyle=\"\", c=\"#000000\")\n",
    "\n",
    "absent = clades_with_future_clades[clades_with_future_clades[\"color\"] == \"#cccccc\"]\n",
    "ax.plot(absent[\"initial_timepoint\"], absent[\"y\"], \"o\", linestyle=\"\", c=\"#cccccc\")\n",
    "\n",
    "ax.set_xlabel(\"Timepoint\")\n",
    "ax.set_ylabel(\"Clade\")\n",
    "plt.gcf().autofmt_xdate()"
   ]
  },
  {
   "cell_type": "code",
   "execution_count": null,
   "metadata": {},
   "outputs": [],
   "source": []
  },
  {
   "cell_type": "code",
   "execution_count": null,
   "metadata": {},
   "outputs": [],
   "source": []
  }
 ],
 "metadata": {
  "kernelspec": {
   "display_name": "Python 3",
   "language": "python",
   "name": "python3"
  },
  "language_info": {
   "codemirror_mode": {
    "name": "ipython",
    "version": 3
   },
   "file_extension": ".py",
   "mimetype": "text/x-python",
   "name": "python",
   "nbconvert_exporter": "python",
   "pygments_lexer": "ipython3",
   "version": "3.6.7"
  }
 },
 "nbformat": 4,
 "nbformat_minor": 2
}
