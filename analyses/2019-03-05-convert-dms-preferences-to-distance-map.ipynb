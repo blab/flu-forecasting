{
 "cells": [
  {
   "cell_type": "markdown",
   "metadata": {},
   "source": [
    "# Convert DMS preferences to a distance map\n",
    "\n",
    "DMS preferences are reported as a matrix of preference per site and amino acid. To convert these preferences into a distance metric for use in a fitness model, we want to calculate the mutation effect for all pairs of amino acids at all sites."
   ]
  },
  {
   "cell_type": "code",
   "execution_count": 1,
   "metadata": {},
   "outputs": [],
   "source": [
    "import json\n",
    "import matplotlib.pyplot as plt\n",
    "import numpy as np\n",
    "import pandas as pd\n",
    "import seaborn as sns\n",
    "import sys\n",
    "\n",
    "%matplotlib inline"
   ]
  },
  {
   "cell_type": "code",
   "execution_count": 2,
   "metadata": {},
   "outputs": [],
   "source": [
    "plt.style.use(\"huddlej\")"
   ]
  },
  {
   "cell_type": "markdown",
   "metadata": {},
   "source": [
    "## Load data"
   ]
  },
  {
   "cell_type": "code",
   "execution_count": 3,
   "metadata": {},
   "outputs": [],
   "source": [
    "data = \"../data/dms-h3n2-preferences-rescaled.csv\""
   ]
  },
  {
   "cell_type": "code",
   "execution_count": 4,
   "metadata": {},
   "outputs": [],
   "source": [
    "df = pd.read_csv(data)"
   ]
  },
  {
   "cell_type": "code",
   "execution_count": 5,
   "metadata": {},
   "outputs": [
    {
     "data": {
      "text/html": [
       "<div>\n",
       "<style scoped>\n",
       "    .dataframe tbody tr th:only-of-type {\n",
       "        vertical-align: middle;\n",
       "    }\n",
       "\n",
       "    .dataframe tbody tr th {\n",
       "        vertical-align: top;\n",
       "    }\n",
       "\n",
       "    .dataframe thead th {\n",
       "        text-align: right;\n",
       "    }\n",
       "</style>\n",
       "<table border=\"1\" class=\"dataframe\">\n",
       "  <thead>\n",
       "    <tr style=\"text-align: right;\">\n",
       "      <th></th>\n",
       "      <th>site</th>\n",
       "      <th>A</th>\n",
       "      <th>C</th>\n",
       "      <th>D</th>\n",
       "      <th>E</th>\n",
       "      <th>F</th>\n",
       "      <th>G</th>\n",
       "      <th>H</th>\n",
       "      <th>I</th>\n",
       "      <th>K</th>\n",
       "      <th>...</th>\n",
       "      <th>P</th>\n",
       "      <th>Q</th>\n",
       "      <th>R</th>\n",
       "      <th>S</th>\n",
       "      <th>T</th>\n",
       "      <th>V</th>\n",
       "      <th>W</th>\n",
       "      <th>Y</th>\n",
       "      <th>entropy</th>\n",
       "      <th>neffective</th>\n",
       "    </tr>\n",
       "  </thead>\n",
       "  <tbody>\n",
       "    <tr>\n",
       "      <th>0</th>\n",
       "      <td>-16</td>\n",
       "      <td>0.014871</td>\n",
       "      <td>0.085098</td>\n",
       "      <td>0.136767</td>\n",
       "      <td>0.037090</td>\n",
       "      <td>0.025928</td>\n",
       "      <td>0.020988</td>\n",
       "      <td>0.011305</td>\n",
       "      <td>0.082474</td>\n",
       "      <td>0.147416</td>\n",
       "      <td>...</td>\n",
       "      <td>0.000107</td>\n",
       "      <td>0.022513</td>\n",
       "      <td>0.043732</td>\n",
       "      <td>0.010125</td>\n",
       "      <td>0.026076</td>\n",
       "      <td>0.026601</td>\n",
       "      <td>0.039734</td>\n",
       "      <td>0.074225</td>\n",
       "      <td>2.675247</td>\n",
       "      <td>14.515938</td>\n",
       "    </tr>\n",
       "    <tr>\n",
       "      <th>1</th>\n",
       "      <td>-15</td>\n",
       "      <td>0.000842</td>\n",
       "      <td>0.005272</td>\n",
       "      <td>0.005332</td>\n",
       "      <td>0.002805</td>\n",
       "      <td>0.038745</td>\n",
       "      <td>0.000387</td>\n",
       "      <td>0.035235</td>\n",
       "      <td>0.172027</td>\n",
       "      <td>0.262394</td>\n",
       "      <td>...</td>\n",
       "      <td>0.000922</td>\n",
       "      <td>0.019696</td>\n",
       "      <td>0.048044</td>\n",
       "      <td>0.003923</td>\n",
       "      <td>0.010624</td>\n",
       "      <td>0.047450</td>\n",
       "      <td>0.083409</td>\n",
       "      <td>0.110740</td>\n",
       "      <td>2.275608</td>\n",
       "      <td>9.733835</td>\n",
       "    </tr>\n",
       "    <tr>\n",
       "      <th>2</th>\n",
       "      <td>-14</td>\n",
       "      <td>0.006965</td>\n",
       "      <td>0.068999</td>\n",
       "      <td>0.010278</td>\n",
       "      <td>0.029151</td>\n",
       "      <td>0.028980</td>\n",
       "      <td>0.000074</td>\n",
       "      <td>0.031234</td>\n",
       "      <td>0.020222</td>\n",
       "      <td>0.048197</td>\n",
       "      <td>...</td>\n",
       "      <td>0.060473</td>\n",
       "      <td>0.065088</td>\n",
       "      <td>0.060442</td>\n",
       "      <td>0.039089</td>\n",
       "      <td>0.080455</td>\n",
       "      <td>0.012755</td>\n",
       "      <td>0.092659</td>\n",
       "      <td>0.127560</td>\n",
       "      <td>2.664450</td>\n",
       "      <td>14.360048</td>\n",
       "    </tr>\n",
       "    <tr>\n",
       "      <th>3</th>\n",
       "      <td>-13</td>\n",
       "      <td>0.177685</td>\n",
       "      <td>0.180615</td>\n",
       "      <td>0.002740</td>\n",
       "      <td>0.011457</td>\n",
       "      <td>0.023248</td>\n",
       "      <td>0.049499</td>\n",
       "      <td>0.013153</td>\n",
       "      <td>0.062442</td>\n",
       "      <td>0.039223</td>\n",
       "      <td>...</td>\n",
       "      <td>0.013630</td>\n",
       "      <td>0.008927</td>\n",
       "      <td>0.002066</td>\n",
       "      <td>0.028406</td>\n",
       "      <td>0.015607</td>\n",
       "      <td>0.206730</td>\n",
       "      <td>0.005484</td>\n",
       "      <td>0.084061</td>\n",
       "      <td>2.376940</td>\n",
       "      <td>10.771889</td>\n",
       "    </tr>\n",
       "    <tr>\n",
       "      <th>4</th>\n",
       "      <td>-12</td>\n",
       "      <td>0.017543</td>\n",
       "      <td>0.014953</td>\n",
       "      <td>0.002865</td>\n",
       "      <td>0.000621</td>\n",
       "      <td>0.080053</td>\n",
       "      <td>0.061449</td>\n",
       "      <td>0.000202</td>\n",
       "      <td>0.165689</td>\n",
       "      <td>0.005086</td>\n",
       "      <td>...</td>\n",
       "      <td>0.000415</td>\n",
       "      <td>0.001055</td>\n",
       "      <td>0.000668</td>\n",
       "      <td>0.009665</td>\n",
       "      <td>0.016923</td>\n",
       "      <td>0.005231</td>\n",
       "      <td>0.485037</td>\n",
       "      <td>0.036957</td>\n",
       "      <td>1.784825</td>\n",
       "      <td>5.958536</td>\n",
       "    </tr>\n",
       "  </tbody>\n",
       "</table>\n",
       "<p>5 rows × 23 columns</p>\n",
       "</div>"
      ],
      "text/plain": [
       "  site         A         C         D         E         F         G         H  \\\n",
       "0  -16  0.014871  0.085098  0.136767  0.037090  0.025928  0.020988  0.011305   \n",
       "1  -15  0.000842  0.005272  0.005332  0.002805  0.038745  0.000387  0.035235   \n",
       "2  -14  0.006965  0.068999  0.010278  0.029151  0.028980  0.000074  0.031234   \n",
       "3  -13  0.177685  0.180615  0.002740  0.011457  0.023248  0.049499  0.013153   \n",
       "4  -12  0.017543  0.014953  0.002865  0.000621  0.080053  0.061449  0.000202   \n",
       "\n",
       "          I         K     ...             P         Q         R         S  \\\n",
       "0  0.082474  0.147416     ...      0.000107  0.022513  0.043732  0.010125   \n",
       "1  0.172027  0.262394     ...      0.000922  0.019696  0.048044  0.003923   \n",
       "2  0.020222  0.048197     ...      0.060473  0.065088  0.060442  0.039089   \n",
       "3  0.062442  0.039223     ...      0.013630  0.008927  0.002066  0.028406   \n",
       "4  0.165689  0.005086     ...      0.000415  0.001055  0.000668  0.009665   \n",
       "\n",
       "          T         V         W         Y   entropy  neffective  \n",
       "0  0.026076  0.026601  0.039734  0.074225  2.675247   14.515938  \n",
       "1  0.010624  0.047450  0.083409  0.110740  2.275608    9.733835  \n",
       "2  0.080455  0.012755  0.092659  0.127560  2.664450   14.360048  \n",
       "3  0.015607  0.206730  0.005484  0.084061  2.376940   10.771889  \n",
       "4  0.016923  0.005231  0.485037  0.036957  1.784825    5.958536  \n",
       "\n",
       "[5 rows x 23 columns]"
      ]
     },
     "execution_count": 5,
     "metadata": {},
     "output_type": "execute_result"
    }
   ],
   "source": [
    "df.head()"
   ]
  },
  {
   "cell_type": "markdown",
   "metadata": {},
   "source": [
    "## Convert sites to one-based gene-specific coordinates\n",
    "\n",
    "SigPep coordinates are reported as negative values, HA1 coordinates are reported as is, and HA2 coordinates are all prefixed by \"(HA2)\"."
   ]
  },
  {
   "cell_type": "code",
   "execution_count": 6,
   "metadata": {},
   "outputs": [],
   "source": [
    "def annotate_gene_specific_coordinates(site):\n",
    "    site = int(site.replace(\"(HA2)\", \"\"))\n",
    "    if site < 0:\n",
    "        site = site + 16 + 1\n",
    "\n",
    "    return site\n",
    "\n",
    "def annotate_gene(site):\n",
    "    if site.startswith(\"(HA2)\"):\n",
    "        return \"HA2\"\n",
    "    else:\n",
    "        site = int(site)\n",
    "        if site < 0:\n",
    "            return \"SigPep\"\n",
    "        else:\n",
    "            return \"HA1\""
   ]
  },
  {
   "cell_type": "code",
   "execution_count": 7,
   "metadata": {},
   "outputs": [
    {
     "data": {
      "text/plain": [
       "0    -16\n",
       "1    -15\n",
       "2    -14\n",
       "3    -13\n",
       "4    -12\n",
       "Name: site, dtype: object"
      ]
     },
     "execution_count": 7,
     "metadata": {},
     "output_type": "execute_result"
    }
   ],
   "source": [
    "df[\"site\"].head()"
   ]
  },
  {
   "cell_type": "code",
   "execution_count": 8,
   "metadata": {},
   "outputs": [],
   "source": [
    "df[\"gene\"] = df[\"site\"].apply(annotate_gene)"
   ]
  },
  {
   "cell_type": "code",
   "execution_count": 9,
   "metadata": {},
   "outputs": [],
   "source": [
    "df[\"position\"] = df[\"site\"].apply(annotate_gene_specific_coordinates)"
   ]
  },
  {
   "cell_type": "code",
   "execution_count": 10,
   "metadata": {},
   "outputs": [
    {
     "data": {
      "text/html": [
       "<div>\n",
       "<style scoped>\n",
       "    .dataframe tbody tr th:only-of-type {\n",
       "        vertical-align: middle;\n",
       "    }\n",
       "\n",
       "    .dataframe tbody tr th {\n",
       "        vertical-align: top;\n",
       "    }\n",
       "\n",
       "    .dataframe thead th {\n",
       "        text-align: right;\n",
       "    }\n",
       "</style>\n",
       "<table border=\"1\" class=\"dataframe\">\n",
       "  <thead>\n",
       "    <tr style=\"text-align: right;\">\n",
       "      <th></th>\n",
       "      <th>site</th>\n",
       "      <th>A</th>\n",
       "      <th>C</th>\n",
       "      <th>D</th>\n",
       "      <th>E</th>\n",
       "      <th>F</th>\n",
       "      <th>G</th>\n",
       "      <th>H</th>\n",
       "      <th>I</th>\n",
       "      <th>K</th>\n",
       "      <th>...</th>\n",
       "      <th>R</th>\n",
       "      <th>S</th>\n",
       "      <th>T</th>\n",
       "      <th>V</th>\n",
       "      <th>W</th>\n",
       "      <th>Y</th>\n",
       "      <th>entropy</th>\n",
       "      <th>neffective</th>\n",
       "      <th>gene</th>\n",
       "      <th>position</th>\n",
       "    </tr>\n",
       "  </thead>\n",
       "  <tbody>\n",
       "    <tr>\n",
       "      <th>0</th>\n",
       "      <td>-16</td>\n",
       "      <td>0.014871</td>\n",
       "      <td>0.085098</td>\n",
       "      <td>0.136767</td>\n",
       "      <td>0.037090</td>\n",
       "      <td>0.025928</td>\n",
       "      <td>0.020988</td>\n",
       "      <td>0.011305</td>\n",
       "      <td>0.082474</td>\n",
       "      <td>0.147416</td>\n",
       "      <td>...</td>\n",
       "      <td>0.043732</td>\n",
       "      <td>0.010125</td>\n",
       "      <td>0.026076</td>\n",
       "      <td>0.026601</td>\n",
       "      <td>0.039734</td>\n",
       "      <td>0.074225</td>\n",
       "      <td>2.675247</td>\n",
       "      <td>14.515938</td>\n",
       "      <td>SigPep</td>\n",
       "      <td>1</td>\n",
       "    </tr>\n",
       "    <tr>\n",
       "      <th>1</th>\n",
       "      <td>-15</td>\n",
       "      <td>0.000842</td>\n",
       "      <td>0.005272</td>\n",
       "      <td>0.005332</td>\n",
       "      <td>0.002805</td>\n",
       "      <td>0.038745</td>\n",
       "      <td>0.000387</td>\n",
       "      <td>0.035235</td>\n",
       "      <td>0.172027</td>\n",
       "      <td>0.262394</td>\n",
       "      <td>...</td>\n",
       "      <td>0.048044</td>\n",
       "      <td>0.003923</td>\n",
       "      <td>0.010624</td>\n",
       "      <td>0.047450</td>\n",
       "      <td>0.083409</td>\n",
       "      <td>0.110740</td>\n",
       "      <td>2.275608</td>\n",
       "      <td>9.733835</td>\n",
       "      <td>SigPep</td>\n",
       "      <td>2</td>\n",
       "    </tr>\n",
       "    <tr>\n",
       "      <th>2</th>\n",
       "      <td>-14</td>\n",
       "      <td>0.006965</td>\n",
       "      <td>0.068999</td>\n",
       "      <td>0.010278</td>\n",
       "      <td>0.029151</td>\n",
       "      <td>0.028980</td>\n",
       "      <td>0.000074</td>\n",
       "      <td>0.031234</td>\n",
       "      <td>0.020222</td>\n",
       "      <td>0.048197</td>\n",
       "      <td>...</td>\n",
       "      <td>0.060442</td>\n",
       "      <td>0.039089</td>\n",
       "      <td>0.080455</td>\n",
       "      <td>0.012755</td>\n",
       "      <td>0.092659</td>\n",
       "      <td>0.127560</td>\n",
       "      <td>2.664450</td>\n",
       "      <td>14.360048</td>\n",
       "      <td>SigPep</td>\n",
       "      <td>3</td>\n",
       "    </tr>\n",
       "    <tr>\n",
       "      <th>3</th>\n",
       "      <td>-13</td>\n",
       "      <td>0.177685</td>\n",
       "      <td>0.180615</td>\n",
       "      <td>0.002740</td>\n",
       "      <td>0.011457</td>\n",
       "      <td>0.023248</td>\n",
       "      <td>0.049499</td>\n",
       "      <td>0.013153</td>\n",
       "      <td>0.062442</td>\n",
       "      <td>0.039223</td>\n",
       "      <td>...</td>\n",
       "      <td>0.002066</td>\n",
       "      <td>0.028406</td>\n",
       "      <td>0.015607</td>\n",
       "      <td>0.206730</td>\n",
       "      <td>0.005484</td>\n",
       "      <td>0.084061</td>\n",
       "      <td>2.376940</td>\n",
       "      <td>10.771889</td>\n",
       "      <td>SigPep</td>\n",
       "      <td>4</td>\n",
       "    </tr>\n",
       "    <tr>\n",
       "      <th>4</th>\n",
       "      <td>-12</td>\n",
       "      <td>0.017543</td>\n",
       "      <td>0.014953</td>\n",
       "      <td>0.002865</td>\n",
       "      <td>0.000621</td>\n",
       "      <td>0.080053</td>\n",
       "      <td>0.061449</td>\n",
       "      <td>0.000202</td>\n",
       "      <td>0.165689</td>\n",
       "      <td>0.005086</td>\n",
       "      <td>...</td>\n",
       "      <td>0.000668</td>\n",
       "      <td>0.009665</td>\n",
       "      <td>0.016923</td>\n",
       "      <td>0.005231</td>\n",
       "      <td>0.485037</td>\n",
       "      <td>0.036957</td>\n",
       "      <td>1.784825</td>\n",
       "      <td>5.958536</td>\n",
       "      <td>SigPep</td>\n",
       "      <td>5</td>\n",
       "    </tr>\n",
       "  </tbody>\n",
       "</table>\n",
       "<p>5 rows × 25 columns</p>\n",
       "</div>"
      ],
      "text/plain": [
       "  site         A         C         D         E         F         G         H  \\\n",
       "0  -16  0.014871  0.085098  0.136767  0.037090  0.025928  0.020988  0.011305   \n",
       "1  -15  0.000842  0.005272  0.005332  0.002805  0.038745  0.000387  0.035235   \n",
       "2  -14  0.006965  0.068999  0.010278  0.029151  0.028980  0.000074  0.031234   \n",
       "3  -13  0.177685  0.180615  0.002740  0.011457  0.023248  0.049499  0.013153   \n",
       "4  -12  0.017543  0.014953  0.002865  0.000621  0.080053  0.061449  0.000202   \n",
       "\n",
       "          I         K    ...            R         S         T         V  \\\n",
       "0  0.082474  0.147416    ...     0.043732  0.010125  0.026076  0.026601   \n",
       "1  0.172027  0.262394    ...     0.048044  0.003923  0.010624  0.047450   \n",
       "2  0.020222  0.048197    ...     0.060442  0.039089  0.080455  0.012755   \n",
       "3  0.062442  0.039223    ...     0.002066  0.028406  0.015607  0.206730   \n",
       "4  0.165689  0.005086    ...     0.000668  0.009665  0.016923  0.005231   \n",
       "\n",
       "          W         Y   entropy  neffective    gene  position  \n",
       "0  0.039734  0.074225  2.675247   14.515938  SigPep         1  \n",
       "1  0.083409  0.110740  2.275608    9.733835  SigPep         2  \n",
       "2  0.092659  0.127560  2.664450   14.360048  SigPep         3  \n",
       "3  0.005484  0.084061  2.376940   10.771889  SigPep         4  \n",
       "4  0.485037  0.036957  1.784825    5.958536  SigPep         5  \n",
       "\n",
       "[5 rows x 25 columns]"
      ]
     },
     "execution_count": 10,
     "metadata": {},
     "output_type": "execute_result"
    }
   ],
   "source": [
    "df.head()"
   ]
  },
  {
   "cell_type": "code",
   "execution_count": 149,
   "metadata": {},
   "outputs": [],
   "source": [
    "distance_map = {\n",
    "    \"name\": \"dms_mutation_effect\",\n",
    "    \"default\": 0.0,\n",
    "    \"map\": {}\n",
    "}\n",
    "weights = []\n",
    "values = 0\n",
    "\n",
    "for index, row in df.iterrows():\n",
    "    gene = row[\"gene\"]\n",
    "    position = str(row[\"position\"])\n",
    "    \n",
    "    if gene not in distance_map[\"map\"]:\n",
    "        distance_map[\"map\"][gene] = {}\n",
    "        \n",
    "    if position not in distance_map[\"map\"][gene]:\n",
    "        distance_map[\"map\"][gene][position] = []\n",
    "    \n",
    "    for residue_a, preference_a in row[\"A\":\"Y\"].items():\n",
    "        for residue_b, preference_b in row[\"A\":\"Y\"].items():\n",
    "            if residue_a == residue_b:\n",
    "                continue\n",
    "\n",
    "            weight = np.round(np.log2(preference_b / preference_a), 2)\n",
    "            distance_map[\"map\"][gene][position].append({\n",
    "                \"from\": residue_a,\n",
    "                \"to\": residue_b,\n",
    "                \"weight\": weight\n",
    "            })\n",
    "            values += 1\n",
    "\n",
    "            if index < 6:\n",
    "                weights.append({\"position\": \"%s:%s\" % (gene, position), \"weight\": weight})"
   ]
  },
  {
   "cell_type": "code",
   "execution_count": 141,
   "metadata": {},
   "outputs": [],
   "source": [
    "with open(\"dms_mutation_effect.json\", \"w\") as oh:\n",
    "    json.dump(distance_map, oh)"
   ]
  },
  {
   "cell_type": "code",
   "execution_count": 142,
   "metadata": {},
   "outputs": [
    {
     "name": "stdout",
     "output_type": "stream",
     "text": [
      "-rw-r--r--  1 jlhudd  staff   8.7M Mar  5 15:11 dms_mutation_effect.json\n"
     ]
    }
   ],
   "source": [
    "!ls -lh dms_mutation_effect.json"
   ]
  },
  {
   "cell_type": "code",
   "execution_count": 143,
   "metadata": {},
   "outputs": [],
   "source": [
    "!gzip -c dms_mutation_effect.json > dms_mutation_effect.json.gz"
   ]
  },
  {
   "cell_type": "code",
   "execution_count": 144,
   "metadata": {},
   "outputs": [
    {
     "name": "stdout",
     "output_type": "stream",
     "text": [
      "-rw-r--r--  1 jlhudd  staff   8.7M Mar  5 15:11 dms_mutation_effect.json\n",
      "-rw-r--r--  1 jlhudd  staff   982K Mar  5 15:12 dms_mutation_effect.json.gz\n"
     ]
    }
   ],
   "source": [
    "!ls -lh dms*"
   ]
  },
  {
   "cell_type": "code",
   "execution_count": 150,
   "metadata": {},
   "outputs": [],
   "source": [
    "weights = pd.DataFrame(weights)"
   ]
  },
  {
   "cell_type": "code",
   "execution_count": 151,
   "metadata": {},
   "outputs": [
    {
     "data": {
      "text/plain": [
       "(2280, 2)"
      ]
     },
     "execution_count": 151,
     "metadata": {},
     "output_type": "execute_result"
    }
   ],
   "source": [
    "weights.shape"
   ]
  },
  {
   "cell_type": "code",
   "execution_count": 152,
   "metadata": {},
   "outputs": [
    {
     "data": {
      "text/plain": [
       "[{'from': 'A', 'to': 'C', 'weight': 2.52},\n",
       " {'from': 'A', 'to': 'D', 'weight': 3.2},\n",
       " {'from': 'A', 'to': 'E', 'weight': 1.32},\n",
       " {'from': 'A', 'to': 'F', 'weight': 0.8},\n",
       " {'from': 'A', 'to': 'G', 'weight': 0.5},\n",
       " {'from': 'A', 'to': 'H', 'weight': -0.4},\n",
       " {'from': 'A', 'to': 'I', 'weight': 2.47},\n",
       " {'from': 'A', 'to': 'K', 'weight': 3.31},\n",
       " {'from': 'A', 'to': 'L', 'weight': 0.79},\n",
       " {'from': 'A', 'to': 'M', 'weight': 2.59},\n",
       " {'from': 'A', 'to': 'N', 'weight': 2.42},\n",
       " {'from': 'A', 'to': 'P', 'weight': -7.11},\n",
       " {'from': 'A', 'to': 'Q', 'weight': 0.6},\n",
       " {'from': 'A', 'to': 'R', 'weight': 1.56},\n",
       " {'from': 'A', 'to': 'S', 'weight': -0.55},\n",
       " {'from': 'A', 'to': 'T', 'weight': 0.81},\n",
       " {'from': 'A', 'to': 'V', 'weight': 0.84},\n",
       " {'from': 'A', 'to': 'W', 'weight': 1.42},\n",
       " {'from': 'A', 'to': 'Y', 'weight': 2.32},\n",
       " {'from': 'C', 'to': 'A', 'weight': -2.52}]"
      ]
     },
     "execution_count": 152,
     "metadata": {},
     "output_type": "execute_result"
    }
   ],
   "source": [
    "distance_map[\"map\"][\"SigPep\"][\"1\"][:20]"
   ]
  },
  {
   "cell_type": "code",
   "execution_count": 154,
   "metadata": {},
   "outputs": [
    {
     "data": {
      "text/plain": [
       "<matplotlib.axes._subplots.AxesSubplot at 0x1a35b0d080>"
      ]
     },
     "execution_count": 154,
     "metadata": {},
     "output_type": "execute_result"
    },
    {
     "data": {
      "image/png": "[encoded data removed]",
      "text/plain": [
       "<Figure size 576x432 with 1 Axes>"
      ]
     },
     "metadata": {
      "needs_background": "light"
     },
     "output_type": "display_data"
    }
   ],
   "source": [
    "fig, ax = plt.subplots(1, 1, figsize=(8, 6))\n",
    "#sns.boxenplot(x=\"position\", y=\"weight\", data=weights, ax=ax)\n",
    "#sns.violinplot(x=\"position\", y=\"weight\", data=weights, height=8, aspect=0.7)\n",
    "sns.swarmplot(x=\"position\", y=\"weight\", data=weights)"
   ]
  },
  {
   "cell_type": "code",
   "execution_count": 137,
   "metadata": {},
   "outputs": [
    {
     "data": {
      "text/plain": [
       "2698"
      ]
     },
     "execution_count": 137,
     "metadata": {},
     "output_type": "execute_result"
    }
   ],
   "source": [
    "(np.abs(weights[\"weight\"]) > 1).sum()"
   ]
  },
  {
   "cell_type": "code",
   "execution_count": 136,
   "metadata": {},
   "outputs": [
    {
     "data": {
      "text/plain": [
       "(3800, 2)"
      ]
     },
     "execution_count": 136,
     "metadata": {},
     "output_type": "execute_result"
    }
   ],
   "source": [
    "weights.shape"
   ]
  },
  {
   "cell_type": "code",
   "execution_count": 156,
   "metadata": {},
   "outputs": [
    {
     "data": {
      "text/html": [
       "<div>\n",
       "<style scoped>\n",
       "    .dataframe tbody tr th:only-of-type {\n",
       "        vertical-align: middle;\n",
       "    }\n",
       "\n",
       "    .dataframe tbody tr th {\n",
       "        vertical-align: top;\n",
       "    }\n",
       "\n",
       "    .dataframe thead th {\n",
       "        text-align: right;\n",
       "    }\n",
       "</style>\n",
       "<table border=\"1\" class=\"dataframe\">\n",
       "  <thead>\n",
       "    <tr style=\"text-align: right;\">\n",
       "      <th></th>\n",
       "      <th>weight</th>\n",
       "    </tr>\n",
       "    <tr>\n",
       "      <th>position</th>\n",
       "      <th></th>\n",
       "    </tr>\n",
       "  </thead>\n",
       "  <tbody>\n",
       "    <tr>\n",
       "      <th>SigPep:1</th>\n",
       "      <td>3.136466</td>\n",
       "    </tr>\n",
       "    <tr>\n",
       "      <th>SigPep:2</th>\n",
       "      <td>3.869881</td>\n",
       "    </tr>\n",
       "    <tr>\n",
       "      <th>SigPep:3</th>\n",
       "      <td>3.423054</td>\n",
       "    </tr>\n",
       "    <tr>\n",
       "      <th>SigPep:4</th>\n",
       "      <td>2.686694</td>\n",
       "    </tr>\n",
       "    <tr>\n",
       "      <th>SigPep:5</th>\n",
       "      <td>4.319010</td>\n",
       "    </tr>\n",
       "    <tr>\n",
       "      <th>SigPep:6</th>\n",
       "      <td>2.824577</td>\n",
       "    </tr>\n",
       "  </tbody>\n",
       "</table>\n",
       "</div>"
      ],
      "text/plain": [
       "            weight\n",
       "position          \n",
       "SigPep:1  3.136466\n",
       "SigPep:2  3.869881\n",
       "SigPep:3  3.423054\n",
       "SigPep:4  2.686694\n",
       "SigPep:5  4.319010\n",
       "SigPep:6  2.824577"
      ]
     },
     "execution_count": 156,
     "metadata": {},
     "output_type": "execute_result"
    }
   ],
   "source": [
    "weights.groupby(\"position\").std()"
   ]
  },
  {
   "cell_type": "code",
   "execution_count": 158,
   "metadata": {},
   "outputs": [
    {
     "data": {
      "text/plain": [
       "0    2.675247\n",
       "1    2.275608\n",
       "2    2.664450\n",
       "3    2.376940\n",
       "4    1.784825\n",
       "5    1.900297\n",
       "Name: entropy, dtype: float64"
      ]
     },
     "execution_count": 158,
     "metadata": {},
     "output_type": "execute_result"
    }
   ],
   "source": [
    "df[\"entropy\"].head(6)"
   ]
  },
  {
   "cell_type": "code",
   "execution_count": 13,
   "metadata": {},
   "outputs": [
    {
     "data": {
      "text/html": [
       "<div>\n",
       "<style scoped>\n",
       "    .dataframe tbody tr th:only-of-type {\n",
       "        vertical-align: middle;\n",
       "    }\n",
       "\n",
       "    .dataframe tbody tr th {\n",
       "        vertical-align: top;\n",
       "    }\n",
       "\n",
       "    .dataframe thead th {\n",
       "        text-align: right;\n",
       "    }\n",
       "</style>\n",
       "<table border=\"1\" class=\"dataframe\">\n",
       "  <thead>\n",
       "    <tr style=\"text-align: right;\">\n",
       "      <th></th>\n",
       "      <th>site</th>\n",
       "      <th>A</th>\n",
       "      <th>C</th>\n",
       "      <th>D</th>\n",
       "      <th>E</th>\n",
       "      <th>F</th>\n",
       "      <th>G</th>\n",
       "      <th>H</th>\n",
       "      <th>I</th>\n",
       "      <th>K</th>\n",
       "      <th>...</th>\n",
       "      <th>R</th>\n",
       "      <th>S</th>\n",
       "      <th>T</th>\n",
       "      <th>V</th>\n",
       "      <th>W</th>\n",
       "      <th>Y</th>\n",
       "      <th>entropy</th>\n",
       "      <th>neffective</th>\n",
       "      <th>gene</th>\n",
       "      <th>position</th>\n",
       "    </tr>\n",
       "  </thead>\n",
       "  <tbody>\n",
       "    <tr>\n",
       "      <th>0</th>\n",
       "      <td>-16</td>\n",
       "      <td>0.014871</td>\n",
       "      <td>0.085098</td>\n",
       "      <td>0.136767</td>\n",
       "      <td>0.037090</td>\n",
       "      <td>0.025928</td>\n",
       "      <td>0.020988</td>\n",
       "      <td>0.011305</td>\n",
       "      <td>0.082474</td>\n",
       "      <td>0.147416</td>\n",
       "      <td>...</td>\n",
       "      <td>0.043732</td>\n",
       "      <td>0.010125</td>\n",
       "      <td>0.026076</td>\n",
       "      <td>0.026601</td>\n",
       "      <td>0.039734</td>\n",
       "      <td>0.074225</td>\n",
       "      <td>2.675247</td>\n",
       "      <td>14.515938</td>\n",
       "      <td>SigPep</td>\n",
       "      <td>1</td>\n",
       "    </tr>\n",
       "    <tr>\n",
       "      <th>1</th>\n",
       "      <td>-15</td>\n",
       "      <td>0.000842</td>\n",
       "      <td>0.005272</td>\n",
       "      <td>0.005332</td>\n",
       "      <td>0.002805</td>\n",
       "      <td>0.038745</td>\n",
       "      <td>0.000387</td>\n",
       "      <td>0.035235</td>\n",
       "      <td>0.172027</td>\n",
       "      <td>0.262394</td>\n",
       "      <td>...</td>\n",
       "      <td>0.048044</td>\n",
       "      <td>0.003923</td>\n",
       "      <td>0.010624</td>\n",
       "      <td>0.047450</td>\n",
       "      <td>0.083409</td>\n",
       "      <td>0.110740</td>\n",
       "      <td>2.275608</td>\n",
       "      <td>9.733835</td>\n",
       "      <td>SigPep</td>\n",
       "      <td>2</td>\n",
       "    </tr>\n",
       "    <tr>\n",
       "      <th>2</th>\n",
       "      <td>-14</td>\n",
       "      <td>0.006965</td>\n",
       "      <td>0.068999</td>\n",
       "      <td>0.010278</td>\n",
       "      <td>0.029151</td>\n",
       "      <td>0.028980</td>\n",
       "      <td>0.000074</td>\n",
       "      <td>0.031234</td>\n",
       "      <td>0.020222</td>\n",
       "      <td>0.048197</td>\n",
       "      <td>...</td>\n",
       "      <td>0.060442</td>\n",
       "      <td>0.039089</td>\n",
       "      <td>0.080455</td>\n",
       "      <td>0.012755</td>\n",
       "      <td>0.092659</td>\n",
       "      <td>0.127560</td>\n",
       "      <td>2.664450</td>\n",
       "      <td>14.360048</td>\n",
       "      <td>SigPep</td>\n",
       "      <td>3</td>\n",
       "    </tr>\n",
       "    <tr>\n",
       "      <th>3</th>\n",
       "      <td>-13</td>\n",
       "      <td>0.177685</td>\n",
       "      <td>0.180615</td>\n",
       "      <td>0.002740</td>\n",
       "      <td>0.011457</td>\n",
       "      <td>0.023248</td>\n",
       "      <td>0.049499</td>\n",
       "      <td>0.013153</td>\n",
       "      <td>0.062442</td>\n",
       "      <td>0.039223</td>\n",
       "      <td>...</td>\n",
       "      <td>0.002066</td>\n",
       "      <td>0.028406</td>\n",
       "      <td>0.015607</td>\n",
       "      <td>0.206730</td>\n",
       "      <td>0.005484</td>\n",
       "      <td>0.084061</td>\n",
       "      <td>2.376940</td>\n",
       "      <td>10.771889</td>\n",
       "      <td>SigPep</td>\n",
       "      <td>4</td>\n",
       "    </tr>\n",
       "    <tr>\n",
       "      <th>4</th>\n",
       "      <td>-12</td>\n",
       "      <td>0.017543</td>\n",
       "      <td>0.014953</td>\n",
       "      <td>0.002865</td>\n",
       "      <td>0.000621</td>\n",
       "      <td>0.080053</td>\n",
       "      <td>0.061449</td>\n",
       "      <td>0.000202</td>\n",
       "      <td>0.165689</td>\n",
       "      <td>0.005086</td>\n",
       "      <td>...</td>\n",
       "      <td>0.000668</td>\n",
       "      <td>0.009665</td>\n",
       "      <td>0.016923</td>\n",
       "      <td>0.005231</td>\n",
       "      <td>0.485037</td>\n",
       "      <td>0.036957</td>\n",
       "      <td>1.784825</td>\n",
       "      <td>5.958536</td>\n",
       "      <td>SigPep</td>\n",
       "      <td>5</td>\n",
       "    </tr>\n",
       "  </tbody>\n",
       "</table>\n",
       "<p>5 rows × 25 columns</p>\n",
       "</div>"
      ],
      "text/plain": [
       "  site         A         C         D         E         F         G         H  \\\n",
       "0  -16  0.014871  0.085098  0.136767  0.037090  0.025928  0.020988  0.011305   \n",
       "1  -15  0.000842  0.005272  0.005332  0.002805  0.038745  0.000387  0.035235   \n",
       "2  -14  0.006965  0.068999  0.010278  0.029151  0.028980  0.000074  0.031234   \n",
       "3  -13  0.177685  0.180615  0.002740  0.011457  0.023248  0.049499  0.013153   \n",
       "4  -12  0.017543  0.014953  0.002865  0.000621  0.080053  0.061449  0.000202   \n",
       "\n",
       "          I         K    ...            R         S         T         V  \\\n",
       "0  0.082474  0.147416    ...     0.043732  0.010125  0.026076  0.026601   \n",
       "1  0.172027  0.262394    ...     0.048044  0.003923  0.010624  0.047450   \n",
       "2  0.020222  0.048197    ...     0.060442  0.039089  0.080455  0.012755   \n",
       "3  0.062442  0.039223    ...     0.002066  0.028406  0.015607  0.206730   \n",
       "4  0.165689  0.005086    ...     0.000668  0.009665  0.016923  0.005231   \n",
       "\n",
       "          W         Y   entropy  neffective    gene  position  \n",
       "0  0.039734  0.074225  2.675247   14.515938  SigPep         1  \n",
       "1  0.083409  0.110740  2.275608    9.733835  SigPep         2  \n",
       "2  0.092659  0.127560  2.664450   14.360048  SigPep         3  \n",
       "3  0.005484  0.084061  2.376940   10.771889  SigPep         4  \n",
       "4  0.485037  0.036957  1.784825    5.958536  SigPep         5  \n",
       "\n",
       "[5 rows x 25 columns]"
      ]
     },
     "execution_count": 13,
     "metadata": {},
     "output_type": "execute_result"
    }
   ],
   "source": [
    "df.head()"
   ]
  },
  {
   "cell_type": "code",
   "execution_count": 15,
   "metadata": {},
   "outputs": [
    {
     "data": {
      "text/plain": [
       "0    A    0.014871\n",
       "     C    0.085098\n",
       "     D    0.136767\n",
       "     E    0.037090\n",
       "     F    0.025928\n",
       "     G    0.020988\n",
       "     H    0.011305\n",
       "     I    0.082474\n",
       "     K    0.147416\n",
       "     L    0.025635\n",
       "     M    0.089640\n",
       "     N    0.079675\n",
       "     P    0.000107\n",
       "     Q    0.022513\n",
       "     R    0.043732\n",
       "     S    0.010125\n",
       "     T    0.026076\n",
       "     V    0.026601\n",
       "     W    0.039734\n",
       "     Y    0.074225\n",
       "1    A    0.000842\n",
       "     C    0.005272\n",
       "     D    0.005332\n",
       "     E    0.002805\n",
       "     F    0.038745\n",
       "     G    0.000387\n",
       "     H    0.035235\n",
       "     I    0.172027\n",
       "     K    0.262394\n",
       "     L    0.050424\n",
       "            ...   \n",
       "564  M    0.008177\n",
       "     N    0.000708\n",
       "     P    0.000948\n",
       "     Q    0.002679\n",
       "     R    0.150871\n",
       "     S    0.000833\n",
       "     T    0.004154\n",
       "     V    0.043625\n",
       "     W    0.066214\n",
       "     Y    0.002703\n",
       "565  A    0.125628\n",
       "     C    0.001522\n",
       "     D    0.009680\n",
       "     E    0.007064\n",
       "     F    0.022719\n",
       "     G    0.001039\n",
       "     H    0.000969\n",
       "     I    0.566600\n",
       "     K    0.000649\n",
       "     L    0.042566\n",
       "     M    0.015508\n",
       "     N    0.003386\n",
       "     P    0.001480\n",
       "     Q    0.004978\n",
       "     R    0.000707\n",
       "     S    0.001948\n",
       "     T    0.047670\n",
       "     V    0.126204\n",
       "     W    0.011756\n",
       "     Y    0.007928\n",
       "Length: 11320, dtype: float64"
      ]
     },
     "execution_count": 15,
     "metadata": {},
     "output_type": "execute_result"
    }
   ],
   "source": [
    "df.loc[:, \"A\":\"Y\"].stack()"
   ]
  },
  {
   "cell_type": "code",
   "execution_count": 24,
   "metadata": {},
   "outputs": [],
   "source": [
    "amino_acids = np.array([column for column in df.columns if column not in (\"site\", \"entropy\", \"neffective\", \"gene\", \"position\")])"
   ]
  },
  {
   "cell_type": "code",
   "execution_count": 25,
   "metadata": {},
   "outputs": [
    {
     "data": {
      "text/plain": [
       "array(['A', 'C', 'D', 'E', 'F', 'G', 'H', 'I', 'K', 'L', 'M', 'N', 'P',\n",
       "       'Q', 'R', 'S', 'T', 'V', 'W', 'Y'], dtype='<U1')"
      ]
     },
     "execution_count": 25,
     "metadata": {},
     "output_type": "execute_result"
    }
   ],
   "source": [
    "amino_acids"
   ]
  },
  {
   "cell_type": "code",
   "execution_count": 33,
   "metadata": {},
   "outputs": [],
   "source": [
    "long_df = pd.melt(df, id_vars=[\"gene\", \"position\"], value_vars=amino_acids, var_name=\"amino_acid\", value_name=\"preference\")"
   ]
  },
  {
   "cell_type": "code",
   "execution_count": 34,
   "metadata": {},
   "outputs": [
    {
     "data": {
      "text/html": [
       "<div>\n",
       "<style scoped>\n",
       "    .dataframe tbody tr th:only-of-type {\n",
       "        vertical-align: middle;\n",
       "    }\n",
       "\n",
       "    .dataframe tbody tr th {\n",
       "        vertical-align: top;\n",
       "    }\n",
       "\n",
       "    .dataframe thead th {\n",
       "        text-align: right;\n",
       "    }\n",
       "</style>\n",
       "<table border=\"1\" class=\"dataframe\">\n",
       "  <thead>\n",
       "    <tr style=\"text-align: right;\">\n",
       "      <th></th>\n",
       "      <th>gene</th>\n",
       "      <th>position</th>\n",
       "      <th>amino_acid</th>\n",
       "      <th>preference</th>\n",
       "    </tr>\n",
       "  </thead>\n",
       "  <tbody>\n",
       "    <tr>\n",
       "      <th>0</th>\n",
       "      <td>SigPep</td>\n",
       "      <td>1</td>\n",
       "      <td>A</td>\n",
       "      <td>0.014871</td>\n",
       "    </tr>\n",
       "    <tr>\n",
       "      <th>1</th>\n",
       "      <td>SigPep</td>\n",
       "      <td>2</td>\n",
       "      <td>A</td>\n",
       "      <td>0.000842</td>\n",
       "    </tr>\n",
       "    <tr>\n",
       "      <th>2</th>\n",
       "      <td>SigPep</td>\n",
       "      <td>3</td>\n",
       "      <td>A</td>\n",
       "      <td>0.006965</td>\n",
       "    </tr>\n",
       "    <tr>\n",
       "      <th>3</th>\n",
       "      <td>SigPep</td>\n",
       "      <td>4</td>\n",
       "      <td>A</td>\n",
       "      <td>0.177685</td>\n",
       "    </tr>\n",
       "    <tr>\n",
       "      <th>4</th>\n",
       "      <td>SigPep</td>\n",
       "      <td>5</td>\n",
       "      <td>A</td>\n",
       "      <td>0.017543</td>\n",
       "    </tr>\n",
       "  </tbody>\n",
       "</table>\n",
       "</div>"
      ],
      "text/plain": [
       "     gene  position amino_acid  preference\n",
       "0  SigPep         1          A    0.014871\n",
       "1  SigPep         2          A    0.000842\n",
       "2  SigPep         3          A    0.006965\n",
       "3  SigPep         4          A    0.177685\n",
       "4  SigPep         5          A    0.017543"
      ]
     },
     "execution_count": 34,
     "metadata": {},
     "output_type": "execute_result"
    }
   ],
   "source": [
    "long_df.head()"
   ]
  },
  {
   "cell_type": "code",
   "execution_count": 39,
   "metadata": {},
   "outputs": [],
   "source": [
    "long_df.to_json(\"h3n2_dms_preferences_long.json\", orient=\"records\", double_precision=4)"
   ]
  },
  {
   "cell_type": "code",
   "execution_count": null,
   "metadata": {},
   "outputs": [],
   "source": []
  }
 ],
 "metadata": {
  "kernelspec": {
   "display_name": "Python 3",
   "language": "python",
   "name": "python3"
  },
  "language_info": {
   "codemirror_mode": {
    "name": "ipython",
    "version": 3
   },
   "file_extension": ".py",
   "mimetype": "text/x-python",
   "name": "python",
   "nbconvert_exporter": "python",
   "pygments_lexer": "ipython3",
   "version": "3.6.7"
  }
 },
 "nbformat": 4,
 "nbformat_minor": 2
}
