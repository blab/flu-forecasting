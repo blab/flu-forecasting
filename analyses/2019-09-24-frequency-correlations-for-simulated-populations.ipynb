{
 "cells": [
  {
   "cell_type": "markdown",
   "metadata": {},
   "source": [
    "# Frequency correlation plots for simulated populations\n",
    "\n",
    "Another attempt at calculating clade frequencies from tip-to-clade mappings without using a full tree."
   ]
  },
  {
   "cell_type": "code",
   "execution_count": 1,
   "metadata": {},
   "outputs": [],
   "source": [
    "import altair as alt\n",
    "import matplotlib as mpl\n",
    "import matplotlib.pyplot as plt\n",
    "import numpy as np\n",
    "import pandas as pd\n",
    "from scipy.stats import pearsonr\n",
    "import seaborn as sns\n",
    "\n",
    "%matplotlib inline"
   ]
  },
  {
   "cell_type": "code",
   "execution_count": 2,
   "metadata": {},
   "outputs": [],
   "source": [
    "sns.set_style(\"white\")\n",
    "plt.style.use(\"huddlej\")"
   ]
  },
  {
   "cell_type": "code",
   "execution_count": 3,
   "metadata": {},
   "outputs": [],
   "source": [
    "mpl.rcParams['savefig.dpi'] = 200\n",
    "mpl.rcParams['figure.dpi'] = 200\n",
    "mpl.rcParams['font.weight'] = 300\n",
    "mpl.rcParams['axes.labelweight'] = 300\n",
    "mpl.rcParams['font.size'] = 18"
   ]
  },
  {
   "cell_type": "code",
   "execution_count": 4,
   "metadata": {},
   "outputs": [
    {
     "name": "stdout",
     "output_type": "stream",
     "text": [
      "/Users/jlhudd/projects/nextstrain/flu-forecasting/analyses\n"
     ]
    }
   ],
   "source": [
    "!pwd"
   ]
  },
  {
   "cell_type": "code",
   "execution_count": 257,
   "metadata": {},
   "outputs": [],
   "source": [
    "def matthews_correlation_coefficient(tp, tn, fp, fn):\n",
    "    \"\"\"Return Matthews correlation coefficient for values from a confusion matrix.\n",
    "    Implementation is based on the definition from wikipedia:\n",
    "\n",
    "    https://en.wikipedia.org/wiki/Matthews_correlation_coefficient\n",
    "    \"\"\"\n",
    "    numerator = (tp * tn) - (fp * fn)\n",
    "    denominator = np.sqrt((tp + fp) * (tp + fn) * (tn + fp) * (tn + fn))\n",
    "    if denominator == 0:\n",
    "            denominator = 1\n",
    "\n",
    "    return float(numerator) / denominator\n",
    "\n",
    "def get_matthews_correlation_coefficient_for_data_frame(freq_df, return_confusion_matrix=False):\n",
    "        \"\"\"Calculate Matthew's correlation coefficient from a given pandas data frame\n",
    "        with columns for initial, observed, and predicted frequencies.\n",
    "        \"\"\"\n",
    "        observed_growth = (freq_df[\"observed_frequency\"] > freq_df[\"initial_frequency\"])\n",
    "        predicted_growth = (freq_df[\"estimated_frequency\"] > freq_df[\"initial_frequency\"])\n",
    "        true_positives = ((observed_growth) & (predicted_growth)).sum()\n",
    "        false_positives= ((~observed_growth) & (predicted_growth)).sum()\n",
    "\n",
    "        observed_decline = (freq_df[\"observed_frequency\"] <= freq_df[\"initial_frequency\"])\n",
    "        predicted_decline = (freq_df[\"estimated_frequency\"] <= freq_df[\"initial_frequency\"])\n",
    "        true_negatives = ((observed_decline) & (predicted_decline)).sum()\n",
    "        false_negatives = ((~observed_decline) & (predicted_decline)).sum()\n",
    "\n",
    "        mcc = matthews_correlation_coefficient(\n",
    "            true_positives,\n",
    "            true_negatives,\n",
    "            false_positives,\n",
    "            false_negatives\n",
    "        )\n",
    "\n",
    "        if return_confusion_matrix:\n",
    "            confusion_matrix = {\n",
    "                \"tp\": true_positives,\n",
    "                \"tn\": true_negatives,\n",
    "                \"fp\": false_positives,\n",
    "                \"fn\": false_negatives\n",
    "            }\n",
    "            \n",
    "            return mcc, confusion_matrix\n",
    "        else:\n",
    "            return mcc"
   ]
  },
  {
   "cell_type": "markdown",
   "metadata": {},
   "source": [
    "## Load data"
   ]
  },
  {
   "cell_type": "code",
   "execution_count": 185,
   "metadata": {},
   "outputs": [],
   "source": [
    "data_root = \"../results/builds/simulated/simulated_sample_1/\""
   ]
  },
  {
   "cell_type": "code",
   "execution_count": 186,
   "metadata": {},
   "outputs": [],
   "source": [
    "tips = pd.read_csv(\n",
    "    \"%s/tip_attributes_with_weighted_distances.tsv\" % data_root,\n",
    "    sep=\"\\t\",\n",
    "    parse_dates=[\"timepoint\"],\n",
    "    usecols=[\"strain\", \"timepoint\", \"frequency\"]\n",
    ")"
   ]
  },
  {
   "cell_type": "code",
   "execution_count": 187,
   "metadata": {},
   "outputs": [],
   "source": [
    "tips = tips.query(\"timepoint >= '2022-10-01'\").copy()"
   ]
  },
  {
   "cell_type": "code",
   "execution_count": 188,
   "metadata": {},
   "outputs": [
    {
     "data": {
      "text/plain": [
       "(3040, 3)"
      ]
     },
     "execution_count": 188,
     "metadata": {},
     "output_type": "execute_result"
    }
   ],
   "source": [
    "tips.shape"
   ]
  },
  {
   "cell_type": "code",
   "execution_count": 189,
   "metadata": {},
   "outputs": [
    {
     "data": {
      "text/html": [
       "<div>\n",
       "<style scoped>\n",
       "    .dataframe tbody tr th:only-of-type {\n",
       "        vertical-align: middle;\n",
       "    }\n",
       "\n",
       "    .dataframe tbody tr th {\n",
       "        vertical-align: top;\n",
       "    }\n",
       "\n",
       "    .dataframe thead th {\n",
       "        text-align: right;\n",
       "    }\n",
       "</style>\n",
       "<table border=\"1\" class=\"dataframe\">\n",
       "  <thead>\n",
       "    <tr style=\"text-align: right;\">\n",
       "      <th></th>\n",
       "      <th>strain</th>\n",
       "      <th>timepoint</th>\n",
       "      <th>frequency</th>\n",
       "    </tr>\n",
       "  </thead>\n",
       "  <tbody>\n",
       "    <tr>\n",
       "      <th>990</th>\n",
       "      <td>sample_4416_2</td>\n",
       "      <td>2022-10-01</td>\n",
       "      <td>0.000013</td>\n",
       "    </tr>\n",
       "  </tbody>\n",
       "</table>\n",
       "</div>"
      ],
      "text/plain": [
       "            strain  timepoint  frequency\n",
       "990  sample_4416_2 2022-10-01   0.000013"
      ]
     },
     "execution_count": 189,
     "metadata": {},
     "output_type": "execute_result"
    }
   ],
   "source": [
    "tips.head(1)"
   ]
  },
  {
   "cell_type": "code",
   "execution_count": 141,
   "metadata": {},
   "outputs": [],
   "source": [
    "tips_to_clades = pd.read_csv(\"%s/tips_to_clades.tsv\" % data_root, sep=\"\\t\", parse_dates=[\"timepoint\"])"
   ]
  },
  {
   "cell_type": "code",
   "execution_count": 142,
   "metadata": {},
   "outputs": [],
   "source": [
    "tips_to_clades = tips_to_clades.query(\"timepoint >= '2022-10-01'\").copy()"
   ]
  },
  {
   "cell_type": "code",
   "execution_count": 143,
   "metadata": {},
   "outputs": [
    {
     "data": {
      "text/plain": [
       "(302998, 4)"
      ]
     },
     "execution_count": 143,
     "metadata": {},
     "output_type": "execute_result"
    }
   ],
   "source": [
    "tips_to_clades.shape"
   ]
  },
  {
   "cell_type": "code",
   "execution_count": 192,
   "metadata": {},
   "outputs": [],
   "source": [
    "forecasts = pd.read_csv(\n",
    "    \"%s/forecasts.tsv\" % data_root,\n",
    "    sep=\"\\t\",\n",
    "    parse_dates=[\"timepoint\"],\n",
    "    usecols=[\"timepoint\", \"strain\", \"projected_frequency\"]\n",
    ")"
   ]
  },
  {
   "cell_type": "code",
   "execution_count": 193,
   "metadata": {},
   "outputs": [
    {
     "data": {
      "text/html": [
       "<div>\n",
       "<style scoped>\n",
       "    .dataframe tbody tr th:only-of-type {\n",
       "        vertical-align: middle;\n",
       "    }\n",
       "\n",
       "    .dataframe tbody tr th {\n",
       "        vertical-align: top;\n",
       "    }\n",
       "\n",
       "    .dataframe thead th {\n",
       "        text-align: right;\n",
       "    }\n",
       "</style>\n",
       "<table border=\"1\" class=\"dataframe\">\n",
       "  <thead>\n",
       "    <tr style=\"text-align: right;\">\n",
       "      <th></th>\n",
       "      <th>timepoint</th>\n",
       "      <th>strain</th>\n",
       "      <th>projected_frequency</th>\n",
       "    </tr>\n",
       "  </thead>\n",
       "  <tbody>\n",
       "    <tr>\n",
       "      <th>0</th>\n",
       "      <td>2016-10-01</td>\n",
       "      <td>sample_3216_5</td>\n",
       "      <td>1.284285e-08</td>\n",
       "    </tr>\n",
       "    <tr>\n",
       "      <th>1</th>\n",
       "      <td>2016-10-01</td>\n",
       "      <td>sample_3216_7</td>\n",
       "      <td>1.295382e-07</td>\n",
       "    </tr>\n",
       "    <tr>\n",
       "      <th>2</th>\n",
       "      <td>2016-10-01</td>\n",
       "      <td>sample_3220_3</td>\n",
       "      <td>4.939963e-07</td>\n",
       "    </tr>\n",
       "    <tr>\n",
       "      <th>3</th>\n",
       "      <td>2016-10-01</td>\n",
       "      <td>sample_3224_1</td>\n",
       "      <td>6.454219e-07</td>\n",
       "    </tr>\n",
       "    <tr>\n",
       "      <th>4</th>\n",
       "      <td>2016-10-01</td>\n",
       "      <td>sample_3224_10</td>\n",
       "      <td>4.716771e-08</td>\n",
       "    </tr>\n",
       "  </tbody>\n",
       "</table>\n",
       "</div>"
      ],
      "text/plain": [
       "   timepoint          strain  projected_frequency\n",
       "0 2016-10-01   sample_3216_5         1.284285e-08\n",
       "1 2016-10-01   sample_3216_7         1.295382e-07\n",
       "2 2016-10-01   sample_3220_3         4.939963e-07\n",
       "3 2016-10-01   sample_3224_1         6.454219e-07\n",
       "4 2016-10-01  sample_3224_10         4.716771e-08"
      ]
     },
     "execution_count": 193,
     "metadata": {},
     "output_type": "execute_result"
    }
   ],
   "source": [
    "forecasts.head()"
   ]
  },
  {
   "cell_type": "markdown",
   "metadata": {},
   "source": [
    "## Find clades for tips at future timepoint"
   ]
  },
  {
   "cell_type": "markdown",
   "metadata": {},
   "source": [
    "Annotate projected frequencies for each tip by timepoint."
   ]
  },
  {
   "cell_type": "code",
   "execution_count": 196,
   "metadata": {},
   "outputs": [],
   "source": [
    "tips = tips.merge(\n",
    "    forecasts,\n",
    "    on=[\"timepoint\", \"strain\"]\n",
    ").copy()"
   ]
  },
  {
   "cell_type": "code",
   "execution_count": 197,
   "metadata": {},
   "outputs": [],
   "source": [
    "tips[\"future_timepoint\"] = tips[\"timepoint\"] + pd.DateOffset(months=12)"
   ]
  },
  {
   "cell_type": "code",
   "execution_count": 198,
   "metadata": {},
   "outputs": [
    {
     "data": {
      "text/html": [
       "<div>\n",
       "<style scoped>\n",
       "    .dataframe tbody tr th:only-of-type {\n",
       "        vertical-align: middle;\n",
       "    }\n",
       "\n",
       "    .dataframe tbody tr th {\n",
       "        vertical-align: top;\n",
       "    }\n",
       "\n",
       "    .dataframe thead th {\n",
       "        text-align: right;\n",
       "    }\n",
       "</style>\n",
       "<table border=\"1\" class=\"dataframe\">\n",
       "  <thead>\n",
       "    <tr style=\"text-align: right;\">\n",
       "      <th></th>\n",
       "      <th>strain</th>\n",
       "      <th>timepoint</th>\n",
       "      <th>frequency</th>\n",
       "      <th>projected_frequency</th>\n",
       "      <th>future_timepoint</th>\n",
       "    </tr>\n",
       "  </thead>\n",
       "  <tbody>\n",
       "    <tr>\n",
       "      <th>0</th>\n",
       "      <td>sample_4416_2</td>\n",
       "      <td>2022-10-01</td>\n",
       "      <td>0.000013</td>\n",
       "      <td>1.287701e-08</td>\n",
       "      <td>2023-10-01</td>\n",
       "    </tr>\n",
       "    <tr>\n",
       "      <th>1</th>\n",
       "      <td>sample_4416_3</td>\n",
       "      <td>2022-10-01</td>\n",
       "      <td>0.000013</td>\n",
       "      <td>5.556069e-07</td>\n",
       "      <td>2023-10-01</td>\n",
       "    </tr>\n",
       "    <tr>\n",
       "      <th>2</th>\n",
       "      <td>sample_4416_8</td>\n",
       "      <td>2022-10-01</td>\n",
       "      <td>0.000013</td>\n",
       "      <td>3.129439e-05</td>\n",
       "      <td>2023-10-01</td>\n",
       "    </tr>\n",
       "    <tr>\n",
       "      <th>3</th>\n",
       "      <td>sample_4420_8</td>\n",
       "      <td>2022-10-01</td>\n",
       "      <td>0.000020</td>\n",
       "      <td>2.274751e-05</td>\n",
       "      <td>2023-10-01</td>\n",
       "    </tr>\n",
       "    <tr>\n",
       "      <th>4</th>\n",
       "      <td>sample_4424_1</td>\n",
       "      <td>2022-10-01</td>\n",
       "      <td>0.000032</td>\n",
       "      <td>3.239534e-08</td>\n",
       "      <td>2023-10-01</td>\n",
       "    </tr>\n",
       "  </tbody>\n",
       "</table>\n",
       "</div>"
      ],
      "text/plain": [
       "          strain  timepoint  frequency  projected_frequency future_timepoint\n",
       "0  sample_4416_2 2022-10-01   0.000013         1.287701e-08       2023-10-01\n",
       "1  sample_4416_3 2022-10-01   0.000013         5.556069e-07       2023-10-01\n",
       "2  sample_4416_8 2022-10-01   0.000013         3.129439e-05       2023-10-01\n",
       "3  sample_4420_8 2022-10-01   0.000020         2.274751e-05       2023-10-01\n",
       "4  sample_4424_1 2022-10-01   0.000032         3.239534e-08       2023-10-01"
      ]
     },
     "execution_count": 198,
     "metadata": {},
     "output_type": "execute_result"
    }
   ],
   "source": [
    "tips.head()"
   ]
  },
  {
   "cell_type": "code",
   "execution_count": 199,
   "metadata": {},
   "outputs": [],
   "source": [
    "tips_with_current_clades = tips.merge(\n",
    "    tips_to_clades,\n",
    "    left_on=[\"strain\", \"timepoint\"],\n",
    "    right_on=[\"tip\", \"timepoint\"]\n",
    ").drop(columns=[\"tip\"]).sort_values([\"timepoint\", \"strain\", \"depth\"])"
   ]
  },
  {
   "cell_type": "code",
   "execution_count": 200,
   "metadata": {},
   "outputs": [
    {
     "data": {
      "text/html": [
       "<div>\n",
       "<style scoped>\n",
       "    .dataframe tbody tr th:only-of-type {\n",
       "        vertical-align: middle;\n",
       "    }\n",
       "\n",
       "    .dataframe tbody tr th {\n",
       "        vertical-align: top;\n",
       "    }\n",
       "\n",
       "    .dataframe thead th {\n",
       "        text-align: right;\n",
       "    }\n",
       "</style>\n",
       "<table border=\"1\" class=\"dataframe\">\n",
       "  <thead>\n",
       "    <tr style=\"text-align: right;\">\n",
       "      <th></th>\n",
       "      <th>strain</th>\n",
       "      <th>timepoint</th>\n",
       "      <th>frequency</th>\n",
       "      <th>projected_frequency</th>\n",
       "      <th>future_timepoint</th>\n",
       "      <th>clade_membership</th>\n",
       "      <th>depth</th>\n",
       "    </tr>\n",
       "  </thead>\n",
       "  <tbody>\n",
       "    <tr>\n",
       "      <th>0</th>\n",
       "      <td>sample_4416_2</td>\n",
       "      <td>2022-10-01</td>\n",
       "      <td>0.000013</td>\n",
       "      <td>1.287701e-08</td>\n",
       "      <td>2023-10-01</td>\n",
       "      <td>0f5d668</td>\n",
       "      <td>0</td>\n",
       "    </tr>\n",
       "    <tr>\n",
       "      <th>1</th>\n",
       "      <td>sample_4416_2</td>\n",
       "      <td>2022-10-01</td>\n",
       "      <td>0.000013</td>\n",
       "      <td>1.287701e-08</td>\n",
       "      <td>2023-10-01</td>\n",
       "      <td>508e469</td>\n",
       "      <td>2</td>\n",
       "    </tr>\n",
       "    <tr>\n",
       "      <th>2</th>\n",
       "      <td>sample_4416_2</td>\n",
       "      <td>2022-10-01</td>\n",
       "      <td>0.000013</td>\n",
       "      <td>1.287701e-08</td>\n",
       "      <td>2023-10-01</td>\n",
       "      <td>60842de</td>\n",
       "      <td>7</td>\n",
       "    </tr>\n",
       "    <tr>\n",
       "      <th>3</th>\n",
       "      <td>sample_4416_2</td>\n",
       "      <td>2022-10-01</td>\n",
       "      <td>0.000013</td>\n",
       "      <td>1.287701e-08</td>\n",
       "      <td>2023-10-01</td>\n",
       "      <td>165aaed</td>\n",
       "      <td>9</td>\n",
       "    </tr>\n",
       "    <tr>\n",
       "      <th>4</th>\n",
       "      <td>sample_4416_2</td>\n",
       "      <td>2022-10-01</td>\n",
       "      <td>0.000013</td>\n",
       "      <td>1.287701e-08</td>\n",
       "      <td>2023-10-01</td>\n",
       "      <td>2bb765c</td>\n",
       "      <td>11</td>\n",
       "    </tr>\n",
       "  </tbody>\n",
       "</table>\n",
       "</div>"
      ],
      "text/plain": [
       "          strain  timepoint  frequency  projected_frequency future_timepoint  \\\n",
       "0  sample_4416_2 2022-10-01   0.000013         1.287701e-08       2023-10-01   \n",
       "1  sample_4416_2 2022-10-01   0.000013         1.287701e-08       2023-10-01   \n",
       "2  sample_4416_2 2022-10-01   0.000013         1.287701e-08       2023-10-01   \n",
       "3  sample_4416_2 2022-10-01   0.000013         1.287701e-08       2023-10-01   \n",
       "4  sample_4416_2 2022-10-01   0.000013         1.287701e-08       2023-10-01   \n",
       "\n",
       "  clade_membership  depth  \n",
       "0          0f5d668      0  \n",
       "1          508e469      2  \n",
       "2          60842de      7  \n",
       "3          165aaed      9  \n",
       "4          2bb765c     11  "
      ]
     },
     "execution_count": 200,
     "metadata": {},
     "output_type": "execute_result"
    }
   ],
   "source": [
    "tips_with_current_clades.head()"
   ]
  },
  {
   "cell_type": "code",
   "execution_count": 201,
   "metadata": {},
   "outputs": [],
   "source": [
    "current_tips_with_future_clades = tips.merge(\n",
    "    tips_to_clades,\n",
    "    left_on=[\"strain\", \"future_timepoint\"],\n",
    "    right_on=[\"tip\", \"timepoint\"],\n",
    "    suffixes=[\"\", \"_future\"]\n",
    ").drop(columns=[\"tip\", \"timepoint_future\"]).sort_values([\"timepoint\", \"strain\", \"depth\"])"
   ]
  },
  {
   "cell_type": "code",
   "execution_count": 202,
   "metadata": {},
   "outputs": [
    {
     "data": {
      "text/plain": [
       "(3176396, 11)"
      ]
     },
     "execution_count": 202,
     "metadata": {},
     "output_type": "execute_result"
    }
   ],
   "source": [
    "current_and_future_tips_with_clades.shape"
   ]
  },
  {
   "cell_type": "code",
   "execution_count": 203,
   "metadata": {},
   "outputs": [
    {
     "data": {
      "text/html": [
       "<div>\n",
       "<style scoped>\n",
       "    .dataframe tbody tr th:only-of-type {\n",
       "        vertical-align: middle;\n",
       "    }\n",
       "\n",
       "    .dataframe tbody tr th {\n",
       "        vertical-align: top;\n",
       "    }\n",
       "\n",
       "    .dataframe thead th {\n",
       "        text-align: right;\n",
       "    }\n",
       "</style>\n",
       "<table border=\"1\" class=\"dataframe\">\n",
       "  <thead>\n",
       "    <tr style=\"text-align: right;\">\n",
       "      <th></th>\n",
       "      <th>strain</th>\n",
       "      <th>timepoint</th>\n",
       "      <th>frequency</th>\n",
       "      <th>projected_frequency</th>\n",
       "      <th>future_timepoint</th>\n",
       "      <th>clade_membership</th>\n",
       "      <th>depth</th>\n",
       "    </tr>\n",
       "  </thead>\n",
       "  <tbody>\n",
       "    <tr>\n",
       "      <th>0</th>\n",
       "      <td>sample_4416_2</td>\n",
       "      <td>2022-10-01</td>\n",
       "      <td>0.000013</td>\n",
       "      <td>1.287701e-08</td>\n",
       "      <td>2023-10-01</td>\n",
       "      <td>0f5d668</td>\n",
       "      <td>0</td>\n",
       "    </tr>\n",
       "    <tr>\n",
       "      <th>1</th>\n",
       "      <td>sample_4416_2</td>\n",
       "      <td>2022-10-01</td>\n",
       "      <td>0.000013</td>\n",
       "      <td>1.287701e-08</td>\n",
       "      <td>2023-10-01</td>\n",
       "      <td>508e469</td>\n",
       "      <td>2</td>\n",
       "    </tr>\n",
       "    <tr>\n",
       "      <th>2</th>\n",
       "      <td>sample_4416_2</td>\n",
       "      <td>2022-10-01</td>\n",
       "      <td>0.000013</td>\n",
       "      <td>1.287701e-08</td>\n",
       "      <td>2023-10-01</td>\n",
       "      <td>60842de</td>\n",
       "      <td>6</td>\n",
       "    </tr>\n",
       "    <tr>\n",
       "      <th>3</th>\n",
       "      <td>sample_4416_2</td>\n",
       "      <td>2022-10-01</td>\n",
       "      <td>0.000013</td>\n",
       "      <td>1.287701e-08</td>\n",
       "      <td>2023-10-01</td>\n",
       "      <td>165aaed</td>\n",
       "      <td>8</td>\n",
       "    </tr>\n",
       "    <tr>\n",
       "      <th>4</th>\n",
       "      <td>sample_4416_2</td>\n",
       "      <td>2022-10-01</td>\n",
       "      <td>0.000013</td>\n",
       "      <td>1.287701e-08</td>\n",
       "      <td>2023-10-01</td>\n",
       "      <td>2bb765c</td>\n",
       "      <td>10</td>\n",
       "    </tr>\n",
       "  </tbody>\n",
       "</table>\n",
       "</div>"
      ],
      "text/plain": [
       "          strain  timepoint  frequency  projected_frequency future_timepoint  \\\n",
       "0  sample_4416_2 2022-10-01   0.000013         1.287701e-08       2023-10-01   \n",
       "1  sample_4416_2 2022-10-01   0.000013         1.287701e-08       2023-10-01   \n",
       "2  sample_4416_2 2022-10-01   0.000013         1.287701e-08       2023-10-01   \n",
       "3  sample_4416_2 2022-10-01   0.000013         1.287701e-08       2023-10-01   \n",
       "4  sample_4416_2 2022-10-01   0.000013         1.287701e-08       2023-10-01   \n",
       "\n",
       "  clade_membership  depth  \n",
       "0          0f5d668      0  \n",
       "1          508e469      2  \n",
       "2          60842de      6  \n",
       "3          165aaed      8  \n",
       "4          2bb765c     10  "
      ]
     },
     "execution_count": 203,
     "metadata": {},
     "output_type": "execute_result"
    }
   ],
   "source": [
    "current_tips_with_future_clades.head()"
   ]
  },
  {
   "cell_type": "markdown",
   "metadata": {},
   "source": [
    "If we take the closest clade to each tip and sum tip frequencies by timepoint, we should get 100% frequency for each timepoint."
   ]
  },
  {
   "cell_type": "code",
   "execution_count": 204,
   "metadata": {},
   "outputs": [
    {
     "data": {
      "text/plain": [
       "timepoint\n",
       "2022-10-01    0.999999\n",
       "2023-04-01    0.999999\n",
       "2023-10-01    0.999997\n",
       "2024-04-01    0.999992\n",
       "2024-10-01    0.999992\n",
       "2025-04-01    0.999999\n",
       "2025-10-01    0.999998\n",
       "2026-04-01    0.999995\n",
       "2026-10-01    0.999997\n",
       "2027-04-01    0.999999\n",
       "2027-10-01    0.999998\n",
       "2028-04-01    1.000000\n",
       "2028-10-01    1.000000\n",
       "2029-04-01    0.999997\n",
       "2029-10-01    0.999991\n",
       "2030-04-01    0.999995\n",
       "2030-10-01    1.000001\n",
       "2031-04-01    0.999996\n",
       "2031-10-01    0.999997\n",
       "2032-04-01    0.999995\n",
       "2032-10-01    0.999996\n",
       "2033-04-01    1.000000\n",
       "2033-10-01    0.999997\n",
       "2034-04-01    0.999998\n",
       "2034-10-01    0.999998\n",
       "2035-04-01    0.999989\n",
       "2035-10-01    0.999995\n",
       "2036-04-01    0.999994\n",
       "2036-10-01    0.999999\n",
       "2037-04-01    0.999992\n",
       "2037-10-01    0.999993\n",
       "2038-04-01    0.999994\n",
       "2038-10-01    0.999993\n",
       "2039-04-01    0.999998\n",
       "2039-10-01    0.999995\n",
       "Name: frequency, dtype: float64"
      ]
     },
     "execution_count": 204,
     "metadata": {},
     "output_type": "execute_result"
    }
   ],
   "source": [
    "current_tips_with_future_clades.groupby([\"timepoint\", \"future_timepoint\", \"strain\", \"frequency\"]).first().reset_index().groupby([\n",
    "    \"timepoint\"\n",
    "])[\"frequency\"].sum()"
   ]
  },
  {
   "cell_type": "markdown",
   "metadata": {},
   "source": [
    "Find tips at future timepoint with same clades as current tips. To do this, find the join between timepoints and clades for current tips and future tips."
   ]
  },
  {
   "cell_type": "code",
   "execution_count": 205,
   "metadata": {},
   "outputs": [],
   "source": [
    "current_and_future_tips_with_clades = current_tips_with_future_clades.merge(\n",
    "    tips_with_current_clades,\n",
    "    left_on=[\"future_timepoint\", \"clade_membership\"],\n",
    "    right_on=[\"timepoint\", \"clade_membership\"],\n",
    "    suffixes=[\"_current\", \"_future\"]\n",
    ")"
   ]
  },
  {
   "cell_type": "code",
   "execution_count": 206,
   "metadata": {},
   "outputs": [
    {
     "data": {
      "text/html": [
       "<div>\n",
       "<style scoped>\n",
       "    .dataframe tbody tr th:only-of-type {\n",
       "        vertical-align: middle;\n",
       "    }\n",
       "\n",
       "    .dataframe tbody tr th {\n",
       "        vertical-align: top;\n",
       "    }\n",
       "\n",
       "    .dataframe thead th {\n",
       "        text-align: right;\n",
       "    }\n",
       "</style>\n",
       "<table border=\"1\" class=\"dataframe\">\n",
       "  <thead>\n",
       "    <tr style=\"text-align: right;\">\n",
       "      <th></th>\n",
       "      <th>strain_current</th>\n",
       "      <th>timepoint_current</th>\n",
       "      <th>frequency_current</th>\n",
       "      <th>projected_frequency_current</th>\n",
       "      <th>future_timepoint_current</th>\n",
       "      <th>clade_membership</th>\n",
       "      <th>depth_current</th>\n",
       "      <th>strain_future</th>\n",
       "      <th>timepoint_future</th>\n",
       "      <th>frequency_future</th>\n",
       "      <th>projected_frequency_future</th>\n",
       "      <th>future_timepoint_future</th>\n",
       "      <th>depth_future</th>\n",
       "    </tr>\n",
       "  </thead>\n",
       "  <tbody>\n",
       "    <tr>\n",
       "      <th>0</th>\n",
       "      <td>sample_4416_2</td>\n",
       "      <td>2022-10-01</td>\n",
       "      <td>0.000013</td>\n",
       "      <td>1.287701e-08</td>\n",
       "      <td>2023-10-01</td>\n",
       "      <td>508e469</td>\n",
       "      <td>2</td>\n",
       "      <td>sample_4616_1</td>\n",
       "      <td>2023-10-01</td>\n",
       "      <td>0.000012</td>\n",
       "      <td>4.929717e-05</td>\n",
       "      <td>2024-10-01</td>\n",
       "      <td>5</td>\n",
       "    </tr>\n",
       "    <tr>\n",
       "      <th>1</th>\n",
       "      <td>sample_4416_2</td>\n",
       "      <td>2022-10-01</td>\n",
       "      <td>0.000013</td>\n",
       "      <td>1.287701e-08</td>\n",
       "      <td>2023-10-01</td>\n",
       "      <td>508e469</td>\n",
       "      <td>2</td>\n",
       "      <td>sample_4616_5</td>\n",
       "      <td>2023-10-01</td>\n",
       "      <td>0.000012</td>\n",
       "      <td>5.251921e-10</td>\n",
       "      <td>2024-10-01</td>\n",
       "      <td>15</td>\n",
       "    </tr>\n",
       "    <tr>\n",
       "      <th>2</th>\n",
       "      <td>sample_4416_2</td>\n",
       "      <td>2022-10-01</td>\n",
       "      <td>0.000013</td>\n",
       "      <td>1.287701e-08</td>\n",
       "      <td>2023-10-01</td>\n",
       "      <td>508e469</td>\n",
       "      <td>2</td>\n",
       "      <td>sample_4620_10</td>\n",
       "      <td>2023-10-01</td>\n",
       "      <td>0.000020</td>\n",
       "      <td>2.468120e-10</td>\n",
       "      <td>2024-10-01</td>\n",
       "      <td>15</td>\n",
       "    </tr>\n",
       "    <tr>\n",
       "      <th>3</th>\n",
       "      <td>sample_4416_2</td>\n",
       "      <td>2022-10-01</td>\n",
       "      <td>0.000013</td>\n",
       "      <td>1.287701e-08</td>\n",
       "      <td>2023-10-01</td>\n",
       "      <td>508e469</td>\n",
       "      <td>2</td>\n",
       "      <td>sample_4620_8</td>\n",
       "      <td>2023-10-01</td>\n",
       "      <td>0.000020</td>\n",
       "      <td>3.890803e-05</td>\n",
       "      <td>2024-10-01</td>\n",
       "      <td>10</td>\n",
       "    </tr>\n",
       "    <tr>\n",
       "      <th>4</th>\n",
       "      <td>sample_4416_2</td>\n",
       "      <td>2022-10-01</td>\n",
       "      <td>0.000013</td>\n",
       "      <td>1.287701e-08</td>\n",
       "      <td>2023-10-01</td>\n",
       "      <td>508e469</td>\n",
       "      <td>2</td>\n",
       "      <td>sample_4628_3</td>\n",
       "      <td>2023-10-01</td>\n",
       "      <td>0.000049</td>\n",
       "      <td>1.485370e-04</td>\n",
       "      <td>2024-10-01</td>\n",
       "      <td>15</td>\n",
       "    </tr>\n",
       "  </tbody>\n",
       "</table>\n",
       "</div>"
      ],
      "text/plain": [
       "  strain_current timepoint_current  frequency_current  \\\n",
       "0  sample_4416_2        2022-10-01           0.000013   \n",
       "1  sample_4416_2        2022-10-01           0.000013   \n",
       "2  sample_4416_2        2022-10-01           0.000013   \n",
       "3  sample_4416_2        2022-10-01           0.000013   \n",
       "4  sample_4416_2        2022-10-01           0.000013   \n",
       "\n",
       "   projected_frequency_current future_timepoint_current clade_membership  \\\n",
       "0                 1.287701e-08               2023-10-01          508e469   \n",
       "1                 1.287701e-08               2023-10-01          508e469   \n",
       "2                 1.287701e-08               2023-10-01          508e469   \n",
       "3                 1.287701e-08               2023-10-01          508e469   \n",
       "4                 1.287701e-08               2023-10-01          508e469   \n",
       "\n",
       "   depth_current   strain_future timepoint_future  frequency_future  \\\n",
       "0              2   sample_4616_1       2023-10-01          0.000012   \n",
       "1              2   sample_4616_5       2023-10-01          0.000012   \n",
       "2              2  sample_4620_10       2023-10-01          0.000020   \n",
       "3              2   sample_4620_8       2023-10-01          0.000020   \n",
       "4              2   sample_4628_3       2023-10-01          0.000049   \n",
       "\n",
       "   projected_frequency_future future_timepoint_future  depth_future  \n",
       "0                4.929717e-05              2024-10-01             5  \n",
       "1                5.251921e-10              2024-10-01            15  \n",
       "2                2.468120e-10              2024-10-01            15  \n",
       "3                3.890803e-05              2024-10-01            10  \n",
       "4                1.485370e-04              2024-10-01            15  "
      ]
     },
     "execution_count": 206,
     "metadata": {},
     "output_type": "execute_result"
    }
   ],
   "source": [
    "current_and_future_tips_with_clades.head()"
   ]
  },
  {
   "cell_type": "code",
   "execution_count": 207,
   "metadata": {},
   "outputs": [
    {
     "data": {
      "text/plain": [
       "(3176396, 13)"
      ]
     },
     "execution_count": 207,
     "metadata": {},
     "output_type": "execute_result"
    }
   ],
   "source": [
    "current_and_future_tips_with_clades.shape"
   ]
  },
  {
   "cell_type": "code",
   "execution_count": 210,
   "metadata": {},
   "outputs": [],
   "source": [
    "current_tips_with_assigned_clades = current_and_future_tips_with_clades.loc[\n",
    "    :, [\"strain_current\", \"timepoint_current\", \"timepoint_future\", \"frequency_current\", \"projected_frequency_current\", \"clade_membership\", \"depth_current\"]\n",
    "].drop_duplicates().sort_values([\"timepoint_current\", \"timepoint_future\", \"strain_current\", \"depth_current\"]).groupby([\n",
    "    \"timepoint_current\", \"timepoint_future\", \"strain_current\"\n",
    "]).first().reset_index()"
   ]
  },
  {
   "cell_type": "code",
   "execution_count": 211,
   "metadata": {},
   "outputs": [
    {
     "data": {
      "text/html": [
       "<div>\n",
       "<style scoped>\n",
       "    .dataframe tbody tr th:only-of-type {\n",
       "        vertical-align: middle;\n",
       "    }\n",
       "\n",
       "    .dataframe tbody tr th {\n",
       "        vertical-align: top;\n",
       "    }\n",
       "\n",
       "    .dataframe thead th {\n",
       "        text-align: right;\n",
       "    }\n",
       "</style>\n",
       "<table border=\"1\" class=\"dataframe\">\n",
       "  <thead>\n",
       "    <tr style=\"text-align: right;\">\n",
       "      <th></th>\n",
       "      <th>timepoint_current</th>\n",
       "      <th>timepoint_future</th>\n",
       "      <th>strain_current</th>\n",
       "      <th>frequency_current</th>\n",
       "      <th>projected_frequency_current</th>\n",
       "      <th>clade_membership</th>\n",
       "      <th>depth_current</th>\n",
       "    </tr>\n",
       "  </thead>\n",
       "  <tbody>\n",
       "    <tr>\n",
       "      <th>0</th>\n",
       "      <td>2022-10-01</td>\n",
       "      <td>2023-10-01</td>\n",
       "      <td>sample_4416_2</td>\n",
       "      <td>0.000013</td>\n",
       "      <td>1.287701e-08</td>\n",
       "      <td>508e469</td>\n",
       "      <td>2</td>\n",
       "    </tr>\n",
       "    <tr>\n",
       "      <th>1</th>\n",
       "      <td>2022-10-01</td>\n",
       "      <td>2023-10-01</td>\n",
       "      <td>sample_4416_3</td>\n",
       "      <td>0.000013</td>\n",
       "      <td>5.556069e-07</td>\n",
       "      <td>412cf6f</td>\n",
       "      <td>0</td>\n",
       "    </tr>\n",
       "    <tr>\n",
       "      <th>2</th>\n",
       "      <td>2022-10-01</td>\n",
       "      <td>2023-10-01</td>\n",
       "      <td>sample_4416_8</td>\n",
       "      <td>0.000013</td>\n",
       "      <td>3.129439e-05</td>\n",
       "      <td>e0dac53</td>\n",
       "      <td>5</td>\n",
       "    </tr>\n",
       "    <tr>\n",
       "      <th>3</th>\n",
       "      <td>2022-10-01</td>\n",
       "      <td>2023-10-01</td>\n",
       "      <td>sample_4420_8</td>\n",
       "      <td>0.000020</td>\n",
       "      <td>2.274751e-05</td>\n",
       "      <td>bc07576</td>\n",
       "      <td>9</td>\n",
       "    </tr>\n",
       "    <tr>\n",
       "      <th>4</th>\n",
       "      <td>2022-10-01</td>\n",
       "      <td>2023-10-01</td>\n",
       "      <td>sample_4424_1</td>\n",
       "      <td>0.000032</td>\n",
       "      <td>3.239534e-08</td>\n",
       "      <td>5066c64</td>\n",
       "      <td>0</td>\n",
       "    </tr>\n",
       "  </tbody>\n",
       "</table>\n",
       "</div>"
      ],
      "text/plain": [
       "  timepoint_current timepoint_future strain_current  frequency_current  \\\n",
       "0        2022-10-01       2023-10-01  sample_4416_2           0.000013   \n",
       "1        2022-10-01       2023-10-01  sample_4416_3           0.000013   \n",
       "2        2022-10-01       2023-10-01  sample_4416_8           0.000013   \n",
       "3        2022-10-01       2023-10-01  sample_4420_8           0.000020   \n",
       "4        2022-10-01       2023-10-01  sample_4424_1           0.000032   \n",
       "\n",
       "   projected_frequency_current clade_membership  depth_current  \n",
       "0                 1.287701e-08          508e469              2  \n",
       "1                 5.556069e-07          412cf6f              0  \n",
       "2                 3.129439e-05          e0dac53              5  \n",
       "3                 2.274751e-05          bc07576              9  \n",
       "4                 3.239534e-08          5066c64              0  "
      ]
     },
     "execution_count": 211,
     "metadata": {},
     "output_type": "execute_result"
    }
   ],
   "source": [
    "current_tips_with_assigned_clades.head()"
   ]
  },
  {
   "cell_type": "code",
   "execution_count": 212,
   "metadata": {},
   "outputs": [
    {
     "data": {
      "text/html": [
       "<div>\n",
       "<style scoped>\n",
       "    .dataframe tbody tr th:only-of-type {\n",
       "        vertical-align: middle;\n",
       "    }\n",
       "\n",
       "    .dataframe tbody tr th {\n",
       "        vertical-align: top;\n",
       "    }\n",
       "\n",
       "    .dataframe thead th {\n",
       "        text-align: right;\n",
       "    }\n",
       "</style>\n",
       "<table border=\"1\" class=\"dataframe\">\n",
       "  <thead>\n",
       "    <tr style=\"text-align: right;\">\n",
       "      <th></th>\n",
       "      <th>timepoint_current</th>\n",
       "      <th>timepoint_future</th>\n",
       "      <th>strain_current</th>\n",
       "      <th>frequency_current</th>\n",
       "      <th>projected_frequency_current</th>\n",
       "      <th>clade_membership</th>\n",
       "      <th>depth_current</th>\n",
       "    </tr>\n",
       "  </thead>\n",
       "  <tbody>\n",
       "    <tr>\n",
       "      <th>801</th>\n",
       "      <td>2027-04-01</td>\n",
       "      <td>2028-04-01</td>\n",
       "      <td>sample_5416_3</td>\n",
       "      <td>0.023712</td>\n",
       "      <td>0.006941</td>\n",
       "      <td>f05d275</td>\n",
       "      <td>2</td>\n",
       "    </tr>\n",
       "    <tr>\n",
       "      <th>823</th>\n",
       "      <td>2027-10-01</td>\n",
       "      <td>2028-10-01</td>\n",
       "      <td>sample_5416_3</td>\n",
       "      <td>0.000013</td>\n",
       "      <td>0.000005</td>\n",
       "      <td>f05d275</td>\n",
       "      <td>2</td>\n",
       "    </tr>\n",
       "  </tbody>\n",
       "</table>\n",
       "</div>"
      ],
      "text/plain": [
       "    timepoint_current timepoint_future strain_current  frequency_current  \\\n",
       "801        2027-04-01       2028-04-01  sample_5416_3           0.023712   \n",
       "823        2027-10-01       2028-10-01  sample_5416_3           0.000013   \n",
       "\n",
       "     projected_frequency_current clade_membership  depth_current  \n",
       "801                     0.006941          f05d275              2  \n",
       "823                     0.000005          f05d275              2  "
      ]
     },
     "execution_count": 212,
     "metadata": {},
     "output_type": "execute_result"
    }
   ],
   "source": [
    "current_tips_with_assigned_clades[current_tips_with_assigned_clades[\"strain_current\"] == \"sample_5416_3\"]"
   ]
  },
  {
   "cell_type": "code",
   "execution_count": 213,
   "metadata": {},
   "outputs": [],
   "source": [
    "future_tips_with_assigned_clades = current_and_future_tips_with_clades.loc[\n",
    "    :, [\"strain_future\", \"timepoint_current\", \"timepoint_future\", \"frequency_future\", \"clade_membership\", \"depth_future\"]\n",
    "].drop_duplicates().sort_values([\"timepoint_current\", \"timepoint_future\", \"strain_future\", \"depth_future\"]).groupby([\n",
    "    \"timepoint_current\", \"timepoint_future\", \"strain_future\"\n",
    "]).first().reset_index()"
   ]
  },
  {
   "cell_type": "code",
   "execution_count": 214,
   "metadata": {},
   "outputs": [
    {
     "data": {
      "text/html": [
       "<div>\n",
       "<style scoped>\n",
       "    .dataframe tbody tr th:only-of-type {\n",
       "        vertical-align: middle;\n",
       "    }\n",
       "\n",
       "    .dataframe tbody tr th {\n",
       "        vertical-align: top;\n",
       "    }\n",
       "\n",
       "    .dataframe thead th {\n",
       "        text-align: right;\n",
       "    }\n",
       "</style>\n",
       "<table border=\"1\" class=\"dataframe\">\n",
       "  <thead>\n",
       "    <tr style=\"text-align: right;\">\n",
       "      <th></th>\n",
       "      <th>timepoint_current</th>\n",
       "      <th>timepoint_future</th>\n",
       "      <th>strain_future</th>\n",
       "      <th>frequency_future</th>\n",
       "      <th>clade_membership</th>\n",
       "      <th>depth_future</th>\n",
       "    </tr>\n",
       "  </thead>\n",
       "  <tbody>\n",
       "    <tr>\n",
       "      <th>0</th>\n",
       "      <td>2022-10-01</td>\n",
       "      <td>2023-10-01</td>\n",
       "      <td>sample_4616_1</td>\n",
       "      <td>0.000012</td>\n",
       "      <td>2ec232d</td>\n",
       "      <td>4</td>\n",
       "    </tr>\n",
       "    <tr>\n",
       "      <th>1</th>\n",
       "      <td>2022-10-01</td>\n",
       "      <td>2023-10-01</td>\n",
       "      <td>sample_4616_5</td>\n",
       "      <td>0.000012</td>\n",
       "      <td>bf85e0f</td>\n",
       "      <td>5</td>\n",
       "    </tr>\n",
       "    <tr>\n",
       "      <th>2</th>\n",
       "      <td>2022-10-01</td>\n",
       "      <td>2023-10-01</td>\n",
       "      <td>sample_4620_10</td>\n",
       "      <td>0.000020</td>\n",
       "      <td>b9c1cae</td>\n",
       "      <td>3</td>\n",
       "    </tr>\n",
       "    <tr>\n",
       "      <th>3</th>\n",
       "      <td>2022-10-01</td>\n",
       "      <td>2023-10-01</td>\n",
       "      <td>sample_4620_8</td>\n",
       "      <td>0.000020</td>\n",
       "      <td>a811bc7</td>\n",
       "      <td>0</td>\n",
       "    </tr>\n",
       "    <tr>\n",
       "      <th>4</th>\n",
       "      <td>2022-10-01</td>\n",
       "      <td>2023-10-01</td>\n",
       "      <td>sample_4624_1</td>\n",
       "      <td>0.000032</td>\n",
       "      <td>6258722</td>\n",
       "      <td>0</td>\n",
       "    </tr>\n",
       "  </tbody>\n",
       "</table>\n",
       "</div>"
      ],
      "text/plain": [
       "  timepoint_current timepoint_future   strain_future  frequency_future  \\\n",
       "0        2022-10-01       2023-10-01   sample_4616_1          0.000012   \n",
       "1        2022-10-01       2023-10-01   sample_4616_5          0.000012   \n",
       "2        2022-10-01       2023-10-01  sample_4620_10          0.000020   \n",
       "3        2022-10-01       2023-10-01   sample_4620_8          0.000020   \n",
       "4        2022-10-01       2023-10-01   sample_4624_1          0.000032   \n",
       "\n",
       "  clade_membership  depth_future  \n",
       "0          2ec232d             4  \n",
       "1          bf85e0f             5  \n",
       "2          b9c1cae             3  \n",
       "3          a811bc7             0  \n",
       "4          6258722             0  "
      ]
     },
     "execution_count": 214,
     "metadata": {},
     "output_type": "execute_result"
    }
   ],
   "source": [
    "future_tips_with_assigned_clades.head()"
   ]
  },
  {
   "cell_type": "code",
   "execution_count": 215,
   "metadata": {},
   "outputs": [
    {
     "data": {
      "text/html": [
       "<div>\n",
       "<style scoped>\n",
       "    .dataframe tbody tr th:only-of-type {\n",
       "        vertical-align: middle;\n",
       "    }\n",
       "\n",
       "    .dataframe tbody tr th {\n",
       "        vertical-align: top;\n",
       "    }\n",
       "\n",
       "    .dataframe thead th {\n",
       "        text-align: right;\n",
       "    }\n",
       "</style>\n",
       "<table border=\"1\" class=\"dataframe\">\n",
       "  <thead>\n",
       "    <tr style=\"text-align: right;\">\n",
       "      <th></th>\n",
       "      <th>timepoint_current</th>\n",
       "      <th>timepoint_future</th>\n",
       "      <th>strain_future</th>\n",
       "      <th>frequency_future</th>\n",
       "      <th>clade_membership</th>\n",
       "      <th>depth_future</th>\n",
       "    </tr>\n",
       "  </thead>\n",
       "  <tbody>\n",
       "    <tr>\n",
       "      <th>636</th>\n",
       "      <td>2026-04-01</td>\n",
       "      <td>2027-04-01</td>\n",
       "      <td>sample_5416_3</td>\n",
       "      <td>0.023712</td>\n",
       "      <td>10543f5</td>\n",
       "      <td>5</td>\n",
       "    </tr>\n",
       "    <tr>\n",
       "      <th>658</th>\n",
       "      <td>2026-10-01</td>\n",
       "      <td>2027-10-01</td>\n",
       "      <td>sample_5416_3</td>\n",
       "      <td>0.000013</td>\n",
       "      <td>f05d275</td>\n",
       "      <td>2</td>\n",
       "    </tr>\n",
       "  </tbody>\n",
       "</table>\n",
       "</div>"
      ],
      "text/plain": [
       "    timepoint_current timepoint_future  strain_future  frequency_future  \\\n",
       "636        2026-04-01       2027-04-01  sample_5416_3          0.023712   \n",
       "658        2026-10-01       2027-10-01  sample_5416_3          0.000013   \n",
       "\n",
       "    clade_membership  depth_future  \n",
       "636          10543f5             5  \n",
       "658          f05d275             2  "
      ]
     },
     "execution_count": 215,
     "metadata": {},
     "output_type": "execute_result"
    }
   ],
   "source": [
    "future_tips_with_assigned_clades.query(\"strain_future == 'sample_5416_3'\")"
   ]
  },
  {
   "cell_type": "code",
   "execution_count": 216,
   "metadata": {},
   "outputs": [],
   "source": [
    "total_frequencies_for_current_tips = current_tips_with_assigned_clades.groupby([\"timepoint_current\"])[\"frequency_current\"].sum().values"
   ]
  },
  {
   "cell_type": "code",
   "execution_count": 217,
   "metadata": {},
   "outputs": [
    {
     "data": {
      "text/plain": [
       "True"
      ]
     },
     "execution_count": 217,
     "metadata": {},
     "output_type": "execute_result"
    }
   ],
   "source": [
    "np.allclose(\n",
    "    np.ones_like(total_frequencies_for_current_tips),\n",
    "    total_frequencies_for_current_tips,\n",
    "    1e-4\n",
    ")"
   ]
  },
  {
   "cell_type": "code",
   "execution_count": 218,
   "metadata": {},
   "outputs": [],
   "source": [
    "total_frequencies_for_future_tips = future_tips_with_assigned_clades.groupby([\"timepoint_future\"])[\"frequency_future\"].sum().values"
   ]
  },
  {
   "cell_type": "code",
   "execution_count": 219,
   "metadata": {},
   "outputs": [
    {
     "data": {
      "text/plain": [
       "True"
      ]
     },
     "execution_count": 219,
     "metadata": {},
     "output_type": "execute_result"
    }
   ],
   "source": [
    "np.allclose(\n",
    "    np.ones_like(total_frequencies_for_future_tips),\n",
    "    total_frequencies_for_future_tips,\n",
    "    1e-4\n",
    ")"
   ]
  },
  {
   "cell_type": "code",
   "execution_count": 222,
   "metadata": {},
   "outputs": [],
   "source": [
    "future_clades_for_current_timepoints = current_tips_with_assigned_clades.groupby([\n",
    "    \"timepoint_current\", \"timepoint_future\", \"clade_membership\"\n",
    "]).aggregate({\"frequency_current\": \"sum\", \"projected_frequency_current\": \"sum\"}).reset_index()"
   ]
  },
  {
   "cell_type": "code",
   "execution_count": 223,
   "metadata": {},
   "outputs": [
    {
     "data": {
      "text/html": [
       "<div>\n",
       "<style scoped>\n",
       "    .dataframe tbody tr th:only-of-type {\n",
       "        vertical-align: middle;\n",
       "    }\n",
       "\n",
       "    .dataframe tbody tr th {\n",
       "        vertical-align: top;\n",
       "    }\n",
       "\n",
       "    .dataframe thead th {\n",
       "        text-align: right;\n",
       "    }\n",
       "</style>\n",
       "<table border=\"1\" class=\"dataframe\">\n",
       "  <thead>\n",
       "    <tr style=\"text-align: right;\">\n",
       "      <th></th>\n",
       "      <th>timepoint_current</th>\n",
       "      <th>timepoint_future</th>\n",
       "      <th>clade_membership</th>\n",
       "      <th>frequency_current</th>\n",
       "      <th>projected_frequency_current</th>\n",
       "    </tr>\n",
       "  </thead>\n",
       "  <tbody>\n",
       "    <tr>\n",
       "      <th>0</th>\n",
       "      <td>2022-10-01</td>\n",
       "      <td>2023-10-01</td>\n",
       "      <td>0687bd9</td>\n",
       "      <td>0.065504</td>\n",
       "      <td>0.055814</td>\n",
       "    </tr>\n",
       "    <tr>\n",
       "      <th>1</th>\n",
       "      <td>2022-10-01</td>\n",
       "      <td>2023-10-01</td>\n",
       "      <td>0d06bf2</td>\n",
       "      <td>0.007760</td>\n",
       "      <td>0.015399</td>\n",
       "    </tr>\n",
       "    <tr>\n",
       "      <th>2</th>\n",
       "      <td>2022-10-01</td>\n",
       "      <td>2023-10-01</td>\n",
       "      <td>0ecf707</td>\n",
       "      <td>0.029896</td>\n",
       "      <td>0.012274</td>\n",
       "    </tr>\n",
       "    <tr>\n",
       "      <th>3</th>\n",
       "      <td>2022-10-01</td>\n",
       "      <td>2023-10-01</td>\n",
       "      <td>1537fbe</td>\n",
       "      <td>0.027030</td>\n",
       "      <td>0.007042</td>\n",
       "    </tr>\n",
       "    <tr>\n",
       "      <th>4</th>\n",
       "      <td>2022-10-01</td>\n",
       "      <td>2023-10-01</td>\n",
       "      <td>2ec232d</td>\n",
       "      <td>0.038738</td>\n",
       "      <td>0.000703</td>\n",
       "    </tr>\n",
       "  </tbody>\n",
       "</table>\n",
       "</div>"
      ],
      "text/plain": [
       "  timepoint_current timepoint_future clade_membership  frequency_current  \\\n",
       "0        2022-10-01       2023-10-01          0687bd9           0.065504   \n",
       "1        2022-10-01       2023-10-01          0d06bf2           0.007760   \n",
       "2        2022-10-01       2023-10-01          0ecf707           0.029896   \n",
       "3        2022-10-01       2023-10-01          1537fbe           0.027030   \n",
       "4        2022-10-01       2023-10-01          2ec232d           0.038738   \n",
       "\n",
       "   projected_frequency_current  \n",
       "0                     0.055814  \n",
       "1                     0.015399  \n",
       "2                     0.012274  \n",
       "3                     0.007042  \n",
       "4                     0.000703  "
      ]
     },
     "execution_count": 223,
     "metadata": {},
     "output_type": "execute_result"
    }
   ],
   "source": [
    "future_clades_for_current_timepoints.head()"
   ]
  },
  {
   "cell_type": "code",
   "execution_count": 224,
   "metadata": {},
   "outputs": [],
   "source": [
    "future_clades_for_future_timepoints = future_tips_with_assigned_clades.groupby([\n",
    "    \"timepoint_current\", \"timepoint_future\", \"clade_membership\"\n",
    "])[\"frequency_future\"].sum().reset_index()"
   ]
  },
  {
   "cell_type": "code",
   "execution_count": 225,
   "metadata": {},
   "outputs": [
    {
     "data": {
      "text/html": [
       "<div>\n",
       "<style scoped>\n",
       "    .dataframe tbody tr th:only-of-type {\n",
       "        vertical-align: middle;\n",
       "    }\n",
       "\n",
       "    .dataframe tbody tr th {\n",
       "        vertical-align: top;\n",
       "    }\n",
       "\n",
       "    .dataframe thead th {\n",
       "        text-align: right;\n",
       "    }\n",
       "</style>\n",
       "<table border=\"1\" class=\"dataframe\">\n",
       "  <thead>\n",
       "    <tr style=\"text-align: right;\">\n",
       "      <th></th>\n",
       "      <th>timepoint_current</th>\n",
       "      <th>timepoint_future</th>\n",
       "      <th>clade_membership</th>\n",
       "      <th>frequency_future</th>\n",
       "    </tr>\n",
       "  </thead>\n",
       "  <tbody>\n",
       "    <tr>\n",
       "      <th>0</th>\n",
       "      <td>2022-10-01</td>\n",
       "      <td>2023-10-01</td>\n",
       "      <td>0687bd9</td>\n",
       "      <td>0.127870</td>\n",
       "    </tr>\n",
       "    <tr>\n",
       "      <th>1</th>\n",
       "      <td>2022-10-01</td>\n",
       "      <td>2023-10-01</td>\n",
       "      <td>1537fbe</td>\n",
       "      <td>0.002582</td>\n",
       "    </tr>\n",
       "    <tr>\n",
       "      <th>2</th>\n",
       "      <td>2022-10-01</td>\n",
       "      <td>2023-10-01</td>\n",
       "      <td>2ec232d</td>\n",
       "      <td>0.016680</td>\n",
       "    </tr>\n",
       "    <tr>\n",
       "      <th>3</th>\n",
       "      <td>2022-10-01</td>\n",
       "      <td>2023-10-01</td>\n",
       "      <td>34a4e93</td>\n",
       "      <td>0.003394</td>\n",
       "    </tr>\n",
       "    <tr>\n",
       "      <th>4</th>\n",
       "      <td>2022-10-01</td>\n",
       "      <td>2023-10-01</td>\n",
       "      <td>4362d30</td>\n",
       "      <td>0.001507</td>\n",
       "    </tr>\n",
       "  </tbody>\n",
       "</table>\n",
       "</div>"
      ],
      "text/plain": [
       "  timepoint_current timepoint_future clade_membership  frequency_future\n",
       "0        2022-10-01       2023-10-01          0687bd9          0.127870\n",
       "1        2022-10-01       2023-10-01          1537fbe          0.002582\n",
       "2        2022-10-01       2023-10-01          2ec232d          0.016680\n",
       "3        2022-10-01       2023-10-01          34a4e93          0.003394\n",
       "4        2022-10-01       2023-10-01          4362d30          0.001507"
      ]
     },
     "execution_count": 225,
     "metadata": {},
     "output_type": "execute_result"
    }
   ],
   "source": [
    "future_clades_for_future_timepoints.head()"
   ]
  },
  {
   "cell_type": "code",
   "execution_count": 226,
   "metadata": {},
   "outputs": [
    {
     "data": {
      "text/plain": [
       "True"
      ]
     },
     "execution_count": 226,
     "metadata": {},
     "output_type": "execute_result"
    }
   ],
   "source": [
    "np.allclose(\n",
    "    np.ones_like(future_clades_for_current_timepoints.groupby(\"timepoint_current\")[\"frequency_current\"].sum().values),\n",
    "    future_clades_for_current_timepoints.groupby(\"timepoint_current\")[\"frequency_current\"].sum().values,\n",
    "    1e-4\n",
    ")"
   ]
  },
  {
   "cell_type": "markdown",
   "metadata": {},
   "source": [
    "Next, find future tips that belong to the same clades as the current tips or which have descended from these clades. Instead of taking every clade assigned to each tip, we want to pick the closest clade to each tip."
   ]
  },
  {
   "cell_type": "code",
   "execution_count": 227,
   "metadata": {},
   "outputs": [],
   "source": [
    "merged_clades = future_clades_for_current_timepoints.merge(\n",
    "    future_clades_for_future_timepoints,\n",
    "    how=\"outer\",\n",
    "    on=[\"timepoint_current\", \"timepoint_future\", \"clade_membership\"]\n",
    ").sort_values([\"timepoint_current\", \"timepoint_future\", \"clade_membership\"]).fillna(0.0)"
   ]
  },
  {
   "cell_type": "code",
   "execution_count": 228,
   "metadata": {},
   "outputs": [
    {
     "data": {
      "text/html": [
       "<div>\n",
       "<style scoped>\n",
       "    .dataframe tbody tr th:only-of-type {\n",
       "        vertical-align: middle;\n",
       "    }\n",
       "\n",
       "    .dataframe tbody tr th {\n",
       "        vertical-align: top;\n",
       "    }\n",
       "\n",
       "    .dataframe thead th {\n",
       "        text-align: right;\n",
       "    }\n",
       "</style>\n",
       "<table border=\"1\" class=\"dataframe\">\n",
       "  <thead>\n",
       "    <tr style=\"text-align: right;\">\n",
       "      <th></th>\n",
       "      <th>timepoint_current</th>\n",
       "      <th>timepoint_future</th>\n",
       "      <th>clade_membership</th>\n",
       "      <th>frequency_current</th>\n",
       "      <th>projected_frequency_current</th>\n",
       "      <th>frequency_future</th>\n",
       "    </tr>\n",
       "  </thead>\n",
       "  <tbody>\n",
       "    <tr>\n",
       "      <th>0</th>\n",
       "      <td>2022-10-01</td>\n",
       "      <td>2023-10-01</td>\n",
       "      <td>0687bd9</td>\n",
       "      <td>0.065504</td>\n",
       "      <td>0.055814</td>\n",
       "      <td>0.127870</td>\n",
       "    </tr>\n",
       "    <tr>\n",
       "      <th>1</th>\n",
       "      <td>2022-10-01</td>\n",
       "      <td>2023-10-01</td>\n",
       "      <td>0d06bf2</td>\n",
       "      <td>0.007760</td>\n",
       "      <td>0.015399</td>\n",
       "      <td>0.000000</td>\n",
       "    </tr>\n",
       "    <tr>\n",
       "      <th>2</th>\n",
       "      <td>2022-10-01</td>\n",
       "      <td>2023-10-01</td>\n",
       "      <td>0ecf707</td>\n",
       "      <td>0.029896</td>\n",
       "      <td>0.012274</td>\n",
       "      <td>0.000000</td>\n",
       "    </tr>\n",
       "    <tr>\n",
       "      <th>3</th>\n",
       "      <td>2022-10-01</td>\n",
       "      <td>2023-10-01</td>\n",
       "      <td>1537fbe</td>\n",
       "      <td>0.027030</td>\n",
       "      <td>0.007042</td>\n",
       "      <td>0.002582</td>\n",
       "    </tr>\n",
       "    <tr>\n",
       "      <th>4</th>\n",
       "      <td>2022-10-01</td>\n",
       "      <td>2023-10-01</td>\n",
       "      <td>2ec232d</td>\n",
       "      <td>0.038738</td>\n",
       "      <td>0.000703</td>\n",
       "      <td>0.016680</td>\n",
       "    </tr>\n",
       "  </tbody>\n",
       "</table>\n",
       "</div>"
      ],
      "text/plain": [
       "  timepoint_current timepoint_future clade_membership  frequency_current  \\\n",
       "0        2022-10-01       2023-10-01          0687bd9           0.065504   \n",
       "1        2022-10-01       2023-10-01          0d06bf2           0.007760   \n",
       "2        2022-10-01       2023-10-01          0ecf707           0.029896   \n",
       "3        2022-10-01       2023-10-01          1537fbe           0.027030   \n",
       "4        2022-10-01       2023-10-01          2ec232d           0.038738   \n",
       "\n",
       "   projected_frequency_current  frequency_future  \n",
       "0                     0.055814          0.127870  \n",
       "1                     0.015399          0.000000  \n",
       "2                     0.012274          0.000000  \n",
       "3                     0.007042          0.002582  \n",
       "4                     0.000703          0.016680  "
      ]
     },
     "execution_count": 228,
     "metadata": {},
     "output_type": "execute_result"
    }
   ],
   "source": [
    "merged_clades.head()"
   ]
  },
  {
   "cell_type": "code",
   "execution_count": 229,
   "metadata": {},
   "outputs": [
    {
     "data": {
      "text/plain": [
       "array([0.999999, 0.999999, 0.999997, 0.999992, 0.999992, 0.999999,\n",
       "       0.999998, 0.999995, 0.999997, 0.999999, 0.999998, 1.      ,\n",
       "       1.      , 0.999997, 0.999991, 0.999995, 1.000001, 0.999996,\n",
       "       0.999997, 0.999995, 0.999996, 1.      , 0.999997, 0.999998,\n",
       "       0.999998, 0.999989, 0.999995, 0.999994, 0.999999, 0.999992,\n",
       "       0.999993, 0.999994, 0.999993, 0.999998, 0.999995])"
      ]
     },
     "execution_count": 229,
     "metadata": {},
     "output_type": "execute_result"
    }
   ],
   "source": [
    "merged_clades.groupby(\"timepoint_current\")[\"frequency_current\"].sum().values"
   ]
  },
  {
   "cell_type": "code",
   "execution_count": 230,
   "metadata": {},
   "outputs": [
    {
     "data": {
      "text/plain": [
       "array([0.999997, 0.999992, 0.999992, 0.999999, 0.999998, 0.999995,\n",
       "       0.999997, 0.999999, 0.999998, 1.      , 1.      , 0.999997,\n",
       "       0.999991, 0.999995, 1.000001, 0.999996, 0.999997, 0.999995,\n",
       "       0.999996, 1.      , 0.999997, 0.999998, 0.999998, 0.999989,\n",
       "       0.999995, 0.999994, 0.999999, 0.999992, 0.999993, 0.999994,\n",
       "       0.999993, 0.999998, 0.999995, 0.999996, 0.999996])"
      ]
     },
     "execution_count": 230,
     "metadata": {},
     "output_type": "execute_result"
    }
   ],
   "source": [
    "merged_clades.groupby(\"timepoint_current\")[\"frequency_future\"].sum().values"
   ]
  },
  {
   "cell_type": "code",
   "execution_count": 235,
   "metadata": {},
   "outputs": [],
   "source": [
    "merged_clades = merged_clades.rename(columns={\n",
    "    \"frequency_current\": \"initial_frequency\",\n",
    "    \"projected_frequency_current\": \"estimated_frequency\",\n",
    "    \"frequency_future\": \"observed_frequency\"\n",
    "}).copy()"
   ]
  },
  {
   "cell_type": "code",
   "execution_count": 241,
   "metadata": {},
   "outputs": [],
   "source": [
    "merged_clades[\"observed_growth_rate\"] = (\n",
    "    merged_clades[\"observed_frequency\"] / merged_clades[\"initial_frequency\"]\n",
    ")"
   ]
  },
  {
   "cell_type": "code",
   "execution_count": 242,
   "metadata": {},
   "outputs": [],
   "source": [
    "merged_clades[\"estimated_growth_rate\"] = (\n",
    "    merged_clades[\"estimated_frequency\"] / merged_clades[\"initial_frequency\"]\n",
    ")"
   ]
  },
  {
   "cell_type": "code",
   "execution_count": 243,
   "metadata": {},
   "outputs": [
    {
     "data": {
      "text/html": [
       "<div>\n",
       "<style scoped>\n",
       "    .dataframe tbody tr th:only-of-type {\n",
       "        vertical-align: middle;\n",
       "    }\n",
       "\n",
       "    .dataframe tbody tr th {\n",
       "        vertical-align: top;\n",
       "    }\n",
       "\n",
       "    .dataframe thead th {\n",
       "        text-align: right;\n",
       "    }\n",
       "</style>\n",
       "<table border=\"1\" class=\"dataframe\">\n",
       "  <thead>\n",
       "    <tr style=\"text-align: right;\">\n",
       "      <th></th>\n",
       "      <th>timepoint_current</th>\n",
       "      <th>timepoint_future</th>\n",
       "      <th>clade_membership</th>\n",
       "      <th>initial_frequency</th>\n",
       "      <th>estimated_frequency</th>\n",
       "      <th>observed_frequency</th>\n",
       "      <th>observed_growth_rate</th>\n",
       "      <th>estimated_growth_rate</th>\n",
       "    </tr>\n",
       "  </thead>\n",
       "  <tbody>\n",
       "    <tr>\n",
       "      <th>0</th>\n",
       "      <td>2022-10-01</td>\n",
       "      <td>2023-10-01</td>\n",
       "      <td>0687bd9</td>\n",
       "      <td>0.065504</td>\n",
       "      <td>0.055814</td>\n",
       "      <td>0.127870</td>\n",
       "      <td>1.952095</td>\n",
       "      <td>0.852065</td>\n",
       "    </tr>\n",
       "    <tr>\n",
       "      <th>1</th>\n",
       "      <td>2022-10-01</td>\n",
       "      <td>2023-10-01</td>\n",
       "      <td>0d06bf2</td>\n",
       "      <td>0.007760</td>\n",
       "      <td>0.015399</td>\n",
       "      <td>0.000000</td>\n",
       "      <td>0.000000</td>\n",
       "      <td>1.984433</td>\n",
       "    </tr>\n",
       "    <tr>\n",
       "      <th>2</th>\n",
       "      <td>2022-10-01</td>\n",
       "      <td>2023-10-01</td>\n",
       "      <td>0ecf707</td>\n",
       "      <td>0.029896</td>\n",
       "      <td>0.012274</td>\n",
       "      <td>0.000000</td>\n",
       "      <td>0.000000</td>\n",
       "      <td>0.410550</td>\n",
       "    </tr>\n",
       "    <tr>\n",
       "      <th>3</th>\n",
       "      <td>2022-10-01</td>\n",
       "      <td>2023-10-01</td>\n",
       "      <td>1537fbe</td>\n",
       "      <td>0.027030</td>\n",
       "      <td>0.007042</td>\n",
       "      <td>0.002582</td>\n",
       "      <td>0.095523</td>\n",
       "      <td>0.260509</td>\n",
       "    </tr>\n",
       "    <tr>\n",
       "      <th>4</th>\n",
       "      <td>2022-10-01</td>\n",
       "      <td>2023-10-01</td>\n",
       "      <td>2ec232d</td>\n",
       "      <td>0.038738</td>\n",
       "      <td>0.000703</td>\n",
       "      <td>0.016680</td>\n",
       "      <td>0.430585</td>\n",
       "      <td>0.018139</td>\n",
       "    </tr>\n",
       "  </tbody>\n",
       "</table>\n",
       "</div>"
      ],
      "text/plain": [
       "  timepoint_current timepoint_future clade_membership  initial_frequency  \\\n",
       "0        2022-10-01       2023-10-01          0687bd9           0.065504   \n",
       "1        2022-10-01       2023-10-01          0d06bf2           0.007760   \n",
       "2        2022-10-01       2023-10-01          0ecf707           0.029896   \n",
       "3        2022-10-01       2023-10-01          1537fbe           0.027030   \n",
       "4        2022-10-01       2023-10-01          2ec232d           0.038738   \n",
       "\n",
       "   estimated_frequency  observed_frequency  observed_growth_rate  \\\n",
       "0             0.055814            0.127870              1.952095   \n",
       "1             0.015399            0.000000              0.000000   \n",
       "2             0.012274            0.000000              0.000000   \n",
       "3             0.007042            0.002582              0.095523   \n",
       "4             0.000703            0.016680              0.430585   \n",
       "\n",
       "   estimated_growth_rate  \n",
       "0               0.852065  \n",
       "1               1.984433  \n",
       "2               0.410550  \n",
       "3               0.260509  \n",
       "4               0.018139  "
      ]
     },
     "execution_count": 243,
     "metadata": {},
     "output_type": "execute_result"
    }
   ],
   "source": [
    "merged_clades.head()"
   ]
  },
  {
   "cell_type": "code",
   "execution_count": 276,
   "metadata": {},
   "outputs": [
    {
     "data": {
      "text/html": [
       "<div>\n",
       "<style scoped>\n",
       "    .dataframe tbody tr th:only-of-type {\n",
       "        vertical-align: middle;\n",
       "    }\n",
       "\n",
       "    .dataframe tbody tr th {\n",
       "        vertical-align: top;\n",
       "    }\n",
       "\n",
       "    .dataframe thead th {\n",
       "        text-align: right;\n",
       "    }\n",
       "</style>\n",
       "<table border=\"1\" class=\"dataframe\">\n",
       "  <thead>\n",
       "    <tr style=\"text-align: right;\">\n",
       "      <th></th>\n",
       "      <th>timepoint_current</th>\n",
       "      <th>timepoint_future</th>\n",
       "      <th>clade_membership</th>\n",
       "      <th>initial_frequency</th>\n",
       "      <th>estimated_frequency</th>\n",
       "      <th>observed_frequency</th>\n",
       "      <th>observed_growth_rate</th>\n",
       "      <th>estimated_growth_rate</th>\n",
       "    </tr>\n",
       "  </thead>\n",
       "  <tbody>\n",
       "    <tr>\n",
       "      <th>204</th>\n",
       "      <td>2029-10-01</td>\n",
       "      <td>2030-10-01</td>\n",
       "      <td>0005017</td>\n",
       "      <td>0.038204</td>\n",
       "      <td>3.778206e-03</td>\n",
       "      <td>0.000524</td>\n",
       "      <td>0.013716</td>\n",
       "      <td>0.098896</td>\n",
       "    </tr>\n",
       "    <tr>\n",
       "      <th>205</th>\n",
       "      <td>2029-10-01</td>\n",
       "      <td>2030-10-01</td>\n",
       "      <td>0dbb0c0</td>\n",
       "      <td>0.023759</td>\n",
       "      <td>4.777152e-02</td>\n",
       "      <td>0.000000</td>\n",
       "      <td>0.000000</td>\n",
       "      <td>2.010670</td>\n",
       "    </tr>\n",
       "    <tr>\n",
       "      <th>206</th>\n",
       "      <td>2029-10-01</td>\n",
       "      <td>2030-10-01</td>\n",
       "      <td>2541589</td>\n",
       "      <td>0.097581</td>\n",
       "      <td>5.412047e-02</td>\n",
       "      <td>0.000000</td>\n",
       "      <td>0.000000</td>\n",
       "      <td>0.554621</td>\n",
       "    </tr>\n",
       "    <tr>\n",
       "      <th>207</th>\n",
       "      <td>2029-10-01</td>\n",
       "      <td>2030-10-01</td>\n",
       "      <td>25f5cf4</td>\n",
       "      <td>0.029484</td>\n",
       "      <td>1.692234e-02</td>\n",
       "      <td>0.040692</td>\n",
       "      <td>1.380138</td>\n",
       "      <td>0.573950</td>\n",
       "    </tr>\n",
       "    <tr>\n",
       "      <th>208</th>\n",
       "      <td>2029-10-01</td>\n",
       "      <td>2030-10-01</td>\n",
       "      <td>694e8b2</td>\n",
       "      <td>0.246660</td>\n",
       "      <td>5.592686e-01</td>\n",
       "      <td>0.958665</td>\n",
       "      <td>3.886585</td>\n",
       "      <td>2.267367</td>\n",
       "    </tr>\n",
       "    <tr>\n",
       "      <th>209</th>\n",
       "      <td>2029-10-01</td>\n",
       "      <td>2030-10-01</td>\n",
       "      <td>7821f47</td>\n",
       "      <td>0.001435</td>\n",
       "      <td>7.388911e-03</td>\n",
       "      <td>0.000020</td>\n",
       "      <td>0.013937</td>\n",
       "      <td>5.149067</td>\n",
       "    </tr>\n",
       "    <tr>\n",
       "      <th>210</th>\n",
       "      <td>2029-10-01</td>\n",
       "      <td>2030-10-01</td>\n",
       "      <td>8ab5cc0</td>\n",
       "      <td>0.026658</td>\n",
       "      <td>2.435415e-03</td>\n",
       "      <td>0.000000</td>\n",
       "      <td>0.000000</td>\n",
       "      <td>0.091358</td>\n",
       "    </tr>\n",
       "    <tr>\n",
       "      <th>211</th>\n",
       "      <td>2029-10-01</td>\n",
       "      <td>2030-10-01</td>\n",
       "      <td>8afc3f0</td>\n",
       "      <td>0.234759</td>\n",
       "      <td>1.090967e-01</td>\n",
       "      <td>0.000000</td>\n",
       "      <td>0.000000</td>\n",
       "      <td>0.464718</td>\n",
       "    </tr>\n",
       "    <tr>\n",
       "      <th>212</th>\n",
       "      <td>2029-10-01</td>\n",
       "      <td>2030-10-01</td>\n",
       "      <td>8fb6342</td>\n",
       "      <td>0.001941</td>\n",
       "      <td>2.748069e-03</td>\n",
       "      <td>0.000000</td>\n",
       "      <td>0.000000</td>\n",
       "      <td>1.415801</td>\n",
       "    </tr>\n",
       "    <tr>\n",
       "      <th>213</th>\n",
       "      <td>2029-10-01</td>\n",
       "      <td>2030-10-01</td>\n",
       "      <td>a920909</td>\n",
       "      <td>0.000012</td>\n",
       "      <td>1.989415e-08</td>\n",
       "      <td>0.000000</td>\n",
       "      <td>0.000000</td>\n",
       "      <td>0.001658</td>\n",
       "    </tr>\n",
       "    <tr>\n",
       "      <th>214</th>\n",
       "      <td>2029-10-01</td>\n",
       "      <td>2030-10-01</td>\n",
       "      <td>b13586f</td>\n",
       "      <td>0.089639</td>\n",
       "      <td>5.040332e-02</td>\n",
       "      <td>0.000049</td>\n",
       "      <td>0.000547</td>\n",
       "      <td>0.562292</td>\n",
       "    </tr>\n",
       "    <tr>\n",
       "      <th>215</th>\n",
       "      <td>2029-10-01</td>\n",
       "      <td>2030-10-01</td>\n",
       "      <td>d01113d</td>\n",
       "      <td>0.030391</td>\n",
       "      <td>2.621161e-02</td>\n",
       "      <td>0.000000</td>\n",
       "      <td>0.000000</td>\n",
       "      <td>0.862479</td>\n",
       "    </tr>\n",
       "    <tr>\n",
       "      <th>216</th>\n",
       "      <td>2029-10-01</td>\n",
       "      <td>2030-10-01</td>\n",
       "      <td>d32e5de</td>\n",
       "      <td>0.097745</td>\n",
       "      <td>4.833058e-02</td>\n",
       "      <td>0.000000</td>\n",
       "      <td>0.000000</td>\n",
       "      <td>0.494456</td>\n",
       "    </tr>\n",
       "    <tr>\n",
       "      <th>217</th>\n",
       "      <td>2029-10-01</td>\n",
       "      <td>2030-10-01</td>\n",
       "      <td>f437f93</td>\n",
       "      <td>0.055414</td>\n",
       "      <td>5.758711e-02</td>\n",
       "      <td>0.000051</td>\n",
       "      <td>0.000920</td>\n",
       "      <td>1.039216</td>\n",
       "    </tr>\n",
       "    <tr>\n",
       "      <th>218</th>\n",
       "      <td>2029-10-01</td>\n",
       "      <td>2030-10-01</td>\n",
       "      <td>fb581df</td>\n",
       "      <td>0.026309</td>\n",
       "      <td>1.393713e-02</td>\n",
       "      <td>0.000000</td>\n",
       "      <td>0.000000</td>\n",
       "      <td>0.529748</td>\n",
       "    </tr>\n",
       "  </tbody>\n",
       "</table>\n",
       "</div>"
      ],
      "text/plain": [
       "    timepoint_current timepoint_future clade_membership  initial_frequency  \\\n",
       "204        2029-10-01       2030-10-01          0005017           0.038204   \n",
       "205        2029-10-01       2030-10-01          0dbb0c0           0.023759   \n",
       "206        2029-10-01       2030-10-01          2541589           0.097581   \n",
       "207        2029-10-01       2030-10-01          25f5cf4           0.029484   \n",
       "208        2029-10-01       2030-10-01          694e8b2           0.246660   \n",
       "209        2029-10-01       2030-10-01          7821f47           0.001435   \n",
       "210        2029-10-01       2030-10-01          8ab5cc0           0.026658   \n",
       "211        2029-10-01       2030-10-01          8afc3f0           0.234759   \n",
       "212        2029-10-01       2030-10-01          8fb6342           0.001941   \n",
       "213        2029-10-01       2030-10-01          a920909           0.000012   \n",
       "214        2029-10-01       2030-10-01          b13586f           0.089639   \n",
       "215        2029-10-01       2030-10-01          d01113d           0.030391   \n",
       "216        2029-10-01       2030-10-01          d32e5de           0.097745   \n",
       "217        2029-10-01       2030-10-01          f437f93           0.055414   \n",
       "218        2029-10-01       2030-10-01          fb581df           0.026309   \n",
       "\n",
       "     estimated_frequency  observed_frequency  observed_growth_rate  \\\n",
       "204         3.778206e-03            0.000524              0.013716   \n",
       "205         4.777152e-02            0.000000              0.000000   \n",
       "206         5.412047e-02            0.000000              0.000000   \n",
       "207         1.692234e-02            0.040692              1.380138   \n",
       "208         5.592686e-01            0.958665              3.886585   \n",
       "209         7.388911e-03            0.000020              0.013937   \n",
       "210         2.435415e-03            0.000000              0.000000   \n",
       "211         1.090967e-01            0.000000              0.000000   \n",
       "212         2.748069e-03            0.000000              0.000000   \n",
       "213         1.989415e-08            0.000000              0.000000   \n",
       "214         5.040332e-02            0.000049              0.000547   \n",
       "215         2.621161e-02            0.000000              0.000000   \n",
       "216         4.833058e-02            0.000000              0.000000   \n",
       "217         5.758711e-02            0.000051              0.000920   \n",
       "218         1.393713e-02            0.000000              0.000000   \n",
       "\n",
       "     estimated_growth_rate  \n",
       "204               0.098896  \n",
       "205               2.010670  \n",
       "206               0.554621  \n",
       "207               0.573950  \n",
       "208               2.267367  \n",
       "209               5.149067  \n",
       "210               0.091358  \n",
       "211               0.464718  \n",
       "212               1.415801  \n",
       "213               0.001658  \n",
       "214               0.562292  \n",
       "215               0.862479  \n",
       "216               0.494456  \n",
       "217               1.039216  \n",
       "218               0.529748  "
      ]
     },
     "execution_count": 276,
     "metadata": {},
     "output_type": "execute_result"
    }
   ],
   "source": [
    "merged_clades.query(\"timepoint_current == '2029-10-01'\")"
   ]
  },
  {
   "cell_type": "markdown",
   "metadata": {},
   "source": [
    "## Find and analyze large clades\n",
    "\n",
    "Find all clades with an initial frequency some minimum value (e.g., >15%)."
   ]
  },
  {
   "cell_type": "code",
   "execution_count": 244,
   "metadata": {},
   "outputs": [],
   "source": [
    "large_clades = merged_clades.query(\"initial_frequency > 0.15\").copy()"
   ]
  },
  {
   "cell_type": "code",
   "execution_count": 245,
   "metadata": {},
   "outputs": [
    {
     "data": {
      "text/html": [
       "<div>\n",
       "<style scoped>\n",
       "    .dataframe tbody tr th:only-of-type {\n",
       "        vertical-align: middle;\n",
       "    }\n",
       "\n",
       "    .dataframe tbody tr th {\n",
       "        vertical-align: top;\n",
       "    }\n",
       "\n",
       "    .dataframe thead th {\n",
       "        text-align: right;\n",
       "    }\n",
       "</style>\n",
       "<table border=\"1\" class=\"dataframe\">\n",
       "  <thead>\n",
       "    <tr style=\"text-align: right;\">\n",
       "      <th></th>\n",
       "      <th>timepoint_current</th>\n",
       "      <th>timepoint_future</th>\n",
       "      <th>clade_membership</th>\n",
       "      <th>initial_frequency</th>\n",
       "      <th>estimated_frequency</th>\n",
       "      <th>observed_frequency</th>\n",
       "      <th>observed_growth_rate</th>\n",
       "      <th>estimated_growth_rate</th>\n",
       "    </tr>\n",
       "  </thead>\n",
       "  <tbody>\n",
       "    <tr>\n",
       "      <th>21</th>\n",
       "      <td>2022-10-01</td>\n",
       "      <td>2023-10-01</td>\n",
       "      <td>e0dac53</td>\n",
       "      <td>0.210180</td>\n",
       "      <td>0.124258</td>\n",
       "      <td>0.000000</td>\n",
       "      <td>0.00000</td>\n",
       "      <td>0.591200</td>\n",
       "    </tr>\n",
       "    <tr>\n",
       "      <th>37</th>\n",
       "      <td>2023-04-01</td>\n",
       "      <td>2024-04-01</td>\n",
       "      <td>d96ebde</td>\n",
       "      <td>0.251733</td>\n",
       "      <td>0.493634</td>\n",
       "      <td>0.663893</td>\n",
       "      <td>2.63729</td>\n",
       "      <td>1.960942</td>\n",
       "    </tr>\n",
       "    <tr>\n",
       "      <th>39</th>\n",
       "      <td>2023-04-01</td>\n",
       "      <td>2024-04-01</td>\n",
       "      <td>e0dac53</td>\n",
       "      <td>0.182203</td>\n",
       "      <td>0.198369</td>\n",
       "      <td>0.000000</td>\n",
       "      <td>0.00000</td>\n",
       "      <td>1.088724</td>\n",
       "    </tr>\n",
       "    <tr>\n",
       "      <th>55</th>\n",
       "      <td>2023-10-01</td>\n",
       "      <td>2024-10-01</td>\n",
       "      <td>d96ebde</td>\n",
       "      <td>0.160589</td>\n",
       "      <td>0.061470</td>\n",
       "      <td>0.000000</td>\n",
       "      <td>0.00000</td>\n",
       "      <td>0.382779</td>\n",
       "    </tr>\n",
       "    <tr>\n",
       "      <th>65</th>\n",
       "      <td>2024-04-01</td>\n",
       "      <td>2025-04-01</td>\n",
       "      <td>34866fa</td>\n",
       "      <td>0.177908</td>\n",
       "      <td>0.020765</td>\n",
       "      <td>0.000000</td>\n",
       "      <td>0.00000</td>\n",
       "      <td>0.116717</td>\n",
       "    </tr>\n",
       "  </tbody>\n",
       "</table>\n",
       "</div>"
      ],
      "text/plain": [
       "   timepoint_current timepoint_future clade_membership  initial_frequency  \\\n",
       "21        2022-10-01       2023-10-01          e0dac53           0.210180   \n",
       "37        2023-04-01       2024-04-01          d96ebde           0.251733   \n",
       "39        2023-04-01       2024-04-01          e0dac53           0.182203   \n",
       "55        2023-10-01       2024-10-01          d96ebde           0.160589   \n",
       "65        2024-04-01       2025-04-01          34866fa           0.177908   \n",
       "\n",
       "    estimated_frequency  observed_frequency  observed_growth_rate  \\\n",
       "21             0.124258            0.000000               0.00000   \n",
       "37             0.493634            0.663893               2.63729   \n",
       "39             0.198369            0.000000               0.00000   \n",
       "55             0.061470            0.000000               0.00000   \n",
       "65             0.020765            0.000000               0.00000   \n",
       "\n",
       "    estimated_growth_rate  \n",
       "21               0.591200  \n",
       "37               1.960942  \n",
       "39               1.088724  \n",
       "55               0.382779  \n",
       "65               0.116717  "
      ]
     },
     "execution_count": 245,
     "metadata": {},
     "output_type": "execute_result"
    }
   ],
   "source": [
    "large_clades.head()"
   ]
  },
  {
   "cell_type": "code",
   "execution_count": 246,
   "metadata": {},
   "outputs": [
    {
     "data": {
      "text/plain": [
       "(62, 8)"
      ]
     },
     "execution_count": 246,
     "metadata": {},
     "output_type": "execute_result"
    }
   ],
   "source": [
    "large_clades.shape"
   ]
  },
  {
   "cell_type": "code",
   "execution_count": 253,
   "metadata": {},
   "outputs": [],
   "source": [
    "r, p = pearsonr(\n",
    "    large_clades[\"observed_growth_rate\"],\n",
    "    large_clades[\"estimated_growth_rate\"]\n",
    ")"
   ]
  },
  {
   "cell_type": "code",
   "execution_count": 254,
   "metadata": {},
   "outputs": [
    {
     "data": {
      "text/plain": [
       "0.06692423552663038"
      ]
     },
     "execution_count": 254,
     "metadata": {},
     "output_type": "execute_result"
    }
   ],
   "source": [
    "r"
   ]
  },
  {
   "cell_type": "code",
   "execution_count": 255,
   "metadata": {},
   "outputs": [
    {
     "data": {
      "text/plain": [
       "0.6052833678833005"
      ]
     },
     "execution_count": 255,
     "metadata": {},
     "output_type": "execute_result"
    }
   ],
   "source": [
    "p"
   ]
  },
  {
   "cell_type": "code",
   "execution_count": 258,
   "metadata": {},
   "outputs": [],
   "source": [
    "mcc, confusion_matrix = get_matthews_correlation_coefficient_for_data_frame(large_clades, True)"
   ]
  },
  {
   "cell_type": "code",
   "execution_count": 259,
   "metadata": {},
   "outputs": [
    {
     "data": {
      "text/plain": [
       "0.06122901534747143"
      ]
     },
     "execution_count": 259,
     "metadata": {},
     "output_type": "execute_result"
    }
   ],
   "source": [
    "mcc"
   ]
  },
  {
   "cell_type": "code",
   "execution_count": 260,
   "metadata": {},
   "outputs": [
    {
     "data": {
      "text/plain": [
       "0.24"
      ]
     },
     "execution_count": 260,
     "metadata": {},
     "output_type": "execute_result"
    }
   ],
   "source": [
    "growth_accuracy = confusion_matrix[\"tp\"] / float(confusion_matrix[\"tp\"] + confusion_matrix[\"fp\"])\n",
    "growth_accuracy"
   ]
  },
  {
   "cell_type": "code",
   "execution_count": 261,
   "metadata": {},
   "outputs": [
    {
     "data": {
      "text/plain": [
       "0.8108108108108109"
      ]
     },
     "execution_count": 261,
     "metadata": {},
     "output_type": "execute_result"
    }
   ],
   "source": [
    "decline_accuracy = confusion_matrix[\"tn\"] / float(confusion_matrix[\"tn\"] + confusion_matrix[\"fn\"])\n",
    "decline_accuracy"
   ]
  },
  {
   "cell_type": "code",
   "execution_count": 262,
   "metadata": {},
   "outputs": [],
   "source": [
    "min_growth_rate = 0\n",
    "max_growth_rate = large_clades.loc[:, [\"observed_growth_rate\", \"estimated_growth_rate\"]].max().max() + 0.2"
   ]
  },
  {
   "cell_type": "code",
   "execution_count": 263,
   "metadata": {},
   "outputs": [],
   "source": [
    "pseudofrequency = 0.001"
   ]
  },
  {
   "cell_type": "code",
   "execution_count": 265,
   "metadata": {},
   "outputs": [],
   "source": [
    "large_clades[\"log_observed_growth_rate\"] = (\n",
    "    np.log10((large_clades[\"observed_frequency\"] + pseudofrequency) / (large_clades[\"initial_frequency\"] + pseudofrequency))\n",
    ")\n",
    "\n",
    "large_clades[\"log_estimated_growth_rate\"] = (\n",
    "    np.log10((large_clades[\"estimated_frequency\"] + pseudofrequency) / (large_clades[\"initial_frequency\"] + pseudofrequency))\n",
    ")"
   ]
  },
  {
   "cell_type": "code",
   "execution_count": 273,
   "metadata": {},
   "outputs": [],
   "source": [
    "upper_limit = np.ceil(large_clades.loc[:, [\"observed_growth_rate\", \"estimated_growth_rate\"]].max().max())\n",
    "\n",
    "log_lower_limit = large_clades.loc[:, [\"log_observed_growth_rate\", \"log_estimated_growth_rate\"]].min().min() - 0.1\n",
    "log_upper_limit = np.ceil(large_clades.loc[:, [\"log_observed_growth_rate\", \"log_estimated_growth_rate\"]].max().max()) + 0.1"
   ]
  },
  {
   "cell_type": "code",
   "execution_count": 268,
   "metadata": {},
   "outputs": [],
   "source": [
    "r, p = pearsonr(\n",
    "    large_clades[\"log_observed_growth_rate\"],\n",
    "    large_clades[\"log_estimated_growth_rate\"]\n",
    ")"
   ]
  },
  {
   "cell_type": "code",
   "execution_count": 269,
   "metadata": {},
   "outputs": [
    {
     "data": {
      "text/plain": [
       "-0.012358833752447628"
      ]
     },
     "execution_count": 269,
     "metadata": {},
     "output_type": "execute_result"
    }
   ],
   "source": [
    "r"
   ]
  },
  {
   "cell_type": "code",
   "execution_count": 270,
   "metadata": {},
   "outputs": [
    {
     "data": {
      "text/plain": [
       "0.9240473700589205"
      ]
     },
     "execution_count": 270,
     "metadata": {},
     "output_type": "execute_result"
    }
   ],
   "source": [
    "p"
   ]
  },
  {
   "cell_type": "code",
   "execution_count": 275,
   "metadata": {},
   "outputs": [
    {
     "data": {
      "image/png": "[encoded data removed]",
      "text/plain": [
       "<Figure size 1200x1200 with 1 Axes>"
      ]
     },
     "metadata": {},
     "output_type": "display_data"
    }
   ],
   "source": [
    "fig, ax = plt.subplots(1, 1, figsize=(6, 6))\n",
    "ax.plot(\n",
    "    large_clades[\"log_observed_growth_rate\"],\n",
    "    large_clades[\"log_estimated_growth_rate\"],\n",
    "    \"o\",\n",
    "    alpha=0.4\n",
    ")\n",
    "\n",
    "ax.axhline(color=\"#cccccc\", zorder=-5)\n",
    "ax.axvline(color=\"#cccccc\", zorder=-5)\n",
    "\n",
    "if p < 0.001:\n",
    "    p_value = \"$p$ < 0.001\"\n",
    "else:\n",
    "    p_value = \"$p$ = %.3f\" % p\n",
    "\n",
    "ax.text(\n",
    "    0.02,\n",
    "    0.9,\n",
    "    \"Growth accuracy = %.2f\\nDecline accuracy = %.2f\\n$R$ = %.2f\\n%s\" % (growth_accuracy, decline_accuracy, r, p_value),\n",
    "    fontsize=12,\n",
    "    horizontalalignment=\"left\",\n",
    "    verticalalignment=\"center\",\n",
    "    transform=ax.transAxes\n",
    ")\n",
    "\n",
    "ax.set_xlabel(\"Observed $log_{10}$ growth rate\")\n",
    "ax.set_ylabel(\"Estimated $log_{10}$ growth rate\")\n",
    "ax.set_title(\"Validation of best model\", fontsize=12)\n",
    "\n",
    "ticks = np.arange(-6, 4, 1)\n",
    "ax.set_xticks(ticks)\n",
    "ax.set_yticks(ticks)\n",
    "\n",
    "ax.set_xlim(log_lower_limit, log_upper_limit)\n",
    "ax.set_ylim(log_lower_limit, log_upper_limit)\n",
    "ax.set_aspect(\"equal\")\n",
    "\n",
    "#plt.savefig(\"../manuscript/figures/validation-of-best-model-for-natural-populations.pdf\")"
   ]
  },
  {
   "cell_type": "code",
   "execution_count": null,
   "metadata": {},
   "outputs": [],
   "source": []
  }
 ],
 "metadata": {
  "kernelspec": {
   "display_name": "Python 3",
   "language": "python",
   "name": "python3"
  },
  "language_info": {
   "codemirror_mode": {
    "name": "ipython",
    "version": 3
   },
   "file_extension": ".py",
   "mimetype": "text/x-python",
   "name": "python",
   "nbconvert_exporter": "python",
   "pygments_lexer": "ipython3",
   "version": "3.6.7"
  }
 },
 "nbformat": 4,
 "nbformat_minor": 4
}
