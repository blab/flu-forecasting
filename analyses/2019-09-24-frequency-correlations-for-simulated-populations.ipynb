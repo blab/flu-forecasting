{
 "cells": [
  {
   "cell_type": "markdown",
   "metadata": {},
   "source": [
    "# Frequency correlation plots for simulated populations\n",
    "\n",
    "Another attempt at calculating clade frequencies from tip-to-clade mappings without using a full tree."
   ]
  },
  {
   "cell_type": "code",
   "execution_count": 307,
   "metadata": {},
   "outputs": [],
   "source": [
    "import altair as alt\n",
    "import matplotlib as mpl\n",
    "import matplotlib.pyplot as plt\n",
    "import matplotlib.gridspec as gridspec\n",
    "import numpy as np\n",
    "import pandas as pd\n",
    "from scipy.stats import pearsonr\n",
    "import seaborn as sns\n",
    "\n",
    "%matplotlib inline"
   ]
  },
  {
   "cell_type": "code",
   "execution_count": 309,
   "metadata": {},
   "outputs": [],
   "source": [
    "sns.set_style(\"white\")\n",
    "plt.style.use(\"huddlej\")"
   ]
  },
  {
   "cell_type": "code",
   "execution_count": 310,
   "metadata": {},
   "outputs": [],
   "source": [
    "mpl.rcParams['savefig.dpi'] = 200\n",
    "mpl.rcParams['figure.dpi'] = 200\n",
    "mpl.rcParams['font.weight'] = 300\n",
    "mpl.rcParams['axes.labelweight'] = 300\n",
    "mpl.rcParams['font.size'] = 18"
   ]
  },
  {
   "cell_type": "code",
   "execution_count": 4,
   "metadata": {},
   "outputs": [
    {
     "name": "stdout",
     "output_type": "stream",
     "text": [
      "/Users/jlhudd/projects/nextstrain/flu-forecasting/analyses\n"
     ]
    }
   ],
   "source": [
    "!pwd"
   ]
  },
  {
   "cell_type": "code",
   "execution_count": 257,
   "metadata": {},
   "outputs": [],
   "source": [
    "def matthews_correlation_coefficient(tp, tn, fp, fn):\n",
    "    \"\"\"Return Matthews correlation coefficient for values from a confusion matrix.\n",
    "    Implementation is based on the definition from wikipedia:\n",
    "\n",
    "    https://en.wikipedia.org/wiki/Matthews_correlation_coefficient\n",
    "    \"\"\"\n",
    "    numerator = (tp * tn) - (fp * fn)\n",
    "    denominator = np.sqrt((tp + fp) * (tp + fn) * (tn + fp) * (tn + fn))\n",
    "    if denominator == 0:\n",
    "            denominator = 1\n",
    "\n",
    "    return float(numerator) / denominator\n",
    "\n",
    "def get_matthews_correlation_coefficient_for_data_frame(freq_df, return_confusion_matrix=False):\n",
    "        \"\"\"Calculate Matthew's correlation coefficient from a given pandas data frame\n",
    "        with columns for initial, observed, and predicted frequencies.\n",
    "        \"\"\"\n",
    "        observed_growth = (freq_df[\"observed_frequency\"] > freq_df[\"initial_frequency\"])\n",
    "        predicted_growth = (freq_df[\"estimated_frequency\"] > freq_df[\"initial_frequency\"])\n",
    "        true_positives = ((observed_growth) & (predicted_growth)).sum()\n",
    "        false_positives= ((~observed_growth) & (predicted_growth)).sum()\n",
    "\n",
    "        observed_decline = (freq_df[\"observed_frequency\"] <= freq_df[\"initial_frequency\"])\n",
    "        predicted_decline = (freq_df[\"estimated_frequency\"] <= freq_df[\"initial_frequency\"])\n",
    "        true_negatives = ((observed_decline) & (predicted_decline)).sum()\n",
    "        false_negatives = ((~observed_decline) & (predicted_decline)).sum()\n",
    "\n",
    "        mcc = matthews_correlation_coefficient(\n",
    "            true_positives,\n",
    "            true_negatives,\n",
    "            false_positives,\n",
    "            false_negatives\n",
    "        )\n",
    "\n",
    "        if return_confusion_matrix:\n",
    "            confusion_matrix = {\n",
    "                \"tp\": true_positives,\n",
    "                \"tn\": true_negatives,\n",
    "                \"fp\": false_positives,\n",
    "                \"fn\": false_negatives\n",
    "            }\n",
    "            \n",
    "            return mcc, confusion_matrix\n",
    "        else:\n",
    "            return mcc"
   ]
  },
  {
   "cell_type": "markdown",
   "metadata": {},
   "source": [
    "## Load data"
   ]
  },
  {
   "cell_type": "code",
   "execution_count": 484,
   "metadata": {},
   "outputs": [],
   "source": [
    "data_root = \"../results/builds/simulated/simulated_sample_1/\""
   ]
  },
  {
   "cell_type": "code",
   "execution_count": 485,
   "metadata": {},
   "outputs": [],
   "source": [
    "tips = pd.read_csv(\n",
    "    \"%s/tip_attributes_with_weighted_distances.tsv\" % data_root,\n",
    "    sep=\"\\t\",\n",
    "    parse_dates=[\"timepoint\"],\n",
    "    usecols=[\"strain\", \"timepoint\", \"frequency\"]\n",
    ")"
   ]
  },
  {
   "cell_type": "code",
   "execution_count": 486,
   "metadata": {},
   "outputs": [],
   "source": [
    "first_validation_timepoint = \"2023-10-01\""
   ]
  },
  {
   "cell_type": "code",
   "execution_count": 487,
   "metadata": {},
   "outputs": [],
   "source": [
    "tips = tips.query(\"timepoint >= '%s'\" % first_validation_timepoint).copy()"
   ]
  },
  {
   "cell_type": "code",
   "execution_count": 488,
   "metadata": {},
   "outputs": [
    {
     "data": {
      "text/plain": [
       "(2875, 3)"
      ]
     },
     "execution_count": 488,
     "metadata": {},
     "output_type": "execute_result"
    }
   ],
   "source": [
    "tips.shape"
   ]
  },
  {
   "cell_type": "code",
   "execution_count": 489,
   "metadata": {},
   "outputs": [],
   "source": [
    "tips[\"future_timepoint\"] = tips[\"timepoint\"] + pd.DateOffset(months=12)"
   ]
  },
  {
   "cell_type": "code",
   "execution_count": 490,
   "metadata": {},
   "outputs": [],
   "source": [
    "tips.set_index([\"timepoint\", \"future_timepoint\", \"strain\"], inplace=True)"
   ]
  },
  {
   "cell_type": "code",
   "execution_count": 491,
   "metadata": {},
   "outputs": [
    {
     "data": {
      "text/html": [
       "<div>\n",
       "<style scoped>\n",
       "    .dataframe tbody tr th:only-of-type {\n",
       "        vertical-align: middle;\n",
       "    }\n",
       "\n",
       "    .dataframe tbody tr th {\n",
       "        vertical-align: top;\n",
       "    }\n",
       "\n",
       "    .dataframe thead th {\n",
       "        text-align: right;\n",
       "    }\n",
       "</style>\n",
       "<table border=\"1\" class=\"dataframe\">\n",
       "  <thead>\n",
       "    <tr style=\"text-align: right;\">\n",
       "      <th></th>\n",
       "      <th></th>\n",
       "      <th></th>\n",
       "      <th>frequency</th>\n",
       "    </tr>\n",
       "    <tr>\n",
       "      <th>timepoint</th>\n",
       "      <th>future_timepoint</th>\n",
       "      <th>strain</th>\n",
       "      <th></th>\n",
       "    </tr>\n",
       "  </thead>\n",
       "  <tbody>\n",
       "    <tr>\n",
       "      <th>2023-10-01</th>\n",
       "      <th>2024-10-01</th>\n",
       "      <th>sample_4616_1</th>\n",
       "      <td>0.000012</td>\n",
       "    </tr>\n",
       "  </tbody>\n",
       "</table>\n",
       "</div>"
      ],
      "text/plain": [
       "                                           frequency\n",
       "timepoint  future_timepoint strain                  \n",
       "2023-10-01 2024-10-01       sample_4616_1   0.000012"
      ]
     },
     "execution_count": 491,
     "metadata": {},
     "output_type": "execute_result"
    }
   ],
   "source": [
    "tips.head(1)"
   ]
  },
  {
   "cell_type": "code",
   "execution_count": 492,
   "metadata": {},
   "outputs": [],
   "source": [
    "tips_to_clades = pd.read_csv(\"%s/tips_to_clades.tsv\" % data_root, sep=\"\\t\", parse_dates=[\"timepoint\"])"
   ]
  },
  {
   "cell_type": "code",
   "execution_count": 493,
   "metadata": {},
   "outputs": [],
   "source": [
    "tips_to_clades = tips_to_clades.query(\"timepoint >= '%s'\" % first_validation_timepoint).copy()"
   ]
  },
  {
   "cell_type": "code",
   "execution_count": 494,
   "metadata": {},
   "outputs": [],
   "source": [
    "tips_to_clades = tips_to_clades.rename(columns={\"tip\": \"strain\"})"
   ]
  },
  {
   "cell_type": "code",
   "execution_count": 495,
   "metadata": {},
   "outputs": [],
   "source": [
    "tips_to_clades.set_index([\"timepoint\", \"strain\"], inplace=True)"
   ]
  },
  {
   "cell_type": "code",
   "execution_count": 496,
   "metadata": {},
   "outputs": [
    {
     "data": {
      "text/html": [
       "<div>\n",
       "<style scoped>\n",
       "    .dataframe tbody tr th:only-of-type {\n",
       "        vertical-align: middle;\n",
       "    }\n",
       "\n",
       "    .dataframe tbody tr th {\n",
       "        vertical-align: top;\n",
       "    }\n",
       "\n",
       "    .dataframe thead th {\n",
       "        text-align: right;\n",
       "    }\n",
       "</style>\n",
       "<table border=\"1\" class=\"dataframe\">\n",
       "  <thead>\n",
       "    <tr style=\"text-align: right;\">\n",
       "      <th></th>\n",
       "      <th></th>\n",
       "      <th>clade_membership</th>\n",
       "      <th>depth</th>\n",
       "    </tr>\n",
       "    <tr>\n",
       "      <th>timepoint</th>\n",
       "      <th>strain</th>\n",
       "      <th></th>\n",
       "      <th></th>\n",
       "    </tr>\n",
       "  </thead>\n",
       "  <tbody>\n",
       "    <tr>\n",
       "      <th rowspan=\"5\" valign=\"top\">2023-10-01</th>\n",
       "      <th>sample_3600_1</th>\n",
       "      <td>81fd9c8</td>\n",
       "      <td>0</td>\n",
       "    </tr>\n",
       "    <tr>\n",
       "      <th>sample_3560_5</th>\n",
       "      <td>81fd9c8</td>\n",
       "      <td>0</td>\n",
       "    </tr>\n",
       "    <tr>\n",
       "      <th>sample_3584_6</th>\n",
       "      <td>81fd9c8</td>\n",
       "      <td>0</td>\n",
       "    </tr>\n",
       "    <tr>\n",
       "      <th>sample_3560_4</th>\n",
       "      <td>c67ab0a</td>\n",
       "      <td>0</td>\n",
       "    </tr>\n",
       "    <tr>\n",
       "      <th>sample_3560_4</th>\n",
       "      <td>1aa93ba</td>\n",
       "      <td>2</td>\n",
       "    </tr>\n",
       "  </tbody>\n",
       "</table>\n",
       "</div>"
      ],
      "text/plain": [
       "                         clade_membership  depth\n",
       "timepoint  strain                               \n",
       "2023-10-01 sample_3600_1          81fd9c8      0\n",
       "           sample_3560_5          81fd9c8      0\n",
       "           sample_3584_6          81fd9c8      0\n",
       "           sample_3560_4          c67ab0a      0\n",
       "           sample_3560_4          1aa93ba      2"
      ]
     },
     "execution_count": 496,
     "metadata": {},
     "output_type": "execute_result"
    }
   ],
   "source": [
    "tips_to_clades.head()"
   ]
  },
  {
   "cell_type": "code",
   "execution_count": 497,
   "metadata": {},
   "outputs": [
    {
     "data": {
      "text/plain": [
       "(288819, 2)"
      ]
     },
     "execution_count": 497,
     "metadata": {},
     "output_type": "execute_result"
    }
   ],
   "source": [
    "tips_to_clades.shape"
   ]
  },
  {
   "cell_type": "code",
   "execution_count": 498,
   "metadata": {},
   "outputs": [],
   "source": [
    "forecasts = pd.read_csv(\n",
    "    \"%s/forecasts.tsv\" % data_root,\n",
    "    sep=\"\\t\",\n",
    "    parse_dates=[\"timepoint\"],\n",
    "    usecols=[\"timepoint\", \"strain\", \"projected_frequency\"]\n",
    ")"
   ]
  },
  {
   "cell_type": "code",
   "execution_count": 499,
   "metadata": {},
   "outputs": [],
   "source": [
    "forecasts.set_index([\"timepoint\", \"strain\"], inplace=True)"
   ]
  },
  {
   "cell_type": "code",
   "execution_count": 500,
   "metadata": {},
   "outputs": [
    {
     "data": {
      "text/html": [
       "<div>\n",
       "<style scoped>\n",
       "    .dataframe tbody tr th:only-of-type {\n",
       "        vertical-align: middle;\n",
       "    }\n",
       "\n",
       "    .dataframe tbody tr th {\n",
       "        vertical-align: top;\n",
       "    }\n",
       "\n",
       "    .dataframe thead th {\n",
       "        text-align: right;\n",
       "    }\n",
       "</style>\n",
       "<table border=\"1\" class=\"dataframe\">\n",
       "  <thead>\n",
       "    <tr style=\"text-align: right;\">\n",
       "      <th></th>\n",
       "      <th></th>\n",
       "      <th>projected_frequency</th>\n",
       "    </tr>\n",
       "    <tr>\n",
       "      <th>timepoint</th>\n",
       "      <th>strain</th>\n",
       "      <th></th>\n",
       "    </tr>\n",
       "  </thead>\n",
       "  <tbody>\n",
       "    <tr>\n",
       "      <th rowspan=\"5\" valign=\"top\">2016-10-01</th>\n",
       "      <th>sample_3216_5</th>\n",
       "      <td>1.284285e-08</td>\n",
       "    </tr>\n",
       "    <tr>\n",
       "      <th>sample_3216_7</th>\n",
       "      <td>1.295382e-07</td>\n",
       "    </tr>\n",
       "    <tr>\n",
       "      <th>sample_3220_3</th>\n",
       "      <td>4.939963e-07</td>\n",
       "    </tr>\n",
       "    <tr>\n",
       "      <th>sample_3224_1</th>\n",
       "      <td>6.454219e-07</td>\n",
       "    </tr>\n",
       "    <tr>\n",
       "      <th>sample_3224_10</th>\n",
       "      <td>4.716771e-08</td>\n",
       "    </tr>\n",
       "  </tbody>\n",
       "</table>\n",
       "</div>"
      ],
      "text/plain": [
       "                           projected_frequency\n",
       "timepoint  strain                             \n",
       "2016-10-01 sample_3216_5          1.284285e-08\n",
       "           sample_3216_7          1.295382e-07\n",
       "           sample_3220_3          4.939963e-07\n",
       "           sample_3224_1          6.454219e-07\n",
       "           sample_3224_10         4.716771e-08"
      ]
     },
     "execution_count": 500,
     "metadata": {},
     "output_type": "execute_result"
    }
   ],
   "source": [
    "forecasts.head()"
   ]
  },
  {
   "cell_type": "code",
   "execution_count": 501,
   "metadata": {},
   "outputs": [],
   "source": [
    "full_forecasts = pd.read_csv(\n",
    "    \"%s/forecasts.tsv\" % data_root,\n",
    "    sep=\"\\t\",\n",
    "    parse_dates=[\"timepoint\", \"future_timepoint\"]\n",
    ")"
   ]
  },
  {
   "cell_type": "code",
   "execution_count": 502,
   "metadata": {},
   "outputs": [],
   "source": [
    "full_forecasts = full_forecasts.query(\"timepoint >= '%s'\" % first_validation_timepoint).copy()"
   ]
  },
  {
   "cell_type": "markdown",
   "metadata": {},
   "source": [
    "## Find clades for tips at future timepoint"
   ]
  },
  {
   "cell_type": "markdown",
   "metadata": {},
   "source": [
    "Annotate projected frequencies for each tip by timepoint."
   ]
  },
  {
   "cell_type": "code",
   "execution_count": 505,
   "metadata": {},
   "outputs": [],
   "source": [
    "tips = tips.join(forecasts, on=[\"timepoint\", \"strain\"])"
   ]
  },
  {
   "cell_type": "code",
   "execution_count": 532,
   "metadata": {},
   "outputs": [],
   "source": [
    "tips_with_current_clades = tips.join(\n",
    "    tips_to_clades,\n",
    "    on=[\"timepoint\", \"strain\"]\n",
    ").reset_index().rename(columns={\n",
    "    \"level_0\": \"timepoint\",\n",
    "    \"level_2\": \"strain\"\n",
    "})"
   ]
  },
  {
   "cell_type": "code",
   "execution_count": 533,
   "metadata": {},
   "outputs": [
    {
     "data": {
      "text/plain": [
       "(54624, 7)"
      ]
     },
     "execution_count": 533,
     "metadata": {},
     "output_type": "execute_result"
    }
   ],
   "source": [
    "tips_with_current_clades.shape"
   ]
  },
  {
   "cell_type": "code",
   "execution_count": 535,
   "metadata": {},
   "outputs": [
    {
     "data": {
      "text/html": [
       "<div>\n",
       "<style scoped>\n",
       "    .dataframe tbody tr th:only-of-type {\n",
       "        vertical-align: middle;\n",
       "    }\n",
       "\n",
       "    .dataframe tbody tr th {\n",
       "        vertical-align: top;\n",
       "    }\n",
       "\n",
       "    .dataframe thead th {\n",
       "        text-align: right;\n",
       "    }\n",
       "</style>\n",
       "<table border=\"1\" class=\"dataframe\">\n",
       "  <thead>\n",
       "    <tr style=\"text-align: right;\">\n",
       "      <th></th>\n",
       "      <th>timepoint</th>\n",
       "      <th>future_timepoint</th>\n",
       "      <th>strain</th>\n",
       "      <th>frequency</th>\n",
       "      <th>projected_frequency</th>\n",
       "      <th>clade_membership</th>\n",
       "      <th>depth</th>\n",
       "    </tr>\n",
       "  </thead>\n",
       "  <tbody>\n",
       "    <tr>\n",
       "      <th>0</th>\n",
       "      <td>2023-10-01</td>\n",
       "      <td>2024-10-01</td>\n",
       "      <td>sample_4616_1</td>\n",
       "      <td>0.000012</td>\n",
       "      <td>0.000049</td>\n",
       "      <td>4142c6d</td>\n",
       "      <td>0</td>\n",
       "    </tr>\n",
       "    <tr>\n",
       "      <th>1</th>\n",
       "      <td>2023-10-01</td>\n",
       "      <td>2024-10-01</td>\n",
       "      <td>sample_4616_1</td>\n",
       "      <td>0.000012</td>\n",
       "      <td>0.000049</td>\n",
       "      <td>2ec232d</td>\n",
       "      <td>4</td>\n",
       "    </tr>\n",
       "    <tr>\n",
       "      <th>2</th>\n",
       "      <td>2023-10-01</td>\n",
       "      <td>2024-10-01</td>\n",
       "      <td>sample_4616_1</td>\n",
       "      <td>0.000012</td>\n",
       "      <td>0.000049</td>\n",
       "      <td>508e469</td>\n",
       "      <td>5</td>\n",
       "    </tr>\n",
       "    <tr>\n",
       "      <th>3</th>\n",
       "      <td>2023-10-01</td>\n",
       "      <td>2024-10-01</td>\n",
       "      <td>sample_4616_1</td>\n",
       "      <td>0.000012</td>\n",
       "      <td>0.000049</td>\n",
       "      <td>60842de</td>\n",
       "      <td>10</td>\n",
       "    </tr>\n",
       "    <tr>\n",
       "      <th>4</th>\n",
       "      <td>2023-10-01</td>\n",
       "      <td>2024-10-01</td>\n",
       "      <td>sample_4616_1</td>\n",
       "      <td>0.000012</td>\n",
       "      <td>0.000049</td>\n",
       "      <td>165aaed</td>\n",
       "      <td>12</td>\n",
       "    </tr>\n",
       "  </tbody>\n",
       "</table>\n",
       "</div>"
      ],
      "text/plain": [
       "   timepoint future_timepoint         strain  frequency  projected_frequency  \\\n",
       "0 2023-10-01       2024-10-01  sample_4616_1   0.000012             0.000049   \n",
       "1 2023-10-01       2024-10-01  sample_4616_1   0.000012             0.000049   \n",
       "2 2023-10-01       2024-10-01  sample_4616_1   0.000012             0.000049   \n",
       "3 2023-10-01       2024-10-01  sample_4616_1   0.000012             0.000049   \n",
       "4 2023-10-01       2024-10-01  sample_4616_1   0.000012             0.000049   \n",
       "\n",
       "  clade_membership  depth  \n",
       "0          4142c6d      0  \n",
       "1          2ec232d      4  \n",
       "2          508e469      5  \n",
       "3          60842de     10  \n",
       "4          165aaed     12  "
      ]
     },
     "execution_count": 535,
     "metadata": {},
     "output_type": "execute_result"
    }
   ],
   "source": [
    "tips_with_current_clades.head()"
   ]
  },
  {
   "cell_type": "code",
   "execution_count": 536,
   "metadata": {},
   "outputs": [],
   "source": [
    "current_tips_with_future_clades = tips.join(\n",
    "    tips_to_clades,\n",
    "    on=[\"future_timepoint\", \"strain\"]\n",
    ").reset_index().rename(columns={\n",
    "    \"level_1\": \"future_timepoint\",\n",
    "    \"level_2\": \"strain\"\n",
    "})"
   ]
  },
  {
   "cell_type": "code",
   "execution_count": 537,
   "metadata": {},
   "outputs": [
    {
     "data": {
      "text/html": [
       "<div>\n",
       "<style scoped>\n",
       "    .dataframe tbody tr th:only-of-type {\n",
       "        vertical-align: middle;\n",
       "    }\n",
       "\n",
       "    .dataframe tbody tr th {\n",
       "        vertical-align: top;\n",
       "    }\n",
       "\n",
       "    .dataframe thead th {\n",
       "        text-align: right;\n",
       "    }\n",
       "</style>\n",
       "<table border=\"1\" class=\"dataframe\">\n",
       "  <thead>\n",
       "    <tr style=\"text-align: right;\">\n",
       "      <th></th>\n",
       "      <th>timepoint</th>\n",
       "      <th>future_timepoint</th>\n",
       "      <th>strain</th>\n",
       "      <th>frequency</th>\n",
       "      <th>projected_frequency</th>\n",
       "      <th>clade_membership</th>\n",
       "      <th>depth</th>\n",
       "    </tr>\n",
       "  </thead>\n",
       "  <tbody>\n",
       "    <tr>\n",
       "      <th>0</th>\n",
       "      <td>2023-10-01</td>\n",
       "      <td>2024-10-01</td>\n",
       "      <td>sample_4616_1</td>\n",
       "      <td>0.000012</td>\n",
       "      <td>0.000049</td>\n",
       "      <td>4142c6d</td>\n",
       "      <td>0.0</td>\n",
       "    </tr>\n",
       "    <tr>\n",
       "      <th>1</th>\n",
       "      <td>2023-10-01</td>\n",
       "      <td>2024-10-01</td>\n",
       "      <td>sample_4616_1</td>\n",
       "      <td>0.000012</td>\n",
       "      <td>0.000049</td>\n",
       "      <td>2ec232d</td>\n",
       "      <td>4.0</td>\n",
       "    </tr>\n",
       "    <tr>\n",
       "      <th>2</th>\n",
       "      <td>2023-10-01</td>\n",
       "      <td>2024-10-01</td>\n",
       "      <td>sample_4616_1</td>\n",
       "      <td>0.000012</td>\n",
       "      <td>0.000049</td>\n",
       "      <td>508e469</td>\n",
       "      <td>5.0</td>\n",
       "    </tr>\n",
       "    <tr>\n",
       "      <th>3</th>\n",
       "      <td>2023-10-01</td>\n",
       "      <td>2024-10-01</td>\n",
       "      <td>sample_4616_1</td>\n",
       "      <td>0.000012</td>\n",
       "      <td>0.000049</td>\n",
       "      <td>60842de</td>\n",
       "      <td>10.0</td>\n",
       "    </tr>\n",
       "    <tr>\n",
       "      <th>4</th>\n",
       "      <td>2023-10-01</td>\n",
       "      <td>2024-10-01</td>\n",
       "      <td>sample_4616_1</td>\n",
       "      <td>0.000012</td>\n",
       "      <td>0.000049</td>\n",
       "      <td>165aaed</td>\n",
       "      <td>12.0</td>\n",
       "    </tr>\n",
       "  </tbody>\n",
       "</table>\n",
       "</div>"
      ],
      "text/plain": [
       "   timepoint future_timepoint         strain  frequency  projected_frequency  \\\n",
       "0 2023-10-01       2024-10-01  sample_4616_1   0.000012             0.000049   \n",
       "1 2023-10-01       2024-10-01  sample_4616_1   0.000012             0.000049   \n",
       "2 2023-10-01       2024-10-01  sample_4616_1   0.000012             0.000049   \n",
       "3 2023-10-01       2024-10-01  sample_4616_1   0.000012             0.000049   \n",
       "4 2023-10-01       2024-10-01  sample_4616_1   0.000012             0.000049   \n",
       "\n",
       "  clade_membership  depth  \n",
       "0          4142c6d    0.0  \n",
       "1          2ec232d    4.0  \n",
       "2          508e469    5.0  \n",
       "3          60842de   10.0  \n",
       "4          165aaed   12.0  "
      ]
     },
     "execution_count": 537,
     "metadata": {},
     "output_type": "execute_result"
    }
   ],
   "source": [
    "current_tips_with_future_clades.head()"
   ]
  },
  {
   "cell_type": "code",
   "execution_count": 538,
   "metadata": {},
   "outputs": [
    {
     "data": {
      "text/plain": [
       "(43905, 7)"
      ]
     },
     "execution_count": 538,
     "metadata": {},
     "output_type": "execute_result"
    }
   ],
   "source": [
    "current_tips_with_future_clades.shape"
   ]
  },
  {
   "cell_type": "markdown",
   "metadata": {},
   "source": [
    "If we take the closest clade to each tip and sum tip frequencies by timepoint, we should get 100% frequency for each timepoint."
   ]
  },
  {
   "cell_type": "code",
   "execution_count": 539,
   "metadata": {},
   "outputs": [
    {
     "data": {
      "text/plain": [
       "timepoint\n",
       "2023-10-01    0.999997\n",
       "2024-04-01    0.999992\n",
       "2024-10-01    0.999992\n",
       "2025-04-01    0.999999\n",
       "2025-10-01    0.999998\n",
       "2026-04-01    0.999995\n",
       "2026-10-01    0.999997\n",
       "2027-04-01    0.999999\n",
       "2027-10-01    0.999998\n",
       "2028-04-01    1.000000\n",
       "2028-10-01    1.000000\n",
       "2029-04-01    0.999997\n",
       "2029-10-01    0.999991\n",
       "2030-04-01    0.999995\n",
       "2030-10-01    1.000001\n",
       "2031-04-01    0.999996\n",
       "2031-10-01    0.999997\n",
       "2032-04-01    0.999995\n",
       "2032-10-01    0.999996\n",
       "2033-04-01    1.000000\n",
       "2033-10-01    0.999997\n",
       "2034-04-01    0.999998\n",
       "2034-10-01    0.999998\n",
       "2035-04-01    0.999989\n",
       "2035-10-01    0.999995\n",
       "2036-04-01    0.999994\n",
       "2036-10-01    0.999999\n",
       "2037-04-01    0.999992\n",
       "2037-10-01    0.999993\n",
       "2038-04-01    0.999994\n",
       "2038-10-01    0.999993\n",
       "2039-04-01    0.999998\n",
       "2039-10-01    0.999995\n",
       "2040-04-01    0.999996\n",
       "2040-10-01    0.999996\n",
       "Name: frequency, dtype: float64"
      ]
     },
     "execution_count": 539,
     "metadata": {},
     "output_type": "execute_result"
    }
   ],
   "source": [
    "current_tips_with_future_clades.groupby([\"timepoint\", \"future_timepoint\", \"strain\", \"frequency\"]).first().reset_index().groupby([\n",
    "    \"timepoint\"\n",
    "])[\"frequency\"].sum()"
   ]
  },
  {
   "cell_type": "markdown",
   "metadata": {},
   "source": [
    "Find tips at future timepoint with same clades as current tips. To do this, find the join between timepoints and clades for current tips and future tips."
   ]
  },
  {
   "cell_type": "code",
   "execution_count": 549,
   "metadata": {},
   "outputs": [],
   "source": [
    "current_and_future_tips_with_clades = current_tips_with_future_clades.merge(\n",
    "    tips_with_current_clades,\n",
    "    left_on=[\"future_timepoint\", \"clade_membership\"],\n",
    "    right_on=[\"timepoint\", \"clade_membership\"],\n",
    "    suffixes=[\"_current\", \"_future\"],\n",
    "    copy=False\n",
    ")"
   ]
  },
  {
   "cell_type": "code",
   "execution_count": 550,
   "metadata": {},
   "outputs": [
    {
     "data": {
      "text/html": [
       "<div>\n",
       "<style scoped>\n",
       "    .dataframe tbody tr th:only-of-type {\n",
       "        vertical-align: middle;\n",
       "    }\n",
       "\n",
       "    .dataframe tbody tr th {\n",
       "        vertical-align: top;\n",
       "    }\n",
       "\n",
       "    .dataframe thead th {\n",
       "        text-align: right;\n",
       "    }\n",
       "</style>\n",
       "<table border=\"1\" class=\"dataframe\">\n",
       "  <thead>\n",
       "    <tr style=\"text-align: right;\">\n",
       "      <th></th>\n",
       "      <th>timepoint_current</th>\n",
       "      <th>future_timepoint_current</th>\n",
       "      <th>strain_current</th>\n",
       "      <th>frequency_current</th>\n",
       "      <th>projected_frequency_current</th>\n",
       "      <th>clade_membership</th>\n",
       "      <th>depth_current</th>\n",
       "      <th>timepoint_future</th>\n",
       "      <th>future_timepoint_future</th>\n",
       "      <th>strain_future</th>\n",
       "      <th>frequency_future</th>\n",
       "      <th>projected_frequency_future</th>\n",
       "      <th>depth_future</th>\n",
       "    </tr>\n",
       "  </thead>\n",
       "  <tbody>\n",
       "    <tr>\n",
       "      <th>0</th>\n",
       "      <td>2023-10-01</td>\n",
       "      <td>2024-10-01</td>\n",
       "      <td>sample_4616_1</td>\n",
       "      <td>0.000012</td>\n",
       "      <td>0.000049</td>\n",
       "      <td>508e469</td>\n",
       "      <td>5.0</td>\n",
       "      <td>2024-10-01</td>\n",
       "      <td>2025-10-01</td>\n",
       "      <td>sample_4816_10</td>\n",
       "      <td>0.000012</td>\n",
       "      <td>0.000003</td>\n",
       "      <td>17</td>\n",
       "    </tr>\n",
       "    <tr>\n",
       "      <th>1</th>\n",
       "      <td>2023-10-01</td>\n",
       "      <td>2024-10-01</td>\n",
       "      <td>sample_4616_1</td>\n",
       "      <td>0.000012</td>\n",
       "      <td>0.000049</td>\n",
       "      <td>508e469</td>\n",
       "      <td>5.0</td>\n",
       "      <td>2024-10-01</td>\n",
       "      <td>2025-10-01</td>\n",
       "      <td>sample_4816_4</td>\n",
       "      <td>0.000012</td>\n",
       "      <td>0.000042</td>\n",
       "      <td>18</td>\n",
       "    </tr>\n",
       "    <tr>\n",
       "      <th>2</th>\n",
       "      <td>2023-10-01</td>\n",
       "      <td>2024-10-01</td>\n",
       "      <td>sample_4616_1</td>\n",
       "      <td>0.000012</td>\n",
       "      <td>0.000049</td>\n",
       "      <td>508e469</td>\n",
       "      <td>5.0</td>\n",
       "      <td>2024-10-01</td>\n",
       "      <td>2025-10-01</td>\n",
       "      <td>sample_4816_8</td>\n",
       "      <td>0.000012</td>\n",
       "      <td>0.000240</td>\n",
       "      <td>19</td>\n",
       "    </tr>\n",
       "    <tr>\n",
       "      <th>3</th>\n",
       "      <td>2023-10-01</td>\n",
       "      <td>2024-10-01</td>\n",
       "      <td>sample_4616_1</td>\n",
       "      <td>0.000012</td>\n",
       "      <td>0.000049</td>\n",
       "      <td>508e469</td>\n",
       "      <td>5.0</td>\n",
       "      <td>2024-10-01</td>\n",
       "      <td>2025-10-01</td>\n",
       "      <td>sample_4820_10</td>\n",
       "      <td>0.000019</td>\n",
       "      <td>0.000080</td>\n",
       "      <td>20</td>\n",
       "    </tr>\n",
       "    <tr>\n",
       "      <th>4</th>\n",
       "      <td>2023-10-01</td>\n",
       "      <td>2024-10-01</td>\n",
       "      <td>sample_4616_1</td>\n",
       "      <td>0.000012</td>\n",
       "      <td>0.000049</td>\n",
       "      <td>508e469</td>\n",
       "      <td>5.0</td>\n",
       "      <td>2024-10-01</td>\n",
       "      <td>2025-10-01</td>\n",
       "      <td>sample_4820_2</td>\n",
       "      <td>0.000019</td>\n",
       "      <td>0.000117</td>\n",
       "      <td>20</td>\n",
       "    </tr>\n",
       "  </tbody>\n",
       "</table>\n",
       "</div>"
      ],
      "text/plain": [
       "  timepoint_current future_timepoint_current strain_current  \\\n",
       "0        2023-10-01               2024-10-01  sample_4616_1   \n",
       "1        2023-10-01               2024-10-01  sample_4616_1   \n",
       "2        2023-10-01               2024-10-01  sample_4616_1   \n",
       "3        2023-10-01               2024-10-01  sample_4616_1   \n",
       "4        2023-10-01               2024-10-01  sample_4616_1   \n",
       "\n",
       "   frequency_current  projected_frequency_current clade_membership  \\\n",
       "0           0.000012                     0.000049          508e469   \n",
       "1           0.000012                     0.000049          508e469   \n",
       "2           0.000012                     0.000049          508e469   \n",
       "3           0.000012                     0.000049          508e469   \n",
       "4           0.000012                     0.000049          508e469   \n",
       "\n",
       "   depth_current timepoint_future future_timepoint_future   strain_future  \\\n",
       "0            5.0       2024-10-01              2025-10-01  sample_4816_10   \n",
       "1            5.0       2024-10-01              2025-10-01   sample_4816_4   \n",
       "2            5.0       2024-10-01              2025-10-01   sample_4816_8   \n",
       "3            5.0       2024-10-01              2025-10-01  sample_4820_10   \n",
       "4            5.0       2024-10-01              2025-10-01   sample_4820_2   \n",
       "\n",
       "   frequency_future  projected_frequency_future  depth_future  \n",
       "0          0.000012                    0.000003            17  \n",
       "1          0.000012                    0.000042            18  \n",
       "2          0.000012                    0.000240            19  \n",
       "3          0.000019                    0.000080            20  \n",
       "4          0.000019                    0.000117            20  "
      ]
     },
     "execution_count": 550,
     "metadata": {},
     "output_type": "execute_result"
    }
   ],
   "source": [
    "current_and_future_tips_with_clades.head()"
   ]
  },
  {
   "cell_type": "code",
   "execution_count": 551,
   "metadata": {},
   "outputs": [
    {
     "data": {
      "text/plain": [
       "(3025090, 13)"
      ]
     },
     "execution_count": 551,
     "metadata": {},
     "output_type": "execute_result"
    }
   ],
   "source": [
    "current_and_future_tips_with_clades.shape"
   ]
  },
  {
   "cell_type": "code",
   "execution_count": 552,
   "metadata": {},
   "outputs": [],
   "source": [
    "current_tips_with_assigned_clades = current_and_future_tips_with_clades.loc[\n",
    "    :, [\"strain_current\", \"timepoint_current\", \"timepoint_future\", \"frequency_current\", \"projected_frequency_current\", \"clade_membership\", \"depth_current\"]\n",
    "].drop_duplicates().sort_values([\"timepoint_current\", \"timepoint_future\", \"strain_current\", \"depth_current\"]).groupby([\n",
    "    \"timepoint_current\", \"timepoint_future\", \"strain_current\"\n",
    "]).first().reset_index()"
   ]
  },
  {
   "cell_type": "code",
   "execution_count": 553,
   "metadata": {},
   "outputs": [
    {
     "data": {
      "text/html": [
       "<div>\n",
       "<style scoped>\n",
       "    .dataframe tbody tr th:only-of-type {\n",
       "        vertical-align: middle;\n",
       "    }\n",
       "\n",
       "    .dataframe tbody tr th {\n",
       "        vertical-align: top;\n",
       "    }\n",
       "\n",
       "    .dataframe thead th {\n",
       "        text-align: right;\n",
       "    }\n",
       "</style>\n",
       "<table border=\"1\" class=\"dataframe\">\n",
       "  <thead>\n",
       "    <tr style=\"text-align: right;\">\n",
       "      <th></th>\n",
       "      <th>timepoint_current</th>\n",
       "      <th>timepoint_future</th>\n",
       "      <th>strain_current</th>\n",
       "      <th>frequency_current</th>\n",
       "      <th>projected_frequency_current</th>\n",
       "      <th>clade_membership</th>\n",
       "      <th>depth_current</th>\n",
       "    </tr>\n",
       "  </thead>\n",
       "  <tbody>\n",
       "    <tr>\n",
       "      <th>0</th>\n",
       "      <td>2023-10-01</td>\n",
       "      <td>2024-10-01</td>\n",
       "      <td>sample_4616_1</td>\n",
       "      <td>0.000012</td>\n",
       "      <td>4.929717e-05</td>\n",
       "      <td>508e469</td>\n",
       "      <td>5.0</td>\n",
       "    </tr>\n",
       "    <tr>\n",
       "      <th>1</th>\n",
       "      <td>2023-10-01</td>\n",
       "      <td>2024-10-01</td>\n",
       "      <td>sample_4616_5</td>\n",
       "      <td>0.000012</td>\n",
       "      <td>5.251921e-10</td>\n",
       "      <td>bf85e0f</td>\n",
       "      <td>5.0</td>\n",
       "    </tr>\n",
       "    <tr>\n",
       "      <th>2</th>\n",
       "      <td>2023-10-01</td>\n",
       "      <td>2024-10-01</td>\n",
       "      <td>sample_4620_10</td>\n",
       "      <td>0.000020</td>\n",
       "      <td>2.468120e-10</td>\n",
       "      <td>8771651</td>\n",
       "      <td>4.0</td>\n",
       "    </tr>\n",
       "    <tr>\n",
       "      <th>3</th>\n",
       "      <td>2023-10-01</td>\n",
       "      <td>2024-10-01</td>\n",
       "      <td>sample_4620_8</td>\n",
       "      <td>0.000020</td>\n",
       "      <td>3.890803e-05</td>\n",
       "      <td>e0dac53</td>\n",
       "      <td>9.0</td>\n",
       "    </tr>\n",
       "    <tr>\n",
       "      <th>4</th>\n",
       "      <td>2023-10-01</td>\n",
       "      <td>2024-10-01</td>\n",
       "      <td>sample_4624_1</td>\n",
       "      <td>0.000032</td>\n",
       "      <td>6.328626e-10</td>\n",
       "      <td>ed2cbab</td>\n",
       "      <td>18.0</td>\n",
       "    </tr>\n",
       "  </tbody>\n",
       "</table>\n",
       "</div>"
      ],
      "text/plain": [
       "  timepoint_current timepoint_future  strain_current  frequency_current  \\\n",
       "0        2023-10-01       2024-10-01   sample_4616_1           0.000012   \n",
       "1        2023-10-01       2024-10-01   sample_4616_5           0.000012   \n",
       "2        2023-10-01       2024-10-01  sample_4620_10           0.000020   \n",
       "3        2023-10-01       2024-10-01   sample_4620_8           0.000020   \n",
       "4        2023-10-01       2024-10-01   sample_4624_1           0.000032   \n",
       "\n",
       "   projected_frequency_current clade_membership  depth_current  \n",
       "0                 4.929717e-05          508e469            5.0  \n",
       "1                 5.251921e-10          bf85e0f            5.0  \n",
       "2                 2.468120e-10          8771651            4.0  \n",
       "3                 3.890803e-05          e0dac53            9.0  \n",
       "4                 6.328626e-10          ed2cbab           18.0  "
      ]
     },
     "execution_count": 553,
     "metadata": {},
     "output_type": "execute_result"
    }
   ],
   "source": [
    "current_tips_with_assigned_clades.head()"
   ]
  },
  {
   "cell_type": "code",
   "execution_count": 554,
   "metadata": {},
   "outputs": [
    {
     "data": {
      "text/plain": [
       "(2711, 7)"
      ]
     },
     "execution_count": 554,
     "metadata": {},
     "output_type": "execute_result"
    }
   ],
   "source": [
    "current_tips_with_assigned_clades.shape"
   ]
  },
  {
   "cell_type": "code",
   "execution_count": 555,
   "metadata": {},
   "outputs": [
    {
     "data": {
      "text/html": [
       "<div>\n",
       "<style scoped>\n",
       "    .dataframe tbody tr th:only-of-type {\n",
       "        vertical-align: middle;\n",
       "    }\n",
       "\n",
       "    .dataframe tbody tr th {\n",
       "        vertical-align: top;\n",
       "    }\n",
       "\n",
       "    .dataframe thead th {\n",
       "        text-align: right;\n",
       "    }\n",
       "</style>\n",
       "<table border=\"1\" class=\"dataframe\">\n",
       "  <thead>\n",
       "    <tr style=\"text-align: right;\">\n",
       "      <th></th>\n",
       "      <th>timepoint_current</th>\n",
       "      <th>timepoint_future</th>\n",
       "      <th>strain_current</th>\n",
       "      <th>frequency_current</th>\n",
       "      <th>projected_frequency_current</th>\n",
       "      <th>clade_membership</th>\n",
       "      <th>depth_current</th>\n",
       "    </tr>\n",
       "  </thead>\n",
       "  <tbody>\n",
       "    <tr>\n",
       "      <th>636</th>\n",
       "      <td>2027-04-01</td>\n",
       "      <td>2028-04-01</td>\n",
       "      <td>sample_5416_3</td>\n",
       "      <td>0.023712</td>\n",
       "      <td>0.006941</td>\n",
       "      <td>f05d275</td>\n",
       "      <td>2.0</td>\n",
       "    </tr>\n",
       "    <tr>\n",
       "      <th>658</th>\n",
       "      <td>2027-10-01</td>\n",
       "      <td>2028-10-01</td>\n",
       "      <td>sample_5416_3</td>\n",
       "      <td>0.000013</td>\n",
       "      <td>0.000005</td>\n",
       "      <td>f05d275</td>\n",
       "      <td>2.0</td>\n",
       "    </tr>\n",
       "  </tbody>\n",
       "</table>\n",
       "</div>"
      ],
      "text/plain": [
       "    timepoint_current timepoint_future strain_current  frequency_current  \\\n",
       "636        2027-04-01       2028-04-01  sample_5416_3           0.023712   \n",
       "658        2027-10-01       2028-10-01  sample_5416_3           0.000013   \n",
       "\n",
       "     projected_frequency_current clade_membership  depth_current  \n",
       "636                     0.006941          f05d275            2.0  \n",
       "658                     0.000005          f05d275            2.0  "
      ]
     },
     "execution_count": 555,
     "metadata": {},
     "output_type": "execute_result"
    }
   ],
   "source": [
    "current_tips_with_assigned_clades[current_tips_with_assigned_clades[\"strain_current\"] == \"sample_5416_3\"]"
   ]
  },
  {
   "cell_type": "code",
   "execution_count": 556,
   "metadata": {},
   "outputs": [],
   "source": [
    "future_tips_with_assigned_clades = current_and_future_tips_with_clades.loc[\n",
    "    :, [\"strain_future\", \"timepoint_current\", \"timepoint_future\", \"frequency_future\", \"clade_membership\", \"depth_future\"]\n",
    "].drop_duplicates().sort_values([\"timepoint_current\", \"timepoint_future\", \"strain_future\", \"depth_future\"]).groupby([\n",
    "    \"timepoint_current\", \"timepoint_future\", \"strain_future\"\n",
    "]).first().reset_index()"
   ]
  },
  {
   "cell_type": "code",
   "execution_count": 558,
   "metadata": {},
   "outputs": [
    {
     "data": {
      "text/plain": [
       "(2711, 6)"
      ]
     },
     "execution_count": 558,
     "metadata": {},
     "output_type": "execute_result"
    }
   ],
   "source": [
    "future_tips_with_assigned_clades.shape"
   ]
  },
  {
   "cell_type": "code",
   "execution_count": 559,
   "metadata": {},
   "outputs": [
    {
     "data": {
      "text/html": [
       "<div>\n",
       "<style scoped>\n",
       "    .dataframe tbody tr th:only-of-type {\n",
       "        vertical-align: middle;\n",
       "    }\n",
       "\n",
       "    .dataframe tbody tr th {\n",
       "        vertical-align: top;\n",
       "    }\n",
       "\n",
       "    .dataframe thead th {\n",
       "        text-align: right;\n",
       "    }\n",
       "</style>\n",
       "<table border=\"1\" class=\"dataframe\">\n",
       "  <thead>\n",
       "    <tr style=\"text-align: right;\">\n",
       "      <th></th>\n",
       "      <th>timepoint_current</th>\n",
       "      <th>timepoint_future</th>\n",
       "      <th>strain_future</th>\n",
       "      <th>frequency_future</th>\n",
       "      <th>clade_membership</th>\n",
       "      <th>depth_future</th>\n",
       "    </tr>\n",
       "  </thead>\n",
       "  <tbody>\n",
       "    <tr>\n",
       "      <th>0</th>\n",
       "      <td>2023-10-01</td>\n",
       "      <td>2024-10-01</td>\n",
       "      <td>sample_4816_10</td>\n",
       "      <td>0.000012</td>\n",
       "      <td>dd0aca9</td>\n",
       "      <td>0</td>\n",
       "    </tr>\n",
       "    <tr>\n",
       "      <th>1</th>\n",
       "      <td>2023-10-01</td>\n",
       "      <td>2024-10-01</td>\n",
       "      <td>sample_4816_4</td>\n",
       "      <td>0.000012</td>\n",
       "      <td>9af1b79</td>\n",
       "      <td>2</td>\n",
       "    </tr>\n",
       "    <tr>\n",
       "      <th>2</th>\n",
       "      <td>2023-10-01</td>\n",
       "      <td>2024-10-01</td>\n",
       "      <td>sample_4816_8</td>\n",
       "      <td>0.000012</td>\n",
       "      <td>e47cbbd</td>\n",
       "      <td>5</td>\n",
       "    </tr>\n",
       "    <tr>\n",
       "      <th>3</th>\n",
       "      <td>2023-10-01</td>\n",
       "      <td>2024-10-01</td>\n",
       "      <td>sample_4820_10</td>\n",
       "      <td>0.000019</td>\n",
       "      <td>e47cbbd</td>\n",
       "      <td>6</td>\n",
       "    </tr>\n",
       "    <tr>\n",
       "      <th>4</th>\n",
       "      <td>2023-10-01</td>\n",
       "      <td>2024-10-01</td>\n",
       "      <td>sample_4820_2</td>\n",
       "      <td>0.000019</td>\n",
       "      <td>1690279</td>\n",
       "      <td>4</td>\n",
       "    </tr>\n",
       "  </tbody>\n",
       "</table>\n",
       "</div>"
      ],
      "text/plain": [
       "  timepoint_current timepoint_future   strain_future  frequency_future  \\\n",
       "0        2023-10-01       2024-10-01  sample_4816_10          0.000012   \n",
       "1        2023-10-01       2024-10-01   sample_4816_4          0.000012   \n",
       "2        2023-10-01       2024-10-01   sample_4816_8          0.000012   \n",
       "3        2023-10-01       2024-10-01  sample_4820_10          0.000019   \n",
       "4        2023-10-01       2024-10-01   sample_4820_2          0.000019   \n",
       "\n",
       "  clade_membership  depth_future  \n",
       "0          dd0aca9             0  \n",
       "1          9af1b79             2  \n",
       "2          e47cbbd             5  \n",
       "3          e47cbbd             6  \n",
       "4          1690279             4  "
      ]
     },
     "execution_count": 559,
     "metadata": {},
     "output_type": "execute_result"
    }
   ],
   "source": [
    "future_tips_with_assigned_clades.head()"
   ]
  },
  {
   "cell_type": "code",
   "execution_count": 560,
   "metadata": {},
   "outputs": [
    {
     "data": {
      "text/html": [
       "<div>\n",
       "<style scoped>\n",
       "    .dataframe tbody tr th:only-of-type {\n",
       "        vertical-align: middle;\n",
       "    }\n",
       "\n",
       "    .dataframe tbody tr th {\n",
       "        vertical-align: top;\n",
       "    }\n",
       "\n",
       "    .dataframe thead th {\n",
       "        text-align: right;\n",
       "    }\n",
       "</style>\n",
       "<table border=\"1\" class=\"dataframe\">\n",
       "  <thead>\n",
       "    <tr style=\"text-align: right;\">\n",
       "      <th></th>\n",
       "      <th>timepoint_current</th>\n",
       "      <th>timepoint_future</th>\n",
       "      <th>strain_future</th>\n",
       "      <th>frequency_future</th>\n",
       "      <th>clade_membership</th>\n",
       "      <th>depth_future</th>\n",
       "    </tr>\n",
       "  </thead>\n",
       "  <tbody>\n",
       "    <tr>\n",
       "      <th>472</th>\n",
       "      <td>2026-04-01</td>\n",
       "      <td>2027-04-01</td>\n",
       "      <td>sample_5416_3</td>\n",
       "      <td>0.023712</td>\n",
       "      <td>10543f5</td>\n",
       "      <td>5</td>\n",
       "    </tr>\n",
       "    <tr>\n",
       "      <th>494</th>\n",
       "      <td>2026-10-01</td>\n",
       "      <td>2027-10-01</td>\n",
       "      <td>sample_5416_3</td>\n",
       "      <td>0.000013</td>\n",
       "      <td>f05d275</td>\n",
       "      <td>2</td>\n",
       "    </tr>\n",
       "  </tbody>\n",
       "</table>\n",
       "</div>"
      ],
      "text/plain": [
       "    timepoint_current timepoint_future  strain_future  frequency_future  \\\n",
       "472        2026-04-01       2027-04-01  sample_5416_3          0.023712   \n",
       "494        2026-10-01       2027-10-01  sample_5416_3          0.000013   \n",
       "\n",
       "    clade_membership  depth_future  \n",
       "472          10543f5             5  \n",
       "494          f05d275             2  "
      ]
     },
     "execution_count": 560,
     "metadata": {},
     "output_type": "execute_result"
    }
   ],
   "source": [
    "future_tips_with_assigned_clades.query(\"strain_future == 'sample_5416_3'\")"
   ]
  },
  {
   "cell_type": "code",
   "execution_count": 561,
   "metadata": {},
   "outputs": [],
   "source": [
    "total_frequencies_for_current_tips = current_tips_with_assigned_clades.groupby([\"timepoint_current\"])[\"frequency_current\"].sum().values"
   ]
  },
  {
   "cell_type": "code",
   "execution_count": 562,
   "metadata": {},
   "outputs": [
    {
     "data": {
      "text/plain": [
       "True"
      ]
     },
     "execution_count": 562,
     "metadata": {},
     "output_type": "execute_result"
    }
   ],
   "source": [
    "np.allclose(\n",
    "    np.ones_like(total_frequencies_for_current_tips),\n",
    "    total_frequencies_for_current_tips,\n",
    "    1e-4\n",
    ")"
   ]
  },
  {
   "cell_type": "code",
   "execution_count": 563,
   "metadata": {},
   "outputs": [],
   "source": [
    "total_frequencies_for_future_tips = future_tips_with_assigned_clades.groupby([\"timepoint_future\"])[\"frequency_future\"].sum().values"
   ]
  },
  {
   "cell_type": "code",
   "execution_count": 564,
   "metadata": {},
   "outputs": [
    {
     "data": {
      "text/plain": [
       "True"
      ]
     },
     "execution_count": 564,
     "metadata": {},
     "output_type": "execute_result"
    }
   ],
   "source": [
    "np.allclose(\n",
    "    np.ones_like(total_frequencies_for_future_tips),\n",
    "    total_frequencies_for_future_tips,\n",
    "    1e-4\n",
    ")"
   ]
  },
  {
   "cell_type": "code",
   "execution_count": 565,
   "metadata": {},
   "outputs": [],
   "source": [
    "future_clades_for_current_timepoints = current_tips_with_assigned_clades.groupby([\n",
    "    \"timepoint_current\", \"timepoint_future\", \"clade_membership\"\n",
    "]).aggregate({\"frequency_current\": \"sum\", \"projected_frequency_current\": \"sum\"}).reset_index()"
   ]
  },
  {
   "cell_type": "code",
   "execution_count": 566,
   "metadata": {},
   "outputs": [
    {
     "data": {
      "text/html": [
       "<div>\n",
       "<style scoped>\n",
       "    .dataframe tbody tr th:only-of-type {\n",
       "        vertical-align: middle;\n",
       "    }\n",
       "\n",
       "    .dataframe tbody tr th {\n",
       "        vertical-align: top;\n",
       "    }\n",
       "\n",
       "    .dataframe thead th {\n",
       "        text-align: right;\n",
       "    }\n",
       "</style>\n",
       "<table border=\"1\" class=\"dataframe\">\n",
       "  <thead>\n",
       "    <tr style=\"text-align: right;\">\n",
       "      <th></th>\n",
       "      <th>timepoint_current</th>\n",
       "      <th>timepoint_future</th>\n",
       "      <th>clade_membership</th>\n",
       "      <th>frequency_current</th>\n",
       "      <th>projected_frequency_current</th>\n",
       "    </tr>\n",
       "  </thead>\n",
       "  <tbody>\n",
       "    <tr>\n",
       "      <th>0</th>\n",
       "      <td>2023-10-01</td>\n",
       "      <td>2024-10-01</td>\n",
       "      <td>0687bd9</td>\n",
       "      <td>0.002582</td>\n",
       "      <td>0.001733</td>\n",
       "    </tr>\n",
       "    <tr>\n",
       "      <th>1</th>\n",
       "      <td>2023-10-01</td>\n",
       "      <td>2024-10-01</td>\n",
       "      <td>1690279</td>\n",
       "      <td>0.007601</td>\n",
       "      <td>0.024792</td>\n",
       "    </tr>\n",
       "    <tr>\n",
       "      <th>2</th>\n",
       "      <td>2023-10-01</td>\n",
       "      <td>2024-10-01</td>\n",
       "      <td>30678e7</td>\n",
       "      <td>0.021222</td>\n",
       "      <td>0.002336</td>\n",
       "    </tr>\n",
       "    <tr>\n",
       "      <th>3</th>\n",
       "      <td>2023-10-01</td>\n",
       "      <td>2024-10-01</td>\n",
       "      <td>34866fa</td>\n",
       "      <td>0.093359</td>\n",
       "      <td>0.004604</td>\n",
       "    </tr>\n",
       "    <tr>\n",
       "      <th>4</th>\n",
       "      <td>2023-10-01</td>\n",
       "      <td>2024-10-01</td>\n",
       "      <td>508e469</td>\n",
       "      <td>0.016680</td>\n",
       "      <td>0.002497</td>\n",
       "    </tr>\n",
       "  </tbody>\n",
       "</table>\n",
       "</div>"
      ],
      "text/plain": [
       "  timepoint_current timepoint_future clade_membership  frequency_current  \\\n",
       "0        2023-10-01       2024-10-01          0687bd9           0.002582   \n",
       "1        2023-10-01       2024-10-01          1690279           0.007601   \n",
       "2        2023-10-01       2024-10-01          30678e7           0.021222   \n",
       "3        2023-10-01       2024-10-01          34866fa           0.093359   \n",
       "4        2023-10-01       2024-10-01          508e469           0.016680   \n",
       "\n",
       "   projected_frequency_current  \n",
       "0                     0.001733  \n",
       "1                     0.024792  \n",
       "2                     0.002336  \n",
       "3                     0.004604  \n",
       "4                     0.002497  "
      ]
     },
     "execution_count": 566,
     "metadata": {},
     "output_type": "execute_result"
    }
   ],
   "source": [
    "future_clades_for_current_timepoints.head()"
   ]
  },
  {
   "cell_type": "code",
   "execution_count": 567,
   "metadata": {},
   "outputs": [],
   "source": [
    "future_clades_for_future_timepoints = future_tips_with_assigned_clades.groupby([\n",
    "    \"timepoint_current\", \"timepoint_future\", \"clade_membership\"\n",
    "])[\"frequency_future\"].sum().reset_index()"
   ]
  },
  {
   "cell_type": "code",
   "execution_count": 568,
   "metadata": {},
   "outputs": [
    {
     "data": {
      "text/html": [
       "<div>\n",
       "<style scoped>\n",
       "    .dataframe tbody tr th:only-of-type {\n",
       "        vertical-align: middle;\n",
       "    }\n",
       "\n",
       "    .dataframe tbody tr th {\n",
       "        vertical-align: top;\n",
       "    }\n",
       "\n",
       "    .dataframe thead th {\n",
       "        text-align: right;\n",
       "    }\n",
       "</style>\n",
       "<table border=\"1\" class=\"dataframe\">\n",
       "  <thead>\n",
       "    <tr style=\"text-align: right;\">\n",
       "      <th></th>\n",
       "      <th>timepoint_current</th>\n",
       "      <th>timepoint_future</th>\n",
       "      <th>clade_membership</th>\n",
       "      <th>frequency_future</th>\n",
       "    </tr>\n",
       "  </thead>\n",
       "  <tbody>\n",
       "    <tr>\n",
       "      <th>0</th>\n",
       "      <td>2023-10-01</td>\n",
       "      <td>2024-10-01</td>\n",
       "      <td>1690279</td>\n",
       "      <td>0.652718</td>\n",
       "    </tr>\n",
       "    <tr>\n",
       "      <th>1</th>\n",
       "      <td>2023-10-01</td>\n",
       "      <td>2024-10-01</td>\n",
       "      <td>30678e7</td>\n",
       "      <td>0.021563</td>\n",
       "    </tr>\n",
       "    <tr>\n",
       "      <th>2</th>\n",
       "      <td>2023-10-01</td>\n",
       "      <td>2024-10-01</td>\n",
       "      <td>34866fa</td>\n",
       "      <td>0.000549</td>\n",
       "    </tr>\n",
       "    <tr>\n",
       "      <th>3</th>\n",
       "      <td>2023-10-01</td>\n",
       "      <td>2024-10-01</td>\n",
       "      <td>5390c43</td>\n",
       "      <td>0.013735</td>\n",
       "    </tr>\n",
       "    <tr>\n",
       "      <th>4</th>\n",
       "      <td>2023-10-01</td>\n",
       "      <td>2024-10-01</td>\n",
       "      <td>56c1c09</td>\n",
       "      <td>0.000249</td>\n",
       "    </tr>\n",
       "  </tbody>\n",
       "</table>\n",
       "</div>"
      ],
      "text/plain": [
       "  timepoint_current timepoint_future clade_membership  frequency_future\n",
       "0        2023-10-01       2024-10-01          1690279          0.652718\n",
       "1        2023-10-01       2024-10-01          30678e7          0.021563\n",
       "2        2023-10-01       2024-10-01          34866fa          0.000549\n",
       "3        2023-10-01       2024-10-01          5390c43          0.013735\n",
       "4        2023-10-01       2024-10-01          56c1c09          0.000249"
      ]
     },
     "execution_count": 568,
     "metadata": {},
     "output_type": "execute_result"
    }
   ],
   "source": [
    "future_clades_for_future_timepoints.head()"
   ]
  },
  {
   "cell_type": "code",
   "execution_count": 569,
   "metadata": {},
   "outputs": [
    {
     "data": {
      "text/plain": [
       "True"
      ]
     },
     "execution_count": 569,
     "metadata": {},
     "output_type": "execute_result"
    }
   ],
   "source": [
    "np.allclose(\n",
    "    np.ones_like(future_clades_for_current_timepoints.groupby(\"timepoint_current\")[\"frequency_current\"].sum().values),\n",
    "    future_clades_for_current_timepoints.groupby(\"timepoint_current\")[\"frequency_current\"].sum().values,\n",
    "    1e-4\n",
    ")"
   ]
  },
  {
   "cell_type": "markdown",
   "metadata": {},
   "source": [
    "Next, find future tips that belong to the same clades as the current tips or which have descended from these clades. Instead of taking every clade assigned to each tip, we want to pick the closest clade to each tip."
   ]
  },
  {
   "cell_type": "code",
   "execution_count": 570,
   "metadata": {},
   "outputs": [],
   "source": [
    "merged_clades = future_clades_for_current_timepoints.merge(\n",
    "    future_clades_for_future_timepoints,\n",
    "    how=\"outer\",\n",
    "    on=[\"timepoint_current\", \"timepoint_future\", \"clade_membership\"]\n",
    ").sort_values([\"timepoint_current\", \"timepoint_future\", \"clade_membership\"]).fillna(0.0)"
   ]
  },
  {
   "cell_type": "code",
   "execution_count": 571,
   "metadata": {},
   "outputs": [
    {
     "data": {
      "text/html": [
       "<div>\n",
       "<style scoped>\n",
       "    .dataframe tbody tr th:only-of-type {\n",
       "        vertical-align: middle;\n",
       "    }\n",
       "\n",
       "    .dataframe tbody tr th {\n",
       "        vertical-align: top;\n",
       "    }\n",
       "\n",
       "    .dataframe thead th {\n",
       "        text-align: right;\n",
       "    }\n",
       "</style>\n",
       "<table border=\"1\" class=\"dataframe\">\n",
       "  <thead>\n",
       "    <tr style=\"text-align: right;\">\n",
       "      <th></th>\n",
       "      <th>timepoint_current</th>\n",
       "      <th>timepoint_future</th>\n",
       "      <th>clade_membership</th>\n",
       "      <th>frequency_current</th>\n",
       "      <th>projected_frequency_current</th>\n",
       "      <th>frequency_future</th>\n",
       "    </tr>\n",
       "  </thead>\n",
       "  <tbody>\n",
       "    <tr>\n",
       "      <th>0</th>\n",
       "      <td>2023-10-01</td>\n",
       "      <td>2024-10-01</td>\n",
       "      <td>0687bd9</td>\n",
       "      <td>0.002582</td>\n",
       "      <td>0.001733</td>\n",
       "      <td>0.000000</td>\n",
       "    </tr>\n",
       "    <tr>\n",
       "      <th>1</th>\n",
       "      <td>2023-10-01</td>\n",
       "      <td>2024-10-01</td>\n",
       "      <td>1690279</td>\n",
       "      <td>0.007601</td>\n",
       "      <td>0.024792</td>\n",
       "      <td>0.652718</td>\n",
       "    </tr>\n",
       "    <tr>\n",
       "      <th>2</th>\n",
       "      <td>2023-10-01</td>\n",
       "      <td>2024-10-01</td>\n",
       "      <td>30678e7</td>\n",
       "      <td>0.021222</td>\n",
       "      <td>0.002336</td>\n",
       "      <td>0.021563</td>\n",
       "    </tr>\n",
       "    <tr>\n",
       "      <th>3</th>\n",
       "      <td>2023-10-01</td>\n",
       "      <td>2024-10-01</td>\n",
       "      <td>34866fa</td>\n",
       "      <td>0.093359</td>\n",
       "      <td>0.004604</td>\n",
       "      <td>0.000549</td>\n",
       "    </tr>\n",
       "    <tr>\n",
       "      <th>4</th>\n",
       "      <td>2023-10-01</td>\n",
       "      <td>2024-10-01</td>\n",
       "      <td>508e469</td>\n",
       "      <td>0.016680</td>\n",
       "      <td>0.002497</td>\n",
       "      <td>0.000000</td>\n",
       "    </tr>\n",
       "  </tbody>\n",
       "</table>\n",
       "</div>"
      ],
      "text/plain": [
       "  timepoint_current timepoint_future clade_membership  frequency_current  \\\n",
       "0        2023-10-01       2024-10-01          0687bd9           0.002582   \n",
       "1        2023-10-01       2024-10-01          1690279           0.007601   \n",
       "2        2023-10-01       2024-10-01          30678e7           0.021222   \n",
       "3        2023-10-01       2024-10-01          34866fa           0.093359   \n",
       "4        2023-10-01       2024-10-01          508e469           0.016680   \n",
       "\n",
       "   projected_frequency_current  frequency_future  \n",
       "0                     0.001733          0.000000  \n",
       "1                     0.024792          0.652718  \n",
       "2                     0.002336          0.021563  \n",
       "3                     0.004604          0.000549  \n",
       "4                     0.002497          0.000000  "
      ]
     },
     "execution_count": 571,
     "metadata": {},
     "output_type": "execute_result"
    }
   ],
   "source": [
    "merged_clades.head()"
   ]
  },
  {
   "cell_type": "code",
   "execution_count": 572,
   "metadata": {},
   "outputs": [
    {
     "data": {
      "text/plain": [
       "array([0.999997, 0.999992, 0.999992, 0.999999, 0.999998, 0.999995,\n",
       "       0.999997, 0.999999, 0.999998, 1.      , 1.      , 0.999997,\n",
       "       0.999991, 0.999995, 1.000001, 0.999996, 0.999997, 0.999995,\n",
       "       0.999996, 1.      , 0.999997, 0.999998, 0.999998, 0.999989,\n",
       "       0.999995, 0.999994, 0.999999, 0.999992, 0.999993, 0.999994,\n",
       "       0.999993, 0.999998, 0.999995])"
      ]
     },
     "execution_count": 572,
     "metadata": {},
     "output_type": "execute_result"
    }
   ],
   "source": [
    "merged_clades.groupby(\"timepoint_current\")[\"frequency_current\"].sum().values"
   ]
  },
  {
   "cell_type": "code",
   "execution_count": 573,
   "metadata": {},
   "outputs": [
    {
     "data": {
      "text/plain": [
       "array([0.999992, 0.999999, 0.999998, 0.999995, 0.999997, 0.999999,\n",
       "       0.999998, 1.      , 1.      , 0.999997, 0.999991, 0.999995,\n",
       "       1.000001, 0.999996, 0.999997, 0.999995, 0.999996, 1.      ,\n",
       "       0.999997, 0.999998, 0.999998, 0.999989, 0.999995, 0.999994,\n",
       "       0.999999, 0.999992, 0.999993, 0.999994, 0.999993, 0.999998,\n",
       "       0.999995, 0.999996, 0.999996])"
      ]
     },
     "execution_count": 573,
     "metadata": {},
     "output_type": "execute_result"
    }
   ],
   "source": [
    "merged_clades.groupby(\"timepoint_current\")[\"frequency_future\"].sum().values"
   ]
  },
  {
   "cell_type": "code",
   "execution_count": 574,
   "metadata": {},
   "outputs": [],
   "source": [
    "merged_clades = merged_clades.rename(columns={\n",
    "    \"frequency_current\": \"initial_frequency\",\n",
    "    \"projected_frequency_current\": \"estimated_frequency\",\n",
    "    \"frequency_future\": \"observed_frequency\"\n",
    "}).copy()"
   ]
  },
  {
   "cell_type": "code",
   "execution_count": 575,
   "metadata": {},
   "outputs": [],
   "source": [
    "merged_clades[\"observed_growth_rate\"] = (\n",
    "    merged_clades[\"observed_frequency\"] / merged_clades[\"initial_frequency\"]\n",
    ")"
   ]
  },
  {
   "cell_type": "code",
   "execution_count": 576,
   "metadata": {},
   "outputs": [],
   "source": [
    "merged_clades[\"estimated_growth_rate\"] = (\n",
    "    merged_clades[\"estimated_frequency\"] / merged_clades[\"initial_frequency\"]\n",
    ")"
   ]
  },
  {
   "cell_type": "code",
   "execution_count": 577,
   "metadata": {},
   "outputs": [
    {
     "data": {
      "text/html": [
       "<div>\n",
       "<style scoped>\n",
       "    .dataframe tbody tr th:only-of-type {\n",
       "        vertical-align: middle;\n",
       "    }\n",
       "\n",
       "    .dataframe tbody tr th {\n",
       "        vertical-align: top;\n",
       "    }\n",
       "\n",
       "    .dataframe thead th {\n",
       "        text-align: right;\n",
       "    }\n",
       "</style>\n",
       "<table border=\"1\" class=\"dataframe\">\n",
       "  <thead>\n",
       "    <tr style=\"text-align: right;\">\n",
       "      <th></th>\n",
       "      <th>timepoint_current</th>\n",
       "      <th>timepoint_future</th>\n",
       "      <th>clade_membership</th>\n",
       "      <th>initial_frequency</th>\n",
       "      <th>estimated_frequency</th>\n",
       "      <th>observed_frequency</th>\n",
       "      <th>observed_growth_rate</th>\n",
       "      <th>estimated_growth_rate</th>\n",
       "    </tr>\n",
       "  </thead>\n",
       "  <tbody>\n",
       "    <tr>\n",
       "      <th>0</th>\n",
       "      <td>2023-10-01</td>\n",
       "      <td>2024-10-01</td>\n",
       "      <td>0687bd9</td>\n",
       "      <td>0.002582</td>\n",
       "      <td>0.001733</td>\n",
       "      <td>0.000000</td>\n",
       "      <td>0.000000</td>\n",
       "      <td>0.671194</td>\n",
       "    </tr>\n",
       "    <tr>\n",
       "      <th>1</th>\n",
       "      <td>2023-10-01</td>\n",
       "      <td>2024-10-01</td>\n",
       "      <td>1690279</td>\n",
       "      <td>0.007601</td>\n",
       "      <td>0.024792</td>\n",
       "      <td>0.652718</td>\n",
       "      <td>85.872648</td>\n",
       "      <td>3.261712</td>\n",
       "    </tr>\n",
       "    <tr>\n",
       "      <th>2</th>\n",
       "      <td>2023-10-01</td>\n",
       "      <td>2024-10-01</td>\n",
       "      <td>30678e7</td>\n",
       "      <td>0.021222</td>\n",
       "      <td>0.002336</td>\n",
       "      <td>0.021563</td>\n",
       "      <td>1.016068</td>\n",
       "      <td>0.110075</td>\n",
       "    </tr>\n",
       "    <tr>\n",
       "      <th>3</th>\n",
       "      <td>2023-10-01</td>\n",
       "      <td>2024-10-01</td>\n",
       "      <td>34866fa</td>\n",
       "      <td>0.093359</td>\n",
       "      <td>0.004604</td>\n",
       "      <td>0.000549</td>\n",
       "      <td>0.005881</td>\n",
       "      <td>0.049319</td>\n",
       "    </tr>\n",
       "    <tr>\n",
       "      <th>4</th>\n",
       "      <td>2023-10-01</td>\n",
       "      <td>2024-10-01</td>\n",
       "      <td>508e469</td>\n",
       "      <td>0.016680</td>\n",
       "      <td>0.002497</td>\n",
       "      <td>0.000000</td>\n",
       "      <td>0.000000</td>\n",
       "      <td>0.149727</td>\n",
       "    </tr>\n",
       "  </tbody>\n",
       "</table>\n",
       "</div>"
      ],
      "text/plain": [
       "  timepoint_current timepoint_future clade_membership  initial_frequency  \\\n",
       "0        2023-10-01       2024-10-01          0687bd9           0.002582   \n",
       "1        2023-10-01       2024-10-01          1690279           0.007601   \n",
       "2        2023-10-01       2024-10-01          30678e7           0.021222   \n",
       "3        2023-10-01       2024-10-01          34866fa           0.093359   \n",
       "4        2023-10-01       2024-10-01          508e469           0.016680   \n",
       "\n",
       "   estimated_frequency  observed_frequency  observed_growth_rate  \\\n",
       "0             0.001733            0.000000              0.000000   \n",
       "1             0.024792            0.652718             85.872648   \n",
       "2             0.002336            0.021563              1.016068   \n",
       "3             0.004604            0.000549              0.005881   \n",
       "4             0.002497            0.000000              0.000000   \n",
       "\n",
       "   estimated_growth_rate  \n",
       "0               0.671194  \n",
       "1               3.261712  \n",
       "2               0.110075  \n",
       "3               0.049319  \n",
       "4               0.149727  "
      ]
     },
     "execution_count": 577,
     "metadata": {},
     "output_type": "execute_result"
    }
   ],
   "source": [
    "merged_clades.head()"
   ]
  },
  {
   "cell_type": "code",
   "execution_count": 578,
   "metadata": {},
   "outputs": [
    {
     "data": {
      "text/html": [
       "<div>\n",
       "<style scoped>\n",
       "    .dataframe tbody tr th:only-of-type {\n",
       "        vertical-align: middle;\n",
       "    }\n",
       "\n",
       "    .dataframe tbody tr th {\n",
       "        vertical-align: top;\n",
       "    }\n",
       "\n",
       "    .dataframe thead th {\n",
       "        text-align: right;\n",
       "    }\n",
       "</style>\n",
       "<table border=\"1\" class=\"dataframe\">\n",
       "  <thead>\n",
       "    <tr style=\"text-align: right;\">\n",
       "      <th></th>\n",
       "      <th>timepoint_current</th>\n",
       "      <th>timepoint_future</th>\n",
       "      <th>clade_membership</th>\n",
       "      <th>initial_frequency</th>\n",
       "      <th>estimated_frequency</th>\n",
       "      <th>observed_frequency</th>\n",
       "      <th>observed_growth_rate</th>\n",
       "      <th>estimated_growth_rate</th>\n",
       "    </tr>\n",
       "  </thead>\n",
       "  <tbody>\n",
       "    <tr>\n",
       "      <th>164</th>\n",
       "      <td>2029-10-01</td>\n",
       "      <td>2030-10-01</td>\n",
       "      <td>0005017</td>\n",
       "      <td>0.038204</td>\n",
       "      <td>3.778206e-03</td>\n",
       "      <td>0.000524</td>\n",
       "      <td>0.013716</td>\n",
       "      <td>0.098896</td>\n",
       "    </tr>\n",
       "    <tr>\n",
       "      <th>165</th>\n",
       "      <td>2029-10-01</td>\n",
       "      <td>2030-10-01</td>\n",
       "      <td>0dbb0c0</td>\n",
       "      <td>0.023759</td>\n",
       "      <td>4.777152e-02</td>\n",
       "      <td>0.000000</td>\n",
       "      <td>0.000000</td>\n",
       "      <td>2.010670</td>\n",
       "    </tr>\n",
       "    <tr>\n",
       "      <th>166</th>\n",
       "      <td>2029-10-01</td>\n",
       "      <td>2030-10-01</td>\n",
       "      <td>2541589</td>\n",
       "      <td>0.097581</td>\n",
       "      <td>5.412047e-02</td>\n",
       "      <td>0.000000</td>\n",
       "      <td>0.000000</td>\n",
       "      <td>0.554621</td>\n",
       "    </tr>\n",
       "    <tr>\n",
       "      <th>167</th>\n",
       "      <td>2029-10-01</td>\n",
       "      <td>2030-10-01</td>\n",
       "      <td>25f5cf4</td>\n",
       "      <td>0.029484</td>\n",
       "      <td>1.692234e-02</td>\n",
       "      <td>0.040692</td>\n",
       "      <td>1.380138</td>\n",
       "      <td>0.573950</td>\n",
       "    </tr>\n",
       "    <tr>\n",
       "      <th>168</th>\n",
       "      <td>2029-10-01</td>\n",
       "      <td>2030-10-01</td>\n",
       "      <td>694e8b2</td>\n",
       "      <td>0.246660</td>\n",
       "      <td>5.592686e-01</td>\n",
       "      <td>0.958665</td>\n",
       "      <td>3.886585</td>\n",
       "      <td>2.267367</td>\n",
       "    </tr>\n",
       "    <tr>\n",
       "      <th>169</th>\n",
       "      <td>2029-10-01</td>\n",
       "      <td>2030-10-01</td>\n",
       "      <td>7821f47</td>\n",
       "      <td>0.001435</td>\n",
       "      <td>7.388911e-03</td>\n",
       "      <td>0.000020</td>\n",
       "      <td>0.013937</td>\n",
       "      <td>5.149067</td>\n",
       "    </tr>\n",
       "    <tr>\n",
       "      <th>170</th>\n",
       "      <td>2029-10-01</td>\n",
       "      <td>2030-10-01</td>\n",
       "      <td>8ab5cc0</td>\n",
       "      <td>0.026658</td>\n",
       "      <td>2.435415e-03</td>\n",
       "      <td>0.000000</td>\n",
       "      <td>0.000000</td>\n",
       "      <td>0.091358</td>\n",
       "    </tr>\n",
       "    <tr>\n",
       "      <th>171</th>\n",
       "      <td>2029-10-01</td>\n",
       "      <td>2030-10-01</td>\n",
       "      <td>8afc3f0</td>\n",
       "      <td>0.234759</td>\n",
       "      <td>1.090967e-01</td>\n",
       "      <td>0.000000</td>\n",
       "      <td>0.000000</td>\n",
       "      <td>0.464718</td>\n",
       "    </tr>\n",
       "    <tr>\n",
       "      <th>172</th>\n",
       "      <td>2029-10-01</td>\n",
       "      <td>2030-10-01</td>\n",
       "      <td>8fb6342</td>\n",
       "      <td>0.001941</td>\n",
       "      <td>2.748069e-03</td>\n",
       "      <td>0.000000</td>\n",
       "      <td>0.000000</td>\n",
       "      <td>1.415801</td>\n",
       "    </tr>\n",
       "    <tr>\n",
       "      <th>173</th>\n",
       "      <td>2029-10-01</td>\n",
       "      <td>2030-10-01</td>\n",
       "      <td>a920909</td>\n",
       "      <td>0.000012</td>\n",
       "      <td>1.989415e-08</td>\n",
       "      <td>0.000000</td>\n",
       "      <td>0.000000</td>\n",
       "      <td>0.001658</td>\n",
       "    </tr>\n",
       "    <tr>\n",
       "      <th>174</th>\n",
       "      <td>2029-10-01</td>\n",
       "      <td>2030-10-01</td>\n",
       "      <td>b13586f</td>\n",
       "      <td>0.089639</td>\n",
       "      <td>5.040332e-02</td>\n",
       "      <td>0.000049</td>\n",
       "      <td>0.000547</td>\n",
       "      <td>0.562292</td>\n",
       "    </tr>\n",
       "    <tr>\n",
       "      <th>175</th>\n",
       "      <td>2029-10-01</td>\n",
       "      <td>2030-10-01</td>\n",
       "      <td>d01113d</td>\n",
       "      <td>0.030391</td>\n",
       "      <td>2.621161e-02</td>\n",
       "      <td>0.000000</td>\n",
       "      <td>0.000000</td>\n",
       "      <td>0.862479</td>\n",
       "    </tr>\n",
       "    <tr>\n",
       "      <th>176</th>\n",
       "      <td>2029-10-01</td>\n",
       "      <td>2030-10-01</td>\n",
       "      <td>d32e5de</td>\n",
       "      <td>0.097745</td>\n",
       "      <td>4.833058e-02</td>\n",
       "      <td>0.000000</td>\n",
       "      <td>0.000000</td>\n",
       "      <td>0.494456</td>\n",
       "    </tr>\n",
       "    <tr>\n",
       "      <th>177</th>\n",
       "      <td>2029-10-01</td>\n",
       "      <td>2030-10-01</td>\n",
       "      <td>f437f93</td>\n",
       "      <td>0.055414</td>\n",
       "      <td>5.758711e-02</td>\n",
       "      <td>0.000051</td>\n",
       "      <td>0.000920</td>\n",
       "      <td>1.039216</td>\n",
       "    </tr>\n",
       "    <tr>\n",
       "      <th>178</th>\n",
       "      <td>2029-10-01</td>\n",
       "      <td>2030-10-01</td>\n",
       "      <td>fb581df</td>\n",
       "      <td>0.026309</td>\n",
       "      <td>1.393713e-02</td>\n",
       "      <td>0.000000</td>\n",
       "      <td>0.000000</td>\n",
       "      <td>0.529748</td>\n",
       "    </tr>\n",
       "  </tbody>\n",
       "</table>\n",
       "</div>"
      ],
      "text/plain": [
       "    timepoint_current timepoint_future clade_membership  initial_frequency  \\\n",
       "164        2029-10-01       2030-10-01          0005017           0.038204   \n",
       "165        2029-10-01       2030-10-01          0dbb0c0           0.023759   \n",
       "166        2029-10-01       2030-10-01          2541589           0.097581   \n",
       "167        2029-10-01       2030-10-01          25f5cf4           0.029484   \n",
       "168        2029-10-01       2030-10-01          694e8b2           0.246660   \n",
       "169        2029-10-01       2030-10-01          7821f47           0.001435   \n",
       "170        2029-10-01       2030-10-01          8ab5cc0           0.026658   \n",
       "171        2029-10-01       2030-10-01          8afc3f0           0.234759   \n",
       "172        2029-10-01       2030-10-01          8fb6342           0.001941   \n",
       "173        2029-10-01       2030-10-01          a920909           0.000012   \n",
       "174        2029-10-01       2030-10-01          b13586f           0.089639   \n",
       "175        2029-10-01       2030-10-01          d01113d           0.030391   \n",
       "176        2029-10-01       2030-10-01          d32e5de           0.097745   \n",
       "177        2029-10-01       2030-10-01          f437f93           0.055414   \n",
       "178        2029-10-01       2030-10-01          fb581df           0.026309   \n",
       "\n",
       "     estimated_frequency  observed_frequency  observed_growth_rate  \\\n",
       "164         3.778206e-03            0.000524              0.013716   \n",
       "165         4.777152e-02            0.000000              0.000000   \n",
       "166         5.412047e-02            0.000000              0.000000   \n",
       "167         1.692234e-02            0.040692              1.380138   \n",
       "168         5.592686e-01            0.958665              3.886585   \n",
       "169         7.388911e-03            0.000020              0.013937   \n",
       "170         2.435415e-03            0.000000              0.000000   \n",
       "171         1.090967e-01            0.000000              0.000000   \n",
       "172         2.748069e-03            0.000000              0.000000   \n",
       "173         1.989415e-08            0.000000              0.000000   \n",
       "174         5.040332e-02            0.000049              0.000547   \n",
       "175         2.621161e-02            0.000000              0.000000   \n",
       "176         4.833058e-02            0.000000              0.000000   \n",
       "177         5.758711e-02            0.000051              0.000920   \n",
       "178         1.393713e-02            0.000000              0.000000   \n",
       "\n",
       "     estimated_growth_rate  \n",
       "164               0.098896  \n",
       "165               2.010670  \n",
       "166               0.554621  \n",
       "167               0.573950  \n",
       "168               2.267367  \n",
       "169               5.149067  \n",
       "170               0.091358  \n",
       "171               0.464718  \n",
       "172               1.415801  \n",
       "173               0.001658  \n",
       "174               0.562292  \n",
       "175               0.862479  \n",
       "176               0.494456  \n",
       "177               1.039216  \n",
       "178               0.529748  "
      ]
     },
     "execution_count": 578,
     "metadata": {},
     "output_type": "execute_result"
    }
   ],
   "source": [
    "merged_clades.query(\"timepoint_current == '2029-10-01'\")"
   ]
  },
  {
   "cell_type": "markdown",
   "metadata": {},
   "source": [
    "## Find and analyze large clades\n",
    "\n",
    "Find all clades with an initial frequency some minimum value (e.g., >15%)."
   ]
  },
  {
   "cell_type": "code",
   "execution_count": 244,
   "metadata": {},
   "outputs": [],
   "source": [
    "large_clades = merged_clades.query(\"initial_frequency > 0.15\").copy()"
   ]
  },
  {
   "cell_type": "code",
   "execution_count": 245,
   "metadata": {},
   "outputs": [
    {
     "data": {
      "text/html": [
       "<div>\n",
       "<style scoped>\n",
       "    .dataframe tbody tr th:only-of-type {\n",
       "        vertical-align: middle;\n",
       "    }\n",
       "\n",
       "    .dataframe tbody tr th {\n",
       "        vertical-align: top;\n",
       "    }\n",
       "\n",
       "    .dataframe thead th {\n",
       "        text-align: right;\n",
       "    }\n",
       "</style>\n",
       "<table border=\"1\" class=\"dataframe\">\n",
       "  <thead>\n",
       "    <tr style=\"text-align: right;\">\n",
       "      <th></th>\n",
       "      <th>timepoint_current</th>\n",
       "      <th>timepoint_future</th>\n",
       "      <th>clade_membership</th>\n",
       "      <th>initial_frequency</th>\n",
       "      <th>estimated_frequency</th>\n",
       "      <th>observed_frequency</th>\n",
       "      <th>observed_growth_rate</th>\n",
       "      <th>estimated_growth_rate</th>\n",
       "    </tr>\n",
       "  </thead>\n",
       "  <tbody>\n",
       "    <tr>\n",
       "      <th>21</th>\n",
       "      <td>2022-10-01</td>\n",
       "      <td>2023-10-01</td>\n",
       "      <td>e0dac53</td>\n",
       "      <td>0.210180</td>\n",
       "      <td>0.124258</td>\n",
       "      <td>0.000000</td>\n",
       "      <td>0.00000</td>\n",
       "      <td>0.591200</td>\n",
       "    </tr>\n",
       "    <tr>\n",
       "      <th>37</th>\n",
       "      <td>2023-04-01</td>\n",
       "      <td>2024-04-01</td>\n",
       "      <td>d96ebde</td>\n",
       "      <td>0.251733</td>\n",
       "      <td>0.493634</td>\n",
       "      <td>0.663893</td>\n",
       "      <td>2.63729</td>\n",
       "      <td>1.960942</td>\n",
       "    </tr>\n",
       "    <tr>\n",
       "      <th>39</th>\n",
       "      <td>2023-04-01</td>\n",
       "      <td>2024-04-01</td>\n",
       "      <td>e0dac53</td>\n",
       "      <td>0.182203</td>\n",
       "      <td>0.198369</td>\n",
       "      <td>0.000000</td>\n",
       "      <td>0.00000</td>\n",
       "      <td>1.088724</td>\n",
       "    </tr>\n",
       "    <tr>\n",
       "      <th>55</th>\n",
       "      <td>2023-10-01</td>\n",
       "      <td>2024-10-01</td>\n",
       "      <td>d96ebde</td>\n",
       "      <td>0.160589</td>\n",
       "      <td>0.061470</td>\n",
       "      <td>0.000000</td>\n",
       "      <td>0.00000</td>\n",
       "      <td>0.382779</td>\n",
       "    </tr>\n",
       "    <tr>\n",
       "      <th>65</th>\n",
       "      <td>2024-04-01</td>\n",
       "      <td>2025-04-01</td>\n",
       "      <td>34866fa</td>\n",
       "      <td>0.177908</td>\n",
       "      <td>0.020765</td>\n",
       "      <td>0.000000</td>\n",
       "      <td>0.00000</td>\n",
       "      <td>0.116717</td>\n",
       "    </tr>\n",
       "  </tbody>\n",
       "</table>\n",
       "</div>"
      ],
      "text/plain": [
       "   timepoint_current timepoint_future clade_membership  initial_frequency  \\\n",
       "21        2022-10-01       2023-10-01          e0dac53           0.210180   \n",
       "37        2023-04-01       2024-04-01          d96ebde           0.251733   \n",
       "39        2023-04-01       2024-04-01          e0dac53           0.182203   \n",
       "55        2023-10-01       2024-10-01          d96ebde           0.160589   \n",
       "65        2024-04-01       2025-04-01          34866fa           0.177908   \n",
       "\n",
       "    estimated_frequency  observed_frequency  observed_growth_rate  \\\n",
       "21             0.124258            0.000000               0.00000   \n",
       "37             0.493634            0.663893               2.63729   \n",
       "39             0.198369            0.000000               0.00000   \n",
       "55             0.061470            0.000000               0.00000   \n",
       "65             0.020765            0.000000               0.00000   \n",
       "\n",
       "    estimated_growth_rate  \n",
       "21               0.591200  \n",
       "37               1.960942  \n",
       "39               1.088724  \n",
       "55               0.382779  \n",
       "65               0.116717  "
      ]
     },
     "execution_count": 245,
     "metadata": {},
     "output_type": "execute_result"
    }
   ],
   "source": [
    "large_clades.head()"
   ]
  },
  {
   "cell_type": "code",
   "execution_count": 246,
   "metadata": {},
   "outputs": [
    {
     "data": {
      "text/plain": [
       "(62, 8)"
      ]
     },
     "execution_count": 246,
     "metadata": {},
     "output_type": "execute_result"
    }
   ],
   "source": [
    "large_clades.shape"
   ]
  },
  {
   "cell_type": "code",
   "execution_count": 253,
   "metadata": {},
   "outputs": [],
   "source": [
    "r, p = pearsonr(\n",
    "    large_clades[\"observed_growth_rate\"],\n",
    "    large_clades[\"estimated_growth_rate\"]\n",
    ")"
   ]
  },
  {
   "cell_type": "code",
   "execution_count": 254,
   "metadata": {},
   "outputs": [
    {
     "data": {
      "text/plain": [
       "0.06692423552663038"
      ]
     },
     "execution_count": 254,
     "metadata": {},
     "output_type": "execute_result"
    }
   ],
   "source": [
    "r"
   ]
  },
  {
   "cell_type": "code",
   "execution_count": 255,
   "metadata": {},
   "outputs": [
    {
     "data": {
      "text/plain": [
       "0.6052833678833005"
      ]
     },
     "execution_count": 255,
     "metadata": {},
     "output_type": "execute_result"
    }
   ],
   "source": [
    "p"
   ]
  },
  {
   "cell_type": "code",
   "execution_count": 258,
   "metadata": {},
   "outputs": [],
   "source": [
    "mcc, confusion_matrix = get_matthews_correlation_coefficient_for_data_frame(large_clades, True)"
   ]
  },
  {
   "cell_type": "code",
   "execution_count": 259,
   "metadata": {},
   "outputs": [
    {
     "data": {
      "text/plain": [
       "0.06122901534747143"
      ]
     },
     "execution_count": 259,
     "metadata": {},
     "output_type": "execute_result"
    }
   ],
   "source": [
    "mcc"
   ]
  },
  {
   "cell_type": "code",
   "execution_count": 260,
   "metadata": {},
   "outputs": [
    {
     "data": {
      "text/plain": [
       "0.24"
      ]
     },
     "execution_count": 260,
     "metadata": {},
     "output_type": "execute_result"
    }
   ],
   "source": [
    "growth_accuracy = confusion_matrix[\"tp\"] / float(confusion_matrix[\"tp\"] + confusion_matrix[\"fp\"])\n",
    "growth_accuracy"
   ]
  },
  {
   "cell_type": "code",
   "execution_count": 261,
   "metadata": {},
   "outputs": [
    {
     "data": {
      "text/plain": [
       "0.8108108108108109"
      ]
     },
     "execution_count": 261,
     "metadata": {},
     "output_type": "execute_result"
    }
   ],
   "source": [
    "decline_accuracy = confusion_matrix[\"tn\"] / float(confusion_matrix[\"tn\"] + confusion_matrix[\"fn\"])\n",
    "decline_accuracy"
   ]
  },
  {
   "cell_type": "code",
   "execution_count": 262,
   "metadata": {},
   "outputs": [],
   "source": [
    "min_growth_rate = 0\n",
    "max_growth_rate = large_clades.loc[:, [\"observed_growth_rate\", \"estimated_growth_rate\"]].max().max() + 0.2"
   ]
  },
  {
   "cell_type": "code",
   "execution_count": 263,
   "metadata": {},
   "outputs": [],
   "source": [
    "pseudofrequency = 0.001"
   ]
  },
  {
   "cell_type": "code",
   "execution_count": 265,
   "metadata": {},
   "outputs": [],
   "source": [
    "large_clades[\"log_observed_growth_rate\"] = (\n",
    "    np.log10((large_clades[\"observed_frequency\"] + pseudofrequency) / (large_clades[\"initial_frequency\"] + pseudofrequency))\n",
    ")\n",
    "\n",
    "large_clades[\"log_estimated_growth_rate\"] = (\n",
    "    np.log10((large_clades[\"estimated_frequency\"] + pseudofrequency) / (large_clades[\"initial_frequency\"] + pseudofrequency))\n",
    ")"
   ]
  },
  {
   "cell_type": "code",
   "execution_count": 273,
   "metadata": {},
   "outputs": [],
   "source": [
    "upper_limit = np.ceil(large_clades.loc[:, [\"observed_growth_rate\", \"estimated_growth_rate\"]].max().max())\n",
    "\n",
    "log_lower_limit = large_clades.loc[:, [\"log_observed_growth_rate\", \"log_estimated_growth_rate\"]].min().min() - 0.1\n",
    "log_upper_limit = np.ceil(large_clades.loc[:, [\"log_observed_growth_rate\", \"log_estimated_growth_rate\"]].max().max()) + 0.1"
   ]
  },
  {
   "cell_type": "code",
   "execution_count": 268,
   "metadata": {},
   "outputs": [],
   "source": [
    "r, p = pearsonr(\n",
    "    large_clades[\"log_observed_growth_rate\"],\n",
    "    large_clades[\"log_estimated_growth_rate\"]\n",
    ")"
   ]
  },
  {
   "cell_type": "code",
   "execution_count": 269,
   "metadata": {},
   "outputs": [
    {
     "data": {
      "text/plain": [
       "-0.012358833752447628"
      ]
     },
     "execution_count": 269,
     "metadata": {},
     "output_type": "execute_result"
    }
   ],
   "source": [
    "r"
   ]
  },
  {
   "cell_type": "code",
   "execution_count": 270,
   "metadata": {},
   "outputs": [
    {
     "data": {
      "text/plain": [
       "0.9240473700589205"
      ]
     },
     "execution_count": 270,
     "metadata": {},
     "output_type": "execute_result"
    }
   ],
   "source": [
    "p"
   ]
  },
  {
   "cell_type": "code",
   "execution_count": 275,
   "metadata": {},
   "outputs": [
    {
     "data": {
      "image/png": "[encoded data removed]",
      "text/plain": [
       "<Figure size 1200x1200 with 1 Axes>"
      ]
     },
     "metadata": {},
     "output_type": "display_data"
    }
   ],
   "source": [
    "fig, ax = plt.subplots(1, 1, figsize=(6, 6))\n",
    "ax.plot(\n",
    "    large_clades[\"log_observed_growth_rate\"],\n",
    "    large_clades[\"log_estimated_growth_rate\"],\n",
    "    \"o\",\n",
    "    alpha=0.4\n",
    ")\n",
    "\n",
    "ax.axhline(color=\"#cccccc\", zorder=-5)\n",
    "ax.axvline(color=\"#cccccc\", zorder=-5)\n",
    "\n",
    "if p < 0.001:\n",
    "    p_value = \"$p$ < 0.001\"\n",
    "else:\n",
    "    p_value = \"$p$ = %.3f\" % p\n",
    "\n",
    "ax.text(\n",
    "    0.02,\n",
    "    0.9,\n",
    "    \"Growth accuracy = %.2f\\nDecline accuracy = %.2f\\n$R$ = %.2f\\n%s\" % (growth_accuracy, decline_accuracy, r, p_value),\n",
    "    fontsize=12,\n",
    "    horizontalalignment=\"left\",\n",
    "    verticalalignment=\"center\",\n",
    "    transform=ax.transAxes\n",
    ")\n",
    "\n",
    "ax.set_xlabel(\"Observed $log_{10}$ growth rate\")\n",
    "ax.set_ylabel(\"Estimated $log_{10}$ growth rate\")\n",
    "ax.set_title(\"Validation of best model\", fontsize=12)\n",
    "\n",
    "ticks = np.arange(-6, 4, 1)\n",
    "ax.set_xticks(ticks)\n",
    "ax.set_yticks(ticks)\n",
    "\n",
    "ax.set_xlim(log_lower_limit, log_upper_limit)\n",
    "ax.set_ylim(log_lower_limit, log_upper_limit)\n",
    "ax.set_aspect(\"equal\")\n",
    "\n",
    "#plt.savefig(\"../manuscript/figures/validation-of-best-model-for-natural-populations.pdf\")"
   ]
  },
  {
   "cell_type": "markdown",
   "metadata": {},
   "source": [
    "## Estimated and observed closest strains per timepoint\n",
    "\n",
    "Create a figure similar to Figure 2D in Neher et al. 2014 showing the minimum estimated distance to the future and minimum observed distance to the future per timepoint."
   ]
  },
  {
   "cell_type": "code",
   "execution_count": 284,
   "metadata": {},
   "outputs": [],
   "source": [
    "sorted_df = full_forecasts.dropna().sort_values(\n",
    "    [\"timepoint\"]\n",
    ").copy()"
   ]
  },
  {
   "cell_type": "code",
   "execution_count": 285,
   "metadata": {},
   "outputs": [],
   "source": [
    "sorted_df[\"timepoint_rank\"] = sorted_df.groupby(\"timepoint\")[\"weighted_distance_to_future\"].rank(pct=True)"
   ]
  },
  {
   "cell_type": "code",
   "execution_count": 286,
   "metadata": {},
   "outputs": [],
   "source": [
    "best_fitness_rank_by_timepoint_df = sorted_df.sort_values(\n",
    "    [\"timepoint\", \"fitness\"],\n",
    "    ascending=False\n",
    ").groupby(\"timepoint\")[\"timepoint_rank\"].first().reset_index()"
   ]
  },
  {
   "cell_type": "code",
   "execution_count": 292,
   "metadata": {},
   "outputs": [
    {
     "data": {
      "text/html": [
       "<div>\n",
       "<style scoped>\n",
       "    .dataframe tbody tr th:only-of-type {\n",
       "        vertical-align: middle;\n",
       "    }\n",
       "\n",
       "    .dataframe tbody tr th {\n",
       "        vertical-align: top;\n",
       "    }\n",
       "\n",
       "    .dataframe thead th {\n",
       "        text-align: right;\n",
       "    }\n",
       "</style>\n",
       "<table border=\"1\" class=\"dataframe\">\n",
       "  <thead>\n",
       "    <tr style=\"text-align: right;\">\n",
       "      <th></th>\n",
       "      <th>timepoint</th>\n",
       "      <th>timepoint_rank</th>\n",
       "    </tr>\n",
       "  </thead>\n",
       "  <tbody>\n",
       "    <tr>\n",
       "      <th>0</th>\n",
       "      <td>2023-10-01</td>\n",
       "      <td>0.024390</td>\n",
       "    </tr>\n",
       "    <tr>\n",
       "      <th>1</th>\n",
       "      <td>2024-04-01</td>\n",
       "      <td>0.804878</td>\n",
       "    </tr>\n",
       "    <tr>\n",
       "      <th>2</th>\n",
       "      <td>2024-10-01</td>\n",
       "      <td>0.343373</td>\n",
       "    </tr>\n",
       "    <tr>\n",
       "      <th>3</th>\n",
       "      <td>2025-04-01</td>\n",
       "      <td>0.120482</td>\n",
       "    </tr>\n",
       "    <tr>\n",
       "      <th>4</th>\n",
       "      <td>2025-10-01</td>\n",
       "      <td>0.018072</td>\n",
       "    </tr>\n",
       "  </tbody>\n",
       "</table>\n",
       "</div>"
      ],
      "text/plain": [
       "   timepoint  timepoint_rank\n",
       "0 2023-10-01        0.024390\n",
       "1 2024-04-01        0.804878\n",
       "2 2024-10-01        0.343373\n",
       "3 2025-04-01        0.120482\n",
       "4 2025-10-01        0.018072"
      ]
     },
     "execution_count": 292,
     "metadata": {},
     "output_type": "execute_result"
    }
   ],
   "source": [
    "best_fitness_rank_by_timepoint_df.head()"
   ]
  },
  {
   "cell_type": "code",
   "execution_count": 302,
   "metadata": {},
   "outputs": [
    {
     "data": {
      "text/plain": [
       "Text(0,0.5,'Number of timepoints')"
      ]
     },
     "execution_count": 302,
     "metadata": {},
     "output_type": "execute_result"
    },
    {
     "data": {
      "image/png": "[encoded data removed]",
      "text/plain": [
       "<Figure size 1200x800 with 1 Axes>"
      ]
     },
     "metadata": {},
     "output_type": "display_data"
    }
   ],
   "source": [
    "median_best_rank = best_fitness_rank_by_timepoint_df[\"timepoint_rank\"].median()\n",
    "\n",
    "fig, ax = plt.subplots(1, 1, figsize=(6, 4))\n",
    "ax.hist(best_fitness_rank_by_timepoint_df[\"timepoint_rank\"], bins=np.arange(0, 1.01, 0.05), label=None)\n",
    "ax.axvline(\n",
    "    median_best_rank,\n",
    "    color=\"orange\",\n",
    "    label=\"median = %i%%\" % round(median_best_rank * 100, 0)\n",
    ")\n",
    "ax.set_xticklabels(['{:3.0f}%'.format(x*100) for x in [0, 0.2, 0.4, 0.6, 0.8, 1.0]])\n",
    "ax.set_xlim(0, 1)\n",
    "\n",
    "ax.legend(\n",
    "    frameon=False\n",
    ")\n",
    "ax.set_xlabel(\"Percentile rank of distance for fittest strain\")\n",
    "ax.set_ylabel(\"Number of timepoints\")"
   ]
  },
  {
   "cell_type": "markdown",
   "metadata": {},
   "source": [
    "## Merge validation figures into subpanels of one figure"
   ]
  },
  {
   "cell_type": "code",
   "execution_count": 313,
   "metadata": {},
   "outputs": [
    {
     "data": {
      "image/png": "[encoded data removed]",
      "text/plain": [
       "<Figure size 1600x800 with 2 Axes>"
      ]
     },
     "metadata": {},
     "output_type": "display_data"
    }
   ],
   "source": [
    "fig = plt.figure(figsize=(8, 4), facecolor='w')\n",
    "gs = gridspec.GridSpec(1, 2, width_ratios=[1, 1], wspace=0.1)\n",
    "\n",
    "#\n",
    "# Clade growth rate correlations\n",
    "#\n",
    "\n",
    "clade_ax = fig.add_subplot(gs[0])\n",
    "clade_ax.plot(\n",
    "    large_clades[\"log_observed_growth_rate\"],\n",
    "    large_clades[\"log_estimated_growth_rate\"],\n",
    "    \"o\",\n",
    "    alpha=0.4\n",
    ")\n",
    "\n",
    "clade_ax.axhline(color=\"#cccccc\", zorder=-5)\n",
    "clade_ax.axvline(color=\"#cccccc\", zorder=-5)\n",
    "\n",
    "if p < 0.001:\n",
    "    p_value = \"$p$ < 0.001\"\n",
    "else:\n",
    "    p_value = \"$p$ = %.3f\" % p\n",
    "\n",
    "clade_ax.text(\n",
    "    0.02,\n",
    "    0.9,\n",
    "    \"Growth accuracy = %.2f\\nDecline accuracy = %.2f\\n$R$ = %.2f\\n%s\" % (growth_accuracy, decline_accuracy, r, p_value),\n",
    "    fontsize=10,\n",
    "    horizontalalignment=\"left\",\n",
    "    verticalalignment=\"center\",\n",
    "    transform=clade_ax.transAxes\n",
    ")\n",
    "\n",
    "clade_ax.set_xlabel(\"Observed $log_{10}$ growth rate\")\n",
    "clade_ax.set_ylabel(\"Estimated $log_{10}$ growth rate\")\n",
    "\n",
    "ticks = np.arange(-6, 4, 1)\n",
    "clade_ax.set_xticks(ticks)\n",
    "clade_ax.set_yticks(ticks)\n",
    "\n",
    "clade_ax.set_xlim(log_lower_limit, log_upper_limit)\n",
    "clade_ax.set_ylim(log_lower_limit, log_upper_limit)\n",
    "clade_ax.set_aspect(\"equal\")\n",
    "\n",
    "#\n",
    "# Estimated closest strain to the future ranking\n",
    "#\n",
    "\n",
    "rank_ax = fig.add_subplot(gs[1])\n",
    "\n",
    "median_best_rank = best_fitness_rank_by_timepoint_df[\"timepoint_rank\"].median()\n",
    "\n",
    "rank_ax.hist(best_fitness_rank_by_timepoint_df[\"timepoint_rank\"], bins=np.arange(0, 1.01, 0.05), label=None)\n",
    "rank_ax.axvline(\n",
    "    median_best_rank,\n",
    "    color=\"orange\",\n",
    "    label=\"median = %i%%\" % round(median_best_rank * 100, 0)\n",
    ")\n",
    "rank_ax.set_xticklabels(['{:3.0f}%'.format(x*100) for x in [0, 0.2, 0.4, 0.6, 0.8, 1.0]])\n",
    "rank_ax.set_xlim(0, 1)\n",
    "\n",
    "rank_ax.legend(\n",
    "    frameon=False\n",
    ")\n",
    "rank_ax.set_xlabel(\"Percentile rank of distance for fittest strain\")\n",
    "rank_ax.set_ylabel(\"Number of timepoints\")\n",
    "\n",
    "gs.tight_layout(fig)\n",
    "\n",
    "plt.savefig(\"../manuscript/figures/validation-of-best-model-for-simulated-populations.png\")"
   ]
  },
  {
   "cell_type": "code",
   "execution_count": null,
   "metadata": {},
   "outputs": [],
   "source": []
  }
 ],
 "metadata": {
  "kernelspec": {
   "display_name": "Python 3",
   "language": "python",
   "name": "python3"
  },
  "language_info": {
   "codemirror_mode": {
    "name": "ipython",
    "version": 3
   },
   "file_extension": ".py",
   "mimetype": "text/x-python",
   "name": "python",
   "nbconvert_exporter": "python",
   "pygments_lexer": "ipython3",
   "version": "3.6.7"
  }
 },
 "nbformat": 4,
 "nbformat_minor": 4
}
