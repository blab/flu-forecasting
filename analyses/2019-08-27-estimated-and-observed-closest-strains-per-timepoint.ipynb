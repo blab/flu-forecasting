{
 "cells": [
  {
   "cell_type": "markdown",
   "metadata": {},
   "source": [
    "# Estimated and observed closest strains per timepoint\n",
    "\n",
    "Create a figure similar to Figure 2D in Neher et al. 2014 showing the minimum estimated distance to the future and minimum observed distance to the future per timepoint."
   ]
  },
  {
   "cell_type": "code",
   "execution_count": 2,
   "metadata": {},
   "outputs": [],
   "source": [
    "import matplotlib as mpl\n",
    "import matplotlib.pyplot as plt\n",
    "import numpy as np\n",
    "import pandas as pd\n",
    "import seaborn as sns\n",
    "\n",
    "%matplotlib inline"
   ]
  },
  {
   "cell_type": "code",
   "execution_count": 3,
   "metadata": {},
   "outputs": [],
   "source": [
    "sns.set_style(\"white\")\n",
    "plt.style.use(\"huddlej\")"
   ]
  },
  {
   "cell_type": "code",
   "execution_count": 4,
   "metadata": {},
   "outputs": [],
   "source": [
    "mpl.rcParams['savefig.dpi'] = 200\n",
    "mpl.rcParams['figure.dpi'] = 200\n",
    "mpl.rcParams['font.weight'] = 300\n",
    "mpl.rcParams['axes.labelweight'] = 300\n",
    "mpl.rcParams['font.size'] = 18"
   ]
  },
  {
   "cell_type": "code",
   "execution_count": 97,
   "metadata": {},
   "outputs": [],
   "source": [
    "df = pd.read_csv(\n",
    "    \"../results/builds/natural/natural_sample_0_with_90_vpm_sliding/natural_sample_0_with_90_vpm_sliding_delta_frequency-cTiter-ne_star_forecast.tsv\",\n",
    "    sep=\"\\t\"\n",
    ")"
   ]
  },
  {
   "cell_type": "code",
   "execution_count": 98,
   "metadata": {},
   "outputs": [
    {
     "data": {
      "text/html": [
       "<div>\n",
       "<style scoped>\n",
       "    .dataframe tbody tr th:only-of-type {\n",
       "        vertical-align: middle;\n",
       "    }\n",
       "\n",
       "    .dataframe tbody tr th {\n",
       "        vertical-align: top;\n",
       "    }\n",
       "\n",
       "    .dataframe thead th {\n",
       "        text-align: right;\n",
       "    }\n",
       "</style>\n",
       "<table border=\"1\" class=\"dataframe\">\n",
       "  <thead>\n",
       "    <tr style=\"text-align: right;\">\n",
       "      <th></th>\n",
       "      <th>timepoint</th>\n",
       "      <th>strain</th>\n",
       "      <th>frequency</th>\n",
       "      <th>weighted_distance_to_present</th>\n",
       "      <th>weighted_distance_to_future</th>\n",
       "      <th>fitness</th>\n",
       "      <th>projected_frequency</th>\n",
       "      <th>y</th>\n",
       "      <th>weighted_distance_to_future_by_delta_frequency-cTiter-ne_star</th>\n",
       "      <th>future_timepoint</th>\n",
       "    </tr>\n",
       "  </thead>\n",
       "  <tbody>\n",
       "    <tr>\n",
       "      <th>0</th>\n",
       "      <td>1993-10-01</td>\n",
       "      <td>A/Netherlands/126/1993</td>\n",
       "      <td>0.009072</td>\n",
       "      <td>4.043942</td>\n",
       "      <td>7.439956</td>\n",
       "      <td>-2.324493</td>\n",
       "      <td>1.218509e-04</td>\n",
       "      <td>3.384775</td>\n",
       "      <td>3.384775</td>\n",
       "      <td>1994-10-01</td>\n",
       "    </tr>\n",
       "    <tr>\n",
       "      <th>1</th>\n",
       "      <td>1993-10-01</td>\n",
       "      <td>A/Netherlands/165/1993</td>\n",
       "      <td>0.015226</td>\n",
       "      <td>14.252614</td>\n",
       "      <td>17.811164</td>\n",
       "      <td>-7.842640</td>\n",
       "      <td>8.207491e-07</td>\n",
       "      <td>13.773169</td>\n",
       "      <td>13.773169</td>\n",
       "      <td>1994-10-01</td>\n",
       "    </tr>\n",
       "    <tr>\n",
       "      <th>2</th>\n",
       "      <td>1993-10-01</td>\n",
       "      <td>A/Netherlands/17/1993</td>\n",
       "      <td>0.000123</td>\n",
       "      <td>6.959802</td>\n",
       "      <td>10.578763</td>\n",
       "      <td>-3.064178</td>\n",
       "      <td>7.884778e-07</td>\n",
       "      <td>6.384514</td>\n",
       "      <td>6.384514</td>\n",
       "      <td>1994-10-01</td>\n",
       "    </tr>\n",
       "    <tr>\n",
       "      <th>3</th>\n",
       "      <td>1993-10-01</td>\n",
       "      <td>A/NewYork/754/1993</td>\n",
       "      <td>0.000549</td>\n",
       "      <td>4.924480</td>\n",
       "      <td>8.578773</td>\n",
       "      <td>-3.204311</td>\n",
       "      <td>3.059128e-06</td>\n",
       "      <td>4.384151</td>\n",
       "      <td>4.384151</td>\n",
       "      <td>1994-10-01</td>\n",
       "    </tr>\n",
       "    <tr>\n",
       "      <th>4</th>\n",
       "      <td>1993-10-01</td>\n",
       "      <td>A/NewYork/755/1993</td>\n",
       "      <td>0.020792</td>\n",
       "      <td>2.254680</td>\n",
       "      <td>5.600916</td>\n",
       "      <td>0.175177</td>\n",
       "      <td>3.401064e-03</td>\n",
       "      <td>1.382043</td>\n",
       "      <td>1.382043</td>\n",
       "      <td>1994-10-01</td>\n",
       "    </tr>\n",
       "  </tbody>\n",
       "</table>\n",
       "</div>"
      ],
      "text/plain": [
       "    timepoint                  strain  frequency  \\\n",
       "0  1993-10-01  A/Netherlands/126/1993   0.009072   \n",
       "1  1993-10-01  A/Netherlands/165/1993   0.015226   \n",
       "2  1993-10-01   A/Netherlands/17/1993   0.000123   \n",
       "3  1993-10-01      A/NewYork/754/1993   0.000549   \n",
       "4  1993-10-01      A/NewYork/755/1993   0.020792   \n",
       "\n",
       "   weighted_distance_to_present  weighted_distance_to_future   fitness  \\\n",
       "0                      4.043942                     7.439956 -2.324493   \n",
       "1                     14.252614                    17.811164 -7.842640   \n",
       "2                      6.959802                    10.578763 -3.064178   \n",
       "3                      4.924480                     8.578773 -3.204311   \n",
       "4                      2.254680                     5.600916  0.175177   \n",
       "\n",
       "   projected_frequency          y  \\\n",
       "0         1.218509e-04   3.384775   \n",
       "1         8.207491e-07  13.773169   \n",
       "2         7.884778e-07   6.384514   \n",
       "3         3.059128e-06   4.384151   \n",
       "4         3.401064e-03   1.382043   \n",
       "\n",
       "   weighted_distance_to_future_by_delta_frequency-cTiter-ne_star  \\\n",
       "0                                           3.384775               \n",
       "1                                          13.773169               \n",
       "2                                           6.384514               \n",
       "3                                           4.384151               \n",
       "4                                           1.382043               \n",
       "\n",
       "  future_timepoint  \n",
       "0       1994-10-01  \n",
       "1       1994-10-01  \n",
       "2       1994-10-01  \n",
       "3       1994-10-01  \n",
       "4       1994-10-01  "
      ]
     },
     "execution_count": 98,
     "metadata": {},
     "output_type": "execute_result"
    }
   ],
   "source": [
    "df.head()"
   ]
  },
  {
   "cell_type": "code",
   "execution_count": 99,
   "metadata": {},
   "outputs": [
    {
     "data": {
      "text/html": [
       "<div>\n",
       "<style scoped>\n",
       "    .dataframe tbody tr th:only-of-type {\n",
       "        vertical-align: middle;\n",
       "    }\n",
       "\n",
       "    .dataframe tbody tr th {\n",
       "        vertical-align: top;\n",
       "    }\n",
       "\n",
       "    .dataframe thead th {\n",
       "        text-align: right;\n",
       "    }\n",
       "</style>\n",
       "<table border=\"1\" class=\"dataframe\">\n",
       "  <thead>\n",
       "    <tr style=\"text-align: right;\">\n",
       "      <th></th>\n",
       "      <th>timepoint</th>\n",
       "      <th>weighted_distance_to_future</th>\n",
       "    </tr>\n",
       "  </thead>\n",
       "  <tbody>\n",
       "    <tr>\n",
       "      <th>0</th>\n",
       "      <td>1993-10-01</td>\n",
       "      <td>6.149515</td>\n",
       "    </tr>\n",
       "    <tr>\n",
       "      <th>1</th>\n",
       "      <td>1994-04-01</td>\n",
       "      <td>9.819302</td>\n",
       "    </tr>\n",
       "    <tr>\n",
       "      <th>2</th>\n",
       "      <td>1994-10-01</td>\n",
       "      <td>11.828929</td>\n",
       "    </tr>\n",
       "    <tr>\n",
       "      <th>3</th>\n",
       "      <td>1995-04-01</td>\n",
       "      <td>12.684255</td>\n",
       "    </tr>\n",
       "    <tr>\n",
       "      <th>4</th>\n",
       "      <td>1995-10-01</td>\n",
       "      <td>16.999796</td>\n",
       "    </tr>\n",
       "  </tbody>\n",
       "</table>\n",
       "</div>"
      ],
      "text/plain": [
       "    timepoint  weighted_distance_to_future\n",
       "0  1993-10-01                     6.149515\n",
       "1  1994-04-01                     9.819302\n",
       "2  1994-10-01                    11.828929\n",
       "3  1995-04-01                    12.684255\n",
       "4  1995-10-01                    16.999796"
      ]
     },
     "execution_count": 99,
     "metadata": {},
     "output_type": "execute_result"
    }
   ],
   "source": [
    "mean_distance_to_future_df = df.groupby(\"timepoint\")[\"weighted_distance_to_future\"].mean().reset_index()\n",
    "mean_distance_to_future_df.head()"
   ]
  },
  {
   "cell_type": "code",
   "execution_count": 100,
   "metadata": {},
   "outputs": [
    {
     "data": {
      "text/html": [
       "<div>\n",
       "<style scoped>\n",
       "    .dataframe tbody tr th:only-of-type {\n",
       "        vertical-align: middle;\n",
       "    }\n",
       "\n",
       "    .dataframe tbody tr th {\n",
       "        vertical-align: top;\n",
       "    }\n",
       "\n",
       "    .dataframe thead th {\n",
       "        text-align: right;\n",
       "    }\n",
       "</style>\n",
       "<table border=\"1\" class=\"dataframe\">\n",
       "  <thead>\n",
       "    <tr style=\"text-align: right;\">\n",
       "      <th></th>\n",
       "      <th>timepoint</th>\n",
       "      <th>weighted_distance_to_future</th>\n",
       "    </tr>\n",
       "  </thead>\n",
       "  <tbody>\n",
       "    <tr>\n",
       "      <th>0</th>\n",
       "      <td>1993-10-01</td>\n",
       "      <td>4.600921</td>\n",
       "    </tr>\n",
       "    <tr>\n",
       "      <th>1</th>\n",
       "      <td>1994-04-01</td>\n",
       "      <td>7.749080</td>\n",
       "    </tr>\n",
       "    <tr>\n",
       "      <th>2</th>\n",
       "      <td>1994-10-01</td>\n",
       "      <td>9.585163</td>\n",
       "    </tr>\n",
       "    <tr>\n",
       "      <th>3</th>\n",
       "      <td>1995-04-01</td>\n",
       "      <td>4.770550</td>\n",
       "    </tr>\n",
       "    <tr>\n",
       "      <th>4</th>\n",
       "      <td>1995-10-01</td>\n",
       "      <td>6.308835</td>\n",
       "    </tr>\n",
       "  </tbody>\n",
       "</table>\n",
       "</div>"
      ],
      "text/plain": [
       "    timepoint  weighted_distance_to_future\n",
       "0  1993-10-01                     4.600921\n",
       "1  1994-04-01                     7.749080\n",
       "2  1994-10-01                     9.585163\n",
       "3  1995-04-01                     4.770550\n",
       "4  1995-10-01                     6.308835"
      ]
     },
     "execution_count": 100,
     "metadata": {},
     "output_type": "execute_result"
    }
   ],
   "source": [
    "# Find the minimum weighted distance to the future.\n",
    "minimum_distance_to_future_df = df.groupby(\"timepoint\")[\"weighted_distance_to_future\"].min().reset_index()\n",
    "minimum_distance_to_future_df.head()"
   ]
  },
  {
   "cell_type": "code",
   "execution_count": null,
   "metadata": {},
   "outputs": [],
   "source": []
  },
  {
   "cell_type": "code",
   "execution_count": 101,
   "metadata": {},
   "outputs": [
    {
     "data": {
      "text/html": [
       "<div>\n",
       "<style scoped>\n",
       "    .dataframe tbody tr th:only-of-type {\n",
       "        vertical-align: middle;\n",
       "    }\n",
       "\n",
       "    .dataframe tbody tr th {\n",
       "        vertical-align: top;\n",
       "    }\n",
       "\n",
       "    .dataframe thead th {\n",
       "        text-align: right;\n",
       "    }\n",
       "</style>\n",
       "<table border=\"1\" class=\"dataframe\">\n",
       "  <thead>\n",
       "    <tr style=\"text-align: right;\">\n",
       "      <th></th>\n",
       "      <th>timepoint</th>\n",
       "      <th>weighted_distance_to_future</th>\n",
       "    </tr>\n",
       "  </thead>\n",
       "  <tbody>\n",
       "    <tr>\n",
       "      <th>0</th>\n",
       "      <td>1993-10-01</td>\n",
       "      <td>4.600921</td>\n",
       "    </tr>\n",
       "    <tr>\n",
       "      <th>1</th>\n",
       "      <td>1994-04-01</td>\n",
       "      <td>7.749080</td>\n",
       "    </tr>\n",
       "    <tr>\n",
       "      <th>2</th>\n",
       "      <td>1994-10-01</td>\n",
       "      <td>10.912103</td>\n",
       "    </tr>\n",
       "    <tr>\n",
       "      <th>3</th>\n",
       "      <td>1995-04-01</td>\n",
       "      <td>15.130010</td>\n",
       "    </tr>\n",
       "    <tr>\n",
       "      <th>4</th>\n",
       "      <td>1995-10-01</td>\n",
       "      <td>11.702205</td>\n",
       "    </tr>\n",
       "  </tbody>\n",
       "</table>\n",
       "</div>"
      ],
      "text/plain": [
       "    timepoint  weighted_distance_to_future\n",
       "0  1993-10-01                     4.600921\n",
       "1  1994-04-01                     7.749080\n",
       "2  1994-10-01                    10.912103\n",
       "3  1995-04-01                    15.130010\n",
       "4  1995-10-01                    11.702205"
      ]
     },
     "execution_count": 101,
     "metadata": {},
     "output_type": "execute_result"
    }
   ],
   "source": [
    "estimated_distance_to_future_df = df.sort_values(\n",
    "    [\"timepoint\", \"fitness\"],\n",
    "    ascending=False\n",
    ").groupby(\"timepoint\")[\"weighted_distance_to_future\"].first().reset_index()\n",
    "estimated_distance_to_future_df.head()"
   ]
  },
  {
   "cell_type": "code",
   "execution_count": 102,
   "metadata": {},
   "outputs": [
    {
     "data": {
      "text/plain": [
       "(17306, 10)"
      ]
     },
     "execution_count": 102,
     "metadata": {},
     "output_type": "execute_result"
    }
   ],
   "source": [
    "df.dropna().shape"
   ]
  },
  {
   "cell_type": "code",
   "execution_count": 103,
   "metadata": {},
   "outputs": [],
   "source": [
    "sorted_df = df.dropna().sort_values(\n",
    "    [\"timepoint\"]\n",
    ").copy()"
   ]
  },
  {
   "cell_type": "code",
   "execution_count": 104,
   "metadata": {},
   "outputs": [
    {
     "data": {
      "text/html": [
       "<div>\n",
       "<style scoped>\n",
       "    .dataframe tbody tr th:only-of-type {\n",
       "        vertical-align: middle;\n",
       "    }\n",
       "\n",
       "    .dataframe tbody tr th {\n",
       "        vertical-align: top;\n",
       "    }\n",
       "\n",
       "    .dataframe thead th {\n",
       "        text-align: right;\n",
       "    }\n",
       "</style>\n",
       "<table border=\"1\" class=\"dataframe\">\n",
       "  <thead>\n",
       "    <tr style=\"text-align: right;\">\n",
       "      <th></th>\n",
       "      <th>timepoint</th>\n",
       "      <th>strain</th>\n",
       "      <th>frequency</th>\n",
       "      <th>weighted_distance_to_present</th>\n",
       "      <th>weighted_distance_to_future</th>\n",
       "      <th>fitness</th>\n",
       "      <th>projected_frequency</th>\n",
       "      <th>y</th>\n",
       "      <th>weighted_distance_to_future_by_delta_frequency-cTiter-ne_star</th>\n",
       "      <th>future_timepoint</th>\n",
       "    </tr>\n",
       "  </thead>\n",
       "  <tbody>\n",
       "    <tr>\n",
       "      <th>0</th>\n",
       "      <td>1993-10-01</td>\n",
       "      <td>A/Netherlands/126/1993</td>\n",
       "      <td>0.009072</td>\n",
       "      <td>4.043942</td>\n",
       "      <td>7.439956</td>\n",
       "      <td>-2.324493</td>\n",
       "      <td>0.000122</td>\n",
       "      <td>3.384775</td>\n",
       "      <td>3.384775</td>\n",
       "      <td>1994-10-01</td>\n",
       "    </tr>\n",
       "    <tr>\n",
       "      <th>29</th>\n",
       "      <td>1993-10-01</td>\n",
       "      <td>A/NewYork/780/1993</td>\n",
       "      <td>0.013154</td>\n",
       "      <td>2.309828</td>\n",
       "      <td>5.599630</td>\n",
       "      <td>1.944852</td>\n",
       "      <td>0.012628</td>\n",
       "      <td>1.370111</td>\n",
       "      <td>1.370111</td>\n",
       "      <td>1994-10-01</td>\n",
       "    </tr>\n",
       "    <tr>\n",
       "      <th>30</th>\n",
       "      <td>1993-10-01</td>\n",
       "      <td>A/NewYork/781/1993</td>\n",
       "      <td>0.034447</td>\n",
       "      <td>1.336139</td>\n",
       "      <td>4.600921</td>\n",
       "      <td>2.735952</td>\n",
       "      <td>0.072946</td>\n",
       "      <td>0.395367</td>\n",
       "      <td>0.395367</td>\n",
       "      <td>1994-10-01</td>\n",
       "    </tr>\n",
       "    <tr>\n",
       "      <th>31</th>\n",
       "      <td>1993-10-01</td>\n",
       "      <td>A/NewYork/782/1993</td>\n",
       "      <td>0.043046</td>\n",
       "      <td>5.742071</td>\n",
       "      <td>9.591806</td>\n",
       "      <td>-6.968612</td>\n",
       "      <td>0.000006</td>\n",
       "      <td>5.394514</td>\n",
       "      <td>5.394514</td>\n",
       "      <td>1994-10-01</td>\n",
       "    </tr>\n",
       "    <tr>\n",
       "      <th>32</th>\n",
       "      <td>1993-10-01</td>\n",
       "      <td>A/NewYork/783/1993</td>\n",
       "      <td>0.040885</td>\n",
       "      <td>3.158079</td>\n",
       "      <td>6.600911</td>\n",
       "      <td>-2.209616</td>\n",
       "      <td>0.000616</td>\n",
       "      <td>2.392903</td>\n",
       "      <td>2.392903</td>\n",
       "      <td>1994-10-01</td>\n",
       "    </tr>\n",
       "  </tbody>\n",
       "</table>\n",
       "</div>"
      ],
      "text/plain": [
       "     timepoint                  strain  frequency  \\\n",
       "0   1993-10-01  A/Netherlands/126/1993   0.009072   \n",
       "29  1993-10-01      A/NewYork/780/1993   0.013154   \n",
       "30  1993-10-01      A/NewYork/781/1993   0.034447   \n",
       "31  1993-10-01      A/NewYork/782/1993   0.043046   \n",
       "32  1993-10-01      A/NewYork/783/1993   0.040885   \n",
       "\n",
       "    weighted_distance_to_present  weighted_distance_to_future   fitness  \\\n",
       "0                       4.043942                     7.439956 -2.324493   \n",
       "29                      2.309828                     5.599630  1.944852   \n",
       "30                      1.336139                     4.600921  2.735952   \n",
       "31                      5.742071                     9.591806 -6.968612   \n",
       "32                      3.158079                     6.600911 -2.209616   \n",
       "\n",
       "    projected_frequency         y  \\\n",
       "0              0.000122  3.384775   \n",
       "29             0.012628  1.370111   \n",
       "30             0.072946  0.395367   \n",
       "31             0.000006  5.394514   \n",
       "32             0.000616  2.392903   \n",
       "\n",
       "    weighted_distance_to_future_by_delta_frequency-cTiter-ne_star  \\\n",
       "0                                            3.384775               \n",
       "29                                           1.370111               \n",
       "30                                           0.395367               \n",
       "31                                           5.394514               \n",
       "32                                           2.392903               \n",
       "\n",
       "   future_timepoint  \n",
       "0        1994-10-01  \n",
       "29       1994-10-01  \n",
       "30       1994-10-01  \n",
       "31       1994-10-01  \n",
       "32       1994-10-01  "
      ]
     },
     "execution_count": 104,
     "metadata": {},
     "output_type": "execute_result"
    }
   ],
   "source": [
    "sorted_df.head()"
   ]
  },
  {
   "cell_type": "code",
   "execution_count": 105,
   "metadata": {},
   "outputs": [],
   "source": [
    "sorted_df[\"timepoint_rank\"] = sorted_df.groupby(\"timepoint\")[\"weighted_distance_to_future\"].rank(pct=True)"
   ]
  },
  {
   "cell_type": "code",
   "execution_count": 106,
   "metadata": {},
   "outputs": [
    {
     "data": {
      "text/html": [
       "<div>\n",
       "<style scoped>\n",
       "    .dataframe tbody tr th:only-of-type {\n",
       "        vertical-align: middle;\n",
       "    }\n",
       "\n",
       "    .dataframe tbody tr th {\n",
       "        vertical-align: top;\n",
       "    }\n",
       "\n",
       "    .dataframe thead th {\n",
       "        text-align: right;\n",
       "    }\n",
       "</style>\n",
       "<table border=\"1\" class=\"dataframe\">\n",
       "  <thead>\n",
       "    <tr style=\"text-align: right;\">\n",
       "      <th></th>\n",
       "      <th>timepoint</th>\n",
       "      <th>strain</th>\n",
       "      <th>frequency</th>\n",
       "      <th>weighted_distance_to_present</th>\n",
       "      <th>weighted_distance_to_future</th>\n",
       "      <th>fitness</th>\n",
       "      <th>projected_frequency</th>\n",
       "      <th>y</th>\n",
       "      <th>weighted_distance_to_future_by_delta_frequency-cTiter-ne_star</th>\n",
       "      <th>future_timepoint</th>\n",
       "      <th>timepoint_rank</th>\n",
       "    </tr>\n",
       "  </thead>\n",
       "  <tbody>\n",
       "    <tr>\n",
       "      <th>0</th>\n",
       "      <td>1993-10-01</td>\n",
       "      <td>A/Netherlands/126/1993</td>\n",
       "      <td>0.009072</td>\n",
       "      <td>4.043942</td>\n",
       "      <td>7.439956</td>\n",
       "      <td>-2.324493</td>\n",
       "      <td>0.000122</td>\n",
       "      <td>3.384775</td>\n",
       "      <td>3.384775</td>\n",
       "      <td>1994-10-01</td>\n",
       "      <td>0.833333</td>\n",
       "    </tr>\n",
       "    <tr>\n",
       "      <th>29</th>\n",
       "      <td>1993-10-01</td>\n",
       "      <td>A/NewYork/780/1993</td>\n",
       "      <td>0.013154</td>\n",
       "      <td>2.309828</td>\n",
       "      <td>5.599630</td>\n",
       "      <td>1.944852</td>\n",
       "      <td>0.012628</td>\n",
       "      <td>1.370111</td>\n",
       "      <td>1.370111</td>\n",
       "      <td>1994-10-01</td>\n",
       "      <td>0.592593</td>\n",
       "    </tr>\n",
       "    <tr>\n",
       "      <th>30</th>\n",
       "      <td>1993-10-01</td>\n",
       "      <td>A/NewYork/781/1993</td>\n",
       "      <td>0.034447</td>\n",
       "      <td>1.336139</td>\n",
       "      <td>4.600921</td>\n",
       "      <td>2.735952</td>\n",
       "      <td>0.072946</td>\n",
       "      <td>0.395367</td>\n",
       "      <td>0.395367</td>\n",
       "      <td>1994-10-01</td>\n",
       "      <td>0.212963</td>\n",
       "    </tr>\n",
       "    <tr>\n",
       "      <th>31</th>\n",
       "      <td>1993-10-01</td>\n",
       "      <td>A/NewYork/782/1993</td>\n",
       "      <td>0.043046</td>\n",
       "      <td>5.742071</td>\n",
       "      <td>9.591806</td>\n",
       "      <td>-6.968612</td>\n",
       "      <td>0.000006</td>\n",
       "      <td>5.394514</td>\n",
       "      <td>5.394514</td>\n",
       "      <td>1994-10-01</td>\n",
       "      <td>0.907407</td>\n",
       "    </tr>\n",
       "    <tr>\n",
       "      <th>32</th>\n",
       "      <td>1993-10-01</td>\n",
       "      <td>A/NewYork/783/1993</td>\n",
       "      <td>0.040885</td>\n",
       "      <td>3.158079</td>\n",
       "      <td>6.600911</td>\n",
       "      <td>-2.209616</td>\n",
       "      <td>0.000616</td>\n",
       "      <td>2.392903</td>\n",
       "      <td>2.392903</td>\n",
       "      <td>1994-10-01</td>\n",
       "      <td>0.796296</td>\n",
       "    </tr>\n",
       "  </tbody>\n",
       "</table>\n",
       "</div>"
      ],
      "text/plain": [
       "     timepoint                  strain  frequency  \\\n",
       "0   1993-10-01  A/Netherlands/126/1993   0.009072   \n",
       "29  1993-10-01      A/NewYork/780/1993   0.013154   \n",
       "30  1993-10-01      A/NewYork/781/1993   0.034447   \n",
       "31  1993-10-01      A/NewYork/782/1993   0.043046   \n",
       "32  1993-10-01      A/NewYork/783/1993   0.040885   \n",
       "\n",
       "    weighted_distance_to_present  weighted_distance_to_future   fitness  \\\n",
       "0                       4.043942                     7.439956 -2.324493   \n",
       "29                      2.309828                     5.599630  1.944852   \n",
       "30                      1.336139                     4.600921  2.735952   \n",
       "31                      5.742071                     9.591806 -6.968612   \n",
       "32                      3.158079                     6.600911 -2.209616   \n",
       "\n",
       "    projected_frequency         y  \\\n",
       "0              0.000122  3.384775   \n",
       "29             0.012628  1.370111   \n",
       "30             0.072946  0.395367   \n",
       "31             0.000006  5.394514   \n",
       "32             0.000616  2.392903   \n",
       "\n",
       "    weighted_distance_to_future_by_delta_frequency-cTiter-ne_star  \\\n",
       "0                                            3.384775               \n",
       "29                                           1.370111               \n",
       "30                                           0.395367               \n",
       "31                                           5.394514               \n",
       "32                                           2.392903               \n",
       "\n",
       "   future_timepoint  timepoint_rank  \n",
       "0        1994-10-01        0.833333  \n",
       "29       1994-10-01        0.592593  \n",
       "30       1994-10-01        0.212963  \n",
       "31       1994-10-01        0.907407  \n",
       "32       1994-10-01        0.796296  "
      ]
     },
     "execution_count": 106,
     "metadata": {},
     "output_type": "execute_result"
    }
   ],
   "source": [
    "sorted_df.head(5)"
   ]
  },
  {
   "cell_type": "code",
   "execution_count": 107,
   "metadata": {},
   "outputs": [],
   "source": [
    "best_fitness_rank_by_timepoint_df = sorted_df.sort_values(\n",
    "    [\"timepoint\", \"fitness\"],\n",
    "    ascending=False\n",
    ").groupby(\"timepoint\")[\"timepoint_rank\"].first().reset_index()"
   ]
  },
  {
   "cell_type": "code",
   "execution_count": 108,
   "metadata": {},
   "outputs": [
    {
     "data": {
      "text/html": [
       "<div>\n",
       "<style scoped>\n",
       "    .dataframe tbody tr th:only-of-type {\n",
       "        vertical-align: middle;\n",
       "    }\n",
       "\n",
       "    .dataframe tbody tr th {\n",
       "        vertical-align: top;\n",
       "    }\n",
       "\n",
       "    .dataframe thead th {\n",
       "        text-align: right;\n",
       "    }\n",
       "</style>\n",
       "<table border=\"1\" class=\"dataframe\">\n",
       "  <thead>\n",
       "    <tr style=\"text-align: right;\">\n",
       "      <th></th>\n",
       "      <th>timepoint</th>\n",
       "      <th>timepoint_rank</th>\n",
       "    </tr>\n",
       "  </thead>\n",
       "  <tbody>\n",
       "    <tr>\n",
       "      <th>0</th>\n",
       "      <td>1993-10-01</td>\n",
       "      <td>0.212963</td>\n",
       "    </tr>\n",
       "    <tr>\n",
       "      <th>1</th>\n",
       "      <td>1994-04-01</td>\n",
       "      <td>0.017544</td>\n",
       "    </tr>\n",
       "    <tr>\n",
       "      <th>2</th>\n",
       "      <td>1994-10-01</td>\n",
       "      <td>0.187500</td>\n",
       "    </tr>\n",
       "    <tr>\n",
       "      <th>3</th>\n",
       "      <td>1995-04-01</td>\n",
       "      <td>0.696721</td>\n",
       "    </tr>\n",
       "    <tr>\n",
       "      <th>4</th>\n",
       "      <td>1995-10-01</td>\n",
       "      <td>0.234375</td>\n",
       "    </tr>\n",
       "  </tbody>\n",
       "</table>\n",
       "</div>"
      ],
      "text/plain": [
       "    timepoint  timepoint_rank\n",
       "0  1993-10-01        0.212963\n",
       "1  1994-04-01        0.017544\n",
       "2  1994-10-01        0.187500\n",
       "3  1995-04-01        0.696721\n",
       "4  1995-10-01        0.234375"
      ]
     },
     "execution_count": 108,
     "metadata": {},
     "output_type": "execute_result"
    }
   ],
   "source": [
    "best_fitness_rank_by_timepoint_df.head()"
   ]
  },
  {
   "cell_type": "code",
   "execution_count": 109,
   "metadata": {},
   "outputs": [
    {
     "data": {
      "text/plain": [
       "array([0.  , 0.05, 0.1 , 0.15, 0.2 , 0.25, 0.3 , 0.35, 0.4 , 0.45, 0.5 ,\n",
       "       0.55, 0.6 , 0.65, 0.7 , 0.75, 0.8 , 0.85, 0.9 , 0.95, 1.  ])"
      ]
     },
     "execution_count": 109,
     "metadata": {},
     "output_type": "execute_result"
    }
   ],
   "source": [
    "np.arange(0, 1.01, 0.05)"
   ]
  },
  {
   "cell_type": "code",
   "execution_count": 110,
   "metadata": {},
   "outputs": [
    {
     "data": {
      "text/plain": [
       "Text(0,0.5,'Number of timepoints')"
      ]
     },
     "execution_count": 110,
     "metadata": {},
     "output_type": "execute_result"
    },
    {
     "data": {
      "image/png": "[encoded data removed]",
      "text/plain": [
       "<Figure size 1200x800 with 1 Axes>"
      ]
     },
     "metadata": {},
     "output_type": "display_data"
    }
   ],
   "source": [
    "fig, ax = plt.subplots(1, 1, figsize=(6, 4))\n",
    "ax.hist(best_fitness_rank_by_timepoint_df[\"timepoint_rank\"], bins=np.arange(0, 1.01, 0.05))\n",
    "ax.set_xlabel(\"Percentile rank of distance for fittest strain\")\n",
    "ax.set_ylabel(\"Number of timepoints\")"
   ]
  },
  {
   "cell_type": "code",
   "execution_count": 114,
   "metadata": {},
   "outputs": [
    {
     "data": {
      "text/plain": [
       "28"
      ]
     },
     "execution_count": 114,
     "metadata": {},
     "output_type": "execute_result"
    }
   ],
   "source": [
    "timepoints_in_lowest_20_pct = (best_fitness_rank_by_timepoint_df[\"timepoint_rank\"] < 0.25).sum()\n",
    "timepoints_in_lowest_20_pct"
   ]
  },
  {
   "cell_type": "code",
   "execution_count": 115,
   "metadata": {},
   "outputs": [
    {
     "data": {
      "text/plain": [
       "43"
      ]
     },
     "execution_count": 115,
     "metadata": {},
     "output_type": "execute_result"
    }
   ],
   "source": [
    "total_timepoints = best_fitness_rank_by_timepoint_df.shape[0]\n",
    "total_timepoints"
   ]
  },
  {
   "cell_type": "code",
   "execution_count": 116,
   "metadata": {},
   "outputs": [
    {
     "data": {
      "text/plain": [
       "0.6511627906976745"
      ]
     },
     "execution_count": 116,
     "metadata": {},
     "output_type": "execute_result"
    }
   ],
   "source": [
    "timepoints_in_lowest_20_pct / float(total_timepoints)"
   ]
  },
  {
   "cell_type": "code",
   "execution_count": 73,
   "metadata": {},
   "outputs": [
    {
     "data": {
      "text/html": [
       "<div>\n",
       "<style scoped>\n",
       "    .dataframe tbody tr th:only-of-type {\n",
       "        vertical-align: middle;\n",
       "    }\n",
       "\n",
       "    .dataframe tbody tr th {\n",
       "        vertical-align: top;\n",
       "    }\n",
       "\n",
       "    .dataframe thead th {\n",
       "        text-align: right;\n",
       "    }\n",
       "</style>\n",
       "<table border=\"1\" class=\"dataframe\">\n",
       "  <thead>\n",
       "    <tr style=\"text-align: right;\">\n",
       "      <th></th>\n",
       "      <th>timepoint</th>\n",
       "      <th>weighted_distance_to_future_mean</th>\n",
       "      <th>weighted_distance_to_future_observed</th>\n",
       "      <th>weighted_distance_to_future</th>\n",
       "    </tr>\n",
       "  </thead>\n",
       "  <tbody>\n",
       "    <tr>\n",
       "      <th>0</th>\n",
       "      <td>1995-10-01</td>\n",
       "      <td>17.001804</td>\n",
       "      <td>6.311513</td>\n",
       "      <td>11.704883</td>\n",
       "    </tr>\n",
       "    <tr>\n",
       "      <th>1</th>\n",
       "      <td>1996-04-01</td>\n",
       "      <td>11.614254</td>\n",
       "      <td>6.750710</td>\n",
       "      <td>6.750710</td>\n",
       "    </tr>\n",
       "    <tr>\n",
       "      <th>2</th>\n",
       "      <td>1996-10-01</td>\n",
       "      <td>13.582028</td>\n",
       "      <td>8.973677</td>\n",
       "      <td>12.949729</td>\n",
       "    </tr>\n",
       "    <tr>\n",
       "      <th>3</th>\n",
       "      <td>1997-04-01</td>\n",
       "      <td>11.810146</td>\n",
       "      <td>6.382600</td>\n",
       "      <td>14.222939</td>\n",
       "    </tr>\n",
       "    <tr>\n",
       "      <th>4</th>\n",
       "      <td>1997-10-01</td>\n",
       "      <td>13.604810</td>\n",
       "      <td>5.828201</td>\n",
       "      <td>14.974391</td>\n",
       "    </tr>\n",
       "  </tbody>\n",
       "</table>\n",
       "</div>"
      ],
      "text/plain": [
       "    timepoint  weighted_distance_to_future_mean  \\\n",
       "0  1995-10-01                         17.001804   \n",
       "1  1996-04-01                         11.614254   \n",
       "2  1996-10-01                         13.582028   \n",
       "3  1997-04-01                         11.810146   \n",
       "4  1997-10-01                         13.604810   \n",
       "\n",
       "   weighted_distance_to_future_observed  weighted_distance_to_future  \n",
       "0                              6.311513                    11.704883  \n",
       "1                              6.750710                     6.750710  \n",
       "2                              8.973677                    12.949729  \n",
       "3                              6.382600                    14.222939  \n",
       "4                              5.828201                    14.974391  "
      ]
     },
     "execution_count": 73,
     "metadata": {},
     "output_type": "execute_result"
    }
   ],
   "source": [
    "distance_df = mean_distance_to_future_df.merge(\n",
    "    minimum_distance_to_future_df,\n",
    "    on=\"timepoint\",\n",
    "    suffixes=[\"_mean\", \"_observed\"]\n",
    ").merge(\n",
    "    estimated_distance_to_future_df,\n",
    "    on=\"timepoint\"\n",
    ")\n",
    "distance_df.head()"
   ]
  },
  {
   "cell_type": "code",
   "execution_count": 74,
   "metadata": {},
   "outputs": [
    {
     "data": {
      "text/html": [
       "<div>\n",
       "<style scoped>\n",
       "    .dataframe tbody tr th:only-of-type {\n",
       "        vertical-align: middle;\n",
       "    }\n",
       "\n",
       "    .dataframe tbody tr th {\n",
       "        vertical-align: top;\n",
       "    }\n",
       "\n",
       "    .dataframe thead th {\n",
       "        text-align: right;\n",
       "    }\n",
       "</style>\n",
       "<table border=\"1\" class=\"dataframe\">\n",
       "  <thead>\n",
       "    <tr style=\"text-align: right;\">\n",
       "      <th></th>\n",
       "      <th>timepoint</th>\n",
       "      <th>weighted_distance_to_future_mean</th>\n",
       "      <th>weighted_distance_to_future_observed</th>\n",
       "      <th>weighted_distance_to_future</th>\n",
       "      <th>distance_predicted</th>\n",
       "      <th>distance_minimum</th>\n",
       "    </tr>\n",
       "  </thead>\n",
       "  <tbody>\n",
       "    <tr>\n",
       "      <th>0</th>\n",
       "      <td>1995-10-01</td>\n",
       "      <td>17.001804</td>\n",
       "      <td>6.311513</td>\n",
       "      <td>11.704883</td>\n",
       "      <td>0.688449</td>\n",
       "      <td>0.371226</td>\n",
       "    </tr>\n",
       "    <tr>\n",
       "      <th>1</th>\n",
       "      <td>1996-04-01</td>\n",
       "      <td>11.614254</td>\n",
       "      <td>6.750710</td>\n",
       "      <td>6.750710</td>\n",
       "      <td>0.581244</td>\n",
       "      <td>0.581244</td>\n",
       "    </tr>\n",
       "    <tr>\n",
       "      <th>2</th>\n",
       "      <td>1996-10-01</td>\n",
       "      <td>13.582028</td>\n",
       "      <td>8.973677</td>\n",
       "      <td>12.949729</td>\n",
       "      <td>0.953446</td>\n",
       "      <td>0.660702</td>\n",
       "    </tr>\n",
       "    <tr>\n",
       "      <th>3</th>\n",
       "      <td>1997-04-01</td>\n",
       "      <td>11.810146</td>\n",
       "      <td>6.382600</td>\n",
       "      <td>14.222939</td>\n",
       "      <td>1.204298</td>\n",
       "      <td>0.540434</td>\n",
       "    </tr>\n",
       "    <tr>\n",
       "      <th>4</th>\n",
       "      <td>1997-10-01</td>\n",
       "      <td>13.604810</td>\n",
       "      <td>5.828201</td>\n",
       "      <td>14.974391</td>\n",
       "      <td>1.100669</td>\n",
       "      <td>0.428393</td>\n",
       "    </tr>\n",
       "  </tbody>\n",
       "</table>\n",
       "</div>"
      ],
      "text/plain": [
       "    timepoint  weighted_distance_to_future_mean  \\\n",
       "0  1995-10-01                         17.001804   \n",
       "1  1996-04-01                         11.614254   \n",
       "2  1996-10-01                         13.582028   \n",
       "3  1997-04-01                         11.810146   \n",
       "4  1997-10-01                         13.604810   \n",
       "\n",
       "   weighted_distance_to_future_observed  weighted_distance_to_future  \\\n",
       "0                              6.311513                    11.704883   \n",
       "1                              6.750710                     6.750710   \n",
       "2                              8.973677                    12.949729   \n",
       "3                              6.382600                    14.222939   \n",
       "4                              5.828201                    14.974391   \n",
       "\n",
       "   distance_predicted  distance_minimum  \n",
       "0            0.688449          0.371226  \n",
       "1            0.581244          0.581244  \n",
       "2            0.953446          0.660702  \n",
       "3            1.204298          0.540434  \n",
       "4            1.100669          0.428393  "
      ]
     },
     "execution_count": 74,
     "metadata": {},
     "output_type": "execute_result"
    }
   ],
   "source": [
    "distance_df[\"distance_predicted\"] = distance_df[\"weighted_distance_to_future\"] / distance_df[\"weighted_distance_to_future_mean\"]\n",
    "distance_df[\"distance_minimum\"] = distance_df[\"weighted_distance_to_future_observed\"] / distance_df[\"weighted_distance_to_future_mean\"]\n",
    "distance_df.head()"
   ]
  },
  {
   "cell_type": "code",
   "execution_count": 75,
   "metadata": {},
   "outputs": [
    {
     "data": {
      "text/plain": [
       "Text(0,0.5,'$\\\\Delta$(prediction)')"
      ]
     },
     "execution_count": 75,
     "metadata": {},
     "output_type": "execute_result"
    },
    {
     "data": {
      "image/png": "[encoded data removed]",
      "text/plain": [
       "<Figure size 800x800 with 1 Axes>"
      ]
     },
     "metadata": {},
     "output_type": "display_data"
    }
   ],
   "source": [
    "fig, ax = plt.subplots(1, 1, figsize=(4, 4))\n",
    "\n",
    "max_distance = max(distance_df[\"distance_predicted\"].max(), distance_df[\"distance_minimum\"].max())\n",
    "line = np.linspace(\n",
    "    0,\n",
    "    max_distance,\n",
    "    10\n",
    ")\n",
    "\n",
    "ax.plot(\n",
    "    distance_df[\"distance_minimum\"],\n",
    "    distance_df[\"distance_predicted\"],\n",
    "    \"o\",\n",
    "    alpha=0.75\n",
    ")\n",
    "\n",
    "ax.plot(line, line, color=\"#cccccc\", zorder=-10)\n",
    "ax.axhline(y=1, color=\"#cccccc\", linestyle=\"--\", zorder=-10)\n",
    "\n",
    "ticks = np.arange(0, max_distance + 0.2, 0.2)\n",
    "ax.set_xticks(ticks)\n",
    "ax.set_yticks(ticks)\n",
    "\n",
    "ax.set_xlabel(\"$\\Delta$(minimal)\")\n",
    "ax.set_ylabel(\"$\\Delta$(prediction)\")"
   ]
  },
  {
   "cell_type": "code",
   "execution_count": null,
   "metadata": {},
   "outputs": [],
   "source": []
  },
  {
   "cell_type": "code",
   "execution_count": null,
   "metadata": {},
   "outputs": [],
   "source": []
  }
 ],
 "metadata": {
  "kernelspec": {
   "display_name": "Python 3",
   "language": "python",
   "name": "python3"
  },
  "language_info": {
   "codemirror_mode": {
    "name": "ipython",
    "version": 3
   },
   "file_extension": ".py",
   "mimetype": "text/x-python",
   "name": "python",
   "nbconvert_exporter": "python",
   "pygments_lexer": "ipython3",
   "version": "3.6.7"
  }
 },
 "nbformat": 4,
 "nbformat_minor": 4
}
