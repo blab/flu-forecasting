{
 "cells": [
  {
   "cell_type": "markdown",
   "metadata": {},
   "source": [
    "# Estimated and observed closest strains per timepoint\n",
    "\n",
    "Create a figure similar to Figure 2D in Neher et al. 2014 showing the minimum estimated distance to the future and minimum observed distance to the future per timepoint."
   ]
  },
  {
   "cell_type": "code",
   "execution_count": 2,
   "metadata": {},
   "outputs": [],
   "source": [
    "import matplotlib as mpl\n",
    "import matplotlib.pyplot as plt\n",
    "import numpy as np\n",
    "import pandas as pd\n",
    "import seaborn as sns\n",
    "\n",
    "%matplotlib inline"
   ]
  },
  {
   "cell_type": "code",
   "execution_count": 3,
   "metadata": {},
   "outputs": [],
   "source": [
    "sns.set_style(\"white\")\n",
    "plt.style.use(\"huddlej\")"
   ]
  },
  {
   "cell_type": "code",
   "execution_count": 4,
   "metadata": {},
   "outputs": [],
   "source": [
    "mpl.rcParams['savefig.dpi'] = 200\n",
    "mpl.rcParams['figure.dpi'] = 200\n",
    "mpl.rcParams['font.weight'] = 300\n",
    "mpl.rcParams['axes.labelweight'] = 300\n",
    "mpl.rcParams['font.size'] = 18"
   ]
  },
  {
   "cell_type": "code",
   "execution_count": 59,
   "metadata": {},
   "outputs": [],
   "source": [
    "df = pd.read_csv(\n",
    "    \"../results/builds/natural/natural_sample_0_with_30_vpm_sliding/natural_sample_0_with_30_vpm_sliding_delta_frequency-ne_star_forecast.tsv\",\n",
    "    sep=\"\\t\"\n",
    ")"
   ]
  },
  {
   "cell_type": "code",
   "execution_count": 60,
   "metadata": {},
   "outputs": [
    {
     "data": {
      "text/html": [
       "<div>\n",
       "<style scoped>\n",
       "    .dataframe tbody tr th:only-of-type {\n",
       "        vertical-align: middle;\n",
       "    }\n",
       "\n",
       "    .dataframe tbody tr th {\n",
       "        vertical-align: top;\n",
       "    }\n",
       "\n",
       "    .dataframe thead th {\n",
       "        text-align: right;\n",
       "    }\n",
       "</style>\n",
       "<table border=\"1\" class=\"dataframe\">\n",
       "  <thead>\n",
       "    <tr style=\"text-align: right;\">\n",
       "      <th></th>\n",
       "      <th>timepoint</th>\n",
       "      <th>strain</th>\n",
       "      <th>frequency</th>\n",
       "      <th>weighted_distance_to_present</th>\n",
       "      <th>weighted_distance_to_future</th>\n",
       "      <th>fitness</th>\n",
       "      <th>projected_frequency</th>\n",
       "      <th>y</th>\n",
       "      <th>weighted_distance_to_future_by_delta_frequency-ne_star</th>\n",
       "      <th>future_timepoint</th>\n",
       "    </tr>\n",
       "  </thead>\n",
       "  <tbody>\n",
       "    <tr>\n",
       "      <th>0</th>\n",
       "      <td>1995-10-01</td>\n",
       "      <td>A/England/121/1995</td>\n",
       "      <td>0.002912</td>\n",
       "      <td>11.591351</td>\n",
       "      <td>20.301243</td>\n",
       "      <td>-2.290440</td>\n",
       "      <td>1.442146e-06</td>\n",
       "      <td>13.199158</td>\n",
       "      <td>13.199158</td>\n",
       "      <td>1996-10-01</td>\n",
       "    </tr>\n",
       "    <tr>\n",
       "      <th>1</th>\n",
       "      <td>1995-10-01</td>\n",
       "      <td>A/England/178/1995</td>\n",
       "      <td>0.009046</td>\n",
       "      <td>8.806357</td>\n",
       "      <td>18.974534</td>\n",
       "      <td>-0.083940</td>\n",
       "      <td>4.069541e-05</td>\n",
       "      <td>11.197801</td>\n",
       "      <td>11.197801</td>\n",
       "      <td>1996-10-01</td>\n",
       "    </tr>\n",
       "    <tr>\n",
       "      <th>2</th>\n",
       "      <td>1995-10-01</td>\n",
       "      <td>A/England/255/1995</td>\n",
       "      <td>0.005132</td>\n",
       "      <td>8.136440</td>\n",
       "      <td>11.704883</td>\n",
       "      <td>7.479861</td>\n",
       "      <td>4.449308e-02</td>\n",
       "      <td>1.991264</td>\n",
       "      <td>1.991264</td>\n",
       "      <td>1996-10-01</td>\n",
       "    </tr>\n",
       "    <tr>\n",
       "      <th>3</th>\n",
       "      <td>1995-10-01</td>\n",
       "      <td>A/England/258/1995</td>\n",
       "      <td>0.039570</td>\n",
       "      <td>11.784358</td>\n",
       "      <td>19.956980</td>\n",
       "      <td>-5.583766</td>\n",
       "      <td>7.276301e-07</td>\n",
       "      <td>13.733515</td>\n",
       "      <td>13.733515</td>\n",
       "      <td>1996-10-01</td>\n",
       "    </tr>\n",
       "    <tr>\n",
       "      <th>4</th>\n",
       "      <td>1995-10-01</td>\n",
       "      <td>A/England/263/1995</td>\n",
       "      <td>0.047167</td>\n",
       "      <td>9.562186</td>\n",
       "      <td>19.974537</td>\n",
       "      <td>0.307624</td>\n",
       "      <td>3.138927e-04</td>\n",
       "      <td>12.196942</td>\n",
       "      <td>12.196942</td>\n",
       "      <td>1996-10-01</td>\n",
       "    </tr>\n",
       "  </tbody>\n",
       "</table>\n",
       "</div>"
      ],
      "text/plain": [
       "    timepoint              strain  frequency  weighted_distance_to_present  \\\n",
       "0  1995-10-01  A/England/121/1995   0.002912                     11.591351   \n",
       "1  1995-10-01  A/England/178/1995   0.009046                      8.806357   \n",
       "2  1995-10-01  A/England/255/1995   0.005132                      8.136440   \n",
       "3  1995-10-01  A/England/258/1995   0.039570                     11.784358   \n",
       "4  1995-10-01  A/England/263/1995   0.047167                      9.562186   \n",
       "\n",
       "   weighted_distance_to_future   fitness  projected_frequency          y  \\\n",
       "0                    20.301243 -2.290440         1.442146e-06  13.199158   \n",
       "1                    18.974534 -0.083940         4.069541e-05  11.197801   \n",
       "2                    11.704883  7.479861         4.449308e-02   1.991264   \n",
       "3                    19.956980 -5.583766         7.276301e-07  13.733515   \n",
       "4                    19.974537  0.307624         3.138927e-04  12.196942   \n",
       "\n",
       "   weighted_distance_to_future_by_delta_frequency-ne_star future_timepoint  \n",
       "0                                          13.199158            1996-10-01  \n",
       "1                                          11.197801            1996-10-01  \n",
       "2                                           1.991264            1996-10-01  \n",
       "3                                          13.733515            1996-10-01  \n",
       "4                                          12.196942            1996-10-01  "
      ]
     },
     "execution_count": 60,
     "metadata": {},
     "output_type": "execute_result"
    }
   ],
   "source": [
    "df.head()"
   ]
  },
  {
   "cell_type": "code",
   "execution_count": 61,
   "metadata": {},
   "outputs": [
    {
     "data": {
      "text/html": [
       "<div>\n",
       "<style scoped>\n",
       "    .dataframe tbody tr th:only-of-type {\n",
       "        vertical-align: middle;\n",
       "    }\n",
       "\n",
       "    .dataframe tbody tr th {\n",
       "        vertical-align: top;\n",
       "    }\n",
       "\n",
       "    .dataframe thead th {\n",
       "        text-align: right;\n",
       "    }\n",
       "</style>\n",
       "<table border=\"1\" class=\"dataframe\">\n",
       "  <thead>\n",
       "    <tr style=\"text-align: right;\">\n",
       "      <th></th>\n",
       "      <th>timepoint</th>\n",
       "      <th>weighted_distance_to_future</th>\n",
       "    </tr>\n",
       "  </thead>\n",
       "  <tbody>\n",
       "    <tr>\n",
       "      <th>0</th>\n",
       "      <td>1995-10-01</td>\n",
       "      <td>17.001804</td>\n",
       "    </tr>\n",
       "    <tr>\n",
       "      <th>1</th>\n",
       "      <td>1996-04-01</td>\n",
       "      <td>11.614254</td>\n",
       "    </tr>\n",
       "    <tr>\n",
       "      <th>2</th>\n",
       "      <td>1996-10-01</td>\n",
       "      <td>13.582028</td>\n",
       "    </tr>\n",
       "    <tr>\n",
       "      <th>3</th>\n",
       "      <td>1997-04-01</td>\n",
       "      <td>11.810146</td>\n",
       "    </tr>\n",
       "    <tr>\n",
       "      <th>4</th>\n",
       "      <td>1997-10-01</td>\n",
       "      <td>13.604810</td>\n",
       "    </tr>\n",
       "  </tbody>\n",
       "</table>\n",
       "</div>"
      ],
      "text/plain": [
       "    timepoint  weighted_distance_to_future\n",
       "0  1995-10-01                    17.001804\n",
       "1  1996-04-01                    11.614254\n",
       "2  1996-10-01                    13.582028\n",
       "3  1997-04-01                    11.810146\n",
       "4  1997-10-01                    13.604810"
      ]
     },
     "execution_count": 61,
     "metadata": {},
     "output_type": "execute_result"
    }
   ],
   "source": [
    "mean_distance_to_future_df = df.groupby(\"timepoint\")[\"weighted_distance_to_future\"].mean().reset_index()\n",
    "mean_distance_to_future_df.head()"
   ]
  },
  {
   "cell_type": "code",
   "execution_count": 62,
   "metadata": {},
   "outputs": [
    {
     "data": {
      "text/html": [
       "<div>\n",
       "<style scoped>\n",
       "    .dataframe tbody tr th:only-of-type {\n",
       "        vertical-align: middle;\n",
       "    }\n",
       "\n",
       "    .dataframe tbody tr th {\n",
       "        vertical-align: top;\n",
       "    }\n",
       "\n",
       "    .dataframe thead th {\n",
       "        text-align: right;\n",
       "    }\n",
       "</style>\n",
       "<table border=\"1\" class=\"dataframe\">\n",
       "  <thead>\n",
       "    <tr style=\"text-align: right;\">\n",
       "      <th></th>\n",
       "      <th>timepoint</th>\n",
       "      <th>weighted_distance_to_future</th>\n",
       "    </tr>\n",
       "  </thead>\n",
       "  <tbody>\n",
       "    <tr>\n",
       "      <th>0</th>\n",
       "      <td>1995-10-01</td>\n",
       "      <td>6.311513</td>\n",
       "    </tr>\n",
       "    <tr>\n",
       "      <th>1</th>\n",
       "      <td>1996-04-01</td>\n",
       "      <td>6.750710</td>\n",
       "    </tr>\n",
       "    <tr>\n",
       "      <th>2</th>\n",
       "      <td>1996-10-01</td>\n",
       "      <td>8.973677</td>\n",
       "    </tr>\n",
       "    <tr>\n",
       "      <th>3</th>\n",
       "      <td>1997-04-01</td>\n",
       "      <td>6.382600</td>\n",
       "    </tr>\n",
       "    <tr>\n",
       "      <th>4</th>\n",
       "      <td>1997-10-01</td>\n",
       "      <td>5.828201</td>\n",
       "    </tr>\n",
       "  </tbody>\n",
       "</table>\n",
       "</div>"
      ],
      "text/plain": [
       "    timepoint  weighted_distance_to_future\n",
       "0  1995-10-01                     6.311513\n",
       "1  1996-04-01                     6.750710\n",
       "2  1996-10-01                     8.973677\n",
       "3  1997-04-01                     6.382600\n",
       "4  1997-10-01                     5.828201"
      ]
     },
     "execution_count": 62,
     "metadata": {},
     "output_type": "execute_result"
    }
   ],
   "source": [
    "# Find the minimum weighted distance to the future.\n",
    "minimum_distance_to_future_df = df.groupby(\"timepoint\")[\"weighted_distance_to_future\"].min().reset_index()\n",
    "minimum_distance_to_future_df.head()"
   ]
  },
  {
   "cell_type": "code",
   "execution_count": null,
   "metadata": {},
   "outputs": [],
   "source": []
  },
  {
   "cell_type": "code",
   "execution_count": 63,
   "metadata": {},
   "outputs": [
    {
     "data": {
      "text/html": [
       "<div>\n",
       "<style scoped>\n",
       "    .dataframe tbody tr th:only-of-type {\n",
       "        vertical-align: middle;\n",
       "    }\n",
       "\n",
       "    .dataframe tbody tr th {\n",
       "        vertical-align: top;\n",
       "    }\n",
       "\n",
       "    .dataframe thead th {\n",
       "        text-align: right;\n",
       "    }\n",
       "</style>\n",
       "<table border=\"1\" class=\"dataframe\">\n",
       "  <thead>\n",
       "    <tr style=\"text-align: right;\">\n",
       "      <th></th>\n",
       "      <th>timepoint</th>\n",
       "      <th>weighted_distance_to_future</th>\n",
       "    </tr>\n",
       "  </thead>\n",
       "  <tbody>\n",
       "    <tr>\n",
       "      <th>0</th>\n",
       "      <td>1995-10-01</td>\n",
       "      <td>11.704883</td>\n",
       "    </tr>\n",
       "    <tr>\n",
       "      <th>1</th>\n",
       "      <td>1996-04-01</td>\n",
       "      <td>6.750710</td>\n",
       "    </tr>\n",
       "    <tr>\n",
       "      <th>2</th>\n",
       "      <td>1996-10-01</td>\n",
       "      <td>12.949729</td>\n",
       "    </tr>\n",
       "    <tr>\n",
       "      <th>3</th>\n",
       "      <td>1997-04-01</td>\n",
       "      <td>14.222939</td>\n",
       "    </tr>\n",
       "    <tr>\n",
       "      <th>4</th>\n",
       "      <td>1997-10-01</td>\n",
       "      <td>14.974391</td>\n",
       "    </tr>\n",
       "  </tbody>\n",
       "</table>\n",
       "</div>"
      ],
      "text/plain": [
       "    timepoint  weighted_distance_to_future\n",
       "0  1995-10-01                    11.704883\n",
       "1  1996-04-01                     6.750710\n",
       "2  1996-10-01                    12.949729\n",
       "3  1997-04-01                    14.222939\n",
       "4  1997-10-01                    14.974391"
      ]
     },
     "execution_count": 63,
     "metadata": {},
     "output_type": "execute_result"
    }
   ],
   "source": [
    "estimated_distance_to_future_df = df.sort_values(\n",
    "    [\"timepoint\", \"fitness\"],\n",
    "    ascending=False\n",
    ").groupby(\"timepoint\")[\"weighted_distance_to_future\"].first().reset_index()\n",
    "estimated_distance_to_future_df.head()"
   ]
  },
  {
   "cell_type": "code",
   "execution_count": 65,
   "metadata": {},
   "outputs": [
    {
     "data": {
      "text/plain": [
       "(10178, 10)"
      ]
     },
     "execution_count": 65,
     "metadata": {},
     "output_type": "execute_result"
    }
   ],
   "source": [
    "df.dropna().shape"
   ]
  },
  {
   "cell_type": "code",
   "execution_count": 66,
   "metadata": {},
   "outputs": [],
   "source": [
    "sorted_df = df.dropna().sort_values(\n",
    "    [\"timepoint\"]\n",
    ").copy()"
   ]
  },
  {
   "cell_type": "code",
   "execution_count": 67,
   "metadata": {},
   "outputs": [
    {
     "data": {
      "text/html": [
       "<div>\n",
       "<style scoped>\n",
       "    .dataframe tbody tr th:only-of-type {\n",
       "        vertical-align: middle;\n",
       "    }\n",
       "\n",
       "    .dataframe tbody tr th {\n",
       "        vertical-align: top;\n",
       "    }\n",
       "\n",
       "    .dataframe thead th {\n",
       "        text-align: right;\n",
       "    }\n",
       "</style>\n",
       "<table border=\"1\" class=\"dataframe\">\n",
       "  <thead>\n",
       "    <tr style=\"text-align: right;\">\n",
       "      <th></th>\n",
       "      <th>timepoint</th>\n",
       "      <th>strain</th>\n",
       "      <th>frequency</th>\n",
       "      <th>weighted_distance_to_present</th>\n",
       "      <th>weighted_distance_to_future</th>\n",
       "      <th>fitness</th>\n",
       "      <th>projected_frequency</th>\n",
       "      <th>y</th>\n",
       "      <th>weighted_distance_to_future_by_delta_frequency-ne_star</th>\n",
       "      <th>future_timepoint</th>\n",
       "    </tr>\n",
       "  </thead>\n",
       "  <tbody>\n",
       "    <tr>\n",
       "      <th>0</th>\n",
       "      <td>1995-10-01</td>\n",
       "      <td>A/England/121/1995</td>\n",
       "      <td>0.002912</td>\n",
       "      <td>11.591351</td>\n",
       "      <td>20.301243</td>\n",
       "      <td>-2.290440</td>\n",
       "      <td>0.000001</td>\n",
       "      <td>13.199158</td>\n",
       "      <td>13.199158</td>\n",
       "      <td>1996-10-01</td>\n",
       "    </tr>\n",
       "    <tr>\n",
       "      <th>34</th>\n",
       "      <td>1995-10-01</td>\n",
       "      <td>A/NewYork/676/1995</td>\n",
       "      <td>0.000780</td>\n",
       "      <td>9.856223</td>\n",
       "      <td>13.731768</td>\n",
       "      <td>-0.693091</td>\n",
       "      <td>0.000002</td>\n",
       "      <td>4.220224</td>\n",
       "      <td>4.220224</td>\n",
       "      <td>1996-10-01</td>\n",
       "    </tr>\n",
       "    <tr>\n",
       "      <th>35</th>\n",
       "      <td>1995-10-01</td>\n",
       "      <td>A/NewYork/677/1995</td>\n",
       "      <td>0.008027</td>\n",
       "      <td>9.711338</td>\n",
       "      <td>19.974537</td>\n",
       "      <td>-1.901217</td>\n",
       "      <td>0.000006</td>\n",
       "      <td>12.197774</td>\n",
       "      <td>12.197774</td>\n",
       "      <td>1996-10-01</td>\n",
       "    </tr>\n",
       "    <tr>\n",
       "      <th>36</th>\n",
       "      <td>1995-10-01</td>\n",
       "      <td>A/NewYork/678/1995</td>\n",
       "      <td>0.000932</td>\n",
       "      <td>7.973626</td>\n",
       "      <td>11.763782</td>\n",
       "      <td>2.954340</td>\n",
       "      <td>0.000088</td>\n",
       "      <td>2.373707</td>\n",
       "      <td>2.373707</td>\n",
       "      <td>1996-10-01</td>\n",
       "    </tr>\n",
       "    <tr>\n",
       "      <th>37</th>\n",
       "      <td>1995-10-01</td>\n",
       "      <td>A/NewYork/679/1995</td>\n",
       "      <td>0.016380</td>\n",
       "      <td>9.773594</td>\n",
       "      <td>19.932890</td>\n",
       "      <td>-1.901217</td>\n",
       "      <td>0.000012</td>\n",
       "      <td>12.197777</td>\n",
       "      <td>12.197777</td>\n",
       "      <td>1996-10-01</td>\n",
       "    </tr>\n",
       "  </tbody>\n",
       "</table>\n",
       "</div>"
      ],
      "text/plain": [
       "     timepoint              strain  frequency  weighted_distance_to_present  \\\n",
       "0   1995-10-01  A/England/121/1995   0.002912                     11.591351   \n",
       "34  1995-10-01  A/NewYork/676/1995   0.000780                      9.856223   \n",
       "35  1995-10-01  A/NewYork/677/1995   0.008027                      9.711338   \n",
       "36  1995-10-01  A/NewYork/678/1995   0.000932                      7.973626   \n",
       "37  1995-10-01  A/NewYork/679/1995   0.016380                      9.773594   \n",
       "\n",
       "    weighted_distance_to_future   fitness  projected_frequency          y  \\\n",
       "0                     20.301243 -2.290440             0.000001  13.199158   \n",
       "34                    13.731768 -0.693091             0.000002   4.220224   \n",
       "35                    19.974537 -1.901217             0.000006  12.197774   \n",
       "36                    11.763782  2.954340             0.000088   2.373707   \n",
       "37                    19.932890 -1.901217             0.000012  12.197777   \n",
       "\n",
       "    weighted_distance_to_future_by_delta_frequency-ne_star future_timepoint  \n",
       "0                                           13.199158            1996-10-01  \n",
       "34                                           4.220224            1996-10-01  \n",
       "35                                          12.197774            1996-10-01  \n",
       "36                                           2.373707            1996-10-01  \n",
       "37                                          12.197777            1996-10-01  "
      ]
     },
     "execution_count": 67,
     "metadata": {},
     "output_type": "execute_result"
    }
   ],
   "source": [
    "sorted_df.head()"
   ]
  },
  {
   "cell_type": "code",
   "execution_count": 68,
   "metadata": {},
   "outputs": [],
   "source": [
    "sorted_df[\"timepoint_rank\"] = sorted_df.groupby(\"timepoint\")[\"weighted_distance_to_future\"].rank(pct=True)"
   ]
  },
  {
   "cell_type": "code",
   "execution_count": 69,
   "metadata": {},
   "outputs": [
    {
     "data": {
      "text/html": [
       "<div>\n",
       "<style scoped>\n",
       "    .dataframe tbody tr th:only-of-type {\n",
       "        vertical-align: middle;\n",
       "    }\n",
       "\n",
       "    .dataframe tbody tr th {\n",
       "        vertical-align: top;\n",
       "    }\n",
       "\n",
       "    .dataframe thead th {\n",
       "        text-align: right;\n",
       "    }\n",
       "</style>\n",
       "<table border=\"1\" class=\"dataframe\">\n",
       "  <thead>\n",
       "    <tr style=\"text-align: right;\">\n",
       "      <th></th>\n",
       "      <th>timepoint</th>\n",
       "      <th>strain</th>\n",
       "      <th>frequency</th>\n",
       "      <th>weighted_distance_to_present</th>\n",
       "      <th>weighted_distance_to_future</th>\n",
       "      <th>fitness</th>\n",
       "      <th>projected_frequency</th>\n",
       "      <th>y</th>\n",
       "      <th>weighted_distance_to_future_by_delta_frequency-ne_star</th>\n",
       "      <th>future_timepoint</th>\n",
       "      <th>timepoint_rank</th>\n",
       "    </tr>\n",
       "  </thead>\n",
       "  <tbody>\n",
       "    <tr>\n",
       "      <th>0</th>\n",
       "      <td>1995-10-01</td>\n",
       "      <td>A/England/121/1995</td>\n",
       "      <td>0.002912</td>\n",
       "      <td>11.591351</td>\n",
       "      <td>20.301243</td>\n",
       "      <td>-2.290440</td>\n",
       "      <td>0.000001</td>\n",
       "      <td>13.199158</td>\n",
       "      <td>13.199158</td>\n",
       "      <td>1996-10-01</td>\n",
       "      <td>0.812500</td>\n",
       "    </tr>\n",
       "    <tr>\n",
       "      <th>34</th>\n",
       "      <td>1995-10-01</td>\n",
       "      <td>A/NewYork/676/1995</td>\n",
       "      <td>0.000780</td>\n",
       "      <td>9.856223</td>\n",
       "      <td>13.731768</td>\n",
       "      <td>-0.693091</td>\n",
       "      <td>0.000002</td>\n",
       "      <td>4.220224</td>\n",
       "      <td>4.220224</td>\n",
       "      <td>1996-10-01</td>\n",
       "      <td>0.304688</td>\n",
       "    </tr>\n",
       "    <tr>\n",
       "      <th>35</th>\n",
       "      <td>1995-10-01</td>\n",
       "      <td>A/NewYork/677/1995</td>\n",
       "      <td>0.008027</td>\n",
       "      <td>9.711338</td>\n",
       "      <td>19.974537</td>\n",
       "      <td>-1.901217</td>\n",
       "      <td>0.000006</td>\n",
       "      <td>12.197774</td>\n",
       "      <td>12.197774</td>\n",
       "      <td>1996-10-01</td>\n",
       "      <td>0.781250</td>\n",
       "    </tr>\n",
       "    <tr>\n",
       "      <th>36</th>\n",
       "      <td>1995-10-01</td>\n",
       "      <td>A/NewYork/678/1995</td>\n",
       "      <td>0.000932</td>\n",
       "      <td>7.973626</td>\n",
       "      <td>11.763782</td>\n",
       "      <td>2.954340</td>\n",
       "      <td>0.000088</td>\n",
       "      <td>2.373707</td>\n",
       "      <td>2.373707</td>\n",
       "      <td>1996-10-01</td>\n",
       "      <td>0.132812</td>\n",
       "    </tr>\n",
       "    <tr>\n",
       "      <th>37</th>\n",
       "      <td>1995-10-01</td>\n",
       "      <td>A/NewYork/679/1995</td>\n",
       "      <td>0.016380</td>\n",
       "      <td>9.773594</td>\n",
       "      <td>19.932890</td>\n",
       "      <td>-1.901217</td>\n",
       "      <td>0.000012</td>\n",
       "      <td>12.197777</td>\n",
       "      <td>12.197777</td>\n",
       "      <td>1996-10-01</td>\n",
       "      <td>0.703125</td>\n",
       "    </tr>\n",
       "  </tbody>\n",
       "</table>\n",
       "</div>"
      ],
      "text/plain": [
       "     timepoint              strain  frequency  weighted_distance_to_present  \\\n",
       "0   1995-10-01  A/England/121/1995   0.002912                     11.591351   \n",
       "34  1995-10-01  A/NewYork/676/1995   0.000780                      9.856223   \n",
       "35  1995-10-01  A/NewYork/677/1995   0.008027                      9.711338   \n",
       "36  1995-10-01  A/NewYork/678/1995   0.000932                      7.973626   \n",
       "37  1995-10-01  A/NewYork/679/1995   0.016380                      9.773594   \n",
       "\n",
       "    weighted_distance_to_future   fitness  projected_frequency          y  \\\n",
       "0                     20.301243 -2.290440             0.000001  13.199158   \n",
       "34                    13.731768 -0.693091             0.000002   4.220224   \n",
       "35                    19.974537 -1.901217             0.000006  12.197774   \n",
       "36                    11.763782  2.954340             0.000088   2.373707   \n",
       "37                    19.932890 -1.901217             0.000012  12.197777   \n",
       "\n",
       "    weighted_distance_to_future_by_delta_frequency-ne_star future_timepoint  \\\n",
       "0                                           13.199158            1996-10-01   \n",
       "34                                           4.220224            1996-10-01   \n",
       "35                                          12.197774            1996-10-01   \n",
       "36                                           2.373707            1996-10-01   \n",
       "37                                          12.197777            1996-10-01   \n",
       "\n",
       "    timepoint_rank  \n",
       "0         0.812500  \n",
       "34        0.304688  \n",
       "35        0.781250  \n",
       "36        0.132812  \n",
       "37        0.703125  "
      ]
     },
     "execution_count": 69,
     "metadata": {},
     "output_type": "execute_result"
    }
   ],
   "source": [
    "sorted_df.head(5)"
   ]
  },
  {
   "cell_type": "code",
   "execution_count": 70,
   "metadata": {},
   "outputs": [],
   "source": [
    "best_fitness_rank_by_timepoint_df = sorted_df.sort_values(\n",
    "    [\"timepoint\", \"fitness\"],\n",
    "    ascending=False\n",
    ").groupby(\"timepoint\")[\"timepoint_rank\"].first().reset_index()"
   ]
  },
  {
   "cell_type": "code",
   "execution_count": 71,
   "metadata": {},
   "outputs": [
    {
     "data": {
      "text/html": [
       "<div>\n",
       "<style scoped>\n",
       "    .dataframe tbody tr th:only-of-type {\n",
       "        vertical-align: middle;\n",
       "    }\n",
       "\n",
       "    .dataframe tbody tr th {\n",
       "        vertical-align: top;\n",
       "    }\n",
       "\n",
       "    .dataframe thead th {\n",
       "        text-align: right;\n",
       "    }\n",
       "</style>\n",
       "<table border=\"1\" class=\"dataframe\">\n",
       "  <thead>\n",
       "    <tr style=\"text-align: right;\">\n",
       "      <th></th>\n",
       "      <th>timepoint</th>\n",
       "      <th>timepoint_rank</th>\n",
       "    </tr>\n",
       "  </thead>\n",
       "  <tbody>\n",
       "    <tr>\n",
       "      <th>0</th>\n",
       "      <td>1995-10-01</td>\n",
       "      <td>0.234375</td>\n",
       "    </tr>\n",
       "    <tr>\n",
       "      <th>1</th>\n",
       "      <td>1996-04-01</td>\n",
       "      <td>0.043478</td>\n",
       "    </tr>\n",
       "    <tr>\n",
       "      <th>2</th>\n",
       "      <td>1996-10-01</td>\n",
       "      <td>0.483871</td>\n",
       "    </tr>\n",
       "    <tr>\n",
       "      <th>3</th>\n",
       "      <td>1997-04-01</td>\n",
       "      <td>0.766667</td>\n",
       "    </tr>\n",
       "    <tr>\n",
       "      <th>4</th>\n",
       "      <td>1997-10-01</td>\n",
       "      <td>0.612676</td>\n",
       "    </tr>\n",
       "  </tbody>\n",
       "</table>\n",
       "</div>"
      ],
      "text/plain": [
       "    timepoint  timepoint_rank\n",
       "0  1995-10-01        0.234375\n",
       "1  1996-04-01        0.043478\n",
       "2  1996-10-01        0.483871\n",
       "3  1997-04-01        0.766667\n",
       "4  1997-10-01        0.612676"
      ]
     },
     "execution_count": 71,
     "metadata": {},
     "output_type": "execute_result"
    }
   ],
   "source": [
    "best_fitness_rank_by_timepoint_df.head()"
   ]
  },
  {
   "cell_type": "code",
   "execution_count": 81,
   "metadata": {},
   "outputs": [
    {
     "data": {
      "text/plain": [
       "array([0.  , 0.05, 0.1 , 0.15, 0.2 , 0.25, 0.3 , 0.35, 0.4 , 0.45, 0.5 ,\n",
       "       0.55, 0.6 , 0.65, 0.7 , 0.75, 0.8 , 0.85, 0.9 , 0.95, 1.  ])"
      ]
     },
     "execution_count": 81,
     "metadata": {},
     "output_type": "execute_result"
    }
   ],
   "source": [
    "np.arange(0, 1.01, 0.05)"
   ]
  },
  {
   "cell_type": "code",
   "execution_count": 80,
   "metadata": {},
   "outputs": [
    {
     "data": {
      "text/plain": [
       "Text(0,0.5,'Number of timepoints')"
      ]
     },
     "execution_count": 80,
     "metadata": {},
     "output_type": "execute_result"
    },
    {
     "data": {
      "image/png": "[encoded data removed]",
      "text/plain": [
       "<Figure size 1200x800 with 1 Axes>"
      ]
     },
     "metadata": {},
     "output_type": "display_data"
    }
   ],
   "source": [
    "fig, ax = plt.subplots(1, 1, figsize=(6, 4))\n",
    "ax.hist(best_fitness_rank_by_timepoint_df[\"timepoint_rank\"], bins=np.arange(0, 1.01, 0.05))\n",
    "ax.set_xlabel(\"Percentile rank of distance for fittest strain\")\n",
    "ax.set_ylabel(\"Number of timepoints\")"
   ]
  },
  {
   "cell_type": "code",
   "execution_count": 92,
   "metadata": {},
   "outputs": [
    {
     "data": {
      "text/plain": [
       "26"
      ]
     },
     "execution_count": 92,
     "metadata": {},
     "output_type": "execute_result"
    }
   ],
   "source": [
    "timepoints_in_lowest_20_pct = (best_fitness_rank_by_timepoint_df[\"timepoint_rank\"] < 0.2).sum()\n",
    "timepoints_in_lowest_20_pct"
   ]
  },
  {
   "cell_type": "code",
   "execution_count": 93,
   "metadata": {},
   "outputs": [
    {
     "data": {
      "text/plain": [
       "39"
      ]
     },
     "execution_count": 93,
     "metadata": {},
     "output_type": "execute_result"
    }
   ],
   "source": [
    "total_timepoints = best_fitness_rank_by_timepoint_df.shape[0]\n",
    "total_timepoints"
   ]
  },
  {
   "cell_type": "code",
   "execution_count": 94,
   "metadata": {},
   "outputs": [
    {
     "data": {
      "text/plain": [
       "0.6666666666666666"
      ]
     },
     "execution_count": 94,
     "metadata": {},
     "output_type": "execute_result"
    }
   ],
   "source": [
    "timepoints_in_lowest_20_pct / float(total_timepoints)"
   ]
  },
  {
   "cell_type": "code",
   "execution_count": 73,
   "metadata": {},
   "outputs": [
    {
     "data": {
      "text/html": [
       "<div>\n",
       "<style scoped>\n",
       "    .dataframe tbody tr th:only-of-type {\n",
       "        vertical-align: middle;\n",
       "    }\n",
       "\n",
       "    .dataframe tbody tr th {\n",
       "        vertical-align: top;\n",
       "    }\n",
       "\n",
       "    .dataframe thead th {\n",
       "        text-align: right;\n",
       "    }\n",
       "</style>\n",
       "<table border=\"1\" class=\"dataframe\">\n",
       "  <thead>\n",
       "    <tr style=\"text-align: right;\">\n",
       "      <th></th>\n",
       "      <th>timepoint</th>\n",
       "      <th>weighted_distance_to_future_mean</th>\n",
       "      <th>weighted_distance_to_future_observed</th>\n",
       "      <th>weighted_distance_to_future</th>\n",
       "    </tr>\n",
       "  </thead>\n",
       "  <tbody>\n",
       "    <tr>\n",
       "      <th>0</th>\n",
       "      <td>1995-10-01</td>\n",
       "      <td>17.001804</td>\n",
       "      <td>6.311513</td>\n",
       "      <td>11.704883</td>\n",
       "    </tr>\n",
       "    <tr>\n",
       "      <th>1</th>\n",
       "      <td>1996-04-01</td>\n",
       "      <td>11.614254</td>\n",
       "      <td>6.750710</td>\n",
       "      <td>6.750710</td>\n",
       "    </tr>\n",
       "    <tr>\n",
       "      <th>2</th>\n",
       "      <td>1996-10-01</td>\n",
       "      <td>13.582028</td>\n",
       "      <td>8.973677</td>\n",
       "      <td>12.949729</td>\n",
       "    </tr>\n",
       "    <tr>\n",
       "      <th>3</th>\n",
       "      <td>1997-04-01</td>\n",
       "      <td>11.810146</td>\n",
       "      <td>6.382600</td>\n",
       "      <td>14.222939</td>\n",
       "    </tr>\n",
       "    <tr>\n",
       "      <th>4</th>\n",
       "      <td>1997-10-01</td>\n",
       "      <td>13.604810</td>\n",
       "      <td>5.828201</td>\n",
       "      <td>14.974391</td>\n",
       "    </tr>\n",
       "  </tbody>\n",
       "</table>\n",
       "</div>"
      ],
      "text/plain": [
       "    timepoint  weighted_distance_to_future_mean  \\\n",
       "0  1995-10-01                         17.001804   \n",
       "1  1996-04-01                         11.614254   \n",
       "2  1996-10-01                         13.582028   \n",
       "3  1997-04-01                         11.810146   \n",
       "4  1997-10-01                         13.604810   \n",
       "\n",
       "   weighted_distance_to_future_observed  weighted_distance_to_future  \n",
       "0                              6.311513                    11.704883  \n",
       "1                              6.750710                     6.750710  \n",
       "2                              8.973677                    12.949729  \n",
       "3                              6.382600                    14.222939  \n",
       "4                              5.828201                    14.974391  "
      ]
     },
     "execution_count": 73,
     "metadata": {},
     "output_type": "execute_result"
    }
   ],
   "source": [
    "distance_df = mean_distance_to_future_df.merge(\n",
    "    minimum_distance_to_future_df,\n",
    "    on=\"timepoint\",\n",
    "    suffixes=[\"_mean\", \"_observed\"]\n",
    ").merge(\n",
    "    estimated_distance_to_future_df,\n",
    "    on=\"timepoint\"\n",
    ")\n",
    "distance_df.head()"
   ]
  },
  {
   "cell_type": "code",
   "execution_count": 74,
   "metadata": {},
   "outputs": [
    {
     "data": {
      "text/html": [
       "<div>\n",
       "<style scoped>\n",
       "    .dataframe tbody tr th:only-of-type {\n",
       "        vertical-align: middle;\n",
       "    }\n",
       "\n",
       "    .dataframe tbody tr th {\n",
       "        vertical-align: top;\n",
       "    }\n",
       "\n",
       "    .dataframe thead th {\n",
       "        text-align: right;\n",
       "    }\n",
       "</style>\n",
       "<table border=\"1\" class=\"dataframe\">\n",
       "  <thead>\n",
       "    <tr style=\"text-align: right;\">\n",
       "      <th></th>\n",
       "      <th>timepoint</th>\n",
       "      <th>weighted_distance_to_future_mean</th>\n",
       "      <th>weighted_distance_to_future_observed</th>\n",
       "      <th>weighted_distance_to_future</th>\n",
       "      <th>distance_predicted</th>\n",
       "      <th>distance_minimum</th>\n",
       "    </tr>\n",
       "  </thead>\n",
       "  <tbody>\n",
       "    <tr>\n",
       "      <th>0</th>\n",
       "      <td>1995-10-01</td>\n",
       "      <td>17.001804</td>\n",
       "      <td>6.311513</td>\n",
       "      <td>11.704883</td>\n",
       "      <td>0.688449</td>\n",
       "      <td>0.371226</td>\n",
       "    </tr>\n",
       "    <tr>\n",
       "      <th>1</th>\n",
       "      <td>1996-04-01</td>\n",
       "      <td>11.614254</td>\n",
       "      <td>6.750710</td>\n",
       "      <td>6.750710</td>\n",
       "      <td>0.581244</td>\n",
       "      <td>0.581244</td>\n",
       "    </tr>\n",
       "    <tr>\n",
       "      <th>2</th>\n",
       "      <td>1996-10-01</td>\n",
       "      <td>13.582028</td>\n",
       "      <td>8.973677</td>\n",
       "      <td>12.949729</td>\n",
       "      <td>0.953446</td>\n",
       "      <td>0.660702</td>\n",
       "    </tr>\n",
       "    <tr>\n",
       "      <th>3</th>\n",
       "      <td>1997-04-01</td>\n",
       "      <td>11.810146</td>\n",
       "      <td>6.382600</td>\n",
       "      <td>14.222939</td>\n",
       "      <td>1.204298</td>\n",
       "      <td>0.540434</td>\n",
       "    </tr>\n",
       "    <tr>\n",
       "      <th>4</th>\n",
       "      <td>1997-10-01</td>\n",
       "      <td>13.604810</td>\n",
       "      <td>5.828201</td>\n",
       "      <td>14.974391</td>\n",
       "      <td>1.100669</td>\n",
       "      <td>0.428393</td>\n",
       "    </tr>\n",
       "  </tbody>\n",
       "</table>\n",
       "</div>"
      ],
      "text/plain": [
       "    timepoint  weighted_distance_to_future_mean  \\\n",
       "0  1995-10-01                         17.001804   \n",
       "1  1996-04-01                         11.614254   \n",
       "2  1996-10-01                         13.582028   \n",
       "3  1997-04-01                         11.810146   \n",
       "4  1997-10-01                         13.604810   \n",
       "\n",
       "   weighted_distance_to_future_observed  weighted_distance_to_future  \\\n",
       "0                              6.311513                    11.704883   \n",
       "1                              6.750710                     6.750710   \n",
       "2                              8.973677                    12.949729   \n",
       "3                              6.382600                    14.222939   \n",
       "4                              5.828201                    14.974391   \n",
       "\n",
       "   distance_predicted  distance_minimum  \n",
       "0            0.688449          0.371226  \n",
       "1            0.581244          0.581244  \n",
       "2            0.953446          0.660702  \n",
       "3            1.204298          0.540434  \n",
       "4            1.100669          0.428393  "
      ]
     },
     "execution_count": 74,
     "metadata": {},
     "output_type": "execute_result"
    }
   ],
   "source": [
    "distance_df[\"distance_predicted\"] = distance_df[\"weighted_distance_to_future\"] / distance_df[\"weighted_distance_to_future_mean\"]\n",
    "distance_df[\"distance_minimum\"] = distance_df[\"weighted_distance_to_future_observed\"] / distance_df[\"weighted_distance_to_future_mean\"]\n",
    "distance_df.head()"
   ]
  },
  {
   "cell_type": "code",
   "execution_count": 75,
   "metadata": {},
   "outputs": [
    {
     "data": {
      "text/plain": [
       "Text(0,0.5,'$\\\\Delta$(prediction)')"
      ]
     },
     "execution_count": 75,
     "metadata": {},
     "output_type": "execute_result"
    },
    {
     "data": {
      "image/png": "[encoded data removed]",
      "text/plain": [
       "<Figure size 800x800 with 1 Axes>"
      ]
     },
     "metadata": {},
     "output_type": "display_data"
    }
   ],
   "source": [
    "fig, ax = plt.subplots(1, 1, figsize=(4, 4))\n",
    "\n",
    "max_distance = max(distance_df[\"distance_predicted\"].max(), distance_df[\"distance_minimum\"].max())\n",
    "line = np.linspace(\n",
    "    0,\n",
    "    max_distance,\n",
    "    10\n",
    ")\n",
    "\n",
    "ax.plot(\n",
    "    distance_df[\"distance_minimum\"],\n",
    "    distance_df[\"distance_predicted\"],\n",
    "    \"o\",\n",
    "    alpha=0.75\n",
    ")\n",
    "\n",
    "ax.plot(line, line, color=\"#cccccc\", zorder=-10)\n",
    "ax.axhline(y=1, color=\"#cccccc\", linestyle=\"--\", zorder=-10)\n",
    "\n",
    "ticks = np.arange(0, max_distance + 0.2, 0.2)\n",
    "ax.set_xticks(ticks)\n",
    "ax.set_yticks(ticks)\n",
    "\n",
    "ax.set_xlabel(\"$\\Delta$(minimal)\")\n",
    "ax.set_ylabel(\"$\\Delta$(prediction)\")"
   ]
  },
  {
   "cell_type": "code",
   "execution_count": null,
   "metadata": {},
   "outputs": [],
   "source": []
  },
  {
   "cell_type": "code",
   "execution_count": null,
   "metadata": {},
   "outputs": [],
   "source": []
  }
 ],
 "metadata": {
  "kernelspec": {
   "display_name": "Python 3",
   "language": "python",
   "name": "python3"
  },
  "language_info": {
   "codemirror_mode": {
    "name": "ipython",
    "version": 3
   },
   "file_extension": ".py",
   "mimetype": "text/x-python",
   "name": "python",
   "nbconvert_exporter": "python",
   "pygments_lexer": "ipython3",
   "version": "3.6.7"
  }
 },
 "nbformat": 4,
 "nbformat_minor": 4
}
