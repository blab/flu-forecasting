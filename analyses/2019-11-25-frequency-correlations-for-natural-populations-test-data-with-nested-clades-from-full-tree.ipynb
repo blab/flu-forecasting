{
 "cells": [
  {
   "cell_type": "markdown",
   "metadata": {},
   "source": [
    "# Frequency correlation plots for natural populations test data with nested clades from a full tree\n",
    "\n",
    "Example code for how to calculate frequency correlation plots from augur forecasting builds."
   ]
  },
  {
   "cell_type": "code",
   "execution_count": 1,
   "metadata": {},
   "outputs": [],
   "source": [
    "import altair as alt\n",
    "import matplotlib as mpl\n",
    "import matplotlib.pyplot as plt\n",
    "import matplotlib.gridspec as gridspec\n",
    "import numpy as np\n",
    "import pandas as pd\n",
    "from scipy.stats import pearsonr\n",
    "import seaborn as sns\n",
    "\n",
    "%matplotlib inline"
   ]
  },
  {
   "cell_type": "code",
   "execution_count": 2,
   "metadata": {},
   "outputs": [],
   "source": [
    "sns.set_style(\"white\")\n",
    "plt.style.use(\"huddlej\")"
   ]
  },
  {
   "cell_type": "code",
   "execution_count": 3,
   "metadata": {},
   "outputs": [],
   "source": [
    "mpl.rcParams['savefig.dpi'] = 200\n",
    "mpl.rcParams['figure.dpi'] = 200\n",
    "mpl.rcParams['font.weight'] = 300\n",
    "mpl.rcParams['axes.labelweight'] = 300\n",
    "mpl.rcParams['font.size'] = 18"
   ]
  },
  {
   "cell_type": "code",
   "execution_count": 4,
   "metadata": {},
   "outputs": [
    {
     "name": "stdout",
     "output_type": "stream",
     "text": [
      "/Users/jlhudd/projects/nextstrain/flu-forecasting/analyses\n"
     ]
    }
   ],
   "source": [
    "!pwd"
   ]
  },
  {
   "cell_type": "code",
   "execution_count": 5,
   "metadata": {},
   "outputs": [],
   "source": [
    "def matthews_correlation_coefficient(tp, tn, fp, fn):\n",
    "    \"\"\"Return Matthews correlation coefficient for values from a confusion matrix.\n",
    "    Implementation is based on the definition from wikipedia:\n",
    "\n",
    "    https://en.wikipedia.org/wiki/Matthews_correlation_coefficient\n",
    "    \"\"\"\n",
    "    numerator = (tp * tn) - (fp * fn)\n",
    "    denominator = np.sqrt((tp + fp) * (tp + fn) * (tn + fp) * (tn + fn))\n",
    "    if denominator == 0:\n",
    "            denominator = 1\n",
    "\n",
    "    return float(numerator) / denominator\n",
    "\n",
    "def get_matthews_correlation_coefficient_for_data_frame(freq_df, return_confusion_matrix=False):\n",
    "        \"\"\"Calculate Matthew's correlation coefficient from a given pandas data frame\n",
    "        with columns for initial, observed, and predicted frequencies.\n",
    "        \"\"\"\n",
    "        observed_growth = (freq_df[\"frequency_final\"] > freq_df[\"frequency\"])\n",
    "        predicted_growth = (freq_df[\"projected_frequency\"] > freq_df[\"frequency\"])\n",
    "        true_positives = ((observed_growth) & (predicted_growth)).sum()\n",
    "        false_positives= ((~observed_growth) & (predicted_growth)).sum()\n",
    "\n",
    "        observed_decline = (freq_df[\"frequency_final\"] < freq_df[\"frequency\"])\n",
    "        predicted_decline = (freq_df[\"projected_frequency\"] < freq_df[\"frequency\"])\n",
    "        true_negatives = ((observed_decline) & (predicted_decline)).sum()\n",
    "        false_negatives = ((~observed_decline) & (predicted_decline)).sum()\n",
    "\n",
    "        mcc = matthews_correlation_coefficient(\n",
    "            true_positives,\n",
    "            true_negatives,\n",
    "            false_positives,\n",
    "            false_negatives\n",
    "        )\n",
    "\n",
    "        if return_confusion_matrix:\n",
    "            confusion_matrix = {\n",
    "                \"tp\": true_positives,\n",
    "                \"tn\": true_negatives,\n",
    "                \"fp\": false_positives,\n",
    "                \"fn\": false_negatives\n",
    "            }\n",
    "            \n",
    "            return mcc, confusion_matrix\n",
    "        else:\n",
    "            return mcc"
   ]
  },
  {
   "cell_type": "markdown",
   "metadata": {},
   "source": [
    "## Load data"
   ]
  },
  {
   "cell_type": "code",
   "execution_count": 6,
   "metadata": {},
   "outputs": [],
   "source": [
    "min_clade_frequency = 0.15"
   ]
  },
  {
   "cell_type": "code",
   "execution_count": 7,
   "metadata": {},
   "outputs": [],
   "source": [
    "precision = 4"
   ]
  },
  {
   "cell_type": "code",
   "execution_count": 8,
   "metadata": {},
   "outputs": [],
   "source": [
    "data_root = \"../results/builds/natural/natural_sample_1_with_90_vpm_sliding_test_tree\""
   ]
  },
  {
   "cell_type": "code",
   "execution_count": 9,
   "metadata": {},
   "outputs": [],
   "source": [
    "data_root_full_tree = \"../results/builds/natural/natural_sample_1_with_90_vpm_sliding_full_test_tree\""
   ]
  },
  {
   "cell_type": "code",
   "execution_count": 10,
   "metadata": {},
   "outputs": [],
   "source": [
    "first_validation_timepoint = \"2003-10-01\""
   ]
  },
  {
   "cell_type": "code",
   "execution_count": 11,
   "metadata": {},
   "outputs": [],
   "source": [
    "tips = pd.read_csv(\n",
    "    \"%s/tip_attributes_with_weighted_distances.tsv\" % data_root,\n",
    "    sep=\"\\t\",\n",
    "    parse_dates=[\"timepoint\"],\n",
    "    usecols=[\"strain\", \"timepoint\", \"frequency\"]\n",
    ")"
   ]
  },
  {
   "cell_type": "code",
   "execution_count": 12,
   "metadata": {},
   "outputs": [],
   "source": [
    "tips = tips.query(\"timepoint >= '%s'\" % first_validation_timepoint).copy()"
   ]
  },
  {
   "cell_type": "code",
   "execution_count": 13,
   "metadata": {},
   "outputs": [],
   "source": [
    "#tips = np.round(tips, precision)"
   ]
  },
  {
   "cell_type": "code",
   "execution_count": 14,
   "metadata": {},
   "outputs": [
    {
     "data": {
      "text/html": [
       "<div>\n",
       "<style scoped>\n",
       "    .dataframe tbody tr th:only-of-type {\n",
       "        vertical-align: middle;\n",
       "    }\n",
       "\n",
       "    .dataframe tbody tr th {\n",
       "        vertical-align: top;\n",
       "    }\n",
       "\n",
       "    .dataframe thead th {\n",
       "        text-align: right;\n",
       "    }\n",
       "</style>\n",
       "<table border=\"1\" class=\"dataframe\">\n",
       "  <thead>\n",
       "    <tr style=\"text-align: right;\">\n",
       "      <th></th>\n",
       "      <th>strain</th>\n",
       "      <th>timepoint</th>\n",
       "      <th>frequency</th>\n",
       "    </tr>\n",
       "  </thead>\n",
       "  <tbody>\n",
       "    <tr>\n",
       "      <th>0</th>\n",
       "      <td>A/Acre/133946-IEC/2015</td>\n",
       "      <td>2015-04-01</td>\n",
       "      <td>0.0011</td>\n",
       "    </tr>\n",
       "  </tbody>\n",
       "</table>\n",
       "</div>"
      ],
      "text/plain": [
       "                   strain  timepoint  frequency\n",
       "0  A/Acre/133946-IEC/2015 2015-04-01     0.0011"
      ]
     },
     "execution_count": 14,
     "metadata": {},
     "output_type": "execute_result"
    }
   ],
   "source": [
    "np.round(tips.head(1), precision)"
   ]
  },
  {
   "cell_type": "code",
   "execution_count": 15,
   "metadata": {},
   "outputs": [
    {
     "data": {
      "text/plain": [
       "10101"
      ]
     },
     "execution_count": 15,
     "metadata": {},
     "output_type": "execute_result"
    }
   ],
   "source": [
    "(tips[\"frequency\"] > 0).sum()"
   ]
  },
  {
   "cell_type": "code",
   "execution_count": 16,
   "metadata": {},
   "outputs": [],
   "source": [
    "tips_to_clades = pd.read_csv(\"%s/tips_to_clades.tsv\" % data_root_full_tree, sep=\"\\t\",\n",
    "                             usecols=[\"tip\", \"clade_membership\", \"depth\"])"
   ]
  },
  {
   "cell_type": "code",
   "execution_count": 17,
   "metadata": {},
   "outputs": [],
   "source": [
    "tips_to_clades = tips_to_clades.rename(columns={\"tip\": \"strain\"})"
   ]
  },
  {
   "cell_type": "code",
   "execution_count": 18,
   "metadata": {},
   "outputs": [
    {
     "data": {
      "text/html": [
       "<div>\n",
       "<style scoped>\n",
       "    .dataframe tbody tr th:only-of-type {\n",
       "        vertical-align: middle;\n",
       "    }\n",
       "\n",
       "    .dataframe tbody tr th {\n",
       "        vertical-align: top;\n",
       "    }\n",
       "\n",
       "    .dataframe thead th {\n",
       "        text-align: right;\n",
       "    }\n",
       "</style>\n",
       "<table border=\"1\" class=\"dataframe\">\n",
       "  <thead>\n",
       "    <tr style=\"text-align: right;\">\n",
       "      <th></th>\n",
       "      <th>strain</th>\n",
       "      <th>clade_membership</th>\n",
       "      <th>depth</th>\n",
       "    </tr>\n",
       "  </thead>\n",
       "  <tbody>\n",
       "    <tr>\n",
       "      <th>0</th>\n",
       "      <td>A/HongKong/33726/2009</td>\n",
       "      <td>4def4f1</td>\n",
       "      <td>0</td>\n",
       "    </tr>\n",
       "    <tr>\n",
       "      <th>1</th>\n",
       "      <td>A/HongKong/33726/2009</td>\n",
       "      <td>db0af5e</td>\n",
       "      <td>2</td>\n",
       "    </tr>\n",
       "    <tr>\n",
       "      <th>2</th>\n",
       "      <td>A/HongKong/33726/2009</td>\n",
       "      <td>41bb3e2</td>\n",
       "      <td>3</td>\n",
       "    </tr>\n",
       "    <tr>\n",
       "      <th>3</th>\n",
       "      <td>A/HongKong/33726/2009</td>\n",
       "      <td>f321e53</td>\n",
       "      <td>5</td>\n",
       "    </tr>\n",
       "    <tr>\n",
       "      <th>4</th>\n",
       "      <td>A/Shandong-Zhifu/1203/2009</td>\n",
       "      <td>4def4f1</td>\n",
       "      <td>0</td>\n",
       "    </tr>\n",
       "    <tr>\n",
       "      <th>5</th>\n",
       "      <td>A/Shandong-Zhifu/1203/2009</td>\n",
       "      <td>db0af5e</td>\n",
       "      <td>2</td>\n",
       "    </tr>\n",
       "    <tr>\n",
       "      <th>6</th>\n",
       "      <td>A/Shandong-Zhifu/1203/2009</td>\n",
       "      <td>41bb3e2</td>\n",
       "      <td>3</td>\n",
       "    </tr>\n",
       "    <tr>\n",
       "      <th>7</th>\n",
       "      <td>A/Shandong-Zhifu/1203/2009</td>\n",
       "      <td>f321e53</td>\n",
       "      <td>5</td>\n",
       "    </tr>\n",
       "    <tr>\n",
       "      <th>8</th>\n",
       "      <td>A/Gothenburg/3/2009</td>\n",
       "      <td>db0af5e</td>\n",
       "      <td>0</td>\n",
       "    </tr>\n",
       "    <tr>\n",
       "      <th>9</th>\n",
       "      <td>A/Gothenburg/3/2009</td>\n",
       "      <td>41bb3e2</td>\n",
       "      <td>3</td>\n",
       "    </tr>\n",
       "    <tr>\n",
       "      <th>10</th>\n",
       "      <td>A/Gothenburg/3/2009</td>\n",
       "      <td>f321e53</td>\n",
       "      <td>5</td>\n",
       "    </tr>\n",
       "    <tr>\n",
       "      <th>11</th>\n",
       "      <td>A/Nigeria/1/2009</td>\n",
       "      <td>db0af5e</td>\n",
       "      <td>0</td>\n",
       "    </tr>\n",
       "    <tr>\n",
       "      <th>12</th>\n",
       "      <td>A/Nigeria/1/2009</td>\n",
       "      <td>41bb3e2</td>\n",
       "      <td>3</td>\n",
       "    </tr>\n",
       "    <tr>\n",
       "      <th>13</th>\n",
       "      <td>A/Nigeria/1/2009</td>\n",
       "      <td>f321e53</td>\n",
       "      <td>5</td>\n",
       "    </tr>\n",
       "    <tr>\n",
       "      <th>14</th>\n",
       "      <td>A/JiangxiQingyunpu/35/2009</td>\n",
       "      <td>eaefcd6</td>\n",
       "      <td>0</td>\n",
       "    </tr>\n",
       "    <tr>\n",
       "      <th>15</th>\n",
       "      <td>A/JiangxiQingyunpu/35/2009</td>\n",
       "      <td>41bb3e2</td>\n",
       "      <td>3</td>\n",
       "    </tr>\n",
       "    <tr>\n",
       "      <th>16</th>\n",
       "      <td>A/JiangxiQingyunpu/35/2009</td>\n",
       "      <td>f321e53</td>\n",
       "      <td>5</td>\n",
       "    </tr>\n",
       "    <tr>\n",
       "      <th>17</th>\n",
       "      <td>A/JiangxiDonghu/153/2009</td>\n",
       "      <td>eaefcd6</td>\n",
       "      <td>0</td>\n",
       "    </tr>\n",
       "    <tr>\n",
       "      <th>18</th>\n",
       "      <td>A/JiangxiDonghu/153/2009</td>\n",
       "      <td>41bb3e2</td>\n",
       "      <td>3</td>\n",
       "    </tr>\n",
       "    <tr>\n",
       "      <th>19</th>\n",
       "      <td>A/JiangxiDonghu/153/2009</td>\n",
       "      <td>f321e53</td>\n",
       "      <td>5</td>\n",
       "    </tr>\n",
       "  </tbody>\n",
       "</table>\n",
       "</div>"
      ],
      "text/plain": [
       "                        strain clade_membership  depth\n",
       "0        A/HongKong/33726/2009          4def4f1      0\n",
       "1        A/HongKong/33726/2009          db0af5e      2\n",
       "2        A/HongKong/33726/2009          41bb3e2      3\n",
       "3        A/HongKong/33726/2009          f321e53      5\n",
       "4   A/Shandong-Zhifu/1203/2009          4def4f1      0\n",
       "5   A/Shandong-Zhifu/1203/2009          db0af5e      2\n",
       "6   A/Shandong-Zhifu/1203/2009          41bb3e2      3\n",
       "7   A/Shandong-Zhifu/1203/2009          f321e53      5\n",
       "8          A/Gothenburg/3/2009          db0af5e      0\n",
       "9          A/Gothenburg/3/2009          41bb3e2      3\n",
       "10         A/Gothenburg/3/2009          f321e53      5\n",
       "11            A/Nigeria/1/2009          db0af5e      0\n",
       "12            A/Nigeria/1/2009          41bb3e2      3\n",
       "13            A/Nigeria/1/2009          f321e53      5\n",
       "14  A/JiangxiQingyunpu/35/2009          eaefcd6      0\n",
       "15  A/JiangxiQingyunpu/35/2009          41bb3e2      3\n",
       "16  A/JiangxiQingyunpu/35/2009          f321e53      5\n",
       "17    A/JiangxiDonghu/153/2009          eaefcd6      0\n",
       "18    A/JiangxiDonghu/153/2009          41bb3e2      3\n",
       "19    A/JiangxiDonghu/153/2009          f321e53      5"
      ]
     },
     "execution_count": 18,
     "metadata": {},
     "output_type": "execute_result"
    }
   ],
   "source": [
    "tips_to_clades.head(20)"
   ]
  },
  {
   "cell_type": "code",
   "execution_count": 19,
   "metadata": {},
   "outputs": [
    {
     "data": {
      "text/plain": [
       "(232803, 3)"
      ]
     },
     "execution_count": 19,
     "metadata": {},
     "output_type": "execute_result"
    }
   ],
   "source": [
    "tips_to_clades.shape"
   ]
  },
  {
   "cell_type": "code",
   "execution_count": 20,
   "metadata": {},
   "outputs": [],
   "source": [
    "forecasts = pd.read_csv(\n",
    "    \"%s/forecasts.tsv\" % data_root,\n",
    "    sep=\"\\t\",\n",
    "    parse_dates=[\"timepoint\"],\n",
    "    usecols=[\"timepoint\", \"strain\", \"frequency\", \"projected_frequency\"]\n",
    ")"
   ]
  },
  {
   "cell_type": "code",
   "execution_count": 21,
   "metadata": {},
   "outputs": [],
   "source": [
    "#forecasts = np.round(forecasts, precision)"
   ]
  },
  {
   "cell_type": "code",
   "execution_count": 22,
   "metadata": {},
   "outputs": [
    {
     "data": {
      "text/html": [
       "<div>\n",
       "<style scoped>\n",
       "    .dataframe tbody tr th:only-of-type {\n",
       "        vertical-align: middle;\n",
       "    }\n",
       "\n",
       "    .dataframe tbody tr th {\n",
       "        vertical-align: top;\n",
       "    }\n",
       "\n",
       "    .dataframe thead th {\n",
       "        text-align: right;\n",
       "    }\n",
       "</style>\n",
       "<table border=\"1\" class=\"dataframe\">\n",
       "  <thead>\n",
       "    <tr style=\"text-align: right;\">\n",
       "      <th></th>\n",
       "      <th>timepoint</th>\n",
       "      <th>strain</th>\n",
       "      <th>frequency</th>\n",
       "      <th>projected_frequency</th>\n",
       "    </tr>\n",
       "  </thead>\n",
       "  <tbody>\n",
       "    <tr>\n",
       "      <th>0</th>\n",
       "      <td>2015-04-01</td>\n",
       "      <td>A/Acre/133946-IEC/2015</td>\n",
       "      <td>0.0011</td>\n",
       "      <td>0.0002</td>\n",
       "    </tr>\n",
       "  </tbody>\n",
       "</table>\n",
       "</div>"
      ],
      "text/plain": [
       "   timepoint                  strain  frequency  projected_frequency\n",
       "0 2015-04-01  A/Acre/133946-IEC/2015     0.0011               0.0002"
      ]
     },
     "execution_count": 22,
     "metadata": {},
     "output_type": "execute_result"
    }
   ],
   "source": [
    "np.round(forecasts.head(1), 4)"
   ]
  },
  {
   "cell_type": "code",
   "execution_count": 23,
   "metadata": {},
   "outputs": [],
   "source": [
    "full_forecasts = pd.read_csv(\n",
    "    \"%s/forecasts.tsv\" % data_root,\n",
    "    sep=\"\\t\",\n",
    "    parse_dates=[\"timepoint\", \"future_timepoint\"]\n",
    ")"
   ]
  },
  {
   "cell_type": "code",
   "execution_count": 24,
   "metadata": {},
   "outputs": [],
   "source": [
    "full_forecasts = full_forecasts.query(\"timepoint >= '%s'\" % first_validation_timepoint).copy()"
   ]
  },
  {
   "cell_type": "code",
   "execution_count": 25,
   "metadata": {},
   "outputs": [],
   "source": [
    "#full_forecasts = np.round(full_forecasts, precision)"
   ]
  },
  {
   "cell_type": "code",
   "execution_count": 26,
   "metadata": {},
   "outputs": [
    {
     "data": {
      "text/html": [
       "<div>\n",
       "<style scoped>\n",
       "    .dataframe tbody tr th:only-of-type {\n",
       "        vertical-align: middle;\n",
       "    }\n",
       "\n",
       "    .dataframe tbody tr th {\n",
       "        vertical-align: top;\n",
       "    }\n",
       "\n",
       "    .dataframe thead th {\n",
       "        text-align: right;\n",
       "    }\n",
       "</style>\n",
       "<table border=\"1\" class=\"dataframe\">\n",
       "  <thead>\n",
       "    <tr style=\"text-align: right;\">\n",
       "      <th></th>\n",
       "      <th>timepoint</th>\n",
       "      <th>strain</th>\n",
       "      <th>frequency</th>\n",
       "      <th>weighted_distance_to_present</th>\n",
       "      <th>weighted_distance_to_future</th>\n",
       "      <th>fitness</th>\n",
       "      <th>projected_frequency</th>\n",
       "      <th>y</th>\n",
       "      <th>future_timepoint</th>\n",
       "    </tr>\n",
       "  </thead>\n",
       "  <tbody>\n",
       "    <tr>\n",
       "      <th>0</th>\n",
       "      <td>2015-04-01</td>\n",
       "      <td>A/Acre/133946-IEC/2015</td>\n",
       "      <td>0.001147</td>\n",
       "      <td>12.130224</td>\n",
       "      <td>14.651518</td>\n",
       "      <td>-0.570338</td>\n",
       "      <td>0.000229</td>\n",
       "      <td>13.112224</td>\n",
       "      <td>2016-04-01</td>\n",
       "    </tr>\n",
       "    <tr>\n",
       "      <th>1</th>\n",
       "      <td>2015-04-01</td>\n",
       "      <td>A/Acre/134221-IEC/2015</td>\n",
       "      <td>0.001917</td>\n",
       "      <td>5.941325</td>\n",
       "      <td>5.578218</td>\n",
       "      <td>0.127309</td>\n",
       "      <td>0.000770</td>\n",
       "      <td>2.539736</td>\n",
       "      <td>2016-04-01</td>\n",
       "    </tr>\n",
       "    <tr>\n",
       "      <th>2</th>\n",
       "      <td>2015-04-01</td>\n",
       "      <td>A/Aichi/134/2014</td>\n",
       "      <td>0.000293</td>\n",
       "      <td>7.947723</td>\n",
       "      <td>7.618517</td>\n",
       "      <td>1.458833</td>\n",
       "      <td>0.000445</td>\n",
       "      <td>4.496047</td>\n",
       "      <td>2016-04-01</td>\n",
       "    </tr>\n",
       "    <tr>\n",
       "      <th>3</th>\n",
       "      <td>2015-04-01</td>\n",
       "      <td>A/Aichi/96/2015</td>\n",
       "      <td>0.002101</td>\n",
       "      <td>7.058784</td>\n",
       "      <td>7.029317</td>\n",
       "      <td>-1.036411</td>\n",
       "      <td>0.000263</td>\n",
       "      <td>4.380696</td>\n",
       "      <td>2016-04-01</td>\n",
       "    </tr>\n",
       "    <tr>\n",
       "      <th>4</th>\n",
       "      <td>2015-04-01</td>\n",
       "      <td>A/Alaska/4032/2014</td>\n",
       "      <td>0.000231</td>\n",
       "      <td>5.059764</td>\n",
       "      <td>4.630501</td>\n",
       "      <td>1.306313</td>\n",
       "      <td>0.000302</td>\n",
       "      <td>1.571674</td>\n",
       "      <td>2016-04-01</td>\n",
       "    </tr>\n",
       "  </tbody>\n",
       "</table>\n",
       "</div>"
      ],
      "text/plain": [
       "   timepoint                  strain  frequency  weighted_distance_to_present  \\\n",
       "0 2015-04-01  A/Acre/133946-IEC/2015   0.001147                     12.130224   \n",
       "1 2015-04-01  A/Acre/134221-IEC/2015   0.001917                      5.941325   \n",
       "2 2015-04-01        A/Aichi/134/2014   0.000293                      7.947723   \n",
       "3 2015-04-01         A/Aichi/96/2015   0.002101                      7.058784   \n",
       "4 2015-04-01      A/Alaska/4032/2014   0.000231                      5.059764   \n",
       "\n",
       "   weighted_distance_to_future   fitness  projected_frequency          y  \\\n",
       "0                    14.651518 -0.570338             0.000229  13.112224   \n",
       "1                     5.578218  0.127309             0.000770   2.539736   \n",
       "2                     7.618517  1.458833             0.000445   4.496047   \n",
       "3                     7.029317 -1.036411             0.000263   4.380696   \n",
       "4                     4.630501  1.306313             0.000302   1.571674   \n",
       "\n",
       "  future_timepoint  \n",
       "0       2016-04-01  \n",
       "1       2016-04-01  \n",
       "2       2016-04-01  \n",
       "3       2016-04-01  \n",
       "4       2016-04-01  "
      ]
     },
     "execution_count": 26,
     "metadata": {},
     "output_type": "execute_result"
    }
   ],
   "source": [
    "full_forecasts.head()"
   ]
  },
  {
   "cell_type": "markdown",
   "metadata": {},
   "source": [
    "## Find large clades\n",
    "\n",
    "Find all clades with an initial frequency some minimum value (e.g., >15%)."
   ]
  },
  {
   "cell_type": "code",
   "execution_count": 27,
   "metadata": {},
   "outputs": [
    {
     "data": {
      "text/html": [
       "<div>\n",
       "<style scoped>\n",
       "    .dataframe tbody tr th:only-of-type {\n",
       "        vertical-align: middle;\n",
       "    }\n",
       "\n",
       "    .dataframe tbody tr th {\n",
       "        vertical-align: top;\n",
       "    }\n",
       "\n",
       "    .dataframe thead th {\n",
       "        text-align: right;\n",
       "    }\n",
       "</style>\n",
       "<table border=\"1\" class=\"dataframe\">\n",
       "  <thead>\n",
       "    <tr style=\"text-align: right;\">\n",
       "      <th></th>\n",
       "      <th>strain</th>\n",
       "      <th>timepoint</th>\n",
       "      <th>frequency</th>\n",
       "    </tr>\n",
       "  </thead>\n",
       "  <tbody>\n",
       "    <tr>\n",
       "      <th>0</th>\n",
       "      <td>A/Acre/133946-IEC/2015</td>\n",
       "      <td>2015-04-01</td>\n",
       "      <td>0.001147</td>\n",
       "    </tr>\n",
       "    <tr>\n",
       "      <th>1</th>\n",
       "      <td>A/Acre/134221-IEC/2015</td>\n",
       "      <td>2015-04-01</td>\n",
       "      <td>0.001917</td>\n",
       "    </tr>\n",
       "    <tr>\n",
       "      <th>2</th>\n",
       "      <td>A/Aichi/134/2014</td>\n",
       "      <td>2015-04-01</td>\n",
       "      <td>0.000293</td>\n",
       "    </tr>\n",
       "    <tr>\n",
       "      <th>3</th>\n",
       "      <td>A/Aichi/96/2015</td>\n",
       "      <td>2015-04-01</td>\n",
       "      <td>0.002101</td>\n",
       "    </tr>\n",
       "    <tr>\n",
       "      <th>4</th>\n",
       "      <td>A/Alaska/4032/2014</td>\n",
       "      <td>2015-04-01</td>\n",
       "      <td>0.000231</td>\n",
       "    </tr>\n",
       "  </tbody>\n",
       "</table>\n",
       "</div>"
      ],
      "text/plain": [
       "                   strain  timepoint  frequency\n",
       "0  A/Acre/133946-IEC/2015 2015-04-01   0.001147\n",
       "1  A/Acre/134221-IEC/2015 2015-04-01   0.001917\n",
       "2        A/Aichi/134/2014 2015-04-01   0.000293\n",
       "3         A/Aichi/96/2015 2015-04-01   0.002101\n",
       "4      A/Alaska/4032/2014 2015-04-01   0.000231"
      ]
     },
     "execution_count": 27,
     "metadata": {},
     "output_type": "execute_result"
    }
   ],
   "source": [
    "tips.head()"
   ]
  },
  {
   "cell_type": "code",
   "execution_count": 28,
   "metadata": {},
   "outputs": [],
   "source": [
    "clade_tip_initial_frequencies = tips_to_clades.merge(\n",
    "    tips,\n",
    "    on=[\"strain\"]\n",
    ")"
   ]
  },
  {
   "cell_type": "code",
   "execution_count": 29,
   "metadata": {},
   "outputs": [
    {
     "data": {
      "text/html": [
       "<div>\n",
       "<style scoped>\n",
       "    .dataframe tbody tr th:only-of-type {\n",
       "        vertical-align: middle;\n",
       "    }\n",
       "\n",
       "    .dataframe tbody tr th {\n",
       "        vertical-align: top;\n",
       "    }\n",
       "\n",
       "    .dataframe thead th {\n",
       "        text-align: right;\n",
       "    }\n",
       "</style>\n",
       "<table border=\"1\" class=\"dataframe\">\n",
       "  <thead>\n",
       "    <tr style=\"text-align: right;\">\n",
       "      <th></th>\n",
       "      <th>strain</th>\n",
       "      <th>clade_membership</th>\n",
       "      <th>depth</th>\n",
       "      <th>timepoint</th>\n",
       "      <th>frequency</th>\n",
       "    </tr>\n",
       "  </thead>\n",
       "  <tbody>\n",
       "    <tr>\n",
       "      <th>0</th>\n",
       "      <td>A/Guangdong/85/2015</td>\n",
       "      <td>73a6e47</td>\n",
       "      <td>0</td>\n",
       "      <td>2015-04-01</td>\n",
       "      <td>0.001382</td>\n",
       "    </tr>\n",
       "    <tr>\n",
       "      <th>1</th>\n",
       "      <td>A/Guangdong/85/2015</td>\n",
       "      <td>a229f16</td>\n",
       "      <td>8</td>\n",
       "      <td>2015-04-01</td>\n",
       "      <td>0.001382</td>\n",
       "    </tr>\n",
       "    <tr>\n",
       "      <th>2</th>\n",
       "      <td>A/Guangdong/85/2015</td>\n",
       "      <td>f2ec31a</td>\n",
       "      <td>11</td>\n",
       "      <td>2015-04-01</td>\n",
       "      <td>0.001382</td>\n",
       "    </tr>\n",
       "    <tr>\n",
       "      <th>3</th>\n",
       "      <td>A/Guangdong/85/2015</td>\n",
       "      <td>6c1138e</td>\n",
       "      <td>47</td>\n",
       "      <td>2015-04-01</td>\n",
       "      <td>0.001382</td>\n",
       "    </tr>\n",
       "    <tr>\n",
       "      <th>4</th>\n",
       "      <td>A/Guangdong/85/2015</td>\n",
       "      <td>38da78c</td>\n",
       "      <td>48</td>\n",
       "      <td>2015-04-01</td>\n",
       "      <td>0.001382</td>\n",
       "    </tr>\n",
       "  </tbody>\n",
       "</table>\n",
       "</div>"
      ],
      "text/plain": [
       "                strain clade_membership  depth  timepoint  frequency\n",
       "0  A/Guangdong/85/2015          73a6e47      0 2015-04-01   0.001382\n",
       "1  A/Guangdong/85/2015          a229f16      8 2015-04-01   0.001382\n",
       "2  A/Guangdong/85/2015          f2ec31a     11 2015-04-01   0.001382\n",
       "3  A/Guangdong/85/2015          6c1138e     47 2015-04-01   0.001382\n",
       "4  A/Guangdong/85/2015          38da78c     48 2015-04-01   0.001382"
      ]
     },
     "execution_count": 29,
     "metadata": {},
     "output_type": "execute_result"
    }
   ],
   "source": [
    "clade_tip_initial_frequencies.head()"
   ]
  },
  {
   "cell_type": "code",
   "execution_count": 30,
   "metadata": {},
   "outputs": [],
   "source": [
    "clade_tip_initial_frequencies[\"future_timepoint\"] = clade_tip_initial_frequencies[\"timepoint\"] + pd.DateOffset(months=12)"
   ]
  },
  {
   "cell_type": "code",
   "execution_count": 31,
   "metadata": {},
   "outputs": [
    {
     "data": {
      "text/html": [
       "<div>\n",
       "<style scoped>\n",
       "    .dataframe tbody tr th:only-of-type {\n",
       "        vertical-align: middle;\n",
       "    }\n",
       "\n",
       "    .dataframe tbody tr th {\n",
       "        vertical-align: top;\n",
       "    }\n",
       "\n",
       "    .dataframe thead th {\n",
       "        text-align: right;\n",
       "    }\n",
       "</style>\n",
       "<table border=\"1\" class=\"dataframe\">\n",
       "  <thead>\n",
       "    <tr style=\"text-align: right;\">\n",
       "      <th></th>\n",
       "      <th>strain</th>\n",
       "      <th>clade_membership</th>\n",
       "      <th>depth</th>\n",
       "      <th>timepoint</th>\n",
       "      <th>frequency</th>\n",
       "      <th>future_timepoint</th>\n",
       "    </tr>\n",
       "  </thead>\n",
       "  <tbody>\n",
       "    <tr>\n",
       "      <th>0</th>\n",
       "      <td>A/Guangdong/85/2015</td>\n",
       "      <td>73a6e47</td>\n",
       "      <td>0</td>\n",
       "      <td>2015-04-01</td>\n",
       "      <td>0.001382</td>\n",
       "      <td>2016-04-01</td>\n",
       "    </tr>\n",
       "    <tr>\n",
       "      <th>1</th>\n",
       "      <td>A/Guangdong/85/2015</td>\n",
       "      <td>a229f16</td>\n",
       "      <td>8</td>\n",
       "      <td>2015-04-01</td>\n",
       "      <td>0.001382</td>\n",
       "      <td>2016-04-01</td>\n",
       "    </tr>\n",
       "    <tr>\n",
       "      <th>2</th>\n",
       "      <td>A/Guangdong/85/2015</td>\n",
       "      <td>f2ec31a</td>\n",
       "      <td>11</td>\n",
       "      <td>2015-04-01</td>\n",
       "      <td>0.001382</td>\n",
       "      <td>2016-04-01</td>\n",
       "    </tr>\n",
       "    <tr>\n",
       "      <th>3</th>\n",
       "      <td>A/Guangdong/85/2015</td>\n",
       "      <td>6c1138e</td>\n",
       "      <td>47</td>\n",
       "      <td>2015-04-01</td>\n",
       "      <td>0.001382</td>\n",
       "      <td>2016-04-01</td>\n",
       "    </tr>\n",
       "    <tr>\n",
       "      <th>4</th>\n",
       "      <td>A/Guangdong/85/2015</td>\n",
       "      <td>38da78c</td>\n",
       "      <td>48</td>\n",
       "      <td>2015-04-01</td>\n",
       "      <td>0.001382</td>\n",
       "      <td>2016-04-01</td>\n",
       "    </tr>\n",
       "  </tbody>\n",
       "</table>\n",
       "</div>"
      ],
      "text/plain": [
       "                strain clade_membership  depth  timepoint  frequency  \\\n",
       "0  A/Guangdong/85/2015          73a6e47      0 2015-04-01   0.001382   \n",
       "1  A/Guangdong/85/2015          a229f16      8 2015-04-01   0.001382   \n",
       "2  A/Guangdong/85/2015          f2ec31a     11 2015-04-01   0.001382   \n",
       "3  A/Guangdong/85/2015          6c1138e     47 2015-04-01   0.001382   \n",
       "4  A/Guangdong/85/2015          38da78c     48 2015-04-01   0.001382   \n",
       "\n",
       "  future_timepoint  \n",
       "0       2016-04-01  \n",
       "1       2016-04-01  \n",
       "2       2016-04-01  \n",
       "3       2016-04-01  \n",
       "4       2016-04-01  "
      ]
     },
     "execution_count": 31,
     "metadata": {},
     "output_type": "execute_result"
    }
   ],
   "source": [
    "clade_tip_initial_frequencies.head()"
   ]
  },
  {
   "cell_type": "code",
   "execution_count": 32,
   "metadata": {},
   "outputs": [],
   "source": [
    "initial_clade_frequencies = clade_tip_initial_frequencies.groupby([\n",
    "    \"timepoint\", \"future_timepoint\", \"clade_membership\"\n",
    "])[\"frequency\"].sum().reset_index()"
   ]
  },
  {
   "cell_type": "code",
   "execution_count": 33,
   "metadata": {},
   "outputs": [
    {
     "data": {
      "text/html": [
       "<div>\n",
       "<style scoped>\n",
       "    .dataframe tbody tr th:only-of-type {\n",
       "        vertical-align: middle;\n",
       "    }\n",
       "\n",
       "    .dataframe tbody tr th {\n",
       "        vertical-align: top;\n",
       "    }\n",
       "\n",
       "    .dataframe thead th {\n",
       "        text-align: right;\n",
       "    }\n",
       "</style>\n",
       "<table border=\"1\" class=\"dataframe\">\n",
       "  <thead>\n",
       "    <tr style=\"text-align: right;\">\n",
       "      <th></th>\n",
       "      <th>timepoint</th>\n",
       "      <th>future_timepoint</th>\n",
       "      <th>clade_membership</th>\n",
       "      <th>frequency</th>\n",
       "    </tr>\n",
       "  </thead>\n",
       "  <tbody>\n",
       "    <tr>\n",
       "      <th>0</th>\n",
       "      <td>2015-04-01</td>\n",
       "      <td>2016-04-01</td>\n",
       "      <td>00ab7ec</td>\n",
       "      <td>0.004254</td>\n",
       "    </tr>\n",
       "    <tr>\n",
       "      <th>1</th>\n",
       "      <td>2015-04-01</td>\n",
       "      <td>2016-04-01</td>\n",
       "      <td>0165eeb</td>\n",
       "      <td>0.689044</td>\n",
       "    </tr>\n",
       "    <tr>\n",
       "      <th>2</th>\n",
       "      <td>2015-04-01</td>\n",
       "      <td>2016-04-01</td>\n",
       "      <td>0324811</td>\n",
       "      <td>0.010056</td>\n",
       "    </tr>\n",
       "    <tr>\n",
       "      <th>3</th>\n",
       "      <td>2015-04-01</td>\n",
       "      <td>2016-04-01</td>\n",
       "      <td>03c0e47</td>\n",
       "      <td>0.000036</td>\n",
       "    </tr>\n",
       "    <tr>\n",
       "      <th>4</th>\n",
       "      <td>2015-04-01</td>\n",
       "      <td>2016-04-01</td>\n",
       "      <td>03f7c80</td>\n",
       "      <td>0.001141</td>\n",
       "    </tr>\n",
       "  </tbody>\n",
       "</table>\n",
       "</div>"
      ],
      "text/plain": [
       "   timepoint future_timepoint clade_membership  frequency\n",
       "0 2015-04-01       2016-04-01          00ab7ec   0.004254\n",
       "1 2015-04-01       2016-04-01          0165eeb   0.689044\n",
       "2 2015-04-01       2016-04-01          0324811   0.010056\n",
       "3 2015-04-01       2016-04-01          03c0e47   0.000036\n",
       "4 2015-04-01       2016-04-01          03f7c80   0.001141"
      ]
     },
     "execution_count": 33,
     "metadata": {},
     "output_type": "execute_result"
    }
   ],
   "source": [
    "initial_clade_frequencies.head()"
   ]
  },
  {
   "cell_type": "markdown",
   "metadata": {},
   "source": [
    "Merge clade frequencies between adjacent years."
   ]
  },
  {
   "cell_type": "code",
   "execution_count": 34,
   "metadata": {},
   "outputs": [],
   "source": [
    "initial_and_observed_clade_frequencies = initial_clade_frequencies.merge(\n",
    "    initial_clade_frequencies,\n",
    "    left_on=[\"future_timepoint\", \"clade_membership\"],\n",
    "    right_on=[\"timepoint\", \"clade_membership\"],\n",
    "    suffixes=[\"\", \"_final\"]\n",
    ").groupby([\"timepoint\", \"clade_membership\", \"frequency\"])[\"frequency_final\"].sum().reset_index()"
   ]
  },
  {
   "cell_type": "code",
   "execution_count": 35,
   "metadata": {},
   "outputs": [
    {
     "data": {
      "text/html": [
       "<div>\n",
       "<style scoped>\n",
       "    .dataframe tbody tr th:only-of-type {\n",
       "        vertical-align: middle;\n",
       "    }\n",
       "\n",
       "    .dataframe tbody tr th {\n",
       "        vertical-align: top;\n",
       "    }\n",
       "\n",
       "    .dataframe thead th {\n",
       "        text-align: right;\n",
       "    }\n",
       "</style>\n",
       "<table border=\"1\" class=\"dataframe\">\n",
       "  <thead>\n",
       "    <tr style=\"text-align: right;\">\n",
       "      <th></th>\n",
       "      <th>timepoint</th>\n",
       "      <th>clade_membership</th>\n",
       "      <th>frequency</th>\n",
       "      <th>frequency_final</th>\n",
       "    </tr>\n",
       "  </thead>\n",
       "  <tbody>\n",
       "    <tr>\n",
       "      <th>0</th>\n",
       "      <td>2015-04-01</td>\n",
       "      <td>0165eeb</td>\n",
       "      <td>0.689044</td>\n",
       "      <td>0.830281</td>\n",
       "    </tr>\n",
       "    <tr>\n",
       "      <th>1</th>\n",
       "      <td>2015-04-01</td>\n",
       "      <td>0324811</td>\n",
       "      <td>0.010056</td>\n",
       "      <td>0.101195</td>\n",
       "    </tr>\n",
       "    <tr>\n",
       "      <th>2</th>\n",
       "      <td>2015-04-01</td>\n",
       "      <td>046d98a</td>\n",
       "      <td>0.001547</td>\n",
       "      <td>0.001336</td>\n",
       "    </tr>\n",
       "    <tr>\n",
       "      <th>3</th>\n",
       "      <td>2015-04-01</td>\n",
       "      <td>0dbd131</td>\n",
       "      <td>0.026825</td>\n",
       "      <td>0.145108</td>\n",
       "    </tr>\n",
       "    <tr>\n",
       "      <th>4</th>\n",
       "      <td>2015-04-01</td>\n",
       "      <td>1799237</td>\n",
       "      <td>0.018972</td>\n",
       "      <td>0.058953</td>\n",
       "    </tr>\n",
       "  </tbody>\n",
       "</table>\n",
       "</div>"
      ],
      "text/plain": [
       "   timepoint clade_membership  frequency  frequency_final\n",
       "0 2015-04-01          0165eeb   0.689044         0.830281\n",
       "1 2015-04-01          0324811   0.010056         0.101195\n",
       "2 2015-04-01          046d98a   0.001547         0.001336\n",
       "3 2015-04-01          0dbd131   0.026825         0.145108\n",
       "4 2015-04-01          1799237   0.018972         0.058953"
      ]
     },
     "execution_count": 35,
     "metadata": {},
     "output_type": "execute_result"
    }
   ],
   "source": [
    "initial_and_observed_clade_frequencies.head()"
   ]
  },
  {
   "cell_type": "markdown",
   "metadata": {},
   "source": [
    "Select clades with an initial frequency >10%."
   ]
  },
  {
   "cell_type": "code",
   "execution_count": 36,
   "metadata": {},
   "outputs": [],
   "source": [
    "large_clades = initial_and_observed_clade_frequencies.query(\"frequency > %s\" % min_clade_frequency).copy()"
   ]
  },
  {
   "cell_type": "code",
   "execution_count": 37,
   "metadata": {},
   "outputs": [
    {
     "data": {
      "text/html": [
       "<div>\n",
       "<style scoped>\n",
       "    .dataframe tbody tr th:only-of-type {\n",
       "        vertical-align: middle;\n",
       "    }\n",
       "\n",
       "    .dataframe tbody tr th {\n",
       "        vertical-align: top;\n",
       "    }\n",
       "\n",
       "    .dataframe thead th {\n",
       "        text-align: right;\n",
       "    }\n",
       "</style>\n",
       "<table border=\"1\" class=\"dataframe\">\n",
       "  <thead>\n",
       "    <tr style=\"text-align: right;\">\n",
       "      <th></th>\n",
       "      <th>timepoint</th>\n",
       "      <th>clade_membership</th>\n",
       "      <th>frequency</th>\n",
       "      <th>frequency_final</th>\n",
       "    </tr>\n",
       "  </thead>\n",
       "  <tbody>\n",
       "    <tr>\n",
       "      <th>0</th>\n",
       "      <td>2015-04-01</td>\n",
       "      <td>0165eeb</td>\n",
       "      <td>0.689044</td>\n",
       "      <td>0.830281</td>\n",
       "    </tr>\n",
       "    <tr>\n",
       "      <th>6</th>\n",
       "      <td>2015-04-01</td>\n",
       "      <td>1ba36d2</td>\n",
       "      <td>0.164304</td>\n",
       "      <td>0.167717</td>\n",
       "    </tr>\n",
       "    <tr>\n",
       "      <th>8</th>\n",
       "      <td>2015-04-01</td>\n",
       "      <td>1edac85</td>\n",
       "      <td>0.164304</td>\n",
       "      <td>0.167717</td>\n",
       "    </tr>\n",
       "    <tr>\n",
       "      <th>13</th>\n",
       "      <td>2015-04-01</td>\n",
       "      <td>38da78c</td>\n",
       "      <td>0.999955</td>\n",
       "      <td>0.999982</td>\n",
       "    </tr>\n",
       "    <tr>\n",
       "      <th>18</th>\n",
       "      <td>2015-04-01</td>\n",
       "      <td>4717930</td>\n",
       "      <td>0.999955</td>\n",
       "      <td>0.999982</td>\n",
       "    </tr>\n",
       "  </tbody>\n",
       "</table>\n",
       "</div>"
      ],
      "text/plain": [
       "    timepoint clade_membership  frequency  frequency_final\n",
       "0  2015-04-01          0165eeb   0.689044         0.830281\n",
       "6  2015-04-01          1ba36d2   0.164304         0.167717\n",
       "8  2015-04-01          1edac85   0.164304         0.167717\n",
       "13 2015-04-01          38da78c   0.999955         0.999982\n",
       "18 2015-04-01          4717930   0.999955         0.999982"
      ]
     },
     "execution_count": 37,
     "metadata": {},
     "output_type": "execute_result"
    }
   ],
   "source": [
    "large_clades.head()"
   ]
  },
  {
   "cell_type": "code",
   "execution_count": 38,
   "metadata": {},
   "outputs": [
    {
     "data": {
      "text/html": [
       "<div>\n",
       "<style scoped>\n",
       "    .dataframe tbody tr th:only-of-type {\n",
       "        vertical-align: middle;\n",
       "    }\n",
       "\n",
       "    .dataframe tbody tr th {\n",
       "        vertical-align: top;\n",
       "    }\n",
       "\n",
       "    .dataframe thead th {\n",
       "        text-align: right;\n",
       "    }\n",
       "</style>\n",
       "<table border=\"1\" class=\"dataframe\">\n",
       "  <thead>\n",
       "    <tr style=\"text-align: right;\">\n",
       "      <th></th>\n",
       "      <th>timepoint</th>\n",
       "      <th>clade_membership</th>\n",
       "      <th>frequency</th>\n",
       "      <th>frequency_final</th>\n",
       "    </tr>\n",
       "  </thead>\n",
       "  <tbody>\n",
       "    <tr>\n",
       "      <th>533</th>\n",
       "      <td>2018-10-01</td>\n",
       "      <td>ea08d9e</td>\n",
       "      <td>0.951222</td>\n",
       "      <td>0.854211</td>\n",
       "    </tr>\n",
       "    <tr>\n",
       "      <th>536</th>\n",
       "      <td>2018-10-01</td>\n",
       "      <td>f14fabc</td>\n",
       "      <td>0.951222</td>\n",
       "      <td>0.854211</td>\n",
       "    </tr>\n",
       "    <tr>\n",
       "      <th>537</th>\n",
       "      <td>2018-10-01</td>\n",
       "      <td>f2ec31a</td>\n",
       "      <td>0.999953</td>\n",
       "      <td>0.999963</td>\n",
       "    </tr>\n",
       "    <tr>\n",
       "      <th>538</th>\n",
       "      <td>2018-10-01</td>\n",
       "      <td>f321e53</td>\n",
       "      <td>0.999953</td>\n",
       "      <td>0.999963</td>\n",
       "    </tr>\n",
       "    <tr>\n",
       "      <th>539</th>\n",
       "      <td>2018-10-01</td>\n",
       "      <td>f8b8996</td>\n",
       "      <td>0.999953</td>\n",
       "      <td>0.999963</td>\n",
       "    </tr>\n",
       "  </tbody>\n",
       "</table>\n",
       "</div>"
      ],
      "text/plain": [
       "     timepoint clade_membership  frequency  frequency_final\n",
       "533 2018-10-01          ea08d9e   0.951222         0.854211\n",
       "536 2018-10-01          f14fabc   0.951222         0.854211\n",
       "537 2018-10-01          f2ec31a   0.999953         0.999963\n",
       "538 2018-10-01          f321e53   0.999953         0.999963\n",
       "539 2018-10-01          f8b8996   0.999953         0.999963"
      ]
     },
     "execution_count": 38,
     "metadata": {},
     "output_type": "execute_result"
    }
   ],
   "source": [
    "large_clades.tail()"
   ]
  },
  {
   "cell_type": "code",
   "execution_count": 39,
   "metadata": {},
   "outputs": [
    {
     "data": {
      "text/plain": [
       "(187, 4)"
      ]
     },
     "execution_count": 39,
     "metadata": {},
     "output_type": "execute_result"
    }
   ],
   "source": [
    "large_clades.shape"
   ]
  },
  {
   "cell_type": "markdown",
   "metadata": {},
   "source": [
    "## Find estimated future frequencies of large clades\n",
    "\n",
    "Use the true fitness metric for forecasts."
   ]
  },
  {
   "cell_type": "code",
   "execution_count": 40,
   "metadata": {},
   "outputs": [],
   "source": [
    "clade_tip_estimated_frequencies = tips_to_clades.merge(\n",
    "    forecasts,\n",
    "    on=[\"strain\"]\n",
    ")"
   ]
  },
  {
   "cell_type": "code",
   "execution_count": 41,
   "metadata": {},
   "outputs": [
    {
     "data": {
      "text/html": [
       "<div>\n",
       "<style scoped>\n",
       "    .dataframe tbody tr th:only-of-type {\n",
       "        vertical-align: middle;\n",
       "    }\n",
       "\n",
       "    .dataframe tbody tr th {\n",
       "        vertical-align: top;\n",
       "    }\n",
       "\n",
       "    .dataframe thead th {\n",
       "        text-align: right;\n",
       "    }\n",
       "</style>\n",
       "<table border=\"1\" class=\"dataframe\">\n",
       "  <thead>\n",
       "    <tr style=\"text-align: right;\">\n",
       "      <th></th>\n",
       "      <th>strain</th>\n",
       "      <th>clade_membership</th>\n",
       "      <th>depth</th>\n",
       "      <th>timepoint</th>\n",
       "      <th>frequency</th>\n",
       "      <th>projected_frequency</th>\n",
       "    </tr>\n",
       "  </thead>\n",
       "  <tbody>\n",
       "    <tr>\n",
       "      <th>0</th>\n",
       "      <td>A/Guangdong/85/2015</td>\n",
       "      <td>73a6e47</td>\n",
       "      <td>0</td>\n",
       "      <td>2015-04-01</td>\n",
       "      <td>0.001382</td>\n",
       "      <td>0.000121</td>\n",
       "    </tr>\n",
       "    <tr>\n",
       "      <th>1</th>\n",
       "      <td>A/Guangdong/85/2015</td>\n",
       "      <td>a229f16</td>\n",
       "      <td>8</td>\n",
       "      <td>2015-04-01</td>\n",
       "      <td>0.001382</td>\n",
       "      <td>0.000121</td>\n",
       "    </tr>\n",
       "    <tr>\n",
       "      <th>2</th>\n",
       "      <td>A/Guangdong/85/2015</td>\n",
       "      <td>f2ec31a</td>\n",
       "      <td>11</td>\n",
       "      <td>2015-04-01</td>\n",
       "      <td>0.001382</td>\n",
       "      <td>0.000121</td>\n",
       "    </tr>\n",
       "    <tr>\n",
       "      <th>3</th>\n",
       "      <td>A/Guangdong/85/2015</td>\n",
       "      <td>6c1138e</td>\n",
       "      <td>47</td>\n",
       "      <td>2015-04-01</td>\n",
       "      <td>0.001382</td>\n",
       "      <td>0.000121</td>\n",
       "    </tr>\n",
       "    <tr>\n",
       "      <th>4</th>\n",
       "      <td>A/Guangdong/85/2015</td>\n",
       "      <td>38da78c</td>\n",
       "      <td>48</td>\n",
       "      <td>2015-04-01</td>\n",
       "      <td>0.001382</td>\n",
       "      <td>0.000121</td>\n",
       "    </tr>\n",
       "  </tbody>\n",
       "</table>\n",
       "</div>"
      ],
      "text/plain": [
       "                strain clade_membership  depth  timepoint  frequency  \\\n",
       "0  A/Guangdong/85/2015          73a6e47      0 2015-04-01   0.001382   \n",
       "1  A/Guangdong/85/2015          a229f16      8 2015-04-01   0.001382   \n",
       "2  A/Guangdong/85/2015          f2ec31a     11 2015-04-01   0.001382   \n",
       "3  A/Guangdong/85/2015          6c1138e     47 2015-04-01   0.001382   \n",
       "4  A/Guangdong/85/2015          38da78c     48 2015-04-01   0.001382   \n",
       "\n",
       "   projected_frequency  \n",
       "0             0.000121  \n",
       "1             0.000121  \n",
       "2             0.000121  \n",
       "3             0.000121  \n",
       "4             0.000121  "
      ]
     },
     "execution_count": 41,
     "metadata": {},
     "output_type": "execute_result"
    }
   ],
   "source": [
    "clade_tip_estimated_frequencies.head()"
   ]
  },
  {
   "cell_type": "code",
   "execution_count": 42,
   "metadata": {},
   "outputs": [],
   "source": [
    "estimated_clade_frequencies = clade_tip_estimated_frequencies.groupby(\n",
    "    [\"timepoint\", \"clade_membership\"]\n",
    ").aggregate({\"projected_frequency\": \"sum\"}).reset_index()"
   ]
  },
  {
   "cell_type": "code",
   "execution_count": 43,
   "metadata": {},
   "outputs": [
    {
     "data": {
      "text/html": [
       "<div>\n",
       "<style scoped>\n",
       "    .dataframe tbody tr th:only-of-type {\n",
       "        vertical-align: middle;\n",
       "    }\n",
       "\n",
       "    .dataframe tbody tr th {\n",
       "        vertical-align: top;\n",
       "    }\n",
       "\n",
       "    .dataframe thead th {\n",
       "        text-align: right;\n",
       "    }\n",
       "</style>\n",
       "<table border=\"1\" class=\"dataframe\">\n",
       "  <thead>\n",
       "    <tr style=\"text-align: right;\">\n",
       "      <th></th>\n",
       "      <th>timepoint</th>\n",
       "      <th>clade_membership</th>\n",
       "      <th>projected_frequency</th>\n",
       "    </tr>\n",
       "  </thead>\n",
       "  <tbody>\n",
       "    <tr>\n",
       "      <th>0</th>\n",
       "      <td>2015-04-01</td>\n",
       "      <td>00ab7ec</td>\n",
       "      <td>0.000662</td>\n",
       "    </tr>\n",
       "    <tr>\n",
       "      <th>1</th>\n",
       "      <td>2015-04-01</td>\n",
       "      <td>0165eeb</td>\n",
       "      <td>0.951578</td>\n",
       "    </tr>\n",
       "    <tr>\n",
       "      <th>2</th>\n",
       "      <td>2015-04-01</td>\n",
       "      <td>0324811</td>\n",
       "      <td>0.001800</td>\n",
       "    </tr>\n",
       "    <tr>\n",
       "      <th>3</th>\n",
       "      <td>2015-04-01</td>\n",
       "      <td>03c0e47</td>\n",
       "      <td>0.000003</td>\n",
       "    </tr>\n",
       "    <tr>\n",
       "      <th>4</th>\n",
       "      <td>2015-04-01</td>\n",
       "      <td>03f7c80</td>\n",
       "      <td>0.000079</td>\n",
       "    </tr>\n",
       "  </tbody>\n",
       "</table>\n",
       "</div>"
      ],
      "text/plain": [
       "   timepoint clade_membership  projected_frequency\n",
       "0 2015-04-01          00ab7ec             0.000662\n",
       "1 2015-04-01          0165eeb             0.951578\n",
       "2 2015-04-01          0324811             0.001800\n",
       "3 2015-04-01          03c0e47             0.000003\n",
       "4 2015-04-01          03f7c80             0.000079"
      ]
     },
     "execution_count": 43,
     "metadata": {},
     "output_type": "execute_result"
    }
   ],
   "source": [
    "estimated_clade_frequencies.head()"
   ]
  },
  {
   "cell_type": "code",
   "execution_count": 44,
   "metadata": {},
   "outputs": [],
   "source": [
    "complete_clade_frequencies = large_clades.merge(\n",
    "    estimated_clade_frequencies,\n",
    "    on=[\"timepoint\", \"clade_membership\"],\n",
    "    suffixes=[\"\", \"_other\"]\n",
    ")"
   ]
  },
  {
   "cell_type": "code",
   "execution_count": 45,
   "metadata": {},
   "outputs": [],
   "source": [
    "complete_clade_frequencies = np.round(complete_clade_frequencies, 2)"
   ]
  },
  {
   "cell_type": "code",
   "execution_count": 46,
   "metadata": {},
   "outputs": [],
   "source": [
    "complete_clade_frequencies = complete_clade_frequencies.query(\"frequency != frequency_final\").copy()"
   ]
  },
  {
   "cell_type": "code",
   "execution_count": 47,
   "metadata": {},
   "outputs": [
    {
     "data": {
      "text/plain": [
       "(99, 5)"
      ]
     },
     "execution_count": 47,
     "metadata": {},
     "output_type": "execute_result"
    }
   ],
   "source": [
    "complete_clade_frequencies.shape"
   ]
  },
  {
   "cell_type": "code",
   "execution_count": 48,
   "metadata": {},
   "outputs": [],
   "source": [
    "complete_clade_frequencies[\"observed_growth_rate\"] = (\n",
    "    complete_clade_frequencies[\"frequency_final\"] / complete_clade_frequencies[\"frequency\"]\n",
    ")"
   ]
  },
  {
   "cell_type": "code",
   "execution_count": 49,
   "metadata": {},
   "outputs": [],
   "source": [
    "complete_clade_frequencies[\"estimated_growth_rate\"] = (\n",
    "    complete_clade_frequencies[\"projected_frequency\"] / complete_clade_frequencies[\"frequency\"]\n",
    ")"
   ]
  },
  {
   "cell_type": "code",
   "execution_count": 50,
   "metadata": {},
   "outputs": [
    {
     "data": {
      "application/vnd.vegalite.v3+json": {
       "$schema": "https://vega.github.io/schema/vega-lite/v3.3.0.json",
       "config": {
        "mark": {
         "tooltip": null
        },
        "view": {
         "height": 300,
         "width": 400
        }
       },
       "data": {
        "name": "data-2b3249af7058879dea0bb716690326dd"
       },
       "datasets": {
        "data-2b3249af7058879dea0bb716690326dd": [
         {
          "clade_membership": "0165eeb",
          "estimated_growth_rate": 1.3768115942028987,
          "frequency": 0.69,
          "frequency_final": 0.83,
          "observed_growth_rate": 1.2028985507246377,
          "projected_frequency": 0.95,
          "timepoint": "2015-04-01T00:00:00"
         },
         {
          "clade_membership": "1ba36d2",
          "estimated_growth_rate": 0.125,
          "frequency": 0.16,
          "frequency_final": 0.17,
          "observed_growth_rate": 1.0625,
          "projected_frequency": 0.02,
          "timepoint": "2015-04-01T00:00:00"
         },
         {
          "clade_membership": "1edac85",
          "estimated_growth_rate": 0.125,
          "frequency": 0.16,
          "frequency_final": 0.17,
          "observed_growth_rate": 1.0625,
          "projected_frequency": 0.02,
          "timepoint": "2015-04-01T00:00:00"
         },
         {
          "clade_membership": "66a66dd",
          "estimated_growth_rate": 0.16129032258064518,
          "frequency": 0.31,
          "frequency_final": 0.17,
          "observed_growth_rate": 0.5483870967741936,
          "projected_frequency": 0.05,
          "timepoint": "2015-04-01T00:00:00"
         },
         {
          "clade_membership": "80897ab",
          "estimated_growth_rate": 0.125,
          "frequency": 0.16,
          "frequency_final": 0.17,
          "observed_growth_rate": 1.0625,
          "projected_frequency": 0.02,
          "timepoint": "2015-04-01T00:00:00"
         },
         {
          "clade_membership": "8d4351f",
          "estimated_growth_rate": 0.16129032258064518,
          "frequency": 0.31,
          "frequency_final": 0.17,
          "observed_growth_rate": 0.5483870967741936,
          "projected_frequency": 0.05,
          "timepoint": "2015-04-01T00:00:00"
         },
         {
          "clade_membership": "934e1c1",
          "estimated_growth_rate": 1.3768115942028987,
          "frequency": 0.69,
          "frequency_final": 0.83,
          "observed_growth_rate": 1.2028985507246377,
          "projected_frequency": 0.95,
          "timepoint": "2015-04-01T00:00:00"
         },
         {
          "clade_membership": "c9346ca",
          "estimated_growth_rate": 0.125,
          "frequency": 0.16,
          "frequency_final": 0.17,
          "observed_growth_rate": 1.0625,
          "projected_frequency": 0.02,
          "timepoint": "2015-04-01T00:00:00"
         },
         {
          "clade_membership": "ea08d9e",
          "estimated_growth_rate": 1.3768115942028987,
          "frequency": 0.69,
          "frequency_final": 0.83,
          "observed_growth_rate": 1.2028985507246377,
          "projected_frequency": 0.95,
          "timepoint": "2015-04-01T00:00:00"
         },
         {
          "clade_membership": "f14fabc",
          "estimated_growth_rate": 1.3768115942028987,
          "frequency": 0.69,
          "frequency_final": 0.83,
          "observed_growth_rate": 1.2028985507246377,
          "projected_frequency": 0.95,
          "timepoint": "2015-04-01T00:00:00"
         },
         {
          "clade_membership": "0165eeb",
          "estimated_growth_rate": 1.101123595505618,
          "frequency": 0.89,
          "frequency_final": 0.82,
          "observed_growth_rate": 0.9213483146067415,
          "projected_frequency": 0.98,
          "timepoint": "2015-10-01T00:00:00"
         },
         {
          "clade_membership": "0dbd131",
          "estimated_growth_rate": 3.0454545454545454,
          "frequency": 0.22,
          "frequency_final": 0.01,
          "observed_growth_rate": 0.045454545454545456,
          "projected_frequency": 0.67,
          "timepoint": "2015-10-01T00:00:00"
         },
         {
          "clade_membership": "934e1c1",
          "estimated_growth_rate": 1.101123595505618,
          "frequency": 0.89,
          "frequency_final": 0.82,
          "observed_growth_rate": 0.9213483146067415,
          "projected_frequency": 0.98,
          "timepoint": "2015-10-01T00:00:00"
         },
         {
          "clade_membership": "e4d8ffe",
          "estimated_growth_rate": 2.791666666666667,
          "frequency": 0.24,
          "frequency_final": 0.01,
          "observed_growth_rate": 0.04166666666666667,
          "projected_frequency": 0.67,
          "timepoint": "2015-10-01T00:00:00"
         },
         {
          "clade_membership": "ea08d9e",
          "estimated_growth_rate": 1.101123595505618,
          "frequency": 0.89,
          "frequency_final": 0.82,
          "observed_growth_rate": 0.9213483146067415,
          "projected_frequency": 0.98,
          "timepoint": "2015-10-01T00:00:00"
         },
         {
          "clade_membership": "f14fabc",
          "estimated_growth_rate": 1.101123595505618,
          "frequency": 0.89,
          "frequency_final": 0.82,
          "observed_growth_rate": 0.9213483146067415,
          "projected_frequency": 0.98,
          "timepoint": "2015-10-01T00:00:00"
         },
         {
          "clade_membership": "0165eeb",
          "estimated_growth_rate": 1.108433734939759,
          "frequency": 0.83,
          "frequency_final": 0.97,
          "observed_growth_rate": 1.1686746987951808,
          "projected_frequency": 0.92,
          "timepoint": "2016-04-01T00:00:00"
         },
         {
          "clade_membership": "04899a3",
          "estimated_growth_rate": 2.7727272727272725,
          "frequency": 0.22,
          "frequency_final": 0.33,
          "observed_growth_rate": 1.5,
          "projected_frequency": 0.61,
          "timepoint": "2016-04-01T00:00:00"
         },
         {
          "clade_membership": "1ba36d2",
          "estimated_growth_rate": 0.47058823529411764,
          "frequency": 0.17,
          "frequency_final": 0.03,
          "observed_growth_rate": 0.1764705882352941,
          "projected_frequency": 0.08,
          "timepoint": "2016-04-01T00:00:00"
         },
         {
          "clade_membership": "1edac85",
          "estimated_growth_rate": 0.47058823529411764,
          "frequency": 0.17,
          "frequency_final": 0.03,
          "observed_growth_rate": 0.1764705882352941,
          "projected_frequency": 0.08,
          "timepoint": "2016-04-01T00:00:00"
         },
         {
          "clade_membership": "208de66",
          "estimated_growth_rate": 2.0512820512820515,
          "frequency": 0.39,
          "frequency_final": 0.43,
          "observed_growth_rate": 1.1025641025641024,
          "projected_frequency": 0.8,
          "timepoint": "2016-04-01T00:00:00"
         },
         {
          "clade_membership": "28b97a2",
          "estimated_growth_rate": 2,
          "frequency": 0.4,
          "frequency_final": 0.43,
          "observed_growth_rate": 1.075,
          "projected_frequency": 0.8,
          "timepoint": "2016-04-01T00:00:00"
         },
         {
          "clade_membership": "66a66dd",
          "estimated_growth_rate": 0.47058823529411764,
          "frequency": 0.17,
          "frequency_final": 0.03,
          "observed_growth_rate": 0.1764705882352941,
          "projected_frequency": 0.08,
          "timepoint": "2016-04-01T00:00:00"
         },
         {
          "clade_membership": "80897ab",
          "estimated_growth_rate": 0.47058823529411764,
          "frequency": 0.17,
          "frequency_final": 0.03,
          "observed_growth_rate": 0.1764705882352941,
          "projected_frequency": 0.08,
          "timepoint": "2016-04-01T00:00:00"
         },
         {
          "clade_membership": "8d4351f",
          "estimated_growth_rate": 0.47058823529411764,
          "frequency": 0.17,
          "frequency_final": 0.03,
          "observed_growth_rate": 0.1764705882352941,
          "projected_frequency": 0.08,
          "timepoint": "2016-04-01T00:00:00"
         },
         {
          "clade_membership": "934e1c1",
          "estimated_growth_rate": 1.108433734939759,
          "frequency": 0.83,
          "frequency_final": 0.97,
          "observed_growth_rate": 1.1686746987951808,
          "projected_frequency": 0.92,
          "timepoint": "2016-04-01T00:00:00"
         },
         {
          "clade_membership": "c9346ca",
          "estimated_growth_rate": 0.47058823529411764,
          "frequency": 0.17,
          "frequency_final": 0.03,
          "observed_growth_rate": 0.1764705882352941,
          "projected_frequency": 0.08,
          "timepoint": "2016-04-01T00:00:00"
         },
         {
          "clade_membership": "ea08d9e",
          "estimated_growth_rate": 1.108433734939759,
          "frequency": 0.83,
          "frequency_final": 0.97,
          "observed_growth_rate": 1.1686746987951808,
          "projected_frequency": 0.92,
          "timepoint": "2016-04-01T00:00:00"
         },
         {
          "clade_membership": "f14fabc",
          "estimated_growth_rate": 1.108433734939759,
          "frequency": 0.83,
          "frequency_final": 0.97,
          "observed_growth_rate": 1.1686746987951808,
          "projected_frequency": 0.92,
          "timepoint": "2016-04-01T00:00:00"
         },
         {
          "clade_membership": "0165eeb",
          "estimated_growth_rate": 1.0975609756097562,
          "frequency": 0.82,
          "frequency_final": 0.98,
          "observed_growth_rate": 1.1951219512195121,
          "projected_frequency": 0.9,
          "timepoint": "2016-10-01T00:00:00"
         },
         {
          "clade_membership": "04899a3",
          "estimated_growth_rate": 1.2307692307692308,
          "frequency": 0.26,
          "frequency_final": 0.52,
          "observed_growth_rate": 2,
          "projected_frequency": 0.32,
          "timepoint": "2016-10-01T00:00:00"
         },
         {
          "clade_membership": "1799237",
          "estimated_growth_rate": 0.6666666666666667,
          "frequency": 0.15,
          "frequency_final": 0,
          "observed_growth_rate": 0,
          "projected_frequency": 0.1,
          "timepoint": "2016-10-01T00:00:00"
         },
         {
          "clade_membership": "1ba36d2",
          "estimated_growth_rate": 0.5555555555555556,
          "frequency": 0.18,
          "frequency_final": 0.02,
          "observed_growth_rate": 0.11111111111111112,
          "projected_frequency": 0.1,
          "timepoint": "2016-10-01T00:00:00"
         },
         {
          "clade_membership": "1edac85",
          "estimated_growth_rate": 0.5555555555555556,
          "frequency": 0.18,
          "frequency_final": 0.02,
          "observed_growth_rate": 0.11111111111111112,
          "projected_frequency": 0.1,
          "timepoint": "2016-10-01T00:00:00"
         },
         {
          "clade_membership": "208de66",
          "estimated_growth_rate": 1.58,
          "frequency": 0.5,
          "frequency_final": 0.53,
          "observed_growth_rate": 1.06,
          "projected_frequency": 0.79,
          "timepoint": "2016-10-01T00:00:00"
         },
         {
          "clade_membership": "28b97a2",
          "estimated_growth_rate": 1.58,
          "frequency": 0.5,
          "frequency_final": 0.53,
          "observed_growth_rate": 1.06,
          "projected_frequency": 0.79,
          "timepoint": "2016-10-01T00:00:00"
         },
         {
          "clade_membership": "66a66dd",
          "estimated_growth_rate": 0.5555555555555556,
          "frequency": 0.18,
          "frequency_final": 0.02,
          "observed_growth_rate": 0.11111111111111112,
          "projected_frequency": 0.1,
          "timepoint": "2016-10-01T00:00:00"
         },
         {
          "clade_membership": "80897ab",
          "estimated_growth_rate": 0.5555555555555556,
          "frequency": 0.18,
          "frequency_final": 0.02,
          "observed_growth_rate": 0.11111111111111112,
          "projected_frequency": 0.1,
          "timepoint": "2016-10-01T00:00:00"
         },
         {
          "clade_membership": "8d4351f",
          "estimated_growth_rate": 0.5555555555555556,
          "frequency": 0.18,
          "frequency_final": 0.02,
          "observed_growth_rate": 0.11111111111111112,
          "projected_frequency": 0.1,
          "timepoint": "2016-10-01T00:00:00"
         },
         {
          "clade_membership": "934e1c1",
          "estimated_growth_rate": 1.0975609756097562,
          "frequency": 0.82,
          "frequency_final": 0.98,
          "observed_growth_rate": 1.1951219512195121,
          "projected_frequency": 0.9,
          "timepoint": "2016-10-01T00:00:00"
         },
         {
          "clade_membership": "c9346ca",
          "estimated_growth_rate": 0.5555555555555556,
          "frequency": 0.18,
          "frequency_final": 0.02,
          "observed_growth_rate": 0.11111111111111112,
          "projected_frequency": 0.1,
          "timepoint": "2016-10-01T00:00:00"
         },
         {
          "clade_membership": "ea08d9e",
          "estimated_growth_rate": 1.0975609756097562,
          "frequency": 0.82,
          "frequency_final": 0.98,
          "observed_growth_rate": 1.1951219512195121,
          "projected_frequency": 0.9,
          "timepoint": "2016-10-01T00:00:00"
         },
         {
          "clade_membership": "f14fabc",
          "estimated_growth_rate": 1.0975609756097562,
          "frequency": 0.82,
          "frequency_final": 0.98,
          "observed_growth_rate": 1.1951219512195121,
          "projected_frequency": 0.9,
          "timepoint": "2016-10-01T00:00:00"
         },
         {
          "clade_membership": "0165eeb",
          "estimated_growth_rate": 1.0309278350515465,
          "frequency": 0.97,
          "frequency_final": 0.96,
          "observed_growth_rate": 0.9896907216494846,
          "projected_frequency": 1,
          "timepoint": "2017-04-01T00:00:00"
         },
         {
          "clade_membership": "04899a3",
          "estimated_growth_rate": 0.2727272727272727,
          "frequency": 0.33,
          "frequency_final": 0.38,
          "observed_growth_rate": 1.1515151515151514,
          "projected_frequency": 0.09,
          "timepoint": "2017-04-01T00:00:00"
         },
         {
          "clade_membership": "208de66",
          "estimated_growth_rate": 0.2558139534883721,
          "frequency": 0.43,
          "frequency_final": 0.38,
          "observed_growth_rate": 0.8837209302325582,
          "projected_frequency": 0.11,
          "timepoint": "2017-04-01T00:00:00"
         },
         {
          "clade_membership": "28b97a2",
          "estimated_growth_rate": 0.2558139534883721,
          "frequency": 0.43,
          "frequency_final": 0.38,
          "observed_growth_rate": 0.8837209302325582,
          "projected_frequency": 0.11,
          "timepoint": "2017-04-01T00:00:00"
         },
         {
          "clade_membership": "934e1c1",
          "estimated_growth_rate": 1.0309278350515465,
          "frequency": 0.97,
          "frequency_final": 0.96,
          "observed_growth_rate": 0.9896907216494846,
          "projected_frequency": 1,
          "timepoint": "2017-04-01T00:00:00"
         },
         {
          "clade_membership": "ca3acdb",
          "estimated_growth_rate": 2.4571428571428573,
          "frequency": 0.35,
          "frequency_final": 0.06,
          "observed_growth_rate": 0.17142857142857143,
          "projected_frequency": 0.86,
          "timepoint": "2017-04-01T00:00:00"
         },
         {
          "clade_membership": "ea08d9e",
          "estimated_growth_rate": 1.0309278350515465,
          "frequency": 0.97,
          "frequency_final": 0.96,
          "observed_growth_rate": 0.9896907216494846,
          "projected_frequency": 1,
          "timepoint": "2017-04-01T00:00:00"
         },
         {
          "clade_membership": "efde025",
          "estimated_growth_rate": 2.4571428571428573,
          "frequency": 0.35,
          "frequency_final": 0.06,
          "observed_growth_rate": 0.17142857142857143,
          "projected_frequency": 0.86,
          "timepoint": "2017-04-01T00:00:00"
         },
         {
          "clade_membership": "f14fabc",
          "estimated_growth_rate": 1.0309278350515465,
          "frequency": 0.97,
          "frequency_final": 0.96,
          "observed_growth_rate": 0.9896907216494846,
          "projected_frequency": 1,
          "timepoint": "2017-04-01T00:00:00"
         },
         {
          "clade_membership": "0165eeb",
          "estimated_growth_rate": 1.0204081632653061,
          "frequency": 0.98,
          "frequency_final": 0.95,
          "observed_growth_rate": 0.9693877551020408,
          "projected_frequency": 1,
          "timepoint": "2017-10-01T00:00:00"
         },
         {
          "clade_membership": "020dd15",
          "estimated_growth_rate": 1.0416666666666667,
          "frequency": 0.24,
          "frequency_final": 0.32,
          "observed_growth_rate": 1.3333333333333335,
          "projected_frequency": 0.25,
          "timepoint": "2017-10-01T00:00:00"
         },
         {
          "clade_membership": "04899a3",
          "estimated_growth_rate": 1.3076923076923077,
          "frequency": 0.52,
          "frequency_final": 0.62,
          "observed_growth_rate": 1.1923076923076923,
          "projected_frequency": 0.68,
          "timepoint": "2017-10-01T00:00:00"
         },
         {
          "clade_membership": "208de66",
          "estimated_growth_rate": 1.3018867924528301,
          "frequency": 0.53,
          "frequency_final": 0.62,
          "observed_growth_rate": 1.169811320754717,
          "projected_frequency": 0.69,
          "timepoint": "2017-10-01T00:00:00"
         },
         {
          "clade_membership": "28b97a2",
          "estimated_growth_rate": 1.3018867924528301,
          "frequency": 0.53,
          "frequency_final": 0.62,
          "observed_growth_rate": 1.169811320754717,
          "projected_frequency": 0.69,
          "timepoint": "2017-10-01T00:00:00"
         },
         {
          "clade_membership": "52a778c",
          "estimated_growth_rate": 2.071428571428571,
          "frequency": 0.28,
          "frequency_final": 0.3,
          "observed_growth_rate": 1.0714285714285714,
          "projected_frequency": 0.58,
          "timepoint": "2017-10-01T00:00:00"
         },
         {
          "clade_membership": "5cbac18",
          "estimated_growth_rate": 1.7878787878787876,
          "frequency": 0.33,
          "frequency_final": 0.45,
          "observed_growth_rate": 1.3636363636363635,
          "projected_frequency": 0.59,
          "timepoint": "2017-10-01T00:00:00"
         },
         {
          "clade_membership": "934e1c1",
          "estimated_growth_rate": 1.0204081632653061,
          "frequency": 0.98,
          "frequency_final": 0.95,
          "observed_growth_rate": 0.9693877551020408,
          "projected_frequency": 1,
          "timepoint": "2017-10-01T00:00:00"
         },
         {
          "clade_membership": "b60c818",
          "estimated_growth_rate": 1.0416666666666667,
          "frequency": 0.24,
          "frequency_final": 0.32,
          "observed_growth_rate": 1.3333333333333335,
          "projected_frequency": 0.25,
          "timepoint": "2017-10-01T00:00:00"
         },
         {
          "clade_membership": "c8f39fb",
          "estimated_growth_rate": 1.7878787878787876,
          "frequency": 0.33,
          "frequency_final": 0.45,
          "observed_growth_rate": 1.3636363636363635,
          "projected_frequency": 0.59,
          "timepoint": "2017-10-01T00:00:00"
         },
         {
          "clade_membership": "ca3acdb",
          "estimated_growth_rate": 0.29411764705882354,
          "frequency": 0.17,
          "frequency_final": 0.01,
          "observed_growth_rate": 0.058823529411764705,
          "projected_frequency": 0.05,
          "timepoint": "2017-10-01T00:00:00"
         },
         {
          "clade_membership": "daeb3db",
          "estimated_growth_rate": 1.0416666666666667,
          "frequency": 0.24,
          "frequency_final": 0.32,
          "observed_growth_rate": 1.3333333333333335,
          "projected_frequency": 0.25,
          "timepoint": "2017-10-01T00:00:00"
         },
         {
          "clade_membership": "e291553",
          "estimated_growth_rate": 1.4255319148936172,
          "frequency": 0.47,
          "frequency_final": 0.62,
          "observed_growth_rate": 1.319148936170213,
          "projected_frequency": 0.67,
          "timepoint": "2017-10-01T00:00:00"
         },
         {
          "clade_membership": "ea08d9e",
          "estimated_growth_rate": 1.0204081632653061,
          "frequency": 0.98,
          "frequency_final": 0.95,
          "observed_growth_rate": 0.9693877551020408,
          "projected_frequency": 1,
          "timepoint": "2017-10-01T00:00:00"
         },
         {
          "clade_membership": "efde025",
          "estimated_growth_rate": 0.29411764705882354,
          "frequency": 0.17,
          "frequency_final": 0.01,
          "observed_growth_rate": 0.058823529411764705,
          "projected_frequency": 0.05,
          "timepoint": "2017-10-01T00:00:00"
         },
         {
          "clade_membership": "f14fabc",
          "estimated_growth_rate": 1.0204081632653061,
          "frequency": 0.98,
          "frequency_final": 0.95,
          "observed_growth_rate": 0.9693877551020408,
          "projected_frequency": 1,
          "timepoint": "2017-10-01T00:00:00"
         },
         {
          "clade_membership": "0165eeb",
          "estimated_growth_rate": 1.03125,
          "frequency": 0.96,
          "frequency_final": 0.88,
          "observed_growth_rate": 0.9166666666666667,
          "projected_frequency": 0.99,
          "timepoint": "2018-04-01T00:00:00"
         },
         {
          "clade_membership": "020dd15",
          "estimated_growth_rate": 1.4807692307692308,
          "frequency": 0.52,
          "frequency_final": 0.06,
          "observed_growth_rate": 0.11538461538461538,
          "projected_frequency": 0.77,
          "timepoint": "2018-04-01T00:00:00"
         },
         {
          "clade_membership": "04899a3",
          "estimated_growth_rate": 0.5526315789473684,
          "frequency": 0.38,
          "frequency_final": 0.79,
          "observed_growth_rate": 2.0789473684210527,
          "projected_frequency": 0.21,
          "timepoint": "2018-04-01T00:00:00"
         },
         {
          "clade_membership": "208de66",
          "estimated_growth_rate": 0.5526315789473684,
          "frequency": 0.38,
          "frequency_final": 0.79,
          "observed_growth_rate": 2.0789473684210527,
          "projected_frequency": 0.21,
          "timepoint": "2018-04-01T00:00:00"
         },
         {
          "clade_membership": "28b97a2",
          "estimated_growth_rate": 0.5526315789473684,
          "frequency": 0.38,
          "frequency_final": 0.79,
          "observed_growth_rate": 2.0789473684210527,
          "projected_frequency": 0.21,
          "timepoint": "2018-04-01T00:00:00"
         },
         {
          "clade_membership": "52a778c",
          "estimated_growth_rate": 0.6538461538461539,
          "frequency": 0.26,
          "frequency_final": 0.39,
          "observed_growth_rate": 1.5,
          "projected_frequency": 0.17,
          "timepoint": "2018-04-01T00:00:00"
         },
         {
          "clade_membership": "5cbac18",
          "estimated_growth_rate": 0.6071428571428571,
          "frequency": 0.28,
          "frequency_final": 0.79,
          "observed_growth_rate": 2.821428571428571,
          "projected_frequency": 0.17,
          "timepoint": "2018-04-01T00:00:00"
         },
         {
          "clade_membership": "934e1c1",
          "estimated_growth_rate": 1.03125,
          "frequency": 0.96,
          "frequency_final": 0.88,
          "observed_growth_rate": 0.9166666666666667,
          "projected_frequency": 0.99,
          "timepoint": "2018-04-01T00:00:00"
         },
         {
          "clade_membership": "94d7ef8",
          "estimated_growth_rate": 2.8333333333333335,
          "frequency": 0.18,
          "frequency_final": 0.03,
          "observed_growth_rate": 0.16666666666666666,
          "projected_frequency": 0.51,
          "timepoint": "2018-04-01T00:00:00"
         },
         {
          "clade_membership": "b60c818",
          "estimated_growth_rate": 1.4807692307692308,
          "frequency": 0.52,
          "frequency_final": 0.06,
          "observed_growth_rate": 0.11538461538461538,
          "projected_frequency": 0.77,
          "timepoint": "2018-04-01T00:00:00"
         },
         {
          "clade_membership": "c8f39fb",
          "estimated_growth_rate": 0.6071428571428571,
          "frequency": 0.28,
          "frequency_final": 0.79,
          "observed_growth_rate": 2.821428571428571,
          "projected_frequency": 0.17,
          "timepoint": "2018-04-01T00:00:00"
         },
         {
          "clade_membership": "daeb3db",
          "estimated_growth_rate": 1.4807692307692308,
          "frequency": 0.52,
          "frequency_final": 0.06,
          "observed_growth_rate": 0.11538461538461538,
          "projected_frequency": 0.77,
          "timepoint": "2018-04-01T00:00:00"
         },
         {
          "clade_membership": "e291553",
          "estimated_growth_rate": 0.5675675675675675,
          "frequency": 0.37,
          "frequency_final": 0.79,
          "observed_growth_rate": 2.135135135135135,
          "projected_frequency": 0.21,
          "timepoint": "2018-04-01T00:00:00"
         },
         {
          "clade_membership": "ea08d9e",
          "estimated_growth_rate": 1.03125,
          "frequency": 0.96,
          "frequency_final": 0.88,
          "observed_growth_rate": 0.9166666666666667,
          "projected_frequency": 0.99,
          "timepoint": "2018-04-01T00:00:00"
         },
         {
          "clade_membership": "f14fabc",
          "estimated_growth_rate": 1.03125,
          "frequency": 0.96,
          "frequency_final": 0.88,
          "observed_growth_rate": 0.9166666666666667,
          "projected_frequency": 0.99,
          "timepoint": "2018-04-01T00:00:00"
         },
         {
          "clade_membership": "0165eeb",
          "estimated_growth_rate": 1.0421052631578949,
          "frequency": 0.95,
          "frequency_final": 0.85,
          "observed_growth_rate": 0.8947368421052632,
          "projected_frequency": 0.99,
          "timepoint": "2018-10-01T00:00:00"
         },
         {
          "clade_membership": "020dd15",
          "estimated_growth_rate": 2.59375,
          "frequency": 0.32,
          "frequency_final": 0.01,
          "observed_growth_rate": 0.03125,
          "projected_frequency": 0.83,
          "timepoint": "2018-10-01T00:00:00"
         },
         {
          "clade_membership": "04899a3",
          "estimated_growth_rate": 0.2741935483870968,
          "frequency": 0.62,
          "frequency_final": 0.84,
          "observed_growth_rate": 1.3548387096774193,
          "projected_frequency": 0.17,
          "timepoint": "2018-10-01T00:00:00"
         },
         {
          "clade_membership": "208de66",
          "estimated_growth_rate": 0.2741935483870968,
          "frequency": 0.62,
          "frequency_final": 0.84,
          "observed_growth_rate": 1.3548387096774193,
          "projected_frequency": 0.17,
          "timepoint": "2018-10-01T00:00:00"
         },
         {
          "clade_membership": "28b97a2",
          "estimated_growth_rate": 0.2741935483870968,
          "frequency": 0.62,
          "frequency_final": 0.84,
          "observed_growth_rate": 1.3548387096774193,
          "projected_frequency": 0.17,
          "timepoint": "2018-10-01T00:00:00"
         },
         {
          "clade_membership": "37de687",
          "estimated_growth_rate": 0.2857142857142857,
          "frequency": 0.28,
          "frequency_final": 0.18,
          "observed_growth_rate": 0.6428571428571428,
          "projected_frequency": 0.08,
          "timepoint": "2018-10-01T00:00:00"
         },
         {
          "clade_membership": "52a778c",
          "estimated_growth_rate": 0.26666666666666666,
          "frequency": 0.3,
          "frequency_final": 0.18,
          "observed_growth_rate": 0.6,
          "projected_frequency": 0.08,
          "timepoint": "2018-10-01T00:00:00"
         },
         {
          "clade_membership": "5cbac18",
          "estimated_growth_rate": 0.2888888888888889,
          "frequency": 0.45,
          "frequency_final": 0.84,
          "observed_growth_rate": 1.8666666666666665,
          "projected_frequency": 0.13,
          "timepoint": "2018-10-01T00:00:00"
         },
         {
          "clade_membership": "934e1c1",
          "estimated_growth_rate": 1.0421052631578949,
          "frequency": 0.95,
          "frequency_final": 0.85,
          "observed_growth_rate": 0.8947368421052632,
          "projected_frequency": 0.99,
          "timepoint": "2018-10-01T00:00:00"
         },
         {
          "clade_membership": "94d7ef8",
          "estimated_growth_rate": 3.3750000000000004,
          "frequency": 0.24,
          "frequency_final": 0,
          "observed_growth_rate": 0,
          "projected_frequency": 0.81,
          "timepoint": "2018-10-01T00:00:00"
         },
         {
          "clade_membership": "b60c818",
          "estimated_growth_rate": 2.59375,
          "frequency": 0.32,
          "frequency_final": 0.01,
          "observed_growth_rate": 0.03125,
          "projected_frequency": 0.83,
          "timepoint": "2018-10-01T00:00:00"
         },
         {
          "clade_membership": "c8f39fb",
          "estimated_growth_rate": 0.2888888888888889,
          "frequency": 0.45,
          "frequency_final": 0.84,
          "observed_growth_rate": 1.8666666666666665,
          "projected_frequency": 0.13,
          "timepoint": "2018-10-01T00:00:00"
         },
         {
          "clade_membership": "daeb3db",
          "estimated_growth_rate": 2.59375,
          "frequency": 0.32,
          "frequency_final": 0.01,
          "observed_growth_rate": 0.03125,
          "projected_frequency": 0.83,
          "timepoint": "2018-10-01T00:00:00"
         },
         {
          "clade_membership": "e291553",
          "estimated_growth_rate": 0.2741935483870968,
          "frequency": 0.62,
          "frequency_final": 0.84,
          "observed_growth_rate": 1.3548387096774193,
          "projected_frequency": 0.17,
          "timepoint": "2018-10-01T00:00:00"
         },
         {
          "clade_membership": "ea08d9e",
          "estimated_growth_rate": 1.0421052631578949,
          "frequency": 0.95,
          "frequency_final": 0.85,
          "observed_growth_rate": 0.8947368421052632,
          "projected_frequency": 0.99,
          "timepoint": "2018-10-01T00:00:00"
         },
         {
          "clade_membership": "f14fabc",
          "estimated_growth_rate": 1.0421052631578949,
          "frequency": 0.95,
          "frequency_final": 0.85,
          "observed_growth_rate": 0.8947368421052632,
          "projected_frequency": 0.99,
          "timepoint": "2018-10-01T00:00:00"
         }
        ]
       },
       "encoding": {
        "x": {
         "bin": true,
         "field": "observed_growth_rate",
         "title": "Observed growth rate",
         "type": "quantitative"
        },
        "y": {
         "aggregate": "count",
         "type": "quantitative"
        }
       },
       "mark": "rect"
      },
      "image/png": "[encoded data removed]",
      "text/plain": [
       "<VegaLite 3 object>\n",
       "\n",
       "If you see this message, it means the renderer has not been properly enabled\n",
       "for the frontend that you are using. For more information, see\n",
       "https://altair-viz.github.io/user_guide/troubleshooting.html\n"
      ]
     },
     "execution_count": 50,
     "metadata": {},
     "output_type": "execute_result"
    }
   ],
   "source": [
    "alt.Chart(complete_clade_frequencies).mark_rect().encode(\n",
    "    x=alt.X(\"observed_growth_rate:Q\", bin=True, title=\"Observed growth rate\"),\n",
    "    y=\"count()\"\n",
    ")"
   ]
  },
  {
   "cell_type": "code",
   "execution_count": 51,
   "metadata": {},
   "outputs": [],
   "source": [
    "complete_clade_frequencies[\"year\"] = complete_clade_frequencies[\"timepoint\"].dt.year"
   ]
  },
  {
   "cell_type": "code",
   "execution_count": 52,
   "metadata": {},
   "outputs": [
    {
     "data": {
      "text/html": [
       "<div>\n",
       "<style scoped>\n",
       "    .dataframe tbody tr th:only-of-type {\n",
       "        vertical-align: middle;\n",
       "    }\n",
       "\n",
       "    .dataframe tbody tr th {\n",
       "        vertical-align: top;\n",
       "    }\n",
       "\n",
       "    .dataframe thead th {\n",
       "        text-align: right;\n",
       "    }\n",
       "</style>\n",
       "<table border=\"1\" class=\"dataframe\">\n",
       "  <thead>\n",
       "    <tr style=\"text-align: right;\">\n",
       "      <th></th>\n",
       "      <th>timepoint</th>\n",
       "      <th>clade_membership</th>\n",
       "      <th>frequency</th>\n",
       "      <th>frequency_final</th>\n",
       "      <th>projected_frequency</th>\n",
       "      <th>observed_growth_rate</th>\n",
       "      <th>estimated_growth_rate</th>\n",
       "      <th>year</th>\n",
       "    </tr>\n",
       "  </thead>\n",
       "  <tbody>\n",
       "    <tr>\n",
       "      <th>0</th>\n",
       "      <td>2015-04-01</td>\n",
       "      <td>0165eeb</td>\n",
       "      <td>0.69</td>\n",
       "      <td>0.83</td>\n",
       "      <td>0.95</td>\n",
       "      <td>1.202899</td>\n",
       "      <td>1.376812</td>\n",
       "      <td>2015</td>\n",
       "    </tr>\n",
       "    <tr>\n",
       "      <th>1</th>\n",
       "      <td>2015-04-01</td>\n",
       "      <td>1ba36d2</td>\n",
       "      <td>0.16</td>\n",
       "      <td>0.17</td>\n",
       "      <td>0.02</td>\n",
       "      <td>1.062500</td>\n",
       "      <td>0.125000</td>\n",
       "      <td>2015</td>\n",
       "    </tr>\n",
       "    <tr>\n",
       "      <th>2</th>\n",
       "      <td>2015-04-01</td>\n",
       "      <td>1edac85</td>\n",
       "      <td>0.16</td>\n",
       "      <td>0.17</td>\n",
       "      <td>0.02</td>\n",
       "      <td>1.062500</td>\n",
       "      <td>0.125000</td>\n",
       "      <td>2015</td>\n",
       "    </tr>\n",
       "    <tr>\n",
       "      <th>5</th>\n",
       "      <td>2015-04-01</td>\n",
       "      <td>66a66dd</td>\n",
       "      <td>0.31</td>\n",
       "      <td>0.17</td>\n",
       "      <td>0.05</td>\n",
       "      <td>0.548387</td>\n",
       "      <td>0.161290</td>\n",
       "      <td>2015</td>\n",
       "    </tr>\n",
       "    <tr>\n",
       "      <th>7</th>\n",
       "      <td>2015-04-01</td>\n",
       "      <td>80897ab</td>\n",
       "      <td>0.16</td>\n",
       "      <td>0.17</td>\n",
       "      <td>0.02</td>\n",
       "      <td>1.062500</td>\n",
       "      <td>0.125000</td>\n",
       "      <td>2015</td>\n",
       "    </tr>\n",
       "  </tbody>\n",
       "</table>\n",
       "</div>"
      ],
      "text/plain": [
       "   timepoint clade_membership  frequency  frequency_final  \\\n",
       "0 2015-04-01          0165eeb       0.69             0.83   \n",
       "1 2015-04-01          1ba36d2       0.16             0.17   \n",
       "2 2015-04-01          1edac85       0.16             0.17   \n",
       "5 2015-04-01          66a66dd       0.31             0.17   \n",
       "7 2015-04-01          80897ab       0.16             0.17   \n",
       "\n",
       "   projected_frequency  observed_growth_rate  estimated_growth_rate  year  \n",
       "0                 0.95              1.202899               1.376812  2015  \n",
       "1                 0.02              1.062500               0.125000  2015  \n",
       "2                 0.02              1.062500               0.125000  2015  \n",
       "5                 0.05              0.548387               0.161290  2015  \n",
       "7                 0.02              1.062500               0.125000  2015  "
      ]
     },
     "execution_count": 52,
     "metadata": {},
     "output_type": "execute_result"
    }
   ],
   "source": [
    "complete_clade_frequencies.head()"
   ]
  },
  {
   "cell_type": "code",
   "execution_count": 53,
   "metadata": {},
   "outputs": [
    {
     "data": {
      "text/plain": [
       "(99, 8)"
      ]
     },
     "execution_count": 53,
     "metadata": {},
     "output_type": "execute_result"
    }
   ],
   "source": [
    "complete_clade_frequencies.shape"
   ]
  },
  {
   "cell_type": "code",
   "execution_count": 54,
   "metadata": {},
   "outputs": [],
   "source": [
    "r, p = pearsonr(\n",
    "    complete_clade_frequencies[\"observed_growth_rate\"],\n",
    "    complete_clade_frequencies[\"estimated_growth_rate\"]\n",
    ")"
   ]
  },
  {
   "cell_type": "code",
   "execution_count": 55,
   "metadata": {},
   "outputs": [
    {
     "data": {
      "text/plain": [
       "-0.2357726056040369"
      ]
     },
     "execution_count": 55,
     "metadata": {},
     "output_type": "execute_result"
    }
   ],
   "source": [
    "r"
   ]
  },
  {
   "cell_type": "code",
   "execution_count": 56,
   "metadata": {},
   "outputs": [
    {
     "data": {
      "text/plain": [
       "0.01880685712264891"
      ]
     },
     "execution_count": 56,
     "metadata": {},
     "output_type": "execute_result"
    }
   ],
   "source": [
    "p"
   ]
  },
  {
   "cell_type": "code",
   "execution_count": 57,
   "metadata": {},
   "outputs": [],
   "source": [
    "mcc, confusion_matrix = get_matthews_correlation_coefficient_for_data_frame(complete_clade_frequencies, True)"
   ]
  },
  {
   "cell_type": "code",
   "execution_count": 58,
   "metadata": {},
   "outputs": [
    {
     "data": {
      "text/plain": [
       "0.005024079080430953"
      ]
     },
     "execution_count": 58,
     "metadata": {},
     "output_type": "execute_result"
    }
   ],
   "source": [
    "mcc"
   ]
  },
  {
   "cell_type": "code",
   "execution_count": 59,
   "metadata": {},
   "outputs": [
    {
     "data": {
      "text/plain": [
       "{'tp': 28, 'tn': 21, 'fp': 32, 'fn': 18}"
      ]
     },
     "execution_count": 59,
     "metadata": {},
     "output_type": "execute_result"
    }
   ],
   "source": [
    "confusion_matrix"
   ]
  },
  {
   "cell_type": "code",
   "execution_count": 60,
   "metadata": {},
   "outputs": [
    {
     "data": {
      "text/plain": [
       "99"
      ]
     },
     "execution_count": 60,
     "metadata": {},
     "output_type": "execute_result"
    }
   ],
   "source": [
    "sum(confusion_matrix.values())"
   ]
  },
  {
   "cell_type": "code",
   "execution_count": 61,
   "metadata": {},
   "outputs": [
    {
     "data": {
      "text/plain": [
       "0.4666666666666667"
      ]
     },
     "execution_count": 61,
     "metadata": {},
     "output_type": "execute_result"
    }
   ],
   "source": [
    "growth_accuracy = confusion_matrix[\"tp\"] / float(confusion_matrix[\"tp\"] + confusion_matrix[\"fp\"])\n",
    "growth_accuracy"
   ]
  },
  {
   "cell_type": "code",
   "execution_count": 62,
   "metadata": {},
   "outputs": [
    {
     "data": {
      "text/plain": [
       "0.5384615384615384"
      ]
     },
     "execution_count": 62,
     "metadata": {},
     "output_type": "execute_result"
    }
   ],
   "source": [
    "decline_accuracy = confusion_matrix[\"tn\"] / float(confusion_matrix[\"tn\"] + confusion_matrix[\"fn\"])\n",
    "decline_accuracy"
   ]
  },
  {
   "cell_type": "code",
   "execution_count": 63,
   "metadata": {},
   "outputs": [],
   "source": [
    "min_growth_rate = 0\n",
    "max_growth_rate = complete_clade_frequencies.loc[:, [\"observed_growth_rate\", \"estimated_growth_rate\"]].max().max() + 0.2"
   ]
  },
  {
   "cell_type": "code",
   "execution_count": 64,
   "metadata": {},
   "outputs": [],
   "source": [
    "pseudofrequency = 0.001"
   ]
  },
  {
   "cell_type": "code",
   "execution_count": 65,
   "metadata": {},
   "outputs": [],
   "source": [
    "complete_clade_frequencies[\"log_observed_growth_rate\"] = (\n",
    "    np.log10((complete_clade_frequencies[\"frequency_final\"] + pseudofrequency) / (complete_clade_frequencies[\"frequency\"] + pseudofrequency))\n",
    ")\n",
    "\n",
    "complete_clade_frequencies[\"log_estimated_growth_rate\"] = (\n",
    "    np.log10((complete_clade_frequencies[\"projected_frequency\"] + pseudofrequency) / (complete_clade_frequencies[\"frequency\"] + pseudofrequency))\n",
    ")"
   ]
  },
  {
   "cell_type": "code",
   "execution_count": 66,
   "metadata": {},
   "outputs": [
    {
     "data": {
      "text/html": [
       "<div>\n",
       "<style scoped>\n",
       "    .dataframe tbody tr th:only-of-type {\n",
       "        vertical-align: middle;\n",
       "    }\n",
       "\n",
       "    .dataframe tbody tr th {\n",
       "        vertical-align: top;\n",
       "    }\n",
       "\n",
       "    .dataframe thead th {\n",
       "        text-align: right;\n",
       "    }\n",
       "</style>\n",
       "<table border=\"1\" class=\"dataframe\">\n",
       "  <thead>\n",
       "    <tr style=\"text-align: right;\">\n",
       "      <th></th>\n",
       "      <th>timepoint</th>\n",
       "      <th>clade_membership</th>\n",
       "      <th>frequency</th>\n",
       "      <th>frequency_final</th>\n",
       "      <th>projected_frequency</th>\n",
       "      <th>observed_growth_rate</th>\n",
       "      <th>estimated_growth_rate</th>\n",
       "      <th>year</th>\n",
       "      <th>log_observed_growth_rate</th>\n",
       "      <th>log_estimated_growth_rate</th>\n",
       "    </tr>\n",
       "  </thead>\n",
       "  <tbody>\n",
       "    <tr>\n",
       "      <th>0</th>\n",
       "      <td>2015-04-01</td>\n",
       "      <td>0165eeb</td>\n",
       "      <td>0.69</td>\n",
       "      <td>0.83</td>\n",
       "      <td>0.95</td>\n",
       "      <td>1.202899</td>\n",
       "      <td>1.376812</td>\n",
       "      <td>2015</td>\n",
       "      <td>0.080123</td>\n",
       "      <td>0.138702</td>\n",
       "    </tr>\n",
       "    <tr>\n",
       "      <th>1</th>\n",
       "      <td>2015-04-01</td>\n",
       "      <td>1ba36d2</td>\n",
       "      <td>0.16</td>\n",
       "      <td>0.17</td>\n",
       "      <td>0.02</td>\n",
       "      <td>1.062500</td>\n",
       "      <td>0.125000</td>\n",
       "      <td>2015</td>\n",
       "      <td>0.026170</td>\n",
       "      <td>-0.884607</td>\n",
       "    </tr>\n",
       "    <tr>\n",
       "      <th>2</th>\n",
       "      <td>2015-04-01</td>\n",
       "      <td>1edac85</td>\n",
       "      <td>0.16</td>\n",
       "      <td>0.17</td>\n",
       "      <td>0.02</td>\n",
       "      <td>1.062500</td>\n",
       "      <td>0.125000</td>\n",
       "      <td>2015</td>\n",
       "      <td>0.026170</td>\n",
       "      <td>-0.884607</td>\n",
       "    </tr>\n",
       "    <tr>\n",
       "      <th>5</th>\n",
       "      <td>2015-04-01</td>\n",
       "      <td>66a66dd</td>\n",
       "      <td>0.31</td>\n",
       "      <td>0.17</td>\n",
       "      <td>0.05</td>\n",
       "      <td>0.548387</td>\n",
       "      <td>0.161290</td>\n",
       "      <td>2015</td>\n",
       "      <td>-0.259764</td>\n",
       "      <td>-0.785190</td>\n",
       "    </tr>\n",
       "    <tr>\n",
       "      <th>7</th>\n",
       "      <td>2015-04-01</td>\n",
       "      <td>80897ab</td>\n",
       "      <td>0.16</td>\n",
       "      <td>0.17</td>\n",
       "      <td>0.02</td>\n",
       "      <td>1.062500</td>\n",
       "      <td>0.125000</td>\n",
       "      <td>2015</td>\n",
       "      <td>0.026170</td>\n",
       "      <td>-0.884607</td>\n",
       "    </tr>\n",
       "  </tbody>\n",
       "</table>\n",
       "</div>"
      ],
      "text/plain": [
       "   timepoint clade_membership  frequency  frequency_final  \\\n",
       "0 2015-04-01          0165eeb       0.69             0.83   \n",
       "1 2015-04-01          1ba36d2       0.16             0.17   \n",
       "2 2015-04-01          1edac85       0.16             0.17   \n",
       "5 2015-04-01          66a66dd       0.31             0.17   \n",
       "7 2015-04-01          80897ab       0.16             0.17   \n",
       "\n",
       "   projected_frequency  observed_growth_rate  estimated_growth_rate  year  \\\n",
       "0                 0.95              1.202899               1.376812  2015   \n",
       "1                 0.02              1.062500               0.125000  2015   \n",
       "2                 0.02              1.062500               0.125000  2015   \n",
       "5                 0.05              0.548387               0.161290  2015   \n",
       "7                 0.02              1.062500               0.125000  2015   \n",
       "\n",
       "   log_observed_growth_rate  log_estimated_growth_rate  \n",
       "0                  0.080123                   0.138702  \n",
       "1                  0.026170                  -0.884607  \n",
       "2                  0.026170                  -0.884607  \n",
       "5                 -0.259764                  -0.785190  \n",
       "7                  0.026170                  -0.884607  "
      ]
     },
     "execution_count": 66,
     "metadata": {},
     "output_type": "execute_result"
    }
   ],
   "source": [
    "complete_clade_frequencies.head()"
   ]
  },
  {
   "cell_type": "code",
   "execution_count": 67,
   "metadata": {},
   "outputs": [],
   "source": [
    "upper_limit = np.ceil(complete_clade_frequencies.loc[:, [\"observed_growth_rate\", \"estimated_growth_rate\"]].max().max())\n",
    "\n",
    "log_lower_limit = complete_clade_frequencies.loc[:, [\"log_observed_growth_rate\", \"log_estimated_growth_rate\"]].min().min() - 0.1\n",
    "log_upper_limit = np.ceil(complete_clade_frequencies.loc[:, [\"log_observed_growth_rate\", \"log_estimated_growth_rate\"]].max().max()) + 0.1"
   ]
  },
  {
   "cell_type": "code",
   "execution_count": 68,
   "metadata": {},
   "outputs": [
    {
     "data": {
      "application/vnd.vegalite.v3+json": {
       "$schema": "https://vega.github.io/schema/vega-lite/v3.3.0.json",
       "config": {
        "mark": {
         "tooltip": null
        },
        "view": {
         "height": 300,
         "width": 400
        }
       },
       "data": {
        "name": "data-1eb564699fb8d6288c31cde5a28e9e11"
       },
       "datasets": {
        "data-1eb564699fb8d6288c31cde5a28e9e11": [
         {
          "clade_membership": "0165eeb",
          "estimated_growth_rate": 1.3768115942028987,
          "frequency": 0.69,
          "frequency_final": 0.83,
          "log_estimated_growth_rate": 0.13870246956321552,
          "log_observed_growth_rate": 0.08012297640991257,
          "observed_growth_rate": 1.2028985507246377,
          "projected_frequency": 0.95,
          "timepoint": "2015-04-01T00:00:00",
          "year": 2015
         },
         {
          "clade_membership": "1ba36d2",
          "estimated_growth_rate": 0.125,
          "frequency": 0.16,
          "frequency_final": 0.17,
          "log_estimated_growth_rate": -0.8846065812979305,
          "log_observed_growth_rate": 0.026170234360304176,
          "observed_growth_rate": 1.0625,
          "projected_frequency": 0.02,
          "timepoint": "2015-04-01T00:00:00",
          "year": 2015
         },
         {
          "clade_membership": "1edac85",
          "estimated_growth_rate": 0.125,
          "frequency": 0.16,
          "frequency_final": 0.17,
          "log_estimated_growth_rate": -0.8846065812979305,
          "log_observed_growth_rate": 0.026170234360304176,
          "observed_growth_rate": 1.0625,
          "projected_frequency": 0.02,
          "timepoint": "2015-04-01T00:00:00",
          "year": 2015
         },
         {
          "clade_membership": "66a66dd",
          "estimated_growth_rate": 0.16129032258064518,
          "frequency": 0.31,
          "frequency_final": 0.17,
          "log_estimated_growth_rate": -0.7851902129289011,
          "log_observed_growth_rate": -0.2597642786346836,
          "observed_growth_rate": 0.5483870967741936,
          "projected_frequency": 0.05,
          "timepoint": "2015-04-01T00:00:00",
          "year": 2015
         },
         {
          "clade_membership": "80897ab",
          "estimated_growth_rate": 0.125,
          "frequency": 0.16,
          "frequency_final": 0.17,
          "log_estimated_growth_rate": -0.8846065812979305,
          "log_observed_growth_rate": 0.026170234360304176,
          "observed_growth_rate": 1.0625,
          "projected_frequency": 0.02,
          "timepoint": "2015-04-01T00:00:00",
          "year": 2015
         },
         {
          "clade_membership": "8d4351f",
          "estimated_growth_rate": 0.16129032258064518,
          "frequency": 0.31,
          "frequency_final": 0.17,
          "log_estimated_growth_rate": -0.7851902129289011,
          "log_observed_growth_rate": -0.2597642786346836,
          "observed_growth_rate": 0.5483870967741936,
          "projected_frequency": 0.05,
          "timepoint": "2015-04-01T00:00:00",
          "year": 2015
         },
         {
          "clade_membership": "934e1c1",
          "estimated_growth_rate": 1.3768115942028987,
          "frequency": 0.69,
          "frequency_final": 0.83,
          "log_estimated_growth_rate": 0.13870246956321552,
          "log_observed_growth_rate": 0.08012297640991257,
          "observed_growth_rate": 1.2028985507246377,
          "projected_frequency": 0.95,
          "timepoint": "2015-04-01T00:00:00",
          "year": 2015
         },
         {
          "clade_membership": "c9346ca",
          "estimated_growth_rate": 0.125,
          "frequency": 0.16,
          "frequency_final": 0.17,
          "log_estimated_growth_rate": -0.8846065812979305,
          "log_observed_growth_rate": 0.026170234360304176,
          "observed_growth_rate": 1.0625,
          "projected_frequency": 0.02,
          "timepoint": "2015-04-01T00:00:00",
          "year": 2015
         },
         {
          "clade_membership": "ea08d9e",
          "estimated_growth_rate": 1.3768115942028987,
          "frequency": 0.69,
          "frequency_final": 0.83,
          "log_estimated_growth_rate": 0.13870246956321552,
          "log_observed_growth_rate": 0.08012297640991257,
          "observed_growth_rate": 1.2028985507246377,
          "projected_frequency": 0.95,
          "timepoint": "2015-04-01T00:00:00",
          "year": 2015
         },
         {
          "clade_membership": "f14fabc",
          "estimated_growth_rate": 1.3768115942028987,
          "frequency": 0.69,
          "frequency_final": 0.83,
          "log_estimated_growth_rate": 0.13870246956321552,
          "log_observed_growth_rate": 0.08012297640991257,
          "observed_growth_rate": 1.2028985507246377,
          "projected_frequency": 0.95,
          "timepoint": "2015-04-01T00:00:00",
          "year": 2015
         },
         {
          "clade_membership": "0165eeb",
          "estimated_growth_rate": 1.101123595505618,
          "frequency": 0.89,
          "frequency_final": 0.82,
          "log_estimated_growth_rate": 0.04179130334307371,
          "log_observed_growth_rate": -0.03553454691743406,
          "observed_growth_rate": 0.9213483146067415,
          "projected_frequency": 0.98,
          "timepoint": "2015-10-01T00:00:00",
          "year": 2015
         },
         {
          "clade_membership": "0dbd131",
          "estimated_growth_rate": 3.0454545454545454,
          "frequency": 0.22,
          "frequency_final": 0.01,
          "log_estimated_growth_rate": 0.4823302464838814,
          "log_observed_growth_rate": -1.3029995885268857,
          "observed_growth_rate": 0.045454545454545456,
          "projected_frequency": 0.67,
          "timepoint": "2015-10-01T00:00:00",
          "year": 2015
         },
         {
          "clade_membership": "934e1c1",
          "estimated_growth_rate": 1.101123595505618,
          "frequency": 0.89,
          "frequency_final": 0.82,
          "log_estimated_growth_rate": 0.04179130334307371,
          "log_observed_growth_rate": -0.03553454691743406,
          "observed_growth_rate": 0.9213483146067415,
          "projected_frequency": 0.98,
          "timepoint": "2015-10-01T00:00:00",
          "year": 2015
         },
         {
          "clade_membership": "e4d8ffe",
          "estimated_growth_rate": 2.791666666666667,
          "frequency": 0.24,
          "frequency_final": 0.01,
          "log_estimated_growth_rate": 0.44470547759412377,
          "log_observed_growth_rate": -1.3406243574166434,
          "observed_growth_rate": 0.04166666666666667,
          "projected_frequency": 0.67,
          "timepoint": "2015-10-01T00:00:00",
          "year": 2015
         },
         {
          "clade_membership": "ea08d9e",
          "estimated_growth_rate": 1.101123595505618,
          "frequency": 0.89,
          "frequency_final": 0.82,
          "log_estimated_growth_rate": 0.04179130334307371,
          "log_observed_growth_rate": -0.03553454691743406,
          "observed_growth_rate": 0.9213483146067415,
          "projected_frequency": 0.98,
          "timepoint": "2015-10-01T00:00:00",
          "year": 2015
         },
         {
          "clade_membership": "f14fabc",
          "estimated_growth_rate": 1.101123595505618,
          "frequency": 0.89,
          "frequency_final": 0.82,
          "log_estimated_growth_rate": 0.04179130334307371,
          "log_observed_growth_rate": -0.03553454691743406,
          "observed_growth_rate": 0.9213483146067415,
          "projected_frequency": 0.98,
          "timepoint": "2015-10-01T00:00:00",
          "year": 2015
         },
         {
          "clade_membership": "0165eeb",
          "estimated_growth_rate": 1.108433734939759,
          "frequency": 0.83,
          "frequency_final": 0.97,
          "log_estimated_growth_rate": 0.044658606412738014,
          "log_observed_growth_rate": 0.06761820612389391,
          "observed_growth_rate": 1.1686746987951808,
          "projected_frequency": 0.92,
          "timepoint": "2016-04-01T00:00:00",
          "year": 2016
         },
         {
          "clade_membership": "04899a3",
          "estimated_growth_rate": 2.7727272727272725,
          "frequency": 0.22,
          "frequency_final": 0.33,
          "log_estimated_growth_rate": 0.4416489365574435,
          "log_observed_growth_rate": 0.17543572009060804,
          "observed_growth_rate": 1.5,
          "projected_frequency": 0.61,
          "timepoint": "2016-04-01T00:00:00",
          "year": 2016
         },
         {
          "clade_membership": "1ba36d2",
          "estimated_growth_rate": 0.47058823529411764,
          "frequency": 0.17,
          "frequency_final": 0.03,
          "log_estimated_growth_rate": -0.3245110915135041,
          "log_observed_growth_rate": -0.7416344165578812,
          "observed_growth_rate": 0.1764705882352941,
          "projected_frequency": 0.08,
          "timepoint": "2016-04-01T00:00:00",
          "year": 2016
         },
         {
          "clade_membership": "1edac85",
          "estimated_growth_rate": 0.47058823529411764,
          "frequency": 0.17,
          "frequency_final": 0.03,
          "log_estimated_growth_rate": -0.3245110915135041,
          "log_observed_growth_rate": -0.7416344165578812,
          "observed_growth_rate": 0.1764705882352941,
          "projected_frequency": 0.08,
          "timepoint": "2016-04-01T00:00:00",
          "year": 2016
         },
         {
          "clade_membership": "208de66",
          "estimated_growth_rate": 2.0512820512820515,
          "frequency": 0.39,
          "frequency_final": 0.43,
          "log_estimated_growth_rate": 0.3114557586883709,
          "log_observed_growth_rate": 0.04230051276486479,
          "observed_growth_rate": 1.1025641025641024,
          "projected_frequency": 0.8,
          "timepoint": "2016-04-01T00:00:00",
          "year": 2016
         },
         {
          "clade_membership": "28b97a2",
          "estimated_growth_rate": 2,
          "frequency": 0.4,
          "frequency_final": 0.43,
          "log_estimated_growth_rate": 0.30048814346405534,
          "log_observed_growth_rate": 0.0313328975405493,
          "observed_growth_rate": 1.075,
          "projected_frequency": 0.8,
          "timepoint": "2016-04-01T00:00:00",
          "year": 2016
         },
         {
          "clade_membership": "66a66dd",
          "estimated_growth_rate": 0.47058823529411764,
          "frequency": 0.17,
          "frequency_final": 0.03,
          "log_estimated_growth_rate": -0.3245110915135041,
          "log_observed_growth_rate": -0.7416344165578812,
          "observed_growth_rate": 0.1764705882352941,
          "projected_frequency": 0.08,
          "timepoint": "2016-04-01T00:00:00",
          "year": 2016
         },
         {
          "clade_membership": "80897ab",
          "estimated_growth_rate": 0.47058823529411764,
          "frequency": 0.17,
          "frequency_final": 0.03,
          "log_estimated_growth_rate": -0.3245110915135041,
          "log_observed_growth_rate": -0.7416344165578812,
          "observed_growth_rate": 0.1764705882352941,
          "projected_frequency": 0.08,
          "timepoint": "2016-04-01T00:00:00",
          "year": 2016
         },
         {
          "clade_membership": "8d4351f",
          "estimated_growth_rate": 0.47058823529411764,
          "frequency": 0.17,
          "frequency_final": 0.03,
          "log_estimated_growth_rate": -0.3245110915135041,
          "log_observed_growth_rate": -0.7416344165578812,
          "observed_growth_rate": 0.1764705882352941,
          "projected_frequency": 0.08,
          "timepoint": "2016-04-01T00:00:00",
          "year": 2016
         },
         {
          "clade_membership": "934e1c1",
          "estimated_growth_rate": 1.108433734939759,
          "frequency": 0.83,
          "frequency_final": 0.97,
          "log_estimated_growth_rate": 0.044658606412738014,
          "log_observed_growth_rate": 0.06761820612389391,
          "observed_growth_rate": 1.1686746987951808,
          "projected_frequency": 0.92,
          "timepoint": "2016-04-01T00:00:00",
          "year": 2016
         },
         {
          "clade_membership": "c9346ca",
          "estimated_growth_rate": 0.47058823529411764,
          "frequency": 0.17,
          "frequency_final": 0.03,
          "log_estimated_growth_rate": -0.3245110915135041,
          "log_observed_growth_rate": -0.7416344165578812,
          "observed_growth_rate": 0.1764705882352941,
          "projected_frequency": 0.08,
          "timepoint": "2016-04-01T00:00:00",
          "year": 2016
         },
         {
          "clade_membership": "ea08d9e",
          "estimated_growth_rate": 1.108433734939759,
          "frequency": 0.83,
          "frequency_final": 0.97,
          "log_estimated_growth_rate": 0.044658606412738014,
          "log_observed_growth_rate": 0.06761820612389391,
          "observed_growth_rate": 1.1686746987951808,
          "projected_frequency": 0.92,
          "timepoint": "2016-04-01T00:00:00",
          "year": 2016
         },
         {
          "clade_membership": "f14fabc",
          "estimated_growth_rate": 1.108433734939759,
          "frequency": 0.83,
          "frequency_final": 0.97,
          "log_estimated_growth_rate": 0.044658606412738014,
          "log_observed_growth_rate": 0.06761820612389391,
          "observed_growth_rate": 1.1686746987951808,
          "projected_frequency": 0.92,
          "timepoint": "2016-04-01T00:00:00",
          "year": 2016
         },
         {
          "clade_membership": "0165eeb",
          "estimated_growth_rate": 1.0975609756097562,
          "frequency": 0.82,
          "frequency_final": 0.98,
          "log_estimated_growth_rate": 0.04038163385962228,
          "log_observed_growth_rate": 0.07732585026050773,
          "observed_growth_rate": 1.1951219512195121,
          "projected_frequency": 0.9,
          "timepoint": "2016-10-01T00:00:00",
          "year": 2016
         },
         {
          "clade_membership": "04899a3",
          "estimated_growth_rate": 1.2307692307692308,
          "frequency": 0.26,
          "frequency_final": 0.52,
          "log_estimated_growth_rate": 0.0898645250665911,
          "log_observed_growth_rate": 0.3001972159612435,
          "observed_growth_rate": 2,
          "projected_frequency": 0.32,
          "timepoint": "2016-10-01T00:00:00",
          "year": 2016
         },
         {
          "clade_membership": "1799237",
          "estimated_growth_rate": 0.6666666666666667,
          "frequency": 0.15,
          "frequency_final": 0,
          "log_estimated_growth_rate": -0.1746555735105268,
          "log_observed_growth_rate": -2.1789769472931693,
          "observed_growth_rate": 0,
          "projected_frequency": 0.1,
          "timepoint": "2016-10-01T00:00:00",
          "year": 2016
         },
         {
          "clade_membership": "1ba36d2",
          "estimated_growth_rate": 0.5555555555555556,
          "frequency": 0.18,
          "frequency_final": 0.02,
          "log_estimated_growth_rate": -0.2533572010865419,
          "log_observed_growth_rate": -0.9354592801352652,
          "observed_growth_rate": 0.11111111111111112,
          "projected_frequency": 0.1,
          "timepoint": "2016-10-01T00:00:00",
          "year": 2016
         },
         {
          "clade_membership": "1edac85",
          "estimated_growth_rate": 0.5555555555555556,
          "frequency": 0.18,
          "frequency_final": 0.02,
          "log_estimated_growth_rate": -0.2533572010865419,
          "log_observed_growth_rate": -0.9354592801352652,
          "observed_growth_rate": 0.11111111111111112,
          "projected_frequency": 0.1,
          "timepoint": "2016-10-01T00:00:00",
          "year": 2016
         },
         {
          "clade_membership": "208de66",
          "estimated_growth_rate": 1.58,
          "frequency": 0.5,
          "frequency_final": 0.53,
          "log_estimated_growth_rate": 0.19833875763043082,
          "log_observed_growth_rate": 0.02525679521422336,
          "observed_growth_rate": 1.06,
          "projected_frequency": 0.79,
          "timepoint": "2016-10-01T00:00:00",
          "year": 2016
         },
         {
          "clade_membership": "28b97a2",
          "estimated_growth_rate": 1.58,
          "frequency": 0.5,
          "frequency_final": 0.53,
          "log_estimated_growth_rate": 0.19833875763043082,
          "log_observed_growth_rate": 0.02525679521422336,
          "observed_growth_rate": 1.06,
          "projected_frequency": 0.79,
          "timepoint": "2016-10-01T00:00:00",
          "year": 2016
         },
         {
          "clade_membership": "66a66dd",
          "estimated_growth_rate": 0.5555555555555556,
          "frequency": 0.18,
          "frequency_final": 0.02,
          "log_estimated_growth_rate": -0.2533572010865419,
          "log_observed_growth_rate": -0.9354592801352652,
          "observed_growth_rate": 0.11111111111111112,
          "projected_frequency": 0.1,
          "timepoint": "2016-10-01T00:00:00",
          "year": 2016
         },
         {
          "clade_membership": "80897ab",
          "estimated_growth_rate": 0.5555555555555556,
          "frequency": 0.18,
          "frequency_final": 0.02,
          "log_estimated_growth_rate": -0.2533572010865419,
          "log_observed_growth_rate": -0.9354592801352652,
          "observed_growth_rate": 0.11111111111111112,
          "projected_frequency": 0.1,
          "timepoint": "2016-10-01T00:00:00",
          "year": 2016
         },
         {
          "clade_membership": "8d4351f",
          "estimated_growth_rate": 0.5555555555555556,
          "frequency": 0.18,
          "frequency_final": 0.02,
          "log_estimated_growth_rate": -0.2533572010865419,
          "log_observed_growth_rate": -0.9354592801352652,
          "observed_growth_rate": 0.11111111111111112,
          "projected_frequency": 0.1,
          "timepoint": "2016-10-01T00:00:00",
          "year": 2016
         },
         {
          "clade_membership": "934e1c1",
          "estimated_growth_rate": 1.0975609756097562,
          "frequency": 0.82,
          "frequency_final": 0.98,
          "log_estimated_growth_rate": 0.04038163385962228,
          "log_observed_growth_rate": 0.07732585026050773,
          "observed_growth_rate": 1.1951219512195121,
          "projected_frequency": 0.9,
          "timepoint": "2016-10-01T00:00:00",
          "year": 2016
         },
         {
          "clade_membership": "c9346ca",
          "estimated_growth_rate": 0.5555555555555556,
          "frequency": 0.18,
          "frequency_final": 0.02,
          "log_estimated_growth_rate": -0.2533572010865419,
          "log_observed_growth_rate": -0.9354592801352652,
          "observed_growth_rate": 0.11111111111111112,
          "projected_frequency": 0.1,
          "timepoint": "2016-10-01T00:00:00",
          "year": 2016
         },
         {
          "clade_membership": "ea08d9e",
          "estimated_growth_rate": 1.0975609756097562,
          "frequency": 0.82,
          "frequency_final": 0.98,
          "log_estimated_growth_rate": 0.04038163385962228,
          "log_observed_growth_rate": 0.07732585026050773,
          "observed_growth_rate": 1.1951219512195121,
          "projected_frequency": 0.9,
          "timepoint": "2016-10-01T00:00:00",
          "year": 2016
         },
         {
          "clade_membership": "f14fabc",
          "estimated_growth_rate": 1.0975609756097562,
          "frequency": 0.82,
          "frequency_final": 0.98,
          "log_estimated_growth_rate": 0.04038163385962228,
          "log_observed_growth_rate": 0.07732585026050773,
          "observed_growth_rate": 1.1951219512195121,
          "projected_frequency": 0.9,
          "timepoint": "2016-10-01T00:00:00",
          "year": 2016
         },
         {
          "clade_membership": "0165eeb",
          "estimated_growth_rate": 1.0309278350515465,
          "frequency": 0.97,
          "frequency_final": 0.96,
          "log_estimated_growth_rate": 0.013214847571313755,
          "log_observed_growth_rate": -0.004495842239459528,
          "observed_growth_rate": 0.9896907216494846,
          "projected_frequency": 1,
          "timepoint": "2017-04-01T00:00:00",
          "year": 2017
         },
         {
          "clade_membership": "04899a3",
          "estimated_growth_rate": 0.2727272727272727,
          "frequency": 0.33,
          "frequency_final": 0.38,
          "log_estimated_growth_rate": -0.5607866014546251,
          "log_observed_growth_rate": 0.06109698189990051,
          "observed_growth_rate": 1.1515151515151514,
          "projected_frequency": 0.09,
          "timepoint": "2017-04-01T00:00:00",
          "year": 2017
         },
         {
          "clade_membership": "208de66",
          "estimated_growth_rate": 0.2558139534883721,
          "frequency": 0.43,
          "frequency_final": 0.38,
          "log_estimated_growth_rate": -0.5891542913740742,
          "log_observed_growth_rate": -0.05355229448511231,
          "observed_growth_rate": 0.8837209302325582,
          "projected_frequency": 0.11,
          "timepoint": "2017-04-01T00:00:00",
          "year": 2017
         },
         {
          "clade_membership": "28b97a2",
          "estimated_growth_rate": 0.2558139534883721,
          "frequency": 0.43,
          "frequency_final": 0.38,
          "log_estimated_growth_rate": -0.5891542913740742,
          "log_observed_growth_rate": -0.05355229448511231,
          "observed_growth_rate": 0.8837209302325582,
          "projected_frequency": 0.11,
          "timepoint": "2017-04-01T00:00:00",
          "year": 2017
         },
         {
          "clade_membership": "934e1c1",
          "estimated_growth_rate": 1.0309278350515465,
          "frequency": 0.97,
          "frequency_final": 0.96,
          "log_estimated_growth_rate": 0.013214847571313755,
          "log_observed_growth_rate": -0.004495842239459528,
          "observed_growth_rate": 0.9896907216494846,
          "projected_frequency": 1,
          "timepoint": "2017-04-01T00:00:00",
          "year": 2017
         },
         {
          "clade_membership": "ca3acdb",
          "estimated_growth_rate": 2.4571428571428573,
          "frequency": 0.35,
          "frequency_final": 0.06,
          "log_estimated_growth_rate": 0.38969603498783073,
          "log_observed_growth_rate": -0.759977281455057,
          "observed_growth_rate": 0.17142857142857143,
          "projected_frequency": 0.86,
          "timepoint": "2017-04-01T00:00:00",
          "year": 2017
         },
         {
          "clade_membership": "ea08d9e",
          "estimated_growth_rate": 1.0309278350515465,
          "frequency": 0.97,
          "frequency_final": 0.96,
          "log_estimated_growth_rate": 0.013214847571313755,
          "log_observed_growth_rate": -0.004495842239459528,
          "observed_growth_rate": 0.9896907216494846,
          "projected_frequency": 1,
          "timepoint": "2017-04-01T00:00:00",
          "year": 2017
         },
         {
          "clade_membership": "efde025",
          "estimated_growth_rate": 2.4571428571428573,
          "frequency": 0.35,
          "frequency_final": 0.06,
          "log_estimated_growth_rate": 0.38969603498783073,
          "log_observed_growth_rate": -0.759977281455057,
          "observed_growth_rate": 0.17142857142857143,
          "projected_frequency": 0.86,
          "timepoint": "2017-04-01T00:00:00",
          "year": 2017
         },
         {
          "clade_membership": "f14fabc",
          "estimated_growth_rate": 1.0309278350515465,
          "frequency": 0.97,
          "frequency_final": 0.96,
          "log_estimated_growth_rate": 0.013214847571313755,
          "log_observed_growth_rate": -0.004495842239459528,
          "observed_growth_rate": 0.9896907216494846,
          "projected_frequency": 1,
          "timepoint": "2017-04-01T00:00:00",
          "year": 2017
         },
         {
          "clade_membership": "0165eeb",
          "estimated_growth_rate": 1.0204081632653061,
          "frequency": 0.98,
          "frequency_final": 0.95,
          "log_estimated_growth_rate": 0.008765070099370121,
          "log_observed_growth_rate": -0.013488490442534612,
          "observed_growth_rate": 0.9693877551020408,
          "projected_frequency": 1,
          "timepoint": "2017-10-01T00:00:00",
          "year": 2017
         },
         {
          "clade_membership": "020dd15",
          "estimated_growth_rate": 1.0416666666666667,
          "frequency": 0.24,
          "frequency_final": 0.32,
          "log_estimated_growth_rate": 0.017656678906169787,
          "log_observed_growth_rate": 0.12448798983000374,
          "observed_growth_rate": 1.3333333333333335,
          "projected_frequency": 0.25,
          "timepoint": "2017-10-01T00:00:00",
          "year": 2017
         },
         {
          "clade_membership": "04899a3",
          "estimated_growth_rate": 1.3076923076923077,
          "frequency": 0.52,
          "frequency_final": 0.62,
          "log_estimated_growth_rate": 0.1163093886132607,
          "log_observed_growth_rate": 0.07625387687705572,
          "observed_growth_rate": 1.1923076923076923,
          "projected_frequency": 0.68,
          "timepoint": "2017-10-01T00:00:00",
          "year": 2017
         },
         {
          "clade_membership": "208de66",
          "estimated_growth_rate": 1.3018867924528301,
          "frequency": 0.53,
          "frequency_final": 0.62,
          "log_estimated_growth_rate": 0.11438352629272928,
          "log_observed_growth_rate": 0.06799707909511113,
          "observed_growth_rate": 1.169811320754717,
          "projected_frequency": 0.69,
          "timepoint": "2017-10-01T00:00:00",
          "year": 2017
         },
         {
          "clade_membership": "28b97a2",
          "estimated_growth_rate": 1.3018867924528301,
          "frequency": 0.53,
          "frequency_final": 0.62,
          "log_estimated_growth_rate": 0.11438352629272928,
          "log_observed_growth_rate": 0.06799707909511113,
          "observed_growth_rate": 1.169811320754717,
          "projected_frequency": 0.69,
          "timepoint": "2017-10-01T00:00:00",
          "year": 2017
         },
         {
          "clade_membership": "52a778c",
          "estimated_growth_rate": 2.071428571428571,
          "frequency": 0.28,
          "frequency_final": 0.3,
          "log_estimated_growth_rate": 0.3154698124852508,
          "log_observed_growth_rate": 0.029860175688763372,
          "observed_growth_rate": 1.0714285714285714,
          "projected_frequency": 0.58,
          "timepoint": "2017-10-01T00:00:00",
          "year": 2017
         },
         {
          "clade_membership": "5cbac18",
          "estimated_growth_rate": 1.7878787878787876,
          "frequency": 0.33,
          "frequency_final": 0.45,
          "log_estimated_growth_rate": 0.2517594871055366,
          "log_observed_growth_rate": 0.13434854810224175,
          "observed_growth_rate": 1.3636363636363635,
          "projected_frequency": 0.59,
          "timepoint": "2017-10-01T00:00:00",
          "year": 2017
         },
         {
          "clade_membership": "934e1c1",
          "estimated_growth_rate": 1.0204081632653061,
          "frequency": 0.98,
          "frequency_final": 0.95,
          "log_estimated_growth_rate": 0.008765070099370121,
          "log_observed_growth_rate": -0.013488490442534612,
          "observed_growth_rate": 0.9693877551020408,
          "projected_frequency": 1,
          "timepoint": "2017-10-01T00:00:00",
          "year": 2017
         },
         {
          "clade_membership": "b60c818",
          "estimated_growth_rate": 1.0416666666666667,
          "frequency": 0.24,
          "frequency_final": 0.32,
          "log_estimated_growth_rate": 0.017656678906169787,
          "log_observed_growth_rate": 0.12448798983000374,
          "observed_growth_rate": 1.3333333333333335,
          "projected_frequency": 0.25,
          "timepoint": "2017-10-01T00:00:00",
          "year": 2017
         },
         {
          "clade_membership": "c8f39fb",
          "estimated_growth_rate": 1.7878787878787876,
          "frequency": 0.33,
          "frequency_final": 0.45,
          "log_estimated_growth_rate": 0.2517594871055366,
          "log_observed_growth_rate": 0.13434854810224175,
          "observed_growth_rate": 1.3636363636363635,
          "projected_frequency": 0.59,
          "timepoint": "2017-10-01T00:00:00",
          "year": 2017
         },
         {
          "clade_membership": "ca3acdb",
          "estimated_growth_rate": 0.29411764705882354,
          "frequency": 0.17,
          "frequency_final": 0.01,
          "log_estimated_growth_rate": -0.5254259342942175,
          "log_observed_growth_rate": -1.191603425233929,
          "observed_growth_rate": 0.058823529411764705,
          "projected_frequency": 0.05,
          "timepoint": "2017-10-01T00:00:00",
          "year": 2017
         },
         {
          "clade_membership": "daeb3db",
          "estimated_growth_rate": 1.0416666666666667,
          "frequency": 0.24,
          "frequency_final": 0.32,
          "log_estimated_growth_rate": 0.017656678906169787,
          "log_observed_growth_rate": 0.12448798983000374,
          "observed_growth_rate": 1.3333333333333335,
          "projected_frequency": 0.25,
          "timepoint": "2017-10-01T00:00:00",
          "year": 2017
         },
         {
          "clade_membership": "e291553",
          "estimated_growth_rate": 1.4255319148936172,
          "frequency": 0.47,
          "frequency_final": 0.62,
          "log_estimated_growth_rate": 0.15370161304009594,
          "log_observed_growth_rate": 0.12007069304768407,
          "observed_growth_rate": 1.319148936170213,
          "projected_frequency": 0.67,
          "timepoint": "2017-10-01T00:00:00",
          "year": 2017
         },
         {
          "clade_membership": "ea08d9e",
          "estimated_growth_rate": 1.0204081632653061,
          "frequency": 0.98,
          "frequency_final": 0.95,
          "log_estimated_growth_rate": 0.008765070099370121,
          "log_observed_growth_rate": -0.013488490442534612,
          "observed_growth_rate": 0.9693877551020408,
          "projected_frequency": 1,
          "timepoint": "2017-10-01T00:00:00",
          "year": 2017
         },
         {
          "clade_membership": "efde025",
          "estimated_growth_rate": 0.29411764705882354,
          "frequency": 0.17,
          "frequency_final": 0.01,
          "log_estimated_growth_rate": -0.5254259342942175,
          "log_observed_growth_rate": -1.191603425233929,
          "observed_growth_rate": 0.058823529411764705,
          "projected_frequency": 0.05,
          "timepoint": "2017-10-01T00:00:00",
          "year": 2017
         },
         {
          "clade_membership": "f14fabc",
          "estimated_growth_rate": 1.0204081632653061,
          "frequency": 0.98,
          "frequency_final": 0.95,
          "log_estimated_growth_rate": 0.008765070099370121,
          "log_observed_growth_rate": -0.013488490442534612,
          "observed_growth_rate": 0.9693877551020408,
          "projected_frequency": 1,
          "timepoint": "2017-10-01T00:00:00",
          "year": 2017
         },
         {
          "clade_membership": "0165eeb",
          "estimated_growth_rate": 1.03125,
          "frequency": 0.96,
          "frequency_final": 0.88,
          "log_estimated_growth_rate": 0.013350266816729985,
          "log_observed_growth_rate": -0.03774747925649744,
          "observed_growth_rate": 0.9166666666666667,
          "projected_frequency": 0.99,
          "timepoint": "2018-04-01T00:00:00",
          "year": 2018
         },
         {
          "clade_membership": "020dd15",
          "estimated_growth_rate": 1.4807692307692308,
          "frequency": 0.52,
          "frequency_final": 0.06,
          "log_estimated_growth_rate": 0.1702166547514325,
          "log_observed_growth_rate": -0.9315078882887575,
          "observed_growth_rate": 0.11538461538461538,
          "projected_frequency": 0.77,
          "timepoint": "2018-04-01T00:00:00",
          "year": 2018
         },
         {
          "clade_membership": "04899a3",
          "estimated_growth_rate": 0.5526315789473684,
          "frequency": 0.38,
          "frequency_final": 0.79,
          "log_estimated_growth_rate": -0.2566425203779267,
          "log_observed_growth_rate": 0.31725150782205724,
          "observed_growth_rate": 2.0789473684210527,
          "projected_frequency": 0.21,
          "timepoint": "2018-04-01T00:00:00",
          "year": 2018
         },
         {
          "clade_membership": "208de66",
          "estimated_growth_rate": 0.5526315789473684,
          "frequency": 0.38,
          "frequency_final": 0.79,
          "log_estimated_growth_rate": -0.2566425203779267,
          "log_observed_growth_rate": 0.31725150782205724,
          "observed_growth_rate": 2.0789473684210527,
          "projected_frequency": 0.21,
          "timepoint": "2018-04-01T00:00:00",
          "year": 2018
         },
         {
          "clade_membership": "28b97a2",
          "estimated_growth_rate": 0.5526315789473684,
          "frequency": 0.38,
          "frequency_final": 0.79,
          "log_estimated_growth_rate": -0.2566425203779267,
          "log_observed_growth_rate": 0.31725150782205724,
          "observed_growth_rate": 2.0789473684210527,
          "projected_frequency": 0.21,
          "timepoint": "2018-04-01T00:00:00",
          "year": 2018
         },
         {
          "clade_membership": "52a778c",
          "estimated_growth_rate": 0.6538461538461539,
          "frequency": 0.26,
          "frequency_final": 0.39,
          "log_estimated_growth_rate": -0.18364439694612714,
          "log_observed_growth_rate": 0.17553625005758583,
          "observed_growth_rate": 1.5,
          "projected_frequency": 0.17,
          "timepoint": "2018-04-01T00:00:00",
          "year": 2018
         },
         {
          "clade_membership": "5cbac18",
          "estimated_growth_rate": 0.6071428571428571,
          "frequency": 0.28,
          "frequency_final": 0.79,
          "log_estimated_growth_rate": -0.21571020951292602,
          "log_observed_growth_rate": 0.4494701635925966,
          "observed_growth_rate": 2.821428571428571,
          "projected_frequency": 0.17,
          "timepoint": "2018-04-01T00:00:00",
          "year": 2018
         },
         {
          "clade_membership": "934e1c1",
          "estimated_growth_rate": 1.03125,
          "frequency": 0.96,
          "frequency_final": 0.88,
          "log_estimated_growth_rate": 0.013350266816729985,
          "log_observed_growth_rate": -0.03774747925649744,
          "observed_growth_rate": 0.9166666666666667,
          "projected_frequency": 0.99,
          "timepoint": "2018-04-01T00:00:00",
          "year": 2018
         },
         {
          "clade_membership": "94d7ef8",
          "estimated_growth_rate": 2.8333333333333335,
          "frequency": 0.18,
          "frequency_final": 0.03,
          "log_estimated_growth_rate": 0.4507423252655282,
          "log_observed_growth_rate": -0.7663168810349118,
          "observed_growth_rate": 0.16666666666666666,
          "projected_frequency": 0.51,
          "timepoint": "2018-04-01T00:00:00",
          "year": 2018
         },
         {
          "clade_membership": "b60c818",
          "estimated_growth_rate": 1.4807692307692308,
          "frequency": 0.52,
          "frequency_final": 0.06,
          "log_estimated_growth_rate": 0.1702166547514325,
          "log_observed_growth_rate": -0.9315078882887575,
          "observed_growth_rate": 0.11538461538461538,
          "projected_frequency": 0.77,
          "timepoint": "2018-04-01T00:00:00",
          "year": 2018
         },
         {
          "clade_membership": "c8f39fb",
          "estimated_growth_rate": 0.6071428571428571,
          "frequency": 0.28,
          "frequency_final": 0.79,
          "log_estimated_growth_rate": -0.21571020951292602,
          "log_observed_growth_rate": 0.4494701635925966,
          "observed_growth_rate": 2.821428571428571,
          "projected_frequency": 0.17,
          "timepoint": "2018-04-01T00:00:00",
          "year": 2018
         },
         {
          "clade_membership": "daeb3db",
          "estimated_growth_rate": 1.4807692307692308,
          "frequency": 0.52,
          "frequency_final": 0.06,
          "log_estimated_growth_rate": 0.1702166547514325,
          "log_observed_growth_rate": -0.9315078882887575,
          "observed_growth_rate": 0.11538461538461538,
          "projected_frequency": 0.77,
          "timepoint": "2018-04-01T00:00:00",
          "year": 2018
         },
         {
          "clade_membership": "e291553",
          "estimated_growth_rate": 0.5675675675675675,
          "frequency": 0.37,
          "frequency_final": 0.79,
          "log_estimated_growth_rate": -0.24509145431735319,
          "log_observed_growth_rate": 0.32880257388263073,
          "observed_growth_rate": 2.135135135135135,
          "projected_frequency": 0.21,
          "timepoint": "2018-04-01T00:00:00",
          "year": 2018
         },
         {
          "clade_membership": "ea08d9e",
          "estimated_growth_rate": 1.03125,
          "frequency": 0.96,
          "frequency_final": 0.88,
          "log_estimated_growth_rate": 0.013350266816729985,
          "log_observed_growth_rate": -0.03774747925649744,
          "observed_growth_rate": 0.9166666666666667,
          "projected_frequency": 0.99,
          "timepoint": "2018-04-01T00:00:00",
          "year": 2018
         },
         {
          "clade_membership": "f14fabc",
          "estimated_growth_rate": 1.03125,
          "frequency": 0.96,
          "frequency_final": 0.88,
          "log_estimated_growth_rate": 0.013350266816729985,
          "log_observed_growth_rate": -0.03774747925649744,
          "observed_growth_rate": 0.9166666666666667,
          "projected_frequency": 0.99,
          "timepoint": "2018-04-01T00:00:00",
          "year": 2018
         },
         {
          "clade_membership": "0165eeb",
          "estimated_growth_rate": 1.0421052631578949,
          "frequency": 0.95,
          "frequency_final": 0.85,
          "log_estimated_growth_rate": 0.01789313754786138,
          "log_observed_growth_rate": -0.048250956852826064,
          "observed_growth_rate": 0.8947368421052632,
          "projected_frequency": 0.99,
          "timepoint": "2018-10-01T00:00:00",
          "year": 2018
         },
         {
          "clade_membership": "020dd15",
          "estimated_growth_rate": 2.59375,
          "frequency": 0.32,
          "frequency_final": 0.01,
          "log_estimated_growth_rate": 0.4130959913792389,
          "log_observed_growth_rate": -1.4651123472466472,
          "observed_growth_rate": 0.03125,
          "projected_frequency": 0.83,
          "timepoint": "2018-10-01T00:00:00",
          "year": 2018
         },
         {
          "clade_membership": "04899a3",
          "estimated_growth_rate": 0.2741935483870968,
          "frequency": 0.62,
          "frequency_final": 0.84,
          "log_estimated_growth_rate": -0.5600954897844264,
          "log_observed_growth_rate": 0.131704395621332,
          "observed_growth_rate": 1.3548387096774193,
          "projected_frequency": 0.17,
          "timepoint": "2018-10-01T00:00:00",
          "year": 2018
         },
         {
          "clade_membership": "208de66",
          "estimated_growth_rate": 0.2741935483870968,
          "frequency": 0.62,
          "frequency_final": 0.84,
          "log_estimated_growth_rate": -0.5600954897844264,
          "log_observed_growth_rate": 0.131704395621332,
          "observed_growth_rate": 1.3548387096774193,
          "projected_frequency": 0.17,
          "timepoint": "2018-10-01T00:00:00",
          "year": 2018
         },
         {
          "clade_membership": "28b97a2",
          "estimated_growth_rate": 0.2741935483870968,
          "frequency": 0.62,
          "frequency_final": 0.84,
          "log_estimated_growth_rate": -0.5600954897844264,
          "log_observed_growth_rate": 0.131704395621332,
          "observed_growth_rate": 1.3548387096774193,
          "projected_frequency": 0.17,
          "timepoint": "2018-10-01T00:00:00",
          "year": 2018
         },
         {
          "clade_membership": "37de687",
          "estimated_growth_rate": 0.2857142857142857,
          "frequency": 0.28,
          "frequency_final": 0.18,
          "log_estimated_growth_rate": -0.5402213010264302,
          "log_observed_growth_rate": -0.19102774503589542,
          "observed_growth_rate": 0.6428571428571428,
          "projected_frequency": 0.08,
          "timepoint": "2018-10-01T00:00:00",
          "year": 2018
         },
         {
          "clade_membership": "52a778c",
          "estimated_growth_rate": 0.26666666666666666,
          "frequency": 0.3,
          "frequency_final": 0.18,
          "log_estimated_growth_rate": -0.5700814767151935,
          "log_observed_growth_rate": -0.22088792072465882,
          "observed_growth_rate": 0.6,
          "projected_frequency": 0.08,
          "timepoint": "2018-10-01T00:00:00",
          "year": 2018
         },
         {
          "clade_membership": "5cbac18",
          "estimated_growth_rate": 0.2888888888888889,
          "frequency": 0.45,
          "frequency_final": 0.84,
          "log_estimated_growth_rate": -0.5369052462221963,
          "log_observed_growth_rate": 0.27061945391995157,
          "observed_growth_rate": 1.8666666666666665,
          "projected_frequency": 0.13,
          "timepoint": "2018-10-01T00:00:00",
          "year": 2018
         },
         {
          "clade_membership": "934e1c1",
          "estimated_growth_rate": 1.0421052631578949,
          "frequency": 0.95,
          "frequency_final": 0.85,
          "log_estimated_growth_rate": 0.01789313754786138,
          "log_observed_growth_rate": -0.048250956852826064,
          "observed_growth_rate": 0.8947368421052632,
          "projected_frequency": 0.99,
          "timepoint": "2018-10-01T00:00:00",
          "year": 2018
         },
         {
          "clade_membership": "94d7ef8",
          "estimated_growth_rate": 3.3750000000000004,
          "frequency": 0.24,
          "frequency_final": 0,
          "log_estimated_growth_rate": 0.5270038116362877,
          "log_observed_growth_rate": -2.3820170425748683,
          "observed_growth_rate": 0,
          "projected_frequency": 0.81,
          "timepoint": "2018-10-01T00:00:00",
          "year": 2018
         },
         {
          "clade_membership": "b60c818",
          "estimated_growth_rate": 2.59375,
          "frequency": 0.32,
          "frequency_final": 0.01,
          "log_estimated_growth_rate": 0.4130959913792389,
          "log_observed_growth_rate": -1.4651123472466472,
          "observed_growth_rate": 0.03125,
          "projected_frequency": 0.83,
          "timepoint": "2018-10-01T00:00:00",
          "year": 2018
         },
         {
          "clade_membership": "c8f39fb",
          "estimated_growth_rate": 0.2888888888888889,
          "frequency": 0.45,
          "frequency_final": 0.84,
          "log_estimated_growth_rate": -0.5369052462221963,
          "log_observed_growth_rate": 0.27061945391995157,
          "observed_growth_rate": 1.8666666666666665,
          "projected_frequency": 0.13,
          "timepoint": "2018-10-01T00:00:00",
          "year": 2018
         },
         {
          "clade_membership": "daeb3db",
          "estimated_growth_rate": 2.59375,
          "frequency": 0.32,
          "frequency_final": 0.01,
          "log_estimated_growth_rate": 0.4130959913792389,
          "log_observed_growth_rate": -1.4651123472466472,
          "observed_growth_rate": 0.03125,
          "projected_frequency": 0.83,
          "timepoint": "2018-10-01T00:00:00",
          "year": 2018
         },
         {
          "clade_membership": "e291553",
          "estimated_growth_rate": 0.2741935483870968,
          "frequency": 0.62,
          "frequency_final": 0.84,
          "log_estimated_growth_rate": -0.5600954897844264,
          "log_observed_growth_rate": 0.131704395621332,
          "observed_growth_rate": 1.3548387096774193,
          "projected_frequency": 0.17,
          "timepoint": "2018-10-01T00:00:00",
          "year": 2018
         },
         {
          "clade_membership": "ea08d9e",
          "estimated_growth_rate": 1.0421052631578949,
          "frequency": 0.95,
          "frequency_final": 0.85,
          "log_estimated_growth_rate": 0.01789313754786138,
          "log_observed_growth_rate": -0.048250956852826064,
          "observed_growth_rate": 0.8947368421052632,
          "projected_frequency": 0.99,
          "timepoint": "2018-10-01T00:00:00",
          "year": 2018
         },
         {
          "clade_membership": "f14fabc",
          "estimated_growth_rate": 1.0421052631578949,
          "frequency": 0.95,
          "frequency_final": 0.85,
          "log_estimated_growth_rate": 0.01789313754786138,
          "log_observed_growth_rate": -0.048250956852826064,
          "observed_growth_rate": 0.8947368421052632,
          "projected_frequency": 0.99,
          "timepoint": "2018-10-01T00:00:00",
          "year": 2018
         }
        ]
       },
       "encoding": {
        "color": {
         "field": "timepoint",
         "type": "nominal"
        },
        "tooltip": [
         {
          "field": "observed_growth_rate",
          "type": "quantitative"
         },
         {
          "field": "estimated_growth_rate",
          "type": "quantitative"
         },
         {
          "field": "timepoint",
          "type": "nominal"
         },
         {
          "field": "frequency",
          "type": "quantitative"
         },
         {
          "field": "frequency_final",
          "type": "quantitative"
         },
         {
          "field": "projected_frequency",
          "type": "quantitative"
         },
         {
          "field": "clade_membership",
          "type": "nominal"
         }
        ],
        "x": {
         "field": "log_observed_growth_rate",
         "scale": {
          "domain": [
           -2.4820170425748684,
           1.1
          ]
         },
         "type": "quantitative"
        },
        "y": {
         "field": "log_estimated_growth_rate",
         "scale": {
          "domain": [
           -2.4820170425748684,
           1.1
          ]
         },
         "type": "quantitative"
        }
       },
       "height": 400,
       "mark": "circle",
       "selection": {
        "selector001": {
         "bind": "scales",
         "encodings": [
          "x",
          "y"
         ],
         "type": "interval"
        }
       },
       "title": "Forecasts by LBI: Pearson's R = -0.24, MCC = 0.01",
       "width": 400
      },
      "image/png": "[encoded data removed]",
      "text/plain": [
       "<VegaLite 3 object>\n",
       "\n",
       "If you see this message, it means the renderer has not been properly enabled\n",
       "for the frontend that you are using. For more information, see\n",
       "https://altair-viz.github.io/user_guide/troubleshooting.html\n"
      ]
     },
     "execution_count": 68,
     "metadata": {},
     "output_type": "execute_result"
    }
   ],
   "source": [
    "tooltip_attributes = [\"observed_growth_rate:Q\", \"estimated_growth_rate:Q\", \"timepoint:N\", \"frequency:Q\", \"frequency_final:Q\",\n",
    "                      \"projected_frequency:Q\", \"clade_membership:N\"]\n",
    "\n",
    "chart = alt.Chart(complete_clade_frequencies).mark_circle().encode(\n",
    "    alt.X(\"log_observed_growth_rate:Q\", scale=alt.Scale(domain=(log_lower_limit, log_upper_limit))),\n",
    "    alt.Y(\"log_estimated_growth_rate:Q\", scale=alt.Scale(domain=(log_lower_limit, log_upper_limit))),\n",
    "    alt.Color(\"timepoint:N\"),\n",
    "    alt.Tooltip(tooltip_attributes)\n",
    ").properties(\n",
    "    width=400,\n",
    "    height=400,\n",
    "    title=\"Forecasts by LBI: Pearson's R = %.2f, MCC = %.2f\" % (r, mcc)\n",
    ").interactive()\n",
    "\n",
    "#chart.save(\"forecast_log_growth_correlation_natural_lbi.svg\")\n",
    "chart"
   ]
  },
  {
   "cell_type": "code",
   "execution_count": 69,
   "metadata": {},
   "outputs": [
    {
     "data": {
      "text/plain": [
       "-2.4820170425748684"
      ]
     },
     "execution_count": 69,
     "metadata": {},
     "output_type": "execute_result"
    }
   ],
   "source": [
    "log_lower_limit"
   ]
  },
  {
   "cell_type": "code",
   "execution_count": 70,
   "metadata": {},
   "outputs": [
    {
     "data": {
      "text/plain": [
       "-2.3820170425748683"
      ]
     },
     "execution_count": 70,
     "metadata": {},
     "output_type": "execute_result"
    }
   ],
   "source": [
    "complete_clade_frequencies.loc[:, [\"log_observed_growth_rate\", \"log_estimated_growth_rate\"]].min().min()"
   ]
  },
  {
   "cell_type": "code",
   "execution_count": 71,
   "metadata": {},
   "outputs": [],
   "source": [
    "r, p = pearsonr(\n",
    "    complete_clade_frequencies[\"log_observed_growth_rate\"],\n",
    "    complete_clade_frequencies[\"log_estimated_growth_rate\"]\n",
    ")"
   ]
  },
  {
   "cell_type": "code",
   "execution_count": 72,
   "metadata": {},
   "outputs": [
    {
     "data": {
      "text/plain": [
       "-0.19203050050431547"
      ]
     },
     "execution_count": 72,
     "metadata": {},
     "output_type": "execute_result"
    }
   ],
   "source": [
    "r"
   ]
  },
  {
   "cell_type": "code",
   "execution_count": 73,
   "metadata": {},
   "outputs": [
    {
     "data": {
      "text/plain": [
       "0.05688734387481391"
      ]
     },
     "execution_count": 73,
     "metadata": {},
     "output_type": "execute_result"
    }
   ],
   "source": [
    "p"
   ]
  },
  {
   "cell_type": "code",
   "execution_count": 74,
   "metadata": {},
   "outputs": [
    {
     "data": {
      "text/plain": [
       "(-0.2357726056040369, 0.01880685712264891)"
      ]
     },
     "execution_count": 74,
     "metadata": {},
     "output_type": "execute_result"
    }
   ],
   "source": [
    "pearsonr(\n",
    "    complete_clade_frequencies[\"observed_growth_rate\"],\n",
    "    complete_clade_frequencies[\"estimated_growth_rate\"]\n",
    ")"
   ]
  },
  {
   "cell_type": "code",
   "execution_count": 75,
   "metadata": {},
   "outputs": [],
   "source": [
    "complete_clade_frequencies[\"observed_growth\"] = (complete_clade_frequencies[\"observed_growth_rate\"] > 1)"
   ]
  },
  {
   "cell_type": "code",
   "execution_count": 76,
   "metadata": {},
   "outputs": [],
   "source": [
    "complete_clade_frequencies[\"estimated_growth\"] = (complete_clade_frequencies[\"estimated_growth_rate\"] > 1)"
   ]
  },
  {
   "cell_type": "code",
   "execution_count": 77,
   "metadata": {},
   "outputs": [],
   "source": [
    "complete_clade_frequencies[\"accurate_growth\"] = (\n",
    "    (complete_clade_frequencies[\"observed_growth\"]) == (complete_clade_frequencies[\"estimated_growth\"])\n",
    ")"
   ]
  },
  {
   "cell_type": "code",
   "execution_count": 78,
   "metadata": {},
   "outputs": [
    {
     "data": {
      "text/plain": [
       "{'tp': 28, 'tn': 21, 'fp': 32, 'fn': 18}"
      ]
     },
     "execution_count": 78,
     "metadata": {},
     "output_type": "execute_result"
    }
   ],
   "source": [
    "confusion_matrix"
   ]
  },
  {
   "cell_type": "code",
   "execution_count": 79,
   "metadata": {},
   "outputs": [
    {
     "data": {
      "text/html": [
       "<div>\n",
       "<style scoped>\n",
       "    .dataframe tbody tr th:only-of-type {\n",
       "        vertical-align: middle;\n",
       "    }\n",
       "\n",
       "    .dataframe tbody tr th {\n",
       "        vertical-align: top;\n",
       "    }\n",
       "\n",
       "    .dataframe thead th {\n",
       "        text-align: right;\n",
       "    }\n",
       "</style>\n",
       "<table border=\"1\" class=\"dataframe\">\n",
       "  <thead>\n",
       "    <tr style=\"text-align: right;\">\n",
       "      <th></th>\n",
       "      <th>timepoint</th>\n",
       "      <th>clade_membership</th>\n",
       "      <th>frequency</th>\n",
       "      <th>frequency_final</th>\n",
       "      <th>projected_frequency</th>\n",
       "      <th>observed_growth_rate</th>\n",
       "      <th>estimated_growth_rate</th>\n",
       "      <th>year</th>\n",
       "      <th>log_observed_growth_rate</th>\n",
       "      <th>log_estimated_growth_rate</th>\n",
       "      <th>observed_growth</th>\n",
       "      <th>estimated_growth</th>\n",
       "      <th>accurate_growth</th>\n",
       "    </tr>\n",
       "  </thead>\n",
       "  <tbody>\n",
       "    <tr>\n",
       "      <th>0</th>\n",
       "      <td>2015-04-01</td>\n",
       "      <td>0165eeb</td>\n",
       "      <td>0.69</td>\n",
       "      <td>0.83</td>\n",
       "      <td>0.95</td>\n",
       "      <td>1.202899</td>\n",
       "      <td>1.376812</td>\n",
       "      <td>2015</td>\n",
       "      <td>0.080123</td>\n",
       "      <td>0.138702</td>\n",
       "      <td>True</td>\n",
       "      <td>True</td>\n",
       "      <td>True</td>\n",
       "    </tr>\n",
       "    <tr>\n",
       "      <th>1</th>\n",
       "      <td>2015-04-01</td>\n",
       "      <td>1ba36d2</td>\n",
       "      <td>0.16</td>\n",
       "      <td>0.17</td>\n",
       "      <td>0.02</td>\n",
       "      <td>1.062500</td>\n",
       "      <td>0.125000</td>\n",
       "      <td>2015</td>\n",
       "      <td>0.026170</td>\n",
       "      <td>-0.884607</td>\n",
       "      <td>True</td>\n",
       "      <td>False</td>\n",
       "      <td>False</td>\n",
       "    </tr>\n",
       "    <tr>\n",
       "      <th>2</th>\n",
       "      <td>2015-04-01</td>\n",
       "      <td>1edac85</td>\n",
       "      <td>0.16</td>\n",
       "      <td>0.17</td>\n",
       "      <td>0.02</td>\n",
       "      <td>1.062500</td>\n",
       "      <td>0.125000</td>\n",
       "      <td>2015</td>\n",
       "      <td>0.026170</td>\n",
       "      <td>-0.884607</td>\n",
       "      <td>True</td>\n",
       "      <td>False</td>\n",
       "      <td>False</td>\n",
       "    </tr>\n",
       "    <tr>\n",
       "      <th>5</th>\n",
       "      <td>2015-04-01</td>\n",
       "      <td>66a66dd</td>\n",
       "      <td>0.31</td>\n",
       "      <td>0.17</td>\n",
       "      <td>0.05</td>\n",
       "      <td>0.548387</td>\n",
       "      <td>0.161290</td>\n",
       "      <td>2015</td>\n",
       "      <td>-0.259764</td>\n",
       "      <td>-0.785190</td>\n",
       "      <td>False</td>\n",
       "      <td>False</td>\n",
       "      <td>True</td>\n",
       "    </tr>\n",
       "    <tr>\n",
       "      <th>7</th>\n",
       "      <td>2015-04-01</td>\n",
       "      <td>80897ab</td>\n",
       "      <td>0.16</td>\n",
       "      <td>0.17</td>\n",
       "      <td>0.02</td>\n",
       "      <td>1.062500</td>\n",
       "      <td>0.125000</td>\n",
       "      <td>2015</td>\n",
       "      <td>0.026170</td>\n",
       "      <td>-0.884607</td>\n",
       "      <td>True</td>\n",
       "      <td>False</td>\n",
       "      <td>False</td>\n",
       "    </tr>\n",
       "  </tbody>\n",
       "</table>\n",
       "</div>"
      ],
      "text/plain": [
       "   timepoint clade_membership  frequency  frequency_final  \\\n",
       "0 2015-04-01          0165eeb       0.69             0.83   \n",
       "1 2015-04-01          1ba36d2       0.16             0.17   \n",
       "2 2015-04-01          1edac85       0.16             0.17   \n",
       "5 2015-04-01          66a66dd       0.31             0.17   \n",
       "7 2015-04-01          80897ab       0.16             0.17   \n",
       "\n",
       "   projected_frequency  observed_growth_rate  estimated_growth_rate  year  \\\n",
       "0                 0.95              1.202899               1.376812  2015   \n",
       "1                 0.02              1.062500               0.125000  2015   \n",
       "2                 0.02              1.062500               0.125000  2015   \n",
       "5                 0.05              0.548387               0.161290  2015   \n",
       "7                 0.02              1.062500               0.125000  2015   \n",
       "\n",
       "   log_observed_growth_rate  log_estimated_growth_rate  observed_growth  \\\n",
       "0                  0.080123                   0.138702             True   \n",
       "1                  0.026170                  -0.884607             True   \n",
       "2                  0.026170                  -0.884607             True   \n",
       "5                 -0.259764                  -0.785190            False   \n",
       "7                  0.026170                  -0.884607             True   \n",
       "\n",
       "   estimated_growth  accurate_growth  \n",
       "0              True             True  \n",
       "1             False            False  \n",
       "2             False            False  \n",
       "5             False             True  \n",
       "7             False            False  "
      ]
     },
     "execution_count": 79,
     "metadata": {},
     "output_type": "execute_result"
    }
   ],
   "source": [
    "complete_clade_frequencies.head()"
   ]
  },
  {
   "cell_type": "code",
   "execution_count": 80,
   "metadata": {},
   "outputs": [
    {
     "data": {
      "text/plain": [
       "60"
      ]
     },
     "execution_count": 80,
     "metadata": {},
     "output_type": "execute_result"
    }
   ],
   "source": [
    "(complete_clade_frequencies[\"estimated_growth_rate\"] > 1).sum()"
   ]
  },
  {
   "cell_type": "code",
   "execution_count": 81,
   "metadata": {},
   "outputs": [
    {
     "data": {
      "image/png": "[encoded data removed]",
      "text/plain": [
       "<Figure size 1200x1200 with 1 Axes>"
      ]
     },
     "metadata": {},
     "output_type": "display_data"
    }
   ],
   "source": [
    "fig, ax = plt.subplots(1, 1, figsize=(6, 6))\n",
    "ax.plot(\n",
    "    complete_clade_frequencies[\"log_observed_growth_rate\"],\n",
    "    complete_clade_frequencies[\"log_estimated_growth_rate\"],\n",
    "    \"o\",\n",
    "    alpha=0.4\n",
    ")\n",
    "\n",
    "ax.axhline(color=\"#cccccc\", zorder=-5)\n",
    "ax.axvline(color=\"#cccccc\", zorder=-5)\n",
    "\n",
    "if p < 0.001:\n",
    "    p_value = \"$p$ < 0.001\"\n",
    "else:\n",
    "    p_value = \"$p$ = %.3f\" % p\n",
    "\n",
    "ax.text(\n",
    "    0.02,\n",
    "    0.9,\n",
    "    \"Growth accuracy = %.2f\\nDecline accuracy = %.2f\\n$R$ = %.2f\\n%s\" % (growth_accuracy, decline_accuracy, r, p_value),\n",
    "    fontsize=14,\n",
    "    horizontalalignment=\"left\",\n",
    "    verticalalignment=\"center\",\n",
    "    transform=ax.transAxes\n",
    ")\n",
    "\n",
    "ax.set_xlabel(\"Observed $log_{10}$ growth rate\")\n",
    "ax.set_ylabel(\"Estimated $log_{10}$ growth rate\")\n",
    "\n",
    "ticks = np.arange(-6, 4, 1)\n",
    "ax.set_xticks(ticks)\n",
    "ax.set_yticks(ticks)\n",
    "\n",
    "ax.set_xlim(log_lower_limit, log_upper_limit)\n",
    "ax.set_ylim(log_lower_limit, log_upper_limit)\n",
    "ax.set_aspect(\"equal\")\n",
    "\n",
    "plt.tight_layout()\n",
    "plt.savefig(\"../manuscript/figures/test-of-best-model-for-natural-populations-by-clade-growth.png\")"
   ]
  },
  {
   "cell_type": "code",
   "execution_count": 82,
   "metadata": {},
   "outputs": [],
   "source": [
    "false_positives = (complete_clade_frequencies[\"log_observed_growth_rate\"] < 0) & (complete_clade_frequencies[\"log_estimated_growth_rate\"] > 0)"
   ]
  },
  {
   "cell_type": "code",
   "execution_count": 83,
   "metadata": {},
   "outputs": [
    {
     "data": {
      "text/plain": [
       "{'tp': 28, 'tn': 21, 'fp': 32, 'fn': 18}"
      ]
     },
     "execution_count": 83,
     "metadata": {},
     "output_type": "execute_result"
    }
   ],
   "source": [
    "confusion_matrix"
   ]
  },
  {
   "cell_type": "code",
   "execution_count": 84,
   "metadata": {},
   "outputs": [
    {
     "data": {
      "text/html": [
       "<div>\n",
       "<style scoped>\n",
       "    .dataframe tbody tr th:only-of-type {\n",
       "        vertical-align: middle;\n",
       "    }\n",
       "\n",
       "    .dataframe tbody tr th {\n",
       "        vertical-align: top;\n",
       "    }\n",
       "\n",
       "    .dataframe thead th {\n",
       "        text-align: right;\n",
       "    }\n",
       "</style>\n",
       "<table border=\"1\" class=\"dataframe\">\n",
       "  <thead>\n",
       "    <tr style=\"text-align: right;\">\n",
       "      <th></th>\n",
       "      <th>timepoint</th>\n",
       "      <th>clade_membership</th>\n",
       "      <th>frequency</th>\n",
       "      <th>frequency_final</th>\n",
       "      <th>projected_frequency</th>\n",
       "      <th>observed_growth_rate</th>\n",
       "      <th>estimated_growth_rate</th>\n",
       "      <th>year</th>\n",
       "      <th>log_observed_growth_rate</th>\n",
       "      <th>log_estimated_growth_rate</th>\n",
       "      <th>observed_growth</th>\n",
       "      <th>estimated_growth</th>\n",
       "      <th>accurate_growth</th>\n",
       "    </tr>\n",
       "  </thead>\n",
       "  <tbody>\n",
       "    <tr>\n",
       "      <th>146</th>\n",
       "      <td>2018-04-01</td>\n",
       "      <td>94d7ef8</td>\n",
       "      <td>0.18</td>\n",
       "      <td>0.03</td>\n",
       "      <td>0.51</td>\n",
       "      <td>0.166667</td>\n",
       "      <td>2.833333</td>\n",
       "      <td>2018</td>\n",
       "      <td>-0.766317</td>\n",
       "      <td>0.450742</td>\n",
       "      <td>False</td>\n",
       "      <td>True</td>\n",
       "      <td>False</td>\n",
       "    </tr>\n",
       "    <tr>\n",
       "      <th>22</th>\n",
       "      <td>2015-10-01</td>\n",
       "      <td>0dbd131</td>\n",
       "      <td>0.22</td>\n",
       "      <td>0.01</td>\n",
       "      <td>0.67</td>\n",
       "      <td>0.045455</td>\n",
       "      <td>3.045455</td>\n",
       "      <td>2015</td>\n",
       "      <td>-1.303000</td>\n",
       "      <td>0.482330</td>\n",
       "      <td>False</td>\n",
       "      <td>True</td>\n",
       "      <td>False</td>\n",
       "    </tr>\n",
       "    <tr>\n",
       "      <th>32</th>\n",
       "      <td>2015-10-01</td>\n",
       "      <td>e4d8ffe</td>\n",
       "      <td>0.24</td>\n",
       "      <td>0.01</td>\n",
       "      <td>0.67</td>\n",
       "      <td>0.041667</td>\n",
       "      <td>2.791667</td>\n",
       "      <td>2015</td>\n",
       "      <td>-1.340624</td>\n",
       "      <td>0.444705</td>\n",
       "      <td>False</td>\n",
       "      <td>True</td>\n",
       "      <td>False</td>\n",
       "    </tr>\n",
       "    <tr>\n",
       "      <th>173</th>\n",
       "      <td>2018-10-01</td>\n",
       "      <td>94d7ef8</td>\n",
       "      <td>0.24</td>\n",
       "      <td>0.00</td>\n",
       "      <td>0.81</td>\n",
       "      <td>0.000000</td>\n",
       "      <td>3.375000</td>\n",
       "      <td>2018</td>\n",
       "      <td>-2.382017</td>\n",
       "      <td>0.527004</td>\n",
       "      <td>False</td>\n",
       "      <td>True</td>\n",
       "      <td>False</td>\n",
       "    </tr>\n",
       "    <tr>\n",
       "      <th>161</th>\n",
       "      <td>2018-10-01</td>\n",
       "      <td>020dd15</td>\n",
       "      <td>0.32</td>\n",
       "      <td>0.01</td>\n",
       "      <td>0.83</td>\n",
       "      <td>0.031250</td>\n",
       "      <td>2.593750</td>\n",
       "      <td>2018</td>\n",
       "      <td>-1.465112</td>\n",
       "      <td>0.413096</td>\n",
       "      <td>False</td>\n",
       "      <td>True</td>\n",
       "      <td>False</td>\n",
       "    </tr>\n",
       "    <tr>\n",
       "      <th>180</th>\n",
       "      <td>2018-10-01</td>\n",
       "      <td>daeb3db</td>\n",
       "      <td>0.32</td>\n",
       "      <td>0.01</td>\n",
       "      <td>0.83</td>\n",
       "      <td>0.031250</td>\n",
       "      <td>2.593750</td>\n",
       "      <td>2018</td>\n",
       "      <td>-1.465112</td>\n",
       "      <td>0.413096</td>\n",
       "      <td>False</td>\n",
       "      <td>True</td>\n",
       "      <td>False</td>\n",
       "    </tr>\n",
       "    <tr>\n",
       "      <th>176</th>\n",
       "      <td>2018-10-01</td>\n",
       "      <td>b60c818</td>\n",
       "      <td>0.32</td>\n",
       "      <td>0.01</td>\n",
       "      <td>0.83</td>\n",
       "      <td>0.031250</td>\n",
       "      <td>2.593750</td>\n",
       "      <td>2018</td>\n",
       "      <td>-1.465112</td>\n",
       "      <td>0.413096</td>\n",
       "      <td>False</td>\n",
       "      <td>True</td>\n",
       "      <td>False</td>\n",
       "    </tr>\n",
       "    <tr>\n",
       "      <th>100</th>\n",
       "      <td>2017-04-01</td>\n",
       "      <td>ca3acdb</td>\n",
       "      <td>0.35</td>\n",
       "      <td>0.06</td>\n",
       "      <td>0.86</td>\n",
       "      <td>0.171429</td>\n",
       "      <td>2.457143</td>\n",
       "      <td>2017</td>\n",
       "      <td>-0.759977</td>\n",
       "      <td>0.389696</td>\n",
       "      <td>False</td>\n",
       "      <td>True</td>\n",
       "      <td>False</td>\n",
       "    </tr>\n",
       "    <tr>\n",
       "      <th>102</th>\n",
       "      <td>2017-04-01</td>\n",
       "      <td>efde025</td>\n",
       "      <td>0.35</td>\n",
       "      <td>0.06</td>\n",
       "      <td>0.86</td>\n",
       "      <td>0.171429</td>\n",
       "      <td>2.457143</td>\n",
       "      <td>2017</td>\n",
       "      <td>-0.759977</td>\n",
       "      <td>0.389696</td>\n",
       "      <td>False</td>\n",
       "      <td>True</td>\n",
       "      <td>False</td>\n",
       "    </tr>\n",
       "    <tr>\n",
       "      <th>149</th>\n",
       "      <td>2018-04-01</td>\n",
       "      <td>b60c818</td>\n",
       "      <td>0.52</td>\n",
       "      <td>0.06</td>\n",
       "      <td>0.77</td>\n",
       "      <td>0.115385</td>\n",
       "      <td>1.480769</td>\n",
       "      <td>2018</td>\n",
       "      <td>-0.931508</td>\n",
       "      <td>0.170217</td>\n",
       "      <td>False</td>\n",
       "      <td>True</td>\n",
       "      <td>False</td>\n",
       "    </tr>\n",
       "    <tr>\n",
       "      <th>153</th>\n",
       "      <td>2018-04-01</td>\n",
       "      <td>daeb3db</td>\n",
       "      <td>0.52</td>\n",
       "      <td>0.06</td>\n",
       "      <td>0.77</td>\n",
       "      <td>0.115385</td>\n",
       "      <td>1.480769</td>\n",
       "      <td>2018</td>\n",
       "      <td>-0.931508</td>\n",
       "      <td>0.170217</td>\n",
       "      <td>False</td>\n",
       "      <td>True</td>\n",
       "      <td>False</td>\n",
       "    </tr>\n",
       "    <tr>\n",
       "      <th>135</th>\n",
       "      <td>2018-04-01</td>\n",
       "      <td>020dd15</td>\n",
       "      <td>0.52</td>\n",
       "      <td>0.06</td>\n",
       "      <td>0.77</td>\n",
       "      <td>0.115385</td>\n",
       "      <td>1.480769</td>\n",
       "      <td>2018</td>\n",
       "      <td>-0.931508</td>\n",
       "      <td>0.170217</td>\n",
       "      <td>False</td>\n",
       "      <td>True</td>\n",
       "      <td>False</td>\n",
       "    </tr>\n",
       "    <tr>\n",
       "      <th>34</th>\n",
       "      <td>2015-10-01</td>\n",
       "      <td>f14fabc</td>\n",
       "      <td>0.89</td>\n",
       "      <td>0.82</td>\n",
       "      <td>0.98</td>\n",
       "      <td>0.921348</td>\n",
       "      <td>1.101124</td>\n",
       "      <td>2015</td>\n",
       "      <td>-0.035535</td>\n",
       "      <td>0.041791</td>\n",
       "      <td>False</td>\n",
       "      <td>True</td>\n",
       "      <td>False</td>\n",
       "    </tr>\n",
       "    <tr>\n",
       "      <th>33</th>\n",
       "      <td>2015-10-01</td>\n",
       "      <td>ea08d9e</td>\n",
       "      <td>0.89</td>\n",
       "      <td>0.82</td>\n",
       "      <td>0.98</td>\n",
       "      <td>0.921348</td>\n",
       "      <td>1.101124</td>\n",
       "      <td>2015</td>\n",
       "      <td>-0.035535</td>\n",
       "      <td>0.041791</td>\n",
       "      <td>False</td>\n",
       "      <td>True</td>\n",
       "      <td>False</td>\n",
       "    </tr>\n",
       "    <tr>\n",
       "      <th>27</th>\n",
       "      <td>2015-10-01</td>\n",
       "      <td>934e1c1</td>\n",
       "      <td>0.89</td>\n",
       "      <td>0.82</td>\n",
       "      <td>0.98</td>\n",
       "      <td>0.921348</td>\n",
       "      <td>1.101124</td>\n",
       "      <td>2015</td>\n",
       "      <td>-0.035535</td>\n",
       "      <td>0.041791</td>\n",
       "      <td>False</td>\n",
       "      <td>True</td>\n",
       "      <td>False</td>\n",
       "    </tr>\n",
       "    <tr>\n",
       "      <th>21</th>\n",
       "      <td>2015-10-01</td>\n",
       "      <td>0165eeb</td>\n",
       "      <td>0.89</td>\n",
       "      <td>0.82</td>\n",
       "      <td>0.98</td>\n",
       "      <td>0.921348</td>\n",
       "      <td>1.101124</td>\n",
       "      <td>2015</td>\n",
       "      <td>-0.035535</td>\n",
       "      <td>0.041791</td>\n",
       "      <td>False</td>\n",
       "      <td>True</td>\n",
       "      <td>False</td>\n",
       "    </tr>\n",
       "    <tr>\n",
       "      <th>160</th>\n",
       "      <td>2018-10-01</td>\n",
       "      <td>0165eeb</td>\n",
       "      <td>0.95</td>\n",
       "      <td>0.85</td>\n",
       "      <td>0.99</td>\n",
       "      <td>0.894737</td>\n",
       "      <td>1.042105</td>\n",
       "      <td>2018</td>\n",
       "      <td>-0.048251</td>\n",
       "      <td>0.017893</td>\n",
       "      <td>False</td>\n",
       "      <td>True</td>\n",
       "      <td>False</td>\n",
       "    </tr>\n",
       "    <tr>\n",
       "      <th>172</th>\n",
       "      <td>2018-10-01</td>\n",
       "      <td>934e1c1</td>\n",
       "      <td>0.95</td>\n",
       "      <td>0.85</td>\n",
       "      <td>0.99</td>\n",
       "      <td>0.894737</td>\n",
       "      <td>1.042105</td>\n",
       "      <td>2018</td>\n",
       "      <td>-0.048251</td>\n",
       "      <td>0.017893</td>\n",
       "      <td>False</td>\n",
       "      <td>True</td>\n",
       "      <td>False</td>\n",
       "    </tr>\n",
       "    <tr>\n",
       "      <th>183</th>\n",
       "      <td>2018-10-01</td>\n",
       "      <td>f14fabc</td>\n",
       "      <td>0.95</td>\n",
       "      <td>0.85</td>\n",
       "      <td>0.99</td>\n",
       "      <td>0.894737</td>\n",
       "      <td>1.042105</td>\n",
       "      <td>2018</td>\n",
       "      <td>-0.048251</td>\n",
       "      <td>0.017893</td>\n",
       "      <td>False</td>\n",
       "      <td>True</td>\n",
       "      <td>False</td>\n",
       "    </tr>\n",
       "    <tr>\n",
       "      <th>182</th>\n",
       "      <td>2018-10-01</td>\n",
       "      <td>ea08d9e</td>\n",
       "      <td>0.95</td>\n",
       "      <td>0.85</td>\n",
       "      <td>0.99</td>\n",
       "      <td>0.894737</td>\n",
       "      <td>1.042105</td>\n",
       "      <td>2018</td>\n",
       "      <td>-0.048251</td>\n",
       "      <td>0.017893</td>\n",
       "      <td>False</td>\n",
       "      <td>True</td>\n",
       "      <td>False</td>\n",
       "    </tr>\n",
       "    <tr>\n",
       "      <th>134</th>\n",
       "      <td>2018-04-01</td>\n",
       "      <td>0165eeb</td>\n",
       "      <td>0.96</td>\n",
       "      <td>0.88</td>\n",
       "      <td>0.99</td>\n",
       "      <td>0.916667</td>\n",
       "      <td>1.031250</td>\n",
       "      <td>2018</td>\n",
       "      <td>-0.037747</td>\n",
       "      <td>0.013350</td>\n",
       "      <td>False</td>\n",
       "      <td>True</td>\n",
       "      <td>False</td>\n",
       "    </tr>\n",
       "    <tr>\n",
       "      <th>155</th>\n",
       "      <td>2018-04-01</td>\n",
       "      <td>ea08d9e</td>\n",
       "      <td>0.96</td>\n",
       "      <td>0.88</td>\n",
       "      <td>0.99</td>\n",
       "      <td>0.916667</td>\n",
       "      <td>1.031250</td>\n",
       "      <td>2018</td>\n",
       "      <td>-0.037747</td>\n",
       "      <td>0.013350</td>\n",
       "      <td>False</td>\n",
       "      <td>True</td>\n",
       "      <td>False</td>\n",
       "    </tr>\n",
       "    <tr>\n",
       "      <th>156</th>\n",
       "      <td>2018-04-01</td>\n",
       "      <td>f14fabc</td>\n",
       "      <td>0.96</td>\n",
       "      <td>0.88</td>\n",
       "      <td>0.99</td>\n",
       "      <td>0.916667</td>\n",
       "      <td>1.031250</td>\n",
       "      <td>2018</td>\n",
       "      <td>-0.037747</td>\n",
       "      <td>0.013350</td>\n",
       "      <td>False</td>\n",
       "      <td>True</td>\n",
       "      <td>False</td>\n",
       "    </tr>\n",
       "    <tr>\n",
       "      <th>145</th>\n",
       "      <td>2018-04-01</td>\n",
       "      <td>934e1c1</td>\n",
       "      <td>0.96</td>\n",
       "      <td>0.88</td>\n",
       "      <td>0.99</td>\n",
       "      <td>0.916667</td>\n",
       "      <td>1.031250</td>\n",
       "      <td>2018</td>\n",
       "      <td>-0.037747</td>\n",
       "      <td>0.013350</td>\n",
       "      <td>False</td>\n",
       "      <td>True</td>\n",
       "      <td>False</td>\n",
       "    </tr>\n",
       "    <tr>\n",
       "      <th>103</th>\n",
       "      <td>2017-04-01</td>\n",
       "      <td>f14fabc</td>\n",
       "      <td>0.97</td>\n",
       "      <td>0.96</td>\n",
       "      <td>1.00</td>\n",
       "      <td>0.989691</td>\n",
       "      <td>1.030928</td>\n",
       "      <td>2017</td>\n",
       "      <td>-0.004496</td>\n",
       "      <td>0.013215</td>\n",
       "      <td>False</td>\n",
       "      <td>True</td>\n",
       "      <td>False</td>\n",
       "    </tr>\n",
       "    <tr>\n",
       "      <th>101</th>\n",
       "      <td>2017-04-01</td>\n",
       "      <td>ea08d9e</td>\n",
       "      <td>0.97</td>\n",
       "      <td>0.96</td>\n",
       "      <td>1.00</td>\n",
       "      <td>0.989691</td>\n",
       "      <td>1.030928</td>\n",
       "      <td>2017</td>\n",
       "      <td>-0.004496</td>\n",
       "      <td>0.013215</td>\n",
       "      <td>False</td>\n",
       "      <td>True</td>\n",
       "      <td>False</td>\n",
       "    </tr>\n",
       "    <tr>\n",
       "      <th>95</th>\n",
       "      <td>2017-04-01</td>\n",
       "      <td>934e1c1</td>\n",
       "      <td>0.97</td>\n",
       "      <td>0.96</td>\n",
       "      <td>1.00</td>\n",
       "      <td>0.989691</td>\n",
       "      <td>1.030928</td>\n",
       "      <td>2017</td>\n",
       "      <td>-0.004496</td>\n",
       "      <td>0.013215</td>\n",
       "      <td>False</td>\n",
       "      <td>True</td>\n",
       "      <td>False</td>\n",
       "    </tr>\n",
       "    <tr>\n",
       "      <th>87</th>\n",
       "      <td>2017-04-01</td>\n",
       "      <td>0165eeb</td>\n",
       "      <td>0.97</td>\n",
       "      <td>0.96</td>\n",
       "      <td>1.00</td>\n",
       "      <td>0.989691</td>\n",
       "      <td>1.030928</td>\n",
       "      <td>2017</td>\n",
       "      <td>-0.004496</td>\n",
       "      <td>0.013215</td>\n",
       "      <td>False</td>\n",
       "      <td>True</td>\n",
       "      <td>False</td>\n",
       "    </tr>\n",
       "    <tr>\n",
       "      <th>128</th>\n",
       "      <td>2017-10-01</td>\n",
       "      <td>ea08d9e</td>\n",
       "      <td>0.98</td>\n",
       "      <td>0.95</td>\n",
       "      <td>1.00</td>\n",
       "      <td>0.969388</td>\n",
       "      <td>1.020408</td>\n",
       "      <td>2017</td>\n",
       "      <td>-0.013488</td>\n",
       "      <td>0.008765</td>\n",
       "      <td>False</td>\n",
       "      <td>True</td>\n",
       "      <td>False</td>\n",
       "    </tr>\n",
       "    <tr>\n",
       "      <th>118</th>\n",
       "      <td>2017-10-01</td>\n",
       "      <td>934e1c1</td>\n",
       "      <td>0.98</td>\n",
       "      <td>0.95</td>\n",
       "      <td>1.00</td>\n",
       "      <td>0.969388</td>\n",
       "      <td>1.020408</td>\n",
       "      <td>2017</td>\n",
       "      <td>-0.013488</td>\n",
       "      <td>0.008765</td>\n",
       "      <td>False</td>\n",
       "      <td>True</td>\n",
       "      <td>False</td>\n",
       "    </tr>\n",
       "    <tr>\n",
       "      <th>107</th>\n",
       "      <td>2017-10-01</td>\n",
       "      <td>0165eeb</td>\n",
       "      <td>0.98</td>\n",
       "      <td>0.95</td>\n",
       "      <td>1.00</td>\n",
       "      <td>0.969388</td>\n",
       "      <td>1.020408</td>\n",
       "      <td>2017</td>\n",
       "      <td>-0.013488</td>\n",
       "      <td>0.008765</td>\n",
       "      <td>False</td>\n",
       "      <td>True</td>\n",
       "      <td>False</td>\n",
       "    </tr>\n",
       "    <tr>\n",
       "      <th>130</th>\n",
       "      <td>2017-10-01</td>\n",
       "      <td>f14fabc</td>\n",
       "      <td>0.98</td>\n",
       "      <td>0.95</td>\n",
       "      <td>1.00</td>\n",
       "      <td>0.969388</td>\n",
       "      <td>1.020408</td>\n",
       "      <td>2017</td>\n",
       "      <td>-0.013488</td>\n",
       "      <td>0.008765</td>\n",
       "      <td>False</td>\n",
       "      <td>True</td>\n",
       "      <td>False</td>\n",
       "    </tr>\n",
       "  </tbody>\n",
       "</table>\n",
       "</div>"
      ],
      "text/plain": [
       "     timepoint clade_membership  frequency  frequency_final  \\\n",
       "146 2018-04-01          94d7ef8       0.18             0.03   \n",
       "22  2015-10-01          0dbd131       0.22             0.01   \n",
       "32  2015-10-01          e4d8ffe       0.24             0.01   \n",
       "173 2018-10-01          94d7ef8       0.24             0.00   \n",
       "161 2018-10-01          020dd15       0.32             0.01   \n",
       "180 2018-10-01          daeb3db       0.32             0.01   \n",
       "176 2018-10-01          b60c818       0.32             0.01   \n",
       "100 2017-04-01          ca3acdb       0.35             0.06   \n",
       "102 2017-04-01          efde025       0.35             0.06   \n",
       "149 2018-04-01          b60c818       0.52             0.06   \n",
       "153 2018-04-01          daeb3db       0.52             0.06   \n",
       "135 2018-04-01          020dd15       0.52             0.06   \n",
       "34  2015-10-01          f14fabc       0.89             0.82   \n",
       "33  2015-10-01          ea08d9e       0.89             0.82   \n",
       "27  2015-10-01          934e1c1       0.89             0.82   \n",
       "21  2015-10-01          0165eeb       0.89             0.82   \n",
       "160 2018-10-01          0165eeb       0.95             0.85   \n",
       "172 2018-10-01          934e1c1       0.95             0.85   \n",
       "183 2018-10-01          f14fabc       0.95             0.85   \n",
       "182 2018-10-01          ea08d9e       0.95             0.85   \n",
       "134 2018-04-01          0165eeb       0.96             0.88   \n",
       "155 2018-04-01          ea08d9e       0.96             0.88   \n",
       "156 2018-04-01          f14fabc       0.96             0.88   \n",
       "145 2018-04-01          934e1c1       0.96             0.88   \n",
       "103 2017-04-01          f14fabc       0.97             0.96   \n",
       "101 2017-04-01          ea08d9e       0.97             0.96   \n",
       "95  2017-04-01          934e1c1       0.97             0.96   \n",
       "87  2017-04-01          0165eeb       0.97             0.96   \n",
       "128 2017-10-01          ea08d9e       0.98             0.95   \n",
       "118 2017-10-01          934e1c1       0.98             0.95   \n",
       "107 2017-10-01          0165eeb       0.98             0.95   \n",
       "130 2017-10-01          f14fabc       0.98             0.95   \n",
       "\n",
       "     projected_frequency  observed_growth_rate  estimated_growth_rate  year  \\\n",
       "146                 0.51              0.166667               2.833333  2018   \n",
       "22                  0.67              0.045455               3.045455  2015   \n",
       "32                  0.67              0.041667               2.791667  2015   \n",
       "173                 0.81              0.000000               3.375000  2018   \n",
       "161                 0.83              0.031250               2.593750  2018   \n",
       "180                 0.83              0.031250               2.593750  2018   \n",
       "176                 0.83              0.031250               2.593750  2018   \n",
       "100                 0.86              0.171429               2.457143  2017   \n",
       "102                 0.86              0.171429               2.457143  2017   \n",
       "149                 0.77              0.115385               1.480769  2018   \n",
       "153                 0.77              0.115385               1.480769  2018   \n",
       "135                 0.77              0.115385               1.480769  2018   \n",
       "34                  0.98              0.921348               1.101124  2015   \n",
       "33                  0.98              0.921348               1.101124  2015   \n",
       "27                  0.98              0.921348               1.101124  2015   \n",
       "21                  0.98              0.921348               1.101124  2015   \n",
       "160                 0.99              0.894737               1.042105  2018   \n",
       "172                 0.99              0.894737               1.042105  2018   \n",
       "183                 0.99              0.894737               1.042105  2018   \n",
       "182                 0.99              0.894737               1.042105  2018   \n",
       "134                 0.99              0.916667               1.031250  2018   \n",
       "155                 0.99              0.916667               1.031250  2018   \n",
       "156                 0.99              0.916667               1.031250  2018   \n",
       "145                 0.99              0.916667               1.031250  2018   \n",
       "103                 1.00              0.989691               1.030928  2017   \n",
       "101                 1.00              0.989691               1.030928  2017   \n",
       "95                  1.00              0.989691               1.030928  2017   \n",
       "87                  1.00              0.989691               1.030928  2017   \n",
       "128                 1.00              0.969388               1.020408  2017   \n",
       "118                 1.00              0.969388               1.020408  2017   \n",
       "107                 1.00              0.969388               1.020408  2017   \n",
       "130                 1.00              0.969388               1.020408  2017   \n",
       "\n",
       "     log_observed_growth_rate  log_estimated_growth_rate  observed_growth  \\\n",
       "146                 -0.766317                   0.450742            False   \n",
       "22                  -1.303000                   0.482330            False   \n",
       "32                  -1.340624                   0.444705            False   \n",
       "173                 -2.382017                   0.527004            False   \n",
       "161                 -1.465112                   0.413096            False   \n",
       "180                 -1.465112                   0.413096            False   \n",
       "176                 -1.465112                   0.413096            False   \n",
       "100                 -0.759977                   0.389696            False   \n",
       "102                 -0.759977                   0.389696            False   \n",
       "149                 -0.931508                   0.170217            False   \n",
       "153                 -0.931508                   0.170217            False   \n",
       "135                 -0.931508                   0.170217            False   \n",
       "34                  -0.035535                   0.041791            False   \n",
       "33                  -0.035535                   0.041791            False   \n",
       "27                  -0.035535                   0.041791            False   \n",
       "21                  -0.035535                   0.041791            False   \n",
       "160                 -0.048251                   0.017893            False   \n",
       "172                 -0.048251                   0.017893            False   \n",
       "183                 -0.048251                   0.017893            False   \n",
       "182                 -0.048251                   0.017893            False   \n",
       "134                 -0.037747                   0.013350            False   \n",
       "155                 -0.037747                   0.013350            False   \n",
       "156                 -0.037747                   0.013350            False   \n",
       "145                 -0.037747                   0.013350            False   \n",
       "103                 -0.004496                   0.013215            False   \n",
       "101                 -0.004496                   0.013215            False   \n",
       "95                  -0.004496                   0.013215            False   \n",
       "87                  -0.004496                   0.013215            False   \n",
       "128                 -0.013488                   0.008765            False   \n",
       "118                 -0.013488                   0.008765            False   \n",
       "107                 -0.013488                   0.008765            False   \n",
       "130                 -0.013488                   0.008765            False   \n",
       "\n",
       "     estimated_growth  accurate_growth  \n",
       "146              True            False  \n",
       "22               True            False  \n",
       "32               True            False  \n",
       "173              True            False  \n",
       "161              True            False  \n",
       "180              True            False  \n",
       "176              True            False  \n",
       "100              True            False  \n",
       "102              True            False  \n",
       "149              True            False  \n",
       "153              True            False  \n",
       "135              True            False  \n",
       "34               True            False  \n",
       "33               True            False  \n",
       "27               True            False  \n",
       "21               True            False  \n",
       "160              True            False  \n",
       "172              True            False  \n",
       "183              True            False  \n",
       "182              True            False  \n",
       "134              True            False  \n",
       "155              True            False  \n",
       "156              True            False  \n",
       "145              True            False  \n",
       "103              True            False  \n",
       "101              True            False  \n",
       "95               True            False  \n",
       "87               True            False  \n",
       "128              True            False  \n",
       "118              True            False  \n",
       "107              True            False  \n",
       "130              True            False  "
      ]
     },
     "execution_count": 84,
     "metadata": {},
     "output_type": "execute_result"
    }
   ],
   "source": [
    "complete_clade_frequencies[false_positives].sort_values(\"frequency\")"
   ]
  },
  {
   "cell_type": "markdown",
   "metadata": {},
   "source": [
    "## Estimated and observed closest strains per timepoint\n",
    "\n",
    "Create a figure similar to Figure 2D in Neher et al. 2014 showing the minimum estimated distance to the future and minimum observed distance to the future per timepoint."
   ]
  },
  {
   "cell_type": "code",
   "execution_count": 85,
   "metadata": {},
   "outputs": [],
   "source": [
    "sorted_df = full_forecasts.dropna().sort_values(\n",
    "    [\"timepoint\"]\n",
    ").copy()"
   ]
  },
  {
   "cell_type": "code",
   "execution_count": 86,
   "metadata": {},
   "outputs": [],
   "source": [
    "sorted_df[\"timepoint_rank\"] = sorted_df.groupby(\"timepoint\")[\"weighted_distance_to_future\"].rank(pct=True)"
   ]
  },
  {
   "cell_type": "code",
   "execution_count": 87,
   "metadata": {},
   "outputs": [],
   "source": [
    "best_fitness_rank_by_timepoint_df = sorted_df.sort_values(\n",
    "    [\"timepoint\", \"y\"],\n",
    "    ascending=True\n",
    ").groupby(\"timepoint\")[\"timepoint_rank\"].first().reset_index()"
   ]
  },
  {
   "cell_type": "code",
   "execution_count": 88,
   "metadata": {},
   "outputs": [
    {
     "data": {
      "text/html": [
       "<div>\n",
       "<style scoped>\n",
       "    .dataframe tbody tr th:only-of-type {\n",
       "        vertical-align: middle;\n",
       "    }\n",
       "\n",
       "    .dataframe tbody tr th {\n",
       "        vertical-align: top;\n",
       "    }\n",
       "\n",
       "    .dataframe thead th {\n",
       "        text-align: right;\n",
       "    }\n",
       "</style>\n",
       "<table border=\"1\" class=\"dataframe\">\n",
       "  <thead>\n",
       "    <tr style=\"text-align: right;\">\n",
       "      <th></th>\n",
       "      <th>timepoint</th>\n",
       "      <th>timepoint_rank</th>\n",
       "    </tr>\n",
       "  </thead>\n",
       "  <tbody>\n",
       "    <tr>\n",
       "      <th>0</th>\n",
       "      <td>2015-04-01</td>\n",
       "      <td>0.063902</td>\n",
       "    </tr>\n",
       "    <tr>\n",
       "      <th>1</th>\n",
       "      <td>2015-10-01</td>\n",
       "      <td>0.444924</td>\n",
       "    </tr>\n",
       "    <tr>\n",
       "      <th>2</th>\n",
       "      <td>2016-04-01</td>\n",
       "      <td>0.141212</td>\n",
       "    </tr>\n",
       "    <tr>\n",
       "      <th>3</th>\n",
       "      <td>2016-10-01</td>\n",
       "      <td>0.098404</td>\n",
       "    </tr>\n",
       "    <tr>\n",
       "      <th>4</th>\n",
       "      <td>2017-04-01</td>\n",
       "      <td>0.604814</td>\n",
       "    </tr>\n",
       "  </tbody>\n",
       "</table>\n",
       "</div>"
      ],
      "text/plain": [
       "   timepoint  timepoint_rank\n",
       "0 2015-04-01        0.063902\n",
       "1 2015-10-01        0.444924\n",
       "2 2016-04-01        0.141212\n",
       "3 2016-10-01        0.098404\n",
       "4 2017-04-01        0.604814"
      ]
     },
     "execution_count": 88,
     "metadata": {},
     "output_type": "execute_result"
    }
   ],
   "source": [
    "best_fitness_rank_by_timepoint_df.head()"
   ]
  },
  {
   "cell_type": "code",
   "execution_count": 89,
   "metadata": {},
   "outputs": [
    {
     "data": {
      "image/png": "[encoded data removed]",
      "text/plain": [
       "<Figure size 1200x800 with 1 Axes>"
      ]
     },
     "metadata": {},
     "output_type": "display_data"
    }
   ],
   "source": [
    "median_best_rank = best_fitness_rank_by_timepoint_df[\"timepoint_rank\"].median()\n",
    "\n",
    "fig, ax = plt.subplots(1, 1, figsize=(6, 4))\n",
    "ax.hist(best_fitness_rank_by_timepoint_df[\"timepoint_rank\"], bins=np.arange(0, 1.01, 0.05), label=None)\n",
    "ax.axvline(\n",
    "    median_best_rank,\n",
    "    color=\"orange\",\n",
    "    label=\"median = %i%%\" % round(median_best_rank * 100, 0)\n",
    ")\n",
    "ax.set_xticklabels(['{:3.0f}%'.format(x*100) for x in [0, 0.2, 0.4, 0.6, 0.8, 1.0]])\n",
    "ax.set_xlim(0, 1)\n",
    "\n",
    "ax.legend(\n",
    "    frameon=False\n",
    ")\n",
    "ax.set_xlabel(\"Percentile rank by distance\\nfor estimated best strain\")\n",
    "ax.set_ylabel(\"Number of timepoints\")\n",
    "\n",
    "plt.tight_layout()\n",
    "plt.savefig(\"../manuscript/figures/test-of-best-model-for-natural-populations-by-best-strain.png\")"
   ]
  },
  {
   "cell_type": "markdown",
   "metadata": {},
   "source": [
    "## Merge validation figures into subpanels of one figure"
   ]
  },
  {
   "cell_type": "code",
   "execution_count": 90,
   "metadata": {},
   "outputs": [
    {
     "data": {
      "image/png": "[encoded data removed]",
      "text/plain": [
       "<Figure size 1600x800 with 2 Axes>"
      ]
     },
     "metadata": {},
     "output_type": "display_data"
    }
   ],
   "source": [
    "fig = plt.figure(figsize=(8, 4), facecolor='w')\n",
    "gs = gridspec.GridSpec(1, 2, width_ratios=[1, 1], wspace=0.1)\n",
    "\n",
    "#\n",
    "# Clade growth rate correlations\n",
    "#\n",
    "\n",
    "clade_ax = fig.add_subplot(gs[0])\n",
    "clade_ax.plot(\n",
    "    complete_clade_frequencies[\"log_observed_growth_rate\"],\n",
    "    complete_clade_frequencies[\"log_estimated_growth_rate\"],\n",
    "    \"o\",\n",
    "    alpha=0.4\n",
    ")\n",
    "\n",
    "clade_ax.axhline(color=\"#cccccc\", zorder=-5)\n",
    "clade_ax.axvline(color=\"#cccccc\", zorder=-5)\n",
    "\n",
    "if p < 0.001:\n",
    "    p_value = \"$p$ < 0.001\"\n",
    "else:\n",
    "    p_value = \"$p$ = %.3f\" % p\n",
    "\n",
    "clade_ax.text(\n",
    "    0.02,\n",
    "    0.9,\n",
    "    \"Growth accuracy = %.2f\\nDecline accuracy = %.2f\\n$R$ = %.2f, %s\\nN = %s\" % (growth_accuracy, decline_accuracy, r, p_value, complete_clade_frequencies.shape[0]),\n",
    "    fontsize=10,\n",
    "    horizontalalignment=\"left\",\n",
    "    verticalalignment=\"center\",\n",
    "    transform=clade_ax.transAxes\n",
    ")\n",
    "\n",
    "clade_ax.set_xlabel(\"Observed $log_{10}$ growth rate\")\n",
    "clade_ax.set_ylabel(\"Estimated $log_{10}$ growth rate\")\n",
    "\n",
    "ticks = np.arange(-6, 4, 1)\n",
    "clade_ax.set_xticks(ticks)\n",
    "clade_ax.set_yticks(ticks)\n",
    "\n",
    "clade_ax.set_xlim(log_lower_limit, log_upper_limit)\n",
    "clade_ax.set_ylim(log_lower_limit, log_upper_limit)\n",
    "clade_ax.set_aspect(\"equal\")\n",
    "\n",
    "#\n",
    "# Estimated closest strain to the future ranking\n",
    "#\n",
    "\n",
    "rank_ax = fig.add_subplot(gs[1])\n",
    "\n",
    "median_best_rank = best_fitness_rank_by_timepoint_df[\"timepoint_rank\"].median()\n",
    "\n",
    "rank_ax.hist(best_fitness_rank_by_timepoint_df[\"timepoint_rank\"], bins=np.arange(0, 1.01, 0.05), label=None)\n",
    "rank_ax.axvline(\n",
    "    median_best_rank,\n",
    "    color=\"orange\",\n",
    "    label=\"median = %i%%\" % round(median_best_rank * 100, 0)\n",
    ")\n",
    "rank_ax.set_xticklabels(['{:3.0f}%'.format(x*100) for x in [0, 0.2, 0.4, 0.6, 0.8, 1.0]])\n",
    "rank_ax.set_xlim(0, 1)\n",
    "\n",
    "rank_ax.legend(\n",
    "    frameon=False\n",
    ")\n",
    "rank_ax.set_xlabel(\"Percentile rank by distance\\nfor estimated best strain\")\n",
    "rank_ax.set_ylabel(\"Number of timepoints\")\n",
    "\n",
    "gs.tight_layout(fig)\n",
    "\n",
    "plt.savefig(\"../manuscript/figures/test-of-best-model-for-natural-populations.png\")"
   ]
  },
  {
   "cell_type": "code",
   "execution_count": 91,
   "metadata": {},
   "outputs": [
    {
     "data": {
      "text/plain": [
       "4"
      ]
     },
     "execution_count": 91,
     "metadata": {},
     "output_type": "execute_result"
    }
   ],
   "source": [
    "(best_fitness_rank_by_timepoint_df[\"timepoint_rank\"] < 0.2).sum()"
   ]
  },
  {
   "cell_type": "code",
   "execution_count": 92,
   "metadata": {},
   "outputs": [
    {
     "data": {
      "text/plain": [
       "(8, 2)"
      ]
     },
     "execution_count": 92,
     "metadata": {},
     "output_type": "execute_result"
    }
   ],
   "source": [
    "best_fitness_rank_by_timepoint_df.shape"
   ]
  },
  {
   "cell_type": "code",
   "execution_count": 93,
   "metadata": {},
   "outputs": [
    {
     "data": {
      "text/plain": [
       "0.5"
      ]
     },
     "execution_count": 93,
     "metadata": {},
     "output_type": "execute_result"
    }
   ],
   "source": [
    "(best_fitness_rank_by_timepoint_df[\"timepoint_rank\"] <= 0.2).sum() / float(best_fitness_rank_by_timepoint_df.shape[0])"
   ]
  },
  {
   "cell_type": "markdown",
   "metadata": {},
   "source": [
    "## Inspect uncertainty in forecast accuracy\n",
    "\n",
    "Use observed forecasting errors to inspect the accuracy of one-year lookaheads based on the initial frequency of each clade."
   ]
  },
  {
   "cell_type": "code",
   "execution_count": 94,
   "metadata": {},
   "outputs": [
    {
     "data": {
      "text/plain": [
       "(99, 13)"
      ]
     },
     "execution_count": 94,
     "metadata": {},
     "output_type": "execute_result"
    }
   ],
   "source": [
    "complete_clade_frequencies.shape"
   ]
  },
  {
   "cell_type": "code",
   "execution_count": 95,
   "metadata": {},
   "outputs": [],
   "source": [
    "complete_clade_frequencies[\"clade_error\"] = complete_clade_frequencies[\"frequency_final\"] - complete_clade_frequencies[\"projected_frequency\"]"
   ]
  },
  {
   "cell_type": "code",
   "execution_count": 96,
   "metadata": {},
   "outputs": [
    {
     "data": {
      "text/plain": [
       "Text(0,0.5,'Forecast error (%)')"
      ]
     },
     "execution_count": 96,
     "metadata": {},
     "output_type": "execute_result"
    },
    {
     "data": {
      "image/png": "[encoded data removed]",
      "text/plain": [
       "<Figure size 800x800 with 1 Axes>"
      ]
     },
     "metadata": {},
     "output_type": "display_data"
    }
   ],
   "source": [
    "fig, ax = plt.subplots(1, 1, figsize=(4, 4))\n",
    "ax.plot(\n",
    "    complete_clade_frequencies[\"frequency\"].values * 100,\n",
    "    complete_clade_frequencies[\"clade_error\"].values * 100,\n",
    "    \"o\",\n",
    "    alpha=0.25\n",
    ")\n",
    "ax.axhline(0, color=\"#cccccc\", zorder=-10)\n",
    "ax.set_xlabel(\"Initial clade frequency (%)\")\n",
    "ax.set_ylabel(\"Forecast error (%)\")"
   ]
  },
  {
   "cell_type": "code",
   "execution_count": null,
   "metadata": {},
   "outputs": [],
   "source": []
  }
 ],
 "metadata": {
  "kernelspec": {
   "display_name": "Python 3",
   "language": "python",
   "name": "python3"
  },
  "language_info": {
   "codemirror_mode": {
    "name": "ipython",
    "version": 3
   },
   "file_extension": ".py",
   "mimetype": "text/x-python",
   "name": "python",
   "nbconvert_exporter": "python",
   "pygments_lexer": "ipython3",
   "version": "3.6.7"
  }
 },
 "nbformat": 4,
 "nbformat_minor": 4
}
