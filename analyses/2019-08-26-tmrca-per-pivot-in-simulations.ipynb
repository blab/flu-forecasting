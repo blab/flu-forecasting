{
 "cells": [
  {
   "cell_type": "code",
   "execution_count": 1,
   "metadata": {},
   "outputs": [],
   "source": [
    "import altair as alt\n",
    "import datetime\n",
    "import pandas as pd"
   ]
  },
  {
   "cell_type": "code",
   "execution_count": 2,
   "metadata": {},
   "outputs": [],
   "source": [
    "def float_to_datestring(time):\n",
    "    \"\"\"Convert a floating point date from TreeTime `numeric_date` to a date string\n",
    "    \"\"\"\n",
    "    # Extract the year and remainder from the floating point date.\n",
    "    year = int(time)\n",
    "    remainder = time - year\n",
    "\n",
    "    # Calculate the day of the year (out of 365 + 0.25 for leap years).\n",
    "    tm_yday = int(remainder * 365.25)\n",
    "    if tm_yday == 0:\n",
    "        tm_yday = 1\n",
    "\n",
    "    # Construct a date object from the year and day of the year.\n",
    "    date = datetime.datetime.strptime(\"%s-%s\" % (year, tm_yday), \"%Y-%j\")\n",
    "\n",
    "    # Build the date string with zero-padded months and days.\n",
    "    date_string = \"%s-%.2i-%.2i\" % (date.year, date.month, date.day)\n",
    "\n",
    "    return date_string"
   ]
  },
  {
   "cell_type": "code",
   "execution_count": 3,
   "metadata": {},
   "outputs": [],
   "source": [
    "df = pd.read_csv(\"../analyses/simulations/tmrca_per_pivot_exposure_penalty_1.0.tsv\", sep=\"\\t\")"
   ]
  },
  {
   "cell_type": "code",
   "execution_count": 4,
   "metadata": {},
   "outputs": [],
   "source": [
    "df[\"timepoint\"] = pd.to_datetime(df[\"pivot\"].apply(float_to_datestring))"
   ]
  },
  {
   "cell_type": "code",
   "execution_count": 5,
   "metadata": {},
   "outputs": [
    {
     "data": {
      "text/html": [
       "<div>\n",
       "<style scoped>\n",
       "    .dataframe tbody tr th:only-of-type {\n",
       "        vertical-align: middle;\n",
       "    }\n",
       "\n",
       "    .dataframe tbody tr th {\n",
       "        vertical-align: top;\n",
       "    }\n",
       "\n",
       "    .dataframe thead th {\n",
       "        text-align: right;\n",
       "    }\n",
       "</style>\n",
       "<table border=\"1\" class=\"dataframe\">\n",
       "  <thead>\n",
       "    <tr style=\"text-align: right;\">\n",
       "      <th></th>\n",
       "      <th>pivot</th>\n",
       "      <th>tmrca</th>\n",
       "      <th>timepoint</th>\n",
       "    </tr>\n",
       "  </thead>\n",
       "  <tbody>\n",
       "    <tr>\n",
       "      <th>0</th>\n",
       "      <td>2000.00</td>\n",
       "      <td>0.11</td>\n",
       "      <td>2000-01-01</td>\n",
       "    </tr>\n",
       "    <tr>\n",
       "      <th>1</th>\n",
       "      <td>2000.25</td>\n",
       "      <td>0.36</td>\n",
       "      <td>2000-03-31</td>\n",
       "    </tr>\n",
       "    <tr>\n",
       "      <th>2</th>\n",
       "      <td>2000.50</td>\n",
       "      <td>0.61</td>\n",
       "      <td>2000-06-30</td>\n",
       "    </tr>\n",
       "    <tr>\n",
       "      <th>3</th>\n",
       "      <td>2000.75</td>\n",
       "      <td>0.90</td>\n",
       "      <td>2000-09-29</td>\n",
       "    </tr>\n",
       "    <tr>\n",
       "      <th>4</th>\n",
       "      <td>2001.00</td>\n",
       "      <td>1.15</td>\n",
       "      <td>2001-01-01</td>\n",
       "    </tr>\n",
       "  </tbody>\n",
       "</table>\n",
       "</div>"
      ],
      "text/plain": [
       "     pivot  tmrca  timepoint\n",
       "0  2000.00   0.11 2000-01-01\n",
       "1  2000.25   0.36 2000-03-31\n",
       "2  2000.50   0.61 2000-06-30\n",
       "3  2000.75   0.90 2000-09-29\n",
       "4  2001.00   1.15 2001-01-01"
      ]
     },
     "execution_count": 5,
     "metadata": {},
     "output_type": "execute_result"
    }
   ],
   "source": [
    "df.head()"
   ]
  },
  {
   "cell_type": "code",
   "execution_count": 14,
   "metadata": {},
   "outputs": [],
   "source": [
    "rolling_df = df.set_index([\"timepoint\"]).rolling(4)[\"tmrca\"].mean().dropna().reset_index()"
   ]
  },
  {
   "cell_type": "code",
   "execution_count": 15,
   "metadata": {},
   "outputs": [
    {
     "data": {
      "text/html": [
       "<div>\n",
       "<style scoped>\n",
       "    .dataframe tbody tr th:only-of-type {\n",
       "        vertical-align: middle;\n",
       "    }\n",
       "\n",
       "    .dataframe tbody tr th {\n",
       "        vertical-align: top;\n",
       "    }\n",
       "\n",
       "    .dataframe thead th {\n",
       "        text-align: right;\n",
       "    }\n",
       "</style>\n",
       "<table border=\"1\" class=\"dataframe\">\n",
       "  <thead>\n",
       "    <tr style=\"text-align: right;\">\n",
       "      <th></th>\n",
       "      <th>timepoint</th>\n",
       "      <th>tmrca</th>\n",
       "    </tr>\n",
       "  </thead>\n",
       "  <tbody>\n",
       "    <tr>\n",
       "      <th>0</th>\n",
       "      <td>2000-09-29</td>\n",
       "      <td>0.4950</td>\n",
       "    </tr>\n",
       "    <tr>\n",
       "      <th>1</th>\n",
       "      <td>2001-01-01</td>\n",
       "      <td>0.7550</td>\n",
       "    </tr>\n",
       "    <tr>\n",
       "      <th>2</th>\n",
       "      <td>2001-04-01</td>\n",
       "      <td>1.0175</td>\n",
       "    </tr>\n",
       "    <tr>\n",
       "      <th>3</th>\n",
       "      <td>2001-07-01</td>\n",
       "      <td>1.2800</td>\n",
       "    </tr>\n",
       "    <tr>\n",
       "      <th>4</th>\n",
       "      <td>2001-09-30</td>\n",
       "      <td>1.5325</td>\n",
       "    </tr>\n",
       "  </tbody>\n",
       "</table>\n",
       "</div>"
      ],
      "text/plain": [
       "   timepoint   tmrca\n",
       "0 2000-09-29  0.4950\n",
       "1 2001-01-01  0.7550\n",
       "2 2001-04-01  1.0175\n",
       "3 2001-07-01  1.2800\n",
       "4 2001-09-30  1.5325"
      ]
     },
     "execution_count": 15,
     "metadata": {},
     "output_type": "execute_result"
    }
   ],
   "source": [
    "rolling_df.head()"
   ]
  },
  {
   "cell_type": "code",
   "execution_count": 16,
   "metadata": {},
   "outputs": [
    {
     "data": {
      "application/vnd.vegalite.v3+json": {
       "$schema": "https://vega.github.io/schema/vega-lite/v3.3.0.json",
       "config": {
        "mark": {
         "tooltip": null
        },
        "view": {
         "height": 300,
         "width": 400
        }
       },
       "data": {
        "name": "data-a88cddf6dc2441b8f6923669e3114c4f"
       },
       "datasets": {
        "data-a88cddf6dc2441b8f6923669e3114c4f": [
         {
          "pivot": 2000,
          "timepoint": "2000-01-01T00:00:00",
          "tmrca": 0.11
         },
         {
          "pivot": 2000.25,
          "timepoint": "2000-03-31T00:00:00",
          "tmrca": 0.36
         },
         {
          "pivot": 2000.5,
          "timepoint": "2000-06-30T00:00:00",
          "tmrca": 0.61
         },
         {
          "pivot": 2000.75,
          "timepoint": "2000-09-29T00:00:00",
          "tmrca": 0.9
         },
         {
          "pivot": 2001,
          "timepoint": "2001-01-01T00:00:00",
          "tmrca": 1.15
         },
         {
          "pivot": 2001.25,
          "timepoint": "2001-04-01T00:00:00",
          "tmrca": 1.41
         },
         {
          "pivot": 2001.5,
          "timepoint": "2001-07-01T00:00:00",
          "tmrca": 1.66
         },
         {
          "pivot": 2001.75,
          "timepoint": "2001-09-30T00:00:00",
          "tmrca": 1.91
         },
         {
          "pivot": 2002,
          "timepoint": "2002-01-01T00:00:00",
          "tmrca": 2.16
         },
         {
          "pivot": 2002.25,
          "timepoint": "2002-04-01T00:00:00",
          "tmrca": 2.41
         },
         {
          "pivot": 2002.5,
          "timepoint": "2002-07-01T00:00:00",
          "tmrca": 2.66
         },
         {
          "pivot": 2002.75,
          "timepoint": "2002-09-30T00:00:00",
          "tmrca": 2.91
         },
         {
          "pivot": 2003,
          "timepoint": "2003-01-01T00:00:00",
          "tmrca": 3.11
         },
         {
          "pivot": 2003.25,
          "timepoint": "2003-04-01T00:00:00",
          "tmrca": 2.99
         },
         {
          "pivot": 2003.5,
          "timepoint": "2003-07-01T00:00:00",
          "tmrca": 3.24
         },
         {
          "pivot": 2003.75,
          "timepoint": "2003-09-30T00:00:00",
          "tmrca": 3.49
         },
         {
          "pivot": 2004,
          "timepoint": "2004-01-01T00:00:00",
          "tmrca": 3.74
         },
         {
          "pivot": 2004.25,
          "timepoint": "2004-03-31T00:00:00",
          "tmrca": 3.99
         },
         {
          "pivot": 2004.5,
          "timepoint": "2004-06-30T00:00:00",
          "tmrca": 4.24
         },
         {
          "pivot": 2004.75,
          "timepoint": "2004-09-29T00:00:00",
          "tmrca": 4.49
         },
         {
          "pivot": 2005,
          "timepoint": "2005-01-01T00:00:00",
          "tmrca": 4.74
         },
         {
          "pivot": 2005.25,
          "timepoint": "2005-04-01T00:00:00",
          "tmrca": 4.99
         },
         {
          "pivot": 2005.5,
          "timepoint": "2005-07-01T00:00:00",
          "tmrca": 5.24
         },
         {
          "pivot": 2005.75,
          "timepoint": "2005-09-30T00:00:00",
          "tmrca": 5.49
         },
         {
          "pivot": 2006,
          "timepoint": "2006-01-01T00:00:00",
          "tmrca": 3.44
         },
         {
          "pivot": 2006.25,
          "timepoint": "2006-04-01T00:00:00",
          "tmrca": 3.69
         },
         {
          "pivot": 2006.5,
          "timepoint": "2006-07-01T00:00:00",
          "tmrca": 3.94
         },
         {
          "pivot": 2006.75,
          "timepoint": "2006-09-30T00:00:00",
          "tmrca": 4.19
         },
         {
          "pivot": 2007,
          "timepoint": "2007-01-01T00:00:00",
          "tmrca": 4.44
         },
         {
          "pivot": 2007.25,
          "timepoint": "2007-04-01T00:00:00",
          "tmrca": 4.69
         },
         {
          "pivot": 2007.5,
          "timepoint": "2007-07-01T00:00:00",
          "tmrca": 4.94
         },
         {
          "pivot": 2007.75,
          "timepoint": "2007-09-30T00:00:00",
          "tmrca": 2.37
         },
         {
          "pivot": 2008,
          "timepoint": "2008-01-01T00:00:00",
          "tmrca": 2.62
         },
         {
          "pivot": 2008.25,
          "timepoint": "2008-03-31T00:00:00",
          "tmrca": 2.87
         },
         {
          "pivot": 2008.5,
          "timepoint": "2008-06-30T00:00:00",
          "tmrca": 3.12
         },
         {
          "pivot": 2008.75,
          "timepoint": "2008-09-29T00:00:00",
          "tmrca": 3.37
         },
         {
          "pivot": 2009,
          "timepoint": "2009-01-01T00:00:00",
          "tmrca": 3.62
         },
         {
          "pivot": 2009.25,
          "timepoint": "2009-04-01T00:00:00",
          "tmrca": 3.87
         },
         {
          "pivot": 2009.5,
          "timepoint": "2009-07-01T00:00:00",
          "tmrca": 4.12
         },
         {
          "pivot": 2009.75,
          "timepoint": "2009-09-30T00:00:00",
          "tmrca": 4.37
         },
         {
          "pivot": 2010,
          "timepoint": "2010-01-01T00:00:00",
          "tmrca": 4.62
         },
         {
          "pivot": 2010.25,
          "timepoint": "2010-04-01T00:00:00",
          "tmrca": 4.87
         },
         {
          "pivot": 2010.5,
          "timepoint": "2010-07-01T00:00:00",
          "tmrca": 5.12
         },
         {
          "pivot": 2010.75,
          "timepoint": "2010-09-30T00:00:00",
          "tmrca": 5.37
         },
         {
          "pivot": 2011,
          "timepoint": "2011-01-01T00:00:00",
          "tmrca": 5.62
         },
         {
          "pivot": 2011.25,
          "timepoint": "2011-04-01T00:00:00",
          "tmrca": 5.87
         },
         {
          "pivot": 2011.5,
          "timepoint": "2011-07-01T00:00:00",
          "tmrca": 6.12
         },
         {
          "pivot": 2011.75,
          "timepoint": "2011-09-30T00:00:00",
          "tmrca": 6.37
         },
         {
          "pivot": 2012,
          "timepoint": "2012-01-01T00:00:00",
          "tmrca": 4.81
         },
         {
          "pivot": 2012.25,
          "timepoint": "2012-03-31T00:00:00",
          "tmrca": 5.06
         },
         {
          "pivot": 2012.5,
          "timepoint": "2012-06-30T00:00:00",
          "tmrca": 5.31
         },
         {
          "pivot": 2012.75,
          "timepoint": "2012-09-29T00:00:00",
          "tmrca": 5.56
         },
         {
          "pivot": 2013,
          "timepoint": "2013-01-01T00:00:00",
          "tmrca": 5.81
         },
         {
          "pivot": 2013.25,
          "timepoint": "2013-04-01T00:00:00",
          "tmrca": 6.06
         },
         {
          "pivot": 2013.5,
          "timepoint": "2013-07-01T00:00:00",
          "tmrca": 6.31
         },
         {
          "pivot": 2013.75,
          "timepoint": "2013-09-30T00:00:00",
          "tmrca": 6.56
         },
         {
          "pivot": 2014,
          "timepoint": "2014-01-01T00:00:00",
          "tmrca": 6.81
         },
         {
          "pivot": 2014.25,
          "timepoint": "2014-04-01T00:00:00",
          "tmrca": 7.06
         },
         {
          "pivot": 2014.5,
          "timepoint": "2014-07-01T00:00:00",
          "tmrca": 7.31
         },
         {
          "pivot": 2014.75,
          "timepoint": "2014-09-30T00:00:00",
          "tmrca": 7.56
         },
         {
          "pivot": 2015,
          "timepoint": "2015-01-01T00:00:00",
          "tmrca": 7.81
         },
         {
          "pivot": 2015.25,
          "timepoint": "2015-04-01T00:00:00",
          "tmrca": 2.17
         },
         {
          "pivot": 2015.5,
          "timepoint": "2015-07-01T00:00:00",
          "tmrca": 2.42
         },
         {
          "pivot": 2015.75,
          "timepoint": "2015-09-30T00:00:00",
          "tmrca": 1.89
         },
         {
          "pivot": 2016,
          "timepoint": "2016-01-01T00:00:00",
          "tmrca": 2.14
         },
         {
          "pivot": 2016.25,
          "timepoint": "2016-03-31T00:00:00",
          "tmrca": 2.39
         },
         {
          "pivot": 2016.5,
          "timepoint": "2016-06-30T00:00:00",
          "tmrca": 2.64
         },
         {
          "pivot": 2016.75,
          "timepoint": "2016-09-29T00:00:00",
          "tmrca": 2.52
         },
         {
          "pivot": 2017,
          "timepoint": "2017-01-01T00:00:00",
          "tmrca": 2.77
         },
         {
          "pivot": 2017.25,
          "timepoint": "2017-04-01T00:00:00",
          "tmrca": 3.02
         },
         {
          "pivot": 2017.5,
          "timepoint": "2017-07-01T00:00:00",
          "tmrca": 3.27
         },
         {
          "pivot": 2017.75,
          "timepoint": "2017-09-30T00:00:00",
          "tmrca": 3.52
         },
         {
          "pivot": 2018,
          "timepoint": "2018-01-01T00:00:00",
          "tmrca": 3.77
         },
         {
          "pivot": 2018.25,
          "timepoint": "2018-04-01T00:00:00",
          "tmrca": 4.02
         },
         {
          "pivot": 2018.5,
          "timepoint": "2018-07-01T00:00:00",
          "tmrca": 4.27
         },
         {
          "pivot": 2018.75,
          "timepoint": "2018-09-30T00:00:00",
          "tmrca": 4.52
         },
         {
          "pivot": 2019,
          "timepoint": "2019-01-01T00:00:00",
          "tmrca": 4.77
         },
         {
          "pivot": 2019.25,
          "timepoint": "2019-04-01T00:00:00",
          "tmrca": 5.02
         },
         {
          "pivot": 2019.5,
          "timepoint": "2019-07-01T00:00:00",
          "tmrca": 5.27
         },
         {
          "pivot": 2019.75,
          "timepoint": "2019-09-30T00:00:00",
          "tmrca": 5.34
         },
         {
          "pivot": 2020,
          "timepoint": "2020-01-01T00:00:00",
          "tmrca": 5.59
         },
         {
          "pivot": 2020.25,
          "timepoint": "2020-03-31T00:00:00",
          "tmrca": 5.84
         },
         {
          "pivot": 2020.5,
          "timepoint": "2020-06-30T00:00:00",
          "tmrca": 6.09
         },
         {
          "pivot": 2020.75,
          "timepoint": "2020-09-29T00:00:00",
          "tmrca": 2.64
         },
         {
          "pivot": 2021,
          "timepoint": "2021-01-01T00:00:00",
          "tmrca": 2.27
         },
         {
          "pivot": 2021.25,
          "timepoint": "2021-04-01T00:00:00",
          "tmrca": 2.52
         },
         {
          "pivot": 2021.5,
          "timepoint": "2021-07-01T00:00:00",
          "tmrca": 2.77
         },
         {
          "pivot": 2021.75,
          "timepoint": "2021-09-30T00:00:00",
          "tmrca": 3.02
         },
         {
          "pivot": 2022,
          "timepoint": "2022-01-01T00:00:00",
          "tmrca": 2.45
         },
         {
          "pivot": 2022.25,
          "timepoint": "2022-04-01T00:00:00",
          "tmrca": 2.7
         },
         {
          "pivot": 2022.5,
          "timepoint": "2022-07-01T00:00:00",
          "tmrca": 1.06
         },
         {
          "pivot": 2022.75,
          "timepoint": "2022-09-30T00:00:00",
          "tmrca": 1.31
         },
         {
          "pivot": 2023,
          "timepoint": "2023-01-01T00:00:00",
          "tmrca": 1.56
         },
         {
          "pivot": 2023.25,
          "timepoint": "2023-04-01T00:00:00",
          "tmrca": 1.81
         },
         {
          "pivot": 2023.5,
          "timepoint": "2023-07-01T00:00:00",
          "tmrca": 2.06
         },
         {
          "pivot": 2023.75,
          "timepoint": "2023-09-30T00:00:00",
          "tmrca": 2.13
         },
         {
          "pivot": 2024,
          "timepoint": "2024-01-01T00:00:00",
          "tmrca": 2.38
         },
         {
          "pivot": 2024.25,
          "timepoint": "2024-03-31T00:00:00",
          "tmrca": 2.63
         },
         {
          "pivot": 2024.5,
          "timepoint": "2024-06-30T00:00:00",
          "tmrca": 2.88
         },
         {
          "pivot": 2024.75,
          "timepoint": "2024-09-29T00:00:00",
          "tmrca": 3.13
         },
         {
          "pivot": 2025,
          "timepoint": "2025-01-01T00:00:00",
          "tmrca": 3.38
         },
         {
          "pivot": 2025.25,
          "timepoint": "2025-04-01T00:00:00",
          "tmrca": 3.6
         },
         {
          "pivot": 2025.5,
          "timepoint": "2025-07-01T00:00:00",
          "tmrca": 3.85
         },
         {
          "pivot": 2025.75,
          "timepoint": "2025-09-30T00:00:00",
          "tmrca": 4.1
         },
         {
          "pivot": 2026,
          "timepoint": "2026-01-01T00:00:00",
          "tmrca": 4.35
         },
         {
          "pivot": 2026.25,
          "timepoint": "2026-04-01T00:00:00",
          "tmrca": 4.6
         },
         {
          "pivot": 2026.5,
          "timepoint": "2026-07-01T00:00:00",
          "tmrca": 4.85
         },
         {
          "pivot": 2026.75,
          "timepoint": "2026-09-30T00:00:00",
          "tmrca": 5.1
         },
         {
          "pivot": 2027,
          "timepoint": "2027-01-01T00:00:00",
          "tmrca": 5.35
         },
         {
          "pivot": 2027.25,
          "timepoint": "2027-04-01T00:00:00",
          "tmrca": 5.6
         },
         {
          "pivot": 2027.5,
          "timepoint": "2027-07-01T00:00:00",
          "tmrca": 5.85
         },
         {
          "pivot": 2027.75,
          "timepoint": "2027-09-30T00:00:00",
          "tmrca": 6.1
         },
         {
          "pivot": 2028,
          "timepoint": "2028-01-01T00:00:00",
          "tmrca": 6.35
         },
         {
          "pivot": 2028.25,
          "timepoint": "2028-03-31T00:00:00",
          "tmrca": 2.47
         },
         {
          "pivot": 2028.5,
          "timepoint": "2028-06-30T00:00:00",
          "tmrca": 2.72
         },
         {
          "pivot": 2028.75,
          "timepoint": "2028-09-29T00:00:00",
          "tmrca": 2.97
         },
         {
          "pivot": 2029,
          "timepoint": "2029-01-01T00:00:00",
          "tmrca": 3.22
         },
         {
          "pivot": 2029.25,
          "timepoint": "2029-04-01T00:00:00",
          "tmrca": 3.47
         },
         {
          "pivot": 2029.5,
          "timepoint": "2029-07-01T00:00:00",
          "tmrca": 2.2
         },
         {
          "pivot": 2029.75,
          "timepoint": "2029-09-30T00:00:00",
          "tmrca": 2.45
         },
         {
          "pivot": 2030,
          "timepoint": "2030-01-01T00:00:00",
          "tmrca": 2.7
         },
         {
          "pivot": 2030.25,
          "timepoint": "2030-04-01T00:00:00",
          "tmrca": 2.95
         },
         {
          "pivot": 2030.5,
          "timepoint": "2030-07-01T00:00:00",
          "tmrca": 3.2
         },
         {
          "pivot": 2030.75,
          "timepoint": "2030-09-30T00:00:00",
          "tmrca": 3.45
         },
         {
          "pivot": 2031,
          "timepoint": "2031-01-01T00:00:00",
          "tmrca": 3.7
         },
         {
          "pivot": 2031.25,
          "timepoint": "2031-04-01T00:00:00",
          "tmrca": 3.95
         },
         {
          "pivot": 2031.5,
          "timepoint": "2031-07-01T00:00:00",
          "tmrca": 2.6
         },
         {
          "pivot": 2031.75,
          "timepoint": "2031-09-30T00:00:00",
          "tmrca": 2.85
         },
         {
          "pivot": 2032,
          "timepoint": "2032-01-01T00:00:00",
          "tmrca": 2.77
         },
         {
          "pivot": 2032.25,
          "timepoint": "2032-03-31T00:00:00",
          "tmrca": 3.02
         },
         {
          "pivot": 2032.5,
          "timepoint": "2032-06-30T00:00:00",
          "tmrca": 3.27
         },
         {
          "pivot": 2032.75,
          "timepoint": "2032-09-29T00:00:00",
          "tmrca": 3.52
         },
         {
          "pivot": 2033,
          "timepoint": "2033-01-01T00:00:00",
          "tmrca": 3.77
         },
         {
          "pivot": 2033.25,
          "timepoint": "2033-04-01T00:00:00",
          "tmrca": 4.02
         },
         {
          "pivot": 2033.5,
          "timepoint": "2033-07-01T00:00:00",
          "tmrca": 3.31
         },
         {
          "pivot": 2033.75,
          "timepoint": "2033-09-30T00:00:00",
          "tmrca": 3.27
         },
         {
          "pivot": 2034,
          "timepoint": "2034-01-01T00:00:00",
          "tmrca": 4.77
         },
         {
          "pivot": 2034.25,
          "timepoint": "2034-04-01T00:00:00",
          "tmrca": 5.02
         },
         {
          "pivot": 2034.5,
          "timepoint": "2034-07-01T00:00:00",
          "tmrca": 5.27
         },
         {
          "pivot": 2034.75,
          "timepoint": "2034-09-30T00:00:00",
          "tmrca": 5.52
         },
         {
          "pivot": 2035,
          "timepoint": "2035-01-01T00:00:00",
          "tmrca": 4.52
         },
         {
          "pivot": 2035.25,
          "timepoint": "2035-04-01T00:00:00",
          "tmrca": 4.77
         },
         {
          "pivot": 2035.5,
          "timepoint": "2035-07-01T00:00:00",
          "tmrca": 4.02
         },
         {
          "pivot": 2035.75,
          "timepoint": "2035-09-30T00:00:00",
          "tmrca": 4.27
         },
         {
          "pivot": 2036,
          "timepoint": "2036-01-01T00:00:00",
          "tmrca": 0.68
         },
         {
          "pivot": 2036.25,
          "timepoint": "2036-03-31T00:00:00",
          "tmrca": 0.93
         },
         {
          "pivot": 2036.5,
          "timepoint": "2036-06-30T00:00:00",
          "tmrca": 1.18
         },
         {
          "pivot": 2036.75,
          "timepoint": "2036-09-29T00:00:00",
          "tmrca": 1.43
         },
         {
          "pivot": 2037,
          "timepoint": "2037-01-01T00:00:00",
          "tmrca": 1.68
         },
         {
          "pivot": 2037.25,
          "timepoint": "2037-04-01T00:00:00",
          "tmrca": 1.93
         },
         {
          "pivot": 2037.5,
          "timepoint": "2037-07-01T00:00:00",
          "tmrca": 2.18
         },
         {
          "pivot": 2037.75,
          "timepoint": "2037-09-30T00:00:00",
          "tmrca": 2.43
         },
         {
          "pivot": 2038,
          "timepoint": "2038-01-01T00:00:00",
          "tmrca": 2.68
         },
         {
          "pivot": 2038.25,
          "timepoint": "2038-04-01T00:00:00",
          "tmrca": 2.93
         },
         {
          "pivot": 2038.5,
          "timepoint": "2038-07-01T00:00:00",
          "tmrca": 2.77
         },
         {
          "pivot": 2038.75,
          "timepoint": "2038-09-30T00:00:00",
          "tmrca": 3.02
         },
         {
          "pivot": 2039,
          "timepoint": "2039-01-01T00:00:00",
          "tmrca": 3.27
         },
         {
          "pivot": 2039.25,
          "timepoint": "2039-04-01T00:00:00",
          "tmrca": 3.52
         },
         {
          "pivot": 2039.5,
          "timepoint": "2039-07-01T00:00:00",
          "tmrca": 3.77
         },
         {
          "pivot": 2039.75,
          "timepoint": "2039-09-30T00:00:00",
          "tmrca": 3.12
         },
         {
          "pivot": 2040,
          "timepoint": "2040-01-01T00:00:00",
          "tmrca": 3.37
         }
        ]
       },
       "encoding": {
        "x": {
         "field": "timepoint",
         "type": "temporal"
        },
        "y": {
         "field": "tmrca",
         "type": "quantitative"
        }
       },
       "mark": "point"
      },
      "image/png": "[encoded data removed]",
      "text/plain": [
       "<VegaLite 3 object>\n",
       "\n",
       "If you see this message, it means the renderer has not been properly enabled\n",
       "for the frontend that you are using. For more information, see\n",
       "https://altair-viz.github.io/user_guide/troubleshooting.html\n"
      ]
     },
     "execution_count": 16,
     "metadata": {},
     "output_type": "execute_result"
    }
   ],
   "source": [
    "alt.Chart(df).mark_point().encode(\n",
    "    x=\"timepoint:T\",\n",
    "    y=\"tmrca:Q\"\n",
    ")"
   ]
  },
  {
   "cell_type": "code",
   "execution_count": 17,
   "metadata": {},
   "outputs": [
    {
     "data": {
      "application/vnd.vegalite.v3+json": {
       "$schema": "https://vega.github.io/schema/vega-lite/v3.3.0.json",
       "config": {
        "mark": {
         "tooltip": null
        },
        "view": {
         "height": 300,
         "width": 400
        }
       },
       "data": {
        "name": "data-e9325a22dc160cc900703a1be82407dc"
       },
       "datasets": {
        "data-e9325a22dc160cc900703a1be82407dc": [
         {
          "timepoint": "2000-09-29T00:00:00",
          "tmrca": 0.495
         },
         {
          "timepoint": "2001-01-01T00:00:00",
          "tmrca": 0.755
         },
         {
          "timepoint": "2001-04-01T00:00:00",
          "tmrca": 1.0174999999999998
         },
         {
          "timepoint": "2001-07-01T00:00:00",
          "tmrca": 1.2799999999999998
         },
         {
          "timepoint": "2001-09-30T00:00:00",
          "tmrca": 1.5324999999999998
         },
         {
          "timepoint": "2002-01-01T00:00:00",
          "tmrca": 1.7849999999999997
         },
         {
          "timepoint": "2002-04-01T00:00:00",
          "tmrca": 2.0349999999999997
         },
         {
          "timepoint": "2002-07-01T00:00:00",
          "tmrca": 2.2849999999999997
         },
         {
          "timepoint": "2002-09-30T00:00:00",
          "tmrca": 2.5349999999999997
         },
         {
          "timepoint": "2003-01-01T00:00:00",
          "tmrca": 2.7724999999999995
         },
         {
          "timepoint": "2003-04-01T00:00:00",
          "tmrca": 2.9174999999999995
         },
         {
          "timepoint": "2003-07-01T00:00:00",
          "tmrca": 3.0624999999999996
         },
         {
          "timepoint": "2003-09-30T00:00:00",
          "tmrca": 3.2074999999999996
         },
         {
          "timepoint": "2004-01-01T00:00:00",
          "tmrca": 3.365
         },
         {
          "timepoint": "2004-03-31T00:00:00",
          "tmrca": 3.6150000000000007
         },
         {
          "timepoint": "2004-06-30T00:00:00",
          "tmrca": 3.8650000000000007
         },
         {
          "timepoint": "2004-09-29T00:00:00",
          "tmrca": 4.115
         },
         {
          "timepoint": "2005-01-01T00:00:00",
          "tmrca": 4.365
         },
         {
          "timepoint": "2005-04-01T00:00:00",
          "tmrca": 4.615
         },
         {
          "timepoint": "2005-07-01T00:00:00",
          "tmrca": 4.865
         },
         {
          "timepoint": "2005-09-30T00:00:00",
          "tmrca": 5.115
         },
         {
          "timepoint": "2006-01-01T00:00:00",
          "tmrca": 4.790000000000001
         },
         {
          "timepoint": "2006-04-01T00:00:00",
          "tmrca": 4.465000000000002
         },
         {
          "timepoint": "2006-07-01T00:00:00",
          "tmrca": 4.140000000000002
         },
         {
          "timepoint": "2006-09-30T00:00:00",
          "tmrca": 3.8150000000000026
         },
         {
          "timepoint": "2007-01-01T00:00:00",
          "tmrca": 4.065000000000002
         },
         {
          "timepoint": "2007-04-01T00:00:00",
          "tmrca": 4.315000000000002
         },
         {
          "timepoint": "2007-07-01T00:00:00",
          "tmrca": 4.565000000000002
         },
         {
          "timepoint": "2007-09-30T00:00:00",
          "tmrca": 4.110000000000002
         },
         {
          "timepoint": "2008-01-01T00:00:00",
          "tmrca": 3.655000000000002
         },
         {
          "timepoint": "2008-03-31T00:00:00",
          "tmrca": 3.200000000000002
         },
         {
          "timepoint": "2008-06-30T00:00:00",
          "tmrca": 2.745000000000002
         },
         {
          "timepoint": "2008-09-29T00:00:00",
          "tmrca": 2.995000000000002
         },
         {
          "timepoint": "2009-01-01T00:00:00",
          "tmrca": 3.245000000000002
         },
         {
          "timepoint": "2009-04-01T00:00:00",
          "tmrca": 3.495000000000002
         },
         {
          "timepoint": "2009-07-01T00:00:00",
          "tmrca": 3.745000000000002
         },
         {
          "timepoint": "2009-09-30T00:00:00",
          "tmrca": 3.995000000000002
         },
         {
          "timepoint": "2010-01-01T00:00:00",
          "tmrca": 4.245000000000002
         },
         {
          "timepoint": "2010-04-01T00:00:00",
          "tmrca": 4.495000000000002
         },
         {
          "timepoint": "2010-07-01T00:00:00",
          "tmrca": 4.745000000000002
         },
         {
          "timepoint": "2010-09-30T00:00:00",
          "tmrca": 4.995000000000002
         },
         {
          "timepoint": "2011-01-01T00:00:00",
          "tmrca": 5.245000000000002
         },
         {
          "timepoint": "2011-04-01T00:00:00",
          "tmrca": 5.495000000000002
         },
         {
          "timepoint": "2011-07-01T00:00:00",
          "tmrca": 5.745000000000002
         },
         {
          "timepoint": "2011-09-30T00:00:00",
          "tmrca": 5.995000000000002
         },
         {
          "timepoint": "2012-01-01T00:00:00",
          "tmrca": 5.792500000000001
         },
         {
          "timepoint": "2012-03-31T00:00:00",
          "tmrca": 5.590000000000001
         },
         {
          "timepoint": "2012-06-30T00:00:00",
          "tmrca": 5.3875
         },
         {
          "timepoint": "2012-09-29T00:00:00",
          "tmrca": 5.185
         },
         {
          "timepoint": "2013-01-01T00:00:00",
          "tmrca": 5.435
         },
         {
          "timepoint": "2013-04-01T00:00:00",
          "tmrca": 5.685
         },
         {
          "timepoint": "2013-07-01T00:00:00",
          "tmrca": 5.935
         },
         {
          "timepoint": "2013-09-30T00:00:00",
          "tmrca": 6.185
         },
         {
          "timepoint": "2014-01-01T00:00:00",
          "tmrca": 6.435
         },
         {
          "timepoint": "2014-04-01T00:00:00",
          "tmrca": 6.685
         },
         {
          "timepoint": "2014-07-01T00:00:00",
          "tmrca": 6.935
         },
         {
          "timepoint": "2014-09-30T00:00:00",
          "tmrca": 7.185
         },
         {
          "timepoint": "2015-01-01T00:00:00",
          "tmrca": 7.435
         },
         {
          "timepoint": "2015-04-01T00:00:00",
          "tmrca": 6.2124999999999995
         },
         {
          "timepoint": "2015-07-01T00:00:00",
          "tmrca": 4.989999999999999
         },
         {
          "timepoint": "2015-09-30T00:00:00",
          "tmrca": 3.5725
         },
         {
          "timepoint": "2016-01-01T00:00:00",
          "tmrca": 2.1550000000000002
         },
         {
          "timepoint": "2016-03-31T00:00:00",
          "tmrca": 2.2100000000000004
         },
         {
          "timepoint": "2016-06-30T00:00:00",
          "tmrca": 2.2650000000000006
         },
         {
          "timepoint": "2016-09-29T00:00:00",
          "tmrca": 2.4225000000000003
         },
         {
          "timepoint": "2017-01-01T00:00:00",
          "tmrca": 2.58
         },
         {
          "timepoint": "2017-04-01T00:00:00",
          "tmrca": 2.7375
         },
         {
          "timepoint": "2017-07-01T00:00:00",
          "tmrca": 2.8949999999999996
         },
         {
          "timepoint": "2017-09-30T00:00:00",
          "tmrca": 3.1449999999999996
         },
         {
          "timepoint": "2018-01-01T00:00:00",
          "tmrca": 3.3949999999999996
         },
         {
          "timepoint": "2018-04-01T00:00:00",
          "tmrca": 3.6449999999999996
         },
         {
          "timepoint": "2018-07-01T00:00:00",
          "tmrca": 3.8949999999999996
         },
         {
          "timepoint": "2018-09-30T00:00:00",
          "tmrca": 4.145
         },
         {
          "timepoint": "2019-01-01T00:00:00",
          "tmrca": 4.395
         },
         {
          "timepoint": "2019-04-01T00:00:00",
          "tmrca": 4.645
         },
         {
          "timepoint": "2019-07-01T00:00:00",
          "tmrca": 4.895
         },
         {
          "timepoint": "2019-09-30T00:00:00",
          "tmrca": 5.1
         },
         {
          "timepoint": "2020-01-01T00:00:00",
          "tmrca": 5.305
         },
         {
          "timepoint": "2020-03-31T00:00:00",
          "tmrca": 5.51
         },
         {
          "timepoint": "2020-06-30T00:00:00",
          "tmrca": 5.715
         },
         {
          "timepoint": "2020-09-29T00:00:00",
          "tmrca": 5.04
         },
         {
          "timepoint": "2021-01-01T00:00:00",
          "tmrca": 4.21
         },
         {
          "timepoint": "2021-04-01T00:00:00",
          "tmrca": 3.38
         },
         {
          "timepoint": "2021-07-01T00:00:00",
          "tmrca": 2.55
         },
         {
          "timepoint": "2021-09-30T00:00:00",
          "tmrca": 2.6449999999999996
         },
         {
          "timepoint": "2022-01-01T00:00:00",
          "tmrca": 2.6899999999999995
         },
         {
          "timepoint": "2022-04-01T00:00:00",
          "tmrca": 2.7349999999999994
         },
         {
          "timepoint": "2022-07-01T00:00:00",
          "tmrca": 2.3074999999999997
         },
         {
          "timepoint": "2022-09-30T00:00:00",
          "tmrca": 1.88
         },
         {
          "timepoint": "2023-01-01T00:00:00",
          "tmrca": 1.6575
         },
         {
          "timepoint": "2023-04-01T00:00:00",
          "tmrca": 1.4349999999999998
         },
         {
          "timepoint": "2023-07-01T00:00:00",
          "tmrca": 1.6849999999999996
         },
         {
          "timepoint": "2023-09-30T00:00:00",
          "tmrca": 1.8899999999999992
         },
         {
          "timepoint": "2024-01-01T00:00:00",
          "tmrca": 2.0949999999999993
         },
         {
          "timepoint": "2024-03-31T00:00:00",
          "tmrca": 2.2999999999999994
         },
         {
          "timepoint": "2024-06-30T00:00:00",
          "tmrca": 2.5049999999999994
         },
         {
          "timepoint": "2024-09-29T00:00:00",
          "tmrca": 2.755
         },
         {
          "timepoint": "2025-01-01T00:00:00",
          "tmrca": 3.005
         },
         {
          "timepoint": "2025-04-01T00:00:00",
          "tmrca": 3.2474999999999996
         },
         {
          "timepoint": "2025-07-01T00:00:00",
          "tmrca": 3.49
         },
         {
          "timepoint": "2025-09-30T00:00:00",
          "tmrca": 3.732500000000001
         },
         {
          "timepoint": "2026-01-01T00:00:00",
          "tmrca": 3.9750000000000005
         },
         {
          "timepoint": "2026-04-01T00:00:00",
          "tmrca": 4.225
         },
         {
          "timepoint": "2026-07-01T00:00:00",
          "tmrca": 4.475
         },
         {
          "timepoint": "2026-09-30T00:00:00",
          "tmrca": 4.725
         },
         {
          "timepoint": "2027-01-01T00:00:00",
          "tmrca": 4.975
         },
         {
          "timepoint": "2027-04-01T00:00:00",
          "tmrca": 5.225
         },
         {
          "timepoint": "2027-07-01T00:00:00",
          "tmrca": 5.475
         },
         {
          "timepoint": "2027-09-30T00:00:00",
          "tmrca": 5.725
         },
         {
          "timepoint": "2028-01-01T00:00:00",
          "tmrca": 5.975
         },
         {
          "timepoint": "2028-03-31T00:00:00",
          "tmrca": 5.192499999999999
         },
         {
          "timepoint": "2028-06-30T00:00:00",
          "tmrca": 4.409999999999998
         },
         {
          "timepoint": "2028-09-29T00:00:00",
          "tmrca": 3.627499999999998
         },
         {
          "timepoint": "2029-01-01T00:00:00",
          "tmrca": 2.8449999999999984
         },
         {
          "timepoint": "2029-04-01T00:00:00",
          "tmrca": 3.0949999999999984
         },
         {
          "timepoint": "2029-07-01T00:00:00",
          "tmrca": 2.9649999999999985
         },
         {
          "timepoint": "2029-09-30T00:00:00",
          "tmrca": 2.8349999999999986
         },
         {
          "timepoint": "2030-01-01T00:00:00",
          "tmrca": 2.7049999999999987
         },
         {
          "timepoint": "2030-04-01T00:00:00",
          "tmrca": 2.574999999999999
         },
         {
          "timepoint": "2030-07-01T00:00:00",
          "tmrca": 2.8249999999999993
         },
         {
          "timepoint": "2030-09-30T00:00:00",
          "tmrca": 3.0749999999999993
         },
         {
          "timepoint": "2031-01-01T00:00:00",
          "tmrca": 3.3249999999999993
         },
         {
          "timepoint": "2031-04-01T00:00:00",
          "tmrca": 3.5749999999999993
         },
         {
          "timepoint": "2031-07-01T00:00:00",
          "tmrca": 3.425
         },
         {
          "timepoint": "2031-09-30T00:00:00",
          "tmrca": 3.2750000000000004
         },
         {
          "timepoint": "2032-01-01T00:00:00",
          "tmrca": 3.0425000000000004
         },
         {
          "timepoint": "2032-03-31T00:00:00",
          "tmrca": 2.8100000000000005
         },
         {
          "timepoint": "2032-06-30T00:00:00",
          "tmrca": 2.9775000000000005
         },
         {
          "timepoint": "2032-09-29T00:00:00",
          "tmrca": 3.1450000000000005
         },
         {
          "timepoint": "2033-01-01T00:00:00",
          "tmrca": 3.3950000000000005
         },
         {
          "timepoint": "2033-04-01T00:00:00",
          "tmrca": 3.6450000000000005
         },
         {
          "timepoint": "2033-07-01T00:00:00",
          "tmrca": 3.6550000000000002
         },
         {
          "timepoint": "2033-09-30T00:00:00",
          "tmrca": 3.5925000000000002
         },
         {
          "timepoint": "2034-01-01T00:00:00",
          "tmrca": 3.8425000000000002
         },
         {
          "timepoint": "2034-04-01T00:00:00",
          "tmrca": 4.0925
         },
         {
          "timepoint": "2034-07-01T00:00:00",
          "tmrca": 4.5825000000000005
         },
         {
          "timepoint": "2034-09-30T00:00:00",
          "tmrca": 5.1450000000000005
         },
         {
          "timepoint": "2035-01-01T00:00:00",
          "tmrca": 5.0825000000000005
         },
         {
          "timepoint": "2035-04-01T00:00:00",
          "tmrca": 5.0200000000000005
         },
         {
          "timepoint": "2035-07-01T00:00:00",
          "tmrca": 4.7075000000000005
         },
         {
          "timepoint": "2035-09-30T00:00:00",
          "tmrca": 4.3950000000000005
         },
         {
          "timepoint": "2036-01-01T00:00:00",
          "tmrca": 3.4350000000000005
         },
         {
          "timepoint": "2036-03-31T00:00:00",
          "tmrca": 2.4750000000000005
         },
         {
          "timepoint": "2036-06-30T00:00:00",
          "tmrca": 1.7650000000000006
         },
         {
          "timepoint": "2036-09-29T00:00:00",
          "tmrca": 1.0550000000000006
         },
         {
          "timepoint": "2037-01-01T00:00:00",
          "tmrca": 1.3050000000000006
         },
         {
          "timepoint": "2037-04-01T00:00:00",
          "tmrca": 1.5550000000000006
         },
         {
          "timepoint": "2037-07-01T00:00:00",
          "tmrca": 1.8050000000000006
         },
         {
          "timepoint": "2037-09-30T00:00:00",
          "tmrca": 2.0550000000000006
         },
         {
          "timepoint": "2038-01-01T00:00:00",
          "tmrca": 2.3050000000000006
         },
         {
          "timepoint": "2038-04-01T00:00:00",
          "tmrca": 2.5550000000000006
         },
         {
          "timepoint": "2038-07-01T00:00:00",
          "tmrca": 2.7025000000000006
         },
         {
          "timepoint": "2038-09-30T00:00:00",
          "tmrca": 2.8500000000000005
         },
         {
          "timepoint": "2039-01-01T00:00:00",
          "tmrca": 2.9975000000000005
         },
         {
          "timepoint": "2039-04-01T00:00:00",
          "tmrca": 3.1450000000000005
         },
         {
          "timepoint": "2039-07-01T00:00:00",
          "tmrca": 3.3950000000000005
         },
         {
          "timepoint": "2039-09-30T00:00:00",
          "tmrca": 3.420000000000001
         },
         {
          "timepoint": "2040-01-01T00:00:00",
          "tmrca": 3.445000000000001
         }
        ]
       },
       "encoding": {
        "x": {
         "field": "timepoint",
         "type": "temporal"
        },
        "y": {
         "field": "tmrca",
         "type": "quantitative"
        }
       },
       "height": 400,
       "mark": "point",
       "width": 600
      },
      "image/png": "[encoded data removed]",
      "text/plain": [
       "<VegaLite 3 object>\n",
       "\n",
       "If you see this message, it means the renderer has not been properly enabled\n",
       "for the frontend that you are using. For more information, see\n",
       "https://altair-viz.github.io/user_guide/troubleshooting.html\n"
      ]
     },
     "execution_count": 17,
     "metadata": {},
     "output_type": "execute_result"
    }
   ],
   "source": [
    "alt.Chart(rolling_df).mark_point().encode(\n",
    "    x=\"timepoint:T\",\n",
    "    y=\"tmrca:Q\"\n",
    ").properties(\n",
    "    height=400,\n",
    "    width=600\n",
    ")"
   ]
  },
  {
   "cell_type": "code",
   "execution_count": null,
   "metadata": {},
   "outputs": [],
   "source": []
  }
 ],
 "metadata": {
  "kernelspec": {
   "display_name": "Python 3",
   "language": "python",
   "name": "python3"
  },
  "language_info": {
   "codemirror_mode": {
    "name": "ipython",
    "version": 3
   },
   "file_extension": ".py",
   "mimetype": "text/x-python",
   "name": "python",
   "nbconvert_exporter": "python",
   "pygments_lexer": "ipython3",
   "version": "3.6.7"
  }
 },
 "nbformat": 4,
 "nbformat_minor": 4
}
