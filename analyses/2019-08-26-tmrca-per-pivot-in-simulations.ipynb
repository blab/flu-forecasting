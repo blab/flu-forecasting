{
 "cells": [
  {
   "cell_type": "code",
   "execution_count": 13,
   "metadata": {},
   "outputs": [],
   "source": [
    "import altair as alt\n",
    "import datetime\n",
    "import pandas as pd"
   ]
  },
  {
   "cell_type": "code",
   "execution_count": 14,
   "metadata": {},
   "outputs": [],
   "source": [
    "def float_to_datestring(time):\n",
    "    \"\"\"Convert a floating point date from TreeTime `numeric_date` to a date string\n",
    "    \"\"\"\n",
    "    # Extract the year and remainder from the floating point date.\n",
    "    year = int(time)\n",
    "    remainder = time - year\n",
    "\n",
    "    # Calculate the day of the year (out of 365 + 0.25 for leap years).\n",
    "    tm_yday = int(remainder * 365.25)\n",
    "    if tm_yday == 0:\n",
    "        tm_yday = 1\n",
    "\n",
    "    # Construct a date object from the year and day of the year.\n",
    "    date = datetime.datetime.strptime(\"%s-%s\" % (year, tm_yday), \"%Y-%j\")\n",
    "\n",
    "    # Build the date string with zero-padded months and days.\n",
    "    date_string = \"%s-%.2i-%.2i\" % (date.year, date.month, date.day)\n",
    "\n",
    "    return date_string"
   ]
  },
  {
   "cell_type": "code",
   "execution_count": 10,
   "metadata": {},
   "outputs": [],
   "source": [
    "df = pd.read_csv(\"../analyses/simulations/tmrca_per_pivot.tsv\", sep=\"\\t\")"
   ]
  },
  {
   "cell_type": "code",
   "execution_count": 19,
   "metadata": {},
   "outputs": [],
   "source": [
    "df[\"timepoint\"] = pd.to_datetime(df[\"pivot\"].apply(float_to_datestring))"
   ]
  },
  {
   "cell_type": "code",
   "execution_count": 21,
   "metadata": {},
   "outputs": [
    {
     "data": {
      "text/html": [
       "<div>\n",
       "<style scoped>\n",
       "    .dataframe tbody tr th:only-of-type {\n",
       "        vertical-align: middle;\n",
       "    }\n",
       "\n",
       "    .dataframe tbody tr th {\n",
       "        vertical-align: top;\n",
       "    }\n",
       "\n",
       "    .dataframe thead th {\n",
       "        text-align: right;\n",
       "    }\n",
       "</style>\n",
       "<table border=\"1\" class=\"dataframe\">\n",
       "  <thead>\n",
       "    <tr style=\"text-align: right;\">\n",
       "      <th></th>\n",
       "      <th>pivot</th>\n",
       "      <th>tmrca</th>\n",
       "      <th>timepoint</th>\n",
       "    </tr>\n",
       "  </thead>\n",
       "  <tbody>\n",
       "    <tr>\n",
       "      <th>0</th>\n",
       "      <td>2000.00</td>\n",
       "      <td>0.09</td>\n",
       "      <td>2000-01-01</td>\n",
       "    </tr>\n",
       "    <tr>\n",
       "      <th>1</th>\n",
       "      <td>2000.25</td>\n",
       "      <td>0.34</td>\n",
       "      <td>2000-03-31</td>\n",
       "    </tr>\n",
       "    <tr>\n",
       "      <th>2</th>\n",
       "      <td>2000.50</td>\n",
       "      <td>0.59</td>\n",
       "      <td>2000-06-30</td>\n",
       "    </tr>\n",
       "    <tr>\n",
       "      <th>3</th>\n",
       "      <td>2000.75</td>\n",
       "      <td>0.84</td>\n",
       "      <td>2000-09-29</td>\n",
       "    </tr>\n",
       "    <tr>\n",
       "      <th>4</th>\n",
       "      <td>2001.00</td>\n",
       "      <td>1.11</td>\n",
       "      <td>2001-01-01</td>\n",
       "    </tr>\n",
       "  </tbody>\n",
       "</table>\n",
       "</div>"
      ],
      "text/plain": [
       "     pivot  tmrca  timepoint\n",
       "0  2000.00   0.09 2000-01-01\n",
       "1  2000.25   0.34 2000-03-31\n",
       "2  2000.50   0.59 2000-06-30\n",
       "3  2000.75   0.84 2000-09-29\n",
       "4  2001.00   1.11 2001-01-01"
      ]
     },
     "execution_count": 21,
     "metadata": {},
     "output_type": "execute_result"
    }
   ],
   "source": [
    "df.head()"
   ]
  },
  {
   "cell_type": "code",
   "execution_count": 39,
   "metadata": {},
   "outputs": [],
   "source": [
    "rolling_df = df.set_index([\"timepoint\"]).rolling(20)[\"tmrca\"].mean().dropna().reset_index()"
   ]
  },
  {
   "cell_type": "code",
   "execution_count": 40,
   "metadata": {},
   "outputs": [
    {
     "data": {
      "text/html": [
       "<div>\n",
       "<style scoped>\n",
       "    .dataframe tbody tr th:only-of-type {\n",
       "        vertical-align: middle;\n",
       "    }\n",
       "\n",
       "    .dataframe tbody tr th {\n",
       "        vertical-align: top;\n",
       "    }\n",
       "\n",
       "    .dataframe thead th {\n",
       "        text-align: right;\n",
       "    }\n",
       "</style>\n",
       "<table border=\"1\" class=\"dataframe\">\n",
       "  <thead>\n",
       "    <tr style=\"text-align: right;\">\n",
       "      <th></th>\n",
       "      <th>timepoint</th>\n",
       "      <th>tmrca</th>\n",
       "    </tr>\n",
       "  </thead>\n",
       "  <tbody>\n",
       "    <tr>\n",
       "      <th>0</th>\n",
       "      <td>2004-09-29</td>\n",
       "      <td>2.487</td>\n",
       "    </tr>\n",
       "    <tr>\n",
       "      <th>1</th>\n",
       "      <td>2005-01-01</td>\n",
       "      <td>2.739</td>\n",
       "    </tr>\n",
       "    <tr>\n",
       "      <th>2</th>\n",
       "      <td>2005-04-01</td>\n",
       "      <td>2.991</td>\n",
       "    </tr>\n",
       "    <tr>\n",
       "      <th>3</th>\n",
       "      <td>2005-07-01</td>\n",
       "      <td>3.242</td>\n",
       "    </tr>\n",
       "    <tr>\n",
       "      <th>4</th>\n",
       "      <td>2005-09-30</td>\n",
       "      <td>3.493</td>\n",
       "    </tr>\n",
       "  </tbody>\n",
       "</table>\n",
       "</div>"
      ],
      "text/plain": [
       "   timepoint  tmrca\n",
       "0 2004-09-29  2.487\n",
       "1 2005-01-01  2.739\n",
       "2 2005-04-01  2.991\n",
       "3 2005-07-01  3.242\n",
       "4 2005-09-30  3.493"
      ]
     },
     "execution_count": 40,
     "metadata": {},
     "output_type": "execute_result"
    }
   ],
   "source": [
    "rolling_df.head()"
   ]
  },
  {
   "cell_type": "code",
   "execution_count": 23,
   "metadata": {},
   "outputs": [
    {
     "data": {
      "application/vnd.vegalite.v3+json": {
       "$schema": "https://vega.github.io/schema/vega-lite/v3.3.0.json",
       "config": {
        "mark": {
         "tooltip": null
        },
        "view": {
         "height": 300,
         "width": 400
        }
       },
       "data": {
        "name": "data-9ceceb7d8e4a741a3a2a4574343997f0"
       },
       "datasets": {
        "data-9ceceb7d8e4a741a3a2a4574343997f0": [
         {
          "pivot": 2000,
          "timepoint": "2000-01-01T00:00:00",
          "tmrca": 0.09
         },
         {
          "pivot": 2000.25,
          "timepoint": "2000-03-31T00:00:00",
          "tmrca": 0.34
         },
         {
          "pivot": 2000.5,
          "timepoint": "2000-06-30T00:00:00",
          "tmrca": 0.59
         },
         {
          "pivot": 2000.75,
          "timepoint": "2000-09-29T00:00:00",
          "tmrca": 0.84
         },
         {
          "pivot": 2001,
          "timepoint": "2001-01-01T00:00:00",
          "tmrca": 1.11
         },
         {
          "pivot": 2001.25,
          "timepoint": "2001-04-01T00:00:00",
          "tmrca": 1.36
         },
         {
          "pivot": 2001.5,
          "timepoint": "2001-07-01T00:00:00",
          "tmrca": 1.63
         },
         {
          "pivot": 2001.75,
          "timepoint": "2001-09-30T00:00:00",
          "tmrca": 1.88
         },
         {
          "pivot": 2002,
          "timepoint": "2002-01-01T00:00:00",
          "tmrca": 2.13
         },
         {
          "pivot": 2002.25,
          "timepoint": "2002-04-01T00:00:00",
          "tmrca": 2.38
         },
         {
          "pivot": 2002.5,
          "timepoint": "2002-07-01T00:00:00",
          "tmrca": 2.61
         },
         {
          "pivot": 2002.75,
          "timepoint": "2002-09-30T00:00:00",
          "tmrca": 2.86
         },
         {
          "pivot": 2003,
          "timepoint": "2003-01-01T00:00:00",
          "tmrca": 3.11
         },
         {
          "pivot": 2003.25,
          "timepoint": "2003-04-01T00:00:00",
          "tmrca": 3.36
         },
         {
          "pivot": 2003.5,
          "timepoint": "2003-07-01T00:00:00",
          "tmrca": 3.61
         },
         {
          "pivot": 2003.75,
          "timepoint": "2003-09-30T00:00:00",
          "tmrca": 3.86
         },
         {
          "pivot": 2004,
          "timepoint": "2004-01-01T00:00:00",
          "tmrca": 4.11
         },
         {
          "pivot": 2004.25,
          "timepoint": "2004-03-31T00:00:00",
          "tmrca": 4.36
         },
         {
          "pivot": 2004.5,
          "timepoint": "2004-06-30T00:00:00",
          "tmrca": 4.63
         },
         {
          "pivot": 2004.75,
          "timepoint": "2004-09-29T00:00:00",
          "tmrca": 4.88
         },
         {
          "pivot": 2005,
          "timepoint": "2005-01-01T00:00:00",
          "tmrca": 5.13
         },
         {
          "pivot": 2005.25,
          "timepoint": "2005-04-01T00:00:00",
          "tmrca": 5.38
         },
         {
          "pivot": 2005.5,
          "timepoint": "2005-07-01T00:00:00",
          "tmrca": 5.61
         },
         {
          "pivot": 2005.75,
          "timepoint": "2005-09-30T00:00:00",
          "tmrca": 5.86
         },
         {
          "pivot": 2006,
          "timepoint": "2006-01-01T00:00:00",
          "tmrca": 6.11
         },
         {
          "pivot": 2006.25,
          "timepoint": "2006-04-01T00:00:00",
          "tmrca": 6.36
         },
         {
          "pivot": 2006.5,
          "timepoint": "2006-07-01T00:00:00",
          "tmrca": 6.61
         },
         {
          "pivot": 2006.75,
          "timepoint": "2006-09-30T00:00:00",
          "tmrca": 6.86
         },
         {
          "pivot": 2007,
          "timepoint": "2007-01-01T00:00:00",
          "tmrca": 7.09
         },
         {
          "pivot": 2007.25,
          "timepoint": "2007-04-01T00:00:00",
          "tmrca": 7.34
         },
         {
          "pivot": 2007.5,
          "timepoint": "2007-07-01T00:00:00",
          "tmrca": 7.59
         },
         {
          "pivot": 2007.75,
          "timepoint": "2007-09-30T00:00:00",
          "tmrca": 7.84
         },
         {
          "pivot": 2008,
          "timepoint": "2008-01-01T00:00:00",
          "tmrca": 4.31
         },
         {
          "pivot": 2008.25,
          "timepoint": "2008-03-31T00:00:00",
          "tmrca": 4.56
         },
         {
          "pivot": 2008.5,
          "timepoint": "2008-06-30T00:00:00",
          "tmrca": 4.81
         },
         {
          "pivot": 2008.75,
          "timepoint": "2008-09-29T00:00:00",
          "tmrca": 5.06
         },
         {
          "pivot": 2009,
          "timepoint": "2009-01-01T00:00:00",
          "tmrca": 5.31
         },
         {
          "pivot": 2009.25,
          "timepoint": "2009-04-01T00:00:00",
          "tmrca": 5.56
         },
         {
          "pivot": 2009.5,
          "timepoint": "2009-07-01T00:00:00",
          "tmrca": 5.81
         },
         {
          "pivot": 2009.75,
          "timepoint": "2009-09-30T00:00:00",
          "tmrca": 6.06
         },
         {
          "pivot": 2010,
          "timepoint": "2010-01-01T00:00:00",
          "tmrca": 6.31
         },
         {
          "pivot": 2010.25,
          "timepoint": "2010-04-01T00:00:00",
          "tmrca": 6.56
         },
         {
          "pivot": 2010.5,
          "timepoint": "2010-07-01T00:00:00",
          "tmrca": 6.81
         },
         {
          "pivot": 2010.75,
          "timepoint": "2010-09-30T00:00:00",
          "tmrca": 7.06
         },
         {
          "pivot": 2011,
          "timepoint": "2011-01-01T00:00:00",
          "tmrca": 7.31
         },
         {
          "pivot": 2011.25,
          "timepoint": "2011-04-01T00:00:00",
          "tmrca": 7.56
         },
         {
          "pivot": 2011.5,
          "timepoint": "2011-07-01T00:00:00",
          "tmrca": 7.81
         },
         {
          "pivot": 2011.75,
          "timepoint": "2011-09-30T00:00:00",
          "tmrca": 4.48
         },
         {
          "pivot": 2012,
          "timepoint": "2012-01-01T00:00:00",
          "tmrca": 4.73
         },
         {
          "pivot": 2012.25,
          "timepoint": "2012-03-31T00:00:00",
          "tmrca": 3.24
         },
         {
          "pivot": 2012.5,
          "timepoint": "2012-06-30T00:00:00",
          "tmrca": 3.49
         },
         {
          "pivot": 2012.75,
          "timepoint": "2012-09-29T00:00:00",
          "tmrca": 3.74
         },
         {
          "pivot": 2013,
          "timepoint": "2013-01-01T00:00:00",
          "tmrca": 3.99
         },
         {
          "pivot": 2013.25,
          "timepoint": "2013-04-01T00:00:00",
          "tmrca": 4.01
         },
         {
          "pivot": 2013.5,
          "timepoint": "2013-07-01T00:00:00",
          "tmrca": 4.26
         },
         {
          "pivot": 2013.75,
          "timepoint": "2013-09-30T00:00:00",
          "tmrca": 4.51
         },
         {
          "pivot": 2014,
          "timepoint": "2014-01-01T00:00:00",
          "tmrca": 4.76
         },
         {
          "pivot": 2014.25,
          "timepoint": "2014-04-01T00:00:00",
          "tmrca": 3.75
         },
         {
          "pivot": 2014.5,
          "timepoint": "2014-07-01T00:00:00",
          "tmrca": 4
         },
         {
          "pivot": 2014.75,
          "timepoint": "2014-09-30T00:00:00",
          "tmrca": 3.59
         },
         {
          "pivot": 2015,
          "timepoint": "2015-01-01T00:00:00",
          "tmrca": 3.84
         },
         {
          "pivot": 2015.25,
          "timepoint": "2015-04-01T00:00:00",
          "tmrca": 4.09
         },
         {
          "pivot": 2015.5,
          "timepoint": "2015-07-01T00:00:00",
          "tmrca": 4.34
         },
         {
          "pivot": 2015.75,
          "timepoint": "2015-09-30T00:00:00",
          "tmrca": 4.59
         },
         {
          "pivot": 2016,
          "timepoint": "2016-01-01T00:00:00",
          "tmrca": 4.84
         },
         {
          "pivot": 2016.25,
          "timepoint": "2016-03-31T00:00:00",
          "tmrca": 5.09
         },
         {
          "pivot": 2016.5,
          "timepoint": "2016-06-30T00:00:00",
          "tmrca": 5.34
         },
         {
          "pivot": 2016.75,
          "timepoint": "2016-09-29T00:00:00",
          "tmrca": 5.59
         },
         {
          "pivot": 2017,
          "timepoint": "2017-01-01T00:00:00",
          "tmrca": 5.84
         },
         {
          "pivot": 2017.25,
          "timepoint": "2017-04-01T00:00:00",
          "tmrca": 6.09
         },
         {
          "pivot": 2017.5,
          "timepoint": "2017-07-01T00:00:00",
          "tmrca": 6.34
         },
         {
          "pivot": 2017.75,
          "timepoint": "2017-09-30T00:00:00",
          "tmrca": 6.59
         },
         {
          "pivot": 2018,
          "timepoint": "2018-01-01T00:00:00",
          "tmrca": 6.84
         },
         {
          "pivot": 2018.25,
          "timepoint": "2018-04-01T00:00:00",
          "tmrca": 7.09
         },
         {
          "pivot": 2018.5,
          "timepoint": "2018-07-01T00:00:00",
          "tmrca": 7.34
         },
         {
          "pivot": 2018.75,
          "timepoint": "2018-09-30T00:00:00",
          "tmrca": 7.59
         },
         {
          "pivot": 2019,
          "timepoint": "2019-01-01T00:00:00",
          "tmrca": 7.84
         },
         {
          "pivot": 2019.25,
          "timepoint": "2019-04-01T00:00:00",
          "tmrca": 8.09
         },
         {
          "pivot": 2019.5,
          "timepoint": "2019-07-01T00:00:00",
          "tmrca": 8.34
         },
         {
          "pivot": 2019.75,
          "timepoint": "2019-09-30T00:00:00",
          "tmrca": 8.59
         },
         {
          "pivot": 2020,
          "timepoint": "2020-01-01T00:00:00",
          "tmrca": 8.84
         },
         {
          "pivot": 2020.25,
          "timepoint": "2020-03-31T00:00:00",
          "tmrca": 9.09
         },
         {
          "pivot": 2020.5,
          "timepoint": "2020-06-30T00:00:00",
          "tmrca": 9.34
         },
         {
          "pivot": 2020.75,
          "timepoint": "2020-09-29T00:00:00",
          "tmrca": 9.59
         },
         {
          "pivot": 2021,
          "timepoint": "2021-01-01T00:00:00",
          "tmrca": 9.84
         },
         {
          "pivot": 2021.25,
          "timepoint": "2021-04-01T00:00:00",
          "tmrca": 10.09
         },
         {
          "pivot": 2021.5,
          "timepoint": "2021-07-01T00:00:00",
          "tmrca": 10.34
         },
         {
          "pivot": 2021.75,
          "timepoint": "2021-09-30T00:00:00",
          "tmrca": 6.85
         },
         {
          "pivot": 2022,
          "timepoint": "2022-01-01T00:00:00",
          "tmrca": 7.1
         },
         {
          "pivot": 2022.25,
          "timepoint": "2022-04-01T00:00:00",
          "tmrca": 11.09
         },
         {
          "pivot": 2022.5,
          "timepoint": "2022-07-01T00:00:00",
          "tmrca": 11.34
         },
         {
          "pivot": 2022.75,
          "timepoint": "2022-09-30T00:00:00",
          "tmrca": 11.59
         },
         {
          "pivot": 2023,
          "timepoint": "2023-01-01T00:00:00",
          "tmrca": 11.84
         },
         {
          "pivot": 2023.25,
          "timepoint": "2023-04-01T00:00:00",
          "tmrca": 8.35
         },
         {
          "pivot": 2023.5,
          "timepoint": "2023-07-01T00:00:00",
          "tmrca": 8.6
         },
         {
          "pivot": 2023.75,
          "timepoint": "2023-09-30T00:00:00",
          "tmrca": 8.85
         },
         {
          "pivot": 2024,
          "timepoint": "2024-01-01T00:00:00",
          "tmrca": 9.1
         },
         {
          "pivot": 2024.25,
          "timepoint": "2024-03-31T00:00:00",
          "tmrca": 9.35
         },
         {
          "pivot": 2024.5,
          "timepoint": "2024-06-30T00:00:00",
          "tmrca": 9.6
         },
         {
          "pivot": 2024.75,
          "timepoint": "2024-09-29T00:00:00",
          "tmrca": 9.85
         },
         {
          "pivot": 2025,
          "timepoint": "2025-01-01T00:00:00",
          "tmrca": 10.1
         },
         {
          "pivot": 2025.25,
          "timepoint": "2025-04-01T00:00:00",
          "tmrca": 10.35
         },
         {
          "pivot": 2025.5,
          "timepoint": "2025-07-01T00:00:00",
          "tmrca": 10.6
         },
         {
          "pivot": 2025.75,
          "timepoint": "2025-09-30T00:00:00",
          "tmrca": 10.85
         },
         {
          "pivot": 2026,
          "timepoint": "2026-01-01T00:00:00",
          "tmrca": 11.1
         },
         {
          "pivot": 2026.25,
          "timepoint": "2026-04-01T00:00:00",
          "tmrca": 11.35
         },
         {
          "pivot": 2026.5,
          "timepoint": "2026-07-01T00:00:00",
          "tmrca": 11.6
         },
         {
          "pivot": 2026.75,
          "timepoint": "2026-09-30T00:00:00",
          "tmrca": 11.85
         },
         {
          "pivot": 2027,
          "timepoint": "2027-01-01T00:00:00",
          "tmrca": 12.1
         },
         {
          "pivot": 2027.25,
          "timepoint": "2027-04-01T00:00:00",
          "tmrca": 3.69
         },
         {
          "pivot": 2027.5,
          "timepoint": "2027-07-01T00:00:00",
          "tmrca": 3.35
         },
         {
          "pivot": 2027.75,
          "timepoint": "2027-09-30T00:00:00",
          "tmrca": 3.6
         },
         {
          "pivot": 2028,
          "timepoint": "2028-01-01T00:00:00",
          "tmrca": 3.85
         },
         {
          "pivot": 2028.25,
          "timepoint": "2028-03-31T00:00:00",
          "tmrca": 4.1
         },
         {
          "pivot": 2028.5,
          "timepoint": "2028-06-30T00:00:00",
          "tmrca": 4.35
         },
         {
          "pivot": 2028.75,
          "timepoint": "2028-09-29T00:00:00",
          "tmrca": 2.45
         },
         {
          "pivot": 2029,
          "timepoint": "2029-01-01T00:00:00",
          "tmrca": 2.7
         },
         {
          "pivot": 2029.25,
          "timepoint": "2029-04-01T00:00:00",
          "tmrca": 2.95
         },
         {
          "pivot": 2029.5,
          "timepoint": "2029-07-01T00:00:00",
          "tmrca": 3.2
         },
         {
          "pivot": 2029.75,
          "timepoint": "2029-09-30T00:00:00",
          "tmrca": 3.45
         },
         {
          "pivot": 2030,
          "timepoint": "2030-01-01T00:00:00",
          "tmrca": 3.7
         },
         {
          "pivot": 2030.25,
          "timepoint": "2030-04-01T00:00:00",
          "tmrca": 3.95
         },
         {
          "pivot": 2030.5,
          "timepoint": "2030-07-01T00:00:00",
          "tmrca": 4.12
         },
         {
          "pivot": 2030.75,
          "timepoint": "2030-09-30T00:00:00",
          "tmrca": 4.37
         },
         {
          "pivot": 2031,
          "timepoint": "2031-01-01T00:00:00",
          "tmrca": 4.62
         },
         {
          "pivot": 2031.25,
          "timepoint": "2031-04-01T00:00:00",
          "tmrca": 4.05
         },
         {
          "pivot": 2031.5,
          "timepoint": "2031-07-01T00:00:00",
          "tmrca": 4.3
         },
         {
          "pivot": 2031.75,
          "timepoint": "2031-09-30T00:00:00",
          "tmrca": 4.36
         },
         {
          "pivot": 2032,
          "timepoint": "2032-01-01T00:00:00",
          "tmrca": 4.61
         },
         {
          "pivot": 2032.25,
          "timepoint": "2032-03-31T00:00:00",
          "tmrca": 4.86
         },
         {
          "pivot": 2032.5,
          "timepoint": "2032-06-30T00:00:00",
          "tmrca": 5.11
         },
         {
          "pivot": 2032.75,
          "timepoint": "2032-09-29T00:00:00",
          "tmrca": 5.36
         },
         {
          "pivot": 2033,
          "timepoint": "2033-01-01T00:00:00",
          "tmrca": 5.8
         },
         {
          "pivot": 2033.25,
          "timepoint": "2033-04-01T00:00:00",
          "tmrca": 6.05
         },
         {
          "pivot": 2033.5,
          "timepoint": "2033-07-01T00:00:00",
          "tmrca": 6.3
         },
         {
          "pivot": 2033.75,
          "timepoint": "2033-09-30T00:00:00",
          "tmrca": 6.55
         },
         {
          "pivot": 2034,
          "timepoint": "2034-01-01T00:00:00",
          "tmrca": 6.61
         },
         {
          "pivot": 2034.25,
          "timepoint": "2034-04-01T00:00:00",
          "tmrca": 6.86
         },
         {
          "pivot": 2034.5,
          "timepoint": "2034-07-01T00:00:00",
          "tmrca": 7.11
         },
         {
          "pivot": 2034.75,
          "timepoint": "2034-09-30T00:00:00",
          "tmrca": 7.36
         },
         {
          "pivot": 2035,
          "timepoint": "2035-01-01T00:00:00",
          "tmrca": 7.61
         },
         {
          "pivot": 2035.25,
          "timepoint": "2035-04-01T00:00:00",
          "tmrca": 7.86
         },
         {
          "pivot": 2035.5,
          "timepoint": "2035-07-01T00:00:00",
          "tmrca": 8.11
         },
         {
          "pivot": 2035.75,
          "timepoint": "2035-09-30T00:00:00",
          "tmrca": 8.36
         },
         {
          "pivot": 2036,
          "timepoint": "2036-01-01T00:00:00",
          "tmrca": 8.61
         },
         {
          "pivot": 2036.25,
          "timepoint": "2036-03-31T00:00:00",
          "tmrca": 8.86
         },
         {
          "pivot": 2036.5,
          "timepoint": "2036-06-30T00:00:00",
          "tmrca": 9.11
         },
         {
          "pivot": 2036.75,
          "timepoint": "2036-09-29T00:00:00",
          "tmrca": 9.36
         },
         {
          "pivot": 2037,
          "timepoint": "2037-01-01T00:00:00",
          "tmrca": 9.61
         },
         {
          "pivot": 2037.25,
          "timepoint": "2037-04-01T00:00:00",
          "tmrca": 9.86
         },
         {
          "pivot": 2037.5,
          "timepoint": "2037-07-01T00:00:00",
          "tmrca": 10.11
         },
         {
          "pivot": 2037.75,
          "timepoint": "2037-09-30T00:00:00",
          "tmrca": 10.36
         },
         {
          "pivot": 2038,
          "timepoint": "2038-01-01T00:00:00",
          "tmrca": 10.61
         },
         {
          "pivot": 2038.25,
          "timepoint": "2038-04-01T00:00:00",
          "tmrca": 10.86
         },
         {
          "pivot": 2038.5,
          "timepoint": "2038-07-01T00:00:00",
          "tmrca": 11.11
         },
         {
          "pivot": 2038.75,
          "timepoint": "2038-09-30T00:00:00",
          "tmrca": 11.36
         },
         {
          "pivot": 2039,
          "timepoint": "2039-01-01T00:00:00",
          "tmrca": 11.61
         },
         {
          "pivot": 2039.25,
          "timepoint": "2039-04-01T00:00:00",
          "tmrca": 11.86
         },
         {
          "pivot": 2039.5,
          "timepoint": "2039-07-01T00:00:00",
          "tmrca": 12.11
         },
         {
          "pivot": 2039.75,
          "timepoint": "2039-09-30T00:00:00",
          "tmrca": 12.36
         },
         {
          "pivot": 2040,
          "timepoint": "2040-01-01T00:00:00",
          "tmrca": 12.61
         }
        ]
       },
       "encoding": {
        "x": {
         "field": "timepoint",
         "type": "temporal"
        },
        "y": {
         "field": "tmrca",
         "type": "quantitative"
        }
       },
       "mark": "point"
      },
      "image/png": "[encoded data removed]",
      "text/plain": [
       "<VegaLite 3 object>\n",
       "\n",
       "If you see this message, it means the renderer has not been properly enabled\n",
       "for the frontend that you are using. For more information, see\n",
       "https://altair-viz.github.io/user_guide/troubleshooting.html\n"
      ]
     },
     "execution_count": 23,
     "metadata": {},
     "output_type": "execute_result"
    }
   ],
   "source": [
    "alt.Chart(df).mark_point().encode(\n",
    "    x=\"timepoint:T\",\n",
    "    y=\"tmrca:Q\"\n",
    ")"
   ]
  },
  {
   "cell_type": "code",
   "execution_count": 42,
   "metadata": {},
   "outputs": [
    {
     "data": {
      "application/vnd.vegalite.v3+json": {
       "$schema": "https://vega.github.io/schema/vega-lite/v3.3.0.json",
       "config": {
        "mark": {
         "tooltip": null
        },
        "view": {
         "height": 300,
         "width": 400
        }
       },
       "data": {
        "name": "data-6a6bba537d91e5733a60af1d87c29378"
       },
       "datasets": {
        "data-6a6bba537d91e5733a60af1d87c29378": [
         {
          "timepoint": "2004-09-29T00:00:00",
          "tmrca": 2.487
         },
         {
          "timepoint": "2005-01-01T00:00:00",
          "tmrca": 2.739
         },
         {
          "timepoint": "2005-04-01T00:00:00",
          "tmrca": 2.991
         },
         {
          "timepoint": "2005-07-01T00:00:00",
          "tmrca": 3.242
         },
         {
          "timepoint": "2005-09-30T00:00:00",
          "tmrca": 3.493
         },
         {
          "timepoint": "2006-01-01T00:00:00",
          "tmrca": 3.743
         },
         {
          "timepoint": "2006-04-01T00:00:00",
          "tmrca": 3.993
         },
         {
          "timepoint": "2006-07-01T00:00:00",
          "tmrca": 4.242
         },
         {
          "timepoint": "2006-09-30T00:00:00",
          "tmrca": 4.4910000000000005
         },
         {
          "timepoint": "2007-01-01T00:00:00",
          "tmrca": 4.739000000000001
         },
         {
          "timepoint": "2007-04-01T00:00:00",
          "tmrca": 4.987000000000001
         },
         {
          "timepoint": "2007-07-01T00:00:00",
          "tmrca": 5.2360000000000015
         },
         {
          "timepoint": "2007-09-30T00:00:00",
          "tmrca": 5.485000000000001
         },
         {
          "timepoint": "2008-01-01T00:00:00",
          "tmrca": 5.545000000000002
         },
         {
          "timepoint": "2008-03-31T00:00:00",
          "tmrca": 5.605000000000002
         },
         {
          "timepoint": "2008-06-30T00:00:00",
          "tmrca": 5.665000000000002
         },
         {
          "timepoint": "2008-09-29T00:00:00",
          "tmrca": 5.725000000000002
         },
         {
          "timepoint": "2009-01-01T00:00:00",
          "tmrca": 5.785000000000002
         },
         {
          "timepoint": "2009-04-01T00:00:00",
          "tmrca": 5.845000000000002
         },
         {
          "timepoint": "2009-07-01T00:00:00",
          "tmrca": 5.904000000000003
         },
         {
          "timepoint": "2009-09-30T00:00:00",
          "tmrca": 5.963000000000003
         },
         {
          "timepoint": "2010-01-01T00:00:00",
          "tmrca": 6.022000000000004
         },
         {
          "timepoint": "2010-04-01T00:00:00",
          "tmrca": 6.081000000000004
         },
         {
          "timepoint": "2010-07-01T00:00:00",
          "tmrca": 6.141000000000004
         },
         {
          "timepoint": "2010-09-30T00:00:00",
          "tmrca": 6.201000000000002
         },
         {
          "timepoint": "2011-01-01T00:00:00",
          "tmrca": 6.261000000000002
         },
         {
          "timepoint": "2011-04-01T00:00:00",
          "tmrca": 6.3210000000000015
         },
         {
          "timepoint": "2011-07-01T00:00:00",
          "tmrca": 6.381000000000001
         },
         {
          "timepoint": "2011-09-30T00:00:00",
          "tmrca": 6.262000000000001
         },
         {
          "timepoint": "2012-01-01T00:00:00",
          "tmrca": 6.144000000000001
         },
         {
          "timepoint": "2012-03-31T00:00:00",
          "tmrca": 5.939000000000001
         },
         {
          "timepoint": "2012-06-30T00:00:00",
          "tmrca": 5.734
         },
         {
          "timepoint": "2012-09-29T00:00:00",
          "tmrca": 5.529
         },
         {
          "timepoint": "2013-01-01T00:00:00",
          "tmrca": 5.513
         },
         {
          "timepoint": "2013-04-01T00:00:00",
          "tmrca": 5.4855
         },
         {
          "timepoint": "2013-07-01T00:00:00",
          "tmrca": 5.458
         },
         {
          "timepoint": "2013-09-30T00:00:00",
          "tmrca": 5.4305
         },
         {
          "timepoint": "2014-01-01T00:00:00",
          "tmrca": 5.4030000000000005
         },
         {
          "timepoint": "2014-04-01T00:00:00",
          "tmrca": 5.3125
         },
         {
          "timepoint": "2014-07-01T00:00:00",
          "tmrca": 5.2219999999999995
         },
         {
          "timepoint": "2014-09-30T00:00:00",
          "tmrca": 5.0985
         },
         {
          "timepoint": "2015-01-01T00:00:00",
          "tmrca": 4.975
         },
         {
          "timepoint": "2015-04-01T00:00:00",
          "tmrca": 4.8515
         },
         {
          "timepoint": "2015-07-01T00:00:00",
          "tmrca": 4.728
         },
         {
          "timepoint": "2015-09-30T00:00:00",
          "tmrca": 4.6045
         },
         {
          "timepoint": "2016-01-01T00:00:00",
          "tmrca": 4.481
         },
         {
          "timepoint": "2016-03-31T00:00:00",
          "tmrca": 4.3575
         },
         {
          "timepoint": "2016-06-30T00:00:00",
          "tmrca": 4.234
         },
         {
          "timepoint": "2016-09-29T00:00:00",
          "tmrca": 4.2895
         },
         {
          "timepoint": "2017-01-01T00:00:00",
          "tmrca": 4.345000000000001
         },
         {
          "timepoint": "2017-04-01T00:00:00",
          "tmrca": 4.487500000000001
         },
         {
          "timepoint": "2017-07-01T00:00:00",
          "tmrca": 4.630000000000001
         },
         {
          "timepoint": "2017-09-30T00:00:00",
          "tmrca": 4.772500000000002
         },
         {
          "timepoint": "2018-01-01T00:00:00",
          "tmrca": 4.915000000000002
         },
         {
          "timepoint": "2018-04-01T00:00:00",
          "tmrca": 5.069000000000002
         },
         {
          "timepoint": "2018-07-01T00:00:00",
          "tmrca": 5.223000000000002
         },
         {
          "timepoint": "2018-09-30T00:00:00",
          "tmrca": 5.377000000000002
         },
         {
          "timepoint": "2019-01-01T00:00:00",
          "tmrca": 5.5310000000000015
         },
         {
          "timepoint": "2019-04-01T00:00:00",
          "tmrca": 5.748000000000002
         },
         {
          "timepoint": "2019-07-01T00:00:00",
          "tmrca": 5.965000000000002
         },
         {
          "timepoint": "2019-09-30T00:00:00",
          "tmrca": 6.215000000000002
         },
         {
          "timepoint": "2020-01-01T00:00:00",
          "tmrca": 6.465000000000002
         },
         {
          "timepoint": "2020-03-31T00:00:00",
          "tmrca": 6.715000000000002
         },
         {
          "timepoint": "2020-06-30T00:00:00",
          "tmrca": 6.965000000000002
         },
         {
          "timepoint": "2020-09-29T00:00:00",
          "tmrca": 7.215000000000002
         },
         {
          "timepoint": "2021-01-01T00:00:00",
          "tmrca": 7.465000000000002
         },
         {
          "timepoint": "2021-04-01T00:00:00",
          "tmrca": 7.715000000000002
         },
         {
          "timepoint": "2021-07-01T00:00:00",
          "tmrca": 7.965000000000002
         },
         {
          "timepoint": "2021-09-30T00:00:00",
          "tmrca": 8.028000000000002
         },
         {
          "timepoint": "2022-01-01T00:00:00",
          "tmrca": 8.091000000000001
         },
         {
          "timepoint": "2022-04-01T00:00:00",
          "tmrca": 8.341000000000001
         },
         {
          "timepoint": "2022-07-01T00:00:00",
          "tmrca": 8.591000000000001
         },
         {
          "timepoint": "2022-09-30T00:00:00",
          "tmrca": 8.841000000000001
         },
         {
          "timepoint": "2023-01-01T00:00:00",
          "tmrca": 9.091000000000001
         },
         {
          "timepoint": "2023-04-01T00:00:00",
          "tmrca": 9.154
         },
         {
          "timepoint": "2023-07-01T00:00:00",
          "tmrca": 9.217
         },
         {
          "timepoint": "2023-09-30T00:00:00",
          "tmrca": 9.28
         },
         {
          "timepoint": "2024-01-01T00:00:00",
          "tmrca": 9.343
         },
         {
          "timepoint": "2024-03-31T00:00:00",
          "tmrca": 9.405999999999999
         },
         {
          "timepoint": "2024-06-30T00:00:00",
          "tmrca": 9.468999999999998
         },
         {
          "timepoint": "2024-09-29T00:00:00",
          "tmrca": 9.531999999999998
         },
         {
          "timepoint": "2025-01-01T00:00:00",
          "tmrca": 9.594999999999997
         },
         {
          "timepoint": "2025-04-01T00:00:00",
          "tmrca": 9.657999999999998
         },
         {
          "timepoint": "2025-07-01T00:00:00",
          "tmrca": 9.720999999999997
         },
         {
          "timepoint": "2025-09-30T00:00:00",
          "tmrca": 9.783999999999995
         },
         {
          "timepoint": "2026-01-01T00:00:00",
          "tmrca": 9.846999999999996
         },
         {
          "timepoint": "2026-04-01T00:00:00",
          "tmrca": 9.909999999999995
         },
         {
          "timepoint": "2026-07-01T00:00:00",
          "tmrca": 9.972999999999995
         },
         {
          "timepoint": "2026-09-30T00:00:00",
          "tmrca": 10.222999999999995
         },
         {
          "timepoint": "2027-01-01T00:00:00",
          "tmrca": 10.472999999999995
         },
         {
          "timepoint": "2027-04-01T00:00:00",
          "tmrca": 10.102999999999994
         },
         {
          "timepoint": "2027-07-01T00:00:00",
          "tmrca": 9.703499999999995
         },
         {
          "timepoint": "2027-09-30T00:00:00",
          "tmrca": 9.303999999999993
         },
         {
          "timepoint": "2028-01-01T00:00:00",
          "tmrca": 8.904499999999993
         },
         {
          "timepoint": "2028-03-31T00:00:00",
          "tmrca": 8.691999999999993
         },
         {
          "timepoint": "2028-06-30T00:00:00",
          "tmrca": 8.479499999999993
         },
         {
          "timepoint": "2028-09-29T00:00:00",
          "tmrca": 8.159499999999992
         },
         {
          "timepoint": "2029-01-01T00:00:00",
          "tmrca": 7.839499999999992
         },
         {
          "timepoint": "2029-04-01T00:00:00",
          "tmrca": 7.519499999999992
         },
         {
          "timepoint": "2029-07-01T00:00:00",
          "tmrca": 7.199499999999992
         },
         {
          "timepoint": "2029-09-30T00:00:00",
          "tmrca": 6.879499999999991
         },
         {
          "timepoint": "2030-01-01T00:00:00",
          "tmrca": 6.559499999999991
         },
         {
          "timepoint": "2030-04-01T00:00:00",
          "tmrca": 6.239499999999991
         },
         {
          "timepoint": "2030-07-01T00:00:00",
          "tmrca": 5.915499999999992
         },
         {
          "timepoint": "2030-09-30T00:00:00",
          "tmrca": 5.591499999999992
         },
         {
          "timepoint": "2031-01-01T00:00:00",
          "tmrca": 5.267499999999993
         },
         {
          "timepoint": "2031-04-01T00:00:00",
          "tmrca": 4.902499999999993
         },
         {
          "timepoint": "2031-07-01T00:00:00",
          "tmrca": 4.5374999999999925
         },
         {
          "timepoint": "2031-09-30T00:00:00",
          "tmrca": 4.162999999999993
         },
         {
          "timepoint": "2032-01-01T00:00:00",
          "tmrca": 3.7884999999999933
         },
         {
          "timepoint": "2032-03-31T00:00:00",
          "tmrca": 3.8469999999999933
         },
         {
          "timepoint": "2032-06-30T00:00:00",
          "tmrca": 3.934999999999994
         },
         {
          "timepoint": "2032-09-29T00:00:00",
          "tmrca": 4.022999999999994
         },
         {
          "timepoint": "2033-01-01T00:00:00",
          "tmrca": 4.1204999999999945
         },
         {
          "timepoint": "2033-04-01T00:00:00",
          "tmrca": 4.217999999999995
         },
         {
          "timepoint": "2033-07-01T00:00:00",
          "tmrca": 4.315499999999995
         },
         {
          "timepoint": "2033-09-30T00:00:00",
          "tmrca": 4.520499999999994
         },
         {
          "timepoint": "2034-01-01T00:00:00",
          "tmrca": 4.715999999999994
         },
         {
          "timepoint": "2034-04-01T00:00:00",
          "tmrca": 4.911499999999994
         },
         {
          "timepoint": "2034-07-01T00:00:00",
          "tmrca": 5.106999999999994
         },
         {
          "timepoint": "2034-09-30T00:00:00",
          "tmrca": 5.302499999999993
         },
         {
          "timepoint": "2035-01-01T00:00:00",
          "tmrca": 5.497999999999993
         },
         {
          "timepoint": "2035-04-01T00:00:00",
          "tmrca": 5.693499999999993
         },
         {
          "timepoint": "2035-07-01T00:00:00",
          "tmrca": 5.892999999999993
         },
         {
          "timepoint": "2035-09-30T00:00:00",
          "tmrca": 6.092499999999992
         },
         {
          "timepoint": "2036-01-01T00:00:00",
          "tmrca": 6.291999999999993
         },
         {
          "timepoint": "2036-03-31T00:00:00",
          "tmrca": 6.5324999999999935
         },
         {
          "timepoint": "2036-06-30T00:00:00",
          "tmrca": 6.7729999999999935
         },
         {
          "timepoint": "2036-09-29T00:00:00",
          "tmrca": 7.0229999999999935
         },
         {
          "timepoint": "2037-01-01T00:00:00",
          "tmrca": 7.2729999999999935
         },
         {
          "timepoint": "2037-04-01T00:00:00",
          "tmrca": 7.5229999999999935
         },
         {
          "timepoint": "2037-07-01T00:00:00",
          "tmrca": 7.7729999999999935
         },
         {
          "timepoint": "2037-09-30T00:00:00",
          "tmrca": 8.022999999999993
         },
         {
          "timepoint": "2038-01-01T00:00:00",
          "tmrca": 8.263499999999993
         },
         {
          "timepoint": "2038-04-01T00:00:00",
          "tmrca": 8.503999999999994
         },
         {
          "timepoint": "2038-07-01T00:00:00",
          "tmrca": 8.744499999999993
         },
         {
          "timepoint": "2038-09-30T00:00:00",
          "tmrca": 8.984999999999994
         },
         {
          "timepoint": "2039-01-01T00:00:00",
          "tmrca": 9.234999999999994
         },
         {
          "timepoint": "2039-04-01T00:00:00",
          "tmrca": 9.484999999999994
         },
         {
          "timepoint": "2039-07-01T00:00:00",
          "tmrca": 9.734999999999994
         },
         {
          "timepoint": "2039-09-30T00:00:00",
          "tmrca": 9.984999999999994
         },
         {
          "timepoint": "2040-01-01T00:00:00",
          "tmrca": 10.234999999999994
         }
        ]
       },
       "encoding": {
        "x": {
         "field": "timepoint",
         "type": "temporal"
        },
        "y": {
         "field": "tmrca",
         "type": "quantitative"
        }
       },
       "height": 400,
       "mark": "point",
       "width": 600
      },
      "image/png": "[encoded data removed]",
      "text/plain": [
       "<VegaLite 3 object>\n",
       "\n",
       "If you see this message, it means the renderer has not been properly enabled\n",
       "for the frontend that you are using. For more information, see\n",
       "https://altair-viz.github.io/user_guide/troubleshooting.html\n"
      ]
     },
     "execution_count": 42,
     "metadata": {},
     "output_type": "execute_result"
    }
   ],
   "source": [
    "alt.Chart(rolling_df).mark_point().encode(\n",
    "    x=\"timepoint:T\",\n",
    "    y=\"tmrca:Q\"\n",
    ").properties(\n",
    "    height=400,\n",
    "    width=600\n",
    ")"
   ]
  },
  {
   "cell_type": "code",
   "execution_count": null,
   "metadata": {},
   "outputs": [],
   "source": []
  }
 ],
 "metadata": {
  "kernelspec": {
   "display_name": "Python 3",
   "language": "python",
   "name": "python3"
  },
  "language_info": {
   "codemirror_mode": {
    "name": "ipython",
    "version": 3
   },
   "file_extension": ".py",
   "mimetype": "text/x-python",
   "name": "python",
   "nbconvert_exporter": "python",
   "pygments_lexer": "ipython3",
   "version": "3.6.7"
  }
 },
 "nbformat": 4,
 "nbformat_minor": 4
}
