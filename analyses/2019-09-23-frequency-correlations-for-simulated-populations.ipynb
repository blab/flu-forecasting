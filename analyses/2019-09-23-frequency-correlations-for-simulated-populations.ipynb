{
 "cells": [
  {
   "cell_type": "markdown",
   "metadata": {},
   "source": [
    "# Frequency correlation plots for simulated populations\n",
    "\n",
    "Another attempt at calculating clade frequencies from tip-to-clade mappings without using a full tree."
   ]
  },
  {
   "cell_type": "code",
   "execution_count": 1,
   "metadata": {},
   "outputs": [],
   "source": [
    "import altair as alt\n",
    "import matplotlib as mpl\n",
    "import matplotlib.pyplot as plt\n",
    "import numpy as np\n",
    "import pandas as pd\n",
    "from scipy.stats import pearsonr\n",
    "import seaborn as sns\n",
    "\n",
    "%matplotlib inline"
   ]
  },
  {
   "cell_type": "code",
   "execution_count": 2,
   "metadata": {},
   "outputs": [],
   "source": [
    "sns.set_style(\"white\")\n",
    "plt.style.use(\"huddlej\")"
   ]
  },
  {
   "cell_type": "code",
   "execution_count": 3,
   "metadata": {},
   "outputs": [],
   "source": [
    "mpl.rcParams['savefig.dpi'] = 200\n",
    "mpl.rcParams['figure.dpi'] = 200\n",
    "mpl.rcParams['font.weight'] = 300\n",
    "mpl.rcParams['axes.labelweight'] = 300\n",
    "mpl.rcParams['font.size'] = 18"
   ]
  },
  {
   "cell_type": "code",
   "execution_count": 4,
   "metadata": {},
   "outputs": [
    {
     "name": "stdout",
     "output_type": "stream",
     "text": [
      "/Users/jlhudd/projects/nextstrain/flu-forecasting/analyses\n"
     ]
    }
   ],
   "source": [
    "!pwd"
   ]
  },
  {
   "cell_type": "markdown",
   "metadata": {},
   "source": [
    "## Load data"
   ]
  },
  {
   "cell_type": "code",
   "execution_count": 5,
   "metadata": {},
   "outputs": [],
   "source": [
    "data_root = \"../results/builds/simulated/simulated_sample_3/\""
   ]
  },
  {
   "cell_type": "code",
   "execution_count": 6,
   "metadata": {},
   "outputs": [],
   "source": [
    "tips = pd.read_csv(\n",
    "    \"%s/tip_attributes_with_weighted_distances.tsv\" % data_root,\n",
    "    sep=\"\\t\",\n",
    "    parse_dates=[\"timepoint\"],\n",
    "    usecols=[\"strain\", \"timepoint\", \"frequency\"]\n",
    ")"
   ]
  },
  {
   "cell_type": "code",
   "execution_count": 7,
   "metadata": {},
   "outputs": [
    {
     "data": {
      "text/html": [
       "<div>\n",
       "<style scoped>\n",
       "    .dataframe tbody tr th:only-of-type {\n",
       "        vertical-align: middle;\n",
       "    }\n",
       "\n",
       "    .dataframe tbody tr th {\n",
       "        vertical-align: top;\n",
       "    }\n",
       "\n",
       "    .dataframe thead th {\n",
       "        text-align: right;\n",
       "    }\n",
       "</style>\n",
       "<table border=\"1\" class=\"dataframe\">\n",
       "  <thead>\n",
       "    <tr style=\"text-align: right;\">\n",
       "      <th></th>\n",
       "      <th>strain</th>\n",
       "      <th>timepoint</th>\n",
       "      <th>frequency</th>\n",
       "    </tr>\n",
       "  </thead>\n",
       "  <tbody>\n",
       "    <tr>\n",
       "      <th>0</th>\n",
       "      <td>sample_3236_14</td>\n",
       "      <td>2016-10-01</td>\n",
       "      <td>0.000013</td>\n",
       "    </tr>\n",
       "  </tbody>\n",
       "</table>\n",
       "</div>"
      ],
      "text/plain": [
       "           strain  timepoint  frequency\n",
       "0  sample_3236_14 2016-10-01   0.000013"
      ]
     },
     "execution_count": 7,
     "metadata": {},
     "output_type": "execute_result"
    }
   ],
   "source": [
    "tips.head(1)"
   ]
  },
  {
   "cell_type": "code",
   "execution_count": 8,
   "metadata": {},
   "outputs": [],
   "source": [
    "tips_to_clades = pd.read_csv(\"%s/tips_to_clades.tsv\" % data_root, sep=\"\\t\", parse_dates=[\"timepoint\"])"
   ]
  },
  {
   "cell_type": "markdown",
   "metadata": {},
   "source": [
    "## Find clades for tips at future timepoint"
   ]
  },
  {
   "cell_type": "code",
   "execution_count": 9,
   "metadata": {},
   "outputs": [],
   "source": [
    "tips[\"future_timepoint\"] = tips[\"timepoint\"] + pd.DateOffset(months=12)"
   ]
  },
  {
   "cell_type": "code",
   "execution_count": 10,
   "metadata": {},
   "outputs": [
    {
     "data": {
      "text/html": [
       "<div>\n",
       "<style scoped>\n",
       "    .dataframe tbody tr th:only-of-type {\n",
       "        vertical-align: middle;\n",
       "    }\n",
       "\n",
       "    .dataframe tbody tr th {\n",
       "        vertical-align: top;\n",
       "    }\n",
       "\n",
       "    .dataframe thead th {\n",
       "        text-align: right;\n",
       "    }\n",
       "</style>\n",
       "<table border=\"1\" class=\"dataframe\">\n",
       "  <thead>\n",
       "    <tr style=\"text-align: right;\">\n",
       "      <th></th>\n",
       "      <th>strain</th>\n",
       "      <th>timepoint</th>\n",
       "      <th>frequency</th>\n",
       "      <th>future_timepoint</th>\n",
       "    </tr>\n",
       "  </thead>\n",
       "  <tbody>\n",
       "    <tr>\n",
       "      <th>0</th>\n",
       "      <td>sample_3236_14</td>\n",
       "      <td>2016-10-01</td>\n",
       "      <td>0.000013</td>\n",
       "      <td>2017-10-01</td>\n",
       "    </tr>\n",
       "    <tr>\n",
       "      <th>1</th>\n",
       "      <td>sample_3236_17</td>\n",
       "      <td>2016-10-01</td>\n",
       "      <td>0.000013</td>\n",
       "      <td>2017-10-01</td>\n",
       "    </tr>\n",
       "    <tr>\n",
       "      <th>2</th>\n",
       "      <td>sample_3236_19</td>\n",
       "      <td>2016-10-01</td>\n",
       "      <td>0.000013</td>\n",
       "      <td>2017-10-01</td>\n",
       "    </tr>\n",
       "    <tr>\n",
       "      <th>3</th>\n",
       "      <td>sample_3236_21</td>\n",
       "      <td>2016-10-01</td>\n",
       "      <td>0.000013</td>\n",
       "      <td>2017-10-01</td>\n",
       "    </tr>\n",
       "    <tr>\n",
       "      <th>4</th>\n",
       "      <td>sample_3236_22</td>\n",
       "      <td>2016-10-01</td>\n",
       "      <td>0.000013</td>\n",
       "      <td>2017-10-01</td>\n",
       "    </tr>\n",
       "  </tbody>\n",
       "</table>\n",
       "</div>"
      ],
      "text/plain": [
       "           strain  timepoint  frequency future_timepoint\n",
       "0  sample_3236_14 2016-10-01   0.000013       2017-10-01\n",
       "1  sample_3236_17 2016-10-01   0.000013       2017-10-01\n",
       "2  sample_3236_19 2016-10-01   0.000013       2017-10-01\n",
       "3  sample_3236_21 2016-10-01   0.000013       2017-10-01\n",
       "4  sample_3236_22 2016-10-01   0.000013       2017-10-01"
      ]
     },
     "execution_count": 10,
     "metadata": {},
     "output_type": "execute_result"
    }
   ],
   "source": [
    "tips.head()"
   ]
  },
  {
   "cell_type": "code",
   "execution_count": 24,
   "metadata": {},
   "outputs": [],
   "source": [
    "tips_with_clades = tips.merge(\n",
    "    tips_to_clades,\n",
    "    left_on=[\"strain\", \"timepoint\"],\n",
    "    right_on=[\"tip\", \"timepoint\"]\n",
    ").drop(columns=[\"tip\"]).sort_values([\"timepoint\", \"strain\", \"depth\"])"
   ]
  },
  {
   "cell_type": "code",
   "execution_count": 12,
   "metadata": {},
   "outputs": [],
   "source": [
    "closest_clades_to_tips = tips_to_clades[tips_to_clades[\"depth\"] == 0].copy()"
   ]
  },
  {
   "cell_type": "code",
   "execution_count": 13,
   "metadata": {},
   "outputs": [
    {
     "data": {
      "text/html": [
       "<div>\n",
       "<style scoped>\n",
       "    .dataframe tbody tr th:only-of-type {\n",
       "        vertical-align: middle;\n",
       "    }\n",
       "\n",
       "    .dataframe tbody tr th {\n",
       "        vertical-align: top;\n",
       "    }\n",
       "\n",
       "    .dataframe thead th {\n",
       "        text-align: right;\n",
       "    }\n",
       "</style>\n",
       "<table border=\"1\" class=\"dataframe\">\n",
       "  <thead>\n",
       "    <tr style=\"text-align: right;\">\n",
       "      <th></th>\n",
       "      <th>tip</th>\n",
       "      <th>clade_membership</th>\n",
       "      <th>depth</th>\n",
       "      <th>timepoint</th>\n",
       "    </tr>\n",
       "  </thead>\n",
       "  <tbody>\n",
       "    <tr>\n",
       "      <th>0</th>\n",
       "      <td>sample_2152_67</td>\n",
       "      <td>5a98c8d</td>\n",
       "      <td>0</td>\n",
       "      <td>2016-10-01</td>\n",
       "    </tr>\n",
       "    <tr>\n",
       "      <th>2</th>\n",
       "      <td>sample_2180_74</td>\n",
       "      <td>0f7e665</td>\n",
       "      <td>0</td>\n",
       "      <td>2016-10-01</td>\n",
       "    </tr>\n",
       "    <tr>\n",
       "      <th>5</th>\n",
       "      <td>sample_2224_75</td>\n",
       "      <td>0f7e665</td>\n",
       "      <td>0</td>\n",
       "      <td>2016-10-01</td>\n",
       "    </tr>\n",
       "    <tr>\n",
       "      <th>8</th>\n",
       "      <td>sample_2224_30</td>\n",
       "      <td>0f7e665</td>\n",
       "      <td>0</td>\n",
       "      <td>2016-10-01</td>\n",
       "    </tr>\n",
       "    <tr>\n",
       "      <th>11</th>\n",
       "      <td>sample_2200_47</td>\n",
       "      <td>0f7e665</td>\n",
       "      <td>0</td>\n",
       "      <td>2016-10-01</td>\n",
       "    </tr>\n",
       "  </tbody>\n",
       "</table>\n",
       "</div>"
      ],
      "text/plain": [
       "               tip clade_membership  depth  timepoint\n",
       "0   sample_2152_67          5a98c8d      0 2016-10-01\n",
       "2   sample_2180_74          0f7e665      0 2016-10-01\n",
       "5   sample_2224_75          0f7e665      0 2016-10-01\n",
       "8   sample_2224_30          0f7e665      0 2016-10-01\n",
       "11  sample_2200_47          0f7e665      0 2016-10-01"
      ]
     },
     "execution_count": 13,
     "metadata": {},
     "output_type": "execute_result"
    }
   ],
   "source": [
    "closest_clades_to_tips.head()"
   ]
  },
  {
   "cell_type": "code",
   "execution_count": 14,
   "metadata": {},
   "outputs": [
    {
     "data": {
      "text/plain": [
       "(317520, 4)"
      ]
     },
     "execution_count": 14,
     "metadata": {},
     "output_type": "execute_result"
    }
   ],
   "source": [
    "closest_clades_to_tips.shape"
   ]
  },
  {
   "cell_type": "code",
   "execution_count": 15,
   "metadata": {},
   "outputs": [],
   "source": [
    "future_clades_for_current_tips = tips.merge(\n",
    "    closest_clades_to_tips,\n",
    "    left_on=[\"strain\", \"future_timepoint\"],\n",
    "    right_on=[\"tip\", \"timepoint\"],\n",
    "    suffixes=[\"\", \"_future\"]\n",
    ").drop(columns=[\"tip\", \"depth\", \"timepoint_future\"])"
   ]
  },
  {
   "cell_type": "code",
   "execution_count": 16,
   "metadata": {},
   "outputs": [
    {
     "data": {
      "text/html": [
       "<div>\n",
       "<style scoped>\n",
       "    .dataframe tbody tr th:only-of-type {\n",
       "        vertical-align: middle;\n",
       "    }\n",
       "\n",
       "    .dataframe tbody tr th {\n",
       "        vertical-align: top;\n",
       "    }\n",
       "\n",
       "    .dataframe thead th {\n",
       "        text-align: right;\n",
       "    }\n",
       "</style>\n",
       "<table border=\"1\" class=\"dataframe\">\n",
       "  <thead>\n",
       "    <tr style=\"text-align: right;\">\n",
       "      <th></th>\n",
       "      <th>strain</th>\n",
       "      <th>timepoint</th>\n",
       "      <th>frequency</th>\n",
       "      <th>future_timepoint</th>\n",
       "      <th>clade_membership</th>\n",
       "    </tr>\n",
       "  </thead>\n",
       "  <tbody>\n",
       "    <tr>\n",
       "      <th>0</th>\n",
       "      <td>sample_3236_14</td>\n",
       "      <td>2016-10-01</td>\n",
       "      <td>0.000013</td>\n",
       "      <td>2017-10-01</td>\n",
       "      <td>236287d</td>\n",
       "    </tr>\n",
       "    <tr>\n",
       "      <th>1</th>\n",
       "      <td>sample_3236_17</td>\n",
       "      <td>2016-10-01</td>\n",
       "      <td>0.000013</td>\n",
       "      <td>2017-10-01</td>\n",
       "      <td>607c9ba</td>\n",
       "    </tr>\n",
       "    <tr>\n",
       "      <th>2</th>\n",
       "      <td>sample_3236_19</td>\n",
       "      <td>2016-10-01</td>\n",
       "      <td>0.000013</td>\n",
       "      <td>2017-10-01</td>\n",
       "      <td>025b499</td>\n",
       "    </tr>\n",
       "    <tr>\n",
       "      <th>3</th>\n",
       "      <td>sample_3236_21</td>\n",
       "      <td>2016-10-01</td>\n",
       "      <td>0.000013</td>\n",
       "      <td>2017-10-01</td>\n",
       "      <td>236287d</td>\n",
       "    </tr>\n",
       "    <tr>\n",
       "      <th>4</th>\n",
       "      <td>sample_3236_22</td>\n",
       "      <td>2016-10-01</td>\n",
       "      <td>0.000013</td>\n",
       "      <td>2017-10-01</td>\n",
       "      <td>236287d</td>\n",
       "    </tr>\n",
       "  </tbody>\n",
       "</table>\n",
       "</div>"
      ],
      "text/plain": [
       "           strain  timepoint  frequency future_timepoint clade_membership\n",
       "0  sample_3236_14 2016-10-01   0.000013       2017-10-01          236287d\n",
       "1  sample_3236_17 2016-10-01   0.000013       2017-10-01          607c9ba\n",
       "2  sample_3236_19 2016-10-01   0.000013       2017-10-01          025b499\n",
       "3  sample_3236_21 2016-10-01   0.000013       2017-10-01          236287d\n",
       "4  sample_3236_22 2016-10-01   0.000013       2017-10-01          236287d"
      ]
     },
     "execution_count": 16,
     "metadata": {},
     "output_type": "execute_result"
    }
   ],
   "source": [
    "future_clades_for_current_tips.head()"
   ]
  },
  {
   "cell_type": "code",
   "execution_count": 17,
   "metadata": {},
   "outputs": [
    {
     "data": {
      "text/plain": [
       "(29610, 5)"
      ]
     },
     "execution_count": 17,
     "metadata": {},
     "output_type": "execute_result"
    }
   ],
   "source": [
    "future_clades_for_current_tips.shape"
   ]
  },
  {
   "cell_type": "code",
   "execution_count": 18,
   "metadata": {},
   "outputs": [
    {
     "data": {
      "text/plain": [
       "timepoint\n",
       "2016-10-01    0.999992\n",
       "2017-04-01    0.999948\n",
       "2017-10-01    0.999954\n",
       "2018-04-01    0.999964\n",
       "2018-10-01    0.999980\n",
       "2019-04-01    0.999958\n",
       "2019-10-01    0.999995\n",
       "2020-04-01    0.999993\n",
       "2020-10-01    1.000014\n",
       "2021-04-01    0.999946\n",
       "2021-10-01    0.999965\n",
       "2022-04-01    0.999971\n",
       "2022-10-01    0.999965\n",
       "2023-04-01    0.999934\n",
       "2023-10-01    0.999937\n",
       "2024-04-01    0.999936\n",
       "2024-10-01    0.999948\n",
       "2025-04-01    0.999969\n",
       "2025-10-01    0.999941\n",
       "2026-04-01    0.999946\n",
       "2026-10-01    0.999977\n",
       "2027-04-01    0.999968\n",
       "2027-10-01    0.999980\n",
       "2028-04-01    0.999943\n",
       "2028-10-01    0.999949\n",
       "2029-04-01    0.999987\n",
       "2029-10-01    0.999965\n",
       "2030-04-01    0.999966\n",
       "2030-10-01    0.999952\n",
       "2031-04-01    0.999962\n",
       "2031-10-01    0.999954\n",
       "2032-04-01    0.999936\n",
       "2032-10-01    0.999960\n",
       "2033-04-01    0.999971\n",
       "2033-10-01    0.999982\n",
       "2034-04-01    0.999963\n",
       "2034-10-01    0.999966\n",
       "2035-04-01    0.999955\n",
       "2035-10-01    0.999973\n",
       "2036-04-01    0.999985\n",
       "2036-10-01    0.999994\n",
       "2037-04-01    0.999973\n",
       "2037-10-01    0.999955\n",
       "2038-04-01    0.999951\n",
       "2038-10-01    0.999987\n",
       "2039-04-01    0.999973\n",
       "2039-10-01    0.999977\n",
       "Name: frequency, dtype: float64"
      ]
     },
     "execution_count": 18,
     "metadata": {},
     "output_type": "execute_result"
    }
   ],
   "source": [
    "future_clades_for_current_tips.groupby(\"timepoint\")[\"frequency\"].sum()"
   ]
  },
  {
   "cell_type": "markdown",
   "metadata": {},
   "source": [
    "Find tips at future timepoint with same clades as current tips. To do this, first find the distinct future clades associated with current tips. Group by timepoint and clade to get the total frequency of each clade as the \"initial frequency\"."
   ]
  },
  {
   "cell_type": "code",
   "execution_count": 19,
   "metadata": {},
   "outputs": [],
   "source": [
    "future_clades_for_current_timepoints = future_clades_for_current_tips.groupby([\n",
    "    \"timepoint\", \"future_timepoint\", \"clade_membership\"\n",
    "])[\"frequency\"].sum().reset_index()"
   ]
  },
  {
   "cell_type": "code",
   "execution_count": 20,
   "metadata": {},
   "outputs": [
    {
     "data": {
      "text/html": [
       "<div>\n",
       "<style scoped>\n",
       "    .dataframe tbody tr th:only-of-type {\n",
       "        vertical-align: middle;\n",
       "    }\n",
       "\n",
       "    .dataframe tbody tr th {\n",
       "        vertical-align: top;\n",
       "    }\n",
       "\n",
       "    .dataframe thead th {\n",
       "        text-align: right;\n",
       "    }\n",
       "</style>\n",
       "<table border=\"1\" class=\"dataframe\">\n",
       "  <thead>\n",
       "    <tr style=\"text-align: right;\">\n",
       "      <th></th>\n",
       "      <th>timepoint</th>\n",
       "      <th>future_timepoint</th>\n",
       "      <th>clade_membership</th>\n",
       "      <th>frequency</th>\n",
       "    </tr>\n",
       "  </thead>\n",
       "  <tbody>\n",
       "    <tr>\n",
       "      <th>0</th>\n",
       "      <td>2016-10-01</td>\n",
       "      <td>2017-10-01</td>\n",
       "      <td>00fecc0</td>\n",
       "      <td>0.000819</td>\n",
       "    </tr>\n",
       "    <tr>\n",
       "      <th>1</th>\n",
       "      <td>2016-10-01</td>\n",
       "      <td>2017-10-01</td>\n",
       "      <td>0207ea8</td>\n",
       "      <td>0.003637</td>\n",
       "    </tr>\n",
       "    <tr>\n",
       "      <th>2</th>\n",
       "      <td>2016-10-01</td>\n",
       "      <td>2017-10-01</td>\n",
       "      <td>025b499</td>\n",
       "      <td>0.000026</td>\n",
       "    </tr>\n",
       "    <tr>\n",
       "      <th>3</th>\n",
       "      <td>2016-10-01</td>\n",
       "      <td>2017-10-01</td>\n",
       "      <td>02f3aa6</td>\n",
       "      <td>0.002266</td>\n",
       "    </tr>\n",
       "    <tr>\n",
       "      <th>4</th>\n",
       "      <td>2016-10-01</td>\n",
       "      <td>2017-10-01</td>\n",
       "      <td>0442976</td>\n",
       "      <td>0.002118</td>\n",
       "    </tr>\n",
       "  </tbody>\n",
       "</table>\n",
       "</div>"
      ],
      "text/plain": [
       "   timepoint future_timepoint clade_membership  frequency\n",
       "0 2016-10-01       2017-10-01          00fecc0   0.000819\n",
       "1 2016-10-01       2017-10-01          0207ea8   0.003637\n",
       "2 2016-10-01       2017-10-01          025b499   0.000026\n",
       "3 2016-10-01       2017-10-01          02f3aa6   0.002266\n",
       "4 2016-10-01       2017-10-01          0442976   0.002118"
      ]
     },
     "execution_count": 20,
     "metadata": {},
     "output_type": "execute_result"
    }
   ],
   "source": [
    "future_clades_for_current_timepoints.head()"
   ]
  },
  {
   "cell_type": "code",
   "execution_count": 21,
   "metadata": {},
   "outputs": [
    {
     "data": {
      "text/plain": [
       "True"
      ]
     },
     "execution_count": 21,
     "metadata": {},
     "output_type": "execute_result"
    }
   ],
   "source": [
    "np.allclose(\n",
    "    np.ones_like(future_clades_for_current_timepoints.groupby(\"timepoint\")[\"frequency\"].sum().values),\n",
    "    future_clades_for_current_timepoints.groupby(\"timepoint\")[\"frequency\"].sum().values,\n",
    "    1e-4\n",
    ")"
   ]
  },
  {
   "cell_type": "code",
   "execution_count": 22,
   "metadata": {},
   "outputs": [
    {
     "data": {
      "text/plain": [
       "array([0.999992, 0.999948, 0.999954, 0.999964, 0.99998 , 0.999958,\n",
       "       0.999995, 0.999993, 1.000014, 0.999946, 0.999965, 0.999971,\n",
       "       0.999965, 0.999934, 0.999937, 0.999936, 0.999948, 0.999969,\n",
       "       0.999941, 0.999946, 0.999977, 0.999968, 0.99998 , 0.999943,\n",
       "       0.999949, 0.999987, 0.999965, 0.999966, 0.999952, 0.999962,\n",
       "       0.999954, 0.999936, 0.99996 , 0.999971, 0.999982, 0.999963,\n",
       "       0.999966, 0.999955, 0.999973, 0.999985, 0.999994, 0.999973,\n",
       "       0.999955, 0.999951, 0.999987, 0.999973, 0.999977])"
      ]
     },
     "execution_count": 22,
     "metadata": {},
     "output_type": "execute_result"
    }
   ],
   "source": [
    "future_clades_for_current_timepoints.groupby(\"timepoint\")[\"frequency\"].sum().values"
   ]
  },
  {
   "cell_type": "code",
   "execution_count": 25,
   "metadata": {},
   "outputs": [
    {
     "data": {
      "text/html": [
       "<div>\n",
       "<style scoped>\n",
       "    .dataframe tbody tr th:only-of-type {\n",
       "        vertical-align: middle;\n",
       "    }\n",
       "\n",
       "    .dataframe tbody tr th {\n",
       "        vertical-align: top;\n",
       "    }\n",
       "\n",
       "    .dataframe thead th {\n",
       "        text-align: right;\n",
       "    }\n",
       "</style>\n",
       "<table border=\"1\" class=\"dataframe\">\n",
       "  <thead>\n",
       "    <tr style=\"text-align: right;\">\n",
       "      <th></th>\n",
       "      <th>strain</th>\n",
       "      <th>timepoint</th>\n",
       "      <th>frequency</th>\n",
       "      <th>future_timepoint</th>\n",
       "      <th>clade_membership</th>\n",
       "      <th>depth</th>\n",
       "    </tr>\n",
       "  </thead>\n",
       "  <tbody>\n",
       "    <tr>\n",
       "      <th>0</th>\n",
       "      <td>sample_3236_14</td>\n",
       "      <td>2016-10-01</td>\n",
       "      <td>0.000013</td>\n",
       "      <td>2017-10-01</td>\n",
       "      <td>236287d</td>\n",
       "      <td>0</td>\n",
       "    </tr>\n",
       "    <tr>\n",
       "      <th>1</th>\n",
       "      <td>sample_3236_14</td>\n",
       "      <td>2016-10-01</td>\n",
       "      <td>0.000013</td>\n",
       "      <td>2017-10-01</td>\n",
       "      <td>b03374d</td>\n",
       "      <td>6</td>\n",
       "    </tr>\n",
       "    <tr>\n",
       "      <th>2</th>\n",
       "      <td>sample_3236_14</td>\n",
       "      <td>2016-10-01</td>\n",
       "      <td>0.000013</td>\n",
       "      <td>2017-10-01</td>\n",
       "      <td>d98135f</td>\n",
       "      <td>15</td>\n",
       "    </tr>\n",
       "    <tr>\n",
       "      <th>3</th>\n",
       "      <td>sample_3236_14</td>\n",
       "      <td>2016-10-01</td>\n",
       "      <td>0.000013</td>\n",
       "      <td>2017-10-01</td>\n",
       "      <td>01a86f0</td>\n",
       "      <td>20</td>\n",
       "    </tr>\n",
       "    <tr>\n",
       "      <th>4</th>\n",
       "      <td>sample_3236_14</td>\n",
       "      <td>2016-10-01</td>\n",
       "      <td>0.000013</td>\n",
       "      <td>2017-10-01</td>\n",
       "      <td>81ba982</td>\n",
       "      <td>23</td>\n",
       "    </tr>\n",
       "  </tbody>\n",
       "</table>\n",
       "</div>"
      ],
      "text/plain": [
       "           strain  timepoint  frequency future_timepoint clade_membership  \\\n",
       "0  sample_3236_14 2016-10-01   0.000013       2017-10-01          236287d   \n",
       "1  sample_3236_14 2016-10-01   0.000013       2017-10-01          b03374d   \n",
       "2  sample_3236_14 2016-10-01   0.000013       2017-10-01          d98135f   \n",
       "3  sample_3236_14 2016-10-01   0.000013       2017-10-01          01a86f0   \n",
       "4  sample_3236_14 2016-10-01   0.000013       2017-10-01          81ba982   \n",
       "\n",
       "   depth  \n",
       "0      0  \n",
       "1      6  \n",
       "2     15  \n",
       "3     20  \n",
       "4     23  "
      ]
     },
     "execution_count": 25,
     "metadata": {},
     "output_type": "execute_result"
    }
   ],
   "source": [
    "tips_with_clades.head()"
   ]
  },
  {
   "cell_type": "code",
   "execution_count": 26,
   "metadata": {},
   "outputs": [
    {
     "data": {
      "text/plain": [
       "(30870, 4)"
      ]
     },
     "execution_count": 26,
     "metadata": {},
     "output_type": "execute_result"
    }
   ],
   "source": [
    "tips.shape"
   ]
  },
  {
   "cell_type": "code",
   "execution_count": 27,
   "metadata": {},
   "outputs": [
    {
     "data": {
      "text/plain": [
       "(4546068, 4)"
      ]
     },
     "execution_count": 27,
     "metadata": {},
     "output_type": "execute_result"
    }
   ],
   "source": [
    "tips_to_clades.shape"
   ]
  },
  {
   "cell_type": "code",
   "execution_count": 28,
   "metadata": {},
   "outputs": [
    {
     "data": {
      "text/plain": [
       "(723318, 6)"
      ]
     },
     "execution_count": 28,
     "metadata": {},
     "output_type": "execute_result"
    }
   ],
   "source": [
    "tips_with_clades.shape"
   ]
  },
  {
   "cell_type": "markdown",
   "metadata": {},
   "source": [
    "Next, find future tips that belong to the same clades as the current tips or which have descended from these clades. Instead of taking every clade assigned to each tip, we want to pick the closest clade to each tip."
   ]
  },
  {
   "cell_type": "code",
   "execution_count": 29,
   "metadata": {},
   "outputs": [
    {
     "data": {
      "text/html": [
       "<div>\n",
       "<style scoped>\n",
       "    .dataframe tbody tr th:only-of-type {\n",
       "        vertical-align: middle;\n",
       "    }\n",
       "\n",
       "    .dataframe tbody tr th {\n",
       "        vertical-align: top;\n",
       "    }\n",
       "\n",
       "    .dataframe thead th {\n",
       "        text-align: right;\n",
       "    }\n",
       "</style>\n",
       "<table border=\"1\" class=\"dataframe\">\n",
       "  <thead>\n",
       "    <tr style=\"text-align: right;\">\n",
       "      <th></th>\n",
       "      <th>timepoint</th>\n",
       "      <th>future_timepoint</th>\n",
       "      <th>clade_membership</th>\n",
       "      <th>frequency</th>\n",
       "      <th>strain</th>\n",
       "      <th>frequency_future</th>\n",
       "      <th>depth</th>\n",
       "    </tr>\n",
       "  </thead>\n",
       "  <tbody>\n",
       "    <tr>\n",
       "      <th>163</th>\n",
       "      <td>2016-10-01</td>\n",
       "      <td>2017-10-01</td>\n",
       "      <td>539d848</td>\n",
       "      <td>0.107898</td>\n",
       "      <td>sample_3436_1</td>\n",
       "      <td>0.000013</td>\n",
       "      <td>8.0</td>\n",
       "    </tr>\n",
       "    <tr>\n",
       "      <th>777</th>\n",
       "      <td>2016-10-01</td>\n",
       "      <td>2017-10-01</td>\n",
       "      <td>76839f5</td>\n",
       "      <td>0.046673</td>\n",
       "      <td>sample_3436_1</td>\n",
       "      <td>0.000013</td>\n",
       "      <td>11.0</td>\n",
       "    </tr>\n",
       "    <tr>\n",
       "      <th>1572</th>\n",
       "      <td>2016-10-01</td>\n",
       "      <td>2017-10-01</td>\n",
       "      <td>f40963d</td>\n",
       "      <td>0.002408</td>\n",
       "      <td>sample_3436_1</td>\n",
       "      <td>0.000013</td>\n",
       "      <td>14.0</td>\n",
       "    </tr>\n",
       "    <tr>\n",
       "      <th>1502</th>\n",
       "      <td>2016-10-01</td>\n",
       "      <td>2017-10-01</td>\n",
       "      <td>de9425b</td>\n",
       "      <td>0.027904</td>\n",
       "      <td>sample_3436_11</td>\n",
       "      <td>0.000013</td>\n",
       "      <td>0.0</td>\n",
       "    </tr>\n",
       "    <tr>\n",
       "      <th>1366</th>\n",
       "      <td>2016-10-01</td>\n",
       "      <td>2017-10-01</td>\n",
       "      <td>a54b235</td>\n",
       "      <td>0.085959</td>\n",
       "      <td>sample_3436_11</td>\n",
       "      <td>0.000013</td>\n",
       "      <td>9.0</td>\n",
       "    </tr>\n",
       "    <tr>\n",
       "      <th>1522</th>\n",
       "      <td>2016-10-01</td>\n",
       "      <td>2017-10-01</td>\n",
       "      <td>ec2a1ce</td>\n",
       "      <td>0.000416</td>\n",
       "      <td>sample_3436_11</td>\n",
       "      <td>0.000013</td>\n",
       "      <td>10.0</td>\n",
       "    </tr>\n",
       "    <tr>\n",
       "      <th>110</th>\n",
       "      <td>2016-10-01</td>\n",
       "      <td>2017-10-01</td>\n",
       "      <td>4cd3f27</td>\n",
       "      <td>0.000113</td>\n",
       "      <td>sample_3436_11</td>\n",
       "      <td>0.000013</td>\n",
       "      <td>17.0</td>\n",
       "    </tr>\n",
       "    <tr>\n",
       "      <th>164</th>\n",
       "      <td>2016-10-01</td>\n",
       "      <td>2017-10-01</td>\n",
       "      <td>539d848</td>\n",
       "      <td>0.107898</td>\n",
       "      <td>sample_3436_12</td>\n",
       "      <td>0.000013</td>\n",
       "      <td>6.0</td>\n",
       "    </tr>\n",
       "    <tr>\n",
       "      <th>778</th>\n",
       "      <td>2016-10-01</td>\n",
       "      <td>2017-10-01</td>\n",
       "      <td>76839f5</td>\n",
       "      <td>0.046673</td>\n",
       "      <td>sample_3436_12</td>\n",
       "      <td>0.000013</td>\n",
       "      <td>13.0</td>\n",
       "    </tr>\n",
       "    <tr>\n",
       "      <th>1573</th>\n",
       "      <td>2016-10-01</td>\n",
       "      <td>2017-10-01</td>\n",
       "      <td>f40963d</td>\n",
       "      <td>0.002408</td>\n",
       "      <td>sample_3436_12</td>\n",
       "      <td>0.000013</td>\n",
       "      <td>16.0</td>\n",
       "    </tr>\n",
       "  </tbody>\n",
       "</table>\n",
       "</div>"
      ],
      "text/plain": [
       "      timepoint future_timepoint clade_membership  frequency          strain  \\\n",
       "163  2016-10-01       2017-10-01          539d848   0.107898   sample_3436_1   \n",
       "777  2016-10-01       2017-10-01          76839f5   0.046673   sample_3436_1   \n",
       "1572 2016-10-01       2017-10-01          f40963d   0.002408   sample_3436_1   \n",
       "1502 2016-10-01       2017-10-01          de9425b   0.027904  sample_3436_11   \n",
       "1366 2016-10-01       2017-10-01          a54b235   0.085959  sample_3436_11   \n",
       "1522 2016-10-01       2017-10-01          ec2a1ce   0.000416  sample_3436_11   \n",
       "110  2016-10-01       2017-10-01          4cd3f27   0.000113  sample_3436_11   \n",
       "164  2016-10-01       2017-10-01          539d848   0.107898  sample_3436_12   \n",
       "778  2016-10-01       2017-10-01          76839f5   0.046673  sample_3436_12   \n",
       "1573 2016-10-01       2017-10-01          f40963d   0.002408  sample_3436_12   \n",
       "\n",
       "      frequency_future  depth  \n",
       "163           0.000013    8.0  \n",
       "777           0.000013   11.0  \n",
       "1572          0.000013   14.0  \n",
       "1502          0.000013    0.0  \n",
       "1366          0.000013    9.0  \n",
       "1522          0.000013   10.0  \n",
       "110           0.000013   17.0  \n",
       "164           0.000013    6.0  \n",
       "778           0.000013   13.0  \n",
       "1573          0.000013   16.0  "
      ]
     },
     "execution_count": 29,
     "metadata": {},
     "output_type": "execute_result"
    }
   ],
   "source": [
    "future_clades_for_current_timepoints.merge(\n",
    "    tips_with_clades,\n",
    "    how=\"left\",\n",
    "    left_on=[\"future_timepoint\", \"clade_membership\"],\n",
    "    right_on=[\"timepoint\", \"clade_membership\"],\n",
    "    suffixes=[\"\", \"_future\"]\n",
    ").drop(columns=[\"timepoint_future\", \"future_timepoint_future\"]).sort_values([\"timepoint\", \"strain\", \"depth\"]).head(10)"
   ]
  },
  {
   "cell_type": "code",
   "execution_count": 30,
   "metadata": {},
   "outputs": [],
   "source": [
    "future_tips_with_future_clades = future_clades_for_current_timepoints.merge(\n",
    "    tips_with_clades,\n",
    "    left_on=[\"future_timepoint\", \"clade_membership\"],\n",
    "    right_on=[\"timepoint\", \"clade_membership\"],\n",
    "    suffixes=[\"\", \"_future\"]\n",
    ").drop(columns=[\"timepoint_future\", \"future_timepoint_future\"]).sort_values([\"timepoint\", \"strain\", \"depth\"]).groupby([\n",
    "    \"timepoint\", \"future_timepoint\", \"strain\", \"frequency_future\"\n",
    "]).first().reset_index()"
   ]
  },
  {
   "cell_type": "code",
   "execution_count": 32,
   "metadata": {},
   "outputs": [
    {
     "data": {
      "text/html": [
       "<div>\n",
       "<style scoped>\n",
       "    .dataframe tbody tr th:only-of-type {\n",
       "        vertical-align: middle;\n",
       "    }\n",
       "\n",
       "    .dataframe tbody tr th {\n",
       "        vertical-align: top;\n",
       "    }\n",
       "\n",
       "    .dataframe thead th {\n",
       "        text-align: right;\n",
       "    }\n",
       "</style>\n",
       "<table border=\"1\" class=\"dataframe\">\n",
       "  <thead>\n",
       "    <tr style=\"text-align: right;\">\n",
       "      <th></th>\n",
       "      <th>timepoint</th>\n",
       "      <th>future_timepoint</th>\n",
       "      <th>strain</th>\n",
       "      <th>frequency_future</th>\n",
       "      <th>clade_membership</th>\n",
       "      <th>frequency</th>\n",
       "      <th>depth</th>\n",
       "    </tr>\n",
       "  </thead>\n",
       "  <tbody>\n",
       "    <tr>\n",
       "      <th>0</th>\n",
       "      <td>2016-10-01</td>\n",
       "      <td>2017-10-01</td>\n",
       "      <td>sample_3436_1</td>\n",
       "      <td>0.000013</td>\n",
       "      <td>539d848</td>\n",
       "      <td>0.107898</td>\n",
       "      <td>8</td>\n",
       "    </tr>\n",
       "    <tr>\n",
       "      <th>1</th>\n",
       "      <td>2016-10-01</td>\n",
       "      <td>2017-10-01</td>\n",
       "      <td>sample_3436_11</td>\n",
       "      <td>0.000013</td>\n",
       "      <td>de9425b</td>\n",
       "      <td>0.027904</td>\n",
       "      <td>0</td>\n",
       "    </tr>\n",
       "    <tr>\n",
       "      <th>2</th>\n",
       "      <td>2016-10-01</td>\n",
       "      <td>2017-10-01</td>\n",
       "      <td>sample_3436_12</td>\n",
       "      <td>0.000013</td>\n",
       "      <td>539d848</td>\n",
       "      <td>0.107898</td>\n",
       "      <td>6</td>\n",
       "    </tr>\n",
       "    <tr>\n",
       "      <th>3</th>\n",
       "      <td>2016-10-01</td>\n",
       "      <td>2017-10-01</td>\n",
       "      <td>sample_3436_13</td>\n",
       "      <td>0.000013</td>\n",
       "      <td>5923b41</td>\n",
       "      <td>0.025487</td>\n",
       "      <td>5</td>\n",
       "    </tr>\n",
       "    <tr>\n",
       "      <th>4</th>\n",
       "      <td>2016-10-01</td>\n",
       "      <td>2017-10-01</td>\n",
       "      <td>sample_3436_17</td>\n",
       "      <td>0.000013</td>\n",
       "      <td>539d848</td>\n",
       "      <td>0.107898</td>\n",
       "      <td>8</td>\n",
       "    </tr>\n",
       "  </tbody>\n",
       "</table>\n",
       "</div>"
      ],
      "text/plain": [
       "   timepoint future_timepoint          strain  frequency_future  \\\n",
       "0 2016-10-01       2017-10-01   sample_3436_1          0.000013   \n",
       "1 2016-10-01       2017-10-01  sample_3436_11          0.000013   \n",
       "2 2016-10-01       2017-10-01  sample_3436_12          0.000013   \n",
       "3 2016-10-01       2017-10-01  sample_3436_13          0.000013   \n",
       "4 2016-10-01       2017-10-01  sample_3436_17          0.000013   \n",
       "\n",
       "  clade_membership  frequency  depth  \n",
       "0          539d848   0.107898      8  \n",
       "1          de9425b   0.027904      0  \n",
       "2          539d848   0.107898      6  \n",
       "3          5923b41   0.025487      5  \n",
       "4          539d848   0.107898      8  "
      ]
     },
     "execution_count": 32,
     "metadata": {},
     "output_type": "execute_result"
    }
   ],
   "source": [
    "future_tips_with_future_clades.head()"
   ]
  },
  {
   "cell_type": "code",
   "execution_count": 33,
   "metadata": {},
   "outputs": [
    {
     "data": {
      "text/plain": [
       "timepoint\n",
       "2016-10-01    0.999954\n",
       "2017-04-01    0.999964\n",
       "2017-10-01    0.999980\n",
       "2018-04-01    0.999958\n",
       "2018-10-01    0.999995\n",
       "2019-04-01    0.999993\n",
       "2019-10-01    1.000014\n",
       "2020-04-01    0.999946\n",
       "2020-10-01    0.999965\n",
       "2021-04-01    0.999971\n",
       "2021-10-01    0.999965\n",
       "2022-04-01    0.999934\n",
       "2022-10-01    0.999937\n",
       "2023-04-01    0.999936\n",
       "2023-10-01    0.999948\n",
       "2024-04-01    0.999969\n",
       "2024-10-01    0.999941\n",
       "2025-04-01    0.999946\n",
       "2025-10-01    0.999977\n",
       "2026-04-01    0.999968\n",
       "2026-10-01    0.999980\n",
       "2027-04-01    0.999943\n",
       "2027-10-01    0.999949\n",
       "2028-04-01    0.999987\n",
       "2028-10-01    0.999965\n",
       "2029-04-01    0.999966\n",
       "2029-10-01    0.999952\n",
       "2030-04-01    0.999962\n",
       "2030-10-01    0.999954\n",
       "2031-04-01    0.999936\n",
       "2031-10-01    0.999960\n",
       "2032-04-01    0.999971\n",
       "2032-10-01    0.999982\n",
       "2033-04-01    0.999963\n",
       "2033-10-01    0.999966\n",
       "2034-04-01    0.999955\n",
       "2034-10-01    0.999973\n",
       "2035-04-01    0.999985\n",
       "2035-10-01    0.999994\n",
       "2036-04-01    0.999973\n",
       "2036-10-01    0.999955\n",
       "2037-04-01    0.999951\n",
       "2037-10-01    0.999987\n",
       "2038-04-01    0.999973\n",
       "2038-10-01    0.999977\n",
       "2039-04-01    0.999977\n",
       "2039-10-01    0.999954\n",
       "Name: frequency_future, dtype: float64"
      ]
     },
     "execution_count": 33,
     "metadata": {},
     "output_type": "execute_result"
    }
   ],
   "source": [
    "future_tips_with_future_clades.groupby(\"timepoint\")[\"frequency_future\"].sum()"
   ]
  },
  {
   "cell_type": "code",
   "execution_count": 34,
   "metadata": {},
   "outputs": [
    {
     "data": {
      "text/html": [
       "<div>\n",
       "<style scoped>\n",
       "    .dataframe tbody tr th:only-of-type {\n",
       "        vertical-align: middle;\n",
       "    }\n",
       "\n",
       "    .dataframe tbody tr th {\n",
       "        vertical-align: top;\n",
       "    }\n",
       "\n",
       "    .dataframe thead th {\n",
       "        text-align: right;\n",
       "    }\n",
       "</style>\n",
       "<table border=\"1\" class=\"dataframe\">\n",
       "  <thead>\n",
       "    <tr style=\"text-align: right;\">\n",
       "      <th></th>\n",
       "      <th>timepoint</th>\n",
       "      <th>future_timepoint</th>\n",
       "      <th>clade_membership</th>\n",
       "      <th>frequency</th>\n",
       "    </tr>\n",
       "  </thead>\n",
       "  <tbody>\n",
       "    <tr>\n",
       "      <th>0</th>\n",
       "      <td>2016-10-01</td>\n",
       "      <td>2017-10-01</td>\n",
       "      <td>00fecc0</td>\n",
       "      <td>0.000819</td>\n",
       "    </tr>\n",
       "    <tr>\n",
       "      <th>1</th>\n",
       "      <td>2016-10-01</td>\n",
       "      <td>2017-10-01</td>\n",
       "      <td>0207ea8</td>\n",
       "      <td>0.003637</td>\n",
       "    </tr>\n",
       "    <tr>\n",
       "      <th>2</th>\n",
       "      <td>2016-10-01</td>\n",
       "      <td>2017-10-01</td>\n",
       "      <td>025b499</td>\n",
       "      <td>0.000026</td>\n",
       "    </tr>\n",
       "    <tr>\n",
       "      <th>3</th>\n",
       "      <td>2016-10-01</td>\n",
       "      <td>2017-10-01</td>\n",
       "      <td>02f3aa6</td>\n",
       "      <td>0.002266</td>\n",
       "    </tr>\n",
       "    <tr>\n",
       "      <th>4</th>\n",
       "      <td>2016-10-01</td>\n",
       "      <td>2017-10-01</td>\n",
       "      <td>0442976</td>\n",
       "      <td>0.002118</td>\n",
       "    </tr>\n",
       "  </tbody>\n",
       "</table>\n",
       "</div>"
      ],
      "text/plain": [
       "   timepoint future_timepoint clade_membership  frequency\n",
       "0 2016-10-01       2017-10-01          00fecc0   0.000819\n",
       "1 2016-10-01       2017-10-01          0207ea8   0.003637\n",
       "2 2016-10-01       2017-10-01          025b499   0.000026\n",
       "3 2016-10-01       2017-10-01          02f3aa6   0.002266\n",
       "4 2016-10-01       2017-10-01          0442976   0.002118"
      ]
     },
     "execution_count": 34,
     "metadata": {},
     "output_type": "execute_result"
    }
   ],
   "source": [
    "future_clades_for_current_timepoints.head()"
   ]
  },
  {
   "cell_type": "code",
   "execution_count": 38,
   "metadata": {},
   "outputs": [],
   "source": [
    "future_clades_for_future_timepoints = future_tips_with_future_clades.groupby([\n",
    "    \"timepoint\", \"future_timepoint\", \"clade_membership\"\n",
    "])[\"frequency_future\"].sum().reset_index()"
   ]
  },
  {
   "cell_type": "code",
   "execution_count": 39,
   "metadata": {},
   "outputs": [
    {
     "data": {
      "text/html": [
       "<div>\n",
       "<style scoped>\n",
       "    .dataframe tbody tr th:only-of-type {\n",
       "        vertical-align: middle;\n",
       "    }\n",
       "\n",
       "    .dataframe tbody tr th {\n",
       "        vertical-align: top;\n",
       "    }\n",
       "\n",
       "    .dataframe thead th {\n",
       "        text-align: right;\n",
       "    }\n",
       "</style>\n",
       "<table border=\"1\" class=\"dataframe\">\n",
       "  <thead>\n",
       "    <tr style=\"text-align: right;\">\n",
       "      <th></th>\n",
       "      <th>timepoint</th>\n",
       "      <th>future_timepoint</th>\n",
       "      <th>clade_membership</th>\n",
       "      <th>frequency_future</th>\n",
       "    </tr>\n",
       "  </thead>\n",
       "  <tbody>\n",
       "    <tr>\n",
       "      <th>0</th>\n",
       "      <td>2016-10-01</td>\n",
       "      <td>2017-10-01</td>\n",
       "      <td>3e385a7</td>\n",
       "      <td>0.008505</td>\n",
       "    </tr>\n",
       "    <tr>\n",
       "      <th>1</th>\n",
       "      <td>2016-10-01</td>\n",
       "      <td>2017-10-01</td>\n",
       "      <td>48af62e</td>\n",
       "      <td>0.000872</td>\n",
       "    </tr>\n",
       "    <tr>\n",
       "      <th>2</th>\n",
       "      <td>2016-10-01</td>\n",
       "      <td>2017-10-01</td>\n",
       "      <td>522b264</td>\n",
       "      <td>0.000278</td>\n",
       "    </tr>\n",
       "    <tr>\n",
       "      <th>3</th>\n",
       "      <td>2016-10-01</td>\n",
       "      <td>2017-10-01</td>\n",
       "      <td>539d848</td>\n",
       "      <td>0.931737</td>\n",
       "    </tr>\n",
       "    <tr>\n",
       "      <th>4</th>\n",
       "      <td>2016-10-01</td>\n",
       "      <td>2017-10-01</td>\n",
       "      <td>543f4ef</td>\n",
       "      <td>0.000019</td>\n",
       "    </tr>\n",
       "  </tbody>\n",
       "</table>\n",
       "</div>"
      ],
      "text/plain": [
       "   timepoint future_timepoint clade_membership  frequency_future\n",
       "0 2016-10-01       2017-10-01          3e385a7          0.008505\n",
       "1 2016-10-01       2017-10-01          48af62e          0.000872\n",
       "2 2016-10-01       2017-10-01          522b264          0.000278\n",
       "3 2016-10-01       2017-10-01          539d848          0.931737\n",
       "4 2016-10-01       2017-10-01          543f4ef          0.000019"
      ]
     },
     "execution_count": 39,
     "metadata": {},
     "output_type": "execute_result"
    }
   ],
   "source": [
    "future_clades_for_future_timepoints.head()"
   ]
  },
  {
   "cell_type": "code",
   "execution_count": 47,
   "metadata": {},
   "outputs": [],
   "source": [
    "merged_clades = future_clades_for_current_timepoints.merge(\n",
    "    future_clades_for_future_timepoints,\n",
    "    how=\"outer\",\n",
    "    on=[\"timepoint\", \"future_timepoint\", \"clade_membership\"]\n",
    ").sort_values([\"timepoint\", \"future_timepoint\", \"clade_membership\"]).fillna(0.0)"
   ]
  },
  {
   "cell_type": "code",
   "execution_count": 48,
   "metadata": {},
   "outputs": [
    {
     "data": {
      "text/html": [
       "<div>\n",
       "<style scoped>\n",
       "    .dataframe tbody tr th:only-of-type {\n",
       "        vertical-align: middle;\n",
       "    }\n",
       "\n",
       "    .dataframe tbody tr th {\n",
       "        vertical-align: top;\n",
       "    }\n",
       "\n",
       "    .dataframe thead th {\n",
       "        text-align: right;\n",
       "    }\n",
       "</style>\n",
       "<table border=\"1\" class=\"dataframe\">\n",
       "  <thead>\n",
       "    <tr style=\"text-align: right;\">\n",
       "      <th></th>\n",
       "      <th>timepoint</th>\n",
       "      <th>future_timepoint</th>\n",
       "      <th>clade_membership</th>\n",
       "      <th>frequency</th>\n",
       "      <th>frequency_future</th>\n",
       "    </tr>\n",
       "  </thead>\n",
       "  <tbody>\n",
       "    <tr>\n",
       "      <th>0</th>\n",
       "      <td>2016-10-01</td>\n",
       "      <td>2017-10-01</td>\n",
       "      <td>00fecc0</td>\n",
       "      <td>0.000819</td>\n",
       "      <td>0.0</td>\n",
       "    </tr>\n",
       "    <tr>\n",
       "      <th>1</th>\n",
       "      <td>2016-10-01</td>\n",
       "      <td>2017-10-01</td>\n",
       "      <td>0207ea8</td>\n",
       "      <td>0.003637</td>\n",
       "      <td>0.0</td>\n",
       "    </tr>\n",
       "    <tr>\n",
       "      <th>2</th>\n",
       "      <td>2016-10-01</td>\n",
       "      <td>2017-10-01</td>\n",
       "      <td>025b499</td>\n",
       "      <td>0.000026</td>\n",
       "      <td>0.0</td>\n",
       "    </tr>\n",
       "    <tr>\n",
       "      <th>3</th>\n",
       "      <td>2016-10-01</td>\n",
       "      <td>2017-10-01</td>\n",
       "      <td>02f3aa6</td>\n",
       "      <td>0.002266</td>\n",
       "      <td>0.0</td>\n",
       "    </tr>\n",
       "    <tr>\n",
       "      <th>4</th>\n",
       "      <td>2016-10-01</td>\n",
       "      <td>2017-10-01</td>\n",
       "      <td>0442976</td>\n",
       "      <td>0.002118</td>\n",
       "      <td>0.0</td>\n",
       "    </tr>\n",
       "  </tbody>\n",
       "</table>\n",
       "</div>"
      ],
      "text/plain": [
       "   timepoint future_timepoint clade_membership  frequency  frequency_future\n",
       "0 2016-10-01       2017-10-01          00fecc0   0.000819               0.0\n",
       "1 2016-10-01       2017-10-01          0207ea8   0.003637               0.0\n",
       "2 2016-10-01       2017-10-01          025b499   0.000026               0.0\n",
       "3 2016-10-01       2017-10-01          02f3aa6   0.002266               0.0\n",
       "4 2016-10-01       2017-10-01          0442976   0.002118               0.0"
      ]
     },
     "execution_count": 48,
     "metadata": {},
     "output_type": "execute_result"
    }
   ],
   "source": [
    "merged_clades.head()"
   ]
  },
  {
   "cell_type": "code",
   "execution_count": 52,
   "metadata": {},
   "outputs": [
    {
     "data": {
      "text/plain": [
       "array([0.999992, 0.999948, 0.999954, 0.999964, 0.99998 , 0.999958,\n",
       "       0.999995, 0.999993, 1.000014, 0.999946, 0.999965, 0.999971,\n",
       "       0.999965, 0.999934, 0.999937, 0.999936, 0.999948, 0.999969,\n",
       "       0.999941, 0.999946, 0.999977, 0.999968, 0.99998 , 0.999943,\n",
       "       0.999949, 0.999987, 0.999965, 0.999966, 0.999952, 0.999962,\n",
       "       0.999954, 0.999936, 0.99996 , 0.999971, 0.999982, 0.999963,\n",
       "       0.999966, 0.999955, 0.999973, 0.999985, 0.999994, 0.999973,\n",
       "       0.999955, 0.999951, 0.999987, 0.999973, 0.999977])"
      ]
     },
     "execution_count": 52,
     "metadata": {},
     "output_type": "execute_result"
    }
   ],
   "source": [
    "merged_clades.groupby([\"timepoint\"])[\"frequency\"].sum().values"
   ]
  },
  {
   "cell_type": "code",
   "execution_count": 51,
   "metadata": {},
   "outputs": [
    {
     "data": {
      "text/plain": [
       "array([0.999954, 0.999964, 0.99998 , 0.999958, 0.999995, 0.999993,\n",
       "       1.000014, 0.999946, 0.999965, 0.999971, 0.999965, 0.999934,\n",
       "       0.999937, 0.999936, 0.999948, 0.999969, 0.999941, 0.999946,\n",
       "       0.999977, 0.999968, 0.99998 , 0.999943, 0.999949, 0.999987,\n",
       "       0.999965, 0.999966, 0.999952, 0.999962, 0.999954, 0.999936,\n",
       "       0.99996 , 0.999971, 0.999982, 0.999963, 0.999966, 0.999955,\n",
       "       0.999973, 0.999985, 0.999994, 0.999973, 0.999955, 0.999951,\n",
       "       0.999987, 0.999973, 0.999977, 0.999977, 0.999954])"
      ]
     },
     "execution_count": 51,
     "metadata": {},
     "output_type": "execute_result"
    }
   ],
   "source": [
    "merged_clades.groupby([\"timepoint\"])[\"frequency_future\"].sum().values"
   ]
  },
  {
   "cell_type": "code",
   "execution_count": 35,
   "metadata": {},
   "outputs": [
    {
     "data": {
      "text/plain": [
       "future_timepoint\n",
       "2017-10-01    0.999954\n",
       "2018-04-01    0.999964\n",
       "2018-10-01    0.999980\n",
       "2019-04-01    0.999958\n",
       "2019-10-01    0.999995\n",
       "2020-04-01    0.999993\n",
       "2020-10-01    1.000014\n",
       "2021-04-01    0.999946\n",
       "2021-10-01    0.999965\n",
       "2022-04-01    0.999971\n",
       "2022-10-01    0.999965\n",
       "2023-04-01    0.999934\n",
       "2023-10-01    0.999937\n",
       "2024-04-01    0.999936\n",
       "2024-10-01    0.999948\n",
       "2025-04-01    0.999969\n",
       "2025-10-01    0.999941\n",
       "2026-04-01    0.999946\n",
       "2026-10-01    0.999977\n",
       "2027-04-01    0.999968\n",
       "2027-10-01    0.999980\n",
       "2028-04-01    0.999943\n",
       "2028-10-01    0.999949\n",
       "2029-04-01    0.999987\n",
       "2029-10-01    0.999965\n",
       "2030-04-01    0.999966\n",
       "2030-10-01    0.999952\n",
       "2031-04-01    0.999962\n",
       "2031-10-01    0.999954\n",
       "2032-04-01    0.999936\n",
       "2032-10-01    0.999960\n",
       "2033-04-01    0.999971\n",
       "2033-10-01    0.999982\n",
       "2034-04-01    0.999963\n",
       "2034-10-01    0.999966\n",
       "2035-04-01    0.999955\n",
       "2035-10-01    0.999973\n",
       "2036-04-01    0.999985\n",
       "2036-10-01    0.999994\n",
       "2037-04-01    0.999973\n",
       "2037-10-01    0.999955\n",
       "2038-04-01    0.999951\n",
       "2038-10-01    0.999987\n",
       "2039-04-01    0.999973\n",
       "2039-10-01    0.999977\n",
       "2040-04-01    0.999977\n",
       "2040-10-01    0.999954\n",
       "Name: frequency_tips, dtype: float64"
      ]
     },
     "execution_count": 35,
     "metadata": {},
     "output_type": "execute_result"
    }
   ],
   "source": [
    "future_clades_for_current_timepoints.merge(\n",
    "    tips_to_clades,\n",
    "    left_on=[\"future_timepoint\", \"clade_membership\"],\n",
    "    right_on=[\"timepoint\", \"clade_membership\"],\n",
    "    suffixes=[\"\", \"_future\"]\n",
    ").drop(columns=[\"timepoint_future\"]).sort_values([\"timepoint\", \"tip\", \"depth\"]).groupby([\n",
    "    \"timepoint\", \"future_timepoint\", \"tip\"\n",
    "]).first().reset_index().merge(\n",
    "    tips,\n",
    "    left_on=[\"future_timepoint\", \"tip\"],\n",
    "    right_on=[\"timepoint\", \"strain\"],\n",
    "    suffixes=[\"\", \"_tips\"]\n",
    ").groupby([\"future_timepoint\"])[\"frequency_tips\"].sum()"
   ]
  },
  {
   "cell_type": "code",
   "execution_count": null,
   "metadata": {},
   "outputs": [],
   "source": []
  },
  {
   "cell_type": "markdown",
   "metadata": {},
   "source": [
    "## Find large clades\n",
    "\n",
    "Find all clades with an initial frequency some minimum value (e.g., >15%)."
   ]
  },
  {
   "cell_type": "code",
   "execution_count": null,
   "metadata": {},
   "outputs": [],
   "source": [
    "tips.head()"
   ]
  },
  {
   "cell_type": "code",
   "execution_count": null,
   "metadata": {},
   "outputs": [],
   "source": [
    "clade_tip_initial_frequencies = tips_to_clades.merge(\n",
    "    tips,\n",
    "    how=\"left\",\n",
    "    left_on=[\"tip\"],\n",
    "    right_on=[\"strain\"]\n",
    ").drop(columns=[\"strain\"])"
   ]
  },
  {
   "cell_type": "code",
   "execution_count": null,
   "metadata": {},
   "outputs": [],
   "source": [
    "clade_tip_initial_frequencies[\"frequency\"] = clade_tip_initial_frequencies[\"frequency\"].fillna(0.0)"
   ]
  },
  {
   "cell_type": "code",
   "execution_count": null,
   "metadata": {},
   "outputs": [],
   "source": [
    "clade_tip_initial_frequencies.head()"
   ]
  },
  {
   "cell_type": "code",
   "execution_count": null,
   "metadata": {},
   "outputs": [],
   "source": [
    "initial_clade_frequencies = clade_tip_initial_frequencies.groupby([\"timepoint\", \"clade_membership\"])[\"frequency\"].sum().reset_index()"
   ]
  },
  {
   "cell_type": "code",
   "execution_count": null,
   "metadata": {},
   "outputs": [],
   "source": [
    "initial_clade_frequencies.head()"
   ]
  },
  {
   "cell_type": "code",
   "execution_count": null,
   "metadata": {},
   "outputs": [],
   "source": [
    "initial_clade_frequencies.query(\"clade_membership == 'c139e7c'\")"
   ]
  },
  {
   "cell_type": "code",
   "execution_count": null,
   "metadata": {},
   "outputs": [],
   "source": [
    "initial_clades = initial_clade_frequencies.query(\"frequency > 0.15 & timepoint >= '2002-10-01' & timepoint < '2015-04-01'\").copy()"
   ]
  },
  {
   "cell_type": "code",
   "execution_count": null,
   "metadata": {},
   "outputs": [],
   "source": [
    "initial_clades.head()"
   ]
  },
  {
   "cell_type": "code",
   "execution_count": null,
   "metadata": {},
   "outputs": [],
   "source": [
    "initial_clades.tail()"
   ]
  },
  {
   "cell_type": "code",
   "execution_count": null,
   "metadata": {},
   "outputs": [],
   "source": [
    "initial_clades.shape"
   ]
  },
  {
   "cell_type": "code",
   "execution_count": null,
   "metadata": {},
   "outputs": [],
   "source": [
    "initial_clades[initial_clades[\"clade_membership\"] == \"c139e7c\"]"
   ]
  },
  {
   "cell_type": "markdown",
   "metadata": {},
   "source": [
    "## Find future frequencies of large clades"
   ]
  },
  {
   "cell_type": "code",
   "execution_count": null,
   "metadata": {},
   "outputs": [],
   "source": [
    "initial_clades[\"final_timepoint\"] = initial_clades[\"timepoint\"] + pd.DateOffset(months=12)"
   ]
  },
  {
   "cell_type": "code",
   "execution_count": null,
   "metadata": {},
   "outputs": [],
   "source": [
    "initial_and_observed_clade_frequencies = initial_clades.merge(\n",
    "    clade_tip_initial_frequencies,\n",
    "    left_on=[\"final_timepoint\", \"clade_membership\"],\n",
    "    right_on=[\"timepoint\", \"clade_membership\"],\n",
    "    suffixes=[\"\", \"_final\"]\n",
    ").groupby([\"timepoint\", \"clade_membership\", \"frequency\"])[\"frequency_final\"].sum().reset_index()"
   ]
  },
  {
   "cell_type": "code",
   "execution_count": null,
   "metadata": {},
   "outputs": [],
   "source": [
    "initial_and_observed_clade_frequencies.shape"
   ]
  },
  {
   "cell_type": "code",
   "execution_count": null,
   "metadata": {},
   "outputs": [],
   "source": [
    "initial_and_observed_clade_frequencies.head()"
   ]
  },
  {
   "cell_type": "code",
   "execution_count": null,
   "metadata": {},
   "outputs": [],
   "source": [
    "initial_and_observed_clade_frequencies.query(\"clade_membership == 'c139e7c'\")"
   ]
  },
  {
   "cell_type": "code",
   "execution_count": null,
   "metadata": {},
   "outputs": [],
   "source": [
    "initial_and_observed_clade_frequencies[\"observed_growth_rate\"] = (\n",
    "    initial_and_observed_clade_frequencies[\"frequency_final\"] / initial_and_observed_clade_frequencies[\"frequency\"]\n",
    ")"
   ]
  },
  {
   "cell_type": "code",
   "execution_count": null,
   "metadata": {},
   "outputs": [],
   "source": [
    "initial_and_observed_clade_frequencies.head()"
   ]
  },
  {
   "cell_type": "code",
   "execution_count": null,
   "metadata": {},
   "outputs": [],
   "source": [
    "alt.Chart(initial_and_observed_clade_frequencies).mark_rect().encode(\n",
    "    x=alt.X(\"observed_growth_rate:Q\", bin=True, title=\"Observed growth rate\"),\n",
    "    y=\"count()\"\n",
    ")"
   ]
  },
  {
   "cell_type": "markdown",
   "metadata": {},
   "source": [
    "## Find estimated future frequencies of large clades\n",
    "\n",
    "Use the LBI model as an example, first."
   ]
  },
  {
   "cell_type": "code",
   "execution_count": null,
   "metadata": {},
   "outputs": [],
   "source": [
    "clade_tip_estimated_frequencies = tips_to_clades.merge(\n",
    "    forecasts,\n",
    "    how=\"left\",\n",
    "    left_on=[\"tip\"],\n",
    "    right_on=[\"strain\"]\n",
    ").drop(columns=[\"strain\", \"fitness\"])"
   ]
  },
  {
   "cell_type": "code",
   "execution_count": null,
   "metadata": {},
   "outputs": [],
   "source": [
    "clade_tip_estimated_frequencies.head()"
   ]
  },
  {
   "cell_type": "code",
   "execution_count": null,
   "metadata": {},
   "outputs": [],
   "source": [
    "clade_tip_estimated_frequencies[\"frequency\"] = clade_tip_estimated_frequencies[\"frequency\"].fillna(0.0)\n",
    "clade_tip_estimated_frequencies[\"projected_frequency\"] = clade_tip_estimated_frequencies[\"projected_frequency\"].fillna(0.0)"
   ]
  },
  {
   "cell_type": "code",
   "execution_count": null,
   "metadata": {},
   "outputs": [],
   "source": [
    "clade_tip_estimated_frequencies.head()"
   ]
  },
  {
   "cell_type": "code",
   "execution_count": null,
   "metadata": {},
   "outputs": [],
   "source": [
    "estimated_clade_frequencies = clade_tip_estimated_frequencies.groupby(\n",
    "    [\"timepoint\", \"clade_membership\"]\n",
    ").aggregate({\"projected_frequency\": \"sum\", \"frequency\": \"sum\"}).reset_index()"
   ]
  },
  {
   "cell_type": "code",
   "execution_count": null,
   "metadata": {},
   "outputs": [],
   "source": [
    "estimated_clade_frequencies.head()"
   ]
  },
  {
   "cell_type": "code",
   "execution_count": null,
   "metadata": {},
   "outputs": [],
   "source": [
    "complete_clade_frequencies = initial_and_observed_clade_frequencies.merge(\n",
    "    estimated_clade_frequencies,\n",
    "    on=[\"timepoint\", \"clade_membership\"],\n",
    "    suffixes=[\"\", \"_other\"]\n",
    ")"
   ]
  },
  {
   "cell_type": "code",
   "execution_count": null,
   "metadata": {},
   "outputs": [],
   "source": [
    "complete_clade_frequencies[\"estimated_growth_rate\"] = (\n",
    "    complete_clade_frequencies[\"projected_frequency\"] / complete_clade_frequencies[\"frequency\"]\n",
    ")"
   ]
  },
  {
   "cell_type": "code",
   "execution_count": null,
   "metadata": {},
   "outputs": [],
   "source": [
    "complete_clade_frequencies[\"year\"] = complete_clade_frequencies[\"timepoint\"].dt.year"
   ]
  },
  {
   "cell_type": "code",
   "execution_count": null,
   "metadata": {},
   "outputs": [],
   "source": [
    "complete_clade_frequencies.head()"
   ]
  },
  {
   "cell_type": "code",
   "execution_count": null,
   "metadata": {},
   "outputs": [],
   "source": [
    "complete_clade_frequencies.shape"
   ]
  },
  {
   "cell_type": "code",
   "execution_count": null,
   "metadata": {},
   "outputs": [],
   "source": [
    "r, p = pearsonr(\n",
    "    complete_clade_frequencies[\"observed_growth_rate\"],\n",
    "    complete_clade_frequencies[\"estimated_growth_rate\"]\n",
    ")"
   ]
  },
  {
   "cell_type": "code",
   "execution_count": null,
   "metadata": {},
   "outputs": [],
   "source": [
    "mcc, confusion_matrix = get_matthews_correlation_coefficient_for_data_frame(complete_clade_frequencies, True)"
   ]
  },
  {
   "cell_type": "code",
   "execution_count": null,
   "metadata": {},
   "outputs": [],
   "source": [
    "mcc"
   ]
  },
  {
   "cell_type": "code",
   "execution_count": null,
   "metadata": {},
   "outputs": [],
   "source": [
    "growth_accuracy = confusion_matrix[\"tp\"] / float(confusion_matrix[\"tp\"] + confusion_matrix[\"fp\"])\n",
    "growth_accuracy"
   ]
  },
  {
   "cell_type": "code",
   "execution_count": null,
   "metadata": {},
   "outputs": [],
   "source": [
    "decline_accuracy = confusion_matrix[\"tn\"] / float(confusion_matrix[\"tn\"] + confusion_matrix[\"fn\"])\n",
    "decline_accuracy"
   ]
  },
  {
   "cell_type": "code",
   "execution_count": null,
   "metadata": {},
   "outputs": [],
   "source": [
    "min_growth_rate = 0\n",
    "max_growth_rate = complete_clade_frequencies.loc[:, [\"observed_growth_rate\", \"estimated_growth_rate\"]].max().max() + 0.2"
   ]
  },
  {
   "cell_type": "code",
   "execution_count": null,
   "metadata": {},
   "outputs": [],
   "source": [
    "pseudofrequency = 0.001"
   ]
  },
  {
   "cell_type": "code",
   "execution_count": null,
   "metadata": {},
   "outputs": [],
   "source": [
    "complete_clade_frequencies[\"log_observed_growth_rate\"] = (\n",
    "    np.log10((complete_clade_frequencies[\"frequency_final\"] + pseudofrequency) / (complete_clade_frequencies[\"frequency\"] + pseudofrequency))\n",
    ")\n",
    "\n",
    "complete_clade_frequencies[\"log_estimated_growth_rate\"] = (\n",
    "    np.log10((complete_clade_frequencies[\"projected_frequency\"] + pseudofrequency) / (complete_clade_frequencies[\"frequency\"] + pseudofrequency))\n",
    ")"
   ]
  },
  {
   "cell_type": "code",
   "execution_count": null,
   "metadata": {},
   "outputs": [],
   "source": [
    "plt.plot(complete_clade_frequencies[\"log_observed_growth_rate\"], complete_clade_frequencies[\"log_estimated_growth_rate\"], \"o\")"
   ]
  },
  {
   "cell_type": "code",
   "execution_count": null,
   "metadata": {},
   "outputs": [],
   "source": [
    "#complete_clade_frequencies[\"log_observed_growth_rate\"] = np.log(complete_clade_frequencies[\"observed_growth_rate\"])\n",
    "#complete_clade_frequencies[\"log_estimated_growth_rate\"] = np.log(complete_clade_frequencies[\"estimated_growth_rate\"])"
   ]
  },
  {
   "cell_type": "code",
   "execution_count": null,
   "metadata": {},
   "outputs": [],
   "source": [
    "tooltip_attributes = [\"observed_growth_rate:Q\", \"estimated_growth_rate:Q\", \"timepoint:N\", \"frequency:Q\", \"frequency_final:Q\",\n",
    "                      \"projected_frequency:Q\", \"clade_membership:N\"]\n",
    "\n",
    "chart = alt.Chart(complete_clade_frequencies).mark_circle().encode(\n",
    "    alt.X(\"observed_growth_rate:Q\", scale=alt.Scale(domain=(min_growth_rate, max_growth_rate))),\n",
    "    alt.Y(\"estimated_growth_rate:Q\", scale=alt.Scale(domain=(min_growth_rate, max_growth_rate))),\n",
    "    alt.Tooltip(tooltip_attributes)\n",
    ").properties(\n",
    "    width=400,\n",
    "    height=400,\n",
    "    title=\"Forecasts by LBI: Pearson's R = %.2f, MCC = %.2f\" % (r, mcc)\n",
    ")\n",
    "\n",
    "chart.save(\"forecast_growth_correlation_natural_lbi.svg\")\n",
    "chart"
   ]
  },
  {
   "cell_type": "code",
   "execution_count": null,
   "metadata": {},
   "outputs": [],
   "source": [
    "complete_clade_frequencies.head()"
   ]
  },
  {
   "cell_type": "code",
   "execution_count": null,
   "metadata": {},
   "outputs": [],
   "source": [
    "upper_limit = np.ceil(complete_clade_frequencies.loc[:, [\"observed_growth_rate\", \"estimated_growth_rate\"]].max().max())\n",
    "\n",
    "log_lower_limit = complete_clade_frequencies.loc[:, [\"log_observed_growth_rate\", \"log_estimated_growth_rate\"]].min().min() - 0.1\n",
    "log_upper_limit = np.ceil(complete_clade_frequencies.loc[:, [\"log_observed_growth_rate\", \"log_estimated_growth_rate\"]].max().max()) + 0.1"
   ]
  },
  {
   "cell_type": "code",
   "execution_count": null,
   "metadata": {},
   "outputs": [],
   "source": [
    "tooltip_attributes = [\"observed_growth_rate:Q\", \"estimated_growth_rate:Q\", \"timepoint:N\", \"frequency:Q\", \"frequency_final:Q\",\n",
    "                      \"projected_frequency:Q\", \"clade_membership:N\"]\n",
    "\n",
    "chart = alt.Chart(complete_clade_frequencies).mark_circle().encode(\n",
    "    alt.X(\"log_observed_growth_rate:Q\", scale=alt.Scale(domain=(log_lower_limit, log_upper_limit))),\n",
    "    alt.Y(\"log_estimated_growth_rate:Q\", scale=alt.Scale(domain=(log_lower_limit, log_upper_limit))),\n",
    "    alt.Color(\"timepoint:N\"),\n",
    "    alt.Tooltip(tooltip_attributes)\n",
    ").properties(\n",
    "    width=400,\n",
    "    height=400,\n",
    "    title=\"Forecasts by LBI: Pearson's R = %.2f, MCC = %.2f\" % (r, mcc)\n",
    ")\n",
    "\n",
    "#chart.save(\"forecast_log_growth_correlation_natural_lbi.svg\")\n",
    "chart"
   ]
  },
  {
   "cell_type": "code",
   "execution_count": null,
   "metadata": {},
   "outputs": [],
   "source": [
    "log_lower_limit"
   ]
  },
  {
   "cell_type": "code",
   "execution_count": null,
   "metadata": {},
   "outputs": [],
   "source": [
    "complete_clade_frequencies.loc[:, [\"log_observed_growth_rate\", \"log_estimated_growth_rate\"]].min().min()"
   ]
  },
  {
   "cell_type": "code",
   "execution_count": null,
   "metadata": {},
   "outputs": [],
   "source": [
    "r, p = pearsonr(\n",
    "    complete_clade_frequencies[\"log_observed_growth_rate\"],\n",
    "    complete_clade_frequencies[\"log_estimated_growth_rate\"]\n",
    ")"
   ]
  },
  {
   "cell_type": "code",
   "execution_count": null,
   "metadata": {},
   "outputs": [],
   "source": [
    "r"
   ]
  },
  {
   "cell_type": "code",
   "execution_count": null,
   "metadata": {},
   "outputs": [],
   "source": [
    "p"
   ]
  },
  {
   "cell_type": "code",
   "execution_count": null,
   "metadata": {},
   "outputs": [],
   "source": [
    "pearsonr(\n",
    "    complete_clade_frequencies[\"observed_growth_rate\"],\n",
    "    complete_clade_frequencies[\"estimated_growth_rate\"]\n",
    ")"
   ]
  },
  {
   "cell_type": "code",
   "execution_count": null,
   "metadata": {},
   "outputs": [],
   "source": [
    "fig, ax = plt.subplots(1, 1, figsize=(6, 6))\n",
    "ax.plot(\n",
    "    complete_clade_frequencies[\"log_observed_growth_rate\"],\n",
    "    complete_clade_frequencies[\"log_estimated_growth_rate\"],\n",
    "    \"o\",\n",
    "    alpha=0.4\n",
    ")\n",
    "\n",
    "ax.axhline(color=\"#cccccc\", zorder=-5)\n",
    "ax.axvline(color=\"#cccccc\", zorder=-5)\n",
    "\n",
    "if p < 0.001:\n",
    "    p_value = \"$p$ < 0.001\"\n",
    "else:\n",
    "    p_value = \"$p$ = %.3f\" % p\n",
    "\n",
    "ax.text(\n",
    "    0.02,\n",
    "    0.9,\n",
    "    \"Growth accuracy = %.2f\\nDecline accuracy = %.2f\\n$R$ = %.2f\\n%s\" % (growth_accuracy, decline_accuracy, r, p_value),\n",
    "    fontsize=12,\n",
    "    horizontalalignment=\"left\",\n",
    "    verticalalignment=\"center\",\n",
    "    transform=ax.transAxes\n",
    ")\n",
    "\n",
    "ax.set_xlabel(\"Observed $log_{10}$ growth rate\")\n",
    "ax.set_ylabel(\"Estimated $log_{10}$ growth rate\")\n",
    "ax.set_title(\"Validation of LBI + HI tree + non-epitope mutations model\", fontsize=12)\n",
    "\n",
    "ticks = np.arange(-6, 4, 1)\n",
    "ax.set_xticks(ticks)\n",
    "ax.set_yticks(ticks)\n",
    "\n",
    "ax.set_xlim(log_lower_limit, log_upper_limit)\n",
    "ax.set_ylim(log_lower_limit, log_upper_limit)\n",
    "ax.set_aspect(\"equal\")\n",
    "\n",
    "plt.savefig(\"../manuscript/figures/validation-of-best-model-for-natural-populations.pdf\")"
   ]
  },
  {
   "cell_type": "code",
   "execution_count": null,
   "metadata": {},
   "outputs": [],
   "source": [
    "complete_clade_frequencies.shape"
   ]
  },
  {
   "cell_type": "code",
   "execution_count": null,
   "metadata": {},
   "outputs": [],
   "source": [
    "initial_and_observed_clade_frequencies.query(\"clade_membership == 'c139e7c'\")"
   ]
  },
  {
   "cell_type": "code",
   "execution_count": null,
   "metadata": {},
   "outputs": [],
   "source": []
  }
 ],
 "metadata": {
  "kernelspec": {
   "display_name": "Python 3",
   "language": "python",
   "name": "python3"
  },
  "language_info": {
   "codemirror_mode": {
    "name": "ipython",
    "version": 3
   },
   "file_extension": ".py",
   "mimetype": "text/x-python",
   "name": "python",
   "nbconvert_exporter": "python",
   "pygments_lexer": "ipython3",
   "version": "3.6.7"
  }
 },
 "nbformat": 4,
 "nbformat_minor": 4
}
