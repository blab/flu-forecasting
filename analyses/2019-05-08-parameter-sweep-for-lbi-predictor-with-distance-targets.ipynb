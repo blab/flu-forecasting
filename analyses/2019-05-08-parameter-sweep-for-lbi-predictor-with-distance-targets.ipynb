{
 "cells": [
  {
   "cell_type": "markdown",
   "metadata": {},
   "source": [
    "# Parameter sweep for LBI predictor\n",
    "\n",
    "Load flu tip attributes and final clade frequencies and then calculate the error of an exponential growth model based on just the LBI predictor across a range of predictor coefficients. The goal is to determine the shape of the error function that is exposed to scipy's optimization machinery."
   ]
  },
  {
   "cell_type": "code",
   "execution_count": 1,
   "metadata": {},
   "outputs": [],
   "source": [
    "import matplotlib.pyplot as plt\n",
    "import numpy as np\n",
    "import pandas as pd\n",
    "import sys\n",
    "\n",
    "%matplotlib inline\n",
    "\n",
    "plt.style.use(\"huddlej\")"
   ]
  },
  {
   "cell_type": "code",
   "execution_count": 2,
   "metadata": {},
   "outputs": [
    {
     "data": {
      "text/plain": [
       "'/Users/jlhudd/projects/nextstrain/flu-forecasting/analyses'"
      ]
     },
     "execution_count": 2,
     "metadata": {},
     "output_type": "execute_result"
    }
   ],
   "source": [
    "pwd"
   ]
  },
  {
   "cell_type": "code",
   "execution_count": 3,
   "metadata": {},
   "outputs": [],
   "source": [
    "sys.path.insert(0, \"../src\")"
   ]
  },
  {
   "cell_type": "code",
   "execution_count": 4,
   "metadata": {},
   "outputs": [],
   "source": [
    "from fit_model import DistanceExponentialGrowthModel, sum_of_differences\n",
    "from weighted_distances import get_distances_by_sample_names"
   ]
  },
  {
   "cell_type": "markdown",
   "metadata": {},
   "source": [
    "## Load data"
   ]
  },
  {
   "cell_type": "markdown",
   "metadata": {},
   "source": [
    "Define the range of possible coefficient values to explore."
   ]
  },
  {
   "cell_type": "code",
   "execution_count": 5,
   "metadata": {},
   "outputs": [],
   "source": [
    "coefficients = np.linspace(-15, 15, 31)"
   ]
  },
  {
   "cell_type": "code",
   "execution_count": 6,
   "metadata": {},
   "outputs": [],
   "source": [
    "delta_time = 1.0\n",
    "l1_lambda = 0.0"
   ]
  },
  {
   "cell_type": "code",
   "execution_count": 7,
   "metadata": {},
   "outputs": [],
   "source": [
    "last_timepoint = pd.to_datetime(\"2014-10-01\")"
   ]
  },
  {
   "cell_type": "code",
   "execution_count": 8,
   "metadata": {},
   "outputs": [],
   "source": [
    "distances = pd.read_csv(\n",
    "    \"../results/builds/h3n2/10_viruses_per_month/sample_0/1994-10-01--2015-10-01/target_distances.tsv\",\n",
    "    sep=\"\\t\"\n",
    ")"
   ]
  },
  {
   "cell_type": "code",
   "execution_count": 9,
   "metadata": {},
   "outputs": [],
   "source": [
    "distances_by_sample = get_distances_by_sample_names(distances)"
   ]
  },
  {
   "cell_type": "code",
   "execution_count": 10,
   "metadata": {},
   "outputs": [],
   "source": [
    "# Load tip attributes.\n",
    "X = pd.read_csv(\n",
    "    \"../results/builds/h3n2/10_viruses_per_month/sample_0/1994-10-01--2015-10-01/tip_attributes_with_weighted_distances.tsv\",\n",
    "    sep=\"\\t\",\n",
    "    parse_dates=[\"timepoint\"]\n",
    ")"
   ]
  },
  {
   "cell_type": "code",
   "execution_count": 11,
   "metadata": {},
   "outputs": [
    {
     "data": {
      "text/plain": [
       "Index(['strain', 'aa_sequence', 'branch_length', 'cTiter', 'cTiterSub',\n",
       "       'cTiterSub_star', 'cTiterSub_x', 'clade_membership', 'clock_length',\n",
       "       'country', 'country_entropy', 'dTiter', 'dTiterSub', 'date',\n",
       "       'delta_frequency', 'dms', 'dms_star', 'ep', 'ep_kratsch_x',\n",
       "       'ep_luksza_x', 'ep_star', 'ep_x', 'lbi', 'mutation_length', 'ne',\n",
       "       'ne_star', 'numdate', 'raw_date', 'rb', 'region', 'region_entropy',\n",
       "       'is_terminal', 'timepoint', 'lineage', 'segment', 'frequency', 'naive',\n",
       "       'weighted_distance_to_future', 'weighted_distance_to_present',\n",
       "       'log2_distance_effect'],\n",
       "      dtype='object')"
      ]
     },
     "execution_count": 11,
     "metadata": {},
     "output_type": "execute_result"
    }
   ],
   "source": [
    "X.columns"
   ]
  },
  {
   "cell_type": "code",
   "execution_count": 12,
   "metadata": {},
   "outputs": [],
   "source": [
    "X = X.loc[:, [\"strain\", \"clade_membership\", \"timepoint\", \"cTiterSub_x\", \"lbi\", \"ep\", \"ep_x\", \"ne\", \"delta_frequency\", \"frequency\",\n",
    "              \"weighted_distance_to_present\", \"weighted_distance_to_future\"]].copy()"
   ]
  },
  {
   "cell_type": "code",
   "execution_count": 13,
   "metadata": {},
   "outputs": [
    {
     "data": {
      "text/html": [
       "<div>\n",
       "<style scoped>\n",
       "    .dataframe tbody tr th:only-of-type {\n",
       "        vertical-align: middle;\n",
       "    }\n",
       "\n",
       "    .dataframe tbody tr th {\n",
       "        vertical-align: top;\n",
       "    }\n",
       "\n",
       "    .dataframe thead th {\n",
       "        text-align: right;\n",
       "    }\n",
       "</style>\n",
       "<table border=\"1\" class=\"dataframe\">\n",
       "  <thead>\n",
       "    <tr style=\"text-align: right;\">\n",
       "      <th></th>\n",
       "      <th>strain</th>\n",
       "      <th>clade_membership</th>\n",
       "      <th>timepoint</th>\n",
       "      <th>cTiterSub_x</th>\n",
       "      <th>lbi</th>\n",
       "      <th>ep</th>\n",
       "      <th>ep_x</th>\n",
       "      <th>ne</th>\n",
       "      <th>delta_frequency</th>\n",
       "      <th>frequency</th>\n",
       "      <th>weighted_distance_to_present</th>\n",
       "      <th>weighted_distance_to_future</th>\n",
       "    </tr>\n",
       "  </thead>\n",
       "  <tbody>\n",
       "    <tr>\n",
       "      <th>0</th>\n",
       "      <td>A/Geneva/A9509/1995</td>\n",
       "      <td>35491c6</td>\n",
       "      <td>1995-10-01</td>\n",
       "      <td>-0.0</td>\n",
       "      <td>0.428328</td>\n",
       "      <td>9</td>\n",
       "      <td>-0.0</td>\n",
       "      <td>1</td>\n",
       "      <td>0.967894</td>\n",
       "      <td>0.004688</td>\n",
       "      <td>8.067983</td>\n",
       "      <td>13.840217</td>\n",
       "    </tr>\n",
       "    <tr>\n",
       "      <th>1</th>\n",
       "      <td>A/HongKong/49/1995</td>\n",
       "      <td>35491c6</td>\n",
       "      <td>1995-10-01</td>\n",
       "      <td>-0.0</td>\n",
       "      <td>0.401610</td>\n",
       "      <td>8</td>\n",
       "      <td>-0.0</td>\n",
       "      <td>0</td>\n",
       "      <td>0.967894</td>\n",
       "      <td>0.153221</td>\n",
       "      <td>6.221413</td>\n",
       "      <td>10.089619</td>\n",
       "    </tr>\n",
       "    <tr>\n",
       "      <th>2</th>\n",
       "      <td>A/Malaysia/7145/1995</td>\n",
       "      <td>35491c6</td>\n",
       "      <td>1995-10-01</td>\n",
       "      <td>-0.0</td>\n",
       "      <td>0.420684</td>\n",
       "      <td>11</td>\n",
       "      <td>-0.0</td>\n",
       "      <td>2</td>\n",
       "      <td>0.967894</td>\n",
       "      <td>0.182468</td>\n",
       "      <td>7.812880</td>\n",
       "      <td>14.282611</td>\n",
       "    </tr>\n",
       "    <tr>\n",
       "      <th>3</th>\n",
       "      <td>A/Malaysia/7831/1995</td>\n",
       "      <td>35491c6</td>\n",
       "      <td>1995-10-01</td>\n",
       "      <td>-0.0</td>\n",
       "      <td>0.389375</td>\n",
       "      <td>10</td>\n",
       "      <td>-0.0</td>\n",
       "      <td>1</td>\n",
       "      <td>0.967894</td>\n",
       "      <td>0.100902</td>\n",
       "      <td>8.626524</td>\n",
       "      <td>6.363209</td>\n",
       "    </tr>\n",
       "    <tr>\n",
       "      <th>4</th>\n",
       "      <td>A/Malaysia/7832/1995</td>\n",
       "      <td>35491c6</td>\n",
       "      <td>1995-10-01</td>\n",
       "      <td>-0.0</td>\n",
       "      <td>0.345868</td>\n",
       "      <td>13</td>\n",
       "      <td>-0.0</td>\n",
       "      <td>3</td>\n",
       "      <td>0.967894</td>\n",
       "      <td>0.100902</td>\n",
       "      <td>10.370533</td>\n",
       "      <td>16.322163</td>\n",
       "    </tr>\n",
       "  </tbody>\n",
       "</table>\n",
       "</div>"
      ],
      "text/plain": [
       "                 strain clade_membership  timepoint  cTiterSub_x       lbi  \\\n",
       "0   A/Geneva/A9509/1995          35491c6 1995-10-01         -0.0  0.428328   \n",
       "1    A/HongKong/49/1995          35491c6 1995-10-01         -0.0  0.401610   \n",
       "2  A/Malaysia/7145/1995          35491c6 1995-10-01         -0.0  0.420684   \n",
       "3  A/Malaysia/7831/1995          35491c6 1995-10-01         -0.0  0.389375   \n",
       "4  A/Malaysia/7832/1995          35491c6 1995-10-01         -0.0  0.345868   \n",
       "\n",
       "   ep  ep_x  ne  delta_frequency  frequency  weighted_distance_to_present  \\\n",
       "0   9  -0.0   1         0.967894   0.004688                      8.067983   \n",
       "1   8  -0.0   0         0.967894   0.153221                      6.221413   \n",
       "2  11  -0.0   2         0.967894   0.182468                      7.812880   \n",
       "3  10  -0.0   1         0.967894   0.100902                      8.626524   \n",
       "4  13  -0.0   3         0.967894   0.100902                     10.370533   \n",
       "\n",
       "   weighted_distance_to_future  \n",
       "0                    13.840217  \n",
       "1                    10.089619  \n",
       "2                    14.282611  \n",
       "3                     6.363209  \n",
       "4                    16.322163  "
      ]
     },
     "execution_count": 13,
     "metadata": {},
     "output_type": "execute_result"
    }
   ],
   "source": [
    "X.head()"
   ]
  },
  {
   "cell_type": "code",
   "execution_count": 14,
   "metadata": {},
   "outputs": [
    {
     "data": {
      "text/plain": [
       "(4498, 12)"
      ]
     },
     "execution_count": 14,
     "metadata": {},
     "output_type": "execute_result"
    }
   ],
   "source": [
    "X.shape"
   ]
  },
  {
   "cell_type": "code",
   "execution_count": 15,
   "metadata": {},
   "outputs": [],
   "source": [
    "X = X[~pd.isnull(X[\"weighted_distance_to_present\"])].copy()"
   ]
  },
  {
   "cell_type": "code",
   "execution_count": 16,
   "metadata": {},
   "outputs": [
    {
     "data": {
      "text/plain": [
       "(3946, 12)"
      ]
     },
     "execution_count": 16,
     "metadata": {},
     "output_type": "execute_result"
    }
   ],
   "source": [
    "X.shape"
   ]
  },
  {
   "cell_type": "code",
   "execution_count": 17,
   "metadata": {},
   "outputs": [],
   "source": [
    "X[\"y\"] = X[\"weighted_distance_to_future\"]"
   ]
  },
  {
   "cell_type": "code",
   "execution_count": 18,
   "metadata": {},
   "outputs": [],
   "source": [
    "y = X.loc[:, [\"strain\", \"timepoint\", \"y\", \"frequency\", \"weighted_distance_to_future\"]].copy()"
   ]
  },
  {
   "cell_type": "code",
   "execution_count": 19,
   "metadata": {},
   "outputs": [],
   "source": [
    "y[\"timepoint\"] = y[\"timepoint\"] - pd.DateOffset(months=12)"
   ]
  },
  {
   "cell_type": "code",
   "execution_count": 20,
   "metadata": {},
   "outputs": [
    {
     "data": {
      "text/html": [
       "<div>\n",
       "<style scoped>\n",
       "    .dataframe tbody tr th:only-of-type {\n",
       "        vertical-align: middle;\n",
       "    }\n",
       "\n",
       "    .dataframe tbody tr th {\n",
       "        vertical-align: top;\n",
       "    }\n",
       "\n",
       "    .dataframe thead th {\n",
       "        text-align: right;\n",
       "    }\n",
       "</style>\n",
       "<table border=\"1\" class=\"dataframe\">\n",
       "  <thead>\n",
       "    <tr style=\"text-align: right;\">\n",
       "      <th></th>\n",
       "      <th>strain</th>\n",
       "      <th>clade_membership</th>\n",
       "      <th>timepoint</th>\n",
       "      <th>cTiterSub_x</th>\n",
       "      <th>lbi</th>\n",
       "      <th>ep</th>\n",
       "      <th>ep_x</th>\n",
       "      <th>ne</th>\n",
       "      <th>delta_frequency</th>\n",
       "      <th>frequency</th>\n",
       "      <th>weighted_distance_to_present</th>\n",
       "      <th>weighted_distance_to_future</th>\n",
       "      <th>y</th>\n",
       "    </tr>\n",
       "  </thead>\n",
       "  <tbody>\n",
       "    <tr>\n",
       "      <th>0</th>\n",
       "      <td>A/Geneva/A9509/1995</td>\n",
       "      <td>35491c6</td>\n",
       "      <td>1995-10-01</td>\n",
       "      <td>-0.0</td>\n",
       "      <td>0.428328</td>\n",
       "      <td>9</td>\n",
       "      <td>-0.0</td>\n",
       "      <td>1</td>\n",
       "      <td>0.967894</td>\n",
       "      <td>0.004688</td>\n",
       "      <td>8.067983</td>\n",
       "      <td>13.840217</td>\n",
       "      <td>13.840217</td>\n",
       "    </tr>\n",
       "    <tr>\n",
       "      <th>1</th>\n",
       "      <td>A/HongKong/49/1995</td>\n",
       "      <td>35491c6</td>\n",
       "      <td>1995-10-01</td>\n",
       "      <td>-0.0</td>\n",
       "      <td>0.401610</td>\n",
       "      <td>8</td>\n",
       "      <td>-0.0</td>\n",
       "      <td>0</td>\n",
       "      <td>0.967894</td>\n",
       "      <td>0.153221</td>\n",
       "      <td>6.221413</td>\n",
       "      <td>10.089619</td>\n",
       "      <td>10.089619</td>\n",
       "    </tr>\n",
       "    <tr>\n",
       "      <th>2</th>\n",
       "      <td>A/Malaysia/7145/1995</td>\n",
       "      <td>35491c6</td>\n",
       "      <td>1995-10-01</td>\n",
       "      <td>-0.0</td>\n",
       "      <td>0.420684</td>\n",
       "      <td>11</td>\n",
       "      <td>-0.0</td>\n",
       "      <td>2</td>\n",
       "      <td>0.967894</td>\n",
       "      <td>0.182468</td>\n",
       "      <td>7.812880</td>\n",
       "      <td>14.282611</td>\n",
       "      <td>14.282611</td>\n",
       "    </tr>\n",
       "    <tr>\n",
       "      <th>3</th>\n",
       "      <td>A/Malaysia/7831/1995</td>\n",
       "      <td>35491c6</td>\n",
       "      <td>1995-10-01</td>\n",
       "      <td>-0.0</td>\n",
       "      <td>0.389375</td>\n",
       "      <td>10</td>\n",
       "      <td>-0.0</td>\n",
       "      <td>1</td>\n",
       "      <td>0.967894</td>\n",
       "      <td>0.100902</td>\n",
       "      <td>8.626524</td>\n",
       "      <td>6.363209</td>\n",
       "      <td>6.363209</td>\n",
       "    </tr>\n",
       "    <tr>\n",
       "      <th>4</th>\n",
       "      <td>A/Malaysia/7832/1995</td>\n",
       "      <td>35491c6</td>\n",
       "      <td>1995-10-01</td>\n",
       "      <td>-0.0</td>\n",
       "      <td>0.345868</td>\n",
       "      <td>13</td>\n",
       "      <td>-0.0</td>\n",
       "      <td>3</td>\n",
       "      <td>0.967894</td>\n",
       "      <td>0.100902</td>\n",
       "      <td>10.370533</td>\n",
       "      <td>16.322163</td>\n",
       "      <td>16.322163</td>\n",
       "    </tr>\n",
       "  </tbody>\n",
       "</table>\n",
       "</div>"
      ],
      "text/plain": [
       "                 strain clade_membership  timepoint  cTiterSub_x       lbi  \\\n",
       "0   A/Geneva/A9509/1995          35491c6 1995-10-01         -0.0  0.428328   \n",
       "1    A/HongKong/49/1995          35491c6 1995-10-01         -0.0  0.401610   \n",
       "2  A/Malaysia/7145/1995          35491c6 1995-10-01         -0.0  0.420684   \n",
       "3  A/Malaysia/7831/1995          35491c6 1995-10-01         -0.0  0.389375   \n",
       "4  A/Malaysia/7832/1995          35491c6 1995-10-01         -0.0  0.345868   \n",
       "\n",
       "   ep  ep_x  ne  delta_frequency  frequency  weighted_distance_to_present  \\\n",
       "0   9  -0.0   1         0.967894   0.004688                      8.067983   \n",
       "1   8  -0.0   0         0.967894   0.153221                      6.221413   \n",
       "2  11  -0.0   2         0.967894   0.182468                      7.812880   \n",
       "3  10  -0.0   1         0.967894   0.100902                      8.626524   \n",
       "4  13  -0.0   3         0.967894   0.100902                     10.370533   \n",
       "\n",
       "   weighted_distance_to_future          y  \n",
       "0                    13.840217  13.840217  \n",
       "1                    10.089619  10.089619  \n",
       "2                    14.282611  14.282611  \n",
       "3                     6.363209   6.363209  \n",
       "4                    16.322163  16.322163  "
      ]
     },
     "execution_count": 20,
     "metadata": {},
     "output_type": "execute_result"
    }
   ],
   "source": [
    "X.head()"
   ]
  },
  {
   "cell_type": "code",
   "execution_count": 21,
   "metadata": {},
   "outputs": [
    {
     "data": {
      "text/html": [
       "<div>\n",
       "<style scoped>\n",
       "    .dataframe tbody tr th:only-of-type {\n",
       "        vertical-align: middle;\n",
       "    }\n",
       "\n",
       "    .dataframe tbody tr th {\n",
       "        vertical-align: top;\n",
       "    }\n",
       "\n",
       "    .dataframe thead th {\n",
       "        text-align: right;\n",
       "    }\n",
       "</style>\n",
       "<table border=\"1\" class=\"dataframe\">\n",
       "  <thead>\n",
       "    <tr style=\"text-align: right;\">\n",
       "      <th></th>\n",
       "      <th>strain</th>\n",
       "      <th>timepoint</th>\n",
       "      <th>y</th>\n",
       "      <th>frequency</th>\n",
       "      <th>weighted_distance_to_future</th>\n",
       "    </tr>\n",
       "  </thead>\n",
       "  <tbody>\n",
       "    <tr>\n",
       "      <th>0</th>\n",
       "      <td>A/Geneva/A9509/1995</td>\n",
       "      <td>1994-10-01</td>\n",
       "      <td>13.840217</td>\n",
       "      <td>0.004688</td>\n",
       "      <td>13.840217</td>\n",
       "    </tr>\n",
       "    <tr>\n",
       "      <th>1</th>\n",
       "      <td>A/HongKong/49/1995</td>\n",
       "      <td>1994-10-01</td>\n",
       "      <td>10.089619</td>\n",
       "      <td>0.153221</td>\n",
       "      <td>10.089619</td>\n",
       "    </tr>\n",
       "    <tr>\n",
       "      <th>2</th>\n",
       "      <td>A/Malaysia/7145/1995</td>\n",
       "      <td>1994-10-01</td>\n",
       "      <td>14.282611</td>\n",
       "      <td>0.182468</td>\n",
       "      <td>14.282611</td>\n",
       "    </tr>\n",
       "    <tr>\n",
       "      <th>3</th>\n",
       "      <td>A/Malaysia/7831/1995</td>\n",
       "      <td>1994-10-01</td>\n",
       "      <td>6.363209</td>\n",
       "      <td>0.100902</td>\n",
       "      <td>6.363209</td>\n",
       "    </tr>\n",
       "    <tr>\n",
       "      <th>4</th>\n",
       "      <td>A/Malaysia/7832/1995</td>\n",
       "      <td>1994-10-01</td>\n",
       "      <td>16.322163</td>\n",
       "      <td>0.100902</td>\n",
       "      <td>16.322163</td>\n",
       "    </tr>\n",
       "  </tbody>\n",
       "</table>\n",
       "</div>"
      ],
      "text/plain": [
       "                 strain  timepoint          y  frequency  \\\n",
       "0   A/Geneva/A9509/1995 1994-10-01  13.840217   0.004688   \n",
       "1    A/HongKong/49/1995 1994-10-01  10.089619   0.153221   \n",
       "2  A/Malaysia/7145/1995 1994-10-01  14.282611   0.182468   \n",
       "3  A/Malaysia/7831/1995 1994-10-01   6.363209   0.100902   \n",
       "4  A/Malaysia/7832/1995 1994-10-01  16.322163   0.100902   \n",
       "\n",
       "   weighted_distance_to_future  \n",
       "0                    13.840217  \n",
       "1                    10.089619  \n",
       "2                    14.282611  \n",
       "3                     6.363209  \n",
       "4                    16.322163  "
      ]
     },
     "execution_count": 21,
     "metadata": {},
     "output_type": "execute_result"
    }
   ],
   "source": [
    "y.head()"
   ]
  },
  {
   "cell_type": "code",
   "execution_count": 22,
   "metadata": {},
   "outputs": [],
   "source": [
    "X = X[X[\"timepoint\"] <= last_timepoint - pd.DateOffset(months=12)]"
   ]
  },
  {
   "cell_type": "code",
   "execution_count": 23,
   "metadata": {},
   "outputs": [
    {
     "data": {
      "text/html": [
       "<div>\n",
       "<style scoped>\n",
       "    .dataframe tbody tr th:only-of-type {\n",
       "        vertical-align: middle;\n",
       "    }\n",
       "\n",
       "    .dataframe tbody tr th {\n",
       "        vertical-align: top;\n",
       "    }\n",
       "\n",
       "    .dataframe thead th {\n",
       "        text-align: right;\n",
       "    }\n",
       "</style>\n",
       "<table border=\"1\" class=\"dataframe\">\n",
       "  <thead>\n",
       "    <tr style=\"text-align: right;\">\n",
       "      <th></th>\n",
       "      <th>strain</th>\n",
       "      <th>clade_membership</th>\n",
       "      <th>timepoint</th>\n",
       "      <th>cTiterSub_x</th>\n",
       "      <th>lbi</th>\n",
       "      <th>ep</th>\n",
       "      <th>ep_x</th>\n",
       "      <th>ne</th>\n",
       "      <th>delta_frequency</th>\n",
       "      <th>frequency</th>\n",
       "      <th>weighted_distance_to_present</th>\n",
       "      <th>weighted_distance_to_future</th>\n",
       "      <th>y</th>\n",
       "    </tr>\n",
       "  </thead>\n",
       "  <tbody>\n",
       "    <tr>\n",
       "      <th>3428</th>\n",
       "      <td>A/Yokohama/164/2012</td>\n",
       "      <td>a229f16</td>\n",
       "      <td>2013-10-01</td>\n",
       "      <td>-9.715181</td>\n",
       "      <td>0.103880</td>\n",
       "      <td>37</td>\n",
       "      <td>-5.913805</td>\n",
       "      <td>11</td>\n",
       "      <td>-0.445160</td>\n",
       "      <td>0.000008</td>\n",
       "      <td>3.344471</td>\n",
       "      <td>6.243679</td>\n",
       "      <td>6.243679</td>\n",
       "    </tr>\n",
       "    <tr>\n",
       "      <th>3429</th>\n",
       "      <td>A/Yucatan/88/2013</td>\n",
       "      <td>1a16e36</td>\n",
       "      <td>2013-10-01</td>\n",
       "      <td>-9.450625</td>\n",
       "      <td>0.219904</td>\n",
       "      <td>37</td>\n",
       "      <td>-5.186669</td>\n",
       "      <td>11</td>\n",
       "      <td>0.320612</td>\n",
       "      <td>0.008169</td>\n",
       "      <td>2.973871</td>\n",
       "      <td>5.158547</td>\n",
       "      <td>5.158547</td>\n",
       "    </tr>\n",
       "    <tr>\n",
       "      <th>3430</th>\n",
       "      <td>A/Yucatan/94/2013</td>\n",
       "      <td>1a16e36</td>\n",
       "      <td>2013-10-01</td>\n",
       "      <td>-9.450625</td>\n",
       "      <td>0.217509</td>\n",
       "      <td>37</td>\n",
       "      <td>-5.186669</td>\n",
       "      <td>14</td>\n",
       "      <td>0.320612</td>\n",
       "      <td>0.008176</td>\n",
       "      <td>5.924827</td>\n",
       "      <td>8.158523</td>\n",
       "      <td>8.158523</td>\n",
       "    </tr>\n",
       "    <tr>\n",
       "      <th>3431</th>\n",
       "      <td>A/Zambia/13/109/2013</td>\n",
       "      <td>66a66dd</td>\n",
       "      <td>2013-10-01</td>\n",
       "      <td>-9.450625</td>\n",
       "      <td>0.195397</td>\n",
       "      <td>37</td>\n",
       "      <td>-5.186669</td>\n",
       "      <td>11</td>\n",
       "      <td>0.004446</td>\n",
       "      <td>0.005162</td>\n",
       "      <td>2.973871</td>\n",
       "      <td>5.158547</td>\n",
       "      <td>5.158547</td>\n",
       "    </tr>\n",
       "    <tr>\n",
       "      <th>3432</th>\n",
       "      <td>A/Zambia/13/127/2013</td>\n",
       "      <td>66a66dd</td>\n",
       "      <td>2013-10-01</td>\n",
       "      <td>-9.450625</td>\n",
       "      <td>0.174756</td>\n",
       "      <td>37</td>\n",
       "      <td>-4.837141</td>\n",
       "      <td>12</td>\n",
       "      <td>0.004446</td>\n",
       "      <td>0.007805</td>\n",
       "      <td>4.928399</td>\n",
       "      <td>7.054765</td>\n",
       "      <td>7.054765</td>\n",
       "    </tr>\n",
       "  </tbody>\n",
       "</table>\n",
       "</div>"
      ],
      "text/plain": [
       "                    strain clade_membership  timepoint  cTiterSub_x       lbi  \\\n",
       "3428   A/Yokohama/164/2012          a229f16 2013-10-01    -9.715181  0.103880   \n",
       "3429     A/Yucatan/88/2013          1a16e36 2013-10-01    -9.450625  0.219904   \n",
       "3430     A/Yucatan/94/2013          1a16e36 2013-10-01    -9.450625  0.217509   \n",
       "3431  A/Zambia/13/109/2013          66a66dd 2013-10-01    -9.450625  0.195397   \n",
       "3432  A/Zambia/13/127/2013          66a66dd 2013-10-01    -9.450625  0.174756   \n",
       "\n",
       "      ep      ep_x  ne  delta_frequency  frequency  \\\n",
       "3428  37 -5.913805  11        -0.445160   0.000008   \n",
       "3429  37 -5.186669  11         0.320612   0.008169   \n",
       "3430  37 -5.186669  14         0.320612   0.008176   \n",
       "3431  37 -5.186669  11         0.004446   0.005162   \n",
       "3432  37 -4.837141  12         0.004446   0.007805   \n",
       "\n",
       "      weighted_distance_to_present  weighted_distance_to_future         y  \n",
       "3428                      3.344471                     6.243679  6.243679  \n",
       "3429                      2.973871                     5.158547  5.158547  \n",
       "3430                      5.924827                     8.158523  8.158523  \n",
       "3431                      2.973871                     5.158547  5.158547  \n",
       "3432                      4.928399                     7.054765  7.054765  "
      ]
     },
     "execution_count": 23,
     "metadata": {},
     "output_type": "execute_result"
    }
   ],
   "source": [
    "X.tail()"
   ]
  },
  {
   "cell_type": "markdown",
   "metadata": {},
   "source": [
    "## Inspect LBI model"
   ]
  },
  {
   "cell_type": "code",
   "execution_count": 29,
   "metadata": {},
   "outputs": [
    {
     "data": {
      "text/plain": [
       "Text(0,0.5,'Weighted distance')"
      ]
     },
     "execution_count": 29,
     "metadata": {},
     "output_type": "execute_result"
    },
    {
     "data": {
      "image/png": "[encoded data removed]",
      "text/plain": [
       "<Figure size 432x288 with 1 Axes>"
      ]
     },
     "metadata": {
      "needs_background": "light"
     },
     "output_type": "display_data"
    }
   ],
   "source": [
    "predictors = [\"lbi\"]\n",
    "l1_lambda = 0.5\n",
    "\n",
    "model = DistanceExponentialGrowthModel(\n",
    "    predictors=predictors,\n",
    "    delta_time=delta_time,\n",
    "    l1_lambda=l1_lambda,\n",
    "    cost_function=sum_of_differences,\n",
    "    distances=distances_by_sample\n",
    ")\n",
    "model.mean_stds_ = model.calculate_mean_stds(X, model.predictors)\n",
    "\n",
    "errors = []\n",
    "for coefficient in coefficients:\n",
    "    error = model._fit([coefficient], X, y)\n",
    "    errors.append(error)\n",
    "\n",
    "plt.plot(coefficients, errors, \"o\")\n",
    "plt.xlabel(\"LBI coefficient\")\n",
    "plt.ylabel(\"Weighted distance\")"
   ]
  },
  {
   "cell_type": "code",
   "execution_count": 30,
   "metadata": {},
   "outputs": [
    {
     "data": {
      "text/html": [
       "<div>\n",
       "<style scoped>\n",
       "    .dataframe tbody tr th:only-of-type {\n",
       "        vertical-align: middle;\n",
       "    }\n",
       "\n",
       "    .dataframe tbody tr th {\n",
       "        vertical-align: top;\n",
       "    }\n",
       "\n",
       "    .dataframe thead th {\n",
       "        text-align: right;\n",
       "    }\n",
       "</style>\n",
       "<table border=\"1\" class=\"dataframe\">\n",
       "  <thead>\n",
       "    <tr style=\"text-align: right;\">\n",
       "      <th></th>\n",
       "      <th>strain</th>\n",
       "      <th>timepoint</th>\n",
       "      <th>y</th>\n",
       "      <th>frequency</th>\n",
       "      <th>weighted_distance_to_future</th>\n",
       "    </tr>\n",
       "  </thead>\n",
       "  <tbody>\n",
       "    <tr>\n",
       "      <th>0</th>\n",
       "      <td>A/Geneva/A9509/1995</td>\n",
       "      <td>1994-10-01</td>\n",
       "      <td>13.840217</td>\n",
       "      <td>0.004688</td>\n",
       "      <td>13.840217</td>\n",
       "    </tr>\n",
       "    <tr>\n",
       "      <th>1</th>\n",
       "      <td>A/HongKong/49/1995</td>\n",
       "      <td>1994-10-01</td>\n",
       "      <td>10.089619</td>\n",
       "      <td>0.153221</td>\n",
       "      <td>10.089619</td>\n",
       "    </tr>\n",
       "    <tr>\n",
       "      <th>2</th>\n",
       "      <td>A/Malaysia/7145/1995</td>\n",
       "      <td>1994-10-01</td>\n",
       "      <td>14.282611</td>\n",
       "      <td>0.182468</td>\n",
       "      <td>14.282611</td>\n",
       "    </tr>\n",
       "    <tr>\n",
       "      <th>3</th>\n",
       "      <td>A/Malaysia/7831/1995</td>\n",
       "      <td>1994-10-01</td>\n",
       "      <td>6.363209</td>\n",
       "      <td>0.100902</td>\n",
       "      <td>6.363209</td>\n",
       "    </tr>\n",
       "    <tr>\n",
       "      <th>4</th>\n",
       "      <td>A/Malaysia/7832/1995</td>\n",
       "      <td>1994-10-01</td>\n",
       "      <td>16.322163</td>\n",
       "      <td>0.100902</td>\n",
       "      <td>16.322163</td>\n",
       "    </tr>\n",
       "  </tbody>\n",
       "</table>\n",
       "</div>"
      ],
      "text/plain": [
       "                 strain  timepoint          y  frequency  \\\n",
       "0   A/Geneva/A9509/1995 1994-10-01  13.840217   0.004688   \n",
       "1    A/HongKong/49/1995 1994-10-01  10.089619   0.153221   \n",
       "2  A/Malaysia/7145/1995 1994-10-01  14.282611   0.182468   \n",
       "3  A/Malaysia/7831/1995 1994-10-01   6.363209   0.100902   \n",
       "4  A/Malaysia/7832/1995 1994-10-01  16.322163   0.100902   \n",
       "\n",
       "   weighted_distance_to_future  \n",
       "0                    13.840217  \n",
       "1                    10.089619  \n",
       "2                    14.282611  \n",
       "3                     6.363209  \n",
       "4                    16.322163  "
      ]
     },
     "execution_count": 30,
     "metadata": {},
     "output_type": "execute_result"
    }
   ],
   "source": [
    "y.head()"
   ]
  },
  {
   "cell_type": "code",
   "execution_count": 27,
   "metadata": {},
   "outputs": [
    {
     "data": {
      "text/plain": [
       "273.18885045051576"
      ]
     },
     "execution_count": 27,
     "metadata": {},
     "output_type": "execute_result"
    }
   ],
   "source": [
    "min(errors)"
   ]
  },
  {
   "cell_type": "code",
   "execution_count": 28,
   "metadata": {},
   "outputs": [
    {
     "data": {
      "text/plain": [
       "1.0"
      ]
     },
     "execution_count": 28,
     "metadata": {},
     "output_type": "execute_result"
    }
   ],
   "source": [
    "coefficients[np.argmin(errors)]"
   ]
  },
  {
   "cell_type": "markdown",
   "metadata": {},
   "source": [
    "## Inspect cTiterSub model"
   ]
  },
  {
   "cell_type": "code",
   "execution_count": 38,
   "metadata": {},
   "outputs": [
    {
     "data": {
      "text/plain": [
       "Text(0,0.5,'Weighted distance')"
      ]
     },
     "execution_count": 38,
     "metadata": {},
     "output_type": "execute_result"
    },
    {
     "data": {
      "image/png": "[encoded data removed]",
      "text/plain": [
       "<Figure size 432x288 with 1 Axes>"
      ]
     },
     "metadata": {
      "needs_background": "light"
     },
     "output_type": "display_data"
    }
   ],
   "source": [
    "predictors = [\"cTiterSub_x\"]\n",
    "l1_lambda = 0.5\n",
    "\n",
    "model = DistanceExponentialGrowthModel(\n",
    "    predictors=predictors,\n",
    "    delta_time=delta_time,\n",
    "    l1_lambda=l1_lambda,\n",
    "    cost_function=sum_of_differences,\n",
    "    distances=distances_by_sample\n",
    ")\n",
    "model.mean_stds_ = model.calculate_mean_stds(X, model.predictors)\n",
    "\n",
    "errors = []\n",
    "for coefficient in coefficients:\n",
    "    error = model._fit([coefficient], X, y)\n",
    "    errors.append(error)\n",
    "\n",
    "plt.plot(coefficients, errors, \"o\")\n",
    "plt.xlabel(\"cTiterSub_x coefficient\")\n",
    "plt.ylabel(\"Weighted distance\")"
   ]
  },
  {
   "cell_type": "code",
   "execution_count": 39,
   "metadata": {},
   "outputs": [
    {
     "data": {
      "text/plain": [
       "287.91136622428894"
      ]
     },
     "execution_count": 39,
     "metadata": {},
     "output_type": "execute_result"
    }
   ],
   "source": [
    "min(errors)"
   ]
  },
  {
   "cell_type": "code",
   "execution_count": 40,
   "metadata": {},
   "outputs": [
    {
     "data": {
      "text/plain": [
       "0.0"
      ]
     },
     "execution_count": 40,
     "metadata": {},
     "output_type": "execute_result"
    }
   ],
   "source": [
    "coefficients[np.argmin(errors)]"
   ]
  },
  {
   "cell_type": "markdown",
   "metadata": {},
   "source": [
    "## Inspect epitope count model"
   ]
  },
  {
   "cell_type": "code",
   "execution_count": 35,
   "metadata": {},
   "outputs": [
    {
     "data": {
      "text/plain": [
       "Text(0,0.5,'Weighted distance')"
      ]
     },
     "execution_count": 35,
     "metadata": {},
     "output_type": "execute_result"
    },
    {
     "data": {
      "image/png": "[encoded data removed]",
      "text/plain": [
       "<Figure size 432x288 with 1 Axes>"
      ]
     },
     "metadata": {
      "needs_background": "light"
     },
     "output_type": "display_data"
    }
   ],
   "source": [
    "predictors = [\"ep\"]\n",
    "l1_lambda = 0.5\n",
    "\n",
    "model = DistanceExponentialGrowthModel(\n",
    "    predictors=predictors,\n",
    "    delta_time=delta_time,\n",
    "    l1_lambda=l1_lambda,\n",
    "    cost_function=sum_of_differences,\n",
    "    distances=distances_by_sample\n",
    ")\n",
    "model.mean_stds_ = model.calculate_mean_stds(X, model.predictors)\n",
    "\n",
    "errors = []\n",
    "for coefficient in coefficients:\n",
    "    error = model._fit([coefficient], X, y)\n",
    "    errors.append(error)\n",
    "\n",
    "plt.plot(coefficients, errors, \"o\")\n",
    "plt.xlabel(\"ep coefficient\")\n",
    "plt.ylabel(\"Weighted distance\")"
   ]
  },
  {
   "cell_type": "code",
   "execution_count": 36,
   "metadata": {},
   "outputs": [
    {
     "data": {
      "text/plain": [
       "280.77797079086304"
      ]
     },
     "execution_count": 36,
     "metadata": {},
     "output_type": "execute_result"
    }
   ],
   "source": [
    "min(errors)"
   ]
  },
  {
   "cell_type": "code",
   "execution_count": 37,
   "metadata": {},
   "outputs": [
    {
     "data": {
      "text/plain": [
       "1.0"
      ]
     },
     "execution_count": 37,
     "metadata": {},
     "output_type": "execute_result"
    }
   ],
   "source": [
    "coefficients[np.argmin(errors)]"
   ]
  },
  {
   "cell_type": "markdown",
   "metadata": {},
   "source": [
    "## Inspect epitope cross-immunity model"
   ]
  },
  {
   "cell_type": "code",
   "execution_count": null,
   "metadata": {},
   "outputs": [],
   "source": [
    "predictors = [\"ep_x\"]\n",
    "\n",
    "model = DistanceExponentialGrowthModel(\n",
    "    predictors=predictors,\n",
    "    delta_time=delta_time,\n",
    "    l1_lambda=l1_lambda,\n",
    "    cost_function=sum_of_differences,\n",
    "    distances=distances_by_sample\n",
    ")\n",
    "\n",
    "errors = []\n",
    "for coefficient in coefficients:\n",
    "    error = model._fit([coefficient], X, y)\n",
    "    errors.append(error)\n",
    "\n",
    "plt.plot(coefficients, errors, \"o\")\n",
    "plt.xlabel(\"Epitope cross-immunity model coefficient\")\n",
    "plt.ylabel(\"Weighted distance\")"
   ]
  },
  {
   "cell_type": "code",
   "execution_count": null,
   "metadata": {},
   "outputs": [],
   "source": [
    "min(errors)"
   ]
  },
  {
   "cell_type": "code",
   "execution_count": null,
   "metadata": {},
   "outputs": [],
   "source": [
    "coefficients[np.argmin(errors)]"
   ]
  },
  {
   "cell_type": "markdown",
   "metadata": {},
   "source": [
    "## Inspect delta frequency model"
   ]
  },
  {
   "cell_type": "code",
   "execution_count": 41,
   "metadata": {},
   "outputs": [
    {
     "data": {
      "text/plain": [
       "Text(0,0.5,'Weighted distance')"
      ]
     },
     "execution_count": 41,
     "metadata": {},
     "output_type": "execute_result"
    },
    {
     "data": {
      "image/png": "[encoded data removed]",
      "text/plain": [
       "<Figure size 432x288 with 1 Axes>"
      ]
     },
     "metadata": {
      "needs_background": "light"
     },
     "output_type": "display_data"
    }
   ],
   "source": [
    "predictors = [\"delta_frequency\"]\n",
    "l1_lambda = 0.5\n",
    "\n",
    "model = DistanceExponentialGrowthModel(\n",
    "    predictors=predictors,\n",
    "    delta_time=delta_time,\n",
    "    l1_lambda=l1_lambda,\n",
    "    cost_function=sum_of_differences,\n",
    "    distances=distances_by_sample\n",
    ")\n",
    "model.mean_stds_ = model.calculate_mean_stds(X, model.predictors)\n",
    "\n",
    "errors = []\n",
    "for coefficient in coefficients:\n",
    "    error = model._fit([coefficient], X, y)\n",
    "    errors.append(error)\n",
    "\n",
    "plt.plot(coefficients, errors, \"o\")\n",
    "plt.xlabel(\"delta frequency coefficient\")\n",
    "plt.ylabel(\"Weighted distance\")"
   ]
  },
  {
   "cell_type": "code",
   "execution_count": 42,
   "metadata": {},
   "outputs": [
    {
     "data": {
      "text/plain": [
       "276.448011636734"
      ]
     },
     "execution_count": 42,
     "metadata": {},
     "output_type": "execute_result"
    }
   ],
   "source": [
    "min(errors)"
   ]
  },
  {
   "cell_type": "code",
   "execution_count": 43,
   "metadata": {},
   "outputs": [
    {
     "data": {
      "text/plain": [
       "2.0"
      ]
     },
     "execution_count": 43,
     "metadata": {},
     "output_type": "execute_result"
    }
   ],
   "source": [
    "coefficients[np.argmin(errors)]"
   ]
  },
  {
   "cell_type": "markdown",
   "metadata": {},
   "source": [
    "## Inspect two-parameter models"
   ]
  },
  {
   "cell_type": "code",
   "execution_count": null,
   "metadata": {},
   "outputs": [],
   "source": [
    "predictors = [\"lbi\", \"cTiterSub_x\"]\n",
    "\n",
    "model = DistanceExponentialGrowthModel(\n",
    "    predictors=predictors,\n",
    "    delta_time=delta_time,\n",
    "    l1_lambda=l1_lambda,\n",
    "    cost_function=sum_of_differences,\n",
    "    distances=distances_by_sample\n",
    ")"
   ]
  },
  {
   "cell_type": "code",
   "execution_count": null,
   "metadata": {},
   "outputs": [],
   "source": [
    "len(coefficients)"
   ]
  },
  {
   "cell_type": "code",
   "execution_count": null,
   "metadata": {},
   "outputs": [],
   "source": [
    "errors_by_first_coefficient = {}\n",
    "for coefficient_i in coefficients:\n",
    "    errors = []\n",
    "    for coefficient_j in coefficients:\n",
    "        error = model._fit([coefficient_i, coefficient_j], X, y)\n",
    "        errors.append(error)\n",
    "    \n",
    "    errors_by_first_coefficient[coefficient_i] = errors"
   ]
  },
  {
   "cell_type": "code",
   "execution_count": null,
   "metadata": {},
   "outputs": [],
   "source": [
    "fig, axes = plt.subplots(6, 4, figsize=(20, 20), gridspec_kw={\"hspace\": 0.75}, sharey=True)\n",
    "\n",
    "for ci, coefficient_i in enumerate(sorted(errors_by_first_coefficient.keys())):\n",
    "    ax = axes.flatten()[ci]\n",
    "    \n",
    "    errors = errors_by_first_coefficient[coefficient_i]\n",
    "    ax.plot(coefficients, errors, \"o\")\n",
    "    ax.set_xlabel(\"Titer substitution model coefficient\")\n",
    "    ax.set_ylabel(\"Weighted distance\")\n",
    "    ax.set_title(\"LBI coefficient: %.2f\" % coefficient_i)"
   ]
  },
  {
   "cell_type": "code",
   "execution_count": null,
   "metadata": {},
   "outputs": [],
   "source": [
    "predictors = [\"lbi\", \"cTiterSub_x\"]\n",
    "delta_time = 1.0\n",
    "l1_lambda = 0.0\n",
    "\n",
    "model = ExponentialGrowthModel(\n",
    "    predictors=predictors,\n",
    "    delta_time=delta_time,\n",
    "    l1_lambda=l1_lambda,\n",
    "    cost_function=mean_absolute_error\n",
    ")\n",
    "\n",
    "records = []\n",
    "errors_by_first_coefficient = {}\n",
    "for coefficient_i in coefficients:\n",
    "    errors = []\n",
    "    for coefficient_j in coefficients:\n",
    "        error = model._fit([coefficient_i, coefficient_j], X, y)\n",
    "        errors.append(error)\n",
    "        records.append({\n",
    "            \"lbi\": coefficient_i,\n",
    "            \"cTiterSub\": coefficient_j,\n",
    "            \"error\": error\n",
    "        })\n",
    "    \n",
    "    errors_by_first_coefficient[coefficient_i] = errors"
   ]
  },
  {
   "cell_type": "code",
   "execution_count": null,
   "metadata": {},
   "outputs": [],
   "source": [
    "records_df = pd.DataFrame(records)\n",
    "records_df.sort_values(\"error\").head()"
   ]
  },
  {
   "cell_type": "code",
   "execution_count": null,
   "metadata": {},
   "outputs": [],
   "source": [
    "fig, axes = plt.subplots(6, 4, figsize=(20, 20), gridspec_kw={\"hspace\": 0.75}, sharey=True)\n",
    "\n",
    "for ci, coefficient_i in enumerate(sorted(errors_by_first_coefficient.keys())):\n",
    "    ax = axes.flatten()[ci]\n",
    "    \n",
    "    errors = errors_by_first_coefficient[coefficient_i]\n",
    "    ax.plot(coefficients, errors, \"o\")\n",
    "    ax.set_xlabel(\"Titer substitution model coefficient\")\n",
    "    ax.set_ylabel(\"MAE\")\n",
    "    ax.set_title(\"LBI coefficient: %.2f\" % coefficient_i)"
   ]
  }
 ],
 "metadata": {
  "kernelspec": {
   "display_name": "Python 3",
   "language": "python",
   "name": "python3"
  },
  "language_info": {
   "codemirror_mode": {
    "name": "ipython",
    "version": 3
   },
   "file_extension": ".py",
   "mimetype": "text/x-python",
   "name": "python",
   "nbconvert_exporter": "python",
   "pygments_lexer": "ipython3",
   "version": "3.6.7"
  }
 },
 "nbformat": 4,
 "nbformat_minor": 2
}
