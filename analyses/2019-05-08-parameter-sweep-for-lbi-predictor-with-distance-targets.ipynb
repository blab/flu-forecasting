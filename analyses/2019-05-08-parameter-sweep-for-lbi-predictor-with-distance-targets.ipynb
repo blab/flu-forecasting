{
 "cells": [
  {
   "cell_type": "markdown",
   "metadata": {},
   "source": [
    "# Parameter sweep for LBI predictor\n",
    "\n",
    "Load flu tip attributes and final clade frequencies and then calculate the error of an exponential growth model based on just the LBI predictor across a range of predictor coefficients. The goal is to determine the shape of the error function that is exposed to scipy's optimization machinery."
   ]
  },
  {
   "cell_type": "code",
   "execution_count": 1,
   "metadata": {},
   "outputs": [],
   "source": [
    "import matplotlib as mpl\n",
    "import matplotlib.pyplot as plt\n",
    "import numpy as np\n",
    "import pandas as pd\n",
    "import seaborn as sns\n",
    "import sys\n",
    "\n",
    "%matplotlib inline"
   ]
  },
  {
   "cell_type": "code",
   "execution_count": 2,
   "metadata": {},
   "outputs": [
    {
     "data": {
      "text/plain": [
       "'/Users/jlhudd/projects/nextstrain/flu-forecasting/analyses'"
      ]
     },
     "execution_count": 2,
     "metadata": {},
     "output_type": "execute_result"
    }
   ],
   "source": [
    "pwd"
   ]
  },
  {
   "cell_type": "code",
   "execution_count": 3,
   "metadata": {},
   "outputs": [],
   "source": [
    "sys.path.insert(0, \"../src\")"
   ]
  },
  {
   "cell_type": "code",
   "execution_count": 4,
   "metadata": {},
   "outputs": [],
   "source": [
    "from fit_model import DistanceExponentialGrowthModel, sum_of_differences\n",
    "from weighted_distances import get_distances_by_sample_names"
   ]
  },
  {
   "cell_type": "code",
   "execution_count": 5,
   "metadata": {},
   "outputs": [],
   "source": [
    "sns.set_style(\"white\")\n",
    "plt.style.use(\"huddlej\")"
   ]
  },
  {
   "cell_type": "code",
   "execution_count": 6,
   "metadata": {},
   "outputs": [],
   "source": [
    "mpl.rcParams['savefig.dpi'] = 200\n",
    "mpl.rcParams['figure.dpi'] = 200\n",
    "mpl.rcParams['font.weight'] = 300\n",
    "mpl.rcParams['axes.labelweight'] = 300\n",
    "mpl.rcParams['font.size'] = 18"
   ]
  },
  {
   "cell_type": "markdown",
   "metadata": {},
   "source": [
    "## Load data"
   ]
  },
  {
   "cell_type": "markdown",
   "metadata": {},
   "source": [
    "Define the range of possible coefficient values to explore."
   ]
  },
  {
   "cell_type": "code",
   "execution_count": 7,
   "metadata": {},
   "outputs": [],
   "source": [
    "coefficients = np.linspace(-2, 2, 31)"
   ]
  },
  {
   "cell_type": "code",
   "execution_count": 8,
   "metadata": {},
   "outputs": [],
   "source": [
    "delta_time = 1.0\n",
    "l1_lambda = 0.0"
   ]
  },
  {
   "cell_type": "code",
   "execution_count": 9,
   "metadata": {},
   "outputs": [],
   "source": [
    "last_timepoint = pd.to_datetime(\"2023-10-01\")"
   ]
  },
  {
   "cell_type": "code",
   "execution_count": 10,
   "metadata": {},
   "outputs": [],
   "source": [
    "distances = pd.read_csv(\n",
    "    \"../results/builds/simulated/simulated_sample_1/target_distances.tsv\",\n",
    "    sep=\"\\t\"\n",
    ")"
   ]
  },
  {
   "cell_type": "code",
   "execution_count": 11,
   "metadata": {},
   "outputs": [],
   "source": [
    "distances_by_sample = get_distances_by_sample_names(distances)"
   ]
  },
  {
   "cell_type": "code",
   "execution_count": 12,
   "metadata": {},
   "outputs": [],
   "source": [
    "# Load tip attributes.\n",
    "X = pd.read_csv(\n",
    "    \"../results/builds/simulated/simulated_sample_1/tip_attributes_with_weighted_distances.tsv\",\n",
    "    sep=\"\\t\",\n",
    "    parse_dates=[\"timepoint\"]\n",
    ")"
   ]
  },
  {
   "cell_type": "code",
   "execution_count": 13,
   "metadata": {},
   "outputs": [
    {
     "data": {
      "text/plain": [
       "Index(['strain', 'aa_sequence', 'branch_length', 'clade_membership',\n",
       "       'clock_length', 'date', 'delta_frequency', 'dms', 'dms_entropy',\n",
       "       'dms_nonepitope', 'dms_star', 'ep', 'ep_star', 'ep_wolf', 'ep_x', 'lbi',\n",
       "       'mutation_length', 'ne', 'ne_star', 'normalized_fitness', 'numdate',\n",
       "       'raw_date', 'rb', 'sequence', 'generation', 'fitness', 'num_date',\n",
       "       'date_metadata', 'year', 'month', 'is_terminal', 'timepoint', 'lineage',\n",
       "       'segment', 'kde_frequency', 'diffusion_frequency', 'frequency', 'naive',\n",
       "       'weighted_distance_to_present', 'weighted_distance_to_future',\n",
       "       'log2_distance_effect'],\n",
       "      dtype='object')"
      ]
     },
     "execution_count": 13,
     "metadata": {},
     "output_type": "execute_result"
    }
   ],
   "source": [
    "X.columns"
   ]
  },
  {
   "cell_type": "code",
   "execution_count": 14,
   "metadata": {},
   "outputs": [],
   "source": [
    "X = X.loc[:, [\"strain\", \"clade_membership\", \"timepoint\", \"lbi\", \"frequency\",\n",
    "              \"weighted_distance_to_present\", \"weighted_distance_to_future\",\n",
    "              \"normalized_fitness\", \"ne_star\", \"ep\", \"ne\", \"ep_x\"]].copy()"
   ]
  },
  {
   "cell_type": "code",
   "execution_count": 15,
   "metadata": {},
   "outputs": [
    {
     "data": {
      "text/html": [
       "<div>\n",
       "<style scoped>\n",
       "    .dataframe tbody tr th:only-of-type {\n",
       "        vertical-align: middle;\n",
       "    }\n",
       "\n",
       "    .dataframe tbody tr th {\n",
       "        vertical-align: top;\n",
       "    }\n",
       "\n",
       "    .dataframe thead th {\n",
       "        text-align: right;\n",
       "    }\n",
       "</style>\n",
       "<table border=\"1\" class=\"dataframe\">\n",
       "  <thead>\n",
       "    <tr style=\"text-align: right;\">\n",
       "      <th></th>\n",
       "      <th>strain</th>\n",
       "      <th>clade_membership</th>\n",
       "      <th>timepoint</th>\n",
       "      <th>lbi</th>\n",
       "      <th>frequency</th>\n",
       "      <th>weighted_distance_to_present</th>\n",
       "      <th>weighted_distance_to_future</th>\n",
       "      <th>normalized_fitness</th>\n",
       "      <th>ne_star</th>\n",
       "      <th>ep</th>\n",
       "      <th>ne</th>\n",
       "      <th>ep_x</th>\n",
       "    </tr>\n",
       "  </thead>\n",
       "  <tbody>\n",
       "    <tr>\n",
       "      <th>0</th>\n",
       "      <td>sample_3216_6</td>\n",
       "      <td>ed6c203</td>\n",
       "      <td>2016-10-01</td>\n",
       "      <td>0.025256</td>\n",
       "      <td>0.000012</td>\n",
       "      <td>8.354777</td>\n",
       "      <td>11.569858</td>\n",
       "      <td>0.921286</td>\n",
       "      <td>1.0</td>\n",
       "      <td>7</td>\n",
       "      <td>8</td>\n",
       "      <td>-5.841661</td>\n",
       "    </tr>\n",
       "    <tr>\n",
       "      <th>1</th>\n",
       "      <td>sample_3220_1</td>\n",
       "      <td>caaed87</td>\n",
       "      <td>2016-10-01</td>\n",
       "      <td>0.023693</td>\n",
       "      <td>0.000019</td>\n",
       "      <td>11.354576</td>\n",
       "      <td>14.666101</td>\n",
       "      <td>0.861260</td>\n",
       "      <td>3.0</td>\n",
       "      <td>8</td>\n",
       "      <td>10</td>\n",
       "      <td>-5.466963</td>\n",
       "    </tr>\n",
       "    <tr>\n",
       "      <th>2</th>\n",
       "      <td>sample_3224_10</td>\n",
       "      <td>173672f</td>\n",
       "      <td>2016-10-01</td>\n",
       "      <td>0.114689</td>\n",
       "      <td>0.000031</td>\n",
       "      <td>5.429236</td>\n",
       "      <td>8.927039</td>\n",
       "      <td>1.000000</td>\n",
       "      <td>0.0</td>\n",
       "      <td>8</td>\n",
       "      <td>8</td>\n",
       "      <td>-5.487380</td>\n",
       "    </tr>\n",
       "    <tr>\n",
       "      <th>3</th>\n",
       "      <td>sample_3224_3</td>\n",
       "      <td>b2e8133</td>\n",
       "      <td>2016-10-01</td>\n",
       "      <td>0.022227</td>\n",
       "      <td>0.000031</td>\n",
       "      <td>9.120933</td>\n",
       "      <td>12.878575</td>\n",
       "      <td>0.850147</td>\n",
       "      <td>1.0</td>\n",
       "      <td>8</td>\n",
       "      <td>8</td>\n",
       "      <td>-5.477516</td>\n",
       "    </tr>\n",
       "    <tr>\n",
       "      <th>4</th>\n",
       "      <td>sample_3224_5</td>\n",
       "      <td>b0db357</td>\n",
       "      <td>2016-10-01</td>\n",
       "      <td>0.137004</td>\n",
       "      <td>0.000031</td>\n",
       "      <td>9.422183</td>\n",
       "      <td>12.926953</td>\n",
       "      <td>0.583550</td>\n",
       "      <td>3.0</td>\n",
       "      <td>8</td>\n",
       "      <td>12</td>\n",
       "      <td>-5.536284</td>\n",
       "    </tr>\n",
       "  </tbody>\n",
       "</table>\n",
       "</div>"
      ],
      "text/plain": [
       "           strain clade_membership  timepoint       lbi  frequency  \\\n",
       "0   sample_3216_6          ed6c203 2016-10-01  0.025256   0.000012   \n",
       "1   sample_3220_1          caaed87 2016-10-01  0.023693   0.000019   \n",
       "2  sample_3224_10          173672f 2016-10-01  0.114689   0.000031   \n",
       "3   sample_3224_3          b2e8133 2016-10-01  0.022227   0.000031   \n",
       "4   sample_3224_5          b0db357 2016-10-01  0.137004   0.000031   \n",
       "\n",
       "   weighted_distance_to_present  weighted_distance_to_future  \\\n",
       "0                      8.354777                    11.569858   \n",
       "1                     11.354576                    14.666101   \n",
       "2                      5.429236                     8.927039   \n",
       "3                      9.120933                    12.878575   \n",
       "4                      9.422183                    12.926953   \n",
       "\n",
       "   normalized_fitness  ne_star  ep  ne      ep_x  \n",
       "0            0.921286      1.0   7   8 -5.841661  \n",
       "1            0.861260      3.0   8  10 -5.466963  \n",
       "2            1.000000      0.0   8   8 -5.487380  \n",
       "3            0.850147      1.0   8   8 -5.477516  \n",
       "4            0.583550      3.0   8  12 -5.536284  "
      ]
     },
     "execution_count": 15,
     "metadata": {},
     "output_type": "execute_result"
    }
   ],
   "source": [
    "X.head()"
   ]
  },
  {
   "cell_type": "code",
   "execution_count": 16,
   "metadata": {},
   "outputs": [
    {
     "data": {
      "text/plain": [
       "(2361, 12)"
      ]
     },
     "execution_count": 16,
     "metadata": {},
     "output_type": "execute_result"
    }
   ],
   "source": [
    "X.shape"
   ]
  },
  {
   "cell_type": "code",
   "execution_count": 17,
   "metadata": {},
   "outputs": [],
   "source": [
    "X = X[~pd.isnull(X[\"weighted_distance_to_present\"])].copy()"
   ]
  },
  {
   "cell_type": "code",
   "execution_count": 18,
   "metadata": {},
   "outputs": [
    {
     "data": {
      "text/plain": [
       "array(['2016-10-01T00:00:00.000000000', '2017-04-01T00:00:00.000000000',\n",
       "       '2017-10-01T00:00:00.000000000', '2018-04-01T00:00:00.000000000',\n",
       "       '2018-10-01T00:00:00.000000000', '2019-04-01T00:00:00.000000000',\n",
       "       '2019-10-01T00:00:00.000000000', '2020-04-01T00:00:00.000000000',\n",
       "       '2020-10-01T00:00:00.000000000', '2021-04-01T00:00:00.000000000',\n",
       "       '2021-10-01T00:00:00.000000000', '2022-04-01T00:00:00.000000000',\n",
       "       '2022-10-01T00:00:00.000000000', '2023-04-01T00:00:00.000000000',\n",
       "       '2023-10-01T00:00:00.000000000', '2024-04-01T00:00:00.000000000',\n",
       "       '2024-10-01T00:00:00.000000000', '2025-04-01T00:00:00.000000000',\n",
       "       '2025-10-01T00:00:00.000000000', '2026-04-01T00:00:00.000000000',\n",
       "       '2026-10-01T00:00:00.000000000', '2027-04-01T00:00:00.000000000',\n",
       "       '2027-10-01T00:00:00.000000000', '2028-04-01T00:00:00.000000000',\n",
       "       '2028-10-01T00:00:00.000000000', '2029-04-01T00:00:00.000000000',\n",
       "       '2029-10-01T00:00:00.000000000', '2030-04-01T00:00:00.000000000',\n",
       "       '2030-10-01T00:00:00.000000000'], dtype='datetime64[ns]')"
      ]
     },
     "execution_count": 18,
     "metadata": {},
     "output_type": "execute_result"
    }
   ],
   "source": [
    "X.timepoint.unique()"
   ]
  },
  {
   "cell_type": "code",
   "execution_count": 19,
   "metadata": {},
   "outputs": [
    {
     "data": {
      "text/plain": [
       "(2361, 12)"
      ]
     },
     "execution_count": 19,
     "metadata": {},
     "output_type": "execute_result"
    }
   ],
   "source": [
    "X.shape"
   ]
  },
  {
   "cell_type": "code",
   "execution_count": 20,
   "metadata": {},
   "outputs": [],
   "source": [
    "X[\"y\"] = X[\"weighted_distance_to_future\"]"
   ]
  },
  {
   "cell_type": "code",
   "execution_count": 21,
   "metadata": {},
   "outputs": [],
   "source": [
    "y = X.loc[:, [\"strain\", \"timepoint\", \"y\", \"frequency\", \"weighted_distance_to_future\"]].copy()"
   ]
  },
  {
   "cell_type": "code",
   "execution_count": 22,
   "metadata": {},
   "outputs": [],
   "source": [
    "y[\"timepoint\"] = y[\"timepoint\"] - pd.DateOffset(months=12)"
   ]
  },
  {
   "cell_type": "code",
   "execution_count": 23,
   "metadata": {},
   "outputs": [
    {
     "data": {
      "text/html": [
       "<div>\n",
       "<style scoped>\n",
       "    .dataframe tbody tr th:only-of-type {\n",
       "        vertical-align: middle;\n",
       "    }\n",
       "\n",
       "    .dataframe tbody tr th {\n",
       "        vertical-align: top;\n",
       "    }\n",
       "\n",
       "    .dataframe thead th {\n",
       "        text-align: right;\n",
       "    }\n",
       "</style>\n",
       "<table border=\"1\" class=\"dataframe\">\n",
       "  <thead>\n",
       "    <tr style=\"text-align: right;\">\n",
       "      <th></th>\n",
       "      <th>strain</th>\n",
       "      <th>clade_membership</th>\n",
       "      <th>timepoint</th>\n",
       "      <th>lbi</th>\n",
       "      <th>frequency</th>\n",
       "      <th>weighted_distance_to_present</th>\n",
       "      <th>weighted_distance_to_future</th>\n",
       "      <th>normalized_fitness</th>\n",
       "      <th>ne_star</th>\n",
       "      <th>ep</th>\n",
       "      <th>ne</th>\n",
       "      <th>ep_x</th>\n",
       "      <th>y</th>\n",
       "    </tr>\n",
       "  </thead>\n",
       "  <tbody>\n",
       "    <tr>\n",
       "      <th>0</th>\n",
       "      <td>sample_3216_6</td>\n",
       "      <td>ed6c203</td>\n",
       "      <td>2016-10-01</td>\n",
       "      <td>0.025256</td>\n",
       "      <td>0.000012</td>\n",
       "      <td>8.354777</td>\n",
       "      <td>11.569858</td>\n",
       "      <td>0.921286</td>\n",
       "      <td>1.0</td>\n",
       "      <td>7</td>\n",
       "      <td>8</td>\n",
       "      <td>-5.841661</td>\n",
       "      <td>11.569858</td>\n",
       "    </tr>\n",
       "    <tr>\n",
       "      <th>1</th>\n",
       "      <td>sample_3220_1</td>\n",
       "      <td>caaed87</td>\n",
       "      <td>2016-10-01</td>\n",
       "      <td>0.023693</td>\n",
       "      <td>0.000019</td>\n",
       "      <td>11.354576</td>\n",
       "      <td>14.666101</td>\n",
       "      <td>0.861260</td>\n",
       "      <td>3.0</td>\n",
       "      <td>8</td>\n",
       "      <td>10</td>\n",
       "      <td>-5.466963</td>\n",
       "      <td>14.666101</td>\n",
       "    </tr>\n",
       "    <tr>\n",
       "      <th>2</th>\n",
       "      <td>sample_3224_10</td>\n",
       "      <td>173672f</td>\n",
       "      <td>2016-10-01</td>\n",
       "      <td>0.114689</td>\n",
       "      <td>0.000031</td>\n",
       "      <td>5.429236</td>\n",
       "      <td>8.927039</td>\n",
       "      <td>1.000000</td>\n",
       "      <td>0.0</td>\n",
       "      <td>8</td>\n",
       "      <td>8</td>\n",
       "      <td>-5.487380</td>\n",
       "      <td>8.927039</td>\n",
       "    </tr>\n",
       "    <tr>\n",
       "      <th>3</th>\n",
       "      <td>sample_3224_3</td>\n",
       "      <td>b2e8133</td>\n",
       "      <td>2016-10-01</td>\n",
       "      <td>0.022227</td>\n",
       "      <td>0.000031</td>\n",
       "      <td>9.120933</td>\n",
       "      <td>12.878575</td>\n",
       "      <td>0.850147</td>\n",
       "      <td>1.0</td>\n",
       "      <td>8</td>\n",
       "      <td>8</td>\n",
       "      <td>-5.477516</td>\n",
       "      <td>12.878575</td>\n",
       "    </tr>\n",
       "    <tr>\n",
       "      <th>4</th>\n",
       "      <td>sample_3224_5</td>\n",
       "      <td>b0db357</td>\n",
       "      <td>2016-10-01</td>\n",
       "      <td>0.137004</td>\n",
       "      <td>0.000031</td>\n",
       "      <td>9.422183</td>\n",
       "      <td>12.926953</td>\n",
       "      <td>0.583550</td>\n",
       "      <td>3.0</td>\n",
       "      <td>8</td>\n",
       "      <td>12</td>\n",
       "      <td>-5.536284</td>\n",
       "      <td>12.926953</td>\n",
       "    </tr>\n",
       "  </tbody>\n",
       "</table>\n",
       "</div>"
      ],
      "text/plain": [
       "           strain clade_membership  timepoint       lbi  frequency  \\\n",
       "0   sample_3216_6          ed6c203 2016-10-01  0.025256   0.000012   \n",
       "1   sample_3220_1          caaed87 2016-10-01  0.023693   0.000019   \n",
       "2  sample_3224_10          173672f 2016-10-01  0.114689   0.000031   \n",
       "3   sample_3224_3          b2e8133 2016-10-01  0.022227   0.000031   \n",
       "4   sample_3224_5          b0db357 2016-10-01  0.137004   0.000031   \n",
       "\n",
       "   weighted_distance_to_present  weighted_distance_to_future  \\\n",
       "0                      8.354777                    11.569858   \n",
       "1                     11.354576                    14.666101   \n",
       "2                      5.429236                     8.927039   \n",
       "3                      9.120933                    12.878575   \n",
       "4                      9.422183                    12.926953   \n",
       "\n",
       "   normalized_fitness  ne_star  ep  ne      ep_x          y  \n",
       "0            0.921286      1.0   7   8 -5.841661  11.569858  \n",
       "1            0.861260      3.0   8  10 -5.466963  14.666101  \n",
       "2            1.000000      0.0   8   8 -5.487380   8.927039  \n",
       "3            0.850147      1.0   8   8 -5.477516  12.878575  \n",
       "4            0.583550      3.0   8  12 -5.536284  12.926953  "
      ]
     },
     "execution_count": 23,
     "metadata": {},
     "output_type": "execute_result"
    }
   ],
   "source": [
    "X.head()"
   ]
  },
  {
   "cell_type": "code",
   "execution_count": 24,
   "metadata": {},
   "outputs": [
    {
     "data": {
      "text/html": [
       "<div>\n",
       "<style scoped>\n",
       "    .dataframe tbody tr th:only-of-type {\n",
       "        vertical-align: middle;\n",
       "    }\n",
       "\n",
       "    .dataframe tbody tr th {\n",
       "        vertical-align: top;\n",
       "    }\n",
       "\n",
       "    .dataframe thead th {\n",
       "        text-align: right;\n",
       "    }\n",
       "</style>\n",
       "<table border=\"1\" class=\"dataframe\">\n",
       "  <thead>\n",
       "    <tr style=\"text-align: right;\">\n",
       "      <th></th>\n",
       "      <th>strain</th>\n",
       "      <th>timepoint</th>\n",
       "      <th>y</th>\n",
       "      <th>frequency</th>\n",
       "      <th>weighted_distance_to_future</th>\n",
       "    </tr>\n",
       "  </thead>\n",
       "  <tbody>\n",
       "    <tr>\n",
       "      <th>0</th>\n",
       "      <td>sample_3216_6</td>\n",
       "      <td>2015-10-01</td>\n",
       "      <td>11.569858</td>\n",
       "      <td>0.000012</td>\n",
       "      <td>11.569858</td>\n",
       "    </tr>\n",
       "    <tr>\n",
       "      <th>1</th>\n",
       "      <td>sample_3220_1</td>\n",
       "      <td>2015-10-01</td>\n",
       "      <td>14.666101</td>\n",
       "      <td>0.000019</td>\n",
       "      <td>14.666101</td>\n",
       "    </tr>\n",
       "    <tr>\n",
       "      <th>2</th>\n",
       "      <td>sample_3224_10</td>\n",
       "      <td>2015-10-01</td>\n",
       "      <td>8.927039</td>\n",
       "      <td>0.000031</td>\n",
       "      <td>8.927039</td>\n",
       "    </tr>\n",
       "    <tr>\n",
       "      <th>3</th>\n",
       "      <td>sample_3224_3</td>\n",
       "      <td>2015-10-01</td>\n",
       "      <td>12.878575</td>\n",
       "      <td>0.000031</td>\n",
       "      <td>12.878575</td>\n",
       "    </tr>\n",
       "    <tr>\n",
       "      <th>4</th>\n",
       "      <td>sample_3224_5</td>\n",
       "      <td>2015-10-01</td>\n",
       "      <td>12.926953</td>\n",
       "      <td>0.000031</td>\n",
       "      <td>12.926953</td>\n",
       "    </tr>\n",
       "  </tbody>\n",
       "</table>\n",
       "</div>"
      ],
      "text/plain": [
       "           strain  timepoint          y  frequency  \\\n",
       "0   sample_3216_6 2015-10-01  11.569858   0.000012   \n",
       "1   sample_3220_1 2015-10-01  14.666101   0.000019   \n",
       "2  sample_3224_10 2015-10-01   8.927039   0.000031   \n",
       "3   sample_3224_3 2015-10-01  12.878575   0.000031   \n",
       "4   sample_3224_5 2015-10-01  12.926953   0.000031   \n",
       "\n",
       "   weighted_distance_to_future  \n",
       "0                    11.569858  \n",
       "1                    14.666101  \n",
       "2                     8.927039  \n",
       "3                    12.878575  \n",
       "4                    12.926953  "
      ]
     },
     "execution_count": 24,
     "metadata": {},
     "output_type": "execute_result"
    }
   ],
   "source": [
    "y.head()"
   ]
  },
  {
   "cell_type": "code",
   "execution_count": 25,
   "metadata": {},
   "outputs": [],
   "source": [
    "X = X[X[\"timepoint\"] <= last_timepoint - pd.DateOffset(months=12)]"
   ]
  },
  {
   "cell_type": "code",
   "execution_count": 26,
   "metadata": {},
   "outputs": [
    {
     "data": {
      "text/html": [
       "<div>\n",
       "<style scoped>\n",
       "    .dataframe tbody tr th:only-of-type {\n",
       "        vertical-align: middle;\n",
       "    }\n",
       "\n",
       "    .dataframe tbody tr th {\n",
       "        vertical-align: top;\n",
       "    }\n",
       "\n",
       "    .dataframe thead th {\n",
       "        text-align: right;\n",
       "    }\n",
       "</style>\n",
       "<table border=\"1\" class=\"dataframe\">\n",
       "  <thead>\n",
       "    <tr style=\"text-align: right;\">\n",
       "      <th></th>\n",
       "      <th>strain</th>\n",
       "      <th>clade_membership</th>\n",
       "      <th>timepoint</th>\n",
       "      <th>lbi</th>\n",
       "      <th>frequency</th>\n",
       "      <th>weighted_distance_to_present</th>\n",
       "      <th>weighted_distance_to_future</th>\n",
       "      <th>normalized_fitness</th>\n",
       "      <th>ne_star</th>\n",
       "      <th>ep</th>\n",
       "      <th>ne</th>\n",
       "      <th>ep_x</th>\n",
       "      <th>y</th>\n",
       "    </tr>\n",
       "  </thead>\n",
       "  <tbody>\n",
       "    <tr>\n",
       "      <th>1053</th>\n",
       "      <td>sample_4540_3</td>\n",
       "      <td>088ed06</td>\n",
       "      <td>2022-10-01</td>\n",
       "      <td>0.158157</td>\n",
       "      <td>0.038686</td>\n",
       "      <td>17.422598</td>\n",
       "      <td>19.776754</td>\n",
       "      <td>0.750162</td>\n",
       "      <td>7.0</td>\n",
       "      <td>8</td>\n",
       "      <td>15</td>\n",
       "      <td>-5.027956</td>\n",
       "      <td>19.776754</td>\n",
       "    </tr>\n",
       "    <tr>\n",
       "      <th>1054</th>\n",
       "      <td>sample_4540_4</td>\n",
       "      <td>385136e</td>\n",
       "      <td>2022-10-01</td>\n",
       "      <td>0.157593</td>\n",
       "      <td>0.038686</td>\n",
       "      <td>11.416403</td>\n",
       "      <td>10.662670</td>\n",
       "      <td>0.887758</td>\n",
       "      <td>3.0</td>\n",
       "      <td>9</td>\n",
       "      <td>12</td>\n",
       "      <td>-4.840017</td>\n",
       "      <td>10.662670</td>\n",
       "    </tr>\n",
       "    <tr>\n",
       "      <th>1055</th>\n",
       "      <td>sample_4544_1</td>\n",
       "      <td>a0ccf9a</td>\n",
       "      <td>2022-10-01</td>\n",
       "      <td>0.245533</td>\n",
       "      <td>0.039815</td>\n",
       "      <td>10.830025</td>\n",
       "      <td>8.561469</td>\n",
       "      <td>0.702695</td>\n",
       "      <td>5.0</td>\n",
       "      <td>9</td>\n",
       "      <td>14</td>\n",
       "      <td>-4.847654</td>\n",
       "      <td>8.561469</td>\n",
       "    </tr>\n",
       "    <tr>\n",
       "      <th>1056</th>\n",
       "      <td>sample_4544_4</td>\n",
       "      <td>00c606f</td>\n",
       "      <td>2022-10-01</td>\n",
       "      <td>0.156751</td>\n",
       "      <td>0.039815</td>\n",
       "      <td>8.316428</td>\n",
       "      <td>9.736741</td>\n",
       "      <td>0.963067</td>\n",
       "      <td>0.0</td>\n",
       "      <td>7</td>\n",
       "      <td>8</td>\n",
       "      <td>-5.529079</td>\n",
       "      <td>9.736741</td>\n",
       "    </tr>\n",
       "    <tr>\n",
       "      <th>1057</th>\n",
       "      <td>sample_4548_7</td>\n",
       "      <td>21cb024</td>\n",
       "      <td>2022-10-01</td>\n",
       "      <td>0.299007</td>\n",
       "      <td>0.040393</td>\n",
       "      <td>9.768678</td>\n",
       "      <td>7.561848</td>\n",
       "      <td>0.841115</td>\n",
       "      <td>3.0</td>\n",
       "      <td>8</td>\n",
       "      <td>12</td>\n",
       "      <td>-4.892441</td>\n",
       "      <td>7.561848</td>\n",
       "    </tr>\n",
       "  </tbody>\n",
       "</table>\n",
       "</div>"
      ],
      "text/plain": [
       "             strain clade_membership  timepoint       lbi  frequency  \\\n",
       "1053  sample_4540_3          088ed06 2022-10-01  0.158157   0.038686   \n",
       "1054  sample_4540_4          385136e 2022-10-01  0.157593   0.038686   \n",
       "1055  sample_4544_1          a0ccf9a 2022-10-01  0.245533   0.039815   \n",
       "1056  sample_4544_4          00c606f 2022-10-01  0.156751   0.039815   \n",
       "1057  sample_4548_7          21cb024 2022-10-01  0.299007   0.040393   \n",
       "\n",
       "      weighted_distance_to_present  weighted_distance_to_future  \\\n",
       "1053                     17.422598                    19.776754   \n",
       "1054                     11.416403                    10.662670   \n",
       "1055                     10.830025                     8.561469   \n",
       "1056                      8.316428                     9.736741   \n",
       "1057                      9.768678                     7.561848   \n",
       "\n",
       "      normalized_fitness  ne_star  ep  ne      ep_x          y  \n",
       "1053            0.750162      7.0   8  15 -5.027956  19.776754  \n",
       "1054            0.887758      3.0   9  12 -4.840017  10.662670  \n",
       "1055            0.702695      5.0   9  14 -4.847654   8.561469  \n",
       "1056            0.963067      0.0   7   8 -5.529079   9.736741  \n",
       "1057            0.841115      3.0   8  12 -4.892441   7.561848  "
      ]
     },
     "execution_count": 26,
     "metadata": {},
     "output_type": "execute_result"
    }
   ],
   "source": [
    "X.tail()"
   ]
  },
  {
   "cell_type": "code",
   "execution_count": 27,
   "metadata": {},
   "outputs": [
    {
     "data": {
      "text/plain": [
       "(1058, 13)"
      ]
     },
     "execution_count": 27,
     "metadata": {},
     "output_type": "execute_result"
    }
   ],
   "source": [
    "X.shape"
   ]
  },
  {
   "cell_type": "code",
   "execution_count": 28,
   "metadata": {},
   "outputs": [
    {
     "data": {
      "text/plain": [
       "array(['2016-10-01T00:00:00.000000000', '2017-04-01T00:00:00.000000000',\n",
       "       '2017-10-01T00:00:00.000000000', '2018-04-01T00:00:00.000000000',\n",
       "       '2018-10-01T00:00:00.000000000', '2019-04-01T00:00:00.000000000',\n",
       "       '2019-10-01T00:00:00.000000000', '2020-04-01T00:00:00.000000000',\n",
       "       '2020-10-01T00:00:00.000000000', '2021-04-01T00:00:00.000000000',\n",
       "       '2021-10-01T00:00:00.000000000', '2022-04-01T00:00:00.000000000',\n",
       "       '2022-10-01T00:00:00.000000000'], dtype='datetime64[ns]')"
      ]
     },
     "execution_count": 28,
     "metadata": {},
     "output_type": "execute_result"
    }
   ],
   "source": [
    "X.timepoint.unique()"
   ]
  },
  {
   "cell_type": "code",
   "execution_count": 29,
   "metadata": {},
   "outputs": [
    {
     "data": {
      "text/plain": [
       "(13,)"
      ]
     },
     "execution_count": 29,
     "metadata": {},
     "output_type": "execute_result"
    }
   ],
   "source": [
    "X.timepoint.unique().shape"
   ]
  },
  {
   "cell_type": "markdown",
   "metadata": {},
   "source": [
    "## Inspect true fitness model"
   ]
  },
  {
   "cell_type": "code",
   "execution_count": 30,
   "metadata": {},
   "outputs": [
    {
     "data": {
      "text/plain": [
       "Text(0,0.5,\"Earth mover's distance\")"
      ]
     },
     "execution_count": 30,
     "metadata": {},
     "output_type": "execute_result"
    },
    {
     "data": {
      "image/png": "[encoded data removed]",
      "text/plain": [
       "<Figure size 1200x800 with 1 Axes>"
      ]
     },
     "metadata": {},
     "output_type": "display_data"
    }
   ],
   "source": [
    "coefficients = np.array(sorted(list(np.linspace(-2, 20, 31)) + [0.]))\n",
    "predictors = [\"normalized_fitness\"]\n",
    "l1_lambda = 0.0\n",
    "\n",
    "model = DistanceExponentialGrowthModel(\n",
    "    predictors=predictors,\n",
    "    delta_time=delta_time,\n",
    "    l1_lambda=l1_lambda,\n",
    "    cost_function=sum_of_differences,\n",
    "    distances=distances_by_sample\n",
    ")\n",
    "model.mean_stds_ = model.calculate_mean_stds(X, model.predictors)\n",
    "\n",
    "errors = []\n",
    "for coefficient in coefficients:\n",
    "    error = model._fit([coefficient], X, y)\n",
    "    errors.append(error)\n",
    "\n",
    "plt.plot(coefficients, errors, \"o\")\n",
    "plt.xlabel(\"True fitness coefficient\")\n",
    "plt.ylabel(\"Earth mover's distance\")\n",
    "#plt.xlim(-1, 1)"
   ]
  },
  {
   "cell_type": "code",
   "execution_count": 31,
   "metadata": {},
   "outputs": [
    {
     "data": {
      "text/plain": [
       "6.066666666666666"
      ]
     },
     "execution_count": 31,
     "metadata": {},
     "output_type": "execute_result"
    }
   ],
   "source": [
    "coefficients[np.argmin(errors)]"
   ]
  },
  {
   "cell_type": "code",
   "execution_count": 32,
   "metadata": {},
   "outputs": [
    {
     "data": {
      "text/plain": [
       "1.1753835311302776"
      ]
     },
     "execution_count": 32,
     "metadata": {},
     "output_type": "execute_result"
    }
   ],
   "source": [
    "errors[np.where(coefficients == 0)[0][0]] - min(errors)"
   ]
  },
  {
   "cell_type": "markdown",
   "metadata": {},
   "source": [
    "## Inspect LBI model"
   ]
  },
  {
   "cell_type": "code",
   "execution_count": 33,
   "metadata": {},
   "outputs": [
    {
     "data": {
      "text/plain": [
       "Text(0,0.5,\"Earth mover's distance\")"
      ]
     },
     "execution_count": 33,
     "metadata": {},
     "output_type": "execute_result"
    },
    {
     "data": {
      "image/png": "[encoded data removed]",
      "text/plain": [
       "<Figure size 1200x800 with 1 Axes>"
      ]
     },
     "metadata": {},
     "output_type": "display_data"
    }
   ],
   "source": [
    "coefficients = np.linspace(-2, 2, 31)\n",
    "predictors = [\"lbi\"]\n",
    "l1_lambda = 0.0\n",
    "\n",
    "model = DistanceExponentialGrowthModel(\n",
    "    predictors=predictors,\n",
    "    delta_time=delta_time,\n",
    "    l1_lambda=l1_lambda,\n",
    "    cost_function=sum_of_differences,\n",
    "    distances=distances_by_sample\n",
    ")\n",
    "model.mean_stds_ = model.calculate_mean_stds(X, model.predictors)\n",
    "\n",
    "errors = []\n",
    "for coefficient in coefficients:\n",
    "    error = model._fit([coefficient], X, y)\n",
    "    errors.append(error)\n",
    "\n",
    "plt.plot(coefficients, errors, \"o\")\n",
    "plt.xlabel(\"LBI coefficient\")\n",
    "plt.ylabel(\"Earth mover's distance\")\n",
    "#plt.xlim(-1, 1)"
   ]
  },
  {
   "cell_type": "code",
   "execution_count": 34,
   "metadata": {},
   "outputs": [
    {
     "data": {
      "text/plain": [
       "8.431238687955416"
      ]
     },
     "execution_count": 34,
     "metadata": {},
     "output_type": "execute_result"
    }
   ],
   "source": [
    "min(errors)"
   ]
  },
  {
   "cell_type": "code",
   "execution_count": 35,
   "metadata": {},
   "outputs": [
    {
     "data": {
      "text/plain": [
       "1.3333333333333335"
      ]
     },
     "execution_count": 35,
     "metadata": {},
     "output_type": "execute_result"
    }
   ],
   "source": [
    "coefficients[np.argmin(errors)]"
   ]
  },
  {
   "cell_type": "code",
   "execution_count": 36,
   "metadata": {},
   "outputs": [
    {
     "data": {
      "text/plain": [
       "1.4139395860525283"
      ]
     },
     "execution_count": 36,
     "metadata": {},
     "output_type": "execute_result"
    }
   ],
   "source": [
    "errors[np.where(coefficients == 0)[0][0]] - min(errors)"
   ]
  },
  {
   "cell_type": "markdown",
   "metadata": {},
   "source": [
    "## Inspect non-epitope mutations"
   ]
  },
  {
   "cell_type": "code",
   "execution_count": 37,
   "metadata": {},
   "outputs": [
    {
     "data": {
      "text/plain": [
       "Text(0,0.5,\"Earth mover's distance\")"
      ]
     },
     "execution_count": 37,
     "metadata": {},
     "output_type": "execute_result"
    },
    {
     "data": {
      "image/png": "[encoded data removed]",
      "text/plain": [
       "<Figure size 1200x800 with 1 Axes>"
      ]
     },
     "metadata": {},
     "output_type": "display_data"
    }
   ],
   "source": [
    "coefficients = np.linspace(-5, 1, 31)\n",
    "predictors = [\"ne_star\"]\n",
    "l1_lambda = 0.0\n",
    "\n",
    "model = DistanceExponentialGrowthModel(\n",
    "    predictors=predictors,\n",
    "    delta_time=delta_time,\n",
    "    l1_lambda=l1_lambda,\n",
    "    cost_function=sum_of_differences,\n",
    "    distances=distances_by_sample\n",
    ")\n",
    "model.mean_stds_ = model.calculate_mean_stds(X, model.predictors)\n",
    "\n",
    "errors = []\n",
    "for coefficient in coefficients:\n",
    "    error = model._fit([coefficient], X, y)\n",
    "    errors.append(error)\n",
    "\n",
    "plt.plot(coefficients, errors, \"o\")\n",
    "plt.xlabel(\"Non-epitope mutations coefficient\")\n",
    "plt.ylabel(\"Earth mover's distance\")\n",
    "#plt.xlim(-1, 1)"
   ]
  },
  {
   "cell_type": "code",
   "execution_count": 38,
   "metadata": {},
   "outputs": [
    {
     "data": {
      "text/plain": [
       "-1.4"
      ]
     },
     "execution_count": 38,
     "metadata": {},
     "output_type": "execute_result"
    }
   ],
   "source": [
    "coefficients[np.argmin(errors)]"
   ]
  },
  {
   "cell_type": "code",
   "execution_count": 39,
   "metadata": {},
   "outputs": [
    {
     "data": {
      "text/plain": [
       "0.47366318335899926"
      ]
     },
     "execution_count": 39,
     "metadata": {},
     "output_type": "execute_result"
    }
   ],
   "source": [
    "errors[np.where(coefficients == 0)[0][0]] - min(errors)"
   ]
  },
  {
   "cell_type": "markdown",
   "metadata": {},
   "source": [
    "## Inspect epitope cross-immunity"
   ]
  },
  {
   "cell_type": "code",
   "execution_count": 40,
   "metadata": {},
   "outputs": [
    {
     "data": {
      "text/plain": [
       "Text(0,0.5,\"Earth mover's distance\")"
      ]
     },
     "execution_count": 40,
     "metadata": {},
     "output_type": "execute_result"
    },
    {
     "data": {
      "image/png": "[encoded data removed]",
      "text/plain": [
       "<Figure size 1200x800 with 1 Axes>"
      ]
     },
     "metadata": {},
     "output_type": "display_data"
    }
   ],
   "source": [
    "coefficients = np.linspace(-2, 2, 31)\n",
    "predictors = [\"ep_x\"]\n",
    "l1_lambda = 0.0\n",
    "\n",
    "model = DistanceExponentialGrowthModel(\n",
    "    predictors=predictors,\n",
    "    delta_time=delta_time,\n",
    "    l1_lambda=l1_lambda,\n",
    "    cost_function=sum_of_differences,\n",
    "    distances=distances_by_sample\n",
    ")\n",
    "model.mean_stds_ = model.calculate_mean_stds(X, model.predictors)\n",
    "\n",
    "errors = []\n",
    "for coefficient in coefficients:\n",
    "    error = model._fit([coefficient], X, y)\n",
    "    errors.append(error)\n",
    "\n",
    "plt.plot(coefficients, errors, \"o\")\n",
    "plt.xlabel(\"Epitope cross-immunity coefficient\")\n",
    "plt.ylabel(\"Earth mover's distance\")\n",
    "#plt.xlim(-1, 1)"
   ]
  },
  {
   "cell_type": "code",
   "execution_count": 41,
   "metadata": {},
   "outputs": [
    {
     "data": {
      "text/plain": [
       "0.6666666666666665"
      ]
     },
     "execution_count": 41,
     "metadata": {},
     "output_type": "execute_result"
    }
   ],
   "source": [
    "coefficients[np.argmin(errors)]"
   ]
  },
  {
   "cell_type": "code",
   "execution_count": 42,
   "metadata": {},
   "outputs": [
    {
     "data": {
      "text/plain": [
       "0.2461874668414783"
      ]
     },
     "execution_count": 42,
     "metadata": {},
     "output_type": "execute_result"
    }
   ],
   "source": [
    "errors[np.where(coefficients == 0)[0][0]] - min(errors)"
   ]
  },
  {
   "cell_type": "markdown",
   "metadata": {},
   "source": [
    "## Inspect cTiterSub model"
   ]
  },
  {
   "cell_type": "code",
   "execution_count": null,
   "metadata": {},
   "outputs": [],
   "source": [
    "predictors = [\"cTiterSub_x\"]\n",
    "l1_lambda = 0.5\n",
    "\n",
    "model = DistanceExponentialGrowthModel(\n",
    "    predictors=predictors,\n",
    "    delta_time=delta_time,\n",
    "    l1_lambda=l1_lambda,\n",
    "    cost_function=sum_of_differences,\n",
    "    distances=distances_by_sample\n",
    ")\n",
    "model.mean_stds_ = model.calculate_mean_stds(X, model.predictors)\n",
    "\n",
    "errors = []\n",
    "for coefficient in coefficients:\n",
    "    error = model._fit([coefficient], X, y)\n",
    "    errors.append(error)\n",
    "\n",
    "plt.plot(coefficients, errors, \"o\")\n",
    "plt.xlabel(\"cTiterSub_x coefficient\")\n",
    "plt.ylabel(\"Weighted distance\")"
   ]
  },
  {
   "cell_type": "code",
   "execution_count": null,
   "metadata": {},
   "outputs": [],
   "source": [
    "min(errors)"
   ]
  },
  {
   "cell_type": "code",
   "execution_count": null,
   "metadata": {},
   "outputs": [],
   "source": [
    "coefficients[np.argmin(errors)]"
   ]
  },
  {
   "cell_type": "markdown",
   "metadata": {},
   "source": [
    "## Inspect epitope count model"
   ]
  },
  {
   "cell_type": "code",
   "execution_count": null,
   "metadata": {},
   "outputs": [],
   "source": [
    "predictors = [\"ep\"]\n",
    "l1_lambda = 0.5\n",
    "\n",
    "model = DistanceExponentialGrowthModel(\n",
    "    predictors=predictors,\n",
    "    delta_time=delta_time,\n",
    "    l1_lambda=l1_lambda,\n",
    "    cost_function=sum_of_differences,\n",
    "    distances=distances_by_sample\n",
    ")\n",
    "model.mean_stds_ = model.calculate_mean_stds(X, model.predictors)\n",
    "\n",
    "errors = []\n",
    "for coefficient in coefficients:\n",
    "    error = model._fit([coefficient], X, y)\n",
    "    errors.append(error)\n",
    "\n",
    "plt.plot(coefficients, errors, \"o\")\n",
    "plt.xlabel(\"ep coefficient\")\n",
    "plt.ylabel(\"Weighted distance\")"
   ]
  },
  {
   "cell_type": "code",
   "execution_count": null,
   "metadata": {},
   "outputs": [],
   "source": [
    "min(errors)"
   ]
  },
  {
   "cell_type": "code",
   "execution_count": null,
   "metadata": {},
   "outputs": [],
   "source": [
    "coefficients[np.argmin(errors)]"
   ]
  },
  {
   "cell_type": "markdown",
   "metadata": {},
   "source": [
    "## Inspect epitope cross-immunity model"
   ]
  },
  {
   "cell_type": "code",
   "execution_count": null,
   "metadata": {},
   "outputs": [],
   "source": [
    "predictors = [\"ep_x\"]\n",
    "\n",
    "model = DistanceExponentialGrowthModel(\n",
    "    predictors=predictors,\n",
    "    delta_time=delta_time,\n",
    "    l1_lambda=l1_lambda,\n",
    "    cost_function=sum_of_differences,\n",
    "    distances=distances_by_sample\n",
    ")\n",
    "\n",
    "errors = []\n",
    "for coefficient in coefficients:\n",
    "    error = model._fit([coefficient], X, y)\n",
    "    errors.append(error)\n",
    "\n",
    "plt.plot(coefficients, errors, \"o\")\n",
    "plt.xlabel(\"Epitope cross-immunity model coefficient\")\n",
    "plt.ylabel(\"Weighted distance\")"
   ]
  },
  {
   "cell_type": "code",
   "execution_count": null,
   "metadata": {},
   "outputs": [],
   "source": [
    "min(errors)"
   ]
  },
  {
   "cell_type": "code",
   "execution_count": null,
   "metadata": {},
   "outputs": [],
   "source": [
    "coefficients[np.argmin(errors)]"
   ]
  },
  {
   "cell_type": "markdown",
   "metadata": {},
   "source": [
    "## Inspect delta frequency model"
   ]
  },
  {
   "cell_type": "code",
   "execution_count": null,
   "metadata": {},
   "outputs": [],
   "source": [
    "predictors = [\"delta_frequency\"]\n",
    "l1_lambda = 0.5\n",
    "\n",
    "model = DistanceExponentialGrowthModel(\n",
    "    predictors=predictors,\n",
    "    delta_time=delta_time,\n",
    "    l1_lambda=l1_lambda,\n",
    "    cost_function=sum_of_differences,\n",
    "    distances=distances_by_sample\n",
    ")\n",
    "model.mean_stds_ = model.calculate_mean_stds(X, model.predictors)\n",
    "\n",
    "errors = []\n",
    "for coefficient in coefficients:\n",
    "    error = model._fit([coefficient], X, y)\n",
    "    errors.append(error)\n",
    "\n",
    "plt.plot(coefficients, errors, \"o\")\n",
    "plt.xlabel(\"delta frequency coefficient\")\n",
    "plt.ylabel(\"Weighted distance\")"
   ]
  },
  {
   "cell_type": "code",
   "execution_count": null,
   "metadata": {},
   "outputs": [],
   "source": [
    "min(errors)"
   ]
  },
  {
   "cell_type": "code",
   "execution_count": null,
   "metadata": {},
   "outputs": [],
   "source": [
    "coefficients[np.argmin(errors)]"
   ]
  },
  {
   "cell_type": "markdown",
   "metadata": {},
   "source": [
    "## Inspect two-parameter models"
   ]
  },
  {
   "cell_type": "code",
   "execution_count": null,
   "metadata": {},
   "outputs": [],
   "source": [
    "predictors = [\"lbi\", \"cTiterSub_x\"]\n",
    "\n",
    "model = DistanceExponentialGrowthModel(\n",
    "    predictors=predictors,\n",
    "    delta_time=delta_time,\n",
    "    l1_lambda=l1_lambda,\n",
    "    cost_function=sum_of_differences,\n",
    "    distances=distances_by_sample\n",
    ")"
   ]
  },
  {
   "cell_type": "code",
   "execution_count": null,
   "metadata": {},
   "outputs": [],
   "source": [
    "len(coefficients)"
   ]
  },
  {
   "cell_type": "code",
   "execution_count": null,
   "metadata": {},
   "outputs": [],
   "source": [
    "errors_by_first_coefficient = {}\n",
    "for coefficient_i in coefficients:\n",
    "    errors = []\n",
    "    for coefficient_j in coefficients:\n",
    "        error = model._fit([coefficient_i, coefficient_j], X, y)\n",
    "        errors.append(error)\n",
    "    \n",
    "    errors_by_first_coefficient[coefficient_i] = errors"
   ]
  },
  {
   "cell_type": "code",
   "execution_count": null,
   "metadata": {},
   "outputs": [],
   "source": [
    "fig, axes = plt.subplots(6, 4, figsize=(20, 20), gridspec_kw={\"hspace\": 0.75}, sharey=True)\n",
    "\n",
    "for ci, coefficient_i in enumerate(sorted(errors_by_first_coefficient.keys())):\n",
    "    ax = axes.flatten()[ci]\n",
    "    \n",
    "    errors = errors_by_first_coefficient[coefficient_i]\n",
    "    ax.plot(coefficients, errors, \"o\")\n",
    "    ax.set_xlabel(\"Titer substitution model coefficient\")\n",
    "    ax.set_ylabel(\"Weighted distance\")\n",
    "    ax.set_title(\"LBI coefficient: %.2f\" % coefficient_i)"
   ]
  },
  {
   "cell_type": "code",
   "execution_count": null,
   "metadata": {},
   "outputs": [],
   "source": [
    "predictors = [\"lbi\", \"cTiterSub_x\"]\n",
    "delta_time = 1.0\n",
    "l1_lambda = 0.0\n",
    "\n",
    "model = ExponentialGrowthModel(\n",
    "    predictors=predictors,\n",
    "    delta_time=delta_time,\n",
    "    l1_lambda=l1_lambda,\n",
    "    cost_function=mean_absolute_error\n",
    ")\n",
    "\n",
    "records = []\n",
    "errors_by_first_coefficient = {}\n",
    "for coefficient_i in coefficients:\n",
    "    errors = []\n",
    "    for coefficient_j in coefficients:\n",
    "        error = model._fit([coefficient_i, coefficient_j], X, y)\n",
    "        errors.append(error)\n",
    "        records.append({\n",
    "            \"lbi\": coefficient_i,\n",
    "            \"cTiterSub\": coefficient_j,\n",
    "            \"error\": error\n",
    "        })\n",
    "    \n",
    "    errors_by_first_coefficient[coefficient_i] = errors"
   ]
  },
  {
   "cell_type": "code",
   "execution_count": null,
   "metadata": {},
   "outputs": [],
   "source": [
    "records_df = pd.DataFrame(records)\n",
    "records_df.sort_values(\"error\").head()"
   ]
  },
  {
   "cell_type": "code",
   "execution_count": null,
   "metadata": {},
   "outputs": [],
   "source": [
    "fig, axes = plt.subplots(6, 4, figsize=(20, 20), gridspec_kw={\"hspace\": 0.75}, sharey=True)\n",
    "\n",
    "for ci, coefficient_i in enumerate(sorted(errors_by_first_coefficient.keys())):\n",
    "    ax = axes.flatten()[ci]\n",
    "    \n",
    "    errors = errors_by_first_coefficient[coefficient_i]\n",
    "    ax.plot(coefficients, errors, \"o\")\n",
    "    ax.set_xlabel(\"Titer substitution model coefficient\")\n",
    "    ax.set_ylabel(\"MAE\")\n",
    "    ax.set_title(\"LBI coefficient: %.2f\" % coefficient_i)"
   ]
  }
 ],
 "metadata": {
  "kernelspec": {
   "display_name": "Python 3",
   "language": "python",
   "name": "python3"
  },
  "language_info": {
   "codemirror_mode": {
    "name": "ipython",
    "version": 3
   },
   "file_extension": ".py",
   "mimetype": "text/x-python",
   "name": "python",
   "nbconvert_exporter": "python",
   "pygments_lexer": "ipython3",
   "version": "3.6.7"
  }
 },
 "nbformat": 4,
 "nbformat_minor": 4
}
