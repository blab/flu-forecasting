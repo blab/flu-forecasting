{
 "cells": [
  {
   "cell_type": "markdown",
   "metadata": {},
   "source": [
    "# Parameter sweep for LBI predictor\n",
    "\n",
    "Load flu tip attributes and final clade frequencies and then calculate the error of an exponential growth model based on just the LBI predictor across a range of predictor coefficients. The goal is to determine the shape of the error function that is exposed to scipy's optimization machinery."
   ]
  },
  {
   "cell_type": "code",
   "execution_count": 1,
   "metadata": {},
   "outputs": [],
   "source": [
    "import matplotlib.pyplot as plt\n",
    "import numpy as np\n",
    "import pandas as pd\n",
    "import sys\n",
    "\n",
    "%matplotlib inline\n",
    "\n",
    "plt.style.use(\"huddlej\")"
   ]
  },
  {
   "cell_type": "code",
   "execution_count": 2,
   "metadata": {},
   "outputs": [
    {
     "data": {
      "text/plain": [
       "'/Users/jlhudd/projects/nextstrain/flu-forecasting/analyses'"
      ]
     },
     "execution_count": 2,
     "metadata": {},
     "output_type": "execute_result"
    }
   ],
   "source": [
    "pwd"
   ]
  },
  {
   "cell_type": "code",
   "execution_count": 3,
   "metadata": {},
   "outputs": [],
   "source": [
    "sys.path.insert(0, \"../src\")"
   ]
  },
  {
   "cell_type": "code",
   "execution_count": 20,
   "metadata": {},
   "outputs": [],
   "source": [
    "from fit_model import DistanceExponentialGrowthModel, sum_of_differences\n",
    "from weighted_distances import get_distances_by_sample_names"
   ]
  },
  {
   "cell_type": "markdown",
   "metadata": {},
   "source": [
    "## Load data"
   ]
  },
  {
   "cell_type": "markdown",
   "metadata": {},
   "source": [
    "Define the range of possible coefficient values to explore."
   ]
  },
  {
   "cell_type": "code",
   "execution_count": 66,
   "metadata": {},
   "outputs": [],
   "source": [
    "coefficients = np.linspace(-15, 15, 31)"
   ]
  },
  {
   "cell_type": "code",
   "execution_count": 43,
   "metadata": {},
   "outputs": [],
   "source": [
    "delta_time = 1.0\n",
    "l1_lambda = 0.0"
   ]
  },
  {
   "cell_type": "code",
   "execution_count": 44,
   "metadata": {},
   "outputs": [],
   "source": [
    "last_timepoint = pd.to_datetime(\"2016-10-01\")"
   ]
  },
  {
   "cell_type": "code",
   "execution_count": 45,
   "metadata": {},
   "outputs": [],
   "source": [
    "distances = pd.read_csv(\n",
    "    \"../results/builds/h3n2/1_viruses_per_month/sample_0/2000-10-01--2015-10-01/target_distances.tsv\",\n",
    "    sep=\"\\t\"\n",
    ")"
   ]
  },
  {
   "cell_type": "code",
   "execution_count": 46,
   "metadata": {},
   "outputs": [],
   "source": [
    "distances_by_sample = get_distances_by_sample_names(distances)"
   ]
  },
  {
   "cell_type": "code",
   "execution_count": 47,
   "metadata": {},
   "outputs": [],
   "source": [
    "# Load tip attributes.\n",
    "X = pd.read_csv(\n",
    "    \"../results/builds/h3n2/1_viruses_per_month/sample_0/2000-10-01--2015-10-01/standardized_tip_attributes.tsv\",\n",
    "    sep=\"\\t\",\n",
    "    parse_dates=[\"timepoint\"]\n",
    ")"
   ]
  },
  {
   "cell_type": "code",
   "execution_count": 48,
   "metadata": {},
   "outputs": [
    {
     "data": {
      "text/plain": [
       "Index(['strain', 'branch_length', 'cTiter', 'cTiterSub', 'cTiterSub_x',\n",
       "       'clade_membership', 'clock_length', 'country', 'country_entropy',\n",
       "       'dTiter', 'dTiterSub', 'date', 'delta_frequency', 'dms_star', 'ep',\n",
       "       'ep_x', 'lbi', 'mutation_length', 'ne', 'ne_star', 'numdate',\n",
       "       'raw_date', 'rb', 'region', 'region_entropy', 'is_terminal',\n",
       "       'timepoint', 'lineage', 'segment', 'frequency', 'naive',\n",
       "       'weighted_distance_to_future', 'weighted_distance_to_present',\n",
       "       'log2_distance_effect'],\n",
       "      dtype='object')"
      ]
     },
     "execution_count": 48,
     "metadata": {},
     "output_type": "execute_result"
    }
   ],
   "source": [
    "X.columns"
   ]
  },
  {
   "cell_type": "code",
   "execution_count": 49,
   "metadata": {},
   "outputs": [],
   "source": [
    "X = X.loc[:, [\"strain\", \"clade_membership\", \"timepoint\", \"cTiterSub_x\", \"lbi\", \"ep\", \"ep_x\", \"ne\", \"delta_frequency\", \"frequency\",\n",
    "              \"weighted_distance_to_present\", \"weighted_distance_to_future\"]].copy()"
   ]
  },
  {
   "cell_type": "code",
   "execution_count": 50,
   "metadata": {},
   "outputs": [],
   "source": [
    "X = X[X[\"timepoint\"] <= last_timepoint]"
   ]
  },
  {
   "cell_type": "code",
   "execution_count": 51,
   "metadata": {},
   "outputs": [
    {
     "data": {
      "text/html": [
       "<div>\n",
       "<style scoped>\n",
       "    .dataframe tbody tr th:only-of-type {\n",
       "        vertical-align: middle;\n",
       "    }\n",
       "\n",
       "    .dataframe tbody tr th {\n",
       "        vertical-align: top;\n",
       "    }\n",
       "\n",
       "    .dataframe thead th {\n",
       "        text-align: right;\n",
       "    }\n",
       "</style>\n",
       "<table border=\"1\" class=\"dataframe\">\n",
       "  <thead>\n",
       "    <tr style=\"text-align: right;\">\n",
       "      <th></th>\n",
       "      <th>strain</th>\n",
       "      <th>clade_membership</th>\n",
       "      <th>timepoint</th>\n",
       "      <th>cTiterSub_x</th>\n",
       "      <th>lbi</th>\n",
       "      <th>ep</th>\n",
       "      <th>ep_x</th>\n",
       "      <th>ne</th>\n",
       "      <th>delta_frequency</th>\n",
       "      <th>frequency</th>\n",
       "      <th>weighted_distance_to_present</th>\n",
       "      <th>weighted_distance_to_future</th>\n",
       "    </tr>\n",
       "  </thead>\n",
       "  <tbody>\n",
       "    <tr>\n",
       "      <th>0</th>\n",
       "      <td>A/California/7/2004</td>\n",
       "      <td>4ff1302</td>\n",
       "      <td>2004-10-01</td>\n",
       "      <td>0.815847</td>\n",
       "      <td>1.983446</td>\n",
       "      <td>1.681531</td>\n",
       "      <td>1.817003</td>\n",
       "      <td>7</td>\n",
       "      <td>1.080522</td>\n",
       "      <td>0.063517</td>\n",
       "      <td>6.124823</td>\n",
       "      <td>5.887278</td>\n",
       "    </tr>\n",
       "    <tr>\n",
       "      <th>1</th>\n",
       "      <td>A/Canterbury/201/2004</td>\n",
       "      <td>4ff1302</td>\n",
       "      <td>2004-10-01</td>\n",
       "      <td>0.815847</td>\n",
       "      <td>1.983446</td>\n",
       "      <td>0.123254</td>\n",
       "      <td>0.869821</td>\n",
       "      <td>8</td>\n",
       "      <td>1.080522</td>\n",
       "      <td>0.063517</td>\n",
       "      <td>4.492171</td>\n",
       "      <td>4.176117</td>\n",
       "    </tr>\n",
       "    <tr>\n",
       "      <th>2</th>\n",
       "      <td>A/Canterbury/23/2004</td>\n",
       "      <td>4ff1302</td>\n",
       "      <td>2004-10-01</td>\n",
       "      <td>0.815847</td>\n",
       "      <td>2.312820</td>\n",
       "      <td>0.123254</td>\n",
       "      <td>0.869821</td>\n",
       "      <td>7</td>\n",
       "      <td>1.080522</td>\n",
       "      <td>0.085993</td>\n",
       "      <td>3.619208</td>\n",
       "      <td>3.176116</td>\n",
       "    </tr>\n",
       "    <tr>\n",
       "      <th>3</th>\n",
       "      <td>A/England/909/2003</td>\n",
       "      <td>b32cea9</td>\n",
       "      <td>2004-10-01</td>\n",
       "      <td>0.815847</td>\n",
       "      <td>-0.772716</td>\n",
       "      <td>-1.435024</td>\n",
       "      <td>-0.189384</td>\n",
       "      <td>6</td>\n",
       "      <td>-0.287716</td>\n",
       "      <td>0.000009</td>\n",
       "      <td>6.270080</td>\n",
       "      <td>8.603379</td>\n",
       "    </tr>\n",
       "    <tr>\n",
       "      <th>4</th>\n",
       "      <td>A/Hanoi/HN30147/2004</td>\n",
       "      <td>4ff1302</td>\n",
       "      <td>2004-10-01</td>\n",
       "      <td>0.815847</td>\n",
       "      <td>-0.881800</td>\n",
       "      <td>-0.396172</td>\n",
       "      <td>0.536196</td>\n",
       "      <td>7</td>\n",
       "      <td>1.080522</td>\n",
       "      <td>0.003242</td>\n",
       "      <td>5.923253</td>\n",
       "      <td>7.640958</td>\n",
       "    </tr>\n",
       "  </tbody>\n",
       "</table>\n",
       "</div>"
      ],
      "text/plain": [
       "                  strain clade_membership  timepoint  cTiterSub_x       lbi  \\\n",
       "0    A/California/7/2004          4ff1302 2004-10-01     0.815847  1.983446   \n",
       "1  A/Canterbury/201/2004          4ff1302 2004-10-01     0.815847  1.983446   \n",
       "2   A/Canterbury/23/2004          4ff1302 2004-10-01     0.815847  2.312820   \n",
       "3     A/England/909/2003          b32cea9 2004-10-01     0.815847 -0.772716   \n",
       "4   A/Hanoi/HN30147/2004          4ff1302 2004-10-01     0.815847 -0.881800   \n",
       "\n",
       "         ep      ep_x  ne  delta_frequency  frequency  \\\n",
       "0  1.681531  1.817003   7         1.080522   0.063517   \n",
       "1  0.123254  0.869821   8         1.080522   0.063517   \n",
       "2  0.123254  0.869821   7         1.080522   0.085993   \n",
       "3 -1.435024 -0.189384   6        -0.287716   0.000009   \n",
       "4 -0.396172  0.536196   7         1.080522   0.003242   \n",
       "\n",
       "   weighted_distance_to_present  weighted_distance_to_future  \n",
       "0                      6.124823                     5.887278  \n",
       "1                      4.492171                     4.176117  \n",
       "2                      3.619208                     3.176116  \n",
       "3                      6.270080                     8.603379  \n",
       "4                      5.923253                     7.640958  "
      ]
     },
     "execution_count": 51,
     "metadata": {},
     "output_type": "execute_result"
    }
   ],
   "source": [
    "X.head()"
   ]
  },
  {
   "cell_type": "code",
   "execution_count": 52,
   "metadata": {},
   "outputs": [
    {
     "data": {
      "text/plain": [
       "(1502, 12)"
      ]
     },
     "execution_count": 52,
     "metadata": {},
     "output_type": "execute_result"
    }
   ],
   "source": [
    "X.shape"
   ]
  },
  {
   "cell_type": "code",
   "execution_count": 53,
   "metadata": {},
   "outputs": [],
   "source": [
    "X = X[~pd.isnull(X[\"weighted_distance_to_present\"])].copy()"
   ]
  },
  {
   "cell_type": "code",
   "execution_count": 54,
   "metadata": {},
   "outputs": [
    {
     "data": {
      "text/plain": [
       "(1306, 12)"
      ]
     },
     "execution_count": 54,
     "metadata": {},
     "output_type": "execute_result"
    }
   ],
   "source": [
    "X.shape"
   ]
  },
  {
   "cell_type": "code",
   "execution_count": 55,
   "metadata": {},
   "outputs": [],
   "source": [
    "X[\"y\"] = X[\"frequency\"] * X[\"weighted_distance_to_future\"]\n",
    "y = X.loc[:, [\"strain\", \"timepoint\", \"y\"]].copy()"
   ]
  },
  {
   "cell_type": "code",
   "execution_count": 56,
   "metadata": {},
   "outputs": [
    {
     "data": {
      "text/html": [
       "<div>\n",
       "<style scoped>\n",
       "    .dataframe tbody tr th:only-of-type {\n",
       "        vertical-align: middle;\n",
       "    }\n",
       "\n",
       "    .dataframe tbody tr th {\n",
       "        vertical-align: top;\n",
       "    }\n",
       "\n",
       "    .dataframe thead th {\n",
       "        text-align: right;\n",
       "    }\n",
       "</style>\n",
       "<table border=\"1\" class=\"dataframe\">\n",
       "  <thead>\n",
       "    <tr style=\"text-align: right;\">\n",
       "      <th></th>\n",
       "      <th>strain</th>\n",
       "      <th>timepoint</th>\n",
       "      <th>y</th>\n",
       "    </tr>\n",
       "  </thead>\n",
       "  <tbody>\n",
       "    <tr>\n",
       "      <th>0</th>\n",
       "      <td>A/California/7/2004</td>\n",
       "      <td>2004-10-01</td>\n",
       "      <td>0.373942</td>\n",
       "    </tr>\n",
       "    <tr>\n",
       "      <th>1</th>\n",
       "      <td>A/Canterbury/201/2004</td>\n",
       "      <td>2004-10-01</td>\n",
       "      <td>0.265254</td>\n",
       "    </tr>\n",
       "    <tr>\n",
       "      <th>2</th>\n",
       "      <td>A/Canterbury/23/2004</td>\n",
       "      <td>2004-10-01</td>\n",
       "      <td>0.273124</td>\n",
       "    </tr>\n",
       "    <tr>\n",
       "      <th>3</th>\n",
       "      <td>A/England/909/2003</td>\n",
       "      <td>2004-10-01</td>\n",
       "      <td>0.000077</td>\n",
       "    </tr>\n",
       "    <tr>\n",
       "      <th>4</th>\n",
       "      <td>A/Hanoi/HN30147/2004</td>\n",
       "      <td>2004-10-01</td>\n",
       "      <td>0.024772</td>\n",
       "    </tr>\n",
       "  </tbody>\n",
       "</table>\n",
       "</div>"
      ],
      "text/plain": [
       "                  strain  timepoint         y\n",
       "0    A/California/7/2004 2004-10-01  0.373942\n",
       "1  A/Canterbury/201/2004 2004-10-01  0.265254\n",
       "2   A/Canterbury/23/2004 2004-10-01  0.273124\n",
       "3     A/England/909/2003 2004-10-01  0.000077\n",
       "4   A/Hanoi/HN30147/2004 2004-10-01  0.024772"
      ]
     },
     "execution_count": 56,
     "metadata": {},
     "output_type": "execute_result"
    }
   ],
   "source": [
    "y.head()"
   ]
  },
  {
   "cell_type": "markdown",
   "metadata": {},
   "source": [
    "## Inspect LBI model"
   ]
  },
  {
   "cell_type": "code",
   "execution_count": 70,
   "metadata": {},
   "outputs": [
    {
     "data": {
      "text/plain": [
       "Text(0,0.5,'Weighted distance')"
      ]
     },
     "execution_count": 70,
     "metadata": {},
     "output_type": "execute_result"
    },
    {
     "data": {
      "image/png": "[encoded data removed]",
      "text/plain": [
       "<Figure size 432x288 with 1 Axes>"
      ]
     },
     "metadata": {
      "needs_background": "light"
     },
     "output_type": "display_data"
    }
   ],
   "source": [
    "predictors = [\"lbi\"]\n",
    "l1_lambda = 0.5\n",
    "model = DistanceExponentialGrowthModel(\n",
    "    predictors=predictors,\n",
    "    delta_time=delta_time,\n",
    "    l1_lambda=l1_lambda,\n",
    "    cost_function=sum_of_differences,\n",
    "    distances=distances_by_sample\n",
    ")\n",
    "\n",
    "errors = []\n",
    "for coefficient in coefficients:\n",
    "    error = model._fit([coefficient], X, y)\n",
    "    errors.append(error)\n",
    "\n",
    "plt.plot(coefficients, errors, \"o\")\n",
    "plt.xlabel(\"LBI coefficient\")\n",
    "plt.ylabel(\"Weighted distance\")"
   ]
  },
  {
   "cell_type": "code",
   "execution_count": 71,
   "metadata": {},
   "outputs": [
    {
     "data": {
      "text/plain": [
       "132.54406728423817"
      ]
     },
     "execution_count": 71,
     "metadata": {},
     "output_type": "execute_result"
    }
   ],
   "source": [
    "min(errors)"
   ]
  },
  {
   "cell_type": "code",
   "execution_count": 72,
   "metadata": {},
   "outputs": [
    {
     "data": {
      "text/plain": [
       "8.0"
      ]
     },
     "execution_count": 72,
     "metadata": {},
     "output_type": "execute_result"
    }
   ],
   "source": [
    "coefficients[np.argmin(errors)]"
   ]
  },
  {
   "cell_type": "markdown",
   "metadata": {},
   "source": [
    "## Inspect cTiterSub model"
   ]
  },
  {
   "cell_type": "code",
   "execution_count": 73,
   "metadata": {},
   "outputs": [
    {
     "data": {
      "text/plain": [
       "Text(0,0.5,'Weighted distance')"
      ]
     },
     "execution_count": 73,
     "metadata": {},
     "output_type": "execute_result"
    },
    {
     "data": {
      "image/png": "[encoded data removed]",
      "text/plain": [
       "<Figure size 432x288 with 1 Axes>"
      ]
     },
     "metadata": {
      "needs_background": "light"
     },
     "output_type": "display_data"
    }
   ],
   "source": [
    "predictors = [\"cTiterSub_x\"]\n",
    "\n",
    "model = DistanceExponentialGrowthModel(\n",
    "    predictors=predictors,\n",
    "    delta_time=delta_time,\n",
    "    l1_lambda=l1_lambda,\n",
    "    cost_function=sum_of_differences,\n",
    "    distances=distances_by_sample\n",
    ")\n",
    "\n",
    "errors = []\n",
    "for coefficient in coefficients:\n",
    "    error = model._fit([coefficient], X, y)\n",
    "    errors.append(error)\n",
    "    \n",
    "plt.plot(coefficients, errors, \"o\")\n",
    "plt.xlabel(\"Titer cross-immunity model coefficient\")\n",
    "plt.ylabel(\"Weighted distance\")"
   ]
  },
  {
   "cell_type": "code",
   "execution_count": 74,
   "metadata": {},
   "outputs": [
    {
     "data": {
      "text/plain": [
       "157.55524347599896"
      ]
     },
     "execution_count": 74,
     "metadata": {},
     "output_type": "execute_result"
    }
   ],
   "source": [
    "min(errors)"
   ]
  },
  {
   "cell_type": "code",
   "execution_count": 75,
   "metadata": {},
   "outputs": [
    {
     "data": {
      "text/plain": [
       "2.0"
      ]
     },
     "execution_count": 75,
     "metadata": {},
     "output_type": "execute_result"
    }
   ],
   "source": [
    "coefficients[np.argmin(errors)]"
   ]
  },
  {
   "cell_type": "markdown",
   "metadata": {},
   "source": [
    "## Inspect epitope count model"
   ]
  },
  {
   "cell_type": "code",
   "execution_count": 76,
   "metadata": {},
   "outputs": [
    {
     "data": {
      "text/plain": [
       "Text(0,0.5,'Weighted distance')"
      ]
     },
     "execution_count": 76,
     "metadata": {},
     "output_type": "execute_result"
    },
    {
     "data": {
      "image/png": "[encoded data removed]",
      "text/plain": [
       "<Figure size 432x288 with 1 Axes>"
      ]
     },
     "metadata": {
      "needs_background": "light"
     },
     "output_type": "display_data"
    }
   ],
   "source": [
    "predictors = [\"ep\"]\n",
    "\n",
    "model = DistanceExponentialGrowthModel(\n",
    "    predictors=predictors,\n",
    "    delta_time=delta_time,\n",
    "    l1_lambda=l1_lambda,\n",
    "    cost_function=sum_of_differences,\n",
    "    distances=distances_by_sample\n",
    ")\n",
    "\n",
    "errors = []\n",
    "for coefficient in coefficients:\n",
    "    error = model._fit([coefficient], X, y)\n",
    "    errors.append(error)\n",
    "\n",
    "plt.plot(coefficients, errors, \"o\")\n",
    "plt.xlabel(\"Epitope count model coefficient\")\n",
    "plt.ylabel(\"Weighted distance\")"
   ]
  },
  {
   "cell_type": "code",
   "execution_count": null,
   "metadata": {},
   "outputs": [],
   "source": [
    "min(errors)"
   ]
  },
  {
   "cell_type": "code",
   "execution_count": null,
   "metadata": {},
   "outputs": [],
   "source": [
    "coefficients[np.argmin(errors)]"
   ]
  },
  {
   "cell_type": "markdown",
   "metadata": {},
   "source": [
    "## Inspect epitope cross-immunity model"
   ]
  },
  {
   "cell_type": "code",
   "execution_count": 77,
   "metadata": {},
   "outputs": [
    {
     "data": {
      "text/plain": [
       "Text(0,0.5,'Weighted distance')"
      ]
     },
     "execution_count": 77,
     "metadata": {},
     "output_type": "execute_result"
    },
    {
     "data": {
      "image/png": "[encoded data removed]",
      "text/plain": [
       "<Figure size 432x288 with 1 Axes>"
      ]
     },
     "metadata": {
      "needs_background": "light"
     },
     "output_type": "display_data"
    }
   ],
   "source": [
    "predictors = [\"ep_x\"]\n",
    "\n",
    "model = DistanceExponentialGrowthModel(\n",
    "    predictors=predictors,\n",
    "    delta_time=delta_time,\n",
    "    l1_lambda=l1_lambda,\n",
    "    cost_function=sum_of_differences,\n",
    "    distances=distances_by_sample\n",
    ")\n",
    "\n",
    "errors = []\n",
    "for coefficient in coefficients:\n",
    "    error = model._fit([coefficient], X, y)\n",
    "    errors.append(error)\n",
    "\n",
    "plt.plot(coefficients, errors, \"o\")\n",
    "plt.xlabel(\"Epitope cross-immunity model coefficient\")\n",
    "plt.ylabel(\"Weighted distance\")"
   ]
  },
  {
   "cell_type": "code",
   "execution_count": 79,
   "metadata": {},
   "outputs": [
    {
     "data": {
      "text/plain": [
       "162.23064986189704"
      ]
     },
     "execution_count": 79,
     "metadata": {},
     "output_type": "execute_result"
    }
   ],
   "source": [
    "min(errors)"
   ]
  },
  {
   "cell_type": "code",
   "execution_count": 80,
   "metadata": {},
   "outputs": [
    {
     "data": {
      "text/plain": [
       "0.0"
      ]
     },
     "execution_count": 80,
     "metadata": {},
     "output_type": "execute_result"
    }
   ],
   "source": [
    "coefficients[np.argmin(errors)]"
   ]
  },
  {
   "cell_type": "markdown",
   "metadata": {},
   "source": [
    "## Inspect delta frequency model"
   ]
  },
  {
   "cell_type": "code",
   "execution_count": 81,
   "metadata": {},
   "outputs": [
    {
     "data": {
      "text/plain": [
       "Text(0,0.5,'Weighted distance')"
      ]
     },
     "execution_count": 81,
     "metadata": {},
     "output_type": "execute_result"
    },
    {
     "data": {
      "image/png": "[encoded data removed]",
      "text/plain": [
       "<Figure size 432x288 with 1 Axes>"
      ]
     },
     "metadata": {
      "needs_background": "light"
     },
     "output_type": "display_data"
    }
   ],
   "source": [
    "predictors = [\"delta_frequency\"]\n",
    "\n",
    "model = DistanceExponentialGrowthModel(\n",
    "    predictors=predictors,\n",
    "    delta_time=delta_time,\n",
    "    l1_lambda=l1_lambda,\n",
    "    cost_function=sum_of_differences,\n",
    "    distances=distances_by_sample\n",
    ")\n",
    "\n",
    "errors = []\n",
    "for coefficient in coefficients:\n",
    "    error = model._fit([coefficient], X, y)\n",
    "    errors.append(error)\n",
    "\n",
    "plt.plot(coefficients, errors, \"o\")\n",
    "plt.xlabel(\"delta frequency model coefficient\")\n",
    "plt.ylabel(\"Weighted distance\")"
   ]
  },
  {
   "cell_type": "code",
   "execution_count": 82,
   "metadata": {},
   "outputs": [
    {
     "data": {
      "text/plain": [
       "140.69810743259626"
      ]
     },
     "execution_count": 82,
     "metadata": {},
     "output_type": "execute_result"
    }
   ],
   "source": [
    "min(errors)"
   ]
  },
  {
   "cell_type": "code",
   "execution_count": 83,
   "metadata": {},
   "outputs": [
    {
     "data": {
      "text/plain": [
       "7.0"
      ]
     },
     "execution_count": 83,
     "metadata": {},
     "output_type": "execute_result"
    }
   ],
   "source": [
    "coefficients[np.argmin(errors)]"
   ]
  },
  {
   "cell_type": "markdown",
   "metadata": {},
   "source": [
    "## Inspect two-parameter models"
   ]
  },
  {
   "cell_type": "code",
   "execution_count": 84,
   "metadata": {},
   "outputs": [],
   "source": [
    "predictors = [\"lbi\", \"cTiterSub_x\"]\n",
    "\n",
    "model = DistanceExponentialGrowthModel(\n",
    "    predictors=predictors,\n",
    "    delta_time=delta_time,\n",
    "    l1_lambda=l1_lambda,\n",
    "    cost_function=sum_of_differences,\n",
    "    distances=distances_by_sample\n",
    ")"
   ]
  },
  {
   "cell_type": "code",
   "execution_count": 85,
   "metadata": {},
   "outputs": [
    {
     "data": {
      "text/plain": [
       "31"
      ]
     },
     "execution_count": 85,
     "metadata": {},
     "output_type": "execute_result"
    }
   ],
   "source": [
    "len(coefficients)"
   ]
  },
  {
   "cell_type": "code",
   "execution_count": 86,
   "metadata": {},
   "outputs": [],
   "source": [
    "errors_by_first_coefficient = {}\n",
    "for coefficient_i in coefficients:\n",
    "    errors = []\n",
    "    for coefficient_j in coefficients:\n",
    "        error = model._fit([coefficient_i, coefficient_j], X, y)\n",
    "        errors.append(error)\n",
    "    \n",
    "    errors_by_first_coefficient[coefficient_i] = errors"
   ]
  },
  {
   "cell_type": "code",
   "execution_count": 87,
   "metadata": {},
   "outputs": [
    {
     "ename": "IndexError",
     "evalue": "index 24 is out of bounds for axis 0 with size 24",
     "output_type": "error",
     "traceback": [
      "\u001b[0;31m---------------------------------------------------------------------------\u001b[0m",
      "\u001b[0;31mIndexError\u001b[0m                                Traceback (most recent call last)",
      "\u001b[0;32m<ipython-input-87-c8ffc915e478>\u001b[0m in \u001b[0;36m<module>\u001b[0;34m\u001b[0m\n\u001b[1;32m      2\u001b[0m \u001b[0;34m\u001b[0m\u001b[0m\n\u001b[1;32m      3\u001b[0m \u001b[0;32mfor\u001b[0m \u001b[0mci\u001b[0m\u001b[0;34m,\u001b[0m \u001b[0mcoefficient_i\u001b[0m \u001b[0;32min\u001b[0m \u001b[0menumerate\u001b[0m\u001b[0;34m(\u001b[0m\u001b[0msorted\u001b[0m\u001b[0;34m(\u001b[0m\u001b[0merrors_by_first_coefficient\u001b[0m\u001b[0;34m.\u001b[0m\u001b[0mkeys\u001b[0m\u001b[0;34m(\u001b[0m\u001b[0;34m)\u001b[0m\u001b[0;34m)\u001b[0m\u001b[0;34m)\u001b[0m\u001b[0;34m:\u001b[0m\u001b[0;34m\u001b[0m\u001b[0;34m\u001b[0m\u001b[0m\n\u001b[0;32m----> 4\u001b[0;31m     \u001b[0max\u001b[0m \u001b[0;34m=\u001b[0m \u001b[0maxes\u001b[0m\u001b[0;34m.\u001b[0m\u001b[0mflatten\u001b[0m\u001b[0;34m(\u001b[0m\u001b[0;34m)\u001b[0m\u001b[0;34m[\u001b[0m\u001b[0mci\u001b[0m\u001b[0;34m]\u001b[0m\u001b[0;34m\u001b[0m\u001b[0;34m\u001b[0m\u001b[0m\n\u001b[0m\u001b[1;32m      5\u001b[0m \u001b[0;34m\u001b[0m\u001b[0m\n\u001b[1;32m      6\u001b[0m     \u001b[0merrors\u001b[0m \u001b[0;34m=\u001b[0m \u001b[0merrors_by_first_coefficient\u001b[0m\u001b[0;34m[\u001b[0m\u001b[0mcoefficient_i\u001b[0m\u001b[0;34m]\u001b[0m\u001b[0;34m\u001b[0m\u001b[0;34m\u001b[0m\u001b[0m\n",
      "\u001b[0;31mIndexError\u001b[0m: index 24 is out of bounds for axis 0 with size 24"
     ]
    },
    {
     "data": {
      "image/png": "[encoded data removed]",
      "text/plain": [
       "<Figure size 1440x1440 with 24 Axes>"
      ]
     },
     "metadata": {
      "needs_background": "light"
     },
     "output_type": "display_data"
    }
   ],
   "source": [
    "fig, axes = plt.subplots(6, 4, figsize=(20, 20), gridspec_kw={\"hspace\": 0.75}, sharey=True)\n",
    "\n",
    "for ci, coefficient_i in enumerate(sorted(errors_by_first_coefficient.keys())):\n",
    "    ax = axes.flatten()[ci]\n",
    "    \n",
    "    errors = errors_by_first_coefficient[coefficient_i]\n",
    "    ax.plot(coefficients, errors, \"o\")\n",
    "    ax.set_xlabel(\"Titer substitution model coefficient\")\n",
    "    ax.set_ylabel(\"Weighted distance\")\n",
    "    ax.set_title(\"LBI coefficient: %.2f\" % coefficient_i)"
   ]
  },
  {
   "cell_type": "code",
   "execution_count": null,
   "metadata": {},
   "outputs": [],
   "source": [
    "predictors = [\"lbi\", \"cTiterSub_x\"]\n",
    "delta_time = 1.0\n",
    "l1_lambda = 0.0\n",
    "\n",
    "model = ExponentialGrowthModel(\n",
    "    predictors=predictors,\n",
    "    delta_time=delta_time,\n",
    "    l1_lambda=l1_lambda,\n",
    "    cost_function=mean_absolute_error\n",
    ")\n",
    "\n",
    "records = []\n",
    "errors_by_first_coefficient = {}\n",
    "for coefficient_i in coefficients:\n",
    "    errors = []\n",
    "    for coefficient_j in coefficients:\n",
    "        error = model._fit([coefficient_i, coefficient_j], X, y)\n",
    "        errors.append(error)\n",
    "        records.append({\n",
    "            \"lbi\": coefficient_i,\n",
    "            \"cTiterSub\": coefficient_j,\n",
    "            \"error\": error\n",
    "        })\n",
    "    \n",
    "    errors_by_first_coefficient[coefficient_i] = errors"
   ]
  },
  {
   "cell_type": "code",
   "execution_count": null,
   "metadata": {},
   "outputs": [],
   "source": [
    "records_df = pd.DataFrame(records)\n",
    "records_df.sort_values(\"error\").head()"
   ]
  },
  {
   "cell_type": "code",
   "execution_count": null,
   "metadata": {},
   "outputs": [],
   "source": [
    "fig, axes = plt.subplots(6, 4, figsize=(20, 20), gridspec_kw={\"hspace\": 0.75}, sharey=True)\n",
    "\n",
    "for ci, coefficient_i in enumerate(sorted(errors_by_first_coefficient.keys())):\n",
    "    ax = axes.flatten()[ci]\n",
    "    \n",
    "    errors = errors_by_first_coefficient[coefficient_i]\n",
    "    ax.plot(coefficients, errors, \"o\")\n",
    "    ax.set_xlabel(\"Titer substitution model coefficient\")\n",
    "    ax.set_ylabel(\"MAE\")\n",
    "    ax.set_title(\"LBI coefficient: %.2f\" % coefficient_i)"
   ]
  }
 ],
 "metadata": {
  "kernelspec": {
   "display_name": "Python 3",
   "language": "python",
   "name": "python3"
  },
  "language_info": {
   "codemirror_mode": {
    "name": "ipython",
    "version": 3
   },
   "file_extension": ".py",
   "mimetype": "text/x-python",
   "name": "python",
   "nbconvert_exporter": "python",
   "pygments_lexer": "ipython3",
   "version": "3.6.7"
  }
 },
 "nbformat": 4,
 "nbformat_minor": 2
}
