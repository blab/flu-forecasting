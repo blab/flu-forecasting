{
 "cells": [
  {
   "cell_type": "markdown",
   "metadata": {},
   "source": [
    "# Prepare GISAID accessions for batch download\n",
    "\n",
    "This study uses over 20,000 HA sequences from GISAID. Although all accessions are provided in the tip attributes tables for the natural populations, downloading these sequences is still a non-trivial process. Users need to manually search for accessions through the GISAID web interface and download sequences in batches. Because the GISAID search field has a maximum length of 1000 characters, searching for all 20,000 accessions at once is not possible.\n",
    "\n",
    "This notebook prepares a CSV file (importable into Excel) with batches of all 20,000+ accessions split into no more than 1000 characters per batch. Each batch is annotated by a numeric id and an expected number of sequences per batch, so the user can more easily track which sequences they have downloaded and that they have downloaded the correct number of sequences."
   ]
  },
  {
   "cell_type": "code",
   "execution_count": 1,
   "metadata": {},
   "outputs": [],
   "source": [
    "import pandas as pd"
   ]
  },
  {
   "cell_type": "code",
   "execution_count": 2,
   "metadata": {},
   "outputs": [],
   "source": [
    "# Define the maximum length of the GISAID search field.\n",
    "max_length = 1000"
   ]
  },
  {
   "cell_type": "code",
   "execution_count": 3,
   "metadata": {},
   "outputs": [],
   "source": [
    "# Load tip attributes for both validation and test datasets.\n",
    "tip_attributes_file = \"../results/builds/natural/natural_sample_1_with_90_vpm_sliding/tip_attributes_with_weighted_distances.tsv\"\n",
    "test_tip_attributes_file = \"../results/builds/natural/natural_sample_1_with_90_vpm_sliding_test_tree/tip_attributes_with_weighted_distances.tsv\"\n",
    "\n",
    "df = pd.read_table(tip_attributes_file)\n",
    "test_df = pd.read_table(test_tip_attributes_file)"
   ]
  },
  {
   "cell_type": "code",
   "execution_count": 4,
   "metadata": {},
   "outputs": [],
   "source": [
    "# Collect all distinct accessions across both datasets.\n",
    "accessions = sorted(\n",
    "    set.union(\n",
    "        set(df[\"accession\"].drop_duplicates().values),\n",
    "        set(test_df[\"accession\"].drop_duplicates().values)\n",
    "    )\n",
    ")"
   ]
  },
  {
   "cell_type": "code",
   "execution_count": 5,
   "metadata": {},
   "outputs": [
    {
     "data": {
      "text/plain": [
       "20944"
      ]
     },
     "execution_count": 5,
     "metadata": {},
     "output_type": "execute_result"
    }
   ],
   "source": [
    "len(accessions)"
   ]
  },
  {
   "cell_type": "code",
   "execution_count": 6,
   "metadata": {},
   "outputs": [],
   "source": [
    "# Collect accessions into search strings that can be copied\n",
    "# and pasted into the GISAID search field without exceeding\n",
    "# the maximum field length.\n",
    "batches = []\n",
    "current_batch = []\n",
    "\n",
    "for accession in accessions:\n",
    "    # If adding the current accession to the current batch will not\n",
    "    # exceed the maximum length allowed, append the accession.\n",
    "    if len(\" \".join(current_batch)) + len(accession) + 1 < max_length:\n",
    "        current_batch.append(accession)\n",
    "    else:\n",
    "        # If we have exceeded the maximum length, store the current\n",
    "        # batch and create a new one with the current accession.\n",
    "        batches.append(current_batch)\n",
    "        current_batch = [accession]\n",
    "\n",
    "# Append the final batch.\n",
    "if len(current_batch) > 0:\n",
    "    batches.append(current_batch)"
   ]
  },
  {
   "cell_type": "code",
   "execution_count": 7,
   "metadata": {},
   "outputs": [],
   "source": [
    "# Create strings for each list of accessions in a batch.\n",
    "batch_strings = [\n",
    "    \" \".join(batch)\n",
    "    for batch in batches\n",
    "]"
   ]
  },
  {
   "cell_type": "code",
   "execution_count": 8,
   "metadata": {},
   "outputs": [],
   "source": [
    "# Count the number of accessions per batch as a quality control check for the user.\n",
    "sequences_per_batch = [\n",
    "    len(batch)\n",
    "    for batch in batches\n",
    "]"
   ]
  },
  {
   "cell_type": "code",
   "execution_count": 9,
   "metadata": {},
   "outputs": [],
   "source": [
    "batch_df = pd.DataFrame({\n",
    "    \"batch\": list(range(len(batch_strings))),\n",
    "    \"sequences_in_batch\": sequences_per_batch,\n",
    "    \"accessions\": batch_strings,\n",
    "})"
   ]
  },
  {
   "cell_type": "code",
   "execution_count": 10,
   "metadata": {},
   "outputs": [
    {
     "data": {
      "text/html": [
       "<div>\n",
       "<style scoped>\n",
       "    .dataframe tbody tr th:only-of-type {\n",
       "        vertical-align: middle;\n",
       "    }\n",
       "\n",
       "    .dataframe tbody tr th {\n",
       "        vertical-align: top;\n",
       "    }\n",
       "\n",
       "    .dataframe thead th {\n",
       "        text-align: right;\n",
       "    }\n",
       "</style>\n",
       "<table border=\"1\" class=\"dataframe\">\n",
       "  <thead>\n",
       "    <tr style=\"text-align: right;\">\n",
       "      <th></th>\n",
       "      <th>batch</th>\n",
       "      <th>sequences_in_batch</th>\n",
       "      <th>accessions</th>\n",
       "    </tr>\n",
       "  </thead>\n",
       "  <tbody>\n",
       "    <tr>\n",
       "      <th>0</th>\n",
       "      <td>0</td>\n",
       "      <td>90</td>\n",
       "      <td>EPI1000654 EPI1000752 EPI1001376 EPI1001778 EP...</td>\n",
       "    </tr>\n",
       "    <tr>\n",
       "      <th>1</th>\n",
       "      <td>1</td>\n",
       "      <td>90</td>\n",
       "      <td>EPI1016405 EPI1016421 EPI1016437 EPI1016445 EP...</td>\n",
       "    </tr>\n",
       "    <tr>\n",
       "      <th>2</th>\n",
       "      <td>2</td>\n",
       "      <td>90</td>\n",
       "      <td>EPI1021970 EPI1021973 EPI1021998 EPI1022031 EP...</td>\n",
       "    </tr>\n",
       "    <tr>\n",
       "      <th>3</th>\n",
       "      <td>3</td>\n",
       "      <td>91</td>\n",
       "      <td>EPI1026974 EPI1026982 EPI1026990 EPI1026998 EP...</td>\n",
       "    </tr>\n",
       "    <tr>\n",
       "      <th>4</th>\n",
       "      <td>4</td>\n",
       "      <td>90</td>\n",
       "      <td>EPI1035183 EPI1035199 EPI1035207 EPI1035215 EP...</td>\n",
       "    </tr>\n",
       "  </tbody>\n",
       "</table>\n",
       "</div>"
      ],
      "text/plain": [
       "   batch  sequences_in_batch  \\\n",
       "0      0                  90   \n",
       "1      1                  90   \n",
       "2      2                  90   \n",
       "3      3                  91   \n",
       "4      4                  90   \n",
       "\n",
       "                                          accessions  \n",
       "0  EPI1000654 EPI1000752 EPI1001376 EPI1001778 EP...  \n",
       "1  EPI1016405 EPI1016421 EPI1016437 EPI1016445 EP...  \n",
       "2  EPI1021970 EPI1021973 EPI1021998 EPI1022031 EP...  \n",
       "3  EPI1026974 EPI1026982 EPI1026990 EPI1026998 EP...  \n",
       "4  EPI1035183 EPI1035199 EPI1035207 EPI1035215 EP...  "
      ]
     },
     "execution_count": 10,
     "metadata": {},
     "output_type": "execute_result"
    }
   ],
   "source": [
    "batch_df.head()"
   ]
  },
  {
   "cell_type": "code",
   "execution_count": 11,
   "metadata": {},
   "outputs": [],
   "source": [
    "# Confirm that we got all of the accessions in this data frame.\n",
    "assert batch_df[\"sequences_in_batch\"].sum() == len(accessions)"
   ]
  },
  {
   "cell_type": "code",
   "execution_count": 12,
   "metadata": {},
   "outputs": [],
   "source": [
    "# Save batches to a CSV file.\n",
    "batch_df.to_csv(\n",
    "    \"../data/gisaid_batches.csv\",\n",
    "    index=False\n",
    ")"
   ]
  },
  {
   "cell_type": "code",
   "execution_count": null,
   "metadata": {},
   "outputs": [],
   "source": []
  }
 ],
 "metadata": {
  "kernelspec": {
   "display_name": "Python 3",
   "language": "python",
   "name": "python3"
  },
  "language_info": {
   "codemirror_mode": {
    "name": "ipython",
    "version": 3
   },
   "file_extension": ".py",
   "mimetype": "text/x-python",
   "name": "python",
   "nbconvert_exporter": "python",
   "pygments_lexer": "ipython3",
   "version": "3.6.10"
  }
 },
 "nbformat": 4,
 "nbformat_minor": 4
}
