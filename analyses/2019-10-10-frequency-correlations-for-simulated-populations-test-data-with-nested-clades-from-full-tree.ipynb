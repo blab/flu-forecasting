{
 "cells": [
  {
   "cell_type": "markdown",
   "metadata": {},
   "source": [
    "# Frequency correlation plots for simulated populations test data with nested clades from a full tree\n",
    "\n",
    "Example code for how to calculate frequency correlation plots from augur forecasting builds."
   ]
  },
  {
   "cell_type": "code",
   "execution_count": 1,
   "metadata": {},
   "outputs": [],
   "source": [
    "import altair as alt\n",
    "import matplotlib as mpl\n",
    "import matplotlib.pyplot as plt\n",
    "import matplotlib.gridspec as gridspec\n",
    "import numpy as np\n",
    "import pandas as pd\n",
    "from scipy.stats import pearsonr\n",
    "import seaborn as sns\n",
    "\n",
    "%matplotlib inline"
   ]
  },
  {
   "cell_type": "code",
   "execution_count": 2,
   "metadata": {},
   "outputs": [],
   "source": [
    "sns.set_style(\"white\")\n",
    "plt.style.use(\"huddlej\")"
   ]
  },
  {
   "cell_type": "code",
   "execution_count": 3,
   "metadata": {},
   "outputs": [],
   "source": [
    "mpl.rcParams['savefig.dpi'] = 200\n",
    "mpl.rcParams['figure.dpi'] = 200\n",
    "mpl.rcParams['font.weight'] = 300\n",
    "mpl.rcParams['axes.labelweight'] = 300\n",
    "mpl.rcParams['font.size'] = 18"
   ]
  },
  {
   "cell_type": "code",
   "execution_count": 4,
   "metadata": {},
   "outputs": [
    {
     "name": "stdout",
     "output_type": "stream",
     "text": [
      "/Users/jlhudd/projects/nextstrain/flu-forecasting/analyses\n"
     ]
    }
   ],
   "source": [
    "!pwd"
   ]
  },
  {
   "cell_type": "code",
   "execution_count": 5,
   "metadata": {},
   "outputs": [],
   "source": [
    "def matthews_correlation_coefficient(tp, tn, fp, fn):\n",
    "    \"\"\"Return Matthews correlation coefficient for values from a confusion matrix.\n",
    "    Implementation is based on the definition from wikipedia:\n",
    "\n",
    "    https://en.wikipedia.org/wiki/Matthews_correlation_coefficient\n",
    "    \"\"\"\n",
    "    numerator = (tp * tn) - (fp * fn)\n",
    "    denominator = np.sqrt((tp + fp) * (tp + fn) * (tn + fp) * (tn + fn))\n",
    "    if denominator == 0:\n",
    "            denominator = 1\n",
    "\n",
    "    return float(numerator) / denominator\n",
    "\n",
    "def get_matthews_correlation_coefficient_for_data_frame(freq_df, return_confusion_matrix=False):\n",
    "        \"\"\"Calculate Matthew's correlation coefficient from a given pandas data frame\n",
    "        with columns for initial, observed, and predicted frequencies.\n",
    "        \"\"\"\n",
    "        observed_growth = (freq_df[\"frequency_final\"] > freq_df[\"frequency\"])\n",
    "        predicted_growth = (freq_df[\"projected_frequency\"] > freq_df[\"frequency\"])\n",
    "        true_positives = ((observed_growth) & (predicted_growth)).sum()\n",
    "        false_positives= ((~observed_growth) & (predicted_growth)).sum()\n",
    "\n",
    "        observed_decline = (freq_df[\"frequency_final\"] < freq_df[\"frequency\"])\n",
    "        predicted_decline = (freq_df[\"projected_frequency\"] < freq_df[\"frequency\"])\n",
    "        true_negatives = ((observed_decline) & (predicted_decline)).sum()\n",
    "        false_negatives = ((~observed_decline) & (predicted_decline)).sum()\n",
    "\n",
    "        mcc = matthews_correlation_coefficient(\n",
    "            true_positives,\n",
    "            true_negatives,\n",
    "            false_positives,\n",
    "            false_negatives\n",
    "        )\n",
    "\n",
    "        if return_confusion_matrix:\n",
    "            confusion_matrix = {\n",
    "                \"tp\": true_positives,\n",
    "                \"tn\": true_negatives,\n",
    "                \"fp\": false_positives,\n",
    "                \"fn\": false_negatives\n",
    "            }\n",
    "            \n",
    "            return mcc, confusion_matrix\n",
    "        else:\n",
    "            return mcc"
   ]
  },
  {
   "cell_type": "markdown",
   "metadata": {},
   "source": [
    "## Load data"
   ]
  },
  {
   "cell_type": "code",
   "execution_count": 6,
   "metadata": {},
   "outputs": [],
   "source": [
    "min_clade_frequency = 0.15"
   ]
  },
  {
   "cell_type": "code",
   "execution_count": 7,
   "metadata": {},
   "outputs": [],
   "source": [
    "precision = 4"
   ]
  },
  {
   "cell_type": "code",
   "execution_count": 8,
   "metadata": {},
   "outputs": [],
   "source": [
    "data_root = \"../results/builds/simulated/simulated_sample_3_test_tree\""
   ]
  },
  {
   "cell_type": "code",
   "execution_count": 9,
   "metadata": {},
   "outputs": [],
   "source": [
    "data_root_full_tree = \"../results/builds/simulated/simulated_sample_3_full_test_tree\""
   ]
  },
  {
   "cell_type": "code",
   "execution_count": 10,
   "metadata": {},
   "outputs": [],
   "source": [
    "first_validation_timepoint = \"2040-04-01\""
   ]
  },
  {
   "cell_type": "code",
   "execution_count": 11,
   "metadata": {},
   "outputs": [],
   "source": [
    "tips = pd.read_csv(\n",
    "    \"%s/tip_attributes_with_weighted_distances.tsv\" % data_root,\n",
    "    sep=\"\\t\",\n",
    "    parse_dates=[\"timepoint\"],\n",
    "    usecols=[\"strain\", \"timepoint\", \"frequency\"]\n",
    ")"
   ]
  },
  {
   "cell_type": "code",
   "execution_count": 12,
   "metadata": {},
   "outputs": [],
   "source": [
    "tips = tips.query(\"timepoint >= '%s'\" % first_validation_timepoint).copy()"
   ]
  },
  {
   "cell_type": "code",
   "execution_count": 13,
   "metadata": {},
   "outputs": [],
   "source": [
    "#tips = np.round(tips, precision)"
   ]
  },
  {
   "cell_type": "code",
   "execution_count": 14,
   "metadata": {},
   "outputs": [
    {
     "data": {
      "text/html": [
       "<div>\n",
       "<style scoped>\n",
       "    .dataframe tbody tr th:only-of-type {\n",
       "        vertical-align: middle;\n",
       "    }\n",
       "\n",
       "    .dataframe tbody tr th {\n",
       "        vertical-align: top;\n",
       "    }\n",
       "\n",
       "    .dataframe thead th {\n",
       "        text-align: right;\n",
       "    }\n",
       "</style>\n",
       "<table border=\"1\" class=\"dataframe\">\n",
       "  <thead>\n",
       "    <tr style=\"text-align: right;\">\n",
       "      <th></th>\n",
       "      <th>strain</th>\n",
       "      <th>timepoint</th>\n",
       "      <th>frequency</th>\n",
       "    </tr>\n",
       "  </thead>\n",
       "  <tbody>\n",
       "    <tr>\n",
       "      <th>0</th>\n",
       "      <td>sample_7936_1</td>\n",
       "      <td>2040-04-01</td>\n",
       "      <td>0.0</td>\n",
       "    </tr>\n",
       "  </tbody>\n",
       "</table>\n",
       "</div>"
      ],
      "text/plain": [
       "          strain  timepoint  frequency\n",
       "0  sample_7936_1 2040-04-01        0.0"
      ]
     },
     "execution_count": 14,
     "metadata": {},
     "output_type": "execute_result"
    }
   ],
   "source": [
    "np.round(tips.head(1), precision)"
   ]
  },
  {
   "cell_type": "code",
   "execution_count": 15,
   "metadata": {},
   "outputs": [
    {
     "data": {
      "text/plain": [
       "12600"
      ]
     },
     "execution_count": 15,
     "metadata": {},
     "output_type": "execute_result"
    }
   ],
   "source": [
    "(tips[\"frequency\"] > 0).sum()"
   ]
  },
  {
   "cell_type": "code",
   "execution_count": 16,
   "metadata": {},
   "outputs": [],
   "source": [
    "tips_to_clades = pd.read_csv(\"%s/tips_to_clades.tsv\" % data_root_full_tree, sep=\"\\t\",\n",
    "                             usecols=[\"tip\", \"clade_membership\", \"depth\"])"
   ]
  },
  {
   "cell_type": "code",
   "execution_count": 17,
   "metadata": {},
   "outputs": [],
   "source": [
    "tips_to_clades = tips_to_clades.rename(columns={\"tip\": \"strain\"})"
   ]
  },
  {
   "cell_type": "code",
   "execution_count": 18,
   "metadata": {},
   "outputs": [
    {
     "data": {
      "text/html": [
       "<div>\n",
       "<style scoped>\n",
       "    .dataframe tbody tr th:only-of-type {\n",
       "        vertical-align: middle;\n",
       "    }\n",
       "\n",
       "    .dataframe tbody tr th {\n",
       "        vertical-align: top;\n",
       "    }\n",
       "\n",
       "    .dataframe thead th {\n",
       "        text-align: right;\n",
       "    }\n",
       "</style>\n",
       "<table border=\"1\" class=\"dataframe\">\n",
       "  <thead>\n",
       "    <tr style=\"text-align: right;\">\n",
       "      <th></th>\n",
       "      <th>strain</th>\n",
       "      <th>clade_membership</th>\n",
       "      <th>depth</th>\n",
       "    </tr>\n",
       "  </thead>\n",
       "  <tbody>\n",
       "    <tr>\n",
       "      <th>0</th>\n",
       "      <td>sample_8020_99</td>\n",
       "      <td>777355b</td>\n",
       "      <td>0</td>\n",
       "    </tr>\n",
       "    <tr>\n",
       "      <th>1</th>\n",
       "      <td>sample_8020_99</td>\n",
       "      <td>0b64e3c</td>\n",
       "      <td>4</td>\n",
       "    </tr>\n",
       "    <tr>\n",
       "      <th>2</th>\n",
       "      <td>sample_8044_88</td>\n",
       "      <td>777355b</td>\n",
       "      <td>0</td>\n",
       "    </tr>\n",
       "    <tr>\n",
       "      <th>3</th>\n",
       "      <td>sample_8044_88</td>\n",
       "      <td>0b64e3c</td>\n",
       "      <td>4</td>\n",
       "    </tr>\n",
       "    <tr>\n",
       "      <th>4</th>\n",
       "      <td>sample_8064_75</td>\n",
       "      <td>241e2be</td>\n",
       "      <td>0</td>\n",
       "    </tr>\n",
       "  </tbody>\n",
       "</table>\n",
       "</div>"
      ],
      "text/plain": [
       "           strain clade_membership  depth\n",
       "0  sample_8020_99          777355b      0\n",
       "1  sample_8020_99          0b64e3c      4\n",
       "2  sample_8044_88          777355b      0\n",
       "3  sample_8044_88          0b64e3c      4\n",
       "4  sample_8064_75          241e2be      0"
      ]
     },
     "execution_count": 18,
     "metadata": {},
     "output_type": "execute_result"
    }
   ],
   "source": [
    "tips_to_clades.head(5)"
   ]
  },
  {
   "cell_type": "code",
   "execution_count": 19,
   "metadata": {},
   "outputs": [
    {
     "data": {
      "text/plain": [
       "(199438, 3)"
      ]
     },
     "execution_count": 19,
     "metadata": {},
     "output_type": "execute_result"
    }
   ],
   "source": [
    "tips_to_clades.shape"
   ]
  },
  {
   "cell_type": "code",
   "execution_count": 20,
   "metadata": {},
   "outputs": [],
   "source": [
    "forecasts = pd.read_csv(\n",
    "    \"%s/forecasts.tsv\" % data_root,\n",
    "    sep=\"\\t\",\n",
    "    parse_dates=[\"timepoint\"],\n",
    "    usecols=[\"timepoint\", \"strain\", \"frequency\", \"projected_frequency\"]\n",
    ")"
   ]
  },
  {
   "cell_type": "code",
   "execution_count": 21,
   "metadata": {},
   "outputs": [],
   "source": [
    "#forecasts = np.round(forecasts, precision)"
   ]
  },
  {
   "cell_type": "code",
   "execution_count": 22,
   "metadata": {},
   "outputs": [
    {
     "data": {
      "text/html": [
       "<div>\n",
       "<style scoped>\n",
       "    .dataframe tbody tr th:only-of-type {\n",
       "        vertical-align: middle;\n",
       "    }\n",
       "\n",
       "    .dataframe tbody tr th {\n",
       "        vertical-align: top;\n",
       "    }\n",
       "\n",
       "    .dataframe thead th {\n",
       "        text-align: right;\n",
       "    }\n",
       "</style>\n",
       "<table border=\"1\" class=\"dataframe\">\n",
       "  <thead>\n",
       "    <tr style=\"text-align: right;\">\n",
       "      <th></th>\n",
       "      <th>timepoint</th>\n",
       "      <th>strain</th>\n",
       "      <th>frequency</th>\n",
       "      <th>projected_frequency</th>\n",
       "    </tr>\n",
       "  </thead>\n",
       "  <tbody>\n",
       "    <tr>\n",
       "      <th>0</th>\n",
       "      <td>2040-04-01</td>\n",
       "      <td>sample_7936_1</td>\n",
       "      <td>0.0</td>\n",
       "      <td>0.0</td>\n",
       "    </tr>\n",
       "  </tbody>\n",
       "</table>\n",
       "</div>"
      ],
      "text/plain": [
       "   timepoint         strain  frequency  projected_frequency\n",
       "0 2040-04-01  sample_7936_1        0.0                  0.0"
      ]
     },
     "execution_count": 22,
     "metadata": {},
     "output_type": "execute_result"
    }
   ],
   "source": [
    "np.round(forecasts.head(1), 4)"
   ]
  },
  {
   "cell_type": "code",
   "execution_count": 23,
   "metadata": {},
   "outputs": [],
   "source": [
    "full_forecasts = pd.read_csv(\n",
    "    \"%s/forecasts.tsv\" % data_root,\n",
    "    sep=\"\\t\",\n",
    "    parse_dates=[\"timepoint\", \"future_timepoint\"]\n",
    ")"
   ]
  },
  {
   "cell_type": "code",
   "execution_count": 24,
   "metadata": {},
   "outputs": [],
   "source": [
    "full_forecasts = full_forecasts.query(\"timepoint >= '%s'\" % first_validation_timepoint).copy()"
   ]
  },
  {
   "cell_type": "code",
   "execution_count": 25,
   "metadata": {},
   "outputs": [],
   "source": [
    "#full_forecasts = np.round(full_forecasts, precision)"
   ]
  },
  {
   "cell_type": "code",
   "execution_count": 26,
   "metadata": {},
   "outputs": [
    {
     "data": {
      "text/html": [
       "<div>\n",
       "<style scoped>\n",
       "    .dataframe tbody tr th:only-of-type {\n",
       "        vertical-align: middle;\n",
       "    }\n",
       "\n",
       "    .dataframe tbody tr th {\n",
       "        vertical-align: top;\n",
       "    }\n",
       "\n",
       "    .dataframe thead th {\n",
       "        text-align: right;\n",
       "    }\n",
       "</style>\n",
       "<table border=\"1\" class=\"dataframe\">\n",
       "  <thead>\n",
       "    <tr style=\"text-align: right;\">\n",
       "      <th></th>\n",
       "      <th>timepoint</th>\n",
       "      <th>strain</th>\n",
       "      <th>frequency</th>\n",
       "      <th>weighted_distance_to_present</th>\n",
       "      <th>weighted_distance_to_future</th>\n",
       "      <th>fitness</th>\n",
       "      <th>projected_frequency</th>\n",
       "      <th>y</th>\n",
       "      <th>future_timepoint</th>\n",
       "    </tr>\n",
       "  </thead>\n",
       "  <tbody>\n",
       "    <tr>\n",
       "      <th>0</th>\n",
       "      <td>2040-04-01</td>\n",
       "      <td>sample_7936_1</td>\n",
       "      <td>0.000013</td>\n",
       "      <td>11.584421</td>\n",
       "      <td>13.637638</td>\n",
       "      <td>9.883090</td>\n",
       "      <td>4.690570e-05</td>\n",
       "      <td>9.776496</td>\n",
       "      <td>2041-04-01</td>\n",
       "    </tr>\n",
       "    <tr>\n",
       "      <th>1</th>\n",
       "      <td>2040-04-01</td>\n",
       "      <td>sample_7936_16</td>\n",
       "      <td>0.000013</td>\n",
       "      <td>6.380610</td>\n",
       "      <td>9.496252</td>\n",
       "      <td>1.906433</td>\n",
       "      <td>1.610673e-08</td>\n",
       "      <td>4.725003</td>\n",
       "      <td>2041-04-01</td>\n",
       "    </tr>\n",
       "    <tr>\n",
       "      <th>2</th>\n",
       "      <td>2040-04-01</td>\n",
       "      <td>sample_7936_17</td>\n",
       "      <td>0.000013</td>\n",
       "      <td>3.395148</td>\n",
       "      <td>6.538399</td>\n",
       "      <td>16.301038</td>\n",
       "      <td>2.874120e-02</td>\n",
       "      <td>1.746174</td>\n",
       "      <td>2041-04-01</td>\n",
       "    </tr>\n",
       "    <tr>\n",
       "      <th>3</th>\n",
       "      <td>2040-04-01</td>\n",
       "      <td>sample_7936_25</td>\n",
       "      <td>0.000013</td>\n",
       "      <td>5.388394</td>\n",
       "      <td>8.522271</td>\n",
       "      <td>8.703084</td>\n",
       "      <td>1.441303e-05</td>\n",
       "      <td>3.745435</td>\n",
       "      <td>2041-04-01</td>\n",
       "    </tr>\n",
       "    <tr>\n",
       "      <th>4</th>\n",
       "      <td>2040-04-01</td>\n",
       "      <td>sample_7936_30</td>\n",
       "      <td>0.000013</td>\n",
       "      <td>14.863364</td>\n",
       "      <td>15.849605</td>\n",
       "      <td>9.262406</td>\n",
       "      <td>2.521540e-05</td>\n",
       "      <td>13.169032</td>\n",
       "      <td>2041-04-01</td>\n",
       "    </tr>\n",
       "  </tbody>\n",
       "</table>\n",
       "</div>"
      ],
      "text/plain": [
       "   timepoint          strain  frequency  weighted_distance_to_present  \\\n",
       "0 2040-04-01   sample_7936_1   0.000013                     11.584421   \n",
       "1 2040-04-01  sample_7936_16   0.000013                      6.380610   \n",
       "2 2040-04-01  sample_7936_17   0.000013                      3.395148   \n",
       "3 2040-04-01  sample_7936_25   0.000013                      5.388394   \n",
       "4 2040-04-01  sample_7936_30   0.000013                     14.863364   \n",
       "\n",
       "   weighted_distance_to_future    fitness  projected_frequency          y  \\\n",
       "0                    13.637638   9.883090         4.690570e-05   9.776496   \n",
       "1                     9.496252   1.906433         1.610673e-08   4.725003   \n",
       "2                     6.538399  16.301038         2.874120e-02   1.746174   \n",
       "3                     8.522271   8.703084         1.441303e-05   3.745435   \n",
       "4                    15.849605   9.262406         2.521540e-05  13.169032   \n",
       "\n",
       "  future_timepoint  \n",
       "0       2041-04-01  \n",
       "1       2041-04-01  \n",
       "2       2041-04-01  \n",
       "3       2041-04-01  \n",
       "4       2041-04-01  "
      ]
     },
     "execution_count": 26,
     "metadata": {},
     "output_type": "execute_result"
    }
   ],
   "source": [
    "full_forecasts.head()"
   ]
  },
  {
   "cell_type": "markdown",
   "metadata": {},
   "source": [
    "## Find large clades\n",
    "\n",
    "Find all clades with an initial frequency some minimum value (e.g., >10%)."
   ]
  },
  {
   "cell_type": "code",
   "execution_count": 27,
   "metadata": {},
   "outputs": [
    {
     "data": {
      "text/html": [
       "<div>\n",
       "<style scoped>\n",
       "    .dataframe tbody tr th:only-of-type {\n",
       "        vertical-align: middle;\n",
       "    }\n",
       "\n",
       "    .dataframe tbody tr th {\n",
       "        vertical-align: top;\n",
       "    }\n",
       "\n",
       "    .dataframe thead th {\n",
       "        text-align: right;\n",
       "    }\n",
       "</style>\n",
       "<table border=\"1\" class=\"dataframe\">\n",
       "  <thead>\n",
       "    <tr style=\"text-align: right;\">\n",
       "      <th></th>\n",
       "      <th>strain</th>\n",
       "      <th>timepoint</th>\n",
       "      <th>frequency</th>\n",
       "    </tr>\n",
       "  </thead>\n",
       "  <tbody>\n",
       "    <tr>\n",
       "      <th>0</th>\n",
       "      <td>sample_7936_1</td>\n",
       "      <td>2040-04-01</td>\n",
       "      <td>0.000013</td>\n",
       "    </tr>\n",
       "    <tr>\n",
       "      <th>1</th>\n",
       "      <td>sample_7936_16</td>\n",
       "      <td>2040-04-01</td>\n",
       "      <td>0.000013</td>\n",
       "    </tr>\n",
       "    <tr>\n",
       "      <th>2</th>\n",
       "      <td>sample_7936_17</td>\n",
       "      <td>2040-04-01</td>\n",
       "      <td>0.000013</td>\n",
       "    </tr>\n",
       "    <tr>\n",
       "      <th>3</th>\n",
       "      <td>sample_7936_25</td>\n",
       "      <td>2040-04-01</td>\n",
       "      <td>0.000013</td>\n",
       "    </tr>\n",
       "    <tr>\n",
       "      <th>4</th>\n",
       "      <td>sample_7936_30</td>\n",
       "      <td>2040-04-01</td>\n",
       "      <td>0.000013</td>\n",
       "    </tr>\n",
       "  </tbody>\n",
       "</table>\n",
       "</div>"
      ],
      "text/plain": [
       "           strain  timepoint  frequency\n",
       "0   sample_7936_1 2040-04-01   0.000013\n",
       "1  sample_7936_16 2040-04-01   0.000013\n",
       "2  sample_7936_17 2040-04-01   0.000013\n",
       "3  sample_7936_25 2040-04-01   0.000013\n",
       "4  sample_7936_30 2040-04-01   0.000013"
      ]
     },
     "execution_count": 27,
     "metadata": {},
     "output_type": "execute_result"
    }
   ],
   "source": [
    "tips.head()"
   ]
  },
  {
   "cell_type": "code",
   "execution_count": 28,
   "metadata": {},
   "outputs": [
    {
     "data": {
      "text/plain": [
       "timepoint\n",
       "2040-04-01    0.999977\n",
       "2040-10-01    0.999954\n",
       "2041-04-01    0.999984\n",
       "2041-10-01    0.999940\n",
       "2042-04-01    0.999960\n",
       "Name: frequency, dtype: float64"
      ]
     },
     "execution_count": 28,
     "metadata": {},
     "output_type": "execute_result"
    }
   ],
   "source": [
    "tips.groupby(\"timepoint\")[\"frequency\"].sum().head()"
   ]
  },
  {
   "cell_type": "code",
   "execution_count": 29,
   "metadata": {},
   "outputs": [],
   "source": [
    "clade_tip_initial_frequencies = tips_to_clades.merge(\n",
    "    tips,\n",
    "    on=[\"strain\"]\n",
    ")"
   ]
  },
  {
   "cell_type": "code",
   "execution_count": 30,
   "metadata": {},
   "outputs": [
    {
     "data": {
      "text/plain": [
       "7952"
      ]
     },
     "execution_count": 30,
     "metadata": {},
     "output_type": "execute_result"
    }
   ],
   "source": [
    "tips_to_clades[\"strain\"].apply(lambda strain: strain.split(\"_\")[1]).astype(int).min()"
   ]
  },
  {
   "cell_type": "code",
   "execution_count": 31,
   "metadata": {},
   "outputs": [
    {
     "data": {
      "text/plain": [
       "Timestamp('2040-04-01 00:00:00')"
      ]
     },
     "execution_count": 31,
     "metadata": {},
     "output_type": "execute_result"
    }
   ],
   "source": [
    "clade_tip_initial_frequencies[\"timepoint\"].min()"
   ]
  },
  {
   "cell_type": "code",
   "execution_count": 32,
   "metadata": {},
   "outputs": [
    {
     "data": {
      "text/html": [
       "<div>\n",
       "<style scoped>\n",
       "    .dataframe tbody tr th:only-of-type {\n",
       "        vertical-align: middle;\n",
       "    }\n",
       "\n",
       "    .dataframe tbody tr th {\n",
       "        vertical-align: top;\n",
       "    }\n",
       "\n",
       "    .dataframe thead th {\n",
       "        text-align: right;\n",
       "    }\n",
       "</style>\n",
       "<table border=\"1\" class=\"dataframe\">\n",
       "  <thead>\n",
       "    <tr style=\"text-align: right;\">\n",
       "      <th></th>\n",
       "      <th>strain</th>\n",
       "      <th>clade_membership</th>\n",
       "      <th>depth</th>\n",
       "      <th>timepoint</th>\n",
       "      <th>frequency</th>\n",
       "    </tr>\n",
       "  </thead>\n",
       "  <tbody>\n",
       "    <tr>\n",
       "      <th>0</th>\n",
       "      <td>sample_8020_99</td>\n",
       "      <td>777355b</td>\n",
       "      <td>0</td>\n",
       "      <td>2040-04-01</td>\n",
       "      <td>0.002981</td>\n",
       "    </tr>\n",
       "    <tr>\n",
       "      <th>1</th>\n",
       "      <td>sample_8020_99</td>\n",
       "      <td>0b64e3c</td>\n",
       "      <td>4</td>\n",
       "      <td>2040-04-01</td>\n",
       "      <td>0.002981</td>\n",
       "    </tr>\n",
       "    <tr>\n",
       "      <th>2</th>\n",
       "      <td>sample_8044_88</td>\n",
       "      <td>777355b</td>\n",
       "      <td>0</td>\n",
       "      <td>2040-04-01</td>\n",
       "      <td>0.004396</td>\n",
       "    </tr>\n",
       "    <tr>\n",
       "      <th>3</th>\n",
       "      <td>sample_8044_88</td>\n",
       "      <td>777355b</td>\n",
       "      <td>0</td>\n",
       "      <td>2040-10-01</td>\n",
       "      <td>0.000028</td>\n",
       "    </tr>\n",
       "    <tr>\n",
       "      <th>4</th>\n",
       "      <td>sample_8044_88</td>\n",
       "      <td>0b64e3c</td>\n",
       "      <td>4</td>\n",
       "      <td>2040-04-01</td>\n",
       "      <td>0.004396</td>\n",
       "    </tr>\n",
       "  </tbody>\n",
       "</table>\n",
       "</div>"
      ],
      "text/plain": [
       "           strain clade_membership  depth  timepoint  frequency\n",
       "0  sample_8020_99          777355b      0 2040-04-01   0.002981\n",
       "1  sample_8020_99          0b64e3c      4 2040-04-01   0.002981\n",
       "2  sample_8044_88          777355b      0 2040-04-01   0.004396\n",
       "3  sample_8044_88          777355b      0 2040-10-01   0.000028\n",
       "4  sample_8044_88          0b64e3c      4 2040-04-01   0.004396"
      ]
     },
     "execution_count": 32,
     "metadata": {},
     "output_type": "execute_result"
    }
   ],
   "source": [
    "clade_tip_initial_frequencies.head()"
   ]
  },
  {
   "cell_type": "code",
   "execution_count": 33,
   "metadata": {},
   "outputs": [],
   "source": [
    "clade_tip_initial_frequencies[\"future_timepoint\"] = clade_tip_initial_frequencies[\"timepoint\"] + pd.DateOffset(months=12)"
   ]
  },
  {
   "cell_type": "code",
   "execution_count": 34,
   "metadata": {},
   "outputs": [
    {
     "data": {
      "text/html": [
       "<div>\n",
       "<style scoped>\n",
       "    .dataframe tbody tr th:only-of-type {\n",
       "        vertical-align: middle;\n",
       "    }\n",
       "\n",
       "    .dataframe tbody tr th {\n",
       "        vertical-align: top;\n",
       "    }\n",
       "\n",
       "    .dataframe thead th {\n",
       "        text-align: right;\n",
       "    }\n",
       "</style>\n",
       "<table border=\"1\" class=\"dataframe\">\n",
       "  <thead>\n",
       "    <tr style=\"text-align: right;\">\n",
       "      <th></th>\n",
       "      <th>strain</th>\n",
       "      <th>clade_membership</th>\n",
       "      <th>depth</th>\n",
       "      <th>timepoint</th>\n",
       "      <th>frequency</th>\n",
       "      <th>future_timepoint</th>\n",
       "    </tr>\n",
       "  </thead>\n",
       "  <tbody>\n",
       "    <tr>\n",
       "      <th>0</th>\n",
       "      <td>sample_8020_99</td>\n",
       "      <td>777355b</td>\n",
       "      <td>0</td>\n",
       "      <td>2040-04-01</td>\n",
       "      <td>0.002981</td>\n",
       "      <td>2041-04-01</td>\n",
       "    </tr>\n",
       "    <tr>\n",
       "      <th>1</th>\n",
       "      <td>sample_8020_99</td>\n",
       "      <td>0b64e3c</td>\n",
       "      <td>4</td>\n",
       "      <td>2040-04-01</td>\n",
       "      <td>0.002981</td>\n",
       "      <td>2041-04-01</td>\n",
       "    </tr>\n",
       "    <tr>\n",
       "      <th>2</th>\n",
       "      <td>sample_8044_88</td>\n",
       "      <td>777355b</td>\n",
       "      <td>0</td>\n",
       "      <td>2040-04-01</td>\n",
       "      <td>0.004396</td>\n",
       "      <td>2041-04-01</td>\n",
       "    </tr>\n",
       "    <tr>\n",
       "      <th>3</th>\n",
       "      <td>sample_8044_88</td>\n",
       "      <td>777355b</td>\n",
       "      <td>0</td>\n",
       "      <td>2040-10-01</td>\n",
       "      <td>0.000028</td>\n",
       "      <td>2041-10-01</td>\n",
       "    </tr>\n",
       "    <tr>\n",
       "      <th>4</th>\n",
       "      <td>sample_8044_88</td>\n",
       "      <td>0b64e3c</td>\n",
       "      <td>4</td>\n",
       "      <td>2040-04-01</td>\n",
       "      <td>0.004396</td>\n",
       "      <td>2041-04-01</td>\n",
       "    </tr>\n",
       "  </tbody>\n",
       "</table>\n",
       "</div>"
      ],
      "text/plain": [
       "           strain clade_membership  depth  timepoint  frequency  \\\n",
       "0  sample_8020_99          777355b      0 2040-04-01   0.002981   \n",
       "1  sample_8020_99          0b64e3c      4 2040-04-01   0.002981   \n",
       "2  sample_8044_88          777355b      0 2040-04-01   0.004396   \n",
       "3  sample_8044_88          777355b      0 2040-10-01   0.000028   \n",
       "4  sample_8044_88          0b64e3c      4 2040-04-01   0.004396   \n",
       "\n",
       "  future_timepoint  \n",
       "0       2041-04-01  \n",
       "1       2041-04-01  \n",
       "2       2041-04-01  \n",
       "3       2041-10-01  \n",
       "4       2041-04-01  "
      ]
     },
     "execution_count": 34,
     "metadata": {},
     "output_type": "execute_result"
    }
   ],
   "source": [
    "clade_tip_initial_frequencies.head()"
   ]
  },
  {
   "cell_type": "code",
   "execution_count": 35,
   "metadata": {},
   "outputs": [
    {
     "data": {
      "text/plain": [
       "(230724, 6)"
      ]
     },
     "execution_count": 35,
     "metadata": {},
     "output_type": "execute_result"
    }
   ],
   "source": [
    "clade_tip_initial_frequencies.shape"
   ]
  },
  {
   "cell_type": "code",
   "execution_count": 36,
   "metadata": {},
   "outputs": [],
   "source": [
    "initial_clade_frequencies = clade_tip_initial_frequencies.groupby([\n",
    "    \"timepoint\", \"future_timepoint\", \"clade_membership\"\n",
    "])[\"frequency\"].sum().reset_index()"
   ]
  },
  {
   "cell_type": "code",
   "execution_count": 37,
   "metadata": {},
   "outputs": [
    {
     "data": {
      "text/html": [
       "<div>\n",
       "<style scoped>\n",
       "    .dataframe tbody tr th:only-of-type {\n",
       "        vertical-align: middle;\n",
       "    }\n",
       "\n",
       "    .dataframe tbody tr th {\n",
       "        vertical-align: top;\n",
       "    }\n",
       "\n",
       "    .dataframe thead th {\n",
       "        text-align: right;\n",
       "    }\n",
       "</style>\n",
       "<table border=\"1\" class=\"dataframe\">\n",
       "  <thead>\n",
       "    <tr style=\"text-align: right;\">\n",
       "      <th></th>\n",
       "      <th>timepoint</th>\n",
       "      <th>future_timepoint</th>\n",
       "      <th>clade_membership</th>\n",
       "      <th>frequency</th>\n",
       "    </tr>\n",
       "  </thead>\n",
       "  <tbody>\n",
       "    <tr>\n",
       "      <th>0</th>\n",
       "      <td>2040-04-01</td>\n",
       "      <td>2041-04-01</td>\n",
       "      <td>01a56b4</td>\n",
       "      <td>0.005144</td>\n",
       "    </tr>\n",
       "    <tr>\n",
       "      <th>1</th>\n",
       "      <td>2040-04-01</td>\n",
       "      <td>2041-04-01</td>\n",
       "      <td>08c8518</td>\n",
       "      <td>0.000201</td>\n",
       "    </tr>\n",
       "    <tr>\n",
       "      <th>2</th>\n",
       "      <td>2040-04-01</td>\n",
       "      <td>2041-04-01</td>\n",
       "      <td>0a4178d</td>\n",
       "      <td>0.009434</td>\n",
       "    </tr>\n",
       "    <tr>\n",
       "      <th>3</th>\n",
       "      <td>2040-04-01</td>\n",
       "      <td>2041-04-01</td>\n",
       "      <td>0b64e3c</td>\n",
       "      <td>0.997651</td>\n",
       "    </tr>\n",
       "    <tr>\n",
       "      <th>4</th>\n",
       "      <td>2040-04-01</td>\n",
       "      <td>2041-04-01</td>\n",
       "      <td>0eaf455</td>\n",
       "      <td>0.004798</td>\n",
       "    </tr>\n",
       "  </tbody>\n",
       "</table>\n",
       "</div>"
      ],
      "text/plain": [
       "   timepoint future_timepoint clade_membership  frequency\n",
       "0 2040-04-01       2041-04-01          01a56b4   0.005144\n",
       "1 2040-04-01       2041-04-01          08c8518   0.000201\n",
       "2 2040-04-01       2041-04-01          0a4178d   0.009434\n",
       "3 2040-04-01       2041-04-01          0b64e3c   0.997651\n",
       "4 2040-04-01       2041-04-01          0eaf455   0.004798"
      ]
     },
     "execution_count": 37,
     "metadata": {},
     "output_type": "execute_result"
    }
   ],
   "source": [
    "initial_clade_frequencies.head()"
   ]
  },
  {
   "cell_type": "markdown",
   "metadata": {},
   "source": [
    "Merge clade frequencies between adjacent years."
   ]
  },
  {
   "cell_type": "code",
   "execution_count": 38,
   "metadata": {},
   "outputs": [],
   "source": [
    "initial_and_observed_clade_frequencies = initial_clade_frequencies.merge(\n",
    "    initial_clade_frequencies,\n",
    "    left_on=[\"future_timepoint\", \"clade_membership\"],\n",
    "    right_on=[\"timepoint\", \"clade_membership\"],\n",
    "    suffixes=[\"\", \"_final\"]\n",
    ").groupby([\"timepoint\", \"clade_membership\", \"frequency\"])[\"frequency_final\"].sum().reset_index()"
   ]
  },
  {
   "cell_type": "code",
   "execution_count": 39,
   "metadata": {},
   "outputs": [
    {
     "data": {
      "text/html": [
       "<div>\n",
       "<style scoped>\n",
       "    .dataframe tbody tr th:only-of-type {\n",
       "        vertical-align: middle;\n",
       "    }\n",
       "\n",
       "    .dataframe tbody tr th {\n",
       "        vertical-align: top;\n",
       "    }\n",
       "\n",
       "    .dataframe thead th {\n",
       "        text-align: right;\n",
       "    }\n",
       "</style>\n",
       "<table border=\"1\" class=\"dataframe\">\n",
       "  <thead>\n",
       "    <tr style=\"text-align: right;\">\n",
       "      <th></th>\n",
       "      <th>timepoint</th>\n",
       "      <th>clade_membership</th>\n",
       "      <th>frequency</th>\n",
       "      <th>frequency_final</th>\n",
       "    </tr>\n",
       "  </thead>\n",
       "  <tbody>\n",
       "    <tr>\n",
       "      <th>0</th>\n",
       "      <td>2040-04-01</td>\n",
       "      <td>0b64e3c</td>\n",
       "      <td>0.997651</td>\n",
       "      <td>0.999984</td>\n",
       "    </tr>\n",
       "    <tr>\n",
       "      <th>1</th>\n",
       "      <td>2040-04-01</td>\n",
       "      <td>117d293</td>\n",
       "      <td>0.046239</td>\n",
       "      <td>0.000663</td>\n",
       "    </tr>\n",
       "    <tr>\n",
       "      <th>2</th>\n",
       "      <td>2040-04-01</td>\n",
       "      <td>1d494bd</td>\n",
       "      <td>0.004271</td>\n",
       "      <td>0.000019</td>\n",
       "    </tr>\n",
       "    <tr>\n",
       "      <th>3</th>\n",
       "      <td>2040-04-01</td>\n",
       "      <td>1e2641b</td>\n",
       "      <td>0.003594</td>\n",
       "      <td>0.000625</td>\n",
       "    </tr>\n",
       "    <tr>\n",
       "      <th>4</th>\n",
       "      <td>2040-04-01</td>\n",
       "      <td>1e30edd</td>\n",
       "      <td>0.016613</td>\n",
       "      <td>0.193156</td>\n",
       "    </tr>\n",
       "  </tbody>\n",
       "</table>\n",
       "</div>"
      ],
      "text/plain": [
       "   timepoint clade_membership  frequency  frequency_final\n",
       "0 2040-04-01          0b64e3c   0.997651         0.999984\n",
       "1 2040-04-01          117d293   0.046239         0.000663\n",
       "2 2040-04-01          1d494bd   0.004271         0.000019\n",
       "3 2040-04-01          1e2641b   0.003594         0.000625\n",
       "4 2040-04-01          1e30edd   0.016613         0.193156"
      ]
     },
     "execution_count": 39,
     "metadata": {},
     "output_type": "execute_result"
    }
   ],
   "source": [
    "initial_and_observed_clade_frequencies.head()"
   ]
  },
  {
   "cell_type": "markdown",
   "metadata": {},
   "source": [
    "Select clades with an initial frequency >10%."
   ]
  },
  {
   "cell_type": "code",
   "execution_count": 40,
   "metadata": {},
   "outputs": [],
   "source": [
    "large_clades = initial_and_observed_clade_frequencies.query(\"frequency > %s\" % min_clade_frequency).copy()"
   ]
  },
  {
   "cell_type": "code",
   "execution_count": 41,
   "metadata": {},
   "outputs": [
    {
     "data": {
      "text/html": [
       "<div>\n",
       "<style scoped>\n",
       "    .dataframe tbody tr th:only-of-type {\n",
       "        vertical-align: middle;\n",
       "    }\n",
       "\n",
       "    .dataframe tbody tr th {\n",
       "        vertical-align: top;\n",
       "    }\n",
       "\n",
       "    .dataframe thead th {\n",
       "        text-align: right;\n",
       "    }\n",
       "</style>\n",
       "<table border=\"1\" class=\"dataframe\">\n",
       "  <thead>\n",
       "    <tr style=\"text-align: right;\">\n",
       "      <th></th>\n",
       "      <th>timepoint</th>\n",
       "      <th>clade_membership</th>\n",
       "      <th>frequency</th>\n",
       "      <th>frequency_final</th>\n",
       "    </tr>\n",
       "  </thead>\n",
       "  <tbody>\n",
       "    <tr>\n",
       "      <th>0</th>\n",
       "      <td>2040-04-01</td>\n",
       "      <td>0b64e3c</td>\n",
       "      <td>0.997651</td>\n",
       "      <td>0.999984</td>\n",
       "    </tr>\n",
       "    <tr>\n",
       "      <th>9</th>\n",
       "      <td>2040-04-01</td>\n",
       "      <td>5198bfc</td>\n",
       "      <td>0.662065</td>\n",
       "      <td>0.659984</td>\n",
       "    </tr>\n",
       "    <tr>\n",
       "      <th>23</th>\n",
       "      <td>2040-04-01</td>\n",
       "      <td>be85840</td>\n",
       "      <td>0.443051</td>\n",
       "      <td>0.448982</td>\n",
       "    </tr>\n",
       "    <tr>\n",
       "      <th>28</th>\n",
       "      <td>2040-10-01</td>\n",
       "      <td>0b64e3c</td>\n",
       "      <td>0.999954</td>\n",
       "      <td>0.999940</td>\n",
       "    </tr>\n",
       "    <tr>\n",
       "      <th>37</th>\n",
       "      <td>2040-10-01</td>\n",
       "      <td>348a0f0</td>\n",
       "      <td>0.212248</td>\n",
       "      <td>0.466541</td>\n",
       "    </tr>\n",
       "  </tbody>\n",
       "</table>\n",
       "</div>"
      ],
      "text/plain": [
       "    timepoint clade_membership  frequency  frequency_final\n",
       "0  2040-04-01          0b64e3c   0.997651         0.999984\n",
       "9  2040-04-01          5198bfc   0.662065         0.659984\n",
       "23 2040-04-01          be85840   0.443051         0.448982\n",
       "28 2040-10-01          0b64e3c   0.999954         0.999940\n",
       "37 2040-10-01          348a0f0   0.212248         0.466541"
      ]
     },
     "execution_count": 41,
     "metadata": {},
     "output_type": "execute_result"
    }
   ],
   "source": [
    "large_clades.head()"
   ]
  },
  {
   "cell_type": "code",
   "execution_count": 42,
   "metadata": {},
   "outputs": [
    {
     "data": {
      "text/html": [
       "<div>\n",
       "<style scoped>\n",
       "    .dataframe tbody tr th:only-of-type {\n",
       "        vertical-align: middle;\n",
       "    }\n",
       "\n",
       "    .dataframe tbody tr th {\n",
       "        vertical-align: top;\n",
       "    }\n",
       "\n",
       "    .dataframe thead th {\n",
       "        text-align: right;\n",
       "    }\n",
       "</style>\n",
       "<table border=\"1\" class=\"dataframe\">\n",
       "  <thead>\n",
       "    <tr style=\"text-align: right;\">\n",
       "      <th></th>\n",
       "      <th>timepoint</th>\n",
       "      <th>clade_membership</th>\n",
       "      <th>frequency</th>\n",
       "      <th>frequency_final</th>\n",
       "    </tr>\n",
       "  </thead>\n",
       "  <tbody>\n",
       "    <tr>\n",
       "      <th>762</th>\n",
       "      <td>2048-10-01</td>\n",
       "      <td>eeaaada</td>\n",
       "      <td>0.151049</td>\n",
       "      <td>0.040763</td>\n",
       "    </tr>\n",
       "    <tr>\n",
       "      <th>763</th>\n",
       "      <td>2048-10-01</td>\n",
       "      <td>eff8ef5</td>\n",
       "      <td>0.997971</td>\n",
       "      <td>0.999953</td>\n",
       "    </tr>\n",
       "    <tr>\n",
       "      <th>766</th>\n",
       "      <td>2048-10-01</td>\n",
       "      <td>fa40799</td>\n",
       "      <td>0.999996</td>\n",
       "      <td>0.999953</td>\n",
       "    </tr>\n",
       "    <tr>\n",
       "      <th>767</th>\n",
       "      <td>2048-10-01</td>\n",
       "      <td>fcad47c</td>\n",
       "      <td>0.997971</td>\n",
       "      <td>0.999953</td>\n",
       "    </tr>\n",
       "    <tr>\n",
       "      <th>768</th>\n",
       "      <td>2048-10-01</td>\n",
       "      <td>fe7bc88</td>\n",
       "      <td>0.999996</td>\n",
       "      <td>0.999953</td>\n",
       "    </tr>\n",
       "  </tbody>\n",
       "</table>\n",
       "</div>"
      ],
      "text/plain": [
       "     timepoint clade_membership  frequency  frequency_final\n",
       "762 2048-10-01          eeaaada   0.151049         0.040763\n",
       "763 2048-10-01          eff8ef5   0.997971         0.999953\n",
       "766 2048-10-01          fa40799   0.999996         0.999953\n",
       "767 2048-10-01          fcad47c   0.997971         0.999953\n",
       "768 2048-10-01          fe7bc88   0.999996         0.999953"
      ]
     },
     "execution_count": 42,
     "metadata": {},
     "output_type": "execute_result"
    }
   ],
   "source": [
    "large_clades.tail()"
   ]
  },
  {
   "cell_type": "code",
   "execution_count": 43,
   "metadata": {},
   "outputs": [
    {
     "data": {
      "text/plain": [
       "(369, 4)"
      ]
     },
     "execution_count": 43,
     "metadata": {},
     "output_type": "execute_result"
    }
   ],
   "source": [
    "large_clades.shape"
   ]
  },
  {
   "cell_type": "markdown",
   "metadata": {},
   "source": [
    "## Find estimated future frequencies of large clades\n",
    "\n",
    "Use the true fitness metric for forecasts."
   ]
  },
  {
   "cell_type": "code",
   "execution_count": 44,
   "metadata": {},
   "outputs": [],
   "source": [
    "clade_tip_estimated_frequencies = tips_to_clades.merge(\n",
    "    forecasts,\n",
    "    on=[\"strain\"]\n",
    ")"
   ]
  },
  {
   "cell_type": "code",
   "execution_count": 45,
   "metadata": {},
   "outputs": [
    {
     "data": {
      "text/html": [
       "<div>\n",
       "<style scoped>\n",
       "    .dataframe tbody tr th:only-of-type {\n",
       "        vertical-align: middle;\n",
       "    }\n",
       "\n",
       "    .dataframe tbody tr th {\n",
       "        vertical-align: top;\n",
       "    }\n",
       "\n",
       "    .dataframe thead th {\n",
       "        text-align: right;\n",
       "    }\n",
       "</style>\n",
       "<table border=\"1\" class=\"dataframe\">\n",
       "  <thead>\n",
       "    <tr style=\"text-align: right;\">\n",
       "      <th></th>\n",
       "      <th>strain</th>\n",
       "      <th>clade_membership</th>\n",
       "      <th>depth</th>\n",
       "      <th>timepoint</th>\n",
       "      <th>frequency</th>\n",
       "      <th>projected_frequency</th>\n",
       "    </tr>\n",
       "  </thead>\n",
       "  <tbody>\n",
       "    <tr>\n",
       "      <th>0</th>\n",
       "      <td>sample_8020_99</td>\n",
       "      <td>777355b</td>\n",
       "      <td>0</td>\n",
       "      <td>2040-04-01</td>\n",
       "      <td>0.002981</td>\n",
       "      <td>4.141241e-04</td>\n",
       "    </tr>\n",
       "    <tr>\n",
       "      <th>1</th>\n",
       "      <td>sample_8020_99</td>\n",
       "      <td>0b64e3c</td>\n",
       "      <td>4</td>\n",
       "      <td>2040-04-01</td>\n",
       "      <td>0.002981</td>\n",
       "      <td>4.141241e-04</td>\n",
       "    </tr>\n",
       "    <tr>\n",
       "      <th>2</th>\n",
       "      <td>sample_8044_88</td>\n",
       "      <td>777355b</td>\n",
       "      <td>0</td>\n",
       "      <td>2040-04-01</td>\n",
       "      <td>0.004396</td>\n",
       "      <td>1.554646e-09</td>\n",
       "    </tr>\n",
       "    <tr>\n",
       "      <th>3</th>\n",
       "      <td>sample_8044_88</td>\n",
       "      <td>777355b</td>\n",
       "      <td>0</td>\n",
       "      <td>2040-10-01</td>\n",
       "      <td>0.000028</td>\n",
       "      <td>1.529982e-11</td>\n",
       "    </tr>\n",
       "    <tr>\n",
       "      <th>4</th>\n",
       "      <td>sample_8044_88</td>\n",
       "      <td>0b64e3c</td>\n",
       "      <td>4</td>\n",
       "      <td>2040-04-01</td>\n",
       "      <td>0.004396</td>\n",
       "      <td>1.554646e-09</td>\n",
       "    </tr>\n",
       "  </tbody>\n",
       "</table>\n",
       "</div>"
      ],
      "text/plain": [
       "           strain clade_membership  depth  timepoint  frequency  \\\n",
       "0  sample_8020_99          777355b      0 2040-04-01   0.002981   \n",
       "1  sample_8020_99          0b64e3c      4 2040-04-01   0.002981   \n",
       "2  sample_8044_88          777355b      0 2040-04-01   0.004396   \n",
       "3  sample_8044_88          777355b      0 2040-10-01   0.000028   \n",
       "4  sample_8044_88          0b64e3c      4 2040-04-01   0.004396   \n",
       "\n",
       "   projected_frequency  \n",
       "0         4.141241e-04  \n",
       "1         4.141241e-04  \n",
       "2         1.554646e-09  \n",
       "3         1.529982e-11  \n",
       "4         1.554646e-09  "
      ]
     },
     "execution_count": 45,
     "metadata": {},
     "output_type": "execute_result"
    }
   ],
   "source": [
    "clade_tip_estimated_frequencies.head()"
   ]
  },
  {
   "cell_type": "code",
   "execution_count": 46,
   "metadata": {},
   "outputs": [],
   "source": [
    "estimated_clade_frequencies = clade_tip_estimated_frequencies.groupby(\n",
    "    [\"timepoint\", \"clade_membership\"]\n",
    ").aggregate({\"projected_frequency\": \"sum\"}).reset_index()"
   ]
  },
  {
   "cell_type": "code",
   "execution_count": 47,
   "metadata": {},
   "outputs": [
    {
     "data": {
      "text/html": [
       "<div>\n",
       "<style scoped>\n",
       "    .dataframe tbody tr th:only-of-type {\n",
       "        vertical-align: middle;\n",
       "    }\n",
       "\n",
       "    .dataframe tbody tr th {\n",
       "        vertical-align: top;\n",
       "    }\n",
       "\n",
       "    .dataframe thead th {\n",
       "        text-align: right;\n",
       "    }\n",
       "</style>\n",
       "<table border=\"1\" class=\"dataframe\">\n",
       "  <thead>\n",
       "    <tr style=\"text-align: right;\">\n",
       "      <th></th>\n",
       "      <th>timepoint</th>\n",
       "      <th>clade_membership</th>\n",
       "      <th>projected_frequency</th>\n",
       "    </tr>\n",
       "  </thead>\n",
       "  <tbody>\n",
       "    <tr>\n",
       "      <th>0</th>\n",
       "      <td>2040-04-01</td>\n",
       "      <td>01a56b4</td>\n",
       "      <td>0.000318</td>\n",
       "    </tr>\n",
       "    <tr>\n",
       "      <th>1</th>\n",
       "      <td>2040-04-01</td>\n",
       "      <td>08c8518</td>\n",
       "      <td>0.000637</td>\n",
       "    </tr>\n",
       "    <tr>\n",
       "      <th>2</th>\n",
       "      <td>2040-04-01</td>\n",
       "      <td>0a4178d</td>\n",
       "      <td>0.000002</td>\n",
       "    </tr>\n",
       "    <tr>\n",
       "      <th>3</th>\n",
       "      <td>2040-04-01</td>\n",
       "      <td>0b64e3c</td>\n",
       "      <td>0.827830</td>\n",
       "    </tr>\n",
       "    <tr>\n",
       "      <th>4</th>\n",
       "      <td>2040-04-01</td>\n",
       "      <td>0eaf455</td>\n",
       "      <td>0.000002</td>\n",
       "    </tr>\n",
       "  </tbody>\n",
       "</table>\n",
       "</div>"
      ],
      "text/plain": [
       "   timepoint clade_membership  projected_frequency\n",
       "0 2040-04-01          01a56b4             0.000318\n",
       "1 2040-04-01          08c8518             0.000637\n",
       "2 2040-04-01          0a4178d             0.000002\n",
       "3 2040-04-01          0b64e3c             0.827830\n",
       "4 2040-04-01          0eaf455             0.000002"
      ]
     },
     "execution_count": 47,
     "metadata": {},
     "output_type": "execute_result"
    }
   ],
   "source": [
    "estimated_clade_frequencies.head()"
   ]
  },
  {
   "cell_type": "code",
   "execution_count": 48,
   "metadata": {},
   "outputs": [],
   "source": [
    "complete_clade_frequencies = large_clades.merge(\n",
    "    estimated_clade_frequencies,\n",
    "    on=[\"timepoint\", \"clade_membership\"],\n",
    "    suffixes=[\"\", \"_other\"]\n",
    ")"
   ]
  },
  {
   "cell_type": "code",
   "execution_count": 49,
   "metadata": {},
   "outputs": [],
   "source": [
    "complete_clade_frequencies = np.round(complete_clade_frequencies, 2)"
   ]
  },
  {
   "cell_type": "code",
   "execution_count": 50,
   "metadata": {},
   "outputs": [],
   "source": [
    "complete_clade_frequencies = complete_clade_frequencies.query(\"frequency != frequency_final\").copy()"
   ]
  },
  {
   "cell_type": "code",
   "execution_count": 51,
   "metadata": {},
   "outputs": [
    {
     "data": {
      "text/plain": [
       "(197, 5)"
      ]
     },
     "execution_count": 51,
     "metadata": {},
     "output_type": "execute_result"
    }
   ],
   "source": [
    "complete_clade_frequencies.shape"
   ]
  },
  {
   "cell_type": "code",
   "execution_count": 52,
   "metadata": {},
   "outputs": [],
   "source": [
    "complete_clade_frequencies[\"observed_growth_rate\"] = (\n",
    "    complete_clade_frequencies[\"frequency_final\"] / complete_clade_frequencies[\"frequency\"]\n",
    ")"
   ]
  },
  {
   "cell_type": "code",
   "execution_count": 53,
   "metadata": {},
   "outputs": [],
   "source": [
    "complete_clade_frequencies[\"estimated_growth_rate\"] = (\n",
    "    complete_clade_frequencies[\"projected_frequency\"] / complete_clade_frequencies[\"frequency\"]\n",
    ")"
   ]
  },
  {
   "cell_type": "code",
   "execution_count": 54,
   "metadata": {},
   "outputs": [
    {
     "data": {
      "application/vnd.vegalite.v3+json": {
       "$schema": "https://vega.github.io/schema/vega-lite/v3.3.0.json",
       "config": {
        "mark": {
         "tooltip": null
        },
        "view": {
         "height": 300,
         "width": 400
        }
       },
       "data": {
        "name": "data-b42c80255633a87d923ed2ff0d232240"
       },
       "datasets": {
        "data-b42c80255633a87d923ed2ff0d232240": [
         {
          "clade_membership": "be85840",
          "estimated_growth_rate": 0.6363636363636365,
          "frequency": 0.44,
          "frequency_final": 0.45,
          "observed_growth_rate": 1.0227272727272727,
          "projected_frequency": 0.28,
          "timepoint": "2040-04-01T00:00:00"
         },
         {
          "clade_membership": "348a0f0",
          "estimated_growth_rate": 1.0952380952380953,
          "frequency": 0.21,
          "frequency_final": 0.47,
          "observed_growth_rate": 2.238095238095238,
          "projected_frequency": 0.23,
          "timepoint": "2040-10-01T00:00:00"
         },
         {
          "clade_membership": "5198bfc",
          "estimated_growth_rate": 0.7903225806451613,
          "frequency": 0.62,
          "frequency_final": 0.65,
          "observed_growth_rate": 1.0483870967741935,
          "projected_frequency": 0.49,
          "timepoint": "2040-10-01T00:00:00"
         },
         {
          "clade_membership": "777355b",
          "estimated_growth_rate": 2.375,
          "frequency": 0.16,
          "frequency_final": 0.3,
          "observed_growth_rate": 1.875,
          "projected_frequency": 0.38,
          "timepoint": "2040-10-01T00:00:00"
         },
         {
          "clade_membership": "84b5f88",
          "estimated_growth_rate": 0.6875,
          "frequency": 0.16,
          "frequency_final": 0.15,
          "observed_growth_rate": 0.9375,
          "projected_frequency": 0.11,
          "timepoint": "2040-10-01T00:00:00"
         },
         {
          "clade_membership": "a4f5eae",
          "estimated_growth_rate": 1.352941176470588,
          "frequency": 0.17,
          "frequency_final": 0.47,
          "observed_growth_rate": 2.7647058823529407,
          "projected_frequency": 0.23,
          "timepoint": "2040-10-01T00:00:00"
         },
         {
          "clade_membership": "be85840",
          "estimated_growth_rate": 0.7333333333333334,
          "frequency": 0.45,
          "frequency_final": 0.5,
          "observed_growth_rate": 1.1111111111111112,
          "projected_frequency": 0.33,
          "timepoint": "2040-10-01T00:00:00"
         },
         {
          "clade_membership": "1e30edd",
          "estimated_growth_rate": 0.8421052631578947,
          "frequency": 0.19,
          "frequency_final": 0.25,
          "observed_growth_rate": 1.3157894736842106,
          "projected_frequency": 0.16,
          "timepoint": "2041-04-01T00:00:00"
         },
         {
          "clade_membership": "348a0f0",
          "estimated_growth_rate": 1.5833333333333333,
          "frequency": 0.36,
          "frequency_final": 0.68,
          "observed_growth_rate": 1.888888888888889,
          "projected_frequency": 0.57,
          "timepoint": "2041-04-01T00:00:00"
         },
         {
          "clade_membership": "368ae33",
          "estimated_growth_rate": 0.7499999999999999,
          "frequency": 0.2,
          "frequency_final": 0.03,
          "observed_growth_rate": 0.15,
          "projected_frequency": 0.15,
          "timepoint": "2041-04-01T00:00:00"
         },
         {
          "clade_membership": "371a2df",
          "estimated_growth_rate": 2.8235294117647056,
          "frequency": 0.17,
          "frequency_final": 0.67,
          "observed_growth_rate": 3.941176470588235,
          "projected_frequency": 0.48,
          "timepoint": "2041-04-01T00:00:00"
         },
         {
          "clade_membership": "5198bfc",
          "estimated_growth_rate": 1.1818181818181819,
          "frequency": 0.66,
          "frequency_final": 0.73,
          "observed_growth_rate": 1.106060606060606,
          "projected_frequency": 0.78,
          "timepoint": "2041-04-01T00:00:00"
         },
         {
          "clade_membership": "584f7f8",
          "estimated_growth_rate": 0.7499999999999999,
          "frequency": 0.2,
          "frequency_final": 0.03,
          "observed_growth_rate": 0.15,
          "projected_frequency": 0.15,
          "timepoint": "2041-04-01T00:00:00"
         },
         {
          "clade_membership": "777355b",
          "estimated_growth_rate": 0.7272727272727273,
          "frequency": 0.22,
          "frequency_final": 0.25,
          "observed_growth_rate": 1.1363636363636365,
          "projected_frequency": 0.16,
          "timepoint": "2041-04-01T00:00:00"
         },
         {
          "clade_membership": "84b5f88",
          "estimated_growth_rate": 0.7499999999999999,
          "frequency": 0.2,
          "frequency_final": 0.03,
          "observed_growth_rate": 0.15,
          "projected_frequency": 0.15,
          "timepoint": "2041-04-01T00:00:00"
         },
         {
          "clade_membership": "a4f5eae",
          "estimated_growth_rate": 1.6285714285714286,
          "frequency": 0.35,
          "frequency_final": 0.68,
          "observed_growth_rate": 1.942857142857143,
          "projected_frequency": 0.57,
          "timepoint": "2041-04-01T00:00:00"
         },
         {
          "clade_membership": "be85840",
          "estimated_growth_rate": 1.4,
          "frequency": 0.45,
          "frequency_final": 0.71,
          "observed_growth_rate": 1.5777777777777777,
          "projected_frequency": 0.63,
          "timepoint": "2041-04-01T00:00:00"
         },
         {
          "clade_membership": "e9c36fc",
          "estimated_growth_rate": 1,
          "frequency": 0.16,
          "frequency_final": 0.25,
          "observed_growth_rate": 1.5625,
          "projected_frequency": 0.16,
          "timepoint": "2041-04-01T00:00:00"
         },
         {
          "clade_membership": "eeed629",
          "estimated_growth_rate": 0.9411764705882353,
          "frequency": 0.17,
          "frequency_final": 0.25,
          "observed_growth_rate": 1.4705882352941175,
          "projected_frequency": 0.16,
          "timepoint": "2041-04-01T00:00:00"
         },
         {
          "clade_membership": "0d1b0d8",
          "estimated_growth_rate": 1.8333333333333335,
          "frequency": 0.18,
          "frequency_final": 0.71,
          "observed_growth_rate": 3.944444444444444,
          "projected_frequency": 0.33,
          "timepoint": "2041-10-01T00:00:00"
         },
         {
          "clade_membership": "13b392f",
          "estimated_growth_rate": 1.8333333333333335,
          "frequency": 0.18,
          "frequency_final": 0.71,
          "observed_growth_rate": 3.944444444444444,
          "projected_frequency": 0.33,
          "timepoint": "2041-10-01T00:00:00"
         },
         {
          "clade_membership": "1e30edd",
          "estimated_growth_rate": 0.7333333333333334,
          "frequency": 0.3,
          "frequency_final": 0.22,
          "observed_growth_rate": 0.7333333333333334,
          "projected_frequency": 0.22,
          "timepoint": "2041-10-01T00:00:00"
         },
         {
          "clade_membership": "348a0f0",
          "estimated_growth_rate": 1.5106382978723405,
          "frequency": 0.47,
          "frequency_final": 0.77,
          "observed_growth_rate": 1.6382978723404256,
          "projected_frequency": 0.71,
          "timepoint": "2041-10-01T00:00:00"
         },
         {
          "clade_membership": "371a2df",
          "estimated_growth_rate": 2.392857142857143,
          "frequency": 0.28,
          "frequency_final": 0.77,
          "observed_growth_rate": 2.75,
          "projected_frequency": 0.67,
          "timepoint": "2041-10-01T00:00:00"
         },
         {
          "clade_membership": "5198bfc",
          "estimated_growth_rate": 1.1692307692307693,
          "frequency": 0.65,
          "frequency_final": 0.78,
          "observed_growth_rate": 1.2,
          "projected_frequency": 0.76,
          "timepoint": "2041-10-01T00:00:00"
         },
         {
          "clade_membership": "556140f",
          "estimated_growth_rate": 0.7777777777777779,
          "frequency": 0.18,
          "frequency_final": 0.06,
          "observed_growth_rate": 0.3333333333333333,
          "projected_frequency": 0.14,
          "timepoint": "2041-10-01T00:00:00"
         },
         {
          "clade_membership": "5634f77",
          "estimated_growth_rate": 0.7777777777777779,
          "frequency": 0.18,
          "frequency_final": 0.06,
          "observed_growth_rate": 0.3333333333333333,
          "projected_frequency": 0.14,
          "timepoint": "2041-10-01T00:00:00"
         },
         {
          "clade_membership": "777355b",
          "estimated_growth_rate": 0.7333333333333334,
          "frequency": 0.3,
          "frequency_final": 0.22,
          "observed_growth_rate": 0.7333333333333334,
          "projected_frequency": 0.22,
          "timepoint": "2041-10-01T00:00:00"
         },
         {
          "clade_membership": "a4f5eae",
          "estimated_growth_rate": 1.5106382978723405,
          "frequency": 0.47,
          "frequency_final": 0.77,
          "observed_growth_rate": 1.6382978723404256,
          "projected_frequency": 0.71,
          "timepoint": "2041-10-01T00:00:00"
         },
         {
          "clade_membership": "be85840",
          "estimated_growth_rate": 1.44,
          "frequency": 0.5,
          "frequency_final": 0.78,
          "observed_growth_rate": 1.56,
          "projected_frequency": 0.72,
          "timepoint": "2041-10-01T00:00:00"
         },
         {
          "clade_membership": "e9c36fc",
          "estimated_growth_rate": 0.7333333333333334,
          "frequency": 0.3,
          "frequency_final": 0.22,
          "observed_growth_rate": 0.7333333333333334,
          "projected_frequency": 0.22,
          "timepoint": "2041-10-01T00:00:00"
         },
         {
          "clade_membership": "eeed629",
          "estimated_growth_rate": 0.7333333333333334,
          "frequency": 0.3,
          "frequency_final": 0.22,
          "observed_growth_rate": 0.7333333333333334,
          "projected_frequency": 0.22,
          "timepoint": "2041-10-01T00:00:00"
         },
         {
          "clade_membership": "0d1b0d8",
          "estimated_growth_rate": 1.489795918367347,
          "frequency": 0.49,
          "frequency_final": 0.75,
          "observed_growth_rate": 1.530612244897959,
          "projected_frequency": 0.73,
          "timepoint": "2042-04-01T00:00:00"
         },
         {
          "clade_membership": "13b392f",
          "estimated_growth_rate": 1.489795918367347,
          "frequency": 0.49,
          "frequency_final": 0.75,
          "observed_growth_rate": 1.530612244897959,
          "projected_frequency": 0.73,
          "timepoint": "2042-04-01T00:00:00"
         },
         {
          "clade_membership": "348a0f0",
          "estimated_growth_rate": 1.2352941176470587,
          "frequency": 0.68,
          "frequency_final": 0.75,
          "observed_growth_rate": 1.102941176470588,
          "projected_frequency": 0.84,
          "timepoint": "2042-04-01T00:00:00"
         },
         {
          "clade_membership": "371a2df",
          "estimated_growth_rate": 1.253731343283582,
          "frequency": 0.67,
          "frequency_final": 0.75,
          "observed_growth_rate": 1.1194029850746268,
          "projected_frequency": 0.84,
          "timepoint": "2042-04-01T00:00:00"
         },
         {
          "clade_membership": "5198bfc",
          "estimated_growth_rate": 1.1643835616438356,
          "frequency": 0.73,
          "frequency_final": 0.75,
          "observed_growth_rate": 1.0273972602739727,
          "projected_frequency": 0.85,
          "timepoint": "2042-04-01T00:00:00"
         },
         {
          "clade_membership": "719838a",
          "estimated_growth_rate": 2.666666666666667,
          "frequency": 0.21,
          "frequency_final": 0.68,
          "observed_growth_rate": 3.2380952380952386,
          "projected_frequency": 0.56,
          "timepoint": "2042-04-01T00:00:00"
         },
         {
          "clade_membership": "a4f5eae",
          "estimated_growth_rate": 1.2352941176470587,
          "frequency": 0.68,
          "frequency_final": 0.75,
          "observed_growth_rate": 1.102941176470588,
          "projected_frequency": 0.84,
          "timepoint": "2042-04-01T00:00:00"
         },
         {
          "clade_membership": "be85840",
          "estimated_growth_rate": 1.1830985915492958,
          "frequency": 0.71,
          "frequency_final": 0.75,
          "observed_growth_rate": 1.0563380281690142,
          "projected_frequency": 0.84,
          "timepoint": "2042-04-01T00:00:00"
         },
         {
          "clade_membership": "c8f3b54",
          "estimated_growth_rate": 0.6111111111111112,
          "frequency": 0.18,
          "frequency_final": 0.21,
          "observed_growth_rate": 1.1666666666666667,
          "projected_frequency": 0.11,
          "timepoint": "2042-04-01T00:00:00"
         },
         {
          "clade_membership": "d74e02c",
          "estimated_growth_rate": 0.6111111111111112,
          "frequency": 0.18,
          "frequency_final": 0.21,
          "observed_growth_rate": 1.1666666666666667,
          "projected_frequency": 0.11,
          "timepoint": "2042-04-01T00:00:00"
         },
         {
          "clade_membership": "eb29550",
          "estimated_growth_rate": 0.6111111111111112,
          "frequency": 0.18,
          "frequency_final": 0.21,
          "observed_growth_rate": 1.1666666666666667,
          "projected_frequency": 0.11,
          "timepoint": "2042-04-01T00:00:00"
         },
         {
          "clade_membership": "0d1b0d8",
          "estimated_growth_rate": 1.1971830985915493,
          "frequency": 0.71,
          "frequency_final": 0.79,
          "observed_growth_rate": 1.1126760563380282,
          "projected_frequency": 0.85,
          "timepoint": "2042-10-01T00:00:00"
         },
         {
          "clade_membership": "13b392f",
          "estimated_growth_rate": 1.1971830985915493,
          "frequency": 0.71,
          "frequency_final": 0.79,
          "observed_growth_rate": 1.1126760563380282,
          "projected_frequency": 0.85,
          "timepoint": "2042-10-01T00:00:00"
         },
         {
          "clade_membership": "1e30edd",
          "estimated_growth_rate": 0.6363636363636365,
          "frequency": 0.22,
          "frequency_final": 0.21,
          "observed_growth_rate": 0.9545454545454545,
          "projected_frequency": 0.14,
          "timepoint": "2042-10-01T00:00:00"
         },
         {
          "clade_membership": "348a0f0",
          "estimated_growth_rate": 1.1168831168831168,
          "frequency": 0.77,
          "frequency_final": 0.79,
          "observed_growth_rate": 1.025974025974026,
          "projected_frequency": 0.86,
          "timepoint": "2042-10-01T00:00:00"
         },
         {
          "clade_membership": "371a2df",
          "estimated_growth_rate": 1.1168831168831168,
          "frequency": 0.77,
          "frequency_final": 0.79,
          "observed_growth_rate": 1.025974025974026,
          "projected_frequency": 0.86,
          "timepoint": "2042-10-01T00:00:00"
         },
         {
          "clade_membership": "5198bfc",
          "estimated_growth_rate": 1.1025641025641024,
          "frequency": 0.78,
          "frequency_final": 0.79,
          "observed_growth_rate": 1.0128205128205128,
          "projected_frequency": 0.86,
          "timepoint": "2042-10-01T00:00:00"
         },
         {
          "clade_membership": "719838a",
          "estimated_growth_rate": 1.6122448979591837,
          "frequency": 0.49,
          "frequency_final": 0.79,
          "observed_growth_rate": 1.6122448979591837,
          "projected_frequency": 0.79,
          "timepoint": "2042-10-01T00:00:00"
         },
         {
          "clade_membership": "777355b",
          "estimated_growth_rate": 0.6363636363636365,
          "frequency": 0.22,
          "frequency_final": 0.21,
          "observed_growth_rate": 0.9545454545454545,
          "projected_frequency": 0.14,
          "timepoint": "2042-10-01T00:00:00"
         },
         {
          "clade_membership": "a4f5eae",
          "estimated_growth_rate": 1.1168831168831168,
          "frequency": 0.77,
          "frequency_final": 0.79,
          "observed_growth_rate": 1.025974025974026,
          "projected_frequency": 0.86,
          "timepoint": "2042-10-01T00:00:00"
         },
         {
          "clade_membership": "be85840",
          "estimated_growth_rate": 1.1025641025641024,
          "frequency": 0.78,
          "frequency_final": 0.79,
          "observed_growth_rate": 1.0128205128205128,
          "projected_frequency": 0.86,
          "timepoint": "2042-10-01T00:00:00"
         },
         {
          "clade_membership": "c8f3b54",
          "estimated_growth_rate": 0.6,
          "frequency": 0.15,
          "frequency_final": 0.21,
          "observed_growth_rate": 1.4,
          "projected_frequency": 0.09,
          "timepoint": "2042-10-01T00:00:00"
         },
         {
          "clade_membership": "d74e02c",
          "estimated_growth_rate": 0.6,
          "frequency": 0.15,
          "frequency_final": 0.21,
          "observed_growth_rate": 1.4,
          "projected_frequency": 0.09,
          "timepoint": "2042-10-01T00:00:00"
         },
         {
          "clade_membership": "e9c36fc",
          "estimated_growth_rate": 0.6363636363636365,
          "frequency": 0.22,
          "frequency_final": 0.21,
          "observed_growth_rate": 0.9545454545454545,
          "projected_frequency": 0.14,
          "timepoint": "2042-10-01T00:00:00"
         },
         {
          "clade_membership": "eb29550",
          "estimated_growth_rate": 0.6,
          "frequency": 0.15,
          "frequency_final": 0.21,
          "observed_growth_rate": 1.4,
          "projected_frequency": 0.09,
          "timepoint": "2042-10-01T00:00:00"
         },
         {
          "clade_membership": "eeed629",
          "estimated_growth_rate": 0.6363636363636365,
          "frequency": 0.22,
          "frequency_final": 0.21,
          "observed_growth_rate": 0.9545454545454545,
          "projected_frequency": 0.14,
          "timepoint": "2042-10-01T00:00:00"
         },
         {
          "clade_membership": "0d1b0d8",
          "estimated_growth_rate": 1.2133333333333334,
          "frequency": 0.75,
          "frequency_final": 0.99,
          "observed_growth_rate": 1.32,
          "projected_frequency": 0.91,
          "timepoint": "2043-04-01T00:00:00"
         },
         {
          "clade_membership": "13b392f",
          "estimated_growth_rate": 1.2133333333333334,
          "frequency": 0.75,
          "frequency_final": 0.99,
          "observed_growth_rate": 1.32,
          "projected_frequency": 0.91,
          "timepoint": "2043-04-01T00:00:00"
         },
         {
          "clade_membership": "1e30edd",
          "estimated_growth_rate": 0.36,
          "frequency": 0.25,
          "frequency_final": 0.01,
          "observed_growth_rate": 0.04,
          "projected_frequency": 0.09,
          "timepoint": "2043-04-01T00:00:00"
         },
         {
          "clade_membership": "348a0f0",
          "estimated_growth_rate": 1.2133333333333334,
          "frequency": 0.75,
          "frequency_final": 0.99,
          "observed_growth_rate": 1.32,
          "projected_frequency": 0.91,
          "timepoint": "2043-04-01T00:00:00"
         },
         {
          "clade_membership": "371a2df",
          "estimated_growth_rate": 1.2133333333333334,
          "frequency": 0.75,
          "frequency_final": 0.99,
          "observed_growth_rate": 1.32,
          "projected_frequency": 0.91,
          "timepoint": "2043-04-01T00:00:00"
         },
         {
          "clade_membership": "5198bfc",
          "estimated_growth_rate": 1.2133333333333334,
          "frequency": 0.75,
          "frequency_final": 0.99,
          "observed_growth_rate": 1.32,
          "projected_frequency": 0.91,
          "timepoint": "2043-04-01T00:00:00"
         },
         {
          "clade_membership": "719838a",
          "estimated_growth_rate": 1.2647058823529411,
          "frequency": 0.68,
          "frequency_final": 0.99,
          "observed_growth_rate": 1.4558823529411764,
          "projected_frequency": 0.86,
          "timepoint": "2043-04-01T00:00:00"
         },
         {
          "clade_membership": "777355b",
          "estimated_growth_rate": 0.36,
          "frequency": 0.25,
          "frequency_final": 0.01,
          "observed_growth_rate": 0.04,
          "projected_frequency": 0.09,
          "timepoint": "2043-04-01T00:00:00"
         },
         {
          "clade_membership": "914f5e8",
          "estimated_growth_rate": 0.33333333333333337,
          "frequency": 0.21,
          "frequency_final": 0.01,
          "observed_growth_rate": 0.04761904761904762,
          "projected_frequency": 0.07,
          "timepoint": "2043-04-01T00:00:00"
         },
         {
          "clade_membership": "a4f5eae",
          "estimated_growth_rate": 1.2133333333333334,
          "frequency": 0.75,
          "frequency_final": 0.99,
          "observed_growth_rate": 1.32,
          "projected_frequency": 0.91,
          "timepoint": "2043-04-01T00:00:00"
         },
         {
          "clade_membership": "be85840",
          "estimated_growth_rate": 1.2133333333333334,
          "frequency": 0.75,
          "frequency_final": 0.99,
          "observed_growth_rate": 1.32,
          "projected_frequency": 0.91,
          "timepoint": "2043-04-01T00:00:00"
         },
         {
          "clade_membership": "c8f3b54",
          "estimated_growth_rate": 0.33333333333333337,
          "frequency": 0.21,
          "frequency_final": 0.01,
          "observed_growth_rate": 0.04761904761904762,
          "projected_frequency": 0.07,
          "timepoint": "2043-04-01T00:00:00"
         },
         {
          "clade_membership": "d74e02c",
          "estimated_growth_rate": 0.33333333333333337,
          "frequency": 0.21,
          "frequency_final": 0.01,
          "observed_growth_rate": 0.04761904761904762,
          "projected_frequency": 0.07,
          "timepoint": "2043-04-01T00:00:00"
         },
         {
          "clade_membership": "e9c36fc",
          "estimated_growth_rate": 0.36,
          "frequency": 0.25,
          "frequency_final": 0.01,
          "observed_growth_rate": 0.04,
          "projected_frequency": 0.09,
          "timepoint": "2043-04-01T00:00:00"
         },
         {
          "clade_membership": "eb29550",
          "estimated_growth_rate": 0.33333333333333337,
          "frequency": 0.21,
          "frequency_final": 0.01,
          "observed_growth_rate": 0.04761904761904762,
          "projected_frequency": 0.07,
          "timepoint": "2043-04-01T00:00:00"
         },
         {
          "clade_membership": "eeed629",
          "estimated_growth_rate": 0.36,
          "frequency": 0.25,
          "frequency_final": 0.01,
          "observed_growth_rate": 0.04,
          "projected_frequency": 0.09,
          "timepoint": "2043-04-01T00:00:00"
         },
         {
          "clade_membership": "0d1b0d8",
          "estimated_growth_rate": 1.2151898734177213,
          "frequency": 0.79,
          "frequency_final": 1,
          "observed_growth_rate": 1.2658227848101264,
          "projected_frequency": 0.96,
          "timepoint": "2043-10-01T00:00:00"
         },
         {
          "clade_membership": "13b392f",
          "estimated_growth_rate": 1.2151898734177213,
          "frequency": 0.79,
          "frequency_final": 1,
          "observed_growth_rate": 1.2658227848101264,
          "projected_frequency": 0.96,
          "timepoint": "2043-10-01T00:00:00"
         },
         {
          "clade_membership": "348a0f0",
          "estimated_growth_rate": 1.2151898734177213,
          "frequency": 0.79,
          "frequency_final": 1,
          "observed_growth_rate": 1.2658227848101264,
          "projected_frequency": 0.96,
          "timepoint": "2043-10-01T00:00:00"
         },
         {
          "clade_membership": "371a2df",
          "estimated_growth_rate": 1.2151898734177213,
          "frequency": 0.79,
          "frequency_final": 1,
          "observed_growth_rate": 1.2658227848101264,
          "projected_frequency": 0.96,
          "timepoint": "2043-10-01T00:00:00"
         },
         {
          "clade_membership": "5198bfc",
          "estimated_growth_rate": 1.2151898734177213,
          "frequency": 0.79,
          "frequency_final": 1,
          "observed_growth_rate": 1.2658227848101264,
          "projected_frequency": 0.96,
          "timepoint": "2043-10-01T00:00:00"
         },
         {
          "clade_membership": "660db55",
          "estimated_growth_rate": 1.2467532467532467,
          "frequency": 0.77,
          "frequency_final": 1,
          "observed_growth_rate": 1.2987012987012987,
          "projected_frequency": 0.96,
          "timepoint": "2043-10-01T00:00:00"
         },
         {
          "clade_membership": "719838a",
          "estimated_growth_rate": 1.2151898734177213,
          "frequency": 0.79,
          "frequency_final": 1,
          "observed_growth_rate": 1.2658227848101264,
          "projected_frequency": 0.96,
          "timepoint": "2043-10-01T00:00:00"
         },
         {
          "clade_membership": "7539ad2",
          "estimated_growth_rate": 1.84,
          "frequency": 0.5,
          "frequency_final": 1,
          "observed_growth_rate": 2,
          "projected_frequency": 0.92,
          "timepoint": "2043-10-01T00:00:00"
         },
         {
          "clade_membership": "78aad12",
          "estimated_growth_rate": 1.2467532467532467,
          "frequency": 0.77,
          "frequency_final": 1,
          "observed_growth_rate": 1.2987012987012987,
          "projected_frequency": 0.96,
          "timepoint": "2043-10-01T00:00:00"
         },
         {
          "clade_membership": "a4f5eae",
          "estimated_growth_rate": 1.2151898734177213,
          "frequency": 0.79,
          "frequency_final": 1,
          "observed_growth_rate": 1.2658227848101264,
          "projected_frequency": 0.96,
          "timepoint": "2043-10-01T00:00:00"
         },
         {
          "clade_membership": "be85840",
          "estimated_growth_rate": 1.2151898734177213,
          "frequency": 0.79,
          "frequency_final": 1,
          "observed_growth_rate": 1.2658227848101264,
          "projected_frequency": 0.96,
          "timepoint": "2043-10-01T00:00:00"
         },
         {
          "clade_membership": "fa40799",
          "estimated_growth_rate": 1.2467532467532467,
          "frequency": 0.77,
          "frequency_final": 1,
          "observed_growth_rate": 1.2987012987012987,
          "projected_frequency": 0.96,
          "timepoint": "2043-10-01T00:00:00"
         },
         {
          "clade_membership": "0d1b0d8",
          "estimated_growth_rate": 1.0101010101010102,
          "frequency": 0.99,
          "frequency_final": 1,
          "observed_growth_rate": 1.0101010101010102,
          "projected_frequency": 1,
          "timepoint": "2044-04-01T00:00:00"
         },
         {
          "clade_membership": "13b392f",
          "estimated_growth_rate": 1.0101010101010102,
          "frequency": 0.99,
          "frequency_final": 1,
          "observed_growth_rate": 1.0101010101010102,
          "projected_frequency": 1,
          "timepoint": "2044-04-01T00:00:00"
         },
         {
          "clade_membership": "227dcf9",
          "estimated_growth_rate": 1.9523809523809523,
          "frequency": 0.21,
          "frequency_final": 0,
          "observed_growth_rate": 0,
          "projected_frequency": 0.41,
          "timepoint": "2044-04-01T00:00:00"
         },
         {
          "clade_membership": "348a0f0",
          "estimated_growth_rate": 1.0101010101010102,
          "frequency": 0.99,
          "frequency_final": 1,
          "observed_growth_rate": 1.0101010101010102,
          "projected_frequency": 1,
          "timepoint": "2044-04-01T00:00:00"
         },
         {
          "clade_membership": "371a2df",
          "estimated_growth_rate": 1.0101010101010102,
          "frequency": 0.99,
          "frequency_final": 1,
          "observed_growth_rate": 1.0101010101010102,
          "projected_frequency": 1,
          "timepoint": "2044-04-01T00:00:00"
         },
         {
          "clade_membership": "5198bfc",
          "estimated_growth_rate": 1.0101010101010102,
          "frequency": 0.99,
          "frequency_final": 1,
          "observed_growth_rate": 1.0101010101010102,
          "projected_frequency": 1,
          "timepoint": "2044-04-01T00:00:00"
         },
         {
          "clade_membership": "535c89b",
          "estimated_growth_rate": 1.5833333333333333,
          "frequency": 0.36,
          "frequency_final": 1,
          "observed_growth_rate": 2.7777777777777777,
          "projected_frequency": 0.57,
          "timepoint": "2044-04-01T00:00:00"
         },
         {
          "clade_membership": "660db55",
          "estimated_growth_rate": 1.0101010101010102,
          "frequency": 0.99,
          "frequency_final": 1,
          "observed_growth_rate": 1.0101010101010102,
          "projected_frequency": 1,
          "timepoint": "2044-04-01T00:00:00"
         },
         {
          "clade_membership": "6ba87bd",
          "estimated_growth_rate": 1.727272727272727,
          "frequency": 0.33,
          "frequency_final": 1,
          "observed_growth_rate": 3.0303030303030303,
          "projected_frequency": 0.57,
          "timepoint": "2044-04-01T00:00:00"
         },
         {
          "clade_membership": "719838a",
          "estimated_growth_rate": 1.0101010101010102,
          "frequency": 0.99,
          "frequency_final": 1,
          "observed_growth_rate": 1.0101010101010102,
          "projected_frequency": 1,
          "timepoint": "2044-04-01T00:00:00"
         },
         {
          "clade_membership": "7539ad2",
          "estimated_growth_rate": 1.0416666666666667,
          "frequency": 0.96,
          "frequency_final": 1,
          "observed_growth_rate": 1.0416666666666667,
          "projected_frequency": 1,
          "timepoint": "2044-04-01T00:00:00"
         },
         {
          "clade_membership": "78aad12",
          "estimated_growth_rate": 1.0101010101010102,
          "frequency": 0.99,
          "frequency_final": 1,
          "observed_growth_rate": 1.0101010101010102,
          "projected_frequency": 1,
          "timepoint": "2044-04-01T00:00:00"
         },
         {
          "clade_membership": "a4f5eae",
          "estimated_growth_rate": 1.0101010101010102,
          "frequency": 0.99,
          "frequency_final": 1,
          "observed_growth_rate": 1.0101010101010102,
          "projected_frequency": 1,
          "timepoint": "2044-04-01T00:00:00"
         },
         {
          "clade_membership": "be85840",
          "estimated_growth_rate": 1.0101010101010102,
          "frequency": 0.99,
          "frequency_final": 1,
          "observed_growth_rate": 1.0101010101010102,
          "projected_frequency": 1,
          "timepoint": "2044-04-01T00:00:00"
         },
         {
          "clade_membership": "fa40799",
          "estimated_growth_rate": 1.0101010101010102,
          "frequency": 0.99,
          "frequency_final": 1,
          "observed_growth_rate": 1.0101010101010102,
          "projected_frequency": 1,
          "timepoint": "2044-04-01T00:00:00"
         },
         {
          "clade_membership": "535c89b",
          "estimated_growth_rate": 1.2048192771084338,
          "frequency": 0.83,
          "frequency_final": 1,
          "observed_growth_rate": 1.2048192771084338,
          "projected_frequency": 1,
          "timepoint": "2044-10-01T00:00:00"
         },
         {
          "clade_membership": "6ba87bd",
          "estimated_growth_rate": 1.2048192771084338,
          "frequency": 0.83,
          "frequency_final": 1,
          "observed_growth_rate": 1.2048192771084338,
          "projected_frequency": 1,
          "timepoint": "2044-10-01T00:00:00"
         },
         {
          "clade_membership": "8d49f3b",
          "estimated_growth_rate": 1.2987012987012987,
          "frequency": 0.77,
          "frequency_final": 1,
          "observed_growth_rate": 1.2987012987012987,
          "projected_frequency": 1,
          "timepoint": "2044-10-01T00:00:00"
         },
         {
          "clade_membership": "fe7bc88",
          "estimated_growth_rate": 1.2987012987012987,
          "frequency": 0.77,
          "frequency_final": 1,
          "observed_growth_rate": 1.2987012987012987,
          "projected_frequency": 1,
          "timepoint": "2044-10-01T00:00:00"
         },
         {
          "clade_membership": "781dea1",
          "estimated_growth_rate": 1.6,
          "frequency": 0.15,
          "frequency_final": 0.03,
          "observed_growth_rate": 0.2,
          "projected_frequency": 0.24,
          "timepoint": "2045-04-01T00:00:00"
         },
         {
          "clade_membership": "bfacf3b",
          "estimated_growth_rate": 0.631578947368421,
          "frequency": 0.19,
          "frequency_final": 0.5,
          "observed_growth_rate": 2.6315789473684212,
          "projected_frequency": 0.12,
          "timepoint": "2045-04-01T00:00:00"
         },
         {
          "clade_membership": "fcad47c",
          "estimated_growth_rate": 1.8085106382978724,
          "frequency": 0.47,
          "frequency_final": 0.5,
          "observed_growth_rate": 1.0638297872340425,
          "projected_frequency": 0.85,
          "timepoint": "2045-04-01T00:00:00"
         },
         {
          "clade_membership": "089dcd8",
          "estimated_growth_rate": 2.2222222222222223,
          "frequency": 0.18,
          "frequency_final": 0.28,
          "observed_growth_rate": 1.5555555555555558,
          "projected_frequency": 0.4,
          "timepoint": "2045-10-01T00:00:00"
         },
         {
          "clade_membership": "32a5e55",
          "estimated_growth_rate": 0.2727272727272727,
          "frequency": 0.22,
          "frequency_final": 0.33,
          "observed_growth_rate": 1.5,
          "projected_frequency": 0.06,
          "timepoint": "2045-10-01T00:00:00"
         },
         {
          "clade_membership": "781dea1",
          "estimated_growth_rate": 0.11111111111111112,
          "frequency": 0.18,
          "frequency_final": 0,
          "observed_growth_rate": 0,
          "projected_frequency": 0.02,
          "timepoint": "2045-10-01T00:00:00"
         },
         {
          "clade_membership": "8e3e749",
          "estimated_growth_rate": 1.0952380952380953,
          "frequency": 0.42,
          "frequency_final": 0.6,
          "observed_growth_rate": 1.4285714285714286,
          "projected_frequency": 0.46,
          "timepoint": "2045-10-01T00:00:00"
         },
         {
          "clade_membership": "f3d7650",
          "estimated_growth_rate": 0.11111111111111112,
          "frequency": 0.18,
          "frequency_final": 0,
          "observed_growth_rate": 0,
          "projected_frequency": 0.02,
          "timepoint": "2045-10-01T00:00:00"
         },
         {
          "clade_membership": "fcad47c",
          "estimated_growth_rate": 0.6071428571428572,
          "frequency": 0.84,
          "frequency_final": 0.6,
          "observed_growth_rate": 0.7142857142857143,
          "projected_frequency": 0.51,
          "timepoint": "2045-10-01T00:00:00"
         },
         {
          "clade_membership": "089dcd8",
          "estimated_growth_rate": 1,
          "frequency": 0.18,
          "frequency_final": 0.27,
          "observed_growth_rate": 1.5000000000000002,
          "projected_frequency": 0.18,
          "timepoint": "2046-04-01T00:00:00"
         },
         {
          "clade_membership": "0eb4da6",
          "estimated_growth_rate": 1.3,
          "frequency": 0.5,
          "frequency_final": 0.52,
          "observed_growth_rate": 1.04,
          "projected_frequency": 0.65,
          "timepoint": "2046-04-01T00:00:00"
         },
         {
          "clade_membership": "32a5e55",
          "estimated_growth_rate": 0.6153846153846154,
          "frequency": 0.26,
          "frequency_final": 0.21,
          "observed_growth_rate": 0.8076923076923076,
          "projected_frequency": 0.16,
          "timepoint": "2046-04-01T00:00:00"
         },
         {
          "clade_membership": "3e4ca6b",
          "estimated_growth_rate": 1.3,
          "frequency": 0.5,
          "frequency_final": 0.52,
          "observed_growth_rate": 1.04,
          "projected_frequency": 0.65,
          "timepoint": "2046-04-01T00:00:00"
         },
         {
          "clade_membership": "7067b61",
          "estimated_growth_rate": 1.3,
          "frequency": 0.5,
          "frequency_final": 0.52,
          "observed_growth_rate": 1.04,
          "projected_frequency": 0.65,
          "timepoint": "2046-04-01T00:00:00"
         },
         {
          "clade_membership": "8e3e749",
          "estimated_growth_rate": 0.7727272727272728,
          "frequency": 0.44,
          "frequency_final": 0.48,
          "observed_growth_rate": 1.0909090909090908,
          "projected_frequency": 0.34,
          "timepoint": "2046-04-01T00:00:00"
         },
         {
          "clade_membership": "9303e64",
          "estimated_growth_rate": 1.3,
          "frequency": 0.5,
          "frequency_final": 0.52,
          "observed_growth_rate": 1.04,
          "projected_frequency": 0.65,
          "timepoint": "2046-04-01T00:00:00"
         },
         {
          "clade_membership": "ab5cc8d",
          "estimated_growth_rate": 1.3,
          "frequency": 0.5,
          "frequency_final": 0.52,
          "observed_growth_rate": 1.04,
          "projected_frequency": 0.65,
          "timepoint": "2046-04-01T00:00:00"
         },
         {
          "clade_membership": "bfacf3b",
          "estimated_growth_rate": 1.3,
          "frequency": 0.5,
          "frequency_final": 0.52,
          "observed_growth_rate": 1.04,
          "projected_frequency": 0.65,
          "timepoint": "2046-04-01T00:00:00"
         },
         {
          "clade_membership": "fcad47c",
          "estimated_growth_rate": 0.7,
          "frequency": 0.5,
          "frequency_final": 0.48,
          "observed_growth_rate": 0.96,
          "projected_frequency": 0.35,
          "timepoint": "2046-04-01T00:00:00"
         },
         {
          "clade_membership": "089dcd8",
          "estimated_growth_rate": 1.714285714285714,
          "frequency": 0.28,
          "frequency_final": 0.09,
          "observed_growth_rate": 0.3214285714285714,
          "projected_frequency": 0.48,
          "timepoint": "2046-10-01T00:00:00"
         },
         {
          "clade_membership": "0eb4da6",
          "estimated_growth_rate": 0.7249999999999999,
          "frequency": 0.4,
          "frequency_final": 0.48,
          "observed_growth_rate": 1.2,
          "projected_frequency": 0.29,
          "timepoint": "2046-10-01T00:00:00"
         },
         {
          "clade_membership": "1cc90e8",
          "estimated_growth_rate": 0.71875,
          "frequency": 0.32,
          "frequency_final": 0.43,
          "observed_growth_rate": 1.34375,
          "projected_frequency": 0.23,
          "timepoint": "2046-10-01T00:00:00"
         },
         {
          "clade_membership": "32a5e55",
          "estimated_growth_rate": 0.696969696969697,
          "frequency": 0.33,
          "frequency_final": 0.43,
          "observed_growth_rate": 1.303030303030303,
          "projected_frequency": 0.23,
          "timepoint": "2046-10-01T00:00:00"
         },
         {
          "clade_membership": "3e4ca6b",
          "estimated_growth_rate": 0.7249999999999999,
          "frequency": 0.4,
          "frequency_final": 0.48,
          "observed_growth_rate": 1.2,
          "projected_frequency": 0.29,
          "timepoint": "2046-10-01T00:00:00"
         },
         {
          "clade_membership": "6c9b489",
          "estimated_growth_rate": 2.3684210526315788,
          "frequency": 0.19,
          "frequency_final": 0.09,
          "observed_growth_rate": 0.47368421052631576,
          "projected_frequency": 0.45,
          "timepoint": "2046-10-01T00:00:00"
         },
         {
          "clade_membership": "7067b61",
          "estimated_growth_rate": 0.7249999999999999,
          "frequency": 0.4,
          "frequency_final": 0.48,
          "observed_growth_rate": 1.2,
          "projected_frequency": 0.29,
          "timepoint": "2046-10-01T00:00:00"
         },
         {
          "clade_membership": "8e3e749",
          "estimated_growth_rate": 1.1833333333333333,
          "frequency": 0.6,
          "frequency_final": 0.52,
          "observed_growth_rate": 0.8666666666666667,
          "projected_frequency": 0.71,
          "timepoint": "2046-10-01T00:00:00"
         },
         {
          "clade_membership": "9303e64",
          "estimated_growth_rate": 0.7249999999999999,
          "frequency": 0.4,
          "frequency_final": 0.48,
          "observed_growth_rate": 1.2,
          "projected_frequency": 0.29,
          "timepoint": "2046-10-01T00:00:00"
         },
         {
          "clade_membership": "a3e769a",
          "estimated_growth_rate": 0.84,
          "frequency": 0.25,
          "frequency_final": 0.43,
          "observed_growth_rate": 1.72,
          "projected_frequency": 0.21,
          "timepoint": "2046-10-01T00:00:00"
         },
         {
          "clade_membership": "ab5cc8d",
          "estimated_growth_rate": 0.7249999999999999,
          "frequency": 0.4,
          "frequency_final": 0.48,
          "observed_growth_rate": 1.2,
          "projected_frequency": 0.29,
          "timepoint": "2046-10-01T00:00:00"
         },
         {
          "clade_membership": "bfacf3b",
          "estimated_growth_rate": 0.7249999999999999,
          "frequency": 0.4,
          "frequency_final": 0.48,
          "observed_growth_rate": 1.2,
          "projected_frequency": 0.29,
          "timepoint": "2046-10-01T00:00:00"
         },
         {
          "clade_membership": "ef4e13c",
          "estimated_growth_rate": 2.25,
          "frequency": 0.2,
          "frequency_final": 0.09,
          "observed_growth_rate": 0.44999999999999996,
          "projected_frequency": 0.45,
          "timepoint": "2046-10-01T00:00:00"
         },
         {
          "clade_membership": "f1a9cc3",
          "estimated_growth_rate": 2.25,
          "frequency": 0.2,
          "frequency_final": 0.09,
          "observed_growth_rate": 0.44999999999999996,
          "projected_frequency": 0.45,
          "timepoint": "2046-10-01T00:00:00"
         },
         {
          "clade_membership": "fcad47c",
          "estimated_growth_rate": 1.1833333333333333,
          "frequency": 0.6,
          "frequency_final": 0.52,
          "observed_growth_rate": 0.8666666666666667,
          "projected_frequency": 0.71,
          "timepoint": "2046-10-01T00:00:00"
         },
         {
          "clade_membership": "089dcd8",
          "estimated_growth_rate": 0.2962962962962963,
          "frequency": 0.27,
          "frequency_final": 0.01,
          "observed_growth_rate": 0.037037037037037035,
          "projected_frequency": 0.08,
          "timepoint": "2047-04-01T00:00:00"
         },
         {
          "clade_membership": "0eb4da6",
          "estimated_growth_rate": 1.6538461538461537,
          "frequency": 0.52,
          "frequency_final": 0.17,
          "observed_growth_rate": 0.3269230769230769,
          "projected_frequency": 0.86,
          "timepoint": "2047-04-01T00:00:00"
         },
         {
          "clade_membership": "1cc90e8",
          "estimated_growth_rate": 0.33333333333333337,
          "frequency": 0.21,
          "frequency_final": 0.82,
          "observed_growth_rate": 3.9047619047619047,
          "projected_frequency": 0.07,
          "timepoint": "2047-04-01T00:00:00"
         },
         {
          "clade_membership": "32a5e55",
          "estimated_growth_rate": 0.33333333333333337,
          "frequency": 0.21,
          "frequency_final": 0.82,
          "observed_growth_rate": 3.9047619047619047,
          "projected_frequency": 0.07,
          "timepoint": "2047-04-01T00:00:00"
         },
         {
          "clade_membership": "3e4ca6b",
          "estimated_growth_rate": 1.6538461538461537,
          "frequency": 0.52,
          "frequency_final": 0.17,
          "observed_growth_rate": 0.3269230769230769,
          "projected_frequency": 0.86,
          "timepoint": "2047-04-01T00:00:00"
         },
         {
          "clade_membership": "6c9b489",
          "estimated_growth_rate": 0.3076923076923077,
          "frequency": 0.26,
          "frequency_final": 0.01,
          "observed_growth_rate": 0.038461538461538464,
          "projected_frequency": 0.08,
          "timepoint": "2047-04-01T00:00:00"
         },
         {
          "clade_membership": "7067b61",
          "estimated_growth_rate": 1.6538461538461537,
          "frequency": 0.52,
          "frequency_final": 0.17,
          "observed_growth_rate": 0.3269230769230769,
          "projected_frequency": 0.86,
          "timepoint": "2047-04-01T00:00:00"
         },
         {
          "clade_membership": "7a20891",
          "estimated_growth_rate": 2,
          "frequency": 0.35,
          "frequency_final": 0.17,
          "observed_growth_rate": 0.48571428571428577,
          "projected_frequency": 0.7,
          "timepoint": "2047-04-01T00:00:00"
         },
         {
          "clade_membership": "8e3e749",
          "estimated_growth_rate": 0.2916666666666667,
          "frequency": 0.48,
          "frequency_final": 0.83,
          "observed_growth_rate": 1.7291666666666667,
          "projected_frequency": 0.14,
          "timepoint": "2047-04-01T00:00:00"
         },
         {
          "clade_membership": "9303e64",
          "estimated_growth_rate": 1.6538461538461537,
          "frequency": 0.52,
          "frequency_final": 0.17,
          "observed_growth_rate": 0.3269230769230769,
          "projected_frequency": 0.86,
          "timepoint": "2047-04-01T00:00:00"
         },
         {
          "clade_membership": "93c7db0",
          "estimated_growth_rate": 0.25,
          "frequency": 0.16,
          "frequency_final": 0,
          "observed_growth_rate": 0,
          "projected_frequency": 0.04,
          "timepoint": "2047-04-01T00:00:00"
         },
         {
          "clade_membership": "a3e769a",
          "estimated_growth_rate": 0.35000000000000003,
          "frequency": 0.2,
          "frequency_final": 0.82,
          "observed_growth_rate": 4.1,
          "projected_frequency": 0.07,
          "timepoint": "2047-04-01T00:00:00"
         },
         {
          "clade_membership": "ab5cc8d",
          "estimated_growth_rate": 1.6538461538461537,
          "frequency": 0.52,
          "frequency_final": 0.17,
          "observed_growth_rate": 0.3269230769230769,
          "projected_frequency": 0.86,
          "timepoint": "2047-04-01T00:00:00"
         },
         {
          "clade_membership": "bd373a9",
          "estimated_growth_rate": 2,
          "frequency": 0.35,
          "frequency_final": 0.17,
          "observed_growth_rate": 0.48571428571428577,
          "projected_frequency": 0.7,
          "timepoint": "2047-04-01T00:00:00"
         },
         {
          "clade_membership": "bfacf3b",
          "estimated_growth_rate": 1.6538461538461537,
          "frequency": 0.52,
          "frequency_final": 0.17,
          "observed_growth_rate": 0.3269230769230769,
          "projected_frequency": 0.86,
          "timepoint": "2047-04-01T00:00:00"
         },
         {
          "clade_membership": "d7ba4df",
          "estimated_growth_rate": 0.25,
          "frequency": 0.16,
          "frequency_final": 0,
          "observed_growth_rate": 0,
          "projected_frequency": 0.04,
          "timepoint": "2047-04-01T00:00:00"
         },
         {
          "clade_membership": "ef4e13c",
          "estimated_growth_rate": 0.3076923076923077,
          "frequency": 0.26,
          "frequency_final": 0.01,
          "observed_growth_rate": 0.038461538461538464,
          "projected_frequency": 0.08,
          "timepoint": "2047-04-01T00:00:00"
         },
         {
          "clade_membership": "f1a9cc3",
          "estimated_growth_rate": 0.3076923076923077,
          "frequency": 0.26,
          "frequency_final": 0.01,
          "observed_growth_rate": 0.038461538461538464,
          "projected_frequency": 0.08,
          "timepoint": "2047-04-01T00:00:00"
         },
         {
          "clade_membership": "fcad47c",
          "estimated_growth_rate": 0.2916666666666667,
          "frequency": 0.48,
          "frequency_final": 0.83,
          "observed_growth_rate": 1.7291666666666667,
          "projected_frequency": 0.14,
          "timepoint": "2047-04-01T00:00:00"
         },
         {
          "clade_membership": "ff00056",
          "estimated_growth_rate": 2.72,
          "frequency": 0.25,
          "frequency_final": 0.17,
          "observed_growth_rate": 0.68,
          "projected_frequency": 0.68,
          "timepoint": "2047-04-01T00:00:00"
         },
         {
          "clade_membership": "0eb4da6",
          "estimated_growth_rate": 0.9791666666666666,
          "frequency": 0.48,
          "frequency_final": 0,
          "observed_growth_rate": 0,
          "projected_frequency": 0.47,
          "timepoint": "2047-10-01T00:00:00"
         },
         {
          "clade_membership": "1cc90e8",
          "estimated_growth_rate": 1.186046511627907,
          "frequency": 0.43,
          "frequency_final": 1,
          "observed_growth_rate": 2.3255813953488373,
          "projected_frequency": 0.51,
          "timepoint": "2047-10-01T00:00:00"
         },
         {
          "clade_membership": "2794c16",
          "estimated_growth_rate": 1.3076923076923077,
          "frequency": 0.39,
          "frequency_final": 1,
          "observed_growth_rate": 2.564102564102564,
          "projected_frequency": 0.51,
          "timepoint": "2047-10-01T00:00:00"
         },
         {
          "clade_membership": "32a5e55",
          "estimated_growth_rate": 1.186046511627907,
          "frequency": 0.43,
          "frequency_final": 1,
          "observed_growth_rate": 2.3255813953488373,
          "projected_frequency": 0.51,
          "timepoint": "2047-10-01T00:00:00"
         },
         {
          "clade_membership": "3e4ca6b",
          "estimated_growth_rate": 0.9791666666666666,
          "frequency": 0.48,
          "frequency_final": 0,
          "observed_growth_rate": 0,
          "projected_frequency": 0.47,
          "timepoint": "2047-10-01T00:00:00"
         },
         {
          "clade_membership": "7067b61",
          "estimated_growth_rate": 0.9791666666666666,
          "frequency": 0.48,
          "frequency_final": 0,
          "observed_growth_rate": 0,
          "projected_frequency": 0.47,
          "timepoint": "2047-10-01T00:00:00"
         },
         {
          "clade_membership": "7a20891",
          "estimated_growth_rate": 1.0697674418604652,
          "frequency": 0.43,
          "frequency_final": 0,
          "observed_growth_rate": 0,
          "projected_frequency": 0.46,
          "timepoint": "2047-10-01T00:00:00"
         },
         {
          "clade_membership": "8c3ca8d",
          "estimated_growth_rate": 1.3076923076923077,
          "frequency": 0.39,
          "frequency_final": 1,
          "observed_growth_rate": 2.564102564102564,
          "projected_frequency": 0.51,
          "timepoint": "2047-10-01T00:00:00"
         },
         {
          "clade_membership": "8e3e749",
          "estimated_growth_rate": 1.0192307692307692,
          "frequency": 0.52,
          "frequency_final": 1,
          "observed_growth_rate": 1.923076923076923,
          "projected_frequency": 0.53,
          "timepoint": "2047-10-01T00:00:00"
         },
         {
          "clade_membership": "9303e64",
          "estimated_growth_rate": 0.9791666666666666,
          "frequency": 0.48,
          "frequency_final": 0,
          "observed_growth_rate": 0,
          "projected_frequency": 0.47,
          "timepoint": "2047-10-01T00:00:00"
         },
         {
          "clade_membership": "a3e769a",
          "estimated_growth_rate": 1.186046511627907,
          "frequency": 0.43,
          "frequency_final": 1,
          "observed_growth_rate": 2.3255813953488373,
          "projected_frequency": 0.51,
          "timepoint": "2047-10-01T00:00:00"
         },
         {
          "clade_membership": "ab5cc8d",
          "estimated_growth_rate": 0.9791666666666666,
          "frequency": 0.48,
          "frequency_final": 0,
          "observed_growth_rate": 0,
          "projected_frequency": 0.47,
          "timepoint": "2047-10-01T00:00:00"
         },
         {
          "clade_membership": "bd373a9",
          "estimated_growth_rate": 1.0697674418604652,
          "frequency": 0.43,
          "frequency_final": 0,
          "observed_growth_rate": 0,
          "projected_frequency": 0.46,
          "timepoint": "2047-10-01T00:00:00"
         },
         {
          "clade_membership": "bfacf3b",
          "estimated_growth_rate": 0.9791666666666666,
          "frequency": 0.48,
          "frequency_final": 0,
          "observed_growth_rate": 0,
          "projected_frequency": 0.47,
          "timepoint": "2047-10-01T00:00:00"
         },
         {
          "clade_membership": "dd2e144",
          "estimated_growth_rate": 1.4285714285714286,
          "frequency": 0.35,
          "frequency_final": 1,
          "observed_growth_rate": 2.857142857142857,
          "projected_frequency": 0.5,
          "timepoint": "2047-10-01T00:00:00"
         },
         {
          "clade_membership": "eff8ef5",
          "estimated_growth_rate": 1.3076923076923077,
          "frequency": 0.39,
          "frequency_final": 1,
          "observed_growth_rate": 2.564102564102564,
          "projected_frequency": 0.51,
          "timepoint": "2047-10-01T00:00:00"
         },
         {
          "clade_membership": "f01e466",
          "estimated_growth_rate": 1.5789473684210527,
          "frequency": 0.19,
          "frequency_final": 0,
          "observed_growth_rate": 0,
          "projected_frequency": 0.3,
          "timepoint": "2047-10-01T00:00:00"
         },
         {
          "clade_membership": "fcad47c",
          "estimated_growth_rate": 1.0192307692307692,
          "frequency": 0.52,
          "frequency_final": 1,
          "observed_growth_rate": 1.923076923076923,
          "projected_frequency": 0.53,
          "timepoint": "2047-10-01T00:00:00"
         },
         {
          "clade_membership": "ff00056",
          "estimated_growth_rate": 1.0952380952380953,
          "frequency": 0.42,
          "frequency_final": 0,
          "observed_growth_rate": 0,
          "projected_frequency": 0.46,
          "timepoint": "2047-10-01T00:00:00"
         },
         {
          "clade_membership": "1cc90e8",
          "estimated_growth_rate": 0.5121951219512195,
          "frequency": 0.82,
          "frequency_final": 1,
          "observed_growth_rate": 1.2195121951219512,
          "projected_frequency": 0.42,
          "timepoint": "2048-04-01T00:00:00"
         },
         {
          "clade_membership": "2794c16",
          "estimated_growth_rate": 0.5121951219512195,
          "frequency": 0.82,
          "frequency_final": 1,
          "observed_growth_rate": 1.2195121951219512,
          "projected_frequency": 0.42,
          "timepoint": "2048-04-01T00:00:00"
         },
         {
          "clade_membership": "32a5e55",
          "estimated_growth_rate": 0.5121951219512195,
          "frequency": 0.82,
          "frequency_final": 1,
          "observed_growth_rate": 1.2195121951219512,
          "projected_frequency": 0.42,
          "timepoint": "2048-04-01T00:00:00"
         },
         {
          "clade_membership": "41ef188",
          "estimated_growth_rate": 0.2727272727272727,
          "frequency": 0.33,
          "frequency_final": 0,
          "observed_growth_rate": 0,
          "projected_frequency": 0.09,
          "timepoint": "2048-04-01T00:00:00"
         },
         {
          "clade_membership": "5fb6a78",
          "estimated_growth_rate": 0.24444444444444444,
          "frequency": 0.45,
          "frequency_final": 0,
          "observed_growth_rate": 0,
          "projected_frequency": 0.11,
          "timepoint": "2048-04-01T00:00:00"
         },
         {
          "clade_membership": "8c3ca8d",
          "estimated_growth_rate": 0.5121951219512195,
          "frequency": 0.82,
          "frequency_final": 1,
          "observed_growth_rate": 1.2195121951219512,
          "projected_frequency": 0.42,
          "timepoint": "2048-04-01T00:00:00"
         },
         {
          "clade_membership": "8e3e749",
          "estimated_growth_rate": 0.5180722891566265,
          "frequency": 0.83,
          "frequency_final": 1,
          "observed_growth_rate": 1.2048192771084338,
          "projected_frequency": 0.43,
          "timepoint": "2048-04-01T00:00:00"
         },
         {
          "clade_membership": "a3e769a",
          "estimated_growth_rate": 0.5121951219512195,
          "frequency": 0.82,
          "frequency_final": 1,
          "observed_growth_rate": 1.2195121951219512,
          "projected_frequency": 0.42,
          "timepoint": "2048-04-01T00:00:00"
         },
         {
          "clade_membership": "d9805fa",
          "estimated_growth_rate": 0.24444444444444444,
          "frequency": 0.45,
          "frequency_final": 0,
          "observed_growth_rate": 0,
          "projected_frequency": 0.11,
          "timepoint": "2048-04-01T00:00:00"
         },
         {
          "clade_membership": "dd2e144",
          "estimated_growth_rate": 0.3766233766233766,
          "frequency": 0.77,
          "frequency_final": 1,
          "observed_growth_rate": 1.2987012987012987,
          "projected_frequency": 0.29,
          "timepoint": "2048-04-01T00:00:00"
         },
         {
          "clade_membership": "eff8ef5",
          "estimated_growth_rate": 0.5121951219512195,
          "frequency": 0.82,
          "frequency_final": 1,
          "observed_growth_rate": 1.2195121951219512,
          "projected_frequency": 0.42,
          "timepoint": "2048-04-01T00:00:00"
         },
         {
          "clade_membership": "fcad47c",
          "estimated_growth_rate": 0.5180722891566265,
          "frequency": 0.83,
          "frequency_final": 1,
          "observed_growth_rate": 1.2048192771084338,
          "projected_frequency": 0.43,
          "timepoint": "2048-04-01T00:00:00"
         },
         {
          "clade_membership": "13f4120",
          "estimated_growth_rate": 1.2278481012658227,
          "frequency": 0.79,
          "frequency_final": 0.94,
          "observed_growth_rate": 1.1898734177215189,
          "projected_frequency": 0.97,
          "timepoint": "2048-10-01T00:00:00"
         },
         {
          "clade_membership": "2f7d432",
          "estimated_growth_rate": 1.1123595505617978,
          "frequency": 0.89,
          "frequency_final": 1,
          "observed_growth_rate": 1.1235955056179776,
          "projected_frequency": 0.99,
          "timepoint": "2048-10-01T00:00:00"
         },
         {
          "clade_membership": "831a18a",
          "estimated_growth_rate": 1.0999999999999999,
          "frequency": 0.9,
          "frequency_final": 1,
          "observed_growth_rate": 1.1111111111111112,
          "projected_frequency": 0.99,
          "timepoint": "2048-10-01T00:00:00"
         },
         {
          "clade_membership": "976194a",
          "estimated_growth_rate": 1.1123595505617978,
          "frequency": 0.89,
          "frequency_final": 1,
          "observed_growth_rate": 1.1235955056179776,
          "projected_frequency": 0.99,
          "timepoint": "2048-10-01T00:00:00"
         },
         {
          "clade_membership": "ccb3096",
          "estimated_growth_rate": 1.125,
          "frequency": 0.88,
          "frequency_final": 0.94,
          "observed_growth_rate": 1.0681818181818181,
          "projected_frequency": 0.99,
          "timepoint": "2048-10-01T00:00:00"
         },
         {
          "clade_membership": "e40bb75",
          "estimated_growth_rate": 1.1123595505617978,
          "frequency": 0.89,
          "frequency_final": 1,
          "observed_growth_rate": 1.1235955056179776,
          "projected_frequency": 0.99,
          "timepoint": "2048-10-01T00:00:00"
         },
         {
          "clade_membership": "eeaaada",
          "estimated_growth_rate": 0.9333333333333335,
          "frequency": 0.15,
          "frequency_final": 0.04,
          "observed_growth_rate": 0.26666666666666666,
          "projected_frequency": 0.14,
          "timepoint": "2048-10-01T00:00:00"
         }
        ]
       },
       "encoding": {
        "x": {
         "bin": true,
         "field": "observed_growth_rate",
         "title": "Observed growth rate",
         "type": "quantitative"
        },
        "y": {
         "aggregate": "count",
         "type": "quantitative"
        }
       },
       "mark": "rect"
      },
      "image/png": "[encoded data removed]",
      "text/plain": [
       "<VegaLite 3 object>\n",
       "\n",
       "If you see this message, it means the renderer has not been properly enabled\n",
       "for the frontend that you are using. For more information, see\n",
       "https://altair-viz.github.io/user_guide/troubleshooting.html\n"
      ]
     },
     "execution_count": 54,
     "metadata": {},
     "output_type": "execute_result"
    }
   ],
   "source": [
    "alt.Chart(complete_clade_frequencies).mark_rect().encode(\n",
    "    x=alt.X(\"observed_growth_rate:Q\", bin=True, title=\"Observed growth rate\"),\n",
    "    y=\"count()\"\n",
    ")"
   ]
  },
  {
   "cell_type": "code",
   "execution_count": 55,
   "metadata": {},
   "outputs": [],
   "source": [
    "complete_clade_frequencies[\"year\"] = complete_clade_frequencies[\"timepoint\"].dt.year"
   ]
  },
  {
   "cell_type": "code",
   "execution_count": 56,
   "metadata": {},
   "outputs": [
    {
     "data": {
      "text/html": [
       "<div>\n",
       "<style scoped>\n",
       "    .dataframe tbody tr th:only-of-type {\n",
       "        vertical-align: middle;\n",
       "    }\n",
       "\n",
       "    .dataframe tbody tr th {\n",
       "        vertical-align: top;\n",
       "    }\n",
       "\n",
       "    .dataframe thead th {\n",
       "        text-align: right;\n",
       "    }\n",
       "</style>\n",
       "<table border=\"1\" class=\"dataframe\">\n",
       "  <thead>\n",
       "    <tr style=\"text-align: right;\">\n",
       "      <th></th>\n",
       "      <th>timepoint</th>\n",
       "      <th>clade_membership</th>\n",
       "      <th>frequency</th>\n",
       "      <th>frequency_final</th>\n",
       "      <th>projected_frequency</th>\n",
       "      <th>observed_growth_rate</th>\n",
       "      <th>estimated_growth_rate</th>\n",
       "      <th>year</th>\n",
       "    </tr>\n",
       "  </thead>\n",
       "  <tbody>\n",
       "    <tr>\n",
       "      <th>2</th>\n",
       "      <td>2040-04-01</td>\n",
       "      <td>be85840</td>\n",
       "      <td>0.44</td>\n",
       "      <td>0.45</td>\n",
       "      <td>0.28</td>\n",
       "      <td>1.022727</td>\n",
       "      <td>0.636364</td>\n",
       "      <td>2040</td>\n",
       "    </tr>\n",
       "    <tr>\n",
       "      <th>4</th>\n",
       "      <td>2040-10-01</td>\n",
       "      <td>348a0f0</td>\n",
       "      <td>0.21</td>\n",
       "      <td>0.47</td>\n",
       "      <td>0.23</td>\n",
       "      <td>2.238095</td>\n",
       "      <td>1.095238</td>\n",
       "      <td>2040</td>\n",
       "    </tr>\n",
       "    <tr>\n",
       "      <th>5</th>\n",
       "      <td>2040-10-01</td>\n",
       "      <td>5198bfc</td>\n",
       "      <td>0.62</td>\n",
       "      <td>0.65</td>\n",
       "      <td>0.49</td>\n",
       "      <td>1.048387</td>\n",
       "      <td>0.790323</td>\n",
       "      <td>2040</td>\n",
       "    </tr>\n",
       "    <tr>\n",
       "      <th>6</th>\n",
       "      <td>2040-10-01</td>\n",
       "      <td>777355b</td>\n",
       "      <td>0.16</td>\n",
       "      <td>0.30</td>\n",
       "      <td>0.38</td>\n",
       "      <td>1.875000</td>\n",
       "      <td>2.375000</td>\n",
       "      <td>2040</td>\n",
       "    </tr>\n",
       "    <tr>\n",
       "      <th>7</th>\n",
       "      <td>2040-10-01</td>\n",
       "      <td>84b5f88</td>\n",
       "      <td>0.16</td>\n",
       "      <td>0.15</td>\n",
       "      <td>0.11</td>\n",
       "      <td>0.937500</td>\n",
       "      <td>0.687500</td>\n",
       "      <td>2040</td>\n",
       "    </tr>\n",
       "  </tbody>\n",
       "</table>\n",
       "</div>"
      ],
      "text/plain": [
       "   timepoint clade_membership  frequency  frequency_final  \\\n",
       "2 2040-04-01          be85840       0.44             0.45   \n",
       "4 2040-10-01          348a0f0       0.21             0.47   \n",
       "5 2040-10-01          5198bfc       0.62             0.65   \n",
       "6 2040-10-01          777355b       0.16             0.30   \n",
       "7 2040-10-01          84b5f88       0.16             0.15   \n",
       "\n",
       "   projected_frequency  observed_growth_rate  estimated_growth_rate  year  \n",
       "2                 0.28              1.022727               0.636364  2040  \n",
       "4                 0.23              2.238095               1.095238  2040  \n",
       "5                 0.49              1.048387               0.790323  2040  \n",
       "6                 0.38              1.875000               2.375000  2040  \n",
       "7                 0.11              0.937500               0.687500  2040  "
      ]
     },
     "execution_count": 56,
     "metadata": {},
     "output_type": "execute_result"
    }
   ],
   "source": [
    "complete_clade_frequencies.head()"
   ]
  },
  {
   "cell_type": "code",
   "execution_count": 57,
   "metadata": {},
   "outputs": [
    {
     "data": {
      "text/plain": [
       "(197, 8)"
      ]
     },
     "execution_count": 57,
     "metadata": {},
     "output_type": "execute_result"
    }
   ],
   "source": [
    "complete_clade_frequencies.shape"
   ]
  },
  {
   "cell_type": "code",
   "execution_count": 58,
   "metadata": {},
   "outputs": [],
   "source": [
    "r, p = pearsonr(\n",
    "    complete_clade_frequencies[\"observed_growth_rate\"],\n",
    "    complete_clade_frequencies[\"estimated_growth_rate\"]\n",
    ")"
   ]
  },
  {
   "cell_type": "code",
   "execution_count": 59,
   "metadata": {},
   "outputs": [
    {
     "data": {
      "text/plain": [
       "0.28381334388838586"
      ]
     },
     "execution_count": 59,
     "metadata": {},
     "output_type": "execute_result"
    }
   ],
   "source": [
    "r"
   ]
  },
  {
   "cell_type": "code",
   "execution_count": 60,
   "metadata": {},
   "outputs": [
    {
     "data": {
      "text/plain": [
       "5.3091791769320894e-05"
      ]
     },
     "execution_count": 60,
     "metadata": {},
     "output_type": "execute_result"
    }
   ],
   "source": [
    "p"
   ]
  },
  {
   "cell_type": "code",
   "execution_count": 61,
   "metadata": {},
   "outputs": [],
   "source": [
    "mcc, confusion_matrix = get_matthews_correlation_coefficient_for_data_frame(complete_clade_frequencies, True)"
   ]
  },
  {
   "cell_type": "code",
   "execution_count": 62,
   "metadata": {},
   "outputs": [
    {
     "data": {
      "text/plain": [
       "0.36380201838768045"
      ]
     },
     "execution_count": 62,
     "metadata": {},
     "output_type": "execute_result"
    }
   ],
   "source": [
    "mcc"
   ]
  },
  {
   "cell_type": "code",
   "execution_count": 63,
   "metadata": {},
   "outputs": [
    {
     "data": {
      "text/plain": [
       "{'tp': 93, 'tn': 43, 'fp': 21, 'fn': 38}"
      ]
     },
     "execution_count": 63,
     "metadata": {},
     "output_type": "execute_result"
    }
   ],
   "source": [
    "confusion_matrix"
   ]
  },
  {
   "cell_type": "code",
   "execution_count": 64,
   "metadata": {},
   "outputs": [
    {
     "data": {
      "text/plain": [
       "195"
      ]
     },
     "execution_count": 64,
     "metadata": {},
     "output_type": "execute_result"
    }
   ],
   "source": [
    "sum(confusion_matrix.values())"
   ]
  },
  {
   "cell_type": "code",
   "execution_count": 65,
   "metadata": {},
   "outputs": [
    {
     "data": {
      "text/plain": [
       "0.8157894736842105"
      ]
     },
     "execution_count": 65,
     "metadata": {},
     "output_type": "execute_result"
    }
   ],
   "source": [
    "growth_accuracy = confusion_matrix[\"tp\"] / float(confusion_matrix[\"tp\"] + confusion_matrix[\"fp\"])\n",
    "growth_accuracy"
   ]
  },
  {
   "cell_type": "code",
   "execution_count": 66,
   "metadata": {},
   "outputs": [
    {
     "data": {
      "text/plain": [
       "0.5308641975308642"
      ]
     },
     "execution_count": 66,
     "metadata": {},
     "output_type": "execute_result"
    }
   ],
   "source": [
    "decline_accuracy = confusion_matrix[\"tn\"] / float(confusion_matrix[\"tn\"] + confusion_matrix[\"fn\"])\n",
    "decline_accuracy"
   ]
  },
  {
   "cell_type": "code",
   "execution_count": 67,
   "metadata": {},
   "outputs": [],
   "source": [
    "min_growth_rate = 0\n",
    "max_growth_rate = complete_clade_frequencies.loc[:, [\"observed_growth_rate\", \"estimated_growth_rate\"]].max().max() + 0.2"
   ]
  },
  {
   "cell_type": "code",
   "execution_count": 68,
   "metadata": {},
   "outputs": [],
   "source": [
    "pseudofrequency = 0.001"
   ]
  },
  {
   "cell_type": "code",
   "execution_count": 69,
   "metadata": {},
   "outputs": [],
   "source": [
    "complete_clade_frequencies[\"log_observed_growth_rate\"] = (\n",
    "    np.log10((complete_clade_frequencies[\"frequency_final\"] + pseudofrequency) / (complete_clade_frequencies[\"frequency\"] + pseudofrequency))\n",
    ")\n",
    "\n",
    "complete_clade_frequencies[\"log_estimated_growth_rate\"] = (\n",
    "    np.log10((complete_clade_frequencies[\"projected_frequency\"] + pseudofrequency) / (complete_clade_frequencies[\"frequency\"] + pseudofrequency))\n",
    ")"
   ]
  },
  {
   "cell_type": "code",
   "execution_count": 70,
   "metadata": {},
   "outputs": [],
   "source": [
    "upper_limit = np.ceil(complete_clade_frequencies.loc[:, [\"observed_growth_rate\", \"estimated_growth_rate\"]].max().max())\n",
    "\n",
    "log_lower_limit = complete_clade_frequencies.loc[:, [\"log_observed_growth_rate\", \"log_estimated_growth_rate\"]].min().min() - 0.1\n",
    "log_upper_limit = np.ceil(complete_clade_frequencies.loc[:, [\"log_observed_growth_rate\", \"log_estimated_growth_rate\"]].max().max()) + 0.1"
   ]
  },
  {
   "cell_type": "code",
   "execution_count": 71,
   "metadata": {},
   "outputs": [
    {
     "data": {
      "application/vnd.vegalite.v3+json": {
       "$schema": "https://vega.github.io/schema/vega-lite/v3.3.0.json",
       "config": {
        "mark": {
         "tooltip": null
        },
        "view": {
         "height": 300,
         "width": 400
        }
       },
       "data": {
        "name": "data-2ffae3717cc1a2aed5205dc3c436cca9"
       },
       "datasets": {
        "data-2ffae3717cc1a2aed5205dc3c436cca9": [
         {
          "clade_membership": "be85840",
          "estimated_growth_rate": 0.6363636363636365,
          "frequency": 0.44,
          "frequency_final": 0.45,
          "log_estimated_growth_rate": -0.19573226956275863,
          "log_observed_growth_rate": 0.00973795241012198,
          "observed_growth_rate": 1.0227272727272727,
          "projected_frequency": 0.28,
          "timepoint": "2040-04-01T00:00:00",
          "year": 2040
         },
         {
          "clade_membership": "348a0f0",
          "estimated_growth_rate": 1.0952380952380953,
          "frequency": 0.21,
          "frequency_final": 0.47,
          "log_estimated_growth_rate": 0.03932952459445168,
          "log_observed_growth_rate": 0.3487384518312035,
          "observed_growth_rate": 2.238095238095238,
          "projected_frequency": 0.23,
          "timepoint": "2040-10-01T00:00:00",
          "year": 2040
         },
         {
          "clade_membership": "5198bfc",
          "estimated_growth_rate": 0.7903225806451613,
          "frequency": 0.62,
          "frequency_final": 0.65,
          "log_estimated_growth_rate": -0.10201010805361174,
          "log_observed_growth_rate": 0.020489388391611754,
          "observed_growth_rate": 1.0483870967741935,
          "projected_frequency": 0.49,
          "timepoint": "2040-10-01T00:00:00",
          "year": 2040
         },
         {
          "clade_membership": "777355b",
          "estimated_growth_rate": 2.375,
          "frequency": 0.16,
          "frequency_final": 0.3,
          "log_estimated_growth_rate": 0.3740990996437696,
          "log_observed_growth_rate": 0.27174061956199363,
          "observed_growth_rate": 1.875,
          "projected_frequency": 0.38,
          "timepoint": "2040-10-01T00:00:00",
          "year": 2040
         },
         {
          "clade_membership": "84b5f88",
          "estimated_growth_rate": 0.6875,
          "frequency": 0.16,
          "frequency_final": 0.15,
          "log_estimated_growth_rate": -0.1615028972451923,
          "log_observed_growth_rate": -0.027848928738680275,
          "observed_growth_rate": 0.9375,
          "projected_frequency": 0.11,
          "timepoint": "2040-10-01T00:00:00",
          "year": 2040
         },
         {
          "clade_membership": "a4f5eae",
          "estimated_growth_rate": 1.352941176470588,
          "frequency": 0.17,
          "frequency_final": 0.47,
          "log_estimated_growth_rate": 0.13061586949999046,
          "log_observed_growth_rate": 0.4400247967367423,
          "observed_growth_rate": 2.7647058823529407,
          "projected_frequency": 0.23,
          "timepoint": "2040-10-01T00:00:00",
          "year": 2040
         },
         {
          "clade_membership": "be85840",
          "estimated_growth_rate": 0.7333333333333334,
          "frequency": 0.45,
          "frequency_final": 0.5,
          "log_estimated_growth_rate": -0.1343485481022418,
          "log_observed_growth_rate": 0.045661183989285176,
          "observed_growth_rate": 1.1111111111111112,
          "projected_frequency": 0.33,
          "timepoint": "2040-10-01T00:00:00",
          "year": 2040
         },
         {
          "clade_membership": "1e30edd",
          "estimated_growth_rate": 0.8421052631578947,
          "frequency": 0.19,
          "frequency_final": 0.25,
          "log_estimated_growth_rate": -0.0742074912158778,
          "log_observed_growth_rate": 0.11864035423331057,
          "observed_growth_rate": 1.3157894736842106,
          "projected_frequency": 0.16,
          "timepoint": "2041-04-01T00:00:00",
          "year": 2041
         },
         {
          "clade_membership": "348a0f0",
          "estimated_growth_rate": 1.5833333333333333,
          "frequency": 0.36,
          "frequency_final": 0.68,
          "log_estimated_growth_rate": 0.19912890634019012,
          "log_observed_growth_rate": 0.2756399100071273,
          "observed_growth_rate": 1.888888888888889,
          "projected_frequency": 0.57,
          "timepoint": "2041-04-01T00:00:00",
          "year": 2041
         },
         {
          "clade_membership": "368ae33",
          "estimated_growth_rate": 0.7499999999999999,
          "frequency": 0.2,
          "frequency_final": 0.03,
          "log_estimated_growth_rate": -0.12421911012731948,
          "log_observed_growth_rate": -0.8118343635862162,
          "observed_growth_rate": 0.15,
          "projected_frequency": 0.15,
          "timepoint": "2041-04-01T00:00:00",
          "year": 2041
         },
         {
          "clade_membership": "371a2df",
          "estimated_growth_rate": 2.8235294117647056,
          "frequency": 0.17,
          "frequency_final": 0.67,
          "log_estimated_growth_rate": 0.44914896598167786,
          "log_observed_growth_rate": 0.5937264097768382,
          "observed_growth_rate": 3.941176470588235,
          "projected_frequency": 0.48,
          "timepoint": "2041-04-01T00:00:00",
          "year": 2041
         },
         {
          "clade_membership": "5198bfc",
          "estimated_growth_rate": 1.1818181818181819,
          "frequency": 0.66,
          "frequency_final": 0.73,
          "log_estimated_growth_rate": 0.0724495743916601,
          "log_observed_growth_rate": 0.04371591747222019,
          "observed_growth_rate": 1.106060606060606,
          "projected_frequency": 0.78,
          "timepoint": "2041-04-01T00:00:00",
          "year": 2041
         },
         {
          "clade_membership": "584f7f8",
          "estimated_growth_rate": 0.7499999999999999,
          "frequency": 0.2,
          "frequency_final": 0.03,
          "log_estimated_growth_rate": -0.12421911012731948,
          "log_observed_growth_rate": -0.8118343635862162,
          "observed_growth_rate": 0.15,
          "projected_frequency": 0.15,
          "timepoint": "2041-04-01T00:00:00",
          "year": 2041
         },
         {
          "clade_membership": "777355b",
          "estimated_growth_rate": 0.7272727272727273,
          "frequency": 0.22,
          "frequency_final": 0.25,
          "log_estimated_growth_rate": -0.137566397653261,
          "log_observed_growth_rate": 0.055281447795927426,
          "observed_growth_rate": 1.1363636363636365,
          "projected_frequency": 0.16,
          "timepoint": "2041-04-01T00:00:00",
          "year": 2041
         },
         {
          "clade_membership": "84b5f88",
          "estimated_growth_rate": 0.7499999999999999,
          "frequency": 0.2,
          "frequency_final": 0.03,
          "log_estimated_growth_rate": -0.12421911012731948,
          "log_observed_growth_rate": -0.8118343635862162,
          "observed_growth_rate": 0.15,
          "projected_frequency": 0.15,
          "timepoint": "2041-04-01T00:00:00",
          "year": 2041
         },
         {
          "clade_membership": "a4f5eae",
          "estimated_growth_rate": 1.6285714285714286,
          "frequency": 0.35,
          "frequency_final": 0.68,
          "log_estimated_growth_rate": 0.21132899178002398,
          "log_observed_growth_rate": 0.28783999544696115,
          "observed_growth_rate": 1.942857142857143,
          "projected_frequency": 0.57,
          "timepoint": "2041-04-01T00:00:00",
          "year": 2041
         },
         {
          "clade_membership": "be85840",
          "estimated_growth_rate": 1.4,
          "frequency": 0.45,
          "frequency_final": 0.71,
          "log_estimated_growth_rate": 0.14585281736617378,
          "log_observed_growth_rate": 0.19769305885180574,
          "observed_growth_rate": 1.5777777777777777,
          "projected_frequency": 0.63,
          "timepoint": "2041-04-01T00:00:00",
          "year": 2041
         },
         {
          "clade_membership": "e9c36fc",
          "estimated_growth_rate": 1,
          "frequency": 0.16,
          "frequency_final": 0.25,
          "log_estimated_growth_rate": 0,
          "log_observed_growth_rate": 0.19284784544918843,
          "observed_growth_rate": 1.5625,
          "projected_frequency": 0.16,
          "timepoint": "2041-04-01T00:00:00",
          "year": 2041
         },
         {
          "clade_membership": "eeed629",
          "estimated_growth_rate": 0.9411764705882353,
          "frequency": 0.17,
          "frequency_final": 0.25,
          "log_estimated_growth_rate": -0.026170234360304124,
          "log_observed_growth_rate": 0.1666776110888843,
          "observed_growth_rate": 1.4705882352941175,
          "projected_frequency": 0.16,
          "timepoint": "2041-04-01T00:00:00",
          "year": 2041
         },
         {
          "clade_membership": "0d1b0d8",
          "estimated_growth_rate": 1.8333333333333335,
          "frequency": 0.18,
          "frequency_final": 0.71,
          "log_estimated_growth_rate": 0.26214941890653426,
          "log_observed_growth_rate": 0.5941910258605818,
          "observed_growth_rate": 3.944444444444444,
          "projected_frequency": 0.33,
          "timepoint": "2041-10-01T00:00:00",
          "year": 2041
         },
         {
          "clade_membership": "13b392f",
          "estimated_growth_rate": 1.8333333333333335,
          "frequency": 0.18,
          "frequency_final": 0.71,
          "log_estimated_growth_rate": 0.26214941890653426,
          "log_observed_growth_rate": 0.5941910258605818,
          "observed_growth_rate": 3.944444444444444,
          "projected_frequency": 0.33,
          "timepoint": "2041-10-01T00:00:00",
          "year": 2041
         },
         {
          "clade_membership": "1e30edd",
          "estimated_growth_rate": 0.7333333333333334,
          "frequency": 0.3,
          "frequency_final": 0.22,
          "log_estimated_growth_rate": -0.13417422190873263,
          "log_observed_growth_rate": -0.13417422190873263,
          "observed_growth_rate": 0.7333333333333334,
          "projected_frequency": 0.22,
          "timepoint": "2041-10-01T00:00:00",
          "year": 2041
         },
         {
          "clade_membership": "348a0f0",
          "estimated_growth_rate": 1.5106382978723405,
          "frequency": 0.47,
          "frequency_final": 0.77,
          "log_estimated_growth_rate": 0.17884869360087016,
          "log_observed_growth_rate": 0.21403347092206082,
          "observed_growth_rate": 1.6382978723404256,
          "projected_frequency": 0.71,
          "timepoint": "2041-10-01T00:00:00",
          "year": 2041
         },
         {
          "clade_membership": "371a2df",
          "estimated_growth_rate": 2.392857142857143,
          "frequency": 0.28,
          "frequency_final": 0.77,
          "log_estimated_growth_rate": 0.37801620026391214,
          "log_observed_growth_rate": 0.4383480581458771,
          "observed_growth_rate": 2.75,
          "projected_frequency": 0.67,
          "timepoint": "2041-10-01T00:00:00",
          "year": 2041
         },
         {
          "clade_membership": "5198bfc",
          "estimated_growth_rate": 1.1692307692307693,
          "frequency": 0.65,
          "frequency_final": 0.78,
          "log_estimated_growth_rate": 0.06780366820238089,
          "log_observed_growth_rate": 0.07907004530910836,
          "observed_growth_rate": 1.2,
          "projected_frequency": 0.76,
          "timepoint": "2041-10-01T00:00:00",
          "year": 2041
         },
         {
          "clade_membership": "556140f",
          "estimated_growth_rate": 0.7777777777777779,
          "frequency": 0.18,
          "frequency_final": 0.06,
          "log_estimated_growth_rate": -0.10845946221380454,
          "log_observed_growth_rate": -0.47234873985841747,
          "observed_growth_rate": 0.3333333333333333,
          "projected_frequency": 0.14,
          "timepoint": "2041-10-01T00:00:00",
          "year": 2041
         },
         {
          "clade_membership": "5634f77",
          "estimated_growth_rate": 0.7777777777777779,
          "frequency": 0.18,
          "frequency_final": 0.06,
          "log_estimated_growth_rate": -0.10845946221380454,
          "log_observed_growth_rate": -0.47234873985841747,
          "observed_growth_rate": 0.3333333333333333,
          "projected_frequency": 0.14,
          "timepoint": "2041-10-01T00:00:00",
          "year": 2041
         },
         {
          "clade_membership": "777355b",
          "estimated_growth_rate": 0.7333333333333334,
          "frequency": 0.3,
          "frequency_final": 0.22,
          "log_estimated_growth_rate": -0.13417422190873263,
          "log_observed_growth_rate": -0.13417422190873263,
          "observed_growth_rate": 0.7333333333333334,
          "projected_frequency": 0.22,
          "timepoint": "2041-10-01T00:00:00",
          "year": 2041
         },
         {
          "clade_membership": "a4f5eae",
          "estimated_growth_rate": 1.5106382978723405,
          "frequency": 0.47,
          "frequency_final": 0.77,
          "log_estimated_growth_rate": 0.17884869360087016,
          "log_observed_growth_rate": 0.21403347092206082,
          "observed_growth_rate": 1.6382978723404256,
          "projected_frequency": 0.71,
          "timepoint": "2041-10-01T00:00:00",
          "year": 2041
         },
         {
          "clade_membership": "be85840",
          "estimated_growth_rate": 1.44,
          "frequency": 0.5,
          "frequency_final": 0.78,
          "log_estimated_growth_rate": 0.15809753885218333,
          "log_observed_growth_rate": 0.19281330801005464,
          "observed_growth_rate": 1.56,
          "projected_frequency": 0.72,
          "timepoint": "2041-10-01T00:00:00",
          "year": 2041
         },
         {
          "clade_membership": "e9c36fc",
          "estimated_growth_rate": 0.7333333333333334,
          "frequency": 0.3,
          "frequency_final": 0.22,
          "log_estimated_growth_rate": -0.13417422190873263,
          "log_observed_growth_rate": -0.13417422190873263,
          "observed_growth_rate": 0.7333333333333334,
          "projected_frequency": 0.22,
          "timepoint": "2041-10-01T00:00:00",
          "year": 2041
         },
         {
          "clade_membership": "eeed629",
          "estimated_growth_rate": 0.7333333333333334,
          "frequency": 0.3,
          "frequency_final": 0.22,
          "log_estimated_growth_rate": -0.13417422190873263,
          "log_observed_growth_rate": -0.13417422190873263,
          "observed_growth_rate": 0.7333333333333334,
          "projected_frequency": 0.22,
          "timepoint": "2041-10-01T00:00:00",
          "year": 2041
         },
         {
          "clade_membership": "0d1b0d8",
          "estimated_growth_rate": 1.489795918367347,
          "frequency": 0.49,
          "frequency_final": 0.75,
          "log_estimated_growth_rate": 0.17283588483489198,
          "log_observed_growth_rate": 0.1845584448811999,
          "observed_growth_rate": 1.530612244897959,
          "projected_frequency": 0.73,
          "timepoint": "2042-04-01T00:00:00",
          "year": 2042
         },
         {
          "clade_membership": "13b392f",
          "estimated_growth_rate": 1.489795918367347,
          "frequency": 0.49,
          "frequency_final": 0.75,
          "log_estimated_growth_rate": 0.17283588483489198,
          "log_observed_growth_rate": 0.1845584448811999,
          "observed_growth_rate": 1.530612244897959,
          "projected_frequency": 0.73,
          "timepoint": "2042-04-01T00:00:00",
          "year": 2042
         },
         {
          "clade_membership": "348a0f0",
          "estimated_growth_rate": 1.2352941176470587,
          "frequency": 0.68,
          "frequency_final": 0.75,
          "log_estimated_growth_rate": 0.09164888388512696,
          "log_observed_growth_rate": 0.0424928250913832,
          "observed_growth_rate": 1.102941176470588,
          "projected_frequency": 0.84,
          "timepoint": "2042-04-01T00:00:00",
          "year": 2042
         },
         {
          "clade_membership": "371a2df",
          "estimated_growth_rate": 1.253731343283582,
          "frequency": 0.67,
          "frequency_final": 0.75,
          "log_estimated_growth_rate": 0.09807347562892003,
          "log_observed_growth_rate": 0.04891741683517629,
          "observed_growth_rate": 1.1194029850746268,
          "projected_frequency": 0.84,
          "timepoint": "2042-04-01T00:00:00",
          "year": 2042
         },
         {
          "clade_membership": "5198bfc",
          "estimated_growth_rate": 1.1643835616438356,
          "frequency": 0.73,
          "frequency_final": 0.75,
          "log_estimated_growth_rate": 0.06601218312672738,
          "log_observed_growth_rate": 0.01172256004630791,
          "observed_growth_rate": 1.0273972602739727,
          "projected_frequency": 0.85,
          "timepoint": "2042-04-01T00:00:00",
          "year": 2042
         },
         {
          "clade_membership": "719838a",
          "estimated_growth_rate": 2.666666666666667,
          "frequency": 0.21,
          "frequency_final": 0.68,
          "log_estimated_growth_rate": 0.42468040595846884,
          "log_observed_growth_rate": 0.5088646566150925,
          "observed_growth_rate": 3.2380952380952386,
          "projected_frequency": 0.56,
          "timepoint": "2042-04-01T00:00:00",
          "year": 2042
         },
         {
          "clade_membership": "a4f5eae",
          "estimated_growth_rate": 1.2352941176470587,
          "frequency": 0.68,
          "frequency_final": 0.75,
          "log_estimated_growth_rate": 0.09164888388512696,
          "log_observed_growth_rate": 0.0424928250913832,
          "observed_growth_rate": 1.102941176470588,
          "projected_frequency": 0.84,
          "timepoint": "2042-04-01T00:00:00",
          "year": 2042
         },
         {
          "clade_membership": "be85840",
          "estimated_growth_rate": 1.1830985915492958,
          "frequency": 0.71,
          "frequency_final": 0.75,
          "log_estimated_growth_rate": 0.0729263950681459,
          "log_observed_growth_rate": 0.023770336274402108,
          "observed_growth_rate": 1.0563380281690142,
          "projected_frequency": 0.84,
          "timepoint": "2042-04-01T00:00:00",
          "year": 2042
         },
         {
          "clade_membership": "c8f3b54",
          "estimated_growth_rate": 0.6111111111111112,
          "frequency": 0.18,
          "frequency_final": 0.21,
          "log_estimated_growth_rate": -0.21235559608252708,
          "log_observed_growth_rate": 0.06660388042850816,
          "observed_growth_rate": 1.1666666666666667,
          "projected_frequency": 0.11,
          "timepoint": "2042-04-01T00:00:00",
          "year": 2042
         },
         {
          "clade_membership": "d74e02c",
          "estimated_growth_rate": 0.6111111111111112,
          "frequency": 0.18,
          "frequency_final": 0.21,
          "log_estimated_growth_rate": -0.21235559608252708,
          "log_observed_growth_rate": 0.06660388042850816,
          "observed_growth_rate": 1.1666666666666667,
          "projected_frequency": 0.11,
          "timepoint": "2042-04-01T00:00:00",
          "year": 2042
         },
         {
          "clade_membership": "eb29550",
          "estimated_growth_rate": 0.6111111111111112,
          "frequency": 0.18,
          "frequency_final": 0.21,
          "log_estimated_growth_rate": -0.21235559608252708,
          "log_observed_growth_rate": 0.06660388042850816,
          "observed_growth_rate": 1.1666666666666667,
          "projected_frequency": 0.11,
          "timepoint": "2042-04-01T00:00:00",
          "year": 2042
         },
         {
          "clade_membership": "0d1b0d8",
          "estimated_growth_rate": 1.1971830985915493,
          "frequency": 0.71,
          "frequency_final": 0.79,
          "log_estimated_growth_rate": 0.07805995935482156,
          "log_observed_growth_rate": 0.04630688276791029,
          "observed_growth_rate": 1.1126760563380282,
          "projected_frequency": 0.85,
          "timepoint": "2042-10-01T00:00:00",
          "year": 2042
         },
         {
          "clade_membership": "13b392f",
          "estimated_growth_rate": 1.1971830985915493,
          "frequency": 0.71,
          "frequency_final": 0.79,
          "log_estimated_growth_rate": 0.07805995935482156,
          "log_observed_growth_rate": 0.04630688276791029,
          "observed_growth_rate": 1.1126760563380282,
          "projected_frequency": 0.85,
          "timepoint": "2042-10-01T00:00:00",
          "year": 2042
         },
         {
          "clade_membership": "1e30edd",
          "estimated_growth_rate": 0.6363636363636365,
          "frequency": 0.22,
          "frequency_final": 0.21,
          "log_estimated_growth_rate": -0.19517316102973076,
          "log_observed_growth_rate": -0.02010981838741806,
          "observed_growth_rate": 0.9545454545454545,
          "projected_frequency": 0.14,
          "timepoint": "2042-10-01T00:00:00",
          "year": 2042
         },
         {
          "clade_membership": "348a0f0",
          "estimated_growth_rate": 1.1168831168831168,
          "frequency": 0.77,
          "frequency_final": 0.79,
          "log_estimated_growth_rate": 0.0479487734026978,
          "log_observed_growth_rate": 0.011122105446719634,
          "observed_growth_rate": 1.025974025974026,
          "projected_frequency": 0.86,
          "timepoint": "2042-10-01T00:00:00",
          "year": 2042
         },
         {
          "clade_membership": "371a2df",
          "estimated_growth_rate": 1.1168831168831168,
          "frequency": 0.77,
          "frequency_final": 0.79,
          "log_estimated_growth_rate": 0.0479487734026978,
          "log_observed_growth_rate": 0.011122105446719634,
          "observed_growth_rate": 1.025974025974026,
          "projected_frequency": 0.86,
          "timepoint": "2042-10-01T00:00:00",
          "year": 2042
         },
         {
          "clade_membership": "5198bfc",
          "estimated_growth_rate": 1.1025641025641024,
          "frequency": 0.78,
          "frequency_final": 0.79,
          "log_estimated_growth_rate": 0.042352117576354376,
          "log_observed_growth_rate": 0.005525449620376254,
          "observed_growth_rate": 1.0128205128205128,
          "projected_frequency": 0.86,
          "timepoint": "2042-10-01T00:00:00",
          "year": 2042
         },
         {
          "clade_membership": "719838a",
          "estimated_growth_rate": 1.6122448979591837,
          "frequency": 0.49,
          "frequency_final": 0.79,
          "log_estimated_growth_rate": 0.20709499137470813,
          "log_observed_growth_rate": 0.20709499137470813,
          "observed_growth_rate": 1.6122448979591837,
          "projected_frequency": 0.79,
          "timepoint": "2042-10-01T00:00:00",
          "year": 2042
         },
         {
          "clade_membership": "777355b",
          "estimated_growth_rate": 0.6363636363636365,
          "frequency": 0.22,
          "frequency_final": 0.21,
          "log_estimated_growth_rate": -0.19517316102973076,
          "log_observed_growth_rate": -0.02010981838741806,
          "observed_growth_rate": 0.9545454545454545,
          "projected_frequency": 0.14,
          "timepoint": "2042-10-01T00:00:00",
          "year": 2042
         },
         {
          "clade_membership": "a4f5eae",
          "estimated_growth_rate": 1.1168831168831168,
          "frequency": 0.77,
          "frequency_final": 0.79,
          "log_estimated_growth_rate": 0.0479487734026978,
          "log_observed_growth_rate": 0.011122105446719634,
          "observed_growth_rate": 1.025974025974026,
          "projected_frequency": 0.86,
          "timepoint": "2042-10-01T00:00:00",
          "year": 2042
         },
         {
          "clade_membership": "be85840",
          "estimated_growth_rate": 1.1025641025641024,
          "frequency": 0.78,
          "frequency_final": 0.79,
          "log_estimated_growth_rate": 0.042352117576354376,
          "log_observed_growth_rate": 0.005525449620376254,
          "observed_growth_rate": 1.0128205128205128,
          "projected_frequency": 0.86,
          "timepoint": "2042-10-01T00:00:00",
          "year": 2042
         },
         {
          "clade_membership": "c8f3b54",
          "estimated_growth_rate": 0.6,
          "frequency": 0.15,
          "frequency_final": 0.21,
          "log_estimated_growth_rate": -0.21993555497207587,
          "log_observed_growth_rate": 0.14530550800452324,
          "observed_growth_rate": 1.4,
          "projected_frequency": 0.09,
          "timepoint": "2042-10-01T00:00:00",
          "year": 2042
         },
         {
          "clade_membership": "d74e02c",
          "estimated_growth_rate": 0.6,
          "frequency": 0.15,
          "frequency_final": 0.21,
          "log_estimated_growth_rate": -0.21993555497207587,
          "log_observed_growth_rate": 0.14530550800452324,
          "observed_growth_rate": 1.4,
          "projected_frequency": 0.09,
          "timepoint": "2042-10-01T00:00:00",
          "year": 2042
         },
         {
          "clade_membership": "e9c36fc",
          "estimated_growth_rate": 0.6363636363636365,
          "frequency": 0.22,
          "frequency_final": 0.21,
          "log_estimated_growth_rate": -0.19517316102973076,
          "log_observed_growth_rate": -0.02010981838741806,
          "observed_growth_rate": 0.9545454545454545,
          "projected_frequency": 0.14,
          "timepoint": "2042-10-01T00:00:00",
          "year": 2042
         },
         {
          "clade_membership": "eb29550",
          "estimated_growth_rate": 0.6,
          "frequency": 0.15,
          "frequency_final": 0.21,
          "log_estimated_growth_rate": -0.21993555497207587,
          "log_observed_growth_rate": 0.14530550800452324,
          "observed_growth_rate": 1.4,
          "projected_frequency": 0.09,
          "timepoint": "2042-10-01T00:00:00",
          "year": 2042
         },
         {
          "clade_membership": "eeed629",
          "estimated_growth_rate": 0.6363636363636365,
          "frequency": 0.22,
          "frequency_final": 0.21,
          "log_estimated_growth_rate": -0.19517316102973076,
          "log_observed_growth_rate": -0.02010981838741806,
          "observed_growth_rate": 0.9545454545454545,
          "projected_frequency": 0.14,
          "timepoint": "2042-10-01T00:00:00",
          "year": 2042
         },
         {
          "clade_membership": "0d1b0d8",
          "estimated_growth_rate": 1.2133333333333334,
          "frequency": 0.75,
          "frequency_final": 0.99,
          "log_estimated_growth_rate": 0.08387843996882989,
          "log_observed_growth_rate": 0.12043371748110691,
          "observed_growth_rate": 1.32,
          "projected_frequency": 0.91,
          "timepoint": "2043-04-01T00:00:00",
          "year": 2043
         },
         {
          "clade_membership": "13b392f",
          "estimated_growth_rate": 1.2133333333333334,
          "frequency": 0.75,
          "frequency_final": 0.99,
          "log_estimated_growth_rate": 0.08387843996882989,
          "log_observed_growth_rate": 0.12043371748110691,
          "observed_growth_rate": 1.32,
          "projected_frequency": 0.91,
          "timepoint": "2043-04-01T00:00:00",
          "year": 2043
         },
         {
          "clade_membership": "1e30edd",
          "estimated_growth_rate": 0.36,
          "frequency": 0.25,
          "frequency_final": 0.01,
          "log_estimated_growth_rate": -0.44063232915994455,
          "log_observed_growth_rate": -1.358281036322813,
          "observed_growth_rate": 0.04,
          "projected_frequency": 0.09,
          "timepoint": "2043-04-01T00:00:00",
          "year": 2043
         },
         {
          "clade_membership": "348a0f0",
          "estimated_growth_rate": 1.2133333333333334,
          "frequency": 0.75,
          "frequency_final": 0.99,
          "log_estimated_growth_rate": 0.08387843996882989,
          "log_observed_growth_rate": 0.12043371748110691,
          "observed_growth_rate": 1.32,
          "projected_frequency": 0.91,
          "timepoint": "2043-04-01T00:00:00",
          "year": 2043
         },
         {
          "clade_membership": "371a2df",
          "estimated_growth_rate": 1.2133333333333334,
          "frequency": 0.75,
          "frequency_final": 0.99,
          "log_estimated_growth_rate": 0.08387843996882989,
          "log_observed_growth_rate": 0.12043371748110691,
          "observed_growth_rate": 1.32,
          "projected_frequency": 0.91,
          "timepoint": "2043-04-01T00:00:00",
          "year": 2043
         },
         {
          "clade_membership": "5198bfc",
          "estimated_growth_rate": 1.2133333333333334,
          "frequency": 0.75,
          "frequency_final": 0.99,
          "log_estimated_growth_rate": 0.08387843996882989,
          "log_observed_growth_rate": 0.12043371748110691,
          "observed_growth_rate": 1.32,
          "projected_frequency": 0.91,
          "timepoint": "2043-04-01T00:00:00",
          "year": 2043
         },
         {
          "clade_membership": "719838a",
          "estimated_growth_rate": 1.2647058823529411,
          "frequency": 0.68,
          "frequency_final": 0.99,
          "log_estimated_growth_rate": 0.10185603954086955,
          "log_observed_growth_rate": 0.16292654257249017,
          "observed_growth_rate": 1.4558823529411764,
          "projected_frequency": 0.86,
          "timepoint": "2043-04-01T00:00:00",
          "year": 2043
         },
         {
          "clade_membership": "777355b",
          "estimated_growth_rate": 0.36,
          "frequency": 0.25,
          "frequency_final": 0.01,
          "log_estimated_growth_rate": -0.44063232915994455,
          "log_observed_growth_rate": -1.358281036322813,
          "observed_growth_rate": 0.04,
          "projected_frequency": 0.09,
          "timepoint": "2043-04-01T00:00:00",
          "year": 2043
         },
         {
          "clade_membership": "914f5e8",
          "estimated_growth_rate": 0.33333333333333337,
          "frequency": 0.21,
          "frequency_final": 0.01,
          "log_estimated_growth_rate": -0.4730241065786173,
          "log_observed_growth_rate": -1.2828897701394677,
          "observed_growth_rate": 0.04761904761904762,
          "projected_frequency": 0.07,
          "timepoint": "2043-04-01T00:00:00",
          "year": 2043
         },
         {
          "clade_membership": "a4f5eae",
          "estimated_growth_rate": 1.2133333333333334,
          "frequency": 0.75,
          "frequency_final": 0.99,
          "log_estimated_growth_rate": 0.08387843996882989,
          "log_observed_growth_rate": 0.12043371748110691,
          "observed_growth_rate": 1.32,
          "projected_frequency": 0.91,
          "timepoint": "2043-04-01T00:00:00",
          "year": 2043
         },
         {
          "clade_membership": "be85840",
          "estimated_growth_rate": 1.2133333333333334,
          "frequency": 0.75,
          "frequency_final": 0.99,
          "log_estimated_growth_rate": 0.08387843996882989,
          "log_observed_growth_rate": 0.12043371748110691,
          "observed_growth_rate": 1.32,
          "projected_frequency": 0.91,
          "timepoint": "2043-04-01T00:00:00",
          "year": 2043
         },
         {
          "clade_membership": "c8f3b54",
          "estimated_growth_rate": 0.33333333333333337,
          "frequency": 0.21,
          "frequency_final": 0.01,
          "log_estimated_growth_rate": -0.4730241065786173,
          "log_observed_growth_rate": -1.2828897701394677,
          "observed_growth_rate": 0.04761904761904762,
          "projected_frequency": 0.07,
          "timepoint": "2043-04-01T00:00:00",
          "year": 2043
         },
         {
          "clade_membership": "d74e02c",
          "estimated_growth_rate": 0.33333333333333337,
          "frequency": 0.21,
          "frequency_final": 0.01,
          "log_estimated_growth_rate": -0.4730241065786173,
          "log_observed_growth_rate": -1.2828897701394677,
          "observed_growth_rate": 0.04761904761904762,
          "projected_frequency": 0.07,
          "timepoint": "2043-04-01T00:00:00",
          "year": 2043
         },
         {
          "clade_membership": "e9c36fc",
          "estimated_growth_rate": 0.36,
          "frequency": 0.25,
          "frequency_final": 0.01,
          "log_estimated_growth_rate": -0.44063232915994455,
          "log_observed_growth_rate": -1.358281036322813,
          "observed_growth_rate": 0.04,
          "projected_frequency": 0.09,
          "timepoint": "2043-04-01T00:00:00",
          "year": 2043
         },
         {
          "clade_membership": "eb29550",
          "estimated_growth_rate": 0.33333333333333337,
          "frequency": 0.21,
          "frequency_final": 0.01,
          "log_estimated_growth_rate": -0.4730241065786173,
          "log_observed_growth_rate": -1.2828897701394677,
          "observed_growth_rate": 0.04761904761904762,
          "projected_frequency": 0.07,
          "timepoint": "2043-04-01T00:00:00",
          "year": 2043
         },
         {
          "clade_membership": "eeed629",
          "estimated_growth_rate": 0.36,
          "frequency": 0.25,
          "frequency_final": 0.01,
          "log_estimated_growth_rate": -0.44063232915994455,
          "log_observed_growth_rate": -1.358281036322813,
          "observed_growth_rate": 0.04,
          "projected_frequency": 0.09,
          "timepoint": "2043-04-01T00:00:00",
          "year": 2043
         },
         {
          "clade_membership": "0d1b0d8",
          "estimated_growth_rate": 1.2151898734177213,
          "frequency": 0.79,
          "frequency_final": 1,
          "log_estimated_growth_rate": 0.0845469041708688,
          "log_observed_growth_rate": 0.102257593981642,
          "observed_growth_rate": 1.2658227848101264,
          "projected_frequency": 0.96,
          "timepoint": "2043-10-01T00:00:00",
          "year": 2043
         },
         {
          "clade_membership": "13b392f",
          "estimated_growth_rate": 1.2151898734177213,
          "frequency": 0.79,
          "frequency_final": 1,
          "log_estimated_growth_rate": 0.0845469041708688,
          "log_observed_growth_rate": 0.102257593981642,
          "observed_growth_rate": 1.2658227848101264,
          "projected_frequency": 0.96,
          "timepoint": "2043-10-01T00:00:00",
          "year": 2043
         },
         {
          "clade_membership": "348a0f0",
          "estimated_growth_rate": 1.2151898734177213,
          "frequency": 0.79,
          "frequency_final": 1,
          "log_estimated_growth_rate": 0.0845469041708688,
          "log_observed_growth_rate": 0.102257593981642,
          "observed_growth_rate": 1.2658227848101264,
          "projected_frequency": 0.96,
          "timepoint": "2043-10-01T00:00:00",
          "year": 2043
         },
         {
          "clade_membership": "371a2df",
          "estimated_growth_rate": 1.2151898734177213,
          "frequency": 0.79,
          "frequency_final": 1,
          "log_estimated_growth_rate": 0.0845469041708688,
          "log_observed_growth_rate": 0.102257593981642,
          "observed_growth_rate": 1.2658227848101264,
          "projected_frequency": 0.96,
          "timepoint": "2043-10-01T00:00:00",
          "year": 2043
         },
         {
          "clade_membership": "5198bfc",
          "estimated_growth_rate": 1.2151898734177213,
          "frequency": 0.79,
          "frequency_final": 1,
          "log_estimated_growth_rate": 0.0845469041708688,
          "log_observed_growth_rate": 0.102257593981642,
          "observed_growth_rate": 1.2658227848101264,
          "projected_frequency": 0.96,
          "timepoint": "2043-10-01T00:00:00",
          "year": 2043
         },
         {
          "clade_membership": "660db55",
          "estimated_growth_rate": 1.2467532467532467,
          "frequency": 0.77,
          "frequency_final": 1,
          "log_estimated_growth_rate": 0.09566900961758838,
          "log_observed_growth_rate": 0.11337969942836161,
          "observed_growth_rate": 1.2987012987012987,
          "projected_frequency": 0.96,
          "timepoint": "2043-10-01T00:00:00",
          "year": 2043
         },
         {
          "clade_membership": "719838a",
          "estimated_growth_rate": 1.2151898734177213,
          "frequency": 0.79,
          "frequency_final": 1,
          "log_estimated_growth_rate": 0.0845469041708688,
          "log_observed_growth_rate": 0.102257593981642,
          "observed_growth_rate": 1.2658227848101264,
          "projected_frequency": 0.96,
          "timepoint": "2043-10-01T00:00:00",
          "year": 2043
         },
         {
          "clade_membership": "7539ad2",
          "estimated_growth_rate": 1.84,
          "frequency": 0.5,
          "frequency_final": 1,
          "log_estimated_growth_rate": 0.2644219043296032,
          "log_observed_growth_rate": 0.3005963516120729,
          "observed_growth_rate": 2,
          "projected_frequency": 0.92,
          "timepoint": "2043-10-01T00:00:00",
          "year": 2043
         },
         {
          "clade_membership": "78aad12",
          "estimated_growth_rate": 1.2467532467532467,
          "frequency": 0.77,
          "frequency_final": 1,
          "log_estimated_growth_rate": 0.09566900961758838,
          "log_observed_growth_rate": 0.11337969942836161,
          "observed_growth_rate": 1.2987012987012987,
          "projected_frequency": 0.96,
          "timepoint": "2043-10-01T00:00:00",
          "year": 2043
         },
         {
          "clade_membership": "a4f5eae",
          "estimated_growth_rate": 1.2151898734177213,
          "frequency": 0.79,
          "frequency_final": 1,
          "log_estimated_growth_rate": 0.0845469041708688,
          "log_observed_growth_rate": 0.102257593981642,
          "observed_growth_rate": 1.2658227848101264,
          "projected_frequency": 0.96,
          "timepoint": "2043-10-01T00:00:00",
          "year": 2043
         },
         {
          "clade_membership": "be85840",
          "estimated_growth_rate": 1.2151898734177213,
          "frequency": 0.79,
          "frequency_final": 1,
          "log_estimated_growth_rate": 0.0845469041708688,
          "log_observed_growth_rate": 0.102257593981642,
          "observed_growth_rate": 1.2658227848101264,
          "projected_frequency": 0.96,
          "timepoint": "2043-10-01T00:00:00",
          "year": 2043
         },
         {
          "clade_membership": "fa40799",
          "estimated_growth_rate": 1.2467532467532467,
          "frequency": 0.77,
          "frequency_final": 1,
          "log_estimated_growth_rate": 0.09566900961758838,
          "log_observed_growth_rate": 0.11337969942836161,
          "observed_growth_rate": 1.2987012987012987,
          "projected_frequency": 0.96,
          "timepoint": "2043-10-01T00:00:00",
          "year": 2043
         },
         {
          "clade_membership": "0d1b0d8",
          "estimated_growth_rate": 1.0101010101010102,
          "frequency": 0.99,
          "frequency_final": 1,
          "log_estimated_growth_rate": 0.004360422994043273,
          "log_observed_growth_rate": 0.004360422994043273,
          "observed_growth_rate": 1.0101010101010102,
          "projected_frequency": 1,
          "timepoint": "2044-04-01T00:00:00",
          "year": 2044
         },
         {
          "clade_membership": "13b392f",
          "estimated_growth_rate": 1.0101010101010102,
          "frequency": 0.99,
          "frequency_final": 1,
          "log_estimated_growth_rate": 0.004360422994043273,
          "log_observed_growth_rate": 0.004360422994043273,
          "observed_growth_rate": 1.0101010101010102,
          "projected_frequency": 1,
          "timepoint": "2044-04-01T00:00:00",
          "year": 2044
         },
         {
          "clade_membership": "227dcf9",
          "estimated_growth_rate": 1.9523809523809523,
          "frequency": 0.21,
          "frequency_final": 0,
          "log_estimated_growth_rate": 0.28955936657837655,
          "log_observed_growth_rate": -2.3242824552976926,
          "observed_growth_rate": 0,
          "projected_frequency": 0.41,
          "timepoint": "2044-04-01T00:00:00",
          "year": 2044
         },
         {
          "clade_membership": "348a0f0",
          "estimated_growth_rate": 1.0101010101010102,
          "frequency": 0.99,
          "frequency_final": 1,
          "log_estimated_growth_rate": 0.004360422994043273,
          "log_observed_growth_rate": 0.004360422994043273,
          "observed_growth_rate": 1.0101010101010102,
          "projected_frequency": 1,
          "timepoint": "2044-04-01T00:00:00",
          "year": 2044
         },
         {
          "clade_membership": "371a2df",
          "estimated_growth_rate": 1.0101010101010102,
          "frequency": 0.99,
          "frequency_final": 1,
          "log_estimated_growth_rate": 0.004360422994043273,
          "log_observed_growth_rate": 0.004360422994043273,
          "observed_growth_rate": 1.0101010101010102,
          "projected_frequency": 1,
          "timepoint": "2044-04-01T00:00:00",
          "year": 2044
         },
         {
          "clade_membership": "5198bfc",
          "estimated_growth_rate": 1.0101010101010102,
          "frequency": 0.99,
          "frequency_final": 1,
          "log_estimated_growth_rate": 0.004360422994043273,
          "log_observed_growth_rate": 0.004360422994043273,
          "observed_growth_rate": 1.0101010101010102,
          "projected_frequency": 1,
          "timepoint": "2044-04-01T00:00:00",
          "year": 2044
         },
         {
          "clade_membership": "535c89b",
          "estimated_growth_rate": 1.5833333333333333,
          "frequency": 0.36,
          "frequency_final": 1,
          "log_estimated_growth_rate": 0.19912890634019012,
          "log_observed_growth_rate": 0.4429268755736607,
          "observed_growth_rate": 2.7777777777777777,
          "projected_frequency": 0.57,
          "timepoint": "2044-04-01T00:00:00",
          "year": 2044
         },
         {
          "clade_membership": "660db55",
          "estimated_growth_rate": 1.0101010101010102,
          "frequency": 0.99,
          "frequency_final": 1,
          "log_estimated_growth_rate": 0.004360422994043273,
          "log_observed_growth_rate": 0.004360422994043273,
          "observed_growth_rate": 1.0101010101010102,
          "projected_frequency": 1,
          "timepoint": "2044-04-01T00:00:00",
          "year": 2044
         },
         {
          "clade_membership": "6ba87bd",
          "estimated_growth_rate": 1.727272727272727,
          "frequency": 0.33,
          "frequency_final": 1,
          "log_estimated_growth_rate": 0.23680811447012926,
          "log_observed_growth_rate": 0.4806060837035998,
          "observed_growth_rate": 3.0303030303030303,
          "projected_frequency": 0.57,
          "timepoint": "2044-04-01T00:00:00",
          "year": 2044
         },
         {
          "clade_membership": "719838a",
          "estimated_growth_rate": 1.0101010101010102,
          "frequency": 0.99,
          "frequency_final": 1,
          "log_estimated_growth_rate": 0.004360422994043273,
          "log_observed_growth_rate": 0.004360422994043273,
          "observed_growth_rate": 1.0101010101010102,
          "projected_frequency": 1,
          "timepoint": "2044-04-01T00:00:00",
          "year": 2044
         },
         {
          "clade_membership": "7539ad2",
          "estimated_growth_rate": 1.0416666666666667,
          "frequency": 0.96,
          "frequency_final": 1,
          "log_estimated_growth_rate": 0.01771068981077321,
          "log_observed_growth_rate": 0.01771068981077321,
          "observed_growth_rate": 1.0416666666666667,
          "projected_frequency": 1,
          "timepoint": "2044-04-01T00:00:00",
          "year": 2044
         },
         {
          "clade_membership": "78aad12",
          "estimated_growth_rate": 1.0101010101010102,
          "frequency": 0.99,
          "frequency_final": 1,
          "log_estimated_growth_rate": 0.004360422994043273,
          "log_observed_growth_rate": 0.004360422994043273,
          "observed_growth_rate": 1.0101010101010102,
          "projected_frequency": 1,
          "timepoint": "2044-04-01T00:00:00",
          "year": 2044
         },
         {
          "clade_membership": "a4f5eae",
          "estimated_growth_rate": 1.0101010101010102,
          "frequency": 0.99,
          "frequency_final": 1,
          "log_estimated_growth_rate": 0.004360422994043273,
          "log_observed_growth_rate": 0.004360422994043273,
          "observed_growth_rate": 1.0101010101010102,
          "projected_frequency": 1,
          "timepoint": "2044-04-01T00:00:00",
          "year": 2044
         },
         {
          "clade_membership": "be85840",
          "estimated_growth_rate": 1.0101010101010102,
          "frequency": 0.99,
          "frequency_final": 1,
          "log_estimated_growth_rate": 0.004360422994043273,
          "log_observed_growth_rate": 0.004360422994043273,
          "observed_growth_rate": 1.0101010101010102,
          "projected_frequency": 1,
          "timepoint": "2044-04-01T00:00:00",
          "year": 2044
         },
         {
          "clade_membership": "fa40799",
          "estimated_growth_rate": 1.0101010101010102,
          "frequency": 0.99,
          "frequency_final": 1,
          "log_estimated_growth_rate": 0.004360422994043273,
          "log_observed_growth_rate": 0.004360422994043273,
          "observed_growth_rate": 1.0101010101010102,
          "projected_frequency": 1,
          "timepoint": "2044-04-01T00:00:00",
          "year": 2044
         },
         {
          "clade_membership": "535c89b",
          "estimated_growth_rate": 1.2048192771084338,
          "frequency": 0.83,
          "frequency_final": 1,
          "log_estimated_growth_rate": 0.08083305369520763,
          "log_observed_growth_rate": 0.08083305369520763,
          "observed_growth_rate": 1.2048192771084338,
          "projected_frequency": 1,
          "timepoint": "2044-10-01T00:00:00",
          "year": 2044
         },
         {
          "clade_membership": "6ba87bd",
          "estimated_growth_rate": 1.2048192771084338,
          "frequency": 0.83,
          "frequency_final": 1,
          "log_estimated_growth_rate": 0.08083305369520763,
          "log_observed_growth_rate": 0.08083305369520763,
          "observed_growth_rate": 1.2048192771084338,
          "projected_frequency": 1,
          "timepoint": "2044-10-01T00:00:00",
          "year": 2044
         },
         {
          "clade_membership": "8d49f3b",
          "estimated_growth_rate": 1.2987012987012987,
          "frequency": 0.77,
          "frequency_final": 1,
          "log_estimated_growth_rate": 0.11337969942836161,
          "log_observed_growth_rate": 0.11337969942836161,
          "observed_growth_rate": 1.2987012987012987,
          "projected_frequency": 1,
          "timepoint": "2044-10-01T00:00:00",
          "year": 2044
         },
         {
          "clade_membership": "fe7bc88",
          "estimated_growth_rate": 1.2987012987012987,
          "frequency": 0.77,
          "frequency_final": 1,
          "log_estimated_growth_rate": 0.11337969942836161,
          "log_observed_growth_rate": 0.11337969942836161,
          "observed_growth_rate": 1.2987012987012987,
          "projected_frequency": 1,
          "timepoint": "2044-10-01T00:00:00",
          "year": 2044
         },
         {
          "clade_membership": "781dea1",
          "estimated_growth_rate": 1.6,
          "frequency": 0.15,
          "frequency_final": 0.03,
          "log_estimated_growth_rate": 0.20304009528169892,
          "log_observed_growth_rate": -0.6876152534588967,
          "observed_growth_rate": 0.2,
          "projected_frequency": 0.24,
          "timepoint": "2045-04-01T00:00:00",
          "year": 2045
         },
         {
          "clade_membership": "bfacf3b",
          "estimated_growth_rate": 0.631578947368421,
          "frequency": 0.19,
          "frequency_final": 0.5,
          "log_estimated_growth_rate": -0.19824799693127748,
          "log_observed_growth_rate": 0.4188043586195182,
          "observed_growth_rate": 2.6315789473684212,
          "projected_frequency": 0.12,
          "timepoint": "2045-04-01T00:00:00",
          "year": 2045
         },
         {
          "clade_membership": "fcad47c",
          "estimated_growth_rate": 1.8085106382978724,
          "frequency": 0.47,
          "frequency_final": 0.5,
          "log_estimated_growth_rate": 0.2569086529556917,
          "log_observed_growth_rate": 0.026816818738349537,
          "observed_growth_rate": 1.0638297872340425,
          "projected_frequency": 0.85,
          "timepoint": "2045-04-01T00:00:00",
          "year": 2045
         },
         {
          "clade_membership": "089dcd8",
          "estimated_growth_rate": 2.2222222222222223,
          "frequency": 0.18,
          "frequency_final": 0.28,
          "log_estimated_growth_rate": 0.3454657977509978,
          "log_observed_growth_rate": 0.19102774503589542,
          "observed_growth_rate": 1.5555555555555558,
          "projected_frequency": 0.4,
          "timepoint": "2045-10-01T00:00:00",
          "year": 2045
         },
         {
          "clade_membership": "32a5e55",
          "estimated_growth_rate": 0.2727272727272727,
          "frequency": 0.22,
          "frequency_final": 0.33,
          "log_estimated_growth_rate": -0.5590624386743437,
          "log_observed_growth_rate": 0.17543572009060804,
          "observed_growth_rate": 1.5,
          "projected_frequency": 0.06,
          "timepoint": "2045-10-01T00:00:00",
          "year": 2045
         },
         {
          "clade_membership": "781dea1",
          "estimated_growth_rate": 0.11111111111111112,
          "frequency": 0.18,
          "frequency_final": 0,
          "log_estimated_growth_rate": -0.9354592801352652,
          "log_observed_growth_rate": -2.2576785748691846,
          "observed_growth_rate": 0,
          "projected_frequency": 0.02,
          "timepoint": "2045-10-01T00:00:00",
          "year": 2045
         },
         {
          "clade_membership": "8e3e749",
          "estimated_growth_rate": 1.0952380952380953,
          "frequency": 0.42,
          "frequency_final": 0.6,
          "log_estimated_growth_rate": 0.03941882955397988,
          "log_observed_growth_rate": 0.15459237616707125,
          "observed_growth_rate": 1.4285714285714286,
          "projected_frequency": 0.46,
          "timepoint": "2045-10-01T00:00:00",
          "year": 2045
         },
         {
          "clade_membership": "f3d7650",
          "estimated_growth_rate": 0.11111111111111112,
          "frequency": 0.18,
          "frequency_final": 0,
          "log_estimated_growth_rate": -0.9354592801352652,
          "log_observed_growth_rate": -2.2576785748691846,
          "observed_growth_rate": 0,
          "projected_frequency": 0.02,
          "timepoint": "2045-10-01T00:00:00",
          "year": 2045
         },
         {
          "clade_membership": "fcad47c",
          "estimated_growth_rate": 0.6071428571428572,
          "frequency": 0.84,
          "frequency_final": 0.6,
          "log_estimated_growth_rate": -0.21637509566319943,
          "log_observed_growth_rate": -0.14592152379517265,
          "observed_growth_rate": 0.7142857142857143,
          "projected_frequency": 0.51,
          "timepoint": "2045-10-01T00:00:00",
          "year": 2045
         },
         {
          "clade_membership": "089dcd8",
          "estimated_growth_rate": 1,
          "frequency": 0.18,
          "frequency_final": 0.27,
          "log_estimated_growth_rate": 0,
          "log_observed_growth_rate": 0.17529071600522123,
          "observed_growth_rate": 1.5000000000000002,
          "projected_frequency": 0.18,
          "timepoint": "2046-04-01T00:00:00",
          "year": 2046
         },
         {
          "clade_membership": "0eb4da6",
          "estimated_growth_rate": 1.3,
          "frequency": 0.5,
          "frequency_final": 0.52,
          "log_estimated_growth_rate": 0.11374326270094627,
          "log_observed_growth_rate": 0.016999997432278733,
          "observed_growth_rate": 1.04,
          "projected_frequency": 0.65,
          "timepoint": "2046-04-01T00:00:00",
          "year": 2046
         },
         {
          "clade_membership": "32a5e55",
          "estimated_growth_rate": 0.6153846153846154,
          "frequency": 0.26,
          "frequency_final": 0.21,
          "log_estimated_growth_rate": -0.20981463130643127,
          "log_observed_growth_rate": -0.09235805204058833,
          "observed_growth_rate": 0.8076923076923076,
          "projected_frequency": 0.16,
          "timepoint": "2046-04-01T00:00:00",
          "year": 2046
         },
         {
          "clade_membership": "3e4ca6b",
          "estimated_growth_rate": 1.3,
          "frequency": 0.5,
          "frequency_final": 0.52,
          "log_estimated_growth_rate": 0.11374326270094627,
          "log_observed_growth_rate": 0.016999997432278733,
          "observed_growth_rate": 1.04,
          "projected_frequency": 0.65,
          "timepoint": "2046-04-01T00:00:00",
          "year": 2046
         },
         {
          "clade_membership": "7067b61",
          "estimated_growth_rate": 1.3,
          "frequency": 0.5,
          "frequency_final": 0.52,
          "log_estimated_growth_rate": 0.11374326270094627,
          "log_observed_growth_rate": 0.016999997432278733,
          "observed_growth_rate": 1.04,
          "projected_frequency": 0.65,
          "timepoint": "2046-04-01T00:00:00",
          "year": 2046
         },
         {
          "clade_membership": "8e3e749",
          "estimated_growth_rate": 0.7727272727272728,
          "frequency": 0.44,
          "frequency_final": 0.48,
          "log_estimated_growth_rate": -0.11168421047534079,
          "log_observed_growth_rate": 0.03770648690599324,
          "observed_growth_rate": 1.0909090909090908,
          "projected_frequency": 0.34,
          "timepoint": "2046-04-01T00:00:00",
          "year": 2046
         },
         {
          "clade_membership": "9303e64",
          "estimated_growth_rate": 1.3,
          "frequency": 0.5,
          "frequency_final": 0.52,
          "log_estimated_growth_rate": 0.11374326270094627,
          "log_observed_growth_rate": 0.016999997432278733,
          "observed_growth_rate": 1.04,
          "projected_frequency": 0.65,
          "timepoint": "2046-04-01T00:00:00",
          "year": 2046
         },
         {
          "clade_membership": "ab5cc8d",
          "estimated_growth_rate": 1.3,
          "frequency": 0.5,
          "frequency_final": 0.52,
          "log_estimated_growth_rate": 0.11374326270094627,
          "log_observed_growth_rate": 0.016999997432278733,
          "observed_growth_rate": 1.04,
          "projected_frequency": 0.65,
          "timepoint": "2046-04-01T00:00:00",
          "year": 2046
         },
         {
          "clade_membership": "bfacf3b",
          "estimated_growth_rate": 1.3,
          "frequency": 0.5,
          "frequency_final": 0.52,
          "log_estimated_growth_rate": 0.11374326270094627,
          "log_observed_growth_rate": 0.016999997432278733,
          "observed_growth_rate": 1.04,
          "projected_frequency": 0.65,
          "timepoint": "2046-04-01T00:00:00",
          "year": 2046
         },
         {
          "clade_membership": "fcad47c",
          "estimated_growth_rate": 0.7,
          "frequency": 0.5,
          "frequency_final": 0.48,
          "log_estimated_growth_rate": -0.15453060940142166,
          "log_observed_growth_rate": -0.017692649493413978,
          "observed_growth_rate": 0.96,
          "projected_frequency": 0.35,
          "timepoint": "2046-04-01T00:00:00",
          "year": 2046
         },
         {
          "clade_membership": "089dcd8",
          "estimated_growth_rate": 1.714285714285714,
          "frequency": 0.28,
          "frequency_final": 0.09,
          "log_estimated_growth_rate": 0.2334387564687518,
          "log_observed_growth_rate": -0.48966492758398633,
          "observed_growth_rate": 0.3214285714285714,
          "projected_frequency": 0.48,
          "timepoint": "2046-10-01T00:00:00",
          "year": 2046
         },
         {
          "clade_membership": "0eb4da6",
          "estimated_growth_rate": 0.7249999999999999,
          "frequency": 0.4,
          "frequency_final": 0.48,
          "log_estimated_growth_rate": -0.13925138363427508,
          "log_observed_growth_rate": 0.07900070375364938,
          "observed_growth_rate": 1.2,
          "projected_frequency": 0.29,
          "timepoint": "2046-10-01T00:00:00",
          "year": 2046
         },
         {
          "clade_membership": "1cc90e8",
          "estimated_growth_rate": 0.71875,
          "frequency": 0.32,
          "frequency_final": 0.43,
          "log_estimated_growth_rate": -0.1428930525127278,
          "log_observed_growth_rate": 0.12797223775585953,
          "observed_growth_rate": 1.34375,
          "projected_frequency": 0.23,
          "timepoint": "2046-10-01T00:00:00",
          "year": 2046
         },
         {
          "clade_membership": "32a5e55",
          "estimated_growth_rate": 0.696969696969697,
          "frequency": 0.33,
          "frequency_final": 0.43,
          "log_estimated_growth_rate": -0.15621601388357445,
          "log_observed_growth_rate": 0.11464927638501284,
          "observed_growth_rate": 1.303030303030303,
          "projected_frequency": 0.23,
          "timepoint": "2046-10-01T00:00:00",
          "year": 2046
         },
         {
          "clade_membership": "3e4ca6b",
          "estimated_growth_rate": 0.7249999999999999,
          "frequency": 0.4,
          "frequency_final": 0.48,
          "log_estimated_growth_rate": -0.13925138363427508,
          "log_observed_growth_rate": 0.07900070375364938,
          "observed_growth_rate": 1.2,
          "projected_frequency": 0.29,
          "timepoint": "2046-10-01T00:00:00",
          "year": 2046
         },
         {
          "clade_membership": "6c9b489",
          "estimated_growth_rate": 2.3684210526315788,
          "frequency": 0.19,
          "frequency_final": 0.09,
          "log_estimated_growth_rate": 0.373143174630233,
          "log_observed_growth_rate": -0.32199197492663395,
          "observed_growth_rate": 0.47368421052631576,
          "projected_frequency": 0.45,
          "timepoint": "2046-10-01T00:00:00",
          "year": 2046
         },
         {
          "clade_membership": "7067b61",
          "estimated_growth_rate": 0.7249999999999999,
          "frequency": 0.4,
          "frequency_final": 0.48,
          "log_estimated_growth_rate": -0.13925138363427508,
          "log_observed_growth_rate": 0.07900070375364938,
          "observed_growth_rate": 1.2,
          "projected_frequency": 0.29,
          "timepoint": "2046-10-01T00:00:00",
          "year": 2046
         },
         {
          "clade_membership": "8e3e749",
          "estimated_growth_rate": 1.1833333333333333,
          "frequency": 0.6,
          "frequency_final": 0.52,
          "log_estimated_growth_rate": 0.0729951287270268,
          "log_observed_growth_rate": -0.062036748703215044,
          "observed_growth_rate": 0.8666666666666667,
          "projected_frequency": 0.71,
          "timepoint": "2046-10-01T00:00:00",
          "year": 2046
         },
         {
          "clade_membership": "9303e64",
          "estimated_growth_rate": 0.7249999999999999,
          "frequency": 0.4,
          "frequency_final": 0.48,
          "log_estimated_growth_rate": -0.13925138363427508,
          "log_observed_growth_rate": 0.07900070375364938,
          "observed_growth_rate": 1.2,
          "projected_frequency": 0.29,
          "timepoint": "2046-10-01T00:00:00",
          "year": 2046
         },
         {
          "clade_membership": "a3e769a",
          "estimated_growth_rate": 0.84,
          "frequency": 0.25,
          "frequency_final": 0.43,
          "log_estimated_growth_rate": -0.07539126618334552,
          "log_observed_growth_rate": 0.23480354867969347,
          "observed_growth_rate": 1.72,
          "projected_frequency": 0.21,
          "timepoint": "2046-10-01T00:00:00",
          "year": 2046
         },
         {
          "clade_membership": "ab5cc8d",
          "estimated_growth_rate": 0.7249999999999999,
          "frequency": 0.4,
          "frequency_final": 0.48,
          "log_estimated_growth_rate": -0.13925138363427508,
          "log_observed_growth_rate": 0.07900070375364938,
          "observed_growth_rate": 1.2,
          "projected_frequency": 0.29,
          "timepoint": "2046-10-01T00:00:00",
          "year": 2046
         },
         {
          "clade_membership": "bfacf3b",
          "estimated_growth_rate": 0.7249999999999999,
          "frequency": 0.4,
          "frequency_final": 0.48,
          "log_estimated_growth_rate": -0.13925138363427508,
          "log_observed_growth_rate": 0.07900070375364938,
          "observed_growth_rate": 1.2,
          "projected_frequency": 0.29,
          "timepoint": "2046-10-01T00:00:00",
          "year": 2046
         },
         {
          "clade_membership": "ef4e13c",
          "estimated_growth_rate": 2.25,
          "frequency": 0.2,
          "frequency_final": 0.09,
          "log_estimated_growth_rate": 0.35098048445747165,
          "log_observed_growth_rate": -0.34415466509939535,
          "observed_growth_rate": 0.44999999999999996,
          "projected_frequency": 0.45,
          "timepoint": "2046-10-01T00:00:00",
          "year": 2046
         },
         {
          "clade_membership": "f1a9cc3",
          "estimated_growth_rate": 2.25,
          "frequency": 0.2,
          "frequency_final": 0.09,
          "log_estimated_growth_rate": 0.35098048445747165,
          "log_observed_growth_rate": -0.34415466509939535,
          "observed_growth_rate": 0.44999999999999996,
          "projected_frequency": 0.45,
          "timepoint": "2046-10-01T00:00:00",
          "year": 2046
         },
         {
          "clade_membership": "fcad47c",
          "estimated_growth_rate": 1.1833333333333333,
          "frequency": 0.6,
          "frequency_final": 0.52,
          "log_estimated_growth_rate": 0.0729951287270268,
          "log_observed_growth_rate": -0.062036748703215044,
          "observed_growth_rate": 0.8666666666666667,
          "projected_frequency": 0.71,
          "timepoint": "2046-10-01T00:00:00",
          "year": 2046
         },
         {
          "clade_membership": "089dcd8",
          "estimated_growth_rate": 0.2962962962962963,
          "frequency": 0.27,
          "frequency_final": 0.01,
          "log_estimated_growth_rate": -0.524484271995756,
          "log_observed_growth_rate": -1.3915766057161807,
          "observed_growth_rate": 0.037037037037037035,
          "projected_frequency": 0.08,
          "timepoint": "2047-04-01T00:00:00",
          "year": 2047
         },
         {
          "clade_membership": "0eb4da6",
          "estimated_growth_rate": 1.6538461538461537,
          "frequency": 0.52,
          "frequency_final": 0.17,
          "log_estimated_growth_rate": 0.21816542815413026,
          "log_observed_growth_rate": -0.48384161290737066,
          "observed_growth_rate": 0.3269230769230769,
          "projected_frequency": 0.86,
          "timepoint": "2047-04-01T00:00:00",
          "year": 2047
         },
         {
          "clade_membership": "1cc90e8",
          "estimated_growth_rate": 0.33333333333333337,
          "frequency": 0.21,
          "frequency_final": 0.82,
          "log_estimated_growth_rate": -0.4730241065786173,
          "log_observed_growth_rate": 0.5900607018217481,
          "observed_growth_rate": 3.9047619047619047,
          "projected_frequency": 0.07,
          "timepoint": "2047-04-01T00:00:00",
          "year": 2047
         },
         {
          "clade_membership": "32a5e55",
          "estimated_growth_rate": 0.33333333333333337,
          "frequency": 0.21,
          "frequency_final": 0.82,
          "log_estimated_growth_rate": -0.4730241065786173,
          "log_observed_growth_rate": 0.5900607018217481,
          "observed_growth_rate": 3.9047619047619047,
          "projected_frequency": 0.07,
          "timepoint": "2047-04-01T00:00:00",
          "year": 2047
         },
         {
          "clade_membership": "3e4ca6b",
          "estimated_growth_rate": 1.6538461538461537,
          "frequency": 0.52,
          "frequency_final": 0.17,
          "log_estimated_growth_rate": 0.21816542815413026,
          "log_observed_growth_rate": -0.48384161290737066,
          "observed_growth_rate": 0.3269230769230769,
          "projected_frequency": 0.86,
          "timepoint": "2047-04-01T00:00:00",
          "year": 2047
         },
         {
          "clade_membership": "6c9b489",
          "estimated_growth_rate": 0.3076923076923077,
          "frequency": 0.26,
          "frequency_final": 0.01,
          "log_estimated_growth_rate": -0.5081554884596312,
          "log_observed_growth_rate": -1.375247822180056,
          "observed_growth_rate": 0.038461538461538464,
          "projected_frequency": 0.08,
          "timepoint": "2047-04-01T00:00:00",
          "year": 2047
         },
         {
          "clade_membership": "7067b61",
          "estimated_growth_rate": 1.6538461538461537,
          "frequency": 0.52,
          "frequency_final": 0.17,
          "log_estimated_growth_rate": 0.21816542815413026,
          "log_observed_growth_rate": -0.48384161290737066,
          "observed_growth_rate": 0.3269230769230769,
          "projected_frequency": 0.86,
          "timepoint": "2047-04-01T00:00:00",
          "year": 2047
         },
         {
          "clade_membership": "7a20891",
          "estimated_growth_rate": 2,
          "frequency": 0.35,
          "frequency_final": 0.17,
          "log_estimated_growth_rate": 0.30041090150083455,
          "log_observed_growth_rate": -0.3123110060736702,
          "observed_growth_rate": 0.48571428571428577,
          "projected_frequency": 0.7,
          "timepoint": "2047-04-01T00:00:00",
          "year": 2047
         },
         {
          "clade_membership": "8e3e749",
          "estimated_growth_rate": 0.2916666666666667,
          "frequency": 0.48,
          "frequency_final": 0.83,
          "log_estimated_growth_rate": -0.5329259637184518,
          "log_observed_growth_rate": 0.2374559474102792,
          "observed_growth_rate": 1.7291666666666667,
          "projected_frequency": 0.14,
          "timepoint": "2047-04-01T00:00:00",
          "year": 2047
         },
         {
          "clade_membership": "9303e64",
          "estimated_growth_rate": 1.6538461538461537,
          "frequency": 0.52,
          "frequency_final": 0.17,
          "log_estimated_growth_rate": 0.21816542815413026,
          "log_observed_growth_rate": -0.48384161290737066,
          "observed_growth_rate": 0.3269230769230769,
          "projected_frequency": 0.86,
          "timepoint": "2047-04-01T00:00:00",
          "year": 2047
         },
         {
          "clade_membership": "93c7db0",
          "estimated_growth_rate": 0.25,
          "frequency": 0.16,
          "frequency_final": 0,
          "log_estimated_growth_rate": -0.5940420193121142,
          "log_observed_growth_rate": -2.2068258760318495,
          "observed_growth_rate": 0,
          "projected_frequency": 0.04,
          "timepoint": "2047-04-01T00:00:00",
          "year": 2047
         },
         {
          "clade_membership": "a3e769a",
          "estimated_growth_rate": 0.35000000000000003,
          "frequency": 0.2,
          "frequency_final": 0.82,
          "log_estimated_growth_rate": -0.4519377087014136,
          "log_observed_growth_rate": 0.6111470996989519,
          "observed_growth_rate": 4.1,
          "projected_frequency": 0.07,
          "timepoint": "2047-04-01T00:00:00",
          "year": 2047
         },
         {
          "clade_membership": "ab5cc8d",
          "estimated_growth_rate": 1.6538461538461537,
          "frequency": 0.52,
          "frequency_final": 0.17,
          "log_estimated_growth_rate": 0.21816542815413026,
          "log_observed_growth_rate": -0.48384161290737066,
          "observed_growth_rate": 0.3269230769230769,
          "projected_frequency": 0.86,
          "timepoint": "2047-04-01T00:00:00",
          "year": 2047
         },
         {
          "clade_membership": "bd373a9",
          "estimated_growth_rate": 2,
          "frequency": 0.35,
          "frequency_final": 0.17,
          "log_estimated_growth_rate": 0.30041090150083455,
          "log_observed_growth_rate": -0.3123110060736702,
          "observed_growth_rate": 0.48571428571428577,
          "projected_frequency": 0.7,
          "timepoint": "2047-04-01T00:00:00",
          "year": 2047
         },
         {
          "clade_membership": "bfacf3b",
          "estimated_growth_rate": 1.6538461538461537,
          "frequency": 0.52,
          "frequency_final": 0.17,
          "log_estimated_growth_rate": 0.21816542815413026,
          "log_observed_growth_rate": -0.48384161290737066,
          "observed_growth_rate": 0.3269230769230769,
          "projected_frequency": 0.86,
          "timepoint": "2047-04-01T00:00:00",
          "year": 2047
         },
         {
          "clade_membership": "d7ba4df",
          "estimated_growth_rate": 0.25,
          "frequency": 0.16,
          "frequency_final": 0,
          "log_estimated_growth_rate": -0.5940420193121142,
          "log_observed_growth_rate": -2.2068258760318495,
          "observed_growth_rate": 0,
          "projected_frequency": 0.04,
          "timepoint": "2047-04-01T00:00:00",
          "year": 2047
         },
         {
          "clade_membership": "ef4e13c",
          "estimated_growth_rate": 0.3076923076923077,
          "frequency": 0.26,
          "frequency_final": 0.01,
          "log_estimated_growth_rate": -0.5081554884596312,
          "log_observed_growth_rate": -1.375247822180056,
          "observed_growth_rate": 0.038461538461538464,
          "projected_frequency": 0.08,
          "timepoint": "2047-04-01T00:00:00",
          "year": 2047
         },
         {
          "clade_membership": "f1a9cc3",
          "estimated_growth_rate": 0.3076923076923077,
          "frequency": 0.26,
          "frequency_final": 0.01,
          "log_estimated_growth_rate": -0.5081554884596312,
          "log_observed_growth_rate": -1.375247822180056,
          "observed_growth_rate": 0.038461538461538464,
          "projected_frequency": 0.08,
          "timepoint": "2047-04-01T00:00:00",
          "year": 2047
         },
         {
          "clade_membership": "fcad47c",
          "estimated_growth_rate": 0.2916666666666667,
          "frequency": 0.48,
          "frequency_final": 0.83,
          "log_estimated_growth_rate": -0.5329259637184518,
          "log_observed_growth_rate": 0.2374559474102792,
          "observed_growth_rate": 1.7291666666666667,
          "projected_frequency": 0.14,
          "timepoint": "2047-04-01T00:00:00",
          "year": 2047
         },
         {
          "clade_membership": "ff00056",
          "estimated_growth_rate": 2.72,
          "frequency": 0.25,
          "frequency_final": 0.17,
          "log_estimated_growth_rate": 0.43347339043174704,
          "log_observed_growth_rate": -0.16667761108888426,
          "observed_growth_rate": 0.68,
          "projected_frequency": 0.68,
          "timepoint": "2047-04-01T00:00:00",
          "year": 2047
         },
         {
          "clade_membership": "0eb4da6",
          "estimated_growth_rate": 0.9791666666666666,
          "frequency": 0.48,
          "frequency_final": 0,
          "log_estimated_growth_rate": -0.009124169244935592,
          "log_observed_growth_rate": -2.682145076373832,
          "observed_growth_rate": 0,
          "projected_frequency": 0.47,
          "timepoint": "2047-10-01T00:00:00",
          "year": 2047
         },
         {
          "clade_membership": "1cc90e8",
          "estimated_growth_rate": 1.186046511627907,
          "frequency": 0.43,
          "frequency_final": 1,
          "log_estimated_growth_rate": 0.07394362997398113,
          "log_observed_growth_rate": 0.365956807318587,
          "observed_growth_rate": 2.3255813953488373,
          "projected_frequency": 0.51,
          "timepoint": "2047-10-01T00:00:00",
          "year": 2047
         },
         {
          "clade_membership": "2794c16",
          "estimated_growth_rate": 1.3076923076923077,
          "frequency": 0.39,
          "frequency_final": 1,
          "log_estimated_growth_rate": 0.11624414273884591,
          "log_observed_growth_rate": 0.4082573200834518,
          "observed_growth_rate": 2.564102564102564,
          "projected_frequency": 0.51,
          "timepoint": "2047-10-01T00:00:00",
          "year": 2047
         },
         {
          "clade_membership": "32a5e55",
          "estimated_growth_rate": 1.186046511627907,
          "frequency": 0.43,
          "frequency_final": 1,
          "log_estimated_growth_rate": 0.07394362997398113,
          "log_observed_growth_rate": 0.365956807318587,
          "observed_growth_rate": 2.3255813953488373,
          "projected_frequency": 0.51,
          "timepoint": "2047-10-01T00:00:00",
          "year": 2047
         },
         {
          "clade_membership": "3e4ca6b",
          "estimated_growth_rate": 0.9791666666666666,
          "frequency": 0.48,
          "frequency_final": 0,
          "log_estimated_growth_rate": -0.009124169244935592,
          "log_observed_growth_rate": -2.682145076373832,
          "observed_growth_rate": 0,
          "projected_frequency": 0.47,
          "timepoint": "2047-10-01T00:00:00",
          "year": 2047
         },
         {
          "clade_membership": "7067b61",
          "estimated_growth_rate": 0.9791666666666666,
          "frequency": 0.48,
          "frequency_final": 0,
          "log_estimated_growth_rate": -0.009124169244935592,
          "log_observed_growth_rate": -2.682145076373832,
          "observed_growth_rate": 0,
          "projected_frequency": 0.47,
          "timepoint": "2047-10-01T00:00:00",
          "year": 2047
         },
         {
          "clade_membership": "7a20891",
          "estimated_growth_rate": 1.0697674418604652,
          "frequency": 0.43,
          "frequency_final": 0,
          "log_estimated_growth_rate": 0.029223655228916578,
          "log_observed_growth_rate": -2.6344772701607315,
          "observed_growth_rate": 0,
          "projected_frequency": 0.46,
          "timepoint": "2047-10-01T00:00:00",
          "year": 2047
         },
         {
          "clade_membership": "8c3ca8d",
          "estimated_growth_rate": 1.3076923076923077,
          "frequency": 0.39,
          "frequency_final": 1,
          "log_estimated_growth_rate": 0.11624414273884591,
          "log_observed_growth_rate": 0.4082573200834518,
          "observed_growth_rate": 2.564102564102564,
          "projected_frequency": 0.51,
          "timepoint": "2047-10-01T00:00:00",
          "year": 2047
         },
         {
          "clade_membership": "8e3e749",
          "estimated_growth_rate": 1.0192307692307692,
          "frequency": 0.52,
          "frequency_final": 1,
          "log_estimated_growth_rate": 0.008256797781944629,
          "log_observed_growth_rate": 0.2835963541797941,
          "observed_growth_rate": 1.923076923076923,
          "projected_frequency": 0.53,
          "timepoint": "2047-10-01T00:00:00",
          "year": 2047
         },
         {
          "clade_membership": "9303e64",
          "estimated_growth_rate": 0.9791666666666666,
          "frequency": 0.48,
          "frequency_final": 0,
          "log_estimated_growth_rate": -0.009124169244935592,
          "log_observed_growth_rate": -2.682145076373832,
          "observed_growth_rate": 0,
          "projected_frequency": 0.47,
          "timepoint": "2047-10-01T00:00:00",
          "year": 2047
         },
         {
          "clade_membership": "a3e769a",
          "estimated_growth_rate": 1.186046511627907,
          "frequency": 0.43,
          "frequency_final": 1,
          "log_estimated_growth_rate": 0.07394362997398113,
          "log_observed_growth_rate": 0.365956807318587,
          "observed_growth_rate": 2.3255813953488373,
          "projected_frequency": 0.51,
          "timepoint": "2047-10-01T00:00:00",
          "year": 2047
         },
         {
          "clade_membership": "ab5cc8d",
          "estimated_growth_rate": 0.9791666666666666,
          "frequency": 0.48,
          "frequency_final": 0,
          "log_estimated_growth_rate": -0.009124169244935592,
          "log_observed_growth_rate": -2.682145076373832,
          "observed_growth_rate": 0,
          "projected_frequency": 0.47,
          "timepoint": "2047-10-01T00:00:00",
          "year": 2047
         },
         {
          "clade_membership": "bd373a9",
          "estimated_growth_rate": 1.0697674418604652,
          "frequency": 0.43,
          "frequency_final": 0,
          "log_estimated_growth_rate": 0.029223655228916578,
          "log_observed_growth_rate": -2.6344772701607315,
          "observed_growth_rate": 0,
          "projected_frequency": 0.46,
          "timepoint": "2047-10-01T00:00:00",
          "year": 2047
         },
         {
          "clade_membership": "bfacf3b",
          "estimated_growth_rate": 0.9791666666666666,
          "frequency": 0.48,
          "frequency_final": 0,
          "log_estimated_growth_rate": -0.009124169244935592,
          "log_observed_growth_rate": -2.682145076373832,
          "observed_growth_rate": 0,
          "projected_frequency": 0.47,
          "timepoint": "2047-10-01T00:00:00",
          "year": 2047
         },
         {
          "clade_membership": "dd2e144",
          "estimated_growth_rate": 1.4285714285714286,
          "frequency": 0.35,
          "frequency_final": 1,
          "log_estimated_growth_rate": 0.15453060940142166,
          "log_observed_growth_rate": 0.45512696101349454,
          "observed_growth_rate": 2.857142857142857,
          "projected_frequency": 0.5,
          "timepoint": "2047-10-01T00:00:00",
          "year": 2047
         },
         {
          "clade_membership": "eff8ef5",
          "estimated_growth_rate": 1.3076923076923077,
          "frequency": 0.39,
          "frequency_final": 1,
          "log_estimated_growth_rate": 0.11624414273884591,
          "log_observed_growth_rate": 0.4082573200834518,
          "observed_growth_rate": 2.564102564102564,
          "projected_frequency": 0.51,
          "timepoint": "2047-10-01T00:00:00",
          "year": 2047
         },
         {
          "clade_membership": "f01e466",
          "estimated_growth_rate": 1.5789473684210527,
          "frequency": 0.19,
          "frequency_final": 0,
          "log_estimated_growth_rate": 0.19753312834611578,
          "log_observed_growth_rate": -2.2810333672477277,
          "observed_growth_rate": 0,
          "projected_frequency": 0.3,
          "timepoint": "2047-10-01T00:00:00",
          "year": 2047
         },
         {
          "clade_membership": "fcad47c",
          "estimated_growth_rate": 1.0192307692307692,
          "frequency": 0.52,
          "frequency_final": 1,
          "log_estimated_growth_rate": 0.008256797781944629,
          "log_observed_growth_rate": 0.2835963541797941,
          "observed_growth_rate": 1.923076923076923,
          "projected_frequency": 0.53,
          "timepoint": "2047-10-01T00:00:00",
          "year": 2047
         },
         {
          "clade_membership": "ff00056",
          "estimated_growth_rate": 1.0952380952380953,
          "frequency": 0.42,
          "frequency_final": 0,
          "log_estimated_growth_rate": 0.03941882955397988,
          "log_observed_growth_rate": -2.6242820958356683,
          "observed_growth_rate": 0,
          "projected_frequency": 0.46,
          "timepoint": "2047-10-01T00:00:00",
          "year": 2047
         },
         {
          "clade_membership": "1cc90e8",
          "estimated_growth_rate": 0.5121951219512195,
          "frequency": 0.82,
          "frequency_final": 1,
          "log_estimated_growth_rate": -0.29006106128377246,
          "log_observed_growth_rate": 0.08609092035987784,
          "observed_growth_rate": 1.2195121951219512,
          "projected_frequency": 0.42,
          "timepoint": "2048-04-01T00:00:00",
          "year": 2048
         },
         {
          "clade_membership": "2794c16",
          "estimated_growth_rate": 0.5121951219512195,
          "frequency": 0.82,
          "frequency_final": 1,
          "log_estimated_growth_rate": -0.29006106128377246,
          "log_observed_growth_rate": 0.08609092035987784,
          "observed_growth_rate": 1.2195121951219512,
          "projected_frequency": 0.42,
          "timepoint": "2048-04-01T00:00:00",
          "year": 2048
         },
         {
          "clade_membership": "32a5e55",
          "estimated_growth_rate": 0.5121951219512195,
          "frequency": 0.82,
          "frequency_final": 1,
          "log_estimated_growth_rate": -0.29006106128377246,
          "log_observed_growth_rate": 0.08609092035987784,
          "observed_growth_rate": 1.2195121951219512,
          "projected_frequency": 0.42,
          "timepoint": "2048-04-01T00:00:00",
          "year": 2048
         },
         {
          "clade_membership": "41ef188",
          "estimated_growth_rate": 0.2727272727272727,
          "frequency": 0.33,
          "frequency_final": 0,
          "log_estimated_growth_rate": -0.5607866014546251,
          "log_observed_growth_rate": -2.519827993775719,
          "observed_growth_rate": 0,
          "projected_frequency": 0.09,
          "timepoint": "2048-04-01T00:00:00",
          "year": 2048
         },
         {
          "clade_membership": "5fb6a78",
          "estimated_growth_rate": 0.24444444444444444,
          "frequency": 0.45,
          "frequency_final": 0,
          "log_estimated_growth_rate": -0.6088535630913031,
          "log_observed_growth_rate": -2.6541765418779604,
          "observed_growth_rate": 0,
          "projected_frequency": 0.11,
          "timepoint": "2048-04-01T00:00:00",
          "year": 2048
         },
         {
          "clade_membership": "8c3ca8d",
          "estimated_growth_rate": 0.5121951219512195,
          "frequency": 0.82,
          "frequency_final": 1,
          "log_estimated_growth_rate": -0.29006106128377246,
          "log_observed_growth_rate": 0.08609092035987784,
          "observed_growth_rate": 1.2195121951219512,
          "projected_frequency": 0.42,
          "timepoint": "2048-04-01T00:00:00",
          "year": 2048
         },
         {
          "clade_membership": "8e3e749",
          "estimated_growth_rate": 0.5180722891566265,
          "frequency": 0.83,
          "frequency_final": 1,
          "log_estimated_growth_rate": -0.28512375362337944,
          "log_observed_growth_rate": 0.08083305369520763,
          "observed_growth_rate": 1.2048192771084338,
          "projected_frequency": 0.43,
          "timepoint": "2048-04-01T00:00:00",
          "year": 2048
         },
         {
          "clade_membership": "a3e769a",
          "estimated_growth_rate": 0.5121951219512195,
          "frequency": 0.82,
          "frequency_final": 1,
          "log_estimated_growth_rate": -0.29006106128377246,
          "log_observed_growth_rate": 0.08609092035987784,
          "observed_growth_rate": 1.2195121951219512,
          "projected_frequency": 0.42,
          "timepoint": "2048-04-01T00:00:00",
          "year": 2048
         },
         {
          "clade_membership": "d9805fa",
          "estimated_growth_rate": 0.24444444444444444,
          "frequency": 0.45,
          "frequency_final": 0,
          "log_estimated_growth_rate": -0.6088535630913031,
          "log_observed_growth_rate": -2.6541765418779604,
          "observed_growth_rate": 0,
          "projected_frequency": 0.11,
          "timepoint": "2048-04-01T00:00:00",
          "year": 2048
         },
         {
          "clade_membership": "dd2e144",
          "estimated_growth_rate": 0.3766233766233766,
          "frequency": 0.77,
          "frequency_final": 1,
          "log_estimated_growth_rate": -0.4231613890650497,
          "log_observed_growth_rate": 0.11337969942836161,
          "observed_growth_rate": 1.2987012987012987,
          "projected_frequency": 0.29,
          "timepoint": "2048-04-01T00:00:00",
          "year": 2048
         },
         {
          "clade_membership": "eff8ef5",
          "estimated_growth_rate": 0.5121951219512195,
          "frequency": 0.82,
          "frequency_final": 1,
          "log_estimated_growth_rate": -0.29006106128377246,
          "log_observed_growth_rate": 0.08609092035987784,
          "observed_growth_rate": 1.2195121951219512,
          "projected_frequency": 0.42,
          "timepoint": "2048-04-01T00:00:00",
          "year": 2048
         },
         {
          "clade_membership": "fcad47c",
          "estimated_growth_rate": 0.5180722891566265,
          "frequency": 0.83,
          "frequency_final": 1,
          "log_estimated_growth_rate": -0.28512375362337944,
          "log_observed_growth_rate": 0.08083305369520763,
          "observed_growth_rate": 1.2048192771084338,
          "projected_frequency": 0.43,
          "timepoint": "2048-04-01T00:00:00",
          "year": 2048
         },
         {
          "clade_membership": "13f4120",
          "estimated_growth_rate": 1.2278481012658227,
          "frequency": 0.79,
          "frequency_final": 0.94,
          "log_estimated_growth_rate": 0.08904274641032825,
          "log_observed_growth_rate": 0.0754131399295803,
          "observed_growth_rate": 1.1898734177215189,
          "projected_frequency": 0.97,
          "timepoint": "2048-10-01T00:00:00",
          "year": 2048
         },
         {
          "clade_membership": "2f7d432",
          "estimated_growth_rate": 1.1123595505617978,
          "frequency": 0.89,
          "frequency_final": 1,
          "log_estimated_growth_rate": 0.04619595044840051,
          "log_observed_growth_rate": 0.050556373442443805,
          "observed_growth_rate": 1.1235955056179776,
          "projected_frequency": 0.99,
          "timepoint": "2048-10-01T00:00:00",
          "year": 2048
         },
         {
          "clade_membership": "831a18a",
          "estimated_growth_rate": 1.0999999999999999,
          "frequency": 0.9,
          "frequency_final": 1,
          "log_estimated_growth_rate": 0.04134886350621237,
          "log_observed_growth_rate": 0.045709286500255644,
          "observed_growth_rate": 1.1111111111111112,
          "projected_frequency": 0.99,
          "timepoint": "2048-10-01T00:00:00",
          "year": 2048
         },
         {
          "clade_membership": "976194a",
          "estimated_growth_rate": 1.1123595505617978,
          "frequency": 0.89,
          "frequency_final": 1,
          "log_estimated_growth_rate": 0.04619595044840051,
          "log_observed_growth_rate": 0.050556373442443805,
          "observed_growth_rate": 1.1235955056179776,
          "projected_frequency": 0.99,
          "timepoint": "2048-10-01T00:00:00",
          "year": 2048
         },
         {
          "clade_membership": "ccb3096",
          "estimated_growth_rate": 1.125,
          "frequency": 0.88,
          "frequency_final": 0.94,
          "log_estimated_growth_rate": 0.051097746073227396,
          "log_observed_growth_rate": 0.02861371501520895,
          "observed_growth_rate": 1.0681818181818181,
          "projected_frequency": 0.99,
          "timepoint": "2048-10-01T00:00:00",
          "year": 2048
         },
         {
          "clade_membership": "e40bb75",
          "estimated_growth_rate": 1.1123595505617978,
          "frequency": 0.89,
          "frequency_final": 1,
          "log_estimated_growth_rate": 0.04619595044840051,
          "log_observed_growth_rate": 0.050556373442443805,
          "observed_growth_rate": 1.1235955056179776,
          "projected_frequency": 0.99,
          "timepoint": "2048-10-01T00:00:00",
          "year": 2048
         },
         {
          "clade_membership": "eeaaada",
          "estimated_growth_rate": 0.9333333333333335,
          "frequency": 0.15,
          "frequency_final": 0.04,
          "log_estimated_growth_rate": -0.029757834637789485,
          "log_observed_growth_rate": -0.5661930905734339,
          "observed_growth_rate": 0.26666666666666666,
          "projected_frequency": 0.14,
          "timepoint": "2048-10-01T00:00:00",
          "year": 2048
         }
        ]
       },
       "encoding": {
        "color": {
         "field": "timepoint",
         "type": "nominal"
        },
        "tooltip": [
         {
          "field": "observed_growth_rate",
          "type": "quantitative"
         },
         {
          "field": "estimated_growth_rate",
          "type": "quantitative"
         },
         {
          "field": "timepoint",
          "type": "nominal"
         },
         {
          "field": "frequency",
          "type": "quantitative"
         },
         {
          "field": "frequency_final",
          "type": "quantitative"
         },
         {
          "field": "projected_frequency",
          "type": "quantitative"
         },
         {
          "field": "clade_membership",
          "type": "nominal"
         }
        ],
        "x": {
         "field": "log_observed_growth_rate",
         "scale": {
          "domain": [
           -2.782145076373832,
           1.1
          ]
         },
         "type": "quantitative"
        },
        "y": {
         "field": "log_estimated_growth_rate",
         "scale": {
          "domain": [
           -2.782145076373832,
           1.1
          ]
         },
         "type": "quantitative"
        }
       },
       "height": 400,
       "mark": "circle",
       "selection": {
        "selector001": {
         "bind": "scales",
         "encodings": [
          "x",
          "y"
         ],
         "type": "interval"
        }
       },
       "title": "Forecasts by LBI: Pearson's R = 0.28, MCC = 0.36",
       "width": 400
      },
      "image/png": "[encoded data removed]",
      "text/plain": [
       "<VegaLite 3 object>\n",
       "\n",
       "If you see this message, it means the renderer has not been properly enabled\n",
       "for the frontend that you are using. For more information, see\n",
       "https://altair-viz.github.io/user_guide/troubleshooting.html\n"
      ]
     },
     "execution_count": 71,
     "metadata": {},
     "output_type": "execute_result"
    }
   ],
   "source": [
    "tooltip_attributes = [\"observed_growth_rate:Q\", \"estimated_growth_rate:Q\", \"timepoint:N\", \"frequency:Q\", \"frequency_final:Q\",\n",
    "                      \"projected_frequency:Q\", \"clade_membership:N\"]\n",
    "\n",
    "chart = alt.Chart(complete_clade_frequencies).mark_circle().encode(\n",
    "    alt.X(\"log_observed_growth_rate:Q\", scale=alt.Scale(domain=(log_lower_limit, log_upper_limit))),\n",
    "    alt.Y(\"log_estimated_growth_rate:Q\", scale=alt.Scale(domain=(log_lower_limit, log_upper_limit))),\n",
    "    alt.Color(\"timepoint:N\"),\n",
    "    alt.Tooltip(tooltip_attributes)\n",
    ").properties(\n",
    "    width=400,\n",
    "    height=400,\n",
    "    title=\"Forecasts by LBI: Pearson's R = %.2f, MCC = %.2f\" % (r, mcc)\n",
    ").interactive()\n",
    "\n",
    "#chart.save(\"forecast_log_growth_correlation_natural_lbi.svg\")\n",
    "chart"
   ]
  },
  {
   "cell_type": "code",
   "execution_count": 72,
   "metadata": {},
   "outputs": [
    {
     "data": {
      "text/plain": [
       "-2.782145076373832"
      ]
     },
     "execution_count": 72,
     "metadata": {},
     "output_type": "execute_result"
    }
   ],
   "source": [
    "log_lower_limit"
   ]
  },
  {
   "cell_type": "code",
   "execution_count": 73,
   "metadata": {},
   "outputs": [
    {
     "data": {
      "text/plain": [
       "-2.682145076373832"
      ]
     },
     "execution_count": 73,
     "metadata": {},
     "output_type": "execute_result"
    }
   ],
   "source": [
    "complete_clade_frequencies.loc[:, [\"log_observed_growth_rate\", \"log_estimated_growth_rate\"]].min().min()"
   ]
  },
  {
   "cell_type": "code",
   "execution_count": 74,
   "metadata": {},
   "outputs": [],
   "source": [
    "r, p = pearsonr(\n",
    "    complete_clade_frequencies[\"log_observed_growth_rate\"],\n",
    "    complete_clade_frequencies[\"log_estimated_growth_rate\"]\n",
    ")"
   ]
  },
  {
   "cell_type": "code",
   "execution_count": 75,
   "metadata": {},
   "outputs": [
    {
     "data": {
      "text/plain": [
       "0.37831107230064476"
      ]
     },
     "execution_count": 75,
     "metadata": {},
     "output_type": "execute_result"
    }
   ],
   "source": [
    "r"
   ]
  },
  {
   "cell_type": "code",
   "execution_count": 76,
   "metadata": {},
   "outputs": [
    {
     "data": {
      "text/plain": [
       "4.225951861823978e-08"
      ]
     },
     "execution_count": 76,
     "metadata": {},
     "output_type": "execute_result"
    }
   ],
   "source": [
    "p"
   ]
  },
  {
   "cell_type": "code",
   "execution_count": 77,
   "metadata": {},
   "outputs": [
    {
     "data": {
      "text/plain": [
       "(0.28381334388838586, 5.3091791769320894e-05)"
      ]
     },
     "execution_count": 77,
     "metadata": {},
     "output_type": "execute_result"
    }
   ],
   "source": [
    "pearsonr(\n",
    "    complete_clade_frequencies[\"observed_growth_rate\"],\n",
    "    complete_clade_frequencies[\"estimated_growth_rate\"]\n",
    ")"
   ]
  },
  {
   "cell_type": "code",
   "execution_count": 78,
   "metadata": {},
   "outputs": [],
   "source": [
    "complete_clade_frequencies[\"observed_growth\"] = (complete_clade_frequencies[\"observed_growth_rate\"] > 1)"
   ]
  },
  {
   "cell_type": "code",
   "execution_count": 79,
   "metadata": {},
   "outputs": [],
   "source": [
    "complete_clade_frequencies[\"estimated_growth\"] = (complete_clade_frequencies[\"estimated_growth_rate\"] > 1)"
   ]
  },
  {
   "cell_type": "code",
   "execution_count": 80,
   "metadata": {},
   "outputs": [
    {
     "data": {
      "text/plain": [
       "observed_growth     133\n",
       "estimated_growth    114\n",
       "dtype: int64"
      ]
     },
     "execution_count": 80,
     "metadata": {},
     "output_type": "execute_result"
    }
   ],
   "source": [
    "complete_clade_frequencies.aggregate({\"observed_growth\": \"sum\", \"estimated_growth\": \"sum\"})"
   ]
  },
  {
   "cell_type": "code",
   "execution_count": 81,
   "metadata": {},
   "outputs": [],
   "source": [
    "complete_clade_frequencies[\"accurate_growth\"] = (\n",
    "    (complete_clade_frequencies[\"observed_growth\"]) == (complete_clade_frequencies[\"estimated_growth\"])\n",
    ")"
   ]
  },
  {
   "cell_type": "code",
   "execution_count": 82,
   "metadata": {},
   "outputs": [
    {
     "data": {
      "text/plain": [
       "{'tp': 93, 'tn': 43, 'fp': 21, 'fn': 38}"
      ]
     },
     "execution_count": 82,
     "metadata": {},
     "output_type": "execute_result"
    }
   ],
   "source": [
    "confusion_matrix"
   ]
  },
  {
   "cell_type": "code",
   "execution_count": 83,
   "metadata": {},
   "outputs": [
    {
     "data": {
      "image/png": "[encoded data removed]",
      "text/plain": [
       "<Figure size 1200x1200 with 1 Axes>"
      ]
     },
     "metadata": {},
     "output_type": "display_data"
    }
   ],
   "source": [
    "fig, ax = plt.subplots(1, 1, figsize=(6, 6))\n",
    "ax.plot(\n",
    "    complete_clade_frequencies[\"log_observed_growth_rate\"],\n",
    "    complete_clade_frequencies[\"log_estimated_growth_rate\"],\n",
    "    \"o\",\n",
    "    alpha=0.4\n",
    ")\n",
    "\n",
    "ax.axhline(color=\"#cccccc\", zorder=-5)\n",
    "ax.axvline(color=\"#cccccc\", zorder=-5)\n",
    "\n",
    "if p < 0.001:\n",
    "    p_value = \"$p$ < 0.001\"\n",
    "else:\n",
    "    p_value = \"$p$ = %.3f\" % p\n",
    "\n",
    "ax.text(\n",
    "    0.02,\n",
    "    0.9,\n",
    "    \"Growth accuracy = %.2f\\nDecline accuracy = %.2f\\n$R$ = %.2f\\n%s\" % (growth_accuracy, decline_accuracy, r, p_value),\n",
    "    fontsize=12,\n",
    "    horizontalalignment=\"left\",\n",
    "    verticalalignment=\"center\",\n",
    "    transform=ax.transAxes\n",
    ")\n",
    "\n",
    "ax.set_xlabel(\"Observed $log_{10}$ growth rate\")\n",
    "ax.set_ylabel(\"Estimated $log_{10}$ growth rate\")\n",
    "\n",
    "ticks = np.arange(-6, 4, 1)\n",
    "ax.set_xticks(ticks)\n",
    "ax.set_yticks(ticks)\n",
    "\n",
    "ax.set_xlim(log_lower_limit, log_upper_limit)\n",
    "ax.set_ylim(log_lower_limit, log_upper_limit)\n",
    "ax.set_aspect(\"equal\")\n",
    "\n",
    "#plt.savefig(\"../manuscript/figures/validation-of-best-model-for-natural-populations.pdf\")"
   ]
  },
  {
   "cell_type": "code",
   "execution_count": 84,
   "metadata": {},
   "outputs": [],
   "source": [
    "false_positives = (complete_clade_frequencies[\"log_observed_growth_rate\"] < 0) & (complete_clade_frequencies[\"log_estimated_growth_rate\"] > 0)"
   ]
  },
  {
   "cell_type": "code",
   "execution_count": 85,
   "metadata": {},
   "outputs": [
    {
     "data": {
      "text/plain": [
       "{'tp': 93, 'tn': 43, 'fp': 21, 'fn': 38}"
      ]
     },
     "execution_count": 85,
     "metadata": {},
     "output_type": "execute_result"
    }
   ],
   "source": [
    "confusion_matrix"
   ]
  },
  {
   "cell_type": "code",
   "execution_count": 86,
   "metadata": {},
   "outputs": [
    {
     "data": {
      "text/html": [
       "<div>\n",
       "<style scoped>\n",
       "    .dataframe tbody tr th:only-of-type {\n",
       "        vertical-align: middle;\n",
       "    }\n",
       "\n",
       "    .dataframe tbody tr th {\n",
       "        vertical-align: top;\n",
       "    }\n",
       "\n",
       "    .dataframe thead th {\n",
       "        text-align: right;\n",
       "    }\n",
       "</style>\n",
       "<table border=\"1\" class=\"dataframe\">\n",
       "  <thead>\n",
       "    <tr style=\"text-align: right;\">\n",
       "      <th></th>\n",
       "      <th>timepoint</th>\n",
       "      <th>clade_membership</th>\n",
       "      <th>frequency</th>\n",
       "      <th>frequency_final</th>\n",
       "      <th>projected_frequency</th>\n",
       "      <th>observed_growth_rate</th>\n",
       "      <th>estimated_growth_rate</th>\n",
       "      <th>year</th>\n",
       "      <th>log_observed_growth_rate</th>\n",
       "      <th>log_estimated_growth_rate</th>\n",
       "      <th>observed_growth</th>\n",
       "      <th>estimated_growth</th>\n",
       "      <th>accurate_growth</th>\n",
       "    </tr>\n",
       "  </thead>\n",
       "  <tbody>\n",
       "    <tr>\n",
       "      <th>143</th>\n",
       "      <td>2045-04-01</td>\n",
       "      <td>781dea1</td>\n",
       "      <td>0.15</td>\n",
       "      <td>0.03</td>\n",
       "      <td>0.24</td>\n",
       "      <td>0.200000</td>\n",
       "      <td>1.600000</td>\n",
       "      <td>2045</td>\n",
       "      <td>-0.687615</td>\n",
       "      <td>0.203040</td>\n",
       "      <td>False</td>\n",
       "      <td>True</td>\n",
       "      <td>False</td>\n",
       "    </tr>\n",
       "    <tr>\n",
       "      <th>216</th>\n",
       "      <td>2046-10-01</td>\n",
       "      <td>6c9b489</td>\n",
       "      <td>0.19</td>\n",
       "      <td>0.09</td>\n",
       "      <td>0.45</td>\n",
       "      <td>0.473684</td>\n",
       "      <td>2.368421</td>\n",
       "      <td>2046</td>\n",
       "      <td>-0.321992</td>\n",
       "      <td>0.373143</td>\n",
       "      <td>False</td>\n",
       "      <td>True</td>\n",
       "      <td>False</td>\n",
       "    </tr>\n",
       "    <tr>\n",
       "      <th>302</th>\n",
       "      <td>2047-10-01</td>\n",
       "      <td>f01e466</td>\n",
       "      <td>0.19</td>\n",
       "      <td>0.00</td>\n",
       "      <td>0.30</td>\n",
       "      <td>0.000000</td>\n",
       "      <td>1.578947</td>\n",
       "      <td>2047</td>\n",
       "      <td>-2.281033</td>\n",
       "      <td>0.197533</td>\n",
       "      <td>False</td>\n",
       "      <td>True</td>\n",
       "      <td>False</td>\n",
       "    </tr>\n",
       "    <tr>\n",
       "      <th>229</th>\n",
       "      <td>2046-10-01</td>\n",
       "      <td>ef4e13c</td>\n",
       "      <td>0.20</td>\n",
       "      <td>0.09</td>\n",
       "      <td>0.45</td>\n",
       "      <td>0.450000</td>\n",
       "      <td>2.250000</td>\n",
       "      <td>2046</td>\n",
       "      <td>-0.344155</td>\n",
       "      <td>0.350980</td>\n",
       "      <td>False</td>\n",
       "      <td>True</td>\n",
       "      <td>False</td>\n",
       "    </tr>\n",
       "    <tr>\n",
       "      <th>230</th>\n",
       "      <td>2046-10-01</td>\n",
       "      <td>f1a9cc3</td>\n",
       "      <td>0.20</td>\n",
       "      <td>0.09</td>\n",
       "      <td>0.45</td>\n",
       "      <td>0.450000</td>\n",
       "      <td>2.250000</td>\n",
       "      <td>2046</td>\n",
       "      <td>-0.344155</td>\n",
       "      <td>0.350980</td>\n",
       "      <td>False</td>\n",
       "      <td>True</td>\n",
       "      <td>False</td>\n",
       "    </tr>\n",
       "    <tr>\n",
       "      <th>102</th>\n",
       "      <td>2044-04-01</td>\n",
       "      <td>227dcf9</td>\n",
       "      <td>0.21</td>\n",
       "      <td>0.00</td>\n",
       "      <td>0.41</td>\n",
       "      <td>0.000000</td>\n",
       "      <td>1.952381</td>\n",
       "      <td>2044</td>\n",
       "      <td>-2.324282</td>\n",
       "      <td>0.289559</td>\n",
       "      <td>False</td>\n",
       "      <td>True</td>\n",
       "      <td>False</td>\n",
       "    </tr>\n",
       "    <tr>\n",
       "      <th>270</th>\n",
       "      <td>2047-04-01</td>\n",
       "      <td>ff00056</td>\n",
       "      <td>0.25</td>\n",
       "      <td>0.17</td>\n",
       "      <td>0.68</td>\n",
       "      <td>0.680000</td>\n",
       "      <td>2.720000</td>\n",
       "      <td>2047</td>\n",
       "      <td>-0.166678</td>\n",
       "      <td>0.433473</td>\n",
       "      <td>False</td>\n",
       "      <td>True</td>\n",
       "      <td>False</td>\n",
       "    </tr>\n",
       "    <tr>\n",
       "      <th>202</th>\n",
       "      <td>2046-10-01</td>\n",
       "      <td>089dcd8</td>\n",
       "      <td>0.28</td>\n",
       "      <td>0.09</td>\n",
       "      <td>0.48</td>\n",
       "      <td>0.321429</td>\n",
       "      <td>1.714286</td>\n",
       "      <td>2046</td>\n",
       "      <td>-0.489665</td>\n",
       "      <td>0.233439</td>\n",
       "      <td>False</td>\n",
       "      <td>True</td>\n",
       "      <td>False</td>\n",
       "    </tr>\n",
       "    <tr>\n",
       "      <th>261</th>\n",
       "      <td>2047-04-01</td>\n",
       "      <td>bd373a9</td>\n",
       "      <td>0.35</td>\n",
       "      <td>0.17</td>\n",
       "      <td>0.70</td>\n",
       "      <td>0.485714</td>\n",
       "      <td>2.000000</td>\n",
       "      <td>2047</td>\n",
       "      <td>-0.312311</td>\n",
       "      <td>0.300411</td>\n",
       "      <td>False</td>\n",
       "      <td>True</td>\n",
       "      <td>False</td>\n",
       "    </tr>\n",
       "    <tr>\n",
       "      <th>253</th>\n",
       "      <td>2047-04-01</td>\n",
       "      <td>7a20891</td>\n",
       "      <td>0.35</td>\n",
       "      <td>0.17</td>\n",
       "      <td>0.70</td>\n",
       "      <td>0.485714</td>\n",
       "      <td>2.000000</td>\n",
       "      <td>2047</td>\n",
       "      <td>-0.312311</td>\n",
       "      <td>0.300411</td>\n",
       "      <td>False</td>\n",
       "      <td>True</td>\n",
       "      <td>False</td>\n",
       "    </tr>\n",
       "    <tr>\n",
       "      <th>306</th>\n",
       "      <td>2047-10-01</td>\n",
       "      <td>ff00056</td>\n",
       "      <td>0.42</td>\n",
       "      <td>0.00</td>\n",
       "      <td>0.46</td>\n",
       "      <td>0.000000</td>\n",
       "      <td>1.095238</td>\n",
       "      <td>2047</td>\n",
       "      <td>-2.624282</td>\n",
       "      <td>0.039419</td>\n",
       "      <td>False</td>\n",
       "      <td>True</td>\n",
       "      <td>False</td>\n",
       "    </tr>\n",
       "    <tr>\n",
       "      <th>289</th>\n",
       "      <td>2047-10-01</td>\n",
       "      <td>7a20891</td>\n",
       "      <td>0.43</td>\n",
       "      <td>0.00</td>\n",
       "      <td>0.46</td>\n",
       "      <td>0.000000</td>\n",
       "      <td>1.069767</td>\n",
       "      <td>2047</td>\n",
       "      <td>-2.634477</td>\n",
       "      <td>0.029224</td>\n",
       "      <td>False</td>\n",
       "      <td>True</td>\n",
       "      <td>False</td>\n",
       "    </tr>\n",
       "    <tr>\n",
       "      <th>297</th>\n",
       "      <td>2047-10-01</td>\n",
       "      <td>bd373a9</td>\n",
       "      <td>0.43</td>\n",
       "      <td>0.00</td>\n",
       "      <td>0.46</td>\n",
       "      <td>0.000000</td>\n",
       "      <td>1.069767</td>\n",
       "      <td>2047</td>\n",
       "      <td>-2.634477</td>\n",
       "      <td>0.029224</td>\n",
       "      <td>False</td>\n",
       "      <td>True</td>\n",
       "      <td>False</td>\n",
       "    </tr>\n",
       "    <tr>\n",
       "      <th>237</th>\n",
       "      <td>2047-04-01</td>\n",
       "      <td>0eb4da6</td>\n",
       "      <td>0.52</td>\n",
       "      <td>0.17</td>\n",
       "      <td>0.86</td>\n",
       "      <td>0.326923</td>\n",
       "      <td>1.653846</td>\n",
       "      <td>2047</td>\n",
       "      <td>-0.483842</td>\n",
       "      <td>0.218165</td>\n",
       "      <td>False</td>\n",
       "      <td>True</td>\n",
       "      <td>False</td>\n",
       "    </tr>\n",
       "    <tr>\n",
       "      <th>256</th>\n",
       "      <td>2047-04-01</td>\n",
       "      <td>9303e64</td>\n",
       "      <td>0.52</td>\n",
       "      <td>0.17</td>\n",
       "      <td>0.86</td>\n",
       "      <td>0.326923</td>\n",
       "      <td>1.653846</td>\n",
       "      <td>2047</td>\n",
       "      <td>-0.483842</td>\n",
       "      <td>0.218165</td>\n",
       "      <td>False</td>\n",
       "      <td>True</td>\n",
       "      <td>False</td>\n",
       "    </tr>\n",
       "    <tr>\n",
       "      <th>260</th>\n",
       "      <td>2047-04-01</td>\n",
       "      <td>ab5cc8d</td>\n",
       "      <td>0.52</td>\n",
       "      <td>0.17</td>\n",
       "      <td>0.86</td>\n",
       "      <td>0.326923</td>\n",
       "      <td>1.653846</td>\n",
       "      <td>2047</td>\n",
       "      <td>-0.483842</td>\n",
       "      <td>0.218165</td>\n",
       "      <td>False</td>\n",
       "      <td>True</td>\n",
       "      <td>False</td>\n",
       "    </tr>\n",
       "    <tr>\n",
       "      <th>263</th>\n",
       "      <td>2047-04-01</td>\n",
       "      <td>bfacf3b</td>\n",
       "      <td>0.52</td>\n",
       "      <td>0.17</td>\n",
       "      <td>0.86</td>\n",
       "      <td>0.326923</td>\n",
       "      <td>1.653846</td>\n",
       "      <td>2047</td>\n",
       "      <td>-0.483842</td>\n",
       "      <td>0.218165</td>\n",
       "      <td>False</td>\n",
       "      <td>True</td>\n",
       "      <td>False</td>\n",
       "    </tr>\n",
       "    <tr>\n",
       "      <th>243</th>\n",
       "      <td>2047-04-01</td>\n",
       "      <td>3e4ca6b</td>\n",
       "      <td>0.52</td>\n",
       "      <td>0.17</td>\n",
       "      <td>0.86</td>\n",
       "      <td>0.326923</td>\n",
       "      <td>1.653846</td>\n",
       "      <td>2047</td>\n",
       "      <td>-0.483842</td>\n",
       "      <td>0.218165</td>\n",
       "      <td>False</td>\n",
       "      <td>True</td>\n",
       "      <td>False</td>\n",
       "    </tr>\n",
       "    <tr>\n",
       "      <th>249</th>\n",
       "      <td>2047-04-01</td>\n",
       "      <td>7067b61</td>\n",
       "      <td>0.52</td>\n",
       "      <td>0.17</td>\n",
       "      <td>0.86</td>\n",
       "      <td>0.326923</td>\n",
       "      <td>1.653846</td>\n",
       "      <td>2047</td>\n",
       "      <td>-0.483842</td>\n",
       "      <td>0.218165</td>\n",
       "      <td>False</td>\n",
       "      <td>True</td>\n",
       "      <td>False</td>\n",
       "    </tr>\n",
       "    <tr>\n",
       "      <th>232</th>\n",
       "      <td>2046-10-01</td>\n",
       "      <td>fcad47c</td>\n",
       "      <td>0.60</td>\n",
       "      <td>0.52</td>\n",
       "      <td>0.71</td>\n",
       "      <td>0.866667</td>\n",
       "      <td>1.183333</td>\n",
       "      <td>2046</td>\n",
       "      <td>-0.062037</td>\n",
       "      <td>0.072995</td>\n",
       "      <td>False</td>\n",
       "      <td>True</td>\n",
       "      <td>False</td>\n",
       "    </tr>\n",
       "    <tr>\n",
       "      <th>222</th>\n",
       "      <td>2046-10-01</td>\n",
       "      <td>8e3e749</td>\n",
       "      <td>0.60</td>\n",
       "      <td>0.52</td>\n",
       "      <td>0.71</td>\n",
       "      <td>0.866667</td>\n",
       "      <td>1.183333</td>\n",
       "      <td>2046</td>\n",
       "      <td>-0.062037</td>\n",
       "      <td>0.072995</td>\n",
       "      <td>False</td>\n",
       "      <td>True</td>\n",
       "      <td>False</td>\n",
       "    </tr>\n",
       "  </tbody>\n",
       "</table>\n",
       "</div>"
      ],
      "text/plain": [
       "     timepoint clade_membership  frequency  frequency_final  \\\n",
       "143 2045-04-01          781dea1       0.15             0.03   \n",
       "216 2046-10-01          6c9b489       0.19             0.09   \n",
       "302 2047-10-01          f01e466       0.19             0.00   \n",
       "229 2046-10-01          ef4e13c       0.20             0.09   \n",
       "230 2046-10-01          f1a9cc3       0.20             0.09   \n",
       "102 2044-04-01          227dcf9       0.21             0.00   \n",
       "270 2047-04-01          ff00056       0.25             0.17   \n",
       "202 2046-10-01          089dcd8       0.28             0.09   \n",
       "261 2047-04-01          bd373a9       0.35             0.17   \n",
       "253 2047-04-01          7a20891       0.35             0.17   \n",
       "306 2047-10-01          ff00056       0.42             0.00   \n",
       "289 2047-10-01          7a20891       0.43             0.00   \n",
       "297 2047-10-01          bd373a9       0.43             0.00   \n",
       "237 2047-04-01          0eb4da6       0.52             0.17   \n",
       "256 2047-04-01          9303e64       0.52             0.17   \n",
       "260 2047-04-01          ab5cc8d       0.52             0.17   \n",
       "263 2047-04-01          bfacf3b       0.52             0.17   \n",
       "243 2047-04-01          3e4ca6b       0.52             0.17   \n",
       "249 2047-04-01          7067b61       0.52             0.17   \n",
       "232 2046-10-01          fcad47c       0.60             0.52   \n",
       "222 2046-10-01          8e3e749       0.60             0.52   \n",
       "\n",
       "     projected_frequency  observed_growth_rate  estimated_growth_rate  year  \\\n",
       "143                 0.24              0.200000               1.600000  2045   \n",
       "216                 0.45              0.473684               2.368421  2046   \n",
       "302                 0.30              0.000000               1.578947  2047   \n",
       "229                 0.45              0.450000               2.250000  2046   \n",
       "230                 0.45              0.450000               2.250000  2046   \n",
       "102                 0.41              0.000000               1.952381  2044   \n",
       "270                 0.68              0.680000               2.720000  2047   \n",
       "202                 0.48              0.321429               1.714286  2046   \n",
       "261                 0.70              0.485714               2.000000  2047   \n",
       "253                 0.70              0.485714               2.000000  2047   \n",
       "306                 0.46              0.000000               1.095238  2047   \n",
       "289                 0.46              0.000000               1.069767  2047   \n",
       "297                 0.46              0.000000               1.069767  2047   \n",
       "237                 0.86              0.326923               1.653846  2047   \n",
       "256                 0.86              0.326923               1.653846  2047   \n",
       "260                 0.86              0.326923               1.653846  2047   \n",
       "263                 0.86              0.326923               1.653846  2047   \n",
       "243                 0.86              0.326923               1.653846  2047   \n",
       "249                 0.86              0.326923               1.653846  2047   \n",
       "232                 0.71              0.866667               1.183333  2046   \n",
       "222                 0.71              0.866667               1.183333  2046   \n",
       "\n",
       "     log_observed_growth_rate  log_estimated_growth_rate  observed_growth  \\\n",
       "143                 -0.687615                   0.203040            False   \n",
       "216                 -0.321992                   0.373143            False   \n",
       "302                 -2.281033                   0.197533            False   \n",
       "229                 -0.344155                   0.350980            False   \n",
       "230                 -0.344155                   0.350980            False   \n",
       "102                 -2.324282                   0.289559            False   \n",
       "270                 -0.166678                   0.433473            False   \n",
       "202                 -0.489665                   0.233439            False   \n",
       "261                 -0.312311                   0.300411            False   \n",
       "253                 -0.312311                   0.300411            False   \n",
       "306                 -2.624282                   0.039419            False   \n",
       "289                 -2.634477                   0.029224            False   \n",
       "297                 -2.634477                   0.029224            False   \n",
       "237                 -0.483842                   0.218165            False   \n",
       "256                 -0.483842                   0.218165            False   \n",
       "260                 -0.483842                   0.218165            False   \n",
       "263                 -0.483842                   0.218165            False   \n",
       "243                 -0.483842                   0.218165            False   \n",
       "249                 -0.483842                   0.218165            False   \n",
       "232                 -0.062037                   0.072995            False   \n",
       "222                 -0.062037                   0.072995            False   \n",
       "\n",
       "     estimated_growth  accurate_growth  \n",
       "143              True            False  \n",
       "216              True            False  \n",
       "302              True            False  \n",
       "229              True            False  \n",
       "230              True            False  \n",
       "102              True            False  \n",
       "270              True            False  \n",
       "202              True            False  \n",
       "261              True            False  \n",
       "253              True            False  \n",
       "306              True            False  \n",
       "289              True            False  \n",
       "297              True            False  \n",
       "237              True            False  \n",
       "256              True            False  \n",
       "260              True            False  \n",
       "263              True            False  \n",
       "243              True            False  \n",
       "249              True            False  \n",
       "232              True            False  \n",
       "222              True            False  "
      ]
     },
     "execution_count": 86,
     "metadata": {},
     "output_type": "execute_result"
    }
   ],
   "source": [
    "complete_clade_frequencies[false_positives].sort_values(\"frequency\")"
   ]
  },
  {
   "cell_type": "markdown",
   "metadata": {},
   "source": [
    "## Estimated and observed closest strains per timepoint\n",
    "\n",
    "Create a figure similar to Figure 2D in Neher et al. 2014 showing the minimum estimated distance to the future and minimum observed distance to the future per timepoint."
   ]
  },
  {
   "cell_type": "code",
   "execution_count": 87,
   "metadata": {},
   "outputs": [],
   "source": [
    "sorted_df = full_forecasts.dropna().sort_values(\n",
    "    [\"timepoint\"]\n",
    ").copy()"
   ]
  },
  {
   "cell_type": "code",
   "execution_count": 88,
   "metadata": {},
   "outputs": [],
   "source": [
    "sorted_df[\"timepoint_rank\"] = sorted_df.groupby(\"timepoint\")[\"weighted_distance_to_future\"].rank(pct=True)"
   ]
  },
  {
   "cell_type": "code",
   "execution_count": 89,
   "metadata": {},
   "outputs": [],
   "source": [
    "best_fitness_rank_by_timepoint_df = sorted_df.sort_values(\n",
    "    [\"timepoint\", \"y\"],\n",
    "    ascending=True\n",
    ").groupby(\"timepoint\")[\"timepoint_rank\"].first().reset_index()"
   ]
  },
  {
   "cell_type": "code",
   "execution_count": 90,
   "metadata": {},
   "outputs": [
    {
     "data": {
      "text/html": [
       "<div>\n",
       "<style scoped>\n",
       "    .dataframe tbody tr th:only-of-type {\n",
       "        vertical-align: middle;\n",
       "    }\n",
       "\n",
       "    .dataframe tbody tr th {\n",
       "        vertical-align: top;\n",
       "    }\n",
       "\n",
       "    .dataframe thead th {\n",
       "        text-align: right;\n",
       "    }\n",
       "</style>\n",
       "<table border=\"1\" class=\"dataframe\">\n",
       "  <thead>\n",
       "    <tr style=\"text-align: right;\">\n",
       "      <th></th>\n",
       "      <th>timepoint</th>\n",
       "      <th>timepoint_rank</th>\n",
       "    </tr>\n",
       "  </thead>\n",
       "  <tbody>\n",
       "    <tr>\n",
       "      <th>0</th>\n",
       "      <td>2040-04-01</td>\n",
       "      <td>0.025397</td>\n",
       "    </tr>\n",
       "    <tr>\n",
       "      <th>1</th>\n",
       "      <td>2040-10-01</td>\n",
       "      <td>0.076190</td>\n",
       "    </tr>\n",
       "    <tr>\n",
       "      <th>2</th>\n",
       "      <td>2041-04-01</td>\n",
       "      <td>0.007143</td>\n",
       "    </tr>\n",
       "    <tr>\n",
       "      <th>3</th>\n",
       "      <td>2041-10-01</td>\n",
       "      <td>0.065873</td>\n",
       "    </tr>\n",
       "    <tr>\n",
       "      <th>4</th>\n",
       "      <td>2042-04-01</td>\n",
       "      <td>0.011905</td>\n",
       "    </tr>\n",
       "  </tbody>\n",
       "</table>\n",
       "</div>"
      ],
      "text/plain": [
       "   timepoint  timepoint_rank\n",
       "0 2040-04-01        0.025397\n",
       "1 2040-10-01        0.076190\n",
       "2 2041-04-01        0.007143\n",
       "3 2041-10-01        0.065873\n",
       "4 2042-04-01        0.011905"
      ]
     },
     "execution_count": 90,
     "metadata": {},
     "output_type": "execute_result"
    }
   ],
   "source": [
    "best_fitness_rank_by_timepoint_df.head()"
   ]
  },
  {
   "cell_type": "code",
   "execution_count": 91,
   "metadata": {},
   "outputs": [
    {
     "data": {
      "text/plain": [
       "Text(0,0.5,'Number of timepoints')"
      ]
     },
     "execution_count": 91,
     "metadata": {},
     "output_type": "execute_result"
    },
    {
     "data": {
      "image/png": "[encoded data removed]",
      "text/plain": [
       "<Figure size 1200x800 with 1 Axes>"
      ]
     },
     "metadata": {},
     "output_type": "display_data"
    }
   ],
   "source": [
    "median_best_rank = best_fitness_rank_by_timepoint_df[\"timepoint_rank\"].median()\n",
    "\n",
    "fig, ax = plt.subplots(1, 1, figsize=(6, 4))\n",
    "ax.hist(best_fitness_rank_by_timepoint_df[\"timepoint_rank\"], bins=np.arange(0, 1.01, 0.05), label=None)\n",
    "ax.axvline(\n",
    "    median_best_rank,\n",
    "    color=\"orange\",\n",
    "    label=\"median = %i%%\" % round(median_best_rank * 100, 0)\n",
    ")\n",
    "ax.set_xticklabels(['{:3.0f}%'.format(x*100) for x in [0, 0.2, 0.4, 0.6, 0.8, 1.0]])\n",
    "ax.set_xlim(0, 1)\n",
    "\n",
    "ax.legend(\n",
    "    frameon=False\n",
    ")\n",
    "ax.set_xlabel(\"Percentile rank by distance\\nfor estimated best strain\")\n",
    "ax.set_ylabel(\"Number of timepoints\")"
   ]
  },
  {
   "cell_type": "markdown",
   "metadata": {},
   "source": [
    "## Merge validation figures into subpanels of one figure"
   ]
  },
  {
   "cell_type": "code",
   "execution_count": 106,
   "metadata": {},
   "outputs": [
    {
     "data": {
      "image/png": "[encoded data removed]",
      "text/plain": [
       "<Figure size 1600x800 with 2 Axes>"
      ]
     },
     "metadata": {},
     "output_type": "display_data"
    }
   ],
   "source": [
    "fig = plt.figure(figsize=(8, 4), facecolor='w')\n",
    "gs = gridspec.GridSpec(1, 2, width_ratios=[1, 1], wspace=0.1)\n",
    "\n",
    "#\n",
    "# Clade growth rate correlations\n",
    "#\n",
    "\n",
    "clade_ax = fig.add_subplot(gs[0])\n",
    "clade_ax.plot(\n",
    "    complete_clade_frequencies[\"log_observed_growth_rate\"],\n",
    "    complete_clade_frequencies[\"log_estimated_growth_rate\"],\n",
    "    \"o\",\n",
    "    alpha=0.4\n",
    ")\n",
    "\n",
    "clade_ax.axhline(color=\"#cccccc\", zorder=-5)\n",
    "clade_ax.axvline(color=\"#cccccc\", zorder=-5)\n",
    "\n",
    "if p < 0.001:\n",
    "    p_value = \"$p$ < 0.001\"\n",
    "else:\n",
    "    p_value = \"$p$ = %.3f\" % p\n",
    "\n",
    "clade_ax.text(\n",
    "    0.02,\n",
    "    0.87,\n",
    "    \"Growth accuracy = %.2f\\nDecline accuracy = %.2f\\n$R$ = %.2f, %s\\nN = %s\" % (growth_accuracy, decline_accuracy, r, p_value, complete_clade_frequencies.shape[0]),\n",
    "    fontsize=12,\n",
    "    horizontalalignment=\"left\",\n",
    "    verticalalignment=\"center\",\n",
    "    transform=clade_ax.transAxes\n",
    ")\n",
    "\n",
    "clade_ax.set_xlabel(\"Observed $log_{10}$ growth rate\")\n",
    "clade_ax.set_ylabel(\"Estimated $log_{10}$ growth rate\")\n",
    "\n",
    "ticks = np.arange(-6, 4, 1)\n",
    "clade_ax.set_xticks(ticks)\n",
    "clade_ax.set_yticks(ticks)\n",
    "\n",
    "clade_ax.set_xlim(log_lower_limit - 1, log_upper_limit + 1)\n",
    "clade_ax.set_ylim(log_lower_limit - 1, log_upper_limit + 1)\n",
    "clade_ax.set_aspect(\"equal\")\n",
    "\n",
    "#\n",
    "# Estimated closest strain to the future ranking\n",
    "#\n",
    "\n",
    "rank_ax = fig.add_subplot(gs[1])\n",
    "\n",
    "median_best_rank = best_fitness_rank_by_timepoint_df[\"timepoint_rank\"].median()\n",
    "\n",
    "rank_ax.hist(best_fitness_rank_by_timepoint_df[\"timepoint_rank\"], bins=np.arange(0, 1.01, 0.05), label=None)\n",
    "rank_ax.axvline(\n",
    "    median_best_rank,\n",
    "    color=\"orange\",\n",
    "    label=\"median = %i%%\" % round(median_best_rank * 100, 0)\n",
    ")\n",
    "rank_ax.set_xticks([0, 0.2, 0.4, 0.6, 0.8, 1.0])\n",
    "rank_ax.set_xticklabels(['{:3.0f}%'.format(x*100) for x in [0, 0.2, 0.4, 0.6, 0.8, 1.0]])\n",
    "rank_ax.set_xlim(0, 1)\n",
    "rank_ax.set_ylim(0, 16)\n",
    "\n",
    "rank_ax.legend(\n",
    "    frameon=False\n",
    ")\n",
    "rank_ax.set_xlabel(\"Percentile rank by distance\\nfor estimated best strain\")\n",
    "rank_ax.set_ylabel(\"Number of timepoints\")\n",
    "\n",
    "gs.tight_layout(fig)\n",
    "\n",
    "plt.savefig(\"../manuscript/figures/test-of-best-model-for-simulated-populations.png\")"
   ]
  },
  {
   "cell_type": "code",
   "execution_count": 107,
   "metadata": {},
   "outputs": [
    {
     "data": {
      "text/plain": [
       "16"
      ]
     },
     "execution_count": 107,
     "metadata": {},
     "output_type": "execute_result"
    }
   ],
   "source": [
    "(best_fitness_rank_by_timepoint_df[\"timepoint_rank\"] <= 0.2).sum()"
   ]
  },
  {
   "cell_type": "code",
   "execution_count": 108,
   "metadata": {},
   "outputs": [
    {
     "data": {
      "text/plain": [
       "(18, 2)"
      ]
     },
     "execution_count": 108,
     "metadata": {},
     "output_type": "execute_result"
    }
   ],
   "source": [
    "best_fitness_rank_by_timepoint_df.shape"
   ]
  },
  {
   "cell_type": "code",
   "execution_count": 109,
   "metadata": {},
   "outputs": [
    {
     "data": {
      "text/plain": [
       "0.8888888888888888"
      ]
     },
     "execution_count": 109,
     "metadata": {},
     "output_type": "execute_result"
    }
   ],
   "source": [
    "(best_fitness_rank_by_timepoint_df[\"timepoint_rank\"] <= 0.2).sum() / float(best_fitness_rank_by_timepoint_df.shape[0])"
   ]
  },
  {
   "cell_type": "markdown",
   "metadata": {},
   "source": [
    "## Inspect uncertainty in forecast accuracy\n",
    "\n",
    "Use observed forecasting errors to inspect the accuracy of one-year lookaheads based on the initial frequency of each clade."
   ]
  },
  {
   "cell_type": "code",
   "execution_count": 110,
   "metadata": {},
   "outputs": [
    {
     "data": {
      "text/plain": [
       "(197, 13)"
      ]
     },
     "execution_count": 110,
     "metadata": {},
     "output_type": "execute_result"
    }
   ],
   "source": [
    "complete_clade_frequencies.shape"
   ]
  },
  {
   "cell_type": "code",
   "execution_count": 111,
   "metadata": {},
   "outputs": [],
   "source": [
    "complete_clade_frequencies[\"clade_error\"] = complete_clade_frequencies[\"frequency_final\"] - complete_clade_frequencies[\"projected_frequency\"]"
   ]
  },
  {
   "cell_type": "code",
   "execution_count": 112,
   "metadata": {},
   "outputs": [
    {
     "data": {
      "text/plain": [
       "Text(0,0.5,'Forecast error (%)')"
      ]
     },
     "execution_count": 112,
     "metadata": {},
     "output_type": "execute_result"
    },
    {
     "data": {
      "image/png": "[encoded data removed]",
      "text/plain": [
       "<Figure size 800x800 with 1 Axes>"
      ]
     },
     "metadata": {},
     "output_type": "display_data"
    }
   ],
   "source": [
    "fig, ax = plt.subplots(1, 1, figsize=(4, 4))\n",
    "ax.plot(\n",
    "    complete_clade_frequencies[\"frequency\"].values * 100,\n",
    "    complete_clade_frequencies[\"clade_error\"].values * 100,\n",
    "    \"o\",\n",
    "    alpha=0.25\n",
    ")\n",
    "ax.axhline(0, color=\"#cccccc\", zorder=-10)\n",
    "ax.set_xlabel(\"Initial clade frequency (%)\")\n",
    "ax.set_ylabel(\"Forecast error (%)\")"
   ]
  },
  {
   "cell_type": "code",
   "execution_count": null,
   "metadata": {},
   "outputs": [],
   "source": []
  }
 ],
 "metadata": {
  "kernelspec": {
   "display_name": "Python 3",
   "language": "python",
   "name": "python3"
  },
  "language_info": {
   "codemirror_mode": {
    "name": "ipython",
    "version": 3
   },
   "file_extension": ".py",
   "mimetype": "text/x-python",
   "name": "python",
   "nbconvert_exporter": "python",
   "pygments_lexer": "ipython3",
   "version": "3.6.7"
  }
 },
 "nbformat": 4,
 "nbformat_minor": 4
}
