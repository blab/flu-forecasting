{
 "cells": [
  {
   "cell_type": "markdown",
   "metadata": {},
   "source": [
    "# Plot model diagram"
   ]
  },
  {
   "cell_type": "markdown",
   "metadata": {},
   "source": [
    "## Import modules"
   ]
  },
  {
   "cell_type": "code",
   "execution_count": 1,
   "metadata": {},
   "outputs": [],
   "source": [
    "import cv2\n",
    "import matplotlib.pyplot as plt\n",
    "import numpy as np\n",
    "from numpy.random import default_rng\n",
    "import pandas as pd\n",
    "from scipy.spatial.distance import squareform\n",
    "from sklearn.manifold import TSNE\n",
    "\n",
    "%matplotlib inline"
   ]
  },
  {
   "cell_type": "markdown",
   "metadata": {},
   "source": [
    "## Load data"
   ]
  },
  {
   "cell_type": "code",
   "execution_count": 2,
   "metadata": {},
   "outputs": [],
   "source": [
    "tips = pd.read_csv(\n",
    "    \"../results/builds/natural/natural_sample_1_with_90_vpm_sliding/tip_attributes_with_weighted_distances.tsv\",\n",
    "    sep=\"\\t\"\n",
    ")"
   ]
  },
  {
   "cell_type": "code",
   "execution_count": 120,
   "metadata": {},
   "outputs": [],
   "source": [
    "df = tips.query(\"timepoint == '1996-10-01' | timepoint == '1997-10-01'\").loc[\n",
    "    :,\n",
    "    [\n",
    "        \"strain\",\n",
    "        \"timepoint\",\n",
    "        \"raw_date\",\n",
    "        \"numdate\",\n",
    "        \"frequency\",\n",
    "        \"aa_sequence\"\n",
    "    ]\n",
    "].copy()"
   ]
  },
  {
   "cell_type": "code",
   "execution_count": 121,
   "metadata": {},
   "outputs": [
    {
     "data": {
      "text/html": [
       "<div>\n",
       "<style scoped>\n",
       "    .dataframe tbody tr th:only-of-type {\n",
       "        vertical-align: middle;\n",
       "    }\n",
       "\n",
       "    .dataframe tbody tr th {\n",
       "        vertical-align: top;\n",
       "    }\n",
       "\n",
       "    .dataframe thead th {\n",
       "        text-align: right;\n",
       "    }\n",
       "</style>\n",
       "<table border=\"1\" class=\"dataframe\">\n",
       "  <thead>\n",
       "    <tr style=\"text-align: right;\">\n",
       "      <th></th>\n",
       "      <th>strain</th>\n",
       "      <th>timepoint</th>\n",
       "      <th>raw_date</th>\n",
       "      <th>numdate</th>\n",
       "      <th>frequency</th>\n",
       "      <th>aa_sequence</th>\n",
       "    </tr>\n",
       "  </thead>\n",
       "  <tbody>\n",
       "    <tr>\n",
       "      <th>0</th>\n",
       "      <td>A/Fujian/126/1996</td>\n",
       "      <td>1996-10-01</td>\n",
       "      <td>1996-05-01</td>\n",
       "      <td>1996.334018</td>\n",
       "      <td>0.004375</td>\n",
       "      <td>MKTIIALSYILCLVFAQKLPGNDNSTATLCLGHHAVPNGTLVKTIT...</td>\n",
       "    </tr>\n",
       "    <tr>\n",
       "      <th>1</th>\n",
       "      <td>A/Fujian/152/1996</td>\n",
       "      <td>1996-10-01</td>\n",
       "      <td>1996-05-20</td>\n",
       "      <td>1996.386037</td>\n",
       "      <td>0.009079</td>\n",
       "      <td>MKTIIALSYILCLVFAQKLPGNDNSTATLCLGHHAVPNGTLVKTIT...</td>\n",
       "    </tr>\n",
       "    <tr>\n",
       "      <th>2</th>\n",
       "      <td>A/Fujian/202/1996</td>\n",
       "      <td>1996-10-01</td>\n",
       "      <td>1996-07-02</td>\n",
       "      <td>1996.503765</td>\n",
       "      <td>0.033065</td>\n",
       "      <td>MKTIIALSYILCLVFAQKLPGNDNSTATLCLGHHAVPNGTLVKTIT...</td>\n",
       "    </tr>\n",
       "    <tr>\n",
       "      <th>3</th>\n",
       "      <td>A/Guangxi/125/1996</td>\n",
       "      <td>1996-10-01</td>\n",
       "      <td>1996-01-26</td>\n",
       "      <td>1996.071184</td>\n",
       "      <td>0.000025</td>\n",
       "      <td>MKTIIALSYILCLVFAQKLPGNDNSTATLCLGHHAVPNGTLVKTIT...</td>\n",
       "    </tr>\n",
       "    <tr>\n",
       "      <th>4</th>\n",
       "      <td>A/Guangxi/126/1996</td>\n",
       "      <td>1996-10-01</td>\n",
       "      <td>1996-01-26</td>\n",
       "      <td>1996.071184</td>\n",
       "      <td>0.000025</td>\n",
       "      <td>MKTIIALSYILCLVFAQKLPGNDNSTATLCLGHHAVPNGTLVKTIT...</td>\n",
       "    </tr>\n",
       "  </tbody>\n",
       "</table>\n",
       "</div>"
      ],
      "text/plain": [
       "               strain   timepoint    raw_date      numdate  frequency  \\\n",
       "0   A/Fujian/126/1996  1996-10-01  1996-05-01  1996.334018   0.004375   \n",
       "1   A/Fujian/152/1996  1996-10-01  1996-05-20  1996.386037   0.009079   \n",
       "2   A/Fujian/202/1996  1996-10-01  1996-07-02  1996.503765   0.033065   \n",
       "3  A/Guangxi/125/1996  1996-10-01  1996-01-26  1996.071184   0.000025   \n",
       "4  A/Guangxi/126/1996  1996-10-01  1996-01-26  1996.071184   0.000025   \n",
       "\n",
       "                                         aa_sequence  \n",
       "0  MKTIIALSYILCLVFAQKLPGNDNSTATLCLGHHAVPNGTLVKTIT...  \n",
       "1  MKTIIALSYILCLVFAQKLPGNDNSTATLCLGHHAVPNGTLVKTIT...  \n",
       "2  MKTIIALSYILCLVFAQKLPGNDNSTATLCLGHHAVPNGTLVKTIT...  \n",
       "3  MKTIIALSYILCLVFAQKLPGNDNSTATLCLGHHAVPNGTLVKTIT...  \n",
       "4  MKTIIALSYILCLVFAQKLPGNDNSTATLCLGHHAVPNGTLVKTIT...  "
      ]
     },
     "execution_count": 121,
     "metadata": {},
     "output_type": "execute_result"
    }
   ],
   "source": [
    "df.head()"
   ]
  },
  {
   "cell_type": "code",
   "execution_count": 122,
   "metadata": {},
   "outputs": [],
   "source": [
    "rng = default_rng()"
   ]
  },
  {
   "cell_type": "code",
   "execution_count": 123,
   "metadata": {},
   "outputs": [],
   "source": [
    "df[\"random\"] = rng.uniform(size=df.shape[0])"
   ]
  },
  {
   "cell_type": "code",
   "execution_count": 124,
   "metadata": {},
   "outputs": [
    {
     "data": {
      "text/plain": [
       "(94, 7)"
      ]
     },
     "execution_count": 124,
     "metadata": {},
     "output_type": "execute_result"
    }
   ],
   "source": [
    "df.shape"
   ]
  },
  {
   "cell_type": "code",
   "execution_count": 125,
   "metadata": {},
   "outputs": [],
   "source": [
    "timepoints = df[\"timepoint\"].unique()"
   ]
  },
  {
   "cell_type": "code",
   "execution_count": 126,
   "metadata": {},
   "outputs": [
    {
     "data": {
      "text/plain": [
       "array(['1996-10-01', '1997-10-01'], dtype=object)"
      ]
     },
     "execution_count": 126,
     "metadata": {},
     "output_type": "execute_result"
    }
   ],
   "source": [
    "timepoints"
   ]
  },
  {
   "cell_type": "code",
   "execution_count": 130,
   "metadata": {},
   "outputs": [
    {
     "data": {
      "text/plain": [
       "[<matplotlib.lines.Line2D at 0x1a2e8d09d0>]"
      ]
     },
     "execution_count": 130,
     "metadata": {},
     "output_type": "execute_result"
    },
    {
     "data": {
      "image/png": "[encoded data removed]",
      "text/plain": [
       "<Figure size 432x288 with 1 Axes>"
      ]
     },
     "metadata": {
      "needs_background": "light"
     },
     "output_type": "display_data"
    }
   ],
   "source": [
    "plt.plot(\n",
    "    df[\"numdate\"],\n",
    "    df[\"random\"],\n",
    "    \"o\"\n",
    ")"
   ]
  },
  {
   "cell_type": "code",
   "execution_count": 128,
   "metadata": {},
   "outputs": [],
   "source": [
    "df = df[df[\"frequency\"] > 0.001].copy()"
   ]
  },
  {
   "cell_type": "code",
   "execution_count": 132,
   "metadata": {},
   "outputs": [
    {
     "data": {
      "text/html": [
       "<div>\n",
       "<style scoped>\n",
       "    .dataframe tbody tr th:only-of-type {\n",
       "        vertical-align: middle;\n",
       "    }\n",
       "\n",
       "    .dataframe tbody tr th {\n",
       "        vertical-align: top;\n",
       "    }\n",
       "\n",
       "    .dataframe thead th {\n",
       "        text-align: right;\n",
       "    }\n",
       "</style>\n",
       "<table border=\"1\" class=\"dataframe\">\n",
       "  <thead>\n",
       "    <tr style=\"text-align: right;\">\n",
       "      <th></th>\n",
       "      <th>strain</th>\n",
       "      <th>timepoint</th>\n",
       "      <th>raw_date</th>\n",
       "      <th>numdate</th>\n",
       "      <th>frequency</th>\n",
       "      <th>aa_sequence</th>\n",
       "      <th>random</th>\n",
       "    </tr>\n",
       "  </thead>\n",
       "  <tbody>\n",
       "    <tr>\n",
       "      <th>0</th>\n",
       "      <td>A/Fujian/126/1996</td>\n",
       "      <td>1996-10-01</td>\n",
       "      <td>1996-05-01</td>\n",
       "      <td>1996.334018</td>\n",
       "      <td>0.004375</td>\n",
       "      <td>MKTIIALSYILCLVFAQKLPGNDNSTATLCLGHHAVPNGTLVKTIT...</td>\n",
       "      <td>0.561831</td>\n",
       "    </tr>\n",
       "    <tr>\n",
       "      <th>1</th>\n",
       "      <td>A/Fujian/152/1996</td>\n",
       "      <td>1996-10-01</td>\n",
       "      <td>1996-05-20</td>\n",
       "      <td>1996.386037</td>\n",
       "      <td>0.009079</td>\n",
       "      <td>MKTIIALSYILCLVFAQKLPGNDNSTATLCLGHHAVPNGTLVKTIT...</td>\n",
       "      <td>0.421079</td>\n",
       "    </tr>\n",
       "    <tr>\n",
       "      <th>2</th>\n",
       "      <td>A/Fujian/202/1996</td>\n",
       "      <td>1996-10-01</td>\n",
       "      <td>1996-07-02</td>\n",
       "      <td>1996.503765</td>\n",
       "      <td>0.033065</td>\n",
       "      <td>MKTIIALSYILCLVFAQKLPGNDNSTATLCLGHHAVPNGTLVKTIT...</td>\n",
       "      <td>0.723539</td>\n",
       "    </tr>\n",
       "    <tr>\n",
       "      <th>6</th>\n",
       "      <td>A/Guangxi/9/1996</td>\n",
       "      <td>1996-10-01</td>\n",
       "      <td>1996-04-05</td>\n",
       "      <td>1996.262834</td>\n",
       "      <td>0.001376</td>\n",
       "      <td>MKTIIALSYILCLVFAQKLPENDNSTATLCLGHHAVPNGTLVKTIT...</td>\n",
       "      <td>0.358226</td>\n",
       "    </tr>\n",
       "    <tr>\n",
       "      <th>7</th>\n",
       "      <td>A/Guangzhou/44/1996</td>\n",
       "      <td>1996-10-01</td>\n",
       "      <td>1996-06-09</td>\n",
       "      <td>1996.440794</td>\n",
       "      <td>0.017622</td>\n",
       "      <td>MKTIIALSYILCLVFAQKLPGNDNSTATLCLGHHAVPNGTLVKTIT...</td>\n",
       "      <td>0.202467</td>\n",
       "    </tr>\n",
       "  </tbody>\n",
       "</table>\n",
       "</div>"
      ],
      "text/plain": [
       "                strain   timepoint    raw_date      numdate  frequency  \\\n",
       "0    A/Fujian/126/1996  1996-10-01  1996-05-01  1996.334018   0.004375   \n",
       "1    A/Fujian/152/1996  1996-10-01  1996-05-20  1996.386037   0.009079   \n",
       "2    A/Fujian/202/1996  1996-10-01  1996-07-02  1996.503765   0.033065   \n",
       "6     A/Guangxi/9/1996  1996-10-01  1996-04-05  1996.262834   0.001376   \n",
       "7  A/Guangzhou/44/1996  1996-10-01  1996-06-09  1996.440794   0.017622   \n",
       "\n",
       "                                         aa_sequence    random  \n",
       "0  MKTIIALSYILCLVFAQKLPGNDNSTATLCLGHHAVPNGTLVKTIT...  0.561831  \n",
       "1  MKTIIALSYILCLVFAQKLPGNDNSTATLCLGHHAVPNGTLVKTIT...  0.421079  \n",
       "2  MKTIIALSYILCLVFAQKLPGNDNSTATLCLGHHAVPNGTLVKTIT...  0.723539  \n",
       "6  MKTIIALSYILCLVFAQKLPENDNSTATLCLGHHAVPNGTLVKTIT...  0.358226  \n",
       "7  MKTIIALSYILCLVFAQKLPGNDNSTATLCLGHHAVPNGTLVKTIT...  0.202467  "
      ]
     },
     "execution_count": 132,
     "metadata": {},
     "output_type": "execute_result"
    }
   ],
   "source": [
    "df.head()"
   ]
  },
  {
   "cell_type": "markdown",
   "metadata": {},
   "source": [
    "## Calculate earth mover's distance (EMD) between strains in adjacent timepoints"
   ]
  },
  {
   "cell_type": "code",
   "execution_count": 133,
   "metadata": {},
   "outputs": [],
   "source": [
    "df_i = df.query(f\"timepoint == '{timepoints[0]}'\")\n",
    "df_j = df.query(f\"timepoint == '{timepoints[1]}'\")"
   ]
  },
  {
   "cell_type": "code",
   "execution_count": 134,
   "metadata": {},
   "outputs": [
    {
     "data": {
      "text/plain": [
       "(31, 7)"
      ]
     },
     "execution_count": 134,
     "metadata": {},
     "output_type": "execute_result"
    }
   ],
   "source": [
    "df_i.shape"
   ]
  },
  {
   "cell_type": "code",
   "execution_count": 135,
   "metadata": {},
   "outputs": [
    {
     "data": {
      "text/plain": [
       "(39, 7)"
      ]
     },
     "execution_count": 135,
     "metadata": {},
     "output_type": "execute_result"
    }
   ],
   "source": [
    "df_j.shape"
   ]
  },
  {
   "cell_type": "code",
   "execution_count": 136,
   "metadata": {},
   "outputs": [],
   "source": [
    "emd_distances = np.zeros((df_i.shape[0], df_j.shape[0]))\n",
    "\n",
    "for i, (index_i, row_i) in enumerate(df_i.iterrows()):\n",
    "    sequence_i = np.frombuffer(row_i[\"aa_sequence\"].encode(), \"S1\")\n",
    "    \n",
    "    for j, (index_j, row_j) in enumerate(df_j.iterrows()):\n",
    "        sequence_j = np.frombuffer(row_j[\"aa_sequence\"].encode(), \"S1\")\n",
    "        distance = (sequence_i != sequence_j).sum()\n",
    "        \n",
    "        emd_distances[i, j] = distance"
   ]
  },
  {
   "cell_type": "code",
   "execution_count": 137,
   "metadata": {},
   "outputs": [],
   "source": [
    "emd_distances = emd_distances.astype(np.float32)"
   ]
  },
  {
   "cell_type": "code",
   "execution_count": 138,
   "metadata": {},
   "outputs": [
    {
     "data": {
      "text/plain": [
       "(31, 39)"
      ]
     },
     "execution_count": 138,
     "metadata": {},
     "output_type": "execute_result"
    }
   ],
   "source": [
    "emd_distances.shape"
   ]
  },
  {
   "cell_type": "code",
   "execution_count": 139,
   "metadata": {},
   "outputs": [
    {
     "data": {
      "text/plain": [
       "array([[10.,  7.,  8., ..., 17.,  6.,  8.],\n",
       "       [21., 17., 18., ..., 25., 15., 13.],\n",
       "       [12.,  8., 10., ..., 19.,  7.,  8.],\n",
       "       ...,\n",
       "       [10.,  6.,  8., ..., 17.,  4.,  8.],\n",
       "       [ 8.,  5.,  8., ..., 15.,  5.,  6.],\n",
       "       [ 8.,  5., 10., ..., 17.,  7.,  8.]], dtype=float32)"
      ]
     },
     "execution_count": 139,
     "metadata": {},
     "output_type": "execute_result"
    }
   ],
   "source": [
    "emd_distances"
   ]
  },
  {
   "cell_type": "code",
   "execution_count": 140,
   "metadata": {},
   "outputs": [],
   "source": [
    "strains_i = df_i[\"strain\"].values\n",
    "strains_j = df_j[\"strain\"].values"
   ]
  },
  {
   "cell_type": "code",
   "execution_count": 141,
   "metadata": {},
   "outputs": [],
   "source": [
    "frequencies_i = df_i[\"frequency\"].values.astype(np.float32)\n",
    "frequencies_j = df_j[\"frequency\"].values.astype(np.float32)"
   ]
  },
  {
   "cell_type": "code",
   "execution_count": 142,
   "metadata": {},
   "outputs": [
    {
     "data": {
      "text/plain": [
       "array([0.004375, 0.009079, 0.033065, 0.001376, 0.017622, 0.001587,\n",
       "       0.011592, 0.011592, 0.011592, 0.011592, 0.048034, 0.048034,\n",
       "       0.010456, 0.023578, 0.01282 , 0.033065, 0.033872, 0.083494,\n",
       "       0.088601, 0.0947  , 0.09589 , 0.098113, 0.098113, 0.001133,\n",
       "       0.001311, 0.001133, 0.002992, 0.05379 , 0.002624, 0.006756,\n",
       "       0.046156], dtype=float32)"
      ]
     },
     "execution_count": 142,
     "metadata": {},
     "output_type": "execute_result"
    }
   ],
   "source": [
    "frequencies_i"
   ]
  },
  {
   "cell_type": "code",
   "execution_count": 143,
   "metadata": {},
   "outputs": [
    {
     "data": {
      "text/plain": [
       "array([0.039773, 0.013636, 0.02368 , 0.004014, 0.009128, 0.009128,\n",
       "       0.00943 , 0.012111, 0.015287, 0.022045, 0.022045, 0.022045,\n",
       "       0.022045, 0.024239, 0.032657, 0.038466, 0.047513, 0.048138,\n",
       "       0.051181, 0.053492, 0.06253 , 0.001009, 0.00153 , 0.004014,\n",
       "       0.009128, 0.010378, 0.014446, 0.01572 , 0.017528, 0.017528,\n",
       "       0.018966, 0.024239, 0.034573, 0.034573, 0.040427, 0.040427,\n",
       "       0.043035, 0.046884, 0.039773], dtype=float32)"
      ]
     },
     "execution_count": 143,
     "metadata": {},
     "output_type": "execute_result"
    }
   ],
   "source": [
    "frequencies_j"
   ]
  },
  {
   "cell_type": "code",
   "execution_count": 144,
   "metadata": {},
   "outputs": [],
   "source": [
    "emd, _, flow = cv2.EMD(\n",
    "    frequencies_i,\n",
    "    frequencies_j,\n",
    "    cv2.DIST_USER,\n",
    "    cost=emd_distances\n",
    ")"
   ]
  },
  {
   "cell_type": "code",
   "execution_count": 145,
   "metadata": {},
   "outputs": [
    {
     "data": {
      "text/plain": [
       "8.809279441833496"
      ]
     },
     "execution_count": 145,
     "metadata": {},
     "output_type": "execute_result"
    }
   ],
   "source": [
    "emd"
   ]
  },
  {
   "cell_type": "code",
   "execution_count": 146,
   "metadata": {},
   "outputs": [],
   "source": [
    "flow = np.round(flow, 3)"
   ]
  },
  {
   "cell_type": "code",
   "execution_count": 147,
   "metadata": {},
   "outputs": [
    {
     "data": {
      "text/plain": [
       "(31, 39)"
      ]
     },
     "execution_count": 147,
     "metadata": {},
     "output_type": "execute_result"
    }
   ],
   "source": [
    "flow.shape"
   ]
  },
  {
   "cell_type": "code",
   "execution_count": 148,
   "metadata": {},
   "outputs": [],
   "source": [
    "nonzero_flow_pairs = np.nonzero(flow)"
   ]
  },
  {
   "cell_type": "code",
   "execution_count": 149,
   "metadata": {},
   "outputs": [
    {
     "data": {
      "text/plain": [
       "(array([ 0,  1,  1,  2,  2,  2,  3,  4,  5,  6,  7,  8,  8,  8,  9, 10, 10,\n",
       "        11, 11, 12, 13, 13, 13, 14, 15, 15, 16, 16, 16, 17, 17, 17, 17, 17,\n",
       "        17, 18, 18, 18, 19, 19, 19, 19, 19, 19, 19, 20, 20, 20, 20, 21, 21,\n",
       "        21, 21, 22, 22, 22, 23, 24, 25, 26, 27, 27, 27, 28, 29, 30, 30, 30]),\n",
       " array([24, 18, 20,  9, 11, 16, 21, 18,  9, 16, 12,  4,  6,  9, 16, 16, 17,\n",
       "        10, 38, 13,  4,  5, 13, 20, 17, 20,  6,  7,  8,  3, 18, 26, 27, 30,\n",
       "        36, 31, 33, 34,  0,  1,  3, 14, 23, 25, 29, 28, 34, 35, 36,  0,  2,\n",
       "        24, 37, 18, 19, 32,  8,  8,  9, 11, 11, 12, 15, 37, 20, 20, 22, 38]))"
      ]
     },
     "execution_count": 149,
     "metadata": {},
     "output_type": "execute_result"
    }
   ],
   "source": [
    "nonzero_flow_pairs"
   ]
  },
  {
   "cell_type": "code",
   "execution_count": 150,
   "metadata": {},
   "outputs": [
    {
     "data": {
      "text/plain": [
       "(68,)"
      ]
     },
     "execution_count": 150,
     "metadata": {},
     "output_type": "execute_result"
    }
   ],
   "source": [
    "nonzero_flow_pairs[0].shape"
   ]
  },
  {
   "cell_type": "code",
   "execution_count": 151,
   "metadata": {},
   "outputs": [],
   "source": [
    "nonzero_flow = flow[nonzero_flow_pairs]"
   ]
  },
  {
   "cell_type": "code",
   "execution_count": 152,
   "metadata": {},
   "outputs": [
    {
     "data": {
      "text/plain": [
       "(68,)"
      ]
     },
     "execution_count": 152,
     "metadata": {},
     "output_type": "execute_result"
    }
   ],
   "source": [
    "nonzero_flow.shape"
   ]
  },
  {
   "cell_type": "code",
   "execution_count": 153,
   "metadata": {},
   "outputs": [],
   "source": [
    "flow_records = []\n",
    "\n",
    "for i, (index_i, index_j) in enumerate(np.transpose(nonzero_flow_pairs)):\n",
    "    flow_records.append({\n",
    "        \"strain\": strains_i[index_i],\n",
    "        \"other_strain\": strains_j[index_j],\n",
    "        \"flow\": nonzero_flow[i]\n",
    "    })"
   ]
  },
  {
   "cell_type": "code",
   "execution_count": 154,
   "metadata": {},
   "outputs": [],
   "source": [
    "flow_df = pd.DataFrame(flow_records)"
   ]
  },
  {
   "cell_type": "code",
   "execution_count": 155,
   "metadata": {},
   "outputs": [
    {
     "data": {
      "text/html": [
       "<div>\n",
       "<style scoped>\n",
       "    .dataframe tbody tr th:only-of-type {\n",
       "        vertical-align: middle;\n",
       "    }\n",
       "\n",
       "    .dataframe tbody tr th {\n",
       "        vertical-align: top;\n",
       "    }\n",
       "\n",
       "    .dataframe thead th {\n",
       "        text-align: right;\n",
       "    }\n",
       "</style>\n",
       "<table border=\"1\" class=\"dataframe\">\n",
       "  <thead>\n",
       "    <tr style=\"text-align: right;\">\n",
       "      <th></th>\n",
       "      <th>strain</th>\n",
       "      <th>other_strain</th>\n",
       "      <th>flow</th>\n",
       "    </tr>\n",
       "  </thead>\n",
       "  <tbody>\n",
       "    <tr>\n",
       "      <th>0</th>\n",
       "      <td>A/Fujian/126/1996</td>\n",
       "      <td>A/Malaysia/12726/1997</td>\n",
       "      <td>0.004</td>\n",
       "    </tr>\n",
       "    <tr>\n",
       "      <th>1</th>\n",
       "      <td>A/Fujian/152/1996</td>\n",
       "      <td>A/HongKong/CUHK22048/1997</td>\n",
       "      <td>0.008</td>\n",
       "    </tr>\n",
       "    <tr>\n",
       "      <th>2</th>\n",
       "      <td>A/Fujian/152/1996</td>\n",
       "      <td>A/HongKong/CUHK22736/1997</td>\n",
       "      <td>0.001</td>\n",
       "    </tr>\n",
       "    <tr>\n",
       "      <th>3</th>\n",
       "      <td>A/Fujian/202/1996</td>\n",
       "      <td>A/HongKong/CUHK20199/1997</td>\n",
       "      <td>0.016</td>\n",
       "    </tr>\n",
       "    <tr>\n",
       "      <th>4</th>\n",
       "      <td>A/Fujian/202/1996</td>\n",
       "      <td>A/HongKong/CUHK20217/1997</td>\n",
       "      <td>0.014</td>\n",
       "    </tr>\n",
       "  </tbody>\n",
       "</table>\n",
       "</div>"
      ],
      "text/plain": [
       "              strain               other_strain   flow\n",
       "0  A/Fujian/126/1996      A/Malaysia/12726/1997  0.004\n",
       "1  A/Fujian/152/1996  A/HongKong/CUHK22048/1997  0.008\n",
       "2  A/Fujian/152/1996  A/HongKong/CUHK22736/1997  0.001\n",
       "3  A/Fujian/202/1996  A/HongKong/CUHK20199/1997  0.016\n",
       "4  A/Fujian/202/1996  A/HongKong/CUHK20217/1997  0.014"
      ]
     },
     "execution_count": 155,
     "metadata": {},
     "output_type": "execute_result"
    }
   ],
   "source": [
    "flow_df.head()"
   ]
  },
  {
   "cell_type": "markdown",
   "metadata": {},
   "source": [
    "## Calculate t-SNE position of strains in one dimension"
   ]
  },
  {
   "cell_type": "code",
   "execution_count": 156,
   "metadata": {},
   "outputs": [],
   "source": [
    "df_records = df.to_dict(\"records\")"
   ]
  },
  {
   "cell_type": "code",
   "execution_count": 157,
   "metadata": {},
   "outputs": [],
   "source": [
    "distances = []\n",
    "\n",
    "for i in range(len(df_records)):\n",
    "    sequence_i = np.frombuffer(df_records[i][\"aa_sequence\"].encode(), \"S1\")\n",
    "    \n",
    "    for j in range(i + 1, len(df_records)):\n",
    "        sequence_j = np.frombuffer(df_records[j][\"aa_sequence\"].encode(), \"S1\")\n",
    "        distance = (sequence_i != sequence_j).sum()\n",
    "        \n",
    "        distances.append(distance)"
   ]
  },
  {
   "cell_type": "code",
   "execution_count": 158,
   "metadata": {},
   "outputs": [],
   "source": [
    "distances = np.array(distances)"
   ]
  },
  {
   "cell_type": "code",
   "execution_count": 159,
   "metadata": {},
   "outputs": [
    {
     "data": {
      "text/plain": [
       "(2415,)"
      ]
     },
     "execution_count": 159,
     "metadata": {},
     "output_type": "execute_result"
    }
   ],
   "source": [
    "distances.shape"
   ]
  },
  {
   "cell_type": "code",
   "execution_count": 160,
   "metadata": {},
   "outputs": [
    {
     "data": {
      "text/plain": [
       "(70, 70)"
      ]
     },
     "execution_count": 160,
     "metadata": {},
     "output_type": "execute_result"
    }
   ],
   "source": [
    "squareform(distances).shape"
   ]
  },
  {
   "cell_type": "code",
   "execution_count": 161,
   "metadata": {},
   "outputs": [],
   "source": [
    "distance_matrix = squareform(distances)"
   ]
  },
  {
   "cell_type": "code",
   "execution_count": 168,
   "metadata": {},
   "outputs": [],
   "source": [
    "tsne = TSNE(n_components=1, learning_rate=500, metric=\"precomputed\", random_state=314)\n",
    "X_embedded_1d = tsne.fit_transform(distance_matrix)"
   ]
  },
  {
   "cell_type": "code",
   "execution_count": 169,
   "metadata": {},
   "outputs": [
    {
     "data": {
      "text/plain": [
       "(70, 1)"
      ]
     },
     "execution_count": 169,
     "metadata": {},
     "output_type": "execute_result"
    }
   ],
   "source": [
    "X_embedded_1d.shape"
   ]
  },
  {
   "cell_type": "code",
   "execution_count": 170,
   "metadata": {},
   "outputs": [],
   "source": [
    "df[\"tsne_1d\"] = X_embedded_1d"
   ]
  },
  {
   "cell_type": "code",
   "execution_count": 171,
   "metadata": {},
   "outputs": [
    {
     "data": {
      "text/html": [
       "<div>\n",
       "<style scoped>\n",
       "    .dataframe tbody tr th:only-of-type {\n",
       "        vertical-align: middle;\n",
       "    }\n",
       "\n",
       "    .dataframe tbody tr th {\n",
       "        vertical-align: top;\n",
       "    }\n",
       "\n",
       "    .dataframe thead th {\n",
       "        text-align: right;\n",
       "    }\n",
       "</style>\n",
       "<table border=\"1\" class=\"dataframe\">\n",
       "  <thead>\n",
       "    <tr style=\"text-align: right;\">\n",
       "      <th></th>\n",
       "      <th>strain</th>\n",
       "      <th>timepoint</th>\n",
       "      <th>raw_date</th>\n",
       "      <th>numdate</th>\n",
       "      <th>frequency</th>\n",
       "      <th>aa_sequence</th>\n",
       "      <th>random</th>\n",
       "      <th>tsne_1d</th>\n",
       "    </tr>\n",
       "  </thead>\n",
       "  <tbody>\n",
       "    <tr>\n",
       "      <th>0</th>\n",
       "      <td>A/Fujian/126/1996</td>\n",
       "      <td>1996-10-01</td>\n",
       "      <td>1996-05-01</td>\n",
       "      <td>1996.334018</td>\n",
       "      <td>0.004375</td>\n",
       "      <td>MKTIIALSYILCLVFAQKLPGNDNSTATLCLGHHAVPNGTLVKTIT...</td>\n",
       "      <td>0.561831</td>\n",
       "      <td>-2230.753418</td>\n",
       "    </tr>\n",
       "    <tr>\n",
       "      <th>1</th>\n",
       "      <td>A/Fujian/152/1996</td>\n",
       "      <td>1996-10-01</td>\n",
       "      <td>1996-05-20</td>\n",
       "      <td>1996.386037</td>\n",
       "      <td>0.009079</td>\n",
       "      <td>MKTIIALSYILCLVFAQKLPGNDNSTATLCLGHHAVPNGTLVKTIT...</td>\n",
       "      <td>0.421079</td>\n",
       "      <td>2623.712891</td>\n",
       "    </tr>\n",
       "    <tr>\n",
       "      <th>2</th>\n",
       "      <td>A/Fujian/202/1996</td>\n",
       "      <td>1996-10-01</td>\n",
       "      <td>1996-07-02</td>\n",
       "      <td>1996.503765</td>\n",
       "      <td>0.033065</td>\n",
       "      <td>MKTIIALSYILCLVFAQKLPGNDNSTATLCLGHHAVPNGTLVKTIT...</td>\n",
       "      <td>0.723539</td>\n",
       "      <td>-4065.971191</td>\n",
       "    </tr>\n",
       "    <tr>\n",
       "      <th>6</th>\n",
       "      <td>A/Guangxi/9/1996</td>\n",
       "      <td>1996-10-01</td>\n",
       "      <td>1996-04-05</td>\n",
       "      <td>1996.262834</td>\n",
       "      <td>0.001376</td>\n",
       "      <td>MKTIIALSYILCLVFAQKLPENDNSTATLCLGHHAVPNGTLVKTIT...</td>\n",
       "      <td>0.358226</td>\n",
       "      <td>1954.306152</td>\n",
       "    </tr>\n",
       "    <tr>\n",
       "      <th>7</th>\n",
       "      <td>A/Guangzhou/44/1996</td>\n",
       "      <td>1996-10-01</td>\n",
       "      <td>1996-06-09</td>\n",
       "      <td>1996.440794</td>\n",
       "      <td>0.017622</td>\n",
       "      <td>MKTIIALSYILCLVFAQKLPGNDNSTATLCLGHHAVPNGTLVKTIT...</td>\n",
       "      <td>0.202467</td>\n",
       "      <td>2164.215332</td>\n",
       "    </tr>\n",
       "  </tbody>\n",
       "</table>\n",
       "</div>"
      ],
      "text/plain": [
       "                strain   timepoint    raw_date      numdate  frequency  \\\n",
       "0    A/Fujian/126/1996  1996-10-01  1996-05-01  1996.334018   0.004375   \n",
       "1    A/Fujian/152/1996  1996-10-01  1996-05-20  1996.386037   0.009079   \n",
       "2    A/Fujian/202/1996  1996-10-01  1996-07-02  1996.503765   0.033065   \n",
       "6     A/Guangxi/9/1996  1996-10-01  1996-04-05  1996.262834   0.001376   \n",
       "7  A/Guangzhou/44/1996  1996-10-01  1996-06-09  1996.440794   0.017622   \n",
       "\n",
       "                                         aa_sequence    random      tsne_1d  \n",
       "0  MKTIIALSYILCLVFAQKLPGNDNSTATLCLGHHAVPNGTLVKTIT...  0.561831 -2230.753418  \n",
       "1  MKTIIALSYILCLVFAQKLPGNDNSTATLCLGHHAVPNGTLVKTIT...  0.421079  2623.712891  \n",
       "2  MKTIIALSYILCLVFAQKLPGNDNSTATLCLGHHAVPNGTLVKTIT...  0.723539 -4065.971191  \n",
       "6  MKTIIALSYILCLVFAQKLPENDNSTATLCLGHHAVPNGTLVKTIT...  0.358226  1954.306152  \n",
       "7  MKTIIALSYILCLVFAQKLPGNDNSTATLCLGHHAVPNGTLVKTIT...  0.202467  2164.215332  "
      ]
     },
     "execution_count": 171,
     "metadata": {},
     "output_type": "execute_result"
    }
   ],
   "source": [
    "df.head()"
   ]
  },
  {
   "cell_type": "code",
   "execution_count": 172,
   "metadata": {},
   "outputs": [
    {
     "data": {
      "text/plain": [
       "[<matplotlib.lines.Line2D at 0x1a2ef5d690>]"
      ]
     },
     "execution_count": 172,
     "metadata": {},
     "output_type": "execute_result"
    },
    {
     "data": {
      "image/png": "[encoded data removed]",
      "text/plain": [
       "<Figure size 432x288 with 1 Axes>"
      ]
     },
     "metadata": {
      "needs_background": "light"
     },
     "output_type": "display_data"
    }
   ],
   "source": [
    "plt.plot(\n",
    "    df[\"numdate\"],\n",
    "    df[\"random\"],\n",
    "    \"o\"\n",
    ")"
   ]
  },
  {
   "cell_type": "code",
   "execution_count": 173,
   "metadata": {},
   "outputs": [
    {
     "data": {
      "text/plain": [
       "[<matplotlib.lines.Line2D at 0x1a2e98f350>]"
      ]
     },
     "execution_count": 173,
     "metadata": {},
     "output_type": "execute_result"
    },
    {
     "data": {
      "image/png": "[encoded data removed]",
      "text/plain": [
       "<Figure size 432x288 with 1 Axes>"
      ]
     },
     "metadata": {
      "needs_background": "light"
     },
     "output_type": "display_data"
    }
   ],
   "source": [
    "plt.plot(\n",
    "    df[\"numdate\"],\n",
    "    df[\"tsne_1d\"],\n",
    "    \"o\"\n",
    ")"
   ]
  },
  {
   "cell_type": "code",
   "execution_count": 174,
   "metadata": {},
   "outputs": [],
   "source": [
    "minimal_df = df.drop(columns=[\"aa_sequence\"])"
   ]
  },
  {
   "cell_type": "code",
   "execution_count": 228,
   "metadata": {},
   "outputs": [],
   "source": [
    "minimal_df = minimal_df.sort_values([\"timepoint\", \"frequency\"])"
   ]
  },
  {
   "cell_type": "code",
   "execution_count": 229,
   "metadata": {},
   "outputs": [],
   "source": [
    "minimal_df[\"timepoint_occurrence\"] = minimal_df.groupby(\"timepoint\")[\"strain\"].cumcount()"
   ]
  },
  {
   "cell_type": "code",
   "execution_count": 230,
   "metadata": {},
   "outputs": [],
   "source": [
    "counts_by_timepoint = minimal_df.groupby(\"timepoint\")[\"strain\"].count().reset_index().rename(columns={\"strain\": \"count\"})"
   ]
  },
  {
   "cell_type": "code",
   "execution_count": 231,
   "metadata": {},
   "outputs": [
    {
     "data": {
      "text/html": [
       "<div>\n",
       "<style scoped>\n",
       "    .dataframe tbody tr th:only-of-type {\n",
       "        vertical-align: middle;\n",
       "    }\n",
       "\n",
       "    .dataframe tbody tr th {\n",
       "        vertical-align: top;\n",
       "    }\n",
       "\n",
       "    .dataframe thead th {\n",
       "        text-align: right;\n",
       "    }\n",
       "</style>\n",
       "<table border=\"1\" class=\"dataframe\">\n",
       "  <thead>\n",
       "    <tr style=\"text-align: right;\">\n",
       "      <th></th>\n",
       "      <th>timepoint</th>\n",
       "      <th>count</th>\n",
       "    </tr>\n",
       "  </thead>\n",
       "  <tbody>\n",
       "    <tr>\n",
       "      <th>0</th>\n",
       "      <td>1996-10-01</td>\n",
       "      <td>31</td>\n",
       "    </tr>\n",
       "    <tr>\n",
       "      <th>1</th>\n",
       "      <td>1997-10-01</td>\n",
       "      <td>39</td>\n",
       "    </tr>\n",
       "  </tbody>\n",
       "</table>\n",
       "</div>"
      ],
      "text/plain": [
       "    timepoint  count\n",
       "0  1996-10-01     31\n",
       "1  1997-10-01     39"
      ]
     },
     "execution_count": 231,
     "metadata": {},
     "output_type": "execute_result"
    }
   ],
   "source": [
    "counts_by_timepoint"
   ]
  },
  {
   "cell_type": "code",
   "execution_count": 232,
   "metadata": {},
   "outputs": [],
   "source": [
    "minimal_df = minimal_df.merge(\n",
    "    counts_by_timepoint,\n",
    "    on=\"timepoint\"\n",
    ")"
   ]
  },
  {
   "cell_type": "code",
   "execution_count": 233,
   "metadata": {},
   "outputs": [],
   "source": [
    "minimal_df[\"y_position\"] = (minimal_df[\"timepoint_occurrence\"]) / minimal_df[\"count\"]"
   ]
  },
  {
   "cell_type": "code",
   "execution_count": 234,
   "metadata": {},
   "outputs": [
    {
     "data": {
      "text/plain": [
       "[<matplotlib.lines.Line2D at 0x1a2f21c190>]"
      ]
     },
     "execution_count": 234,
     "metadata": {},
     "output_type": "execute_result"
    },
    {
     "data": {
      "image/png": "[encoded data removed]",
      "text/plain": [
       "<Figure size 432x288 with 1 Axes>"
      ]
     },
     "metadata": {
      "needs_background": "light"
     },
     "output_type": "display_data"
    }
   ],
   "source": [
    "plt.plot(\n",
    "    minimal_df[\"timepoint\"],\n",
    "    (minimal_df[\"timepoint_occurrence\"]) / minimal_df[\"count\"],\n",
    "    \"o\",\n",
    "    alpha=0.6\n",
    ")"
   ]
  },
  {
   "cell_type": "code",
   "execution_count": 235,
   "metadata": {},
   "outputs": [],
   "source": [
    "minimal_df = minimal_df.drop(columns=[\"count\"])"
   ]
  },
  {
   "cell_type": "markdown",
   "metadata": {},
   "source": [
    "## Join minimal data frame with flow pairs"
   ]
  },
  {
   "cell_type": "code",
   "execution_count": 236,
   "metadata": {},
   "outputs": [
    {
     "data": {
      "text/html": [
       "<div>\n",
       "<style scoped>\n",
       "    .dataframe tbody tr th:only-of-type {\n",
       "        vertical-align: middle;\n",
       "    }\n",
       "\n",
       "    .dataframe tbody tr th {\n",
       "        vertical-align: top;\n",
       "    }\n",
       "\n",
       "    .dataframe thead th {\n",
       "        text-align: right;\n",
       "    }\n",
       "</style>\n",
       "<table border=\"1\" class=\"dataframe\">\n",
       "  <thead>\n",
       "    <tr style=\"text-align: right;\">\n",
       "      <th></th>\n",
       "      <th>strain</th>\n",
       "      <th>timepoint</th>\n",
       "      <th>raw_date</th>\n",
       "      <th>numdate</th>\n",
       "      <th>frequency</th>\n",
       "      <th>random</th>\n",
       "      <th>tsne_1d</th>\n",
       "      <th>timepoint_occurrence</th>\n",
       "      <th>y_position</th>\n",
       "    </tr>\n",
       "  </thead>\n",
       "  <tbody>\n",
       "    <tr>\n",
       "      <th>0</th>\n",
       "      <td>A/NewYork/608/1996</td>\n",
       "      <td>1996-10-01</td>\n",
       "      <td>1996-04-01</td>\n",
       "      <td>1996.251882</td>\n",
       "      <td>0.001133</td>\n",
       "      <td>0.621442</td>\n",
       "      <td>3992.201416</td>\n",
       "      <td>0</td>\n",
       "      <td>0.000000</td>\n",
       "    </tr>\n",
       "    <tr>\n",
       "      <th>1</th>\n",
       "      <td>A/NewYork/652/1996</td>\n",
       "      <td>1996-10-01</td>\n",
       "      <td>1996-04-01</td>\n",
       "      <td>1996.251882</td>\n",
       "      <td>0.001133</td>\n",
       "      <td>0.119385</td>\n",
       "      <td>5583.456055</td>\n",
       "      <td>1</td>\n",
       "      <td>0.032258</td>\n",
       "    </tr>\n",
       "    <tr>\n",
       "      <th>2</th>\n",
       "      <td>A/NewYork/631/1996</td>\n",
       "      <td>1996-10-01</td>\n",
       "      <td>1996-04-04</td>\n",
       "      <td>1996.260096</td>\n",
       "      <td>0.001311</td>\n",
       "      <td>0.704939</td>\n",
       "      <td>-913.826172</td>\n",
       "      <td>2</td>\n",
       "      <td>0.064516</td>\n",
       "    </tr>\n",
       "    <tr>\n",
       "      <th>3</th>\n",
       "      <td>A/Guangxi/9/1996</td>\n",
       "      <td>1996-10-01</td>\n",
       "      <td>1996-04-05</td>\n",
       "      <td>1996.262834</td>\n",
       "      <td>0.001376</td>\n",
       "      <td>0.358226</td>\n",
       "      <td>1954.306152</td>\n",
       "      <td>3</td>\n",
       "      <td>0.096774</td>\n",
       "    </tr>\n",
       "    <tr>\n",
       "      <th>4</th>\n",
       "      <td>A/Guangzhou/9/1996</td>\n",
       "      <td>1996-10-01</td>\n",
       "      <td>1996-04-08</td>\n",
       "      <td>1996.271047</td>\n",
       "      <td>0.001587</td>\n",
       "      <td>0.601287</td>\n",
       "      <td>6627.901367</td>\n",
       "      <td>4</td>\n",
       "      <td>0.129032</td>\n",
       "    </tr>\n",
       "  </tbody>\n",
       "</table>\n",
       "</div>"
      ],
      "text/plain": [
       "               strain   timepoint    raw_date      numdate  frequency  \\\n",
       "0  A/NewYork/608/1996  1996-10-01  1996-04-01  1996.251882   0.001133   \n",
       "1  A/NewYork/652/1996  1996-10-01  1996-04-01  1996.251882   0.001133   \n",
       "2  A/NewYork/631/1996  1996-10-01  1996-04-04  1996.260096   0.001311   \n",
       "3    A/Guangxi/9/1996  1996-10-01  1996-04-05  1996.262834   0.001376   \n",
       "4  A/Guangzhou/9/1996  1996-10-01  1996-04-08  1996.271047   0.001587   \n",
       "\n",
       "     random      tsne_1d  timepoint_occurrence  y_position  \n",
       "0  0.621442  3992.201416                     0    0.000000  \n",
       "1  0.119385  5583.456055                     1    0.032258  \n",
       "2  0.704939  -913.826172                     2    0.064516  \n",
       "3  0.358226  1954.306152                     3    0.096774  \n",
       "4  0.601287  6627.901367                     4    0.129032  "
      ]
     },
     "execution_count": 236,
     "metadata": {},
     "output_type": "execute_result"
    }
   ],
   "source": [
    "minimal_df.head()"
   ]
  },
  {
   "cell_type": "code",
   "execution_count": 237,
   "metadata": {},
   "outputs": [
    {
     "data": {
      "text/html": [
       "<div>\n",
       "<style scoped>\n",
       "    .dataframe tbody tr th:only-of-type {\n",
       "        vertical-align: middle;\n",
       "    }\n",
       "\n",
       "    .dataframe tbody tr th {\n",
       "        vertical-align: top;\n",
       "    }\n",
       "\n",
       "    .dataframe thead th {\n",
       "        text-align: right;\n",
       "    }\n",
       "</style>\n",
       "<table border=\"1\" class=\"dataframe\">\n",
       "  <thead>\n",
       "    <tr style=\"text-align: right;\">\n",
       "      <th></th>\n",
       "      <th>strain</th>\n",
       "      <th>other_strain</th>\n",
       "      <th>flow</th>\n",
       "    </tr>\n",
       "  </thead>\n",
       "  <tbody>\n",
       "    <tr>\n",
       "      <th>0</th>\n",
       "      <td>A/Fujian/126/1996</td>\n",
       "      <td>A/Malaysia/12726/1997</td>\n",
       "      <td>0.004</td>\n",
       "    </tr>\n",
       "    <tr>\n",
       "      <th>1</th>\n",
       "      <td>A/Fujian/152/1996</td>\n",
       "      <td>A/HongKong/CUHK22048/1997</td>\n",
       "      <td>0.008</td>\n",
       "    </tr>\n",
       "    <tr>\n",
       "      <th>2</th>\n",
       "      <td>A/Fujian/152/1996</td>\n",
       "      <td>A/HongKong/CUHK22736/1997</td>\n",
       "      <td>0.001</td>\n",
       "    </tr>\n",
       "    <tr>\n",
       "      <th>3</th>\n",
       "      <td>A/Fujian/202/1996</td>\n",
       "      <td>A/HongKong/CUHK20199/1997</td>\n",
       "      <td>0.016</td>\n",
       "    </tr>\n",
       "    <tr>\n",
       "      <th>4</th>\n",
       "      <td>A/Fujian/202/1996</td>\n",
       "      <td>A/HongKong/CUHK20217/1997</td>\n",
       "      <td>0.014</td>\n",
       "    </tr>\n",
       "  </tbody>\n",
       "</table>\n",
       "</div>"
      ],
      "text/plain": [
       "              strain               other_strain   flow\n",
       "0  A/Fujian/126/1996      A/Malaysia/12726/1997  0.004\n",
       "1  A/Fujian/152/1996  A/HongKong/CUHK22048/1997  0.008\n",
       "2  A/Fujian/152/1996  A/HongKong/CUHK22736/1997  0.001\n",
       "3  A/Fujian/202/1996  A/HongKong/CUHK20199/1997  0.016\n",
       "4  A/Fujian/202/1996  A/HongKong/CUHK20217/1997  0.014"
      ]
     },
     "execution_count": 237,
     "metadata": {},
     "output_type": "execute_result"
    }
   ],
   "source": [
    "flow_df.head()"
   ]
  },
  {
   "cell_type": "code",
   "execution_count": 238,
   "metadata": {},
   "outputs": [],
   "source": [
    "paired_df = minimal_df.merge(\n",
    "    flow_df,\n",
    "    on=\"strain\",\n",
    "    how=\"left\"\n",
    ")"
   ]
  },
  {
   "cell_type": "code",
   "execution_count": 239,
   "metadata": {},
   "outputs": [
    {
     "data": {
      "text/html": [
       "<div>\n",
       "<style scoped>\n",
       "    .dataframe tbody tr th:only-of-type {\n",
       "        vertical-align: middle;\n",
       "    }\n",
       "\n",
       "    .dataframe tbody tr th {\n",
       "        vertical-align: top;\n",
       "    }\n",
       "\n",
       "    .dataframe thead th {\n",
       "        text-align: right;\n",
       "    }\n",
       "</style>\n",
       "<table border=\"1\" class=\"dataframe\">\n",
       "  <thead>\n",
       "    <tr style=\"text-align: right;\">\n",
       "      <th></th>\n",
       "      <th>strain</th>\n",
       "      <th>timepoint</th>\n",
       "      <th>raw_date</th>\n",
       "      <th>numdate</th>\n",
       "      <th>frequency</th>\n",
       "      <th>random</th>\n",
       "      <th>tsne_1d</th>\n",
       "      <th>timepoint_occurrence</th>\n",
       "      <th>y_position</th>\n",
       "      <th>other_strain</th>\n",
       "      <th>flow</th>\n",
       "    </tr>\n",
       "  </thead>\n",
       "  <tbody>\n",
       "    <tr>\n",
       "      <th>0</th>\n",
       "      <td>A/NewYork/608/1996</td>\n",
       "      <td>1996-10-01</td>\n",
       "      <td>1996-04-01</td>\n",
       "      <td>1996.251882</td>\n",
       "      <td>0.001133</td>\n",
       "      <td>0.621442</td>\n",
       "      <td>3992.201416</td>\n",
       "      <td>0</td>\n",
       "      <td>0.000000</td>\n",
       "      <td>A/HongKong/CUHK20010/1997</td>\n",
       "      <td>0.001</td>\n",
       "    </tr>\n",
       "    <tr>\n",
       "      <th>1</th>\n",
       "      <td>A/NewYork/652/1996</td>\n",
       "      <td>1996-10-01</td>\n",
       "      <td>1996-04-01</td>\n",
       "      <td>1996.251882</td>\n",
       "      <td>0.001133</td>\n",
       "      <td>0.119385</td>\n",
       "      <td>5583.456055</td>\n",
       "      <td>1</td>\n",
       "      <td>0.032258</td>\n",
       "      <td>A/HongKong/CUHK20199/1997</td>\n",
       "      <td>0.001</td>\n",
       "    </tr>\n",
       "    <tr>\n",
       "      <th>2</th>\n",
       "      <td>A/NewYork/631/1996</td>\n",
       "      <td>1996-10-01</td>\n",
       "      <td>1996-04-04</td>\n",
       "      <td>1996.260096</td>\n",
       "      <td>0.001311</td>\n",
       "      <td>0.704939</td>\n",
       "      <td>-913.826172</td>\n",
       "      <td>2</td>\n",
       "      <td>0.064516</td>\n",
       "      <td>A/HongKong/CUHK20010/1997</td>\n",
       "      <td>0.001</td>\n",
       "    </tr>\n",
       "    <tr>\n",
       "      <th>3</th>\n",
       "      <td>A/Guangxi/9/1996</td>\n",
       "      <td>1996-10-01</td>\n",
       "      <td>1996-04-05</td>\n",
       "      <td>1996.262834</td>\n",
       "      <td>0.001376</td>\n",
       "      <td>0.358226</td>\n",
       "      <td>1954.306152</td>\n",
       "      <td>3</td>\n",
       "      <td>0.096774</td>\n",
       "      <td>A/HongKong/CUHK4622/1997</td>\n",
       "      <td>0.001</td>\n",
       "    </tr>\n",
       "    <tr>\n",
       "      <th>4</th>\n",
       "      <td>A/Guangzhou/9/1996</td>\n",
       "      <td>1996-10-01</td>\n",
       "      <td>1996-04-08</td>\n",
       "      <td>1996.271047</td>\n",
       "      <td>0.001587</td>\n",
       "      <td>0.601287</td>\n",
       "      <td>6627.901367</td>\n",
       "      <td>4</td>\n",
       "      <td>0.129032</td>\n",
       "      <td>A/HongKong/CUHK20199/1997</td>\n",
       "      <td>0.002</td>\n",
       "    </tr>\n",
       "  </tbody>\n",
       "</table>\n",
       "</div>"
      ],
      "text/plain": [
       "               strain   timepoint    raw_date      numdate  frequency  \\\n",
       "0  A/NewYork/608/1996  1996-10-01  1996-04-01  1996.251882   0.001133   \n",
       "1  A/NewYork/652/1996  1996-10-01  1996-04-01  1996.251882   0.001133   \n",
       "2  A/NewYork/631/1996  1996-10-01  1996-04-04  1996.260096   0.001311   \n",
       "3    A/Guangxi/9/1996  1996-10-01  1996-04-05  1996.262834   0.001376   \n",
       "4  A/Guangzhou/9/1996  1996-10-01  1996-04-08  1996.271047   0.001587   \n",
       "\n",
       "     random      tsne_1d  timepoint_occurrence  y_position  \\\n",
       "0  0.621442  3992.201416                     0    0.000000   \n",
       "1  0.119385  5583.456055                     1    0.032258   \n",
       "2  0.704939  -913.826172                     2    0.064516   \n",
       "3  0.358226  1954.306152                     3    0.096774   \n",
       "4  0.601287  6627.901367                     4    0.129032   \n",
       "\n",
       "                other_strain   flow  \n",
       "0  A/HongKong/CUHK20010/1997  0.001  \n",
       "1  A/HongKong/CUHK20199/1997  0.001  \n",
       "2  A/HongKong/CUHK20010/1997  0.001  \n",
       "3   A/HongKong/CUHK4622/1997  0.001  \n",
       "4  A/HongKong/CUHK20199/1997  0.002  "
      ]
     },
     "execution_count": 239,
     "metadata": {},
     "output_type": "execute_result"
    }
   ],
   "source": [
    "paired_df.head()"
   ]
  },
  {
   "cell_type": "code",
   "execution_count": 240,
   "metadata": {},
   "outputs": [],
   "source": [
    "full_df = paired_df.merge(\n",
    "    minimal_df,\n",
    "    left_on=\"other_strain\",\n",
    "    right_on=\"strain\",\n",
    "    suffixes=[\"\", \"_other\"],\n",
    "    how=\"left\"\n",
    ")"
   ]
  },
  {
   "cell_type": "code",
   "execution_count": 241,
   "metadata": {},
   "outputs": [],
   "source": [
    "full_df = np.round(full_df, 4)"
   ]
  },
  {
   "cell_type": "code",
   "execution_count": 242,
   "metadata": {},
   "outputs": [],
   "source": [
    "full_df[\"strain_occurrence\"] = full_df.groupby(\"strain\")[\"strain\"].cumcount()"
   ]
  },
  {
   "cell_type": "code",
   "execution_count": 243,
   "metadata": {},
   "outputs": [
    {
     "data": {
      "text/html": [
       "<div>\n",
       "<style scoped>\n",
       "    .dataframe tbody tr th:only-of-type {\n",
       "        vertical-align: middle;\n",
       "    }\n",
       "\n",
       "    .dataframe tbody tr th {\n",
       "        vertical-align: top;\n",
       "    }\n",
       "\n",
       "    .dataframe thead th {\n",
       "        text-align: right;\n",
       "    }\n",
       "</style>\n",
       "<table border=\"1\" class=\"dataframe\">\n",
       "  <thead>\n",
       "    <tr style=\"text-align: right;\">\n",
       "      <th></th>\n",
       "      <th>strain</th>\n",
       "      <th>timepoint</th>\n",
       "      <th>raw_date</th>\n",
       "      <th>numdate</th>\n",
       "      <th>frequency</th>\n",
       "      <th>random</th>\n",
       "      <th>tsne_1d</th>\n",
       "      <th>timepoint_occurrence</th>\n",
       "      <th>y_position</th>\n",
       "      <th>other_strain</th>\n",
       "      <th>...</th>\n",
       "      <th>strain_other</th>\n",
       "      <th>timepoint_other</th>\n",
       "      <th>raw_date_other</th>\n",
       "      <th>numdate_other</th>\n",
       "      <th>frequency_other</th>\n",
       "      <th>random_other</th>\n",
       "      <th>tsne_1d_other</th>\n",
       "      <th>timepoint_occurrence_other</th>\n",
       "      <th>y_position_other</th>\n",
       "      <th>strain_occurrence</th>\n",
       "    </tr>\n",
       "  </thead>\n",
       "  <tbody>\n",
       "    <tr>\n",
       "      <th>0</th>\n",
       "      <td>A/NewYork/608/1996</td>\n",
       "      <td>1996-10-01</td>\n",
       "      <td>1996-04-01</td>\n",
       "      <td>1996.2519</td>\n",
       "      <td>0.0011</td>\n",
       "      <td>0.6214</td>\n",
       "      <td>3992.201660</td>\n",
       "      <td>0</td>\n",
       "      <td>0.0000</td>\n",
       "      <td>A/HongKong/CUHK20010/1997</td>\n",
       "      <td>...</td>\n",
       "      <td>A/HongKong/CUHK20010/1997</td>\n",
       "      <td>1997-10-01</td>\n",
       "      <td>1997-06-19</td>\n",
       "      <td>1997.4654</td>\n",
       "      <td>0.0153</td>\n",
       "      <td>0.6568</td>\n",
       "      <td>7087.107422</td>\n",
       "      <td>12.0</td>\n",
       "      <td>0.3077</td>\n",
       "      <td>0</td>\n",
       "    </tr>\n",
       "    <tr>\n",
       "      <th>1</th>\n",
       "      <td>A/NewYork/652/1996</td>\n",
       "      <td>1996-10-01</td>\n",
       "      <td>1996-04-01</td>\n",
       "      <td>1996.2519</td>\n",
       "      <td>0.0011</td>\n",
       "      <td>0.1194</td>\n",
       "      <td>5583.456055</td>\n",
       "      <td>1</td>\n",
       "      <td>0.0323</td>\n",
       "      <td>A/HongKong/CUHK20199/1997</td>\n",
       "      <td>...</td>\n",
       "      <td>A/HongKong/CUHK20199/1997</td>\n",
       "      <td>1997-10-01</td>\n",
       "      <td>1997-07-03</td>\n",
       "      <td>1997.5038</td>\n",
       "      <td>0.0220</td>\n",
       "      <td>0.6782</td>\n",
       "      <td>-6265.848145</td>\n",
       "      <td>17.0</td>\n",
       "      <td>0.4359</td>\n",
       "      <td>0</td>\n",
       "    </tr>\n",
       "    <tr>\n",
       "      <th>2</th>\n",
       "      <td>A/NewYork/631/1996</td>\n",
       "      <td>1996-10-01</td>\n",
       "      <td>1996-04-04</td>\n",
       "      <td>1996.2601</td>\n",
       "      <td>0.0013</td>\n",
       "      <td>0.7049</td>\n",
       "      <td>-913.826172</td>\n",
       "      <td>2</td>\n",
       "      <td>0.0645</td>\n",
       "      <td>A/HongKong/CUHK20010/1997</td>\n",
       "      <td>...</td>\n",
       "      <td>A/HongKong/CUHK20010/1997</td>\n",
       "      <td>1997-10-01</td>\n",
       "      <td>1997-06-19</td>\n",
       "      <td>1997.4654</td>\n",
       "      <td>0.0153</td>\n",
       "      <td>0.6568</td>\n",
       "      <td>7087.107422</td>\n",
       "      <td>12.0</td>\n",
       "      <td>0.3077</td>\n",
       "      <td>0</td>\n",
       "    </tr>\n",
       "    <tr>\n",
       "      <th>3</th>\n",
       "      <td>A/Guangxi/9/1996</td>\n",
       "      <td>1996-10-01</td>\n",
       "      <td>1996-04-05</td>\n",
       "      <td>1996.2628</td>\n",
       "      <td>0.0014</td>\n",
       "      <td>0.3582</td>\n",
       "      <td>1954.306152</td>\n",
       "      <td>3</td>\n",
       "      <td>0.0968</td>\n",
       "      <td>A/HongKong/CUHK4622/1997</td>\n",
       "      <td>...</td>\n",
       "      <td>A/HongKong/CUHK4622/1997</td>\n",
       "      <td>1997-10-01</td>\n",
       "      <td>1997-04-08</td>\n",
       "      <td>1997.2683</td>\n",
       "      <td>0.0010</td>\n",
       "      <td>0.5114</td>\n",
       "      <td>-6861.476074</td>\n",
       "      <td>0.0</td>\n",
       "      <td>0.0000</td>\n",
       "      <td>0</td>\n",
       "    </tr>\n",
       "    <tr>\n",
       "      <th>4</th>\n",
       "      <td>A/Guangzhou/9/1996</td>\n",
       "      <td>1996-10-01</td>\n",
       "      <td>1996-04-08</td>\n",
       "      <td>1996.2710</td>\n",
       "      <td>0.0016</td>\n",
       "      <td>0.6013</td>\n",
       "      <td>6627.901367</td>\n",
       "      <td>4</td>\n",
       "      <td>0.1290</td>\n",
       "      <td>A/HongKong/CUHK20199/1997</td>\n",
       "      <td>...</td>\n",
       "      <td>A/HongKong/CUHK20199/1997</td>\n",
       "      <td>1997-10-01</td>\n",
       "      <td>1997-07-03</td>\n",
       "      <td>1997.5038</td>\n",
       "      <td>0.0220</td>\n",
       "      <td>0.6782</td>\n",
       "      <td>-6265.848145</td>\n",
       "      <td>17.0</td>\n",
       "      <td>0.4359</td>\n",
       "      <td>0</td>\n",
       "    </tr>\n",
       "  </tbody>\n",
       "</table>\n",
       "<p>5 rows × 21 columns</p>\n",
       "</div>"
      ],
      "text/plain": [
       "               strain   timepoint    raw_date    numdate  frequency  random  \\\n",
       "0  A/NewYork/608/1996  1996-10-01  1996-04-01  1996.2519     0.0011  0.6214   \n",
       "1  A/NewYork/652/1996  1996-10-01  1996-04-01  1996.2519     0.0011  0.1194   \n",
       "2  A/NewYork/631/1996  1996-10-01  1996-04-04  1996.2601     0.0013  0.7049   \n",
       "3    A/Guangxi/9/1996  1996-10-01  1996-04-05  1996.2628     0.0014  0.3582   \n",
       "4  A/Guangzhou/9/1996  1996-10-01  1996-04-08  1996.2710     0.0016  0.6013   \n",
       "\n",
       "       tsne_1d  timepoint_occurrence  y_position               other_strain  \\\n",
       "0  3992.201660                     0      0.0000  A/HongKong/CUHK20010/1997   \n",
       "1  5583.456055                     1      0.0323  A/HongKong/CUHK20199/1997   \n",
       "2  -913.826172                     2      0.0645  A/HongKong/CUHK20010/1997   \n",
       "3  1954.306152                     3      0.0968   A/HongKong/CUHK4622/1997   \n",
       "4  6627.901367                     4      0.1290  A/HongKong/CUHK20199/1997   \n",
       "\n",
       "   ...               strain_other timepoint_other raw_date_other  \\\n",
       "0  ...  A/HongKong/CUHK20010/1997      1997-10-01     1997-06-19   \n",
       "1  ...  A/HongKong/CUHK20199/1997      1997-10-01     1997-07-03   \n",
       "2  ...  A/HongKong/CUHK20010/1997      1997-10-01     1997-06-19   \n",
       "3  ...   A/HongKong/CUHK4622/1997      1997-10-01     1997-04-08   \n",
       "4  ...  A/HongKong/CUHK20199/1997      1997-10-01     1997-07-03   \n",
       "\n",
       "  numdate_other  frequency_other  random_other  tsne_1d_other  \\\n",
       "0     1997.4654           0.0153        0.6568    7087.107422   \n",
       "1     1997.5038           0.0220        0.6782   -6265.848145   \n",
       "2     1997.4654           0.0153        0.6568    7087.107422   \n",
       "3     1997.2683           0.0010        0.5114   -6861.476074   \n",
       "4     1997.5038           0.0220        0.6782   -6265.848145   \n",
       "\n",
       "   timepoint_occurrence_other  y_position_other  strain_occurrence  \n",
       "0                        12.0            0.3077                  0  \n",
       "1                        17.0            0.4359                  0  \n",
       "2                        12.0            0.3077                  0  \n",
       "3                         0.0            0.0000                  0  \n",
       "4                        17.0            0.4359                  0  \n",
       "\n",
       "[5 rows x 21 columns]"
      ]
     },
     "execution_count": 243,
     "metadata": {},
     "output_type": "execute_result"
    }
   ],
   "source": [
    "full_df.head()"
   ]
  },
  {
   "cell_type": "code",
   "execution_count": 244,
   "metadata": {},
   "outputs": [
    {
     "data": {
      "text/html": [
       "<div>\n",
       "<style scoped>\n",
       "    .dataframe tbody tr th:only-of-type {\n",
       "        vertical-align: middle;\n",
       "    }\n",
       "\n",
       "    .dataframe tbody tr th {\n",
       "        vertical-align: top;\n",
       "    }\n",
       "\n",
       "    .dataframe thead th {\n",
       "        text-align: right;\n",
       "    }\n",
       "</style>\n",
       "<table border=\"1\" class=\"dataframe\">\n",
       "  <thead>\n",
       "    <tr style=\"text-align: right;\">\n",
       "      <th></th>\n",
       "      <th>strain</th>\n",
       "      <th>timepoint</th>\n",
       "      <th>raw_date</th>\n",
       "      <th>numdate</th>\n",
       "      <th>frequency</th>\n",
       "      <th>random</th>\n",
       "      <th>tsne_1d</th>\n",
       "      <th>timepoint_occurrence</th>\n",
       "      <th>y_position</th>\n",
       "      <th>other_strain</th>\n",
       "      <th>...</th>\n",
       "      <th>strain_other</th>\n",
       "      <th>timepoint_other</th>\n",
       "      <th>raw_date_other</th>\n",
       "      <th>numdate_other</th>\n",
       "      <th>frequency_other</th>\n",
       "      <th>random_other</th>\n",
       "      <th>tsne_1d_other</th>\n",
       "      <th>timepoint_occurrence_other</th>\n",
       "      <th>y_position_other</th>\n",
       "      <th>strain_occurrence</th>\n",
       "    </tr>\n",
       "  </thead>\n",
       "  <tbody>\n",
       "  </tbody>\n",
       "</table>\n",
       "<p>0 rows × 21 columns</p>\n",
       "</div>"
      ],
      "text/plain": [
       "Empty DataFrame\n",
       "Columns: [strain, timepoint, raw_date, numdate, frequency, random, tsne_1d, timepoint_occurrence, y_position, other_strain, flow, strain_other, timepoint_other, raw_date_other, numdate_other, frequency_other, random_other, tsne_1d_other, timepoint_occurrence_other, y_position_other, strain_occurrence]\n",
       "Index: []\n",
       "\n",
       "[0 rows x 21 columns]"
      ]
     },
     "execution_count": 244,
     "metadata": {},
     "output_type": "execute_result"
    }
   ],
   "source": [
    "full_df[full_df[\"flow\"] == 0]"
   ]
  },
  {
   "cell_type": "code",
   "execution_count": 245,
   "metadata": {},
   "outputs": [],
   "source": [
    "full_df.to_csv(\n",
    "    \"../results/emd_example.csv\",\n",
    "    sep=\",\",\n",
    "    index=False,\n",
    "    header=True\n",
    ")"
   ]
  },
  {
   "cell_type": "code",
   "execution_count": null,
   "metadata": {},
   "outputs": [],
   "source": []
  }
 ],
 "metadata": {
  "kernelspec": {
   "display_name": "Python 3",
   "language": "python",
   "name": "python3"
  },
  "language_info": {
   "codemirror_mode": {
    "name": "ipython",
    "version": 3
   },
   "file_extension": ".py",
   "mimetype": "text/x-python",
   "name": "python",
   "nbconvert_exporter": "python",
   "pygments_lexer": "ipython3",
   "version": "3.7.9"
  }
 },
 "nbformat": 4,
 "nbformat_minor": 4
}
