{
 "cells": [
  {
   "cell_type": "markdown",
   "metadata": {},
   "outputs": [],
   "source": [
    "# Figure 8. Compare vaccine strains to estimated and observed closest strains to the future\n",
    "\n",
    "Observed distance to natural H3N2 populations one year into the future for each vaccine strain (green) and the observed (blue) and estimated (orange) closest strains to the future at the corresponding timepoints. Vaccine strains were assigned to the validation or test timepoint closest to the date they were selected by the WHO. The distance to the future of each vaccine strain was calculated from their amino acid sequences and the frequencies and sequences of the corresponding population one year in the future. The estimated closest strain to the future was identified by either the best model in the validation period (mutational load and LBI) or the best model in the test period\n",
    "(HI antigenic novelty and mutational load)."
   ]
  },
  {
   "cell_type": "code",
   "execution_count": null,
   "metadata": {},
   "outputs": [],
   "source": [
    "validation_tip_attributes_path = snakemake.input.validation_tip_attributes\n",
    "test_tip_attributes_path = snakemake.input.test_tip_attributes\n",
    "\n",
    "cTiter_x_ne_star_validation_forecasts_path = snakemake.input.cTiter_x_ne_star_validation_forecasts_path\n",
    "ne_star_lbi_validation_forecasts_path = snakemake.input.ne_star_lbi_validation_forecasts_path\n",
    "\n",
    "cTiter_x_ne_star_test_forecasts_path = snakemake.input.cTiter_x_ne_star_test_forecasts_path\n",
    "ne_star_lbi_test_forecasts_path = snakemake.input.ne_star_lbi_test_forecasts_path\n",
    "\n",
    "vaccines_json_path = snakemake.input.vaccines_json_path\n",
    "\n",
    "output_figure = snakemake.output.figure"
   ]
  },
  {
   "cell_type": "code",
   "execution_count": null,
   "metadata": {},
   "outputs": [],
   "source": [
    "\"\"\"\n",
    "validation_tip_attributes_path = \"../results/builds/natural/natural_sample_1_with_90_vpm_sliding/tip_attributes_with_weighted_distances.tsv\"\n",
    "validation_forecasts_path = \"../results/builds/natural/natural_sample_1_with_90_vpm_sliding/forecasts.tsv\"\n",
    "\n",
    "test_tip_attributes_path = \"../results/builds/natural/natural_sample_1_with_90_vpm_sliding_test_tree/tip_attributes_with_weighted_distances.tsv\"\n",
    "test_forecasts_path = \"../results/builds/natural/natural_sample_1_with_90_vpm_sliding_test_tree/forecasts.tsv\"\n",
    "\n",
    "vaccines_json_path = \"../config/vaccines_h3n2.json\"\n",
    "\n",
    "output_figure = \"../manuscript/figures/vaccine-comparison.pdf\"\n",
    "\"\"\""
   ]
  },
  {
   "cell_type": "code",
   "execution_count": null,
   "metadata": {},
   "outputs": [],
   "source": [
    "import json\n",
    "import matplotlib as mpl\n",
    "import matplotlib.pyplot as plt\n",
    "import matplotlib.gridspec as gridspec\n",
    "import numpy as np\n",
    "import pandas as pd\n",
    "from pandas.plotting import register_matplotlib_converters\n",
    "from scipy.stats import pearsonr, spearmanr, probplot, linregress\n",
    "import seaborn as sns\n",
    "import statsmodels.api as sm\n",
    "\n",
    "%matplotlib inline"
   ]
  },
  {
   "cell_type": "code",
   "execution_count": null,
   "metadata": {},
   "outputs": [],
   "source": [
    "register_matplotlib_converters()"
   ]
  },
  {
   "cell_type": "code",
   "execution_count": null,
   "metadata": {},
   "outputs": [],
   "source": [
    "first_validation_timepoint = \"2003-10-01\""
   ]
  },
  {
   "cell_type": "code",
   "execution_count": null,
   "metadata": {},
   "outputs": [],
   "source": [
    "sns.set_style(\"ticks\")"
   ]
  },
  {
   "cell_type": "code",
   "execution_count": null,
   "metadata": {},
   "outputs": [],
   "source": [
    "# Display figures at a reasonable default size.\n",
    "mpl.rcParams['figure.figsize'] = (6, 4)\n",
    "\n",
    "# Disable top and right spines.\n",
    "mpl.rcParams['axes.spines.top'] = False\n",
    "mpl.rcParams['axes.spines.right'] = False\n",
    "    \n",
    "# Display and save figures at higher resolution for presentations and manuscripts.\n",
    "mpl.rcParams['savefig.dpi'] = 200\n",
    "mpl.rcParams['figure.dpi'] = 200\n",
    "\n",
    "# Display text at sizes large enough for presentations and manuscripts.\n",
    "mpl.rcParams['font.weight'] = \"normal\"\n",
    "mpl.rcParams['axes.labelweight'] = \"normal\"\n",
    "mpl.rcParams['font.size'] = 18\n",
    "mpl.rcParams['axes.labelsize'] = 14\n",
    "mpl.rcParams['legend.fontsize'] = 12\n",
    "mpl.rcParams['xtick.labelsize'] = 14\n",
    "mpl.rcParams['ytick.labelsize'] = 14\n",
    "\n",
    "mpl.rc('text', usetex=False)"
   ]
  },
  {
   "cell_type": "markdown",
   "metadata": {},
   "outputs": [],
   "source": [
    "## Define functions"
   ]
  },
  {
   "cell_type": "code",
   "execution_count": null,
   "metadata": {},
   "outputs": [],
   "source": [
    "def calculate_weighted_distance_between_pairs(row):\n",
    "    distance = (\n",
    "        np.frombuffer(row[\"aa_sequence\"].encode(), dtype=\"S1\") !=\n",
    "        np.frombuffer(row[\"aa_sequence_future\"].encode(), dtype=\"S1\")\n",
    "    ).sum()\n",
    "    return row[\"frequency\"] * distance\n",
    "\n",
    "def calculate_weighted_distance_by_group(group_df):\n",
    "    return group_df.apply(calculate_weighted_distance_between_pairs, axis=1).sum()"
   ]
  },
  {
   "cell_type": "markdown",
   "metadata": {},
   "outputs": [],
   "source": [
    "## Load tip attributes with sequences\n",
    "\n",
    "For each timepoint, find distinct sequences that will be used to calculate distances to the future."
   ]
  },
  {
   "cell_type": "code",
   "execution_count": null,
   "metadata": {},
   "outputs": [],
   "source": [
    "validation_tips_with_sequence = pd.read_csv(\n",
    "    validation_tip_attributes_path,\n",
    "    sep=\"\\t\",\n",
    "    parse_dates=[\"timepoint\"],\n",
    "    usecols=[\"strain\", \"timepoint\", \"frequency\", \"aa_sequence\"]\n",
    ")"
   ]
  },
  {
   "cell_type": "code",
   "execution_count": null,
   "metadata": {},
   "outputs": [],
   "source": [
    "test_tips_with_sequence = pd.read_csv(\n",
    "    test_tip_attributes_path,\n",
    "    sep=\"\\t\",\n",
    "    parse_dates=[\"timepoint\"],\n",
    "    usecols=[\"strain\", \"timepoint\", \"frequency\", \"aa_sequence\"]\n",
    ")"
   ]
  },
  {
   "cell_type": "code",
   "execution_count": null,
   "metadata": {},
   "outputs": [],
   "source": [
    "# Retain only validation tips whose timepoints occur prior to the first\n",
    "# test timepoint. This prevents us from using too many tips from overlapping\n",
    "# timepoints between validation and test periods.\n",
    "validation_tips_with_sequence = validation_tips_with_sequence[\n",
    "    (validation_tips_with_sequence[\"timepoint\"] < test_tips_with_sequence[\"timepoint\"].min()) &\n",
    "    (validation_tips_with_sequence[\"timepoint\"] >= first_validation_timepoint)\n",
    "].copy()"
   ]
  },
  {
   "cell_type": "code",
   "execution_count": null,
   "metadata": {},
   "outputs": [],
   "source": [
    "last_validation_timepoint = validation_tips_with_sequence[\"timepoint\"].max()"
   ]
  },
  {
   "cell_type": "code",
   "execution_count": null,
   "metadata": {},
   "outputs": [],
   "source": [
    "last_validation_timepoint"
   ]
  },
  {
   "cell_type": "code",
   "execution_count": null,
   "metadata": {},
   "outputs": [],
   "source": [
    "distinct_validation_tips_with_sequence = validation_tips_with_sequence.groupby(\n",
    "    [\"timepoint\", \"aa_sequence\"]\n",
    ").first().reset_index()"
   ]
  },
  {
   "cell_type": "code",
   "execution_count": null,
   "metadata": {},
   "outputs": [],
   "source": [
    "distinct_test_tips_with_sequence = test_tips_with_sequence.groupby(\n",
    "    [\"timepoint\", \"aa_sequence\"]\n",
    ").first().reset_index()"
   ]
  },
  {
   "cell_type": "code",
   "execution_count": null,
   "metadata": {},
   "outputs": [],
   "source": [
    "tips_with_sequence = pd.concat([validation_tips_with_sequence, test_tips_with_sequence])"
   ]
  },
  {
   "cell_type": "code",
   "execution_count": null,
   "metadata": {},
   "outputs": [],
   "source": [
    "distinct_tips_with_sequence = pd.concat([distinct_validation_tips_with_sequence, distinct_test_tips_with_sequence])"
   ]
  },
  {
   "cell_type": "markdown",
   "metadata": {},
   "outputs": [],
   "source": [
    "## Load vaccine strain data\n",
    "\n",
    "Load information about vaccine strains including their names, amino acid sequences, and the timepoint in our analysis when they were selected for the vaccine. These latter timepoints constrain the timepoints we consider in the analyses that follow."
   ]
  },
  {
   "cell_type": "code",
   "execution_count": null,
   "metadata": {},
   "outputs": [],
   "source": [
    "with open(vaccines_json_path, \"r\") as fh:\n",
    "    vaccines_json = json.load(fh)"
   ]
  },
  {
   "cell_type": "code",
   "execution_count": null,
   "metadata": {},
   "outputs": [],
   "source": [
    "vaccine_df = pd.DataFrame([\n",
    "    {\n",
    "        \"strain_type\": \"vaccine\",\n",
    "        \"strain\": vaccine,\n",
    "        \"timepoint\": vaccine_data[\"vaccine\"][\"timepoint\"],\n",
    "        \"aa_sequence\": vaccine_data[\"aa_sequence\"]\n",
    "    }\n",
    "    for vaccine, vaccine_data in vaccines_json[\"nodes\"].items()\n",
    "])\n",
    "vaccine_df[\"timepoint\"] = pd.to_datetime(vaccine_df[\"timepoint\"])\n",
    "vaccine_df[\"future_timepoint\"] = vaccine_df[\"timepoint\"] + pd.DateOffset(months=12)"
   ]
  },
  {
   "cell_type": "code",
   "execution_count": null,
   "metadata": {},
   "outputs": [],
   "source": [
    "# Find all tips with sequences at the future timepoint for each vaccine strain.\n",
    "tips_for_vaccines_df = vaccine_df.merge(\n",
    "    tips_with_sequence,\n",
    "    left_on=[\"future_timepoint\"],\n",
    "    right_on=[\"timepoint\"],\n",
    "    suffixes=[\"\", \"_future\"]\n",
    ")"
   ]
  },
  {
   "cell_type": "code",
   "execution_count": null,
   "metadata": {},
   "outputs": [],
   "source": [
    "vaccine_distance_to_future = tips_for_vaccines_df.groupby(\"timepoint\").apply(\n",
    "    calculate_weighted_distance_by_group\n",
    ").reset_index(name=\"distance_to_future\")"
   ]
  },
  {
   "cell_type": "code",
   "execution_count": null,
   "metadata": {},
   "outputs": [],
   "source": [
    "vaccine_forecasts = vaccine_df.merge(\n",
    "    vaccine_distance_to_future,\n",
    "    on=\"timepoint\"\n",
    ").loc[:, [\"strain_type\", \"strain\", \"timepoint\", \"future_timepoint\", \"distance_to_future\"]]"
   ]
  },
  {
   "cell_type": "code",
   "execution_count": null,
   "metadata": {},
   "outputs": [],
   "source": [
    "vaccine_forecasts"
   ]
  },
  {
   "cell_type": "markdown",
   "metadata": {},
   "outputs": [],
   "source": [
    "## Load forecasts from models"
   ]
  },
  {
   "cell_type": "markdown",
   "metadata": {},
   "outputs": [],
   "source": [
    "### Load forecasts from mutational load and LBI model"
   ]
  },
  {
   "cell_type": "code",
   "execution_count": null,
   "metadata": {},
   "outputs": [],
   "source": [
    "ne_star_lbi_validation_forecasts = pd.read_csv(\n",
    "    ne_star_lbi_validation_forecasts_path,\n",
    "    sep=\"\\t\",\n",
    "    parse_dates=[\"timepoint\", \"future_timepoint\"]\n",
    ")"
   ]
  },
  {
   "cell_type": "code",
   "execution_count": null,
   "metadata": {},
   "outputs": [],
   "source": [
    "ne_star_lbi_validation_forecasts = ne_star_lbi_validation_forecasts.query(\n",
    "    \"timepoint >= '%s'\" % first_validation_timepoint\n",
    ").dropna().copy()"
   ]
  },
  {
   "cell_type": "code",
   "execution_count": null,
   "metadata": {},
   "outputs": [],
   "source": [
    "ne_star_lbi_test_forecasts = pd.read_csv(\n",
    "    ne_star_lbi_test_forecasts_path,\n",
    "    sep=\"\\t\",\n",
    "    parse_dates=[\"timepoint\", \"future_timepoint\"]\n",
    ").dropna()"
   ]
  },
  {
   "cell_type": "code",
   "execution_count": null,
   "metadata": {},
   "outputs": [],
   "source": [
    "ne_star_lbi_forecasts = pd.concat([\n",
    "    ne_star_lbi_validation_forecasts,\n",
    "    ne_star_lbi_test_forecasts\n",
    "])\n",
    "ne_star_lbi_forecasts = ne_star_lbi_forecasts[\n",
    "    ne_star_lbi_forecasts[\"timepoint\"].isin(vaccine_forecasts[\"timepoint\"])\n",
    "].copy()"
   ]
  },
  {
   "cell_type": "markdown",
   "metadata": {},
   "outputs": [],
   "source": [
    "### Load forecasts from HI antigenic novelty and mutational load model"
   ]
  },
  {
   "cell_type": "code",
   "execution_count": null,
   "metadata": {},
   "outputs": [],
   "source": [
    "cTiter_x_ne_star_validation_forecasts = pd.read_csv(\n",
    "    cTiter_x_ne_star_validation_forecasts_path,\n",
    "    sep=\"\\t\",\n",
    "    parse_dates=[\"timepoint\", \"future_timepoint\"]\n",
    ")"
   ]
  },
  {
   "cell_type": "code",
   "execution_count": null,
   "metadata": {},
   "outputs": [],
   "source": [
    "cTiter_x_ne_star_validation_forecasts = cTiter_x_ne_star_validation_forecasts.query(\n",
    "    \"timepoint >= '%s'\" % first_validation_timepoint\n",
    ").dropna().copy()"
   ]
  },
  {
   "cell_type": "code",
   "execution_count": null,
   "metadata": {},
   "outputs": [],
   "source": [
    "cTiter_x_ne_star_test_forecasts = pd.read_csv(\n",
    "    cTiter_x_ne_star_test_forecasts_path,\n",
    "    sep=\"\\t\",\n",
    "    parse_dates=[\"timepoint\", \"future_timepoint\"]\n",
    ").dropna()"
   ]
  },
  {
   "cell_type": "code",
   "execution_count": null,
   "metadata": {},
   "outputs": [],
   "source": [
    "cTiter_x_ne_star_forecasts = pd.concat([\n",
    "    cTiter_x_ne_star_validation_forecasts,\n",
    "    cTiter_x_ne_star_test_forecasts\n",
    "])\n",
    "cTiter_x_ne_star_forecasts = cTiter_x_ne_star_forecasts[\n",
    "    cTiter_x_ne_star_forecasts[\"timepoint\"].isin(vaccine_forecasts[\"timepoint\"])\n",
    "].copy()"
   ]
  },
  {
   "cell_type": "markdown",
   "metadata": {},
   "outputs": [],
   "source": [
    "## Identify observed closest strains to the future\n",
    "\n",
    "Use strains from forecast models with annotated weighted distances to the future to find observed closest strains to the future per timepoint with a vaccine."
   ]
  },
  {
   "cell_type": "code",
   "execution_count": null,
   "metadata": {},
   "outputs": [],
   "source": [
    "combined_forecasts = pd.concat([\n",
    "    ne_star_lbi_forecasts,\n",
    "    cTiter_x_ne_star_forecasts\n",
    "])"
   ]
  },
  {
   "cell_type": "code",
   "execution_count": null,
   "metadata": {},
   "outputs": [],
   "source": [
    "observed_closest_strains = combined_forecasts.sort_values([\"timepoint\", \"weighted_distance_to_future\"]).groupby(\n",
    "    \"timepoint\"\n",
    ").first().reset_index().loc[:, [\"timepoint\", \"future_timepoint\", \"strain\", \"weighted_distance_to_future\"]]\n",
    "observed_closest_strains[\"strain_type\"] = \"observed closest\"\n",
    "observed_closest_strains = observed_closest_strains.rename(\n",
    "    columns={\"weighted_distance_to_future\": \"distance_to_future\"}\n",
    ")"
   ]
  },
  {
   "cell_type": "code",
   "execution_count": null,
   "metadata": {},
   "outputs": [],
   "source": [
    "observed_closest_strains"
   ]
  },
  {
   "cell_type": "markdown",
   "metadata": {},
   "outputs": [],
   "source": [
    "## Identify estimated closest strains to the future by model\n",
    "\n",
    "Use strains from forecast models with annotated weighted distances to the future to find estimated closest strains to the future per timepoint with a vaccine."
   ]
  },
  {
   "cell_type": "markdown",
   "metadata": {},
   "outputs": [],
   "source": [
    "### Identify estimated closest strains to the future by mutational load and LBI"
   ]
  },
  {
   "cell_type": "code",
   "execution_count": null,
   "metadata": {},
   "outputs": [],
   "source": [
    "estimated_closest_strains_by_ne_star_lbi = ne_star_lbi_forecasts.sort_values(\n",
    "    [\"timepoint\", \"y\"]\n",
    ").groupby(\n",
    "    \"timepoint\"\n",
    ").first().reset_index().loc[:, [\"timepoint\", \"future_timepoint\", \"strain\", \"weighted_distance_to_future\"]]\n",
    "estimated_closest_strains_by_ne_star_lbi[\"strain_type\"] = \"estimated closest by ne_star-lbi\"\n",
    "estimated_closest_strains_by_ne_star_lbi = estimated_closest_strains_by_ne_star_lbi.rename(\n",
    "    columns={\"weighted_distance_to_future\": \"distance_to_future\"}\n",
    ")"
   ]
  },
  {
   "cell_type": "code",
   "execution_count": null,
   "metadata": {},
   "outputs": [],
   "source": [
    "estimated_closest_strains_by_ne_star_lbi"
   ]
  },
  {
   "cell_type": "markdown",
   "metadata": {},
   "outputs": [],
   "source": [
    "### Identify estimated closest strains to the future by HI antigenic novelty and mutational load"
   ]
  },
  {
   "cell_type": "code",
   "execution_count": null,
   "metadata": {},
   "outputs": [],
   "source": [
    "estimated_closest_strains_by_cTiter_x_ne_star = cTiter_x_ne_star_forecasts.sort_values(\n",
    "    [\"timepoint\", \"y\"]\n",
    ").groupby(\n",
    "    \"timepoint\"\n",
    ").first().reset_index().loc[:, [\"timepoint\", \"future_timepoint\", \"strain\", \"weighted_distance_to_future\"]]\n",
    "estimated_closest_strains_by_cTiter_x_ne_star[\"strain_type\"] = \"estimated closest by cTiter_x-ne_star\"\n",
    "estimated_closest_strains_by_cTiter_x_ne_star = estimated_closest_strains_by_cTiter_x_ne_star.rename(\n",
    "    columns={\"weighted_distance_to_future\": \"distance_to_future\"}\n",
    ")"
   ]
  },
  {
   "cell_type": "code",
   "execution_count": null,
   "metadata": {},
   "outputs": [],
   "source": [
    "estimated_closest_strains_by_cTiter_x_ne_star"
   ]
  },
  {
   "cell_type": "markdown",
   "metadata": {},
   "outputs": [],
   "source": [
    "## Calculate mean log2 titer distance to the future per strain\n",
    "\n",
    "For each of the strains in each strain type collected above (vaccine, observed closest to future, etc.), calculate that strain's mean log2 titer distance to the future population. We calculate this distance using the existing pairwise log2 titer distances used for the HI antigenic novelty metric. These pairwise distances are stored in one JSON per timepoint and are calculated as the sum of per-branch titer drops on the path between each pair of strains. Per branch titer drops are assigned by the HI titer tree model (Neher et al. 2016).\n",
    "\n",
    "Here, we look for each strain of interest among the \"past strains\" for each future timepoint's pairwise titer distances JSON. We then calculate the mean distance for each strain."
   ]
  },
  {
   "cell_type": "code",
   "execution_count": null,
   "metadata": {},
   "outputs": [],
   "source": [
    "from pathlib import Path"
   ]
  },
  {
   "cell_type": "code",
   "execution_count": null,
   "metadata": {},
   "outputs": [],
   "source": [
    "validation_titer_distance_root = \"/Users/jlhudd/projects/nextstrain/flu-forecasting/results/builds/natural/natural_sample_1_with_90_vpm_sliding/timepoints\"\n",
    "test_titer_distance_root = \"/Users/jlhudd/projects/nextstrain/flu-forecasting/results/builds/natural/natural_sample_1_with_90_vpm_sliding_test_tree/timepoints\""
   ]
  },
  {
   "cell_type": "code",
   "execution_count": null,
   "metadata": {},
   "outputs": [],
   "source": [
    "validation_titer_distance_template = str(\n",
    "    Path(validation_titer_distance_root) / Path(\"{timepoint}/pairwise_titer_tree_distances.json\")\n",
    ")\n",
    "test_titer_distance_template = str(\n",
    "    Path(test_titer_distance_root) / Path(\"{timepoint}/pairwise_titer_tree_distances.json\")\n",
    ")"
   ]
  },
  {
   "cell_type": "code",
   "execution_count": null,
   "metadata": {},
   "outputs": [],
   "source": [
    "validation_titer_distance_template"
   ]
  },
  {
   "cell_type": "code",
   "execution_count": null,
   "metadata": {},
   "outputs": [],
   "source": [
    "test_titer_distance_template"
   ]
  },
  {
   "cell_type": "code",
   "execution_count": null,
   "metadata": {},
   "outputs": [],
   "source": [
    "# Probably merge records together here so we know all the strains per timepoint to look for\n",
    "# and save some I/O with these enormous JSONs.\n",
    "all_strains = pd.concat([\n",
    "    vaccine_forecasts,\n",
    "    observed_closest_strains,\n",
    "    estimated_closest_strains_by_ne_star_lbi,\n",
    "    estimated_closest_strains_by_cTiter_x_ne_star\n",
    "], sort=True)"
   ]
  },
  {
   "cell_type": "code",
   "execution_count": null,
   "metadata": {},
   "outputs": [],
   "source": [
    "all_strains.query(\"strain == 'A/Austria/212187/2005'\")"
   ]
  },
  {
   "cell_type": "code",
   "execution_count": null,
   "metadata": {},
   "outputs": [],
   "source": [
    "current_timepoints = vaccine_forecasts[\"timepoint\"]\n",
    "future_timepoints = vaccine_forecasts[\"future_timepoint\"]"
   ]
  },
  {
   "cell_type": "code",
   "execution_count": null,
   "metadata": {},
   "outputs": [],
   "source": [
    "last_validation_timepoint"
   ]
  },
  {
   "cell_type": "code",
   "execution_count": null,
   "metadata": {},
   "outputs": [],
   "source": [
    "tips_with_sequence"
   ]
  },
  {
   "cell_type": "code",
   "execution_count": null,
   "metadata": {},
   "outputs": [],
   "source": [
    "titer_distances_per_strain = []\n",
    "\n",
    "for current_timepoint, future_timepoint in zip(current_timepoints, future_timepoints):\n",
    "    future_timepoint_string = future_timepoint.strftime(\"%Y-%m-%d\")\n",
    "    \n",
    "    if future_timepoint <= last_validation_timepoint:\n",
    "        # validation\n",
    "        json_file = validation_titer_distance_template.format(timepoint=future_timepoint_string)\n",
    "    else:\n",
    "        # test\n",
    "        json_file = test_titer_distance_template.format(timepoint=future_timepoint_string)\n",
    "    \n",
    "    with open(json_file, \"r\") as fh:\n",
    "        titer_distances = json.load(fh)\n",
    "        titer_distances = titer_distances[\"nodes\"]\n",
    "\n",
    "    strains_per_timepoint = all_strains.loc[\n",
    "        all_strains[\"timepoint\"] == current_timepoint, \"strain\"\n",
    "    ].drop_duplicates().values\n",
    "    for recent_strain in titer_distances.keys():\n",
    "        recent_strain_record = tips_with_sequence[\n",
    "            (tips_with_sequence[\"strain\"] == recent_strain) &\n",
    "            (tips_with_sequence[\"timepoint\"] == future_timepoint)\n",
    "        ]\n",
    "        if len(recent_strain_record) > 0:\n",
    "            future_strain_frequency = recent_strain_record[\"frequency\"].values[0]\n",
    "        else:\n",
    "            future_strain_frequency = 0.0\n",
    "        \n",
    "        for strain in strains_per_timepoint:\n",
    "            if strain in titer_distances[recent_strain][\"cTiter_pairwise\"]:\n",
    "                titer_distances_per_strain.append({\n",
    "                    \"timepoint\": current_timepoint,\n",
    "                    \"strain\": strain,\n",
    "                    \"titer_distance\": titer_distances[recent_strain][\"cTiter_pairwise\"][strain],\n",
    "                    \"future_strain_frequency\": future_strain_frequency\n",
    "                })"
   ]
  },
  {
   "cell_type": "code",
   "execution_count": null,
   "metadata": {},
   "outputs": [],
   "source": [
    "titer_df = pd.DataFrame(titer_distances_per_strain)"
   ]
  },
  {
   "cell_type": "code",
   "execution_count": null,
   "metadata": {},
   "outputs": [],
   "source": [
    "titer_df.head()"
   ]
  },
  {
   "cell_type": "code",
   "execution_count": null,
   "metadata": {},
   "outputs": [],
   "source": [
    "titer_df.query(\"strain == 'A/Austria/212187/2005'\").groupby(\n",
    "    [\"timepoint\", \"strain\"]\n",
    ")[\"future_strain_frequency\"].sum()"
   ]
  },
  {
   "cell_type": "code",
   "execution_count": null,
   "metadata": {},
   "outputs": [],
   "source": [
    "all_strains.merge(\n",
    "    titer_df,\n",
    "    on=[\"timepoint\", \"strain\"]\n",
    ").query(\"strain == 'A/Austria/212187/2005'\").groupby([\"timepoint\", \"strain\", \"strain_type\"])[\"future_strain_frequency\"].sum()"
   ]
  },
  {
   "cell_type": "code",
   "execution_count": null,
   "metadata": {},
   "outputs": [],
   "source": [
    "titer_df.groupby([\"timepoint\", \"strain\"])[\"future_strain_frequency\"].sum()"
   ]
  },
  {
   "cell_type": "code",
   "execution_count": null,
   "metadata": {},
   "outputs": [],
   "source": [
    "titer_df.shape"
   ]
  },
  {
   "cell_type": "code",
   "execution_count": null,
   "metadata": {},
   "outputs": [],
   "source": [
    "titer_df[\"weighted_titer_distance\"] = titer_df.apply(\n",
    "    lambda record: record[\"titer_distance\"] * record[\"future_strain_frequency\"],\n",
    "    axis=1\n",
    ")"
   ]
  },
  {
   "cell_type": "code",
   "execution_count": null,
   "metadata": {},
   "outputs": [],
   "source": [
    "titer_df.head()"
   ]
  },
  {
   "cell_type": "code",
   "execution_count": null,
   "metadata": {},
   "outputs": [],
   "source": [
    "weighted_titer_df = titer_df.groupby([\"timepoint\", \"strain\"])[\"weighted_titer_distance\"].sum().reset_index()"
   ]
  },
  {
   "cell_type": "code",
   "execution_count": null,
   "metadata": {},
   "outputs": [],
   "source": [
    "weighted_titer_df"
   ]
  },
  {
   "cell_type": "code",
   "execution_count": null,
   "metadata": {},
   "outputs": [],
   "source": [
    "all_strains_with_titers = all_strains.merge(\n",
    "    weighted_titer_df,\n",
    "    on=[\"timepoint\", \"strain\"],\n",
    "    how=\"left\"\n",
    ")"
   ]
  },
  {
   "cell_type": "code",
   "execution_count": null,
   "metadata": {},
   "outputs": [],
   "source": [
    "all_strains_with_titers.shape"
   ]
  },
  {
   "cell_type": "code",
   "execution_count": null,
   "metadata": {},
   "outputs": [],
   "source": [
    "all_strains_with_titers.sort_values([\"timepoint\", \"weighted_titer_distance\"])"
   ]
  },
  {
   "cell_type": "code",
   "execution_count": null,
   "metadata": {},
   "outputs": [],
   "source": [
    "sns.lmplot(\n",
    "    \"distance_to_future\",\n",
    "    \"weighted_titer_distance\",\n",
    "    hue=\"strain_type\",\n",
    "    data=all_strains_with_titers,\n",
    "    scatter_kws={\"alpha\": 0.5},\n",
    "    fit_reg=False\n",
    ")\n"
   ]
  },
  {
   "cell_type": "code",
   "execution_count": null,
   "metadata": {},
   "outputs": [],
   "source": [
    "non_na_strains_with_titers = all_strains_with_titers.dropna().copy()"
   ]
  },
  {
   "cell_type": "code",
   "execution_count": null,
   "metadata": {},
   "outputs": [],
   "source": [
    "pearsonr(\n",
    "    non_na_strains_with_titers[\"distance_to_future\"],\n",
    "    non_na_strains_with_titers[\"weighted_titer_distance\"]\n",
    ")"
   ]
  },
  {
   "cell_type": "code",
   "execution_count": null,
   "metadata": {},
   "outputs": [],
   "source": [
    "regression = linregress(\n",
    "    non_na_strains_with_titers[\"distance_to_future\"],\n",
    "    non_na_strains_with_titers[\"weighted_titer_distance\"]\n",
    ")"
   ]
  },
  {
   "cell_type": "code",
   "execution_count": null,
   "metadata": {},
   "outputs": [],
   "source": [
    "regression.slope"
   ]
  },
  {
   "cell_type": "code",
   "execution_count": null,
   "metadata": {},
   "outputs": [],
   "source": [
    "regression.rvalue"
   ]
  },
  {
   "cell_type": "code",
   "execution_count": null,
   "metadata": {},
   "outputs": [],
   "source": [
    "regression.pvalue"
   ]
  },
  {
   "cell_type": "code",
   "execution_count": null,
   "metadata": {},
   "outputs": [],
   "source": [
    "x = np.linspace(0, non_na_strains_with_titers[\"distance_to_future\"].max() + 0.1)\n",
    "y = regression.slope * x + regression.intercept"
   ]
  },
  {
   "cell_type": "code",
   "execution_count": null,
   "metadata": {},
   "outputs": [],
   "source": [
    "fig, ax = plt.subplots(1, 1, figsize=(4, 4))\n",
    "ax.plot(\n",
    "    non_na_strains_with_titers[\"distance_to_future\"],\n",
    "    non_na_strains_with_titers[\"weighted_titer_distance\"],\n",
    "    \"o\",\n",
    "    alpha=0.5\n",
    ")\n",
    "ax.plot(\n",
    "    x,\n",
    "    y,\n",
    "    color=\"#cccccc\",\n",
    "    zorder=-10\n",
    ")\n",
    "ax.set_xlabel(\"Distance to future (AAs)\")\n",
    "ax.set_ylabel(\"Distance to future (log2 titers)\")\n",
    "\n",
    "ax.text(\n",
    "    0.5,\n",
    "    0.93,\n",
    "    f\"y = {regression.slope:.2f}x + {regression.intercept:.2f}\\n$R^{2}$ = {regression.rvalue**2:.2f}, p = {regression.pvalue:.2f}\",\n",
    "    horizontalalignment='left',\n",
    "    verticalalignment='center',\n",
    "    transform=ax.transAxes,\n",
    "    fontsize=12\n",
    ")"
   ]
  },
  {
   "cell_type": "markdown",
   "metadata": {},
   "outputs": [],
   "source": [
    "## Plot distance to the future by timepoint and strain type\n",
    "\n",
    "Compare distances to the future for selected vaccine strains and the observed and estimated closest strains to the future."
   ]
  },
  {
   "cell_type": "code",
   "execution_count": null,
   "metadata": {},
   "outputs": [],
   "source": [
    "colors_by_strain_type = {\n",
    "    \"vaccine strain\": \"#2ca02c\",\n",
    "    \"observed best\": \"#1f77b4\",\n",
    "    \"estimated best by ne_star-lbi\": \"#ff7f0e\",\n",
    "    \"estimated best by cTiter_x-ne_star\": \"#9467bd\",\n",
    "}"
   ]
  },
  {
   "cell_type": "markdown",
   "metadata": {},
   "outputs": [],
   "source": [
    "Split data frames into validation and test periods."
   ]
  },
  {
   "cell_type": "code",
   "execution_count": null,
   "metadata": {},
   "outputs": [],
   "source": [
    "non_na_strains_with_titers.head()"
   ]
  },
  {
   "cell_type": "markdown",
   "metadata": {},
   "outputs": [],
   "source": [
    "Split merged strains data frame into their separate components for plotting."
   ]
  },
  {
   "cell_type": "code",
   "execution_count": null,
   "metadata": {},
   "outputs": [],
   "source": [
    "all_strains_with_titers[\"strain_type\"].value_counts()"
   ]
  },
  {
   "cell_type": "code",
   "execution_count": null,
   "metadata": {},
   "outputs": [],
   "source": [
    "observed_closest_strains = all_strains_with_titers.query(\"strain_type == 'observed closest'\").copy()\n",
    "\n",
    "estimated_closest_strains_by_cTiter_x_ne_star = all_strains_with_titers.query(\n",
    "    \"strain_type == 'estimated closest by cTiter_x-ne_star'\"\n",
    ").copy()\n",
    "\n",
    "estimated_closest_strains_by_ne_star_lbi = all_strains_with_titers.query(\n",
    "    \"strain_type == 'estimated closest by ne_star-lbi'\"\n",
    ").copy()\n",
    "\n",
    "vaccine_forecasts = all_strains_with_titers.query(\"strain_type == 'vaccine'\").copy()"
   ]
  },
  {
   "cell_type": "code",
   "execution_count": null,
   "metadata": {},
   "outputs": [],
   "source": [
    "observed_closest_strains_for_validation = observed_closest_strains[\n",
    "    observed_closest_strains[\"timepoint\"] <= last_validation_timepoint\n",
    "]\n",
    "estimated_closest_strains_by_cTiter_x_ne_star_for_validation = estimated_closest_strains_by_cTiter_x_ne_star[\n",
    "    estimated_closest_strains_by_cTiter_x_ne_star[\"timepoint\"] <= last_validation_timepoint\n",
    "]\n",
    "estimated_closest_strains_by_ne_star_lbi_for_validation = estimated_closest_strains_by_ne_star_lbi[\n",
    "    estimated_closest_strains_by_ne_star_lbi[\"timepoint\"] <= last_validation_timepoint\n",
    "]\n",
    "vaccine_forecasts_for_validation = vaccine_forecasts[\n",
    "    vaccine_forecasts[\"timepoint\"] <= last_validation_timepoint\n",
    "]"
   ]
  },
  {
   "cell_type": "code",
   "execution_count": null,
   "metadata": {},
   "outputs": [],
   "source": [
    "observed_closest_strains_for_test = observed_closest_strains[\n",
    "    observed_closest_strains[\"timepoint\"] > last_validation_timepoint\n",
    "]\n",
    "estimated_closest_strains_by_cTiter_x_ne_star_for_test = estimated_closest_strains_by_cTiter_x_ne_star[\n",
    "    estimated_closest_strains_by_cTiter_x_ne_star[\"timepoint\"] > last_validation_timepoint\n",
    "]\n",
    "estimated_closest_strains_by_ne_star_lbi_for_test = estimated_closest_strains_by_ne_star_lbi[\n",
    "    estimated_closest_strains_by_ne_star_lbi[\"timepoint\"] > last_validation_timepoint\n",
    "]\n",
    "vaccine_forecasts_for_test = vaccine_forecasts[\n",
    "    vaccine_forecasts[\"timepoint\"] > last_validation_timepoint\n",
    "]"
   ]
  },
  {
   "cell_type": "code",
   "execution_count": null,
   "metadata": {},
   "outputs": [],
   "source": [
    "max_distance_to_future = max(\n",
    "    observed_closest_strains[\"distance_to_future\"].max(),\n",
    "    estimated_closest_strains_by_ne_star_lbi[\"distance_to_future\"].max(),\n",
    "    estimated_closest_strains_by_cTiter_x_ne_star[\"distance_to_future\"].max(),\n",
    "    vaccine_forecasts[\"distance_to_future\"].max()\n",
    ")"
   ]
  },
  {
   "cell_type": "code",
   "execution_count": null,
   "metadata": {},
   "outputs": [],
   "source": [
    "max_titer_distance_to_future = max(\n",
    "    observed_closest_strains[\"weighted_titer_distance\"].max(),\n",
    "    estimated_closest_strains_by_ne_star_lbi[\"weighted_titer_distance\"].max(),\n",
    "    estimated_closest_strains_by_cTiter_x_ne_star[\"weighted_titer_distance\"].max(),\n",
    "    vaccine_forecasts[\"weighted_titer_distance\"].max()\n",
    ")"
   ]
  },
  {
   "cell_type": "code",
   "execution_count": null,
   "metadata": {},
   "outputs": [],
   "source": [
    "max_distance_to_future"
   ]
  },
  {
   "cell_type": "code",
   "execution_count": null,
   "metadata": {},
   "outputs": [],
   "source": [
    "max_titer_distance_to_future"
   ]
  },
  {
   "cell_type": "code",
   "execution_count": null,
   "metadata": {},
   "outputs": [],
   "source": [
    "distance_ticks = np.arange(int(np.ceil(max_distance_to_future)) + 2, step=2)"
   ]
  },
  {
   "cell_type": "code",
   "execution_count": null,
   "metadata": {},
   "outputs": [],
   "source": [
    "titer_distance_ticks = np.arange(int(np.ceil(max_titer_distance_to_future)) + 1, step=1)"
   ]
  },
  {
   "cell_type": "code",
   "execution_count": null,
   "metadata": {},
   "outputs": [],
   "source": [
    "distance_ticks"
   ]
  },
  {
   "cell_type": "code",
   "execution_count": null,
   "metadata": {},
   "outputs": [],
   "source": [
    "titer_distance_ticks"
   ]
  },
  {
   "cell_type": "code",
   "execution_count": null,
   "metadata": {},
   "outputs": [],
   "source": [
    "fig, ax = plt.subplots(1, 1, figsize=(8, 3.5))\n",
    "#ax = axes[0]\n",
    "\n",
    "strain_alpha=0.5\n",
    "\n",
    "# Plot validation results.\n",
    "ax.plot(\n",
    "    observed_closest_strains_for_validation[\"timepoint\"],\n",
    "    observed_closest_strains_for_validation[\"distance_to_future\"],\n",
    "    \"o-\",\n",
    "    color=colors_by_strain_type[\"observed best\"],\n",
    "    alpha=strain_alpha,\n",
    "    label=\"observed best\"\n",
    ")\n",
    "\n",
    "ax.plot(\n",
    "    estimated_closest_strains_by_cTiter_x_ne_star_for_validation[\"timepoint\"],\n",
    "    estimated_closest_strains_by_cTiter_x_ne_star_for_validation[\"distance_to_future\"],\n",
    "    \"o-\",\n",
    "    color=colors_by_strain_type[\"estimated best by cTiter_x-ne_star\"],\n",
    "    alpha=strain_alpha,\n",
    "    label=\"estimated best by HI + mutational load\"\n",
    ")\n",
    "\n",
    "ax.plot(\n",
    "    estimated_closest_strains_by_ne_star_lbi_for_validation[\"timepoint\"],\n",
    "    estimated_closest_strains_by_ne_star_lbi_for_validation[\"distance_to_future\"],\n",
    "    \"o-\",\n",
    "    color=colors_by_strain_type[\"estimated best by ne_star-lbi\"],\n",
    "    alpha=strain_alpha,\n",
    "    label=\"estimated best by mutational load + LBI\"\n",
    ")\n",
    "\n",
    "ax.plot(\n",
    "    vaccine_forecasts_for_validation[\"timepoint\"],\n",
    "    vaccine_forecasts_for_validation[\"distance_to_future\"],\n",
    "    \"o-\",\n",
    "    color=colors_by_strain_type[\"vaccine strain\"],\n",
    "    alpha=strain_alpha,\n",
    "    label=\"vaccine strain\"\n",
    ")\n",
    "\n",
    "# Plot test results.\n",
    "ax.plot(\n",
    "    observed_closest_strains_for_test[\"timepoint\"],\n",
    "    observed_closest_strains_for_test[\"distance_to_future\"],\n",
    "    \"o-\",\n",
    "    color=colors_by_strain_type[\"observed best\"],\n",
    "    alpha=strain_alpha\n",
    ")\n",
    "\n",
    "ax.plot(\n",
    "    estimated_closest_strains_by_cTiter_x_ne_star_for_test[\"timepoint\"],\n",
    "    estimated_closest_strains_by_cTiter_x_ne_star_for_test[\"distance_to_future\"],\n",
    "    \"o-\",\n",
    "    color=colors_by_strain_type[\"estimated best by cTiter_x-ne_star\"],\n",
    "    alpha=strain_alpha\n",
    ")\n",
    "\n",
    "ax.plot(\n",
    "    estimated_closest_strains_by_ne_star_lbi_for_test[\"timepoint\"],\n",
    "    estimated_closest_strains_by_ne_star_lbi_for_test[\"distance_to_future\"],\n",
    "    \"o-\",\n",
    "    color=colors_by_strain_type[\"estimated best by ne_star-lbi\"],\n",
    "    alpha=strain_alpha\n",
    ")\n",
    "\n",
    "ax.plot(\n",
    "    vaccine_forecasts_for_test[\"timepoint\"],\n",
    "    vaccine_forecasts_for_test[\"distance_to_future\"],\n",
    "    \"o-\",\n",
    "    color=colors_by_strain_type[\"vaccine strain\"],\n",
    "    alpha=strain_alpha\n",
    ")\n",
    "\n",
    "for index, record in vaccine_forecasts.iterrows():\n",
    "    ax.text(\n",
    "        record[\"timepoint\"],\n",
    "        record[\"distance_to_future\"],\n",
    "        record[\"strain\"],\n",
    "        fontsize=8\n",
    "    )\n",
    "\n",
    "ax.axvline(\n",
    "    last_validation_timepoint,\n",
    "    zorder=-10,\n",
    "    alpha=0.2,\n",
    "    color=\"#000000\",\n",
    "    linestyle=\"-\",\n",
    "    label=\"Last validation timepoint\"\n",
    ")\n",
    "\n",
    "ax.legend(\n",
    "    loc=(0.01, 0.65),\n",
    "    frameon=False,\n",
    "    fontsize=10\n",
    ")\n",
    "\n",
    "ax.set_yticks(distance_ticks)\n",
    "\n",
    "ax.set_xlabel(\"Date\")\n",
    "ax.set_ylabel(\"Weighted distance\\nto the future (AAs)\")\n",
    "ax.set_ylim(bottom=0)\n",
    "\n",
    "plt.tight_layout()\n",
    "plt.savefig(output_figure, bbox_inches=\"tight\")"
   ]
  },
  {
   "cell_type": "code",
   "execution_count": null,
   "metadata": {},
   "outputs": [],
   "source": [
    "strain_alpha = 0.5"
   ]
  },
  {
   "cell_type": "code",
   "execution_count": null,
   "metadata": {},
   "outputs": [],
   "source": [
    "fig, axes = plt.subplots(2, 1, figsize=(8, 6), sharex=True)\n",
    "\n",
    "# Plot distance to the future in amino acids.\n",
    "\n",
    "ax = axes[0]\n",
    "\n",
    "# Plot validation results.\n",
    "ax.plot(\n",
    "    observed_closest_strains_for_validation[\"timepoint\"],\n",
    "    observed_closest_strains_for_validation[\"distance_to_future\"],\n",
    "    \"o-\",\n",
    "    color=colors_by_strain_type[\"observed best\"],\n",
    "    alpha=strain_alpha,\n",
    "    label=\"observed best\"\n",
    ")\n",
    "\n",
    "ax.plot(\n",
    "    estimated_closest_strains_by_cTiter_x_ne_star_for_validation[\"timepoint\"],\n",
    "    estimated_closest_strains_by_cTiter_x_ne_star_for_validation[\"distance_to_future\"],\n",
    "    \"o-\",\n",
    "    color=colors_by_strain_type[\"estimated best by cTiter_x-ne_star\"],\n",
    "    alpha=strain_alpha,\n",
    "    label=\"estimated best by HI + mutational load\"\n",
    ")\n",
    "\n",
    "ax.plot(\n",
    "    estimated_closest_strains_by_ne_star_lbi_for_validation[\"timepoint\"],\n",
    "    estimated_closest_strains_by_ne_star_lbi_for_validation[\"distance_to_future\"],\n",
    "    \"o-\",\n",
    "    color=colors_by_strain_type[\"estimated best by ne_star-lbi\"],\n",
    "    alpha=strain_alpha,\n",
    "    label=\"estimated best by mutational load + LBI\"\n",
    ")\n",
    "\n",
    "ax.plot(\n",
    "    vaccine_forecasts_for_validation[\"timepoint\"],\n",
    "    vaccine_forecasts_for_validation[\"distance_to_future\"],\n",
    "    \"o-\",\n",
    "    color=colors_by_strain_type[\"vaccine strain\"],\n",
    "    alpha=strain_alpha,\n",
    "    label=\"vaccine strain\"\n",
    ")\n",
    "\n",
    "# Plot test results.\n",
    "ax.plot(\n",
    "    observed_closest_strains_for_test[\"timepoint\"],\n",
    "    observed_closest_strains_for_test[\"distance_to_future\"],\n",
    "    \"o-\",\n",
    "    color=colors_by_strain_type[\"observed best\"],\n",
    "    alpha=strain_alpha\n",
    ")\n",
    "\n",
    "ax.plot(\n",
    "    estimated_closest_strains_by_cTiter_x_ne_star_for_test[\"timepoint\"],\n",
    "    estimated_closest_strains_by_cTiter_x_ne_star_for_test[\"distance_to_future\"],\n",
    "    \"o-\",\n",
    "    color=colors_by_strain_type[\"estimated best by cTiter_x-ne_star\"],\n",
    "    alpha=strain_alpha\n",
    ")\n",
    "\n",
    "ax.plot(\n",
    "    estimated_closest_strains_by_ne_star_lbi_for_test[\"timepoint\"],\n",
    "    estimated_closest_strains_by_ne_star_lbi_for_test[\"distance_to_future\"],\n",
    "    \"o-\",\n",
    "    color=colors_by_strain_type[\"estimated best by ne_star-lbi\"],\n",
    "    alpha=strain_alpha\n",
    ")\n",
    "\n",
    "ax.plot(\n",
    "    vaccine_forecasts_for_test[\"timepoint\"],\n",
    "    vaccine_forecasts_for_test[\"distance_to_future\"],\n",
    "    \"o-\",\n",
    "    color=colors_by_strain_type[\"vaccine strain\"],\n",
    "    alpha=strain_alpha\n",
    ")\n",
    "\n",
    "for index, record in vaccine_forecasts.iterrows():\n",
    "    ax.text(\n",
    "        record[\"timepoint\"],\n",
    "        record[\"distance_to_future\"],\n",
    "        record[\"strain\"],\n",
    "        fontsize=8\n",
    "    )\n",
    "\n",
    "ax.axvline(\n",
    "    last_validation_timepoint,\n",
    "    zorder=-10,\n",
    "    alpha=0.2,\n",
    "    color=\"#000000\",\n",
    "    linestyle=\"-\",\n",
    "    label=\"Last validation timepoint\"\n",
    ")\n",
    "\n",
    "ax.legend(\n",
    "    loc=(0.01, 0.65),\n",
    "    frameon=False,\n",
    "    fontsize=8\n",
    ")\n",
    "\n",
    "ax.set_yticks(distance_ticks)\n",
    "\n",
    "#ax.set_xlabel(\"Date\")\n",
    "ax.set_ylabel(\"Weighted distance\\nto the future (AAs)\")\n",
    "ax.set_ylim(bottom=0)\n",
    "\n",
    "# Plot distance to the future in log2 titer drops.\n",
    "\n",
    "ax = axes[1]\n",
    "\n",
    "# Plot validation results.\n",
    "ax.plot(\n",
    "    observed_closest_strains_for_validation[\"timepoint\"],\n",
    "    observed_closest_strains_for_validation[\"weighted_titer_distance\"],\n",
    "    \"o-\",\n",
    "    color=colors_by_strain_type[\"observed best\"],\n",
    "    alpha=strain_alpha,\n",
    "    label=\"observed best\"\n",
    ")\n",
    "\n",
    "ax.plot(\n",
    "    estimated_closest_strains_by_cTiter_x_ne_star_for_validation[\"timepoint\"],\n",
    "    estimated_closest_strains_by_cTiter_x_ne_star_for_validation[\"weighted_titer_distance\"],\n",
    "    \"o-\",\n",
    "    color=colors_by_strain_type[\"estimated best by cTiter_x-ne_star\"],\n",
    "    alpha=strain_alpha,\n",
    "    label=\"estimated best by HI + mutational load\"\n",
    ")\n",
    "\n",
    "ax.plot(\n",
    "    estimated_closest_strains_by_ne_star_lbi_for_validation[\"timepoint\"],\n",
    "    estimated_closest_strains_by_ne_star_lbi_for_validation[\"weighted_titer_distance\"],\n",
    "    \"o-\",\n",
    "    color=colors_by_strain_type[\"estimated best by ne_star-lbi\"],\n",
    "    alpha=strain_alpha,\n",
    "    label=\"estimated best by mutational load + LBI\"\n",
    ")\n",
    "\n",
    "ax.plot(\n",
    "    vaccine_forecasts_for_validation[\"timepoint\"],\n",
    "    vaccine_forecasts_for_validation[\"weighted_titer_distance\"],\n",
    "    \"o-\",\n",
    "    color=colors_by_strain_type[\"vaccine strain\"],\n",
    "    alpha=strain_alpha,\n",
    "    label=\"vaccine strain\"\n",
    ")\n",
    "\n",
    "# Plot test results.\n",
    "ax.plot(\n",
    "    observed_closest_strains_for_test[\"timepoint\"],\n",
    "    observed_closest_strains_for_test[\"weighted_titer_distance\"],\n",
    "    \"o-\",\n",
    "    color=colors_by_strain_type[\"observed best\"],\n",
    "    alpha=strain_alpha\n",
    ")\n",
    "\n",
    "ax.plot(\n",
    "    estimated_closest_strains_by_cTiter_x_ne_star_for_test[\"timepoint\"],\n",
    "    estimated_closest_strains_by_cTiter_x_ne_star_for_test[\"weighted_titer_distance\"],\n",
    "    \"o-\",\n",
    "    color=colors_by_strain_type[\"estimated best by cTiter_x-ne_star\"],\n",
    "    alpha=strain_alpha\n",
    ")\n",
    "\n",
    "ax.plot(\n",
    "    estimated_closest_strains_by_ne_star_lbi_for_test[\"timepoint\"],\n",
    "    estimated_closest_strains_by_ne_star_lbi_for_test[\"weighted_titer_distance\"],\n",
    "    \"o-\",\n",
    "    color=colors_by_strain_type[\"estimated best by ne_star-lbi\"],\n",
    "    alpha=strain_alpha\n",
    ")\n",
    "\n",
    "ax.plot(\n",
    "    vaccine_forecasts_for_test[\"timepoint\"],\n",
    "    vaccine_forecasts_for_test[\"weighted_titer_distance\"],\n",
    "    \"o-\",\n",
    "    color=colors_by_strain_type[\"vaccine strain\"],\n",
    "    alpha=strain_alpha\n",
    ")\n",
    "\n",
    "for index, record in vaccine_forecasts.iterrows():\n",
    "    ax.text(\n",
    "        record[\"timepoint\"],\n",
    "        record[\"weighted_titer_distance\"],\n",
    "        record[\"strain\"],\n",
    "        fontsize=8\n",
    "    )\n",
    "\n",
    "ax.axvline(\n",
    "    last_validation_timepoint,\n",
    "    zorder=-10,\n",
    "    alpha=0.2,\n",
    "    color=\"#000000\",\n",
    "    linestyle=\"-\",\n",
    "    label=\"Last validation timepoint\"\n",
    ")\n",
    "\n",
    "ax.set_yticks(titer_distance_ticks)\n",
    "\n",
    "ax.set_xlabel(\"Date\")\n",
    "ax.set_ylabel(\"Weighted distance\\nto the future (log2 titers)\")\n",
    "ax.set_ylim(bottom=0)\n",
    "\n",
    "plt.tight_layout()\n",
    "plt.savefig(output_figure, bbox_inches=\"tight\")"
   ]
  },
  {
   "cell_type": "code",
   "execution_count": null,
   "metadata": {},
   "outputs": [],
   "source": [
    "merged_model_and_vaccine_ne_star_lbi = vaccine_forecasts.merge(\n",
    "    estimated_closest_strains_by_ne_star_lbi,\n",
    "    on=[\"timepoint\"],\n",
    "    suffixes=[\"_vaccine\", \"_model\"]\n",
    ")"
   ]
  },
  {
   "cell_type": "code",
   "execution_count": null,
   "metadata": {},
   "outputs": [],
   "source": [
    "merged_model_and_vaccine_ne_star_lbi[\"vaccine_minus_model\"] = merged_model_and_vaccine_ne_star_lbi[\"distance_to_future_vaccine\"] - merged_model_and_vaccine_ne_star_lbi[\"distance_to_future_model\"]"
   ]
  },
  {
   "cell_type": "code",
   "execution_count": null,
   "metadata": {
    "scrolled": true
   },
   "outputs": [],
   "source": [
    "merged_model_and_vaccine_ne_star_lbi[\"vaccine_minus_model\"]"
   ]
  },
  {
   "cell_type": "code",
   "execution_count": null,
   "metadata": {},
   "outputs": [],
   "source": [
    "merged_model_and_vaccine_cTiter_x_ne_star = vaccine_forecasts.merge(\n",
    "    estimated_closest_strains_by_cTiter_x_ne_star,\n",
    "    on=[\"timepoint\"],\n",
    "    suffixes=[\"_vaccine\", \"_model\"]\n",
    ")"
   ]
  },
  {
   "cell_type": "code",
   "execution_count": null,
   "metadata": {},
   "outputs": [],
   "source": [
    "merged_model_and_vaccine_cTiter_x_ne_star[\"vaccine_minus_model\"] = merged_model_and_vaccine_cTiter_x_ne_star[\"distance_to_future_vaccine\"] - merged_model_and_vaccine_cTiter_x_ne_star[\"distance_to_future_model\"]\n"
   ]
  },
  {
   "cell_type": "code",
   "execution_count": null,
   "metadata": {},
   "outputs": [],
   "source": [
    "merged_model_and_vaccine_cTiter_x_ne_star[\"vaccine_minus_model\"]"
   ]
  },
  {
   "cell_type": "code",
   "execution_count": null,
   "metadata": {},
   "outputs": [],
   "source": []
  }
 ],
 "metadata": {
  "kernelspec": {
   "display_name": "Python 3",
   "language": "python",
   "name": "python3"
  },
  "language_info": {
   "codemirror_mode": {
    "name": "ipython",
    "version": 3
   },
   "file_extension": ".py",
   "mimetype": "text/x-python",
   "name": "python",
   "nbconvert_exporter": "python",
   "pygments_lexer": "ipython3",
   "version": "3.6.10"
  }
 },
 "nbformat": 4,
 "nbformat_minor": 4
}
