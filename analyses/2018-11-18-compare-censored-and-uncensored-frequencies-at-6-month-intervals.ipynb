{
 "cells": [
  {
   "cell_type": "markdown",
   "metadata": {},
   "source": [
    "# Compare censored and uncensored 6-month interval frequencies\n",
    "\n",
    "Frequencies used by the fitness model need to be estimated at 6-month intervals (timepoints).\n",
    "Instead of estimating frequencies at 1-month intervals and then interpolating frequencies at fitness model timepoints, we just estimate frequencies at the same 6-month intervals needed by the fitness model.\n",
    "We also pre-censor frequencies such that they only need to be calculated once.\n",
    "\n",
    "Here, we compare these censored frequencies at 6-month intervals with the observed uncensored frequencies for the same intervals to get a sense of how much uncertainty in frequency estimates there is at any given timepoint."
   ]
  },
  {
   "cell_type": "code",
   "execution_count": 19,
   "metadata": {},
   "outputs": [],
   "source": [
    "import json\n",
    "import matplotlib.pyplot as plt\n",
    "import numpy as np\n",
    "import os\n",
    "import pandas as pd\n",
    "import seaborn as sns\n",
    "import statsmodels.api as sm\n",
    "import sys\n",
    "\n",
    "%matplotlib inline"
   ]
  },
  {
   "cell_type": "code",
   "execution_count": 2,
   "metadata": {},
   "outputs": [
    {
     "data": {
      "text/plain": [
       "'/Users/jlhudd/projects/nextstrain/flu-forecasting/analyses'"
      ]
     },
     "execution_count": 2,
     "metadata": {},
     "output_type": "execute_result"
    }
   ],
   "source": [
    "os.getcwd()"
   ]
  },
  {
   "cell_type": "code",
   "execution_count": 3,
   "metadata": {},
   "outputs": [],
   "source": [
    "project_path = os.path.dirname(os.getcwd())\n",
    "augur_path = os.path.join(project_path, \"dist\", \"augur\")"
   ]
  },
  {
   "cell_type": "code",
   "execution_count": 4,
   "metadata": {},
   "outputs": [
    {
     "data": {
      "text/plain": [
       "'/Users/jlhudd/projects/nextstrain/flu-forecasting/dist/augur'"
      ]
     },
     "execution_count": 4,
     "metadata": {},
     "output_type": "execute_result"
    }
   ],
   "source": [
    "augur_path"
   ]
  },
  {
   "cell_type": "code",
   "execution_count": 5,
   "metadata": {},
   "outputs": [],
   "source": [
    "sys.path.append(augur_path)"
   ]
  },
  {
   "cell_type": "code",
   "execution_count": 7,
   "metadata": {},
   "outputs": [],
   "source": [
    "from base.frequencies import KdeFrequencies\n",
    "from base.io_util import json_to_tree"
   ]
  },
  {
   "cell_type": "code",
   "execution_count": 9,
   "metadata": {},
   "outputs": [],
   "source": [
    "with open(\"flu_h3n2_ha_2006-2018y_92v_0_tree.json\", \"r\") as fh:\n",
    "    json_tree = json.load(fh)\n",
    "\n",
    "tree = json_to_tree(json_tree)"
   ]
  },
  {
   "cell_type": "markdown",
   "metadata": {},
   "source": [
    "First, calculate uncensored frequencies for the given tree."
   ]
  },
  {
   "cell_type": "code",
   "execution_count": 85,
   "metadata": {},
   "outputs": [],
   "source": [
    "kde_frequencies = KdeFrequencies(\n",
    "    start_date=2006.75,\n",
    "    end_date=2018.25,\n",
    "    censored=False,\n",
    "    pivot_frequency=6,\n",
    "    sigma_narrow=0.25,\n",
    "    proportion_wide=0.0\n",
    ")\n",
    "uncensored_frequencies = kde_frequencies.estimate(tree)"
   ]
  },
  {
   "cell_type": "markdown",
   "metadata": {},
   "source": [
    "Then, calculated censored frequencies for comparison with the uncensored."
   ]
  },
  {
   "cell_type": "code",
   "execution_count": 86,
   "metadata": {},
   "outputs": [],
   "source": [
    "params = kde_frequencies.get_params()\n",
    "params[\"censored\"] = True\n",
    "kde_frequencies = KdeFrequencies(**params)\n",
    "censored_frequencies = kde_frequencies.estimate(tree)"
   ]
  },
  {
   "cell_type": "code",
   "execution_count": 87,
   "metadata": {},
   "outputs": [
    {
     "data": {
      "text/plain": [
       "{'censored': True,\n",
       " 'end_date': 2018.25,\n",
       " 'include_internal_nodes': False,\n",
       " 'max_date': None,\n",
       " 'pivot_frequency': 6,\n",
       " 'proportion_wide': 0.0,\n",
       " 'sigma_narrow': 0.25,\n",
       " 'sigma_wide': 0.25,\n",
       " 'start_date': 2006.75,\n",
       " 'weights': None,\n",
       " 'weights_attribute': None}"
      ]
     },
     "execution_count": 87,
     "metadata": {},
     "output_type": "execute_result"
    }
   ],
   "source": [
    "kde_frequencies.get_params()"
   ]
  },
  {
   "cell_type": "markdown",
   "metadata": {},
   "source": [
    "Combine frequencies into a data frame by tip for all pivots where both uncensored and censored frequencies are non-zero."
   ]
  },
  {
   "cell_type": "code",
   "execution_count": 88,
   "metadata": {},
   "outputs": [],
   "source": [
    "records = []\n",
    "for strain in uncensored_frequencies.keys():\n",
    "    for i in range(len(kde_frequencies.pivots)):\n",
    "        if censored_frequencies[strain][i] > 0 and uncensored_frequencies[strain][i] > 0:\n",
    "            records.append({\n",
    "                \"strain\": strain,\n",
    "                \"pivot\": kde_frequencies.pivots[i],\n",
    "                \"observed_frequency\": uncensored_frequencies[strain][i],\n",
    "                \"censored_frequency\": censored_frequencies[strain][i]\n",
    "            })\n",
    "        \n",
    "df = pd.DataFrame(records)"
   ]
  },
  {
   "cell_type": "markdown",
   "metadata": {},
   "source": [
    "Fit a linear regression to the censored and uncensored frequencies for each tip in the tree, calculate summary statistics (intercept, slope, and Pearson's R), and plot the resulting regression."
   ]
  },
  {
   "cell_type": "code",
   "execution_count": 89,
   "metadata": {},
   "outputs": [
    {
     "data": {
      "text/plain": [
       "(105229, 4)"
      ]
     },
     "execution_count": 89,
     "metadata": {},
     "output_type": "execute_result"
    }
   ],
   "source": [
    "df.shape"
   ]
  },
  {
   "cell_type": "code",
   "execution_count": 90,
   "metadata": {},
   "outputs": [
    {
     "data": {
      "text/plain": [
       "0.003701583403620365"
      ]
     },
     "execution_count": 90,
     "metadata": {},
     "output_type": "execute_result"
    }
   ],
   "source": [
    "df[\"observed_frequency\"].max()"
   ]
  },
  {
   "cell_type": "code",
   "execution_count": 91,
   "metadata": {},
   "outputs": [
    {
     "data": {
      "text/plain": [
       "array([2006.75, 2007.25, 2007.75, 2008.25, 2008.75, 2009.25, 2009.75,\n",
       "       2010.25, 2010.75, 2011.25, 2011.75, 2012.25, 2012.75, 2013.25,\n",
       "       2013.75, 2014.25, 2014.75, 2015.25, 2015.75, 2016.25, 2016.75,\n",
       "       2017.25, 2017.75, 2018.25])"
      ]
     },
     "execution_count": 91,
     "metadata": {},
     "output_type": "execute_result"
    }
   ],
   "source": [
    "kde_frequencies.pivots"
   ]
  },
  {
   "cell_type": "code",
   "execution_count": 92,
   "metadata": {},
   "outputs": [
    {
     "data": {
      "text/plain": [
       "censored_frequency               0.0116214\n",
       "observed_frequency              0.00370158\n",
       "pivot                              2010.25\n",
       "strain                A/HongKong/1837/2010\n",
       "Name: 65394, dtype: object"
      ]
     },
     "execution_count": 92,
     "metadata": {},
     "output_type": "execute_result"
    }
   ],
   "source": [
    "df.loc[np.argwhere(df[\"observed_frequency\"] == df[\"observed_frequency\"].max())[0][0], :]"
   ]
  },
  {
   "cell_type": "code",
   "execution_count": 93,
   "metadata": {},
   "outputs": [
    {
     "data": {
      "text/html": [
       "<div>\n",
       "<style scoped>\n",
       "    .dataframe tbody tr th:only-of-type {\n",
       "        vertical-align: middle;\n",
       "    }\n",
       "\n",
       "    .dataframe tbody tr th {\n",
       "        vertical-align: top;\n",
       "    }\n",
       "\n",
       "    .dataframe thead th {\n",
       "        text-align: right;\n",
       "    }\n",
       "</style>\n",
       "<table border=\"1\" class=\"dataframe\">\n",
       "  <thead>\n",
       "    <tr style=\"text-align: right;\">\n",
       "      <th></th>\n",
       "      <th>censored_frequency</th>\n",
       "      <th>observed_frequency</th>\n",
       "      <th>pivot</th>\n",
       "      <th>strain</th>\n",
       "    </tr>\n",
       "  </thead>\n",
       "  <tbody>\n",
       "    <tr>\n",
       "      <th>0</th>\n",
       "      <td>1.734757e-03</td>\n",
       "      <td>8.855892e-04</td>\n",
       "      <td>2012.25</td>\n",
       "      <td>A/Fukuoka-C/69/2011</td>\n",
       "    </tr>\n",
       "    <tr>\n",
       "      <th>1</th>\n",
       "      <td>3.507403e-05</td>\n",
       "      <td>1.572947e-05</td>\n",
       "      <td>2012.75</td>\n",
       "      <td>A/Fukuoka-C/69/2011</td>\n",
       "    </tr>\n",
       "    <tr>\n",
       "      <th>2</th>\n",
       "      <td>8.750700e-09</td>\n",
       "      <td>5.103456e-09</td>\n",
       "      <td>2013.25</td>\n",
       "      <td>A/Fukuoka-C/69/2011</td>\n",
       "    </tr>\n",
       "    <tr>\n",
       "      <th>3</th>\n",
       "      <td>7.703329e-14</td>\n",
       "      <td>2.969530e-14</td>\n",
       "      <td>2013.75</td>\n",
       "      <td>A/Fukuoka-C/69/2011</td>\n",
       "    </tr>\n",
       "    <tr>\n",
       "      <th>4</th>\n",
       "      <td>4.927410e-21</td>\n",
       "      <td>2.492596e-21</td>\n",
       "      <td>2014.25</td>\n",
       "      <td>A/Fukuoka-C/69/2011</td>\n",
       "    </tr>\n",
       "  </tbody>\n",
       "</table>\n",
       "</div>"
      ],
      "text/plain": [
       "   censored_frequency  observed_frequency    pivot               strain\n",
       "0        1.734757e-03        8.855892e-04  2012.25  A/Fukuoka-C/69/2011\n",
       "1        3.507403e-05        1.572947e-05  2012.75  A/Fukuoka-C/69/2011\n",
       "2        8.750700e-09        5.103456e-09  2013.25  A/Fukuoka-C/69/2011\n",
       "3        7.703329e-14        2.969530e-14  2013.75  A/Fukuoka-C/69/2011\n",
       "4        4.927410e-21        2.492596e-21  2014.25  A/Fukuoka-C/69/2011"
      ]
     },
     "execution_count": 93,
     "metadata": {},
     "output_type": "execute_result"
    }
   ],
   "source": [
    "df.head()"
   ]
  },
  {
   "cell_type": "code",
   "execution_count": 94,
   "metadata": {},
   "outputs": [
    {
     "data": {
      "text/html": [
       "<table class=\"simpletable\">\n",
       "<caption>OLS Regression Results</caption>\n",
       "<tr>\n",
       "  <th>Dep. Variable:</th>    <td>censored_frequency</td> <th>  R-squared:         </th>  <td>   0.926</td> \n",
       "</tr>\n",
       "<tr>\n",
       "  <th>Model:</th>                    <td>OLS</td>        <th>  Adj. R-squared:    </th>  <td>   0.926</td> \n",
       "</tr>\n",
       "<tr>\n",
       "  <th>Method:</th>              <td>Least Squares</td>   <th>  F-statistic:       </th>  <td>1.308e+06</td>\n",
       "</tr>\n",
       "<tr>\n",
       "  <th>Date:</th>              <td>Sun, 18 Nov 2018</td>  <th>  Prob (F-statistic):</th>   <td>  0.00</td>  \n",
       "</tr>\n",
       "<tr>\n",
       "  <th>Time:</th>                  <td>17:14:30</td>      <th>  Log-Likelihood:    </th> <td>7.4340e+05</td>\n",
       "</tr>\n",
       "<tr>\n",
       "  <th>No. Observations:</th>       <td>105229</td>       <th>  AIC:               </th> <td>-1.487e+06</td>\n",
       "</tr>\n",
       "<tr>\n",
       "  <th>Df Residuals:</th>           <td>105227</td>       <th>  BIC:               </th> <td>-1.487e+06</td>\n",
       "</tr>\n",
       "<tr>\n",
       "  <th>Df Model:</th>               <td>     1</td>       <th>                     </th>      <td> </td>    \n",
       "</tr>\n",
       "<tr>\n",
       "  <th>Covariance Type:</th>       <td>nonrobust</td>     <th>                     </th>      <td> </td>    \n",
       "</tr>\n",
       "</table>\n",
       "<table class=\"simpletable\">\n",
       "<tr>\n",
       "           <td></td>             <th>coef</th>     <th>std err</th>      <th>t</th>      <th>P>|t|</th>  <th>[0.025</th>    <th>0.975]</th>  \n",
       "</tr>\n",
       "<tr>\n",
       "  <th>const</th>              <td> 5.263e-06</td> <td> 6.64e-07</td> <td>    7.922</td> <td> 0.000</td> <td> 3.96e-06</td> <td> 6.57e-06</td>\n",
       "</tr>\n",
       "<tr>\n",
       "  <th>observed_frequency</th> <td>    1.8810</td> <td>    0.002</td> <td> 1143.507</td> <td> 0.000</td> <td>    1.878</td> <td>    1.884</td>\n",
       "</tr>\n",
       "</table>\n",
       "<table class=\"simpletable\">\n",
       "<tr>\n",
       "  <th>Omnibus:</th>       <td>85842.515</td> <th>  Durbin-Watson:     </th>   <td>   2.051</td>  \n",
       "</tr>\n",
       "<tr>\n",
       "  <th>Prob(Omnibus):</th>  <td> 0.000</td>   <th>  Jarque-Bera (JB):  </th> <td>94023118.826</td>\n",
       "</tr>\n",
       "<tr>\n",
       "  <th>Skew:</th>           <td> 2.644</td>   <th>  Prob(JB):          </th>   <td>    0.00</td>  \n",
       "</tr>\n",
       "<tr>\n",
       "  <th>Kurtosis:</th>       <td>149.343</td>  <th>  Cond. No.          </th>   <td>2.58e+03</td>  \n",
       "</tr>\n",
       "</table><br/><br/>Warnings:<br/>[1] Standard Errors assume that the covariance matrix of the errors is correctly specified.<br/>[2] The condition number is large, 2.58e+03. This might indicate that there are<br/>strong multicollinearity or other numerical problems."
      ],
      "text/plain": [
       "<class 'statsmodels.iolib.summary.Summary'>\n",
       "\"\"\"\n",
       "                            OLS Regression Results                            \n",
       "==============================================================================\n",
       "Dep. Variable:     censored_frequency   R-squared:                       0.926\n",
       "Model:                            OLS   Adj. R-squared:                  0.926\n",
       "Method:                 Least Squares   F-statistic:                 1.308e+06\n",
       "Date:                Sun, 18 Nov 2018   Prob (F-statistic):               0.00\n",
       "Time:                        17:14:30   Log-Likelihood:             7.4340e+05\n",
       "No. Observations:              105229   AIC:                        -1.487e+06\n",
       "Df Residuals:                  105227   BIC:                        -1.487e+06\n",
       "Df Model:                           1                                         \n",
       "Covariance Type:            nonrobust                                         \n",
       "======================================================================================\n",
       "                         coef    std err          t      P>|t|      [0.025      0.975]\n",
       "--------------------------------------------------------------------------------------\n",
       "const               5.263e-06   6.64e-07      7.922      0.000    3.96e-06    6.57e-06\n",
       "observed_frequency     1.8810      0.002   1143.507      0.000       1.878       1.884\n",
       "==============================================================================\n",
       "Omnibus:                    85842.515   Durbin-Watson:                   2.051\n",
       "Prob(Omnibus):                  0.000   Jarque-Bera (JB):         94023118.826\n",
       "Skew:                           2.644   Prob(JB):                         0.00\n",
       "Kurtosis:                     149.343   Cond. No.                     2.58e+03\n",
       "==============================================================================\n",
       "\n",
       "Warnings:\n",
       "[1] Standard Errors assume that the covariance matrix of the errors is correctly specified.\n",
       "[2] The condition number is large, 2.58e+03. This might indicate that there are\n",
       "strong multicollinearity or other numerical problems.\n",
       "\"\"\""
      ]
     },
     "execution_count": 94,
     "metadata": {},
     "output_type": "execute_result"
    }
   ],
   "source": [
    "y = df[\"censored_frequency\"]\n",
    "x = df[\"observed_frequency\"]\n",
    "x = sm.add_constant(x)\n",
    "ols = sm.OLS(y, x)\n",
    "results = ols.fit()\n",
    "results.summary()"
   ]
  },
  {
   "cell_type": "code",
   "execution_count": 98,
   "metadata": {},
   "outputs": [
    {
     "data": {
      "image/png": "[encoded data removed]",
      "text/plain": [
       "<Figure size 576x432 with 1 Axes>"
      ]
     },
     "metadata": {
      "needs_background": "light"
     },
     "output_type": "display_data"
    }
   ],
   "source": [
    "fig, ax = plt.subplots(1, 1, figsize=(8, 6))\n",
    "\n",
    "min_freq = -0.00\n",
    "max_freq = 0.015\n",
    "x = np.linspace(0, max_freq, 100)\n",
    "y = x\n",
    "sns.regplot(\"observed_frequency\", \"censored_frequency\", df, ax=ax)\n",
    "ax.plot(x, y, color=\"#999999\", alpha=0.5)\n",
    "ax.set_aspect(\"equal\")\n",
    "ax.set_xlim(min_freq, max_freq)\n",
    "ax.set_ylim(min_freq, max_freq)\n",
    "ax.text(0.005, 0.01, \"y = %.2fx + %.2f\\nadjusted $R^{2} = %.2f$\" % (\n",
    "    results.params[\"observed_frequency\"],\n",
    "    results.params[\"const\"],\n",
    "    results.rsquared_adj\n",
    "))\n",
    "ax.set_title(\"Frequencies at 6-month intervals and narrow bandwidth of %.2f\" % kde_frequencies.sigma_narrow)\n",
    "sns.despine()"
   ]
  },
  {
   "cell_type": "code",
   "execution_count": null,
   "metadata": {},
   "outputs": [],
   "source": []
  }
 ],
 "metadata": {
  "kernelspec": {
   "display_name": "Python [conda env:janus_python2]",
   "language": "python",
   "name": "conda-env-janus_python2-py"
  },
  "language_info": {
   "codemirror_mode": {
    "name": "ipython",
    "version": 2
   },
   "file_extension": ".py",
   "mimetype": "text/x-python",
   "name": "python",
   "nbconvert_exporter": "python",
   "pygments_lexer": "ipython2",
   "version": "2.7.15"
  }
 },
 "nbformat": 4,
 "nbformat_minor": 2
}
