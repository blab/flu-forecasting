{
 "cells": [
  {
   "cell_type": "markdown",
   "metadata": {},
   "source": [
    "# Implement dfreq predictor\n",
    "\n",
    "Calculate delta frequency per clade and assign the resulting values back to each tip."
   ]
  },
  {
   "cell_type": "code",
   "execution_count": 40,
   "metadata": {},
   "outputs": [],
   "source": [
    "from augur.frequency_estimators import TreeKdeFrequencies\n",
    "import Bio.Phylo\n",
    "from collections import defaultdict\n",
    "import json\n",
    "import matplotlib.pyplot as plt\n",
    "import numpy as np\n",
    "import pandas as pd\n",
    "import sys\n",
    "\n",
    "%matplotlib inline\n",
    "\n",
    "plt.style.use(\"huddlej\")"
   ]
  },
  {
   "cell_type": "code",
   "execution_count": 2,
   "metadata": {},
   "outputs": [
    {
     "data": {
      "text/plain": [
       "'/Users/jlhudd/projects/nextstrain/flu-forecasting/analyses'"
      ]
     },
     "execution_count": 2,
     "metadata": {},
     "output_type": "execute_result"
    }
   ],
   "source": [
    "pwd"
   ]
  },
  {
   "cell_type": "code",
   "execution_count": 43,
   "metadata": {},
   "outputs": [],
   "source": [
    "timepoint_path = \"../results/builds/h3n2/5_viruses_per_month/sample_0/2005-10-01--2015-10-01/timepoints/2009-10-01/segments/ha/\"\n",
    "delta_pivots = 1"
   ]
  },
  {
   "cell_type": "markdown",
   "metadata": {},
   "source": [
    "## Load data\n",
    "\n",
    "We need to load the tree, frequencies, and clade assignments for a given timepoint."
   ]
  },
  {
   "cell_type": "code",
   "execution_count": 12,
   "metadata": {},
   "outputs": [],
   "source": [
    "# Load tree.\n",
    "tree = Bio.Phylo.read(timepoint_path + \"tree.nwk\", \"newick\")"
   ]
  },
  {
   "cell_type": "code",
   "execution_count": 13,
   "metadata": {},
   "outputs": [
    {
     "data": {
      "text/plain": [
       "Tree(rooted=False, weight=1.0)"
      ]
     },
     "execution_count": 13,
     "metadata": {},
     "output_type": "execute_result"
    }
   ],
   "source": [
    "tree"
   ]
  },
  {
   "cell_type": "code",
   "execution_count": 5,
   "metadata": {},
   "outputs": [],
   "source": [
    "# Load frequencies.\n",
    "with open(timepoint_path + \"frequencies.json\", \"r\") as fh:\n",
    "    frequencies_json = json.load(fh)\n",
    "    \n",
    "frequencies = TreeKdeFrequencies.from_json(frequencies_json)"
   ]
  },
  {
   "cell_type": "code",
   "execution_count": 6,
   "metadata": {},
   "outputs": [
    {
     "data": {
      "text/plain": [
       "array([2005.75, 2006.25, 2006.75, 2007.25, 2007.75, 2008.25, 2008.75,\n",
       "       2009.25, 2009.75])"
      ]
     },
     "execution_count": 6,
     "metadata": {},
     "output_type": "execute_result"
    }
   ],
   "source": [
    "frequencies.pivots"
   ]
  },
  {
   "cell_type": "code",
   "execution_count": 10,
   "metadata": {},
   "outputs": [
    {
     "data": {
      "text/plain": [
       "True"
      ]
     },
     "execution_count": 10,
     "metadata": {},
     "output_type": "execute_result"
    }
   ],
   "source": [
    "frequencies.include_internal_nodes"
   ]
  },
  {
   "cell_type": "code",
   "execution_count": 26,
   "metadata": {},
   "outputs": [],
   "source": [
    "# Load clades.\n",
    "with open(timepoint_path + \"clades.json\", \"r\") as fh:\n",
    "    clades_json = json.load(fh)\n",
    "    \n",
    "clades_by_tip = {key: value[\"clade_membership\"] for key, value in clades_json[\"nodes\"].items()}"
   ]
  },
  {
   "cell_type": "code",
   "execution_count": 27,
   "metadata": {},
   "outputs": [
    {
     "data": {
      "text/plain": [
       "['A/Afghanistan/AF1169/2008',\n",
       " 'A/Afghanistan/AF1170/2008',\n",
       " 'A/Afghanistan/AF1173/2008',\n",
       " 'A/Aichi/114/2008',\n",
       " 'A/Aichi/222/2009']"
      ]
     },
     "execution_count": 27,
     "metadata": {},
     "output_type": "execute_result"
    }
   ],
   "source": [
    "list(clades_by_tip.keys())[:5]"
   ]
  },
  {
   "cell_type": "code",
   "execution_count": 86,
   "metadata": {},
   "outputs": [
    {
     "data": {
      "text/plain": [
       "['NODE_0000799',\n",
       " 'NODE_0000800',\n",
       " 'NODE_0000801',\n",
       " 'NODE_0000802',\n",
       " 'NODE_0000803']"
      ]
     },
     "execution_count": 86,
     "metadata": {},
     "output_type": "execute_result"
    }
   ],
   "source": [
    "list(clades_by_tip.keys())[-5:]"
   ]
  },
  {
   "cell_type": "code",
   "execution_count": 28,
   "metadata": {},
   "outputs": [
    {
     "data": {
      "text/plain": [
       "['5ea83cf', 'eacdfa7', '5ea83cf', '1d941a7', 'ca7ba25']"
      ]
     },
     "execution_count": 28,
     "metadata": {},
     "output_type": "execute_result"
    }
   ],
   "source": [
    "list(clades_by_tip.values())[:5]"
   ]
  },
  {
   "cell_type": "markdown",
   "metadata": {},
   "source": [
    "## Identify clade frequencies at current and previous timepoint\n",
    "\n",
    "Find all tips with non-zero frequencies at the current and previous timepoint. Calculate the total frequency per clade at each timepoint using these tip frequencies."
   ]
  },
  {
   "cell_type": "code",
   "execution_count": 37,
   "metadata": {},
   "outputs": [],
   "source": [
    "distinct_clades = sorted(set(clades_by_tip.values()))"
   ]
  },
  {
   "cell_type": "code",
   "execution_count": 38,
   "metadata": {},
   "outputs": [
    {
     "data": {
      "text/plain": [
       "125"
      ]
     },
     "execution_count": 38,
     "metadata": {},
     "output_type": "execute_result"
    }
   ],
   "source": [
    "len(distinct_clades)"
   ]
  },
  {
   "cell_type": "code",
   "execution_count": 39,
   "metadata": {},
   "outputs": [
    {
     "data": {
      "text/plain": [
       "['067f71e', '0818a58', '08e71a7', '0afa136', '0ba5f43']"
      ]
     },
     "execution_count": 39,
     "metadata": {},
     "output_type": "execute_result"
    }
   ],
   "source": [
    "distinct_clades[:5]"
   ]
  },
  {
   "cell_type": "code",
   "execution_count": 44,
   "metadata": {},
   "outputs": [],
   "source": [
    "current_clade_frequencies = defaultdict(float)\n",
    "previous_clade_frequencies = defaultdict(float)\n",
    "\n",
    "for tip in tree.find_clades(terminal=True):\n",
    "    # Add tip to current clade frequencies if it is currently alive.\n",
    "    if frequencies.frequencies[tip.name][-1] > 0.0:\n",
    "        current_clade_frequencies[clades_by_tip[tip.name]] += frequencies.frequencies[tip.name][-1]\n",
    "    \n",
    "    # Add tip to previous clade frequencies if it was alive in the last timepoint.\n",
    "    if frequencies.frequencies[tip.name][-(delta_pivots + 1)] > 0.0:\n",
    "        previous_clade_frequencies[clades_by_tip[tip.name]] += frequencies.frequencies[tip.name][-(delta_pivots + 1)]"
   ]
  },
  {
   "cell_type": "code",
   "execution_count": 45,
   "metadata": {},
   "outputs": [
    {
     "data": {
      "text/plain": [
       "defaultdict(float,\n",
       "            {'a68c89f': 0.016998000000000003,\n",
       "             '8c9c2a3': 1.3e-05,\n",
       "             '816a19e': 2e-06,\n",
       "             '3981529': 0.001647,\n",
       "             '10b53cd': 4e-06,\n",
       "             'ab0001b': 0.042915,\n",
       "             'a1211fc': 0.057641,\n",
       "             '5ea83cf': 0.11183100000000003,\n",
       "             '9213179': 0.034658999999999995,\n",
       "             '8c6e6c2': 1e-06,\n",
       "             'cbb5fb5': 0.012445999999999999,\n",
       "             'a54d1ad': 0.00034700000000000003,\n",
       "             'b70fa09': 0.003003,\n",
       "             'befedfa': 0.034382,\n",
       "             '68a154d': 0.004334,\n",
       "             '4692cef': 0.007759,\n",
       "             'c86656c': 0.056542,\n",
       "             '6907cdf': 0.021494,\n",
       "             'dc843fa': 0.010304,\n",
       "             '5a43b5f': 0.000622,\n",
       "             'ca15bc8': 0.016583,\n",
       "             '76d3967': 0.008109,\n",
       "             'bbf33d0': 0.22100900000000004,\n",
       "             'ca7ba25': 0.039305,\n",
       "             '77e0838': 0.012014,\n",
       "             'fd5868f': 0.010043999999999999,\n",
       "             '1c3e334': 7.2e-05,\n",
       "             'babdd52': 0.010031,\n",
       "             'd0f14f6': 0.012694,\n",
       "             '0818a58': 0.013416,\n",
       "             '4f8826d': 0.167078,\n",
       "             '155c578': 0.07138099999999999,\n",
       "             'f7571c1': 0.000469,\n",
       "             '9ea093f': 0.000848})"
      ]
     },
     "execution_count": 45,
     "metadata": {},
     "output_type": "execute_result"
    }
   ],
   "source": [
    "current_clade_frequencies"
   ]
  },
  {
   "cell_type": "code",
   "execution_count": 46,
   "metadata": {},
   "outputs": [
    {
     "data": {
      "text/plain": [
       "defaultdict(float,\n",
       "            {'0ecbd50': 0.08893899999999999,\n",
       "             '08e71a7': 0.000108,\n",
       "             'a68c89f': 0.093755,\n",
       "             '63121e8': 0.011248,\n",
       "             'dbe8977': 1.4e-05,\n",
       "             '8c9c2a3': 0.005896,\n",
       "             'b2735ac': 0.029451,\n",
       "             '816a19e': 0.00072,\n",
       "             'd5353fb': 2e-06,\n",
       "             '5c41b66': 0.00266,\n",
       "             '3981529': 0.009828,\n",
       "             'eacdfa7': 3.7000000000000005e-05,\n",
       "             '10b53cd': 0.032354,\n",
       "             'ab0001b': 0.0013419999999999999,\n",
       "             'a1211fc': 4.4e-05,\n",
       "             '5ea83cf': 0.2962340000000001,\n",
       "             '1d941a7': 0.034183,\n",
       "             '9213179': 0.06903700000000002,\n",
       "             '1c3e334': 0.005736,\n",
       "             '8c6e6c2': 0.008532999999999999,\n",
       "             'cbb5fb5': 0.0017989999999999998,\n",
       "             'a54d1ad': 0.026779999999999998,\n",
       "             'b70fa09': 0.004744,\n",
       "             'befedfa': 0.038659,\n",
       "             '68a154d': 0.000974,\n",
       "             'c86656c': 0.0036239999999999996,\n",
       "             '6907cdf': 0.001073,\n",
       "             'dc843fa': 4.9999999999999996e-06,\n",
       "             '5a43b5f': 0.000616,\n",
       "             'ca15bc8': 0.001268,\n",
       "             'bbf33d0': 0.020265,\n",
       "             'ca7ba25': 1.8e-05,\n",
       "             '77e0838': 0.039967,\n",
       "             '4d372e4': 0.020304,\n",
       "             'a85ad47': 0.018942999999999998,\n",
       "             'fd5868f': 0.053153,\n",
       "             'babdd52': 0.024496,\n",
       "             'd0f14f6': 6.1e-05,\n",
       "             '7fab961': 0.012376,\n",
       "             '0818a58': 0.015951,\n",
       "             '4f8826d': 0.014816,\n",
       "             '155c578': 0.009987})"
      ]
     },
     "execution_count": 46,
     "metadata": {},
     "output_type": "execute_result"
    }
   ],
   "source": [
    "previous_clade_frequencies"
   ]
  },
  {
   "cell_type": "markdown",
   "metadata": {},
   "source": [
    "## Calculate delta frequency per clade"
   ]
  },
  {
   "cell_type": "code",
   "execution_count": 49,
   "metadata": {},
   "outputs": [],
   "source": [
    "delta_time = frequencies.pivots[-1] - frequencies.pivots[-(delta_pivots + 1)]"
   ]
  },
  {
   "cell_type": "code",
   "execution_count": 50,
   "metadata": {},
   "outputs": [
    {
     "data": {
      "text/plain": [
       "0.5"
      ]
     },
     "execution_count": 50,
     "metadata": {},
     "output_type": "execute_result"
    }
   ],
   "source": [
    "delta_time"
   ]
  },
  {
   "cell_type": "code",
   "execution_count": 51,
   "metadata": {},
   "outputs": [],
   "source": [
    "delta_frequency_by_clade = {}\n",
    "for clade, current_frequency in current_clade_frequencies.items():\n",
    "    delta_frequency_by_clade[clade] = (current_frequency - previous_clade_frequencies.get(clade, 0.0)) / delta_time"
   ]
  },
  {
   "cell_type": "code",
   "execution_count": 55,
   "metadata": {},
   "outputs": [
    {
     "data": {
      "text/plain": [
       "Text(0,0.5,'number of clades')"
      ]
     },
     "execution_count": 55,
     "metadata": {},
     "output_type": "execute_result"
    },
    {
     "data": {
      "image/png": "[encoded data removed]",
      "text/plain": [
       "<Figure size 600x400 with 1 Axes>"
      ]
     },
     "metadata": {
      "needs_background": "light"
     },
     "output_type": "display_data"
    }
   ],
   "source": [
    "plt.hist(delta_frequency_by_clade.values(), bins=20)\n",
    "plt.xlabel(\"delta frequency\")\n",
    "plt.ylabel(\"number of clades\")"
   ]
  },
  {
   "cell_type": "code",
   "execution_count": 59,
   "metadata": {},
   "outputs": [
    {
     "data": {
      "text/plain": [
       "array([-1.53514e-01, -1.17660e-02, -1.43600e-03, -1.63620e-02,\n",
       "       -6.47000e-02,  8.31460e-02,  1.15194e-01, -3.68806e-01,\n",
       "       -6.87560e-02, -1.70640e-02,  2.12940e-02, -5.28660e-02,\n",
       "       -3.48200e-03, -8.55400e-03,  6.72000e-03,  1.55180e-02,\n",
       "        1.05836e-01,  4.08420e-02,  2.05980e-02,  1.20000e-05,\n",
       "        3.06300e-02,  1.62180e-02,  4.01488e-01,  7.85740e-02,\n",
       "       -5.59060e-02, -8.62180e-02, -1.13280e-02, -2.89300e-02,\n",
       "        2.52660e-02, -5.07000e-03,  3.04524e-01,  1.22788e-01,\n",
       "        9.38000e-04,  1.69600e-03])"
      ]
     },
     "execution_count": 59,
     "metadata": {},
     "output_type": "execute_result"
    }
   ],
   "source": [
    "np.array(list(delta_frequency_by_clade.values()))"
   ]
  },
  {
   "cell_type": "code",
   "execution_count": 71,
   "metadata": {},
   "outputs": [
    {
     "data": {
      "text/plain": [
       "Text(0,0.5,'number of clades')"
      ]
     },
     "execution_count": 71,
     "metadata": {},
     "output_type": "execute_result"
    },
    {
     "data": {
      "image/png": "[encoded data removed]",
      "text/plain": [
       "<Figure size 600x400 with 1 Axes>"
      ]
     },
     "metadata": {
      "needs_background": "light"
     },
     "output_type": "display_data"
    }
   ],
   "source": [
    "plt.hist(np.exp(np.array(list(delta_frequency_by_clade.values()))), bins=20)\n",
    "plt.xlabel(\"growth factor (exp(delta frequency))\")\n",
    "plt.ylabel(\"number of clades\")"
   ]
  },
  {
   "cell_type": "markdown",
   "metadata": {},
   "source": [
    "If the delta frequency for a clade is 0, then its exponential growth factor based on that fitness estimate will be 1 meaning that there will be no predicted change in frequency if there is no historical change in frequency."
   ]
  },
  {
   "cell_type": "markdown",
   "metadata": {},
   "source": [
    "## Propagate clade delta frequencies back to tips"
   ]
  },
  {
   "cell_type": "code",
   "execution_count": 73,
   "metadata": {},
   "outputs": [],
   "source": [
    "all_deltas = []\n",
    "extant_deltas = []\n",
    "delta_frequency = {}\n",
    "for tip in tree.find_clades(terminal=True):\n",
    "    delta_frequency[tip.name] = {\n",
    "        \"delta_frequency\": delta_frequency_by_clade.get(clades_by_tip[tip.name], 0.0)\n",
    "    }\n",
    "    \n",
    "    all_deltas.append(delta_frequency_by_clade.get(clades_by_tip[tip.name], 0.0))\n",
    "    \n",
    "    if frequencies.frequencies[tip.name][-1] > 0.0:\n",
    "        extant_deltas.append(delta_frequency_by_clade.get(clades_by_tip[tip.name], 0.0))"
   ]
  },
  {
   "cell_type": "code",
   "execution_count": 79,
   "metadata": {},
   "outputs": [],
   "source": [
    "all_deltas = np.array(all_deltas)\n",
    "extant_deltas = np.array(extant_deltas)"
   ]
  },
  {
   "cell_type": "code",
   "execution_count": 80,
   "metadata": {},
   "outputs": [
    {
     "data": {
      "text/plain": [
       "[('A/Indonesia/1142/2006', {'delta_frequency': 0.0}),\n",
       " ('A/Leiden/87509/2005', {'delta_frequency': 0.0}),\n",
       " ('A/Incheon/677/2006', {'delta_frequency': 0.0}),\n",
       " ('A/Hanoi/TN403/2005', {'delta_frequency': 0.0}),\n",
       " ('A/Seoul/865/2006', {'delta_frequency': 0.0})]"
      ]
     },
     "execution_count": 80,
     "metadata": {},
     "output_type": "execute_result"
    }
   ],
   "source": [
    "list(delta_frequency.items())[:5]"
   ]
  },
  {
   "cell_type": "code",
   "execution_count": 81,
   "metadata": {},
   "outputs": [
    {
     "data": {
      "text/plain": [
       "Text(0,0.5,'number of tips')"
      ]
     },
     "execution_count": 81,
     "metadata": {},
     "output_type": "execute_result"
    },
    {
     "data": {
      "image/png": "[encoded data removed]",
      "text/plain": [
       "<Figure size 600x400 with 1 Axes>"
      ]
     },
     "metadata": {
      "needs_background": "light"
     },
     "output_type": "display_data"
    }
   ],
   "source": [
    "plt.hist(all_deltas, bins=20)\n",
    "plt.xlabel(\"delta frequency\")\n",
    "plt.ylabel(\"number of tips\")"
   ]
  },
  {
   "cell_type": "code",
   "execution_count": 82,
   "metadata": {},
   "outputs": [
    {
     "data": {
      "text/plain": [
       "Text(0,0.5,'number of tips')"
      ]
     },
     "execution_count": 82,
     "metadata": {},
     "output_type": "execute_result"
    },
    {
     "data": {
      "image/png": "[encoded data removed]",
      "text/plain": [
       "<Figure size 600x400 with 1 Axes>"
      ]
     },
     "metadata": {
      "needs_background": "light"
     },
     "output_type": "display_data"
    }
   ],
   "source": [
    "plt.hist(extant_deltas, bins=20)\n",
    "plt.xlabel(\"delta frequency\")\n",
    "plt.ylabel(\"number of tips\")"
   ]
  },
  {
   "cell_type": "code",
   "execution_count": 83,
   "metadata": {},
   "outputs": [],
   "source": [
    "standard_deltas = (extant_deltas - extant_deltas.mean()) / extant_deltas.std()"
   ]
  },
  {
   "cell_type": "code",
   "execution_count": 84,
   "metadata": {},
   "outputs": [
    {
     "data": {
      "text/plain": [
       "Text(0,0.5,'number of tips')"
      ]
     },
     "execution_count": 84,
     "metadata": {},
     "output_type": "execute_result"
    },
    {
     "data": {
      "image/png": "[encoded data removed]",
      "text/plain": [
       "<Figure size 600x400 with 1 Axes>"
      ]
     },
     "metadata": {
      "needs_background": "light"
     },
     "output_type": "display_data"
    }
   ],
   "source": [
    "plt.hist(standard_deltas, bins=20)\n",
    "plt.xlabel(\"standardized delta frequency\")\n",
    "plt.ylabel(\"number of tips\")"
   ]
  },
  {
   "cell_type": "code",
   "execution_count": 85,
   "metadata": {},
   "outputs": [
    {
     "data": {
      "text/plain": [
       "0.23896209891050693"
      ]
     },
     "execution_count": 85,
     "metadata": {},
     "output_type": "execute_result"
    }
   ],
   "source": [
    "extant_deltas.std()"
   ]
  },
  {
   "cell_type": "code",
   "execution_count": null,
   "metadata": {},
   "outputs": [],
   "source": []
  }
 ],
 "metadata": {
  "kernelspec": {
   "display_name": "Python 3",
   "language": "python",
   "name": "python3"
  },
  "language_info": {
   "codemirror_mode": {
    "name": "ipython",
    "version": 3
   },
   "file_extension": ".py",
   "mimetype": "text/x-python",
   "name": "python",
   "nbconvert_exporter": "python",
   "pygments_lexer": "ipython3",
   "version": "3.6.7"
  }
 },
 "nbformat": 4,
 "nbformat_minor": 2
}
