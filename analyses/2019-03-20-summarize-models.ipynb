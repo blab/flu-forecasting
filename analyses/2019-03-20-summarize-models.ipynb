{
 "cells": [
  {
   "cell_type": "markdown",
   "metadata": {},
   "source": [
    "# Summarize models\n",
    "\n",
    "Summarize fitness models from JSONs including plots of overall model error, error per timepoint, and coefficients."
   ]
  },
  {
   "cell_type": "code",
   "execution_count": 339,
   "metadata": {},
   "outputs": [],
   "source": [
    "from collections import defaultdict\n",
    "import glob\n",
    "import json\n",
    "import matplotlib.pyplot as plt\n",
    "import matplotlib.gridspec as gridspec\n",
    "import networkx as nx\n",
    "import numpy as np\n",
    "import pandas as pd\n",
    "import seaborn as sns\n",
    "\n",
    "%matplotlib inline"
   ]
  },
  {
   "cell_type": "code",
   "execution_count": 340,
   "metadata": {},
   "outputs": [],
   "source": [
    "#sns.set_style(\"ticks\")\n",
    "plt.style.use(\"huddlej\")"
   ]
  },
  {
   "cell_type": "code",
   "execution_count": 341,
   "metadata": {},
   "outputs": [
    {
     "name": "stdout",
     "output_type": "stream",
     "text": [
      "/Users/jlhudd/projects/nextstrain/flu-forecasting/analyses\n"
     ]
    }
   ],
   "source": [
    "!pwd"
   ]
  },
  {
   "cell_type": "code",
   "execution_count": 342,
   "metadata": {},
   "outputs": [],
   "source": [
    "def mean_absolute_error(observed, estimated, **kwargs):\n",
    "    \"\"\"\n",
    "    Calculates the mean absolute error between observed and estimated values.\n",
    "\n",
    "    Parameters\n",
    "    ----------\n",
    "    observed : numpy.ndarray\n",
    "        observed values\n",
    "\n",
    "    estimated : numpy.ndarray\n",
    "        estimated values\n",
    "\n",
    "    Returns\n",
    "    -------\n",
    "    float :\n",
    "        mean absolute error between observed and estimated values\n",
    "    \"\"\"\n",
    "    return np.mean(np.abs(observed - estimated))\n",
    "\n",
    "def facet_time_plot(data, value, value_label, timepoint_column=\"timepoint\", predictors_column=\"predictors\"):\n",
    "    g = sns.FacetGrid(data, col=predictors_column, col_wrap=3, height=4)\n",
    "    g.map_dataframe(sns.lineplot, x=timepoint_column, y=value, estimator=\"mean\", ci=\"sd\", markers=True, dashes=False,\n",
    "                   style=predictors_column)\n",
    "    g.set_axis_labels(\"Date\", value_label)\n",
    "\n",
    "    for ax in g.axes.flatten():\n",
    "        ax.axhline(y=0, color=\"#cccccc\")\n",
    "\n",
    "        #start, end = [int(value) for value in ax.get_xlim()]\n",
    "        #end = end + 1\n",
    "        #stepsize = 2.0\n",
    "        #ax.xaxis.set_ticks(np.arange(start, end, stepsize))\n",
    "\n",
    "        #labels = ax.get_xticklabels()\n",
    "        #output = plt.setp(labels, rotation=30)\n",
    "        \n",
    "    plt.gcf().autofmt_xdate()\n",
    "    return g"
   ]
  },
  {
   "cell_type": "code",
   "execution_count": 343,
   "metadata": {},
   "outputs": [],
   "source": [
    "predictor_names_order = [\n",
    "    \"naive\",\n",
    "    \"lbi\",\n",
    "    \"ep_x\",\n",
    "    \"cTiterSub_x\",\n",
    "    \"ne_star\",\n",
    "    \"dms_star\"\n",
    "]"
   ]
  },
  {
   "cell_type": "code",
   "execution_count": 344,
   "metadata": {},
   "outputs": [],
   "source": [
    "model_jsons = glob.glob(\"../results/builds/h3n2/5_viruses_per_month/sample_0/2005-10-01--2015-10-01/models/*.json\")"
   ]
  },
  {
   "cell_type": "code",
   "execution_count": 345,
   "metadata": {},
   "outputs": [],
   "source": [
    "models_by_predictors = {}\n",
    "\n",
    "for model_json in model_jsons:\n",
    "    with open(model_json, \"r\") as fh:\n",
    "        data = json.load(fh)\n",
    "        models_by_predictors[\"-\".join(data[\"predictors\"])] = data"
   ]
  },
  {
   "cell_type": "code",
   "execution_count": 346,
   "metadata": {},
   "outputs": [
    {
     "data": {
      "text/plain": [
       "dict_keys(['scores', 'predictors', 'cv_error_mean', 'cv_error_std', 'coefficients_mean', 'coefficients_std', 'cost_function', 'l1_lambda', 'delta_months', 'training_window', 'pseudocount'])"
      ]
     },
     "execution_count": 346,
     "metadata": {},
     "output_type": "execute_result"
    }
   ],
   "source": [
    "models_by_predictors[\"lbi\"].keys()"
   ]
  },
  {
   "cell_type": "code",
   "execution_count": 347,
   "metadata": {},
   "outputs": [
    {
     "data": {
      "text/plain": [
       "dict_keys(['predictors', 'training_data', 'training_n', 'training_error', 'coefficients', 'validation_data', 'validation_n', 'validation_error', 'last_training_timepoint', 'validation_timepoint'])"
      ]
     },
     "execution_count": 347,
     "metadata": {},
     "output_type": "execute_result"
    }
   ],
   "source": [
    "models_by_predictors[\"lbi\"][\"scores\"][0].keys()"
   ]
  },
  {
   "cell_type": "code",
   "execution_count": 348,
   "metadata": {},
   "outputs": [
    {
     "data": {
      "text/plain": [
       "dict_keys(['X', 'y', 'y_hat'])"
      ]
     },
     "execution_count": 348,
     "metadata": {},
     "output_type": "execute_result"
    }
   ],
   "source": [
    "models_by_predictors[\"lbi\"][\"scores\"][0][\"validation_data\"].keys()"
   ]
  },
  {
   "cell_type": "code",
   "execution_count": 349,
   "metadata": {},
   "outputs": [
    {
     "data": {
      "text/plain": [
       "1"
      ]
     },
     "execution_count": 349,
     "metadata": {},
     "output_type": "execute_result"
    }
   ],
   "source": [
    "len(models_by_predictors[\"lbi\"][\"scores\"])"
   ]
  },
  {
   "cell_type": "markdown",
   "metadata": {},
   "source": [
    "Build data frames for plotting from the model scores."
   ]
  },
  {
   "cell_type": "code",
   "execution_count": 350,
   "metadata": {},
   "outputs": [],
   "source": [
    "overall_errors = []\n",
    "errors_by_time = []\n",
    "overall_coefficients = []\n",
    "coefficients_by_time = []\n",
    "frequency_dfs = []\n",
    "\n",
    "for predictors, model in models_by_predictors.items():\n",
    "    overall_errors.append({\n",
    "        \"predictors\": predictors,\n",
    "        \"cv_error_mean\": model[\"cv_error_mean\"],\n",
    "        \"cv_error_std\": model[\"cv_error_std\"]\n",
    "    })\n",
    "\n",
    "    for predictor, mean, std in zip(model[\"predictors\"], model[\"coefficients_mean\"], model[\"coefficients_std\"]):\n",
    "        overall_coefficients.append({\n",
    "            \"predictors\": predictors,\n",
    "            \"predictor\": predictor,\n",
    "            \"mean\": mean,\n",
    "            \"std\": std\n",
    "        })\n",
    "    \n",
    "    for scores in model[\"scores\"]:\n",
    "        errors_by_time.append({\n",
    "            \"predictors\": predictors,\n",
    "            \"validation_timepoint\": scores[\"validation_timepoint\"],\n",
    "            \"validation_error\": scores[\"validation_error\"],\n",
    "            \"validation_n\": scores[\"validation_n\"]\n",
    "        })\n",
    "        \n",
    "        coefficients_by_time.append({\n",
    "            \"predictors\": predictors,\n",
    "            \"validation_timepoint\": scores[\"validation_timepoint\"],\n",
    "            \"coefficients\": scores[\"validation_error\"],\n",
    "            \"validation_n\": scores[\"validation_n\"]\n",
    "        })\n",
    "        \n",
    "        X = pd.DataFrame(scores[\"validation_data\"][\"X\"])\n",
    "        X[\"timepoint\"] = pd.to_datetime(X[\"timepoint\"])\n",
    "        y_init = X.groupby([\"timepoint\", \"clade_membership\"])[\"frequency\"].sum().reset_index()\n",
    "        \n",
    "        y = pd.DataFrame(scores[\"validation_data\"][\"y\"])\n",
    "        y[\"timepoint\"] = pd.to_datetime(y[\"timepoint\"])\n",
    "\n",
    "        y_hat = pd.DataFrame(scores[\"validation_data\"][\"y_hat\"])\n",
    "        y_hat[\"timepoint\"] = pd.to_datetime(y_hat[\"timepoint\"])\n",
    "\n",
    "        frequency_df = y.merge(y_hat, on=[\"timepoint\", \"clade_membership\"], suffixes=[\"\", \"_hat\"])\n",
    "        frequency_df = frequency_df.merge(y_init, on=[\"timepoint\", \"clade_membership\"], suffixes=[\"\", \"_init\"])\n",
    "        frequency_df[\"residual\"] = frequency_df[\"frequency\"] - frequency_df[\"frequency_hat\"]\n",
    "        frequency_df[\"observed_growth_rate\"] = frequency_df[\"frequency\"] / frequency_df[\"frequency_init\"]\n",
    "        frequency_df[\"predicted_growth_rate\"] = frequency_df[\"frequency_hat\"] / frequency_df[\"frequency_init\"]\n",
    "        frequency_df[\"validation_timepoint\"] = pd.to_datetime(scores[\"validation_timepoint\"])\n",
    "        frequency_df[\"predictors\"] = predictors\n",
    "        frequency_dfs.append(frequency_df)\n",
    "    \n",
    "overall_errors_df = pd.DataFrame(overall_errors)\n",
    "errors_by_time_df = pd.DataFrame(errors_by_time)\n",
    "overall_coefficients_df = pd.DataFrame(overall_coefficients)\n",
    "frequency_df = pd.concat(frequency_dfs, ignore_index=True)"
   ]
  },
  {
   "cell_type": "code",
   "execution_count": 351,
   "metadata": {},
   "outputs": [
    {
     "data": {
      "text/html": [
       "<div>\n",
       "<style scoped>\n",
       "    .dataframe tbody tr th:only-of-type {\n",
       "        vertical-align: middle;\n",
       "    }\n",
       "\n",
       "    .dataframe tbody tr th {\n",
       "        vertical-align: top;\n",
       "    }\n",
       "\n",
       "    .dataframe thead th {\n",
       "        text-align: right;\n",
       "    }\n",
       "</style>\n",
       "<table border=\"1\" class=\"dataframe\">\n",
       "  <thead>\n",
       "    <tr style=\"text-align: right;\">\n",
       "      <th></th>\n",
       "      <th>cv_error_mean</th>\n",
       "      <th>cv_error_std</th>\n",
       "      <th>predictors</th>\n",
       "    </tr>\n",
       "  </thead>\n",
       "  <tbody>\n",
       "    <tr>\n",
       "      <th>0</th>\n",
       "      <td>0.049727</td>\n",
       "      <td>0.0</td>\n",
       "      <td>dms_star</td>\n",
       "    </tr>\n",
       "    <tr>\n",
       "      <th>1</th>\n",
       "      <td>0.041312</td>\n",
       "      <td>0.0</td>\n",
       "      <td>lbi</td>\n",
       "    </tr>\n",
       "    <tr>\n",
       "      <th>2</th>\n",
       "      <td>0.044443</td>\n",
       "      <td>0.0</td>\n",
       "      <td>ne_star</td>\n",
       "    </tr>\n",
       "    <tr>\n",
       "      <th>3</th>\n",
       "      <td>0.018496</td>\n",
       "      <td>0.0</td>\n",
       "      <td>cTiterSub_x</td>\n",
       "    </tr>\n",
       "    <tr>\n",
       "      <th>4</th>\n",
       "      <td>0.052232</td>\n",
       "      <td>0.0</td>\n",
       "      <td>ep_x</td>\n",
       "    </tr>\n",
       "    <tr>\n",
       "      <th>5</th>\n",
       "      <td>0.051094</td>\n",
       "      <td>0.0</td>\n",
       "      <td>naive</td>\n",
       "    </tr>\n",
       "  </tbody>\n",
       "</table>\n",
       "</div>"
      ],
      "text/plain": [
       "   cv_error_mean  cv_error_std   predictors\n",
       "0       0.049727           0.0     dms_star\n",
       "1       0.041312           0.0          lbi\n",
       "2       0.044443           0.0      ne_star\n",
       "3       0.018496           0.0  cTiterSub_x\n",
       "4       0.052232           0.0         ep_x\n",
       "5       0.051094           0.0        naive"
      ]
     },
     "execution_count": 351,
     "metadata": {},
     "output_type": "execute_result"
    }
   ],
   "source": [
    "overall_errors_df"
   ]
  },
  {
   "cell_type": "code",
   "execution_count": 352,
   "metadata": {},
   "outputs": [
    {
     "data": {
      "text/html": [
       "<div>\n",
       "<style scoped>\n",
       "    .dataframe tbody tr th:only-of-type {\n",
       "        vertical-align: middle;\n",
       "    }\n",
       "\n",
       "    .dataframe tbody tr th {\n",
       "        vertical-align: top;\n",
       "    }\n",
       "\n",
       "    .dataframe thead th {\n",
       "        text-align: right;\n",
       "    }\n",
       "</style>\n",
       "<table border=\"1\" class=\"dataframe\">\n",
       "  <thead>\n",
       "    <tr style=\"text-align: right;\">\n",
       "      <th></th>\n",
       "      <th>predictors</th>\n",
       "      <th>validation_error</th>\n",
       "      <th>validation_n</th>\n",
       "      <th>validation_timepoint</th>\n",
       "    </tr>\n",
       "  </thead>\n",
       "  <tbody>\n",
       "    <tr>\n",
       "      <th>0</th>\n",
       "      <td>dms_star</td>\n",
       "      <td>0.049727</td>\n",
       "      <td>14</td>\n",
       "      <td>2011-10-01</td>\n",
       "    </tr>\n",
       "    <tr>\n",
       "      <th>1</th>\n",
       "      <td>lbi</td>\n",
       "      <td>0.041312</td>\n",
       "      <td>14</td>\n",
       "      <td>2011-10-01</td>\n",
       "    </tr>\n",
       "    <tr>\n",
       "      <th>2</th>\n",
       "      <td>ne_star</td>\n",
       "      <td>0.044443</td>\n",
       "      <td>14</td>\n",
       "      <td>2011-10-01</td>\n",
       "    </tr>\n",
       "    <tr>\n",
       "      <th>3</th>\n",
       "      <td>cTiterSub_x</td>\n",
       "      <td>0.018496</td>\n",
       "      <td>14</td>\n",
       "      <td>2011-10-01</td>\n",
       "    </tr>\n",
       "    <tr>\n",
       "      <th>4</th>\n",
       "      <td>ep_x</td>\n",
       "      <td>0.052232</td>\n",
       "      <td>14</td>\n",
       "      <td>2011-10-01</td>\n",
       "    </tr>\n",
       "    <tr>\n",
       "      <th>5</th>\n",
       "      <td>naive</td>\n",
       "      <td>0.051094</td>\n",
       "      <td>14</td>\n",
       "      <td>2011-10-01</td>\n",
       "    </tr>\n",
       "  </tbody>\n",
       "</table>\n",
       "</div>"
      ],
      "text/plain": [
       "    predictors  validation_error  validation_n validation_timepoint\n",
       "0     dms_star          0.049727            14           2011-10-01\n",
       "1          lbi          0.041312            14           2011-10-01\n",
       "2      ne_star          0.044443            14           2011-10-01\n",
       "3  cTiterSub_x          0.018496            14           2011-10-01\n",
       "4         ep_x          0.052232            14           2011-10-01\n",
       "5        naive          0.051094            14           2011-10-01"
      ]
     },
     "execution_count": 352,
     "metadata": {},
     "output_type": "execute_result"
    }
   ],
   "source": [
    "errors_by_time_df"
   ]
  },
  {
   "cell_type": "code",
   "execution_count": 353,
   "metadata": {},
   "outputs": [
    {
     "data": {
      "text/html": [
       "<div>\n",
       "<style scoped>\n",
       "    .dataframe tbody tr th:only-of-type {\n",
       "        vertical-align: middle;\n",
       "    }\n",
       "\n",
       "    .dataframe tbody tr th {\n",
       "        vertical-align: top;\n",
       "    }\n",
       "\n",
       "    .dataframe thead th {\n",
       "        text-align: right;\n",
       "    }\n",
       "</style>\n",
       "<table border=\"1\" class=\"dataframe\">\n",
       "  <thead>\n",
       "    <tr style=\"text-align: right;\">\n",
       "      <th></th>\n",
       "      <th>mean</th>\n",
       "      <th>predictor</th>\n",
       "      <th>predictors</th>\n",
       "      <th>std</th>\n",
       "    </tr>\n",
       "  </thead>\n",
       "  <tbody>\n",
       "    <tr>\n",
       "      <th>0</th>\n",
       "      <td>0.998828</td>\n",
       "      <td>dms_star</td>\n",
       "      <td>dms_star</td>\n",
       "      <td>0.0</td>\n",
       "    </tr>\n",
       "    <tr>\n",
       "      <th>1</th>\n",
       "      <td>0.274356</td>\n",
       "      <td>lbi</td>\n",
       "      <td>lbi</td>\n",
       "      <td>0.0</td>\n",
       "    </tr>\n",
       "    <tr>\n",
       "      <th>2</th>\n",
       "      <td>-1.397777</td>\n",
       "      <td>ne_star</td>\n",
       "      <td>ne_star</td>\n",
       "      <td>0.0</td>\n",
       "    </tr>\n",
       "    <tr>\n",
       "      <th>3</th>\n",
       "      <td>1.430896</td>\n",
       "      <td>cTiterSub_x</td>\n",
       "      <td>cTiterSub_x</td>\n",
       "      <td>0.0</td>\n",
       "    </tr>\n",
       "    <tr>\n",
       "      <th>4</th>\n",
       "      <td>-0.205354</td>\n",
       "      <td>ep_x</td>\n",
       "      <td>ep_x</td>\n",
       "      <td>0.0</td>\n",
       "    </tr>\n",
       "    <tr>\n",
       "      <th>5</th>\n",
       "      <td>0.000000</td>\n",
       "      <td>naive</td>\n",
       "      <td>naive</td>\n",
       "      <td>0.0</td>\n",
       "    </tr>\n",
       "  </tbody>\n",
       "</table>\n",
       "</div>"
      ],
      "text/plain": [
       "       mean    predictor   predictors  std\n",
       "0  0.998828     dms_star     dms_star  0.0\n",
       "1  0.274356          lbi          lbi  0.0\n",
       "2 -1.397777      ne_star      ne_star  0.0\n",
       "3  1.430896  cTiterSub_x  cTiterSub_x  0.0\n",
       "4 -0.205354         ep_x         ep_x  0.0\n",
       "5  0.000000        naive        naive  0.0"
      ]
     },
     "execution_count": 353,
     "metadata": {},
     "output_type": "execute_result"
    }
   ],
   "source": [
    "overall_coefficients_df"
   ]
  },
  {
   "cell_type": "code",
   "execution_count": 354,
   "metadata": {},
   "outputs": [
    {
     "data": {
      "text/html": [
       "<div>\n",
       "<style scoped>\n",
       "    .dataframe tbody tr th:only-of-type {\n",
       "        vertical-align: middle;\n",
       "    }\n",
       "\n",
       "    .dataframe tbody tr th {\n",
       "        vertical-align: top;\n",
       "    }\n",
       "\n",
       "    .dataframe thead th {\n",
       "        text-align: right;\n",
       "    }\n",
       "</style>\n",
       "<table border=\"1\" class=\"dataframe\">\n",
       "  <thead>\n",
       "    <tr style=\"text-align: right;\">\n",
       "      <th></th>\n",
       "      <th>clade_membership</th>\n",
       "      <th>frequency</th>\n",
       "      <th>timepoint</th>\n",
       "      <th>frequency_hat</th>\n",
       "      <th>frequency_init</th>\n",
       "      <th>residual</th>\n",
       "      <th>observed_growth_rate</th>\n",
       "      <th>predicted_growth_rate</th>\n",
       "      <th>validation_timepoint</th>\n",
       "      <th>predictors</th>\n",
       "    </tr>\n",
       "  </thead>\n",
       "  <tbody>\n",
       "    <tr>\n",
       "      <th>0</th>\n",
       "      <td>216b1df</td>\n",
       "      <td>0.000000</td>\n",
       "      <td>2011-10-01</td>\n",
       "      <td>0.001259</td>\n",
       "      <td>0.001058</td>\n",
       "      <td>-0.001259</td>\n",
       "      <td>0.000000</td>\n",
       "      <td>1.189514</td>\n",
       "      <td>2011-10-01</td>\n",
       "      <td>dms_star</td>\n",
       "    </tr>\n",
       "    <tr>\n",
       "      <th>1</th>\n",
       "      <td>23082c4</td>\n",
       "      <td>0.000000</td>\n",
       "      <td>2011-10-01</td>\n",
       "      <td>0.000451</td>\n",
       "      <td>0.000432</td>\n",
       "      <td>-0.000451</td>\n",
       "      <td>0.000000</td>\n",
       "      <td>1.043302</td>\n",
       "      <td>2011-10-01</td>\n",
       "      <td>dms_star</td>\n",
       "    </tr>\n",
       "    <tr>\n",
       "      <th>2</th>\n",
       "      <td>361f8b8</td>\n",
       "      <td>0.051510</td>\n",
       "      <td>2011-10-01</td>\n",
       "      <td>0.071372</td>\n",
       "      <td>0.092113</td>\n",
       "      <td>-0.019862</td>\n",
       "      <td>0.559204</td>\n",
       "      <td>0.774826</td>\n",
       "      <td>2011-10-01</td>\n",
       "      <td>dms_star</td>\n",
       "    </tr>\n",
       "    <tr>\n",
       "      <th>3</th>\n",
       "      <td>3f5a5d3</td>\n",
       "      <td>0.053491</td>\n",
       "      <td>2011-10-01</td>\n",
       "      <td>0.080086</td>\n",
       "      <td>0.075229</td>\n",
       "      <td>-0.026595</td>\n",
       "      <td>0.711042</td>\n",
       "      <td>1.064562</td>\n",
       "      <td>2011-10-01</td>\n",
       "      <td>dms_star</td>\n",
       "    </tr>\n",
       "    <tr>\n",
       "      <th>4</th>\n",
       "      <td>475ef64</td>\n",
       "      <td>0.000000</td>\n",
       "      <td>2011-10-01</td>\n",
       "      <td>0.000001</td>\n",
       "      <td>0.000001</td>\n",
       "      <td>-0.000001</td>\n",
       "      <td>0.000000</td>\n",
       "      <td>1.043302</td>\n",
       "      <td>2011-10-01</td>\n",
       "      <td>dms_star</td>\n",
       "    </tr>\n",
       "  </tbody>\n",
       "</table>\n",
       "</div>"
      ],
      "text/plain": [
       "  clade_membership  frequency  timepoint  frequency_hat  frequency_init  \\\n",
       "0          216b1df   0.000000 2011-10-01       0.001259        0.001058   \n",
       "1          23082c4   0.000000 2011-10-01       0.000451        0.000432   \n",
       "2          361f8b8   0.051510 2011-10-01       0.071372        0.092113   \n",
       "3          3f5a5d3   0.053491 2011-10-01       0.080086        0.075229   \n",
       "4          475ef64   0.000000 2011-10-01       0.000001        0.000001   \n",
       "\n",
       "   residual  observed_growth_rate  predicted_growth_rate validation_timepoint  \\\n",
       "0 -0.001259              0.000000               1.189514           2011-10-01   \n",
       "1 -0.000451              0.000000               1.043302           2011-10-01   \n",
       "2 -0.019862              0.559204               0.774826           2011-10-01   \n",
       "3 -0.026595              0.711042               1.064562           2011-10-01   \n",
       "4 -0.000001              0.000000               1.043302           2011-10-01   \n",
       "\n",
       "  predictors  \n",
       "0   dms_star  \n",
       "1   dms_star  \n",
       "2   dms_star  \n",
       "3   dms_star  \n",
       "4   dms_star  "
      ]
     },
     "execution_count": 354,
     "metadata": {},
     "output_type": "execute_result"
    }
   ],
   "source": [
    "frequency_df.head()"
   ]
  },
  {
   "cell_type": "code",
   "execution_count": 355,
   "metadata": {},
   "outputs": [
    {
     "data": {
      "image/png": "[encoded data removed]",
      "text/plain": [
       "<Figure size 900x600 with 6 Axes>"
      ]
     },
     "metadata": {
      "needs_background": "light"
     },
     "output_type": "display_data"
    }
   ],
   "source": [
    "g = sns.FacetGrid(frequency_df, col=\"predictors\", col_wrap=3)\n",
    "g.map(plt.plot, \"frequency\", \"frequency_hat\", marker=\"o\", linestyle=\"\", alpha=0.7)\n",
    "\n",
    "for ax in g.axes.flatten():\n",
    "    ax.set_xlim(-0.05, 1)\n",
    "    ax.set_ylim(-0.05, 1)"
   ]
  },
  {
   "cell_type": "code",
   "execution_count": 356,
   "metadata": {},
   "outputs": [
    {
     "data": {
      "image/png": "[encoded data removed]",
      "text/plain": [
       "<Figure size 900x600 with 6 Axes>"
      ]
     },
     "metadata": {
      "needs_background": "light"
     },
     "output_type": "display_data"
    }
   ],
   "source": [
    "g = sns.FacetGrid(frequency_df, col=\"predictors\", col_wrap=3)\n",
    "g.map(plt.plot, \"observed_growth_rate\", \"predicted_growth_rate\", marker=\"o\", linestyle=\"\", alpha=0.7)\n",
    "\n",
    "for ax in g.axes.flatten():\n",
    "    ax.set_xlim(-0.05, 3)\n",
    "    ax.set_ylim(-0.05, 3)"
   ]
  },
  {
   "cell_type": "code",
   "execution_count": 357,
   "metadata": {},
   "outputs": [],
   "source": [
    "mae_df = frequency_df.groupby(\"predictors\").apply(\n",
    "    lambda group_df: mean_absolute_error(group_df[\"frequency\"], group_df[\"frequency_hat\"])\n",
    ").reset_index().rename(columns={0: \"mae\"})"
   ]
  },
  {
   "cell_type": "code",
   "execution_count": 358,
   "metadata": {},
   "outputs": [
    {
     "data": {
      "text/html": [
       "<div>\n",
       "<style scoped>\n",
       "    .dataframe tbody tr th:only-of-type {\n",
       "        vertical-align: middle;\n",
       "    }\n",
       "\n",
       "    .dataframe tbody tr th {\n",
       "        vertical-align: top;\n",
       "    }\n",
       "\n",
       "    .dataframe thead th {\n",
       "        text-align: right;\n",
       "    }\n",
       "</style>\n",
       "<table border=\"1\" class=\"dataframe\">\n",
       "  <thead>\n",
       "    <tr style=\"text-align: right;\">\n",
       "      <th></th>\n",
       "      <th>predictors</th>\n",
       "      <th>mae</th>\n",
       "    </tr>\n",
       "  </thead>\n",
       "  <tbody>\n",
       "    <tr>\n",
       "      <th>0</th>\n",
       "      <td>cTiterSub_x</td>\n",
       "      <td>0.018496</td>\n",
       "    </tr>\n",
       "    <tr>\n",
       "      <th>1</th>\n",
       "      <td>dms_star</td>\n",
       "      <td>0.049727</td>\n",
       "    </tr>\n",
       "    <tr>\n",
       "      <th>2</th>\n",
       "      <td>ep_x</td>\n",
       "      <td>0.052232</td>\n",
       "    </tr>\n",
       "    <tr>\n",
       "      <th>3</th>\n",
       "      <td>lbi</td>\n",
       "      <td>0.041312</td>\n",
       "    </tr>\n",
       "    <tr>\n",
       "      <th>4</th>\n",
       "      <td>naive</td>\n",
       "      <td>0.051094</td>\n",
       "    </tr>\n",
       "    <tr>\n",
       "      <th>5</th>\n",
       "      <td>ne_star</td>\n",
       "      <td>0.044443</td>\n",
       "    </tr>\n",
       "  </tbody>\n",
       "</table>\n",
       "</div>"
      ],
      "text/plain": [
       "    predictors       mae\n",
       "0  cTiterSub_x  0.018496\n",
       "1     dms_star  0.049727\n",
       "2         ep_x  0.052232\n",
       "3          lbi  0.041312\n",
       "4        naive  0.051094\n",
       "5      ne_star  0.044443"
      ]
     },
     "execution_count": 358,
     "metadata": {},
     "output_type": "execute_result"
    }
   ],
   "source": [
    "mae_df"
   ]
  },
  {
   "cell_type": "code",
   "execution_count": 359,
   "metadata": {},
   "outputs": [],
   "source": [
    "mae_by_timepoint_df = frequency_df.groupby([\"predictors\", \"validation_timepoint\"]).apply(\n",
    "    lambda group_df: mean_absolute_error(group_df[\"frequency\"], group_df[\"frequency_hat\"])\n",
    ").reset_index().rename(columns={0: \"mae\"})"
   ]
  },
  {
   "cell_type": "code",
   "execution_count": 360,
   "metadata": {},
   "outputs": [
    {
     "data": {
      "text/html": [
       "<div>\n",
       "<style scoped>\n",
       "    .dataframe tbody tr th:only-of-type {\n",
       "        vertical-align: middle;\n",
       "    }\n",
       "\n",
       "    .dataframe tbody tr th {\n",
       "        vertical-align: top;\n",
       "    }\n",
       "\n",
       "    .dataframe thead th {\n",
       "        text-align: right;\n",
       "    }\n",
       "</style>\n",
       "<table border=\"1\" class=\"dataframe\">\n",
       "  <thead>\n",
       "    <tr style=\"text-align: right;\">\n",
       "      <th></th>\n",
       "      <th>predictors</th>\n",
       "      <th>validation_timepoint</th>\n",
       "      <th>mae</th>\n",
       "    </tr>\n",
       "  </thead>\n",
       "  <tbody>\n",
       "    <tr>\n",
       "      <th>0</th>\n",
       "      <td>cTiterSub_x</td>\n",
       "      <td>2011-10-01</td>\n",
       "      <td>0.018496</td>\n",
       "    </tr>\n",
       "    <tr>\n",
       "      <th>1</th>\n",
       "      <td>dms_star</td>\n",
       "      <td>2011-10-01</td>\n",
       "      <td>0.049727</td>\n",
       "    </tr>\n",
       "    <tr>\n",
       "      <th>2</th>\n",
       "      <td>ep_x</td>\n",
       "      <td>2011-10-01</td>\n",
       "      <td>0.052232</td>\n",
       "    </tr>\n",
       "    <tr>\n",
       "      <th>3</th>\n",
       "      <td>lbi</td>\n",
       "      <td>2011-10-01</td>\n",
       "      <td>0.041312</td>\n",
       "    </tr>\n",
       "    <tr>\n",
       "      <th>4</th>\n",
       "      <td>naive</td>\n",
       "      <td>2011-10-01</td>\n",
       "      <td>0.051094</td>\n",
       "    </tr>\n",
       "    <tr>\n",
       "      <th>5</th>\n",
       "      <td>ne_star</td>\n",
       "      <td>2011-10-01</td>\n",
       "      <td>0.044443</td>\n",
       "    </tr>\n",
       "  </tbody>\n",
       "</table>\n",
       "</div>"
      ],
      "text/plain": [
       "    predictors validation_timepoint       mae\n",
       "0  cTiterSub_x           2011-10-01  0.018496\n",
       "1     dms_star           2011-10-01  0.049727\n",
       "2         ep_x           2011-10-01  0.052232\n",
       "3          lbi           2011-10-01  0.041312\n",
       "4        naive           2011-10-01  0.051094\n",
       "5      ne_star           2011-10-01  0.044443"
      ]
     },
     "execution_count": 360,
     "metadata": {},
     "output_type": "execute_result"
    }
   ],
   "source": [
    "mae_by_timepoint_df"
   ]
  },
  {
   "cell_type": "code",
   "execution_count": 361,
   "metadata": {},
   "outputs": [
    {
     "data": {
      "text/plain": [
       "<bound method _GroupBy.apply of <pandas.core.groupby.groupby.DataFrameGroupBy object at 0x1a2b15c9b0>>"
      ]
     },
     "execution_count": 361,
     "metadata": {},
     "output_type": "execute_result"
    }
   ],
   "source": [
    "frequency_df.groupby(\"predictors\").apply"
   ]
  },
  {
   "cell_type": "code",
   "execution_count": 362,
   "metadata": {},
   "outputs": [
    {
     "data": {
      "text/plain": [
       "(0, 0.05457968772773804)"
      ]
     },
     "execution_count": 362,
     "metadata": {},
     "output_type": "execute_result"
    },
    {
     "data": {
      "image/png": "[encoded data removed]",
      "text/plain": [
       "<Figure size 800x600 with 1 Axes>"
      ]
     },
     "metadata": {
      "needs_background": "light"
     },
     "output_type": "display_data"
    }
   ],
   "source": [
    "fig, ax = plt.subplots(1, 1, figsize=(8, 6))\n",
    "sns.pointplot(\n",
    "    x=\"mae\",\n",
    "    y=\"predictors\",\n",
    "    data=mae_df,\n",
    "    join=False,\n",
    "    order=predictor_names_order,\n",
    "    ax=ax\n",
    ")\n",
    "ax.set_xlim(left=0)"
   ]
  },
  {
   "cell_type": "code",
   "execution_count": 363,
   "metadata": {},
   "outputs": [
    {
     "data": {
      "image/png": "[encoded data removed]",
      "text/plain": [
       "<Figure size 1200x800 with 6 Axes>"
      ]
     },
     "metadata": {
      "needs_background": "light"
     },
     "output_type": "display_data"
    }
   ],
   "source": [
    "g = facet_time_plot(mae_by_timepoint_df, \"mae\", \"MAE\", timepoint_column=\"validation_timepoint\")"
   ]
  },
  {
   "cell_type": "code",
   "execution_count": 364,
   "metadata": {},
   "outputs": [
    {
     "data": {
      "image/png": "[encoded data removed]",
      "text/plain": [
       "<Figure size 1200x600 with 1 Axes>"
      ]
     },
     "metadata": {
      "needs_background": "light"
     },
     "output_type": "display_data"
    }
   ],
   "source": [
    "fig, ax = plt.subplots(1, 1, figsize=(12, 6))\n",
    "sns.boxplot(\n",
    "    y=\"predictors\",\n",
    "    x=\"mean\",\n",
    "    hue=\"predictor\",\n",
    "    data=overall_coefficients_df,\n",
    "    ax=ax,\n",
    "    dodge=True,\n",
    "    order=predictor_names_order\n",
    ")\n",
    "\n",
    "ax.axvline(0, color=\"#999999\", alpha=0.5, zorder=-10)\n",
    "ax.set_xlabel(\"Beta coefficient\")\n",
    "ax.set_ylabel(\"Fitness metric\")\n",
    "\n",
    "sns.despine()"
   ]
  },
  {
   "cell_type": "code",
   "execution_count": null,
   "metadata": {},
   "outputs": [],
   "source": []
  },
  {
   "cell_type": "code",
   "execution_count": null,
   "metadata": {},
   "outputs": [],
   "source": []
  },
  {
   "cell_type": "code",
   "execution_count": null,
   "metadata": {},
   "outputs": [],
   "source": []
  }
 ],
 "metadata": {
  "kernelspec": {
   "display_name": "Python 3",
   "language": "python",
   "name": "python3"
  },
  "language_info": {
   "codemirror_mode": {
    "name": "ipython",
    "version": 3
   },
   "file_extension": ".py",
   "mimetype": "text/x-python",
   "name": "python",
   "nbconvert_exporter": "python",
   "pygments_lexer": "ipython3",
   "version": "3.6.7"
  }
 },
 "nbformat": 4,
 "nbformat_minor": 2
}
