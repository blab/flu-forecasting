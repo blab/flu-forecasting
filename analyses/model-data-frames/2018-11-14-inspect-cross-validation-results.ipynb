{
 "cells": [
  {
   "cell_type": "markdown",
   "metadata": {},
   "source": [
    "# Inspect cross-validation results"
   ]
  },
  {
   "cell_type": "code",
   "execution_count": 1,
   "metadata": {},
   "outputs": [],
   "source": [
    "import matplotlib.pyplot as plt\n",
    "import numpy as np\n",
    "import pandas as pd\n",
    "import seaborn as sns\n",
    "%matplotlib inline\n",
    "\n",
    "plt.style.use(\"huddlej\")"
   ]
  },
  {
   "cell_type": "code",
   "execution_count": 2,
   "metadata": {},
   "outputs": [],
   "source": [
    "def matthews_correlation_coefficient(tp, tn, fp, fn):\n",
    "    \"\"\"Return Matthews correlation coefficient for values from a confusion matrix.\n",
    "    Implementation is based on the definition from wikipedia:\n",
    "\n",
    "    https://en.wikipedia.org/wiki/Matthews_correlation_coefficient\n",
    "    \"\"\"\n",
    "    numerator = (tp * tn) - (fp * fn)\n",
    "    denominator = np.sqrt((tp + fp) * (tp + fn) * (tn + fp) * (tn + fn))\n",
    "    if denominator == 0:\n",
    "            denominator = 1\n",
    "\n",
    "    return float(numerator) / denominator\n",
    "\n",
    "def accuracy(tp, tn, fp, fn):\n",
    "    return (tp + tn) / float(tp + tn + fp + fn)"
   ]
  },
  {
   "cell_type": "code",
   "execution_count": 3,
   "metadata": {},
   "outputs": [
    {
     "ename": "IOError",
     "evalue": "File model_validation.tab does not exist",
     "output_type": "error",
     "traceback": [
      "\u001b[0;31m---------------------------------------------------------------------------\u001b[0m",
      "\u001b[0;31mIOError\u001b[0m                                   Traceback (most recent call last)",
      "\u001b[0;32m<ipython-input-3-95b40c405751>\u001b[0m in \u001b[0;36m<module>\u001b[0;34m()\u001b[0m\n\u001b[0;32m----> 1\u001b[0;31m \u001b[0mdf\u001b[0m \u001b[0;34m=\u001b[0m \u001b[0mpd\u001b[0m\u001b[0;34m.\u001b[0m\u001b[0mread_table\u001b[0m\u001b[0;34m(\u001b[0m\u001b[0;34m\"model_validation.tab\"\u001b[0m\u001b[0;34m,\u001b[0m \u001b[0mkeep_default_na\u001b[0m\u001b[0;34m=\u001b[0m\u001b[0mFalse\u001b[0m\u001b[0;34m,\u001b[0m \u001b[0mna_values\u001b[0m\u001b[0;34m=\u001b[0m\u001b[0;34m\"N/A\"\u001b[0m\u001b[0;34m)\u001b[0m\u001b[0;34m\u001b[0m\u001b[0m\n\u001b[0m",
      "\u001b[0;32m/Users/jlhudd/miniconda3/envs/janus_python2/lib/python2.7/site-packages/pandas/io/parsers.pyc\u001b[0m in \u001b[0;36mparser_f\u001b[0;34m(filepath_or_buffer, sep, delimiter, header, names, index_col, usecols, squeeze, prefix, mangle_dupe_cols, dtype, engine, converters, true_values, false_values, skipinitialspace, skiprows, nrows, na_values, keep_default_na, na_filter, verbose, skip_blank_lines, parse_dates, infer_datetime_format, keep_date_col, date_parser, dayfirst, iterator, chunksize, compression, thousands, decimal, lineterminator, quotechar, quoting, escapechar, comment, encoding, dialect, tupleize_cols, error_bad_lines, warn_bad_lines, skipfooter, doublequote, delim_whitespace, low_memory, memory_map, float_precision)\u001b[0m\n\u001b[1;32m    676\u001b[0m                     skip_blank_lines=skip_blank_lines)\n\u001b[1;32m    677\u001b[0m \u001b[0;34m\u001b[0m\u001b[0m\n\u001b[0;32m--> 678\u001b[0;31m         \u001b[0;32mreturn\u001b[0m \u001b[0m_read\u001b[0m\u001b[0;34m(\u001b[0m\u001b[0mfilepath_or_buffer\u001b[0m\u001b[0;34m,\u001b[0m \u001b[0mkwds\u001b[0m\u001b[0;34m)\u001b[0m\u001b[0;34m\u001b[0m\u001b[0m\n\u001b[0m\u001b[1;32m    679\u001b[0m \u001b[0;34m\u001b[0m\u001b[0m\n\u001b[1;32m    680\u001b[0m     \u001b[0mparser_f\u001b[0m\u001b[0;34m.\u001b[0m\u001b[0m__name__\u001b[0m \u001b[0;34m=\u001b[0m \u001b[0mname\u001b[0m\u001b[0;34m\u001b[0m\u001b[0m\n",
      "\u001b[0;32m/Users/jlhudd/miniconda3/envs/janus_python2/lib/python2.7/site-packages/pandas/io/parsers.pyc\u001b[0m in \u001b[0;36m_read\u001b[0;34m(filepath_or_buffer, kwds)\u001b[0m\n\u001b[1;32m    438\u001b[0m \u001b[0;34m\u001b[0m\u001b[0m\n\u001b[1;32m    439\u001b[0m     \u001b[0;31m# Create the parser.\u001b[0m\u001b[0;34m\u001b[0m\u001b[0;34m\u001b[0m\u001b[0m\n\u001b[0;32m--> 440\u001b[0;31m     \u001b[0mparser\u001b[0m \u001b[0;34m=\u001b[0m \u001b[0mTextFileReader\u001b[0m\u001b[0;34m(\u001b[0m\u001b[0mfilepath_or_buffer\u001b[0m\u001b[0;34m,\u001b[0m \u001b[0;34m**\u001b[0m\u001b[0mkwds\u001b[0m\u001b[0;34m)\u001b[0m\u001b[0;34m\u001b[0m\u001b[0m\n\u001b[0m\u001b[1;32m    441\u001b[0m \u001b[0;34m\u001b[0m\u001b[0m\n\u001b[1;32m    442\u001b[0m     \u001b[0;32mif\u001b[0m \u001b[0mchunksize\u001b[0m \u001b[0;32mor\u001b[0m \u001b[0miterator\u001b[0m\u001b[0;34m:\u001b[0m\u001b[0;34m\u001b[0m\u001b[0m\n",
      "\u001b[0;32m/Users/jlhudd/miniconda3/envs/janus_python2/lib/python2.7/site-packages/pandas/io/parsers.pyc\u001b[0m in \u001b[0;36m__init__\u001b[0;34m(self, f, engine, **kwds)\u001b[0m\n\u001b[1;32m    785\u001b[0m             \u001b[0mself\u001b[0m\u001b[0;34m.\u001b[0m\u001b[0moptions\u001b[0m\u001b[0;34m[\u001b[0m\u001b[0;34m'has_index_names'\u001b[0m\u001b[0;34m]\u001b[0m \u001b[0;34m=\u001b[0m \u001b[0mkwds\u001b[0m\u001b[0;34m[\u001b[0m\u001b[0;34m'has_index_names'\u001b[0m\u001b[0;34m]\u001b[0m\u001b[0;34m\u001b[0m\u001b[0m\n\u001b[1;32m    786\u001b[0m \u001b[0;34m\u001b[0m\u001b[0m\n\u001b[0;32m--> 787\u001b[0;31m         \u001b[0mself\u001b[0m\u001b[0;34m.\u001b[0m\u001b[0m_make_engine\u001b[0m\u001b[0;34m(\u001b[0m\u001b[0mself\u001b[0m\u001b[0;34m.\u001b[0m\u001b[0mengine\u001b[0m\u001b[0;34m)\u001b[0m\u001b[0;34m\u001b[0m\u001b[0m\n\u001b[0m\u001b[1;32m    788\u001b[0m \u001b[0;34m\u001b[0m\u001b[0m\n\u001b[1;32m    789\u001b[0m     \u001b[0;32mdef\u001b[0m \u001b[0mclose\u001b[0m\u001b[0;34m(\u001b[0m\u001b[0mself\u001b[0m\u001b[0;34m)\u001b[0m\u001b[0;34m:\u001b[0m\u001b[0;34m\u001b[0m\u001b[0m\n",
      "\u001b[0;32m/Users/jlhudd/miniconda3/envs/janus_python2/lib/python2.7/site-packages/pandas/io/parsers.pyc\u001b[0m in \u001b[0;36m_make_engine\u001b[0;34m(self, engine)\u001b[0m\n\u001b[1;32m   1012\u001b[0m     \u001b[0;32mdef\u001b[0m \u001b[0m_make_engine\u001b[0m\u001b[0;34m(\u001b[0m\u001b[0mself\u001b[0m\u001b[0;34m,\u001b[0m \u001b[0mengine\u001b[0m\u001b[0;34m=\u001b[0m\u001b[0;34m'c'\u001b[0m\u001b[0;34m)\u001b[0m\u001b[0;34m:\u001b[0m\u001b[0;34m\u001b[0m\u001b[0m\n\u001b[1;32m   1013\u001b[0m         \u001b[0;32mif\u001b[0m \u001b[0mengine\u001b[0m \u001b[0;34m==\u001b[0m \u001b[0;34m'c'\u001b[0m\u001b[0;34m:\u001b[0m\u001b[0;34m\u001b[0m\u001b[0m\n\u001b[0;32m-> 1014\u001b[0;31m             \u001b[0mself\u001b[0m\u001b[0;34m.\u001b[0m\u001b[0m_engine\u001b[0m \u001b[0;34m=\u001b[0m \u001b[0mCParserWrapper\u001b[0m\u001b[0;34m(\u001b[0m\u001b[0mself\u001b[0m\u001b[0;34m.\u001b[0m\u001b[0mf\u001b[0m\u001b[0;34m,\u001b[0m \u001b[0;34m**\u001b[0m\u001b[0mself\u001b[0m\u001b[0;34m.\u001b[0m\u001b[0moptions\u001b[0m\u001b[0;34m)\u001b[0m\u001b[0;34m\u001b[0m\u001b[0m\n\u001b[0m\u001b[1;32m   1015\u001b[0m         \u001b[0;32melse\u001b[0m\u001b[0;34m:\u001b[0m\u001b[0;34m\u001b[0m\u001b[0m\n\u001b[1;32m   1016\u001b[0m             \u001b[0;32mif\u001b[0m \u001b[0mengine\u001b[0m \u001b[0;34m==\u001b[0m \u001b[0;34m'python'\u001b[0m\u001b[0;34m:\u001b[0m\u001b[0;34m\u001b[0m\u001b[0m\n",
      "\u001b[0;32m/Users/jlhudd/miniconda3/envs/janus_python2/lib/python2.7/site-packages/pandas/io/parsers.pyc\u001b[0m in \u001b[0;36m__init__\u001b[0;34m(self, src, **kwds)\u001b[0m\n\u001b[1;32m   1706\u001b[0m         \u001b[0mkwds\u001b[0m\u001b[0;34m[\u001b[0m\u001b[0;34m'usecols'\u001b[0m\u001b[0;34m]\u001b[0m \u001b[0;34m=\u001b[0m \u001b[0mself\u001b[0m\u001b[0;34m.\u001b[0m\u001b[0musecols\u001b[0m\u001b[0;34m\u001b[0m\u001b[0m\n\u001b[1;32m   1707\u001b[0m \u001b[0;34m\u001b[0m\u001b[0m\n\u001b[0;32m-> 1708\u001b[0;31m         \u001b[0mself\u001b[0m\u001b[0;34m.\u001b[0m\u001b[0m_reader\u001b[0m \u001b[0;34m=\u001b[0m \u001b[0mparsers\u001b[0m\u001b[0;34m.\u001b[0m\u001b[0mTextReader\u001b[0m\u001b[0;34m(\u001b[0m\u001b[0msrc\u001b[0m\u001b[0;34m,\u001b[0m \u001b[0;34m**\u001b[0m\u001b[0mkwds\u001b[0m\u001b[0;34m)\u001b[0m\u001b[0;34m\u001b[0m\u001b[0m\n\u001b[0m\u001b[1;32m   1709\u001b[0m \u001b[0;34m\u001b[0m\u001b[0m\n\u001b[1;32m   1710\u001b[0m         \u001b[0mpassed_names\u001b[0m \u001b[0;34m=\u001b[0m \u001b[0mself\u001b[0m\u001b[0;34m.\u001b[0m\u001b[0mnames\u001b[0m \u001b[0;32mis\u001b[0m \u001b[0mNone\u001b[0m\u001b[0;34m\u001b[0m\u001b[0m\n",
      "\u001b[0;32mpandas/_libs/parsers.pyx\u001b[0m in \u001b[0;36mpandas._libs.parsers.TextReader.__cinit__\u001b[0;34m()\u001b[0m\n",
      "\u001b[0;32mpandas/_libs/parsers.pyx\u001b[0m in \u001b[0;36mpandas._libs.parsers.TextReader._setup_parser_source\u001b[0;34m()\u001b[0m\n",
      "\u001b[0;31mIOError\u001b[0m: File model_validation.tab does not exist"
     ]
    }
   ],
   "source": [
    "df = pd.read_table(\"model_validation.tab\", keep_default_na=False, na_values=\"N/A\")"
   ]
  },
  {
   "cell_type": "code",
   "execution_count": null,
   "metadata": {},
   "outputs": [],
   "source": [
    "df.head()"
   ]
  },
  {
   "cell_type": "code",
   "execution_count": null,
   "metadata": {},
   "outputs": [],
   "source": [
    "df.shape"
   ]
  },
  {
   "cell_type": "code",
   "execution_count": null,
   "metadata": {},
   "outputs": [],
   "source": [
    "agg_functions = [\"mean\", \"std\"]\n",
    "np.around(df.groupby(\"predictors\").aggregate({\n",
    "    \"testing_accuracy\": agg_functions,\n",
    "    \"mae\": agg_functions,\n",
    "    \"testing_correlation\": agg_functions\n",
    "}).sort_values([(\"mae\", \"mean\")]), 3)"
   ]
  },
  {
   "cell_type": "code",
   "execution_count": 4,
   "metadata": {},
   "outputs": [
    {
     "ename": "NameError",
     "evalue": "name 'df' is not defined",
     "output_type": "error",
     "traceback": [
      "\u001b[0;31m---------------------------------------------------------------------------\u001b[0m",
      "\u001b[0;31mNameError\u001b[0m                                 Traceback (most recent call last)",
      "\u001b[0;32m<ipython-input-4-1d732b6f8773>\u001b[0m in \u001b[0;36m<module>\u001b[0;34m()\u001b[0m\n\u001b[0;32m----> 1\u001b[0;31m \u001b[0msns\u001b[0m\u001b[0;34m.\u001b[0m\u001b[0mlmplot\u001b[0m\u001b[0;34m(\u001b[0m\u001b[0;34m\"test_timepoint\"\u001b[0m\u001b[0;34m,\u001b[0m \u001b[0;34m\"mae\"\u001b[0m\u001b[0;34m,\u001b[0m \u001b[0mcol\u001b[0m\u001b[0;34m=\u001b[0m\u001b[0;34m\"predictors\"\u001b[0m\u001b[0;34m,\u001b[0m \u001b[0mdata\u001b[0m\u001b[0;34m=\u001b[0m\u001b[0mdf\u001b[0m\u001b[0;34m,\u001b[0m \u001b[0mcol_wrap\u001b[0m\u001b[0;34m=\u001b[0m\u001b[0;36m2\u001b[0m\u001b[0;34m,\u001b[0m \u001b[0mheight\u001b[0m\u001b[0;34m=\u001b[0m\u001b[0;36m7\u001b[0m\u001b[0;34m,\u001b[0m \u001b[0maspect\u001b[0m\u001b[0;34m=\u001b[0m\u001b[0;36m1.3\u001b[0m\u001b[0;34m)\u001b[0m\u001b[0;34m\u001b[0m\u001b[0m\n\u001b[0m",
      "\u001b[0;31mNameError\u001b[0m: name 'df' is not defined"
     ]
    }
   ],
   "source": [
    "sns.lmplot(\"test_timepoint\", \"mae\", col=\"predictors\", data=df, col_wrap=2, height=7, aspect=1.3)"
   ]
  },
  {
   "cell_type": "code",
   "execution_count": 5,
   "metadata": {},
   "outputs": [
    {
     "ename": "NameError",
     "evalue": "name 'df' is not defined",
     "output_type": "error",
     "traceback": [
      "\u001b[0;31m---------------------------------------------------------------------------\u001b[0m",
      "\u001b[0;31mNameError\u001b[0m                                 Traceback (most recent call last)",
      "\u001b[0;32m<ipython-input-5-3a8a20d5e7d5>\u001b[0m in \u001b[0;36m<module>\u001b[0;34m()\u001b[0m\n\u001b[1;32m      3\u001b[0m     \u001b[0;34m\"mae\"\u001b[0m\u001b[0;34m,\u001b[0m\u001b[0;34m\u001b[0m\u001b[0m\n\u001b[1;32m      4\u001b[0m     \u001b[0mhue\u001b[0m\u001b[0;34m=\u001b[0m\u001b[0;34m\"test_timepoint\"\u001b[0m\u001b[0;34m,\u001b[0m\u001b[0;34m\u001b[0m\u001b[0m\n\u001b[0;32m----> 5\u001b[0;31m     \u001b[0mdata\u001b[0m\u001b[0;34m=\u001b[0m\u001b[0mdf\u001b[0m\u001b[0;34m,\u001b[0m\u001b[0;34m\u001b[0m\u001b[0m\n\u001b[0m\u001b[1;32m      6\u001b[0m     \u001b[0mkind\u001b[0m\u001b[0;34m=\u001b[0m\u001b[0;34m\"swarm\"\u001b[0m\u001b[0;34m,\u001b[0m\u001b[0;34m\u001b[0m\u001b[0m\n\u001b[1;32m      7\u001b[0m     \u001b[0mheight\u001b[0m\u001b[0;34m=\u001b[0m\u001b[0;36m7\u001b[0m\u001b[0;34m,\u001b[0m\u001b[0;34m\u001b[0m\u001b[0m\n",
      "\u001b[0;31mNameError\u001b[0m: name 'df' is not defined"
     ]
    }
   ],
   "source": [
    "sns.catplot(\n",
    "    \"predictors\",\n",
    "    \"mae\",\n",
    "    hue=\"test_timepoint\",\n",
    "    data=df,\n",
    "    kind=\"swarm\",\n",
    "    height=7,\n",
    "    aspect=1.7\n",
    ")"
   ]
  },
  {
   "cell_type": "code",
   "execution_count": 166,
   "metadata": {},
   "outputs": [
    {
     "data": {
      "image/png": "[encoded data removed]",
      "text/plain": [
       "<Figure size 864x864 with 2 Axes>"
      ]
     },
     "metadata": {
      "needs_background": "light"
     },
     "output_type": "display_data"
    }
   ],
   "source": [
    "fig, axes = plt.subplots(2, 1, figsize=(12, 12))\n",
    "\n",
    "# Plot training accuracy on the top panel.\n",
    "sns.boxplot(\n",
    "    y=\"predictors\",\n",
    "    x=\"training_accuracy\",\n",
    "    data=df,\n",
    "    ax=axes[0]\n",
    ")\n",
    "sns.swarmplot(\n",
    "    y=\"predictors\",\n",
    "    x=\"training_accuracy\",\n",
    "    data=df,\n",
    "    ax=axes[0],\n",
    "    color=\"0.25\"\n",
    ")\n",
    "\n",
    "axes[0].set_xlabel(\"Training accuracy (MCC)\")\n",
    "axes[0].set_ylabel(\"Predictors\")\n",
    "axes[0].axvline(0, color=\"#999999\", alpha=0.5, zorder=-10)\n",
    "axes[0].set_xlim(-1.02, 1.02)\n",
    "\n",
    "# Plot testing accuracy on the bottom panel.\n",
    "sns.boxplot(\n",
    "    y=\"predictors\",\n",
    "    x=\"testing_accuracy\",\n",
    "    data=df,\n",
    "    ax=axes[1]\n",
    ")\n",
    "sns.swarmplot(\n",
    "    y=\"predictors\",\n",
    "    x=\"testing_accuracy\",\n",
    "    data=df,\n",
    "    ax=axes[1],\n",
    "    color=\"0.25\"\n",
    ")\n",
    "\n",
    "axes[1].set_xlabel(\"Testing accuracy (MCC)\")\n",
    "axes[1].set_ylabel(\"Predictors\")\n",
    "axes[1].axvline(0, color=\"#999999\", alpha=0.5, zorder=-10)\n",
    "axes[1].set_xlim(-1.02, 1.02)\n",
    "\n",
    "sns.despine()"
   ]
  },
  {
   "cell_type": "code",
   "execution_count": null,
   "metadata": {},
   "outputs": [],
   "source": [
    "fig, axes = plt.subplots(2, 1, figsize=(12, 12))\n",
    "\n",
    "# Plot training correlation on the top panel.\n",
    "sns.boxplot(\n",
    "    y=\"predictors\",\n",
    "    x=\"training_correlation\",\n",
    "    data=df,\n",
    "    ax=axes[0]\n",
    ")\n",
    "sns.swarmplot(\n",
    "    y=\"predictors\",\n",
    "    x=\"training_correlation\",\n",
    "    data=df,\n",
    "    ax=axes[0],\n",
    "    color=\"0.25\"\n",
    ")\n",
    "\n",
    "axes[0].set_xlabel(\"Training correlation (Pearson's R)\")\n",
    "axes[0].set_ylabel(\"Predictors\")\n",
    "axes[0].axvline(0, color=\"#999999\", alpha=0.5, zorder=-10)\n",
    "axes[0].set_xlim(-1.02, 1.02)\n",
    "\n",
    "# Plot testing correlation on the bottom panel.\n",
    "sns.boxplot(\n",
    "    y=\"predictors\",\n",
    "    x=\"testing_correlation\",\n",
    "    data=df,\n",
    "    ax=axes[1]\n",
    ")\n",
    "sns.swarmplot(\n",
    "    y=\"predictors\",\n",
    "    x=\"testing_correlation\",\n",
    "    data=df,\n",
    "    ax=axes[1],\n",
    "    color=\"0.25\"\n",
    ")\n",
    "\n",
    "axes[1].set_xlabel(\"Testing correlation (Pearson's R)\")\n",
    "axes[1].set_ylabel(\"Predictors\")\n",
    "axes[1].axvline(0, color=\"#999999\", alpha=0.5, zorder=-10)\n",
    "axes[1].set_xlim(-1.02, 1.02)\n",
    "\n",
    "sns.despine()"
   ]
  },
  {
   "cell_type": "code",
   "execution_count": null,
   "metadata": {},
   "outputs": [],
   "source": [
    "fig, ax = plt.subplots(1, 1, figsize=(12, 6))\n",
    "\n",
    "# Plot training accuracy on the top panel.\n",
    "sns.boxplot(\n",
    "    y=\"predictors\",\n",
    "    x=\"mae\",\n",
    "    data=df,\n",
    "    ax=ax\n",
    ")\n",
    "sns.swarmplot(\n",
    "    y=\"predictors\",\n",
    "    x=\"mae\",\n",
    "    data=df,\n",
    "    ax=ax,\n",
    "    color=\"0.25\"\n",
    ")\n",
    "\n",
    "ax.set_xlabel(\"Mean absolute error\")\n",
    "ax.set_ylabel(\"Predictors\")\n",
    "ax.axvline(0, color=\"#999999\", alpha=0.5, zorder=-10)\n",
    "\n",
    "sns.despine()"
   ]
  },
  {
   "cell_type": "code",
   "execution_count": 71,
   "metadata": {},
   "outputs": [
    {
     "data": {
      "text/plain": [
       "array(['null', 'ep', 'ne', 'ep_x', 'ne_star', 'lbi', 'cTiterSub', 'dms',\n",
       "       'ep_x-ne_star', 'ep_x-ne_star-lbi', 'lbi-cTiterSub-dms',\n",
       "       'ep_x-ne_star-lbi-cTiterSub-dms'], dtype=object)"
      ]
     },
     "execution_count": 71,
     "metadata": {},
     "output_type": "execute_result"
    }
   ],
   "source": [
    "df[\"predictors\"].unique()"
   ]
  },
  {
   "cell_type": "code",
   "execution_count": 79,
   "metadata": {},
   "outputs": [
    {
     "data": {
      "text/html": [
       "<div>\n",
       "<style scoped>\n",
       "    .dataframe tbody tr th:only-of-type {\n",
       "        vertical-align: middle;\n",
       "    }\n",
       "\n",
       "    .dataframe tbody tr th {\n",
       "        vertical-align: top;\n",
       "    }\n",
       "\n",
       "    .dataframe thead tr th {\n",
       "        text-align: left;\n",
       "    }\n",
       "\n",
       "    .dataframe thead tr:last-of-type th {\n",
       "        text-align: right;\n",
       "    }\n",
       "</style>\n",
       "<table border=\"1\" class=\"dataframe\">\n",
       "  <thead>\n",
       "    <tr>\n",
       "      <th></th>\n",
       "      <th colspan=\"2\" halign=\"left\">parameter-cTiterSub</th>\n",
       "      <th colspan=\"2\" halign=\"left\">parameter-dms</th>\n",
       "      <th colspan=\"2\" halign=\"left\">parameter-ep</th>\n",
       "      <th colspan=\"2\" halign=\"left\">parameter-ep_x</th>\n",
       "      <th colspan=\"2\" halign=\"left\">parameter-lbi</th>\n",
       "      <th colspan=\"2\" halign=\"left\">parameter-ne</th>\n",
       "      <th colspan=\"2\" halign=\"left\">parameter-ne_star</th>\n",
       "      <th colspan=\"2\" halign=\"left\">parameter-null</th>\n",
       "    </tr>\n",
       "    <tr>\n",
       "      <th></th>\n",
       "      <th>mean</th>\n",
       "      <th>std</th>\n",
       "      <th>mean</th>\n",
       "      <th>std</th>\n",
       "      <th>mean</th>\n",
       "      <th>std</th>\n",
       "      <th>mean</th>\n",
       "      <th>std</th>\n",
       "      <th>mean</th>\n",
       "      <th>std</th>\n",
       "      <th>mean</th>\n",
       "      <th>std</th>\n",
       "      <th>mean</th>\n",
       "      <th>std</th>\n",
       "      <th>mean</th>\n",
       "      <th>std</th>\n",
       "    </tr>\n",
       "    <tr>\n",
       "      <th>predictors</th>\n",
       "      <th></th>\n",
       "      <th></th>\n",
       "      <th></th>\n",
       "      <th></th>\n",
       "      <th></th>\n",
       "      <th></th>\n",
       "      <th></th>\n",
       "      <th></th>\n",
       "      <th></th>\n",
       "      <th></th>\n",
       "      <th></th>\n",
       "      <th></th>\n",
       "      <th></th>\n",
       "      <th></th>\n",
       "      <th></th>\n",
       "      <th></th>\n",
       "    </tr>\n",
       "  </thead>\n",
       "  <tbody>\n",
       "    <tr>\n",
       "      <th>cTiterSub</th>\n",
       "      <td>0.576261</td>\n",
       "      <td>0.333535</td>\n",
       "      <td>NaN</td>\n",
       "      <td>NaN</td>\n",
       "      <td>NaN</td>\n",
       "      <td>NaN</td>\n",
       "      <td>NaN</td>\n",
       "      <td>NaN</td>\n",
       "      <td>NaN</td>\n",
       "      <td>NaN</td>\n",
       "      <td>NaN</td>\n",
       "      <td>NaN</td>\n",
       "      <td>NaN</td>\n",
       "      <td>NaN</td>\n",
       "      <td>NaN</td>\n",
       "      <td>NaN</td>\n",
       "    </tr>\n",
       "    <tr>\n",
       "      <th>dms</th>\n",
       "      <td>NaN</td>\n",
       "      <td>NaN</td>\n",
       "      <td>0.253746</td>\n",
       "      <td>0.282819</td>\n",
       "      <td>NaN</td>\n",
       "      <td>NaN</td>\n",
       "      <td>NaN</td>\n",
       "      <td>NaN</td>\n",
       "      <td>NaN</td>\n",
       "      <td>NaN</td>\n",
       "      <td>NaN</td>\n",
       "      <td>NaN</td>\n",
       "      <td>NaN</td>\n",
       "      <td>NaN</td>\n",
       "      <td>NaN</td>\n",
       "      <td>NaN</td>\n",
       "    </tr>\n",
       "    <tr>\n",
       "      <th>ep</th>\n",
       "      <td>NaN</td>\n",
       "      <td>NaN</td>\n",
       "      <td>NaN</td>\n",
       "      <td>NaN</td>\n",
       "      <td>0.364159</td>\n",
       "      <td>0.721343</td>\n",
       "      <td>NaN</td>\n",
       "      <td>NaN</td>\n",
       "      <td>NaN</td>\n",
       "      <td>NaN</td>\n",
       "      <td>NaN</td>\n",
       "      <td>NaN</td>\n",
       "      <td>NaN</td>\n",
       "      <td>NaN</td>\n",
       "      <td>NaN</td>\n",
       "      <td>NaN</td>\n",
       "    </tr>\n",
       "    <tr>\n",
       "      <th>ep_x</th>\n",
       "      <td>NaN</td>\n",
       "      <td>NaN</td>\n",
       "      <td>NaN</td>\n",
       "      <td>NaN</td>\n",
       "      <td>NaN</td>\n",
       "      <td>NaN</td>\n",
       "      <td>1.001901</td>\n",
       "      <td>0.769374</td>\n",
       "      <td>NaN</td>\n",
       "      <td>NaN</td>\n",
       "      <td>NaN</td>\n",
       "      <td>NaN</td>\n",
       "      <td>NaN</td>\n",
       "      <td>NaN</td>\n",
       "      <td>NaN</td>\n",
       "      <td>NaN</td>\n",
       "    </tr>\n",
       "    <tr>\n",
       "      <th>ep_x-ne_star</th>\n",
       "      <td>NaN</td>\n",
       "      <td>NaN</td>\n",
       "      <td>NaN</td>\n",
       "      <td>NaN</td>\n",
       "      <td>NaN</td>\n",
       "      <td>NaN</td>\n",
       "      <td>1.349370</td>\n",
       "      <td>1.109979</td>\n",
       "      <td>NaN</td>\n",
       "      <td>NaN</td>\n",
       "      <td>NaN</td>\n",
       "      <td>NaN</td>\n",
       "      <td>-2.952534</td>\n",
       "      <td>1.941576</td>\n",
       "      <td>NaN</td>\n",
       "      <td>NaN</td>\n",
       "    </tr>\n",
       "    <tr>\n",
       "      <th>ep_x-ne_star-lbi</th>\n",
       "      <td>NaN</td>\n",
       "      <td>NaN</td>\n",
       "      <td>NaN</td>\n",
       "      <td>NaN</td>\n",
       "      <td>NaN</td>\n",
       "      <td>NaN</td>\n",
       "      <td>0.765137</td>\n",
       "      <td>0.655802</td>\n",
       "      <td>0.577023</td>\n",
       "      <td>0.297438</td>\n",
       "      <td>NaN</td>\n",
       "      <td>NaN</td>\n",
       "      <td>-0.122028</td>\n",
       "      <td>1.917256</td>\n",
       "      <td>NaN</td>\n",
       "      <td>NaN</td>\n",
       "    </tr>\n",
       "    <tr>\n",
       "      <th>ep_x-ne_star-lbi-cTiterSub-dms</th>\n",
       "      <td>0.972800</td>\n",
       "      <td>0.233975</td>\n",
       "      <td>0.209915</td>\n",
       "      <td>0.548323</td>\n",
       "      <td>NaN</td>\n",
       "      <td>NaN</td>\n",
       "      <td>1.215106</td>\n",
       "      <td>0.789754</td>\n",
       "      <td>0.897235</td>\n",
       "      <td>0.293797</td>\n",
       "      <td>NaN</td>\n",
       "      <td>NaN</td>\n",
       "      <td>0.565910</td>\n",
       "      <td>0.158557</td>\n",
       "      <td>NaN</td>\n",
       "      <td>NaN</td>\n",
       "    </tr>\n",
       "    <tr>\n",
       "      <th>lbi</th>\n",
       "      <td>NaN</td>\n",
       "      <td>NaN</td>\n",
       "      <td>NaN</td>\n",
       "      <td>NaN</td>\n",
       "      <td>NaN</td>\n",
       "      <td>NaN</td>\n",
       "      <td>NaN</td>\n",
       "      <td>NaN</td>\n",
       "      <td>0.399903</td>\n",
       "      <td>0.190598</td>\n",
       "      <td>NaN</td>\n",
       "      <td>NaN</td>\n",
       "      <td>NaN</td>\n",
       "      <td>NaN</td>\n",
       "      <td>NaN</td>\n",
       "      <td>NaN</td>\n",
       "    </tr>\n",
       "    <tr>\n",
       "      <th>lbi-cTiterSub-dms</th>\n",
       "      <td>0.952180</td>\n",
       "      <td>0.280802</td>\n",
       "      <td>0.080749</td>\n",
       "      <td>0.630316</td>\n",
       "      <td>NaN</td>\n",
       "      <td>NaN</td>\n",
       "      <td>NaN</td>\n",
       "      <td>NaN</td>\n",
       "      <td>0.487347</td>\n",
       "      <td>0.170097</td>\n",
       "      <td>NaN</td>\n",
       "      <td>NaN</td>\n",
       "      <td>NaN</td>\n",
       "      <td>NaN</td>\n",
       "      <td>NaN</td>\n",
       "      <td>NaN</td>\n",
       "    </tr>\n",
       "    <tr>\n",
       "      <th>ne</th>\n",
       "      <td>NaN</td>\n",
       "      <td>NaN</td>\n",
       "      <td>NaN</td>\n",
       "      <td>NaN</td>\n",
       "      <td>NaN</td>\n",
       "      <td>NaN</td>\n",
       "      <td>NaN</td>\n",
       "      <td>NaN</td>\n",
       "      <td>NaN</td>\n",
       "      <td>NaN</td>\n",
       "      <td>0.55938</td>\n",
       "      <td>0.184406</td>\n",
       "      <td>NaN</td>\n",
       "      <td>NaN</td>\n",
       "      <td>NaN</td>\n",
       "      <td>NaN</td>\n",
       "    </tr>\n",
       "    <tr>\n",
       "      <th>ne_star</th>\n",
       "      <td>NaN</td>\n",
       "      <td>NaN</td>\n",
       "      <td>NaN</td>\n",
       "      <td>NaN</td>\n",
       "      <td>NaN</td>\n",
       "      <td>NaN</td>\n",
       "      <td>NaN</td>\n",
       "      <td>NaN</td>\n",
       "      <td>NaN</td>\n",
       "      <td>NaN</td>\n",
       "      <td>NaN</td>\n",
       "      <td>NaN</td>\n",
       "      <td>-0.976691</td>\n",
       "      <td>0.738519</td>\n",
       "      <td>NaN</td>\n",
       "      <td>NaN</td>\n",
       "    </tr>\n",
       "    <tr>\n",
       "      <th>null</th>\n",
       "      <td>NaN</td>\n",
       "      <td>NaN</td>\n",
       "      <td>NaN</td>\n",
       "      <td>NaN</td>\n",
       "      <td>NaN</td>\n",
       "      <td>NaN</td>\n",
       "      <td>NaN</td>\n",
       "      <td>NaN</td>\n",
       "      <td>NaN</td>\n",
       "      <td>NaN</td>\n",
       "      <td>NaN</td>\n",
       "      <td>NaN</td>\n",
       "      <td>NaN</td>\n",
       "      <td>NaN</td>\n",
       "      <td>0.0</td>\n",
       "      <td>0.0</td>\n",
       "    </tr>\n",
       "  </tbody>\n",
       "</table>\n",
       "</div>"
      ],
      "text/plain": [
       "                               parameter-cTiterSub           parameter-dms  \\\n",
       "                                              mean       std          mean   \n",
       "predictors                                                                   \n",
       "cTiterSub                                 0.576261  0.333535           NaN   \n",
       "dms                                            NaN       NaN      0.253746   \n",
       "ep                                             NaN       NaN           NaN   \n",
       "ep_x                                           NaN       NaN           NaN   \n",
       "ep_x-ne_star                                   NaN       NaN           NaN   \n",
       "ep_x-ne_star-lbi                               NaN       NaN           NaN   \n",
       "ep_x-ne_star-lbi-cTiterSub-dms            0.972800  0.233975      0.209915   \n",
       "lbi                                            NaN       NaN           NaN   \n",
       "lbi-cTiterSub-dms                         0.952180  0.280802      0.080749   \n",
       "ne                                             NaN       NaN           NaN   \n",
       "ne_star                                        NaN       NaN           NaN   \n",
       "null                                           NaN       NaN           NaN   \n",
       "\n",
       "                                         parameter-ep            \\\n",
       "                                     std         mean       std   \n",
       "predictors                                                        \n",
       "cTiterSub                            NaN          NaN       NaN   \n",
       "dms                             0.282819          NaN       NaN   \n",
       "ep                                   NaN     0.364159  0.721343   \n",
       "ep_x                                 NaN          NaN       NaN   \n",
       "ep_x-ne_star                         NaN          NaN       NaN   \n",
       "ep_x-ne_star-lbi                     NaN          NaN       NaN   \n",
       "ep_x-ne_star-lbi-cTiterSub-dms  0.548323          NaN       NaN   \n",
       "lbi                                  NaN          NaN       NaN   \n",
       "lbi-cTiterSub-dms               0.630316          NaN       NaN   \n",
       "ne                                   NaN          NaN       NaN   \n",
       "ne_star                              NaN          NaN       NaN   \n",
       "null                                 NaN          NaN       NaN   \n",
       "\n",
       "                               parameter-ep_x           parameter-lbi  \\\n",
       "                                         mean       std          mean   \n",
       "predictors                                                              \n",
       "cTiterSub                                 NaN       NaN           NaN   \n",
       "dms                                       NaN       NaN           NaN   \n",
       "ep                                        NaN       NaN           NaN   \n",
       "ep_x                                 1.001901  0.769374           NaN   \n",
       "ep_x-ne_star                         1.349370  1.109979           NaN   \n",
       "ep_x-ne_star-lbi                     0.765137  0.655802      0.577023   \n",
       "ep_x-ne_star-lbi-cTiterSub-dms       1.215106  0.789754      0.897235   \n",
       "lbi                                       NaN       NaN      0.399903   \n",
       "lbi-cTiterSub-dms                         NaN       NaN      0.487347   \n",
       "ne                                        NaN       NaN           NaN   \n",
       "ne_star                                   NaN       NaN           NaN   \n",
       "null                                      NaN       NaN           NaN   \n",
       "\n",
       "                                         parameter-ne            \\\n",
       "                                     std         mean       std   \n",
       "predictors                                                        \n",
       "cTiterSub                            NaN          NaN       NaN   \n",
       "dms                                  NaN          NaN       NaN   \n",
       "ep                                   NaN          NaN       NaN   \n",
       "ep_x                                 NaN          NaN       NaN   \n",
       "ep_x-ne_star                         NaN          NaN       NaN   \n",
       "ep_x-ne_star-lbi                0.297438          NaN       NaN   \n",
       "ep_x-ne_star-lbi-cTiterSub-dms  0.293797          NaN       NaN   \n",
       "lbi                             0.190598          NaN       NaN   \n",
       "lbi-cTiterSub-dms               0.170097          NaN       NaN   \n",
       "ne                                   NaN      0.55938  0.184406   \n",
       "ne_star                              NaN          NaN       NaN   \n",
       "null                                 NaN          NaN       NaN   \n",
       "\n",
       "                               parameter-ne_star           parameter-null       \n",
       "                                            mean       std           mean  std  \n",
       "predictors                                                                      \n",
       "cTiterSub                                    NaN       NaN            NaN  NaN  \n",
       "dms                                          NaN       NaN            NaN  NaN  \n",
       "ep                                           NaN       NaN            NaN  NaN  \n",
       "ep_x                                         NaN       NaN            NaN  NaN  \n",
       "ep_x-ne_star                           -2.952534  1.941576            NaN  NaN  \n",
       "ep_x-ne_star-lbi                       -0.122028  1.917256            NaN  NaN  \n",
       "ep_x-ne_star-lbi-cTiterSub-dms          0.565910  0.158557            NaN  NaN  \n",
       "lbi                                          NaN       NaN            NaN  NaN  \n",
       "lbi-cTiterSub-dms                            NaN       NaN            NaN  NaN  \n",
       "ne                                           NaN       NaN            NaN  NaN  \n",
       "ne_star                                -0.976691  0.738519            NaN  NaN  \n",
       "null                                         NaN       NaN            0.0  0.0  "
      ]
     },
     "execution_count": 79,
     "metadata": {},
     "output_type": "execute_result"
    }
   ],
   "source": [
    "parameter_columns = [column for column in df.columns if column.startswith(\"parameter-\")]\n",
    "df.loc[:, [\"predictors\"] + parameter_columns].groupby(\"predictors\").aggregate([\"mean\", \"std\"])"
   ]
  },
  {
   "cell_type": "code",
   "execution_count": 123,
   "metadata": {},
   "outputs": [],
   "source": [
    "parameters_df = df.loc[:, [\"predictors\"] + parameter_columns].melt(\n",
    "    \"predictors\",\n",
    "    parameter_columns,\n",
    "    var_name=\"predictor\",\n",
    "    value_name=\"parameter\"\n",
    ").dropna().copy()"
   ]
  },
  {
   "cell_type": "code",
   "execution_count": 126,
   "metadata": {},
   "outputs": [],
   "source": [
    "parameters_df[\"predictor\"] = parameters_df[\"predictor\"].str.replace(\"parameter-\", \"\")"
   ]
  },
  {
   "cell_type": "code",
   "execution_count": 127,
   "metadata": {},
   "outputs": [
    {
     "data": {
      "text/html": [
       "<div>\n",
       "<style scoped>\n",
       "    .dataframe tbody tr th:only-of-type {\n",
       "        vertical-align: middle;\n",
       "    }\n",
       "\n",
       "    .dataframe tbody tr th {\n",
       "        vertical-align: top;\n",
       "    }\n",
       "\n",
       "    .dataframe thead th {\n",
       "        text-align: right;\n",
       "    }\n",
       "</style>\n",
       "<table border=\"1\" class=\"dataframe\">\n",
       "  <thead>\n",
       "    <tr style=\"text-align: right;\">\n",
       "      <th></th>\n",
       "      <th>predictors</th>\n",
       "      <th>predictor</th>\n",
       "      <th>parameter</th>\n",
       "    </tr>\n",
       "  </thead>\n",
       "  <tbody>\n",
       "    <tr>\n",
       "      <th>66</th>\n",
       "      <td>cTiterSub</td>\n",
       "      <td>cTiterSub</td>\n",
       "      <td>-0.002188</td>\n",
       "    </tr>\n",
       "    <tr>\n",
       "      <th>67</th>\n",
       "      <td>cTiterSub</td>\n",
       "      <td>cTiterSub</td>\n",
       "      <td>0.020439</td>\n",
       "    </tr>\n",
       "    <tr>\n",
       "      <th>68</th>\n",
       "      <td>cTiterSub</td>\n",
       "      <td>cTiterSub</td>\n",
       "      <td>0.205096</td>\n",
       "    </tr>\n",
       "    <tr>\n",
       "      <th>69</th>\n",
       "      <td>cTiterSub</td>\n",
       "      <td>cTiterSub</td>\n",
       "      <td>0.638125</td>\n",
       "    </tr>\n",
       "    <tr>\n",
       "      <th>70</th>\n",
       "      <td>cTiterSub</td>\n",
       "      <td>cTiterSub</td>\n",
       "      <td>0.687128</td>\n",
       "    </tr>\n",
       "  </tbody>\n",
       "</table>\n",
       "</div>"
      ],
      "text/plain": [
       "   predictors  predictor  parameter\n",
       "66  cTiterSub  cTiterSub  -0.002188\n",
       "67  cTiterSub  cTiterSub   0.020439\n",
       "68  cTiterSub  cTiterSub   0.205096\n",
       "69  cTiterSub  cTiterSub   0.638125\n",
       "70  cTiterSub  cTiterSub   0.687128"
      ]
     },
     "execution_count": 127,
     "metadata": {},
     "output_type": "execute_result"
    }
   ],
   "source": [
    "parameters_df.head()"
   ]
  },
  {
   "cell_type": "code",
   "execution_count": 132,
   "metadata": {},
   "outputs": [
    {
     "data": {
      "text/plain": [
       "<matplotlib.lines.Line2D at 0x1a369623d0>"
      ]
     },
     "execution_count": 132,
     "metadata": {},
     "output_type": "execute_result"
    },
    {
     "data": {
      "image/png": "[encoded data removed]",
      "text/plain": [
       "<Figure size 738.575x504 with 1 Axes>"
      ]
     },
     "metadata": {
      "needs_background": "light"
     },
     "output_type": "display_data"
    }
   ],
   "source": [
    "g = sns.catplot(\n",
    "    y=\"predictors\",\n",
    "    x=\"parameter\",\n",
    "    data=parameters_df,\n",
    "    hue=\"predictor\",\n",
    "    kind=\"box\",\n",
    "    height=7,\n",
    "    aspect=1.3,\n",
    "    dodge=1\n",
    ")\n",
    "g.ax.axvline(0, color=\"#999999\", alpha=0.5, zorder=-10)"
   ]
  },
  {
   "cell_type": "code",
   "execution_count": 149,
   "metadata": {},
   "outputs": [
    {
     "data": {
      "image/png": "[encoded data removed]",
      "text/plain": [
       "<Figure size 576x432 with 1 Axes>"
      ]
     },
     "metadata": {
      "needs_background": "light"
     },
     "output_type": "display_data"
    }
   ],
   "source": [
    "fig, ax = plt.subplots(1, 1, figsize=(8, 6))\n",
    "sns.boxplot(\n",
    "    y=\"predictors\",\n",
    "    x=\"parameter\",\n",
    "    data=parameters_df,\n",
    "    hue=\"predictor\",\n",
    "    ax=ax,\n",
    "    width=1.0,\n",
    "    dodge=1.0\n",
    ")\n",
    "ax.axvline(0, color=\"#999999\", alpha=0.5, zorder=-10)\n",
    "sns.despine()\n",
    "plt.tight_layout()"
   ]
  },
  {
   "cell_type": "code",
   "execution_count": 152,
   "metadata": {},
   "outputs": [
    {
     "data": {
      "text/plain": [
       "fn    124\n",
       "fp    110\n",
       "tn    251\n",
       "tp    320\n",
       "dtype: int64"
      ]
     },
     "execution_count": 152,
     "metadata": {},
     "output_type": "execute_result"
    }
   ],
   "source": [
    "df[df[\"predictors\"] == \"cTiterSub\"].loc[:, [\"fn\", \"fp\", \"tn\", \"tp\"]].sum()"
   ]
  },
  {
   "cell_type": "code",
   "execution_count": 153,
   "metadata": {},
   "outputs": [
    {
     "data": {
      "text/plain": [
       "805"
      ]
     },
     "execution_count": 153,
     "metadata": {},
     "output_type": "execute_result"
    }
   ],
   "source": [
    "df[df[\"predictors\"] == \"cTiterSub\"].loc[:, [\"fn\", \"fp\", \"tn\", \"tp\"]].sum().sum()"
   ]
  },
  {
   "cell_type": "code",
   "execution_count": 154,
   "metadata": {},
   "outputs": [
    {
     "data": {
      "text/plain": [
       "0.7093167701863354"
      ]
     },
     "execution_count": 154,
     "metadata": {},
     "output_type": "execute_result"
    }
   ],
   "source": [
    "(251+320) / 805.0"
   ]
  },
  {
   "cell_type": "code",
   "execution_count": 155,
   "metadata": {},
   "outputs": [
    {
     "data": {
      "text/plain": [
       "0.5046847156124517"
      ]
     },
     "execution_count": 155,
     "metadata": {},
     "output_type": "execute_result"
    }
   ],
   "source": [
    "df[df[\"predictors\"] == \"cTiterSub\"][\"testing_accuracy\"].mean()"
   ]
  },
  {
   "cell_type": "code",
   "execution_count": 156,
   "metadata": {},
   "outputs": [
    {
     "data": {
      "text/plain": [
       "0.4892460547900817"
      ]
     },
     "execution_count": 156,
     "metadata": {},
     "output_type": "execute_result"
    }
   ],
   "source": [
    "df[df[\"predictors\"] == \"cTiterSub\"][\"testing_accuracy\"].median()"
   ]
  },
  {
   "cell_type": "code",
   "execution_count": null,
   "metadata": {},
   "outputs": [],
   "source": []
  }
 ],
 "metadata": {
  "kernelspec": {
   "display_name": "Python [conda env:janus_python2]",
   "language": "python",
   "name": "conda-env-janus_python2-py"
  },
  "language_info": {
   "codemirror_mode": {
    "name": "ipython",
    "version": 2
   },
   "file_extension": ".py",
   "mimetype": "text/x-python",
   "name": "python",
   "nbconvert_exporter": "python",
   "pygments_lexer": "ipython2",
   "version": "2.7.13"
  }
 },
 "nbformat": 4,
 "nbformat_minor": 2
}
