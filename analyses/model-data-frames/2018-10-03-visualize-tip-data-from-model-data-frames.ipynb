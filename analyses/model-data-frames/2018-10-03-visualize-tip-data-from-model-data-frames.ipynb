{
 "cells": [
  {
   "cell_type": "markdown",
   "metadata": {},
   "source": [
    "# Visualize tip data from model data frames"
   ]
  },
  {
   "cell_type": "code",
   "execution_count": 1,
   "metadata": {},
   "outputs": [],
   "source": [
    "import pandas as pd\n",
    "import seaborn as sns\n",
    "\n",
    "%matplotlib inline"
   ]
  },
  {
   "cell_type": "code",
   "execution_count": 2,
   "metadata": {},
   "outputs": [],
   "source": [
    "# Read model data frame.\n",
    "df = pd.read_table(\"../../model_data_frames/2016-2018/1/ep/0.tsv\")"
   ]
  },
  {
   "cell_type": "code",
   "execution_count": 3,
   "metadata": {},
   "outputs": [
    {
     "data": {
      "text/html": [
       "<div>\n",
       "<style scoped>\n",
       "    .dataframe tbody tr th:only-of-type {\n",
       "        vertical-align: middle;\n",
       "    }\n",
       "\n",
       "    .dataframe tbody tr th {\n",
       "        vertical-align: top;\n",
       "    }\n",
       "\n",
       "    .dataframe thead th {\n",
       "        text-align: right;\n",
       "    }\n",
       "</style>\n",
       "<table border=\"1\" class=\"dataframe\">\n",
       "  <thead>\n",
       "    <tr style=\"text-align: right;\">\n",
       "      <th></th>\n",
       "      <th>clade_name</th>\n",
       "      <th>frequency</th>\n",
       "      <th>name</th>\n",
       "      <th>predictor:ep</th>\n",
       "      <th>timepoint</th>\n",
       "    </tr>\n",
       "  </thead>\n",
       "  <tbody>\n",
       "    <tr>\n",
       "      <th>0</th>\n",
       "      <td>NODE_0000181</td>\n",
       "      <td>0.145351</td>\n",
       "      <td>A/Bangladesh/1010/2017</td>\n",
       "      <td>-0.915997</td>\n",
       "      <td>2017.33</td>\n",
       "    </tr>\n",
       "    <tr>\n",
       "      <th>1</th>\n",
       "      <td>NODE_0000181</td>\n",
       "      <td>0.000000</td>\n",
       "      <td>A/SouthAustralia/131/2017</td>\n",
       "      <td>-0.137518</td>\n",
       "      <td>2017.33</td>\n",
       "    </tr>\n",
       "    <tr>\n",
       "      <th>2</th>\n",
       "      <td>NODE_0000181</td>\n",
       "      <td>0.000000</td>\n",
       "      <td>A/SouthAustralia/209/2017</td>\n",
       "      <td>-0.137518</td>\n",
       "      <td>2017.33</td>\n",
       "    </tr>\n",
       "    <tr>\n",
       "      <th>3</th>\n",
       "      <td>NODE_0000179</td>\n",
       "      <td>0.145351</td>\n",
       "      <td>A/Bangladesh/1010/2017</td>\n",
       "      <td>-0.915997</td>\n",
       "      <td>2017.33</td>\n",
       "    </tr>\n",
       "    <tr>\n",
       "      <th>4</th>\n",
       "      <td>NODE_0000179</td>\n",
       "      <td>0.083148</td>\n",
       "      <td>A/Qatar/10-VI-17-0020012/2017</td>\n",
       "      <td>-0.915997</td>\n",
       "      <td>2017.33</td>\n",
       "    </tr>\n",
       "  </tbody>\n",
       "</table>\n",
       "</div>"
      ],
      "text/plain": [
       "     clade_name  frequency                           name  predictor:ep  \\\n",
       "0  NODE_0000181   0.145351         A/Bangladesh/1010/2017     -0.915997   \n",
       "1  NODE_0000181   0.000000      A/SouthAustralia/131/2017     -0.137518   \n",
       "2  NODE_0000181   0.000000      A/SouthAustralia/209/2017     -0.137518   \n",
       "3  NODE_0000179   0.145351         A/Bangladesh/1010/2017     -0.915997   \n",
       "4  NODE_0000179   0.083148  A/Qatar/10-VI-17-0020012/2017     -0.915997   \n",
       "\n",
       "   timepoint  \n",
       "0    2017.33  \n",
       "1    2017.33  \n",
       "2    2017.33  \n",
       "3    2017.33  \n",
       "4    2017.33  "
      ]
     },
     "execution_count": 3,
     "metadata": {},
     "output_type": "execute_result"
    }
   ],
   "source": [
    "df.head()"
   ]
  },
  {
   "cell_type": "code",
   "execution_count": 4,
   "metadata": {},
   "outputs": [
    {
     "data": {
      "text/plain": [
       "<matplotlib.axes._subplots.AxesSubplot at 0x10fbf2c10>"
      ]
     },
     "execution_count": 4,
     "metadata": {},
     "output_type": "execute_result"
    },
    {
     "data": {
      "image/png": "[encoded data removed]",
      "text/plain": [
       "<matplotlib.figure.Figure at 0x10fbf2690>"
      ]
     },
     "metadata": {},
     "output_type": "display_data"
    }
   ],
   "source": [
    "sns.distplot(df[\"predictor:ep\"], kde=False)"
   ]
  },
  {
   "cell_type": "code",
   "execution_count": null,
   "metadata": {},
   "outputs": [],
   "source": []
  }
 ],
 "metadata": {
  "kernelspec": {
   "display_name": "Python [conda env:janus_python2]",
   "language": "python",
   "name": "conda-env-janus_python2-py"
  },
  "language_info": {
   "codemirror_mode": {
    "name": "ipython",
    "version": 2
   },
   "file_extension": ".py",
   "mimetype": "text/x-python",
   "name": "python",
   "nbconvert_exporter": "python",
   "pygments_lexer": "ipython2",
   "version": "2.7.13"
  }
 },
 "nbformat": 4,
 "nbformat_minor": 2
}
