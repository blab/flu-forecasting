{
 "cells": [
  {
   "cell_type": "markdown",
   "metadata": {},
   "source": [
    "# Identify optimal frequency bandwidth by cross-validation\n",
    "\n",
    "To determine the optimal frequency bandwidth for the fitness model, I ran estimated frequencies for a range of bandwidths, ran the fitness model with the LBI predictor for each frequency bandwidth, and calculated the mean sum of squared errors (MSE) across all non-overlapping clades in all test intervals. I identified the optimal frequency bandwidth as the value that minimizes the MSE."
   ]
  },
  {
   "cell_type": "code",
   "execution_count": 12,
   "metadata": {},
   "outputs": [],
   "source": [
    "import matplotlib.pyplot as plt\n",
    "import numpy as np\n",
    "import pandas as pd\n",
    "import seaborn as sns\n",
    "%matplotlib inline\n",
    "\n",
    "#plt.style.use(\"huddlej\")\n",
    "#plt.style.use(\"ggplot\")\n",
    "sns.set_style(\"ticks\")"
   ]
  },
  {
   "cell_type": "code",
   "execution_count": 13,
   "metadata": {},
   "outputs": [
    {
     "name": "stdout",
     "output_type": "stream",
     "text": [
      "-rw-rw----  1 jlhudd  staff  14523 Dec  5 16:01 model_validation_by_bandwidth.tab\r\n"
     ]
    }
   ],
   "source": [
    "!ls -l model_validation_by_bandwidth.tab"
   ]
  },
  {
   "cell_type": "code",
   "execution_count": 14,
   "metadata": {},
   "outputs": [],
   "source": [
    "df = pd.read_table(\"model_validation_by_bandwidth.tab\", keep_default_na=False, na_values=\"N/A\")"
   ]
  },
  {
   "cell_type": "code",
   "execution_count": 15,
   "metadata": {},
   "outputs": [
    {
     "data": {
      "text/html": [
       "<div>\n",
       "<style scoped>\n",
       "    .dataframe tbody tr th:only-of-type {\n",
       "        vertical-align: middle;\n",
       "    }\n",
       "\n",
       "    .dataframe tbody tr th {\n",
       "        vertical-align: top;\n",
       "    }\n",
       "\n",
       "    .dataframe thead th {\n",
       "        text-align: right;\n",
       "    }\n",
       "</style>\n",
       "<table border=\"1\" class=\"dataframe\">\n",
       "  <thead>\n",
       "    <tr style=\"text-align: right;\">\n",
       "      <th></th>\n",
       "      <th>bandwidth</th>\n",
       "      <th>fn</th>\n",
       "      <th>fp</th>\n",
       "      <th>last_training_timepoint</th>\n",
       "      <th>n_samples</th>\n",
       "      <th>parameter-lbi</th>\n",
       "      <th>predictors</th>\n",
       "      <th>sae</th>\n",
       "      <th>sample</th>\n",
       "      <th>sse</th>\n",
       "      <th>test_timepoint</th>\n",
       "      <th>testing_accuracy</th>\n",
       "      <th>testing_correlation</th>\n",
       "      <th>tn</th>\n",
       "      <th>tp</th>\n",
       "      <th>training_accuracy</th>\n",
       "      <th>training_correlation</th>\n",
       "      <th>training_windows</th>\n",
       "      <th>viruses</th>\n",
       "      <th>year_range</th>\n",
       "    </tr>\n",
       "  </thead>\n",
       "  <tbody>\n",
       "    <tr>\n",
       "      <th>0</th>\n",
       "      <td>0.02</td>\n",
       "      <td>0</td>\n",
       "      <td>0</td>\n",
       "      <td>2011.25</td>\n",
       "      <td>4</td>\n",
       "      <td>0.328519</td>\n",
       "      <td>lbi</td>\n",
       "      <td>0.165821</td>\n",
       "      <td>0</td>\n",
       "      <td>0.012310</td>\n",
       "      <td>2012.25</td>\n",
       "      <td>1.000000</td>\n",
       "      <td>0.981637</td>\n",
       "      <td>3</td>\n",
       "      <td>1</td>\n",
       "      <td>0.241816</td>\n",
       "      <td>0.239388</td>\n",
       "      <td>9</td>\n",
       "      <td>92</td>\n",
       "      <td>2006-2018</td>\n",
       "    </tr>\n",
       "    <tr>\n",
       "      <th>1</th>\n",
       "      <td>0.02</td>\n",
       "      <td>0</td>\n",
       "      <td>1</td>\n",
       "      <td>2011.75</td>\n",
       "      <td>16</td>\n",
       "      <td>0.311516</td>\n",
       "      <td>lbi</td>\n",
       "      <td>0.862407</td>\n",
       "      <td>0</td>\n",
       "      <td>0.292817</td>\n",
       "      <td>2012.75</td>\n",
       "      <td>0.683130</td>\n",
       "      <td>0.889396</td>\n",
       "      <td>14</td>\n",
       "      <td>1</td>\n",
       "      <td>0.251036</td>\n",
       "      <td>0.240694</td>\n",
       "      <td>10</td>\n",
       "      <td>92</td>\n",
       "      <td>2006-2018</td>\n",
       "    </tr>\n",
       "    <tr>\n",
       "      <th>2</th>\n",
       "      <td>0.02</td>\n",
       "      <td>1</td>\n",
       "      <td>0</td>\n",
       "      <td>2012.25</td>\n",
       "      <td>14</td>\n",
       "      <td>0.333153</td>\n",
       "      <td>lbi</td>\n",
       "      <td>0.634237</td>\n",
       "      <td>0</td>\n",
       "      <td>0.115101</td>\n",
       "      <td>2013.25</td>\n",
       "      <td>0.679366</td>\n",
       "      <td>0.572781</td>\n",
       "      <td>12</td>\n",
       "      <td>1</td>\n",
       "      <td>0.276716</td>\n",
       "      <td>0.243864</td>\n",
       "      <td>11</td>\n",
       "      <td>92</td>\n",
       "      <td>2006-2018</td>\n",
       "    </tr>\n",
       "    <tr>\n",
       "      <th>3</th>\n",
       "      <td>0.02</td>\n",
       "      <td>1</td>\n",
       "      <td>0</td>\n",
       "      <td>2012.75</td>\n",
       "      <td>4</td>\n",
       "      <td>0.483784</td>\n",
       "      <td>lbi</td>\n",
       "      <td>0.124033</td>\n",
       "      <td>0</td>\n",
       "      <td>0.007253</td>\n",
       "      <td>2013.75</td>\n",
       "      <td>0.577350</td>\n",
       "      <td>0.886338</td>\n",
       "      <td>2</td>\n",
       "      <td>1</td>\n",
       "      <td>0.352575</td>\n",
       "      <td>0.271181</td>\n",
       "      <td>12</td>\n",
       "      <td>92</td>\n",
       "      <td>2006-2018</td>\n",
       "    </tr>\n",
       "    <tr>\n",
       "      <th>4</th>\n",
       "      <td>0.02</td>\n",
       "      <td>0</td>\n",
       "      <td>10</td>\n",
       "      <td>2013.25</td>\n",
       "      <td>28</td>\n",
       "      <td>0.523003</td>\n",
       "      <td>lbi</td>\n",
       "      <td>1.201441</td>\n",
       "      <td>0</td>\n",
       "      <td>0.313668</td>\n",
       "      <td>2014.25</td>\n",
       "      <td>0.372104</td>\n",
       "      <td>0.346370</td>\n",
       "      <td>15</td>\n",
       "      <td>3</td>\n",
       "      <td>0.369814</td>\n",
       "      <td>0.277059</td>\n",
       "      <td>13</td>\n",
       "      <td>92</td>\n",
       "      <td>2006-2018</td>\n",
       "    </tr>\n",
       "  </tbody>\n",
       "</table>\n",
       "</div>"
      ],
      "text/plain": [
       "   bandwidth  fn  fp  last_training_timepoint  n_samples  parameter-lbi  \\\n",
       "0       0.02   0   0                  2011.25          4       0.328519   \n",
       "1       0.02   0   1                  2011.75         16       0.311516   \n",
       "2       0.02   1   0                  2012.25         14       0.333153   \n",
       "3       0.02   1   0                  2012.75          4       0.483784   \n",
       "4       0.02   0  10                  2013.25         28       0.523003   \n",
       "\n",
       "  predictors       sae  sample       sse  test_timepoint  testing_accuracy  \\\n",
       "0        lbi  0.165821       0  0.012310         2012.25          1.000000   \n",
       "1        lbi  0.862407       0  0.292817         2012.75          0.683130   \n",
       "2        lbi  0.634237       0  0.115101         2013.25          0.679366   \n",
       "3        lbi  0.124033       0  0.007253         2013.75          0.577350   \n",
       "4        lbi  1.201441       0  0.313668         2014.25          0.372104   \n",
       "\n",
       "   testing_correlation  tn  tp  training_accuracy  training_correlation  \\\n",
       "0             0.981637   3   1           0.241816              0.239388   \n",
       "1             0.889396  14   1           0.251036              0.240694   \n",
       "2             0.572781  12   1           0.276716              0.243864   \n",
       "3             0.886338   2   1           0.352575              0.271181   \n",
       "4             0.346370  15   3           0.369814              0.277059   \n",
       "\n",
       "   training_windows  viruses year_range  \n",
       "0                 9       92  2006-2018  \n",
       "1                10       92  2006-2018  \n",
       "2                11       92  2006-2018  \n",
       "3                12       92  2006-2018  \n",
       "4                13       92  2006-2018  "
      ]
     },
     "execution_count": 15,
     "metadata": {},
     "output_type": "execute_result"
    }
   ],
   "source": [
    "df.head()"
   ]
  },
  {
   "cell_type": "code",
   "execution_count": 16,
   "metadata": {},
   "outputs": [
    {
     "data": {
      "text/plain": [
       "(77, 20)"
      ]
     },
     "execution_count": 16,
     "metadata": {},
     "output_type": "execute_result"
    }
   ],
   "source": [
    "df.shape"
   ]
  },
  {
   "cell_type": "code",
   "execution_count": 17,
   "metadata": {},
   "outputs": [
    {
     "data": {
      "text/plain": [
       "Index([u'bandwidth', u'fn', u'fp', u'last_training_timepoint', u'n_samples',\n",
       "       u'parameter-lbi', u'predictors', u'sae', u'sample', u'sse',\n",
       "       u'test_timepoint', u'testing_accuracy', u'testing_correlation', u'tn',\n",
       "       u'tp', u'training_accuracy', u'training_correlation',\n",
       "       u'training_windows', u'viruses', u'year_range'],\n",
       "      dtype='object')"
      ]
     },
     "execution_count": 17,
     "metadata": {},
     "output_type": "execute_result"
    }
   ],
   "source": [
    "df.columns"
   ]
  },
  {
   "cell_type": "code",
   "execution_count": 18,
   "metadata": {},
   "outputs": [
    {
     "data": {
      "text/html": [
       "<div>\n",
       "<style scoped>\n",
       "    .dataframe tbody tr th:only-of-type {\n",
       "        vertical-align: middle;\n",
       "    }\n",
       "\n",
       "    .dataframe tbody tr th {\n",
       "        vertical-align: top;\n",
       "    }\n",
       "\n",
       "    .dataframe thead tr th {\n",
       "        text-align: left;\n",
       "    }\n",
       "\n",
       "    .dataframe thead tr:last-of-type th {\n",
       "        text-align: right;\n",
       "    }\n",
       "</style>\n",
       "<table border=\"1\" class=\"dataframe\">\n",
       "  <thead>\n",
       "    <tr>\n",
       "      <th></th>\n",
       "      <th colspan=\"2\" halign=\"left\">testing_accuracy</th>\n",
       "      <th colspan=\"2\" halign=\"left\">sse</th>\n",
       "      <th colspan=\"2\" halign=\"left\">testing_correlation</th>\n",
       "    </tr>\n",
       "    <tr>\n",
       "      <th></th>\n",
       "      <th>mean</th>\n",
       "      <th>std</th>\n",
       "      <th>mean</th>\n",
       "      <th>std</th>\n",
       "      <th>mean</th>\n",
       "      <th>std</th>\n",
       "    </tr>\n",
       "    <tr>\n",
       "      <th>bandwidth</th>\n",
       "      <th></th>\n",
       "      <th></th>\n",
       "      <th></th>\n",
       "      <th></th>\n",
       "      <th></th>\n",
       "      <th></th>\n",
       "    </tr>\n",
       "  </thead>\n",
       "  <tbody>\n",
       "    <tr>\n",
       "      <th>0.50</th>\n",
       "      <td>0.361</td>\n",
       "      <td>0.470</td>\n",
       "      <td>0.151</td>\n",
       "      <td>0.136</td>\n",
       "      <td>0.364</td>\n",
       "      <td>0.519</td>\n",
       "    </tr>\n",
       "    <tr>\n",
       "      <th>0.33</th>\n",
       "      <td>0.477</td>\n",
       "      <td>0.528</td>\n",
       "      <td>0.171</td>\n",
       "      <td>0.176</td>\n",
       "      <td>0.580</td>\n",
       "      <td>0.401</td>\n",
       "    </tr>\n",
       "    <tr>\n",
       "      <th>0.25</th>\n",
       "      <td>0.460</td>\n",
       "      <td>0.372</td>\n",
       "      <td>0.210</td>\n",
       "      <td>0.207</td>\n",
       "      <td>0.553</td>\n",
       "      <td>0.363</td>\n",
       "    </tr>\n",
       "    <tr>\n",
       "      <th>0.16</th>\n",
       "      <td>0.491</td>\n",
       "      <td>0.314</td>\n",
       "      <td>0.216</td>\n",
       "      <td>0.232</td>\n",
       "      <td>0.567</td>\n",
       "      <td>0.330</td>\n",
       "    </tr>\n",
       "    <tr>\n",
       "      <th>0.02</th>\n",
       "      <td>0.487</td>\n",
       "      <td>0.410</td>\n",
       "      <td>0.222</td>\n",
       "      <td>0.264</td>\n",
       "      <td>0.582</td>\n",
       "      <td>0.349</td>\n",
       "    </tr>\n",
       "    <tr>\n",
       "      <th>0.08</th>\n",
       "      <td>0.471</td>\n",
       "      <td>0.302</td>\n",
       "      <td>0.223</td>\n",
       "      <td>0.253</td>\n",
       "      <td>0.590</td>\n",
       "      <td>0.298</td>\n",
       "    </tr>\n",
       "    <tr>\n",
       "      <th>0.04</th>\n",
       "      <td>0.501</td>\n",
       "      <td>0.383</td>\n",
       "      <td>0.225</td>\n",
       "      <td>0.262</td>\n",
       "      <td>0.583</td>\n",
       "      <td>0.347</td>\n",
       "    </tr>\n",
       "  </tbody>\n",
       "</table>\n",
       "</div>"
      ],
      "text/plain": [
       "          testing_accuracy           sse        testing_correlation       \n",
       "                      mean    std   mean    std                mean    std\n",
       "bandwidth                                                                 \n",
       "0.50                 0.361  0.470  0.151  0.136               0.364  0.519\n",
       "0.33                 0.477  0.528  0.171  0.176               0.580  0.401\n",
       "0.25                 0.460  0.372  0.210  0.207               0.553  0.363\n",
       "0.16                 0.491  0.314  0.216  0.232               0.567  0.330\n",
       "0.02                 0.487  0.410  0.222  0.264               0.582  0.349\n",
       "0.08                 0.471  0.302  0.223  0.253               0.590  0.298\n",
       "0.04                 0.501  0.383  0.225  0.262               0.583  0.347"
      ]
     },
     "execution_count": 18,
     "metadata": {},
     "output_type": "execute_result"
    }
   ],
   "source": [
    "agg_functions = [\"mean\", \"std\"]\n",
    "np.around(df.groupby(\"bandwidth\").aggregate({\n",
    "    \"testing_accuracy\": agg_functions,\n",
    "    \"sse\": agg_functions,\n",
    "    \"testing_correlation\": agg_functions\n",
    "}).sort_values([(\"sse\", \"mean\")]), 3)"
   ]
  },
  {
   "cell_type": "code",
   "execution_count": 19,
   "metadata": {},
   "outputs": [],
   "source": [
    "error_df = df.groupby(\"bandwidth\").aggregate({\"sse\": \"sum\", \"sae\": \"sum\", \"n_samples\": \"sum\"})"
   ]
  },
  {
   "cell_type": "code",
   "execution_count": 20,
   "metadata": {},
   "outputs": [
    {
     "data": {
      "text/plain": [
       "bandwidth\n",
       "0.50    0.016023\n",
       "0.08    0.016926\n",
       "0.16    0.016952\n",
       "0.02    0.016976\n",
       "0.04    0.017037\n",
       "0.25    0.017753\n",
       "0.33    0.018775\n",
       "dtype: float64"
      ]
     },
     "execution_count": 20,
     "metadata": {},
     "output_type": "execute_result"
    }
   ],
   "source": [
    "# Calculate mean squared error.\n",
    "mse = (error_df[\"sse\"] / error_df[\"n_samples\"]).sort_values()\n",
    "mse"
   ]
  },
  {
   "cell_type": "code",
   "execution_count": 21,
   "metadata": {},
   "outputs": [
    {
     "data": {
      "text/html": [
       "<div>\n",
       "<style scoped>\n",
       "    .dataframe tbody tr th:only-of-type {\n",
       "        vertical-align: middle;\n",
       "    }\n",
       "\n",
       "    .dataframe tbody tr th {\n",
       "        vertical-align: top;\n",
       "    }\n",
       "\n",
       "    .dataframe thead th {\n",
       "        text-align: right;\n",
       "    }\n",
       "</style>\n",
       "<table border=\"1\" class=\"dataframe\">\n",
       "  <thead>\n",
       "    <tr style=\"text-align: right;\">\n",
       "      <th></th>\n",
       "      <th>bandwidth</th>\n",
       "      <th>mse</th>\n",
       "    </tr>\n",
       "  </thead>\n",
       "  <tbody>\n",
       "    <tr>\n",
       "      <th>0</th>\n",
       "      <td>0.50</td>\n",
       "      <td>0.016023</td>\n",
       "    </tr>\n",
       "    <tr>\n",
       "      <th>1</th>\n",
       "      <td>0.08</td>\n",
       "      <td>0.016926</td>\n",
       "    </tr>\n",
       "    <tr>\n",
       "      <th>2</th>\n",
       "      <td>0.16</td>\n",
       "      <td>0.016952</td>\n",
       "    </tr>\n",
       "    <tr>\n",
       "      <th>3</th>\n",
       "      <td>0.02</td>\n",
       "      <td>0.016976</td>\n",
       "    </tr>\n",
       "    <tr>\n",
       "      <th>4</th>\n",
       "      <td>0.04</td>\n",
       "      <td>0.017037</td>\n",
       "    </tr>\n",
       "    <tr>\n",
       "      <th>5</th>\n",
       "      <td>0.25</td>\n",
       "      <td>0.017753</td>\n",
       "    </tr>\n",
       "    <tr>\n",
       "      <th>6</th>\n",
       "      <td>0.33</td>\n",
       "      <td>0.018775</td>\n",
       "    </tr>\n",
       "  </tbody>\n",
       "</table>\n",
       "</div>"
      ],
      "text/plain": [
       "   bandwidth       mse\n",
       "0       0.50  0.016023\n",
       "1       0.08  0.016926\n",
       "2       0.16  0.016952\n",
       "3       0.02  0.016976\n",
       "4       0.04  0.017037\n",
       "5       0.25  0.017753\n",
       "6       0.33  0.018775"
      ]
     },
     "execution_count": 21,
     "metadata": {},
     "output_type": "execute_result"
    }
   ],
   "source": [
    "mse_df = mse.reset_index().rename({0: \"mse\"}, axis=1)\n",
    "mse_df"
   ]
  },
  {
   "cell_type": "code",
   "execution_count": 22,
   "metadata": {},
   "outputs": [
    {
     "data": {
      "text/plain": [
       "<matplotlib.axes._subplots.AxesSubplot at 0x111ee9b50>"
      ]
     },
     "execution_count": 22,
     "metadata": {},
     "output_type": "execute_result"
    },
    {
     "data": {
      "image/png": "[encoded data removed]",
      "text/plain": [
       "<matplotlib.figure.Figure at 0x111ed04d0>"
      ]
     },
     "metadata": {},
     "output_type": "display_data"
    }
   ],
   "source": [
    "sns.pointplot(\n",
    "    x=\"bandwidth\",\n",
    "    y=\"mse\",\n",
    "    data=mse_df,\n",
    "    join=False\n",
    ")"
   ]
  },
  {
   "cell_type": "code",
   "execution_count": 23,
   "metadata": {},
   "outputs": [
    {
     "data": {
      "text/plain": [
       "bandwidth\n",
       "0.08    0.054183\n",
       "0.16    0.054368\n",
       "0.04    0.054749\n",
       "0.02    0.055272\n",
       "0.50    0.055288\n",
       "0.25    0.056712\n",
       "0.33    0.059687\n",
       "dtype: float64"
      ]
     },
     "execution_count": 23,
     "metadata": {},
     "output_type": "execute_result"
    }
   ],
   "source": [
    "# Calculate mean absolute error\n",
    "mae = (error_df[\"sae\"] / error_df[\"n_samples\"]).sort_values()\n",
    "mae"
   ]
  },
  {
   "cell_type": "code",
   "execution_count": 24,
   "metadata": {},
   "outputs": [
    {
     "data": {
      "text/html": [
       "<div>\n",
       "<style scoped>\n",
       "    .dataframe tbody tr th:only-of-type {\n",
       "        vertical-align: middle;\n",
       "    }\n",
       "\n",
       "    .dataframe tbody tr th {\n",
       "        vertical-align: top;\n",
       "    }\n",
       "\n",
       "    .dataframe thead th {\n",
       "        text-align: right;\n",
       "    }\n",
       "</style>\n",
       "<table border=\"1\" class=\"dataframe\">\n",
       "  <thead>\n",
       "    <tr style=\"text-align: right;\">\n",
       "      <th></th>\n",
       "      <th>bandwidth</th>\n",
       "      <th>mae</th>\n",
       "    </tr>\n",
       "  </thead>\n",
       "  <tbody>\n",
       "    <tr>\n",
       "      <th>0</th>\n",
       "      <td>0.08</td>\n",
       "      <td>0.054183</td>\n",
       "    </tr>\n",
       "    <tr>\n",
       "      <th>1</th>\n",
       "      <td>0.16</td>\n",
       "      <td>0.054368</td>\n",
       "    </tr>\n",
       "    <tr>\n",
       "      <th>2</th>\n",
       "      <td>0.04</td>\n",
       "      <td>0.054749</td>\n",
       "    </tr>\n",
       "    <tr>\n",
       "      <th>3</th>\n",
       "      <td>0.02</td>\n",
       "      <td>0.055272</td>\n",
       "    </tr>\n",
       "    <tr>\n",
       "      <th>4</th>\n",
       "      <td>0.50</td>\n",
       "      <td>0.055288</td>\n",
       "    </tr>\n",
       "    <tr>\n",
       "      <th>5</th>\n",
       "      <td>0.25</td>\n",
       "      <td>0.056712</td>\n",
       "    </tr>\n",
       "    <tr>\n",
       "      <th>6</th>\n",
       "      <td>0.33</td>\n",
       "      <td>0.059687</td>\n",
       "    </tr>\n",
       "  </tbody>\n",
       "</table>\n",
       "</div>"
      ],
      "text/plain": [
       "   bandwidth       mae\n",
       "0       0.08  0.054183\n",
       "1       0.16  0.054368\n",
       "2       0.04  0.054749\n",
       "3       0.02  0.055272\n",
       "4       0.50  0.055288\n",
       "5       0.25  0.056712\n",
       "6       0.33  0.059687"
      ]
     },
     "execution_count": 24,
     "metadata": {},
     "output_type": "execute_result"
    }
   ],
   "source": [
    "mae_df = mae.reset_index().rename({0: \"mae\"}, axis=1)\n",
    "mae_df"
   ]
  },
  {
   "cell_type": "code",
   "execution_count": 25,
   "metadata": {},
   "outputs": [
    {
     "data": {
      "text/plain": [
       "<matplotlib.axes._subplots.AxesSubplot at 0x111fe7510>"
      ]
     },
     "execution_count": 25,
     "metadata": {},
     "output_type": "execute_result"
    },
    {
     "data": {
      "image/png": "[encoded data removed]",
      "text/plain": [
       "<matplotlib.figure.Figure at 0x111e375d0>"
      ]
     },
     "metadata": {},
     "output_type": "display_data"
    }
   ],
   "source": [
    "sns.pointplot(\n",
    "    x=\"bandwidth\",\n",
    "    y=\"mae\",\n",
    "    data=mae_df,\n",
    "    join=False\n",
    ")"
   ]
  },
  {
   "cell_type": "code",
   "execution_count": null,
   "metadata": {},
   "outputs": [],
   "source": []
  }
 ],
 "metadata": {
  "kernelspec": {
   "display_name": "Python [conda env:janus_python2]",
   "language": "python",
   "name": "conda-env-janus_python2-py"
  },
  "language_info": {
   "codemirror_mode": {
    "name": "ipython",
    "version": 2
   },
   "file_extension": ".py",
   "mimetype": "text/x-python",
   "name": "python",
   "nbconvert_exporter": "python",
   "pygments_lexer": "ipython2",
   "version": "2.7.13"
  }
 },
 "nbformat": 4,
 "nbformat_minor": 2
}
