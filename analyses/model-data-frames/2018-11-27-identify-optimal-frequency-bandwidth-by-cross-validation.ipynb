{
 "cells": [
  {
   "cell_type": "markdown",
   "metadata": {},
   "source": [
    "# Identify optimal frequency bandwidth by cross-validation\n",
    "\n",
    "To determine the optimal frequency bandwidth for the fitness model, I ran estimated frequencies for a range of bandwidths, ran the fitness model with the LBI predictor for each frequency bandwidth, and calculated the mean sum of squared errors (MSE) across all non-overlapping clades in all test intervals. I identified the optimal frequency bandwidth as the value that minimizes the MSE."
   ]
  },
  {
   "cell_type": "code",
   "execution_count": 1,
   "metadata": {},
   "outputs": [],
   "source": [
    "import matplotlib.pyplot as plt\n",
    "import numpy as np\n",
    "import pandas as pd\n",
    "import seaborn as sns\n",
    "%matplotlib inline\n",
    "\n",
    "#plt.style.use(\"huddlej\")\n",
    "#plt.style.use(\"ggplot\")\n",
    "sns.set_style(\"ticks\")"
   ]
  },
  {
   "cell_type": "code",
   "execution_count": 2,
   "metadata": {},
   "outputs": [],
   "source": [
    "df = pd.read_table(\"model_validation_by_bandwidth.tab\", keep_default_na=False, na_values=\"N/A\")"
   ]
  },
  {
   "cell_type": "code",
   "execution_count": 3,
   "metadata": {},
   "outputs": [
    {
     "data": {
      "text/html": [
       "<div>\n",
       "<style scoped>\n",
       "    .dataframe tbody tr th:only-of-type {\n",
       "        vertical-align: middle;\n",
       "    }\n",
       "\n",
       "    .dataframe tbody tr th {\n",
       "        vertical-align: top;\n",
       "    }\n",
       "\n",
       "    .dataframe thead th {\n",
       "        text-align: right;\n",
       "    }\n",
       "</style>\n",
       "<table border=\"1\" class=\"dataframe\">\n",
       "  <thead>\n",
       "    <tr style=\"text-align: right;\">\n",
       "      <th></th>\n",
       "      <th>bandwidth</th>\n",
       "      <th>fn</th>\n",
       "      <th>fp</th>\n",
       "      <th>last_training_timepoint</th>\n",
       "      <th>n_samples</th>\n",
       "      <th>parameter-lbi</th>\n",
       "      <th>predictors</th>\n",
       "      <th>sae</th>\n",
       "      <th>sample</th>\n",
       "      <th>sse</th>\n",
       "      <th>test_timepoint</th>\n",
       "      <th>testing_accuracy</th>\n",
       "      <th>testing_correlation</th>\n",
       "      <th>tn</th>\n",
       "      <th>tp</th>\n",
       "      <th>training_accuracy</th>\n",
       "      <th>training_correlation</th>\n",
       "      <th>training_windows</th>\n",
       "      <th>viruses</th>\n",
       "      <th>year_range</th>\n",
       "    </tr>\n",
       "  </thead>\n",
       "  <tbody>\n",
       "    <tr>\n",
       "      <th>0</th>\n",
       "      <td>0.02</td>\n",
       "      <td>0</td>\n",
       "      <td>0</td>\n",
       "      <td>2011.25</td>\n",
       "      <td>4</td>\n",
       "      <td>0.241756</td>\n",
       "      <td>lbi</td>\n",
       "      <td>0.490706</td>\n",
       "      <td>0</td>\n",
       "      <td>0.105433</td>\n",
       "      <td>2012.25</td>\n",
       "      <td>1.000000</td>\n",
       "      <td>0.997924</td>\n",
       "      <td>3</td>\n",
       "      <td>1</td>\n",
       "      <td>0.123238</td>\n",
       "      <td>0.059931</td>\n",
       "      <td>9</td>\n",
       "      <td>92</td>\n",
       "      <td>2006-2018</td>\n",
       "    </tr>\n",
       "    <tr>\n",
       "      <th>1</th>\n",
       "      <td>0.02</td>\n",
       "      <td>0</td>\n",
       "      <td>4</td>\n",
       "      <td>2011.75</td>\n",
       "      <td>14</td>\n",
       "      <td>0.156016</td>\n",
       "      <td>lbi</td>\n",
       "      <td>1.524181</td>\n",
       "      <td>0</td>\n",
       "      <td>0.663591</td>\n",
       "      <td>2012.75</td>\n",
       "      <td>0.471405</td>\n",
       "      <td>0.455246</td>\n",
       "      <td>8</td>\n",
       "      <td>2</td>\n",
       "      <td>0.094996</td>\n",
       "      <td>0.055269</td>\n",
       "      <td>10</td>\n",
       "      <td>92</td>\n",
       "      <td>2006-2018</td>\n",
       "    </tr>\n",
       "    <tr>\n",
       "      <th>2</th>\n",
       "      <td>0.02</td>\n",
       "      <td>0</td>\n",
       "      <td>7</td>\n",
       "      <td>2012.25</td>\n",
       "      <td>13</td>\n",
       "      <td>0.246128</td>\n",
       "      <td>lbi</td>\n",
       "      <td>0.861300</td>\n",
       "      <td>0</td>\n",
       "      <td>0.102222</td>\n",
       "      <td>2013.25</td>\n",
       "      <td>0.228218</td>\n",
       "      <td>0.387008</td>\n",
       "      <td>5</td>\n",
       "      <td>1</td>\n",
       "      <td>0.137329</td>\n",
       "      <td>0.067898</td>\n",
       "      <td>11</td>\n",
       "      <td>92</td>\n",
       "      <td>2006-2018</td>\n",
       "    </tr>\n",
       "    <tr>\n",
       "      <th>3</th>\n",
       "      <td>0.02</td>\n",
       "      <td>0</td>\n",
       "      <td>5</td>\n",
       "      <td>2012.75</td>\n",
       "      <td>16</td>\n",
       "      <td>0.353074</td>\n",
       "      <td>lbi</td>\n",
       "      <td>0.917647</td>\n",
       "      <td>0</td>\n",
       "      <td>0.103913</td>\n",
       "      <td>2013.75</td>\n",
       "      <td>0.000000</td>\n",
       "      <td>0.374421</td>\n",
       "      <td>11</td>\n",
       "      <td>0</td>\n",
       "      <td>0.157845</td>\n",
       "      <td>0.119208</td>\n",
       "      <td>12</td>\n",
       "      <td>92</td>\n",
       "      <td>2006-2018</td>\n",
       "    </tr>\n",
       "    <tr>\n",
       "      <th>4</th>\n",
       "      <td>0.02</td>\n",
       "      <td>0</td>\n",
       "      <td>6</td>\n",
       "      <td>2013.25</td>\n",
       "      <td>18</td>\n",
       "      <td>0.361483</td>\n",
       "      <td>lbi</td>\n",
       "      <td>1.573332</td>\n",
       "      <td>0</td>\n",
       "      <td>0.765864</td>\n",
       "      <td>2014.25</td>\n",
       "      <td>0.304034</td>\n",
       "      <td>0.273287</td>\n",
       "      <td>11</td>\n",
       "      <td>1</td>\n",
       "      <td>0.158769</td>\n",
       "      <td>0.127371</td>\n",
       "      <td>13</td>\n",
       "      <td>92</td>\n",
       "      <td>2006-2018</td>\n",
       "    </tr>\n",
       "  </tbody>\n",
       "</table>\n",
       "</div>"
      ],
      "text/plain": [
       "   bandwidth  fn  fp  last_training_timepoint  n_samples  parameter-lbi  \\\n",
       "0       0.02   0   0                  2011.25          4       0.241756   \n",
       "1       0.02   0   4                  2011.75         14       0.156016   \n",
       "2       0.02   0   7                  2012.25         13       0.246128   \n",
       "3       0.02   0   5                  2012.75         16       0.353074   \n",
       "4       0.02   0   6                  2013.25         18       0.361483   \n",
       "\n",
       "  predictors       sae  sample       sse  test_timepoint  testing_accuracy  \\\n",
       "0        lbi  0.490706       0  0.105433         2012.25          1.000000   \n",
       "1        lbi  1.524181       0  0.663591         2012.75          0.471405   \n",
       "2        lbi  0.861300       0  0.102222         2013.25          0.228218   \n",
       "3        lbi  0.917647       0  0.103913         2013.75          0.000000   \n",
       "4        lbi  1.573332       0  0.765864         2014.25          0.304034   \n",
       "\n",
       "   testing_correlation  tn  tp  training_accuracy  training_correlation  \\\n",
       "0             0.997924   3   1           0.123238              0.059931   \n",
       "1             0.455246   8   2           0.094996              0.055269   \n",
       "2             0.387008   5   1           0.137329              0.067898   \n",
       "3             0.374421  11   0           0.157845              0.119208   \n",
       "4             0.273287  11   1           0.158769              0.127371   \n",
       "\n",
       "   training_windows  viruses year_range  \n",
       "0                 9       92  2006-2018  \n",
       "1                10       92  2006-2018  \n",
       "2                11       92  2006-2018  \n",
       "3                12       92  2006-2018  \n",
       "4                13       92  2006-2018  "
      ]
     },
     "execution_count": 3,
     "metadata": {},
     "output_type": "execute_result"
    }
   ],
   "source": [
    "df.head()"
   ]
  },
  {
   "cell_type": "code",
   "execution_count": 4,
   "metadata": {},
   "outputs": [
    {
     "data": {
      "text/plain": [
       "(77, 20)"
      ]
     },
     "execution_count": 4,
     "metadata": {},
     "output_type": "execute_result"
    }
   ],
   "source": [
    "df.shape"
   ]
  },
  {
   "cell_type": "code",
   "execution_count": 5,
   "metadata": {},
   "outputs": [
    {
     "data": {
      "text/plain": [
       "Index([u'bandwidth', u'fn', u'fp', u'last_training_timepoint', u'n_samples',\n",
       "       u'parameter-lbi', u'predictors', u'sae', u'sample', u'sse',\n",
       "       u'test_timepoint', u'testing_accuracy', u'testing_correlation', u'tn',\n",
       "       u'tp', u'training_accuracy', u'training_correlation',\n",
       "       u'training_windows', u'viruses', u'year_range'],\n",
       "      dtype='object')"
      ]
     },
     "execution_count": 5,
     "metadata": {},
     "output_type": "execute_result"
    }
   ],
   "source": [
    "df.columns"
   ]
  },
  {
   "cell_type": "code",
   "execution_count": 6,
   "metadata": {},
   "outputs": [
    {
     "data": {
      "text/html": [
       "<div>\n",
       "<style scoped>\n",
       "    .dataframe tbody tr th:only-of-type {\n",
       "        vertical-align: middle;\n",
       "    }\n",
       "\n",
       "    .dataframe tbody tr th {\n",
       "        vertical-align: top;\n",
       "    }\n",
       "\n",
       "    .dataframe thead tr th {\n",
       "        text-align: left;\n",
       "    }\n",
       "\n",
       "    .dataframe thead tr:last-of-type th {\n",
       "        text-align: right;\n",
       "    }\n",
       "</style>\n",
       "<table border=\"1\" class=\"dataframe\">\n",
       "  <thead>\n",
       "    <tr>\n",
       "      <th></th>\n",
       "      <th colspan=\"2\" halign=\"left\">testing_accuracy</th>\n",
       "      <th colspan=\"2\" halign=\"left\">sse</th>\n",
       "      <th colspan=\"2\" halign=\"left\">testing_correlation</th>\n",
       "    </tr>\n",
       "    <tr>\n",
       "      <th></th>\n",
       "      <th>mean</th>\n",
       "      <th>std</th>\n",
       "      <th>mean</th>\n",
       "      <th>std</th>\n",
       "      <th>mean</th>\n",
       "      <th>std</th>\n",
       "    </tr>\n",
       "    <tr>\n",
       "      <th>bandwidth</th>\n",
       "      <th></th>\n",
       "      <th></th>\n",
       "      <th></th>\n",
       "      <th></th>\n",
       "      <th></th>\n",
       "      <th></th>\n",
       "    </tr>\n",
       "  </thead>\n",
       "  <tbody>\n",
       "    <tr>\n",
       "      <th>0.50</th>\n",
       "      <td>0.482</td>\n",
       "      <td>0.465</td>\n",
       "      <td>0.163</td>\n",
       "      <td>0.166</td>\n",
       "      <td>0.560</td>\n",
       "      <td>0.399</td>\n",
       "    </tr>\n",
       "    <tr>\n",
       "      <th>0.33</th>\n",
       "      <td>0.449</td>\n",
       "      <td>0.389</td>\n",
       "      <td>0.217</td>\n",
       "      <td>0.232</td>\n",
       "      <td>0.506</td>\n",
       "      <td>0.345</td>\n",
       "    </tr>\n",
       "    <tr>\n",
       "      <th>0.25</th>\n",
       "      <td>0.371</td>\n",
       "      <td>0.363</td>\n",
       "      <td>0.242</td>\n",
       "      <td>0.249</td>\n",
       "      <td>0.294</td>\n",
       "      <td>0.529</td>\n",
       "    </tr>\n",
       "    <tr>\n",
       "      <th>0.16</th>\n",
       "      <td>0.399</td>\n",
       "      <td>0.472</td>\n",
       "      <td>0.297</td>\n",
       "      <td>0.225</td>\n",
       "      <td>0.368</td>\n",
       "      <td>0.436</td>\n",
       "    </tr>\n",
       "    <tr>\n",
       "      <th>0.02</th>\n",
       "      <td>0.249</td>\n",
       "      <td>0.316</td>\n",
       "      <td>0.316</td>\n",
       "      <td>0.286</td>\n",
       "      <td>0.304</td>\n",
       "      <td>0.353</td>\n",
       "    </tr>\n",
       "    <tr>\n",
       "      <th>0.08</th>\n",
       "      <td>0.369</td>\n",
       "      <td>0.456</td>\n",
       "      <td>0.337</td>\n",
       "      <td>0.220</td>\n",
       "      <td>0.394</td>\n",
       "      <td>0.436</td>\n",
       "    </tr>\n",
       "    <tr>\n",
       "      <th>0.04</th>\n",
       "      <td>0.301</td>\n",
       "      <td>0.333</td>\n",
       "      <td>0.403</td>\n",
       "      <td>0.205</td>\n",
       "      <td>0.369</td>\n",
       "      <td>0.302</td>\n",
       "    </tr>\n",
       "  </tbody>\n",
       "</table>\n",
       "</div>"
      ],
      "text/plain": [
       "          testing_accuracy           sse        testing_correlation       \n",
       "                      mean    std   mean    std                mean    std\n",
       "bandwidth                                                                 \n",
       "0.50                 0.482  0.465  0.163  0.166               0.560  0.399\n",
       "0.33                 0.449  0.389  0.217  0.232               0.506  0.345\n",
       "0.25                 0.371  0.363  0.242  0.249               0.294  0.529\n",
       "0.16                 0.399  0.472  0.297  0.225               0.368  0.436\n",
       "0.02                 0.249  0.316  0.316  0.286               0.304  0.353\n",
       "0.08                 0.369  0.456  0.337  0.220               0.394  0.436\n",
       "0.04                 0.301  0.333  0.403  0.205               0.369  0.302"
      ]
     },
     "execution_count": 6,
     "metadata": {},
     "output_type": "execute_result"
    }
   ],
   "source": [
    "agg_functions = [\"mean\", \"std\"]\n",
    "np.around(df.groupby(\"bandwidth\").aggregate({\n",
    "    \"testing_accuracy\": agg_functions,\n",
    "    \"sse\": agg_functions,\n",
    "    \"testing_correlation\": agg_functions\n",
    "}).sort_values([(\"sse\", \"mean\")]), 3)"
   ]
  },
  {
   "cell_type": "code",
   "execution_count": 7,
   "metadata": {},
   "outputs": [],
   "source": [
    "error_df = df.groupby(\"bandwidth\").aggregate({\"sse\": \"sum\", \"sae\": \"sum\", \"n_samples\": \"sum\"})"
   ]
  },
  {
   "cell_type": "code",
   "execution_count": 8,
   "metadata": {},
   "outputs": [
    {
     "data": {
      "text/plain": [
       "bandwidth\n",
       "0.33    0.017968\n",
       "0.50    0.019021\n",
       "0.16    0.019708\n",
       "0.25    0.021336\n",
       "0.02    0.021475\n",
       "0.08    0.022320\n",
       "0.04    0.023970\n",
       "dtype: float64"
      ]
     },
     "execution_count": 8,
     "metadata": {},
     "output_type": "execute_result"
    }
   ],
   "source": [
    "# Calculate mean squared error.\n",
    "mse = (error_df[\"sse\"] / error_df[\"n_samples\"]).sort_values()\n",
    "mse"
   ]
  },
  {
   "cell_type": "code",
   "execution_count": 9,
   "metadata": {},
   "outputs": [
    {
     "data": {
      "text/html": [
       "<div>\n",
       "<style scoped>\n",
       "    .dataframe tbody tr th:only-of-type {\n",
       "        vertical-align: middle;\n",
       "    }\n",
       "\n",
       "    .dataframe tbody tr th {\n",
       "        vertical-align: top;\n",
       "    }\n",
       "\n",
       "    .dataframe thead th {\n",
       "        text-align: right;\n",
       "    }\n",
       "</style>\n",
       "<table border=\"1\" class=\"dataframe\">\n",
       "  <thead>\n",
       "    <tr style=\"text-align: right;\">\n",
       "      <th></th>\n",
       "      <th>bandwidth</th>\n",
       "      <th>mse</th>\n",
       "    </tr>\n",
       "  </thead>\n",
       "  <tbody>\n",
       "    <tr>\n",
       "      <th>0</th>\n",
       "      <td>0.33</td>\n",
       "      <td>0.017968</td>\n",
       "    </tr>\n",
       "    <tr>\n",
       "      <th>1</th>\n",
       "      <td>0.50</td>\n",
       "      <td>0.019021</td>\n",
       "    </tr>\n",
       "    <tr>\n",
       "      <th>2</th>\n",
       "      <td>0.16</td>\n",
       "      <td>0.019708</td>\n",
       "    </tr>\n",
       "    <tr>\n",
       "      <th>3</th>\n",
       "      <td>0.25</td>\n",
       "      <td>0.021336</td>\n",
       "    </tr>\n",
       "    <tr>\n",
       "      <th>4</th>\n",
       "      <td>0.02</td>\n",
       "      <td>0.021475</td>\n",
       "    </tr>\n",
       "    <tr>\n",
       "      <th>5</th>\n",
       "      <td>0.08</td>\n",
       "      <td>0.022320</td>\n",
       "    </tr>\n",
       "    <tr>\n",
       "      <th>6</th>\n",
       "      <td>0.04</td>\n",
       "      <td>0.023970</td>\n",
       "    </tr>\n",
       "  </tbody>\n",
       "</table>\n",
       "</div>"
      ],
      "text/plain": [
       "   bandwidth       mse\n",
       "0       0.33  0.017968\n",
       "1       0.50  0.019021\n",
       "2       0.16  0.019708\n",
       "3       0.25  0.021336\n",
       "4       0.02  0.021475\n",
       "5       0.08  0.022320\n",
       "6       0.04  0.023970"
      ]
     },
     "execution_count": 9,
     "metadata": {},
     "output_type": "execute_result"
    }
   ],
   "source": [
    "mse_df = mse.reset_index().rename({0: \"mse\"}, axis=1)\n",
    "mse_df"
   ]
  },
  {
   "cell_type": "code",
   "execution_count": 10,
   "metadata": {},
   "outputs": [
    {
     "data": {
      "text/plain": [
       "<matplotlib.axes._subplots.AxesSubplot at 0x1a0feb4a50>"
      ]
     },
     "execution_count": 10,
     "metadata": {},
     "output_type": "execute_result"
    },
    {
     "data": {
      "image/png": "[encoded data removed]",
      "text/plain": [
       "<Figure size 432x288 with 1 Axes>"
      ]
     },
     "metadata": {
      "needs_background": "light"
     },
     "output_type": "display_data"
    }
   ],
   "source": [
    "sns.pointplot(\n",
    "    x=\"bandwidth\",\n",
    "    y=\"mse\",\n",
    "    data=mse_df,\n",
    "    join=False\n",
    ")"
   ]
  },
  {
   "cell_type": "code",
   "execution_count": 11,
   "metadata": {},
   "outputs": [
    {
     "data": {
      "text/plain": [
       "bandwidth\n",
       "0.33    0.058329\n",
       "0.50    0.061346\n",
       "0.16    0.064456\n",
       "0.25    0.067350\n",
       "0.08    0.069813\n",
       "0.04    0.072597\n",
       "0.02    0.073465\n",
       "dtype: float64"
      ]
     },
     "execution_count": 11,
     "metadata": {},
     "output_type": "execute_result"
    }
   ],
   "source": [
    "# Calculate mean absolute error\n",
    "mae = (error_df[\"sae\"] / error_df[\"n_samples\"]).sort_values()\n",
    "mae"
   ]
  },
  {
   "cell_type": "code",
   "execution_count": 12,
   "metadata": {},
   "outputs": [
    {
     "data": {
      "text/html": [
       "<div>\n",
       "<style scoped>\n",
       "    .dataframe tbody tr th:only-of-type {\n",
       "        vertical-align: middle;\n",
       "    }\n",
       "\n",
       "    .dataframe tbody tr th {\n",
       "        vertical-align: top;\n",
       "    }\n",
       "\n",
       "    .dataframe thead th {\n",
       "        text-align: right;\n",
       "    }\n",
       "</style>\n",
       "<table border=\"1\" class=\"dataframe\">\n",
       "  <thead>\n",
       "    <tr style=\"text-align: right;\">\n",
       "      <th></th>\n",
       "      <th>bandwidth</th>\n",
       "      <th>mae</th>\n",
       "    </tr>\n",
       "  </thead>\n",
       "  <tbody>\n",
       "    <tr>\n",
       "      <th>0</th>\n",
       "      <td>0.33</td>\n",
       "      <td>0.058329</td>\n",
       "    </tr>\n",
       "    <tr>\n",
       "      <th>1</th>\n",
       "      <td>0.50</td>\n",
       "      <td>0.061346</td>\n",
       "    </tr>\n",
       "    <tr>\n",
       "      <th>2</th>\n",
       "      <td>0.16</td>\n",
       "      <td>0.064456</td>\n",
       "    </tr>\n",
       "    <tr>\n",
       "      <th>3</th>\n",
       "      <td>0.25</td>\n",
       "      <td>0.067350</td>\n",
       "    </tr>\n",
       "    <tr>\n",
       "      <th>4</th>\n",
       "      <td>0.08</td>\n",
       "      <td>0.069813</td>\n",
       "    </tr>\n",
       "    <tr>\n",
       "      <th>5</th>\n",
       "      <td>0.04</td>\n",
       "      <td>0.072597</td>\n",
       "    </tr>\n",
       "    <tr>\n",
       "      <th>6</th>\n",
       "      <td>0.02</td>\n",
       "      <td>0.073465</td>\n",
       "    </tr>\n",
       "  </tbody>\n",
       "</table>\n",
       "</div>"
      ],
      "text/plain": [
       "   bandwidth       mae\n",
       "0       0.33  0.058329\n",
       "1       0.50  0.061346\n",
       "2       0.16  0.064456\n",
       "3       0.25  0.067350\n",
       "4       0.08  0.069813\n",
       "5       0.04  0.072597\n",
       "6       0.02  0.073465"
      ]
     },
     "execution_count": 12,
     "metadata": {},
     "output_type": "execute_result"
    }
   ],
   "source": [
    "mae_df = mae.reset_index().rename({0: \"mae\"}, axis=1)\n",
    "mae_df"
   ]
  },
  {
   "cell_type": "code",
   "execution_count": 13,
   "metadata": {},
   "outputs": [
    {
     "data": {
      "text/plain": [
       "<matplotlib.axes._subplots.AxesSubplot at 0x1a1caa9590>"
      ]
     },
     "execution_count": 13,
     "metadata": {},
     "output_type": "execute_result"
    },
    {
     "data": {
      "image/png": "[encoded data removed]",
      "text/plain": [
       "<Figure size 432x288 with 1 Axes>"
      ]
     },
     "metadata": {
      "needs_background": "light"
     },
     "output_type": "display_data"
    }
   ],
   "source": [
    "sns.pointplot(\n",
    "    x=\"bandwidth\",\n",
    "    y=\"mae\",\n",
    "    data=mae_df,\n",
    "    join=False\n",
    ")"
   ]
  },
  {
   "cell_type": "code",
   "execution_count": null,
   "metadata": {},
   "outputs": [],
   "source": []
  }
 ],
 "metadata": {
  "kernelspec": {
   "display_name": "Python [conda env:janus_python2]",
   "language": "python",
   "name": "conda-env-janus_python2-py"
  },
  "language_info": {
   "codemirror_mode": {
    "name": "ipython",
    "version": 2
   },
   "file_extension": ".py",
   "mimetype": "text/x-python",
   "name": "python",
   "nbconvert_exporter": "python",
   "pygments_lexer": "ipython2",
   "version": "2.7.15"
  }
 },
 "nbformat": 4,
 "nbformat_minor": 2
}
