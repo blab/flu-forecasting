{
 "cells": [
  {
   "cell_type": "markdown",
   "metadata": {},
   "source": [
    "# Parameter sweep for LBI predictor\n",
    "\n",
    "Load flu tip attributes and final clade frequencies and then calculate the error of an exponential growth model based on just the LBI predictor across a range of predictor coefficients. The goal is to determine the shape of the error function that is exposed to scipy's optimization machinery."
   ]
  },
  {
   "cell_type": "code",
   "execution_count": 1,
   "metadata": {},
   "outputs": [],
   "source": [
    "import matplotlib.pyplot as plt\n",
    "import numpy as np\n",
    "import pandas as pd\n",
    "import sys\n",
    "\n",
    "%matplotlib inline\n",
    "\n",
    "plt.style.use(\"huddlej\")"
   ]
  },
  {
   "cell_type": "code",
   "execution_count": 2,
   "metadata": {},
   "outputs": [
    {
     "data": {
      "text/plain": [
       "'/Users/jlhudd/projects/nextstrain/flu-forecasting/analyses'"
      ]
     },
     "execution_count": 2,
     "metadata": {},
     "output_type": "execute_result"
    }
   ],
   "source": [
    "pwd"
   ]
  },
  {
   "cell_type": "code",
   "execution_count": 3,
   "metadata": {},
   "outputs": [],
   "source": [
    "sys.path.insert(0, \"../src\")"
   ]
  },
  {
   "cell_type": "code",
   "execution_count": 4,
   "metadata": {},
   "outputs": [],
   "source": [
    "from fit_model import ExponentialGrowthModel\n",
    "from forecast.metrics import mean_absolute_error, sum_of_squared_errors, negative_information_gain, add_pseudocounts_to_frequencies"
   ]
  },
  {
   "cell_type": "markdown",
   "metadata": {},
   "source": [
    "## Load data"
   ]
  },
  {
   "cell_type": "markdown",
   "metadata": {},
   "source": [
    "Define the range of possible coefficient values to explore."
   ]
  },
  {
   "cell_type": "code",
   "execution_count": 5,
   "metadata": {},
   "outputs": [],
   "source": [
    "coefficients = np.linspace(-3, 3, 21)"
   ]
  },
  {
   "cell_type": "code",
   "execution_count": 6,
   "metadata": {},
   "outputs": [],
   "source": [
    "delta_time = 1.0\n",
    "l1_lambda = 0.0"
   ]
  },
  {
   "cell_type": "code",
   "execution_count": 7,
   "metadata": {},
   "outputs": [],
   "source": [
    "last_timepoint = pd.to_datetime(\"2016-10-01\")"
   ]
  },
  {
   "cell_type": "code",
   "execution_count": 9,
   "metadata": {},
   "outputs": [],
   "source": [
    "# Load tip attributes.\n",
    "X = pd.read_csv(\n",
    "    \"../results/builds/h3n2/90_viruses_per_month/sample_0/2000-10-01--2015-10-01/tip_attributes_with_naive_predictor.tsv\",\n",
    "    sep=\"\\t\",\n",
    "    parse_dates=[\"timepoint\"]\n",
    ")"
   ]
  },
  {
   "cell_type": "code",
   "execution_count": 10,
   "metadata": {},
   "outputs": [],
   "source": [
    "X = X.loc[:, [\"strain\", \"clade_membership\", \"timepoint\", \"cTiterSub_x\", \"lbi\", \"ep\", \"ep_x\", \"ne\", \"delta_frequency\", \"frequency\"]].copy()"
   ]
  },
  {
   "cell_type": "code",
   "execution_count": 11,
   "metadata": {},
   "outputs": [],
   "source": [
    "X = X[X[\"timepoint\"] <= last_timepoint]"
   ]
  },
  {
   "cell_type": "code",
   "execution_count": 12,
   "metadata": {},
   "outputs": [
    {
     "data": {
      "text/html": [
       "<div>\n",
       "<style scoped>\n",
       "    .dataframe tbody tr th:only-of-type {\n",
       "        vertical-align: middle;\n",
       "    }\n",
       "\n",
       "    .dataframe tbody tr th {\n",
       "        vertical-align: top;\n",
       "    }\n",
       "\n",
       "    .dataframe thead th {\n",
       "        text-align: right;\n",
       "    }\n",
       "</style>\n",
       "<table border=\"1\" class=\"dataframe\">\n",
       "  <thead>\n",
       "    <tr style=\"text-align: right;\">\n",
       "      <th></th>\n",
       "      <th>strain</th>\n",
       "      <th>clade_membership</th>\n",
       "      <th>timepoint</th>\n",
       "      <th>cTiterSub_x</th>\n",
       "      <th>lbi</th>\n",
       "      <th>ep</th>\n",
       "      <th>ep_x</th>\n",
       "      <th>ne</th>\n",
       "      <th>delta_frequency</th>\n",
       "      <th>frequency</th>\n",
       "    </tr>\n",
       "  </thead>\n",
       "  <tbody>\n",
       "    <tr>\n",
       "      <th>0</th>\n",
       "      <td>A/BacGiang/BG003/2004</td>\n",
       "      <td>4ff1302</td>\n",
       "      <td>2004-10-01</td>\n",
       "      <td>NaN</td>\n",
       "      <td>0.031581</td>\n",
       "      <td>10</td>\n",
       "      <td>NaN</td>\n",
       "      <td>6</td>\n",
       "      <td>-0.057594</td>\n",
       "      <td>0.000508</td>\n",
       "    </tr>\n",
       "    <tr>\n",
       "      <th>1</th>\n",
       "      <td>A/BayofPlenty/383/2004</td>\n",
       "      <td>aaeb03c</td>\n",
       "      <td>2004-10-01</td>\n",
       "      <td>-5.521318</td>\n",
       "      <td>0.699128</td>\n",
       "      <td>12</td>\n",
       "      <td>-2.718854</td>\n",
       "      <td>7</td>\n",
       "      <td>0.296674</td>\n",
       "      <td>0.006026</td>\n",
       "    </tr>\n",
       "    <tr>\n",
       "      <th>2</th>\n",
       "      <td>A/California/7/2004</td>\n",
       "      <td>aaeb03c</td>\n",
       "      <td>2004-10-01</td>\n",
       "      <td>-5.521318</td>\n",
       "      <td>0.685431</td>\n",
       "      <td>14</td>\n",
       "      <td>-2.363422</td>\n",
       "      <td>7</td>\n",
       "      <td>0.296674</td>\n",
       "      <td>0.005733</td>\n",
       "    </tr>\n",
       "    <tr>\n",
       "      <th>3</th>\n",
       "      <td>A/California/NHRC0002/2003</td>\n",
       "      <td>4ff1302</td>\n",
       "      <td>2004-10-01</td>\n",
       "      <td>NaN</td>\n",
       "      <td>0.276634</td>\n",
       "      <td>10</td>\n",
       "      <td>NaN</td>\n",
       "      <td>6</td>\n",
       "      <td>-0.057594</td>\n",
       "      <td>0.000002</td>\n",
       "    </tr>\n",
       "    <tr>\n",
       "      <th>4</th>\n",
       "      <td>A/California/NHRC0003/2003</td>\n",
       "      <td>4ff1302</td>\n",
       "      <td>2004-10-01</td>\n",
       "      <td>NaN</td>\n",
       "      <td>0.275124</td>\n",
       "      <td>9</td>\n",
       "      <td>NaN</td>\n",
       "      <td>6</td>\n",
       "      <td>-0.057594</td>\n",
       "      <td>0.000002</td>\n",
       "    </tr>\n",
       "  </tbody>\n",
       "</table>\n",
       "</div>"
      ],
      "text/plain": [
       "                       strain clade_membership  timepoint  cTiterSub_x  \\\n",
       "0       A/BacGiang/BG003/2004          4ff1302 2004-10-01          NaN   \n",
       "1      A/BayofPlenty/383/2004          aaeb03c 2004-10-01    -5.521318   \n",
       "2         A/California/7/2004          aaeb03c 2004-10-01    -5.521318   \n",
       "3  A/California/NHRC0002/2003          4ff1302 2004-10-01          NaN   \n",
       "4  A/California/NHRC0003/2003          4ff1302 2004-10-01          NaN   \n",
       "\n",
       "        lbi  ep      ep_x  ne  delta_frequency  frequency  \n",
       "0  0.031581  10       NaN   6        -0.057594   0.000508  \n",
       "1  0.699128  12 -2.718854   7         0.296674   0.006026  \n",
       "2  0.685431  14 -2.363422   7         0.296674   0.005733  \n",
       "3  0.276634  10       NaN   6        -0.057594   0.000002  \n",
       "4  0.275124   9       NaN   6        -0.057594   0.000002  "
      ]
     },
     "execution_count": 12,
     "metadata": {},
     "output_type": "execute_result"
    }
   ],
   "source": [
    "X.head()"
   ]
  },
  {
   "cell_type": "code",
   "execution_count": 12,
   "metadata": {},
   "outputs": [
    {
     "data": {
      "text/plain": [
       "(13305, 10)"
      ]
     },
     "execution_count": 12,
     "metadata": {},
     "output_type": "execute_result"
    }
   ],
   "source": [
    "X.shape"
   ]
  },
  {
   "cell_type": "code",
   "execution_count": 13,
   "metadata": {},
   "outputs": [],
   "source": [
    "# Load final clade tip frequencies.\n",
    "final_clade_frequencies = pd.read_csv(\n",
    "    \"../results/builds/h3n2/90_viruses_per_month/sample_0/2000-10-01--2015-10-01/final_clade_frequencies.tsv\",\n",
    "    sep=\"\\t\",\n",
    "    parse_dates=[\"initial_timepoint\", \"final_timepoint\"]\n",
    ")"
   ]
  },
  {
   "cell_type": "code",
   "execution_count": 14,
   "metadata": {},
   "outputs": [
    {
     "data": {
      "text/plain": [
       "(13022, 5)"
      ]
     },
     "execution_count": 14,
     "metadata": {},
     "output_type": "execute_result"
    }
   ],
   "source": [
    "final_clade_frequencies.shape"
   ]
  },
  {
   "cell_type": "code",
   "execution_count": 15,
   "metadata": {},
   "outputs": [
    {
     "data": {
      "text/html": [
       "<div>\n",
       "<style scoped>\n",
       "    .dataframe tbody tr th:only-of-type {\n",
       "        vertical-align: middle;\n",
       "    }\n",
       "\n",
       "    .dataframe tbody tr th {\n",
       "        vertical-align: top;\n",
       "    }\n",
       "\n",
       "    .dataframe thead th {\n",
       "        text-align: right;\n",
       "    }\n",
       "</style>\n",
       "<table border=\"1\" class=\"dataframe\">\n",
       "  <thead>\n",
       "    <tr style=\"text-align: right;\">\n",
       "      <th></th>\n",
       "      <th>initial_timepoint</th>\n",
       "      <th>clade_membership</th>\n",
       "      <th>final_timepoint</th>\n",
       "      <th>strain</th>\n",
       "      <th>frequency</th>\n",
       "    </tr>\n",
       "  </thead>\n",
       "  <tbody>\n",
       "    <tr>\n",
       "      <th>0</th>\n",
       "      <td>2004-10-01</td>\n",
       "      <td>4ff1302</td>\n",
       "      <td>2005-10-01</td>\n",
       "      <td>A/California/NHRC0009/2005</td>\n",
       "      <td>0.000270</td>\n",
       "    </tr>\n",
       "    <tr>\n",
       "      <th>1</th>\n",
       "      <td>2004-10-01</td>\n",
       "      <td>4ff1302</td>\n",
       "      <td>2005-10-01</td>\n",
       "      <td>A/California/NHRC0010/2005</td>\n",
       "      <td>0.000290</td>\n",
       "    </tr>\n",
       "    <tr>\n",
       "      <th>2</th>\n",
       "      <td>2004-10-01</td>\n",
       "      <td>4ff1302</td>\n",
       "      <td>2005-10-01</td>\n",
       "      <td>A/Hanoi/ISBM16/2005</td>\n",
       "      <td>0.002659</td>\n",
       "    </tr>\n",
       "    <tr>\n",
       "      <th>3</th>\n",
       "      <td>2004-10-01</td>\n",
       "      <td>4ff1302</td>\n",
       "      <td>2005-10-01</td>\n",
       "      <td>A/HongKong/CUHK6422/2005</td>\n",
       "      <td>0.000161</td>\n",
       "    </tr>\n",
       "    <tr>\n",
       "      <th>4</th>\n",
       "      <td>2004-10-01</td>\n",
       "      <td>4ff1302</td>\n",
       "      <td>2005-10-01</td>\n",
       "      <td>A/HongKong/CUHK6898/2005</td>\n",
       "      <td>0.000380</td>\n",
       "    </tr>\n",
       "  </tbody>\n",
       "</table>\n",
       "</div>"
      ],
      "text/plain": [
       "  initial_timepoint clade_membership final_timepoint  \\\n",
       "0        2004-10-01          4ff1302      2005-10-01   \n",
       "1        2004-10-01          4ff1302      2005-10-01   \n",
       "2        2004-10-01          4ff1302      2005-10-01   \n",
       "3        2004-10-01          4ff1302      2005-10-01   \n",
       "4        2004-10-01          4ff1302      2005-10-01   \n",
       "\n",
       "                       strain  frequency  \n",
       "0  A/California/NHRC0009/2005   0.000270  \n",
       "1  A/California/NHRC0010/2005   0.000290  \n",
       "2         A/Hanoi/ISBM16/2005   0.002659  \n",
       "3    A/HongKong/CUHK6422/2005   0.000161  \n",
       "4    A/HongKong/CUHK6898/2005   0.000380  "
      ]
     },
     "execution_count": 15,
     "metadata": {},
     "output_type": "execute_result"
    }
   ],
   "source": [
    "final_clade_frequencies.head()"
   ]
  },
  {
   "cell_type": "code",
   "execution_count": 16,
   "metadata": {},
   "outputs": [],
   "source": [
    "first_final_timepoint = final_clade_frequencies[\"final_timepoint\"].min()"
   ]
  },
  {
   "cell_type": "code",
   "execution_count": 17,
   "metadata": {},
   "outputs": [
    {
     "data": {
      "text/plain": [
       "Timestamp('2005-10-01 00:00:00')"
      ]
     },
     "execution_count": 17,
     "metadata": {},
     "output_type": "execute_result"
    }
   ],
   "source": [
    "first_final_timepoint"
   ]
  },
  {
   "cell_type": "markdown",
   "metadata": {},
   "source": [
    "Find all tips for the first final timepoint and afterwards. We want to exclude tips that preceded that first final timepoint because they are never considered in projections."
   ]
  },
  {
   "cell_type": "code",
   "execution_count": 18,
   "metadata": {},
   "outputs": [],
   "source": [
    "all_tips = X.loc[X[\"timepoint\"] >= first_final_timepoint, [\"strain\", \"clade_membership\", \"timepoint\", \"frequency\"]].copy()"
   ]
  },
  {
   "cell_type": "code",
   "execution_count": 19,
   "metadata": {},
   "outputs": [
    {
     "data": {
      "text/html": [
       "<div>\n",
       "<style scoped>\n",
       "    .dataframe tbody tr th:only-of-type {\n",
       "        vertical-align: middle;\n",
       "    }\n",
       "\n",
       "    .dataframe tbody tr th {\n",
       "        vertical-align: top;\n",
       "    }\n",
       "\n",
       "    .dataframe thead th {\n",
       "        text-align: right;\n",
       "    }\n",
       "</style>\n",
       "<table border=\"1\" class=\"dataframe\">\n",
       "  <thead>\n",
       "    <tr style=\"text-align: right;\">\n",
       "      <th></th>\n",
       "      <th>strain</th>\n",
       "      <th>clade_membership</th>\n",
       "      <th>timepoint</th>\n",
       "      <th>frequency</th>\n",
       "    </tr>\n",
       "  </thead>\n",
       "  <tbody>\n",
       "    <tr>\n",
       "      <th>599</th>\n",
       "      <td>A/Auckland/616/2005</td>\n",
       "      <td>6a436ac</td>\n",
       "      <td>2005-10-01</td>\n",
       "      <td>0.003560</td>\n",
       "    </tr>\n",
       "    <tr>\n",
       "      <th>600</th>\n",
       "      <td>A/Auckland/617/2005</td>\n",
       "      <td>6a436ac</td>\n",
       "      <td>2005-10-01</td>\n",
       "      <td>0.003649</td>\n",
       "    </tr>\n",
       "    <tr>\n",
       "      <th>601</th>\n",
       "      <td>A/Auckland/621/2005</td>\n",
       "      <td>7aa732d</td>\n",
       "      <td>2005-10-01</td>\n",
       "      <td>0.000149</td>\n",
       "    </tr>\n",
       "    <tr>\n",
       "      <th>602</th>\n",
       "      <td>A/Australia/NHRC0001/2005</td>\n",
       "      <td>6a436ac</td>\n",
       "      <td>2005-10-01</td>\n",
       "      <td>0.004401</td>\n",
       "    </tr>\n",
       "    <tr>\n",
       "      <th>603</th>\n",
       "      <td>A/Australia/NHRC0002/2005</td>\n",
       "      <td>6a436ac</td>\n",
       "      <td>2005-10-01</td>\n",
       "      <td>0.004564</td>\n",
       "    </tr>\n",
       "  </tbody>\n",
       "</table>\n",
       "</div>"
      ],
      "text/plain": [
       "                        strain clade_membership  timepoint  frequency\n",
       "599        A/Auckland/616/2005          6a436ac 2005-10-01   0.003560\n",
       "600        A/Auckland/617/2005          6a436ac 2005-10-01   0.003649\n",
       "601        A/Auckland/621/2005          7aa732d 2005-10-01   0.000149\n",
       "602  A/Australia/NHRC0001/2005          6a436ac 2005-10-01   0.004401\n",
       "603  A/Australia/NHRC0002/2005          6a436ac 2005-10-01   0.004564"
      ]
     },
     "execution_count": 19,
     "metadata": {},
     "output_type": "execute_result"
    }
   ],
   "source": [
    "all_tips.head()"
   ]
  },
  {
   "cell_type": "code",
   "execution_count": 20,
   "metadata": {},
   "outputs": [
    {
     "data": {
      "text/plain": [
       "(12706, 4)"
      ]
     },
     "execution_count": 20,
     "metadata": {},
     "output_type": "execute_result"
    }
   ],
   "source": [
    "all_tips.shape"
   ]
  },
  {
   "cell_type": "code",
   "execution_count": 21,
   "metadata": {},
   "outputs": [],
   "source": [
    "all_and_final_tips = all_tips.merge(\n",
    "    final_clade_frequencies,\n",
    "    how=\"left\",\n",
    "    left_on=[\"timepoint\", \"strain\"],\n",
    "    right_on=[\"final_timepoint\", \"strain\"],\n",
    "    suffixes=[\"_original\", \"\"]\n",
    ")"
   ]
  },
  {
   "cell_type": "code",
   "execution_count": 22,
   "metadata": {},
   "outputs": [
    {
     "data": {
      "text/plain": [
       "(12706, 8)"
      ]
     },
     "execution_count": 22,
     "metadata": {},
     "output_type": "execute_result"
    }
   ],
   "source": [
    "all_and_final_tips.shape"
   ]
  },
  {
   "cell_type": "code",
   "execution_count": 23,
   "metadata": {},
   "outputs": [
    {
     "data": {
      "text/html": [
       "<div>\n",
       "<style scoped>\n",
       "    .dataframe tbody tr th:only-of-type {\n",
       "        vertical-align: middle;\n",
       "    }\n",
       "\n",
       "    .dataframe tbody tr th {\n",
       "        vertical-align: top;\n",
       "    }\n",
       "\n",
       "    .dataframe thead th {\n",
       "        text-align: right;\n",
       "    }\n",
       "</style>\n",
       "<table border=\"1\" class=\"dataframe\">\n",
       "  <thead>\n",
       "    <tr style=\"text-align: right;\">\n",
       "      <th></th>\n",
       "      <th>strain</th>\n",
       "      <th>clade_membership_original</th>\n",
       "      <th>timepoint</th>\n",
       "      <th>frequency_original</th>\n",
       "      <th>initial_timepoint</th>\n",
       "      <th>clade_membership</th>\n",
       "      <th>final_timepoint</th>\n",
       "      <th>frequency</th>\n",
       "    </tr>\n",
       "  </thead>\n",
       "  <tbody>\n",
       "    <tr>\n",
       "      <th>0</th>\n",
       "      <td>A/Auckland/616/2005</td>\n",
       "      <td>6a436ac</td>\n",
       "      <td>2005-10-01</td>\n",
       "      <td>0.003560</td>\n",
       "      <td>2004-10-01</td>\n",
       "      <td>7aa732d</td>\n",
       "      <td>2005-10-01</td>\n",
       "      <td>0.003560</td>\n",
       "    </tr>\n",
       "    <tr>\n",
       "      <th>1</th>\n",
       "      <td>A/Auckland/617/2005</td>\n",
       "      <td>6a436ac</td>\n",
       "      <td>2005-10-01</td>\n",
       "      <td>0.003649</td>\n",
       "      <td>2004-10-01</td>\n",
       "      <td>7aa732d</td>\n",
       "      <td>2005-10-01</td>\n",
       "      <td>0.003649</td>\n",
       "    </tr>\n",
       "    <tr>\n",
       "      <th>2</th>\n",
       "      <td>A/Auckland/621/2005</td>\n",
       "      <td>7aa732d</td>\n",
       "      <td>2005-10-01</td>\n",
       "      <td>0.000149</td>\n",
       "      <td>2004-10-01</td>\n",
       "      <td>7aa732d</td>\n",
       "      <td>2005-10-01</td>\n",
       "      <td>0.000149</td>\n",
       "    </tr>\n",
       "    <tr>\n",
       "      <th>3</th>\n",
       "      <td>A/Australia/NHRC0001/2005</td>\n",
       "      <td>6a436ac</td>\n",
       "      <td>2005-10-01</td>\n",
       "      <td>0.004401</td>\n",
       "      <td>2004-10-01</td>\n",
       "      <td>7aa732d</td>\n",
       "      <td>2005-10-01</td>\n",
       "      <td>0.004401</td>\n",
       "    </tr>\n",
       "    <tr>\n",
       "      <th>4</th>\n",
       "      <td>A/Australia/NHRC0002/2005</td>\n",
       "      <td>6a436ac</td>\n",
       "      <td>2005-10-01</td>\n",
       "      <td>0.004564</td>\n",
       "      <td>2004-10-01</td>\n",
       "      <td>7aa732d</td>\n",
       "      <td>2005-10-01</td>\n",
       "      <td>0.004564</td>\n",
       "    </tr>\n",
       "  </tbody>\n",
       "</table>\n",
       "</div>"
      ],
      "text/plain": [
       "                      strain clade_membership_original  timepoint  \\\n",
       "0        A/Auckland/616/2005                   6a436ac 2005-10-01   \n",
       "1        A/Auckland/617/2005                   6a436ac 2005-10-01   \n",
       "2        A/Auckland/621/2005                   7aa732d 2005-10-01   \n",
       "3  A/Australia/NHRC0001/2005                   6a436ac 2005-10-01   \n",
       "4  A/Australia/NHRC0002/2005                   6a436ac 2005-10-01   \n",
       "\n",
       "   frequency_original initial_timepoint clade_membership final_timepoint  \\\n",
       "0            0.003560        2004-10-01          7aa732d      2005-10-01   \n",
       "1            0.003649        2004-10-01          7aa732d      2005-10-01   \n",
       "2            0.000149        2004-10-01          7aa732d      2005-10-01   \n",
       "3            0.004401        2004-10-01          7aa732d      2005-10-01   \n",
       "4            0.004564        2004-10-01          7aa732d      2005-10-01   \n",
       "\n",
       "   frequency  \n",
       "0   0.003560  \n",
       "1   0.003649  \n",
       "2   0.000149  \n",
       "3   0.004401  \n",
       "4   0.004564  "
      ]
     },
     "execution_count": 23,
     "metadata": {},
     "output_type": "execute_result"
    }
   ],
   "source": [
    "all_and_final_tips.head()"
   ]
  },
  {
   "cell_type": "code",
   "execution_count": 24,
   "metadata": {},
   "outputs": [
    {
     "data": {
      "text/plain": [
       "4"
      ]
     },
     "execution_count": 24,
     "metadata": {},
     "output_type": "execute_result"
    }
   ],
   "source": [
    "pd.isnull(all_and_final_tips[\"frequency\"]).sum()"
   ]
  },
  {
   "cell_type": "code",
   "execution_count": 25,
   "metadata": {},
   "outputs": [
    {
     "data": {
      "text/plain": [
       "(4,)"
      ]
     },
     "execution_count": 25,
     "metadata": {},
     "output_type": "execute_result"
    }
   ],
   "source": [
    "all_and_final_tips[pd.isnull(all_and_final_tips[\"frequency\"])][\"strain\"].unique().shape"
   ]
  },
  {
   "cell_type": "code",
   "execution_count": 26,
   "metadata": {},
   "outputs": [
    {
     "name": "stdout",
     "output_type": "stream",
     "text": [
      "A/Astrakhan/RII06/2012\n",
      "A/Omsk/RII02/2012\n",
      "A/Omsk/RII06/2012\n",
      "A/Singapore/KK581/2011\n"
     ]
    }
   ],
   "source": [
    "for tip in all_and_final_tips.loc[pd.isnull(all_and_final_tips[\"frequency\"]), [\"strain\"]].drop_duplicates().values:\n",
    "    print(tip[0])"
   ]
  },
  {
   "cell_type": "code",
   "execution_count": 27,
   "metadata": {},
   "outputs": [
    {
     "data": {
      "text/plain": [
       "array(['2004-10-01T00:00:00.000000000', '2005-04-01T00:00:00.000000000',\n",
       "       '2005-10-01T00:00:00.000000000', '2006-04-01T00:00:00.000000000',\n",
       "       '2006-10-01T00:00:00.000000000', '2007-04-01T00:00:00.000000000',\n",
       "       '2007-10-01T00:00:00.000000000', '2008-04-01T00:00:00.000000000',\n",
       "       '2008-10-01T00:00:00.000000000', '2009-04-01T00:00:00.000000000',\n",
       "       '2009-10-01T00:00:00.000000000', '2010-04-01T00:00:00.000000000',\n",
       "       '2010-10-01T00:00:00.000000000', '2011-04-01T00:00:00.000000000',\n",
       "       '2011-10-01T00:00:00.000000000', '2012-04-01T00:00:00.000000000',\n",
       "       '2012-10-01T00:00:00.000000000', '2013-04-01T00:00:00.000000000',\n",
       "       '2013-10-01T00:00:00.000000000', '2014-04-01T00:00:00.000000000',\n",
       "       '2014-10-01T00:00:00.000000000', '2015-04-01T00:00:00.000000000',\n",
       "       '2015-10-01T00:00:00.000000000'], dtype='datetime64[ns]')"
      ]
     },
     "execution_count": 27,
     "metadata": {},
     "output_type": "execute_result"
    }
   ],
   "source": [
    "X.timepoint.unique()"
   ]
  },
  {
   "cell_type": "code",
   "execution_count": 28,
   "metadata": {},
   "outputs": [
    {
     "data": {
      "text/plain": [
       "(13305, 10)"
      ]
     },
     "execution_count": 28,
     "metadata": {},
     "output_type": "execute_result"
    }
   ],
   "source": [
    "X.shape"
   ]
  },
  {
   "cell_type": "code",
   "execution_count": 29,
   "metadata": {},
   "outputs": [
    {
     "data": {
      "text/html": [
       "<div>\n",
       "<style scoped>\n",
       "    .dataframe tbody tr th:only-of-type {\n",
       "        vertical-align: middle;\n",
       "    }\n",
       "\n",
       "    .dataframe tbody tr th {\n",
       "        vertical-align: top;\n",
       "    }\n",
       "\n",
       "    .dataframe thead th {\n",
       "        text-align: right;\n",
       "    }\n",
       "</style>\n",
       "<table border=\"1\" class=\"dataframe\">\n",
       "  <thead>\n",
       "    <tr style=\"text-align: right;\">\n",
       "      <th></th>\n",
       "      <th>initial_timepoint</th>\n",
       "      <th>clade_membership</th>\n",
       "      <th>final_timepoint</th>\n",
       "      <th>strain</th>\n",
       "      <th>frequency</th>\n",
       "    </tr>\n",
       "  </thead>\n",
       "  <tbody>\n",
       "    <tr>\n",
       "      <th>0</th>\n",
       "      <td>2004-10-01</td>\n",
       "      <td>4ff1302</td>\n",
       "      <td>2005-10-01</td>\n",
       "      <td>A/California/NHRC0009/2005</td>\n",
       "      <td>0.000270</td>\n",
       "    </tr>\n",
       "    <tr>\n",
       "      <th>1</th>\n",
       "      <td>2004-10-01</td>\n",
       "      <td>4ff1302</td>\n",
       "      <td>2005-10-01</td>\n",
       "      <td>A/California/NHRC0010/2005</td>\n",
       "      <td>0.000290</td>\n",
       "    </tr>\n",
       "    <tr>\n",
       "      <th>2</th>\n",
       "      <td>2004-10-01</td>\n",
       "      <td>4ff1302</td>\n",
       "      <td>2005-10-01</td>\n",
       "      <td>A/Hanoi/ISBM16/2005</td>\n",
       "      <td>0.002659</td>\n",
       "    </tr>\n",
       "    <tr>\n",
       "      <th>3</th>\n",
       "      <td>2004-10-01</td>\n",
       "      <td>4ff1302</td>\n",
       "      <td>2005-10-01</td>\n",
       "      <td>A/HongKong/CUHK6422/2005</td>\n",
       "      <td>0.000161</td>\n",
       "    </tr>\n",
       "    <tr>\n",
       "      <th>4</th>\n",
       "      <td>2004-10-01</td>\n",
       "      <td>4ff1302</td>\n",
       "      <td>2005-10-01</td>\n",
       "      <td>A/HongKong/CUHK6898/2005</td>\n",
       "      <td>0.000380</td>\n",
       "    </tr>\n",
       "  </tbody>\n",
       "</table>\n",
       "</div>"
      ],
      "text/plain": [
       "  initial_timepoint clade_membership final_timepoint  \\\n",
       "0        2004-10-01          4ff1302      2005-10-01   \n",
       "1        2004-10-01          4ff1302      2005-10-01   \n",
       "2        2004-10-01          4ff1302      2005-10-01   \n",
       "3        2004-10-01          4ff1302      2005-10-01   \n",
       "4        2004-10-01          4ff1302      2005-10-01   \n",
       "\n",
       "                       strain  frequency  \n",
       "0  A/California/NHRC0009/2005   0.000270  \n",
       "1  A/California/NHRC0010/2005   0.000290  \n",
       "2         A/Hanoi/ISBM16/2005   0.002659  \n",
       "3    A/HongKong/CUHK6422/2005   0.000161  \n",
       "4    A/HongKong/CUHK6898/2005   0.000380  "
      ]
     },
     "execution_count": 29,
     "metadata": {},
     "output_type": "execute_result"
    }
   ],
   "source": [
    "final_clade_frequencies.head()"
   ]
  },
  {
   "cell_type": "code",
   "execution_count": 30,
   "metadata": {},
   "outputs": [
    {
     "data": {
      "text/html": [
       "<div>\n",
       "<style scoped>\n",
       "    .dataframe tbody tr th:only-of-type {\n",
       "        vertical-align: middle;\n",
       "    }\n",
       "\n",
       "    .dataframe tbody tr th {\n",
       "        vertical-align: top;\n",
       "    }\n",
       "\n",
       "    .dataframe thead th {\n",
       "        text-align: right;\n",
       "    }\n",
       "</style>\n",
       "<table border=\"1\" class=\"dataframe\">\n",
       "  <thead>\n",
       "    <tr style=\"text-align: right;\">\n",
       "      <th></th>\n",
       "      <th>initial_timepoint</th>\n",
       "      <th>clade_membership</th>\n",
       "      <th>final_timepoint</th>\n",
       "      <th>strain</th>\n",
       "      <th>frequency</th>\n",
       "    </tr>\n",
       "  </thead>\n",
       "  <tbody>\n",
       "    <tr>\n",
       "      <th>13017</th>\n",
       "      <td>2015-10-01</td>\n",
       "      <td>aafb4e9</td>\n",
       "      <td>2016-10-01</td>\n",
       "      <td>NaN</td>\n",
       "      <td>0.0</td>\n",
       "    </tr>\n",
       "    <tr>\n",
       "      <th>13018</th>\n",
       "      <td>2015-10-01</td>\n",
       "      <td>414723b</td>\n",
       "      <td>2016-10-01</td>\n",
       "      <td>NaN</td>\n",
       "      <td>0.0</td>\n",
       "    </tr>\n",
       "    <tr>\n",
       "      <th>13019</th>\n",
       "      <td>2015-10-01</td>\n",
       "      <td>1a16e36</td>\n",
       "      <td>2016-10-01</td>\n",
       "      <td>NaN</td>\n",
       "      <td>0.0</td>\n",
       "    </tr>\n",
       "    <tr>\n",
       "      <th>13020</th>\n",
       "      <td>2015-10-01</td>\n",
       "      <td>c65d2b1</td>\n",
       "      <td>2016-10-01</td>\n",
       "      <td>NaN</td>\n",
       "      <td>0.0</td>\n",
       "    </tr>\n",
       "    <tr>\n",
       "      <th>13021</th>\n",
       "      <td>2015-10-01</td>\n",
       "      <td>c25ef77</td>\n",
       "      <td>2016-10-01</td>\n",
       "      <td>NaN</td>\n",
       "      <td>0.0</td>\n",
       "    </tr>\n",
       "  </tbody>\n",
       "</table>\n",
       "</div>"
      ],
      "text/plain": [
       "      initial_timepoint clade_membership final_timepoint strain  frequency\n",
       "13017        2015-10-01          aafb4e9      2016-10-01    NaN        0.0\n",
       "13018        2015-10-01          414723b      2016-10-01    NaN        0.0\n",
       "13019        2015-10-01          1a16e36      2016-10-01    NaN        0.0\n",
       "13020        2015-10-01          c65d2b1      2016-10-01    NaN        0.0\n",
       "13021        2015-10-01          c25ef77      2016-10-01    NaN        0.0"
      ]
     },
     "execution_count": 30,
     "metadata": {},
     "output_type": "execute_result"
    }
   ],
   "source": [
    "final_clade_frequencies.tail()"
   ]
  },
  {
   "cell_type": "code",
   "execution_count": 31,
   "metadata": {},
   "outputs": [],
   "source": [
    "y = final_clade_frequencies.groupby([\n",
    "    \"initial_timepoint\",\n",
    "    \"clade_membership\"\n",
    "])[\"frequency\"].sum().reset_index()\n",
    "\n",
    "y = y.rename(\n",
    "    columns={\"initial_timepoint\": \"timepoint\"}\n",
    ")\n",
    "\n",
    "y = y[y[\"timepoint\"] <= last_timepoint]"
   ]
  },
  {
   "cell_type": "code",
   "execution_count": 32,
   "metadata": {},
   "outputs": [
    {
     "data": {
      "text/html": [
       "<div>\n",
       "<style scoped>\n",
       "    .dataframe tbody tr th:only-of-type {\n",
       "        vertical-align: middle;\n",
       "    }\n",
       "\n",
       "    .dataframe tbody tr th {\n",
       "        vertical-align: top;\n",
       "    }\n",
       "\n",
       "    .dataframe thead th {\n",
       "        text-align: right;\n",
       "    }\n",
       "</style>\n",
       "<table border=\"1\" class=\"dataframe\">\n",
       "  <thead>\n",
       "    <tr style=\"text-align: right;\">\n",
       "      <th></th>\n",
       "      <th>timepoint</th>\n",
       "      <th>clade_membership</th>\n",
       "      <th>frequency</th>\n",
       "    </tr>\n",
       "  </thead>\n",
       "  <tbody>\n",
       "    <tr>\n",
       "      <th>0</th>\n",
       "      <td>2004-10-01</td>\n",
       "      <td>06ed3c7</td>\n",
       "      <td>0.000000</td>\n",
       "    </tr>\n",
       "    <tr>\n",
       "      <th>1</th>\n",
       "      <td>2004-10-01</td>\n",
       "      <td>31e4ba2</td>\n",
       "      <td>0.000000</td>\n",
       "    </tr>\n",
       "    <tr>\n",
       "      <th>2</th>\n",
       "      <td>2004-10-01</td>\n",
       "      <td>412c00a</td>\n",
       "      <td>0.000000</td>\n",
       "    </tr>\n",
       "    <tr>\n",
       "      <th>3</th>\n",
       "      <td>2004-10-01</td>\n",
       "      <td>44989e1</td>\n",
       "      <td>0.018695</td>\n",
       "    </tr>\n",
       "    <tr>\n",
       "      <th>4</th>\n",
       "      <td>2004-10-01</td>\n",
       "      <td>4952842</td>\n",
       "      <td>0.000000</td>\n",
       "    </tr>\n",
       "  </tbody>\n",
       "</table>\n",
       "</div>"
      ],
      "text/plain": [
       "   timepoint clade_membership  frequency\n",
       "0 2004-10-01          06ed3c7   0.000000\n",
       "1 2004-10-01          31e4ba2   0.000000\n",
       "2 2004-10-01          412c00a   0.000000\n",
       "3 2004-10-01          44989e1   0.018695\n",
       "4 2004-10-01          4952842   0.000000"
      ]
     },
     "execution_count": 32,
     "metadata": {},
     "output_type": "execute_result"
    }
   ],
   "source": [
    "y.head()"
   ]
  },
  {
   "cell_type": "code",
   "execution_count": 33,
   "metadata": {},
   "outputs": [
    {
     "data": {
      "text/plain": [
       "timepoint\n",
       "2004-10-01    1.000002\n",
       "2005-04-01    0.999993\n",
       "2005-10-01    1.000001\n",
       "2006-04-01    1.000022\n",
       "2006-10-01    1.000025\n",
       "2007-04-01    1.000012\n",
       "2007-10-01    1.000005\n",
       "2008-04-01    1.000007\n",
       "2008-10-01    0.999998\n",
       "2009-04-01    0.999989\n",
       "2009-10-01    0.999999\n",
       "2010-04-01    1.000014\n",
       "2010-10-01    0.999981\n",
       "2011-04-01    1.000019\n",
       "2011-10-01    0.997606\n",
       "2012-04-01    0.999994\n",
       "2012-10-01    0.999995\n",
       "2013-04-01    1.000038\n",
       "2013-10-01    0.999939\n",
       "2014-04-01    0.999943\n",
       "2014-10-01    0.999963\n",
       "2015-04-01    0.000000\n",
       "2015-10-01    0.000000\n",
       "Name: frequency, dtype: float64"
      ]
     },
     "execution_count": 33,
     "metadata": {},
     "output_type": "execute_result"
    }
   ],
   "source": [
    "y.groupby(\"timepoint\")[\"frequency\"].sum()"
   ]
  },
  {
   "cell_type": "code",
   "execution_count": 34,
   "metadata": {},
   "outputs": [
    {
     "data": {
      "text/plain": [
       "1e-06"
      ]
     },
     "execution_count": 34,
     "metadata": {},
     "output_type": "execute_result"
    }
   ],
   "source": [
    "X[\"frequency\"].min()"
   ]
  },
  {
   "cell_type": "code",
   "execution_count": null,
   "metadata": {},
   "outputs": [],
   "source": []
  },
  {
   "cell_type": "markdown",
   "metadata": {},
   "source": [
    "## Inspect LBI model"
   ]
  },
  {
   "cell_type": "code",
   "execution_count": 35,
   "metadata": {},
   "outputs": [],
   "source": [
    "predictors = [\"lbi\"]\n",
    "model = ExponentialGrowthModel(\n",
    "    predictors=predictors,\n",
    "    delta_time=delta_time,\n",
    "    l1_lambda=l1_lambda,\n",
    "    cost_function=sum_of_squared_errors\n",
    ")"
   ]
  },
  {
   "cell_type": "markdown",
   "metadata": {},
   "source": [
    "Calculate error for an LBI model across all coefficients."
   ]
  },
  {
   "cell_type": "code",
   "execution_count": 36,
   "metadata": {},
   "outputs": [],
   "source": [
    "errors = []\n",
    "for coefficient in coefficients:\n",
    "    error = model._fit([coefficient], X, y)\n",
    "    errors.append(error)"
   ]
  },
  {
   "cell_type": "code",
   "execution_count": 37,
   "metadata": {},
   "outputs": [
    {
     "data": {
      "text/plain": [
       "7.111012939307097"
      ]
     },
     "execution_count": 37,
     "metadata": {},
     "output_type": "execute_result"
    }
   ],
   "source": [
    "min(errors)"
   ]
  },
  {
   "cell_type": "code",
   "execution_count": 38,
   "metadata": {},
   "outputs": [
    {
     "data": {
      "text/plain": [
       "0.5999999999999996"
      ]
     },
     "execution_count": 38,
     "metadata": {},
     "output_type": "execute_result"
    }
   ],
   "source": [
    "coefficients[np.argmin(errors)]"
   ]
  },
  {
   "cell_type": "code",
   "execution_count": 39,
   "metadata": {},
   "outputs": [
    {
     "data": {
      "text/plain": [
       "Text(0,0.5,'SSE')"
      ]
     },
     "execution_count": 39,
     "metadata": {},
     "output_type": "execute_result"
    },
    {
     "data": {
      "image/png": "[encoded data removed]",
      "text/plain": [
       "<Figure size 432x288 with 1 Axes>"
      ]
     },
     "metadata": {
      "needs_background": "light"
     },
     "output_type": "display_data"
    }
   ],
   "source": [
    "plt.plot(coefficients, errors, \"o\")\n",
    "plt.xlabel(\"LBI coefficient\")\n",
    "plt.ylabel(\"SSE\")"
   ]
  },
  {
   "cell_type": "code",
   "execution_count": 40,
   "metadata": {},
   "outputs": [
    {
     "data": {
      "text/plain": [
       "Text(0,0.5,'Negative information gain')"
      ]
     },
     "execution_count": 40,
     "metadata": {},
     "output_type": "execute_result"
    },
    {
     "data": {
      "image/png": "[encoded data removed]",
      "text/plain": [
       "<Figure size 432x288 with 1 Axes>"
      ]
     },
     "metadata": {
      "needs_background": "light"
     },
     "output_type": "display_data"
    }
   ],
   "source": [
    "predictors = [\"lbi\"]\n",
    "model = ExponentialGrowthModel(\n",
    "    predictors=predictors,\n",
    "    delta_time=delta_time,\n",
    "    l1_lambda=l1_lambda,\n",
    "    cost_function=negative_information_gain\n",
    ")\n",
    "\n",
    "errors = []\n",
    "for coefficient in coefficients:\n",
    "    error = model._fit([coefficient], X, y)\n",
    "    errors.append(error)\n",
    "    \n",
    "plt.plot(coefficients, errors, \"o\")\n",
    "plt.xlabel(\"LBI coefficient\")\n",
    "plt.ylabel(\"Negative information gain\")"
   ]
  },
  {
   "cell_type": "code",
   "execution_count": 41,
   "metadata": {},
   "outputs": [
    {
     "data": {
      "text/plain": [
       "-1.853520057623594"
      ]
     },
     "execution_count": 41,
     "metadata": {},
     "output_type": "execute_result"
    }
   ],
   "source": [
    "min(errors)"
   ]
  },
  {
   "cell_type": "code",
   "execution_count": 42,
   "metadata": {},
   "outputs": [
    {
     "data": {
      "text/plain": [
       "0.5999999999999996"
      ]
     },
     "execution_count": 42,
     "metadata": {},
     "output_type": "execute_result"
    }
   ],
   "source": [
    "coefficients[np.argmin(errors)]"
   ]
  },
  {
   "cell_type": "code",
   "execution_count": null,
   "metadata": {},
   "outputs": [],
   "source": []
  },
  {
   "cell_type": "markdown",
   "metadata": {},
   "source": [
    "## Inspect cTiterSub model"
   ]
  },
  {
   "cell_type": "code",
   "execution_count": null,
   "metadata": {},
   "outputs": [],
   "source": [
    "predictors = [\"cTiterSub_x\"]\n",
    "\n",
    "model = ExponentialGrowthModel(\n",
    "    predictors=predictors,\n",
    "    delta_time=delta_time,\n",
    "    l1_lambda=l1_lambda,\n",
    "    cost_function=sum_of_squared_errors\n",
    ")"
   ]
  },
  {
   "cell_type": "code",
   "execution_count": null,
   "metadata": {},
   "outputs": [],
   "source": [
    "errors = []\n",
    "for coefficient in coefficients:\n",
    "    error = model._fit([coefficient], X, y)\n",
    "    errors.append(error)"
   ]
  },
  {
   "cell_type": "code",
   "execution_count": null,
   "metadata": {},
   "outputs": [],
   "source": [
    "plt.plot(coefficients, errors, \"o\")\n",
    "plt.xlabel(\"Titer cross-immunity model coefficient\")\n",
    "plt.ylabel(\"SSE\")"
   ]
  },
  {
   "cell_type": "code",
   "execution_count": null,
   "metadata": {},
   "outputs": [],
   "source": [
    "predictors = [\"cTiterSub_x\"]\n",
    "\n",
    "model = ExponentialGrowthModel(\n",
    "    predictors=predictors,\n",
    "    delta_time=delta_time,\n",
    "    l1_lambda=l1_lambda,\n",
    "    cost_function=mean_absolute_error\n",
    ")\n",
    "\n",
    "errors = []\n",
    "for coefficient in coefficients:\n",
    "    error = model._fit([coefficient], X, y)\n",
    "    errors.append(error)\n",
    "    \n",
    "plt.plot(coefficients, errors, \"o\")\n",
    "plt.xlabel(\"Titer cross-immunity model coefficient\")\n",
    "plt.ylabel(\"MAE\")"
   ]
  },
  {
   "cell_type": "markdown",
   "metadata": {},
   "source": [
    "## Inspect epitope count model"
   ]
  },
  {
   "cell_type": "code",
   "execution_count": null,
   "metadata": {},
   "outputs": [],
   "source": [
    "predictors = [\"ep\"]\n",
    "\n",
    "model = ExponentialGrowthModel(\n",
    "    predictors=predictors,\n",
    "    delta_time=delta_time,\n",
    "    l1_lambda=l1_lambda,\n",
    "    cost_function=sum_of_squared_errors\n",
    ")"
   ]
  },
  {
   "cell_type": "code",
   "execution_count": null,
   "metadata": {},
   "outputs": [],
   "source": [
    "errors = []\n",
    "for coefficient in coefficients:\n",
    "    error = model._fit([coefficient], X, y)\n",
    "    errors.append(error)"
   ]
  },
  {
   "cell_type": "code",
   "execution_count": null,
   "metadata": {},
   "outputs": [],
   "source": [
    "plt.plot(coefficients, errors, \"o\")\n",
    "plt.xlabel(\"Epitope count model coefficient\")\n",
    "plt.ylabel(\"SSE\")"
   ]
  },
  {
   "cell_type": "code",
   "execution_count": null,
   "metadata": {},
   "outputs": [],
   "source": [
    "predictors = [\"ep\"]\n",
    "\n",
    "model = ExponentialGrowthModel(\n",
    "    predictors=predictors,\n",
    "    delta_time=delta_time,\n",
    "    l1_lambda=l1_lambda,\n",
    "    cost_function=mean_absolute_error\n",
    ")\n",
    "\n",
    "errors = []\n",
    "for coefficient in coefficients:\n",
    "    error = model._fit([coefficient], X, y)\n",
    "    errors.append(error)\n",
    "\n",
    "plt.plot(coefficients, errors, \"o\")\n",
    "plt.xlabel(\"Epitope count model coefficient\")\n",
    "plt.ylabel(\"MAE\")"
   ]
  },
  {
   "cell_type": "markdown",
   "metadata": {},
   "source": [
    "## Inspect epitope cross-immunity model"
   ]
  },
  {
   "cell_type": "code",
   "execution_count": null,
   "metadata": {},
   "outputs": [],
   "source": [
    "predictors = [\"ep_x\"]\n",
    "\n",
    "model = ExponentialGrowthModel(\n",
    "    predictors=predictors,\n",
    "    delta_time=delta_time,\n",
    "    l1_lambda=l1_lambda,\n",
    "    cost_function=sum_of_squared_errors\n",
    ")\n",
    "\n",
    "errors = []\n",
    "for coefficient in coefficients:\n",
    "    error = model._fit([coefficient], X, y)\n",
    "    errors.append(error)\n",
    "\n",
    "plt.plot(coefficients, errors, \"o\")\n",
    "plt.xlabel(\"Epitope cross-immunity model coefficient\")\n",
    "plt.ylabel(\"SSE\")"
   ]
  },
  {
   "cell_type": "code",
   "execution_count": null,
   "metadata": {},
   "outputs": [],
   "source": [
    "model = ExponentialGrowthModel(\n",
    "    predictors=predictors,\n",
    "    delta_time=delta_time,\n",
    "    l1_lambda=l1_lambda,\n",
    "    cost_function=mean_absolute_error\n",
    ")\n",
    "\n",
    "errors = []\n",
    "for coefficient in coefficients:\n",
    "    error = model._fit([coefficient], X, y)\n",
    "    errors.append(error)\n",
    "\n",
    "plt.plot(coefficients, errors, \"o\")\n",
    "plt.xlabel(\"Epitope cross-immunity model coefficient\")\n",
    "plt.ylabel(\"MAE\")"
   ]
  },
  {
   "cell_type": "markdown",
   "metadata": {},
   "source": [
    "## Inspect delta frequency model"
   ]
  },
  {
   "cell_type": "code",
   "execution_count": null,
   "metadata": {},
   "outputs": [],
   "source": [
    "predictors = [\"delta_frequency\"]\n",
    "\n",
    "model = ExponentialGrowthModel(\n",
    "    predictors=predictors,\n",
    "    delta_time=delta_time,\n",
    "    l1_lambda=l1_lambda,\n",
    "    cost_function=mean_absolute_error\n",
    ")"
   ]
  },
  {
   "cell_type": "code",
   "execution_count": null,
   "metadata": {},
   "outputs": [],
   "source": [
    "errors = []\n",
    "for coefficient in coefficients:\n",
    "    error = model._fit([coefficient], X, y)\n",
    "    errors.append(error)"
   ]
  },
  {
   "cell_type": "code",
   "execution_count": null,
   "metadata": {},
   "outputs": [],
   "source": [
    "plt.plot(coefficients, errors, \"o\")\n",
    "plt.xlabel(\"Delta frequency model coefficient\")\n",
    "plt.ylabel(\"MAE\")"
   ]
  },
  {
   "cell_type": "markdown",
   "metadata": {},
   "source": [
    "## Inspect two-parameter models"
   ]
  },
  {
   "cell_type": "code",
   "execution_count": null,
   "metadata": {},
   "outputs": [],
   "source": [
    "predictors = [\"lbi\", \"cTiterSub_x\"]\n",
    "\n",
    "model = ExponentialGrowthModel(\n",
    "    predictors=predictors,\n",
    "    delta_time=delta_time,\n",
    "    l1_lambda=l1_lambda,\n",
    "    cost_function=sum_of_squared_errors\n",
    ")"
   ]
  },
  {
   "cell_type": "code",
   "execution_count": null,
   "metadata": {},
   "outputs": [],
   "source": [
    "len(coefficients)"
   ]
  },
  {
   "cell_type": "code",
   "execution_count": null,
   "metadata": {},
   "outputs": [],
   "source": [
    "errors_by_first_coefficient = {}\n",
    "for coefficient_i in coefficients:\n",
    "    errors = []\n",
    "    for coefficient_j in coefficients:\n",
    "        error = model._fit([coefficient_i, coefficient_j], X, y)\n",
    "        errors.append(error)\n",
    "    \n",
    "    errors_by_first_coefficient[coefficient_i] = errors"
   ]
  },
  {
   "cell_type": "code",
   "execution_count": null,
   "metadata": {},
   "outputs": [],
   "source": [
    "fig, axes = plt.subplots(6, 4, figsize=(20, 20), gridspec_kw={\"hspace\": 0.75}, sharey=True)\n",
    "\n",
    "for ci, coefficient_i in enumerate(sorted(errors_by_first_coefficient.keys())):\n",
    "    ax = axes.flatten()[ci]\n",
    "    \n",
    "    errors = errors_by_first_coefficient[coefficient_i]\n",
    "    ax.plot(coefficients, errors, \"o\")\n",
    "    ax.set_xlabel(\"Titer substitution model coefficient\")\n",
    "    ax.set_ylabel(\"SSE\")\n",
    "    ax.set_title(\"LBI coefficient: %.2f\" % coefficient_i)"
   ]
  },
  {
   "cell_type": "code",
   "execution_count": null,
   "metadata": {},
   "outputs": [],
   "source": [
    "predictors = [\"lbi\", \"cTiterSub_x\"]\n",
    "delta_time = 1.0\n",
    "l1_lambda = 0.0\n",
    "\n",
    "model = ExponentialGrowthModel(\n",
    "    predictors=predictors,\n",
    "    delta_time=delta_time,\n",
    "    l1_lambda=l1_lambda,\n",
    "    cost_function=mean_absolute_error\n",
    ")\n",
    "\n",
    "records = []\n",
    "errors_by_first_coefficient = {}\n",
    "for coefficient_i in coefficients:\n",
    "    errors = []\n",
    "    for coefficient_j in coefficients:\n",
    "        error = model._fit([coefficient_i, coefficient_j], X, y)\n",
    "        errors.append(error)\n",
    "        records.append({\n",
    "            \"lbi\": coefficient_i,\n",
    "            \"cTiterSub\": coefficient_j,\n",
    "            \"error\": error\n",
    "        })\n",
    "    \n",
    "    errors_by_first_coefficient[coefficient_i] = errors"
   ]
  },
  {
   "cell_type": "code",
   "execution_count": null,
   "metadata": {},
   "outputs": [],
   "source": [
    "records_df = pd.DataFrame(records)\n",
    "records_df.sort_values(\"error\").head()"
   ]
  },
  {
   "cell_type": "code",
   "execution_count": null,
   "metadata": {},
   "outputs": [],
   "source": [
    "fig, axes = plt.subplots(6, 4, figsize=(20, 20), gridspec_kw={\"hspace\": 0.75}, sharey=True)\n",
    "\n",
    "for ci, coefficient_i in enumerate(sorted(errors_by_first_coefficient.keys())):\n",
    "    ax = axes.flatten()[ci]\n",
    "    \n",
    "    errors = errors_by_first_coefficient[coefficient_i]\n",
    "    ax.plot(coefficients, errors, \"o\")\n",
    "    ax.set_xlabel(\"Titer substitution model coefficient\")\n",
    "    ax.set_ylabel(\"MAE\")\n",
    "    ax.set_title(\"LBI coefficient: %.2f\" % coefficient_i)"
   ]
  },
  {
   "cell_type": "markdown",
   "metadata": {},
   "source": [
    "## Minimize negative information gain"
   ]
  },
  {
   "cell_type": "markdown",
   "metadata": {},
   "source": [
    "Add pseudocounts to current and future tip frequencies."
   ]
  },
  {
   "cell_type": "code",
   "execution_count": 141,
   "metadata": {},
   "outputs": [],
   "source": [
    "pseudocount = 1e-6\n",
    "X_with_pseudocounts = add_pseudocounts_to_frequencies(X, pseudocount)\n",
    "final_clade_frequencies_with_pseudocounts = add_pseudocounts_to_frequencies(\n",
    "    final_clade_frequencies,\n",
    "    pseudocount,\n",
    "    timepoint_column=\"initial_timepoint\"\n",
    ")"
   ]
  },
  {
   "cell_type": "code",
   "execution_count": 142,
   "metadata": {},
   "outputs": [],
   "source": [
    "y_with_pseudocounts = final_clade_frequencies_with_pseudocounts.groupby([\n",
    "    \"initial_timepoint\",\n",
    "    \"clade_membership\"\n",
    "])[\"frequency\"].sum().reset_index()\n",
    "\n",
    "y_with_pseudocounts = y_with_pseudocounts.rename(\n",
    "    columns={\"initial_timepoint\": \"timepoint\"}\n",
    ")\n",
    "\n",
    "#y_with_pseudocounts = y_with_pseudocounts[y_with_pseudocounts[\"timepoint\"] <= last_timepoint]"
   ]
  },
  {
   "cell_type": "code",
   "execution_count": 143,
   "metadata": {},
   "outputs": [
    {
     "data": {
      "text/html": [
       "<div>\n",
       "<style scoped>\n",
       "    .dataframe tbody tr th:only-of-type {\n",
       "        vertical-align: middle;\n",
       "    }\n",
       "\n",
       "    .dataframe tbody tr th {\n",
       "        vertical-align: top;\n",
       "    }\n",
       "\n",
       "    .dataframe thead th {\n",
       "        text-align: right;\n",
       "    }\n",
       "</style>\n",
       "<table border=\"1\" class=\"dataframe\">\n",
       "  <thead>\n",
       "    <tr style=\"text-align: right;\">\n",
       "      <th></th>\n",
       "      <th>strain</th>\n",
       "      <th>clade_membership</th>\n",
       "      <th>timepoint</th>\n",
       "      <th>cTiterSub_x</th>\n",
       "      <th>lbi</th>\n",
       "      <th>ep</th>\n",
       "      <th>ep_x</th>\n",
       "      <th>ne</th>\n",
       "      <th>delta_frequency</th>\n",
       "      <th>frequency</th>\n",
       "    </tr>\n",
       "  </thead>\n",
       "  <tbody>\n",
       "    <tr>\n",
       "      <th>0</th>\n",
       "      <td>A/BacGiang/BG003/2004</td>\n",
       "      <td>4ff1302</td>\n",
       "      <td>2004-10-01</td>\n",
       "      <td>2.107659</td>\n",
       "      <td>-1.179518</td>\n",
       "      <td>10</td>\n",
       "      <td>1.995151</td>\n",
       "      <td>6</td>\n",
       "      <td>-0.233467</td>\n",
       "      <td>0.000508</td>\n",
       "    </tr>\n",
       "    <tr>\n",
       "      <th>1</th>\n",
       "      <td>A/California/NHRC0002/2003</td>\n",
       "      <td>4ff1302</td>\n",
       "      <td>2004-10-01</td>\n",
       "      <td>2.107659</td>\n",
       "      <td>-0.494101</td>\n",
       "      <td>10</td>\n",
       "      <td>2.013158</td>\n",
       "      <td>6</td>\n",
       "      <td>-0.233467</td>\n",
       "      <td>0.000002</td>\n",
       "    </tr>\n",
       "    <tr>\n",
       "      <th>2</th>\n",
       "      <td>A/California/NHRC0003/2003</td>\n",
       "      <td>4ff1302</td>\n",
       "      <td>2004-10-01</td>\n",
       "      <td>2.107659</td>\n",
       "      <td>-0.498687</td>\n",
       "      <td>9</td>\n",
       "      <td>1.837884</td>\n",
       "      <td>6</td>\n",
       "      <td>-0.233467</td>\n",
       "      <td>0.000002</td>\n",
       "    </tr>\n",
       "    <tr>\n",
       "      <th>3</th>\n",
       "      <td>A/California/NHRC0004/2003</td>\n",
       "      <td>4ff1302</td>\n",
       "      <td>2004-10-01</td>\n",
       "      <td>2.107659</td>\n",
       "      <td>-0.507784</td>\n",
       "      <td>9</td>\n",
       "      <td>1.837884</td>\n",
       "      <td>6</td>\n",
       "      <td>-0.233467</td>\n",
       "      <td>0.000003</td>\n",
       "    </tr>\n",
       "    <tr>\n",
       "      <th>4</th>\n",
       "      <td>A/Christchurch/15/2004</td>\n",
       "      <td>4ff1302</td>\n",
       "      <td>2004-10-01</td>\n",
       "      <td>2.107659</td>\n",
       "      <td>-1.276597</td>\n",
       "      <td>12</td>\n",
       "      <td>2.323706</td>\n",
       "      <td>6</td>\n",
       "      <td>-0.233467</td>\n",
       "      <td>0.008018</td>\n",
       "    </tr>\n",
       "  </tbody>\n",
       "</table>\n",
       "</div>"
      ],
      "text/plain": [
       "                       strain clade_membership  timepoint  cTiterSub_x  \\\n",
       "0       A/BacGiang/BG003/2004          4ff1302 2004-10-01     2.107659   \n",
       "1  A/California/NHRC0002/2003          4ff1302 2004-10-01     2.107659   \n",
       "2  A/California/NHRC0003/2003          4ff1302 2004-10-01     2.107659   \n",
       "3  A/California/NHRC0004/2003          4ff1302 2004-10-01     2.107659   \n",
       "4      A/Christchurch/15/2004          4ff1302 2004-10-01     2.107659   \n",
       "\n",
       "        lbi  ep      ep_x  ne  delta_frequency  frequency  \n",
       "0 -1.179518  10  1.995151   6        -0.233467   0.000508  \n",
       "1 -0.494101  10  2.013158   6        -0.233467   0.000002  \n",
       "2 -0.498687   9  1.837884   6        -0.233467   0.000002  \n",
       "3 -0.507784   9  1.837884   6        -0.233467   0.000003  \n",
       "4 -1.276597  12  2.323706   6        -0.233467   0.008018  "
      ]
     },
     "execution_count": 143,
     "metadata": {},
     "output_type": "execute_result"
    }
   ],
   "source": [
    "X_with_pseudocounts.head()"
   ]
  },
  {
   "cell_type": "code",
   "execution_count": 144,
   "metadata": {},
   "outputs": [
    {
     "data": {
      "text/html": [
       "<div>\n",
       "<style scoped>\n",
       "    .dataframe tbody tr th:only-of-type {\n",
       "        vertical-align: middle;\n",
       "    }\n",
       "\n",
       "    .dataframe tbody tr th {\n",
       "        vertical-align: top;\n",
       "    }\n",
       "\n",
       "    .dataframe thead th {\n",
       "        text-align: right;\n",
       "    }\n",
       "</style>\n",
       "<table border=\"1\" class=\"dataframe\">\n",
       "  <thead>\n",
       "    <tr style=\"text-align: right;\">\n",
       "      <th></th>\n",
       "      <th>initial_timepoint</th>\n",
       "      <th>clade_membership</th>\n",
       "      <th>final_timepoint</th>\n",
       "      <th>strain</th>\n",
       "      <th>frequency</th>\n",
       "    </tr>\n",
       "  </thead>\n",
       "  <tbody>\n",
       "    <tr>\n",
       "      <th>0</th>\n",
       "      <td>2004-10-01</td>\n",
       "      <td>4ff1302</td>\n",
       "      <td>2005-10-01</td>\n",
       "      <td>A/California/NHRC0009/2005</td>\n",
       "      <td>0.000267</td>\n",
       "    </tr>\n",
       "    <tr>\n",
       "      <th>1</th>\n",
       "      <td>2004-10-01</td>\n",
       "      <td>4ff1302</td>\n",
       "      <td>2005-10-01</td>\n",
       "      <td>A/California/NHRC0010/2005</td>\n",
       "      <td>0.000286</td>\n",
       "    </tr>\n",
       "    <tr>\n",
       "      <th>2</th>\n",
       "      <td>2004-10-01</td>\n",
       "      <td>4ff1302</td>\n",
       "      <td>2005-10-01</td>\n",
       "      <td>A/Hanoi/ISBM16/2005</td>\n",
       "      <td>0.002624</td>\n",
       "    </tr>\n",
       "    <tr>\n",
       "      <th>3</th>\n",
       "      <td>2004-10-01</td>\n",
       "      <td>4ff1302</td>\n",
       "      <td>2005-10-01</td>\n",
       "      <td>A/HongKong/HKU45/2005</td>\n",
       "      <td>0.001356</td>\n",
       "    </tr>\n",
       "    <tr>\n",
       "      <th>4</th>\n",
       "      <td>2004-10-01</td>\n",
       "      <td>4ff1302</td>\n",
       "      <td>2005-10-01</td>\n",
       "      <td>A/NewYork/243/2005</td>\n",
       "      <td>0.000185</td>\n",
       "    </tr>\n",
       "  </tbody>\n",
       "</table>\n",
       "</div>"
      ],
      "text/plain": [
       "  initial_timepoint clade_membership final_timepoint  \\\n",
       "0        2004-10-01          4ff1302      2005-10-01   \n",
       "1        2004-10-01          4ff1302      2005-10-01   \n",
       "2        2004-10-01          4ff1302      2005-10-01   \n",
       "3        2004-10-01          4ff1302      2005-10-01   \n",
       "4        2004-10-01          4ff1302      2005-10-01   \n",
       "\n",
       "                       strain  frequency  \n",
       "0  A/California/NHRC0009/2005   0.000267  \n",
       "1  A/California/NHRC0010/2005   0.000286  \n",
       "2         A/Hanoi/ISBM16/2005   0.002624  \n",
       "3       A/HongKong/HKU45/2005   0.001356  \n",
       "4          A/NewYork/243/2005   0.000185  "
      ]
     },
     "execution_count": 144,
     "metadata": {},
     "output_type": "execute_result"
    }
   ],
   "source": [
    "final_clade_frequencies.head()"
   ]
  },
  {
   "cell_type": "code",
   "execution_count": 145,
   "metadata": {},
   "outputs": [
    {
     "data": {
      "text/html": [
       "<div>\n",
       "<style scoped>\n",
       "    .dataframe tbody tr th:only-of-type {\n",
       "        vertical-align: middle;\n",
       "    }\n",
       "\n",
       "    .dataframe tbody tr th {\n",
       "        vertical-align: top;\n",
       "    }\n",
       "\n",
       "    .dataframe thead th {\n",
       "        text-align: right;\n",
       "    }\n",
       "</style>\n",
       "<table border=\"1\" class=\"dataframe\">\n",
       "  <thead>\n",
       "    <tr style=\"text-align: right;\">\n",
       "      <th></th>\n",
       "      <th>initial_timepoint</th>\n",
       "      <th>clade_membership</th>\n",
       "      <th>final_timepoint</th>\n",
       "      <th>strain</th>\n",
       "      <th>frequency</th>\n",
       "    </tr>\n",
       "  </thead>\n",
       "  <tbody>\n",
       "    <tr>\n",
       "      <th>0</th>\n",
       "      <td>2004-10-01</td>\n",
       "      <td>4ff1302</td>\n",
       "      <td>2005-10-01</td>\n",
       "      <td>A/California/NHRC0009/2005</td>\n",
       "      <td>0.000267</td>\n",
       "    </tr>\n",
       "    <tr>\n",
       "      <th>1</th>\n",
       "      <td>2004-10-01</td>\n",
       "      <td>4ff1302</td>\n",
       "      <td>2005-10-01</td>\n",
       "      <td>A/California/NHRC0010/2005</td>\n",
       "      <td>0.000286</td>\n",
       "    </tr>\n",
       "    <tr>\n",
       "      <th>2</th>\n",
       "      <td>2004-10-01</td>\n",
       "      <td>4ff1302</td>\n",
       "      <td>2005-10-01</td>\n",
       "      <td>A/Hanoi/ISBM16/2005</td>\n",
       "      <td>0.002624</td>\n",
       "    </tr>\n",
       "    <tr>\n",
       "      <th>3</th>\n",
       "      <td>2004-10-01</td>\n",
       "      <td>4ff1302</td>\n",
       "      <td>2005-10-01</td>\n",
       "      <td>A/HongKong/HKU45/2005</td>\n",
       "      <td>0.001356</td>\n",
       "    </tr>\n",
       "    <tr>\n",
       "      <th>4</th>\n",
       "      <td>2004-10-01</td>\n",
       "      <td>4ff1302</td>\n",
       "      <td>2005-10-01</td>\n",
       "      <td>A/NewYork/243/2005</td>\n",
       "      <td>0.000185</td>\n",
       "    </tr>\n",
       "  </tbody>\n",
       "</table>\n",
       "</div>"
      ],
      "text/plain": [
       "  initial_timepoint clade_membership final_timepoint  \\\n",
       "0        2004-10-01          4ff1302      2005-10-01   \n",
       "1        2004-10-01          4ff1302      2005-10-01   \n",
       "2        2004-10-01          4ff1302      2005-10-01   \n",
       "3        2004-10-01          4ff1302      2005-10-01   \n",
       "4        2004-10-01          4ff1302      2005-10-01   \n",
       "\n",
       "                       strain  frequency  \n",
       "0  A/California/NHRC0009/2005   0.000267  \n",
       "1  A/California/NHRC0010/2005   0.000286  \n",
       "2         A/Hanoi/ISBM16/2005   0.002624  \n",
       "3       A/HongKong/HKU45/2005   0.001356  \n",
       "4          A/NewYork/243/2005   0.000185  "
      ]
     },
     "execution_count": 145,
     "metadata": {},
     "output_type": "execute_result"
    }
   ],
   "source": [
    "final_clade_frequencies_with_pseudocounts.head()"
   ]
  },
  {
   "cell_type": "code",
   "execution_count": 146,
   "metadata": {},
   "outputs": [
    {
     "data": {
      "text/html": [
       "<div>\n",
       "<style scoped>\n",
       "    .dataframe tbody tr th:only-of-type {\n",
       "        vertical-align: middle;\n",
       "    }\n",
       "\n",
       "    .dataframe tbody tr th {\n",
       "        vertical-align: top;\n",
       "    }\n",
       "\n",
       "    .dataframe thead th {\n",
       "        text-align: right;\n",
       "    }\n",
       "</style>\n",
       "<table border=\"1\" class=\"dataframe\">\n",
       "  <thead>\n",
       "    <tr style=\"text-align: right;\">\n",
       "      <th></th>\n",
       "      <th>timepoint</th>\n",
       "      <th>clade_membership</th>\n",
       "      <th>frequency</th>\n",
       "    </tr>\n",
       "  </thead>\n",
       "  <tbody>\n",
       "    <tr>\n",
       "      <th>0</th>\n",
       "      <td>2004-10-01</td>\n",
       "      <td>06ed3c7</td>\n",
       "      <td>9.999820e-07</td>\n",
       "    </tr>\n",
       "    <tr>\n",
       "      <th>1</th>\n",
       "      <td>2004-10-01</td>\n",
       "      <td>31e4ba2</td>\n",
       "      <td>9.999820e-07</td>\n",
       "    </tr>\n",
       "    <tr>\n",
       "      <th>2</th>\n",
       "      <td>2004-10-01</td>\n",
       "      <td>412c00a</td>\n",
       "      <td>9.999820e-07</td>\n",
       "    </tr>\n",
       "    <tr>\n",
       "      <th>3</th>\n",
       "      <td>2004-10-01</td>\n",
       "      <td>44989e1</td>\n",
       "      <td>1.845367e-02</td>\n",
       "    </tr>\n",
       "    <tr>\n",
       "      <th>4</th>\n",
       "      <td>2004-10-01</td>\n",
       "      <td>4952842</td>\n",
       "      <td>9.999820e-07</td>\n",
       "    </tr>\n",
       "  </tbody>\n",
       "</table>\n",
       "</div>"
      ],
      "text/plain": [
       "   timepoint clade_membership     frequency\n",
       "0 2004-10-01          06ed3c7  9.999820e-07\n",
       "1 2004-10-01          31e4ba2  9.999820e-07\n",
       "2 2004-10-01          412c00a  9.999820e-07\n",
       "3 2004-10-01          44989e1  1.845367e-02\n",
       "4 2004-10-01          4952842  9.999820e-07"
      ]
     },
     "execution_count": 146,
     "metadata": {},
     "output_type": "execute_result"
    }
   ],
   "source": [
    "y_with_pseudocounts.head()"
   ]
  },
  {
   "cell_type": "code",
   "execution_count": 147,
   "metadata": {},
   "outputs": [
    {
     "data": {
      "text/plain": [
       "Text(0,0.5,'Negative information gain')"
      ]
     },
     "execution_count": 147,
     "metadata": {},
     "output_type": "execute_result"
    },
    {
     "data": {
      "image/png": "[encoded data removed]",
      "text/plain": [
       "<Figure size 432x288 with 1 Axes>"
      ]
     },
     "metadata": {
      "needs_background": "light"
     },
     "output_type": "display_data"
    }
   ],
   "source": [
    "predictors = [\"lbi\"]\n",
    "model = ExponentialGrowthModel(\n",
    "    predictors=predictors,\n",
    "    delta_time=delta_time,\n",
    "    l1_lambda=l1_lambda,\n",
    "    cost_function=negative_information_gain\n",
    ")\n",
    "\n",
    "errors = []\n",
    "for coefficient in coefficients:\n",
    "    error = model._fit([coefficient], X_with_pseudocounts, y_with_pseudocounts)\n",
    "    errors.append(error)\n",
    "    \n",
    "plt.plot(coefficients, errors, \"o\")\n",
    "plt.xlabel(\"LBI coefficient\")\n",
    "plt.ylabel(\"Negative information gain\")"
   ]
  },
  {
   "cell_type": "code",
   "execution_count": 148,
   "metadata": {},
   "outputs": [
    {
     "data": {
      "text/plain": [
       "-1.9543690340662125"
      ]
     },
     "execution_count": 148,
     "metadata": {},
     "output_type": "execute_result"
    }
   ],
   "source": [
    "min(errors)"
   ]
  },
  {
   "cell_type": "code",
   "execution_count": 149,
   "metadata": {},
   "outputs": [
    {
     "data": {
      "text/plain": [
       "0.5999999999999996"
      ]
     },
     "execution_count": 149,
     "metadata": {},
     "output_type": "execute_result"
    }
   ],
   "source": [
    "coefficients[np.argmin(errors)]"
   ]
  },
  {
   "cell_type": "code",
   "execution_count": 121,
   "metadata": {},
   "outputs": [
    {
     "data": {
      "text/plain": [
       "Text(0,0.5,'Negative information gain')"
      ]
     },
     "execution_count": 121,
     "metadata": {},
     "output_type": "execute_result"
    },
    {
     "data": {
      "image/png": "[encoded data removed]",
      "text/plain": [
       "<Figure size 432x288 with 1 Axes>"
      ]
     },
     "metadata": {
      "needs_background": "light"
     },
     "output_type": "display_data"
    }
   ],
   "source": [
    "predictors = [\"ep_x\"]\n",
    "model = ExponentialGrowthModel(\n",
    "    predictors=predictors,\n",
    "    delta_time=delta_time,\n",
    "    l1_lambda=l1_lambda,\n",
    "    cost_function=negative_information_gain\n",
    ")\n",
    "\n",
    "errors = []\n",
    "for coefficient in coefficients:\n",
    "    error = model._fit([coefficient], X_with_pseudocounts, y_with_pseudocounts)\n",
    "    errors.append(error)\n",
    "    \n",
    "plt.plot(coefficients, errors, \"o\")\n",
    "plt.xlabel(\"Epitope cross-immunity coefficient\")\n",
    "plt.ylabel(\"Negative information gain\")"
   ]
  },
  {
   "cell_type": "code",
   "execution_count": 122,
   "metadata": {},
   "outputs": [
    {
     "data": {
      "text/plain": [
       "Text(0,0.5,'Negative information gain')"
      ]
     },
     "execution_count": 122,
     "metadata": {},
     "output_type": "execute_result"
    },
    {
     "data": {
      "image/png": "[encoded data removed]",
      "text/plain": [
       "<Figure size 432x288 with 1 Axes>"
      ]
     },
     "metadata": {
      "needs_background": "light"
     },
     "output_type": "display_data"
    }
   ],
   "source": [
    "predictors = [\"ep_x\"]\n",
    "model = ExponentialGrowthModel(\n",
    "    predictors=predictors,\n",
    "    delta_time=delta_time,\n",
    "    l1_lambda=l1_lambda,\n",
    "    cost_function=negative_information_gain\n",
    ")\n",
    "\n",
    "errors = []\n",
    "for coefficient in coefficients:\n",
    "    error = model._fit([coefficient], X, y)\n",
    "    errors.append(error)\n",
    "    \n",
    "plt.plot(coefficients, errors, \"o\")\n",
    "plt.xlabel(\"Epitope cross-immunity coefficient\")\n",
    "plt.ylabel(\"Negative information gain\")"
   ]
  },
  {
   "cell_type": "code",
   "execution_count": 27,
   "metadata": {},
   "outputs": [
    {
     "name": "stdout",
     "output_type": "stream",
     "text": [
      "Training error for coefficients [-3.0, -3.0]: 100.20858034238022\n",
      "Training error for coefficients [-3.0, -2.7]: 94.88115178353684\n",
      "Training error for coefficients [-3.0, -2.4]: 89.83308343913856\n",
      "Training error for coefficients [-3.0, -2.1]: 85.07415713993974\n",
      "Training error for coefficients [-3.0, -1.8]: 80.62085578658875\n",
      "Training error for coefficients [-3.0, -1.5]: 76.49638622804389\n",
      "Training error for coefficients [-3.0, -1.2000000000000002]: 72.73071704063906\n",
      "Training error for coefficients [-3.0, -0.8999999999999999]: 69.36067166021121\n",
      "Training error for coefficients [-3.0, -0.6000000000000001]: 66.4288979421243\n",
      "Training error for coefficients [-3.0, -0.30000000000000027]: 63.98117046735106\n",
      "Training error for coefficients [-3.0, 0.0]: 62.07117046072003\n",
      "Training error for coefficients [-3.0, 0.2999999999999998]: 60.8107520246768\n",
      "Training error for coefficients [-3.0, 0.5999999999999996]: 60.53060606933494\n",
      "Training error for coefficients [-3.0, 0.8999999999999999]: 61.853781941650865\n",
      "Training error for coefficients [-3.0, 1.2000000000000002]: 65.07824687935774\n",
      "Training error for coefficients [-3.0, 1.5]: 69.9098653578996\n",
      "Training error for coefficients [-3.0, 1.7999999999999998]: 75.92757503327374\n",
      "Training error for coefficients [-3.0, 2.0999999999999996]: 82.81631776251218\n",
      "Training error for coefficients [-3.0, 2.3999999999999995]: 90.40332701792266\n",
      "Training error for coefficients [-3.0, 2.7]: 98.58277476002057\n",
      "Training error for coefficients [-3.0, 3.0]: 107.26361746936331\n",
      "Training error for coefficients [-2.7, -3.0]: 91.82071089341392\n",
      "Training error for coefficients [-2.7, -2.7]: 86.53276778071577\n",
      "Training error for coefficients [-2.7, -2.4]: 81.52689912185883\n",
      "Training error for coefficients [-2.7, -2.1]: 76.81398219820323\n",
      "Training error for coefficients [-2.7, -1.8]: 72.41186369787775\n",
      "Training error for coefficients [-2.7, -1.5]: 68.34547477659936\n",
      "Training error for coefficients [-2.7, -1.2000000000000002]: 64.64685062687525\n",
      "Training error for coefficients [-2.7, -0.8999999999999999]: 61.354667713645284\n",
      "Training error for coefficients [-2.7, -0.6000000000000001]: 58.51175064281719\n",
      "Training error for coefficients [-2.7, -0.30000000000000027]: 56.160741637522634\n",
      "Training error for coefficients [-2.7, 0.0]: 54.349008019085026\n",
      "Training error for coefficients [-2.7, 0.2999999999999998]: 53.17944444747119\n",
      "Training error for coefficients [-2.7, 0.5999999999999996]: 52.967925206665996\n",
      "Training error for coefficients [-2.7, 0.8999999999999999]: 54.331886867213115\n",
      "Training error for coefficients [-2.7, 1.2000000000000002]: 57.59109229756437\n",
      "Training error for coefficients [-2.7, 1.5]: 62.4565464932629\n",
      "Training error for coefficients [-2.7, 1.7999999999999998]: 68.51793207075329\n",
      "Training error for coefficients [-2.7, 2.0999999999999996]: 75.46696906122233\n",
      "Training error for coefficients [-2.7, 2.3999999999999995]: 83.12564901379272\n",
      "Training error for coefficients [-2.7, 2.7]: 91.38229526787828\n",
      "Training error for coefficients [-2.7, 3.0]: 100.14160564502775\n",
      "Training error for coefficients [-2.4, -3.0]: 83.48278976357227\n",
      "Training error for coefficients [-2.4, -2.7]: 78.24092378416128\n",
      "Training error for coefficients [-2.4, -2.4]: 73.28451427420512\n",
      "Training error for coefficients [-2.4, -2.1]: 68.62570599763265\n",
      "Training error for coefficients [-2.4, -1.8]: 64.28394337968771\n",
      "Training error for coefficients [-2.4, -1.5]: 60.286131416649894\n",
      "Training error for coefficients [-2.4, -1.2000000000000002]: 56.66645217028711\n",
      "Training error for coefficients [-2.4, -0.8999999999999999]: 53.4650032864707\n",
      "Training error for coefficients [-2.4, -0.6000000000000001]: 50.72368375815361\n",
      "Training error for coefficients [-2.4, -0.30000000000000027]: 48.48095768529891\n",
      "Training error for coefficients [-2.4, 0.0]: 46.77811222596032\n",
      "Training error for coefficients [-2.4, 0.2999999999999998]: 45.710184231735916\n",
      "Training error for coefficients [-2.4, 0.5999999999999996]: 45.577323211398834\n",
      "Training error for coefficients [-2.4, 0.8999999999999999]: 46.98666419547631\n",
      "Training error for coefficients [-2.4, 1.2000000000000002]: 50.27944072550761\n",
      "Training error for coefficients [-2.4, 1.5]: 55.173408810398506\n",
      "Training error for coefficients [-2.4, 1.7999999999999998]: 61.269168769857444\n",
      "Training error for coefficients [-2.4, 2.0999999999999996]: 68.26751572530603\n",
      "Training error for coefficients [-2.4, 2.3999999999999995]: 75.98615112520466\n",
      "Training error for coefficients [-2.4, 2.7]: 84.30764622309738\n",
      "Training error for coefficients [-2.4, 3.0]: 93.13289824639982\n",
      "Training error for coefficients [-2.1, -3.0]: 75.21123139601687\n",
      "Training error for coefficients [-2.1, -2.7]: 70.02401848302796\n",
      "Training error for coefficients [-2.1, -2.4]: 65.12648480248316\n",
      "Training error for coefficients [-2.1, -2.1]: 60.532255998861466\n",
      "Training error for coefficients [-2.1, -1.8]: 56.26263501026902\n",
      "Training error for coefficients [-2.1, -1.5]: 52.34670387251698\n",
      "Training error for coefficients [-2.1, -1.2000000000000002]: 48.8206674013911\n",
      "Training error for coefficients [-2.1, -0.8999999999999999]: 45.72525981727798\n",
      "Training error for coefficients [-2.1, -0.6000000000000001]: 43.10017290240438\n",
      "Training error for coefficients [-2.1, -0.30000000000000027]: 40.979038515885556\n",
      "Training error for coefficients [-2.1, 0.0]: 39.3978696216496\n",
      "Training error for coefficients [-2.1, 0.2999999999999998]: 38.444769548570946\n",
      "Training error for coefficients [-2.1, 0.5999999999999996]: 38.40204693382474\n",
      "Training error for coefficients [-2.1, 0.8999999999999999]: 39.85986773483896\n",
      "Training error for coefficients [-2.1, 1.2000000000000002]: 43.1805561033523\n",
      "Training error for coefficients [-2.1, 1.5]: 48.09195591349466\n",
      "Training error for coefficients [-2.1, 1.7999999999999998]: 54.20576971368168\n",
      "Training error for coefficients [-2.1, 2.0999999999999996]: 61.23542152143942\n",
      "Training error for coefficients [-2.1, 2.3999999999999995]: 68.99646013228116\n",
      "Training error for coefficients [-2.1, 2.7]: 77.36597317544663\n",
      "Training error for coefficients [-2.1, 3.0]: 86.24137895665994\n",
      "Training error for coefficients [-1.8, -3.0]: 67.02939987448737\n",
      "Training error for coefficients [-1.8, -2.7]: 61.90821285029629\n",
      "Training error for coefficients [-1.8, -2.4]: 57.08200552879889\n",
      "Training error for coefficients [-1.8, -2.1]: 52.56614237459918\n",
      "Training error for coefficients [-1.8, -1.8]: 48.3840443839905\n",
      "Training error for coefficients [-1.8, -1.5]: 44.56704158253251\n",
      "Training error for coefficients [-1.8, -1.2000000000000002]: 41.15290303797916\n",
      "Training error for coefficients [-1.8, -0.8999999999999999]: 38.1818207853251\n",
      "Training error for coefficients [-1.8, -0.6000000000000001]: 35.69000634425444\n",
      "Training error for coefficients [-1.8, -0.30000000000000027]: 33.70616133532801\n",
      "Training error for coefficients [-1.8, 0.0]: 32.2621146765771\n",
      "Training error for coefficients [-1.8, 0.2999999999999998]: 31.43921362186807\n",
      "Training error for coefficients [-1.8, 0.5999999999999996]: 31.498249494330356\n",
      "Training error for coefficients [-1.8, 0.8999999999999999]: 33.00381159661908\n",
      "Training error for coefficients [-1.8, 1.2000000000000002]: 36.33948942155584\n",
      "Training error for coefficients [-1.8, 1.5]: 41.24972086041639\n",
      "Training error for coefficients [-1.8, 1.7999999999999998]: 47.35747100072382\n",
      "Training error for coefficients [-1.8, 2.0999999999999996]: 54.39301002792389\n",
      "Training error for coefficients [-1.8, 2.3999999999999995]: 62.17320915959033\n",
      "Training error for coefficients [-1.8, 2.7]: 70.57009560327393\n",
      "Training error for coefficients [-1.8, 3.0]: 79.47761148093484\n",
      "Training error for coefficients [-1.5, -3.0]: 58.97073141670663\n",
      "Training error for coefficients [-1.5, -2.7]: 53.93069617414778\n",
      "Training error for coefficients [-1.5, -2.4]: 49.192350476585\n",
      "Training error for coefficients [-1.5, -2.1]: 44.773095687679806\n",
      "Training error for coefficients [-1.5, -1.8]: 40.69866879979056\n",
      "Training error for coefficients [-1.5, -1.5]: 37.00245164838053\n",
      "Training error for coefficients [-1.5, -1.2000000000000002]: 33.72284787944348\n",
      "Training error for coefficients [-1.5, -0.8999999999999999]: 30.897988171270036\n",
      "Training error for coefficients [-1.5, -0.6000000000000001]: 28.559578319917097\n",
      "Training error for coefficients [-1.5, -0.30000000000000027]: 26.731788570443037\n",
      "Training error for coefficients [-1.5, 0.0]: 25.443049887431897\n",
      "Training error for coefficients [-1.5, 0.2999999999999998]: 24.766806233790586\n",
      "Training error for coefficients [-1.5, 0.5999999999999996]: 24.93719310366975\n",
      "Training error for coefficients [-1.5, 0.8999999999999999]: 26.483381455500705\n",
      "Training error for coefficients [-1.5, 1.2000000000000002]: 29.811565685272793\n",
      "Training error for coefficients [-1.5, 1.5]: 34.693837475905696\n",
      "Training error for coefficients [-1.5, 1.7999999999999998]: 40.76427736462125\n",
      "Training error for coefficients [-1.5, 2.0999999999999996]: 47.77351247894046\n",
      "Training error for coefficients [-1.5, 2.3999999999999995]: 55.54460549136246\n",
      "Training error for coefficients [-1.5, 2.7]: 63.945351147874405\n",
      "Training error for coefficients [-1.5, 3.0]: 72.86577651161211\n",
      "Training error for coefficients [-1.2000000000000002, -3.0]: 51.08233763109285\n",
      "Training error for coefficients [-1.2000000000000002, -2.7]: 46.143416075683845\n",
      "Training error for coefficients [-1.2000000000000002, -2.4]: 41.51477342402909\n",
      "Training error for coefficients [-1.2000000000000002, -2.1]: 37.21614732102477\n",
      "Training error for coefficients [-1.2000000000000002, -1.8]: 33.275600282825955\n",
      "Training error for coefficients [-1.2000000000000002, -1.5]: 29.72791071377314\n",
      "Training error for coefficients [-1.2000000000000002, -1.2000000000000002]: 26.61062507636762\n",
      "Training error for coefficients [-1.2000000000000002, -0.8999999999999999]: 23.958133738900095\n",
      "Training error for coefficients [-1.2000000000000002, -0.6000000000000001]: 21.79701435300243\n",
      "Training error for coefficients [-1.2000000000000002, -0.30000000000000027]: 20.147381502206684\n",
      "Training error for coefficients [-1.2000000000000002, 0.0]: 19.03399749254337\n",
      "Training error for coefficients [-1.2000000000000002, 0.2999999999999998]: 18.519765096548767\n",
      "Training error for coefficients [-1.2000000000000002, 0.5999999999999996]: 18.806586627947276\n",
      "Training error for coefficients [-1.2000000000000002, 0.8999999999999999]: 20.37842907681066\n",
      "Training error for coefficients [-1.2000000000000002, 1.2000000000000002]: 23.666231411724542\n",
      "Training error for coefficients [-1.2000000000000002, 1.5]: 28.486138388921294\n",
      "Training error for coefficients [-1.2000000000000002, 1.7999999999999998]: 34.48282780763461\n",
      "Training error for coefficients [-1.2000000000000002, 2.0999999999999996]: 41.428248320593255\n",
      "Training error for coefficients [-1.2000000000000002, 2.3999999999999995]: 49.15765000910835\n",
      "Training error for coefficients [-1.2000000000000002, 2.7]: 57.53642013294493\n",
      "Training error for coefficients [-1.2000000000000002, 3.0]: 66.44978217717114\n",
      "Training error for coefficients [-0.8999999999999999, -3.0]: 43.429041240084416\n",
      "Training error for coefficients [-0.8999999999999999, -2.7]: 38.61743961792163\n",
      "Training error for coefficients [-0.8999999999999999, -2.4]: 34.127190974156626\n",
      "Training error for coefficients [-0.8999999999999999, -2.1]: 29.980533853381928\n",
      "Training error for coefficients [-0.8999999999999999, -1.8]: 26.207436295081692\n",
      "Training error for coefficients [-0.8999999999999999, -1.5]: 22.842732610105\n",
      "Training error for coefficients [-0.8999999999999999, -1.2000000000000002]: 19.921092182628808\n",
      "Training error for coefficients [-0.8999999999999999, -0.8999999999999999]: 17.471583260744897\n",
      "Training error for coefficients [-0.8999999999999999, -0.6000000000000001]: 15.515310925461756\n",
      "Training error for coefficients [-0.8999999999999999, -0.30000000000000027]: 14.068162141906654\n",
      "Training error for coefficients [-0.8999999999999999, 0.0]: 13.14948121946783\n",
      "Training error for coefficients [-0.8999999999999999, 0.2999999999999998]: 12.808368172540588\n",
      "Training error for coefficients [-0.8999999999999999, 0.5999999999999996]: 13.210441374332387\n",
      "Training error for coefficients [-0.8999999999999999, 0.8999999999999999]: 14.78582424590331\n",
      "Training error for coefficients [-0.8999999999999999, 1.2000000000000002]: 17.990790015160563\n",
      "Training error for coefficients [-0.8999999999999999, 1.5]: 22.707399101303707\n",
      "Training error for coefficients [-0.8999999999999999, 1.7999999999999998]: 28.59099395849264\n",
      "Training error for coefficients [-0.8999999999999999, 2.0999999999999996]: 35.431474590913936\n",
      "Training error for coefficients [-0.8999999999999999, 2.3999999999999995]: 43.0822386483196\n",
      "Training error for coefficients [-0.8999999999999999, 2.7]: 51.40989654263672\n",
      "Training error for coefficients [-0.8999999999999999, 3.0]: 60.29385997071592\n",
      "Training error for coefficients [-0.6000000000000001, -3.0]: 36.09897987689128\n",
      "Training error for coefficients [-0.6000000000000001, -2.7]: 31.449260565294804\n",
      "Training error for coefficients [-0.6000000000000001, -2.4]: 27.13497193526932\n",
      "Training error for coefficients [-0.6000000000000001, -2.1]: 23.180577595998837\n",
      "Training error for coefficients [-0.6000000000000001, -1.8]: 19.616746788899547\n",
      "Training error for coefficients [-0.6000000000000001, -1.5]: 16.47619451744545\n",
      "Training error for coefficients [-0.6000000000000001, -1.2000000000000002]: 13.788391610293381\n",
      "Training error for coefficients [-0.6000000000000001, -0.8999999999999999]: 11.575757413359629\n",
      "Training error for coefficients [-0.6000000000000001, -0.6000000000000001]: 9.853368165011712\n",
      "Training error for coefficients [-0.6000000000000001, -0.30000000000000027]: 8.63152587291486\n",
      "Training error for coefficients [-0.6000000000000001, 0.0]: 7.921631346442259\n",
      "Training error for coefficients [-0.6000000000000001, 0.2999999999999998]: 7.757123678881838\n",
      "Training error for coefficients [-0.6000000000000001, 0.5999999999999996]: 8.26669241265315\n",
      "Training error for coefficients [-0.6000000000000001, 0.8999999999999999]: 9.819322226585681\n",
      "Training error for coefficients [-0.6000000000000001, 1.2000000000000002]: 12.891280766069658\n",
      "Training error for coefficients [-0.6000000000000001, 1.5]: 17.457223676774028\n",
      "Training error for coefficients [-0.6000000000000001, 1.7999999999999998]: 23.186531726352037\n",
      "Training error for coefficients [-0.6000000000000001, 2.0999999999999996]: 29.87816585583674\n",
      "Training error for coefficients [-0.6000000000000001, 2.3999999999999995]: 37.407213830973404\n",
      "Training error for coefficients [-0.6000000000000001, 2.7]: 45.64763181545426\n",
      "Training error for coefficients [-0.6000000000000001, 3.0]: 54.47310666217419\n",
      "Training error for coefficients [-0.30000000000000027, -3.0]: 29.212726803209783\n",
      "Training error for coefficients [-0.30000000000000027, -2.7]: 24.77039533870418\n",
      "Training error for coefficients [-0.30000000000000027, -2.4]: 20.68035334352357\n",
      "Training error for coefficients [-0.30000000000000027, -2.1]: 16.968134905976868\n",
      "Training error for coefficients [-0.30000000000000027, -1.8]: 13.66284128529916\n",
      "Training error for coefficients [-0.30000000000000027, -1.5]: 10.792218885056744\n",
      "Training error for coefficients [-0.30000000000000027, -1.2000000000000002]: 8.378294209117321\n",
      "Training error for coefficients [-0.30000000000000027, -0.8999999999999999]: 6.43562541312512\n",
      "Training error for coefficients [-0.30000000000000027, -0.6000000000000001]: 4.972000605136683\n",
      "Training error for coefficients [-0.30000000000000027, -0.30000000000000027]: 3.99015534581958\n",
      "Training error for coefficients [-0.30000000000000027, 0.0]: 3.4923203905983744\n",
      "Training error for coefficients [-0.30000000000000027, 0.2999999999999998]: 3.4977323964240874\n",
      "Training error for coefficients [-0.30000000000000027, 0.5999999999999996]: 4.1013104423588285\n",
      "Training error for coefficients [-0.30000000000000027, 0.8999999999999999]: 5.604957783030835\n",
      "Training error for coefficients [-0.30000000000000027, 1.2000000000000002]: 8.48852091986246\n",
      "Training error for coefficients [-0.30000000000000027, 1.5]: 12.847491207691164\n",
      "Training error for coefficients [-0.30000000000000027, 1.7999999999999998]: 18.377660060882892\n",
      "Training error for coefficients [-0.30000000000000027, 2.0999999999999996]: 24.872561469734485\n",
      "Training error for coefficients [-0.30000000000000027, 2.3999999999999995]: 32.22728632458991\n",
      "Training error for coefficients [-0.30000000000000027, 2.7]: 40.33162473334943\n",
      "Training error for coefficients [-0.30000000000000027, 3.0]: 49.05713272084568\n",
      "Training error for coefficients [0.0, -3.0]: 22.93464487042579\n",
      "Training error for coefficients [0.0, -2.7]: 18.756974453399803\n",
      "Training error for coefficients [0.0, -2.4]: 14.94930976756871\n",
      "Training error for coefficients [0.0, -2.1]: 11.5359901880372\n",
      "Training error for coefficients [0.0, -1.8]: 8.541422123862949\n",
      "Training error for coefficients [0.0, -1.5]: 5.98544400388202\n",
      "Training error for coefficients [0.0, -1.2000000000000002]: 3.880703377247434\n",
      "Training error for coefficients [0.0, -0.8999999999999999]: 2.2324913037716927\n",
      "Training error for coefficients [0.0, -0.6000000000000001]: 1.0398139396020427\n",
      "Training error for coefficients [0.0, -0.30000000000000027]: 0.2972881456632282\n",
      "Training error for coefficients [0.0, 0.0]: 5.735060732370406e-15\n",
      "Training error for coefficients [0.0, 0.2999999999999998]: 0.15762894526401489\n",
      "Training error for coefficients [0.0, 0.5999999999999996]: 0.8371178527864935\n",
      "Training error for coefficients [0.0, 0.8999999999999999]: 2.270169798714513\n",
      "Training error for coefficients [0.0, 1.2000000000000002]: 4.9098722684955245\n",
      "Training error for coefficients [0.0, 1.5]: 8.991687328606055\n",
      "Training error for coefficients [0.0, 1.7999999999999998]: 14.269440124029806\n",
      "Training error for coefficients [0.0, 2.0999999999999996]: 20.513401138512744\n",
      "Training error for coefficients [0.0, 2.3999999999999995]: 27.629571535745733\n",
      "Training error for coefficients [0.0, 2.7]: 35.53226047404735\n",
      "Training error for coefficients [0.0, 3.0]: 44.10030148903827\n",
      "Training error for coefficients [0.2999999999999998, -3.0]: 17.4751562058689\n",
      "Training error for coefficients [0.2999999999999998, -2.7]: 13.62622275910707\n",
      "Training error for coefficients [0.2999999999999998, -2.4]: 10.162195386305013\n",
      "Training error for coefficients [0.2999999999999998, -2.1]: 7.103205501562446\n",
      "Training error for coefficients [0.2999999999999998, -1.8]: 4.465642982412696\n",
      "Training error for coefficients [0.2999999999999998, -1.5]: 2.258819219183166\n",
      "Training error for coefficients [0.2999999999999998, -1.2000000000000002]: 0.48425069198124393\n",
      "Training error for coefficients [0.2999999999999998, -0.8999999999999999]: -0.8631351325969729\n",
      "Training error for coefficients [0.2999999999999998, -0.6000000000000001]: -1.792807251401422\n",
      "Training error for coefficients [0.2999999999999998, -0.30000000000000027]: -2.3155271072886707\n",
      "Training error for coefficients [0.2999999999999998, 0.0]: -2.4385900596820047\n",
      "Training error for coefficients [0.2999999999999998, 0.2999999999999998]: -2.1562641468345833\n",
      "Training error for coefficients [0.2999999999999998, 0.5999999999999996]: -1.4226146182120765\n",
      "Training error for coefficients [0.2999999999999998, 0.8999999999999999]: -0.07339533389995534\n",
      "Training error for coefficients [0.2999999999999998, 1.2000000000000002]: 2.2786661948594524\n",
      "Training error for coefficients [0.2999999999999998, 1.5]: 5.997141882204467\n",
      "Training error for coefficients [0.2999999999999998, 1.7999999999999998]: 10.954722807531876\n",
      "Training error for coefficients [0.2999999999999998, 2.0999999999999996]: 16.887244520894487\n",
      "Training error for coefficients [0.2999999999999998, 2.3999999999999995]: 23.69213633368839\n",
      "Training error for coefficients [0.2999999999999998, 2.7]: 31.31224642347236\n",
      "Training error for coefficients [0.2999999999999998, 3.0]: 39.64839530516042\n",
      "Training error for coefficients [0.5999999999999996, -3.0]: 13.064355231191698\n",
      "Training error for coefficients [0.5999999999999996, -2.7]: 9.604345433370812\n",
      "Training error for coefficients [0.5999999999999996, -2.4]: 6.537737242146339\n",
      "Training error for coefficients [0.5999999999999996, -2.1]: 3.8767459168847007\n",
      "Training error for coefficients [0.5999999999999996, -1.8]: 1.6262354686016478\n",
      "Training error for coefficients [0.5999999999999996, -1.5]: -0.21730556381574906\n",
      "Training error for coefficients [0.5999999999999996, -1.2000000000000002]: -1.66412927041014\n",
      "Training error for coefficients [0.5999999999999996, -0.8999999999999999]: -2.7281901992961837\n",
      "Training error for coefficients [0.5999999999999996, -0.6000000000000001]: -3.4237046761761962\n",
      "Training error for coefficients [0.5999999999999996, -0.30000000000000027]: -3.7618404144033772\n",
      "Training error for coefficients [0.5999999999999996, 0.0]: -3.7475112185312054\n",
      "Training error for coefficients [0.5999999999999996, 0.2999999999999998]: -3.374488712341413\n",
      "Training error for coefficients [0.5999999999999996, 0.5999999999999996]: -2.6108040976904405\n",
      "Training error for coefficients [0.5999999999999996, 0.8999999999999999]: -1.3493974626358485\n",
      "Training error for coefficients [0.5999999999999996, 1.2000000000000002]: 0.7001511447260915\n",
      "Training error for coefficients [0.5999999999999996, 1.5]: 3.965920487035344\n",
      "Training error for coefficients [0.5999999999999996, 1.7999999999999998]: 8.514801063939196\n",
      "Training error for coefficients [0.5999999999999996, 2.0999999999999996]: 14.07247605243387\n",
      "Training error for coefficients [0.5999999999999996, 2.3999999999999995]: 20.493915631584713\n",
      "Training error for coefficients [0.5999999999999996, 2.7]: 27.74272474158331\n",
      "Training error for coefficients [0.5999999999999996, 3.0]: 35.756405499135056\n",
      "Training error for coefficients [0.8999999999999999, -3.0]: 9.899527123878428\n",
      "Training error for coefficients [0.8999999999999999, -2.7]: 6.8762173127571815\n",
      "Training error for coefficients [0.8999999999999999, -2.4]: 4.244313538598395\n",
      "Training error for coefficients [0.8999999999999999, -2.1]: 2.003169789424728\n",
      "Training error for coefficients [0.8999999999999999, -1.8]: 0.14339837032401914\n",
      "Training error for coefficients [0.8999999999999999, -1.5]: -1.3509246163693063\n",
      "Training error for coefficients [0.8999999999999999, -1.2000000000000002]: -2.4985906310476445\n",
      "Training error for coefficients [0.8999999999999999, -0.8999999999999999]: -3.317474416261246\n",
      "Training error for coefficients [0.8999999999999999, -0.6000000000000001]: -3.8213382997775027\n",
      "Training error for coefficients [0.8999999999999999, -0.30000000000000027]: -4.01755630061888\n",
      "Training error for coefficients [0.8999999999999999, 0.0]: -3.9057992667363868\n",
      "Training error for coefficients [0.8999999999999999, 0.2999999999999998]: -3.47680226668318\n",
      "Training error for coefficients [0.8999999999999999, 0.5999999999999996]: -2.706665666506762\n",
      "Training error for coefficients [0.8999999999999999, 0.8999999999999999]: -1.5303951974440761\n",
      "Training error for coefficients [0.8999999999999999, 1.2000000000000002]: 0.2400980486434383\n",
      "Training error for coefficients [0.8999999999999999, 1.5]: 2.997849771932968\n",
      "Training error for coefficients [0.8999999999999999, 1.7999999999999998]: 7.02767409674654\n",
      "Training error for coefficients [0.8999999999999999, 2.0999999999999996]: 12.142951504355256\n",
      "Training error for coefficients [0.8999999999999999, 2.3999999999999995]: 18.121279516310068\n",
      "Training error for coefficients [0.8999999999999999, 2.7]: 24.915948507730256\n",
      "Training error for coefficients [0.8999999999999999, 3.0]: 32.50591882344777\n",
      "Training error for coefficients [1.2000000000000002, -3.0]: 8.105024383464336\n",
      "Training error for coefficients [1.2000000000000002, -2.7]: 5.545803817251764\n",
      "Training error for coefficients [1.2000000000000002, -2.4]: 3.3580509110826657\n",
      "Training error for coefficients [1.2000000000000002, -2.1]: 1.5262203924317226\n",
      "Training error for coefficients [1.2000000000000002, -1.8]: 0.029051246959372445\n",
      "Training error for coefficients [1.2000000000000002, -1.5]: -1.156675413990942\n",
      "Training error for coefficients [1.2000000000000002, -1.2000000000000002]: -2.052387347993716\n",
      "Training error for coefficients [1.2000000000000002, -0.8999999999999999]: -2.674577628600958\n",
      "Training error for coefficients [1.2000000000000002, -0.6000000000000001]: -3.0326153460348557\n",
      "Training error for coefficients [1.2000000000000002, -0.30000000000000027]: -3.1277414868750704\n",
      "Training error for coefficients [1.2000000000000002, 0.0]: -2.953407563545137\n",
      "Training error for coefficients [1.2000000000000002, 0.2999999999999998]: -2.496680717669288\n",
      "Training error for coefficients [1.2000000000000002, 0.5999999999999996]: -1.7381320418979531\n",
      "Training error for coefficients [1.2000000000000002, 0.8999999999999999]: -0.6402136871129989\n",
      "Training error for coefficients [1.2000000000000002, 1.2000000000000002]: 0.9026456679703325\n",
      "Training error for coefficients [1.2000000000000002, 1.5]: 3.1732246019229473\n",
      "Training error for coefficients [1.2000000000000002, 1.7999999999999998]: 6.579268412606549\n",
      "Training error for coefficients [1.2000000000000002, 2.0999999999999996]: 11.164743725125948\n",
      "Training error for coefficients [1.2000000000000002, 2.3999999999999995]: 16.65804796074635\n",
      "Training error for coefficients [1.2000000000000002, 2.7]: 22.940067250901187\n",
      "Training error for coefficients [1.2000000000000002, 3.0]: 30.011526824542134\n",
      "Training error for coefficients [1.5, -3.0]: 7.711709315865897\n",
      "Training error for coefficients [1.5, -2.7]: 5.610134311037868\n",
      "Training error for coefficients [1.5, -2.4]: 3.8401001226590914\n",
      "Training error for coefficients [1.5, -2.1]: 2.3753452343544934\n",
      "Training error for coefficients [1.5, -1.8]: 1.188665701154946\n",
      "Training error for coefficients [1.5, -1.5]: 0.25557929180593364\n",
      "Training error for coefficients [1.5, -1.2000000000000002]: -0.44268578664070296\n",
      "Training error for coefficients [1.5, -0.8999999999999999]: -0.9172318386537255\n",
      "Training error for coefficients [1.5, -0.6000000000000001]: -1.1706296241096152\n",
      "Training error for coefficients [1.5, -0.30000000000000027]: -1.1971869861042133\n",
      "Training error for coefficients [1.5, 0.0]: -0.9846210130384769\n",
      "Training error for coefficients [1.5, 0.2999999999999998]: -0.5172256477871877\n",
      "Training error for coefficients [1.5, 0.5999999999999996]: 0.22125757574270777\n",
      "Training error for coefficients [1.5, 0.8999999999999999]: 1.2515242613757371\n",
      "Training error for coefficients [1.5, 1.2000000000000002]: 2.625257736679381\n",
      "Training error for coefficients [1.5, 1.5]: 4.505219613910372\n",
      "Training error for coefficients [1.5, 1.7999999999999998]: 7.25963712717843\n",
      "Training error for coefficients [1.5, 2.0999999999999996]: 11.198181708303053\n",
      "Training error for coefficients [1.5, 2.3999999999999995]: 16.161165624743987\n",
      "Training error for coefficients [1.5, 2.7]: 21.909142832007888\n",
      "Training error for coefficients [1.5, 3.0]: 28.401686808078615\n",
      "Training error for coefficients [1.7999999999999998, -3.0]: 8.654772071120407\n",
      "Training error for coefficients [1.7999999999999998, -2.7]: 6.970415541094287\n",
      "Training error for coefficients [1.7999999999999998, -2.4]: 5.563556182444394\n",
      "Training error for coefficients [1.7999999999999998, -2.1]: 4.4031901130235696\n",
      "Training error for coefficients [1.7999999999999998, -1.8]: 3.4624172841391343\n",
      "Training error for coefficients [1.7999999999999998, -1.5]: 2.7211274400774146\n",
      "Training error for coefficients [1.7999999999999998, -1.2000000000000002]: 2.167363918790278\n",
      "Training error for coefficients [1.7999999999999998, -0.8999999999999999]: 1.7976890728161932\n",
      "Training error for coefficients [1.7999999999999998, -0.6000000000000001]: 1.6168881676741897\n",
      "Training error for coefficients [1.7999999999999998, -0.30000000000000027]: 1.6368774829231074\n",
      "Training error for coefficients [1.7999999999999998, 0.0]: 1.8741736073969788\n",
      "Training error for coefficients [1.7999999999999998, 0.2999999999999998]: 2.345660356341469\n",
      "Training error for coefficients [1.7999999999999998, 0.5999999999999996]: 3.0644873144935305\n",
      "Training error for coefficients [1.7999999999999998, 0.8999999999999999]: 4.040911949259572\n",
      "Training error for coefficients [1.7999999999999998, 1.2000000000000002]: 5.29614115249887\n",
      "Training error for coefficients [1.7999999999999998, 1.5]: 6.9073342656069485\n",
      "Training error for coefficients [1.7999999999999998, 1.7999999999999998]: 9.109715310918446\n",
      "Training error for coefficients [1.7999999999999998, 2.0999999999999996]: 12.311238092148262\n",
      "Training error for coefficients [1.7999999999999998, 2.3999999999999995]: 16.65100673775232\n",
      "Training error for coefficients [1.7999999999999998, 2.7]: 21.860803679054747\n",
      "Training error for coefficients [1.7999999999999998, 3.0]: 27.76928572693445\n",
      "Training error for coefficients [2.0999999999999996, -3.0]: 10.811896580832213\n",
      "Training error for coefficients [2.0999999999999996, -2.7]: 9.477588003813427\n",
      "Training error for coefficients [2.0999999999999996, -2.4]: 8.359791581837804\n",
      "Training error for coefficients [2.0999999999999996, -2.1]: 7.430361238364728\n",
      "Training error for coefficients [2.0999999999999996, -1.8]: 6.668954141462487\n",
      "Training error for coefficients [2.0999999999999996, -1.5]: 6.0636481246186325\n",
      "Training error for coefficients [2.0999999999999996, -1.2000000000000002]: 5.61068649687612\n",
      "Training error for coefficients [2.0999999999999996, -0.8999999999999999]: 5.313960753240641\n",
      "Training error for coefficients [2.0999999999999996, -0.6000000000000001]: 5.184344417908218\n",
      "Training error for coefficients [2.0999999999999996, -0.30000000000000027]: 5.2382912198886675\n",
      "Training error for coefficients [2.0999999999999996, 0.0]: 5.494725312061257\n",
      "Training error for coefficients [2.0999999999999996, 0.2999999999999998]: 5.970151147301655\n",
      "Training error for coefficients [2.0999999999999996, 0.5999999999999996]: 6.6743533108215995\n",
      "Training error for coefficients [2.0999999999999996, 0.8999999999999999]: 7.610707555106655\n",
      "Training error for coefficients [2.0999999999999996, 1.2000000000000002]: 8.784400688257518\n",
      "Training error for coefficients [2.0999999999999996, 1.5]: 10.225160143946148\n",
      "Training error for coefficients [2.0999999999999996, 1.7999999999999998]: 12.048153441872252\n",
      "Training error for coefficients [2.0999999999999996, 2.0999999999999996]: 14.560993821786766\n",
      "Training error for coefficients [2.0999999999999996, 2.3999999999999995]: 18.146707801097662\n",
      "Training error for coefficients [2.0999999999999996, 2.7]: 22.766491977233066\n",
      "Training error for coefficients [2.0999999999999996, 3.0]: 28.12455293255718\n",
      "Training error for coefficients [2.3999999999999995, -3.0]: 14.028851484128484\n",
      "Training error for coefficients [2.3999999999999995, -2.7]: 12.958662560633677\n",
      "Training error for coefficients [2.3999999999999995, -2.4]: 12.049047889794725\n",
      "Training error for coefficients [2.3999999999999995, -2.1]: 11.280823835168945\n",
      "Training error for coefficients [2.3999999999999995, -1.8]: 10.642805551912462\n",
      "Training error for coefficients [2.3999999999999995, -1.5]: 10.131142846034644\n",
      "Training error for coefficients [2.3999999999999995, -1.2000000000000002]: 9.748710379334973\n",
      "Training error for coefficients [2.3999999999999995, -0.8999999999999999]: 9.504710517055294\n",
      "Training error for coefficients [2.3999999999999995, -0.6000000000000001]: 9.414142440582616\n",
      "Training error for coefficients [2.3999999999999995, -0.30000000000000027]: 9.496205855044582\n",
      "Training error for coefficients [2.3999999999999995, 0.0]: 9.770616102424599\n",
      "Training error for coefficients [2.3999999999999995, 0.2999999999999998]: 10.252277922343922\n",
      "Training error for coefficients [2.3999999999999995, 0.5999999999999996]: 10.947369432389088\n",
      "Training error for coefficients [2.3999999999999995, 0.8999999999999999]: 11.854240611389859\n",
      "Training error for coefficients [2.3999999999999995, 1.2000000000000002]: 12.969563180847633\n",
      "Training error for coefficients [2.3999999999999995, 1.5]: 14.30013147794849\n",
      "Training error for coefficients [2.3999999999999995, 1.7999999999999998]: 15.891390862948349\n",
      "Training error for coefficients [2.3999999999999995, 2.0999999999999996]: 17.90401966288111\n",
      "Training error for coefficients [2.3999999999999995, 2.3999999999999995]: 20.703911883948322\n",
      "Training error for coefficients [2.3999999999999995, 2.7]: 24.59555643797122\n",
      "Training error for coefficients [2.3999999999999995, 3.0]: 29.39967085273728\n",
      "Training error for coefficients [2.7, -3.0]: 18.131794988283524\n",
      "Training error for coefficients [2.7, -2.7]: 17.242241624454973\n",
      "Training error for coefficients [2.7, -2.4]: 16.472411526241466\n",
      "Training error for coefficients [2.7, -2.1]: 15.81267183065076\n",
      "Training error for coefficients [2.7, -1.8]: 15.259372576429373\n",
      "Training error for coefficients [2.7, -1.5]: 14.814259888629357\n",
      "Training error for coefficients [2.7, -1.2000000000000002]: 14.484358370179587\n",
      "Training error for coefficients [2.7, -0.8999999999999999]: 14.282062122448615\n",
      "Training error for coefficients [2.7, -0.6000000000000001]: 14.224772732808692\n",
      "Training error for coefficients [2.7, -0.30000000000000027]: 14.332976277042391\n",
      "Training error for coefficients [2.7, 0.0]: 14.625910691561252\n",
      "Training error for coefficients [2.7, 0.2999999999999998]: 15.115984642672622\n",
      "Training error for coefficients [2.7, 0.5999999999999996]: 15.805590642461372\n",
      "Training error for coefficients [2.7, 0.8999999999999999]: 16.688987047998367\n",
      "Training error for coefficients [2.7, 1.2000000000000002]: 17.757863254194028\n",
      "Training error for coefficients [2.7, 1.5]: 19.008420840744115\n",
      "Training error for coefficients [2.7, 1.7999999999999998]: 20.45390746099772\n",
      "Training error for coefficients [2.7, 2.0999999999999996]: 22.16096225696726\n",
      "Training error for coefficients [2.7, 2.3999999999999995]: 24.34199028657659\n",
      "Training error for coefficients [2.7, 2.7]: 27.400996475963364\n",
      "Training error for coefficients [2.7, 3.0]: 31.533177561138984\n",
      "Training error for coefficients [3.0, -3.0]: 22.96015316162409\n",
      "Training error for coefficients [3.0, -2.7]: 22.18917523470349\n",
      "Training error for coefficients [3.0, -2.4]: 21.512941541927\n",
      "Training error for coefficients [3.0, -2.1]: 20.928514469422147\n",
      "Training error for coefficients [3.0, -1.8]: 20.436903662033064\n",
      "Training error for coefficients [3.0, -1.5]: 20.043027989586797\n",
      "Training error for coefficients [3.0, -1.2000000000000002]: 19.756147076767057\n",
      "Training error for coefficients [3.0, -0.8999999999999999]: 19.59033602040047\n",
      "Training error for coefficients [3.0, -0.6000000000000001]: 19.56414106455015\n",
      "Training error for coefficients [3.0, -0.30000000000000027]: 19.6981931898177\n",
      "Training error for coefficients [3.0, 0.0]: 20.010233222819437\n",
      "Training error for coefficients [3.0, 0.2999999999999998]: 20.509503353351757\n",
      "Training error for coefficients [3.0, 0.5999999999999996]: 21.194529453106533\n",
      "Training error for coefficients [3.0, 0.8999999999999999]: 22.056079631538886\n",
      "Training error for coefficients [3.0, 1.2000000000000002]: 23.08271416375047\n",
      "Training error for coefficients [3.0, 1.5]: 24.266000263591305\n",
      "Training error for coefficients [3.0, 1.7999999999999998]: 25.6065472893664\n",
      "Training error for coefficients [3.0, 2.0999999999999996]: 27.128945021221213\n",
      "Training error for coefficients [3.0, 2.3999999999999995]: 28.92822986180326\n",
      "Training error for coefficients [3.0, 2.7]: 31.272417901744497\n",
      "Training error for coefficients [3.0, 3.0]: 34.575908875753676\n"
     ]
    }
   ],
   "source": [
    "predictors = [\"lbi\", \"ep_x\"]\n",
    "delta_time = 1.0\n",
    "l1_lambda = 0.0\n",
    "\n",
    "model = ExponentialGrowthModel(\n",
    "    predictors=predictors,\n",
    "    delta_time=delta_time,\n",
    "    l1_lambda=l1_lambda,\n",
    "    cost_function=negative_information_gain\n",
    ")\n",
    "\n",
    "records = []\n",
    "errors_by_first_coefficient = {}\n",
    "for coefficient_i in coefficients:\n",
    "    errors = []\n",
    "    for coefficient_j in coefficients:\n",
    "        error = model._fit([coefficient_i, coefficient_j], X_with_pseudocounts, y_with_pseudocounts)\n",
    "        errors.append(error)\n",
    "        records.append({\n",
    "            \"lbi\": coefficient_i,\n",
    "            \"ep_x\": coefficient_j,\n",
    "            \"error\": error\n",
    "        })\n",
    "    \n",
    "    errors_by_first_coefficient[coefficient_i] = errors"
   ]
  },
  {
   "cell_type": "code",
   "execution_count": 28,
   "metadata": {},
   "outputs": [
    {
     "data": {
      "image/png": "[encoded data removed]",
      "text/plain": [
       "<Figure size 1440x1440 with 24 Axes>"
      ]
     },
     "metadata": {
      "needs_background": "light"
     },
     "output_type": "display_data"
    }
   ],
   "source": [
    "fig, axes = plt.subplots(6, 4, figsize=(20, 20), gridspec_kw={\"hspace\": 0.75}, sharey=True)\n",
    "\n",
    "for ci, coefficient_i in enumerate(sorted(errors_by_first_coefficient.keys())):\n",
    "    ax = axes.flatten()[ci]\n",
    "    \n",
    "    errors = errors_by_first_coefficient[coefficient_i]\n",
    "    ax.plot(coefficients, errors, \"o\")\n",
    "    ax.set_xlabel(\"Epitope cross-immunity model coefficient\")\n",
    "    ax.set_ylabel(\"Negative information gain\")\n",
    "    ax.set_title(\"LBI coefficient: %.2f\" % coefficient_i)"
   ]
  },
  {
   "cell_type": "code",
   "execution_count": 29,
   "metadata": {},
   "outputs": [
    {
     "data": {
      "text/html": [
       "<div>\n",
       "<style scoped>\n",
       "    .dataframe tbody tr th:only-of-type {\n",
       "        vertical-align: middle;\n",
       "    }\n",
       "\n",
       "    .dataframe tbody tr th {\n",
       "        vertical-align: top;\n",
       "    }\n",
       "\n",
       "    .dataframe thead th {\n",
       "        text-align: right;\n",
       "    }\n",
       "</style>\n",
       "<table border=\"1\" class=\"dataframe\">\n",
       "  <thead>\n",
       "    <tr style=\"text-align: right;\">\n",
       "      <th></th>\n",
       "      <th>ep_x</th>\n",
       "      <th>error</th>\n",
       "      <th>lbi</th>\n",
       "    </tr>\n",
       "  </thead>\n",
       "  <tbody>\n",
       "    <tr>\n",
       "      <th>282</th>\n",
       "      <td>-0.3</td>\n",
       "      <td>-4.017556</td>\n",
       "      <td>0.9</td>\n",
       "    </tr>\n",
       "    <tr>\n",
       "      <th>283</th>\n",
       "      <td>0.0</td>\n",
       "      <td>-3.905799</td>\n",
       "      <td>0.9</td>\n",
       "    </tr>\n",
       "    <tr>\n",
       "      <th>281</th>\n",
       "      <td>-0.6</td>\n",
       "      <td>-3.821338</td>\n",
       "      <td>0.9</td>\n",
       "    </tr>\n",
       "    <tr>\n",
       "      <th>261</th>\n",
       "      <td>-0.3</td>\n",
       "      <td>-3.761840</td>\n",
       "      <td>0.6</td>\n",
       "    </tr>\n",
       "    <tr>\n",
       "      <th>262</th>\n",
       "      <td>0.0</td>\n",
       "      <td>-3.747511</td>\n",
       "      <td>0.6</td>\n",
       "    </tr>\n",
       "  </tbody>\n",
       "</table>\n",
       "</div>"
      ],
      "text/plain": [
       "     ep_x     error  lbi\n",
       "282  -0.3 -4.017556  0.9\n",
       "283   0.0 -3.905799  0.9\n",
       "281  -0.6 -3.821338  0.9\n",
       "261  -0.3 -3.761840  0.6\n",
       "262   0.0 -3.747511  0.6"
      ]
     },
     "execution_count": 29,
     "metadata": {},
     "output_type": "execute_result"
    }
   ],
   "source": [
    "records_df = pd.DataFrame(records)\n",
    "records_df.sort_values(\"error\").head()"
   ]
  },
  {
   "cell_type": "markdown",
   "metadata": {},
   "source": [
    "## Sweep through L1 hyperparameters to find value that minimizes error"
   ]
  },
  {
   "cell_type": "code",
   "execution_count": null,
   "metadata": {},
   "outputs": [],
   "source": [
    "predictors = [\"lbi\"]\n",
    "model = ExponentialGrowthModel(\n",
    "    predictors=predictors,\n",
    "    delta_time=delta_time,\n",
    "    l1_lambda=l1_lambda,\n",
    "    cost_function=negative_information_gain\n",
    ")\n",
    "\n",
    "errors = []\n",
    "for coefficient in coefficients:\n",
    "    error = model._fit([coefficient], X, y)\n",
    "    errors.append(error)\n",
    "    \n",
    "plt.plot(coefficients, errors, \"o\")\n",
    "plt.xlabel(\"LBI coefficient\")\n",
    "plt.ylabel(\"Negative information gain\")"
   ]
  }
 ],
 "metadata": {
  "kernelspec": {
   "display_name": "Python 3",
   "language": "python",
   "name": "python3"
  },
  "language_info": {
   "codemirror_mode": {
    "name": "ipython",
    "version": 3
   },
   "file_extension": ".py",
   "mimetype": "text/x-python",
   "name": "python",
   "nbconvert_exporter": "python",
   "pygments_lexer": "ipython3",
   "version": "3.6.7"
  }
 },
 "nbformat": 4,
 "nbformat_minor": 2
}
