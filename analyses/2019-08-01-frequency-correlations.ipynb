{
 "cells": [
  {
   "cell_type": "markdown",
   "metadata": {},
   "source": [
    "# Frequency correlation plots\n",
    "\n",
    "Example code for how to calculate frequency correlation plots from augur forecasting builds."
   ]
  },
  {
   "cell_type": "code",
   "execution_count": 1,
   "metadata": {},
   "outputs": [],
   "source": [
    "import altair as alt\n",
    "import numpy as np\n",
    "import pandas as pd\n",
    "from scipy.stats import pearsonr"
   ]
  },
  {
   "cell_type": "code",
   "execution_count": 2,
   "metadata": {},
   "outputs": [
    {
     "name": "stdout",
     "output_type": "stream",
     "text": [
      "/Users/jlhudd/projects/nextstrain/flu-forecasting/analyses\n"
     ]
    }
   ],
   "source": [
    "!pwd"
   ]
  },
  {
   "cell_type": "code",
   "execution_count": 3,
   "metadata": {},
   "outputs": [],
   "source": [
    "def matthews_correlation_coefficient(tp, tn, fp, fn):\n",
    "    \"\"\"Return Matthews correlation coefficient for values from a confusion matrix.\n",
    "    Implementation is based on the definition from wikipedia:\n",
    "\n",
    "    https://en.wikipedia.org/wiki/Matthews_correlation_coefficient\n",
    "    \"\"\"\n",
    "    numerator = (tp * tn) - (fp * fn)\n",
    "    denominator = np.sqrt((tp + fp) * (tp + fn) * (tn + fp) * (tn + fn))\n",
    "    if denominator == 0:\n",
    "            denominator = 1\n",
    "\n",
    "    return float(numerator) / denominator\n",
    "\n",
    "def get_matthews_correlation_coefficient_for_data_frame(freq_df, return_confusion_matrix=False):\n",
    "        \"\"\"Calculate Matthew's correlation coefficient from a given pandas data frame\n",
    "        with columns for initial, observed, and predicted frequencies.\n",
    "        \"\"\"\n",
    "        observed_growth = (freq_df[\"frequency_final\"] > freq_df[\"frequency\"])\n",
    "        predicted_growth = (freq_df[\"projected_frequency\"] > freq_df[\"frequency\"])\n",
    "        true_positives = ((observed_growth) & (predicted_growth)).sum()\n",
    "        false_positives= ((~observed_growth) & (predicted_growth)).sum()\n",
    "\n",
    "        observed_decline = (freq_df[\"frequency_final\"] <= freq_df[\"frequency\"])\n",
    "        predicted_decline = (freq_df[\"projected_frequency\"] <= freq_df[\"frequency\"])\n",
    "        true_negatives = ((observed_decline) & (predicted_decline)).sum()\n",
    "        false_negatives = ((~observed_decline) & (predicted_decline)).sum()\n",
    "\n",
    "        mcc = matthews_correlation_coefficient(\n",
    "            true_positives,\n",
    "            true_negatives,\n",
    "            false_positives,\n",
    "            false_negatives\n",
    "        )\n",
    "\n",
    "        if return_confusion_matrix:\n",
    "            confusion_matrix = {\n",
    "                \"tp\": true_positives,\n",
    "                \"tn\": true_negatives,\n",
    "                \"fp\": false_positives,\n",
    "                \"fn\": false_negatives\n",
    "            }\n",
    "            \n",
    "            return mcc, confusion_matrix\n",
    "        else:\n",
    "            return mcc"
   ]
  },
  {
   "cell_type": "markdown",
   "metadata": {},
   "source": [
    "## Load data"
   ]
  },
  {
   "cell_type": "code",
   "execution_count": 4,
   "metadata": {},
   "outputs": [],
   "source": [
    "data_root = \"../results/builds/simulated/simulated_sample_0/\""
   ]
  },
  {
   "cell_type": "code",
   "execution_count": 5,
   "metadata": {},
   "outputs": [],
   "source": [
    "tips = pd.read_csv(\n",
    "    \"%s/tip_attributes_with_weighted_distances.tsv\" % data_root,\n",
    "    sep=\"\\t\",\n",
    "    parse_dates=[\"timepoint\"],\n",
    "    usecols=[\"strain\", \"timepoint\", \"frequency\"]\n",
    ")"
   ]
  },
  {
   "cell_type": "code",
   "execution_count": 6,
   "metadata": {},
   "outputs": [
    {
     "data": {
      "text/html": [
       "<div>\n",
       "<style scoped>\n",
       "    .dataframe tbody tr th:only-of-type {\n",
       "        vertical-align: middle;\n",
       "    }\n",
       "\n",
       "    .dataframe tbody tr th {\n",
       "        vertical-align: top;\n",
       "    }\n",
       "\n",
       "    .dataframe thead th {\n",
       "        text-align: right;\n",
       "    }\n",
       "</style>\n",
       "<table border=\"1\" class=\"dataframe\">\n",
       "  <thead>\n",
       "    <tr style=\"text-align: right;\">\n",
       "      <th></th>\n",
       "      <th>strain</th>\n",
       "      <th>timepoint</th>\n",
       "      <th>frequency</th>\n",
       "    </tr>\n",
       "  </thead>\n",
       "  <tbody>\n",
       "    <tr>\n",
       "      <th>0</th>\n",
       "      <td>sample_1092_1</td>\n",
       "      <td>2011-10-01</td>\n",
       "      <td>0.000001</td>\n",
       "    </tr>\n",
       "  </tbody>\n",
       "</table>\n",
       "</div>"
      ],
      "text/plain": [
       "          strain  timepoint  frequency\n",
       "0  sample_1092_1 2011-10-01   0.000001"
      ]
     },
     "execution_count": 6,
     "metadata": {},
     "output_type": "execute_result"
    }
   ],
   "source": [
    "tips.head(1)"
   ]
  },
  {
   "cell_type": "code",
   "execution_count": 7,
   "metadata": {},
   "outputs": [],
   "source": [
    "tips_to_clades = pd.read_csv(\"%s/tips_to_clades.tsv\" % data_root, sep=\"\\t\", parse_dates=[\"timepoint\"])"
   ]
  },
  {
   "cell_type": "code",
   "execution_count": 8,
   "metadata": {},
   "outputs": [
    {
     "data": {
      "text/html": [
       "<div>\n",
       "<style scoped>\n",
       "    .dataframe tbody tr th:only-of-type {\n",
       "        vertical-align: middle;\n",
       "    }\n",
       "\n",
       "    .dataframe tbody tr th {\n",
       "        vertical-align: top;\n",
       "    }\n",
       "\n",
       "    .dataframe thead th {\n",
       "        text-align: right;\n",
       "    }\n",
       "</style>\n",
       "<table border=\"1\" class=\"dataframe\">\n",
       "  <thead>\n",
       "    <tr style=\"text-align: right;\">\n",
       "      <th></th>\n",
       "      <th>tip</th>\n",
       "      <th>clade_membership</th>\n",
       "      <th>depth</th>\n",
       "      <th>timepoint</th>\n",
       "    </tr>\n",
       "  </thead>\n",
       "  <tbody>\n",
       "    <tr>\n",
       "      <th>0</th>\n",
       "      <td>sample_1016_4</td>\n",
       "      <td>6657900</td>\n",
       "      <td>0</td>\n",
       "      <td>2011-10-01</td>\n",
       "    </tr>\n",
       "  </tbody>\n",
       "</table>\n",
       "</div>"
      ],
      "text/plain": [
       "             tip clade_membership  depth  timepoint\n",
       "0  sample_1016_4          6657900      0 2011-10-01"
      ]
     },
     "execution_count": 8,
     "metadata": {},
     "output_type": "execute_result"
    }
   ],
   "source": [
    "tips_to_clades.head(1)"
   ]
  },
  {
   "cell_type": "code",
   "execution_count": 9,
   "metadata": {},
   "outputs": [],
   "source": [
    "forecasts = pd.read_csv(\n",
    "    \"%s/simulated_sample_0_lbi_forecast.tsv\" % data_root,\n",
    "    sep=\"\\t\",\n",
    "    parse_dates=[\"timepoint\"],\n",
    "    usecols=[\"timepoint\", \"strain\", \"fitness\", \"frequency\", \"projected_frequency\"]\n",
    ")"
   ]
  },
  {
   "cell_type": "code",
   "execution_count": 10,
   "metadata": {},
   "outputs": [
    {
     "data": {
      "text/html": [
       "<div>\n",
       "<style scoped>\n",
       "    .dataframe tbody tr th:only-of-type {\n",
       "        vertical-align: middle;\n",
       "    }\n",
       "\n",
       "    .dataframe tbody tr th {\n",
       "        vertical-align: top;\n",
       "    }\n",
       "\n",
       "    .dataframe thead th {\n",
       "        text-align: right;\n",
       "    }\n",
       "</style>\n",
       "<table border=\"1\" class=\"dataframe\">\n",
       "  <thead>\n",
       "    <tr style=\"text-align: right;\">\n",
       "      <th></th>\n",
       "      <th>timepoint</th>\n",
       "      <th>strain</th>\n",
       "      <th>frequency</th>\n",
       "      <th>fitness</th>\n",
       "      <th>projected_frequency</th>\n",
       "    </tr>\n",
       "  </thead>\n",
       "  <tbody>\n",
       "    <tr>\n",
       "      <th>0</th>\n",
       "      <td>2011-10-01</td>\n",
       "      <td>sample_1092_1</td>\n",
       "      <td>0.000001</td>\n",
       "      <td>-10.084649</td>\n",
       "      <td>7.927373e-14</td>\n",
       "    </tr>\n",
       "  </tbody>\n",
       "</table>\n",
       "</div>"
      ],
      "text/plain": [
       "   timepoint         strain  frequency    fitness  projected_frequency\n",
       "0 2011-10-01  sample_1092_1   0.000001 -10.084649         7.927373e-14"
      ]
     },
     "execution_count": 10,
     "metadata": {},
     "output_type": "execute_result"
    }
   ],
   "source": [
    "forecasts.head(1)"
   ]
  },
  {
   "cell_type": "markdown",
   "metadata": {},
   "source": [
    "## Find large clades\n",
    "\n",
    "Find all clades with an initial frequency some minimum value (e.g., >15%)."
   ]
  },
  {
   "cell_type": "code",
   "execution_count": 60,
   "metadata": {},
   "outputs": [],
   "source": [
    "clade_tip_initial_frequencies = tips_to_clades.merge(\n",
    "    tips,\n",
    "    how=\"left\",\n",
    "    left_on=[\"timepoint\", \"tip\"],\n",
    "    right_on=[\"timepoint\", \"strain\"]\n",
    ").drop(columns=[\"depth\", \"strain\"])"
   ]
  },
  {
   "cell_type": "code",
   "execution_count": 61,
   "metadata": {},
   "outputs": [
    {
     "data": {
      "text/html": [
       "<div>\n",
       "<style scoped>\n",
       "    .dataframe tbody tr th:only-of-type {\n",
       "        vertical-align: middle;\n",
       "    }\n",
       "\n",
       "    .dataframe tbody tr th {\n",
       "        vertical-align: top;\n",
       "    }\n",
       "\n",
       "    .dataframe thead th {\n",
       "        text-align: right;\n",
       "    }\n",
       "</style>\n",
       "<table border=\"1\" class=\"dataframe\">\n",
       "  <thead>\n",
       "    <tr style=\"text-align: right;\">\n",
       "      <th></th>\n",
       "      <th>tip</th>\n",
       "      <th>clade_membership</th>\n",
       "      <th>timepoint</th>\n",
       "      <th>frequency</th>\n",
       "    </tr>\n",
       "  </thead>\n",
       "  <tbody>\n",
       "    <tr>\n",
       "      <th>0</th>\n",
       "      <td>sample_1016_4</td>\n",
       "      <td>6657900</td>\n",
       "      <td>2011-10-01</td>\n",
       "      <td>NaN</td>\n",
       "    </tr>\n",
       "    <tr>\n",
       "      <th>1</th>\n",
       "      <td>sample_1016_4</td>\n",
       "      <td>bf3c018</td>\n",
       "      <td>2011-10-01</td>\n",
       "      <td>NaN</td>\n",
       "    </tr>\n",
       "    <tr>\n",
       "      <th>2</th>\n",
       "      <td>sample_1016_4</td>\n",
       "      <td>root</td>\n",
       "      <td>2011-10-01</td>\n",
       "      <td>NaN</td>\n",
       "    </tr>\n",
       "    <tr>\n",
       "      <th>3</th>\n",
       "      <td>sample_1008_3</td>\n",
       "      <td>7a6369f</td>\n",
       "      <td>2011-10-01</td>\n",
       "      <td>NaN</td>\n",
       "    </tr>\n",
       "    <tr>\n",
       "      <th>4</th>\n",
       "      <td>sample_1008_3</td>\n",
       "      <td>bf3c018</td>\n",
       "      <td>2011-10-01</td>\n",
       "      <td>NaN</td>\n",
       "    </tr>\n",
       "  </tbody>\n",
       "</table>\n",
       "</div>"
      ],
      "text/plain": [
       "             tip clade_membership  timepoint  frequency\n",
       "0  sample_1016_4          6657900 2011-10-01        NaN\n",
       "1  sample_1016_4          bf3c018 2011-10-01        NaN\n",
       "2  sample_1016_4             root 2011-10-01        NaN\n",
       "3  sample_1008_3          7a6369f 2011-10-01        NaN\n",
       "4  sample_1008_3          bf3c018 2011-10-01        NaN"
      ]
     },
     "execution_count": 61,
     "metadata": {},
     "output_type": "execute_result"
    }
   ],
   "source": [
    "clade_tip_initial_frequencies.head()"
   ]
  },
  {
   "cell_type": "code",
   "execution_count": 66,
   "metadata": {},
   "outputs": [],
   "source": [
    "clade_tip_initial_frequencies = clade_tip_initial_frequencies.fillna(0.0).copy()"
   ]
  },
  {
   "cell_type": "code",
   "execution_count": 67,
   "metadata": {},
   "outputs": [
    {
     "data": {
      "text/plain": [
       "0"
      ]
     },
     "execution_count": 67,
     "metadata": {},
     "output_type": "execute_result"
    }
   ],
   "source": [
    "pd.isnull(clade_tip_initial_frequencies[\"frequency\"]).sum()"
   ]
  },
  {
   "cell_type": "code",
   "execution_count": 68,
   "metadata": {},
   "outputs": [],
   "source": [
    "initial_clade_frequencies = clade_tip_initial_frequencies.groupby([\"timepoint\", \"clade_membership\"])[\"frequency\"].sum().reset_index()"
   ]
  },
  {
   "cell_type": "code",
   "execution_count": 69,
   "metadata": {},
   "outputs": [
    {
     "data": {
      "text/html": [
       "<div>\n",
       "<style scoped>\n",
       "    .dataframe tbody tr th:only-of-type {\n",
       "        vertical-align: middle;\n",
       "    }\n",
       "\n",
       "    .dataframe tbody tr th {\n",
       "        vertical-align: top;\n",
       "    }\n",
       "\n",
       "    .dataframe thead th {\n",
       "        text-align: right;\n",
       "    }\n",
       "</style>\n",
       "<table border=\"1\" class=\"dataframe\">\n",
       "  <thead>\n",
       "    <tr style=\"text-align: right;\">\n",
       "      <th></th>\n",
       "      <th>timepoint</th>\n",
       "      <th>clade_membership</th>\n",
       "      <th>frequency</th>\n",
       "    </tr>\n",
       "  </thead>\n",
       "  <tbody>\n",
       "    <tr>\n",
       "      <th>0</th>\n",
       "      <td>2011-10-01</td>\n",
       "      <td>0119439</td>\n",
       "      <td>0.017521</td>\n",
       "    </tr>\n",
       "    <tr>\n",
       "      <th>1</th>\n",
       "      <td>2011-10-01</td>\n",
       "      <td>0157622</td>\n",
       "      <td>0.000103</td>\n",
       "    </tr>\n",
       "    <tr>\n",
       "      <th>2</th>\n",
       "      <td>2011-10-01</td>\n",
       "      <td>0262285</td>\n",
       "      <td>0.086695</td>\n",
       "    </tr>\n",
       "    <tr>\n",
       "      <th>3</th>\n",
       "      <td>2011-10-01</td>\n",
       "      <td>02ccb89</td>\n",
       "      <td>0.000000</td>\n",
       "    </tr>\n",
       "    <tr>\n",
       "      <th>4</th>\n",
       "      <td>2011-10-01</td>\n",
       "      <td>03a2d3a</td>\n",
       "      <td>0.014059</td>\n",
       "    </tr>\n",
       "  </tbody>\n",
       "</table>\n",
       "</div>"
      ],
      "text/plain": [
       "   timepoint clade_membership  frequency\n",
       "0 2011-10-01          0119439   0.017521\n",
       "1 2011-10-01          0157622   0.000103\n",
       "2 2011-10-01          0262285   0.086695\n",
       "3 2011-10-01          02ccb89   0.000000\n",
       "4 2011-10-01          03a2d3a   0.014059"
      ]
     },
     "execution_count": 69,
     "metadata": {},
     "output_type": "execute_result"
    }
   ],
   "source": [
    "initial_clade_frequencies.head()"
   ]
  },
  {
   "cell_type": "code",
   "execution_count": 70,
   "metadata": {},
   "outputs": [],
   "source": [
    "initial_clades = initial_clade_frequencies.query(\"frequency > 0.15 & timepoint >= '2018-10-01'\").copy()"
   ]
  },
  {
   "cell_type": "code",
   "execution_count": 71,
   "metadata": {},
   "outputs": [
    {
     "data": {
      "text/html": [
       "<div>\n",
       "<style scoped>\n",
       "    .dataframe tbody tr th:only-of-type {\n",
       "        vertical-align: middle;\n",
       "    }\n",
       "\n",
       "    .dataframe tbody tr th {\n",
       "        vertical-align: top;\n",
       "    }\n",
       "\n",
       "    .dataframe thead th {\n",
       "        text-align: right;\n",
       "    }\n",
       "</style>\n",
       "<table border=\"1\" class=\"dataframe\">\n",
       "  <thead>\n",
       "    <tr style=\"text-align: right;\">\n",
       "      <th></th>\n",
       "      <th>timepoint</th>\n",
       "      <th>clade_membership</th>\n",
       "      <th>frequency</th>\n",
       "    </tr>\n",
       "  </thead>\n",
       "  <tbody>\n",
       "    <tr>\n",
       "      <th>11828</th>\n",
       "      <td>2018-10-01</td>\n",
       "      <td>0690f07</td>\n",
       "      <td>0.196406</td>\n",
       "    </tr>\n",
       "    <tr>\n",
       "      <th>11833</th>\n",
       "      <td>2018-10-01</td>\n",
       "      <td>0783f23</td>\n",
       "      <td>0.999989</td>\n",
       "    </tr>\n",
       "    <tr>\n",
       "      <th>11871</th>\n",
       "      <td>2018-10-01</td>\n",
       "      <td>0d82b51</td>\n",
       "      <td>0.999989</td>\n",
       "    </tr>\n",
       "    <tr>\n",
       "      <th>11872</th>\n",
       "      <td>2018-10-01</td>\n",
       "      <td>0d8bb1e</td>\n",
       "      <td>0.963750</td>\n",
       "    </tr>\n",
       "    <tr>\n",
       "      <th>11969</th>\n",
       "      <td>2018-10-01</td>\n",
       "      <td>1bce829</td>\n",
       "      <td>0.963750</td>\n",
       "    </tr>\n",
       "  </tbody>\n",
       "</table>\n",
       "</div>"
      ],
      "text/plain": [
       "       timepoint clade_membership  frequency\n",
       "11828 2018-10-01          0690f07   0.196406\n",
       "11833 2018-10-01          0783f23   0.999989\n",
       "11871 2018-10-01          0d82b51   0.999989\n",
       "11872 2018-10-01          0d8bb1e   0.963750\n",
       "11969 2018-10-01          1bce829   0.963750"
      ]
     },
     "execution_count": 71,
     "metadata": {},
     "output_type": "execute_result"
    }
   ],
   "source": [
    "initial_clades.head()"
   ]
  },
  {
   "cell_type": "code",
   "execution_count": 72,
   "metadata": {},
   "outputs": [
    {
     "data": {
      "text/html": [
       "<div>\n",
       "<style scoped>\n",
       "    .dataframe tbody tr th:only-of-type {\n",
       "        vertical-align: middle;\n",
       "    }\n",
       "\n",
       "    .dataframe tbody tr th {\n",
       "        vertical-align: top;\n",
       "    }\n",
       "\n",
       "    .dataframe thead th {\n",
       "        text-align: right;\n",
       "    }\n",
       "</style>\n",
       "<table border=\"1\" class=\"dataframe\">\n",
       "  <thead>\n",
       "    <tr style=\"text-align: right;\">\n",
       "      <th></th>\n",
       "      <th>timepoint</th>\n",
       "      <th>clade_membership</th>\n",
       "      <th>frequency</th>\n",
       "    </tr>\n",
       "  </thead>\n",
       "  <tbody>\n",
       "    <tr>\n",
       "      <th>71580</th>\n",
       "      <td>2030-10-01</td>\n",
       "      <td>f657904</td>\n",
       "      <td>0.908554</td>\n",
       "    </tr>\n",
       "    <tr>\n",
       "      <th>71586</th>\n",
       "      <td>2030-10-01</td>\n",
       "      <td>f6d3aae</td>\n",
       "      <td>0.908554</td>\n",
       "    </tr>\n",
       "    <tr>\n",
       "      <th>71588</th>\n",
       "      <td>2030-10-01</td>\n",
       "      <td>f6d9b34</td>\n",
       "      <td>0.999994</td>\n",
       "    </tr>\n",
       "    <tr>\n",
       "      <th>71625</th>\n",
       "      <td>2030-10-01</td>\n",
       "      <td>f9786f2</td>\n",
       "      <td>0.192194</td>\n",
       "    </tr>\n",
       "    <tr>\n",
       "      <th>71710</th>\n",
       "      <td>2030-10-01</td>\n",
       "      <td>root</td>\n",
       "      <td>0.999994</td>\n",
       "    </tr>\n",
       "  </tbody>\n",
       "</table>\n",
       "</div>"
      ],
      "text/plain": [
       "       timepoint clade_membership  frequency\n",
       "71580 2030-10-01          f657904   0.908554\n",
       "71586 2030-10-01          f6d3aae   0.908554\n",
       "71588 2030-10-01          f6d9b34   0.999994\n",
       "71625 2030-10-01          f9786f2   0.192194\n",
       "71710 2030-10-01             root   0.999994"
      ]
     },
     "execution_count": 72,
     "metadata": {},
     "output_type": "execute_result"
    }
   ],
   "source": [
    "initial_clades.tail()"
   ]
  },
  {
   "cell_type": "code",
   "execution_count": 73,
   "metadata": {},
   "outputs": [
    {
     "data": {
      "text/plain": [
       "(1245, 3)"
      ]
     },
     "execution_count": 73,
     "metadata": {},
     "output_type": "execute_result"
    }
   ],
   "source": [
    "initial_clades.shape"
   ]
  },
  {
   "cell_type": "code",
   "execution_count": 74,
   "metadata": {},
   "outputs": [
    {
     "data": {
      "text/plain": [
       "(133, 3)"
      ]
     },
     "execution_count": 74,
     "metadata": {},
     "output_type": "execute_result"
    }
   ],
   "source": [
    "initial_clades.query(\"timepoint >= '2030-04-01'\").shape"
   ]
  },
  {
   "cell_type": "code",
   "execution_count": 75,
   "metadata": {},
   "outputs": [
    {
     "data": {
      "text/plain": [
       "(1112, 3)"
      ]
     },
     "execution_count": 75,
     "metadata": {},
     "output_type": "execute_result"
    }
   ],
   "source": [
    "initial_clades.query(\"timepoint < '2030-04-01'\").shape"
   ]
  },
  {
   "cell_type": "markdown",
   "metadata": {},
   "source": [
    "## Find future frequencies of large clades"
   ]
  },
  {
   "cell_type": "code",
   "execution_count": 76,
   "metadata": {},
   "outputs": [],
   "source": [
    "initial_clades[\"final_timepoint\"] = initial_clades[\"timepoint\"] + pd.DateOffset(months=12)"
   ]
  },
  {
   "cell_type": "code",
   "execution_count": 77,
   "metadata": {},
   "outputs": [],
   "source": [
    "initial_and_observed_clade_frequencies = initial_clades.merge(\n",
    "    clade_tip_initial_frequencies,\n",
    "    left_on=[\"final_timepoint\", \"clade_membership\"],\n",
    "    right_on=[\"timepoint\", \"clade_membership\"],\n",
    "    suffixes=[\"\", \"_final\"]\n",
    ").groupby([\"timepoint\", \"clade_membership\", \"frequency\"])[\"frequency_final\"].sum().reset_index()"
   ]
  },
  {
   "cell_type": "code",
   "execution_count": 78,
   "metadata": {},
   "outputs": [
    {
     "data": {
      "text/plain": [
       "(1112, 4)"
      ]
     },
     "execution_count": 78,
     "metadata": {},
     "output_type": "execute_result"
    }
   ],
   "source": [
    "initial_and_observed_clade_frequencies.shape"
   ]
  },
  {
   "cell_type": "code",
   "execution_count": 79,
   "metadata": {},
   "outputs": [
    {
     "data": {
      "text/html": [
       "<div>\n",
       "<style scoped>\n",
       "    .dataframe tbody tr th:only-of-type {\n",
       "        vertical-align: middle;\n",
       "    }\n",
       "\n",
       "    .dataframe tbody tr th {\n",
       "        vertical-align: top;\n",
       "    }\n",
       "\n",
       "    .dataframe thead th {\n",
       "        text-align: right;\n",
       "    }\n",
       "</style>\n",
       "<table border=\"1\" class=\"dataframe\">\n",
       "  <thead>\n",
       "    <tr style=\"text-align: right;\">\n",
       "      <th></th>\n",
       "      <th>timepoint</th>\n",
       "      <th>clade_membership</th>\n",
       "      <th>frequency</th>\n",
       "      <th>frequency_final</th>\n",
       "    </tr>\n",
       "  </thead>\n",
       "  <tbody>\n",
       "    <tr>\n",
       "      <th>0</th>\n",
       "      <td>2018-10-01</td>\n",
       "      <td>0690f07</td>\n",
       "      <td>0.196406</td>\n",
       "      <td>0.178282</td>\n",
       "    </tr>\n",
       "    <tr>\n",
       "      <th>1</th>\n",
       "      <td>2018-10-01</td>\n",
       "      <td>0783f23</td>\n",
       "      <td>0.999989</td>\n",
       "      <td>0.999998</td>\n",
       "    </tr>\n",
       "    <tr>\n",
       "      <th>2</th>\n",
       "      <td>2018-10-01</td>\n",
       "      <td>0d82b51</td>\n",
       "      <td>0.999989</td>\n",
       "      <td>0.999998</td>\n",
       "    </tr>\n",
       "    <tr>\n",
       "      <th>3</th>\n",
       "      <td>2018-10-01</td>\n",
       "      <td>0d8bb1e</td>\n",
       "      <td>0.963750</td>\n",
       "      <td>0.999998</td>\n",
       "    </tr>\n",
       "    <tr>\n",
       "      <th>4</th>\n",
       "      <td>2018-10-01</td>\n",
       "      <td>1bce829</td>\n",
       "      <td>0.963750</td>\n",
       "      <td>0.999998</td>\n",
       "    </tr>\n",
       "  </tbody>\n",
       "</table>\n",
       "</div>"
      ],
      "text/plain": [
       "   timepoint clade_membership  frequency  frequency_final\n",
       "0 2018-10-01          0690f07   0.196406         0.178282\n",
       "1 2018-10-01          0783f23   0.999989         0.999998\n",
       "2 2018-10-01          0d82b51   0.999989         0.999998\n",
       "3 2018-10-01          0d8bb1e   0.963750         0.999998\n",
       "4 2018-10-01          1bce829   0.963750         0.999998"
      ]
     },
     "execution_count": 79,
     "metadata": {},
     "output_type": "execute_result"
    }
   ],
   "source": [
    "initial_and_observed_clade_frequencies.head()"
   ]
  },
  {
   "cell_type": "code",
   "execution_count": 80,
   "metadata": {},
   "outputs": [],
   "source": [
    "initial_and_observed_clade_frequencies[\"observed_growth_rate\"] = (\n",
    "    initial_and_observed_clade_frequencies[\"frequency_final\"] / initial_and_observed_clade_frequencies[\"frequency\"]\n",
    ")"
   ]
  },
  {
   "cell_type": "code",
   "execution_count": 81,
   "metadata": {},
   "outputs": [
    {
     "data": {
      "text/html": [
       "<div>\n",
       "<style scoped>\n",
       "    .dataframe tbody tr th:only-of-type {\n",
       "        vertical-align: middle;\n",
       "    }\n",
       "\n",
       "    .dataframe tbody tr th {\n",
       "        vertical-align: top;\n",
       "    }\n",
       "\n",
       "    .dataframe thead th {\n",
       "        text-align: right;\n",
       "    }\n",
       "</style>\n",
       "<table border=\"1\" class=\"dataframe\">\n",
       "  <thead>\n",
       "    <tr style=\"text-align: right;\">\n",
       "      <th></th>\n",
       "      <th>timepoint</th>\n",
       "      <th>clade_membership</th>\n",
       "      <th>frequency</th>\n",
       "      <th>frequency_final</th>\n",
       "      <th>observed_growth_rate</th>\n",
       "    </tr>\n",
       "  </thead>\n",
       "  <tbody>\n",
       "    <tr>\n",
       "      <th>0</th>\n",
       "      <td>2018-10-01</td>\n",
       "      <td>0690f07</td>\n",
       "      <td>0.196406</td>\n",
       "      <td>0.178282</td>\n",
       "      <td>0.907722</td>\n",
       "    </tr>\n",
       "    <tr>\n",
       "      <th>1</th>\n",
       "      <td>2018-10-01</td>\n",
       "      <td>0783f23</td>\n",
       "      <td>0.999989</td>\n",
       "      <td>0.999998</td>\n",
       "      <td>1.000009</td>\n",
       "    </tr>\n",
       "    <tr>\n",
       "      <th>2</th>\n",
       "      <td>2018-10-01</td>\n",
       "      <td>0d82b51</td>\n",
       "      <td>0.999989</td>\n",
       "      <td>0.999998</td>\n",
       "      <td>1.000009</td>\n",
       "    </tr>\n",
       "    <tr>\n",
       "      <th>3</th>\n",
       "      <td>2018-10-01</td>\n",
       "      <td>0d8bb1e</td>\n",
       "      <td>0.963750</td>\n",
       "      <td>0.999998</td>\n",
       "      <td>1.037611</td>\n",
       "    </tr>\n",
       "    <tr>\n",
       "      <th>4</th>\n",
       "      <td>2018-10-01</td>\n",
       "      <td>1bce829</td>\n",
       "      <td>0.963750</td>\n",
       "      <td>0.999998</td>\n",
       "      <td>1.037611</td>\n",
       "    </tr>\n",
       "  </tbody>\n",
       "</table>\n",
       "</div>"
      ],
      "text/plain": [
       "   timepoint clade_membership  frequency  frequency_final  \\\n",
       "0 2018-10-01          0690f07   0.196406         0.178282   \n",
       "1 2018-10-01          0783f23   0.999989         0.999998   \n",
       "2 2018-10-01          0d82b51   0.999989         0.999998   \n",
       "3 2018-10-01          0d8bb1e   0.963750         0.999998   \n",
       "4 2018-10-01          1bce829   0.963750         0.999998   \n",
       "\n",
       "   observed_growth_rate  \n",
       "0              0.907722  \n",
       "1              1.000009  \n",
       "2              1.000009  \n",
       "3              1.037611  \n",
       "4              1.037611  "
      ]
     },
     "execution_count": 81,
     "metadata": {},
     "output_type": "execute_result"
    }
   ],
   "source": [
    "initial_and_observed_clade_frequencies.head()"
   ]
  },
  {
   "cell_type": "code",
   "execution_count": 82,
   "metadata": {},
   "outputs": [
    {
     "data": {
      "application/vnd.vegalite.v3+json": {
       "$schema": "https://vega.github.io/schema/vega-lite/v3.3.0.json",
       "config": {
        "mark": {
         "tooltip": null
        },
        "view": {
         "height": 300,
         "width": 400
        }
       },
       "data": {
        "name": "data-b271e2853f0ae5146c358cc65e83461e"
       },
       "datasets": {
        "data-b271e2853f0ae5146c358cc65e83461e": [
         {
          "clade_membership": "0690f07",
          "frequency": 0.196406,
          "frequency_final": 0.178282,
          "observed_growth_rate": 0.9077217600276977,
          "timepoint": "2018-10-01T00:00:00"
         },
         {
          "clade_membership": "0783f23",
          "frequency": 0.9999890000000012,
          "frequency_final": 0.9999979999999999,
          "observed_growth_rate": 1.0000090000989998,
          "timepoint": "2018-10-01T00:00:00"
         },
         {
          "clade_membership": "0d82b51",
          "frequency": 0.9999890000000012,
          "frequency_final": 0.9999979999999999,
          "observed_growth_rate": 1.0000090000989998,
          "timepoint": "2018-10-01T00:00:00"
         },
         {
          "clade_membership": "0d8bb1e",
          "frequency": 0.9637500000000011,
          "frequency_final": 0.9999979999999999,
          "observed_growth_rate": 1.0376114137483774,
          "timepoint": "2018-10-01T00:00:00"
         },
         {
          "clade_membership": "1bce829",
          "frequency": 0.9637500000000011,
          "frequency_final": 0.9999979999999999,
          "observed_growth_rate": 1.0376114137483774,
          "timepoint": "2018-10-01T00:00:00"
         },
         {
          "clade_membership": "2018235",
          "frequency": 0.9999890000000012,
          "frequency_final": 0.9999979999999999,
          "observed_growth_rate": 1.0000090000989998,
          "timepoint": "2018-10-01T00:00:00"
         },
         {
          "clade_membership": "217cef5",
          "frequency": 0.225253,
          "frequency_final": 0.23857699999999998,
          "observed_growth_rate": 1.0591512654659425,
          "timepoint": "2018-10-01T00:00:00"
         },
         {
          "clade_membership": "289c480",
          "frequency": 0.9637500000000011,
          "frequency_final": 0.9999979999999999,
          "observed_growth_rate": 1.0376114137483774,
          "timepoint": "2018-10-01T00:00:00"
         },
         {
          "clade_membership": "2edcf74",
          "frequency": 0.241635,
          "frequency_final": 0.46305700000000005,
          "observed_growth_rate": 1.9163490388395723,
          "timepoint": "2018-10-01T00:00:00"
         },
         {
          "clade_membership": "30c6c1b",
          "frequency": 0.9999890000000012,
          "frequency_final": 0.9999979999999999,
          "observed_growth_rate": 1.0000090000989998,
          "timepoint": "2018-10-01T00:00:00"
         },
         {
          "clade_membership": "342bee6",
          "frequency": 0.401433,
          "frequency_final": 0.28557200000000005,
          "observed_growth_rate": 0.7113814758627219,
          "timepoint": "2018-10-01T00:00:00"
         },
         {
          "clade_membership": "3aad673",
          "frequency": 0.9999890000000012,
          "frequency_final": 0.9999979999999999,
          "observed_growth_rate": 1.0000090000989998,
          "timepoint": "2018-10-01T00:00:00"
         },
         {
          "clade_membership": "3f3f0ca",
          "frequency": 0.9999890000000012,
          "frequency_final": 0.9999979999999999,
          "observed_growth_rate": 1.0000090000989998,
          "timepoint": "2018-10-01T00:00:00"
         },
         {
          "clade_membership": "53320bc",
          "frequency": 0.9999890000000012,
          "frequency_final": 0.9999979999999999,
          "observed_growth_rate": 1.0000090000989998,
          "timepoint": "2018-10-01T00:00:00"
         },
         {
          "clade_membership": "6270695",
          "frequency": 0.9637500000000011,
          "frequency_final": 0.9999979999999999,
          "observed_growth_rate": 1.0376114137483774,
          "timepoint": "2018-10-01T00:00:00"
         },
         {
          "clade_membership": "63fb9b5",
          "frequency": 0.26988799999999996,
          "frequency_final": 0.4758490000000001,
          "observed_growth_rate": 1.763135078254684,
          "timepoint": "2018-10-01T00:00:00"
         },
         {
          "clade_membership": "670a3cd",
          "frequency": 0.2814649999999999,
          "frequency_final": 0.4758490000000001,
          "observed_growth_rate": 1.6906151741779625,
          "timepoint": "2018-10-01T00:00:00"
         },
         {
          "clade_membership": "670b070",
          "frequency": 0.225253,
          "frequency_final": 0.23857699999999998,
          "observed_growth_rate": 1.0591512654659425,
          "timepoint": "2018-10-01T00:00:00"
         },
         {
          "clade_membership": "6db3c1a",
          "frequency": 0.15735600000000002,
          "frequency_final": 0.115267,
          "observed_growth_rate": 0.7325237042121049,
          "timepoint": "2018-10-01T00:00:00"
         },
         {
          "clade_membership": "6fabbb5",
          "frequency": 0.9999890000000012,
          "frequency_final": 0.9999979999999999,
          "observed_growth_rate": 1.0000090000989998,
          "timepoint": "2018-10-01T00:00:00"
         },
         {
          "clade_membership": "7a88259",
          "frequency": 0.9999890000000012,
          "frequency_final": 0.9999979999999999,
          "observed_growth_rate": 1.0000090000989998,
          "timepoint": "2018-10-01T00:00:00"
         },
         {
          "clade_membership": "8544c1e",
          "frequency": 0.241635,
          "frequency_final": 0.46305700000000005,
          "observed_growth_rate": 1.9163490388395723,
          "timepoint": "2018-10-01T00:00:00"
         },
         {
          "clade_membership": "8727a54",
          "frequency": 0.9999890000000012,
          "frequency_final": 0.9999979999999999,
          "observed_growth_rate": 1.0000090000989998,
          "timepoint": "2018-10-01T00:00:00"
         },
         {
          "clade_membership": "aac4331",
          "frequency": 0.225253,
          "frequency_final": 0.23857699999999998,
          "observed_growth_rate": 1.0591512654659425,
          "timepoint": "2018-10-01T00:00:00"
         },
         {
          "clade_membership": "b5b60f5",
          "frequency": 0.29389000000000004,
          "frequency_final": 0.23969700000000005,
          "observed_growth_rate": 0.8156010752322298,
          "timepoint": "2018-10-01T00:00:00"
         },
         {
          "clade_membership": "bae78d3",
          "frequency": 0.9999890000000012,
          "frequency_final": 0.9999979999999999,
          "observed_growth_rate": 1.0000090000989998,
          "timepoint": "2018-10-01T00:00:00"
         },
         {
          "clade_membership": "bfd1faf",
          "frequency": 0.225253,
          "frequency_final": 0.23857699999999998,
          "observed_growth_rate": 1.0591512654659425,
          "timepoint": "2018-10-01T00:00:00"
         },
         {
          "clade_membership": "c72df39",
          "frequency": 0.9999890000000012,
          "frequency_final": 0.9999979999999999,
          "observed_growth_rate": 1.0000090000989998,
          "timepoint": "2018-10-01T00:00:00"
         },
         {
          "clade_membership": "cbef932",
          "frequency": 0.9999890000000012,
          "frequency_final": 0.9999979999999999,
          "observed_growth_rate": 1.0000090000989998,
          "timepoint": "2018-10-01T00:00:00"
         },
         {
          "clade_membership": "da37a22",
          "frequency": 0.9999890000000012,
          "frequency_final": 0.9999979999999999,
          "observed_growth_rate": 1.0000090000989998,
          "timepoint": "2018-10-01T00:00:00"
         },
         {
          "clade_membership": "e72bf28",
          "frequency": 0.9999890000000012,
          "frequency_final": 0.9999979999999999,
          "observed_growth_rate": 1.0000090000989998,
          "timepoint": "2018-10-01T00:00:00"
         },
         {
          "clade_membership": "eb2f804",
          "frequency": 0.9999890000000012,
          "frequency_final": 0.9999979999999999,
          "observed_growth_rate": 1.0000090000989998,
          "timepoint": "2018-10-01T00:00:00"
         },
         {
          "clade_membership": "f759002",
          "frequency": 0.29389000000000004,
          "frequency_final": 0.23969700000000005,
          "observed_growth_rate": 0.8156010752322298,
          "timepoint": "2018-10-01T00:00:00"
         },
         {
          "clade_membership": "root",
          "frequency": 0.9999890000000012,
          "frequency_final": 0.9999979999999999,
          "observed_growth_rate": 1.0000090000989998,
          "timepoint": "2018-10-01T00:00:00"
         },
         {
          "clade_membership": "0783f23",
          "frequency": 0.9999910000000003,
          "frequency_final": 0.9999939999999998,
          "observed_growth_rate": 1.0000030000269997,
          "timepoint": "2019-04-01T00:00:00"
         },
         {
          "clade_membership": "0d82b51",
          "frequency": 0.9999910000000003,
          "frequency_final": 0.9999939999999998,
          "observed_growth_rate": 1.0000030000269997,
          "timepoint": "2019-04-01T00:00:00"
         },
         {
          "clade_membership": "0d8bb1e",
          "frequency": 0.9999910000000003,
          "frequency_final": 0.9999939999999998,
          "observed_growth_rate": 1.0000030000269997,
          "timepoint": "2019-04-01T00:00:00"
         },
         {
          "clade_membership": "1bce829",
          "frequency": 0.9999910000000003,
          "frequency_final": 0.9999939999999998,
          "observed_growth_rate": 1.0000030000269997,
          "timepoint": "2019-04-01T00:00:00"
         },
         {
          "clade_membership": "2018235",
          "frequency": 0.9999910000000003,
          "frequency_final": 0.9999939999999998,
          "observed_growth_rate": 1.0000030000269997,
          "timepoint": "2019-04-01T00:00:00"
         },
         {
          "clade_membership": "289c480",
          "frequency": 0.9999910000000003,
          "frequency_final": 0.9999939999999998,
          "observed_growth_rate": 1.0000030000269997,
          "timepoint": "2019-04-01T00:00:00"
         },
         {
          "clade_membership": "2edcf74",
          "frequency": 0.31263900000000006,
          "frequency_final": 0.4934280000000001,
          "observed_growth_rate": 1.5782675865774904,
          "timepoint": "2019-04-01T00:00:00"
         },
         {
          "clade_membership": "30c6c1b",
          "frequency": 0.9999910000000003,
          "frequency_final": 0.9999939999999998,
          "observed_growth_rate": 1.0000030000269997,
          "timepoint": "2019-04-01T00:00:00"
         },
         {
          "clade_membership": "342bee6",
          "frequency": 0.5180590000000002,
          "frequency_final": 0.230707,
          "observed_growth_rate": 0.44532958601240386,
          "timepoint": "2019-04-01T00:00:00"
         },
         {
          "clade_membership": "3aad673",
          "frequency": 0.9999910000000003,
          "frequency_final": 0.9999939999999998,
          "observed_growth_rate": 1.0000030000269997,
          "timepoint": "2019-04-01T00:00:00"
         },
         {
          "clade_membership": "3f3f0ca",
          "frequency": 0.9999910000000003,
          "frequency_final": 0.9999939999999998,
          "observed_growth_rate": 1.0000030000269997,
          "timepoint": "2019-04-01T00:00:00"
         },
         {
          "clade_membership": "53320bc",
          "frequency": 0.9999910000000003,
          "frequency_final": 0.9999939999999998,
          "observed_growth_rate": 1.0000030000269997,
          "timepoint": "2019-04-01T00:00:00"
         },
         {
          "clade_membership": "595dd6c",
          "frequency": 0.21249,
          "frequency_final": 0.10030799999999998,
          "observed_growth_rate": 0.4720598616405477,
          "timepoint": "2019-04-01T00:00:00"
         },
         {
          "clade_membership": "6270695",
          "frequency": 0.9999910000000003,
          "frequency_final": 0.9999939999999998,
          "observed_growth_rate": 1.0000030000269997,
          "timepoint": "2019-04-01T00:00:00"
         },
         {
          "clade_membership": "63fb9b5",
          "frequency": 0.3653950000000002,
          "frequency_final": 0.4934280000000001,
          "observed_growth_rate": 1.350396146635832,
          "timepoint": "2019-04-01T00:00:00"
         },
         {
          "clade_membership": "670a3cd",
          "frequency": 0.3653950000000002,
          "frequency_final": 0.4934280000000001,
          "observed_growth_rate": 1.350396146635832,
          "timepoint": "2019-04-01T00:00:00"
         },
         {
          "clade_membership": "6fabbb5",
          "frequency": 0.9999910000000003,
          "frequency_final": 0.9999939999999998,
          "observed_growth_rate": 1.0000030000269997,
          "timepoint": "2019-04-01T00:00:00"
         },
         {
          "clade_membership": "76eb3fe",
          "frequency": 0.21249,
          "frequency_final": 0.10030799999999998,
          "observed_growth_rate": 0.4720598616405477,
          "timepoint": "2019-04-01T00:00:00"
         },
         {
          "clade_membership": "7a88259",
          "frequency": 0.9999910000000003,
          "frequency_final": 0.9999939999999998,
          "observed_growth_rate": 1.0000030000269997,
          "timepoint": "2019-04-01T00:00:00"
         },
         {
          "clade_membership": "8544c1e",
          "frequency": 0.31263900000000006,
          "frequency_final": 0.4934280000000001,
          "observed_growth_rate": 1.5782675865774904,
          "timepoint": "2019-04-01T00:00:00"
         },
         {
          "clade_membership": "8727a54",
          "frequency": 0.9999910000000003,
          "frequency_final": 0.9999939999999998,
          "observed_growth_rate": 1.0000030000269997,
          "timepoint": "2019-04-01T00:00:00"
         },
         {
          "clade_membership": "92f7c10",
          "frequency": 0.155586,
          "frequency_final": 0.019734,
          "observed_growth_rate": 0.1268366048359107,
          "timepoint": "2019-04-01T00:00:00"
         },
         {
          "clade_membership": "b5b60f5",
          "frequency": 0.4040800000000001,
          "frequency_final": 0.15345499999999998,
          "observed_growth_rate": 0.37976390813700245,
          "timepoint": "2019-04-01T00:00:00"
         },
         {
          "clade_membership": "bae78d3",
          "frequency": 0.9999910000000003,
          "frequency_final": 0.9999939999999998,
          "observed_growth_rate": 1.0000030000269997,
          "timepoint": "2019-04-01T00:00:00"
         },
         {
          "clade_membership": "c72df39",
          "frequency": 0.9999910000000003,
          "frequency_final": 0.9999939999999998,
          "observed_growth_rate": 1.0000030000269997,
          "timepoint": "2019-04-01T00:00:00"
         },
         {
          "clade_membership": "cbef932",
          "frequency": 0.9999910000000003,
          "frequency_final": 0.9999939999999998,
          "observed_growth_rate": 1.0000030000269997,
          "timepoint": "2019-04-01T00:00:00"
         },
         {
          "clade_membership": "da37a22",
          "frequency": 0.9999910000000003,
          "frequency_final": 0.9999939999999998,
          "observed_growth_rate": 1.0000030000269997,
          "timepoint": "2019-04-01T00:00:00"
         },
         {
          "clade_membership": "e72bf28",
          "frequency": 0.9999910000000003,
          "frequency_final": 0.9999939999999998,
          "observed_growth_rate": 1.0000030000269997,
          "timepoint": "2019-04-01T00:00:00"
         },
         {
          "clade_membership": "eb2f804",
          "frequency": 0.9999910000000003,
          "frequency_final": 0.9999939999999998,
          "observed_growth_rate": 1.0000030000269997,
          "timepoint": "2019-04-01T00:00:00"
         },
         {
          "clade_membership": "f759002",
          "frequency": 0.4040800000000001,
          "frequency_final": 0.15345499999999998,
          "observed_growth_rate": 0.37976390813700245,
          "timepoint": "2019-04-01T00:00:00"
         },
         {
          "clade_membership": "root",
          "frequency": 0.9999910000000003,
          "frequency_final": 0.9999939999999998,
          "observed_growth_rate": 1.0000030000269997,
          "timepoint": "2019-04-01T00:00:00"
         },
         {
          "clade_membership": "0654693",
          "frequency": 0.299918,
          "frequency_final": 0.31101700000000004,
          "observed_growth_rate": 1.0370067818537068,
          "timepoint": "2019-10-01T00:00:00"
         },
         {
          "clade_membership": "0690f07",
          "frequency": 0.178282,
          "frequency_final": 0.22280099999999997,
          "observed_growth_rate": 1.2497111318024252,
          "timepoint": "2019-10-01T00:00:00"
         },
         {
          "clade_membership": "0783f23",
          "frequency": 0.9999979999999999,
          "frequency_final": 0.9999980000000004,
          "observed_growth_rate": 1.0000000000000004,
          "timepoint": "2019-10-01T00:00:00"
         },
         {
          "clade_membership": "0d82b51",
          "frequency": 0.9999979999999999,
          "frequency_final": 0.9999980000000004,
          "observed_growth_rate": 1.0000000000000004,
          "timepoint": "2019-10-01T00:00:00"
         },
         {
          "clade_membership": "0d8bb1e",
          "frequency": 0.9999979999999999,
          "frequency_final": 0.9999980000000004,
          "observed_growth_rate": 1.0000000000000004,
          "timepoint": "2019-10-01T00:00:00"
         },
         {
          "clade_membership": "1bce829",
          "frequency": 0.9999979999999999,
          "frequency_final": 0.9999980000000004,
          "observed_growth_rate": 1.0000000000000004,
          "timepoint": "2019-10-01T00:00:00"
         },
         {
          "clade_membership": "2018235",
          "frequency": 0.9999979999999999,
          "frequency_final": 0.9999980000000004,
          "observed_growth_rate": 1.0000000000000004,
          "timepoint": "2019-10-01T00:00:00"
         },
         {
          "clade_membership": "217cef5",
          "frequency": 0.23857699999999998,
          "frequency_final": 0.4263360000000001,
          "observed_growth_rate": 1.7869953935207508,
          "timepoint": "2019-10-01T00:00:00"
         },
         {
          "clade_membership": "289c480",
          "frequency": 0.9999979999999999,
          "frequency_final": 0.9999980000000004,
          "observed_growth_rate": 1.0000000000000004,
          "timepoint": "2019-10-01T00:00:00"
         },
         {
          "clade_membership": "2edcf74",
          "frequency": 0.46305700000000005,
          "frequency_final": 0.4173420000000001,
          "observed_growth_rate": 0.9012756528893853,
          "timepoint": "2019-10-01T00:00:00"
         },
         {
          "clade_membership": "30c6c1b",
          "frequency": 0.9999979999999999,
          "frequency_final": 0.9999980000000004,
          "observed_growth_rate": 1.0000000000000004,
          "timepoint": "2019-10-01T00:00:00"
         },
         {
          "clade_membership": "342bee6",
          "frequency": 0.28557200000000005,
          "frequency_final": 0.15632000000000001,
          "observed_growth_rate": 0.5473926015155547,
          "timepoint": "2019-10-01T00:00:00"
         },
         {
          "clade_membership": "3aad673",
          "frequency": 0.9999979999999999,
          "frequency_final": 0.9999980000000004,
          "observed_growth_rate": 1.0000000000000004,
          "timepoint": "2019-10-01T00:00:00"
         },
         {
          "clade_membership": "3f3f0ca",
          "frequency": 0.9999979999999999,
          "frequency_final": 0.9999980000000004,
          "observed_growth_rate": 1.0000000000000004,
          "timepoint": "2019-10-01T00:00:00"
         },
         {
          "clade_membership": "53320bc",
          "frequency": 0.9999979999999999,
          "frequency_final": 0.9999980000000004,
          "observed_growth_rate": 1.0000000000000004,
          "timepoint": "2019-10-01T00:00:00"
         },
         {
          "clade_membership": "53d3851",
          "frequency": 0.27314399999999994,
          "frequency_final": 0.31101700000000004,
          "observed_growth_rate": 1.1386558006033451,
          "timepoint": "2019-10-01T00:00:00"
         },
         {
          "clade_membership": "6270695",
          "frequency": 0.9999979999999999,
          "frequency_final": 0.9999980000000004,
          "observed_growth_rate": 1.0000000000000004,
          "timepoint": "2019-10-01T00:00:00"
         },
         {
          "clade_membership": "63fb9b5",
          "frequency": 0.4758490000000001,
          "frequency_final": 0.4173420000000001,
          "observed_growth_rate": 0.8770471304972797,
          "timepoint": "2019-10-01T00:00:00"
         },
         {
          "clade_membership": "670a3cd",
          "frequency": 0.4758490000000001,
          "frequency_final": 0.4173420000000001,
          "observed_growth_rate": 0.8770471304972797,
          "timepoint": "2019-10-01T00:00:00"
         },
         {
          "clade_membership": "670b070",
          "frequency": 0.23857699999999998,
          "frequency_final": 0.4263360000000001,
          "observed_growth_rate": 1.7869953935207508,
          "timepoint": "2019-10-01T00:00:00"
         },
         {
          "clade_membership": "6fabbb5",
          "frequency": 0.9999979999999999,
          "frequency_final": 0.9999980000000004,
          "observed_growth_rate": 1.0000000000000004,
          "timepoint": "2019-10-01T00:00:00"
         },
         {
          "clade_membership": "7a88259",
          "frequency": 0.9999979999999999,
          "frequency_final": 0.9999980000000004,
          "observed_growth_rate": 1.0000000000000004,
          "timepoint": "2019-10-01T00:00:00"
         },
         {
          "clade_membership": "8126320",
          "frequency": 0.290836,
          "frequency_final": 0.31101700000000004,
          "observed_growth_rate": 1.069389621642438,
          "timepoint": "2019-10-01T00:00:00"
         },
         {
          "clade_membership": "8544c1e",
          "frequency": 0.46305700000000005,
          "frequency_final": 0.4173420000000001,
          "observed_growth_rate": 0.9012756528893853,
          "timepoint": "2019-10-01T00:00:00"
         },
         {
          "clade_membership": "8727a54",
          "frequency": 0.9999979999999999,
          "frequency_final": 0.9999980000000004,
          "observed_growth_rate": 1.0000000000000004,
          "timepoint": "2019-10-01T00:00:00"
         },
         {
          "clade_membership": "aac4331",
          "frequency": 0.23857699999999998,
          "frequency_final": 0.4263360000000001,
          "observed_growth_rate": 1.7869953935207508,
          "timepoint": "2019-10-01T00:00:00"
         },
         {
          "clade_membership": "b5b60f5",
          "frequency": 0.23969700000000005,
          "frequency_final": 0.137892,
          "observed_growth_rate": 0.5752762863114681,
          "timepoint": "2019-10-01T00:00:00"
         },
         {
          "clade_membership": "bae78d3",
          "frequency": 0.9999979999999999,
          "frequency_final": 0.9999980000000004,
          "observed_growth_rate": 1.0000000000000004,
          "timepoint": "2019-10-01T00:00:00"
         },
         {
          "clade_membership": "bfd1faf",
          "frequency": 0.23857699999999998,
          "frequency_final": 0.4263360000000001,
          "observed_growth_rate": 1.7869953935207508,
          "timepoint": "2019-10-01T00:00:00"
         },
         {
          "clade_membership": "c72df39",
          "frequency": 0.9999979999999999,
          "frequency_final": 0.9999980000000004,
          "observed_growth_rate": 1.0000000000000004,
          "timepoint": "2019-10-01T00:00:00"
         },
         {
          "clade_membership": "cbef932",
          "frequency": 0.9999979999999999,
          "frequency_final": 0.9999980000000004,
          "observed_growth_rate": 1.0000000000000004,
          "timepoint": "2019-10-01T00:00:00"
         },
         {
          "clade_membership": "da37a22",
          "frequency": 0.9999979999999999,
          "frequency_final": 0.9999980000000004,
          "observed_growth_rate": 1.0000000000000004,
          "timepoint": "2019-10-01T00:00:00"
         },
         {
          "clade_membership": "e72bf28",
          "frequency": 0.9999979999999999,
          "frequency_final": 0.9999980000000004,
          "observed_growth_rate": 1.0000000000000004,
          "timepoint": "2019-10-01T00:00:00"
         },
         {
          "clade_membership": "eb2f804",
          "frequency": 0.9999979999999999,
          "frequency_final": 0.9999980000000004,
          "observed_growth_rate": 1.0000000000000004,
          "timepoint": "2019-10-01T00:00:00"
         },
         {
          "clade_membership": "f759002",
          "frequency": 0.23969700000000005,
          "frequency_final": 0.137892,
          "observed_growth_rate": 0.5752762863114681,
          "timepoint": "2019-10-01T00:00:00"
         },
         {
          "clade_membership": "root",
          "frequency": 0.9999979999999999,
          "frequency_final": 0.9999980000000004,
          "observed_growth_rate": 1.0000000000000004,
          "timepoint": "2019-10-01T00:00:00"
         },
         {
          "clade_membership": "0654693",
          "frequency": 0.34960100000000005,
          "frequency_final": 0.147874,
          "observed_growth_rate": 0.4229793393039493,
          "timepoint": "2020-04-01T00:00:00"
         },
         {
          "clade_membership": "0690f07",
          "frequency": 0.166867,
          "frequency_final": 0.17538,
          "observed_growth_rate": 1.0510166779531005,
          "timepoint": "2020-04-01T00:00:00"
         },
         {
          "clade_membership": "0783f23",
          "frequency": 0.9999939999999998,
          "frequency_final": 0.9999949999999997,
          "observed_growth_rate": 1.000001000006,
          "timepoint": "2020-04-01T00:00:00"
         },
         {
          "clade_membership": "0d82b51",
          "frequency": 0.9999939999999998,
          "frequency_final": 0.9999949999999997,
          "observed_growth_rate": 1.000001000006,
          "timepoint": "2020-04-01T00:00:00"
         },
         {
          "clade_membership": "0d8bb1e",
          "frequency": 0.9999939999999998,
          "frequency_final": 0.9999949999999997,
          "observed_growth_rate": 1.000001000006,
          "timepoint": "2020-04-01T00:00:00"
         },
         {
          "clade_membership": "1bce829",
          "frequency": 0.9999939999999998,
          "frequency_final": 0.9999949999999997,
          "observed_growth_rate": 1.000001000006,
          "timepoint": "2020-04-01T00:00:00"
         },
         {
          "clade_membership": "2018235",
          "frequency": 0.9999939999999998,
          "frequency_final": 0.9999949999999997,
          "observed_growth_rate": 1.000001000006,
          "timepoint": "2020-04-01T00:00:00"
         },
         {
          "clade_membership": "217cef5",
          "frequency": 0.27585899999999997,
          "frequency_final": 0.5283669999999999,
          "observed_growth_rate": 1.9153516832874766,
          "timepoint": "2020-04-01T00:00:00"
         },
         {
          "clade_membership": "289c480",
          "frequency": 0.9999939999999998,
          "frequency_final": 0.9999949999999997,
          "observed_growth_rate": 1.000001000006,
          "timepoint": "2020-04-01T00:00:00"
         },
         {
          "clade_membership": "2edcf74",
          "frequency": 0.4934280000000001,
          "frequency_final": 0.28061699999999995,
          "observed_growth_rate": 0.5687091125756947,
          "timepoint": "2020-04-01T00:00:00"
         },
         {
          "clade_membership": "30c6c1b",
          "frequency": 0.9999939999999998,
          "frequency_final": 0.9999949999999997,
          "observed_growth_rate": 1.000001000006,
          "timepoint": "2020-04-01T00:00:00"
         },
         {
          "clade_membership": "342bee6",
          "frequency": 0.230707,
          "frequency_final": 0.191011,
          "observed_growth_rate": 0.8279376005062699,
          "timepoint": "2020-04-01T00:00:00"
         },
         {
          "clade_membership": "3aad673",
          "frequency": 0.9999939999999998,
          "frequency_final": 0.9999949999999997,
          "observed_growth_rate": 1.000001000006,
          "timepoint": "2020-04-01T00:00:00"
         },
         {
          "clade_membership": "3f3f0ca",
          "frequency": 0.9999939999999998,
          "frequency_final": 0.9999949999999997,
          "observed_growth_rate": 1.000001000006,
          "timepoint": "2020-04-01T00:00:00"
         },
         {
          "clade_membership": "53320bc",
          "frequency": 0.9999939999999998,
          "frequency_final": 0.9999949999999997,
          "observed_growth_rate": 1.000001000006,
          "timepoint": "2020-04-01T00:00:00"
         },
         {
          "clade_membership": "53d3851",
          "frequency": 0.34954799999999997,
          "frequency_final": 0.147874,
          "observed_growth_rate": 0.4230434732855002,
          "timepoint": "2020-04-01T00:00:00"
         },
         {
          "clade_membership": "6270695",
          "frequency": 0.9999939999999998,
          "frequency_final": 0.9999949999999997,
          "observed_growth_rate": 1.000001000006,
          "timepoint": "2020-04-01T00:00:00"
         },
         {
          "clade_membership": "63fb9b5",
          "frequency": 0.4934280000000001,
          "frequency_final": 0.28061699999999995,
          "observed_growth_rate": 0.5687091125756947,
          "timepoint": "2020-04-01T00:00:00"
         },
         {
          "clade_membership": "670a3cd",
          "frequency": 0.4934280000000001,
          "frequency_final": 0.28061699999999995,
          "observed_growth_rate": 0.5687091125756947,
          "timepoint": "2020-04-01T00:00:00"
         },
         {
          "clade_membership": "670b070",
          "frequency": 0.27585899999999997,
          "frequency_final": 0.5283669999999999,
          "observed_growth_rate": 1.9153516832874766,
          "timepoint": "2020-04-01T00:00:00"
         },
         {
          "clade_membership": "6fabbb5",
          "frequency": 0.9999939999999998,
          "frequency_final": 0.9999949999999997,
          "observed_growth_rate": 1.000001000006,
          "timepoint": "2020-04-01T00:00:00"
         },
         {
          "clade_membership": "7a88259",
          "frequency": 0.9999939999999998,
          "frequency_final": 0.9999949999999997,
          "observed_growth_rate": 1.000001000006,
          "timepoint": "2020-04-01T00:00:00"
         },
         {
          "clade_membership": "8126320",
          "frequency": 0.34960100000000005,
          "frequency_final": 0.147874,
          "observed_growth_rate": 0.4229793393039493,
          "timepoint": "2020-04-01T00:00:00"
         },
         {
          "clade_membership": "8544c1e",
          "frequency": 0.4934280000000001,
          "frequency_final": 0.28061699999999995,
          "observed_growth_rate": 0.5687091125756947,
          "timepoint": "2020-04-01T00:00:00"
         },
         {
          "clade_membership": "8727a54",
          "frequency": 0.9999939999999998,
          "frequency_final": 0.9999949999999997,
          "observed_growth_rate": 1.000001000006,
          "timepoint": "2020-04-01T00:00:00"
         },
         {
          "clade_membership": "aac4331",
          "frequency": 0.27585899999999997,
          "frequency_final": 0.5283669999999999,
          "observed_growth_rate": 1.9153516832874766,
          "timepoint": "2020-04-01T00:00:00"
         },
         {
          "clade_membership": "b5b60f5",
          "frequency": 0.15345499999999998,
          "frequency_final": 0.14615299999999998,
          "observed_growth_rate": 0.9524160177250659,
          "timepoint": "2020-04-01T00:00:00"
         },
         {
          "clade_membership": "bae78d3",
          "frequency": 0.9999939999999998,
          "frequency_final": 0.9999949999999997,
          "observed_growth_rate": 1.000001000006,
          "timepoint": "2020-04-01T00:00:00"
         },
         {
          "clade_membership": "bfd1faf",
          "frequency": 0.27585899999999997,
          "frequency_final": 0.5283669999999999,
          "observed_growth_rate": 1.9153516832874766,
          "timepoint": "2020-04-01T00:00:00"
         },
         {
          "clade_membership": "c72df39",
          "frequency": 0.9999939999999998,
          "frequency_final": 0.9999949999999997,
          "observed_growth_rate": 1.000001000006,
          "timepoint": "2020-04-01T00:00:00"
         },
         {
          "clade_membership": "cbef932",
          "frequency": 0.9999939999999998,
          "frequency_final": 0.9999949999999997,
          "observed_growth_rate": 1.000001000006,
          "timepoint": "2020-04-01T00:00:00"
         },
         {
          "clade_membership": "da37a22",
          "frequency": 0.9999939999999998,
          "frequency_final": 0.9999949999999997,
          "observed_growth_rate": 1.000001000006,
          "timepoint": "2020-04-01T00:00:00"
         },
         {
          "clade_membership": "e72bf28",
          "frequency": 0.9999939999999998,
          "frequency_final": 0.9999949999999997,
          "observed_growth_rate": 1.000001000006,
          "timepoint": "2020-04-01T00:00:00"
         },
         {
          "clade_membership": "eb2f804",
          "frequency": 0.9999939999999998,
          "frequency_final": 0.9999949999999997,
          "observed_growth_rate": 1.000001000006,
          "timepoint": "2020-04-01T00:00:00"
         },
         {
          "clade_membership": "f759002",
          "frequency": 0.15345499999999998,
          "frequency_final": 0.14615299999999998,
          "observed_growth_rate": 0.9524160177250659,
          "timepoint": "2020-04-01T00:00:00"
         },
         {
          "clade_membership": "root",
          "frequency": 0.9999939999999998,
          "frequency_final": 0.9999949999999997,
          "observed_growth_rate": 1.000001000006,
          "timepoint": "2020-04-01T00:00:00"
         },
         {
          "clade_membership": "0654693",
          "frequency": 0.31101700000000004,
          "frequency_final": 0.266764,
          "observed_growth_rate": 0.8577151731255847,
          "timepoint": "2020-10-01T00:00:00"
         },
         {
          "clade_membership": "0690f07",
          "frequency": 0.22280099999999997,
          "frequency_final": 0.016081,
          "observed_growth_rate": 0.07217651626339201,
          "timepoint": "2020-10-01T00:00:00"
         },
         {
          "clade_membership": "0783f23",
          "frequency": 0.9999980000000004,
          "frequency_final": 0.9999960000000007,
          "observed_growth_rate": 0.9999979999960003,
          "timepoint": "2020-10-01T00:00:00"
         },
         {
          "clade_membership": "0d82b51",
          "frequency": 0.9999980000000004,
          "frequency_final": 0.9999960000000007,
          "observed_growth_rate": 0.9999979999960003,
          "timepoint": "2020-10-01T00:00:00"
         },
         {
          "clade_membership": "0d8bb1e",
          "frequency": 0.9999980000000004,
          "frequency_final": 0.9999960000000007,
          "observed_growth_rate": 0.9999979999960003,
          "timepoint": "2020-10-01T00:00:00"
         },
         {
          "clade_membership": "1bce829",
          "frequency": 0.9999980000000004,
          "frequency_final": 0.9999960000000007,
          "observed_growth_rate": 0.9999979999960003,
          "timepoint": "2020-10-01T00:00:00"
         },
         {
          "clade_membership": "2018235",
          "frequency": 0.9999980000000004,
          "frequency_final": 0.9999960000000007,
          "observed_growth_rate": 0.9999979999960003,
          "timepoint": "2020-10-01T00:00:00"
         },
         {
          "clade_membership": "217cef5",
          "frequency": 0.4263360000000001,
          "frequency_final": 0.5724469999999999,
          "observed_growth_rate": 1.3427132590257445,
          "timepoint": "2020-10-01T00:00:00"
         },
         {
          "clade_membership": "289c480",
          "frequency": 0.9999980000000004,
          "frequency_final": 0.9999960000000007,
          "observed_growth_rate": 0.9999979999960003,
          "timepoint": "2020-10-01T00:00:00"
         },
         {
          "clade_membership": "2edcf74",
          "frequency": 0.4173420000000001,
          "frequency_final": 0.26919699999999996,
          "observed_growth_rate": 0.6450273396878338,
          "timepoint": "2020-10-01T00:00:00"
         },
         {
          "clade_membership": "30c6c1b",
          "frequency": 0.9999980000000004,
          "frequency_final": 0.9999960000000007,
          "observed_growth_rate": 0.9999979999960003,
          "timepoint": "2020-10-01T00:00:00"
         },
         {
          "clade_membership": "342bee6",
          "frequency": 0.15632000000000001,
          "frequency_final": 0.15835200000000002,
          "observed_growth_rate": 1.0129989764585465,
          "timepoint": "2020-10-01T00:00:00"
         },
         {
          "clade_membership": "3aad673",
          "frequency": 0.9999980000000004,
          "frequency_final": 0.9999960000000007,
          "observed_growth_rate": 0.9999979999960003,
          "timepoint": "2020-10-01T00:00:00"
         },
         {
          "clade_membership": "3f3f0ca",
          "frequency": 0.9999980000000004,
          "frequency_final": 0.9999960000000007,
          "observed_growth_rate": 0.9999979999960003,
          "timepoint": "2020-10-01T00:00:00"
         },
         {
          "clade_membership": "430717a",
          "frequency": 0.17410899999999996,
          "frequency_final": 0.016058,
          "observed_growth_rate": 0.09222958032037404,
          "timepoint": "2020-10-01T00:00:00"
         },
         {
          "clade_membership": "482045e",
          "frequency": 0.17410899999999996,
          "frequency_final": 0.016058,
          "observed_growth_rate": 0.09222958032037404,
          "timepoint": "2020-10-01T00:00:00"
         },
         {
          "clade_membership": "4b52cfb",
          "frequency": 0.165861,
          "frequency_final": 0.5563659999999999,
          "observed_growth_rate": 3.3544112238561197,
          "timepoint": "2020-10-01T00:00:00"
         },
         {
          "clade_membership": "53320bc",
          "frequency": 0.9999980000000004,
          "frequency_final": 0.9999960000000007,
          "observed_growth_rate": 0.9999979999960003,
          "timepoint": "2020-10-01T00:00:00"
         },
         {
          "clade_membership": "53d3851",
          "frequency": 0.31101700000000004,
          "frequency_final": 0.266764,
          "observed_growth_rate": 0.8577151731255847,
          "timepoint": "2020-10-01T00:00:00"
         },
         {
          "clade_membership": "6270695",
          "frequency": 0.9999980000000004,
          "frequency_final": 0.9999960000000007,
          "observed_growth_rate": 0.9999979999960003,
          "timepoint": "2020-10-01T00:00:00"
         },
         {
          "clade_membership": "6314c68",
          "frequency": 0.17410899999999996,
          "frequency_final": 0.016058,
          "observed_growth_rate": 0.09222958032037404,
          "timepoint": "2020-10-01T00:00:00"
         },
         {
          "clade_membership": "63fb9b5",
          "frequency": 0.4173420000000001,
          "frequency_final": 0.26919699999999996,
          "observed_growth_rate": 0.6450273396878338,
          "timepoint": "2020-10-01T00:00:00"
         },
         {
          "clade_membership": "670a3cd",
          "frequency": 0.4173420000000001,
          "frequency_final": 0.26919699999999996,
          "observed_growth_rate": 0.6450273396878338,
          "timepoint": "2020-10-01T00:00:00"
         },
         {
          "clade_membership": "670b070",
          "frequency": 0.4263360000000001,
          "frequency_final": 0.5724469999999999,
          "observed_growth_rate": 1.3427132590257445,
          "timepoint": "2020-10-01T00:00:00"
         },
         {
          "clade_membership": "6fabbb5",
          "frequency": 0.9999980000000004,
          "frequency_final": 0.9999960000000007,
          "observed_growth_rate": 0.9999979999960003,
          "timepoint": "2020-10-01T00:00:00"
         },
         {
          "clade_membership": "764595f",
          "frequency": 0.203535,
          "frequency_final": 0.5563659999999999,
          "observed_growth_rate": 2.733515120249588,
          "timepoint": "2020-10-01T00:00:00"
         },
         {
          "clade_membership": "7a88259",
          "frequency": 0.9999980000000004,
          "frequency_final": 0.9999960000000007,
          "observed_growth_rate": 0.9999979999960003,
          "timepoint": "2020-10-01T00:00:00"
         },
         {
          "clade_membership": "7f4204a",
          "frequency": 0.203535,
          "frequency_final": 0.5563659999999999,
          "observed_growth_rate": 2.733515120249588,
          "timepoint": "2020-10-01T00:00:00"
         },
         {
          "clade_membership": "8126320",
          "frequency": 0.31101700000000004,
          "frequency_final": 0.266764,
          "observed_growth_rate": 0.8577151731255847,
          "timepoint": "2020-10-01T00:00:00"
         },
         {
          "clade_membership": "8544c1e",
          "frequency": 0.4173420000000001,
          "frequency_final": 0.26919699999999996,
          "observed_growth_rate": 0.6450273396878338,
          "timepoint": "2020-10-01T00:00:00"
         },
         {
          "clade_membership": "8727a54",
          "frequency": 0.9999980000000004,
          "frequency_final": 0.9999960000000007,
          "observed_growth_rate": 0.9999979999960003,
          "timepoint": "2020-10-01T00:00:00"
         },
         {
          "clade_membership": "aac4331",
          "frequency": 0.4263360000000001,
          "frequency_final": 0.5724469999999999,
          "observed_growth_rate": 1.3427132590257445,
          "timepoint": "2020-10-01T00:00:00"
         },
         {
          "clade_membership": "b2d3f6b",
          "frequency": 0.203535,
          "frequency_final": 0.5563659999999999,
          "observed_growth_rate": 2.733515120249588,
          "timepoint": "2020-10-01T00:00:00"
         },
         {
          "clade_membership": "b673975",
          "frequency": 0.203535,
          "frequency_final": 0.5563659999999999,
          "observed_growth_rate": 2.733515120249588,
          "timepoint": "2020-10-01T00:00:00"
         },
         {
          "clade_membership": "bae78d3",
          "frequency": 0.9999980000000004,
          "frequency_final": 0.9999960000000007,
          "observed_growth_rate": 0.9999979999960003,
          "timepoint": "2020-10-01T00:00:00"
         },
         {
          "clade_membership": "bfd1faf",
          "frequency": 0.4263360000000001,
          "frequency_final": 0.5724469999999999,
          "observed_growth_rate": 1.3427132590257445,
          "timepoint": "2020-10-01T00:00:00"
         },
         {
          "clade_membership": "c1b980b",
          "frequency": 0.17410899999999996,
          "frequency_final": 0.016058,
          "observed_growth_rate": 0.09222958032037404,
          "timepoint": "2020-10-01T00:00:00"
         },
         {
          "clade_membership": "c72df39",
          "frequency": 0.9999980000000004,
          "frequency_final": 0.9999960000000007,
          "observed_growth_rate": 0.9999979999960003,
          "timepoint": "2020-10-01T00:00:00"
         },
         {
          "clade_membership": "cbef932",
          "frequency": 0.9999980000000004,
          "frequency_final": 0.9999960000000007,
          "observed_growth_rate": 0.9999979999960003,
          "timepoint": "2020-10-01T00:00:00"
         },
         {
          "clade_membership": "da37a22",
          "frequency": 0.9999980000000004,
          "frequency_final": 0.9999960000000007,
          "observed_growth_rate": 0.9999979999960003,
          "timepoint": "2020-10-01T00:00:00"
         },
         {
          "clade_membership": "e592319",
          "frequency": 0.203535,
          "frequency_final": 0.5563659999999999,
          "observed_growth_rate": 2.733515120249588,
          "timepoint": "2020-10-01T00:00:00"
         },
         {
          "clade_membership": "e72bf28",
          "frequency": 0.9999980000000004,
          "frequency_final": 0.9999960000000007,
          "observed_growth_rate": 0.9999979999960003,
          "timepoint": "2020-10-01T00:00:00"
         },
         {
          "clade_membership": "eb2f804",
          "frequency": 0.9999980000000004,
          "frequency_final": 0.9999960000000007,
          "observed_growth_rate": 0.9999979999960003,
          "timepoint": "2020-10-01T00:00:00"
         },
         {
          "clade_membership": "root",
          "frequency": 0.9999980000000004,
          "frequency_final": 0.9999960000000007,
          "observed_growth_rate": 0.9999979999960003,
          "timepoint": "2020-10-01T00:00:00"
         },
         {
          "clade_membership": "0690f07",
          "frequency": 0.17538,
          "frequency_final": 0,
          "observed_growth_rate": 0,
          "timepoint": "2021-04-01T00:00:00"
         },
         {
          "clade_membership": "0783f23",
          "frequency": 0.9999949999999997,
          "frequency_final": 1.000003,
          "observed_growth_rate": 1.0000080000400005,
          "timepoint": "2021-04-01T00:00:00"
         },
         {
          "clade_membership": "0d82b51",
          "frequency": 0.9999949999999997,
          "frequency_final": 1.000003,
          "observed_growth_rate": 1.0000080000400005,
          "timepoint": "2021-04-01T00:00:00"
         },
         {
          "clade_membership": "0d8bb1e",
          "frequency": 0.9999949999999997,
          "frequency_final": 1.000003,
          "observed_growth_rate": 1.0000080000400005,
          "timepoint": "2021-04-01T00:00:00"
         },
         {
          "clade_membership": "1bce829",
          "frequency": 0.9999949999999997,
          "frequency_final": 1.000003,
          "observed_growth_rate": 1.0000080000400005,
          "timepoint": "2021-04-01T00:00:00"
         },
         {
          "clade_membership": "2018235",
          "frequency": 0.9999949999999997,
          "frequency_final": 1.000003,
          "observed_growth_rate": 1.0000080000400005,
          "timepoint": "2021-04-01T00:00:00"
         },
         {
          "clade_membership": "217cef5",
          "frequency": 0.5283669999999999,
          "frequency_final": 0.339049,
          "observed_growth_rate": 0.6416922328608714,
          "timepoint": "2021-04-01T00:00:00"
         },
         {
          "clade_membership": "289c480",
          "frequency": 0.9999949999999997,
          "frequency_final": 1.000003,
          "observed_growth_rate": 1.0000080000400005,
          "timepoint": "2021-04-01T00:00:00"
         },
         {
          "clade_membership": "2edcf74",
          "frequency": 0.28061699999999995,
          "frequency_final": 0.46306,
          "observed_growth_rate": 1.6501494920122448,
          "timepoint": "2021-04-01T00:00:00"
         },
         {
          "clade_membership": "30c6c1b",
          "frequency": 0.9999949999999997,
          "frequency_final": 1.000003,
          "observed_growth_rate": 1.0000080000400005,
          "timepoint": "2021-04-01T00:00:00"
         },
         {
          "clade_membership": "342bee6",
          "frequency": 0.191011,
          "frequency_final": 0.197894,
          "observed_growth_rate": 1.0360345739250618,
          "timepoint": "2021-04-01T00:00:00"
         },
         {
          "clade_membership": "3aad673",
          "frequency": 0.9999949999999997,
          "frequency_final": 1.000003,
          "observed_growth_rate": 1.0000080000400005,
          "timepoint": "2021-04-01T00:00:00"
         },
         {
          "clade_membership": "3f3f0ca",
          "frequency": 0.9999949999999997,
          "frequency_final": 1.000003,
          "observed_growth_rate": 1.0000080000400005,
          "timepoint": "2021-04-01T00:00:00"
         },
         {
          "clade_membership": "4b52cfb",
          "frequency": 0.35277899999999995,
          "frequency_final": 0.339049,
          "observed_growth_rate": 0.9610804498000165,
          "timepoint": "2021-04-01T00:00:00"
         },
         {
          "clade_membership": "53320bc",
          "frequency": 0.9999949999999997,
          "frequency_final": 1.000003,
          "observed_growth_rate": 1.0000080000400005,
          "timepoint": "2021-04-01T00:00:00"
         },
         {
          "clade_membership": "6270695",
          "frequency": 0.9999949999999997,
          "frequency_final": 1.000003,
          "observed_growth_rate": 1.0000080000400005,
          "timepoint": "2021-04-01T00:00:00"
         },
         {
          "clade_membership": "63fb9b5",
          "frequency": 0.28061699999999995,
          "frequency_final": 0.46306,
          "observed_growth_rate": 1.6501494920122448,
          "timepoint": "2021-04-01T00:00:00"
         },
         {
          "clade_membership": "670a3cd",
          "frequency": 0.28061699999999995,
          "frequency_final": 0.46306,
          "observed_growth_rate": 1.6501494920122448,
          "timepoint": "2021-04-01T00:00:00"
         },
         {
          "clade_membership": "670b070",
          "frequency": 0.5283669999999999,
          "frequency_final": 0.339049,
          "observed_growth_rate": 0.6416922328608714,
          "timepoint": "2021-04-01T00:00:00"
         },
         {
          "clade_membership": "6fabbb5",
          "frequency": 0.9999949999999997,
          "frequency_final": 1.000003,
          "observed_growth_rate": 1.0000080000400005,
          "timepoint": "2021-04-01T00:00:00"
         },
         {
          "clade_membership": "764595f",
          "frequency": 0.35298699999999994,
          "frequency_final": 0.339049,
          "observed_growth_rate": 0.9605141265825655,
          "timepoint": "2021-04-01T00:00:00"
         },
         {
          "clade_membership": "7a88259",
          "frequency": 0.9999949999999997,
          "frequency_final": 1.000003,
          "observed_growth_rate": 1.0000080000400005,
          "timepoint": "2021-04-01T00:00:00"
         },
         {
          "clade_membership": "7f4204a",
          "frequency": 0.35298699999999994,
          "frequency_final": 0.339049,
          "observed_growth_rate": 0.9605141265825655,
          "timepoint": "2021-04-01T00:00:00"
         },
         {
          "clade_membership": "8544c1e",
          "frequency": 0.28061699999999995,
          "frequency_final": 0.46306,
          "observed_growth_rate": 1.6501494920122448,
          "timepoint": "2021-04-01T00:00:00"
         },
         {
          "clade_membership": "8727a54",
          "frequency": 0.9999949999999997,
          "frequency_final": 1.000003,
          "observed_growth_rate": 1.0000080000400005,
          "timepoint": "2021-04-01T00:00:00"
         },
         {
          "clade_membership": "aac4331",
          "frequency": 0.5283669999999999,
          "frequency_final": 0.339049,
          "observed_growth_rate": 0.6416922328608714,
          "timepoint": "2021-04-01T00:00:00"
         },
         {
          "clade_membership": "b2d3f6b",
          "frequency": 0.35298699999999994,
          "frequency_final": 0.339049,
          "observed_growth_rate": 0.9605141265825655,
          "timepoint": "2021-04-01T00:00:00"
         },
         {
          "clade_membership": "b673975",
          "frequency": 0.35298699999999994,
          "frequency_final": 0.339049,
          "observed_growth_rate": 0.9605141265825655,
          "timepoint": "2021-04-01T00:00:00"
         },
         {
          "clade_membership": "bae78d3",
          "frequency": 0.9999949999999997,
          "frequency_final": 1.000003,
          "observed_growth_rate": 1.0000080000400005,
          "timepoint": "2021-04-01T00:00:00"
         },
         {
          "clade_membership": "bfd1faf",
          "frequency": 0.5283669999999999,
          "frequency_final": 0.339049,
          "observed_growth_rate": 0.6416922328608714,
          "timepoint": "2021-04-01T00:00:00"
         },
         {
          "clade_membership": "c72df39",
          "frequency": 0.9999949999999997,
          "frequency_final": 1.000003,
          "observed_growth_rate": 1.0000080000400005,
          "timepoint": "2021-04-01T00:00:00"
         },
         {
          "clade_membership": "cbef932",
          "frequency": 0.9999949999999997,
          "frequency_final": 1.000003,
          "observed_growth_rate": 1.0000080000400005,
          "timepoint": "2021-04-01T00:00:00"
         },
         {
          "clade_membership": "da37a22",
          "frequency": 0.9999949999999997,
          "frequency_final": 1.000003,
          "observed_growth_rate": 1.0000080000400005,
          "timepoint": "2021-04-01T00:00:00"
         },
         {
          "clade_membership": "e592319",
          "frequency": 0.35298699999999994,
          "frequency_final": 0.339049,
          "observed_growth_rate": 0.9605141265825655,
          "timepoint": "2021-04-01T00:00:00"
         },
         {
          "clade_membership": "e72bf28",
          "frequency": 0.9999949999999997,
          "frequency_final": 1.000003,
          "observed_growth_rate": 1.0000080000400005,
          "timepoint": "2021-04-01T00:00:00"
         },
         {
          "clade_membership": "eb2f804",
          "frequency": 0.9999949999999997,
          "frequency_final": 1.000003,
          "observed_growth_rate": 1.0000080000400005,
          "timepoint": "2021-04-01T00:00:00"
         },
         {
          "clade_membership": "root",
          "frequency": 0.9999949999999997,
          "frequency_final": 1.000003,
          "observed_growth_rate": 1.0000080000400005,
          "timepoint": "2021-04-01T00:00:00"
         },
         {
          "clade_membership": "029c69d",
          "frequency": 0.221707,
          "frequency_final": 0.6415600000000004,
          "observed_growth_rate": 2.893729110943725,
          "timepoint": "2021-10-01T00:00:00"
         },
         {
          "clade_membership": "0654693",
          "frequency": 0.266764,
          "frequency_final": 0.6415600000000004,
          "observed_growth_rate": 2.404972185152421,
          "timepoint": "2021-10-01T00:00:00"
         },
         {
          "clade_membership": "0783f23",
          "frequency": 0.9999960000000007,
          "frequency_final": 1.0000000000000007,
          "observed_growth_rate": 1.000004000016,
          "timepoint": "2021-10-01T00:00:00"
         },
         {
          "clade_membership": "0d82b51",
          "frequency": 0.9999960000000007,
          "frequency_final": 1.0000000000000007,
          "observed_growth_rate": 1.000004000016,
          "timepoint": "2021-10-01T00:00:00"
         },
         {
          "clade_membership": "0d8bb1e",
          "frequency": 0.9999960000000007,
          "frequency_final": 1.0000000000000007,
          "observed_growth_rate": 1.000004000016,
          "timepoint": "2021-10-01T00:00:00"
         },
         {
          "clade_membership": "1bce829",
          "frequency": 0.9999960000000007,
          "frequency_final": 1.0000000000000007,
          "observed_growth_rate": 1.000004000016,
          "timepoint": "2021-10-01T00:00:00"
         },
         {
          "clade_membership": "2018235",
          "frequency": 0.9999960000000007,
          "frequency_final": 1.0000000000000007,
          "observed_growth_rate": 1.000004000016,
          "timepoint": "2021-10-01T00:00:00"
         },
         {
          "clade_membership": "217cef5",
          "frequency": 0.5724469999999999,
          "frequency_final": 0.31413299999999994,
          "observed_growth_rate": 0.5487547318791084,
          "timepoint": "2021-10-01T00:00:00"
         },
         {
          "clade_membership": "289c480",
          "frequency": 0.9999960000000007,
          "frequency_final": 1.0000000000000007,
          "observed_growth_rate": 1.000004000016,
          "timepoint": "2021-10-01T00:00:00"
         },
         {
          "clade_membership": "2edcf74",
          "frequency": 0.26919699999999996,
          "frequency_final": 0.6415600000000004,
          "observed_growth_rate": 2.383236068752625,
          "timepoint": "2021-10-01T00:00:00"
         },
         {
          "clade_membership": "30c6c1b",
          "frequency": 0.9999960000000007,
          "frequency_final": 1.0000000000000007,
          "observed_growth_rate": 1.000004000016,
          "timepoint": "2021-10-01T00:00:00"
         },
         {
          "clade_membership": "342bee6",
          "frequency": 0.15835200000000002,
          "frequency_final": 0.044307,
          "observed_growth_rate": 0.2798006971809639,
          "timepoint": "2021-10-01T00:00:00"
         },
         {
          "clade_membership": "3aad673",
          "frequency": 0.9999960000000007,
          "frequency_final": 1.0000000000000007,
          "observed_growth_rate": 1.000004000016,
          "timepoint": "2021-10-01T00:00:00"
         },
         {
          "clade_membership": "3f3f0ca",
          "frequency": 0.9999960000000007,
          "frequency_final": 1.0000000000000007,
          "observed_growth_rate": 1.000004000016,
          "timepoint": "2021-10-01T00:00:00"
         },
         {
          "clade_membership": "4b52cfb",
          "frequency": 0.5563659999999999,
          "frequency_final": 0.31413299999999994,
          "observed_growth_rate": 0.5646157385605878,
          "timepoint": "2021-10-01T00:00:00"
         },
         {
          "clade_membership": "4eae73a",
          "frequency": 0.221347,
          "frequency_final": 0.6415600000000004,
          "observed_growth_rate": 2.89843548817016,
          "timepoint": "2021-10-01T00:00:00"
         },
         {
          "clade_membership": "53320bc",
          "frequency": 0.9999960000000007,
          "frequency_final": 1.0000000000000007,
          "observed_growth_rate": 1.000004000016,
          "timepoint": "2021-10-01T00:00:00"
         },
         {
          "clade_membership": "53d3851",
          "frequency": 0.266764,
          "frequency_final": 0.6415600000000004,
          "observed_growth_rate": 2.404972185152421,
          "timepoint": "2021-10-01T00:00:00"
         },
         {
          "clade_membership": "5a8b5f6",
          "frequency": 0.26663899999999996,
          "frequency_final": 0.6415600000000004,
          "observed_growth_rate": 2.4060996328369084,
          "timepoint": "2021-10-01T00:00:00"
         },
         {
          "clade_membership": "5f0aa3c",
          "frequency": 0.158297,
          "frequency_final": 0.139494,
          "observed_growth_rate": 0.8812169529428859,
          "timepoint": "2021-10-01T00:00:00"
         },
         {
          "clade_membership": "6270695",
          "frequency": 0.9999960000000007,
          "frequency_final": 1.0000000000000007,
          "observed_growth_rate": 1.000004000016,
          "timepoint": "2021-10-01T00:00:00"
         },
         {
          "clade_membership": "63fb9b5",
          "frequency": 0.26919699999999996,
          "frequency_final": 0.6415600000000004,
          "observed_growth_rate": 2.383236068752625,
          "timepoint": "2021-10-01T00:00:00"
         },
         {
          "clade_membership": "670a3cd",
          "frequency": 0.26919699999999996,
          "frequency_final": 0.6415600000000004,
          "observed_growth_rate": 2.383236068752625,
          "timepoint": "2021-10-01T00:00:00"
         },
         {
          "clade_membership": "670b070",
          "frequency": 0.5724469999999999,
          "frequency_final": 0.31413299999999994,
          "observed_growth_rate": 0.5487547318791084,
          "timepoint": "2021-10-01T00:00:00"
         },
         {
          "clade_membership": "6fabbb5",
          "frequency": 0.9999960000000007,
          "frequency_final": 1.0000000000000007,
          "observed_growth_rate": 1.000004000016,
          "timepoint": "2021-10-01T00:00:00"
         },
         {
          "clade_membership": "764595f",
          "frequency": 0.5563659999999999,
          "frequency_final": 0.31413299999999994,
          "observed_growth_rate": 0.5646157385605878,
          "timepoint": "2021-10-01T00:00:00"
         },
         {
          "clade_membership": "7a88259",
          "frequency": 0.9999960000000007,
          "frequency_final": 1.0000000000000007,
          "observed_growth_rate": 1.000004000016,
          "timepoint": "2021-10-01T00:00:00"
         },
         {
          "clade_membership": "7f4204a",
          "frequency": 0.5563659999999999,
          "frequency_final": 0.31413299999999994,
          "observed_growth_rate": 0.5646157385605878,
          "timepoint": "2021-10-01T00:00:00"
         },
         {
          "clade_membership": "8126320",
          "frequency": 0.266764,
          "frequency_final": 0.6415600000000004,
          "observed_growth_rate": 2.404972185152421,
          "timepoint": "2021-10-01T00:00:00"
         },
         {
          "clade_membership": "8544c1e",
          "frequency": 0.26919699999999996,
          "frequency_final": 0.6415600000000004,
          "observed_growth_rate": 2.383236068752625,
          "timepoint": "2021-10-01T00:00:00"
         },
         {
          "clade_membership": "8727a54",
          "frequency": 0.9999960000000007,
          "frequency_final": 1.0000000000000007,
          "observed_growth_rate": 1.000004000016,
          "timepoint": "2021-10-01T00:00:00"
         },
         {
          "clade_membership": "aac4331",
          "frequency": 0.5724469999999999,
          "frequency_final": 0.31413299999999994,
          "observed_growth_rate": 0.5487547318791084,
          "timepoint": "2021-10-01T00:00:00"
         },
         {
          "clade_membership": "b125362",
          "frequency": 0.26663899999999996,
          "frequency_final": 0.6415600000000004,
          "observed_growth_rate": 2.4060996328369084,
          "timepoint": "2021-10-01T00:00:00"
         },
         {
          "clade_membership": "b2d3f6b",
          "frequency": 0.5563659999999999,
          "frequency_final": 0.31413299999999994,
          "observed_growth_rate": 0.5646157385605878,
          "timepoint": "2021-10-01T00:00:00"
         },
         {
          "clade_membership": "b66b3e9",
          "frequency": 0.26663899999999996,
          "frequency_final": 0.6415600000000004,
          "observed_growth_rate": 2.4060996328369084,
          "timepoint": "2021-10-01T00:00:00"
         },
         {
          "clade_membership": "b673975",
          "frequency": 0.5563659999999999,
          "frequency_final": 0.31413299999999994,
          "observed_growth_rate": 0.5646157385605878,
          "timepoint": "2021-10-01T00:00:00"
         },
         {
          "clade_membership": "b771746",
          "frequency": 0.26663899999999996,
          "frequency_final": 0.6415600000000004,
          "observed_growth_rate": 2.4060996328369084,
          "timepoint": "2021-10-01T00:00:00"
         },
         {
          "clade_membership": "bae78d3",
          "frequency": 0.9999960000000007,
          "frequency_final": 1.0000000000000007,
          "observed_growth_rate": 1.000004000016,
          "timepoint": "2021-10-01T00:00:00"
         },
         {
          "clade_membership": "bfd1faf",
          "frequency": 0.5724469999999999,
          "frequency_final": 0.31413299999999994,
          "observed_growth_rate": 0.5487547318791084,
          "timepoint": "2021-10-01T00:00:00"
         },
         {
          "clade_membership": "c72df39",
          "frequency": 0.9999960000000007,
          "frequency_final": 1.0000000000000007,
          "observed_growth_rate": 1.000004000016,
          "timepoint": "2021-10-01T00:00:00"
         },
         {
          "clade_membership": "cbef932",
          "frequency": 0.9999960000000007,
          "frequency_final": 1.0000000000000007,
          "observed_growth_rate": 1.000004000016,
          "timepoint": "2021-10-01T00:00:00"
         },
         {
          "clade_membership": "cc789e1",
          "frequency": 0.260633,
          "frequency_final": 0.16088899999999998,
          "observed_growth_rate": 0.6173009557500392,
          "timepoint": "2021-10-01T00:00:00"
         },
         {
          "clade_membership": "da37a22",
          "frequency": 0.9999960000000007,
          "frequency_final": 1.0000000000000007,
          "observed_growth_rate": 1.000004000016,
          "timepoint": "2021-10-01T00:00:00"
         },
         {
          "clade_membership": "e592319",
          "frequency": 0.5563659999999999,
          "frequency_final": 0.31413299999999994,
          "observed_growth_rate": 0.5646157385605878,
          "timepoint": "2021-10-01T00:00:00"
         },
         {
          "clade_membership": "e72bf28",
          "frequency": 0.9999960000000007,
          "frequency_final": 1.0000000000000007,
          "observed_growth_rate": 1.000004000016,
          "timepoint": "2021-10-01T00:00:00"
         },
         {
          "clade_membership": "eb2f804",
          "frequency": 0.9999960000000007,
          "frequency_final": 1.0000000000000007,
          "observed_growth_rate": 1.000004000016,
          "timepoint": "2021-10-01T00:00:00"
         },
         {
          "clade_membership": "f6d9b34",
          "frequency": 0.26663899999999996,
          "frequency_final": 0.6415600000000004,
          "observed_growth_rate": 2.4060996328369084,
          "timepoint": "2021-10-01T00:00:00"
         },
         {
          "clade_membership": "root",
          "frequency": 0.9999960000000007,
          "frequency_final": 1.0000000000000007,
          "observed_growth_rate": 1.000004000016,
          "timepoint": "2021-10-01T00:00:00"
         },
         {
          "clade_membership": "029c69d",
          "frequency": 0.44169099999999994,
          "frequency_final": 0.8711680000000004,
          "observed_growth_rate": 1.9723471838910018,
          "timepoint": "2022-04-01T00:00:00"
         },
         {
          "clade_membership": "0654693",
          "frequency": 0.46306,
          "frequency_final": 0.8711680000000004,
          "observed_growth_rate": 1.8813285535351798,
          "timepoint": "2022-04-01T00:00:00"
         },
         {
          "clade_membership": "0783f23",
          "frequency": 1.000003,
          "frequency_final": 0.9999970000000001,
          "observed_growth_rate": 0.9999940000180001,
          "timepoint": "2022-04-01T00:00:00"
         },
         {
          "clade_membership": "0d82b51",
          "frequency": 1.000003,
          "frequency_final": 0.9999970000000001,
          "observed_growth_rate": 0.9999940000180001,
          "timepoint": "2022-04-01T00:00:00"
         },
         {
          "clade_membership": "0d8bb1e",
          "frequency": 1.000003,
          "frequency_final": 0.9999970000000001,
          "observed_growth_rate": 0.9999940000180001,
          "timepoint": "2022-04-01T00:00:00"
         },
         {
          "clade_membership": "0da4968",
          "frequency": 0.197894,
          "frequency_final": 0.010173999999999999,
          "observed_growth_rate": 0.05141136163804865,
          "timepoint": "2022-04-01T00:00:00"
         },
         {
          "clade_membership": "1bce829",
          "frequency": 1.000003,
          "frequency_final": 0.9999970000000001,
          "observed_growth_rate": 0.9999940000180001,
          "timepoint": "2022-04-01T00:00:00"
         },
         {
          "clade_membership": "2018235",
          "frequency": 1.000003,
          "frequency_final": 0.9999970000000001,
          "observed_growth_rate": 0.9999940000180001,
          "timepoint": "2022-04-01T00:00:00"
         },
         {
          "clade_membership": "217cef5",
          "frequency": 0.339049,
          "frequency_final": 0.118655,
          "observed_growth_rate": 0.349964164471802,
          "timepoint": "2022-04-01T00:00:00"
         },
         {
          "clade_membership": "289c480",
          "frequency": 1.000003,
          "frequency_final": 0.9999970000000001,
          "observed_growth_rate": 0.9999940000180001,
          "timepoint": "2022-04-01T00:00:00"
         },
         {
          "clade_membership": "2edcf74",
          "frequency": 0.46306,
          "frequency_final": 0.8711680000000004,
          "observed_growth_rate": 1.8813285535351798,
          "timepoint": "2022-04-01T00:00:00"
         },
         {
          "clade_membership": "30c6c1b",
          "frequency": 1.000003,
          "frequency_final": 0.9999970000000001,
          "observed_growth_rate": 0.9999940000180001,
          "timepoint": "2022-04-01T00:00:00"
         },
         {
          "clade_membership": "342bee6",
          "frequency": 0.197894,
          "frequency_final": 0.010173999999999999,
          "observed_growth_rate": 0.05141136163804865,
          "timepoint": "2022-04-01T00:00:00"
         },
         {
          "clade_membership": "3aad673",
          "frequency": 1.000003,
          "frequency_final": 0.9999970000000001,
          "observed_growth_rate": 0.9999940000180001,
          "timepoint": "2022-04-01T00:00:00"
         },
         {
          "clade_membership": "3f3f0ca",
          "frequency": 1.000003,
          "frequency_final": 0.9999970000000001,
          "observed_growth_rate": 0.9999940000180001,
          "timepoint": "2022-04-01T00:00:00"
         },
         {
          "clade_membership": "4b52cfb",
          "frequency": 0.339049,
          "frequency_final": 0.118655,
          "observed_growth_rate": 0.349964164471802,
          "timepoint": "2022-04-01T00:00:00"
         },
         {
          "clade_membership": "4eae73a",
          "frequency": 0.44169099999999994,
          "frequency_final": 0.8711680000000004,
          "observed_growth_rate": 1.9723471838910018,
          "timepoint": "2022-04-01T00:00:00"
         },
         {
          "clade_membership": "53320bc",
          "frequency": 1.000003,
          "frequency_final": 0.9999970000000001,
          "observed_growth_rate": 0.9999940000180001,
          "timepoint": "2022-04-01T00:00:00"
         },
         {
          "clade_membership": "53d3851",
          "frequency": 0.46306,
          "frequency_final": 0.8711680000000004,
          "observed_growth_rate": 1.8813285535351798,
          "timepoint": "2022-04-01T00:00:00"
         },
         {
          "clade_membership": "570d9f3",
          "frequency": 0.197894,
          "frequency_final": 0.010173999999999999,
          "observed_growth_rate": 0.05141136163804865,
          "timepoint": "2022-04-01T00:00:00"
         },
         {
          "clade_membership": "5a8b5f6",
          "frequency": 0.46306,
          "frequency_final": 0.8711680000000004,
          "observed_growth_rate": 1.8813285535351798,
          "timepoint": "2022-04-01T00:00:00"
         },
         {
          "clade_membership": "6270695",
          "frequency": 1.000003,
          "frequency_final": 0.9999970000000001,
          "observed_growth_rate": 0.9999940000180001,
          "timepoint": "2022-04-01T00:00:00"
         },
         {
          "clade_membership": "63fb9b5",
          "frequency": 0.46306,
          "frequency_final": 0.8711680000000004,
          "observed_growth_rate": 1.8813285535351798,
          "timepoint": "2022-04-01T00:00:00"
         },
         {
          "clade_membership": "670a3cd",
          "frequency": 0.46306,
          "frequency_final": 0.8711680000000004,
          "observed_growth_rate": 1.8813285535351798,
          "timepoint": "2022-04-01T00:00:00"
         },
         {
          "clade_membership": "670b070",
          "frequency": 0.339049,
          "frequency_final": 0.118655,
          "observed_growth_rate": 0.349964164471802,
          "timepoint": "2022-04-01T00:00:00"
         },
         {
          "clade_membership": "69ac56c",
          "frequency": 0.197894,
          "frequency_final": 0.010173999999999999,
          "observed_growth_rate": 0.05141136163804865,
          "timepoint": "2022-04-01T00:00:00"
         },
         {
          "clade_membership": "6fabbb5",
          "frequency": 1.000003,
          "frequency_final": 0.9999970000000001,
          "observed_growth_rate": 0.9999940000180001,
          "timepoint": "2022-04-01T00:00:00"
         },
         {
          "clade_membership": "764595f",
          "frequency": 0.339049,
          "frequency_final": 0.118655,
          "observed_growth_rate": 0.349964164471802,
          "timepoint": "2022-04-01T00:00:00"
         },
         {
          "clade_membership": "7a88259",
          "frequency": 1.000003,
          "frequency_final": 0.9999970000000001,
          "observed_growth_rate": 0.9999940000180001,
          "timepoint": "2022-04-01T00:00:00"
         },
         {
          "clade_membership": "7bd1fcd",
          "frequency": 0.197894,
          "frequency_final": 0.010173999999999999,
          "observed_growth_rate": 0.05141136163804865,
          "timepoint": "2022-04-01T00:00:00"
         },
         {
          "clade_membership": "7f4204a",
          "frequency": 0.339049,
          "frequency_final": 0.118655,
          "observed_growth_rate": 0.349964164471802,
          "timepoint": "2022-04-01T00:00:00"
         },
         {
          "clade_membership": "8126320",
          "frequency": 0.46306,
          "frequency_final": 0.8711680000000004,
          "observed_growth_rate": 1.8813285535351798,
          "timepoint": "2022-04-01T00:00:00"
         },
         {
          "clade_membership": "8544c1e",
          "frequency": 0.46306,
          "frequency_final": 0.8711680000000004,
          "observed_growth_rate": 1.8813285535351798,
          "timepoint": "2022-04-01T00:00:00"
         },
         {
          "clade_membership": "8727a54",
          "frequency": 1.000003,
          "frequency_final": 0.9999970000000001,
          "observed_growth_rate": 0.9999940000180001,
          "timepoint": "2022-04-01T00:00:00"
         },
         {
          "clade_membership": "99a1849",
          "frequency": 0.197894,
          "frequency_final": 0.010173999999999999,
          "observed_growth_rate": 0.05141136163804865,
          "timepoint": "2022-04-01T00:00:00"
         },
         {
          "clade_membership": "a182dc2",
          "frequency": 0.197894,
          "frequency_final": 0.010173999999999999,
          "observed_growth_rate": 0.05141136163804865,
          "timepoint": "2022-04-01T00:00:00"
         },
         {
          "clade_membership": "aac4331",
          "frequency": 0.339049,
          "frequency_final": 0.118655,
          "observed_growth_rate": 0.349964164471802,
          "timepoint": "2022-04-01T00:00:00"
         },
         {
          "clade_membership": "b125362",
          "frequency": 0.46306,
          "frequency_final": 0.8711680000000004,
          "observed_growth_rate": 1.8813285535351798,
          "timepoint": "2022-04-01T00:00:00"
         },
         {
          "clade_membership": "b2d3f6b",
          "frequency": 0.339049,
          "frequency_final": 0.118655,
          "observed_growth_rate": 0.349964164471802,
          "timepoint": "2022-04-01T00:00:00"
         },
         {
          "clade_membership": "b66b3e9",
          "frequency": 0.46306,
          "frequency_final": 0.8711680000000004,
          "observed_growth_rate": 1.8813285535351798,
          "timepoint": "2022-04-01T00:00:00"
         },
         {
          "clade_membership": "b673975",
          "frequency": 0.339049,
          "frequency_final": 0.118655,
          "observed_growth_rate": 0.349964164471802,
          "timepoint": "2022-04-01T00:00:00"
         },
         {
          "clade_membership": "b771746",
          "frequency": 0.46306,
          "frequency_final": 0.8711680000000004,
          "observed_growth_rate": 1.8813285535351798,
          "timepoint": "2022-04-01T00:00:00"
         },
         {
          "clade_membership": "bae78d3",
          "frequency": 1.000003,
          "frequency_final": 0.9999970000000001,
          "observed_growth_rate": 0.9999940000180001,
          "timepoint": "2022-04-01T00:00:00"
         },
         {
          "clade_membership": "bfd1faf",
          "frequency": 0.339049,
          "frequency_final": 0.118655,
          "observed_growth_rate": 0.349964164471802,
          "timepoint": "2022-04-01T00:00:00"
         },
         {
          "clade_membership": "c579310",
          "frequency": 0.197894,
          "frequency_final": 0.010173999999999999,
          "observed_growth_rate": 0.05141136163804865,
          "timepoint": "2022-04-01T00:00:00"
         },
         {
          "clade_membership": "c72df39",
          "frequency": 1.000003,
          "frequency_final": 0.9999970000000001,
          "observed_growth_rate": 0.9999940000180001,
          "timepoint": "2022-04-01T00:00:00"
         },
         {
          "clade_membership": "cbef932",
          "frequency": 1.000003,
          "frequency_final": 0.9999970000000001,
          "observed_growth_rate": 0.9999940000180001,
          "timepoint": "2022-04-01T00:00:00"
         },
         {
          "clade_membership": "d3aaa45",
          "frequency": 0.22746200000000003,
          "frequency_final": 0.2605990000000001,
          "observed_growth_rate": 1.145681476466399,
          "timepoint": "2022-04-01T00:00:00"
         },
         {
          "clade_membership": "da37a22",
          "frequency": 1.000003,
          "frequency_final": 0.9999970000000001,
          "observed_growth_rate": 0.9999940000180001,
          "timepoint": "2022-04-01T00:00:00"
         },
         {
          "clade_membership": "dab29ab",
          "frequency": 0.197894,
          "frequency_final": 0.010173999999999999,
          "observed_growth_rate": 0.05141136163804865,
          "timepoint": "2022-04-01T00:00:00"
         },
         {
          "clade_membership": "e592319",
          "frequency": 0.339049,
          "frequency_final": 0.118655,
          "observed_growth_rate": 0.349964164471802,
          "timepoint": "2022-04-01T00:00:00"
         },
         {
          "clade_membership": "e72bf28",
          "frequency": 1.000003,
          "frequency_final": 0.9999970000000001,
          "observed_growth_rate": 0.9999940000180001,
          "timepoint": "2022-04-01T00:00:00"
         },
         {
          "clade_membership": "eb2f804",
          "frequency": 1.000003,
          "frequency_final": 0.9999970000000001,
          "observed_growth_rate": 0.9999940000180001,
          "timepoint": "2022-04-01T00:00:00"
         },
         {
          "clade_membership": "f371419",
          "frequency": 0.197894,
          "frequency_final": 0.010173999999999999,
          "observed_growth_rate": 0.05141136163804865,
          "timepoint": "2022-04-01T00:00:00"
         },
         {
          "clade_membership": "f6d9b34",
          "frequency": 0.46306,
          "frequency_final": 0.8711680000000004,
          "observed_growth_rate": 1.8813285535351798,
          "timepoint": "2022-04-01T00:00:00"
         },
         {
          "clade_membership": "root",
          "frequency": 1.000003,
          "frequency_final": 0.9999970000000001,
          "observed_growth_rate": 0.9999940000180001,
          "timepoint": "2022-04-01T00:00:00"
         },
         {
          "clade_membership": "029c69d",
          "frequency": 0.6415600000000004,
          "frequency_final": 0.9897239999999999,
          "observed_growth_rate": 1.5426834590685194,
          "timepoint": "2022-10-01T00:00:00"
         },
         {
          "clade_membership": "0654693",
          "frequency": 0.6415600000000004,
          "frequency_final": 0.9897239999999999,
          "observed_growth_rate": 1.5426834590685194,
          "timepoint": "2022-10-01T00:00:00"
         },
         {
          "clade_membership": "0783f23",
          "frequency": 1.0000000000000007,
          "frequency_final": 0.999991,
          "observed_growth_rate": 0.9999909999999993,
          "timepoint": "2022-10-01T00:00:00"
         },
         {
          "clade_membership": "0d82b51",
          "frequency": 1.0000000000000007,
          "frequency_final": 0.999991,
          "observed_growth_rate": 0.9999909999999993,
          "timepoint": "2022-10-01T00:00:00"
         },
         {
          "clade_membership": "0d8bb1e",
          "frequency": 1.0000000000000007,
          "frequency_final": 0.999991,
          "observed_growth_rate": 0.9999909999999993,
          "timepoint": "2022-10-01T00:00:00"
         },
         {
          "clade_membership": "1bce829",
          "frequency": 1.0000000000000007,
          "frequency_final": 0.999991,
          "observed_growth_rate": 0.9999909999999993,
          "timepoint": "2022-10-01T00:00:00"
         },
         {
          "clade_membership": "2018235",
          "frequency": 1.0000000000000007,
          "frequency_final": 0.999991,
          "observed_growth_rate": 0.9999909999999993,
          "timepoint": "2022-10-01T00:00:00"
         },
         {
          "clade_membership": "217cef5",
          "frequency": 0.31413299999999994,
          "frequency_final": 0.010267,
          "observed_growth_rate": 0.032683608535238266,
          "timepoint": "2022-10-01T00:00:00"
         },
         {
          "clade_membership": "289c480",
          "frequency": 1.0000000000000007,
          "frequency_final": 0.999991,
          "observed_growth_rate": 0.9999909999999993,
          "timepoint": "2022-10-01T00:00:00"
         },
         {
          "clade_membership": "2edcf74",
          "frequency": 0.6415600000000004,
          "frequency_final": 0.9897239999999999,
          "observed_growth_rate": 1.5426834590685194,
          "timepoint": "2022-10-01T00:00:00"
         },
         {
          "clade_membership": "30c6c1b",
          "frequency": 1.0000000000000007,
          "frequency_final": 0.999991,
          "observed_growth_rate": 0.9999909999999993,
          "timepoint": "2022-10-01T00:00:00"
         },
         {
          "clade_membership": "3aad673",
          "frequency": 1.0000000000000007,
          "frequency_final": 0.999991,
          "observed_growth_rate": 0.9999909999999993,
          "timepoint": "2022-10-01T00:00:00"
         },
         {
          "clade_membership": "3f3f0ca",
          "frequency": 1.0000000000000007,
          "frequency_final": 0.999991,
          "observed_growth_rate": 0.9999909999999993,
          "timepoint": "2022-10-01T00:00:00"
         },
         {
          "clade_membership": "4b52cfb",
          "frequency": 0.31413299999999994,
          "frequency_final": 0.010267,
          "observed_growth_rate": 0.032683608535238266,
          "timepoint": "2022-10-01T00:00:00"
         },
         {
          "clade_membership": "4eae73a",
          "frequency": 0.6415600000000004,
          "frequency_final": 0.9897239999999999,
          "observed_growth_rate": 1.5426834590685194,
          "timepoint": "2022-10-01T00:00:00"
         },
         {
          "clade_membership": "53320bc",
          "frequency": 1.0000000000000007,
          "frequency_final": 0.999991,
          "observed_growth_rate": 0.9999909999999993,
          "timepoint": "2022-10-01T00:00:00"
         },
         {
          "clade_membership": "53d3851",
          "frequency": 0.6415600000000004,
          "frequency_final": 0.9897239999999999,
          "observed_growth_rate": 1.5426834590685194,
          "timepoint": "2022-10-01T00:00:00"
         },
         {
          "clade_membership": "5a8b5f6",
          "frequency": 0.6415600000000004,
          "frequency_final": 0.9897239999999999,
          "observed_growth_rate": 1.5426834590685194,
          "timepoint": "2022-10-01T00:00:00"
         },
         {
          "clade_membership": "6270695",
          "frequency": 1.0000000000000007,
          "frequency_final": 0.999991,
          "observed_growth_rate": 0.9999909999999993,
          "timepoint": "2022-10-01T00:00:00"
         },
         {
          "clade_membership": "63fb9b5",
          "frequency": 0.6415600000000004,
          "frequency_final": 0.9897239999999999,
          "observed_growth_rate": 1.5426834590685194,
          "timepoint": "2022-10-01T00:00:00"
         },
         {
          "clade_membership": "670a3cd",
          "frequency": 0.6415600000000004,
          "frequency_final": 0.9897239999999999,
          "observed_growth_rate": 1.5426834590685194,
          "timepoint": "2022-10-01T00:00:00"
         },
         {
          "clade_membership": "670b070",
          "frequency": 0.31413299999999994,
          "frequency_final": 0.010267,
          "observed_growth_rate": 0.032683608535238266,
          "timepoint": "2022-10-01T00:00:00"
         },
         {
          "clade_membership": "6fabbb5",
          "frequency": 1.0000000000000007,
          "frequency_final": 0.999991,
          "observed_growth_rate": 0.9999909999999993,
          "timepoint": "2022-10-01T00:00:00"
         },
         {
          "clade_membership": "764595f",
          "frequency": 0.31413299999999994,
          "frequency_final": 0.010267,
          "observed_growth_rate": 0.032683608535238266,
          "timepoint": "2022-10-01T00:00:00"
         },
         {
          "clade_membership": "7a88259",
          "frequency": 1.0000000000000007,
          "frequency_final": 0.999991,
          "observed_growth_rate": 0.9999909999999993,
          "timepoint": "2022-10-01T00:00:00"
         },
         {
          "clade_membership": "7f4204a",
          "frequency": 0.31413299999999994,
          "frequency_final": 0.010267,
          "observed_growth_rate": 0.032683608535238266,
          "timepoint": "2022-10-01T00:00:00"
         },
         {
          "clade_membership": "8126320",
          "frequency": 0.6415600000000004,
          "frequency_final": 0.9897239999999999,
          "observed_growth_rate": 1.5426834590685194,
          "timepoint": "2022-10-01T00:00:00"
         },
         {
          "clade_membership": "8544c1e",
          "frequency": 0.6415600000000004,
          "frequency_final": 0.9897239999999999,
          "observed_growth_rate": 1.5426834590685194,
          "timepoint": "2022-10-01T00:00:00"
         },
         {
          "clade_membership": "8727a54",
          "frequency": 1.0000000000000007,
          "frequency_final": 0.999991,
          "observed_growth_rate": 0.9999909999999993,
          "timepoint": "2022-10-01T00:00:00"
         },
         {
          "clade_membership": "aac4331",
          "frequency": 0.31413299999999994,
          "frequency_final": 0.010267,
          "observed_growth_rate": 0.032683608535238266,
          "timepoint": "2022-10-01T00:00:00"
         },
         {
          "clade_membership": "b125362",
          "frequency": 0.6415600000000004,
          "frequency_final": 0.9897239999999999,
          "observed_growth_rate": 1.5426834590685194,
          "timepoint": "2022-10-01T00:00:00"
         },
         {
          "clade_membership": "b2d3f6b",
          "frequency": 0.31413299999999994,
          "frequency_final": 0.010267,
          "observed_growth_rate": 0.032683608535238266,
          "timepoint": "2022-10-01T00:00:00"
         },
         {
          "clade_membership": "b66b3e9",
          "frequency": 0.6415600000000004,
          "frequency_final": 0.9897239999999999,
          "observed_growth_rate": 1.5426834590685194,
          "timepoint": "2022-10-01T00:00:00"
         },
         {
          "clade_membership": "b673975",
          "frequency": 0.31413299999999994,
          "frequency_final": 0.010267,
          "observed_growth_rate": 0.032683608535238266,
          "timepoint": "2022-10-01T00:00:00"
         },
         {
          "clade_membership": "b771746",
          "frequency": 0.6415600000000004,
          "frequency_final": 0.9897239999999999,
          "observed_growth_rate": 1.5426834590685194,
          "timepoint": "2022-10-01T00:00:00"
         },
         {
          "clade_membership": "bae78d3",
          "frequency": 1.0000000000000007,
          "frequency_final": 0.999991,
          "observed_growth_rate": 0.9999909999999993,
          "timepoint": "2022-10-01T00:00:00"
         },
         {
          "clade_membership": "bfd1faf",
          "frequency": 0.31413299999999994,
          "frequency_final": 0.010267,
          "observed_growth_rate": 0.032683608535238266,
          "timepoint": "2022-10-01T00:00:00"
         },
         {
          "clade_membership": "c72df39",
          "frequency": 1.0000000000000007,
          "frequency_final": 0.999991,
          "observed_growth_rate": 0.9999909999999993,
          "timepoint": "2022-10-01T00:00:00"
         },
         {
          "clade_membership": "cbef932",
          "frequency": 1.0000000000000007,
          "frequency_final": 0.999991,
          "observed_growth_rate": 0.9999909999999993,
          "timepoint": "2022-10-01T00:00:00"
         },
         {
          "clade_membership": "cc789e1",
          "frequency": 0.16088899999999998,
          "frequency_final": 1e-06,
          "observed_growth_rate": 6.215465320811243e-06,
          "timepoint": "2022-10-01T00:00:00"
         },
         {
          "clade_membership": "d3aaa45",
          "frequency": 0.180386,
          "frequency_final": 0.110795,
          "observed_growth_rate": 0.6142106371891389,
          "timepoint": "2022-10-01T00:00:00"
         },
         {
          "clade_membership": "da37a22",
          "frequency": 1.0000000000000007,
          "frequency_final": 0.999991,
          "observed_growth_rate": 0.9999909999999993,
          "timepoint": "2022-10-01T00:00:00"
         },
         {
          "clade_membership": "e592319",
          "frequency": 0.31413299999999994,
          "frequency_final": 0.010267,
          "observed_growth_rate": 0.032683608535238266,
          "timepoint": "2022-10-01T00:00:00"
         },
         {
          "clade_membership": "e72bf28",
          "frequency": 1.0000000000000007,
          "frequency_final": 0.999991,
          "observed_growth_rate": 0.9999909999999993,
          "timepoint": "2022-10-01T00:00:00"
         },
         {
          "clade_membership": "eb2f804",
          "frequency": 1.0000000000000007,
          "frequency_final": 0.999991,
          "observed_growth_rate": 0.9999909999999993,
          "timepoint": "2022-10-01T00:00:00"
         },
         {
          "clade_membership": "f6d9b34",
          "frequency": 0.6415600000000004,
          "frequency_final": 0.9897239999999999,
          "observed_growth_rate": 1.5426834590685194,
          "timepoint": "2022-10-01T00:00:00"
         },
         {
          "clade_membership": "root",
          "frequency": 1.0000000000000007,
          "frequency_final": 0.999991,
          "observed_growth_rate": 0.9999909999999993,
          "timepoint": "2022-10-01T00:00:00"
         },
         {
          "clade_membership": "029c69d",
          "frequency": 0.8711680000000004,
          "frequency_final": 1.0000030000000002,
          "observed_growth_rate": 1.1478876634587125,
          "timepoint": "2023-04-01T00:00:00"
         },
         {
          "clade_membership": "0654693",
          "frequency": 0.8711680000000004,
          "frequency_final": 1.0000030000000002,
          "observed_growth_rate": 1.1478876634587125,
          "timepoint": "2023-04-01T00:00:00"
         },
         {
          "clade_membership": "0783f23",
          "frequency": 0.9999970000000001,
          "frequency_final": 1.0000030000000002,
          "observed_growth_rate": 1.0000060000180002,
          "timepoint": "2023-04-01T00:00:00"
         },
         {
          "clade_membership": "0d82b51",
          "frequency": 0.9999970000000001,
          "frequency_final": 1.0000030000000002,
          "observed_growth_rate": 1.0000060000180002,
          "timepoint": "2023-04-01T00:00:00"
         },
         {
          "clade_membership": "0d8bb1e",
          "frequency": 0.9999970000000001,
          "frequency_final": 1.0000030000000002,
          "observed_growth_rate": 1.0000060000180002,
          "timepoint": "2023-04-01T00:00:00"
         },
         {
          "clade_membership": "1bce829",
          "frequency": 0.9999970000000001,
          "frequency_final": 1.0000030000000002,
          "observed_growth_rate": 1.0000060000180002,
          "timepoint": "2023-04-01T00:00:00"
         },
         {
          "clade_membership": "2018235",
          "frequency": 0.9999970000000001,
          "frequency_final": 1.0000030000000002,
          "observed_growth_rate": 1.0000060000180002,
          "timepoint": "2023-04-01T00:00:00"
         },
         {
          "clade_membership": "289c480",
          "frequency": 0.9999970000000001,
          "frequency_final": 1.0000030000000002,
          "observed_growth_rate": 1.0000060000180002,
          "timepoint": "2023-04-01T00:00:00"
         },
         {
          "clade_membership": "2edcf74",
          "frequency": 0.8711680000000004,
          "frequency_final": 1.0000030000000002,
          "observed_growth_rate": 1.1478876634587125,
          "timepoint": "2023-04-01T00:00:00"
         },
         {
          "clade_membership": "30c6c1b",
          "frequency": 0.9999970000000001,
          "frequency_final": 1.0000030000000002,
          "observed_growth_rate": 1.0000060000180002,
          "timepoint": "2023-04-01T00:00:00"
         },
         {
          "clade_membership": "3aad673",
          "frequency": 0.9999970000000001,
          "frequency_final": 1.0000030000000002,
          "observed_growth_rate": 1.0000060000180002,
          "timepoint": "2023-04-01T00:00:00"
         },
         {
          "clade_membership": "3f3f0ca",
          "frequency": 0.9999970000000001,
          "frequency_final": 1.0000030000000002,
          "observed_growth_rate": 1.0000060000180002,
          "timepoint": "2023-04-01T00:00:00"
         },
         {
          "clade_membership": "4eae73a",
          "frequency": 0.8711680000000004,
          "frequency_final": 1.0000030000000002,
          "observed_growth_rate": 1.1478876634587125,
          "timepoint": "2023-04-01T00:00:00"
         },
         {
          "clade_membership": "53320bc",
          "frequency": 0.9999970000000001,
          "frequency_final": 1.0000030000000002,
          "observed_growth_rate": 1.0000060000180002,
          "timepoint": "2023-04-01T00:00:00"
         },
         {
          "clade_membership": "53d3851",
          "frequency": 0.8711680000000004,
          "frequency_final": 1.0000030000000002,
          "observed_growth_rate": 1.1478876634587125,
          "timepoint": "2023-04-01T00:00:00"
         },
         {
          "clade_membership": "57bbb79",
          "frequency": 0.277782,
          "frequency_final": 0.9429920000000002,
          "observed_growth_rate": 3.3947196002620768,
          "timepoint": "2023-04-01T00:00:00"
         },
         {
          "clade_membership": "5a8b5f6",
          "frequency": 0.8711680000000004,
          "frequency_final": 1.0000030000000002,
          "observed_growth_rate": 1.1478876634587125,
          "timepoint": "2023-04-01T00:00:00"
         },
         {
          "clade_membership": "6270695",
          "frequency": 0.9999970000000001,
          "frequency_final": 1.0000030000000002,
          "observed_growth_rate": 1.0000060000180002,
          "timepoint": "2023-04-01T00:00:00"
         },
         {
          "clade_membership": "63fb9b5",
          "frequency": 0.8711680000000004,
          "frequency_final": 1.0000030000000002,
          "observed_growth_rate": 1.1478876634587125,
          "timepoint": "2023-04-01T00:00:00"
         },
         {
          "clade_membership": "670a3cd",
          "frequency": 0.8711680000000004,
          "frequency_final": 1.0000030000000002,
          "observed_growth_rate": 1.1478876634587125,
          "timepoint": "2023-04-01T00:00:00"
         },
         {
          "clade_membership": "6fabbb5",
          "frequency": 0.9999970000000001,
          "frequency_final": 1.0000030000000002,
          "observed_growth_rate": 1.0000060000180002,
          "timepoint": "2023-04-01T00:00:00"
         },
         {
          "clade_membership": "7a88259",
          "frequency": 0.9999970000000001,
          "frequency_final": 1.0000030000000002,
          "observed_growth_rate": 1.0000060000180002,
          "timepoint": "2023-04-01T00:00:00"
         },
         {
          "clade_membership": "7bea6f6",
          "frequency": 0.19562700000000002,
          "frequency_final": 0.819373,
          "observed_growth_rate": 4.188445357747141,
          "timepoint": "2023-04-01T00:00:00"
         },
         {
          "clade_membership": "8126320",
          "frequency": 0.8711680000000004,
          "frequency_final": 1.0000030000000002,
          "observed_growth_rate": 1.1478876634587125,
          "timepoint": "2023-04-01T00:00:00"
         },
         {
          "clade_membership": "8544c1e",
          "frequency": 0.8711680000000004,
          "frequency_final": 1.0000030000000002,
          "observed_growth_rate": 1.1478876634587125,
          "timepoint": "2023-04-01T00:00:00"
         },
         {
          "clade_membership": "8727a54",
          "frequency": 0.9999970000000001,
          "frequency_final": 1.0000030000000002,
          "observed_growth_rate": 1.0000060000180002,
          "timepoint": "2023-04-01T00:00:00"
         },
         {
          "clade_membership": "b125362",
          "frequency": 0.8711680000000004,
          "frequency_final": 1.0000030000000002,
          "observed_growth_rate": 1.1478876634587125,
          "timepoint": "2023-04-01T00:00:00"
         },
         {
          "clade_membership": "b66b3e9",
          "frequency": 0.8711680000000004,
          "frequency_final": 1.0000030000000002,
          "observed_growth_rate": 1.1478876634587125,
          "timepoint": "2023-04-01T00:00:00"
         },
         {
          "clade_membership": "b771746",
          "frequency": 0.8711680000000004,
          "frequency_final": 1.0000030000000002,
          "observed_growth_rate": 1.1478876634587125,
          "timepoint": "2023-04-01T00:00:00"
         },
         {
          "clade_membership": "bae78d3",
          "frequency": 0.9999970000000001,
          "frequency_final": 1.0000030000000002,
          "observed_growth_rate": 1.0000060000180002,
          "timepoint": "2023-04-01T00:00:00"
         },
         {
          "clade_membership": "c72df39",
          "frequency": 0.9999970000000001,
          "frequency_final": 1.0000030000000002,
          "observed_growth_rate": 1.0000060000180002,
          "timepoint": "2023-04-01T00:00:00"
         },
         {
          "clade_membership": "cbef932",
          "frequency": 0.9999970000000001,
          "frequency_final": 1.0000030000000002,
          "observed_growth_rate": 1.0000060000180002,
          "timepoint": "2023-04-01T00:00:00"
         },
         {
          "clade_membership": "d3aaa45",
          "frequency": 0.2605990000000001,
          "frequency_final": 0.033116999999999994,
          "observed_growth_rate": 0.12708030345473306,
          "timepoint": "2023-04-01T00:00:00"
         },
         {
          "clade_membership": "da37a22",
          "frequency": 0.9999970000000001,
          "frequency_final": 1.0000030000000002,
          "observed_growth_rate": 1.0000060000180002,
          "timepoint": "2023-04-01T00:00:00"
         },
         {
          "clade_membership": "e72bf28",
          "frequency": 0.9999970000000001,
          "frequency_final": 1.0000030000000002,
          "observed_growth_rate": 1.0000060000180002,
          "timepoint": "2023-04-01T00:00:00"
         },
         {
          "clade_membership": "eb2f804",
          "frequency": 0.9999970000000001,
          "frequency_final": 1.0000030000000002,
          "observed_growth_rate": 1.0000060000180002,
          "timepoint": "2023-04-01T00:00:00"
         },
         {
          "clade_membership": "f263904",
          "frequency": 0.3515809999999999,
          "frequency_final": 0.9430450000000001,
          "observed_growth_rate": 2.6822979626316563,
          "timepoint": "2023-04-01T00:00:00"
         },
         {
          "clade_membership": "f6d9b34",
          "frequency": 0.8711680000000004,
          "frequency_final": 1.0000030000000002,
          "observed_growth_rate": 1.1478876634587125,
          "timepoint": "2023-04-01T00:00:00"
         },
         {
          "clade_membership": "root",
          "frequency": 0.9999970000000001,
          "frequency_final": 1.0000030000000002,
          "observed_growth_rate": 1.0000060000180002,
          "timepoint": "2023-04-01T00:00:00"
         },
         {
          "clade_membership": "029c69d",
          "frequency": 0.9897239999999999,
          "frequency_final": 1.000008,
          "observed_growth_rate": 1.0103907756101702,
          "timepoint": "2023-10-01T00:00:00"
         },
         {
          "clade_membership": "0654693",
          "frequency": 0.9897239999999999,
          "frequency_final": 1.000008,
          "observed_growth_rate": 1.0103907756101702,
          "timepoint": "2023-10-01T00:00:00"
         },
         {
          "clade_membership": "0783f23",
          "frequency": 0.999991,
          "frequency_final": 1.000008,
          "observed_growth_rate": 1.0000170001530013,
          "timepoint": "2023-10-01T00:00:00"
         },
         {
          "clade_membership": "0d82b51",
          "frequency": 0.999991,
          "frequency_final": 1.000008,
          "observed_growth_rate": 1.0000170001530013,
          "timepoint": "2023-10-01T00:00:00"
         },
         {
          "clade_membership": "0d8bb1e",
          "frequency": 0.999991,
          "frequency_final": 1.000008,
          "observed_growth_rate": 1.0000170001530013,
          "timepoint": "2023-10-01T00:00:00"
         },
         {
          "clade_membership": "1bce829",
          "frequency": 0.999991,
          "frequency_final": 1.000008,
          "observed_growth_rate": 1.0000170001530013,
          "timepoint": "2023-10-01T00:00:00"
         },
         {
          "clade_membership": "2018235",
          "frequency": 0.999991,
          "frequency_final": 1.000008,
          "observed_growth_rate": 1.0000170001530013,
          "timepoint": "2023-10-01T00:00:00"
         },
         {
          "clade_membership": "289c480",
          "frequency": 0.999991,
          "frequency_final": 1.000008,
          "observed_growth_rate": 1.0000170001530013,
          "timepoint": "2023-10-01T00:00:00"
         },
         {
          "clade_membership": "2edcf74",
          "frequency": 0.9897239999999999,
          "frequency_final": 1.000008,
          "observed_growth_rate": 1.0103907756101702,
          "timepoint": "2023-10-01T00:00:00"
         },
         {
          "clade_membership": "30c6c1b",
          "frequency": 0.999991,
          "frequency_final": 1.000008,
          "observed_growth_rate": 1.0000170001530013,
          "timepoint": "2023-10-01T00:00:00"
         },
         {
          "clade_membership": "3aad673",
          "frequency": 0.999991,
          "frequency_final": 1.000008,
          "observed_growth_rate": 1.0000170001530013,
          "timepoint": "2023-10-01T00:00:00"
         },
         {
          "clade_membership": "3f3f0ca",
          "frequency": 0.999991,
          "frequency_final": 1.000008,
          "observed_growth_rate": 1.0000170001530013,
          "timepoint": "2023-10-01T00:00:00"
         },
         {
          "clade_membership": "4eae73a",
          "frequency": 0.9897239999999999,
          "frequency_final": 1.000008,
          "observed_growth_rate": 1.0103907756101702,
          "timepoint": "2023-10-01T00:00:00"
         },
         {
          "clade_membership": "53320bc",
          "frequency": 0.999991,
          "frequency_final": 1.000008,
          "observed_growth_rate": 1.0000170001530013,
          "timepoint": "2023-10-01T00:00:00"
         },
         {
          "clade_membership": "53d3851",
          "frequency": 0.9897239999999999,
          "frequency_final": 1.000008,
          "observed_growth_rate": 1.0103907756101702,
          "timepoint": "2023-10-01T00:00:00"
         },
         {
          "clade_membership": "57bbb79",
          "frequency": 0.758653,
          "frequency_final": 0.947395,
          "observed_growth_rate": 1.2487856767191323,
          "timepoint": "2023-10-01T00:00:00"
         },
         {
          "clade_membership": "5a8b5f6",
          "frequency": 0.9897239999999999,
          "frequency_final": 1.000008,
          "observed_growth_rate": 1.0103907756101702,
          "timepoint": "2023-10-01T00:00:00"
         },
         {
          "clade_membership": "6270695",
          "frequency": 0.999991,
          "frequency_final": 1.000008,
          "observed_growth_rate": 1.0000170001530013,
          "timepoint": "2023-10-01T00:00:00"
         },
         {
          "clade_membership": "63fb9b5",
          "frequency": 0.9897239999999999,
          "frequency_final": 1.000008,
          "observed_growth_rate": 1.0103907756101702,
          "timepoint": "2023-10-01T00:00:00"
         },
         {
          "clade_membership": "670a3cd",
          "frequency": 0.9897239999999999,
          "frequency_final": 1.000008,
          "observed_growth_rate": 1.0103907756101702,
          "timepoint": "2023-10-01T00:00:00"
         },
         {
          "clade_membership": "6fabbb5",
          "frequency": 0.999991,
          "frequency_final": 1.000008,
          "observed_growth_rate": 1.0000170001530013,
          "timepoint": "2023-10-01T00:00:00"
         },
         {
          "clade_membership": "7a88259",
          "frequency": 0.999991,
          "frequency_final": 1.000008,
          "observed_growth_rate": 1.0000170001530013,
          "timepoint": "2023-10-01T00:00:00"
         },
         {
          "clade_membership": "7bea6f6",
          "frequency": 0.5842910000000002,
          "frequency_final": 0.9053990000000001,
          "observed_growth_rate": 1.5495686224843437,
          "timepoint": "2023-10-01T00:00:00"
         },
         {
          "clade_membership": "8126320",
          "frequency": 0.9897239999999999,
          "frequency_final": 1.000008,
          "observed_growth_rate": 1.0103907756101702,
          "timepoint": "2023-10-01T00:00:00"
         },
         {
          "clade_membership": "8544c1e",
          "frequency": 0.9897239999999999,
          "frequency_final": 1.000008,
          "observed_growth_rate": 1.0103907756101702,
          "timepoint": "2023-10-01T00:00:00"
         },
         {
          "clade_membership": "8727a54",
          "frequency": 0.999991,
          "frequency_final": 1.000008,
          "observed_growth_rate": 1.0000170001530013,
          "timepoint": "2023-10-01T00:00:00"
         },
         {
          "clade_membership": "b125362",
          "frequency": 0.9897239999999999,
          "frequency_final": 1.000008,
          "observed_growth_rate": 1.0103907756101702,
          "timepoint": "2023-10-01T00:00:00"
         },
         {
          "clade_membership": "b19fe11",
          "frequency": 0.17601700000000003,
          "frequency_final": 0.5539049999999999,
          "observed_growth_rate": 3.1468835396581,
          "timepoint": "2023-10-01T00:00:00"
         },
         {
          "clade_membership": "b66b3e9",
          "frequency": 0.9897239999999999,
          "frequency_final": 1.000008,
          "observed_growth_rate": 1.0103907756101702,
          "timepoint": "2023-10-01T00:00:00"
         },
         {
          "clade_membership": "b771746",
          "frequency": 0.9897239999999999,
          "frequency_final": 1.000008,
          "observed_growth_rate": 1.0103907756101702,
          "timepoint": "2023-10-01T00:00:00"
         },
         {
          "clade_membership": "bae78d3",
          "frequency": 0.999991,
          "frequency_final": 1.000008,
          "observed_growth_rate": 1.0000170001530013,
          "timepoint": "2023-10-01T00:00:00"
         },
         {
          "clade_membership": "c72df39",
          "frequency": 0.999991,
          "frequency_final": 1.000008,
          "observed_growth_rate": 1.0000170001530013,
          "timepoint": "2023-10-01T00:00:00"
         },
         {
          "clade_membership": "cbef932",
          "frequency": 0.999991,
          "frequency_final": 1.000008,
          "observed_growth_rate": 1.0000170001530013,
          "timepoint": "2023-10-01T00:00:00"
         },
         {
          "clade_membership": "da37a22",
          "frequency": 0.999991,
          "frequency_final": 1.000008,
          "observed_growth_rate": 1.0000170001530013,
          "timepoint": "2023-10-01T00:00:00"
         },
         {
          "clade_membership": "e72bf28",
          "frequency": 0.999991,
          "frequency_final": 1.000008,
          "observed_growth_rate": 1.0000170001530013,
          "timepoint": "2023-10-01T00:00:00"
         },
         {
          "clade_membership": "eb2f804",
          "frequency": 0.999991,
          "frequency_final": 1.000008,
          "observed_growth_rate": 1.0000170001530013,
          "timepoint": "2023-10-01T00:00:00"
         },
         {
          "clade_membership": "f263904",
          "frequency": 0.7882309999999999,
          "frequency_final": 0.947395,
          "observed_growth_rate": 1.2019255776542666,
          "timepoint": "2023-10-01T00:00:00"
         },
         {
          "clade_membership": "f6d9b34",
          "frequency": 0.9897239999999999,
          "frequency_final": 1.000008,
          "observed_growth_rate": 1.0103907756101702,
          "timepoint": "2023-10-01T00:00:00"
         },
         {
          "clade_membership": "fbd6c65",
          "frequency": 0.23967500000000003,
          "frequency_final": 0.12228300000000002,
          "observed_growth_rate": 0.5102034004380933,
          "timepoint": "2023-10-01T00:00:00"
         },
         {
          "clade_membership": "root",
          "frequency": 0.999991,
          "frequency_final": 1.000008,
          "observed_growth_rate": 1.0000170001530013,
          "timepoint": "2023-10-01T00:00:00"
         },
         {
          "clade_membership": "029c69d",
          "frequency": 1.0000030000000002,
          "frequency_final": 0.9999959999999997,
          "observed_growth_rate": 0.9999930000209994,
          "timepoint": "2024-04-01T00:00:00"
         },
         {
          "clade_membership": "0654693",
          "frequency": 1.0000030000000002,
          "frequency_final": 0.9999959999999997,
          "observed_growth_rate": 0.9999930000209994,
          "timepoint": "2024-04-01T00:00:00"
         },
         {
          "clade_membership": "0783f23",
          "frequency": 1.0000030000000002,
          "frequency_final": 0.9999959999999997,
          "observed_growth_rate": 0.9999930000209994,
          "timepoint": "2024-04-01T00:00:00"
         },
         {
          "clade_membership": "0d82b51",
          "frequency": 1.0000030000000002,
          "frequency_final": 0.9999959999999997,
          "observed_growth_rate": 0.9999930000209994,
          "timepoint": "2024-04-01T00:00:00"
         },
         {
          "clade_membership": "0d8bb1e",
          "frequency": 1.0000030000000002,
          "frequency_final": 0.9999959999999997,
          "observed_growth_rate": 0.9999930000209994,
          "timepoint": "2024-04-01T00:00:00"
         },
         {
          "clade_membership": "1bce829",
          "frequency": 1.0000030000000002,
          "frequency_final": 0.9999959999999997,
          "observed_growth_rate": 0.9999930000209994,
          "timepoint": "2024-04-01T00:00:00"
         },
         {
          "clade_membership": "2018235",
          "frequency": 1.0000030000000002,
          "frequency_final": 0.9999959999999997,
          "observed_growth_rate": 0.9999930000209994,
          "timepoint": "2024-04-01T00:00:00"
         },
         {
          "clade_membership": "289c480",
          "frequency": 1.0000030000000002,
          "frequency_final": 0.9999959999999997,
          "observed_growth_rate": 0.9999930000209994,
          "timepoint": "2024-04-01T00:00:00"
         },
         {
          "clade_membership": "2edcf74",
          "frequency": 1.0000030000000002,
          "frequency_final": 0.9999959999999997,
          "observed_growth_rate": 0.9999930000209994,
          "timepoint": "2024-04-01T00:00:00"
         },
         {
          "clade_membership": "30c6c1b",
          "frequency": 1.0000030000000002,
          "frequency_final": 0.9999959999999997,
          "observed_growth_rate": 0.9999930000209994,
          "timepoint": "2024-04-01T00:00:00"
         },
         {
          "clade_membership": "3aad673",
          "frequency": 1.0000030000000002,
          "frequency_final": 0.9999959999999997,
          "observed_growth_rate": 0.9999930000209994,
          "timepoint": "2024-04-01T00:00:00"
         },
         {
          "clade_membership": "3f3f0ca",
          "frequency": 1.0000030000000002,
          "frequency_final": 0.9999959999999997,
          "observed_growth_rate": 0.9999930000209994,
          "timepoint": "2024-04-01T00:00:00"
         },
         {
          "clade_membership": "4eae73a",
          "frequency": 1.0000030000000002,
          "frequency_final": 0.9999959999999997,
          "observed_growth_rate": 0.9999930000209994,
          "timepoint": "2024-04-01T00:00:00"
         },
         {
          "clade_membership": "53320bc",
          "frequency": 1.0000030000000002,
          "frequency_final": 0.9999959999999997,
          "observed_growth_rate": 0.9999930000209994,
          "timepoint": "2024-04-01T00:00:00"
         },
         {
          "clade_membership": "53d3851",
          "frequency": 1.0000030000000002,
          "frequency_final": 0.9999959999999997,
          "observed_growth_rate": 0.9999930000209994,
          "timepoint": "2024-04-01T00:00:00"
         },
         {
          "clade_membership": "57bbb79",
          "frequency": 0.9429920000000002,
          "frequency_final": 0.9999719999999996,
          "observed_growth_rate": 1.0604246907715011,
          "timepoint": "2024-04-01T00:00:00"
         },
         {
          "clade_membership": "5a8b5f6",
          "frequency": 1.0000030000000002,
          "frequency_final": 0.9999959999999997,
          "observed_growth_rate": 0.9999930000209994,
          "timepoint": "2024-04-01T00:00:00"
         },
         {
          "clade_membership": "6270695",
          "frequency": 1.0000030000000002,
          "frequency_final": 0.9999959999999997,
          "observed_growth_rate": 0.9999930000209994,
          "timepoint": "2024-04-01T00:00:00"
         },
         {
          "clade_membership": "63fb9b5",
          "frequency": 1.0000030000000002,
          "frequency_final": 0.9999959999999997,
          "observed_growth_rate": 0.9999930000209994,
          "timepoint": "2024-04-01T00:00:00"
         },
         {
          "clade_membership": "670a3cd",
          "frequency": 1.0000030000000002,
          "frequency_final": 0.9999959999999997,
          "observed_growth_rate": 0.9999930000209994,
          "timepoint": "2024-04-01T00:00:00"
         },
         {
          "clade_membership": "6fabbb5",
          "frequency": 1.0000030000000002,
          "frequency_final": 0.9999959999999997,
          "observed_growth_rate": 0.9999930000209994,
          "timepoint": "2024-04-01T00:00:00"
         },
         {
          "clade_membership": "7a88259",
          "frequency": 1.0000030000000002,
          "frequency_final": 0.9999959999999997,
          "observed_growth_rate": 0.9999930000209994,
          "timepoint": "2024-04-01T00:00:00"
         },
         {
          "clade_membership": "7bea6f6",
          "frequency": 0.819373,
          "frequency_final": 0.9999719999999996,
          "observed_growth_rate": 1.2204112168694838,
          "timepoint": "2024-04-01T00:00:00"
         },
         {
          "clade_membership": "8126320",
          "frequency": 1.0000030000000002,
          "frequency_final": 0.9999959999999997,
          "observed_growth_rate": 0.9999930000209994,
          "timepoint": "2024-04-01T00:00:00"
         },
         {
          "clade_membership": "8544c1e",
          "frequency": 1.0000030000000002,
          "frequency_final": 0.9999959999999997,
          "observed_growth_rate": 0.9999930000209994,
          "timepoint": "2024-04-01T00:00:00"
         },
         {
          "clade_membership": "8727a54",
          "frequency": 1.0000030000000002,
          "frequency_final": 0.9999959999999997,
          "observed_growth_rate": 0.9999930000209994,
          "timepoint": "2024-04-01T00:00:00"
         },
         {
          "clade_membership": "a9d28db",
          "frequency": 0.20940300000000003,
          "frequency_final": 0.024027000000000007,
          "observed_growth_rate": 0.11474047649747139,
          "timepoint": "2024-04-01T00:00:00"
         },
         {
          "clade_membership": "b125362",
          "frequency": 1.0000030000000002,
          "frequency_final": 0.9999959999999997,
          "observed_growth_rate": 0.9999930000209994,
          "timepoint": "2024-04-01T00:00:00"
         },
         {
          "clade_membership": "b19fe11",
          "frequency": 0.3310340000000001,
          "frequency_final": 0.8472989999999997,
          "observed_growth_rate": 2.559552795181158,
          "timepoint": "2024-04-01T00:00:00"
         },
         {
          "clade_membership": "b66b3e9",
          "frequency": 1.0000030000000002,
          "frequency_final": 0.9999959999999997,
          "observed_growth_rate": 0.9999930000209994,
          "timepoint": "2024-04-01T00:00:00"
         },
         {
          "clade_membership": "b771746",
          "frequency": 1.0000030000000002,
          "frequency_final": 0.9999959999999997,
          "observed_growth_rate": 0.9999930000209994,
          "timepoint": "2024-04-01T00:00:00"
         },
         {
          "clade_membership": "bae78d3",
          "frequency": 1.0000030000000002,
          "frequency_final": 0.9999959999999997,
          "observed_growth_rate": 0.9999930000209994,
          "timepoint": "2024-04-01T00:00:00"
         },
         {
          "clade_membership": "c72df39",
          "frequency": 1.0000030000000002,
          "frequency_final": 0.9999959999999997,
          "observed_growth_rate": 0.9999930000209994,
          "timepoint": "2024-04-01T00:00:00"
         },
         {
          "clade_membership": "cbef932",
          "frequency": 1.0000030000000002,
          "frequency_final": 0.9999959999999997,
          "observed_growth_rate": 0.9999930000209994,
          "timepoint": "2024-04-01T00:00:00"
         },
         {
          "clade_membership": "da37a22",
          "frequency": 1.0000030000000002,
          "frequency_final": 0.9999959999999997,
          "observed_growth_rate": 0.9999930000209994,
          "timepoint": "2024-04-01T00:00:00"
         },
         {
          "clade_membership": "e72bf28",
          "frequency": 1.0000030000000002,
          "frequency_final": 0.9999959999999997,
          "observed_growth_rate": 0.9999930000209994,
          "timepoint": "2024-04-01T00:00:00"
         },
         {
          "clade_membership": "eb2f804",
          "frequency": 1.0000030000000002,
          "frequency_final": 0.9999959999999997,
          "observed_growth_rate": 0.9999930000209994,
          "timepoint": "2024-04-01T00:00:00"
         },
         {
          "clade_membership": "f263904",
          "frequency": 0.9430450000000001,
          "frequency_final": 0.9999719999999996,
          "observed_growth_rate": 1.0603650939244675,
          "timepoint": "2024-04-01T00:00:00"
         },
         {
          "clade_membership": "f6d9b34",
          "frequency": 1.0000030000000002,
          "frequency_final": 0.9999959999999997,
          "observed_growth_rate": 0.9999930000209994,
          "timepoint": "2024-04-01T00:00:00"
         },
         {
          "clade_membership": "fbd6c65",
          "frequency": 0.175254,
          "frequency_final": 0.066157,
          "observed_growth_rate": 0.37749209718465765,
          "timepoint": "2024-04-01T00:00:00"
         },
         {
          "clade_membership": "root",
          "frequency": 1.0000030000000002,
          "frequency_final": 0.9999959999999997,
          "observed_growth_rate": 0.9999930000209994,
          "timepoint": "2024-04-01T00:00:00"
         },
         {
          "clade_membership": "029c69d",
          "frequency": 1.000008,
          "frequency_final": 0.9999999999999992,
          "observed_growth_rate": 0.9999920000639987,
          "timepoint": "2024-10-01T00:00:00"
         },
         {
          "clade_membership": "0654693",
          "frequency": 1.000008,
          "frequency_final": 0.9999999999999992,
          "observed_growth_rate": 0.9999920000639987,
          "timepoint": "2024-10-01T00:00:00"
         },
         {
          "clade_membership": "0783f23",
          "frequency": 1.000008,
          "frequency_final": 0.9999999999999992,
          "observed_growth_rate": 0.9999920000639987,
          "timepoint": "2024-10-01T00:00:00"
         },
         {
          "clade_membership": "0d82b51",
          "frequency": 1.000008,
          "frequency_final": 0.9999999999999992,
          "observed_growth_rate": 0.9999920000639987,
          "timepoint": "2024-10-01T00:00:00"
         },
         {
          "clade_membership": "0d8bb1e",
          "frequency": 1.000008,
          "frequency_final": 0.9999999999999992,
          "observed_growth_rate": 0.9999920000639987,
          "timepoint": "2024-10-01T00:00:00"
         },
         {
          "clade_membership": "1bce829",
          "frequency": 1.000008,
          "frequency_final": 0.9999999999999992,
          "observed_growth_rate": 0.9999920000639987,
          "timepoint": "2024-10-01T00:00:00"
         },
         {
          "clade_membership": "2018235",
          "frequency": 1.000008,
          "frequency_final": 0.9999999999999992,
          "observed_growth_rate": 0.9999920000639987,
          "timepoint": "2024-10-01T00:00:00"
         },
         {
          "clade_membership": "289c480",
          "frequency": 1.000008,
          "frequency_final": 0.9999999999999992,
          "observed_growth_rate": 0.9999920000639987,
          "timepoint": "2024-10-01T00:00:00"
         },
         {
          "clade_membership": "2edcf74",
          "frequency": 1.000008,
          "frequency_final": 0.9999999999999992,
          "observed_growth_rate": 0.9999920000639987,
          "timepoint": "2024-10-01T00:00:00"
         },
         {
          "clade_membership": "30c6c1b",
          "frequency": 1.000008,
          "frequency_final": 0.9999999999999992,
          "observed_growth_rate": 0.9999920000639987,
          "timepoint": "2024-10-01T00:00:00"
         },
         {
          "clade_membership": "37311eb",
          "frequency": 0.35930899999999993,
          "frequency_final": 0.8025179999999996,
          "observed_growth_rate": 2.2335037530370787,
          "timepoint": "2024-10-01T00:00:00"
         },
         {
          "clade_membership": "3aad673",
          "frequency": 1.000008,
          "frequency_final": 0.9999999999999992,
          "observed_growth_rate": 0.9999920000639987,
          "timepoint": "2024-10-01T00:00:00"
         },
         {
          "clade_membership": "3b07f48",
          "frequency": 0.3770479999999999,
          "frequency_final": 0.8025179999999996,
          "observed_growth_rate": 2.128423967240245,
          "timepoint": "2024-10-01T00:00:00"
         },
         {
          "clade_membership": "3f3f0ca",
          "frequency": 1.000008,
          "frequency_final": 0.9999999999999992,
          "observed_growth_rate": 0.9999920000639987,
          "timepoint": "2024-10-01T00:00:00"
         },
         {
          "clade_membership": "433fd0b",
          "frequency": 0.35930899999999993,
          "frequency_final": 0.8025179999999996,
          "observed_growth_rate": 2.2335037530370787,
          "timepoint": "2024-10-01T00:00:00"
         },
         {
          "clade_membership": "4eae73a",
          "frequency": 1.000008,
          "frequency_final": 0.9999999999999992,
          "observed_growth_rate": 0.9999920000639987,
          "timepoint": "2024-10-01T00:00:00"
         },
         {
          "clade_membership": "53320bc",
          "frequency": 1.000008,
          "frequency_final": 0.9999999999999992,
          "observed_growth_rate": 0.9999920000639987,
          "timepoint": "2024-10-01T00:00:00"
         },
         {
          "clade_membership": "53d3851",
          "frequency": 1.000008,
          "frequency_final": 0.9999999999999992,
          "observed_growth_rate": 0.9999920000639987,
          "timepoint": "2024-10-01T00:00:00"
         },
         {
          "clade_membership": "57bbb79",
          "frequency": 0.947395,
          "frequency_final": 0.9999999999999992,
          "observed_growth_rate": 1.0555259421888434,
          "timepoint": "2024-10-01T00:00:00"
         },
         {
          "clade_membership": "5a8b5f6",
          "frequency": 1.000008,
          "frequency_final": 0.9999999999999992,
          "observed_growth_rate": 0.9999920000639987,
          "timepoint": "2024-10-01T00:00:00"
         },
         {
          "clade_membership": "6270695",
          "frequency": 1.000008,
          "frequency_final": 0.9999999999999992,
          "observed_growth_rate": 0.9999920000639987,
          "timepoint": "2024-10-01T00:00:00"
         },
         {
          "clade_membership": "63fb9b5",
          "frequency": 1.000008,
          "frequency_final": 0.9999999999999992,
          "observed_growth_rate": 0.9999920000639987,
          "timepoint": "2024-10-01T00:00:00"
         },
         {
          "clade_membership": "670a3cd",
          "frequency": 1.000008,
          "frequency_final": 0.9999999999999992,
          "observed_growth_rate": 0.9999920000639987,
          "timepoint": "2024-10-01T00:00:00"
         },
         {
          "clade_membership": "6fabbb5",
          "frequency": 1.000008,
          "frequency_final": 0.9999999999999992,
          "observed_growth_rate": 0.9999920000639987,
          "timepoint": "2024-10-01T00:00:00"
         },
         {
          "clade_membership": "7a88259",
          "frequency": 1.000008,
          "frequency_final": 0.9999999999999992,
          "observed_growth_rate": 0.9999920000639987,
          "timepoint": "2024-10-01T00:00:00"
         },
         {
          "clade_membership": "7bea6f6",
          "frequency": 0.9053990000000001,
          "frequency_final": 0.9999999999999992,
          "observed_growth_rate": 1.1044854257625634,
          "timepoint": "2024-10-01T00:00:00"
         },
         {
          "clade_membership": "8126320",
          "frequency": 1.000008,
          "frequency_final": 0.9999999999999992,
          "observed_growth_rate": 0.9999920000639987,
          "timepoint": "2024-10-01T00:00:00"
         },
         {
          "clade_membership": "8544c1e",
          "frequency": 1.000008,
          "frequency_final": 0.9999999999999992,
          "observed_growth_rate": 0.9999920000639987,
          "timepoint": "2024-10-01T00:00:00"
         },
         {
          "clade_membership": "8727a54",
          "frequency": 1.000008,
          "frequency_final": 0.9999999999999992,
          "observed_growth_rate": 0.9999920000639987,
          "timepoint": "2024-10-01T00:00:00"
         },
         {
          "clade_membership": "b125362",
          "frequency": 1.000008,
          "frequency_final": 0.9999999999999992,
          "observed_growth_rate": 0.9999920000639987,
          "timepoint": "2024-10-01T00:00:00"
         },
         {
          "clade_membership": "b19fe11",
          "frequency": 0.5539049999999999,
          "frequency_final": 0.8763089999999993,
          "observed_growth_rate": 1.5820564898312879,
          "timepoint": "2024-10-01T00:00:00"
         },
         {
          "clade_membership": "b66b3e9",
          "frequency": 1.000008,
          "frequency_final": 0.9999999999999992,
          "observed_growth_rate": 0.9999920000639987,
          "timepoint": "2024-10-01T00:00:00"
         },
         {
          "clade_membership": "b771746",
          "frequency": 1.000008,
          "frequency_final": 0.9999999999999992,
          "observed_growth_rate": 0.9999920000639987,
          "timepoint": "2024-10-01T00:00:00"
         },
         {
          "clade_membership": "bae78d3",
          "frequency": 1.000008,
          "frequency_final": 0.9999999999999992,
          "observed_growth_rate": 0.9999920000639987,
          "timepoint": "2024-10-01T00:00:00"
         },
         {
          "clade_membership": "c72df39",
          "frequency": 1.000008,
          "frequency_final": 0.9999999999999992,
          "observed_growth_rate": 0.9999920000639987,
          "timepoint": "2024-10-01T00:00:00"
         },
         {
          "clade_membership": "cbef932",
          "frequency": 1.000008,
          "frequency_final": 0.9999999999999992,
          "observed_growth_rate": 0.9999920000639987,
          "timepoint": "2024-10-01T00:00:00"
         },
         {
          "clade_membership": "da37a22",
          "frequency": 1.000008,
          "frequency_final": 0.9999999999999992,
          "observed_growth_rate": 0.9999920000639987,
          "timepoint": "2024-10-01T00:00:00"
         },
         {
          "clade_membership": "e72bf28",
          "frequency": 1.000008,
          "frequency_final": 0.9999999999999992,
          "observed_growth_rate": 0.9999920000639987,
          "timepoint": "2024-10-01T00:00:00"
         },
         {
          "clade_membership": "eb2f804",
          "frequency": 1.000008,
          "frequency_final": 0.9999999999999992,
          "observed_growth_rate": 0.9999920000639987,
          "timepoint": "2024-10-01T00:00:00"
         },
         {
          "clade_membership": "f263904",
          "frequency": 0.947395,
          "frequency_final": 0.9999999999999992,
          "observed_growth_rate": 1.0555259421888434,
          "timepoint": "2024-10-01T00:00:00"
         },
         {
          "clade_membership": "f657904",
          "frequency": 0.295007,
          "frequency_final": 0.7090839999999996,
          "observed_growth_rate": 2.40361754127868,
          "timepoint": "2024-10-01T00:00:00"
         },
         {
          "clade_membership": "f6d9b34",
          "frequency": 1.000008,
          "frequency_final": 0.9999999999999992,
          "observed_growth_rate": 0.9999920000639987,
          "timepoint": "2024-10-01T00:00:00"
         },
         {
          "clade_membership": "root",
          "frequency": 1.000008,
          "frequency_final": 0.9999999999999992,
          "observed_growth_rate": 0.9999920000639987,
          "timepoint": "2024-10-01T00:00:00"
         },
         {
          "clade_membership": "029c69d",
          "frequency": 0.9999959999999997,
          "frequency_final": 0.9999929999999995,
          "observed_growth_rate": 0.9999969999879997,
          "timepoint": "2025-04-01T00:00:00"
         },
         {
          "clade_membership": "0654693",
          "frequency": 0.9999959999999997,
          "frequency_final": 0.9999929999999995,
          "observed_growth_rate": 0.9999969999879997,
          "timepoint": "2025-04-01T00:00:00"
         },
         {
          "clade_membership": "0783f23",
          "frequency": 0.9999959999999997,
          "frequency_final": 0.9999929999999995,
          "observed_growth_rate": 0.9999969999879997,
          "timepoint": "2025-04-01T00:00:00"
         },
         {
          "clade_membership": "0d82b51",
          "frequency": 0.9999959999999997,
          "frequency_final": 0.9999929999999995,
          "observed_growth_rate": 0.9999969999879997,
          "timepoint": "2025-04-01T00:00:00"
         },
         {
          "clade_membership": "0d8bb1e",
          "frequency": 0.9999959999999997,
          "frequency_final": 0.9999929999999995,
          "observed_growth_rate": 0.9999969999879997,
          "timepoint": "2025-04-01T00:00:00"
         },
         {
          "clade_membership": "1bce829",
          "frequency": 0.9999959999999997,
          "frequency_final": 0.9999929999999995,
          "observed_growth_rate": 0.9999969999879997,
          "timepoint": "2025-04-01T00:00:00"
         },
         {
          "clade_membership": "2018235",
          "frequency": 0.9999959999999997,
          "frequency_final": 0.9999929999999995,
          "observed_growth_rate": 0.9999969999879997,
          "timepoint": "2025-04-01T00:00:00"
         },
         {
          "clade_membership": "289c480",
          "frequency": 0.9999959999999997,
          "frequency_final": 0.9999929999999995,
          "observed_growth_rate": 0.9999969999879997,
          "timepoint": "2025-04-01T00:00:00"
         },
         {
          "clade_membership": "2edcf74",
          "frequency": 0.9999959999999997,
          "frequency_final": 0.9999929999999995,
          "observed_growth_rate": 0.9999969999879997,
          "timepoint": "2025-04-01T00:00:00"
         },
         {
          "clade_membership": "30c6c1b",
          "frequency": 0.9999959999999997,
          "frequency_final": 0.9999929999999995,
          "observed_growth_rate": 0.9999969999879997,
          "timepoint": "2025-04-01T00:00:00"
         },
         {
          "clade_membership": "37311eb",
          "frequency": 0.7962989999999998,
          "frequency_final": 0.47316299999999994,
          "observed_growth_rate": 0.5942026801490397,
          "timepoint": "2025-04-01T00:00:00"
         },
         {
          "clade_membership": "3aad673",
          "frequency": 0.9999959999999997,
          "frequency_final": 0.9999929999999995,
          "observed_growth_rate": 0.9999969999879997,
          "timepoint": "2025-04-01T00:00:00"
         },
         {
          "clade_membership": "3b07f48",
          "frequency": 0.7980249999999998,
          "frequency_final": 0.47316299999999994,
          "observed_growth_rate": 0.5929175151154413,
          "timepoint": "2025-04-01T00:00:00"
         },
         {
          "clade_membership": "3db57b6",
          "frequency": 0.36501300000000003,
          "frequency_final": 0.40668599999999994,
          "observed_growth_rate": 1.1141685364630847,
          "timepoint": "2025-04-01T00:00:00"
         },
         {
          "clade_membership": "3f3f0ca",
          "frequency": 0.9999959999999997,
          "frequency_final": 0.9999929999999995,
          "observed_growth_rate": 0.9999969999879997,
          "timepoint": "2025-04-01T00:00:00"
         },
         {
          "clade_membership": "433fd0b",
          "frequency": 0.7962989999999998,
          "frequency_final": 0.47316299999999994,
          "observed_growth_rate": 0.5942026801490397,
          "timepoint": "2025-04-01T00:00:00"
         },
         {
          "clade_membership": "4eae73a",
          "frequency": 0.9999959999999997,
          "frequency_final": 0.9999929999999995,
          "observed_growth_rate": 0.9999969999879997,
          "timepoint": "2025-04-01T00:00:00"
         },
         {
          "clade_membership": "53320bc",
          "frequency": 0.9999959999999997,
          "frequency_final": 0.9999929999999995,
          "observed_growth_rate": 0.9999969999879997,
          "timepoint": "2025-04-01T00:00:00"
         },
         {
          "clade_membership": "53d3851",
          "frequency": 0.9999959999999997,
          "frequency_final": 0.9999929999999995,
          "observed_growth_rate": 0.9999969999879997,
          "timepoint": "2025-04-01T00:00:00"
         },
         {
          "clade_membership": "57bbb79",
          "frequency": 0.9999719999999996,
          "frequency_final": 0.9999929999999995,
          "observed_growth_rate": 1.0000210005880164,
          "timepoint": "2025-04-01T00:00:00"
         },
         {
          "clade_membership": "5a8b5f6",
          "frequency": 0.9999959999999997,
          "frequency_final": 0.9999929999999995,
          "observed_growth_rate": 0.9999969999879997,
          "timepoint": "2025-04-01T00:00:00"
         },
         {
          "clade_membership": "6270695",
          "frequency": 0.9999959999999997,
          "frequency_final": 0.9999929999999995,
          "observed_growth_rate": 0.9999969999879997,
          "timepoint": "2025-04-01T00:00:00"
         },
         {
          "clade_membership": "63fb9b5",
          "frequency": 0.9999959999999997,
          "frequency_final": 0.9999929999999995,
          "observed_growth_rate": 0.9999969999879997,
          "timepoint": "2025-04-01T00:00:00"
         },
         {
          "clade_membership": "670a3cd",
          "frequency": 0.9999959999999997,
          "frequency_final": 0.9999929999999995,
          "observed_growth_rate": 0.9999969999879997,
          "timepoint": "2025-04-01T00:00:00"
         },
         {
          "clade_membership": "6fabbb5",
          "frequency": 0.9999959999999997,
          "frequency_final": 0.9999929999999995,
          "observed_growth_rate": 0.9999969999879997,
          "timepoint": "2025-04-01T00:00:00"
         },
         {
          "clade_membership": "7a88259",
          "frequency": 0.9999959999999997,
          "frequency_final": 0.9999929999999995,
          "observed_growth_rate": 0.9999969999879997,
          "timepoint": "2025-04-01T00:00:00"
         },
         {
          "clade_membership": "7bea6f6",
          "frequency": 0.9999719999999996,
          "frequency_final": 0.9999929999999995,
          "observed_growth_rate": 1.0000210005880164,
          "timepoint": "2025-04-01T00:00:00"
         },
         {
          "clade_membership": "8126320",
          "frequency": 0.9999959999999997,
          "frequency_final": 0.9999929999999995,
          "observed_growth_rate": 0.9999969999879997,
          "timepoint": "2025-04-01T00:00:00"
         },
         {
          "clade_membership": "8544c1e",
          "frequency": 0.9999959999999997,
          "frequency_final": 0.9999929999999995,
          "observed_growth_rate": 0.9999969999879997,
          "timepoint": "2025-04-01T00:00:00"
         },
         {
          "clade_membership": "8727a54",
          "frequency": 0.9999959999999997,
          "frequency_final": 0.9999929999999995,
          "observed_growth_rate": 0.9999969999879997,
          "timepoint": "2025-04-01T00:00:00"
         },
         {
          "clade_membership": "b125362",
          "frequency": 0.9999959999999997,
          "frequency_final": 0.9999929999999995,
          "observed_growth_rate": 0.9999969999879997,
          "timepoint": "2025-04-01T00:00:00"
         },
         {
          "clade_membership": "b19fe11",
          "frequency": 0.8472989999999997,
          "frequency_final": 0.501862,
          "observed_growth_rate": 0.5923080282167219,
          "timepoint": "2025-04-01T00:00:00"
         },
         {
          "clade_membership": "b66b3e9",
          "frequency": 0.9999959999999997,
          "frequency_final": 0.9999929999999995,
          "observed_growth_rate": 0.9999969999879997,
          "timepoint": "2025-04-01T00:00:00"
         },
         {
          "clade_membership": "b771746",
          "frequency": 0.9999959999999997,
          "frequency_final": 0.9999929999999995,
          "observed_growth_rate": 0.9999969999879997,
          "timepoint": "2025-04-01T00:00:00"
         },
         {
          "clade_membership": "bae78d3",
          "frequency": 0.9999959999999997,
          "frequency_final": 0.9999929999999995,
          "observed_growth_rate": 0.9999969999879997,
          "timepoint": "2025-04-01T00:00:00"
         },
         {
          "clade_membership": "c72df39",
          "frequency": 0.9999959999999997,
          "frequency_final": 0.9999929999999995,
          "observed_growth_rate": 0.9999969999879997,
          "timepoint": "2025-04-01T00:00:00"
         },
         {
          "clade_membership": "cbef932",
          "frequency": 0.9999959999999997,
          "frequency_final": 0.9999929999999995,
          "observed_growth_rate": 0.9999969999879997,
          "timepoint": "2025-04-01T00:00:00"
         },
         {
          "clade_membership": "da37a22",
          "frequency": 0.9999959999999997,
          "frequency_final": 0.9999929999999995,
          "observed_growth_rate": 0.9999969999879997,
          "timepoint": "2025-04-01T00:00:00"
         },
         {
          "clade_membership": "e72bf28",
          "frequency": 0.9999959999999997,
          "frequency_final": 0.9999929999999995,
          "observed_growth_rate": 0.9999969999879997,
          "timepoint": "2025-04-01T00:00:00"
         },
         {
          "clade_membership": "eb2f804",
          "frequency": 0.9999959999999997,
          "frequency_final": 0.9999929999999995,
          "observed_growth_rate": 0.9999969999879997,
          "timepoint": "2025-04-01T00:00:00"
         },
         {
          "clade_membership": "f263904",
          "frequency": 0.9999719999999996,
          "frequency_final": 0.9999929999999995,
          "observed_growth_rate": 1.0000210005880164,
          "timepoint": "2025-04-01T00:00:00"
         },
         {
          "clade_membership": "f657904",
          "frequency": 0.643304,
          "frequency_final": 0.437973,
          "observed_growth_rate": 0.6808180891149441,
          "timepoint": "2025-04-01T00:00:00"
         },
         {
          "clade_membership": "f6d9b34",
          "frequency": 0.9999959999999997,
          "frequency_final": 0.9999929999999995,
          "observed_growth_rate": 0.9999969999879997,
          "timepoint": "2025-04-01T00:00:00"
         },
         {
          "clade_membership": "root",
          "frequency": 0.9999959999999997,
          "frequency_final": 0.9999929999999995,
          "observed_growth_rate": 0.9999969999879997,
          "timepoint": "2025-04-01T00:00:00"
         },
         {
          "clade_membership": "029c69d",
          "frequency": 0.9999999999999992,
          "frequency_final": 1.000015,
          "observed_growth_rate": 1.000015000000001,
          "timepoint": "2025-10-01T00:00:00"
         },
         {
          "clade_membership": "0654693",
          "frequency": 0.9999999999999992,
          "frequency_final": 1.000015,
          "observed_growth_rate": 1.000015000000001,
          "timepoint": "2025-10-01T00:00:00"
         },
         {
          "clade_membership": "0783f23",
          "frequency": 0.9999999999999992,
          "frequency_final": 1.000015,
          "observed_growth_rate": 1.000015000000001,
          "timepoint": "2025-10-01T00:00:00"
         },
         {
          "clade_membership": "0d82b51",
          "frequency": 0.9999999999999992,
          "frequency_final": 1.000015,
          "observed_growth_rate": 1.000015000000001,
          "timepoint": "2025-10-01T00:00:00"
         },
         {
          "clade_membership": "0d8bb1e",
          "frequency": 0.9999999999999992,
          "frequency_final": 1.000015,
          "observed_growth_rate": 1.000015000000001,
          "timepoint": "2025-10-01T00:00:00"
         },
         {
          "clade_membership": "1bce829",
          "frequency": 0.9999999999999992,
          "frequency_final": 1.000015,
          "observed_growth_rate": 1.000015000000001,
          "timepoint": "2025-10-01T00:00:00"
         },
         {
          "clade_membership": "2018235",
          "frequency": 0.9999999999999992,
          "frequency_final": 1.000015,
          "observed_growth_rate": 1.000015000000001,
          "timepoint": "2025-10-01T00:00:00"
         },
         {
          "clade_membership": "289c480",
          "frequency": 0.9999999999999992,
          "frequency_final": 1.000015,
          "observed_growth_rate": 1.000015000000001,
          "timepoint": "2025-10-01T00:00:00"
         },
         {
          "clade_membership": "2edcf74",
          "frequency": 0.9999999999999992,
          "frequency_final": 1.000015,
          "observed_growth_rate": 1.000015000000001,
          "timepoint": "2025-10-01T00:00:00"
         },
         {
          "clade_membership": "30c6c1b",
          "frequency": 0.9999999999999992,
          "frequency_final": 1.000015,
          "observed_growth_rate": 1.000015000000001,
          "timepoint": "2025-10-01T00:00:00"
         },
         {
          "clade_membership": "34e540e",
          "frequency": 0.153783,
          "frequency_final": 0.007730000000000002,
          "observed_growth_rate": 0.050265634042774565,
          "timepoint": "2025-10-01T00:00:00"
         },
         {
          "clade_membership": "37311eb",
          "frequency": 0.8025179999999996,
          "frequency_final": 0.32413199999999986,
          "observed_growth_rate": 0.4038937444393771,
          "timepoint": "2025-10-01T00:00:00"
         },
         {
          "clade_membership": "3aad673",
          "frequency": 0.9999999999999992,
          "frequency_final": 1.000015,
          "observed_growth_rate": 1.000015000000001,
          "timepoint": "2025-10-01T00:00:00"
         },
         {
          "clade_membership": "3b07f48",
          "frequency": 0.8025179999999996,
          "frequency_final": 0.32413199999999986,
          "observed_growth_rate": 0.4038937444393771,
          "timepoint": "2025-10-01T00:00:00"
         },
         {
          "clade_membership": "3db57b6",
          "frequency": 0.5864289999999998,
          "frequency_final": 0.008564,
          "observed_growth_rate": 0.014603643407812377,
          "timepoint": "2025-10-01T00:00:00"
         },
         {
          "clade_membership": "3f3f0ca",
          "frequency": 0.9999999999999992,
          "frequency_final": 1.000015,
          "observed_growth_rate": 1.000015000000001,
          "timepoint": "2025-10-01T00:00:00"
         },
         {
          "clade_membership": "433fd0b",
          "frequency": 0.8025179999999996,
          "frequency_final": 0.32413199999999986,
          "observed_growth_rate": 0.4038937444393771,
          "timepoint": "2025-10-01T00:00:00"
         },
         {
          "clade_membership": "4eae73a",
          "frequency": 0.9999999999999992,
          "frequency_final": 1.000015,
          "observed_growth_rate": 1.000015000000001,
          "timepoint": "2025-10-01T00:00:00"
         },
         {
          "clade_membership": "53320bc",
          "frequency": 0.9999999999999992,
          "frequency_final": 1.000015,
          "observed_growth_rate": 1.000015000000001,
          "timepoint": "2025-10-01T00:00:00"
         },
         {
          "clade_membership": "53d3851",
          "frequency": 0.9999999999999992,
          "frequency_final": 1.000015,
          "observed_growth_rate": 1.000015000000001,
          "timepoint": "2025-10-01T00:00:00"
         },
         {
          "clade_membership": "57bbb79",
          "frequency": 0.9999999999999992,
          "frequency_final": 1.000015,
          "observed_growth_rate": 1.000015000000001,
          "timepoint": "2025-10-01T00:00:00"
         },
         {
          "clade_membership": "5a8b5f6",
          "frequency": 0.9999999999999992,
          "frequency_final": 1.000015,
          "observed_growth_rate": 1.000015000000001,
          "timepoint": "2025-10-01T00:00:00"
         },
         {
          "clade_membership": "6270695",
          "frequency": 0.9999999999999992,
          "frequency_final": 1.000015,
          "observed_growth_rate": 1.000015000000001,
          "timepoint": "2025-10-01T00:00:00"
         },
         {
          "clade_membership": "63fb9b5",
          "frequency": 0.9999999999999992,
          "frequency_final": 1.000015,
          "observed_growth_rate": 1.000015000000001,
          "timepoint": "2025-10-01T00:00:00"
         },
         {
          "clade_membership": "670a3cd",
          "frequency": 0.9999999999999992,
          "frequency_final": 1.000015,
          "observed_growth_rate": 1.000015000000001,
          "timepoint": "2025-10-01T00:00:00"
         },
         {
          "clade_membership": "6fabbb5",
          "frequency": 0.9999999999999992,
          "frequency_final": 1.000015,
          "observed_growth_rate": 1.000015000000001,
          "timepoint": "2025-10-01T00:00:00"
         },
         {
          "clade_membership": "7a88259",
          "frequency": 0.9999999999999992,
          "frequency_final": 1.000015,
          "observed_growth_rate": 1.000015000000001,
          "timepoint": "2025-10-01T00:00:00"
         },
         {
          "clade_membership": "7bea6f6",
          "frequency": 0.9999999999999992,
          "frequency_final": 1.000015,
          "observed_growth_rate": 1.000015000000001,
          "timepoint": "2025-10-01T00:00:00"
         },
         {
          "clade_membership": "8126320",
          "frequency": 0.9999999999999992,
          "frequency_final": 1.000015,
          "observed_growth_rate": 1.000015000000001,
          "timepoint": "2025-10-01T00:00:00"
         },
         {
          "clade_membership": "8544c1e",
          "frequency": 0.9999999999999992,
          "frequency_final": 1.000015,
          "observed_growth_rate": 1.000015000000001,
          "timepoint": "2025-10-01T00:00:00"
         },
         {
          "clade_membership": "8727a54",
          "frequency": 0.9999999999999992,
          "frequency_final": 1.000015,
          "observed_growth_rate": 1.000015000000001,
          "timepoint": "2025-10-01T00:00:00"
         },
         {
          "clade_membership": "b125362",
          "frequency": 0.9999999999999992,
          "frequency_final": 1.000015,
          "observed_growth_rate": 1.000015000000001,
          "timepoint": "2025-10-01T00:00:00"
         },
         {
          "clade_membership": "b19fe11",
          "frequency": 0.8763089999999993,
          "frequency_final": 0.32413199999999986,
          "observed_growth_rate": 0.36988322612229263,
          "timepoint": "2025-10-01T00:00:00"
         },
         {
          "clade_membership": "b66b3e9",
          "frequency": 0.9999999999999992,
          "frequency_final": 1.000015,
          "observed_growth_rate": 1.000015000000001,
          "timepoint": "2025-10-01T00:00:00"
         },
         {
          "clade_membership": "b771746",
          "frequency": 0.9999999999999992,
          "frequency_final": 1.000015,
          "observed_growth_rate": 1.000015000000001,
          "timepoint": "2025-10-01T00:00:00"
         },
         {
          "clade_membership": "bae78d3",
          "frequency": 0.9999999999999992,
          "frequency_final": 1.000015,
          "observed_growth_rate": 1.000015000000001,
          "timepoint": "2025-10-01T00:00:00"
         },
         {
          "clade_membership": "c72df39",
          "frequency": 0.9999999999999992,
          "frequency_final": 1.000015,
          "observed_growth_rate": 1.000015000000001,
          "timepoint": "2025-10-01T00:00:00"
         },
         {
          "clade_membership": "cbef932",
          "frequency": 0.9999999999999992,
          "frequency_final": 1.000015,
          "observed_growth_rate": 1.000015000000001,
          "timepoint": "2025-10-01T00:00:00"
         },
         {
          "clade_membership": "da37a22",
          "frequency": 0.9999999999999992,
          "frequency_final": 1.000015,
          "observed_growth_rate": 1.000015000000001,
          "timepoint": "2025-10-01T00:00:00"
         },
         {
          "clade_membership": "e72bf28",
          "frequency": 0.9999999999999992,
          "frequency_final": 1.000015,
          "observed_growth_rate": 1.000015000000001,
          "timepoint": "2025-10-01T00:00:00"
         },
         {
          "clade_membership": "eb2f804",
          "frequency": 0.9999999999999992,
          "frequency_final": 1.000015,
          "observed_growth_rate": 1.000015000000001,
          "timepoint": "2025-10-01T00:00:00"
         },
         {
          "clade_membership": "f263904",
          "frequency": 0.9999999999999992,
          "frequency_final": 1.000015,
          "observed_growth_rate": 1.000015000000001,
          "timepoint": "2025-10-01T00:00:00"
         },
         {
          "clade_membership": "f657904",
          "frequency": 0.7090839999999996,
          "frequency_final": 0.31640199999999985,
          "observed_growth_rate": 0.4462122964275037,
          "timepoint": "2025-10-01T00:00:00"
         },
         {
          "clade_membership": "f6d9b34",
          "frequency": 0.9999999999999992,
          "frequency_final": 1.000015,
          "observed_growth_rate": 1.000015000000001,
          "timepoint": "2025-10-01T00:00:00"
         },
         {
          "clade_membership": "root",
          "frequency": 0.9999999999999992,
          "frequency_final": 1.000015,
          "observed_growth_rate": 1.000015000000001,
          "timepoint": "2025-10-01T00:00:00"
         },
         {
          "clade_membership": "00128ca",
          "frequency": 0.169049,
          "frequency_final": 0.5957539999999999,
          "observed_growth_rate": 3.5241498027199207,
          "timepoint": "2026-04-01T00:00:00"
         },
         {
          "clade_membership": "029c69d",
          "frequency": 0.9999929999999995,
          "frequency_final": 1.0000170000000002,
          "observed_growth_rate": 1.0000240001680019,
          "timepoint": "2026-04-01T00:00:00"
         },
         {
          "clade_membership": "0654693",
          "frequency": 0.9999929999999995,
          "frequency_final": 1.0000170000000002,
          "observed_growth_rate": 1.0000240001680019,
          "timepoint": "2026-04-01T00:00:00"
         },
         {
          "clade_membership": "0783f23",
          "frequency": 0.9999929999999995,
          "frequency_final": 1.0000170000000002,
          "observed_growth_rate": 1.0000240001680019,
          "timepoint": "2026-04-01T00:00:00"
         },
         {
          "clade_membership": "0d82b51",
          "frequency": 0.9999929999999995,
          "frequency_final": 1.0000170000000002,
          "observed_growth_rate": 1.0000240001680019,
          "timepoint": "2026-04-01T00:00:00"
         },
         {
          "clade_membership": "0d8bb1e",
          "frequency": 0.9999929999999995,
          "frequency_final": 1.0000170000000002,
          "observed_growth_rate": 1.0000240001680019,
          "timepoint": "2026-04-01T00:00:00"
         },
         {
          "clade_membership": "1bce829",
          "frequency": 0.9999929999999995,
          "frequency_final": 1.0000170000000002,
          "observed_growth_rate": 1.0000240001680019,
          "timepoint": "2026-04-01T00:00:00"
         },
         {
          "clade_membership": "1f6665e",
          "frequency": 0.305375,
          "frequency_final": 0.6380669999999999,
          "observed_growth_rate": 2.0894539500613996,
          "timepoint": "2026-04-01T00:00:00"
         },
         {
          "clade_membership": "2018235",
          "frequency": 0.9999929999999995,
          "frequency_final": 1.0000170000000002,
          "observed_growth_rate": 1.0000240001680019,
          "timepoint": "2026-04-01T00:00:00"
         },
         {
          "clade_membership": "289c480",
          "frequency": 0.9999929999999995,
          "frequency_final": 1.0000170000000002,
          "observed_growth_rate": 1.0000240001680019,
          "timepoint": "2026-04-01T00:00:00"
         },
         {
          "clade_membership": "2edcf74",
          "frequency": 0.9999929999999995,
          "frequency_final": 1.0000170000000002,
          "observed_growth_rate": 1.0000240001680019,
          "timepoint": "2026-04-01T00:00:00"
         },
         {
          "clade_membership": "30c6c1b",
          "frequency": 0.9999929999999995,
          "frequency_final": 1.0000170000000002,
          "observed_growth_rate": 1.0000240001680019,
          "timepoint": "2026-04-01T00:00:00"
         },
         {
          "clade_membership": "37311eb",
          "frequency": 0.47316299999999994,
          "frequency_final": 0.34336399999999995,
          "observed_growth_rate": 0.725678043295862,
          "timepoint": "2026-04-01T00:00:00"
         },
         {
          "clade_membership": "3aad673",
          "frequency": 0.9999929999999995,
          "frequency_final": 1.0000170000000002,
          "observed_growth_rate": 1.0000240001680019,
          "timepoint": "2026-04-01T00:00:00"
         },
         {
          "clade_membership": "3b07f48",
          "frequency": 0.47316299999999994,
          "frequency_final": 0.34336399999999995,
          "observed_growth_rate": 0.725678043295862,
          "timepoint": "2026-04-01T00:00:00"
         },
         {
          "clade_membership": "3db57b6",
          "frequency": 0.40668599999999994,
          "frequency_final": 0,
          "observed_growth_rate": 0,
          "timepoint": "2026-04-01T00:00:00"
         },
         {
          "clade_membership": "3f3f0ca",
          "frequency": 0.9999929999999995,
          "frequency_final": 1.0000170000000002,
          "observed_growth_rate": 1.0000240001680019,
          "timepoint": "2026-04-01T00:00:00"
         },
         {
          "clade_membership": "433fd0b",
          "frequency": 0.47316299999999994,
          "frequency_final": 0.34336399999999995,
          "observed_growth_rate": 0.725678043295862,
          "timepoint": "2026-04-01T00:00:00"
         },
         {
          "clade_membership": "4eae73a",
          "frequency": 0.9999929999999995,
          "frequency_final": 1.0000170000000002,
          "observed_growth_rate": 1.0000240001680019,
          "timepoint": "2026-04-01T00:00:00"
         },
         {
          "clade_membership": "53320bc",
          "frequency": 0.9999929999999995,
          "frequency_final": 1.0000170000000002,
          "observed_growth_rate": 1.0000240001680019,
          "timepoint": "2026-04-01T00:00:00"
         },
         {
          "clade_membership": "53d3851",
          "frequency": 0.9999929999999995,
          "frequency_final": 1.0000170000000002,
          "observed_growth_rate": 1.0000240001680019,
          "timepoint": "2026-04-01T00:00:00"
         },
         {
          "clade_membership": "57bbb79",
          "frequency": 0.9999929999999995,
          "frequency_final": 1.0000170000000002,
          "observed_growth_rate": 1.0000240001680019,
          "timepoint": "2026-04-01T00:00:00"
         },
         {
          "clade_membership": "5a8b5f6",
          "frequency": 0.9999929999999995,
          "frequency_final": 1.0000170000000002,
          "observed_growth_rate": 1.0000240001680019,
          "timepoint": "2026-04-01T00:00:00"
         },
         {
          "clade_membership": "6270695",
          "frequency": 0.9999929999999995,
          "frequency_final": 1.0000170000000002,
          "observed_growth_rate": 1.0000240001680019,
          "timepoint": "2026-04-01T00:00:00"
         },
         {
          "clade_membership": "63fb9b5",
          "frequency": 0.9999929999999995,
          "frequency_final": 1.0000170000000002,
          "observed_growth_rate": 1.0000240001680019,
          "timepoint": "2026-04-01T00:00:00"
         },
         {
          "clade_membership": "670a3cd",
          "frequency": 0.9999929999999995,
          "frequency_final": 1.0000170000000002,
          "observed_growth_rate": 1.0000240001680019,
          "timepoint": "2026-04-01T00:00:00"
         },
         {
          "clade_membership": "6fabbb5",
          "frequency": 0.9999929999999995,
          "frequency_final": 1.0000170000000002,
          "observed_growth_rate": 1.0000240001680019,
          "timepoint": "2026-04-01T00:00:00"
         },
         {
          "clade_membership": "7a88259",
          "frequency": 0.9999929999999995,
          "frequency_final": 1.0000170000000002,
          "observed_growth_rate": 1.0000240001680019,
          "timepoint": "2026-04-01T00:00:00"
         },
         {
          "clade_membership": "7bea6f6",
          "frequency": 0.9999929999999995,
          "frequency_final": 1.0000170000000002,
          "observed_growth_rate": 1.0000240001680019,
          "timepoint": "2026-04-01T00:00:00"
         },
         {
          "clade_membership": "8126320",
          "frequency": 0.9999929999999995,
          "frequency_final": 1.0000170000000002,
          "observed_growth_rate": 1.0000240001680019,
          "timepoint": "2026-04-01T00:00:00"
         },
         {
          "clade_membership": "8544c1e",
          "frequency": 0.9999929999999995,
          "frequency_final": 1.0000170000000002,
          "observed_growth_rate": 1.0000240001680019,
          "timepoint": "2026-04-01T00:00:00"
         },
         {
          "clade_membership": "8727a54",
          "frequency": 0.9999929999999995,
          "frequency_final": 1.0000170000000002,
          "observed_growth_rate": 1.0000240001680019,
          "timepoint": "2026-04-01T00:00:00"
         },
         {
          "clade_membership": "a6348ef",
          "frequency": 0.4646989999999999,
          "frequency_final": 0.638813,
          "observed_growth_rate": 1.3746812452792023,
          "timepoint": "2026-04-01T00:00:00"
         },
         {
          "clade_membership": "b125362",
          "frequency": 0.9999929999999995,
          "frequency_final": 1.0000170000000002,
          "observed_growth_rate": 1.0000240001680019,
          "timepoint": "2026-04-01T00:00:00"
         },
         {
          "clade_membership": "b19fe11",
          "frequency": 0.501862,
          "frequency_final": 0.34336399999999995,
          "observed_growth_rate": 0.6841801132582263,
          "timepoint": "2026-04-01T00:00:00"
         },
         {
          "clade_membership": "b414da5",
          "frequency": 0.169049,
          "frequency_final": 0.5957539999999999,
          "observed_growth_rate": 3.5241498027199207,
          "timepoint": "2026-04-01T00:00:00"
         },
         {
          "clade_membership": "b66b3e9",
          "frequency": 0.9999929999999995,
          "frequency_final": 1.0000170000000002,
          "observed_growth_rate": 1.0000240001680019,
          "timepoint": "2026-04-01T00:00:00"
         },
         {
          "clade_membership": "b771746",
          "frequency": 0.9999929999999995,
          "frequency_final": 1.0000170000000002,
          "observed_growth_rate": 1.0000240001680019,
          "timepoint": "2026-04-01T00:00:00"
         },
         {
          "clade_membership": "bae78d3",
          "frequency": 0.9999929999999995,
          "frequency_final": 1.0000170000000002,
          "observed_growth_rate": 1.0000240001680019,
          "timepoint": "2026-04-01T00:00:00"
         },
         {
          "clade_membership": "c72df39",
          "frequency": 0.9999929999999995,
          "frequency_final": 1.0000170000000002,
          "observed_growth_rate": 1.0000240001680019,
          "timepoint": "2026-04-01T00:00:00"
         },
         {
          "clade_membership": "cbef932",
          "frequency": 0.9999929999999995,
          "frequency_final": 1.0000170000000002,
          "observed_growth_rate": 1.0000240001680019,
          "timepoint": "2026-04-01T00:00:00"
         },
         {
          "clade_membership": "d991bc2",
          "frequency": 0.4646989999999999,
          "frequency_final": 0.638813,
          "observed_growth_rate": 1.3746812452792023,
          "timepoint": "2026-04-01T00:00:00"
         },
         {
          "clade_membership": "da37a22",
          "frequency": 0.9999929999999995,
          "frequency_final": 1.0000170000000002,
          "observed_growth_rate": 1.0000240001680019,
          "timepoint": "2026-04-01T00:00:00"
         },
         {
          "clade_membership": "e626b38",
          "frequency": 0.4646989999999999,
          "frequency_final": 0.638813,
          "observed_growth_rate": 1.3746812452792023,
          "timepoint": "2026-04-01T00:00:00"
         },
         {
          "clade_membership": "e72bf28",
          "frequency": 0.9999929999999995,
          "frequency_final": 1.0000170000000002,
          "observed_growth_rate": 1.0000240001680019,
          "timepoint": "2026-04-01T00:00:00"
         },
         {
          "clade_membership": "eb2f804",
          "frequency": 0.9999929999999995,
          "frequency_final": 1.0000170000000002,
          "observed_growth_rate": 1.0000240001680019,
          "timepoint": "2026-04-01T00:00:00"
         },
         {
          "clade_membership": "f263904",
          "frequency": 0.9999929999999995,
          "frequency_final": 1.0000170000000002,
          "observed_growth_rate": 1.0000240001680019,
          "timepoint": "2026-04-01T00:00:00"
         },
         {
          "clade_membership": "f657904",
          "frequency": 0.437973,
          "frequency_final": 0.34336399999999995,
          "observed_growth_rate": 0.7839844008648934,
          "timepoint": "2026-04-01T00:00:00"
         },
         {
          "clade_membership": "f6d9b34",
          "frequency": 0.9999929999999995,
          "frequency_final": 1.0000170000000002,
          "observed_growth_rate": 1.0000240001680019,
          "timepoint": "2026-04-01T00:00:00"
         },
         {
          "clade_membership": "root",
          "frequency": 0.9999929999999995,
          "frequency_final": 1.0000170000000002,
          "observed_growth_rate": 1.0000240001680019,
          "timepoint": "2026-04-01T00:00:00"
         },
         {
          "clade_membership": "00128ca",
          "frequency": 0.35154799999999997,
          "frequency_final": 0.666172,
          "observed_growth_rate": 1.8949674013221525,
          "timepoint": "2026-10-01T00:00:00"
         },
         {
          "clade_membership": "029c69d",
          "frequency": 1.000015,
          "frequency_final": 1.000005,
          "observed_growth_rate": 0.9999900001499977,
          "timepoint": "2026-10-01T00:00:00"
         },
         {
          "clade_membership": "0654693",
          "frequency": 1.000015,
          "frequency_final": 1.000005,
          "observed_growth_rate": 0.9999900001499977,
          "timepoint": "2026-10-01T00:00:00"
         },
         {
          "clade_membership": "0783f23",
          "frequency": 1.000015,
          "frequency_final": 1.000005,
          "observed_growth_rate": 0.9999900001499977,
          "timepoint": "2026-10-01T00:00:00"
         },
         {
          "clade_membership": "0d82b51",
          "frequency": 1.000015,
          "frequency_final": 1.000005,
          "observed_growth_rate": 0.9999900001499977,
          "timepoint": "2026-10-01T00:00:00"
         },
         {
          "clade_membership": "0d8bb1e",
          "frequency": 1.000015,
          "frequency_final": 1.000005,
          "observed_growth_rate": 0.9999900001499977,
          "timepoint": "2026-10-01T00:00:00"
         },
         {
          "clade_membership": "1bce829",
          "frequency": 1.000015,
          "frequency_final": 1.000005,
          "observed_growth_rate": 0.9999900001499977,
          "timepoint": "2026-10-01T00:00:00"
         },
         {
          "clade_membership": "1f6665e",
          "frequency": 0.528564,
          "frequency_final": 0.666176,
          "observed_growth_rate": 1.2603506860096412,
          "timepoint": "2026-10-01T00:00:00"
         },
         {
          "clade_membership": "2018235",
          "frequency": 1.000015,
          "frequency_final": 1.000005,
          "observed_growth_rate": 0.9999900001499977,
          "timepoint": "2026-10-01T00:00:00"
         },
         {
          "clade_membership": "26d9681",
          "frequency": 0.251202,
          "frequency_final": 0.305192,
          "observed_growth_rate": 1.2149266327497394,
          "timepoint": "2026-10-01T00:00:00"
         },
         {
          "clade_membership": "2850b07",
          "frequency": 0.30783799999999995,
          "frequency_final": 0.305192,
          "observed_growth_rate": 0.9914045699361355,
          "timepoint": "2026-10-01T00:00:00"
         },
         {
          "clade_membership": "289c480",
          "frequency": 1.000015,
          "frequency_final": 1.000005,
          "observed_growth_rate": 0.9999900001499977,
          "timepoint": "2026-10-01T00:00:00"
         },
         {
          "clade_membership": "2edcf74",
          "frequency": 1.000015,
          "frequency_final": 1.000005,
          "observed_growth_rate": 0.9999900001499977,
          "timepoint": "2026-10-01T00:00:00"
         },
         {
          "clade_membership": "30c6c1b",
          "frequency": 1.000015,
          "frequency_final": 1.000005,
          "observed_growth_rate": 0.9999900001499977,
          "timepoint": "2026-10-01T00:00:00"
         },
         {
          "clade_membership": "37311eb",
          "frequency": 0.32413199999999986,
          "frequency_final": 0.305192,
          "observed_growth_rate": 0.9415670159071,
          "timepoint": "2026-10-01T00:00:00"
         },
         {
          "clade_membership": "3aad673",
          "frequency": 1.000015,
          "frequency_final": 1.000005,
          "observed_growth_rate": 0.9999900001499977,
          "timepoint": "2026-10-01T00:00:00"
         },
         {
          "clade_membership": "3ae4d43",
          "frequency": 0.15817499999999998,
          "frequency_final": 0.6613760000000001,
          "observed_growth_rate": 4.181292871819188,
          "timepoint": "2026-10-01T00:00:00"
         },
         {
          "clade_membership": "3b07f48",
          "frequency": 0.32413199999999986,
          "frequency_final": 0.305192,
          "observed_growth_rate": 0.9415670159071,
          "timepoint": "2026-10-01T00:00:00"
         },
         {
          "clade_membership": "3f3f0ca",
          "frequency": 1.000015,
          "frequency_final": 1.000005,
          "observed_growth_rate": 0.9999900001499977,
          "timepoint": "2026-10-01T00:00:00"
         },
         {
          "clade_membership": "433fd0b",
          "frequency": 0.32413199999999986,
          "frequency_final": 0.305192,
          "observed_growth_rate": 0.9415670159071,
          "timepoint": "2026-10-01T00:00:00"
         },
         {
          "clade_membership": "4eae73a",
          "frequency": 1.000015,
          "frequency_final": 1.000005,
          "observed_growth_rate": 0.9999900001499977,
          "timepoint": "2026-10-01T00:00:00"
         },
         {
          "clade_membership": "53320bc",
          "frequency": 1.000015,
          "frequency_final": 1.000005,
          "observed_growth_rate": 0.9999900001499977,
          "timepoint": "2026-10-01T00:00:00"
         },
         {
          "clade_membership": "53d3851",
          "frequency": 1.000015,
          "frequency_final": 1.000005,
          "observed_growth_rate": 0.9999900001499977,
          "timepoint": "2026-10-01T00:00:00"
         },
         {
          "clade_membership": "57bbb79",
          "frequency": 1.000015,
          "frequency_final": 1.000005,
          "observed_growth_rate": 0.9999900001499977,
          "timepoint": "2026-10-01T00:00:00"
         },
         {
          "clade_membership": "5a8b5f6",
          "frequency": 1.000015,
          "frequency_final": 1.000005,
          "observed_growth_rate": 0.9999900001499977,
          "timepoint": "2026-10-01T00:00:00"
         },
         {
          "clade_membership": "6270695",
          "frequency": 1.000015,
          "frequency_final": 1.000005,
          "observed_growth_rate": 0.9999900001499977,
          "timepoint": "2026-10-01T00:00:00"
         },
         {
          "clade_membership": "63fb9b5",
          "frequency": 1.000015,
          "frequency_final": 1.000005,
          "observed_growth_rate": 0.9999900001499977,
          "timepoint": "2026-10-01T00:00:00"
         },
         {
          "clade_membership": "670a3cd",
          "frequency": 1.000015,
          "frequency_final": 1.000005,
          "observed_growth_rate": 0.9999900001499977,
          "timepoint": "2026-10-01T00:00:00"
         },
         {
          "clade_membership": "6fabbb5",
          "frequency": 1.000015,
          "frequency_final": 1.000005,
          "observed_growth_rate": 0.9999900001499977,
          "timepoint": "2026-10-01T00:00:00"
         },
         {
          "clade_membership": "7a88259",
          "frequency": 1.000015,
          "frequency_final": 1.000005,
          "observed_growth_rate": 0.9999900001499977,
          "timepoint": "2026-10-01T00:00:00"
         },
         {
          "clade_membership": "7bea6f6",
          "frequency": 1.000015,
          "frequency_final": 1.000005,
          "observed_growth_rate": 0.9999900001499977,
          "timepoint": "2026-10-01T00:00:00"
         },
         {
          "clade_membership": "8126320",
          "frequency": 1.000015,
          "frequency_final": 1.000005,
          "observed_growth_rate": 0.9999900001499977,
          "timepoint": "2026-10-01T00:00:00"
         },
         {
          "clade_membership": "8544c1e",
          "frequency": 1.000015,
          "frequency_final": 1.000005,
          "observed_growth_rate": 0.9999900001499977,
          "timepoint": "2026-10-01T00:00:00"
         },
         {
          "clade_membership": "8727a54",
          "frequency": 1.000015,
          "frequency_final": 1.000005,
          "observed_growth_rate": 0.9999900001499977,
          "timepoint": "2026-10-01T00:00:00"
         },
         {
          "clade_membership": "a6348ef",
          "frequency": 0.613932,
          "frequency_final": 0.666176,
          "observed_growth_rate": 1.085097372347426,
          "timepoint": "2026-10-01T00:00:00"
         },
         {
          "clade_membership": "b125362",
          "frequency": 1.000015,
          "frequency_final": 1.000005,
          "observed_growth_rate": 0.9999900001499977,
          "timepoint": "2026-10-01T00:00:00"
         },
         {
          "clade_membership": "b19fe11",
          "frequency": 0.32413199999999986,
          "frequency_final": 0.305192,
          "observed_growth_rate": 0.9415670159071,
          "timepoint": "2026-10-01T00:00:00"
         },
         {
          "clade_membership": "b414da5",
          "frequency": 0.367044,
          "frequency_final": 0.666172,
          "observed_growth_rate": 1.8149649633286473,
          "timepoint": "2026-10-01T00:00:00"
         },
         {
          "clade_membership": "b66b3e9",
          "frequency": 1.000015,
          "frequency_final": 1.000005,
          "observed_growth_rate": 0.9999900001499977,
          "timepoint": "2026-10-01T00:00:00"
         },
         {
          "clade_membership": "b771746",
          "frequency": 1.000015,
          "frequency_final": 1.000005,
          "observed_growth_rate": 0.9999900001499977,
          "timepoint": "2026-10-01T00:00:00"
         },
         {
          "clade_membership": "bae78d3",
          "frequency": 1.000015,
          "frequency_final": 1.000005,
          "observed_growth_rate": 0.9999900001499977,
          "timepoint": "2026-10-01T00:00:00"
         },
         {
          "clade_membership": "bd7776e",
          "frequency": 0.30783799999999995,
          "frequency_final": 0.305192,
          "observed_growth_rate": 0.9914045699361355,
          "timepoint": "2026-10-01T00:00:00"
         },
         {
          "clade_membership": "c72df39",
          "frequency": 1.000015,
          "frequency_final": 1.000005,
          "observed_growth_rate": 0.9999900001499977,
          "timepoint": "2026-10-01T00:00:00"
         },
         {
          "clade_membership": "cbef932",
          "frequency": 1.000015,
          "frequency_final": 1.000005,
          "observed_growth_rate": 0.9999900001499977,
          "timepoint": "2026-10-01T00:00:00"
         },
         {
          "clade_membership": "d991bc2",
          "frequency": 0.613932,
          "frequency_final": 0.666176,
          "observed_growth_rate": 1.085097372347426,
          "timepoint": "2026-10-01T00:00:00"
         },
         {
          "clade_membership": "da37a22",
          "frequency": 1.000015,
          "frequency_final": 1.000005,
          "observed_growth_rate": 0.9999900001499977,
          "timepoint": "2026-10-01T00:00:00"
         },
         {
          "clade_membership": "e626b38",
          "frequency": 0.613932,
          "frequency_final": 0.666176,
          "observed_growth_rate": 1.085097372347426,
          "timepoint": "2026-10-01T00:00:00"
         },
         {
          "clade_membership": "e72bf28",
          "frequency": 1.000015,
          "frequency_final": 1.000005,
          "observed_growth_rate": 0.9999900001499977,
          "timepoint": "2026-10-01T00:00:00"
         },
         {
          "clade_membership": "eb2f804",
          "frequency": 1.000015,
          "frequency_final": 1.000005,
          "observed_growth_rate": 0.9999900001499977,
          "timepoint": "2026-10-01T00:00:00"
         },
         {
          "clade_membership": "f263904",
          "frequency": 1.000015,
          "frequency_final": 1.000005,
          "observed_growth_rate": 0.9999900001499977,
          "timepoint": "2026-10-01T00:00:00"
         },
         {
          "clade_membership": "f657904",
          "frequency": 0.31640199999999985,
          "frequency_final": 0.305192,
          "observed_growth_rate": 0.9645703883034878,
          "timepoint": "2026-10-01T00:00:00"
         },
         {
          "clade_membership": "f6d9b34",
          "frequency": 1.000015,
          "frequency_final": 1.000005,
          "observed_growth_rate": 0.9999900001499977,
          "timepoint": "2026-10-01T00:00:00"
         },
         {
          "clade_membership": "root",
          "frequency": 1.000015,
          "frequency_final": 1.000005,
          "observed_growth_rate": 0.9999900001499977,
          "timepoint": "2026-10-01T00:00:00"
         },
         {
          "clade_membership": "00128ca",
          "frequency": 0.5957539999999999,
          "frequency_final": 0.26245799999999997,
          "observed_growth_rate": 0.44054760857669445,
          "timepoint": "2027-04-01T00:00:00"
         },
         {
          "clade_membership": "029c69d",
          "frequency": 1.0000170000000002,
          "frequency_final": 0.9999949999999995,
          "observed_growth_rate": 0.999978000373993,
          "timepoint": "2027-04-01T00:00:00"
         },
         {
          "clade_membership": "0654693",
          "frequency": 1.0000170000000002,
          "frequency_final": 0.9999949999999995,
          "observed_growth_rate": 0.999978000373993,
          "timepoint": "2027-04-01T00:00:00"
         },
         {
          "clade_membership": "0783f23",
          "frequency": 1.0000170000000002,
          "frequency_final": 0.9999949999999995,
          "observed_growth_rate": 0.999978000373993,
          "timepoint": "2027-04-01T00:00:00"
         },
         {
          "clade_membership": "0d82b51",
          "frequency": 1.0000170000000002,
          "frequency_final": 0.9999949999999995,
          "observed_growth_rate": 0.999978000373993,
          "timepoint": "2027-04-01T00:00:00"
         },
         {
          "clade_membership": "0d8bb1e",
          "frequency": 1.0000170000000002,
          "frequency_final": 0.9999949999999995,
          "observed_growth_rate": 0.999978000373993,
          "timepoint": "2027-04-01T00:00:00"
         },
         {
          "clade_membership": "1bce829",
          "frequency": 1.0000170000000002,
          "frequency_final": 0.9999949999999995,
          "observed_growth_rate": 0.999978000373993,
          "timepoint": "2027-04-01T00:00:00"
         },
         {
          "clade_membership": "1f6665e",
          "frequency": 0.6380669999999999,
          "frequency_final": 0.26245799999999997,
          "observed_growth_rate": 0.41133297913855443,
          "timepoint": "2027-04-01T00:00:00"
         },
         {
          "clade_membership": "2018235",
          "frequency": 1.0000170000000002,
          "frequency_final": 0.9999949999999995,
          "observed_growth_rate": 0.999978000373993,
          "timepoint": "2027-04-01T00:00:00"
         },
         {
          "clade_membership": "26d9681",
          "frequency": 0.34336399999999995,
          "frequency_final": 0.7374839999999996,
          "observed_growth_rate": 2.1478198063862246,
          "timepoint": "2027-04-01T00:00:00"
         },
         {
          "clade_membership": "2850b07",
          "frequency": 0.34336399999999995,
          "frequency_final": 0.7374839999999996,
          "observed_growth_rate": 2.1478198063862246,
          "timepoint": "2027-04-01T00:00:00"
         },
         {
          "clade_membership": "289c480",
          "frequency": 1.0000170000000002,
          "frequency_final": 0.9999949999999995,
          "observed_growth_rate": 0.999978000373993,
          "timepoint": "2027-04-01T00:00:00"
         },
         {
          "clade_membership": "2edcf74",
          "frequency": 1.0000170000000002,
          "frequency_final": 0.9999949999999995,
          "observed_growth_rate": 0.999978000373993,
          "timepoint": "2027-04-01T00:00:00"
         },
         {
          "clade_membership": "30c6c1b",
          "frequency": 1.0000170000000002,
          "frequency_final": 0.9999949999999995,
          "observed_growth_rate": 0.999978000373993,
          "timepoint": "2027-04-01T00:00:00"
         },
         {
          "clade_membership": "37311eb",
          "frequency": 0.34336399999999995,
          "frequency_final": 0.7374839999999996,
          "observed_growth_rate": 2.1478198063862246,
          "timepoint": "2027-04-01T00:00:00"
         },
         {
          "clade_membership": "3aad673",
          "frequency": 1.0000170000000002,
          "frequency_final": 0.9999949999999995,
          "observed_growth_rate": 0.999978000373993,
          "timepoint": "2027-04-01T00:00:00"
         },
         {
          "clade_membership": "3ae4d43",
          "frequency": 0.5528999999999997,
          "frequency_final": 0.26245799999999997,
          "observed_growth_rate": 0.4746934346174717,
          "timepoint": "2027-04-01T00:00:00"
         },
         {
          "clade_membership": "3b07f48",
          "frequency": 0.34336399999999995,
          "frequency_final": 0.7374839999999996,
          "observed_growth_rate": 2.1478198063862246,
          "timepoint": "2027-04-01T00:00:00"
         },
         {
          "clade_membership": "3f3f0ca",
          "frequency": 1.0000170000000002,
          "frequency_final": 0.9999949999999995,
          "observed_growth_rate": 0.999978000373993,
          "timepoint": "2027-04-01T00:00:00"
         },
         {
          "clade_membership": "433fd0b",
          "frequency": 0.34336399999999995,
          "frequency_final": 0.7374839999999996,
          "observed_growth_rate": 2.1478198063862246,
          "timepoint": "2027-04-01T00:00:00"
         },
         {
          "clade_membership": "4eae73a",
          "frequency": 1.0000170000000002,
          "frequency_final": 0.9999949999999995,
          "observed_growth_rate": 0.999978000373993,
          "timepoint": "2027-04-01T00:00:00"
         },
         {
          "clade_membership": "53320bc",
          "frequency": 1.0000170000000002,
          "frequency_final": 0.9999949999999995,
          "observed_growth_rate": 0.999978000373993,
          "timepoint": "2027-04-01T00:00:00"
         },
         {
          "clade_membership": "53d3851",
          "frequency": 1.0000170000000002,
          "frequency_final": 0.9999949999999995,
          "observed_growth_rate": 0.999978000373993,
          "timepoint": "2027-04-01T00:00:00"
         },
         {
          "clade_membership": "57bbb79",
          "frequency": 1.0000170000000002,
          "frequency_final": 0.9999949999999995,
          "observed_growth_rate": 0.999978000373993,
          "timepoint": "2027-04-01T00:00:00"
         },
         {
          "clade_membership": "5a8b5f6",
          "frequency": 1.0000170000000002,
          "frequency_final": 0.9999949999999995,
          "observed_growth_rate": 0.999978000373993,
          "timepoint": "2027-04-01T00:00:00"
         },
         {
          "clade_membership": "6270695",
          "frequency": 1.0000170000000002,
          "frequency_final": 0.9999949999999995,
          "observed_growth_rate": 0.999978000373993,
          "timepoint": "2027-04-01T00:00:00"
         },
         {
          "clade_membership": "63fb9b5",
          "frequency": 1.0000170000000002,
          "frequency_final": 0.9999949999999995,
          "observed_growth_rate": 0.999978000373993,
          "timepoint": "2027-04-01T00:00:00"
         },
         {
          "clade_membership": "670a3cd",
          "frequency": 1.0000170000000002,
          "frequency_final": 0.9999949999999995,
          "observed_growth_rate": 0.999978000373993,
          "timepoint": "2027-04-01T00:00:00"
         },
         {
          "clade_membership": "6fabbb5",
          "frequency": 1.0000170000000002,
          "frequency_final": 0.9999949999999995,
          "observed_growth_rate": 0.999978000373993,
          "timepoint": "2027-04-01T00:00:00"
         },
         {
          "clade_membership": "7556fb5",
          "frequency": 0.5521519999999998,
          "frequency_final": 0.26245799999999997,
          "observed_growth_rate": 0.4753365015430535,
          "timepoint": "2027-04-01T00:00:00"
         },
         {
          "clade_membership": "75a9110",
          "frequency": 0.2941059999999999,
          "frequency_final": 0.7374839999999996,
          "observed_growth_rate": 2.507544898777991,
          "timepoint": "2027-04-01T00:00:00"
         },
         {
          "clade_membership": "7a88259",
          "frequency": 1.0000170000000002,
          "frequency_final": 0.9999949999999995,
          "observed_growth_rate": 0.999978000373993,
          "timepoint": "2027-04-01T00:00:00"
         },
         {
          "clade_membership": "7bea6f6",
          "frequency": 1.0000170000000002,
          "frequency_final": 0.9999949999999995,
          "observed_growth_rate": 0.999978000373993,
          "timepoint": "2027-04-01T00:00:00"
         },
         {
          "clade_membership": "8126320",
          "frequency": 1.0000170000000002,
          "frequency_final": 0.9999949999999995,
          "observed_growth_rate": 0.999978000373993,
          "timepoint": "2027-04-01T00:00:00"
         },
         {
          "clade_membership": "8544c1e",
          "frequency": 1.0000170000000002,
          "frequency_final": 0.9999949999999995,
          "observed_growth_rate": 0.999978000373993,
          "timepoint": "2027-04-01T00:00:00"
         },
         {
          "clade_membership": "8727a54",
          "frequency": 1.0000170000000002,
          "frequency_final": 0.9999949999999995,
          "observed_growth_rate": 0.999978000373993,
          "timepoint": "2027-04-01T00:00:00"
         },
         {
          "clade_membership": "a6348ef",
          "frequency": 0.638813,
          "frequency_final": 0.26245799999999997,
          "observed_growth_rate": 0.4108526282339276,
          "timepoint": "2027-04-01T00:00:00"
         },
         {
          "clade_membership": "ae8f3de",
          "frequency": 0.2941079999999999,
          "frequency_final": 0.7374839999999996,
          "observed_growth_rate": 2.507527846913378,
          "timepoint": "2027-04-01T00:00:00"
         },
         {
          "clade_membership": "b125362",
          "frequency": 1.0000170000000002,
          "frequency_final": 0.9999949999999995,
          "observed_growth_rate": 0.999978000373993,
          "timepoint": "2027-04-01T00:00:00"
         },
         {
          "clade_membership": "b19fe11",
          "frequency": 0.34336399999999995,
          "frequency_final": 0.7374839999999996,
          "observed_growth_rate": 2.1478198063862246,
          "timepoint": "2027-04-01T00:00:00"
         },
         {
          "clade_membership": "b414da5",
          "frequency": 0.5957539999999999,
          "frequency_final": 0.26245799999999997,
          "observed_growth_rate": 0.44054760857669445,
          "timepoint": "2027-04-01T00:00:00"
         },
         {
          "clade_membership": "b66b3e9",
          "frequency": 1.0000170000000002,
          "frequency_final": 0.9999949999999995,
          "observed_growth_rate": 0.999978000373993,
          "timepoint": "2027-04-01T00:00:00"
         },
         {
          "clade_membership": "b771746",
          "frequency": 1.0000170000000002,
          "frequency_final": 0.9999949999999995,
          "observed_growth_rate": 0.999978000373993,
          "timepoint": "2027-04-01T00:00:00"
         },
         {
          "clade_membership": "bae78d3",
          "frequency": 1.0000170000000002,
          "frequency_final": 0.9999949999999995,
          "observed_growth_rate": 0.999978000373993,
          "timepoint": "2027-04-01T00:00:00"
         },
         {
          "clade_membership": "bd7776e",
          "frequency": 0.34336399999999995,
          "frequency_final": 0.7374839999999996,
          "observed_growth_rate": 2.1478198063862246,
          "timepoint": "2027-04-01T00:00:00"
         },
         {
          "clade_membership": "c72df39",
          "frequency": 1.0000170000000002,
          "frequency_final": 0.9999949999999995,
          "observed_growth_rate": 0.999978000373993,
          "timepoint": "2027-04-01T00:00:00"
         },
         {
          "clade_membership": "cbef932",
          "frequency": 1.0000170000000002,
          "frequency_final": 0.9999949999999995,
          "observed_growth_rate": 0.999978000373993,
          "timepoint": "2027-04-01T00:00:00"
         },
         {
          "clade_membership": "d991bc2",
          "frequency": 0.638813,
          "frequency_final": 0.26245799999999997,
          "observed_growth_rate": 0.4108526282339276,
          "timepoint": "2027-04-01T00:00:00"
         },
         {
          "clade_membership": "da37a22",
          "frequency": 1.0000170000000002,
          "frequency_final": 0.9999949999999995,
          "observed_growth_rate": 0.999978000373993,
          "timepoint": "2027-04-01T00:00:00"
         },
         {
          "clade_membership": "e626b38",
          "frequency": 0.638813,
          "frequency_final": 0.26245799999999997,
          "observed_growth_rate": 0.4108526282339276,
          "timepoint": "2027-04-01T00:00:00"
         },
         {
          "clade_membership": "e72bf28",
          "frequency": 1.0000170000000002,
          "frequency_final": 0.9999949999999995,
          "observed_growth_rate": 0.999978000373993,
          "timepoint": "2027-04-01T00:00:00"
         },
         {
          "clade_membership": "eb2f804",
          "frequency": 1.0000170000000002,
          "frequency_final": 0.9999949999999995,
          "observed_growth_rate": 0.999978000373993,
          "timepoint": "2027-04-01T00:00:00"
         },
         {
          "clade_membership": "f263904",
          "frequency": 1.0000170000000002,
          "frequency_final": 0.9999949999999995,
          "observed_growth_rate": 0.999978000373993,
          "timepoint": "2027-04-01T00:00:00"
         },
         {
          "clade_membership": "f657904",
          "frequency": 0.34336399999999995,
          "frequency_final": 0.7374839999999996,
          "observed_growth_rate": 2.1478198063862246,
          "timepoint": "2027-04-01T00:00:00"
         },
         {
          "clade_membership": "f6d3aae",
          "frequency": 0.2941059999999999,
          "frequency_final": 0.7374839999999996,
          "observed_growth_rate": 2.507544898777991,
          "timepoint": "2027-04-01T00:00:00"
         },
         {
          "clade_membership": "f6d9b34",
          "frequency": 1.0000170000000002,
          "frequency_final": 0.9999949999999995,
          "observed_growth_rate": 0.999978000373993,
          "timepoint": "2027-04-01T00:00:00"
         },
         {
          "clade_membership": "root",
          "frequency": 1.0000170000000002,
          "frequency_final": 0.9999949999999995,
          "observed_growth_rate": 0.999978000373993,
          "timepoint": "2027-04-01T00:00:00"
         },
         {
          "clade_membership": "00128ca",
          "frequency": 0.666172,
          "frequency_final": 0.18354199999999996,
          "observed_growth_rate": 0.27551743393598044,
          "timepoint": "2027-10-01T00:00:00"
         },
         {
          "clade_membership": "029c69d",
          "frequency": 1.000005,
          "frequency_final": 1.0000010000000004,
          "observed_growth_rate": 0.9999960000200002,
          "timepoint": "2027-10-01T00:00:00"
         },
         {
          "clade_membership": "0654693",
          "frequency": 1.000005,
          "frequency_final": 1.0000010000000004,
          "observed_growth_rate": 0.9999960000200002,
          "timepoint": "2027-10-01T00:00:00"
         },
         {
          "clade_membership": "0783f23",
          "frequency": 1.000005,
          "frequency_final": 1.0000010000000004,
          "observed_growth_rate": 0.9999960000200002,
          "timepoint": "2027-10-01T00:00:00"
         },
         {
          "clade_membership": "0d82b51",
          "frequency": 1.000005,
          "frequency_final": 1.0000010000000004,
          "observed_growth_rate": 0.9999960000200002,
          "timepoint": "2027-10-01T00:00:00"
         },
         {
          "clade_membership": "0d8bb1e",
          "frequency": 1.000005,
          "frequency_final": 1.0000010000000004,
          "observed_growth_rate": 0.9999960000200002,
          "timepoint": "2027-10-01T00:00:00"
         },
         {
          "clade_membership": "1bce829",
          "frequency": 1.000005,
          "frequency_final": 1.0000010000000004,
          "observed_growth_rate": 0.9999960000200002,
          "timepoint": "2027-10-01T00:00:00"
         },
         {
          "clade_membership": "1f6665e",
          "frequency": 0.666176,
          "frequency_final": 0.18354199999999996,
          "observed_growth_rate": 0.2755157796137957,
          "timepoint": "2027-10-01T00:00:00"
         },
         {
          "clade_membership": "2018235",
          "frequency": 1.000005,
          "frequency_final": 1.0000010000000004,
          "observed_growth_rate": 0.9999960000200002,
          "timepoint": "2027-10-01T00:00:00"
         },
         {
          "clade_membership": "26d9681",
          "frequency": 0.305192,
          "frequency_final": 0.8164590000000003,
          "observed_growth_rate": 2.675230674460668,
          "timepoint": "2027-10-01T00:00:00"
         },
         {
          "clade_membership": "2850b07",
          "frequency": 0.305192,
          "frequency_final": 0.8164590000000003,
          "observed_growth_rate": 2.675230674460668,
          "timepoint": "2027-10-01T00:00:00"
         },
         {
          "clade_membership": "289c480",
          "frequency": 1.000005,
          "frequency_final": 1.0000010000000004,
          "observed_growth_rate": 0.9999960000200002,
          "timepoint": "2027-10-01T00:00:00"
         },
         {
          "clade_membership": "2edcf74",
          "frequency": 1.000005,
          "frequency_final": 1.0000010000000004,
          "observed_growth_rate": 0.9999960000200002,
          "timepoint": "2027-10-01T00:00:00"
         },
         {
          "clade_membership": "30c6c1b",
          "frequency": 1.000005,
          "frequency_final": 1.0000010000000004,
          "observed_growth_rate": 0.9999960000200002,
          "timepoint": "2027-10-01T00:00:00"
         },
         {
          "clade_membership": "37311eb",
          "frequency": 0.305192,
          "frequency_final": 0.8164590000000003,
          "observed_growth_rate": 2.675230674460668,
          "timepoint": "2027-10-01T00:00:00"
         },
         {
          "clade_membership": "3aad673",
          "frequency": 1.000005,
          "frequency_final": 1.0000010000000004,
          "observed_growth_rate": 0.9999960000200002,
          "timepoint": "2027-10-01T00:00:00"
         },
         {
          "clade_membership": "3ae4d43",
          "frequency": 0.6613760000000001,
          "frequency_final": 0.18354199999999996,
          "observed_growth_rate": 0.2775153619121346,
          "timepoint": "2027-10-01T00:00:00"
         },
         {
          "clade_membership": "3b07f48",
          "frequency": 0.305192,
          "frequency_final": 0.8164590000000003,
          "observed_growth_rate": 2.675230674460668,
          "timepoint": "2027-10-01T00:00:00"
         },
         {
          "clade_membership": "3f3f0ca",
          "frequency": 1.000005,
          "frequency_final": 1.0000010000000004,
          "observed_growth_rate": 0.9999960000200002,
          "timepoint": "2027-10-01T00:00:00"
         },
         {
          "clade_membership": "433fd0b",
          "frequency": 0.305192,
          "frequency_final": 0.8164590000000003,
          "observed_growth_rate": 2.675230674460668,
          "timepoint": "2027-10-01T00:00:00"
         },
         {
          "clade_membership": "4eae73a",
          "frequency": 1.000005,
          "frequency_final": 1.0000010000000004,
          "observed_growth_rate": 0.9999960000200002,
          "timepoint": "2027-10-01T00:00:00"
         },
         {
          "clade_membership": "53320bc",
          "frequency": 1.000005,
          "frequency_final": 1.0000010000000004,
          "observed_growth_rate": 0.9999960000200002,
          "timepoint": "2027-10-01T00:00:00"
         },
         {
          "clade_membership": "53d3851",
          "frequency": 1.000005,
          "frequency_final": 1.0000010000000004,
          "observed_growth_rate": 0.9999960000200002,
          "timepoint": "2027-10-01T00:00:00"
         },
         {
          "clade_membership": "57bbb79",
          "frequency": 1.000005,
          "frequency_final": 1.0000010000000004,
          "observed_growth_rate": 0.9999960000200002,
          "timepoint": "2027-10-01T00:00:00"
         },
         {
          "clade_membership": "5a8b5f6",
          "frequency": 1.000005,
          "frequency_final": 1.0000010000000004,
          "observed_growth_rate": 0.9999960000200002,
          "timepoint": "2027-10-01T00:00:00"
         },
         {
          "clade_membership": "6270695",
          "frequency": 1.000005,
          "frequency_final": 1.0000010000000004,
          "observed_growth_rate": 0.9999960000200002,
          "timepoint": "2027-10-01T00:00:00"
         },
         {
          "clade_membership": "63fb9b5",
          "frequency": 1.000005,
          "frequency_final": 1.0000010000000004,
          "observed_growth_rate": 0.9999960000200002,
          "timepoint": "2027-10-01T00:00:00"
         },
         {
          "clade_membership": "670a3cd",
          "frequency": 1.000005,
          "frequency_final": 1.0000010000000004,
          "observed_growth_rate": 0.9999960000200002,
          "timepoint": "2027-10-01T00:00:00"
         },
         {
          "clade_membership": "6fabbb5",
          "frequency": 1.000005,
          "frequency_final": 1.0000010000000004,
          "observed_growth_rate": 0.9999960000200002,
          "timepoint": "2027-10-01T00:00:00"
         },
         {
          "clade_membership": "7556fb5",
          "frequency": 0.6613760000000001,
          "frequency_final": 0.18354199999999996,
          "observed_growth_rate": 0.2775153619121346,
          "timepoint": "2027-10-01T00:00:00"
         },
         {
          "clade_membership": "75a9110",
          "frequency": 0.305192,
          "frequency_final": 0.8164590000000003,
          "observed_growth_rate": 2.675230674460668,
          "timepoint": "2027-10-01T00:00:00"
         },
         {
          "clade_membership": "762e09c",
          "frequency": 0.18706699999999998,
          "frequency_final": 0.8164590000000003,
          "observed_growth_rate": 4.36452714802718,
          "timepoint": "2027-10-01T00:00:00"
         },
         {
          "clade_membership": "7a88259",
          "frequency": 1.000005,
          "frequency_final": 1.0000010000000004,
          "observed_growth_rate": 0.9999960000200002,
          "timepoint": "2027-10-01T00:00:00"
         },
         {
          "clade_membership": "7bea6f6",
          "frequency": 1.000005,
          "frequency_final": 1.0000010000000004,
          "observed_growth_rate": 0.9999960000200002,
          "timepoint": "2027-10-01T00:00:00"
         },
         {
          "clade_membership": "8126320",
          "frequency": 1.000005,
          "frequency_final": 1.0000010000000004,
          "observed_growth_rate": 0.9999960000200002,
          "timepoint": "2027-10-01T00:00:00"
         },
         {
          "clade_membership": "8544c1e",
          "frequency": 1.000005,
          "frequency_final": 1.0000010000000004,
          "observed_growth_rate": 0.9999960000200002,
          "timepoint": "2027-10-01T00:00:00"
         },
         {
          "clade_membership": "8727a54",
          "frequency": 1.000005,
          "frequency_final": 1.0000010000000004,
          "observed_growth_rate": 0.9999960000200002,
          "timepoint": "2027-10-01T00:00:00"
         },
         {
          "clade_membership": "a6348ef",
          "frequency": 0.666176,
          "frequency_final": 0.18354199999999996,
          "observed_growth_rate": 0.2755157796137957,
          "timepoint": "2027-10-01T00:00:00"
         },
         {
          "clade_membership": "ae8f3de",
          "frequency": 0.305192,
          "frequency_final": 0.8164590000000003,
          "observed_growth_rate": 2.675230674460668,
          "timepoint": "2027-10-01T00:00:00"
         },
         {
          "clade_membership": "b125362",
          "frequency": 1.000005,
          "frequency_final": 1.0000010000000004,
          "observed_growth_rate": 0.9999960000200002,
          "timepoint": "2027-10-01T00:00:00"
         },
         {
          "clade_membership": "b19fe11",
          "frequency": 0.305192,
          "frequency_final": 0.8164590000000003,
          "observed_growth_rate": 2.675230674460668,
          "timepoint": "2027-10-01T00:00:00"
         },
         {
          "clade_membership": "b414da5",
          "frequency": 0.666172,
          "frequency_final": 0.18354199999999996,
          "observed_growth_rate": 0.27551743393598044,
          "timepoint": "2027-10-01T00:00:00"
         },
         {
          "clade_membership": "b66b3e9",
          "frequency": 1.000005,
          "frequency_final": 1.0000010000000004,
          "observed_growth_rate": 0.9999960000200002,
          "timepoint": "2027-10-01T00:00:00"
         },
         {
          "clade_membership": "b771746",
          "frequency": 1.000005,
          "frequency_final": 1.0000010000000004,
          "observed_growth_rate": 0.9999960000200002,
          "timepoint": "2027-10-01T00:00:00"
         },
         {
          "clade_membership": "bae78d3",
          "frequency": 1.000005,
          "frequency_final": 1.0000010000000004,
          "observed_growth_rate": 0.9999960000200002,
          "timepoint": "2027-10-01T00:00:00"
         },
         {
          "clade_membership": "bd7776e",
          "frequency": 0.305192,
          "frequency_final": 0.8164590000000003,
          "observed_growth_rate": 2.675230674460668,
          "timepoint": "2027-10-01T00:00:00"
         },
         {
          "clade_membership": "c72df39",
          "frequency": 1.000005,
          "frequency_final": 1.0000010000000004,
          "observed_growth_rate": 0.9999960000200002,
          "timepoint": "2027-10-01T00:00:00"
         },
         {
          "clade_membership": "cbef932",
          "frequency": 1.000005,
          "frequency_final": 1.0000010000000004,
          "observed_growth_rate": 0.9999960000200002,
          "timepoint": "2027-10-01T00:00:00"
         },
         {
          "clade_membership": "d991bc2",
          "frequency": 0.666176,
          "frequency_final": 0.18354199999999996,
          "observed_growth_rate": 0.2755157796137957,
          "timepoint": "2027-10-01T00:00:00"
         },
         {
          "clade_membership": "da37a22",
          "frequency": 1.000005,
          "frequency_final": 1.0000010000000004,
          "observed_growth_rate": 0.9999960000200002,
          "timepoint": "2027-10-01T00:00:00"
         },
         {
          "clade_membership": "e626b38",
          "frequency": 0.666176,
          "frequency_final": 0.18354199999999996,
          "observed_growth_rate": 0.2755157796137957,
          "timepoint": "2027-10-01T00:00:00"
         },
         {
          "clade_membership": "e72bf28",
          "frequency": 1.000005,
          "frequency_final": 1.0000010000000004,
          "observed_growth_rate": 0.9999960000200002,
          "timepoint": "2027-10-01T00:00:00"
         },
         {
          "clade_membership": "eb2f804",
          "frequency": 1.000005,
          "frequency_final": 1.0000010000000004,
          "observed_growth_rate": 0.9999960000200002,
          "timepoint": "2027-10-01T00:00:00"
         },
         {
          "clade_membership": "f263904",
          "frequency": 1.000005,
          "frequency_final": 1.0000010000000004,
          "observed_growth_rate": 0.9999960000200002,
          "timepoint": "2027-10-01T00:00:00"
         },
         {
          "clade_membership": "f657904",
          "frequency": 0.305192,
          "frequency_final": 0.8164590000000003,
          "observed_growth_rate": 2.675230674460668,
          "timepoint": "2027-10-01T00:00:00"
         },
         {
          "clade_membership": "f6d3aae",
          "frequency": 0.305192,
          "frequency_final": 0.8164590000000003,
          "observed_growth_rate": 2.675230674460668,
          "timepoint": "2027-10-01T00:00:00"
         },
         {
          "clade_membership": "f6d9b34",
          "frequency": 1.000005,
          "frequency_final": 1.0000010000000004,
          "observed_growth_rate": 0.9999960000200002,
          "timepoint": "2027-10-01T00:00:00"
         },
         {
          "clade_membership": "root",
          "frequency": 1.000005,
          "frequency_final": 1.0000010000000004,
          "observed_growth_rate": 0.9999960000200002,
          "timepoint": "2027-10-01T00:00:00"
         },
         {
          "clade_membership": "00128ca",
          "frequency": 0.26245799999999997,
          "frequency_final": 0.163582,
          "observed_growth_rate": 0.6232692468890262,
          "timepoint": "2028-04-01T00:00:00"
         },
         {
          "clade_membership": "029c69d",
          "frequency": 0.9999949999999995,
          "frequency_final": 1.0000039999999994,
          "observed_growth_rate": 1.0000090000450002,
          "timepoint": "2028-04-01T00:00:00"
         },
         {
          "clade_membership": "0654693",
          "frequency": 0.9999949999999995,
          "frequency_final": 1.0000039999999994,
          "observed_growth_rate": 1.0000090000450002,
          "timepoint": "2028-04-01T00:00:00"
         },
         {
          "clade_membership": "0783f23",
          "frequency": 0.9999949999999995,
          "frequency_final": 1.0000039999999994,
          "observed_growth_rate": 1.0000090000450002,
          "timepoint": "2028-04-01T00:00:00"
         },
         {
          "clade_membership": "0d82b51",
          "frequency": 0.9999949999999995,
          "frequency_final": 1.0000039999999994,
          "observed_growth_rate": 1.0000090000450002,
          "timepoint": "2028-04-01T00:00:00"
         },
         {
          "clade_membership": "0d8bb1e",
          "frequency": 0.9999949999999995,
          "frequency_final": 1.0000039999999994,
          "observed_growth_rate": 1.0000090000450002,
          "timepoint": "2028-04-01T00:00:00"
         },
         {
          "clade_membership": "1bce829",
          "frequency": 0.9999949999999995,
          "frequency_final": 1.0000039999999994,
          "observed_growth_rate": 1.0000090000450002,
          "timepoint": "2028-04-01T00:00:00"
         },
         {
          "clade_membership": "1f6665e",
          "frequency": 0.26245799999999997,
          "frequency_final": 0.163582,
          "observed_growth_rate": 0.6232692468890262,
          "timepoint": "2028-04-01T00:00:00"
         },
         {
          "clade_membership": "2018235",
          "frequency": 0.9999949999999995,
          "frequency_final": 1.0000039999999994,
          "observed_growth_rate": 1.0000090000450002,
          "timepoint": "2028-04-01T00:00:00"
         },
         {
          "clade_membership": "26d9681",
          "frequency": 0.7374839999999996,
          "frequency_final": 0.8364219999999997,
          "observed_growth_rate": 1.1341561308448727,
          "timepoint": "2028-04-01T00:00:00"
         },
         {
          "clade_membership": "2850b07",
          "frequency": 0.7374839999999996,
          "frequency_final": 0.8364219999999997,
          "observed_growth_rate": 1.1341561308448727,
          "timepoint": "2028-04-01T00:00:00"
         },
         {
          "clade_membership": "289c480",
          "frequency": 0.9999949999999995,
          "frequency_final": 1.0000039999999994,
          "observed_growth_rate": 1.0000090000450002,
          "timepoint": "2028-04-01T00:00:00"
         },
         {
          "clade_membership": "2edcf74",
          "frequency": 0.9999949999999995,
          "frequency_final": 1.0000039999999994,
          "observed_growth_rate": 1.0000090000450002,
          "timepoint": "2028-04-01T00:00:00"
         },
         {
          "clade_membership": "30c6c1b",
          "frequency": 0.9999949999999995,
          "frequency_final": 1.0000039999999994,
          "observed_growth_rate": 1.0000090000450002,
          "timepoint": "2028-04-01T00:00:00"
         },
         {
          "clade_membership": "37311eb",
          "frequency": 0.7374839999999996,
          "frequency_final": 0.8364219999999997,
          "observed_growth_rate": 1.1341561308448727,
          "timepoint": "2028-04-01T00:00:00"
         },
         {
          "clade_membership": "3aad673",
          "frequency": 0.9999949999999995,
          "frequency_final": 1.0000039999999994,
          "observed_growth_rate": 1.0000090000450002,
          "timepoint": "2028-04-01T00:00:00"
         },
         {
          "clade_membership": "3ae4d43",
          "frequency": 0.26245799999999997,
          "frequency_final": 0.163582,
          "observed_growth_rate": 0.6232692468890262,
          "timepoint": "2028-04-01T00:00:00"
         },
         {
          "clade_membership": "3b07f48",
          "frequency": 0.7374839999999996,
          "frequency_final": 0.8364219999999997,
          "observed_growth_rate": 1.1341561308448727,
          "timepoint": "2028-04-01T00:00:00"
         },
         {
          "clade_membership": "3f3f0ca",
          "frequency": 0.9999949999999995,
          "frequency_final": 1.0000039999999994,
          "observed_growth_rate": 1.0000090000450002,
          "timepoint": "2028-04-01T00:00:00"
         },
         {
          "clade_membership": "433fd0b",
          "frequency": 0.7374839999999996,
          "frequency_final": 0.8364219999999997,
          "observed_growth_rate": 1.1341561308448727,
          "timepoint": "2028-04-01T00:00:00"
         },
         {
          "clade_membership": "4eae73a",
          "frequency": 0.9999949999999995,
          "frequency_final": 1.0000039999999994,
          "observed_growth_rate": 1.0000090000450002,
          "timepoint": "2028-04-01T00:00:00"
         },
         {
          "clade_membership": "53320bc",
          "frequency": 0.9999949999999995,
          "frequency_final": 1.0000039999999994,
          "observed_growth_rate": 1.0000090000450002,
          "timepoint": "2028-04-01T00:00:00"
         },
         {
          "clade_membership": "53d3851",
          "frequency": 0.9999949999999995,
          "frequency_final": 1.0000039999999994,
          "observed_growth_rate": 1.0000090000450002,
          "timepoint": "2028-04-01T00:00:00"
         },
         {
          "clade_membership": "57bbb79",
          "frequency": 0.9999949999999995,
          "frequency_final": 1.0000039999999994,
          "observed_growth_rate": 1.0000090000450002,
          "timepoint": "2028-04-01T00:00:00"
         },
         {
          "clade_membership": "5a8b5f6",
          "frequency": 0.9999949999999995,
          "frequency_final": 1.0000039999999994,
          "observed_growth_rate": 1.0000090000450002,
          "timepoint": "2028-04-01T00:00:00"
         },
         {
          "clade_membership": "6270695",
          "frequency": 0.9999949999999995,
          "frequency_final": 1.0000039999999994,
          "observed_growth_rate": 1.0000090000450002,
          "timepoint": "2028-04-01T00:00:00"
         },
         {
          "clade_membership": "63fb9b5",
          "frequency": 0.9999949999999995,
          "frequency_final": 1.0000039999999994,
          "observed_growth_rate": 1.0000090000450002,
          "timepoint": "2028-04-01T00:00:00"
         },
         {
          "clade_membership": "670a3cd",
          "frequency": 0.9999949999999995,
          "frequency_final": 1.0000039999999994,
          "observed_growth_rate": 1.0000090000450002,
          "timepoint": "2028-04-01T00:00:00"
         },
         {
          "clade_membership": "6fabbb5",
          "frequency": 0.9999949999999995,
          "frequency_final": 1.0000039999999994,
          "observed_growth_rate": 1.0000090000450002,
          "timepoint": "2028-04-01T00:00:00"
         },
         {
          "clade_membership": "7556fb5",
          "frequency": 0.26245799999999997,
          "frequency_final": 0.163582,
          "observed_growth_rate": 0.6232692468890262,
          "timepoint": "2028-04-01T00:00:00"
         },
         {
          "clade_membership": "75a9110",
          "frequency": 0.7374839999999996,
          "frequency_final": 0.8364219999999997,
          "observed_growth_rate": 1.1341561308448727,
          "timepoint": "2028-04-01T00:00:00"
         },
         {
          "clade_membership": "762e09c",
          "frequency": 0.7372739999999995,
          "frequency_final": 0.8364219999999997,
          "observed_growth_rate": 1.1344791759915585,
          "timepoint": "2028-04-01T00:00:00"
         },
         {
          "clade_membership": "7a88259",
          "frequency": 0.9999949999999995,
          "frequency_final": 1.0000039999999994,
          "observed_growth_rate": 1.0000090000450002,
          "timepoint": "2028-04-01T00:00:00"
         },
         {
          "clade_membership": "7bea6f6",
          "frequency": 0.9999949999999995,
          "frequency_final": 1.0000039999999994,
          "observed_growth_rate": 1.0000090000450002,
          "timepoint": "2028-04-01T00:00:00"
         },
         {
          "clade_membership": "8126320",
          "frequency": 0.9999949999999995,
          "frequency_final": 1.0000039999999994,
          "observed_growth_rate": 1.0000090000450002,
          "timepoint": "2028-04-01T00:00:00"
         },
         {
          "clade_membership": "8544c1e",
          "frequency": 0.9999949999999995,
          "frequency_final": 1.0000039999999994,
          "observed_growth_rate": 1.0000090000450002,
          "timepoint": "2028-04-01T00:00:00"
         },
         {
          "clade_membership": "8727a54",
          "frequency": 0.9999949999999995,
          "frequency_final": 1.0000039999999994,
          "observed_growth_rate": 1.0000090000450002,
          "timepoint": "2028-04-01T00:00:00"
         },
         {
          "clade_membership": "a6348ef",
          "frequency": 0.26245799999999997,
          "frequency_final": 0.163582,
          "observed_growth_rate": 0.6232692468890262,
          "timepoint": "2028-04-01T00:00:00"
         },
         {
          "clade_membership": "ae8f3de",
          "frequency": 0.7374839999999996,
          "frequency_final": 0.8364219999999997,
          "observed_growth_rate": 1.1341561308448727,
          "timepoint": "2028-04-01T00:00:00"
         },
         {
          "clade_membership": "b125362",
          "frequency": 0.9999949999999995,
          "frequency_final": 1.0000039999999994,
          "observed_growth_rate": 1.0000090000450002,
          "timepoint": "2028-04-01T00:00:00"
         },
         {
          "clade_membership": "b19fe11",
          "frequency": 0.7374839999999996,
          "frequency_final": 0.8364219999999997,
          "observed_growth_rate": 1.1341561308448727,
          "timepoint": "2028-04-01T00:00:00"
         },
         {
          "clade_membership": "b414da5",
          "frequency": 0.26245799999999997,
          "frequency_final": 0.163582,
          "observed_growth_rate": 0.6232692468890262,
          "timepoint": "2028-04-01T00:00:00"
         },
         {
          "clade_membership": "b66b3e9",
          "frequency": 0.9999949999999995,
          "frequency_final": 1.0000039999999994,
          "observed_growth_rate": 1.0000090000450002,
          "timepoint": "2028-04-01T00:00:00"
         },
         {
          "clade_membership": "b771746",
          "frequency": 0.9999949999999995,
          "frequency_final": 1.0000039999999994,
          "observed_growth_rate": 1.0000090000450002,
          "timepoint": "2028-04-01T00:00:00"
         },
         {
          "clade_membership": "bae78d3",
          "frequency": 0.9999949999999995,
          "frequency_final": 1.0000039999999994,
          "observed_growth_rate": 1.0000090000450002,
          "timepoint": "2028-04-01T00:00:00"
         },
         {
          "clade_membership": "bd7776e",
          "frequency": 0.7374839999999996,
          "frequency_final": 0.8364219999999997,
          "observed_growth_rate": 1.1341561308448727,
          "timepoint": "2028-04-01T00:00:00"
         },
         {
          "clade_membership": "c72df39",
          "frequency": 0.9999949999999995,
          "frequency_final": 1.0000039999999994,
          "observed_growth_rate": 1.0000090000450002,
          "timepoint": "2028-04-01T00:00:00"
         },
         {
          "clade_membership": "cbef932",
          "frequency": 0.9999949999999995,
          "frequency_final": 1.0000039999999994,
          "observed_growth_rate": 1.0000090000450002,
          "timepoint": "2028-04-01T00:00:00"
         },
         {
          "clade_membership": "d991bc2",
          "frequency": 0.26245799999999997,
          "frequency_final": 0.163582,
          "observed_growth_rate": 0.6232692468890262,
          "timepoint": "2028-04-01T00:00:00"
         },
         {
          "clade_membership": "da37a22",
          "frequency": 0.9999949999999995,
          "frequency_final": 1.0000039999999994,
          "observed_growth_rate": 1.0000090000450002,
          "timepoint": "2028-04-01T00:00:00"
         },
         {
          "clade_membership": "e4a2481",
          "frequency": 0.5761269999999998,
          "frequency_final": 0.6091960000000002,
          "observed_growth_rate": 1.0573988026945453,
          "timepoint": "2028-04-01T00:00:00"
         },
         {
          "clade_membership": "e626b38",
          "frequency": 0.26245799999999997,
          "frequency_final": 0.163582,
          "observed_growth_rate": 0.6232692468890262,
          "timepoint": "2028-04-01T00:00:00"
         },
         {
          "clade_membership": "e72bf28",
          "frequency": 0.9999949999999995,
          "frequency_final": 1.0000039999999994,
          "observed_growth_rate": 1.0000090000450002,
          "timepoint": "2028-04-01T00:00:00"
         },
         {
          "clade_membership": "eb2f804",
          "frequency": 0.9999949999999995,
          "frequency_final": 1.0000039999999994,
          "observed_growth_rate": 1.0000090000450002,
          "timepoint": "2028-04-01T00:00:00"
         },
         {
          "clade_membership": "f095a97",
          "frequency": 0.16823900000000003,
          "frequency_final": 0.051416,
          "observed_growth_rate": 0.3056128483883047,
          "timepoint": "2028-04-01T00:00:00"
         },
         {
          "clade_membership": "f263904",
          "frequency": 0.9999949999999995,
          "frequency_final": 1.0000039999999994,
          "observed_growth_rate": 1.0000090000450002,
          "timepoint": "2028-04-01T00:00:00"
         },
         {
          "clade_membership": "f657904",
          "frequency": 0.7374839999999996,
          "frequency_final": 0.8364219999999997,
          "observed_growth_rate": 1.1341561308448727,
          "timepoint": "2028-04-01T00:00:00"
         },
         {
          "clade_membership": "f6d3aae",
          "frequency": 0.7374839999999996,
          "frequency_final": 0.8364219999999997,
          "observed_growth_rate": 1.1341561308448727,
          "timepoint": "2028-04-01T00:00:00"
         },
         {
          "clade_membership": "f6d9b34",
          "frequency": 0.9999949999999995,
          "frequency_final": 1.0000039999999994,
          "observed_growth_rate": 1.0000090000450002,
          "timepoint": "2028-04-01T00:00:00"
         },
         {
          "clade_membership": "f9786f2",
          "frequency": 0.27650399999999997,
          "frequency_final": 0.44893800000000017,
          "observed_growth_rate": 1.6236220814165445,
          "timepoint": "2028-04-01T00:00:00"
         },
         {
          "clade_membership": "fa27c50",
          "frequency": 0.158036,
          "frequency_final": 0.20757899999999999,
          "observed_growth_rate": 1.3134918626135816,
          "timepoint": "2028-04-01T00:00:00"
         },
         {
          "clade_membership": "root",
          "frequency": 0.9999949999999995,
          "frequency_final": 1.0000039999999994,
          "observed_growth_rate": 1.0000090000450002,
          "timepoint": "2028-04-01T00:00:00"
         },
         {
          "clade_membership": "00128ca",
          "frequency": 0.18354199999999996,
          "frequency_final": 0.16258799999999998,
          "observed_growth_rate": 0.885835394623574,
          "timepoint": "2028-10-01T00:00:00"
         },
         {
          "clade_membership": "029c69d",
          "frequency": 1.0000010000000004,
          "frequency_final": 1.0000070000000003,
          "observed_growth_rate": 1.0000059999939999,
          "timepoint": "2028-10-01T00:00:00"
         },
         {
          "clade_membership": "0654693",
          "frequency": 1.0000010000000004,
          "frequency_final": 1.0000070000000003,
          "observed_growth_rate": 1.0000059999939999,
          "timepoint": "2028-10-01T00:00:00"
         },
         {
          "clade_membership": "0783f23",
          "frequency": 1.0000010000000004,
          "frequency_final": 1.0000070000000003,
          "observed_growth_rate": 1.0000059999939999,
          "timepoint": "2028-10-01T00:00:00"
         },
         {
          "clade_membership": "07bbfa9",
          "frequency": 0.15465600000000002,
          "frequency_final": 0.22951399999999994,
          "observed_growth_rate": 1.4840290709704111,
          "timepoint": "2028-10-01T00:00:00"
         },
         {
          "clade_membership": "0d82b51",
          "frequency": 1.0000010000000004,
          "frequency_final": 1.0000070000000003,
          "observed_growth_rate": 1.0000059999939999,
          "timepoint": "2028-10-01T00:00:00"
         },
         {
          "clade_membership": "0d8bb1e",
          "frequency": 1.0000010000000004,
          "frequency_final": 1.0000070000000003,
          "observed_growth_rate": 1.0000059999939999,
          "timepoint": "2028-10-01T00:00:00"
         },
         {
          "clade_membership": "1bce829",
          "frequency": 1.0000010000000004,
          "frequency_final": 1.0000070000000003,
          "observed_growth_rate": 1.0000059999939999,
          "timepoint": "2028-10-01T00:00:00"
         },
         {
          "clade_membership": "1f6665e",
          "frequency": 0.18354199999999996,
          "frequency_final": 0.16258799999999998,
          "observed_growth_rate": 0.885835394623574,
          "timepoint": "2028-10-01T00:00:00"
         },
         {
          "clade_membership": "2018235",
          "frequency": 1.0000010000000004,
          "frequency_final": 1.0000070000000003,
          "observed_growth_rate": 1.0000059999939999,
          "timepoint": "2028-10-01T00:00:00"
         },
         {
          "clade_membership": "26d9681",
          "frequency": 0.8164590000000003,
          "frequency_final": 0.837419,
          "observed_growth_rate": 1.0256718341031206,
          "timepoint": "2028-10-01T00:00:00"
         },
         {
          "clade_membership": "2850b07",
          "frequency": 0.8164590000000003,
          "frequency_final": 0.837419,
          "observed_growth_rate": 1.0256718341031206,
          "timepoint": "2028-10-01T00:00:00"
         },
         {
          "clade_membership": "289c480",
          "frequency": 1.0000010000000004,
          "frequency_final": 1.0000070000000003,
          "observed_growth_rate": 1.0000059999939999,
          "timepoint": "2028-10-01T00:00:00"
         },
         {
          "clade_membership": "2edcf74",
          "frequency": 1.0000010000000004,
          "frequency_final": 1.0000070000000003,
          "observed_growth_rate": 1.0000059999939999,
          "timepoint": "2028-10-01T00:00:00"
         },
         {
          "clade_membership": "30c6c1b",
          "frequency": 1.0000010000000004,
          "frequency_final": 1.0000070000000003,
          "observed_growth_rate": 1.0000059999939999,
          "timepoint": "2028-10-01T00:00:00"
         },
         {
          "clade_membership": "37311eb",
          "frequency": 0.8164590000000003,
          "frequency_final": 0.837419,
          "observed_growth_rate": 1.0256718341031206,
          "timepoint": "2028-10-01T00:00:00"
         },
         {
          "clade_membership": "3aad673",
          "frequency": 1.0000010000000004,
          "frequency_final": 1.0000070000000003,
          "observed_growth_rate": 1.0000059999939999,
          "timepoint": "2028-10-01T00:00:00"
         },
         {
          "clade_membership": "3ae4d43",
          "frequency": 0.18354199999999996,
          "frequency_final": 0.16258799999999998,
          "observed_growth_rate": 0.885835394623574,
          "timepoint": "2028-10-01T00:00:00"
         },
         {
          "clade_membership": "3b07f48",
          "frequency": 0.8164590000000003,
          "frequency_final": 0.837419,
          "observed_growth_rate": 1.0256718341031206,
          "timepoint": "2028-10-01T00:00:00"
         },
         {
          "clade_membership": "3f3f0ca",
          "frequency": 1.0000010000000004,
          "frequency_final": 1.0000070000000003,
          "observed_growth_rate": 1.0000059999939999,
          "timepoint": "2028-10-01T00:00:00"
         },
         {
          "clade_membership": "433fd0b",
          "frequency": 0.8164590000000003,
          "frequency_final": 0.837419,
          "observed_growth_rate": 1.0256718341031206,
          "timepoint": "2028-10-01T00:00:00"
         },
         {
          "clade_membership": "4eae73a",
          "frequency": 1.0000010000000004,
          "frequency_final": 1.0000070000000003,
          "observed_growth_rate": 1.0000059999939999,
          "timepoint": "2028-10-01T00:00:00"
         },
         {
          "clade_membership": "53320bc",
          "frequency": 1.0000010000000004,
          "frequency_final": 1.0000070000000003,
          "observed_growth_rate": 1.0000059999939999,
          "timepoint": "2028-10-01T00:00:00"
         },
         {
          "clade_membership": "53d3851",
          "frequency": 1.0000010000000004,
          "frequency_final": 1.0000070000000003,
          "observed_growth_rate": 1.0000059999939999,
          "timepoint": "2028-10-01T00:00:00"
         },
         {
          "clade_membership": "57bbb79",
          "frequency": 1.0000010000000004,
          "frequency_final": 1.0000070000000003,
          "observed_growth_rate": 1.0000059999939999,
          "timepoint": "2028-10-01T00:00:00"
         },
         {
          "clade_membership": "5a8b5f6",
          "frequency": 1.0000010000000004,
          "frequency_final": 1.0000070000000003,
          "observed_growth_rate": 1.0000059999939999,
          "timepoint": "2028-10-01T00:00:00"
         },
         {
          "clade_membership": "6270695",
          "frequency": 1.0000010000000004,
          "frequency_final": 1.0000070000000003,
          "observed_growth_rate": 1.0000059999939999,
          "timepoint": "2028-10-01T00:00:00"
         },
         {
          "clade_membership": "63fb9b5",
          "frequency": 1.0000010000000004,
          "frequency_final": 1.0000070000000003,
          "observed_growth_rate": 1.0000059999939999,
          "timepoint": "2028-10-01T00:00:00"
         },
         {
          "clade_membership": "670a3cd",
          "frequency": 1.0000010000000004,
          "frequency_final": 1.0000070000000003,
          "observed_growth_rate": 1.0000059999939999,
          "timepoint": "2028-10-01T00:00:00"
         },
         {
          "clade_membership": "6fabbb5",
          "frequency": 1.0000010000000004,
          "frequency_final": 1.0000070000000003,
          "observed_growth_rate": 1.0000059999939999,
          "timepoint": "2028-10-01T00:00:00"
         },
         {
          "clade_membership": "7556fb5",
          "frequency": 0.18354199999999996,
          "frequency_final": 0.16258799999999998,
          "observed_growth_rate": 0.885835394623574,
          "timepoint": "2028-10-01T00:00:00"
         },
         {
          "clade_membership": "75a9110",
          "frequency": 0.8164590000000003,
          "frequency_final": 0.837419,
          "observed_growth_rate": 1.0256718341031206,
          "timepoint": "2028-10-01T00:00:00"
         },
         {
          "clade_membership": "762e09c",
          "frequency": 0.8164590000000003,
          "frequency_final": 0.837419,
          "observed_growth_rate": 1.0256718341031206,
          "timepoint": "2028-10-01T00:00:00"
         },
         {
          "clade_membership": "7a88259",
          "frequency": 1.0000010000000004,
          "frequency_final": 1.0000070000000003,
          "observed_growth_rate": 1.0000059999939999,
          "timepoint": "2028-10-01T00:00:00"
         },
         {
          "clade_membership": "7bea6f6",
          "frequency": 1.0000010000000004,
          "frequency_final": 1.0000070000000003,
          "observed_growth_rate": 1.0000059999939999,
          "timepoint": "2028-10-01T00:00:00"
         },
         {
          "clade_membership": "8126320",
          "frequency": 1.0000010000000004,
          "frequency_final": 1.0000070000000003,
          "observed_growth_rate": 1.0000059999939999,
          "timepoint": "2028-10-01T00:00:00"
         },
         {
          "clade_membership": "8544c1e",
          "frequency": 1.0000010000000004,
          "frequency_final": 1.0000070000000003,
          "observed_growth_rate": 1.0000059999939999,
          "timepoint": "2028-10-01T00:00:00"
         },
         {
          "clade_membership": "8727a54",
          "frequency": 1.0000010000000004,
          "frequency_final": 1.0000070000000003,
          "observed_growth_rate": 1.0000059999939999,
          "timepoint": "2028-10-01T00:00:00"
         },
         {
          "clade_membership": "a6348ef",
          "frequency": 0.18354199999999996,
          "frequency_final": 0.16258799999999998,
          "observed_growth_rate": 0.885835394623574,
          "timepoint": "2028-10-01T00:00:00"
         },
         {
          "clade_membership": "ae8f3de",
          "frequency": 0.8164590000000003,
          "frequency_final": 0.837419,
          "observed_growth_rate": 1.0256718341031206,
          "timepoint": "2028-10-01T00:00:00"
         },
         {
          "clade_membership": "b0637ca",
          "frequency": 0.156608,
          "frequency_final": 0.004823,
          "observed_growth_rate": 0.0307966387413159,
          "timepoint": "2028-10-01T00:00:00"
         },
         {
          "clade_membership": "b125362",
          "frequency": 1.0000010000000004,
          "frequency_final": 1.0000070000000003,
          "observed_growth_rate": 1.0000059999939999,
          "timepoint": "2028-10-01T00:00:00"
         },
         {
          "clade_membership": "b19fe11",
          "frequency": 0.8164590000000003,
          "frequency_final": 0.837419,
          "observed_growth_rate": 1.0256718341031206,
          "timepoint": "2028-10-01T00:00:00"
         },
         {
          "clade_membership": "b414da5",
          "frequency": 0.18354199999999996,
          "frequency_final": 0.16258799999999998,
          "observed_growth_rate": 0.885835394623574,
          "timepoint": "2028-10-01T00:00:00"
         },
         {
          "clade_membership": "b66b3e9",
          "frequency": 1.0000010000000004,
          "frequency_final": 1.0000070000000003,
          "observed_growth_rate": 1.0000059999939999,
          "timepoint": "2028-10-01T00:00:00"
         },
         {
          "clade_membership": "b771746",
          "frequency": 1.0000010000000004,
          "frequency_final": 1.0000070000000003,
          "observed_growth_rate": 1.0000059999939999,
          "timepoint": "2028-10-01T00:00:00"
         },
         {
          "clade_membership": "bae78d3",
          "frequency": 1.0000010000000004,
          "frequency_final": 1.0000070000000003,
          "observed_growth_rate": 1.0000059999939999,
          "timepoint": "2028-10-01T00:00:00"
         },
         {
          "clade_membership": "bd7776e",
          "frequency": 0.8164590000000003,
          "frequency_final": 0.837419,
          "observed_growth_rate": 1.0256718341031206,
          "timepoint": "2028-10-01T00:00:00"
         },
         {
          "clade_membership": "c72df39",
          "frequency": 1.0000010000000004,
          "frequency_final": 1.0000070000000003,
          "observed_growth_rate": 1.0000059999939999,
          "timepoint": "2028-10-01T00:00:00"
         },
         {
          "clade_membership": "cbef932",
          "frequency": 1.0000010000000004,
          "frequency_final": 1.0000070000000003,
          "observed_growth_rate": 1.0000059999939999,
          "timepoint": "2028-10-01T00:00:00"
         },
         {
          "clade_membership": "d991bc2",
          "frequency": 0.18354199999999996,
          "frequency_final": 0.16258799999999998,
          "observed_growth_rate": 0.885835394623574,
          "timepoint": "2028-10-01T00:00:00"
         },
         {
          "clade_membership": "da37a22",
          "frequency": 1.0000010000000004,
          "frequency_final": 1.0000070000000003,
          "observed_growth_rate": 1.0000059999939999,
          "timepoint": "2028-10-01T00:00:00"
         },
         {
          "clade_membership": "e4a2481",
          "frequency": 0.6278090000000001,
          "frequency_final": 0.607905,
          "observed_growth_rate": 0.9682960900528663,
          "timepoint": "2028-10-01T00:00:00"
         },
         {
          "clade_membership": "e626b38",
          "frequency": 0.18354199999999996,
          "frequency_final": 0.16258799999999998,
          "observed_growth_rate": 0.885835394623574,
          "timepoint": "2028-10-01T00:00:00"
         },
         {
          "clade_membership": "e72bf28",
          "frequency": 1.0000010000000004,
          "frequency_final": 1.0000070000000003,
          "observed_growth_rate": 1.0000059999939999,
          "timepoint": "2028-10-01T00:00:00"
         },
         {
          "clade_membership": "eb2f804",
          "frequency": 1.0000010000000004,
          "frequency_final": 1.0000070000000003,
          "observed_growth_rate": 1.0000059999939999,
          "timepoint": "2028-10-01T00:00:00"
         },
         {
          "clade_membership": "f095a97",
          "frequency": 0.273412,
          "frequency_final": 0.016093,
          "observed_growth_rate": 0.05885988910508683,
          "timepoint": "2028-10-01T00:00:00"
         },
         {
          "clade_membership": "f263904",
          "frequency": 1.0000010000000004,
          "frequency_final": 1.0000070000000003,
          "observed_growth_rate": 1.0000059999939999,
          "timepoint": "2028-10-01T00:00:00"
         },
         {
          "clade_membership": "f657904",
          "frequency": 0.8164590000000003,
          "frequency_final": 0.837419,
          "observed_growth_rate": 1.0256718341031206,
          "timepoint": "2028-10-01T00:00:00"
         },
         {
          "clade_membership": "f6d3aae",
          "frequency": 0.8164590000000003,
          "frequency_final": 0.837419,
          "observed_growth_rate": 1.0256718341031206,
          "timepoint": "2028-10-01T00:00:00"
         },
         {
          "clade_membership": "f6d9b34",
          "frequency": 1.0000010000000004,
          "frequency_final": 1.0000070000000003,
          "observed_growth_rate": 1.0000059999939999,
          "timepoint": "2028-10-01T00:00:00"
         },
         {
          "clade_membership": "f9786f2",
          "frequency": 0.296977,
          "frequency_final": 0.3947159999999999,
          "observed_growth_rate": 1.329113028955104,
          "timepoint": "2028-10-01T00:00:00"
         },
         {
          "clade_membership": "fa27c50",
          "frequency": 0.15414999999999998,
          "frequency_final": 0.18419,
          "observed_growth_rate": 1.1948751216347715,
          "timepoint": "2028-10-01T00:00:00"
         },
         {
          "clade_membership": "root",
          "frequency": 1.0000010000000004,
          "frequency_final": 1.0000070000000003,
          "observed_growth_rate": 1.0000059999939999,
          "timepoint": "2028-10-01T00:00:00"
         },
         {
          "clade_membership": "00128ca",
          "frequency": 0.163582,
          "frequency_final": 0.083852,
          "observed_growth_rate": 0.5125991857294812,
          "timepoint": "2029-04-01T00:00:00"
         },
         {
          "clade_membership": "029c69d",
          "frequency": 1.0000039999999994,
          "frequency_final": 0.9999960000000009,
          "observed_growth_rate": 0.9999920000320013,
          "timepoint": "2029-04-01T00:00:00"
         },
         {
          "clade_membership": "0654693",
          "frequency": 1.0000039999999994,
          "frequency_final": 0.9999960000000009,
          "observed_growth_rate": 0.9999920000320013,
          "timepoint": "2029-04-01T00:00:00"
         },
         {
          "clade_membership": "0783f23",
          "frequency": 1.0000039999999994,
          "frequency_final": 0.9999960000000009,
          "observed_growth_rate": 0.9999920000320013,
          "timepoint": "2029-04-01T00:00:00"
         },
         {
          "clade_membership": "07bbfa9",
          "frequency": 0.204836,
          "frequency_final": 0.3275330000000001,
          "observed_growth_rate": 1.5990011521412255,
          "timepoint": "2029-04-01T00:00:00"
         },
         {
          "clade_membership": "0d82b51",
          "frequency": 1.0000039999999994,
          "frequency_final": 0.9999960000000009,
          "observed_growth_rate": 0.9999920000320013,
          "timepoint": "2029-04-01T00:00:00"
         },
         {
          "clade_membership": "0d8bb1e",
          "frequency": 1.0000039999999994,
          "frequency_final": 0.9999960000000009,
          "observed_growth_rate": 0.9999920000320013,
          "timepoint": "2029-04-01T00:00:00"
         },
         {
          "clade_membership": "1bce829",
          "frequency": 1.0000039999999994,
          "frequency_final": 0.9999960000000009,
          "observed_growth_rate": 0.9999920000320013,
          "timepoint": "2029-04-01T00:00:00"
         },
         {
          "clade_membership": "1f6665e",
          "frequency": 0.163582,
          "frequency_final": 0.083852,
          "observed_growth_rate": 0.5125991857294812,
          "timepoint": "2029-04-01T00:00:00"
         },
         {
          "clade_membership": "2018235",
          "frequency": 1.0000039999999994,
          "frequency_final": 0.9999960000000009,
          "observed_growth_rate": 0.9999920000320013,
          "timepoint": "2029-04-01T00:00:00"
         },
         {
          "clade_membership": "26d9681",
          "frequency": 0.8364219999999997,
          "frequency_final": 0.9161440000000005,
          "observed_growth_rate": 1.095313131409744,
          "timepoint": "2029-04-01T00:00:00"
         },
         {
          "clade_membership": "2850b07",
          "frequency": 0.8364219999999997,
          "frequency_final": 0.9161440000000005,
          "observed_growth_rate": 1.095313131409744,
          "timepoint": "2029-04-01T00:00:00"
         },
         {
          "clade_membership": "289c480",
          "frequency": 1.0000039999999994,
          "frequency_final": 0.9999960000000009,
          "observed_growth_rate": 0.9999920000320013,
          "timepoint": "2029-04-01T00:00:00"
         },
         {
          "clade_membership": "2edcf74",
          "frequency": 1.0000039999999994,
          "frequency_final": 0.9999960000000009,
          "observed_growth_rate": 0.9999920000320013,
          "timepoint": "2029-04-01T00:00:00"
         },
         {
          "clade_membership": "30c6c1b",
          "frequency": 1.0000039999999994,
          "frequency_final": 0.9999960000000009,
          "observed_growth_rate": 0.9999920000320013,
          "timepoint": "2029-04-01T00:00:00"
         },
         {
          "clade_membership": "37311eb",
          "frequency": 0.8364219999999997,
          "frequency_final": 0.9161440000000005,
          "observed_growth_rate": 1.095313131409744,
          "timepoint": "2029-04-01T00:00:00"
         },
         {
          "clade_membership": "3aad673",
          "frequency": 1.0000039999999994,
          "frequency_final": 0.9999960000000009,
          "observed_growth_rate": 0.9999920000320013,
          "timepoint": "2029-04-01T00:00:00"
         },
         {
          "clade_membership": "3ae4d43",
          "frequency": 0.163582,
          "frequency_final": 0.083852,
          "observed_growth_rate": 0.5125991857294812,
          "timepoint": "2029-04-01T00:00:00"
         },
         {
          "clade_membership": "3b07f48",
          "frequency": 0.8364219999999997,
          "frequency_final": 0.9161440000000005,
          "observed_growth_rate": 1.095313131409744,
          "timepoint": "2029-04-01T00:00:00"
         },
         {
          "clade_membership": "3f3f0ca",
          "frequency": 1.0000039999999994,
          "frequency_final": 0.9999960000000009,
          "observed_growth_rate": 0.9999920000320013,
          "timepoint": "2029-04-01T00:00:00"
         },
         {
          "clade_membership": "433fd0b",
          "frequency": 0.8364219999999997,
          "frequency_final": 0.9161440000000005,
          "observed_growth_rate": 1.095313131409744,
          "timepoint": "2029-04-01T00:00:00"
         },
         {
          "clade_membership": "4eae73a",
          "frequency": 1.0000039999999994,
          "frequency_final": 0.9999960000000009,
          "observed_growth_rate": 0.9999920000320013,
          "timepoint": "2029-04-01T00:00:00"
         },
         {
          "clade_membership": "53320bc",
          "frequency": 1.0000039999999994,
          "frequency_final": 0.9999960000000009,
          "observed_growth_rate": 0.9999920000320013,
          "timepoint": "2029-04-01T00:00:00"
         },
         {
          "clade_membership": "5370fbf",
          "frequency": 0.19425299999999998,
          "frequency_final": 0.12799299999999997,
          "observed_growth_rate": 0.6588984468708333,
          "timepoint": "2029-04-01T00:00:00"
         },
         {
          "clade_membership": "53d3851",
          "frequency": 1.0000039999999994,
          "frequency_final": 0.9999960000000009,
          "observed_growth_rate": 0.9999920000320013,
          "timepoint": "2029-04-01T00:00:00"
         },
         {
          "clade_membership": "57bbb79",
          "frequency": 1.0000039999999994,
          "frequency_final": 0.9999960000000009,
          "observed_growth_rate": 0.9999920000320013,
          "timepoint": "2029-04-01T00:00:00"
         },
         {
          "clade_membership": "5a8b5f6",
          "frequency": 1.0000039999999994,
          "frequency_final": 0.9999960000000009,
          "observed_growth_rate": 0.9999920000320013,
          "timepoint": "2029-04-01T00:00:00"
         },
         {
          "clade_membership": "5caef68",
          "frequency": 0.172623,
          "frequency_final": 0.183002,
          "observed_growth_rate": 1.0601252440288953,
          "timepoint": "2029-04-01T00:00:00"
         },
         {
          "clade_membership": "6270695",
          "frequency": 1.0000039999999994,
          "frequency_final": 0.9999960000000009,
          "observed_growth_rate": 0.9999920000320013,
          "timepoint": "2029-04-01T00:00:00"
         },
         {
          "clade_membership": "63fb9b5",
          "frequency": 1.0000039999999994,
          "frequency_final": 0.9999960000000009,
          "observed_growth_rate": 0.9999920000320013,
          "timepoint": "2029-04-01T00:00:00"
         },
         {
          "clade_membership": "670a3cd",
          "frequency": 1.0000039999999994,
          "frequency_final": 0.9999960000000009,
          "observed_growth_rate": 0.9999920000320013,
          "timepoint": "2029-04-01T00:00:00"
         },
         {
          "clade_membership": "6fabbb5",
          "frequency": 1.0000039999999994,
          "frequency_final": 0.9999960000000009,
          "observed_growth_rate": 0.9999920000320013,
          "timepoint": "2029-04-01T00:00:00"
         },
         {
          "clade_membership": "7556fb5",
          "frequency": 0.163582,
          "frequency_final": 0.083852,
          "observed_growth_rate": 0.5125991857294812,
          "timepoint": "2029-04-01T00:00:00"
         },
         {
          "clade_membership": "75a9110",
          "frequency": 0.8364219999999997,
          "frequency_final": 0.9161440000000005,
          "observed_growth_rate": 1.095313131409744,
          "timepoint": "2029-04-01T00:00:00"
         },
         {
          "clade_membership": "762e09c",
          "frequency": 0.8364219999999997,
          "frequency_final": 0.9161440000000005,
          "observed_growth_rate": 1.095313131409744,
          "timepoint": "2029-04-01T00:00:00"
         },
         {
          "clade_membership": "7a88259",
          "frequency": 1.0000039999999994,
          "frequency_final": 0.9999960000000009,
          "observed_growth_rate": 0.9999920000320013,
          "timepoint": "2029-04-01T00:00:00"
         },
         {
          "clade_membership": "7bea6f6",
          "frequency": 1.0000039999999994,
          "frequency_final": 0.9999960000000009,
          "observed_growth_rate": 0.9999920000320013,
          "timepoint": "2029-04-01T00:00:00"
         },
         {
          "clade_membership": "8126320",
          "frequency": 1.0000039999999994,
          "frequency_final": 0.9999960000000009,
          "observed_growth_rate": 0.9999920000320013,
          "timepoint": "2029-04-01T00:00:00"
         },
         {
          "clade_membership": "8544c1e",
          "frequency": 1.0000039999999994,
          "frequency_final": 0.9999960000000009,
          "observed_growth_rate": 0.9999920000320013,
          "timepoint": "2029-04-01T00:00:00"
         },
         {
          "clade_membership": "8727a54",
          "frequency": 1.0000039999999994,
          "frequency_final": 0.9999960000000009,
          "observed_growth_rate": 0.9999920000320013,
          "timepoint": "2029-04-01T00:00:00"
         },
         {
          "clade_membership": "a6348ef",
          "frequency": 0.163582,
          "frequency_final": 0.083852,
          "observed_growth_rate": 0.5125991857294812,
          "timepoint": "2029-04-01T00:00:00"
         },
         {
          "clade_membership": "ae8f3de",
          "frequency": 0.8364219999999997,
          "frequency_final": 0.9161440000000005,
          "observed_growth_rate": 1.095313131409744,
          "timepoint": "2029-04-01T00:00:00"
         },
         {
          "clade_membership": "b125362",
          "frequency": 1.0000039999999994,
          "frequency_final": 0.9999960000000009,
          "observed_growth_rate": 0.9999920000320013,
          "timepoint": "2029-04-01T00:00:00"
         },
         {
          "clade_membership": "b19fe11",
          "frequency": 0.8364219999999997,
          "frequency_final": 0.9161440000000005,
          "observed_growth_rate": 1.095313131409744,
          "timepoint": "2029-04-01T00:00:00"
         },
         {
          "clade_membership": "b414da5",
          "frequency": 0.163582,
          "frequency_final": 0.083852,
          "observed_growth_rate": 0.5125991857294812,
          "timepoint": "2029-04-01T00:00:00"
         },
         {
          "clade_membership": "b66b3e9",
          "frequency": 1.0000039999999994,
          "frequency_final": 0.9999960000000009,
          "observed_growth_rate": 0.9999920000320013,
          "timepoint": "2029-04-01T00:00:00"
         },
         {
          "clade_membership": "b771746",
          "frequency": 1.0000039999999994,
          "frequency_final": 0.9999960000000009,
          "observed_growth_rate": 0.9999920000320013,
          "timepoint": "2029-04-01T00:00:00"
         },
         {
          "clade_membership": "bae78d3",
          "frequency": 1.0000039999999994,
          "frequency_final": 0.9999960000000009,
          "observed_growth_rate": 0.9999920000320013,
          "timepoint": "2029-04-01T00:00:00"
         },
         {
          "clade_membership": "bd7776e",
          "frequency": 0.8364219999999997,
          "frequency_final": 0.9161440000000005,
          "observed_growth_rate": 1.095313131409744,
          "timepoint": "2029-04-01T00:00:00"
         },
         {
          "clade_membership": "c72df39",
          "frequency": 1.0000039999999994,
          "frequency_final": 0.9999960000000009,
          "observed_growth_rate": 0.9999920000320013,
          "timepoint": "2029-04-01T00:00:00"
         },
         {
          "clade_membership": "cbef932",
          "frequency": 1.0000039999999994,
          "frequency_final": 0.9999960000000009,
          "observed_growth_rate": 0.9999920000320013,
          "timepoint": "2029-04-01T00:00:00"
         },
         {
          "clade_membership": "d79daff",
          "frequency": 0.166025,
          "frequency_final": 0.183002,
          "observed_growth_rate": 1.1022556843848816,
          "timepoint": "2029-04-01T00:00:00"
         },
         {
          "clade_membership": "d991bc2",
          "frequency": 0.163582,
          "frequency_final": 0.083852,
          "observed_growth_rate": 0.5125991857294812,
          "timepoint": "2029-04-01T00:00:00"
         },
         {
          "clade_membership": "da37a22",
          "frequency": 1.0000039999999994,
          "frequency_final": 0.9999960000000009,
          "observed_growth_rate": 0.9999920000320013,
          "timepoint": "2029-04-01T00:00:00"
         },
         {
          "clade_membership": "db0c9b1",
          "frequency": 0.157598,
          "frequency_final": 0.10035399999999998,
          "observed_growth_rate": 0.6367720402543179,
          "timepoint": "2029-04-01T00:00:00"
         },
         {
          "clade_membership": "e4a2481",
          "frequency": 0.6091960000000002,
          "frequency_final": 0.588611,
          "observed_growth_rate": 0.9662095614547695,
          "timepoint": "2029-04-01T00:00:00"
         },
         {
          "clade_membership": "e626b38",
          "frequency": 0.163582,
          "frequency_final": 0.083852,
          "observed_growth_rate": 0.5125991857294812,
          "timepoint": "2029-04-01T00:00:00"
         },
         {
          "clade_membership": "e72bf28",
          "frequency": 1.0000039999999994,
          "frequency_final": 0.9999960000000009,
          "observed_growth_rate": 0.9999920000320013,
          "timepoint": "2029-04-01T00:00:00"
         },
         {
          "clade_membership": "eb2f804",
          "frequency": 1.0000039999999994,
          "frequency_final": 0.9999960000000009,
          "observed_growth_rate": 0.9999920000320013,
          "timepoint": "2029-04-01T00:00:00"
         },
         {
          "clade_membership": "f24be4b",
          "frequency": 0.24135900000000002,
          "frequency_final": 0.10035399999999998,
          "observed_growth_rate": 0.41578727124325165,
          "timepoint": "2029-04-01T00:00:00"
         },
         {
          "clade_membership": "f263904",
          "frequency": 1.0000039999999994,
          "frequency_final": 0.9999960000000009,
          "observed_growth_rate": 0.9999920000320013,
          "timepoint": "2029-04-01T00:00:00"
         },
         {
          "clade_membership": "f657904",
          "frequency": 0.8364219999999997,
          "frequency_final": 0.9161440000000005,
          "observed_growth_rate": 1.095313131409744,
          "timepoint": "2029-04-01T00:00:00"
         },
         {
          "clade_membership": "f6d3aae",
          "frequency": 0.8364219999999997,
          "frequency_final": 0.9161440000000005,
          "observed_growth_rate": 1.095313131409744,
          "timepoint": "2029-04-01T00:00:00"
         },
         {
          "clade_membership": "f6d9b34",
          "frequency": 1.0000039999999994,
          "frequency_final": 0.9999960000000009,
          "observed_growth_rate": 0.9999920000320013,
          "timepoint": "2029-04-01T00:00:00"
         },
         {
          "clade_membership": "f9786f2",
          "frequency": 0.44893800000000017,
          "frequency_final": 0.228347,
          "observed_growth_rate": 0.5086381638444505,
          "timepoint": "2029-04-01T00:00:00"
         },
         {
          "clade_membership": "fa27c50",
          "frequency": 0.20757899999999999,
          "frequency_final": 0.12799299999999997,
          "observed_growth_rate": 0.6165989815925502,
          "timepoint": "2029-04-01T00:00:00"
         },
         {
          "clade_membership": "root",
          "frequency": 1.0000039999999994,
          "frequency_final": 0.9999960000000009,
          "observed_growth_rate": 0.9999920000320013,
          "timepoint": "2029-04-01T00:00:00"
         },
         {
          "clade_membership": "00128ca",
          "frequency": 0.16258799999999998,
          "frequency_final": 0.09144,
          "observed_growth_rate": 0.5624031293822422,
          "timepoint": "2029-10-01T00:00:00"
         },
         {
          "clade_membership": "029c69d",
          "frequency": 1.0000070000000003,
          "frequency_final": 0.9999940000000009,
          "observed_growth_rate": 0.999987000091,
          "timepoint": "2029-10-01T00:00:00"
         },
         {
          "clade_membership": "0654693",
          "frequency": 1.0000070000000003,
          "frequency_final": 0.9999940000000009,
          "observed_growth_rate": 0.999987000091,
          "timepoint": "2029-10-01T00:00:00"
         },
         {
          "clade_membership": "0783f23",
          "frequency": 1.0000070000000003,
          "frequency_final": 0.9999940000000009,
          "observed_growth_rate": 0.999987000091,
          "timepoint": "2029-10-01T00:00:00"
         },
         {
          "clade_membership": "07bbfa9",
          "frequency": 0.22951399999999994,
          "frequency_final": 0.4450050000000001,
          "observed_growth_rate": 1.9389013306377834,
          "timepoint": "2029-10-01T00:00:00"
         },
         {
          "clade_membership": "08c496d",
          "frequency": 0.197096,
          "frequency_final": 0.27135499999999996,
          "observed_growth_rate": 1.3767656370499652,
          "timepoint": "2029-10-01T00:00:00"
         },
         {
          "clade_membership": "0d82b51",
          "frequency": 1.0000070000000003,
          "frequency_final": 0.9999940000000009,
          "observed_growth_rate": 0.999987000091,
          "timepoint": "2029-10-01T00:00:00"
         },
         {
          "clade_membership": "0d8bb1e",
          "frequency": 1.0000070000000003,
          "frequency_final": 0.9999940000000009,
          "observed_growth_rate": 0.999987000091,
          "timepoint": "2029-10-01T00:00:00"
         },
         {
          "clade_membership": "110c28b",
          "frequency": 0.16152099999999997,
          "frequency_final": 0.09144,
          "observed_growth_rate": 0.5661183375536308,
          "timepoint": "2029-10-01T00:00:00"
         },
         {
          "clade_membership": "161c755",
          "frequency": 0.184063,
          "frequency_final": 0.143433,
          "observed_growth_rate": 0.7792603619412919,
          "timepoint": "2029-10-01T00:00:00"
         },
         {
          "clade_membership": "1bce829",
          "frequency": 1.0000070000000003,
          "frequency_final": 0.9999940000000009,
          "observed_growth_rate": 0.999987000091,
          "timepoint": "2029-10-01T00:00:00"
         },
         {
          "clade_membership": "1f6665e",
          "frequency": 0.16258799999999998,
          "frequency_final": 0.09144,
          "observed_growth_rate": 0.5624031293822422,
          "timepoint": "2029-10-01T00:00:00"
         },
         {
          "clade_membership": "2018235",
          "frequency": 1.0000070000000003,
          "frequency_final": 0.9999940000000009,
          "observed_growth_rate": 0.999987000091,
          "timepoint": "2029-10-01T00:00:00"
         },
         {
          "clade_membership": "213ddf4",
          "frequency": 0.16152099999999997,
          "frequency_final": 0.09144,
          "observed_growth_rate": 0.5661183375536308,
          "timepoint": "2029-10-01T00:00:00"
         },
         {
          "clade_membership": "26d9681",
          "frequency": 0.837419,
          "frequency_final": 0.9085540000000007,
          "observed_growth_rate": 1.0849455290601249,
          "timepoint": "2029-10-01T00:00:00"
         },
         {
          "clade_membership": "2850b07",
          "frequency": 0.837419,
          "frequency_final": 0.9085540000000007,
          "observed_growth_rate": 1.0849455290601249,
          "timepoint": "2029-10-01T00:00:00"
         },
         {
          "clade_membership": "289c480",
          "frequency": 1.0000070000000003,
          "frequency_final": 0.9999940000000009,
          "observed_growth_rate": 0.999987000091,
          "timepoint": "2029-10-01T00:00:00"
         },
         {
          "clade_membership": "2edcf74",
          "frequency": 1.0000070000000003,
          "frequency_final": 0.9999940000000009,
          "observed_growth_rate": 0.999987000091,
          "timepoint": "2029-10-01T00:00:00"
         },
         {
          "clade_membership": "30c6c1b",
          "frequency": 1.0000070000000003,
          "frequency_final": 0.9999940000000009,
          "observed_growth_rate": 0.999987000091,
          "timepoint": "2029-10-01T00:00:00"
         },
         {
          "clade_membership": "37311eb",
          "frequency": 0.837419,
          "frequency_final": 0.9085540000000007,
          "observed_growth_rate": 1.0849455290601249,
          "timepoint": "2029-10-01T00:00:00"
         },
         {
          "clade_membership": "39e6409",
          "frequency": 0.197096,
          "frequency_final": 0.27135499999999996,
          "observed_growth_rate": 1.3767656370499652,
          "timepoint": "2029-10-01T00:00:00"
         },
         {
          "clade_membership": "3aad673",
          "frequency": 1.0000070000000003,
          "frequency_final": 0.9999940000000009,
          "observed_growth_rate": 0.999987000091,
          "timepoint": "2029-10-01T00:00:00"
         },
         {
          "clade_membership": "3ae4d43",
          "frequency": 0.16258799999999998,
          "frequency_final": 0.09144,
          "observed_growth_rate": 0.5624031293822422,
          "timepoint": "2029-10-01T00:00:00"
         },
         {
          "clade_membership": "3b07f48",
          "frequency": 0.837419,
          "frequency_final": 0.9085540000000007,
          "observed_growth_rate": 1.0849455290601249,
          "timepoint": "2029-10-01T00:00:00"
         },
         {
          "clade_membership": "3d9a418",
          "frequency": 0.175064,
          "frequency_final": 0.065925,
          "observed_growth_rate": 0.3765765662843303,
          "timepoint": "2029-10-01T00:00:00"
         },
         {
          "clade_membership": "3f3f0ca",
          "frequency": 1.0000070000000003,
          "frequency_final": 0.9999940000000009,
          "observed_growth_rate": 0.999987000091,
          "timepoint": "2029-10-01T00:00:00"
         },
         {
          "clade_membership": "41e2191",
          "frequency": 0.197096,
          "frequency_final": 0.27135499999999996,
          "observed_growth_rate": 1.3767656370499652,
          "timepoint": "2029-10-01T00:00:00"
         },
         {
          "clade_membership": "433fd0b",
          "frequency": 0.837419,
          "frequency_final": 0.9085540000000007,
          "observed_growth_rate": 1.0849455290601249,
          "timepoint": "2029-10-01T00:00:00"
         },
         {
          "clade_membership": "4eae73a",
          "frequency": 1.0000070000000003,
          "frequency_final": 0.9999940000000009,
          "observed_growth_rate": 0.999987000091,
          "timepoint": "2029-10-01T00:00:00"
         },
         {
          "clade_membership": "53320bc",
          "frequency": 1.0000070000000003,
          "frequency_final": 0.9999940000000009,
          "observed_growth_rate": 0.999987000091,
          "timepoint": "2029-10-01T00:00:00"
         },
         {
          "clade_membership": "5370fbf",
          "frequency": 0.18419,
          "frequency_final": 0.143433,
          "observed_growth_rate": 0.7787230577121451,
          "timepoint": "2029-10-01T00:00:00"
         },
         {
          "clade_membership": "53d3851",
          "frequency": 1.0000070000000003,
          "frequency_final": 0.9999940000000009,
          "observed_growth_rate": 0.999987000091,
          "timepoint": "2029-10-01T00:00:00"
         },
         {
          "clade_membership": "5430567",
          "frequency": 0.16152099999999997,
          "frequency_final": 0.09144,
          "observed_growth_rate": 0.5661183375536308,
          "timepoint": "2029-10-01T00:00:00"
         },
         {
          "clade_membership": "54abfe7",
          "frequency": 0.16152099999999997,
          "frequency_final": 0.09144,
          "observed_growth_rate": 0.5661183375536308,
          "timepoint": "2029-10-01T00:00:00"
         },
         {
          "clade_membership": "57bbb79",
          "frequency": 1.0000070000000003,
          "frequency_final": 0.9999940000000009,
          "observed_growth_rate": 0.999987000091,
          "timepoint": "2029-10-01T00:00:00"
         },
         {
          "clade_membership": "5a8b5f6",
          "frequency": 1.0000070000000003,
          "frequency_final": 0.9999940000000009,
          "observed_growth_rate": 0.999987000091,
          "timepoint": "2029-10-01T00:00:00"
         },
         {
          "clade_membership": "6270695",
          "frequency": 1.0000070000000003,
          "frequency_final": 0.9999940000000009,
          "observed_growth_rate": 0.999987000091,
          "timepoint": "2029-10-01T00:00:00"
         },
         {
          "clade_membership": "63fb9b5",
          "frequency": 1.0000070000000003,
          "frequency_final": 0.9999940000000009,
          "observed_growth_rate": 0.999987000091,
          "timepoint": "2029-10-01T00:00:00"
         },
         {
          "clade_membership": "670a3cd",
          "frequency": 1.0000070000000003,
          "frequency_final": 0.9999940000000009,
          "observed_growth_rate": 0.999987000091,
          "timepoint": "2029-10-01T00:00:00"
         },
         {
          "clade_membership": "6b065b6",
          "frequency": 0.16152099999999997,
          "frequency_final": 0.09144,
          "observed_growth_rate": 0.5661183375536308,
          "timepoint": "2029-10-01T00:00:00"
         },
         {
          "clade_membership": "6fabbb5",
          "frequency": 1.0000070000000003,
          "frequency_final": 0.9999940000000009,
          "observed_growth_rate": 0.999987000091,
          "timepoint": "2029-10-01T00:00:00"
         },
         {
          "clade_membership": "7556fb5",
          "frequency": 0.16258799999999998,
          "frequency_final": 0.09144,
          "observed_growth_rate": 0.5624031293822422,
          "timepoint": "2029-10-01T00:00:00"
         },
         {
          "clade_membership": "75a9110",
          "frequency": 0.837419,
          "frequency_final": 0.9085540000000007,
          "observed_growth_rate": 1.0849455290601249,
          "timepoint": "2029-10-01T00:00:00"
         },
         {
          "clade_membership": "762e09c",
          "frequency": 0.837419,
          "frequency_final": 0.9085540000000007,
          "observed_growth_rate": 1.0849455290601249,
          "timepoint": "2029-10-01T00:00:00"
         },
         {
          "clade_membership": "76fb9bf",
          "frequency": 0.197096,
          "frequency_final": 0.27135499999999996,
          "observed_growth_rate": 1.3767656370499652,
          "timepoint": "2029-10-01T00:00:00"
         },
         {
          "clade_membership": "7a88259",
          "frequency": 1.0000070000000003,
          "frequency_final": 0.9999940000000009,
          "observed_growth_rate": 0.999987000091,
          "timepoint": "2029-10-01T00:00:00"
         },
         {
          "clade_membership": "7bea6f6",
          "frequency": 1.0000070000000003,
          "frequency_final": 0.9999940000000009,
          "observed_growth_rate": 0.999987000091,
          "timepoint": "2029-10-01T00:00:00"
         },
         {
          "clade_membership": "8126320",
          "frequency": 1.0000070000000003,
          "frequency_final": 0.9999940000000009,
          "observed_growth_rate": 0.999987000091,
          "timepoint": "2029-10-01T00:00:00"
         },
         {
          "clade_membership": "8544c1e",
          "frequency": 1.0000070000000003,
          "frequency_final": 0.9999940000000009,
          "observed_growth_rate": 0.999987000091,
          "timepoint": "2029-10-01T00:00:00"
         },
         {
          "clade_membership": "8727a54",
          "frequency": 1.0000070000000003,
          "frequency_final": 0.9999940000000009,
          "observed_growth_rate": 0.999987000091,
          "timepoint": "2029-10-01T00:00:00"
         },
         {
          "clade_membership": "a6348ef",
          "frequency": 0.16258799999999998,
          "frequency_final": 0.09144,
          "observed_growth_rate": 0.5624031293822422,
          "timepoint": "2029-10-01T00:00:00"
         },
         {
          "clade_membership": "aab2d9f",
          "frequency": 0.16152099999999997,
          "frequency_final": 0.09144,
          "observed_growth_rate": 0.5661183375536308,
          "timepoint": "2029-10-01T00:00:00"
         },
         {
          "clade_membership": "ae8f3de",
          "frequency": 0.837419,
          "frequency_final": 0.9085540000000007,
          "observed_growth_rate": 1.0849455290601249,
          "timepoint": "2029-10-01T00:00:00"
         },
         {
          "clade_membership": "aec773c",
          "frequency": 0.15405799999999994,
          "frequency_final": 0.048761000000000006,
          "observed_growth_rate": 0.31651066481455054,
          "timepoint": "2029-10-01T00:00:00"
         },
         {
          "clade_membership": "b125362",
          "frequency": 1.0000070000000003,
          "frequency_final": 0.9999940000000009,
          "observed_growth_rate": 0.999987000091,
          "timepoint": "2029-10-01T00:00:00"
         },
         {
          "clade_membership": "b19fe11",
          "frequency": 0.837419,
          "frequency_final": 0.9085540000000007,
          "observed_growth_rate": 1.0849455290601249,
          "timepoint": "2029-10-01T00:00:00"
         },
         {
          "clade_membership": "b414da5",
          "frequency": 0.16258799999999998,
          "frequency_final": 0.09144,
          "observed_growth_rate": 0.5624031293822422,
          "timepoint": "2029-10-01T00:00:00"
         },
         {
          "clade_membership": "b66b3e9",
          "frequency": 1.0000070000000003,
          "frequency_final": 0.9999940000000009,
          "observed_growth_rate": 0.999987000091,
          "timepoint": "2029-10-01T00:00:00"
         },
         {
          "clade_membership": "b771746",
          "frequency": 1.0000070000000003,
          "frequency_final": 0.9999940000000009,
          "observed_growth_rate": 0.999987000091,
          "timepoint": "2029-10-01T00:00:00"
         },
         {
          "clade_membership": "bae78d3",
          "frequency": 1.0000070000000003,
          "frequency_final": 0.9999940000000009,
          "observed_growth_rate": 0.999987000091,
          "timepoint": "2029-10-01T00:00:00"
         },
         {
          "clade_membership": "bd7776e",
          "frequency": 0.837419,
          "frequency_final": 0.9085540000000007,
          "observed_growth_rate": 1.0849455290601249,
          "timepoint": "2029-10-01T00:00:00"
         },
         {
          "clade_membership": "c72df39",
          "frequency": 1.0000070000000003,
          "frequency_final": 0.9999940000000009,
          "observed_growth_rate": 0.999987000091,
          "timepoint": "2029-10-01T00:00:00"
         },
         {
          "clade_membership": "cbef932",
          "frequency": 1.0000070000000003,
          "frequency_final": 0.9999940000000009,
          "observed_growth_rate": 0.999987000091,
          "timepoint": "2029-10-01T00:00:00"
         },
         {
          "clade_membership": "d991bc2",
          "frequency": 0.16258799999999998,
          "frequency_final": 0.09144,
          "observed_growth_rate": 0.5624031293822422,
          "timepoint": "2029-10-01T00:00:00"
         },
         {
          "clade_membership": "da37a22",
          "frequency": 1.0000070000000003,
          "frequency_final": 0.9999940000000009,
          "observed_growth_rate": 0.999987000091,
          "timepoint": "2029-10-01T00:00:00"
         },
         {
          "clade_membership": "db0c9b1",
          "frequency": 0.18555099999999997,
          "frequency_final": 0.048761000000000006,
          "observed_growth_rate": 0.2627902840728426,
          "timepoint": "2029-10-01T00:00:00"
         },
         {
          "clade_membership": "e4a2481",
          "frequency": 0.607905,
          "frequency_final": 0.4635489999999999,
          "observed_growth_rate": 0.7625352645561393,
          "timepoint": "2029-10-01T00:00:00"
         },
         {
          "clade_membership": "e626b38",
          "frequency": 0.16258799999999998,
          "frequency_final": 0.09144,
          "observed_growth_rate": 0.5624031293822422,
          "timepoint": "2029-10-01T00:00:00"
         },
         {
          "clade_membership": "e72bf28",
          "frequency": 1.0000070000000003,
          "frequency_final": 0.9999940000000009,
          "observed_growth_rate": 0.999987000091,
          "timepoint": "2029-10-01T00:00:00"
         },
         {
          "clade_membership": "eb2f804",
          "frequency": 1.0000070000000003,
          "frequency_final": 0.9999940000000009,
          "observed_growth_rate": 0.999987000091,
          "timepoint": "2029-10-01T00:00:00"
         },
         {
          "clade_membership": "f24be4b",
          "frequency": 0.21052599999999996,
          "frequency_final": 0.048761000000000006,
          "observed_growth_rate": 0.2316150974226462,
          "timepoint": "2029-10-01T00:00:00"
         },
         {
          "clade_membership": "f263904",
          "frequency": 1.0000070000000003,
          "frequency_final": 0.9999940000000009,
          "observed_growth_rate": 0.999987000091,
          "timepoint": "2029-10-01T00:00:00"
         },
         {
          "clade_membership": "f657904",
          "frequency": 0.837419,
          "frequency_final": 0.9085540000000007,
          "observed_growth_rate": 1.0849455290601249,
          "timepoint": "2029-10-01T00:00:00"
         },
         {
          "clade_membership": "f6d3aae",
          "frequency": 0.837419,
          "frequency_final": 0.9085540000000007,
          "observed_growth_rate": 1.0849455290601249,
          "timepoint": "2029-10-01T00:00:00"
         },
         {
          "clade_membership": "f6d9b34",
          "frequency": 1.0000070000000003,
          "frequency_final": 0.9999940000000009,
          "observed_growth_rate": 0.999987000091,
          "timepoint": "2029-10-01T00:00:00"
         },
         {
          "clade_membership": "f9786f2",
          "frequency": 0.3947159999999999,
          "frequency_final": 0.19219399999999998,
          "observed_growth_rate": 0.48691717589355393,
          "timepoint": "2029-10-01T00:00:00"
         },
         {
          "clade_membership": "fa27c50",
          "frequency": 0.18419,
          "frequency_final": 0.143433,
          "observed_growth_rate": 0.7787230577121451,
          "timepoint": "2029-10-01T00:00:00"
         },
         {
          "clade_membership": "faf10fb",
          "frequency": 0.16152099999999997,
          "frequency_final": 0.09144,
          "observed_growth_rate": 0.5661183375536308,
          "timepoint": "2029-10-01T00:00:00"
         },
         {
          "clade_membership": "ffd4afe",
          "frequency": 0.15905799999999998,
          "frequency_final": 0.09144,
          "observed_growth_rate": 0.5748846332784268,
          "timepoint": "2029-10-01T00:00:00"
         },
         {
          "clade_membership": "root",
          "frequency": 1.0000070000000003,
          "frequency_final": 0.9999940000000009,
          "observed_growth_rate": 0.999987000091,
          "timepoint": "2029-10-01T00:00:00"
         }
        ]
       },
       "encoding": {
        "x": {
         "bin": true,
         "field": "observed_growth_rate",
         "title": "Observed growth rate",
         "type": "quantitative"
        },
        "y": {
         "aggregate": "count",
         "type": "quantitative"
        }
       },
       "mark": "rect"
      },
      "image/png": "[encoded data removed]",
      "text/plain": [
       "<VegaLite 3 object>\n",
       "\n",
       "If you see this message, it means the renderer has not been properly enabled\n",
       "for the frontend that you are using. For more information, see\n",
       "https://altair-viz.github.io/user_guide/troubleshooting.html\n"
      ]
     },
     "execution_count": 82,
     "metadata": {},
     "output_type": "execute_result"
    }
   ],
   "source": [
    "alt.Chart(initial_and_observed_clade_frequencies).mark_rect().encode(\n",
    "    x=alt.X(\"observed_growth_rate:Q\", bin=True, title=\"Observed growth rate\"),\n",
    "    y=\"count()\"\n",
    ")"
   ]
  },
  {
   "cell_type": "markdown",
   "metadata": {},
   "source": [
    "## Find estimated future frequencies of large clades\n",
    "\n",
    "Use the LBI model as an example, first."
   ]
  },
  {
   "cell_type": "code",
   "execution_count": 87,
   "metadata": {},
   "outputs": [],
   "source": [
    "clade_tip_estimated_frequencies = tips_to_clades.merge(\n",
    "    forecasts,\n",
    "    how=\"left\",\n",
    "    left_on=[\"timepoint\", \"tip\"],\n",
    "    right_on=[\"timepoint\", \"strain\"]\n",
    ").drop(columns=[\"depth\", \"strain\", \"fitness\"])"
   ]
  },
  {
   "cell_type": "code",
   "execution_count": 89,
   "metadata": {},
   "outputs": [],
   "source": [
    "clade_tip_estimated_frequencies = clade_tip_estimated_frequencies.fillna(0.0).copy()"
   ]
  },
  {
   "cell_type": "code",
   "execution_count": 90,
   "metadata": {},
   "outputs": [
    {
     "data": {
      "text/html": [
       "<div>\n",
       "<style scoped>\n",
       "    .dataframe tbody tr th:only-of-type {\n",
       "        vertical-align: middle;\n",
       "    }\n",
       "\n",
       "    .dataframe tbody tr th {\n",
       "        vertical-align: top;\n",
       "    }\n",
       "\n",
       "    .dataframe thead th {\n",
       "        text-align: right;\n",
       "    }\n",
       "</style>\n",
       "<table border=\"1\" class=\"dataframe\">\n",
       "  <thead>\n",
       "    <tr style=\"text-align: right;\">\n",
       "      <th></th>\n",
       "      <th>tip</th>\n",
       "      <th>clade_membership</th>\n",
       "      <th>timepoint</th>\n",
       "      <th>frequency</th>\n",
       "      <th>projected_frequency</th>\n",
       "    </tr>\n",
       "  </thead>\n",
       "  <tbody>\n",
       "    <tr>\n",
       "      <th>0</th>\n",
       "      <td>sample_1016_4</td>\n",
       "      <td>6657900</td>\n",
       "      <td>2011-10-01</td>\n",
       "      <td>0.0</td>\n",
       "      <td>0.0</td>\n",
       "    </tr>\n",
       "    <tr>\n",
       "      <th>1</th>\n",
       "      <td>sample_1016_4</td>\n",
       "      <td>bf3c018</td>\n",
       "      <td>2011-10-01</td>\n",
       "      <td>0.0</td>\n",
       "      <td>0.0</td>\n",
       "    </tr>\n",
       "    <tr>\n",
       "      <th>2</th>\n",
       "      <td>sample_1016_4</td>\n",
       "      <td>root</td>\n",
       "      <td>2011-10-01</td>\n",
       "      <td>0.0</td>\n",
       "      <td>0.0</td>\n",
       "    </tr>\n",
       "    <tr>\n",
       "      <th>3</th>\n",
       "      <td>sample_1008_3</td>\n",
       "      <td>7a6369f</td>\n",
       "      <td>2011-10-01</td>\n",
       "      <td>0.0</td>\n",
       "      <td>0.0</td>\n",
       "    </tr>\n",
       "    <tr>\n",
       "      <th>4</th>\n",
       "      <td>sample_1008_3</td>\n",
       "      <td>bf3c018</td>\n",
       "      <td>2011-10-01</td>\n",
       "      <td>0.0</td>\n",
       "      <td>0.0</td>\n",
       "    </tr>\n",
       "  </tbody>\n",
       "</table>\n",
       "</div>"
      ],
      "text/plain": [
       "             tip clade_membership  timepoint  frequency  projected_frequency\n",
       "0  sample_1016_4          6657900 2011-10-01        0.0                  0.0\n",
       "1  sample_1016_4          bf3c018 2011-10-01        0.0                  0.0\n",
       "2  sample_1016_4             root 2011-10-01        0.0                  0.0\n",
       "3  sample_1008_3          7a6369f 2011-10-01        0.0                  0.0\n",
       "4  sample_1008_3          bf3c018 2011-10-01        0.0                  0.0"
      ]
     },
     "execution_count": 90,
     "metadata": {},
     "output_type": "execute_result"
    }
   ],
   "source": [
    "clade_tip_estimated_frequencies.head()"
   ]
  },
  {
   "cell_type": "code",
   "execution_count": 91,
   "metadata": {},
   "outputs": [],
   "source": [
    "estimated_clade_frequencies = clade_tip_estimated_frequencies.groupby(\n",
    "    [\"timepoint\", \"clade_membership\"]\n",
    ").aggregate({\"projected_frequency\": \"sum\", \"frequency\": \"sum\"}).reset_index()"
   ]
  },
  {
   "cell_type": "code",
   "execution_count": 92,
   "metadata": {},
   "outputs": [
    {
     "data": {
      "text/html": [
       "<div>\n",
       "<style scoped>\n",
       "    .dataframe tbody tr th:only-of-type {\n",
       "        vertical-align: middle;\n",
       "    }\n",
       "\n",
       "    .dataframe tbody tr th {\n",
       "        vertical-align: top;\n",
       "    }\n",
       "\n",
       "    .dataframe thead th {\n",
       "        text-align: right;\n",
       "    }\n",
       "</style>\n",
       "<table border=\"1\" class=\"dataframe\">\n",
       "  <thead>\n",
       "    <tr style=\"text-align: right;\">\n",
       "      <th></th>\n",
       "      <th>timepoint</th>\n",
       "      <th>clade_membership</th>\n",
       "      <th>projected_frequency</th>\n",
       "      <th>frequency</th>\n",
       "    </tr>\n",
       "  </thead>\n",
       "  <tbody>\n",
       "    <tr>\n",
       "      <th>0</th>\n",
       "      <td>2011-10-01</td>\n",
       "      <td>0119439</td>\n",
       "      <td>1.064236e-05</td>\n",
       "      <td>0.017521</td>\n",
       "    </tr>\n",
       "    <tr>\n",
       "      <th>1</th>\n",
       "      <td>2011-10-01</td>\n",
       "      <td>0157622</td>\n",
       "      <td>1.823116e-08</td>\n",
       "      <td>0.000103</td>\n",
       "    </tr>\n",
       "    <tr>\n",
       "      <th>2</th>\n",
       "      <td>2011-10-01</td>\n",
       "      <td>0262285</td>\n",
       "      <td>9.679643e-05</td>\n",
       "      <td>0.086695</td>\n",
       "    </tr>\n",
       "    <tr>\n",
       "      <th>3</th>\n",
       "      <td>2011-10-01</td>\n",
       "      <td>02ccb89</td>\n",
       "      <td>0.000000e+00</td>\n",
       "      <td>0.000000</td>\n",
       "    </tr>\n",
       "    <tr>\n",
       "      <th>4</th>\n",
       "      <td>2011-10-01</td>\n",
       "      <td>03a2d3a</td>\n",
       "      <td>5.052533e-05</td>\n",
       "      <td>0.014059</td>\n",
       "    </tr>\n",
       "  </tbody>\n",
       "</table>\n",
       "</div>"
      ],
      "text/plain": [
       "   timepoint clade_membership  projected_frequency  frequency\n",
       "0 2011-10-01          0119439         1.064236e-05   0.017521\n",
       "1 2011-10-01          0157622         1.823116e-08   0.000103\n",
       "2 2011-10-01          0262285         9.679643e-05   0.086695\n",
       "3 2011-10-01          02ccb89         0.000000e+00   0.000000\n",
       "4 2011-10-01          03a2d3a         5.052533e-05   0.014059"
      ]
     },
     "execution_count": 92,
     "metadata": {},
     "output_type": "execute_result"
    }
   ],
   "source": [
    "estimated_clade_frequencies.head()"
   ]
  },
  {
   "cell_type": "code",
   "execution_count": 93,
   "metadata": {},
   "outputs": [],
   "source": [
    "complete_clade_frequencies = initial_and_observed_clade_frequencies.merge(\n",
    "    estimated_clade_frequencies,\n",
    "    on=[\"timepoint\", \"clade_membership\"],\n",
    "    suffixes=[\"\", \"_other\"]\n",
    ")"
   ]
  },
  {
   "cell_type": "code",
   "execution_count": 94,
   "metadata": {},
   "outputs": [],
   "source": [
    "complete_clade_frequencies[\"estimated_growth_rate\"] = (\n",
    "    complete_clade_frequencies[\"projected_frequency\"] / complete_clade_frequencies[\"frequency\"]\n",
    ")"
   ]
  },
  {
   "cell_type": "code",
   "execution_count": 95,
   "metadata": {},
   "outputs": [],
   "source": [
    "complete_clade_frequencies[\"year\"] = complete_clade_frequencies[\"timepoint\"].dt.year"
   ]
  },
  {
   "cell_type": "code",
   "execution_count": 96,
   "metadata": {},
   "outputs": [
    {
     "data": {
      "text/html": [
       "<div>\n",
       "<style scoped>\n",
       "    .dataframe tbody tr th:only-of-type {\n",
       "        vertical-align: middle;\n",
       "    }\n",
       "\n",
       "    .dataframe tbody tr th {\n",
       "        vertical-align: top;\n",
       "    }\n",
       "\n",
       "    .dataframe thead th {\n",
       "        text-align: right;\n",
       "    }\n",
       "</style>\n",
       "<table border=\"1\" class=\"dataframe\">\n",
       "  <thead>\n",
       "    <tr style=\"text-align: right;\">\n",
       "      <th></th>\n",
       "      <th>timepoint</th>\n",
       "      <th>clade_membership</th>\n",
       "      <th>frequency</th>\n",
       "      <th>frequency_final</th>\n",
       "      <th>observed_growth_rate</th>\n",
       "      <th>projected_frequency</th>\n",
       "      <th>frequency_other</th>\n",
       "      <th>estimated_growth_rate</th>\n",
       "      <th>year</th>\n",
       "    </tr>\n",
       "  </thead>\n",
       "  <tbody>\n",
       "    <tr>\n",
       "      <th>0</th>\n",
       "      <td>2018-10-01</td>\n",
       "      <td>0690f07</td>\n",
       "      <td>0.196406</td>\n",
       "      <td>0.178282</td>\n",
       "      <td>0.907722</td>\n",
       "      <td>0.002961</td>\n",
       "      <td>0.196406</td>\n",
       "      <td>0.015077</td>\n",
       "      <td>2018</td>\n",
       "    </tr>\n",
       "    <tr>\n",
       "      <th>1</th>\n",
       "      <td>2018-10-01</td>\n",
       "      <td>0783f23</td>\n",
       "      <td>0.999989</td>\n",
       "      <td>0.999998</td>\n",
       "      <td>1.000009</td>\n",
       "      <td>1.000000</td>\n",
       "      <td>0.999989</td>\n",
       "      <td>1.000011</td>\n",
       "      <td>2018</td>\n",
       "    </tr>\n",
       "    <tr>\n",
       "      <th>2</th>\n",
       "      <td>2018-10-01</td>\n",
       "      <td>0d82b51</td>\n",
       "      <td>0.999989</td>\n",
       "      <td>0.999998</td>\n",
       "      <td>1.000009</td>\n",
       "      <td>1.000000</td>\n",
       "      <td>0.999989</td>\n",
       "      <td>1.000011</td>\n",
       "      <td>2018</td>\n",
       "    </tr>\n",
       "    <tr>\n",
       "      <th>3</th>\n",
       "      <td>2018-10-01</td>\n",
       "      <td>0d8bb1e</td>\n",
       "      <td>0.963750</td>\n",
       "      <td>0.999998</td>\n",
       "      <td>1.037611</td>\n",
       "      <td>0.999985</td>\n",
       "      <td>0.963750</td>\n",
       "      <td>1.037598</td>\n",
       "      <td>2018</td>\n",
       "    </tr>\n",
       "    <tr>\n",
       "      <th>4</th>\n",
       "      <td>2018-10-01</td>\n",
       "      <td>1bce829</td>\n",
       "      <td>0.963750</td>\n",
       "      <td>0.999998</td>\n",
       "      <td>1.037611</td>\n",
       "      <td>0.999985</td>\n",
       "      <td>0.963750</td>\n",
       "      <td>1.037598</td>\n",
       "      <td>2018</td>\n",
       "    </tr>\n",
       "  </tbody>\n",
       "</table>\n",
       "</div>"
      ],
      "text/plain": [
       "   timepoint clade_membership  frequency  frequency_final  \\\n",
       "0 2018-10-01          0690f07   0.196406         0.178282   \n",
       "1 2018-10-01          0783f23   0.999989         0.999998   \n",
       "2 2018-10-01          0d82b51   0.999989         0.999998   \n",
       "3 2018-10-01          0d8bb1e   0.963750         0.999998   \n",
       "4 2018-10-01          1bce829   0.963750         0.999998   \n",
       "\n",
       "   observed_growth_rate  projected_frequency  frequency_other  \\\n",
       "0              0.907722             0.002961         0.196406   \n",
       "1              1.000009             1.000000         0.999989   \n",
       "2              1.000009             1.000000         0.999989   \n",
       "3              1.037611             0.999985         0.963750   \n",
       "4              1.037611             0.999985         0.963750   \n",
       "\n",
       "   estimated_growth_rate  year  \n",
       "0               0.015077  2018  \n",
       "1               1.000011  2018  \n",
       "2               1.000011  2018  \n",
       "3               1.037598  2018  \n",
       "4               1.037598  2018  "
      ]
     },
     "execution_count": 96,
     "metadata": {},
     "output_type": "execute_result"
    }
   ],
   "source": [
    "complete_clade_frequencies.head()"
   ]
  },
  {
   "cell_type": "code",
   "execution_count": 97,
   "metadata": {},
   "outputs": [
    {
     "data": {
      "text/plain": [
       "(1112, 9)"
      ]
     },
     "execution_count": 97,
     "metadata": {},
     "output_type": "execute_result"
    }
   ],
   "source": [
    "complete_clade_frequencies.shape"
   ]
  },
  {
   "cell_type": "code",
   "execution_count": 98,
   "metadata": {},
   "outputs": [],
   "source": [
    "min_growth_rate = 0\n",
    "max_growth_rate = complete_clade_frequencies.loc[:, [\"observed_growth_rate\", \"estimated_growth_rate\"]].max().max() + 0.2"
   ]
  },
  {
   "cell_type": "code",
   "execution_count": 99,
   "metadata": {},
   "outputs": [],
   "source": [
    "r, p = pearsonr(\n",
    "    complete_clade_frequencies[\"observed_growth_rate\"],\n",
    "    complete_clade_frequencies[\"estimated_growth_rate\"]\n",
    ")"
   ]
  },
  {
   "cell_type": "code",
   "execution_count": 100,
   "metadata": {},
   "outputs": [
    {
     "data": {
      "text/plain": [
       "0.4868804295375968"
      ]
     },
     "execution_count": 100,
     "metadata": {},
     "output_type": "execute_result"
    }
   ],
   "source": [
    "r"
   ]
  },
  {
   "cell_type": "code",
   "execution_count": 101,
   "metadata": {},
   "outputs": [],
   "source": [
    "mcc, confusion_matrix = get_matthews_correlation_coefficient_for_data_frame(complete_clade_frequencies, True)"
   ]
  },
  {
   "cell_type": "code",
   "execution_count": 102,
   "metadata": {},
   "outputs": [
    {
     "data": {
      "text/plain": [
       "0.5776491649034684"
      ]
     },
     "execution_count": 102,
     "metadata": {},
     "output_type": "execute_result"
    }
   ],
   "source": [
    "mcc"
   ]
  },
  {
   "cell_type": "code",
   "execution_count": 103,
   "metadata": {},
   "outputs": [
    {
     "data": {
      "text/plain": [
       "{'tp': 445, 'tn': 432, 'fp': 126, 'fn': 109}"
      ]
     },
     "execution_count": 103,
     "metadata": {},
     "output_type": "execute_result"
    }
   ],
   "source": [
    "confusion_matrix"
   ]
  },
  {
   "cell_type": "code",
   "execution_count": 104,
   "metadata": {},
   "outputs": [
    {
     "data": {
      "text/plain": [
       "0.7793345008756567"
      ]
     },
     "execution_count": 104,
     "metadata": {},
     "output_type": "execute_result"
    }
   ],
   "source": [
    "confusion_matrix[\"tp\"] / float(confusion_matrix[\"tp\"] + confusion_matrix[\"fp\"])"
   ]
  },
  {
   "cell_type": "code",
   "execution_count": 105,
   "metadata": {},
   "outputs": [
    {
     "data": {
      "text/plain": [
       "0.7985212569316081"
      ]
     },
     "execution_count": 105,
     "metadata": {},
     "output_type": "execute_result"
    }
   ],
   "source": [
    "confusion_matrix[\"tn\"] / float(confusion_matrix[\"tn\"] + confusion_matrix[\"fn\"])"
   ]
  },
  {
   "cell_type": "code",
   "execution_count": 108,
   "metadata": {},
   "outputs": [
    {
     "data": {
      "application/vnd.vegalite.v3+json": {
       "$schema": "https://vega.github.io/schema/vega-lite/v3.3.0.json",
       "config": {
        "mark": {
         "tooltip": null
        },
        "view": {
         "height": 300,
         "width": 400
        }
       },
       "data": {
        "name": "data-a3c07d40047b1abba69c9411380dc3dd"
       },
       "datasets": {
        "data-a3c07d40047b1abba69c9411380dc3dd": [
         {
          "clade_membership": "0690f07",
          "estimated_growth_rate": 0.015077324330342564,
          "frequency": 0.196406,
          "frequency_final": 0.178282,
          "frequency_other": 0.196406,
          "observed_growth_rate": 0.9077217600276977,
          "projected_frequency": 0.0029612769624252615,
          "timepoint": "2018-10-01T00:00:00",
          "year": 2018
         },
         {
          "clade_membership": "0783f23",
          "estimated_growth_rate": 1.000011000121,
          "frequency": 0.9999890000000012,
          "frequency_final": 0.9999979999999999,
          "frequency_other": 0.9999890000000012,
          "observed_growth_rate": 1.0000090000989998,
          "projected_frequency": 1,
          "timepoint": "2018-10-01T00:00:00",
          "year": 2018
         },
         {
          "clade_membership": "0d82b51",
          "estimated_growth_rate": 1.000011000121,
          "frequency": 0.9999890000000012,
          "frequency_final": 0.9999979999999999,
          "frequency_other": 0.9999890000000012,
          "observed_growth_rate": 1.0000090000989998,
          "projected_frequency": 1,
          "timepoint": "2018-10-01T00:00:00",
          "year": 2018
         },
         {
          "clade_membership": "0d8bb1e",
          "estimated_growth_rate": 1.0375982261630987,
          "frequency": 0.9637500000000011,
          "frequency_final": 0.9999979999999999,
          "frequency_other": 0.9637500000000011,
          "observed_growth_rate": 1.0376114137483774,
          "projected_frequency": 0.9999852904646874,
          "timepoint": "2018-10-01T00:00:00",
          "year": 2018
         },
         {
          "clade_membership": "1bce829",
          "estimated_growth_rate": 1.0375982261630987,
          "frequency": 0.9637500000000011,
          "frequency_final": 0.9999979999999999,
          "frequency_other": 0.9637500000000011,
          "observed_growth_rate": 1.0376114137483774,
          "projected_frequency": 0.9999852904646874,
          "timepoint": "2018-10-01T00:00:00",
          "year": 2018
         },
         {
          "clade_membership": "2018235",
          "estimated_growth_rate": 1.000011000121,
          "frequency": 0.9999890000000012,
          "frequency_final": 0.9999979999999999,
          "frequency_other": 0.9999890000000012,
          "observed_growth_rate": 1.0000090000989998,
          "projected_frequency": 1,
          "timepoint": "2018-10-01T00:00:00",
          "year": 2018
         },
         {
          "clade_membership": "217cef5",
          "estimated_growth_rate": 0.01318588199546713,
          "frequency": 0.225253,
          "frequency_final": 0.23857699999999998,
          "frequency_other": 0.225253,
          "observed_growth_rate": 1.0591512654659425,
          "projected_frequency": 0.0029701594771249576,
          "timepoint": "2018-10-01T00:00:00",
          "year": 2018
         },
         {
          "clade_membership": "289c480",
          "estimated_growth_rate": 1.0375982261630987,
          "frequency": 0.9637500000000011,
          "frequency_final": 0.9999979999999999,
          "frequency_other": 0.9637500000000011,
          "observed_growth_rate": 1.0376114137483774,
          "projected_frequency": 0.9999852904646874,
          "timepoint": "2018-10-01T00:00:00",
          "year": 2018
         },
         {
          "clade_membership": "2edcf74",
          "estimated_growth_rate": 4.075896952042633,
          "frequency": 0.241635,
          "frequency_final": 0.46305700000000005,
          "frequency_other": 0.241635,
          "observed_growth_rate": 1.9163490388395723,
          "projected_frequency": 0.9848793600068216,
          "timepoint": "2018-10-01T00:00:00",
          "year": 2018
         },
         {
          "clade_membership": "30c6c1b",
          "estimated_growth_rate": 1.000011000121,
          "frequency": 0.9999890000000012,
          "frequency_final": 0.9999979999999999,
          "frequency_other": 0.9999890000000012,
          "observed_growth_rate": 1.0000090000989998,
          "projected_frequency": 1,
          "timepoint": "2018-10-01T00:00:00",
          "year": 2018
         },
         {
          "clade_membership": "342bee6",
          "estimated_growth_rate": 0.01940460079312372,
          "frequency": 0.401433,
          "frequency_final": 0.28557200000000005,
          "frequency_other": 0.401433,
          "observed_growth_rate": 0.7113814758627219,
          "projected_frequency": 0.007789647110186034,
          "timepoint": "2018-10-01T00:00:00",
          "year": 2018
         },
         {
          "clade_membership": "3aad673",
          "estimated_growth_rate": 1.000011000121,
          "frequency": 0.9999890000000012,
          "frequency_final": 0.9999979999999999,
          "frequency_other": 0.9999890000000012,
          "observed_growth_rate": 1.0000090000989998,
          "projected_frequency": 1,
          "timepoint": "2018-10-01T00:00:00",
          "year": 2018
         },
         {
          "clade_membership": "3f3f0ca",
          "estimated_growth_rate": 1.000011000121,
          "frequency": 0.9999890000000012,
          "frequency_final": 0.9999979999999999,
          "frequency_other": 0.9999890000000012,
          "observed_growth_rate": 1.0000090000989998,
          "projected_frequency": 1,
          "timepoint": "2018-10-01T00:00:00",
          "year": 2018
         },
         {
          "clade_membership": "53320bc",
          "estimated_growth_rate": 1.000011000121,
          "frequency": 0.9999890000000012,
          "frequency_final": 0.9999979999999999,
          "frequency_other": 0.9999890000000012,
          "observed_growth_rate": 1.0000090000989998,
          "projected_frequency": 1,
          "timepoint": "2018-10-01T00:00:00",
          "year": 2018
         },
         {
          "clade_membership": "6270695",
          "estimated_growth_rate": 1.0375982261630987,
          "frequency": 0.9637500000000011,
          "frequency_final": 0.9999979999999999,
          "frequency_other": 0.9637500000000011,
          "observed_growth_rate": 1.0376114137483774,
          "projected_frequency": 0.9999852904646874,
          "timepoint": "2018-10-01T00:00:00",
          "year": 2018
         },
         {
          "clade_membership": "63fb9b5",
          "estimated_growth_rate": 3.6492423202954765,
          "frequency": 0.26988799999999996,
          "frequency_final": 0.4758490000000001,
          "frequency_other": 0.26988799999999996,
          "observed_growth_rate": 1.763135078254684,
          "projected_frequency": 0.9848867113399055,
          "timepoint": "2018-10-01T00:00:00",
          "year": 2018
         },
         {
          "clade_membership": "670a3cd",
          "estimated_growth_rate": 3.499163903214534,
          "frequency": 0.2814649999999999,
          "frequency_final": 0.4758490000000001,
          "frequency_other": 0.2814649999999999,
          "observed_growth_rate": 1.6906151741779625,
          "projected_frequency": 0.9848921680182785,
          "timepoint": "2018-10-01T00:00:00",
          "year": 2018
         },
         {
          "clade_membership": "670b070",
          "estimated_growth_rate": 0.01318588199546713,
          "frequency": 0.225253,
          "frequency_final": 0.23857699999999998,
          "frequency_other": 0.225253,
          "observed_growth_rate": 1.0591512654659425,
          "projected_frequency": 0.0029701594771249576,
          "timepoint": "2018-10-01T00:00:00",
          "year": 2018
         },
         {
          "clade_membership": "6db3c1a",
          "estimated_growth_rate": 6.258238206955566,
          "frequency": 0.15735600000000002,
          "frequency_final": 0.115267,
          "frequency_other": 0.15735600000000002,
          "observed_growth_rate": 0.7325237042121049,
          "projected_frequency": 0.9847713312937002,
          "timepoint": "2018-10-01T00:00:00",
          "year": 2018
         },
         {
          "clade_membership": "6fabbb5",
          "estimated_growth_rate": 1.000011000121,
          "frequency": 0.9999890000000012,
          "frequency_final": 0.9999979999999999,
          "frequency_other": 0.9999890000000012,
          "observed_growth_rate": 1.0000090000989998,
          "projected_frequency": 1,
          "timepoint": "2018-10-01T00:00:00",
          "year": 2018
         },
         {
          "clade_membership": "7a88259",
          "estimated_growth_rate": 1.000011000121,
          "frequency": 0.9999890000000012,
          "frequency_final": 0.9999979999999999,
          "frequency_other": 0.9999890000000012,
          "observed_growth_rate": 1.0000090000989998,
          "projected_frequency": 1,
          "timepoint": "2018-10-01T00:00:00",
          "year": 2018
         },
         {
          "clade_membership": "8544c1e",
          "estimated_growth_rate": 4.075896952042633,
          "frequency": 0.241635,
          "frequency_final": 0.46305700000000005,
          "frequency_other": 0.241635,
          "observed_growth_rate": 1.9163490388395723,
          "projected_frequency": 0.9848793600068216,
          "timepoint": "2018-10-01T00:00:00",
          "year": 2018
         },
         {
          "clade_membership": "8727a54",
          "estimated_growth_rate": 1.000011000121,
          "frequency": 0.9999890000000012,
          "frequency_final": 0.9999979999999999,
          "frequency_other": 0.9999890000000012,
          "observed_growth_rate": 1.0000090000989998,
          "projected_frequency": 1,
          "timepoint": "2018-10-01T00:00:00",
          "year": 2018
         },
         {
          "clade_membership": "aac4331",
          "estimated_growth_rate": 0.01318588199546713,
          "frequency": 0.225253,
          "frequency_final": 0.23857699999999998,
          "frequency_other": 0.225253,
          "observed_growth_rate": 1.0591512654659425,
          "projected_frequency": 0.0029701594771249576,
          "timepoint": "2018-10-01T00:00:00",
          "year": 2018
         },
         {
          "clade_membership": "b5b60f5",
          "estimated_growth_rate": 0.02350117904395132,
          "frequency": 0.29389000000000004,
          "frequency_final": 0.23969700000000005,
          "frequency_other": 0.29389000000000004,
          "observed_growth_rate": 0.8156010752322298,
          "projected_frequency": 0.006906761509226854,
          "timepoint": "2018-10-01T00:00:00",
          "year": 2018
         },
         {
          "clade_membership": "bae78d3",
          "estimated_growth_rate": 1.000011000121,
          "frequency": 0.9999890000000012,
          "frequency_final": 0.9999979999999999,
          "frequency_other": 0.9999890000000012,
          "observed_growth_rate": 1.0000090000989998,
          "projected_frequency": 1,
          "timepoint": "2018-10-01T00:00:00",
          "year": 2018
         },
         {
          "clade_membership": "bfd1faf",
          "estimated_growth_rate": 0.01318588199546713,
          "frequency": 0.225253,
          "frequency_final": 0.23857699999999998,
          "frequency_other": 0.225253,
          "observed_growth_rate": 1.0591512654659425,
          "projected_frequency": 0.0029701594771249576,
          "timepoint": "2018-10-01T00:00:00",
          "year": 2018
         },
         {
          "clade_membership": "c72df39",
          "estimated_growth_rate": 1.000011000121,
          "frequency": 0.9999890000000012,
          "frequency_final": 0.9999979999999999,
          "frequency_other": 0.9999890000000012,
          "observed_growth_rate": 1.0000090000989998,
          "projected_frequency": 1,
          "timepoint": "2018-10-01T00:00:00",
          "year": 2018
         },
         {
          "clade_membership": "cbef932",
          "estimated_growth_rate": 1.000011000121,
          "frequency": 0.9999890000000012,
          "frequency_final": 0.9999979999999999,
          "frequency_other": 0.9999890000000012,
          "observed_growth_rate": 1.0000090000989998,
          "projected_frequency": 1,
          "timepoint": "2018-10-01T00:00:00",
          "year": 2018
         },
         {
          "clade_membership": "da37a22",
          "estimated_growth_rate": 1.000011000121,
          "frequency": 0.9999890000000012,
          "frequency_final": 0.9999979999999999,
          "frequency_other": 0.9999890000000012,
          "observed_growth_rate": 1.0000090000989998,
          "projected_frequency": 1,
          "timepoint": "2018-10-01T00:00:00",
          "year": 2018
         },
         {
          "clade_membership": "e72bf28",
          "estimated_growth_rate": 1.000011000121,
          "frequency": 0.9999890000000012,
          "frequency_final": 0.9999979999999999,
          "frequency_other": 0.9999890000000012,
          "observed_growth_rate": 1.0000090000989998,
          "projected_frequency": 1,
          "timepoint": "2018-10-01T00:00:00",
          "year": 2018
         },
         {
          "clade_membership": "eb2f804",
          "estimated_growth_rate": 1.000011000121,
          "frequency": 0.9999890000000012,
          "frequency_final": 0.9999979999999999,
          "frequency_other": 0.9999890000000012,
          "observed_growth_rate": 1.0000090000989998,
          "projected_frequency": 1,
          "timepoint": "2018-10-01T00:00:00",
          "year": 2018
         },
         {
          "clade_membership": "f759002",
          "estimated_growth_rate": 0.02350117904395132,
          "frequency": 0.29389000000000004,
          "frequency_final": 0.23969700000000005,
          "frequency_other": 0.29389000000000004,
          "observed_growth_rate": 0.8156010752322298,
          "projected_frequency": 0.006906761509226854,
          "timepoint": "2018-10-01T00:00:00",
          "year": 2018
         },
         {
          "clade_membership": "root",
          "estimated_growth_rate": 1.000011000121,
          "frequency": 0.9999890000000012,
          "frequency_final": 0.9999979999999999,
          "frequency_other": 0.9999890000000012,
          "observed_growth_rate": 1.0000090000989998,
          "projected_frequency": 1,
          "timepoint": "2018-10-01T00:00:00",
          "year": 2018
         },
         {
          "clade_membership": "0783f23",
          "estimated_growth_rate": 1.000009000081001,
          "frequency": 0.9999910000000003,
          "frequency_final": 0.9999939999999998,
          "frequency_other": 0.9999910000000003,
          "observed_growth_rate": 1.0000030000269997,
          "projected_frequency": 1.0000000000000004,
          "timepoint": "2019-04-01T00:00:00",
          "year": 2019
         },
         {
          "clade_membership": "0d82b51",
          "estimated_growth_rate": 1.000009000081001,
          "frequency": 0.9999910000000003,
          "frequency_final": 0.9999939999999998,
          "frequency_other": 0.9999910000000003,
          "observed_growth_rate": 1.0000030000269997,
          "projected_frequency": 1.0000000000000004,
          "timepoint": "2019-04-01T00:00:00",
          "year": 2019
         },
         {
          "clade_membership": "0d8bb1e",
          "estimated_growth_rate": 1.000009000081001,
          "frequency": 0.9999910000000003,
          "frequency_final": 0.9999939999999998,
          "frequency_other": 0.9999910000000003,
          "observed_growth_rate": 1.0000030000269997,
          "projected_frequency": 1.0000000000000004,
          "timepoint": "2019-04-01T00:00:00",
          "year": 2019
         },
         {
          "clade_membership": "1bce829",
          "estimated_growth_rate": 1.000009000081001,
          "frequency": 0.9999910000000003,
          "frequency_final": 0.9999939999999998,
          "frequency_other": 0.9999910000000003,
          "observed_growth_rate": 1.0000030000269997,
          "projected_frequency": 1.0000000000000004,
          "timepoint": "2019-04-01T00:00:00",
          "year": 2019
         },
         {
          "clade_membership": "2018235",
          "estimated_growth_rate": 1.000009000081001,
          "frequency": 0.9999910000000003,
          "frequency_final": 0.9999939999999998,
          "frequency_other": 0.9999910000000003,
          "observed_growth_rate": 1.0000030000269997,
          "projected_frequency": 1.0000000000000004,
          "timepoint": "2019-04-01T00:00:00",
          "year": 2019
         },
         {
          "clade_membership": "289c480",
          "estimated_growth_rate": 1.000009000081001,
          "frequency": 0.9999910000000003,
          "frequency_final": 0.9999939999999998,
          "frequency_other": 0.9999910000000003,
          "observed_growth_rate": 1.0000030000269997,
          "projected_frequency": 1.0000000000000004,
          "timepoint": "2019-04-01T00:00:00",
          "year": 2019
         },
         {
          "clade_membership": "2edcf74",
          "estimated_growth_rate": 0.016906154948545953,
          "frequency": 0.31263900000000006,
          "frequency_final": 0.4934280000000001,
          "frequency_other": 0.31263900000000006,
          "observed_growth_rate": 1.5782675865774904,
          "projected_frequency": 0.005285523376958459,
          "timepoint": "2019-04-01T00:00:00",
          "year": 2019
         },
         {
          "clade_membership": "30c6c1b",
          "estimated_growth_rate": 1.000009000081001,
          "frequency": 0.9999910000000003,
          "frequency_final": 0.9999939999999998,
          "frequency_other": 0.9999910000000003,
          "observed_growth_rate": 1.0000030000269997,
          "projected_frequency": 1.0000000000000004,
          "timepoint": "2019-04-01T00:00:00",
          "year": 2019
         },
         {
          "clade_membership": "342bee6",
          "estimated_growth_rate": 1.9196792004716308,
          "frequency": 0.5180590000000002,
          "frequency_final": 0.230707,
          "frequency_other": 0.5180590000000002,
          "observed_growth_rate": 0.44532958601240386,
          "projected_frequency": 0.9945070869171329,
          "timepoint": "2019-04-01T00:00:00",
          "year": 2019
         },
         {
          "clade_membership": "3aad673",
          "estimated_growth_rate": 1.000009000081001,
          "frequency": 0.9999910000000003,
          "frequency_final": 0.9999939999999998,
          "frequency_other": 0.9999910000000003,
          "observed_growth_rate": 1.0000030000269997,
          "projected_frequency": 1.0000000000000004,
          "timepoint": "2019-04-01T00:00:00",
          "year": 2019
         },
         {
          "clade_membership": "3f3f0ca",
          "estimated_growth_rate": 1.000009000081001,
          "frequency": 0.9999910000000003,
          "frequency_final": 0.9999939999999998,
          "frequency_other": 0.9999910000000003,
          "observed_growth_rate": 1.0000030000269997,
          "projected_frequency": 1.0000000000000004,
          "timepoint": "2019-04-01T00:00:00",
          "year": 2019
         },
         {
          "clade_membership": "53320bc",
          "estimated_growth_rate": 1.000009000081001,
          "frequency": 0.9999910000000003,
          "frequency_final": 0.9999939999999998,
          "frequency_other": 0.9999910000000003,
          "observed_growth_rate": 1.0000030000269997,
          "projected_frequency": 1.0000000000000004,
          "timepoint": "2019-04-01T00:00:00",
          "year": 2019
         },
         {
          "clade_membership": "595dd6c",
          "estimated_growth_rate": 0.09462404461317257,
          "frequency": 0.21249,
          "frequency_final": 0.10030799999999998,
          "frequency_other": 0.21249,
          "observed_growth_rate": 0.4720598616405477,
          "projected_frequency": 0.02010666323985304,
          "timepoint": "2019-04-01T00:00:00",
          "year": 2019
         },
         {
          "clade_membership": "6270695",
          "estimated_growth_rate": 1.000009000081001,
          "frequency": 0.9999910000000003,
          "frequency_final": 0.9999939999999998,
          "frequency_other": 0.9999910000000003,
          "observed_growth_rate": 1.0000030000269997,
          "projected_frequency": 1.0000000000000004,
          "timepoint": "2019-04-01T00:00:00",
          "year": 2019
         },
         {
          "clade_membership": "63fb9b5",
          "estimated_growth_rate": 0.014543964876445405,
          "frequency": 0.3653950000000002,
          "frequency_final": 0.4934280000000001,
          "frequency_other": 0.3653950000000002,
          "observed_growth_rate": 1.350396146635832,
          "projected_frequency": 0.005314292046028772,
          "timepoint": "2019-04-01T00:00:00",
          "year": 2019
         },
         {
          "clade_membership": "670a3cd",
          "estimated_growth_rate": 0.014543964876445405,
          "frequency": 0.3653950000000002,
          "frequency_final": 0.4934280000000001,
          "frequency_other": 0.3653950000000002,
          "observed_growth_rate": 1.350396146635832,
          "projected_frequency": 0.005314292046028772,
          "timepoint": "2019-04-01T00:00:00",
          "year": 2019
         },
         {
          "clade_membership": "6fabbb5",
          "estimated_growth_rate": 1.000009000081001,
          "frequency": 0.9999910000000003,
          "frequency_final": 0.9999939999999998,
          "frequency_other": 0.9999910000000003,
          "observed_growth_rate": 1.0000030000269997,
          "projected_frequency": 1.0000000000000004,
          "timepoint": "2019-04-01T00:00:00",
          "year": 2019
         },
         {
          "clade_membership": "76eb3fe",
          "estimated_growth_rate": 0.09462404461317257,
          "frequency": 0.21249,
          "frequency_final": 0.10030799999999998,
          "frequency_other": 0.21249,
          "observed_growth_rate": 0.4720598616405477,
          "projected_frequency": 0.02010666323985304,
          "timepoint": "2019-04-01T00:00:00",
          "year": 2019
         },
         {
          "clade_membership": "7a88259",
          "estimated_growth_rate": 1.000009000081001,
          "frequency": 0.9999910000000003,
          "frequency_final": 0.9999939999999998,
          "frequency_other": 0.9999910000000003,
          "observed_growth_rate": 1.0000030000269997,
          "projected_frequency": 1.0000000000000004,
          "timepoint": "2019-04-01T00:00:00",
          "year": 2019
         },
         {
          "clade_membership": "8544c1e",
          "estimated_growth_rate": 0.016906154948545953,
          "frequency": 0.31263900000000006,
          "frequency_final": 0.4934280000000001,
          "frequency_other": 0.31263900000000006,
          "observed_growth_rate": 1.5782675865774904,
          "projected_frequency": 0.005285523376958459,
          "timepoint": "2019-04-01T00:00:00",
          "year": 2019
         },
         {
          "clade_membership": "8727a54",
          "estimated_growth_rate": 1.000009000081001,
          "frequency": 0.9999910000000003,
          "frequency_final": 0.9999939999999998,
          "frequency_other": 0.9999910000000003,
          "observed_growth_rate": 1.0000030000269997,
          "projected_frequency": 1.0000000000000004,
          "timepoint": "2019-04-01T00:00:00",
          "year": 2019
         },
         {
          "clade_membership": "92f7c10",
          "estimated_growth_rate": 6.260332411229089,
          "frequency": 0.155586,
          "frequency_final": 0.019734,
          "frequency_other": 0.155586,
          "observed_growth_rate": 0.1268366048359107,
          "projected_frequency": 0.974020078533489,
          "timepoint": "2019-04-01T00:00:00",
          "year": 2019
         },
         {
          "clade_membership": "b5b60f5",
          "estimated_growth_rate": 2.460277600014841,
          "frequency": 0.4040800000000001,
          "frequency_final": 0.15345499999999998,
          "frequency_other": 0.4040800000000001,
          "observed_growth_rate": 0.37976390813700245,
          "projected_frequency": 0.9941489726139973,
          "timepoint": "2019-04-01T00:00:00",
          "year": 2019
         },
         {
          "clade_membership": "bae78d3",
          "estimated_growth_rate": 1.000009000081001,
          "frequency": 0.9999910000000003,
          "frequency_final": 0.9999939999999998,
          "frequency_other": 0.9999910000000003,
          "observed_growth_rate": 1.0000030000269997,
          "projected_frequency": 1.0000000000000004,
          "timepoint": "2019-04-01T00:00:00",
          "year": 2019
         },
         {
          "clade_membership": "c72df39",
          "estimated_growth_rate": 1.000009000081001,
          "frequency": 0.9999910000000003,
          "frequency_final": 0.9999939999999998,
          "frequency_other": 0.9999910000000003,
          "observed_growth_rate": 1.0000030000269997,
          "projected_frequency": 1.0000000000000004,
          "timepoint": "2019-04-01T00:00:00",
          "year": 2019
         },
         {
          "clade_membership": "cbef932",
          "estimated_growth_rate": 1.000009000081001,
          "frequency": 0.9999910000000003,
          "frequency_final": 0.9999939999999998,
          "frequency_other": 0.9999910000000003,
          "observed_growth_rate": 1.0000030000269997,
          "projected_frequency": 1.0000000000000004,
          "timepoint": "2019-04-01T00:00:00",
          "year": 2019
         },
         {
          "clade_membership": "da37a22",
          "estimated_growth_rate": 1.000009000081001,
          "frequency": 0.9999910000000003,
          "frequency_final": 0.9999939999999998,
          "frequency_other": 0.9999910000000003,
          "observed_growth_rate": 1.0000030000269997,
          "projected_frequency": 1.0000000000000004,
          "timepoint": "2019-04-01T00:00:00",
          "year": 2019
         },
         {
          "clade_membership": "e72bf28",
          "estimated_growth_rate": 1.000009000081001,
          "frequency": 0.9999910000000003,
          "frequency_final": 0.9999939999999998,
          "frequency_other": 0.9999910000000003,
          "observed_growth_rate": 1.0000030000269997,
          "projected_frequency": 1.0000000000000004,
          "timepoint": "2019-04-01T00:00:00",
          "year": 2019
         },
         {
          "clade_membership": "eb2f804",
          "estimated_growth_rate": 1.000009000081001,
          "frequency": 0.9999910000000003,
          "frequency_final": 0.9999939999999998,
          "frequency_other": 0.9999910000000003,
          "observed_growth_rate": 1.0000030000269997,
          "projected_frequency": 1.0000000000000004,
          "timepoint": "2019-04-01T00:00:00",
          "year": 2019
         },
         {
          "clade_membership": "f759002",
          "estimated_growth_rate": 2.460277600014841,
          "frequency": 0.4040800000000001,
          "frequency_final": 0.15345499999999998,
          "frequency_other": 0.4040800000000001,
          "observed_growth_rate": 0.37976390813700245,
          "projected_frequency": 0.9941489726139973,
          "timepoint": "2019-04-01T00:00:00",
          "year": 2019
         },
         {
          "clade_membership": "root",
          "estimated_growth_rate": 1.000009000081001,
          "frequency": 0.9999910000000003,
          "frequency_final": 0.9999939999999998,
          "frequency_other": 0.9999910000000003,
          "observed_growth_rate": 1.0000030000269997,
          "projected_frequency": 1.0000000000000004,
          "timepoint": "2019-04-01T00:00:00",
          "year": 2019
         },
         {
          "clade_membership": "0654693",
          "estimated_growth_rate": 0.08854917360441832,
          "frequency": 0.299918,
          "frequency_final": 0.31101700000000004,
          "frequency_other": 0.299918,
          "observed_growth_rate": 1.0370067818537068,
          "projected_frequency": 0.026557491049089936,
          "timepoint": "2019-10-01T00:00:00",
          "year": 2019
         },
         {
          "clade_membership": "0690f07",
          "estimated_growth_rate": 0.2882999518467171,
          "frequency": 0.178282,
          "frequency_final": 0.22280099999999997,
          "frequency_other": 0.178282,
          "observed_growth_rate": 1.2497111318024252,
          "projected_frequency": 0.051398692015136416,
          "timepoint": "2019-10-01T00:00:00",
          "year": 2019
         },
         {
          "clade_membership": "0783f23",
          "estimated_growth_rate": 1.0000020000040006,
          "frequency": 0.9999979999999999,
          "frequency_final": 0.9999980000000004,
          "frequency_other": 0.9999979999999999,
          "observed_growth_rate": 1.0000000000000004,
          "projected_frequency": 1.0000000000000007,
          "timepoint": "2019-10-01T00:00:00",
          "year": 2019
         },
         {
          "clade_membership": "0d82b51",
          "estimated_growth_rate": 1.0000020000040006,
          "frequency": 0.9999979999999999,
          "frequency_final": 0.9999980000000004,
          "frequency_other": 0.9999979999999999,
          "observed_growth_rate": 1.0000000000000004,
          "projected_frequency": 1.0000000000000007,
          "timepoint": "2019-10-01T00:00:00",
          "year": 2019
         },
         {
          "clade_membership": "0d8bb1e",
          "estimated_growth_rate": 1.0000020000040006,
          "frequency": 0.9999979999999999,
          "frequency_final": 0.9999980000000004,
          "frequency_other": 0.9999979999999999,
          "observed_growth_rate": 1.0000000000000004,
          "projected_frequency": 1.0000000000000007,
          "timepoint": "2019-10-01T00:00:00",
          "year": 2019
         },
         {
          "clade_membership": "1bce829",
          "estimated_growth_rate": 1.0000020000040006,
          "frequency": 0.9999979999999999,
          "frequency_final": 0.9999980000000004,
          "frequency_other": 0.9999979999999999,
          "observed_growth_rate": 1.0000000000000004,
          "projected_frequency": 1.0000000000000007,
          "timepoint": "2019-10-01T00:00:00",
          "year": 2019
         },
         {
          "clade_membership": "2018235",
          "estimated_growth_rate": 1.0000020000040006,
          "frequency": 0.9999979999999999,
          "frequency_final": 0.9999980000000004,
          "frequency_other": 0.9999979999999999,
          "observed_growth_rate": 1.0000000000000004,
          "projected_frequency": 1.0000000000000007,
          "timepoint": "2019-10-01T00:00:00",
          "year": 2019
         },
         {
          "clade_membership": "217cef5",
          "estimated_growth_rate": 0.2616207382387651,
          "frequency": 0.23857699999999998,
          "frequency_final": 0.4263360000000001,
          "frequency_other": 0.23857699999999998,
          "observed_growth_rate": 1.7869953935207508,
          "projected_frequency": 0.06241669086678986,
          "timepoint": "2019-10-01T00:00:00",
          "year": 2019
         },
         {
          "clade_membership": "289c480",
          "estimated_growth_rate": 1.0000020000040006,
          "frequency": 0.9999979999999999,
          "frequency_final": 0.9999980000000004,
          "frequency_other": 0.9999979999999999,
          "observed_growth_rate": 1.0000000000000004,
          "projected_frequency": 1.0000000000000007,
          "timepoint": "2019-10-01T00:00:00",
          "year": 2019
         },
         {
          "clade_membership": "2edcf74",
          "estimated_growth_rate": 1.0526993967243667,
          "frequency": 0.46305700000000005,
          "frequency_final": 0.4173420000000001,
          "frequency_other": 0.46305700000000005,
          "observed_growth_rate": 0.9012756528893853,
          "projected_frequency": 0.48745982454899517,
          "timepoint": "2019-10-01T00:00:00",
          "year": 2019
         },
         {
          "clade_membership": "30c6c1b",
          "estimated_growth_rate": 1.0000020000040006,
          "frequency": 0.9999979999999999,
          "frequency_final": 0.9999980000000004,
          "frequency_other": 0.9999979999999999,
          "observed_growth_rate": 1.0000000000000004,
          "projected_frequency": 1.0000000000000007,
          "timepoint": "2019-10-01T00:00:00",
          "year": 2019
         },
         {
          "clade_membership": "342bee6",
          "estimated_growth_rate": 1.5757598431761104,
          "frequency": 0.28557200000000005,
          "frequency_final": 0.15632000000000001,
          "frequency_other": 0.28557200000000005,
          "observed_growth_rate": 0.5473926015155547,
          "projected_frequency": 0.4499928899354883,
          "timepoint": "2019-10-01T00:00:00",
          "year": 2019
         },
         {
          "clade_membership": "3aad673",
          "estimated_growth_rate": 1.0000020000040006,
          "frequency": 0.9999979999999999,
          "frequency_final": 0.9999980000000004,
          "frequency_other": 0.9999979999999999,
          "observed_growth_rate": 1.0000000000000004,
          "projected_frequency": 1.0000000000000007,
          "timepoint": "2019-10-01T00:00:00",
          "year": 2019
         },
         {
          "clade_membership": "3f3f0ca",
          "estimated_growth_rate": 1.0000020000040006,
          "frequency": 0.9999979999999999,
          "frequency_final": 0.9999980000000004,
          "frequency_other": 0.9999979999999999,
          "observed_growth_rate": 1.0000000000000004,
          "projected_frequency": 1.0000000000000007,
          "timepoint": "2019-10-01T00:00:00",
          "year": 2019
         },
         {
          "clade_membership": "53320bc",
          "estimated_growth_rate": 1.0000020000040006,
          "frequency": 0.9999979999999999,
          "frequency_final": 0.9999980000000004,
          "frequency_other": 0.9999979999999999,
          "observed_growth_rate": 1.0000000000000004,
          "projected_frequency": 1.0000000000000007,
          "timepoint": "2019-10-01T00:00:00",
          "year": 2019
         },
         {
          "clade_membership": "53d3851",
          "estimated_growth_rate": 0.09603220984475798,
          "frequency": 0.27314399999999994,
          "frequency_final": 0.31101700000000004,
          "frequency_other": 0.27314399999999994,
          "observed_growth_rate": 1.1386558006033451,
          "projected_frequency": 0.02623062192583657,
          "timepoint": "2019-10-01T00:00:00",
          "year": 2019
         },
         {
          "clade_membership": "6270695",
          "estimated_growth_rate": 1.0000020000040006,
          "frequency": 0.9999979999999999,
          "frequency_final": 0.9999980000000004,
          "frequency_other": 0.9999979999999999,
          "observed_growth_rate": 1.0000000000000004,
          "projected_frequency": 1.0000000000000007,
          "timepoint": "2019-10-01T00:00:00",
          "year": 2019
         },
         {
          "clade_membership": "63fb9b5",
          "estimated_growth_rate": 1.0246746745243172,
          "frequency": 0.4758490000000001,
          "frequency_final": 0.4173420000000001,
          "frequency_other": 0.4758490000000001,
          "observed_growth_rate": 0.8770471304972797,
          "projected_frequency": 0.4875904191977219,
          "timepoint": "2019-10-01T00:00:00",
          "year": 2019
         },
         {
          "clade_membership": "670a3cd",
          "estimated_growth_rate": 1.0246746745243172,
          "frequency": 0.4758490000000001,
          "frequency_final": 0.4173420000000001,
          "frequency_other": 0.4758490000000001,
          "observed_growth_rate": 0.8770471304972797,
          "projected_frequency": 0.4875904191977219,
          "timepoint": "2019-10-01T00:00:00",
          "year": 2019
         },
         {
          "clade_membership": "670b070",
          "estimated_growth_rate": 0.2616207382387651,
          "frequency": 0.23857699999999998,
          "frequency_final": 0.4263360000000001,
          "frequency_other": 0.23857699999999998,
          "observed_growth_rate": 1.7869953935207508,
          "projected_frequency": 0.06241669086678986,
          "timepoint": "2019-10-01T00:00:00",
          "year": 2019
         },
         {
          "clade_membership": "6fabbb5",
          "estimated_growth_rate": 1.0000020000040006,
          "frequency": 0.9999979999999999,
          "frequency_final": 0.9999980000000004,
          "frequency_other": 0.9999979999999999,
          "observed_growth_rate": 1.0000000000000004,
          "projected_frequency": 1.0000000000000007,
          "timepoint": "2019-10-01T00:00:00",
          "year": 2019
         },
         {
          "clade_membership": "7a88259",
          "estimated_growth_rate": 1.0000020000040006,
          "frequency": 0.9999979999999999,
          "frequency_final": 0.9999980000000004,
          "frequency_other": 0.9999979999999999,
          "observed_growth_rate": 1.0000000000000004,
          "projected_frequency": 1.0000000000000007,
          "timepoint": "2019-10-01T00:00:00",
          "year": 2019
         },
         {
          "clade_membership": "8126320",
          "estimated_growth_rate": 0.09062467297368945,
          "frequency": 0.290836,
          "frequency_final": 0.31101700000000004,
          "frequency_other": 0.290836,
          "observed_growth_rate": 1.069389621642438,
          "projected_frequency": 0.026356917388975942,
          "timepoint": "2019-10-01T00:00:00",
          "year": 2019
         },
         {
          "clade_membership": "8544c1e",
          "estimated_growth_rate": 1.0526993967243667,
          "frequency": 0.46305700000000005,
          "frequency_final": 0.4173420000000001,
          "frequency_other": 0.46305700000000005,
          "observed_growth_rate": 0.9012756528893853,
          "projected_frequency": 0.48745982454899517,
          "timepoint": "2019-10-01T00:00:00",
          "year": 2019
         },
         {
          "clade_membership": "8727a54",
          "estimated_growth_rate": 1.0000020000040006,
          "frequency": 0.9999979999999999,
          "frequency_final": 0.9999980000000004,
          "frequency_other": 0.9999979999999999,
          "observed_growth_rate": 1.0000000000000004,
          "projected_frequency": 1.0000000000000007,
          "timepoint": "2019-10-01T00:00:00",
          "year": 2019
         },
         {
          "clade_membership": "aac4331",
          "estimated_growth_rate": 0.2616207382387651,
          "frequency": 0.23857699999999998,
          "frequency_final": 0.4263360000000001,
          "frequency_other": 0.23857699999999998,
          "observed_growth_rate": 1.7869953935207508,
          "projected_frequency": 0.06241669086678986,
          "timepoint": "2019-10-01T00:00:00",
          "year": 2019
         },
         {
          "clade_membership": "b5b60f5",
          "estimated_growth_rate": 0.7617101907958701,
          "frequency": 0.23969700000000005,
          "frequency_final": 0.137892,
          "frequency_other": 0.23969700000000005,
          "observed_growth_rate": 0.5752762863114681,
          "projected_frequency": 0.18257964760319773,
          "timepoint": "2019-10-01T00:00:00",
          "year": 2019
         },
         {
          "clade_membership": "bae78d3",
          "estimated_growth_rate": 1.0000020000040006,
          "frequency": 0.9999979999999999,
          "frequency_final": 0.9999980000000004,
          "frequency_other": 0.9999979999999999,
          "observed_growth_rate": 1.0000000000000004,
          "projected_frequency": 1.0000000000000007,
          "timepoint": "2019-10-01T00:00:00",
          "year": 2019
         },
         {
          "clade_membership": "bfd1faf",
          "estimated_growth_rate": 0.2616207382387651,
          "frequency": 0.23857699999999998,
          "frequency_final": 0.4263360000000001,
          "frequency_other": 0.23857699999999998,
          "observed_growth_rate": 1.7869953935207508,
          "projected_frequency": 0.06241669086678986,
          "timepoint": "2019-10-01T00:00:00",
          "year": 2019
         },
         {
          "clade_membership": "c72df39",
          "estimated_growth_rate": 1.0000020000040006,
          "frequency": 0.9999979999999999,
          "frequency_final": 0.9999980000000004,
          "frequency_other": 0.9999979999999999,
          "observed_growth_rate": 1.0000000000000004,
          "projected_frequency": 1.0000000000000007,
          "timepoint": "2019-10-01T00:00:00",
          "year": 2019
         },
         {
          "clade_membership": "cbef932",
          "estimated_growth_rate": 1.0000020000040006,
          "frequency": 0.9999979999999999,
          "frequency_final": 0.9999980000000004,
          "frequency_other": 0.9999979999999999,
          "observed_growth_rate": 1.0000000000000004,
          "projected_frequency": 1.0000000000000007,
          "timepoint": "2019-10-01T00:00:00",
          "year": 2019
         },
         {
          "clade_membership": "da37a22",
          "estimated_growth_rate": 1.0000020000040006,
          "frequency": 0.9999979999999999,
          "frequency_final": 0.9999980000000004,
          "frequency_other": 0.9999979999999999,
          "observed_growth_rate": 1.0000000000000004,
          "projected_frequency": 1.0000000000000007,
          "timepoint": "2019-10-01T00:00:00",
          "year": 2019
         },
         {
          "clade_membership": "e72bf28",
          "estimated_growth_rate": 1.0000020000040006,
          "frequency": 0.9999979999999999,
          "frequency_final": 0.9999980000000004,
          "frequency_other": 0.9999979999999999,
          "observed_growth_rate": 1.0000000000000004,
          "projected_frequency": 1.0000000000000007,
          "timepoint": "2019-10-01T00:00:00",
          "year": 2019
         },
         {
          "clade_membership": "eb2f804",
          "estimated_growth_rate": 1.0000020000040006,
          "frequency": 0.9999979999999999,
          "frequency_final": 0.9999980000000004,
          "frequency_other": 0.9999979999999999,
          "observed_growth_rate": 1.0000000000000004,
          "projected_frequency": 1.0000000000000007,
          "timepoint": "2019-10-01T00:00:00",
          "year": 2019
         },
         {
          "clade_membership": "f759002",
          "estimated_growth_rate": 0.7617101907958701,
          "frequency": 0.23969700000000005,
          "frequency_final": 0.137892,
          "frequency_other": 0.23969700000000005,
          "observed_growth_rate": 0.5752762863114681,
          "projected_frequency": 0.18257964760319773,
          "timepoint": "2019-10-01T00:00:00",
          "year": 2019
         },
         {
          "clade_membership": "root",
          "estimated_growth_rate": 1.0000020000040006,
          "frequency": 0.9999979999999999,
          "frequency_final": 0.9999980000000004,
          "frequency_other": 0.9999979999999999,
          "observed_growth_rate": 1.0000000000000004,
          "projected_frequency": 1.0000000000000007,
          "timepoint": "2019-10-01T00:00:00",
          "year": 2019
         },
         {
          "clade_membership": "0654693",
          "estimated_growth_rate": 1.0032355458723226,
          "frequency": 0.34960100000000005,
          "frequency_final": 0.147874,
          "frequency_other": 0.34960100000000005,
          "observed_growth_rate": 0.4229793393039493,
          "projected_frequency": 0.3507321500725099,
          "timepoint": "2020-04-01T00:00:00",
          "year": 2020
         },
         {
          "clade_membership": "0690f07",
          "estimated_growth_rate": 0.4556394999799508,
          "frequency": 0.166867,
          "frequency_final": 0.17538,
          "frequency_other": 0.166867,
          "observed_growth_rate": 1.0510166779531005,
          "projected_frequency": 0.07603119644315444,
          "timepoint": "2020-04-01T00:00:00",
          "year": 2020
         },
         {
          "clade_membership": "0783f23",
          "estimated_growth_rate": 1.0000060000360003,
          "frequency": 0.9999939999999998,
          "frequency_final": 0.9999949999999997,
          "frequency_other": 0.9999939999999998,
          "observed_growth_rate": 1.000001000006,
          "projected_frequency": 0.9999999999999999,
          "timepoint": "2020-04-01T00:00:00",
          "year": 2020
         },
         {
          "clade_membership": "0d82b51",
          "estimated_growth_rate": 1.0000060000360003,
          "frequency": 0.9999939999999998,
          "frequency_final": 0.9999949999999997,
          "frequency_other": 0.9999939999999998,
          "observed_growth_rate": 1.000001000006,
          "projected_frequency": 0.9999999999999999,
          "timepoint": "2020-04-01T00:00:00",
          "year": 2020
         },
         {
          "clade_membership": "0d8bb1e",
          "estimated_growth_rate": 1.0000060000360003,
          "frequency": 0.9999939999999998,
          "frequency_final": 0.9999949999999997,
          "frequency_other": 0.9999939999999998,
          "observed_growth_rate": 1.000001000006,
          "projected_frequency": 0.9999999999999999,
          "timepoint": "2020-04-01T00:00:00",
          "year": 2020
         },
         {
          "clade_membership": "1bce829",
          "estimated_growth_rate": 1.0000060000360003,
          "frequency": 0.9999939999999998,
          "frequency_final": 0.9999949999999997,
          "frequency_other": 0.9999939999999998,
          "observed_growth_rate": 1.000001000006,
          "projected_frequency": 0.9999999999999999,
          "timepoint": "2020-04-01T00:00:00",
          "year": 2020
         },
         {
          "clade_membership": "2018235",
          "estimated_growth_rate": 1.0000060000360003,
          "frequency": 0.9999939999999998,
          "frequency_final": 0.9999949999999997,
          "frequency_other": 0.9999939999999998,
          "observed_growth_rate": 1.000001000006,
          "projected_frequency": 0.9999999999999999,
          "timepoint": "2020-04-01T00:00:00",
          "year": 2020
         },
         {
          "clade_membership": "217cef5",
          "estimated_growth_rate": 2.287442989020697,
          "frequency": 0.27585899999999997,
          "frequency_final": 0.5283669999999999,
          "frequency_other": 0.27585899999999997,
          "observed_growth_rate": 1.9153516832874766,
          "projected_frequency": 0.6310117355082603,
          "timepoint": "2020-04-01T00:00:00",
          "year": 2020
         },
         {
          "clade_membership": "289c480",
          "estimated_growth_rate": 1.0000060000360003,
          "frequency": 0.9999939999999998,
          "frequency_final": 0.9999949999999997,
          "frequency_other": 0.9999939999999998,
          "observed_growth_rate": 1.000001000006,
          "projected_frequency": 0.9999999999999999,
          "timepoint": "2020-04-01T00:00:00",
          "year": 2020
         },
         {
          "clade_membership": "2edcf74",
          "estimated_growth_rate": 0.7206059572773742,
          "frequency": 0.4934280000000001,
          "frequency_final": 0.28061699999999995,
          "frequency_other": 0.4934280000000001,
          "observed_growth_rate": 0.5687091125756947,
          "projected_frequency": 0.3555671562874603,
          "timepoint": "2020-04-01T00:00:00",
          "year": 2020
         },
         {
          "clade_membership": "30c6c1b",
          "estimated_growth_rate": 1.0000060000360003,
          "frequency": 0.9999939999999998,
          "frequency_final": 0.9999949999999997,
          "frequency_other": 0.9999939999999998,
          "observed_growth_rate": 1.000001000006,
          "projected_frequency": 0.9999999999999999,
          "timepoint": "2020-04-01T00:00:00",
          "year": 2020
         },
         {
          "clade_membership": "342bee6",
          "estimated_growth_rate": 0.05817382309283809,
          "frequency": 0.230707,
          "frequency_final": 0.191011,
          "frequency_other": 0.230707,
          "observed_growth_rate": 0.8279376005062699,
          "projected_frequency": 0.013421108204279397,
          "timepoint": "2020-04-01T00:00:00",
          "year": 2020
         },
         {
          "clade_membership": "3aad673",
          "estimated_growth_rate": 1.0000060000360003,
          "frequency": 0.9999939999999998,
          "frequency_final": 0.9999949999999997,
          "frequency_other": 0.9999939999999998,
          "observed_growth_rate": 1.000001000006,
          "projected_frequency": 0.9999999999999999,
          "timepoint": "2020-04-01T00:00:00",
          "year": 2020
         },
         {
          "clade_membership": "3f3f0ca",
          "estimated_growth_rate": 1.0000060000360003,
          "frequency": 0.9999939999999998,
          "frequency_final": 0.9999949999999997,
          "frequency_other": 0.9999939999999998,
          "observed_growth_rate": 1.000001000006,
          "projected_frequency": 0.9999999999999999,
          "timepoint": "2020-04-01T00:00:00",
          "year": 2020
         },
         {
          "clade_membership": "53320bc",
          "estimated_growth_rate": 1.0000060000360003,
          "frequency": 0.9999939999999998,
          "frequency_final": 0.9999949999999997,
          "frequency_other": 0.9999939999999998,
          "observed_growth_rate": 1.000001000006,
          "projected_frequency": 0.9999999999999999,
          "timepoint": "2020-04-01T00:00:00",
          "year": 2020
         },
         {
          "clade_membership": "53d3851",
          "estimated_growth_rate": 1.0033876596336802,
          "frequency": 0.34954799999999997,
          "frequency_final": 0.147874,
          "frequency_other": 0.34954799999999997,
          "observed_growth_rate": 0.4230434732855002,
          "projected_frequency": 0.35073214964963356,
          "timepoint": "2020-04-01T00:00:00",
          "year": 2020
         },
         {
          "clade_membership": "6270695",
          "estimated_growth_rate": 1.0000060000360003,
          "frequency": 0.9999939999999998,
          "frequency_final": 0.9999949999999997,
          "frequency_other": 0.9999939999999998,
          "observed_growth_rate": 1.000001000006,
          "projected_frequency": 0.9999999999999999,
          "timepoint": "2020-04-01T00:00:00",
          "year": 2020
         },
         {
          "clade_membership": "63fb9b5",
          "estimated_growth_rate": 0.7206059572773742,
          "frequency": 0.4934280000000001,
          "frequency_final": 0.28061699999999995,
          "frequency_other": 0.4934280000000001,
          "observed_growth_rate": 0.5687091125756947,
          "projected_frequency": 0.3555671562874603,
          "timepoint": "2020-04-01T00:00:00",
          "year": 2020
         },
         {
          "clade_membership": "670a3cd",
          "estimated_growth_rate": 0.7206059572773742,
          "frequency": 0.4934280000000001,
          "frequency_final": 0.28061699999999995,
          "frequency_other": 0.4934280000000001,
          "observed_growth_rate": 0.5687091125756947,
          "projected_frequency": 0.3555671562874603,
          "timepoint": "2020-04-01T00:00:00",
          "year": 2020
         },
         {
          "clade_membership": "670b070",
          "estimated_growth_rate": 2.287442989020697,
          "frequency": 0.27585899999999997,
          "frequency_final": 0.5283669999999999,
          "frequency_other": 0.27585899999999997,
          "observed_growth_rate": 1.9153516832874766,
          "projected_frequency": 0.6310117355082603,
          "timepoint": "2020-04-01T00:00:00",
          "year": 2020
         },
         {
          "clade_membership": "6fabbb5",
          "estimated_growth_rate": 1.0000060000360003,
          "frequency": 0.9999939999999998,
          "frequency_final": 0.9999949999999997,
          "frequency_other": 0.9999939999999998,
          "observed_growth_rate": 1.000001000006,
          "projected_frequency": 0.9999999999999999,
          "timepoint": "2020-04-01T00:00:00",
          "year": 2020
         },
         {
          "clade_membership": "7a88259",
          "estimated_growth_rate": 1.0000060000360003,
          "frequency": 0.9999939999999998,
          "frequency_final": 0.9999949999999997,
          "frequency_other": 0.9999939999999998,
          "observed_growth_rate": 1.000001000006,
          "projected_frequency": 0.9999999999999999,
          "timepoint": "2020-04-01T00:00:00",
          "year": 2020
         },
         {
          "clade_membership": "8126320",
          "estimated_growth_rate": 1.0032355458723226,
          "frequency": 0.34960100000000005,
          "frequency_final": 0.147874,
          "frequency_other": 0.34960100000000005,
          "observed_growth_rate": 0.4229793393039493,
          "projected_frequency": 0.3507321500725099,
          "timepoint": "2020-04-01T00:00:00",
          "year": 2020
         },
         {
          "clade_membership": "8544c1e",
          "estimated_growth_rate": 0.7206059572773742,
          "frequency": 0.4934280000000001,
          "frequency_final": 0.28061699999999995,
          "frequency_other": 0.4934280000000001,
          "observed_growth_rate": 0.5687091125756947,
          "projected_frequency": 0.3555671562874603,
          "timepoint": "2020-04-01T00:00:00",
          "year": 2020
         },
         {
          "clade_membership": "8727a54",
          "estimated_growth_rate": 1.0000060000360003,
          "frequency": 0.9999939999999998,
          "frequency_final": 0.9999949999999997,
          "frequency_other": 0.9999939999999998,
          "observed_growth_rate": 1.000001000006,
          "projected_frequency": 0.9999999999999999,
          "timepoint": "2020-04-01T00:00:00",
          "year": 2020
         },
         {
          "clade_membership": "aac4331",
          "estimated_growth_rate": 2.287442989020697,
          "frequency": 0.27585899999999997,
          "frequency_final": 0.5283669999999999,
          "frequency_other": 0.27585899999999997,
          "observed_growth_rate": 1.9153516832874766,
          "projected_frequency": 0.6310117355082603,
          "timepoint": "2020-04-01T00:00:00",
          "year": 2020
         },
         {
          "clade_membership": "b5b60f5",
          "estimated_growth_rate": 0.05640801600633862,
          "frequency": 0.15345499999999998,
          "frequency_final": 0.14615299999999998,
          "frequency_other": 0.15345499999999998,
          "observed_growth_rate": 0.9524160177250659,
          "projected_frequency": 0.008656092096252692,
          "timepoint": "2020-04-01T00:00:00",
          "year": 2020
         },
         {
          "clade_membership": "bae78d3",
          "estimated_growth_rate": 1.0000060000360003,
          "frequency": 0.9999939999999998,
          "frequency_final": 0.9999949999999997,
          "frequency_other": 0.9999939999999998,
          "observed_growth_rate": 1.000001000006,
          "projected_frequency": 0.9999999999999999,
          "timepoint": "2020-04-01T00:00:00",
          "year": 2020
         },
         {
          "clade_membership": "bfd1faf",
          "estimated_growth_rate": 2.287442989020697,
          "frequency": 0.27585899999999997,
          "frequency_final": 0.5283669999999999,
          "frequency_other": 0.27585899999999997,
          "observed_growth_rate": 1.9153516832874766,
          "projected_frequency": 0.6310117355082603,
          "timepoint": "2020-04-01T00:00:00",
          "year": 2020
         },
         {
          "clade_membership": "c72df39",
          "estimated_growth_rate": 1.0000060000360003,
          "frequency": 0.9999939999999998,
          "frequency_final": 0.9999949999999997,
          "frequency_other": 0.9999939999999998,
          "observed_growth_rate": 1.000001000006,
          "projected_frequency": 0.9999999999999999,
          "timepoint": "2020-04-01T00:00:00",
          "year": 2020
         },
         {
          "clade_membership": "cbef932",
          "estimated_growth_rate": 1.0000060000360003,
          "frequency": 0.9999939999999998,
          "frequency_final": 0.9999949999999997,
          "frequency_other": 0.9999939999999998,
          "observed_growth_rate": 1.000001000006,
          "projected_frequency": 0.9999999999999999,
          "timepoint": "2020-04-01T00:00:00",
          "year": 2020
         },
         {
          "clade_membership": "da37a22",
          "estimated_growth_rate": 1.0000060000360003,
          "frequency": 0.9999939999999998,
          "frequency_final": 0.9999949999999997,
          "frequency_other": 0.9999939999999998,
          "observed_growth_rate": 1.000001000006,
          "projected_frequency": 0.9999999999999999,
          "timepoint": "2020-04-01T00:00:00",
          "year": 2020
         },
         {
          "clade_membership": "e72bf28",
          "estimated_growth_rate": 1.0000060000360003,
          "frequency": 0.9999939999999998,
          "frequency_final": 0.9999949999999997,
          "frequency_other": 0.9999939999999998,
          "observed_growth_rate": 1.000001000006,
          "projected_frequency": 0.9999999999999999,
          "timepoint": "2020-04-01T00:00:00",
          "year": 2020
         },
         {
          "clade_membership": "eb2f804",
          "estimated_growth_rate": 1.0000060000360003,
          "frequency": 0.9999939999999998,
          "frequency_final": 0.9999949999999997,
          "frequency_other": 0.9999939999999998,
          "observed_growth_rate": 1.000001000006,
          "projected_frequency": 0.9999999999999999,
          "timepoint": "2020-04-01T00:00:00",
          "year": 2020
         },
         {
          "clade_membership": "f759002",
          "estimated_growth_rate": 0.05640801600633862,
          "frequency": 0.15345499999999998,
          "frequency_final": 0.14615299999999998,
          "frequency_other": 0.15345499999999998,
          "observed_growth_rate": 0.9524160177250659,
          "projected_frequency": 0.008656092096252692,
          "timepoint": "2020-04-01T00:00:00",
          "year": 2020
         },
         {
          "clade_membership": "root",
          "estimated_growth_rate": 1.0000060000360003,
          "frequency": 0.9999939999999998,
          "frequency_final": 0.9999949999999997,
          "frequency_other": 0.9999939999999998,
          "observed_growth_rate": 1.000001000006,
          "projected_frequency": 0.9999999999999999,
          "timepoint": "2020-04-01T00:00:00",
          "year": 2020
         },
         {
          "clade_membership": "0654693",
          "estimated_growth_rate": 0.00653961898108565,
          "frequency": 0.31101700000000004,
          "frequency_final": 0.266764,
          "frequency_other": 0.31101700000000004,
          "observed_growth_rate": 0.8577151731255847,
          "projected_frequency": 0.002033932676640316,
          "timepoint": "2020-10-01T00:00:00",
          "year": 2020
         },
         {
          "clade_membership": "0690f07",
          "estimated_growth_rate": 0.05460544066802007,
          "frequency": 0.22280099999999997,
          "frequency_final": 0.016081,
          "frequency_other": 0.22280099999999997,
          "observed_growth_rate": 0.07217651626339201,
          "projected_frequency": 0.012166146786275537,
          "timepoint": "2020-10-01T00:00:00",
          "year": 2020
         },
         {
          "clade_membership": "0783f23",
          "estimated_growth_rate": 1.0000020000040002,
          "frequency": 0.9999980000000004,
          "frequency_final": 0.9999960000000007,
          "frequency_other": 0.9999980000000004,
          "observed_growth_rate": 0.9999979999960003,
          "projected_frequency": 1.0000000000000007,
          "timepoint": "2020-10-01T00:00:00",
          "year": 2020
         },
         {
          "clade_membership": "0d82b51",
          "estimated_growth_rate": 1.0000020000040002,
          "frequency": 0.9999980000000004,
          "frequency_final": 0.9999960000000007,
          "frequency_other": 0.9999980000000004,
          "observed_growth_rate": 0.9999979999960003,
          "projected_frequency": 1.0000000000000007,
          "timepoint": "2020-10-01T00:00:00",
          "year": 2020
         },
         {
          "clade_membership": "0d8bb1e",
          "estimated_growth_rate": 1.0000020000040002,
          "frequency": 0.9999980000000004,
          "frequency_final": 0.9999960000000007,
          "frequency_other": 0.9999980000000004,
          "observed_growth_rate": 0.9999979999960003,
          "projected_frequency": 1.0000000000000007,
          "timepoint": "2020-10-01T00:00:00",
          "year": 2020
         },
         {
          "clade_membership": "1bce829",
          "estimated_growth_rate": 1.0000020000040002,
          "frequency": 0.9999980000000004,
          "frequency_final": 0.9999960000000007,
          "frequency_other": 0.9999980000000004,
          "observed_growth_rate": 0.9999979999960003,
          "projected_frequency": 1.0000000000000007,
          "timepoint": "2020-10-01T00:00:00",
          "year": 2020
         },
         {
          "clade_membership": "2018235",
          "estimated_growth_rate": 1.0000020000040002,
          "frequency": 0.9999980000000004,
          "frequency_final": 0.9999960000000007,
          "frequency_other": 0.9999980000000004,
          "observed_growth_rate": 0.9999979999960003,
          "projected_frequency": 1.0000000000000007,
          "timepoint": "2020-10-01T00:00:00",
          "year": 2020
         },
         {
          "clade_membership": "217cef5",
          "estimated_growth_rate": 2.338046663152888,
          "frequency": 0.4263360000000001,
          "frequency_final": 0.5724469999999999,
          "frequency_other": 0.4263360000000001,
          "observed_growth_rate": 1.3427132590257445,
          "projected_frequency": 0.9967934621819499,
          "timepoint": "2020-10-01T00:00:00",
          "year": 2020
         },
         {
          "clade_membership": "289c480",
          "estimated_growth_rate": 1.0000020000040002,
          "frequency": 0.9999980000000004,
          "frequency_final": 0.9999960000000007,
          "frequency_other": 0.9999980000000004,
          "observed_growth_rate": 0.9999979999960003,
          "projected_frequency": 1.0000000000000007,
          "timepoint": "2020-10-01T00:00:00",
          "year": 2020
         },
         {
          "clade_membership": "2edcf74",
          "estimated_growth_rate": 0.006518314293055987,
          "frequency": 0.4173420000000001,
          "frequency_final": 0.26919699999999996,
          "frequency_other": 0.4173420000000001,
          "observed_growth_rate": 0.6450273396878338,
          "projected_frequency": 0.0027203663236925724,
          "timepoint": "2020-10-01T00:00:00",
          "year": 2020
         },
         {
          "clade_membership": "30c6c1b",
          "estimated_growth_rate": 1.0000020000040002,
          "frequency": 0.9999980000000004,
          "frequency_final": 0.9999960000000007,
          "frequency_other": 0.9999980000000004,
          "observed_growth_rate": 0.9999979999960003,
          "projected_frequency": 1.0000000000000007,
          "timepoint": "2020-10-01T00:00:00",
          "year": 2020
         },
         {
          "clade_membership": "342bee6",
          "estimated_growth_rate": 0.003110104237191388,
          "frequency": 0.15632000000000001,
          "frequency_final": 0.15835200000000002,
          "frequency_other": 0.15632000000000001,
          "observed_growth_rate": 1.0129989764585465,
          "projected_frequency": 0.00048617149435775783,
          "timepoint": "2020-10-01T00:00:00",
          "year": 2020
         },
         {
          "clade_membership": "3aad673",
          "estimated_growth_rate": 1.0000020000040002,
          "frequency": 0.9999980000000004,
          "frequency_final": 0.9999960000000007,
          "frequency_other": 0.9999980000000004,
          "observed_growth_rate": 0.9999979999960003,
          "projected_frequency": 1.0000000000000007,
          "timepoint": "2020-10-01T00:00:00",
          "year": 2020
         },
         {
          "clade_membership": "3f3f0ca",
          "estimated_growth_rate": 1.0000020000040002,
          "frequency": 0.9999980000000004,
          "frequency_final": 0.9999960000000007,
          "frequency_other": 0.9999980000000004,
          "observed_growth_rate": 0.9999979999960003,
          "projected_frequency": 1.0000000000000007,
          "timepoint": "2020-10-01T00:00:00",
          "year": 2020
         },
         {
          "clade_membership": "430717a",
          "estimated_growth_rate": 0.0693269268999298,
          "frequency": 0.17410899999999996,
          "frequency_final": 0.016058,
          "frequency_other": 0.17410899999999996,
          "observed_growth_rate": 0.09222958032037404,
          "projected_frequency": 0.012070441915619873,
          "timepoint": "2020-10-01T00:00:00",
          "year": 2020
         },
         {
          "clade_membership": "482045e",
          "estimated_growth_rate": 0.0693269268999298,
          "frequency": 0.17410899999999996,
          "frequency_final": 0.016058,
          "frequency_other": 0.17410899999999996,
          "observed_growth_rate": 0.09222958032037404,
          "projected_frequency": 0.012070441915619873,
          "timepoint": "2020-10-01T00:00:00",
          "year": 2020
         },
         {
          "clade_membership": "4b52cfb",
          "estimated_growth_rate": 5.90167051979215,
          "frequency": 0.165861,
          "frequency_final": 0.5563659999999999,
          "frequency_other": 0.165861,
          "observed_growth_rate": 3.3544112238561197,
          "projected_frequency": 0.9788569740832459,
          "timepoint": "2020-10-01T00:00:00",
          "year": 2020
         },
         {
          "clade_membership": "53320bc",
          "estimated_growth_rate": 1.0000020000040002,
          "frequency": 0.9999980000000004,
          "frequency_final": 0.9999960000000007,
          "frequency_other": 0.9999980000000004,
          "observed_growth_rate": 0.9999979999960003,
          "projected_frequency": 1.0000000000000007,
          "timepoint": "2020-10-01T00:00:00",
          "year": 2020
         },
         {
          "clade_membership": "53d3851",
          "estimated_growth_rate": 0.00653961898108565,
          "frequency": 0.31101700000000004,
          "frequency_final": 0.266764,
          "frequency_other": 0.31101700000000004,
          "observed_growth_rate": 0.8577151731255847,
          "projected_frequency": 0.002033932676640316,
          "timepoint": "2020-10-01T00:00:00",
          "year": 2020
         },
         {
          "clade_membership": "6270695",
          "estimated_growth_rate": 1.0000020000040002,
          "frequency": 0.9999980000000004,
          "frequency_final": 0.9999960000000007,
          "frequency_other": 0.9999980000000004,
          "observed_growth_rate": 0.9999979999960003,
          "projected_frequency": 1.0000000000000007,
          "timepoint": "2020-10-01T00:00:00",
          "year": 2020
         },
         {
          "clade_membership": "6314c68",
          "estimated_growth_rate": 0.0693269268999298,
          "frequency": 0.17410899999999996,
          "frequency_final": 0.016058,
          "frequency_other": 0.17410899999999996,
          "observed_growth_rate": 0.09222958032037404,
          "projected_frequency": 0.012070441915619873,
          "timepoint": "2020-10-01T00:00:00",
          "year": 2020
         },
         {
          "clade_membership": "63fb9b5",
          "estimated_growth_rate": 0.006518314293055987,
          "frequency": 0.4173420000000001,
          "frequency_final": 0.26919699999999996,
          "frequency_other": 0.4173420000000001,
          "observed_growth_rate": 0.6450273396878338,
          "projected_frequency": 0.0027203663236925724,
          "timepoint": "2020-10-01T00:00:00",
          "year": 2020
         },
         {
          "clade_membership": "670a3cd",
          "estimated_growth_rate": 0.006518314293055987,
          "frequency": 0.4173420000000001,
          "frequency_final": 0.26919699999999996,
          "frequency_other": 0.4173420000000001,
          "observed_growth_rate": 0.6450273396878338,
          "projected_frequency": 0.0027203663236925724,
          "timepoint": "2020-10-01T00:00:00",
          "year": 2020
         },
         {
          "clade_membership": "670b070",
          "estimated_growth_rate": 2.338046663152888,
          "frequency": 0.4263360000000001,
          "frequency_final": 0.5724469999999999,
          "frequency_other": 0.4263360000000001,
          "observed_growth_rate": 1.3427132590257445,
          "projected_frequency": 0.9967934621819499,
          "timepoint": "2020-10-01T00:00:00",
          "year": 2020
         },
         {
          "clade_membership": "6fabbb5",
          "estimated_growth_rate": 1.0000020000040002,
          "frequency": 0.9999980000000004,
          "frequency_final": 0.9999960000000007,
          "frequency_other": 0.9999980000000004,
          "observed_growth_rate": 0.9999979999960003,
          "projected_frequency": 1.0000000000000007,
          "timepoint": "2020-10-01T00:00:00",
          "year": 2020
         },
         {
          "clade_membership": "764595f",
          "estimated_growth_rate": 4.837631441254203,
          "frequency": 0.203535,
          "frequency_final": 0.5563659999999999,
          "frequency_other": 0.203535,
          "observed_growth_rate": 2.733515120249588,
          "projected_frequency": 0.9846273153956742,
          "timepoint": "2020-10-01T00:00:00",
          "year": 2020
         },
         {
          "clade_membership": "7a88259",
          "estimated_growth_rate": 1.0000020000040002,
          "frequency": 0.9999980000000004,
          "frequency_final": 0.9999960000000007,
          "frequency_other": 0.9999980000000004,
          "observed_growth_rate": 0.9999979999960003,
          "projected_frequency": 1.0000000000000007,
          "timepoint": "2020-10-01T00:00:00",
          "year": 2020
         },
         {
          "clade_membership": "7f4204a",
          "estimated_growth_rate": 4.837631441254203,
          "frequency": 0.203535,
          "frequency_final": 0.5563659999999999,
          "frequency_other": 0.203535,
          "observed_growth_rate": 2.733515120249588,
          "projected_frequency": 0.9846273153956742,
          "timepoint": "2020-10-01T00:00:00",
          "year": 2020
         },
         {
          "clade_membership": "8126320",
          "estimated_growth_rate": 0.00653961898108565,
          "frequency": 0.31101700000000004,
          "frequency_final": 0.266764,
          "frequency_other": 0.31101700000000004,
          "observed_growth_rate": 0.8577151731255847,
          "projected_frequency": 0.002033932676640316,
          "timepoint": "2020-10-01T00:00:00",
          "year": 2020
         },
         {
          "clade_membership": "8544c1e",
          "estimated_growth_rate": 0.006518314293055987,
          "frequency": 0.4173420000000001,
          "frequency_final": 0.26919699999999996,
          "frequency_other": 0.4173420000000001,
          "observed_growth_rate": 0.6450273396878338,
          "projected_frequency": 0.0027203663236925724,
          "timepoint": "2020-10-01T00:00:00",
          "year": 2020
         },
         {
          "clade_membership": "8727a54",
          "estimated_growth_rate": 1.0000020000040002,
          "frequency": 0.9999980000000004,
          "frequency_final": 0.9999960000000007,
          "frequency_other": 0.9999980000000004,
          "observed_growth_rate": 0.9999979999960003,
          "projected_frequency": 1.0000000000000007,
          "timepoint": "2020-10-01T00:00:00",
          "year": 2020
         },
         {
          "clade_membership": "aac4331",
          "estimated_growth_rate": 2.338046663152888,
          "frequency": 0.4263360000000001,
          "frequency_final": 0.5724469999999999,
          "frequency_other": 0.4263360000000001,
          "observed_growth_rate": 1.3427132590257445,
          "projected_frequency": 0.9967934621819499,
          "timepoint": "2020-10-01T00:00:00",
          "year": 2020
         },
         {
          "clade_membership": "b2d3f6b",
          "estimated_growth_rate": 4.837631441254203,
          "frequency": 0.203535,
          "frequency_final": 0.5563659999999999,
          "frequency_other": 0.203535,
          "observed_growth_rate": 2.733515120249588,
          "projected_frequency": 0.9846273153956742,
          "timepoint": "2020-10-01T00:00:00",
          "year": 2020
         },
         {
          "clade_membership": "b673975",
          "estimated_growth_rate": 4.837631441254203,
          "frequency": 0.203535,
          "frequency_final": 0.5563659999999999,
          "frequency_other": 0.203535,
          "observed_growth_rate": 2.733515120249588,
          "projected_frequency": 0.9846273153956742,
          "timepoint": "2020-10-01T00:00:00",
          "year": 2020
         },
         {
          "clade_membership": "bae78d3",
          "estimated_growth_rate": 1.0000020000040002,
          "frequency": 0.9999980000000004,
          "frequency_final": 0.9999960000000007,
          "frequency_other": 0.9999980000000004,
          "observed_growth_rate": 0.9999979999960003,
          "projected_frequency": 1.0000000000000007,
          "timepoint": "2020-10-01T00:00:00",
          "year": 2020
         },
         {
          "clade_membership": "bfd1faf",
          "estimated_growth_rate": 2.338046663152888,
          "frequency": 0.4263360000000001,
          "frequency_final": 0.5724469999999999,
          "frequency_other": 0.4263360000000001,
          "observed_growth_rate": 1.3427132590257445,
          "projected_frequency": 0.9967934621819499,
          "timepoint": "2020-10-01T00:00:00",
          "year": 2020
         },
         {
          "clade_membership": "c1b980b",
          "estimated_growth_rate": 0.0693269268999298,
          "frequency": 0.17410899999999996,
          "frequency_final": 0.016058,
          "frequency_other": 0.17410899999999996,
          "observed_growth_rate": 0.09222958032037404,
          "projected_frequency": 0.012070441915619873,
          "timepoint": "2020-10-01T00:00:00",
          "year": 2020
         },
         {
          "clade_membership": "c72df39",
          "estimated_growth_rate": 1.0000020000040002,
          "frequency": 0.9999980000000004,
          "frequency_final": 0.9999960000000007,
          "frequency_other": 0.9999980000000004,
          "observed_growth_rate": 0.9999979999960003,
          "projected_frequency": 1.0000000000000007,
          "timepoint": "2020-10-01T00:00:00",
          "year": 2020
         },
         {
          "clade_membership": "cbef932",
          "estimated_growth_rate": 1.0000020000040002,
          "frequency": 0.9999980000000004,
          "frequency_final": 0.9999960000000007,
          "frequency_other": 0.9999980000000004,
          "observed_growth_rate": 0.9999979999960003,
          "projected_frequency": 1.0000000000000007,
          "timepoint": "2020-10-01T00:00:00",
          "year": 2020
         },
         {
          "clade_membership": "da37a22",
          "estimated_growth_rate": 1.0000020000040002,
          "frequency": 0.9999980000000004,
          "frequency_final": 0.9999960000000007,
          "frequency_other": 0.9999980000000004,
          "observed_growth_rate": 0.9999979999960003,
          "projected_frequency": 1.0000000000000007,
          "timepoint": "2020-10-01T00:00:00",
          "year": 2020
         },
         {
          "clade_membership": "e592319",
          "estimated_growth_rate": 4.837631441254203,
          "frequency": 0.203535,
          "frequency_final": 0.5563659999999999,
          "frequency_other": 0.203535,
          "observed_growth_rate": 2.733515120249588,
          "projected_frequency": 0.9846273153956742,
          "timepoint": "2020-10-01T00:00:00",
          "year": 2020
         },
         {
          "clade_membership": "e72bf28",
          "estimated_growth_rate": 1.0000020000040002,
          "frequency": 0.9999980000000004,
          "frequency_final": 0.9999960000000007,
          "frequency_other": 0.9999980000000004,
          "observed_growth_rate": 0.9999979999960003,
          "projected_frequency": 1.0000000000000007,
          "timepoint": "2020-10-01T00:00:00",
          "year": 2020
         },
         {
          "clade_membership": "eb2f804",
          "estimated_growth_rate": 1.0000020000040002,
          "frequency": 0.9999980000000004,
          "frequency_final": 0.9999960000000007,
          "frequency_other": 0.9999980000000004,
          "observed_growth_rate": 0.9999979999960003,
          "projected_frequency": 1.0000000000000007,
          "timepoint": "2020-10-01T00:00:00",
          "year": 2020
         },
         {
          "clade_membership": "root",
          "estimated_growth_rate": 1.0000020000040002,
          "frequency": 0.9999980000000004,
          "frequency_final": 0.9999960000000007,
          "frequency_other": 0.9999980000000004,
          "observed_growth_rate": 0.9999979999960003,
          "projected_frequency": 1.0000000000000007,
          "timepoint": "2020-10-01T00:00:00",
          "year": 2020
         },
         {
          "clade_membership": "0690f07",
          "estimated_growth_rate": 0.001000960624987552,
          "frequency": 0.17538,
          "frequency_final": 0,
          "frequency_other": 0.17538,
          "observed_growth_rate": 0,
          "projected_frequency": 0.00017554847441031686,
          "timepoint": "2021-04-01T00:00:00",
          "year": 2021
         },
         {
          "clade_membership": "0783f23",
          "estimated_growth_rate": 1.0000050000250005,
          "frequency": 0.9999949999999997,
          "frequency_final": 1.000003,
          "frequency_other": 0.9999949999999997,
          "observed_growth_rate": 1.0000080000400005,
          "projected_frequency": 1,
          "timepoint": "2021-04-01T00:00:00",
          "year": 2021
         },
         {
          "clade_membership": "0d82b51",
          "estimated_growth_rate": 1.0000050000250005,
          "frequency": 0.9999949999999997,
          "frequency_final": 1.000003,
          "frequency_other": 0.9999949999999997,
          "observed_growth_rate": 1.0000080000400005,
          "projected_frequency": 1,
          "timepoint": "2021-04-01T00:00:00",
          "year": 2021
         },
         {
          "clade_membership": "0d8bb1e",
          "estimated_growth_rate": 1.0000050000250005,
          "frequency": 0.9999949999999997,
          "frequency_final": 1.000003,
          "frequency_other": 0.9999949999999997,
          "observed_growth_rate": 1.0000080000400005,
          "projected_frequency": 1,
          "timepoint": "2021-04-01T00:00:00",
          "year": 2021
         },
         {
          "clade_membership": "1bce829",
          "estimated_growth_rate": 1.0000050000250005,
          "frequency": 0.9999949999999997,
          "frequency_final": 1.000003,
          "frequency_other": 0.9999949999999997,
          "observed_growth_rate": 1.0000080000400005,
          "projected_frequency": 1,
          "timepoint": "2021-04-01T00:00:00",
          "year": 2021
         },
         {
          "clade_membership": "2018235",
          "estimated_growth_rate": 1.0000050000250005,
          "frequency": 0.9999949999999997,
          "frequency_final": 1.000003,
          "frequency_other": 0.9999949999999997,
          "observed_growth_rate": 1.0000080000400005,
          "projected_frequency": 1,
          "timepoint": "2021-04-01T00:00:00",
          "year": 2021
         },
         {
          "clade_membership": "217cef5",
          "estimated_growth_rate": 1.8919869849000028,
          "frequency": 0.5283669999999999,
          "frequency_final": 0.339049,
          "frequency_other": 0.5283669999999999,
          "observed_growth_rate": 0.6416922328608714,
          "projected_frequency": 0.9996634872506597,
          "timepoint": "2021-04-01T00:00:00",
          "year": 2021
         },
         {
          "clade_membership": "289c480",
          "estimated_growth_rate": 1.0000050000250005,
          "frequency": 0.9999949999999997,
          "frequency_final": 1.000003,
          "frequency_other": 0.9999949999999997,
          "observed_growth_rate": 1.0000080000400005,
          "projected_frequency": 1,
          "timepoint": "2021-04-01T00:00:00",
          "year": 2021
         },
         {
          "clade_membership": "2edcf74",
          "estimated_growth_rate": 0.0008953584156994456,
          "frequency": 0.28061699999999995,
          "frequency_final": 0.46306,
          "frequency_other": 0.28061699999999995,
          "observed_growth_rate": 1.6501494920122448,
          "projected_frequency": 0.0002512527925383313,
          "timepoint": "2021-04-01T00:00:00",
          "year": 2021
         },
         {
          "clade_membership": "30c6c1b",
          "estimated_growth_rate": 1.0000050000250005,
          "frequency": 0.9999949999999997,
          "frequency_final": 1.000003,
          "frequency_other": 0.9999949999999997,
          "observed_growth_rate": 1.0000080000400005,
          "projected_frequency": 1,
          "timepoint": "2021-04-01T00:00:00",
          "year": 2021
         },
         {
          "clade_membership": "342bee6",
          "estimated_growth_rate": 0.0004463615017056419,
          "frequency": 0.191011,
          "frequency_final": 0.197894,
          "frequency_other": 0.191011,
          "observed_growth_rate": 1.0360345739250618,
          "projected_frequency": 8.525995680229636e-05,
          "timepoint": "2021-04-01T00:00:00",
          "year": 2021
         },
         {
          "clade_membership": "3aad673",
          "estimated_growth_rate": 1.0000050000250005,
          "frequency": 0.9999949999999997,
          "frequency_final": 1.000003,
          "frequency_other": 0.9999949999999997,
          "observed_growth_rate": 1.0000080000400005,
          "projected_frequency": 1,
          "timepoint": "2021-04-01T00:00:00",
          "year": 2021
         },
         {
          "clade_membership": "3f3f0ca",
          "estimated_growth_rate": 1.0000050000250005,
          "frequency": 0.9999949999999997,
          "frequency_final": 1.000003,
          "frequency_other": 0.9999949999999997,
          "observed_growth_rate": 1.0000080000400005,
          "projected_frequency": 1,
          "timepoint": "2021-04-01T00:00:00",
          "year": 2021
         },
         {
          "clade_membership": "4b52cfb",
          "estimated_growth_rate": 2.833184303889036,
          "frequency": 0.35277899999999995,
          "frequency_final": 0.339049,
          "frequency_other": 0.35277899999999995,
          "observed_growth_rate": 0.9610804498000165,
          "projected_frequency": 0.99948792554167,
          "timepoint": "2021-04-01T00:00:00",
          "year": 2021
         },
         {
          "clade_membership": "53320bc",
          "estimated_growth_rate": 1.0000050000250005,
          "frequency": 0.9999949999999997,
          "frequency_final": 1.000003,
          "frequency_other": 0.9999949999999997,
          "observed_growth_rate": 1.0000080000400005,
          "projected_frequency": 1,
          "timepoint": "2021-04-01T00:00:00",
          "year": 2021
         },
         {
          "clade_membership": "6270695",
          "estimated_growth_rate": 1.0000050000250005,
          "frequency": 0.9999949999999997,
          "frequency_final": 1.000003,
          "frequency_other": 0.9999949999999997,
          "observed_growth_rate": 1.0000080000400005,
          "projected_frequency": 1,
          "timepoint": "2021-04-01T00:00:00",
          "year": 2021
         },
         {
          "clade_membership": "63fb9b5",
          "estimated_growth_rate": 0.0008953584156994456,
          "frequency": 0.28061699999999995,
          "frequency_final": 0.46306,
          "frequency_other": 0.28061699999999995,
          "observed_growth_rate": 1.6501494920122448,
          "projected_frequency": 0.0002512527925383313,
          "timepoint": "2021-04-01T00:00:00",
          "year": 2021
         },
         {
          "clade_membership": "670a3cd",
          "estimated_growth_rate": 0.0008953584156994456,
          "frequency": 0.28061699999999995,
          "frequency_final": 0.46306,
          "frequency_other": 0.28061699999999995,
          "observed_growth_rate": 1.6501494920122448,
          "projected_frequency": 0.0002512527925383313,
          "timepoint": "2021-04-01T00:00:00",
          "year": 2021
         },
         {
          "clade_membership": "670b070",
          "estimated_growth_rate": 1.8919869849000028,
          "frequency": 0.5283669999999999,
          "frequency_final": 0.339049,
          "frequency_other": 0.5283669999999999,
          "observed_growth_rate": 0.6416922328608714,
          "projected_frequency": 0.9996634872506597,
          "timepoint": "2021-04-01T00:00:00",
          "year": 2021
         },
         {
          "clade_membership": "6fabbb5",
          "estimated_growth_rate": 1.0000050000250005,
          "frequency": 0.9999949999999997,
          "frequency_final": 1.000003,
          "frequency_other": 0.9999949999999997,
          "observed_growth_rate": 1.0000080000400005,
          "projected_frequency": 1,
          "timepoint": "2021-04-01T00:00:00",
          "year": 2021
         },
         {
          "clade_membership": "764595f",
          "estimated_growth_rate": 2.831514868185654,
          "frequency": 0.35298699999999994,
          "frequency_final": 0.339049,
          "frequency_other": 0.35298699999999994,
          "observed_growth_rate": 0.9605141265825655,
          "projected_frequency": 0.9994879387762492,
          "timepoint": "2021-04-01T00:00:00",
          "year": 2021
         },
         {
          "clade_membership": "7a88259",
          "estimated_growth_rate": 1.0000050000250005,
          "frequency": 0.9999949999999997,
          "frequency_final": 1.000003,
          "frequency_other": 0.9999949999999997,
          "observed_growth_rate": 1.0000080000400005,
          "projected_frequency": 1,
          "timepoint": "2021-04-01T00:00:00",
          "year": 2021
         },
         {
          "clade_membership": "7f4204a",
          "estimated_growth_rate": 2.831514868185654,
          "frequency": 0.35298699999999994,
          "frequency_final": 0.339049,
          "frequency_other": 0.35298699999999994,
          "observed_growth_rate": 0.9605141265825655,
          "projected_frequency": 0.9994879387762492,
          "timepoint": "2021-04-01T00:00:00",
          "year": 2021
         },
         {
          "clade_membership": "8544c1e",
          "estimated_growth_rate": 0.0008953584156994456,
          "frequency": 0.28061699999999995,
          "frequency_final": 0.46306,
          "frequency_other": 0.28061699999999995,
          "observed_growth_rate": 1.6501494920122448,
          "projected_frequency": 0.0002512527925383313,
          "timepoint": "2021-04-01T00:00:00",
          "year": 2021
         },
         {
          "clade_membership": "8727a54",
          "estimated_growth_rate": 1.0000050000250005,
          "frequency": 0.9999949999999997,
          "frequency_final": 1.000003,
          "frequency_other": 0.9999949999999997,
          "observed_growth_rate": 1.0000080000400005,
          "projected_frequency": 1,
          "timepoint": "2021-04-01T00:00:00",
          "year": 2021
         },
         {
          "clade_membership": "aac4331",
          "estimated_growth_rate": 1.8919869849000028,
          "frequency": 0.5283669999999999,
          "frequency_final": 0.339049,
          "frequency_other": 0.5283669999999999,
          "observed_growth_rate": 0.6416922328608714,
          "projected_frequency": 0.9996634872506597,
          "timepoint": "2021-04-01T00:00:00",
          "year": 2021
         },
         {
          "clade_membership": "b2d3f6b",
          "estimated_growth_rate": 2.831514868185654,
          "frequency": 0.35298699999999994,
          "frequency_final": 0.339049,
          "frequency_other": 0.35298699999999994,
          "observed_growth_rate": 0.9605141265825655,
          "projected_frequency": 0.9994879387762492,
          "timepoint": "2021-04-01T00:00:00",
          "year": 2021
         },
         {
          "clade_membership": "b673975",
          "estimated_growth_rate": 2.831514868185654,
          "frequency": 0.35298699999999994,
          "frequency_final": 0.339049,
          "frequency_other": 0.35298699999999994,
          "observed_growth_rate": 0.9605141265825655,
          "projected_frequency": 0.9994879387762492,
          "timepoint": "2021-04-01T00:00:00",
          "year": 2021
         },
         {
          "clade_membership": "bae78d3",
          "estimated_growth_rate": 1.0000050000250005,
          "frequency": 0.9999949999999997,
          "frequency_final": 1.000003,
          "frequency_other": 0.9999949999999997,
          "observed_growth_rate": 1.0000080000400005,
          "projected_frequency": 1,
          "timepoint": "2021-04-01T00:00:00",
          "year": 2021
         },
         {
          "clade_membership": "bfd1faf",
          "estimated_growth_rate": 1.8919869849000028,
          "frequency": 0.5283669999999999,
          "frequency_final": 0.339049,
          "frequency_other": 0.5283669999999999,
          "observed_growth_rate": 0.6416922328608714,
          "projected_frequency": 0.9996634872506597,
          "timepoint": "2021-04-01T00:00:00",
          "year": 2021
         },
         {
          "clade_membership": "c72df39",
          "estimated_growth_rate": 1.0000050000250005,
          "frequency": 0.9999949999999997,
          "frequency_final": 1.000003,
          "frequency_other": 0.9999949999999997,
          "observed_growth_rate": 1.0000080000400005,
          "projected_frequency": 1,
          "timepoint": "2021-04-01T00:00:00",
          "year": 2021
         },
         {
          "clade_membership": "cbef932",
          "estimated_growth_rate": 1.0000050000250005,
          "frequency": 0.9999949999999997,
          "frequency_final": 1.000003,
          "frequency_other": 0.9999949999999997,
          "observed_growth_rate": 1.0000080000400005,
          "projected_frequency": 1,
          "timepoint": "2021-04-01T00:00:00",
          "year": 2021
         },
         {
          "clade_membership": "da37a22",
          "estimated_growth_rate": 1.0000050000250005,
          "frequency": 0.9999949999999997,
          "frequency_final": 1.000003,
          "frequency_other": 0.9999949999999997,
          "observed_growth_rate": 1.0000080000400005,
          "projected_frequency": 1,
          "timepoint": "2021-04-01T00:00:00",
          "year": 2021
         },
         {
          "clade_membership": "e592319",
          "estimated_growth_rate": 2.831514868185654,
          "frequency": 0.35298699999999994,
          "frequency_final": 0.339049,
          "frequency_other": 0.35298699999999994,
          "observed_growth_rate": 0.9605141265825655,
          "projected_frequency": 0.9994879387762492,
          "timepoint": "2021-04-01T00:00:00",
          "year": 2021
         },
         {
          "clade_membership": "e72bf28",
          "estimated_growth_rate": 1.0000050000250005,
          "frequency": 0.9999949999999997,
          "frequency_final": 1.000003,
          "frequency_other": 0.9999949999999997,
          "observed_growth_rate": 1.0000080000400005,
          "projected_frequency": 1,
          "timepoint": "2021-04-01T00:00:00",
          "year": 2021
         },
         {
          "clade_membership": "eb2f804",
          "estimated_growth_rate": 1.0000050000250005,
          "frequency": 0.9999949999999997,
          "frequency_final": 1.000003,
          "frequency_other": 0.9999949999999997,
          "observed_growth_rate": 1.0000080000400005,
          "projected_frequency": 1,
          "timepoint": "2021-04-01T00:00:00",
          "year": 2021
         },
         {
          "clade_membership": "root",
          "estimated_growth_rate": 1.0000050000250005,
          "frequency": 0.9999949999999997,
          "frequency_final": 1.000003,
          "frequency_other": 0.9999949999999997,
          "observed_growth_rate": 1.0000080000400005,
          "projected_frequency": 1,
          "timepoint": "2021-04-01T00:00:00",
          "year": 2021
         },
         {
          "clade_membership": "029c69d",
          "estimated_growth_rate": 2.999581202989544,
          "frequency": 0.221707,
          "frequency_final": 0.6415600000000004,
          "frequency_other": 0.221707,
          "observed_growth_rate": 2.893729110943725,
          "projected_frequency": 0.6650281497712027,
          "timepoint": "2021-10-01T00:00:00",
          "year": 2021
         },
         {
          "clade_membership": "0654693",
          "estimated_growth_rate": 2.4934828860314373,
          "frequency": 0.266764,
          "frequency_final": 0.6415600000000004,
          "frequency_other": 0.266764,
          "observed_growth_rate": 2.404972185152421,
          "projected_frequency": 0.6651714686092903,
          "timepoint": "2021-10-01T00:00:00",
          "year": 2021
         },
         {
          "clade_membership": "0783f23",
          "estimated_growth_rate": 1.000004000015999,
          "frequency": 0.9999960000000007,
          "frequency_final": 1.0000000000000007,
          "frequency_other": 0.9999960000000007,
          "observed_growth_rate": 1.000004000016,
          "projected_frequency": 0.9999999999999998,
          "timepoint": "2021-10-01T00:00:00",
          "year": 2021
         },
         {
          "clade_membership": "0d82b51",
          "estimated_growth_rate": 1.000004000015999,
          "frequency": 0.9999960000000007,
          "frequency_final": 1.0000000000000007,
          "frequency_other": 0.9999960000000007,
          "observed_growth_rate": 1.000004000016,
          "projected_frequency": 0.9999999999999998,
          "timepoint": "2021-10-01T00:00:00",
          "year": 2021
         },
         {
          "clade_membership": "0d8bb1e",
          "estimated_growth_rate": 1.000004000015999,
          "frequency": 0.9999960000000007,
          "frequency_final": 1.0000000000000007,
          "frequency_other": 0.9999960000000007,
          "observed_growth_rate": 1.000004000016,
          "projected_frequency": 0.9999999999999998,
          "timepoint": "2021-10-01T00:00:00",
          "year": 2021
         },
         {
          "clade_membership": "1bce829",
          "estimated_growth_rate": 1.000004000015999,
          "frequency": 0.9999960000000007,
          "frequency_final": 1.0000000000000007,
          "frequency_other": 0.9999960000000007,
          "observed_growth_rate": 1.000004000016,
          "projected_frequency": 0.9999999999999998,
          "timepoint": "2021-10-01T00:00:00",
          "year": 2021
         },
         {
          "clade_membership": "2018235",
          "estimated_growth_rate": 1.000004000015999,
          "frequency": 0.9999960000000007,
          "frequency_final": 1.0000000000000007,
          "frequency_other": 0.9999960000000007,
          "observed_growth_rate": 1.000004000016,
          "projected_frequency": 0.9999999999999998,
          "timepoint": "2021-10-01T00:00:00",
          "year": 2021
         },
         {
          "clade_membership": "217cef5",
          "estimated_growth_rate": 0.5647711809172168,
          "frequency": 0.5724469999999999,
          "frequency_final": 0.31413299999999994,
          "frequency_other": 0.5724469999999999,
          "observed_growth_rate": 0.5487547318791084,
          "projected_frequency": 0.323301568202518,
          "timepoint": "2021-10-01T00:00:00",
          "year": 2021
         },
         {
          "clade_membership": "289c480",
          "estimated_growth_rate": 1.000004000015999,
          "frequency": 0.9999960000000007,
          "frequency_final": 1.0000000000000007,
          "frequency_other": 0.9999960000000007,
          "observed_growth_rate": 1.000004000016,
          "projected_frequency": 0.9999999999999998,
          "timepoint": "2021-10-01T00:00:00",
          "year": 2021
         },
         {
          "clade_membership": "2edcf74",
          "estimated_growth_rate": 2.4709492705940286,
          "frequency": 0.26919699999999996,
          "frequency_final": 0.6415600000000004,
          "frequency_other": 0.269197,
          "observed_growth_rate": 2.383236068752625,
          "projected_frequency": 0.6651721307961006,
          "timepoint": "2021-10-01T00:00:00",
          "year": 2021
         },
         {
          "clade_membership": "30c6c1b",
          "estimated_growth_rate": 1.000004000015999,
          "frequency": 0.9999960000000007,
          "frequency_final": 1.0000000000000007,
          "frequency_other": 0.9999960000000007,
          "observed_growth_rate": 1.000004000016,
          "projected_frequency": 0.9999999999999998,
          "timepoint": "2021-10-01T00:00:00",
          "year": 2021
         },
         {
          "clade_membership": "342bee6",
          "estimated_growth_rate": 0.07278910908217859,
          "frequency": 0.15835200000000002,
          "frequency_final": 0.044307,
          "frequency_other": 0.15835200000000002,
          "observed_growth_rate": 0.2798006971809639,
          "projected_frequency": 0.011526301001381146,
          "timepoint": "2021-10-01T00:00:00",
          "year": 2021
         },
         {
          "clade_membership": "3aad673",
          "estimated_growth_rate": 1.000004000015999,
          "frequency": 0.9999960000000007,
          "frequency_final": 1.0000000000000007,
          "frequency_other": 0.9999960000000007,
          "observed_growth_rate": 1.000004000016,
          "projected_frequency": 0.9999999999999998,
          "timepoint": "2021-10-01T00:00:00",
          "year": 2021
         },
         {
          "clade_membership": "3f3f0ca",
          "estimated_growth_rate": 1.000004000015999,
          "frequency": 0.9999960000000007,
          "frequency_final": 1.0000000000000007,
          "frequency_other": 0.9999960000000007,
          "observed_growth_rate": 1.000004000016,
          "projected_frequency": 0.9999999999999998,
          "timepoint": "2021-10-01T00:00:00",
          "year": 2021
         },
         {
          "clade_membership": "4b52cfb",
          "estimated_growth_rate": 0.5810849918611449,
          "frequency": 0.5563659999999999,
          "frequency_final": 0.31413299999999994,
          "frequency_other": 0.5563659999999999,
          "observed_growth_rate": 0.5646157385605878,
          "projected_frequency": 0.3232959325818177,
          "timepoint": "2021-10-01T00:00:00",
          "year": 2021
         },
         {
          "clade_membership": "4eae73a",
          "estimated_growth_rate": 3.0044568627436705,
          "frequency": 0.221347,
          "frequency_final": 0.6415600000000004,
          "frequency_other": 0.22134700000000002,
          "observed_growth_rate": 2.89843548817016,
          "projected_frequency": 0.6650275131977232,
          "timepoint": "2021-10-01T00:00:00",
          "year": 2021
         },
         {
          "clade_membership": "53320bc",
          "estimated_growth_rate": 1.000004000015999,
          "frequency": 0.9999960000000007,
          "frequency_final": 1.0000000000000007,
          "frequency_other": 0.9999960000000007,
          "observed_growth_rate": 1.000004000016,
          "projected_frequency": 0.9999999999999998,
          "timepoint": "2021-10-01T00:00:00",
          "year": 2021
         },
         {
          "clade_membership": "53d3851",
          "estimated_growth_rate": 2.4934828860314373,
          "frequency": 0.266764,
          "frequency_final": 0.6415600000000004,
          "frequency_other": 0.266764,
          "observed_growth_rate": 2.404972185152421,
          "projected_frequency": 0.6651714686092903,
          "timepoint": "2021-10-01T00:00:00",
          "year": 2021
         },
         {
          "clade_membership": "5a8b5f6",
          "estimated_growth_rate": 2.4946517076330523,
          "frequency": 0.26663899999999996,
          "frequency_final": 0.6415600000000004,
          "frequency_other": 0.266639,
          "observed_growth_rate": 2.4060996328369084,
          "projected_frequency": 0.6651714366715693,
          "timepoint": "2021-10-01T00:00:00",
          "year": 2021
         },
         {
          "clade_membership": "5f0aa3c",
          "estimated_growth_rate": 0.0017213185522155098,
          "frequency": 0.158297,
          "frequency_final": 0.139494,
          "frequency_other": 0.158297,
          "observed_growth_rate": 0.8812169529428859,
          "projected_frequency": 0.00027247956286005853,
          "timepoint": "2021-10-01T00:00:00",
          "year": 2021
         },
         {
          "clade_membership": "6270695",
          "estimated_growth_rate": 1.000004000015999,
          "frequency": 0.9999960000000007,
          "frequency_final": 1.0000000000000007,
          "frequency_other": 0.9999960000000007,
          "observed_growth_rate": 1.000004000016,
          "projected_frequency": 0.9999999999999998,
          "timepoint": "2021-10-01T00:00:00",
          "year": 2021
         },
         {
          "clade_membership": "63fb9b5",
          "estimated_growth_rate": 2.4709492705940286,
          "frequency": 0.26919699999999996,
          "frequency_final": 0.6415600000000004,
          "frequency_other": 0.269197,
          "observed_growth_rate": 2.383236068752625,
          "projected_frequency": 0.6651721307961006,
          "timepoint": "2021-10-01T00:00:00",
          "year": 2021
         },
         {
          "clade_membership": "670a3cd",
          "estimated_growth_rate": 2.4709492705940286,
          "frequency": 0.26919699999999996,
          "frequency_final": 0.6415600000000004,
          "frequency_other": 0.269197,
          "observed_growth_rate": 2.383236068752625,
          "projected_frequency": 0.6651721307961006,
          "timepoint": "2021-10-01T00:00:00",
          "year": 2021
         },
         {
          "clade_membership": "670b070",
          "estimated_growth_rate": 0.5647711809172168,
          "frequency": 0.5724469999999999,
          "frequency_final": 0.31413299999999994,
          "frequency_other": 0.5724469999999999,
          "observed_growth_rate": 0.5487547318791084,
          "projected_frequency": 0.323301568202518,
          "timepoint": "2021-10-01T00:00:00",
          "year": 2021
         },
         {
          "clade_membership": "6fabbb5",
          "estimated_growth_rate": 1.000004000015999,
          "frequency": 0.9999960000000007,
          "frequency_final": 1.0000000000000007,
          "frequency_other": 0.9999960000000007,
          "observed_growth_rate": 1.000004000016,
          "projected_frequency": 0.9999999999999998,
          "timepoint": "2021-10-01T00:00:00",
          "year": 2021
         },
         {
          "clade_membership": "764595f",
          "estimated_growth_rate": 0.5810849918611449,
          "frequency": 0.5563659999999999,
          "frequency_final": 0.31413299999999994,
          "frequency_other": 0.5563659999999999,
          "observed_growth_rate": 0.5646157385605878,
          "projected_frequency": 0.3232959325818177,
          "timepoint": "2021-10-01T00:00:00",
          "year": 2021
         },
         {
          "clade_membership": "7a88259",
          "estimated_growth_rate": 1.000004000015999,
          "frequency": 0.9999960000000007,
          "frequency_final": 1.0000000000000007,
          "frequency_other": 0.9999960000000007,
          "observed_growth_rate": 1.000004000016,
          "projected_frequency": 0.9999999999999998,
          "timepoint": "2021-10-01T00:00:00",
          "year": 2021
         },
         {
          "clade_membership": "7f4204a",
          "estimated_growth_rate": 0.5810849918611449,
          "frequency": 0.5563659999999999,
          "frequency_final": 0.31413299999999994,
          "frequency_other": 0.5563659999999999,
          "observed_growth_rate": 0.5646157385605878,
          "projected_frequency": 0.3232959325818177,
          "timepoint": "2021-10-01T00:00:00",
          "year": 2021
         },
         {
          "clade_membership": "8126320",
          "estimated_growth_rate": 2.4934828860314373,
          "frequency": 0.266764,
          "frequency_final": 0.6415600000000004,
          "frequency_other": 0.266764,
          "observed_growth_rate": 2.404972185152421,
          "projected_frequency": 0.6651714686092903,
          "timepoint": "2021-10-01T00:00:00",
          "year": 2021
         },
         {
          "clade_membership": "8544c1e",
          "estimated_growth_rate": 2.4709492705940286,
          "frequency": 0.26919699999999996,
          "frequency_final": 0.6415600000000004,
          "frequency_other": 0.269197,
          "observed_growth_rate": 2.383236068752625,
          "projected_frequency": 0.6651721307961006,
          "timepoint": "2021-10-01T00:00:00",
          "year": 2021
         },
         {
          "clade_membership": "8727a54",
          "estimated_growth_rate": 1.000004000015999,
          "frequency": 0.9999960000000007,
          "frequency_final": 1.0000000000000007,
          "frequency_other": 0.9999960000000007,
          "observed_growth_rate": 1.000004000016,
          "projected_frequency": 0.9999999999999998,
          "timepoint": "2021-10-01T00:00:00",
          "year": 2021
         },
         {
          "clade_membership": "aac4331",
          "estimated_growth_rate": 0.5647711809172168,
          "frequency": 0.5724469999999999,
          "frequency_final": 0.31413299999999994,
          "frequency_other": 0.5724469999999999,
          "observed_growth_rate": 0.5487547318791084,
          "projected_frequency": 0.323301568202518,
          "timepoint": "2021-10-01T00:00:00",
          "year": 2021
         },
         {
          "clade_membership": "b125362",
          "estimated_growth_rate": 2.4946517076330523,
          "frequency": 0.26663899999999996,
          "frequency_final": 0.6415600000000004,
          "frequency_other": 0.266639,
          "observed_growth_rate": 2.4060996328369084,
          "projected_frequency": 0.6651714366715693,
          "timepoint": "2021-10-01T00:00:00",
          "year": 2021
         },
         {
          "clade_membership": "b2d3f6b",
          "estimated_growth_rate": 0.5810849918611449,
          "frequency": 0.5563659999999999,
          "frequency_final": 0.31413299999999994,
          "frequency_other": 0.5563659999999999,
          "observed_growth_rate": 0.5646157385605878,
          "projected_frequency": 0.3232959325818177,
          "timepoint": "2021-10-01T00:00:00",
          "year": 2021
         },
         {
          "clade_membership": "b66b3e9",
          "estimated_growth_rate": 2.4946517076330523,
          "frequency": 0.26663899999999996,
          "frequency_final": 0.6415600000000004,
          "frequency_other": 0.266639,
          "observed_growth_rate": 2.4060996328369084,
          "projected_frequency": 0.6651714366715693,
          "timepoint": "2021-10-01T00:00:00",
          "year": 2021
         },
         {
          "clade_membership": "b673975",
          "estimated_growth_rate": 0.5810849918611449,
          "frequency": 0.5563659999999999,
          "frequency_final": 0.31413299999999994,
          "frequency_other": 0.5563659999999999,
          "observed_growth_rate": 0.5646157385605878,
          "projected_frequency": 0.3232959325818177,
          "timepoint": "2021-10-01T00:00:00",
          "year": 2021
         },
         {
          "clade_membership": "b771746",
          "estimated_growth_rate": 2.4946517076330523,
          "frequency": 0.26663899999999996,
          "frequency_final": 0.6415600000000004,
          "frequency_other": 0.266639,
          "observed_growth_rate": 2.4060996328369084,
          "projected_frequency": 0.6651714366715693,
          "timepoint": "2021-10-01T00:00:00",
          "year": 2021
         },
         {
          "clade_membership": "bae78d3",
          "estimated_growth_rate": 1.000004000015999,
          "frequency": 0.9999960000000007,
          "frequency_final": 1.0000000000000007,
          "frequency_other": 0.9999960000000007,
          "observed_growth_rate": 1.000004000016,
          "projected_frequency": 0.9999999999999998,
          "timepoint": "2021-10-01T00:00:00",
          "year": 2021
         },
         {
          "clade_membership": "bfd1faf",
          "estimated_growth_rate": 0.5647711809172168,
          "frequency": 0.5724469999999999,
          "frequency_final": 0.31413299999999994,
          "frequency_other": 0.5724469999999999,
          "observed_growth_rate": 0.5487547318791084,
          "projected_frequency": 0.323301568202518,
          "timepoint": "2021-10-01T00:00:00",
          "year": 2021
         },
         {
          "clade_membership": "c72df39",
          "estimated_growth_rate": 1.000004000015999,
          "frequency": 0.9999960000000007,
          "frequency_final": 1.0000000000000007,
          "frequency_other": 0.9999960000000007,
          "observed_growth_rate": 1.000004000016,
          "projected_frequency": 0.9999999999999998,
          "timepoint": "2021-10-01T00:00:00",
          "year": 2021
         },
         {
          "clade_membership": "cbef932",
          "estimated_growth_rate": 1.000004000015999,
          "frequency": 0.9999960000000007,
          "frequency_final": 1.0000000000000007,
          "frequency_other": 0.9999960000000007,
          "observed_growth_rate": 1.000004000016,
          "projected_frequency": 0.9999999999999998,
          "timepoint": "2021-10-01T00:00:00",
          "year": 2021
         },
         {
          "clade_membership": "cc789e1",
          "estimated_growth_rate": 1.2385246952819768,
          "frequency": 0.260633,
          "frequency_final": 0.16088899999999998,
          "frequency_other": 0.260633,
          "observed_growth_rate": 0.6173009557500392,
          "projected_frequency": 0.3228004069054275,
          "timepoint": "2021-10-01T00:00:00",
          "year": 2021
         },
         {
          "clade_membership": "da37a22",
          "estimated_growth_rate": 1.000004000015999,
          "frequency": 0.9999960000000007,
          "frequency_final": 1.0000000000000007,
          "frequency_other": 0.9999960000000007,
          "observed_growth_rate": 1.000004000016,
          "projected_frequency": 0.9999999999999998,
          "timepoint": "2021-10-01T00:00:00",
          "year": 2021
         },
         {
          "clade_membership": "e592319",
          "estimated_growth_rate": 0.5810849918611449,
          "frequency": 0.5563659999999999,
          "frequency_final": 0.31413299999999994,
          "frequency_other": 0.5563659999999999,
          "observed_growth_rate": 0.5646157385605878,
          "projected_frequency": 0.3232959325818177,
          "timepoint": "2021-10-01T00:00:00",
          "year": 2021
         },
         {
          "clade_membership": "e72bf28",
          "estimated_growth_rate": 1.000004000015999,
          "frequency": 0.9999960000000007,
          "frequency_final": 1.0000000000000007,
          "frequency_other": 0.9999960000000007,
          "observed_growth_rate": 1.000004000016,
          "projected_frequency": 0.9999999999999998,
          "timepoint": "2021-10-01T00:00:00",
          "year": 2021
         },
         {
          "clade_membership": "eb2f804",
          "estimated_growth_rate": 1.000004000015999,
          "frequency": 0.9999960000000007,
          "frequency_final": 1.0000000000000007,
          "frequency_other": 0.9999960000000007,
          "observed_growth_rate": 1.000004000016,
          "projected_frequency": 0.9999999999999998,
          "timepoint": "2021-10-01T00:00:00",
          "year": 2021
         },
         {
          "clade_membership": "f6d9b34",
          "estimated_growth_rate": 2.4946517076330523,
          "frequency": 0.26663899999999996,
          "frequency_final": 0.6415600000000004,
          "frequency_other": 0.266639,
          "observed_growth_rate": 2.4060996328369084,
          "projected_frequency": 0.6651714366715693,
          "timepoint": "2021-10-01T00:00:00",
          "year": 2021
         },
         {
          "clade_membership": "root",
          "estimated_growth_rate": 1.000004000015999,
          "frequency": 0.9999960000000007,
          "frequency_final": 1.0000000000000007,
          "frequency_other": 0.9999960000000007,
          "observed_growth_rate": 1.000004000016,
          "projected_frequency": 0.9999999999999998,
          "timepoint": "2021-10-01T00:00:00",
          "year": 2021
         },
         {
          "clade_membership": "029c69d",
          "estimated_growth_rate": 2.2635789498710093,
          "frequency": 0.44169099999999994,
          "frequency_final": 0.8711680000000004,
          "frequency_other": 0.44169099999999994,
          "observed_growth_rate": 1.9723471838910018,
          "projected_frequency": 0.9998024499474759,
          "timepoint": "2022-04-01T00:00:00",
          "year": 2022
         },
         {
          "clade_membership": "0654693",
          "estimated_growth_rate": 2.1591247722446743,
          "frequency": 0.46306,
          "frequency_final": 0.8711680000000004,
          "frequency_other": 0.46306,
          "observed_growth_rate": 1.8813285535351798,
          "projected_frequency": 0.9998043170356189,
          "timepoint": "2022-04-01T00:00:00",
          "year": 2022
         },
         {
          "clade_membership": "0783f23",
          "estimated_growth_rate": 0.9999970000089998,
          "frequency": 1.000003,
          "frequency_final": 0.9999970000000001,
          "frequency_other": 1.000003,
          "observed_growth_rate": 0.9999940000180001,
          "projected_frequency": 0.9999999999999998,
          "timepoint": "2022-04-01T00:00:00",
          "year": 2022
         },
         {
          "clade_membership": "0d82b51",
          "estimated_growth_rate": 0.9999970000089998,
          "frequency": 1.000003,
          "frequency_final": 0.9999970000000001,
          "frequency_other": 1.000003,
          "observed_growth_rate": 0.9999940000180001,
          "projected_frequency": 0.9999999999999998,
          "timepoint": "2022-04-01T00:00:00",
          "year": 2022
         },
         {
          "clade_membership": "0d8bb1e",
          "estimated_growth_rate": 0.9999970000089998,
          "frequency": 1.000003,
          "frequency_final": 0.9999970000000001,
          "frequency_other": 1.000003,
          "observed_growth_rate": 0.9999940000180001,
          "projected_frequency": 0.9999999999999998,
          "timepoint": "2022-04-01T00:00:00",
          "year": 2022
         },
         {
          "clade_membership": "0da4968",
          "estimated_growth_rate": 0.00030164684285547316,
          "frequency": 0.197894,
          "frequency_final": 0.010173999999999999,
          "frequency_other": 0.197894,
          "observed_growth_rate": 0.05141136163804865,
          "projected_frequency": 5.9694100320041006e-05,
          "timepoint": "2022-04-01T00:00:00",
          "year": 2022
         },
         {
          "clade_membership": "1bce829",
          "estimated_growth_rate": 0.9999970000089998,
          "frequency": 1.000003,
          "frequency_final": 0.9999970000000001,
          "frequency_other": 1.000003,
          "observed_growth_rate": 0.9999940000180001,
          "projected_frequency": 0.9999999999999998,
          "timepoint": "2022-04-01T00:00:00",
          "year": 2022
         },
         {
          "clade_membership": "2018235",
          "estimated_growth_rate": 0.9999970000089998,
          "frequency": 1.000003,
          "frequency_final": 0.9999970000000001,
          "frequency_other": 1.000003,
          "observed_growth_rate": 0.9999940000180001,
          "projected_frequency": 0.9999999999999998,
          "timepoint": "2022-04-01T00:00:00",
          "year": 2022
         },
         {
          "clade_membership": "217cef5",
          "estimated_growth_rate": 0.0004010891170919593,
          "frequency": 0.339049,
          "frequency_final": 0.118655,
          "frequency_other": 0.339049,
          "observed_growth_rate": 0.349964164471802,
          "projected_frequency": 0.00013598886406091171,
          "timepoint": "2022-04-01T00:00:00",
          "year": 2022
         },
         {
          "clade_membership": "289c480",
          "estimated_growth_rate": 0.9999970000089998,
          "frequency": 1.000003,
          "frequency_final": 0.9999970000000001,
          "frequency_other": 1.000003,
          "observed_growth_rate": 0.9999940000180001,
          "projected_frequency": 0.9999999999999998,
          "timepoint": "2022-04-01T00:00:00",
          "year": 2022
         },
         {
          "clade_membership": "2edcf74",
          "estimated_growth_rate": 2.1591247722446743,
          "frequency": 0.46306,
          "frequency_final": 0.8711680000000004,
          "frequency_other": 0.46306,
          "observed_growth_rate": 1.8813285535351798,
          "projected_frequency": 0.9998043170356189,
          "timepoint": "2022-04-01T00:00:00",
          "year": 2022
         },
         {
          "clade_membership": "30c6c1b",
          "estimated_growth_rate": 0.9999970000089998,
          "frequency": 1.000003,
          "frequency_final": 0.9999970000000001,
          "frequency_other": 1.000003,
          "observed_growth_rate": 0.9999940000180001,
          "projected_frequency": 0.9999999999999998,
          "timepoint": "2022-04-01T00:00:00",
          "year": 2022
         },
         {
          "clade_membership": "342bee6",
          "estimated_growth_rate": 0.00030164684285547316,
          "frequency": 0.197894,
          "frequency_final": 0.010173999999999999,
          "frequency_other": 0.197894,
          "observed_growth_rate": 0.05141136163804865,
          "projected_frequency": 5.9694100320041006e-05,
          "timepoint": "2022-04-01T00:00:00",
          "year": 2022
         },
         {
          "clade_membership": "3aad673",
          "estimated_growth_rate": 0.9999970000089998,
          "frequency": 1.000003,
          "frequency_final": 0.9999970000000001,
          "frequency_other": 1.000003,
          "observed_growth_rate": 0.9999940000180001,
          "projected_frequency": 0.9999999999999998,
          "timepoint": "2022-04-01T00:00:00",
          "year": 2022
         },
         {
          "clade_membership": "3f3f0ca",
          "estimated_growth_rate": 0.9999970000089998,
          "frequency": 1.000003,
          "frequency_final": 0.9999970000000001,
          "frequency_other": 1.000003,
          "observed_growth_rate": 0.9999940000180001,
          "projected_frequency": 0.9999999999999998,
          "timepoint": "2022-04-01T00:00:00",
          "year": 2022
         },
         {
          "clade_membership": "4b52cfb",
          "estimated_growth_rate": 0.0004010891170919593,
          "frequency": 0.339049,
          "frequency_final": 0.118655,
          "frequency_other": 0.339049,
          "observed_growth_rate": 0.349964164471802,
          "projected_frequency": 0.00013598886406091171,
          "timepoint": "2022-04-01T00:00:00",
          "year": 2022
         },
         {
          "clade_membership": "4eae73a",
          "estimated_growth_rate": 2.2635789498710093,
          "frequency": 0.44169099999999994,
          "frequency_final": 0.8711680000000004,
          "frequency_other": 0.44169099999999994,
          "observed_growth_rate": 1.9723471838910018,
          "projected_frequency": 0.9998024499474759,
          "timepoint": "2022-04-01T00:00:00",
          "year": 2022
         },
         {
          "clade_membership": "53320bc",
          "estimated_growth_rate": 0.9999970000089998,
          "frequency": 1.000003,
          "frequency_final": 0.9999970000000001,
          "frequency_other": 1.000003,
          "observed_growth_rate": 0.9999940000180001,
          "projected_frequency": 0.9999999999999998,
          "timepoint": "2022-04-01T00:00:00",
          "year": 2022
         },
         {
          "clade_membership": "53d3851",
          "estimated_growth_rate": 2.1591247722446743,
          "frequency": 0.46306,
          "frequency_final": 0.8711680000000004,
          "frequency_other": 0.46306,
          "observed_growth_rate": 1.8813285535351798,
          "projected_frequency": 0.9998043170356189,
          "timepoint": "2022-04-01T00:00:00",
          "year": 2022
         },
         {
          "clade_membership": "570d9f3",
          "estimated_growth_rate": 0.00030164684285547316,
          "frequency": 0.197894,
          "frequency_final": 0.010173999999999999,
          "frequency_other": 0.197894,
          "observed_growth_rate": 0.05141136163804865,
          "projected_frequency": 5.9694100320041006e-05,
          "timepoint": "2022-04-01T00:00:00",
          "year": 2022
         },
         {
          "clade_membership": "5a8b5f6",
          "estimated_growth_rate": 2.1591247722446743,
          "frequency": 0.46306,
          "frequency_final": 0.8711680000000004,
          "frequency_other": 0.46306,
          "observed_growth_rate": 1.8813285535351798,
          "projected_frequency": 0.9998043170356189,
          "timepoint": "2022-04-01T00:00:00",
          "year": 2022
         },
         {
          "clade_membership": "6270695",
          "estimated_growth_rate": 0.9999970000089998,
          "frequency": 1.000003,
          "frequency_final": 0.9999970000000001,
          "frequency_other": 1.000003,
          "observed_growth_rate": 0.9999940000180001,
          "projected_frequency": 0.9999999999999998,
          "timepoint": "2022-04-01T00:00:00",
          "year": 2022
         },
         {
          "clade_membership": "63fb9b5",
          "estimated_growth_rate": 2.1591247722446743,
          "frequency": 0.46306,
          "frequency_final": 0.8711680000000004,
          "frequency_other": 0.46306,
          "observed_growth_rate": 1.8813285535351798,
          "projected_frequency": 0.9998043170356189,
          "timepoint": "2022-04-01T00:00:00",
          "year": 2022
         },
         {
          "clade_membership": "670a3cd",
          "estimated_growth_rate": 2.1591247722446743,
          "frequency": 0.46306,
          "frequency_final": 0.8711680000000004,
          "frequency_other": 0.46306,
          "observed_growth_rate": 1.8813285535351798,
          "projected_frequency": 0.9998043170356189,
          "timepoint": "2022-04-01T00:00:00",
          "year": 2022
         },
         {
          "clade_membership": "670b070",
          "estimated_growth_rate": 0.0004010891170919593,
          "frequency": 0.339049,
          "frequency_final": 0.118655,
          "frequency_other": 0.339049,
          "observed_growth_rate": 0.349964164471802,
          "projected_frequency": 0.00013598886406091171,
          "timepoint": "2022-04-01T00:00:00",
          "year": 2022
         },
         {
          "clade_membership": "69ac56c",
          "estimated_growth_rate": 0.00030164684285547316,
          "frequency": 0.197894,
          "frequency_final": 0.010173999999999999,
          "frequency_other": 0.197894,
          "observed_growth_rate": 0.05141136163804865,
          "projected_frequency": 5.9694100320041006e-05,
          "timepoint": "2022-04-01T00:00:00",
          "year": 2022
         },
         {
          "clade_membership": "6fabbb5",
          "estimated_growth_rate": 0.9999970000089998,
          "frequency": 1.000003,
          "frequency_final": 0.9999970000000001,
          "frequency_other": 1.000003,
          "observed_growth_rate": 0.9999940000180001,
          "projected_frequency": 0.9999999999999998,
          "timepoint": "2022-04-01T00:00:00",
          "year": 2022
         },
         {
          "clade_membership": "764595f",
          "estimated_growth_rate": 0.0004010891170919593,
          "frequency": 0.339049,
          "frequency_final": 0.118655,
          "frequency_other": 0.339049,
          "observed_growth_rate": 0.349964164471802,
          "projected_frequency": 0.00013598886406091171,
          "timepoint": "2022-04-01T00:00:00",
          "year": 2022
         },
         {
          "clade_membership": "7a88259",
          "estimated_growth_rate": 0.9999970000089998,
          "frequency": 1.000003,
          "frequency_final": 0.9999970000000001,
          "frequency_other": 1.000003,
          "observed_growth_rate": 0.9999940000180001,
          "projected_frequency": 0.9999999999999998,
          "timepoint": "2022-04-01T00:00:00",
          "year": 2022
         },
         {
          "clade_membership": "7bd1fcd",
          "estimated_growth_rate": 0.00030164684285547316,
          "frequency": 0.197894,
          "frequency_final": 0.010173999999999999,
          "frequency_other": 0.197894,
          "observed_growth_rate": 0.05141136163804865,
          "projected_frequency": 5.9694100320041006e-05,
          "timepoint": "2022-04-01T00:00:00",
          "year": 2022
         },
         {
          "clade_membership": "7f4204a",
          "estimated_growth_rate": 0.0004010891170919593,
          "frequency": 0.339049,
          "frequency_final": 0.118655,
          "frequency_other": 0.339049,
          "observed_growth_rate": 0.349964164471802,
          "projected_frequency": 0.00013598886406091171,
          "timepoint": "2022-04-01T00:00:00",
          "year": 2022
         },
         {
          "clade_membership": "8126320",
          "estimated_growth_rate": 2.1591247722446743,
          "frequency": 0.46306,
          "frequency_final": 0.8711680000000004,
          "frequency_other": 0.46306,
          "observed_growth_rate": 1.8813285535351798,
          "projected_frequency": 0.9998043170356189,
          "timepoint": "2022-04-01T00:00:00",
          "year": 2022
         },
         {
          "clade_membership": "8544c1e",
          "estimated_growth_rate": 2.1591247722446743,
          "frequency": 0.46306,
          "frequency_final": 0.8711680000000004,
          "frequency_other": 0.46306,
          "observed_growth_rate": 1.8813285535351798,
          "projected_frequency": 0.9998043170356189,
          "timepoint": "2022-04-01T00:00:00",
          "year": 2022
         },
         {
          "clade_membership": "8727a54",
          "estimated_growth_rate": 0.9999970000089998,
          "frequency": 1.000003,
          "frequency_final": 0.9999970000000001,
          "frequency_other": 1.000003,
          "observed_growth_rate": 0.9999940000180001,
          "projected_frequency": 0.9999999999999998,
          "timepoint": "2022-04-01T00:00:00",
          "year": 2022
         },
         {
          "clade_membership": "99a1849",
          "estimated_growth_rate": 0.00030164684285547316,
          "frequency": 0.197894,
          "frequency_final": 0.010173999999999999,
          "frequency_other": 0.197894,
          "observed_growth_rate": 0.05141136163804865,
          "projected_frequency": 5.9694100320041006e-05,
          "timepoint": "2022-04-01T00:00:00",
          "year": 2022
         },
         {
          "clade_membership": "a182dc2",
          "estimated_growth_rate": 0.00030164684285547316,
          "frequency": 0.197894,
          "frequency_final": 0.010173999999999999,
          "frequency_other": 0.197894,
          "observed_growth_rate": 0.05141136163804865,
          "projected_frequency": 5.9694100320041006e-05,
          "timepoint": "2022-04-01T00:00:00",
          "year": 2022
         },
         {
          "clade_membership": "aac4331",
          "estimated_growth_rate": 0.0004010891170919593,
          "frequency": 0.339049,
          "frequency_final": 0.118655,
          "frequency_other": 0.339049,
          "observed_growth_rate": 0.349964164471802,
          "projected_frequency": 0.00013598886406091171,
          "timepoint": "2022-04-01T00:00:00",
          "year": 2022
         },
         {
          "clade_membership": "b125362",
          "estimated_growth_rate": 2.1591247722446743,
          "frequency": 0.46306,
          "frequency_final": 0.8711680000000004,
          "frequency_other": 0.46306,
          "observed_growth_rate": 1.8813285535351798,
          "projected_frequency": 0.9998043170356189,
          "timepoint": "2022-04-01T00:00:00",
          "year": 2022
         },
         {
          "clade_membership": "b2d3f6b",
          "estimated_growth_rate": 0.0004010891170919593,
          "frequency": 0.339049,
          "frequency_final": 0.118655,
          "frequency_other": 0.339049,
          "observed_growth_rate": 0.349964164471802,
          "projected_frequency": 0.00013598886406091171,
          "timepoint": "2022-04-01T00:00:00",
          "year": 2022
         },
         {
          "clade_membership": "b66b3e9",
          "estimated_growth_rate": 2.1591247722446743,
          "frequency": 0.46306,
          "frequency_final": 0.8711680000000004,
          "frequency_other": 0.46306,
          "observed_growth_rate": 1.8813285535351798,
          "projected_frequency": 0.9998043170356189,
          "timepoint": "2022-04-01T00:00:00",
          "year": 2022
         },
         {
          "clade_membership": "b673975",
          "estimated_growth_rate": 0.0004010891170919593,
          "frequency": 0.339049,
          "frequency_final": 0.118655,
          "frequency_other": 0.339049,
          "observed_growth_rate": 0.349964164471802,
          "projected_frequency": 0.00013598886406091171,
          "timepoint": "2022-04-01T00:00:00",
          "year": 2022
         },
         {
          "clade_membership": "b771746",
          "estimated_growth_rate": 2.1591247722446743,
          "frequency": 0.46306,
          "frequency_final": 0.8711680000000004,
          "frequency_other": 0.46306,
          "observed_growth_rate": 1.8813285535351798,
          "projected_frequency": 0.9998043170356189,
          "timepoint": "2022-04-01T00:00:00",
          "year": 2022
         },
         {
          "clade_membership": "bae78d3",
          "estimated_growth_rate": 0.9999970000089998,
          "frequency": 1.000003,
          "frequency_final": 0.9999970000000001,
          "frequency_other": 1.000003,
          "observed_growth_rate": 0.9999940000180001,
          "projected_frequency": 0.9999999999999998,
          "timepoint": "2022-04-01T00:00:00",
          "year": 2022
         },
         {
          "clade_membership": "bfd1faf",
          "estimated_growth_rate": 0.0004010891170919593,
          "frequency": 0.339049,
          "frequency_final": 0.118655,
          "frequency_other": 0.339049,
          "observed_growth_rate": 0.349964164471802,
          "projected_frequency": 0.00013598886406091171,
          "timepoint": "2022-04-01T00:00:00",
          "year": 2022
         },
         {
          "clade_membership": "c579310",
          "estimated_growth_rate": 0.00030164684285547316,
          "frequency": 0.197894,
          "frequency_final": 0.010173999999999999,
          "frequency_other": 0.197894,
          "observed_growth_rate": 0.05141136163804865,
          "projected_frequency": 5.9694100320041006e-05,
          "timepoint": "2022-04-01T00:00:00",
          "year": 2022
         },
         {
          "clade_membership": "c72df39",
          "estimated_growth_rate": 0.9999970000089998,
          "frequency": 1.000003,
          "frequency_final": 0.9999970000000001,
          "frequency_other": 1.000003,
          "observed_growth_rate": 0.9999940000180001,
          "projected_frequency": 0.9999999999999998,
          "timepoint": "2022-04-01T00:00:00",
          "year": 2022
         },
         {
          "clade_membership": "cbef932",
          "estimated_growth_rate": 0.9999970000089998,
          "frequency": 1.000003,
          "frequency_final": 0.9999970000000001,
          "frequency_other": 1.000003,
          "observed_growth_rate": 0.9999940000180001,
          "projected_frequency": 0.9999999999999998,
          "timepoint": "2022-04-01T00:00:00",
          "year": 2022
         },
         {
          "clade_membership": "d3aaa45",
          "estimated_growth_rate": 0.12044691131029718,
          "frequency": 0.22746200000000003,
          "frequency_final": 0.2605990000000001,
          "frequency_other": 0.22746200000000003,
          "observed_growth_rate": 1.145681476466399,
          "projected_frequency": 0.02739709534046282,
          "timepoint": "2022-04-01T00:00:00",
          "year": 2022
         },
         {
          "clade_membership": "da37a22",
          "estimated_growth_rate": 0.9999970000089998,
          "frequency": 1.000003,
          "frequency_final": 0.9999970000000001,
          "frequency_other": 1.000003,
          "observed_growth_rate": 0.9999940000180001,
          "projected_frequency": 0.9999999999999998,
          "timepoint": "2022-04-01T00:00:00",
          "year": 2022
         },
         {
          "clade_membership": "dab29ab",
          "estimated_growth_rate": 0.00030164684285547316,
          "frequency": 0.197894,
          "frequency_final": 0.010173999999999999,
          "frequency_other": 0.197894,
          "observed_growth_rate": 0.05141136163804865,
          "projected_frequency": 5.9694100320041006e-05,
          "timepoint": "2022-04-01T00:00:00",
          "year": 2022
         },
         {
          "clade_membership": "e592319",
          "estimated_growth_rate": 0.0004010891170919593,
          "frequency": 0.339049,
          "frequency_final": 0.118655,
          "frequency_other": 0.339049,
          "observed_growth_rate": 0.349964164471802,
          "projected_frequency": 0.00013598886406091171,
          "timepoint": "2022-04-01T00:00:00",
          "year": 2022
         },
         {
          "clade_membership": "e72bf28",
          "estimated_growth_rate": 0.9999970000089998,
          "frequency": 1.000003,
          "frequency_final": 0.9999970000000001,
          "frequency_other": 1.000003,
          "observed_growth_rate": 0.9999940000180001,
          "projected_frequency": 0.9999999999999998,
          "timepoint": "2022-04-01T00:00:00",
          "year": 2022
         },
         {
          "clade_membership": "eb2f804",
          "estimated_growth_rate": 0.9999970000089998,
          "frequency": 1.000003,
          "frequency_final": 0.9999970000000001,
          "frequency_other": 1.000003,
          "observed_growth_rate": 0.9999940000180001,
          "projected_frequency": 0.9999999999999998,
          "timepoint": "2022-04-01T00:00:00",
          "year": 2022
         },
         {
          "clade_membership": "f371419",
          "estimated_growth_rate": 0.00030164684285547316,
          "frequency": 0.197894,
          "frequency_final": 0.010173999999999999,
          "frequency_other": 0.197894,
          "observed_growth_rate": 0.05141136163804865,
          "projected_frequency": 5.9694100320041006e-05,
          "timepoint": "2022-04-01T00:00:00",
          "year": 2022
         },
         {
          "clade_membership": "f6d9b34",
          "estimated_growth_rate": 2.1591247722446743,
          "frequency": 0.46306,
          "frequency_final": 0.8711680000000004,
          "frequency_other": 0.46306,
          "observed_growth_rate": 1.8813285535351798,
          "projected_frequency": 0.9998043170356189,
          "timepoint": "2022-04-01T00:00:00",
          "year": 2022
         },
         {
          "clade_membership": "root",
          "estimated_growth_rate": 0.9999970000089998,
          "frequency": 1.000003,
          "frequency_final": 0.9999970000000001,
          "frequency_other": 1.000003,
          "observed_growth_rate": 0.9999940000180001,
          "projected_frequency": 0.9999999999999998,
          "timepoint": "2022-04-01T00:00:00",
          "year": 2022
         },
         {
          "clade_membership": "029c69d",
          "estimated_growth_rate": 0.8354354849375175,
          "frequency": 0.6415600000000004,
          "frequency_final": 0.9897239999999999,
          "frequency_other": 0.6415600000000004,
          "observed_growth_rate": 1.5426834590685194,
          "projected_frequency": 0.535981989716514,
          "timepoint": "2022-10-01T00:00:00",
          "year": 2022
         },
         {
          "clade_membership": "0654693",
          "estimated_growth_rate": 0.8354354849375175,
          "frequency": 0.6415600000000004,
          "frequency_final": 0.9897239999999999,
          "frequency_other": 0.6415600000000004,
          "observed_growth_rate": 1.5426834590685194,
          "projected_frequency": 0.535981989716514,
          "timepoint": "2022-10-01T00:00:00",
          "year": 2022
         },
         {
          "clade_membership": "0783f23",
          "estimated_growth_rate": 0.9999999999999996,
          "frequency": 1.0000000000000007,
          "frequency_final": 0.999991,
          "frequency_other": 1.0000000000000007,
          "observed_growth_rate": 0.9999909999999993,
          "projected_frequency": 1.0000000000000002,
          "timepoint": "2022-10-01T00:00:00",
          "year": 2022
         },
         {
          "clade_membership": "0d82b51",
          "estimated_growth_rate": 0.9999999999999996,
          "frequency": 1.0000000000000007,
          "frequency_final": 0.999991,
          "frequency_other": 1.0000000000000007,
          "observed_growth_rate": 0.9999909999999993,
          "projected_frequency": 1.0000000000000002,
          "timepoint": "2022-10-01T00:00:00",
          "year": 2022
         },
         {
          "clade_membership": "0d8bb1e",
          "estimated_growth_rate": 0.9999999999999996,
          "frequency": 1.0000000000000007,
          "frequency_final": 0.999991,
          "frequency_other": 1.0000000000000007,
          "observed_growth_rate": 0.9999909999999993,
          "projected_frequency": 1.0000000000000002,
          "timepoint": "2022-10-01T00:00:00",
          "year": 2022
         },
         {
          "clade_membership": "1bce829",
          "estimated_growth_rate": 0.9999999999999996,
          "frequency": 1.0000000000000007,
          "frequency_final": 0.999991,
          "frequency_other": 1.0000000000000007,
          "observed_growth_rate": 0.9999909999999993,
          "projected_frequency": 1.0000000000000002,
          "timepoint": "2022-10-01T00:00:00",
          "year": 2022
         },
         {
          "clade_membership": "2018235",
          "estimated_growth_rate": 0.9999999999999996,
          "frequency": 1.0000000000000007,
          "frequency_final": 0.999991,
          "frequency_other": 1.0000000000000007,
          "observed_growth_rate": 0.9999909999999993,
          "projected_frequency": 1.0000000000000002,
          "timepoint": "2022-10-01T00:00:00",
          "year": 2022
         },
         {
          "clade_membership": "217cef5",
          "estimated_growth_rate": 1.476956921347584,
          "frequency": 0.31413299999999994,
          "frequency_final": 0.010267,
          "frequency_other": 0.31413299999999994,
          "observed_growth_rate": 0.032683608535238266,
          "projected_frequency": 0.4639609085736805,
          "timepoint": "2022-10-01T00:00:00",
          "year": 2022
         },
         {
          "clade_membership": "289c480",
          "estimated_growth_rate": 0.9999999999999996,
          "frequency": 1.0000000000000007,
          "frequency_final": 0.999991,
          "frequency_other": 1.0000000000000007,
          "observed_growth_rate": 0.9999909999999993,
          "projected_frequency": 1.0000000000000002,
          "timepoint": "2022-10-01T00:00:00",
          "year": 2022
         },
         {
          "clade_membership": "2edcf74",
          "estimated_growth_rate": 0.8354354849375175,
          "frequency": 0.6415600000000004,
          "frequency_final": 0.9897239999999999,
          "frequency_other": 0.6415600000000004,
          "observed_growth_rate": 1.5426834590685194,
          "projected_frequency": 0.535981989716514,
          "timepoint": "2022-10-01T00:00:00",
          "year": 2022
         },
         {
          "clade_membership": "30c6c1b",
          "estimated_growth_rate": 0.9999999999999996,
          "frequency": 1.0000000000000007,
          "frequency_final": 0.999991,
          "frequency_other": 1.0000000000000007,
          "observed_growth_rate": 0.9999909999999993,
          "projected_frequency": 1.0000000000000002,
          "timepoint": "2022-10-01T00:00:00",
          "year": 2022
         },
         {
          "clade_membership": "3aad673",
          "estimated_growth_rate": 0.9999999999999996,
          "frequency": 1.0000000000000007,
          "frequency_final": 0.999991,
          "frequency_other": 1.0000000000000007,
          "observed_growth_rate": 0.9999909999999993,
          "projected_frequency": 1.0000000000000002,
          "timepoint": "2022-10-01T00:00:00",
          "year": 2022
         },
         {
          "clade_membership": "3f3f0ca",
          "estimated_growth_rate": 0.9999999999999996,
          "frequency": 1.0000000000000007,
          "frequency_final": 0.999991,
          "frequency_other": 1.0000000000000007,
          "observed_growth_rate": 0.9999909999999993,
          "projected_frequency": 1.0000000000000002,
          "timepoint": "2022-10-01T00:00:00",
          "year": 2022
         },
         {
          "clade_membership": "4b52cfb",
          "estimated_growth_rate": 1.476956921347584,
          "frequency": 0.31413299999999994,
          "frequency_final": 0.010267,
          "frequency_other": 0.31413299999999994,
          "observed_growth_rate": 0.032683608535238266,
          "projected_frequency": 0.4639609085736805,
          "timepoint": "2022-10-01T00:00:00",
          "year": 2022
         },
         {
          "clade_membership": "4eae73a",
          "estimated_growth_rate": 0.8354354849375175,
          "frequency": 0.6415600000000004,
          "frequency_final": 0.9897239999999999,
          "frequency_other": 0.6415600000000004,
          "observed_growth_rate": 1.5426834590685194,
          "projected_frequency": 0.535981989716514,
          "timepoint": "2022-10-01T00:00:00",
          "year": 2022
         },
         {
          "clade_membership": "53320bc",
          "estimated_growth_rate": 0.9999999999999996,
          "frequency": 1.0000000000000007,
          "frequency_final": 0.999991,
          "frequency_other": 1.0000000000000007,
          "observed_growth_rate": 0.9999909999999993,
          "projected_frequency": 1.0000000000000002,
          "timepoint": "2022-10-01T00:00:00",
          "year": 2022
         },
         {
          "clade_membership": "53d3851",
          "estimated_growth_rate": 0.8354354849375175,
          "frequency": 0.6415600000000004,
          "frequency_final": 0.9897239999999999,
          "frequency_other": 0.6415600000000004,
          "observed_growth_rate": 1.5426834590685194,
          "projected_frequency": 0.535981989716514,
          "timepoint": "2022-10-01T00:00:00",
          "year": 2022
         },
         {
          "clade_membership": "5a8b5f6",
          "estimated_growth_rate": 0.8354354849375175,
          "frequency": 0.6415600000000004,
          "frequency_final": 0.9897239999999999,
          "frequency_other": 0.6415600000000004,
          "observed_growth_rate": 1.5426834590685194,
          "projected_frequency": 0.535981989716514,
          "timepoint": "2022-10-01T00:00:00",
          "year": 2022
         },
         {
          "clade_membership": "6270695",
          "estimated_growth_rate": 0.9999999999999996,
          "frequency": 1.0000000000000007,
          "frequency_final": 0.999991,
          "frequency_other": 1.0000000000000007,
          "observed_growth_rate": 0.9999909999999993,
          "projected_frequency": 1.0000000000000002,
          "timepoint": "2022-10-01T00:00:00",
          "year": 2022
         },
         {
          "clade_membership": "63fb9b5",
          "estimated_growth_rate": 0.8354354849375175,
          "frequency": 0.6415600000000004,
          "frequency_final": 0.9897239999999999,
          "frequency_other": 0.6415600000000004,
          "observed_growth_rate": 1.5426834590685194,
          "projected_frequency": 0.535981989716514,
          "timepoint": "2022-10-01T00:00:00",
          "year": 2022
         },
         {
          "clade_membership": "670a3cd",
          "estimated_growth_rate": 0.8354354849375175,
          "frequency": 0.6415600000000004,
          "frequency_final": 0.9897239999999999,
          "frequency_other": 0.6415600000000004,
          "observed_growth_rate": 1.5426834590685194,
          "projected_frequency": 0.535981989716514,
          "timepoint": "2022-10-01T00:00:00",
          "year": 2022
         },
         {
          "clade_membership": "670b070",
          "estimated_growth_rate": 1.476956921347584,
          "frequency": 0.31413299999999994,
          "frequency_final": 0.010267,
          "frequency_other": 0.31413299999999994,
          "observed_growth_rate": 0.032683608535238266,
          "projected_frequency": 0.4639609085736805,
          "timepoint": "2022-10-01T00:00:00",
          "year": 2022
         },
         {
          "clade_membership": "6fabbb5",
          "estimated_growth_rate": 0.9999999999999996,
          "frequency": 1.0000000000000007,
          "frequency_final": 0.999991,
          "frequency_other": 1.0000000000000007,
          "observed_growth_rate": 0.9999909999999993,
          "projected_frequency": 1.0000000000000002,
          "timepoint": "2022-10-01T00:00:00",
          "year": 2022
         },
         {
          "clade_membership": "764595f",
          "estimated_growth_rate": 1.476956921347584,
          "frequency": 0.31413299999999994,
          "frequency_final": 0.010267,
          "frequency_other": 0.31413299999999994,
          "observed_growth_rate": 0.032683608535238266,
          "projected_frequency": 0.4639609085736805,
          "timepoint": "2022-10-01T00:00:00",
          "year": 2022
         },
         {
          "clade_membership": "7a88259",
          "estimated_growth_rate": 0.9999999999999996,
          "frequency": 1.0000000000000007,
          "frequency_final": 0.999991,
          "frequency_other": 1.0000000000000007,
          "observed_growth_rate": 0.9999909999999993,
          "projected_frequency": 1.0000000000000002,
          "timepoint": "2022-10-01T00:00:00",
          "year": 2022
         },
         {
          "clade_membership": "7f4204a",
          "estimated_growth_rate": 1.476956921347584,
          "frequency": 0.31413299999999994,
          "frequency_final": 0.010267,
          "frequency_other": 0.31413299999999994,
          "observed_growth_rate": 0.032683608535238266,
          "projected_frequency": 0.4639609085736805,
          "timepoint": "2022-10-01T00:00:00",
          "year": 2022
         },
         {
          "clade_membership": "8126320",
          "estimated_growth_rate": 0.8354354849375175,
          "frequency": 0.6415600000000004,
          "frequency_final": 0.9897239999999999,
          "frequency_other": 0.6415600000000004,
          "observed_growth_rate": 1.5426834590685194,
          "projected_frequency": 0.535981989716514,
          "timepoint": "2022-10-01T00:00:00",
          "year": 2022
         },
         {
          "clade_membership": "8544c1e",
          "estimated_growth_rate": 0.8354354849375175,
          "frequency": 0.6415600000000004,
          "frequency_final": 0.9897239999999999,
          "frequency_other": 0.6415600000000004,
          "observed_growth_rate": 1.5426834590685194,
          "projected_frequency": 0.535981989716514,
          "timepoint": "2022-10-01T00:00:00",
          "year": 2022
         },
         {
          "clade_membership": "8727a54",
          "estimated_growth_rate": 0.9999999999999996,
          "frequency": 1.0000000000000007,
          "frequency_final": 0.999991,
          "frequency_other": 1.0000000000000007,
          "observed_growth_rate": 0.9999909999999993,
          "projected_frequency": 1.0000000000000002,
          "timepoint": "2022-10-01T00:00:00",
          "year": 2022
         },
         {
          "clade_membership": "aac4331",
          "estimated_growth_rate": 1.476956921347584,
          "frequency": 0.31413299999999994,
          "frequency_final": 0.010267,
          "frequency_other": 0.31413299999999994,
          "observed_growth_rate": 0.032683608535238266,
          "projected_frequency": 0.4639609085736805,
          "timepoint": "2022-10-01T00:00:00",
          "year": 2022
         },
         {
          "clade_membership": "b125362",
          "estimated_growth_rate": 0.8354354849375175,
          "frequency": 0.6415600000000004,
          "frequency_final": 0.9897239999999999,
          "frequency_other": 0.6415600000000004,
          "observed_growth_rate": 1.5426834590685194,
          "projected_frequency": 0.535981989716514,
          "timepoint": "2022-10-01T00:00:00",
          "year": 2022
         },
         {
          "clade_membership": "b2d3f6b",
          "estimated_growth_rate": 1.476956921347584,
          "frequency": 0.31413299999999994,
          "frequency_final": 0.010267,
          "frequency_other": 0.31413299999999994,
          "observed_growth_rate": 0.032683608535238266,
          "projected_frequency": 0.4639609085736805,
          "timepoint": "2022-10-01T00:00:00",
          "year": 2022
         },
         {
          "clade_membership": "b66b3e9",
          "estimated_growth_rate": 0.8354354849375175,
          "frequency": 0.6415600000000004,
          "frequency_final": 0.9897239999999999,
          "frequency_other": 0.6415600000000004,
          "observed_growth_rate": 1.5426834590685194,
          "projected_frequency": 0.535981989716514,
          "timepoint": "2022-10-01T00:00:00",
          "year": 2022
         },
         {
          "clade_membership": "b673975",
          "estimated_growth_rate": 1.476956921347584,
          "frequency": 0.31413299999999994,
          "frequency_final": 0.010267,
          "frequency_other": 0.31413299999999994,
          "observed_growth_rate": 0.032683608535238266,
          "projected_frequency": 0.4639609085736805,
          "timepoint": "2022-10-01T00:00:00",
          "year": 2022
         },
         {
          "clade_membership": "b771746",
          "estimated_growth_rate": 0.8354354849375175,
          "frequency": 0.6415600000000004,
          "frequency_final": 0.9897239999999999,
          "frequency_other": 0.6415600000000004,
          "observed_growth_rate": 1.5426834590685194,
          "projected_frequency": 0.535981989716514,
          "timepoint": "2022-10-01T00:00:00",
          "year": 2022
         },
         {
          "clade_membership": "bae78d3",
          "estimated_growth_rate": 0.9999999999999996,
          "frequency": 1.0000000000000007,
          "frequency_final": 0.999991,
          "frequency_other": 1.0000000000000007,
          "observed_growth_rate": 0.9999909999999993,
          "projected_frequency": 1.0000000000000002,
          "timepoint": "2022-10-01T00:00:00",
          "year": 2022
         },
         {
          "clade_membership": "bfd1faf",
          "estimated_growth_rate": 1.476956921347584,
          "frequency": 0.31413299999999994,
          "frequency_final": 0.010267,
          "frequency_other": 0.31413299999999994,
          "observed_growth_rate": 0.032683608535238266,
          "projected_frequency": 0.4639609085736805,
          "timepoint": "2022-10-01T00:00:00",
          "year": 2022
         },
         {
          "clade_membership": "c72df39",
          "estimated_growth_rate": 0.9999999999999996,
          "frequency": 1.0000000000000007,
          "frequency_final": 0.999991,
          "frequency_other": 1.0000000000000007,
          "observed_growth_rate": 0.9999909999999993,
          "projected_frequency": 1.0000000000000002,
          "timepoint": "2022-10-01T00:00:00",
          "year": 2022
         },
         {
          "clade_membership": "cbef932",
          "estimated_growth_rate": 0.9999999999999996,
          "frequency": 1.0000000000000007,
          "frequency_final": 0.999991,
          "frequency_other": 1.0000000000000007,
          "observed_growth_rate": 0.9999909999999993,
          "projected_frequency": 1.0000000000000002,
          "timepoint": "2022-10-01T00:00:00",
          "year": 2022
         },
         {
          "clade_membership": "cc789e1",
          "estimated_growth_rate": 2.846324890530757,
          "frequency": 0.16088899999999998,
          "frequency_final": 1e-06,
          "frequency_other": 0.16088899999999998,
          "observed_growth_rate": 6.215465320811243e-06,
          "projected_frequency": 0.4579423653126029,
          "timepoint": "2022-10-01T00:00:00",
          "year": 2022
         },
         {
          "clade_membership": "d3aaa45",
          "estimated_growth_rate": 0.0023154537549655444,
          "frequency": 0.180386,
          "frequency_final": 0.110795,
          "frequency_other": 0.180386,
          "observed_growth_rate": 0.6142106371891389,
          "projected_frequency": 0.0004176754410432147,
          "timepoint": "2022-10-01T00:00:00",
          "year": 2022
         },
         {
          "clade_membership": "da37a22",
          "estimated_growth_rate": 0.9999999999999996,
          "frequency": 1.0000000000000007,
          "frequency_final": 0.999991,
          "frequency_other": 1.0000000000000007,
          "observed_growth_rate": 0.9999909999999993,
          "projected_frequency": 1.0000000000000002,
          "timepoint": "2022-10-01T00:00:00",
          "year": 2022
         },
         {
          "clade_membership": "e592319",
          "estimated_growth_rate": 1.476956921347584,
          "frequency": 0.31413299999999994,
          "frequency_final": 0.010267,
          "frequency_other": 0.31413299999999994,
          "observed_growth_rate": 0.032683608535238266,
          "projected_frequency": 0.4639609085736805,
          "timepoint": "2022-10-01T00:00:00",
          "year": 2022
         },
         {
          "clade_membership": "e72bf28",
          "estimated_growth_rate": 0.9999999999999996,
          "frequency": 1.0000000000000007,
          "frequency_final": 0.999991,
          "frequency_other": 1.0000000000000007,
          "observed_growth_rate": 0.9999909999999993,
          "projected_frequency": 1.0000000000000002,
          "timepoint": "2022-10-01T00:00:00",
          "year": 2022
         },
         {
          "clade_membership": "eb2f804",
          "estimated_growth_rate": 0.9999999999999996,
          "frequency": 1.0000000000000007,
          "frequency_final": 0.999991,
          "frequency_other": 1.0000000000000007,
          "observed_growth_rate": 0.9999909999999993,
          "projected_frequency": 1.0000000000000002,
          "timepoint": "2022-10-01T00:00:00",
          "year": 2022
         },
         {
          "clade_membership": "f6d9b34",
          "estimated_growth_rate": 0.8354354849375175,
          "frequency": 0.6415600000000004,
          "frequency_final": 0.9897239999999999,
          "frequency_other": 0.6415600000000004,
          "observed_growth_rate": 1.5426834590685194,
          "projected_frequency": 0.535981989716514,
          "timepoint": "2022-10-01T00:00:00",
          "year": 2022
         },
         {
          "clade_membership": "root",
          "estimated_growth_rate": 0.9999999999999996,
          "frequency": 1.0000000000000007,
          "frequency_final": 0.999991,
          "frequency_other": 1.0000000000000007,
          "observed_growth_rate": 0.9999909999999993,
          "projected_frequency": 1.0000000000000002,
          "timepoint": "2022-10-01T00:00:00",
          "year": 2022
         },
         {
          "clade_membership": "029c69d",
          "estimated_growth_rate": 1.147701622340274,
          "frequency": 0.8711680000000004,
          "frequency_final": 1.0000030000000002,
          "frequency_other": 0.8711680000000004,
          "observed_growth_rate": 1.1478876634587125,
          "projected_frequency": 0.9998409269309324,
          "timepoint": "2023-04-01T00:00:00",
          "year": 2023
         },
         {
          "clade_membership": "0654693",
          "estimated_growth_rate": 1.147701622340274,
          "frequency": 0.8711680000000004,
          "frequency_final": 1.0000030000000002,
          "frequency_other": 0.8711680000000004,
          "observed_growth_rate": 1.1478876634587125,
          "projected_frequency": 0.9998409269309324,
          "timepoint": "2023-04-01T00:00:00",
          "year": 2023
         },
         {
          "clade_membership": "0783f23",
          "estimated_growth_rate": 1.0000030000089994,
          "frequency": 0.9999970000000001,
          "frequency_final": 1.0000030000000002,
          "frequency_other": 0.9999970000000001,
          "observed_growth_rate": 1.0000060000180002,
          "projected_frequency": 0.9999999999999996,
          "timepoint": "2023-04-01T00:00:00",
          "year": 2023
         },
         {
          "clade_membership": "0d82b51",
          "estimated_growth_rate": 1.0000030000089994,
          "frequency": 0.9999970000000001,
          "frequency_final": 1.0000030000000002,
          "frequency_other": 0.9999970000000001,
          "observed_growth_rate": 1.0000060000180002,
          "projected_frequency": 0.9999999999999996,
          "timepoint": "2023-04-01T00:00:00",
          "year": 2023
         },
         {
          "clade_membership": "0d8bb1e",
          "estimated_growth_rate": 1.0000030000089994,
          "frequency": 0.9999970000000001,
          "frequency_final": 1.0000030000000002,
          "frequency_other": 0.9999970000000001,
          "observed_growth_rate": 1.0000060000180002,
          "projected_frequency": 0.9999999999999996,
          "timepoint": "2023-04-01T00:00:00",
          "year": 2023
         },
         {
          "clade_membership": "1bce829",
          "estimated_growth_rate": 1.0000030000089994,
          "frequency": 0.9999970000000001,
          "frequency_final": 1.0000030000000002,
          "frequency_other": 0.9999970000000001,
          "observed_growth_rate": 1.0000060000180002,
          "projected_frequency": 0.9999999999999996,
          "timepoint": "2023-04-01T00:00:00",
          "year": 2023
         },
         {
          "clade_membership": "2018235",
          "estimated_growth_rate": 1.0000030000089994,
          "frequency": 0.9999970000000001,
          "frequency_final": 1.0000030000000002,
          "frequency_other": 0.9999970000000001,
          "observed_growth_rate": 1.0000060000180002,
          "projected_frequency": 0.9999999999999996,
          "timepoint": "2023-04-01T00:00:00",
          "year": 2023
         },
         {
          "clade_membership": "289c480",
          "estimated_growth_rate": 1.0000030000089994,
          "frequency": 0.9999970000000001,
          "frequency_final": 1.0000030000000002,
          "frequency_other": 0.9999970000000001,
          "observed_growth_rate": 1.0000060000180002,
          "projected_frequency": 0.9999999999999996,
          "timepoint": "2023-04-01T00:00:00",
          "year": 2023
         },
         {
          "clade_membership": "2edcf74",
          "estimated_growth_rate": 1.147701622340274,
          "frequency": 0.8711680000000004,
          "frequency_final": 1.0000030000000002,
          "frequency_other": 0.8711680000000004,
          "observed_growth_rate": 1.1478876634587125,
          "projected_frequency": 0.9998409269309324,
          "timepoint": "2023-04-01T00:00:00",
          "year": 2023
         },
         {
          "clade_membership": "30c6c1b",
          "estimated_growth_rate": 1.0000030000089994,
          "frequency": 0.9999970000000001,
          "frequency_final": 1.0000030000000002,
          "frequency_other": 0.9999970000000001,
          "observed_growth_rate": 1.0000060000180002,
          "projected_frequency": 0.9999999999999996,
          "timepoint": "2023-04-01T00:00:00",
          "year": 2023
         },
         {
          "clade_membership": "3aad673",
          "estimated_growth_rate": 1.0000030000089994,
          "frequency": 0.9999970000000001,
          "frequency_final": 1.0000030000000002,
          "frequency_other": 0.9999970000000001,
          "observed_growth_rate": 1.0000060000180002,
          "projected_frequency": 0.9999999999999996,
          "timepoint": "2023-04-01T00:00:00",
          "year": 2023
         },
         {
          "clade_membership": "3f3f0ca",
          "estimated_growth_rate": 1.0000030000089994,
          "frequency": 0.9999970000000001,
          "frequency_final": 1.0000030000000002,
          "frequency_other": 0.9999970000000001,
          "observed_growth_rate": 1.0000060000180002,
          "projected_frequency": 0.9999999999999996,
          "timepoint": "2023-04-01T00:00:00",
          "year": 2023
         },
         {
          "clade_membership": "4eae73a",
          "estimated_growth_rate": 1.147701622340274,
          "frequency": 0.8711680000000004,
          "frequency_final": 1.0000030000000002,
          "frequency_other": 0.8711680000000004,
          "observed_growth_rate": 1.1478876634587125,
          "projected_frequency": 0.9998409269309324,
          "timepoint": "2023-04-01T00:00:00",
          "year": 2023
         },
         {
          "clade_membership": "53320bc",
          "estimated_growth_rate": 1.0000030000089994,
          "frequency": 0.9999970000000001,
          "frequency_final": 1.0000030000000002,
          "frequency_other": 0.9999970000000001,
          "observed_growth_rate": 1.0000060000180002,
          "projected_frequency": 0.9999999999999996,
          "timepoint": "2023-04-01T00:00:00",
          "year": 2023
         },
         {
          "clade_membership": "53d3851",
          "estimated_growth_rate": 1.147701622340274,
          "frequency": 0.8711680000000004,
          "frequency_final": 1.0000030000000002,
          "frequency_other": 0.8711680000000004,
          "observed_growth_rate": 1.1478876634587125,
          "projected_frequency": 0.9998409269309324,
          "timepoint": "2023-04-01T00:00:00",
          "year": 2023
         },
         {
          "clade_membership": "57bbb79",
          "estimated_growth_rate": 0.01216749632507842,
          "frequency": 0.277782,
          "frequency_final": 0.9429920000000002,
          "frequency_other": 0.277782,
          "observed_growth_rate": 3.3947196002620768,
          "projected_frequency": 0.0033799114641729334,
          "timepoint": "2023-04-01T00:00:00",
          "year": 2023
         },
         {
          "clade_membership": "5a8b5f6",
          "estimated_growth_rate": 1.147701622340274,
          "frequency": 0.8711680000000004,
          "frequency_final": 1.0000030000000002,
          "frequency_other": 0.8711680000000004,
          "observed_growth_rate": 1.1478876634587125,
          "projected_frequency": 0.9998409269309324,
          "timepoint": "2023-04-01T00:00:00",
          "year": 2023
         },
         {
          "clade_membership": "6270695",
          "estimated_growth_rate": 1.0000030000089994,
          "frequency": 0.9999970000000001,
          "frequency_final": 1.0000030000000002,
          "frequency_other": 0.9999970000000001,
          "observed_growth_rate": 1.0000060000180002,
          "projected_frequency": 0.9999999999999996,
          "timepoint": "2023-04-01T00:00:00",
          "year": 2023
         },
         {
          "clade_membership": "63fb9b5",
          "estimated_growth_rate": 1.147701622340274,
          "frequency": 0.8711680000000004,
          "frequency_final": 1.0000030000000002,
          "frequency_other": 0.8711680000000004,
          "observed_growth_rate": 1.1478876634587125,
          "projected_frequency": 0.9998409269309324,
          "timepoint": "2023-04-01T00:00:00",
          "year": 2023
         },
         {
          "clade_membership": "670a3cd",
          "estimated_growth_rate": 1.147701622340274,
          "frequency": 0.8711680000000004,
          "frequency_final": 1.0000030000000002,
          "frequency_other": 0.8711680000000004,
          "observed_growth_rate": 1.1478876634587125,
          "projected_frequency": 0.9998409269309324,
          "timepoint": "2023-04-01T00:00:00",
          "year": 2023
         },
         {
          "clade_membership": "6fabbb5",
          "estimated_growth_rate": 1.0000030000089994,
          "frequency": 0.9999970000000001,
          "frequency_final": 1.0000030000000002,
          "frequency_other": 0.9999970000000001,
          "observed_growth_rate": 1.0000060000180002,
          "projected_frequency": 0.9999999999999996,
          "timepoint": "2023-04-01T00:00:00",
          "year": 2023
         },
         {
          "clade_membership": "7a88259",
          "estimated_growth_rate": 1.0000030000089994,
          "frequency": 0.9999970000000001,
          "frequency_final": 1.0000030000000002,
          "frequency_other": 0.9999970000000001,
          "observed_growth_rate": 1.0000060000180002,
          "projected_frequency": 0.9999999999999996,
          "timepoint": "2023-04-01T00:00:00",
          "year": 2023
         },
         {
          "clade_membership": "7bea6f6",
          "estimated_growth_rate": 0.016147415984195283,
          "frequency": 0.19562700000000002,
          "frequency_final": 0.819373,
          "frequency_other": 0.19562700000000002,
          "observed_growth_rate": 4.188445357747141,
          "projected_frequency": 0.003158870546740171,
          "timepoint": "2023-04-01T00:00:00",
          "year": 2023
         },
         {
          "clade_membership": "8126320",
          "estimated_growth_rate": 1.147701622340274,
          "frequency": 0.8711680000000004,
          "frequency_final": 1.0000030000000002,
          "frequency_other": 0.8711680000000004,
          "observed_growth_rate": 1.1478876634587125,
          "projected_frequency": 0.9998409269309324,
          "timepoint": "2023-04-01T00:00:00",
          "year": 2023
         },
         {
          "clade_membership": "8544c1e",
          "estimated_growth_rate": 1.147701622340274,
          "frequency": 0.8711680000000004,
          "frequency_final": 1.0000030000000002,
          "frequency_other": 0.8711680000000004,
          "observed_growth_rate": 1.1478876634587125,
          "projected_frequency": 0.9998409269309324,
          "timepoint": "2023-04-01T00:00:00",
          "year": 2023
         },
         {
          "clade_membership": "8727a54",
          "estimated_growth_rate": 1.0000030000089994,
          "frequency": 0.9999970000000001,
          "frequency_final": 1.0000030000000002,
          "frequency_other": 0.9999970000000001,
          "observed_growth_rate": 1.0000060000180002,
          "projected_frequency": 0.9999999999999996,
          "timepoint": "2023-04-01T00:00:00",
          "year": 2023
         },
         {
          "clade_membership": "b125362",
          "estimated_growth_rate": 1.147701622340274,
          "frequency": 0.8711680000000004,
          "frequency_final": 1.0000030000000002,
          "frequency_other": 0.8711680000000004,
          "observed_growth_rate": 1.1478876634587125,
          "projected_frequency": 0.9998409269309324,
          "timepoint": "2023-04-01T00:00:00",
          "year": 2023
         },
         {
          "clade_membership": "b66b3e9",
          "estimated_growth_rate": 1.147701622340274,
          "frequency": 0.8711680000000004,
          "frequency_final": 1.0000030000000002,
          "frequency_other": 0.8711680000000004,
          "observed_growth_rate": 1.1478876634587125,
          "projected_frequency": 0.9998409269309324,
          "timepoint": "2023-04-01T00:00:00",
          "year": 2023
         },
         {
          "clade_membership": "b771746",
          "estimated_growth_rate": 1.147701622340274,
          "frequency": 0.8711680000000004,
          "frequency_final": 1.0000030000000002,
          "frequency_other": 0.8711680000000004,
          "observed_growth_rate": 1.1478876634587125,
          "projected_frequency": 0.9998409269309324,
          "timepoint": "2023-04-01T00:00:00",
          "year": 2023
         },
         {
          "clade_membership": "bae78d3",
          "estimated_growth_rate": 1.0000030000089994,
          "frequency": 0.9999970000000001,
          "frequency_final": 1.0000030000000002,
          "frequency_other": 0.9999970000000001,
          "observed_growth_rate": 1.0000060000180002,
          "projected_frequency": 0.9999999999999996,
          "timepoint": "2023-04-01T00:00:00",
          "year": 2023
         },
         {
          "clade_membership": "c72df39",
          "estimated_growth_rate": 1.0000030000089994,
          "frequency": 0.9999970000000001,
          "frequency_final": 1.0000030000000002,
          "frequency_other": 0.9999970000000001,
          "observed_growth_rate": 1.0000060000180002,
          "projected_frequency": 0.9999999999999996,
          "timepoint": "2023-04-01T00:00:00",
          "year": 2023
         },
         {
          "clade_membership": "cbef932",
          "estimated_growth_rate": 1.0000030000089994,
          "frequency": 0.9999970000000001,
          "frequency_final": 1.0000030000000002,
          "frequency_other": 0.9999970000000001,
          "observed_growth_rate": 1.0000060000180002,
          "projected_frequency": 0.9999999999999996,
          "timepoint": "2023-04-01T00:00:00",
          "year": 2023
         },
         {
          "clade_membership": "d3aaa45",
          "estimated_growth_rate": 0.006497147562493358,
          "frequency": 0.2605990000000001,
          "frequency_final": 0.033116999999999994,
          "frequency_other": 0.2605990000000001,
          "observed_growth_rate": 0.12708030345473306,
          "projected_frequency": 0.0016931501576382072,
          "timepoint": "2023-04-01T00:00:00",
          "year": 2023
         },
         {
          "clade_membership": "da37a22",
          "estimated_growth_rate": 1.0000030000089994,
          "frequency": 0.9999970000000001,
          "frequency_final": 1.0000030000000002,
          "frequency_other": 0.9999970000000001,
          "observed_growth_rate": 1.0000060000180002,
          "projected_frequency": 0.9999999999999996,
          "timepoint": "2023-04-01T00:00:00",
          "year": 2023
         },
         {
          "clade_membership": "e72bf28",
          "estimated_growth_rate": 1.0000030000089994,
          "frequency": 0.9999970000000001,
          "frequency_final": 1.0000030000000002,
          "frequency_other": 0.9999970000000001,
          "observed_growth_rate": 1.0000060000180002,
          "projected_frequency": 0.9999999999999996,
          "timepoint": "2023-04-01T00:00:00",
          "year": 2023
         },
         {
          "clade_membership": "eb2f804",
          "estimated_growth_rate": 1.0000030000089994,
          "frequency": 0.9999970000000001,
          "frequency_final": 1.0000030000000002,
          "frequency_other": 0.9999970000000001,
          "observed_growth_rate": 1.0000060000180002,
          "projected_frequency": 0.9999999999999996,
          "timepoint": "2023-04-01T00:00:00",
          "year": 2023
         },
         {
          "clade_membership": "f263904",
          "estimated_growth_rate": 0.01060176379422847,
          "frequency": 0.3515809999999999,
          "frequency_final": 0.9430450000000001,
          "frequency_other": 0.3515809999999999,
          "observed_growth_rate": 2.6822979626316563,
          "projected_frequency": 0.0037273787165386387,
          "timepoint": "2023-04-01T00:00:00",
          "year": 2023
         },
         {
          "clade_membership": "f6d9b34",
          "estimated_growth_rate": 1.147701622340274,
          "frequency": 0.8711680000000004,
          "frequency_final": 1.0000030000000002,
          "frequency_other": 0.8711680000000004,
          "observed_growth_rate": 1.1478876634587125,
          "projected_frequency": 0.9998409269309324,
          "timepoint": "2023-04-01T00:00:00",
          "year": 2023
         },
         {
          "clade_membership": "root",
          "estimated_growth_rate": 1.0000030000089994,
          "frequency": 0.9999970000000001,
          "frequency_final": 1.0000030000000002,
          "frequency_other": 0.9999970000000001,
          "observed_growth_rate": 1.0000060000180002,
          "projected_frequency": 0.9999999999999996,
          "timepoint": "2023-04-01T00:00:00",
          "year": 2023
         },
         {
          "clade_membership": "029c69d",
          "estimated_growth_rate": 1.0103700601809023,
          "frequency": 0.9897239999999999,
          "frequency_final": 1.000008,
          "frequency_other": 0.9897239999999999,
          "observed_growth_rate": 1.0103907756101702,
          "projected_frequency": 0.9999874974424832,
          "timepoint": "2023-10-01T00:00:00",
          "year": 2023
         },
         {
          "clade_membership": "0654693",
          "estimated_growth_rate": 1.0103700601809023,
          "frequency": 0.9897239999999999,
          "frequency_final": 1.000008,
          "frequency_other": 0.9897239999999999,
          "observed_growth_rate": 1.0103907756101702,
          "projected_frequency": 0.9999874974424832,
          "timepoint": "2023-10-01T00:00:00",
          "year": 2023
         },
         {
          "clade_membership": "0783f23",
          "estimated_growth_rate": 1.000009000081001,
          "frequency": 0.999991,
          "frequency_final": 1.000008,
          "frequency_other": 0.999991,
          "observed_growth_rate": 1.0000170001530013,
          "projected_frequency": 1.0000000000000002,
          "timepoint": "2023-10-01T00:00:00",
          "year": 2023
         },
         {
          "clade_membership": "0d82b51",
          "estimated_growth_rate": 1.000009000081001,
          "frequency": 0.999991,
          "frequency_final": 1.000008,
          "frequency_other": 0.999991,
          "observed_growth_rate": 1.0000170001530013,
          "projected_frequency": 1.0000000000000002,
          "timepoint": "2023-10-01T00:00:00",
          "year": 2023
         },
         {
          "clade_membership": "0d8bb1e",
          "estimated_growth_rate": 1.000009000081001,
          "frequency": 0.999991,
          "frequency_final": 1.000008,
          "frequency_other": 0.999991,
          "observed_growth_rate": 1.0000170001530013,
          "projected_frequency": 1.0000000000000002,
          "timepoint": "2023-10-01T00:00:00",
          "year": 2023
         },
         {
          "clade_membership": "1bce829",
          "estimated_growth_rate": 1.000009000081001,
          "frequency": 0.999991,
          "frequency_final": 1.000008,
          "frequency_other": 0.999991,
          "observed_growth_rate": 1.0000170001530013,
          "projected_frequency": 1.0000000000000002,
          "timepoint": "2023-10-01T00:00:00",
          "year": 2023
         },
         {
          "clade_membership": "2018235",
          "estimated_growth_rate": 1.000009000081001,
          "frequency": 0.999991,
          "frequency_final": 1.000008,
          "frequency_other": 0.999991,
          "observed_growth_rate": 1.0000170001530013,
          "projected_frequency": 1.0000000000000002,
          "timepoint": "2023-10-01T00:00:00",
          "year": 2023
         },
         {
          "clade_membership": "289c480",
          "estimated_growth_rate": 1.000009000081001,
          "frequency": 0.999991,
          "frequency_final": 1.000008,
          "frequency_other": 0.999991,
          "observed_growth_rate": 1.0000170001530013,
          "projected_frequency": 1.0000000000000002,
          "timepoint": "2023-10-01T00:00:00",
          "year": 2023
         },
         {
          "clade_membership": "2edcf74",
          "estimated_growth_rate": 1.0103700601809023,
          "frequency": 0.9897239999999999,
          "frequency_final": 1.000008,
          "frequency_other": 0.9897239999999999,
          "observed_growth_rate": 1.0103907756101702,
          "projected_frequency": 0.9999874974424832,
          "timepoint": "2023-10-01T00:00:00",
          "year": 2023
         },
         {
          "clade_membership": "30c6c1b",
          "estimated_growth_rate": 1.000009000081001,
          "frequency": 0.999991,
          "frequency_final": 1.000008,
          "frequency_other": 0.999991,
          "observed_growth_rate": 1.0000170001530013,
          "projected_frequency": 1.0000000000000002,
          "timepoint": "2023-10-01T00:00:00",
          "year": 2023
         },
         {
          "clade_membership": "3aad673",
          "estimated_growth_rate": 1.000009000081001,
          "frequency": 0.999991,
          "frequency_final": 1.000008,
          "frequency_other": 0.999991,
          "observed_growth_rate": 1.0000170001530013,
          "projected_frequency": 1.0000000000000002,
          "timepoint": "2023-10-01T00:00:00",
          "year": 2023
         },
         {
          "clade_membership": "3f3f0ca",
          "estimated_growth_rate": 1.000009000081001,
          "frequency": 0.999991,
          "frequency_final": 1.000008,
          "frequency_other": 0.999991,
          "observed_growth_rate": 1.0000170001530013,
          "projected_frequency": 1.0000000000000002,
          "timepoint": "2023-10-01T00:00:00",
          "year": 2023
         },
         {
          "clade_membership": "4eae73a",
          "estimated_growth_rate": 1.0103700601809023,
          "frequency": 0.9897239999999999,
          "frequency_final": 1.000008,
          "frequency_other": 0.9897239999999999,
          "observed_growth_rate": 1.0103907756101702,
          "projected_frequency": 0.9999874974424832,
          "timepoint": "2023-10-01T00:00:00",
          "year": 2023
         },
         {
          "clade_membership": "53320bc",
          "estimated_growth_rate": 1.000009000081001,
          "frequency": 0.999991,
          "frequency_final": 1.000008,
          "frequency_other": 0.999991,
          "observed_growth_rate": 1.0000170001530013,
          "projected_frequency": 1.0000000000000002,
          "timepoint": "2023-10-01T00:00:00",
          "year": 2023
         },
         {
          "clade_membership": "53d3851",
          "estimated_growth_rate": 1.0103700601809023,
          "frequency": 0.9897239999999999,
          "frequency_final": 1.000008,
          "frequency_other": 0.9897239999999999,
          "observed_growth_rate": 1.0103907756101702,
          "projected_frequency": 0.9999874974424832,
          "timepoint": "2023-10-01T00:00:00",
          "year": 2023
         },
         {
          "clade_membership": "57bbb79",
          "estimated_growth_rate": 1.31764127371145,
          "frequency": 0.758653,
          "frequency_final": 0.947395,
          "frequency_other": 0.758653,
          "observed_growth_rate": 1.2487856767191323,
          "projected_frequency": 0.9996325052250127,
          "timepoint": "2023-10-01T00:00:00",
          "year": 2023
         },
         {
          "clade_membership": "5a8b5f6",
          "estimated_growth_rate": 1.0103700601809023,
          "frequency": 0.9897239999999999,
          "frequency_final": 1.000008,
          "frequency_other": 0.9897239999999999,
          "observed_growth_rate": 1.0103907756101702,
          "projected_frequency": 0.9999874974424832,
          "timepoint": "2023-10-01T00:00:00",
          "year": 2023
         },
         {
          "clade_membership": "6270695",
          "estimated_growth_rate": 1.000009000081001,
          "frequency": 0.999991,
          "frequency_final": 1.000008,
          "frequency_other": 0.999991,
          "observed_growth_rate": 1.0000170001530013,
          "projected_frequency": 1.0000000000000002,
          "timepoint": "2023-10-01T00:00:00",
          "year": 2023
         },
         {
          "clade_membership": "63fb9b5",
          "estimated_growth_rate": 1.0103700601809023,
          "frequency": 0.9897239999999999,
          "frequency_final": 1.000008,
          "frequency_other": 0.9897239999999999,
          "observed_growth_rate": 1.0103907756101702,
          "projected_frequency": 0.9999874974424832,
          "timepoint": "2023-10-01T00:00:00",
          "year": 2023
         },
         {
          "clade_membership": "670a3cd",
          "estimated_growth_rate": 1.0103700601809023,
          "frequency": 0.9897239999999999,
          "frequency_final": 1.000008,
          "frequency_other": 0.9897239999999999,
          "observed_growth_rate": 1.0103907756101702,
          "projected_frequency": 0.9999874974424832,
          "timepoint": "2023-10-01T00:00:00",
          "year": 2023
         },
         {
          "clade_membership": "6fabbb5",
          "estimated_growth_rate": 1.000009000081001,
          "frequency": 0.999991,
          "frequency_final": 1.000008,
          "frequency_other": 0.999991,
          "observed_growth_rate": 1.0000170001530013,
          "projected_frequency": 1.0000000000000002,
          "timepoint": "2023-10-01T00:00:00",
          "year": 2023
         },
         {
          "clade_membership": "7a88259",
          "estimated_growth_rate": 1.000009000081001,
          "frequency": 0.999991,
          "frequency_final": 1.000008,
          "frequency_other": 0.999991,
          "observed_growth_rate": 1.0000170001530013,
          "projected_frequency": 1.0000000000000002,
          "timepoint": "2023-10-01T00:00:00",
          "year": 2023
         },
         {
          "clade_membership": "7bea6f6",
          "estimated_growth_rate": 1.70961685790102,
          "frequency": 0.5842910000000002,
          "frequency_final": 0.9053990000000001,
          "frequency_other": 0.5842910000000002,
          "observed_growth_rate": 1.5495686224843437,
          "projected_frequency": 0.9989137435198453,
          "timepoint": "2023-10-01T00:00:00",
          "year": 2023
         },
         {
          "clade_membership": "8126320",
          "estimated_growth_rate": 1.0103700601809023,
          "frequency": 0.9897239999999999,
          "frequency_final": 1.000008,
          "frequency_other": 0.9897239999999999,
          "observed_growth_rate": 1.0103907756101702,
          "projected_frequency": 0.9999874974424832,
          "timepoint": "2023-10-01T00:00:00",
          "year": 2023
         },
         {
          "clade_membership": "8544c1e",
          "estimated_growth_rate": 1.0103700601809023,
          "frequency": 0.9897239999999999,
          "frequency_final": 1.000008,
          "frequency_other": 0.9897239999999999,
          "observed_growth_rate": 1.0103907756101702,
          "projected_frequency": 0.9999874974424832,
          "timepoint": "2023-10-01T00:00:00",
          "year": 2023
         },
         {
          "clade_membership": "8727a54",
          "estimated_growth_rate": 1.000009000081001,
          "frequency": 0.999991,
          "frequency_final": 1.000008,
          "frequency_other": 0.999991,
          "observed_growth_rate": 1.0000170001530013,
          "projected_frequency": 1.0000000000000002,
          "timepoint": "2023-10-01T00:00:00",
          "year": 2023
         },
         {
          "clade_membership": "b125362",
          "estimated_growth_rate": 1.0103700601809023,
          "frequency": 0.9897239999999999,
          "frequency_final": 1.000008,
          "frequency_other": 0.9897239999999999,
          "observed_growth_rate": 1.0103907756101702,
          "projected_frequency": 0.9999874974424832,
          "timepoint": "2023-10-01T00:00:00",
          "year": 2023
         },
         {
          "clade_membership": "b19fe11",
          "estimated_growth_rate": 5.308414829072609,
          "frequency": 0.17601700000000003,
          "frequency_final": 0.5539049999999999,
          "frequency_other": 0.17601700000000003,
          "observed_growth_rate": 3.1468835396581,
          "projected_frequency": 0.9343712529688736,
          "timepoint": "2023-10-01T00:00:00",
          "year": 2023
         },
         {
          "clade_membership": "b66b3e9",
          "estimated_growth_rate": 1.0103700601809023,
          "frequency": 0.9897239999999999,
          "frequency_final": 1.000008,
          "frequency_other": 0.9897239999999999,
          "observed_growth_rate": 1.0103907756101702,
          "projected_frequency": 0.9999874974424832,
          "timepoint": "2023-10-01T00:00:00",
          "year": 2023
         },
         {
          "clade_membership": "b771746",
          "estimated_growth_rate": 1.0103700601809023,
          "frequency": 0.9897239999999999,
          "frequency_final": 1.000008,
          "frequency_other": 0.9897239999999999,
          "observed_growth_rate": 1.0103907756101702,
          "projected_frequency": 0.9999874974424832,
          "timepoint": "2023-10-01T00:00:00",
          "year": 2023
         },
         {
          "clade_membership": "bae78d3",
          "estimated_growth_rate": 1.000009000081001,
          "frequency": 0.999991,
          "frequency_final": 1.000008,
          "frequency_other": 0.999991,
          "observed_growth_rate": 1.0000170001530013,
          "projected_frequency": 1.0000000000000002,
          "timepoint": "2023-10-01T00:00:00",
          "year": 2023
         },
         {
          "clade_membership": "c72df39",
          "estimated_growth_rate": 1.000009000081001,
          "frequency": 0.999991,
          "frequency_final": 1.000008,
          "frequency_other": 0.999991,
          "observed_growth_rate": 1.0000170001530013,
          "projected_frequency": 1.0000000000000002,
          "timepoint": "2023-10-01T00:00:00",
          "year": 2023
         },
         {
          "clade_membership": "cbef932",
          "estimated_growth_rate": 1.000009000081001,
          "frequency": 0.999991,
          "frequency_final": 1.000008,
          "frequency_other": 0.999991,
          "observed_growth_rate": 1.0000170001530013,
          "projected_frequency": 1.0000000000000002,
          "timepoint": "2023-10-01T00:00:00",
          "year": 2023
         },
         {
          "clade_membership": "da37a22",
          "estimated_growth_rate": 1.000009000081001,
          "frequency": 0.999991,
          "frequency_final": 1.000008,
          "frequency_other": 0.999991,
          "observed_growth_rate": 1.0000170001530013,
          "projected_frequency": 1.0000000000000002,
          "timepoint": "2023-10-01T00:00:00",
          "year": 2023
         },
         {
          "clade_membership": "e72bf28",
          "estimated_growth_rate": 1.000009000081001,
          "frequency": 0.999991,
          "frequency_final": 1.000008,
          "frequency_other": 0.999991,
          "observed_growth_rate": 1.0000170001530013,
          "projected_frequency": 1.0000000000000002,
          "timepoint": "2023-10-01T00:00:00",
          "year": 2023
         },
         {
          "clade_membership": "eb2f804",
          "estimated_growth_rate": 1.000009000081001,
          "frequency": 0.999991,
          "frequency_final": 1.000008,
          "frequency_other": 0.999991,
          "observed_growth_rate": 1.0000170001530013,
          "projected_frequency": 1.0000000000000002,
          "timepoint": "2023-10-01T00:00:00",
          "year": 2023
         },
         {
          "clade_membership": "f263904",
          "estimated_growth_rate": 1.2683228292466937,
          "frequency": 0.7882309999999999,
          "frequency_final": 0.947395,
          "frequency_other": 0.7882309999999999,
          "observed_growth_rate": 1.2019255776542666,
          "projected_frequency": 0.9997313720199504,
          "timepoint": "2023-10-01T00:00:00",
          "year": 2023
         },
         {
          "clade_membership": "f6d9b34",
          "estimated_growth_rate": 1.0103700601809023,
          "frequency": 0.9897239999999999,
          "frequency_final": 1.000008,
          "frequency_other": 0.9897239999999999,
          "observed_growth_rate": 1.0103907756101702,
          "projected_frequency": 0.9999874974424832,
          "timepoint": "2023-10-01T00:00:00",
          "year": 2023
         },
         {
          "clade_membership": "fbd6c65",
          "estimated_growth_rate": 0.23170597815669658,
          "frequency": 0.23967500000000003,
          "frequency_final": 0.12228300000000002,
          "frequency_other": 0.23967500000000003,
          "observed_growth_rate": 0.5102034004380933,
          "projected_frequency": 0.05553413031470626,
          "timepoint": "2023-10-01T00:00:00",
          "year": 2023
         },
         {
          "clade_membership": "root",
          "estimated_growth_rate": 1.000009000081001,
          "frequency": 0.999991,
          "frequency_final": 1.000008,
          "frequency_other": 0.999991,
          "observed_growth_rate": 1.0000170001530013,
          "projected_frequency": 1.0000000000000002,
          "timepoint": "2023-10-01T00:00:00",
          "year": 2023
         },
         {
          "clade_membership": "029c69d",
          "estimated_growth_rate": 0.999997000009,
          "frequency": 1.0000030000000002,
          "frequency_final": 0.9999959999999997,
          "frequency_other": 1.0000030000000002,
          "observed_growth_rate": 0.9999930000209994,
          "projected_frequency": 1.0000000000000002,
          "timepoint": "2024-04-01T00:00:00",
          "year": 2024
         },
         {
          "clade_membership": "0654693",
          "estimated_growth_rate": 0.999997000009,
          "frequency": 1.0000030000000002,
          "frequency_final": 0.9999959999999997,
          "frequency_other": 1.0000030000000002,
          "observed_growth_rate": 0.9999930000209994,
          "projected_frequency": 1.0000000000000002,
          "timepoint": "2024-04-01T00:00:00",
          "year": 2024
         },
         {
          "clade_membership": "0783f23",
          "estimated_growth_rate": 0.999997000009,
          "frequency": 1.0000030000000002,
          "frequency_final": 0.9999959999999997,
          "frequency_other": 1.0000030000000002,
          "observed_growth_rate": 0.9999930000209994,
          "projected_frequency": 1.0000000000000002,
          "timepoint": "2024-04-01T00:00:00",
          "year": 2024
         },
         {
          "clade_membership": "0d82b51",
          "estimated_growth_rate": 0.999997000009,
          "frequency": 1.0000030000000002,
          "frequency_final": 0.9999959999999997,
          "frequency_other": 1.0000030000000002,
          "observed_growth_rate": 0.9999930000209994,
          "projected_frequency": 1.0000000000000002,
          "timepoint": "2024-04-01T00:00:00",
          "year": 2024
         },
         {
          "clade_membership": "0d8bb1e",
          "estimated_growth_rate": 0.999997000009,
          "frequency": 1.0000030000000002,
          "frequency_final": 0.9999959999999997,
          "frequency_other": 1.0000030000000002,
          "observed_growth_rate": 0.9999930000209994,
          "projected_frequency": 1.0000000000000002,
          "timepoint": "2024-04-01T00:00:00",
          "year": 2024
         },
         {
          "clade_membership": "1bce829",
          "estimated_growth_rate": 0.999997000009,
          "frequency": 1.0000030000000002,
          "frequency_final": 0.9999959999999997,
          "frequency_other": 1.0000030000000002,
          "observed_growth_rate": 0.9999930000209994,
          "projected_frequency": 1.0000000000000002,
          "timepoint": "2024-04-01T00:00:00",
          "year": 2024
         },
         {
          "clade_membership": "2018235",
          "estimated_growth_rate": 0.999997000009,
          "frequency": 1.0000030000000002,
          "frequency_final": 0.9999959999999997,
          "frequency_other": 1.0000030000000002,
          "observed_growth_rate": 0.9999930000209994,
          "projected_frequency": 1.0000000000000002,
          "timepoint": "2024-04-01T00:00:00",
          "year": 2024
         },
         {
          "clade_membership": "289c480",
          "estimated_growth_rate": 0.999997000009,
          "frequency": 1.0000030000000002,
          "frequency_final": 0.9999959999999997,
          "frequency_other": 1.0000030000000002,
          "observed_growth_rate": 0.9999930000209994,
          "projected_frequency": 1.0000000000000002,
          "timepoint": "2024-04-01T00:00:00",
          "year": 2024
         },
         {
          "clade_membership": "2edcf74",
          "estimated_growth_rate": 0.999997000009,
          "frequency": 1.0000030000000002,
          "frequency_final": 0.9999959999999997,
          "frequency_other": 1.0000030000000002,
          "observed_growth_rate": 0.9999930000209994,
          "projected_frequency": 1.0000000000000002,
          "timepoint": "2024-04-01T00:00:00",
          "year": 2024
         },
         {
          "clade_membership": "30c6c1b",
          "estimated_growth_rate": 0.999997000009,
          "frequency": 1.0000030000000002,
          "frequency_final": 0.9999959999999997,
          "frequency_other": 1.0000030000000002,
          "observed_growth_rate": 0.9999930000209994,
          "projected_frequency": 1.0000000000000002,
          "timepoint": "2024-04-01T00:00:00",
          "year": 2024
         },
         {
          "clade_membership": "3aad673",
          "estimated_growth_rate": 0.999997000009,
          "frequency": 1.0000030000000002,
          "frequency_final": 0.9999959999999997,
          "frequency_other": 1.0000030000000002,
          "observed_growth_rate": 0.9999930000209994,
          "projected_frequency": 1.0000000000000002,
          "timepoint": "2024-04-01T00:00:00",
          "year": 2024
         },
         {
          "clade_membership": "3f3f0ca",
          "estimated_growth_rate": 0.999997000009,
          "frequency": 1.0000030000000002,
          "frequency_final": 0.9999959999999997,
          "frequency_other": 1.0000030000000002,
          "observed_growth_rate": 0.9999930000209994,
          "projected_frequency": 1.0000000000000002,
          "timepoint": "2024-04-01T00:00:00",
          "year": 2024
         },
         {
          "clade_membership": "4eae73a",
          "estimated_growth_rate": 0.999997000009,
          "frequency": 1.0000030000000002,
          "frequency_final": 0.9999959999999997,
          "frequency_other": 1.0000030000000002,
          "observed_growth_rate": 0.9999930000209994,
          "projected_frequency": 1.0000000000000002,
          "timepoint": "2024-04-01T00:00:00",
          "year": 2024
         },
         {
          "clade_membership": "53320bc",
          "estimated_growth_rate": 0.999997000009,
          "frequency": 1.0000030000000002,
          "frequency_final": 0.9999959999999997,
          "frequency_other": 1.0000030000000002,
          "observed_growth_rate": 0.9999930000209994,
          "projected_frequency": 1.0000000000000002,
          "timepoint": "2024-04-01T00:00:00",
          "year": 2024
         },
         {
          "clade_membership": "53d3851",
          "estimated_growth_rate": 0.999997000009,
          "frequency": 1.0000030000000002,
          "frequency_final": 0.9999959999999997,
          "frequency_other": 1.0000030000000002,
          "observed_growth_rate": 0.9999930000209994,
          "projected_frequency": 1.0000000000000002,
          "timepoint": "2024-04-01T00:00:00",
          "year": 2024
         },
         {
          "clade_membership": "57bbb79",
          "estimated_growth_rate": 1.0604319090713807,
          "frequency": 0.9429920000000002,
          "frequency_final": 0.9999719999999996,
          "frequency_other": 0.9429920000000002,
          "observed_growth_rate": 1.0604246907715011,
          "projected_frequency": 0.9999788067990397,
          "timepoint": "2024-04-01T00:00:00",
          "year": 2024
         },
         {
          "clade_membership": "5a8b5f6",
          "estimated_growth_rate": 0.999997000009,
          "frequency": 1.0000030000000002,
          "frequency_final": 0.9999959999999997,
          "frequency_other": 1.0000030000000002,
          "observed_growth_rate": 0.9999930000209994,
          "projected_frequency": 1.0000000000000002,
          "timepoint": "2024-04-01T00:00:00",
          "year": 2024
         },
         {
          "clade_membership": "6270695",
          "estimated_growth_rate": 0.999997000009,
          "frequency": 1.0000030000000002,
          "frequency_final": 0.9999959999999997,
          "frequency_other": 1.0000030000000002,
          "observed_growth_rate": 0.9999930000209994,
          "projected_frequency": 1.0000000000000002,
          "timepoint": "2024-04-01T00:00:00",
          "year": 2024
         },
         {
          "clade_membership": "63fb9b5",
          "estimated_growth_rate": 0.999997000009,
          "frequency": 1.0000030000000002,
          "frequency_final": 0.9999959999999997,
          "frequency_other": 1.0000030000000002,
          "observed_growth_rate": 0.9999930000209994,
          "projected_frequency": 1.0000000000000002,
          "timepoint": "2024-04-01T00:00:00",
          "year": 2024
         },
         {
          "clade_membership": "670a3cd",
          "estimated_growth_rate": 0.999997000009,
          "frequency": 1.0000030000000002,
          "frequency_final": 0.9999959999999997,
          "frequency_other": 1.0000030000000002,
          "observed_growth_rate": 0.9999930000209994,
          "projected_frequency": 1.0000000000000002,
          "timepoint": "2024-04-01T00:00:00",
          "year": 2024
         },
         {
          "clade_membership": "6fabbb5",
          "estimated_growth_rate": 0.999997000009,
          "frequency": 1.0000030000000002,
          "frequency_final": 0.9999959999999997,
          "frequency_other": 1.0000030000000002,
          "observed_growth_rate": 0.9999930000209994,
          "projected_frequency": 1.0000000000000002,
          "timepoint": "2024-04-01T00:00:00",
          "year": 2024
         },
         {
          "clade_membership": "7a88259",
          "estimated_growth_rate": 0.999997000009,
          "frequency": 1.0000030000000002,
          "frequency_final": 0.9999959999999997,
          "frequency_other": 1.0000030000000002,
          "observed_growth_rate": 0.9999930000209994,
          "projected_frequency": 1.0000000000000002,
          "timepoint": "2024-04-01T00:00:00",
          "year": 2024
         },
         {
          "clade_membership": "7bea6f6",
          "estimated_growth_rate": 1.220341023693051,
          "frequency": 0.819373,
          "frequency_final": 0.9999719999999996,
          "frequency_other": 0.819373,
          "observed_growth_rate": 1.2204112168694838,
          "projected_frequency": 0.9999144856064462,
          "timepoint": "2024-04-01T00:00:00",
          "year": 2024
         },
         {
          "clade_membership": "8126320",
          "estimated_growth_rate": 0.999997000009,
          "frequency": 1.0000030000000002,
          "frequency_final": 0.9999959999999997,
          "frequency_other": 1.0000030000000002,
          "observed_growth_rate": 0.9999930000209994,
          "projected_frequency": 1.0000000000000002,
          "timepoint": "2024-04-01T00:00:00",
          "year": 2024
         },
         {
          "clade_membership": "8544c1e",
          "estimated_growth_rate": 0.999997000009,
          "frequency": 1.0000030000000002,
          "frequency_final": 0.9999959999999997,
          "frequency_other": 1.0000030000000002,
          "observed_growth_rate": 0.9999930000209994,
          "projected_frequency": 1.0000000000000002,
          "timepoint": "2024-04-01T00:00:00",
          "year": 2024
         },
         {
          "clade_membership": "8727a54",
          "estimated_growth_rate": 0.999997000009,
          "frequency": 1.0000030000000002,
          "frequency_final": 0.9999959999999997,
          "frequency_other": 1.0000030000000002,
          "observed_growth_rate": 0.9999930000209994,
          "projected_frequency": 1.0000000000000002,
          "timepoint": "2024-04-01T00:00:00",
          "year": 2024
         },
         {
          "clade_membership": "a9d28db",
          "estimated_growth_rate": 0.16839580625021816,
          "frequency": 0.20940300000000003,
          "frequency_final": 0.024027000000000007,
          "frequency_other": 0.20940300000000003,
          "observed_growth_rate": 0.11474047649747139,
          "projected_frequency": 0.03526258701621444,
          "timepoint": "2024-04-01T00:00:00",
          "year": 2024
         },
         {
          "clade_membership": "b125362",
          "estimated_growth_rate": 0.999997000009,
          "frequency": 1.0000030000000002,
          "frequency_final": 0.9999959999999997,
          "frequency_other": 1.0000030000000002,
          "observed_growth_rate": 0.9999930000209994,
          "projected_frequency": 1.0000000000000002,
          "timepoint": "2024-04-01T00:00:00",
          "year": 2024
         },
         {
          "clade_membership": "b19fe11",
          "estimated_growth_rate": 2.904448330435877,
          "frequency": 0.3310340000000001,
          "frequency_final": 0.8472989999999997,
          "frequency_other": 0.3310340000000001,
          "observed_growth_rate": 2.559552795181158,
          "projected_frequency": 0.9614711486175104,
          "timepoint": "2024-04-01T00:00:00",
          "year": 2024
         },
         {
          "clade_membership": "b66b3e9",
          "estimated_growth_rate": 0.999997000009,
          "frequency": 1.0000030000000002,
          "frequency_final": 0.9999959999999997,
          "frequency_other": 1.0000030000000002,
          "observed_growth_rate": 0.9999930000209994,
          "projected_frequency": 1.0000000000000002,
          "timepoint": "2024-04-01T00:00:00",
          "year": 2024
         },
         {
          "clade_membership": "b771746",
          "estimated_growth_rate": 0.999997000009,
          "frequency": 1.0000030000000002,
          "frequency_final": 0.9999959999999997,
          "frequency_other": 1.0000030000000002,
          "observed_growth_rate": 0.9999930000209994,
          "projected_frequency": 1.0000000000000002,
          "timepoint": "2024-04-01T00:00:00",
          "year": 2024
         },
         {
          "clade_membership": "bae78d3",
          "estimated_growth_rate": 0.999997000009,
          "frequency": 1.0000030000000002,
          "frequency_final": 0.9999959999999997,
          "frequency_other": 1.0000030000000002,
          "observed_growth_rate": 0.9999930000209994,
          "projected_frequency": 1.0000000000000002,
          "timepoint": "2024-04-01T00:00:00",
          "year": 2024
         },
         {
          "clade_membership": "c72df39",
          "estimated_growth_rate": 0.999997000009,
          "frequency": 1.0000030000000002,
          "frequency_final": 0.9999959999999997,
          "frequency_other": 1.0000030000000002,
          "observed_growth_rate": 0.9999930000209994,
          "projected_frequency": 1.0000000000000002,
          "timepoint": "2024-04-01T00:00:00",
          "year": 2024
         },
         {
          "clade_membership": "cbef932",
          "estimated_growth_rate": 0.999997000009,
          "frequency": 1.0000030000000002,
          "frequency_final": 0.9999959999999997,
          "frequency_other": 1.0000030000000002,
          "observed_growth_rate": 0.9999930000209994,
          "projected_frequency": 1.0000000000000002,
          "timepoint": "2024-04-01T00:00:00",
          "year": 2024
         },
         {
          "clade_membership": "da37a22",
          "estimated_growth_rate": 0.999997000009,
          "frequency": 1.0000030000000002,
          "frequency_final": 0.9999959999999997,
          "frequency_other": 1.0000030000000002,
          "observed_growth_rate": 0.9999930000209994,
          "projected_frequency": 1.0000000000000002,
          "timepoint": "2024-04-01T00:00:00",
          "year": 2024
         },
         {
          "clade_membership": "e72bf28",
          "estimated_growth_rate": 0.999997000009,
          "frequency": 1.0000030000000002,
          "frequency_final": 0.9999959999999997,
          "frequency_other": 1.0000030000000002,
          "observed_growth_rate": 0.9999930000209994,
          "projected_frequency": 1.0000000000000002,
          "timepoint": "2024-04-01T00:00:00",
          "year": 2024
         },
         {
          "clade_membership": "eb2f804",
          "estimated_growth_rate": 0.999997000009,
          "frequency": 1.0000030000000002,
          "frequency_final": 0.9999959999999997,
          "frequency_other": 1.0000030000000002,
          "observed_growth_rate": 0.9999930000209994,
          "projected_frequency": 1.0000000000000002,
          "timepoint": "2024-04-01T00:00:00",
          "year": 2024
         },
         {
          "clade_membership": "f263904",
          "estimated_growth_rate": 1.0603723118341115,
          "frequency": 0.9430450000000001,
          "frequency_final": 0.9999719999999996,
          "frequency_other": 0.9430450000000001,
          "observed_growth_rate": 1.0603650939244675,
          "projected_frequency": 0.9999788068135997,
          "timepoint": "2024-04-01T00:00:00",
          "year": 2024
         },
         {
          "clade_membership": "f6d9b34",
          "estimated_growth_rate": 0.999997000009,
          "frequency": 1.0000030000000002,
          "frequency_final": 0.9999959999999997,
          "frequency_other": 1.0000030000000002,
          "observed_growth_rate": 0.9999930000209994,
          "projected_frequency": 1.0000000000000002,
          "timepoint": "2024-04-01T00:00:00",
          "year": 2024
         },
         {
          "clade_membership": "fbd6c65",
          "estimated_growth_rate": 0.017572373607708306,
          "frequency": 0.175254,
          "frequency_final": 0.066157,
          "frequency_other": 0.175254,
          "observed_growth_rate": 0.37749209718465765,
          "projected_frequency": 0.003079628764245311,
          "timepoint": "2024-04-01T00:00:00",
          "year": 2024
         },
         {
          "clade_membership": "root",
          "estimated_growth_rate": 0.999997000009,
          "frequency": 1.0000030000000002,
          "frequency_final": 0.9999959999999997,
          "frequency_other": 1.0000030000000002,
          "observed_growth_rate": 0.9999930000209994,
          "projected_frequency": 1.0000000000000002,
          "timepoint": "2024-04-01T00:00:00",
          "year": 2024
         },
         {
          "clade_membership": "029c69d",
          "estimated_growth_rate": 0.9999920000639997,
          "frequency": 1.000008,
          "frequency_final": 0.9999999999999992,
          "frequency_other": 1.000008,
          "observed_growth_rate": 0.9999920000639987,
          "projected_frequency": 1.0000000000000002,
          "timepoint": "2024-10-01T00:00:00",
          "year": 2024
         },
         {
          "clade_membership": "0654693",
          "estimated_growth_rate": 0.9999920000639997,
          "frequency": 1.000008,
          "frequency_final": 0.9999999999999992,
          "frequency_other": 1.000008,
          "observed_growth_rate": 0.9999920000639987,
          "projected_frequency": 1.0000000000000002,
          "timepoint": "2024-10-01T00:00:00",
          "year": 2024
         },
         {
          "clade_membership": "0783f23",
          "estimated_growth_rate": 0.9999920000639997,
          "frequency": 1.000008,
          "frequency_final": 0.9999999999999992,
          "frequency_other": 1.000008,
          "observed_growth_rate": 0.9999920000639987,
          "projected_frequency": 1.0000000000000002,
          "timepoint": "2024-10-01T00:00:00",
          "year": 2024
         },
         {
          "clade_membership": "0d82b51",
          "estimated_growth_rate": 0.9999920000639997,
          "frequency": 1.000008,
          "frequency_final": 0.9999999999999992,
          "frequency_other": 1.000008,
          "observed_growth_rate": 0.9999920000639987,
          "projected_frequency": 1.0000000000000002,
          "timepoint": "2024-10-01T00:00:00",
          "year": 2024
         },
         {
          "clade_membership": "0d8bb1e",
          "estimated_growth_rate": 0.9999920000639997,
          "frequency": 1.000008,
          "frequency_final": 0.9999999999999992,
          "frequency_other": 1.000008,
          "observed_growth_rate": 0.9999920000639987,
          "projected_frequency": 1.0000000000000002,
          "timepoint": "2024-10-01T00:00:00",
          "year": 2024
         },
         {
          "clade_membership": "1bce829",
          "estimated_growth_rate": 0.9999920000639997,
          "frequency": 1.000008,
          "frequency_final": 0.9999999999999992,
          "frequency_other": 1.000008,
          "observed_growth_rate": 0.9999920000639987,
          "projected_frequency": 1.0000000000000002,
          "timepoint": "2024-10-01T00:00:00",
          "year": 2024
         },
         {
          "clade_membership": "2018235",
          "estimated_growth_rate": 0.9999920000639997,
          "frequency": 1.000008,
          "frequency_final": 0.9999999999999992,
          "frequency_other": 1.000008,
          "observed_growth_rate": 0.9999920000639987,
          "projected_frequency": 1.0000000000000002,
          "timepoint": "2024-10-01T00:00:00",
          "year": 2024
         },
         {
          "clade_membership": "289c480",
          "estimated_growth_rate": 0.9999920000639997,
          "frequency": 1.000008,
          "frequency_final": 0.9999999999999992,
          "frequency_other": 1.000008,
          "observed_growth_rate": 0.9999920000639987,
          "projected_frequency": 1.0000000000000002,
          "timepoint": "2024-10-01T00:00:00",
          "year": 2024
         },
         {
          "clade_membership": "2edcf74",
          "estimated_growth_rate": 0.9999920000639997,
          "frequency": 1.000008,
          "frequency_final": 0.9999999999999992,
          "frequency_other": 1.000008,
          "observed_growth_rate": 0.9999920000639987,
          "projected_frequency": 1.0000000000000002,
          "timepoint": "2024-10-01T00:00:00",
          "year": 2024
         },
         {
          "clade_membership": "30c6c1b",
          "estimated_growth_rate": 0.9999920000639997,
          "frequency": 1.000008,
          "frequency_final": 0.9999999999999992,
          "frequency_other": 1.000008,
          "observed_growth_rate": 0.9999920000639987,
          "projected_frequency": 1.0000000000000002,
          "timepoint": "2024-10-01T00:00:00",
          "year": 2024
         },
         {
          "clade_membership": "37311eb",
          "estimated_growth_rate": 2.780163429221184,
          "frequency": 0.35930899999999993,
          "frequency_final": 0.8025179999999996,
          "frequency_other": 0.35930899999999993,
          "observed_growth_rate": 2.2335037530370787,
          "projected_frequency": 0.9989377415900341,
          "timepoint": "2024-10-01T00:00:00",
          "year": 2024
         },
         {
          "clade_membership": "3aad673",
          "estimated_growth_rate": 0.9999920000639997,
          "frequency": 1.000008,
          "frequency_final": 0.9999999999999992,
          "frequency_other": 1.000008,
          "observed_growth_rate": 0.9999920000639987,
          "projected_frequency": 1.0000000000000002,
          "timepoint": "2024-10-01T00:00:00",
          "year": 2024
         },
         {
          "clade_membership": "3b07f48",
          "estimated_growth_rate": 2.649372210492467,
          "frequency": 0.3770479999999999,
          "frequency_final": 0.8025179999999996,
          "frequency_other": 0.3770479999999999,
          "observed_growth_rate": 2.128423967240245,
          "projected_frequency": 0.9989404932217635,
          "timepoint": "2024-10-01T00:00:00",
          "year": 2024
         },
         {
          "clade_membership": "3f3f0ca",
          "estimated_growth_rate": 0.9999920000639997,
          "frequency": 1.000008,
          "frequency_final": 0.9999999999999992,
          "frequency_other": 1.000008,
          "observed_growth_rate": 0.9999920000639987,
          "projected_frequency": 1.0000000000000002,
          "timepoint": "2024-10-01T00:00:00",
          "year": 2024
         },
         {
          "clade_membership": "433fd0b",
          "estimated_growth_rate": 2.780163429221184,
          "frequency": 0.35930899999999993,
          "frequency_final": 0.8025179999999996,
          "frequency_other": 0.35930899999999993,
          "observed_growth_rate": 2.2335037530370787,
          "projected_frequency": 0.9989377415900341,
          "timepoint": "2024-10-01T00:00:00",
          "year": 2024
         },
         {
          "clade_membership": "4eae73a",
          "estimated_growth_rate": 0.9999920000639997,
          "frequency": 1.000008,
          "frequency_final": 0.9999999999999992,
          "frequency_other": 1.000008,
          "observed_growth_rate": 0.9999920000639987,
          "projected_frequency": 1.0000000000000002,
          "timepoint": "2024-10-01T00:00:00",
          "year": 2024
         },
         {
          "clade_membership": "53320bc",
          "estimated_growth_rate": 0.9999920000639997,
          "frequency": 1.000008,
          "frequency_final": 0.9999999999999992,
          "frequency_other": 1.000008,
          "observed_growth_rate": 0.9999920000639987,
          "projected_frequency": 1.0000000000000002,
          "timepoint": "2024-10-01T00:00:00",
          "year": 2024
         },
         {
          "clade_membership": "53d3851",
          "estimated_growth_rate": 0.9999920000639997,
          "frequency": 1.000008,
          "frequency_final": 0.9999999999999992,
          "frequency_other": 1.000008,
          "observed_growth_rate": 0.9999920000639987,
          "projected_frequency": 1.0000000000000002,
          "timepoint": "2024-10-01T00:00:00",
          "year": 2024
         },
         {
          "clade_membership": "57bbb79",
          "estimated_growth_rate": 1.055512806198187,
          "frequency": 0.947395,
          "frequency_final": 0.9999999999999992,
          "frequency_other": 0.947395,
          "observed_growth_rate": 1.0555259421888434,
          "projected_frequency": 0.9999875550281314,
          "timepoint": "2024-10-01T00:00:00",
          "year": 2024
         },
         {
          "clade_membership": "5a8b5f6",
          "estimated_growth_rate": 0.9999920000639997,
          "frequency": 1.000008,
          "frequency_final": 0.9999999999999992,
          "frequency_other": 1.000008,
          "observed_growth_rate": 0.9999920000639987,
          "projected_frequency": 1.0000000000000002,
          "timepoint": "2024-10-01T00:00:00",
          "year": 2024
         },
         {
          "clade_membership": "6270695",
          "estimated_growth_rate": 0.9999920000639997,
          "frequency": 1.000008,
          "frequency_final": 0.9999999999999992,
          "frequency_other": 1.000008,
          "observed_growth_rate": 0.9999920000639987,
          "projected_frequency": 1.0000000000000002,
          "timepoint": "2024-10-01T00:00:00",
          "year": 2024
         },
         {
          "clade_membership": "63fb9b5",
          "estimated_growth_rate": 0.9999920000639997,
          "frequency": 1.000008,
          "frequency_final": 0.9999999999999992,
          "frequency_other": 1.000008,
          "observed_growth_rate": 0.9999920000639987,
          "projected_frequency": 1.0000000000000002,
          "timepoint": "2024-10-01T00:00:00",
          "year": 2024
         },
         {
          "clade_membership": "670a3cd",
          "estimated_growth_rate": 0.9999920000639997,
          "frequency": 1.000008,
          "frequency_final": 0.9999999999999992,
          "frequency_other": 1.000008,
          "observed_growth_rate": 0.9999920000639987,
          "projected_frequency": 1.0000000000000002,
          "timepoint": "2024-10-01T00:00:00",
          "year": 2024
         },
         {
          "clade_membership": "6fabbb5",
          "estimated_growth_rate": 0.9999920000639997,
          "frequency": 1.000008,
          "frequency_final": 0.9999999999999992,
          "frequency_other": 1.000008,
          "observed_growth_rate": 0.9999920000639987,
          "projected_frequency": 1.0000000000000002,
          "timepoint": "2024-10-01T00:00:00",
          "year": 2024
         },
         {
          "clade_membership": "7a88259",
          "estimated_growth_rate": 0.9999920000639997,
          "frequency": 1.000008,
          "frequency_final": 0.9999999999999992,
          "frequency_other": 1.000008,
          "observed_growth_rate": 0.9999920000639987,
          "projected_frequency": 1.0000000000000002,
          "timepoint": "2024-10-01T00:00:00",
          "year": 2024
         },
         {
          "clade_membership": "7bea6f6",
          "estimated_growth_rate": 1.1044623552473747,
          "frequency": 0.9053990000000001,
          "frequency_final": 0.9999999999999992,
          "frequency_other": 0.9053990000000001,
          "observed_growth_rate": 1.1044854257625634,
          "projected_frequency": 0.9999791119786178,
          "timepoint": "2024-10-01T00:00:00",
          "year": 2024
         },
         {
          "clade_membership": "8126320",
          "estimated_growth_rate": 0.9999920000639997,
          "frequency": 1.000008,
          "frequency_final": 0.9999999999999992,
          "frequency_other": 1.000008,
          "observed_growth_rate": 0.9999920000639987,
          "projected_frequency": 1.0000000000000002,
          "timepoint": "2024-10-01T00:00:00",
          "year": 2024
         },
         {
          "clade_membership": "8544c1e",
          "estimated_growth_rate": 0.9999920000639997,
          "frequency": 1.000008,
          "frequency_final": 0.9999999999999992,
          "frequency_other": 1.000008,
          "observed_growth_rate": 0.9999920000639987,
          "projected_frequency": 1.0000000000000002,
          "timepoint": "2024-10-01T00:00:00",
          "year": 2024
         },
         {
          "clade_membership": "8727a54",
          "estimated_growth_rate": 0.9999920000639997,
          "frequency": 1.000008,
          "frequency_final": 0.9999999999999992,
          "frequency_other": 1.000008,
          "observed_growth_rate": 0.9999920000639987,
          "projected_frequency": 1.0000000000000002,
          "timepoint": "2024-10-01T00:00:00",
          "year": 2024
         },
         {
          "clade_membership": "b125362",
          "estimated_growth_rate": 0.9999920000639997,
          "frequency": 1.000008,
          "frequency_final": 0.9999999999999992,
          "frequency_other": 1.000008,
          "observed_growth_rate": 0.9999920000639987,
          "projected_frequency": 1.0000000000000002,
          "timepoint": "2024-10-01T00:00:00",
          "year": 2024
         },
         {
          "clade_membership": "b19fe11",
          "estimated_growth_rate": 1.8036339795424279,
          "frequency": 0.5539049999999999,
          "frequency_final": 0.8763089999999993,
          "frequency_other": 0.5539049999999999,
          "observed_growth_rate": 1.5820564898312879,
          "projected_frequency": 0.9990418794384482,
          "timepoint": "2024-10-01T00:00:00",
          "year": 2024
         },
         {
          "clade_membership": "b66b3e9",
          "estimated_growth_rate": 0.9999920000639997,
          "frequency": 1.000008,
          "frequency_final": 0.9999999999999992,
          "frequency_other": 1.000008,
          "observed_growth_rate": 0.9999920000639987,
          "projected_frequency": 1.0000000000000002,
          "timepoint": "2024-10-01T00:00:00",
          "year": 2024
         },
         {
          "clade_membership": "b771746",
          "estimated_growth_rate": 0.9999920000639997,
          "frequency": 1.000008,
          "frequency_final": 0.9999999999999992,
          "frequency_other": 1.000008,
          "observed_growth_rate": 0.9999920000639987,
          "projected_frequency": 1.0000000000000002,
          "timepoint": "2024-10-01T00:00:00",
          "year": 2024
         },
         {
          "clade_membership": "bae78d3",
          "estimated_growth_rate": 0.9999920000639997,
          "frequency": 1.000008,
          "frequency_final": 0.9999999999999992,
          "frequency_other": 1.000008,
          "observed_growth_rate": 0.9999920000639987,
          "projected_frequency": 1.0000000000000002,
          "timepoint": "2024-10-01T00:00:00",
          "year": 2024
         },
         {
          "clade_membership": "c72df39",
          "estimated_growth_rate": 0.9999920000639997,
          "frequency": 1.000008,
          "frequency_final": 0.9999999999999992,
          "frequency_other": 1.000008,
          "observed_growth_rate": 0.9999920000639987,
          "projected_frequency": 1.0000000000000002,
          "timepoint": "2024-10-01T00:00:00",
          "year": 2024
         },
         {
          "clade_membership": "cbef932",
          "estimated_growth_rate": 0.9999920000639997,
          "frequency": 1.000008,
          "frequency_final": 0.9999999999999992,
          "frequency_other": 1.000008,
          "observed_growth_rate": 0.9999920000639987,
          "projected_frequency": 1.0000000000000002,
          "timepoint": "2024-10-01T00:00:00",
          "year": 2024
         },
         {
          "clade_membership": "da37a22",
          "estimated_growth_rate": 0.9999920000639997,
          "frequency": 1.000008,
          "frequency_final": 0.9999999999999992,
          "frequency_other": 1.000008,
          "observed_growth_rate": 0.9999920000639987,
          "projected_frequency": 1.0000000000000002,
          "timepoint": "2024-10-01T00:00:00",
          "year": 2024
         },
         {
          "clade_membership": "e72bf28",
          "estimated_growth_rate": 0.9999920000639997,
          "frequency": 1.000008,
          "frequency_final": 0.9999999999999992,
          "frequency_other": 1.000008,
          "observed_growth_rate": 0.9999920000639987,
          "projected_frequency": 1.0000000000000002,
          "timepoint": "2024-10-01T00:00:00",
          "year": 2024
         },
         {
          "clade_membership": "eb2f804",
          "estimated_growth_rate": 0.9999920000639997,
          "frequency": 1.000008,
          "frequency_final": 0.9999999999999992,
          "frequency_other": 1.000008,
          "observed_growth_rate": 0.9999920000639987,
          "projected_frequency": 1.0000000000000002,
          "timepoint": "2024-10-01T00:00:00",
          "year": 2024
         },
         {
          "clade_membership": "f263904",
          "estimated_growth_rate": 1.055512806198187,
          "frequency": 0.947395,
          "frequency_final": 0.9999999999999992,
          "frequency_other": 0.947395,
          "observed_growth_rate": 1.0555259421888434,
          "projected_frequency": 0.9999875550281314,
          "timepoint": "2024-10-01T00:00:00",
          "year": 2024
         },
         {
          "clade_membership": "f657904",
          "estimated_growth_rate": 3.3860940660450787,
          "frequency": 0.295007,
          "frequency_final": 0.7090839999999996,
          "frequency_other": 0.295007,
          "observed_growth_rate": 2.40361754127868,
          "projected_frequency": 0.9989214521417606,
          "timepoint": "2024-10-01T00:00:00",
          "year": 2024
         },
         {
          "clade_membership": "f6d9b34",
          "estimated_growth_rate": 0.9999920000639997,
          "frequency": 1.000008,
          "frequency_final": 0.9999999999999992,
          "frequency_other": 1.000008,
          "observed_growth_rate": 0.9999920000639987,
          "projected_frequency": 1.0000000000000002,
          "timepoint": "2024-10-01T00:00:00",
          "year": 2024
         },
         {
          "clade_membership": "root",
          "estimated_growth_rate": 0.9999920000639997,
          "frequency": 1.000008,
          "frequency_final": 0.9999999999999992,
          "frequency_other": 1.000008,
          "observed_growth_rate": 0.9999920000639987,
          "projected_frequency": 1.0000000000000002,
          "timepoint": "2024-10-01T00:00:00",
          "year": 2024
         },
         {
          "clade_membership": "029c69d",
          "estimated_growth_rate": 1.0000040000160004,
          "frequency": 0.9999959999999997,
          "frequency_final": 0.9999929999999995,
          "frequency_other": 0.9999959999999997,
          "observed_growth_rate": 0.9999969999879997,
          "projected_frequency": 1,
          "timepoint": "2025-04-01T00:00:00",
          "year": 2025
         },
         {
          "clade_membership": "0654693",
          "estimated_growth_rate": 1.0000040000160004,
          "frequency": 0.9999959999999997,
          "frequency_final": 0.9999929999999995,
          "frequency_other": 0.9999959999999997,
          "observed_growth_rate": 0.9999969999879997,
          "projected_frequency": 1,
          "timepoint": "2025-04-01T00:00:00",
          "year": 2025
         },
         {
          "clade_membership": "0783f23",
          "estimated_growth_rate": 1.0000040000160004,
          "frequency": 0.9999959999999997,
          "frequency_final": 0.9999929999999995,
          "frequency_other": 0.9999959999999997,
          "observed_growth_rate": 0.9999969999879997,
          "projected_frequency": 1,
          "timepoint": "2025-04-01T00:00:00",
          "year": 2025
         },
         {
          "clade_membership": "0d82b51",
          "estimated_growth_rate": 1.0000040000160004,
          "frequency": 0.9999959999999997,
          "frequency_final": 0.9999929999999995,
          "frequency_other": 0.9999959999999997,
          "observed_growth_rate": 0.9999969999879997,
          "projected_frequency": 1,
          "timepoint": "2025-04-01T00:00:00",
          "year": 2025
         },
         {
          "clade_membership": "0d8bb1e",
          "estimated_growth_rate": 1.0000040000160004,
          "frequency": 0.9999959999999997,
          "frequency_final": 0.9999929999999995,
          "frequency_other": 0.9999959999999997,
          "observed_growth_rate": 0.9999969999879997,
          "projected_frequency": 1,
          "timepoint": "2025-04-01T00:00:00",
          "year": 2025
         },
         {
          "clade_membership": "1bce829",
          "estimated_growth_rate": 1.0000040000160004,
          "frequency": 0.9999959999999997,
          "frequency_final": 0.9999929999999995,
          "frequency_other": 0.9999959999999997,
          "observed_growth_rate": 0.9999969999879997,
          "projected_frequency": 1,
          "timepoint": "2025-04-01T00:00:00",
          "year": 2025
         },
         {
          "clade_membership": "2018235",
          "estimated_growth_rate": 1.0000040000160004,
          "frequency": 0.9999959999999997,
          "frequency_final": 0.9999929999999995,
          "frequency_other": 0.9999959999999997,
          "observed_growth_rate": 0.9999969999879997,
          "projected_frequency": 1,
          "timepoint": "2025-04-01T00:00:00",
          "year": 2025
         },
         {
          "clade_membership": "289c480",
          "estimated_growth_rate": 1.0000040000160004,
          "frequency": 0.9999959999999997,
          "frequency_final": 0.9999929999999995,
          "frequency_other": 0.9999959999999997,
          "observed_growth_rate": 0.9999969999879997,
          "projected_frequency": 1,
          "timepoint": "2025-04-01T00:00:00",
          "year": 2025
         },
         {
          "clade_membership": "2edcf74",
          "estimated_growth_rate": 1.0000040000160004,
          "frequency": 0.9999959999999997,
          "frequency_final": 0.9999929999999995,
          "frequency_other": 0.9999959999999997,
          "observed_growth_rate": 0.9999969999879997,
          "projected_frequency": 1,
          "timepoint": "2025-04-01T00:00:00",
          "year": 2025
         },
         {
          "clade_membership": "30c6c1b",
          "estimated_growth_rate": 1.0000040000160004,
          "frequency": 0.9999959999999997,
          "frequency_final": 0.9999929999999995,
          "frequency_other": 0.9999959999999997,
          "observed_growth_rate": 0.9999969999879997,
          "projected_frequency": 1,
          "timepoint": "2025-04-01T00:00:00",
          "year": 2025
         },
         {
          "clade_membership": "37311eb",
          "estimated_growth_rate": 1.2558087948744143,
          "frequency": 0.7962989999999998,
          "frequency_final": 0.47316299999999994,
          "frequency_other": 0.7962989999999998,
          "observed_growth_rate": 0.5942026801490397,
          "projected_frequency": 0.999999287549701,
          "timepoint": "2025-04-01T00:00:00",
          "year": 2025
         },
         {
          "clade_membership": "3aad673",
          "estimated_growth_rate": 1.0000040000160004,
          "frequency": 0.9999959999999997,
          "frequency_final": 0.9999929999999995,
          "frequency_other": 0.9999959999999997,
          "observed_growth_rate": 0.9999969999879997,
          "projected_frequency": 1,
          "timepoint": "2025-04-01T00:00:00",
          "year": 2025
         },
         {
          "clade_membership": "3b07f48",
          "estimated_growth_rate": 1.253092684906839,
          "frequency": 0.7980249999999998,
          "frequency_final": 0.47316299999999994,
          "frequency_other": 0.7980249999999998,
          "observed_growth_rate": 0.5929175151154413,
          "projected_frequency": 0.9999992898727798,
          "timepoint": "2025-04-01T00:00:00",
          "year": 2025
         },
         {
          "clade_membership": "3db57b6",
          "estimated_growth_rate": 2.7396012788518123,
          "frequency": 0.36501300000000003,
          "frequency_final": 0.40668599999999994,
          "frequency_other": 0.36501300000000003,
          "observed_growth_rate": 1.1141685364630847,
          "projected_frequency": 0.9999900815975367,
          "timepoint": "2025-04-01T00:00:00",
          "year": 2025
         },
         {
          "clade_membership": "3f3f0ca",
          "estimated_growth_rate": 1.0000040000160004,
          "frequency": 0.9999959999999997,
          "frequency_final": 0.9999929999999995,
          "frequency_other": 0.9999959999999997,
          "observed_growth_rate": 0.9999969999879997,
          "projected_frequency": 1,
          "timepoint": "2025-04-01T00:00:00",
          "year": 2025
         },
         {
          "clade_membership": "433fd0b",
          "estimated_growth_rate": 1.2558087948744143,
          "frequency": 0.7962989999999998,
          "frequency_final": 0.47316299999999994,
          "frequency_other": 0.7962989999999998,
          "observed_growth_rate": 0.5942026801490397,
          "projected_frequency": 0.999999287549701,
          "timepoint": "2025-04-01T00:00:00",
          "year": 2025
         },
         {
          "clade_membership": "4eae73a",
          "estimated_growth_rate": 1.0000040000160004,
          "frequency": 0.9999959999999997,
          "frequency_final": 0.9999929999999995,
          "frequency_other": 0.9999959999999997,
          "observed_growth_rate": 0.9999969999879997,
          "projected_frequency": 1,
          "timepoint": "2025-04-01T00:00:00",
          "year": 2025
         },
         {
          "clade_membership": "53320bc",
          "estimated_growth_rate": 1.0000040000160004,
          "frequency": 0.9999959999999997,
          "frequency_final": 0.9999929999999995,
          "frequency_other": 0.9999959999999997,
          "observed_growth_rate": 0.9999969999879997,
          "projected_frequency": 1,
          "timepoint": "2025-04-01T00:00:00",
          "year": 2025
         },
         {
          "clade_membership": "53d3851",
          "estimated_growth_rate": 1.0000040000160004,
          "frequency": 0.9999959999999997,
          "frequency_final": 0.9999929999999995,
          "frequency_other": 0.9999959999999997,
          "observed_growth_rate": 0.9999969999879997,
          "projected_frequency": 1,
          "timepoint": "2025-04-01T00:00:00",
          "year": 2025
         },
         {
          "clade_membership": "57bbb79",
          "estimated_growth_rate": 1.0000280007487268,
          "frequency": 0.9999719999999996,
          "frequency_final": 0.9999929999999995,
          "frequency_other": 0.9999719999999996,
          "observed_growth_rate": 1.0000210005880164,
          "projected_frequency": 0.9999999999647055,
          "timepoint": "2025-04-01T00:00:00",
          "year": 2025
         },
         {
          "clade_membership": "5a8b5f6",
          "estimated_growth_rate": 1.0000040000160004,
          "frequency": 0.9999959999999997,
          "frequency_final": 0.9999929999999995,
          "frequency_other": 0.9999959999999997,
          "observed_growth_rate": 0.9999969999879997,
          "projected_frequency": 1,
          "timepoint": "2025-04-01T00:00:00",
          "year": 2025
         },
         {
          "clade_membership": "6270695",
          "estimated_growth_rate": 1.0000040000160004,
          "frequency": 0.9999959999999997,
          "frequency_final": 0.9999929999999995,
          "frequency_other": 0.9999959999999997,
          "observed_growth_rate": 0.9999969999879997,
          "projected_frequency": 1,
          "timepoint": "2025-04-01T00:00:00",
          "year": 2025
         },
         {
          "clade_membership": "63fb9b5",
          "estimated_growth_rate": 1.0000040000160004,
          "frequency": 0.9999959999999997,
          "frequency_final": 0.9999929999999995,
          "frequency_other": 0.9999959999999997,
          "observed_growth_rate": 0.9999969999879997,
          "projected_frequency": 1,
          "timepoint": "2025-04-01T00:00:00",
          "year": 2025
         },
         {
          "clade_membership": "670a3cd",
          "estimated_growth_rate": 1.0000040000160004,
          "frequency": 0.9999959999999997,
          "frequency_final": 0.9999929999999995,
          "frequency_other": 0.9999959999999997,
          "observed_growth_rate": 0.9999969999879997,
          "projected_frequency": 1,
          "timepoint": "2025-04-01T00:00:00",
          "year": 2025
         },
         {
          "clade_membership": "6fabbb5",
          "estimated_growth_rate": 1.0000040000160004,
          "frequency": 0.9999959999999997,
          "frequency_final": 0.9999929999999995,
          "frequency_other": 0.9999959999999997,
          "observed_growth_rate": 0.9999969999879997,
          "projected_frequency": 1,
          "timepoint": "2025-04-01T00:00:00",
          "year": 2025
         },
         {
          "clade_membership": "7a88259",
          "estimated_growth_rate": 1.0000040000160004,
          "frequency": 0.9999959999999997,
          "frequency_final": 0.9999929999999995,
          "frequency_other": 0.9999959999999997,
          "observed_growth_rate": 0.9999969999879997,
          "projected_frequency": 1,
          "timepoint": "2025-04-01T00:00:00",
          "year": 2025
         },
         {
          "clade_membership": "7bea6f6",
          "estimated_growth_rate": 1.0000280007487268,
          "frequency": 0.9999719999999996,
          "frequency_final": 0.9999929999999995,
          "frequency_other": 0.9999719999999996,
          "observed_growth_rate": 1.0000210005880164,
          "projected_frequency": 0.9999999999647055,
          "timepoint": "2025-04-01T00:00:00",
          "year": 2025
         },
         {
          "clade_membership": "8126320",
          "estimated_growth_rate": 1.0000040000160004,
          "frequency": 0.9999959999999997,
          "frequency_final": 0.9999929999999995,
          "frequency_other": 0.9999959999999997,
          "observed_growth_rate": 0.9999969999879997,
          "projected_frequency": 1,
          "timepoint": "2025-04-01T00:00:00",
          "year": 2025
         },
         {
          "clade_membership": "8544c1e",
          "estimated_growth_rate": 1.0000040000160004,
          "frequency": 0.9999959999999997,
          "frequency_final": 0.9999929999999995,
          "frequency_other": 0.9999959999999997,
          "observed_growth_rate": 0.9999969999879997,
          "projected_frequency": 1,
          "timepoint": "2025-04-01T00:00:00",
          "year": 2025
         },
         {
          "clade_membership": "8727a54",
          "estimated_growth_rate": 1.0000040000160004,
          "frequency": 0.9999959999999997,
          "frequency_final": 0.9999929999999995,
          "frequency_other": 0.9999959999999997,
          "observed_growth_rate": 0.9999969999879997,
          "projected_frequency": 1,
          "timepoint": "2025-04-01T00:00:00",
          "year": 2025
         },
         {
          "clade_membership": "b125362",
          "estimated_growth_rate": 1.0000040000160004,
          "frequency": 0.9999959999999997,
          "frequency_final": 0.9999929999999995,
          "frequency_other": 0.9999959999999997,
          "observed_growth_rate": 0.9999969999879997,
          "projected_frequency": 1,
          "timepoint": "2025-04-01T00:00:00",
          "year": 2025
         },
         {
          "clade_membership": "b19fe11",
          "estimated_growth_rate": 1.1802203641927105,
          "frequency": 0.8472989999999997,
          "frequency_final": 0.501862,
          "frequency_other": 0.8472989999999997,
          "observed_growth_rate": 0.5923080282167219,
          "projected_frequency": 0.999999534360119,
          "timepoint": "2025-04-01T00:00:00",
          "year": 2025
         },
         {
          "clade_membership": "b66b3e9",
          "estimated_growth_rate": 1.0000040000160004,
          "frequency": 0.9999959999999997,
          "frequency_final": 0.9999929999999995,
          "frequency_other": 0.9999959999999997,
          "observed_growth_rate": 0.9999969999879997,
          "projected_frequency": 1,
          "timepoint": "2025-04-01T00:00:00",
          "year": 2025
         },
         {
          "clade_membership": "b771746",
          "estimated_growth_rate": 1.0000040000160004,
          "frequency": 0.9999959999999997,
          "frequency_final": 0.9999929999999995,
          "frequency_other": 0.9999959999999997,
          "observed_growth_rate": 0.9999969999879997,
          "projected_frequency": 1,
          "timepoint": "2025-04-01T00:00:00",
          "year": 2025
         },
         {
          "clade_membership": "bae78d3",
          "estimated_growth_rate": 1.0000040000160004,
          "frequency": 0.9999959999999997,
          "frequency_final": 0.9999929999999995,
          "frequency_other": 0.9999959999999997,
          "observed_growth_rate": 0.9999969999879997,
          "projected_frequency": 1,
          "timepoint": "2025-04-01T00:00:00",
          "year": 2025
         },
         {
          "clade_membership": "c72df39",
          "estimated_growth_rate": 1.0000040000160004,
          "frequency": 0.9999959999999997,
          "frequency_final": 0.9999929999999995,
          "frequency_other": 0.9999959999999997,
          "observed_growth_rate": 0.9999969999879997,
          "projected_frequency": 1,
          "timepoint": "2025-04-01T00:00:00",
          "year": 2025
         },
         {
          "clade_membership": "cbef932",
          "estimated_growth_rate": 1.0000040000160004,
          "frequency": 0.9999959999999997,
          "frequency_final": 0.9999929999999995,
          "frequency_other": 0.9999959999999997,
          "observed_growth_rate": 0.9999969999879997,
          "projected_frequency": 1,
          "timepoint": "2025-04-01T00:00:00",
          "year": 2025
         },
         {
          "clade_membership": "da37a22",
          "estimated_growth_rate": 1.0000040000160004,
          "frequency": 0.9999959999999997,
          "frequency_final": 0.9999929999999995,
          "frequency_other": 0.9999959999999997,
          "observed_growth_rate": 0.9999969999879997,
          "projected_frequency": 1,
          "timepoint": "2025-04-01T00:00:00",
          "year": 2025
         },
         {
          "clade_membership": "e72bf28",
          "estimated_growth_rate": 1.0000040000160004,
          "frequency": 0.9999959999999997,
          "frequency_final": 0.9999929999999995,
          "frequency_other": 0.9999959999999997,
          "observed_growth_rate": 0.9999969999879997,
          "projected_frequency": 1,
          "timepoint": "2025-04-01T00:00:00",
          "year": 2025
         },
         {
          "clade_membership": "eb2f804",
          "estimated_growth_rate": 1.0000040000160004,
          "frequency": 0.9999959999999997,
          "frequency_final": 0.9999929999999995,
          "frequency_other": 0.9999959999999997,
          "observed_growth_rate": 0.9999969999879997,
          "projected_frequency": 1,
          "timepoint": "2025-04-01T00:00:00",
          "year": 2025
         },
         {
          "clade_membership": "f263904",
          "estimated_growth_rate": 1.0000280007487268,
          "frequency": 0.9999719999999996,
          "frequency_final": 0.9999929999999995,
          "frequency_other": 0.9999719999999996,
          "observed_growth_rate": 1.0000210005880164,
          "projected_frequency": 0.9999999999647055,
          "timepoint": "2025-04-01T00:00:00",
          "year": 2025
         },
         {
          "clade_membership": "f657904",
          "estimated_growth_rate": 1.5544728859995842,
          "frequency": 0.643304,
          "frequency_final": 0.437973,
          "frequency_other": 0.643304,
          "observed_growth_rate": 0.6808180891149441,
          "projected_frequency": 0.9999986254550766,
          "timepoint": "2025-04-01T00:00:00",
          "year": 2025
         },
         {
          "clade_membership": "f6d9b34",
          "estimated_growth_rate": 1.0000040000160004,
          "frequency": 0.9999959999999997,
          "frequency_final": 0.9999929999999995,
          "frequency_other": 0.9999959999999997,
          "observed_growth_rate": 0.9999969999879997,
          "projected_frequency": 1,
          "timepoint": "2025-04-01T00:00:00",
          "year": 2025
         },
         {
          "clade_membership": "root",
          "estimated_growth_rate": 1.0000040000160004,
          "frequency": 0.9999959999999997,
          "frequency_final": 0.9999929999999995,
          "frequency_other": 0.9999959999999997,
          "observed_growth_rate": 0.9999969999879997,
          "projected_frequency": 1,
          "timepoint": "2025-04-01T00:00:00",
          "year": 2025
         },
         {
          "clade_membership": "029c69d",
          "estimated_growth_rate": 1.0000000000000007,
          "frequency": 0.9999999999999992,
          "frequency_final": 1.000015,
          "frequency_other": 0.9999999999999992,
          "observed_growth_rate": 1.000015000000001,
          "projected_frequency": 0.9999999999999998,
          "timepoint": "2025-10-01T00:00:00",
          "year": 2025
         },
         {
          "clade_membership": "0654693",
          "estimated_growth_rate": 1.0000000000000007,
          "frequency": 0.9999999999999992,
          "frequency_final": 1.000015,
          "frequency_other": 0.9999999999999992,
          "observed_growth_rate": 1.000015000000001,
          "projected_frequency": 0.9999999999999998,
          "timepoint": "2025-10-01T00:00:00",
          "year": 2025
         },
         {
          "clade_membership": "0783f23",
          "estimated_growth_rate": 1.0000000000000007,
          "frequency": 0.9999999999999992,
          "frequency_final": 1.000015,
          "frequency_other": 0.9999999999999992,
          "observed_growth_rate": 1.000015000000001,
          "projected_frequency": 0.9999999999999998,
          "timepoint": "2025-10-01T00:00:00",
          "year": 2025
         },
         {
          "clade_membership": "0d82b51",
          "estimated_growth_rate": 1.0000000000000007,
          "frequency": 0.9999999999999992,
          "frequency_final": 1.000015,
          "frequency_other": 0.9999999999999992,
          "observed_growth_rate": 1.000015000000001,
          "projected_frequency": 0.9999999999999998,
          "timepoint": "2025-10-01T00:00:00",
          "year": 2025
         },
         {
          "clade_membership": "0d8bb1e",
          "estimated_growth_rate": 1.0000000000000007,
          "frequency": 0.9999999999999992,
          "frequency_final": 1.000015,
          "frequency_other": 0.9999999999999992,
          "observed_growth_rate": 1.000015000000001,
          "projected_frequency": 0.9999999999999998,
          "timepoint": "2025-10-01T00:00:00",
          "year": 2025
         },
         {
          "clade_membership": "1bce829",
          "estimated_growth_rate": 1.0000000000000007,
          "frequency": 0.9999999999999992,
          "frequency_final": 1.000015,
          "frequency_other": 0.9999999999999992,
          "observed_growth_rate": 1.000015000000001,
          "projected_frequency": 0.9999999999999998,
          "timepoint": "2025-10-01T00:00:00",
          "year": 2025
         },
         {
          "clade_membership": "2018235",
          "estimated_growth_rate": 1.0000000000000007,
          "frequency": 0.9999999999999992,
          "frequency_final": 1.000015,
          "frequency_other": 0.9999999999999992,
          "observed_growth_rate": 1.000015000000001,
          "projected_frequency": 0.9999999999999998,
          "timepoint": "2025-10-01T00:00:00",
          "year": 2025
         },
         {
          "clade_membership": "289c480",
          "estimated_growth_rate": 1.0000000000000007,
          "frequency": 0.9999999999999992,
          "frequency_final": 1.000015,
          "frequency_other": 0.9999999999999992,
          "observed_growth_rate": 1.000015000000001,
          "projected_frequency": 0.9999999999999998,
          "timepoint": "2025-10-01T00:00:00",
          "year": 2025
         },
         {
          "clade_membership": "2edcf74",
          "estimated_growth_rate": 1.0000000000000007,
          "frequency": 0.9999999999999992,
          "frequency_final": 1.000015,
          "frequency_other": 0.9999999999999992,
          "observed_growth_rate": 1.000015000000001,
          "projected_frequency": 0.9999999999999998,
          "timepoint": "2025-10-01T00:00:00",
          "year": 2025
         },
         {
          "clade_membership": "30c6c1b",
          "estimated_growth_rate": 1.0000000000000007,
          "frequency": 0.9999999999999992,
          "frequency_final": 1.000015,
          "frequency_other": 0.9999999999999992,
          "observed_growth_rate": 1.000015000000001,
          "projected_frequency": 0.9999999999999998,
          "timepoint": "2025-10-01T00:00:00",
          "year": 2025
         },
         {
          "clade_membership": "34e540e",
          "estimated_growth_rate": 0.009720295918649032,
          "frequency": 0.153783,
          "frequency_final": 0.007730000000000002,
          "frequency_other": 0.153783,
          "observed_growth_rate": 0.050265634042774565,
          "projected_frequency": 0.0014948162672576042,
          "timepoint": "2025-10-01T00:00:00",
          "year": 2025
         },
         {
          "clade_membership": "37311eb",
          "estimated_growth_rate": 1.228669532876585,
          "frequency": 0.8025179999999996,
          "frequency_final": 0.32413199999999986,
          "frequency_other": 0.8025179999999996,
          "observed_growth_rate": 0.4038937444393771,
          "projected_frequency": 0.9860294161850509,
          "timepoint": "2025-10-01T00:00:00",
          "year": 2025
         },
         {
          "clade_membership": "3aad673",
          "estimated_growth_rate": 1.0000000000000007,
          "frequency": 0.9999999999999992,
          "frequency_final": 1.000015,
          "frequency_other": 0.9999999999999992,
          "observed_growth_rate": 1.000015000000001,
          "projected_frequency": 0.9999999999999998,
          "timepoint": "2025-10-01T00:00:00",
          "year": 2025
         },
         {
          "clade_membership": "3b07f48",
          "estimated_growth_rate": 1.228669532876585,
          "frequency": 0.8025179999999996,
          "frequency_final": 0.32413199999999986,
          "frequency_other": 0.8025179999999996,
          "observed_growth_rate": 0.4038937444393771,
          "projected_frequency": 0.9860294161850509,
          "timepoint": "2025-10-01T00:00:00",
          "year": 2025
         },
         {
          "clade_membership": "3db57b6",
          "estimated_growth_rate": 1.6803009214303044,
          "frequency": 0.5864289999999998,
          "frequency_final": 0.008564,
          "frequency_other": 0.5864289999999998,
          "observed_growth_rate": 0.014603643407812377,
          "projected_frequency": 0.9853771890534515,
          "timepoint": "2025-10-01T00:00:00",
          "year": 2025
         },
         {
          "clade_membership": "3f3f0ca",
          "estimated_growth_rate": 1.0000000000000007,
          "frequency": 0.9999999999999992,
          "frequency_final": 1.000015,
          "frequency_other": 0.9999999999999992,
          "observed_growth_rate": 1.000015000000001,
          "projected_frequency": 0.9999999999999998,
          "timepoint": "2025-10-01T00:00:00",
          "year": 2025
         },
         {
          "clade_membership": "433fd0b",
          "estimated_growth_rate": 1.228669532876585,
          "frequency": 0.8025179999999996,
          "frequency_final": 0.32413199999999986,
          "frequency_other": 0.8025179999999996,
          "observed_growth_rate": 0.4038937444393771,
          "projected_frequency": 0.9860294161850509,
          "timepoint": "2025-10-01T00:00:00",
          "year": 2025
         },
         {
          "clade_membership": "4eae73a",
          "estimated_growth_rate": 1.0000000000000007,
          "frequency": 0.9999999999999992,
          "frequency_final": 1.000015,
          "frequency_other": 0.9999999999999992,
          "observed_growth_rate": 1.000015000000001,
          "projected_frequency": 0.9999999999999998,
          "timepoint": "2025-10-01T00:00:00",
          "year": 2025
         },
         {
          "clade_membership": "53320bc",
          "estimated_growth_rate": 1.0000000000000007,
          "frequency": 0.9999999999999992,
          "frequency_final": 1.000015,
          "frequency_other": 0.9999999999999992,
          "observed_growth_rate": 1.000015000000001,
          "projected_frequency": 0.9999999999999998,
          "timepoint": "2025-10-01T00:00:00",
          "year": 2025
         },
         {
          "clade_membership": "53d3851",
          "estimated_growth_rate": 1.0000000000000007,
          "frequency": 0.9999999999999992,
          "frequency_final": 1.000015,
          "frequency_other": 0.9999999999999992,
          "observed_growth_rate": 1.000015000000001,
          "projected_frequency": 0.9999999999999998,
          "timepoint": "2025-10-01T00:00:00",
          "year": 2025
         },
         {
          "clade_membership": "57bbb79",
          "estimated_growth_rate": 1.0000000000000007,
          "frequency": 0.9999999999999992,
          "frequency_final": 1.000015,
          "frequency_other": 0.9999999999999992,
          "observed_growth_rate": 1.000015000000001,
          "projected_frequency": 0.9999999999999998,
          "timepoint": "2025-10-01T00:00:00",
          "year": 2025
         },
         {
          "clade_membership": "5a8b5f6",
          "estimated_growth_rate": 1.0000000000000007,
          "frequency": 0.9999999999999992,
          "frequency_final": 1.000015,
          "frequency_other": 0.9999999999999992,
          "observed_growth_rate": 1.000015000000001,
          "projected_frequency": 0.9999999999999998,
          "timepoint": "2025-10-01T00:00:00",
          "year": 2025
         },
         {
          "clade_membership": "6270695",
          "estimated_growth_rate": 1.0000000000000007,
          "frequency": 0.9999999999999992,
          "frequency_final": 1.000015,
          "frequency_other": 0.9999999999999992,
          "observed_growth_rate": 1.000015000000001,
          "projected_frequency": 0.9999999999999998,
          "timepoint": "2025-10-01T00:00:00",
          "year": 2025
         },
         {
          "clade_membership": "63fb9b5",
          "estimated_growth_rate": 1.0000000000000007,
          "frequency": 0.9999999999999992,
          "frequency_final": 1.000015,
          "frequency_other": 0.9999999999999992,
          "observed_growth_rate": 1.000015000000001,
          "projected_frequency": 0.9999999999999998,
          "timepoint": "2025-10-01T00:00:00",
          "year": 2025
         },
         {
          "clade_membership": "670a3cd",
          "estimated_growth_rate": 1.0000000000000007,
          "frequency": 0.9999999999999992,
          "frequency_final": 1.000015,
          "frequency_other": 0.9999999999999992,
          "observed_growth_rate": 1.000015000000001,
          "projected_frequency": 0.9999999999999998,
          "timepoint": "2025-10-01T00:00:00",
          "year": 2025
         },
         {
          "clade_membership": "6fabbb5",
          "estimated_growth_rate": 1.0000000000000007,
          "frequency": 0.9999999999999992,
          "frequency_final": 1.000015,
          "frequency_other": 0.9999999999999992,
          "observed_growth_rate": 1.000015000000001,
          "projected_frequency": 0.9999999999999998,
          "timepoint": "2025-10-01T00:00:00",
          "year": 2025
         },
         {
          "clade_membership": "7a88259",
          "estimated_growth_rate": 1.0000000000000007,
          "frequency": 0.9999999999999992,
          "frequency_final": 1.000015,
          "frequency_other": 0.9999999999999992,
          "observed_growth_rate": 1.000015000000001,
          "projected_frequency": 0.9999999999999998,
          "timepoint": "2025-10-01T00:00:00",
          "year": 2025
         },
         {
          "clade_membership": "7bea6f6",
          "estimated_growth_rate": 1.0000000000000007,
          "frequency": 0.9999999999999992,
          "frequency_final": 1.000015,
          "frequency_other": 0.9999999999999992,
          "observed_growth_rate": 1.000015000000001,
          "projected_frequency": 0.9999999999999998,
          "timepoint": "2025-10-01T00:00:00",
          "year": 2025
         },
         {
          "clade_membership": "8126320",
          "estimated_growth_rate": 1.0000000000000007,
          "frequency": 0.9999999999999992,
          "frequency_final": 1.000015,
          "frequency_other": 0.9999999999999992,
          "observed_growth_rate": 1.000015000000001,
          "projected_frequency": 0.9999999999999998,
          "timepoint": "2025-10-01T00:00:00",
          "year": 2025
         },
         {
          "clade_membership": "8544c1e",
          "estimated_growth_rate": 1.0000000000000007,
          "frequency": 0.9999999999999992,
          "frequency_final": 1.000015,
          "frequency_other": 0.9999999999999992,
          "observed_growth_rate": 1.000015000000001,
          "projected_frequency": 0.9999999999999998,
          "timepoint": "2025-10-01T00:00:00",
          "year": 2025
         },
         {
          "clade_membership": "8727a54",
          "estimated_growth_rate": 1.0000000000000007,
          "frequency": 0.9999999999999992,
          "frequency_final": 1.000015,
          "frequency_other": 0.9999999999999992,
          "observed_growth_rate": 1.000015000000001,
          "projected_frequency": 0.9999999999999998,
          "timepoint": "2025-10-01T00:00:00",
          "year": 2025
         },
         {
          "clade_membership": "b125362",
          "estimated_growth_rate": 1.0000000000000007,
          "frequency": 0.9999999999999992,
          "frequency_final": 1.000015,
          "frequency_other": 0.9999999999999992,
          "observed_growth_rate": 1.000015000000001,
          "projected_frequency": 0.9999999999999998,
          "timepoint": "2025-10-01T00:00:00",
          "year": 2025
         },
         {
          "clade_membership": "b19fe11",
          "estimated_growth_rate": 1.1372624412281271,
          "frequency": 0.8763089999999993,
          "frequency_final": 0.32413199999999986,
          "frequency_other": 0.8763089999999993,
          "observed_growth_rate": 0.36988322612229263,
          "projected_frequency": 0.996593312610178,
          "timepoint": "2025-10-01T00:00:00",
          "year": 2025
         },
         {
          "clade_membership": "b66b3e9",
          "estimated_growth_rate": 1.0000000000000007,
          "frequency": 0.9999999999999992,
          "frequency_final": 1.000015,
          "frequency_other": 0.9999999999999992,
          "observed_growth_rate": 1.000015000000001,
          "projected_frequency": 0.9999999999999998,
          "timepoint": "2025-10-01T00:00:00",
          "year": 2025
         },
         {
          "clade_membership": "b771746",
          "estimated_growth_rate": 1.0000000000000007,
          "frequency": 0.9999999999999992,
          "frequency_final": 1.000015,
          "frequency_other": 0.9999999999999992,
          "observed_growth_rate": 1.000015000000001,
          "projected_frequency": 0.9999999999999998,
          "timepoint": "2025-10-01T00:00:00",
          "year": 2025
         },
         {
          "clade_membership": "bae78d3",
          "estimated_growth_rate": 1.0000000000000007,
          "frequency": 0.9999999999999992,
          "frequency_final": 1.000015,
          "frequency_other": 0.9999999999999992,
          "observed_growth_rate": 1.000015000000001,
          "projected_frequency": 0.9999999999999998,
          "timepoint": "2025-10-01T00:00:00",
          "year": 2025
         },
         {
          "clade_membership": "c72df39",
          "estimated_growth_rate": 1.0000000000000007,
          "frequency": 0.9999999999999992,
          "frequency_final": 1.000015,
          "frequency_other": 0.9999999999999992,
          "observed_growth_rate": 1.000015000000001,
          "projected_frequency": 0.9999999999999998,
          "timepoint": "2025-10-01T00:00:00",
          "year": 2025
         },
         {
          "clade_membership": "cbef932",
          "estimated_growth_rate": 1.0000000000000007,
          "frequency": 0.9999999999999992,
          "frequency_final": 1.000015,
          "frequency_other": 0.9999999999999992,
          "observed_growth_rate": 1.000015000000001,
          "projected_frequency": 0.9999999999999998,
          "timepoint": "2025-10-01T00:00:00",
          "year": 2025
         },
         {
          "clade_membership": "da37a22",
          "estimated_growth_rate": 1.0000000000000007,
          "frequency": 0.9999999999999992,
          "frequency_final": 1.000015,
          "frequency_other": 0.9999999999999992,
          "observed_growth_rate": 1.000015000000001,
          "projected_frequency": 0.9999999999999998,
          "timepoint": "2025-10-01T00:00:00",
          "year": 2025
         },
         {
          "clade_membership": "e72bf28",
          "estimated_growth_rate": 1.0000000000000007,
          "frequency": 0.9999999999999992,
          "frequency_final": 1.000015,
          "frequency_other": 0.9999999999999992,
          "observed_growth_rate": 1.000015000000001,
          "projected_frequency": 0.9999999999999998,
          "timepoint": "2025-10-01T00:00:00",
          "year": 2025
         },
         {
          "clade_membership": "eb2f804",
          "estimated_growth_rate": 1.0000000000000007,
          "frequency": 0.9999999999999992,
          "frequency_final": 1.000015,
          "frequency_other": 0.9999999999999992,
          "observed_growth_rate": 1.000015000000001,
          "projected_frequency": 0.9999999999999998,
          "timepoint": "2025-10-01T00:00:00",
          "year": 2025
         },
         {
          "clade_membership": "f263904",
          "estimated_growth_rate": 1.0000000000000007,
          "frequency": 0.9999999999999992,
          "frequency_final": 1.000015,
          "frequency_other": 0.9999999999999992,
          "observed_growth_rate": 1.000015000000001,
          "projected_frequency": 0.9999999999999998,
          "timepoint": "2025-10-01T00:00:00",
          "year": 2025
         },
         {
          "clade_membership": "f657904",
          "estimated_growth_rate": 1.3900498583301248,
          "frequency": 0.7090839999999996,
          "frequency_final": 0.31640199999999985,
          "frequency_other": 0.7090839999999996,
          "observed_growth_rate": 0.4462122964275037,
          "projected_frequency": 0.9856621137441577,
          "timepoint": "2025-10-01T00:00:00",
          "year": 2025
         },
         {
          "clade_membership": "f6d9b34",
          "estimated_growth_rate": 1.0000000000000007,
          "frequency": 0.9999999999999992,
          "frequency_final": 1.000015,
          "frequency_other": 0.9999999999999992,
          "observed_growth_rate": 1.000015000000001,
          "projected_frequency": 0.9999999999999998,
          "timepoint": "2025-10-01T00:00:00",
          "year": 2025
         },
         {
          "clade_membership": "root",
          "estimated_growth_rate": 1.0000000000000007,
          "frequency": 0.9999999999999992,
          "frequency_final": 1.000015,
          "frequency_other": 0.9999999999999992,
          "observed_growth_rate": 1.000015000000001,
          "projected_frequency": 0.9999999999999998,
          "timepoint": "2025-10-01T00:00:00",
          "year": 2025
         },
         {
          "clade_membership": "00128ca",
          "estimated_growth_rate": 5.914784624736854,
          "frequency": 0.169049,
          "frequency_final": 0.5957539999999999,
          "frequency_other": 0.169049,
          "observed_growth_rate": 3.5241498027199207,
          "projected_frequency": 0.9998884260271405,
          "timepoint": "2026-04-01T00:00:00",
          "year": 2026
         },
         {
          "clade_membership": "029c69d",
          "estimated_growth_rate": 1.0000070000490013,
          "frequency": 0.9999929999999995,
          "frequency_final": 1.0000170000000002,
          "frequency_other": 0.9999929999999995,
          "observed_growth_rate": 1.0000240001680019,
          "projected_frequency": 1.0000000000000004,
          "timepoint": "2026-04-01T00:00:00",
          "year": 2026
         },
         {
          "clade_membership": "0654693",
          "estimated_growth_rate": 1.0000070000490013,
          "frequency": 0.9999929999999995,
          "frequency_final": 1.0000170000000002,
          "frequency_other": 0.9999929999999995,
          "observed_growth_rate": 1.0000240001680019,
          "projected_frequency": 1.0000000000000004,
          "timepoint": "2026-04-01T00:00:00",
          "year": 2026
         },
         {
          "clade_membership": "0783f23",
          "estimated_growth_rate": 1.0000070000490013,
          "frequency": 0.9999929999999995,
          "frequency_final": 1.0000170000000002,
          "frequency_other": 0.9999929999999995,
          "observed_growth_rate": 1.0000240001680019,
          "projected_frequency": 1.0000000000000004,
          "timepoint": "2026-04-01T00:00:00",
          "year": 2026
         },
         {
          "clade_membership": "0d82b51",
          "estimated_growth_rate": 1.0000070000490013,
          "frequency": 0.9999929999999995,
          "frequency_final": 1.0000170000000002,
          "frequency_other": 0.9999929999999995,
          "observed_growth_rate": 1.0000240001680019,
          "projected_frequency": 1.0000000000000004,
          "timepoint": "2026-04-01T00:00:00",
          "year": 2026
         },
         {
          "clade_membership": "0d8bb1e",
          "estimated_growth_rate": 1.0000070000490013,
          "frequency": 0.9999929999999995,
          "frequency_final": 1.0000170000000002,
          "frequency_other": 0.9999929999999995,
          "observed_growth_rate": 1.0000240001680019,
          "projected_frequency": 1.0000000000000004,
          "timepoint": "2026-04-01T00:00:00",
          "year": 2026
         },
         {
          "clade_membership": "1bce829",
          "estimated_growth_rate": 1.0000070000490013,
          "frequency": 0.9999929999999995,
          "frequency_final": 1.0000170000000002,
          "frequency_other": 0.9999929999999995,
          "observed_growth_rate": 1.0000240001680019,
          "projected_frequency": 1.0000000000000004,
          "timepoint": "2026-04-01T00:00:00",
          "year": 2026
         },
         {
          "clade_membership": "1f6665e",
          "estimated_growth_rate": 3.274319883255022,
          "frequency": 0.305375,
          "frequency_final": 0.6380669999999999,
          "frequency_other": 0.305375,
          "observed_growth_rate": 2.0894539500613996,
          "projected_frequency": 0.9998954343490024,
          "timepoint": "2026-04-01T00:00:00",
          "year": 2026
         },
         {
          "clade_membership": "2018235",
          "estimated_growth_rate": 1.0000070000490013,
          "frequency": 0.9999929999999995,
          "frequency_final": 1.0000170000000002,
          "frequency_other": 0.9999929999999995,
          "observed_growth_rate": 1.0000240001680019,
          "projected_frequency": 1.0000000000000004,
          "timepoint": "2026-04-01T00:00:00",
          "year": 2026
         },
         {
          "clade_membership": "289c480",
          "estimated_growth_rate": 1.0000070000490013,
          "frequency": 0.9999929999999995,
          "frequency_final": 1.0000170000000002,
          "frequency_other": 0.9999929999999995,
          "observed_growth_rate": 1.0000240001680019,
          "projected_frequency": 1.0000000000000004,
          "timepoint": "2026-04-01T00:00:00",
          "year": 2026
         },
         {
          "clade_membership": "2edcf74",
          "estimated_growth_rate": 1.0000070000490013,
          "frequency": 0.9999929999999995,
          "frequency_final": 1.0000170000000002,
          "frequency_other": 0.9999929999999995,
          "observed_growth_rate": 1.0000240001680019,
          "projected_frequency": 1.0000000000000004,
          "timepoint": "2026-04-01T00:00:00",
          "year": 2026
         },
         {
          "clade_membership": "30c6c1b",
          "estimated_growth_rate": 1.0000070000490013,
          "frequency": 0.9999929999999995,
          "frequency_final": 1.0000170000000002,
          "frequency_other": 0.9999929999999995,
          "observed_growth_rate": 1.0000240001680019,
          "projected_frequency": 1.0000000000000004,
          "timepoint": "2026-04-01T00:00:00",
          "year": 2026
         },
         {
          "clade_membership": "37311eb",
          "estimated_growth_rate": 3.814271406005002e-05,
          "frequency": 0.47316299999999994,
          "frequency_final": 0.34336399999999995,
          "frequency_other": 0.47316300000000006,
          "observed_growth_rate": 0.725678043295862,
          "projected_frequency": 1.8047721012795447e-05,
          "timepoint": "2026-04-01T00:00:00",
          "year": 2026
         },
         {
          "clade_membership": "3aad673",
          "estimated_growth_rate": 1.0000070000490013,
          "frequency": 0.9999929999999995,
          "frequency_final": 1.0000170000000002,
          "frequency_other": 0.9999929999999995,
          "observed_growth_rate": 1.0000240001680019,
          "projected_frequency": 1.0000000000000004,
          "timepoint": "2026-04-01T00:00:00",
          "year": 2026
         },
         {
          "clade_membership": "3b07f48",
          "estimated_growth_rate": 3.814271406005002e-05,
          "frequency": 0.47316299999999994,
          "frequency_final": 0.34336399999999995,
          "frequency_other": 0.47316300000000006,
          "observed_growth_rate": 0.725678043295862,
          "projected_frequency": 1.8047721012795447e-05,
          "timepoint": "2026-04-01T00:00:00",
          "year": 2026
         },
         {
          "clade_membership": "3db57b6",
          "estimated_growth_rate": 3.762285670619029e-05,
          "frequency": 0.40668599999999994,
          "frequency_final": 0,
          "frequency_other": 0.40668599999999994,
          "observed_growth_rate": 0,
          "projected_frequency": 1.53006891024137e-05,
          "timepoint": "2026-04-01T00:00:00",
          "year": 2026
         },
         {
          "clade_membership": "3f3f0ca",
          "estimated_growth_rate": 1.0000070000490013,
          "frequency": 0.9999929999999995,
          "frequency_final": 1.0000170000000002,
          "frequency_other": 0.9999929999999995,
          "observed_growth_rate": 1.0000240001680019,
          "projected_frequency": 1.0000000000000004,
          "timepoint": "2026-04-01T00:00:00",
          "year": 2026
         },
         {
          "clade_membership": "433fd0b",
          "estimated_growth_rate": 3.814271406005002e-05,
          "frequency": 0.47316299999999994,
          "frequency_final": 0.34336399999999995,
          "frequency_other": 0.47316300000000006,
          "observed_growth_rate": 0.725678043295862,
          "projected_frequency": 1.8047721012795447e-05,
          "timepoint": "2026-04-01T00:00:00",
          "year": 2026
         },
         {
          "clade_membership": "4eae73a",
          "estimated_growth_rate": 1.0000070000490013,
          "frequency": 0.9999929999999995,
          "frequency_final": 1.0000170000000002,
          "frequency_other": 0.9999929999999995,
          "observed_growth_rate": 1.0000240001680019,
          "projected_frequency": 1.0000000000000004,
          "timepoint": "2026-04-01T00:00:00",
          "year": 2026
         },
         {
          "clade_membership": "53320bc",
          "estimated_growth_rate": 1.0000070000490013,
          "frequency": 0.9999929999999995,
          "frequency_final": 1.0000170000000002,
          "frequency_other": 0.9999929999999995,
          "observed_growth_rate": 1.0000240001680019,
          "projected_frequency": 1.0000000000000004,
          "timepoint": "2026-04-01T00:00:00",
          "year": 2026
         },
         {
          "clade_membership": "53d3851",
          "estimated_growth_rate": 1.0000070000490013,
          "frequency": 0.9999929999999995,
          "frequency_final": 1.0000170000000002,
          "frequency_other": 0.9999929999999995,
          "observed_growth_rate": 1.0000240001680019,
          "projected_frequency": 1.0000000000000004,
          "timepoint": "2026-04-01T00:00:00",
          "year": 2026
         },
         {
          "clade_membership": "57bbb79",
          "estimated_growth_rate": 1.0000070000490013,
          "frequency": 0.9999929999999995,
          "frequency_final": 1.0000170000000002,
          "frequency_other": 0.9999929999999995,
          "observed_growth_rate": 1.0000240001680019,
          "projected_frequency": 1.0000000000000004,
          "timepoint": "2026-04-01T00:00:00",
          "year": 2026
         },
         {
          "clade_membership": "5a8b5f6",
          "estimated_growth_rate": 1.0000070000490013,
          "frequency": 0.9999929999999995,
          "frequency_final": 1.0000170000000002,
          "frequency_other": 0.9999929999999995,
          "observed_growth_rate": 1.0000240001680019,
          "projected_frequency": 1.0000000000000004,
          "timepoint": "2026-04-01T00:00:00",
          "year": 2026
         },
         {
          "clade_membership": "6270695",
          "estimated_growth_rate": 1.0000070000490013,
          "frequency": 0.9999929999999995,
          "frequency_final": 1.0000170000000002,
          "frequency_other": 0.9999929999999995,
          "observed_growth_rate": 1.0000240001680019,
          "projected_frequency": 1.0000000000000004,
          "timepoint": "2026-04-01T00:00:00",
          "year": 2026
         },
         {
          "clade_membership": "63fb9b5",
          "estimated_growth_rate": 1.0000070000490013,
          "frequency": 0.9999929999999995,
          "frequency_final": 1.0000170000000002,
          "frequency_other": 0.9999929999999995,
          "observed_growth_rate": 1.0000240001680019,
          "projected_frequency": 1.0000000000000004,
          "timepoint": "2026-04-01T00:00:00",
          "year": 2026
         },
         {
          "clade_membership": "670a3cd",
          "estimated_growth_rate": 1.0000070000490013,
          "frequency": 0.9999929999999995,
          "frequency_final": 1.0000170000000002,
          "frequency_other": 0.9999929999999995,
          "observed_growth_rate": 1.0000240001680019,
          "projected_frequency": 1.0000000000000004,
          "timepoint": "2026-04-01T00:00:00",
          "year": 2026
         },
         {
          "clade_membership": "6fabbb5",
          "estimated_growth_rate": 1.0000070000490013,
          "frequency": 0.9999929999999995,
          "frequency_final": 1.0000170000000002,
          "frequency_other": 0.9999929999999995,
          "observed_growth_rate": 1.0000240001680019,
          "projected_frequency": 1.0000000000000004,
          "timepoint": "2026-04-01T00:00:00",
          "year": 2026
         },
         {
          "clade_membership": "7a88259",
          "estimated_growth_rate": 1.0000070000490013,
          "frequency": 0.9999929999999995,
          "frequency_final": 1.0000170000000002,
          "frequency_other": 0.9999929999999995,
          "observed_growth_rate": 1.0000240001680019,
          "projected_frequency": 1.0000000000000004,
          "timepoint": "2026-04-01T00:00:00",
          "year": 2026
         },
         {
          "clade_membership": "7bea6f6",
          "estimated_growth_rate": 1.0000070000490013,
          "frequency": 0.9999929999999995,
          "frequency_final": 1.0000170000000002,
          "frequency_other": 0.9999929999999995,
          "observed_growth_rate": 1.0000240001680019,
          "projected_frequency": 1.0000000000000004,
          "timepoint": "2026-04-01T00:00:00",
          "year": 2026
         },
         {
          "clade_membership": "8126320",
          "estimated_growth_rate": 1.0000070000490013,
          "frequency": 0.9999929999999995,
          "frequency_final": 1.0000170000000002,
          "frequency_other": 0.9999929999999995,
          "observed_growth_rate": 1.0000240001680019,
          "projected_frequency": 1.0000000000000004,
          "timepoint": "2026-04-01T00:00:00",
          "year": 2026
         },
         {
          "clade_membership": "8544c1e",
          "estimated_growth_rate": 1.0000070000490013,
          "frequency": 0.9999929999999995,
          "frequency_final": 1.0000170000000002,
          "frequency_other": 0.9999929999999995,
          "observed_growth_rate": 1.0000240001680019,
          "projected_frequency": 1.0000000000000004,
          "timepoint": "2026-04-01T00:00:00",
          "year": 2026
         },
         {
          "clade_membership": "8727a54",
          "estimated_growth_rate": 1.0000070000490013,
          "frequency": 0.9999929999999995,
          "frequency_final": 1.0000170000000002,
          "frequency_other": 0.9999929999999995,
          "observed_growth_rate": 1.0000240001680019,
          "projected_frequency": 1.0000000000000004,
          "timepoint": "2026-04-01T00:00:00",
          "year": 2026
         },
         {
          "clade_membership": "a6348ef",
          "estimated_growth_rate": 2.1518859142549633,
          "frequency": 0.4646989999999999,
          "frequency_final": 0.638813,
          "frequency_other": 0.4646989999999999,
          "observed_growth_rate": 1.3746812452792023,
          "projected_frequency": 0.9999792324683671,
          "timepoint": "2026-04-01T00:00:00",
          "year": 2026
         },
         {
          "clade_membership": "b125362",
          "estimated_growth_rate": 1.0000070000490013,
          "frequency": 0.9999929999999995,
          "frequency_final": 1.0000170000000002,
          "frequency_other": 0.9999929999999995,
          "observed_growth_rate": 1.0000240001680019,
          "projected_frequency": 1.0000000000000004,
          "timepoint": "2026-04-01T00:00:00",
          "year": 2026
         },
         {
          "clade_membership": "b19fe11",
          "estimated_growth_rate": 3.9776774794623425e-05,
          "frequency": 0.501862,
          "frequency_final": 0.34336399999999995,
          "frequency_other": 0.501862,
          "observed_growth_rate": 0.6841801132582263,
          "projected_frequency": 1.9962451751979303e-05,
          "timepoint": "2026-04-01T00:00:00",
          "year": 2026
         },
         {
          "clade_membership": "b414da5",
          "estimated_growth_rate": 5.914784624736854,
          "frequency": 0.169049,
          "frequency_final": 0.5957539999999999,
          "frequency_other": 0.169049,
          "observed_growth_rate": 3.5241498027199207,
          "projected_frequency": 0.9998884260271405,
          "timepoint": "2026-04-01T00:00:00",
          "year": 2026
         },
         {
          "clade_membership": "b66b3e9",
          "estimated_growth_rate": 1.0000070000490013,
          "frequency": 0.9999929999999995,
          "frequency_final": 1.0000170000000002,
          "frequency_other": 0.9999929999999995,
          "observed_growth_rate": 1.0000240001680019,
          "projected_frequency": 1.0000000000000004,
          "timepoint": "2026-04-01T00:00:00",
          "year": 2026
         },
         {
          "clade_membership": "b771746",
          "estimated_growth_rate": 1.0000070000490013,
          "frequency": 0.9999929999999995,
          "frequency_final": 1.0000170000000002,
          "frequency_other": 0.9999929999999995,
          "observed_growth_rate": 1.0000240001680019,
          "projected_frequency": 1.0000000000000004,
          "timepoint": "2026-04-01T00:00:00",
          "year": 2026
         },
         {
          "clade_membership": "bae78d3",
          "estimated_growth_rate": 1.0000070000490013,
          "frequency": 0.9999929999999995,
          "frequency_final": 1.0000170000000002,
          "frequency_other": 0.9999929999999995,
          "observed_growth_rate": 1.0000240001680019,
          "projected_frequency": 1.0000000000000004,
          "timepoint": "2026-04-01T00:00:00",
          "year": 2026
         },
         {
          "clade_membership": "c72df39",
          "estimated_growth_rate": 1.0000070000490013,
          "frequency": 0.9999929999999995,
          "frequency_final": 1.0000170000000002,
          "frequency_other": 0.9999929999999995,
          "observed_growth_rate": 1.0000240001680019,
          "projected_frequency": 1.0000000000000004,
          "timepoint": "2026-04-01T00:00:00",
          "year": 2026
         },
         {
          "clade_membership": "cbef932",
          "estimated_growth_rate": 1.0000070000490013,
          "frequency": 0.9999929999999995,
          "frequency_final": 1.0000170000000002,
          "frequency_other": 0.9999929999999995,
          "observed_growth_rate": 1.0000240001680019,
          "projected_frequency": 1.0000000000000004,
          "timepoint": "2026-04-01T00:00:00",
          "year": 2026
         },
         {
          "clade_membership": "d991bc2",
          "estimated_growth_rate": 2.1518859142549633,
          "frequency": 0.4646989999999999,
          "frequency_final": 0.638813,
          "frequency_other": 0.4646989999999999,
          "observed_growth_rate": 1.3746812452792023,
          "projected_frequency": 0.9999792324683671,
          "timepoint": "2026-04-01T00:00:00",
          "year": 2026
         },
         {
          "clade_membership": "da37a22",
          "estimated_growth_rate": 1.0000070000490013,
          "frequency": 0.9999929999999995,
          "frequency_final": 1.0000170000000002,
          "frequency_other": 0.9999929999999995,
          "observed_growth_rate": 1.0000240001680019,
          "projected_frequency": 1.0000000000000004,
          "timepoint": "2026-04-01T00:00:00",
          "year": 2026
         },
         {
          "clade_membership": "e626b38",
          "estimated_growth_rate": 2.1518859142549633,
          "frequency": 0.4646989999999999,
          "frequency_final": 0.638813,
          "frequency_other": 0.4646989999999999,
          "observed_growth_rate": 1.3746812452792023,
          "projected_frequency": 0.9999792324683671,
          "timepoint": "2026-04-01T00:00:00",
          "year": 2026
         },
         {
          "clade_membership": "e72bf28",
          "estimated_growth_rate": 1.0000070000490013,
          "frequency": 0.9999929999999995,
          "frequency_final": 1.0000170000000002,
          "frequency_other": 0.9999929999999995,
          "observed_growth_rate": 1.0000240001680019,
          "projected_frequency": 1.0000000000000004,
          "timepoint": "2026-04-01T00:00:00",
          "year": 2026
         },
         {
          "clade_membership": "eb2f804",
          "estimated_growth_rate": 1.0000070000490013,
          "frequency": 0.9999929999999995,
          "frequency_final": 1.0000170000000002,
          "frequency_other": 0.9999929999999995,
          "observed_growth_rate": 1.0000240001680019,
          "projected_frequency": 1.0000000000000004,
          "timepoint": "2026-04-01T00:00:00",
          "year": 2026
         },
         {
          "clade_membership": "f263904",
          "estimated_growth_rate": 1.0000070000490013,
          "frequency": 0.9999929999999995,
          "frequency_final": 1.0000170000000002,
          "frequency_other": 0.9999929999999995,
          "observed_growth_rate": 1.0000240001680019,
          "projected_frequency": 1.0000000000000004,
          "timepoint": "2026-04-01T00:00:00",
          "year": 2026
         },
         {
          "clade_membership": "f657904",
          "estimated_growth_rate": 3.952929585911997e-05,
          "frequency": 0.437973,
          "frequency_final": 0.34336399999999995,
          "frequency_other": 0.4379730000000001,
          "observed_growth_rate": 0.7839844008648934,
          "projected_frequency": 1.731276429530635e-05,
          "timepoint": "2026-04-01T00:00:00",
          "year": 2026
         },
         {
          "clade_membership": "f6d9b34",
          "estimated_growth_rate": 1.0000070000490013,
          "frequency": 0.9999929999999995,
          "frequency_final": 1.0000170000000002,
          "frequency_other": 0.9999929999999995,
          "observed_growth_rate": 1.0000240001680019,
          "projected_frequency": 1.0000000000000004,
          "timepoint": "2026-04-01T00:00:00",
          "year": 2026
         },
         {
          "clade_membership": "root",
          "estimated_growth_rate": 1.0000070000490013,
          "frequency": 0.9999929999999995,
          "frequency_final": 1.0000170000000002,
          "frequency_other": 0.9999929999999995,
          "observed_growth_rate": 1.0000240001680019,
          "projected_frequency": 1.0000000000000004,
          "timepoint": "2026-04-01T00:00:00",
          "year": 2026
         },
         {
          "clade_membership": "00128ca",
          "estimated_growth_rate": 2.798813037738053,
          "frequency": 0.35154799999999997,
          "frequency_final": 0.666172,
          "frequency_other": 0.35154799999999997,
          "observed_growth_rate": 1.8949674013221525,
          "projected_frequency": 0.983917125790737,
          "timepoint": "2026-10-01T00:00:00",
          "year": 2026
         },
         {
          "clade_membership": "029c69d",
          "estimated_growth_rate": 0.9999850002249965,
          "frequency": 1.000015,
          "frequency_final": 1.000005,
          "frequency_other": 1.000015,
          "observed_growth_rate": 0.9999900001499977,
          "projected_frequency": 1,
          "timepoint": "2026-10-01T00:00:00",
          "year": 2026
         },
         {
          "clade_membership": "0654693",
          "estimated_growth_rate": 0.9999850002249965,
          "frequency": 1.000015,
          "frequency_final": 1.000005,
          "frequency_other": 1.000015,
          "observed_growth_rate": 0.9999900001499977,
          "projected_frequency": 1,
          "timepoint": "2026-10-01T00:00:00",
          "year": 2026
         },
         {
          "clade_membership": "0783f23",
          "estimated_growth_rate": 0.9999850002249965,
          "frequency": 1.000015,
          "frequency_final": 1.000005,
          "frequency_other": 1.000015,
          "observed_growth_rate": 0.9999900001499977,
          "projected_frequency": 1,
          "timepoint": "2026-10-01T00:00:00",
          "year": 2026
         },
         {
          "clade_membership": "0d82b51",
          "estimated_growth_rate": 0.9999850002249965,
          "frequency": 1.000015,
          "frequency_final": 1.000005,
          "frequency_other": 1.000015,
          "observed_growth_rate": 0.9999900001499977,
          "projected_frequency": 1,
          "timepoint": "2026-10-01T00:00:00",
          "year": 2026
         },
         {
          "clade_membership": "0d8bb1e",
          "estimated_growth_rate": 0.9999850002249965,
          "frequency": 1.000015,
          "frequency_final": 1.000005,
          "frequency_other": 1.000015,
          "observed_growth_rate": 0.9999900001499977,
          "projected_frequency": 1,
          "timepoint": "2026-10-01T00:00:00",
          "year": 2026
         },
         {
          "clade_membership": "1bce829",
          "estimated_growth_rate": 0.9999850002249965,
          "frequency": 1.000015,
          "frequency_final": 1.000005,
          "frequency_other": 1.000015,
          "observed_growth_rate": 0.9999900001499977,
          "projected_frequency": 1,
          "timepoint": "2026-10-01T00:00:00",
          "year": 2026
         },
         {
          "clade_membership": "1f6665e",
          "estimated_growth_rate": 1.8619484809211881,
          "frequency": 0.528564,
          "frequency_final": 0.666176,
          "frequency_other": 0.528564,
          "observed_growth_rate": 1.2603506860096412,
          "projected_frequency": 0.984158936869627,
          "timepoint": "2026-10-01T00:00:00",
          "year": 2026
         },
         {
          "clade_membership": "2018235",
          "estimated_growth_rate": 0.9999850002249965,
          "frequency": 1.000015,
          "frequency_final": 1.000005,
          "frequency_other": 1.000015,
          "observed_growth_rate": 0.9999900001499977,
          "projected_frequency": 1,
          "timepoint": "2026-10-01T00:00:00",
          "year": 2026
         },
         {
          "clade_membership": "26d9681",
          "estimated_growth_rate": 0.06196691485746292,
          "frequency": 0.251202,
          "frequency_final": 0.305192,
          "frequency_other": 0.25120200000000004,
          "observed_growth_rate": 1.2149266327497394,
          "projected_frequency": 0.015566212946024399,
          "timepoint": "2026-10-01T00:00:00",
          "year": 2026
         },
         {
          "clade_membership": "2850b07",
          "estimated_growth_rate": 0.05115784144808597,
          "frequency": 0.30783799999999995,
          "frequency_final": 0.305192,
          "frequency_other": 0.30783799999999995,
          "observed_growth_rate": 0.9914045699361355,
          "projected_frequency": 0.015748327595695884,
          "timepoint": "2026-10-01T00:00:00",
          "year": 2026
         },
         {
          "clade_membership": "289c480",
          "estimated_growth_rate": 0.9999850002249965,
          "frequency": 1.000015,
          "frequency_final": 1.000005,
          "frequency_other": 1.000015,
          "observed_growth_rate": 0.9999900001499977,
          "projected_frequency": 1,
          "timepoint": "2026-10-01T00:00:00",
          "year": 2026
         },
         {
          "clade_membership": "2edcf74",
          "estimated_growth_rate": 0.9999850002249965,
          "frequency": 1.000015,
          "frequency_final": 1.000005,
          "frequency_other": 1.000015,
          "observed_growth_rate": 0.9999900001499977,
          "projected_frequency": 1,
          "timepoint": "2026-10-01T00:00:00",
          "year": 2026
         },
         {
          "clade_membership": "30c6c1b",
          "estimated_growth_rate": 0.9999850002249965,
          "frequency": 1.000015,
          "frequency_final": 1.000005,
          "frequency_other": 1.000015,
          "observed_growth_rate": 0.9999900001499977,
          "projected_frequency": 1,
          "timepoint": "2026-10-01T00:00:00",
          "year": 2026
         },
         {
          "clade_membership": "37311eb",
          "estimated_growth_rate": 0.04859310346337619,
          "frequency": 0.32413199999999986,
          "frequency_final": 0.305192,
          "frequency_other": 0.3241319999999999,
          "observed_growth_rate": 0.9415670159071,
          "projected_frequency": 0.015750579811791045,
          "timepoint": "2026-10-01T00:00:00",
          "year": 2026
         },
         {
          "clade_membership": "3aad673",
          "estimated_growth_rate": 0.9999850002249965,
          "frequency": 1.000015,
          "frequency_final": 1.000005,
          "frequency_other": 1.000015,
          "observed_growth_rate": 0.9999900001499977,
          "projected_frequency": 1,
          "timepoint": "2026-10-01T00:00:00",
          "year": 2026
         },
         {
          "clade_membership": "3ae4d43",
          "estimated_growth_rate": 0.1573681487404242,
          "frequency": 0.15817499999999998,
          "frequency_final": 0.6613760000000001,
          "frequency_other": 0.158175,
          "observed_growth_rate": 4.181292871819188,
          "projected_frequency": 0.024891706927016595,
          "timepoint": "2026-10-01T00:00:00",
          "year": 2026
         },
         {
          "clade_membership": "3b07f48",
          "estimated_growth_rate": 0.04859310346337619,
          "frequency": 0.32413199999999986,
          "frequency_final": 0.305192,
          "frequency_other": 0.3241319999999999,
          "observed_growth_rate": 0.9415670159071,
          "projected_frequency": 0.015750579811791045,
          "timepoint": "2026-10-01T00:00:00",
          "year": 2026
         },
         {
          "clade_membership": "3f3f0ca",
          "estimated_growth_rate": 0.9999850002249965,
          "frequency": 1.000015,
          "frequency_final": 1.000005,
          "frequency_other": 1.000015,
          "observed_growth_rate": 0.9999900001499977,
          "projected_frequency": 1,
          "timepoint": "2026-10-01T00:00:00",
          "year": 2026
         },
         {
          "clade_membership": "433fd0b",
          "estimated_growth_rate": 0.04859310346337619,
          "frequency": 0.32413199999999986,
          "frequency_final": 0.305192,
          "frequency_other": 0.3241319999999999,
          "observed_growth_rate": 0.9415670159071,
          "projected_frequency": 0.015750579811791045,
          "timepoint": "2026-10-01T00:00:00",
          "year": 2026
         },
         {
          "clade_membership": "4eae73a",
          "estimated_growth_rate": 0.9999850002249965,
          "frequency": 1.000015,
          "frequency_final": 1.000005,
          "frequency_other": 1.000015,
          "observed_growth_rate": 0.9999900001499977,
          "projected_frequency": 1,
          "timepoint": "2026-10-01T00:00:00",
          "year": 2026
         },
         {
          "clade_membership": "53320bc",
          "estimated_growth_rate": 0.9999850002249965,
          "frequency": 1.000015,
          "frequency_final": 1.000005,
          "frequency_other": 1.000015,
          "observed_growth_rate": 0.9999900001499977,
          "projected_frequency": 1,
          "timepoint": "2026-10-01T00:00:00",
          "year": 2026
         },
         {
          "clade_membership": "53d3851",
          "estimated_growth_rate": 0.9999850002249965,
          "frequency": 1.000015,
          "frequency_final": 1.000005,
          "frequency_other": 1.000015,
          "observed_growth_rate": 0.9999900001499977,
          "projected_frequency": 1,
          "timepoint": "2026-10-01T00:00:00",
          "year": 2026
         },
         {
          "clade_membership": "57bbb79",
          "estimated_growth_rate": 0.9999850002249965,
          "frequency": 1.000015,
          "frequency_final": 1.000005,
          "frequency_other": 1.000015,
          "observed_growth_rate": 0.9999900001499977,
          "projected_frequency": 1,
          "timepoint": "2026-10-01T00:00:00",
          "year": 2026
         },
         {
          "clade_membership": "5a8b5f6",
          "estimated_growth_rate": 0.9999850002249965,
          "frequency": 1.000015,
          "frequency_final": 1.000005,
          "frequency_other": 1.000015,
          "observed_growth_rate": 0.9999900001499977,
          "projected_frequency": 1,
          "timepoint": "2026-10-01T00:00:00",
          "year": 2026
         },
         {
          "clade_membership": "6270695",
          "estimated_growth_rate": 0.9999850002249965,
          "frequency": 1.000015,
          "frequency_final": 1.000005,
          "frequency_other": 1.000015,
          "observed_growth_rate": 0.9999900001499977,
          "projected_frequency": 1,
          "timepoint": "2026-10-01T00:00:00",
          "year": 2026
         },
         {
          "clade_membership": "63fb9b5",
          "estimated_growth_rate": 0.9999850002249965,
          "frequency": 1.000015,
          "frequency_final": 1.000005,
          "frequency_other": 1.000015,
          "observed_growth_rate": 0.9999900001499977,
          "projected_frequency": 1,
          "timepoint": "2026-10-01T00:00:00",
          "year": 2026
         },
         {
          "clade_membership": "670a3cd",
          "estimated_growth_rate": 0.9999850002249965,
          "frequency": 1.000015,
          "frequency_final": 1.000005,
          "frequency_other": 1.000015,
          "observed_growth_rate": 0.9999900001499977,
          "projected_frequency": 1,
          "timepoint": "2026-10-01T00:00:00",
          "year": 2026
         },
         {
          "clade_membership": "6fabbb5",
          "estimated_growth_rate": 0.9999850002249965,
          "frequency": 1.000015,
          "frequency_final": 1.000005,
          "frequency_other": 1.000015,
          "observed_growth_rate": 0.9999900001499977,
          "projected_frequency": 1,
          "timepoint": "2026-10-01T00:00:00",
          "year": 2026
         },
         {
          "clade_membership": "7a88259",
          "estimated_growth_rate": 0.9999850002249965,
          "frequency": 1.000015,
          "frequency_final": 1.000005,
          "frequency_other": 1.000015,
          "observed_growth_rate": 0.9999900001499977,
          "projected_frequency": 1,
          "timepoint": "2026-10-01T00:00:00",
          "year": 2026
         },
         {
          "clade_membership": "7bea6f6",
          "estimated_growth_rate": 0.9999850002249965,
          "frequency": 1.000015,
          "frequency_final": 1.000005,
          "frequency_other": 1.000015,
          "observed_growth_rate": 0.9999900001499977,
          "projected_frequency": 1,
          "timepoint": "2026-10-01T00:00:00",
          "year": 2026
         },
         {
          "clade_membership": "8126320",
          "estimated_growth_rate": 0.9999850002249965,
          "frequency": 1.000015,
          "frequency_final": 1.000005,
          "frequency_other": 1.000015,
          "observed_growth_rate": 0.9999900001499977,
          "projected_frequency": 1,
          "timepoint": "2026-10-01T00:00:00",
          "year": 2026
         },
         {
          "clade_membership": "8544c1e",
          "estimated_growth_rate": 0.9999850002249965,
          "frequency": 1.000015,
          "frequency_final": 1.000005,
          "frequency_other": 1.000015,
          "observed_growth_rate": 0.9999900001499977,
          "projected_frequency": 1,
          "timepoint": "2026-10-01T00:00:00",
          "year": 2026
         },
         {
          "clade_membership": "8727a54",
          "estimated_growth_rate": 0.9999850002249965,
          "frequency": 1.000015,
          "frequency_final": 1.000005,
          "frequency_other": 1.000015,
          "observed_growth_rate": 0.9999900001499977,
          "projected_frequency": 1,
          "timepoint": "2026-10-01T00:00:00",
          "year": 2026
         },
         {
          "clade_membership": "a6348ef",
          "estimated_growth_rate": 1.6030850210138412,
          "frequency": 0.613932,
          "frequency_final": 0.666176,
          "frequency_other": 0.6139320000000001,
          "observed_growth_rate": 1.085097372347426,
          "projected_frequency": 0.9841851931210696,
          "timepoint": "2026-10-01T00:00:00",
          "year": 2026
         },
         {
          "clade_membership": "b125362",
          "estimated_growth_rate": 0.9999850002249965,
          "frequency": 1.000015,
          "frequency_final": 1.000005,
          "frequency_other": 1.000015,
          "observed_growth_rate": 0.9999900001499977,
          "projected_frequency": 1,
          "timepoint": "2026-10-01T00:00:00",
          "year": 2026
         },
         {
          "clade_membership": "b19fe11",
          "estimated_growth_rate": 0.04859310346337619,
          "frequency": 0.32413199999999986,
          "frequency_final": 0.305192,
          "frequency_other": 0.3241319999999999,
          "observed_growth_rate": 0.9415670159071,
          "projected_frequency": 0.015750579811791045,
          "timepoint": "2026-10-01T00:00:00",
          "year": 2026
         },
         {
          "clade_membership": "b414da5",
          "estimated_growth_rate": 2.680657659582457,
          "frequency": 0.367044,
          "frequency_final": 0.666172,
          "frequency_other": 0.367044,
          "observed_growth_rate": 1.8149649633286473,
          "projected_frequency": 0.9839193100037834,
          "timepoint": "2026-10-01T00:00:00",
          "year": 2026
         },
         {
          "clade_membership": "b66b3e9",
          "estimated_growth_rate": 0.9999850002249965,
          "frequency": 1.000015,
          "frequency_final": 1.000005,
          "frequency_other": 1.000015,
          "observed_growth_rate": 0.9999900001499977,
          "projected_frequency": 1,
          "timepoint": "2026-10-01T00:00:00",
          "year": 2026
         },
         {
          "clade_membership": "b771746",
          "estimated_growth_rate": 0.9999850002249965,
          "frequency": 1.000015,
          "frequency_final": 1.000005,
          "frequency_other": 1.000015,
          "observed_growth_rate": 0.9999900001499977,
          "projected_frequency": 1,
          "timepoint": "2026-10-01T00:00:00",
          "year": 2026
         },
         {
          "clade_membership": "bae78d3",
          "estimated_growth_rate": 0.9999850002249965,
          "frequency": 1.000015,
          "frequency_final": 1.000005,
          "frequency_other": 1.000015,
          "observed_growth_rate": 0.9999900001499977,
          "projected_frequency": 1,
          "timepoint": "2026-10-01T00:00:00",
          "year": 2026
         },
         {
          "clade_membership": "bd7776e",
          "estimated_growth_rate": 0.05115784144808597,
          "frequency": 0.30783799999999995,
          "frequency_final": 0.305192,
          "frequency_other": 0.30783799999999995,
          "observed_growth_rate": 0.9914045699361355,
          "projected_frequency": 0.015748327595695884,
          "timepoint": "2026-10-01T00:00:00",
          "year": 2026
         },
         {
          "clade_membership": "c72df39",
          "estimated_growth_rate": 0.9999850002249965,
          "frequency": 1.000015,
          "frequency_final": 1.000005,
          "frequency_other": 1.000015,
          "observed_growth_rate": 0.9999900001499977,
          "projected_frequency": 1,
          "timepoint": "2026-10-01T00:00:00",
          "year": 2026
         },
         {
          "clade_membership": "cbef932",
          "estimated_growth_rate": 0.9999850002249965,
          "frequency": 1.000015,
          "frequency_final": 1.000005,
          "frequency_other": 1.000015,
          "observed_growth_rate": 0.9999900001499977,
          "projected_frequency": 1,
          "timepoint": "2026-10-01T00:00:00",
          "year": 2026
         },
         {
          "clade_membership": "d991bc2",
          "estimated_growth_rate": 1.6030850210138412,
          "frequency": 0.613932,
          "frequency_final": 0.666176,
          "frequency_other": 0.6139320000000001,
          "observed_growth_rate": 1.085097372347426,
          "projected_frequency": 0.9841851931210696,
          "timepoint": "2026-10-01T00:00:00",
          "year": 2026
         },
         {
          "clade_membership": "da37a22",
          "estimated_growth_rate": 0.9999850002249965,
          "frequency": 1.000015,
          "frequency_final": 1.000005,
          "frequency_other": 1.000015,
          "observed_growth_rate": 0.9999900001499977,
          "projected_frequency": 1,
          "timepoint": "2026-10-01T00:00:00",
          "year": 2026
         },
         {
          "clade_membership": "e626b38",
          "estimated_growth_rate": 1.6030850210138412,
          "frequency": 0.613932,
          "frequency_final": 0.666176,
          "frequency_other": 0.6139320000000001,
          "observed_growth_rate": 1.085097372347426,
          "projected_frequency": 0.9841851931210696,
          "timepoint": "2026-10-01T00:00:00",
          "year": 2026
         },
         {
          "clade_membership": "e72bf28",
          "estimated_growth_rate": 0.9999850002249965,
          "frequency": 1.000015,
          "frequency_final": 1.000005,
          "frequency_other": 1.000015,
          "observed_growth_rate": 0.9999900001499977,
          "projected_frequency": 1,
          "timepoint": "2026-10-01T00:00:00",
          "year": 2026
         },
         {
          "clade_membership": "eb2f804",
          "estimated_growth_rate": 0.9999850002249965,
          "frequency": 1.000015,
          "frequency_final": 1.000005,
          "frequency_other": 1.000015,
          "observed_growth_rate": 0.9999900001499977,
          "projected_frequency": 1,
          "timepoint": "2026-10-01T00:00:00",
          "year": 2026
         },
         {
          "clade_membership": "f263904",
          "estimated_growth_rate": 0.9999850002249965,
          "frequency": 1.000015,
          "frequency_final": 1.000005,
          "frequency_other": 1.000015,
          "observed_growth_rate": 0.9999900001499977,
          "projected_frequency": 1,
          "timepoint": "2026-10-01T00:00:00",
          "year": 2026
         },
         {
          "clade_membership": "f657904",
          "estimated_growth_rate": 0.049776910545352285,
          "frequency": 0.31640199999999985,
          "frequency_final": 0.305192,
          "frequency_other": 0.31640199999999985,
          "observed_growth_rate": 0.9645703883034878,
          "projected_frequency": 0.015749514050370547,
          "timepoint": "2026-10-01T00:00:00",
          "year": 2026
         },
         {
          "clade_membership": "f6d9b34",
          "estimated_growth_rate": 0.9999850002249965,
          "frequency": 1.000015,
          "frequency_final": 1.000005,
          "frequency_other": 1.000015,
          "observed_growth_rate": 0.9999900001499977,
          "projected_frequency": 1,
          "timepoint": "2026-10-01T00:00:00",
          "year": 2026
         },
         {
          "clade_membership": "root",
          "estimated_growth_rate": 0.9999850002249965,
          "frequency": 1.000015,
          "frequency_final": 1.000005,
          "frequency_other": 1.000015,
          "observed_growth_rate": 0.9999900001499977,
          "projected_frequency": 1,
          "timepoint": "2026-10-01T00:00:00",
          "year": 2026
         },
         {
          "clade_membership": "00128ca",
          "estimated_growth_rate": 0.26230771087320376,
          "frequency": 0.5957539999999999,
          "frequency_final": 0.26245799999999997,
          "frequency_other": 0.5957539999999999,
          "observed_growth_rate": 0.44054760857669445,
          "projected_frequency": 0.1562708679835546,
          "timepoint": "2027-04-01T00:00:00",
          "year": 2027
         },
         {
          "clade_membership": "029c69d",
          "estimated_growth_rate": 0.9999830002889949,
          "frequency": 1.0000170000000002,
          "frequency_final": 0.9999949999999995,
          "frequency_other": 1.0000170000000002,
          "observed_growth_rate": 0.999978000373993,
          "projected_frequency": 1,
          "timepoint": "2027-04-01T00:00:00",
          "year": 2027
         },
         {
          "clade_membership": "0654693",
          "estimated_growth_rate": 0.9999830002889949,
          "frequency": 1.0000170000000002,
          "frequency_final": 0.9999949999999995,
          "frequency_other": 1.0000170000000002,
          "observed_growth_rate": 0.999978000373993,
          "projected_frequency": 1,
          "timepoint": "2027-04-01T00:00:00",
          "year": 2027
         },
         {
          "clade_membership": "0783f23",
          "estimated_growth_rate": 0.9999830002889949,
          "frequency": 1.0000170000000002,
          "frequency_final": 0.9999949999999995,
          "frequency_other": 1.0000170000000002,
          "observed_growth_rate": 0.999978000373993,
          "projected_frequency": 1,
          "timepoint": "2027-04-01T00:00:00",
          "year": 2027
         },
         {
          "clade_membership": "0d82b51",
          "estimated_growth_rate": 0.9999830002889949,
          "frequency": 1.0000170000000002,
          "frequency_final": 0.9999949999999995,
          "frequency_other": 1.0000170000000002,
          "observed_growth_rate": 0.999978000373993,
          "projected_frequency": 1,
          "timepoint": "2027-04-01T00:00:00",
          "year": 2027
         },
         {
          "clade_membership": "0d8bb1e",
          "estimated_growth_rate": 0.9999830002889949,
          "frequency": 1.0000170000000002,
          "frequency_final": 0.9999949999999995,
          "frequency_other": 1.0000170000000002,
          "observed_growth_rate": 0.999978000373993,
          "projected_frequency": 1,
          "timepoint": "2027-04-01T00:00:00",
          "year": 2027
         },
         {
          "clade_membership": "1bce829",
          "estimated_growth_rate": 0.9999830002889949,
          "frequency": 1.0000170000000002,
          "frequency_final": 0.9999949999999995,
          "frequency_other": 1.0000170000000002,
          "observed_growth_rate": 0.999978000373993,
          "projected_frequency": 1,
          "timepoint": "2027-04-01T00:00:00",
          "year": 2027
         },
         {
          "clade_membership": "1f6665e",
          "estimated_growth_rate": 0.24503905805407625,
          "frequency": 0.6380669999999999,
          "frequency_final": 0.26245799999999997,
          "frequency_other": 0.6380669999999999,
          "observed_growth_rate": 0.41133297913855443,
          "projected_frequency": 0.15635133665539025,
          "timepoint": "2027-04-01T00:00:00",
          "year": 2027
         },
         {
          "clade_membership": "2018235",
          "estimated_growth_rate": 0.9999830002889949,
          "frequency": 1.0000170000000002,
          "frequency_final": 0.9999949999999995,
          "frequency_other": 1.0000170000000002,
          "observed_growth_rate": 0.999978000373993,
          "projected_frequency": 1,
          "timepoint": "2027-04-01T00:00:00",
          "year": 2027
         },
         {
          "clade_membership": "26d9681",
          "estimated_growth_rate": 2.4569162038681114,
          "frequency": 0.34336399999999995,
          "frequency_final": 0.7374839999999996,
          "frequency_other": 0.34336399999999995,
          "observed_growth_rate": 2.1478198063862246,
          "projected_frequency": 0.84361657542497,
          "timepoint": "2027-04-01T00:00:00",
          "year": 2027
         },
         {
          "clade_membership": "2850b07",
          "estimated_growth_rate": 2.4569162038681114,
          "frequency": 0.34336399999999995,
          "frequency_final": 0.7374839999999996,
          "frequency_other": 0.34336399999999995,
          "observed_growth_rate": 2.1478198063862246,
          "projected_frequency": 0.84361657542497,
          "timepoint": "2027-04-01T00:00:00",
          "year": 2027
         },
         {
          "clade_membership": "289c480",
          "estimated_growth_rate": 0.9999830002889949,
          "frequency": 1.0000170000000002,
          "frequency_final": 0.9999949999999995,
          "frequency_other": 1.0000170000000002,
          "observed_growth_rate": 0.999978000373993,
          "projected_frequency": 1,
          "timepoint": "2027-04-01T00:00:00",
          "year": 2027
         },
         {
          "clade_membership": "2edcf74",
          "estimated_growth_rate": 0.9999830002889949,
          "frequency": 1.0000170000000002,
          "frequency_final": 0.9999949999999995,
          "frequency_other": 1.0000170000000002,
          "observed_growth_rate": 0.999978000373993,
          "projected_frequency": 1,
          "timepoint": "2027-04-01T00:00:00",
          "year": 2027
         },
         {
          "clade_membership": "30c6c1b",
          "estimated_growth_rate": 0.9999830002889949,
          "frequency": 1.0000170000000002,
          "frequency_final": 0.9999949999999995,
          "frequency_other": 1.0000170000000002,
          "observed_growth_rate": 0.999978000373993,
          "projected_frequency": 1,
          "timepoint": "2027-04-01T00:00:00",
          "year": 2027
         },
         {
          "clade_membership": "37311eb",
          "estimated_growth_rate": 2.4569162038681114,
          "frequency": 0.34336399999999995,
          "frequency_final": 0.7374839999999996,
          "frequency_other": 0.34336399999999995,
          "observed_growth_rate": 2.1478198063862246,
          "projected_frequency": 0.84361657542497,
          "timepoint": "2027-04-01T00:00:00",
          "year": 2027
         },
         {
          "clade_membership": "3aad673",
          "estimated_growth_rate": 0.9999830002889949,
          "frequency": 1.0000170000000002,
          "frequency_final": 0.9999949999999995,
          "frequency_other": 1.0000170000000002,
          "observed_growth_rate": 0.999978000373993,
          "projected_frequency": 1,
          "timepoint": "2027-04-01T00:00:00",
          "year": 2027
         },
         {
          "clade_membership": "3ae4d43",
          "estimated_growth_rate": 0.2825241997202504,
          "frequency": 0.5528999999999997,
          "frequency_final": 0.26245799999999997,
          "frequency_other": 0.5528999999999997,
          "observed_growth_rate": 0.4746934346174717,
          "projected_frequency": 0.15620763002532637,
          "timepoint": "2027-04-01T00:00:00",
          "year": 2027
         },
         {
          "clade_membership": "3b07f48",
          "estimated_growth_rate": 2.4569162038681114,
          "frequency": 0.34336399999999995,
          "frequency_final": 0.7374839999999996,
          "frequency_other": 0.34336399999999995,
          "observed_growth_rate": 2.1478198063862246,
          "projected_frequency": 0.84361657542497,
          "timepoint": "2027-04-01T00:00:00",
          "year": 2027
         },
         {
          "clade_membership": "3f3f0ca",
          "estimated_growth_rate": 0.9999830002889949,
          "frequency": 1.0000170000000002,
          "frequency_final": 0.9999949999999995,
          "frequency_other": 1.0000170000000002,
          "observed_growth_rate": 0.999978000373993,
          "projected_frequency": 1,
          "timepoint": "2027-04-01T00:00:00",
          "year": 2027
         },
         {
          "clade_membership": "433fd0b",
          "estimated_growth_rate": 2.4569162038681114,
          "frequency": 0.34336399999999995,
          "frequency_final": 0.7374839999999996,
          "frequency_other": 0.34336399999999995,
          "observed_growth_rate": 2.1478198063862246,
          "projected_frequency": 0.84361657542497,
          "timepoint": "2027-04-01T00:00:00",
          "year": 2027
         },
         {
          "clade_membership": "4eae73a",
          "estimated_growth_rate": 0.9999830002889949,
          "frequency": 1.0000170000000002,
          "frequency_final": 0.9999949999999995,
          "frequency_other": 1.0000170000000002,
          "observed_growth_rate": 0.999978000373993,
          "projected_frequency": 1,
          "timepoint": "2027-04-01T00:00:00",
          "year": 2027
         },
         {
          "clade_membership": "53320bc",
          "estimated_growth_rate": 0.9999830002889949,
          "frequency": 1.0000170000000002,
          "frequency_final": 0.9999949999999995,
          "frequency_other": 1.0000170000000002,
          "observed_growth_rate": 0.999978000373993,
          "projected_frequency": 1,
          "timepoint": "2027-04-01T00:00:00",
          "year": 2027
         },
         {
          "clade_membership": "53d3851",
          "estimated_growth_rate": 0.9999830002889949,
          "frequency": 1.0000170000000002,
          "frequency_final": 0.9999949999999995,
          "frequency_other": 1.0000170000000002,
          "observed_growth_rate": 0.999978000373993,
          "projected_frequency": 1,
          "timepoint": "2027-04-01T00:00:00",
          "year": 2027
         },
         {
          "clade_membership": "57bbb79",
          "estimated_growth_rate": 0.9999830002889949,
          "frequency": 1.0000170000000002,
          "frequency_final": 0.9999949999999995,
          "frequency_other": 1.0000170000000002,
          "observed_growth_rate": 0.999978000373993,
          "projected_frequency": 1,
          "timepoint": "2027-04-01T00:00:00",
          "year": 2027
         },
         {
          "clade_membership": "5a8b5f6",
          "estimated_growth_rate": 0.9999830002889949,
          "frequency": 1.0000170000000002,
          "frequency_final": 0.9999949999999995,
          "frequency_other": 1.0000170000000002,
          "observed_growth_rate": 0.999978000373993,
          "projected_frequency": 1,
          "timepoint": "2027-04-01T00:00:00",
          "year": 2027
         },
         {
          "clade_membership": "6270695",
          "estimated_growth_rate": 0.9999830002889949,
          "frequency": 1.0000170000000002,
          "frequency_final": 0.9999949999999995,
          "frequency_other": 1.0000170000000002,
          "observed_growth_rate": 0.999978000373993,
          "projected_frequency": 1,
          "timepoint": "2027-04-01T00:00:00",
          "year": 2027
         },
         {
          "clade_membership": "63fb9b5",
          "estimated_growth_rate": 0.9999830002889949,
          "frequency": 1.0000170000000002,
          "frequency_final": 0.9999949999999995,
          "frequency_other": 1.0000170000000002,
          "observed_growth_rate": 0.999978000373993,
          "projected_frequency": 1,
          "timepoint": "2027-04-01T00:00:00",
          "year": 2027
         },
         {
          "clade_membership": "670a3cd",
          "estimated_growth_rate": 0.9999830002889949,
          "frequency": 1.0000170000000002,
          "frequency_final": 0.9999949999999995,
          "frequency_other": 1.0000170000000002,
          "observed_growth_rate": 0.999978000373993,
          "projected_frequency": 1,
          "timepoint": "2027-04-01T00:00:00",
          "year": 2027
         },
         {
          "clade_membership": "6fabbb5",
          "estimated_growth_rate": 0.9999830002889949,
          "frequency": 1.0000170000000002,
          "frequency_final": 0.9999949999999995,
          "frequency_other": 1.0000170000000002,
          "observed_growth_rate": 0.999978000373993,
          "projected_frequency": 1,
          "timepoint": "2027-04-01T00:00:00",
          "year": 2027
         },
         {
          "clade_membership": "7556fb5",
          "estimated_growth_rate": 0.2829033606940711,
          "frequency": 0.5521519999999998,
          "frequency_final": 0.26245799999999997,
          "frequency_other": 0.5521519999999998,
          "observed_growth_rate": 0.4753365015430535,
          "projected_frequency": 0.1562056564139527,
          "timepoint": "2027-04-01T00:00:00",
          "year": 2027
         },
         {
          "clade_membership": "75a9110",
          "estimated_growth_rate": 2.867997878442527,
          "frequency": 0.2941059999999999,
          "frequency_final": 0.7374839999999996,
          "frequency_other": 0.2941059999999999,
          "observed_growth_rate": 2.507544898777991,
          "projected_frequency": 0.8434953840372177,
          "timepoint": "2027-04-01T00:00:00",
          "year": 2027
         },
         {
          "clade_membership": "7a88259",
          "estimated_growth_rate": 0.9999830002889949,
          "frequency": 1.0000170000000002,
          "frequency_final": 0.9999949999999995,
          "frequency_other": 1.0000170000000002,
          "observed_growth_rate": 0.999978000373993,
          "projected_frequency": 1,
          "timepoint": "2027-04-01T00:00:00",
          "year": 2027
         },
         {
          "clade_membership": "7bea6f6",
          "estimated_growth_rate": 0.9999830002889949,
          "frequency": 1.0000170000000002,
          "frequency_final": 0.9999949999999995,
          "frequency_other": 1.0000170000000002,
          "observed_growth_rate": 0.999978000373993,
          "projected_frequency": 1,
          "timepoint": "2027-04-01T00:00:00",
          "year": 2027
         },
         {
          "clade_membership": "8126320",
          "estimated_growth_rate": 0.9999830002889949,
          "frequency": 1.0000170000000002,
          "frequency_final": 0.9999949999999995,
          "frequency_other": 1.0000170000000002,
          "observed_growth_rate": 0.999978000373993,
          "projected_frequency": 1,
          "timepoint": "2027-04-01T00:00:00",
          "year": 2027
         },
         {
          "clade_membership": "8544c1e",
          "estimated_growth_rate": 0.9999830002889949,
          "frequency": 1.0000170000000002,
          "frequency_final": 0.9999949999999995,
          "frequency_other": 1.0000170000000002,
          "observed_growth_rate": 0.999978000373993,
          "projected_frequency": 1,
          "timepoint": "2027-04-01T00:00:00",
          "year": 2027
         },
         {
          "clade_membership": "8727a54",
          "estimated_growth_rate": 0.9999830002889949,
          "frequency": 1.0000170000000002,
          "frequency_final": 0.9999949999999995,
          "frequency_other": 1.0000170000000002,
          "observed_growth_rate": 0.999978000373993,
          "projected_frequency": 1,
          "timepoint": "2027-04-01T00:00:00",
          "year": 2027
         },
         {
          "clade_membership": "a6348ef",
          "estimated_growth_rate": 0.24475427684014525,
          "frequency": 0.638813,
          "frequency_final": 0.26245799999999997,
          "frequency_other": 0.638813,
          "observed_growth_rate": 0.4108526282339276,
          "projected_frequency": 0.1563522138510837,
          "timepoint": "2027-04-01T00:00:00",
          "year": 2027
         },
         {
          "clade_membership": "ae8f3de",
          "estimated_growth_rate": 2.8679783755498067,
          "frequency": 0.2941079999999999,
          "frequency_final": 0.7374839999999996,
          "frequency_other": 0.2941079999999999,
          "observed_growth_rate": 2.507527846913378,
          "projected_frequency": 0.8434953840762023,
          "timepoint": "2027-04-01T00:00:00",
          "year": 2027
         },
         {
          "clade_membership": "b125362",
          "estimated_growth_rate": 0.9999830002889949,
          "frequency": 1.0000170000000002,
          "frequency_final": 0.9999949999999995,
          "frequency_other": 1.0000170000000002,
          "observed_growth_rate": 0.999978000373993,
          "projected_frequency": 1,
          "timepoint": "2027-04-01T00:00:00",
          "year": 2027
         },
         {
          "clade_membership": "b19fe11",
          "estimated_growth_rate": 2.4569162038681114,
          "frequency": 0.34336399999999995,
          "frequency_final": 0.7374839999999996,
          "frequency_other": 0.34336399999999995,
          "observed_growth_rate": 2.1478198063862246,
          "projected_frequency": 0.84361657542497,
          "timepoint": "2027-04-01T00:00:00",
          "year": 2027
         },
         {
          "clade_membership": "b414da5",
          "estimated_growth_rate": 0.26230771087320376,
          "frequency": 0.5957539999999999,
          "frequency_final": 0.26245799999999997,
          "frequency_other": 0.5957539999999999,
          "observed_growth_rate": 0.44054760857669445,
          "projected_frequency": 0.1562708679835546,
          "timepoint": "2027-04-01T00:00:00",
          "year": 2027
         },
         {
          "clade_membership": "b66b3e9",
          "estimated_growth_rate": 0.9999830002889949,
          "frequency": 1.0000170000000002,
          "frequency_final": 0.9999949999999995,
          "frequency_other": 1.0000170000000002,
          "observed_growth_rate": 0.999978000373993,
          "projected_frequency": 1,
          "timepoint": "2027-04-01T00:00:00",
          "year": 2027
         },
         {
          "clade_membership": "b771746",
          "estimated_growth_rate": 0.9999830002889949,
          "frequency": 1.0000170000000002,
          "frequency_final": 0.9999949999999995,
          "frequency_other": 1.0000170000000002,
          "observed_growth_rate": 0.999978000373993,
          "projected_frequency": 1,
          "timepoint": "2027-04-01T00:00:00",
          "year": 2027
         },
         {
          "clade_membership": "bae78d3",
          "estimated_growth_rate": 0.9999830002889949,
          "frequency": 1.0000170000000002,
          "frequency_final": 0.9999949999999995,
          "frequency_other": 1.0000170000000002,
          "observed_growth_rate": 0.999978000373993,
          "projected_frequency": 1,
          "timepoint": "2027-04-01T00:00:00",
          "year": 2027
         },
         {
          "clade_membership": "bd7776e",
          "estimated_growth_rate": 2.4569162038681114,
          "frequency": 0.34336399999999995,
          "frequency_final": 0.7374839999999996,
          "frequency_other": 0.34336399999999995,
          "observed_growth_rate": 2.1478198063862246,
          "projected_frequency": 0.84361657542497,
          "timepoint": "2027-04-01T00:00:00",
          "year": 2027
         },
         {
          "clade_membership": "c72df39",
          "estimated_growth_rate": 0.9999830002889949,
          "frequency": 1.0000170000000002,
          "frequency_final": 0.9999949999999995,
          "frequency_other": 1.0000170000000002,
          "observed_growth_rate": 0.999978000373993,
          "projected_frequency": 1,
          "timepoint": "2027-04-01T00:00:00",
          "year": 2027
         },
         {
          "clade_membership": "cbef932",
          "estimated_growth_rate": 0.9999830002889949,
          "frequency": 1.0000170000000002,
          "frequency_final": 0.9999949999999995,
          "frequency_other": 1.0000170000000002,
          "observed_growth_rate": 0.999978000373993,
          "projected_frequency": 1,
          "timepoint": "2027-04-01T00:00:00",
          "year": 2027
         },
         {
          "clade_membership": "d991bc2",
          "estimated_growth_rate": 0.24475427684014525,
          "frequency": 0.638813,
          "frequency_final": 0.26245799999999997,
          "frequency_other": 0.638813,
          "observed_growth_rate": 0.4108526282339276,
          "projected_frequency": 0.1563522138510837,
          "timepoint": "2027-04-01T00:00:00",
          "year": 2027
         },
         {
          "clade_membership": "da37a22",
          "estimated_growth_rate": 0.9999830002889949,
          "frequency": 1.0000170000000002,
          "frequency_final": 0.9999949999999995,
          "frequency_other": 1.0000170000000002,
          "observed_growth_rate": 0.999978000373993,
          "projected_frequency": 1,
          "timepoint": "2027-04-01T00:00:00",
          "year": 2027
         },
         {
          "clade_membership": "e626b38",
          "estimated_growth_rate": 0.24475427684014525,
          "frequency": 0.638813,
          "frequency_final": 0.26245799999999997,
          "frequency_other": 0.638813,
          "observed_growth_rate": 0.4108526282339276,
          "projected_frequency": 0.1563522138510837,
          "timepoint": "2027-04-01T00:00:00",
          "year": 2027
         },
         {
          "clade_membership": "e72bf28",
          "estimated_growth_rate": 0.9999830002889949,
          "frequency": 1.0000170000000002,
          "frequency_final": 0.9999949999999995,
          "frequency_other": 1.0000170000000002,
          "observed_growth_rate": 0.999978000373993,
          "projected_frequency": 1,
          "timepoint": "2027-04-01T00:00:00",
          "year": 2027
         },
         {
          "clade_membership": "eb2f804",
          "estimated_growth_rate": 0.9999830002889949,
          "frequency": 1.0000170000000002,
          "frequency_final": 0.9999949999999995,
          "frequency_other": 1.0000170000000002,
          "observed_growth_rate": 0.999978000373993,
          "projected_frequency": 1,
          "timepoint": "2027-04-01T00:00:00",
          "year": 2027
         },
         {
          "clade_membership": "f263904",
          "estimated_growth_rate": 0.9999830002889949,
          "frequency": 1.0000170000000002,
          "frequency_final": 0.9999949999999995,
          "frequency_other": 1.0000170000000002,
          "observed_growth_rate": 0.999978000373993,
          "projected_frequency": 1,
          "timepoint": "2027-04-01T00:00:00",
          "year": 2027
         },
         {
          "clade_membership": "f657904",
          "estimated_growth_rate": 2.4569162038681114,
          "frequency": 0.34336399999999995,
          "frequency_final": 0.7374839999999996,
          "frequency_other": 0.34336399999999995,
          "observed_growth_rate": 2.1478198063862246,
          "projected_frequency": 0.84361657542497,
          "timepoint": "2027-04-01T00:00:00",
          "year": 2027
         },
         {
          "clade_membership": "f6d3aae",
          "estimated_growth_rate": 2.867997878442527,
          "frequency": 0.2941059999999999,
          "frequency_final": 0.7374839999999996,
          "frequency_other": 0.2941059999999999,
          "observed_growth_rate": 2.507544898777991,
          "projected_frequency": 0.8434953840372177,
          "timepoint": "2027-04-01T00:00:00",
          "year": 2027
         },
         {
          "clade_membership": "f6d9b34",
          "estimated_growth_rate": 0.9999830002889949,
          "frequency": 1.0000170000000002,
          "frequency_final": 0.9999949999999995,
          "frequency_other": 1.0000170000000002,
          "observed_growth_rate": 0.999978000373993,
          "projected_frequency": 1,
          "timepoint": "2027-04-01T00:00:00",
          "year": 2027
         },
         {
          "clade_membership": "root",
          "estimated_growth_rate": 0.9999830002889949,
          "frequency": 1.0000170000000002,
          "frequency_final": 0.9999949999999995,
          "frequency_other": 1.0000170000000002,
          "observed_growth_rate": 0.999978000373993,
          "projected_frequency": 1,
          "timepoint": "2027-04-01T00:00:00",
          "year": 2027
         },
         {
          "clade_membership": "00128ca",
          "estimated_growth_rate": 1.1288672132995323,
          "frequency": 0.666172,
          "frequency_final": 0.18354199999999996,
          "frequency_other": 0.6661719999999999,
          "observed_growth_rate": 0.27551743393598044,
          "projected_frequency": 0.7520197292181761,
          "timepoint": "2027-10-01T00:00:00",
          "year": 2027
         },
         {
          "clade_membership": "029c69d",
          "estimated_growth_rate": 0.9999950000250001,
          "frequency": 1.000005,
          "frequency_final": 1.0000010000000004,
          "frequency_other": 1.0000049999999998,
          "observed_growth_rate": 0.9999960000200002,
          "projected_frequency": 1.0000000000000002,
          "timepoint": "2027-10-01T00:00:00",
          "year": 2027
         },
         {
          "clade_membership": "0654693",
          "estimated_growth_rate": 0.9999950000250001,
          "frequency": 1.000005,
          "frequency_final": 1.0000010000000004,
          "frequency_other": 1.0000049999999998,
          "observed_growth_rate": 0.9999960000200002,
          "projected_frequency": 1.0000000000000002,
          "timepoint": "2027-10-01T00:00:00",
          "year": 2027
         },
         {
          "clade_membership": "0783f23",
          "estimated_growth_rate": 0.9999950000250001,
          "frequency": 1.000005,
          "frequency_final": 1.0000010000000004,
          "frequency_other": 1.0000049999999998,
          "observed_growth_rate": 0.9999960000200002,
          "projected_frequency": 1.0000000000000002,
          "timepoint": "2027-10-01T00:00:00",
          "year": 2027
         },
         {
          "clade_membership": "0d82b51",
          "estimated_growth_rate": 0.9999950000250001,
          "frequency": 1.000005,
          "frequency_final": 1.0000010000000004,
          "frequency_other": 1.0000049999999998,
          "observed_growth_rate": 0.9999960000200002,
          "projected_frequency": 1.0000000000000002,
          "timepoint": "2027-10-01T00:00:00",
          "year": 2027
         },
         {
          "clade_membership": "0d8bb1e",
          "estimated_growth_rate": 0.9999950000250001,
          "frequency": 1.000005,
          "frequency_final": 1.0000010000000004,
          "frequency_other": 1.0000049999999998,
          "observed_growth_rate": 0.9999960000200002,
          "projected_frequency": 1.0000000000000002,
          "timepoint": "2027-10-01T00:00:00",
          "year": 2027
         },
         {
          "clade_membership": "1bce829",
          "estimated_growth_rate": 0.9999950000250001,
          "frequency": 1.000005,
          "frequency_final": 1.0000010000000004,
          "frequency_other": 1.0000049999999998,
          "observed_growth_rate": 0.9999960000200002,
          "projected_frequency": 1.0000000000000002,
          "timepoint": "2027-10-01T00:00:00",
          "year": 2027
         },
         {
          "clade_membership": "1f6665e",
          "estimated_growth_rate": 1.1288604351112113,
          "frequency": 0.666176,
          "frequency_final": 0.18354199999999996,
          "frequency_other": 0.6661759999999999,
          "observed_growth_rate": 0.2755157796137957,
          "projected_frequency": 0.7520197292206462,
          "timepoint": "2027-10-01T00:00:00",
          "year": 2027
         },
         {
          "clade_membership": "2018235",
          "estimated_growth_rate": 0.9999950000250001,
          "frequency": 1.000005,
          "frequency_final": 1.0000010000000004,
          "frequency_other": 1.0000049999999998,
          "observed_growth_rate": 0.9999960000200002,
          "projected_frequency": 1.0000000000000002,
          "timepoint": "2027-10-01T00:00:00",
          "year": 2027
         },
         {
          "clade_membership": "26d9681",
          "estimated_growth_rate": 0.8121526635212664,
          "frequency": 0.305192,
          "frequency_final": 0.8164590000000003,
          "frequency_other": 0.3051919999999999,
          "observed_growth_rate": 2.675230674460668,
          "projected_frequency": 0.24786249568538235,
          "timepoint": "2027-10-01T00:00:00",
          "year": 2027
         },
         {
          "clade_membership": "2850b07",
          "estimated_growth_rate": 0.8121526635212664,
          "frequency": 0.305192,
          "frequency_final": 0.8164590000000003,
          "frequency_other": 0.3051919999999999,
          "observed_growth_rate": 2.675230674460668,
          "projected_frequency": 0.24786249568538235,
          "timepoint": "2027-10-01T00:00:00",
          "year": 2027
         },
         {
          "clade_membership": "289c480",
          "estimated_growth_rate": 0.9999950000250001,
          "frequency": 1.000005,
          "frequency_final": 1.0000010000000004,
          "frequency_other": 1.0000049999999998,
          "observed_growth_rate": 0.9999960000200002,
          "projected_frequency": 1.0000000000000002,
          "timepoint": "2027-10-01T00:00:00",
          "year": 2027
         },
         {
          "clade_membership": "2edcf74",
          "estimated_growth_rate": 0.9999950000250001,
          "frequency": 1.000005,
          "frequency_final": 1.0000010000000004,
          "frequency_other": 1.0000049999999998,
          "observed_growth_rate": 0.9999960000200002,
          "projected_frequency": 1.0000000000000002,
          "timepoint": "2027-10-01T00:00:00",
          "year": 2027
         },
         {
          "clade_membership": "30c6c1b",
          "estimated_growth_rate": 0.9999950000250001,
          "frequency": 1.000005,
          "frequency_final": 1.0000010000000004,
          "frequency_other": 1.0000049999999998,
          "observed_growth_rate": 0.9999960000200002,
          "projected_frequency": 1.0000000000000002,
          "timepoint": "2027-10-01T00:00:00",
          "year": 2027
         },
         {
          "clade_membership": "37311eb",
          "estimated_growth_rate": 0.8121526635212664,
          "frequency": 0.305192,
          "frequency_final": 0.8164590000000003,
          "frequency_other": 0.3051919999999999,
          "observed_growth_rate": 2.675230674460668,
          "projected_frequency": 0.24786249568538235,
          "timepoint": "2027-10-01T00:00:00",
          "year": 2027
         },
         {
          "clade_membership": "3aad673",
          "estimated_growth_rate": 0.9999950000250001,
          "frequency": 1.000005,
          "frequency_final": 1.0000010000000004,
          "frequency_other": 1.0000049999999998,
          "observed_growth_rate": 0.9999960000200002,
          "projected_frequency": 1.0000000000000002,
          "timepoint": "2027-10-01T00:00:00",
          "year": 2027
         },
         {
          "clade_membership": "3ae4d43",
          "estimated_growth_rate": 1.13705144453633,
          "frequency": 0.6613760000000001,
          "frequency_final": 0.18354199999999996,
          "frequency_other": 0.661376,
          "observed_growth_rate": 0.2775153619121346,
          "projected_frequency": 0.7520185361816598,
          "timepoint": "2027-10-01T00:00:00",
          "year": 2027
         },
         {
          "clade_membership": "3b07f48",
          "estimated_growth_rate": 0.8121526635212664,
          "frequency": 0.305192,
          "frequency_final": 0.8164590000000003,
          "frequency_other": 0.3051919999999999,
          "observed_growth_rate": 2.675230674460668,
          "projected_frequency": 0.24786249568538235,
          "timepoint": "2027-10-01T00:00:00",
          "year": 2027
         },
         {
          "clade_membership": "3f3f0ca",
          "estimated_growth_rate": 0.9999950000250001,
          "frequency": 1.000005,
          "frequency_final": 1.0000010000000004,
          "frequency_other": 1.0000049999999998,
          "observed_growth_rate": 0.9999960000200002,
          "projected_frequency": 1.0000000000000002,
          "timepoint": "2027-10-01T00:00:00",
          "year": 2027
         },
         {
          "clade_membership": "433fd0b",
          "estimated_growth_rate": 0.8121526635212664,
          "frequency": 0.305192,
          "frequency_final": 0.8164590000000003,
          "frequency_other": 0.3051919999999999,
          "observed_growth_rate": 2.675230674460668,
          "projected_frequency": 0.24786249568538235,
          "timepoint": "2027-10-01T00:00:00",
          "year": 2027
         },
         {
          "clade_membership": "4eae73a",
          "estimated_growth_rate": 0.9999950000250001,
          "frequency": 1.000005,
          "frequency_final": 1.0000010000000004,
          "frequency_other": 1.0000049999999998,
          "observed_growth_rate": 0.9999960000200002,
          "projected_frequency": 1.0000000000000002,
          "timepoint": "2027-10-01T00:00:00",
          "year": 2027
         },
         {
          "clade_membership": "53320bc",
          "estimated_growth_rate": 0.9999950000250001,
          "frequency": 1.000005,
          "frequency_final": 1.0000010000000004,
          "frequency_other": 1.0000049999999998,
          "observed_growth_rate": 0.9999960000200002,
          "projected_frequency": 1.0000000000000002,
          "timepoint": "2027-10-01T00:00:00",
          "year": 2027
         },
         {
          "clade_membership": "53d3851",
          "estimated_growth_rate": 0.9999950000250001,
          "frequency": 1.000005,
          "frequency_final": 1.0000010000000004,
          "frequency_other": 1.0000049999999998,
          "observed_growth_rate": 0.9999960000200002,
          "projected_frequency": 1.0000000000000002,
          "timepoint": "2027-10-01T00:00:00",
          "year": 2027
         },
         {
          "clade_membership": "57bbb79",
          "estimated_growth_rate": 0.9999950000250001,
          "frequency": 1.000005,
          "frequency_final": 1.0000010000000004,
          "frequency_other": 1.0000049999999998,
          "observed_growth_rate": 0.9999960000200002,
          "projected_frequency": 1.0000000000000002,
          "timepoint": "2027-10-01T00:00:00",
          "year": 2027
         },
         {
          "clade_membership": "5a8b5f6",
          "estimated_growth_rate": 0.9999950000250001,
          "frequency": 1.000005,
          "frequency_final": 1.0000010000000004,
          "frequency_other": 1.0000049999999998,
          "observed_growth_rate": 0.9999960000200002,
          "projected_frequency": 1.0000000000000002,
          "timepoint": "2027-10-01T00:00:00",
          "year": 2027
         },
         {
          "clade_membership": "6270695",
          "estimated_growth_rate": 0.9999950000250001,
          "frequency": 1.000005,
          "frequency_final": 1.0000010000000004,
          "frequency_other": 1.0000049999999998,
          "observed_growth_rate": 0.9999960000200002,
          "projected_frequency": 1.0000000000000002,
          "timepoint": "2027-10-01T00:00:00",
          "year": 2027
         },
         {
          "clade_membership": "63fb9b5",
          "estimated_growth_rate": 0.9999950000250001,
          "frequency": 1.000005,
          "frequency_final": 1.0000010000000004,
          "frequency_other": 1.0000049999999998,
          "observed_growth_rate": 0.9999960000200002,
          "projected_frequency": 1.0000000000000002,
          "timepoint": "2027-10-01T00:00:00",
          "year": 2027
         },
         {
          "clade_membership": "670a3cd",
          "estimated_growth_rate": 0.9999950000250001,
          "frequency": 1.000005,
          "frequency_final": 1.0000010000000004,
          "frequency_other": 1.0000049999999998,
          "observed_growth_rate": 0.9999960000200002,
          "projected_frequency": 1.0000000000000002,
          "timepoint": "2027-10-01T00:00:00",
          "year": 2027
         },
         {
          "clade_membership": "6fabbb5",
          "estimated_growth_rate": 0.9999950000250001,
          "frequency": 1.000005,
          "frequency_final": 1.0000010000000004,
          "frequency_other": 1.0000049999999998,
          "observed_growth_rate": 0.9999960000200002,
          "projected_frequency": 1.0000000000000002,
          "timepoint": "2027-10-01T00:00:00",
          "year": 2027
         },
         {
          "clade_membership": "7556fb5",
          "estimated_growth_rate": 1.13705144453633,
          "frequency": 0.6613760000000001,
          "frequency_final": 0.18354199999999996,
          "frequency_other": 0.661376,
          "observed_growth_rate": 0.2775153619121346,
          "projected_frequency": 0.7520185361816598,
          "timepoint": "2027-10-01T00:00:00",
          "year": 2027
         },
         {
          "clade_membership": "75a9110",
          "estimated_growth_rate": 0.8121526635212664,
          "frequency": 0.305192,
          "frequency_final": 0.8164590000000003,
          "frequency_other": 0.3051919999999999,
          "observed_growth_rate": 2.675230674460668,
          "projected_frequency": 0.24786249568538235,
          "timepoint": "2027-10-01T00:00:00",
          "year": 2027
         },
         {
          "clade_membership": "762e09c",
          "estimated_growth_rate": 1.3215366275113873,
          "frequency": 0.18706699999999998,
          "frequency_final": 0.8164590000000003,
          "frequency_other": 0.18706699999999998,
          "observed_growth_rate": 4.36452714802718,
          "projected_frequency": 0.24721589229867266,
          "timepoint": "2027-10-01T00:00:00",
          "year": 2027
         },
         {
          "clade_membership": "7a88259",
          "estimated_growth_rate": 0.9999950000250001,
          "frequency": 1.000005,
          "frequency_final": 1.0000010000000004,
          "frequency_other": 1.0000049999999998,
          "observed_growth_rate": 0.9999960000200002,
          "projected_frequency": 1.0000000000000002,
          "timepoint": "2027-10-01T00:00:00",
          "year": 2027
         },
         {
          "clade_membership": "7bea6f6",
          "estimated_growth_rate": 0.9999950000250001,
          "frequency": 1.000005,
          "frequency_final": 1.0000010000000004,
          "frequency_other": 1.0000049999999998,
          "observed_growth_rate": 0.9999960000200002,
          "projected_frequency": 1.0000000000000002,
          "timepoint": "2027-10-01T00:00:00",
          "year": 2027
         },
         {
          "clade_membership": "8126320",
          "estimated_growth_rate": 0.9999950000250001,
          "frequency": 1.000005,
          "frequency_final": 1.0000010000000004,
          "frequency_other": 1.0000049999999998,
          "observed_growth_rate": 0.9999960000200002,
          "projected_frequency": 1.0000000000000002,
          "timepoint": "2027-10-01T00:00:00",
          "year": 2027
         },
         {
          "clade_membership": "8544c1e",
          "estimated_growth_rate": 0.9999950000250001,
          "frequency": 1.000005,
          "frequency_final": 1.0000010000000004,
          "frequency_other": 1.0000049999999998,
          "observed_growth_rate": 0.9999960000200002,
          "projected_frequency": 1.0000000000000002,
          "timepoint": "2027-10-01T00:00:00",
          "year": 2027
         },
         {
          "clade_membership": "8727a54",
          "estimated_growth_rate": 0.9999950000250001,
          "frequency": 1.000005,
          "frequency_final": 1.0000010000000004,
          "frequency_other": 1.0000049999999998,
          "observed_growth_rate": 0.9999960000200002,
          "projected_frequency": 1.0000000000000002,
          "timepoint": "2027-10-01T00:00:00",
          "year": 2027
         },
         {
          "clade_membership": "a6348ef",
          "estimated_growth_rate": 1.1288604351112113,
          "frequency": 0.666176,
          "frequency_final": 0.18354199999999996,
          "frequency_other": 0.6661759999999999,
          "observed_growth_rate": 0.2755157796137957,
          "projected_frequency": 0.7520197292206462,
          "timepoint": "2027-10-01T00:00:00",
          "year": 2027
         },
         {
          "clade_membership": "ae8f3de",
          "estimated_growth_rate": 0.8121526635212664,
          "frequency": 0.305192,
          "frequency_final": 0.8164590000000003,
          "frequency_other": 0.3051919999999999,
          "observed_growth_rate": 2.675230674460668,
          "projected_frequency": 0.24786249568538235,
          "timepoint": "2027-10-01T00:00:00",
          "year": 2027
         },
         {
          "clade_membership": "b125362",
          "estimated_growth_rate": 0.9999950000250001,
          "frequency": 1.000005,
          "frequency_final": 1.0000010000000004,
          "frequency_other": 1.0000049999999998,
          "observed_growth_rate": 0.9999960000200002,
          "projected_frequency": 1.0000000000000002,
          "timepoint": "2027-10-01T00:00:00",
          "year": 2027
         },
         {
          "clade_membership": "b19fe11",
          "estimated_growth_rate": 0.8121526635212664,
          "frequency": 0.305192,
          "frequency_final": 0.8164590000000003,
          "frequency_other": 0.3051919999999999,
          "observed_growth_rate": 2.675230674460668,
          "projected_frequency": 0.24786249568538235,
          "timepoint": "2027-10-01T00:00:00",
          "year": 2027
         },
         {
          "clade_membership": "b414da5",
          "estimated_growth_rate": 1.1288672132995323,
          "frequency": 0.666172,
          "frequency_final": 0.18354199999999996,
          "frequency_other": 0.6661719999999999,
          "observed_growth_rate": 0.27551743393598044,
          "projected_frequency": 0.7520197292181761,
          "timepoint": "2027-10-01T00:00:00",
          "year": 2027
         },
         {
          "clade_membership": "b66b3e9",
          "estimated_growth_rate": 0.9999950000250001,
          "frequency": 1.000005,
          "frequency_final": 1.0000010000000004,
          "frequency_other": 1.0000049999999998,
          "observed_growth_rate": 0.9999960000200002,
          "projected_frequency": 1.0000000000000002,
          "timepoint": "2027-10-01T00:00:00",
          "year": 2027
         },
         {
          "clade_membership": "b771746",
          "estimated_growth_rate": 0.9999950000250001,
          "frequency": 1.000005,
          "frequency_final": 1.0000010000000004,
          "frequency_other": 1.0000049999999998,
          "observed_growth_rate": 0.9999960000200002,
          "projected_frequency": 1.0000000000000002,
          "timepoint": "2027-10-01T00:00:00",
          "year": 2027
         },
         {
          "clade_membership": "bae78d3",
          "estimated_growth_rate": 0.9999950000250001,
          "frequency": 1.000005,
          "frequency_final": 1.0000010000000004,
          "frequency_other": 1.0000049999999998,
          "observed_growth_rate": 0.9999960000200002,
          "projected_frequency": 1.0000000000000002,
          "timepoint": "2027-10-01T00:00:00",
          "year": 2027
         },
         {
          "clade_membership": "bd7776e",
          "estimated_growth_rate": 0.8121526635212664,
          "frequency": 0.305192,
          "frequency_final": 0.8164590000000003,
          "frequency_other": 0.3051919999999999,
          "observed_growth_rate": 2.675230674460668,
          "projected_frequency": 0.24786249568538235,
          "timepoint": "2027-10-01T00:00:00",
          "year": 2027
         },
         {
          "clade_membership": "c72df39",
          "estimated_growth_rate": 0.9999950000250001,
          "frequency": 1.000005,
          "frequency_final": 1.0000010000000004,
          "frequency_other": 1.0000049999999998,
          "observed_growth_rate": 0.9999960000200002,
          "projected_frequency": 1.0000000000000002,
          "timepoint": "2027-10-01T00:00:00",
          "year": 2027
         },
         {
          "clade_membership": "cbef932",
          "estimated_growth_rate": 0.9999950000250001,
          "frequency": 1.000005,
          "frequency_final": 1.0000010000000004,
          "frequency_other": 1.0000049999999998,
          "observed_growth_rate": 0.9999960000200002,
          "projected_frequency": 1.0000000000000002,
          "timepoint": "2027-10-01T00:00:00",
          "year": 2027
         },
         {
          "clade_membership": "d991bc2",
          "estimated_growth_rate": 1.1288604351112113,
          "frequency": 0.666176,
          "frequency_final": 0.18354199999999996,
          "frequency_other": 0.6661759999999999,
          "observed_growth_rate": 0.2755157796137957,
          "projected_frequency": 0.7520197292206462,
          "timepoint": "2027-10-01T00:00:00",
          "year": 2027
         },
         {
          "clade_membership": "da37a22",
          "estimated_growth_rate": 0.9999950000250001,
          "frequency": 1.000005,
          "frequency_final": 1.0000010000000004,
          "frequency_other": 1.0000049999999998,
          "observed_growth_rate": 0.9999960000200002,
          "projected_frequency": 1.0000000000000002,
          "timepoint": "2027-10-01T00:00:00",
          "year": 2027
         },
         {
          "clade_membership": "e626b38",
          "estimated_growth_rate": 1.1288604351112113,
          "frequency": 0.666176,
          "frequency_final": 0.18354199999999996,
          "frequency_other": 0.6661759999999999,
          "observed_growth_rate": 0.2755157796137957,
          "projected_frequency": 0.7520197292206462,
          "timepoint": "2027-10-01T00:00:00",
          "year": 2027
         },
         {
          "clade_membership": "e72bf28",
          "estimated_growth_rate": 0.9999950000250001,
          "frequency": 1.000005,
          "frequency_final": 1.0000010000000004,
          "frequency_other": 1.0000049999999998,
          "observed_growth_rate": 0.9999960000200002,
          "projected_frequency": 1.0000000000000002,
          "timepoint": "2027-10-01T00:00:00",
          "year": 2027
         },
         {
          "clade_membership": "eb2f804",
          "estimated_growth_rate": 0.9999950000250001,
          "frequency": 1.000005,
          "frequency_final": 1.0000010000000004,
          "frequency_other": 1.0000049999999998,
          "observed_growth_rate": 0.9999960000200002,
          "projected_frequency": 1.0000000000000002,
          "timepoint": "2027-10-01T00:00:00",
          "year": 2027
         },
         {
          "clade_membership": "f263904",
          "estimated_growth_rate": 0.9999950000250001,
          "frequency": 1.000005,
          "frequency_final": 1.0000010000000004,
          "frequency_other": 1.0000049999999998,
          "observed_growth_rate": 0.9999960000200002,
          "projected_frequency": 1.0000000000000002,
          "timepoint": "2027-10-01T00:00:00",
          "year": 2027
         },
         {
          "clade_membership": "f657904",
          "estimated_growth_rate": 0.8121526635212664,
          "frequency": 0.305192,
          "frequency_final": 0.8164590000000003,
          "frequency_other": 0.3051919999999999,
          "observed_growth_rate": 2.675230674460668,
          "projected_frequency": 0.24786249568538235,
          "timepoint": "2027-10-01T00:00:00",
          "year": 2027
         },
         {
          "clade_membership": "f6d3aae",
          "estimated_growth_rate": 0.8121526635212664,
          "frequency": 0.305192,
          "frequency_final": 0.8164590000000003,
          "frequency_other": 0.3051919999999999,
          "observed_growth_rate": 2.675230674460668,
          "projected_frequency": 0.24786249568538235,
          "timepoint": "2027-10-01T00:00:00",
          "year": 2027
         },
         {
          "clade_membership": "f6d9b34",
          "estimated_growth_rate": 0.9999950000250001,
          "frequency": 1.000005,
          "frequency_final": 1.0000010000000004,
          "frequency_other": 1.0000049999999998,
          "observed_growth_rate": 0.9999960000200002,
          "projected_frequency": 1.0000000000000002,
          "timepoint": "2027-10-01T00:00:00",
          "year": 2027
         },
         {
          "clade_membership": "root",
          "estimated_growth_rate": 0.9999950000250001,
          "frequency": 1.000005,
          "frequency_final": 1.0000010000000004,
          "frequency_other": 1.0000049999999998,
          "observed_growth_rate": 0.9999960000200002,
          "projected_frequency": 1.0000000000000002,
          "timepoint": "2027-10-01T00:00:00",
          "year": 2027
         },
         {
          "clade_membership": "00128ca",
          "estimated_growth_rate": 0.07548917035885067,
          "frequency": 0.26245799999999997,
          "frequency_final": 0.163582,
          "frequency_other": 0.2624579999999999,
          "observed_growth_rate": 0.6232692468890262,
          "projected_frequency": 0.019812736674043225,
          "timepoint": "2028-04-01T00:00:00",
          "year": 2028
         },
         {
          "clade_membership": "029c69d",
          "estimated_growth_rate": 1.0000050000250007,
          "frequency": 0.9999949999999995,
          "frequency_final": 1.0000039999999994,
          "frequency_other": 0.9999949999999995,
          "observed_growth_rate": 1.0000090000450002,
          "projected_frequency": 1,
          "timepoint": "2028-04-01T00:00:00",
          "year": 2028
         },
         {
          "clade_membership": "0654693",
          "estimated_growth_rate": 1.0000050000250007,
          "frequency": 0.9999949999999995,
          "frequency_final": 1.0000039999999994,
          "frequency_other": 0.9999949999999995,
          "observed_growth_rate": 1.0000090000450002,
          "projected_frequency": 1,
          "timepoint": "2028-04-01T00:00:00",
          "year": 2028
         },
         {
          "clade_membership": "0783f23",
          "estimated_growth_rate": 1.0000050000250007,
          "frequency": 0.9999949999999995,
          "frequency_final": 1.0000039999999994,
          "frequency_other": 0.9999949999999995,
          "observed_growth_rate": 1.0000090000450002,
          "projected_frequency": 1,
          "timepoint": "2028-04-01T00:00:00",
          "year": 2028
         },
         {
          "clade_membership": "0d82b51",
          "estimated_growth_rate": 1.0000050000250007,
          "frequency": 0.9999949999999995,
          "frequency_final": 1.0000039999999994,
          "frequency_other": 0.9999949999999995,
          "observed_growth_rate": 1.0000090000450002,
          "projected_frequency": 1,
          "timepoint": "2028-04-01T00:00:00",
          "year": 2028
         },
         {
          "clade_membership": "0d8bb1e",
          "estimated_growth_rate": 1.0000050000250007,
          "frequency": 0.9999949999999995,
          "frequency_final": 1.0000039999999994,
          "frequency_other": 0.9999949999999995,
          "observed_growth_rate": 1.0000090000450002,
          "projected_frequency": 1,
          "timepoint": "2028-04-01T00:00:00",
          "year": 2028
         },
         {
          "clade_membership": "1bce829",
          "estimated_growth_rate": 1.0000050000250007,
          "frequency": 0.9999949999999995,
          "frequency_final": 1.0000039999999994,
          "frequency_other": 0.9999949999999995,
          "observed_growth_rate": 1.0000090000450002,
          "projected_frequency": 1,
          "timepoint": "2028-04-01T00:00:00",
          "year": 2028
         },
         {
          "clade_membership": "1f6665e",
          "estimated_growth_rate": 0.07548917035885067,
          "frequency": 0.26245799999999997,
          "frequency_final": 0.163582,
          "frequency_other": 0.2624579999999999,
          "observed_growth_rate": 0.6232692468890262,
          "projected_frequency": 0.019812736674043225,
          "timepoint": "2028-04-01T00:00:00",
          "year": 2028
         },
         {
          "clade_membership": "2018235",
          "estimated_growth_rate": 1.0000050000250007,
          "frequency": 0.9999949999999995,
          "frequency_final": 1.0000039999999994,
          "frequency_other": 0.9999949999999995,
          "observed_growth_rate": 1.0000090000450002,
          "projected_frequency": 1,
          "timepoint": "2028-04-01T00:00:00",
          "year": 2028
         },
         {
          "clade_membership": "26d9681",
          "estimated_growth_rate": 1.3290963103167739,
          "frequency": 0.7374839999999996,
          "frequency_final": 0.8364219999999997,
          "frequency_other": 0.7374839999999996,
          "observed_growth_rate": 1.1341561308448727,
          "projected_frequency": 0.9801872633176552,
          "timepoint": "2028-04-01T00:00:00",
          "year": 2028
         },
         {
          "clade_membership": "2850b07",
          "estimated_growth_rate": 1.3290963103167739,
          "frequency": 0.7374839999999996,
          "frequency_final": 0.8364219999999997,
          "frequency_other": 0.7374839999999996,
          "observed_growth_rate": 1.1341561308448727,
          "projected_frequency": 0.9801872633176552,
          "timepoint": "2028-04-01T00:00:00",
          "year": 2028
         },
         {
          "clade_membership": "289c480",
          "estimated_growth_rate": 1.0000050000250007,
          "frequency": 0.9999949999999995,
          "frequency_final": 1.0000039999999994,
          "frequency_other": 0.9999949999999995,
          "observed_growth_rate": 1.0000090000450002,
          "projected_frequency": 1,
          "timepoint": "2028-04-01T00:00:00",
          "year": 2028
         },
         {
          "clade_membership": "2edcf74",
          "estimated_growth_rate": 1.0000050000250007,
          "frequency": 0.9999949999999995,
          "frequency_final": 1.0000039999999994,
          "frequency_other": 0.9999949999999995,
          "observed_growth_rate": 1.0000090000450002,
          "projected_frequency": 1,
          "timepoint": "2028-04-01T00:00:00",
          "year": 2028
         },
         {
          "clade_membership": "30c6c1b",
          "estimated_growth_rate": 1.0000050000250007,
          "frequency": 0.9999949999999995,
          "frequency_final": 1.0000039999999994,
          "frequency_other": 0.9999949999999995,
          "observed_growth_rate": 1.0000090000450002,
          "projected_frequency": 1,
          "timepoint": "2028-04-01T00:00:00",
          "year": 2028
         },
         {
          "clade_membership": "37311eb",
          "estimated_growth_rate": 1.3290963103167739,
          "frequency": 0.7374839999999996,
          "frequency_final": 0.8364219999999997,
          "frequency_other": 0.7374839999999996,
          "observed_growth_rate": 1.1341561308448727,
          "projected_frequency": 0.9801872633176552,
          "timepoint": "2028-04-01T00:00:00",
          "year": 2028
         },
         {
          "clade_membership": "3aad673",
          "estimated_growth_rate": 1.0000050000250007,
          "frequency": 0.9999949999999995,
          "frequency_final": 1.0000039999999994,
          "frequency_other": 0.9999949999999995,
          "observed_growth_rate": 1.0000090000450002,
          "projected_frequency": 1,
          "timepoint": "2028-04-01T00:00:00",
          "year": 2028
         },
         {
          "clade_membership": "3ae4d43",
          "estimated_growth_rate": 0.07548917035885067,
          "frequency": 0.26245799999999997,
          "frequency_final": 0.163582,
          "frequency_other": 0.2624579999999999,
          "observed_growth_rate": 0.6232692468890262,
          "projected_frequency": 0.019812736674043225,
          "timepoint": "2028-04-01T00:00:00",
          "year": 2028
         },
         {
          "clade_membership": "3b07f48",
          "estimated_growth_rate": 1.3290963103167739,
          "frequency": 0.7374839999999996,
          "frequency_final": 0.8364219999999997,
          "frequency_other": 0.7374839999999996,
          "observed_growth_rate": 1.1341561308448727,
          "projected_frequency": 0.9801872633176552,
          "timepoint": "2028-04-01T00:00:00",
          "year": 2028
         },
         {
          "clade_membership": "3f3f0ca",
          "estimated_growth_rate": 1.0000050000250007,
          "frequency": 0.9999949999999995,
          "frequency_final": 1.0000039999999994,
          "frequency_other": 0.9999949999999995,
          "observed_growth_rate": 1.0000090000450002,
          "projected_frequency": 1,
          "timepoint": "2028-04-01T00:00:00",
          "year": 2028
         },
         {
          "clade_membership": "433fd0b",
          "estimated_growth_rate": 1.3290963103167739,
          "frequency": 0.7374839999999996,
          "frequency_final": 0.8364219999999997,
          "frequency_other": 0.7374839999999996,
          "observed_growth_rate": 1.1341561308448727,
          "projected_frequency": 0.9801872633176552,
          "timepoint": "2028-04-01T00:00:00",
          "year": 2028
         },
         {
          "clade_membership": "4eae73a",
          "estimated_growth_rate": 1.0000050000250007,
          "frequency": 0.9999949999999995,
          "frequency_final": 1.0000039999999994,
          "frequency_other": 0.9999949999999995,
          "observed_growth_rate": 1.0000090000450002,
          "projected_frequency": 1,
          "timepoint": "2028-04-01T00:00:00",
          "year": 2028
         },
         {
          "clade_membership": "53320bc",
          "estimated_growth_rate": 1.0000050000250007,
          "frequency": 0.9999949999999995,
          "frequency_final": 1.0000039999999994,
          "frequency_other": 0.9999949999999995,
          "observed_growth_rate": 1.0000090000450002,
          "projected_frequency": 1,
          "timepoint": "2028-04-01T00:00:00",
          "year": 2028
         },
         {
          "clade_membership": "53d3851",
          "estimated_growth_rate": 1.0000050000250007,
          "frequency": 0.9999949999999995,
          "frequency_final": 1.0000039999999994,
          "frequency_other": 0.9999949999999995,
          "observed_growth_rate": 1.0000090000450002,
          "projected_frequency": 1,
          "timepoint": "2028-04-01T00:00:00",
          "year": 2028
         },
         {
          "clade_membership": "57bbb79",
          "estimated_growth_rate": 1.0000050000250007,
          "frequency": 0.9999949999999995,
          "frequency_final": 1.0000039999999994,
          "frequency_other": 0.9999949999999995,
          "observed_growth_rate": 1.0000090000450002,
          "projected_frequency": 1,
          "timepoint": "2028-04-01T00:00:00",
          "year": 2028
         },
         {
          "clade_membership": "5a8b5f6",
          "estimated_growth_rate": 1.0000050000250007,
          "frequency": 0.9999949999999995,
          "frequency_final": 1.0000039999999994,
          "frequency_other": 0.9999949999999995,
          "observed_growth_rate": 1.0000090000450002,
          "projected_frequency": 1,
          "timepoint": "2028-04-01T00:00:00",
          "year": 2028
         },
         {
          "clade_membership": "6270695",
          "estimated_growth_rate": 1.0000050000250007,
          "frequency": 0.9999949999999995,
          "frequency_final": 1.0000039999999994,
          "frequency_other": 0.9999949999999995,
          "observed_growth_rate": 1.0000090000450002,
          "projected_frequency": 1,
          "timepoint": "2028-04-01T00:00:00",
          "year": 2028
         },
         {
          "clade_membership": "63fb9b5",
          "estimated_growth_rate": 1.0000050000250007,
          "frequency": 0.9999949999999995,
          "frequency_final": 1.0000039999999994,
          "frequency_other": 0.9999949999999995,
          "observed_growth_rate": 1.0000090000450002,
          "projected_frequency": 1,
          "timepoint": "2028-04-01T00:00:00",
          "year": 2028
         },
         {
          "clade_membership": "670a3cd",
          "estimated_growth_rate": 1.0000050000250007,
          "frequency": 0.9999949999999995,
          "frequency_final": 1.0000039999999994,
          "frequency_other": 0.9999949999999995,
          "observed_growth_rate": 1.0000090000450002,
          "projected_frequency": 1,
          "timepoint": "2028-04-01T00:00:00",
          "year": 2028
         },
         {
          "clade_membership": "6fabbb5",
          "estimated_growth_rate": 1.0000050000250007,
          "frequency": 0.9999949999999995,
          "frequency_final": 1.0000039999999994,
          "frequency_other": 0.9999949999999995,
          "observed_growth_rate": 1.0000090000450002,
          "projected_frequency": 1,
          "timepoint": "2028-04-01T00:00:00",
          "year": 2028
         },
         {
          "clade_membership": "7556fb5",
          "estimated_growth_rate": 0.07548917035885067,
          "frequency": 0.26245799999999997,
          "frequency_final": 0.163582,
          "frequency_other": 0.2624579999999999,
          "observed_growth_rate": 0.6232692468890262,
          "projected_frequency": 0.019812736674043225,
          "timepoint": "2028-04-01T00:00:00",
          "year": 2028
         },
         {
          "clade_membership": "75a9110",
          "estimated_growth_rate": 1.3290963103167739,
          "frequency": 0.7374839999999996,
          "frequency_final": 0.8364219999999997,
          "frequency_other": 0.7374839999999996,
          "observed_growth_rate": 1.1341561308448727,
          "projected_frequency": 0.9801872633176552,
          "timepoint": "2028-04-01T00:00:00",
          "year": 2028
         },
         {
          "clade_membership": "762e09c",
          "estimated_growth_rate": 1.3294748678785142,
          "frequency": 0.7372739999999995,
          "frequency_final": 0.8364219999999997,
          "frequency_other": 0.7372739999999995,
          "observed_growth_rate": 1.1344791759915585,
          "projected_frequency": 0.980187253740263,
          "timepoint": "2028-04-01T00:00:00",
          "year": 2028
         },
         {
          "clade_membership": "7a88259",
          "estimated_growth_rate": 1.0000050000250007,
          "frequency": 0.9999949999999995,
          "frequency_final": 1.0000039999999994,
          "frequency_other": 0.9999949999999995,
          "observed_growth_rate": 1.0000090000450002,
          "projected_frequency": 1,
          "timepoint": "2028-04-01T00:00:00",
          "year": 2028
         },
         {
          "clade_membership": "7bea6f6",
          "estimated_growth_rate": 1.0000050000250007,
          "frequency": 0.9999949999999995,
          "frequency_final": 1.0000039999999994,
          "frequency_other": 0.9999949999999995,
          "observed_growth_rate": 1.0000090000450002,
          "projected_frequency": 1,
          "timepoint": "2028-04-01T00:00:00",
          "year": 2028
         },
         {
          "clade_membership": "8126320",
          "estimated_growth_rate": 1.0000050000250007,
          "frequency": 0.9999949999999995,
          "frequency_final": 1.0000039999999994,
          "frequency_other": 0.9999949999999995,
          "observed_growth_rate": 1.0000090000450002,
          "projected_frequency": 1,
          "timepoint": "2028-04-01T00:00:00",
          "year": 2028
         },
         {
          "clade_membership": "8544c1e",
          "estimated_growth_rate": 1.0000050000250007,
          "frequency": 0.9999949999999995,
          "frequency_final": 1.0000039999999994,
          "frequency_other": 0.9999949999999995,
          "observed_growth_rate": 1.0000090000450002,
          "projected_frequency": 1,
          "timepoint": "2028-04-01T00:00:00",
          "year": 2028
         },
         {
          "clade_membership": "8727a54",
          "estimated_growth_rate": 1.0000050000250007,
          "frequency": 0.9999949999999995,
          "frequency_final": 1.0000039999999994,
          "frequency_other": 0.9999949999999995,
          "observed_growth_rate": 1.0000090000450002,
          "projected_frequency": 1,
          "timepoint": "2028-04-01T00:00:00",
          "year": 2028
         },
         {
          "clade_membership": "a6348ef",
          "estimated_growth_rate": 0.07548917035885067,
          "frequency": 0.26245799999999997,
          "frequency_final": 0.163582,
          "frequency_other": 0.2624579999999999,
          "observed_growth_rate": 0.6232692468890262,
          "projected_frequency": 0.019812736674043225,
          "timepoint": "2028-04-01T00:00:00",
          "year": 2028
         },
         {
          "clade_membership": "ae8f3de",
          "estimated_growth_rate": 1.3290963103167739,
          "frequency": 0.7374839999999996,
          "frequency_final": 0.8364219999999997,
          "frequency_other": 0.7374839999999996,
          "observed_growth_rate": 1.1341561308448727,
          "projected_frequency": 0.9801872633176552,
          "timepoint": "2028-04-01T00:00:00",
          "year": 2028
         },
         {
          "clade_membership": "b125362",
          "estimated_growth_rate": 1.0000050000250007,
          "frequency": 0.9999949999999995,
          "frequency_final": 1.0000039999999994,
          "frequency_other": 0.9999949999999995,
          "observed_growth_rate": 1.0000090000450002,
          "projected_frequency": 1,
          "timepoint": "2028-04-01T00:00:00",
          "year": 2028
         },
         {
          "clade_membership": "b19fe11",
          "estimated_growth_rate": 1.3290963103167739,
          "frequency": 0.7374839999999996,
          "frequency_final": 0.8364219999999997,
          "frequency_other": 0.7374839999999996,
          "observed_growth_rate": 1.1341561308448727,
          "projected_frequency": 0.9801872633176552,
          "timepoint": "2028-04-01T00:00:00",
          "year": 2028
         },
         {
          "clade_membership": "b414da5",
          "estimated_growth_rate": 0.07548917035885067,
          "frequency": 0.26245799999999997,
          "frequency_final": 0.163582,
          "frequency_other": 0.2624579999999999,
          "observed_growth_rate": 0.6232692468890262,
          "projected_frequency": 0.019812736674043225,
          "timepoint": "2028-04-01T00:00:00",
          "year": 2028
         },
         {
          "clade_membership": "b66b3e9",
          "estimated_growth_rate": 1.0000050000250007,
          "frequency": 0.9999949999999995,
          "frequency_final": 1.0000039999999994,
          "frequency_other": 0.9999949999999995,
          "observed_growth_rate": 1.0000090000450002,
          "projected_frequency": 1,
          "timepoint": "2028-04-01T00:00:00",
          "year": 2028
         },
         {
          "clade_membership": "b771746",
          "estimated_growth_rate": 1.0000050000250007,
          "frequency": 0.9999949999999995,
          "frequency_final": 1.0000039999999994,
          "frequency_other": 0.9999949999999995,
          "observed_growth_rate": 1.0000090000450002,
          "projected_frequency": 1,
          "timepoint": "2028-04-01T00:00:00",
          "year": 2028
         },
         {
          "clade_membership": "bae78d3",
          "estimated_growth_rate": 1.0000050000250007,
          "frequency": 0.9999949999999995,
          "frequency_final": 1.0000039999999994,
          "frequency_other": 0.9999949999999995,
          "observed_growth_rate": 1.0000090000450002,
          "projected_frequency": 1,
          "timepoint": "2028-04-01T00:00:00",
          "year": 2028
         },
         {
          "clade_membership": "bd7776e",
          "estimated_growth_rate": 1.3290963103167739,
          "frequency": 0.7374839999999996,
          "frequency_final": 0.8364219999999997,
          "frequency_other": 0.7374839999999996,
          "observed_growth_rate": 1.1341561308448727,
          "projected_frequency": 0.9801872633176552,
          "timepoint": "2028-04-01T00:00:00",
          "year": 2028
         },
         {
          "clade_membership": "c72df39",
          "estimated_growth_rate": 1.0000050000250007,
          "frequency": 0.9999949999999995,
          "frequency_final": 1.0000039999999994,
          "frequency_other": 0.9999949999999995,
          "observed_growth_rate": 1.0000090000450002,
          "projected_frequency": 1,
          "timepoint": "2028-04-01T00:00:00",
          "year": 2028
         },
         {
          "clade_membership": "cbef932",
          "estimated_growth_rate": 1.0000050000250007,
          "frequency": 0.9999949999999995,
          "frequency_final": 1.0000039999999994,
          "frequency_other": 0.9999949999999995,
          "observed_growth_rate": 1.0000090000450002,
          "projected_frequency": 1,
          "timepoint": "2028-04-01T00:00:00",
          "year": 2028
         },
         {
          "clade_membership": "d991bc2",
          "estimated_growth_rate": 0.07548917035885067,
          "frequency": 0.26245799999999997,
          "frequency_final": 0.163582,
          "frequency_other": 0.2624579999999999,
          "observed_growth_rate": 0.6232692468890262,
          "projected_frequency": 0.019812736674043225,
          "timepoint": "2028-04-01T00:00:00",
          "year": 2028
         },
         {
          "clade_membership": "da37a22",
          "estimated_growth_rate": 1.0000050000250007,
          "frequency": 0.9999949999999995,
          "frequency_final": 1.0000039999999994,
          "frequency_other": 0.9999949999999995,
          "observed_growth_rate": 1.0000090000450002,
          "projected_frequency": 1,
          "timepoint": "2028-04-01T00:00:00",
          "year": 2028
         },
         {
          "clade_membership": "e4a2481",
          "estimated_growth_rate": 1.7010061211555447,
          "frequency": 0.5761269999999998,
          "frequency_final": 0.6091960000000002,
          "frequency_other": 0.5761269999999998,
          "observed_growth_rate": 1.0573988026945453,
          "projected_frequency": 0.9799955535629803,
          "timepoint": "2028-04-01T00:00:00",
          "year": 2028
         },
         {
          "clade_membership": "e626b38",
          "estimated_growth_rate": 0.07548917035885067,
          "frequency": 0.26245799999999997,
          "frequency_final": 0.163582,
          "frequency_other": 0.2624579999999999,
          "observed_growth_rate": 0.6232692468890262,
          "projected_frequency": 0.019812736674043225,
          "timepoint": "2028-04-01T00:00:00",
          "year": 2028
         },
         {
          "clade_membership": "e72bf28",
          "estimated_growth_rate": 1.0000050000250007,
          "frequency": 0.9999949999999995,
          "frequency_final": 1.0000039999999994,
          "frequency_other": 0.9999949999999995,
          "observed_growth_rate": 1.0000090000450002,
          "projected_frequency": 1,
          "timepoint": "2028-04-01T00:00:00",
          "year": 2028
         },
         {
          "clade_membership": "eb2f804",
          "estimated_growth_rate": 1.0000050000250007,
          "frequency": 0.9999949999999995,
          "frequency_final": 1.0000039999999994,
          "frequency_other": 0.9999949999999995,
          "observed_growth_rate": 1.0000090000450002,
          "projected_frequency": 1,
          "timepoint": "2028-04-01T00:00:00",
          "year": 2028
         },
         {
          "clade_membership": "f095a97",
          "estimated_growth_rate": 0.0008951605747031495,
          "frequency": 0.16823900000000003,
          "frequency_final": 0.051416,
          "frequency_other": 0.168239,
          "observed_growth_rate": 0.3056128483883047,
          "projected_frequency": 0.0001506009199274832,
          "timepoint": "2028-04-01T00:00:00",
          "year": 2028
         },
         {
          "clade_membership": "f263904",
          "estimated_growth_rate": 1.0000050000250007,
          "frequency": 0.9999949999999995,
          "frequency_final": 1.0000039999999994,
          "frequency_other": 0.9999949999999995,
          "observed_growth_rate": 1.0000090000450002,
          "projected_frequency": 1,
          "timepoint": "2028-04-01T00:00:00",
          "year": 2028
         },
         {
          "clade_membership": "f657904",
          "estimated_growth_rate": 1.3290963103167739,
          "frequency": 0.7374839999999996,
          "frequency_final": 0.8364219999999997,
          "frequency_other": 0.7374839999999996,
          "observed_growth_rate": 1.1341561308448727,
          "projected_frequency": 0.9801872633176552,
          "timepoint": "2028-04-01T00:00:00",
          "year": 2028
         },
         {
          "clade_membership": "f6d3aae",
          "estimated_growth_rate": 1.3290963103167739,
          "frequency": 0.7374839999999996,
          "frequency_final": 0.8364219999999997,
          "frequency_other": 0.7374839999999996,
          "observed_growth_rate": 1.1341561308448727,
          "projected_frequency": 0.9801872633176552,
          "timepoint": "2028-04-01T00:00:00",
          "year": 2028
         },
         {
          "clade_membership": "f6d9b34",
          "estimated_growth_rate": 1.0000050000250007,
          "frequency": 0.9999949999999995,
          "frequency_final": 1.0000039999999994,
          "frequency_other": 0.9999949999999995,
          "observed_growth_rate": 1.0000090000450002,
          "projected_frequency": 1,
          "timepoint": "2028-04-01T00:00:00",
          "year": 2028
         },
         {
          "clade_membership": "f9786f2",
          "estimated_growth_rate": 3.543534796135921,
          "frequency": 0.27650399999999997,
          "frequency_final": 0.44893800000000017,
          "frequency_other": 0.27650399999999997,
          "observed_growth_rate": 1.6236220814165445,
          "projected_frequency": 0.9798015452707666,
          "timepoint": "2028-04-01T00:00:00",
          "year": 2028
         },
         {
          "clade_membership": "fa27c50",
          "estimated_growth_rate": 6.198833857902601,
          "frequency": 0.158036,
          "frequency_final": 0.20757899999999999,
          "frequency_other": 0.158036,
          "observed_growth_rate": 1.3134918626135816,
          "projected_frequency": 0.9796389075674955,
          "timepoint": "2028-04-01T00:00:00",
          "year": 2028
         },
         {
          "clade_membership": "root",
          "estimated_growth_rate": 1.0000050000250007,
          "frequency": 0.9999949999999995,
          "frequency_final": 1.0000039999999994,
          "frequency_other": 0.9999949999999995,
          "observed_growth_rate": 1.0000090000450002,
          "projected_frequency": 1,
          "timepoint": "2028-04-01T00:00:00",
          "year": 2028
         },
         {
          "clade_membership": "00128ca",
          "estimated_growth_rate": 2.0411868201970194,
          "frequency": 0.18354199999999996,
          "frequency_final": 0.16258799999999998,
          "frequency_other": 0.18354199999999996,
          "observed_growth_rate": 0.885835394623574,
          "projected_frequency": 0.3746435113526012,
          "timepoint": "2028-10-01T00:00:00",
          "year": 2028
         },
         {
          "clade_membership": "029c69d",
          "estimated_growth_rate": 0.9999990000009994,
          "frequency": 1.0000010000000004,
          "frequency_final": 1.0000070000000003,
          "frequency_other": 1.0000010000000001,
          "observed_growth_rate": 1.0000059999939999,
          "projected_frequency": 0.9999999999999998,
          "timepoint": "2028-10-01T00:00:00",
          "year": 2028
         },
         {
          "clade_membership": "0654693",
          "estimated_growth_rate": 0.9999990000009994,
          "frequency": 1.0000010000000004,
          "frequency_final": 1.0000070000000003,
          "frequency_other": 1.0000010000000001,
          "observed_growth_rate": 1.0000059999939999,
          "projected_frequency": 0.9999999999999998,
          "timepoint": "2028-10-01T00:00:00",
          "year": 2028
         },
         {
          "clade_membership": "0783f23",
          "estimated_growth_rate": 0.9999990000009994,
          "frequency": 1.0000010000000004,
          "frequency_final": 1.0000070000000003,
          "frequency_other": 1.0000010000000001,
          "observed_growth_rate": 1.0000059999939999,
          "projected_frequency": 0.9999999999999998,
          "timepoint": "2028-10-01T00:00:00",
          "year": 2028
         },
         {
          "clade_membership": "07bbfa9",
          "estimated_growth_rate": 2.6542264367230426,
          "frequency": 0.15465600000000002,
          "frequency_final": 0.22951399999999994,
          "frequency_other": 0.15465600000000002,
          "observed_growth_rate": 1.4840290709704111,
          "projected_frequency": 0.41049204379783893,
          "timepoint": "2028-10-01T00:00:00",
          "year": 2028
         },
         {
          "clade_membership": "0d82b51",
          "estimated_growth_rate": 0.9999990000009994,
          "frequency": 1.0000010000000004,
          "frequency_final": 1.0000070000000003,
          "frequency_other": 1.0000010000000001,
          "observed_growth_rate": 1.0000059999939999,
          "projected_frequency": 0.9999999999999998,
          "timepoint": "2028-10-01T00:00:00",
          "year": 2028
         },
         {
          "clade_membership": "0d8bb1e",
          "estimated_growth_rate": 0.9999990000009994,
          "frequency": 1.0000010000000004,
          "frequency_final": 1.0000070000000003,
          "frequency_other": 1.0000010000000001,
          "observed_growth_rate": 1.0000059999939999,
          "projected_frequency": 0.9999999999999998,
          "timepoint": "2028-10-01T00:00:00",
          "year": 2028
         },
         {
          "clade_membership": "1bce829",
          "estimated_growth_rate": 0.9999990000009994,
          "frequency": 1.0000010000000004,
          "frequency_final": 1.0000070000000003,
          "frequency_other": 1.0000010000000001,
          "observed_growth_rate": 1.0000059999939999,
          "projected_frequency": 0.9999999999999998,
          "timepoint": "2028-10-01T00:00:00",
          "year": 2028
         },
         {
          "clade_membership": "1f6665e",
          "estimated_growth_rate": 2.0411868201970194,
          "frequency": 0.18354199999999996,
          "frequency_final": 0.16258799999999998,
          "frequency_other": 0.18354199999999996,
          "observed_growth_rate": 0.885835394623574,
          "projected_frequency": 0.3746435113526012,
          "timepoint": "2028-10-01T00:00:00",
          "year": 2028
         },
         {
          "clade_membership": "2018235",
          "estimated_growth_rate": 0.9999990000009994,
          "frequency": 1.0000010000000004,
          "frequency_final": 1.0000070000000003,
          "frequency_other": 1.0000010000000001,
          "observed_growth_rate": 1.0000059999939999,
          "projected_frequency": 0.9999999999999998,
          "timepoint": "2028-10-01T00:00:00",
          "year": 2028
         },
         {
          "clade_membership": "26d9681",
          "estimated_growth_rate": 0.765937406100488,
          "frequency": 0.8164590000000003,
          "frequency_final": 0.837419,
          "frequency_other": 0.8164590000000003,
          "observed_growth_rate": 1.0256718341031206,
          "projected_frequency": 0.6253564886473986,
          "timepoint": "2028-10-01T00:00:00",
          "year": 2028
         },
         {
          "clade_membership": "2850b07",
          "estimated_growth_rate": 0.765937406100488,
          "frequency": 0.8164590000000003,
          "frequency_final": 0.837419,
          "frequency_other": 0.8164590000000003,
          "observed_growth_rate": 1.0256718341031206,
          "projected_frequency": 0.6253564886473986,
          "timepoint": "2028-10-01T00:00:00",
          "year": 2028
         },
         {
          "clade_membership": "289c480",
          "estimated_growth_rate": 0.9999990000009994,
          "frequency": 1.0000010000000004,
          "frequency_final": 1.0000070000000003,
          "frequency_other": 1.0000010000000001,
          "observed_growth_rate": 1.0000059999939999,
          "projected_frequency": 0.9999999999999998,
          "timepoint": "2028-10-01T00:00:00",
          "year": 2028
         },
         {
          "clade_membership": "2edcf74",
          "estimated_growth_rate": 0.9999990000009994,
          "frequency": 1.0000010000000004,
          "frequency_final": 1.0000070000000003,
          "frequency_other": 1.0000010000000001,
          "observed_growth_rate": 1.0000059999939999,
          "projected_frequency": 0.9999999999999998,
          "timepoint": "2028-10-01T00:00:00",
          "year": 2028
         },
         {
          "clade_membership": "30c6c1b",
          "estimated_growth_rate": 0.9999990000009994,
          "frequency": 1.0000010000000004,
          "frequency_final": 1.0000070000000003,
          "frequency_other": 1.0000010000000001,
          "observed_growth_rate": 1.0000059999939999,
          "projected_frequency": 0.9999999999999998,
          "timepoint": "2028-10-01T00:00:00",
          "year": 2028
         },
         {
          "clade_membership": "37311eb",
          "estimated_growth_rate": 0.765937406100488,
          "frequency": 0.8164590000000003,
          "frequency_final": 0.837419,
          "frequency_other": 0.8164590000000003,
          "observed_growth_rate": 1.0256718341031206,
          "projected_frequency": 0.6253564886473986,
          "timepoint": "2028-10-01T00:00:00",
          "year": 2028
         },
         {
          "clade_membership": "3aad673",
          "estimated_growth_rate": 0.9999990000009994,
          "frequency": 1.0000010000000004,
          "frequency_final": 1.0000070000000003,
          "frequency_other": 1.0000010000000001,
          "observed_growth_rate": 1.0000059999939999,
          "projected_frequency": 0.9999999999999998,
          "timepoint": "2028-10-01T00:00:00",
          "year": 2028
         },
         {
          "clade_membership": "3ae4d43",
          "estimated_growth_rate": 2.0411868201970194,
          "frequency": 0.18354199999999996,
          "frequency_final": 0.16258799999999998,
          "frequency_other": 0.18354199999999996,
          "observed_growth_rate": 0.885835394623574,
          "projected_frequency": 0.3746435113526012,
          "timepoint": "2028-10-01T00:00:00",
          "year": 2028
         },
         {
          "clade_membership": "3b07f48",
          "estimated_growth_rate": 0.765937406100488,
          "frequency": 0.8164590000000003,
          "frequency_final": 0.837419,
          "frequency_other": 0.8164590000000003,
          "observed_growth_rate": 1.0256718341031206,
          "projected_frequency": 0.6253564886473986,
          "timepoint": "2028-10-01T00:00:00",
          "year": 2028
         },
         {
          "clade_membership": "3f3f0ca",
          "estimated_growth_rate": 0.9999990000009994,
          "frequency": 1.0000010000000004,
          "frequency_final": 1.0000070000000003,
          "frequency_other": 1.0000010000000001,
          "observed_growth_rate": 1.0000059999939999,
          "projected_frequency": 0.9999999999999998,
          "timepoint": "2028-10-01T00:00:00",
          "year": 2028
         },
         {
          "clade_membership": "433fd0b",
          "estimated_growth_rate": 0.765937406100488,
          "frequency": 0.8164590000000003,
          "frequency_final": 0.837419,
          "frequency_other": 0.8164590000000003,
          "observed_growth_rate": 1.0256718341031206,
          "projected_frequency": 0.6253564886473986,
          "timepoint": "2028-10-01T00:00:00",
          "year": 2028
         },
         {
          "clade_membership": "4eae73a",
          "estimated_growth_rate": 0.9999990000009994,
          "frequency": 1.0000010000000004,
          "frequency_final": 1.0000070000000003,
          "frequency_other": 1.0000010000000001,
          "observed_growth_rate": 1.0000059999939999,
          "projected_frequency": 0.9999999999999998,
          "timepoint": "2028-10-01T00:00:00",
          "year": 2028
         },
         {
          "clade_membership": "53320bc",
          "estimated_growth_rate": 0.9999990000009994,
          "frequency": 1.0000010000000004,
          "frequency_final": 1.0000070000000003,
          "frequency_other": 1.0000010000000001,
          "observed_growth_rate": 1.0000059999939999,
          "projected_frequency": 0.9999999999999998,
          "timepoint": "2028-10-01T00:00:00",
          "year": 2028
         },
         {
          "clade_membership": "53d3851",
          "estimated_growth_rate": 0.9999990000009994,
          "frequency": 1.0000010000000004,
          "frequency_final": 1.0000070000000003,
          "frequency_other": 1.0000010000000001,
          "observed_growth_rate": 1.0000059999939999,
          "projected_frequency": 0.9999999999999998,
          "timepoint": "2028-10-01T00:00:00",
          "year": 2028
         },
         {
          "clade_membership": "57bbb79",
          "estimated_growth_rate": 0.9999990000009994,
          "frequency": 1.0000010000000004,
          "frequency_final": 1.0000070000000003,
          "frequency_other": 1.0000010000000001,
          "observed_growth_rate": 1.0000059999939999,
          "projected_frequency": 0.9999999999999998,
          "timepoint": "2028-10-01T00:00:00",
          "year": 2028
         },
         {
          "clade_membership": "5a8b5f6",
          "estimated_growth_rate": 0.9999990000009994,
          "frequency": 1.0000010000000004,
          "frequency_final": 1.0000070000000003,
          "frequency_other": 1.0000010000000001,
          "observed_growth_rate": 1.0000059999939999,
          "projected_frequency": 0.9999999999999998,
          "timepoint": "2028-10-01T00:00:00",
          "year": 2028
         },
         {
          "clade_membership": "6270695",
          "estimated_growth_rate": 0.9999990000009994,
          "frequency": 1.0000010000000004,
          "frequency_final": 1.0000070000000003,
          "frequency_other": 1.0000010000000001,
          "observed_growth_rate": 1.0000059999939999,
          "projected_frequency": 0.9999999999999998,
          "timepoint": "2028-10-01T00:00:00",
          "year": 2028
         },
         {
          "clade_membership": "63fb9b5",
          "estimated_growth_rate": 0.9999990000009994,
          "frequency": 1.0000010000000004,
          "frequency_final": 1.0000070000000003,
          "frequency_other": 1.0000010000000001,
          "observed_growth_rate": 1.0000059999939999,
          "projected_frequency": 0.9999999999999998,
          "timepoint": "2028-10-01T00:00:00",
          "year": 2028
         },
         {
          "clade_membership": "670a3cd",
          "estimated_growth_rate": 0.9999990000009994,
          "frequency": 1.0000010000000004,
          "frequency_final": 1.0000070000000003,
          "frequency_other": 1.0000010000000001,
          "observed_growth_rate": 1.0000059999939999,
          "projected_frequency": 0.9999999999999998,
          "timepoint": "2028-10-01T00:00:00",
          "year": 2028
         },
         {
          "clade_membership": "6fabbb5",
          "estimated_growth_rate": 0.9999990000009994,
          "frequency": 1.0000010000000004,
          "frequency_final": 1.0000070000000003,
          "frequency_other": 1.0000010000000001,
          "observed_growth_rate": 1.0000059999939999,
          "projected_frequency": 0.9999999999999998,
          "timepoint": "2028-10-01T00:00:00",
          "year": 2028
         },
         {
          "clade_membership": "7556fb5",
          "estimated_growth_rate": 2.0411868201970194,
          "frequency": 0.18354199999999996,
          "frequency_final": 0.16258799999999998,
          "frequency_other": 0.18354199999999996,
          "observed_growth_rate": 0.885835394623574,
          "projected_frequency": 0.3746435113526012,
          "timepoint": "2028-10-01T00:00:00",
          "year": 2028
         },
         {
          "clade_membership": "75a9110",
          "estimated_growth_rate": 0.765937406100488,
          "frequency": 0.8164590000000003,
          "frequency_final": 0.837419,
          "frequency_other": 0.8164590000000003,
          "observed_growth_rate": 1.0256718341031206,
          "projected_frequency": 0.6253564886473986,
          "timepoint": "2028-10-01T00:00:00",
          "year": 2028
         },
         {
          "clade_membership": "762e09c",
          "estimated_growth_rate": 0.765937406100488,
          "frequency": 0.8164590000000003,
          "frequency_final": 0.837419,
          "frequency_other": 0.8164590000000003,
          "observed_growth_rate": 1.0256718341031206,
          "projected_frequency": 0.6253564886473986,
          "timepoint": "2028-10-01T00:00:00",
          "year": 2028
         },
         {
          "clade_membership": "7a88259",
          "estimated_growth_rate": 0.9999990000009994,
          "frequency": 1.0000010000000004,
          "frequency_final": 1.0000070000000003,
          "frequency_other": 1.0000010000000001,
          "observed_growth_rate": 1.0000059999939999,
          "projected_frequency": 0.9999999999999998,
          "timepoint": "2028-10-01T00:00:00",
          "year": 2028
         },
         {
          "clade_membership": "7bea6f6",
          "estimated_growth_rate": 0.9999990000009994,
          "frequency": 1.0000010000000004,
          "frequency_final": 1.0000070000000003,
          "frequency_other": 1.0000010000000001,
          "observed_growth_rate": 1.0000059999939999,
          "projected_frequency": 0.9999999999999998,
          "timepoint": "2028-10-01T00:00:00",
          "year": 2028
         },
         {
          "clade_membership": "8126320",
          "estimated_growth_rate": 0.9999990000009994,
          "frequency": 1.0000010000000004,
          "frequency_final": 1.0000070000000003,
          "frequency_other": 1.0000010000000001,
          "observed_growth_rate": 1.0000059999939999,
          "projected_frequency": 0.9999999999999998,
          "timepoint": "2028-10-01T00:00:00",
          "year": 2028
         },
         {
          "clade_membership": "8544c1e",
          "estimated_growth_rate": 0.9999990000009994,
          "frequency": 1.0000010000000004,
          "frequency_final": 1.0000070000000003,
          "frequency_other": 1.0000010000000001,
          "observed_growth_rate": 1.0000059999939999,
          "projected_frequency": 0.9999999999999998,
          "timepoint": "2028-10-01T00:00:00",
          "year": 2028
         },
         {
          "clade_membership": "8727a54",
          "estimated_growth_rate": 0.9999990000009994,
          "frequency": 1.0000010000000004,
          "frequency_final": 1.0000070000000003,
          "frequency_other": 1.0000010000000001,
          "observed_growth_rate": 1.0000059999939999,
          "projected_frequency": 0.9999999999999998,
          "timepoint": "2028-10-01T00:00:00",
          "year": 2028
         },
         {
          "clade_membership": "a6348ef",
          "estimated_growth_rate": 2.0411868201970194,
          "frequency": 0.18354199999999996,
          "frequency_final": 0.16258799999999998,
          "frequency_other": 0.18354199999999996,
          "observed_growth_rate": 0.885835394623574,
          "projected_frequency": 0.3746435113526012,
          "timepoint": "2028-10-01T00:00:00",
          "year": 2028
         },
         {
          "clade_membership": "ae8f3de",
          "estimated_growth_rate": 0.765937406100488,
          "frequency": 0.8164590000000003,
          "frequency_final": 0.837419,
          "frequency_other": 0.8164590000000003,
          "observed_growth_rate": 1.0256718341031206,
          "projected_frequency": 0.6253564886473986,
          "timepoint": "2028-10-01T00:00:00",
          "year": 2028
         },
         {
          "clade_membership": "b0637ca",
          "estimated_growth_rate": 0.0814974654569357,
          "frequency": 0.156608,
          "frequency_final": 0.004823,
          "frequency_other": 0.156608,
          "observed_growth_rate": 0.0307966387413159,
          "projected_frequency": 0.012763155070279787,
          "timepoint": "2028-10-01T00:00:00",
          "year": 2028
         },
         {
          "clade_membership": "b125362",
          "estimated_growth_rate": 0.9999990000009994,
          "frequency": 1.0000010000000004,
          "frequency_final": 1.0000070000000003,
          "frequency_other": 1.0000010000000001,
          "observed_growth_rate": 1.0000059999939999,
          "projected_frequency": 0.9999999999999998,
          "timepoint": "2028-10-01T00:00:00",
          "year": 2028
         },
         {
          "clade_membership": "b19fe11",
          "estimated_growth_rate": 0.765937406100488,
          "frequency": 0.8164590000000003,
          "frequency_final": 0.837419,
          "frequency_other": 0.8164590000000003,
          "observed_growth_rate": 1.0256718341031206,
          "projected_frequency": 0.6253564886473986,
          "timepoint": "2028-10-01T00:00:00",
          "year": 2028
         },
         {
          "clade_membership": "b414da5",
          "estimated_growth_rate": 2.0411868201970194,
          "frequency": 0.18354199999999996,
          "frequency_final": 0.16258799999999998,
          "frequency_other": 0.18354199999999996,
          "observed_growth_rate": 0.885835394623574,
          "projected_frequency": 0.3746435113526012,
          "timepoint": "2028-10-01T00:00:00",
          "year": 2028
         },
         {
          "clade_membership": "b66b3e9",
          "estimated_growth_rate": 0.9999990000009994,
          "frequency": 1.0000010000000004,
          "frequency_final": 1.0000070000000003,
          "frequency_other": 1.0000010000000001,
          "observed_growth_rate": 1.0000059999939999,
          "projected_frequency": 0.9999999999999998,
          "timepoint": "2028-10-01T00:00:00",
          "year": 2028
         },
         {
          "clade_membership": "b771746",
          "estimated_growth_rate": 0.9999990000009994,
          "frequency": 1.0000010000000004,
          "frequency_final": 1.0000070000000003,
          "frequency_other": 1.0000010000000001,
          "observed_growth_rate": 1.0000059999939999,
          "projected_frequency": 0.9999999999999998,
          "timepoint": "2028-10-01T00:00:00",
          "year": 2028
         },
         {
          "clade_membership": "bae78d3",
          "estimated_growth_rate": 0.9999990000009994,
          "frequency": 1.0000010000000004,
          "frequency_final": 1.0000070000000003,
          "frequency_other": 1.0000010000000001,
          "observed_growth_rate": 1.0000059999939999,
          "projected_frequency": 0.9999999999999998,
          "timepoint": "2028-10-01T00:00:00",
          "year": 2028
         },
         {
          "clade_membership": "bd7776e",
          "estimated_growth_rate": 0.765937406100488,
          "frequency": 0.8164590000000003,
          "frequency_final": 0.837419,
          "frequency_other": 0.8164590000000003,
          "observed_growth_rate": 1.0256718341031206,
          "projected_frequency": 0.6253564886473986,
          "timepoint": "2028-10-01T00:00:00",
          "year": 2028
         },
         {
          "clade_membership": "c72df39",
          "estimated_growth_rate": 0.9999990000009994,
          "frequency": 1.0000010000000004,
          "frequency_final": 1.0000070000000003,
          "frequency_other": 1.0000010000000001,
          "observed_growth_rate": 1.0000059999939999,
          "projected_frequency": 0.9999999999999998,
          "timepoint": "2028-10-01T00:00:00",
          "year": 2028
         },
         {
          "clade_membership": "cbef932",
          "estimated_growth_rate": 0.9999990000009994,
          "frequency": 1.0000010000000004,
          "frequency_final": 1.0000070000000003,
          "frequency_other": 1.0000010000000001,
          "observed_growth_rate": 1.0000059999939999,
          "projected_frequency": 0.9999999999999998,
          "timepoint": "2028-10-01T00:00:00",
          "year": 2028
         },
         {
          "clade_membership": "d991bc2",
          "estimated_growth_rate": 2.0411868201970194,
          "frequency": 0.18354199999999996,
          "frequency_final": 0.16258799999999998,
          "frequency_other": 0.18354199999999996,
          "observed_growth_rate": 0.885835394623574,
          "projected_frequency": 0.3746435113526012,
          "timepoint": "2028-10-01T00:00:00",
          "year": 2028
         },
         {
          "clade_membership": "da37a22",
          "estimated_growth_rate": 0.9999990000009994,
          "frequency": 1.0000010000000004,
          "frequency_final": 1.0000070000000003,
          "frequency_other": 1.0000010000000001,
          "observed_growth_rate": 1.0000059999939999,
          "projected_frequency": 0.9999999999999998,
          "timepoint": "2028-10-01T00:00:00",
          "year": 2028
         },
         {
          "clade_membership": "e4a2481",
          "estimated_growth_rate": 0.34189213176939337,
          "frequency": 0.6278090000000001,
          "frequency_final": 0.607905,
          "frequency_other": 0.6278090000000001,
          "observed_growth_rate": 0.9682960900528663,
          "projected_frequency": 0.2146429573540111,
          "timepoint": "2028-10-01T00:00:00",
          "year": 2028
         },
         {
          "clade_membership": "e626b38",
          "estimated_growth_rate": 2.0411868201970194,
          "frequency": 0.18354199999999996,
          "frequency_final": 0.16258799999999998,
          "frequency_other": 0.18354199999999996,
          "observed_growth_rate": 0.885835394623574,
          "projected_frequency": 0.3746435113526012,
          "timepoint": "2028-10-01T00:00:00",
          "year": 2028
         },
         {
          "clade_membership": "e72bf28",
          "estimated_growth_rate": 0.9999990000009994,
          "frequency": 1.0000010000000004,
          "frequency_final": 1.0000070000000003,
          "frequency_other": 1.0000010000000001,
          "observed_growth_rate": 1.0000059999939999,
          "projected_frequency": 0.9999999999999998,
          "timepoint": "2028-10-01T00:00:00",
          "year": 2028
         },
         {
          "clade_membership": "eb2f804",
          "estimated_growth_rate": 0.9999990000009994,
          "frequency": 1.0000010000000004,
          "frequency_final": 1.0000070000000003,
          "frequency_other": 1.0000010000000001,
          "observed_growth_rate": 1.0000059999939999,
          "projected_frequency": 0.9999999999999998,
          "timepoint": "2028-10-01T00:00:00",
          "year": 2028
         },
         {
          "clade_membership": "f095a97",
          "estimated_growth_rate": 0.052922812131426675,
          "frequency": 0.273412,
          "frequency_final": 0.016093,
          "frequency_other": 0.27341199999999993,
          "observed_growth_rate": 0.05885988910508683,
          "projected_frequency": 0.014469731910477629,
          "timepoint": "2028-10-01T00:00:00",
          "year": 2028
         },
         {
          "clade_membership": "f263904",
          "estimated_growth_rate": 0.9999990000009994,
          "frequency": 1.0000010000000004,
          "frequency_final": 1.0000070000000003,
          "frequency_other": 1.0000010000000001,
          "observed_growth_rate": 1.0000059999939999,
          "projected_frequency": 0.9999999999999998,
          "timepoint": "2028-10-01T00:00:00",
          "year": 2028
         },
         {
          "clade_membership": "f657904",
          "estimated_growth_rate": 0.765937406100488,
          "frequency": 0.8164590000000003,
          "frequency_final": 0.837419,
          "frequency_other": 0.8164590000000003,
          "observed_growth_rate": 1.0256718341031206,
          "projected_frequency": 0.6253564886473986,
          "timepoint": "2028-10-01T00:00:00",
          "year": 2028
         },
         {
          "clade_membership": "f6d3aae",
          "estimated_growth_rate": 0.765937406100488,
          "frequency": 0.8164590000000003,
          "frequency_final": 0.837419,
          "frequency_other": 0.8164590000000003,
          "observed_growth_rate": 1.0256718341031206,
          "projected_frequency": 0.6253564886473986,
          "timepoint": "2028-10-01T00:00:00",
          "year": 2028
         },
         {
          "clade_membership": "f6d9b34",
          "estimated_growth_rate": 0.9999990000009994,
          "frequency": 1.0000010000000004,
          "frequency_final": 1.0000070000000003,
          "frequency_other": 1.0000010000000001,
          "observed_growth_rate": 1.0000059999939999,
          "projected_frequency": 0.9999999999999998,
          "timepoint": "2028-10-01T00:00:00",
          "year": 2028
         },
         {
          "clade_membership": "f9786f2",
          "estimated_growth_rate": 0.6673707878796393,
          "frequency": 0.296977,
          "frequency_final": 0.3947159999999999,
          "frequency_other": 0.296977,
          "observed_growth_rate": 1.329113028955104,
          "projected_frequency": 0.19819377447213163,
          "timepoint": "2028-10-01T00:00:00",
          "year": 2028
         },
         {
          "clade_membership": "fa27c50",
          "estimated_growth_rate": 1.1736435843634423,
          "frequency": 0.15414999999999998,
          "frequency_final": 0.18419,
          "frequency_other": 0.15414999999999998,
          "observed_growth_rate": 1.1948751216347715,
          "projected_frequency": 0.18091715852962462,
          "timepoint": "2028-10-01T00:00:00",
          "year": 2028
         },
         {
          "clade_membership": "root",
          "estimated_growth_rate": 0.9999990000009994,
          "frequency": 1.0000010000000004,
          "frequency_final": 1.0000070000000003,
          "frequency_other": 1.0000010000000001,
          "observed_growth_rate": 1.0000059999939999,
          "projected_frequency": 0.9999999999999998,
          "timepoint": "2028-10-01T00:00:00",
          "year": 2028
         },
         {
          "clade_membership": "00128ca",
          "estimated_growth_rate": 0.00016328310189952217,
          "frequency": 0.163582,
          "frequency_final": 0.083852,
          "frequency_other": 0.163582,
          "observed_growth_rate": 0.5125991857294812,
          "projected_frequency": 2.6710176374927636e-05,
          "timepoint": "2029-04-01T00:00:00",
          "year": 2029
         },
         {
          "clade_membership": "029c69d",
          "estimated_growth_rate": 0.9999960000160004,
          "frequency": 1.0000039999999994,
          "frequency_final": 0.9999960000000009,
          "frequency_other": 1.0000039999999994,
          "observed_growth_rate": 0.9999920000320013,
          "projected_frequency": 0.9999999999999999,
          "timepoint": "2029-04-01T00:00:00",
          "year": 2029
         },
         {
          "clade_membership": "0654693",
          "estimated_growth_rate": 0.9999960000160004,
          "frequency": 1.0000039999999994,
          "frequency_final": 0.9999960000000009,
          "frequency_other": 1.0000039999999994,
          "observed_growth_rate": 0.9999920000320013,
          "projected_frequency": 0.9999999999999999,
          "timepoint": "2029-04-01T00:00:00",
          "year": 2029
         },
         {
          "clade_membership": "0783f23",
          "estimated_growth_rate": 0.9999960000160004,
          "frequency": 1.0000039999999994,
          "frequency_final": 0.9999960000000009,
          "frequency_other": 1.0000039999999994,
          "observed_growth_rate": 0.9999920000320013,
          "projected_frequency": 0.9999999999999999,
          "timepoint": "2029-04-01T00:00:00",
          "year": 2029
         },
         {
          "clade_membership": "07bbfa9",
          "estimated_growth_rate": 7.546863658938128e-05,
          "frequency": 0.204836,
          "frequency_final": 0.3275330000000001,
          "frequency_other": 0.204836,
          "observed_growth_rate": 1.5990011521412255,
          "projected_frequency": 1.5458693644422503e-05,
          "timepoint": "2029-04-01T00:00:00",
          "year": 2029
         },
         {
          "clade_membership": "0d82b51",
          "estimated_growth_rate": 0.9999960000160004,
          "frequency": 1.0000039999999994,
          "frequency_final": 0.9999960000000009,
          "frequency_other": 1.0000039999999994,
          "observed_growth_rate": 0.9999920000320013,
          "projected_frequency": 0.9999999999999999,
          "timepoint": "2029-04-01T00:00:00",
          "year": 2029
         },
         {
          "clade_membership": "0d8bb1e",
          "estimated_growth_rate": 0.9999960000160004,
          "frequency": 1.0000039999999994,
          "frequency_final": 0.9999960000000009,
          "frequency_other": 1.0000039999999994,
          "observed_growth_rate": 0.9999920000320013,
          "projected_frequency": 0.9999999999999999,
          "timepoint": "2029-04-01T00:00:00",
          "year": 2029
         },
         {
          "clade_membership": "1bce829",
          "estimated_growth_rate": 0.9999960000160004,
          "frequency": 1.0000039999999994,
          "frequency_final": 0.9999960000000009,
          "frequency_other": 1.0000039999999994,
          "observed_growth_rate": 0.9999920000320013,
          "projected_frequency": 0.9999999999999999,
          "timepoint": "2029-04-01T00:00:00",
          "year": 2029
         },
         {
          "clade_membership": "1f6665e",
          "estimated_growth_rate": 0.00016328310189952217,
          "frequency": 0.163582,
          "frequency_final": 0.083852,
          "frequency_other": 0.163582,
          "observed_growth_rate": 0.5125991857294812,
          "projected_frequency": 2.6710176374927636e-05,
          "timepoint": "2029-04-01T00:00:00",
          "year": 2029
         },
         {
          "clade_membership": "2018235",
          "estimated_growth_rate": 0.9999960000160004,
          "frequency": 1.0000039999999994,
          "frequency_final": 0.9999960000000009,
          "frequency_other": 1.0000039999999994,
          "observed_growth_rate": 0.9999920000320013,
          "projected_frequency": 0.9999999999999999,
          "timepoint": "2029-04-01T00:00:00",
          "year": 2029
         },
         {
          "clade_membership": "26d9681",
          "estimated_growth_rate": 1.1955368101551913,
          "frequency": 0.8364219999999997,
          "frequency_final": 0.9161440000000005,
          "frequency_other": 0.8364219999999997,
          "observed_growth_rate": 1.095313131409744,
          "projected_frequency": 0.999973289823625,
          "timepoint": "2029-04-01T00:00:00",
          "year": 2029
         },
         {
          "clade_membership": "2850b07",
          "estimated_growth_rate": 1.1955368101551913,
          "frequency": 0.8364219999999997,
          "frequency_final": 0.9161440000000005,
          "frequency_other": 0.8364219999999997,
          "observed_growth_rate": 1.095313131409744,
          "projected_frequency": 0.999973289823625,
          "timepoint": "2029-04-01T00:00:00",
          "year": 2029
         },
         {
          "clade_membership": "289c480",
          "estimated_growth_rate": 0.9999960000160004,
          "frequency": 1.0000039999999994,
          "frequency_final": 0.9999960000000009,
          "frequency_other": 1.0000039999999994,
          "observed_growth_rate": 0.9999920000320013,
          "projected_frequency": 0.9999999999999999,
          "timepoint": "2029-04-01T00:00:00",
          "year": 2029
         },
         {
          "clade_membership": "2edcf74",
          "estimated_growth_rate": 0.9999960000160004,
          "frequency": 1.0000039999999994,
          "frequency_final": 0.9999960000000009,
          "frequency_other": 1.0000039999999994,
          "observed_growth_rate": 0.9999920000320013,
          "projected_frequency": 0.9999999999999999,
          "timepoint": "2029-04-01T00:00:00",
          "year": 2029
         },
         {
          "clade_membership": "30c6c1b",
          "estimated_growth_rate": 0.9999960000160004,
          "frequency": 1.0000039999999994,
          "frequency_final": 0.9999960000000009,
          "frequency_other": 1.0000039999999994,
          "observed_growth_rate": 0.9999920000320013,
          "projected_frequency": 0.9999999999999999,
          "timepoint": "2029-04-01T00:00:00",
          "year": 2029
         },
         {
          "clade_membership": "37311eb",
          "estimated_growth_rate": 1.1955368101551913,
          "frequency": 0.8364219999999997,
          "frequency_final": 0.9161440000000005,
          "frequency_other": 0.8364219999999997,
          "observed_growth_rate": 1.095313131409744,
          "projected_frequency": 0.999973289823625,
          "timepoint": "2029-04-01T00:00:00",
          "year": 2029
         },
         {
          "clade_membership": "3aad673",
          "estimated_growth_rate": 0.9999960000160004,
          "frequency": 1.0000039999999994,
          "frequency_final": 0.9999960000000009,
          "frequency_other": 1.0000039999999994,
          "observed_growth_rate": 0.9999920000320013,
          "projected_frequency": 0.9999999999999999,
          "timepoint": "2029-04-01T00:00:00",
          "year": 2029
         },
         {
          "clade_membership": "3ae4d43",
          "estimated_growth_rate": 0.00016328310189952217,
          "frequency": 0.163582,
          "frequency_final": 0.083852,
          "frequency_other": 0.163582,
          "observed_growth_rate": 0.5125991857294812,
          "projected_frequency": 2.6710176374927636e-05,
          "timepoint": "2029-04-01T00:00:00",
          "year": 2029
         },
         {
          "clade_membership": "3b07f48",
          "estimated_growth_rate": 1.1955368101551913,
          "frequency": 0.8364219999999997,
          "frequency_final": 0.9161440000000005,
          "frequency_other": 0.8364219999999997,
          "observed_growth_rate": 1.095313131409744,
          "projected_frequency": 0.999973289823625,
          "timepoint": "2029-04-01T00:00:00",
          "year": 2029
         },
         {
          "clade_membership": "3f3f0ca",
          "estimated_growth_rate": 0.9999960000160004,
          "frequency": 1.0000039999999994,
          "frequency_final": 0.9999960000000009,
          "frequency_other": 1.0000039999999994,
          "observed_growth_rate": 0.9999920000320013,
          "projected_frequency": 0.9999999999999999,
          "timepoint": "2029-04-01T00:00:00",
          "year": 2029
         },
         {
          "clade_membership": "433fd0b",
          "estimated_growth_rate": 1.1955368101551913,
          "frequency": 0.8364219999999997,
          "frequency_final": 0.9161440000000005,
          "frequency_other": 0.8364219999999997,
          "observed_growth_rate": 1.095313131409744,
          "projected_frequency": 0.999973289823625,
          "timepoint": "2029-04-01T00:00:00",
          "year": 2029
         },
         {
          "clade_membership": "4eae73a",
          "estimated_growth_rate": 0.9999960000160004,
          "frequency": 1.0000039999999994,
          "frequency_final": 0.9999960000000009,
          "frequency_other": 1.0000039999999994,
          "observed_growth_rate": 0.9999920000320013,
          "projected_frequency": 0.9999999999999999,
          "timepoint": "2029-04-01T00:00:00",
          "year": 2029
         },
         {
          "clade_membership": "53320bc",
          "estimated_growth_rate": 0.9999960000160004,
          "frequency": 1.0000039999999994,
          "frequency_final": 0.9999960000000009,
          "frequency_other": 1.0000039999999994,
          "observed_growth_rate": 0.9999920000320013,
          "projected_frequency": 0.9999999999999999,
          "timepoint": "2029-04-01T00:00:00",
          "year": 2029
         },
         {
          "clade_membership": "5370fbf",
          "estimated_growth_rate": 0.0002256689932834248,
          "frequency": 0.19425299999999998,
          "frequency_final": 0.12799299999999997,
          "frequency_other": 0.19425299999999998,
          "observed_growth_rate": 0.6588984468708333,
          "projected_frequency": 4.383687895228511e-05,
          "timepoint": "2029-04-01T00:00:00",
          "year": 2029
         },
         {
          "clade_membership": "53d3851",
          "estimated_growth_rate": 0.9999960000160004,
          "frequency": 1.0000039999999994,
          "frequency_final": 0.9999960000000009,
          "frequency_other": 1.0000039999999994,
          "observed_growth_rate": 0.9999920000320013,
          "projected_frequency": 0.9999999999999999,
          "timepoint": "2029-04-01T00:00:00",
          "year": 2029
         },
         {
          "clade_membership": "57bbb79",
          "estimated_growth_rate": 0.9999960000160004,
          "frequency": 1.0000039999999994,
          "frequency_final": 0.9999960000000009,
          "frequency_other": 1.0000039999999994,
          "observed_growth_rate": 0.9999920000320013,
          "projected_frequency": 0.9999999999999999,
          "timepoint": "2029-04-01T00:00:00",
          "year": 2029
         },
         {
          "clade_membership": "5a8b5f6",
          "estimated_growth_rate": 0.9999960000160004,
          "frequency": 1.0000039999999994,
          "frequency_final": 0.9999960000000009,
          "frequency_other": 1.0000039999999994,
          "observed_growth_rate": 0.9999920000320013,
          "projected_frequency": 0.9999999999999999,
          "timepoint": "2029-04-01T00:00:00",
          "year": 2029
         },
         {
          "clade_membership": "5caef68",
          "estimated_growth_rate": 8.901118971137117e-05,
          "frequency": 0.172623,
          "frequency_final": 0.183002,
          "frequency_other": 0.172623,
          "observed_growth_rate": 1.0601252440288953,
          "projected_frequency": 1.5365378601546025e-05,
          "timepoint": "2029-04-01T00:00:00",
          "year": 2029
         },
         {
          "clade_membership": "6270695",
          "estimated_growth_rate": 0.9999960000160004,
          "frequency": 1.0000039999999994,
          "frequency_final": 0.9999960000000009,
          "frequency_other": 1.0000039999999994,
          "observed_growth_rate": 0.9999920000320013,
          "projected_frequency": 0.9999999999999999,
          "timepoint": "2029-04-01T00:00:00",
          "year": 2029
         },
         {
          "clade_membership": "63fb9b5",
          "estimated_growth_rate": 0.9999960000160004,
          "frequency": 1.0000039999999994,
          "frequency_final": 0.9999960000000009,
          "frequency_other": 1.0000039999999994,
          "observed_growth_rate": 0.9999920000320013,
          "projected_frequency": 0.9999999999999999,
          "timepoint": "2029-04-01T00:00:00",
          "year": 2029
         },
         {
          "clade_membership": "670a3cd",
          "estimated_growth_rate": 0.9999960000160004,
          "frequency": 1.0000039999999994,
          "frequency_final": 0.9999960000000009,
          "frequency_other": 1.0000039999999994,
          "observed_growth_rate": 0.9999920000320013,
          "projected_frequency": 0.9999999999999999,
          "timepoint": "2029-04-01T00:00:00",
          "year": 2029
         },
         {
          "clade_membership": "6fabbb5",
          "estimated_growth_rate": 0.9999960000160004,
          "frequency": 1.0000039999999994,
          "frequency_final": 0.9999960000000009,
          "frequency_other": 1.0000039999999994,
          "observed_growth_rate": 0.9999920000320013,
          "projected_frequency": 0.9999999999999999,
          "timepoint": "2029-04-01T00:00:00",
          "year": 2029
         },
         {
          "clade_membership": "7556fb5",
          "estimated_growth_rate": 0.00016328310189952217,
          "frequency": 0.163582,
          "frequency_final": 0.083852,
          "frequency_other": 0.163582,
          "observed_growth_rate": 0.5125991857294812,
          "projected_frequency": 2.6710176374927636e-05,
          "timepoint": "2029-04-01T00:00:00",
          "year": 2029
         },
         {
          "clade_membership": "75a9110",
          "estimated_growth_rate": 1.1955368101551913,
          "frequency": 0.8364219999999997,
          "frequency_final": 0.9161440000000005,
          "frequency_other": 0.8364219999999997,
          "observed_growth_rate": 1.095313131409744,
          "projected_frequency": 0.999973289823625,
          "timepoint": "2029-04-01T00:00:00",
          "year": 2029
         },
         {
          "clade_membership": "762e09c",
          "estimated_growth_rate": 1.1955368101551913,
          "frequency": 0.8364219999999997,
          "frequency_final": 0.9161440000000005,
          "frequency_other": 0.8364219999999997,
          "observed_growth_rate": 1.095313131409744,
          "projected_frequency": 0.999973289823625,
          "timepoint": "2029-04-01T00:00:00",
          "year": 2029
         },
         {
          "clade_membership": "7a88259",
          "estimated_growth_rate": 0.9999960000160004,
          "frequency": 1.0000039999999994,
          "frequency_final": 0.9999960000000009,
          "frequency_other": 1.0000039999999994,
          "observed_growth_rate": 0.9999920000320013,
          "projected_frequency": 0.9999999999999999,
          "timepoint": "2029-04-01T00:00:00",
          "year": 2029
         },
         {
          "clade_membership": "7bea6f6",
          "estimated_growth_rate": 0.9999960000160004,
          "frequency": 1.0000039999999994,
          "frequency_final": 0.9999960000000009,
          "frequency_other": 1.0000039999999994,
          "observed_growth_rate": 0.9999920000320013,
          "projected_frequency": 0.9999999999999999,
          "timepoint": "2029-04-01T00:00:00",
          "year": 2029
         },
         {
          "clade_membership": "8126320",
          "estimated_growth_rate": 0.9999960000160004,
          "frequency": 1.0000039999999994,
          "frequency_final": 0.9999960000000009,
          "frequency_other": 1.0000039999999994,
          "observed_growth_rate": 0.9999920000320013,
          "projected_frequency": 0.9999999999999999,
          "timepoint": "2029-04-01T00:00:00",
          "year": 2029
         },
         {
          "clade_membership": "8544c1e",
          "estimated_growth_rate": 0.9999960000160004,
          "frequency": 1.0000039999999994,
          "frequency_final": 0.9999960000000009,
          "frequency_other": 1.0000039999999994,
          "observed_growth_rate": 0.9999920000320013,
          "projected_frequency": 0.9999999999999999,
          "timepoint": "2029-04-01T00:00:00",
          "year": 2029
         },
         {
          "clade_membership": "8727a54",
          "estimated_growth_rate": 0.9999960000160004,
          "frequency": 1.0000039999999994,
          "frequency_final": 0.9999960000000009,
          "frequency_other": 1.0000039999999994,
          "observed_growth_rate": 0.9999920000320013,
          "projected_frequency": 0.9999999999999999,
          "timepoint": "2029-04-01T00:00:00",
          "year": 2029
         },
         {
          "clade_membership": "a6348ef",
          "estimated_growth_rate": 0.00016328310189952217,
          "frequency": 0.163582,
          "frequency_final": 0.083852,
          "frequency_other": 0.163582,
          "observed_growth_rate": 0.5125991857294812,
          "projected_frequency": 2.6710176374927636e-05,
          "timepoint": "2029-04-01T00:00:00",
          "year": 2029
         },
         {
          "clade_membership": "ae8f3de",
          "estimated_growth_rate": 1.1955368101551913,
          "frequency": 0.8364219999999997,
          "frequency_final": 0.9161440000000005,
          "frequency_other": 0.8364219999999997,
          "observed_growth_rate": 1.095313131409744,
          "projected_frequency": 0.999973289823625,
          "timepoint": "2029-04-01T00:00:00",
          "year": 2029
         },
         {
          "clade_membership": "b125362",
          "estimated_growth_rate": 0.9999960000160004,
          "frequency": 1.0000039999999994,
          "frequency_final": 0.9999960000000009,
          "frequency_other": 1.0000039999999994,
          "observed_growth_rate": 0.9999920000320013,
          "projected_frequency": 0.9999999999999999,
          "timepoint": "2029-04-01T00:00:00",
          "year": 2029
         },
         {
          "clade_membership": "b19fe11",
          "estimated_growth_rate": 1.1955368101551913,
          "frequency": 0.8364219999999997,
          "frequency_final": 0.9161440000000005,
          "frequency_other": 0.8364219999999997,
          "observed_growth_rate": 1.095313131409744,
          "projected_frequency": 0.999973289823625,
          "timepoint": "2029-04-01T00:00:00",
          "year": 2029
         },
         {
          "clade_membership": "b414da5",
          "estimated_growth_rate": 0.00016328310189952217,
          "frequency": 0.163582,
          "frequency_final": 0.083852,
          "frequency_other": 0.163582,
          "observed_growth_rate": 0.5125991857294812,
          "projected_frequency": 2.6710176374927636e-05,
          "timepoint": "2029-04-01T00:00:00",
          "year": 2029
         },
         {
          "clade_membership": "b66b3e9",
          "estimated_growth_rate": 0.9999960000160004,
          "frequency": 1.0000039999999994,
          "frequency_final": 0.9999960000000009,
          "frequency_other": 1.0000039999999994,
          "observed_growth_rate": 0.9999920000320013,
          "projected_frequency": 0.9999999999999999,
          "timepoint": "2029-04-01T00:00:00",
          "year": 2029
         },
         {
          "clade_membership": "b771746",
          "estimated_growth_rate": 0.9999960000160004,
          "frequency": 1.0000039999999994,
          "frequency_final": 0.9999960000000009,
          "frequency_other": 1.0000039999999994,
          "observed_growth_rate": 0.9999920000320013,
          "projected_frequency": 0.9999999999999999,
          "timepoint": "2029-04-01T00:00:00",
          "year": 2029
         },
         {
          "clade_membership": "bae78d3",
          "estimated_growth_rate": 0.9999960000160004,
          "frequency": 1.0000039999999994,
          "frequency_final": 0.9999960000000009,
          "frequency_other": 1.0000039999999994,
          "observed_growth_rate": 0.9999920000320013,
          "projected_frequency": 0.9999999999999999,
          "timepoint": "2029-04-01T00:00:00",
          "year": 2029
         },
         {
          "clade_membership": "bd7776e",
          "estimated_growth_rate": 1.1955368101551913,
          "frequency": 0.8364219999999997,
          "frequency_final": 0.9161440000000005,
          "frequency_other": 0.8364219999999997,
          "observed_growth_rate": 1.095313131409744,
          "projected_frequency": 0.999973289823625,
          "timepoint": "2029-04-01T00:00:00",
          "year": 2029
         },
         {
          "clade_membership": "c72df39",
          "estimated_growth_rate": 0.9999960000160004,
          "frequency": 1.0000039999999994,
          "frequency_final": 0.9999960000000009,
          "frequency_other": 1.0000039999999994,
          "observed_growth_rate": 0.9999920000320013,
          "projected_frequency": 0.9999999999999999,
          "timepoint": "2029-04-01T00:00:00",
          "year": 2029
         },
         {
          "clade_membership": "cbef932",
          "estimated_growth_rate": 0.9999960000160004,
          "frequency": 1.0000039999999994,
          "frequency_final": 0.9999960000000009,
          "frequency_other": 1.0000039999999994,
          "observed_growth_rate": 0.9999920000320013,
          "projected_frequency": 0.9999999999999999,
          "timepoint": "2029-04-01T00:00:00",
          "year": 2029
         },
         {
          "clade_membership": "d79daff",
          "estimated_growth_rate": 9.249266911604222e-05,
          "frequency": 0.166025,
          "frequency_final": 0.183002,
          "frequency_other": 0.166025,
          "observed_growth_rate": 1.1022556843848816,
          "projected_frequency": 1.535609538999091e-05,
          "timepoint": "2029-04-01T00:00:00",
          "year": 2029
         },
         {
          "clade_membership": "d991bc2",
          "estimated_growth_rate": 0.00016328310189952217,
          "frequency": 0.163582,
          "frequency_final": 0.083852,
          "frequency_other": 0.163582,
          "observed_growth_rate": 0.5125991857294812,
          "projected_frequency": 2.6710176374927636e-05,
          "timepoint": "2029-04-01T00:00:00",
          "year": 2029
         },
         {
          "clade_membership": "da37a22",
          "estimated_growth_rate": 0.9999960000160004,
          "frequency": 1.0000039999999994,
          "frequency_final": 0.9999960000000009,
          "frequency_other": 1.0000039999999994,
          "observed_growth_rate": 0.9999920000320013,
          "projected_frequency": 0.9999999999999999,
          "timepoint": "2029-04-01T00:00:00",
          "year": 2029
         },
         {
          "clade_membership": "db0c9b1",
          "estimated_growth_rate": 2.5118214635408082e-05,
          "frequency": 0.157598,
          "frequency_final": 0.10035399999999998,
          "frequency_other": 0.157598,
          "observed_growth_rate": 0.6367720402543179,
          "projected_frequency": 3.9585803901110425e-06,
          "timepoint": "2029-04-01T00:00:00",
          "year": 2029
         },
         {
          "clade_membership": "e4a2481",
          "estimated_growth_rate": 1.6414385691292828,
          "frequency": 0.6091960000000002,
          "frequency_final": 0.588611,
          "frequency_other": 0.6091960000000002,
          "observed_growth_rate": 0.9662095614547695,
          "projected_frequency": 0.9999578105592828,
          "timepoint": "2029-04-01T00:00:00",
          "year": 2029
         },
         {
          "clade_membership": "e626b38",
          "estimated_growth_rate": 0.00016328310189952217,
          "frequency": 0.163582,
          "frequency_final": 0.083852,
          "frequency_other": 0.163582,
          "observed_growth_rate": 0.5125991857294812,
          "projected_frequency": 2.6710176374927636e-05,
          "timepoint": "2029-04-01T00:00:00",
          "year": 2029
         },
         {
          "clade_membership": "e72bf28",
          "estimated_growth_rate": 0.9999960000160004,
          "frequency": 1.0000039999999994,
          "frequency_final": 0.9999960000000009,
          "frequency_other": 1.0000039999999994,
          "observed_growth_rate": 0.9999920000320013,
          "projected_frequency": 0.9999999999999999,
          "timepoint": "2029-04-01T00:00:00",
          "year": 2029
         },
         {
          "clade_membership": "eb2f804",
          "estimated_growth_rate": 0.9999960000160004,
          "frequency": 1.0000039999999994,
          "frequency_final": 0.9999960000000009,
          "frequency_other": 1.0000039999999994,
          "observed_growth_rate": 0.9999920000320013,
          "projected_frequency": 0.9999999999999999,
          "timepoint": "2029-04-01T00:00:00",
          "year": 2029
         },
         {
          "clade_membership": "f24be4b",
          "estimated_growth_rate": 0.0010271414673285915,
          "frequency": 0.24135900000000002,
          "frequency_final": 0.10035399999999998,
          "frequency_other": 0.24135900000000002,
          "observed_growth_rate": 0.41578727124325165,
          "projected_frequency": 0.00024790983741296155,
          "timepoint": "2029-04-01T00:00:00",
          "year": 2029
         },
         {
          "clade_membership": "f263904",
          "estimated_growth_rate": 0.9999960000160004,
          "frequency": 1.0000039999999994,
          "frequency_final": 0.9999960000000009,
          "frequency_other": 1.0000039999999994,
          "observed_growth_rate": 0.9999920000320013,
          "projected_frequency": 0.9999999999999999,
          "timepoint": "2029-04-01T00:00:00",
          "year": 2029
         },
         {
          "clade_membership": "f657904",
          "estimated_growth_rate": 1.1955368101551913,
          "frequency": 0.8364219999999997,
          "frequency_final": 0.9161440000000005,
          "frequency_other": 0.8364219999999997,
          "observed_growth_rate": 1.095313131409744,
          "projected_frequency": 0.999973289823625,
          "timepoint": "2029-04-01T00:00:00",
          "year": 2029
         },
         {
          "clade_membership": "f6d3aae",
          "estimated_growth_rate": 1.1955368101551913,
          "frequency": 0.8364219999999997,
          "frequency_final": 0.9161440000000005,
          "frequency_other": 0.8364219999999997,
          "observed_growth_rate": 1.095313131409744,
          "projected_frequency": 0.999973289823625,
          "timepoint": "2029-04-01T00:00:00",
          "year": 2029
         },
         {
          "clade_membership": "f6d9b34",
          "estimated_growth_rate": 0.9999960000160004,
          "frequency": 1.0000039999999994,
          "frequency_final": 0.9999960000000009,
          "frequency_other": 1.0000039999999994,
          "observed_growth_rate": 0.9999920000320013,
          "projected_frequency": 0.9999999999999999,
          "timepoint": "2029-04-01T00:00:00",
          "year": 2029
         },
         {
          "clade_membership": "f9786f2",
          "estimated_growth_rate": 0.0006498891560184285,
          "frequency": 0.44893800000000017,
          "frequency_final": 0.228347,
          "frequency_other": 0.44893800000000017,
          "observed_growth_rate": 0.5086381638444505,
          "projected_frequency": 0.00029175993792460137,
          "timepoint": "2029-04-01T00:00:00",
          "year": 2029
         },
         {
          "clade_membership": "fa27c50",
          "estimated_growth_rate": 0.00021124535965410678,
          "frequency": 0.20757899999999999,
          "frequency_final": 0.12799299999999997,
          "frequency_other": 0.20757899999999999,
          "observed_growth_rate": 0.6165989815925502,
          "projected_frequency": 4.3850100511639825e-05,
          "timepoint": "2029-04-01T00:00:00",
          "year": 2029
         },
         {
          "clade_membership": "root",
          "estimated_growth_rate": 0.9999960000160004,
          "frequency": 1.0000039999999994,
          "frequency_final": 0.9999960000000009,
          "frequency_other": 1.0000039999999994,
          "observed_growth_rate": 0.9999920000320013,
          "projected_frequency": 0.9999999999999999,
          "timepoint": "2029-04-01T00:00:00",
          "year": 2029
         },
         {
          "clade_membership": "00128ca",
          "estimated_growth_rate": 0.0017339585734045507,
          "frequency": 0.16258799999999998,
          "frequency_final": 0.09144,
          "frequency_other": 0.16258799999999998,
          "observed_growth_rate": 0.5624031293822422,
          "projected_frequency": 0.00028192085653269905,
          "timepoint": "2029-10-01T00:00:00",
          "year": 2029
         },
         {
          "clade_membership": "029c69d",
          "estimated_growth_rate": 0.9999930000489994,
          "frequency": 1.0000070000000003,
          "frequency_final": 0.9999940000000009,
          "frequency_other": 1.0000070000000003,
          "observed_growth_rate": 0.999987000091,
          "projected_frequency": 1,
          "timepoint": "2029-10-01T00:00:00",
          "year": 2029
         },
         {
          "clade_membership": "0654693",
          "estimated_growth_rate": 0.9999930000489994,
          "frequency": 1.0000070000000003,
          "frequency_final": 0.9999940000000009,
          "frequency_other": 1.0000070000000003,
          "observed_growth_rate": 0.999987000091,
          "projected_frequency": 1,
          "timepoint": "2029-10-01T00:00:00",
          "year": 2029
         },
         {
          "clade_membership": "0783f23",
          "estimated_growth_rate": 0.9999930000489994,
          "frequency": 1.0000070000000003,
          "frequency_final": 0.9999940000000009,
          "frequency_other": 1.0000070000000003,
          "observed_growth_rate": 0.999987000091,
          "projected_frequency": 1,
          "timepoint": "2029-10-01T00:00:00",
          "year": 2029
         },
         {
          "clade_membership": "07bbfa9",
          "estimated_growth_rate": 0.011877563369683167,
          "frequency": 0.22951399999999994,
          "frequency_final": 0.4450050000000001,
          "frequency_other": 0.22951399999999994,
          "observed_growth_rate": 1.9389013306377834,
          "projected_frequency": 0.0027260670792294615,
          "timepoint": "2029-10-01T00:00:00",
          "year": 2029
         },
         {
          "clade_membership": "08c496d",
          "estimated_growth_rate": 1.2297117986583002,
          "frequency": 0.197096,
          "frequency_final": 0.27135499999999996,
          "frequency_other": 0.197096,
          "observed_growth_rate": 1.3767656370499652,
          "projected_frequency": 0.2423712766683563,
          "timepoint": "2029-10-01T00:00:00",
          "year": 2029
         },
         {
          "clade_membership": "0d82b51",
          "estimated_growth_rate": 0.9999930000489994,
          "frequency": 1.0000070000000003,
          "frequency_final": 0.9999940000000009,
          "frequency_other": 1.0000070000000003,
          "observed_growth_rate": 0.999987000091,
          "projected_frequency": 1,
          "timepoint": "2029-10-01T00:00:00",
          "year": 2029
         },
         {
          "clade_membership": "0d8bb1e",
          "estimated_growth_rate": 0.9999930000489994,
          "frequency": 1.0000070000000003,
          "frequency_final": 0.9999940000000009,
          "frequency_other": 1.0000070000000003,
          "observed_growth_rate": 0.999987000091,
          "projected_frequency": 1,
          "timepoint": "2029-10-01T00:00:00",
          "year": 2029
         },
         {
          "clade_membership": "110c28b",
          "estimated_growth_rate": 0.0017430377717674748,
          "frequency": 0.16152099999999997,
          "frequency_final": 0.09144,
          "frequency_other": 0.16152099999999997,
          "observed_growth_rate": 0.5661183375536308,
          "projected_frequency": 0.00028153720393365425,
          "timepoint": "2029-10-01T00:00:00",
          "year": 2029
         },
         {
          "clade_membership": "161c755",
          "estimated_growth_rate": 3.161927668908844,
          "frequency": 0.184063,
          "frequency_final": 0.143433,
          "frequency_other": 0.184063,
          "observed_growth_rate": 0.7792603619412919,
          "projected_frequency": 0.5819938925223685,
          "timepoint": "2029-10-01T00:00:00",
          "year": 2029
         },
         {
          "clade_membership": "1bce829",
          "estimated_growth_rate": 0.9999930000489994,
          "frequency": 1.0000070000000003,
          "frequency_final": 0.9999940000000009,
          "frequency_other": 1.0000070000000003,
          "observed_growth_rate": 0.999987000091,
          "projected_frequency": 1,
          "timepoint": "2029-10-01T00:00:00",
          "year": 2029
         },
         {
          "clade_membership": "1f6665e",
          "estimated_growth_rate": 0.0017339585734045507,
          "frequency": 0.16258799999999998,
          "frequency_final": 0.09144,
          "frequency_other": 0.16258799999999998,
          "observed_growth_rate": 0.5624031293822422,
          "projected_frequency": 0.00028192085653269905,
          "timepoint": "2029-10-01T00:00:00",
          "year": 2029
         },
         {
          "clade_membership": "2018235",
          "estimated_growth_rate": 0.9999930000489994,
          "frequency": 1.0000070000000003,
          "frequency_final": 0.9999940000000009,
          "frequency_other": 1.0000070000000003,
          "observed_growth_rate": 0.999987000091,
          "projected_frequency": 1,
          "timepoint": "2029-10-01T00:00:00",
          "year": 2029
         },
         {
          "clade_membership": "213ddf4",
          "estimated_growth_rate": 0.0017430377717674748,
          "frequency": 0.16152099999999997,
          "frequency_final": 0.09144,
          "frequency_other": 0.16152099999999997,
          "observed_growth_rate": 0.5661183375536308,
          "projected_frequency": 0.00028153720393365425,
          "timepoint": "2029-10-01T00:00:00",
          "year": 2029
         },
         {
          "clade_membership": "26d9681",
          "estimated_growth_rate": 1.1938086897281615,
          "frequency": 0.837419,
          "frequency_final": 0.9085540000000007,
          "frequency_other": 0.837419,
          "observed_growth_rate": 1.0849455290601249,
          "projected_frequency": 0.9997180791434672,
          "timepoint": "2029-10-01T00:00:00",
          "year": 2029
         },
         {
          "clade_membership": "2850b07",
          "estimated_growth_rate": 1.1938086897281615,
          "frequency": 0.837419,
          "frequency_final": 0.9085540000000007,
          "frequency_other": 0.837419,
          "observed_growth_rate": 1.0849455290601249,
          "projected_frequency": 0.9997180791434672,
          "timepoint": "2029-10-01T00:00:00",
          "year": 2029
         },
         {
          "clade_membership": "289c480",
          "estimated_growth_rate": 0.9999930000489994,
          "frequency": 1.0000070000000003,
          "frequency_final": 0.9999940000000009,
          "frequency_other": 1.0000070000000003,
          "observed_growth_rate": 0.999987000091,
          "projected_frequency": 1,
          "timepoint": "2029-10-01T00:00:00",
          "year": 2029
         },
         {
          "clade_membership": "2edcf74",
          "estimated_growth_rate": 0.9999930000489994,
          "frequency": 1.0000070000000003,
          "frequency_final": 0.9999940000000009,
          "frequency_other": 1.0000070000000003,
          "observed_growth_rate": 0.999987000091,
          "projected_frequency": 1,
          "timepoint": "2029-10-01T00:00:00",
          "year": 2029
         },
         {
          "clade_membership": "30c6c1b",
          "estimated_growth_rate": 0.9999930000489994,
          "frequency": 1.0000070000000003,
          "frequency_final": 0.9999940000000009,
          "frequency_other": 1.0000070000000003,
          "observed_growth_rate": 0.999987000091,
          "projected_frequency": 1,
          "timepoint": "2029-10-01T00:00:00",
          "year": 2029
         },
         {
          "clade_membership": "37311eb",
          "estimated_growth_rate": 1.1938086897281615,
          "frequency": 0.837419,
          "frequency_final": 0.9085540000000007,
          "frequency_other": 0.837419,
          "observed_growth_rate": 1.0849455290601249,
          "projected_frequency": 0.9997180791434672,
          "timepoint": "2029-10-01T00:00:00",
          "year": 2029
         },
         {
          "clade_membership": "39e6409",
          "estimated_growth_rate": 1.2297117986583002,
          "frequency": 0.197096,
          "frequency_final": 0.27135499999999996,
          "frequency_other": 0.197096,
          "observed_growth_rate": 1.3767656370499652,
          "projected_frequency": 0.2423712766683563,
          "timepoint": "2029-10-01T00:00:00",
          "year": 2029
         },
         {
          "clade_membership": "3aad673",
          "estimated_growth_rate": 0.9999930000489994,
          "frequency": 1.0000070000000003,
          "frequency_final": 0.9999940000000009,
          "frequency_other": 1.0000070000000003,
          "observed_growth_rate": 0.999987000091,
          "projected_frequency": 1,
          "timepoint": "2029-10-01T00:00:00",
          "year": 2029
         },
         {
          "clade_membership": "3ae4d43",
          "estimated_growth_rate": 0.0017339585734045507,
          "frequency": 0.16258799999999998,
          "frequency_final": 0.09144,
          "frequency_other": 0.16258799999999998,
          "observed_growth_rate": 0.5624031293822422,
          "projected_frequency": 0.00028192085653269905,
          "timepoint": "2029-10-01T00:00:00",
          "year": 2029
         },
         {
          "clade_membership": "3b07f48",
          "estimated_growth_rate": 1.1938086897281615,
          "frequency": 0.837419,
          "frequency_final": 0.9085540000000007,
          "frequency_other": 0.837419,
          "observed_growth_rate": 1.0849455290601249,
          "projected_frequency": 0.9997180791434672,
          "timepoint": "2029-10-01T00:00:00",
          "year": 2029
         },
         {
          "clade_membership": "3d9a418",
          "estimated_growth_rate": 3.3244369523554664,
          "frequency": 0.175064,
          "frequency_final": 0.065925,
          "frequency_other": 0.175064,
          "observed_growth_rate": 0.3765765662843303,
          "projected_frequency": 0.5819892306271574,
          "timepoint": "2029-10-01T00:00:00",
          "year": 2029
         },
         {
          "clade_membership": "3f3f0ca",
          "estimated_growth_rate": 0.9999930000489994,
          "frequency": 1.0000070000000003,
          "frequency_final": 0.9999940000000009,
          "frequency_other": 1.0000070000000003,
          "observed_growth_rate": 0.999987000091,
          "projected_frequency": 1,
          "timepoint": "2029-10-01T00:00:00",
          "year": 2029
         },
         {
          "clade_membership": "41e2191",
          "estimated_growth_rate": 1.2297117986583002,
          "frequency": 0.197096,
          "frequency_final": 0.27135499999999996,
          "frequency_other": 0.197096,
          "observed_growth_rate": 1.3767656370499652,
          "projected_frequency": 0.2423712766683563,
          "timepoint": "2029-10-01T00:00:00",
          "year": 2029
         },
         {
          "clade_membership": "433fd0b",
          "estimated_growth_rate": 1.1938086897281615,
          "frequency": 0.837419,
          "frequency_final": 0.9085540000000007,
          "frequency_other": 0.837419,
          "observed_growth_rate": 1.0849455290601249,
          "projected_frequency": 0.9997180791434672,
          "timepoint": "2029-10-01T00:00:00",
          "year": 2029
         },
         {
          "clade_membership": "4eae73a",
          "estimated_growth_rate": 0.9999930000489994,
          "frequency": 1.0000070000000003,
          "frequency_final": 0.9999940000000009,
          "frequency_other": 1.0000070000000003,
          "observed_growth_rate": 0.999987000091,
          "projected_frequency": 1,
          "timepoint": "2029-10-01T00:00:00",
          "year": 2029
         },
         {
          "clade_membership": "53320bc",
          "estimated_growth_rate": 0.9999930000489994,
          "frequency": 1.0000070000000003,
          "frequency_final": 0.9999940000000009,
          "frequency_other": 1.0000070000000003,
          "observed_growth_rate": 0.999987000091,
          "projected_frequency": 1,
          "timepoint": "2029-10-01T00:00:00",
          "year": 2029
         },
         {
          "clade_membership": "5370fbf",
          "estimated_growth_rate": 3.1597477753668923,
          "frequency": 0.18419,
          "frequency_final": 0.143433,
          "frequency_other": 0.18419,
          "observed_growth_rate": 0.7787230577121451,
          "projected_frequency": 0.5819939427448279,
          "timepoint": "2029-10-01T00:00:00",
          "year": 2029
         },
         {
          "clade_membership": "53d3851",
          "estimated_growth_rate": 0.9999930000489994,
          "frequency": 1.0000070000000003,
          "frequency_final": 0.9999940000000009,
          "frequency_other": 1.0000070000000003,
          "observed_growth_rate": 0.999987000091,
          "projected_frequency": 1,
          "timepoint": "2029-10-01T00:00:00",
          "year": 2029
         },
         {
          "clade_membership": "5430567",
          "estimated_growth_rate": 0.0017430377717674748,
          "frequency": 0.16152099999999997,
          "frequency_final": 0.09144,
          "frequency_other": 0.16152099999999997,
          "observed_growth_rate": 0.5661183375536308,
          "projected_frequency": 0.00028153720393365425,
          "timepoint": "2029-10-01T00:00:00",
          "year": 2029
         },
         {
          "clade_membership": "54abfe7",
          "estimated_growth_rate": 0.0017430377717674748,
          "frequency": 0.16152099999999997,
          "frequency_final": 0.09144,
          "frequency_other": 0.16152099999999997,
          "observed_growth_rate": 0.5661183375536308,
          "projected_frequency": 0.00028153720393365425,
          "timepoint": "2029-10-01T00:00:00",
          "year": 2029
         },
         {
          "clade_membership": "57bbb79",
          "estimated_growth_rate": 0.9999930000489994,
          "frequency": 1.0000070000000003,
          "frequency_final": 0.9999940000000009,
          "frequency_other": 1.0000070000000003,
          "observed_growth_rate": 0.999987000091,
          "projected_frequency": 1,
          "timepoint": "2029-10-01T00:00:00",
          "year": 2029
         },
         {
          "clade_membership": "5a8b5f6",
          "estimated_growth_rate": 0.9999930000489994,
          "frequency": 1.0000070000000003,
          "frequency_final": 0.9999940000000009,
          "frequency_other": 1.0000070000000003,
          "observed_growth_rate": 0.999987000091,
          "projected_frequency": 1,
          "timepoint": "2029-10-01T00:00:00",
          "year": 2029
         },
         {
          "clade_membership": "6270695",
          "estimated_growth_rate": 0.9999930000489994,
          "frequency": 1.0000070000000003,
          "frequency_final": 0.9999940000000009,
          "frequency_other": 1.0000070000000003,
          "observed_growth_rate": 0.999987000091,
          "projected_frequency": 1,
          "timepoint": "2029-10-01T00:00:00",
          "year": 2029
         },
         {
          "clade_membership": "63fb9b5",
          "estimated_growth_rate": 0.9999930000489994,
          "frequency": 1.0000070000000003,
          "frequency_final": 0.9999940000000009,
          "frequency_other": 1.0000070000000003,
          "observed_growth_rate": 0.999987000091,
          "projected_frequency": 1,
          "timepoint": "2029-10-01T00:00:00",
          "year": 2029
         },
         {
          "clade_membership": "670a3cd",
          "estimated_growth_rate": 0.9999930000489994,
          "frequency": 1.0000070000000003,
          "frequency_final": 0.9999940000000009,
          "frequency_other": 1.0000070000000003,
          "observed_growth_rate": 0.999987000091,
          "projected_frequency": 1,
          "timepoint": "2029-10-01T00:00:00",
          "year": 2029
         },
         {
          "clade_membership": "6b065b6",
          "estimated_growth_rate": 0.0017430377717674748,
          "frequency": 0.16152099999999997,
          "frequency_final": 0.09144,
          "frequency_other": 0.16152099999999997,
          "observed_growth_rate": 0.5661183375536308,
          "projected_frequency": 0.00028153720393365425,
          "timepoint": "2029-10-01T00:00:00",
          "year": 2029
         },
         {
          "clade_membership": "6fabbb5",
          "estimated_growth_rate": 0.9999930000489994,
          "frequency": 1.0000070000000003,
          "frequency_final": 0.9999940000000009,
          "frequency_other": 1.0000070000000003,
          "observed_growth_rate": 0.999987000091,
          "projected_frequency": 1,
          "timepoint": "2029-10-01T00:00:00",
          "year": 2029
         },
         {
          "clade_membership": "7556fb5",
          "estimated_growth_rate": 0.0017339585734045507,
          "frequency": 0.16258799999999998,
          "frequency_final": 0.09144,
          "frequency_other": 0.16258799999999998,
          "observed_growth_rate": 0.5624031293822422,
          "projected_frequency": 0.00028192085653269905,
          "timepoint": "2029-10-01T00:00:00",
          "year": 2029
         },
         {
          "clade_membership": "75a9110",
          "estimated_growth_rate": 1.1938086897281615,
          "frequency": 0.837419,
          "frequency_final": 0.9085540000000007,
          "frequency_other": 0.837419,
          "observed_growth_rate": 1.0849455290601249,
          "projected_frequency": 0.9997180791434672,
          "timepoint": "2029-10-01T00:00:00",
          "year": 2029
         },
         {
          "clade_membership": "762e09c",
          "estimated_growth_rate": 1.1938086897281615,
          "frequency": 0.837419,
          "frequency_final": 0.9085540000000007,
          "frequency_other": 0.837419,
          "observed_growth_rate": 1.0849455290601249,
          "projected_frequency": 0.9997180791434672,
          "timepoint": "2029-10-01T00:00:00",
          "year": 2029
         },
         {
          "clade_membership": "76fb9bf",
          "estimated_growth_rate": 1.2297117986583002,
          "frequency": 0.197096,
          "frequency_final": 0.27135499999999996,
          "frequency_other": 0.197096,
          "observed_growth_rate": 1.3767656370499652,
          "projected_frequency": 0.2423712766683563,
          "timepoint": "2029-10-01T00:00:00",
          "year": 2029
         },
         {
          "clade_membership": "7a88259",
          "estimated_growth_rate": 0.9999930000489994,
          "frequency": 1.0000070000000003,
          "frequency_final": 0.9999940000000009,
          "frequency_other": 1.0000070000000003,
          "observed_growth_rate": 0.999987000091,
          "projected_frequency": 1,
          "timepoint": "2029-10-01T00:00:00",
          "year": 2029
         },
         {
          "clade_membership": "7bea6f6",
          "estimated_growth_rate": 0.9999930000489994,
          "frequency": 1.0000070000000003,
          "frequency_final": 0.9999940000000009,
          "frequency_other": 1.0000070000000003,
          "observed_growth_rate": 0.999987000091,
          "projected_frequency": 1,
          "timepoint": "2029-10-01T00:00:00",
          "year": 2029
         },
         {
          "clade_membership": "8126320",
          "estimated_growth_rate": 0.9999930000489994,
          "frequency": 1.0000070000000003,
          "frequency_final": 0.9999940000000009,
          "frequency_other": 1.0000070000000003,
          "observed_growth_rate": 0.999987000091,
          "projected_frequency": 1,
          "timepoint": "2029-10-01T00:00:00",
          "year": 2029
         },
         {
          "clade_membership": "8544c1e",
          "estimated_growth_rate": 0.9999930000489994,
          "frequency": 1.0000070000000003,
          "frequency_final": 0.9999940000000009,
          "frequency_other": 1.0000070000000003,
          "observed_growth_rate": 0.999987000091,
          "projected_frequency": 1,
          "timepoint": "2029-10-01T00:00:00",
          "year": 2029
         },
         {
          "clade_membership": "8727a54",
          "estimated_growth_rate": 0.9999930000489994,
          "frequency": 1.0000070000000003,
          "frequency_final": 0.9999940000000009,
          "frequency_other": 1.0000070000000003,
          "observed_growth_rate": 0.999987000091,
          "projected_frequency": 1,
          "timepoint": "2029-10-01T00:00:00",
          "year": 2029
         },
         {
          "clade_membership": "a6348ef",
          "estimated_growth_rate": 0.0017339585734045507,
          "frequency": 0.16258799999999998,
          "frequency_final": 0.09144,
          "frequency_other": 0.16258799999999998,
          "observed_growth_rate": 0.5624031293822422,
          "projected_frequency": 0.00028192085653269905,
          "timepoint": "2029-10-01T00:00:00",
          "year": 2029
         },
         {
          "clade_membership": "aab2d9f",
          "estimated_growth_rate": 0.0017430377717674748,
          "frequency": 0.16152099999999997,
          "frequency_final": 0.09144,
          "frequency_other": 0.16152099999999997,
          "observed_growth_rate": 0.5661183375536308,
          "projected_frequency": 0.00028153720393365425,
          "timepoint": "2029-10-01T00:00:00",
          "year": 2029
         },
         {
          "clade_membership": "ae8f3de",
          "estimated_growth_rate": 1.1938086897281615,
          "frequency": 0.837419,
          "frequency_final": 0.9085540000000007,
          "frequency_other": 0.837419,
          "observed_growth_rate": 1.0849455290601249,
          "projected_frequency": 0.9997180791434672,
          "timepoint": "2029-10-01T00:00:00",
          "year": 2029
         },
         {
          "clade_membership": "aec773c",
          "estimated_growth_rate": 1.120133516670181,
          "frequency": 0.15405799999999994,
          "frequency_final": 0.048761000000000006,
          "frequency_other": 0.15405799999999994,
          "observed_growth_rate": 0.31651066481455054,
          "projected_frequency": 0.17256552931117466,
          "timepoint": "2029-10-01T00:00:00",
          "year": 2029
         },
         {
          "clade_membership": "b125362",
          "estimated_growth_rate": 0.9999930000489994,
          "frequency": 1.0000070000000003,
          "frequency_final": 0.9999940000000009,
          "frequency_other": 1.0000070000000003,
          "observed_growth_rate": 0.999987000091,
          "projected_frequency": 1,
          "timepoint": "2029-10-01T00:00:00",
          "year": 2029
         },
         {
          "clade_membership": "b19fe11",
          "estimated_growth_rate": 1.1938086897281615,
          "frequency": 0.837419,
          "frequency_final": 0.9085540000000007,
          "frequency_other": 0.837419,
          "observed_growth_rate": 1.0849455290601249,
          "projected_frequency": 0.9997180791434672,
          "timepoint": "2029-10-01T00:00:00",
          "year": 2029
         },
         {
          "clade_membership": "b414da5",
          "estimated_growth_rate": 0.0017339585734045507,
          "frequency": 0.16258799999999998,
          "frequency_final": 0.09144,
          "frequency_other": 0.16258799999999998,
          "observed_growth_rate": 0.5624031293822422,
          "projected_frequency": 0.00028192085653269905,
          "timepoint": "2029-10-01T00:00:00",
          "year": 2029
         },
         {
          "clade_membership": "b66b3e9",
          "estimated_growth_rate": 0.9999930000489994,
          "frequency": 1.0000070000000003,
          "frequency_final": 0.9999940000000009,
          "frequency_other": 1.0000070000000003,
          "observed_growth_rate": 0.999987000091,
          "projected_frequency": 1,
          "timepoint": "2029-10-01T00:00:00",
          "year": 2029
         },
         {
          "clade_membership": "b771746",
          "estimated_growth_rate": 0.9999930000489994,
          "frequency": 1.0000070000000003,
          "frequency_final": 0.9999940000000009,
          "frequency_other": 1.0000070000000003,
          "observed_growth_rate": 0.999987000091,
          "projected_frequency": 1,
          "timepoint": "2029-10-01T00:00:00",
          "year": 2029
         },
         {
          "clade_membership": "bae78d3",
          "estimated_growth_rate": 0.9999930000489994,
          "frequency": 1.0000070000000003,
          "frequency_final": 0.9999940000000009,
          "frequency_other": 1.0000070000000003,
          "observed_growth_rate": 0.999987000091,
          "projected_frequency": 1,
          "timepoint": "2029-10-01T00:00:00",
          "year": 2029
         },
         {
          "clade_membership": "bd7776e",
          "estimated_growth_rate": 1.1938086897281615,
          "frequency": 0.837419,
          "frequency_final": 0.9085540000000007,
          "frequency_other": 0.837419,
          "observed_growth_rate": 1.0849455290601249,
          "projected_frequency": 0.9997180791434672,
          "timepoint": "2029-10-01T00:00:00",
          "year": 2029
         },
         {
          "clade_membership": "c72df39",
          "estimated_growth_rate": 0.9999930000489994,
          "frequency": 1.0000070000000003,
          "frequency_final": 0.9999940000000009,
          "frequency_other": 1.0000070000000003,
          "observed_growth_rate": 0.999987000091,
          "projected_frequency": 1,
          "timepoint": "2029-10-01T00:00:00",
          "year": 2029
         },
         {
          "clade_membership": "cbef932",
          "estimated_growth_rate": 0.9999930000489994,
          "frequency": 1.0000070000000003,
          "frequency_final": 0.9999940000000009,
          "frequency_other": 1.0000070000000003,
          "observed_growth_rate": 0.999987000091,
          "projected_frequency": 1,
          "timepoint": "2029-10-01T00:00:00",
          "year": 2029
         },
         {
          "clade_membership": "d991bc2",
          "estimated_growth_rate": 0.0017339585734045507,
          "frequency": 0.16258799999999998,
          "frequency_final": 0.09144,
          "frequency_other": 0.16258799999999998,
          "observed_growth_rate": 0.5624031293822422,
          "projected_frequency": 0.00028192085653269905,
          "timepoint": "2029-10-01T00:00:00",
          "year": 2029
         },
         {
          "clade_membership": "da37a22",
          "estimated_growth_rate": 0.9999930000489994,
          "frequency": 1.0000070000000003,
          "frequency_final": 0.9999940000000009,
          "frequency_other": 1.0000070000000003,
          "observed_growth_rate": 0.999987000091,
          "projected_frequency": 1,
          "timepoint": "2029-10-01T00:00:00",
          "year": 2029
         },
         {
          "clade_membership": "db0c9b1",
          "estimated_growth_rate": 0.9301875114647038,
          "frequency": 0.18555099999999997,
          "frequency_final": 0.048761000000000006,
          "frequency_other": 0.18555099999999997,
          "observed_growth_rate": 0.2627902840728426,
          "projected_frequency": 0.17259722293978721,
          "timepoint": "2029-10-01T00:00:00",
          "year": 2029
         },
         {
          "clade_membership": "e4a2481",
          "estimated_growth_rate": 1.6400457506752497,
          "frequency": 0.607905,
          "frequency_final": 0.4635489999999999,
          "frequency_other": 0.607905,
          "observed_growth_rate": 0.7625352645561393,
          "projected_frequency": 0.9969920120642377,
          "timepoint": "2029-10-01T00:00:00",
          "year": 2029
         },
         {
          "clade_membership": "e626b38",
          "estimated_growth_rate": 0.0017339585734045507,
          "frequency": 0.16258799999999998,
          "frequency_final": 0.09144,
          "frequency_other": 0.16258799999999998,
          "observed_growth_rate": 0.5624031293822422,
          "projected_frequency": 0.00028192085653269905,
          "timepoint": "2029-10-01T00:00:00",
          "year": 2029
         },
         {
          "clade_membership": "e72bf28",
          "estimated_growth_rate": 0.9999930000489994,
          "frequency": 1.0000070000000003,
          "frequency_final": 0.9999940000000009,
          "frequency_other": 1.0000070000000003,
          "observed_growth_rate": 0.999987000091,
          "projected_frequency": 1,
          "timepoint": "2029-10-01T00:00:00",
          "year": 2029
         },
         {
          "clade_membership": "eb2f804",
          "estimated_growth_rate": 0.9999930000489994,
          "frequency": 1.0000070000000003,
          "frequency_final": 0.9999940000000009,
          "frequency_other": 1.0000070000000003,
          "observed_growth_rate": 0.999987000091,
          "projected_frequency": 1,
          "timepoint": "2029-10-01T00:00:00",
          "year": 2029
         },
         {
          "clade_membership": "f24be4b",
          "estimated_growth_rate": 0.8198938632464446,
          "frequency": 0.21052599999999996,
          "frequency_final": 0.048761000000000006,
          "frequency_other": 0.21052599999999996,
          "observed_growth_rate": 0.2316150974226462,
          "projected_frequency": 0.17260897545382098,
          "timepoint": "2029-10-01T00:00:00",
          "year": 2029
         },
         {
          "clade_membership": "f263904",
          "estimated_growth_rate": 0.9999930000489994,
          "frequency": 1.0000070000000003,
          "frequency_final": 0.9999940000000009,
          "frequency_other": 1.0000070000000003,
          "observed_growth_rate": 0.999987000091,
          "projected_frequency": 1,
          "timepoint": "2029-10-01T00:00:00",
          "year": 2029
         },
         {
          "clade_membership": "f657904",
          "estimated_growth_rate": 1.1938086897281615,
          "frequency": 0.837419,
          "frequency_final": 0.9085540000000007,
          "frequency_other": 0.837419,
          "observed_growth_rate": 1.0849455290601249,
          "projected_frequency": 0.9997180791434672,
          "timepoint": "2029-10-01T00:00:00",
          "year": 2029
         },
         {
          "clade_membership": "f6d3aae",
          "estimated_growth_rate": 1.1938086897281615,
          "frequency": 0.837419,
          "frequency_final": 0.9085540000000007,
          "frequency_other": 0.837419,
          "observed_growth_rate": 1.0849455290601249,
          "projected_frequency": 0.9997180791434672,
          "timepoint": "2029-10-01T00:00:00",
          "year": 2029
         },
         {
          "clade_membership": "f6d9b34",
          "estimated_growth_rate": 0.9999930000489994,
          "frequency": 1.0000070000000003,
          "frequency_final": 0.9999940000000009,
          "frequency_other": 1.0000070000000003,
          "observed_growth_rate": 0.999987000091,
          "projected_frequency": 1,
          "timepoint": "2029-10-01T00:00:00",
          "year": 2029
         },
         {
          "clade_membership": "f9786f2",
          "estimated_growth_rate": 1.9117616671192683,
          "frequency": 0.3947159999999999,
          "frequency_final": 0.19219399999999998,
          "frequency_other": 0.3947159999999999,
          "observed_growth_rate": 0.48691717589355393,
          "projected_frequency": 0.7546029181986489,
          "timepoint": "2029-10-01T00:00:00",
          "year": 2029
         },
         {
          "clade_membership": "fa27c50",
          "estimated_growth_rate": 3.1597477753668923,
          "frequency": 0.18419,
          "frequency_final": 0.143433,
          "frequency_other": 0.18419,
          "observed_growth_rate": 0.7787230577121451,
          "projected_frequency": 0.5819939427448279,
          "timepoint": "2029-10-01T00:00:00",
          "year": 2029
         },
         {
          "clade_membership": "faf10fb",
          "estimated_growth_rate": 0.0017430377717674748,
          "frequency": 0.16152099999999997,
          "frequency_final": 0.09144,
          "frequency_other": 0.16152099999999997,
          "observed_growth_rate": 0.5661183375536308,
          "projected_frequency": 0.00028153720393365425,
          "timepoint": "2029-10-01T00:00:00",
          "year": 2029
         },
         {
          "clade_membership": "ffd4afe",
          "estimated_growth_rate": 0.0017636300176732756,
          "frequency": 0.15905799999999998,
          "frequency_final": 0.09144,
          "frequency_other": 0.15905799999999998,
          "observed_growth_rate": 0.5748846332784268,
          "projected_frequency": 0.00028051946335107584,
          "timepoint": "2029-10-01T00:00:00",
          "year": 2029
         },
         {
          "clade_membership": "root",
          "estimated_growth_rate": 0.9999930000489994,
          "frequency": 1.0000070000000003,
          "frequency_final": 0.9999940000000009,
          "frequency_other": 1.0000070000000003,
          "observed_growth_rate": 0.999987000091,
          "projected_frequency": 1,
          "timepoint": "2029-10-01T00:00:00",
          "year": 2029
         }
        ]
       },
       "encoding": {
        "tooltip": [
         {
          "field": "observed_growth_rate",
          "type": "quantitative"
         },
         {
          "field": "estimated_growth_rate",
          "type": "quantitative"
         },
         {
          "field": "timepoint",
          "type": "nominal"
         },
         {
          "field": "frequency",
          "type": "quantitative"
         },
         {
          "field": "frequency_final",
          "type": "quantitative"
         },
         {
          "field": "projected_frequency",
          "type": "quantitative"
         }
        ],
        "x": {
         "field": "observed_growth_rate",
         "scale": {
          "domain": [
           0,
           6.460332411229089
          ]
         },
         "type": "quantitative"
        },
        "y": {
         "field": "estimated_growth_rate",
         "scale": {
          "domain": [
           0,
           6.460332411229089
          ]
         },
         "type": "quantitative"
        }
       },
       "height": 400,
       "mark": "circle",
       "title": "Forecasts by LBI: N = 1112, Pearson's R = 0.49, MCC = 0.58",
       "width": 400
      },
      "image/png": "[encoded data removed]",
      "text/plain": [
       "<VegaLite 3 object>\n",
       "\n",
       "If you see this message, it means the renderer has not been properly enabled\n",
       "for the frontend that you are using. For more information, see\n",
       "https://altair-viz.github.io/user_guide/troubleshooting.html\n"
      ]
     },
     "execution_count": 108,
     "metadata": {},
     "output_type": "execute_result"
    }
   ],
   "source": [
    "tooltip_attributes = [\"observed_growth_rate:Q\", \"estimated_growth_rate:Q\", \"timepoint:N\", \"frequency:Q\", \"frequency_final:Q\",\n",
    "                      \"projected_frequency:Q\"]\n",
    "\n",
    "chart = alt.Chart(complete_clade_frequencies).mark_circle().encode(\n",
    "    alt.X(\"observed_growth_rate:Q\", scale=alt.Scale(domain=(min_growth_rate, max_growth_rate))),\n",
    "    alt.Y(\"estimated_growth_rate:Q\", scale=alt.Scale(domain=(min_growth_rate, max_growth_rate))),\n",
    "    alt.Tooltip(tooltip_attributes)\n",
    ").properties(\n",
    "    width=400,\n",
    "    height=400,\n",
    "    title=\"Forecasts by LBI: N = %i, Pearson's R = %.2f, MCC = %.2f\" % (complete_clade_frequencies.shape[0], r, mcc)\n",
    ")\n",
    "\n",
    "chart.save(\"forecast_growth_correlation_simulated_lbi.svg\")\n",
    "chart"
   ]
  },
  {
   "cell_type": "code",
   "execution_count": 107,
   "metadata": {},
   "outputs": [
    {
     "data": {
      "text/plain": [
       "(1112, 9)"
      ]
     },
     "execution_count": 107,
     "metadata": {},
     "output_type": "execute_result"
    }
   ],
   "source": [
    "complete_clade_frequencies.shape"
   ]
  },
  {
   "cell_type": "code",
   "execution_count": null,
   "metadata": {},
   "outputs": [],
   "source": []
  }
 ],
 "metadata": {
  "kernelspec": {
   "display_name": "Python 3",
   "language": "python",
   "name": "python3"
  },
  "language_info": {
   "codemirror_mode": {
    "name": "ipython",
    "version": 3
   },
   "file_extension": ".py",
   "mimetype": "text/x-python",
   "name": "python",
   "nbconvert_exporter": "python",
   "pygments_lexer": "ipython3",
   "version": "3.6.7"
  }
 },
 "nbformat": 4,
 "nbformat_minor": 4
}
