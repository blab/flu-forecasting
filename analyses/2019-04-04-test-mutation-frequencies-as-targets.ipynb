{
 "cells": [
  {
   "cell_type": "markdown",
   "metadata": {},
   "source": [
    "# Test mutation frequencies as targets\n",
    "\n",
    "Test out mutation frequencies as an alternate target for the fitness model. First, load mutation frequencies calculated from a multiple sequence alignment (MSA) and the MSA itself. Prepare a table of mutations and their frequencies by strain.\n",
    "\n",
    "Afterwards, load a table of strain (tip) attributes and use the tip timepoints, names, and frequencies to reweight the original mutation frequencies."
   ]
  },
  {
   "cell_type": "code",
   "execution_count": 85,
   "metadata": {},
   "outputs": [],
   "source": [
    "import Bio.AlignIO\n",
    "from collections import defaultdict\n",
    "import json\n",
    "import pandas as pd"
   ]
  },
  {
   "cell_type": "code",
   "execution_count": 9,
   "metadata": {},
   "outputs": [],
   "source": [
    "timepoint = \"2009-10-01\""
   ]
  },
  {
   "cell_type": "code",
   "execution_count": 73,
   "metadata": {},
   "outputs": [],
   "source": [
    "genes = [\"SigPep\", \"HA1\", \"HA2\"]"
   ]
  },
  {
   "cell_type": "code",
   "execution_count": 10,
   "metadata": {},
   "outputs": [],
   "source": [
    "data_root = \"../results/builds/h3n2/20_viruses_per_month/sample_0/2000-10-01--2015-10-01/timepoints/%s/segments/ha/\" % timepoint"
   ]
  },
  {
   "cell_type": "code",
   "execution_count": 17,
   "metadata": {},
   "outputs": [],
   "source": [
    "with open(data_root + \"mutation_frequencies.json\", \"r\") as fh:\n",
    "    mutation_frequencies = json.load(fh)"
   ]
  },
  {
   "cell_type": "code",
   "execution_count": 18,
   "metadata": {},
   "outputs": [
    {
     "data": {
      "text/plain": [
       "[0.824686,\n",
       " 0.74245,\n",
       " 0.400488,\n",
       " 0.212494,\n",
       " 0.451428,\n",
       " 0.749903,\n",
       " 0.997728,\n",
       " 0.998199,\n",
       " 0.990296,\n",
       " 0.957388,\n",
       " 0.954165,\n",
       " 0.983087,\n",
       " 0.984669,\n",
       " 0.955469,\n",
       " 0.990321,\n",
       " 0.982236,\n",
       " 0.9999,\n",
       " 0.999892,\n",
       " 0.99968]"
      ]
     },
     "execution_count": 18,
     "metadata": {},
     "output_type": "execute_result"
    }
   ],
   "source": [
    "mutation_frequencies[\"HA1:106A\"]"
   ]
  },
  {
   "cell_type": "code",
   "execution_count": 19,
   "metadata": {},
   "outputs": [
    {
     "data": {
      "text/plain": [
       "[0.175314,\n",
       " 0.25755,\n",
       " 0.599512,\n",
       " 0.787506,\n",
       " 0.543099,\n",
       " 0.247582,\n",
       " 0.00224,\n",
       " 0.001764,\n",
       " 0.009434,\n",
       " 0.041013,\n",
       " 0.043119,\n",
       " 0.015264,\n",
       " 0.012998,\n",
       " 0.035105,\n",
       " 0.006788,\n",
       " 0.011065,\n",
       " 6.2e-05,\n",
       " 6.7e-05,\n",
       " 0.000199]"
      ]
     },
     "execution_count": 19,
     "metadata": {},
     "output_type": "execute_result"
    }
   ],
   "source": [
    "mutation_frequencies[\"HA1:106V\"]"
   ]
  },
  {
   "cell_type": "code",
   "execution_count": 31,
   "metadata": {},
   "outputs": [],
   "source": [
    "mut_df = pd.DataFrame([\n",
    "    {\"site\": mutation[:-1], \"residue\": mutation[-1], \"frequency\": frequencies[-1], \"timepoint\": timepoint}\n",
    "    for mutation, frequencies in mutation_frequencies.items()\n",
    "    if mutation != \"pivots\" and not mutation.endswith(\"counts\")\n",
    "])"
   ]
  },
  {
   "cell_type": "code",
   "execution_count": 32,
   "metadata": {},
   "outputs": [
    {
     "data": {
      "text/html": [
       "<div>\n",
       "<style scoped>\n",
       "    .dataframe tbody tr th:only-of-type {\n",
       "        vertical-align: middle;\n",
       "    }\n",
       "\n",
       "    .dataframe tbody tr th {\n",
       "        vertical-align: top;\n",
       "    }\n",
       "\n",
       "    .dataframe thead th {\n",
       "        text-align: right;\n",
       "    }\n",
       "</style>\n",
       "<table border=\"1\" class=\"dataframe\">\n",
       "  <thead>\n",
       "    <tr style=\"text-align: right;\">\n",
       "      <th></th>\n",
       "      <th>frequency</th>\n",
       "      <th>residue</th>\n",
       "      <th>site</th>\n",
       "      <th>timepoint</th>\n",
       "    </tr>\n",
       "  </thead>\n",
       "  <tbody>\n",
       "    <tr>\n",
       "      <th>0</th>\n",
       "      <td>1.000000</td>\n",
       "      <td>P</td>\n",
       "      <td>HA1:103</td>\n",
       "      <td>2009-10-01</td>\n",
       "    </tr>\n",
       "    <tr>\n",
       "      <th>1</th>\n",
       "      <td>0.000000</td>\n",
       "      <td>Q</td>\n",
       "      <td>HA1:103</td>\n",
       "      <td>2009-10-01</td>\n",
       "    </tr>\n",
       "    <tr>\n",
       "      <th>2</th>\n",
       "      <td>0.000000</td>\n",
       "      <td>S</td>\n",
       "      <td>HA1:103</td>\n",
       "      <td>2009-10-01</td>\n",
       "    </tr>\n",
       "    <tr>\n",
       "      <th>3</th>\n",
       "      <td>0.999879</td>\n",
       "      <td>D</td>\n",
       "      <td>HA1:104</td>\n",
       "      <td>2009-10-01</td>\n",
       "    </tr>\n",
       "    <tr>\n",
       "      <th>4</th>\n",
       "      <td>0.000121</td>\n",
       "      <td>E</td>\n",
       "      <td>HA1:104</td>\n",
       "      <td>2009-10-01</td>\n",
       "    </tr>\n",
       "    <tr>\n",
       "      <th>5</th>\n",
       "      <td>0.002354</td>\n",
       "      <td>H</td>\n",
       "      <td>HA1:105</td>\n",
       "      <td>2009-10-01</td>\n",
       "    </tr>\n",
       "    <tr>\n",
       "      <th>6</th>\n",
       "      <td>0.997646</td>\n",
       "      <td>Y</td>\n",
       "      <td>HA1:105</td>\n",
       "      <td>2009-10-01</td>\n",
       "    </tr>\n",
       "    <tr>\n",
       "      <th>7</th>\n",
       "      <td>0.999680</td>\n",
       "      <td>A</td>\n",
       "      <td>HA1:106</td>\n",
       "      <td>2009-10-01</td>\n",
       "    </tr>\n",
       "    <tr>\n",
       "      <th>8</th>\n",
       "      <td>0.000033</td>\n",
       "      <td>S</td>\n",
       "      <td>HA1:106</td>\n",
       "      <td>2009-10-01</td>\n",
       "    </tr>\n",
       "    <tr>\n",
       "      <th>9</th>\n",
       "      <td>0.000088</td>\n",
       "      <td>T</td>\n",
       "      <td>HA1:106</td>\n",
       "      <td>2009-10-01</td>\n",
       "    </tr>\n",
       "  </tbody>\n",
       "</table>\n",
       "</div>"
      ],
      "text/plain": [
       "   frequency residue     site   timepoint\n",
       "0   1.000000       P  HA1:103  2009-10-01\n",
       "1   0.000000       Q  HA1:103  2009-10-01\n",
       "2   0.000000       S  HA1:103  2009-10-01\n",
       "3   0.999879       D  HA1:104  2009-10-01\n",
       "4   0.000121       E  HA1:104  2009-10-01\n",
       "5   0.002354       H  HA1:105  2009-10-01\n",
       "6   0.997646       Y  HA1:105  2009-10-01\n",
       "7   0.999680       A  HA1:106  2009-10-01\n",
       "8   0.000033       S  HA1:106  2009-10-01\n",
       "9   0.000088       T  HA1:106  2009-10-01"
      ]
     },
     "execution_count": 32,
     "metadata": {},
     "output_type": "execute_result"
    }
   ],
   "source": [
    "mut_df.head(10)"
   ]
  },
  {
   "cell_type": "code",
   "execution_count": 33,
   "metadata": {},
   "outputs": [
    {
     "data": {
      "text/plain": [
       "0"
      ]
     },
     "execution_count": 33,
     "metadata": {},
     "output_type": "execute_result"
    }
   ],
   "source": [
    "(mut_df[\"residue\"] == \"r\").sum()"
   ]
  },
  {
   "cell_type": "code",
   "execution_count": 34,
   "metadata": {},
   "outputs": [
    {
     "data": {
      "text/plain": [
       "I    82\n",
       "S    76\n",
       "K    69\n",
       "N    67\n",
       "V    67\n",
       "R    59\n",
       "T    57\n",
       "L    50\n",
       "D    43\n",
       "A    39\n",
       "G    39\n",
       "E    34\n",
       "F    29\n",
       "Q    27\n",
       "M    25\n",
       "H    23\n",
       "Y    23\n",
       "P    22\n",
       "C    10\n",
       "W     5\n",
       "*     1\n",
       "Name: residue, dtype: int64"
      ]
     },
     "execution_count": 34,
     "metadata": {},
     "output_type": "execute_result"
    }
   ],
   "source": [
    "mut_df[\"residue\"].value_counts()"
   ]
  },
  {
   "cell_type": "code",
   "execution_count": 36,
   "metadata": {},
   "outputs": [
    {
     "data": {
      "text/plain": [
       "HA1:140      6\n",
       "HA2:32       6\n",
       "HA1:188      6\n",
       "HA1:278      6\n",
       "HA1:144      6\n",
       "HA1:92       6\n",
       "HA1:173      5\n",
       "HA1:229      5\n",
       "SigPep:12    5\n",
       "HA1:121      5\n",
       "SigPep:9     5\n",
       "HA1:3        5\n",
       "HA1:304      5\n",
       "SigPep:10    5\n",
       "HA1:10       5\n",
       "HA1:312      5\n",
       "HA1:25       5\n",
       "HA1:5        5\n",
       "HA1:50       5\n",
       "HA2:147      5\n",
       "HA1:198      4\n",
       "HA1:192      4\n",
       "HA1:7        4\n",
       "HA2:161      4\n",
       "HA1:165      4\n",
       "SigPep:2     4\n",
       "HA2:97       4\n",
       "HA1:145      4\n",
       "SigPep:15    4\n",
       "HA1:264      4\n",
       "            ..\n",
       "HA1:175      2\n",
       "HA2:87       2\n",
       "HA2:203      2\n",
       "HA1:20       2\n",
       "HA1:174      2\n",
       "HA1:227      2\n",
       "HA1:285      2\n",
       "HA1:2        2\n",
       "HA2:139      2\n",
       "HA1:63       2\n",
       "HA2:80       2\n",
       "HA2:65       2\n",
       "HA2:182      2\n",
       "HA2:24       2\n",
       "HA2:138      2\n",
       "HA1:205      2\n",
       "HA1:265      2\n",
       "HA1:160      2\n",
       "HA1:65       2\n",
       "HA1:196      2\n",
       "HA2:145      2\n",
       "HA1:59       2\n",
       "HA1:163      2\n",
       "HA1:239      2\n",
       "HA1:203      2\n",
       "HA1:226      2\n",
       "HA2:211      2\n",
       "HA2:149      2\n",
       "HA2:176      2\n",
       "HA1:220      2\n",
       "Name: site, Length: 303, dtype: int64"
      ]
     },
     "execution_count": 36,
     "metadata": {},
     "output_type": "execute_result"
    }
   ],
   "source": [
    "mut_df[\"site\"].value_counts()"
   ]
  },
  {
   "cell_type": "code",
   "execution_count": 59,
   "metadata": {},
   "outputs": [],
   "source": [
    "max_frequency_by_site = mut_df.groupby(\"site\")[\"frequency\"].max().reset_index()"
   ]
  },
  {
   "cell_type": "code",
   "execution_count": 67,
   "metadata": {},
   "outputs": [
    {
     "data": {
      "text/html": [
       "<div>\n",
       "<style scoped>\n",
       "    .dataframe tbody tr th:only-of-type {\n",
       "        vertical-align: middle;\n",
       "    }\n",
       "\n",
       "    .dataframe tbody tr th {\n",
       "        vertical-align: top;\n",
       "    }\n",
       "\n",
       "    .dataframe thead th {\n",
       "        text-align: right;\n",
       "    }\n",
       "</style>\n",
       "<table border=\"1\" class=\"dataframe\">\n",
       "  <thead>\n",
       "    <tr style=\"text-align: right;\">\n",
       "      <th></th>\n",
       "      <th>site</th>\n",
       "      <th>frequency</th>\n",
       "    </tr>\n",
       "  </thead>\n",
       "  <tbody>\n",
       "    <tr>\n",
       "      <th>230</th>\n",
       "      <td>HA2:181</td>\n",
       "      <td>0.984476</td>\n",
       "    </tr>\n",
       "  </tbody>\n",
       "</table>\n",
       "</div>"
      ],
      "text/plain": [
       "        site  frequency\n",
       "230  HA2:181   0.984476"
      ]
     },
     "execution_count": 67,
     "metadata": {},
     "output_type": "execute_result"
    }
   ],
   "source": [
    "max_frequency_by_site[max_frequency_by_site[\"site\"] == \"HA2:181\"]"
   ]
  },
  {
   "cell_type": "code",
   "execution_count": 68,
   "metadata": {},
   "outputs": [],
   "source": [
    "sites_to_track = max_frequency_by_site.loc[max_frequency_by_site[\"frequency\"] < 0.95, \"site\"].values"
   ]
  },
  {
   "cell_type": "code",
   "execution_count": 69,
   "metadata": {},
   "outputs": [
    {
     "data": {
      "text/plain": [
       "array(['HA1:144', 'HA1:162', 'HA1:212', 'HA1:213', 'HA1:261', 'HA1:62'],\n",
       "      dtype=object)"
      ]
     },
     "execution_count": 69,
     "metadata": {},
     "output_type": "execute_result"
    }
   ],
   "source": [
    "sites_to_track"
   ]
  },
  {
   "cell_type": "code",
   "execution_count": 70,
   "metadata": {},
   "outputs": [
    {
     "data": {
      "text/plain": [
       "(6,)"
      ]
     },
     "execution_count": 70,
     "metadata": {},
     "output_type": "execute_result"
    }
   ],
   "source": [
    "sites_to_track.shape"
   ]
  },
  {
   "cell_type": "code",
   "execution_count": 153,
   "metadata": {},
   "outputs": [],
   "source": [
    "muts_to_track_df = mut_df[mut_df[\"site\"].isin(sites_to_track)].copy()"
   ]
  },
  {
   "cell_type": "code",
   "execution_count": 154,
   "metadata": {},
   "outputs": [
    {
     "data": {
      "text/html": [
       "<div>\n",
       "<style scoped>\n",
       "    .dataframe tbody tr th:only-of-type {\n",
       "        vertical-align: middle;\n",
       "    }\n",
       "\n",
       "    .dataframe tbody tr th {\n",
       "        vertical-align: top;\n",
       "    }\n",
       "\n",
       "    .dataframe thead th {\n",
       "        text-align: right;\n",
       "    }\n",
       "</style>\n",
       "<table border=\"1\" class=\"dataframe\">\n",
       "  <thead>\n",
       "    <tr style=\"text-align: right;\">\n",
       "      <th></th>\n",
       "      <th>frequency</th>\n",
       "      <th>residue</th>\n",
       "      <th>site</th>\n",
       "      <th>timepoint</th>\n",
       "    </tr>\n",
       "  </thead>\n",
       "  <tbody>\n",
       "    <tr>\n",
       "      <th>71</th>\n",
       "      <td>0.000062</td>\n",
       "      <td>D</td>\n",
       "      <td>HA1:144</td>\n",
       "      <td>2009-10-01</td>\n",
       "    </tr>\n",
       "    <tr>\n",
       "      <th>72</th>\n",
       "      <td>0.000011</td>\n",
       "      <td>G</td>\n",
       "      <td>HA1:144</td>\n",
       "      <td>2009-10-01</td>\n",
       "    </tr>\n",
       "    <tr>\n",
       "      <th>73</th>\n",
       "      <td>0.000006</td>\n",
       "      <td>I</td>\n",
       "      <td>HA1:144</td>\n",
       "      <td>2009-10-01</td>\n",
       "    </tr>\n",
       "    <tr>\n",
       "      <th>74</th>\n",
       "      <td>0.620483</td>\n",
       "      <td>K</td>\n",
       "      <td>HA1:144</td>\n",
       "      <td>2009-10-01</td>\n",
       "    </tr>\n",
       "    <tr>\n",
       "      <th>75</th>\n",
       "      <td>0.379393</td>\n",
       "      <td>N</td>\n",
       "      <td>HA1:144</td>\n",
       "      <td>2009-10-01</td>\n",
       "    </tr>\n",
       "    <tr>\n",
       "      <th>76</th>\n",
       "      <td>0.000044</td>\n",
       "      <td>S</td>\n",
       "      <td>HA1:144</td>\n",
       "      <td>2009-10-01</td>\n",
       "    </tr>\n",
       "    <tr>\n",
       "      <th>108</th>\n",
       "      <td>0.913649</td>\n",
       "      <td>P</td>\n",
       "      <td>HA1:162</td>\n",
       "      <td>2009-10-01</td>\n",
       "    </tr>\n",
       "    <tr>\n",
       "      <th>109</th>\n",
       "      <td>0.072230</td>\n",
       "      <td>Q</td>\n",
       "      <td>HA1:162</td>\n",
       "      <td>2009-10-01</td>\n",
       "    </tr>\n",
       "    <tr>\n",
       "      <th>110</th>\n",
       "      <td>0.014121</td>\n",
       "      <td>S</td>\n",
       "      <td>HA1:162</td>\n",
       "      <td>2009-10-01</td>\n",
       "    </tr>\n",
       "    <tr>\n",
       "      <th>224</th>\n",
       "      <td>0.346921</td>\n",
       "      <td>A</td>\n",
       "      <td>HA1:212</td>\n",
       "      <td>2009-10-01</td>\n",
       "    </tr>\n",
       "    <tr>\n",
       "      <th>225</th>\n",
       "      <td>0.000035</td>\n",
       "      <td>I</td>\n",
       "      <td>HA1:212</td>\n",
       "      <td>2009-10-01</td>\n",
       "    </tr>\n",
       "    <tr>\n",
       "      <th>226</th>\n",
       "      <td>0.000000</td>\n",
       "      <td>N</td>\n",
       "      <td>HA1:212</td>\n",
       "      <td>2009-10-01</td>\n",
       "    </tr>\n",
       "    <tr>\n",
       "      <th>227</th>\n",
       "      <td>0.653044</td>\n",
       "      <td>T</td>\n",
       "      <td>HA1:212</td>\n",
       "      <td>2009-10-01</td>\n",
       "    </tr>\n",
       "    <tr>\n",
       "      <th>228</th>\n",
       "      <td>0.343744</td>\n",
       "      <td>A</td>\n",
       "      <td>HA1:213</td>\n",
       "      <td>2009-10-01</td>\n",
       "    </tr>\n",
       "    <tr>\n",
       "      <th>229</th>\n",
       "      <td>0.656256</td>\n",
       "      <td>V</td>\n",
       "      <td>HA1:213</td>\n",
       "      <td>2009-10-01</td>\n",
       "    </tr>\n",
       "    <tr>\n",
       "      <th>303</th>\n",
       "      <td>0.000013</td>\n",
       "      <td>L</td>\n",
       "      <td>HA1:261</td>\n",
       "      <td>2009-10-01</td>\n",
       "    </tr>\n",
       "    <tr>\n",
       "      <th>304</th>\n",
       "      <td>0.128359</td>\n",
       "      <td>Q</td>\n",
       "      <td>HA1:261</td>\n",
       "      <td>2009-10-01</td>\n",
       "    </tr>\n",
       "    <tr>\n",
       "      <th>305</th>\n",
       "      <td>0.871628</td>\n",
       "      <td>R</td>\n",
       "      <td>HA1:261</td>\n",
       "      <td>2009-10-01</td>\n",
       "    </tr>\n",
       "    <tr>\n",
       "      <th>473</th>\n",
       "      <td>0.377398</td>\n",
       "      <td>E</td>\n",
       "      <td>HA1:62</td>\n",
       "      <td>2009-10-01</td>\n",
       "    </tr>\n",
       "    <tr>\n",
       "      <th>474</th>\n",
       "      <td>0.000062</td>\n",
       "      <td>G</td>\n",
       "      <td>HA1:62</td>\n",
       "      <td>2009-10-01</td>\n",
       "    </tr>\n",
       "    <tr>\n",
       "      <th>475</th>\n",
       "      <td>0.622540</td>\n",
       "      <td>K</td>\n",
       "      <td>HA1:62</td>\n",
       "      <td>2009-10-01</td>\n",
       "    </tr>\n",
       "  </tbody>\n",
       "</table>\n",
       "</div>"
      ],
      "text/plain": [
       "     frequency residue     site   timepoint\n",
       "71    0.000062       D  HA1:144  2009-10-01\n",
       "72    0.000011       G  HA1:144  2009-10-01\n",
       "73    0.000006       I  HA1:144  2009-10-01\n",
       "74    0.620483       K  HA1:144  2009-10-01\n",
       "75    0.379393       N  HA1:144  2009-10-01\n",
       "76    0.000044       S  HA1:144  2009-10-01\n",
       "108   0.913649       P  HA1:162  2009-10-01\n",
       "109   0.072230       Q  HA1:162  2009-10-01\n",
       "110   0.014121       S  HA1:162  2009-10-01\n",
       "224   0.346921       A  HA1:212  2009-10-01\n",
       "225   0.000035       I  HA1:212  2009-10-01\n",
       "226   0.000000       N  HA1:212  2009-10-01\n",
       "227   0.653044       T  HA1:212  2009-10-01\n",
       "228   0.343744       A  HA1:213  2009-10-01\n",
       "229   0.656256       V  HA1:213  2009-10-01\n",
       "303   0.000013       L  HA1:261  2009-10-01\n",
       "304   0.128359       Q  HA1:261  2009-10-01\n",
       "305   0.871628       R  HA1:261  2009-10-01\n",
       "473   0.377398       E   HA1:62  2009-10-01\n",
       "474   0.000062       G   HA1:62  2009-10-01\n",
       "475   0.622540       K   HA1:62  2009-10-01"
      ]
     },
     "execution_count": 154,
     "metadata": {},
     "output_type": "execute_result"
    }
   ],
   "source": [
    "muts_to_track_df"
   ]
  },
  {
   "cell_type": "code",
   "execution_count": 155,
   "metadata": {},
   "outputs": [
    {
     "data": {
      "text/plain": [
       "array(['HA1:144', 'HA1:162', 'HA1:212', 'HA1:213', 'HA1:261', 'HA1:62'],\n",
       "      dtype=object)"
      ]
     },
     "execution_count": 155,
     "metadata": {},
     "output_type": "execute_result"
    }
   ],
   "source": [
    "sites_to_track"
   ]
  },
  {
   "cell_type": "code",
   "execution_count": 156,
   "metadata": {},
   "outputs": [],
   "source": [
    "genes_to_tracks = sorted(set([site.split(\":\")[0] for site in sites_to_track]))"
   ]
  },
  {
   "cell_type": "code",
   "execution_count": 157,
   "metadata": {},
   "outputs": [
    {
     "data": {
      "text/plain": [
       "['HA1']"
      ]
     },
     "execution_count": 157,
     "metadata": {},
     "output_type": "execute_result"
    }
   ],
   "source": [
    "genes_to_tracks"
   ]
  },
  {
   "cell_type": "code",
   "execution_count": 158,
   "metadata": {},
   "outputs": [],
   "source": [
    "positions_per_gene = defaultdict(list)\n",
    "\n",
    "for site in sites_to_track:\n",
    "    gene, position = site.split(\":\")\n",
    "    positions_per_gene[gene].append(int(position))"
   ]
  },
  {
   "cell_type": "code",
   "execution_count": 159,
   "metadata": {},
   "outputs": [
    {
     "data": {
      "text/plain": [
       "defaultdict(list, {'HA1': [144, 162, 212, 213, 261, 62]})"
      ]
     },
     "execution_count": 159,
     "metadata": {},
     "output_type": "execute_result"
    }
   ],
   "source": [
    "positions_per_gene"
   ]
  },
  {
   "cell_type": "code",
   "execution_count": 160,
   "metadata": {},
   "outputs": [],
   "source": [
    "samples_and_sites = []\n",
    "\n",
    "for gene in genes_to_tracks:\n",
    "    with open(data_root + \"aa-seq_%s.fasta\" % gene, \"r\") as fh:\n",
    "        alignment = Bio.AlignIO.read(fh, \"fasta\")\n",
    "        \n",
    "        for record in alignment:\n",
    "            # Skip internal nodes.\n",
    "            if record.id.startswith(\"NODE\"):\n",
    "                continue\n",
    "                \n",
    "            # Store this record's sequence for each site to track.\n",
    "            for position in positions_per_gene[gene]:\n",
    "                samples_and_sites.append({\n",
    "                    \"site\": \"%s:%s\" % (gene, position),\n",
    "                    \"residue\": record.seq[position - 1],\n",
    "                    \"sample\": record.id\n",
    "                })\n",
    "\n",
    "samples_and_sites_df = pd.DataFrame(samples_and_sites)"
   ]
  },
  {
   "cell_type": "code",
   "execution_count": 161,
   "metadata": {},
   "outputs": [
    {
     "data": {
      "text/plain": [
       "(8100, 3)"
      ]
     },
     "execution_count": 161,
     "metadata": {},
     "output_type": "execute_result"
    }
   ],
   "source": [
    "samples_and_sites_df.shape"
   ]
  },
  {
   "cell_type": "code",
   "execution_count": 162,
   "metadata": {},
   "outputs": [
    {
     "data": {
      "text/html": [
       "<div>\n",
       "<style scoped>\n",
       "    .dataframe tbody tr th:only-of-type {\n",
       "        vertical-align: middle;\n",
       "    }\n",
       "\n",
       "    .dataframe tbody tr th {\n",
       "        vertical-align: top;\n",
       "    }\n",
       "\n",
       "    .dataframe thead th {\n",
       "        text-align: right;\n",
       "    }\n",
       "</style>\n",
       "<table border=\"1\" class=\"dataframe\">\n",
       "  <thead>\n",
       "    <tr style=\"text-align: right;\">\n",
       "      <th></th>\n",
       "      <th>residue</th>\n",
       "      <th>sample</th>\n",
       "      <th>site</th>\n",
       "    </tr>\n",
       "  </thead>\n",
       "  <tbody>\n",
       "    <tr>\n",
       "      <th>0</th>\n",
       "      <td>N</td>\n",
       "      <td>A/Canterbury/96/2000</td>\n",
       "      <td>HA1:144</td>\n",
       "    </tr>\n",
       "    <tr>\n",
       "      <th>1</th>\n",
       "      <td>P</td>\n",
       "      <td>A/Canterbury/96/2000</td>\n",
       "      <td>HA1:162</td>\n",
       "    </tr>\n",
       "    <tr>\n",
       "      <th>2</th>\n",
       "      <td>T</td>\n",
       "      <td>A/Canterbury/96/2000</td>\n",
       "      <td>HA1:212</td>\n",
       "    </tr>\n",
       "    <tr>\n",
       "      <th>3</th>\n",
       "      <td>V</td>\n",
       "      <td>A/Canterbury/96/2000</td>\n",
       "      <td>HA1:213</td>\n",
       "    </tr>\n",
       "    <tr>\n",
       "      <th>4</th>\n",
       "      <td>R</td>\n",
       "      <td>A/Canterbury/96/2000</td>\n",
       "      <td>HA1:261</td>\n",
       "    </tr>\n",
       "    <tr>\n",
       "      <th>5</th>\n",
       "      <td>E</td>\n",
       "      <td>A/Canterbury/96/2000</td>\n",
       "      <td>HA1:62</td>\n",
       "    </tr>\n",
       "    <tr>\n",
       "      <th>6</th>\n",
       "      <td>N</td>\n",
       "      <td>A/Canterbury/99/2000</td>\n",
       "      <td>HA1:144</td>\n",
       "    </tr>\n",
       "    <tr>\n",
       "      <th>7</th>\n",
       "      <td>P</td>\n",
       "      <td>A/Canterbury/99/2000</td>\n",
       "      <td>HA1:162</td>\n",
       "    </tr>\n",
       "    <tr>\n",
       "      <th>8</th>\n",
       "      <td>T</td>\n",
       "      <td>A/Canterbury/99/2000</td>\n",
       "      <td>HA1:212</td>\n",
       "    </tr>\n",
       "    <tr>\n",
       "      <th>9</th>\n",
       "      <td>V</td>\n",
       "      <td>A/Canterbury/99/2000</td>\n",
       "      <td>HA1:213</td>\n",
       "    </tr>\n",
       "  </tbody>\n",
       "</table>\n",
       "</div>"
      ],
      "text/plain": [
       "  residue                sample     site\n",
       "0       N  A/Canterbury/96/2000  HA1:144\n",
       "1       P  A/Canterbury/96/2000  HA1:162\n",
       "2       T  A/Canterbury/96/2000  HA1:212\n",
       "3       V  A/Canterbury/96/2000  HA1:213\n",
       "4       R  A/Canterbury/96/2000  HA1:261\n",
       "5       E  A/Canterbury/96/2000   HA1:62\n",
       "6       N  A/Canterbury/99/2000  HA1:144\n",
       "7       P  A/Canterbury/99/2000  HA1:162\n",
       "8       T  A/Canterbury/99/2000  HA1:212\n",
       "9       V  A/Canterbury/99/2000  HA1:213"
      ]
     },
     "execution_count": 162,
     "metadata": {},
     "output_type": "execute_result"
    }
   ],
   "source": [
    "samples_and_sites_df.head(10)"
   ]
  },
  {
   "cell_type": "code",
   "execution_count": 163,
   "metadata": {},
   "outputs": [],
   "source": [
    "number_of_samples_by_site_and_residue_df = samples_and_sites_df.groupby([\"site\", \"residue\"]).count().reset_index().rename(\n",
    "    columns={\"sample\": \"number_of_samples\"}\n",
    ")"
   ]
  },
  {
   "cell_type": "code",
   "execution_count": 164,
   "metadata": {},
   "outputs": [
    {
     "data": {
      "text/html": [
       "<div>\n",
       "<style scoped>\n",
       "    .dataframe tbody tr th:only-of-type {\n",
       "        vertical-align: middle;\n",
       "    }\n",
       "\n",
       "    .dataframe tbody tr th {\n",
       "        vertical-align: top;\n",
       "    }\n",
       "\n",
       "    .dataframe thead th {\n",
       "        text-align: right;\n",
       "    }\n",
       "</style>\n",
       "<table border=\"1\" class=\"dataframe\">\n",
       "  <thead>\n",
       "    <tr style=\"text-align: right;\">\n",
       "      <th></th>\n",
       "      <th>site</th>\n",
       "      <th>residue</th>\n",
       "      <th>number_of_samples</th>\n",
       "    </tr>\n",
       "  </thead>\n",
       "  <tbody>\n",
       "    <tr>\n",
       "      <th>0</th>\n",
       "      <td>HA1:144</td>\n",
       "      <td>D</td>\n",
       "      <td>133</td>\n",
       "    </tr>\n",
       "    <tr>\n",
       "      <th>1</th>\n",
       "      <td>HA1:144</td>\n",
       "      <td>G</td>\n",
       "      <td>1</td>\n",
       "    </tr>\n",
       "    <tr>\n",
       "      <th>2</th>\n",
       "      <td>HA1:144</td>\n",
       "      <td>I</td>\n",
       "      <td>2</td>\n",
       "    </tr>\n",
       "    <tr>\n",
       "      <th>3</th>\n",
       "      <td>HA1:144</td>\n",
       "      <td>K</td>\n",
       "      <td>96</td>\n",
       "    </tr>\n",
       "    <tr>\n",
       "      <th>4</th>\n",
       "      <td>HA1:144</td>\n",
       "      <td>N</td>\n",
       "      <td>1115</td>\n",
       "    </tr>\n",
       "    <tr>\n",
       "      <th>5</th>\n",
       "      <td>HA1:144</td>\n",
       "      <td>S</td>\n",
       "      <td>3</td>\n",
       "    </tr>\n",
       "    <tr>\n",
       "      <th>6</th>\n",
       "      <td>HA1:162</td>\n",
       "      <td>P</td>\n",
       "      <td>1338</td>\n",
       "    </tr>\n",
       "    <tr>\n",
       "      <th>7</th>\n",
       "      <td>HA1:162</td>\n",
       "      <td>Q</td>\n",
       "      <td>10</td>\n",
       "    </tr>\n",
       "    <tr>\n",
       "      <th>8</th>\n",
       "      <td>HA1:162</td>\n",
       "      <td>S</td>\n",
       "      <td>2</td>\n",
       "    </tr>\n",
       "    <tr>\n",
       "      <th>9</th>\n",
       "      <td>HA1:212</td>\n",
       "      <td>A</td>\n",
       "      <td>41</td>\n",
       "    </tr>\n",
       "    <tr>\n",
       "      <th>10</th>\n",
       "      <td>HA1:212</td>\n",
       "      <td>I</td>\n",
       "      <td>1</td>\n",
       "    </tr>\n",
       "    <tr>\n",
       "      <th>11</th>\n",
       "      <td>HA1:212</td>\n",
       "      <td>N</td>\n",
       "      <td>1</td>\n",
       "    </tr>\n",
       "    <tr>\n",
       "      <th>12</th>\n",
       "      <td>HA1:212</td>\n",
       "      <td>T</td>\n",
       "      <td>1307</td>\n",
       "    </tr>\n",
       "    <tr>\n",
       "      <th>13</th>\n",
       "      <td>HA1:213</td>\n",
       "      <td>A</td>\n",
       "      <td>42</td>\n",
       "    </tr>\n",
       "    <tr>\n",
       "      <th>14</th>\n",
       "      <td>HA1:213</td>\n",
       "      <td>V</td>\n",
       "      <td>1308</td>\n",
       "    </tr>\n",
       "    <tr>\n",
       "      <th>15</th>\n",
       "      <td>HA1:261</td>\n",
       "      <td>L</td>\n",
       "      <td>3</td>\n",
       "    </tr>\n",
       "    <tr>\n",
       "      <th>16</th>\n",
       "      <td>HA1:261</td>\n",
       "      <td>Q</td>\n",
       "      <td>45</td>\n",
       "    </tr>\n",
       "    <tr>\n",
       "      <th>17</th>\n",
       "      <td>HA1:261</td>\n",
       "      <td>R</td>\n",
       "      <td>1302</td>\n",
       "    </tr>\n",
       "    <tr>\n",
       "      <th>18</th>\n",
       "      <td>HA1:62</td>\n",
       "      <td>E</td>\n",
       "      <td>1246</td>\n",
       "    </tr>\n",
       "    <tr>\n",
       "      <th>19</th>\n",
       "      <td>HA1:62</td>\n",
       "      <td>G</td>\n",
       "      <td>4</td>\n",
       "    </tr>\n",
       "    <tr>\n",
       "      <th>20</th>\n",
       "      <td>HA1:62</td>\n",
       "      <td>K</td>\n",
       "      <td>100</td>\n",
       "    </tr>\n",
       "  </tbody>\n",
       "</table>\n",
       "</div>"
      ],
      "text/plain": [
       "       site residue  number_of_samples\n",
       "0   HA1:144       D                133\n",
       "1   HA1:144       G                  1\n",
       "2   HA1:144       I                  2\n",
       "3   HA1:144       K                 96\n",
       "4   HA1:144       N               1115\n",
       "5   HA1:144       S                  3\n",
       "6   HA1:162       P               1338\n",
       "7   HA1:162       Q                 10\n",
       "8   HA1:162       S                  2\n",
       "9   HA1:212       A                 41\n",
       "10  HA1:212       I                  1\n",
       "11  HA1:212       N                  1\n",
       "12  HA1:212       T               1307\n",
       "13  HA1:213       A                 42\n",
       "14  HA1:213       V               1308\n",
       "15  HA1:261       L                  3\n",
       "16  HA1:261       Q                 45\n",
       "17  HA1:261       R               1302\n",
       "18   HA1:62       E               1246\n",
       "19   HA1:62       G                  4\n",
       "20   HA1:62       K                100"
      ]
     },
     "execution_count": 164,
     "metadata": {},
     "output_type": "execute_result"
    }
   ],
   "source": [
    "number_of_samples_by_site_and_residue_df"
   ]
  },
  {
   "cell_type": "code",
   "execution_count": 165,
   "metadata": {},
   "outputs": [
    {
     "data": {
      "text/html": [
       "<div>\n",
       "<style scoped>\n",
       "    .dataframe tbody tr th:only-of-type {\n",
       "        vertical-align: middle;\n",
       "    }\n",
       "\n",
       "    .dataframe tbody tr th {\n",
       "        vertical-align: top;\n",
       "    }\n",
       "\n",
       "    .dataframe thead th {\n",
       "        text-align: right;\n",
       "    }\n",
       "</style>\n",
       "<table border=\"1\" class=\"dataframe\">\n",
       "  <thead>\n",
       "    <tr style=\"text-align: right;\">\n",
       "      <th></th>\n",
       "      <th>frequency</th>\n",
       "      <th>residue</th>\n",
       "      <th>site</th>\n",
       "      <th>timepoint</th>\n",
       "    </tr>\n",
       "  </thead>\n",
       "  <tbody>\n",
       "    <tr>\n",
       "      <th>71</th>\n",
       "      <td>0.000062</td>\n",
       "      <td>D</td>\n",
       "      <td>HA1:144</td>\n",
       "      <td>2009-10-01</td>\n",
       "    </tr>\n",
       "    <tr>\n",
       "      <th>72</th>\n",
       "      <td>0.000011</td>\n",
       "      <td>G</td>\n",
       "      <td>HA1:144</td>\n",
       "      <td>2009-10-01</td>\n",
       "    </tr>\n",
       "    <tr>\n",
       "      <th>73</th>\n",
       "      <td>0.000006</td>\n",
       "      <td>I</td>\n",
       "      <td>HA1:144</td>\n",
       "      <td>2009-10-01</td>\n",
       "    </tr>\n",
       "    <tr>\n",
       "      <th>74</th>\n",
       "      <td>0.620483</td>\n",
       "      <td>K</td>\n",
       "      <td>HA1:144</td>\n",
       "      <td>2009-10-01</td>\n",
       "    </tr>\n",
       "    <tr>\n",
       "      <th>75</th>\n",
       "      <td>0.379393</td>\n",
       "      <td>N</td>\n",
       "      <td>HA1:144</td>\n",
       "      <td>2009-10-01</td>\n",
       "    </tr>\n",
       "  </tbody>\n",
       "</table>\n",
       "</div>"
      ],
      "text/plain": [
       "    frequency residue     site   timepoint\n",
       "71   0.000062       D  HA1:144  2009-10-01\n",
       "72   0.000011       G  HA1:144  2009-10-01\n",
       "73   0.000006       I  HA1:144  2009-10-01\n",
       "74   0.620483       K  HA1:144  2009-10-01\n",
       "75   0.379393       N  HA1:144  2009-10-01"
      ]
     },
     "execution_count": 165,
     "metadata": {},
     "output_type": "execute_result"
    }
   ],
   "source": [
    "muts_to_track_df.head()"
   ]
  },
  {
   "cell_type": "code",
   "execution_count": 166,
   "metadata": {},
   "outputs": [],
   "source": [
    "#muts_to_track_df = muts_to_track_df.merge(number_of_samples_by_site_and_residue_df, on=[\"site\", \"residue\"])"
   ]
  },
  {
   "cell_type": "code",
   "execution_count": 167,
   "metadata": {},
   "outputs": [],
   "source": [
    "#muts_to_track_df[\"frequency_per_sample\"] = muts_to_track_df[\"frequency\"] / muts_to_track_df[\"number_of_samples\"]"
   ]
  },
  {
   "cell_type": "code",
   "execution_count": 168,
   "metadata": {},
   "outputs": [
    {
     "data": {
      "text/html": [
       "<div>\n",
       "<style scoped>\n",
       "    .dataframe tbody tr th:only-of-type {\n",
       "        vertical-align: middle;\n",
       "    }\n",
       "\n",
       "    .dataframe tbody tr th {\n",
       "        vertical-align: top;\n",
       "    }\n",
       "\n",
       "    .dataframe thead th {\n",
       "        text-align: right;\n",
       "    }\n",
       "</style>\n",
       "<table border=\"1\" class=\"dataframe\">\n",
       "  <thead>\n",
       "    <tr style=\"text-align: right;\">\n",
       "      <th></th>\n",
       "      <th>frequency</th>\n",
       "      <th>residue</th>\n",
       "      <th>site</th>\n",
       "      <th>timepoint</th>\n",
       "    </tr>\n",
       "  </thead>\n",
       "  <tbody>\n",
       "    <tr>\n",
       "      <th>71</th>\n",
       "      <td>0.000062</td>\n",
       "      <td>D</td>\n",
       "      <td>HA1:144</td>\n",
       "      <td>2009-10-01</td>\n",
       "    </tr>\n",
       "    <tr>\n",
       "      <th>72</th>\n",
       "      <td>0.000011</td>\n",
       "      <td>G</td>\n",
       "      <td>HA1:144</td>\n",
       "      <td>2009-10-01</td>\n",
       "    </tr>\n",
       "    <tr>\n",
       "      <th>73</th>\n",
       "      <td>0.000006</td>\n",
       "      <td>I</td>\n",
       "      <td>HA1:144</td>\n",
       "      <td>2009-10-01</td>\n",
       "    </tr>\n",
       "    <tr>\n",
       "      <th>74</th>\n",
       "      <td>0.620483</td>\n",
       "      <td>K</td>\n",
       "      <td>HA1:144</td>\n",
       "      <td>2009-10-01</td>\n",
       "    </tr>\n",
       "    <tr>\n",
       "      <th>75</th>\n",
       "      <td>0.379393</td>\n",
       "      <td>N</td>\n",
       "      <td>HA1:144</td>\n",
       "      <td>2009-10-01</td>\n",
       "    </tr>\n",
       "  </tbody>\n",
       "</table>\n",
       "</div>"
      ],
      "text/plain": [
       "    frequency residue     site   timepoint\n",
       "71   0.000062       D  HA1:144  2009-10-01\n",
       "72   0.000011       G  HA1:144  2009-10-01\n",
       "73   0.000006       I  HA1:144  2009-10-01\n",
       "74   0.620483       K  HA1:144  2009-10-01\n",
       "75   0.379393       N  HA1:144  2009-10-01"
      ]
     },
     "execution_count": 168,
     "metadata": {},
     "output_type": "execute_result"
    }
   ],
   "source": [
    "muts_to_track_df.head()"
   ]
  },
  {
   "cell_type": "code",
   "execution_count": 169,
   "metadata": {},
   "outputs": [],
   "source": [
    "mut_freqs_per_sample = muts_to_track_df.merge(samples_and_sites_df, on=[\"site\", \"residue\"])"
   ]
  },
  {
   "cell_type": "code",
   "execution_count": 170,
   "metadata": {},
   "outputs": [
    {
     "data": {
      "text/html": [
       "<div>\n",
       "<style scoped>\n",
       "    .dataframe tbody tr th:only-of-type {\n",
       "        vertical-align: middle;\n",
       "    }\n",
       "\n",
       "    .dataframe tbody tr th {\n",
       "        vertical-align: top;\n",
       "    }\n",
       "\n",
       "    .dataframe thead th {\n",
       "        text-align: right;\n",
       "    }\n",
       "</style>\n",
       "<table border=\"1\" class=\"dataframe\">\n",
       "  <thead>\n",
       "    <tr style=\"text-align: right;\">\n",
       "      <th></th>\n",
       "      <th>frequency</th>\n",
       "      <th>residue</th>\n",
       "      <th>site</th>\n",
       "      <th>timepoint</th>\n",
       "      <th>sample</th>\n",
       "    </tr>\n",
       "  </thead>\n",
       "  <tbody>\n",
       "    <tr>\n",
       "      <th>0</th>\n",
       "      <td>0.000062</td>\n",
       "      <td>D</td>\n",
       "      <td>HA1:144</td>\n",
       "      <td>2009-10-01</td>\n",
       "      <td>A/NewYork/197/2003</td>\n",
       "    </tr>\n",
       "    <tr>\n",
       "      <th>1</th>\n",
       "      <td>0.000062</td>\n",
       "      <td>D</td>\n",
       "      <td>HA1:144</td>\n",
       "      <td>2009-10-01</td>\n",
       "      <td>A/NewYork/193/2003</td>\n",
       "    </tr>\n",
       "    <tr>\n",
       "      <th>2</th>\n",
       "      <td>0.000062</td>\n",
       "      <td>D</td>\n",
       "      <td>HA1:144</td>\n",
       "      <td>2009-10-01</td>\n",
       "      <td>A/Queensland/12/2001</td>\n",
       "    </tr>\n",
       "    <tr>\n",
       "      <th>3</th>\n",
       "      <td>0.000062</td>\n",
       "      <td>D</td>\n",
       "      <td>HA1:144</td>\n",
       "      <td>2009-10-01</td>\n",
       "      <td>A/Queensland/17/2001</td>\n",
       "    </tr>\n",
       "    <tr>\n",
       "      <th>4</th>\n",
       "      <td>0.000062</td>\n",
       "      <td>D</td>\n",
       "      <td>HA1:144</td>\n",
       "      <td>2009-10-01</td>\n",
       "      <td>A/NewYork/401/2001</td>\n",
       "    </tr>\n",
       "  </tbody>\n",
       "</table>\n",
       "</div>"
      ],
      "text/plain": [
       "   frequency residue     site   timepoint                sample\n",
       "0   0.000062       D  HA1:144  2009-10-01    A/NewYork/197/2003\n",
       "1   0.000062       D  HA1:144  2009-10-01    A/NewYork/193/2003\n",
       "2   0.000062       D  HA1:144  2009-10-01  A/Queensland/12/2001\n",
       "3   0.000062       D  HA1:144  2009-10-01  A/Queensland/17/2001\n",
       "4   0.000062       D  HA1:144  2009-10-01    A/NewYork/401/2001"
      ]
     },
     "execution_count": 170,
     "metadata": {},
     "output_type": "execute_result"
    }
   ],
   "source": [
    "mut_freqs_per_sample.head()"
   ]
  },
  {
   "cell_type": "code",
   "execution_count": 172,
   "metadata": {},
   "outputs": [],
   "source": [
    "#mut_freqs_per_sample.groupby([\"site\", \"residue\"]).aggregate({\"frequency\": \"first\", \"frequency_per_sample\": \"sum\"})"
   ]
  },
  {
   "cell_type": "code",
   "execution_count": 136,
   "metadata": {},
   "outputs": [],
   "source": [
    "#mut_freqs_per_sample = mut_freqs_per_sample.drop(columns=[\"frequency\", \"number_of_samples\"]).rename(columns={\"frequency_per_sample\": \"frequency\"}).copy()"
   ]
  },
  {
   "cell_type": "code",
   "execution_count": 173,
   "metadata": {},
   "outputs": [],
   "source": [
    "mut_freqs_per_sample[\"mutation\"] = mut_freqs_per_sample[\"site\"] + mut_freqs_per_sample[\"residue\"]"
   ]
  },
  {
   "cell_type": "code",
   "execution_count": 174,
   "metadata": {},
   "outputs": [
    {
     "data": {
      "text/html": [
       "<div>\n",
       "<style scoped>\n",
       "    .dataframe tbody tr th:only-of-type {\n",
       "        vertical-align: middle;\n",
       "    }\n",
       "\n",
       "    .dataframe tbody tr th {\n",
       "        vertical-align: top;\n",
       "    }\n",
       "\n",
       "    .dataframe thead th {\n",
       "        text-align: right;\n",
       "    }\n",
       "</style>\n",
       "<table border=\"1\" class=\"dataframe\">\n",
       "  <thead>\n",
       "    <tr style=\"text-align: right;\">\n",
       "      <th></th>\n",
       "      <th>frequency</th>\n",
       "      <th>residue</th>\n",
       "      <th>site</th>\n",
       "      <th>timepoint</th>\n",
       "      <th>sample</th>\n",
       "      <th>mutation</th>\n",
       "    </tr>\n",
       "  </thead>\n",
       "  <tbody>\n",
       "    <tr>\n",
       "      <th>0</th>\n",
       "      <td>0.000062</td>\n",
       "      <td>D</td>\n",
       "      <td>HA1:144</td>\n",
       "      <td>2009-10-01</td>\n",
       "      <td>A/NewYork/197/2003</td>\n",
       "      <td>HA1:144D</td>\n",
       "    </tr>\n",
       "    <tr>\n",
       "      <th>1</th>\n",
       "      <td>0.000062</td>\n",
       "      <td>D</td>\n",
       "      <td>HA1:144</td>\n",
       "      <td>2009-10-01</td>\n",
       "      <td>A/NewYork/193/2003</td>\n",
       "      <td>HA1:144D</td>\n",
       "    </tr>\n",
       "    <tr>\n",
       "      <th>2</th>\n",
       "      <td>0.000062</td>\n",
       "      <td>D</td>\n",
       "      <td>HA1:144</td>\n",
       "      <td>2009-10-01</td>\n",
       "      <td>A/Queensland/12/2001</td>\n",
       "      <td>HA1:144D</td>\n",
       "    </tr>\n",
       "    <tr>\n",
       "      <th>3</th>\n",
       "      <td>0.000062</td>\n",
       "      <td>D</td>\n",
       "      <td>HA1:144</td>\n",
       "      <td>2009-10-01</td>\n",
       "      <td>A/Queensland/17/2001</td>\n",
       "      <td>HA1:144D</td>\n",
       "    </tr>\n",
       "    <tr>\n",
       "      <th>4</th>\n",
       "      <td>0.000062</td>\n",
       "      <td>D</td>\n",
       "      <td>HA1:144</td>\n",
       "      <td>2009-10-01</td>\n",
       "      <td>A/NewYork/401/2001</td>\n",
       "      <td>HA1:144D</td>\n",
       "    </tr>\n",
       "  </tbody>\n",
       "</table>\n",
       "</div>"
      ],
      "text/plain": [
       "   frequency residue     site   timepoint                sample  mutation\n",
       "0   0.000062       D  HA1:144  2009-10-01    A/NewYork/197/2003  HA1:144D\n",
       "1   0.000062       D  HA1:144  2009-10-01    A/NewYork/193/2003  HA1:144D\n",
       "2   0.000062       D  HA1:144  2009-10-01  A/Queensland/12/2001  HA1:144D\n",
       "3   0.000062       D  HA1:144  2009-10-01  A/Queensland/17/2001  HA1:144D\n",
       "4   0.000062       D  HA1:144  2009-10-01    A/NewYork/401/2001  HA1:144D"
      ]
     },
     "execution_count": 174,
     "metadata": {},
     "output_type": "execute_result"
    }
   ],
   "source": [
    "mut_freqs_per_sample.head()"
   ]
  },
  {
   "cell_type": "markdown",
   "metadata": {},
   "source": [
    "## Scale mutation frequencies by sample frequencies\n",
    "\n",
    "Although we have estimated mutation frequencies per sample in the data frame above, we want to have a generic function that reweights the frequencies in these frames by any collection of per-sample weights (usually sample frequencies). For example, we will want to know what the initial frequency of each mutation is at a timepoint based on scaling of the frequencies of the samples with those mutations. Then we want to calculate the rescaled frequencies for the same mutations after projecting the sample frequencies into the future.\n",
    "\n",
    "Below is an attempt to design this generic function."
   ]
  },
  {
   "cell_type": "code",
   "execution_count": 141,
   "metadata": {},
   "outputs": [],
   "source": [
    "# Load sample (tip) attributes for this timepoint which includes frequency per sample.\n",
    "samples_df = pd.read_csv(data_root + \"tip_attributes.tsv\", sep=\"\\t\", usecols=[\"strain\", \"timepoint\", \"frequency\"])"
   ]
  },
  {
   "cell_type": "code",
   "execution_count": 142,
   "metadata": {},
   "outputs": [
    {
     "data": {
      "text/html": [
       "<div>\n",
       "<style scoped>\n",
       "    .dataframe tbody tr th:only-of-type {\n",
       "        vertical-align: middle;\n",
       "    }\n",
       "\n",
       "    .dataframe tbody tr th {\n",
       "        vertical-align: top;\n",
       "    }\n",
       "\n",
       "    .dataframe thead th {\n",
       "        text-align: right;\n",
       "    }\n",
       "</style>\n",
       "<table border=\"1\" class=\"dataframe\">\n",
       "  <thead>\n",
       "    <tr style=\"text-align: right;\">\n",
       "      <th></th>\n",
       "      <th>strain</th>\n",
       "      <th>timepoint</th>\n",
       "      <th>frequency</th>\n",
       "    </tr>\n",
       "  </thead>\n",
       "  <tbody>\n",
       "    <tr>\n",
       "      <th>0</th>\n",
       "      <td>A/Alaska/4/2008</td>\n",
       "      <td>2009-10-01</td>\n",
       "      <td>0.000000</td>\n",
       "    </tr>\n",
       "    <tr>\n",
       "      <th>1</th>\n",
       "      <td>A/Albania/250/2009</td>\n",
       "      <td>2009-10-01</td>\n",
       "      <td>0.000933</td>\n",
       "    </tr>\n",
       "    <tr>\n",
       "      <th>2</th>\n",
       "      <td>A/Anguilla/4711/2009</td>\n",
       "      <td>2009-10-01</td>\n",
       "      <td>0.007110</td>\n",
       "    </tr>\n",
       "    <tr>\n",
       "      <th>3</th>\n",
       "      <td>A/Argentina/305/2007</td>\n",
       "      <td>2009-10-01</td>\n",
       "      <td>0.000000</td>\n",
       "    </tr>\n",
       "    <tr>\n",
       "      <th>4</th>\n",
       "      <td>A/Argentina/3689/2007</td>\n",
       "      <td>2009-10-01</td>\n",
       "      <td>0.000000</td>\n",
       "    </tr>\n",
       "  </tbody>\n",
       "</table>\n",
       "</div>"
      ],
      "text/plain": [
       "                  strain   timepoint  frequency\n",
       "0        A/Alaska/4/2008  2009-10-01   0.000000\n",
       "1     A/Albania/250/2009  2009-10-01   0.000933\n",
       "2   A/Anguilla/4711/2009  2009-10-01   0.007110\n",
       "3   A/Argentina/305/2007  2009-10-01   0.000000\n",
       "4  A/Argentina/3689/2007  2009-10-01   0.000000"
      ]
     },
     "execution_count": 142,
     "metadata": {},
     "output_type": "execute_result"
    }
   ],
   "source": [
    "samples_df.head()"
   ]
  },
  {
   "cell_type": "code",
   "execution_count": 143,
   "metadata": {},
   "outputs": [
    {
     "data": {
      "text/plain": [
       "(1350, 3)"
      ]
     },
     "execution_count": 143,
     "metadata": {},
     "output_type": "execute_result"
    }
   ],
   "source": [
    "samples_df.shape"
   ]
  },
  {
   "cell_type": "code",
   "execution_count": 145,
   "metadata": {},
   "outputs": [
    {
     "data": {
      "text/plain": [
       "timepoint\n",
       "2009-10-01    1.000008\n",
       "Name: frequency, dtype: float64"
      ]
     },
     "execution_count": 145,
     "metadata": {},
     "output_type": "execute_result"
    }
   ],
   "source": [
    "samples_df.groupby(\"timepoint\")[\"frequency\"].sum()"
   ]
  },
  {
   "cell_type": "code",
   "execution_count": 175,
   "metadata": {},
   "outputs": [
    {
     "data": {
      "text/html": [
       "<div>\n",
       "<style scoped>\n",
       "    .dataframe tbody tr th:only-of-type {\n",
       "        vertical-align: middle;\n",
       "    }\n",
       "\n",
       "    .dataframe tbody tr th {\n",
       "        vertical-align: top;\n",
       "    }\n",
       "\n",
       "    .dataframe thead th {\n",
       "        text-align: right;\n",
       "    }\n",
       "</style>\n",
       "<table border=\"1\" class=\"dataframe\">\n",
       "  <thead>\n",
       "    <tr style=\"text-align: right;\">\n",
       "      <th></th>\n",
       "      <th>frequency</th>\n",
       "      <th>residue</th>\n",
       "      <th>site</th>\n",
       "      <th>timepoint</th>\n",
       "      <th>sample</th>\n",
       "      <th>mutation</th>\n",
       "    </tr>\n",
       "  </thead>\n",
       "  <tbody>\n",
       "    <tr>\n",
       "      <th>0</th>\n",
       "      <td>0.000062</td>\n",
       "      <td>D</td>\n",
       "      <td>HA1:144</td>\n",
       "      <td>2009-10-01</td>\n",
       "      <td>A/NewYork/197/2003</td>\n",
       "      <td>HA1:144D</td>\n",
       "    </tr>\n",
       "    <tr>\n",
       "      <th>1</th>\n",
       "      <td>0.000062</td>\n",
       "      <td>D</td>\n",
       "      <td>HA1:144</td>\n",
       "      <td>2009-10-01</td>\n",
       "      <td>A/NewYork/193/2003</td>\n",
       "      <td>HA1:144D</td>\n",
       "    </tr>\n",
       "    <tr>\n",
       "      <th>2</th>\n",
       "      <td>0.000062</td>\n",
       "      <td>D</td>\n",
       "      <td>HA1:144</td>\n",
       "      <td>2009-10-01</td>\n",
       "      <td>A/Queensland/12/2001</td>\n",
       "      <td>HA1:144D</td>\n",
       "    </tr>\n",
       "    <tr>\n",
       "      <th>3</th>\n",
       "      <td>0.000062</td>\n",
       "      <td>D</td>\n",
       "      <td>HA1:144</td>\n",
       "      <td>2009-10-01</td>\n",
       "      <td>A/Queensland/17/2001</td>\n",
       "      <td>HA1:144D</td>\n",
       "    </tr>\n",
       "    <tr>\n",
       "      <th>4</th>\n",
       "      <td>0.000062</td>\n",
       "      <td>D</td>\n",
       "      <td>HA1:144</td>\n",
       "      <td>2009-10-01</td>\n",
       "      <td>A/NewYork/401/2001</td>\n",
       "      <td>HA1:144D</td>\n",
       "    </tr>\n",
       "  </tbody>\n",
       "</table>\n",
       "</div>"
      ],
      "text/plain": [
       "   frequency residue     site   timepoint                sample  mutation\n",
       "0   0.000062       D  HA1:144  2009-10-01    A/NewYork/197/2003  HA1:144D\n",
       "1   0.000062       D  HA1:144  2009-10-01    A/NewYork/193/2003  HA1:144D\n",
       "2   0.000062       D  HA1:144  2009-10-01  A/Queensland/12/2001  HA1:144D\n",
       "3   0.000062       D  HA1:144  2009-10-01  A/Queensland/17/2001  HA1:144D\n",
       "4   0.000062       D  HA1:144  2009-10-01    A/NewYork/401/2001  HA1:144D"
      ]
     },
     "execution_count": 175,
     "metadata": {},
     "output_type": "execute_result"
    }
   ],
   "source": [
    "mut_freqs_per_sample.head()"
   ]
  },
  {
   "cell_type": "code",
   "execution_count": 178,
   "metadata": {},
   "outputs": [
    {
     "data": {
      "text/plain": [
       "(8100, 6)"
      ]
     },
     "execution_count": 178,
     "metadata": {},
     "output_type": "execute_result"
    }
   ],
   "source": [
    "mut_freqs_per_sample.shape"
   ]
  },
  {
   "cell_type": "code",
   "execution_count": 179,
   "metadata": {},
   "outputs": [],
   "source": [
    "mut_freqs_with_sample_freqs = mut_freqs_per_sample.merge(\n",
    "    samples_df,\n",
    "    how=\"inner\",\n",
    "    left_on=[\"timepoint\", \"sample\"],\n",
    "    right_on=[\"timepoint\", \"strain\"],\n",
    "    suffixes=[\"\", \"_strain\"]\n",
    ")"
   ]
  },
  {
   "cell_type": "code",
   "execution_count": 184,
   "metadata": {},
   "outputs": [
    {
     "data": {
      "text/plain": [
       "(8100, 9)"
      ]
     },
     "execution_count": 184,
     "metadata": {},
     "output_type": "execute_result"
    }
   ],
   "source": [
    "mut_freqs_with_sample_freqs.shape"
   ]
  },
  {
   "cell_type": "code",
   "execution_count": 180,
   "metadata": {},
   "outputs": [
    {
     "data": {
      "text/html": [
       "<div>\n",
       "<style scoped>\n",
       "    .dataframe tbody tr th:only-of-type {\n",
       "        vertical-align: middle;\n",
       "    }\n",
       "\n",
       "    .dataframe tbody tr th {\n",
       "        vertical-align: top;\n",
       "    }\n",
       "\n",
       "    .dataframe thead th {\n",
       "        text-align: right;\n",
       "    }\n",
       "</style>\n",
       "<table border=\"1\" class=\"dataframe\">\n",
       "  <thead>\n",
       "    <tr style=\"text-align: right;\">\n",
       "      <th></th>\n",
       "      <th>frequency</th>\n",
       "      <th>residue</th>\n",
       "      <th>site</th>\n",
       "      <th>timepoint</th>\n",
       "      <th>sample</th>\n",
       "      <th>mutation</th>\n",
       "      <th>strain</th>\n",
       "      <th>frequency_strain</th>\n",
       "    </tr>\n",
       "  </thead>\n",
       "  <tbody>\n",
       "    <tr>\n",
       "      <th>0</th>\n",
       "      <td>0.000062</td>\n",
       "      <td>D</td>\n",
       "      <td>HA1:144</td>\n",
       "      <td>2009-10-01</td>\n",
       "      <td>A/NewYork/197/2003</td>\n",
       "      <td>HA1:144D</td>\n",
       "      <td>A/NewYork/197/2003</td>\n",
       "      <td>0.0</td>\n",
       "    </tr>\n",
       "    <tr>\n",
       "      <th>1</th>\n",
       "      <td>0.913649</td>\n",
       "      <td>P</td>\n",
       "      <td>HA1:162</td>\n",
       "      <td>2009-10-01</td>\n",
       "      <td>A/NewYork/197/2003</td>\n",
       "      <td>HA1:162P</td>\n",
       "      <td>A/NewYork/197/2003</td>\n",
       "      <td>0.0</td>\n",
       "    </tr>\n",
       "    <tr>\n",
       "      <th>2</th>\n",
       "      <td>0.653044</td>\n",
       "      <td>T</td>\n",
       "      <td>HA1:212</td>\n",
       "      <td>2009-10-01</td>\n",
       "      <td>A/NewYork/197/2003</td>\n",
       "      <td>HA1:212T</td>\n",
       "      <td>A/NewYork/197/2003</td>\n",
       "      <td>0.0</td>\n",
       "    </tr>\n",
       "    <tr>\n",
       "      <th>3</th>\n",
       "      <td>0.656256</td>\n",
       "      <td>V</td>\n",
       "      <td>HA1:213</td>\n",
       "      <td>2009-10-01</td>\n",
       "      <td>A/NewYork/197/2003</td>\n",
       "      <td>HA1:213V</td>\n",
       "      <td>A/NewYork/197/2003</td>\n",
       "      <td>0.0</td>\n",
       "    </tr>\n",
       "    <tr>\n",
       "      <th>4</th>\n",
       "      <td>0.871628</td>\n",
       "      <td>R</td>\n",
       "      <td>HA1:261</td>\n",
       "      <td>2009-10-01</td>\n",
       "      <td>A/NewYork/197/2003</td>\n",
       "      <td>HA1:261R</td>\n",
       "      <td>A/NewYork/197/2003</td>\n",
       "      <td>0.0</td>\n",
       "    </tr>\n",
       "  </tbody>\n",
       "</table>\n",
       "</div>"
      ],
      "text/plain": [
       "   frequency residue     site   timepoint              sample  mutation  \\\n",
       "0   0.000062       D  HA1:144  2009-10-01  A/NewYork/197/2003  HA1:144D   \n",
       "1   0.913649       P  HA1:162  2009-10-01  A/NewYork/197/2003  HA1:162P   \n",
       "2   0.653044       T  HA1:212  2009-10-01  A/NewYork/197/2003  HA1:212T   \n",
       "3   0.656256       V  HA1:213  2009-10-01  A/NewYork/197/2003  HA1:213V   \n",
       "4   0.871628       R  HA1:261  2009-10-01  A/NewYork/197/2003  HA1:261R   \n",
       "\n",
       "               strain  frequency_strain  \n",
       "0  A/NewYork/197/2003               0.0  \n",
       "1  A/NewYork/197/2003               0.0  \n",
       "2  A/NewYork/197/2003               0.0  \n",
       "3  A/NewYork/197/2003               0.0  \n",
       "4  A/NewYork/197/2003               0.0  "
      ]
     },
     "execution_count": 180,
     "metadata": {},
     "output_type": "execute_result"
    }
   ],
   "source": [
    "mut_freqs_with_sample_freqs.head()"
   ]
  },
  {
   "cell_type": "code",
   "execution_count": 181,
   "metadata": {},
   "outputs": [],
   "source": [
    "mut_freqs_with_sample_freqs[\"scaled_frequency\"] = mut_freqs_with_sample_freqs[\"frequency\"] * mut_freqs_with_sample_freqs[\"frequency_strain\"]"
   ]
  },
  {
   "cell_type": "code",
   "execution_count": 183,
   "metadata": {},
   "outputs": [
    {
     "data": {
      "text/plain": [
       "timepoint   site   \n",
       "2009-10-01  HA1:144     482.597964\n",
       "            HA1:162    1223.212904\n",
       "            HA1:212     867.752304\n",
       "            HA1:213     872.820096\n",
       "            HA1:261    1140.635850\n",
       "            HA1:62      532.492156\n",
       "Name: frequency, dtype: float64"
      ]
     },
     "execution_count": 183,
     "metadata": {},
     "output_type": "execute_result"
    }
   ],
   "source": [
    "mut_freqs_with_sample_freqs.groupby([\"timepoint\", \"site\"])[\"frequency\"].sum()"
   ]
  },
  {
   "cell_type": "code",
   "execution_count": 185,
   "metadata": {},
   "outputs": [
    {
     "data": {
      "text/plain": [
       "timepoint   site   \n",
       "2009-10-01  HA1:144    1.000008\n",
       "            HA1:162    1.000008\n",
       "            HA1:212    1.000008\n",
       "            HA1:213    1.000008\n",
       "            HA1:261    1.000008\n",
       "            HA1:62     1.000008\n",
       "Name: frequency_strain, dtype: float64"
      ]
     },
     "execution_count": 185,
     "metadata": {},
     "output_type": "execute_result"
    }
   ],
   "source": [
    "mut_freqs_with_sample_freqs.groupby([\"timepoint\", \"site\"])[\"frequency_strain\"].sum()"
   ]
  },
  {
   "cell_type": "code",
   "execution_count": 182,
   "metadata": {},
   "outputs": [
    {
     "data": {
      "text/plain": [
       "timepoint   site   \n",
       "2009-10-01  HA1:144    0.508994\n",
       "            HA1:162    0.844299\n",
       "            HA1:212    0.577045\n",
       "            HA1:213    0.580045\n",
       "            HA1:261    0.769685\n",
       "            HA1:62     0.507551\n",
       "Name: scaled_frequency, dtype: float64"
      ]
     },
     "execution_count": 182,
     "metadata": {},
     "output_type": "execute_result"
    }
   ],
   "source": [
    "mut_freqs_with_sample_freqs.groupby([\"timepoint\", \"site\"])[\"scaled_frequency\"].sum()"
   ]
  },
  {
   "cell_type": "code",
   "execution_count": 188,
   "metadata": {},
   "outputs": [
    {
     "data": {
      "text/plain": [
       "site\n",
       "HA1:144    0.999999\n",
       "HA1:162    1.000000\n",
       "HA1:212    1.000000\n",
       "HA1:213    1.000000\n",
       "HA1:261    1.000000\n",
       "HA1:62     1.000000\n",
       "Name: frequency, dtype: float64"
      ]
     },
     "execution_count": 188,
     "metadata": {},
     "output_type": "execute_result"
    }
   ],
   "source": [
    "mut_freqs_with_sample_freqs.loc[:, [\"site\", \"residue\", \"frequency\"]].drop_duplicates().groupby(\"site\")[\"frequency\"].sum()"
   ]
  },
  {
   "cell_type": "code",
   "execution_count": null,
   "metadata": {},
   "outputs": [],
   "source": []
  }
 ],
 "metadata": {
  "kernelspec": {
   "display_name": "Python 3",
   "language": "python",
   "name": "python3"
  },
  "language_info": {
   "codemirror_mode": {
    "name": "ipython",
    "version": 3
   },
   "file_extension": ".py",
   "mimetype": "text/x-python",
   "name": "python",
   "nbconvert_exporter": "python",
   "pygments_lexer": "ipython3",
   "version": "3.6.7"
  }
 },
 "nbformat": 4,
 "nbformat_minor": 2
}
