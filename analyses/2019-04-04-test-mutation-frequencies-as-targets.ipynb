{
 "cells": [
  {
   "cell_type": "markdown",
   "metadata": {},
   "source": [
    "# Test mutation frequencies as targets\n",
    "\n",
    "Test out mutation frequencies as an alternate target for the fitness model. First, load mutation frequencies calculated from a multiple sequence alignment (MSA) and the MSA itself. Prepare a table of mutations and their frequencies by strain.\n",
    "\n",
    "Afterwards, load a table of strain (tip) attributes and use the tip timepoints, names, and frequencies to reweight the original mutation frequencies."
   ]
  },
  {
   "cell_type": "code",
   "execution_count": 1,
   "metadata": {},
   "outputs": [],
   "source": [
    "from augur.frequency_estimators import AlignmentKdeFrequencies\n",
    "from Bio.Align import MultipleSeqAlignment\n",
    "import Bio.AlignIO\n",
    "from collections import defaultdict\n",
    "import json\n",
    "import matplotlib.pyplot as plt\n",
    "import numpy as np\n",
    "import pandas as pd\n",
    "import seaborn as sns\n",
    "from treetime.utils import numeric_date\n",
    "\n",
    "%matplotlib inline"
   ]
  },
  {
   "cell_type": "code",
   "execution_count": 2,
   "metadata": {},
   "outputs": [],
   "source": [
    "start_timepoint = \"2000-10-01\"\n",
    "timepoint = \"2009-10-01\""
   ]
  },
  {
   "cell_type": "code",
   "execution_count": 3,
   "metadata": {},
   "outputs": [],
   "source": [
    "genes = [\"SigPep\", \"HA1\", \"HA2\"]"
   ]
  },
  {
   "cell_type": "code",
   "execution_count": 4,
   "metadata": {},
   "outputs": [],
   "source": [
    "data_root = \"../results/builds/h3n2/20_viruses_per_month/sample_0/2000-10-01--2015-10-01/timepoints/%s/segments/ha/\" % timepoint"
   ]
  },
  {
   "cell_type": "code",
   "execution_count": 5,
   "metadata": {},
   "outputs": [],
   "source": [
    "with open(data_root + \"mutation_frequencies.json\", \"r\") as fh:\n",
    "    mutation_frequencies = json.load(fh)"
   ]
  },
  {
   "cell_type": "code",
   "execution_count": 6,
   "metadata": {},
   "outputs": [
    {
     "data": {
      "text/plain": [
       "[0.0,\n",
       " 0.0,\n",
       " 0.0,\n",
       " 0.0,\n",
       " 0.0,\n",
       " 0.0,\n",
       " 0.0,\n",
       " 0.0,\n",
       " 0.0,\n",
       " 0.0,\n",
       " 0.00126,\n",
       " 0.052814,\n",
       " 0.000529,\n",
       " 0.0,\n",
       " 0.0,\n",
       " 0.0,\n",
       " 5e-06,\n",
       " 0.104909,\n",
       " 0.537553]"
      ]
     },
     "execution_count": 6,
     "metadata": {},
     "output_type": "execute_result"
    }
   ],
   "source": [
    "mutation_frequencies[\"HA1:144K\"]"
   ]
  },
  {
   "cell_type": "code",
   "execution_count": 7,
   "metadata": {},
   "outputs": [
    {
     "data": {
      "text/plain": [
       "[0.670924,\n",
       " 0.906275,\n",
       " 0.706707,\n",
       " 0.209355,\n",
       " 0.216355,\n",
       " 0.80787,\n",
       " 0.925907,\n",
       " 0.987684,\n",
       " 0.984814,\n",
       " 0.999976,\n",
       " 0.99874,\n",
       " 0.931158,\n",
       " 0.925528,\n",
       " 0.88477,\n",
       " 0.949311,\n",
       " 0.981837,\n",
       " 0.983231,\n",
       " 0.886609,\n",
       " 0.462447]"
      ]
     },
     "execution_count": 7,
     "metadata": {},
     "output_type": "execute_result"
    }
   ],
   "source": [
    "mutation_frequencies[\"HA1:144N\"]"
   ]
  },
  {
   "cell_type": "code",
   "execution_count": 8,
   "metadata": {},
   "outputs": [],
   "source": [
    "mut_df = pd.DataFrame([\n",
    "    {\"site\": mutation[:-1], \"residue\": mutation[-1], \"frequency\": frequencies[-1], \"timepoint\": timepoint}\n",
    "    for mutation, frequencies in mutation_frequencies.items()\n",
    "    if mutation != \"pivots\" and not mutation.endswith(\"counts\")\n",
    "])"
   ]
  },
  {
   "cell_type": "code",
   "execution_count": 9,
   "metadata": {},
   "outputs": [
    {
     "data": {
      "text/html": [
       "<div>\n",
       "<style scoped>\n",
       "    .dataframe tbody tr th:only-of-type {\n",
       "        vertical-align: middle;\n",
       "    }\n",
       "\n",
       "    .dataframe tbody tr th {\n",
       "        vertical-align: top;\n",
       "    }\n",
       "\n",
       "    .dataframe thead th {\n",
       "        text-align: right;\n",
       "    }\n",
       "</style>\n",
       "<table border=\"1\" class=\"dataframe\">\n",
       "  <thead>\n",
       "    <tr style=\"text-align: right;\">\n",
       "      <th></th>\n",
       "      <th>frequency</th>\n",
       "      <th>residue</th>\n",
       "      <th>site</th>\n",
       "      <th>timepoint</th>\n",
       "    </tr>\n",
       "  </thead>\n",
       "  <tbody>\n",
       "    <tr>\n",
       "      <th>0</th>\n",
       "      <td>1.000000</td>\n",
       "      <td>P</td>\n",
       "      <td>HA1:103</td>\n",
       "      <td>2009-10-01</td>\n",
       "    </tr>\n",
       "    <tr>\n",
       "      <th>1</th>\n",
       "      <td>0.000000</td>\n",
       "      <td>Q</td>\n",
       "      <td>HA1:103</td>\n",
       "      <td>2009-10-01</td>\n",
       "    </tr>\n",
       "    <tr>\n",
       "      <th>2</th>\n",
       "      <td>0.000000</td>\n",
       "      <td>S</td>\n",
       "      <td>HA1:103</td>\n",
       "      <td>2009-10-01</td>\n",
       "    </tr>\n",
       "    <tr>\n",
       "      <th>3</th>\n",
       "      <td>1.000000</td>\n",
       "      <td>D</td>\n",
       "      <td>HA1:104</td>\n",
       "      <td>2009-10-01</td>\n",
       "    </tr>\n",
       "    <tr>\n",
       "      <th>4</th>\n",
       "      <td>0.000000</td>\n",
       "      <td>E</td>\n",
       "      <td>HA1:104</td>\n",
       "      <td>2009-10-01</td>\n",
       "    </tr>\n",
       "    <tr>\n",
       "      <th>5</th>\n",
       "      <td>0.006576</td>\n",
       "      <td>H</td>\n",
       "      <td>HA1:105</td>\n",
       "      <td>2009-10-01</td>\n",
       "    </tr>\n",
       "    <tr>\n",
       "      <th>6</th>\n",
       "      <td>0.993424</td>\n",
       "      <td>Y</td>\n",
       "      <td>HA1:105</td>\n",
       "      <td>2009-10-01</td>\n",
       "    </tr>\n",
       "    <tr>\n",
       "      <th>7</th>\n",
       "      <td>1.000000</td>\n",
       "      <td>A</td>\n",
       "      <td>HA1:106</td>\n",
       "      <td>2009-10-01</td>\n",
       "    </tr>\n",
       "    <tr>\n",
       "      <th>8</th>\n",
       "      <td>0.000000</td>\n",
       "      <td>S</td>\n",
       "      <td>HA1:106</td>\n",
       "      <td>2009-10-01</td>\n",
       "    </tr>\n",
       "    <tr>\n",
       "      <th>9</th>\n",
       "      <td>0.000000</td>\n",
       "      <td>T</td>\n",
       "      <td>HA1:106</td>\n",
       "      <td>2009-10-01</td>\n",
       "    </tr>\n",
       "  </tbody>\n",
       "</table>\n",
       "</div>"
      ],
      "text/plain": [
       "   frequency residue     site   timepoint\n",
       "0   1.000000       P  HA1:103  2009-10-01\n",
       "1   0.000000       Q  HA1:103  2009-10-01\n",
       "2   0.000000       S  HA1:103  2009-10-01\n",
       "3   1.000000       D  HA1:104  2009-10-01\n",
       "4   0.000000       E  HA1:104  2009-10-01\n",
       "5   0.006576       H  HA1:105  2009-10-01\n",
       "6   0.993424       Y  HA1:105  2009-10-01\n",
       "7   1.000000       A  HA1:106  2009-10-01\n",
       "8   0.000000       S  HA1:106  2009-10-01\n",
       "9   0.000000       T  HA1:106  2009-10-01"
      ]
     },
     "execution_count": 9,
     "metadata": {},
     "output_type": "execute_result"
    }
   ],
   "source": [
    "mut_df.head(10)"
   ]
  },
  {
   "cell_type": "code",
   "execution_count": 10,
   "metadata": {},
   "outputs": [
    {
     "data": {
      "text/plain": [
       "0"
      ]
     },
     "execution_count": 10,
     "metadata": {},
     "output_type": "execute_result"
    }
   ],
   "source": [
    "(mut_df[\"residue\"] == \"r\").sum()"
   ]
  },
  {
   "cell_type": "code",
   "execution_count": 11,
   "metadata": {},
   "outputs": [
    {
     "data": {
      "text/plain": [
       "I    82\n",
       "S    76\n",
       "K    69\n",
       "N    68\n",
       "V    67\n",
       "R    59\n",
       "T    57\n",
       "L    50\n",
       "D    43\n",
       "G    40\n",
       "A    39\n",
       "E    34\n",
       "F    29\n",
       "Q    27\n",
       "M    25\n",
       "H    23\n",
       "Y    23\n",
       "P    22\n",
       "C    10\n",
       "W     5\n",
       "*     1\n",
       "Name: residue, dtype: int64"
      ]
     },
     "execution_count": 11,
     "metadata": {},
     "output_type": "execute_result"
    }
   ],
   "source": [
    "mut_df[\"residue\"].value_counts()"
   ]
  },
  {
   "cell_type": "code",
   "execution_count": 12,
   "metadata": {},
   "outputs": [
    {
     "data": {
      "text/plain": [
       "HA2:32       6\n",
       "HA1:188      6\n",
       "HA1:278      6\n",
       "HA1:144      6\n",
       "HA1:140      6\n",
       "HA1:92       6\n",
       "HA1:7        5\n",
       "HA2:147      5\n",
       "SigPep:12    5\n",
       "SigPep:10    5\n",
       "HA1:312      5\n",
       "HA1:5        5\n",
       "SigPep:9     5\n",
       "HA1:121      5\n",
       "SigPep:8     5\n",
       "HA1:3        5\n",
       "HA1:173      5\n",
       "HA1:25       5\n",
       "HA1:304      5\n",
       "HA1:10       5\n",
       "HA1:229      5\n",
       "HA1:50       5\n",
       "HA1:159      4\n",
       "HA1:165      4\n",
       "HA1:193      4\n",
       "HA1:198      4\n",
       "HA1:33       4\n",
       "HA2:121      4\n",
       "HA2:209      4\n",
       "HA1:131      4\n",
       "            ..\n",
       "HA1:105      2\n",
       "HA1:292      2\n",
       "HA1:196      2\n",
       "HA2:149      2\n",
       "HA1:276      2\n",
       "HA1:285      2\n",
       "HA1:183      2\n",
       "HA2:182      2\n",
       "HA1:199      2\n",
       "HA1:247      2\n",
       "HA2:91       2\n",
       "HA1:166      2\n",
       "HA1:216      2\n",
       "HA2:2        2\n",
       "HA1:177      2\n",
       "HA1:323      2\n",
       "HA1:220      2\n",
       "HA1:64       2\n",
       "HA1:270      2\n",
       "HA1:310      2\n",
       "HA1:160      2\n",
       "HA2:198      2\n",
       "HA2:87       2\n",
       "HA1:271      2\n",
       "HA2:46       2\n",
       "HA1:85       2\n",
       "HA1:150      2\n",
       "HA1:239      2\n",
       "HA2:18       2\n",
       "HA2:173      2\n",
       "Name: site, Length: 303, dtype: int64"
      ]
     },
     "execution_count": 12,
     "metadata": {},
     "output_type": "execute_result"
    }
   ],
   "source": [
    "mut_df[\"site\"].value_counts()"
   ]
  },
  {
   "cell_type": "code",
   "execution_count": 13,
   "metadata": {},
   "outputs": [
    {
     "data": {
      "text/html": [
       "<div>\n",
       "<style scoped>\n",
       "    .dataframe tbody tr th:only-of-type {\n",
       "        vertical-align: middle;\n",
       "    }\n",
       "\n",
       "    .dataframe tbody tr th {\n",
       "        vertical-align: top;\n",
       "    }\n",
       "\n",
       "    .dataframe thead th {\n",
       "        text-align: right;\n",
       "    }\n",
       "</style>\n",
       "<table border=\"1\" class=\"dataframe\">\n",
       "  <thead>\n",
       "    <tr style=\"text-align: right;\">\n",
       "      <th></th>\n",
       "      <th>frequency</th>\n",
       "      <th>residue</th>\n",
       "      <th>site</th>\n",
       "      <th>timepoint</th>\n",
       "    </tr>\n",
       "  </thead>\n",
       "  <tbody>\n",
       "    <tr>\n",
       "      <th>0</th>\n",
       "      <td>1.0</td>\n",
       "      <td>P</td>\n",
       "      <td>HA1:103</td>\n",
       "      <td>2009-10-01</td>\n",
       "    </tr>\n",
       "    <tr>\n",
       "      <th>1</th>\n",
       "      <td>0.0</td>\n",
       "      <td>Q</td>\n",
       "      <td>HA1:103</td>\n",
       "      <td>2009-10-01</td>\n",
       "    </tr>\n",
       "    <tr>\n",
       "      <th>2</th>\n",
       "      <td>0.0</td>\n",
       "      <td>S</td>\n",
       "      <td>HA1:103</td>\n",
       "      <td>2009-10-01</td>\n",
       "    </tr>\n",
       "    <tr>\n",
       "      <th>3</th>\n",
       "      <td>1.0</td>\n",
       "      <td>D</td>\n",
       "      <td>HA1:104</td>\n",
       "      <td>2009-10-01</td>\n",
       "    </tr>\n",
       "    <tr>\n",
       "      <th>4</th>\n",
       "      <td>0.0</td>\n",
       "      <td>E</td>\n",
       "      <td>HA1:104</td>\n",
       "      <td>2009-10-01</td>\n",
       "    </tr>\n",
       "  </tbody>\n",
       "</table>\n",
       "</div>"
      ],
      "text/plain": [
       "   frequency residue     site   timepoint\n",
       "0        1.0       P  HA1:103  2009-10-01\n",
       "1        0.0       Q  HA1:103  2009-10-01\n",
       "2        0.0       S  HA1:103  2009-10-01\n",
       "3        1.0       D  HA1:104  2009-10-01\n",
       "4        0.0       E  HA1:104  2009-10-01"
      ]
     },
     "execution_count": 13,
     "metadata": {},
     "output_type": "execute_result"
    }
   ],
   "source": [
    "mut_df.head()"
   ]
  },
  {
   "cell_type": "code",
   "execution_count": 14,
   "metadata": {},
   "outputs": [],
   "source": [
    "max_frequency_by_site = mut_df.groupby(\"site\")[\"frequency\"].max().reset_index()"
   ]
  },
  {
   "cell_type": "code",
   "execution_count": 15,
   "metadata": {},
   "outputs": [
    {
     "data": {
      "text/html": [
       "<div>\n",
       "<style scoped>\n",
       "    .dataframe tbody tr th:only-of-type {\n",
       "        vertical-align: middle;\n",
       "    }\n",
       "\n",
       "    .dataframe tbody tr th {\n",
       "        vertical-align: top;\n",
       "    }\n",
       "\n",
       "    .dataframe thead th {\n",
       "        text-align: right;\n",
       "    }\n",
       "</style>\n",
       "<table border=\"1\" class=\"dataframe\">\n",
       "  <thead>\n",
       "    <tr style=\"text-align: right;\">\n",
       "      <th></th>\n",
       "      <th>site</th>\n",
       "      <th>frequency</th>\n",
       "    </tr>\n",
       "  </thead>\n",
       "  <tbody>\n",
       "    <tr>\n",
       "      <th>230</th>\n",
       "      <td>HA2:181</td>\n",
       "      <td>0.985771</td>\n",
       "    </tr>\n",
       "  </tbody>\n",
       "</table>\n",
       "</div>"
      ],
      "text/plain": [
       "        site  frequency\n",
       "230  HA2:181   0.985771"
      ]
     },
     "execution_count": 15,
     "metadata": {},
     "output_type": "execute_result"
    }
   ],
   "source": [
    "max_frequency_by_site[max_frequency_by_site[\"site\"] == \"HA2:181\"]"
   ]
  },
  {
   "cell_type": "code",
   "execution_count": 16,
   "metadata": {},
   "outputs": [],
   "source": [
    "sites_to_track = max_frequency_by_site.loc[max_frequency_by_site[\"frequency\"] < 0.95, \"site\"].values"
   ]
  },
  {
   "cell_type": "code",
   "execution_count": 17,
   "metadata": {},
   "outputs": [
    {
     "data": {
      "text/plain": [
       "array(['HA1:144', 'HA1:158', 'HA1:162', 'HA1:189', 'HA1:212', 'HA1:213',\n",
       "       'HA1:260', 'HA1:261', 'HA1:62'], dtype=object)"
      ]
     },
     "execution_count": 17,
     "metadata": {},
     "output_type": "execute_result"
    }
   ],
   "source": [
    "sites_to_track"
   ]
  },
  {
   "cell_type": "code",
   "execution_count": 18,
   "metadata": {},
   "outputs": [
    {
     "data": {
      "text/plain": [
       "(9,)"
      ]
     },
     "execution_count": 18,
     "metadata": {},
     "output_type": "execute_result"
    }
   ],
   "source": [
    "sites_to_track.shape"
   ]
  },
  {
   "cell_type": "code",
   "execution_count": 19,
   "metadata": {},
   "outputs": [],
   "source": [
    "muts_to_track_df = mut_df[mut_df[\"site\"].isin(sites_to_track)].copy()"
   ]
  },
  {
   "cell_type": "code",
   "execution_count": 20,
   "metadata": {},
   "outputs": [
    {
     "data": {
      "text/html": [
       "<div>\n",
       "<style scoped>\n",
       "    .dataframe tbody tr th:only-of-type {\n",
       "        vertical-align: middle;\n",
       "    }\n",
       "\n",
       "    .dataframe tbody tr th {\n",
       "        vertical-align: top;\n",
       "    }\n",
       "\n",
       "    .dataframe thead th {\n",
       "        text-align: right;\n",
       "    }\n",
       "</style>\n",
       "<table border=\"1\" class=\"dataframe\">\n",
       "  <thead>\n",
       "    <tr style=\"text-align: right;\">\n",
       "      <th></th>\n",
       "      <th>frequency</th>\n",
       "      <th>residue</th>\n",
       "      <th>site</th>\n",
       "      <th>timepoint</th>\n",
       "    </tr>\n",
       "  </thead>\n",
       "  <tbody>\n",
       "    <tr>\n",
       "      <th>71</th>\n",
       "      <td>0.000000</td>\n",
       "      <td>D</td>\n",
       "      <td>HA1:144</td>\n",
       "      <td>2009-10-01</td>\n",
       "    </tr>\n",
       "    <tr>\n",
       "      <th>72</th>\n",
       "      <td>0.000000</td>\n",
       "      <td>G</td>\n",
       "      <td>HA1:144</td>\n",
       "      <td>2009-10-01</td>\n",
       "    </tr>\n",
       "    <tr>\n",
       "      <th>73</th>\n",
       "      <td>0.000000</td>\n",
       "      <td>I</td>\n",
       "      <td>HA1:144</td>\n",
       "      <td>2009-10-01</td>\n",
       "    </tr>\n",
       "    <tr>\n",
       "      <th>74</th>\n",
       "      <td>0.537553</td>\n",
       "      <td>K</td>\n",
       "      <td>HA1:144</td>\n",
       "      <td>2009-10-01</td>\n",
       "    </tr>\n",
       "    <tr>\n",
       "      <th>75</th>\n",
       "      <td>0.462447</td>\n",
       "      <td>N</td>\n",
       "      <td>HA1:144</td>\n",
       "      <td>2009-10-01</td>\n",
       "    </tr>\n",
       "    <tr>\n",
       "      <th>76</th>\n",
       "      <td>0.000000</td>\n",
       "      <td>S</td>\n",
       "      <td>HA1:144</td>\n",
       "      <td>2009-10-01</td>\n",
       "    </tr>\n",
       "    <tr>\n",
       "      <th>95</th>\n",
       "      <td>0.176507</td>\n",
       "      <td>K</td>\n",
       "      <td>HA1:158</td>\n",
       "      <td>2009-10-01</td>\n",
       "    </tr>\n",
       "    <tr>\n",
       "      <th>96</th>\n",
       "      <td>0.787381</td>\n",
       "      <td>N</td>\n",
       "      <td>HA1:158</td>\n",
       "      <td>2009-10-01</td>\n",
       "    </tr>\n",
       "    <tr>\n",
       "      <th>97</th>\n",
       "      <td>0.036112</td>\n",
       "      <td>R</td>\n",
       "      <td>HA1:158</td>\n",
       "      <td>2009-10-01</td>\n",
       "    </tr>\n",
       "    <tr>\n",
       "      <th>108</th>\n",
       "      <td>0.918551</td>\n",
       "      <td>P</td>\n",
       "      <td>HA1:162</td>\n",
       "      <td>2009-10-01</td>\n",
       "    </tr>\n",
       "    <tr>\n",
       "      <th>109</th>\n",
       "      <td>0.067244</td>\n",
       "      <td>Q</td>\n",
       "      <td>HA1:162</td>\n",
       "      <td>2009-10-01</td>\n",
       "    </tr>\n",
       "    <tr>\n",
       "      <th>110</th>\n",
       "      <td>0.014204</td>\n",
       "      <td>S</td>\n",
       "      <td>HA1:162</td>\n",
       "      <td>2009-10-01</td>\n",
       "    </tr>\n",
       "    <tr>\n",
       "      <th>160</th>\n",
       "      <td>0.001206</td>\n",
       "      <td>E</td>\n",
       "      <td>HA1:189</td>\n",
       "      <td>2009-10-01</td>\n",
       "    </tr>\n",
       "    <tr>\n",
       "      <th>161</th>\n",
       "      <td>0.784626</td>\n",
       "      <td>K</td>\n",
       "      <td>HA1:189</td>\n",
       "      <td>2009-10-01</td>\n",
       "    </tr>\n",
       "    <tr>\n",
       "      <th>162</th>\n",
       "      <td>0.214169</td>\n",
       "      <td>N</td>\n",
       "      <td>HA1:189</td>\n",
       "      <td>2009-10-01</td>\n",
       "    </tr>\n",
       "    <tr>\n",
       "      <th>163</th>\n",
       "      <td>0.000000</td>\n",
       "      <td>S</td>\n",
       "      <td>HA1:189</td>\n",
       "      <td>2009-10-01</td>\n",
       "    </tr>\n",
       "    <tr>\n",
       "      <th>224</th>\n",
       "      <td>0.248279</td>\n",
       "      <td>A</td>\n",
       "      <td>HA1:212</td>\n",
       "      <td>2009-10-01</td>\n",
       "    </tr>\n",
       "    <tr>\n",
       "      <th>225</th>\n",
       "      <td>0.000000</td>\n",
       "      <td>I</td>\n",
       "      <td>HA1:212</td>\n",
       "      <td>2009-10-01</td>\n",
       "    </tr>\n",
       "    <tr>\n",
       "      <th>226</th>\n",
       "      <td>0.000000</td>\n",
       "      <td>N</td>\n",
       "      <td>HA1:212</td>\n",
       "      <td>2009-10-01</td>\n",
       "    </tr>\n",
       "    <tr>\n",
       "      <th>227</th>\n",
       "      <td>0.751721</td>\n",
       "      <td>T</td>\n",
       "      <td>HA1:212</td>\n",
       "      <td>2009-10-01</td>\n",
       "    </tr>\n",
       "    <tr>\n",
       "      <th>228</th>\n",
       "      <td>0.243883</td>\n",
       "      <td>A</td>\n",
       "      <td>HA1:213</td>\n",
       "      <td>2009-10-01</td>\n",
       "    </tr>\n",
       "    <tr>\n",
       "      <th>229</th>\n",
       "      <td>0.756117</td>\n",
       "      <td>V</td>\n",
       "      <td>HA1:213</td>\n",
       "      <td>2009-10-01</td>\n",
       "    </tr>\n",
       "    <tr>\n",
       "      <th>301</th>\n",
       "      <td>0.946265</td>\n",
       "      <td>I</td>\n",
       "      <td>HA1:260</td>\n",
       "      <td>2009-10-01</td>\n",
       "    </tr>\n",
       "    <tr>\n",
       "      <th>302</th>\n",
       "      <td>0.053735</td>\n",
       "      <td>M</td>\n",
       "      <td>HA1:260</td>\n",
       "      <td>2009-10-01</td>\n",
       "    </tr>\n",
       "    <tr>\n",
       "      <th>303</th>\n",
       "      <td>0.000004</td>\n",
       "      <td>L</td>\n",
       "      <td>HA1:261</td>\n",
       "      <td>2009-10-01</td>\n",
       "    </tr>\n",
       "    <tr>\n",
       "      <th>304</th>\n",
       "      <td>0.137160</td>\n",
       "      <td>Q</td>\n",
       "      <td>HA1:261</td>\n",
       "      <td>2009-10-01</td>\n",
       "    </tr>\n",
       "    <tr>\n",
       "      <th>305</th>\n",
       "      <td>0.862836</td>\n",
       "      <td>R</td>\n",
       "      <td>HA1:261</td>\n",
       "      <td>2009-10-01</td>\n",
       "    </tr>\n",
       "    <tr>\n",
       "      <th>473</th>\n",
       "      <td>0.456678</td>\n",
       "      <td>E</td>\n",
       "      <td>HA1:62</td>\n",
       "      <td>2009-10-01</td>\n",
       "    </tr>\n",
       "    <tr>\n",
       "      <th>474</th>\n",
       "      <td>0.004886</td>\n",
       "      <td>G</td>\n",
       "      <td>HA1:62</td>\n",
       "      <td>2009-10-01</td>\n",
       "    </tr>\n",
       "    <tr>\n",
       "      <th>475</th>\n",
       "      <td>0.538436</td>\n",
       "      <td>K</td>\n",
       "      <td>HA1:62</td>\n",
       "      <td>2009-10-01</td>\n",
       "    </tr>\n",
       "  </tbody>\n",
       "</table>\n",
       "</div>"
      ],
      "text/plain": [
       "     frequency residue     site   timepoint\n",
       "71    0.000000       D  HA1:144  2009-10-01\n",
       "72    0.000000       G  HA1:144  2009-10-01\n",
       "73    0.000000       I  HA1:144  2009-10-01\n",
       "74    0.537553       K  HA1:144  2009-10-01\n",
       "75    0.462447       N  HA1:144  2009-10-01\n",
       "76    0.000000       S  HA1:144  2009-10-01\n",
       "95    0.176507       K  HA1:158  2009-10-01\n",
       "96    0.787381       N  HA1:158  2009-10-01\n",
       "97    0.036112       R  HA1:158  2009-10-01\n",
       "108   0.918551       P  HA1:162  2009-10-01\n",
       "109   0.067244       Q  HA1:162  2009-10-01\n",
       "110   0.014204       S  HA1:162  2009-10-01\n",
       "160   0.001206       E  HA1:189  2009-10-01\n",
       "161   0.784626       K  HA1:189  2009-10-01\n",
       "162   0.214169       N  HA1:189  2009-10-01\n",
       "163   0.000000       S  HA1:189  2009-10-01\n",
       "224   0.248279       A  HA1:212  2009-10-01\n",
       "225   0.000000       I  HA1:212  2009-10-01\n",
       "226   0.000000       N  HA1:212  2009-10-01\n",
       "227   0.751721       T  HA1:212  2009-10-01\n",
       "228   0.243883       A  HA1:213  2009-10-01\n",
       "229   0.756117       V  HA1:213  2009-10-01\n",
       "301   0.946265       I  HA1:260  2009-10-01\n",
       "302   0.053735       M  HA1:260  2009-10-01\n",
       "303   0.000004       L  HA1:261  2009-10-01\n",
       "304   0.137160       Q  HA1:261  2009-10-01\n",
       "305   0.862836       R  HA1:261  2009-10-01\n",
       "473   0.456678       E   HA1:62  2009-10-01\n",
       "474   0.004886       G   HA1:62  2009-10-01\n",
       "475   0.538436       K   HA1:62  2009-10-01"
      ]
     },
     "execution_count": 20,
     "metadata": {},
     "output_type": "execute_result"
    }
   ],
   "source": [
    "muts_to_track_df"
   ]
  },
  {
   "cell_type": "code",
   "execution_count": 21,
   "metadata": {},
   "outputs": [
    {
     "data": {
      "text/plain": [
       "array(['HA1:144', 'HA1:158', 'HA1:162', 'HA1:189', 'HA1:212', 'HA1:213',\n",
       "       'HA1:260', 'HA1:261', 'HA1:62'], dtype=object)"
      ]
     },
     "execution_count": 21,
     "metadata": {},
     "output_type": "execute_result"
    }
   ],
   "source": [
    "sites_to_track"
   ]
  },
  {
   "cell_type": "code",
   "execution_count": 22,
   "metadata": {},
   "outputs": [],
   "source": [
    "genes_to_tracks = sorted(set([site.split(\":\")[0] for site in sites_to_track]))"
   ]
  },
  {
   "cell_type": "code",
   "execution_count": 23,
   "metadata": {},
   "outputs": [
    {
     "data": {
      "text/plain": [
       "['HA1']"
      ]
     },
     "execution_count": 23,
     "metadata": {},
     "output_type": "execute_result"
    }
   ],
   "source": [
    "genes_to_tracks"
   ]
  },
  {
   "cell_type": "code",
   "execution_count": 24,
   "metadata": {},
   "outputs": [],
   "source": [
    "positions_per_gene = defaultdict(list)\n",
    "\n",
    "for site in sites_to_track:\n",
    "    gene, position = site.split(\":\")\n",
    "    positions_per_gene[gene].append(int(position))"
   ]
  },
  {
   "cell_type": "code",
   "execution_count": 25,
   "metadata": {},
   "outputs": [
    {
     "data": {
      "text/plain": [
       "defaultdict(list, {'HA1': [144, 158, 162, 189, 212, 213, 260, 261, 62]})"
      ]
     },
     "execution_count": 25,
     "metadata": {},
     "output_type": "execute_result"
    }
   ],
   "source": [
    "positions_per_gene"
   ]
  },
  {
   "cell_type": "code",
   "execution_count": 26,
   "metadata": {},
   "outputs": [],
   "source": [
    "samples_and_sites = []\n",
    "\n",
    "for gene in genes_to_tracks:\n",
    "    with open(data_root + \"aa-seq_%s.fasta\" % gene, \"r\") as fh:\n",
    "        alignment = Bio.AlignIO.read(fh, \"fasta\")\n",
    "        \n",
    "        for record in alignment:\n",
    "            # Skip internal nodes.\n",
    "            if record.id.startswith(\"NODE\"):\n",
    "                continue\n",
    "                \n",
    "            # Store this record's sequence for each site to track.\n",
    "            for position in positions_per_gene[gene]:\n",
    "                samples_and_sites.append({\n",
    "                    \"site\": \"%s:%s\" % (gene, position),\n",
    "                    \"residue\": record.seq[position - 1],\n",
    "                    \"sample\": record.id\n",
    "                })\n",
    "\n",
    "samples_and_sites_df = pd.DataFrame(samples_and_sites)"
   ]
  },
  {
   "cell_type": "code",
   "execution_count": 27,
   "metadata": {},
   "outputs": [
    {
     "data": {
      "text/plain": [
       "(12150, 3)"
      ]
     },
     "execution_count": 27,
     "metadata": {},
     "output_type": "execute_result"
    }
   ],
   "source": [
    "samples_and_sites_df.shape"
   ]
  },
  {
   "cell_type": "code",
   "execution_count": 28,
   "metadata": {},
   "outputs": [
    {
     "data": {
      "text/html": [
       "<div>\n",
       "<style scoped>\n",
       "    .dataframe tbody tr th:only-of-type {\n",
       "        vertical-align: middle;\n",
       "    }\n",
       "\n",
       "    .dataframe tbody tr th {\n",
       "        vertical-align: top;\n",
       "    }\n",
       "\n",
       "    .dataframe thead th {\n",
       "        text-align: right;\n",
       "    }\n",
       "</style>\n",
       "<table border=\"1\" class=\"dataframe\">\n",
       "  <thead>\n",
       "    <tr style=\"text-align: right;\">\n",
       "      <th></th>\n",
       "      <th>residue</th>\n",
       "      <th>sample</th>\n",
       "      <th>site</th>\n",
       "    </tr>\n",
       "  </thead>\n",
       "  <tbody>\n",
       "    <tr>\n",
       "      <th>0</th>\n",
       "      <td>N</td>\n",
       "      <td>A/Canterbury/96/2000</td>\n",
       "      <td>HA1:144</td>\n",
       "    </tr>\n",
       "    <tr>\n",
       "      <th>1</th>\n",
       "      <td>K</td>\n",
       "      <td>A/Canterbury/96/2000</td>\n",
       "      <td>HA1:158</td>\n",
       "    </tr>\n",
       "    <tr>\n",
       "      <th>2</th>\n",
       "      <td>P</td>\n",
       "      <td>A/Canterbury/96/2000</td>\n",
       "      <td>HA1:162</td>\n",
       "    </tr>\n",
       "    <tr>\n",
       "      <th>3</th>\n",
       "      <td>S</td>\n",
       "      <td>A/Canterbury/96/2000</td>\n",
       "      <td>HA1:189</td>\n",
       "    </tr>\n",
       "    <tr>\n",
       "      <th>4</th>\n",
       "      <td>T</td>\n",
       "      <td>A/Canterbury/96/2000</td>\n",
       "      <td>HA1:212</td>\n",
       "    </tr>\n",
       "    <tr>\n",
       "      <th>5</th>\n",
       "      <td>V</td>\n",
       "      <td>A/Canterbury/96/2000</td>\n",
       "      <td>HA1:213</td>\n",
       "    </tr>\n",
       "    <tr>\n",
       "      <th>6</th>\n",
       "      <td>I</td>\n",
       "      <td>A/Canterbury/96/2000</td>\n",
       "      <td>HA1:260</td>\n",
       "    </tr>\n",
       "    <tr>\n",
       "      <th>7</th>\n",
       "      <td>R</td>\n",
       "      <td>A/Canterbury/96/2000</td>\n",
       "      <td>HA1:261</td>\n",
       "    </tr>\n",
       "    <tr>\n",
       "      <th>8</th>\n",
       "      <td>E</td>\n",
       "      <td>A/Canterbury/96/2000</td>\n",
       "      <td>HA1:62</td>\n",
       "    </tr>\n",
       "    <tr>\n",
       "      <th>9</th>\n",
       "      <td>N</td>\n",
       "      <td>A/Canterbury/99/2000</td>\n",
       "      <td>HA1:144</td>\n",
       "    </tr>\n",
       "  </tbody>\n",
       "</table>\n",
       "</div>"
      ],
      "text/plain": [
       "  residue                sample     site\n",
       "0       N  A/Canterbury/96/2000  HA1:144\n",
       "1       K  A/Canterbury/96/2000  HA1:158\n",
       "2       P  A/Canterbury/96/2000  HA1:162\n",
       "3       S  A/Canterbury/96/2000  HA1:189\n",
       "4       T  A/Canterbury/96/2000  HA1:212\n",
       "5       V  A/Canterbury/96/2000  HA1:213\n",
       "6       I  A/Canterbury/96/2000  HA1:260\n",
       "7       R  A/Canterbury/96/2000  HA1:261\n",
       "8       E  A/Canterbury/96/2000   HA1:62\n",
       "9       N  A/Canterbury/99/2000  HA1:144"
      ]
     },
     "execution_count": 28,
     "metadata": {},
     "output_type": "execute_result"
    }
   ],
   "source": [
    "samples_and_sites_df.head(10)"
   ]
  },
  {
   "cell_type": "code",
   "execution_count": 29,
   "metadata": {},
   "outputs": [],
   "source": [
    "number_of_samples_by_site_and_residue_df = samples_and_sites_df.groupby([\"site\", \"residue\"]).count().reset_index().rename(\n",
    "    columns={\"sample\": \"number_of_samples\"}\n",
    ")"
   ]
  },
  {
   "cell_type": "code",
   "execution_count": 30,
   "metadata": {},
   "outputs": [
    {
     "data": {
      "text/html": [
       "<div>\n",
       "<style scoped>\n",
       "    .dataframe tbody tr th:only-of-type {\n",
       "        vertical-align: middle;\n",
       "    }\n",
       "\n",
       "    .dataframe tbody tr th {\n",
       "        vertical-align: top;\n",
       "    }\n",
       "\n",
       "    .dataframe thead th {\n",
       "        text-align: right;\n",
       "    }\n",
       "</style>\n",
       "<table border=\"1\" class=\"dataframe\">\n",
       "  <thead>\n",
       "    <tr style=\"text-align: right;\">\n",
       "      <th></th>\n",
       "      <th>site</th>\n",
       "      <th>residue</th>\n",
       "      <th>number_of_samples</th>\n",
       "    </tr>\n",
       "  </thead>\n",
       "  <tbody>\n",
       "    <tr>\n",
       "      <th>0</th>\n",
       "      <td>HA1:144</td>\n",
       "      <td>D</td>\n",
       "      <td>133</td>\n",
       "    </tr>\n",
       "    <tr>\n",
       "      <th>1</th>\n",
       "      <td>HA1:144</td>\n",
       "      <td>G</td>\n",
       "      <td>1</td>\n",
       "    </tr>\n",
       "    <tr>\n",
       "      <th>2</th>\n",
       "      <td>HA1:144</td>\n",
       "      <td>I</td>\n",
       "      <td>2</td>\n",
       "    </tr>\n",
       "    <tr>\n",
       "      <th>3</th>\n",
       "      <td>HA1:144</td>\n",
       "      <td>K</td>\n",
       "      <td>96</td>\n",
       "    </tr>\n",
       "    <tr>\n",
       "      <th>4</th>\n",
       "      <td>HA1:144</td>\n",
       "      <td>N</td>\n",
       "      <td>1115</td>\n",
       "    </tr>\n",
       "    <tr>\n",
       "      <th>5</th>\n",
       "      <td>HA1:144</td>\n",
       "      <td>S</td>\n",
       "      <td>3</td>\n",
       "    </tr>\n",
       "    <tr>\n",
       "      <th>6</th>\n",
       "      <td>HA1:158</td>\n",
       "      <td>K</td>\n",
       "      <td>1158</td>\n",
       "    </tr>\n",
       "    <tr>\n",
       "      <th>7</th>\n",
       "      <td>HA1:158</td>\n",
       "      <td>N</td>\n",
       "      <td>137</td>\n",
       "    </tr>\n",
       "    <tr>\n",
       "      <th>8</th>\n",
       "      <td>HA1:158</td>\n",
       "      <td>R</td>\n",
       "      <td>55</td>\n",
       "    </tr>\n",
       "    <tr>\n",
       "      <th>9</th>\n",
       "      <td>HA1:162</td>\n",
       "      <td>P</td>\n",
       "      <td>1338</td>\n",
       "    </tr>\n",
       "    <tr>\n",
       "      <th>10</th>\n",
       "      <td>HA1:162</td>\n",
       "      <td>Q</td>\n",
       "      <td>10</td>\n",
       "    </tr>\n",
       "    <tr>\n",
       "      <th>11</th>\n",
       "      <td>HA1:162</td>\n",
       "      <td>S</td>\n",
       "      <td>2</td>\n",
       "    </tr>\n",
       "    <tr>\n",
       "      <th>12</th>\n",
       "      <td>HA1:189</td>\n",
       "      <td>E</td>\n",
       "      <td>1</td>\n",
       "    </tr>\n",
       "    <tr>\n",
       "      <th>13</th>\n",
       "      <td>HA1:189</td>\n",
       "      <td>K</td>\n",
       "      <td>133</td>\n",
       "    </tr>\n",
       "    <tr>\n",
       "      <th>14</th>\n",
       "      <td>HA1:189</td>\n",
       "      <td>N</td>\n",
       "      <td>902</td>\n",
       "    </tr>\n",
       "    <tr>\n",
       "      <th>15</th>\n",
       "      <td>HA1:189</td>\n",
       "      <td>S</td>\n",
       "      <td>314</td>\n",
       "    </tr>\n",
       "    <tr>\n",
       "      <th>16</th>\n",
       "      <td>HA1:212</td>\n",
       "      <td>A</td>\n",
       "      <td>41</td>\n",
       "    </tr>\n",
       "    <tr>\n",
       "      <th>17</th>\n",
       "      <td>HA1:212</td>\n",
       "      <td>I</td>\n",
       "      <td>1</td>\n",
       "    </tr>\n",
       "    <tr>\n",
       "      <th>18</th>\n",
       "      <td>HA1:212</td>\n",
       "      <td>N</td>\n",
       "      <td>1</td>\n",
       "    </tr>\n",
       "    <tr>\n",
       "      <th>19</th>\n",
       "      <td>HA1:212</td>\n",
       "      <td>T</td>\n",
       "      <td>1307</td>\n",
       "    </tr>\n",
       "    <tr>\n",
       "      <th>20</th>\n",
       "      <td>HA1:213</td>\n",
       "      <td>A</td>\n",
       "      <td>42</td>\n",
       "    </tr>\n",
       "    <tr>\n",
       "      <th>21</th>\n",
       "      <td>HA1:213</td>\n",
       "      <td>V</td>\n",
       "      <td>1308</td>\n",
       "    </tr>\n",
       "    <tr>\n",
       "      <th>22</th>\n",
       "      <td>HA1:260</td>\n",
       "      <td>I</td>\n",
       "      <td>1336</td>\n",
       "    </tr>\n",
       "    <tr>\n",
       "      <th>23</th>\n",
       "      <td>HA1:260</td>\n",
       "      <td>M</td>\n",
       "      <td>14</td>\n",
       "    </tr>\n",
       "    <tr>\n",
       "      <th>24</th>\n",
       "      <td>HA1:261</td>\n",
       "      <td>L</td>\n",
       "      <td>3</td>\n",
       "    </tr>\n",
       "    <tr>\n",
       "      <th>25</th>\n",
       "      <td>HA1:261</td>\n",
       "      <td>Q</td>\n",
       "      <td>45</td>\n",
       "    </tr>\n",
       "    <tr>\n",
       "      <th>26</th>\n",
       "      <td>HA1:261</td>\n",
       "      <td>R</td>\n",
       "      <td>1302</td>\n",
       "    </tr>\n",
       "    <tr>\n",
       "      <th>27</th>\n",
       "      <td>HA1:62</td>\n",
       "      <td>E</td>\n",
       "      <td>1246</td>\n",
       "    </tr>\n",
       "    <tr>\n",
       "      <th>28</th>\n",
       "      <td>HA1:62</td>\n",
       "      <td>G</td>\n",
       "      <td>4</td>\n",
       "    </tr>\n",
       "    <tr>\n",
       "      <th>29</th>\n",
       "      <td>HA1:62</td>\n",
       "      <td>K</td>\n",
       "      <td>100</td>\n",
       "    </tr>\n",
       "  </tbody>\n",
       "</table>\n",
       "</div>"
      ],
      "text/plain": [
       "       site residue  number_of_samples\n",
       "0   HA1:144       D                133\n",
       "1   HA1:144       G                  1\n",
       "2   HA1:144       I                  2\n",
       "3   HA1:144       K                 96\n",
       "4   HA1:144       N               1115\n",
       "5   HA1:144       S                  3\n",
       "6   HA1:158       K               1158\n",
       "7   HA1:158       N                137\n",
       "8   HA1:158       R                 55\n",
       "9   HA1:162       P               1338\n",
       "10  HA1:162       Q                 10\n",
       "11  HA1:162       S                  2\n",
       "12  HA1:189       E                  1\n",
       "13  HA1:189       K                133\n",
       "14  HA1:189       N                902\n",
       "15  HA1:189       S                314\n",
       "16  HA1:212       A                 41\n",
       "17  HA1:212       I                  1\n",
       "18  HA1:212       N                  1\n",
       "19  HA1:212       T               1307\n",
       "20  HA1:213       A                 42\n",
       "21  HA1:213       V               1308\n",
       "22  HA1:260       I               1336\n",
       "23  HA1:260       M                 14\n",
       "24  HA1:261       L                  3\n",
       "25  HA1:261       Q                 45\n",
       "26  HA1:261       R               1302\n",
       "27   HA1:62       E               1246\n",
       "28   HA1:62       G                  4\n",
       "29   HA1:62       K                100"
      ]
     },
     "execution_count": 30,
     "metadata": {},
     "output_type": "execute_result"
    }
   ],
   "source": [
    "number_of_samples_by_site_and_residue_df"
   ]
  },
  {
   "cell_type": "code",
   "execution_count": 31,
   "metadata": {},
   "outputs": [
    {
     "data": {
      "text/html": [
       "<div>\n",
       "<style scoped>\n",
       "    .dataframe tbody tr th:only-of-type {\n",
       "        vertical-align: middle;\n",
       "    }\n",
       "\n",
       "    .dataframe tbody tr th {\n",
       "        vertical-align: top;\n",
       "    }\n",
       "\n",
       "    .dataframe thead th {\n",
       "        text-align: right;\n",
       "    }\n",
       "</style>\n",
       "<table border=\"1\" class=\"dataframe\">\n",
       "  <thead>\n",
       "    <tr style=\"text-align: right;\">\n",
       "      <th></th>\n",
       "      <th>frequency</th>\n",
       "      <th>residue</th>\n",
       "      <th>site</th>\n",
       "      <th>timepoint</th>\n",
       "    </tr>\n",
       "  </thead>\n",
       "  <tbody>\n",
       "    <tr>\n",
       "      <th>71</th>\n",
       "      <td>0.000000</td>\n",
       "      <td>D</td>\n",
       "      <td>HA1:144</td>\n",
       "      <td>2009-10-01</td>\n",
       "    </tr>\n",
       "    <tr>\n",
       "      <th>72</th>\n",
       "      <td>0.000000</td>\n",
       "      <td>G</td>\n",
       "      <td>HA1:144</td>\n",
       "      <td>2009-10-01</td>\n",
       "    </tr>\n",
       "    <tr>\n",
       "      <th>73</th>\n",
       "      <td>0.000000</td>\n",
       "      <td>I</td>\n",
       "      <td>HA1:144</td>\n",
       "      <td>2009-10-01</td>\n",
       "    </tr>\n",
       "    <tr>\n",
       "      <th>74</th>\n",
       "      <td>0.537553</td>\n",
       "      <td>K</td>\n",
       "      <td>HA1:144</td>\n",
       "      <td>2009-10-01</td>\n",
       "    </tr>\n",
       "    <tr>\n",
       "      <th>75</th>\n",
       "      <td>0.462447</td>\n",
       "      <td>N</td>\n",
       "      <td>HA1:144</td>\n",
       "      <td>2009-10-01</td>\n",
       "    </tr>\n",
       "  </tbody>\n",
       "</table>\n",
       "</div>"
      ],
      "text/plain": [
       "    frequency residue     site   timepoint\n",
       "71   0.000000       D  HA1:144  2009-10-01\n",
       "72   0.000000       G  HA1:144  2009-10-01\n",
       "73   0.000000       I  HA1:144  2009-10-01\n",
       "74   0.537553       K  HA1:144  2009-10-01\n",
       "75   0.462447       N  HA1:144  2009-10-01"
      ]
     },
     "execution_count": 31,
     "metadata": {},
     "output_type": "execute_result"
    }
   ],
   "source": [
    "muts_to_track_df.head()"
   ]
  },
  {
   "cell_type": "code",
   "execution_count": 32,
   "metadata": {},
   "outputs": [],
   "source": [
    "#muts_to_track_df = muts_to_track_df.merge(number_of_samples_by_site_and_residue_df, on=[\"site\", \"residue\"])"
   ]
  },
  {
   "cell_type": "code",
   "execution_count": 33,
   "metadata": {},
   "outputs": [],
   "source": [
    "#muts_to_track_df[\"frequency_per_sample\"] = muts_to_track_df[\"frequency\"] / muts_to_track_df[\"number_of_samples\"]"
   ]
  },
  {
   "cell_type": "code",
   "execution_count": 34,
   "metadata": {},
   "outputs": [
    {
     "data": {
      "text/html": [
       "<div>\n",
       "<style scoped>\n",
       "    .dataframe tbody tr th:only-of-type {\n",
       "        vertical-align: middle;\n",
       "    }\n",
       "\n",
       "    .dataframe tbody tr th {\n",
       "        vertical-align: top;\n",
       "    }\n",
       "\n",
       "    .dataframe thead th {\n",
       "        text-align: right;\n",
       "    }\n",
       "</style>\n",
       "<table border=\"1\" class=\"dataframe\">\n",
       "  <thead>\n",
       "    <tr style=\"text-align: right;\">\n",
       "      <th></th>\n",
       "      <th>frequency</th>\n",
       "      <th>residue</th>\n",
       "      <th>site</th>\n",
       "      <th>timepoint</th>\n",
       "    </tr>\n",
       "  </thead>\n",
       "  <tbody>\n",
       "    <tr>\n",
       "      <th>71</th>\n",
       "      <td>0.000000</td>\n",
       "      <td>D</td>\n",
       "      <td>HA1:144</td>\n",
       "      <td>2009-10-01</td>\n",
       "    </tr>\n",
       "    <tr>\n",
       "      <th>72</th>\n",
       "      <td>0.000000</td>\n",
       "      <td>G</td>\n",
       "      <td>HA1:144</td>\n",
       "      <td>2009-10-01</td>\n",
       "    </tr>\n",
       "    <tr>\n",
       "      <th>73</th>\n",
       "      <td>0.000000</td>\n",
       "      <td>I</td>\n",
       "      <td>HA1:144</td>\n",
       "      <td>2009-10-01</td>\n",
       "    </tr>\n",
       "    <tr>\n",
       "      <th>74</th>\n",
       "      <td>0.537553</td>\n",
       "      <td>K</td>\n",
       "      <td>HA1:144</td>\n",
       "      <td>2009-10-01</td>\n",
       "    </tr>\n",
       "    <tr>\n",
       "      <th>75</th>\n",
       "      <td>0.462447</td>\n",
       "      <td>N</td>\n",
       "      <td>HA1:144</td>\n",
       "      <td>2009-10-01</td>\n",
       "    </tr>\n",
       "  </tbody>\n",
       "</table>\n",
       "</div>"
      ],
      "text/plain": [
       "    frequency residue     site   timepoint\n",
       "71   0.000000       D  HA1:144  2009-10-01\n",
       "72   0.000000       G  HA1:144  2009-10-01\n",
       "73   0.000000       I  HA1:144  2009-10-01\n",
       "74   0.537553       K  HA1:144  2009-10-01\n",
       "75   0.462447       N  HA1:144  2009-10-01"
      ]
     },
     "execution_count": 34,
     "metadata": {},
     "output_type": "execute_result"
    }
   ],
   "source": [
    "muts_to_track_df.head()"
   ]
  },
  {
   "cell_type": "code",
   "execution_count": 35,
   "metadata": {},
   "outputs": [],
   "source": [
    "mut_freqs_per_sample = muts_to_track_df.merge(samples_and_sites_df, on=[\"site\", \"residue\"])"
   ]
  },
  {
   "cell_type": "code",
   "execution_count": 36,
   "metadata": {},
   "outputs": [
    {
     "data": {
      "text/html": [
       "<div>\n",
       "<style scoped>\n",
       "    .dataframe tbody tr th:only-of-type {\n",
       "        vertical-align: middle;\n",
       "    }\n",
       "\n",
       "    .dataframe tbody tr th {\n",
       "        vertical-align: top;\n",
       "    }\n",
       "\n",
       "    .dataframe thead th {\n",
       "        text-align: right;\n",
       "    }\n",
       "</style>\n",
       "<table border=\"1\" class=\"dataframe\">\n",
       "  <thead>\n",
       "    <tr style=\"text-align: right;\">\n",
       "      <th></th>\n",
       "      <th>frequency</th>\n",
       "      <th>residue</th>\n",
       "      <th>site</th>\n",
       "      <th>timepoint</th>\n",
       "      <th>sample</th>\n",
       "    </tr>\n",
       "  </thead>\n",
       "  <tbody>\n",
       "    <tr>\n",
       "      <th>0</th>\n",
       "      <td>0.0</td>\n",
       "      <td>D</td>\n",
       "      <td>HA1:144</td>\n",
       "      <td>2009-10-01</td>\n",
       "      <td>A/NewYork/197/2003</td>\n",
       "    </tr>\n",
       "    <tr>\n",
       "      <th>1</th>\n",
       "      <td>0.0</td>\n",
       "      <td>D</td>\n",
       "      <td>HA1:144</td>\n",
       "      <td>2009-10-01</td>\n",
       "      <td>A/NewYork/193/2003</td>\n",
       "    </tr>\n",
       "    <tr>\n",
       "      <th>2</th>\n",
       "      <td>0.0</td>\n",
       "      <td>D</td>\n",
       "      <td>HA1:144</td>\n",
       "      <td>2009-10-01</td>\n",
       "      <td>A/Queensland/12/2001</td>\n",
       "    </tr>\n",
       "    <tr>\n",
       "      <th>3</th>\n",
       "      <td>0.0</td>\n",
       "      <td>D</td>\n",
       "      <td>HA1:144</td>\n",
       "      <td>2009-10-01</td>\n",
       "      <td>A/Queensland/17/2001</td>\n",
       "    </tr>\n",
       "    <tr>\n",
       "      <th>4</th>\n",
       "      <td>0.0</td>\n",
       "      <td>D</td>\n",
       "      <td>HA1:144</td>\n",
       "      <td>2009-10-01</td>\n",
       "      <td>A/NewYork/401/2001</td>\n",
       "    </tr>\n",
       "  </tbody>\n",
       "</table>\n",
       "</div>"
      ],
      "text/plain": [
       "   frequency residue     site   timepoint                sample\n",
       "0        0.0       D  HA1:144  2009-10-01    A/NewYork/197/2003\n",
       "1        0.0       D  HA1:144  2009-10-01    A/NewYork/193/2003\n",
       "2        0.0       D  HA1:144  2009-10-01  A/Queensland/12/2001\n",
       "3        0.0       D  HA1:144  2009-10-01  A/Queensland/17/2001\n",
       "4        0.0       D  HA1:144  2009-10-01    A/NewYork/401/2001"
      ]
     },
     "execution_count": 36,
     "metadata": {},
     "output_type": "execute_result"
    }
   ],
   "source": [
    "mut_freqs_per_sample.head()"
   ]
  },
  {
   "cell_type": "code",
   "execution_count": 37,
   "metadata": {},
   "outputs": [],
   "source": [
    "#mut_freqs_per_sample.groupby([\"site\", \"residue\"]).aggregate({\"frequency\": \"first\", \"frequency_per_sample\": \"sum\"})"
   ]
  },
  {
   "cell_type": "code",
   "execution_count": 38,
   "metadata": {},
   "outputs": [],
   "source": [
    "#mut_freqs_per_sample = mut_freqs_per_sample.drop(columns=[\"frequency\", \"number_of_samples\"]).rename(columns={\"frequency_per_sample\": \"frequency\"}).copy()"
   ]
  },
  {
   "cell_type": "code",
   "execution_count": 39,
   "metadata": {},
   "outputs": [],
   "source": [
    "mut_freqs_per_sample[\"mutation\"] = mut_freqs_per_sample[\"site\"] + mut_freqs_per_sample[\"residue\"]"
   ]
  },
  {
   "cell_type": "code",
   "execution_count": 40,
   "metadata": {},
   "outputs": [
    {
     "data": {
      "text/html": [
       "<div>\n",
       "<style scoped>\n",
       "    .dataframe tbody tr th:only-of-type {\n",
       "        vertical-align: middle;\n",
       "    }\n",
       "\n",
       "    .dataframe tbody tr th {\n",
       "        vertical-align: top;\n",
       "    }\n",
       "\n",
       "    .dataframe thead th {\n",
       "        text-align: right;\n",
       "    }\n",
       "</style>\n",
       "<table border=\"1\" class=\"dataframe\">\n",
       "  <thead>\n",
       "    <tr style=\"text-align: right;\">\n",
       "      <th></th>\n",
       "      <th>frequency</th>\n",
       "      <th>residue</th>\n",
       "      <th>site</th>\n",
       "      <th>timepoint</th>\n",
       "      <th>sample</th>\n",
       "      <th>mutation</th>\n",
       "    </tr>\n",
       "  </thead>\n",
       "  <tbody>\n",
       "    <tr>\n",
       "      <th>0</th>\n",
       "      <td>0.0</td>\n",
       "      <td>D</td>\n",
       "      <td>HA1:144</td>\n",
       "      <td>2009-10-01</td>\n",
       "      <td>A/NewYork/197/2003</td>\n",
       "      <td>HA1:144D</td>\n",
       "    </tr>\n",
       "    <tr>\n",
       "      <th>1</th>\n",
       "      <td>0.0</td>\n",
       "      <td>D</td>\n",
       "      <td>HA1:144</td>\n",
       "      <td>2009-10-01</td>\n",
       "      <td>A/NewYork/193/2003</td>\n",
       "      <td>HA1:144D</td>\n",
       "    </tr>\n",
       "    <tr>\n",
       "      <th>2</th>\n",
       "      <td>0.0</td>\n",
       "      <td>D</td>\n",
       "      <td>HA1:144</td>\n",
       "      <td>2009-10-01</td>\n",
       "      <td>A/Queensland/12/2001</td>\n",
       "      <td>HA1:144D</td>\n",
       "    </tr>\n",
       "    <tr>\n",
       "      <th>3</th>\n",
       "      <td>0.0</td>\n",
       "      <td>D</td>\n",
       "      <td>HA1:144</td>\n",
       "      <td>2009-10-01</td>\n",
       "      <td>A/Queensland/17/2001</td>\n",
       "      <td>HA1:144D</td>\n",
       "    </tr>\n",
       "    <tr>\n",
       "      <th>4</th>\n",
       "      <td>0.0</td>\n",
       "      <td>D</td>\n",
       "      <td>HA1:144</td>\n",
       "      <td>2009-10-01</td>\n",
       "      <td>A/NewYork/401/2001</td>\n",
       "      <td>HA1:144D</td>\n",
       "    </tr>\n",
       "  </tbody>\n",
       "</table>\n",
       "</div>"
      ],
      "text/plain": [
       "   frequency residue     site   timepoint                sample  mutation\n",
       "0        0.0       D  HA1:144  2009-10-01    A/NewYork/197/2003  HA1:144D\n",
       "1        0.0       D  HA1:144  2009-10-01    A/NewYork/193/2003  HA1:144D\n",
       "2        0.0       D  HA1:144  2009-10-01  A/Queensland/12/2001  HA1:144D\n",
       "3        0.0       D  HA1:144  2009-10-01  A/Queensland/17/2001  HA1:144D\n",
       "4        0.0       D  HA1:144  2009-10-01    A/NewYork/401/2001  HA1:144D"
      ]
     },
     "execution_count": 40,
     "metadata": {},
     "output_type": "execute_result"
    }
   ],
   "source": [
    "mut_freqs_per_sample.head()"
   ]
  },
  {
   "cell_type": "markdown",
   "metadata": {},
   "source": [
    "## Scale mutation frequencies by sample frequencies\n",
    "\n",
    "Although we have estimated mutation frequencies per sample in the data frame above, we want to have a generic function that reweights the frequencies in these frames by any collection of per-sample weights (usually sample frequencies). For example, we will want to know what the initial frequency of each mutation is at a timepoint based on scaling of the frequencies of the samples with those mutations. Then we want to calculate the rescaled frequencies for the same mutations after projecting the sample frequencies into the future.\n",
    "\n",
    "Below is an attempt to design this generic function."
   ]
  },
  {
   "cell_type": "code",
   "execution_count": 41,
   "metadata": {},
   "outputs": [],
   "source": [
    "# Load sample (tip) attributes for this timepoint which includes frequency per sample.\n",
    "samples_df = pd.read_csv(data_root + \"tip_attributes.tsv\", sep=\"\\t\", usecols=[\"strain\", \"timepoint\", \"frequency\", \"date\"],\n",
    "                        parse_dates=[\"date\"])"
   ]
  },
  {
   "cell_type": "code",
   "execution_count": 42,
   "metadata": {},
   "outputs": [
    {
     "data": {
      "text/html": [
       "<div>\n",
       "<style scoped>\n",
       "    .dataframe tbody tr th:only-of-type {\n",
       "        vertical-align: middle;\n",
       "    }\n",
       "\n",
       "    .dataframe tbody tr th {\n",
       "        vertical-align: top;\n",
       "    }\n",
       "\n",
       "    .dataframe thead th {\n",
       "        text-align: right;\n",
       "    }\n",
       "</style>\n",
       "<table border=\"1\" class=\"dataframe\">\n",
       "  <thead>\n",
       "    <tr style=\"text-align: right;\">\n",
       "      <th></th>\n",
       "      <th>strain</th>\n",
       "      <th>date</th>\n",
       "      <th>timepoint</th>\n",
       "      <th>frequency</th>\n",
       "    </tr>\n",
       "  </thead>\n",
       "  <tbody>\n",
       "    <tr>\n",
       "      <th>0</th>\n",
       "      <td>A/Alaska/4/2008</td>\n",
       "      <td>2008-08-10</td>\n",
       "      <td>2009-10-01</td>\n",
       "      <td>0.000000</td>\n",
       "    </tr>\n",
       "    <tr>\n",
       "      <th>1</th>\n",
       "      <td>A/Albania/250/2009</td>\n",
       "      <td>2009-02-25</td>\n",
       "      <td>2009-10-01</td>\n",
       "      <td>0.000933</td>\n",
       "    </tr>\n",
       "    <tr>\n",
       "      <th>2</th>\n",
       "      <td>A/Anguilla/4711/2009</td>\n",
       "      <td>2009-06-09</td>\n",
       "      <td>2009-10-01</td>\n",
       "      <td>0.007110</td>\n",
       "    </tr>\n",
       "    <tr>\n",
       "      <th>3</th>\n",
       "      <td>A/Argentina/305/2007</td>\n",
       "      <td>2007-06-19</td>\n",
       "      <td>2009-10-01</td>\n",
       "      <td>0.000000</td>\n",
       "    </tr>\n",
       "    <tr>\n",
       "      <th>4</th>\n",
       "      <td>A/Argentina/3689/2007</td>\n",
       "      <td>2007-03-21</td>\n",
       "      <td>2009-10-01</td>\n",
       "      <td>0.000000</td>\n",
       "    </tr>\n",
       "  </tbody>\n",
       "</table>\n",
       "</div>"
      ],
      "text/plain": [
       "                  strain       date   timepoint  frequency\n",
       "0        A/Alaska/4/2008 2008-08-10  2009-10-01   0.000000\n",
       "1     A/Albania/250/2009 2009-02-25  2009-10-01   0.000933\n",
       "2   A/Anguilla/4711/2009 2009-06-09  2009-10-01   0.007110\n",
       "3   A/Argentina/305/2007 2007-06-19  2009-10-01   0.000000\n",
       "4  A/Argentina/3689/2007 2007-03-21  2009-10-01   0.000000"
      ]
     },
     "execution_count": 42,
     "metadata": {},
     "output_type": "execute_result"
    }
   ],
   "source": [
    "samples_df.head()"
   ]
  },
  {
   "cell_type": "code",
   "execution_count": 43,
   "metadata": {},
   "outputs": [
    {
     "data": {
      "text/plain": [
       "(1350, 4)"
      ]
     },
     "execution_count": 43,
     "metadata": {},
     "output_type": "execute_result"
    }
   ],
   "source": [
    "samples_df.shape"
   ]
  },
  {
   "cell_type": "code",
   "execution_count": 44,
   "metadata": {},
   "outputs": [
    {
     "data": {
      "text/plain": [
       "timepoint\n",
       "2009-10-01    1.000008\n",
       "Name: frequency, dtype: float64"
      ]
     },
     "execution_count": 44,
     "metadata": {},
     "output_type": "execute_result"
    }
   ],
   "source": [
    "samples_df.groupby(\"timepoint\")[\"frequency\"].sum()"
   ]
  },
  {
   "cell_type": "code",
   "execution_count": 45,
   "metadata": {},
   "outputs": [
    {
     "data": {
      "text/html": [
       "<div>\n",
       "<style scoped>\n",
       "    .dataframe tbody tr th:only-of-type {\n",
       "        vertical-align: middle;\n",
       "    }\n",
       "\n",
       "    .dataframe tbody tr th {\n",
       "        vertical-align: top;\n",
       "    }\n",
       "\n",
       "    .dataframe thead th {\n",
       "        text-align: right;\n",
       "    }\n",
       "</style>\n",
       "<table border=\"1\" class=\"dataframe\">\n",
       "  <thead>\n",
       "    <tr style=\"text-align: right;\">\n",
       "      <th></th>\n",
       "      <th>frequency</th>\n",
       "      <th>residue</th>\n",
       "      <th>site</th>\n",
       "      <th>timepoint</th>\n",
       "      <th>sample</th>\n",
       "      <th>mutation</th>\n",
       "    </tr>\n",
       "  </thead>\n",
       "  <tbody>\n",
       "    <tr>\n",
       "      <th>0</th>\n",
       "      <td>0.0</td>\n",
       "      <td>D</td>\n",
       "      <td>HA1:144</td>\n",
       "      <td>2009-10-01</td>\n",
       "      <td>A/NewYork/197/2003</td>\n",
       "      <td>HA1:144D</td>\n",
       "    </tr>\n",
       "    <tr>\n",
       "      <th>1</th>\n",
       "      <td>0.0</td>\n",
       "      <td>D</td>\n",
       "      <td>HA1:144</td>\n",
       "      <td>2009-10-01</td>\n",
       "      <td>A/NewYork/193/2003</td>\n",
       "      <td>HA1:144D</td>\n",
       "    </tr>\n",
       "    <tr>\n",
       "      <th>2</th>\n",
       "      <td>0.0</td>\n",
       "      <td>D</td>\n",
       "      <td>HA1:144</td>\n",
       "      <td>2009-10-01</td>\n",
       "      <td>A/Queensland/12/2001</td>\n",
       "      <td>HA1:144D</td>\n",
       "    </tr>\n",
       "    <tr>\n",
       "      <th>3</th>\n",
       "      <td>0.0</td>\n",
       "      <td>D</td>\n",
       "      <td>HA1:144</td>\n",
       "      <td>2009-10-01</td>\n",
       "      <td>A/Queensland/17/2001</td>\n",
       "      <td>HA1:144D</td>\n",
       "    </tr>\n",
       "    <tr>\n",
       "      <th>4</th>\n",
       "      <td>0.0</td>\n",
       "      <td>D</td>\n",
       "      <td>HA1:144</td>\n",
       "      <td>2009-10-01</td>\n",
       "      <td>A/NewYork/401/2001</td>\n",
       "      <td>HA1:144D</td>\n",
       "    </tr>\n",
       "  </tbody>\n",
       "</table>\n",
       "</div>"
      ],
      "text/plain": [
       "   frequency residue     site   timepoint                sample  mutation\n",
       "0        0.0       D  HA1:144  2009-10-01    A/NewYork/197/2003  HA1:144D\n",
       "1        0.0       D  HA1:144  2009-10-01    A/NewYork/193/2003  HA1:144D\n",
       "2        0.0       D  HA1:144  2009-10-01  A/Queensland/12/2001  HA1:144D\n",
       "3        0.0       D  HA1:144  2009-10-01  A/Queensland/17/2001  HA1:144D\n",
       "4        0.0       D  HA1:144  2009-10-01    A/NewYork/401/2001  HA1:144D"
      ]
     },
     "execution_count": 45,
     "metadata": {},
     "output_type": "execute_result"
    }
   ],
   "source": [
    "mut_freqs_per_sample.head()"
   ]
  },
  {
   "cell_type": "code",
   "execution_count": 46,
   "metadata": {},
   "outputs": [
    {
     "data": {
      "text/plain": [
       "(12150, 6)"
      ]
     },
     "execution_count": 46,
     "metadata": {},
     "output_type": "execute_result"
    }
   ],
   "source": [
    "mut_freqs_per_sample.shape"
   ]
  },
  {
   "cell_type": "code",
   "execution_count": 47,
   "metadata": {},
   "outputs": [],
   "source": [
    "mut_freqs_with_sample_freqs = mut_freqs_per_sample.merge(\n",
    "    samples_df,\n",
    "    how=\"inner\",\n",
    "    left_on=[\"timepoint\", \"sample\"],\n",
    "    right_on=[\"timepoint\", \"strain\"],\n",
    "    suffixes=[\"\", \"_strain\"]\n",
    ")"
   ]
  },
  {
   "cell_type": "code",
   "execution_count": 48,
   "metadata": {},
   "outputs": [
    {
     "data": {
      "text/plain": [
       "(12150, 9)"
      ]
     },
     "execution_count": 48,
     "metadata": {},
     "output_type": "execute_result"
    }
   ],
   "source": [
    "mut_freqs_with_sample_freqs.shape"
   ]
  },
  {
   "cell_type": "code",
   "execution_count": 49,
   "metadata": {},
   "outputs": [
    {
     "data": {
      "text/html": [
       "<div>\n",
       "<style scoped>\n",
       "    .dataframe tbody tr th:only-of-type {\n",
       "        vertical-align: middle;\n",
       "    }\n",
       "\n",
       "    .dataframe tbody tr th {\n",
       "        vertical-align: top;\n",
       "    }\n",
       "\n",
       "    .dataframe thead th {\n",
       "        text-align: right;\n",
       "    }\n",
       "</style>\n",
       "<table border=\"1\" class=\"dataframe\">\n",
       "  <thead>\n",
       "    <tr style=\"text-align: right;\">\n",
       "      <th></th>\n",
       "      <th>frequency</th>\n",
       "      <th>residue</th>\n",
       "      <th>site</th>\n",
       "      <th>timepoint</th>\n",
       "      <th>sample</th>\n",
       "      <th>mutation</th>\n",
       "      <th>strain</th>\n",
       "      <th>date</th>\n",
       "      <th>frequency_strain</th>\n",
       "    </tr>\n",
       "  </thead>\n",
       "  <tbody>\n",
       "    <tr>\n",
       "      <th>0</th>\n",
       "      <td>0.000000</td>\n",
       "      <td>D</td>\n",
       "      <td>HA1:144</td>\n",
       "      <td>2009-10-01</td>\n",
       "      <td>A/NewYork/197/2003</td>\n",
       "      <td>HA1:144D</td>\n",
       "      <td>A/NewYork/197/2003</td>\n",
       "      <td>2003-03-14</td>\n",
       "      <td>0.0</td>\n",
       "    </tr>\n",
       "    <tr>\n",
       "      <th>1</th>\n",
       "      <td>0.176507</td>\n",
       "      <td>K</td>\n",
       "      <td>HA1:158</td>\n",
       "      <td>2009-10-01</td>\n",
       "      <td>A/NewYork/197/2003</td>\n",
       "      <td>HA1:158K</td>\n",
       "      <td>A/NewYork/197/2003</td>\n",
       "      <td>2003-03-14</td>\n",
       "      <td>0.0</td>\n",
       "    </tr>\n",
       "    <tr>\n",
       "      <th>2</th>\n",
       "      <td>0.918551</td>\n",
       "      <td>P</td>\n",
       "      <td>HA1:162</td>\n",
       "      <td>2009-10-01</td>\n",
       "      <td>A/NewYork/197/2003</td>\n",
       "      <td>HA1:162P</td>\n",
       "      <td>A/NewYork/197/2003</td>\n",
       "      <td>2003-03-14</td>\n",
       "      <td>0.0</td>\n",
       "    </tr>\n",
       "    <tr>\n",
       "      <th>3</th>\n",
       "      <td>0.000000</td>\n",
       "      <td>S</td>\n",
       "      <td>HA1:189</td>\n",
       "      <td>2009-10-01</td>\n",
       "      <td>A/NewYork/197/2003</td>\n",
       "      <td>HA1:189S</td>\n",
       "      <td>A/NewYork/197/2003</td>\n",
       "      <td>2003-03-14</td>\n",
       "      <td>0.0</td>\n",
       "    </tr>\n",
       "    <tr>\n",
       "      <th>4</th>\n",
       "      <td>0.751721</td>\n",
       "      <td>T</td>\n",
       "      <td>HA1:212</td>\n",
       "      <td>2009-10-01</td>\n",
       "      <td>A/NewYork/197/2003</td>\n",
       "      <td>HA1:212T</td>\n",
       "      <td>A/NewYork/197/2003</td>\n",
       "      <td>2003-03-14</td>\n",
       "      <td>0.0</td>\n",
       "    </tr>\n",
       "  </tbody>\n",
       "</table>\n",
       "</div>"
      ],
      "text/plain": [
       "   frequency residue     site   timepoint              sample  mutation  \\\n",
       "0   0.000000       D  HA1:144  2009-10-01  A/NewYork/197/2003  HA1:144D   \n",
       "1   0.176507       K  HA1:158  2009-10-01  A/NewYork/197/2003  HA1:158K   \n",
       "2   0.918551       P  HA1:162  2009-10-01  A/NewYork/197/2003  HA1:162P   \n",
       "3   0.000000       S  HA1:189  2009-10-01  A/NewYork/197/2003  HA1:189S   \n",
       "4   0.751721       T  HA1:212  2009-10-01  A/NewYork/197/2003  HA1:212T   \n",
       "\n",
       "               strain       date  frequency_strain  \n",
       "0  A/NewYork/197/2003 2003-03-14               0.0  \n",
       "1  A/NewYork/197/2003 2003-03-14               0.0  \n",
       "2  A/NewYork/197/2003 2003-03-14               0.0  \n",
       "3  A/NewYork/197/2003 2003-03-14               0.0  \n",
       "4  A/NewYork/197/2003 2003-03-14               0.0  "
      ]
     },
     "execution_count": 49,
     "metadata": {},
     "output_type": "execute_result"
    }
   ],
   "source": [
    "mut_freqs_with_sample_freqs.head()"
   ]
  },
  {
   "cell_type": "code",
   "execution_count": 50,
   "metadata": {},
   "outputs": [],
   "source": [
    "mut_freqs_with_sample_freqs[\"scaled_frequency\"] = mut_freqs_with_sample_freqs[\"frequency\"] * mut_freqs_with_sample_freqs[\"frequency_strain\"]"
   ]
  },
  {
   "cell_type": "code",
   "execution_count": 51,
   "metadata": {},
   "outputs": [
    {
     "data": {
      "text/plain": [
       "timepoint   site   \n",
       "2009-10-01  HA1:144     567.233493\n",
       "            HA1:158     314.252463\n",
       "            HA1:162    1229.722086\n",
       "            HA1:189     297.536902\n",
       "            HA1:212     992.678786\n",
       "            HA1:213     999.244122\n",
       "            HA1:260    1264.962330\n",
       "            HA1:261    1129.584684\n",
       "            HA1:62      622.883932\n",
       "Name: frequency, dtype: float64"
      ]
     },
     "execution_count": 51,
     "metadata": {},
     "output_type": "execute_result"
    }
   ],
   "source": [
    "mut_freqs_with_sample_freqs.groupby([\"timepoint\", \"site\"])[\"frequency\"].sum()"
   ]
  },
  {
   "cell_type": "code",
   "execution_count": 52,
   "metadata": {},
   "outputs": [
    {
     "data": {
      "text/plain": [
       "timepoint   site   \n",
       "2009-10-01  HA1:144    1.000008\n",
       "            HA1:158    1.000008\n",
       "            HA1:162    1.000008\n",
       "            HA1:189    1.000008\n",
       "            HA1:212    1.000008\n",
       "            HA1:213    1.000008\n",
       "            HA1:260    1.000008\n",
       "            HA1:261    1.000008\n",
       "            HA1:62     1.000008\n",
       "Name: frequency_strain, dtype: float64"
      ]
     },
     "execution_count": 52,
     "metadata": {},
     "output_type": "execute_result"
    }
   ],
   "source": [
    "mut_freqs_with_sample_freqs.groupby([\"timepoint\", \"site\"])[\"frequency_strain\"].sum()"
   ]
  },
  {
   "cell_type": "code",
   "execution_count": 53,
   "metadata": {},
   "outputs": [
    {
     "data": {
      "text/plain": [
       "timepoint   site   \n",
       "2009-10-01  HA1:144    0.502824\n",
       "            HA1:158    0.652430\n",
       "            HA1:162    0.848468\n",
       "            HA1:189    0.661510\n",
       "            HA1:212    0.626732\n",
       "            HA1:213    0.631197\n",
       "            HA1:260    0.898312\n",
       "            HA1:261    0.763306\n",
       "            HA1:62     0.498496\n",
       "Name: scaled_frequency, dtype: float64"
      ]
     },
     "execution_count": 53,
     "metadata": {},
     "output_type": "execute_result"
    }
   ],
   "source": [
    "mut_freqs_with_sample_freqs.groupby([\"timepoint\", \"site\"])[\"scaled_frequency\"].sum()"
   ]
  },
  {
   "cell_type": "code",
   "execution_count": 54,
   "metadata": {},
   "outputs": [
    {
     "data": {
      "text/plain": [
       "site\n",
       "HA1:144    1.000000\n",
       "HA1:158    1.000000\n",
       "HA1:162    0.999999\n",
       "HA1:189    1.000001\n",
       "HA1:212    1.000000\n",
       "HA1:213    1.000000\n",
       "HA1:260    1.000000\n",
       "HA1:261    1.000000\n",
       "HA1:62     1.000000\n",
       "Name: frequency, dtype: float64"
      ]
     },
     "execution_count": 54,
     "metadata": {},
     "output_type": "execute_result"
    }
   ],
   "source": [
    "mut_freqs_with_sample_freqs.loc[:, [\"site\", \"residue\", \"frequency\"]].drop_duplicates().groupby(\"site\")[\"frequency\"].sum()"
   ]
  },
  {
   "cell_type": "code",
   "execution_count": 55,
   "metadata": {},
   "outputs": [
    {
     "name": "stdout",
     "output_type": "stream",
     "text": [
      "          site residue  frequency\n",
      "0      HA1:144       D   0.000000\n",
      "1197   HA1:144       G   0.000000\n",
      "1206   HA1:144       I   0.000000\n",
      "12123  HA1:144       S   0.000000\n",
      "2088   HA1:144       N   0.462447\n",
      "1224   HA1:144       K   0.537553\n"
     ]
    }
   ],
   "source": [
    "print(mut_freqs_with_sample_freqs.loc[mut_freqs_with_sample_freqs[\"site\"] == \"HA1:144\", [\"site\", \"residue\", \"frequency\"]].drop_duplicates().sort_values(\n",
    "    \"frequency\"\n",
    "))"
   ]
  },
  {
   "cell_type": "code",
   "execution_count": 56,
   "metadata": {},
   "outputs": [],
   "source": [
    "scaled_mut_freqs = mut_freqs_with_sample_freqs.groupby([\"timepoint\", \"site\", \"residue\"])[\"frequency_strain\"].sum().reset_index()"
   ]
  },
  {
   "cell_type": "code",
   "execution_count": 57,
   "metadata": {},
   "outputs": [
    {
     "data": {
      "text/html": [
       "<div>\n",
       "<style scoped>\n",
       "    .dataframe tbody tr th:only-of-type {\n",
       "        vertical-align: middle;\n",
       "    }\n",
       "\n",
       "    .dataframe tbody tr th {\n",
       "        vertical-align: top;\n",
       "    }\n",
       "\n",
       "    .dataframe thead th {\n",
       "        text-align: right;\n",
       "    }\n",
       "</style>\n",
       "<table border=\"1\" class=\"dataframe\">\n",
       "  <thead>\n",
       "    <tr style=\"text-align: right;\">\n",
       "      <th></th>\n",
       "      <th>timepoint</th>\n",
       "      <th>site</th>\n",
       "      <th>residue</th>\n",
       "      <th>frequency_strain</th>\n",
       "    </tr>\n",
       "  </thead>\n",
       "  <tbody>\n",
       "    <tr>\n",
       "      <th>0</th>\n",
       "      <td>2009-10-01</td>\n",
       "      <td>HA1:144</td>\n",
       "      <td>D</td>\n",
       "      <td>0.000000</td>\n",
       "    </tr>\n",
       "    <tr>\n",
       "      <th>1</th>\n",
       "      <td>2009-10-01</td>\n",
       "      <td>HA1:144</td>\n",
       "      <td>G</td>\n",
       "      <td>0.000000</td>\n",
       "    </tr>\n",
       "    <tr>\n",
       "      <th>2</th>\n",
       "      <td>2009-10-01</td>\n",
       "      <td>HA1:144</td>\n",
       "      <td>I</td>\n",
       "      <td>0.000000</td>\n",
       "    </tr>\n",
       "    <tr>\n",
       "      <th>3</th>\n",
       "      <td>2009-10-01</td>\n",
       "      <td>HA1:144</td>\n",
       "      <td>K</td>\n",
       "      <td>0.537552</td>\n",
       "    </tr>\n",
       "    <tr>\n",
       "      <th>4</th>\n",
       "      <td>2009-10-01</td>\n",
       "      <td>HA1:144</td>\n",
       "      <td>N</td>\n",
       "      <td>0.462456</td>\n",
       "    </tr>\n",
       "  </tbody>\n",
       "</table>\n",
       "</div>"
      ],
      "text/plain": [
       "    timepoint     site residue  frequency_strain\n",
       "0  2009-10-01  HA1:144       D          0.000000\n",
       "1  2009-10-01  HA1:144       G          0.000000\n",
       "2  2009-10-01  HA1:144       I          0.000000\n",
       "3  2009-10-01  HA1:144       K          0.537552\n",
       "4  2009-10-01  HA1:144       N          0.462456"
      ]
     },
     "execution_count": 57,
     "metadata": {},
     "output_type": "execute_result"
    }
   ],
   "source": [
    "scaled_mut_freqs.head()"
   ]
  },
  {
   "cell_type": "code",
   "execution_count": 58,
   "metadata": {},
   "outputs": [
    {
     "name": "stdout",
     "output_type": "stream",
     "text": [
      "    timepoint     site residue  frequency_strain\n",
      "0  2009-10-01  HA1:144       D          0.000000\n",
      "1  2009-10-01  HA1:144       G          0.000000\n",
      "2  2009-10-01  HA1:144       I          0.000000\n",
      "5  2009-10-01  HA1:144       S          0.000000\n",
      "4  2009-10-01  HA1:144       N          0.462456\n",
      "3  2009-10-01  HA1:144       K          0.537552\n"
     ]
    }
   ],
   "source": [
    "print(scaled_mut_freqs[scaled_mut_freqs[\"site\"] == \"HA1:144\"].sort_values(\"frequency_strain\"))"
   ]
  },
  {
   "cell_type": "markdown",
   "metadata": {},
   "source": [
    "## Try out KDE-based mutation frequencies"
   ]
  },
  {
   "cell_type": "code",
   "execution_count": 59,
   "metadata": {},
   "outputs": [],
   "source": [
    "kde_frequencies = AlignmentKdeFrequencies(\n",
    "    proportion_wide=0.0,\n",
    "    pivot_frequency=6,\n",
    "    start_date=2000.75,\n",
    "    end_date=2009.75\n",
    ")"
   ]
  },
  {
   "cell_type": "code",
   "execution_count": 60,
   "metadata": {},
   "outputs": [
    {
     "data": {
      "text/plain": [
       "\u001b[0;31mSignature:\u001b[0m\n",
       "\u001b[0mkde_frequencies\u001b[0m\u001b[0;34m.\u001b[0m\u001b[0mget_density_for_observation\u001b[0m\u001b[0;34m(\u001b[0m\u001b[0;34m\u001b[0m\n",
       "\u001b[0;34m\u001b[0m    \u001b[0mmu\u001b[0m\u001b[0;34m,\u001b[0m\u001b[0;34m\u001b[0m\n",
       "\u001b[0;34m\u001b[0m    \u001b[0mpivots\u001b[0m\u001b[0;34m,\u001b[0m\u001b[0;34m\u001b[0m\n",
       "\u001b[0;34m\u001b[0m    \u001b[0msigma_narrow\u001b[0m\u001b[0;34m=\u001b[0m\u001b[0;36m0.08333333333333333\u001b[0m\u001b[0;34m,\u001b[0m\u001b[0;34m\u001b[0m\n",
       "\u001b[0;34m\u001b[0m    \u001b[0msigma_wide\u001b[0m\u001b[0;34m=\u001b[0m\u001b[0;36m0.25\u001b[0m\u001b[0;34m,\u001b[0m\u001b[0;34m\u001b[0m\n",
       "\u001b[0;34m\u001b[0m    \u001b[0mproportion_wide\u001b[0m\u001b[0;34m=\u001b[0m\u001b[0;36m0.2\u001b[0m\u001b[0;34m,\u001b[0m\u001b[0;34m\u001b[0m\n",
       "\u001b[0;34m\u001b[0m    \u001b[0;34m**\u001b[0m\u001b[0mkwargs\u001b[0m\u001b[0;34m,\u001b[0m\u001b[0;34m\u001b[0m\n",
       "\u001b[0;34m\u001b[0m\u001b[0;34m)\u001b[0m\u001b[0;34m\u001b[0m\u001b[0;34m\u001b[0m\u001b[0m\n",
       "\u001b[0;31mSource:\u001b[0m   \n",
       "    \u001b[0;34m@\u001b[0m\u001b[0mclassmethod\u001b[0m\u001b[0;34m\u001b[0m\n",
       "\u001b[0;34m\u001b[0m    \u001b[0;32mdef\u001b[0m \u001b[0mget_density_for_observation\u001b[0m\u001b[0;34m(\u001b[0m\u001b[0mcls\u001b[0m\u001b[0;34m,\u001b[0m \u001b[0mmu\u001b[0m\u001b[0;34m,\u001b[0m \u001b[0mpivots\u001b[0m\u001b[0;34m,\u001b[0m \u001b[0msigma_narrow\u001b[0m\u001b[0;34m=\u001b[0m\u001b[0;36m1\u001b[0m\u001b[0;34m/\u001b[0m\u001b[0;36m12.0\u001b[0m\u001b[0;34m,\u001b[0m \u001b[0msigma_wide\u001b[0m\u001b[0;34m=\u001b[0m\u001b[0;36m3\u001b[0m\u001b[0;34m/\u001b[0m\u001b[0;36m12.0\u001b[0m\u001b[0;34m,\u001b[0m \u001b[0mproportion_wide\u001b[0m\u001b[0;34m=\u001b[0m\u001b[0;36m0.2\u001b[0m\u001b[0;34m,\u001b[0m \u001b[0;34m**\u001b[0m\u001b[0mkwargs\u001b[0m\u001b[0;34m)\u001b[0m\u001b[0;34m:\u001b[0m\u001b[0;34m\u001b[0m\n",
       "\u001b[0;34m\u001b[0m        \u001b[0;34m\"\"\"Build a normal distribution centered across the given floating point date,\u001b[0m\n",
       "\u001b[0;34m        mu, with a standard deviation based on the given sigma value and return\u001b[0m\n",
       "\u001b[0;34m        the probability mass at each pivot. These mass values per pivot will form the\u001b[0m\n",
       "\u001b[0;34m        input for a kernel density estimate across multiple observations.\u001b[0m\n",
       "\u001b[0;34m        \"\"\"\u001b[0m\u001b[0;34m\u001b[0m\n",
       "\u001b[0;34m\u001b[0m        \u001b[0minitial_density\u001b[0m \u001b[0;34m=\u001b[0m \u001b[0mnorm\u001b[0m\u001b[0;34m.\u001b[0m\u001b[0mpdf\u001b[0m\u001b[0;34m(\u001b[0m\u001b[0mpivots\u001b[0m\u001b[0;34m[\u001b[0m\u001b[0;36m0\u001b[0m\u001b[0;34m]\u001b[0m\u001b[0;34m,\u001b[0m \u001b[0mloc\u001b[0m\u001b[0;34m=\u001b[0m\u001b[0mmu\u001b[0m\u001b[0;34m,\u001b[0m \u001b[0mscale\u001b[0m\u001b[0;34m=\u001b[0m\u001b[0msigma_narrow\u001b[0m\u001b[0;34m)\u001b[0m\u001b[0;34m\u001b[0m\n",
       "\u001b[0;34m\u001b[0m        \u001b[0mdensity\u001b[0m \u001b[0;34m=\u001b[0m \u001b[0mnp\u001b[0m\u001b[0;34m.\u001b[0m\u001b[0marray\u001b[0m\u001b[0;34m(\u001b[0m\u001b[0;34m[\u001b[0m\u001b[0minitial_density\u001b[0m\u001b[0;34m]\u001b[0m \u001b[0;34m+\u001b[0m \u001b[0mlist\u001b[0m\u001b[0;34m(\u001b[0m\u001b[0mnp\u001b[0m\u001b[0;34m.\u001b[0m\u001b[0mdiff\u001b[0m\u001b[0;34m(\u001b[0m\u001b[0mnorm\u001b[0m\u001b[0;34m.\u001b[0m\u001b[0mcdf\u001b[0m\u001b[0;34m(\u001b[0m\u001b[0mpivots\u001b[0m\u001b[0;34m,\u001b[0m \u001b[0mloc\u001b[0m\u001b[0;34m=\u001b[0m\u001b[0mmu\u001b[0m\u001b[0;34m,\u001b[0m \u001b[0mscale\u001b[0m\u001b[0;34m=\u001b[0m\u001b[0msigma_narrow\u001b[0m\u001b[0;34m)\u001b[0m\u001b[0;34m)\u001b[0m\u001b[0;34m)\u001b[0m\u001b[0;34m)\u001b[0m\u001b[0;34m\u001b[0m\n",
       "\u001b[0;34m\u001b[0m        \u001b[0;32mreturn\u001b[0m \u001b[0mdensity\u001b[0m\u001b[0;34m\u001b[0m\u001b[0;34m\u001b[0m\u001b[0m\n",
       "\u001b[0;31mFile:\u001b[0m      ~/miniconda3/envs/nextstrain/lib/python3.6/site-packages/augur/frequency_estimators.py\n",
       "\u001b[0;31mType:\u001b[0m      method\n"
      ]
     },
     "metadata": {},
     "output_type": "display_data"
    }
   ],
   "source": [
    "kde_frequencies.get_density_for_observation??"
   ]
  },
  {
   "cell_type": "code",
   "execution_count": 61,
   "metadata": {},
   "outputs": [],
   "source": [
    "with open(data_root + \"aa-seq_%s.fasta\" % gene, \"r\") as fh:\n",
    "    alignment = Bio.AlignIO.read(fh, \"fasta\")"
   ]
  },
  {
   "cell_type": "code",
   "execution_count": 62,
   "metadata": {},
   "outputs": [
    {
     "data": {
      "text/plain": [
       "<<class 'Bio.Align.MultipleSeqAlignment'> instance (2450 records of length 329, SingleLetterAlphabet()) at 1a22daf160>"
      ]
     },
     "execution_count": 62,
     "metadata": {},
     "output_type": "execute_result"
    }
   ],
   "source": [
    "alignment"
   ]
  },
  {
   "cell_type": "code",
   "execution_count": 63,
   "metadata": {},
   "outputs": [],
   "source": [
    "sample_alignment = MultipleSeqAlignment([record for record in alignment if not record.id.startswith(\"NODE\")])"
   ]
  },
  {
   "cell_type": "code",
   "execution_count": 64,
   "metadata": {},
   "outputs": [
    {
     "data": {
      "text/plain": [
       "<<class 'Bio.Align.MultipleSeqAlignment'> instance (1350 records of length 329, SingleLetterAlphabet()) at 1a22daf5f8>"
      ]
     },
     "execution_count": 64,
     "metadata": {},
     "output_type": "execute_result"
    }
   ],
   "source": [
    "sample_alignment"
   ]
  },
  {
   "cell_type": "code",
   "execution_count": 65,
   "metadata": {},
   "outputs": [],
   "source": [
    "samples_df[\"numeric_date\"] = samples_df[\"date\"].apply(numeric_date)"
   ]
  },
  {
   "cell_type": "code",
   "execution_count": 66,
   "metadata": {},
   "outputs": [],
   "source": [
    "date_by_sample = dict(samples_df.loc[:, [\"strain\", \"numeric_date\"]].values)"
   ]
  },
  {
   "cell_type": "code",
   "execution_count": 67,
   "metadata": {},
   "outputs": [],
   "source": [
    "dates = [date_by_sample[record.id] for record in sample_alignment]"
   ]
  },
  {
   "cell_type": "code",
   "execution_count": 68,
   "metadata": {},
   "outputs": [
    {
     "data": {
      "text/plain": [
       "1350"
      ]
     },
     "execution_count": 68,
     "metadata": {},
     "output_type": "execute_result"
    }
   ],
   "source": [
    "len(dates)"
   ]
  },
  {
   "cell_type": "code",
   "execution_count": 69,
   "metadata": {},
   "outputs": [
    {
     "data": {
      "text/plain": [
       "SeqRecord(seq=Seq('QKLPGNDNSTATLCLGHHAVPNGTLVKTITNDQIEVTNATELVQSSSTGGICDS...QTR', SingleLetterAlphabet()), id='A/Canterbury/96/2000', name='A/Canterbury/96/2000', description='A/Canterbury/96/2000', dbxrefs=[])"
      ]
     },
     "execution_count": 69,
     "metadata": {},
     "output_type": "execute_result"
    }
   ],
   "source": [
    "sample_alignment[0]"
   ]
  },
  {
   "cell_type": "code",
   "execution_count": 70,
   "metadata": {},
   "outputs": [
    {
     "data": {
      "text/plain": [
       "array([2000.75, 2001.25, 2001.75, 2002.25, 2002.75, 2003.25, 2003.75,\n",
       "       2004.25, 2004.75, 2005.25, 2005.75, 2006.25, 2006.75, 2007.25,\n",
       "       2007.75, 2008.25, 2008.75, 2009.25, 2009.75])"
      ]
     },
     "execution_count": 70,
     "metadata": {},
     "output_type": "execute_result"
    }
   ],
   "source": [
    "np.array(mutation_frequencies[\"pivots\"])"
   ]
  },
  {
   "cell_type": "code",
   "execution_count": 71,
   "metadata": {},
   "outputs": [
    {
     "data": {
      "text/plain": [
       "1350"
      ]
     },
     "execution_count": 71,
     "metadata": {},
     "output_type": "execute_result"
    }
   ],
   "source": [
    "len(sample_alignment)"
   ]
  },
  {
   "cell_type": "code",
   "execution_count": 72,
   "metadata": {},
   "outputs": [
    {
     "data": {
      "text/plain": [
       "[2000.8213552361397,\n",
       " 2000.8240930869267,\n",
       " 2001.101300479124,\n",
       " 2000.914442162902,\n",
       " 2001.101300479124]"
      ]
     },
     "execution_count": 72,
     "metadata": {},
     "output_type": "execute_result"
    }
   ],
   "source": [
    "dates[:5]"
   ]
  },
  {
   "cell_type": "code",
   "execution_count": 73,
   "metadata": {},
   "outputs": [],
   "source": [
    "frequencies = kde_frequencies.estimate(sample_alignment, dates)"
   ]
  },
  {
   "cell_type": "code",
   "execution_count": 74,
   "metadata": {},
   "outputs": [
    {
     "data": {
      "text/plain": [
       "array([2000.75, 2001.25, 2001.75, 2002.25, 2002.75, 2003.25, 2003.75,\n",
       "       2004.25, 2004.75, 2005.25, 2005.75, 2006.25, 2006.75, 2007.25,\n",
       "       2007.75, 2008.25, 2008.75, 2009.25, 2009.75])"
      ]
     },
     "execution_count": 74,
     "metadata": {},
     "output_type": "execute_result"
    }
   ],
   "source": [
    "kde_frequencies.pivots"
   ]
  },
  {
   "cell_type": "code",
   "execution_count": 75,
   "metadata": {},
   "outputs": [
    {
     "data": {
      "text/plain": [
       "<matplotlib.legend.Legend at 0x1a230b0e80>"
      ]
     },
     "execution_count": 75,
     "metadata": {},
     "output_type": "execute_result"
    },
    {
     "data": {
      "image/png": "[encoded data removed]",
      "text/plain": [
       "<Figure size 432x288 with 1 Axes>"
      ]
     },
     "metadata": {
      "needs_background": "light"
     },
     "output_type": "display_data"
    }
   ],
   "source": [
    "for key in frequencies.keys():\n",
    "    if key.startswith(\"144:\"):\n",
    "        plt.plot(kde_frequencies.pivots, frequencies[key], \"o-\", label=key)\n",
    "\n",
    "plt.legend()"
   ]
  },
  {
   "cell_type": "code",
   "execution_count": 76,
   "metadata": {},
   "outputs": [
    {
     "data": {
      "text/plain": [
       "array([2000.75, 2001.25, 2001.75, 2002.25, 2002.75, 2003.25, 2003.75,\n",
       "       2004.25, 2004.75, 2005.25, 2005.75, 2006.25, 2006.75, 2007.25,\n",
       "       2007.75, 2008.25, 2008.75, 2009.25, 2009.75])"
      ]
     },
     "execution_count": 76,
     "metadata": {},
     "output_type": "execute_result"
    }
   ],
   "source": [
    "kde_frequencies.pivots"
   ]
  },
  {
   "cell_type": "code",
   "execution_count": 77,
   "metadata": {},
   "outputs": [
    {
     "data": {
      "text/plain": [
       "array([2000.75, 2001.25, 2001.75, 2002.25, 2002.75, 2003.25, 2003.75,\n",
       "       2004.25, 2004.75, 2005.25, 2005.75, 2006.25, 2006.75, 2007.25,\n",
       "       2007.75, 2008.25, 2008.75, 2009.25, 2009.75])"
      ]
     },
     "execution_count": 77,
     "metadata": {},
     "output_type": "execute_result"
    }
   ],
   "source": [
    "np.array(mutation_frequencies[\"pivots\"])"
   ]
  },
  {
   "cell_type": "code",
   "execution_count": 78,
   "metadata": {},
   "outputs": [
    {
     "data": {
      "text/plain": [
       "<matplotlib.legend.Legend at 0x1a2301b390>"
      ]
     },
     "execution_count": 78,
     "metadata": {},
     "output_type": "execute_result"
    },
    {
     "data": {
      "image/png": "[encoded data removed]",
      "text/plain": [
       "<Figure size 432x288 with 1 Axes>"
      ]
     },
     "metadata": {
      "needs_background": "light"
     },
     "output_type": "display_data"
    }
   ],
   "source": [
    "for key in mutation_frequencies.keys():\n",
    "    if key.startswith(\"HA1:144\"):\n",
    "        plt.plot(mutation_frequencies[\"pivots\"], mutation_frequencies[key], \"o-\", label=key)\n",
    "\n",
    "plt.legend()"
   ]
  },
  {
   "cell_type": "code",
   "execution_count": 79,
   "metadata": {},
   "outputs": [
    {
     "name": "stderr",
     "output_type": "stream",
     "text": [
      "No handles with labels found to put in legend.\n"
     ]
    },
    {
     "data": {
      "text/plain": [
       "<matplotlib.legend.Legend at 0x1a2306c5f8>"
      ]
     },
     "execution_count": 79,
     "metadata": {},
     "output_type": "execute_result"
    },
    {
     "data": {
      "image/png": "[encoded data removed]",
      "text/plain": [
       "<Figure size 432x288 with 1 Axes>"
      ]
     },
     "metadata": {
      "needs_background": "light"
     },
     "output_type": "display_data"
    }
   ],
   "source": [
    "for key in frequencies.keys():\n",
    "    if key.startswith(\"154:\"):\n",
    "        plt.plot(kde_frequencies.pivots, frequencies[key], \"o-\", label=key)\n",
    "\n",
    "plt.legend()"
   ]
  },
  {
   "cell_type": "code",
   "execution_count": 80,
   "metadata": {},
   "outputs": [
    {
     "data": {
      "text/plain": [
       "<matplotlib.legend.Legend at 0x1a22dd84a8>"
      ]
     },
     "execution_count": 80,
     "metadata": {},
     "output_type": "execute_result"
    },
    {
     "data": {
      "image/png": "[encoded data removed]",
      "text/plain": [
       "<Figure size 432x288 with 1 Axes>"
      ]
     },
     "metadata": {
      "needs_background": "light"
     },
     "output_type": "display_data"
    }
   ],
   "source": [
    "for key in frequencies.keys():\n",
    "    if key.startswith(\"155:\"):\n",
    "        plt.plot(kde_frequencies.pivots, frequencies[key], \"o-\", label=key)\n",
    "\n",
    "plt.legend()"
   ]
  },
  {
   "cell_type": "code",
   "execution_count": 81,
   "metadata": {},
   "outputs": [
    {
     "data": {
      "text/plain": [
       "<matplotlib.legend.Legend at 0x1a22e88438>"
      ]
     },
     "execution_count": 81,
     "metadata": {},
     "output_type": "execute_result"
    },
    {
     "data": {
      "image/png": "[encoded data removed]",
      "text/plain": [
       "<Figure size 432x288 with 1 Axes>"
      ]
     },
     "metadata": {
      "needs_background": "light"
     },
     "output_type": "display_data"
    }
   ],
   "source": [
    "for key in frequencies.keys():\n",
    "    if key.startswith(\"156:\"):\n",
    "        plt.plot(kde_frequencies.pivots, frequencies[key], \"o-\", label=key)\n",
    "\n",
    "plt.legend()"
   ]
  },
  {
   "cell_type": "markdown",
   "metadata": {},
   "source": [
    "## Inspect scaled mutation frequencies from all timepoints"
   ]
  },
  {
   "cell_type": "code",
   "execution_count": 82,
   "metadata": {},
   "outputs": [],
   "source": [
    "df = pd.read_csv(\n",
    "    \"../results/builds/h3n2/20_viruses_per_month/sample_0/2000-10-01--2015-10-01/mutation_frequencies_by_tip.tsv\",\n",
    "    sep=\"\\t\",\n",
    "    parse_dates=[\"timepoint\"]\n",
    ")"
   ]
  },
  {
   "cell_type": "code",
   "execution_count": 83,
   "metadata": {},
   "outputs": [
    {
     "data": {
      "text/html": [
       "<div>\n",
       "<style scoped>\n",
       "    .dataframe tbody tr th:only-of-type {\n",
       "        vertical-align: middle;\n",
       "    }\n",
       "\n",
       "    .dataframe tbody tr th {\n",
       "        vertical-align: top;\n",
       "    }\n",
       "\n",
       "    .dataframe thead th {\n",
       "        text-align: right;\n",
       "    }\n",
       "</style>\n",
       "<table border=\"1\" class=\"dataframe\">\n",
       "  <thead>\n",
       "    <tr style=\"text-align: right;\">\n",
       "      <th></th>\n",
       "      <th>residue</th>\n",
       "      <th>site</th>\n",
       "      <th>strain</th>\n",
       "      <th>mutation</th>\n",
       "      <th>timepoint</th>\n",
       "      <th>frequency</th>\n",
       "    </tr>\n",
       "  </thead>\n",
       "  <tbody>\n",
       "    <tr>\n",
       "      <th>0</th>\n",
       "      <td>P</td>\n",
       "      <td>HA1:103</td>\n",
       "      <td>A/HongKong/HKU2/2004</td>\n",
       "      <td>HA1:103P</td>\n",
       "      <td>2004-10-01</td>\n",
       "      <td>0.001207</td>\n",
       "    </tr>\n",
       "    <tr>\n",
       "      <th>1</th>\n",
       "      <td>Y</td>\n",
       "      <td>HA1:105</td>\n",
       "      <td>A/HongKong/HKU2/2004</td>\n",
       "      <td>HA1:105Y</td>\n",
       "      <td>2004-10-01</td>\n",
       "      <td>0.001207</td>\n",
       "    </tr>\n",
       "    <tr>\n",
       "      <th>2</th>\n",
       "      <td>N</td>\n",
       "      <td>HA1:121</td>\n",
       "      <td>A/HongKong/HKU2/2004</td>\n",
       "      <td>HA1:121N</td>\n",
       "      <td>2004-10-01</td>\n",
       "      <td>0.001207</td>\n",
       "    </tr>\n",
       "    <tr>\n",
       "      <th>3</th>\n",
       "      <td>S</td>\n",
       "      <td>HA1:124</td>\n",
       "      <td>A/HongKong/HKU2/2004</td>\n",
       "      <td>HA1:124S</td>\n",
       "      <td>2004-10-01</td>\n",
       "      <td>0.001207</td>\n",
       "    </tr>\n",
       "    <tr>\n",
       "      <th>4</th>\n",
       "      <td>D</td>\n",
       "      <td>HA1:126</td>\n",
       "      <td>A/HongKong/HKU2/2004</td>\n",
       "      <td>HA1:126D</td>\n",
       "      <td>2004-10-01</td>\n",
       "      <td>0.001207</td>\n",
       "    </tr>\n",
       "  </tbody>\n",
       "</table>\n",
       "</div>"
      ],
      "text/plain": [
       "  residue     site                strain  mutation  timepoint  frequency\n",
       "0       P  HA1:103  A/HongKong/HKU2/2004  HA1:103P 2004-10-01   0.001207\n",
       "1       Y  HA1:105  A/HongKong/HKU2/2004  HA1:105Y 2004-10-01   0.001207\n",
       "2       N  HA1:121  A/HongKong/HKU2/2004  HA1:121N 2004-10-01   0.001207\n",
       "3       S  HA1:124  A/HongKong/HKU2/2004  HA1:124S 2004-10-01   0.001207\n",
       "4       D  HA1:126  A/HongKong/HKU2/2004  HA1:126D 2004-10-01   0.001207"
      ]
     },
     "execution_count": 83,
     "metadata": {},
     "output_type": "execute_result"
    }
   ],
   "source": [
    "df.head()"
   ]
  },
  {
   "cell_type": "code",
   "execution_count": 84,
   "metadata": {},
   "outputs": [
    {
     "data": {
      "text/plain": [
       "(899296, 6)"
      ]
     },
     "execution_count": 84,
     "metadata": {},
     "output_type": "execute_result"
    }
   ],
   "source": [
    "df.shape"
   ]
  },
  {
   "cell_type": "code",
   "execution_count": 85,
   "metadata": {},
   "outputs": [],
   "source": [
    "df_by_timepoint_and_mutation = df.groupby([\"timepoint\", \"site\", \"residue\", \"mutation\"])[\"frequency\"].sum().reset_index()"
   ]
  },
  {
   "cell_type": "code",
   "execution_count": 86,
   "metadata": {},
   "outputs": [
    {
     "data": {
      "text/html": [
       "<div>\n",
       "<style scoped>\n",
       "    .dataframe tbody tr th:only-of-type {\n",
       "        vertical-align: middle;\n",
       "    }\n",
       "\n",
       "    .dataframe tbody tr th {\n",
       "        vertical-align: top;\n",
       "    }\n",
       "\n",
       "    .dataframe thead th {\n",
       "        text-align: right;\n",
       "    }\n",
       "</style>\n",
       "<table border=\"1\" class=\"dataframe\">\n",
       "  <thead>\n",
       "    <tr style=\"text-align: right;\">\n",
       "      <th></th>\n",
       "      <th>timepoint</th>\n",
       "      <th>site</th>\n",
       "      <th>residue</th>\n",
       "      <th>mutation</th>\n",
       "      <th>frequency</th>\n",
       "    </tr>\n",
       "  </thead>\n",
       "  <tbody>\n",
       "    <tr>\n",
       "      <th>0</th>\n",
       "      <td>2004-10-01</td>\n",
       "      <td>HA1:103</td>\n",
       "      <td>P</td>\n",
       "      <td>HA1:103P</td>\n",
       "      <td>0.980490</td>\n",
       "    </tr>\n",
       "    <tr>\n",
       "      <th>1</th>\n",
       "      <td>2004-10-01</td>\n",
       "      <td>HA1:103</td>\n",
       "      <td>Q</td>\n",
       "      <td>HA1:103Q</td>\n",
       "      <td>0.019513</td>\n",
       "    </tr>\n",
       "    <tr>\n",
       "      <th>2</th>\n",
       "      <td>2004-10-01</td>\n",
       "      <td>HA1:105</td>\n",
       "      <td>H</td>\n",
       "      <td>HA1:105H</td>\n",
       "      <td>0.014087</td>\n",
       "    </tr>\n",
       "    <tr>\n",
       "      <th>3</th>\n",
       "      <td>2004-10-01</td>\n",
       "      <td>HA1:105</td>\n",
       "      <td>Y</td>\n",
       "      <td>HA1:105Y</td>\n",
       "      <td>0.985916</td>\n",
       "    </tr>\n",
       "    <tr>\n",
       "      <th>4</th>\n",
       "      <td>2004-10-01</td>\n",
       "      <td>HA1:121</td>\n",
       "      <td>N</td>\n",
       "      <td>HA1:121N</td>\n",
       "      <td>0.979939</td>\n",
       "    </tr>\n",
       "  </tbody>\n",
       "</table>\n",
       "</div>"
      ],
      "text/plain": [
       "   timepoint     site residue  mutation  frequency\n",
       "0 2004-10-01  HA1:103       P  HA1:103P   0.980490\n",
       "1 2004-10-01  HA1:103       Q  HA1:103Q   0.019513\n",
       "2 2004-10-01  HA1:105       H  HA1:105H   0.014087\n",
       "3 2004-10-01  HA1:105       Y  HA1:105Y   0.985916\n",
       "4 2004-10-01  HA1:121       N  HA1:121N   0.979939"
      ]
     },
     "execution_count": 86,
     "metadata": {},
     "output_type": "execute_result"
    }
   ],
   "source": [
    "df_by_timepoint_and_mutation.head()"
   ]
  },
  {
   "cell_type": "code",
   "execution_count": 87,
   "metadata": {},
   "outputs": [],
   "source": [
    "timepoints_per_site = df_by_timepoint_and_mutation.loc[:, [\"timepoint\", \"site\"]].drop_duplicates().groupby(\"site\")[\"timepoint\"].count().reset_index()"
   ]
  },
  {
   "cell_type": "code",
   "execution_count": 88,
   "metadata": {},
   "outputs": [
    {
     "data": {
      "text/html": [
       "<div>\n",
       "<style scoped>\n",
       "    .dataframe tbody tr th:only-of-type {\n",
       "        vertical-align: middle;\n",
       "    }\n",
       "\n",
       "    .dataframe tbody tr th {\n",
       "        vertical-align: top;\n",
       "    }\n",
       "\n",
       "    .dataframe thead th {\n",
       "        text-align: right;\n",
       "    }\n",
       "</style>\n",
       "<table border=\"1\" class=\"dataframe\">\n",
       "  <thead>\n",
       "    <tr style=\"text-align: right;\">\n",
       "      <th></th>\n",
       "      <th>site</th>\n",
       "      <th>timepoint</th>\n",
       "    </tr>\n",
       "  </thead>\n",
       "  <tbody>\n",
       "    <tr>\n",
       "      <th>0</th>\n",
       "      <td>HA1:1</td>\n",
       "      <td>6</td>\n",
       "    </tr>\n",
       "    <tr>\n",
       "      <th>1</th>\n",
       "      <td>HA1:10</td>\n",
       "      <td>16</td>\n",
       "    </tr>\n",
       "    <tr>\n",
       "      <th>2</th>\n",
       "      <td>HA1:100</td>\n",
       "      <td>3</td>\n",
       "    </tr>\n",
       "    <tr>\n",
       "      <th>3</th>\n",
       "      <td>HA1:101</td>\n",
       "      <td>3</td>\n",
       "    </tr>\n",
       "    <tr>\n",
       "      <th>4</th>\n",
       "      <td>HA1:102</td>\n",
       "      <td>1</td>\n",
       "    </tr>\n",
       "  </tbody>\n",
       "</table>\n",
       "</div>"
      ],
      "text/plain": [
       "      site  timepoint\n",
       "0    HA1:1          6\n",
       "1   HA1:10         16\n",
       "2  HA1:100          3\n",
       "3  HA1:101          3\n",
       "4  HA1:102          1"
      ]
     },
     "execution_count": 88,
     "metadata": {},
     "output_type": "execute_result"
    }
   ],
   "source": [
    "timepoints_per_site.head()"
   ]
  },
  {
   "cell_type": "code",
   "execution_count": 89,
   "metadata": {},
   "outputs": [
    {
     "data": {
      "text/plain": [
       "(427,)"
      ]
     },
     "execution_count": 89,
     "metadata": {},
     "output_type": "execute_result"
    }
   ],
   "source": [
    "timepoints_per_site[\"site\"].shape"
   ]
  },
  {
   "cell_type": "code",
   "execution_count": 90,
   "metadata": {},
   "outputs": [
    {
     "data": {
      "text/plain": [
       "33"
      ]
     },
     "execution_count": 90,
     "metadata": {},
     "output_type": "execute_result"
    }
   ],
   "source": [
    "(timepoints_per_site[\"timepoint\"] == 1).sum()"
   ]
  },
  {
   "cell_type": "code",
   "execution_count": 91,
   "metadata": {},
   "outputs": [
    {
     "data": {
      "text/plain": [
       "394"
      ]
     },
     "execution_count": 91,
     "metadata": {},
     "output_type": "execute_result"
    }
   ],
   "source": [
    "(timepoints_per_site[\"timepoint\"] > 1).sum()"
   ]
  },
  {
   "cell_type": "code",
   "execution_count": 92,
   "metadata": {},
   "outputs": [
    {
     "data": {
      "text/plain": [
       "29"
      ]
     },
     "execution_count": 92,
     "metadata": {},
     "output_type": "execute_result"
    }
   ],
   "source": [
    "(timepoints_per_site[\"timepoint\"] > 18).sum()"
   ]
  },
  {
   "cell_type": "code",
   "execution_count": 93,
   "metadata": {},
   "outputs": [],
   "source": [
    "sites_with_multiple_timepoints = timepoints_per_site[timepoints_per_site[\"timepoint\"] > 18][\"site\"].values"
   ]
  },
  {
   "cell_type": "code",
   "execution_count": 94,
   "metadata": {},
   "outputs": [],
   "source": [
    "min_max_frequency_per_site = df_by_timepoint_and_mutation.groupby([\"site\", \"timepoint\"])[\"frequency\"].max().reset_index().groupby(\n",
    "    \"site\"\n",
    ")[\"frequency\"].min().reset_index()"
   ]
  },
  {
   "cell_type": "code",
   "execution_count": 95,
   "metadata": {},
   "outputs": [
    {
     "data": {
      "text/html": [
       "<div>\n",
       "<style scoped>\n",
       "    .dataframe tbody tr th:only-of-type {\n",
       "        vertical-align: middle;\n",
       "    }\n",
       "\n",
       "    .dataframe tbody tr th {\n",
       "        vertical-align: top;\n",
       "    }\n",
       "\n",
       "    .dataframe thead th {\n",
       "        text-align: right;\n",
       "    }\n",
       "</style>\n",
       "<table border=\"1\" class=\"dataframe\">\n",
       "  <thead>\n",
       "    <tr style=\"text-align: right;\">\n",
       "      <th></th>\n",
       "      <th>site</th>\n",
       "      <th>frequency</th>\n",
       "    </tr>\n",
       "  </thead>\n",
       "  <tbody>\n",
       "    <tr>\n",
       "      <th>0</th>\n",
       "      <td>HA1:1</td>\n",
       "      <td>0.986223</td>\n",
       "    </tr>\n",
       "    <tr>\n",
       "      <th>1</th>\n",
       "      <td>HA1:10</td>\n",
       "      <td>0.970225</td>\n",
       "    </tr>\n",
       "    <tr>\n",
       "      <th>2</th>\n",
       "      <td>HA1:100</td>\n",
       "      <td>0.978072</td>\n",
       "    </tr>\n",
       "    <tr>\n",
       "      <th>3</th>\n",
       "      <td>HA1:101</td>\n",
       "      <td>0.994725</td>\n",
       "    </tr>\n",
       "    <tr>\n",
       "      <th>4</th>\n",
       "      <td>HA1:102</td>\n",
       "      <td>0.990389</td>\n",
       "    </tr>\n",
       "  </tbody>\n",
       "</table>\n",
       "</div>"
      ],
      "text/plain": [
       "      site  frequency\n",
       "0    HA1:1   0.986223\n",
       "1   HA1:10   0.970225\n",
       "2  HA1:100   0.978072\n",
       "3  HA1:101   0.994725\n",
       "4  HA1:102   0.990389"
      ]
     },
     "execution_count": 95,
     "metadata": {},
     "output_type": "execute_result"
    }
   ],
   "source": [
    "min_max_frequency_per_site.head()"
   ]
  },
  {
   "cell_type": "code",
   "execution_count": 96,
   "metadata": {},
   "outputs": [],
   "source": [
    "sites_with_min_max_frequency = min_max_frequency_per_site[min_max_frequency_per_site[\"frequency\"] < 0.8][\"site\"].values"
   ]
  },
  {
   "cell_type": "code",
   "execution_count": 97,
   "metadata": {},
   "outputs": [],
   "source": [
    "sites_to_plot = set(sites_with_multiple_timepoints).intersection(set(sites_with_min_max_frequency))"
   ]
  },
  {
   "cell_type": "code",
   "execution_count": 98,
   "metadata": {},
   "outputs": [
    {
     "data": {
      "text/plain": [
       "<seaborn.axisgrid.FacetGrid at 0x1a22e0eda0>"
      ]
     },
     "execution_count": 98,
     "metadata": {},
     "output_type": "execute_result"
    },
    {
     "data": {
      "image/png": "[encoded data removed]",
      "text/plain": [
       "<Figure size 864x1080 with 19 Axes>"
      ]
     },
     "metadata": {
      "needs_background": "light"
     },
     "output_type": "display_data"
    }
   ],
   "source": [
    "g = sns.FacetGrid(df_by_timepoint_and_mutation[df_by_timepoint_and_mutation[\"site\"].isin(sites_to_plot)],\n",
    "                  hue=\"residue\", col=\"site\", col_wrap=4)\n",
    "g.map(plt.plot, \"timepoint\", \"frequency\", marker=\"o\")"
   ]
  },
  {
   "cell_type": "code",
   "execution_count": 99,
   "metadata": {},
   "outputs": [],
   "source": [
    "new_df = df_by_timepoint_and_mutation[df_by_timepoint_and_mutation[\"site\"] == \"HA1:144\"]"
   ]
  },
  {
   "cell_type": "code",
   "execution_count": 100,
   "metadata": {},
   "outputs": [
    {
     "data": {
      "text/html": [
       "<div>\n",
       "<style scoped>\n",
       "    .dataframe tbody tr th:only-of-type {\n",
       "        vertical-align: middle;\n",
       "    }\n",
       "\n",
       "    .dataframe tbody tr th {\n",
       "        vertical-align: top;\n",
       "    }\n",
       "\n",
       "    .dataframe thead th {\n",
       "        text-align: right;\n",
       "    }\n",
       "</style>\n",
       "<table border=\"1\" class=\"dataframe\">\n",
       "  <thead>\n",
       "    <tr style=\"text-align: right;\">\n",
       "      <th></th>\n",
       "      <th>timepoint</th>\n",
       "      <th>site</th>\n",
       "      <th>residue</th>\n",
       "      <th>mutation</th>\n",
       "      <th>frequency</th>\n",
       "    </tr>\n",
       "  </thead>\n",
       "  <tbody>\n",
       "    <tr>\n",
       "      <th>17</th>\n",
       "      <td>2004-10-01</td>\n",
       "      <td>HA1:144</td>\n",
       "      <td>D</td>\n",
       "      <td>HA1:144D</td>\n",
       "      <td>0.000988</td>\n",
       "    </tr>\n",
       "    <tr>\n",
       "      <th>18</th>\n",
       "      <td>2004-10-01</td>\n",
       "      <td>HA1:144</td>\n",
       "      <td>N</td>\n",
       "      <td>HA1:144N</td>\n",
       "      <td>0.999015</td>\n",
       "    </tr>\n",
       "    <tr>\n",
       "      <th>184</th>\n",
       "      <td>2005-04-01</td>\n",
       "      <td>HA1:144</td>\n",
       "      <td>D</td>\n",
       "      <td>HA1:144D</td>\n",
       "      <td>0.000025</td>\n",
       "    </tr>\n",
       "    <tr>\n",
       "      <th>185</th>\n",
       "      <td>2005-04-01</td>\n",
       "      <td>HA1:144</td>\n",
       "      <td>N</td>\n",
       "      <td>HA1:144N</td>\n",
       "      <td>0.999973</td>\n",
       "    </tr>\n",
       "    <tr>\n",
       "      <th>482</th>\n",
       "      <td>2006-04-01</td>\n",
       "      <td>HA1:144</td>\n",
       "      <td>D</td>\n",
       "      <td>HA1:144D</td>\n",
       "      <td>0.017192</td>\n",
       "    </tr>\n",
       "  </tbody>\n",
       "</table>\n",
       "</div>"
      ],
      "text/plain": [
       "     timepoint     site residue  mutation  frequency\n",
       "17  2004-10-01  HA1:144       D  HA1:144D   0.000988\n",
       "18  2004-10-01  HA1:144       N  HA1:144N   0.999015\n",
       "184 2005-04-01  HA1:144       D  HA1:144D   0.000025\n",
       "185 2005-04-01  HA1:144       N  HA1:144N   0.999973\n",
       "482 2006-04-01  HA1:144       D  HA1:144D   0.017192"
      ]
     },
     "execution_count": 100,
     "metadata": {},
     "output_type": "execute_result"
    }
   ],
   "source": [
    "new_df.head()"
   ]
  },
  {
   "cell_type": "code",
   "execution_count": 102,
   "metadata": {},
   "outputs": [
    {
     "data": {
      "text/plain": [
       "<matplotlib.legend.Legend at 0x1a24266978>"
      ]
     },
     "execution_count": 102,
     "metadata": {},
     "output_type": "execute_result"
    },
    {
     "data": {
      "image/png": "[encoded data removed]",
      "text/plain": [
       "<Figure size 2090.88x432 with 1 Axes>"
      ]
     },
     "metadata": {
      "needs_background": "light"
     },
     "output_type": "display_data"
    }
   ],
   "source": [
    "g = sns.FacetGrid(df_by_timepoint_and_mutation[df_by_timepoint_and_mutation[\"site\"] == \"HA1:144\"],\n",
    "                  hue=\"residue\", col=\"site\", col_wrap=4, height=6, aspect=1.21)\n",
    "g.map(plt.plot, \"timepoint\", \"frequency\", marker=\"o\")\n",
    "\n",
    "g.axes[0].legend()"
   ]
  },
  {
   "cell_type": "code",
   "execution_count": 105,
   "metadata": {},
   "outputs": [],
   "source": []
  },
  {
   "cell_type": "code",
   "execution_count": 107,
   "metadata": {},
   "outputs": [
    {
     "data": {
      "text/plain": [
       "<matplotlib.legend.Legend at 0x1a2426c6d8>"
      ]
     },
     "execution_count": 107,
     "metadata": {},
     "output_type": "execute_result"
    },
    {
     "data": {
      "image/png": "[encoded data removed]",
      "text/plain": [
       "<Figure size 432x288 with 1 Axes>"
      ]
     },
     "metadata": {
      "needs_background": "light"
     },
     "output_type": "display_data"
    }
   ],
   "source": [
    "with open(data_root.replace(\"2009-10-01\", \"2015-10-01\") + \"mutation_frequencies.json\", \"r\") as fh:\n",
    "    mutation_frequencies = json.load(fh)\n",
    "\n",
    "for key in mutation_frequencies.keys():\n",
    "    if key.startswith(\"HA1:144\"):\n",
    "        plt.plot(mutation_frequencies[\"pivots\"], mutation_frequencies[key], \"o-\", label=key)\n",
    "\n",
    "plt.legend()"
   ]
  },
  {
   "cell_type": "code",
   "execution_count": 108,
   "metadata": {},
   "outputs": [
    {
     "data": {
      "text/plain": [
       "<matplotlib.legend.Legend at 0x1a25859668>"
      ]
     },
     "execution_count": 108,
     "metadata": {},
     "output_type": "execute_result"
    },
    {
     "data": {
      "image/png": "[encoded data removed]",
      "text/plain": [
       "<Figure size 432x288 with 1 Axes>"
      ]
     },
     "metadata": {
      "needs_background": "light"
     },
     "output_type": "display_data"
    }
   ],
   "source": [
    "with open(data_root + \"mutation_frequencies.json\", \"r\") as fh:\n",
    "    mutation_frequencies = json.load(fh)\n",
    "\n",
    "for key in mutation_frequencies.keys():\n",
    "    if key.startswith(\"HA1:144\"):\n",
    "        plt.plot(mutation_frequencies[\"pivots\"], mutation_frequencies[key], \"o-\", label=key)\n",
    "\n",
    "plt.legend()"
   ]
  },
  {
   "cell_type": "code",
   "execution_count": 109,
   "metadata": {},
   "outputs": [
    {
     "data": {
      "text/plain": [
       "<matplotlib.legend.Legend at 0x1a24e81c88>"
      ]
     },
     "execution_count": 109,
     "metadata": {},
     "output_type": "execute_result"
    },
    {
     "data": {
      "image/png": "[encoded data removed]",
      "text/plain": [
       "<Figure size 432x288 with 1 Axes>"
      ]
     },
     "metadata": {
      "needs_background": "light"
     },
     "output_type": "display_data"
    }
   ],
   "source": [
    "with open(data_root.replace(\"2009-10-01\", \"2004-10-01\") + \"mutation_frequencies.json\", \"r\") as fh:\n",
    "    mutation_frequencies = json.load(fh)\n",
    "\n",
    "for key in mutation_frequencies.keys():\n",
    "    if key.startswith(\"HA1:144\"):\n",
    "        plt.plot(mutation_frequencies[\"pivots\"], mutation_frequencies[key], \"o-\", label=key)\n",
    "\n",
    "plt.legend()"
   ]
  },
  {
   "cell_type": "code",
   "execution_count": null,
   "metadata": {},
   "outputs": [],
   "source": []
  }
 ],
 "metadata": {
  "kernelspec": {
   "display_name": "Python 3",
   "language": "python",
   "name": "python3"
  },
  "language_info": {
   "codemirror_mode": {
    "name": "ipython",
    "version": 3
   },
   "file_extension": ".py",
   "mimetype": "text/x-python",
   "name": "python",
   "nbconvert_exporter": "python",
   "pygments_lexer": "ipython3",
   "version": "3.6.7"
  }
 },
 "nbformat": 4,
 "nbformat_minor": 2
}
