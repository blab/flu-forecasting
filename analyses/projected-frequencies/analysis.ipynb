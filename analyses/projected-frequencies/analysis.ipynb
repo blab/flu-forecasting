{
 "cells": [
  {
   "cell_type": "code",
   "execution_count": 11,
   "metadata": {},
   "outputs": [],
   "source": [
    "tree_path = \"dist/augur/builds/flu/auspice/flu_h3n2_ha_2000-2012y_30v_3_tree.json\"\n",
    "frequencies_path = \"frequencies/flu_h3n2_ha_2006-2018y_92v_3.json\"\n",
    "model_path = \"models/2006-2018/92/ep/3.json\""
   ]
  },
  {
   "cell_type": "code",
   "execution_count": 12,
   "metadata": {},
   "outputs": [],
   "source": [
    "from collections import defaultdict\n",
    "import json\n",
    "import matplotlib.pyplot as plt\n",
    "import numpy as np\n",
    "import os\n",
    "import pandas as pd\n",
    "import seaborn as sns\n",
    "import sys\n",
    "\n",
    "%matplotlib inline"
   ]
  },
  {
   "cell_type": "code",
   "execution_count": 13,
   "metadata": {},
   "outputs": [
    {
     "data": {
      "text/plain": [
       "'/Users/jlhudd/projects/nextstrain/flu-forecasting/analyses/projected-frequencies'"
      ]
     },
     "execution_count": 13,
     "metadata": {},
     "output_type": "execute_result"
    }
   ],
   "source": [
    "os.getcwd()"
   ]
  },
  {
   "cell_type": "code",
   "execution_count": 14,
   "metadata": {},
   "outputs": [],
   "source": [
    "augur_path = os.path.join(os.path.dirname(os.path.dirname(os.getcwd())), \"dist\", \"augur\")"
   ]
  },
  {
   "cell_type": "code",
   "execution_count": 15,
   "metadata": {},
   "outputs": [],
   "source": [
    "sys.path.append(augur_path)"
   ]
  },
  {
   "cell_type": "code",
   "execution_count": 16,
   "metadata": {},
   "outputs": [],
   "source": [
    "from base.fitness_model import fitness_model as FitnessModel\n",
    "from base.frequencies import KdeFrequencies\n",
    "from base.io_util import json_to_tree"
   ]
  },
  {
   "cell_type": "code",
   "execution_count": 17,
   "metadata": {},
   "outputs": [],
   "source": [
    "def load_tree_from_json_filename(filename):\n",
    "    # Load JSON tree.\n",
    "    with open(filename, \"r\") as json_fh:\n",
    "         json_tree = json.load(json_fh)\n",
    "\n",
    "    # Convert JSON tree layout to a Biopython Clade instance.\n",
    "    tree = json_to_tree(json_tree)\n",
    "\n",
    "    return tree\n",
    "\n",
    "def load_frequencies_from_json_filename(filename):\n",
    "    # Load JSON frequencies.\n",
    "    with open(filename, \"r\") as json_fh:\n",
    "         json_frequencies = json.load(json_fh)\n",
    "\n",
    "    # Create frequencies instance from JSON.\n",
    "    frequencies = KdeFrequencies.from_json(json_frequencies)\n",
    "\n",
    "    return frequencies\n",
    "\n",
    "def project_clade_frequencies_by_delta_from_time(tree, model, time, delta, delta_steps_per_year=12):\n",
    "    \"\"\"\n",
    "    Project clade frequencies from a given time to the future by a given delta.\n",
    "    \"\"\"\n",
    "    # Calculate the steps between the projection date and delta time into the\n",
    "    # future. First, find the frequency pivot that is closest to the requested\n",
    "    # projection date.\n",
    "    max_date = model.timepoints[np.searchsorted(model.timepoints, time)]\n",
    "    future_date = max_date + delta\n",
    "\n",
    "    # Then, calculate a fixed number of steps between that pivot and delta time\n",
    "    # into the future.\n",
    "    projected_pivots = np.linspace(max_date, future_date, int(delta_steps_per_year * delta))\n",
    "    deltas = projected_pivots - max_date\n",
    "\n",
    "    # Identify tip predictors and frequencies at the current time point.\n",
    "    all_pred = model.predictor_arrays[max_date]\n",
    "    all_freqs = model.freq_arrays[max_date]\n",
    "\n",
    "    # For each requested delta, project current tip frequencies using the model\n",
    "    # and calculate the corresponding projected clade frequencies.\n",
    "    projected_clade_frequencies = defaultdict(list)\n",
    "\n",
    "    for delta in deltas:\n",
    "        # Project all tip frequencies.\n",
    "        pred_freq = model.projection(model.model_params, all_pred, all_freqs, delta)\n",
    "\n",
    "        # Normalize projected frequencies.\n",
    "        pred_freq = pred_freq / pred_freq.sum()\n",
    "\n",
    "        # Store projected frequencies by clade id.\n",
    "        for i, tip in enumerate(model.tips):\n",
    "            projected_clade_frequencies[tip.clade].append(pred_freq[i])\n",
    "\n",
    "        # Calculate projected frequencies for internal nodes and store by clade it.\n",
    "        for node in tree.find_clades(order=\"postorder\"):\n",
    "            if not node.is_terminal():\n",
    "                projected_clade_frequencies[node.clade].append(pred_freq[node.tips].sum())\n",
    "\n",
    "    projected_frequencies = {\n",
    "        \"params\": {\n",
    "            \"max_date\": max_date\n",
    "        },\n",
    "        \"data\": {\n",
    "            \"pivots\": projected_pivots.tolist(),\n",
    "            \"frequencies\": projected_clade_frequencies\n",
    "        }\n",
    "    }\n",
    "\n",
    "    return projected_frequencies"
   ]
  },
  {
   "cell_type": "code",
   "execution_count": 18,
   "metadata": {},
   "outputs": [
    {
     "ename": "IOError",
     "evalue": "[Errno 2] No such file or directory: 'dist/augur/builds/flu/auspice/flu_h3n2_ha_2006-2018y_30v_3_tree.json'",
     "output_type": "error",
     "traceback": [
      "\u001b[0;31m---------------------------------------------------------------------------\u001b[0m",
      "\u001b[0;31mIOError\u001b[0m                                   Traceback (most recent call last)",
      "\u001b[0;32m<ipython-input-18-ed6d857183a8>\u001b[0m in \u001b[0;36m<module>\u001b[0;34m()\u001b[0m\n\u001b[0;32m----> 1\u001b[0;31m \u001b[0mtree\u001b[0m \u001b[0;34m=\u001b[0m \u001b[0mload_tree_from_json_filename\u001b[0m\u001b[0;34m(\u001b[0m\u001b[0mtree_path\u001b[0m\u001b[0;34m)\u001b[0m\u001b[0;34m\u001b[0m\u001b[0m\n\u001b[0m",
      "\u001b[0;32m<ipython-input-17-cc79051a5330>\u001b[0m in \u001b[0;36mload_tree_from_json_filename\u001b[0;34m(filename)\u001b[0m\n\u001b[1;32m      1\u001b[0m \u001b[0;32mdef\u001b[0m \u001b[0mload_tree_from_json_filename\u001b[0m\u001b[0;34m(\u001b[0m\u001b[0mfilename\u001b[0m\u001b[0;34m)\u001b[0m\u001b[0;34m:\u001b[0m\u001b[0;34m\u001b[0m\u001b[0m\n\u001b[1;32m      2\u001b[0m     \u001b[0;31m# Load JSON tree.\u001b[0m\u001b[0;34m\u001b[0m\u001b[0;34m\u001b[0m\u001b[0m\n\u001b[0;32m----> 3\u001b[0;31m     \u001b[0;32mwith\u001b[0m \u001b[0mopen\u001b[0m\u001b[0;34m(\u001b[0m\u001b[0mfilename\u001b[0m\u001b[0;34m,\u001b[0m \u001b[0;34m\"r\"\u001b[0m\u001b[0;34m)\u001b[0m \u001b[0;32mas\u001b[0m \u001b[0mjson_fh\u001b[0m\u001b[0;34m:\u001b[0m\u001b[0;34m\u001b[0m\u001b[0m\n\u001b[0m\u001b[1;32m      4\u001b[0m          \u001b[0mjson_tree\u001b[0m \u001b[0;34m=\u001b[0m \u001b[0mjson\u001b[0m\u001b[0;34m.\u001b[0m\u001b[0mload\u001b[0m\u001b[0;34m(\u001b[0m\u001b[0mjson_fh\u001b[0m\u001b[0;34m)\u001b[0m\u001b[0;34m\u001b[0m\u001b[0m\n\u001b[1;32m      5\u001b[0m \u001b[0;34m\u001b[0m\u001b[0m\n",
      "\u001b[0;31mIOError\u001b[0m: [Errno 2] No such file or directory: 'dist/augur/builds/flu/auspice/flu_h3n2_ha_2006-2018y_30v_3_tree.json'"
     ]
    }
   ],
   "source": [
    "tree = load_tree_from_json_filename(tree_path)"
   ]
  },
  {
   "cell_type": "code",
   "execution_count": null,
   "metadata": {},
   "outputs": [],
   "source": [
    "tree"
   ]
  },
  {
   "cell_type": "code",
   "execution_count": 9,
   "metadata": {},
   "outputs": [],
   "source": [
    "frequencies = load_frequencies_from_json_filename(frequencies_path)"
   ]
  },
  {
   "cell_type": "code",
   "execution_count": 10,
   "metadata": {},
   "outputs": [
    {
     "data": {
      "text/plain": [
       "<base.frequencies.KdeFrequencies at 0x12441a810>"
      ]
     },
     "execution_count": 10,
     "metadata": {},
     "output_type": "execute_result"
    }
   ],
   "source": [
    "frequencies"
   ]
  },
  {
   "cell_type": "code",
   "execution_count": 11,
   "metadata": {},
   "outputs": [
    {
     "name": "stderr",
     "output_type": "stream",
     "text": [
      "setup wolf epitope mask and HA1 tolerance mask\n"
     ]
    }
   ],
   "source": [
    "with open(model_path, \"r\") as fh:\n",
    "    json_model = json.load(fh)\n",
    "\n",
    "predictors = {record[\"predictor\"]: [round(record[\"param\"], 2), round(record[\"global_sd\"], 2)]\n",
    "              for record in json_model[\"params\"]}\n",
    "predictors_key = \"-\".join(sorted([record[\"predictor\"] for record in json_model[\"params\"]]))\n",
    "predictor_kwargs = json_model[\"predictor_kwargs\"]\n",
    "\n",
    "model = FitnessModel(\n",
    "    tree,\n",
    "    frequencies,\n",
    "    predictors,\n",
    "    epitope_masks_fname=\"%s/builds/flu/metadata/ha_masks.tsv\" % augur_path,\n",
    "    epitope_mask_version=\"wolf\",\n",
    "    tolerance_mask_version=\"HA1\",\n",
    "    min_freq=0.1,\n",
    "    predictor_kwargs=predictor_kwargs\n",
    ")\n",
    "model.prep_nodes()\n",
    "model.delta_time = json_model[\"delta_time\"]\n",
    "\n",
    "predictor_arrays = {}\n",
    "for key in json_model[\"predictor_arrays\"]:\n",
    "    predictor_arrays[float(key)] = np.array(json_model[\"predictor_arrays\"][key])\n",
    "\n",
    "model.predictor_arrays = predictor_arrays\n",
    "\n",
    "freq_arrays = {}\n",
    "for key in json_model[\"freq_arrays\"]:\n",
    "    freq_arrays[float(key)] = np.array(json_model[\"freq_arrays\"][key])\n",
    "\n",
    "model.freq_arrays = freq_arrays\n",
    "\n",
    "model.select_clades_for_fitting()"
   ]
  },
  {
   "cell_type": "code",
   "execution_count": 12,
   "metadata": {},
   "outputs": [
    {
     "data": {
      "text/plain": [
       "array([ 2007.25,  2007.76,  2008.26,  2008.77,  2009.27,  2009.77,\n",
       "        2010.28,  2010.78,  2011.29,  2011.79,  2012.29,  2012.8 ,\n",
       "        2013.3 ,  2013.81,  2014.31,  2014.81,  2015.32,  2015.82,\n",
       "        2016.33,  2016.83,  2017.33,  2018.33])"
      ]
     },
     "execution_count": 12,
     "metadata": {},
     "output_type": "execute_result"
    }
   ],
   "source": [
    "model.timepoints"
   ]
  },
  {
   "cell_type": "code",
   "execution_count": 23,
   "metadata": {},
   "outputs": [],
   "source": [
    "time = 2013.81\n",
    "frequency_params = frequencies.get_params()\n",
    "frequency_params[\"max_date\"] = time\n",
    "censored_frequencies = KdeFrequencies(**frequency_params)\n",
    "censored = censored_frequencies.estimate(tree)"
   ]
  },
  {
   "cell_type": "code",
   "execution_count": 24,
   "metadata": {},
   "outputs": [],
   "source": [
    "projected_frequencies = project_clade_frequencies_by_delta_from_time(tree, model, time, delta=1.0)"
   ]
  },
  {
   "cell_type": "code",
   "execution_count": 25,
   "metadata": {},
   "outputs": [
    {
     "data": {
      "image/png": "[encoded data removed]",
      "text/plain": [
       "<matplotlib.figure.Figure at 0x11753b690>"
      ]
     },
     "metadata": {},
     "output_type": "display_data"
    }
   ],
   "source": [
    "number_of_clades = 4\n",
    "fig, axes = plt.subplots(number_of_clades, 1, figsize=(12, 3 * number_of_clades), sharex=True, sharey=True,\n",
    "                         squeeze=False, gridspec_kw={\"hspace\": 0.5})\n",
    "flat_axes = axes.flatten()\n",
    "random_clades = np.random.choice(model.fit_clades[time], size=number_of_clades)\n",
    "\n",
    "for i, clade in enumerate(random_clades):\n",
    "    ax = flat_axes[i]\n",
    "    ax.set_title(\"Clade %s with %s tips\" % (clade.clade, len(clade.get_terminals())))\n",
    "    ax.plot(model.pivots, frequencies.frequencies[clade.clade], \"o-\",\n",
    "            label=\"Observed\")\n",
    "    ax.plot(model.pivots, censored_frequencies.frequencies[clade.clade], \"o-\",\n",
    "            label=\"Censored\")\n",
    "    ax.plot(projected_frequencies[\"data\"][\"pivots\"], projected_frequencies[\"data\"][\"frequencies\"][clade.clade], \"o--\",\n",
    "            label=\"Projected\")\n",
    "\n",
    "    ax.axhline(y=0.1, color=\"#000000\", alpha=0.3, zorder=-10)\n",
    "    ax.axvline(x=time, color=\"#000000\", alpha=0.3, zorder=-10)\n",
    "\n",
    "    #ax.set_xlim(2008, 2012)\n",
    "    ax.set_xlabel(\"Date\")\n",
    "    ax.set_ylabel(\"Frequency\")\n",
    "\n",
    "ax.legend()\n",
    "sns.despine()"
   ]
  },
  {
   "cell_type": "code",
   "execution_count": null,
   "metadata": {},
   "outputs": [],
   "source": []
  }
 ],
 "metadata": {
  "kernelspec": {
   "display_name": "Python [conda env:janus_python2]",
   "language": "python",
   "name": "conda-env-janus_python2-py"
  },
  "language_info": {
   "codemirror_mode": {
    "name": "ipython",
    "version": 2
   },
   "file_extension": ".py",
   "mimetype": "text/x-python",
   "name": "python",
   "nbconvert_exporter": "python",
   "pygments_lexer": "ipython2",
   "version": "2.7.13"
  }
 },
 "nbformat": 4,
 "nbformat_minor": 2
}
