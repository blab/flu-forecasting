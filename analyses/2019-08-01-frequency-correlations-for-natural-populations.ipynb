{
 "cells": [
  {
   "cell_type": "markdown",
   "metadata": {},
   "source": [
    "# Frequency correlation plots for natural populations\n",
    "\n",
    "Example code for how to calculate frequency correlation plots from augur forecasting builds."
   ]
  },
  {
   "cell_type": "code",
   "execution_count": 1,
   "metadata": {},
   "outputs": [],
   "source": [
    "import altair as alt\n",
    "import numpy as np\n",
    "import pandas as pd\n",
    "from scipy.stats import pearsonr"
   ]
  },
  {
   "cell_type": "code",
   "execution_count": 2,
   "metadata": {},
   "outputs": [
    {
     "name": "stdout",
     "output_type": "stream",
     "text": [
      "/Users/jlhudd/projects/nextstrain/flu-forecasting/analyses\n"
     ]
    }
   ],
   "source": [
    "!pwd"
   ]
  },
  {
   "cell_type": "code",
   "execution_count": 3,
   "metadata": {},
   "outputs": [],
   "source": [
    "def matthews_correlation_coefficient(tp, tn, fp, fn):\n",
    "    \"\"\"Return Matthews correlation coefficient for values from a confusion matrix.\n",
    "    Implementation is based on the definition from wikipedia:\n",
    "\n",
    "    https://en.wikipedia.org/wiki/Matthews_correlation_coefficient\n",
    "    \"\"\"\n",
    "    numerator = (tp * tn) - (fp * fn)\n",
    "    denominator = np.sqrt((tp + fp) * (tp + fn) * (tn + fp) * (tn + fn))\n",
    "    if denominator == 0:\n",
    "            denominator = 1\n",
    "\n",
    "    return float(numerator) / denominator\n",
    "\n",
    "def get_matthews_correlation_coefficient_for_data_frame(freq_df, return_confusion_matrix=False):\n",
    "        \"\"\"Calculate Matthew's correlation coefficient from a given pandas data frame\n",
    "        with columns for initial, observed, and predicted frequencies.\n",
    "        \"\"\"\n",
    "        observed_growth = (freq_df[\"frequency_final\"] > freq_df[\"frequency\"])\n",
    "        predicted_growth = (freq_df[\"projected_frequency\"] > freq_df[\"frequency\"])\n",
    "        true_positives = ((observed_growth) & (predicted_growth)).sum()\n",
    "        false_positives= ((~observed_growth) & (predicted_growth)).sum()\n",
    "\n",
    "        observed_decline = (freq_df[\"frequency_final\"] <= freq_df[\"frequency\"])\n",
    "        predicted_decline = (freq_df[\"projected_frequency\"] <= freq_df[\"frequency\"])\n",
    "        true_negatives = ((observed_decline) & (predicted_decline)).sum()\n",
    "        false_negatives = ((~observed_decline) & (predicted_decline)).sum()\n",
    "\n",
    "        mcc = matthews_correlation_coefficient(\n",
    "            true_positives,\n",
    "            true_negatives,\n",
    "            false_positives,\n",
    "            false_negatives\n",
    "        )\n",
    "\n",
    "        if return_confusion_matrix:\n",
    "            confusion_matrix = {\n",
    "                \"tp\": true_positives,\n",
    "                \"tn\": true_negatives,\n",
    "                \"fp\": false_positives,\n",
    "                \"fn\": false_negatives\n",
    "            }\n",
    "            \n",
    "            return mcc, confusion_matrix\n",
    "        else:\n",
    "            return mcc"
   ]
  },
  {
   "cell_type": "markdown",
   "metadata": {},
   "source": [
    "## Load data"
   ]
  },
  {
   "cell_type": "code",
   "execution_count": 4,
   "metadata": {},
   "outputs": [],
   "source": [
    "data_root = \"../results/builds/natural/natural_sample_1_with_10_vpm/\""
   ]
  },
  {
   "cell_type": "code",
   "execution_count": 5,
   "metadata": {},
   "outputs": [],
   "source": [
    "tips = pd.read_csv(\n",
    "    \"%s/tip_attributes_with_weighted_distances.tsv\" % data_root,\n",
    "    sep=\"\\t\",\n",
    "    parse_dates=[\"timepoint\"],\n",
    "    usecols=[\"strain\", \"timepoint\", \"frequency\"]\n",
    ")"
   ]
  },
  {
   "cell_type": "code",
   "execution_count": 6,
   "metadata": {},
   "outputs": [
    {
     "data": {
      "text/html": [
       "<div>\n",
       "<style scoped>\n",
       "    .dataframe tbody tr th:only-of-type {\n",
       "        vertical-align: middle;\n",
       "    }\n",
       "\n",
       "    .dataframe tbody tr th {\n",
       "        vertical-align: top;\n",
       "    }\n",
       "\n",
       "    .dataframe thead th {\n",
       "        text-align: right;\n",
       "    }\n",
       "</style>\n",
       "<table border=\"1\" class=\"dataframe\">\n",
       "  <thead>\n",
       "    <tr style=\"text-align: right;\">\n",
       "      <th></th>\n",
       "      <th>strain</th>\n",
       "      <th>timepoint</th>\n",
       "      <th>frequency</th>\n",
       "    </tr>\n",
       "  </thead>\n",
       "  <tbody>\n",
       "    <tr>\n",
       "      <th>0</th>\n",
       "      <td>A/England/121/1995</td>\n",
       "      <td>1995-10-01</td>\n",
       "      <td>0.003272</td>\n",
       "    </tr>\n",
       "  </tbody>\n",
       "</table>\n",
       "</div>"
      ],
      "text/plain": [
       "               strain  timepoint  frequency\n",
       "0  A/England/121/1995 1995-10-01   0.003272"
      ]
     },
     "execution_count": 6,
     "metadata": {},
     "output_type": "execute_result"
    }
   ],
   "source": [
    "tips.head(1)"
   ]
  },
  {
   "cell_type": "code",
   "execution_count": 7,
   "metadata": {},
   "outputs": [],
   "source": [
    "tips_to_clades = pd.read_csv(\"%s/tips_to_clades.tsv\" % data_root, sep=\"\\t\", parse_dates=[\"timepoint\"])"
   ]
  },
  {
   "cell_type": "code",
   "execution_count": 8,
   "metadata": {},
   "outputs": [
    {
     "data": {
      "text/html": [
       "<div>\n",
       "<style scoped>\n",
       "    .dataframe tbody tr th:only-of-type {\n",
       "        vertical-align: middle;\n",
       "    }\n",
       "\n",
       "    .dataframe tbody tr th {\n",
       "        vertical-align: top;\n",
       "    }\n",
       "\n",
       "    .dataframe thead th {\n",
       "        text-align: right;\n",
       "    }\n",
       "</style>\n",
       "<table border=\"1\" class=\"dataframe\">\n",
       "  <thead>\n",
       "    <tr style=\"text-align: right;\">\n",
       "      <th></th>\n",
       "      <th>tip</th>\n",
       "      <th>clade_membership</th>\n",
       "      <th>depth</th>\n",
       "      <th>timepoint</th>\n",
       "    </tr>\n",
       "  </thead>\n",
       "  <tbody>\n",
       "    <tr>\n",
       "      <th>0</th>\n",
       "      <td>A/Jitie/1/1995</td>\n",
       "      <td>318c503</td>\n",
       "      <td>0</td>\n",
       "      <td>1995-10-01</td>\n",
       "    </tr>\n",
       "  </tbody>\n",
       "</table>\n",
       "</div>"
      ],
      "text/plain": [
       "              tip clade_membership  depth  timepoint\n",
       "0  A/Jitie/1/1995          318c503      0 1995-10-01"
      ]
     },
     "execution_count": 8,
     "metadata": {},
     "output_type": "execute_result"
    }
   ],
   "source": [
    "tips_to_clades.head(1)"
   ]
  },
  {
   "cell_type": "code",
   "execution_count": 9,
   "metadata": {},
   "outputs": [],
   "source": [
    "forecasts = pd.read_csv(\n",
    "    \"%s/natural_sample_1_with_10_vpm_lbi_forecast.tsv\" % data_root,\n",
    "    sep=\"\\t\",\n",
    "    parse_dates=[\"timepoint\"],\n",
    "    usecols=[\"timepoint\", \"strain\", \"fitness\", \"frequency\", \"projected_frequency\"]\n",
    ")"
   ]
  },
  {
   "cell_type": "code",
   "execution_count": 10,
   "metadata": {},
   "outputs": [
    {
     "data": {
      "text/html": [
       "<div>\n",
       "<style scoped>\n",
       "    .dataframe tbody tr th:only-of-type {\n",
       "        vertical-align: middle;\n",
       "    }\n",
       "\n",
       "    .dataframe tbody tr th {\n",
       "        vertical-align: top;\n",
       "    }\n",
       "\n",
       "    .dataframe thead th {\n",
       "        text-align: right;\n",
       "    }\n",
       "</style>\n",
       "<table border=\"1\" class=\"dataframe\">\n",
       "  <thead>\n",
       "    <tr style=\"text-align: right;\">\n",
       "      <th></th>\n",
       "      <th>timepoint</th>\n",
       "      <th>strain</th>\n",
       "      <th>frequency</th>\n",
       "      <th>fitness</th>\n",
       "      <th>projected_frequency</th>\n",
       "    </tr>\n",
       "  </thead>\n",
       "  <tbody>\n",
       "    <tr>\n",
       "      <th>0</th>\n",
       "      <td>1995-10-01</td>\n",
       "      <td>A/England/121/1995</td>\n",
       "      <td>0.003272</td>\n",
       "      <td>-2.645588</td>\n",
       "      <td>0.000436</td>\n",
       "    </tr>\n",
       "  </tbody>\n",
       "</table>\n",
       "</div>"
      ],
      "text/plain": [
       "   timepoint              strain  frequency   fitness  projected_frequency\n",
       "0 1995-10-01  A/England/121/1995   0.003272 -2.645588             0.000436"
      ]
     },
     "execution_count": 10,
     "metadata": {},
     "output_type": "execute_result"
    }
   ],
   "source": [
    "forecasts.head(1)"
   ]
  },
  {
   "cell_type": "markdown",
   "metadata": {},
   "source": [
    "## Find large clades\n",
    "\n",
    "Find all clades with an initial frequency some minimum value (e.g., >15%)."
   ]
  },
  {
   "cell_type": "code",
   "execution_count": 11,
   "metadata": {},
   "outputs": [],
   "source": [
    "clade_tip_initial_frequencies = tips_to_clades.merge(\n",
    "    tips,\n",
    "    how=\"left\",\n",
    "    left_on=[\"timepoint\", \"tip\"],\n",
    "    right_on=[\"timepoint\", \"strain\"]\n",
    ").drop(columns=[\"depth\", \"strain\"])"
   ]
  },
  {
   "cell_type": "code",
   "execution_count": 12,
   "metadata": {},
   "outputs": [],
   "source": [
    "clade_tip_initial_frequencies = clade_tip_initial_frequencies.fillna(0.0).copy()"
   ]
  },
  {
   "cell_type": "code",
   "execution_count": 13,
   "metadata": {},
   "outputs": [
    {
     "data": {
      "text/html": [
       "<div>\n",
       "<style scoped>\n",
       "    .dataframe tbody tr th:only-of-type {\n",
       "        vertical-align: middle;\n",
       "    }\n",
       "\n",
       "    .dataframe tbody tr th {\n",
       "        vertical-align: top;\n",
       "    }\n",
       "\n",
       "    .dataframe thead th {\n",
       "        text-align: right;\n",
       "    }\n",
       "</style>\n",
       "<table border=\"1\" class=\"dataframe\">\n",
       "  <thead>\n",
       "    <tr style=\"text-align: right;\">\n",
       "      <th></th>\n",
       "      <th>tip</th>\n",
       "      <th>clade_membership</th>\n",
       "      <th>timepoint</th>\n",
       "      <th>frequency</th>\n",
       "    </tr>\n",
       "  </thead>\n",
       "  <tbody>\n",
       "    <tr>\n",
       "      <th>0</th>\n",
       "      <td>A/Jitie/1/1995</td>\n",
       "      <td>318c503</td>\n",
       "      <td>1995-10-01</td>\n",
       "      <td>0.000164</td>\n",
       "    </tr>\n",
       "    <tr>\n",
       "      <th>1</th>\n",
       "      <td>A/Jitie/1/1995</td>\n",
       "      <td>8e08f7f</td>\n",
       "      <td>1995-10-01</td>\n",
       "      <td>0.000164</td>\n",
       "    </tr>\n",
       "    <tr>\n",
       "      <th>2</th>\n",
       "      <td>A/Jitie/1/1995</td>\n",
       "      <td>root</td>\n",
       "      <td>1995-10-01</td>\n",
       "      <td>0.000164</td>\n",
       "    </tr>\n",
       "    <tr>\n",
       "      <th>3</th>\n",
       "      <td>A/NewYork/654/1994</td>\n",
       "      <td>3ce6939</td>\n",
       "      <td>1995-10-01</td>\n",
       "      <td>0.000000</td>\n",
       "    </tr>\n",
       "    <tr>\n",
       "      <th>4</th>\n",
       "      <td>A/NewYork/654/1994</td>\n",
       "      <td>509b83b</td>\n",
       "      <td>1995-10-01</td>\n",
       "      <td>0.000000</td>\n",
       "    </tr>\n",
       "  </tbody>\n",
       "</table>\n",
       "</div>"
      ],
      "text/plain": [
       "                  tip clade_membership  timepoint  frequency\n",
       "0      A/Jitie/1/1995          318c503 1995-10-01   0.000164\n",
       "1      A/Jitie/1/1995          8e08f7f 1995-10-01   0.000164\n",
       "2      A/Jitie/1/1995             root 1995-10-01   0.000164\n",
       "3  A/NewYork/654/1994          3ce6939 1995-10-01   0.000000\n",
       "4  A/NewYork/654/1994          509b83b 1995-10-01   0.000000"
      ]
     },
     "execution_count": 13,
     "metadata": {},
     "output_type": "execute_result"
    }
   ],
   "source": [
    "clade_tip_initial_frequencies.head()"
   ]
  },
  {
   "cell_type": "code",
   "execution_count": 14,
   "metadata": {},
   "outputs": [],
   "source": [
    "initial_clade_frequencies = clade_tip_initial_frequencies.groupby([\"timepoint\", \"clade_membership\"])[\"frequency\"].sum().reset_index()"
   ]
  },
  {
   "cell_type": "code",
   "execution_count": 15,
   "metadata": {},
   "outputs": [
    {
     "data": {
      "text/html": [
       "<div>\n",
       "<style scoped>\n",
       "    .dataframe tbody tr th:only-of-type {\n",
       "        vertical-align: middle;\n",
       "    }\n",
       "\n",
       "    .dataframe tbody tr th {\n",
       "        vertical-align: top;\n",
       "    }\n",
       "\n",
       "    .dataframe thead th {\n",
       "        text-align: right;\n",
       "    }\n",
       "</style>\n",
       "<table border=\"1\" class=\"dataframe\">\n",
       "  <thead>\n",
       "    <tr style=\"text-align: right;\">\n",
       "      <th></th>\n",
       "      <th>timepoint</th>\n",
       "      <th>clade_membership</th>\n",
       "      <th>frequency</th>\n",
       "    </tr>\n",
       "  </thead>\n",
       "  <tbody>\n",
       "    <tr>\n",
       "      <th>0</th>\n",
       "      <td>1995-10-01</td>\n",
       "      <td>02e323e</td>\n",
       "      <td>0.154225</td>\n",
       "    </tr>\n",
       "    <tr>\n",
       "      <th>1</th>\n",
       "      <td>1995-10-01</td>\n",
       "      <td>0451ac2</td>\n",
       "      <td>0.038982</td>\n",
       "    </tr>\n",
       "    <tr>\n",
       "      <th>2</th>\n",
       "      <td>1995-10-01</td>\n",
       "      <td>0734650</td>\n",
       "      <td>0.003272</td>\n",
       "    </tr>\n",
       "    <tr>\n",
       "      <th>3</th>\n",
       "      <td>1995-10-01</td>\n",
       "      <td>0acf798</td>\n",
       "      <td>0.044474</td>\n",
       "    </tr>\n",
       "    <tr>\n",
       "      <th>4</th>\n",
       "      <td>1995-10-01</td>\n",
       "      <td>1a74f77</td>\n",
       "      <td>0.188457</td>\n",
       "    </tr>\n",
       "  </tbody>\n",
       "</table>\n",
       "</div>"
      ],
      "text/plain": [
       "   timepoint clade_membership  frequency\n",
       "0 1995-10-01          02e323e   0.154225\n",
       "1 1995-10-01          0451ac2   0.038982\n",
       "2 1995-10-01          0734650   0.003272\n",
       "3 1995-10-01          0acf798   0.044474\n",
       "4 1995-10-01          1a74f77   0.188457"
      ]
     },
     "execution_count": 15,
     "metadata": {},
     "output_type": "execute_result"
    }
   ],
   "source": [
    "initial_clade_frequencies.head()"
   ]
  },
  {
   "cell_type": "code",
   "execution_count": 16,
   "metadata": {},
   "outputs": [],
   "source": [
    "initial_clades = initial_clade_frequencies.query(\"frequency > 0.15 & timepoint >= '2002-10-01' & timepoint < '2015-04-01'\").copy()"
   ]
  },
  {
   "cell_type": "code",
   "execution_count": 17,
   "metadata": {},
   "outputs": [
    {
     "data": {
      "text/html": [
       "<div>\n",
       "<style scoped>\n",
       "    .dataframe tbody tr th:only-of-type {\n",
       "        vertical-align: middle;\n",
       "    }\n",
       "\n",
       "    .dataframe tbody tr th {\n",
       "        vertical-align: top;\n",
       "    }\n",
       "\n",
       "    .dataframe thead th {\n",
       "        text-align: right;\n",
       "    }\n",
       "</style>\n",
       "<table border=\"1\" class=\"dataframe\">\n",
       "  <thead>\n",
       "    <tr style=\"text-align: right;\">\n",
       "      <th></th>\n",
       "      <th>timepoint</th>\n",
       "      <th>clade_membership</th>\n",
       "      <th>frequency</th>\n",
       "    </tr>\n",
       "  </thead>\n",
       "  <tbody>\n",
       "    <tr>\n",
       "      <th>2877</th>\n",
       "      <td>2002-10-01</td>\n",
       "      <td>02e323e</td>\n",
       "      <td>1.000002</td>\n",
       "    </tr>\n",
       "    <tr>\n",
       "      <th>2881</th>\n",
       "      <td>2002-10-01</td>\n",
       "      <td>048f8ca</td>\n",
       "      <td>1.000002</td>\n",
       "    </tr>\n",
       "    <tr>\n",
       "      <th>2883</th>\n",
       "      <td>2002-10-01</td>\n",
       "      <td>05a6dc1</td>\n",
       "      <td>0.517050</td>\n",
       "    </tr>\n",
       "    <tr>\n",
       "      <th>2891</th>\n",
       "      <td>2002-10-01</td>\n",
       "      <td>09e68a2</td>\n",
       "      <td>1.000002</td>\n",
       "    </tr>\n",
       "    <tr>\n",
       "      <th>2960</th>\n",
       "      <td>2002-10-01</td>\n",
       "      <td>35491c6</td>\n",
       "      <td>1.000002</td>\n",
       "    </tr>\n",
       "  </tbody>\n",
       "</table>\n",
       "</div>"
      ],
      "text/plain": [
       "      timepoint clade_membership  frequency\n",
       "2877 2002-10-01          02e323e   1.000002\n",
       "2881 2002-10-01          048f8ca   1.000002\n",
       "2883 2002-10-01          05a6dc1   0.517050\n",
       "2891 2002-10-01          09e68a2   1.000002\n",
       "2960 2002-10-01          35491c6   1.000002"
      ]
     },
     "execution_count": 17,
     "metadata": {},
     "output_type": "execute_result"
    }
   ],
   "source": [
    "initial_clades.head()"
   ]
  },
  {
   "cell_type": "code",
   "execution_count": 18,
   "metadata": {},
   "outputs": [
    {
     "data": {
      "text/html": [
       "<div>\n",
       "<style scoped>\n",
       "    .dataframe tbody tr th:only-of-type {\n",
       "        vertical-align: middle;\n",
       "    }\n",
       "\n",
       "    .dataframe tbody tr th {\n",
       "        vertical-align: top;\n",
       "    }\n",
       "\n",
       "    .dataframe thead th {\n",
       "        text-align: right;\n",
       "    }\n",
       "</style>\n",
       "<table border=\"1\" class=\"dataframe\">\n",
       "  <thead>\n",
       "    <tr style=\"text-align: right;\">\n",
       "      <th></th>\n",
       "      <th>timepoint</th>\n",
       "      <th>clade_membership</th>\n",
       "      <th>frequency</th>\n",
       "    </tr>\n",
       "  </thead>\n",
       "  <tbody>\n",
       "    <tr>\n",
       "      <th>33722</th>\n",
       "      <td>2014-10-01</td>\n",
       "      <td>f2ec31a</td>\n",
       "      <td>0.999987</td>\n",
       "    </tr>\n",
       "    <tr>\n",
       "      <th>33724</th>\n",
       "      <td>2014-10-01</td>\n",
       "      <td>f321e53</td>\n",
       "      <td>0.999987</td>\n",
       "    </tr>\n",
       "    <tr>\n",
       "      <th>33725</th>\n",
       "      <td>2014-10-01</td>\n",
       "      <td>f3f16af</td>\n",
       "      <td>0.999987</td>\n",
       "    </tr>\n",
       "    <tr>\n",
       "      <th>33800</th>\n",
       "      <td>2014-10-01</td>\n",
       "      <td>fd5608c</td>\n",
       "      <td>0.999987</td>\n",
       "    </tr>\n",
       "    <tr>\n",
       "      <th>33817</th>\n",
       "      <td>2014-10-01</td>\n",
       "      <td>root</td>\n",
       "      <td>0.999987</td>\n",
       "    </tr>\n",
       "  </tbody>\n",
       "</table>\n",
       "</div>"
      ],
      "text/plain": [
       "       timepoint clade_membership  frequency\n",
       "33722 2014-10-01          f2ec31a   0.999987\n",
       "33724 2014-10-01          f321e53   0.999987\n",
       "33725 2014-10-01          f3f16af   0.999987\n",
       "33800 2014-10-01          fd5608c   0.999987\n",
       "33817 2014-10-01             root   0.999987"
      ]
     },
     "execution_count": 18,
     "metadata": {},
     "output_type": "execute_result"
    }
   ],
   "source": [
    "initial_clades.tail()"
   ]
  },
  {
   "cell_type": "code",
   "execution_count": 19,
   "metadata": {},
   "outputs": [
    {
     "data": {
      "text/plain": [
       "(984, 3)"
      ]
     },
     "execution_count": 19,
     "metadata": {},
     "output_type": "execute_result"
    }
   ],
   "source": [
    "initial_clades.shape"
   ]
  },
  {
   "cell_type": "code",
   "execution_count": 48,
   "metadata": {},
   "outputs": [
    {
     "data": {
      "text/html": [
       "<div>\n",
       "<style scoped>\n",
       "    .dataframe tbody tr th:only-of-type {\n",
       "        vertical-align: middle;\n",
       "    }\n",
       "\n",
       "    .dataframe tbody tr th {\n",
       "        vertical-align: top;\n",
       "    }\n",
       "\n",
       "    .dataframe thead th {\n",
       "        text-align: right;\n",
       "    }\n",
       "</style>\n",
       "<table border=\"1\" class=\"dataframe\">\n",
       "  <thead>\n",
       "    <tr style=\"text-align: right;\">\n",
       "      <th></th>\n",
       "      <th>timepoint</th>\n",
       "      <th>clade_membership</th>\n",
       "      <th>frequency</th>\n",
       "      <th>final_timepoint</th>\n",
       "    </tr>\n",
       "  </thead>\n",
       "  <tbody>\n",
       "    <tr>\n",
       "      <th>21969</th>\n",
       "      <td>2011-10-01</td>\n",
       "      <td>c139e7c</td>\n",
       "      <td>0.266878</td>\n",
       "      <td>2012-10-01</td>\n",
       "    </tr>\n",
       "    <tr>\n",
       "      <th>23680</th>\n",
       "      <td>2012-04-01</td>\n",
       "      <td>c139e7c</td>\n",
       "      <td>0.425949</td>\n",
       "      <td>2013-04-01</td>\n",
       "    </tr>\n",
       "    <tr>\n",
       "      <th>25478</th>\n",
       "      <td>2012-10-01</td>\n",
       "      <td>c139e7c</td>\n",
       "      <td>0.215038</td>\n",
       "      <td>2013-10-01</td>\n",
       "    </tr>\n",
       "    <tr>\n",
       "      <th>27325</th>\n",
       "      <td>2013-04-01</td>\n",
       "      <td>c139e7c</td>\n",
       "      <td>0.915614</td>\n",
       "      <td>2014-04-01</td>\n",
       "    </tr>\n",
       "    <tr>\n",
       "      <th>29246</th>\n",
       "      <td>2013-10-01</td>\n",
       "      <td>c139e7c</td>\n",
       "      <td>0.985170</td>\n",
       "      <td>2014-10-01</td>\n",
       "    </tr>\n",
       "  </tbody>\n",
       "</table>\n",
       "</div>"
      ],
      "text/plain": [
       "       timepoint clade_membership  frequency final_timepoint\n",
       "21969 2011-10-01          c139e7c   0.266878      2012-10-01\n",
       "23680 2012-04-01          c139e7c   0.425949      2013-04-01\n",
       "25478 2012-10-01          c139e7c   0.215038      2013-10-01\n",
       "27325 2013-04-01          c139e7c   0.915614      2014-04-01\n",
       "29246 2013-10-01          c139e7c   0.985170      2014-10-01"
      ]
     },
     "execution_count": 48,
     "metadata": {},
     "output_type": "execute_result"
    }
   ],
   "source": [
    "initial_clades[initial_clades[\"clade_membership\"] == \"c139e7c\"]"
   ]
  },
  {
   "cell_type": "code",
   "execution_count": null,
   "metadata": {},
   "outputs": [],
   "source": []
  },
  {
   "cell_type": "markdown",
   "metadata": {},
   "source": [
    "## Find future frequencies of large clades"
   ]
  },
  {
   "cell_type": "code",
   "execution_count": 20,
   "metadata": {},
   "outputs": [],
   "source": [
    "initial_clades[\"final_timepoint\"] = initial_clades[\"timepoint\"] + pd.DateOffset(months=12)"
   ]
  },
  {
   "cell_type": "code",
   "execution_count": 21,
   "metadata": {},
   "outputs": [],
   "source": [
    "initial_and_observed_clade_frequencies = initial_clades.merge(\n",
    "    clade_tip_initial_frequencies,\n",
    "    left_on=[\"final_timepoint\", \"clade_membership\"],\n",
    "    right_on=[\"timepoint\", \"clade_membership\"],\n",
    "    suffixes=[\"\", \"_final\"]\n",
    ").groupby([\"timepoint\", \"clade_membership\", \"frequency\"])[\"frequency_final\"].sum().reset_index()"
   ]
  },
  {
   "cell_type": "code",
   "execution_count": 22,
   "metadata": {},
   "outputs": [
    {
     "data": {
      "text/plain": [
       "(912, 4)"
      ]
     },
     "execution_count": 22,
     "metadata": {},
     "output_type": "execute_result"
    }
   ],
   "source": [
    "initial_and_observed_clade_frequencies.shape"
   ]
  },
  {
   "cell_type": "code",
   "execution_count": 23,
   "metadata": {},
   "outputs": [
    {
     "data": {
      "text/html": [
       "<div>\n",
       "<style scoped>\n",
       "    .dataframe tbody tr th:only-of-type {\n",
       "        vertical-align: middle;\n",
       "    }\n",
       "\n",
       "    .dataframe tbody tr th {\n",
       "        vertical-align: top;\n",
       "    }\n",
       "\n",
       "    .dataframe thead th {\n",
       "        text-align: right;\n",
       "    }\n",
       "</style>\n",
       "<table border=\"1\" class=\"dataframe\">\n",
       "  <thead>\n",
       "    <tr style=\"text-align: right;\">\n",
       "      <th></th>\n",
       "      <th>timepoint</th>\n",
       "      <th>clade_membership</th>\n",
       "      <th>frequency</th>\n",
       "      <th>frequency_final</th>\n",
       "    </tr>\n",
       "  </thead>\n",
       "  <tbody>\n",
       "    <tr>\n",
       "      <th>0</th>\n",
       "      <td>2002-10-01</td>\n",
       "      <td>02e323e</td>\n",
       "      <td>1.000002</td>\n",
       "      <td>1.000005</td>\n",
       "    </tr>\n",
       "    <tr>\n",
       "      <th>1</th>\n",
       "      <td>2002-10-01</td>\n",
       "      <td>048f8ca</td>\n",
       "      <td>1.000002</td>\n",
       "      <td>1.000005</td>\n",
       "    </tr>\n",
       "    <tr>\n",
       "      <th>2</th>\n",
       "      <td>2002-10-01</td>\n",
       "      <td>05a6dc1</td>\n",
       "      <td>0.517050</td>\n",
       "      <td>0.134300</td>\n",
       "    </tr>\n",
       "    <tr>\n",
       "      <th>3</th>\n",
       "      <td>2002-10-01</td>\n",
       "      <td>09e68a2</td>\n",
       "      <td>1.000002</td>\n",
       "      <td>1.000005</td>\n",
       "    </tr>\n",
       "    <tr>\n",
       "      <th>4</th>\n",
       "      <td>2002-10-01</td>\n",
       "      <td>35491c6</td>\n",
       "      <td>1.000002</td>\n",
       "      <td>1.000005</td>\n",
       "    </tr>\n",
       "  </tbody>\n",
       "</table>\n",
       "</div>"
      ],
      "text/plain": [
       "   timepoint clade_membership  frequency  frequency_final\n",
       "0 2002-10-01          02e323e   1.000002         1.000005\n",
       "1 2002-10-01          048f8ca   1.000002         1.000005\n",
       "2 2002-10-01          05a6dc1   0.517050         0.134300\n",
       "3 2002-10-01          09e68a2   1.000002         1.000005\n",
       "4 2002-10-01          35491c6   1.000002         1.000005"
      ]
     },
     "execution_count": 23,
     "metadata": {},
     "output_type": "execute_result"
    }
   ],
   "source": [
    "initial_and_observed_clade_frequencies.head()"
   ]
  },
  {
   "cell_type": "code",
   "execution_count": 49,
   "metadata": {},
   "outputs": [
    {
     "data": {
      "text/html": [
       "<div>\n",
       "<style scoped>\n",
       "    .dataframe tbody tr th:only-of-type {\n",
       "        vertical-align: middle;\n",
       "    }\n",
       "\n",
       "    .dataframe tbody tr th {\n",
       "        vertical-align: top;\n",
       "    }\n",
       "\n",
       "    .dataframe thead th {\n",
       "        text-align: right;\n",
       "    }\n",
       "</style>\n",
       "<table border=\"1\" class=\"dataframe\">\n",
       "  <thead>\n",
       "    <tr style=\"text-align: right;\">\n",
       "      <th></th>\n",
       "      <th>timepoint</th>\n",
       "      <th>clade_membership</th>\n",
       "      <th>frequency</th>\n",
       "      <th>frequency_final</th>\n",
       "      <th>observed_growth_rate</th>\n",
       "    </tr>\n",
       "  </thead>\n",
       "  <tbody>\n",
       "    <tr>\n",
       "      <th>613</th>\n",
       "      <td>2011-10-01</td>\n",
       "      <td>c139e7c</td>\n",
       "      <td>0.266878</td>\n",
       "      <td>0.215038</td>\n",
       "      <td>0.805754</td>\n",
       "    </tr>\n",
       "    <tr>\n",
       "      <th>656</th>\n",
       "      <td>2012-04-01</td>\n",
       "      <td>c139e7c</td>\n",
       "      <td>0.425949</td>\n",
       "      <td>0.915614</td>\n",
       "      <td>2.149586</td>\n",
       "    </tr>\n",
       "    <tr>\n",
       "      <th>695</th>\n",
       "      <td>2012-10-01</td>\n",
       "      <td>c139e7c</td>\n",
       "      <td>0.215038</td>\n",
       "      <td>0.985170</td>\n",
       "      <td>4.581376</td>\n",
       "    </tr>\n",
       "    <tr>\n",
       "      <th>746</th>\n",
       "      <td>2013-04-01</td>\n",
       "      <td>c139e7c</td>\n",
       "      <td>0.915614</td>\n",
       "      <td>0.002964</td>\n",
       "      <td>0.003237</td>\n",
       "    </tr>\n",
       "    <tr>\n",
       "      <th>795</th>\n",
       "      <td>2013-10-01</td>\n",
       "      <td>c139e7c</td>\n",
       "      <td>0.985170</td>\n",
       "      <td>0.000000</td>\n",
       "      <td>0.000000</td>\n",
       "    </tr>\n",
       "  </tbody>\n",
       "</table>\n",
       "</div>"
      ],
      "text/plain": [
       "     timepoint clade_membership  frequency  frequency_final  \\\n",
       "613 2011-10-01          c139e7c   0.266878         0.215038   \n",
       "656 2012-04-01          c139e7c   0.425949         0.915614   \n",
       "695 2012-10-01          c139e7c   0.215038         0.985170   \n",
       "746 2013-04-01          c139e7c   0.915614         0.002964   \n",
       "795 2013-10-01          c139e7c   0.985170         0.000000   \n",
       "\n",
       "     observed_growth_rate  \n",
       "613              0.805754  \n",
       "656              2.149586  \n",
       "695              4.581376  \n",
       "746              0.003237  \n",
       "795              0.000000  "
      ]
     },
     "execution_count": 49,
     "metadata": {},
     "output_type": "execute_result"
    }
   ],
   "source": [
    "initial_and_observed_clade_frequencies.query(\"clade_membership == 'c139e7c'\")"
   ]
  },
  {
   "cell_type": "code",
   "execution_count": 24,
   "metadata": {},
   "outputs": [],
   "source": [
    "initial_and_observed_clade_frequencies[\"observed_growth_rate\"] = (\n",
    "    initial_and_observed_clade_frequencies[\"frequency_final\"] / initial_and_observed_clade_frequencies[\"frequency\"]\n",
    ")"
   ]
  },
  {
   "cell_type": "code",
   "execution_count": 25,
   "metadata": {},
   "outputs": [
    {
     "data": {
      "text/html": [
       "<div>\n",
       "<style scoped>\n",
       "    .dataframe tbody tr th:only-of-type {\n",
       "        vertical-align: middle;\n",
       "    }\n",
       "\n",
       "    .dataframe tbody tr th {\n",
       "        vertical-align: top;\n",
       "    }\n",
       "\n",
       "    .dataframe thead th {\n",
       "        text-align: right;\n",
       "    }\n",
       "</style>\n",
       "<table border=\"1\" class=\"dataframe\">\n",
       "  <thead>\n",
       "    <tr style=\"text-align: right;\">\n",
       "      <th></th>\n",
       "      <th>timepoint</th>\n",
       "      <th>clade_membership</th>\n",
       "      <th>frequency</th>\n",
       "      <th>frequency_final</th>\n",
       "      <th>observed_growth_rate</th>\n",
       "    </tr>\n",
       "  </thead>\n",
       "  <tbody>\n",
       "    <tr>\n",
       "      <th>0</th>\n",
       "      <td>2002-10-01</td>\n",
       "      <td>02e323e</td>\n",
       "      <td>1.000002</td>\n",
       "      <td>1.000005</td>\n",
       "      <td>1.000003</td>\n",
       "    </tr>\n",
       "    <tr>\n",
       "      <th>1</th>\n",
       "      <td>2002-10-01</td>\n",
       "      <td>048f8ca</td>\n",
       "      <td>1.000002</td>\n",
       "      <td>1.000005</td>\n",
       "      <td>1.000003</td>\n",
       "    </tr>\n",
       "    <tr>\n",
       "      <th>2</th>\n",
       "      <td>2002-10-01</td>\n",
       "      <td>05a6dc1</td>\n",
       "      <td>0.517050</td>\n",
       "      <td>0.134300</td>\n",
       "      <td>0.259743</td>\n",
       "    </tr>\n",
       "    <tr>\n",
       "      <th>3</th>\n",
       "      <td>2002-10-01</td>\n",
       "      <td>09e68a2</td>\n",
       "      <td>1.000002</td>\n",
       "      <td>1.000005</td>\n",
       "      <td>1.000003</td>\n",
       "    </tr>\n",
       "    <tr>\n",
       "      <th>4</th>\n",
       "      <td>2002-10-01</td>\n",
       "      <td>35491c6</td>\n",
       "      <td>1.000002</td>\n",
       "      <td>1.000005</td>\n",
       "      <td>1.000003</td>\n",
       "    </tr>\n",
       "  </tbody>\n",
       "</table>\n",
       "</div>"
      ],
      "text/plain": [
       "   timepoint clade_membership  frequency  frequency_final  \\\n",
       "0 2002-10-01          02e323e   1.000002         1.000005   \n",
       "1 2002-10-01          048f8ca   1.000002         1.000005   \n",
       "2 2002-10-01          05a6dc1   0.517050         0.134300   \n",
       "3 2002-10-01          09e68a2   1.000002         1.000005   \n",
       "4 2002-10-01          35491c6   1.000002         1.000005   \n",
       "\n",
       "   observed_growth_rate  \n",
       "0              1.000003  \n",
       "1              1.000003  \n",
       "2              0.259743  \n",
       "3              1.000003  \n",
       "4              1.000003  "
      ]
     },
     "execution_count": 25,
     "metadata": {},
     "output_type": "execute_result"
    }
   ],
   "source": [
    "initial_and_observed_clade_frequencies.head()"
   ]
  },
  {
   "cell_type": "code",
   "execution_count": 26,
   "metadata": {},
   "outputs": [
    {
     "data": {
      "application/vnd.vegalite.v3+json": {
       "$schema": "https://vega.github.io/schema/vega-lite/v3.3.0.json",
       "config": {
        "mark": {
         "tooltip": null
        },
        "view": {
         "height": 300,
         "width": 400
        }
       },
       "data": {
        "name": "data-31002d532c1ca3646657d6895b66604b"
       },
       "datasets": {
        "data-31002d532c1ca3646657d6895b66604b": [
         {
          "clade_membership": "02e323e",
          "frequency": 1.0000020000000005,
          "frequency_final": 1.000005,
          "observed_growth_rate": 1.0000029999939994,
          "timepoint": "2002-10-01T00:00:00"
         },
         {
          "clade_membership": "048f8ca",
          "frequency": 1.0000020000000005,
          "frequency_final": 1.000005,
          "observed_growth_rate": 1.0000029999939994,
          "timepoint": "2002-10-01T00:00:00"
         },
         {
          "clade_membership": "05a6dc1",
          "frequency": 0.5170499999999999,
          "frequency_final": 0.1343,
          "observed_growth_rate": 0.25974277149211883,
          "timepoint": "2002-10-01T00:00:00"
         },
         {
          "clade_membership": "09e68a2",
          "frequency": 1.0000020000000005,
          "frequency_final": 1.000005,
          "observed_growth_rate": 1.0000029999939994,
          "timepoint": "2002-10-01T00:00:00"
         },
         {
          "clade_membership": "35491c6",
          "frequency": 1.0000020000000005,
          "frequency_final": 1.000005,
          "observed_growth_rate": 1.0000029999939994,
          "timepoint": "2002-10-01T00:00:00"
         },
         {
          "clade_membership": "4e35443",
          "frequency": 0.321328,
          "frequency_final": 0.8657050000000003,
          "observed_growth_rate": 2.694147413235075,
          "timepoint": "2002-10-01T00:00:00"
         },
         {
          "clade_membership": "5bed3da",
          "frequency": 0.5012859999999998,
          "frequency_final": 0.07306499999999999,
          "observed_growth_rate": 0.14575511783692346,
          "timepoint": "2002-10-01T00:00:00"
         },
         {
          "clade_membership": "6335574",
          "frequency": 0.45393900000000004,
          "frequency_final": 0.8657050000000003,
          "observed_growth_rate": 1.9070954467450476,
          "timepoint": "2002-10-01T00:00:00"
         },
         {
          "clade_membership": "655ae51",
          "frequency": 0.18238300000000002,
          "frequency_final": 0,
          "observed_growth_rate": 0,
          "timepoint": "2002-10-01T00:00:00"
         },
         {
          "clade_membership": "8386d16",
          "frequency": 0.162714,
          "frequency_final": 0.8656660000000003,
          "observed_growth_rate": 5.320169131113489,
          "timepoint": "2002-10-01T00:00:00"
         },
         {
          "clade_membership": "85356dd",
          "frequency": 0.153084,
          "frequency_final": 0.8656600000000003,
          "observed_growth_rate": 5.6548038985132365,
          "timepoint": "2002-10-01T00:00:00"
         },
         {
          "clade_membership": "88dab64",
          "frequency": 1.0000020000000005,
          "frequency_final": 1.000005,
          "observed_growth_rate": 1.0000029999939994,
          "timepoint": "2002-10-01T00:00:00"
         },
         {
          "clade_membership": "98c068a",
          "frequency": 1.0000020000000005,
          "frequency_final": 1.000005,
          "observed_growth_rate": 1.0000029999939994,
          "timepoint": "2002-10-01T00:00:00"
         },
         {
          "clade_membership": "9a3ff5d",
          "frequency": 0.45393900000000004,
          "frequency_final": 0.8657050000000003,
          "observed_growth_rate": 1.9070954467450476,
          "timepoint": "2002-10-01T00:00:00"
         },
         {
          "clade_membership": "a5bcb4f",
          "frequency": 0.45393900000000004,
          "frequency_final": 0.8657050000000003,
          "observed_growth_rate": 1.9070954467450476,
          "timepoint": "2002-10-01T00:00:00"
         },
         {
          "clade_membership": "aab80f6",
          "frequency": 0.45393900000000004,
          "frequency_final": 0.8657050000000003,
          "observed_growth_rate": 1.9070954467450476,
          "timepoint": "2002-10-01T00:00:00"
         },
         {
          "clade_membership": "d6906cf",
          "frequency": 1.0000020000000005,
          "frequency_final": 1.000005,
          "observed_growth_rate": 1.0000029999939994,
          "timepoint": "2002-10-01T00:00:00"
         },
         {
          "clade_membership": "d7fecad",
          "frequency": 1.0000020000000005,
          "frequency_final": 1.000005,
          "observed_growth_rate": 1.0000029999939994,
          "timepoint": "2002-10-01T00:00:00"
         },
         {
          "clade_membership": "e2f3876",
          "frequency": 1.0000020000000005,
          "frequency_final": 1.000005,
          "observed_growth_rate": 1.0000029999939994,
          "timepoint": "2002-10-01T00:00:00"
         },
         {
          "clade_membership": "e501908",
          "frequency": 1.0000020000000005,
          "frequency_final": 1.000005,
          "observed_growth_rate": 1.0000029999939994,
          "timepoint": "2002-10-01T00:00:00"
         },
         {
          "clade_membership": "e64cc68",
          "frequency": 1.0000020000000005,
          "frequency_final": 1.000005,
          "observed_growth_rate": 1.0000029999939994,
          "timepoint": "2002-10-01T00:00:00"
         },
         {
          "clade_membership": "ecf49fd",
          "frequency": 1.0000020000000005,
          "frequency_final": 1.000005,
          "observed_growth_rate": 1.0000029999939994,
          "timepoint": "2002-10-01T00:00:00"
         },
         {
          "clade_membership": "f3f16af",
          "frequency": 1.0000020000000005,
          "frequency_final": 1.000005,
          "observed_growth_rate": 1.0000029999939994,
          "timepoint": "2002-10-01T00:00:00"
         },
         {
          "clade_membership": "fbbd597",
          "frequency": 0.150334,
          "frequency_final": 0.048646999999999996,
          "observed_growth_rate": 0.32359280003192886,
          "timepoint": "2002-10-01T00:00:00"
         },
         {
          "clade_membership": "fd5608c",
          "frequency": 0.45393900000000004,
          "frequency_final": 0.8657050000000003,
          "observed_growth_rate": 1.9070954467450476,
          "timepoint": "2002-10-01T00:00:00"
         },
         {
          "clade_membership": "root",
          "frequency": 1.0000020000000005,
          "frequency_final": 1.000005,
          "observed_growth_rate": 1.0000029999939994,
          "timepoint": "2002-10-01T00:00:00"
         },
         {
          "clade_membership": "0252ba2",
          "frequency": 0.18955099999999997,
          "frequency_final": 0,
          "observed_growth_rate": 0,
          "timepoint": "2003-04-01T00:00:00"
         },
         {
          "clade_membership": "02e323e",
          "frequency": 0.9999989999999996,
          "frequency_final": 0.9999960000000001,
          "observed_growth_rate": 0.9999969999970004,
          "timepoint": "2003-04-01T00:00:00"
         },
         {
          "clade_membership": "048f8ca",
          "frequency": 0.9999989999999996,
          "frequency_final": 0.9999960000000001,
          "observed_growth_rate": 0.9999969999970004,
          "timepoint": "2003-04-01T00:00:00"
         },
         {
          "clade_membership": "05a6dc1",
          "frequency": 0.18955099999999997,
          "frequency_final": 0.0045379999999999995,
          "observed_growth_rate": 0.023940786384666925,
          "timepoint": "2003-04-01T00:00:00"
         },
         {
          "clade_membership": "09e68a2",
          "frequency": 0.9999989999999996,
          "frequency_final": 0.9999960000000001,
          "observed_growth_rate": 0.9999969999970004,
          "timepoint": "2003-04-01T00:00:00"
         },
         {
          "clade_membership": "10c52e0",
          "frequency": 0.18955099999999997,
          "frequency_final": 0,
          "observed_growth_rate": 0,
          "timepoint": "2003-04-01T00:00:00"
         },
         {
          "clade_membership": "129af49",
          "frequency": 0.7268219999999997,
          "frequency_final": 0.995458,
          "observed_growth_rate": 1.3696035618074305,
          "timepoint": "2003-04-01T00:00:00"
         },
         {
          "clade_membership": "35491c6",
          "frequency": 0.9999989999999996,
          "frequency_final": 0.9999960000000001,
          "observed_growth_rate": 0.9999969999970004,
          "timepoint": "2003-04-01T00:00:00"
         },
         {
          "clade_membership": "4e35443",
          "frequency": 0.7619109999999997,
          "frequency_final": 0.995458,
          "observed_growth_rate": 1.3065279278025916,
          "timepoint": "2003-04-01T00:00:00"
         },
         {
          "clade_membership": "6335574",
          "frequency": 0.7620099999999996,
          "frequency_final": 0.995458,
          "observed_growth_rate": 1.3063581842757974,
          "timepoint": "2003-04-01T00:00:00"
         },
         {
          "clade_membership": "7dfbda8",
          "frequency": 0.18955099999999997,
          "frequency_final": 0,
          "observed_growth_rate": 0,
          "timepoint": "2003-04-01T00:00:00"
         },
         {
          "clade_membership": "8386d16",
          "frequency": 0.7324479999999998,
          "frequency_final": 0.995458,
          "observed_growth_rate": 1.359083511730526,
          "timepoint": "2003-04-01T00:00:00"
         },
         {
          "clade_membership": "85356dd",
          "frequency": 0.7135639999999998,
          "frequency_final": 0.995458,
          "observed_growth_rate": 1.3950507592871841,
          "timepoint": "2003-04-01T00:00:00"
         },
         {
          "clade_membership": "88dab64",
          "frequency": 0.9999989999999996,
          "frequency_final": 0.9999960000000001,
          "observed_growth_rate": 0.9999969999970004,
          "timepoint": "2003-04-01T00:00:00"
         },
         {
          "clade_membership": "8e08f7f",
          "frequency": 0.9999989999999996,
          "frequency_final": 0.9999960000000001,
          "observed_growth_rate": 0.9999969999970004,
          "timepoint": "2003-04-01T00:00:00"
         },
         {
          "clade_membership": "98c068a",
          "frequency": 0.9999989999999996,
          "frequency_final": 0.9999960000000001,
          "observed_growth_rate": 0.9999969999970004,
          "timepoint": "2003-04-01T00:00:00"
         },
         {
          "clade_membership": "9a3ff5d",
          "frequency": 0.7620099999999996,
          "frequency_final": 0.995458,
          "observed_growth_rate": 1.3063581842757974,
          "timepoint": "2003-04-01T00:00:00"
         },
         {
          "clade_membership": "a5bcb4f",
          "frequency": 0.7620099999999996,
          "frequency_final": 0.995458,
          "observed_growth_rate": 1.3063581842757974,
          "timepoint": "2003-04-01T00:00:00"
         },
         {
          "clade_membership": "a7f2d0a",
          "frequency": 0.368177,
          "frequency_final": 0.013979,
          "observed_growth_rate": 0.037968151188151354,
          "timepoint": "2003-04-01T00:00:00"
         },
         {
          "clade_membership": "aab80f6",
          "frequency": 0.7620099999999996,
          "frequency_final": 0.995458,
          "observed_growth_rate": 1.3063581842757974,
          "timepoint": "2003-04-01T00:00:00"
         },
         {
          "clade_membership": "d6906cf",
          "frequency": 0.9999989999999996,
          "frequency_final": 0.9999960000000001,
          "observed_growth_rate": 0.9999969999970004,
          "timepoint": "2003-04-01T00:00:00"
         },
         {
          "clade_membership": "d7fecad",
          "frequency": 0.9999989999999996,
          "frequency_final": 0.9999960000000001,
          "observed_growth_rate": 0.9999969999970004,
          "timepoint": "2003-04-01T00:00:00"
         },
         {
          "clade_membership": "e2f3876",
          "frequency": 0.9999989999999996,
          "frequency_final": 0.9999960000000001,
          "observed_growth_rate": 0.9999969999970004,
          "timepoint": "2003-04-01T00:00:00"
         },
         {
          "clade_membership": "e501908",
          "frequency": 0.9999989999999996,
          "frequency_final": 0.9999960000000001,
          "observed_growth_rate": 0.9999969999970004,
          "timepoint": "2003-04-01T00:00:00"
         },
         {
          "clade_membership": "e64cc68",
          "frequency": 0.9999989999999996,
          "frequency_final": 0.9999960000000001,
          "observed_growth_rate": 0.9999969999970004,
          "timepoint": "2003-04-01T00:00:00"
         },
         {
          "clade_membership": "e89fed6",
          "frequency": 0.9999989999999996,
          "frequency_final": 0.9999960000000001,
          "observed_growth_rate": 0.9999969999970004,
          "timepoint": "2003-04-01T00:00:00"
         },
         {
          "clade_membership": "ecf49fd",
          "frequency": 0.9999989999999996,
          "frequency_final": 0.9999960000000001,
          "observed_growth_rate": 0.9999969999970004,
          "timepoint": "2003-04-01T00:00:00"
         },
         {
          "clade_membership": "f3f16af",
          "frequency": 0.9999989999999996,
          "frequency_final": 0.9999960000000001,
          "observed_growth_rate": 0.9999969999970004,
          "timepoint": "2003-04-01T00:00:00"
         },
         {
          "clade_membership": "fd5608c",
          "frequency": 0.7620099999999996,
          "frequency_final": 0.995458,
          "observed_growth_rate": 1.3063581842757974,
          "timepoint": "2003-04-01T00:00:00"
         },
         {
          "clade_membership": "root",
          "frequency": 0.9999989999999996,
          "frequency_final": 0.9999960000000001,
          "observed_growth_rate": 0.9999969999970004,
          "timepoint": "2003-04-01T00:00:00"
         },
         {
          "clade_membership": "02e323e",
          "frequency": 1.000005,
          "frequency_final": 1.0000000000000002,
          "observed_growth_rate": 0.9999950000250001,
          "timepoint": "2003-10-01T00:00:00"
         },
         {
          "clade_membership": "048f8ca",
          "frequency": 1.000005,
          "frequency_final": 1.0000000000000002,
          "observed_growth_rate": 0.9999950000250001,
          "timepoint": "2003-10-01T00:00:00"
         },
         {
          "clade_membership": "09e68a2",
          "frequency": 1.000005,
          "frequency_final": 1.0000000000000002,
          "observed_growth_rate": 0.9999950000250001,
          "timepoint": "2003-10-01T00:00:00"
         },
         {
          "clade_membership": "129af49",
          "frequency": 0.8656660000000003,
          "frequency_final": 1.0000000000000002,
          "observed_growth_rate": 1.1551799423796243,
          "timepoint": "2003-10-01T00:00:00"
         },
         {
          "clade_membership": "35491c6",
          "frequency": 1.000005,
          "frequency_final": 1.0000000000000002,
          "observed_growth_rate": 0.9999950000250001,
          "timepoint": "2003-10-01T00:00:00"
         },
         {
          "clade_membership": "4952842",
          "frequency": 0.8464150000000003,
          "frequency_final": 1.0000000000000002,
          "observed_growth_rate": 1.1814535422930832,
          "timepoint": "2003-10-01T00:00:00"
         },
         {
          "clade_membership": "4e35443",
          "frequency": 0.8657050000000003,
          "frequency_final": 1.0000000000000002,
          "observed_growth_rate": 1.1551279015368976,
          "timepoint": "2003-10-01T00:00:00"
         },
         {
          "clade_membership": "6335574",
          "frequency": 0.8657050000000003,
          "frequency_final": 1.0000000000000002,
          "observed_growth_rate": 1.1551279015368976,
          "timepoint": "2003-10-01T00:00:00"
         },
         {
          "clade_membership": "8386d16",
          "frequency": 0.8656660000000003,
          "frequency_final": 1.0000000000000002,
          "observed_growth_rate": 1.1551799423796243,
          "timepoint": "2003-10-01T00:00:00"
         },
         {
          "clade_membership": "85356dd",
          "frequency": 0.8656600000000003,
          "frequency_final": 1.0000000000000002,
          "observed_growth_rate": 1.155187949079315,
          "timepoint": "2003-10-01T00:00:00"
         },
         {
          "clade_membership": "88dab64",
          "frequency": 1.000005,
          "frequency_final": 1.0000000000000002,
          "observed_growth_rate": 0.9999950000250001,
          "timepoint": "2003-10-01T00:00:00"
         },
         {
          "clade_membership": "8e08f7f",
          "frequency": 1.000005,
          "frequency_final": 1.0000000000000002,
          "observed_growth_rate": 0.9999950000250001,
          "timepoint": "2003-10-01T00:00:00"
         },
         {
          "clade_membership": "962ced9",
          "frequency": 0.23815299999999995,
          "frequency_final": 0.10116599999999999,
          "observed_growth_rate": 0.4247941449404375,
          "timepoint": "2003-10-01T00:00:00"
         },
         {
          "clade_membership": "98c068a",
          "frequency": 1.000005,
          "frequency_final": 1.0000000000000002,
          "observed_growth_rate": 0.9999950000250001,
          "timepoint": "2003-10-01T00:00:00"
         },
         {
          "clade_membership": "9a3ff5d",
          "frequency": 0.8657050000000003,
          "frequency_final": 1.0000000000000002,
          "observed_growth_rate": 1.1551279015368976,
          "timepoint": "2003-10-01T00:00:00"
         },
         {
          "clade_membership": "a5bcb4f",
          "frequency": 0.8657050000000003,
          "frequency_final": 1.0000000000000002,
          "observed_growth_rate": 1.1551279015368976,
          "timepoint": "2003-10-01T00:00:00"
         },
         {
          "clade_membership": "aab80f6",
          "frequency": 0.8657050000000003,
          "frequency_final": 1.0000000000000002,
          "observed_growth_rate": 1.1551279015368976,
          "timepoint": "2003-10-01T00:00:00"
         },
         {
          "clade_membership": "d6906cf",
          "frequency": 1.000005,
          "frequency_final": 1.0000000000000002,
          "observed_growth_rate": 0.9999950000250001,
          "timepoint": "2003-10-01T00:00:00"
         },
         {
          "clade_membership": "d7fecad",
          "frequency": 1.000005,
          "frequency_final": 1.0000000000000002,
          "observed_growth_rate": 0.9999950000250001,
          "timepoint": "2003-10-01T00:00:00"
         },
         {
          "clade_membership": "ddbae0a",
          "frequency": 0.17805500000000007,
          "frequency_final": 8e-06,
          "observed_growth_rate": 4.492993737889976e-05,
          "timepoint": "2003-10-01T00:00:00"
         },
         {
          "clade_membership": "e2f3876",
          "frequency": 1.000005,
          "frequency_final": 1.0000000000000002,
          "observed_growth_rate": 0.9999950000250001,
          "timepoint": "2003-10-01T00:00:00"
         },
         {
          "clade_membership": "e501908",
          "frequency": 1.000005,
          "frequency_final": 1.0000000000000002,
          "observed_growth_rate": 0.9999950000250001,
          "timepoint": "2003-10-01T00:00:00"
         },
         {
          "clade_membership": "e64cc68",
          "frequency": 1.000005,
          "frequency_final": 1.0000000000000002,
          "observed_growth_rate": 0.9999950000250001,
          "timepoint": "2003-10-01T00:00:00"
         },
         {
          "clade_membership": "ecf49fd",
          "frequency": 1.000005,
          "frequency_final": 1.0000000000000002,
          "observed_growth_rate": 0.9999950000250001,
          "timepoint": "2003-10-01T00:00:00"
         },
         {
          "clade_membership": "f3f16af",
          "frequency": 1.000005,
          "frequency_final": 1.0000000000000002,
          "observed_growth_rate": 0.9999950000250001,
          "timepoint": "2003-10-01T00:00:00"
         },
         {
          "clade_membership": "fd5608c",
          "frequency": 0.8657050000000003,
          "frequency_final": 1.0000000000000002,
          "observed_growth_rate": 1.1551279015368976,
          "timepoint": "2003-10-01T00:00:00"
         },
         {
          "clade_membership": "root",
          "frequency": 1.000005,
          "frequency_final": 1.0000000000000002,
          "observed_growth_rate": 0.9999950000250001,
          "timepoint": "2003-10-01T00:00:00"
         },
         {
          "clade_membership": "02e323e",
          "frequency": 0.9999960000000001,
          "frequency_final": 0.9999999999999998,
          "observed_growth_rate": 1.0000040000159998,
          "timepoint": "2004-04-01T00:00:00"
         },
         {
          "clade_membership": "048f8ca",
          "frequency": 0.9999960000000001,
          "frequency_final": 0.9999999999999998,
          "observed_growth_rate": 1.0000040000159998,
          "timepoint": "2004-04-01T00:00:00"
         },
         {
          "clade_membership": "09e68a2",
          "frequency": 0.9999960000000001,
          "frequency_final": 0.9999999999999998,
          "observed_growth_rate": 1.0000040000159998,
          "timepoint": "2004-04-01T00:00:00"
         },
         {
          "clade_membership": "35491c6",
          "frequency": 0.9999960000000001,
          "frequency_final": 0.9999999999999998,
          "observed_growth_rate": 1.0000040000159998,
          "timepoint": "2004-04-01T00:00:00"
         },
         {
          "clade_membership": "412c00a",
          "frequency": 0.5217880000000001,
          "frequency_final": 0.9427150000000002,
          "observed_growth_rate": 1.8067011889886313,
          "timepoint": "2004-04-01T00:00:00"
         },
         {
          "clade_membership": "4952842",
          "frequency": 0.9856400000000001,
          "frequency_final": 0.9505060000000001,
          "observed_growth_rate": 0.9643541252384238,
          "timepoint": "2004-04-01T00:00:00"
         },
         {
          "clade_membership": "4e35443",
          "frequency": 0.995458,
          "frequency_final": 0,
          "observed_growth_rate": 0,
          "timepoint": "2004-04-01T00:00:00"
         },
         {
          "clade_membership": "4ff1302",
          "frequency": 0.4400730000000001,
          "frequency_final": 0.9427150000000002,
          "observed_growth_rate": 2.142178683991065,
          "timepoint": "2004-04-01T00:00:00"
         },
         {
          "clade_membership": "6335574",
          "frequency": 0.995458,
          "frequency_final": 0.9505060000000001,
          "observed_growth_rate": 0.9548428964356107,
          "timepoint": "2004-04-01T00:00:00"
         },
         {
          "clade_membership": "8386d16",
          "frequency": 0.995458,
          "frequency_final": 0.9505060000000001,
          "observed_growth_rate": 0.9548428964356107,
          "timepoint": "2004-04-01T00:00:00"
         },
         {
          "clade_membership": "85356dd",
          "frequency": 0.995458,
          "frequency_final": 0.9505060000000001,
          "observed_growth_rate": 0.9548428964356107,
          "timepoint": "2004-04-01T00:00:00"
         },
         {
          "clade_membership": "88dab64",
          "frequency": 0.9999960000000001,
          "frequency_final": 0.9999999999999998,
          "observed_growth_rate": 1.0000040000159998,
          "timepoint": "2004-04-01T00:00:00"
         },
         {
          "clade_membership": "8e08f7f",
          "frequency": 0.9999960000000001,
          "frequency_final": 0.9999999999999998,
          "observed_growth_rate": 1.0000040000159998,
          "timepoint": "2004-04-01T00:00:00"
         },
         {
          "clade_membership": "962ced9",
          "frequency": 0.32509699999999997,
          "frequency_final": 0.007791000000000001,
          "observed_growth_rate": 0.023965155015272372,
          "timepoint": "2004-04-01T00:00:00"
         },
         {
          "clade_membership": "98c068a",
          "frequency": 0.9999960000000001,
          "frequency_final": 0.9999999999999998,
          "observed_growth_rate": 1.0000040000159998,
          "timepoint": "2004-04-01T00:00:00"
         },
         {
          "clade_membership": "9a3ff5d",
          "frequency": 0.995458,
          "frequency_final": 0.9505060000000001,
          "observed_growth_rate": 0.9548428964356107,
          "timepoint": "2004-04-01T00:00:00"
         },
         {
          "clade_membership": "a5bcb4f",
          "frequency": 0.995458,
          "frequency_final": 0.9505060000000001,
          "observed_growth_rate": 0.9548428964356107,
          "timepoint": "2004-04-01T00:00:00"
         },
         {
          "clade_membership": "aab80f6",
          "frequency": 0.995458,
          "frequency_final": 0.9505060000000001,
          "observed_growth_rate": 0.9548428964356107,
          "timepoint": "2004-04-01T00:00:00"
         },
         {
          "clade_membership": "b32cea9",
          "frequency": 0.6070440000000001,
          "frequency_final": 0.9427150000000002,
          "observed_growth_rate": 1.552959917238289,
          "timepoint": "2004-04-01T00:00:00"
         },
         {
          "clade_membership": "d6906cf",
          "frequency": 0.9999960000000001,
          "frequency_final": 0.9999999999999998,
          "observed_growth_rate": 1.0000040000159998,
          "timepoint": "2004-04-01T00:00:00"
         },
         {
          "clade_membership": "d7fecad",
          "frequency": 0.9999960000000001,
          "frequency_final": 0.9999999999999998,
          "observed_growth_rate": 1.0000040000159998,
          "timepoint": "2004-04-01T00:00:00"
         },
         {
          "clade_membership": "e2f3876",
          "frequency": 0.9999960000000001,
          "frequency_final": 0.9999999999999998,
          "observed_growth_rate": 1.0000040000159998,
          "timepoint": "2004-04-01T00:00:00"
         },
         {
          "clade_membership": "e501908",
          "frequency": 0.9999960000000001,
          "frequency_final": 0.9999999999999998,
          "observed_growth_rate": 1.0000040000159998,
          "timepoint": "2004-04-01T00:00:00"
         },
         {
          "clade_membership": "e64cc68",
          "frequency": 0.9999960000000001,
          "frequency_final": 0.9999999999999998,
          "observed_growth_rate": 1.0000040000159998,
          "timepoint": "2004-04-01T00:00:00"
         },
         {
          "clade_membership": "ecf49fd",
          "frequency": 0.9999960000000001,
          "frequency_final": 0.9999999999999998,
          "observed_growth_rate": 1.0000040000159998,
          "timepoint": "2004-04-01T00:00:00"
         },
         {
          "clade_membership": "f3f16af",
          "frequency": 0.9999960000000001,
          "frequency_final": 0.9999999999999998,
          "observed_growth_rate": 1.0000040000159998,
          "timepoint": "2004-04-01T00:00:00"
         },
         {
          "clade_membership": "fd5608c",
          "frequency": 0.995458,
          "frequency_final": 0.9505060000000001,
          "observed_growth_rate": 0.9548428964356107,
          "timepoint": "2004-04-01T00:00:00"
         },
         {
          "clade_membership": "root",
          "frequency": 0.9999960000000001,
          "frequency_final": 0.9999999999999998,
          "observed_growth_rate": 1.0000040000159998,
          "timepoint": "2004-04-01T00:00:00"
         },
         {
          "clade_membership": "02e323e",
          "frequency": 1.0000000000000002,
          "frequency_final": 0.999989,
          "observed_growth_rate": 0.9999889999999998,
          "timepoint": "2004-10-01T00:00:00"
         },
         {
          "clade_membership": "048f8ca",
          "frequency": 1.0000000000000002,
          "frequency_final": 0.999989,
          "observed_growth_rate": 0.9999889999999998,
          "timepoint": "2004-10-01T00:00:00"
         },
         {
          "clade_membership": "09e68a2",
          "frequency": 1.0000000000000002,
          "frequency_final": 0.999989,
          "observed_growth_rate": 0.9999889999999998,
          "timepoint": "2004-10-01T00:00:00"
         },
         {
          "clade_membership": "35491c6",
          "frequency": 1.0000000000000002,
          "frequency_final": 0.999989,
          "observed_growth_rate": 0.9999889999999998,
          "timepoint": "2004-10-01T00:00:00"
         },
         {
          "clade_membership": "3a81d99",
          "frequency": 0.4289540000000001,
          "frequency_final": 0.8989430000000003,
          "observed_growth_rate": 2.0956629382171514,
          "timepoint": "2004-10-01T00:00:00"
         },
         {
          "clade_membership": "412c00a",
          "frequency": 0.7096790000000001,
          "frequency_final": 0,
          "observed_growth_rate": 0,
          "timepoint": "2004-10-01T00:00:00"
         },
         {
          "clade_membership": "44989e1",
          "frequency": 0.40200100000000005,
          "frequency_final": 0.8902530000000004,
          "observed_growth_rate": 2.2145541926512626,
          "timepoint": "2004-10-01T00:00:00"
         },
         {
          "clade_membership": "4952842",
          "frequency": 1.0000000000000002,
          "frequency_final": 0.9627680000000001,
          "observed_growth_rate": 0.9627679999999998,
          "timepoint": "2004-10-01T00:00:00"
         },
         {
          "clade_membership": "4e35443",
          "frequency": 1.0000000000000002,
          "frequency_final": 0,
          "observed_growth_rate": 0,
          "timepoint": "2004-10-01T00:00:00"
         },
         {
          "clade_membership": "4ff1302",
          "frequency": 0.695038,
          "frequency_final": 0.9547740000000002,
          "observed_growth_rate": 1.3737004307678145,
          "timepoint": "2004-10-01T00:00:00"
         },
         {
          "clade_membership": "6335574",
          "frequency": 1.0000000000000002,
          "frequency_final": 0.9627680000000001,
          "observed_growth_rate": 0.9627679999999998,
          "timepoint": "2004-10-01T00:00:00"
         },
         {
          "clade_membership": "7aa732d",
          "frequency": 0.153111,
          "frequency_final": 0.8104660000000001,
          "observed_growth_rate": 5.2933231446466955,
          "timepoint": "2004-10-01T00:00:00"
         },
         {
          "clade_membership": "85356dd",
          "frequency": 1.0000000000000002,
          "frequency_final": 0.9627680000000001,
          "observed_growth_rate": 0.9627679999999998,
          "timepoint": "2004-10-01T00:00:00"
         },
         {
          "clade_membership": "88dab64",
          "frequency": 1.0000000000000002,
          "frequency_final": 0.999989,
          "observed_growth_rate": 0.9999889999999998,
          "timepoint": "2004-10-01T00:00:00"
         },
         {
          "clade_membership": "8e08f7f",
          "frequency": 1.0000000000000002,
          "frequency_final": 0,
          "observed_growth_rate": 0,
          "timepoint": "2004-10-01T00:00:00"
         },
         {
          "clade_membership": "98c068a",
          "frequency": 1.0000000000000002,
          "frequency_final": 0.999989,
          "observed_growth_rate": 0.9999889999999998,
          "timepoint": "2004-10-01T00:00:00"
         },
         {
          "clade_membership": "9a3ff5d",
          "frequency": 1.0000000000000002,
          "frequency_final": 0.9627680000000001,
          "observed_growth_rate": 0.9627679999999998,
          "timepoint": "2004-10-01T00:00:00"
         },
         {
          "clade_membership": "a5bcb4f",
          "frequency": 1.0000000000000002,
          "frequency_final": 0.9627680000000001,
          "observed_growth_rate": 0.9627679999999998,
          "timepoint": "2004-10-01T00:00:00"
         },
         {
          "clade_membership": "aab80f6",
          "frequency": 1.0000000000000002,
          "frequency_final": 0.9627680000000001,
          "observed_growth_rate": 0.9627679999999998,
          "timepoint": "2004-10-01T00:00:00"
         },
         {
          "clade_membership": "b32cea9",
          "frequency": 0.8743839999999999,
          "frequency_final": 0.9627680000000001,
          "observed_growth_rate": 1.1010814470530113,
          "timepoint": "2004-10-01T00:00:00"
         },
         {
          "clade_membership": "c16a08d",
          "frequency": 1.0000000000000002,
          "frequency_final": 0.999989,
          "observed_growth_rate": 0.9999889999999998,
          "timepoint": "2004-10-01T00:00:00"
         },
         {
          "clade_membership": "d6906cf",
          "frequency": 1.0000000000000002,
          "frequency_final": 0.999989,
          "observed_growth_rate": 0.9999889999999998,
          "timepoint": "2004-10-01T00:00:00"
         },
         {
          "clade_membership": "e501908",
          "frequency": 1.0000000000000002,
          "frequency_final": 0.999989,
          "observed_growth_rate": 0.9999889999999998,
          "timepoint": "2004-10-01T00:00:00"
         },
         {
          "clade_membership": "e64cc68",
          "frequency": 1.0000000000000002,
          "frequency_final": 0.999989,
          "observed_growth_rate": 0.9999889999999998,
          "timepoint": "2004-10-01T00:00:00"
         },
         {
          "clade_membership": "ecf49fd",
          "frequency": 1.0000000000000002,
          "frequency_final": 0.999989,
          "observed_growth_rate": 0.9999889999999998,
          "timepoint": "2004-10-01T00:00:00"
         },
         {
          "clade_membership": "f3f16af",
          "frequency": 1.0000000000000002,
          "frequency_final": 0.999989,
          "observed_growth_rate": 0.9999889999999998,
          "timepoint": "2004-10-01T00:00:00"
         },
         {
          "clade_membership": "fd5608c",
          "frequency": 1.0000000000000002,
          "frequency_final": 0.9627680000000001,
          "observed_growth_rate": 0.9627679999999998,
          "timepoint": "2004-10-01T00:00:00"
         },
         {
          "clade_membership": "root",
          "frequency": 1.0000000000000002,
          "frequency_final": 0.999989,
          "observed_growth_rate": 0.9999889999999998,
          "timepoint": "2004-10-01T00:00:00"
         },
         {
          "clade_membership": "02e323e",
          "frequency": 0.9999999999999998,
          "frequency_final": 1.0000019999999998,
          "observed_growth_rate": 1.000002,
          "timepoint": "2005-04-01T00:00:00"
         },
         {
          "clade_membership": "048f8ca",
          "frequency": 0.9999999999999998,
          "frequency_final": 1.0000019999999998,
          "observed_growth_rate": 1.000002,
          "timepoint": "2005-04-01T00:00:00"
         },
         {
          "clade_membership": "09e68a2",
          "frequency": 0.9999999999999998,
          "frequency_final": 1.0000019999999998,
          "observed_growth_rate": 1.000002,
          "timepoint": "2005-04-01T00:00:00"
         },
         {
          "clade_membership": "35491c6",
          "frequency": 0.9999999999999998,
          "frequency_final": 1.0000019999999998,
          "observed_growth_rate": 1.000002,
          "timepoint": "2005-04-01T00:00:00"
         },
         {
          "clade_membership": "3a81d99",
          "frequency": 0.8987780000000002,
          "frequency_final": 0.9980419999999999,
          "observed_growth_rate": 1.1104432907792576,
          "timepoint": "2005-04-01T00:00:00"
         },
         {
          "clade_membership": "412c00a",
          "frequency": 0.9427150000000002,
          "frequency_final": 0.9980419999999999,
          "observed_growth_rate": 1.0586889993264132,
          "timepoint": "2005-04-01T00:00:00"
         },
         {
          "clade_membership": "44989e1",
          "frequency": 0.7628190000000002,
          "frequency_final": 0.989049,
          "observed_growth_rate": 1.2965710083256967,
          "timepoint": "2005-04-01T00:00:00"
         },
         {
          "clade_membership": "4952842",
          "frequency": 0.9505060000000001,
          "frequency_final": 0.9980419999999999,
          "observed_growth_rate": 1.0500112571619746,
          "timepoint": "2005-04-01T00:00:00"
         },
         {
          "clade_membership": "4ff1302",
          "frequency": 0.9427150000000002,
          "frequency_final": 0.9980419999999999,
          "observed_growth_rate": 1.0586889993264132,
          "timepoint": "2005-04-01T00:00:00"
         },
         {
          "clade_membership": "6335574",
          "frequency": 0.9505060000000001,
          "frequency_final": 0.9980419999999999,
          "observed_growth_rate": 1.0500112571619746,
          "timepoint": "2005-04-01T00:00:00"
         },
         {
          "clade_membership": "7aa732d",
          "frequency": 0.6618819999999999,
          "frequency_final": 0.967061,
          "observed_growth_rate": 1.4610776543250914,
          "timepoint": "2005-04-01T00:00:00"
         },
         {
          "clade_membership": "8386d16",
          "frequency": 0.9505060000000001,
          "frequency_final": 0.9980419999999999,
          "observed_growth_rate": 1.0500112571619746,
          "timepoint": "2005-04-01T00:00:00"
         },
         {
          "clade_membership": "85356dd",
          "frequency": 0.9505060000000001,
          "frequency_final": 0.9980419999999999,
          "observed_growth_rate": 1.0500112571619746,
          "timepoint": "2005-04-01T00:00:00"
         },
         {
          "clade_membership": "88dab64",
          "frequency": 0.9999999999999998,
          "frequency_final": 1.0000019999999998,
          "observed_growth_rate": 1.000002,
          "timepoint": "2005-04-01T00:00:00"
         },
         {
          "clade_membership": "8e08f7f",
          "frequency": 0.9999999999999998,
          "frequency_final": 1.0000019999999998,
          "observed_growth_rate": 1.000002,
          "timepoint": "2005-04-01T00:00:00"
         },
         {
          "clade_membership": "98c068a",
          "frequency": 0.9999999999999998,
          "frequency_final": 1.0000019999999998,
          "observed_growth_rate": 1.000002,
          "timepoint": "2005-04-01T00:00:00"
         },
         {
          "clade_membership": "9a3ff5d",
          "frequency": 0.9505060000000001,
          "frequency_final": 0.9980419999999999,
          "observed_growth_rate": 1.0500112571619746,
          "timepoint": "2005-04-01T00:00:00"
         },
         {
          "clade_membership": "a5bcb4f",
          "frequency": 0.9505060000000001,
          "frequency_final": 0.9980419999999999,
          "observed_growth_rate": 1.0500112571619746,
          "timepoint": "2005-04-01T00:00:00"
         },
         {
          "clade_membership": "aab80f6",
          "frequency": 0.9505060000000001,
          "frequency_final": 0.9980419999999999,
          "observed_growth_rate": 1.0500112571619746,
          "timepoint": "2005-04-01T00:00:00"
         },
         {
          "clade_membership": "b32cea9",
          "frequency": 0.9427150000000002,
          "frequency_final": 0.9980419999999999,
          "observed_growth_rate": 1.0586889993264132,
          "timepoint": "2005-04-01T00:00:00"
         },
         {
          "clade_membership": "d6906cf",
          "frequency": 0.9999999999999998,
          "frequency_final": 1.0000019999999998,
          "observed_growth_rate": 1.000002,
          "timepoint": "2005-04-01T00:00:00"
         },
         {
          "clade_membership": "d7fecad",
          "frequency": 0.9999999999999998,
          "frequency_final": 1.0000019999999998,
          "observed_growth_rate": 1.000002,
          "timepoint": "2005-04-01T00:00:00"
         },
         {
          "clade_membership": "e501908",
          "frequency": 0.9999999999999998,
          "frequency_final": 1.0000019999999998,
          "observed_growth_rate": 1.000002,
          "timepoint": "2005-04-01T00:00:00"
         },
         {
          "clade_membership": "e64cc68",
          "frequency": 0.9999999999999998,
          "frequency_final": 1.0000019999999998,
          "observed_growth_rate": 1.000002,
          "timepoint": "2005-04-01T00:00:00"
         },
         {
          "clade_membership": "ecf49fd",
          "frequency": 0.9999999999999998,
          "frequency_final": 1.0000019999999998,
          "observed_growth_rate": 1.000002,
          "timepoint": "2005-04-01T00:00:00"
         },
         {
          "clade_membership": "f3f16af",
          "frequency": 0.9999999999999998,
          "frequency_final": 1.0000019999999998,
          "observed_growth_rate": 1.000002,
          "timepoint": "2005-04-01T00:00:00"
         },
         {
          "clade_membership": "fd5608c",
          "frequency": 0.9505060000000001,
          "frequency_final": 0.9980419999999999,
          "observed_growth_rate": 1.0500112571619746,
          "timepoint": "2005-04-01T00:00:00"
         },
         {
          "clade_membership": "root",
          "frequency": 0.9999999999999998,
          "frequency_final": 1.0000019999999998,
          "observed_growth_rate": 1.000002,
          "timepoint": "2005-04-01T00:00:00"
         },
         {
          "clade_membership": "02e323e",
          "frequency": 0.999989,
          "frequency_final": 1.000001,
          "observed_growth_rate": 1.0000120001320014,
          "timepoint": "2005-10-01T00:00:00"
         },
         {
          "clade_membership": "048f8ca",
          "frequency": 0.999989,
          "frequency_final": 1.000001,
          "observed_growth_rate": 1.0000120001320014,
          "timepoint": "2005-10-01T00:00:00"
         },
         {
          "clade_membership": "09e68a2",
          "frequency": 0.999989,
          "frequency_final": 1.000001,
          "observed_growth_rate": 1.0000120001320014,
          "timepoint": "2005-10-01T00:00:00"
         },
         {
          "clade_membership": "2806112",
          "frequency": 0.15843600000000002,
          "frequency_final": 0.020262000000000002,
          "observed_growth_rate": 0.12788760130273422,
          "timepoint": "2005-10-01T00:00:00"
         },
         {
          "clade_membership": "35491c6",
          "frequency": 0.999989,
          "frequency_final": 1.000001,
          "observed_growth_rate": 1.0000120001320014,
          "timepoint": "2005-10-01T00:00:00"
         },
         {
          "clade_membership": "3a81d99",
          "frequency": 0.8989430000000003,
          "frequency_final": 0.9756090000000001,
          "observed_growth_rate": 1.0852846064767174,
          "timepoint": "2005-10-01T00:00:00"
         },
         {
          "clade_membership": "44989e1",
          "frequency": 0.8902530000000004,
          "frequency_final": 0.9756090000000001,
          "observed_growth_rate": 1.0958783626676907,
          "timepoint": "2005-10-01T00:00:00"
         },
         {
          "clade_membership": "4952842",
          "frequency": 0.9627680000000001,
          "frequency_final": 1.000001,
          "observed_growth_rate": 1.0386728682299369,
          "timepoint": "2005-10-01T00:00:00"
         },
         {
          "clade_membership": "4ff1302",
          "frequency": 0.9547740000000002,
          "frequency_final": 1.000001,
          "observed_growth_rate": 1.0473693250968288,
          "timepoint": "2005-10-01T00:00:00"
         },
         {
          "clade_membership": "5ce45ae",
          "frequency": 0.21233899999999994,
          "frequency_final": 0.10469200000000004,
          "observed_growth_rate": 0.4930417869538806,
          "timepoint": "2005-10-01T00:00:00"
         },
         {
          "clade_membership": "6335574",
          "frequency": 0.9627680000000001,
          "frequency_final": 0,
          "observed_growth_rate": 0,
          "timepoint": "2005-10-01T00:00:00"
         },
         {
          "clade_membership": "6b0ee12",
          "frequency": 0.999989,
          "frequency_final": 0,
          "observed_growth_rate": 0,
          "timepoint": "2005-10-01T00:00:00"
         },
         {
          "clade_membership": "7aa732d",
          "frequency": 0.8104660000000001,
          "frequency_final": 0.975608,
          "observed_growth_rate": 1.203761786429042,
          "timepoint": "2005-10-01T00:00:00"
         },
         {
          "clade_membership": "85356dd",
          "frequency": 0.9627680000000001,
          "frequency_final": 1.000001,
          "observed_growth_rate": 1.0386728682299369,
          "timepoint": "2005-10-01T00:00:00"
         },
         {
          "clade_membership": "88dab64",
          "frequency": 0.999989,
          "frequency_final": 1.000001,
          "observed_growth_rate": 1.0000120001320014,
          "timepoint": "2005-10-01T00:00:00"
         },
         {
          "clade_membership": "98c068a",
          "frequency": 0.999989,
          "frequency_final": 1.000001,
          "observed_growth_rate": 1.0000120001320014,
          "timepoint": "2005-10-01T00:00:00"
         },
         {
          "clade_membership": "9a3ff5d",
          "frequency": 0.9627680000000001,
          "frequency_final": 1.000001,
          "observed_growth_rate": 1.0386728682299369,
          "timepoint": "2005-10-01T00:00:00"
         },
         {
          "clade_membership": "9b04f13",
          "frequency": 0.4572079999999999,
          "frequency_final": 0.8707150000000001,
          "observed_growth_rate": 1.904417682980176,
          "timepoint": "2005-10-01T00:00:00"
         },
         {
          "clade_membership": "a5bcb4f",
          "frequency": 0.9627680000000001,
          "frequency_final": 1.000001,
          "observed_growth_rate": 1.0386728682299369,
          "timepoint": "2005-10-01T00:00:00"
         },
         {
          "clade_membership": "a8f54a9",
          "frequency": 0.999989,
          "frequency_final": 0,
          "observed_growth_rate": 0,
          "timepoint": "2005-10-01T00:00:00"
         },
         {
          "clade_membership": "aab80f6",
          "frequency": 0.9627680000000001,
          "frequency_final": 1.000001,
          "observed_growth_rate": 1.0386728682299369,
          "timepoint": "2005-10-01T00:00:00"
         },
         {
          "clade_membership": "b32cea9",
          "frequency": 0.9627680000000001,
          "frequency_final": 1.000001,
          "observed_growth_rate": 1.0386728682299369,
          "timepoint": "2005-10-01T00:00:00"
         },
         {
          "clade_membership": "d6906cf",
          "frequency": 0.999989,
          "frequency_final": 1.000001,
          "observed_growth_rate": 1.0000120001320014,
          "timepoint": "2005-10-01T00:00:00"
         },
         {
          "clade_membership": "d8ea4e1",
          "frequency": 0.21233899999999994,
          "frequency_final": 0.10469200000000004,
          "observed_growth_rate": 0.4930417869538806,
          "timepoint": "2005-10-01T00:00:00"
         },
         {
          "clade_membership": "e501908",
          "frequency": 0.999989,
          "frequency_final": 1.000001,
          "observed_growth_rate": 1.0000120001320014,
          "timepoint": "2005-10-01T00:00:00"
         },
         {
          "clade_membership": "e64cc68",
          "frequency": 0.999989,
          "frequency_final": 1.000001,
          "observed_growth_rate": 1.0000120001320014,
          "timepoint": "2005-10-01T00:00:00"
         },
         {
          "clade_membership": "ecf49fd",
          "frequency": 0.999989,
          "frequency_final": 1.000001,
          "observed_growth_rate": 1.0000120001320014,
          "timepoint": "2005-10-01T00:00:00"
         },
         {
          "clade_membership": "f3f16af",
          "frequency": 0.999989,
          "frequency_final": 1.000001,
          "observed_growth_rate": 1.0000120001320014,
          "timepoint": "2005-10-01T00:00:00"
         },
         {
          "clade_membership": "root",
          "frequency": 0.999989,
          "frequency_final": 1.000001,
          "observed_growth_rate": 1.0000120001320014,
          "timepoint": "2005-10-01T00:00:00"
         },
         {
          "clade_membership": "02e323e",
          "frequency": 1.0000019999999998,
          "frequency_final": 0.9999949999999995,
          "observed_growth_rate": 0.9999930000139997,
          "timepoint": "2006-04-01T00:00:00"
         },
         {
          "clade_membership": "048f8ca",
          "frequency": 1.0000019999999998,
          "frequency_final": 0.9999949999999995,
          "observed_growth_rate": 0.9999930000139997,
          "timepoint": "2006-04-01T00:00:00"
         },
         {
          "clade_membership": "09e68a2",
          "frequency": 1.0000019999999998,
          "frequency_final": 0.9999949999999995,
          "observed_growth_rate": 0.9999930000139997,
          "timepoint": "2006-04-01T00:00:00"
         },
         {
          "clade_membership": "35491c6",
          "frequency": 1.0000019999999998,
          "frequency_final": 0.9999949999999995,
          "observed_growth_rate": 0.9999930000139997,
          "timepoint": "2006-04-01T00:00:00"
         },
         {
          "clade_membership": "3a81d99",
          "frequency": 0.9980419999999999,
          "frequency_final": 0.9910169999999996,
          "observed_growth_rate": 0.992961218064971,
          "timepoint": "2006-04-01T00:00:00"
         },
         {
          "clade_membership": "412c00a",
          "frequency": 0.9980419999999999,
          "frequency_final": 0,
          "observed_growth_rate": 0,
          "timepoint": "2006-04-01T00:00:00"
         },
         {
          "clade_membership": "44989e1",
          "frequency": 0.989049,
          "frequency_final": 0.9910169999999996,
          "observed_growth_rate": 1.0019897901923966,
          "timepoint": "2006-04-01T00:00:00"
         },
         {
          "clade_membership": "4952842",
          "frequency": 0.9980419999999999,
          "frequency_final": 0.9999949999999995,
          "observed_growth_rate": 1.0019568314760297,
          "timepoint": "2006-04-01T00:00:00"
         },
         {
          "clade_membership": "4e35443",
          "frequency": 0.9980419999999999,
          "frequency_final": 0.9999949999999995,
          "observed_growth_rate": 1.0019568314760297,
          "timepoint": "2006-04-01T00:00:00"
         },
         {
          "clade_membership": "4ff1302",
          "frequency": 0.9980419999999999,
          "frequency_final": 0,
          "observed_growth_rate": 0,
          "timepoint": "2006-04-01T00:00:00"
         },
         {
          "clade_membership": "5ce45ae",
          "frequency": 0.241295,
          "frequency_final": 0,
          "observed_growth_rate": 0,
          "timepoint": "2006-04-01T00:00:00"
         },
         {
          "clade_membership": "6335574",
          "frequency": 0.9980419999999999,
          "frequency_final": 0.9999949999999995,
          "observed_growth_rate": 1.0019568314760297,
          "timepoint": "2006-04-01T00:00:00"
         },
         {
          "clade_membership": "7aa732d",
          "frequency": 0.967061,
          "frequency_final": 0.9910169999999996,
          "observed_growth_rate": 1.0247719637127333,
          "timepoint": "2006-04-01T00:00:00"
         },
         {
          "clade_membership": "85356dd",
          "frequency": 0.9980419999999999,
          "frequency_final": 0.9999949999999995,
          "observed_growth_rate": 1.0019568314760297,
          "timepoint": "2006-04-01T00:00:00"
         },
         {
          "clade_membership": "88dab64",
          "frequency": 1.0000019999999998,
          "frequency_final": 0.9999949999999995,
          "observed_growth_rate": 0.9999930000139997,
          "timepoint": "2006-04-01T00:00:00"
         },
         {
          "clade_membership": "8e08f7f",
          "frequency": 1.0000019999999998,
          "frequency_final": 0.9999949999999995,
          "observed_growth_rate": 0.9999930000139997,
          "timepoint": "2006-04-01T00:00:00"
         },
         {
          "clade_membership": "98c068a",
          "frequency": 1.0000019999999998,
          "frequency_final": 0.9999949999999995,
          "observed_growth_rate": 0.9999930000139997,
          "timepoint": "2006-04-01T00:00:00"
         },
         {
          "clade_membership": "9a3ff5d",
          "frequency": 0.9980419999999999,
          "frequency_final": 0.9999949999999995,
          "observed_growth_rate": 1.0019568314760297,
          "timepoint": "2006-04-01T00:00:00"
         },
         {
          "clade_membership": "9b04f13",
          "frequency": 0.6944840000000003,
          "frequency_final": 0.9890729999999996,
          "observed_growth_rate": 1.4241839984794455,
          "timepoint": "2006-04-01T00:00:00"
         },
         {
          "clade_membership": "a5bcb4f",
          "frequency": 0.9980419999999999,
          "frequency_final": 0.9999949999999995,
          "observed_growth_rate": 1.0019568314760297,
          "timepoint": "2006-04-01T00:00:00"
         },
         {
          "clade_membership": "aab80f6",
          "frequency": 0.9980419999999999,
          "frequency_final": 0.9999949999999995,
          "observed_growth_rate": 1.0019568314760297,
          "timepoint": "2006-04-01T00:00:00"
         },
         {
          "clade_membership": "b32cea9",
          "frequency": 0.9980419999999999,
          "frequency_final": 0,
          "observed_growth_rate": 0,
          "timepoint": "2006-04-01T00:00:00"
         },
         {
          "clade_membership": "d6906cf",
          "frequency": 1.0000019999999998,
          "frequency_final": 0.9999949999999995,
          "observed_growth_rate": 0.9999930000139997,
          "timepoint": "2006-04-01T00:00:00"
         },
         {
          "clade_membership": "d7fecad",
          "frequency": 1.0000019999999998,
          "frequency_final": 0.9999949999999995,
          "observed_growth_rate": 0.9999930000139997,
          "timepoint": "2006-04-01T00:00:00"
         },
         {
          "clade_membership": "d8ea4e1",
          "frequency": 0.241295,
          "frequency_final": 0,
          "observed_growth_rate": 0,
          "timepoint": "2006-04-01T00:00:00"
         },
         {
          "clade_membership": "e501908",
          "frequency": 1.0000019999999998,
          "frequency_final": 0.9999949999999995,
          "observed_growth_rate": 0.9999930000139997,
          "timepoint": "2006-04-01T00:00:00"
         },
         {
          "clade_membership": "e64cc68",
          "frequency": 1.0000019999999998,
          "frequency_final": 0.9999949999999995,
          "observed_growth_rate": 0.9999930000139997,
          "timepoint": "2006-04-01T00:00:00"
         },
         {
          "clade_membership": "ecf49fd",
          "frequency": 1.0000019999999998,
          "frequency_final": 0.9999949999999995,
          "observed_growth_rate": 0.9999930000139997,
          "timepoint": "2006-04-01T00:00:00"
         },
         {
          "clade_membership": "f3f16af",
          "frequency": 1.0000019999999998,
          "frequency_final": 0.9999949999999995,
          "observed_growth_rate": 0.9999930000139997,
          "timepoint": "2006-04-01T00:00:00"
         },
         {
          "clade_membership": "fd5608c",
          "frequency": 0.9980419999999999,
          "frequency_final": 0.9999949999999995,
          "observed_growth_rate": 1.0019568314760297,
          "timepoint": "2006-04-01T00:00:00"
         },
         {
          "clade_membership": "root",
          "frequency": 1.0000019999999998,
          "frequency_final": 0.9999949999999995,
          "observed_growth_rate": 0.9999930000139997,
          "timepoint": "2006-04-01T00:00:00"
         },
         {
          "clade_membership": "02e323e",
          "frequency": 1.000001,
          "frequency_final": 0.9999930000000005,
          "observed_growth_rate": 0.9999920000080006,
          "timepoint": "2006-10-01T00:00:00"
         },
         {
          "clade_membership": "048f8ca",
          "frequency": 1.000001,
          "frequency_final": 0.9999930000000005,
          "observed_growth_rate": 0.9999920000080006,
          "timepoint": "2006-10-01T00:00:00"
         },
         {
          "clade_membership": "09e68a2",
          "frequency": 1.000001,
          "frequency_final": 0.9999930000000005,
          "observed_growth_rate": 0.9999920000080006,
          "timepoint": "2006-10-01T00:00:00"
         },
         {
          "clade_membership": "35491c6",
          "frequency": 1.000001,
          "frequency_final": 0.9999930000000005,
          "observed_growth_rate": 0.9999920000080006,
          "timepoint": "2006-10-01T00:00:00"
         },
         {
          "clade_membership": "3a81d99",
          "frequency": 0.9756090000000001,
          "frequency_final": 0.9999930000000005,
          "observed_growth_rate": 1.0249936193700555,
          "timepoint": "2006-10-01T00:00:00"
         },
         {
          "clade_membership": "412c00a",
          "frequency": 1.000001,
          "frequency_final": 0.9999930000000005,
          "observed_growth_rate": 0.9999920000080006,
          "timepoint": "2006-10-01T00:00:00"
         },
         {
          "clade_membership": "44989e1",
          "frequency": 0.9756090000000001,
          "frequency_final": 0.9999930000000005,
          "observed_growth_rate": 1.0249936193700555,
          "timepoint": "2006-10-01T00:00:00"
         },
         {
          "clade_membership": "4952842",
          "frequency": 1.000001,
          "frequency_final": 0.9999930000000005,
          "observed_growth_rate": 0.9999920000080006,
          "timepoint": "2006-10-01T00:00:00"
         },
         {
          "clade_membership": "4e35443",
          "frequency": 1.000001,
          "frequency_final": 0,
          "observed_growth_rate": 0,
          "timepoint": "2006-10-01T00:00:00"
         },
         {
          "clade_membership": "4ff1302",
          "frequency": 1.000001,
          "frequency_final": 0.9999930000000005,
          "observed_growth_rate": 0.9999920000080006,
          "timepoint": "2006-10-01T00:00:00"
         },
         {
          "clade_membership": "7aa732d",
          "frequency": 0.975608,
          "frequency_final": 0.9999930000000005,
          "observed_growth_rate": 1.0249946699904064,
          "timepoint": "2006-10-01T00:00:00"
         },
         {
          "clade_membership": "81957b0",
          "frequency": 0.36886799999999986,
          "frequency_final": 0,
          "observed_growth_rate": 0,
          "timepoint": "2006-10-01T00:00:00"
         },
         {
          "clade_membership": "85356dd",
          "frequency": 1.000001,
          "frequency_final": 0.9999930000000005,
          "observed_growth_rate": 0.9999920000080006,
          "timepoint": "2006-10-01T00:00:00"
         },
         {
          "clade_membership": "88dab64",
          "frequency": 1.000001,
          "frequency_final": 0.9999930000000005,
          "observed_growth_rate": 0.9999920000080006,
          "timepoint": "2006-10-01T00:00:00"
         },
         {
          "clade_membership": "8e08f7f",
          "frequency": 1.000001,
          "frequency_final": 0.9999930000000005,
          "observed_growth_rate": 0.9999920000080006,
          "timepoint": "2006-10-01T00:00:00"
         },
         {
          "clade_membership": "98c068a",
          "frequency": 1.000001,
          "frequency_final": 0.9999930000000005,
          "observed_growth_rate": 0.9999920000080006,
          "timepoint": "2006-10-01T00:00:00"
         },
         {
          "clade_membership": "9a3ff5d",
          "frequency": 1.000001,
          "frequency_final": 0.9999930000000005,
          "observed_growth_rate": 0.9999920000080006,
          "timepoint": "2006-10-01T00:00:00"
         },
         {
          "clade_membership": "9b04f13",
          "frequency": 0.8707150000000001,
          "frequency_final": 0.9999930000000005,
          "observed_growth_rate": 1.1484733810718781,
          "timepoint": "2006-10-01T00:00:00"
         },
         {
          "clade_membership": "a5bcb4f",
          "frequency": 1.000001,
          "frequency_final": 0.9999930000000005,
          "observed_growth_rate": 0.9999920000080006,
          "timepoint": "2006-10-01T00:00:00"
         },
         {
          "clade_membership": "a7de610",
          "frequency": 0.17215999999999998,
          "frequency_final": 0,
          "observed_growth_rate": 0,
          "timepoint": "2006-10-01T00:00:00"
         },
         {
          "clade_membership": "aab80f6",
          "frequency": 1.000001,
          "frequency_final": 0.9999930000000005,
          "observed_growth_rate": 0.9999920000080006,
          "timepoint": "2006-10-01T00:00:00"
         },
         {
          "clade_membership": "b32cea9",
          "frequency": 1.000001,
          "frequency_final": 0,
          "observed_growth_rate": 0,
          "timepoint": "2006-10-01T00:00:00"
         },
         {
          "clade_membership": "d6906cf",
          "frequency": 1.000001,
          "frequency_final": 0.9999930000000005,
          "observed_growth_rate": 0.9999920000080006,
          "timepoint": "2006-10-01T00:00:00"
         },
         {
          "clade_membership": "d7fecad",
          "frequency": 1.000001,
          "frequency_final": 0.9999930000000005,
          "observed_growth_rate": 0.9999920000080006,
          "timepoint": "2006-10-01T00:00:00"
         },
         {
          "clade_membership": "e2f3876",
          "frequency": 1.000001,
          "frequency_final": 0.9999930000000005,
          "observed_growth_rate": 0.9999920000080006,
          "timepoint": "2006-10-01T00:00:00"
         },
         {
          "clade_membership": "e501908",
          "frequency": 1.000001,
          "frequency_final": 0.9999930000000005,
          "observed_growth_rate": 0.9999920000080006,
          "timepoint": "2006-10-01T00:00:00"
         },
         {
          "clade_membership": "e64cc68",
          "frequency": 1.000001,
          "frequency_final": 0.9999930000000005,
          "observed_growth_rate": 0.9999920000080006,
          "timepoint": "2006-10-01T00:00:00"
         },
         {
          "clade_membership": "ecf49fd",
          "frequency": 1.000001,
          "frequency_final": 0.9999930000000005,
          "observed_growth_rate": 0.9999920000080006,
          "timepoint": "2006-10-01T00:00:00"
         },
         {
          "clade_membership": "f3f16af",
          "frequency": 1.000001,
          "frequency_final": 0.9999930000000005,
          "observed_growth_rate": 0.9999920000080006,
          "timepoint": "2006-10-01T00:00:00"
         },
         {
          "clade_membership": "f4232bd",
          "frequency": 0.36886799999999986,
          "frequency_final": 0,
          "observed_growth_rate": 0,
          "timepoint": "2006-10-01T00:00:00"
         },
         {
          "clade_membership": "ff9301c",
          "frequency": 1.000001,
          "frequency_final": 0.9999930000000005,
          "observed_growth_rate": 0.9999920000080006,
          "timepoint": "2006-10-01T00:00:00"
         },
         {
          "clade_membership": "root",
          "frequency": 1.000001,
          "frequency_final": 0.9999930000000005,
          "observed_growth_rate": 0.9999920000080006,
          "timepoint": "2006-10-01T00:00:00"
         },
         {
          "clade_membership": "0003b07",
          "frequency": 0.7785749999999998,
          "frequency_final": 0.9402800000000001,
          "observed_growth_rate": 1.2076935426901716,
          "timepoint": "2007-04-01T00:00:00"
         },
         {
          "clade_membership": "02e323e",
          "frequency": 0.9999949999999995,
          "frequency_final": 1.0000049999999998,
          "observed_growth_rate": 1.0000100000500005,
          "timepoint": "2007-04-01T00:00:00"
         },
         {
          "clade_membership": "048f8ca",
          "frequency": 0.9999949999999995,
          "frequency_final": 1.0000049999999998,
          "observed_growth_rate": 1.0000100000500005,
          "timepoint": "2007-04-01T00:00:00"
         },
         {
          "clade_membership": "09e68a2",
          "frequency": 0.9999949999999995,
          "frequency_final": 1.0000049999999998,
          "observed_growth_rate": 1.0000100000500005,
          "timepoint": "2007-04-01T00:00:00"
         },
         {
          "clade_membership": "2c4f3df",
          "frequency": 0.9999949999999995,
          "frequency_final": 0,
          "observed_growth_rate": 0,
          "timepoint": "2007-04-01T00:00:00"
         },
         {
          "clade_membership": "35491c6",
          "frequency": 0.9999949999999995,
          "frequency_final": 1.0000049999999998,
          "observed_growth_rate": 1.0000100000500005,
          "timepoint": "2007-04-01T00:00:00"
         },
         {
          "clade_membership": "383df4e",
          "frequency": 0.27304700000000004,
          "frequency_final": 0.00011200000000000001,
          "observed_growth_rate": 0.000410185792189623,
          "timepoint": "2007-04-01T00:00:00"
         },
         {
          "clade_membership": "3a81d99",
          "frequency": 0.9910169999999996,
          "frequency_final": 1.0000049999999998,
          "observed_growth_rate": 1.0090694710585189,
          "timepoint": "2007-04-01T00:00:00"
         },
         {
          "clade_membership": "3c0baec",
          "frequency": 0.502275,
          "frequency_final": 0.9630039999999999,
          "observed_growth_rate": 1.9172843561793835,
          "timepoint": "2007-04-01T00:00:00"
         },
         {
          "clade_membership": "44989e1",
          "frequency": 0.9910169999999996,
          "frequency_final": 1.0000049999999998,
          "observed_growth_rate": 1.0090694710585189,
          "timepoint": "2007-04-01T00:00:00"
         },
         {
          "clade_membership": "4952842",
          "frequency": 0.9999949999999995,
          "frequency_final": 1.0000049999999998,
          "observed_growth_rate": 1.0000100000500005,
          "timepoint": "2007-04-01T00:00:00"
         },
         {
          "clade_membership": "4e35443",
          "frequency": 0.9999949999999995,
          "frequency_final": 1.0000049999999998,
          "observed_growth_rate": 1.0000100000500005,
          "timepoint": "2007-04-01T00:00:00"
         },
         {
          "clade_membership": "6335574",
          "frequency": 0.9999949999999995,
          "frequency_final": 1.0000049999999998,
          "observed_growth_rate": 1.0000100000500005,
          "timepoint": "2007-04-01T00:00:00"
         },
         {
          "clade_membership": "7aa732d",
          "frequency": 0.9910169999999996,
          "frequency_final": 1.0000049999999998,
          "observed_growth_rate": 1.0090694710585189,
          "timepoint": "2007-04-01T00:00:00"
         },
         {
          "clade_membership": "8517059",
          "frequency": 0.8336409999999997,
          "frequency_final": 0,
          "observed_growth_rate": 0,
          "timepoint": "2007-04-01T00:00:00"
         },
         {
          "clade_membership": "85356dd",
          "frequency": 0.9999949999999995,
          "frequency_final": 0,
          "observed_growth_rate": 0,
          "timepoint": "2007-04-01T00:00:00"
         },
         {
          "clade_membership": "88dab64",
          "frequency": 0.9999949999999995,
          "frequency_final": 1.0000049999999998,
          "observed_growth_rate": 1.0000100000500005,
          "timepoint": "2007-04-01T00:00:00"
         },
         {
          "clade_membership": "8e08f7f",
          "frequency": 0.9999949999999995,
          "frequency_final": 1.0000049999999998,
          "observed_growth_rate": 1.0000100000500005,
          "timepoint": "2007-04-01T00:00:00"
         },
         {
          "clade_membership": "91769ce",
          "frequency": 0.340139,
          "frequency_final": 0.9402800000000001,
          "observed_growth_rate": 2.764399260302406,
          "timepoint": "2007-04-01T00:00:00"
         },
         {
          "clade_membership": "98a3f76",
          "frequency": 0.23838900000000005,
          "frequency_final": 0,
          "observed_growth_rate": 0,
          "timepoint": "2007-04-01T00:00:00"
         },
         {
          "clade_membership": "98c068a",
          "frequency": 0.9999949999999995,
          "frequency_final": 1.0000049999999998,
          "observed_growth_rate": 1.0000100000500005,
          "timepoint": "2007-04-01T00:00:00"
         },
         {
          "clade_membership": "9a3ff5d",
          "frequency": 0.9999949999999995,
          "frequency_final": 1.0000049999999998,
          "observed_growth_rate": 1.0000100000500005,
          "timepoint": "2007-04-01T00:00:00"
         },
         {
          "clade_membership": "9b04f13",
          "frequency": 0.9890729999999996,
          "frequency_final": 1.0000049999999998,
          "observed_growth_rate": 1.0110527736577586,
          "timepoint": "2007-04-01T00:00:00"
         },
         {
          "clade_membership": "9f68af2",
          "frequency": 0.20513900000000004,
          "frequency_final": 0.00011200000000000001,
          "observed_growth_rate": 0.0005459712682620077,
          "timepoint": "2007-04-01T00:00:00"
         },
         {
          "clade_membership": "a5bcb4f",
          "frequency": 0.9999949999999995,
          "frequency_final": 1.0000049999999998,
          "observed_growth_rate": 1.0000100000500005,
          "timepoint": "2007-04-01T00:00:00"
         },
         {
          "clade_membership": "aab80f6",
          "frequency": 0.9999949999999995,
          "frequency_final": 1.0000049999999998,
          "observed_growth_rate": 1.0000100000500005,
          "timepoint": "2007-04-01T00:00:00"
         },
         {
          "clade_membership": "c16a08d",
          "frequency": 0.9999949999999995,
          "frequency_final": 1.0000049999999998,
          "observed_growth_rate": 1.0000100000500005,
          "timepoint": "2007-04-01T00:00:00"
         },
         {
          "clade_membership": "d6906cf",
          "frequency": 0.9999949999999995,
          "frequency_final": 1.0000049999999998,
          "observed_growth_rate": 1.0000100000500005,
          "timepoint": "2007-04-01T00:00:00"
         },
         {
          "clade_membership": "d7fecad",
          "frequency": 0.9999949999999995,
          "frequency_final": 1.0000049999999998,
          "observed_growth_rate": 1.0000100000500005,
          "timepoint": "2007-04-01T00:00:00"
         },
         {
          "clade_membership": "e2f3876",
          "frequency": 0.9999949999999995,
          "frequency_final": 1.0000049999999998,
          "observed_growth_rate": 1.0000100000500005,
          "timepoint": "2007-04-01T00:00:00"
         },
         {
          "clade_membership": "e501908",
          "frequency": 0.9999949999999995,
          "frequency_final": 1.0000049999999998,
          "observed_growth_rate": 1.0000100000500005,
          "timepoint": "2007-04-01T00:00:00"
         },
         {
          "clade_membership": "e64cc68",
          "frequency": 0.9999949999999995,
          "frequency_final": 1.0000049999999998,
          "observed_growth_rate": 1.0000100000500005,
          "timepoint": "2007-04-01T00:00:00"
         },
         {
          "clade_membership": "ecf49fd",
          "frequency": 0.9999949999999995,
          "frequency_final": 1.0000049999999998,
          "observed_growth_rate": 1.0000100000500005,
          "timepoint": "2007-04-01T00:00:00"
         },
         {
          "clade_membership": "f3f16af",
          "frequency": 0.9999949999999995,
          "frequency_final": 1.0000049999999998,
          "observed_growth_rate": 1.0000100000500005,
          "timepoint": "2007-04-01T00:00:00"
         },
         {
          "clade_membership": "fd5608c",
          "frequency": 0.9999949999999995,
          "frequency_final": 1.0000049999999998,
          "observed_growth_rate": 1.0000100000500005,
          "timepoint": "2007-04-01T00:00:00"
         },
         {
          "clade_membership": "root",
          "frequency": 0.9999949999999995,
          "frequency_final": 1.0000049999999998,
          "observed_growth_rate": 1.0000100000500005,
          "timepoint": "2007-04-01T00:00:00"
         },
         {
          "clade_membership": "02e323e",
          "frequency": 0.9999930000000005,
          "frequency_final": 0.9999989999999999,
          "observed_growth_rate": 1.0000060000419997,
          "timepoint": "2007-10-01T00:00:00"
         },
         {
          "clade_membership": "048f8ca",
          "frequency": 0.9999930000000005,
          "frequency_final": 0.9999989999999999,
          "observed_growth_rate": 1.0000060000419997,
          "timepoint": "2007-10-01T00:00:00"
         },
         {
          "clade_membership": "09e68a2",
          "frequency": 0.9999930000000005,
          "frequency_final": 0.9999989999999999,
          "observed_growth_rate": 1.0000060000419997,
          "timepoint": "2007-10-01T00:00:00"
         },
         {
          "clade_membership": "35491c6",
          "frequency": 0.9999930000000005,
          "frequency_final": 0.9999989999999999,
          "observed_growth_rate": 1.0000060000419997,
          "timepoint": "2007-10-01T00:00:00"
         },
         {
          "clade_membership": "3a81d99",
          "frequency": 0.9999930000000005,
          "frequency_final": 0.9999989999999999,
          "observed_growth_rate": 1.0000060000419997,
          "timepoint": "2007-10-01T00:00:00"
         },
         {
          "clade_membership": "412c00a",
          "frequency": 0.9999930000000005,
          "frequency_final": 0.9999989999999999,
          "observed_growth_rate": 1.0000060000419997,
          "timepoint": "2007-10-01T00:00:00"
         },
         {
          "clade_membership": "44989e1",
          "frequency": 0.9999930000000005,
          "frequency_final": 0.9999989999999999,
          "observed_growth_rate": 1.0000060000419997,
          "timepoint": "2007-10-01T00:00:00"
         },
         {
          "clade_membership": "4952842",
          "frequency": 0.9999930000000005,
          "frequency_final": 0.9999989999999999,
          "observed_growth_rate": 1.0000060000419997,
          "timepoint": "2007-10-01T00:00:00"
         },
         {
          "clade_membership": "4ff1302",
          "frequency": 0.9999930000000005,
          "frequency_final": 0.9999989999999999,
          "observed_growth_rate": 1.0000060000419997,
          "timepoint": "2007-10-01T00:00:00"
         },
         {
          "clade_membership": "6335574",
          "frequency": 0.9999930000000005,
          "frequency_final": 0.9999989999999999,
          "observed_growth_rate": 1.0000060000419997,
          "timepoint": "2007-10-01T00:00:00"
         },
         {
          "clade_membership": "7aa732d",
          "frequency": 0.9999930000000005,
          "frequency_final": 0.9999989999999999,
          "observed_growth_rate": 1.0000060000419997,
          "timepoint": "2007-10-01T00:00:00"
         },
         {
          "clade_membership": "8517059",
          "frequency": 0.8686710000000003,
          "frequency_final": 0.9999959999999999,
          "observed_growth_rate": 1.1511792151458948,
          "timepoint": "2007-10-01T00:00:00"
         },
         {
          "clade_membership": "85356dd",
          "frequency": 0.9999930000000005,
          "frequency_final": 0.9999989999999999,
          "observed_growth_rate": 1.0000060000419997,
          "timepoint": "2007-10-01T00:00:00"
         },
         {
          "clade_membership": "88dab64",
          "frequency": 0.9999930000000005,
          "frequency_final": 0.9999989999999999,
          "observed_growth_rate": 1.0000060000419997,
          "timepoint": "2007-10-01T00:00:00"
         },
         {
          "clade_membership": "8e08f7f",
          "frequency": 0.9999930000000005,
          "frequency_final": 0.9999989999999999,
          "observed_growth_rate": 1.0000060000419997,
          "timepoint": "2007-10-01T00:00:00"
         },
         {
          "clade_membership": "91769ce",
          "frequency": 0.8686710000000003,
          "frequency_final": 0.9999939999999998,
          "observed_growth_rate": 1.151176912778255,
          "timepoint": "2007-10-01T00:00:00"
         },
         {
          "clade_membership": "98c068a",
          "frequency": 0.9999930000000005,
          "frequency_final": 0.9999989999999999,
          "observed_growth_rate": 1.0000060000419997,
          "timepoint": "2007-10-01T00:00:00"
         },
         {
          "clade_membership": "9a3ff5d",
          "frequency": 0.9999930000000005,
          "frequency_final": 0.9999989999999999,
          "observed_growth_rate": 1.0000060000419997,
          "timepoint": "2007-10-01T00:00:00"
         },
         {
          "clade_membership": "9b04f13",
          "frequency": 0.9999930000000005,
          "frequency_final": 0.9999989999999999,
          "observed_growth_rate": 1.0000060000419997,
          "timepoint": "2007-10-01T00:00:00"
         },
         {
          "clade_membership": "a5bcb4f",
          "frequency": 0.9999930000000005,
          "frequency_final": 0.9999989999999999,
          "observed_growth_rate": 1.0000060000419997,
          "timepoint": "2007-10-01T00:00:00"
         },
         {
          "clade_membership": "aab80f6",
          "frequency": 0.9999930000000005,
          "frequency_final": 0.9999989999999999,
          "observed_growth_rate": 1.0000060000419997,
          "timepoint": "2007-10-01T00:00:00"
         },
         {
          "clade_membership": "d6906cf",
          "frequency": 0.9999930000000005,
          "frequency_final": 0.9999989999999999,
          "observed_growth_rate": 1.0000060000419997,
          "timepoint": "2007-10-01T00:00:00"
         },
         {
          "clade_membership": "d7fecad",
          "frequency": 0.9999930000000005,
          "frequency_final": 0.9999989999999999,
          "observed_growth_rate": 1.0000060000419997,
          "timepoint": "2007-10-01T00:00:00"
         },
         {
          "clade_membership": "e2f3876",
          "frequency": 0.9999930000000005,
          "frequency_final": 0.9999989999999999,
          "observed_growth_rate": 1.0000060000419997,
          "timepoint": "2007-10-01T00:00:00"
         },
         {
          "clade_membership": "e501908",
          "frequency": 0.9999930000000005,
          "frequency_final": 0.9999989999999999,
          "observed_growth_rate": 1.0000060000419997,
          "timepoint": "2007-10-01T00:00:00"
         },
         {
          "clade_membership": "e64cc68",
          "frequency": 0.9999930000000005,
          "frequency_final": 0.9999989999999999,
          "observed_growth_rate": 1.0000060000419997,
          "timepoint": "2007-10-01T00:00:00"
         },
         {
          "clade_membership": "ecf49fd",
          "frequency": 0.9999930000000005,
          "frequency_final": 0.9999989999999999,
          "observed_growth_rate": 1.0000060000419997,
          "timepoint": "2007-10-01T00:00:00"
         },
         {
          "clade_membership": "f3f16af",
          "frequency": 0.9999930000000005,
          "frequency_final": 0.9999989999999999,
          "observed_growth_rate": 1.0000060000419997,
          "timepoint": "2007-10-01T00:00:00"
         },
         {
          "clade_membership": "fd5608c",
          "frequency": 0.9999930000000005,
          "frequency_final": 0.9999989999999999,
          "observed_growth_rate": 1.0000060000419997,
          "timepoint": "2007-10-01T00:00:00"
         },
         {
          "clade_membership": "ff9301c",
          "frequency": 0.9999930000000005,
          "frequency_final": 0.9999989999999999,
          "observed_growth_rate": 1.0000060000419997,
          "timepoint": "2007-10-01T00:00:00"
         },
         {
          "clade_membership": "root",
          "frequency": 0.9999930000000005,
          "frequency_final": 0.9999989999999999,
          "observed_growth_rate": 1.0000060000419997,
          "timepoint": "2007-10-01T00:00:00"
         },
         {
          "clade_membership": "0003b07",
          "frequency": 0.9402800000000001,
          "frequency_final": 0,
          "observed_growth_rate": 0,
          "timepoint": "2008-04-01T00:00:00"
         },
         {
          "clade_membership": "02e323e",
          "frequency": 1.0000049999999998,
          "frequency_final": 1.0000019999999994,
          "observed_growth_rate": 0.9999970000149995,
          "timepoint": "2008-04-01T00:00:00"
         },
         {
          "clade_membership": "048f8ca",
          "frequency": 1.0000049999999998,
          "frequency_final": 1.0000019999999994,
          "observed_growth_rate": 0.9999970000149995,
          "timepoint": "2008-04-01T00:00:00"
         },
         {
          "clade_membership": "050242e",
          "frequency": 0.171089,
          "frequency_final": 0.044787999999999994,
          "observed_growth_rate": 0.26178187960652055,
          "timepoint": "2008-04-01T00:00:00"
         },
         {
          "clade_membership": "09e68a2",
          "frequency": 1.0000049999999998,
          "frequency_final": 1.0000019999999994,
          "observed_growth_rate": 0.9999970000149995,
          "timepoint": "2008-04-01T00:00:00"
         },
         {
          "clade_membership": "35491c6",
          "frequency": 1.0000049999999998,
          "frequency_final": 1.0000019999999994,
          "observed_growth_rate": 0.9999970000149995,
          "timepoint": "2008-04-01T00:00:00"
         },
         {
          "clade_membership": "3a81d99",
          "frequency": 1.0000049999999998,
          "frequency_final": 1.0000019999999994,
          "observed_growth_rate": 0.9999970000149995,
          "timepoint": "2008-04-01T00:00:00"
         },
         {
          "clade_membership": "3c0baec",
          "frequency": 0.9630039999999999,
          "frequency_final": 1.0000019999999994,
          "observed_growth_rate": 1.0384193627440794,
          "timepoint": "2008-04-01T00:00:00"
         },
         {
          "clade_membership": "412c00a",
          "frequency": 1.0000049999999998,
          "frequency_final": 1.0000019999999994,
          "observed_growth_rate": 0.9999970000149995,
          "timepoint": "2008-04-01T00:00:00"
         },
         {
          "clade_membership": "41bb3e2",
          "frequency": 0.290199,
          "frequency_final": 0.8138199999999998,
          "observed_growth_rate": 2.8043514967315524,
          "timepoint": "2008-04-01T00:00:00"
         },
         {
          "clade_membership": "44989e1",
          "frequency": 1.0000049999999998,
          "frequency_final": 1.0000019999999994,
          "observed_growth_rate": 0.9999970000149995,
          "timepoint": "2008-04-01T00:00:00"
         },
         {
          "clade_membership": "4952842",
          "frequency": 1.0000049999999998,
          "frequency_final": 1.0000019999999994,
          "observed_growth_rate": 0.9999970000149995,
          "timepoint": "2008-04-01T00:00:00"
         },
         {
          "clade_membership": "4e35443",
          "frequency": 1.0000049999999998,
          "frequency_final": 1.0000019999999994,
          "observed_growth_rate": 0.9999970000149995,
          "timepoint": "2008-04-01T00:00:00"
         },
         {
          "clade_membership": "4ff1302",
          "frequency": 1.0000049999999998,
          "frequency_final": 1.0000019999999994,
          "observed_growth_rate": 0.9999970000149995,
          "timepoint": "2008-04-01T00:00:00"
         },
         {
          "clade_membership": "6335574",
          "frequency": 1.0000049999999998,
          "frequency_final": 1.0000019999999994,
          "observed_growth_rate": 0.9999970000149995,
          "timepoint": "2008-04-01T00:00:00"
         },
         {
          "clade_membership": "7aa732d",
          "frequency": 1.0000049999999998,
          "frequency_final": 1.0000019999999994,
          "observed_growth_rate": 0.9999970000149995,
          "timepoint": "2008-04-01T00:00:00"
         },
         {
          "clade_membership": "88dab64",
          "frequency": 1.0000049999999998,
          "frequency_final": 1.0000019999999994,
          "observed_growth_rate": 0.9999970000149995,
          "timepoint": "2008-04-01T00:00:00"
         },
         {
          "clade_membership": "8e08f7f",
          "frequency": 1.0000049999999998,
          "frequency_final": 1.0000019999999994,
          "observed_growth_rate": 0.9999970000149995,
          "timepoint": "2008-04-01T00:00:00"
         },
         {
          "clade_membership": "91769ce",
          "frequency": 0.9402800000000001,
          "frequency_final": 1.0000019999999994,
          "observed_growth_rate": 1.0635151231548041,
          "timepoint": "2008-04-01T00:00:00"
         },
         {
          "clade_membership": "98c068a",
          "frequency": 1.0000049999999998,
          "frequency_final": 1.0000019999999994,
          "observed_growth_rate": 0.9999970000149995,
          "timepoint": "2008-04-01T00:00:00"
         },
         {
          "clade_membership": "9a3ff5d",
          "frequency": 1.0000049999999998,
          "frequency_final": 1.0000019999999994,
          "observed_growth_rate": 0.9999970000149995,
          "timepoint": "2008-04-01T00:00:00"
         },
         {
          "clade_membership": "9b04f13",
          "frequency": 1.0000049999999998,
          "frequency_final": 1.0000019999999994,
          "observed_growth_rate": 0.9999970000149995,
          "timepoint": "2008-04-01T00:00:00"
         },
         {
          "clade_membership": "a5bcb4f",
          "frequency": 1.0000049999999998,
          "frequency_final": 1.0000019999999994,
          "observed_growth_rate": 0.9999970000149995,
          "timepoint": "2008-04-01T00:00:00"
         },
         {
          "clade_membership": "aab80f6",
          "frequency": 1.0000049999999998,
          "frequency_final": 1.0000019999999994,
          "observed_growth_rate": 0.9999970000149995,
          "timepoint": "2008-04-01T00:00:00"
         },
         {
          "clade_membership": "b32cea9",
          "frequency": 1.0000049999999998,
          "frequency_final": 1.0000019999999994,
          "observed_growth_rate": 0.9999970000149995,
          "timepoint": "2008-04-01T00:00:00"
         },
         {
          "clade_membership": "d6906cf",
          "frequency": 1.0000049999999998,
          "frequency_final": 1.0000019999999994,
          "observed_growth_rate": 0.9999970000149995,
          "timepoint": "2008-04-01T00:00:00"
         },
         {
          "clade_membership": "d7fecad",
          "frequency": 1.0000049999999998,
          "frequency_final": 1.0000019999999994,
          "observed_growth_rate": 0.9999970000149995,
          "timepoint": "2008-04-01T00:00:00"
         },
         {
          "clade_membership": "e2f3876",
          "frequency": 1.0000049999999998,
          "frequency_final": 1.0000019999999994,
          "observed_growth_rate": 0.9999970000149995,
          "timepoint": "2008-04-01T00:00:00"
         },
         {
          "clade_membership": "e501908",
          "frequency": 1.0000049999999998,
          "frequency_final": 1.0000019999999994,
          "observed_growth_rate": 0.9999970000149995,
          "timepoint": "2008-04-01T00:00:00"
         },
         {
          "clade_membership": "e64cc68",
          "frequency": 1.0000049999999998,
          "frequency_final": 1.0000019999999994,
          "observed_growth_rate": 0.9999970000149995,
          "timepoint": "2008-04-01T00:00:00"
         },
         {
          "clade_membership": "ecf49fd",
          "frequency": 1.0000049999999998,
          "frequency_final": 1.0000019999999994,
          "observed_growth_rate": 0.9999970000149995,
          "timepoint": "2008-04-01T00:00:00"
         },
         {
          "clade_membership": "f3f16af",
          "frequency": 1.0000049999999998,
          "frequency_final": 1.0000019999999994,
          "observed_growth_rate": 0.9999970000149995,
          "timepoint": "2008-04-01T00:00:00"
         },
         {
          "clade_membership": "fd5608c",
          "frequency": 1.0000049999999998,
          "frequency_final": 1.0000019999999994,
          "observed_growth_rate": 0.9999970000149995,
          "timepoint": "2008-04-01T00:00:00"
         },
         {
          "clade_membership": "ff9301c",
          "frequency": 1.0000049999999998,
          "frequency_final": 1.0000019999999994,
          "observed_growth_rate": 0.9999970000149995,
          "timepoint": "2008-04-01T00:00:00"
         },
         {
          "clade_membership": "root",
          "frequency": 1.0000049999999998,
          "frequency_final": 1.0000019999999994,
          "observed_growth_rate": 0.9999970000149995,
          "timepoint": "2008-04-01T00:00:00"
         },
         {
          "clade_membership": "0003b07",
          "frequency": 0.9999959999999999,
          "frequency_final": 1.0000000000000004,
          "observed_growth_rate": 1.0000040000160006,
          "timepoint": "2008-10-01T00:00:00"
         },
         {
          "clade_membership": "02e323e",
          "frequency": 0.9999989999999999,
          "frequency_final": 1.0000000000000004,
          "observed_growth_rate": 1.0000010000010007,
          "timepoint": "2008-10-01T00:00:00"
         },
         {
          "clade_membership": "048f8ca",
          "frequency": 0.9999989999999999,
          "frequency_final": 1.0000000000000004,
          "observed_growth_rate": 1.0000010000010007,
          "timepoint": "2008-10-01T00:00:00"
         },
         {
          "clade_membership": "09e68a2",
          "frequency": 0.9999989999999999,
          "frequency_final": 1.0000000000000004,
          "observed_growth_rate": 1.0000010000010007,
          "timepoint": "2008-10-01T00:00:00"
         },
         {
          "clade_membership": "35491c6",
          "frequency": 0.9999989999999999,
          "frequency_final": 1.0000000000000004,
          "observed_growth_rate": 1.0000010000010007,
          "timepoint": "2008-10-01T00:00:00"
         },
         {
          "clade_membership": "3a81d99",
          "frequency": 0.9999989999999999,
          "frequency_final": 1.0000000000000004,
          "observed_growth_rate": 1.0000010000010007,
          "timepoint": "2008-10-01T00:00:00"
         },
         {
          "clade_membership": "412c00a",
          "frequency": 0.9999989999999999,
          "frequency_final": 1.0000000000000004,
          "observed_growth_rate": 1.0000010000010007,
          "timepoint": "2008-10-01T00:00:00"
         },
         {
          "clade_membership": "41bb3e2",
          "frequency": 0.5382560000000001,
          "frequency_final": 0.9958930000000004,
          "observed_growth_rate": 1.8502218275318811,
          "timepoint": "2008-10-01T00:00:00"
         },
         {
          "clade_membership": "44989e1",
          "frequency": 0.9999989999999999,
          "frequency_final": 1.0000000000000004,
          "observed_growth_rate": 1.0000010000010007,
          "timepoint": "2008-10-01T00:00:00"
         },
         {
          "clade_membership": "4952842",
          "frequency": 0.9999989999999999,
          "frequency_final": 1.0000000000000004,
          "observed_growth_rate": 1.0000010000010007,
          "timepoint": "2008-10-01T00:00:00"
         },
         {
          "clade_membership": "4ff1302",
          "frequency": 0.9999989999999999,
          "frequency_final": 1.0000000000000004,
          "observed_growth_rate": 1.0000010000010007,
          "timepoint": "2008-10-01T00:00:00"
         },
         {
          "clade_membership": "6335574",
          "frequency": 0.9999989999999999,
          "frequency_final": 1.0000000000000004,
          "observed_growth_rate": 1.0000010000010007,
          "timepoint": "2008-10-01T00:00:00"
         },
         {
          "clade_membership": "7aa732d",
          "frequency": 0.9999989999999999,
          "frequency_final": 1.0000000000000004,
          "observed_growth_rate": 1.0000010000010007,
          "timepoint": "2008-10-01T00:00:00"
         },
         {
          "clade_membership": "8517059",
          "frequency": 0.9999959999999999,
          "frequency_final": 0,
          "observed_growth_rate": 0,
          "timepoint": "2008-10-01T00:00:00"
         },
         {
          "clade_membership": "85356dd",
          "frequency": 0.9999989999999999,
          "frequency_final": 1.0000000000000004,
          "observed_growth_rate": 1.0000010000010007,
          "timepoint": "2008-10-01T00:00:00"
         },
         {
          "clade_membership": "88dab64",
          "frequency": 0.9999989999999999,
          "frequency_final": 1.0000000000000004,
          "observed_growth_rate": 1.0000010000010007,
          "timepoint": "2008-10-01T00:00:00"
         },
         {
          "clade_membership": "8e08f7f",
          "frequency": 0.9999989999999999,
          "frequency_final": 1.0000000000000004,
          "observed_growth_rate": 1.0000010000010007,
          "timepoint": "2008-10-01T00:00:00"
         },
         {
          "clade_membership": "91769ce",
          "frequency": 0.9999939999999998,
          "frequency_final": 1.0000000000000004,
          "observed_growth_rate": 1.000006000036001,
          "timepoint": "2008-10-01T00:00:00"
         },
         {
          "clade_membership": "98c068a",
          "frequency": 0.9999989999999999,
          "frequency_final": 1.0000000000000004,
          "observed_growth_rate": 1.0000010000010007,
          "timepoint": "2008-10-01T00:00:00"
         },
         {
          "clade_membership": "9a3ff5d",
          "frequency": 0.9999989999999999,
          "frequency_final": 1.0000000000000004,
          "observed_growth_rate": 1.0000010000010007,
          "timepoint": "2008-10-01T00:00:00"
         },
         {
          "clade_membership": "9b04f13",
          "frequency": 0.9999989999999999,
          "frequency_final": 1.0000000000000004,
          "observed_growth_rate": 1.0000010000010007,
          "timepoint": "2008-10-01T00:00:00"
         },
         {
          "clade_membership": "a5bcb4f",
          "frequency": 0.9999989999999999,
          "frequency_final": 1.0000000000000004,
          "observed_growth_rate": 1.0000010000010007,
          "timepoint": "2008-10-01T00:00:00"
         },
         {
          "clade_membership": "aab80f6",
          "frequency": 0.9999989999999999,
          "frequency_final": 1.0000000000000004,
          "observed_growth_rate": 1.0000010000010007,
          "timepoint": "2008-10-01T00:00:00"
         },
         {
          "clade_membership": "b32cea9",
          "frequency": 0.9999989999999999,
          "frequency_final": 1.0000000000000004,
          "observed_growth_rate": 1.0000010000010007,
          "timepoint": "2008-10-01T00:00:00"
         },
         {
          "clade_membership": "d6906cf",
          "frequency": 0.9999989999999999,
          "frequency_final": 1.0000000000000004,
          "observed_growth_rate": 1.0000010000010007,
          "timepoint": "2008-10-01T00:00:00"
         },
         {
          "clade_membership": "d7fecad",
          "frequency": 0.9999989999999999,
          "frequency_final": 1.0000000000000004,
          "observed_growth_rate": 1.0000010000010007,
          "timepoint": "2008-10-01T00:00:00"
         },
         {
          "clade_membership": "e2f3876",
          "frequency": 0.9999989999999999,
          "frequency_final": 1.0000000000000004,
          "observed_growth_rate": 1.0000010000010007,
          "timepoint": "2008-10-01T00:00:00"
         },
         {
          "clade_membership": "e501908",
          "frequency": 0.9999989999999999,
          "frequency_final": 1.0000000000000004,
          "observed_growth_rate": 1.0000010000010007,
          "timepoint": "2008-10-01T00:00:00"
         },
         {
          "clade_membership": "e64cc68",
          "frequency": 0.9999989999999999,
          "frequency_final": 1.0000000000000004,
          "observed_growth_rate": 1.0000010000010007,
          "timepoint": "2008-10-01T00:00:00"
         },
         {
          "clade_membership": "ecf49fd",
          "frequency": 0.9999989999999999,
          "frequency_final": 1.0000000000000004,
          "observed_growth_rate": 1.0000010000010007,
          "timepoint": "2008-10-01T00:00:00"
         },
         {
          "clade_membership": "f3f16af",
          "frequency": 0.9999989999999999,
          "frequency_final": 1.0000000000000004,
          "observed_growth_rate": 1.0000010000010007,
          "timepoint": "2008-10-01T00:00:00"
         },
         {
          "clade_membership": "fd5608c",
          "frequency": 0.9999989999999999,
          "frequency_final": 1.0000000000000004,
          "observed_growth_rate": 1.0000010000010007,
          "timepoint": "2008-10-01T00:00:00"
         },
         {
          "clade_membership": "ff9301c",
          "frequency": 0.9999989999999999,
          "frequency_final": 1.0000000000000004,
          "observed_growth_rate": 1.0000010000010007,
          "timepoint": "2008-10-01T00:00:00"
         },
         {
          "clade_membership": "root",
          "frequency": 0.9999989999999999,
          "frequency_final": 1.0000000000000004,
          "observed_growth_rate": 1.0000010000010007,
          "timepoint": "2008-10-01T00:00:00"
         },
         {
          "clade_membership": "02e323e",
          "frequency": 1.0000019999999994,
          "frequency_final": 1.000004,
          "observed_growth_rate": 1.0000019999960006,
          "timepoint": "2009-04-01T00:00:00"
         },
         {
          "clade_membership": "048f8ca",
          "frequency": 1.0000019999999994,
          "frequency_final": 1.000004,
          "observed_growth_rate": 1.0000019999960006,
          "timepoint": "2009-04-01T00:00:00"
         },
         {
          "clade_membership": "09e68a2",
          "frequency": 1.0000019999999994,
          "frequency_final": 1.000004,
          "observed_growth_rate": 1.0000019999960006,
          "timepoint": "2009-04-01T00:00:00"
         },
         {
          "clade_membership": "18b52ed",
          "frequency": 0.8661389999999995,
          "frequency_final": 0,
          "observed_growth_rate": 0,
          "timepoint": "2009-04-01T00:00:00"
         },
         {
          "clade_membership": "35491c6",
          "frequency": 1.0000019999999994,
          "frequency_final": 1.000004,
          "observed_growth_rate": 1.0000019999960006,
          "timepoint": "2009-04-01T00:00:00"
         },
         {
          "clade_membership": "3a81d99",
          "frequency": 1.0000019999999994,
          "frequency_final": 1.000004,
          "observed_growth_rate": 1.0000019999960006,
          "timepoint": "2009-04-01T00:00:00"
         },
         {
          "clade_membership": "3c0baec",
          "frequency": 1.0000019999999994,
          "frequency_final": 1.000004,
          "observed_growth_rate": 1.0000019999960006,
          "timepoint": "2009-04-01T00:00:00"
         },
         {
          "clade_membership": "412c00a",
          "frequency": 1.0000019999999994,
          "frequency_final": 1.000004,
          "observed_growth_rate": 1.0000019999960006,
          "timepoint": "2009-04-01T00:00:00"
         },
         {
          "clade_membership": "41bb3e2",
          "frequency": 0.8138199999999998,
          "frequency_final": 1.000004,
          "observed_growth_rate": 1.228777862426581,
          "timepoint": "2009-04-01T00:00:00"
         },
         {
          "clade_membership": "44989e1",
          "frequency": 1.0000019999999994,
          "frequency_final": 1.000004,
          "observed_growth_rate": 1.0000019999960006,
          "timepoint": "2009-04-01T00:00:00"
         },
         {
          "clade_membership": "4952842",
          "frequency": 1.0000019999999994,
          "frequency_final": 1.000004,
          "observed_growth_rate": 1.0000019999960006,
          "timepoint": "2009-04-01T00:00:00"
         },
         {
          "clade_membership": "4e35443",
          "frequency": 1.0000019999999994,
          "frequency_final": 1.000004,
          "observed_growth_rate": 1.0000019999960006,
          "timepoint": "2009-04-01T00:00:00"
         },
         {
          "clade_membership": "4ff1302",
          "frequency": 1.0000019999999994,
          "frequency_final": 1.000004,
          "observed_growth_rate": 1.0000019999960006,
          "timepoint": "2009-04-01T00:00:00"
         },
         {
          "clade_membership": "6335574",
          "frequency": 1.0000019999999994,
          "frequency_final": 1.000004,
          "observed_growth_rate": 1.0000019999960006,
          "timepoint": "2009-04-01T00:00:00"
         },
         {
          "clade_membership": "7aa732d",
          "frequency": 1.0000019999999994,
          "frequency_final": 1.000004,
          "observed_growth_rate": 1.0000019999960006,
          "timepoint": "2009-04-01T00:00:00"
         },
         {
          "clade_membership": "8386d16",
          "frequency": 1.0000019999999994,
          "frequency_final": 1.000004,
          "observed_growth_rate": 1.0000019999960006,
          "timepoint": "2009-04-01T00:00:00"
         },
         {
          "clade_membership": "85356dd",
          "frequency": 1.0000019999999994,
          "frequency_final": 1.000004,
          "observed_growth_rate": 1.0000019999960006,
          "timepoint": "2009-04-01T00:00:00"
         },
         {
          "clade_membership": "88dab64",
          "frequency": 1.0000019999999994,
          "frequency_final": 1.000004,
          "observed_growth_rate": 1.0000019999960006,
          "timepoint": "2009-04-01T00:00:00"
         },
         {
          "clade_membership": "8dd9dae",
          "frequency": 1.0000019999999994,
          "frequency_final": 0,
          "observed_growth_rate": 0,
          "timepoint": "2009-04-01T00:00:00"
         },
         {
          "clade_membership": "8e08f7f",
          "frequency": 1.0000019999999994,
          "frequency_final": 1.000004,
          "observed_growth_rate": 1.0000019999960006,
          "timepoint": "2009-04-01T00:00:00"
         },
         {
          "clade_membership": "91769ce",
          "frequency": 1.0000019999999994,
          "frequency_final": 1.000004,
          "observed_growth_rate": 1.0000019999960006,
          "timepoint": "2009-04-01T00:00:00"
         },
         {
          "clade_membership": "98c068a",
          "frequency": 1.0000019999999994,
          "frequency_final": 1.000004,
          "observed_growth_rate": 1.0000019999960006,
          "timepoint": "2009-04-01T00:00:00"
         },
         {
          "clade_membership": "9a3ff5d",
          "frequency": 1.0000019999999994,
          "frequency_final": 1.000004,
          "observed_growth_rate": 1.0000019999960006,
          "timepoint": "2009-04-01T00:00:00"
         },
         {
          "clade_membership": "9b04f13",
          "frequency": 1.0000019999999994,
          "frequency_final": 1.000004,
          "observed_growth_rate": 1.0000019999960006,
          "timepoint": "2009-04-01T00:00:00"
         },
         {
          "clade_membership": "a5bcb4f",
          "frequency": 1.0000019999999994,
          "frequency_final": 1.000004,
          "observed_growth_rate": 1.0000019999960006,
          "timepoint": "2009-04-01T00:00:00"
         },
         {
          "clade_membership": "aab80f6",
          "frequency": 1.0000019999999994,
          "frequency_final": 1.000004,
          "observed_growth_rate": 1.0000019999960006,
          "timepoint": "2009-04-01T00:00:00"
         },
         {
          "clade_membership": "b32cea9",
          "frequency": 1.0000019999999994,
          "frequency_final": 1.000004,
          "observed_growth_rate": 1.0000019999960006,
          "timepoint": "2009-04-01T00:00:00"
         },
         {
          "clade_membership": "d6906cf",
          "frequency": 1.0000019999999994,
          "frequency_final": 1.000004,
          "observed_growth_rate": 1.0000019999960006,
          "timepoint": "2009-04-01T00:00:00"
         },
         {
          "clade_membership": "d7fecad",
          "frequency": 1.0000019999999994,
          "frequency_final": 1.000004,
          "observed_growth_rate": 1.0000019999960006,
          "timepoint": "2009-04-01T00:00:00"
         },
         {
          "clade_membership": "e2f3876",
          "frequency": 1.0000019999999994,
          "frequency_final": 1.000004,
          "observed_growth_rate": 1.0000019999960006,
          "timepoint": "2009-04-01T00:00:00"
         },
         {
          "clade_membership": "e501908",
          "frequency": 1.0000019999999994,
          "frequency_final": 1.000004,
          "observed_growth_rate": 1.0000019999960006,
          "timepoint": "2009-04-01T00:00:00"
         },
         {
          "clade_membership": "e64cc68",
          "frequency": 1.0000019999999994,
          "frequency_final": 1.000004,
          "observed_growth_rate": 1.0000019999960006,
          "timepoint": "2009-04-01T00:00:00"
         },
         {
          "clade_membership": "e89fed6",
          "frequency": 1.0000019999999994,
          "frequency_final": 1.000004,
          "observed_growth_rate": 1.0000019999960006,
          "timepoint": "2009-04-01T00:00:00"
         },
         {
          "clade_membership": "ecf49fd",
          "frequency": 1.0000019999999994,
          "frequency_final": 1.000004,
          "observed_growth_rate": 1.0000019999960006,
          "timepoint": "2009-04-01T00:00:00"
         },
         {
          "clade_membership": "f3f16af",
          "frequency": 1.0000019999999994,
          "frequency_final": 1.000004,
          "observed_growth_rate": 1.0000019999960006,
          "timepoint": "2009-04-01T00:00:00"
         },
         {
          "clade_membership": "fd5608c",
          "frequency": 1.0000019999999994,
          "frequency_final": 1.000004,
          "observed_growth_rate": 1.0000019999960006,
          "timepoint": "2009-04-01T00:00:00"
         },
         {
          "clade_membership": "ff9301c",
          "frequency": 1.0000019999999994,
          "frequency_final": 1.000004,
          "observed_growth_rate": 1.0000019999960006,
          "timepoint": "2009-04-01T00:00:00"
         },
         {
          "clade_membership": "root",
          "frequency": 1.0000019999999994,
          "frequency_final": 1.000004,
          "observed_growth_rate": 1.0000019999960006,
          "timepoint": "2009-04-01T00:00:00"
         },
         {
          "clade_membership": "0003b07",
          "frequency": 1.0000000000000004,
          "frequency_final": 0.9999979999999993,
          "observed_growth_rate": 0.9999979999999988,
          "timepoint": "2009-10-01T00:00:00"
         },
         {
          "clade_membership": "02e323e",
          "frequency": 1.0000000000000004,
          "frequency_final": 0.9999979999999993,
          "observed_growth_rate": 0.9999979999999988,
          "timepoint": "2009-10-01T00:00:00"
         },
         {
          "clade_membership": "048f8ca",
          "frequency": 1.0000000000000004,
          "frequency_final": 0.9999979999999993,
          "observed_growth_rate": 0.9999979999999988,
          "timepoint": "2009-10-01T00:00:00"
         },
         {
          "clade_membership": "09e68a2",
          "frequency": 1.0000000000000004,
          "frequency_final": 0.9999979999999993,
          "observed_growth_rate": 0.9999979999999988,
          "timepoint": "2009-10-01T00:00:00"
         },
         {
          "clade_membership": "35491c6",
          "frequency": 1.0000000000000004,
          "frequency_final": 0.9999979999999993,
          "observed_growth_rate": 0.9999979999999988,
          "timepoint": "2009-10-01T00:00:00"
         },
         {
          "clade_membership": "3a81d99",
          "frequency": 1.0000000000000004,
          "frequency_final": 0.9999979999999993,
          "observed_growth_rate": 0.9999979999999988,
          "timepoint": "2009-10-01T00:00:00"
         },
         {
          "clade_membership": "3c0baec",
          "frequency": 1.0000000000000004,
          "frequency_final": 0.9999979999999993,
          "observed_growth_rate": 0.9999979999999988,
          "timepoint": "2009-10-01T00:00:00"
         },
         {
          "clade_membership": "412c00a",
          "frequency": 1.0000000000000004,
          "frequency_final": 0,
          "observed_growth_rate": 0,
          "timepoint": "2009-10-01T00:00:00"
         },
         {
          "clade_membership": "41bb3e2",
          "frequency": 0.9958930000000004,
          "frequency_final": 0.9999979999999993,
          "observed_growth_rate": 1.004121928761422,
          "timepoint": "2009-10-01T00:00:00"
         },
         {
          "clade_membership": "44989e1",
          "frequency": 1.0000000000000004,
          "frequency_final": 0.9999979999999993,
          "observed_growth_rate": 0.9999979999999988,
          "timepoint": "2009-10-01T00:00:00"
         },
         {
          "clade_membership": "4952842",
          "frequency": 1.0000000000000004,
          "frequency_final": 0.9999979999999993,
          "observed_growth_rate": 0.9999979999999988,
          "timepoint": "2009-10-01T00:00:00"
         },
         {
          "clade_membership": "4ff1302",
          "frequency": 1.0000000000000004,
          "frequency_final": 0,
          "observed_growth_rate": 0,
          "timepoint": "2009-10-01T00:00:00"
         },
         {
          "clade_membership": "6335574",
          "frequency": 1.0000000000000004,
          "frequency_final": 0.9999979999999993,
          "observed_growth_rate": 0.9999979999999988,
          "timepoint": "2009-10-01T00:00:00"
         },
         {
          "clade_membership": "7aa732d",
          "frequency": 1.0000000000000004,
          "frequency_final": 0.9999979999999993,
          "observed_growth_rate": 0.9999979999999988,
          "timepoint": "2009-10-01T00:00:00"
         },
         {
          "clade_membership": "85356dd",
          "frequency": 1.0000000000000004,
          "frequency_final": 0,
          "observed_growth_rate": 0,
          "timepoint": "2009-10-01T00:00:00"
         },
         {
          "clade_membership": "88dab64",
          "frequency": 1.0000000000000004,
          "frequency_final": 0.9999979999999993,
          "observed_growth_rate": 0.9999979999999988,
          "timepoint": "2009-10-01T00:00:00"
         },
         {
          "clade_membership": "8e08f7f",
          "frequency": 1.0000000000000004,
          "frequency_final": 0.9999979999999993,
          "observed_growth_rate": 0.9999979999999988,
          "timepoint": "2009-10-01T00:00:00"
         },
         {
          "clade_membership": "91769ce",
          "frequency": 1.0000000000000004,
          "frequency_final": 0.9999979999999993,
          "observed_growth_rate": 0.9999979999999988,
          "timepoint": "2009-10-01T00:00:00"
         },
         {
          "clade_membership": "956f201",
          "frequency": 0.25633399999999995,
          "frequency_final": 0.8239289999999996,
          "observed_growth_rate": 3.2142790265825045,
          "timepoint": "2009-10-01T00:00:00"
         },
         {
          "clade_membership": "98c068a",
          "frequency": 1.0000000000000004,
          "frequency_final": 0.9999979999999993,
          "observed_growth_rate": 0.9999979999999988,
          "timepoint": "2009-10-01T00:00:00"
         },
         {
          "clade_membership": "9a3ff5d",
          "frequency": 1.0000000000000004,
          "frequency_final": 0.9999979999999993,
          "observed_growth_rate": 0.9999979999999988,
          "timepoint": "2009-10-01T00:00:00"
         },
         {
          "clade_membership": "9b04f13",
          "frequency": 1.0000000000000004,
          "frequency_final": 0.9999979999999993,
          "observed_growth_rate": 0.9999979999999988,
          "timepoint": "2009-10-01T00:00:00"
         },
         {
          "clade_membership": "a5bcb4f",
          "frequency": 1.0000000000000004,
          "frequency_final": 0.9999979999999993,
          "observed_growth_rate": 0.9999979999999988,
          "timepoint": "2009-10-01T00:00:00"
         },
         {
          "clade_membership": "aab80f6",
          "frequency": 1.0000000000000004,
          "frequency_final": 0.9999979999999993,
          "observed_growth_rate": 0.9999979999999988,
          "timepoint": "2009-10-01T00:00:00"
         },
         {
          "clade_membership": "b32cea9",
          "frequency": 1.0000000000000004,
          "frequency_final": 0.9999979999999993,
          "observed_growth_rate": 0.9999979999999988,
          "timepoint": "2009-10-01T00:00:00"
         },
         {
          "clade_membership": "c0ab28c",
          "frequency": 0.48154399999999997,
          "frequency_final": 0.16942,
          "observed_growth_rate": 0.3518266243583141,
          "timepoint": "2009-10-01T00:00:00"
         },
         {
          "clade_membership": "d6906cf",
          "frequency": 1.0000000000000004,
          "frequency_final": 0.9999979999999993,
          "observed_growth_rate": 0.9999979999999988,
          "timepoint": "2009-10-01T00:00:00"
         },
         {
          "clade_membership": "d7fecad",
          "frequency": 1.0000000000000004,
          "frequency_final": 0.9999979999999993,
          "observed_growth_rate": 0.9999979999999988,
          "timepoint": "2009-10-01T00:00:00"
         },
         {
          "clade_membership": "e2f3876",
          "frequency": 1.0000000000000004,
          "frequency_final": 0.9999979999999993,
          "observed_growth_rate": 0.9999979999999988,
          "timepoint": "2009-10-01T00:00:00"
         },
         {
          "clade_membership": "e501908",
          "frequency": 1.0000000000000004,
          "frequency_final": 0.9999979999999993,
          "observed_growth_rate": 0.9999979999999988,
          "timepoint": "2009-10-01T00:00:00"
         },
         {
          "clade_membership": "e62a2e8",
          "frequency": 0.23281699999999997,
          "frequency_final": 0.005778,
          "observed_growth_rate": 0.024817775334275424,
          "timepoint": "2009-10-01T00:00:00"
         },
         {
          "clade_membership": "e64cc68",
          "frequency": 1.0000000000000004,
          "frequency_final": 0.9999979999999993,
          "observed_growth_rate": 0.9999979999999988,
          "timepoint": "2009-10-01T00:00:00"
         },
         {
          "clade_membership": "ecf49fd",
          "frequency": 1.0000000000000004,
          "frequency_final": 0.9999979999999993,
          "observed_growth_rate": 0.9999979999999988,
          "timepoint": "2009-10-01T00:00:00"
         },
         {
          "clade_membership": "f3f16af",
          "frequency": 1.0000000000000004,
          "frequency_final": 0.9999979999999993,
          "observed_growth_rate": 0.9999979999999988,
          "timepoint": "2009-10-01T00:00:00"
         },
         {
          "clade_membership": "fd5608c",
          "frequency": 1.0000000000000004,
          "frequency_final": 0.9999979999999993,
          "observed_growth_rate": 0.9999979999999988,
          "timepoint": "2009-10-01T00:00:00"
         },
         {
          "clade_membership": "ff9301c",
          "frequency": 1.0000000000000004,
          "frequency_final": 0.9999979999999993,
          "observed_growth_rate": 0.9999979999999988,
          "timepoint": "2009-10-01T00:00:00"
         },
         {
          "clade_membership": "root",
          "frequency": 1.0000000000000004,
          "frequency_final": 0.9999979999999993,
          "observed_growth_rate": 0.9999979999999988,
          "timepoint": "2009-10-01T00:00:00"
         },
         {
          "clade_membership": "0003b07",
          "frequency": 1.000004,
          "frequency_final": 1.0000029999999995,
          "observed_growth_rate": 0.9999990000039997,
          "timepoint": "2010-04-01T00:00:00"
         },
         {
          "clade_membership": "02e323e",
          "frequency": 1.000004,
          "frequency_final": 1.0000029999999995,
          "observed_growth_rate": 0.9999990000039997,
          "timepoint": "2010-04-01T00:00:00"
         },
         {
          "clade_membership": "048f8ca",
          "frequency": 1.000004,
          "frequency_final": 1.0000029999999995,
          "observed_growth_rate": 0.9999990000039997,
          "timepoint": "2010-04-01T00:00:00"
         },
         {
          "clade_membership": "09e68a2",
          "frequency": 1.000004,
          "frequency_final": 1.0000029999999995,
          "observed_growth_rate": 0.9999990000039997,
          "timepoint": "2010-04-01T00:00:00"
         },
         {
          "clade_membership": "35491c6",
          "frequency": 1.000004,
          "frequency_final": 1.0000029999999995,
          "observed_growth_rate": 0.9999990000039997,
          "timepoint": "2010-04-01T00:00:00"
         },
         {
          "clade_membership": "3a81d99",
          "frequency": 1.000004,
          "frequency_final": 1.0000029999999995,
          "observed_growth_rate": 0.9999990000039997,
          "timepoint": "2010-04-01T00:00:00"
         },
         {
          "clade_membership": "3c0baec",
          "frequency": 1.000004,
          "frequency_final": 1.0000029999999995,
          "observed_growth_rate": 0.9999990000039997,
          "timepoint": "2010-04-01T00:00:00"
         },
         {
          "clade_membership": "412c00a",
          "frequency": 1.000004,
          "frequency_final": 0,
          "observed_growth_rate": 0,
          "timepoint": "2010-04-01T00:00:00"
         },
         {
          "clade_membership": "41bb3e2",
          "frequency": 1.000004,
          "frequency_final": 1.0000029999999995,
          "observed_growth_rate": 0.9999990000039997,
          "timepoint": "2010-04-01T00:00:00"
         },
         {
          "clade_membership": "44989e1",
          "frequency": 1.000004,
          "frequency_final": 1.0000029999999995,
          "observed_growth_rate": 0.9999990000039997,
          "timepoint": "2010-04-01T00:00:00"
         },
         {
          "clade_membership": "4952842",
          "frequency": 1.000004,
          "frequency_final": 1.0000029999999995,
          "observed_growth_rate": 0.9999990000039997,
          "timepoint": "2010-04-01T00:00:00"
         },
         {
          "clade_membership": "4e35443",
          "frequency": 1.000004,
          "frequency_final": 1.0000029999999995,
          "observed_growth_rate": 0.9999990000039997,
          "timepoint": "2010-04-01T00:00:00"
         },
         {
          "clade_membership": "4ff1302",
          "frequency": 1.000004,
          "frequency_final": 0,
          "observed_growth_rate": 0,
          "timepoint": "2010-04-01T00:00:00"
         },
         {
          "clade_membership": "6335574",
          "frequency": 1.000004,
          "frequency_final": 1.0000029999999995,
          "observed_growth_rate": 0.9999990000039997,
          "timepoint": "2010-04-01T00:00:00"
         },
         {
          "clade_membership": "7aa732d",
          "frequency": 1.000004,
          "frequency_final": 1.0000029999999995,
          "observed_growth_rate": 0.9999990000039997,
          "timepoint": "2010-04-01T00:00:00"
         },
         {
          "clade_membership": "7fba9ff",
          "frequency": 0.23131500000000005,
          "frequency_final": 0.17632400000000006,
          "observed_growth_rate": 0.7622679030758923,
          "timepoint": "2010-04-01T00:00:00"
         },
         {
          "clade_membership": "8386d16",
          "frequency": 1.000004,
          "frequency_final": 1.0000029999999995,
          "observed_growth_rate": 0.9999990000039997,
          "timepoint": "2010-04-01T00:00:00"
         },
         {
          "clade_membership": "85356dd",
          "frequency": 1.000004,
          "frequency_final": 1.0000029999999995,
          "observed_growth_rate": 0.9999990000039997,
          "timepoint": "2010-04-01T00:00:00"
         },
         {
          "clade_membership": "88dab64",
          "frequency": 1.000004,
          "frequency_final": 1.0000029999999995,
          "observed_growth_rate": 0.9999990000039997,
          "timepoint": "2010-04-01T00:00:00"
         },
         {
          "clade_membership": "8e08f7f",
          "frequency": 1.000004,
          "frequency_final": 0,
          "observed_growth_rate": 0,
          "timepoint": "2010-04-01T00:00:00"
         },
         {
          "clade_membership": "91769ce",
          "frequency": 1.000004,
          "frequency_final": 1.0000029999999995,
          "observed_growth_rate": 0.9999990000039997,
          "timepoint": "2010-04-01T00:00:00"
         },
         {
          "clade_membership": "956f201",
          "frequency": 0.448499,
          "frequency_final": 0.8581889999999998,
          "observed_growth_rate": 1.9134691493180582,
          "timepoint": "2010-04-01T00:00:00"
         },
         {
          "clade_membership": "98c068a",
          "frequency": 1.000004,
          "frequency_final": 1.0000029999999995,
          "observed_growth_rate": 0.9999990000039997,
          "timepoint": "2010-04-01T00:00:00"
         },
         {
          "clade_membership": "9a3ff5d",
          "frequency": 1.000004,
          "frequency_final": 1.0000029999999995,
          "observed_growth_rate": 0.9999990000039997,
          "timepoint": "2010-04-01T00:00:00"
         },
         {
          "clade_membership": "9b04f13",
          "frequency": 1.000004,
          "frequency_final": 1.0000029999999995,
          "observed_growth_rate": 0.9999990000039997,
          "timepoint": "2010-04-01T00:00:00"
         },
         {
          "clade_membership": "a5bcb4f",
          "frequency": 1.000004,
          "frequency_final": 1.0000029999999995,
          "observed_growth_rate": 0.9999990000039997,
          "timepoint": "2010-04-01T00:00:00"
         },
         {
          "clade_membership": "aab80f6",
          "frequency": 1.000004,
          "frequency_final": 1.0000029999999995,
          "observed_growth_rate": 0.9999990000039997,
          "timepoint": "2010-04-01T00:00:00"
         },
         {
          "clade_membership": "b32cea9",
          "frequency": 1.000004,
          "frequency_final": 1.0000029999999995,
          "observed_growth_rate": 0.9999990000039997,
          "timepoint": "2010-04-01T00:00:00"
         },
         {
          "clade_membership": "c0ab28c",
          "frequency": 0.48290999999999984,
          "frequency_final": 0.14181399999999997,
          "observed_growth_rate": 0.29366548632250317,
          "timepoint": "2010-04-01T00:00:00"
         },
         {
          "clade_membership": "d4a2597",
          "frequency": 0.20989200000000005,
          "frequency_final": 0.11601099999999998,
          "observed_growth_rate": 0.5527175880929237,
          "timepoint": "2010-04-01T00:00:00"
         },
         {
          "clade_membership": "d6906cf",
          "frequency": 1.000004,
          "frequency_final": 1.0000029999999995,
          "observed_growth_rate": 0.9999990000039997,
          "timepoint": "2010-04-01T00:00:00"
         },
         {
          "clade_membership": "e2f3876",
          "frequency": 1.000004,
          "frequency_final": 1.0000029999999995,
          "observed_growth_rate": 0.9999990000039997,
          "timepoint": "2010-04-01T00:00:00"
         },
         {
          "clade_membership": "e501908",
          "frequency": 1.000004,
          "frequency_final": 1.0000029999999995,
          "observed_growth_rate": 0.9999990000039997,
          "timepoint": "2010-04-01T00:00:00"
         },
         {
          "clade_membership": "e64cc68",
          "frequency": 1.000004,
          "frequency_final": 1.0000029999999995,
          "observed_growth_rate": 0.9999990000039997,
          "timepoint": "2010-04-01T00:00:00"
         },
         {
          "clade_membership": "e89fed6",
          "frequency": 1.000004,
          "frequency_final": 1.0000029999999995,
          "observed_growth_rate": 0.9999990000039997,
          "timepoint": "2010-04-01T00:00:00"
         },
         {
          "clade_membership": "ecf49fd",
          "frequency": 1.000004,
          "frequency_final": 1.0000029999999995,
          "observed_growth_rate": 0.9999990000039997,
          "timepoint": "2010-04-01T00:00:00"
         },
         {
          "clade_membership": "f3f16af",
          "frequency": 1.000004,
          "frequency_final": 1.0000029999999995,
          "observed_growth_rate": 0.9999990000039997,
          "timepoint": "2010-04-01T00:00:00"
         },
         {
          "clade_membership": "fab88ff",
          "frequency": 0.164725,
          "frequency_final": 0,
          "observed_growth_rate": 0,
          "timepoint": "2010-04-01T00:00:00"
         },
         {
          "clade_membership": "fd5608c",
          "frequency": 1.000004,
          "frequency_final": 1.0000029999999995,
          "observed_growth_rate": 0.9999990000039997,
          "timepoint": "2010-04-01T00:00:00"
         },
         {
          "clade_membership": "root",
          "frequency": 1.000004,
          "frequency_final": 1.0000029999999995,
          "observed_growth_rate": 0.9999990000039997,
          "timepoint": "2010-04-01T00:00:00"
         },
         {
          "clade_membership": "0003b07",
          "frequency": 0.9999979999999993,
          "frequency_final": 0.9999969999999998,
          "observed_growth_rate": 0.9999989999980006,
          "timepoint": "2010-10-01T00:00:00"
         },
         {
          "clade_membership": "026d21f",
          "frequency": 0.362357,
          "frequency_final": 0.3658139999999997,
          "observed_growth_rate": 1.0095403152140008,
          "timepoint": "2010-10-01T00:00:00"
         },
         {
          "clade_membership": "02e323e",
          "frequency": 0.9999979999999993,
          "frequency_final": 0.9999969999999998,
          "observed_growth_rate": 0.9999989999980006,
          "timepoint": "2010-10-01T00:00:00"
         },
         {
          "clade_membership": "048f8ca",
          "frequency": 0.9999979999999993,
          "frequency_final": 0.9999969999999998,
          "observed_growth_rate": 0.9999989999980006,
          "timepoint": "2010-10-01T00:00:00"
         },
         {
          "clade_membership": "09e68a2",
          "frequency": 0.9999979999999993,
          "frequency_final": 0.9999969999999998,
          "observed_growth_rate": 0.9999989999980006,
          "timepoint": "2010-10-01T00:00:00"
         },
         {
          "clade_membership": "35491c6",
          "frequency": 0.9999979999999993,
          "frequency_final": 0.9999969999999998,
          "observed_growth_rate": 0.9999989999980006,
          "timepoint": "2010-10-01T00:00:00"
         },
         {
          "clade_membership": "3a81d99",
          "frequency": 0.9999979999999993,
          "frequency_final": 0.9999969999999998,
          "observed_growth_rate": 0.9999989999980006,
          "timepoint": "2010-10-01T00:00:00"
         },
         {
          "clade_membership": "3c0baec",
          "frequency": 0.9999979999999993,
          "frequency_final": 0.9999969999999998,
          "observed_growth_rate": 0.9999989999980006,
          "timepoint": "2010-10-01T00:00:00"
         },
         {
          "clade_membership": "41bb3e2",
          "frequency": 0.9999979999999993,
          "frequency_final": 0.9999969999999998,
          "observed_growth_rate": 0.9999989999980006,
          "timepoint": "2010-10-01T00:00:00"
         },
         {
          "clade_membership": "44989e1",
          "frequency": 0.9999979999999993,
          "frequency_final": 0.9999969999999998,
          "observed_growth_rate": 0.9999989999980006,
          "timepoint": "2010-10-01T00:00:00"
         },
         {
          "clade_membership": "4952842",
          "frequency": 0.9999979999999993,
          "frequency_final": 0.9999969999999998,
          "observed_growth_rate": 0.9999989999980006,
          "timepoint": "2010-10-01T00:00:00"
         },
         {
          "clade_membership": "4e35443",
          "frequency": 0.9999979999999993,
          "frequency_final": 0.9999969999999998,
          "observed_growth_rate": 0.9999989999980006,
          "timepoint": "2010-10-01T00:00:00"
         },
         {
          "clade_membership": "6335574",
          "frequency": 0.9999979999999993,
          "frequency_final": 0,
          "observed_growth_rate": 0,
          "timepoint": "2010-10-01T00:00:00"
         },
         {
          "clade_membership": "7aa732d",
          "frequency": 0.9999979999999993,
          "frequency_final": 0.9999969999999998,
          "observed_growth_rate": 0.9999989999980006,
          "timepoint": "2010-10-01T00:00:00"
         },
         {
          "clade_membership": "7fba9ff",
          "frequency": 0.31084799999999996,
          "frequency_final": 0.500796,
          "observed_growth_rate": 1.6110639283508341,
          "timepoint": "2010-10-01T00:00:00"
         },
         {
          "clade_membership": "88dab64",
          "frequency": 0.9999979999999993,
          "frequency_final": 0.9999969999999998,
          "observed_growth_rate": 0.9999989999980006,
          "timepoint": "2010-10-01T00:00:00"
         },
         {
          "clade_membership": "8e08f7f",
          "frequency": 0.9999979999999993,
          "frequency_final": 0,
          "observed_growth_rate": 0,
          "timepoint": "2010-10-01T00:00:00"
         },
         {
          "clade_membership": "91769ce",
          "frequency": 0.9999979999999993,
          "frequency_final": 0.9999969999999998,
          "observed_growth_rate": 0.9999989999980006,
          "timepoint": "2010-10-01T00:00:00"
         },
         {
          "clade_membership": "956f201",
          "frequency": 0.8239289999999996,
          "frequency_final": 0.9548249999999998,
          "observed_growth_rate": 1.158868057805952,
          "timepoint": "2010-10-01T00:00:00"
         },
         {
          "clade_membership": "98c068a",
          "frequency": 0.9999979999999993,
          "frequency_final": 0.9999969999999998,
          "observed_growth_rate": 0.9999989999980006,
          "timepoint": "2010-10-01T00:00:00"
         },
         {
          "clade_membership": "9a3ff5d",
          "frequency": 0.9999979999999993,
          "frequency_final": 0.9999969999999998,
          "observed_growth_rate": 0.9999989999980006,
          "timepoint": "2010-10-01T00:00:00"
         },
         {
          "clade_membership": "9b04f13",
          "frequency": 0.9999979999999993,
          "frequency_final": 0.9999969999999998,
          "observed_growth_rate": 0.9999989999980006,
          "timepoint": "2010-10-01T00:00:00"
         },
         {
          "clade_membership": "a5bcb4f",
          "frequency": 0.9999979999999993,
          "frequency_final": 0.9999969999999998,
          "observed_growth_rate": 0.9999989999980006,
          "timepoint": "2010-10-01T00:00:00"
         },
         {
          "clade_membership": "aab80f6",
          "frequency": 0.9999979999999993,
          "frequency_final": 0.9999969999999998,
          "observed_growth_rate": 0.9999989999980006,
          "timepoint": "2010-10-01T00:00:00"
         },
         {
          "clade_membership": "b32cea9",
          "frequency": 0.9999979999999993,
          "frequency_final": 0,
          "observed_growth_rate": 0,
          "timepoint": "2010-10-01T00:00:00"
         },
         {
          "clade_membership": "c0ab28c",
          "frequency": 0.16942,
          "frequency_final": 0.04517199999999999,
          "observed_growth_rate": 0.26662731672765905,
          "timepoint": "2010-10-01T00:00:00"
         },
         {
          "clade_membership": "d4d7919",
          "frequency": 0.362357,
          "frequency_final": 0.3658139999999997,
          "observed_growth_rate": 1.0095403152140008,
          "timepoint": "2010-10-01T00:00:00"
         },
         {
          "clade_membership": "d6906cf",
          "frequency": 0.9999979999999993,
          "frequency_final": 0.9999969999999998,
          "observed_growth_rate": 0.9999989999980006,
          "timepoint": "2010-10-01T00:00:00"
         },
         {
          "clade_membership": "d7fecad",
          "frequency": 0.9999979999999993,
          "frequency_final": 0.9999969999999998,
          "observed_growth_rate": 0.9999989999980006,
          "timepoint": "2010-10-01T00:00:00"
         },
         {
          "clade_membership": "e501908",
          "frequency": 0.9999979999999993,
          "frequency_final": 0.9999969999999998,
          "observed_growth_rate": 0.9999989999980006,
          "timepoint": "2010-10-01T00:00:00"
         },
         {
          "clade_membership": "e56a121",
          "frequency": 0.355127,
          "frequency_final": 0.3633489999999997,
          "observed_growth_rate": 1.0231522807333706,
          "timepoint": "2010-10-01T00:00:00"
         },
         {
          "clade_membership": "e64cc68",
          "frequency": 0.9999979999999993,
          "frequency_final": 0.9999969999999998,
          "observed_growth_rate": 0.9999989999980006,
          "timepoint": "2010-10-01T00:00:00"
         },
         {
          "clade_membership": "ecf49fd",
          "frequency": 0.9999979999999993,
          "frequency_final": 0.9999969999999998,
          "observed_growth_rate": 0.9999989999980006,
          "timepoint": "2010-10-01T00:00:00"
         },
         {
          "clade_membership": "f3f16af",
          "frequency": 0.9999979999999993,
          "frequency_final": 0.9999969999999998,
          "observed_growth_rate": 0.9999989999980006,
          "timepoint": "2010-10-01T00:00:00"
         },
         {
          "clade_membership": "ff9301c",
          "frequency": 0.9999979999999993,
          "frequency_final": 0.9999969999999998,
          "observed_growth_rate": 0.9999989999980006,
          "timepoint": "2010-10-01T00:00:00"
         },
         {
          "clade_membership": "root",
          "frequency": 0.9999979999999993,
          "frequency_final": 0.9999969999999998,
          "observed_growth_rate": 0.9999989999980006,
          "timepoint": "2010-10-01T00:00:00"
         },
         {
          "clade_membership": "0003b07",
          "frequency": 1.0000029999999995,
          "frequency_final": 0.999996,
          "observed_growth_rate": 0.9999930000210004,
          "timepoint": "2011-04-01T00:00:00"
         },
         {
          "clade_membership": "026d21f",
          "frequency": 0.6117360000000002,
          "frequency_final": 0.141835,
          "observed_growth_rate": 0.23185655249977105,
          "timepoint": "2011-04-01T00:00:00"
         },
         {
          "clade_membership": "02e323e",
          "frequency": 1.0000029999999995,
          "frequency_final": 0.999996,
          "observed_growth_rate": 0.9999930000210004,
          "timepoint": "2011-04-01T00:00:00"
         },
         {
          "clade_membership": "048f8ca",
          "frequency": 1.0000029999999995,
          "frequency_final": 0.999996,
          "observed_growth_rate": 0.9999930000210004,
          "timepoint": "2011-04-01T00:00:00"
         },
         {
          "clade_membership": "09e68a2",
          "frequency": 1.0000029999999995,
          "frequency_final": 0.999996,
          "observed_growth_rate": 0.9999930000210004,
          "timepoint": "2011-04-01T00:00:00"
         },
         {
          "clade_membership": "35491c6",
          "frequency": 1.0000029999999995,
          "frequency_final": 0.999996,
          "observed_growth_rate": 0.9999930000210004,
          "timepoint": "2011-04-01T00:00:00"
         },
         {
          "clade_membership": "3a81d99",
          "frequency": 1.0000029999999995,
          "frequency_final": 0.999996,
          "observed_growth_rate": 0.9999930000210004,
          "timepoint": "2011-04-01T00:00:00"
         },
         {
          "clade_membership": "3c0baec",
          "frequency": 1.0000029999999995,
          "frequency_final": 0.999996,
          "observed_growth_rate": 0.9999930000210004,
          "timepoint": "2011-04-01T00:00:00"
         },
         {
          "clade_membership": "41bb3e2",
          "frequency": 1.0000029999999995,
          "frequency_final": 0.999996,
          "observed_growth_rate": 0.9999930000210004,
          "timepoint": "2011-04-01T00:00:00"
         },
         {
          "clade_membership": "44989e1",
          "frequency": 1.0000029999999995,
          "frequency_final": 0.999996,
          "observed_growth_rate": 0.9999930000210004,
          "timepoint": "2011-04-01T00:00:00"
         },
         {
          "clade_membership": "4952842",
          "frequency": 1.0000029999999995,
          "frequency_final": 0.999996,
          "observed_growth_rate": 0.9999930000210004,
          "timepoint": "2011-04-01T00:00:00"
         },
         {
          "clade_membership": "4e35443",
          "frequency": 1.0000029999999995,
          "frequency_final": 0,
          "observed_growth_rate": 0,
          "timepoint": "2011-04-01T00:00:00"
         },
         {
          "clade_membership": "5d01a6e",
          "frequency": 1.0000029999999995,
          "frequency_final": 0.999996,
          "observed_growth_rate": 0.9999930000210004,
          "timepoint": "2011-04-01T00:00:00"
         },
         {
          "clade_membership": "6335574",
          "frequency": 1.0000029999999995,
          "frequency_final": 0,
          "observed_growth_rate": 0,
          "timepoint": "2011-04-01T00:00:00"
         },
         {
          "clade_membership": "6b0ee12",
          "frequency": 1.0000029999999995,
          "frequency_final": 0.999996,
          "observed_growth_rate": 0.9999930000210004,
          "timepoint": "2011-04-01T00:00:00"
         },
         {
          "clade_membership": "7aa732d",
          "frequency": 1.0000029999999995,
          "frequency_final": 0.999996,
          "observed_growth_rate": 0.9999930000210004,
          "timepoint": "2011-04-01T00:00:00"
         },
         {
          "clade_membership": "7fba9ff",
          "frequency": 0.17632400000000006,
          "frequency_final": 0.7553169999999996,
          "observed_growth_rate": 4.283687983484945,
          "timepoint": "2011-04-01T00:00:00"
         },
         {
          "clade_membership": "8386d16",
          "frequency": 1.0000029999999995,
          "frequency_final": 0.999996,
          "observed_growth_rate": 0.9999930000210004,
          "timepoint": "2011-04-01T00:00:00"
         },
         {
          "clade_membership": "85356dd",
          "frequency": 1.0000029999999995,
          "frequency_final": 0.999996,
          "observed_growth_rate": 0.9999930000210004,
          "timepoint": "2011-04-01T00:00:00"
         },
         {
          "clade_membership": "88dab64",
          "frequency": 1.0000029999999995,
          "frequency_final": 0.999996,
          "observed_growth_rate": 0.9999930000210004,
          "timepoint": "2011-04-01T00:00:00"
         },
         {
          "clade_membership": "91769ce",
          "frequency": 1.0000029999999995,
          "frequency_final": 0.999996,
          "observed_growth_rate": 0.9999930000210004,
          "timepoint": "2011-04-01T00:00:00"
         },
         {
          "clade_membership": "956f201",
          "frequency": 0.8581889999999998,
          "frequency_final": 0.999996,
          "observed_growth_rate": 1.1652398247938394,
          "timepoint": "2011-04-01T00:00:00"
         },
         {
          "clade_membership": "98c068a",
          "frequency": 1.0000029999999995,
          "frequency_final": 0.999996,
          "observed_growth_rate": 0.9999930000210004,
          "timepoint": "2011-04-01T00:00:00"
         },
         {
          "clade_membership": "9a3ff5d",
          "frequency": 1.0000029999999995,
          "frequency_final": 0.999996,
          "observed_growth_rate": 0.9999930000210004,
          "timepoint": "2011-04-01T00:00:00"
         },
         {
          "clade_membership": "9b04f13",
          "frequency": 1.0000029999999995,
          "frequency_final": 0.999996,
          "observed_growth_rate": 0.9999930000210004,
          "timepoint": "2011-04-01T00:00:00"
         },
         {
          "clade_membership": "a5bcb4f",
          "frequency": 1.0000029999999995,
          "frequency_final": 0.999996,
          "observed_growth_rate": 0.9999930000210004,
          "timepoint": "2011-04-01T00:00:00"
         },
         {
          "clade_membership": "a8f54a9",
          "frequency": 1.0000029999999995,
          "frequency_final": 0.999996,
          "observed_growth_rate": 0.9999930000210004,
          "timepoint": "2011-04-01T00:00:00"
         },
         {
          "clade_membership": "aab80f6",
          "frequency": 1.0000029999999995,
          "frequency_final": 0.999996,
          "observed_growth_rate": 0.9999930000210004,
          "timepoint": "2011-04-01T00:00:00"
         },
         {
          "clade_membership": "b32cea9",
          "frequency": 1.0000029999999995,
          "frequency_final": 0,
          "observed_growth_rate": 0,
          "timepoint": "2011-04-01T00:00:00"
         },
         {
          "clade_membership": "d4d7919",
          "frequency": 0.6117360000000002,
          "frequency_final": 0.141835,
          "observed_growth_rate": 0.23185655249977105,
          "timepoint": "2011-04-01T00:00:00"
         },
         {
          "clade_membership": "d6906cf",
          "frequency": 1.0000029999999995,
          "frequency_final": 0.999996,
          "observed_growth_rate": 0.9999930000210004,
          "timepoint": "2011-04-01T00:00:00"
         },
         {
          "clade_membership": "e2f3876",
          "frequency": 1.0000029999999995,
          "frequency_final": 0.999996,
          "observed_growth_rate": 0.9999930000210004,
          "timepoint": "2011-04-01T00:00:00"
         },
         {
          "clade_membership": "e501908",
          "frequency": 1.0000029999999995,
          "frequency_final": 0.999996,
          "observed_growth_rate": 0.9999930000210004,
          "timepoint": "2011-04-01T00:00:00"
         },
         {
          "clade_membership": "e56a121",
          "frequency": 0.6117360000000002,
          "frequency_final": 0.141835,
          "observed_growth_rate": 0.23185655249977105,
          "timepoint": "2011-04-01T00:00:00"
         },
         {
          "clade_membership": "e64cc68",
          "frequency": 1.0000029999999995,
          "frequency_final": 0.999996,
          "observed_growth_rate": 0.9999930000210004,
          "timepoint": "2011-04-01T00:00:00"
         },
         {
          "clade_membership": "ecf49fd",
          "frequency": 1.0000029999999995,
          "frequency_final": 0.999996,
          "observed_growth_rate": 0.9999930000210004,
          "timepoint": "2011-04-01T00:00:00"
         },
         {
          "clade_membership": "f3f16af",
          "frequency": 1.0000029999999995,
          "frequency_final": 0.999996,
          "observed_growth_rate": 0.9999930000210004,
          "timepoint": "2011-04-01T00:00:00"
         },
         {
          "clade_membership": "fd5608c",
          "frequency": 1.0000029999999995,
          "frequency_final": 0.999996,
          "observed_growth_rate": 0.9999930000210004,
          "timepoint": "2011-04-01T00:00:00"
         },
         {
          "clade_membership": "root",
          "frequency": 1.0000029999999995,
          "frequency_final": 0.999996,
          "observed_growth_rate": 0.9999930000210004,
          "timepoint": "2011-04-01T00:00:00"
         },
         {
          "clade_membership": "0003b07",
          "frequency": 0.9999969999999998,
          "frequency_final": 0,
          "observed_growth_rate": 0,
          "timepoint": "2011-10-01T00:00:00"
         },
         {
          "clade_membership": "026d21f",
          "frequency": 0.3658139999999997,
          "frequency_final": 0.206501,
          "observed_growth_rate": 0.5644972581694527,
          "timepoint": "2011-10-01T00:00:00"
         },
         {
          "clade_membership": "02e323e",
          "frequency": 0.9999969999999998,
          "frequency_final": 0.9999919999999995,
          "observed_growth_rate": 0.9999949999849997,
          "timepoint": "2011-10-01T00:00:00"
         },
         {
          "clade_membership": "048f8ca",
          "frequency": 0.9999969999999998,
          "frequency_final": 0.9999919999999995,
          "observed_growth_rate": 0.9999949999849997,
          "timepoint": "2011-10-01T00:00:00"
         },
         {
          "clade_membership": "09e68a2",
          "frequency": 0.9999969999999998,
          "frequency_final": 0.9999919999999995,
          "observed_growth_rate": 0.9999949999849997,
          "timepoint": "2011-10-01T00:00:00"
         },
         {
          "clade_membership": "35491c6",
          "frequency": 0.9999969999999998,
          "frequency_final": 0.9999919999999995,
          "observed_growth_rate": 0.9999949999849997,
          "timepoint": "2011-10-01T00:00:00"
         },
         {
          "clade_membership": "38da78c",
          "frequency": 0.20945599999999992,
          "frequency_final": 0.47017100000000006,
          "observed_growth_rate": 2.244724428997022,
          "timepoint": "2011-10-01T00:00:00"
         },
         {
          "clade_membership": "3a81d99",
          "frequency": 0.9999969999999998,
          "frequency_final": 0.9999919999999995,
          "observed_growth_rate": 0.9999949999849997,
          "timepoint": "2011-10-01T00:00:00"
         },
         {
          "clade_membership": "3c0baec",
          "frequency": 0.9999969999999998,
          "frequency_final": 0.9999919999999995,
          "observed_growth_rate": 0.9999949999849997,
          "timepoint": "2011-10-01T00:00:00"
         },
         {
          "clade_membership": "412c00a",
          "frequency": 0.9999969999999998,
          "frequency_final": 0.9999919999999995,
          "observed_growth_rate": 0.9999949999849997,
          "timepoint": "2011-10-01T00:00:00"
         },
         {
          "clade_membership": "41bb3e2",
          "frequency": 0.9999969999999998,
          "frequency_final": 0.9976269999999996,
          "observed_growth_rate": 0.9976299928899784,
          "timepoint": "2011-10-01T00:00:00"
         },
         {
          "clade_membership": "44989e1",
          "frequency": 0.9999969999999998,
          "frequency_final": 0.9999919999999995,
          "observed_growth_rate": 0.9999949999849997,
          "timepoint": "2011-10-01T00:00:00"
         },
         {
          "clade_membership": "4952842",
          "frequency": 0.9999969999999998,
          "frequency_final": 0.9999919999999995,
          "observed_growth_rate": 0.9999949999849997,
          "timepoint": "2011-10-01T00:00:00"
         },
         {
          "clade_membership": "4e35443",
          "frequency": 0.9999969999999998,
          "frequency_final": 0,
          "observed_growth_rate": 0,
          "timepoint": "2011-10-01T00:00:00"
         },
         {
          "clade_membership": "4ff1302",
          "frequency": 0.9999969999999998,
          "frequency_final": 0.9999919999999995,
          "observed_growth_rate": 0.9999949999849997,
          "timepoint": "2011-10-01T00:00:00"
         },
         {
          "clade_membership": "5c625ac",
          "frequency": 0.9999969999999998,
          "frequency_final": 0,
          "observed_growth_rate": 0,
          "timepoint": "2011-10-01T00:00:00"
         },
         {
          "clade_membership": "7aa732d",
          "frequency": 0.9999969999999998,
          "frequency_final": 0.9999919999999995,
          "observed_growth_rate": 0.9999949999849997,
          "timepoint": "2011-10-01T00:00:00"
         },
         {
          "clade_membership": "7fba9ff",
          "frequency": 0.500796,
          "frequency_final": 0.6934619999999995,
          "observed_growth_rate": 1.3847195265137888,
          "timepoint": "2011-10-01T00:00:00"
         },
         {
          "clade_membership": "85356dd",
          "frequency": 0.9999969999999998,
          "frequency_final": 0.9999919999999995,
          "observed_growth_rate": 0.9999949999849997,
          "timepoint": "2011-10-01T00:00:00"
         },
         {
          "clade_membership": "88299f7",
          "frequency": 0.47634999999999994,
          "frequency_final": 0.6934619999999995,
          "observed_growth_rate": 1.4557825128581916,
          "timepoint": "2011-10-01T00:00:00"
         },
         {
          "clade_membership": "88dab64",
          "frequency": 0.9999969999999998,
          "frequency_final": 0.9999919999999995,
          "observed_growth_rate": 0.9999949999849997,
          "timepoint": "2011-10-01T00:00:00"
         },
         {
          "clade_membership": "91769ce",
          "frequency": 0.9999969999999998,
          "frequency_final": 0,
          "observed_growth_rate": 0,
          "timepoint": "2011-10-01T00:00:00"
         },
         {
          "clade_membership": "956f201",
          "frequency": 0.9548249999999998,
          "frequency_final": 0.9926329999999997,
          "observed_growth_rate": 1.0395967847511323,
          "timepoint": "2011-10-01T00:00:00"
         },
         {
          "clade_membership": "98c068a",
          "frequency": 0.9999969999999998,
          "frequency_final": 0.9999919999999995,
          "observed_growth_rate": 0.9999949999849997,
          "timepoint": "2011-10-01T00:00:00"
         },
         {
          "clade_membership": "9a3ff5d",
          "frequency": 0.9999969999999998,
          "frequency_final": 0.9999919999999995,
          "observed_growth_rate": 0.9999949999849997,
          "timepoint": "2011-10-01T00:00:00"
         },
         {
          "clade_membership": "9b04f13",
          "frequency": 0.9999969999999998,
          "frequency_final": 0.9999919999999995,
          "observed_growth_rate": 0.9999949999849997,
          "timepoint": "2011-10-01T00:00:00"
         },
         {
          "clade_membership": "a5bcb4f",
          "frequency": 0.9999969999999998,
          "frequency_final": 0.9999919999999995,
          "observed_growth_rate": 0.9999949999849997,
          "timepoint": "2011-10-01T00:00:00"
         },
         {
          "clade_membership": "aab80f6",
          "frequency": 0.9999969999999998,
          "frequency_final": 0.9999919999999995,
          "observed_growth_rate": 0.9999949999849997,
          "timepoint": "2011-10-01T00:00:00"
         },
         {
          "clade_membership": "c139e7c",
          "frequency": 0.26687799999999995,
          "frequency_final": 0.215038,
          "observed_growth_rate": 0.8057539400025482,
          "timepoint": "2011-10-01T00:00:00"
         },
         {
          "clade_membership": "d4d7919",
          "frequency": 0.3658139999999997,
          "frequency_final": 0.206501,
          "observed_growth_rate": 0.5644972581694527,
          "timepoint": "2011-10-01T00:00:00"
         },
         {
          "clade_membership": "d6906cf",
          "frequency": 0.9999969999999998,
          "frequency_final": 0.9999919999999995,
          "observed_growth_rate": 0.9999949999849997,
          "timepoint": "2011-10-01T00:00:00"
         },
         {
          "clade_membership": "d7fecad",
          "frequency": 0.9999969999999998,
          "frequency_final": 0.9999919999999995,
          "observed_growth_rate": 0.9999949999849997,
          "timepoint": "2011-10-01T00:00:00"
         },
         {
          "clade_membership": "e501908",
          "frequency": 0.9999969999999998,
          "frequency_final": 0.9999919999999995,
          "observed_growth_rate": 0.9999949999849997,
          "timepoint": "2011-10-01T00:00:00"
         },
         {
          "clade_membership": "e56a121",
          "frequency": 0.3633489999999997,
          "frequency_final": 0.206501,
          "observed_growth_rate": 0.5683268703092623,
          "timepoint": "2011-10-01T00:00:00"
         },
         {
          "clade_membership": "e64cc68",
          "frequency": 0.9999969999999998,
          "frequency_final": 0.9999919999999995,
          "observed_growth_rate": 0.9999949999849997,
          "timepoint": "2011-10-01T00:00:00"
         },
         {
          "clade_membership": "ecf49fd",
          "frequency": 0.9999969999999998,
          "frequency_final": 0.9999919999999995,
          "observed_growth_rate": 0.9999949999849997,
          "timepoint": "2011-10-01T00:00:00"
         },
         {
          "clade_membership": "f321e53",
          "frequency": 0.9548249999999998,
          "frequency_final": 0.9926329999999997,
          "observed_growth_rate": 1.0395967847511323,
          "timepoint": "2011-10-01T00:00:00"
         },
         {
          "clade_membership": "f3f16af",
          "frequency": 0.9999969999999998,
          "frequency_final": 0.9999919999999995,
          "observed_growth_rate": 0.9999949999849997,
          "timepoint": "2011-10-01T00:00:00"
         },
         {
          "clade_membership": "ff9301c",
          "frequency": 0.9999969999999998,
          "frequency_final": 0.9999919999999995,
          "observed_growth_rate": 0.9999949999849997,
          "timepoint": "2011-10-01T00:00:00"
         },
         {
          "clade_membership": "root",
          "frequency": 0.9999969999999998,
          "frequency_final": 0.9999919999999995,
          "observed_growth_rate": 0.9999949999849997,
          "timepoint": "2011-10-01T00:00:00"
         },
         {
          "clade_membership": "0003b07",
          "frequency": 0.999996,
          "frequency_final": 0.9999990000000001,
          "observed_growth_rate": 1.0000030000120002,
          "timepoint": "2012-04-01T00:00:00"
         },
         {
          "clade_membership": "02e323e",
          "frequency": 0.999996,
          "frequency_final": 0.9999990000000001,
          "observed_growth_rate": 1.0000030000120002,
          "timepoint": "2012-04-01T00:00:00"
         },
         {
          "clade_membership": "048f8ca",
          "frequency": 0.999996,
          "frequency_final": 0.9999990000000001,
          "observed_growth_rate": 1.0000030000120002,
          "timepoint": "2012-04-01T00:00:00"
         },
         {
          "clade_membership": "05daa66",
          "frequency": 0.7553169999999996,
          "frequency_final": 0,
          "observed_growth_rate": 0,
          "timepoint": "2012-04-01T00:00:00"
         },
         {
          "clade_membership": "09e68a2",
          "frequency": 0.999996,
          "frequency_final": 0.9999990000000001,
          "observed_growth_rate": 1.0000030000120002,
          "timepoint": "2012-04-01T00:00:00"
         },
         {
          "clade_membership": "35491c6",
          "frequency": 0.999996,
          "frequency_final": 0.9999990000000001,
          "observed_growth_rate": 1.0000030000120002,
          "timepoint": "2012-04-01T00:00:00"
         },
         {
          "clade_membership": "38da78c",
          "frequency": 0.2834089999999999,
          "frequency_final": 0.8725180000000001,
          "observed_growth_rate": 3.0786531126393317,
          "timepoint": "2012-04-01T00:00:00"
         },
         {
          "clade_membership": "3a81d99",
          "frequency": 0.999996,
          "frequency_final": 0.9999990000000001,
          "observed_growth_rate": 1.0000030000120002,
          "timepoint": "2012-04-01T00:00:00"
         },
         {
          "clade_membership": "3c0baec",
          "frequency": 0.999996,
          "frequency_final": 0.9999990000000001,
          "observed_growth_rate": 1.0000030000120002,
          "timepoint": "2012-04-01T00:00:00"
         },
         {
          "clade_membership": "412c00a",
          "frequency": 0.999996,
          "frequency_final": 0.9999990000000001,
          "observed_growth_rate": 1.0000030000120002,
          "timepoint": "2012-04-01T00:00:00"
         },
         {
          "clade_membership": "41bb3e2",
          "frequency": 0.999996,
          "frequency_final": 0.9999990000000001,
          "observed_growth_rate": 1.0000030000120002,
          "timepoint": "2012-04-01T00:00:00"
         },
         {
          "clade_membership": "44989e1",
          "frequency": 0.999996,
          "frequency_final": 0.9999990000000001,
          "observed_growth_rate": 1.0000030000120002,
          "timepoint": "2012-04-01T00:00:00"
         },
         {
          "clade_membership": "4952842",
          "frequency": 0.999996,
          "frequency_final": 0.9999990000000001,
          "observed_growth_rate": 1.0000030000120002,
          "timepoint": "2012-04-01T00:00:00"
         },
         {
          "clade_membership": "4ff1302",
          "frequency": 0.999996,
          "frequency_final": 0.9999990000000001,
          "observed_growth_rate": 1.0000030000120002,
          "timepoint": "2012-04-01T00:00:00"
         },
         {
          "clade_membership": "5d01a6e",
          "frequency": 0.999996,
          "frequency_final": 0.9999990000000001,
          "observed_growth_rate": 1.0000030000120002,
          "timepoint": "2012-04-01T00:00:00"
         },
         {
          "clade_membership": "6b0ee12",
          "frequency": 0.999996,
          "frequency_final": 0.9999990000000001,
          "observed_growth_rate": 1.0000030000120002,
          "timepoint": "2012-04-01T00:00:00"
         },
         {
          "clade_membership": "7aa732d",
          "frequency": 0.999996,
          "frequency_final": 0.9999990000000001,
          "observed_growth_rate": 1.0000030000120002,
          "timepoint": "2012-04-01T00:00:00"
         },
         {
          "clade_membership": "7fba9ff",
          "frequency": 0.7553169999999996,
          "frequency_final": 0.935092,
          "observed_growth_rate": 1.2380126489937344,
          "timepoint": "2012-04-01T00:00:00"
         },
         {
          "clade_membership": "8386d16",
          "frequency": 0.999996,
          "frequency_final": 0.9999990000000001,
          "observed_growth_rate": 1.0000030000120002,
          "timepoint": "2012-04-01T00:00:00"
         },
         {
          "clade_membership": "85356dd",
          "frequency": 0.999996,
          "frequency_final": 0.9999990000000001,
          "observed_growth_rate": 1.0000030000120002,
          "timepoint": "2012-04-01T00:00:00"
         },
         {
          "clade_membership": "88299f7",
          "frequency": 0.7553169999999996,
          "frequency_final": 0,
          "observed_growth_rate": 0,
          "timepoint": "2012-04-01T00:00:00"
         },
         {
          "clade_membership": "88dab64",
          "frequency": 0.999996,
          "frequency_final": 0.9999990000000001,
          "observed_growth_rate": 1.0000030000120002,
          "timepoint": "2012-04-01T00:00:00"
         },
         {
          "clade_membership": "8aaed0b",
          "frequency": 0.32305199999999995,
          "frequency_final": 0.8725180000000001,
          "observed_growth_rate": 2.7008593043844344,
          "timepoint": "2012-04-01T00:00:00"
         },
         {
          "clade_membership": "91769ce",
          "frequency": 0.999996,
          "frequency_final": 0.9999990000000001,
          "observed_growth_rate": 1.0000030000120002,
          "timepoint": "2012-04-01T00:00:00"
         },
         {
          "clade_membership": "956f201",
          "frequency": 0.999996,
          "frequency_final": 0.9999990000000001,
          "observed_growth_rate": 1.0000030000120002,
          "timepoint": "2012-04-01T00:00:00"
         },
         {
          "clade_membership": "98c068a",
          "frequency": 0.999996,
          "frequency_final": 0.9999990000000001,
          "observed_growth_rate": 1.0000030000120002,
          "timepoint": "2012-04-01T00:00:00"
         },
         {
          "clade_membership": "9a3ff5d",
          "frequency": 0.999996,
          "frequency_final": 0.9999990000000001,
          "observed_growth_rate": 1.0000030000120002,
          "timepoint": "2012-04-01T00:00:00"
         },
         {
          "clade_membership": "9b04f13",
          "frequency": 0.999996,
          "frequency_final": 0.9999990000000001,
          "observed_growth_rate": 1.0000030000120002,
          "timepoint": "2012-04-01T00:00:00"
         },
         {
          "clade_membership": "a5bcb4f",
          "frequency": 0.999996,
          "frequency_final": 0.9999990000000001,
          "observed_growth_rate": 1.0000030000120002,
          "timepoint": "2012-04-01T00:00:00"
         },
         {
          "clade_membership": "a8f54a9",
          "frequency": 0.999996,
          "frequency_final": 0.9999990000000001,
          "observed_growth_rate": 1.0000030000120002,
          "timepoint": "2012-04-01T00:00:00"
         },
         {
          "clade_membership": "aab80f6",
          "frequency": 0.999996,
          "frequency_final": 0.9999990000000001,
          "observed_growth_rate": 1.0000030000120002,
          "timepoint": "2012-04-01T00:00:00"
         },
         {
          "clade_membership": "c139e7c",
          "frequency": 0.42594899999999997,
          "frequency_final": 0.9156140000000001,
          "observed_growth_rate": 2.1495859832984707,
          "timepoint": "2012-04-01T00:00:00"
         },
         {
          "clade_membership": "d6906cf",
          "frequency": 0.999996,
          "frequency_final": 0.9999990000000001,
          "observed_growth_rate": 1.0000030000120002,
          "timepoint": "2012-04-01T00:00:00"
         },
         {
          "clade_membership": "e2f3876",
          "frequency": 0.999996,
          "frequency_final": 0.9999990000000001,
          "observed_growth_rate": 1.0000030000120002,
          "timepoint": "2012-04-01T00:00:00"
         },
         {
          "clade_membership": "e501908",
          "frequency": 0.999996,
          "frequency_final": 0.9999990000000001,
          "observed_growth_rate": 1.0000030000120002,
          "timepoint": "2012-04-01T00:00:00"
         },
         {
          "clade_membership": "e64cc68",
          "frequency": 0.999996,
          "frequency_final": 0.9999990000000001,
          "observed_growth_rate": 1.0000030000120002,
          "timepoint": "2012-04-01T00:00:00"
         },
         {
          "clade_membership": "ecf49fd",
          "frequency": 0.999996,
          "frequency_final": 0.9999990000000001,
          "observed_growth_rate": 1.0000030000120002,
          "timepoint": "2012-04-01T00:00:00"
         },
         {
          "clade_membership": "f2ec31a",
          "frequency": 0.27798599999999996,
          "frequency_final": 0.8460760000000003,
          "observed_growth_rate": 3.0435921233443426,
          "timepoint": "2012-04-01T00:00:00"
         },
         {
          "clade_membership": "f3f16af",
          "frequency": 0.999996,
          "frequency_final": 0.9999990000000001,
          "observed_growth_rate": 1.0000030000120002,
          "timepoint": "2012-04-01T00:00:00"
         },
         {
          "clade_membership": "fd5608c",
          "frequency": 0.999996,
          "frequency_final": 0.9999990000000001,
          "observed_growth_rate": 1.0000030000120002,
          "timepoint": "2012-04-01T00:00:00"
         },
         {
          "clade_membership": "root",
          "frequency": 0.999996,
          "frequency_final": 0.9999990000000001,
          "observed_growth_rate": 1.0000030000120002,
          "timepoint": "2012-04-01T00:00:00"
         },
         {
          "clade_membership": "026d21f",
          "frequency": 0.206501,
          "frequency_final": 0.014506000000000002,
          "observed_growth_rate": 0.07024663318821701,
          "timepoint": "2012-10-01T00:00:00"
         },
         {
          "clade_membership": "02e323e",
          "frequency": 0.9999919999999995,
          "frequency_final": 0.9999989999999993,
          "observed_growth_rate": 1.0000070000560002,
          "timepoint": "2012-10-01T00:00:00"
         },
         {
          "clade_membership": "048f8ca",
          "frequency": 0.9999919999999995,
          "frequency_final": 0.9999989999999993,
          "observed_growth_rate": 1.0000070000560002,
          "timepoint": "2012-10-01T00:00:00"
         },
         {
          "clade_membership": "05daa66",
          "frequency": 0.6934619999999995,
          "frequency_final": 0.9805869999999993,
          "observed_growth_rate": 1.414045758815912,
          "timepoint": "2012-10-01T00:00:00"
         },
         {
          "clade_membership": "09e68a2",
          "frequency": 0.9999919999999995,
          "frequency_final": 0.9999989999999993,
          "observed_growth_rate": 1.0000070000560002,
          "timepoint": "2012-10-01T00:00:00"
         },
         {
          "clade_membership": "35491c6",
          "frequency": 0.9999919999999995,
          "frequency_final": 0.9999989999999993,
          "observed_growth_rate": 1.0000070000560002,
          "timepoint": "2012-10-01T00:00:00"
         },
         {
          "clade_membership": "38da78c",
          "frequency": 0.47017100000000006,
          "frequency_final": 0.9592939999999993,
          "observed_growth_rate": 2.0403087387354795,
          "timepoint": "2012-10-01T00:00:00"
         },
         {
          "clade_membership": "3a81d99",
          "frequency": 0.9999919999999995,
          "frequency_final": 0.9999989999999993,
          "observed_growth_rate": 1.0000070000560002,
          "timepoint": "2012-10-01T00:00:00"
         },
         {
          "clade_membership": "3c0baec",
          "frequency": 0.9999919999999995,
          "frequency_final": 0.9999989999999993,
          "observed_growth_rate": 1.0000070000560002,
          "timepoint": "2012-10-01T00:00:00"
         },
         {
          "clade_membership": "412c00a",
          "frequency": 0.9999919999999995,
          "frequency_final": 0.9999989999999993,
          "observed_growth_rate": 1.0000070000560002,
          "timepoint": "2012-10-01T00:00:00"
         },
         {
          "clade_membership": "41bb3e2",
          "frequency": 0.9976269999999996,
          "frequency_final": 0.9999989999999993,
          "observed_growth_rate": 1.0023776421448094,
          "timepoint": "2012-10-01T00:00:00"
         },
         {
          "clade_membership": "44989e1",
          "frequency": 0.9999919999999995,
          "frequency_final": 0.9999989999999993,
          "observed_growth_rate": 1.0000070000560002,
          "timepoint": "2012-10-01T00:00:00"
         },
         {
          "clade_membership": "4952842",
          "frequency": 0.9999919999999995,
          "frequency_final": 0.9999989999999993,
          "observed_growth_rate": 1.0000070000560002,
          "timepoint": "2012-10-01T00:00:00"
         },
         {
          "clade_membership": "4ff1302",
          "frequency": 0.9999919999999995,
          "frequency_final": 0.9999989999999993,
          "observed_growth_rate": 1.0000070000560002,
          "timepoint": "2012-10-01T00:00:00"
         },
         {
          "clade_membership": "6335574",
          "frequency": 0.9999919999999995,
          "frequency_final": 0.9999989999999993,
          "observed_growth_rate": 1.0000070000560002,
          "timepoint": "2012-10-01T00:00:00"
         },
         {
          "clade_membership": "7aa732d",
          "frequency": 0.9999919999999995,
          "frequency_final": 0.9999989999999993,
          "observed_growth_rate": 1.0000070000560002,
          "timepoint": "2012-10-01T00:00:00"
         },
         {
          "clade_membership": "7fba9ff",
          "frequency": 0.6934619999999995,
          "frequency_final": 0,
          "observed_growth_rate": 0,
          "timepoint": "2012-10-01T00:00:00"
         },
         {
          "clade_membership": "85356dd",
          "frequency": 0.9999919999999995,
          "frequency_final": 0.9999989999999993,
          "observed_growth_rate": 1.0000070000560002,
          "timepoint": "2012-10-01T00:00:00"
         },
         {
          "clade_membership": "88299f7",
          "frequency": 0.6934619999999995,
          "frequency_final": 0,
          "observed_growth_rate": 0,
          "timepoint": "2012-10-01T00:00:00"
         },
         {
          "clade_membership": "88dab64",
          "frequency": 0.9999919999999995,
          "frequency_final": 0.9999989999999993,
          "observed_growth_rate": 1.0000070000560002,
          "timepoint": "2012-10-01T00:00:00"
         },
         {
          "clade_membership": "8aaed0b",
          "frequency": 0.47836000000000006,
          "frequency_final": 0.9592939999999993,
          "observed_growth_rate": 2.0053808846893535,
          "timepoint": "2012-10-01T00:00:00"
         },
         {
          "clade_membership": "956f201",
          "frequency": 0.9926329999999997,
          "frequency_final": 0.9999989999999993,
          "observed_growth_rate": 1.0074206680616096,
          "timepoint": "2012-10-01T00:00:00"
         },
         {
          "clade_membership": "98c068a",
          "frequency": 0.9999919999999995,
          "frequency_final": 0.9999989999999993,
          "observed_growth_rate": 1.0000070000560002,
          "timepoint": "2012-10-01T00:00:00"
         },
         {
          "clade_membership": "9a3ff5d",
          "frequency": 0.9999919999999995,
          "frequency_final": 0.9999989999999993,
          "observed_growth_rate": 1.0000070000560002,
          "timepoint": "2012-10-01T00:00:00"
         },
         {
          "clade_membership": "9b04f13",
          "frequency": 0.9999919999999995,
          "frequency_final": 0.9999989999999993,
          "observed_growth_rate": 1.0000070000560002,
          "timepoint": "2012-10-01T00:00:00"
         },
         {
          "clade_membership": "a229f16",
          "frequency": 0.23460599999999998,
          "frequency_final": 0.9586889999999993,
          "observed_growth_rate": 4.086378864990663,
          "timepoint": "2012-10-01T00:00:00"
         },
         {
          "clade_membership": "a5bcb4f",
          "frequency": 0.9999919999999995,
          "frequency_final": 0.9999989999999993,
          "observed_growth_rate": 1.0000070000560002,
          "timepoint": "2012-10-01T00:00:00"
         },
         {
          "clade_membership": "aab80f6",
          "frequency": 0.9999919999999995,
          "frequency_final": 0.9999989999999993,
          "observed_growth_rate": 1.0000070000560002,
          "timepoint": "2012-10-01T00:00:00"
         },
         {
          "clade_membership": "b32cea9",
          "frequency": 0.9999919999999995,
          "frequency_final": 0.9999989999999993,
          "observed_growth_rate": 1.0000070000560002,
          "timepoint": "2012-10-01T00:00:00"
         },
         {
          "clade_membership": "c139e7c",
          "frequency": 0.215038,
          "frequency_final": 0.9851699999999993,
          "observed_growth_rate": 4.581376314883878,
          "timepoint": "2012-10-01T00:00:00"
         },
         {
          "clade_membership": "d4d7919",
          "frequency": 0.206501,
          "frequency_final": 0.014506000000000002,
          "observed_growth_rate": 0.07024663318821701,
          "timepoint": "2012-10-01T00:00:00"
         },
         {
          "clade_membership": "d6906cf",
          "frequency": 0.9999919999999995,
          "frequency_final": 0.9999989999999993,
          "observed_growth_rate": 1.0000070000560002,
          "timepoint": "2012-10-01T00:00:00"
         },
         {
          "clade_membership": "e2f3876",
          "frequency": 0.9999919999999995,
          "frequency_final": 0.9999989999999993,
          "observed_growth_rate": 1.0000070000560002,
          "timepoint": "2012-10-01T00:00:00"
         },
         {
          "clade_membership": "e501908",
          "frequency": 0.9999919999999995,
          "frequency_final": 0.9999989999999993,
          "observed_growth_rate": 1.0000070000560002,
          "timepoint": "2012-10-01T00:00:00"
         },
         {
          "clade_membership": "e56a121",
          "frequency": 0.206501,
          "frequency_final": 0.014506000000000002,
          "observed_growth_rate": 0.07024663318821701,
          "timepoint": "2012-10-01T00:00:00"
         },
         {
          "clade_membership": "e64cc68",
          "frequency": 0.9999919999999995,
          "frequency_final": 0.9999989999999993,
          "observed_growth_rate": 1.0000070000560002,
          "timepoint": "2012-10-01T00:00:00"
         },
         {
          "clade_membership": "e89fed6",
          "frequency": 0.9999919999999995,
          "frequency_final": 0.9999989999999993,
          "observed_growth_rate": 1.0000070000560002,
          "timepoint": "2012-10-01T00:00:00"
         },
         {
          "clade_membership": "ecf49fd",
          "frequency": 0.9999919999999995,
          "frequency_final": 0.9999989999999993,
          "observed_growth_rate": 1.0000070000560002,
          "timepoint": "2012-10-01T00:00:00"
         },
         {
          "clade_membership": "f2ec31a",
          "frequency": 0.47017100000000006,
          "frequency_final": 0.9587609999999994,
          "observed_growth_rate": 2.039175108630688,
          "timepoint": "2012-10-01T00:00:00"
         },
         {
          "clade_membership": "f3f16af",
          "frequency": 0.9999919999999995,
          "frequency_final": 0.9999989999999993,
          "observed_growth_rate": 1.0000070000560002,
          "timepoint": "2012-10-01T00:00:00"
         },
         {
          "clade_membership": "fd5608c",
          "frequency": 0.9999919999999995,
          "frequency_final": 0.9999989999999993,
          "observed_growth_rate": 1.0000070000560002,
          "timepoint": "2012-10-01T00:00:00"
         },
         {
          "clade_membership": "root",
          "frequency": 0.9999919999999995,
          "frequency_final": 0.9999989999999993,
          "observed_growth_rate": 1.0000070000560002,
          "timepoint": "2012-10-01T00:00:00"
         },
         {
          "clade_membership": "0003b07",
          "frequency": 0.9999990000000001,
          "frequency_final": 1.0000040000000001,
          "observed_growth_rate": 1.000005000005,
          "timepoint": "2013-04-01T00:00:00"
         },
         {
          "clade_membership": "0165eeb",
          "frequency": 0.24547199999999994,
          "frequency_final": 0.25129300000000004,
          "observed_growth_rate": 1.023713498891931,
          "timepoint": "2013-04-01T00:00:00"
         },
         {
          "clade_membership": "02e323e",
          "frequency": 0.9999990000000001,
          "frequency_final": 1.0000040000000001,
          "observed_growth_rate": 1.000005000005,
          "timepoint": "2013-04-01T00:00:00"
         },
         {
          "clade_membership": "048f8ca",
          "frequency": 0.9999990000000001,
          "frequency_final": 1.0000040000000001,
          "observed_growth_rate": 1.000005000005,
          "timepoint": "2013-04-01T00:00:00"
         },
         {
          "clade_membership": "09e68a2",
          "frequency": 0.9999990000000001,
          "frequency_final": 1.0000040000000001,
          "observed_growth_rate": 1.000005000005,
          "timepoint": "2013-04-01T00:00:00"
         },
         {
          "clade_membership": "18b52ed",
          "frequency": 0.9999990000000001,
          "frequency_final": 0,
          "observed_growth_rate": 0,
          "timepoint": "2013-04-01T00:00:00"
         },
         {
          "clade_membership": "35491c6",
          "frequency": 0.9999990000000001,
          "frequency_final": 1.0000040000000001,
          "observed_growth_rate": 1.000005000005,
          "timepoint": "2013-04-01T00:00:00"
         },
         {
          "clade_membership": "38da78c",
          "frequency": 0.8725180000000001,
          "frequency_final": 0.997028,
          "observed_growth_rate": 1.142701927066261,
          "timepoint": "2013-04-01T00:00:00"
         },
         {
          "clade_membership": "3a81d99",
          "frequency": 0.9999990000000001,
          "frequency_final": 1.0000040000000001,
          "observed_growth_rate": 1.000005000005,
          "timepoint": "2013-04-01T00:00:00"
         },
         {
          "clade_membership": "3c0baec",
          "frequency": 0.9999990000000001,
          "frequency_final": 1.0000040000000001,
          "observed_growth_rate": 1.000005000005,
          "timepoint": "2013-04-01T00:00:00"
         },
         {
          "clade_membership": "412c00a",
          "frequency": 0.9999990000000001,
          "frequency_final": 1.0000040000000001,
          "observed_growth_rate": 1.000005000005,
          "timepoint": "2013-04-01T00:00:00"
         },
         {
          "clade_membership": "41bb3e2",
          "frequency": 0.9999990000000001,
          "frequency_final": 1.0000040000000001,
          "observed_growth_rate": 1.000005000005,
          "timepoint": "2013-04-01T00:00:00"
         },
         {
          "clade_membership": "44989e1",
          "frequency": 0.9999990000000001,
          "frequency_final": 1.0000040000000001,
          "observed_growth_rate": 1.000005000005,
          "timepoint": "2013-04-01T00:00:00"
         },
         {
          "clade_membership": "4952842",
          "frequency": 0.9999990000000001,
          "frequency_final": 1.0000040000000001,
          "observed_growth_rate": 1.000005000005,
          "timepoint": "2013-04-01T00:00:00"
         },
         {
          "clade_membership": "4e35443",
          "frequency": 0.9999990000000001,
          "frequency_final": 0,
          "observed_growth_rate": 0,
          "timepoint": "2013-04-01T00:00:00"
         },
         {
          "clade_membership": "4ff1302",
          "frequency": 0.9999990000000001,
          "frequency_final": 1.0000040000000001,
          "observed_growth_rate": 1.000005000005,
          "timepoint": "2013-04-01T00:00:00"
         },
         {
          "clade_membership": "5d01a6e",
          "frequency": 0.9999990000000001,
          "frequency_final": 1.0000040000000001,
          "observed_growth_rate": 1.000005000005,
          "timepoint": "2013-04-01T00:00:00"
         },
         {
          "clade_membership": "6335574",
          "frequency": 0.9999990000000001,
          "frequency_final": 1.0000040000000001,
          "observed_growth_rate": 1.000005000005,
          "timepoint": "2013-04-01T00:00:00"
         },
         {
          "clade_membership": "66a66dd",
          "frequency": 0.31454499999999996,
          "frequency_final": 0.7455489999999998,
          "observed_growth_rate": 2.3702459107599863,
          "timepoint": "2013-04-01T00:00:00"
         },
         {
          "clade_membership": "6b0ee12",
          "frequency": 0.9999990000000001,
          "frequency_final": 1.0000040000000001,
          "observed_growth_rate": 1.000005000005,
          "timepoint": "2013-04-01T00:00:00"
         },
         {
          "clade_membership": "6c1138e",
          "frequency": 0.8519350000000002,
          "frequency_final": 0.997028,
          "observed_growth_rate": 1.170309941486146,
          "timepoint": "2013-04-01T00:00:00"
         },
         {
          "clade_membership": "7aa732d",
          "frequency": 0.9999990000000001,
          "frequency_final": 1.0000040000000001,
          "observed_growth_rate": 1.000005000005,
          "timepoint": "2013-04-01T00:00:00"
         },
         {
          "clade_membership": "7fba9ff",
          "frequency": 0.935092,
          "frequency_final": 0.9999930000000001,
          "observed_growth_rate": 1.069406004970634,
          "timepoint": "2013-04-01T00:00:00"
         },
         {
          "clade_membership": "85356dd",
          "frequency": 0.9999990000000001,
          "frequency_final": 0,
          "observed_growth_rate": 0,
          "timepoint": "2013-04-01T00:00:00"
         },
         {
          "clade_membership": "88dab64",
          "frequency": 0.9999990000000001,
          "frequency_final": 1.0000040000000001,
          "observed_growth_rate": 1.000005000005,
          "timepoint": "2013-04-01T00:00:00"
         },
         {
          "clade_membership": "8aaed0b",
          "frequency": 0.8725180000000001,
          "frequency_final": 0.997028,
          "observed_growth_rate": 1.142701927066261,
          "timepoint": "2013-04-01T00:00:00"
         },
         {
          "clade_membership": "8d4351f",
          "frequency": 0.32156199999999996,
          "frequency_final": 0.7455489999999998,
          "observed_growth_rate": 2.3185233329808868,
          "timepoint": "2013-04-01T00:00:00"
         },
         {
          "clade_membership": "91769ce",
          "frequency": 0.9999990000000001,
          "frequency_final": 1.0000040000000001,
          "observed_growth_rate": 1.000005000005,
          "timepoint": "2013-04-01T00:00:00"
         },
         {
          "clade_membership": "956f201",
          "frequency": 0.9999990000000001,
          "frequency_final": 0.9999930000000001,
          "observed_growth_rate": 0.9999939999940001,
          "timepoint": "2013-04-01T00:00:00"
         },
         {
          "clade_membership": "98c068a",
          "frequency": 0.9999990000000001,
          "frequency_final": 1.0000040000000001,
          "observed_growth_rate": 1.000005000005,
          "timepoint": "2013-04-01T00:00:00"
         },
         {
          "clade_membership": "9a3ff5d",
          "frequency": 0.9999990000000001,
          "frequency_final": 1.0000040000000001,
          "observed_growth_rate": 1.000005000005,
          "timepoint": "2013-04-01T00:00:00"
         },
         {
          "clade_membership": "9b04f13",
          "frequency": 0.9999990000000001,
          "frequency_final": 1.0000040000000001,
          "observed_growth_rate": 1.000005000005,
          "timepoint": "2013-04-01T00:00:00"
         },
         {
          "clade_membership": "a229f16",
          "frequency": 0.8215270000000002,
          "frequency_final": 0.997028,
          "observed_growth_rate": 1.2136277931218327,
          "timepoint": "2013-04-01T00:00:00"
         },
         {
          "clade_membership": "a5bcb4f",
          "frequency": 0.9999990000000001,
          "frequency_final": 1.0000040000000001,
          "observed_growth_rate": 1.000005000005,
          "timepoint": "2013-04-01T00:00:00"
         },
         {
          "clade_membership": "a8f54a9",
          "frequency": 0.9999990000000001,
          "frequency_final": 1.0000040000000001,
          "observed_growth_rate": 1.000005000005,
          "timepoint": "2013-04-01T00:00:00"
         },
         {
          "clade_membership": "aab80f6",
          "frequency": 0.9999990000000001,
          "frequency_final": 1.0000040000000001,
          "observed_growth_rate": 1.000005000005,
          "timepoint": "2013-04-01T00:00:00"
         },
         {
          "clade_membership": "b32cea9",
          "frequency": 0.9999990000000001,
          "frequency_final": 1.0000040000000001,
          "observed_growth_rate": 1.000005000005,
          "timepoint": "2013-04-01T00:00:00"
         },
         {
          "clade_membership": "bfceca0",
          "frequency": 0.935092,
          "frequency_final": 0,
          "observed_growth_rate": 0,
          "timepoint": "2013-04-01T00:00:00"
         },
         {
          "clade_membership": "c139e7c",
          "frequency": 0.9156140000000001,
          "frequency_final": 0.002964,
          "observed_growth_rate": 0.0032371719960594745,
          "timepoint": "2013-04-01T00:00:00"
         },
         {
          "clade_membership": "ce8636c",
          "frequency": 0.8725180000000001,
          "frequency_final": 0,
          "observed_growth_rate": 0,
          "timepoint": "2013-04-01T00:00:00"
         },
         {
          "clade_membership": "d6906cf",
          "frequency": 0.9999990000000001,
          "frequency_final": 1.0000040000000001,
          "observed_growth_rate": 1.000005000005,
          "timepoint": "2013-04-01T00:00:00"
         },
         {
          "clade_membership": "e2f3876",
          "frequency": 0.9999990000000001,
          "frequency_final": 1.0000040000000001,
          "observed_growth_rate": 1.000005000005,
          "timepoint": "2013-04-01T00:00:00"
         },
         {
          "clade_membership": "e501908",
          "frequency": 0.9999990000000001,
          "frequency_final": 1.0000040000000001,
          "observed_growth_rate": 1.000005000005,
          "timepoint": "2013-04-01T00:00:00"
         },
         {
          "clade_membership": "e64cc68",
          "frequency": 0.9999990000000001,
          "frequency_final": 1.0000040000000001,
          "observed_growth_rate": 1.000005000005,
          "timepoint": "2013-04-01T00:00:00"
         },
         {
          "clade_membership": "e89fed6",
          "frequency": 0.9999990000000001,
          "frequency_final": 0,
          "observed_growth_rate": 0,
          "timepoint": "2013-04-01T00:00:00"
         },
         {
          "clade_membership": "ecf49fd",
          "frequency": 0.9999990000000001,
          "frequency_final": 1.0000040000000001,
          "observed_growth_rate": 1.000005000005,
          "timepoint": "2013-04-01T00:00:00"
         },
         {
          "clade_membership": "f2ec31a",
          "frequency": 0.8460760000000003,
          "frequency_final": 0.997028,
          "observed_growth_rate": 1.1784142322911886,
          "timepoint": "2013-04-01T00:00:00"
         },
         {
          "clade_membership": "f3f16af",
          "frequency": 0.9999990000000001,
          "frequency_final": 1.0000040000000001,
          "observed_growth_rate": 1.000005000005,
          "timepoint": "2013-04-01T00:00:00"
         },
         {
          "clade_membership": "fd5608c",
          "frequency": 0.9999990000000001,
          "frequency_final": 1.0000040000000001,
          "observed_growth_rate": 1.000005000005,
          "timepoint": "2013-04-01T00:00:00"
         },
         {
          "clade_membership": "root",
          "frequency": 0.9999990000000001,
          "frequency_final": 1.0000040000000001,
          "observed_growth_rate": 1.000005000005,
          "timepoint": "2013-04-01T00:00:00"
         },
         {
          "clade_membership": "0003b07",
          "frequency": 0.9999989999999993,
          "frequency_final": 0,
          "observed_growth_rate": 0,
          "timepoint": "2013-10-01T00:00:00"
         },
         {
          "clade_membership": "0165eeb",
          "frequency": 0.39363799999999993,
          "frequency_final": 0.201301,
          "observed_growth_rate": 0.511386095854567,
          "timepoint": "2013-10-01T00:00:00"
         },
         {
          "clade_membership": "02e323e",
          "frequency": 0.9999989999999993,
          "frequency_final": 0.9999869999999996,
          "observed_growth_rate": 0.9999879999880004,
          "timepoint": "2013-10-01T00:00:00"
         },
         {
          "clade_membership": "048f8ca",
          "frequency": 0.9999989999999993,
          "frequency_final": 0.9999869999999996,
          "observed_growth_rate": 0.9999879999880004,
          "timepoint": "2013-10-01T00:00:00"
         },
         {
          "clade_membership": "05daa66",
          "frequency": 0.9805869999999993,
          "frequency_final": 0.9999869999999996,
          "observed_growth_rate": 1.0197840681143033,
          "timepoint": "2013-10-01T00:00:00"
         },
         {
          "clade_membership": "09e68a2",
          "frequency": 0.9999989999999993,
          "frequency_final": 0.9999869999999996,
          "observed_growth_rate": 0.9999879999880004,
          "timepoint": "2013-10-01T00:00:00"
         },
         {
          "clade_membership": "1a16e36",
          "frequency": 0.3309479999999999,
          "frequency_final": 0.7081299999999996,
          "observed_growth_rate": 2.1397017054038696,
          "timepoint": "2013-10-01T00:00:00"
         },
         {
          "clade_membership": "35491c6",
          "frequency": 0.9999989999999993,
          "frequency_final": 0.9999869999999996,
          "observed_growth_rate": 0.9999879999880004,
          "timepoint": "2013-10-01T00:00:00"
         },
         {
          "clade_membership": "38da78c",
          "frequency": 0.9592939999999993,
          "frequency_final": 0.9999869999999996,
          "observed_growth_rate": 1.0424197378488766,
          "timepoint": "2013-10-01T00:00:00"
         },
         {
          "clade_membership": "3a81d99",
          "frequency": 0.9999989999999993,
          "frequency_final": 0.9999869999999996,
          "observed_growth_rate": 0.9999879999880004,
          "timepoint": "2013-10-01T00:00:00"
         },
         {
          "clade_membership": "3c0baec",
          "frequency": 0.9999989999999993,
          "frequency_final": 0.9999869999999996,
          "observed_growth_rate": 0.9999879999880004,
          "timepoint": "2013-10-01T00:00:00"
         },
         {
          "clade_membership": "412c00a",
          "frequency": 0.9999989999999993,
          "frequency_final": 0.9999869999999996,
          "observed_growth_rate": 0.9999879999880004,
          "timepoint": "2013-10-01T00:00:00"
         },
         {
          "clade_membership": "41bb3e2",
          "frequency": 0.9999989999999993,
          "frequency_final": 0.9999869999999996,
          "observed_growth_rate": 0.9999879999880004,
          "timepoint": "2013-10-01T00:00:00"
         },
         {
          "clade_membership": "44989e1",
          "frequency": 0.9999989999999993,
          "frequency_final": 0.9999869999999996,
          "observed_growth_rate": 0.9999879999880004,
          "timepoint": "2013-10-01T00:00:00"
         },
         {
          "clade_membership": "4952842",
          "frequency": 0.9999989999999993,
          "frequency_final": 0.9999869999999996,
          "observed_growth_rate": 0.9999879999880004,
          "timepoint": "2013-10-01T00:00:00"
         },
         {
          "clade_membership": "4e35443",
          "frequency": 0.9999989999999993,
          "frequency_final": 0.9999869999999996,
          "observed_growth_rate": 0.9999879999880004,
          "timepoint": "2013-10-01T00:00:00"
         },
         {
          "clade_membership": "4ff1302",
          "frequency": 0.9999989999999993,
          "frequency_final": 0.9999869999999996,
          "observed_growth_rate": 0.9999879999880004,
          "timepoint": "2013-10-01T00:00:00"
         },
         {
          "clade_membership": "5d01a6e",
          "frequency": 0.9999989999999993,
          "frequency_final": 0.9999869999999996,
          "observed_growth_rate": 0.9999879999880004,
          "timepoint": "2013-10-01T00:00:00"
         },
         {
          "clade_membership": "6335574",
          "frequency": 0.9999989999999993,
          "frequency_final": 0.9999869999999996,
          "observed_growth_rate": 0.9999879999880004,
          "timepoint": "2013-10-01T00:00:00"
         },
         {
          "clade_membership": "66a66dd",
          "frequency": 0.5163559999999999,
          "frequency_final": 0.7983209999999995,
          "observed_growth_rate": 1.5460670545127773,
          "timepoint": "2013-10-01T00:00:00"
         },
         {
          "clade_membership": "6b0ee12",
          "frequency": 0.9999989999999993,
          "frequency_final": 0.9999869999999996,
          "observed_growth_rate": 0.9999879999880004,
          "timepoint": "2013-10-01T00:00:00"
         },
         {
          "clade_membership": "7aa732d",
          "frequency": 0.9999989999999993,
          "frequency_final": 0.9999869999999996,
          "observed_growth_rate": 0.9999879999880004,
          "timepoint": "2013-10-01T00:00:00"
         },
         {
          "clade_membership": "8386d16",
          "frequency": 0.9999989999999993,
          "frequency_final": 0.9999869999999996,
          "observed_growth_rate": 0.9999879999880004,
          "timepoint": "2013-10-01T00:00:00"
         },
         {
          "clade_membership": "85356dd",
          "frequency": 0.9999989999999993,
          "frequency_final": 0.9999869999999996,
          "observed_growth_rate": 0.9999879999880004,
          "timepoint": "2013-10-01T00:00:00"
         },
         {
          "clade_membership": "88dab64",
          "frequency": 0.9999989999999993,
          "frequency_final": 0.9999869999999996,
          "observed_growth_rate": 0.9999879999880004,
          "timepoint": "2013-10-01T00:00:00"
         },
         {
          "clade_membership": "8aaed0b",
          "frequency": 0.9592939999999993,
          "frequency_final": 0.9999869999999996,
          "observed_growth_rate": 1.0424197378488766,
          "timepoint": "2013-10-01T00:00:00"
         },
         {
          "clade_membership": "91769ce",
          "frequency": 0.9999989999999993,
          "frequency_final": 0.9999869999999996,
          "observed_growth_rate": 0.9999879999880004,
          "timepoint": "2013-10-01T00:00:00"
         },
         {
          "clade_membership": "956f201",
          "frequency": 0.9999989999999993,
          "frequency_final": 0.9999869999999996,
          "observed_growth_rate": 0.9999879999880004,
          "timepoint": "2013-10-01T00:00:00"
         },
         {
          "clade_membership": "98c068a",
          "frequency": 0.9999989999999993,
          "frequency_final": 0.9999869999999996,
          "observed_growth_rate": 0.9999879999880004,
          "timepoint": "2013-10-01T00:00:00"
         },
         {
          "clade_membership": "9a3ff5d",
          "frequency": 0.9999989999999993,
          "frequency_final": 0.9999869999999996,
          "observed_growth_rate": 0.9999879999880004,
          "timepoint": "2013-10-01T00:00:00"
         },
         {
          "clade_membership": "9b04f13",
          "frequency": 0.9999989999999993,
          "frequency_final": 0.9999869999999996,
          "observed_growth_rate": 0.9999879999880004,
          "timepoint": "2013-10-01T00:00:00"
         },
         {
          "clade_membership": "a229f16",
          "frequency": 0.9586889999999993,
          "frequency_final": 0.9996219999999997,
          "observed_growth_rate": 1.0426968495518363,
          "timepoint": "2013-10-01T00:00:00"
         },
         {
          "clade_membership": "a5bcb4f",
          "frequency": 0.9999989999999993,
          "frequency_final": 0.9999869999999996,
          "observed_growth_rate": 0.9999879999880004,
          "timepoint": "2013-10-01T00:00:00"
         },
         {
          "clade_membership": "a8f54a9",
          "frequency": 0.9999989999999993,
          "frequency_final": 0.9999869999999996,
          "observed_growth_rate": 0.9999879999880004,
          "timepoint": "2013-10-01T00:00:00"
         },
         {
          "clade_membership": "aab80f6",
          "frequency": 0.9999989999999993,
          "frequency_final": 0.9999869999999996,
          "observed_growth_rate": 0.9999879999880004,
          "timepoint": "2013-10-01T00:00:00"
         },
         {
          "clade_membership": "b32cea9",
          "frequency": 0.9999989999999993,
          "frequency_final": 0.9999869999999996,
          "observed_growth_rate": 0.9999879999880004,
          "timepoint": "2013-10-01T00:00:00"
         },
         {
          "clade_membership": "bfceca0",
          "frequency": 0.9851699999999993,
          "frequency_final": 0,
          "observed_growth_rate": 0,
          "timepoint": "2013-10-01T00:00:00"
         },
         {
          "clade_membership": "c139e7c",
          "frequency": 0.9851699999999993,
          "frequency_final": 0,
          "observed_growth_rate": 0,
          "timepoint": "2013-10-01T00:00:00"
         },
         {
          "clade_membership": "d6906cf",
          "frequency": 0.9999989999999993,
          "frequency_final": 0.9999869999999996,
          "observed_growth_rate": 0.9999879999880004,
          "timepoint": "2013-10-01T00:00:00"
         },
         {
          "clade_membership": "da53a39",
          "frequency": 0.9725559999999992,
          "frequency_final": 0.9999869999999996,
          "observed_growth_rate": 1.0282050596572336,
          "timepoint": "2013-10-01T00:00:00"
         },
         {
          "clade_membership": "e2f3876",
          "frequency": 0.9999989999999993,
          "frequency_final": 0.9999869999999996,
          "observed_growth_rate": 0.9999879999880004,
          "timepoint": "2013-10-01T00:00:00"
         },
         {
          "clade_membership": "e501908",
          "frequency": 0.9999989999999993,
          "frequency_final": 0.9999869999999996,
          "observed_growth_rate": 0.9999879999880004,
          "timepoint": "2013-10-01T00:00:00"
         },
         {
          "clade_membership": "e64cc68",
          "frequency": 0.9999989999999993,
          "frequency_final": 0.9999869999999996,
          "observed_growth_rate": 0.9999879999880004,
          "timepoint": "2013-10-01T00:00:00"
         },
         {
          "clade_membership": "ecf49fd",
          "frequency": 0.9999989999999993,
          "frequency_final": 0.9999869999999996,
          "observed_growth_rate": 0.9999879999880004,
          "timepoint": "2013-10-01T00:00:00"
         },
         {
          "clade_membership": "f2ec31a",
          "frequency": 0.9587609999999994,
          "frequency_final": 0.9999869999999996,
          "observed_growth_rate": 1.042999245901742,
          "timepoint": "2013-10-01T00:00:00"
         },
         {
          "clade_membership": "f3f16af",
          "frequency": 0.9999989999999993,
          "frequency_final": 0.9999869999999996,
          "observed_growth_rate": 0.9999879999880004,
          "timepoint": "2013-10-01T00:00:00"
         },
         {
          "clade_membership": "f8b8996",
          "frequency": 0.9854929999999994,
          "frequency_final": 0,
          "observed_growth_rate": 0,
          "timepoint": "2013-10-01T00:00:00"
         },
         {
          "clade_membership": "fd5608c",
          "frequency": 0.9999989999999993,
          "frequency_final": 0.9999869999999996,
          "observed_growth_rate": 0.9999879999880004,
          "timepoint": "2013-10-01T00:00:00"
         },
         {
          "clade_membership": "root",
          "frequency": 0.9999989999999993,
          "frequency_final": 0.9999869999999996,
          "observed_growth_rate": 0.9999879999880004,
          "timepoint": "2013-10-01T00:00:00"
         },
         {
          "clade_membership": "0003b07",
          "frequency": 1.0000040000000001,
          "frequency_final": 1.000001,
          "observed_growth_rate": 0.9999970000119998,
          "timepoint": "2014-04-01T00:00:00"
         },
         {
          "clade_membership": "0165eeb",
          "frequency": 0.25129300000000004,
          "frequency_final": 0.5220980000000002,
          "observed_growth_rate": 2.0776464127532406,
          "timepoint": "2014-04-01T00:00:00"
         },
         {
          "clade_membership": "02e323e",
          "frequency": 1.0000040000000001,
          "frequency_final": 1.000001,
          "observed_growth_rate": 0.9999970000119998,
          "timepoint": "2014-04-01T00:00:00"
         },
         {
          "clade_membership": "048f8ca",
          "frequency": 1.0000040000000001,
          "frequency_final": 1.000001,
          "observed_growth_rate": 0.9999970000119998,
          "timepoint": "2014-04-01T00:00:00"
         },
         {
          "clade_membership": "05daa66",
          "frequency": 0.9999930000000001,
          "frequency_final": 1.000001,
          "observed_growth_rate": 1.000008000056,
          "timepoint": "2014-04-01T00:00:00"
         },
         {
          "clade_membership": "09e68a2",
          "frequency": 1.0000040000000001,
          "frequency_final": 1.000001,
          "observed_growth_rate": 0.9999970000119998,
          "timepoint": "2014-04-01T00:00:00"
         },
         {
          "clade_membership": "1a16e36",
          "frequency": 0.5424239999999998,
          "frequency_final": 0.17927199999999996,
          "observed_growth_rate": 0.3305016002241789,
          "timepoint": "2014-04-01T00:00:00"
         },
         {
          "clade_membership": "35491c6",
          "frequency": 1.0000040000000001,
          "frequency_final": 1.000001,
          "observed_growth_rate": 0.9999970000119998,
          "timepoint": "2014-04-01T00:00:00"
         },
         {
          "clade_membership": "38da78c",
          "frequency": 0.997028,
          "frequency_final": 1.000001,
          "observed_growth_rate": 1.0029818620941438,
          "timepoint": "2014-04-01T00:00:00"
         },
         {
          "clade_membership": "3a81d99",
          "frequency": 1.0000040000000001,
          "frequency_final": 1.000001,
          "observed_growth_rate": 0.9999970000119998,
          "timepoint": "2014-04-01T00:00:00"
         },
         {
          "clade_membership": "3c0baec",
          "frequency": 1.0000040000000001,
          "frequency_final": 1.000001,
          "observed_growth_rate": 0.9999970000119998,
          "timepoint": "2014-04-01T00:00:00"
         },
         {
          "clade_membership": "412c00a",
          "frequency": 1.0000040000000001,
          "frequency_final": 1.000001,
          "observed_growth_rate": 0.9999970000119998,
          "timepoint": "2014-04-01T00:00:00"
         },
         {
          "clade_membership": "41bb3e2",
          "frequency": 1.0000040000000001,
          "frequency_final": 1.000001,
          "observed_growth_rate": 0.9999970000119998,
          "timepoint": "2014-04-01T00:00:00"
         },
         {
          "clade_membership": "44989e1",
          "frequency": 1.0000040000000001,
          "frequency_final": 1.000001,
          "observed_growth_rate": 0.9999970000119998,
          "timepoint": "2014-04-01T00:00:00"
         },
         {
          "clade_membership": "4952842",
          "frequency": 1.0000040000000001,
          "frequency_final": 1.000001,
          "observed_growth_rate": 0.9999970000119998,
          "timepoint": "2014-04-01T00:00:00"
         },
         {
          "clade_membership": "4ff1302",
          "frequency": 1.0000040000000001,
          "frequency_final": 1.000001,
          "observed_growth_rate": 0.9999970000119998,
          "timepoint": "2014-04-01T00:00:00"
         },
         {
          "clade_membership": "5d01a6e",
          "frequency": 1.0000040000000001,
          "frequency_final": 1.000001,
          "observed_growth_rate": 0.9999970000119998,
          "timepoint": "2014-04-01T00:00:00"
         },
         {
          "clade_membership": "6335574",
          "frequency": 1.0000040000000001,
          "frequency_final": 1.000001,
          "observed_growth_rate": 0.9999970000119998,
          "timepoint": "2014-04-01T00:00:00"
         },
         {
          "clade_membership": "66a66dd",
          "frequency": 0.7455489999999998,
          "frequency_final": 0.47790299999999986,
          "observed_growth_rate": 0.6410081698184827,
          "timepoint": "2014-04-01T00:00:00"
         },
         {
          "clade_membership": "6b0ee12",
          "frequency": 1.0000040000000001,
          "frequency_final": 1.000001,
          "observed_growth_rate": 0.9999970000119998,
          "timepoint": "2014-04-01T00:00:00"
         },
         {
          "clade_membership": "6c1138e",
          "frequency": 0.997028,
          "frequency_final": 1.000001,
          "observed_growth_rate": 1.0029818620941438,
          "timepoint": "2014-04-01T00:00:00"
         },
         {
          "clade_membership": "7a8b37b",
          "frequency": 0.314685,
          "frequency_final": 0.173262,
          "observed_growth_rate": 0.5505886839220173,
          "timepoint": "2014-04-01T00:00:00"
         },
         {
          "clade_membership": "7aa732d",
          "frequency": 1.0000040000000001,
          "frequency_final": 1.000001,
          "observed_growth_rate": 0.9999970000119998,
          "timepoint": "2014-04-01T00:00:00"
         },
         {
          "clade_membership": "7fba9ff",
          "frequency": 0.9999930000000001,
          "frequency_final": 1.000001,
          "observed_growth_rate": 1.000008000056,
          "timepoint": "2014-04-01T00:00:00"
         },
         {
          "clade_membership": "88299f7",
          "frequency": 0.9999930000000001,
          "frequency_final": 1.000001,
          "observed_growth_rate": 1.000008000056,
          "timepoint": "2014-04-01T00:00:00"
         },
         {
          "clade_membership": "88dab64",
          "frequency": 1.0000040000000001,
          "frequency_final": 1.000001,
          "observed_growth_rate": 0.9999970000119998,
          "timepoint": "2014-04-01T00:00:00"
         },
         {
          "clade_membership": "8aaed0b",
          "frequency": 0.997028,
          "frequency_final": 1.000001,
          "observed_growth_rate": 1.0029818620941438,
          "timepoint": "2014-04-01T00:00:00"
         },
         {
          "clade_membership": "8d4351f",
          "frequency": 0.7455489999999998,
          "frequency_final": 0,
          "observed_growth_rate": 0,
          "timepoint": "2014-04-01T00:00:00"
         },
         {
          "clade_membership": "91769ce",
          "frequency": 1.0000040000000001,
          "frequency_final": 1.000001,
          "observed_growth_rate": 0.9999970000119998,
          "timepoint": "2014-04-01T00:00:00"
         },
         {
          "clade_membership": "956f201",
          "frequency": 0.9999930000000001,
          "frequency_final": 1.000001,
          "observed_growth_rate": 1.000008000056,
          "timepoint": "2014-04-01T00:00:00"
         },
         {
          "clade_membership": "98c068a",
          "frequency": 1.0000040000000001,
          "frequency_final": 1.000001,
          "observed_growth_rate": 0.9999970000119998,
          "timepoint": "2014-04-01T00:00:00"
         },
         {
          "clade_membership": "9a3ff5d",
          "frequency": 1.0000040000000001,
          "frequency_final": 1.000001,
          "observed_growth_rate": 0.9999970000119998,
          "timepoint": "2014-04-01T00:00:00"
         },
         {
          "clade_membership": "9b04f13",
          "frequency": 1.0000040000000001,
          "frequency_final": 1.000001,
          "observed_growth_rate": 0.9999970000119998,
          "timepoint": "2014-04-01T00:00:00"
         },
         {
          "clade_membership": "a229f16",
          "frequency": 0.997028,
          "frequency_final": 1.000001,
          "observed_growth_rate": 1.0029818620941438,
          "timepoint": "2014-04-01T00:00:00"
         },
         {
          "clade_membership": "a5bcb4f",
          "frequency": 1.0000040000000001,
          "frequency_final": 1.000001,
          "observed_growth_rate": 0.9999970000119998,
          "timepoint": "2014-04-01T00:00:00"
         },
         {
          "clade_membership": "a8f54a9",
          "frequency": 1.0000040000000001,
          "frequency_final": 1.000001,
          "observed_growth_rate": 0.9999970000119998,
          "timepoint": "2014-04-01T00:00:00"
         },
         {
          "clade_membership": "aab80f6",
          "frequency": 1.0000040000000001,
          "frequency_final": 1.000001,
          "observed_growth_rate": 0.9999970000119998,
          "timepoint": "2014-04-01T00:00:00"
         },
         {
          "clade_membership": "b32cea9",
          "frequency": 1.0000040000000001,
          "frequency_final": 1.000001,
          "observed_growth_rate": 0.9999970000119998,
          "timepoint": "2014-04-01T00:00:00"
         },
         {
          "clade_membership": "c16a08d",
          "frequency": 1.0000040000000001,
          "frequency_final": 1.000001,
          "observed_growth_rate": 0.9999970000119998,
          "timepoint": "2014-04-01T00:00:00"
         },
         {
          "clade_membership": "d6906cf",
          "frequency": 1.0000040000000001,
          "frequency_final": 1.000001,
          "observed_growth_rate": 0.9999970000119998,
          "timepoint": "2014-04-01T00:00:00"
         },
         {
          "clade_membership": "dcc21f5",
          "frequency": 0.152881,
          "frequency_final": 0,
          "observed_growth_rate": 0,
          "timepoint": "2014-04-01T00:00:00"
         },
         {
          "clade_membership": "e2f3876",
          "frequency": 1.0000040000000001,
          "frequency_final": 1.000001,
          "observed_growth_rate": 0.9999970000119998,
          "timepoint": "2014-04-01T00:00:00"
         },
         {
          "clade_membership": "e501908",
          "frequency": 1.0000040000000001,
          "frequency_final": 1.000001,
          "observed_growth_rate": 0.9999970000119998,
          "timepoint": "2014-04-01T00:00:00"
         },
         {
          "clade_membership": "e64cc68",
          "frequency": 1.0000040000000001,
          "frequency_final": 1.000001,
          "observed_growth_rate": 0.9999970000119998,
          "timepoint": "2014-04-01T00:00:00"
         },
         {
          "clade_membership": "ecf49fd",
          "frequency": 1.0000040000000001,
          "frequency_final": 1.000001,
          "observed_growth_rate": 0.9999970000119998,
          "timepoint": "2014-04-01T00:00:00"
         },
         {
          "clade_membership": "f2ec31a",
          "frequency": 0.997028,
          "frequency_final": 1.000001,
          "observed_growth_rate": 1.0029818620941438,
          "timepoint": "2014-04-01T00:00:00"
         },
         {
          "clade_membership": "f3f16af",
          "frequency": 1.0000040000000001,
          "frequency_final": 1.000001,
          "observed_growth_rate": 0.9999970000119998,
          "timepoint": "2014-04-01T00:00:00"
         },
         {
          "clade_membership": "fd5608c",
          "frequency": 1.0000040000000001,
          "frequency_final": 1.000001,
          "observed_growth_rate": 0.9999970000119998,
          "timepoint": "2014-04-01T00:00:00"
         },
         {
          "clade_membership": "root",
          "frequency": 1.0000040000000001,
          "frequency_final": 1.000001,
          "observed_growth_rate": 0.9999970000119998,
          "timepoint": "2014-04-01T00:00:00"
         },
         {
          "clade_membership": "0165eeb",
          "frequency": 0.201301,
          "frequency_final": 0.8551749999999995,
          "observed_growth_rate": 4.248240197515161,
          "timepoint": "2014-10-01T00:00:00"
         },
         {
          "clade_membership": "02e323e",
          "frequency": 0.9999869999999996,
          "frequency_final": 0.9999909999999997,
          "observed_growth_rate": 1.0000040000520007,
          "timepoint": "2014-10-01T00:00:00"
         },
         {
          "clade_membership": "048f8ca",
          "frequency": 0.9999869999999996,
          "frequency_final": 0.9999909999999997,
          "observed_growth_rate": 1.0000040000520007,
          "timepoint": "2014-10-01T00:00:00"
         },
         {
          "clade_membership": "050242e",
          "frequency": 0.9999869999999996,
          "frequency_final": 0,
          "observed_growth_rate": 0,
          "timepoint": "2014-10-01T00:00:00"
         },
         {
          "clade_membership": "05daa66",
          "frequency": 0.9999869999999996,
          "frequency_final": 0.9999909999999997,
          "observed_growth_rate": 1.0000040000520007,
          "timepoint": "2014-10-01T00:00:00"
         },
         {
          "clade_membership": "09e68a2",
          "frequency": 0.9999869999999996,
          "frequency_final": 0.9999909999999997,
          "observed_growth_rate": 1.0000040000520007,
          "timepoint": "2014-10-01T00:00:00"
         },
         {
          "clade_membership": "1a16e36",
          "frequency": 0.7081299999999996,
          "frequency_final": 0.093198,
          "observed_growth_rate": 0.13161142728030173,
          "timepoint": "2014-10-01T00:00:00"
         },
         {
          "clade_membership": "2182cdd",
          "frequency": 0.4099,
          "frequency_final": 0,
          "observed_growth_rate": 0,
          "timepoint": "2014-10-01T00:00:00"
         },
         {
          "clade_membership": "35491c6",
          "frequency": 0.9999869999999996,
          "frequency_final": 0.9999909999999997,
          "observed_growth_rate": 1.0000040000520007,
          "timepoint": "2014-10-01T00:00:00"
         },
         {
          "clade_membership": "38da78c",
          "frequency": 0.9999869999999996,
          "frequency_final": 0.9999909999999997,
          "observed_growth_rate": 1.0000040000520007,
          "timepoint": "2014-10-01T00:00:00"
         },
         {
          "clade_membership": "3a81d99",
          "frequency": 0.9999869999999996,
          "frequency_final": 0.9999909999999997,
          "observed_growth_rate": 1.0000040000520007,
          "timepoint": "2014-10-01T00:00:00"
         },
         {
          "clade_membership": "3c0baec",
          "frequency": 0.9999869999999996,
          "frequency_final": 0,
          "observed_growth_rate": 0,
          "timepoint": "2014-10-01T00:00:00"
         },
         {
          "clade_membership": "412c00a",
          "frequency": 0.9999869999999996,
          "frequency_final": 0,
          "observed_growth_rate": 0,
          "timepoint": "2014-10-01T00:00:00"
         },
         {
          "clade_membership": "41bb3e2",
          "frequency": 0.9999869999999996,
          "frequency_final": 0.9999909999999997,
          "observed_growth_rate": 1.0000040000520007,
          "timepoint": "2014-10-01T00:00:00"
         },
         {
          "clade_membership": "44989e1",
          "frequency": 0.9999869999999996,
          "frequency_final": 0.9999909999999997,
          "observed_growth_rate": 1.0000040000520007,
          "timepoint": "2014-10-01T00:00:00"
         },
         {
          "clade_membership": "4952842",
          "frequency": 0.9999869999999996,
          "frequency_final": 0.9999909999999997,
          "observed_growth_rate": 1.0000040000520007,
          "timepoint": "2014-10-01T00:00:00"
         },
         {
          "clade_membership": "4e35443",
          "frequency": 0.9999869999999996,
          "frequency_final": 0.9999909999999997,
          "observed_growth_rate": 1.0000040000520007,
          "timepoint": "2014-10-01T00:00:00"
         },
         {
          "clade_membership": "4ff1302",
          "frequency": 0.9999869999999996,
          "frequency_final": 0,
          "observed_growth_rate": 0,
          "timepoint": "2014-10-01T00:00:00"
         },
         {
          "clade_membership": "6335574",
          "frequency": 0.9999869999999996,
          "frequency_final": 0.9999909999999997,
          "observed_growth_rate": 1.0000040000520007,
          "timepoint": "2014-10-01T00:00:00"
         },
         {
          "clade_membership": "66a66dd",
          "frequency": 0.7983209999999995,
          "frequency_final": 0.14481600000000003,
          "observed_growth_rate": 0.18140071475008188,
          "timepoint": "2014-10-01T00:00:00"
         },
         {
          "clade_membership": "6b0ee12",
          "frequency": 0.9999869999999996,
          "frequency_final": 0,
          "observed_growth_rate": 0,
          "timepoint": "2014-10-01T00:00:00"
         },
         {
          "clade_membership": "6c1138e",
          "frequency": 0.9999869999999996,
          "frequency_final": 0.9999909999999997,
          "observed_growth_rate": 1.0000040000520007,
          "timepoint": "2014-10-01T00:00:00"
         },
         {
          "clade_membership": "7a8b37b",
          "frequency": 0.21462,
          "frequency_final": 0.093196,
          "observed_growth_rate": 0.4342372565464542,
          "timepoint": "2014-10-01T00:00:00"
         },
         {
          "clade_membership": "7aa732d",
          "frequency": 0.9999869999999996,
          "frequency_final": 0.9999909999999997,
          "observed_growth_rate": 1.0000040000520007,
          "timepoint": "2014-10-01T00:00:00"
         },
         {
          "clade_membership": "7fba9ff",
          "frequency": 0.9999869999999996,
          "frequency_final": 0,
          "observed_growth_rate": 0,
          "timepoint": "2014-10-01T00:00:00"
         },
         {
          "clade_membership": "80897ab",
          "frequency": 0.403345,
          "frequency_final": 0.013746000000000001,
          "observed_growth_rate": 0.03408000595024111,
          "timepoint": "2014-10-01T00:00:00"
         },
         {
          "clade_membership": "80f959a",
          "frequency": 0.15652200000000002,
          "frequency_final": 0.8551749999999995,
          "observed_growth_rate": 5.463608949540635,
          "timepoint": "2014-10-01T00:00:00"
         },
         {
          "clade_membership": "8386d16",
          "frequency": 0.9999869999999996,
          "frequency_final": 0.9999909999999997,
          "observed_growth_rate": 1.0000040000520007,
          "timepoint": "2014-10-01T00:00:00"
         },
         {
          "clade_membership": "8517059",
          "frequency": 0.9999869999999996,
          "frequency_final": 0.9999909999999997,
          "observed_growth_rate": 1.0000040000520007,
          "timepoint": "2014-10-01T00:00:00"
         },
         {
          "clade_membership": "85356dd",
          "frequency": 0.9999869999999996,
          "frequency_final": 0.9999909999999997,
          "observed_growth_rate": 1.0000040000520007,
          "timepoint": "2014-10-01T00:00:00"
         },
         {
          "clade_membership": "88299f7",
          "frequency": 0.9999869999999996,
          "frequency_final": 0,
          "observed_growth_rate": 0,
          "timepoint": "2014-10-01T00:00:00"
         },
         {
          "clade_membership": "88dab64",
          "frequency": 0.9999869999999996,
          "frequency_final": 0.9999909999999997,
          "observed_growth_rate": 1.0000040000520007,
          "timepoint": "2014-10-01T00:00:00"
         },
         {
          "clade_membership": "8aaed0b",
          "frequency": 0.9999869999999996,
          "frequency_final": 0.9999909999999997,
          "observed_growth_rate": 1.0000040000520007,
          "timepoint": "2014-10-01T00:00:00"
         },
         {
          "clade_membership": "8d4351f",
          "frequency": 0.7983209999999995,
          "frequency_final": 0.14481600000000003,
          "observed_growth_rate": 0.18140071475008188,
          "timepoint": "2014-10-01T00:00:00"
         },
         {
          "clade_membership": "91769ce",
          "frequency": 0.9999869999999996,
          "frequency_final": 0.9999909999999997,
          "observed_growth_rate": 1.0000040000520007,
          "timepoint": "2014-10-01T00:00:00"
         },
         {
          "clade_membership": "934e1c1",
          "frequency": 0.15652200000000002,
          "frequency_final": 0,
          "observed_growth_rate": 0,
          "timepoint": "2014-10-01T00:00:00"
         },
         {
          "clade_membership": "956f201",
          "frequency": 0.9999869999999996,
          "frequency_final": 0.9999909999999997,
          "observed_growth_rate": 1.0000040000520007,
          "timepoint": "2014-10-01T00:00:00"
         },
         {
          "clade_membership": "98c068a",
          "frequency": 0.9999869999999996,
          "frequency_final": 0.9999909999999997,
          "observed_growth_rate": 1.0000040000520007,
          "timepoint": "2014-10-01T00:00:00"
         },
         {
          "clade_membership": "9a3ff5d",
          "frequency": 0.9999869999999996,
          "frequency_final": 0.9999909999999997,
          "observed_growth_rate": 1.0000040000520007,
          "timepoint": "2014-10-01T00:00:00"
         },
         {
          "clade_membership": "9b04f13",
          "frequency": 0.9999869999999996,
          "frequency_final": 0.9999909999999997,
          "observed_growth_rate": 1.0000040000520007,
          "timepoint": "2014-10-01T00:00:00"
         },
         {
          "clade_membership": "a229f16",
          "frequency": 0.9996219999999997,
          "frequency_final": 0.9999909999999997,
          "observed_growth_rate": 1.0003691395347443,
          "timepoint": "2014-10-01T00:00:00"
         },
         {
          "clade_membership": "a5bcb4f",
          "frequency": 0.9999869999999996,
          "frequency_final": 0.9999909999999997,
          "observed_growth_rate": 1.0000040000520007,
          "timepoint": "2014-10-01T00:00:00"
         },
         {
          "clade_membership": "aab80f6",
          "frequency": 0.9999869999999996,
          "frequency_final": 0.9999909999999997,
          "observed_growth_rate": 1.0000040000520007,
          "timepoint": "2014-10-01T00:00:00"
         },
         {
          "clade_membership": "b32cea9",
          "frequency": 0.9999869999999996,
          "frequency_final": 0,
          "observed_growth_rate": 0,
          "timepoint": "2014-10-01T00:00:00"
         },
         {
          "clade_membership": "c16a08d",
          "frequency": 0.9999869999999996,
          "frequency_final": 0.9999909999999997,
          "observed_growth_rate": 1.0000040000520007,
          "timepoint": "2014-10-01T00:00:00"
         },
         {
          "clade_membership": "d6906cf",
          "frequency": 0.9999869999999996,
          "frequency_final": 0.9999909999999997,
          "observed_growth_rate": 1.0000040000520007,
          "timepoint": "2014-10-01T00:00:00"
         },
         {
          "clade_membership": "e2f3876",
          "frequency": 0.9999869999999996,
          "frequency_final": 0.9999909999999997,
          "observed_growth_rate": 1.0000040000520007,
          "timepoint": "2014-10-01T00:00:00"
         },
         {
          "clade_membership": "e501908",
          "frequency": 0.9999869999999996,
          "frequency_final": 0.9999909999999997,
          "observed_growth_rate": 1.0000040000520007,
          "timepoint": "2014-10-01T00:00:00"
         },
         {
          "clade_membership": "e64cc68",
          "frequency": 0.9999869999999996,
          "frequency_final": 0.9999909999999997,
          "observed_growth_rate": 1.0000040000520007,
          "timepoint": "2014-10-01T00:00:00"
         },
         {
          "clade_membership": "ecf49fd",
          "frequency": 0.9999869999999996,
          "frequency_final": 0.9999909999999997,
          "observed_growth_rate": 1.0000040000520007,
          "timepoint": "2014-10-01T00:00:00"
         },
         {
          "clade_membership": "f14fabc",
          "frequency": 0.16719400000000004,
          "frequency_final": 0.8551749999999995,
          "observed_growth_rate": 5.114866562197204,
          "timepoint": "2014-10-01T00:00:00"
         },
         {
          "clade_membership": "f2ec31a",
          "frequency": 0.9999869999999996,
          "frequency_final": 0.9999909999999997,
          "observed_growth_rate": 1.0000040000520007,
          "timepoint": "2014-10-01T00:00:00"
         },
         {
          "clade_membership": "f321e53",
          "frequency": 0.9999869999999996,
          "frequency_final": 0.9999909999999997,
          "observed_growth_rate": 1.0000040000520007,
          "timepoint": "2014-10-01T00:00:00"
         },
         {
          "clade_membership": "f3f16af",
          "frequency": 0.9999869999999996,
          "frequency_final": 0.9999909999999997,
          "observed_growth_rate": 1.0000040000520007,
          "timepoint": "2014-10-01T00:00:00"
         },
         {
          "clade_membership": "fd5608c",
          "frequency": 0.9999869999999996,
          "frequency_final": 0.9999909999999997,
          "observed_growth_rate": 1.0000040000520007,
          "timepoint": "2014-10-01T00:00:00"
         },
         {
          "clade_membership": "root",
          "frequency": 0.9999869999999996,
          "frequency_final": 0.9999909999999997,
          "observed_growth_rate": 1.0000040000520007,
          "timepoint": "2014-10-01T00:00:00"
         }
        ]
       },
       "encoding": {
        "x": {
         "bin": true,
         "field": "observed_growth_rate",
         "title": "Observed growth rate",
         "type": "quantitative"
        },
        "y": {
         "aggregate": "count",
         "type": "quantitative"
        }
       },
       "mark": "rect"
      },
      "image/png": "[encoded data removed]",
      "text/plain": [
       "<VegaLite 3 object>\n",
       "\n",
       "If you see this message, it means the renderer has not been properly enabled\n",
       "for the frontend that you are using. For more information, see\n",
       "https://altair-viz.github.io/user_guide/troubleshooting.html\n"
      ]
     },
     "execution_count": 26,
     "metadata": {},
     "output_type": "execute_result"
    }
   ],
   "source": [
    "alt.Chart(initial_and_observed_clade_frequencies).mark_rect().encode(\n",
    "    x=alt.X(\"observed_growth_rate:Q\", bin=True, title=\"Observed growth rate\"),\n",
    "    y=\"count()\"\n",
    ")"
   ]
  },
  {
   "cell_type": "markdown",
   "metadata": {},
   "source": [
    "## Find estimated future frequencies of large clades\n",
    "\n",
    "Use the LBI model as an example, first."
   ]
  },
  {
   "cell_type": "code",
   "execution_count": 27,
   "metadata": {},
   "outputs": [],
   "source": [
    "clade_tip_estimated_frequencies = tips_to_clades.merge(\n",
    "    forecasts,\n",
    "    how=\"left\",\n",
    "    left_on=[\"timepoint\", \"tip\"],\n",
    "    right_on=[\"timepoint\", \"strain\"]\n",
    ").drop(columns=[\"depth\", \"strain\", \"fitness\"])"
   ]
  },
  {
   "cell_type": "code",
   "execution_count": 28,
   "metadata": {},
   "outputs": [],
   "source": [
    "clade_tip_estimated_frequencies = clade_tip_estimated_frequencies.fillna(0.0).copy()"
   ]
  },
  {
   "cell_type": "code",
   "execution_count": 29,
   "metadata": {},
   "outputs": [
    {
     "data": {
      "text/html": [
       "<div>\n",
       "<style scoped>\n",
       "    .dataframe tbody tr th:only-of-type {\n",
       "        vertical-align: middle;\n",
       "    }\n",
       "\n",
       "    .dataframe tbody tr th {\n",
       "        vertical-align: top;\n",
       "    }\n",
       "\n",
       "    .dataframe thead th {\n",
       "        text-align: right;\n",
       "    }\n",
       "</style>\n",
       "<table border=\"1\" class=\"dataframe\">\n",
       "  <thead>\n",
       "    <tr style=\"text-align: right;\">\n",
       "      <th></th>\n",
       "      <th>tip</th>\n",
       "      <th>clade_membership</th>\n",
       "      <th>timepoint</th>\n",
       "      <th>frequency</th>\n",
       "      <th>projected_frequency</th>\n",
       "    </tr>\n",
       "  </thead>\n",
       "  <tbody>\n",
       "    <tr>\n",
       "      <th>0</th>\n",
       "      <td>A/Jitie/1/1995</td>\n",
       "      <td>318c503</td>\n",
       "      <td>1995-10-01</td>\n",
       "      <td>0.000164</td>\n",
       "      <td>0.000022</td>\n",
       "    </tr>\n",
       "    <tr>\n",
       "      <th>1</th>\n",
       "      <td>A/Jitie/1/1995</td>\n",
       "      <td>8e08f7f</td>\n",
       "      <td>1995-10-01</td>\n",
       "      <td>0.000164</td>\n",
       "      <td>0.000022</td>\n",
       "    </tr>\n",
       "    <tr>\n",
       "      <th>2</th>\n",
       "      <td>A/Jitie/1/1995</td>\n",
       "      <td>root</td>\n",
       "      <td>1995-10-01</td>\n",
       "      <td>0.000164</td>\n",
       "      <td>0.000022</td>\n",
       "    </tr>\n",
       "    <tr>\n",
       "      <th>3</th>\n",
       "      <td>A/NewYork/654/1994</td>\n",
       "      <td>3ce6939</td>\n",
       "      <td>1995-10-01</td>\n",
       "      <td>0.000000</td>\n",
       "      <td>0.000000</td>\n",
       "    </tr>\n",
       "    <tr>\n",
       "      <th>4</th>\n",
       "      <td>A/NewYork/654/1994</td>\n",
       "      <td>509b83b</td>\n",
       "      <td>1995-10-01</td>\n",
       "      <td>0.000000</td>\n",
       "      <td>0.000000</td>\n",
       "    </tr>\n",
       "  </tbody>\n",
       "</table>\n",
       "</div>"
      ],
      "text/plain": [
       "                  tip clade_membership  timepoint  frequency  \\\n",
       "0      A/Jitie/1/1995          318c503 1995-10-01   0.000164   \n",
       "1      A/Jitie/1/1995          8e08f7f 1995-10-01   0.000164   \n",
       "2      A/Jitie/1/1995             root 1995-10-01   0.000164   \n",
       "3  A/NewYork/654/1994          3ce6939 1995-10-01   0.000000   \n",
       "4  A/NewYork/654/1994          509b83b 1995-10-01   0.000000   \n",
       "\n",
       "   projected_frequency  \n",
       "0             0.000022  \n",
       "1             0.000022  \n",
       "2             0.000022  \n",
       "3             0.000000  \n",
       "4             0.000000  "
      ]
     },
     "execution_count": 29,
     "metadata": {},
     "output_type": "execute_result"
    }
   ],
   "source": [
    "clade_tip_estimated_frequencies.head()"
   ]
  },
  {
   "cell_type": "code",
   "execution_count": 30,
   "metadata": {},
   "outputs": [],
   "source": [
    "estimated_clade_frequencies = clade_tip_estimated_frequencies.groupby(\n",
    "    [\"timepoint\", \"clade_membership\"]\n",
    ").aggregate({\"projected_frequency\": \"sum\", \"frequency\": \"sum\"}).reset_index()"
   ]
  },
  {
   "cell_type": "code",
   "execution_count": 31,
   "metadata": {},
   "outputs": [
    {
     "data": {
      "text/html": [
       "<div>\n",
       "<style scoped>\n",
       "    .dataframe tbody tr th:only-of-type {\n",
       "        vertical-align: middle;\n",
       "    }\n",
       "\n",
       "    .dataframe tbody tr th {\n",
       "        vertical-align: top;\n",
       "    }\n",
       "\n",
       "    .dataframe thead th {\n",
       "        text-align: right;\n",
       "    }\n",
       "</style>\n",
       "<table border=\"1\" class=\"dataframe\">\n",
       "  <thead>\n",
       "    <tr style=\"text-align: right;\">\n",
       "      <th></th>\n",
       "      <th>timepoint</th>\n",
       "      <th>clade_membership</th>\n",
       "      <th>projected_frequency</th>\n",
       "      <th>frequency</th>\n",
       "    </tr>\n",
       "  </thead>\n",
       "  <tbody>\n",
       "    <tr>\n",
       "      <th>0</th>\n",
       "      <td>1995-10-01</td>\n",
       "      <td>02e323e</td>\n",
       "      <td>0.038369</td>\n",
       "      <td>0.154225</td>\n",
       "    </tr>\n",
       "    <tr>\n",
       "      <th>1</th>\n",
       "      <td>1995-10-01</td>\n",
       "      <td>0451ac2</td>\n",
       "      <td>0.101271</td>\n",
       "      <td>0.038982</td>\n",
       "    </tr>\n",
       "    <tr>\n",
       "      <th>2</th>\n",
       "      <td>1995-10-01</td>\n",
       "      <td>0734650</td>\n",
       "      <td>0.000436</td>\n",
       "      <td>0.003272</td>\n",
       "    </tr>\n",
       "    <tr>\n",
       "      <th>3</th>\n",
       "      <td>1995-10-01</td>\n",
       "      <td>0acf798</td>\n",
       "      <td>0.047649</td>\n",
       "      <td>0.044474</td>\n",
       "    </tr>\n",
       "    <tr>\n",
       "      <th>4</th>\n",
       "      <td>1995-10-01</td>\n",
       "      <td>1a74f77</td>\n",
       "      <td>0.049959</td>\n",
       "      <td>0.188457</td>\n",
       "    </tr>\n",
       "  </tbody>\n",
       "</table>\n",
       "</div>"
      ],
      "text/plain": [
       "   timepoint clade_membership  projected_frequency  frequency\n",
       "0 1995-10-01          02e323e             0.038369   0.154225\n",
       "1 1995-10-01          0451ac2             0.101271   0.038982\n",
       "2 1995-10-01          0734650             0.000436   0.003272\n",
       "3 1995-10-01          0acf798             0.047649   0.044474\n",
       "4 1995-10-01          1a74f77             0.049959   0.188457"
      ]
     },
     "execution_count": 31,
     "metadata": {},
     "output_type": "execute_result"
    }
   ],
   "source": [
    "estimated_clade_frequencies.head()"
   ]
  },
  {
   "cell_type": "code",
   "execution_count": 32,
   "metadata": {},
   "outputs": [],
   "source": [
    "complete_clade_frequencies = initial_and_observed_clade_frequencies.merge(\n",
    "    estimated_clade_frequencies,\n",
    "    on=[\"timepoint\", \"clade_membership\"],\n",
    "    suffixes=[\"\", \"_other\"]\n",
    ")"
   ]
  },
  {
   "cell_type": "code",
   "execution_count": 33,
   "metadata": {},
   "outputs": [],
   "source": [
    "complete_clade_frequencies[\"estimated_growth_rate\"] = (\n",
    "    complete_clade_frequencies[\"projected_frequency\"] / complete_clade_frequencies[\"frequency\"]\n",
    ")"
   ]
  },
  {
   "cell_type": "code",
   "execution_count": 34,
   "metadata": {},
   "outputs": [],
   "source": [
    "complete_clade_frequencies[\"year\"] = complete_clade_frequencies[\"timepoint\"].dt.year"
   ]
  },
  {
   "cell_type": "code",
   "execution_count": 35,
   "metadata": {},
   "outputs": [
    {
     "data": {
      "text/html": [
       "<div>\n",
       "<style scoped>\n",
       "    .dataframe tbody tr th:only-of-type {\n",
       "        vertical-align: middle;\n",
       "    }\n",
       "\n",
       "    .dataframe tbody tr th {\n",
       "        vertical-align: top;\n",
       "    }\n",
       "\n",
       "    .dataframe thead th {\n",
       "        text-align: right;\n",
       "    }\n",
       "</style>\n",
       "<table border=\"1\" class=\"dataframe\">\n",
       "  <thead>\n",
       "    <tr style=\"text-align: right;\">\n",
       "      <th></th>\n",
       "      <th>timepoint</th>\n",
       "      <th>clade_membership</th>\n",
       "      <th>frequency</th>\n",
       "      <th>frequency_final</th>\n",
       "      <th>observed_growth_rate</th>\n",
       "      <th>projected_frequency</th>\n",
       "      <th>frequency_other</th>\n",
       "      <th>estimated_growth_rate</th>\n",
       "      <th>year</th>\n",
       "    </tr>\n",
       "  </thead>\n",
       "  <tbody>\n",
       "    <tr>\n",
       "      <th>0</th>\n",
       "      <td>2002-10-01</td>\n",
       "      <td>02e323e</td>\n",
       "      <td>1.000002</td>\n",
       "      <td>1.000005</td>\n",
       "      <td>1.000003</td>\n",
       "      <td>1.000000</td>\n",
       "      <td>1.000002</td>\n",
       "      <td>0.999998</td>\n",
       "      <td>2002</td>\n",
       "    </tr>\n",
       "    <tr>\n",
       "      <th>1</th>\n",
       "      <td>2002-10-01</td>\n",
       "      <td>048f8ca</td>\n",
       "      <td>1.000002</td>\n",
       "      <td>1.000005</td>\n",
       "      <td>1.000003</td>\n",
       "      <td>1.000000</td>\n",
       "      <td>1.000002</td>\n",
       "      <td>0.999998</td>\n",
       "      <td>2002</td>\n",
       "    </tr>\n",
       "    <tr>\n",
       "      <th>2</th>\n",
       "      <td>2002-10-01</td>\n",
       "      <td>05a6dc1</td>\n",
       "      <td>0.517050</td>\n",
       "      <td>0.134300</td>\n",
       "      <td>0.259743</td>\n",
       "      <td>0.414129</td>\n",
       "      <td>0.517050</td>\n",
       "      <td>0.800945</td>\n",
       "      <td>2002</td>\n",
       "    </tr>\n",
       "    <tr>\n",
       "      <th>3</th>\n",
       "      <td>2002-10-01</td>\n",
       "      <td>09e68a2</td>\n",
       "      <td>1.000002</td>\n",
       "      <td>1.000005</td>\n",
       "      <td>1.000003</td>\n",
       "      <td>1.000000</td>\n",
       "      <td>1.000002</td>\n",
       "      <td>0.999998</td>\n",
       "      <td>2002</td>\n",
       "    </tr>\n",
       "    <tr>\n",
       "      <th>4</th>\n",
       "      <td>2002-10-01</td>\n",
       "      <td>35491c6</td>\n",
       "      <td>1.000002</td>\n",
       "      <td>1.000005</td>\n",
       "      <td>1.000003</td>\n",
       "      <td>1.000000</td>\n",
       "      <td>1.000002</td>\n",
       "      <td>0.999998</td>\n",
       "      <td>2002</td>\n",
       "    </tr>\n",
       "  </tbody>\n",
       "</table>\n",
       "</div>"
      ],
      "text/plain": [
       "   timepoint clade_membership  frequency  frequency_final  \\\n",
       "0 2002-10-01          02e323e   1.000002         1.000005   \n",
       "1 2002-10-01          048f8ca   1.000002         1.000005   \n",
       "2 2002-10-01          05a6dc1   0.517050         0.134300   \n",
       "3 2002-10-01          09e68a2   1.000002         1.000005   \n",
       "4 2002-10-01          35491c6   1.000002         1.000005   \n",
       "\n",
       "   observed_growth_rate  projected_frequency  frequency_other  \\\n",
       "0              1.000003             1.000000         1.000002   \n",
       "1              1.000003             1.000000         1.000002   \n",
       "2              0.259743             0.414129         0.517050   \n",
       "3              1.000003             1.000000         1.000002   \n",
       "4              1.000003             1.000000         1.000002   \n",
       "\n",
       "   estimated_growth_rate  year  \n",
       "0               0.999998  2002  \n",
       "1               0.999998  2002  \n",
       "2               0.800945  2002  \n",
       "3               0.999998  2002  \n",
       "4               0.999998  2002  "
      ]
     },
     "execution_count": 35,
     "metadata": {},
     "output_type": "execute_result"
    }
   ],
   "source": [
    "complete_clade_frequencies.head()"
   ]
  },
  {
   "cell_type": "code",
   "execution_count": 36,
   "metadata": {},
   "outputs": [
    {
     "data": {
      "text/plain": [
       "(912, 9)"
      ]
     },
     "execution_count": 36,
     "metadata": {},
     "output_type": "execute_result"
    }
   ],
   "source": [
    "complete_clade_frequencies.shape"
   ]
  },
  {
   "cell_type": "code",
   "execution_count": 37,
   "metadata": {},
   "outputs": [],
   "source": [
    "r, p = pearsonr(\n",
    "    complete_clade_frequencies[\"observed_growth_rate\"],\n",
    "    complete_clade_frequencies[\"estimated_growth_rate\"]\n",
    ")"
   ]
  },
  {
   "cell_type": "code",
   "execution_count": 38,
   "metadata": {},
   "outputs": [],
   "source": [
    "mcc, confusion_matrix = get_matthews_correlation_coefficient_for_data_frame(complete_clade_frequencies, True)"
   ]
  },
  {
   "cell_type": "code",
   "execution_count": 39,
   "metadata": {},
   "outputs": [
    {
     "data": {
      "text/plain": [
       "0.49067418821884196"
      ]
     },
     "execution_count": 39,
     "metadata": {},
     "output_type": "execute_result"
    }
   ],
   "source": [
    "mcc"
   ]
  },
  {
   "cell_type": "code",
   "execution_count": 40,
   "metadata": {},
   "outputs": [
    {
     "data": {
      "text/plain": [
       "0.68760907504363"
      ]
     },
     "execution_count": 40,
     "metadata": {},
     "output_type": "execute_result"
    }
   ],
   "source": [
    "confusion_matrix[\"tp\"] / float(confusion_matrix[\"tp\"] + confusion_matrix[\"fp\"])"
   ]
  },
  {
   "cell_type": "code",
   "execution_count": 41,
   "metadata": {},
   "outputs": [
    {
     "data": {
      "text/plain": [
       "0.8200589970501475"
      ]
     },
     "execution_count": 41,
     "metadata": {},
     "output_type": "execute_result"
    }
   ],
   "source": [
    "confusion_matrix[\"tn\"] / float(confusion_matrix[\"tn\"] + confusion_matrix[\"fn\"])"
   ]
  },
  {
   "cell_type": "code",
   "execution_count": 42,
   "metadata": {},
   "outputs": [],
   "source": [
    "min_growth_rate = 0\n",
    "max_growth_rate = complete_clade_frequencies.loc[:, [\"observed_growth_rate\", \"estimated_growth_rate\"]].max().max() + 0.2"
   ]
  },
  {
   "cell_type": "code",
   "execution_count": 45,
   "metadata": {},
   "outputs": [
    {
     "data": {
      "application/vnd.vegalite.v3+json": {
       "$schema": "https://vega.github.io/schema/vega-lite/v3.3.0.json",
       "config": {
        "mark": {
         "tooltip": null
        },
        "view": {
         "height": 300,
         "width": 400
        }
       },
       "data": {
        "name": "data-6f9b3149a89f6aa0b8d2d918b5f79424"
       },
       "datasets": {
        "data-6f9b3149a89f6aa0b8d2d918b5f79424": [
         {
          "clade_membership": "02e323e",
          "estimated_growth_rate": 0.9999980000039994,
          "frequency": 1.0000020000000005,
          "frequency_final": 1.000005,
          "frequency_other": 1.0000020000000005,
          "observed_growth_rate": 1.0000029999939994,
          "projected_frequency": 0.9999999999999999,
          "timepoint": "2002-10-01T00:00:00",
          "year": 2002
         },
         {
          "clade_membership": "048f8ca",
          "estimated_growth_rate": 0.9999980000039994,
          "frequency": 1.0000020000000005,
          "frequency_final": 1.000005,
          "frequency_other": 1.0000020000000005,
          "observed_growth_rate": 1.0000029999939994,
          "projected_frequency": 0.9999999999999999,
          "timepoint": "2002-10-01T00:00:00",
          "year": 2002
         },
         {
          "clade_membership": "05a6dc1",
          "estimated_growth_rate": 0.8009450228769487,
          "frequency": 0.5170499999999999,
          "frequency_final": 0.1343,
          "frequency_other": 0.5170499999999999,
          "observed_growth_rate": 0.25974277149211883,
          "projected_frequency": 0.41412862407852624,
          "timepoint": "2002-10-01T00:00:00",
          "year": 2002
         },
         {
          "clade_membership": "09e68a2",
          "estimated_growth_rate": 0.9999980000039994,
          "frequency": 1.0000020000000005,
          "frequency_final": 1.000005,
          "frequency_other": 1.0000020000000005,
          "observed_growth_rate": 1.0000029999939994,
          "projected_frequency": 0.9999999999999999,
          "timepoint": "2002-10-01T00:00:00",
          "year": 2002
         },
         {
          "clade_membership": "35491c6",
          "estimated_growth_rate": 0.9999980000039994,
          "frequency": 1.0000020000000005,
          "frequency_final": 1.000005,
          "frequency_other": 1.0000020000000005,
          "observed_growth_rate": 1.0000029999939994,
          "projected_frequency": 0.9999999999999999,
          "timepoint": "2002-10-01T00:00:00",
          "year": 2002
         },
         {
          "clade_membership": "4e35443",
          "estimated_growth_rate": 1.8107255721098205,
          "frequency": 0.321328,
          "frequency_final": 0.8657050000000003,
          "frequency_other": 0.321328,
          "observed_growth_rate": 2.694147413235075,
          "projected_frequency": 0.5818368266349044,
          "timepoint": "2002-10-01T00:00:00",
          "year": 2002
         },
         {
          "clade_membership": "5bed3da",
          "estimated_growth_rate": 0.8260703674818551,
          "frequency": 0.5012859999999998,
          "frequency_final": 0.07306499999999999,
          "frequency_other": 0.5012859999999998,
          "observed_growth_rate": 0.14575511783692346,
          "projected_frequency": 0.41409751023350905,
          "timepoint": "2002-10-01T00:00:00",
          "year": 2002
         },
         {
          "clade_membership": "6335574",
          "estimated_growth_rate": 1.2905157683335935,
          "frequency": 0.45393900000000004,
          "frequency_final": 0.8657050000000003,
          "frequency_other": 0.45393900000000004,
          "observed_growth_rate": 1.9070954467450476,
          "projected_frequency": 0.5858154373615831,
          "timepoint": "2002-10-01T00:00:00",
          "year": 2002
         },
         {
          "clade_membership": "655ae51",
          "estimated_growth_rate": 2.221439481661858,
          "frequency": 0.18238300000000002,
          "frequency_final": 0,
          "frequency_other": 0.18238300000000002,
          "observed_growth_rate": 0,
          "projected_frequency": 0.4051527969839347,
          "timepoint": "2002-10-01T00:00:00",
          "year": 2002
         },
         {
          "clade_membership": "8386d16",
          "estimated_growth_rate": 1.4589102077505034,
          "frequency": 0.162714,
          "frequency_final": 0.8656660000000003,
          "frequency_other": 0.162714,
          "observed_growth_rate": 5.320169131113489,
          "projected_frequency": 0.23738511554391542,
          "timepoint": "2002-10-01T00:00:00",
          "year": 2002
         },
         {
          "clade_membership": "85356dd",
          "estimated_growth_rate": 1.5503978323503842,
          "frequency": 0.153084,
          "frequency_final": 0.8656600000000003,
          "frequency_other": 0.153084,
          "observed_growth_rate": 5.6548038985132365,
          "projected_frequency": 0.2373411017675262,
          "timepoint": "2002-10-01T00:00:00",
          "year": 2002
         },
         {
          "clade_membership": "88dab64",
          "estimated_growth_rate": 0.9999980000039994,
          "frequency": 1.0000020000000005,
          "frequency_final": 1.000005,
          "frequency_other": 1.0000020000000005,
          "observed_growth_rate": 1.0000029999939994,
          "projected_frequency": 0.9999999999999999,
          "timepoint": "2002-10-01T00:00:00",
          "year": 2002
         },
         {
          "clade_membership": "98c068a",
          "estimated_growth_rate": 0.9999980000039994,
          "frequency": 1.0000020000000005,
          "frequency_final": 1.000005,
          "frequency_other": 1.0000020000000005,
          "observed_growth_rate": 1.0000029999939994,
          "projected_frequency": 0.9999999999999999,
          "timepoint": "2002-10-01T00:00:00",
          "year": 2002
         },
         {
          "clade_membership": "9a3ff5d",
          "estimated_growth_rate": 1.2905157683335935,
          "frequency": 0.45393900000000004,
          "frequency_final": 0.8657050000000003,
          "frequency_other": 0.45393900000000004,
          "observed_growth_rate": 1.9070954467450476,
          "projected_frequency": 0.5858154373615831,
          "timepoint": "2002-10-01T00:00:00",
          "year": 2002
         },
         {
          "clade_membership": "a5bcb4f",
          "estimated_growth_rate": 1.2905157683335935,
          "frequency": 0.45393900000000004,
          "frequency_final": 0.8657050000000003,
          "frequency_other": 0.45393900000000004,
          "observed_growth_rate": 1.9070954467450476,
          "projected_frequency": 0.5858154373615831,
          "timepoint": "2002-10-01T00:00:00",
          "year": 2002
         },
         {
          "clade_membership": "aab80f6",
          "estimated_growth_rate": 1.2905157683335935,
          "frequency": 0.45393900000000004,
          "frequency_final": 0.8657050000000003,
          "frequency_other": 0.45393900000000004,
          "observed_growth_rate": 1.9070954467450476,
          "projected_frequency": 0.5858154373615831,
          "timepoint": "2002-10-01T00:00:00",
          "year": 2002
         },
         {
          "clade_membership": "d6906cf",
          "estimated_growth_rate": 0.9999980000039994,
          "frequency": 1.0000020000000005,
          "frequency_final": 1.000005,
          "frequency_other": 1.0000020000000005,
          "observed_growth_rate": 1.0000029999939994,
          "projected_frequency": 0.9999999999999999,
          "timepoint": "2002-10-01T00:00:00",
          "year": 2002
         },
         {
          "clade_membership": "d7fecad",
          "estimated_growth_rate": 0.9999980000039994,
          "frequency": 1.0000020000000005,
          "frequency_final": 1.000005,
          "frequency_other": 1.0000020000000005,
          "observed_growth_rate": 1.0000029999939994,
          "projected_frequency": 0.9999999999999999,
          "timepoint": "2002-10-01T00:00:00",
          "year": 2002
         },
         {
          "clade_membership": "e2f3876",
          "estimated_growth_rate": 0.9999980000039994,
          "frequency": 1.0000020000000005,
          "frequency_final": 1.000005,
          "frequency_other": 1.0000020000000005,
          "observed_growth_rate": 1.0000029999939994,
          "projected_frequency": 0.9999999999999999,
          "timepoint": "2002-10-01T00:00:00",
          "year": 2002
         },
         {
          "clade_membership": "e501908",
          "estimated_growth_rate": 0.9999980000039994,
          "frequency": 1.0000020000000005,
          "frequency_final": 1.000005,
          "frequency_other": 1.0000020000000005,
          "observed_growth_rate": 1.0000029999939994,
          "projected_frequency": 0.9999999999999999,
          "timepoint": "2002-10-01T00:00:00",
          "year": 2002
         },
         {
          "clade_membership": "e64cc68",
          "estimated_growth_rate": 0.9999980000039994,
          "frequency": 1.0000020000000005,
          "frequency_final": 1.000005,
          "frequency_other": 1.0000020000000005,
          "observed_growth_rate": 1.0000029999939994,
          "projected_frequency": 0.9999999999999999,
          "timepoint": "2002-10-01T00:00:00",
          "year": 2002
         },
         {
          "clade_membership": "ecf49fd",
          "estimated_growth_rate": 0.9999980000039994,
          "frequency": 1.0000020000000005,
          "frequency_final": 1.000005,
          "frequency_other": 1.0000020000000005,
          "observed_growth_rate": 1.0000029999939994,
          "projected_frequency": 0.9999999999999999,
          "timepoint": "2002-10-01T00:00:00",
          "year": 2002
         },
         {
          "clade_membership": "f3f16af",
          "estimated_growth_rate": 0.9999980000039994,
          "frequency": 1.0000020000000005,
          "frequency_final": 1.000005,
          "frequency_other": 1.0000020000000005,
          "observed_growth_rate": 1.0000029999939994,
          "projected_frequency": 0.9999999999999999,
          "timepoint": "2002-10-01T00:00:00",
          "year": 2002
         },
         {
          "clade_membership": "fbbd597",
          "estimated_growth_rate": 0.004953004455728521,
          "frequency": 0.150334,
          "frequency_final": 0.048646999999999996,
          "frequency_other": 0.150334,
          "observed_growth_rate": 0.32359280003192886,
          "projected_frequency": 0.0007446049718474915,
          "timepoint": "2002-10-01T00:00:00",
          "year": 2002
         },
         {
          "clade_membership": "fd5608c",
          "estimated_growth_rate": 1.2905157683335935,
          "frequency": 0.45393900000000004,
          "frequency_final": 0.8657050000000003,
          "frequency_other": 0.45393900000000004,
          "observed_growth_rate": 1.9070954467450476,
          "projected_frequency": 0.5858154373615831,
          "timepoint": "2002-10-01T00:00:00",
          "year": 2002
         },
         {
          "clade_membership": "root",
          "estimated_growth_rate": 0.9999980000039994,
          "frequency": 1.0000020000000005,
          "frequency_final": 1.000005,
          "frequency_other": 1.0000020000000005,
          "observed_growth_rate": 1.0000029999939994,
          "projected_frequency": 0.9999999999999999,
          "timepoint": "2002-10-01T00:00:00",
          "year": 2002
         },
         {
          "clade_membership": "0252ba2",
          "estimated_growth_rate": 0.002166796857720659,
          "frequency": 0.18955099999999997,
          "frequency_final": 0,
          "frequency_other": 0.18955099999999997,
          "observed_growth_rate": 0,
          "projected_frequency": 0.0004107185111778086,
          "timepoint": "2003-04-01T00:00:00",
          "year": 2003
         },
         {
          "clade_membership": "02e323e",
          "estimated_growth_rate": 1.0000010000010007,
          "frequency": 0.9999989999999996,
          "frequency_final": 0.9999960000000001,
          "frequency_other": 0.9999989999999996,
          "observed_growth_rate": 0.9999969999970004,
          "projected_frequency": 1.0000000000000002,
          "timepoint": "2003-04-01T00:00:00",
          "year": 2003
         },
         {
          "clade_membership": "048f8ca",
          "estimated_growth_rate": 1.0000010000010007,
          "frequency": 0.9999989999999996,
          "frequency_final": 0.9999960000000001,
          "frequency_other": 0.9999989999999996,
          "observed_growth_rate": 0.9999969999970004,
          "projected_frequency": 1.0000000000000002,
          "timepoint": "2003-04-01T00:00:00",
          "year": 2003
         },
         {
          "clade_membership": "05a6dc1",
          "estimated_growth_rate": 0.002166796857720659,
          "frequency": 0.18955099999999997,
          "frequency_final": 0.0045379999999999995,
          "frequency_other": 0.18955099999999997,
          "observed_growth_rate": 0.023940786384666925,
          "projected_frequency": 0.0004107185111778086,
          "timepoint": "2003-04-01T00:00:00",
          "year": 2003
         },
         {
          "clade_membership": "09e68a2",
          "estimated_growth_rate": 1.0000010000010007,
          "frequency": 0.9999989999999996,
          "frequency_final": 0.9999960000000001,
          "frequency_other": 0.9999989999999996,
          "observed_growth_rate": 0.9999969999970004,
          "projected_frequency": 1.0000000000000002,
          "timepoint": "2003-04-01T00:00:00",
          "year": 2003
         },
         {
          "clade_membership": "10c52e0",
          "estimated_growth_rate": 0.002166796857720659,
          "frequency": 0.18955099999999997,
          "frequency_final": 0,
          "frequency_other": 0.18955099999999997,
          "observed_growth_rate": 0,
          "projected_frequency": 0.0004107185111778086,
          "timepoint": "2003-04-01T00:00:00",
          "year": 2003
         },
         {
          "clade_membership": "129af49",
          "estimated_growth_rate": 1.3750213490248644,
          "frequency": 0.7268219999999997,
          "frequency_final": 0.995458,
          "frequency_other": 0.7268219999999997,
          "observed_growth_rate": 1.3696035618074305,
          "projected_frequency": 0.9993957669409497,
          "timepoint": "2003-04-01T00:00:00",
          "year": 2003
         },
         {
          "clade_membership": "35491c6",
          "estimated_growth_rate": 1.0000010000010007,
          "frequency": 0.9999989999999996,
          "frequency_final": 0.9999960000000001,
          "frequency_other": 0.9999989999999996,
          "observed_growth_rate": 0.9999969999970004,
          "projected_frequency": 1.0000000000000002,
          "timepoint": "2003-04-01T00:00:00",
          "year": 2003
         },
         {
          "clade_membership": "4e35443",
          "estimated_growth_rate": 1.3118242065056804,
          "frequency": 0.7619109999999997,
          "frequency_final": 0.995458,
          "frequency_other": 0.7619109999999997,
          "observed_growth_rate": 1.3065279278025916,
          "projected_frequency": 0.999493293002949,
          "timepoint": "2003-04-01T00:00:00",
          "year": 2003
         },
         {
          "clade_membership": "6335574",
          "estimated_growth_rate": 1.311654074106121,
          "frequency": 0.7620099999999996,
          "frequency_final": 0.995458,
          "frequency_other": 0.7620099999999996,
          "observed_growth_rate": 1.3063581842757974,
          "projected_frequency": 0.9994935210096046,
          "timepoint": "2003-04-01T00:00:00",
          "year": 2003
         },
         {
          "clade_membership": "7dfbda8",
          "estimated_growth_rate": 0.002166796857720659,
          "frequency": 0.18955099999999997,
          "frequency_final": 0,
          "frequency_other": 0.18955099999999997,
          "observed_growth_rate": 0,
          "projected_frequency": 0.0004107185111778086,
          "timepoint": "2003-04-01T00:00:00",
          "year": 2003
         },
         {
          "clade_membership": "8386d16",
          "estimated_growth_rate": 1.364514883177219,
          "frequency": 0.7324479999999998,
          "frequency_final": 0.995458,
          "frequency_other": 0.7324479999999998,
          "observed_growth_rate": 1.359083511730526,
          "projected_frequency": 0.9994361971533874,
          "timepoint": "2003-04-01T00:00:00",
          "year": 2003
         },
         {
          "clade_membership": "85356dd",
          "estimated_growth_rate": 1.4004757366284692,
          "frequency": 0.7135639999999998,
          "frequency_final": 0.995458,
          "frequency_other": 0.7135639999999998,
          "observed_growth_rate": 1.3950507592871841,
          "projected_frequency": 0.9993290685315567,
          "timepoint": "2003-04-01T00:00:00",
          "year": 2003
         },
         {
          "clade_membership": "88dab64",
          "estimated_growth_rate": 1.0000010000010007,
          "frequency": 0.9999989999999996,
          "frequency_final": 0.9999960000000001,
          "frequency_other": 0.9999989999999996,
          "observed_growth_rate": 0.9999969999970004,
          "projected_frequency": 1.0000000000000002,
          "timepoint": "2003-04-01T00:00:00",
          "year": 2003
         },
         {
          "clade_membership": "8e08f7f",
          "estimated_growth_rate": 1.0000010000010007,
          "frequency": 0.9999989999999996,
          "frequency_final": 0.9999960000000001,
          "frequency_other": 0.9999989999999996,
          "observed_growth_rate": 0.9999969999970004,
          "projected_frequency": 1.0000000000000002,
          "timepoint": "2003-04-01T00:00:00",
          "year": 2003
         },
         {
          "clade_membership": "98c068a",
          "estimated_growth_rate": 1.0000010000010007,
          "frequency": 0.9999989999999996,
          "frequency_final": 0.9999960000000001,
          "frequency_other": 0.9999989999999996,
          "observed_growth_rate": 0.9999969999970004,
          "projected_frequency": 1.0000000000000002,
          "timepoint": "2003-04-01T00:00:00",
          "year": 2003
         },
         {
          "clade_membership": "9a3ff5d",
          "estimated_growth_rate": 1.311654074106121,
          "frequency": 0.7620099999999996,
          "frequency_final": 0.995458,
          "frequency_other": 0.7620099999999996,
          "observed_growth_rate": 1.3063581842757974,
          "projected_frequency": 0.9994935210096046,
          "timepoint": "2003-04-01T00:00:00",
          "year": 2003
         },
         {
          "clade_membership": "a5bcb4f",
          "estimated_growth_rate": 1.311654074106121,
          "frequency": 0.7620099999999996,
          "frequency_final": 0.995458,
          "frequency_other": 0.7620099999999996,
          "observed_growth_rate": 1.3063581842757974,
          "projected_frequency": 0.9994935210096046,
          "timepoint": "2003-04-01T00:00:00",
          "year": 2003
         },
         {
          "clade_membership": "a7f2d0a",
          "estimated_growth_rate": 1.0739194386454987,
          "frequency": 0.368177,
          "frequency_final": 0.013979,
          "frequency_other": 0.368177,
          "observed_growth_rate": 0.037968151188151354,
          "projected_frequency": 0.39539243716218375,
          "timepoint": "2003-04-01T00:00:00",
          "year": 2003
         },
         {
          "clade_membership": "aab80f6",
          "estimated_growth_rate": 1.311654074106121,
          "frequency": 0.7620099999999996,
          "frequency_final": 0.995458,
          "frequency_other": 0.7620099999999996,
          "observed_growth_rate": 1.3063581842757974,
          "projected_frequency": 0.9994935210096046,
          "timepoint": "2003-04-01T00:00:00",
          "year": 2003
         },
         {
          "clade_membership": "d6906cf",
          "estimated_growth_rate": 1.0000010000010007,
          "frequency": 0.9999989999999996,
          "frequency_final": 0.9999960000000001,
          "frequency_other": 0.9999989999999996,
          "observed_growth_rate": 0.9999969999970004,
          "projected_frequency": 1.0000000000000002,
          "timepoint": "2003-04-01T00:00:00",
          "year": 2003
         },
         {
          "clade_membership": "d7fecad",
          "estimated_growth_rate": 1.0000010000010007,
          "frequency": 0.9999989999999996,
          "frequency_final": 0.9999960000000001,
          "frequency_other": 0.9999989999999996,
          "observed_growth_rate": 0.9999969999970004,
          "projected_frequency": 1.0000000000000002,
          "timepoint": "2003-04-01T00:00:00",
          "year": 2003
         },
         {
          "clade_membership": "e2f3876",
          "estimated_growth_rate": 1.0000010000010007,
          "frequency": 0.9999989999999996,
          "frequency_final": 0.9999960000000001,
          "frequency_other": 0.9999989999999996,
          "observed_growth_rate": 0.9999969999970004,
          "projected_frequency": 1.0000000000000002,
          "timepoint": "2003-04-01T00:00:00",
          "year": 2003
         },
         {
          "clade_membership": "e501908",
          "estimated_growth_rate": 1.0000010000010007,
          "frequency": 0.9999989999999996,
          "frequency_final": 0.9999960000000001,
          "frequency_other": 0.9999989999999996,
          "observed_growth_rate": 0.9999969999970004,
          "projected_frequency": 1.0000000000000002,
          "timepoint": "2003-04-01T00:00:00",
          "year": 2003
         },
         {
          "clade_membership": "e64cc68",
          "estimated_growth_rate": 1.0000010000010007,
          "frequency": 0.9999989999999996,
          "frequency_final": 0.9999960000000001,
          "frequency_other": 0.9999989999999996,
          "observed_growth_rate": 0.9999969999970004,
          "projected_frequency": 1.0000000000000002,
          "timepoint": "2003-04-01T00:00:00",
          "year": 2003
         },
         {
          "clade_membership": "e89fed6",
          "estimated_growth_rate": 1.0000010000010007,
          "frequency": 0.9999989999999996,
          "frequency_final": 0.9999960000000001,
          "frequency_other": 0.9999989999999996,
          "observed_growth_rate": 0.9999969999970004,
          "projected_frequency": 1.0000000000000002,
          "timepoint": "2003-04-01T00:00:00",
          "year": 2003
         },
         {
          "clade_membership": "ecf49fd",
          "estimated_growth_rate": 1.0000010000010007,
          "frequency": 0.9999989999999996,
          "frequency_final": 0.9999960000000001,
          "frequency_other": 0.9999989999999996,
          "observed_growth_rate": 0.9999969999970004,
          "projected_frequency": 1.0000000000000002,
          "timepoint": "2003-04-01T00:00:00",
          "year": 2003
         },
         {
          "clade_membership": "f3f16af",
          "estimated_growth_rate": 1.0000010000010007,
          "frequency": 0.9999989999999996,
          "frequency_final": 0.9999960000000001,
          "frequency_other": 0.9999989999999996,
          "observed_growth_rate": 0.9999969999970004,
          "projected_frequency": 1.0000000000000002,
          "timepoint": "2003-04-01T00:00:00",
          "year": 2003
         },
         {
          "clade_membership": "fd5608c",
          "estimated_growth_rate": 1.311654074106121,
          "frequency": 0.7620099999999996,
          "frequency_final": 0.995458,
          "frequency_other": 0.7620099999999996,
          "observed_growth_rate": 1.3063581842757974,
          "projected_frequency": 0.9994935210096046,
          "timepoint": "2003-04-01T00:00:00",
          "year": 2003
         },
         {
          "clade_membership": "root",
          "estimated_growth_rate": 1.0000010000010007,
          "frequency": 0.9999989999999996,
          "frequency_final": 0.9999960000000001,
          "frequency_other": 0.9999989999999996,
          "observed_growth_rate": 0.9999969999970004,
          "projected_frequency": 1.0000000000000002,
          "timepoint": "2003-04-01T00:00:00",
          "year": 2003
         },
         {
          "clade_membership": "02e323e",
          "estimated_growth_rate": 0.9999950000250003,
          "frequency": 1.000005,
          "frequency_final": 1.0000000000000002,
          "frequency_other": 1.000005,
          "observed_growth_rate": 0.9999950000250001,
          "projected_frequency": 1.0000000000000004,
          "timepoint": "2003-10-01T00:00:00",
          "year": 2003
         },
         {
          "clade_membership": "048f8ca",
          "estimated_growth_rate": 0.9999950000250003,
          "frequency": 1.000005,
          "frequency_final": 1.0000000000000002,
          "frequency_other": 1.000005,
          "observed_growth_rate": 0.9999950000250001,
          "projected_frequency": 1.0000000000000004,
          "timepoint": "2003-10-01T00:00:00",
          "year": 2003
         },
         {
          "clade_membership": "09e68a2",
          "estimated_growth_rate": 0.9999950000250003,
          "frequency": 1.000005,
          "frequency_final": 1.0000000000000002,
          "frequency_other": 1.000005,
          "observed_growth_rate": 0.9999950000250001,
          "projected_frequency": 1.0000000000000004,
          "timepoint": "2003-10-01T00:00:00",
          "year": 2003
         },
         {
          "clade_membership": "129af49",
          "estimated_growth_rate": 1.1519013372464606,
          "frequency": 0.8656660000000003,
          "frequency_final": 1.0000000000000002,
          "frequency_other": 0.8656660000000003,
          "observed_growth_rate": 1.1551799423796243,
          "projected_frequency": 0.9971618230087949,
          "timepoint": "2003-10-01T00:00:00",
          "year": 2003
         },
         {
          "clade_membership": "35491c6",
          "estimated_growth_rate": 0.9999950000250003,
          "frequency": 1.000005,
          "frequency_final": 1.0000000000000002,
          "frequency_other": 1.000005,
          "observed_growth_rate": 0.9999950000250001,
          "projected_frequency": 1.0000000000000004,
          "timepoint": "2003-10-01T00:00:00",
          "year": 2003
         },
         {
          "clade_membership": "4952842",
          "estimated_growth_rate": 1.1772803531301408,
          "frequency": 0.8464150000000003,
          "frequency_final": 1.0000000000000002,
          "frequency_other": 0.8464150000000003,
          "observed_growth_rate": 1.1814535422930832,
          "projected_frequency": 0.9964677500946484,
          "timepoint": "2003-10-01T00:00:00",
          "year": 2003
         },
         {
          "clade_membership": "4e35443",
          "estimated_growth_rate": 1.15184993315216,
          "frequency": 0.8657050000000003,
          "frequency_final": 1.0000000000000002,
          "frequency_other": 0.8657050000000003,
          "observed_growth_rate": 1.1551279015368976,
          "projected_frequency": 0.9971622463794911,
          "timepoint": "2003-10-01T00:00:00",
          "year": 2003
         },
         {
          "clade_membership": "6335574",
          "estimated_growth_rate": 1.15184993315216,
          "frequency": 0.8657050000000003,
          "frequency_final": 1.0000000000000002,
          "frequency_other": 0.8657050000000003,
          "observed_growth_rate": 1.1551279015368976,
          "projected_frequency": 0.9971622463794911,
          "timepoint": "2003-10-01T00:00:00",
          "year": 2003
         },
         {
          "clade_membership": "8386d16",
          "estimated_growth_rate": 1.1519013372464606,
          "frequency": 0.8656660000000003,
          "frequency_final": 1.0000000000000002,
          "frequency_other": 0.8656660000000003,
          "observed_growth_rate": 1.1551799423796243,
          "projected_frequency": 0.9971618230087949,
          "timepoint": "2003-10-01T00:00:00",
          "year": 2003
         },
         {
          "clade_membership": "85356dd",
          "estimated_growth_rate": 1.151909303040066,
          "frequency": 0.8656600000000003,
          "frequency_final": 1.0000000000000002,
          "frequency_other": 0.8656600000000003,
          "observed_growth_rate": 1.155187949079315,
          "projected_frequency": 0.997161807269664,
          "timepoint": "2003-10-01T00:00:00",
          "year": 2003
         },
         {
          "clade_membership": "88dab64",
          "estimated_growth_rate": 0.9999950000250003,
          "frequency": 1.000005,
          "frequency_final": 1.0000000000000002,
          "frequency_other": 1.000005,
          "observed_growth_rate": 0.9999950000250001,
          "projected_frequency": 1.0000000000000004,
          "timepoint": "2003-10-01T00:00:00",
          "year": 2003
         },
         {
          "clade_membership": "8e08f7f",
          "estimated_growth_rate": 0.9999950000250003,
          "frequency": 1.000005,
          "frequency_final": 1.0000000000000002,
          "frequency_other": 1.000005,
          "observed_growth_rate": 0.9999950000250001,
          "projected_frequency": 1.0000000000000004,
          "timepoint": "2003-10-01T00:00:00",
          "year": 2003
         },
         {
          "clade_membership": "962ced9",
          "estimated_growth_rate": 3.3489869227909836,
          "frequency": 0.23815299999999995,
          "frequency_final": 0.10116599999999999,
          "frequency_other": 0.23815299999999995,
          "observed_growth_rate": 0.4247941449404375,
          "projected_frequency": 0.7975712826234409,
          "timepoint": "2003-10-01T00:00:00",
          "year": 2003
         },
         {
          "clade_membership": "98c068a",
          "estimated_growth_rate": 0.9999950000250003,
          "frequency": 1.000005,
          "frequency_final": 1.0000000000000002,
          "frequency_other": 1.000005,
          "observed_growth_rate": 0.9999950000250001,
          "projected_frequency": 1.0000000000000004,
          "timepoint": "2003-10-01T00:00:00",
          "year": 2003
         },
         {
          "clade_membership": "9a3ff5d",
          "estimated_growth_rate": 1.15184993315216,
          "frequency": 0.8657050000000003,
          "frequency_final": 1.0000000000000002,
          "frequency_other": 0.8657050000000003,
          "observed_growth_rate": 1.1551279015368976,
          "projected_frequency": 0.9971622463794911,
          "timepoint": "2003-10-01T00:00:00",
          "year": 2003
         },
         {
          "clade_membership": "a5bcb4f",
          "estimated_growth_rate": 1.15184993315216,
          "frequency": 0.8657050000000003,
          "frequency_final": 1.0000000000000002,
          "frequency_other": 0.8657050000000003,
          "observed_growth_rate": 1.1551279015368976,
          "projected_frequency": 0.9971622463794911,
          "timepoint": "2003-10-01T00:00:00",
          "year": 2003
         },
         {
          "clade_membership": "aab80f6",
          "estimated_growth_rate": 1.15184993315216,
          "frequency": 0.8657050000000003,
          "frequency_final": 1.0000000000000002,
          "frequency_other": 0.8657050000000003,
          "observed_growth_rate": 1.1551279015368976,
          "projected_frequency": 0.9971622463794911,
          "timepoint": "2003-10-01T00:00:00",
          "year": 2003
         },
         {
          "clade_membership": "d6906cf",
          "estimated_growth_rate": 0.9999950000250003,
          "frequency": 1.000005,
          "frequency_final": 1.0000000000000002,
          "frequency_other": 1.000005,
          "observed_growth_rate": 0.9999950000250001,
          "projected_frequency": 1.0000000000000004,
          "timepoint": "2003-10-01T00:00:00",
          "year": 2003
         },
         {
          "clade_membership": "d7fecad",
          "estimated_growth_rate": 0.9999950000250003,
          "frequency": 1.000005,
          "frequency_final": 1.0000000000000002,
          "frequency_other": 1.000005,
          "observed_growth_rate": 0.9999950000250001,
          "projected_frequency": 1.0000000000000004,
          "timepoint": "2003-10-01T00:00:00",
          "year": 2003
         },
         {
          "clade_membership": "ddbae0a",
          "estimated_growth_rate": 0.31108411208624104,
          "frequency": 0.17805500000000007,
          "frequency_final": 8e-06,
          "frequency_other": 0.17805500000000007,
          "observed_growth_rate": 4.492993737889976e-05,
          "projected_frequency": 0.05539008157751567,
          "timepoint": "2003-10-01T00:00:00",
          "year": 2003
         },
         {
          "clade_membership": "e2f3876",
          "estimated_growth_rate": 0.9999950000250003,
          "frequency": 1.000005,
          "frequency_final": 1.0000000000000002,
          "frequency_other": 1.000005,
          "observed_growth_rate": 0.9999950000250001,
          "projected_frequency": 1.0000000000000004,
          "timepoint": "2003-10-01T00:00:00",
          "year": 2003
         },
         {
          "clade_membership": "e501908",
          "estimated_growth_rate": 0.9999950000250003,
          "frequency": 1.000005,
          "frequency_final": 1.0000000000000002,
          "frequency_other": 1.000005,
          "observed_growth_rate": 0.9999950000250001,
          "projected_frequency": 1.0000000000000004,
          "timepoint": "2003-10-01T00:00:00",
          "year": 2003
         },
         {
          "clade_membership": "e64cc68",
          "estimated_growth_rate": 0.9999950000250003,
          "frequency": 1.000005,
          "frequency_final": 1.0000000000000002,
          "frequency_other": 1.000005,
          "observed_growth_rate": 0.9999950000250001,
          "projected_frequency": 1.0000000000000004,
          "timepoint": "2003-10-01T00:00:00",
          "year": 2003
         },
         {
          "clade_membership": "ecf49fd",
          "estimated_growth_rate": 0.9999950000250003,
          "frequency": 1.000005,
          "frequency_final": 1.0000000000000002,
          "frequency_other": 1.000005,
          "observed_growth_rate": 0.9999950000250001,
          "projected_frequency": 1.0000000000000004,
          "timepoint": "2003-10-01T00:00:00",
          "year": 2003
         },
         {
          "clade_membership": "f3f16af",
          "estimated_growth_rate": 0.9999950000250003,
          "frequency": 1.000005,
          "frequency_final": 1.0000000000000002,
          "frequency_other": 1.000005,
          "observed_growth_rate": 0.9999950000250001,
          "projected_frequency": 1.0000000000000004,
          "timepoint": "2003-10-01T00:00:00",
          "year": 2003
         },
         {
          "clade_membership": "fd5608c",
          "estimated_growth_rate": 1.15184993315216,
          "frequency": 0.8657050000000003,
          "frequency_final": 1.0000000000000002,
          "frequency_other": 0.8657050000000003,
          "observed_growth_rate": 1.1551279015368976,
          "projected_frequency": 0.9971622463794911,
          "timepoint": "2003-10-01T00:00:00",
          "year": 2003
         },
         {
          "clade_membership": "root",
          "estimated_growth_rate": 0.9999950000250003,
          "frequency": 1.000005,
          "frequency_final": 1.0000000000000002,
          "frequency_other": 1.000005,
          "observed_growth_rate": 0.9999950000250001,
          "projected_frequency": 1.0000000000000004,
          "timepoint": "2003-10-01T00:00:00",
          "year": 2003
         },
         {
          "clade_membership": "02e323e",
          "estimated_growth_rate": 1.000004000016,
          "frequency": 0.9999960000000001,
          "frequency_final": 0.9999999999999998,
          "frequency_other": 0.9999960000000001,
          "observed_growth_rate": 1.0000040000159998,
          "projected_frequency": 1,
          "timepoint": "2004-04-01T00:00:00",
          "year": 2004
         },
         {
          "clade_membership": "048f8ca",
          "estimated_growth_rate": 1.000004000016,
          "frequency": 0.9999960000000001,
          "frequency_final": 0.9999999999999998,
          "frequency_other": 0.9999960000000001,
          "observed_growth_rate": 1.0000040000159998,
          "projected_frequency": 1,
          "timepoint": "2004-04-01T00:00:00",
          "year": 2004
         },
         {
          "clade_membership": "09e68a2",
          "estimated_growth_rate": 1.000004000016,
          "frequency": 0.9999960000000001,
          "frequency_final": 0.9999999999999998,
          "frequency_other": 0.9999960000000001,
          "observed_growth_rate": 1.0000040000159998,
          "projected_frequency": 1,
          "timepoint": "2004-04-01T00:00:00",
          "year": 2004
         },
         {
          "clade_membership": "35491c6",
          "estimated_growth_rate": 1.000004000016,
          "frequency": 0.9999960000000001,
          "frequency_final": 0.9999999999999998,
          "frequency_other": 0.9999960000000001,
          "observed_growth_rate": 1.0000040000159998,
          "projected_frequency": 1,
          "timepoint": "2004-04-01T00:00:00",
          "year": 2004
         },
         {
          "clade_membership": "412c00a",
          "estimated_growth_rate": 1.6439520359145956,
          "frequency": 0.5217880000000001,
          "frequency_final": 0.9427150000000002,
          "frequency_other": 0.5217880000000001,
          "observed_growth_rate": 1.8067011889886313,
          "projected_frequency": 0.8577944449158053,
          "timepoint": "2004-04-01T00:00:00",
          "year": 2004
         },
         {
          "clade_membership": "4952842",
          "estimated_growth_rate": 1.0145480499297566,
          "frequency": 0.9856400000000001,
          "frequency_final": 0.9505060000000001,
          "frequency_other": 0.9856400000000001,
          "observed_growth_rate": 0.9643541252384238,
          "projected_frequency": 0.9999791399327653,
          "timepoint": "2004-04-01T00:00:00",
          "year": 2004
         },
         {
          "clade_membership": "4e35443",
          "estimated_growth_rate": 1.0045562057896384,
          "frequency": 0.995458,
          "frequency_final": 0,
          "frequency_other": 0.995458,
          "observed_growth_rate": 0,
          "projected_frequency": 0.9999935115029419,
          "timepoint": "2004-04-01T00:00:00",
          "year": 2004
         },
         {
          "clade_membership": "4ff1302",
          "estimated_growth_rate": 1.946772394594062,
          "frequency": 0.4400730000000001,
          "frequency_final": 0.9427150000000002,
          "frequency_other": 0.4400730000000001,
          "observed_growth_rate": 2.142178683991065,
          "projected_frequency": 0.8567219680061928,
          "timepoint": "2004-04-01T00:00:00",
          "year": 2004
         },
         {
          "clade_membership": "6335574",
          "estimated_growth_rate": 1.0045562057896384,
          "frequency": 0.995458,
          "frequency_final": 0.9505060000000001,
          "frequency_other": 0.995458,
          "observed_growth_rate": 0.9548428964356107,
          "projected_frequency": 0.9999935115029419,
          "timepoint": "2004-04-01T00:00:00",
          "year": 2004
         },
         {
          "clade_membership": "8386d16",
          "estimated_growth_rate": 1.0045562057896384,
          "frequency": 0.995458,
          "frequency_final": 0.9505060000000001,
          "frequency_other": 0.995458,
          "observed_growth_rate": 0.9548428964356107,
          "projected_frequency": 0.9999935115029419,
          "timepoint": "2004-04-01T00:00:00",
          "year": 2004
         },
         {
          "clade_membership": "85356dd",
          "estimated_growth_rate": 1.0045562057896384,
          "frequency": 0.995458,
          "frequency_final": 0.9505060000000001,
          "frequency_other": 0.995458,
          "observed_growth_rate": 0.9548428964356107,
          "projected_frequency": 0.9999935115029419,
          "timepoint": "2004-04-01T00:00:00",
          "year": 2004
         },
         {
          "clade_membership": "88dab64",
          "estimated_growth_rate": 1.000004000016,
          "frequency": 0.9999960000000001,
          "frequency_final": 0.9999999999999998,
          "frequency_other": 0.9999960000000001,
          "observed_growth_rate": 1.0000040000159998,
          "projected_frequency": 1,
          "timepoint": "2004-04-01T00:00:00",
          "year": 2004
         },
         {
          "clade_membership": "8e08f7f",
          "estimated_growth_rate": 1.000004000016,
          "frequency": 0.9999960000000001,
          "frequency_final": 0.9999999999999998,
          "frequency_other": 0.9999960000000001,
          "observed_growth_rate": 1.0000040000159998,
          "projected_frequency": 1,
          "timepoint": "2004-04-01T00:00:00",
          "year": 2004
         },
         {
          "clade_membership": "962ced9",
          "estimated_growth_rate": 0.41640220703808245,
          "frequency": 0.32509699999999997,
          "frequency_final": 0.007791000000000001,
          "frequency_other": 0.32509699999999997,
          "observed_growth_rate": 0.023965155015272372,
          "projected_frequency": 0.1353711083014595,
          "timepoint": "2004-04-01T00:00:00",
          "year": 2004
         },
         {
          "clade_membership": "98c068a",
          "estimated_growth_rate": 1.000004000016,
          "frequency": 0.9999960000000001,
          "frequency_final": 0.9999999999999998,
          "frequency_other": 0.9999960000000001,
          "observed_growth_rate": 1.0000040000159998,
          "projected_frequency": 1,
          "timepoint": "2004-04-01T00:00:00",
          "year": 2004
         },
         {
          "clade_membership": "9a3ff5d",
          "estimated_growth_rate": 1.0045562057896384,
          "frequency": 0.995458,
          "frequency_final": 0.9505060000000001,
          "frequency_other": 0.995458,
          "observed_growth_rate": 0.9548428964356107,
          "projected_frequency": 0.9999935115029419,
          "timepoint": "2004-04-01T00:00:00",
          "year": 2004
         },
         {
          "clade_membership": "a5bcb4f",
          "estimated_growth_rate": 1.0045562057896384,
          "frequency": 0.995458,
          "frequency_final": 0.9505060000000001,
          "frequency_other": 0.995458,
          "observed_growth_rate": 0.9548428964356107,
          "projected_frequency": 0.9999935115029419,
          "timepoint": "2004-04-01T00:00:00",
          "year": 2004
         },
         {
          "clade_membership": "aab80f6",
          "estimated_growth_rate": 1.0045562057896384,
          "frequency": 0.995458,
          "frequency_final": 0.9505060000000001,
          "frequency_other": 0.995458,
          "observed_growth_rate": 0.9548428964356107,
          "projected_frequency": 0.9999935115029419,
          "timepoint": "2004-04-01T00:00:00",
          "year": 2004
         },
         {
          "clade_membership": "b32cea9",
          "estimated_growth_rate": 1.423760611895745,
          "frequency": 0.6070440000000001,
          "frequency_final": 0.9427150000000002,
          "frequency_other": 0.6070440000000001,
          "observed_growth_rate": 1.552959917238289,
          "projected_frequency": 0.8642853368876409,
          "timepoint": "2004-04-01T00:00:00",
          "year": 2004
         },
         {
          "clade_membership": "d6906cf",
          "estimated_growth_rate": 1.000004000016,
          "frequency": 0.9999960000000001,
          "frequency_final": 0.9999999999999998,
          "frequency_other": 0.9999960000000001,
          "observed_growth_rate": 1.0000040000159998,
          "projected_frequency": 1,
          "timepoint": "2004-04-01T00:00:00",
          "year": 2004
         },
         {
          "clade_membership": "d7fecad",
          "estimated_growth_rate": 1.000004000016,
          "frequency": 0.9999960000000001,
          "frequency_final": 0.9999999999999998,
          "frequency_other": 0.9999960000000001,
          "observed_growth_rate": 1.0000040000159998,
          "projected_frequency": 1,
          "timepoint": "2004-04-01T00:00:00",
          "year": 2004
         },
         {
          "clade_membership": "e2f3876",
          "estimated_growth_rate": 1.000004000016,
          "frequency": 0.9999960000000001,
          "frequency_final": 0.9999999999999998,
          "frequency_other": 0.9999960000000001,
          "observed_growth_rate": 1.0000040000159998,
          "projected_frequency": 1,
          "timepoint": "2004-04-01T00:00:00",
          "year": 2004
         },
         {
          "clade_membership": "e501908",
          "estimated_growth_rate": 1.000004000016,
          "frequency": 0.9999960000000001,
          "frequency_final": 0.9999999999999998,
          "frequency_other": 0.9999960000000001,
          "observed_growth_rate": 1.0000040000159998,
          "projected_frequency": 1,
          "timepoint": "2004-04-01T00:00:00",
          "year": 2004
         },
         {
          "clade_membership": "e64cc68",
          "estimated_growth_rate": 1.000004000016,
          "frequency": 0.9999960000000001,
          "frequency_final": 0.9999999999999998,
          "frequency_other": 0.9999960000000001,
          "observed_growth_rate": 1.0000040000159998,
          "projected_frequency": 1,
          "timepoint": "2004-04-01T00:00:00",
          "year": 2004
         },
         {
          "clade_membership": "ecf49fd",
          "estimated_growth_rate": 1.000004000016,
          "frequency": 0.9999960000000001,
          "frequency_final": 0.9999999999999998,
          "frequency_other": 0.9999960000000001,
          "observed_growth_rate": 1.0000040000159998,
          "projected_frequency": 1,
          "timepoint": "2004-04-01T00:00:00",
          "year": 2004
         },
         {
          "clade_membership": "f3f16af",
          "estimated_growth_rate": 1.000004000016,
          "frequency": 0.9999960000000001,
          "frequency_final": 0.9999999999999998,
          "frequency_other": 0.9999960000000001,
          "observed_growth_rate": 1.0000040000159998,
          "projected_frequency": 1,
          "timepoint": "2004-04-01T00:00:00",
          "year": 2004
         },
         {
          "clade_membership": "fd5608c",
          "estimated_growth_rate": 1.0045562057896384,
          "frequency": 0.995458,
          "frequency_final": 0.9505060000000001,
          "frequency_other": 0.995458,
          "observed_growth_rate": 0.9548428964356107,
          "projected_frequency": 0.9999935115029419,
          "timepoint": "2004-04-01T00:00:00",
          "year": 2004
         },
         {
          "clade_membership": "root",
          "estimated_growth_rate": 1.000004000016,
          "frequency": 0.9999960000000001,
          "frequency_final": 0.9999999999999998,
          "frequency_other": 0.9999960000000001,
          "observed_growth_rate": 1.0000040000159998,
          "projected_frequency": 1,
          "timepoint": "2004-04-01T00:00:00",
          "year": 2004
         },
         {
          "clade_membership": "02e323e",
          "estimated_growth_rate": 0.9999999999999997,
          "frequency": 1.0000000000000002,
          "frequency_final": 0.999989,
          "frequency_other": 1.0000000000000002,
          "observed_growth_rate": 0.9999889999999998,
          "projected_frequency": 0.9999999999999999,
          "timepoint": "2004-10-01T00:00:00",
          "year": 2004
         },
         {
          "clade_membership": "048f8ca",
          "estimated_growth_rate": 0.9999999999999997,
          "frequency": 1.0000000000000002,
          "frequency_final": 0.999989,
          "frequency_other": 1.0000000000000002,
          "observed_growth_rate": 0.9999889999999998,
          "projected_frequency": 0.9999999999999999,
          "timepoint": "2004-10-01T00:00:00",
          "year": 2004
         },
         {
          "clade_membership": "09e68a2",
          "estimated_growth_rate": 0.9999999999999997,
          "frequency": 1.0000000000000002,
          "frequency_final": 0.999989,
          "frequency_other": 1.0000000000000002,
          "observed_growth_rate": 0.9999889999999998,
          "projected_frequency": 0.9999999999999999,
          "timepoint": "2004-10-01T00:00:00",
          "year": 2004
         },
         {
          "clade_membership": "35491c6",
          "estimated_growth_rate": 0.9999999999999997,
          "frequency": 1.0000000000000002,
          "frequency_final": 0.999989,
          "frequency_other": 1.0000000000000002,
          "observed_growth_rate": 0.9999889999999998,
          "projected_frequency": 0.9999999999999999,
          "timepoint": "2004-10-01T00:00:00",
          "year": 2004
         },
         {
          "clade_membership": "3a81d99",
          "estimated_growth_rate": 2.1901904194612953,
          "frequency": 0.4289540000000001,
          "frequency_final": 0.8989430000000003,
          "frequency_other": 0.4289540000000001,
          "observed_growth_rate": 2.0956629382171514,
          "projected_frequency": 0.9394909411896007,
          "timepoint": "2004-10-01T00:00:00",
          "year": 2004
         },
         {
          "clade_membership": "412c00a",
          "estimated_growth_rate": 1.336749484220847,
          "frequency": 0.7096790000000001,
          "frequency_final": 0,
          "frequency_other": 0.7096790000000001,
          "observed_growth_rate": 0,
          "projected_frequency": 0.9486630372123666,
          "timepoint": "2004-10-01T00:00:00",
          "year": 2004
         },
         {
          "clade_membership": "44989e1",
          "estimated_growth_rate": 2.330976424411521,
          "frequency": 0.40200100000000005,
          "frequency_final": 0.8902530000000004,
          "frequency_other": 0.40200100000000005,
          "observed_growth_rate": 2.2145541926512626,
          "projected_frequency": 0.9370548535898561,
          "timepoint": "2004-10-01T00:00:00",
          "year": 2004
         },
         {
          "clade_membership": "4952842",
          "estimated_growth_rate": 0.9999999999999997,
          "frequency": 1.0000000000000002,
          "frequency_final": 0.9627680000000001,
          "frequency_other": 1.0000000000000002,
          "observed_growth_rate": 0.9627679999999998,
          "projected_frequency": 0.9999999999999999,
          "timepoint": "2004-10-01T00:00:00",
          "year": 2004
         },
         {
          "clade_membership": "4e35443",
          "estimated_growth_rate": 0.9999999999999997,
          "frequency": 1.0000000000000002,
          "frequency_final": 0,
          "frequency_other": 1.0000000000000002,
          "observed_growth_rate": 0,
          "projected_frequency": 0.9999999999999999,
          "timepoint": "2004-10-01T00:00:00",
          "year": 2004
         },
         {
          "clade_membership": "4ff1302",
          "estimated_growth_rate": 1.3648397959070904,
          "frequency": 0.695038,
          "frequency_final": 0.9547740000000002,
          "frequency_other": 0.695038,
          "observed_growth_rate": 1.3737004307678145,
          "projected_frequency": 0.9486155220676724,
          "timepoint": "2004-10-01T00:00:00",
          "year": 2004
         },
         {
          "clade_membership": "6335574",
          "estimated_growth_rate": 0.9999999999999997,
          "frequency": 1.0000000000000002,
          "frequency_final": 0.9627680000000001,
          "frequency_other": 1.0000000000000002,
          "observed_growth_rate": 0.9627679999999998,
          "projected_frequency": 0.9999999999999999,
          "timepoint": "2004-10-01T00:00:00",
          "year": 2004
         },
         {
          "clade_membership": "7aa732d",
          "estimated_growth_rate": 5.57179698711287,
          "frequency": 0.153111,
          "frequency_final": 0.8104660000000001,
          "frequency_other": 0.153111,
          "observed_growth_rate": 5.2933231446466955,
          "projected_frequency": 0.8531034084938386,
          "timepoint": "2004-10-01T00:00:00",
          "year": 2004
         },
         {
          "clade_membership": "85356dd",
          "estimated_growth_rate": 0.9999999999999997,
          "frequency": 1.0000000000000002,
          "frequency_final": 0.9627680000000001,
          "frequency_other": 1.0000000000000002,
          "observed_growth_rate": 0.9627679999999998,
          "projected_frequency": 0.9999999999999999,
          "timepoint": "2004-10-01T00:00:00",
          "year": 2004
         },
         {
          "clade_membership": "88dab64",
          "estimated_growth_rate": 0.9999999999999997,
          "frequency": 1.0000000000000002,
          "frequency_final": 0.999989,
          "frequency_other": 1.0000000000000002,
          "observed_growth_rate": 0.9999889999999998,
          "projected_frequency": 0.9999999999999999,
          "timepoint": "2004-10-01T00:00:00",
          "year": 2004
         },
         {
          "clade_membership": "8e08f7f",
          "estimated_growth_rate": 0.9999999999999997,
          "frequency": 1.0000000000000002,
          "frequency_final": 0,
          "frequency_other": 1.0000000000000002,
          "observed_growth_rate": 0,
          "projected_frequency": 0.9999999999999999,
          "timepoint": "2004-10-01T00:00:00",
          "year": 2004
         },
         {
          "clade_membership": "98c068a",
          "estimated_growth_rate": 0.9999999999999997,
          "frequency": 1.0000000000000002,
          "frequency_final": 0.999989,
          "frequency_other": 1.0000000000000002,
          "observed_growth_rate": 0.9999889999999998,
          "projected_frequency": 0.9999999999999999,
          "timepoint": "2004-10-01T00:00:00",
          "year": 2004
         },
         {
          "clade_membership": "9a3ff5d",
          "estimated_growth_rate": 0.9999999999999997,
          "frequency": 1.0000000000000002,
          "frequency_final": 0.9627680000000001,
          "frequency_other": 1.0000000000000002,
          "observed_growth_rate": 0.9627679999999998,
          "projected_frequency": 0.9999999999999999,
          "timepoint": "2004-10-01T00:00:00",
          "year": 2004
         },
         {
          "clade_membership": "a5bcb4f",
          "estimated_growth_rate": 0.9999999999999997,
          "frequency": 1.0000000000000002,
          "frequency_final": 0.9627680000000001,
          "frequency_other": 1.0000000000000002,
          "observed_growth_rate": 0.9627679999999998,
          "projected_frequency": 0.9999999999999999,
          "timepoint": "2004-10-01T00:00:00",
          "year": 2004
         },
         {
          "clade_membership": "aab80f6",
          "estimated_growth_rate": 0.9999999999999997,
          "frequency": 1.0000000000000002,
          "frequency_final": 0.9627680000000001,
          "frequency_other": 1.0000000000000002,
          "observed_growth_rate": 0.9627679999999998,
          "projected_frequency": 0.9999999999999999,
          "timepoint": "2004-10-01T00:00:00",
          "year": 2004
         },
         {
          "clade_membership": "b32cea9",
          "estimated_growth_rate": 1.1431728370933114,
          "frequency": 0.8743839999999999,
          "frequency_final": 0.9627680000000001,
          "frequency_other": 0.8743839999999999,
          "observed_growth_rate": 1.1010814470530113,
          "projected_frequency": 0.999572037988998,
          "timepoint": "2004-10-01T00:00:00",
          "year": 2004
         },
         {
          "clade_membership": "c16a08d",
          "estimated_growth_rate": 0.9999999999999997,
          "frequency": 1.0000000000000002,
          "frequency_final": 0.999989,
          "frequency_other": 1.0000000000000002,
          "observed_growth_rate": 0.9999889999999998,
          "projected_frequency": 0.9999999999999999,
          "timepoint": "2004-10-01T00:00:00",
          "year": 2004
         },
         {
          "clade_membership": "d6906cf",
          "estimated_growth_rate": 0.9999999999999997,
          "frequency": 1.0000000000000002,
          "frequency_final": 0.999989,
          "frequency_other": 1.0000000000000002,
          "observed_growth_rate": 0.9999889999999998,
          "projected_frequency": 0.9999999999999999,
          "timepoint": "2004-10-01T00:00:00",
          "year": 2004
         },
         {
          "clade_membership": "e501908",
          "estimated_growth_rate": 0.9999999999999997,
          "frequency": 1.0000000000000002,
          "frequency_final": 0.999989,
          "frequency_other": 1.0000000000000002,
          "observed_growth_rate": 0.9999889999999998,
          "projected_frequency": 0.9999999999999999,
          "timepoint": "2004-10-01T00:00:00",
          "year": 2004
         },
         {
          "clade_membership": "e64cc68",
          "estimated_growth_rate": 0.9999999999999997,
          "frequency": 1.0000000000000002,
          "frequency_final": 0.999989,
          "frequency_other": 1.0000000000000002,
          "observed_growth_rate": 0.9999889999999998,
          "projected_frequency": 0.9999999999999999,
          "timepoint": "2004-10-01T00:00:00",
          "year": 2004
         },
         {
          "clade_membership": "ecf49fd",
          "estimated_growth_rate": 0.9999999999999997,
          "frequency": 1.0000000000000002,
          "frequency_final": 0.999989,
          "frequency_other": 1.0000000000000002,
          "observed_growth_rate": 0.9999889999999998,
          "projected_frequency": 0.9999999999999999,
          "timepoint": "2004-10-01T00:00:00",
          "year": 2004
         },
         {
          "clade_membership": "f3f16af",
          "estimated_growth_rate": 0.9999999999999997,
          "frequency": 1.0000000000000002,
          "frequency_final": 0.999989,
          "frequency_other": 1.0000000000000002,
          "observed_growth_rate": 0.9999889999999998,
          "projected_frequency": 0.9999999999999999,
          "timepoint": "2004-10-01T00:00:00",
          "year": 2004
         },
         {
          "clade_membership": "fd5608c",
          "estimated_growth_rate": 0.9999999999999997,
          "frequency": 1.0000000000000002,
          "frequency_final": 0.9627680000000001,
          "frequency_other": 1.0000000000000002,
          "observed_growth_rate": 0.9627679999999998,
          "projected_frequency": 0.9999999999999999,
          "timepoint": "2004-10-01T00:00:00",
          "year": 2004
         },
         {
          "clade_membership": "root",
          "estimated_growth_rate": 0.9999999999999997,
          "frequency": 1.0000000000000002,
          "frequency_final": 0.999989,
          "frequency_other": 1.0000000000000002,
          "observed_growth_rate": 0.9999889999999998,
          "projected_frequency": 0.9999999999999999,
          "timepoint": "2004-10-01T00:00:00",
          "year": 2004
         },
         {
          "clade_membership": "02e323e",
          "estimated_growth_rate": 1.0000000000000004,
          "frequency": 0.9999999999999998,
          "frequency_final": 1.0000019999999998,
          "frequency_other": 0.9999999999999998,
          "observed_growth_rate": 1.000002,
          "projected_frequency": 1.0000000000000002,
          "timepoint": "2005-04-01T00:00:00",
          "year": 2005
         },
         {
          "clade_membership": "048f8ca",
          "estimated_growth_rate": 1.0000000000000004,
          "frequency": 0.9999999999999998,
          "frequency_final": 1.0000019999999998,
          "frequency_other": 0.9999999999999998,
          "observed_growth_rate": 1.000002,
          "projected_frequency": 1.0000000000000002,
          "timepoint": "2005-04-01T00:00:00",
          "year": 2005
         },
         {
          "clade_membership": "09e68a2",
          "estimated_growth_rate": 1.0000000000000004,
          "frequency": 0.9999999999999998,
          "frequency_final": 1.0000019999999998,
          "frequency_other": 0.9999999999999998,
          "observed_growth_rate": 1.000002,
          "projected_frequency": 1.0000000000000002,
          "timepoint": "2005-04-01T00:00:00",
          "year": 2005
         },
         {
          "clade_membership": "35491c6",
          "estimated_growth_rate": 1.0000000000000004,
          "frequency": 0.9999999999999998,
          "frequency_final": 1.0000019999999998,
          "frequency_other": 0.9999999999999998,
          "observed_growth_rate": 1.000002,
          "projected_frequency": 1.0000000000000002,
          "timepoint": "2005-04-01T00:00:00",
          "year": 2005
         },
         {
          "clade_membership": "3a81d99",
          "estimated_growth_rate": 1.1125824815237826,
          "frequency": 0.8987780000000002,
          "frequency_final": 0.9980419999999999,
          "frequency_other": 0.8987780000000002,
          "observed_growth_rate": 1.1104432907792576,
          "projected_frequency": 0.9999646575789825,
          "timepoint": "2005-04-01T00:00:00",
          "year": 2005
         },
         {
          "clade_membership": "412c00a",
          "estimated_growth_rate": 1.0607354706722978,
          "frequency": 0.9427150000000002,
          "frequency_final": 0.9980419999999999,
          "frequency_other": 0.9427150000000002,
          "observed_growth_rate": 1.0586889993264132,
          "projected_frequency": 0.9999712392348353,
          "timepoint": "2005-04-01T00:00:00",
          "year": 2005
         },
         {
          "clade_membership": "44989e1",
          "estimated_growth_rate": 1.3095842545788923,
          "frequency": 0.7628190000000002,
          "frequency_final": 0.989049,
          "frequency_other": 0.7628190000000002,
          "observed_growth_rate": 1.2965710083256967,
          "projected_frequency": 0.9989757514936163,
          "timepoint": "2005-04-01T00:00:00",
          "year": 2005
         },
         {
          "clade_membership": "4952842",
          "estimated_growth_rate": 1.052042001619368,
          "frequency": 0.9505060000000001,
          "frequency_final": 0.9980419999999999,
          "frequency_other": 0.9505060000000002,
          "observed_growth_rate": 1.0500112571619746,
          "projected_frequency": 0.9999722347912189,
          "timepoint": "2005-04-01T00:00:00",
          "year": 2005
         },
         {
          "clade_membership": "4ff1302",
          "estimated_growth_rate": 1.0607354706722978,
          "frequency": 0.9427150000000002,
          "frequency_final": 0.9980419999999999,
          "frequency_other": 0.9427150000000002,
          "observed_growth_rate": 1.0586889993264132,
          "projected_frequency": 0.9999712392348353,
          "timepoint": "2005-04-01T00:00:00",
          "year": 2005
         },
         {
          "clade_membership": "6335574",
          "estimated_growth_rate": 1.052042001619368,
          "frequency": 0.9505060000000001,
          "frequency_final": 0.9980419999999999,
          "frequency_other": 0.9505060000000002,
          "observed_growth_rate": 1.0500112571619746,
          "projected_frequency": 0.9999722347912189,
          "timepoint": "2005-04-01T00:00:00",
          "year": 2005
         },
         {
          "clade_membership": "7aa732d",
          "estimated_growth_rate": 1.5092258314398195,
          "frequency": 0.6618819999999999,
          "frequency_final": 0.967061,
          "frequency_other": 0.6618819999999999,
          "observed_growth_rate": 1.4610776543250914,
          "projected_frequency": 0.9989294117650503,
          "timepoint": "2005-04-01T00:00:00",
          "year": 2005
         },
         {
          "clade_membership": "8386d16",
          "estimated_growth_rate": 1.052042001619368,
          "frequency": 0.9505060000000001,
          "frequency_final": 0.9980419999999999,
          "frequency_other": 0.9505060000000002,
          "observed_growth_rate": 1.0500112571619746,
          "projected_frequency": 0.9999722347912189,
          "timepoint": "2005-04-01T00:00:00",
          "year": 2005
         },
         {
          "clade_membership": "85356dd",
          "estimated_growth_rate": 1.052042001619368,
          "frequency": 0.9505060000000001,
          "frequency_final": 0.9980419999999999,
          "frequency_other": 0.9505060000000002,
          "observed_growth_rate": 1.0500112571619746,
          "projected_frequency": 0.9999722347912189,
          "timepoint": "2005-04-01T00:00:00",
          "year": 2005
         },
         {
          "clade_membership": "88dab64",
          "estimated_growth_rate": 1.0000000000000004,
          "frequency": 0.9999999999999998,
          "frequency_final": 1.0000019999999998,
          "frequency_other": 0.9999999999999998,
          "observed_growth_rate": 1.000002,
          "projected_frequency": 1.0000000000000002,
          "timepoint": "2005-04-01T00:00:00",
          "year": 2005
         },
         {
          "clade_membership": "8e08f7f",
          "estimated_growth_rate": 1.0000000000000004,
          "frequency": 0.9999999999999998,
          "frequency_final": 1.0000019999999998,
          "frequency_other": 0.9999999999999998,
          "observed_growth_rate": 1.000002,
          "projected_frequency": 1.0000000000000002,
          "timepoint": "2005-04-01T00:00:00",
          "year": 2005
         },
         {
          "clade_membership": "98c068a",
          "estimated_growth_rate": 1.0000000000000004,
          "frequency": 0.9999999999999998,
          "frequency_final": 1.0000019999999998,
          "frequency_other": 0.9999999999999998,
          "observed_growth_rate": 1.000002,
          "projected_frequency": 1.0000000000000002,
          "timepoint": "2005-04-01T00:00:00",
          "year": 2005
         },
         {
          "clade_membership": "9a3ff5d",
          "estimated_growth_rate": 1.052042001619368,
          "frequency": 0.9505060000000001,
          "frequency_final": 0.9980419999999999,
          "frequency_other": 0.9505060000000002,
          "observed_growth_rate": 1.0500112571619746,
          "projected_frequency": 0.9999722347912189,
          "timepoint": "2005-04-01T00:00:00",
          "year": 2005
         },
         {
          "clade_membership": "a5bcb4f",
          "estimated_growth_rate": 1.052042001619368,
          "frequency": 0.9505060000000001,
          "frequency_final": 0.9980419999999999,
          "frequency_other": 0.9505060000000002,
          "observed_growth_rate": 1.0500112571619746,
          "projected_frequency": 0.9999722347912189,
          "timepoint": "2005-04-01T00:00:00",
          "year": 2005
         },
         {
          "clade_membership": "aab80f6",
          "estimated_growth_rate": 1.052042001619368,
          "frequency": 0.9505060000000001,
          "frequency_final": 0.9980419999999999,
          "frequency_other": 0.9505060000000002,
          "observed_growth_rate": 1.0500112571619746,
          "projected_frequency": 0.9999722347912189,
          "timepoint": "2005-04-01T00:00:00",
          "year": 2005
         },
         {
          "clade_membership": "b32cea9",
          "estimated_growth_rate": 1.0607354706722978,
          "frequency": 0.9427150000000002,
          "frequency_final": 0.9980419999999999,
          "frequency_other": 0.9427150000000002,
          "observed_growth_rate": 1.0586889993264132,
          "projected_frequency": 0.9999712392348353,
          "timepoint": "2005-04-01T00:00:00",
          "year": 2005
         },
         {
          "clade_membership": "d6906cf",
          "estimated_growth_rate": 1.0000000000000004,
          "frequency": 0.9999999999999998,
          "frequency_final": 1.0000019999999998,
          "frequency_other": 0.9999999999999998,
          "observed_growth_rate": 1.000002,
          "projected_frequency": 1.0000000000000002,
          "timepoint": "2005-04-01T00:00:00",
          "year": 2005
         },
         {
          "clade_membership": "d7fecad",
          "estimated_growth_rate": 1.0000000000000004,
          "frequency": 0.9999999999999998,
          "frequency_final": 1.0000019999999998,
          "frequency_other": 0.9999999999999998,
          "observed_growth_rate": 1.000002,
          "projected_frequency": 1.0000000000000002,
          "timepoint": "2005-04-01T00:00:00",
          "year": 2005
         },
         {
          "clade_membership": "e501908",
          "estimated_growth_rate": 1.0000000000000004,
          "frequency": 0.9999999999999998,
          "frequency_final": 1.0000019999999998,
          "frequency_other": 0.9999999999999998,
          "observed_growth_rate": 1.000002,
          "projected_frequency": 1.0000000000000002,
          "timepoint": "2005-04-01T00:00:00",
          "year": 2005
         },
         {
          "clade_membership": "e64cc68",
          "estimated_growth_rate": 1.0000000000000004,
          "frequency": 0.9999999999999998,
          "frequency_final": 1.0000019999999998,
          "frequency_other": 0.9999999999999998,
          "observed_growth_rate": 1.000002,
          "projected_frequency": 1.0000000000000002,
          "timepoint": "2005-04-01T00:00:00",
          "year": 2005
         },
         {
          "clade_membership": "ecf49fd",
          "estimated_growth_rate": 1.0000000000000004,
          "frequency": 0.9999999999999998,
          "frequency_final": 1.0000019999999998,
          "frequency_other": 0.9999999999999998,
          "observed_growth_rate": 1.000002,
          "projected_frequency": 1.0000000000000002,
          "timepoint": "2005-04-01T00:00:00",
          "year": 2005
         },
         {
          "clade_membership": "f3f16af",
          "estimated_growth_rate": 1.0000000000000004,
          "frequency": 0.9999999999999998,
          "frequency_final": 1.0000019999999998,
          "frequency_other": 0.9999999999999998,
          "observed_growth_rate": 1.000002,
          "projected_frequency": 1.0000000000000002,
          "timepoint": "2005-04-01T00:00:00",
          "year": 2005
         },
         {
          "clade_membership": "fd5608c",
          "estimated_growth_rate": 1.052042001619368,
          "frequency": 0.9505060000000001,
          "frequency_final": 0.9980419999999999,
          "frequency_other": 0.9505060000000002,
          "observed_growth_rate": 1.0500112571619746,
          "projected_frequency": 0.9999722347912189,
          "timepoint": "2005-04-01T00:00:00",
          "year": 2005
         },
         {
          "clade_membership": "root",
          "estimated_growth_rate": 1.0000000000000004,
          "frequency": 0.9999999999999998,
          "frequency_final": 1.0000019999999998,
          "frequency_other": 0.9999999999999998,
          "observed_growth_rate": 1.000002,
          "projected_frequency": 1.0000000000000002,
          "timepoint": "2005-04-01T00:00:00",
          "year": 2005
         },
         {
          "clade_membership": "02e323e",
          "estimated_growth_rate": 1.0000110001210014,
          "frequency": 0.999989,
          "frequency_final": 1.000001,
          "frequency_other": 0.999989,
          "observed_growth_rate": 1.0000120001320014,
          "projected_frequency": 1,
          "timepoint": "2005-10-01T00:00:00",
          "year": 2005
         },
         {
          "clade_membership": "048f8ca",
          "estimated_growth_rate": 1.0000110001210014,
          "frequency": 0.999989,
          "frequency_final": 1.000001,
          "frequency_other": 0.999989,
          "observed_growth_rate": 1.0000120001320014,
          "projected_frequency": 1,
          "timepoint": "2005-10-01T00:00:00",
          "year": 2005
         },
         {
          "clade_membership": "09e68a2",
          "estimated_growth_rate": 1.0000110001210014,
          "frequency": 0.999989,
          "frequency_final": 1.000001,
          "frequency_other": 0.999989,
          "observed_growth_rate": 1.0000120001320014,
          "projected_frequency": 1,
          "timepoint": "2005-10-01T00:00:00",
          "year": 2005
         },
         {
          "clade_membership": "2806112",
          "estimated_growth_rate": 0.0009872732971753634,
          "frequency": 0.15843600000000002,
          "frequency_final": 0.020262000000000002,
          "frequency_other": 0.15843600000000002,
          "observed_growth_rate": 0.12788760130273422,
          "projected_frequency": 0.0001564196321112759,
          "timepoint": "2005-10-01T00:00:00",
          "year": 2005
         },
         {
          "clade_membership": "35491c6",
          "estimated_growth_rate": 1.0000110001210014,
          "frequency": 0.999989,
          "frequency_final": 1.000001,
          "frequency_other": 0.999989,
          "observed_growth_rate": 1.0000120001320014,
          "projected_frequency": 1,
          "timepoint": "2005-10-01T00:00:00",
          "year": 2005
         },
         {
          "clade_membership": "3a81d99",
          "estimated_growth_rate": 1.1124069289340426,
          "frequency": 0.8989430000000003,
          "frequency_final": 0.9756090000000001,
          "frequency_other": 0.8989430000000003,
          "observed_growth_rate": 1.0852846064767174,
          "projected_frequency": 0.9999904219167552,
          "timepoint": "2005-10-01T00:00:00",
          "year": 2005
         },
         {
          "clade_membership": "44989e1",
          "estimated_growth_rate": 1.1232648477382448,
          "frequency": 0.8902530000000004,
          "frequency_final": 0.9756090000000001,
          "frequency_other": 0.8902530000000004,
          "observed_growth_rate": 1.0958783626676907,
          "projected_frequency": 0.9999899004935161,
          "timepoint": "2005-10-01T00:00:00",
          "year": 2005
         },
         {
          "clade_membership": "4952842",
          "estimated_growth_rate": 1.0386676638469332,
          "frequency": 0.9627680000000001,
          "frequency_final": 1.000001,
          "frequency_other": 0.9627680000000001,
          "observed_growth_rate": 1.0386728682299369,
          "projected_frequency": 0.9999959893865843,
          "timepoint": "2005-10-01T00:00:00",
          "year": 2005
         },
         {
          "clade_membership": "4ff1302",
          "estimated_growth_rate": 1.0473636033963531,
          "frequency": 0.9547740000000002,
          "frequency_final": 1.000001,
          "frequency_other": 0.9547740000000002,
          "observed_growth_rate": 1.0473693250968288,
          "projected_frequency": 0.99999553706915,
          "timepoint": "2005-10-01T00:00:00",
          "year": 2005
         },
         {
          "clade_membership": "5ce45ae",
          "estimated_growth_rate": 0.0007643304661468452,
          "frequency": 0.21233899999999994,
          "frequency_final": 0.10469200000000004,
          "frequency_other": 0.21233899999999994,
          "observed_growth_rate": 0.4930417869538806,
          "projected_frequency": 0.00016229716685115493,
          "timepoint": "2005-10-01T00:00:00",
          "year": 2005
         },
         {
          "clade_membership": "6335574",
          "estimated_growth_rate": 1.0386676638469332,
          "frequency": 0.9627680000000001,
          "frequency_final": 0,
          "frequency_other": 0.9627680000000001,
          "observed_growth_rate": 0,
          "projected_frequency": 0.9999959893865843,
          "timepoint": "2005-10-01T00:00:00",
          "year": 2005
         },
         {
          "clade_membership": "6b0ee12",
          "estimated_growth_rate": 1.0000110001210014,
          "frequency": 0.999989,
          "frequency_final": 0,
          "frequency_other": 0.999989,
          "observed_growth_rate": 0,
          "projected_frequency": 1,
          "timepoint": "2005-10-01T00:00:00",
          "year": 2005
         },
         {
          "clade_membership": "7aa732d",
          "estimated_growth_rate": 1.233837182858084,
          "frequency": 0.8104660000000001,
          "frequency_final": 0.975608,
          "frequency_other": 0.8104660000000001,
          "observed_growth_rate": 1.203761786429042,
          "projected_frequency": 0.9999830862422601,
          "timepoint": "2005-10-01T00:00:00",
          "year": 2005
         },
         {
          "clade_membership": "85356dd",
          "estimated_growth_rate": 1.0386676638469332,
          "frequency": 0.9627680000000001,
          "frequency_final": 1.000001,
          "frequency_other": 0.9627680000000001,
          "observed_growth_rate": 1.0386728682299369,
          "projected_frequency": 0.9999959893865843,
          "timepoint": "2005-10-01T00:00:00",
          "year": 2005
         },
         {
          "clade_membership": "88dab64",
          "estimated_growth_rate": 1.0000110001210014,
          "frequency": 0.999989,
          "frequency_final": 1.000001,
          "frequency_other": 0.999989,
          "observed_growth_rate": 1.0000120001320014,
          "projected_frequency": 1,
          "timepoint": "2005-10-01T00:00:00",
          "year": 2005
         },
         {
          "clade_membership": "98c068a",
          "estimated_growth_rate": 1.0000110001210014,
          "frequency": 0.999989,
          "frequency_final": 1.000001,
          "frequency_other": 0.999989,
          "observed_growth_rate": 1.0000120001320014,
          "projected_frequency": 1,
          "timepoint": "2005-10-01T00:00:00",
          "year": 2005
         },
         {
          "clade_membership": "9a3ff5d",
          "estimated_growth_rate": 1.0386676638469332,
          "frequency": 0.9627680000000001,
          "frequency_final": 1.000001,
          "frequency_other": 0.9627680000000001,
          "observed_growth_rate": 1.0386728682299369,
          "projected_frequency": 0.9999959893865843,
          "timepoint": "2005-10-01T00:00:00",
          "year": 2005
         },
         {
          "clade_membership": "9b04f13",
          "estimated_growth_rate": 2.186759133055511,
          "frequency": 0.4572079999999999,
          "frequency_final": 0.8707150000000001,
          "frequency_other": 0.4572079999999999,
          "observed_growth_rate": 1.904417682980176,
          "projected_frequency": 0.9998037697060438,
          "timepoint": "2005-10-01T00:00:00",
          "year": 2005
         },
         {
          "clade_membership": "a5bcb4f",
          "estimated_growth_rate": 1.0386676638469332,
          "frequency": 0.9627680000000001,
          "frequency_final": 1.000001,
          "frequency_other": 0.9627680000000001,
          "observed_growth_rate": 1.0386728682299369,
          "projected_frequency": 0.9999959893865843,
          "timepoint": "2005-10-01T00:00:00",
          "year": 2005
         },
         {
          "clade_membership": "a8f54a9",
          "estimated_growth_rate": 1.0000110001210014,
          "frequency": 0.999989,
          "frequency_final": 0,
          "frequency_other": 0.999989,
          "observed_growth_rate": 0,
          "projected_frequency": 1,
          "timepoint": "2005-10-01T00:00:00",
          "year": 2005
         },
         {
          "clade_membership": "aab80f6",
          "estimated_growth_rate": 1.0386676638469332,
          "frequency": 0.9627680000000001,
          "frequency_final": 1.000001,
          "frequency_other": 0.9627680000000001,
          "observed_growth_rate": 1.0386728682299369,
          "projected_frequency": 0.9999959893865843,
          "timepoint": "2005-10-01T00:00:00",
          "year": 2005
         },
         {
          "clade_membership": "b32cea9",
          "estimated_growth_rate": 1.0386676638469332,
          "frequency": 0.9627680000000001,
          "frequency_final": 1.000001,
          "frequency_other": 0.9627680000000001,
          "observed_growth_rate": 1.0386728682299369,
          "projected_frequency": 0.9999959893865843,
          "timepoint": "2005-10-01T00:00:00",
          "year": 2005
         },
         {
          "clade_membership": "d6906cf",
          "estimated_growth_rate": 1.0000110001210014,
          "frequency": 0.999989,
          "frequency_final": 1.000001,
          "frequency_other": 0.999989,
          "observed_growth_rate": 1.0000120001320014,
          "projected_frequency": 1,
          "timepoint": "2005-10-01T00:00:00",
          "year": 2005
         },
         {
          "clade_membership": "d8ea4e1",
          "estimated_growth_rate": 0.0007643304661468452,
          "frequency": 0.21233899999999994,
          "frequency_final": 0.10469200000000004,
          "frequency_other": 0.21233899999999994,
          "observed_growth_rate": 0.4930417869538806,
          "projected_frequency": 0.00016229716685115493,
          "timepoint": "2005-10-01T00:00:00",
          "year": 2005
         },
         {
          "clade_membership": "e501908",
          "estimated_growth_rate": 1.0000110001210014,
          "frequency": 0.999989,
          "frequency_final": 1.000001,
          "frequency_other": 0.999989,
          "observed_growth_rate": 1.0000120001320014,
          "projected_frequency": 1,
          "timepoint": "2005-10-01T00:00:00",
          "year": 2005
         },
         {
          "clade_membership": "e64cc68",
          "estimated_growth_rate": 1.0000110001210014,
          "frequency": 0.999989,
          "frequency_final": 1.000001,
          "frequency_other": 0.999989,
          "observed_growth_rate": 1.0000120001320014,
          "projected_frequency": 1,
          "timepoint": "2005-10-01T00:00:00",
          "year": 2005
         },
         {
          "clade_membership": "ecf49fd",
          "estimated_growth_rate": 1.0000110001210014,
          "frequency": 0.999989,
          "frequency_final": 1.000001,
          "frequency_other": 0.999989,
          "observed_growth_rate": 1.0000120001320014,
          "projected_frequency": 1,
          "timepoint": "2005-10-01T00:00:00",
          "year": 2005
         },
         {
          "clade_membership": "f3f16af",
          "estimated_growth_rate": 1.0000110001210014,
          "frequency": 0.999989,
          "frequency_final": 1.000001,
          "frequency_other": 0.999989,
          "observed_growth_rate": 1.0000120001320014,
          "projected_frequency": 1,
          "timepoint": "2005-10-01T00:00:00",
          "year": 2005
         },
         {
          "clade_membership": "root",
          "estimated_growth_rate": 1.0000110001210014,
          "frequency": 0.999989,
          "frequency_final": 1.000001,
          "frequency_other": 0.999989,
          "observed_growth_rate": 1.0000120001320014,
          "projected_frequency": 1,
          "timepoint": "2005-10-01T00:00:00",
          "year": 2005
         },
         {
          "clade_membership": "02e323e",
          "estimated_growth_rate": 0.9999980000040001,
          "frequency": 1.0000019999999998,
          "frequency_final": 0.9999949999999995,
          "frequency_other": 1.0000019999999998,
          "observed_growth_rate": 0.9999930000139997,
          "projected_frequency": 0.9999999999999999,
          "timepoint": "2006-04-01T00:00:00",
          "year": 2006
         },
         {
          "clade_membership": "048f8ca",
          "estimated_growth_rate": 0.9999980000040001,
          "frequency": 1.0000019999999998,
          "frequency_final": 0.9999949999999995,
          "frequency_other": 1.0000019999999998,
          "observed_growth_rate": 0.9999930000139997,
          "projected_frequency": 0.9999999999999999,
          "timepoint": "2006-04-01T00:00:00",
          "year": 2006
         },
         {
          "clade_membership": "09e68a2",
          "estimated_growth_rate": 0.9999980000040001,
          "frequency": 1.0000019999999998,
          "frequency_final": 0.9999949999999995,
          "frequency_other": 1.0000019999999998,
          "observed_growth_rate": 0.9999930000139997,
          "projected_frequency": 0.9999999999999999,
          "timepoint": "2006-04-01T00:00:00",
          "year": 2006
         },
         {
          "clade_membership": "35491c6",
          "estimated_growth_rate": 0.9999980000040001,
          "frequency": 1.0000019999999998,
          "frequency_final": 0.9999949999999995,
          "frequency_other": 1.0000019999999998,
          "observed_growth_rate": 0.9999930000139997,
          "projected_frequency": 0.9999999999999999,
          "timepoint": "2006-04-01T00:00:00",
          "year": 2006
         },
         {
          "clade_membership": "3a81d99",
          "estimated_growth_rate": 1.0019482663899606,
          "frequency": 0.9980419999999999,
          "frequency_final": 0.9910169999999996,
          "frequency_other": 0.9980419999999999,
          "observed_growth_rate": 0.992961218064971,
          "projected_frequency": 0.999986451684369,
          "timepoint": "2006-04-01T00:00:00",
          "year": 2006
         },
         {
          "clade_membership": "412c00a",
          "estimated_growth_rate": 1.0019482663899606,
          "frequency": 0.9980419999999999,
          "frequency_final": 0,
          "frequency_other": 0.9980419999999999,
          "observed_growth_rate": 0,
          "projected_frequency": 0.999986451684369,
          "timepoint": "2006-04-01T00:00:00",
          "year": 2006
         },
         {
          "clade_membership": "44989e1",
          "estimated_growth_rate": 1.0110223252060249,
          "frequency": 0.989049,
          "frequency_final": 0.9910169999999996,
          "frequency_other": 0.989049,
          "observed_growth_rate": 1.0019897901923966,
          "projected_frequency": 0.9999506197226936,
          "timepoint": "2006-04-01T00:00:00",
          "year": 2006
         },
         {
          "clade_membership": "4952842",
          "estimated_growth_rate": 1.0019482663899606,
          "frequency": 0.9980419999999999,
          "frequency_final": 0.9999949999999995,
          "frequency_other": 0.9980419999999999,
          "observed_growth_rate": 1.0019568314760297,
          "projected_frequency": 0.999986451684369,
          "timepoint": "2006-04-01T00:00:00",
          "year": 2006
         },
         {
          "clade_membership": "4e35443",
          "estimated_growth_rate": 1.0019482663899606,
          "frequency": 0.9980419999999999,
          "frequency_final": 0.9999949999999995,
          "frequency_other": 0.9980419999999999,
          "observed_growth_rate": 1.0019568314760297,
          "projected_frequency": 0.999986451684369,
          "timepoint": "2006-04-01T00:00:00",
          "year": 2006
         },
         {
          "clade_membership": "4ff1302",
          "estimated_growth_rate": 1.0019482663899606,
          "frequency": 0.9980419999999999,
          "frequency_final": 0,
          "frequency_other": 0.9980419999999999,
          "observed_growth_rate": 0,
          "projected_frequency": 0.999986451684369,
          "timepoint": "2006-04-01T00:00:00",
          "year": 2006
         },
         {
          "clade_membership": "5ce45ae",
          "estimated_growth_rate": 0.008721223345051687,
          "frequency": 0.241295,
          "frequency_final": 0,
          "frequency_other": 0.241295,
          "observed_growth_rate": 0,
          "projected_frequency": 0.002104387587044247,
          "timepoint": "2006-04-01T00:00:00",
          "year": 2006
         },
         {
          "clade_membership": "6335574",
          "estimated_growth_rate": 1.0019482663899606,
          "frequency": 0.9980419999999999,
          "frequency_final": 0.9999949999999995,
          "frequency_other": 0.9980419999999999,
          "observed_growth_rate": 1.0019568314760297,
          "projected_frequency": 0.999986451684369,
          "timepoint": "2006-04-01T00:00:00",
          "year": 2006
         },
         {
          "clade_membership": "7aa732d",
          "estimated_growth_rate": 1.033905750355323,
          "frequency": 0.967061,
          "frequency_final": 0.9910169999999996,
          "frequency_other": 0.967061,
          "observed_growth_rate": 1.0247719637127333,
          "projected_frequency": 0.9998499288443691,
          "timepoint": "2006-04-01T00:00:00",
          "year": 2006
         },
         {
          "clade_membership": "85356dd",
          "estimated_growth_rate": 1.0019482663899606,
          "frequency": 0.9980419999999999,
          "frequency_final": 0.9999949999999995,
          "frequency_other": 0.9980419999999999,
          "observed_growth_rate": 1.0019568314760297,
          "projected_frequency": 0.999986451684369,
          "timepoint": "2006-04-01T00:00:00",
          "year": 2006
         },
         {
          "clade_membership": "88dab64",
          "estimated_growth_rate": 0.9999980000040001,
          "frequency": 1.0000019999999998,
          "frequency_final": 0.9999949999999995,
          "frequency_other": 1.0000019999999998,
          "observed_growth_rate": 0.9999930000139997,
          "projected_frequency": 0.9999999999999999,
          "timepoint": "2006-04-01T00:00:00",
          "year": 2006
         },
         {
          "clade_membership": "8e08f7f",
          "estimated_growth_rate": 0.9999980000040001,
          "frequency": 1.0000019999999998,
          "frequency_final": 0.9999949999999995,
          "frequency_other": 1.0000019999999998,
          "observed_growth_rate": 0.9999930000139997,
          "projected_frequency": 0.9999999999999999,
          "timepoint": "2006-04-01T00:00:00",
          "year": 2006
         },
         {
          "clade_membership": "98c068a",
          "estimated_growth_rate": 0.9999980000040001,
          "frequency": 1.0000019999999998,
          "frequency_final": 0.9999949999999995,
          "frequency_other": 1.0000019999999998,
          "observed_growth_rate": 0.9999930000139997,
          "projected_frequency": 0.9999999999999999,
          "timepoint": "2006-04-01T00:00:00",
          "year": 2006
         },
         {
          "clade_membership": "9a3ff5d",
          "estimated_growth_rate": 1.0019482663899606,
          "frequency": 0.9980419999999999,
          "frequency_final": 0.9999949999999995,
          "frequency_other": 0.9980419999999999,
          "observed_growth_rate": 1.0019568314760297,
          "projected_frequency": 0.999986451684369,
          "timepoint": "2006-04-01T00:00:00",
          "year": 2006
         },
         {
          "clade_membership": "9b04f13",
          "estimated_growth_rate": 1.4363806315925103,
          "frequency": 0.6944840000000003,
          "frequency_final": 0.9890729999999996,
          "frequency_other": 0.6944840000000003,
          "observed_growth_rate": 1.4241839984794455,
          "projected_frequency": 0.9975433665508934,
          "timepoint": "2006-04-01T00:00:00",
          "year": 2006
         },
         {
          "clade_membership": "a5bcb4f",
          "estimated_growth_rate": 1.0019482663899606,
          "frequency": 0.9980419999999999,
          "frequency_final": 0.9999949999999995,
          "frequency_other": 0.9980419999999999,
          "observed_growth_rate": 1.0019568314760297,
          "projected_frequency": 0.999986451684369,
          "timepoint": "2006-04-01T00:00:00",
          "year": 2006
         },
         {
          "clade_membership": "aab80f6",
          "estimated_growth_rate": 1.0019482663899606,
          "frequency": 0.9980419999999999,
          "frequency_final": 0.9999949999999995,
          "frequency_other": 0.9980419999999999,
          "observed_growth_rate": 1.0019568314760297,
          "projected_frequency": 0.999986451684369,
          "timepoint": "2006-04-01T00:00:00",
          "year": 2006
         },
         {
          "clade_membership": "b32cea9",
          "estimated_growth_rate": 1.0019482663899606,
          "frequency": 0.9980419999999999,
          "frequency_final": 0,
          "frequency_other": 0.9980419999999999,
          "observed_growth_rate": 0,
          "projected_frequency": 0.999986451684369,
          "timepoint": "2006-04-01T00:00:00",
          "year": 2006
         },
         {
          "clade_membership": "d6906cf",
          "estimated_growth_rate": 0.9999980000040001,
          "frequency": 1.0000019999999998,
          "frequency_final": 0.9999949999999995,
          "frequency_other": 1.0000019999999998,
          "observed_growth_rate": 0.9999930000139997,
          "projected_frequency": 0.9999999999999999,
          "timepoint": "2006-04-01T00:00:00",
          "year": 2006
         },
         {
          "clade_membership": "d7fecad",
          "estimated_growth_rate": 0.9999980000040001,
          "frequency": 1.0000019999999998,
          "frequency_final": 0.9999949999999995,
          "frequency_other": 1.0000019999999998,
          "observed_growth_rate": 0.9999930000139997,
          "projected_frequency": 0.9999999999999999,
          "timepoint": "2006-04-01T00:00:00",
          "year": 2006
         },
         {
          "clade_membership": "d8ea4e1",
          "estimated_growth_rate": 0.008721223345051687,
          "frequency": 0.241295,
          "frequency_final": 0,
          "frequency_other": 0.241295,
          "observed_growth_rate": 0,
          "projected_frequency": 0.002104387587044247,
          "timepoint": "2006-04-01T00:00:00",
          "year": 2006
         },
         {
          "clade_membership": "e501908",
          "estimated_growth_rate": 0.9999980000040001,
          "frequency": 1.0000019999999998,
          "frequency_final": 0.9999949999999995,
          "frequency_other": 1.0000019999999998,
          "observed_growth_rate": 0.9999930000139997,
          "projected_frequency": 0.9999999999999999,
          "timepoint": "2006-04-01T00:00:00",
          "year": 2006
         },
         {
          "clade_membership": "e64cc68",
          "estimated_growth_rate": 0.9999980000040001,
          "frequency": 1.0000019999999998,
          "frequency_final": 0.9999949999999995,
          "frequency_other": 1.0000019999999998,
          "observed_growth_rate": 0.9999930000139997,
          "projected_frequency": 0.9999999999999999,
          "timepoint": "2006-04-01T00:00:00",
          "year": 2006
         },
         {
          "clade_membership": "ecf49fd",
          "estimated_growth_rate": 0.9999980000040001,
          "frequency": 1.0000019999999998,
          "frequency_final": 0.9999949999999995,
          "frequency_other": 1.0000019999999998,
          "observed_growth_rate": 0.9999930000139997,
          "projected_frequency": 0.9999999999999999,
          "timepoint": "2006-04-01T00:00:00",
          "year": 2006
         },
         {
          "clade_membership": "f3f16af",
          "estimated_growth_rate": 0.9999980000040001,
          "frequency": 1.0000019999999998,
          "frequency_final": 0.9999949999999995,
          "frequency_other": 1.0000019999999998,
          "observed_growth_rate": 0.9999930000139997,
          "projected_frequency": 0.9999999999999999,
          "timepoint": "2006-04-01T00:00:00",
          "year": 2006
         },
         {
          "clade_membership": "fd5608c",
          "estimated_growth_rate": 1.0019482663899606,
          "frequency": 0.9980419999999999,
          "frequency_final": 0.9999949999999995,
          "frequency_other": 0.9980419999999999,
          "observed_growth_rate": 1.0019568314760297,
          "projected_frequency": 0.999986451684369,
          "timepoint": "2006-04-01T00:00:00",
          "year": 2006
         },
         {
          "clade_membership": "root",
          "estimated_growth_rate": 0.9999980000040001,
          "frequency": 1.0000019999999998,
          "frequency_final": 0.9999949999999995,
          "frequency_other": 1.0000019999999998,
          "observed_growth_rate": 0.9999930000139997,
          "projected_frequency": 0.9999999999999999,
          "timepoint": "2006-04-01T00:00:00",
          "year": 2006
         },
         {
          "clade_membership": "02e323e",
          "estimated_growth_rate": 0.9999990000009995,
          "frequency": 1.000001,
          "frequency_final": 0.9999930000000005,
          "frequency_other": 1.0000010000000001,
          "observed_growth_rate": 0.9999920000080006,
          "projected_frequency": 0.9999999999999994,
          "timepoint": "2006-10-01T00:00:00",
          "year": 2006
         },
         {
          "clade_membership": "048f8ca",
          "estimated_growth_rate": 0.9999990000009995,
          "frequency": 1.000001,
          "frequency_final": 0.9999930000000005,
          "frequency_other": 1.0000010000000001,
          "observed_growth_rate": 0.9999920000080006,
          "projected_frequency": 0.9999999999999994,
          "timepoint": "2006-10-01T00:00:00",
          "year": 2006
         },
         {
          "clade_membership": "09e68a2",
          "estimated_growth_rate": 0.9999990000009995,
          "frequency": 1.000001,
          "frequency_final": 0.9999930000000005,
          "frequency_other": 1.0000010000000001,
          "observed_growth_rate": 0.9999920000080006,
          "projected_frequency": 0.9999999999999994,
          "timepoint": "2006-10-01T00:00:00",
          "year": 2006
         },
         {
          "clade_membership": "35491c6",
          "estimated_growth_rate": 0.9999990000009995,
          "frequency": 1.000001,
          "frequency_final": 0.9999930000000005,
          "frequency_other": 1.0000010000000001,
          "observed_growth_rate": 0.9999920000080006,
          "projected_frequency": 0.9999999999999994,
          "timepoint": "2006-10-01T00:00:00",
          "year": 2006
         },
         {
          "clade_membership": "3a81d99",
          "estimated_growth_rate": 1.0249655809716296,
          "frequency": 0.9756090000000001,
          "frequency_final": 0.9999930000000005,
          "frequency_other": 0.9756090000000001,
          "observed_growth_rate": 1.0249936193700555,
          "projected_frequency": 0.9999656454861507,
          "timepoint": "2006-10-01T00:00:00",
          "year": 2006
         },
         {
          "clade_membership": "412c00a",
          "estimated_growth_rate": 0.9999990000009995,
          "frequency": 1.000001,
          "frequency_final": 0.9999930000000005,
          "frequency_other": 1.0000010000000001,
          "observed_growth_rate": 0.9999920000080006,
          "projected_frequency": 0.9999999999999994,
          "timepoint": "2006-10-01T00:00:00",
          "year": 2006
         },
         {
          "clade_membership": "44989e1",
          "estimated_growth_rate": 1.0249655809716296,
          "frequency": 0.9756090000000001,
          "frequency_final": 0.9999930000000005,
          "frequency_other": 0.9756090000000001,
          "observed_growth_rate": 1.0249936193700555,
          "projected_frequency": 0.9999656454861507,
          "timepoint": "2006-10-01T00:00:00",
          "year": 2006
         },
         {
          "clade_membership": "4952842",
          "estimated_growth_rate": 0.9999990000009995,
          "frequency": 1.000001,
          "frequency_final": 0.9999930000000005,
          "frequency_other": 1.0000010000000001,
          "observed_growth_rate": 0.9999920000080006,
          "projected_frequency": 0.9999999999999994,
          "timepoint": "2006-10-01T00:00:00",
          "year": 2006
         },
         {
          "clade_membership": "4e35443",
          "estimated_growth_rate": 0.9999990000009995,
          "frequency": 1.000001,
          "frequency_final": 0,
          "frequency_other": 1.0000010000000001,
          "observed_growth_rate": 0,
          "projected_frequency": 0.9999999999999994,
          "timepoint": "2006-10-01T00:00:00",
          "year": 2006
         },
         {
          "clade_membership": "4ff1302",
          "estimated_growth_rate": 0.9999990000009995,
          "frequency": 1.000001,
          "frequency_final": 0.9999930000000005,
          "frequency_other": 1.0000010000000001,
          "observed_growth_rate": 0.9999920000080006,
          "projected_frequency": 0.9999999999999994,
          "timepoint": "2006-10-01T00:00:00",
          "year": 2006
         },
         {
          "clade_membership": "7aa732d",
          "estimated_growth_rate": 1.0249666314876469,
          "frequency": 0.975608,
          "frequency_final": 0.9999930000000005,
          "frequency_other": 0.975608,
          "observed_growth_rate": 1.0249946699904064,
          "projected_frequency": 0.9999656454124002,
          "timepoint": "2006-10-01T00:00:00",
          "year": 2006
         },
         {
          "clade_membership": "81957b0",
          "estimated_growth_rate": 2.5230067939192664,
          "frequency": 0.36886799999999986,
          "frequency_final": 0,
          "frequency_other": 0.36886799999999986,
          "observed_growth_rate": 0,
          "projected_frequency": 0.9306564700594117,
          "timepoint": "2006-10-01T00:00:00",
          "year": 2006
         },
         {
          "clade_membership": "85356dd",
          "estimated_growth_rate": 0.9999990000009995,
          "frequency": 1.000001,
          "frequency_final": 0.9999930000000005,
          "frequency_other": 1.0000010000000001,
          "observed_growth_rate": 0.9999920000080006,
          "projected_frequency": 0.9999999999999994,
          "timepoint": "2006-10-01T00:00:00",
          "year": 2006
         },
         {
          "clade_membership": "88dab64",
          "estimated_growth_rate": 0.9999990000009995,
          "frequency": 1.000001,
          "frequency_final": 0.9999930000000005,
          "frequency_other": 1.0000010000000001,
          "observed_growth_rate": 0.9999920000080006,
          "projected_frequency": 0.9999999999999994,
          "timepoint": "2006-10-01T00:00:00",
          "year": 2006
         },
         {
          "clade_membership": "8e08f7f",
          "estimated_growth_rate": 0.9999990000009995,
          "frequency": 1.000001,
          "frequency_final": 0.9999930000000005,
          "frequency_other": 1.0000010000000001,
          "observed_growth_rate": 0.9999920000080006,
          "projected_frequency": 0.9999999999999994,
          "timepoint": "2006-10-01T00:00:00",
          "year": 2006
         },
         {
          "clade_membership": "98c068a",
          "estimated_growth_rate": 0.9999990000009995,
          "frequency": 1.000001,
          "frequency_final": 0.9999930000000005,
          "frequency_other": 1.0000010000000001,
          "observed_growth_rate": 0.9999920000080006,
          "projected_frequency": 0.9999999999999994,
          "timepoint": "2006-10-01T00:00:00",
          "year": 2006
         },
         {
          "clade_membership": "9a3ff5d",
          "estimated_growth_rate": 0.9999990000009995,
          "frequency": 1.000001,
          "frequency_final": 0.9999930000000005,
          "frequency_other": 1.0000010000000001,
          "observed_growth_rate": 0.9999920000080006,
          "projected_frequency": 0.9999999999999994,
          "timepoint": "2006-10-01T00:00:00",
          "year": 2006
         },
         {
          "clade_membership": "9b04f13",
          "estimated_growth_rate": 1.1452481176339018,
          "frequency": 0.8707150000000001,
          "frequency_final": 0.9999930000000005,
          "frequency_other": 0.8707150000000001,
          "observed_growth_rate": 1.1484733810718781,
          "projected_frequency": 0.9971847147456029,
          "timepoint": "2006-10-01T00:00:00",
          "year": 2006
         },
         {
          "clade_membership": "a5bcb4f",
          "estimated_growth_rate": 0.9999990000009995,
          "frequency": 1.000001,
          "frequency_final": 0.9999930000000005,
          "frequency_other": 1.0000010000000001,
          "observed_growth_rate": 0.9999920000080006,
          "projected_frequency": 0.9999999999999994,
          "timepoint": "2006-10-01T00:00:00",
          "year": 2006
         },
         {
          "clade_membership": "a7de610",
          "estimated_growth_rate": 0.16925287897688818,
          "frequency": 0.17215999999999998,
          "frequency_final": 0,
          "frequency_other": 0.17215999999999998,
          "observed_growth_rate": 0,
          "projected_frequency": 0.029138575644661067,
          "timepoint": "2006-10-01T00:00:00",
          "year": 2006
         },
         {
          "clade_membership": "aab80f6",
          "estimated_growth_rate": 0.9999990000009995,
          "frequency": 1.000001,
          "frequency_final": 0.9999930000000005,
          "frequency_other": 1.0000010000000001,
          "observed_growth_rate": 0.9999920000080006,
          "projected_frequency": 0.9999999999999994,
          "timepoint": "2006-10-01T00:00:00",
          "year": 2006
         },
         {
          "clade_membership": "b32cea9",
          "estimated_growth_rate": 0.9999990000009995,
          "frequency": 1.000001,
          "frequency_final": 0,
          "frequency_other": 1.0000010000000001,
          "observed_growth_rate": 0,
          "projected_frequency": 0.9999999999999994,
          "timepoint": "2006-10-01T00:00:00",
          "year": 2006
         },
         {
          "clade_membership": "d6906cf",
          "estimated_growth_rate": 0.9999990000009995,
          "frequency": 1.000001,
          "frequency_final": 0.9999930000000005,
          "frequency_other": 1.0000010000000001,
          "observed_growth_rate": 0.9999920000080006,
          "projected_frequency": 0.9999999999999994,
          "timepoint": "2006-10-01T00:00:00",
          "year": 2006
         },
         {
          "clade_membership": "d7fecad",
          "estimated_growth_rate": 0.9999990000009995,
          "frequency": 1.000001,
          "frequency_final": 0.9999930000000005,
          "frequency_other": 1.0000010000000001,
          "observed_growth_rate": 0.9999920000080006,
          "projected_frequency": 0.9999999999999994,
          "timepoint": "2006-10-01T00:00:00",
          "year": 2006
         },
         {
          "clade_membership": "e2f3876",
          "estimated_growth_rate": 0.9999990000009995,
          "frequency": 1.000001,
          "frequency_final": 0.9999930000000005,
          "frequency_other": 1.0000010000000001,
          "observed_growth_rate": 0.9999920000080006,
          "projected_frequency": 0.9999999999999994,
          "timepoint": "2006-10-01T00:00:00",
          "year": 2006
         },
         {
          "clade_membership": "e501908",
          "estimated_growth_rate": 0.9999990000009995,
          "frequency": 1.000001,
          "frequency_final": 0.9999930000000005,
          "frequency_other": 1.0000010000000001,
          "observed_growth_rate": 0.9999920000080006,
          "projected_frequency": 0.9999999999999994,
          "timepoint": "2006-10-01T00:00:00",
          "year": 2006
         },
         {
          "clade_membership": "e64cc68",
          "estimated_growth_rate": 0.9999990000009995,
          "frequency": 1.000001,
          "frequency_final": 0.9999930000000005,
          "frequency_other": 1.0000010000000001,
          "observed_growth_rate": 0.9999920000080006,
          "projected_frequency": 0.9999999999999994,
          "timepoint": "2006-10-01T00:00:00",
          "year": 2006
         },
         {
          "clade_membership": "ecf49fd",
          "estimated_growth_rate": 0.9999990000009995,
          "frequency": 1.000001,
          "frequency_final": 0.9999930000000005,
          "frequency_other": 1.0000010000000001,
          "observed_growth_rate": 0.9999920000080006,
          "projected_frequency": 0.9999999999999994,
          "timepoint": "2006-10-01T00:00:00",
          "year": 2006
         },
         {
          "clade_membership": "f3f16af",
          "estimated_growth_rate": 0.9999990000009995,
          "frequency": 1.000001,
          "frequency_final": 0.9999930000000005,
          "frequency_other": 1.0000010000000001,
          "observed_growth_rate": 0.9999920000080006,
          "projected_frequency": 0.9999999999999994,
          "timepoint": "2006-10-01T00:00:00",
          "year": 2006
         },
         {
          "clade_membership": "f4232bd",
          "estimated_growth_rate": 2.5230067939192664,
          "frequency": 0.36886799999999986,
          "frequency_final": 0,
          "frequency_other": 0.36886799999999986,
          "observed_growth_rate": 0,
          "projected_frequency": 0.9306564700594117,
          "timepoint": "2006-10-01T00:00:00",
          "year": 2006
         },
         {
          "clade_membership": "ff9301c",
          "estimated_growth_rate": 0.9999990000009995,
          "frequency": 1.000001,
          "frequency_final": 0.9999930000000005,
          "frequency_other": 1.0000010000000001,
          "observed_growth_rate": 0.9999920000080006,
          "projected_frequency": 0.9999999999999994,
          "timepoint": "2006-10-01T00:00:00",
          "year": 2006
         },
         {
          "clade_membership": "root",
          "estimated_growth_rate": 0.9999990000009995,
          "frequency": 1.000001,
          "frequency_final": 0.9999930000000005,
          "frequency_other": 1.0000010000000001,
          "observed_growth_rate": 0.9999920000080006,
          "projected_frequency": 0.9999999999999994,
          "timepoint": "2006-10-01T00:00:00",
          "year": 2006
         },
         {
          "clade_membership": "0003b07",
          "estimated_growth_rate": 1.2838167036573338,
          "frequency": 0.7785749999999998,
          "frequency_final": 0.9402800000000001,
          "frequency_other": 0.7785749999999998,
          "observed_growth_rate": 1.2076935426901716,
          "projected_frequency": 0.9995475900500084,
          "timepoint": "2007-04-01T00:00:00",
          "year": 2007
         },
         {
          "clade_membership": "02e323e",
          "estimated_growth_rate": 1.0000050000250003,
          "frequency": 0.9999949999999995,
          "frequency_final": 1.0000049999999998,
          "frequency_other": 0.9999949999999996,
          "observed_growth_rate": 1.0000100000500005,
          "projected_frequency": 0.9999999999999996,
          "timepoint": "2007-04-01T00:00:00",
          "year": 2007
         },
         {
          "clade_membership": "048f8ca",
          "estimated_growth_rate": 1.0000050000250003,
          "frequency": 0.9999949999999995,
          "frequency_final": 1.0000049999999998,
          "frequency_other": 0.9999949999999996,
          "observed_growth_rate": 1.0000100000500005,
          "projected_frequency": 0.9999999999999996,
          "timepoint": "2007-04-01T00:00:00",
          "year": 2007
         },
         {
          "clade_membership": "09e68a2",
          "estimated_growth_rate": 1.0000050000250003,
          "frequency": 0.9999949999999995,
          "frequency_final": 1.0000049999999998,
          "frequency_other": 0.9999949999999996,
          "observed_growth_rate": 1.0000100000500005,
          "projected_frequency": 0.9999999999999996,
          "timepoint": "2007-04-01T00:00:00",
          "year": 2007
         },
         {
          "clade_membership": "2c4f3df",
          "estimated_growth_rate": 1.0000050000250003,
          "frequency": 0.9999949999999995,
          "frequency_final": 0,
          "frequency_other": 0.9999949999999996,
          "observed_growth_rate": 0,
          "projected_frequency": 0.9999999999999996,
          "timepoint": "2007-04-01T00:00:00",
          "year": 2007
         },
         {
          "clade_membership": "35491c6",
          "estimated_growth_rate": 1.0000050000250003,
          "frequency": 0.9999949999999995,
          "frequency_final": 1.0000049999999998,
          "frequency_other": 0.9999949999999996,
          "observed_growth_rate": 1.0000100000500005,
          "projected_frequency": 0.9999999999999996,
          "timepoint": "2007-04-01T00:00:00",
          "year": 2007
         },
         {
          "clade_membership": "383df4e",
          "estimated_growth_rate": 0.0066305315404408555,
          "frequency": 0.27304700000000004,
          "frequency_final": 0.00011200000000000001,
          "frequency_other": 0.27304700000000004,
          "observed_growth_rate": 0.000410185792189623,
          "projected_frequency": 0.0018104467455227545,
          "timepoint": "2007-04-01T00:00:00",
          "year": 2007
         },
         {
          "clade_membership": "3a81d99",
          "estimated_growth_rate": 1.0090632953306342,
          "frequency": 0.9910169999999996,
          "frequency_final": 1.0000049999999998,
          "frequency_other": 0.9910169999999996,
          "observed_growth_rate": 1.0090694710585189,
          "projected_frequency": 0.9999988797486787,
          "timepoint": "2007-04-01T00:00:00",
          "year": 2007
         },
         {
          "clade_membership": "3c0baec",
          "estimated_growth_rate": 1.9864350333466194,
          "frequency": 0.502275,
          "frequency_final": 0.9630039999999999,
          "frequency_other": 0.502275,
          "observed_growth_rate": 1.9172843561793835,
          "projected_frequency": 0.9977366563741733,
          "timepoint": "2007-04-01T00:00:00",
          "year": 2007
         },
         {
          "clade_membership": "44989e1",
          "estimated_growth_rate": 1.0090632953306342,
          "frequency": 0.9910169999999996,
          "frequency_final": 1.0000049999999998,
          "frequency_other": 0.9910169999999996,
          "observed_growth_rate": 1.0090694710585189,
          "projected_frequency": 0.9999988797486787,
          "timepoint": "2007-04-01T00:00:00",
          "year": 2007
         },
         {
          "clade_membership": "4952842",
          "estimated_growth_rate": 1.0000050000250003,
          "frequency": 0.9999949999999995,
          "frequency_final": 1.0000049999999998,
          "frequency_other": 0.9999949999999996,
          "observed_growth_rate": 1.0000100000500005,
          "projected_frequency": 0.9999999999999996,
          "timepoint": "2007-04-01T00:00:00",
          "year": 2007
         },
         {
          "clade_membership": "4e35443",
          "estimated_growth_rate": 1.0000050000250003,
          "frequency": 0.9999949999999995,
          "frequency_final": 1.0000049999999998,
          "frequency_other": 0.9999949999999996,
          "observed_growth_rate": 1.0000100000500005,
          "projected_frequency": 0.9999999999999996,
          "timepoint": "2007-04-01T00:00:00",
          "year": 2007
         },
         {
          "clade_membership": "6335574",
          "estimated_growth_rate": 1.0000050000250003,
          "frequency": 0.9999949999999995,
          "frequency_final": 1.0000049999999998,
          "frequency_other": 0.9999949999999996,
          "observed_growth_rate": 1.0000100000500005,
          "projected_frequency": 0.9999999999999996,
          "timepoint": "2007-04-01T00:00:00",
          "year": 2007
         },
         {
          "clade_membership": "7aa732d",
          "estimated_growth_rate": 1.0090632953306342,
          "frequency": 0.9910169999999996,
          "frequency_final": 1.0000049999999998,
          "frequency_other": 0.9910169999999996,
          "observed_growth_rate": 1.0090694710585189,
          "projected_frequency": 0.9999988797486787,
          "timepoint": "2007-04-01T00:00:00",
          "year": 2007
         },
         {
          "clade_membership": "8517059",
          "estimated_growth_rate": 1.1990287051676278,
          "frequency": 0.8336409999999997,
          "frequency_final": 0,
          "frequency_other": 0.8336409999999997,
          "observed_growth_rate": 0,
          "projected_frequency": 0.9995594888046461,
          "timepoint": "2007-04-01T00:00:00",
          "year": 2007
         },
         {
          "clade_membership": "85356dd",
          "estimated_growth_rate": 1.0000050000250003,
          "frequency": 0.9999949999999995,
          "frequency_final": 0,
          "frequency_other": 0.9999949999999996,
          "observed_growth_rate": 0,
          "projected_frequency": 0.9999999999999996,
          "timepoint": "2007-04-01T00:00:00",
          "year": 2007
         },
         {
          "clade_membership": "88dab64",
          "estimated_growth_rate": 1.0000050000250003,
          "frequency": 0.9999949999999995,
          "frequency_final": 1.0000049999999998,
          "frequency_other": 0.9999949999999996,
          "observed_growth_rate": 1.0000100000500005,
          "projected_frequency": 0.9999999999999996,
          "timepoint": "2007-04-01T00:00:00",
          "year": 2007
         },
         {
          "clade_membership": "8e08f7f",
          "estimated_growth_rate": 1.0000050000250003,
          "frequency": 0.9999949999999995,
          "frequency_final": 1.0000049999999998,
          "frequency_other": 0.9999949999999996,
          "observed_growth_rate": 1.0000100000500005,
          "projected_frequency": 0.9999999999999996,
          "timepoint": "2007-04-01T00:00:00",
          "year": 2007
         },
         {
          "clade_membership": "91769ce",
          "estimated_growth_rate": 2.9327122167241404,
          "frequency": 0.340139,
          "frequency_final": 0.9402800000000001,
          "frequency_other": 0.340139,
          "observed_growth_rate": 2.764399260302406,
          "projected_frequency": 0.9975298006843324,
          "timepoint": "2007-04-01T00:00:00",
          "year": 2007
         },
         {
          "clade_membership": "98a3f76",
          "estimated_growth_rate": 0.0075644863364251825,
          "frequency": 0.23838900000000005,
          "frequency_final": 0,
          "frequency_other": 0.23838900000000005,
          "observed_growth_rate": 0,
          "projected_frequency": 0.0018032903332540632,
          "timepoint": "2007-04-01T00:00:00",
          "year": 2007
         },
         {
          "clade_membership": "98c068a",
          "estimated_growth_rate": 1.0000050000250003,
          "frequency": 0.9999949999999995,
          "frequency_final": 1.0000049999999998,
          "frequency_other": 0.9999949999999996,
          "observed_growth_rate": 1.0000100000500005,
          "projected_frequency": 0.9999999999999996,
          "timepoint": "2007-04-01T00:00:00",
          "year": 2007
         },
         {
          "clade_membership": "9a3ff5d",
          "estimated_growth_rate": 1.0000050000250003,
          "frequency": 0.9999949999999995,
          "frequency_final": 1.0000049999999998,
          "frequency_other": 0.9999949999999996,
          "observed_growth_rate": 1.0000100000500005,
          "projected_frequency": 0.9999999999999996,
          "timepoint": "2007-04-01T00:00:00",
          "year": 2007
         },
         {
          "clade_membership": "9b04f13",
          "estimated_growth_rate": 1.011046340538764,
          "frequency": 0.9890729999999996,
          "frequency_final": 1.0000049999999998,
          "frequency_other": 0.9890729999999996,
          "observed_growth_rate": 1.0110527736577586,
          "projected_frequency": 0.9999986371756966,
          "timepoint": "2007-04-01T00:00:00",
          "year": 2007
         },
         {
          "clade_membership": "9f68af2",
          "estimated_growth_rate": 0.008707022739608893,
          "frequency": 0.20513900000000004,
          "frequency_final": 0.00011200000000000001,
          "frequency_other": 0.20513900000000004,
          "observed_growth_rate": 0.0005459712682620077,
          "projected_frequency": 0.001786149937780629,
          "timepoint": "2007-04-01T00:00:00",
          "year": 2007
         },
         {
          "clade_membership": "a5bcb4f",
          "estimated_growth_rate": 1.0000050000250003,
          "frequency": 0.9999949999999995,
          "frequency_final": 1.0000049999999998,
          "frequency_other": 0.9999949999999996,
          "observed_growth_rate": 1.0000100000500005,
          "projected_frequency": 0.9999999999999996,
          "timepoint": "2007-04-01T00:00:00",
          "year": 2007
         },
         {
          "clade_membership": "aab80f6",
          "estimated_growth_rate": 1.0000050000250003,
          "frequency": 0.9999949999999995,
          "frequency_final": 1.0000049999999998,
          "frequency_other": 0.9999949999999996,
          "observed_growth_rate": 1.0000100000500005,
          "projected_frequency": 0.9999999999999996,
          "timepoint": "2007-04-01T00:00:00",
          "year": 2007
         },
         {
          "clade_membership": "c16a08d",
          "estimated_growth_rate": 1.0000050000250003,
          "frequency": 0.9999949999999995,
          "frequency_final": 1.0000049999999998,
          "frequency_other": 0.9999949999999996,
          "observed_growth_rate": 1.0000100000500005,
          "projected_frequency": 0.9999999999999996,
          "timepoint": "2007-04-01T00:00:00",
          "year": 2007
         },
         {
          "clade_membership": "d6906cf",
          "estimated_growth_rate": 1.0000050000250003,
          "frequency": 0.9999949999999995,
          "frequency_final": 1.0000049999999998,
          "frequency_other": 0.9999949999999996,
          "observed_growth_rate": 1.0000100000500005,
          "projected_frequency": 0.9999999999999996,
          "timepoint": "2007-04-01T00:00:00",
          "year": 2007
         },
         {
          "clade_membership": "d7fecad",
          "estimated_growth_rate": 1.0000050000250003,
          "frequency": 0.9999949999999995,
          "frequency_final": 1.0000049999999998,
          "frequency_other": 0.9999949999999996,
          "observed_growth_rate": 1.0000100000500005,
          "projected_frequency": 0.9999999999999996,
          "timepoint": "2007-04-01T00:00:00",
          "year": 2007
         },
         {
          "clade_membership": "e2f3876",
          "estimated_growth_rate": 1.0000050000250003,
          "frequency": 0.9999949999999995,
          "frequency_final": 1.0000049999999998,
          "frequency_other": 0.9999949999999996,
          "observed_growth_rate": 1.0000100000500005,
          "projected_frequency": 0.9999999999999996,
          "timepoint": "2007-04-01T00:00:00",
          "year": 2007
         },
         {
          "clade_membership": "e501908",
          "estimated_growth_rate": 1.0000050000250003,
          "frequency": 0.9999949999999995,
          "frequency_final": 1.0000049999999998,
          "frequency_other": 0.9999949999999996,
          "observed_growth_rate": 1.0000100000500005,
          "projected_frequency": 0.9999999999999996,
          "timepoint": "2007-04-01T00:00:00",
          "year": 2007
         },
         {
          "clade_membership": "e64cc68",
          "estimated_growth_rate": 1.0000050000250003,
          "frequency": 0.9999949999999995,
          "frequency_final": 1.0000049999999998,
          "frequency_other": 0.9999949999999996,
          "observed_growth_rate": 1.0000100000500005,
          "projected_frequency": 0.9999999999999996,
          "timepoint": "2007-04-01T00:00:00",
          "year": 2007
         },
         {
          "clade_membership": "ecf49fd",
          "estimated_growth_rate": 1.0000050000250003,
          "frequency": 0.9999949999999995,
          "frequency_final": 1.0000049999999998,
          "frequency_other": 0.9999949999999996,
          "observed_growth_rate": 1.0000100000500005,
          "projected_frequency": 0.9999999999999996,
          "timepoint": "2007-04-01T00:00:00",
          "year": 2007
         },
         {
          "clade_membership": "f3f16af",
          "estimated_growth_rate": 1.0000050000250003,
          "frequency": 0.9999949999999995,
          "frequency_final": 1.0000049999999998,
          "frequency_other": 0.9999949999999996,
          "observed_growth_rate": 1.0000100000500005,
          "projected_frequency": 0.9999999999999996,
          "timepoint": "2007-04-01T00:00:00",
          "year": 2007
         },
         {
          "clade_membership": "fd5608c",
          "estimated_growth_rate": 1.0000050000250003,
          "frequency": 0.9999949999999995,
          "frequency_final": 1.0000049999999998,
          "frequency_other": 0.9999949999999996,
          "observed_growth_rate": 1.0000100000500005,
          "projected_frequency": 0.9999999999999996,
          "timepoint": "2007-04-01T00:00:00",
          "year": 2007
         },
         {
          "clade_membership": "root",
          "estimated_growth_rate": 1.0000050000250003,
          "frequency": 0.9999949999999995,
          "frequency_final": 1.0000049999999998,
          "frequency_other": 0.9999949999999996,
          "observed_growth_rate": 1.0000100000500005,
          "projected_frequency": 0.9999999999999996,
          "timepoint": "2007-04-01T00:00:00",
          "year": 2007
         },
         {
          "clade_membership": "02e323e",
          "estimated_growth_rate": 1.0000070000489998,
          "frequency": 0.9999930000000005,
          "frequency_final": 0.9999989999999999,
          "frequency_other": 0.9999930000000005,
          "observed_growth_rate": 1.0000060000419997,
          "projected_frequency": 0.9999999999999999,
          "timepoint": "2007-10-01T00:00:00",
          "year": 2007
         },
         {
          "clade_membership": "048f8ca",
          "estimated_growth_rate": 1.0000070000489998,
          "frequency": 0.9999930000000005,
          "frequency_final": 0.9999989999999999,
          "frequency_other": 0.9999930000000005,
          "observed_growth_rate": 1.0000060000419997,
          "projected_frequency": 0.9999999999999999,
          "timepoint": "2007-10-01T00:00:00",
          "year": 2007
         },
         {
          "clade_membership": "09e68a2",
          "estimated_growth_rate": 1.0000070000489998,
          "frequency": 0.9999930000000005,
          "frequency_final": 0.9999989999999999,
          "frequency_other": 0.9999930000000005,
          "observed_growth_rate": 1.0000060000419997,
          "projected_frequency": 0.9999999999999999,
          "timepoint": "2007-10-01T00:00:00",
          "year": 2007
         },
         {
          "clade_membership": "35491c6",
          "estimated_growth_rate": 1.0000070000489998,
          "frequency": 0.9999930000000005,
          "frequency_final": 0.9999989999999999,
          "frequency_other": 0.9999930000000005,
          "observed_growth_rate": 1.0000060000419997,
          "projected_frequency": 0.9999999999999999,
          "timepoint": "2007-10-01T00:00:00",
          "year": 2007
         },
         {
          "clade_membership": "3a81d99",
          "estimated_growth_rate": 1.0000070000489998,
          "frequency": 0.9999930000000005,
          "frequency_final": 0.9999989999999999,
          "frequency_other": 0.9999930000000005,
          "observed_growth_rate": 1.0000060000419997,
          "projected_frequency": 0.9999999999999999,
          "timepoint": "2007-10-01T00:00:00",
          "year": 2007
         },
         {
          "clade_membership": "412c00a",
          "estimated_growth_rate": 1.0000070000489998,
          "frequency": 0.9999930000000005,
          "frequency_final": 0.9999989999999999,
          "frequency_other": 0.9999930000000005,
          "observed_growth_rate": 1.0000060000419997,
          "projected_frequency": 0.9999999999999999,
          "timepoint": "2007-10-01T00:00:00",
          "year": 2007
         },
         {
          "clade_membership": "44989e1",
          "estimated_growth_rate": 1.0000070000489998,
          "frequency": 0.9999930000000005,
          "frequency_final": 0.9999989999999999,
          "frequency_other": 0.9999930000000005,
          "observed_growth_rate": 1.0000060000419997,
          "projected_frequency": 0.9999999999999999,
          "timepoint": "2007-10-01T00:00:00",
          "year": 2007
         },
         {
          "clade_membership": "4952842",
          "estimated_growth_rate": 1.0000070000489998,
          "frequency": 0.9999930000000005,
          "frequency_final": 0.9999989999999999,
          "frequency_other": 0.9999930000000005,
          "observed_growth_rate": 1.0000060000419997,
          "projected_frequency": 0.9999999999999999,
          "timepoint": "2007-10-01T00:00:00",
          "year": 2007
         },
         {
          "clade_membership": "4ff1302",
          "estimated_growth_rate": 1.0000070000489998,
          "frequency": 0.9999930000000005,
          "frequency_final": 0.9999989999999999,
          "frequency_other": 0.9999930000000005,
          "observed_growth_rate": 1.0000060000419997,
          "projected_frequency": 0.9999999999999999,
          "timepoint": "2007-10-01T00:00:00",
          "year": 2007
         },
         {
          "clade_membership": "6335574",
          "estimated_growth_rate": 1.0000070000489998,
          "frequency": 0.9999930000000005,
          "frequency_final": 0.9999989999999999,
          "frequency_other": 0.9999930000000005,
          "observed_growth_rate": 1.0000060000419997,
          "projected_frequency": 0.9999999999999999,
          "timepoint": "2007-10-01T00:00:00",
          "year": 2007
         },
         {
          "clade_membership": "7aa732d",
          "estimated_growth_rate": 1.0000070000489998,
          "frequency": 0.9999930000000005,
          "frequency_final": 0.9999989999999999,
          "frequency_other": 0.9999930000000005,
          "observed_growth_rate": 1.0000060000419997,
          "projected_frequency": 0.9999999999999999,
          "timepoint": "2007-10-01T00:00:00",
          "year": 2007
         },
         {
          "clade_membership": "8517059",
          "estimated_growth_rate": 1.1488623479266653,
          "frequency": 0.8686710000000003,
          "frequency_final": 0.9999959999999999,
          "frequency_other": 0.8686710000000003,
          "observed_growth_rate": 1.1511792151458948,
          "projected_frequency": 0.9979834046358046,
          "timepoint": "2007-10-01T00:00:00",
          "year": 2007
         },
         {
          "clade_membership": "85356dd",
          "estimated_growth_rate": 1.0000070000489998,
          "frequency": 0.9999930000000005,
          "frequency_final": 0.9999989999999999,
          "frequency_other": 0.9999930000000005,
          "observed_growth_rate": 1.0000060000419997,
          "projected_frequency": 0.9999999999999999,
          "timepoint": "2007-10-01T00:00:00",
          "year": 2007
         },
         {
          "clade_membership": "88dab64",
          "estimated_growth_rate": 1.0000070000489998,
          "frequency": 0.9999930000000005,
          "frequency_final": 0.9999989999999999,
          "frequency_other": 0.9999930000000005,
          "observed_growth_rate": 1.0000060000419997,
          "projected_frequency": 0.9999999999999999,
          "timepoint": "2007-10-01T00:00:00",
          "year": 2007
         },
         {
          "clade_membership": "8e08f7f",
          "estimated_growth_rate": 1.0000070000489998,
          "frequency": 0.9999930000000005,
          "frequency_final": 0.9999989999999999,
          "frequency_other": 0.9999930000000005,
          "observed_growth_rate": 1.0000060000419997,
          "projected_frequency": 0.9999999999999999,
          "timepoint": "2007-10-01T00:00:00",
          "year": 2007
         },
         {
          "clade_membership": "91769ce",
          "estimated_growth_rate": 1.1488623479266653,
          "frequency": 0.8686710000000003,
          "frequency_final": 0.9999939999999998,
          "frequency_other": 0.8686710000000003,
          "observed_growth_rate": 1.151176912778255,
          "projected_frequency": 0.9979834046358046,
          "timepoint": "2007-10-01T00:00:00",
          "year": 2007
         },
         {
          "clade_membership": "98c068a",
          "estimated_growth_rate": 1.0000070000489998,
          "frequency": 0.9999930000000005,
          "frequency_final": 0.9999989999999999,
          "frequency_other": 0.9999930000000005,
          "observed_growth_rate": 1.0000060000419997,
          "projected_frequency": 0.9999999999999999,
          "timepoint": "2007-10-01T00:00:00",
          "year": 2007
         },
         {
          "clade_membership": "9a3ff5d",
          "estimated_growth_rate": 1.0000070000489998,
          "frequency": 0.9999930000000005,
          "frequency_final": 0.9999989999999999,
          "frequency_other": 0.9999930000000005,
          "observed_growth_rate": 1.0000060000419997,
          "projected_frequency": 0.9999999999999999,
          "timepoint": "2007-10-01T00:00:00",
          "year": 2007
         },
         {
          "clade_membership": "9b04f13",
          "estimated_growth_rate": 1.0000070000489998,
          "frequency": 0.9999930000000005,
          "frequency_final": 0.9999989999999999,
          "frequency_other": 0.9999930000000005,
          "observed_growth_rate": 1.0000060000419997,
          "projected_frequency": 0.9999999999999999,
          "timepoint": "2007-10-01T00:00:00",
          "year": 2007
         },
         {
          "clade_membership": "a5bcb4f",
          "estimated_growth_rate": 1.0000070000489998,
          "frequency": 0.9999930000000005,
          "frequency_final": 0.9999989999999999,
          "frequency_other": 0.9999930000000005,
          "observed_growth_rate": 1.0000060000419997,
          "projected_frequency": 0.9999999999999999,
          "timepoint": "2007-10-01T00:00:00",
          "year": 2007
         },
         {
          "clade_membership": "aab80f6",
          "estimated_growth_rate": 1.0000070000489998,
          "frequency": 0.9999930000000005,
          "frequency_final": 0.9999989999999999,
          "frequency_other": 0.9999930000000005,
          "observed_growth_rate": 1.0000060000419997,
          "projected_frequency": 0.9999999999999999,
          "timepoint": "2007-10-01T00:00:00",
          "year": 2007
         },
         {
          "clade_membership": "d6906cf",
          "estimated_growth_rate": 1.0000070000489998,
          "frequency": 0.9999930000000005,
          "frequency_final": 0.9999989999999999,
          "frequency_other": 0.9999930000000005,
          "observed_growth_rate": 1.0000060000419997,
          "projected_frequency": 0.9999999999999999,
          "timepoint": "2007-10-01T00:00:00",
          "year": 2007
         },
         {
          "clade_membership": "d7fecad",
          "estimated_growth_rate": 1.0000070000489998,
          "frequency": 0.9999930000000005,
          "frequency_final": 0.9999989999999999,
          "frequency_other": 0.9999930000000005,
          "observed_growth_rate": 1.0000060000419997,
          "projected_frequency": 0.9999999999999999,
          "timepoint": "2007-10-01T00:00:00",
          "year": 2007
         },
         {
          "clade_membership": "e2f3876",
          "estimated_growth_rate": 1.0000070000489998,
          "frequency": 0.9999930000000005,
          "frequency_final": 0.9999989999999999,
          "frequency_other": 0.9999930000000005,
          "observed_growth_rate": 1.0000060000419997,
          "projected_frequency": 0.9999999999999999,
          "timepoint": "2007-10-01T00:00:00",
          "year": 2007
         },
         {
          "clade_membership": "e501908",
          "estimated_growth_rate": 1.0000070000489998,
          "frequency": 0.9999930000000005,
          "frequency_final": 0.9999989999999999,
          "frequency_other": 0.9999930000000005,
          "observed_growth_rate": 1.0000060000419997,
          "projected_frequency": 0.9999999999999999,
          "timepoint": "2007-10-01T00:00:00",
          "year": 2007
         },
         {
          "clade_membership": "e64cc68",
          "estimated_growth_rate": 1.0000070000489998,
          "frequency": 0.9999930000000005,
          "frequency_final": 0.9999989999999999,
          "frequency_other": 0.9999930000000005,
          "observed_growth_rate": 1.0000060000419997,
          "projected_frequency": 0.9999999999999999,
          "timepoint": "2007-10-01T00:00:00",
          "year": 2007
         },
         {
          "clade_membership": "ecf49fd",
          "estimated_growth_rate": 1.0000070000489998,
          "frequency": 0.9999930000000005,
          "frequency_final": 0.9999989999999999,
          "frequency_other": 0.9999930000000005,
          "observed_growth_rate": 1.0000060000419997,
          "projected_frequency": 0.9999999999999999,
          "timepoint": "2007-10-01T00:00:00",
          "year": 2007
         },
         {
          "clade_membership": "f3f16af",
          "estimated_growth_rate": 1.0000070000489998,
          "frequency": 0.9999930000000005,
          "frequency_final": 0.9999989999999999,
          "frequency_other": 0.9999930000000005,
          "observed_growth_rate": 1.0000060000419997,
          "projected_frequency": 0.9999999999999999,
          "timepoint": "2007-10-01T00:00:00",
          "year": 2007
         },
         {
          "clade_membership": "fd5608c",
          "estimated_growth_rate": 1.0000070000489998,
          "frequency": 0.9999930000000005,
          "frequency_final": 0.9999989999999999,
          "frequency_other": 0.9999930000000005,
          "observed_growth_rate": 1.0000060000419997,
          "projected_frequency": 0.9999999999999999,
          "timepoint": "2007-10-01T00:00:00",
          "year": 2007
         },
         {
          "clade_membership": "ff9301c",
          "estimated_growth_rate": 1.0000070000489998,
          "frequency": 0.9999930000000005,
          "frequency_final": 0.9999989999999999,
          "frequency_other": 0.9999930000000005,
          "observed_growth_rate": 1.0000060000419997,
          "projected_frequency": 0.9999999999999999,
          "timepoint": "2007-10-01T00:00:00",
          "year": 2007
         },
         {
          "clade_membership": "root",
          "estimated_growth_rate": 1.0000070000489998,
          "frequency": 0.9999930000000005,
          "frequency_final": 0.9999989999999999,
          "frequency_other": 0.9999930000000005,
          "observed_growth_rate": 1.0000060000419997,
          "projected_frequency": 0.9999999999999999,
          "timepoint": "2007-10-01T00:00:00",
          "year": 2007
         },
         {
          "clade_membership": "0003b07",
          "estimated_growth_rate": 1.0635117531210607,
          "frequency": 0.9402800000000001,
          "frequency_final": 0,
          "frequency_other": 0.9402800000000001,
          "observed_growth_rate": 0,
          "projected_frequency": 0.9999988312246711,
          "timepoint": "2008-04-01T00:00:00",
          "year": 2008
         },
         {
          "clade_membership": "02e323e",
          "estimated_growth_rate": 0.9999950000249997,
          "frequency": 1.0000049999999998,
          "frequency_final": 1.0000019999999994,
          "frequency_other": 1.0000049999999998,
          "observed_growth_rate": 0.9999970000149995,
          "projected_frequency": 0.9999999999999997,
          "timepoint": "2008-04-01T00:00:00",
          "year": 2008
         },
         {
          "clade_membership": "048f8ca",
          "estimated_growth_rate": 0.9999950000249997,
          "frequency": 1.0000049999999998,
          "frequency_final": 1.0000019999999994,
          "frequency_other": 1.0000049999999998,
          "observed_growth_rate": 0.9999970000149995,
          "projected_frequency": 0.9999999999999997,
          "timepoint": "2008-04-01T00:00:00",
          "year": 2008
         },
         {
          "clade_membership": "050242e",
          "estimated_growth_rate": 0.00015383209800150937,
          "frequency": 0.171089,
          "frequency_final": 0.044787999999999994,
          "frequency_other": 0.171089,
          "observed_growth_rate": 0.26178187960652055,
          "projected_frequency": 2.6318979814980234e-05,
          "timepoint": "2008-04-01T00:00:00",
          "year": 2008
         },
         {
          "clade_membership": "09e68a2",
          "estimated_growth_rate": 0.9999950000249997,
          "frequency": 1.0000049999999998,
          "frequency_final": 1.0000019999999994,
          "frequency_other": 1.0000049999999998,
          "observed_growth_rate": 0.9999970000149995,
          "projected_frequency": 0.9999999999999997,
          "timepoint": "2008-04-01T00:00:00",
          "year": 2008
         },
         {
          "clade_membership": "35491c6",
          "estimated_growth_rate": 0.9999950000249997,
          "frequency": 1.0000049999999998,
          "frequency_final": 1.0000019999999994,
          "frequency_other": 1.0000049999999998,
          "observed_growth_rate": 0.9999970000149995,
          "projected_frequency": 0.9999999999999997,
          "timepoint": "2008-04-01T00:00:00",
          "year": 2008
         },
         {
          "clade_membership": "3a81d99",
          "estimated_growth_rate": 0.9999950000249997,
          "frequency": 1.0000049999999998,
          "frequency_final": 1.0000019999999994,
          "frequency_other": 1.0000049999999998,
          "observed_growth_rate": 0.9999970000149995,
          "projected_frequency": 0.9999999999999997,
          "timepoint": "2008-04-01T00:00:00",
          "year": 2008
         },
         {
          "clade_membership": "3c0baec",
          "estimated_growth_rate": 1.03841652046647,
          "frequency": 0.9630039999999999,
          "frequency_final": 1.0000019999999994,
          "frequency_other": 0.9630039999999999,
          "observed_growth_rate": 1.0384193627440794,
          "projected_frequency": 0.9999992628752922,
          "timepoint": "2008-04-01T00:00:00",
          "year": 2008
         },
         {
          "clade_membership": "412c00a",
          "estimated_growth_rate": 0.9999950000249997,
          "frequency": 1.0000049999999998,
          "frequency_final": 1.0000019999999994,
          "frequency_other": 1.0000049999999998,
          "observed_growth_rate": 0.9999970000149995,
          "projected_frequency": 0.9999999999999997,
          "timepoint": "2008-04-01T00:00:00",
          "year": 2008
         },
         {
          "clade_membership": "41bb3e2",
          "estimated_growth_rate": 3.444902405463094,
          "frequency": 0.290199,
          "frequency_final": 0.8138199999999998,
          "frequency_other": 0.290199,
          "observed_growth_rate": 2.8043514967315524,
          "projected_frequency": 0.9997072331629844,
          "timepoint": "2008-04-01T00:00:00",
          "year": 2008
         },
         {
          "clade_membership": "44989e1",
          "estimated_growth_rate": 0.9999950000249997,
          "frequency": 1.0000049999999998,
          "frequency_final": 1.0000019999999994,
          "frequency_other": 1.0000049999999998,
          "observed_growth_rate": 0.9999970000149995,
          "projected_frequency": 0.9999999999999997,
          "timepoint": "2008-04-01T00:00:00",
          "year": 2008
         },
         {
          "clade_membership": "4952842",
          "estimated_growth_rate": 0.9999950000249997,
          "frequency": 1.0000049999999998,
          "frequency_final": 1.0000019999999994,
          "frequency_other": 1.0000049999999998,
          "observed_growth_rate": 0.9999970000149995,
          "projected_frequency": 0.9999999999999997,
          "timepoint": "2008-04-01T00:00:00",
          "year": 2008
         },
         {
          "clade_membership": "4e35443",
          "estimated_growth_rate": 0.9999950000249997,
          "frequency": 1.0000049999999998,
          "frequency_final": 1.0000019999999994,
          "frequency_other": 1.0000049999999998,
          "observed_growth_rate": 0.9999970000149995,
          "projected_frequency": 0.9999999999999997,
          "timepoint": "2008-04-01T00:00:00",
          "year": 2008
         },
         {
          "clade_membership": "4ff1302",
          "estimated_growth_rate": 0.9999950000249997,
          "frequency": 1.0000049999999998,
          "frequency_final": 1.0000019999999994,
          "frequency_other": 1.0000049999999998,
          "observed_growth_rate": 0.9999970000149995,
          "projected_frequency": 0.9999999999999997,
          "timepoint": "2008-04-01T00:00:00",
          "year": 2008
         },
         {
          "clade_membership": "6335574",
          "estimated_growth_rate": 0.9999950000249997,
          "frequency": 1.0000049999999998,
          "frequency_final": 1.0000019999999994,
          "frequency_other": 1.0000049999999998,
          "observed_growth_rate": 0.9999970000149995,
          "projected_frequency": 0.9999999999999997,
          "timepoint": "2008-04-01T00:00:00",
          "year": 2008
         },
         {
          "clade_membership": "7aa732d",
          "estimated_growth_rate": 0.9999950000249997,
          "frequency": 1.0000049999999998,
          "frequency_final": 1.0000019999999994,
          "frequency_other": 1.0000049999999998,
          "observed_growth_rate": 0.9999970000149995,
          "projected_frequency": 0.9999999999999997,
          "timepoint": "2008-04-01T00:00:00",
          "year": 2008
         },
         {
          "clade_membership": "88dab64",
          "estimated_growth_rate": 0.9999950000249997,
          "frequency": 1.0000049999999998,
          "frequency_final": 1.0000019999999994,
          "frequency_other": 1.0000049999999998,
          "observed_growth_rate": 0.9999970000149995,
          "projected_frequency": 0.9999999999999997,
          "timepoint": "2008-04-01T00:00:00",
          "year": 2008
         },
         {
          "clade_membership": "8e08f7f",
          "estimated_growth_rate": 0.9999950000249997,
          "frequency": 1.0000049999999998,
          "frequency_final": 1.0000019999999994,
          "frequency_other": 1.0000049999999998,
          "observed_growth_rate": 0.9999970000149995,
          "projected_frequency": 0.9999999999999997,
          "timepoint": "2008-04-01T00:00:00",
          "year": 2008
         },
         {
          "clade_membership": "91769ce",
          "estimated_growth_rate": 1.0635117531210607,
          "frequency": 0.9402800000000001,
          "frequency_final": 1.0000019999999994,
          "frequency_other": 0.9402800000000001,
          "observed_growth_rate": 1.0635151231548041,
          "projected_frequency": 0.9999988312246711,
          "timepoint": "2008-04-01T00:00:00",
          "year": 2008
         },
         {
          "clade_membership": "98c068a",
          "estimated_growth_rate": 0.9999950000249997,
          "frequency": 1.0000049999999998,
          "frequency_final": 1.0000019999999994,
          "frequency_other": 1.0000049999999998,
          "observed_growth_rate": 0.9999970000149995,
          "projected_frequency": 0.9999999999999997,
          "timepoint": "2008-04-01T00:00:00",
          "year": 2008
         },
         {
          "clade_membership": "9a3ff5d",
          "estimated_growth_rate": 0.9999950000249997,
          "frequency": 1.0000049999999998,
          "frequency_final": 1.0000019999999994,
          "frequency_other": 1.0000049999999998,
          "observed_growth_rate": 0.9999970000149995,
          "projected_frequency": 0.9999999999999997,
          "timepoint": "2008-04-01T00:00:00",
          "year": 2008
         },
         {
          "clade_membership": "9b04f13",
          "estimated_growth_rate": 0.9999950000249997,
          "frequency": 1.0000049999999998,
          "frequency_final": 1.0000019999999994,
          "frequency_other": 1.0000049999999998,
          "observed_growth_rate": 0.9999970000149995,
          "projected_frequency": 0.9999999999999997,
          "timepoint": "2008-04-01T00:00:00",
          "year": 2008
         },
         {
          "clade_membership": "a5bcb4f",
          "estimated_growth_rate": 0.9999950000249997,
          "frequency": 1.0000049999999998,
          "frequency_final": 1.0000019999999994,
          "frequency_other": 1.0000049999999998,
          "observed_growth_rate": 0.9999970000149995,
          "projected_frequency": 0.9999999999999997,
          "timepoint": "2008-04-01T00:00:00",
          "year": 2008
         },
         {
          "clade_membership": "aab80f6",
          "estimated_growth_rate": 0.9999950000249997,
          "frequency": 1.0000049999999998,
          "frequency_final": 1.0000019999999994,
          "frequency_other": 1.0000049999999998,
          "observed_growth_rate": 0.9999970000149995,
          "projected_frequency": 0.9999999999999997,
          "timepoint": "2008-04-01T00:00:00",
          "year": 2008
         },
         {
          "clade_membership": "b32cea9",
          "estimated_growth_rate": 0.9999950000249997,
          "frequency": 1.0000049999999998,
          "frequency_final": 1.0000019999999994,
          "frequency_other": 1.0000049999999998,
          "observed_growth_rate": 0.9999970000149995,
          "projected_frequency": 0.9999999999999997,
          "timepoint": "2008-04-01T00:00:00",
          "year": 2008
         },
         {
          "clade_membership": "d6906cf",
          "estimated_growth_rate": 0.9999950000249997,
          "frequency": 1.0000049999999998,
          "frequency_final": 1.0000019999999994,
          "frequency_other": 1.0000049999999998,
          "observed_growth_rate": 0.9999970000149995,
          "projected_frequency": 0.9999999999999997,
          "timepoint": "2008-04-01T00:00:00",
          "year": 2008
         },
         {
          "clade_membership": "d7fecad",
          "estimated_growth_rate": 0.9999950000249997,
          "frequency": 1.0000049999999998,
          "frequency_final": 1.0000019999999994,
          "frequency_other": 1.0000049999999998,
          "observed_growth_rate": 0.9999970000149995,
          "projected_frequency": 0.9999999999999997,
          "timepoint": "2008-04-01T00:00:00",
          "year": 2008
         },
         {
          "clade_membership": "e2f3876",
          "estimated_growth_rate": 0.9999950000249997,
          "frequency": 1.0000049999999998,
          "frequency_final": 1.0000019999999994,
          "frequency_other": 1.0000049999999998,
          "observed_growth_rate": 0.9999970000149995,
          "projected_frequency": 0.9999999999999997,
          "timepoint": "2008-04-01T00:00:00",
          "year": 2008
         },
         {
          "clade_membership": "e501908",
          "estimated_growth_rate": 0.9999950000249997,
          "frequency": 1.0000049999999998,
          "frequency_final": 1.0000019999999994,
          "frequency_other": 1.0000049999999998,
          "observed_growth_rate": 0.9999970000149995,
          "projected_frequency": 0.9999999999999997,
          "timepoint": "2008-04-01T00:00:00",
          "year": 2008
         },
         {
          "clade_membership": "e64cc68",
          "estimated_growth_rate": 0.9999950000249997,
          "frequency": 1.0000049999999998,
          "frequency_final": 1.0000019999999994,
          "frequency_other": 1.0000049999999998,
          "observed_growth_rate": 0.9999970000149995,
          "projected_frequency": 0.9999999999999997,
          "timepoint": "2008-04-01T00:00:00",
          "year": 2008
         },
         {
          "clade_membership": "ecf49fd",
          "estimated_growth_rate": 0.9999950000249997,
          "frequency": 1.0000049999999998,
          "frequency_final": 1.0000019999999994,
          "frequency_other": 1.0000049999999998,
          "observed_growth_rate": 0.9999970000149995,
          "projected_frequency": 0.9999999999999997,
          "timepoint": "2008-04-01T00:00:00",
          "year": 2008
         },
         {
          "clade_membership": "f3f16af",
          "estimated_growth_rate": 0.9999950000249997,
          "frequency": 1.0000049999999998,
          "frequency_final": 1.0000019999999994,
          "frequency_other": 1.0000049999999998,
          "observed_growth_rate": 0.9999970000149995,
          "projected_frequency": 0.9999999999999997,
          "timepoint": "2008-04-01T00:00:00",
          "year": 2008
         },
         {
          "clade_membership": "fd5608c",
          "estimated_growth_rate": 0.9999950000249997,
          "frequency": 1.0000049999999998,
          "frequency_final": 1.0000019999999994,
          "frequency_other": 1.0000049999999998,
          "observed_growth_rate": 0.9999970000149995,
          "projected_frequency": 0.9999999999999997,
          "timepoint": "2008-04-01T00:00:00",
          "year": 2008
         },
         {
          "clade_membership": "ff9301c",
          "estimated_growth_rate": 0.9999950000249997,
          "frequency": 1.0000049999999998,
          "frequency_final": 1.0000019999999994,
          "frequency_other": 1.0000049999999998,
          "observed_growth_rate": 0.9999970000149995,
          "projected_frequency": 0.9999999999999997,
          "timepoint": "2008-04-01T00:00:00",
          "year": 2008
         },
         {
          "clade_membership": "root",
          "estimated_growth_rate": 0.9999950000249997,
          "frequency": 1.0000049999999998,
          "frequency_final": 1.0000019999999994,
          "frequency_other": 1.0000049999999998,
          "observed_growth_rate": 0.9999970000149995,
          "projected_frequency": 0.9999999999999997,
          "timepoint": "2008-04-01T00:00:00",
          "year": 2008
         },
         {
          "clade_membership": "0003b07",
          "estimated_growth_rate": 1.0000039993516177,
          "frequency": 0.9999959999999999,
          "frequency_final": 1.0000000000000004,
          "frequency_other": 0.9999959999999999,
          "observed_growth_rate": 1.0000040000160006,
          "projected_frequency": 0.9999999993356201,
          "timepoint": "2008-10-01T00:00:00",
          "year": 2008
         },
         {
          "clade_membership": "02e323e",
          "estimated_growth_rate": 1.0000010000010005,
          "frequency": 0.9999989999999999,
          "frequency_final": 1.0000000000000004,
          "frequency_other": 0.9999989999999999,
          "observed_growth_rate": 1.0000010000010007,
          "projected_frequency": 1.0000000000000002,
          "timepoint": "2008-10-01T00:00:00",
          "year": 2008
         },
         {
          "clade_membership": "048f8ca",
          "estimated_growth_rate": 1.0000010000010005,
          "frequency": 0.9999989999999999,
          "frequency_final": 1.0000000000000004,
          "frequency_other": 0.9999989999999999,
          "observed_growth_rate": 1.0000010000010007,
          "projected_frequency": 1.0000000000000002,
          "timepoint": "2008-10-01T00:00:00",
          "year": 2008
         },
         {
          "clade_membership": "09e68a2",
          "estimated_growth_rate": 1.0000010000010005,
          "frequency": 0.9999989999999999,
          "frequency_final": 1.0000000000000004,
          "frequency_other": 0.9999989999999999,
          "observed_growth_rate": 1.0000010000010007,
          "projected_frequency": 1.0000000000000002,
          "timepoint": "2008-10-01T00:00:00",
          "year": 2008
         },
         {
          "clade_membership": "35491c6",
          "estimated_growth_rate": 1.0000010000010005,
          "frequency": 0.9999989999999999,
          "frequency_final": 1.0000000000000004,
          "frequency_other": 0.9999989999999999,
          "observed_growth_rate": 1.0000010000010007,
          "projected_frequency": 1.0000000000000002,
          "timepoint": "2008-10-01T00:00:00",
          "year": 2008
         },
         {
          "clade_membership": "3a81d99",
          "estimated_growth_rate": 1.0000010000010005,
          "frequency": 0.9999989999999999,
          "frequency_final": 1.0000000000000004,
          "frequency_other": 0.9999989999999999,
          "observed_growth_rate": 1.0000010000010007,
          "projected_frequency": 1.0000000000000002,
          "timepoint": "2008-10-01T00:00:00",
          "year": 2008
         },
         {
          "clade_membership": "412c00a",
          "estimated_growth_rate": 1.0000010000010005,
          "frequency": 0.9999989999999999,
          "frequency_final": 1.0000000000000004,
          "frequency_other": 0.9999989999999999,
          "observed_growth_rate": 1.0000010000010007,
          "projected_frequency": 1.0000000000000002,
          "timepoint": "2008-10-01T00:00:00",
          "year": 2008
         },
         {
          "clade_membership": "41bb3e2",
          "estimated_growth_rate": 1.8529351560821046,
          "frequency": 0.5382560000000001,
          "frequency_final": 0.9958930000000004,
          "frequency_other": 0.5382560000000001,
          "observed_growth_rate": 1.8502218275318811,
          "projected_frequency": 0.9973534653721294,
          "timepoint": "2008-10-01T00:00:00",
          "year": 2008
         },
         {
          "clade_membership": "44989e1",
          "estimated_growth_rate": 1.0000010000010005,
          "frequency": 0.9999989999999999,
          "frequency_final": 1.0000000000000004,
          "frequency_other": 0.9999989999999999,
          "observed_growth_rate": 1.0000010000010007,
          "projected_frequency": 1.0000000000000002,
          "timepoint": "2008-10-01T00:00:00",
          "year": 2008
         },
         {
          "clade_membership": "4952842",
          "estimated_growth_rate": 1.0000010000010005,
          "frequency": 0.9999989999999999,
          "frequency_final": 1.0000000000000004,
          "frequency_other": 0.9999989999999999,
          "observed_growth_rate": 1.0000010000010007,
          "projected_frequency": 1.0000000000000002,
          "timepoint": "2008-10-01T00:00:00",
          "year": 2008
         },
         {
          "clade_membership": "4ff1302",
          "estimated_growth_rate": 1.0000010000010005,
          "frequency": 0.9999989999999999,
          "frequency_final": 1.0000000000000004,
          "frequency_other": 0.9999989999999999,
          "observed_growth_rate": 1.0000010000010007,
          "projected_frequency": 1.0000000000000002,
          "timepoint": "2008-10-01T00:00:00",
          "year": 2008
         },
         {
          "clade_membership": "6335574",
          "estimated_growth_rate": 1.0000010000010005,
          "frequency": 0.9999989999999999,
          "frequency_final": 1.0000000000000004,
          "frequency_other": 0.9999989999999999,
          "observed_growth_rate": 1.0000010000010007,
          "projected_frequency": 1.0000000000000002,
          "timepoint": "2008-10-01T00:00:00",
          "year": 2008
         },
         {
          "clade_membership": "7aa732d",
          "estimated_growth_rate": 1.0000010000010005,
          "frequency": 0.9999989999999999,
          "frequency_final": 1.0000000000000004,
          "frequency_other": 0.9999989999999999,
          "observed_growth_rate": 1.0000010000010007,
          "projected_frequency": 1.0000000000000002,
          "timepoint": "2008-10-01T00:00:00",
          "year": 2008
         },
         {
          "clade_membership": "8517059",
          "estimated_growth_rate": 1.0000039993516177,
          "frequency": 0.9999959999999999,
          "frequency_final": 0,
          "frequency_other": 0.9999959999999999,
          "observed_growth_rate": 0,
          "projected_frequency": 0.9999999993356201,
          "timepoint": "2008-10-01T00:00:00",
          "year": 2008
         },
         {
          "clade_membership": "85356dd",
          "estimated_growth_rate": 1.0000010000010005,
          "frequency": 0.9999989999999999,
          "frequency_final": 1.0000000000000004,
          "frequency_other": 0.9999989999999999,
          "observed_growth_rate": 1.0000010000010007,
          "projected_frequency": 1.0000000000000002,
          "timepoint": "2008-10-01T00:00:00",
          "year": 2008
         },
         {
          "clade_membership": "88dab64",
          "estimated_growth_rate": 1.0000010000010005,
          "frequency": 0.9999989999999999,
          "frequency_final": 1.0000000000000004,
          "frequency_other": 0.9999989999999999,
          "observed_growth_rate": 1.0000010000010007,
          "projected_frequency": 1.0000000000000002,
          "timepoint": "2008-10-01T00:00:00",
          "year": 2008
         },
         {
          "clade_membership": "8e08f7f",
          "estimated_growth_rate": 1.0000010000010005,
          "frequency": 0.9999989999999999,
          "frequency_final": 1.0000000000000004,
          "frequency_other": 0.9999989999999999,
          "observed_growth_rate": 1.0000010000010007,
          "projected_frequency": 1.0000000000000002,
          "timepoint": "2008-10-01T00:00:00",
          "year": 2008
         },
         {
          "clade_membership": "91769ce",
          "estimated_growth_rate": 1.0000059989286694,
          "frequency": 0.9999939999999998,
          "frequency_final": 1.0000000000000004,
          "frequency_other": 0.9999939999999998,
          "observed_growth_rate": 1.000006000036001,
          "projected_frequency": 0.9999999988926755,
          "timepoint": "2008-10-01T00:00:00",
          "year": 2008
         },
         {
          "clade_membership": "98c068a",
          "estimated_growth_rate": 1.0000010000010005,
          "frequency": 0.9999989999999999,
          "frequency_final": 1.0000000000000004,
          "frequency_other": 0.9999989999999999,
          "observed_growth_rate": 1.0000010000010007,
          "projected_frequency": 1.0000000000000002,
          "timepoint": "2008-10-01T00:00:00",
          "year": 2008
         },
         {
          "clade_membership": "9a3ff5d",
          "estimated_growth_rate": 1.0000010000010005,
          "frequency": 0.9999989999999999,
          "frequency_final": 1.0000000000000004,
          "frequency_other": 0.9999989999999999,
          "observed_growth_rate": 1.0000010000010007,
          "projected_frequency": 1.0000000000000002,
          "timepoint": "2008-10-01T00:00:00",
          "year": 2008
         },
         {
          "clade_membership": "9b04f13",
          "estimated_growth_rate": 1.0000010000010005,
          "frequency": 0.9999989999999999,
          "frequency_final": 1.0000000000000004,
          "frequency_other": 0.9999989999999999,
          "observed_growth_rate": 1.0000010000010007,
          "projected_frequency": 1.0000000000000002,
          "timepoint": "2008-10-01T00:00:00",
          "year": 2008
         },
         {
          "clade_membership": "a5bcb4f",
          "estimated_growth_rate": 1.0000010000010005,
          "frequency": 0.9999989999999999,
          "frequency_final": 1.0000000000000004,
          "frequency_other": 0.9999989999999999,
          "observed_growth_rate": 1.0000010000010007,
          "projected_frequency": 1.0000000000000002,
          "timepoint": "2008-10-01T00:00:00",
          "year": 2008
         },
         {
          "clade_membership": "aab80f6",
          "estimated_growth_rate": 1.0000010000010005,
          "frequency": 0.9999989999999999,
          "frequency_final": 1.0000000000000004,
          "frequency_other": 0.9999989999999999,
          "observed_growth_rate": 1.0000010000010007,
          "projected_frequency": 1.0000000000000002,
          "timepoint": "2008-10-01T00:00:00",
          "year": 2008
         },
         {
          "clade_membership": "b32cea9",
          "estimated_growth_rate": 1.0000010000010005,
          "frequency": 0.9999989999999999,
          "frequency_final": 1.0000000000000004,
          "frequency_other": 0.9999989999999999,
          "observed_growth_rate": 1.0000010000010007,
          "projected_frequency": 1.0000000000000002,
          "timepoint": "2008-10-01T00:00:00",
          "year": 2008
         },
         {
          "clade_membership": "d6906cf",
          "estimated_growth_rate": 1.0000010000010005,
          "frequency": 0.9999989999999999,
          "frequency_final": 1.0000000000000004,
          "frequency_other": 0.9999989999999999,
          "observed_growth_rate": 1.0000010000010007,
          "projected_frequency": 1.0000000000000002,
          "timepoint": "2008-10-01T00:00:00",
          "year": 2008
         },
         {
          "clade_membership": "d7fecad",
          "estimated_growth_rate": 1.0000010000010005,
          "frequency": 0.9999989999999999,
          "frequency_final": 1.0000000000000004,
          "frequency_other": 0.9999989999999999,
          "observed_growth_rate": 1.0000010000010007,
          "projected_frequency": 1.0000000000000002,
          "timepoint": "2008-10-01T00:00:00",
          "year": 2008
         },
         {
          "clade_membership": "e2f3876",
          "estimated_growth_rate": 1.0000010000010005,
          "frequency": 0.9999989999999999,
          "frequency_final": 1.0000000000000004,
          "frequency_other": 0.9999989999999999,
          "observed_growth_rate": 1.0000010000010007,
          "projected_frequency": 1.0000000000000002,
          "timepoint": "2008-10-01T00:00:00",
          "year": 2008
         },
         {
          "clade_membership": "e501908",
          "estimated_growth_rate": 1.0000010000010005,
          "frequency": 0.9999989999999999,
          "frequency_final": 1.0000000000000004,
          "frequency_other": 0.9999989999999999,
          "observed_growth_rate": 1.0000010000010007,
          "projected_frequency": 1.0000000000000002,
          "timepoint": "2008-10-01T00:00:00",
          "year": 2008
         },
         {
          "clade_membership": "e64cc68",
          "estimated_growth_rate": 1.0000010000010005,
          "frequency": 0.9999989999999999,
          "frequency_final": 1.0000000000000004,
          "frequency_other": 0.9999989999999999,
          "observed_growth_rate": 1.0000010000010007,
          "projected_frequency": 1.0000000000000002,
          "timepoint": "2008-10-01T00:00:00",
          "year": 2008
         },
         {
          "clade_membership": "ecf49fd",
          "estimated_growth_rate": 1.0000010000010005,
          "frequency": 0.9999989999999999,
          "frequency_final": 1.0000000000000004,
          "frequency_other": 0.9999989999999999,
          "observed_growth_rate": 1.0000010000010007,
          "projected_frequency": 1.0000000000000002,
          "timepoint": "2008-10-01T00:00:00",
          "year": 2008
         },
         {
          "clade_membership": "f3f16af",
          "estimated_growth_rate": 1.0000010000010005,
          "frequency": 0.9999989999999999,
          "frequency_final": 1.0000000000000004,
          "frequency_other": 0.9999989999999999,
          "observed_growth_rate": 1.0000010000010007,
          "projected_frequency": 1.0000000000000002,
          "timepoint": "2008-10-01T00:00:00",
          "year": 2008
         },
         {
          "clade_membership": "fd5608c",
          "estimated_growth_rate": 1.0000010000010005,
          "frequency": 0.9999989999999999,
          "frequency_final": 1.0000000000000004,
          "frequency_other": 0.9999989999999999,
          "observed_growth_rate": 1.0000010000010007,
          "projected_frequency": 1.0000000000000002,
          "timepoint": "2008-10-01T00:00:00",
          "year": 2008
         },
         {
          "clade_membership": "ff9301c",
          "estimated_growth_rate": 1.0000010000010005,
          "frequency": 0.9999989999999999,
          "frequency_final": 1.0000000000000004,
          "frequency_other": 0.9999989999999999,
          "observed_growth_rate": 1.0000010000010007,
          "projected_frequency": 1.0000000000000002,
          "timepoint": "2008-10-01T00:00:00",
          "year": 2008
         },
         {
          "clade_membership": "root",
          "estimated_growth_rate": 1.0000010000010005,
          "frequency": 0.9999989999999999,
          "frequency_final": 1.0000000000000004,
          "frequency_other": 0.9999989999999999,
          "observed_growth_rate": 1.0000010000010007,
          "projected_frequency": 1.0000000000000002,
          "timepoint": "2008-10-01T00:00:00",
          "year": 2008
         },
         {
          "clade_membership": "02e323e",
          "estimated_growth_rate": 0.9999980000040005,
          "frequency": 1.0000019999999994,
          "frequency_final": 1.000004,
          "frequency_other": 1.0000019999999994,
          "observed_growth_rate": 1.0000019999960006,
          "projected_frequency": 0.9999999999999999,
          "timepoint": "2009-04-01T00:00:00",
          "year": 2009
         },
         {
          "clade_membership": "048f8ca",
          "estimated_growth_rate": 0.9999980000040005,
          "frequency": 1.0000019999999994,
          "frequency_final": 1.000004,
          "frequency_other": 1.0000019999999994,
          "observed_growth_rate": 1.0000019999960006,
          "projected_frequency": 0.9999999999999999,
          "timepoint": "2009-04-01T00:00:00",
          "year": 2009
         },
         {
          "clade_membership": "09e68a2",
          "estimated_growth_rate": 0.9999980000040005,
          "frequency": 1.0000019999999994,
          "frequency_final": 1.000004,
          "frequency_other": 1.0000019999999994,
          "observed_growth_rate": 1.0000019999960006,
          "projected_frequency": 0.9999999999999999,
          "timepoint": "2009-04-01T00:00:00",
          "year": 2009
         },
         {
          "clade_membership": "18b52ed",
          "estimated_growth_rate": 1.152759259301335,
          "frequency": 0.8661389999999995,
          "frequency_final": 0,
          "frequency_other": 0.8661389999999997,
          "observed_growth_rate": 0,
          "projected_frequency": 0.9984497520919984,
          "timepoint": "2009-04-01T00:00:00",
          "year": 2009
         },
         {
          "clade_membership": "35491c6",
          "estimated_growth_rate": 0.9999980000040005,
          "frequency": 1.0000019999999994,
          "frequency_final": 1.000004,
          "frequency_other": 1.0000019999999994,
          "observed_growth_rate": 1.0000019999960006,
          "projected_frequency": 0.9999999999999999,
          "timepoint": "2009-04-01T00:00:00",
          "year": 2009
         },
         {
          "clade_membership": "3a81d99",
          "estimated_growth_rate": 0.9999980000040005,
          "frequency": 1.0000019999999994,
          "frequency_final": 1.000004,
          "frequency_other": 1.0000019999999994,
          "observed_growth_rate": 1.0000019999960006,
          "projected_frequency": 0.9999999999999999,
          "timepoint": "2009-04-01T00:00:00",
          "year": 2009
         },
         {
          "clade_membership": "3c0baec",
          "estimated_growth_rate": 0.9999980000040005,
          "frequency": 1.0000019999999994,
          "frequency_final": 1.000004,
          "frequency_other": 1.0000019999999994,
          "observed_growth_rate": 1.0000019999960006,
          "projected_frequency": 0.9999999999999999,
          "timepoint": "2009-04-01T00:00:00",
          "year": 2009
         },
         {
          "clade_membership": "412c00a",
          "estimated_growth_rate": 0.9999980000040005,
          "frequency": 1.0000019999999994,
          "frequency_final": 1.000004,
          "frequency_other": 1.0000019999999994,
          "observed_growth_rate": 1.0000019999960006,
          "projected_frequency": 0.9999999999999999,
          "timepoint": "2009-04-01T00:00:00",
          "year": 2009
         },
         {
          "clade_membership": "41bb3e2",
          "estimated_growth_rate": 1.2264190749480548,
          "frequency": 0.8138199999999998,
          "frequency_final": 1.000004,
          "frequency_other": 0.8138199999999999,
          "observed_growth_rate": 1.228777862426581,
          "projected_frequency": 0.9980843715742257,
          "timepoint": "2009-04-01T00:00:00",
          "year": 2009
         },
         {
          "clade_membership": "44989e1",
          "estimated_growth_rate": 0.9999980000040005,
          "frequency": 1.0000019999999994,
          "frequency_final": 1.000004,
          "frequency_other": 1.0000019999999994,
          "observed_growth_rate": 1.0000019999960006,
          "projected_frequency": 0.9999999999999999,
          "timepoint": "2009-04-01T00:00:00",
          "year": 2009
         },
         {
          "clade_membership": "4952842",
          "estimated_growth_rate": 0.9999980000040005,
          "frequency": 1.0000019999999994,
          "frequency_final": 1.000004,
          "frequency_other": 1.0000019999999994,
          "observed_growth_rate": 1.0000019999960006,
          "projected_frequency": 0.9999999999999999,
          "timepoint": "2009-04-01T00:00:00",
          "year": 2009
         },
         {
          "clade_membership": "4e35443",
          "estimated_growth_rate": 0.9999980000040005,
          "frequency": 1.0000019999999994,
          "frequency_final": 1.000004,
          "frequency_other": 1.0000019999999994,
          "observed_growth_rate": 1.0000019999960006,
          "projected_frequency": 0.9999999999999999,
          "timepoint": "2009-04-01T00:00:00",
          "year": 2009
         },
         {
          "clade_membership": "4ff1302",
          "estimated_growth_rate": 0.9999980000040005,
          "frequency": 1.0000019999999994,
          "frequency_final": 1.000004,
          "frequency_other": 1.0000019999999994,
          "observed_growth_rate": 1.0000019999960006,
          "projected_frequency": 0.9999999999999999,
          "timepoint": "2009-04-01T00:00:00",
          "year": 2009
         },
         {
          "clade_membership": "6335574",
          "estimated_growth_rate": 0.9999980000040005,
          "frequency": 1.0000019999999994,
          "frequency_final": 1.000004,
          "frequency_other": 1.0000019999999994,
          "observed_growth_rate": 1.0000019999960006,
          "projected_frequency": 0.9999999999999999,
          "timepoint": "2009-04-01T00:00:00",
          "year": 2009
         },
         {
          "clade_membership": "7aa732d",
          "estimated_growth_rate": 0.9999980000040005,
          "frequency": 1.0000019999999994,
          "frequency_final": 1.000004,
          "frequency_other": 1.0000019999999994,
          "observed_growth_rate": 1.0000019999960006,
          "projected_frequency": 0.9999999999999999,
          "timepoint": "2009-04-01T00:00:00",
          "year": 2009
         },
         {
          "clade_membership": "8386d16",
          "estimated_growth_rate": 0.9999980000040005,
          "frequency": 1.0000019999999994,
          "frequency_final": 1.000004,
          "frequency_other": 1.0000019999999994,
          "observed_growth_rate": 1.0000019999960006,
          "projected_frequency": 0.9999999999999999,
          "timepoint": "2009-04-01T00:00:00",
          "year": 2009
         },
         {
          "clade_membership": "85356dd",
          "estimated_growth_rate": 0.9999980000040005,
          "frequency": 1.0000019999999994,
          "frequency_final": 1.000004,
          "frequency_other": 1.0000019999999994,
          "observed_growth_rate": 1.0000019999960006,
          "projected_frequency": 0.9999999999999999,
          "timepoint": "2009-04-01T00:00:00",
          "year": 2009
         },
         {
          "clade_membership": "88dab64",
          "estimated_growth_rate": 0.9999980000040005,
          "frequency": 1.0000019999999994,
          "frequency_final": 1.000004,
          "frequency_other": 1.0000019999999994,
          "observed_growth_rate": 1.0000019999960006,
          "projected_frequency": 0.9999999999999999,
          "timepoint": "2009-04-01T00:00:00",
          "year": 2009
         },
         {
          "clade_membership": "8dd9dae",
          "estimated_growth_rate": 0.9999980000040005,
          "frequency": 1.0000019999999994,
          "frequency_final": 0,
          "frequency_other": 1.0000019999999994,
          "observed_growth_rate": 0,
          "projected_frequency": 0.9999999999999999,
          "timepoint": "2009-04-01T00:00:00",
          "year": 2009
         },
         {
          "clade_membership": "8e08f7f",
          "estimated_growth_rate": 0.9999980000040005,
          "frequency": 1.0000019999999994,
          "frequency_final": 1.000004,
          "frequency_other": 1.0000019999999994,
          "observed_growth_rate": 1.0000019999960006,
          "projected_frequency": 0.9999999999999999,
          "timepoint": "2009-04-01T00:00:00",
          "year": 2009
         },
         {
          "clade_membership": "91769ce",
          "estimated_growth_rate": 0.9999980000040005,
          "frequency": 1.0000019999999994,
          "frequency_final": 1.000004,
          "frequency_other": 1.0000019999999994,
          "observed_growth_rate": 1.0000019999960006,
          "projected_frequency": 0.9999999999999999,
          "timepoint": "2009-04-01T00:00:00",
          "year": 2009
         },
         {
          "clade_membership": "98c068a",
          "estimated_growth_rate": 0.9999980000040005,
          "frequency": 1.0000019999999994,
          "frequency_final": 1.000004,
          "frequency_other": 1.0000019999999994,
          "observed_growth_rate": 1.0000019999960006,
          "projected_frequency": 0.9999999999999999,
          "timepoint": "2009-04-01T00:00:00",
          "year": 2009
         },
         {
          "clade_membership": "9a3ff5d",
          "estimated_growth_rate": 0.9999980000040005,
          "frequency": 1.0000019999999994,
          "frequency_final": 1.000004,
          "frequency_other": 1.0000019999999994,
          "observed_growth_rate": 1.0000019999960006,
          "projected_frequency": 0.9999999999999999,
          "timepoint": "2009-04-01T00:00:00",
          "year": 2009
         },
         {
          "clade_membership": "9b04f13",
          "estimated_growth_rate": 0.9999980000040005,
          "frequency": 1.0000019999999994,
          "frequency_final": 1.000004,
          "frequency_other": 1.0000019999999994,
          "observed_growth_rate": 1.0000019999960006,
          "projected_frequency": 0.9999999999999999,
          "timepoint": "2009-04-01T00:00:00",
          "year": 2009
         },
         {
          "clade_membership": "a5bcb4f",
          "estimated_growth_rate": 0.9999980000040005,
          "frequency": 1.0000019999999994,
          "frequency_final": 1.000004,
          "frequency_other": 1.0000019999999994,
          "observed_growth_rate": 1.0000019999960006,
          "projected_frequency": 0.9999999999999999,
          "timepoint": "2009-04-01T00:00:00",
          "year": 2009
         },
         {
          "clade_membership": "aab80f6",
          "estimated_growth_rate": 0.9999980000040005,
          "frequency": 1.0000019999999994,
          "frequency_final": 1.000004,
          "frequency_other": 1.0000019999999994,
          "observed_growth_rate": 1.0000019999960006,
          "projected_frequency": 0.9999999999999999,
          "timepoint": "2009-04-01T00:00:00",
          "year": 2009
         },
         {
          "clade_membership": "b32cea9",
          "estimated_growth_rate": 0.9999980000040005,
          "frequency": 1.0000019999999994,
          "frequency_final": 1.000004,
          "frequency_other": 1.0000019999999994,
          "observed_growth_rate": 1.0000019999960006,
          "projected_frequency": 0.9999999999999999,
          "timepoint": "2009-04-01T00:00:00",
          "year": 2009
         },
         {
          "clade_membership": "d6906cf",
          "estimated_growth_rate": 0.9999980000040005,
          "frequency": 1.0000019999999994,
          "frequency_final": 1.000004,
          "frequency_other": 1.0000019999999994,
          "observed_growth_rate": 1.0000019999960006,
          "projected_frequency": 0.9999999999999999,
          "timepoint": "2009-04-01T00:00:00",
          "year": 2009
         },
         {
          "clade_membership": "d7fecad",
          "estimated_growth_rate": 0.9999980000040005,
          "frequency": 1.0000019999999994,
          "frequency_final": 1.000004,
          "frequency_other": 1.0000019999999994,
          "observed_growth_rate": 1.0000019999960006,
          "projected_frequency": 0.9999999999999999,
          "timepoint": "2009-04-01T00:00:00",
          "year": 2009
         },
         {
          "clade_membership": "e2f3876",
          "estimated_growth_rate": 0.9999980000040005,
          "frequency": 1.0000019999999994,
          "frequency_final": 1.000004,
          "frequency_other": 1.0000019999999994,
          "observed_growth_rate": 1.0000019999960006,
          "projected_frequency": 0.9999999999999999,
          "timepoint": "2009-04-01T00:00:00",
          "year": 2009
         },
         {
          "clade_membership": "e501908",
          "estimated_growth_rate": 0.9999980000040005,
          "frequency": 1.0000019999999994,
          "frequency_final": 1.000004,
          "frequency_other": 1.0000019999999994,
          "observed_growth_rate": 1.0000019999960006,
          "projected_frequency": 0.9999999999999999,
          "timepoint": "2009-04-01T00:00:00",
          "year": 2009
         },
         {
          "clade_membership": "e64cc68",
          "estimated_growth_rate": 0.9999980000040005,
          "frequency": 1.0000019999999994,
          "frequency_final": 1.000004,
          "frequency_other": 1.0000019999999994,
          "observed_growth_rate": 1.0000019999960006,
          "projected_frequency": 0.9999999999999999,
          "timepoint": "2009-04-01T00:00:00",
          "year": 2009
         },
         {
          "clade_membership": "e89fed6",
          "estimated_growth_rate": 0.9999980000040005,
          "frequency": 1.0000019999999994,
          "frequency_final": 1.000004,
          "frequency_other": 1.0000019999999994,
          "observed_growth_rate": 1.0000019999960006,
          "projected_frequency": 0.9999999999999999,
          "timepoint": "2009-04-01T00:00:00",
          "year": 2009
         },
         {
          "clade_membership": "ecf49fd",
          "estimated_growth_rate": 0.9999980000040005,
          "frequency": 1.0000019999999994,
          "frequency_final": 1.000004,
          "frequency_other": 1.0000019999999994,
          "observed_growth_rate": 1.0000019999960006,
          "projected_frequency": 0.9999999999999999,
          "timepoint": "2009-04-01T00:00:00",
          "year": 2009
         },
         {
          "clade_membership": "f3f16af",
          "estimated_growth_rate": 0.9999980000040005,
          "frequency": 1.0000019999999994,
          "frequency_final": 1.000004,
          "frequency_other": 1.0000019999999994,
          "observed_growth_rate": 1.0000019999960006,
          "projected_frequency": 0.9999999999999999,
          "timepoint": "2009-04-01T00:00:00",
          "year": 2009
         },
         {
          "clade_membership": "fd5608c",
          "estimated_growth_rate": 0.9999980000040005,
          "frequency": 1.0000019999999994,
          "frequency_final": 1.000004,
          "frequency_other": 1.0000019999999994,
          "observed_growth_rate": 1.0000019999960006,
          "projected_frequency": 0.9999999999999999,
          "timepoint": "2009-04-01T00:00:00",
          "year": 2009
         },
         {
          "clade_membership": "ff9301c",
          "estimated_growth_rate": 0.9999980000040005,
          "frequency": 1.0000019999999994,
          "frequency_final": 1.000004,
          "frequency_other": 1.0000019999999994,
          "observed_growth_rate": 1.0000019999960006,
          "projected_frequency": 0.9999999999999999,
          "timepoint": "2009-04-01T00:00:00",
          "year": 2009
         },
         {
          "clade_membership": "root",
          "estimated_growth_rate": 0.9999980000040005,
          "frequency": 1.0000019999999994,
          "frequency_final": 1.000004,
          "frequency_other": 1.0000019999999994,
          "observed_growth_rate": 1.0000019999960006,
          "projected_frequency": 0.9999999999999999,
          "timepoint": "2009-04-01T00:00:00",
          "year": 2009
         },
         {
          "clade_membership": "0003b07",
          "estimated_growth_rate": 0.9999999999999994,
          "frequency": 1.0000000000000004,
          "frequency_final": 0.9999979999999993,
          "frequency_other": 1.0000000000000004,
          "observed_growth_rate": 0.9999979999999988,
          "projected_frequency": 0.9999999999999999,
          "timepoint": "2009-10-01T00:00:00",
          "year": 2009
         },
         {
          "clade_membership": "02e323e",
          "estimated_growth_rate": 0.9999999999999994,
          "frequency": 1.0000000000000004,
          "frequency_final": 0.9999979999999993,
          "frequency_other": 1.0000000000000004,
          "observed_growth_rate": 0.9999979999999988,
          "projected_frequency": 0.9999999999999999,
          "timepoint": "2009-10-01T00:00:00",
          "year": 2009
         },
         {
          "clade_membership": "048f8ca",
          "estimated_growth_rate": 0.9999999999999994,
          "frequency": 1.0000000000000004,
          "frequency_final": 0.9999979999999993,
          "frequency_other": 1.0000000000000004,
          "observed_growth_rate": 0.9999979999999988,
          "projected_frequency": 0.9999999999999999,
          "timepoint": "2009-10-01T00:00:00",
          "year": 2009
         },
         {
          "clade_membership": "09e68a2",
          "estimated_growth_rate": 0.9999999999999994,
          "frequency": 1.0000000000000004,
          "frequency_final": 0.9999979999999993,
          "frequency_other": 1.0000000000000004,
          "observed_growth_rate": 0.9999979999999988,
          "projected_frequency": 0.9999999999999999,
          "timepoint": "2009-10-01T00:00:00",
          "year": 2009
         },
         {
          "clade_membership": "35491c6",
          "estimated_growth_rate": 0.9999999999999994,
          "frequency": 1.0000000000000004,
          "frequency_final": 0.9999979999999993,
          "frequency_other": 1.0000000000000004,
          "observed_growth_rate": 0.9999979999999988,
          "projected_frequency": 0.9999999999999999,
          "timepoint": "2009-10-01T00:00:00",
          "year": 2009
         },
         {
          "clade_membership": "3a81d99",
          "estimated_growth_rate": 0.9999999999999994,
          "frequency": 1.0000000000000004,
          "frequency_final": 0.9999979999999993,
          "frequency_other": 1.0000000000000004,
          "observed_growth_rate": 0.9999979999999988,
          "projected_frequency": 0.9999999999999999,
          "timepoint": "2009-10-01T00:00:00",
          "year": 2009
         },
         {
          "clade_membership": "3c0baec",
          "estimated_growth_rate": 0.9999999999999994,
          "frequency": 1.0000000000000004,
          "frequency_final": 0.9999979999999993,
          "frequency_other": 1.0000000000000004,
          "observed_growth_rate": 0.9999979999999988,
          "projected_frequency": 0.9999999999999999,
          "timepoint": "2009-10-01T00:00:00",
          "year": 2009
         },
         {
          "clade_membership": "412c00a",
          "estimated_growth_rate": 0.9999999999999994,
          "frequency": 1.0000000000000004,
          "frequency_final": 0,
          "frequency_other": 1.0000000000000004,
          "observed_growth_rate": 0,
          "projected_frequency": 0.9999999999999999,
          "timepoint": "2009-10-01T00:00:00",
          "year": 2009
         },
         {
          "clade_membership": "41bb3e2",
          "estimated_growth_rate": 1.004123460951303,
          "frequency": 0.9958930000000004,
          "frequency_final": 0.9999979999999993,
          "frequency_other": 0.9958930000000004,
          "observed_growth_rate": 1.004121928761422,
          "projected_frequency": 0.9999995258971763,
          "timepoint": "2009-10-01T00:00:00",
          "year": 2009
         },
         {
          "clade_membership": "44989e1",
          "estimated_growth_rate": 0.9999999999999994,
          "frequency": 1.0000000000000004,
          "frequency_final": 0.9999979999999993,
          "frequency_other": 1.0000000000000004,
          "observed_growth_rate": 0.9999979999999988,
          "projected_frequency": 0.9999999999999999,
          "timepoint": "2009-10-01T00:00:00",
          "year": 2009
         },
         {
          "clade_membership": "4952842",
          "estimated_growth_rate": 0.9999999999999994,
          "frequency": 1.0000000000000004,
          "frequency_final": 0.9999979999999993,
          "frequency_other": 1.0000000000000004,
          "observed_growth_rate": 0.9999979999999988,
          "projected_frequency": 0.9999999999999999,
          "timepoint": "2009-10-01T00:00:00",
          "year": 2009
         },
         {
          "clade_membership": "4ff1302",
          "estimated_growth_rate": 0.9999999999999994,
          "frequency": 1.0000000000000004,
          "frequency_final": 0,
          "frequency_other": 1.0000000000000004,
          "observed_growth_rate": 0,
          "projected_frequency": 0.9999999999999999,
          "timepoint": "2009-10-01T00:00:00",
          "year": 2009
         },
         {
          "clade_membership": "6335574",
          "estimated_growth_rate": 0.9999999999999994,
          "frequency": 1.0000000000000004,
          "frequency_final": 0.9999979999999993,
          "frequency_other": 1.0000000000000004,
          "observed_growth_rate": 0.9999979999999988,
          "projected_frequency": 0.9999999999999999,
          "timepoint": "2009-10-01T00:00:00",
          "year": 2009
         },
         {
          "clade_membership": "7aa732d",
          "estimated_growth_rate": 0.9999999999999994,
          "frequency": 1.0000000000000004,
          "frequency_final": 0.9999979999999993,
          "frequency_other": 1.0000000000000004,
          "observed_growth_rate": 0.9999979999999988,
          "projected_frequency": 0.9999999999999999,
          "timepoint": "2009-10-01T00:00:00",
          "year": 2009
         },
         {
          "clade_membership": "85356dd",
          "estimated_growth_rate": 0.9999999999999994,
          "frequency": 1.0000000000000004,
          "frequency_final": 0,
          "frequency_other": 1.0000000000000004,
          "observed_growth_rate": 0,
          "projected_frequency": 0.9999999999999999,
          "timepoint": "2009-10-01T00:00:00",
          "year": 2009
         },
         {
          "clade_membership": "88dab64",
          "estimated_growth_rate": 0.9999999999999994,
          "frequency": 1.0000000000000004,
          "frequency_final": 0.9999979999999993,
          "frequency_other": 1.0000000000000004,
          "observed_growth_rate": 0.9999979999999988,
          "projected_frequency": 0.9999999999999999,
          "timepoint": "2009-10-01T00:00:00",
          "year": 2009
         },
         {
          "clade_membership": "8e08f7f",
          "estimated_growth_rate": 0.9999999999999994,
          "frequency": 1.0000000000000004,
          "frequency_final": 0.9999979999999993,
          "frequency_other": 1.0000000000000004,
          "observed_growth_rate": 0.9999979999999988,
          "projected_frequency": 0.9999999999999999,
          "timepoint": "2009-10-01T00:00:00",
          "year": 2009
         },
         {
          "clade_membership": "91769ce",
          "estimated_growth_rate": 0.9999999999999994,
          "frequency": 1.0000000000000004,
          "frequency_final": 0.9999979999999993,
          "frequency_other": 1.0000000000000004,
          "observed_growth_rate": 0.9999979999999988,
          "projected_frequency": 0.9999999999999999,
          "timepoint": "2009-10-01T00:00:00",
          "year": 2009
         },
         {
          "clade_membership": "956f201",
          "estimated_growth_rate": 3.752510154903771,
          "frequency": 0.25633399999999995,
          "frequency_final": 0.8239289999999996,
          "frequency_other": 0.25633399999999995,
          "observed_growth_rate": 3.2142790265825045,
          "projected_frequency": 0.961895938047103,
          "timepoint": "2009-10-01T00:00:00",
          "year": 2009
         },
         {
          "clade_membership": "98c068a",
          "estimated_growth_rate": 0.9999999999999994,
          "frequency": 1.0000000000000004,
          "frequency_final": 0.9999979999999993,
          "frequency_other": 1.0000000000000004,
          "observed_growth_rate": 0.9999979999999988,
          "projected_frequency": 0.9999999999999999,
          "timepoint": "2009-10-01T00:00:00",
          "year": 2009
         },
         {
          "clade_membership": "9a3ff5d",
          "estimated_growth_rate": 0.9999999999999994,
          "frequency": 1.0000000000000004,
          "frequency_final": 0.9999979999999993,
          "frequency_other": 1.0000000000000004,
          "observed_growth_rate": 0.9999979999999988,
          "projected_frequency": 0.9999999999999999,
          "timepoint": "2009-10-01T00:00:00",
          "year": 2009
         },
         {
          "clade_membership": "9b04f13",
          "estimated_growth_rate": 0.9999999999999994,
          "frequency": 1.0000000000000004,
          "frequency_final": 0.9999979999999993,
          "frequency_other": 1.0000000000000004,
          "observed_growth_rate": 0.9999979999999988,
          "projected_frequency": 0.9999999999999999,
          "timepoint": "2009-10-01T00:00:00",
          "year": 2009
         },
         {
          "clade_membership": "a5bcb4f",
          "estimated_growth_rate": 0.9999999999999994,
          "frequency": 1.0000000000000004,
          "frequency_final": 0.9999979999999993,
          "frequency_other": 1.0000000000000004,
          "observed_growth_rate": 0.9999979999999988,
          "projected_frequency": 0.9999999999999999,
          "timepoint": "2009-10-01T00:00:00",
          "year": 2009
         },
         {
          "clade_membership": "aab80f6",
          "estimated_growth_rate": 0.9999999999999994,
          "frequency": 1.0000000000000004,
          "frequency_final": 0.9999979999999993,
          "frequency_other": 1.0000000000000004,
          "observed_growth_rate": 0.9999979999999988,
          "projected_frequency": 0.9999999999999999,
          "timepoint": "2009-10-01T00:00:00",
          "year": 2009
         },
         {
          "clade_membership": "b32cea9",
          "estimated_growth_rate": 0.9999999999999994,
          "frequency": 1.0000000000000004,
          "frequency_final": 0.9999979999999993,
          "frequency_other": 1.0000000000000004,
          "observed_growth_rate": 0.9999979999999988,
          "projected_frequency": 0.9999999999999999,
          "timepoint": "2009-10-01T00:00:00",
          "year": 2009
         },
         {
          "clade_membership": "c0ab28c",
          "estimated_growth_rate": 0.07886959405854643,
          "frequency": 0.48154399999999997,
          "frequency_final": 0.16942,
          "frequency_other": 0.48154399999999997,
          "observed_growth_rate": 0.3518266243583141,
          "projected_frequency": 0.03797917980132868,
          "timepoint": "2009-10-01T00:00:00",
          "year": 2009
         },
         {
          "clade_membership": "d6906cf",
          "estimated_growth_rate": 0.9999999999999994,
          "frequency": 1.0000000000000004,
          "frequency_final": 0.9999979999999993,
          "frequency_other": 1.0000000000000004,
          "observed_growth_rate": 0.9999979999999988,
          "projected_frequency": 0.9999999999999999,
          "timepoint": "2009-10-01T00:00:00",
          "year": 2009
         },
         {
          "clade_membership": "d7fecad",
          "estimated_growth_rate": 0.9999999999999994,
          "frequency": 1.0000000000000004,
          "frequency_final": 0.9999979999999993,
          "frequency_other": 1.0000000000000004,
          "observed_growth_rate": 0.9999979999999988,
          "projected_frequency": 0.9999999999999999,
          "timepoint": "2009-10-01T00:00:00",
          "year": 2009
         },
         {
          "clade_membership": "e2f3876",
          "estimated_growth_rate": 0.9999999999999994,
          "frequency": 1.0000000000000004,
          "frequency_final": 0.9999979999999993,
          "frequency_other": 1.0000000000000004,
          "observed_growth_rate": 0.9999979999999988,
          "projected_frequency": 0.9999999999999999,
          "timepoint": "2009-10-01T00:00:00",
          "year": 2009
         },
         {
          "clade_membership": "e501908",
          "estimated_growth_rate": 0.9999999999999994,
          "frequency": 1.0000000000000004,
          "frequency_final": 0.9999979999999993,
          "frequency_other": 1.0000000000000004,
          "observed_growth_rate": 0.9999979999999988,
          "projected_frequency": 0.9999999999999999,
          "timepoint": "2009-10-01T00:00:00",
          "year": 2009
         },
         {
          "clade_membership": "e62a2e8",
          "estimated_growth_rate": 0.1370362111570973,
          "frequency": 0.23281699999999997,
          "frequency_final": 0.005778,
          "frequency_other": 0.23281699999999997,
          "observed_growth_rate": 0.024817775334275424,
          "projected_frequency": 0.031904359572961914,
          "timepoint": "2009-10-01T00:00:00",
          "year": 2009
         },
         {
          "clade_membership": "e64cc68",
          "estimated_growth_rate": 0.9999999999999994,
          "frequency": 1.0000000000000004,
          "frequency_final": 0.9999979999999993,
          "frequency_other": 1.0000000000000004,
          "observed_growth_rate": 0.9999979999999988,
          "projected_frequency": 0.9999999999999999,
          "timepoint": "2009-10-01T00:00:00",
          "year": 2009
         },
         {
          "clade_membership": "ecf49fd",
          "estimated_growth_rate": 0.9999999999999994,
          "frequency": 1.0000000000000004,
          "frequency_final": 0.9999979999999993,
          "frequency_other": 1.0000000000000004,
          "observed_growth_rate": 0.9999979999999988,
          "projected_frequency": 0.9999999999999999,
          "timepoint": "2009-10-01T00:00:00",
          "year": 2009
         },
         {
          "clade_membership": "f3f16af",
          "estimated_growth_rate": 0.9999999999999994,
          "frequency": 1.0000000000000004,
          "frequency_final": 0.9999979999999993,
          "frequency_other": 1.0000000000000004,
          "observed_growth_rate": 0.9999979999999988,
          "projected_frequency": 0.9999999999999999,
          "timepoint": "2009-10-01T00:00:00",
          "year": 2009
         },
         {
          "clade_membership": "fd5608c",
          "estimated_growth_rate": 0.9999999999999994,
          "frequency": 1.0000000000000004,
          "frequency_final": 0.9999979999999993,
          "frequency_other": 1.0000000000000004,
          "observed_growth_rate": 0.9999979999999988,
          "projected_frequency": 0.9999999999999999,
          "timepoint": "2009-10-01T00:00:00",
          "year": 2009
         },
         {
          "clade_membership": "ff9301c",
          "estimated_growth_rate": 0.9999999999999994,
          "frequency": 1.0000000000000004,
          "frequency_final": 0.9999979999999993,
          "frequency_other": 1.0000000000000004,
          "observed_growth_rate": 0.9999979999999988,
          "projected_frequency": 0.9999999999999999,
          "timepoint": "2009-10-01T00:00:00",
          "year": 2009
         },
         {
          "clade_membership": "root",
          "estimated_growth_rate": 0.9999999999999994,
          "frequency": 1.0000000000000004,
          "frequency_final": 0.9999979999999993,
          "frequency_other": 1.0000000000000004,
          "observed_growth_rate": 0.9999979999999988,
          "projected_frequency": 0.9999999999999999,
          "timepoint": "2009-10-01T00:00:00",
          "year": 2009
         },
         {
          "clade_membership": "0003b07",
          "estimated_growth_rate": 0.9999960000159999,
          "frequency": 1.000004,
          "frequency_final": 1.0000029999999995,
          "frequency_other": 1.000004,
          "observed_growth_rate": 0.9999990000039997,
          "projected_frequency": 0.9999999999999998,
          "timepoint": "2010-04-01T00:00:00",
          "year": 2010
         },
         {
          "clade_membership": "02e323e",
          "estimated_growth_rate": 0.9999960000159999,
          "frequency": 1.000004,
          "frequency_final": 1.0000029999999995,
          "frequency_other": 1.000004,
          "observed_growth_rate": 0.9999990000039997,
          "projected_frequency": 0.9999999999999998,
          "timepoint": "2010-04-01T00:00:00",
          "year": 2010
         },
         {
          "clade_membership": "048f8ca",
          "estimated_growth_rate": 0.9999960000159999,
          "frequency": 1.000004,
          "frequency_final": 1.0000029999999995,
          "frequency_other": 1.000004,
          "observed_growth_rate": 0.9999990000039997,
          "projected_frequency": 0.9999999999999998,
          "timepoint": "2010-04-01T00:00:00",
          "year": 2010
         },
         {
          "clade_membership": "09e68a2",
          "estimated_growth_rate": 0.9999960000159999,
          "frequency": 1.000004,
          "frequency_final": 1.0000029999999995,
          "frequency_other": 1.000004,
          "observed_growth_rate": 0.9999990000039997,
          "projected_frequency": 0.9999999999999998,
          "timepoint": "2010-04-01T00:00:00",
          "year": 2010
         },
         {
          "clade_membership": "35491c6",
          "estimated_growth_rate": 0.9999960000159999,
          "frequency": 1.000004,
          "frequency_final": 1.0000029999999995,
          "frequency_other": 1.000004,
          "observed_growth_rate": 0.9999990000039997,
          "projected_frequency": 0.9999999999999998,
          "timepoint": "2010-04-01T00:00:00",
          "year": 2010
         },
         {
          "clade_membership": "3a81d99",
          "estimated_growth_rate": 0.9999960000159999,
          "frequency": 1.000004,
          "frequency_final": 1.0000029999999995,
          "frequency_other": 1.000004,
          "observed_growth_rate": 0.9999990000039997,
          "projected_frequency": 0.9999999999999998,
          "timepoint": "2010-04-01T00:00:00",
          "year": 2010
         },
         {
          "clade_membership": "3c0baec",
          "estimated_growth_rate": 0.9999960000159999,
          "frequency": 1.000004,
          "frequency_final": 1.0000029999999995,
          "frequency_other": 1.000004,
          "observed_growth_rate": 0.9999990000039997,
          "projected_frequency": 0.9999999999999998,
          "timepoint": "2010-04-01T00:00:00",
          "year": 2010
         },
         {
          "clade_membership": "412c00a",
          "estimated_growth_rate": 0.9999960000159999,
          "frequency": 1.000004,
          "frequency_final": 0,
          "frequency_other": 1.000004,
          "observed_growth_rate": 0,
          "projected_frequency": 0.9999999999999998,
          "timepoint": "2010-04-01T00:00:00",
          "year": 2010
         },
         {
          "clade_membership": "41bb3e2",
          "estimated_growth_rate": 0.9999960000159999,
          "frequency": 1.000004,
          "frequency_final": 1.0000029999999995,
          "frequency_other": 1.000004,
          "observed_growth_rate": 0.9999990000039997,
          "projected_frequency": 0.9999999999999998,
          "timepoint": "2010-04-01T00:00:00",
          "year": 2010
         },
         {
          "clade_membership": "44989e1",
          "estimated_growth_rate": 0.9999960000159999,
          "frequency": 1.000004,
          "frequency_final": 1.0000029999999995,
          "frequency_other": 1.000004,
          "observed_growth_rate": 0.9999990000039997,
          "projected_frequency": 0.9999999999999998,
          "timepoint": "2010-04-01T00:00:00",
          "year": 2010
         },
         {
          "clade_membership": "4952842",
          "estimated_growth_rate": 0.9999960000159999,
          "frequency": 1.000004,
          "frequency_final": 1.0000029999999995,
          "frequency_other": 1.000004,
          "observed_growth_rate": 0.9999990000039997,
          "projected_frequency": 0.9999999999999998,
          "timepoint": "2010-04-01T00:00:00",
          "year": 2010
         },
         {
          "clade_membership": "4e35443",
          "estimated_growth_rate": 0.9999960000159999,
          "frequency": 1.000004,
          "frequency_final": 1.0000029999999995,
          "frequency_other": 1.000004,
          "observed_growth_rate": 0.9999990000039997,
          "projected_frequency": 0.9999999999999998,
          "timepoint": "2010-04-01T00:00:00",
          "year": 2010
         },
         {
          "clade_membership": "4ff1302",
          "estimated_growth_rate": 0.9999960000159999,
          "frequency": 1.000004,
          "frequency_final": 0,
          "frequency_other": 1.000004,
          "observed_growth_rate": 0,
          "projected_frequency": 0.9999999999999998,
          "timepoint": "2010-04-01T00:00:00",
          "year": 2010
         },
         {
          "clade_membership": "6335574",
          "estimated_growth_rate": 0.9999960000159999,
          "frequency": 1.000004,
          "frequency_final": 1.0000029999999995,
          "frequency_other": 1.000004,
          "observed_growth_rate": 0.9999990000039997,
          "projected_frequency": 0.9999999999999998,
          "timepoint": "2010-04-01T00:00:00",
          "year": 2010
         },
         {
          "clade_membership": "7aa732d",
          "estimated_growth_rate": 0.9999960000159999,
          "frequency": 1.000004,
          "frequency_final": 1.0000029999999995,
          "frequency_other": 1.000004,
          "observed_growth_rate": 0.9999990000039997,
          "projected_frequency": 0.9999999999999998,
          "timepoint": "2010-04-01T00:00:00",
          "year": 2010
         },
         {
          "clade_membership": "7fba9ff",
          "estimated_growth_rate": 2.425793350685536,
          "frequency": 0.23131500000000005,
          "frequency_final": 0.17632400000000006,
          "frequency_other": 0.231315,
          "observed_growth_rate": 0.7622679030758923,
          "projected_frequency": 0.5611223889138248,
          "timepoint": "2010-04-01T00:00:00",
          "year": 2010
         },
         {
          "clade_membership": "8386d16",
          "estimated_growth_rate": 0.9999960000159999,
          "frequency": 1.000004,
          "frequency_final": 1.0000029999999995,
          "frequency_other": 1.000004,
          "observed_growth_rate": 0.9999990000039997,
          "projected_frequency": 0.9999999999999998,
          "timepoint": "2010-04-01T00:00:00",
          "year": 2010
         },
         {
          "clade_membership": "85356dd",
          "estimated_growth_rate": 0.9999960000159999,
          "frequency": 1.000004,
          "frequency_final": 1.0000029999999995,
          "frequency_other": 1.000004,
          "observed_growth_rate": 0.9999990000039997,
          "projected_frequency": 0.9999999999999998,
          "timepoint": "2010-04-01T00:00:00",
          "year": 2010
         },
         {
          "clade_membership": "88dab64",
          "estimated_growth_rate": 0.9999960000159999,
          "frequency": 1.000004,
          "frequency_final": 1.0000029999999995,
          "frequency_other": 1.000004,
          "observed_growth_rate": 0.9999990000039997,
          "projected_frequency": 0.9999999999999998,
          "timepoint": "2010-04-01T00:00:00",
          "year": 2010
         },
         {
          "clade_membership": "8e08f7f",
          "estimated_growth_rate": 0.9999960000159999,
          "frequency": 1.000004,
          "frequency_final": 0,
          "frequency_other": 1.000004,
          "observed_growth_rate": 0,
          "projected_frequency": 0.9999999999999998,
          "timepoint": "2010-04-01T00:00:00",
          "year": 2010
         },
         {
          "clade_membership": "91769ce",
          "estimated_growth_rate": 0.9999960000159999,
          "frequency": 1.000004,
          "frequency_final": 1.0000029999999995,
          "frequency_other": 1.000004,
          "observed_growth_rate": 0.9999990000039997,
          "projected_frequency": 0.9999999999999998,
          "timepoint": "2010-04-01T00:00:00",
          "year": 2010
         },
         {
          "clade_membership": "956f201",
          "estimated_growth_rate": 2.135864050842381,
          "frequency": 0.448499,
          "frequency_final": 0.8581889999999998,
          "frequency_other": 0.448499,
          "observed_growth_rate": 1.9134691493180582,
          "projected_frequency": 0.957932890938757,
          "timepoint": "2010-04-01T00:00:00",
          "year": 2010
         },
         {
          "clade_membership": "98c068a",
          "estimated_growth_rate": 0.9999960000159999,
          "frequency": 1.000004,
          "frequency_final": 1.0000029999999995,
          "frequency_other": 1.000004,
          "observed_growth_rate": 0.9999990000039997,
          "projected_frequency": 0.9999999999999998,
          "timepoint": "2010-04-01T00:00:00",
          "year": 2010
         },
         {
          "clade_membership": "9a3ff5d",
          "estimated_growth_rate": 0.9999960000159999,
          "frequency": 1.000004,
          "frequency_final": 1.0000029999999995,
          "frequency_other": 1.000004,
          "observed_growth_rate": 0.9999990000039997,
          "projected_frequency": 0.9999999999999998,
          "timepoint": "2010-04-01T00:00:00",
          "year": 2010
         },
         {
          "clade_membership": "9b04f13",
          "estimated_growth_rate": 0.9999960000159999,
          "frequency": 1.000004,
          "frequency_final": 1.0000029999999995,
          "frequency_other": 1.000004,
          "observed_growth_rate": 0.9999990000039997,
          "projected_frequency": 0.9999999999999998,
          "timepoint": "2010-04-01T00:00:00",
          "year": 2010
         },
         {
          "clade_membership": "a5bcb4f",
          "estimated_growth_rate": 0.9999960000159999,
          "frequency": 1.000004,
          "frequency_final": 1.0000029999999995,
          "frequency_other": 1.000004,
          "observed_growth_rate": 0.9999990000039997,
          "projected_frequency": 0.9999999999999998,
          "timepoint": "2010-04-01T00:00:00",
          "year": 2010
         },
         {
          "clade_membership": "aab80f6",
          "estimated_growth_rate": 0.9999960000159999,
          "frequency": 1.000004,
          "frequency_final": 1.0000029999999995,
          "frequency_other": 1.000004,
          "observed_growth_rate": 0.9999990000039997,
          "projected_frequency": 0.9999999999999998,
          "timepoint": "2010-04-01T00:00:00",
          "year": 2010
         },
         {
          "clade_membership": "b32cea9",
          "estimated_growth_rate": 0.9999960000159999,
          "frequency": 1.000004,
          "frequency_final": 1.0000029999999995,
          "frequency_other": 1.000004,
          "observed_growth_rate": 0.9999990000039997,
          "projected_frequency": 0.9999999999999998,
          "timepoint": "2010-04-01T00:00:00",
          "year": 2010
         },
         {
          "clade_membership": "c0ab28c",
          "estimated_growth_rate": 0.08559454921268503,
          "frequency": 0.48290999999999984,
          "frequency_final": 0.14181399999999997,
          "frequency_other": 0.48290999999999984,
          "observed_growth_rate": 0.29366548632250317,
          "projected_frequency": 0.041334463760297716,
          "timepoint": "2010-04-01T00:00:00",
          "year": 2010
         },
         {
          "clade_membership": "d4a2597",
          "estimated_growth_rate": 0.13891159743023287,
          "frequency": 0.20989200000000005,
          "frequency_final": 0.11601099999999998,
          "frequency_other": 0.20989200000000005,
          "observed_growth_rate": 0.5527175880929237,
          "projected_frequency": 0.029156433007826447,
          "timepoint": "2010-04-01T00:00:00",
          "year": 2010
         },
         {
          "clade_membership": "d6906cf",
          "estimated_growth_rate": 0.9999960000159999,
          "frequency": 1.000004,
          "frequency_final": 1.0000029999999995,
          "frequency_other": 1.000004,
          "observed_growth_rate": 0.9999990000039997,
          "projected_frequency": 0.9999999999999998,
          "timepoint": "2010-04-01T00:00:00",
          "year": 2010
         },
         {
          "clade_membership": "e2f3876",
          "estimated_growth_rate": 0.9999960000159999,
          "frequency": 1.000004,
          "frequency_final": 1.0000029999999995,
          "frequency_other": 1.000004,
          "observed_growth_rate": 0.9999990000039997,
          "projected_frequency": 0.9999999999999998,
          "timepoint": "2010-04-01T00:00:00",
          "year": 2010
         },
         {
          "clade_membership": "e501908",
          "estimated_growth_rate": 0.9999960000159999,
          "frequency": 1.000004,
          "frequency_final": 1.0000029999999995,
          "frequency_other": 1.000004,
          "observed_growth_rate": 0.9999990000039997,
          "projected_frequency": 0.9999999999999998,
          "timepoint": "2010-04-01T00:00:00",
          "year": 2010
         },
         {
          "clade_membership": "e64cc68",
          "estimated_growth_rate": 0.9999960000159999,
          "frequency": 1.000004,
          "frequency_final": 1.0000029999999995,
          "frequency_other": 1.000004,
          "observed_growth_rate": 0.9999990000039997,
          "projected_frequency": 0.9999999999999998,
          "timepoint": "2010-04-01T00:00:00",
          "year": 2010
         },
         {
          "clade_membership": "e89fed6",
          "estimated_growth_rate": 0.9999960000159999,
          "frequency": 1.000004,
          "frequency_final": 1.0000029999999995,
          "frequency_other": 1.000004,
          "observed_growth_rate": 0.9999990000039997,
          "projected_frequency": 0.9999999999999998,
          "timepoint": "2010-04-01T00:00:00",
          "year": 2010
         },
         {
          "clade_membership": "ecf49fd",
          "estimated_growth_rate": 0.9999960000159999,
          "frequency": 1.000004,
          "frequency_final": 1.0000029999999995,
          "frequency_other": 1.000004,
          "observed_growth_rate": 0.9999990000039997,
          "projected_frequency": 0.9999999999999998,
          "timepoint": "2010-04-01T00:00:00",
          "year": 2010
         },
         {
          "clade_membership": "f3f16af",
          "estimated_growth_rate": 0.9999960000159999,
          "frequency": 1.000004,
          "frequency_final": 1.0000029999999995,
          "frequency_other": 1.000004,
          "observed_growth_rate": 0.9999990000039997,
          "projected_frequency": 0.9999999999999998,
          "timepoint": "2010-04-01T00:00:00",
          "year": 2010
         },
         {
          "clade_membership": "fab88ff",
          "estimated_growth_rate": 0.17283637935613783,
          "frequency": 0.164725,
          "frequency_final": 0,
          "frequency_other": 0.16472500000000004,
          "observed_growth_rate": 0,
          "projected_frequency": 0.028470472589439806,
          "timepoint": "2010-04-01T00:00:00",
          "year": 2010
         },
         {
          "clade_membership": "fd5608c",
          "estimated_growth_rate": 0.9999960000159999,
          "frequency": 1.000004,
          "frequency_final": 1.0000029999999995,
          "frequency_other": 1.000004,
          "observed_growth_rate": 0.9999990000039997,
          "projected_frequency": 0.9999999999999998,
          "timepoint": "2010-04-01T00:00:00",
          "year": 2010
         },
         {
          "clade_membership": "root",
          "estimated_growth_rate": 0.9999960000159999,
          "frequency": 1.000004,
          "frequency_final": 1.0000029999999995,
          "frequency_other": 1.000004,
          "observed_growth_rate": 0.9999990000039997,
          "projected_frequency": 0.9999999999999998,
          "timepoint": "2010-04-01T00:00:00",
          "year": 2010
         },
         {
          "clade_membership": "0003b07",
          "estimated_growth_rate": 1.0000020000040002,
          "frequency": 0.9999979999999993,
          "frequency_final": 0.9999969999999998,
          "frequency_other": 0.9999979999999993,
          "observed_growth_rate": 0.9999989999980006,
          "projected_frequency": 0.9999999999999996,
          "timepoint": "2010-10-01T00:00:00",
          "year": 2010
         },
         {
          "clade_membership": "026d21f",
          "estimated_growth_rate": 2.721792869686302,
          "frequency": 0.362357,
          "frequency_final": 0.3658139999999997,
          "frequency_other": 0.362357,
          "observed_growth_rate": 1.0095403152140008,
          "projected_frequency": 0.9862606988809193,
          "timepoint": "2010-10-01T00:00:00",
          "year": 2010
         },
         {
          "clade_membership": "02e323e",
          "estimated_growth_rate": 1.0000020000040002,
          "frequency": 0.9999979999999993,
          "frequency_final": 0.9999969999999998,
          "frequency_other": 0.9999979999999993,
          "observed_growth_rate": 0.9999989999980006,
          "projected_frequency": 0.9999999999999996,
          "timepoint": "2010-10-01T00:00:00",
          "year": 2010
         },
         {
          "clade_membership": "048f8ca",
          "estimated_growth_rate": 1.0000020000040002,
          "frequency": 0.9999979999999993,
          "frequency_final": 0.9999969999999998,
          "frequency_other": 0.9999979999999993,
          "observed_growth_rate": 0.9999989999980006,
          "projected_frequency": 0.9999999999999996,
          "timepoint": "2010-10-01T00:00:00",
          "year": 2010
         },
         {
          "clade_membership": "09e68a2",
          "estimated_growth_rate": 1.0000020000040002,
          "frequency": 0.9999979999999993,
          "frequency_final": 0.9999969999999998,
          "frequency_other": 0.9999979999999993,
          "observed_growth_rate": 0.9999989999980006,
          "projected_frequency": 0.9999999999999996,
          "timepoint": "2010-10-01T00:00:00",
          "year": 2010
         },
         {
          "clade_membership": "35491c6",
          "estimated_growth_rate": 1.0000020000040002,
          "frequency": 0.9999979999999993,
          "frequency_final": 0.9999969999999998,
          "frequency_other": 0.9999979999999993,
          "observed_growth_rate": 0.9999989999980006,
          "projected_frequency": 0.9999999999999996,
          "timepoint": "2010-10-01T00:00:00",
          "year": 2010
         },
         {
          "clade_membership": "3a81d99",
          "estimated_growth_rate": 1.0000020000040002,
          "frequency": 0.9999979999999993,
          "frequency_final": 0.9999969999999998,
          "frequency_other": 0.9999979999999993,
          "observed_growth_rate": 0.9999989999980006,
          "projected_frequency": 0.9999999999999996,
          "timepoint": "2010-10-01T00:00:00",
          "year": 2010
         },
         {
          "clade_membership": "3c0baec",
          "estimated_growth_rate": 1.0000020000040002,
          "frequency": 0.9999979999999993,
          "frequency_final": 0.9999969999999998,
          "frequency_other": 0.9999979999999993,
          "observed_growth_rate": 0.9999989999980006,
          "projected_frequency": 0.9999999999999996,
          "timepoint": "2010-10-01T00:00:00",
          "year": 2010
         },
         {
          "clade_membership": "41bb3e2",
          "estimated_growth_rate": 1.0000020000040002,
          "frequency": 0.9999979999999993,
          "frequency_final": 0.9999969999999998,
          "frequency_other": 0.9999979999999993,
          "observed_growth_rate": 0.9999989999980006,
          "projected_frequency": 0.9999999999999996,
          "timepoint": "2010-10-01T00:00:00",
          "year": 2010
         },
         {
          "clade_membership": "44989e1",
          "estimated_growth_rate": 1.0000020000040002,
          "frequency": 0.9999979999999993,
          "frequency_final": 0.9999969999999998,
          "frequency_other": 0.9999979999999993,
          "observed_growth_rate": 0.9999989999980006,
          "projected_frequency": 0.9999999999999996,
          "timepoint": "2010-10-01T00:00:00",
          "year": 2010
         },
         {
          "clade_membership": "4952842",
          "estimated_growth_rate": 1.0000020000040002,
          "frequency": 0.9999979999999993,
          "frequency_final": 0.9999969999999998,
          "frequency_other": 0.9999979999999993,
          "observed_growth_rate": 0.9999989999980006,
          "projected_frequency": 0.9999999999999996,
          "timepoint": "2010-10-01T00:00:00",
          "year": 2010
         },
         {
          "clade_membership": "4e35443",
          "estimated_growth_rate": 1.0000020000040002,
          "frequency": 0.9999979999999993,
          "frequency_final": 0.9999969999999998,
          "frequency_other": 0.9999979999999993,
          "observed_growth_rate": 0.9999989999980006,
          "projected_frequency": 0.9999999999999996,
          "timepoint": "2010-10-01T00:00:00",
          "year": 2010
         },
         {
          "clade_membership": "6335574",
          "estimated_growth_rate": 1.0000020000040002,
          "frequency": 0.9999979999999993,
          "frequency_final": 0,
          "frequency_other": 0.9999979999999993,
          "observed_growth_rate": 0,
          "projected_frequency": 0.9999999999999996,
          "timepoint": "2010-10-01T00:00:00",
          "year": 2010
         },
         {
          "clade_membership": "7aa732d",
          "estimated_growth_rate": 1.0000020000040002,
          "frequency": 0.9999979999999993,
          "frequency_final": 0.9999969999999998,
          "frequency_other": 0.9999979999999993,
          "observed_growth_rate": 0.9999989999980006,
          "projected_frequency": 0.9999999999999996,
          "timepoint": "2010-10-01T00:00:00",
          "year": 2010
         },
         {
          "clade_membership": "7fba9ff",
          "estimated_growth_rate": 0.008921642353346585,
          "frequency": 0.31084799999999996,
          "frequency_final": 0.500796,
          "frequency_other": 0.31084799999999996,
          "observed_growth_rate": 1.6110639283508341,
          "projected_frequency": 0.0027732746822530787,
          "timepoint": "2010-10-01T00:00:00",
          "year": 2010
         },
         {
          "clade_membership": "88dab64",
          "estimated_growth_rate": 1.0000020000040002,
          "frequency": 0.9999979999999993,
          "frequency_final": 0.9999969999999998,
          "frequency_other": 0.9999979999999993,
          "observed_growth_rate": 0.9999989999980006,
          "projected_frequency": 0.9999999999999996,
          "timepoint": "2010-10-01T00:00:00",
          "year": 2010
         },
         {
          "clade_membership": "8e08f7f",
          "estimated_growth_rate": 1.0000020000040002,
          "frequency": 0.9999979999999993,
          "frequency_final": 0,
          "frequency_other": 0.9999979999999993,
          "observed_growth_rate": 0,
          "projected_frequency": 0.9999999999999996,
          "timepoint": "2010-10-01T00:00:00",
          "year": 2010
         },
         {
          "clade_membership": "91769ce",
          "estimated_growth_rate": 1.0000020000040002,
          "frequency": 0.9999979999999993,
          "frequency_final": 0.9999969999999998,
          "frequency_other": 0.9999979999999993,
          "observed_growth_rate": 0.9999989999980006,
          "projected_frequency": 0.9999999999999996,
          "timepoint": "2010-10-01T00:00:00",
          "year": 2010
         },
         {
          "clade_membership": "956f201",
          "estimated_growth_rate": 1.2131500142201583,
          "frequency": 0.8239289999999996,
          "frequency_final": 0.9548249999999998,
          "frequency_other": 0.8239289999999996,
          "observed_growth_rate": 1.158868057805952,
          "projected_frequency": 0.9995494780664003,
          "timepoint": "2010-10-01T00:00:00",
          "year": 2010
         },
         {
          "clade_membership": "98c068a",
          "estimated_growth_rate": 1.0000020000040002,
          "frequency": 0.9999979999999993,
          "frequency_final": 0.9999969999999998,
          "frequency_other": 0.9999979999999993,
          "observed_growth_rate": 0.9999989999980006,
          "projected_frequency": 0.9999999999999996,
          "timepoint": "2010-10-01T00:00:00",
          "year": 2010
         },
         {
          "clade_membership": "9a3ff5d",
          "estimated_growth_rate": 1.0000020000040002,
          "frequency": 0.9999979999999993,
          "frequency_final": 0.9999969999999998,
          "frequency_other": 0.9999979999999993,
          "observed_growth_rate": 0.9999989999980006,
          "projected_frequency": 0.9999999999999996,
          "timepoint": "2010-10-01T00:00:00",
          "year": 2010
         },
         {
          "clade_membership": "9b04f13",
          "estimated_growth_rate": 1.0000020000040002,
          "frequency": 0.9999979999999993,
          "frequency_final": 0.9999969999999998,
          "frequency_other": 0.9999979999999993,
          "observed_growth_rate": 0.9999989999980006,
          "projected_frequency": 0.9999999999999996,
          "timepoint": "2010-10-01T00:00:00",
          "year": 2010
         },
         {
          "clade_membership": "a5bcb4f",
          "estimated_growth_rate": 1.0000020000040002,
          "frequency": 0.9999979999999993,
          "frequency_final": 0.9999969999999998,
          "frequency_other": 0.9999979999999993,
          "observed_growth_rate": 0.9999989999980006,
          "projected_frequency": 0.9999999999999996,
          "timepoint": "2010-10-01T00:00:00",
          "year": 2010
         },
         {
          "clade_membership": "aab80f6",
          "estimated_growth_rate": 1.0000020000040002,
          "frequency": 0.9999979999999993,
          "frequency_final": 0.9999969999999998,
          "frequency_other": 0.9999979999999993,
          "observed_growth_rate": 0.9999989999980006,
          "projected_frequency": 0.9999999999999996,
          "timepoint": "2010-10-01T00:00:00",
          "year": 2010
         },
         {
          "clade_membership": "b32cea9",
          "estimated_growth_rate": 1.0000020000040002,
          "frequency": 0.9999979999999993,
          "frequency_final": 0,
          "frequency_other": 0.9999979999999993,
          "observed_growth_rate": 0,
          "projected_frequency": 0.9999999999999996,
          "timepoint": "2010-10-01T00:00:00",
          "year": 2010
         },
         {
          "clade_membership": "c0ab28c",
          "estimated_growth_rate": 0.002653579765152135,
          "frequency": 0.16942,
          "frequency_final": 0.04517199999999999,
          "frequency_other": 0.16942,
          "observed_growth_rate": 0.26662731672765905,
          "projected_frequency": 0.00044956948381207464,
          "timepoint": "2010-10-01T00:00:00",
          "year": 2010
         },
         {
          "clade_membership": "d4d7919",
          "estimated_growth_rate": 2.721792869686302,
          "frequency": 0.362357,
          "frequency_final": 0.3658139999999997,
          "frequency_other": 0.362357,
          "observed_growth_rate": 1.0095403152140008,
          "projected_frequency": 0.9862606988809193,
          "timepoint": "2010-10-01T00:00:00",
          "year": 2010
         },
         {
          "clade_membership": "d6906cf",
          "estimated_growth_rate": 1.0000020000040002,
          "frequency": 0.9999979999999993,
          "frequency_final": 0.9999969999999998,
          "frequency_other": 0.9999979999999993,
          "observed_growth_rate": 0.9999989999980006,
          "projected_frequency": 0.9999999999999996,
          "timepoint": "2010-10-01T00:00:00",
          "year": 2010
         },
         {
          "clade_membership": "d7fecad",
          "estimated_growth_rate": 1.0000020000040002,
          "frequency": 0.9999979999999993,
          "frequency_final": 0.9999969999999998,
          "frequency_other": 0.9999979999999993,
          "observed_growth_rate": 0.9999989999980006,
          "projected_frequency": 0.9999999999999996,
          "timepoint": "2010-10-01T00:00:00",
          "year": 2010
         },
         {
          "clade_membership": "e501908",
          "estimated_growth_rate": 1.0000020000040002,
          "frequency": 0.9999979999999993,
          "frequency_final": 0.9999969999999998,
          "frequency_other": 0.9999979999999993,
          "observed_growth_rate": 0.9999989999980006,
          "projected_frequency": 0.9999999999999996,
          "timepoint": "2010-10-01T00:00:00",
          "year": 2010
         },
         {
          "clade_membership": "e56a121",
          "estimated_growth_rate": 2.777200441860212,
          "frequency": 0.355127,
          "frequency_final": 0.3633489999999997,
          "frequency_other": 0.355127,
          "observed_growth_rate": 1.0231522807333706,
          "projected_frequency": 0.9862588613164917,
          "timepoint": "2010-10-01T00:00:00",
          "year": 2010
         },
         {
          "clade_membership": "e64cc68",
          "estimated_growth_rate": 1.0000020000040002,
          "frequency": 0.9999979999999993,
          "frequency_final": 0.9999969999999998,
          "frequency_other": 0.9999979999999993,
          "observed_growth_rate": 0.9999989999980006,
          "projected_frequency": 0.9999999999999996,
          "timepoint": "2010-10-01T00:00:00",
          "year": 2010
         },
         {
          "clade_membership": "ecf49fd",
          "estimated_growth_rate": 1.0000020000040002,
          "frequency": 0.9999979999999993,
          "frequency_final": 0.9999969999999998,
          "frequency_other": 0.9999979999999993,
          "observed_growth_rate": 0.9999989999980006,
          "projected_frequency": 0.9999999999999996,
          "timepoint": "2010-10-01T00:00:00",
          "year": 2010
         },
         {
          "clade_membership": "f3f16af",
          "estimated_growth_rate": 1.0000020000040002,
          "frequency": 0.9999979999999993,
          "frequency_final": 0.9999969999999998,
          "frequency_other": 0.9999979999999993,
          "observed_growth_rate": 0.9999989999980006,
          "projected_frequency": 0.9999999999999996,
          "timepoint": "2010-10-01T00:00:00",
          "year": 2010
         },
         {
          "clade_membership": "ff9301c",
          "estimated_growth_rate": 1.0000020000040002,
          "frequency": 0.9999979999999993,
          "frequency_final": 0.9999969999999998,
          "frequency_other": 0.9999979999999993,
          "observed_growth_rate": 0.9999989999980006,
          "projected_frequency": 0.9999999999999996,
          "timepoint": "2010-10-01T00:00:00",
          "year": 2010
         },
         {
          "clade_membership": "root",
          "estimated_growth_rate": 1.0000020000040002,
          "frequency": 0.9999979999999993,
          "frequency_final": 0.9999969999999998,
          "frequency_other": 0.9999979999999993,
          "observed_growth_rate": 0.9999989999980006,
          "projected_frequency": 0.9999999999999996,
          "timepoint": "2010-10-01T00:00:00",
          "year": 2010
         },
         {
          "clade_membership": "0003b07",
          "estimated_growth_rate": 0.9999970000090003,
          "frequency": 1.0000029999999995,
          "frequency_final": 0.999996,
          "frequency_other": 1.0000029999999998,
          "observed_growth_rate": 0.9999930000210004,
          "projected_frequency": 0.9999999999999998,
          "timepoint": "2011-04-01T00:00:00",
          "year": 2011
         },
         {
          "clade_membership": "026d21f",
          "estimated_growth_rate": 1.6310950501029513,
          "frequency": 0.6117360000000002,
          "frequency_final": 0.141835,
          "frequency_other": 0.6117360000000002,
          "observed_growth_rate": 0.23185655249977105,
          "projected_frequency": 0.9977995615697793,
          "timepoint": "2011-04-01T00:00:00",
          "year": 2011
         },
         {
          "clade_membership": "02e323e",
          "estimated_growth_rate": 0.9999970000090003,
          "frequency": 1.0000029999999995,
          "frequency_final": 0.999996,
          "frequency_other": 1.0000029999999998,
          "observed_growth_rate": 0.9999930000210004,
          "projected_frequency": 0.9999999999999998,
          "timepoint": "2011-04-01T00:00:00",
          "year": 2011
         },
         {
          "clade_membership": "048f8ca",
          "estimated_growth_rate": 0.9999970000090003,
          "frequency": 1.0000029999999995,
          "frequency_final": 0.999996,
          "frequency_other": 1.0000029999999998,
          "observed_growth_rate": 0.9999930000210004,
          "projected_frequency": 0.9999999999999998,
          "timepoint": "2011-04-01T00:00:00",
          "year": 2011
         },
         {
          "clade_membership": "09e68a2",
          "estimated_growth_rate": 0.9999970000090003,
          "frequency": 1.0000029999999995,
          "frequency_final": 0.999996,
          "frequency_other": 1.0000029999999998,
          "observed_growth_rate": 0.9999930000210004,
          "projected_frequency": 0.9999999999999998,
          "timepoint": "2011-04-01T00:00:00",
          "year": 2011
         },
         {
          "clade_membership": "35491c6",
          "estimated_growth_rate": 0.9999970000090003,
          "frequency": 1.0000029999999995,
          "frequency_final": 0.999996,
          "frequency_other": 1.0000029999999998,
          "observed_growth_rate": 0.9999930000210004,
          "projected_frequency": 0.9999999999999998,
          "timepoint": "2011-04-01T00:00:00",
          "year": 2011
         },
         {
          "clade_membership": "3a81d99",
          "estimated_growth_rate": 0.9999970000090003,
          "frequency": 1.0000029999999995,
          "frequency_final": 0.999996,
          "frequency_other": 1.0000029999999998,
          "observed_growth_rate": 0.9999930000210004,
          "projected_frequency": 0.9999999999999998,
          "timepoint": "2011-04-01T00:00:00",
          "year": 2011
         },
         {
          "clade_membership": "3c0baec",
          "estimated_growth_rate": 0.9999970000090003,
          "frequency": 1.0000029999999995,
          "frequency_final": 0.999996,
          "frequency_other": 1.0000029999999998,
          "observed_growth_rate": 0.9999930000210004,
          "projected_frequency": 0.9999999999999998,
          "timepoint": "2011-04-01T00:00:00",
          "year": 2011
         },
         {
          "clade_membership": "41bb3e2",
          "estimated_growth_rate": 0.9999970000090003,
          "frequency": 1.0000029999999995,
          "frequency_final": 0.999996,
          "frequency_other": 1.0000029999999998,
          "observed_growth_rate": 0.9999930000210004,
          "projected_frequency": 0.9999999999999998,
          "timepoint": "2011-04-01T00:00:00",
          "year": 2011
         },
         {
          "clade_membership": "44989e1",
          "estimated_growth_rate": 0.9999970000090003,
          "frequency": 1.0000029999999995,
          "frequency_final": 0.999996,
          "frequency_other": 1.0000029999999998,
          "observed_growth_rate": 0.9999930000210004,
          "projected_frequency": 0.9999999999999998,
          "timepoint": "2011-04-01T00:00:00",
          "year": 2011
         },
         {
          "clade_membership": "4952842",
          "estimated_growth_rate": 0.9999970000090003,
          "frequency": 1.0000029999999995,
          "frequency_final": 0.999996,
          "frequency_other": 1.0000029999999998,
          "observed_growth_rate": 0.9999930000210004,
          "projected_frequency": 0.9999999999999998,
          "timepoint": "2011-04-01T00:00:00",
          "year": 2011
         },
         {
          "clade_membership": "4e35443",
          "estimated_growth_rate": 0.9999970000090003,
          "frequency": 1.0000029999999995,
          "frequency_final": 0,
          "frequency_other": 1.0000029999999998,
          "observed_growth_rate": 0,
          "projected_frequency": 0.9999999999999998,
          "timepoint": "2011-04-01T00:00:00",
          "year": 2011
         },
         {
          "clade_membership": "5d01a6e",
          "estimated_growth_rate": 0.9999970000090003,
          "frequency": 1.0000029999999995,
          "frequency_final": 0.999996,
          "frequency_other": 1.0000029999999998,
          "observed_growth_rate": 0.9999930000210004,
          "projected_frequency": 0.9999999999999998,
          "timepoint": "2011-04-01T00:00:00",
          "year": 2011
         },
         {
          "clade_membership": "6335574",
          "estimated_growth_rate": 0.9999970000090003,
          "frequency": 1.0000029999999995,
          "frequency_final": 0,
          "frequency_other": 1.0000029999999998,
          "observed_growth_rate": 0,
          "projected_frequency": 0.9999999999999998,
          "timepoint": "2011-04-01T00:00:00",
          "year": 2011
         },
         {
          "clade_membership": "6b0ee12",
          "estimated_growth_rate": 0.9999970000090003,
          "frequency": 1.0000029999999995,
          "frequency_final": 0.999996,
          "frequency_other": 1.0000029999999998,
          "observed_growth_rate": 0.9999930000210004,
          "projected_frequency": 0.9999999999999998,
          "timepoint": "2011-04-01T00:00:00",
          "year": 2011
         },
         {
          "clade_membership": "7aa732d",
          "estimated_growth_rate": 0.9999970000090003,
          "frequency": 1.0000029999999995,
          "frequency_final": 0.999996,
          "frequency_other": 1.0000029999999998,
          "observed_growth_rate": 0.9999930000210004,
          "projected_frequency": 0.9999999999999998,
          "timepoint": "2011-04-01T00:00:00",
          "year": 2011
         },
         {
          "clade_membership": "7fba9ff",
          "estimated_growth_rate": 0.004712641210632309,
          "frequency": 0.17632400000000006,
          "frequency_final": 0.7553169999999996,
          "frequency_other": 0.17632400000000006,
          "observed_growth_rate": 4.283687983484945,
          "projected_frequency": 0.0008309517488235316,
          "timepoint": "2011-04-01T00:00:00",
          "year": 2011
         },
         {
          "clade_membership": "8386d16",
          "estimated_growth_rate": 0.9999970000090003,
          "frequency": 1.0000029999999995,
          "frequency_final": 0.999996,
          "frequency_other": 1.0000029999999998,
          "observed_growth_rate": 0.9999930000210004,
          "projected_frequency": 0.9999999999999998,
          "timepoint": "2011-04-01T00:00:00",
          "year": 2011
         },
         {
          "clade_membership": "85356dd",
          "estimated_growth_rate": 0.9999970000090003,
          "frequency": 1.0000029999999995,
          "frequency_final": 0.999996,
          "frequency_other": 1.0000029999999998,
          "observed_growth_rate": 0.9999930000210004,
          "projected_frequency": 0.9999999999999998,
          "timepoint": "2011-04-01T00:00:00",
          "year": 2011
         },
         {
          "clade_membership": "88dab64",
          "estimated_growth_rate": 0.9999970000090003,
          "frequency": 1.0000029999999995,
          "frequency_final": 0.999996,
          "frequency_other": 1.0000029999999998,
          "observed_growth_rate": 0.9999930000210004,
          "projected_frequency": 0.9999999999999998,
          "timepoint": "2011-04-01T00:00:00",
          "year": 2011
         },
         {
          "clade_membership": "91769ce",
          "estimated_growth_rate": 0.9999970000090003,
          "frequency": 1.0000029999999995,
          "frequency_final": 0.999996,
          "frequency_other": 1.0000029999999998,
          "observed_growth_rate": 0.9999930000210004,
          "projected_frequency": 0.9999999999999998,
          "timepoint": "2011-04-01T00:00:00",
          "year": 2011
         },
         {
          "clade_membership": "956f201",
          "estimated_growth_rate": 1.1638096039704393,
          "frequency": 0.8581889999999998,
          "frequency_final": 0.999996,
          "frequency_other": 0.8581889999999998,
          "observed_growth_rate": 1.1652398247938394,
          "projected_frequency": 0.998768600221787,
          "timepoint": "2011-04-01T00:00:00",
          "year": 2011
         },
         {
          "clade_membership": "98c068a",
          "estimated_growth_rate": 0.9999970000090003,
          "frequency": 1.0000029999999995,
          "frequency_final": 0.999996,
          "frequency_other": 1.0000029999999998,
          "observed_growth_rate": 0.9999930000210004,
          "projected_frequency": 0.9999999999999998,
          "timepoint": "2011-04-01T00:00:00",
          "year": 2011
         },
         {
          "clade_membership": "9a3ff5d",
          "estimated_growth_rate": 0.9999970000090003,
          "frequency": 1.0000029999999995,
          "frequency_final": 0.999996,
          "frequency_other": 1.0000029999999998,
          "observed_growth_rate": 0.9999930000210004,
          "projected_frequency": 0.9999999999999998,
          "timepoint": "2011-04-01T00:00:00",
          "year": 2011
         },
         {
          "clade_membership": "9b04f13",
          "estimated_growth_rate": 0.9999970000090003,
          "frequency": 1.0000029999999995,
          "frequency_final": 0.999996,
          "frequency_other": 1.0000029999999998,
          "observed_growth_rate": 0.9999930000210004,
          "projected_frequency": 0.9999999999999998,
          "timepoint": "2011-04-01T00:00:00",
          "year": 2011
         },
         {
          "clade_membership": "a5bcb4f",
          "estimated_growth_rate": 0.9999970000090003,
          "frequency": 1.0000029999999995,
          "frequency_final": 0.999996,
          "frequency_other": 1.0000029999999998,
          "observed_growth_rate": 0.9999930000210004,
          "projected_frequency": 0.9999999999999998,
          "timepoint": "2011-04-01T00:00:00",
          "year": 2011
         },
         {
          "clade_membership": "a8f54a9",
          "estimated_growth_rate": 0.9999970000090003,
          "frequency": 1.0000029999999995,
          "frequency_final": 0.999996,
          "frequency_other": 1.0000029999999998,
          "observed_growth_rate": 0.9999930000210004,
          "projected_frequency": 0.9999999999999998,
          "timepoint": "2011-04-01T00:00:00",
          "year": 2011
         },
         {
          "clade_membership": "aab80f6",
          "estimated_growth_rate": 0.9999970000090003,
          "frequency": 1.0000029999999995,
          "frequency_final": 0.999996,
          "frequency_other": 1.0000029999999998,
          "observed_growth_rate": 0.9999930000210004,
          "projected_frequency": 0.9999999999999998,
          "timepoint": "2011-04-01T00:00:00",
          "year": 2011
         },
         {
          "clade_membership": "b32cea9",
          "estimated_growth_rate": 0.9999970000090003,
          "frequency": 1.0000029999999995,
          "frequency_final": 0,
          "frequency_other": 1.0000029999999998,
          "observed_growth_rate": 0,
          "projected_frequency": 0.9999999999999998,
          "timepoint": "2011-04-01T00:00:00",
          "year": 2011
         },
         {
          "clade_membership": "d4d7919",
          "estimated_growth_rate": 1.6310950501029513,
          "frequency": 0.6117360000000002,
          "frequency_final": 0.141835,
          "frequency_other": 0.6117360000000002,
          "observed_growth_rate": 0.23185655249977105,
          "projected_frequency": 0.9977995615697793,
          "timepoint": "2011-04-01T00:00:00",
          "year": 2011
         },
         {
          "clade_membership": "d6906cf",
          "estimated_growth_rate": 0.9999970000090003,
          "frequency": 1.0000029999999995,
          "frequency_final": 0.999996,
          "frequency_other": 1.0000029999999998,
          "observed_growth_rate": 0.9999930000210004,
          "projected_frequency": 0.9999999999999998,
          "timepoint": "2011-04-01T00:00:00",
          "year": 2011
         },
         {
          "clade_membership": "e2f3876",
          "estimated_growth_rate": 0.9999970000090003,
          "frequency": 1.0000029999999995,
          "frequency_final": 0.999996,
          "frequency_other": 1.0000029999999998,
          "observed_growth_rate": 0.9999930000210004,
          "projected_frequency": 0.9999999999999998,
          "timepoint": "2011-04-01T00:00:00",
          "year": 2011
         },
         {
          "clade_membership": "e501908",
          "estimated_growth_rate": 0.9999970000090003,
          "frequency": 1.0000029999999995,
          "frequency_final": 0.999996,
          "frequency_other": 1.0000029999999998,
          "observed_growth_rate": 0.9999930000210004,
          "projected_frequency": 0.9999999999999998,
          "timepoint": "2011-04-01T00:00:00",
          "year": 2011
         },
         {
          "clade_membership": "e56a121",
          "estimated_growth_rate": 1.6310950501029513,
          "frequency": 0.6117360000000002,
          "frequency_final": 0.141835,
          "frequency_other": 0.6117360000000002,
          "observed_growth_rate": 0.23185655249977105,
          "projected_frequency": 0.9977995615697793,
          "timepoint": "2011-04-01T00:00:00",
          "year": 2011
         },
         {
          "clade_membership": "e64cc68",
          "estimated_growth_rate": 0.9999970000090003,
          "frequency": 1.0000029999999995,
          "frequency_final": 0.999996,
          "frequency_other": 1.0000029999999998,
          "observed_growth_rate": 0.9999930000210004,
          "projected_frequency": 0.9999999999999998,
          "timepoint": "2011-04-01T00:00:00",
          "year": 2011
         },
         {
          "clade_membership": "ecf49fd",
          "estimated_growth_rate": 0.9999970000090003,
          "frequency": 1.0000029999999995,
          "frequency_final": 0.999996,
          "frequency_other": 1.0000029999999998,
          "observed_growth_rate": 0.9999930000210004,
          "projected_frequency": 0.9999999999999998,
          "timepoint": "2011-04-01T00:00:00",
          "year": 2011
         },
         {
          "clade_membership": "f3f16af",
          "estimated_growth_rate": 0.9999970000090003,
          "frequency": 1.0000029999999995,
          "frequency_final": 0.999996,
          "frequency_other": 1.0000029999999998,
          "observed_growth_rate": 0.9999930000210004,
          "projected_frequency": 0.9999999999999998,
          "timepoint": "2011-04-01T00:00:00",
          "year": 2011
         },
         {
          "clade_membership": "fd5608c",
          "estimated_growth_rate": 0.9999970000090003,
          "frequency": 1.0000029999999995,
          "frequency_final": 0.999996,
          "frequency_other": 1.0000029999999998,
          "observed_growth_rate": 0.9999930000210004,
          "projected_frequency": 0.9999999999999998,
          "timepoint": "2011-04-01T00:00:00",
          "year": 2011
         },
         {
          "clade_membership": "root",
          "estimated_growth_rate": 0.9999970000090003,
          "frequency": 1.0000029999999995,
          "frequency_final": 0.999996,
          "frequency_other": 1.0000029999999998,
          "observed_growth_rate": 0.9999930000210004,
          "projected_frequency": 0.9999999999999998,
          "timepoint": "2011-04-01T00:00:00",
          "year": 2011
         },
         {
          "clade_membership": "0003b07",
          "estimated_growth_rate": 1.0000030000090006,
          "frequency": 0.9999969999999998,
          "frequency_final": 0,
          "frequency_other": 0.9999969999999998,
          "observed_growth_rate": 0,
          "projected_frequency": 1.0000000000000002,
          "timepoint": "2011-10-01T00:00:00",
          "year": 2011
         },
         {
          "clade_membership": "026d21f",
          "estimated_growth_rate": 0.0003074991666788646,
          "frequency": 0.3658139999999997,
          "frequency_final": 0.206501,
          "frequency_other": 0.3658139999999997,
          "observed_growth_rate": 0.5644972581694527,
          "projected_frequency": 0.00011248750015946207,
          "timepoint": "2011-10-01T00:00:00",
          "year": 2011
         },
         {
          "clade_membership": "02e323e",
          "estimated_growth_rate": 1.0000030000090006,
          "frequency": 0.9999969999999998,
          "frequency_final": 0.9999919999999995,
          "frequency_other": 0.9999969999999998,
          "observed_growth_rate": 0.9999949999849997,
          "projected_frequency": 1.0000000000000002,
          "timepoint": "2011-10-01T00:00:00",
          "year": 2011
         },
         {
          "clade_membership": "048f8ca",
          "estimated_growth_rate": 1.0000030000090006,
          "frequency": 0.9999969999999998,
          "frequency_final": 0.9999919999999995,
          "frequency_other": 0.9999969999999998,
          "observed_growth_rate": 0.9999949999849997,
          "projected_frequency": 1.0000000000000002,
          "timepoint": "2011-10-01T00:00:00",
          "year": 2011
         },
         {
          "clade_membership": "09e68a2",
          "estimated_growth_rate": 1.0000030000090006,
          "frequency": 0.9999969999999998,
          "frequency_final": 0.9999919999999995,
          "frequency_other": 0.9999969999999998,
          "observed_growth_rate": 0.9999949999849997,
          "projected_frequency": 1.0000000000000002,
          "timepoint": "2011-10-01T00:00:00",
          "year": 2011
         },
         {
          "clade_membership": "35491c6",
          "estimated_growth_rate": 1.0000030000090006,
          "frequency": 0.9999969999999998,
          "frequency_final": 0.9999919999999995,
          "frequency_other": 0.9999969999999998,
          "observed_growth_rate": 0.9999949999849997,
          "projected_frequency": 1.0000000000000002,
          "timepoint": "2011-10-01T00:00:00",
          "year": 2011
         },
         {
          "clade_membership": "38da78c",
          "estimated_growth_rate": 0.0005036547473432709,
          "frequency": 0.20945599999999992,
          "frequency_final": 0.47017100000000006,
          "frequency_other": 0.20945599999999992,
          "observed_growth_rate": 2.244724428997022,
          "projected_frequency": 0.0001054935087595321,
          "timepoint": "2011-10-01T00:00:00",
          "year": 2011
         },
         {
          "clade_membership": "3a81d99",
          "estimated_growth_rate": 1.0000030000090006,
          "frequency": 0.9999969999999998,
          "frequency_final": 0.9999919999999995,
          "frequency_other": 0.9999969999999998,
          "observed_growth_rate": 0.9999949999849997,
          "projected_frequency": 1.0000000000000002,
          "timepoint": "2011-10-01T00:00:00",
          "year": 2011
         },
         {
          "clade_membership": "3c0baec",
          "estimated_growth_rate": 1.0000030000090006,
          "frequency": 0.9999969999999998,
          "frequency_final": 0.9999919999999995,
          "frequency_other": 0.9999969999999998,
          "observed_growth_rate": 0.9999949999849997,
          "projected_frequency": 1.0000000000000002,
          "timepoint": "2011-10-01T00:00:00",
          "year": 2011
         },
         {
          "clade_membership": "412c00a",
          "estimated_growth_rate": 1.0000030000090006,
          "frequency": 0.9999969999999998,
          "frequency_final": 0.9999919999999995,
          "frequency_other": 0.9999969999999998,
          "observed_growth_rate": 0.9999949999849997,
          "projected_frequency": 1.0000000000000002,
          "timepoint": "2011-10-01T00:00:00",
          "year": 2011
         },
         {
          "clade_membership": "41bb3e2",
          "estimated_growth_rate": 1.0000030000090006,
          "frequency": 0.9999969999999998,
          "frequency_final": 0.9976269999999996,
          "frequency_other": 0.9999969999999998,
          "observed_growth_rate": 0.9976299928899784,
          "projected_frequency": 1.0000000000000002,
          "timepoint": "2011-10-01T00:00:00",
          "year": 2011
         },
         {
          "clade_membership": "44989e1",
          "estimated_growth_rate": 1.0000030000090006,
          "frequency": 0.9999969999999998,
          "frequency_final": 0.9999919999999995,
          "frequency_other": 0.9999969999999998,
          "observed_growth_rate": 0.9999949999849997,
          "projected_frequency": 1.0000000000000002,
          "timepoint": "2011-10-01T00:00:00",
          "year": 2011
         },
         {
          "clade_membership": "4952842",
          "estimated_growth_rate": 1.0000030000090006,
          "frequency": 0.9999969999999998,
          "frequency_final": 0.9999919999999995,
          "frequency_other": 0.9999969999999998,
          "observed_growth_rate": 0.9999949999849997,
          "projected_frequency": 1.0000000000000002,
          "timepoint": "2011-10-01T00:00:00",
          "year": 2011
         },
         {
          "clade_membership": "4e35443",
          "estimated_growth_rate": 1.0000030000090006,
          "frequency": 0.9999969999999998,
          "frequency_final": 0,
          "frequency_other": 0.9999969999999998,
          "observed_growth_rate": 0,
          "projected_frequency": 1.0000000000000002,
          "timepoint": "2011-10-01T00:00:00",
          "year": 2011
         },
         {
          "clade_membership": "4ff1302",
          "estimated_growth_rate": 1.0000030000090006,
          "frequency": 0.9999969999999998,
          "frequency_final": 0.9999919999999995,
          "frequency_other": 0.9999969999999998,
          "observed_growth_rate": 0.9999949999849997,
          "projected_frequency": 1.0000000000000002,
          "timepoint": "2011-10-01T00:00:00",
          "year": 2011
         },
         {
          "clade_membership": "5c625ac",
          "estimated_growth_rate": 1.0000030000090006,
          "frequency": 0.9999969999999998,
          "frequency_final": 0,
          "frequency_other": 0.9999969999999998,
          "observed_growth_rate": 0,
          "projected_frequency": 1.0000000000000002,
          "timepoint": "2011-10-01T00:00:00",
          "year": 2011
         },
         {
          "clade_membership": "7aa732d",
          "estimated_growth_rate": 1.0000030000090006,
          "frequency": 0.9999969999999998,
          "frequency_final": 0.9999919999999995,
          "frequency_other": 0.9999969999999998,
          "observed_growth_rate": 0.9999949999849997,
          "projected_frequency": 1.0000000000000002,
          "timepoint": "2011-10-01T00:00:00",
          "year": 2011
         },
         {
          "clade_membership": "7fba9ff",
          "estimated_growth_rate": 1.9965829682686937,
          "frequency": 0.500796,
          "frequency_final": 0.6934619999999995,
          "frequency_other": 0.500796,
          "observed_growth_rate": 1.3847195265137888,
          "projected_frequency": 0.9998807641770888,
          "timepoint": "2011-10-01T00:00:00",
          "year": 2011
         },
         {
          "clade_membership": "85356dd",
          "estimated_growth_rate": 1.0000030000090006,
          "frequency": 0.9999969999999998,
          "frequency_final": 0.9999919999999995,
          "frequency_other": 0.9999969999999998,
          "observed_growth_rate": 0.9999949999849997,
          "projected_frequency": 1.0000000000000002,
          "timepoint": "2011-10-01T00:00:00",
          "year": 2011
         },
         {
          "clade_membership": "88299f7",
          "estimated_growth_rate": 2.09904380258872,
          "frequency": 0.47634999999999994,
          "frequency_final": 0.6934619999999995,
          "frequency_other": 0.47634999999999994,
          "observed_growth_rate": 1.4557825128581916,
          "projected_frequency": 0.9998795153631367,
          "timepoint": "2011-10-01T00:00:00",
          "year": 2011
         },
         {
          "clade_membership": "88dab64",
          "estimated_growth_rate": 1.0000030000090006,
          "frequency": 0.9999969999999998,
          "frequency_final": 0.9999919999999995,
          "frequency_other": 0.9999969999999998,
          "observed_growth_rate": 0.9999949999849997,
          "projected_frequency": 1.0000000000000002,
          "timepoint": "2011-10-01T00:00:00",
          "year": 2011
         },
         {
          "clade_membership": "91769ce",
          "estimated_growth_rate": 1.0000030000090006,
          "frequency": 0.9999969999999998,
          "frequency_final": 0,
          "frequency_other": 0.9999969999999998,
          "observed_growth_rate": 0,
          "projected_frequency": 1.0000000000000002,
          "timepoint": "2011-10-01T00:00:00",
          "year": 2011
         },
         {
          "clade_membership": "956f201",
          "estimated_growth_rate": 1.047310380374386,
          "frequency": 0.9548249999999998,
          "frequency_final": 0.9926329999999997,
          "frequency_other": 0.9548249999999998,
          "observed_growth_rate": 1.0395967847511323,
          "projected_frequency": 0.9999981339409728,
          "timepoint": "2011-10-01T00:00:00",
          "year": 2011
         },
         {
          "clade_membership": "98c068a",
          "estimated_growth_rate": 1.0000030000090006,
          "frequency": 0.9999969999999998,
          "frequency_final": 0.9999919999999995,
          "frequency_other": 0.9999969999999998,
          "observed_growth_rate": 0.9999949999849997,
          "projected_frequency": 1.0000000000000002,
          "timepoint": "2011-10-01T00:00:00",
          "year": 2011
         },
         {
          "clade_membership": "9a3ff5d",
          "estimated_growth_rate": 1.0000030000090006,
          "frequency": 0.9999969999999998,
          "frequency_final": 0.9999919999999995,
          "frequency_other": 0.9999969999999998,
          "observed_growth_rate": 0.9999949999849997,
          "projected_frequency": 1.0000000000000002,
          "timepoint": "2011-10-01T00:00:00",
          "year": 2011
         },
         {
          "clade_membership": "9b04f13",
          "estimated_growth_rate": 1.0000030000090006,
          "frequency": 0.9999969999999998,
          "frequency_final": 0.9999919999999995,
          "frequency_other": 0.9999969999999998,
          "observed_growth_rate": 0.9999949999849997,
          "projected_frequency": 1.0000000000000002,
          "timepoint": "2011-10-01T00:00:00",
          "year": 2011
         },
         {
          "clade_membership": "a5bcb4f",
          "estimated_growth_rate": 1.0000030000090006,
          "frequency": 0.9999969999999998,
          "frequency_final": 0.9999919999999995,
          "frequency_other": 0.9999969999999998,
          "observed_growth_rate": 0.9999949999849997,
          "projected_frequency": 1.0000000000000002,
          "timepoint": "2011-10-01T00:00:00",
          "year": 2011
         },
         {
          "clade_membership": "aab80f6",
          "estimated_growth_rate": 1.0000030000090006,
          "frequency": 0.9999969999999998,
          "frequency_final": 0.9999919999999995,
          "frequency_other": 0.9999969999999998,
          "observed_growth_rate": 0.9999949999849997,
          "projected_frequency": 1.0000000000000002,
          "timepoint": "2011-10-01T00:00:00",
          "year": 2011
         },
         {
          "clade_membership": "c139e7c",
          "estimated_growth_rate": 3.746183730379496,
          "frequency": 0.26687799999999995,
          "frequency_final": 0.215038,
          "frequency_other": 0.26687799999999995,
          "observed_growth_rate": 0.8057539400025482,
          "projected_frequency": 0.9997740215962189,
          "timepoint": "2011-10-01T00:00:00",
          "year": 2011
         },
         {
          "clade_membership": "d4d7919",
          "estimated_growth_rate": 0.0003074991666788646,
          "frequency": 0.3658139999999997,
          "frequency_final": 0.206501,
          "frequency_other": 0.3658139999999997,
          "observed_growth_rate": 0.5644972581694527,
          "projected_frequency": 0.00011248750015946207,
          "timepoint": "2011-10-01T00:00:00",
          "year": 2011
         },
         {
          "clade_membership": "d6906cf",
          "estimated_growth_rate": 1.0000030000090006,
          "frequency": 0.9999969999999998,
          "frequency_final": 0.9999919999999995,
          "frequency_other": 0.9999969999999998,
          "observed_growth_rate": 0.9999949999849997,
          "projected_frequency": 1.0000000000000002,
          "timepoint": "2011-10-01T00:00:00",
          "year": 2011
         },
         {
          "clade_membership": "d7fecad",
          "estimated_growth_rate": 1.0000030000090006,
          "frequency": 0.9999969999999998,
          "frequency_final": 0.9999919999999995,
          "frequency_other": 0.9999969999999998,
          "observed_growth_rate": 0.9999949999849997,
          "projected_frequency": 1.0000000000000002,
          "timepoint": "2011-10-01T00:00:00",
          "year": 2011
         },
         {
          "clade_membership": "e501908",
          "estimated_growth_rate": 1.0000030000090006,
          "frequency": 0.9999969999999998,
          "frequency_final": 0.9999919999999995,
          "frequency_other": 0.9999969999999998,
          "observed_growth_rate": 0.9999949999849997,
          "projected_frequency": 1.0000000000000002,
          "timepoint": "2011-10-01T00:00:00",
          "year": 2011
         },
         {
          "clade_membership": "e56a121",
          "estimated_growth_rate": 0.00030948034789478833,
          "frequency": 0.3633489999999997,
          "frequency_final": 0.206501,
          "frequency_other": 0.3633489999999997,
          "observed_growth_rate": 0.5683268703092623,
          "projected_frequency": 0.00011244937492722336,
          "timepoint": "2011-10-01T00:00:00",
          "year": 2011
         },
         {
          "clade_membership": "e64cc68",
          "estimated_growth_rate": 1.0000030000090006,
          "frequency": 0.9999969999999998,
          "frequency_final": 0.9999919999999995,
          "frequency_other": 0.9999969999999998,
          "observed_growth_rate": 0.9999949999849997,
          "projected_frequency": 1.0000000000000002,
          "timepoint": "2011-10-01T00:00:00",
          "year": 2011
         },
         {
          "clade_membership": "ecf49fd",
          "estimated_growth_rate": 1.0000030000090006,
          "frequency": 0.9999969999999998,
          "frequency_final": 0.9999919999999995,
          "frequency_other": 0.9999969999999998,
          "observed_growth_rate": 0.9999949999849997,
          "projected_frequency": 1.0000000000000002,
          "timepoint": "2011-10-01T00:00:00",
          "year": 2011
         },
         {
          "clade_membership": "f321e53",
          "estimated_growth_rate": 1.047310380374386,
          "frequency": 0.9548249999999998,
          "frequency_final": 0.9926329999999997,
          "frequency_other": 0.9548249999999998,
          "observed_growth_rate": 1.0395967847511323,
          "projected_frequency": 0.9999981339409728,
          "timepoint": "2011-10-01T00:00:00",
          "year": 2011
         },
         {
          "clade_membership": "f3f16af",
          "estimated_growth_rate": 1.0000030000090006,
          "frequency": 0.9999969999999998,
          "frequency_final": 0.9999919999999995,
          "frequency_other": 0.9999969999999998,
          "observed_growth_rate": 0.9999949999849997,
          "projected_frequency": 1.0000000000000002,
          "timepoint": "2011-10-01T00:00:00",
          "year": 2011
         },
         {
          "clade_membership": "ff9301c",
          "estimated_growth_rate": 1.0000030000090006,
          "frequency": 0.9999969999999998,
          "frequency_final": 0.9999919999999995,
          "frequency_other": 0.9999969999999998,
          "observed_growth_rate": 0.9999949999849997,
          "projected_frequency": 1.0000000000000002,
          "timepoint": "2011-10-01T00:00:00",
          "year": 2011
         },
         {
          "clade_membership": "root",
          "estimated_growth_rate": 1.0000030000090006,
          "frequency": 0.9999969999999998,
          "frequency_final": 0.9999919999999995,
          "frequency_other": 0.9999969999999998,
          "observed_growth_rate": 0.9999949999849997,
          "projected_frequency": 1.0000000000000002,
          "timepoint": "2011-10-01T00:00:00",
          "year": 2011
         },
         {
          "clade_membership": "0003b07",
          "estimated_growth_rate": 1.0000040000160002,
          "frequency": 0.999996,
          "frequency_final": 0.9999990000000001,
          "frequency_other": 0.999996,
          "observed_growth_rate": 1.0000030000120002,
          "projected_frequency": 1.0000000000000002,
          "timepoint": "2012-04-01T00:00:00",
          "year": 2012
         },
         {
          "clade_membership": "02e323e",
          "estimated_growth_rate": 1.0000040000160002,
          "frequency": 0.999996,
          "frequency_final": 0.9999990000000001,
          "frequency_other": 0.999996,
          "observed_growth_rate": 1.0000030000120002,
          "projected_frequency": 1.0000000000000002,
          "timepoint": "2012-04-01T00:00:00",
          "year": 2012
         },
         {
          "clade_membership": "048f8ca",
          "estimated_growth_rate": 1.0000040000160002,
          "frequency": 0.999996,
          "frequency_final": 0.9999990000000001,
          "frequency_other": 0.999996,
          "observed_growth_rate": 1.0000030000120002,
          "projected_frequency": 1.0000000000000002,
          "timepoint": "2012-04-01T00:00:00",
          "year": 2012
         },
         {
          "clade_membership": "05daa66",
          "estimated_growth_rate": 1.3221917872613063,
          "frequency": 0.7553169999999996,
          "frequency_final": 0,
          "frequency_other": 0.7553169999999996,
          "observed_growth_rate": 0,
          "projected_frequency": 0.9986739341788475,
          "timepoint": "2012-04-01T00:00:00",
          "year": 2012
         },
         {
          "clade_membership": "09e68a2",
          "estimated_growth_rate": 1.0000040000160002,
          "frequency": 0.999996,
          "frequency_final": 0.9999990000000001,
          "frequency_other": 0.999996,
          "observed_growth_rate": 1.0000030000120002,
          "projected_frequency": 1.0000000000000002,
          "timepoint": "2012-04-01T00:00:00",
          "year": 2012
         },
         {
          "clade_membership": "35491c6",
          "estimated_growth_rate": 1.0000040000160002,
          "frequency": 0.999996,
          "frequency_final": 0.9999990000000001,
          "frequency_other": 0.999996,
          "observed_growth_rate": 1.0000030000120002,
          "projected_frequency": 1.0000000000000002,
          "timepoint": "2012-04-01T00:00:00",
          "year": 2012
         },
         {
          "clade_membership": "38da78c",
          "estimated_growth_rate": 0.19674094194709965,
          "frequency": 0.2834089999999999,
          "frequency_final": 0.8725180000000001,
          "frequency_other": 0.2834089999999999,
          "observed_growth_rate": 3.0786531126393317,
          "projected_frequency": 0.05575815361628555,
          "timepoint": "2012-04-01T00:00:00",
          "year": 2012
         },
         {
          "clade_membership": "3a81d99",
          "estimated_growth_rate": 1.0000040000160002,
          "frequency": 0.999996,
          "frequency_final": 0.9999990000000001,
          "frequency_other": 0.999996,
          "observed_growth_rate": 1.0000030000120002,
          "projected_frequency": 1.0000000000000002,
          "timepoint": "2012-04-01T00:00:00",
          "year": 2012
         },
         {
          "clade_membership": "3c0baec",
          "estimated_growth_rate": 1.0000040000160002,
          "frequency": 0.999996,
          "frequency_final": 0.9999990000000001,
          "frequency_other": 0.999996,
          "observed_growth_rate": 1.0000030000120002,
          "projected_frequency": 1.0000000000000002,
          "timepoint": "2012-04-01T00:00:00",
          "year": 2012
         },
         {
          "clade_membership": "412c00a",
          "estimated_growth_rate": 1.0000040000160002,
          "frequency": 0.999996,
          "frequency_final": 0.9999990000000001,
          "frequency_other": 0.999996,
          "observed_growth_rate": 1.0000030000120002,
          "projected_frequency": 1.0000000000000002,
          "timepoint": "2012-04-01T00:00:00",
          "year": 2012
         },
         {
          "clade_membership": "41bb3e2",
          "estimated_growth_rate": 1.0000040000160002,
          "frequency": 0.999996,
          "frequency_final": 0.9999990000000001,
          "frequency_other": 0.999996,
          "observed_growth_rate": 1.0000030000120002,
          "projected_frequency": 1.0000000000000002,
          "timepoint": "2012-04-01T00:00:00",
          "year": 2012
         },
         {
          "clade_membership": "44989e1",
          "estimated_growth_rate": 1.0000040000160002,
          "frequency": 0.999996,
          "frequency_final": 0.9999990000000001,
          "frequency_other": 0.999996,
          "observed_growth_rate": 1.0000030000120002,
          "projected_frequency": 1.0000000000000002,
          "timepoint": "2012-04-01T00:00:00",
          "year": 2012
         },
         {
          "clade_membership": "4952842",
          "estimated_growth_rate": 1.0000040000160002,
          "frequency": 0.999996,
          "frequency_final": 0.9999990000000001,
          "frequency_other": 0.999996,
          "observed_growth_rate": 1.0000030000120002,
          "projected_frequency": 1.0000000000000002,
          "timepoint": "2012-04-01T00:00:00",
          "year": 2012
         },
         {
          "clade_membership": "4ff1302",
          "estimated_growth_rate": 1.0000040000160002,
          "frequency": 0.999996,
          "frequency_final": 0.9999990000000001,
          "frequency_other": 0.999996,
          "observed_growth_rate": 1.0000030000120002,
          "projected_frequency": 1.0000000000000002,
          "timepoint": "2012-04-01T00:00:00",
          "year": 2012
         },
         {
          "clade_membership": "5d01a6e",
          "estimated_growth_rate": 1.0000040000160002,
          "frequency": 0.999996,
          "frequency_final": 0.9999990000000001,
          "frequency_other": 0.999996,
          "observed_growth_rate": 1.0000030000120002,
          "projected_frequency": 1.0000000000000002,
          "timepoint": "2012-04-01T00:00:00",
          "year": 2012
         },
         {
          "clade_membership": "6b0ee12",
          "estimated_growth_rate": 1.0000040000160002,
          "frequency": 0.999996,
          "frequency_final": 0.9999990000000001,
          "frequency_other": 0.999996,
          "observed_growth_rate": 1.0000030000120002,
          "projected_frequency": 1.0000000000000002,
          "timepoint": "2012-04-01T00:00:00",
          "year": 2012
         },
         {
          "clade_membership": "7aa732d",
          "estimated_growth_rate": 1.0000040000160002,
          "frequency": 0.999996,
          "frequency_final": 0.9999990000000001,
          "frequency_other": 0.999996,
          "observed_growth_rate": 1.0000030000120002,
          "projected_frequency": 1.0000000000000002,
          "timepoint": "2012-04-01T00:00:00",
          "year": 2012
         },
         {
          "clade_membership": "7fba9ff",
          "estimated_growth_rate": 1.3221917872613063,
          "frequency": 0.7553169999999996,
          "frequency_final": 0.935092,
          "frequency_other": 0.7553169999999996,
          "observed_growth_rate": 1.2380126489937344,
          "projected_frequency": 0.9986739341788475,
          "timepoint": "2012-04-01T00:00:00",
          "year": 2012
         },
         {
          "clade_membership": "8386d16",
          "estimated_growth_rate": 1.0000040000160002,
          "frequency": 0.999996,
          "frequency_final": 0.9999990000000001,
          "frequency_other": 0.999996,
          "observed_growth_rate": 1.0000030000120002,
          "projected_frequency": 1.0000000000000002,
          "timepoint": "2012-04-01T00:00:00",
          "year": 2012
         },
         {
          "clade_membership": "85356dd",
          "estimated_growth_rate": 1.0000040000160002,
          "frequency": 0.999996,
          "frequency_final": 0.9999990000000001,
          "frequency_other": 0.999996,
          "observed_growth_rate": 1.0000030000120002,
          "projected_frequency": 1.0000000000000002,
          "timepoint": "2012-04-01T00:00:00",
          "year": 2012
         },
         {
          "clade_membership": "88299f7",
          "estimated_growth_rate": 1.3221917872613063,
          "frequency": 0.7553169999999996,
          "frequency_final": 0,
          "frequency_other": 0.7553169999999996,
          "observed_growth_rate": 0,
          "projected_frequency": 0.9986739341788475,
          "timepoint": "2012-04-01T00:00:00",
          "year": 2012
         },
         {
          "clade_membership": "88dab64",
          "estimated_growth_rate": 1.0000040000160002,
          "frequency": 0.999996,
          "frequency_final": 0.9999990000000001,
          "frequency_other": 0.999996,
          "observed_growth_rate": 1.0000030000120002,
          "projected_frequency": 1.0000000000000002,
          "timepoint": "2012-04-01T00:00:00",
          "year": 2012
         },
         {
          "clade_membership": "8aaed0b",
          "estimated_growth_rate": 0.1732205925464577,
          "frequency": 0.32305199999999995,
          "frequency_final": 0.8725180000000001,
          "frequency_other": 0.32305199999999995,
          "observed_growth_rate": 2.7008593043844344,
          "projected_frequency": 0.05595925886331824,
          "timepoint": "2012-04-01T00:00:00",
          "year": 2012
         },
         {
          "clade_membership": "91769ce",
          "estimated_growth_rate": 1.0000040000160002,
          "frequency": 0.999996,
          "frequency_final": 0.9999990000000001,
          "frequency_other": 0.999996,
          "observed_growth_rate": 1.0000030000120002,
          "projected_frequency": 1.0000000000000002,
          "timepoint": "2012-04-01T00:00:00",
          "year": 2012
         },
         {
          "clade_membership": "956f201",
          "estimated_growth_rate": 1.0000040000160002,
          "frequency": 0.999996,
          "frequency_final": 0.9999990000000001,
          "frequency_other": 0.999996,
          "observed_growth_rate": 1.0000030000120002,
          "projected_frequency": 1.0000000000000002,
          "timepoint": "2012-04-01T00:00:00",
          "year": 2012
         },
         {
          "clade_membership": "98c068a",
          "estimated_growth_rate": 1.0000040000160002,
          "frequency": 0.999996,
          "frequency_final": 0.9999990000000001,
          "frequency_other": 0.999996,
          "observed_growth_rate": 1.0000030000120002,
          "projected_frequency": 1.0000000000000002,
          "timepoint": "2012-04-01T00:00:00",
          "year": 2012
         },
         {
          "clade_membership": "9a3ff5d",
          "estimated_growth_rate": 1.0000040000160002,
          "frequency": 0.999996,
          "frequency_final": 0.9999990000000001,
          "frequency_other": 0.999996,
          "observed_growth_rate": 1.0000030000120002,
          "projected_frequency": 1.0000000000000002,
          "timepoint": "2012-04-01T00:00:00",
          "year": 2012
         },
         {
          "clade_membership": "9b04f13",
          "estimated_growth_rate": 1.0000040000160002,
          "frequency": 0.999996,
          "frequency_final": 0.9999990000000001,
          "frequency_other": 0.999996,
          "observed_growth_rate": 1.0000030000120002,
          "projected_frequency": 1.0000000000000002,
          "timepoint": "2012-04-01T00:00:00",
          "year": 2012
         },
         {
          "clade_membership": "a5bcb4f",
          "estimated_growth_rate": 1.0000040000160002,
          "frequency": 0.999996,
          "frequency_final": 0.9999990000000001,
          "frequency_other": 0.999996,
          "observed_growth_rate": 1.0000030000120002,
          "projected_frequency": 1.0000000000000002,
          "timepoint": "2012-04-01T00:00:00",
          "year": 2012
         },
         {
          "clade_membership": "a8f54a9",
          "estimated_growth_rate": 1.0000040000160002,
          "frequency": 0.999996,
          "frequency_final": 0.9999990000000001,
          "frequency_other": 0.999996,
          "observed_growth_rate": 1.0000030000120002,
          "projected_frequency": 1.0000000000000002,
          "timepoint": "2012-04-01T00:00:00",
          "year": 2012
         },
         {
          "clade_membership": "aab80f6",
          "estimated_growth_rate": 1.0000040000160002,
          "frequency": 0.999996,
          "frequency_final": 0.9999990000000001,
          "frequency_other": 0.999996,
          "observed_growth_rate": 1.0000030000120002,
          "projected_frequency": 1.0000000000000002,
          "timepoint": "2012-04-01T00:00:00",
          "year": 2012
         },
         {
          "clade_membership": "c139e7c",
          "estimated_growth_rate": 2.2131599518031866,
          "frequency": 0.42594899999999997,
          "frequency_final": 0.9156140000000001,
          "frequency_other": 0.42594899999999997,
          "observed_growth_rate": 2.1495859832984707,
          "projected_frequency": 0.9426932683106155,
          "timepoint": "2012-04-01T00:00:00",
          "year": 2012
         },
         {
          "clade_membership": "d6906cf",
          "estimated_growth_rate": 1.0000040000160002,
          "frequency": 0.999996,
          "frequency_final": 0.9999990000000001,
          "frequency_other": 0.999996,
          "observed_growth_rate": 1.0000030000120002,
          "projected_frequency": 1.0000000000000002,
          "timepoint": "2012-04-01T00:00:00",
          "year": 2012
         },
         {
          "clade_membership": "e2f3876",
          "estimated_growth_rate": 1.0000040000160002,
          "frequency": 0.999996,
          "frequency_final": 0.9999990000000001,
          "frequency_other": 0.999996,
          "observed_growth_rate": 1.0000030000120002,
          "projected_frequency": 1.0000000000000002,
          "timepoint": "2012-04-01T00:00:00",
          "year": 2012
         },
         {
          "clade_membership": "e501908",
          "estimated_growth_rate": 1.0000040000160002,
          "frequency": 0.999996,
          "frequency_final": 0.9999990000000001,
          "frequency_other": 0.999996,
          "observed_growth_rate": 1.0000030000120002,
          "projected_frequency": 1.0000000000000002,
          "timepoint": "2012-04-01T00:00:00",
          "year": 2012
         },
         {
          "clade_membership": "e64cc68",
          "estimated_growth_rate": 1.0000040000160002,
          "frequency": 0.999996,
          "frequency_final": 0.9999990000000001,
          "frequency_other": 0.999996,
          "observed_growth_rate": 1.0000030000120002,
          "projected_frequency": 1.0000000000000002,
          "timepoint": "2012-04-01T00:00:00",
          "year": 2012
         },
         {
          "clade_membership": "ecf49fd",
          "estimated_growth_rate": 1.0000040000160002,
          "frequency": 0.999996,
          "frequency_final": 0.9999990000000001,
          "frequency_other": 0.999996,
          "observed_growth_rate": 1.0000030000120002,
          "projected_frequency": 1.0000000000000002,
          "timepoint": "2012-04-01T00:00:00",
          "year": 2012
         },
         {
          "clade_membership": "f2ec31a",
          "estimated_growth_rate": 0.2004984215044809,
          "frequency": 0.27798599999999996,
          "frequency_final": 0.8460760000000003,
          "frequency_other": 0.27798599999999996,
          "observed_growth_rate": 3.0435921233443426,
          "projected_frequency": 0.05573575420034462,
          "timepoint": "2012-04-01T00:00:00",
          "year": 2012
         },
         {
          "clade_membership": "f3f16af",
          "estimated_growth_rate": 1.0000040000160002,
          "frequency": 0.999996,
          "frequency_final": 0.9999990000000001,
          "frequency_other": 0.999996,
          "observed_growth_rate": 1.0000030000120002,
          "projected_frequency": 1.0000000000000002,
          "timepoint": "2012-04-01T00:00:00",
          "year": 2012
         },
         {
          "clade_membership": "fd5608c",
          "estimated_growth_rate": 1.0000040000160002,
          "frequency": 0.999996,
          "frequency_final": 0.9999990000000001,
          "frequency_other": 0.999996,
          "observed_growth_rate": 1.0000030000120002,
          "projected_frequency": 1.0000000000000002,
          "timepoint": "2012-04-01T00:00:00",
          "year": 2012
         },
         {
          "clade_membership": "root",
          "estimated_growth_rate": 1.0000040000160002,
          "frequency": 0.999996,
          "frequency_final": 0.9999990000000001,
          "frequency_other": 0.999996,
          "observed_growth_rate": 1.0000030000120002,
          "projected_frequency": 1.0000000000000002,
          "timepoint": "2012-04-01T00:00:00",
          "year": 2012
         },
         {
          "clade_membership": "026d21f",
          "estimated_growth_rate": 0.010998869565805761,
          "frequency": 0.206501,
          "frequency_final": 0.014506000000000002,
          "frequency_other": 0.206501,
          "observed_growth_rate": 0.07024663318821701,
          "projected_frequency": 0.0022712775642084555,
          "timepoint": "2012-10-01T00:00:00",
          "year": 2012
         },
         {
          "clade_membership": "02e323e",
          "estimated_growth_rate": 1.0000080000640008,
          "frequency": 0.9999919999999995,
          "frequency_final": 0.9999989999999993,
          "frequency_other": 0.9999919999999995,
          "observed_growth_rate": 1.0000070000560002,
          "projected_frequency": 0.9999999999999998,
          "timepoint": "2012-10-01T00:00:00",
          "year": 2012
         },
         {
          "clade_membership": "048f8ca",
          "estimated_growth_rate": 1.0000080000640008,
          "frequency": 0.9999919999999995,
          "frequency_final": 0.9999989999999993,
          "frequency_other": 0.9999919999999995,
          "observed_growth_rate": 1.0000070000560002,
          "projected_frequency": 0.9999999999999998,
          "timepoint": "2012-10-01T00:00:00",
          "year": 2012
         },
         {
          "clade_membership": "05daa66",
          "estimated_growth_rate": 1.4382379230239188,
          "frequency": 0.6934619999999995,
          "frequency_final": 0.9805869999999993,
          "frequency_other": 0.6934619999999995,
          "observed_growth_rate": 1.414045758815912,
          "projected_frequency": 0.9973633465760121,
          "timepoint": "2012-10-01T00:00:00",
          "year": 2012
         },
         {
          "clade_membership": "09e68a2",
          "estimated_growth_rate": 1.0000080000640008,
          "frequency": 0.9999919999999995,
          "frequency_final": 0.9999989999999993,
          "frequency_other": 0.9999919999999995,
          "observed_growth_rate": 1.0000070000560002,
          "projected_frequency": 0.9999999999999998,
          "timepoint": "2012-10-01T00:00:00",
          "year": 2012
         },
         {
          "clade_membership": "35491c6",
          "estimated_growth_rate": 1.0000080000640008,
          "frequency": 0.9999919999999995,
          "frequency_final": 0.9999989999999993,
          "frequency_other": 0.9999919999999995,
          "observed_growth_rate": 1.0000070000560002,
          "projected_frequency": 0.9999999999999998,
          "timepoint": "2012-10-01T00:00:00",
          "year": 2012
         },
         {
          "clade_membership": "38da78c",
          "estimated_growth_rate": 2.11091683002026,
          "frequency": 0.47017100000000006,
          "frequency_final": 0.9592939999999993,
          "frequency_other": 0.47017100000000006,
          "observed_growth_rate": 2.0403087387354795,
          "projected_frequency": 0.9924918768874558,
          "timepoint": "2012-10-01T00:00:00",
          "year": 2012
         },
         {
          "clade_membership": "3a81d99",
          "estimated_growth_rate": 1.0000080000640008,
          "frequency": 0.9999919999999995,
          "frequency_final": 0.9999989999999993,
          "frequency_other": 0.9999919999999995,
          "observed_growth_rate": 1.0000070000560002,
          "projected_frequency": 0.9999999999999998,
          "timepoint": "2012-10-01T00:00:00",
          "year": 2012
         },
         {
          "clade_membership": "3c0baec",
          "estimated_growth_rate": 1.0000080000640008,
          "frequency": 0.9999919999999995,
          "frequency_final": 0.9999989999999993,
          "frequency_other": 0.9999919999999995,
          "observed_growth_rate": 1.0000070000560002,
          "projected_frequency": 0.9999999999999998,
          "timepoint": "2012-10-01T00:00:00",
          "year": 2012
         },
         {
          "clade_membership": "412c00a",
          "estimated_growth_rate": 1.0000080000640008,
          "frequency": 0.9999919999999995,
          "frequency_final": 0.9999989999999993,
          "frequency_other": 0.9999919999999995,
          "observed_growth_rate": 1.0000070000560002,
          "projected_frequency": 0.9999999999999998,
          "timepoint": "2012-10-01T00:00:00",
          "year": 2012
         },
         {
          "clade_membership": "41bb3e2",
          "estimated_growth_rate": 1.002375184782835,
          "frequency": 0.9976269999999996,
          "frequency_final": 0.9999989999999993,
          "frequency_other": 0.9976269999999996,
          "observed_growth_rate": 1.0023776421448094,
          "projected_frequency": 0.9999965484693449,
          "timepoint": "2012-10-01T00:00:00",
          "year": 2012
         },
         {
          "clade_membership": "44989e1",
          "estimated_growth_rate": 1.0000080000640008,
          "frequency": 0.9999919999999995,
          "frequency_final": 0.9999989999999993,
          "frequency_other": 0.9999919999999995,
          "observed_growth_rate": 1.0000070000560002,
          "projected_frequency": 0.9999999999999998,
          "timepoint": "2012-10-01T00:00:00",
          "year": 2012
         },
         {
          "clade_membership": "4952842",
          "estimated_growth_rate": 1.0000080000640008,
          "frequency": 0.9999919999999995,
          "frequency_final": 0.9999989999999993,
          "frequency_other": 0.9999919999999995,
          "observed_growth_rate": 1.0000070000560002,
          "projected_frequency": 0.9999999999999998,
          "timepoint": "2012-10-01T00:00:00",
          "year": 2012
         },
         {
          "clade_membership": "4ff1302",
          "estimated_growth_rate": 1.0000080000640008,
          "frequency": 0.9999919999999995,
          "frequency_final": 0.9999989999999993,
          "frequency_other": 0.9999919999999995,
          "observed_growth_rate": 1.0000070000560002,
          "projected_frequency": 0.9999999999999998,
          "timepoint": "2012-10-01T00:00:00",
          "year": 2012
         },
         {
          "clade_membership": "6335574",
          "estimated_growth_rate": 1.0000080000640008,
          "frequency": 0.9999919999999995,
          "frequency_final": 0.9999989999999993,
          "frequency_other": 0.9999919999999995,
          "observed_growth_rate": 1.0000070000560002,
          "projected_frequency": 0.9999999999999998,
          "timepoint": "2012-10-01T00:00:00",
          "year": 2012
         },
         {
          "clade_membership": "7aa732d",
          "estimated_growth_rate": 1.0000080000640008,
          "frequency": 0.9999919999999995,
          "frequency_final": 0.9999989999999993,
          "frequency_other": 0.9999919999999995,
          "observed_growth_rate": 1.0000070000560002,
          "projected_frequency": 0.9999999999999998,
          "timepoint": "2012-10-01T00:00:00",
          "year": 2012
         },
         {
          "clade_membership": "7fba9ff",
          "estimated_growth_rate": 1.4382379230239188,
          "frequency": 0.6934619999999995,
          "frequency_final": 0,
          "frequency_other": 0.6934619999999995,
          "observed_growth_rate": 0,
          "projected_frequency": 0.9973633465760121,
          "timepoint": "2012-10-01T00:00:00",
          "year": 2012
         },
         {
          "clade_membership": "85356dd",
          "estimated_growth_rate": 1.0000080000640008,
          "frequency": 0.9999919999999995,
          "frequency_final": 0.9999989999999993,
          "frequency_other": 0.9999919999999995,
          "observed_growth_rate": 1.0000070000560002,
          "projected_frequency": 0.9999999999999998,
          "timepoint": "2012-10-01T00:00:00",
          "year": 2012
         },
         {
          "clade_membership": "88299f7",
          "estimated_growth_rate": 1.4382379230239188,
          "frequency": 0.6934619999999995,
          "frequency_final": 0,
          "frequency_other": 0.6934619999999995,
          "observed_growth_rate": 0,
          "projected_frequency": 0.9973633465760121,
          "timepoint": "2012-10-01T00:00:00",
          "year": 2012
         },
         {
          "clade_membership": "88dab64",
          "estimated_growth_rate": 1.0000080000640008,
          "frequency": 0.9999919999999995,
          "frequency_final": 0.9999989999999993,
          "frequency_other": 0.9999919999999995,
          "observed_growth_rate": 1.0000070000560002,
          "projected_frequency": 0.9999999999999998,
          "timepoint": "2012-10-01T00:00:00",
          "year": 2012
         },
         {
          "clade_membership": "8aaed0b",
          "estimated_growth_rate": 2.0748067508580665,
          "frequency": 0.47836000000000006,
          "frequency_final": 0.9592939999999993,
          "frequency_other": 0.47836000000000006,
          "observed_growth_rate": 2.0053808846893535,
          "projected_frequency": 0.9925045573404649,
          "timepoint": "2012-10-01T00:00:00",
          "year": 2012
         },
         {
          "clade_membership": "956f201",
          "estimated_growth_rate": 1.0074108558962431,
          "frequency": 0.9926329999999997,
          "frequency_final": 0.9999989999999993,
          "frequency_other": 0.9926329999999997,
          "observed_growth_rate": 1.0074206680616096,
          "projected_frequency": 0.9999892601208551,
          "timepoint": "2012-10-01T00:00:00",
          "year": 2012
         },
         {
          "clade_membership": "98c068a",
          "estimated_growth_rate": 1.0000080000640008,
          "frequency": 0.9999919999999995,
          "frequency_final": 0.9999989999999993,
          "frequency_other": 0.9999919999999995,
          "observed_growth_rate": 1.0000070000560002,
          "projected_frequency": 0.9999999999999998,
          "timepoint": "2012-10-01T00:00:00",
          "year": 2012
         },
         {
          "clade_membership": "9a3ff5d",
          "estimated_growth_rate": 1.0000080000640008,
          "frequency": 0.9999919999999995,
          "frequency_final": 0.9999989999999993,
          "frequency_other": 0.9999919999999995,
          "observed_growth_rate": 1.0000070000560002,
          "projected_frequency": 0.9999999999999998,
          "timepoint": "2012-10-01T00:00:00",
          "year": 2012
         },
         {
          "clade_membership": "9b04f13",
          "estimated_growth_rate": 1.0000080000640008,
          "frequency": 0.9999919999999995,
          "frequency_final": 0.9999989999999993,
          "frequency_other": 0.9999919999999995,
          "observed_growth_rate": 1.0000070000560002,
          "projected_frequency": 0.9999999999999998,
          "timepoint": "2012-10-01T00:00:00",
          "year": 2012
         },
         {
          "clade_membership": "a229f16",
          "estimated_growth_rate": 3.9460662929533865,
          "frequency": 0.23460599999999998,
          "frequency_final": 0.9586889999999993,
          "frequency_other": 0.23460599999999998,
          "observed_growth_rate": 4.086378864990663,
          "projected_frequency": 0.9257708287246221,
          "timepoint": "2012-10-01T00:00:00",
          "year": 2012
         },
         {
          "clade_membership": "a5bcb4f",
          "estimated_growth_rate": 1.0000080000640008,
          "frequency": 0.9999919999999995,
          "frequency_final": 0.9999989999999993,
          "frequency_other": 0.9999919999999995,
          "observed_growth_rate": 1.0000070000560002,
          "projected_frequency": 0.9999999999999998,
          "timepoint": "2012-10-01T00:00:00",
          "year": 2012
         },
         {
          "clade_membership": "aab80f6",
          "estimated_growth_rate": 1.0000080000640008,
          "frequency": 0.9999919999999995,
          "frequency_final": 0.9999989999999993,
          "frequency_other": 0.9999919999999995,
          "observed_growth_rate": 1.0000070000560002,
          "projected_frequency": 0.9999999999999998,
          "timepoint": "2012-10-01T00:00:00",
          "year": 2012
         },
         {
          "clade_membership": "b32cea9",
          "estimated_growth_rate": 1.0000080000640008,
          "frequency": 0.9999919999999995,
          "frequency_final": 0.9999989999999993,
          "frequency_other": 0.9999919999999995,
          "observed_growth_rate": 1.0000070000560002,
          "projected_frequency": 0.9999999999999998,
          "timepoint": "2012-10-01T00:00:00",
          "year": 2012
         },
         {
          "clade_membership": "c139e7c",
          "estimated_growth_rate": 0.022594581795650936,
          "frequency": 0.215038,
          "frequency_final": 0.9851699999999993,
          "frequency_other": 0.215038,
          "observed_growth_rate": 4.581376314883878,
          "projected_frequency": 0.004858693680173186,
          "timepoint": "2012-10-01T00:00:00",
          "year": 2012
         },
         {
          "clade_membership": "d4d7919",
          "estimated_growth_rate": 0.010998869565805761,
          "frequency": 0.206501,
          "frequency_final": 0.014506000000000002,
          "frequency_other": 0.206501,
          "observed_growth_rate": 0.07024663318821701,
          "projected_frequency": 0.0022712775642084555,
          "timepoint": "2012-10-01T00:00:00",
          "year": 2012
         },
         {
          "clade_membership": "d6906cf",
          "estimated_growth_rate": 1.0000080000640008,
          "frequency": 0.9999919999999995,
          "frequency_final": 0.9999989999999993,
          "frequency_other": 0.9999919999999995,
          "observed_growth_rate": 1.0000070000560002,
          "projected_frequency": 0.9999999999999998,
          "timepoint": "2012-10-01T00:00:00",
          "year": 2012
         },
         {
          "clade_membership": "e2f3876",
          "estimated_growth_rate": 1.0000080000640008,
          "frequency": 0.9999919999999995,
          "frequency_final": 0.9999989999999993,
          "frequency_other": 0.9999919999999995,
          "observed_growth_rate": 1.0000070000560002,
          "projected_frequency": 0.9999999999999998,
          "timepoint": "2012-10-01T00:00:00",
          "year": 2012
         },
         {
          "clade_membership": "e501908",
          "estimated_growth_rate": 1.0000080000640008,
          "frequency": 0.9999919999999995,
          "frequency_final": 0.9999989999999993,
          "frequency_other": 0.9999919999999995,
          "observed_growth_rate": 1.0000070000560002,
          "projected_frequency": 0.9999999999999998,
          "timepoint": "2012-10-01T00:00:00",
          "year": 2012
         },
         {
          "clade_membership": "e56a121",
          "estimated_growth_rate": 0.010998869565805761,
          "frequency": 0.206501,
          "frequency_final": 0.014506000000000002,
          "frequency_other": 0.206501,
          "observed_growth_rate": 0.07024663318821701,
          "projected_frequency": 0.0022712775642084555,
          "timepoint": "2012-10-01T00:00:00",
          "year": 2012
         },
         {
          "clade_membership": "e64cc68",
          "estimated_growth_rate": 1.0000080000640008,
          "frequency": 0.9999919999999995,
          "frequency_final": 0.9999989999999993,
          "frequency_other": 0.9999919999999995,
          "observed_growth_rate": 1.0000070000560002,
          "projected_frequency": 0.9999999999999998,
          "timepoint": "2012-10-01T00:00:00",
          "year": 2012
         },
         {
          "clade_membership": "e89fed6",
          "estimated_growth_rate": 1.0000080000640008,
          "frequency": 0.9999919999999995,
          "frequency_final": 0.9999989999999993,
          "frequency_other": 0.9999919999999995,
          "observed_growth_rate": 1.0000070000560002,
          "projected_frequency": 0.9999999999999998,
          "timepoint": "2012-10-01T00:00:00",
          "year": 2012
         },
         {
          "clade_membership": "ecf49fd",
          "estimated_growth_rate": 1.0000080000640008,
          "frequency": 0.9999919999999995,
          "frequency_final": 0.9999989999999993,
          "frequency_other": 0.9999919999999995,
          "observed_growth_rate": 1.0000070000560002,
          "projected_frequency": 0.9999999999999998,
          "timepoint": "2012-10-01T00:00:00",
          "year": 2012
         },
         {
          "clade_membership": "f2ec31a",
          "estimated_growth_rate": 2.11091683002026,
          "frequency": 0.47017100000000006,
          "frequency_final": 0.9587609999999994,
          "frequency_other": 0.47017100000000006,
          "observed_growth_rate": 2.039175108630688,
          "projected_frequency": 0.9924918768874558,
          "timepoint": "2012-10-01T00:00:00",
          "year": 2012
         },
         {
          "clade_membership": "f3f16af",
          "estimated_growth_rate": 1.0000080000640008,
          "frequency": 0.9999919999999995,
          "frequency_final": 0.9999989999999993,
          "frequency_other": 0.9999919999999995,
          "observed_growth_rate": 1.0000070000560002,
          "projected_frequency": 0.9999999999999998,
          "timepoint": "2012-10-01T00:00:00",
          "year": 2012
         },
         {
          "clade_membership": "fd5608c",
          "estimated_growth_rate": 1.0000080000640008,
          "frequency": 0.9999919999999995,
          "frequency_final": 0.9999989999999993,
          "frequency_other": 0.9999919999999995,
          "observed_growth_rate": 1.0000070000560002,
          "projected_frequency": 0.9999999999999998,
          "timepoint": "2012-10-01T00:00:00",
          "year": 2012
         },
         {
          "clade_membership": "root",
          "estimated_growth_rate": 1.0000080000640008,
          "frequency": 0.9999919999999995,
          "frequency_final": 0.9999989999999993,
          "frequency_other": 0.9999919999999995,
          "observed_growth_rate": 1.0000070000560002,
          "projected_frequency": 0.9999999999999998,
          "timepoint": "2012-10-01T00:00:00",
          "year": 2012
         },
         {
          "clade_membership": "0003b07",
          "estimated_growth_rate": 1.0000010000009998,
          "frequency": 0.9999990000000001,
          "frequency_final": 1.0000040000000001,
          "frequency_other": 0.9999990000000001,
          "observed_growth_rate": 1.000005000005,
          "projected_frequency": 0.9999999999999998,
          "timepoint": "2013-04-01T00:00:00",
          "year": 2013
         },
         {
          "clade_membership": "0165eeb",
          "estimated_growth_rate": 0.03440541651647456,
          "frequency": 0.24547199999999994,
          "frequency_final": 0.25129300000000004,
          "frequency_other": 0.24547199999999994,
          "observed_growth_rate": 1.023713498891931,
          "projected_frequency": 0.008445566403132041,
          "timepoint": "2013-04-01T00:00:00",
          "year": 2013
         },
         {
          "clade_membership": "02e323e",
          "estimated_growth_rate": 1.0000010000009998,
          "frequency": 0.9999990000000001,
          "frequency_final": 1.0000040000000001,
          "frequency_other": 0.9999990000000001,
          "observed_growth_rate": 1.000005000005,
          "projected_frequency": 0.9999999999999998,
          "timepoint": "2013-04-01T00:00:00",
          "year": 2013
         },
         {
          "clade_membership": "048f8ca",
          "estimated_growth_rate": 1.0000010000009998,
          "frequency": 0.9999990000000001,
          "frequency_final": 1.0000040000000001,
          "frequency_other": 0.9999990000000001,
          "observed_growth_rate": 1.000005000005,
          "projected_frequency": 0.9999999999999998,
          "timepoint": "2013-04-01T00:00:00",
          "year": 2013
         },
         {
          "clade_membership": "09e68a2",
          "estimated_growth_rate": 1.0000010000009998,
          "frequency": 0.9999990000000001,
          "frequency_final": 1.0000040000000001,
          "frequency_other": 0.9999990000000001,
          "observed_growth_rate": 1.000005000005,
          "projected_frequency": 0.9999999999999998,
          "timepoint": "2013-04-01T00:00:00",
          "year": 2013
         },
         {
          "clade_membership": "18b52ed",
          "estimated_growth_rate": 1.0000010000009998,
          "frequency": 0.9999990000000001,
          "frequency_final": 0,
          "frequency_other": 0.9999990000000001,
          "observed_growth_rate": 0,
          "projected_frequency": 0.9999999999999998,
          "timepoint": "2013-04-01T00:00:00",
          "year": 2013
         },
         {
          "clade_membership": "35491c6",
          "estimated_growth_rate": 1.0000010000009998,
          "frequency": 0.9999990000000001,
          "frequency_final": 1.0000040000000001,
          "frequency_other": 0.9999990000000001,
          "observed_growth_rate": 1.000005000005,
          "projected_frequency": 0.9999999999999998,
          "timepoint": "2013-04-01T00:00:00",
          "year": 2013
         },
         {
          "clade_membership": "38da78c",
          "estimated_growth_rate": 1.145960669338183,
          "frequency": 0.8725180000000001,
          "frequency_final": 0.997028,
          "frequency_other": 0.8725180000000001,
          "observed_growth_rate": 1.142701927066261,
          "projected_frequency": 0.9998713112896128,
          "timepoint": "2013-04-01T00:00:00",
          "year": 2013
         },
         {
          "clade_membership": "3a81d99",
          "estimated_growth_rate": 1.0000010000009998,
          "frequency": 0.9999990000000001,
          "frequency_final": 1.0000040000000001,
          "frequency_other": 0.9999990000000001,
          "observed_growth_rate": 1.000005000005,
          "projected_frequency": 0.9999999999999998,
          "timepoint": "2013-04-01T00:00:00",
          "year": 2013
         },
         {
          "clade_membership": "3c0baec",
          "estimated_growth_rate": 1.0000010000009998,
          "frequency": 0.9999990000000001,
          "frequency_final": 1.0000040000000001,
          "frequency_other": 0.9999990000000001,
          "observed_growth_rate": 1.000005000005,
          "projected_frequency": 0.9999999999999998,
          "timepoint": "2013-04-01T00:00:00",
          "year": 2013
         },
         {
          "clade_membership": "412c00a",
          "estimated_growth_rate": 1.0000010000009998,
          "frequency": 0.9999990000000001,
          "frequency_final": 1.0000040000000001,
          "frequency_other": 0.9999990000000001,
          "observed_growth_rate": 1.000005000005,
          "projected_frequency": 0.9999999999999998,
          "timepoint": "2013-04-01T00:00:00",
          "year": 2013
         },
         {
          "clade_membership": "41bb3e2",
          "estimated_growth_rate": 1.0000010000009998,
          "frequency": 0.9999990000000001,
          "frequency_final": 1.0000040000000001,
          "frequency_other": 0.9999990000000001,
          "observed_growth_rate": 1.000005000005,
          "projected_frequency": 0.9999999999999998,
          "timepoint": "2013-04-01T00:00:00",
          "year": 2013
         },
         {
          "clade_membership": "44989e1",
          "estimated_growth_rate": 1.0000010000009998,
          "frequency": 0.9999990000000001,
          "frequency_final": 1.0000040000000001,
          "frequency_other": 0.9999990000000001,
          "observed_growth_rate": 1.000005000005,
          "projected_frequency": 0.9999999999999998,
          "timepoint": "2013-04-01T00:00:00",
          "year": 2013
         },
         {
          "clade_membership": "4952842",
          "estimated_growth_rate": 1.0000010000009998,
          "frequency": 0.9999990000000001,
          "frequency_final": 1.0000040000000001,
          "frequency_other": 0.9999990000000001,
          "observed_growth_rate": 1.000005000005,
          "projected_frequency": 0.9999999999999998,
          "timepoint": "2013-04-01T00:00:00",
          "year": 2013
         },
         {
          "clade_membership": "4e35443",
          "estimated_growth_rate": 1.0000010000009998,
          "frequency": 0.9999990000000001,
          "frequency_final": 0,
          "frequency_other": 0.9999990000000001,
          "observed_growth_rate": 0,
          "projected_frequency": 0.9999999999999998,
          "timepoint": "2013-04-01T00:00:00",
          "year": 2013
         },
         {
          "clade_membership": "4ff1302",
          "estimated_growth_rate": 1.0000010000009998,
          "frequency": 0.9999990000000001,
          "frequency_final": 1.0000040000000001,
          "frequency_other": 0.9999990000000001,
          "observed_growth_rate": 1.000005000005,
          "projected_frequency": 0.9999999999999998,
          "timepoint": "2013-04-01T00:00:00",
          "year": 2013
         },
         {
          "clade_membership": "5d01a6e",
          "estimated_growth_rate": 1.0000010000009998,
          "frequency": 0.9999990000000001,
          "frequency_final": 1.0000040000000001,
          "frequency_other": 0.9999990000000001,
          "observed_growth_rate": 1.000005000005,
          "projected_frequency": 0.9999999999999998,
          "timepoint": "2013-04-01T00:00:00",
          "year": 2013
         },
         {
          "clade_membership": "6335574",
          "estimated_growth_rate": 1.0000010000009998,
          "frequency": 0.9999990000000001,
          "frequency_final": 1.0000040000000001,
          "frequency_other": 0.9999990000000001,
          "observed_growth_rate": 1.000005000005,
          "projected_frequency": 0.9999999999999998,
          "timepoint": "2013-04-01T00:00:00",
          "year": 2013
         },
         {
          "clade_membership": "66a66dd",
          "estimated_growth_rate": 3.147734429679248,
          "frequency": 0.31454499999999996,
          "frequency_final": 0.7455489999999998,
          "frequency_other": 0.31454499999999996,
          "observed_growth_rate": 2.3702459107599863,
          "projected_frequency": 0.990104126183459,
          "timepoint": "2013-04-01T00:00:00",
          "year": 2013
         },
         {
          "clade_membership": "6b0ee12",
          "estimated_growth_rate": 1.0000010000009998,
          "frequency": 0.9999990000000001,
          "frequency_final": 1.0000040000000001,
          "frequency_other": 0.9999990000000001,
          "observed_growth_rate": 1.000005000005,
          "projected_frequency": 0.9999999999999998,
          "timepoint": "2013-04-01T00:00:00",
          "year": 2013
         },
         {
          "clade_membership": "6c1138e",
          "estimated_growth_rate": 1.173626329966329,
          "frequency": 0.8519350000000002,
          "frequency_final": 0.997028,
          "frequency_other": 0.8519350000000002,
          "observed_growth_rate": 1.170309941486146,
          "projected_frequency": 0.9998533474198648,
          "timepoint": "2013-04-01T00:00:00",
          "year": 2013
         },
         {
          "clade_membership": "7aa732d",
          "estimated_growth_rate": 1.0000010000009998,
          "frequency": 0.9999990000000001,
          "frequency_final": 1.0000040000000001,
          "frequency_other": 0.9999990000000001,
          "observed_growth_rate": 1.000005000005,
          "projected_frequency": 0.9999999999999998,
          "timepoint": "2013-04-01T00:00:00",
          "year": 2013
         },
         {
          "clade_membership": "7fba9ff",
          "estimated_growth_rate": 1.0693470391364297,
          "frequency": 0.935092,
          "frequency_final": 0.9999930000000001,
          "frequency_other": 0.935092,
          "observed_growth_rate": 1.069406004970634,
          "projected_frequency": 0.9999378615201623,
          "timepoint": "2013-04-01T00:00:00",
          "year": 2013
         },
         {
          "clade_membership": "85356dd",
          "estimated_growth_rate": 1.0000010000009998,
          "frequency": 0.9999990000000001,
          "frequency_final": 0,
          "frequency_other": 0.9999990000000001,
          "observed_growth_rate": 0,
          "projected_frequency": 0.9999999999999998,
          "timepoint": "2013-04-01T00:00:00",
          "year": 2013
         },
         {
          "clade_membership": "88dab64",
          "estimated_growth_rate": 1.0000010000009998,
          "frequency": 0.9999990000000001,
          "frequency_final": 1.0000040000000001,
          "frequency_other": 0.9999990000000001,
          "observed_growth_rate": 1.000005000005,
          "projected_frequency": 0.9999999999999998,
          "timepoint": "2013-04-01T00:00:00",
          "year": 2013
         },
         {
          "clade_membership": "8aaed0b",
          "estimated_growth_rate": 1.145960669338183,
          "frequency": 0.8725180000000001,
          "frequency_final": 0.997028,
          "frequency_other": 0.8725180000000001,
          "observed_growth_rate": 1.142701927066261,
          "projected_frequency": 0.9998713112896128,
          "timepoint": "2013-04-01T00:00:00",
          "year": 2013
         },
         {
          "clade_membership": "8d4351f",
          "estimated_growth_rate": 3.0790731891854937,
          "frequency": 0.32156199999999996,
          "frequency_final": 0.7455489999999998,
          "frequency_other": 0.32156199999999996,
          "observed_growth_rate": 2.3185233329808868,
          "projected_frequency": 0.9901129328608657,
          "timepoint": "2013-04-01T00:00:00",
          "year": 2013
         },
         {
          "clade_membership": "91769ce",
          "estimated_growth_rate": 1.0000010000009998,
          "frequency": 0.9999990000000001,
          "frequency_final": 1.0000040000000001,
          "frequency_other": 0.9999990000000001,
          "observed_growth_rate": 1.000005000005,
          "projected_frequency": 0.9999999999999998,
          "timepoint": "2013-04-01T00:00:00",
          "year": 2013
         },
         {
          "clade_membership": "956f201",
          "estimated_growth_rate": 1.0000010000009998,
          "frequency": 0.9999990000000001,
          "frequency_final": 0.9999930000000001,
          "frequency_other": 0.9999990000000001,
          "observed_growth_rate": 0.9999939999940001,
          "projected_frequency": 0.9999999999999998,
          "timepoint": "2013-04-01T00:00:00",
          "year": 2013
         },
         {
          "clade_membership": "98c068a",
          "estimated_growth_rate": 1.0000010000009998,
          "frequency": 0.9999990000000001,
          "frequency_final": 1.0000040000000001,
          "frequency_other": 0.9999990000000001,
          "observed_growth_rate": 1.000005000005,
          "projected_frequency": 0.9999999999999998,
          "timepoint": "2013-04-01T00:00:00",
          "year": 2013
         },
         {
          "clade_membership": "9a3ff5d",
          "estimated_growth_rate": 1.0000010000009998,
          "frequency": 0.9999990000000001,
          "frequency_final": 1.0000040000000001,
          "frequency_other": 0.9999990000000001,
          "observed_growth_rate": 1.000005000005,
          "projected_frequency": 0.9999999999999998,
          "timepoint": "2013-04-01T00:00:00",
          "year": 2013
         },
         {
          "clade_membership": "9b04f13",
          "estimated_growth_rate": 1.0000010000009998,
          "frequency": 0.9999990000000001,
          "frequency_final": 1.0000040000000001,
          "frequency_other": 0.9999990000000001,
          "observed_growth_rate": 1.000005000005,
          "projected_frequency": 0.9999999999999998,
          "timepoint": "2013-04-01T00:00:00",
          "year": 2013
         },
         {
          "clade_membership": "a229f16",
          "estimated_growth_rate": 1.2170424867651821,
          "frequency": 0.8215270000000002,
          "frequency_final": 0.997028,
          "frequency_other": 0.8215270000000002,
          "observed_growth_rate": 1.2136277931218327,
          "projected_frequency": 0.9998332630247401,
          "timepoint": "2013-04-01T00:00:00",
          "year": 2013
         },
         {
          "clade_membership": "a5bcb4f",
          "estimated_growth_rate": 1.0000010000009998,
          "frequency": 0.9999990000000001,
          "frequency_final": 1.0000040000000001,
          "frequency_other": 0.9999990000000001,
          "observed_growth_rate": 1.000005000005,
          "projected_frequency": 0.9999999999999998,
          "timepoint": "2013-04-01T00:00:00",
          "year": 2013
         },
         {
          "clade_membership": "a8f54a9",
          "estimated_growth_rate": 1.0000010000009998,
          "frequency": 0.9999990000000001,
          "frequency_final": 1.0000040000000001,
          "frequency_other": 0.9999990000000001,
          "observed_growth_rate": 1.000005000005,
          "projected_frequency": 0.9999999999999998,
          "timepoint": "2013-04-01T00:00:00",
          "year": 2013
         },
         {
          "clade_membership": "aab80f6",
          "estimated_growth_rate": 1.0000010000009998,
          "frequency": 0.9999990000000001,
          "frequency_final": 1.0000040000000001,
          "frequency_other": 0.9999990000000001,
          "observed_growth_rate": 1.000005000005,
          "projected_frequency": 0.9999999999999998,
          "timepoint": "2013-04-01T00:00:00",
          "year": 2013
         },
         {
          "clade_membership": "b32cea9",
          "estimated_growth_rate": 1.0000010000009998,
          "frequency": 0.9999990000000001,
          "frequency_final": 1.0000040000000001,
          "frequency_other": 0.9999990000000001,
          "observed_growth_rate": 1.000005000005,
          "projected_frequency": 0.9999999999999998,
          "timepoint": "2013-04-01T00:00:00",
          "year": 2013
         },
         {
          "clade_membership": "bfceca0",
          "estimated_growth_rate": 1.0693470391364297,
          "frequency": 0.935092,
          "frequency_final": 0,
          "frequency_other": 0.935092,
          "observed_growth_rate": 0,
          "projected_frequency": 0.9999378615201623,
          "timepoint": "2013-04-01T00:00:00",
          "year": 2013
         },
         {
          "clade_membership": "c139e7c",
          "estimated_growth_rate": 1.092083394364083,
          "frequency": 0.9156140000000001,
          "frequency_final": 0.002964,
          "frequency_other": 0.9156140000000001,
          "observed_growth_rate": 0.0032371719960594745,
          "projected_frequency": 0.9999268450472757,
          "timepoint": "2013-04-01T00:00:00",
          "year": 2013
         },
         {
          "clade_membership": "ce8636c",
          "estimated_growth_rate": 1.145960669338183,
          "frequency": 0.8725180000000001,
          "frequency_final": 0,
          "frequency_other": 0.8725180000000001,
          "observed_growth_rate": 0,
          "projected_frequency": 0.9998713112896128,
          "timepoint": "2013-04-01T00:00:00",
          "year": 2013
         },
         {
          "clade_membership": "d6906cf",
          "estimated_growth_rate": 1.0000010000009998,
          "frequency": 0.9999990000000001,
          "frequency_final": 1.0000040000000001,
          "frequency_other": 0.9999990000000001,
          "observed_growth_rate": 1.000005000005,
          "projected_frequency": 0.9999999999999998,
          "timepoint": "2013-04-01T00:00:00",
          "year": 2013
         },
         {
          "clade_membership": "e2f3876",
          "estimated_growth_rate": 1.0000010000009998,
          "frequency": 0.9999990000000001,
          "frequency_final": 1.0000040000000001,
          "frequency_other": 0.9999990000000001,
          "observed_growth_rate": 1.000005000005,
          "projected_frequency": 0.9999999999999998,
          "timepoint": "2013-04-01T00:00:00",
          "year": 2013
         },
         {
          "clade_membership": "e501908",
          "estimated_growth_rate": 1.0000010000009998,
          "frequency": 0.9999990000000001,
          "frequency_final": 1.0000040000000001,
          "frequency_other": 0.9999990000000001,
          "observed_growth_rate": 1.000005000005,
          "projected_frequency": 0.9999999999999998,
          "timepoint": "2013-04-01T00:00:00",
          "year": 2013
         },
         {
          "clade_membership": "e64cc68",
          "estimated_growth_rate": 1.0000010000009998,
          "frequency": 0.9999990000000001,
          "frequency_final": 1.0000040000000001,
          "frequency_other": 0.9999990000000001,
          "observed_growth_rate": 1.000005000005,
          "projected_frequency": 0.9999999999999998,
          "timepoint": "2013-04-01T00:00:00",
          "year": 2013
         },
         {
          "clade_membership": "e89fed6",
          "estimated_growth_rate": 1.0000010000009998,
          "frequency": 0.9999990000000001,
          "frequency_final": 0,
          "frequency_other": 0.9999990000000001,
          "observed_growth_rate": 0,
          "projected_frequency": 0.9999999999999998,
          "timepoint": "2013-04-01T00:00:00",
          "year": 2013
         },
         {
          "clade_membership": "ecf49fd",
          "estimated_growth_rate": 1.0000010000009998,
          "frequency": 0.9999990000000001,
          "frequency_final": 1.0000040000000001,
          "frequency_other": 0.9999990000000001,
          "observed_growth_rate": 1.000005000005,
          "projected_frequency": 0.9999999999999998,
          "timepoint": "2013-04-01T00:00:00",
          "year": 2013
         },
         {
          "clade_membership": "f2ec31a",
          "estimated_growth_rate": 1.1817498166013742,
          "frequency": 0.8460760000000003,
          "frequency_final": 0.997028,
          "frequency_other": 0.8460760000000003,
          "observed_growth_rate": 1.1784142322911886,
          "projected_frequency": 0.9998501578308245,
          "timepoint": "2013-04-01T00:00:00",
          "year": 2013
         },
         {
          "clade_membership": "f3f16af",
          "estimated_growth_rate": 1.0000010000009998,
          "frequency": 0.9999990000000001,
          "frequency_final": 1.0000040000000001,
          "frequency_other": 0.9999990000000001,
          "observed_growth_rate": 1.000005000005,
          "projected_frequency": 0.9999999999999998,
          "timepoint": "2013-04-01T00:00:00",
          "year": 2013
         },
         {
          "clade_membership": "fd5608c",
          "estimated_growth_rate": 1.0000010000009998,
          "frequency": 0.9999990000000001,
          "frequency_final": 1.0000040000000001,
          "frequency_other": 0.9999990000000001,
          "observed_growth_rate": 1.000005000005,
          "projected_frequency": 0.9999999999999998,
          "timepoint": "2013-04-01T00:00:00",
          "year": 2013
         },
         {
          "clade_membership": "root",
          "estimated_growth_rate": 1.0000010000009998,
          "frequency": 0.9999990000000001,
          "frequency_final": 1.0000040000000001,
          "frequency_other": 0.9999990000000001,
          "observed_growth_rate": 1.000005000005,
          "projected_frequency": 0.9999999999999998,
          "timepoint": "2013-04-01T00:00:00",
          "year": 2013
         },
         {
          "clade_membership": "0003b07",
          "estimated_growth_rate": 1.0000010000010011,
          "frequency": 0.9999989999999993,
          "frequency_final": 0,
          "frequency_other": 0.9999989999999994,
          "observed_growth_rate": 0,
          "projected_frequency": 1.0000000000000004,
          "timepoint": "2013-10-01T00:00:00",
          "year": 2013
         },
         {
          "clade_membership": "0165eeb",
          "estimated_growth_rate": 0.9909966336248062,
          "frequency": 0.39363799999999993,
          "frequency_final": 0.201301,
          "frequency_other": 0.39363799999999993,
          "observed_growth_rate": 0.511386095854567,
          "projected_frequency": 0.3900939328668014,
          "timepoint": "2013-10-01T00:00:00",
          "year": 2013
         },
         {
          "clade_membership": "02e323e",
          "estimated_growth_rate": 1.0000010000010011,
          "frequency": 0.9999989999999993,
          "frequency_final": 0.9999869999999996,
          "frequency_other": 0.9999989999999994,
          "observed_growth_rate": 0.9999879999880004,
          "projected_frequency": 1.0000000000000004,
          "timepoint": "2013-10-01T00:00:00",
          "year": 2013
         },
         {
          "clade_membership": "048f8ca",
          "estimated_growth_rate": 1.0000010000010011,
          "frequency": 0.9999989999999993,
          "frequency_final": 0.9999869999999996,
          "frequency_other": 0.9999989999999994,
          "observed_growth_rate": 0.9999879999880004,
          "projected_frequency": 1.0000000000000004,
          "timepoint": "2013-10-01T00:00:00",
          "year": 2013
         },
         {
          "clade_membership": "05daa66",
          "estimated_growth_rate": 1.019512801542001,
          "frequency": 0.9805869999999993,
          "frequency_final": 0.9999869999999996,
          "frequency_other": 0.9805869999999994,
          "observed_growth_rate": 1.0197840681143033,
          "projected_frequency": 0.9997209995256655,
          "timepoint": "2013-10-01T00:00:00",
          "year": 2013
         },
         {
          "clade_membership": "09e68a2",
          "estimated_growth_rate": 1.0000010000010011,
          "frequency": 0.9999989999999993,
          "frequency_final": 0.9999869999999996,
          "frequency_other": 0.9999989999999994,
          "observed_growth_rate": 0.9999879999880004,
          "projected_frequency": 1.0000000000000004,
          "timepoint": "2013-10-01T00:00:00",
          "year": 2013
         },
         {
          "clade_membership": "1a16e36",
          "estimated_growth_rate": 1.7942726487044196,
          "frequency": 0.3309479999999999,
          "frequency_final": 0.7081299999999996,
          "frequency_other": 0.3309479999999999,
          "observed_growth_rate": 2.1397017054038696,
          "projected_frequency": 0.5938109445434301,
          "timepoint": "2013-10-01T00:00:00",
          "year": 2013
         },
         {
          "clade_membership": "35491c6",
          "estimated_growth_rate": 1.0000010000010011,
          "frequency": 0.9999989999999993,
          "frequency_final": 0.9999869999999996,
          "frequency_other": 0.9999989999999994,
          "observed_growth_rate": 0.9999879999880004,
          "projected_frequency": 1.0000000000000004,
          "timepoint": "2013-10-01T00:00:00",
          "year": 2013
         },
         {
          "clade_membership": "38da78c",
          "estimated_growth_rate": 1.0418251140628265,
          "frequency": 0.9592939999999993,
          "frequency_final": 0.9999869999999996,
          "frequency_other": 0.9592939999999994,
          "observed_growth_rate": 1.0424197378488766,
          "projected_frequency": 0.9994165809697844,
          "timepoint": "2013-10-01T00:00:00",
          "year": 2013
         },
         {
          "clade_membership": "3a81d99",
          "estimated_growth_rate": 1.0000010000010011,
          "frequency": 0.9999989999999993,
          "frequency_final": 0.9999869999999996,
          "frequency_other": 0.9999989999999994,
          "observed_growth_rate": 0.9999879999880004,
          "projected_frequency": 1.0000000000000004,
          "timepoint": "2013-10-01T00:00:00",
          "year": 2013
         },
         {
          "clade_membership": "3c0baec",
          "estimated_growth_rate": 1.0000010000010011,
          "frequency": 0.9999989999999993,
          "frequency_final": 0.9999869999999996,
          "frequency_other": 0.9999989999999994,
          "observed_growth_rate": 0.9999879999880004,
          "projected_frequency": 1.0000000000000004,
          "timepoint": "2013-10-01T00:00:00",
          "year": 2013
         },
         {
          "clade_membership": "412c00a",
          "estimated_growth_rate": 1.0000010000010011,
          "frequency": 0.9999989999999993,
          "frequency_final": 0.9999869999999996,
          "frequency_other": 0.9999989999999994,
          "observed_growth_rate": 0.9999879999880004,
          "projected_frequency": 1.0000000000000004,
          "timepoint": "2013-10-01T00:00:00",
          "year": 2013
         },
         {
          "clade_membership": "41bb3e2",
          "estimated_growth_rate": 1.0000010000010011,
          "frequency": 0.9999989999999993,
          "frequency_final": 0.9999869999999996,
          "frequency_other": 0.9999989999999994,
          "observed_growth_rate": 0.9999879999880004,
          "projected_frequency": 1.0000000000000004,
          "timepoint": "2013-10-01T00:00:00",
          "year": 2013
         },
         {
          "clade_membership": "44989e1",
          "estimated_growth_rate": 1.0000010000010011,
          "frequency": 0.9999989999999993,
          "frequency_final": 0.9999869999999996,
          "frequency_other": 0.9999989999999994,
          "observed_growth_rate": 0.9999879999880004,
          "projected_frequency": 1.0000000000000004,
          "timepoint": "2013-10-01T00:00:00",
          "year": 2013
         },
         {
          "clade_membership": "4952842",
          "estimated_growth_rate": 1.0000010000010011,
          "frequency": 0.9999989999999993,
          "frequency_final": 0.9999869999999996,
          "frequency_other": 0.9999989999999994,
          "observed_growth_rate": 0.9999879999880004,
          "projected_frequency": 1.0000000000000004,
          "timepoint": "2013-10-01T00:00:00",
          "year": 2013
         },
         {
          "clade_membership": "4e35443",
          "estimated_growth_rate": 1.0000010000010011,
          "frequency": 0.9999989999999993,
          "frequency_final": 0.9999869999999996,
          "frequency_other": 0.9999989999999994,
          "observed_growth_rate": 0.9999879999880004,
          "projected_frequency": 1.0000000000000004,
          "timepoint": "2013-10-01T00:00:00",
          "year": 2013
         },
         {
          "clade_membership": "4ff1302",
          "estimated_growth_rate": 1.0000010000010011,
          "frequency": 0.9999989999999993,
          "frequency_final": 0.9999869999999996,
          "frequency_other": 0.9999989999999994,
          "observed_growth_rate": 0.9999879999880004,
          "projected_frequency": 1.0000000000000004,
          "timepoint": "2013-10-01T00:00:00",
          "year": 2013
         },
         {
          "clade_membership": "5d01a6e",
          "estimated_growth_rate": 1.0000010000010011,
          "frequency": 0.9999989999999993,
          "frequency_final": 0.9999869999999996,
          "frequency_other": 0.9999989999999994,
          "observed_growth_rate": 0.9999879999880004,
          "projected_frequency": 1.0000000000000004,
          "timepoint": "2013-10-01T00:00:00",
          "year": 2013
         },
         {
          "clade_membership": "6335574",
          "estimated_growth_rate": 1.0000010000010011,
          "frequency": 0.9999989999999993,
          "frequency_final": 0.9999869999999996,
          "frequency_other": 0.9999989999999994,
          "observed_growth_rate": 0.9999879999880004,
          "projected_frequency": 1.0000000000000004,
          "timepoint": "2013-10-01T00:00:00",
          "year": 2013
         },
         {
          "clade_membership": "66a66dd",
          "estimated_growth_rate": 1.177596644804084,
          "frequency": 0.5163559999999999,
          "frequency_final": 0.7983209999999995,
          "frequency_other": 0.5163559999999999,
          "observed_growth_rate": 1.5460670545127773,
          "projected_frequency": 0.6080590931244575,
          "timepoint": "2013-10-01T00:00:00",
          "year": 2013
         },
         {
          "clade_membership": "6b0ee12",
          "estimated_growth_rate": 1.0000010000010011,
          "frequency": 0.9999989999999993,
          "frequency_final": 0.9999869999999996,
          "frequency_other": 0.9999989999999994,
          "observed_growth_rate": 0.9999879999880004,
          "projected_frequency": 1.0000000000000004,
          "timepoint": "2013-10-01T00:00:00",
          "year": 2013
         },
         {
          "clade_membership": "7aa732d",
          "estimated_growth_rate": 1.0000010000010011,
          "frequency": 0.9999989999999993,
          "frequency_final": 0.9999869999999996,
          "frequency_other": 0.9999989999999994,
          "observed_growth_rate": 0.9999879999880004,
          "projected_frequency": 1.0000000000000004,
          "timepoint": "2013-10-01T00:00:00",
          "year": 2013
         },
         {
          "clade_membership": "8386d16",
          "estimated_growth_rate": 1.0000010000010011,
          "frequency": 0.9999989999999993,
          "frequency_final": 0.9999869999999996,
          "frequency_other": 0.9999989999999994,
          "observed_growth_rate": 0.9999879999880004,
          "projected_frequency": 1.0000000000000004,
          "timepoint": "2013-10-01T00:00:00",
          "year": 2013
         },
         {
          "clade_membership": "85356dd",
          "estimated_growth_rate": 1.0000010000010011,
          "frequency": 0.9999989999999993,
          "frequency_final": 0.9999869999999996,
          "frequency_other": 0.9999989999999994,
          "observed_growth_rate": 0.9999879999880004,
          "projected_frequency": 1.0000000000000004,
          "timepoint": "2013-10-01T00:00:00",
          "year": 2013
         },
         {
          "clade_membership": "88dab64",
          "estimated_growth_rate": 1.0000010000010011,
          "frequency": 0.9999989999999993,
          "frequency_final": 0.9999869999999996,
          "frequency_other": 0.9999989999999994,
          "observed_growth_rate": 0.9999879999880004,
          "projected_frequency": 1.0000000000000004,
          "timepoint": "2013-10-01T00:00:00",
          "year": 2013
         },
         {
          "clade_membership": "8aaed0b",
          "estimated_growth_rate": 1.0418251140628265,
          "frequency": 0.9592939999999993,
          "frequency_final": 0.9999869999999996,
          "frequency_other": 0.9592939999999994,
          "observed_growth_rate": 1.0424197378488766,
          "projected_frequency": 0.9994165809697844,
          "timepoint": "2013-10-01T00:00:00",
          "year": 2013
         },
         {
          "clade_membership": "91769ce",
          "estimated_growth_rate": 1.0000010000010011,
          "frequency": 0.9999989999999993,
          "frequency_final": 0.9999869999999996,
          "frequency_other": 0.9999989999999994,
          "observed_growth_rate": 0.9999879999880004,
          "projected_frequency": 1.0000000000000004,
          "timepoint": "2013-10-01T00:00:00",
          "year": 2013
         },
         {
          "clade_membership": "956f201",
          "estimated_growth_rate": 1.0000010000010011,
          "frequency": 0.9999989999999993,
          "frequency_final": 0.9999869999999996,
          "frequency_other": 0.9999989999999994,
          "observed_growth_rate": 0.9999879999880004,
          "projected_frequency": 1.0000000000000004,
          "timepoint": "2013-10-01T00:00:00",
          "year": 2013
         },
         {
          "clade_membership": "98c068a",
          "estimated_growth_rate": 1.0000010000010011,
          "frequency": 0.9999989999999993,
          "frequency_final": 0.9999869999999996,
          "frequency_other": 0.9999989999999994,
          "observed_growth_rate": 0.9999879999880004,
          "projected_frequency": 1.0000000000000004,
          "timepoint": "2013-10-01T00:00:00",
          "year": 2013
         },
         {
          "clade_membership": "9a3ff5d",
          "estimated_growth_rate": 1.0000010000010011,
          "frequency": 0.9999989999999993,
          "frequency_final": 0.9999869999999996,
          "frequency_other": 0.9999989999999994,
          "observed_growth_rate": 0.9999879999880004,
          "projected_frequency": 1.0000000000000004,
          "timepoint": "2013-10-01T00:00:00",
          "year": 2013
         },
         {
          "clade_membership": "9b04f13",
          "estimated_growth_rate": 1.0000010000010011,
          "frequency": 0.9999989999999993,
          "frequency_final": 0.9999869999999996,
          "frequency_other": 0.9999989999999994,
          "observed_growth_rate": 0.9999879999880004,
          "projected_frequency": 1.0000000000000004,
          "timepoint": "2013-10-01T00:00:00",
          "year": 2013
         },
         {
          "clade_membership": "a229f16",
          "estimated_growth_rate": 1.0424723925797539,
          "frequency": 0.9586889999999993,
          "frequency_final": 0.9996219999999997,
          "frequency_other": 0.9586889999999995,
          "observed_growth_rate": 1.0426968495518363,
          "projected_frequency": 0.999406815569891,
          "timepoint": "2013-10-01T00:00:00",
          "year": 2013
         },
         {
          "clade_membership": "a5bcb4f",
          "estimated_growth_rate": 1.0000010000010011,
          "frequency": 0.9999989999999993,
          "frequency_final": 0.9999869999999996,
          "frequency_other": 0.9999989999999994,
          "observed_growth_rate": 0.9999879999880004,
          "projected_frequency": 1.0000000000000004,
          "timepoint": "2013-10-01T00:00:00",
          "year": 2013
         },
         {
          "clade_membership": "a8f54a9",
          "estimated_growth_rate": 1.0000010000010011,
          "frequency": 0.9999989999999993,
          "frequency_final": 0.9999869999999996,
          "frequency_other": 0.9999989999999994,
          "observed_growth_rate": 0.9999879999880004,
          "projected_frequency": 1.0000000000000004,
          "timepoint": "2013-10-01T00:00:00",
          "year": 2013
         },
         {
          "clade_membership": "aab80f6",
          "estimated_growth_rate": 1.0000010000010011,
          "frequency": 0.9999989999999993,
          "frequency_final": 0.9999869999999996,
          "frequency_other": 0.9999989999999994,
          "observed_growth_rate": 0.9999879999880004,
          "projected_frequency": 1.0000000000000004,
          "timepoint": "2013-10-01T00:00:00",
          "year": 2013
         },
         {
          "clade_membership": "b32cea9",
          "estimated_growth_rate": 1.0000010000010011,
          "frequency": 0.9999989999999993,
          "frequency_final": 0.9999869999999996,
          "frequency_other": 0.9999989999999994,
          "observed_growth_rate": 0.9999879999880004,
          "projected_frequency": 1.0000000000000004,
          "timepoint": "2013-10-01T00:00:00",
          "year": 2013
         },
         {
          "clade_membership": "bfceca0",
          "estimated_growth_rate": 1.0148363312515019,
          "frequency": 0.9851699999999993,
          "frequency_final": 0,
          "frequency_other": 0.9851699999999994,
          "observed_growth_rate": 0,
          "projected_frequency": 0.9997863084590415,
          "timepoint": "2013-10-01T00:00:00",
          "year": 2013
         },
         {
          "clade_membership": "c139e7c",
          "estimated_growth_rate": 1.0148363312515019,
          "frequency": 0.9851699999999993,
          "frequency_final": 0,
          "frequency_other": 0.9851699999999994,
          "observed_growth_rate": 0,
          "projected_frequency": 0.9997863084590415,
          "timepoint": "2013-10-01T00:00:00",
          "year": 2013
         },
         {
          "clade_membership": "d6906cf",
          "estimated_growth_rate": 1.0000010000010011,
          "frequency": 0.9999989999999993,
          "frequency_final": 0.9999869999999996,
          "frequency_other": 0.9999989999999994,
          "observed_growth_rate": 0.9999879999880004,
          "projected_frequency": 1.0000000000000004,
          "timepoint": "2013-10-01T00:00:00",
          "year": 2013
         },
         {
          "clade_membership": "da53a39",
          "estimated_growth_rate": 1.027813876880365,
          "frequency": 0.9725559999999992,
          "frequency_final": 0.9999869999999996,
          "frequency_other": 0.9725559999999993,
          "observed_growth_rate": 1.0282050596572336,
          "projected_frequency": 0.9996065528432596,
          "timepoint": "2013-10-01T00:00:00",
          "year": 2013
         },
         {
          "clade_membership": "e2f3876",
          "estimated_growth_rate": 1.0000010000010011,
          "frequency": 0.9999989999999993,
          "frequency_final": 0.9999869999999996,
          "frequency_other": 0.9999989999999994,
          "observed_growth_rate": 0.9999879999880004,
          "projected_frequency": 1.0000000000000004,
          "timepoint": "2013-10-01T00:00:00",
          "year": 2013
         },
         {
          "clade_membership": "e501908",
          "estimated_growth_rate": 1.0000010000010011,
          "frequency": 0.9999989999999993,
          "frequency_final": 0.9999869999999996,
          "frequency_other": 0.9999989999999994,
          "observed_growth_rate": 0.9999879999880004,
          "projected_frequency": 1.0000000000000004,
          "timepoint": "2013-10-01T00:00:00",
          "year": 2013
         },
         {
          "clade_membership": "e64cc68",
          "estimated_growth_rate": 1.0000010000010011,
          "frequency": 0.9999989999999993,
          "frequency_final": 0.9999869999999996,
          "frequency_other": 0.9999989999999994,
          "observed_growth_rate": 0.9999879999880004,
          "projected_frequency": 1.0000000000000004,
          "timepoint": "2013-10-01T00:00:00",
          "year": 2013
         },
         {
          "clade_membership": "ecf49fd",
          "estimated_growth_rate": 1.0000010000010011,
          "frequency": 0.9999989999999993,
          "frequency_final": 0.9999869999999996,
          "frequency_other": 0.9999989999999994,
          "observed_growth_rate": 0.9999879999880004,
          "projected_frequency": 1.0000000000000004,
          "timepoint": "2013-10-01T00:00:00",
          "year": 2013
         },
         {
          "clade_membership": "f2ec31a",
          "estimated_growth_rate": 1.0423951782767447,
          "frequency": 0.9587609999999994,
          "frequency_final": 0.9999869999999996,
          "frequency_other": 0.9587609999999994,
          "observed_growth_rate": 1.042999245901742,
          "projected_frequency": 0.9994078435197893,
          "timepoint": "2013-10-01T00:00:00",
          "year": 2013
         },
         {
          "clade_membership": "f3f16af",
          "estimated_growth_rate": 1.0000010000010011,
          "frequency": 0.9999989999999993,
          "frequency_final": 0.9999869999999996,
          "frequency_other": 0.9999989999999994,
          "observed_growth_rate": 0.9999879999880004,
          "projected_frequency": 1.0000000000000004,
          "timepoint": "2013-10-01T00:00:00",
          "year": 2013
         },
         {
          "clade_membership": "f8b8996",
          "estimated_growth_rate": 1.0145083844199272,
          "frequency": 0.9854929999999994,
          "frequency_final": 0,
          "frequency_other": 0.9854929999999994,
          "observed_growth_rate": 0,
          "projected_frequency": 0.9997909112871466,
          "timepoint": "2013-10-01T00:00:00",
          "year": 2013
         },
         {
          "clade_membership": "fd5608c",
          "estimated_growth_rate": 1.0000010000010011,
          "frequency": 0.9999989999999993,
          "frequency_final": 0.9999869999999996,
          "frequency_other": 0.9999989999999994,
          "observed_growth_rate": 0.9999879999880004,
          "projected_frequency": 1.0000000000000004,
          "timepoint": "2013-10-01T00:00:00",
          "year": 2013
         },
         {
          "clade_membership": "root",
          "estimated_growth_rate": 1.0000010000010011,
          "frequency": 0.9999989999999993,
          "frequency_final": 0.9999869999999996,
          "frequency_other": 0.9999989999999994,
          "observed_growth_rate": 0.9999879999880004,
          "projected_frequency": 1.0000000000000004,
          "timepoint": "2013-10-01T00:00:00",
          "year": 2013
         },
         {
          "clade_membership": "0003b07",
          "estimated_growth_rate": 0.9999960000159998,
          "frequency": 1.0000040000000001,
          "frequency_final": 1.000001,
          "frequency_other": 1.0000040000000001,
          "observed_growth_rate": 0.9999970000119998,
          "projected_frequency": 0.9999999999999999,
          "timepoint": "2014-04-01T00:00:00",
          "year": 2014
         },
         {
          "clade_membership": "0165eeb",
          "estimated_growth_rate": 0.2844279722255599,
          "frequency": 0.25129300000000004,
          "frequency_final": 0.5220980000000002,
          "frequency_other": 0.25129300000000004,
          "observed_growth_rate": 2.0776464127532406,
          "projected_frequency": 0.07147475842447763,
          "timepoint": "2014-04-01T00:00:00",
          "year": 2014
         },
         {
          "clade_membership": "02e323e",
          "estimated_growth_rate": 0.9999960000159998,
          "frequency": 1.0000040000000001,
          "frequency_final": 1.000001,
          "frequency_other": 1.0000040000000001,
          "observed_growth_rate": 0.9999970000119998,
          "projected_frequency": 0.9999999999999999,
          "timepoint": "2014-04-01T00:00:00",
          "year": 2014
         },
         {
          "clade_membership": "048f8ca",
          "estimated_growth_rate": 0.9999960000159998,
          "frequency": 1.0000040000000001,
          "frequency_final": 1.000001,
          "frequency_other": 1.0000040000000001,
          "observed_growth_rate": 0.9999970000119998,
          "projected_frequency": 0.9999999999999999,
          "timepoint": "2014-04-01T00:00:00",
          "year": 2014
         },
         {
          "clade_membership": "05daa66",
          "estimated_growth_rate": 1.0000069799908755,
          "frequency": 0.9999930000000001,
          "frequency_final": 1.000001,
          "frequency_other": 0.9999930000000001,
          "observed_growth_rate": 1.000008000056,
          "projected_frequency": 0.9999999799420157,
          "timepoint": "2014-04-01T00:00:00",
          "year": 2014
         },
         {
          "clade_membership": "09e68a2",
          "estimated_growth_rate": 0.9999960000159998,
          "frequency": 1.0000040000000001,
          "frequency_final": 1.000001,
          "frequency_other": 1.0000040000000001,
          "observed_growth_rate": 0.9999970000119998,
          "projected_frequency": 0.9999999999999999,
          "timepoint": "2014-04-01T00:00:00",
          "year": 2014
         },
         {
          "clade_membership": "1a16e36",
          "estimated_growth_rate": 1.072506167965931,
          "frequency": 0.5424239999999998,
          "frequency_final": 0.17927199999999996,
          "frequency_other": 0.5424239999999998,
          "observed_growth_rate": 0.3305016002241789,
          "projected_frequency": 0.5817530856527519,
          "timepoint": "2014-04-01T00:00:00",
          "year": 2014
         },
         {
          "clade_membership": "35491c6",
          "estimated_growth_rate": 0.9999960000159998,
          "frequency": 1.0000040000000001,
          "frequency_final": 1.000001,
          "frequency_other": 1.0000040000000001,
          "observed_growth_rate": 0.9999970000119998,
          "projected_frequency": 0.9999999999999999,
          "timepoint": "2014-04-01T00:00:00",
          "year": 2014
         },
         {
          "clade_membership": "38da78c",
          "estimated_growth_rate": 1.0029754179206427,
          "frequency": 0.997028,
          "frequency_final": 1.000001,
          "frequency_other": 0.997028,
          "observed_growth_rate": 1.0029818620941438,
          "projected_frequency": 0.9999945749785826,
          "timepoint": "2014-04-01T00:00:00",
          "year": 2014
         },
         {
          "clade_membership": "3a81d99",
          "estimated_growth_rate": 0.9999960000159998,
          "frequency": 1.0000040000000001,
          "frequency_final": 1.000001,
          "frequency_other": 1.0000040000000001,
          "observed_growth_rate": 0.9999970000119998,
          "projected_frequency": 0.9999999999999999,
          "timepoint": "2014-04-01T00:00:00",
          "year": 2014
         },
         {
          "clade_membership": "3c0baec",
          "estimated_growth_rate": 0.9999960000159998,
          "frequency": 1.0000040000000001,
          "frequency_final": 1.000001,
          "frequency_other": 1.0000040000000001,
          "observed_growth_rate": 0.9999970000119998,
          "projected_frequency": 0.9999999999999999,
          "timepoint": "2014-04-01T00:00:00",
          "year": 2014
         },
         {
          "clade_membership": "412c00a",
          "estimated_growth_rate": 0.9999960000159998,
          "frequency": 1.0000040000000001,
          "frequency_final": 1.000001,
          "frequency_other": 1.0000040000000001,
          "observed_growth_rate": 0.9999970000119998,
          "projected_frequency": 0.9999999999999999,
          "timepoint": "2014-04-01T00:00:00",
          "year": 2014
         },
         {
          "clade_membership": "41bb3e2",
          "estimated_growth_rate": 0.9999960000159998,
          "frequency": 1.0000040000000001,
          "frequency_final": 1.000001,
          "frequency_other": 1.0000040000000001,
          "observed_growth_rate": 0.9999970000119998,
          "projected_frequency": 0.9999999999999999,
          "timepoint": "2014-04-01T00:00:00",
          "year": 2014
         },
         {
          "clade_membership": "44989e1",
          "estimated_growth_rate": 0.9999960000159998,
          "frequency": 1.0000040000000001,
          "frequency_final": 1.000001,
          "frequency_other": 1.0000040000000001,
          "observed_growth_rate": 0.9999970000119998,
          "projected_frequency": 0.9999999999999999,
          "timepoint": "2014-04-01T00:00:00",
          "year": 2014
         },
         {
          "clade_membership": "4952842",
          "estimated_growth_rate": 0.9999960000159998,
          "frequency": 1.0000040000000001,
          "frequency_final": 1.000001,
          "frequency_other": 1.0000040000000001,
          "observed_growth_rate": 0.9999970000119998,
          "projected_frequency": 0.9999999999999999,
          "timepoint": "2014-04-01T00:00:00",
          "year": 2014
         },
         {
          "clade_membership": "4ff1302",
          "estimated_growth_rate": 0.9999960000159998,
          "frequency": 1.0000040000000001,
          "frequency_final": 1.000001,
          "frequency_other": 1.0000040000000001,
          "observed_growth_rate": 0.9999970000119998,
          "projected_frequency": 0.9999999999999999,
          "timepoint": "2014-04-01T00:00:00",
          "year": 2014
         },
         {
          "clade_membership": "5d01a6e",
          "estimated_growth_rate": 0.9999960000159998,
          "frequency": 1.0000040000000001,
          "frequency_final": 1.000001,
          "frequency_other": 1.0000040000000001,
          "observed_growth_rate": 0.9999970000119998,
          "projected_frequency": 0.9999999999999999,
          "timepoint": "2014-04-01T00:00:00",
          "year": 2014
         },
         {
          "clade_membership": "6335574",
          "estimated_growth_rate": 0.9999960000159998,
          "frequency": 1.0000040000000001,
          "frequency_final": 1.000001,
          "frequency_other": 1.0000040000000001,
          "observed_growth_rate": 0.9999970000119998,
          "projected_frequency": 0.9999999999999999,
          "timepoint": "2014-04-01T00:00:00",
          "year": 2014
         },
         {
          "clade_membership": "66a66dd",
          "estimated_growth_rate": 1.2454170946030594,
          "frequency": 0.7455489999999998,
          "frequency_final": 0.47790299999999986,
          "frequency_other": 0.7455489999999998,
          "observed_growth_rate": 0.6410081698184827,
          "projected_frequency": 0.928519469464216,
          "timepoint": "2014-04-01T00:00:00",
          "year": 2014
         },
         {
          "clade_membership": "6b0ee12",
          "estimated_growth_rate": 0.9999960000159998,
          "frequency": 1.0000040000000001,
          "frequency_final": 1.000001,
          "frequency_other": 1.0000040000000001,
          "observed_growth_rate": 0.9999970000119998,
          "projected_frequency": 0.9999999999999999,
          "timepoint": "2014-04-01T00:00:00",
          "year": 2014
         },
         {
          "clade_membership": "6c1138e",
          "estimated_growth_rate": 1.0029754179206427,
          "frequency": 0.997028,
          "frequency_final": 1.000001,
          "frequency_other": 0.997028,
          "observed_growth_rate": 1.0029818620941438,
          "projected_frequency": 0.9999945749785826,
          "timepoint": "2014-04-01T00:00:00",
          "year": 2014
         },
         {
          "clade_membership": "7a8b37b",
          "estimated_growth_rate": 0.8939057514525829,
          "frequency": 0.314685,
          "frequency_final": 0.173262,
          "frequency_other": 0.31468500000000005,
          "observed_growth_rate": 0.5505886839220173,
          "projected_frequency": 0.28129873139585604,
          "timepoint": "2014-04-01T00:00:00",
          "year": 2014
         },
         {
          "clade_membership": "7aa732d",
          "estimated_growth_rate": 0.9999960000159998,
          "frequency": 1.0000040000000001,
          "frequency_final": 1.000001,
          "frequency_other": 1.0000040000000001,
          "observed_growth_rate": 0.9999970000119998,
          "projected_frequency": 0.9999999999999999,
          "timepoint": "2014-04-01T00:00:00",
          "year": 2014
         },
         {
          "clade_membership": "7fba9ff",
          "estimated_growth_rate": 1.0000069799908755,
          "frequency": 0.9999930000000001,
          "frequency_final": 1.000001,
          "frequency_other": 0.9999930000000001,
          "observed_growth_rate": 1.000008000056,
          "projected_frequency": 0.9999999799420157,
          "timepoint": "2014-04-01T00:00:00",
          "year": 2014
         },
         {
          "clade_membership": "88299f7",
          "estimated_growth_rate": 1.0000069799908755,
          "frequency": 0.9999930000000001,
          "frequency_final": 1.000001,
          "frequency_other": 0.9999930000000001,
          "observed_growth_rate": 1.000008000056,
          "projected_frequency": 0.9999999799420157,
          "timepoint": "2014-04-01T00:00:00",
          "year": 2014
         },
         {
          "clade_membership": "88dab64",
          "estimated_growth_rate": 0.9999960000159998,
          "frequency": 1.0000040000000001,
          "frequency_final": 1.000001,
          "frequency_other": 1.0000040000000001,
          "observed_growth_rate": 0.9999970000119998,
          "projected_frequency": 0.9999999999999999,
          "timepoint": "2014-04-01T00:00:00",
          "year": 2014
         },
         {
          "clade_membership": "8aaed0b",
          "estimated_growth_rate": 1.0029754179206427,
          "frequency": 0.997028,
          "frequency_final": 1.000001,
          "frequency_other": 0.997028,
          "observed_growth_rate": 1.0029818620941438,
          "projected_frequency": 0.9999945749785826,
          "timepoint": "2014-04-01T00:00:00",
          "year": 2014
         },
         {
          "clade_membership": "8d4351f",
          "estimated_growth_rate": 1.2454170946030594,
          "frequency": 0.7455489999999998,
          "frequency_final": 0,
          "frequency_other": 0.7455489999999998,
          "observed_growth_rate": 0,
          "projected_frequency": 0.928519469464216,
          "timepoint": "2014-04-01T00:00:00",
          "year": 2014
         },
         {
          "clade_membership": "91769ce",
          "estimated_growth_rate": 0.9999960000159998,
          "frequency": 1.0000040000000001,
          "frequency_final": 1.000001,
          "frequency_other": 1.0000040000000001,
          "observed_growth_rate": 0.9999970000119998,
          "projected_frequency": 0.9999999999999999,
          "timepoint": "2014-04-01T00:00:00",
          "year": 2014
         },
         {
          "clade_membership": "956f201",
          "estimated_growth_rate": 1.0000069799908755,
          "frequency": 0.9999930000000001,
          "frequency_final": 1.000001,
          "frequency_other": 0.9999930000000001,
          "observed_growth_rate": 1.000008000056,
          "projected_frequency": 0.9999999799420157,
          "timepoint": "2014-04-01T00:00:00",
          "year": 2014
         },
         {
          "clade_membership": "98c068a",
          "estimated_growth_rate": 0.9999960000159998,
          "frequency": 1.0000040000000001,
          "frequency_final": 1.000001,
          "frequency_other": 1.0000040000000001,
          "observed_growth_rate": 0.9999970000119998,
          "projected_frequency": 0.9999999999999999,
          "timepoint": "2014-04-01T00:00:00",
          "year": 2014
         },
         {
          "clade_membership": "9a3ff5d",
          "estimated_growth_rate": 0.9999960000159998,
          "frequency": 1.0000040000000001,
          "frequency_final": 1.000001,
          "frequency_other": 1.0000040000000001,
          "observed_growth_rate": 0.9999970000119998,
          "projected_frequency": 0.9999999999999999,
          "timepoint": "2014-04-01T00:00:00",
          "year": 2014
         },
         {
          "clade_membership": "9b04f13",
          "estimated_growth_rate": 0.9999960000159998,
          "frequency": 1.0000040000000001,
          "frequency_final": 1.000001,
          "frequency_other": 1.0000040000000001,
          "observed_growth_rate": 0.9999970000119998,
          "projected_frequency": 0.9999999999999999,
          "timepoint": "2014-04-01T00:00:00",
          "year": 2014
         },
         {
          "clade_membership": "a229f16",
          "estimated_growth_rate": 1.0029754179206427,
          "frequency": 0.997028,
          "frequency_final": 1.000001,
          "frequency_other": 0.997028,
          "observed_growth_rate": 1.0029818620941438,
          "projected_frequency": 0.9999945749785826,
          "timepoint": "2014-04-01T00:00:00",
          "year": 2014
         },
         {
          "clade_membership": "a5bcb4f",
          "estimated_growth_rate": 0.9999960000159998,
          "frequency": 1.0000040000000001,
          "frequency_final": 1.000001,
          "frequency_other": 1.0000040000000001,
          "observed_growth_rate": 0.9999970000119998,
          "projected_frequency": 0.9999999999999999,
          "timepoint": "2014-04-01T00:00:00",
          "year": 2014
         },
         {
          "clade_membership": "a8f54a9",
          "estimated_growth_rate": 0.9999960000159998,
          "frequency": 1.0000040000000001,
          "frequency_final": 1.000001,
          "frequency_other": 1.0000040000000001,
          "observed_growth_rate": 0.9999970000119998,
          "projected_frequency": 0.9999999999999999,
          "timepoint": "2014-04-01T00:00:00",
          "year": 2014
         },
         {
          "clade_membership": "aab80f6",
          "estimated_growth_rate": 0.9999960000159998,
          "frequency": 1.0000040000000001,
          "frequency_final": 1.000001,
          "frequency_other": 1.0000040000000001,
          "observed_growth_rate": 0.9999970000119998,
          "projected_frequency": 0.9999999999999999,
          "timepoint": "2014-04-01T00:00:00",
          "year": 2014
         },
         {
          "clade_membership": "b32cea9",
          "estimated_growth_rate": 0.9999960000159998,
          "frequency": 1.0000040000000001,
          "frequency_final": 1.000001,
          "frequency_other": 1.0000040000000001,
          "observed_growth_rate": 0.9999970000119998,
          "projected_frequency": 0.9999999999999999,
          "timepoint": "2014-04-01T00:00:00",
          "year": 2014
         },
         {
          "clade_membership": "c16a08d",
          "estimated_growth_rate": 0.9999960000159998,
          "frequency": 1.0000040000000001,
          "frequency_final": 1.000001,
          "frequency_other": 1.0000040000000001,
          "observed_growth_rate": 0.9999970000119998,
          "projected_frequency": 0.9999999999999999,
          "timepoint": "2014-04-01T00:00:00",
          "year": 2014
         },
         {
          "clade_membership": "d6906cf",
          "estimated_growth_rate": 0.9999960000159998,
          "frequency": 1.0000040000000001,
          "frequency_final": 1.000001,
          "frequency_other": 1.0000040000000001,
          "observed_growth_rate": 0.9999970000119998,
          "projected_frequency": 0.9999999999999999,
          "timepoint": "2014-04-01T00:00:00",
          "year": 2014
         },
         {
          "clade_membership": "dcc21f5",
          "estimated_growth_rate": 1.4441647061495662,
          "frequency": 0.152881,
          "frequency_final": 0,
          "frequency_other": 0.152881,
          "observed_growth_rate": 0,
          "projected_frequency": 0.2207853444408518,
          "timepoint": "2014-04-01T00:00:00",
          "year": 2014
         },
         {
          "clade_membership": "e2f3876",
          "estimated_growth_rate": 0.9999960000159998,
          "frequency": 1.0000040000000001,
          "frequency_final": 1.000001,
          "frequency_other": 1.0000040000000001,
          "observed_growth_rate": 0.9999970000119998,
          "projected_frequency": 0.9999999999999999,
          "timepoint": "2014-04-01T00:00:00",
          "year": 2014
         },
         {
          "clade_membership": "e501908",
          "estimated_growth_rate": 0.9999960000159998,
          "frequency": 1.0000040000000001,
          "frequency_final": 1.000001,
          "frequency_other": 1.0000040000000001,
          "observed_growth_rate": 0.9999970000119998,
          "projected_frequency": 0.9999999999999999,
          "timepoint": "2014-04-01T00:00:00",
          "year": 2014
         },
         {
          "clade_membership": "e64cc68",
          "estimated_growth_rate": 0.9999960000159998,
          "frequency": 1.0000040000000001,
          "frequency_final": 1.000001,
          "frequency_other": 1.0000040000000001,
          "observed_growth_rate": 0.9999970000119998,
          "projected_frequency": 0.9999999999999999,
          "timepoint": "2014-04-01T00:00:00",
          "year": 2014
         },
         {
          "clade_membership": "ecf49fd",
          "estimated_growth_rate": 0.9999960000159998,
          "frequency": 1.0000040000000001,
          "frequency_final": 1.000001,
          "frequency_other": 1.0000040000000001,
          "observed_growth_rate": 0.9999970000119998,
          "projected_frequency": 0.9999999999999999,
          "timepoint": "2014-04-01T00:00:00",
          "year": 2014
         },
         {
          "clade_membership": "f2ec31a",
          "estimated_growth_rate": 1.0029754179206427,
          "frequency": 0.997028,
          "frequency_final": 1.000001,
          "frequency_other": 0.997028,
          "observed_growth_rate": 1.0029818620941438,
          "projected_frequency": 0.9999945749785826,
          "timepoint": "2014-04-01T00:00:00",
          "year": 2014
         },
         {
          "clade_membership": "f3f16af",
          "estimated_growth_rate": 0.9999960000159998,
          "frequency": 1.0000040000000001,
          "frequency_final": 1.000001,
          "frequency_other": 1.0000040000000001,
          "observed_growth_rate": 0.9999970000119998,
          "projected_frequency": 0.9999999999999999,
          "timepoint": "2014-04-01T00:00:00",
          "year": 2014
         },
         {
          "clade_membership": "fd5608c",
          "estimated_growth_rate": 0.9999960000159998,
          "frequency": 1.0000040000000001,
          "frequency_final": 1.000001,
          "frequency_other": 1.0000040000000001,
          "observed_growth_rate": 0.9999970000119998,
          "projected_frequency": 0.9999999999999999,
          "timepoint": "2014-04-01T00:00:00",
          "year": 2014
         },
         {
          "clade_membership": "root",
          "estimated_growth_rate": 0.9999960000159998,
          "frequency": 1.0000040000000001,
          "frequency_final": 1.000001,
          "frequency_other": 1.0000040000000001,
          "observed_growth_rate": 0.9999970000119998,
          "projected_frequency": 0.9999999999999999,
          "timepoint": "2014-04-01T00:00:00",
          "year": 2014
         },
         {
          "clade_membership": "0165eeb",
          "estimated_growth_rate": 0.08306177086453986,
          "frequency": 0.201301,
          "frequency_final": 0.8551749999999995,
          "frequency_other": 0.201301,
          "observed_growth_rate": 4.248240197515161,
          "projected_frequency": 0.01672041753680274,
          "timepoint": "2014-10-01T00:00:00",
          "year": 2014
         },
         {
          "clade_membership": "02e323e",
          "estimated_growth_rate": 1.0000130001690029,
          "frequency": 0.9999869999999996,
          "frequency_final": 0.9999909999999997,
          "frequency_other": 0.9999869999999996,
          "observed_growth_rate": 1.0000040000520007,
          "projected_frequency": 1.0000000000000002,
          "timepoint": "2014-10-01T00:00:00",
          "year": 2014
         },
         {
          "clade_membership": "048f8ca",
          "estimated_growth_rate": 1.0000130001690029,
          "frequency": 0.9999869999999996,
          "frequency_final": 0.9999909999999997,
          "frequency_other": 0.9999869999999996,
          "observed_growth_rate": 1.0000040000520007,
          "projected_frequency": 1.0000000000000002,
          "timepoint": "2014-10-01T00:00:00",
          "year": 2014
         },
         {
          "clade_membership": "050242e",
          "estimated_growth_rate": 1.0000130001690029,
          "frequency": 0.9999869999999996,
          "frequency_final": 0,
          "frequency_other": 0.9999869999999996,
          "observed_growth_rate": 0,
          "projected_frequency": 1.0000000000000002,
          "timepoint": "2014-10-01T00:00:00",
          "year": 2014
         },
         {
          "clade_membership": "05daa66",
          "estimated_growth_rate": 1.0000130001690029,
          "frequency": 0.9999869999999996,
          "frequency_final": 0.9999909999999997,
          "frequency_other": 0.9999869999999996,
          "observed_growth_rate": 1.0000040000520007,
          "projected_frequency": 1.0000000000000002,
          "timepoint": "2014-10-01T00:00:00",
          "year": 2014
         },
         {
          "clade_membership": "09e68a2",
          "estimated_growth_rate": 1.0000130001690029,
          "frequency": 0.9999869999999996,
          "frequency_final": 0.9999909999999997,
          "frequency_other": 0.9999869999999996,
          "observed_growth_rate": 1.0000040000520007,
          "projected_frequency": 1.0000000000000002,
          "timepoint": "2014-10-01T00:00:00",
          "year": 2014
         },
         {
          "clade_membership": "1a16e36",
          "estimated_growth_rate": 1.3855213656898362,
          "frequency": 0.7081299999999996,
          "frequency_final": 0.093198,
          "frequency_other": 0.7081299999999996,
          "observed_growth_rate": 0.13161142728030173,
          "projected_frequency": 0.9811292446859432,
          "timepoint": "2014-10-01T00:00:00",
          "year": 2014
         },
         {
          "clade_membership": "2182cdd",
          "estimated_growth_rate": 2.362576613600143,
          "frequency": 0.4099,
          "frequency_final": 0,
          "frequency_other": 0.4099,
          "observed_growth_rate": 0,
          "projected_frequency": 0.9684201539146986,
          "timepoint": "2014-10-01T00:00:00",
          "year": 2014
         },
         {
          "clade_membership": "35491c6",
          "estimated_growth_rate": 1.0000130001690029,
          "frequency": 0.9999869999999996,
          "frequency_final": 0.9999909999999997,
          "frequency_other": 0.9999869999999996,
          "observed_growth_rate": 1.0000040000520007,
          "projected_frequency": 1.0000000000000002,
          "timepoint": "2014-10-01T00:00:00",
          "year": 2014
         },
         {
          "clade_membership": "38da78c",
          "estimated_growth_rate": 1.0000130001690029,
          "frequency": 0.9999869999999996,
          "frequency_final": 0.9999909999999997,
          "frequency_other": 0.9999869999999996,
          "observed_growth_rate": 1.0000040000520007,
          "projected_frequency": 1.0000000000000002,
          "timepoint": "2014-10-01T00:00:00",
          "year": 2014
         },
         {
          "clade_membership": "3a81d99",
          "estimated_growth_rate": 1.0000130001690029,
          "frequency": 0.9999869999999996,
          "frequency_final": 0.9999909999999997,
          "frequency_other": 0.9999869999999996,
          "observed_growth_rate": 1.0000040000520007,
          "projected_frequency": 1.0000000000000002,
          "timepoint": "2014-10-01T00:00:00",
          "year": 2014
         },
         {
          "clade_membership": "3c0baec",
          "estimated_growth_rate": 1.0000130001690029,
          "frequency": 0.9999869999999996,
          "frequency_final": 0,
          "frequency_other": 0.9999869999999996,
          "observed_growth_rate": 0,
          "projected_frequency": 1.0000000000000002,
          "timepoint": "2014-10-01T00:00:00",
          "year": 2014
         },
         {
          "clade_membership": "412c00a",
          "estimated_growth_rate": 1.0000130001690029,
          "frequency": 0.9999869999999996,
          "frequency_final": 0,
          "frequency_other": 0.9999869999999996,
          "observed_growth_rate": 0,
          "projected_frequency": 1.0000000000000002,
          "timepoint": "2014-10-01T00:00:00",
          "year": 2014
         },
         {
          "clade_membership": "41bb3e2",
          "estimated_growth_rate": 1.0000130001690029,
          "frequency": 0.9999869999999996,
          "frequency_final": 0.9999909999999997,
          "frequency_other": 0.9999869999999996,
          "observed_growth_rate": 1.0000040000520007,
          "projected_frequency": 1.0000000000000002,
          "timepoint": "2014-10-01T00:00:00",
          "year": 2014
         },
         {
          "clade_membership": "44989e1",
          "estimated_growth_rate": 1.0000130001690029,
          "frequency": 0.9999869999999996,
          "frequency_final": 0.9999909999999997,
          "frequency_other": 0.9999869999999996,
          "observed_growth_rate": 1.0000040000520007,
          "projected_frequency": 1.0000000000000002,
          "timepoint": "2014-10-01T00:00:00",
          "year": 2014
         },
         {
          "clade_membership": "4952842",
          "estimated_growth_rate": 1.0000130001690029,
          "frequency": 0.9999869999999996,
          "frequency_final": 0.9999909999999997,
          "frequency_other": 0.9999869999999996,
          "observed_growth_rate": 1.0000040000520007,
          "projected_frequency": 1.0000000000000002,
          "timepoint": "2014-10-01T00:00:00",
          "year": 2014
         },
         {
          "clade_membership": "4e35443",
          "estimated_growth_rate": 1.0000130001690029,
          "frequency": 0.9999869999999996,
          "frequency_final": 0.9999909999999997,
          "frequency_other": 0.9999869999999996,
          "observed_growth_rate": 1.0000040000520007,
          "projected_frequency": 1.0000000000000002,
          "timepoint": "2014-10-01T00:00:00",
          "year": 2014
         },
         {
          "clade_membership": "4ff1302",
          "estimated_growth_rate": 1.0000130001690029,
          "frequency": 0.9999869999999996,
          "frequency_final": 0,
          "frequency_other": 0.9999869999999996,
          "observed_growth_rate": 0,
          "projected_frequency": 1.0000000000000002,
          "timepoint": "2014-10-01T00:00:00",
          "year": 2014
         },
         {
          "clade_membership": "6335574",
          "estimated_growth_rate": 1.0000130001690029,
          "frequency": 0.9999869999999996,
          "frequency_final": 0.9999909999999997,
          "frequency_other": 0.9999869999999996,
          "observed_growth_rate": 1.0000040000520007,
          "projected_frequency": 1.0000000000000002,
          "timepoint": "2014-10-01T00:00:00",
          "year": 2014
         },
         {
          "clade_membership": "66a66dd",
          "estimated_growth_rate": 1.231678676273268,
          "frequency": 0.7983209999999995,
          "frequency_final": 0.14481600000000003,
          "frequency_other": 0.7983209999999995,
          "observed_growth_rate": 0.18140071475008188,
          "projected_frequency": 0.983274952521151,
          "timepoint": "2014-10-01T00:00:00",
          "year": 2014
         },
         {
          "clade_membership": "6b0ee12",
          "estimated_growth_rate": 1.0000130001690029,
          "frequency": 0.9999869999999996,
          "frequency_final": 0,
          "frequency_other": 0.9999869999999996,
          "observed_growth_rate": 0,
          "projected_frequency": 1.0000000000000002,
          "timepoint": "2014-10-01T00:00:00",
          "year": 2014
         },
         {
          "clade_membership": "6c1138e",
          "estimated_growth_rate": 1.0000130001690029,
          "frequency": 0.9999869999999996,
          "frequency_final": 0.9999909999999997,
          "frequency_other": 0.9999869999999996,
          "observed_growth_rate": 1.0000040000520007,
          "projected_frequency": 1.0000000000000002,
          "timepoint": "2014-10-01T00:00:00",
          "year": 2014
         },
         {
          "clade_membership": "7a8b37b",
          "estimated_growth_rate": 0.051863562665567395,
          "frequency": 0.21462,
          "frequency_final": 0.093196,
          "frequency_other": 0.21462,
          "observed_growth_rate": 0.4342372565464542,
          "projected_frequency": 0.011130957819284075,
          "timepoint": "2014-10-01T00:00:00",
          "year": 2014
         },
         {
          "clade_membership": "7aa732d",
          "estimated_growth_rate": 1.0000130001690029,
          "frequency": 0.9999869999999996,
          "frequency_final": 0.9999909999999997,
          "frequency_other": 0.9999869999999996,
          "observed_growth_rate": 1.0000040000520007,
          "projected_frequency": 1.0000000000000002,
          "timepoint": "2014-10-01T00:00:00",
          "year": 2014
         },
         {
          "clade_membership": "7fba9ff",
          "estimated_growth_rate": 1.0000130001690029,
          "frequency": 0.9999869999999996,
          "frequency_final": 0,
          "frequency_other": 0.9999869999999996,
          "observed_growth_rate": 0,
          "projected_frequency": 1.0000000000000002,
          "timepoint": "2014-10-01T00:00:00",
          "year": 2014
         },
         {
          "clade_membership": "80897ab",
          "estimated_growth_rate": 2.400667616160314,
          "frequency": 0.403345,
          "frequency_final": 0.013746000000000001,
          "frequency_other": 0.403345,
          "observed_growth_rate": 0.03408000595024111,
          "projected_frequency": 0.968297279640182,
          "timepoint": "2014-10-01T00:00:00",
          "year": 2014
         },
         {
          "clade_membership": "80f959a",
          "estimated_growth_rate": 0.10148485041214653,
          "frequency": 0.15652200000000002,
          "frequency_final": 0.8551749999999995,
          "frequency_other": 0.15652200000000002,
          "observed_growth_rate": 5.463608949540635,
          "projected_frequency": 0.01588461175621,
          "timepoint": "2014-10-01T00:00:00",
          "year": 2014
         },
         {
          "clade_membership": "8386d16",
          "estimated_growth_rate": 1.0000130001690029,
          "frequency": 0.9999869999999996,
          "frequency_final": 0.9999909999999997,
          "frequency_other": 0.9999869999999996,
          "observed_growth_rate": 1.0000040000520007,
          "projected_frequency": 1.0000000000000002,
          "timepoint": "2014-10-01T00:00:00",
          "year": 2014
         },
         {
          "clade_membership": "8517059",
          "estimated_growth_rate": 1.0000130001690029,
          "frequency": 0.9999869999999996,
          "frequency_final": 0.9999909999999997,
          "frequency_other": 0.9999869999999996,
          "observed_growth_rate": 1.0000040000520007,
          "projected_frequency": 1.0000000000000002,
          "timepoint": "2014-10-01T00:00:00",
          "year": 2014
         },
         {
          "clade_membership": "85356dd",
          "estimated_growth_rate": 1.0000130001690029,
          "frequency": 0.9999869999999996,
          "frequency_final": 0.9999909999999997,
          "frequency_other": 0.9999869999999996,
          "observed_growth_rate": 1.0000040000520007,
          "projected_frequency": 1.0000000000000002,
          "timepoint": "2014-10-01T00:00:00",
          "year": 2014
         },
         {
          "clade_membership": "88299f7",
          "estimated_growth_rate": 1.0000130001690029,
          "frequency": 0.9999869999999996,
          "frequency_final": 0,
          "frequency_other": 0.9999869999999996,
          "observed_growth_rate": 0,
          "projected_frequency": 1.0000000000000002,
          "timepoint": "2014-10-01T00:00:00",
          "year": 2014
         },
         {
          "clade_membership": "88dab64",
          "estimated_growth_rate": 1.0000130001690029,
          "frequency": 0.9999869999999996,
          "frequency_final": 0.9999909999999997,
          "frequency_other": 0.9999869999999996,
          "observed_growth_rate": 1.0000040000520007,
          "projected_frequency": 1.0000000000000002,
          "timepoint": "2014-10-01T00:00:00",
          "year": 2014
         },
         {
          "clade_membership": "8aaed0b",
          "estimated_growth_rate": 1.0000130001690029,
          "frequency": 0.9999869999999996,
          "frequency_final": 0.9999909999999997,
          "frequency_other": 0.9999869999999996,
          "observed_growth_rate": 1.0000040000520007,
          "projected_frequency": 1.0000000000000002,
          "timepoint": "2014-10-01T00:00:00",
          "year": 2014
         },
         {
          "clade_membership": "8d4351f",
          "estimated_growth_rate": 1.231678676273268,
          "frequency": 0.7983209999999995,
          "frequency_final": 0.14481600000000003,
          "frequency_other": 0.7983209999999995,
          "observed_growth_rate": 0.18140071475008188,
          "projected_frequency": 0.983274952521151,
          "timepoint": "2014-10-01T00:00:00",
          "year": 2014
         },
         {
          "clade_membership": "91769ce",
          "estimated_growth_rate": 1.0000130001690029,
          "frequency": 0.9999869999999996,
          "frequency_final": 0.9999909999999997,
          "frequency_other": 0.9999869999999996,
          "observed_growth_rate": 1.0000040000520007,
          "projected_frequency": 1.0000000000000002,
          "timepoint": "2014-10-01T00:00:00",
          "year": 2014
         },
         {
          "clade_membership": "934e1c1",
          "estimated_growth_rate": 0.10148485041214653,
          "frequency": 0.15652200000000002,
          "frequency_final": 0,
          "frequency_other": 0.15652200000000002,
          "observed_growth_rate": 0,
          "projected_frequency": 0.01588461175621,
          "timepoint": "2014-10-01T00:00:00",
          "year": 2014
         },
         {
          "clade_membership": "956f201",
          "estimated_growth_rate": 1.0000130001690029,
          "frequency": 0.9999869999999996,
          "frequency_final": 0.9999909999999997,
          "frequency_other": 0.9999869999999996,
          "observed_growth_rate": 1.0000040000520007,
          "projected_frequency": 1.0000000000000002,
          "timepoint": "2014-10-01T00:00:00",
          "year": 2014
         },
         {
          "clade_membership": "98c068a",
          "estimated_growth_rate": 1.0000130001690029,
          "frequency": 0.9999869999999996,
          "frequency_final": 0.9999909999999997,
          "frequency_other": 0.9999869999999996,
          "observed_growth_rate": 1.0000040000520007,
          "projected_frequency": 1.0000000000000002,
          "timepoint": "2014-10-01T00:00:00",
          "year": 2014
         },
         {
          "clade_membership": "9a3ff5d",
          "estimated_growth_rate": 1.0000130001690029,
          "frequency": 0.9999869999999996,
          "frequency_final": 0.9999909999999997,
          "frequency_other": 0.9999869999999996,
          "observed_growth_rate": 1.0000040000520007,
          "projected_frequency": 1.0000000000000002,
          "timepoint": "2014-10-01T00:00:00",
          "year": 2014
         },
         {
          "clade_membership": "9b04f13",
          "estimated_growth_rate": 1.0000130001690029,
          "frequency": 0.9999869999999996,
          "frequency_final": 0.9999909999999997,
          "frequency_other": 0.9999869999999996,
          "observed_growth_rate": 1.0000040000520007,
          "projected_frequency": 1.0000000000000002,
          "timepoint": "2014-10-01T00:00:00",
          "year": 2014
         },
         {
          "clade_membership": "a229f16",
          "estimated_growth_rate": 1.0003735112452048,
          "frequency": 0.9996219999999997,
          "frequency_final": 0.9999909999999997,
          "frequency_other": 0.9996219999999997,
          "observed_growth_rate": 1.0003691395347443,
          "projected_frequency": 0.9999953700579538,
          "timepoint": "2014-10-01T00:00:00",
          "year": 2014
         },
         {
          "clade_membership": "a5bcb4f",
          "estimated_growth_rate": 1.0000130001690029,
          "frequency": 0.9999869999999996,
          "frequency_final": 0.9999909999999997,
          "frequency_other": 0.9999869999999996,
          "observed_growth_rate": 1.0000040000520007,
          "projected_frequency": 1.0000000000000002,
          "timepoint": "2014-10-01T00:00:00",
          "year": 2014
         },
         {
          "clade_membership": "aab80f6",
          "estimated_growth_rate": 1.0000130001690029,
          "frequency": 0.9999869999999996,
          "frequency_final": 0.9999909999999997,
          "frequency_other": 0.9999869999999996,
          "observed_growth_rate": 1.0000040000520007,
          "projected_frequency": 1.0000000000000002,
          "timepoint": "2014-10-01T00:00:00",
          "year": 2014
         },
         {
          "clade_membership": "b32cea9",
          "estimated_growth_rate": 1.0000130001690029,
          "frequency": 0.9999869999999996,
          "frequency_final": 0,
          "frequency_other": 0.9999869999999996,
          "observed_growth_rate": 0,
          "projected_frequency": 1.0000000000000002,
          "timepoint": "2014-10-01T00:00:00",
          "year": 2014
         },
         {
          "clade_membership": "c16a08d",
          "estimated_growth_rate": 1.0000130001690029,
          "frequency": 0.9999869999999996,
          "frequency_final": 0.9999909999999997,
          "frequency_other": 0.9999869999999996,
          "observed_growth_rate": 1.0000040000520007,
          "projected_frequency": 1.0000000000000002,
          "timepoint": "2014-10-01T00:00:00",
          "year": 2014
         },
         {
          "clade_membership": "d6906cf",
          "estimated_growth_rate": 1.0000130001690029,
          "frequency": 0.9999869999999996,
          "frequency_final": 0.9999909999999997,
          "frequency_other": 0.9999869999999996,
          "observed_growth_rate": 1.0000040000520007,
          "projected_frequency": 1.0000000000000002,
          "timepoint": "2014-10-01T00:00:00",
          "year": 2014
         },
         {
          "clade_membership": "e2f3876",
          "estimated_growth_rate": 1.0000130001690029,
          "frequency": 0.9999869999999996,
          "frequency_final": 0.9999909999999997,
          "frequency_other": 0.9999869999999996,
          "observed_growth_rate": 1.0000040000520007,
          "projected_frequency": 1.0000000000000002,
          "timepoint": "2014-10-01T00:00:00",
          "year": 2014
         },
         {
          "clade_membership": "e501908",
          "estimated_growth_rate": 1.0000130001690029,
          "frequency": 0.9999869999999996,
          "frequency_final": 0.9999909999999997,
          "frequency_other": 0.9999869999999996,
          "observed_growth_rate": 1.0000040000520007,
          "projected_frequency": 1.0000000000000002,
          "timepoint": "2014-10-01T00:00:00",
          "year": 2014
         },
         {
          "clade_membership": "e64cc68",
          "estimated_growth_rate": 1.0000130001690029,
          "frequency": 0.9999869999999996,
          "frequency_final": 0.9999909999999997,
          "frequency_other": 0.9999869999999996,
          "observed_growth_rate": 1.0000040000520007,
          "projected_frequency": 1.0000000000000002,
          "timepoint": "2014-10-01T00:00:00",
          "year": 2014
         },
         {
          "clade_membership": "ecf49fd",
          "estimated_growth_rate": 1.0000130001690029,
          "frequency": 0.9999869999999996,
          "frequency_final": 0.9999909999999997,
          "frequency_other": 0.9999869999999996,
          "observed_growth_rate": 1.0000040000520007,
          "projected_frequency": 1.0000000000000002,
          "timepoint": "2014-10-01T00:00:00",
          "year": 2014
         },
         {
          "clade_membership": "f14fabc",
          "estimated_growth_rate": 0.09658504718065479,
          "frequency": 0.16719400000000004,
          "frequency_final": 0.8551749999999995,
          "frequency_other": 0.16719400000000004,
          "observed_growth_rate": 5.114866562197204,
          "projected_frequency": 0.0161484403783224,
          "timepoint": "2014-10-01T00:00:00",
          "year": 2014
         },
         {
          "clade_membership": "f2ec31a",
          "estimated_growth_rate": 1.0000130001690029,
          "frequency": 0.9999869999999996,
          "frequency_final": 0.9999909999999997,
          "frequency_other": 0.9999869999999996,
          "observed_growth_rate": 1.0000040000520007,
          "projected_frequency": 1.0000000000000002,
          "timepoint": "2014-10-01T00:00:00",
          "year": 2014
         },
         {
          "clade_membership": "f321e53",
          "estimated_growth_rate": 1.0000130001690029,
          "frequency": 0.9999869999999996,
          "frequency_final": 0.9999909999999997,
          "frequency_other": 0.9999869999999996,
          "observed_growth_rate": 1.0000040000520007,
          "projected_frequency": 1.0000000000000002,
          "timepoint": "2014-10-01T00:00:00",
          "year": 2014
         },
         {
          "clade_membership": "f3f16af",
          "estimated_growth_rate": 1.0000130001690029,
          "frequency": 0.9999869999999996,
          "frequency_final": 0.9999909999999997,
          "frequency_other": 0.9999869999999996,
          "observed_growth_rate": 1.0000040000520007,
          "projected_frequency": 1.0000000000000002,
          "timepoint": "2014-10-01T00:00:00",
          "year": 2014
         },
         {
          "clade_membership": "fd5608c",
          "estimated_growth_rate": 1.0000130001690029,
          "frequency": 0.9999869999999996,
          "frequency_final": 0.9999909999999997,
          "frequency_other": 0.9999869999999996,
          "observed_growth_rate": 1.0000040000520007,
          "projected_frequency": 1.0000000000000002,
          "timepoint": "2014-10-01T00:00:00",
          "year": 2014
         },
         {
          "clade_membership": "root",
          "estimated_growth_rate": 1.0000130001690029,
          "frequency": 0.9999869999999996,
          "frequency_final": 0.9999909999999997,
          "frequency_other": 0.9999869999999996,
          "observed_growth_rate": 1.0000040000520007,
          "projected_frequency": 1.0000000000000002,
          "timepoint": "2014-10-01T00:00:00",
          "year": 2014
         }
        ]
       },
       "encoding": {
        "tooltip": [
         {
          "field": "observed_growth_rate",
          "type": "quantitative"
         },
         {
          "field": "estimated_growth_rate",
          "type": "quantitative"
         },
         {
          "field": "timepoint",
          "type": "nominal"
         },
         {
          "field": "frequency",
          "type": "quantitative"
         },
         {
          "field": "frequency_final",
          "type": "quantitative"
         },
         {
          "field": "projected_frequency",
          "type": "quantitative"
         },
         {
          "field": "clade_membership",
          "type": "nominal"
         }
        ],
        "x": {
         "field": "observed_growth_rate",
         "scale": {
          "domain": [
           0,
           5.854803898513237
          ]
         },
         "type": "quantitative"
        },
        "y": {
         "field": "estimated_growth_rate",
         "scale": {
          "domain": [
           0,
           5.854803898513237
          ]
         },
         "type": "quantitative"
        }
       },
       "height": 400,
       "mark": "circle",
       "title": "Forecasts by LBI: Pearson's R = 0.28, MCC = 0.49",
       "width": 400
      },
      "image/png": "[encoded data removed]",
      "text/plain": [
       "<VegaLite 3 object>\n",
       "\n",
       "If you see this message, it means the renderer has not been properly enabled\n",
       "for the frontend that you are using. For more information, see\n",
       "https://altair-viz.github.io/user_guide/troubleshooting.html\n"
      ]
     },
     "execution_count": 45,
     "metadata": {},
     "output_type": "execute_result"
    }
   ],
   "source": [
    "tooltip_attributes = [\"observed_growth_rate:Q\", \"estimated_growth_rate:Q\", \"timepoint:N\", \"frequency:Q\", \"frequency_final:Q\",\n",
    "                      \"projected_frequency:Q\", \"clade_membership:N\"]\n",
    "\n",
    "chart = alt.Chart(complete_clade_frequencies).mark_circle().encode(\n",
    "    alt.X(\"observed_growth_rate:Q\", scale=alt.Scale(domain=(min_growth_rate, max_growth_rate))),\n",
    "    alt.Y(\"estimated_growth_rate:Q\", scale=alt.Scale(domain=(min_growth_rate, max_growth_rate))),\n",
    "    alt.Tooltip(tooltip_attributes)\n",
    ").properties(\n",
    "    width=400,\n",
    "    height=400,\n",
    "    title=\"Forecasts by LBI: Pearson's R = %.2f, MCC = %.2f\" % (r, mcc)\n",
    ")\n",
    "\n",
    "chart.save(\"forecast_growth_correlation_natural_lbi.svg\")\n",
    "chart"
   ]
  },
  {
   "cell_type": "code",
   "execution_count": 44,
   "metadata": {},
   "outputs": [
    {
     "data": {
      "text/plain": [
       "(912, 9)"
      ]
     },
     "execution_count": 44,
     "metadata": {},
     "output_type": "execute_result"
    }
   ],
   "source": [
    "complete_clade_frequencies.shape"
   ]
  },
  {
   "cell_type": "code",
   "execution_count": null,
   "metadata": {},
   "outputs": [],
   "source": []
  }
 ],
 "metadata": {
  "kernelspec": {
   "display_name": "Python 3",
   "language": "python",
   "name": "python3"
  },
  "language_info": {
   "codemirror_mode": {
    "name": "ipython",
    "version": 3
   },
   "file_extension": ".py",
   "mimetype": "text/x-python",
   "name": "python",
   "nbconvert_exporter": "python",
   "pygments_lexer": "ipython3",
   "version": "3.6.7"
  }
 },
 "nbformat": 4,
 "nbformat_minor": 4
}
