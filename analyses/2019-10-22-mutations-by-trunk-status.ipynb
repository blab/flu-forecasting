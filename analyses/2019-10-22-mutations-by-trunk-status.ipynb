{
 "cells": [
  {
   "cell_type": "markdown",
   "metadata": {},
   "source": [
    "# Count epitope mutations by trunk status\n",
    "\n",
    "For a given tree, classify each node as trunk or not and count the number of epitope and non-epitope mutations. Finally, summarize the number of mutations by category of trunk and mutation."
   ]
  },
  {
   "cell_type": "code",
   "execution_count": 63,
   "metadata": {},
   "outputs": [],
   "source": [
    "from augur.distance import read_distance_map\n",
    "from augur.utils import json_to_tree\n",
    "import Bio.Phylo\n",
    "import json\n",
    "import matplotlib.pyplot as plt\n",
    "import numpy as np\n",
    "import pandas as pd\n",
    "\n",
    "%matplotlib inline"
   ]
  },
  {
   "cell_type": "markdown",
   "metadata": {},
   "source": [
    "## Load tree data"
   ]
  },
  {
   "cell_type": "code",
   "execution_count": 92,
   "metadata": {},
   "outputs": [],
   "source": [
    "with open(\"../results/auspice/flu_natural_natural_sample_1_with_90_vpm_sliding_full_tree_2015-10-01_tree.json\", \"r\") as fh:\n",
    "    tree_json = json.load(fh)"
   ]
  },
  {
   "cell_type": "code",
   "execution_count": 93,
   "metadata": {},
   "outputs": [],
   "source": [
    "tree = json_to_tree(tree_json)"
   ]
  },
  {
   "cell_type": "code",
   "execution_count": 224,
   "metadata": {},
   "outputs": [
    {
     "data": {
      "text/plain": [
       "Clade(branch_length=0, clade=25587, epitope_mutations=0, is_side_branch_ancestor=False, is_trunk=False, name='NODE_0000001', nonepitope_mutations=0, numdate=1990.1012842842042, strain='NODE_0000001', yvalue=13573.176791549555)"
      ]
     },
     "execution_count": 224,
     "metadata": {},
     "output_type": "execute_result"
    }
   ],
   "source": [
    "tree"
   ]
  },
  {
   "cell_type": "markdown",
   "metadata": {},
   "source": [
    "## Load distance map"
   ]
  },
  {
   "cell_type": "code",
   "execution_count": 212,
   "metadata": {},
   "outputs": [],
   "source": [
    "distance_map = read_distance_map(\"../config/distance_maps/h3n2/ha/luksza.json\")"
   ]
  },
  {
   "cell_type": "code",
   "execution_count": 214,
   "metadata": {},
   "outputs": [],
   "source": [
    "# Extract all epitope sites from the distance map, readjusting to one-based coordinates\n",
    "# for comparison with one-based coordinates of amino acid mutations annotated on trees.\n",
    "epitope_sites = [site + 1 for site in distance_map[\"map\"][\"HA1\"].keys()]"
   ]
  },
  {
   "cell_type": "code",
   "execution_count": 215,
   "metadata": {},
   "outputs": [
    {
     "data": {
      "text/plain": [
       "array([ 50,  53,  54, 121, 122, 124, 126, 131, 133, 135, 137, 142, 143,\n",
       "       144, 145, 146, 155, 156, 157, 158, 159, 160, 163, 164, 172, 173,\n",
       "       174, 186, 188, 189, 190, 192, 193, 196, 197, 201, 207, 213, 217,\n",
       "       226, 227, 242, 244, 248, 275, 276, 278, 299, 307])"
      ]
     },
     "execution_count": 215,
     "metadata": {},
     "output_type": "execute_result"
    }
   ],
   "source": [
    "np.array(epitope_sites)"
   ]
  },
  {
   "cell_type": "markdown",
   "metadata": {},
   "source": [
    "## Annotate number of epitope and non-epitope mutations per node"
   ]
  },
  {
   "cell_type": "code",
   "execution_count": 216,
   "metadata": {},
   "outputs": [],
   "source": [
    "for node in tree.find_clades():\n",
    "    epitope_mutations = 0\n",
    "    nonepitope_mutations = 0\n",
    "    \n",
    "    if len(node.aa_muts) > 0:\n",
    "        for gene, muts in node.aa_muts.items():\n",
    "            for mut in muts:\n",
    "                if gene == \"HA1\" and int(mut[1:-1]) in epitope_sites:\n",
    "                    epitope_mutations += 1\n",
    "                else:\n",
    "                    nonepitope_mutations += 1\n",
    "                    \n",
    "    node.epitope_mutations = epitope_mutations\n",
    "    node.nonepitope_mutations = nonepitope_mutations"
   ]
  },
  {
   "cell_type": "code",
   "execution_count": 217,
   "metadata": {},
   "outputs": [
    {
     "data": {
      "text/plain": [
       "{1, 2, 3, 4, 5}"
      ]
     },
     "execution_count": 217,
     "metadata": {},
     "output_type": "execute_result"
    }
   ],
   "source": [
    "set([node.epitope_mutations for node in tree.find_clades() if node.epitope_mutations > 0])"
   ]
  },
  {
   "cell_type": "markdown",
   "metadata": {},
   "source": [
    "## Assign trunk status\n",
    "\n",
    "[Bedford et al. 2015](http://www.nature.com.offcampus.lib.washington.edu/nature/journal/v523/n7559/pdf/nature14460.pdf) defines trunk as \"all branches ancestral to viruses\n",
    "sampled within 1 year of the most recent sample\". The algorithm for finding the trunk based on this definition is then:\n",
    "\n",
    "  1. Select all nodes in the last year\n",
    "  1. Select the parent of each selected node until the root\n",
    "  1. Create a unique set of nodes\n",
    "  1. Omit all nodes from the last year since resolution of the trunk is limited (note: this step is not implemented below)\n",
    "\n",
    "Note that this definition was based on 12 years of flu data from 2000 to 2012."
   ]
  },
  {
   "cell_type": "code",
   "execution_count": 164,
   "metadata": {},
   "outputs": [],
   "source": [
    "max_date = max([tip.attr[\"num_date\"] for tip in tree.find_clades(terminal=True)])"
   ]
  },
  {
   "cell_type": "code",
   "execution_count": 165,
   "metadata": {},
   "outputs": [
    {
     "data": {
      "text/plain": [
       "2015.7474332648871"
      ]
     },
     "execution_count": 165,
     "metadata": {},
     "output_type": "execute_result"
    }
   ],
   "source": [
    "max_date"
   ]
  },
  {
   "cell_type": "code",
   "execution_count": 166,
   "metadata": {},
   "outputs": [],
   "source": [
    "# Find all tips of the tree sampled within a year of the most recent sample in the tree.\n",
    "recent_nodes = [node for node in tree.find_clades(terminal=True) if node.attr[\"num_date\"] > (max_date - 1)]"
   ]
  },
  {
   "cell_type": "code",
   "execution_count": 167,
   "metadata": {},
   "outputs": [
    {
     "data": {
      "text/plain": [
       "1779"
      ]
     },
     "execution_count": 167,
     "metadata": {},
     "output_type": "execute_result"
    }
   ],
   "source": [
    "len(recent_nodes)"
   ]
  },
  {
   "cell_type": "code",
   "execution_count": 168,
   "metadata": {},
   "outputs": [],
   "source": [
    "# Find the last common ancestor of all recent nodes.\n",
    "mrca = tree.common_ancestor(recent_nodes)"
   ]
  },
  {
   "cell_type": "code",
   "execution_count": 169,
   "metadata": {},
   "outputs": [
    {
     "data": {
      "text/plain": [
       "Clade(branch_length=0.09950377240746909, clade=25422, epitope_mutations=0, is_side_branch_ancestor=False, is_trunk=False, name='NODE_0009541', nonepitope_mutations=0, numdate=2010.992572591461, strain='NODE_0009541', yvalue=3043.8414672953604)"
      ]
     },
     "execution_count": 169,
     "metadata": {},
     "output_type": "execute_result"
    }
   ],
   "source": [
    "mrca"
   ]
  },
  {
   "cell_type": "code",
   "execution_count": 170,
   "metadata": {},
   "outputs": [
    {
     "data": {
      "text/plain": [
       "2010.992572591461"
      ]
     },
     "execution_count": 170,
     "metadata": {},
     "output_type": "execute_result"
    }
   ],
   "source": [
    "mrca.attr[\"num_date\"]"
   ]
  },
  {
   "cell_type": "code",
   "execution_count": 171,
   "metadata": {},
   "outputs": [],
   "source": [
    "# Label all nodes as not part of the trunk by default.\n",
    "for node in tree.find_clades():\n",
    "    node.is_trunk = False\n",
    "    node.is_side_branch_ancestor = False"
   ]
  },
  {
   "cell_type": "code",
   "execution_count": 172,
   "metadata": {},
   "outputs": [],
   "source": [
    "# Find all nodes that are ancestral to recent nodes.\n",
    "# Label these ancestral nodes as part of the \"trunk\"\n",
    "# and collect the set of distinct nodes in the trunk.\n",
    "for recent_node in recent_nodes:\n",
    "    current_node = recent_node.parent\n",
    "    \n",
    "    # Traverse from the current node to the tree's root.\n",
    "    while current_node != tree.root:\n",
    "        # Mark a node as part of the trunk if it was sampled\n",
    "        # before the MRCA of all recent nodes.\n",
    "        if current_node.attr[\"num_date\"] < mrca.attr[\"num_date\"]:\n",
    "            current_node.is_trunk = True\n",
    "            \n",
    "        current_node = current_node.parent"
   ]
  },
  {
   "cell_type": "code",
   "execution_count": 173,
   "metadata": {},
   "outputs": [],
   "source": [
    "def is_side_branch_ancestor(node):\n",
    "    \"\"\"Returns True if the current node belongs to a \"side branch\" clade\n",
    "    and is the immediate descendent from a trunk.\n",
    "    \"\"\"\n",
    "    return node.parent is not None and node.parent.is_trunk"
   ]
  },
  {
   "cell_type": "code",
   "execution_count": 174,
   "metadata": {},
   "outputs": [],
   "source": [
    "trunk_path = [node for node in tree.find_clades(terminal=False)\n",
    "              if node.is_trunk]"
   ]
  },
  {
   "cell_type": "code",
   "execution_count": 175,
   "metadata": {},
   "outputs": [],
   "source": [
    "# Find all nodes that are not on the trunk. These are\n",
    "# side branch nodes.\n",
    "side_branch_nodes = [node for node in tree.find_clades(terminal=False)\n",
    "                     if not node.is_trunk and node.attr[\"num_date\"] < mrca.attr[\"num_date\"]]"
   ]
  },
  {
   "cell_type": "code",
   "execution_count": 176,
   "metadata": {},
   "outputs": [
    {
     "data": {
      "text/plain": [
       "164"
      ]
     },
     "execution_count": 176,
     "metadata": {},
     "output_type": "execute_result"
    }
   ],
   "source": [
    "len(trunk_path)"
   ]
  },
  {
   "cell_type": "code",
   "execution_count": 177,
   "metadata": {},
   "outputs": [
    {
     "data": {
      "text/plain": [
       "6758"
      ]
     },
     "execution_count": 177,
     "metadata": {},
     "output_type": "execute_result"
    }
   ],
   "source": [
    "len(side_branch_nodes)"
   ]
  },
  {
   "cell_type": "code",
   "execution_count": 178,
   "metadata": {},
   "outputs": [],
   "source": [
    "# Find all side branch nodes whose immediate parent is on the trunk.\n",
    "side_branch_ancestors = []\n",
    "for node in side_branch_nodes:\n",
    "    if is_side_branch_ancestor(node):\n",
    "        node.is_side_branch_ancestor = True\n",
    "        side_branch_ancestors.append(node)"
   ]
  },
  {
   "cell_type": "code",
   "execution_count": 179,
   "metadata": {},
   "outputs": [
    {
     "data": {
      "text/plain": [
       "173"
      ]
     },
     "execution_count": 179,
     "metadata": {},
     "output_type": "execute_result"
    }
   ],
   "source": [
    "len(side_branch_ancestors)"
   ]
  },
  {
   "cell_type": "code",
   "execution_count": 180,
   "metadata": {},
   "outputs": [],
   "source": [
    "# Color nodes by status as on the trunk or as a side branch ancestor.\n",
    "for node in tree.find_clades():\n",
    "    if node.is_trunk:\n",
    "        node.color = \"green\"\n",
    "    elif node.is_side_branch_ancestor:\n",
    "        node.color = \"orange\"\n",
    "    else:\n",
    "        node.color = \"black\""
   ]
  },
  {
   "cell_type": "code",
   "execution_count": 181,
   "metadata": {},
   "outputs": [
    {
     "data": {
      "image/png": "[encoded data removed]",
      "text/plain": [
       "<Figure size 864x576 with 1 Axes>"
      ]
     },
     "metadata": {
      "needs_background": "light"
     },
     "output_type": "display_data"
    }
   ],
   "source": [
    "# Draw tree with node colors instead of with node labels.\n",
    "fig = plt.figure(figsize=(12, 8))\n",
    "ax = fig.add_subplot(111)\n",
    "Bio.Phylo.draw(tree, axes=ax, label_func=lambda node: \"\")"
   ]
  },
  {
   "cell_type": "markdown",
   "metadata": {},
   "source": [
    "## Annotate mutations by trunk status"
   ]
  },
  {
   "cell_type": "code",
   "execution_count": 228,
   "metadata": {},
   "outputs": [],
   "source": [
    "records = []\n",
    "for node in tree.find_clades(terminal=False):\n",
    "    # Collect records for nodes that are on the trunk or that were sampled prior\n",
    "    # to the MRCA of recent nodes (i.e., side branch nodes).\n",
    "    if node.is_trunk or node.attr[\"num_date\"] < mrca.attr[\"num_date\"]:\n",
    "        records.append({\n",
    "            \"node\": node.name,\n",
    "            \"node type\": \"trunk\" if node.is_trunk else \"side branch\",\n",
    "            \"epitope mutations\": node.epitope_mutations,\n",
    "            \"non-epitope mutations\": node.nonepitope_mutations\n",
    "        })"
   ]
  },
  {
   "cell_type": "code",
   "execution_count": 229,
   "metadata": {},
   "outputs": [],
   "source": [
    "df = pd.DataFrame(records)"
   ]
  },
  {
   "cell_type": "code",
   "execution_count": 230,
   "metadata": {},
   "outputs": [
    {
     "data": {
      "text/html": [
       "<div>\n",
       "<style scoped>\n",
       "    .dataframe tbody tr th:only-of-type {\n",
       "        vertical-align: middle;\n",
       "    }\n",
       "\n",
       "    .dataframe tbody tr th {\n",
       "        vertical-align: top;\n",
       "    }\n",
       "\n",
       "    .dataframe thead th {\n",
       "        text-align: right;\n",
       "    }\n",
       "</style>\n",
       "<table border=\"1\" class=\"dataframe\">\n",
       "  <thead>\n",
       "    <tr style=\"text-align: right;\">\n",
       "      <th></th>\n",
       "      <th>epitope mutations</th>\n",
       "      <th>node</th>\n",
       "      <th>node type</th>\n",
       "      <th>non-epitope mutations</th>\n",
       "    </tr>\n",
       "  </thead>\n",
       "  <tbody>\n",
       "    <tr>\n",
       "      <th>0</th>\n",
       "      <td>0</td>\n",
       "      <td>NODE_0000001</td>\n",
       "      <td>side branch</td>\n",
       "      <td>0</td>\n",
       "    </tr>\n",
       "    <tr>\n",
       "      <th>1</th>\n",
       "      <td>0</td>\n",
       "      <td>NODE_0003918</td>\n",
       "      <td>side branch</td>\n",
       "      <td>0</td>\n",
       "    </tr>\n",
       "    <tr>\n",
       "      <th>2</th>\n",
       "      <td>0</td>\n",
       "      <td>NODE_0003919</td>\n",
       "      <td>side branch</td>\n",
       "      <td>0</td>\n",
       "    </tr>\n",
       "    <tr>\n",
       "      <th>3</th>\n",
       "      <td>0</td>\n",
       "      <td>NODE_0003920</td>\n",
       "      <td>side branch</td>\n",
       "      <td>3</td>\n",
       "    </tr>\n",
       "    <tr>\n",
       "      <th>4</th>\n",
       "      <td>0</td>\n",
       "      <td>NODE_0003921</td>\n",
       "      <td>side branch</td>\n",
       "      <td>0</td>\n",
       "    </tr>\n",
       "  </tbody>\n",
       "</table>\n",
       "</div>"
      ],
      "text/plain": [
       "   epitope mutations          node    node type  non-epitope mutations\n",
       "0                  0  NODE_0000001  side branch                      0\n",
       "1                  0  NODE_0003918  side branch                      0\n",
       "2                  0  NODE_0003919  side branch                      0\n",
       "3                  0  NODE_0003920  side branch                      3\n",
       "4                  0  NODE_0003921  side branch                      0"
      ]
     },
     "execution_count": 230,
     "metadata": {},
     "output_type": "execute_result"
    }
   ],
   "source": [
    "df.head()"
   ]
  },
  {
   "cell_type": "code",
   "execution_count": 231,
   "metadata": {},
   "outputs": [],
   "source": [
    "counts_by_trunk_status = df.groupby(\"node type\").aggregate({\"epitope mutations\": \"sum\", \"non-epitope mutations\": \"sum\"})"
   ]
  },
  {
   "cell_type": "code",
   "execution_count": 236,
   "metadata": {},
   "outputs": [],
   "source": [
    "counts_by_trunk_status[\"epitope-to-non-epitope ratio\"] = round(\n",
    "    counts_by_trunk_status[\"epitope mutations\"] / counts_by_trunk_status[\"non-epitope mutations\"]\n",
    ", 2)"
   ]
  },
  {
   "cell_type": "code",
   "execution_count": 237,
   "metadata": {},
   "outputs": [
    {
     "data": {
      "text/html": [
       "<div>\n",
       "<style scoped>\n",
       "    .dataframe tbody tr th:only-of-type {\n",
       "        vertical-align: middle;\n",
       "    }\n",
       "\n",
       "    .dataframe tbody tr th {\n",
       "        vertical-align: top;\n",
       "    }\n",
       "\n",
       "    .dataframe thead th {\n",
       "        text-align: right;\n",
       "    }\n",
       "</style>\n",
       "<table border=\"1\" class=\"dataframe\">\n",
       "  <thead>\n",
       "    <tr style=\"text-align: right;\">\n",
       "      <th></th>\n",
       "      <th>epitope mutations</th>\n",
       "      <th>non-epitope mutations</th>\n",
       "      <th>epitope-to-non-epitope ratio</th>\n",
       "    </tr>\n",
       "    <tr>\n",
       "      <th>node type</th>\n",
       "      <th></th>\n",
       "      <th></th>\n",
       "      <th></th>\n",
       "    </tr>\n",
       "  </thead>\n",
       "  <tbody>\n",
       "    <tr>\n",
       "      <th>side branch</th>\n",
       "      <td>485</td>\n",
       "      <td>1177</td>\n",
       "      <td>0.41</td>\n",
       "    </tr>\n",
       "    <tr>\n",
       "      <th>trunk</th>\n",
       "      <td>50</td>\n",
       "      <td>32</td>\n",
       "      <td>1.56</td>\n",
       "    </tr>\n",
       "  </tbody>\n",
       "</table>\n",
       "</div>"
      ],
      "text/plain": [
       "             epitope mutations  non-epitope mutations  \\\n",
       "node type                                               \n",
       "side branch                485                   1177   \n",
       "trunk                       50                     32   \n",
       "\n",
       "             epitope-to-non-epitope ratio  \n",
       "node type                                  \n",
       "side branch                          0.41  \n",
       "trunk                                1.56  "
      ]
     },
     "execution_count": 237,
     "metadata": {},
     "output_type": "execute_result"
    }
   ],
   "source": [
    "counts_by_trunk_status"
   ]
  },
  {
   "cell_type": "code",
   "execution_count": 238,
   "metadata": {},
   "outputs": [],
   "source": [
    "counts_by_trunk_status_table = counts_by_trunk_status.to_latex(escape=False)\n",
    "\n",
    "with open(\"../manuscript/tables/mutations_by_trunk_status.tex\", \"w\") as oh:\n",
    "    oh.write(counts_by_trunk_status_table)"
   ]
  },
  {
   "cell_type": "code",
   "execution_count": null,
   "metadata": {},
   "outputs": [],
   "source": []
  }
 ],
 "metadata": {
  "kernelspec": {
   "display_name": "Python 3",
   "language": "python",
   "name": "python3"
  },
  "language_info": {
   "codemirror_mode": {
    "name": "ipython",
    "version": 3
   },
   "file_extension": ".py",
   "mimetype": "text/x-python",
   "name": "python",
   "nbconvert_exporter": "python",
   "pygments_lexer": "ipython3",
   "version": "3.6.7"
  }
 },
 "nbformat": 4,
 "nbformat_minor": 4
}
