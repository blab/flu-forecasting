{
 "cells": [
  {
   "cell_type": "markdown",
   "metadata": {},
   "source": [
    "# Plot estimated and observed clade frequencies\n",
    "\n",
    "Plot the overall observed clade frequencies compared to the estimated frequencies at each timepoint. The differences between these frequencies tells us something about the error in frequency estimation due to missing data from the near future."
   ]
  },
  {
   "cell_type": "code",
   "execution_count": 86,
   "metadata": {},
   "outputs": [],
   "source": [
    "from collections import defaultdict\n",
    "import json\n",
    "import matplotlib.pyplot as plt\n",
    "import matplotlib.gridspec as gridspec\n",
    "import networkx as nx\n",
    "import numpy as np\n",
    "import pandas as pd\n",
    "import seaborn as sns\n",
    "\n",
    "%matplotlib inline\n",
    "\n",
    "plt.style.use(\"huddlej\")"
   ]
  },
  {
   "cell_type": "code",
   "execution_count": 87,
   "metadata": {},
   "outputs": [
    {
     "name": "stdout",
     "output_type": "stream",
     "text": [
      "/Users/jlhudd/projects/nextstrain/flu-forecasting/analyses\n"
     ]
    }
   ],
   "source": [
    "!pwd"
   ]
  },
  {
   "cell_type": "code",
   "execution_count": 88,
   "metadata": {},
   "outputs": [],
   "source": [
    "with open(\"../results/builds/h3n2/5_viruses_per_month/sample_0/2005-10-01--2015-10-01/timepoints/2012-10-01/segments/ha/frequencies.json\", \"r\") as fh:\n",
    "    frequencies = json.load(fh)"
   ]
  },
  {
   "cell_type": "code",
   "execution_count": 89,
   "metadata": {},
   "outputs": [],
   "source": [
    "with open(\"../results/builds/h3n2/5_viruses_per_month/sample_0/2005-10-01--2015-10-01/timepoints/2012-10-01/segments/ha/clades.json\", \"r\") as fh:\n",
    "    clades = json.load(fh)"
   ]
  },
  {
   "cell_type": "code",
   "execution_count": 90,
   "metadata": {},
   "outputs": [],
   "source": [
    "tips = pd.read_csv(\"../results/builds/h3n2/5_viruses_per_month/sample_0/2005-10-01--2015-10-01/standardized_tip_attributes.tsv\",\n",
    "                   sep=\"\\t\", parse_dates=[\"timepoint\"])\n",
    "tips = tips.loc[\n",
    "    tips[\"segment\"] == \"ha\",\n",
    "    [\"strain\", \"clade_membership\", \"timepoint\", \"frequency\"]\n",
    "].copy()"
   ]
  },
  {
   "cell_type": "code",
   "execution_count": 91,
   "metadata": {},
   "outputs": [],
   "source": [
    "data_path = \"../results/builds/h3n2/5_viruses_per_month/sample_0/2005-10-01--2015-10-01/tips_to_clades.tsv\""
   ]
  },
  {
   "cell_type": "code",
   "execution_count": 92,
   "metadata": {},
   "outputs": [],
   "source": [
    "df = pd.read_csv(data_path, sep=\"\\t\", parse_dates=[\"timepoint\"])"
   ]
  },
  {
   "cell_type": "code",
   "execution_count": 121,
   "metadata": {},
   "outputs": [],
   "source": [
    "# successful clade\n",
    "clade_name = \"d4aa5d5\"\n",
    "\n",
    "# unsuccessful clade\n",
    "clade_name = \"5f0cf16\""
   ]
  },
  {
   "cell_type": "code",
   "execution_count": 122,
   "metadata": {},
   "outputs": [],
   "source": [
    "clade_tips = df[df[\"clade_membership\"] == clade_name][\"tip\"].unique()"
   ]
  },
  {
   "cell_type": "code",
   "execution_count": 123,
   "metadata": {},
   "outputs": [
    {
     "data": {
      "text/plain": [
       "(20,)"
      ]
     },
     "execution_count": 123,
     "metadata": {},
     "output_type": "execute_result"
    }
   ],
   "source": [
    "clade_tips.shape"
   ]
  },
  {
   "cell_type": "code",
   "execution_count": 124,
   "metadata": {},
   "outputs": [
    {
     "data": {
      "text/plain": [
       "(1034,)"
      ]
     },
     "execution_count": 124,
     "metadata": {},
     "output_type": "execute_result"
    }
   ],
   "source": [
    "df[\"tip\"].unique().shape"
   ]
  },
  {
   "cell_type": "code",
   "execution_count": 125,
   "metadata": {},
   "outputs": [
    {
     "data": {
      "text/plain": [
       "(20,)"
      ]
     },
     "execution_count": 125,
     "metadata": {},
     "output_type": "execute_result"
    }
   ],
   "source": [
    "clade_tips.shape"
   ]
  },
  {
   "cell_type": "code",
   "execution_count": 126,
   "metadata": {},
   "outputs": [],
   "source": [
    "estimated_clade_frequencies = tips[tips[\"strain\"].isin(clade_tips)].groupby(\"timepoint\")[\"frequency\"].sum().reset_index()"
   ]
  },
  {
   "cell_type": "code",
   "execution_count": 127,
   "metadata": {},
   "outputs": [],
   "source": [
    "estimated_clade_frequencies[\"timepoint_float\"] = estimated_clade_frequencies[\"timepoint\"].dt.year + (estimated_clade_frequencies[\"timepoint\"].dt.month - 1) / 12.0"
   ]
  },
  {
   "cell_type": "code",
   "execution_count": 128,
   "metadata": {},
   "outputs": [
    {
     "data": {
      "text/html": [
       "<div>\n",
       "<style scoped>\n",
       "    .dataframe tbody tr th:only-of-type {\n",
       "        vertical-align: middle;\n",
       "    }\n",
       "\n",
       "    .dataframe tbody tr th {\n",
       "        vertical-align: top;\n",
       "    }\n",
       "\n",
       "    .dataframe thead th {\n",
       "        text-align: right;\n",
       "    }\n",
       "</style>\n",
       "<table border=\"1\" class=\"dataframe\">\n",
       "  <thead>\n",
       "    <tr style=\"text-align: right;\">\n",
       "      <th></th>\n",
       "      <th>timepoint</th>\n",
       "      <th>frequency</th>\n",
       "      <th>timepoint_float</th>\n",
       "    </tr>\n",
       "  </thead>\n",
       "  <tbody>\n",
       "    <tr>\n",
       "      <th>0</th>\n",
       "      <td>2010-10-01</td>\n",
       "      <td>0.102958</td>\n",
       "      <td>2010.75</td>\n",
       "    </tr>\n",
       "    <tr>\n",
       "      <th>1</th>\n",
       "      <td>2011-04-01</td>\n",
       "      <td>0.029985</td>\n",
       "      <td>2011.25</td>\n",
       "    </tr>\n",
       "    <tr>\n",
       "      <th>2</th>\n",
       "      <td>2011-10-01</td>\n",
       "      <td>0.073264</td>\n",
       "      <td>2011.75</td>\n",
       "    </tr>\n",
       "    <tr>\n",
       "      <th>3</th>\n",
       "      <td>2012-04-01</td>\n",
       "      <td>0.035014</td>\n",
       "      <td>2012.25</td>\n",
       "    </tr>\n",
       "    <tr>\n",
       "      <th>4</th>\n",
       "      <td>2012-10-01</td>\n",
       "      <td>0.052350</td>\n",
       "      <td>2012.75</td>\n",
       "    </tr>\n",
       "  </tbody>\n",
       "</table>\n",
       "</div>"
      ],
      "text/plain": [
       "   timepoint  frequency  timepoint_float\n",
       "0 2010-10-01   0.102958          2010.75\n",
       "1 2011-04-01   0.029985          2011.25\n",
       "2 2011-10-01   0.073264          2011.75\n",
       "3 2012-04-01   0.035014          2012.25\n",
       "4 2012-10-01   0.052350          2012.75"
      ]
     },
     "execution_count": 128,
     "metadata": {},
     "output_type": "execute_result"
    }
   ],
   "source": [
    "estimated_clade_frequencies"
   ]
  },
  {
   "cell_type": "code",
   "execution_count": 129,
   "metadata": {},
   "outputs": [],
   "source": [
    "clade_frequencies = np.zeros_like(frequencies[\"data\"][\"pivots\"])"
   ]
  },
  {
   "cell_type": "code",
   "execution_count": 130,
   "metadata": {},
   "outputs": [],
   "source": [
    "for tip in clade_tips:\n",
    "    clade_frequencies += frequencies[\"data\"][\"frequencies\"][tip]"
   ]
  },
  {
   "cell_type": "code",
   "execution_count": 131,
   "metadata": {},
   "outputs": [
    {
     "data": {
      "text/plain": [
       "array([0.      , 0.      , 0.      , 0.      , 0.      , 0.      ,\n",
       "       0.      , 0.      , 0.      , 0.008568, 0.097887, 0.028285,\n",
       "       0.076668, 0.038601, 0.05235 ])"
      ]
     },
     "execution_count": 131,
     "metadata": {},
     "output_type": "execute_result"
    }
   ],
   "source": [
    "clade_frequencies"
   ]
  },
  {
   "cell_type": "code",
   "execution_count": 132,
   "metadata": {},
   "outputs": [
    {
     "data": {
      "text/plain": [
       "Text(0,0.5,'Frequency')"
      ]
     },
     "execution_count": 132,
     "metadata": {},
     "output_type": "execute_result"
    },
    {
     "data": {
      "image/png": "[encoded data removed]",
      "text/plain": [
       "<Figure size 800x600 with 1 Axes>"
      ]
     },
     "metadata": {
      "needs_background": "light"
     },
     "output_type": "display_data"
    }
   ],
   "source": [
    "fig, ax = plt.subplots(1, 1, figsize=(8, 6))\n",
    "ax.plot(frequencies[\"data\"][\"pivots\"], clade_frequencies, \"o-\")\n",
    "ax.plot(estimated_clade_frequencies[\"timepoint_float\"], estimated_clade_frequencies[\"frequency\"], \"o\")\n",
    "ax.set_xlabel(\"Date\")\n",
    "ax.set_ylabel(\"Frequency\")\n",
    "#ax.set_ylim(0, 1)"
   ]
  },
  {
   "cell_type": "code",
   "execution_count": 133,
   "metadata": {},
   "outputs": [
    {
     "data": {
      "text/html": [
       "<div>\n",
       "<style scoped>\n",
       "    .dataframe tbody tr th:only-of-type {\n",
       "        vertical-align: middle;\n",
       "    }\n",
       "\n",
       "    .dataframe tbody tr th {\n",
       "        vertical-align: top;\n",
       "    }\n",
       "\n",
       "    .dataframe thead th {\n",
       "        text-align: right;\n",
       "    }\n",
       "</style>\n",
       "<table border=\"1\" class=\"dataframe\">\n",
       "  <thead>\n",
       "    <tr style=\"text-align: right;\">\n",
       "      <th></th>\n",
       "      <th>strain</th>\n",
       "      <th>clade_membership</th>\n",
       "      <th>timepoint</th>\n",
       "      <th>frequency</th>\n",
       "    </tr>\n",
       "  </thead>\n",
       "  <tbody>\n",
       "    <tr>\n",
       "      <th>243</th>\n",
       "      <td>A/Bolivia/1053/2010</td>\n",
       "      <td>23082c4</td>\n",
       "      <td>2010-10-01</td>\n",
       "      <td>0.005613</td>\n",
       "    </tr>\n",
       "    <tr>\n",
       "      <th>250</th>\n",
       "      <td>A/Brisbane/31/2010</td>\n",
       "      <td>23082c4</td>\n",
       "      <td>2010-10-01</td>\n",
       "      <td>0.000610</td>\n",
       "    </tr>\n",
       "    <tr>\n",
       "      <th>280</th>\n",
       "      <td>A/Italy/540/2010</td>\n",
       "      <td>23082c4</td>\n",
       "      <td>2010-10-01</td>\n",
       "      <td>0.023435</td>\n",
       "    </tr>\n",
       "    <tr>\n",
       "      <th>281</th>\n",
       "      <td>A/Johannesburg/56/2010</td>\n",
       "      <td>23082c4</td>\n",
       "      <td>2010-10-01</td>\n",
       "      <td>0.025655</td>\n",
       "    </tr>\n",
       "    <tr>\n",
       "      <th>282</th>\n",
       "      <td>A/Kenya/1711/2010</td>\n",
       "      <td>23082c4</td>\n",
       "      <td>2010-10-01</td>\n",
       "      <td>0.024319</td>\n",
       "    </tr>\n",
       "    <tr>\n",
       "      <th>283</th>\n",
       "      <td>A/Kenya/95/2010</td>\n",
       "      <td>23082c4</td>\n",
       "      <td>2010-10-01</td>\n",
       "      <td>0.019341</td>\n",
       "    </tr>\n",
       "    <tr>\n",
       "      <th>307</th>\n",
       "      <td>A/Peru/PER308/2010</td>\n",
       "      <td>23082c4</td>\n",
       "      <td>2010-10-01</td>\n",
       "      <td>0.003985</td>\n",
       "    </tr>\n",
       "    <tr>\n",
       "      <th>353</th>\n",
       "      <td>A/Bolivia/1053/2010</td>\n",
       "      <td>5f0cf16</td>\n",
       "      <td>2011-04-01</td>\n",
       "      <td>0.000241</td>\n",
       "    </tr>\n",
       "    <tr>\n",
       "      <th>358</th>\n",
       "      <td>A/Brisbane/31/2010</td>\n",
       "      <td>5f0cf16</td>\n",
       "      <td>2011-04-01</td>\n",
       "      <td>0.000001</td>\n",
       "    </tr>\n",
       "    <tr>\n",
       "      <th>392</th>\n",
       "      <td>A/Johannesburg/56/2010</td>\n",
       "      <td>5f0cf16</td>\n",
       "      <td>2011-04-01</td>\n",
       "      <td>0.000048</td>\n",
       "    </tr>\n",
       "    <tr>\n",
       "      <th>418</th>\n",
       "      <td>A/Paraguay/726/2011</td>\n",
       "      <td>5f0cf16</td>\n",
       "      <td>2011-04-01</td>\n",
       "      <td>0.005065</td>\n",
       "    </tr>\n",
       "    <tr>\n",
       "      <th>420</th>\n",
       "      <td>A/Peru/7710/2010</td>\n",
       "      <td>5f0cf16</td>\n",
       "      <td>2011-04-01</td>\n",
       "      <td>0.003349</td>\n",
       "    </tr>\n",
       "    <tr>\n",
       "      <th>422</th>\n",
       "      <td>A/Peru/PER147/2010</td>\n",
       "      <td>5f0cf16</td>\n",
       "      <td>2011-04-01</td>\n",
       "      <td>0.005054</td>\n",
       "    </tr>\n",
       "    <tr>\n",
       "      <th>423</th>\n",
       "      <td>A/Peru/PER178/2010</td>\n",
       "      <td>5f0cf16</td>\n",
       "      <td>2011-04-01</td>\n",
       "      <td>0.004964</td>\n",
       "    </tr>\n",
       "    <tr>\n",
       "      <th>424</th>\n",
       "      <td>A/Peru/PER308/2010</td>\n",
       "      <td>5f0cf16</td>\n",
       "      <td>2011-04-01</td>\n",
       "      <td>0.001656</td>\n",
       "    </tr>\n",
       "    <tr>\n",
       "      <th>425</th>\n",
       "      <td>A/Peru/PER320/2010</td>\n",
       "      <td>5f0cf16</td>\n",
       "      <td>2011-04-01</td>\n",
       "      <td>0.004609</td>\n",
       "    </tr>\n",
       "    <tr>\n",
       "      <th>429</th>\n",
       "      <td>A/Piaui/4751/2011</td>\n",
       "      <td>5f0cf16</td>\n",
       "      <td>2011-04-01</td>\n",
       "      <td>0.004998</td>\n",
       "    </tr>\n",
       "    <tr>\n",
       "      <th>526</th>\n",
       "      <td>A/Johannesburg/114/2011</td>\n",
       "      <td>5f0cf16</td>\n",
       "      <td>2011-10-01</td>\n",
       "      <td>0.025032</td>\n",
       "    </tr>\n",
       "    <tr>\n",
       "      <th>527</th>\n",
       "      <td>A/Johannesburg/153/2011</td>\n",
       "      <td>5f0cf16</td>\n",
       "      <td>2011-10-01</td>\n",
       "      <td>0.025897</td>\n",
       "    </tr>\n",
       "    <tr>\n",
       "      <th>531</th>\n",
       "      <td>A/Kenya/152/2011</td>\n",
       "      <td>5f0cf16</td>\n",
       "      <td>2011-10-01</td>\n",
       "      <td>0.022155</td>\n",
       "    </tr>\n",
       "    <tr>\n",
       "      <th>558</th>\n",
       "      <td>A/Paraguay/726/2011</td>\n",
       "      <td>5f0cf16</td>\n",
       "      <td>2011-10-01</td>\n",
       "      <td>0.000055</td>\n",
       "    </tr>\n",
       "    <tr>\n",
       "      <th>566</th>\n",
       "      <td>A/Piaui/4751/2011</td>\n",
       "      <td>5f0cf16</td>\n",
       "      <td>2011-10-01</td>\n",
       "      <td>0.000125</td>\n",
       "    </tr>\n",
       "    <tr>\n",
       "      <th>664</th>\n",
       "      <td>A/Johannesburg/153/2011</td>\n",
       "      <td>5f0cf16</td>\n",
       "      <td>2012-04-01</td>\n",
       "      <td>0.000050</td>\n",
       "    </tr>\n",
       "    <tr>\n",
       "      <th>669</th>\n",
       "      <td>A/Kenya/113/2012</td>\n",
       "      <td>5f0cf16</td>\n",
       "      <td>2012-04-01</td>\n",
       "      <td>0.016598</td>\n",
       "    </tr>\n",
       "    <tr>\n",
       "      <th>670</th>\n",
       "      <td>A/Kenya/152/2011</td>\n",
       "      <td>5f0cf16</td>\n",
       "      <td>2012-04-01</td>\n",
       "      <td>0.003855</td>\n",
       "    </tr>\n",
       "    <tr>\n",
       "      <th>671</th>\n",
       "      <td>A/Kenya/169/2011</td>\n",
       "      <td>5f0cf16</td>\n",
       "      <td>2012-04-01</td>\n",
       "      <td>0.014511</td>\n",
       "    </tr>\n",
       "    <tr>\n",
       "      <th>807</th>\n",
       "      <td>A/Johannesburg/3495/2012</td>\n",
       "      <td>5f0cf16</td>\n",
       "      <td>2012-10-01</td>\n",
       "      <td>0.024213</td>\n",
       "    </tr>\n",
       "    <tr>\n",
       "      <th>809</th>\n",
       "      <td>A/Kenya/113/2012</td>\n",
       "      <td>5f0cf16</td>\n",
       "      <td>2012-10-01</td>\n",
       "      <td>0.008919</td>\n",
       "    </tr>\n",
       "    <tr>\n",
       "      <th>811</th>\n",
       "      <td>A/Kenya/230/2012</td>\n",
       "      <td>5f0cf16</td>\n",
       "      <td>2012-10-01</td>\n",
       "      <td>0.019218</td>\n",
       "    </tr>\n",
       "  </tbody>\n",
       "</table>\n",
       "</div>"
      ],
      "text/plain": [
       "                       strain clade_membership  timepoint  frequency\n",
       "243       A/Bolivia/1053/2010          23082c4 2010-10-01   0.005613\n",
       "250        A/Brisbane/31/2010          23082c4 2010-10-01   0.000610\n",
       "280          A/Italy/540/2010          23082c4 2010-10-01   0.023435\n",
       "281    A/Johannesburg/56/2010          23082c4 2010-10-01   0.025655\n",
       "282         A/Kenya/1711/2010          23082c4 2010-10-01   0.024319\n",
       "283           A/Kenya/95/2010          23082c4 2010-10-01   0.019341\n",
       "307        A/Peru/PER308/2010          23082c4 2010-10-01   0.003985\n",
       "353       A/Bolivia/1053/2010          5f0cf16 2011-04-01   0.000241\n",
       "358        A/Brisbane/31/2010          5f0cf16 2011-04-01   0.000001\n",
       "392    A/Johannesburg/56/2010          5f0cf16 2011-04-01   0.000048\n",
       "418       A/Paraguay/726/2011          5f0cf16 2011-04-01   0.005065\n",
       "420          A/Peru/7710/2010          5f0cf16 2011-04-01   0.003349\n",
       "422        A/Peru/PER147/2010          5f0cf16 2011-04-01   0.005054\n",
       "423        A/Peru/PER178/2010          5f0cf16 2011-04-01   0.004964\n",
       "424        A/Peru/PER308/2010          5f0cf16 2011-04-01   0.001656\n",
       "425        A/Peru/PER320/2010          5f0cf16 2011-04-01   0.004609\n",
       "429         A/Piaui/4751/2011          5f0cf16 2011-04-01   0.004998\n",
       "526   A/Johannesburg/114/2011          5f0cf16 2011-10-01   0.025032\n",
       "527   A/Johannesburg/153/2011          5f0cf16 2011-10-01   0.025897\n",
       "531          A/Kenya/152/2011          5f0cf16 2011-10-01   0.022155\n",
       "558       A/Paraguay/726/2011          5f0cf16 2011-10-01   0.000055\n",
       "566         A/Piaui/4751/2011          5f0cf16 2011-10-01   0.000125\n",
       "664   A/Johannesburg/153/2011          5f0cf16 2012-04-01   0.000050\n",
       "669          A/Kenya/113/2012          5f0cf16 2012-04-01   0.016598\n",
       "670          A/Kenya/152/2011          5f0cf16 2012-04-01   0.003855\n",
       "671          A/Kenya/169/2011          5f0cf16 2012-04-01   0.014511\n",
       "807  A/Johannesburg/3495/2012          5f0cf16 2012-10-01   0.024213\n",
       "809          A/Kenya/113/2012          5f0cf16 2012-10-01   0.008919\n",
       "811          A/Kenya/230/2012          5f0cf16 2012-10-01   0.019218"
      ]
     },
     "execution_count": 133,
     "metadata": {},
     "output_type": "execute_result"
    }
   ],
   "source": [
    "tips[tips[\"strain\"].isin(clade_tips)]"
   ]
  },
  {
   "cell_type": "code",
   "execution_count": 106,
   "metadata": {},
   "outputs": [],
   "source": [
    "found_clade_tips = tips[tips[\"strain\"].isin(clade_tips)][\"strain\"].unique()"
   ]
  },
  {
   "cell_type": "code",
   "execution_count": 107,
   "metadata": {},
   "outputs": [
    {
     "data": {
      "text/plain": [
       "set()"
      ]
     },
     "execution_count": 107,
     "metadata": {},
     "output_type": "execute_result"
    }
   ],
   "source": [
    "set(clade_tips) - set(found_clade_tips)"
   ]
  },
  {
   "cell_type": "code",
   "execution_count": 108,
   "metadata": {},
   "outputs": [
    {
     "data": {
      "text/html": [
       "<div>\n",
       "<style scoped>\n",
       "    .dataframe tbody tr th:only-of-type {\n",
       "        vertical-align: middle;\n",
       "    }\n",
       "\n",
       "    .dataframe tbody tr th {\n",
       "        vertical-align: top;\n",
       "    }\n",
       "\n",
       "    .dataframe thead th {\n",
       "        text-align: right;\n",
       "    }\n",
       "</style>\n",
       "<table border=\"1\" class=\"dataframe\">\n",
       "  <thead>\n",
       "    <tr style=\"text-align: right;\">\n",
       "      <th></th>\n",
       "      <th>strain</th>\n",
       "      <th>clade_membership</th>\n",
       "      <th>timepoint</th>\n",
       "      <th>frequency</th>\n",
       "    </tr>\n",
       "  </thead>\n",
       "  <tbody>\n",
       "    <tr>\n",
       "      <th>811</th>\n",
       "      <td>A/Kenya/230/2012</td>\n",
       "      <td>5f0cf16</td>\n",
       "      <td>2012-10-01</td>\n",
       "      <td>0.019218</td>\n",
       "    </tr>\n",
       "  </tbody>\n",
       "</table>\n",
       "</div>"
      ],
      "text/plain": [
       "               strain clade_membership  timepoint  frequency\n",
       "811  A/Kenya/230/2012          5f0cf16 2012-10-01   0.019218"
      ]
     },
     "execution_count": 108,
     "metadata": {},
     "output_type": "execute_result"
    }
   ],
   "source": [
    "tips[tips[\"strain\"] == \"A/Kenya/230/2012\"]"
   ]
  },
  {
   "cell_type": "code",
   "execution_count": null,
   "metadata": {},
   "outputs": [],
   "source": []
  }
 ],
 "metadata": {
  "kernelspec": {
   "display_name": "Python 3",
   "language": "python",
   "name": "python3"
  },
  "language_info": {
   "codemirror_mode": {
    "name": "ipython",
    "version": 3
   },
   "file_extension": ".py",
   "mimetype": "text/x-python",
   "name": "python",
   "nbconvert_exporter": "python",
   "pygments_lexer": "ipython3",
   "version": "3.6.7"
  }
 },
 "nbformat": 4,
 "nbformat_minor": 2
}
