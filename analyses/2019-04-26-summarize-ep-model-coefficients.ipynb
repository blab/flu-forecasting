{
 "cells": [
  {
   "cell_type": "code",
   "execution_count": 12,
   "metadata": {},
   "outputs": [],
   "source": [
    "import numpy as np"
   ]
  },
  {
   "cell_type": "code",
   "execution_count": 4,
   "metadata": {},
   "outputs": [],
   "source": [
    "coefficients_uncensored = \"\"\"0         2014.25      0.727468\n",
    "1         2014.75      0.631149\n",
    "2         2015.25      0.516993\n",
    "3         2015.75      0.340047\n",
    "4         2016.25      0.241202\n",
    "5         2016.75      0.222907\n",
    "6         2017.25      0.202406\n",
    "7         2017.75      0.224765\"\"\""
   ]
  },
  {
   "cell_type": "code",
   "execution_count": 15,
   "metadata": {},
   "outputs": [
    {
     "data": {
      "text/plain": [
       "0.3884"
      ]
     },
     "execution_count": 15,
     "metadata": {},
     "output_type": "execute_result"
    }
   ],
   "source": [
    "np.around(np.mean([float(line.split()[-1]) for line in coefficients_uncensored.split(\"\\n\")]), 4)"
   ]
  },
  {
   "cell_type": "code",
   "execution_count": 16,
   "metadata": {},
   "outputs": [],
   "source": [
    "coefficients_censored = \"\"\"0         2014.25      2.266497\n",
    "1         2014.75      2.269250\n",
    "2         2015.25      0.677349\n",
    "3         2015.75      0.349733\n",
    "4         2016.25      0.209036\n",
    "5         2016.75      0.192601\n",
    "6         2017.25      0.175276\n",
    "7         2017.75      0.196672\"\"\""
   ]
  },
  {
   "cell_type": "code",
   "execution_count": 17,
   "metadata": {},
   "outputs": [
    {
     "data": {
      "text/plain": [
       "0.7921"
      ]
     },
     "execution_count": 17,
     "metadata": {},
     "output_type": "execute_result"
    }
   ],
   "source": [
    "np.around(np.mean([float(line.split()[-1]) for line in coefficients_censored.split(\"\\n\")]), 4)"
   ]
  },
  {
   "cell_type": "code",
   "execution_count": 18,
   "metadata": {},
   "outputs": [],
   "source": [
    "coefficients_multi_censored = \"\"\"7            2011-10-01    -0.631077\n",
    "8            2012-04-01    -0.868021\n",
    "9            2012-10-01    -0.779859\n",
    "10           2013-04-01    -0.350623\n",
    "11           2013-10-01     0.185063\n",
    "12           2014-04-01     0.333416\n",
    "13           2014-10-01     0.551556\"\"\""
   ]
  },
  {
   "cell_type": "code",
   "execution_count": 19,
   "metadata": {},
   "outputs": [
    {
     "data": {
      "text/plain": [
       "-0.2228"
      ]
     },
     "execution_count": 19,
     "metadata": {},
     "output_type": "execute_result"
    }
   ],
   "source": [
    "np.around(np.mean([float(line.split()[-1]) for line in coefficients_multi_censored.split(\"\\n\")]), 4)"
   ]
  },
  {
   "cell_type": "code",
   "execution_count": 20,
   "metadata": {},
   "outputs": [],
   "source": [
    "correlations_uncensored = \"\"\"0         2014.25              0.370674            -0.477786\n",
    "1         2014.75              0.323026            -0.650315\n",
    "2         2015.25              0.259765            -0.417765\n",
    "3         2015.75              0.167928            -0.107088\n",
    "4         2016.25              0.145978            -0.617214\n",
    "5         2016.75              0.132136             0.608225\n",
    "6         2017.25              0.111999             0.540958\n",
    "7         2017.75              0.132898             0.294026\"\"\""
   ]
  },
  {
   "cell_type": "code",
   "execution_count": 22,
   "metadata": {},
   "outputs": [
    {
     "data": {
      "text/plain": [
       "['0         2014.25              0.370674            -0.477786',\n",
       " '1         2014.75              0.323026            -0.650315',\n",
       " '2         2015.25              0.259765            -0.417765',\n",
       " '3         2015.75              0.167928            -0.107088',\n",
       " '4         2016.25              0.145978            -0.617214',\n",
       " '5         2016.75              0.132136             0.608225',\n",
       " '6         2017.25              0.111999             0.540958',\n",
       " '7         2017.75              0.132898             0.294026']"
      ]
     },
     "execution_count": 22,
     "metadata": {},
     "output_type": "execute_result"
    }
   ],
   "source": [
    "correlations_uncensored.split(\"\\n\")"
   ]
  },
  {
   "cell_type": "code",
   "execution_count": 23,
   "metadata": {},
   "outputs": [
    {
     "data": {
      "text/plain": [
       "[['0', '2014.25', '0.370674', '-0.477786'],\n",
       " ['1', '2014.75', '0.323026', '-0.650315'],\n",
       " ['2', '2015.25', '0.259765', '-0.417765'],\n",
       " ['3', '2015.75', '0.167928', '-0.107088'],\n",
       " ['4', '2016.25', '0.145978', '-0.617214'],\n",
       " ['5', '2016.75', '0.132136', '0.608225'],\n",
       " ['6', '2017.25', '0.111999', '0.540958'],\n",
       " ['7', '2017.75', '0.132898', '0.294026']]"
      ]
     },
     "execution_count": 23,
     "metadata": {},
     "output_type": "execute_result"
    }
   ],
   "source": [
    "[line.split() for line in correlations_uncensored.split(\"\\n\")]"
   ]
  },
  {
   "cell_type": "code",
   "execution_count": 24,
   "metadata": {},
   "outputs": [
    {
     "data": {
      "text/plain": [
       "0.2056"
      ]
     },
     "execution_count": 24,
     "metadata": {},
     "output_type": "execute_result"
    }
   ],
   "source": [
    "np.around(np.mean([float(line.split()[-2]) for line in correlations_uncensored.split(\"\\n\")]), 4)"
   ]
  },
  {
   "cell_type": "code",
   "execution_count": 21,
   "metadata": {},
   "outputs": [
    {
     "data": {
      "text/plain": [
       "-0.1034"
      ]
     },
     "execution_count": 21,
     "metadata": {},
     "output_type": "execute_result"
    }
   ],
   "source": [
    "np.around(np.mean([float(line.split()[-1]) for line in correlations_uncensored.split(\"\\n\")]), 4)"
   ]
  },
  {
   "cell_type": "code",
   "execution_count": 25,
   "metadata": {},
   "outputs": [],
   "source": [
    "correlations_censored = \"\"\"0         2014.25              0.534528            -0.468950\n",
    "1         2014.75              0.511698            -0.321460\n",
    "2         2015.25              0.281948            -0.468422\n",
    "3         2015.75              0.140711            -0.101120\n",
    "4         2016.25              0.106150            -0.592654\n",
    "5         2016.75              0.090920             0.516670\n",
    "6         2017.25              0.074183             0.633187\n",
    "7         2017.75              0.093403             0.300720\"\"\""
   ]
  },
  {
   "cell_type": "code",
   "execution_count": 27,
   "metadata": {},
   "outputs": [
    {
     "data": {
      "text/plain": [
       "0.2292"
      ]
     },
     "execution_count": 27,
     "metadata": {},
     "output_type": "execute_result"
    }
   ],
   "source": [
    "np.around(np.mean([float(line.split()[-2]) for line in correlations_censored.split(\"\\n\")]), 4)"
   ]
  },
  {
   "cell_type": "code",
   "execution_count": 28,
   "metadata": {},
   "outputs": [
    {
     "data": {
      "text/plain": [
       "-0.0628"
      ]
     },
     "execution_count": 28,
     "metadata": {},
     "output_type": "execute_result"
    }
   ],
   "source": [
    "np.around(np.mean([float(line.split()[-1]) for line in correlations_censored.split(\"\\n\")]), 4)"
   ]
  },
  {
   "cell_type": "code",
   "execution_count": 29,
   "metadata": {},
   "outputs": [],
   "source": [
    "correlations_multi = \"\"\"28     2011-10-01             -0.021554            -0.046119\n",
    "29     2012-04-01              0.008036             0.010675\n",
    "30     2012-10-01              0.038138             0.038619\n",
    "31     2013-04-01              0.052188            -0.353919\n",
    "32     2013-10-01             -0.055193             0.228119\n",
    "33     2014-04-01             -0.051533            -0.058964\n",
    "34     2014-10-01             -0.053551            -0.266037\"\"\""
   ]
  },
  {
   "cell_type": "code",
   "execution_count": 30,
   "metadata": {},
   "outputs": [
    {
     "data": {
      "text/plain": [
       "-0.0119"
      ]
     },
     "execution_count": 30,
     "metadata": {},
     "output_type": "execute_result"
    }
   ],
   "source": [
    "np.around(np.mean([float(line.split()[-2]) for line in correlations_multi.split(\"\\n\")]), 4)"
   ]
  },
  {
   "cell_type": "code",
   "execution_count": 31,
   "metadata": {},
   "outputs": [
    {
     "data": {
      "text/plain": [
       "-0.0639"
      ]
     },
     "execution_count": 31,
     "metadata": {},
     "output_type": "execute_result"
    }
   ],
   "source": [
    "np.around(np.mean([float(line.split()[-1]) for line in correlations_multi.split(\"\\n\")]), 4)"
   ]
  },
  {
   "cell_type": "markdown",
   "metadata": {},
   "source": [
    "| Model | Mean coefficient | Mean training r | Mean testing r |\n",
    "| -- | -- | -- | -- |\n",
    "| single tree, uncensored | 0.3884 | 0.2056 | -0.1034 |\n",
    "| single tree, censored | 0.7921 | 0.2292 | -0.0628 |\n",
    "| multi tree, censored | -0.2228 | -0.0119 | -0.0639 |"
   ]
  },
  {
   "cell_type": "code",
   "execution_count": null,
   "metadata": {},
   "outputs": [],
   "source": []
  }
 ],
 "metadata": {
  "kernelspec": {
   "display_name": "Python 3",
   "language": "python",
   "name": "python3"
  },
  "language_info": {
   "codemirror_mode": {
    "name": "ipython",
    "version": 3
   },
   "file_extension": ".py",
   "mimetype": "text/x-python",
   "name": "python",
   "nbconvert_exporter": "python",
   "pygments_lexer": "ipython3",
   "version": "3.6.7"
  }
 },
 "nbformat": 4,
 "nbformat_minor": 2
}
