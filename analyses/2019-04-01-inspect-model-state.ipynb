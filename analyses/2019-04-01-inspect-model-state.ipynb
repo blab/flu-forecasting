{
 "cells": [
  {
   "cell_type": "markdown",
   "metadata": {},
   "source": [
    "# Inspect the state of the exponential growth model class\n",
    "\n",
    "Run an example model (LBI) and investigate the state of the model class at different steps of the model execution. This code will test the model interface and underlying functionality."
   ]
  },
  {
   "cell_type": "code",
   "execution_count": 1,
   "metadata": {},
   "outputs": [],
   "source": [
    "import matplotlib.pyplot as plt\n",
    "import numpy as np\n",
    "import pandas as pd\n",
    "import sys\n",
    "\n",
    "%matplotlib inline\n",
    "\n",
    "plt.style.use(\"huddlej\")"
   ]
  },
  {
   "cell_type": "code",
   "execution_count": 2,
   "metadata": {},
   "outputs": [
    {
     "data": {
      "text/plain": [
       "'/Users/jlhudd/projects/nextstrain/flu-forecasting/analyses'"
      ]
     },
     "execution_count": 2,
     "metadata": {},
     "output_type": "execute_result"
    }
   ],
   "source": [
    "pwd"
   ]
  },
  {
   "cell_type": "code",
   "execution_count": 3,
   "metadata": {},
   "outputs": [],
   "source": [
    "sys.path.insert(0, \"../src\")"
   ]
  },
  {
   "cell_type": "code",
   "execution_count": 4,
   "metadata": {},
   "outputs": [],
   "source": [
    "from fit_model import ExponentialGrowthModel\n",
    "from forecast.metrics import mean_absolute_error, sum_of_squared_errors"
   ]
  },
  {
   "cell_type": "markdown",
   "metadata": {},
   "source": [
    "## Load data"
   ]
  },
  {
   "cell_type": "markdown",
   "metadata": {},
   "source": [
    "Define the range of possible coefficient values to explore."
   ]
  },
  {
   "cell_type": "code",
   "execution_count": 5,
   "metadata": {},
   "outputs": [],
   "source": [
    "coefficients = np.array([0.9])"
   ]
  },
  {
   "cell_type": "code",
   "execution_count": 6,
   "metadata": {},
   "outputs": [],
   "source": [
    "delta_time = 1.0\n",
    "l1_lambda = 0.0"
   ]
  },
  {
   "cell_type": "code",
   "execution_count": 7,
   "metadata": {},
   "outputs": [],
   "source": [
    "last_timepoint = pd.to_datetime(\"2014-10-01\")"
   ]
  },
  {
   "cell_type": "code",
   "execution_count": 8,
   "metadata": {},
   "outputs": [],
   "source": [
    "# Load tip attributes.\n",
    "X = pd.read_csv(\n",
    "    \"../results/builds/h3n2/20_viruses_per_month/sample_0/2000-10-01--2015-10-01/standardized_tip_attributes.tsv\",\n",
    "    sep=\"\\t\",\n",
    "    parse_dates=[\"timepoint\"]\n",
    ")"
   ]
  },
  {
   "cell_type": "code",
   "execution_count": 9,
   "metadata": {},
   "outputs": [],
   "source": [
    "X = X.loc[:, [\"strain\", \"clade_membership\", \"timepoint\", \"cTiterSub_x\", \"lbi\", \"ep\", \"ne\", \"delta_frequency\", \"frequency\"]].copy()"
   ]
  },
  {
   "cell_type": "code",
   "execution_count": 10,
   "metadata": {},
   "outputs": [],
   "source": [
    "X = X[X[\"timepoint\"] <= last_timepoint]"
   ]
  },
  {
   "cell_type": "code",
   "execution_count": 11,
   "metadata": {},
   "outputs": [
    {
     "data": {
      "text/html": [
       "<div>\n",
       "<style scoped>\n",
       "    .dataframe tbody tr th:only-of-type {\n",
       "        vertical-align: middle;\n",
       "    }\n",
       "\n",
       "    .dataframe tbody tr th {\n",
       "        vertical-align: top;\n",
       "    }\n",
       "\n",
       "    .dataframe thead th {\n",
       "        text-align: right;\n",
       "    }\n",
       "</style>\n",
       "<table border=\"1\" class=\"dataframe\">\n",
       "  <thead>\n",
       "    <tr style=\"text-align: right;\">\n",
       "      <th></th>\n",
       "      <th>strain</th>\n",
       "      <th>clade_membership</th>\n",
       "      <th>timepoint</th>\n",
       "      <th>cTiterSub_x</th>\n",
       "      <th>lbi</th>\n",
       "      <th>ep</th>\n",
       "      <th>ne</th>\n",
       "      <th>delta_frequency</th>\n",
       "      <th>frequency</th>\n",
       "    </tr>\n",
       "  </thead>\n",
       "  <tbody>\n",
       "    <tr>\n",
       "      <th>0</th>\n",
       "      <td>A/Aichi/181/2004</td>\n",
       "      <td>e5a7ac4</td>\n",
       "      <td>2004-10-01</td>\n",
       "      <td>-0.877902</td>\n",
       "      <td>-0.778522</td>\n",
       "      <td>9</td>\n",
       "      <td>6</td>\n",
       "      <td>-1.066069</td>\n",
       "      <td>0.003256</td>\n",
       "    </tr>\n",
       "    <tr>\n",
       "      <th>1</th>\n",
       "      <td>A/Aichi/183/2004</td>\n",
       "      <td>e5a7ac4</td>\n",
       "      <td>2004-10-01</td>\n",
       "      <td>-0.877902</td>\n",
       "      <td>-0.728971</td>\n",
       "      <td>10</td>\n",
       "      <td>6</td>\n",
       "      <td>-1.066069</td>\n",
       "      <td>0.003087</td>\n",
       "    </tr>\n",
       "    <tr>\n",
       "      <th>2</th>\n",
       "      <td>A/Anhui/789/2004</td>\n",
       "      <td>66684e0</td>\n",
       "      <td>2004-10-01</td>\n",
       "      <td>-0.877902</td>\n",
       "      <td>-1.088123</td>\n",
       "      <td>11</td>\n",
       "      <td>8</td>\n",
       "      <td>-0.844699</td>\n",
       "      <td>0.003449</td>\n",
       "    </tr>\n",
       "    <tr>\n",
       "      <th>3</th>\n",
       "      <td>A/Argentina/126/2004</td>\n",
       "      <td>e5a7ac4</td>\n",
       "      <td>2004-10-01</td>\n",
       "      <td>-0.879079</td>\n",
       "      <td>-0.628908</td>\n",
       "      <td>10</td>\n",
       "      <td>7</td>\n",
       "      <td>-1.066069</td>\n",
       "      <td>0.004187</td>\n",
       "    </tr>\n",
       "    <tr>\n",
       "      <th>4</th>\n",
       "      <td>A/Argentina/26/2004</td>\n",
       "      <td>2f64328</td>\n",
       "      <td>2004-10-01</td>\n",
       "      <td>-1.702271</td>\n",
       "      <td>-1.184077</td>\n",
       "      <td>7</td>\n",
       "      <td>8</td>\n",
       "      <td>-2.323949</td>\n",
       "      <td>0.002362</td>\n",
       "    </tr>\n",
       "  </tbody>\n",
       "</table>\n",
       "</div>"
      ],
      "text/plain": [
       "                 strain clade_membership  timepoint  cTiterSub_x       lbi  \\\n",
       "0      A/Aichi/181/2004          e5a7ac4 2004-10-01    -0.877902 -0.778522   \n",
       "1      A/Aichi/183/2004          e5a7ac4 2004-10-01    -0.877902 -0.728971   \n",
       "2      A/Anhui/789/2004          66684e0 2004-10-01    -0.877902 -1.088123   \n",
       "3  A/Argentina/126/2004          e5a7ac4 2004-10-01    -0.879079 -0.628908   \n",
       "4   A/Argentina/26/2004          2f64328 2004-10-01    -1.702271 -1.184077   \n",
       "\n",
       "   ep  ne  delta_frequency  frequency  \n",
       "0   9   6        -1.066069   0.003256  \n",
       "1  10   6        -1.066069   0.003087  \n",
       "2  11   8        -0.844699   0.003449  \n",
       "3  10   7        -1.066069   0.004187  \n",
       "4   7   8        -2.323949   0.002362  "
      ]
     },
     "execution_count": 11,
     "metadata": {},
     "output_type": "execute_result"
    }
   ],
   "source": [
    "X.head()"
   ]
  },
  {
   "cell_type": "code",
   "execution_count": 12,
   "metadata": {},
   "outputs": [
    {
     "data": {
      "text/plain": [
       "(6578, 9)"
      ]
     },
     "execution_count": 12,
     "metadata": {},
     "output_type": "execute_result"
    }
   ],
   "source": [
    "X.shape"
   ]
  },
  {
   "cell_type": "code",
   "execution_count": 13,
   "metadata": {},
   "outputs": [],
   "source": [
    "# Load final clade tip frequencies.\n",
    "final_clade_frequencies = pd.read_csv(\n",
    "    \"../results/builds/h3n2/20_viruses_per_month/sample_0/2000-10-01--2015-10-01/final_clade_frequencies.tsv\",\n",
    "    sep=\"\\t\",\n",
    "    parse_dates=[\"initial_timepoint\", \"final_timepoint\"]\n",
    ")"
   ]
  },
  {
   "cell_type": "code",
   "execution_count": 14,
   "metadata": {},
   "outputs": [
    {
     "data": {
      "text/html": [
       "<div>\n",
       "<style scoped>\n",
       "    .dataframe tbody tr th:only-of-type {\n",
       "        vertical-align: middle;\n",
       "    }\n",
       "\n",
       "    .dataframe tbody tr th {\n",
       "        vertical-align: top;\n",
       "    }\n",
       "\n",
       "    .dataframe thead th {\n",
       "        text-align: right;\n",
       "    }\n",
       "</style>\n",
       "<table border=\"1\" class=\"dataframe\">\n",
       "  <thead>\n",
       "    <tr style=\"text-align: right;\">\n",
       "      <th></th>\n",
       "      <th>initial_timepoint</th>\n",
       "      <th>clade_membership</th>\n",
       "      <th>final_timepoint</th>\n",
       "      <th>strain</th>\n",
       "      <th>frequency</th>\n",
       "    </tr>\n",
       "  </thead>\n",
       "  <tbody>\n",
       "    <tr>\n",
       "      <th>0</th>\n",
       "      <td>2004-10-01</td>\n",
       "      <td>e5a7ac4</td>\n",
       "      <td>2005-10-01</td>\n",
       "      <td>A/RioGrandeDoSul/290/2005</td>\n",
       "      <td>0.002219</td>\n",
       "    </tr>\n",
       "    <tr>\n",
       "      <th>1</th>\n",
       "      <td>2004-10-01</td>\n",
       "      <td>e5a7ac4</td>\n",
       "      <td>2005-10-01</td>\n",
       "      <td>A/Thailand/44/2005</td>\n",
       "      <td>0.000074</td>\n",
       "    </tr>\n",
       "    <tr>\n",
       "      <th>2</th>\n",
       "      <td>2004-10-01</td>\n",
       "      <td>66684e0</td>\n",
       "      <td>2005-10-01</td>\n",
       "      <td>NaN</td>\n",
       "      <td>0.000000</td>\n",
       "    </tr>\n",
       "    <tr>\n",
       "      <th>3</th>\n",
       "      <td>2004-10-01</td>\n",
       "      <td>2f64328</td>\n",
       "      <td>2005-10-01</td>\n",
       "      <td>NaN</td>\n",
       "      <td>0.000000</td>\n",
       "    </tr>\n",
       "    <tr>\n",
       "      <th>4</th>\n",
       "      <td>2004-10-01</td>\n",
       "      <td>8f3fc76</td>\n",
       "      <td>2005-10-01</td>\n",
       "      <td>A/Hanoi/ISBM16/2005</td>\n",
       "      <td>0.000778</td>\n",
       "    </tr>\n",
       "  </tbody>\n",
       "</table>\n",
       "</div>"
      ],
      "text/plain": [
       "  initial_timepoint clade_membership final_timepoint  \\\n",
       "0        2004-10-01          e5a7ac4      2005-10-01   \n",
       "1        2004-10-01          e5a7ac4      2005-10-01   \n",
       "2        2004-10-01          66684e0      2005-10-01   \n",
       "3        2004-10-01          2f64328      2005-10-01   \n",
       "4        2004-10-01          8f3fc76      2005-10-01   \n",
       "\n",
       "                      strain  frequency  \n",
       "0  A/RioGrandeDoSul/290/2005   0.002219  \n",
       "1         A/Thailand/44/2005   0.000074  \n",
       "2                        NaN   0.000000  \n",
       "3                        NaN   0.000000  \n",
       "4        A/Hanoi/ISBM16/2005   0.000778  "
      ]
     },
     "execution_count": 14,
     "metadata": {},
     "output_type": "execute_result"
    }
   ],
   "source": [
    "final_clade_frequencies.head()"
   ]
  },
  {
   "cell_type": "code",
   "execution_count": 15,
   "metadata": {},
   "outputs": [],
   "source": [
    "y = final_clade_frequencies.groupby([\n",
    "    \"initial_timepoint\",\n",
    "    \"clade_membership\"\n",
    "])[\"frequency\"].sum().reset_index()"
   ]
  },
  {
   "cell_type": "code",
   "execution_count": 16,
   "metadata": {},
   "outputs": [],
   "source": [
    "y = y.rename(\n",
    "    columns={\"initial_timepoint\": \"timepoint\"}\n",
    ")"
   ]
  },
  {
   "cell_type": "code",
   "execution_count": 17,
   "metadata": {},
   "outputs": [],
   "source": [
    "y = y[y[\"timepoint\"] <= last_timepoint]"
   ]
  },
  {
   "cell_type": "code",
   "execution_count": 18,
   "metadata": {},
   "outputs": [
    {
     "data": {
      "text/html": [
       "<div>\n",
       "<style scoped>\n",
       "    .dataframe tbody tr th:only-of-type {\n",
       "        vertical-align: middle;\n",
       "    }\n",
       "\n",
       "    .dataframe tbody tr th {\n",
       "        vertical-align: top;\n",
       "    }\n",
       "\n",
       "    .dataframe thead th {\n",
       "        text-align: right;\n",
       "    }\n",
       "</style>\n",
       "<table border=\"1\" class=\"dataframe\">\n",
       "  <thead>\n",
       "    <tr style=\"text-align: right;\">\n",
       "      <th></th>\n",
       "      <th>timepoint</th>\n",
       "      <th>clade_membership</th>\n",
       "      <th>frequency</th>\n",
       "    </tr>\n",
       "  </thead>\n",
       "  <tbody>\n",
       "    <tr>\n",
       "      <th>0</th>\n",
       "      <td>2004-10-01</td>\n",
       "      <td>2f64328</td>\n",
       "      <td>0.000000</td>\n",
       "    </tr>\n",
       "    <tr>\n",
       "      <th>1</th>\n",
       "      <td>2004-10-01</td>\n",
       "      <td>66684e0</td>\n",
       "      <td>0.000000</td>\n",
       "    </tr>\n",
       "    <tr>\n",
       "      <th>2</th>\n",
       "      <td>2004-10-01</td>\n",
       "      <td>84dfd90</td>\n",
       "      <td>0.000227</td>\n",
       "    </tr>\n",
       "    <tr>\n",
       "      <th>3</th>\n",
       "      <td>2004-10-01</td>\n",
       "      <td>8f3fc76</td>\n",
       "      <td>0.018687</td>\n",
       "    </tr>\n",
       "    <tr>\n",
       "      <th>4</th>\n",
       "      <td>2004-10-01</td>\n",
       "      <td>dffb0cc</td>\n",
       "      <td>0.000000</td>\n",
       "    </tr>\n",
       "  </tbody>\n",
       "</table>\n",
       "</div>"
      ],
      "text/plain": [
       "   timepoint clade_membership  frequency\n",
       "0 2004-10-01          2f64328   0.000000\n",
       "1 2004-10-01          66684e0   0.000000\n",
       "2 2004-10-01          84dfd90   0.000227\n",
       "3 2004-10-01          8f3fc76   0.018687\n",
       "4 2004-10-01          dffb0cc   0.000000"
      ]
     },
     "execution_count": 18,
     "metadata": {},
     "output_type": "execute_result"
    }
   ],
   "source": [
    "y.head()"
   ]
  },
  {
   "cell_type": "code",
   "execution_count": 19,
   "metadata": {},
   "outputs": [
    {
     "data": {
      "text/plain": [
       "timepoint\n",
       "2004-10-01    0.964599\n",
       "2005-04-01    0.998802\n",
       "2005-10-01    1.000009\n",
       "2006-04-01    0.999998\n",
       "2006-10-01    0.999997\n",
       "2007-04-01    1.000000\n",
       "2007-10-01    1.000002\n",
       "2008-04-01    0.999994\n",
       "2008-10-01    1.000001\n",
       "2009-04-01    0.999998\n",
       "2009-10-01    0.999994\n",
       "2010-04-01    0.999995\n",
       "2010-10-01    0.999990\n",
       "2011-04-01    0.999991\n",
       "2011-10-01    0.991572\n",
       "2012-04-01    0.999686\n",
       "2012-10-01    0.995549\n",
       "2013-04-01    0.999946\n",
       "2013-10-01    1.000004\n",
       "2014-04-01    1.000002\n",
       "2014-10-01    0.999980\n",
       "Name: frequency, dtype: float64"
      ]
     },
     "execution_count": 19,
     "metadata": {},
     "output_type": "execute_result"
    }
   ],
   "source": [
    "y.groupby(\"timepoint\")[\"frequency\"].sum()"
   ]
  },
  {
   "cell_type": "markdown",
   "metadata": {},
   "source": [
    "## Inspect LBI model"
   ]
  },
  {
   "cell_type": "code",
   "execution_count": 20,
   "metadata": {},
   "outputs": [],
   "source": [
    "predictors = [\"lbi\"]\n",
    "model = ExponentialGrowthModel(\n",
    "    predictors=predictors,\n",
    "    delta_time=delta_time,\n",
    "    l1_lambda=l1_lambda,\n",
    "    cost_function=sum_of_squared_errors\n",
    ")"
   ]
  },
  {
   "cell_type": "code",
   "execution_count": 21,
   "metadata": {},
   "outputs": [
    {
     "name": "stdout",
     "output_type": "stream",
     "text": [
      "Optimization terminated successfully.\n",
      "         Current function value: 4.812626\n",
      "         Iterations: 15\n",
      "         Function evaluations: 30\n"
     ]
    }
   ],
   "source": [
    "training_error = model.fit(X, y)"
   ]
  },
  {
   "cell_type": "code",
   "execution_count": 22,
   "metadata": {},
   "outputs": [
    {
     "data": {
      "text/plain": [
       "4.812626405870529"
      ]
     },
     "execution_count": 22,
     "metadata": {},
     "output_type": "execute_result"
    }
   ],
   "source": [
    "training_error"
   ]
  },
  {
   "cell_type": "code",
   "execution_count": 23,
   "metadata": {},
   "outputs": [
    {
     "data": {
      "text/plain": [
       "array([0.90168873])"
      ]
     },
     "execution_count": 23,
     "metadata": {},
     "output_type": "execute_result"
    }
   ],
   "source": [
    "model.coef_"
   ]
  },
  {
   "cell_type": "code",
   "execution_count": 32,
   "metadata": {},
   "outputs": [],
   "source": [
    "coefficients = model.coef_"
   ]
  },
  {
   "cell_type": "code",
   "execution_count": 24,
   "metadata": {},
   "outputs": [
    {
     "data": {
      "text/plain": [
       "<function forecast.metrics.sum_of_squared_errors(observed, estimated, **kwargs)>"
      ]
     },
     "execution_count": 24,
     "metadata": {},
     "output_type": "execute_result"
    }
   ],
   "source": [
    "model.cost_function"
   ]
  },
  {
   "cell_type": "code",
   "execution_count": 25,
   "metadata": {},
   "outputs": [
    {
     "data": {
      "text/plain": [
       "['lbi']"
      ]
     },
     "execution_count": 25,
     "metadata": {},
     "output_type": "execute_result"
    }
   ],
   "source": [
    "model.predictors"
   ]
  },
  {
   "cell_type": "code",
   "execution_count": 26,
   "metadata": {},
   "outputs": [
    {
     "data": {
      "text/plain": [
       "0.0"
      ]
     },
     "execution_count": 26,
     "metadata": {},
     "output_type": "execute_result"
    }
   ],
   "source": [
    "model.l1_lambda"
   ]
  },
  {
   "cell_type": "code",
   "execution_count": 27,
   "metadata": {},
   "outputs": [
    {
     "data": {
      "text/plain": [
       "\u001b[0;31mSignature:\u001b[0m \u001b[0mmodel\u001b[0m\u001b[0;34m.\u001b[0m\u001b[0mget_fitnesses\u001b[0m\u001b[0;34m(\u001b[0m\u001b[0mcoefficients\u001b[0m\u001b[0;34m,\u001b[0m \u001b[0mpredictors\u001b[0m\u001b[0;34m)\u001b[0m\u001b[0;34m\u001b[0m\u001b[0;34m\u001b[0m\u001b[0m\n",
       "\u001b[0;31mDocstring:\u001b[0m\n",
       "Apply the coefficients to the predictors and sum them to get strain\n",
       "fitnesses.\n",
       "\n",
       "Parameters\n",
       "----------\n",
       "coefficients : ndarray or list\n",
       "    coefficients for given predictors\n",
       "\n",
       "predictors : ndarray\n",
       "    predictor values per sample (p x n matrix for p predictors and n samples)\n",
       "\n",
       "Returns\n",
       "-------\n",
       "ndarray :\n",
       "    fitnesses per sample\n",
       "\u001b[0;31mFile:\u001b[0m      ~/projects/nextstrain/flu-forecasting/src/fit_model.py\n",
       "\u001b[0;31mType:\u001b[0m      method\n"
      ]
     },
     "metadata": {},
     "output_type": "display_data"
    }
   ],
   "source": [
    "model.get_fitnesses?"
   ]
  },
  {
   "cell_type": "code",
   "execution_count": 31,
   "metadata": {},
   "outputs": [
    {
     "data": {
      "text/plain": [
       "\u001b[0;31mSignature:\u001b[0m \u001b[0mmodel\u001b[0m\u001b[0;34m.\u001b[0m\u001b[0m_fit\u001b[0m\u001b[0;34m(\u001b[0m\u001b[0mcoefficients\u001b[0m\u001b[0;34m,\u001b[0m \u001b[0mX\u001b[0m\u001b[0;34m,\u001b[0m \u001b[0my\u001b[0m\u001b[0;34m)\u001b[0m\u001b[0;34m\u001b[0m\u001b[0;34m\u001b[0m\u001b[0m\n",
       "\u001b[0;31mSource:\u001b[0m   \n",
       "    \u001b[0;32mdef\u001b[0m \u001b[0m_fit\u001b[0m\u001b[0;34m(\u001b[0m\u001b[0mself\u001b[0m\u001b[0;34m,\u001b[0m \u001b[0mcoefficients\u001b[0m\u001b[0;34m,\u001b[0m \u001b[0mX\u001b[0m\u001b[0;34m,\u001b[0m \u001b[0my\u001b[0m\u001b[0;34m)\u001b[0m\u001b[0;34m:\u001b[0m\u001b[0;34m\u001b[0m\n",
       "\u001b[0;34m\u001b[0m        \u001b[0;34m\"\"\"Calculate the error between observed and estimated values for the given\u001b[0m\n",
       "\u001b[0;34m        parameters and data.\u001b[0m\n",
       "\u001b[0;34m\u001b[0m\n",
       "\u001b[0;34m        Parameters\u001b[0m\n",
       "\u001b[0;34m        ----------\u001b[0m\n",
       "\u001b[0;34m        coefficients : ndarray\u001b[0m\n",
       "\u001b[0;34m            coefficients for each of the model's predictors\u001b[0m\n",
       "\u001b[0;34m\u001b[0m\n",
       "\u001b[0;34m        X : pandas.DataFrame\u001b[0m\n",
       "\u001b[0;34m            standardized tip attributes by timepoint\u001b[0m\n",
       "\u001b[0;34m\u001b[0m\n",
       "\u001b[0;34m        y : pandas.DataFrame\u001b[0m\n",
       "\u001b[0;34m            final clade frequencies at delta time in the future from each\u001b[0m\n",
       "\u001b[0;34m            timepoint in the given tip attributes table\u001b[0m\n",
       "\u001b[0;34m\u001b[0m\n",
       "\u001b[0;34m        Returns\u001b[0m\n",
       "\u001b[0;34m        -------\u001b[0m\n",
       "\u001b[0;34m        float :\u001b[0m\n",
       "\u001b[0;34m            error between estimated values using the given coefficients and\u001b[0m\n",
       "\u001b[0;34m            input data and the observed values\u001b[0m\n",
       "\u001b[0;34m        \"\"\"\u001b[0m\u001b[0;34m\u001b[0m\n",
       "\u001b[0;34m\u001b[0m        \u001b[0;31m# Estimate final frequencies.\u001b[0m\u001b[0;34m\u001b[0m\n",
       "\u001b[0;34m\u001b[0m        \u001b[0my_hat\u001b[0m \u001b[0;34m=\u001b[0m \u001b[0mself\u001b[0m\u001b[0;34m.\u001b[0m\u001b[0mpredict\u001b[0m\u001b[0;34m(\u001b[0m\u001b[0mX\u001b[0m\u001b[0;34m,\u001b[0m \u001b[0mcoefficients\u001b[0m\u001b[0;34m)\u001b[0m\u001b[0;34m\u001b[0m\n",
       "\u001b[0;34m\u001b[0m\u001b[0;34m\u001b[0m\n",
       "\u001b[0;34m\u001b[0m        \u001b[0;31m# Merge estimated and observed frequencies. The left join enables\u001b[0m\u001b[0;34m\u001b[0m\n",
       "\u001b[0;34m\u001b[0m        \u001b[0;31m# tracking of clades that die in the future and are therefore not\u001b[0m\u001b[0;34m\u001b[0m\n",
       "\u001b[0;34m\u001b[0m        \u001b[0;31m# observed in the future frequencies data frame.\u001b[0m\u001b[0;34m\u001b[0m\n",
       "\u001b[0;34m\u001b[0m        \u001b[0mfrequencies\u001b[0m \u001b[0;34m=\u001b[0m \u001b[0my_hat\u001b[0m\u001b[0;34m.\u001b[0m\u001b[0mmerge\u001b[0m\u001b[0;34m(\u001b[0m\u001b[0;34m\u001b[0m\n",
       "\u001b[0;34m\u001b[0m            \u001b[0my\u001b[0m\u001b[0;34m,\u001b[0m\u001b[0;34m\u001b[0m\n",
       "\u001b[0;34m\u001b[0m            \u001b[0mhow\u001b[0m\u001b[0;34m=\u001b[0m\u001b[0;34m\"left\"\u001b[0m\u001b[0;34m,\u001b[0m\u001b[0;34m\u001b[0m\n",
       "\u001b[0;34m\u001b[0m            \u001b[0mon\u001b[0m\u001b[0;34m=\u001b[0m\u001b[0;34m[\u001b[0m\u001b[0;34m\"timepoint\"\u001b[0m\u001b[0;34m,\u001b[0m \u001b[0;34m\"clade_membership\"\u001b[0m\u001b[0;34m]\u001b[0m\u001b[0;34m,\u001b[0m\u001b[0;34m\u001b[0m\n",
       "\u001b[0;34m\u001b[0m            \u001b[0msuffixes\u001b[0m\u001b[0;34m=\u001b[0m\u001b[0;34m[\u001b[0m\u001b[0;34m\"_estimated\"\u001b[0m\u001b[0;34m,\u001b[0m \u001b[0;34m\"_observed\"\u001b[0m\u001b[0;34m]\u001b[0m\u001b[0;34m\u001b[0m\n",
       "\u001b[0;34m\u001b[0m        \u001b[0;34m)\u001b[0m\u001b[0;34m\u001b[0m\n",
       "\u001b[0;34m\u001b[0m        \u001b[0mfrequencies\u001b[0m\u001b[0;34m[\u001b[0m\u001b[0;34m\"frequency_observed\"\u001b[0m\u001b[0;34m]\u001b[0m \u001b[0;34m=\u001b[0m \u001b[0mfrequencies\u001b[0m\u001b[0;34m[\u001b[0m\u001b[0;34m\"frequency_observed\"\u001b[0m\u001b[0;34m]\u001b[0m\u001b[0;34m.\u001b[0m\u001b[0mfillna\u001b[0m\u001b[0;34m(\u001b[0m\u001b[0;36m0.0\u001b[0m\u001b[0;34m)\u001b[0m\u001b[0;34m\u001b[0m\n",
       "\u001b[0;34m\u001b[0m\u001b[0;34m\u001b[0m\n",
       "\u001b[0;34m\u001b[0m        \u001b[0;31m# Calculate initial frequencies for use by cost function.\u001b[0m\u001b[0;34m\u001b[0m\n",
       "\u001b[0;34m\u001b[0m        \u001b[0minitial_frequencies\u001b[0m \u001b[0;34m=\u001b[0m \u001b[0mX\u001b[0m\u001b[0;34m.\u001b[0m\u001b[0mgroupby\u001b[0m\u001b[0;34m(\u001b[0m\u001b[0;34m[\u001b[0m\u001b[0;34m\u001b[0m\n",
       "\u001b[0;34m\u001b[0m            \u001b[0;34m\"timepoint\"\u001b[0m\u001b[0;34m,\u001b[0m\u001b[0;34m\u001b[0m\n",
       "\u001b[0;34m\u001b[0m            \u001b[0;34m\"clade_membership\"\u001b[0m\u001b[0;34m\u001b[0m\n",
       "\u001b[0;34m\u001b[0m        \u001b[0;34m]\u001b[0m\u001b[0;34m)\u001b[0m\u001b[0;34m[\u001b[0m\u001b[0;34m\"frequency\"\u001b[0m\u001b[0;34m]\u001b[0m\u001b[0;34m.\u001b[0m\u001b[0msum\u001b[0m\u001b[0;34m(\u001b[0m\u001b[0;34m)\u001b[0m\u001b[0;34m.\u001b[0m\u001b[0mreset_index\u001b[0m\u001b[0;34m(\u001b[0m\u001b[0;34m)\u001b[0m\u001b[0;34m\u001b[0m\n",
       "\u001b[0;34m\u001b[0m\u001b[0;34m\u001b[0m\n",
       "\u001b[0;34m\u001b[0m        \u001b[0;31m# Annotate future frequencies with initial frequencies.\u001b[0m\u001b[0;34m\u001b[0m\n",
       "\u001b[0;34m\u001b[0m        \u001b[0mfrequencies\u001b[0m \u001b[0;34m=\u001b[0m \u001b[0mfrequencies\u001b[0m\u001b[0;34m.\u001b[0m\u001b[0mmerge\u001b[0m\u001b[0;34m(\u001b[0m\u001b[0;34m\u001b[0m\n",
       "\u001b[0;34m\u001b[0m            \u001b[0minitial_frequencies\u001b[0m\u001b[0;34m,\u001b[0m\u001b[0;34m\u001b[0m\n",
       "\u001b[0;34m\u001b[0m            \u001b[0mhow\u001b[0m\u001b[0;34m=\u001b[0m\u001b[0;34m\"inner\"\u001b[0m\u001b[0;34m,\u001b[0m\u001b[0;34m\u001b[0m\n",
       "\u001b[0;34m\u001b[0m            \u001b[0mon\u001b[0m\u001b[0;34m=\u001b[0m\u001b[0;34m[\u001b[0m\u001b[0;34m\"timepoint\"\u001b[0m\u001b[0;34m,\u001b[0m \u001b[0;34m\"clade_membership\"\u001b[0m\u001b[0;34m]\u001b[0m\u001b[0;34m\u001b[0m\n",
       "\u001b[0;34m\u001b[0m        \u001b[0;34m)\u001b[0m\u001b[0;34m\u001b[0m\n",
       "\u001b[0;34m\u001b[0m\u001b[0;34m\u001b[0m\n",
       "\u001b[0;34m\u001b[0m        \u001b[0;31m# Calculate the error between the observed and estimated frequencies.\u001b[0m\u001b[0;34m\u001b[0m\n",
       "\u001b[0;34m\u001b[0m        \u001b[0merror\u001b[0m \u001b[0;34m=\u001b[0m \u001b[0mself\u001b[0m\u001b[0;34m.\u001b[0m\u001b[0mcost_function\u001b[0m\u001b[0;34m(\u001b[0m\u001b[0;34m\u001b[0m\n",
       "\u001b[0;34m\u001b[0m            \u001b[0mfrequencies\u001b[0m\u001b[0;34m[\u001b[0m\u001b[0;34m\"frequency_observed\"\u001b[0m\u001b[0;34m]\u001b[0m\u001b[0;34m,\u001b[0m\u001b[0;34m\u001b[0m\n",
       "\u001b[0;34m\u001b[0m            \u001b[0mfrequencies\u001b[0m\u001b[0;34m[\u001b[0m\u001b[0;34m\"frequency_estimated\"\u001b[0m\u001b[0;34m]\u001b[0m\u001b[0;34m,\u001b[0m\u001b[0;34m\u001b[0m\n",
       "\u001b[0;34m\u001b[0m            \u001b[0minitial\u001b[0m\u001b[0;34m=\u001b[0m\u001b[0mfrequencies\u001b[0m\u001b[0;34m[\u001b[0m\u001b[0;34m\"frequency\"\u001b[0m\u001b[0;34m]\u001b[0m\u001b[0;34m\u001b[0m\n",
       "\u001b[0;34m\u001b[0m        \u001b[0;34m)\u001b[0m\u001b[0;34m\u001b[0m\n",
       "\u001b[0;34m\u001b[0m        \u001b[0ml1_penalty\u001b[0m \u001b[0;34m=\u001b[0m \u001b[0mself\u001b[0m\u001b[0;34m.\u001b[0m\u001b[0ml1_lambda\u001b[0m \u001b[0;34m*\u001b[0m \u001b[0mnp\u001b[0m\u001b[0;34m.\u001b[0m\u001b[0mabs\u001b[0m\u001b[0;34m(\u001b[0m\u001b[0mcoefficients\u001b[0m\u001b[0;34m)\u001b[0m\u001b[0;34m.\u001b[0m\u001b[0msum\u001b[0m\u001b[0;34m(\u001b[0m\u001b[0;34m)\u001b[0m\u001b[0;34m\u001b[0m\n",
       "\u001b[0;34m\u001b[0m\u001b[0;34m\u001b[0m\n",
       "\u001b[0;34m\u001b[0m        \u001b[0;32mreturn\u001b[0m \u001b[0merror\u001b[0m \u001b[0;34m+\u001b[0m \u001b[0ml1_penalty\u001b[0m\u001b[0;34m\u001b[0m\u001b[0;34m\u001b[0m\u001b[0m\n",
       "\u001b[0;31mFile:\u001b[0m      ~/projects/nextstrain/flu-forecasting/src/fit_model.py\n",
       "\u001b[0;31mType:\u001b[0m      method\n"
      ]
     },
     "metadata": {},
     "output_type": "display_data"
    }
   ],
   "source": [
    "model._fit??"
   ]
  },
  {
   "cell_type": "code",
   "execution_count": 33,
   "metadata": {},
   "outputs": [],
   "source": [
    "y_hat = model.predict(X, coefficients)"
   ]
  },
  {
   "cell_type": "code",
   "execution_count": 35,
   "metadata": {},
   "outputs": [
    {
     "data": {
      "text/html": [
       "<div>\n",
       "<style scoped>\n",
       "    .dataframe tbody tr th:only-of-type {\n",
       "        vertical-align: middle;\n",
       "    }\n",
       "\n",
       "    .dataframe tbody tr th {\n",
       "        vertical-align: top;\n",
       "    }\n",
       "\n",
       "    .dataframe thead th {\n",
       "        text-align: right;\n",
       "    }\n",
       "</style>\n",
       "<table border=\"1\" class=\"dataframe\">\n",
       "  <thead>\n",
       "    <tr style=\"text-align: right;\">\n",
       "      <th></th>\n",
       "      <th>timepoint</th>\n",
       "      <th>clade_membership</th>\n",
       "      <th>frequency</th>\n",
       "    </tr>\n",
       "  </thead>\n",
       "  <tbody>\n",
       "    <tr>\n",
       "      <th>0</th>\n",
       "      <td>2004-10-01</td>\n",
       "      <td>2f64328</td>\n",
       "      <td>0.019963</td>\n",
       "    </tr>\n",
       "    <tr>\n",
       "      <th>1</th>\n",
       "      <td>2004-10-01</td>\n",
       "      <td>66684e0</td>\n",
       "      <td>0.001376</td>\n",
       "    </tr>\n",
       "    <tr>\n",
       "      <th>2</th>\n",
       "      <td>2004-10-01</td>\n",
       "      <td>84dfd90</td>\n",
       "      <td>0.004968</td>\n",
       "    </tr>\n",
       "    <tr>\n",
       "      <th>3</th>\n",
       "      <td>2004-10-01</td>\n",
       "      <td>8f3fc76</td>\n",
       "      <td>0.130853</td>\n",
       "    </tr>\n",
       "    <tr>\n",
       "      <th>4</th>\n",
       "      <td>2004-10-01</td>\n",
       "      <td>dffb0cc</td>\n",
       "      <td>0.004295</td>\n",
       "    </tr>\n",
       "  </tbody>\n",
       "</table>\n",
       "</div>"
      ],
      "text/plain": [
       "   timepoint clade_membership  frequency\n",
       "0 2004-10-01          2f64328   0.019963\n",
       "1 2004-10-01          66684e0   0.001376\n",
       "2 2004-10-01          84dfd90   0.004968\n",
       "3 2004-10-01          8f3fc76   0.130853\n",
       "4 2004-10-01          dffb0cc   0.004295"
      ]
     },
     "execution_count": 35,
     "metadata": {},
     "output_type": "execute_result"
    }
   ],
   "source": [
    "y_hat.head()"
   ]
  },
  {
   "cell_type": "code",
   "execution_count": 36,
   "metadata": {},
   "outputs": [
    {
     "data": {
      "text/plain": [
       "\u001b[0;31mSignature:\u001b[0m \u001b[0mmodel\u001b[0m\u001b[0;34m.\u001b[0m\u001b[0mpredict\u001b[0m\u001b[0;34m(\u001b[0m\u001b[0mX\u001b[0m\u001b[0;34m,\u001b[0m \u001b[0mcoefficients\u001b[0m\u001b[0;34m=\u001b[0m\u001b[0;32mNone\u001b[0m\u001b[0;34m)\u001b[0m\u001b[0;34m\u001b[0m\u001b[0;34m\u001b[0m\u001b[0m\n",
       "\u001b[0;31mSource:\u001b[0m   \n",
       "    \u001b[0;32mdef\u001b[0m \u001b[0mpredict\u001b[0m\u001b[0;34m(\u001b[0m\u001b[0mself\u001b[0m\u001b[0;34m,\u001b[0m \u001b[0mX\u001b[0m\u001b[0;34m,\u001b[0m \u001b[0mcoefficients\u001b[0m\u001b[0;34m=\u001b[0m\u001b[0;32mNone\u001b[0m\u001b[0;34m)\u001b[0m\u001b[0;34m:\u001b[0m\u001b[0;34m\u001b[0m\n",
       "\u001b[0;34m\u001b[0m        \u001b[0;34m\"\"\"Calculate the estimate final frequencies of all clades in the given tip\u001b[0m\n",
       "\u001b[0;34m        attributes data frame using previously calculated beta coefficients.\u001b[0m\n",
       "\u001b[0;34m\u001b[0m\n",
       "\u001b[0;34m        Parameters\u001b[0m\n",
       "\u001b[0;34m        ----------\u001b[0m\n",
       "\u001b[0;34m        X : pandas.DataFrame\u001b[0m\n",
       "\u001b[0;34m            standardized tip attributes by timepoint\u001b[0m\n",
       "\u001b[0;34m\u001b[0m\n",
       "\u001b[0;34m        coefficients : ndarray\u001b[0m\n",
       "\u001b[0;34m            optional coefficients to use for each of the model's predictors\u001b[0m\n",
       "\u001b[0;34m            instead of the model's currently defined coefficients\u001b[0m\n",
       "\u001b[0;34m\u001b[0m\n",
       "\u001b[0;34m        Returns\u001b[0m\n",
       "\u001b[0;34m        -------\u001b[0m\n",
       "\u001b[0;34m        pandas.DataFrame\u001b[0m\n",
       "\u001b[0;34m            estimated final clade frequencies at delta time in the future for\u001b[0m\n",
       "\u001b[0;34m            each clade from each timepoint in the given tip attributes table\u001b[0m\n",
       "\u001b[0;34m\u001b[0m\n",
       "\u001b[0;34m        \"\"\"\u001b[0m\u001b[0;34m\u001b[0m\n",
       "\u001b[0;34m\u001b[0m        \u001b[0;31m# Use model coefficients, if none are provided.\u001b[0m\u001b[0;34m\u001b[0m\n",
       "\u001b[0;34m\u001b[0m        \u001b[0;32mif\u001b[0m \u001b[0mcoefficients\u001b[0m \u001b[0;32mis\u001b[0m \u001b[0;32mNone\u001b[0m\u001b[0;34m:\u001b[0m\u001b[0;34m\u001b[0m\n",
       "\u001b[0;34m\u001b[0m            \u001b[0mcoefficients\u001b[0m \u001b[0;34m=\u001b[0m \u001b[0mself\u001b[0m\u001b[0;34m.\u001b[0m\u001b[0mcoef_\u001b[0m\u001b[0;34m\u001b[0m\n",
       "\u001b[0;34m\u001b[0m\u001b[0;34m\u001b[0m\n",
       "\u001b[0;34m\u001b[0m        \u001b[0mestimated_frequencies\u001b[0m \u001b[0;34m=\u001b[0m \u001b[0;34m[\u001b[0m\u001b[0;34m]\u001b[0m\u001b[0;34m\u001b[0m\n",
       "\u001b[0;34m\u001b[0m        \u001b[0;32mfor\u001b[0m \u001b[0mtimepoint\u001b[0m\u001b[0;34m,\u001b[0m \u001b[0mtimepoint_df\u001b[0m \u001b[0;32min\u001b[0m \u001b[0mX\u001b[0m\u001b[0;34m.\u001b[0m\u001b[0mgroupby\u001b[0m\u001b[0;34m(\u001b[0m\u001b[0;34m\"timepoint\"\u001b[0m\u001b[0;34m)\u001b[0m\u001b[0;34m:\u001b[0m\u001b[0;34m\u001b[0m\n",
       "\u001b[0;34m\u001b[0m            \u001b[0;31m# Select predictors from the timepoint.\u001b[0m\u001b[0;34m\u001b[0m\n",
       "\u001b[0;34m\u001b[0m            \u001b[0mpredictors\u001b[0m \u001b[0;34m=\u001b[0m \u001b[0mtimepoint_df\u001b[0m\u001b[0;34m.\u001b[0m\u001b[0mloc\u001b[0m\u001b[0;34m[\u001b[0m\u001b[0;34m:\u001b[0m\u001b[0;34m,\u001b[0m \u001b[0mself\u001b[0m\u001b[0;34m.\u001b[0m\u001b[0mpredictors\u001b[0m\u001b[0;34m]\u001b[0m\u001b[0;34m.\u001b[0m\u001b[0mvalues\u001b[0m\u001b[0;34m\u001b[0m\n",
       "\u001b[0;34m\u001b[0m\u001b[0;34m\u001b[0m\n",
       "\u001b[0;34m\u001b[0m            \u001b[0;31m# Select frequencies from timepoint.\u001b[0m\u001b[0;34m\u001b[0m\n",
       "\u001b[0;34m\u001b[0m            \u001b[0minitial_frequencies\u001b[0m \u001b[0;34m=\u001b[0m \u001b[0mtimepoint_df\u001b[0m\u001b[0;34m[\u001b[0m\u001b[0;34m\"frequency\"\u001b[0m\u001b[0;34m]\u001b[0m\u001b[0;34m.\u001b[0m\u001b[0mvalues\u001b[0m\u001b[0;34m\u001b[0m\n",
       "\u001b[0;34m\u001b[0m\u001b[0;34m\u001b[0m\n",
       "\u001b[0;34m\u001b[0m            \u001b[0;31m# Calculate fitnesses.\u001b[0m\u001b[0;34m\u001b[0m\n",
       "\u001b[0;34m\u001b[0m            \u001b[0mfitnesses\u001b[0m \u001b[0;34m=\u001b[0m \u001b[0mself\u001b[0m\u001b[0;34m.\u001b[0m\u001b[0mget_fitnesses\u001b[0m\u001b[0;34m(\u001b[0m\u001b[0mcoefficients\u001b[0m\u001b[0;34m,\u001b[0m \u001b[0mpredictors\u001b[0m\u001b[0;34m)\u001b[0m\u001b[0;34m\u001b[0m\n",
       "\u001b[0;34m\u001b[0m\u001b[0;34m\u001b[0m\n",
       "\u001b[0;34m\u001b[0m            \u001b[0;31m# Project frequencies.\u001b[0m\u001b[0;34m\u001b[0m\n",
       "\u001b[0;34m\u001b[0m            \u001b[0mprojected_frequencies\u001b[0m \u001b[0;34m=\u001b[0m \u001b[0mself\u001b[0m\u001b[0;34m.\u001b[0m\u001b[0mproject_frequencies\u001b[0m\u001b[0;34m(\u001b[0m\u001b[0;34m\u001b[0m\n",
       "\u001b[0;34m\u001b[0m                \u001b[0minitial_frequencies\u001b[0m\u001b[0;34m,\u001b[0m\u001b[0;34m\u001b[0m\n",
       "\u001b[0;34m\u001b[0m                \u001b[0mfitnesses\u001b[0m\u001b[0;34m,\u001b[0m\u001b[0;34m\u001b[0m\n",
       "\u001b[0;34m\u001b[0m                \u001b[0mself\u001b[0m\u001b[0;34m.\u001b[0m\u001b[0mdelta_time\u001b[0m\u001b[0;34m\u001b[0m\n",
       "\u001b[0;34m\u001b[0m            \u001b[0;34m)\u001b[0m\u001b[0;34m\u001b[0m\n",
       "\u001b[0;34m\u001b[0m\u001b[0;34m\u001b[0m\n",
       "\u001b[0;34m\u001b[0m            \u001b[0;31m# Sum the estimated frequencies by clade.\u001b[0m\u001b[0;34m\u001b[0m\n",
       "\u001b[0;34m\u001b[0m            \u001b[0mprojected_timepoint_df\u001b[0m \u001b[0;34m=\u001b[0m \u001b[0mtimepoint_df\u001b[0m\u001b[0;34m[\u001b[0m\u001b[0;34m[\u001b[0m\u001b[0;34m\"timepoint\"\u001b[0m\u001b[0;34m,\u001b[0m \u001b[0;34m\"clade_membership\"\u001b[0m\u001b[0;34m]\u001b[0m\u001b[0;34m]\u001b[0m\u001b[0;34m.\u001b[0m\u001b[0mcopy\u001b[0m\u001b[0;34m(\u001b[0m\u001b[0;34m)\u001b[0m\u001b[0;34m\u001b[0m\n",
       "\u001b[0;34m\u001b[0m            \u001b[0mprojected_timepoint_df\u001b[0m\u001b[0;34m[\u001b[0m\u001b[0;34m\"frequency\"\u001b[0m\u001b[0;34m]\u001b[0m \u001b[0;34m=\u001b[0m \u001b[0mprojected_frequencies\u001b[0m\u001b[0;34m\u001b[0m\n",
       "\u001b[0;34m\u001b[0m            \u001b[0mprojected_clade_frequencies\u001b[0m \u001b[0;34m=\u001b[0m \u001b[0mprojected_timepoint_df\u001b[0m\u001b[0;34m.\u001b[0m\u001b[0mgroupby\u001b[0m\u001b[0;34m(\u001b[0m\u001b[0;34m[\u001b[0m\u001b[0;34m\u001b[0m\n",
       "\u001b[0;34m\u001b[0m                \u001b[0;34m\"timepoint\"\u001b[0m\u001b[0;34m,\u001b[0m\u001b[0;34m\u001b[0m\n",
       "\u001b[0;34m\u001b[0m                \u001b[0;34m\"clade_membership\"\u001b[0m\u001b[0;34m\u001b[0m\n",
       "\u001b[0;34m\u001b[0m            \u001b[0;34m]\u001b[0m\u001b[0;34m)\u001b[0m\u001b[0;34m[\u001b[0m\u001b[0;34m\"frequency\"\u001b[0m\u001b[0;34m]\u001b[0m\u001b[0;34m.\u001b[0m\u001b[0msum\u001b[0m\u001b[0;34m(\u001b[0m\u001b[0;34m)\u001b[0m\u001b[0;34m.\u001b[0m\u001b[0mreset_index\u001b[0m\u001b[0;34m(\u001b[0m\u001b[0;34m)\u001b[0m\u001b[0;34m\u001b[0m\n",
       "\u001b[0;34m\u001b[0m\u001b[0;34m\u001b[0m\n",
       "\u001b[0;34m\u001b[0m            \u001b[0mestimated_frequencies\u001b[0m\u001b[0;34m.\u001b[0m\u001b[0mappend\u001b[0m\u001b[0;34m(\u001b[0m\u001b[0mprojected_clade_frequencies\u001b[0m\u001b[0;34m)\u001b[0m\u001b[0;34m\u001b[0m\n",
       "\u001b[0;34m\u001b[0m\u001b[0;34m\u001b[0m\n",
       "\u001b[0;34m\u001b[0m        \u001b[0;31m# Collect all estimated frequencies by timepoint.\u001b[0m\u001b[0;34m\u001b[0m\n",
       "\u001b[0;34m\u001b[0m        \u001b[0mestimated_frequencies\u001b[0m \u001b[0;34m=\u001b[0m \u001b[0mpd\u001b[0m\u001b[0;34m.\u001b[0m\u001b[0mconcat\u001b[0m\u001b[0;34m(\u001b[0m\u001b[0mestimated_frequencies\u001b[0m\u001b[0;34m)\u001b[0m\u001b[0;34m\u001b[0m\n",
       "\u001b[0;34m\u001b[0m        \u001b[0;32mreturn\u001b[0m \u001b[0mestimated_frequencies\u001b[0m\u001b[0;34m\u001b[0m\u001b[0;34m\u001b[0m\u001b[0m\n",
       "\u001b[0;31mFile:\u001b[0m      ~/projects/nextstrain/flu-forecasting/src/fit_model.py\n",
       "\u001b[0;31mType:\u001b[0m      method\n"
      ]
     },
     "metadata": {},
     "output_type": "display_data"
    }
   ],
   "source": [
    "model.predict??"
   ]
  },
  {
   "cell_type": "code",
   "execution_count": 40,
   "metadata": {},
   "outputs": [
    {
     "name": "stdout",
     "output_type": "stream",
     "text": [
      "Predictors:  [[-0.77852224]\n",
      " [-0.72897056]\n",
      " [-1.088123  ]\n",
      " [-0.6289078 ]\n",
      " [-1.18407725]\n",
      " [-0.6289078 ]\n",
      " [-1.18407725]\n",
      " [-1.18407725]\n",
      " [-1.11549014]\n",
      " [-1.13882758]]\n",
      "Initial freqs:  [3.256e-03 3.087e-03 3.449e-03 4.187e-03 2.362e-03 4.187e-03 2.362e-03\n",
      " 2.362e-03 4.400e-05 9.150e-04]\n",
      "Fitnesses:  [-0.70198473 -0.65730454 -0.98114825 -0.56707907 -1.06766911 -0.56707907\n",
      " -1.06766911 -1.06766911 -1.00582489 -1.026868  ]\n",
      "Projected freqs:  [1.20196626e-03 1.19165042e-03 9.63078970e-04 1.76888510e-03\n",
      " 6.04885349e-04 1.76888510e-03 6.04885349e-04 6.04885349e-04\n",
      " 1.19868329e-05 2.44080995e-04]\n",
      "Predictors:  [[-0.9782014 ]\n",
      " [-0.67314721]\n",
      " [-0.15639282]\n",
      " [ 0.46354076]\n",
      " [-0.35151089]\n",
      " [ 0.05354171]\n",
      " [-0.39817519]\n",
      " [-0.68081329]\n",
      " [-0.10792415]\n",
      " [ 0.28781015]]\n",
      "Initial freqs:  [8.1000e-05 4.4470e-03 3.3800e-04 6.3210e-03 5.4060e-03 1.2449e-02\n",
      " 1.2399e-02 6.1380e-03 6.0000e-04 1.1127e-02]\n",
      "Fitnesses:  [-0.88203318 -0.60696926 -0.14101765  0.41796948 -0.31695341  0.04827796\n",
      " -0.35903008 -0.61388167 -0.09731399  0.25951517]\n",
      "Projected freqs:  [2.93631804e-05 2.12248167e-03 2.57071382e-04 8.40790597e-03\n",
      " 3.44830080e-03 1.14414624e-02 7.58301816e-03 2.90938825e-03\n",
      " 4.76725671e-04 1.26317730e-02]\n",
      "Predictors:  [[-1.00863442]\n",
      " [ 1.4294365 ]\n",
      " [ 1.71029992]\n",
      " [ 0.074918  ]\n",
      " [ 0.97929936]\n",
      " [-0.63274145]\n",
      " [-1.03409282]\n",
      " [-1.03278006]\n",
      " [-1.01362629]\n",
      " [ 0.93378761]]\n",
      "Initial freqs:  [0.001025 0.001355 0.001302 0.010636 0.009978 0.009978 0.002207 0.002205\n",
      " 0.002152 0.002203]\n",
      "Fitnesses:  [-0.90947429  1.28890678  1.54215817  0.06755271  0.8830232  -0.57053583\n",
      " -0.93242984 -0.93124614 -0.9139754   0.84198577]\n",
      "Projected freqs:  [0.00026581 0.00316609 0.00391905 0.00732715 0.01553655 0.00363147\n",
      " 0.00055934 0.00055949 0.00055555 0.00329233]\n",
      "Predictors:  [[-0.25720405]\n",
      " [ 0.06166221]\n",
      " [ 0.52702536]\n",
      " [ 1.68880538]\n",
      " [-0.57899168]\n",
      " [-1.14346323]\n",
      " [-1.14275099]\n",
      " [-0.22271011]\n",
      " [ 0.18566892]\n",
      " [-1.14346323]]\n",
      "Initial freqs:  [2.000e-06 8.784e-03 5.600e-04 1.373e-03 1.373e-03 1.000e-06 1.000e-06\n",
      " 9.200e-05 7.004e-03 1.000e-06]\n",
      "Fitnesses:  [-0.23191799  0.05560012  0.47521283  1.52277678 -0.52207027 -1.03104791\n",
      " -1.03040569 -0.2008152   0.16741557 -1.03104791]\n",
      "Projected freqs:  [1.75560755e-06 1.02791523e-02 9.96984678e-04 6.96822614e-03\n",
      " 9.01688325e-04 3.94765991e-07 3.95019597e-07 8.33092154e-05\n",
      " 9.16583308e-03 3.94765991e-07]\n",
      "Predictors:  [[-0.4131476 ]\n",
      " [-0.47224005]\n",
      " [-0.47224005]\n",
      " [-0.35519397]\n",
      " [-0.35519397]\n",
      " [-0.26342488]\n",
      " [ 0.33532068]\n",
      " [ 0.19914038]\n",
      " [-0.55567801]\n",
      " [-0.25454329]]\n",
      "Initial freqs:  [6.301e-03 6.328e-03 6.328e-03 1.510e-04 1.510e-04 1.400e-05 3.470e-04\n",
      " 3.470e-04 5.515e-03 8.200e-05]\n",
      "Fitnesses:  [-0.37253053 -0.42581353 -0.42581353 -0.3202744  -0.3202744  -0.23752724\n",
      "  0.30235487  0.17956263 -0.5010486  -0.22951881]\n",
      "Projected freqs:  [5.70562819e-03 5.43275284e-03 5.43275284e-03 1.44067322e-04\n",
      " 1.44067322e-04 1.45095254e-05 6.17053004e-04 5.45750921e-04\n",
      " 4.39162064e-03 8.56676869e-05]\n",
      "Predictors:  [[ 0.19172261]\n",
      " [ 0.88734746]\n",
      " [-0.43422796]\n",
      " [ 1.52923567]\n",
      " [-0.94241216]\n",
      " [-0.96513906]\n",
      " [ 1.63817017]\n",
      " [-0.95391869]\n",
      " [-0.95912038]\n",
      " [-0.96513906]]\n",
      "Initial freqs:  [1.413e-03 1.029e-03 8.840e-04 8.070e-04 1.000e-06 7.000e-06 4.722e-03\n",
      " 5.133e-03 5.377e-03 7.000e-06]\n",
      "Fitnesses:  [ 0.17287411  0.80011121 -0.39153846  1.37889457 -0.84976243 -0.87025501\n",
      "  1.47711958 -0.86013773 -0.86482804 -0.87025501]\n",
      "Projected freqs:  [5.49301295e-04 7.49013151e-04 1.95433702e-04 1.04787632e-03\n",
      " 1.39811551e-07 9.58829255e-07 6.76427185e-03 7.10245320e-04\n",
      " 7.40525774e-04 9.58829255e-07]\n",
      "Predictors:  [[-1.19446509]\n",
      " [ 0.94055899]\n",
      " [-1.01634579]\n",
      " [-0.99890285]\n",
      " [-0.97866701]\n",
      " [ 1.18464155]\n",
      " [ 1.6610277 ]\n",
      " [ 1.32801785]\n",
      " [ 0.77833242]\n",
      " [-1.22321353]]\n",
      "Initial freqs:  [0.000131 0.000822 0.001924 0.001536 0.001083 0.001221 0.001671 0.002276\n",
      " 0.002234 0.002297]\n",
      "Fitnesses:  [-1.07703571  0.84809145 -0.91642755 -0.90069944 -0.88245302  1.06817794\n",
      "  1.49772996  1.19745873  0.70181358 -1.10295785]\n",
      "Projected freqs:  [2.28884042e-05 9.84664175e-04 3.94730355e-04 3.20123312e-04\n",
      " 2.29868185e-04 1.82269638e-03 3.83289737e-03 3.86648973e-03\n",
      " 2.31191475e-03 3.91063580e-04]\n",
      "Predictors:  [[-0.02754349]\n",
      " [ 0.99935743]\n",
      " [ 0.05212213]\n",
      " [ 0.05212213]\n",
      " [ 0.01171464]\n",
      " [ 1.86418983]\n",
      " [-0.12054636]\n",
      " [ 0.63452135]\n",
      " [-1.24982157]\n",
      " [-0.72226532]]\n",
      "Initial freqs:  [2.4960e-03 2.4960e-03 2.4960e-03 2.4960e-03 2.3850e-03 2.3850e-03\n",
      " 1.0620e-03 2.5576e-02 1.4935e-02 8.0000e-06]\n",
      "Fitnesses:  [-0.02483566  0.90110934  0.04699794  0.04699794  0.01056295  1.68091897\n",
      " -0.10869529  0.57214075 -1.12695003 -0.6512585 ]\n",
      "Projected freqs:  [1.65170572e-03 4.16932236e-03 1.77471904e-03 1.77471904e-03\n",
      " 1.63512101e-03 8.68913003e-03 6.46238505e-04 3.07456922e-02\n",
      " 3.28285068e-03 2.82960682e-06]\n",
      "Predictors:  [[-0.47286203]\n",
      " [ 1.31896277]\n",
      " [-0.47286203]\n",
      " [-0.47286203]\n",
      " [-0.50295766]\n",
      " [ 1.3024253 ]\n",
      " [ 0.40936196]\n",
      " [-1.12096419]\n",
      " [-0.51553113]\n",
      " [ 0.10205867]]\n",
      "Initial freqs:  [0.000626 0.000626 0.000626 0.000626 0.000937 0.000937 0.001648 0.001477\n",
      " 0.000369 0.001197]\n",
      "Fitnesses:  [-0.42637436  1.18929387 -0.42637436 -0.42637436 -0.45351126  1.17438221\n",
      "  0.36911706 -1.01076078 -0.46484861  0.09202515]\n",
      "Projected freqs:  [0.00033949 0.00170807 0.00033949 0.00033949 0.00049455 0.0025188\n",
      " 0.00198011 0.00044652 0.00019256 0.00109015]\n",
      "Predictors:  [[-1.12198361]\n",
      " [-0.1783272 ]\n",
      " [-1.07478394]\n",
      " [-0.29528426]\n",
      " [-0.02339977]\n",
      " [-0.36054605]\n",
      " [-0.2034836 ]\n",
      " [ 1.00480316]\n",
      " [ 0.08126339]\n",
      " [-0.61553023]]\n",
      "Initial freqs:  [1.4100e-04 2.0100e-04 1.2575e-02 4.0240e-03 2.6180e-03 1.3000e-05\n",
      " 1.0000e-06 3.5000e-05 3.9100e-03 1.1270e-03]\n",
      "Fitnesses:  [-1.01167998 -0.16079563 -0.96912057 -0.26625449 -0.02109931 -0.32510031\n",
      " -0.18347887  0.90601969  0.07327429 -0.55501667]\n",
      "Projected freqs:  [7.11048270e-05 2.37361571e-04 6.61715460e-03 4.27633892e-03\n",
      " 3.55511237e-03 1.30257003e-05 1.15441814e-06 1.20114213e-04\n",
      " 5.83507414e-03 8.97284654e-04]\n",
      "Predictors:  [[ 1.02029299]\n",
      " [ 0.7777862 ]\n",
      " [-0.81907607]\n",
      " [-1.23263127]\n",
      " [-1.13174836]\n",
      " [-1.00579663]\n",
      " [ 1.16000953]\n",
      " [ 1.72688814]\n",
      " [ 2.69336623]\n",
      " [ 2.38059264]]\n",
      "Initial freqs:  [1.415e-03 1.018e-03 8.000e-06 3.685e-03 5.360e-04 7.883e-03 2.490e-04\n",
      " 9.152e-03 6.371e-03 7.766e-03]\n",
      "Fitnesses:  [ 0.91998669  0.70132106 -0.73855166 -1.11144972 -1.02048475 -0.90691549\n",
      "  1.04596752  1.55711557  2.42857798  2.14655356]\n",
      "Projected freqs:  [1.13319768e-03 6.55136408e-04 1.21995881e-06 3.87030422e-04\n",
      " 6.16563750e-05 1.01584448e-03 2.26183730e-04 1.38601141e-02\n",
      " 2.30637388e-02 2.12049788e-02]\n",
      "Predictors:  [[ 0.15900523]\n",
      " [ 0.16627725]\n",
      " [-0.21543845]\n",
      " [-0.48187835]\n",
      " [-1.19631586]\n",
      " [-0.20379104]\n",
      " [-0.67139856]\n",
      " [ 0.82338456]\n",
      " [-0.84988016]\n",
      " [-0.86131225]]\n",
      "Initial freqs:  [4.0931e-02 1.0529e-02 2.7000e-05 7.1700e-04 3.5000e-05 1.3000e-05\n",
      " 2.0960e-03 5.0000e-06 1.2495e-02 1.2479e-02]\n",
      "Fitnesses:  [ 0.14337322  0.14993032 -0.19425842 -0.43450428 -1.07870453 -0.18375608\n",
      " -0.60539251  0.74243658 -0.76632736 -0.77663555]\n",
      "Projected freqs:  [2.20669934e-02 5.71380804e-03 1.03853948e-05 2.16890712e-04\n",
      " 5.55926312e-06 5.05316767e-06 5.34437913e-04 4.90716568e-06\n",
      " 2.71237121e-03 2.68111757e-03]\n",
      "Predictors:  [[-1.17311555]\n",
      " [-1.18919882]\n",
      " [-0.10931044]\n",
      " [ 0.47481914]\n",
      " [ 0.46063845]\n",
      " [ 0.02585233]\n",
      " [ 0.3021007 ]\n",
      " [-1.23437596]\n",
      " [-1.2060863 ]\n",
      " [ 0.77479013]]\n",
      "Initial freqs:  [3.8800e-04 1.2390e-03 1.0000e-06 1.2590e-03 4.8370e-03 4.6150e-03\n",
      " 1.1564e-02 2.0830e-03 2.1410e-03 9.6200e-03]\n",
      "Fitnesses:  [-1.05778507 -1.07228717 -0.09856399  0.42813907  0.4153525   0.02331075\n",
      "  0.2724008  -1.11302289 -1.08751442  0.69861953]\n",
      "Projected freqs:  [9.21742908e-05 2.90102322e-04 6.19958334e-07 1.32169871e-03\n",
      " 5.01336919e-03 3.23194333e-03 1.03891148e-02 4.68250090e-04\n",
      " 4.93723109e-04 1.32357934e-02]\n",
      "Predictors:  [[ 0.83209305]\n",
      " [-0.32659959]\n",
      " [ 0.14906536]\n",
      " [-0.96698968]\n",
      " [ 0.62407265]\n",
      " [-1.01655503]\n",
      " [-0.53943509]\n",
      " [-1.22403041]\n",
      " [-0.51132556]\n",
      " [ 1.15191737]]\n",
      "Initial freqs:  [2.2000e-05 1.9000e-05 2.2600e-04 1.2076e-02 7.8500e-04 3.4090e-03\n",
      " 3.3730e-03 1.5000e-04 4.4760e-03 9.0800e-04]\n",
      "Fitnesses:  [ 0.75028893 -0.29449117  0.13441056 -0.8719237   0.56271927 -0.91661622\n",
      " -0.48640254 -1.10369443 -0.46105649  1.03867091]\n",
      "Projected freqs:  [2.98755880e-05 9.07622283e-06 1.65779049e-04 3.23816440e-03\n",
      " 8.83696170e-04 8.74164319e-04 1.32990875e-03 3.19014408e-05\n",
      " 1.81010275e-03 1.64521377e-03]\n",
      "Predictors:  [[-0.0654597 ]\n",
      " [ 0.01319761]\n",
      " [ 0.54032369]\n",
      " [ 0.05689725]\n",
      " [ 1.47505585]\n",
      " [ 0.24813382]\n",
      " [-0.75437482]\n",
      " [-0.43462617]\n",
      " [ 1.25118336]\n",
      " [ 1.40625861]]\n",
      "Initial freqs:  [3.521e-03 1.000e-06 1.870e-04 5.400e-05 2.900e-04 1.617e-03 1.584e-03\n",
      " 1.594e-03 2.100e-05 2.440e-04]\n",
      "Fitnesses:  [-0.05902427  0.01190013  0.48720378  0.05130361  1.33004124  0.22373947\n",
      " -0.68021127 -0.39189752  1.12817794  1.26800755]\n",
      "Projected freqs:  [7.78821655e-04 2.37451037e-07 7.14228914e-05 1.33376876e-05\n",
      " 2.57296263e-04 4.74553024e-04 1.88256111e-04 2.52752404e-04\n",
      " 1.52260291e-05 2.03462518e-04]\n",
      "Predictors:  [[ 0.76874218]\n",
      " [ 2.43696319]\n",
      " [-0.1861919 ]\n",
      " [ 0.32716432]\n",
      " [-1.1532142 ]\n",
      " [-0.04511774]\n",
      " [ 0.43188694]\n",
      " [-0.03852733]\n",
      " [-1.06107597]\n",
      " [-1.12465424]]\n",
      "Initial freqs:  [1.2237e-02 1.1860e-03 6.9300e-04 1.3020e-03 4.7000e-05 4.5250e-03\n",
      " 9.7960e-03 1.2990e-03 3.0000e-06 4.4000e-05]\n",
      "Fitnesses:  [ 0.69316616  2.19738225 -0.16788714  0.29500038 -1.03984025 -0.04068216\n",
      "  0.38942759 -0.03473966 -0.95676025 -1.01408806]\n",
      "Projected freqs:  [1.12893922e-02 4.92439678e-03 2.70257739e-04 8.06650455e-04\n",
      " 7.66405013e-06 2.00404703e-03 6.67010071e-03 5.78734364e-04\n",
      " 5.31573010e-07 7.36202337e-06]\n",
      "Predictors:  [[-1.18417256e+00]\n",
      " [-5.47678475e-04]\n",
      " [-1.02828029e+00]\n",
      " [-4.16603093e-01]\n",
      " [-7.80906317e-01]\n",
      " [ 1.66159446e-01]\n",
      " [-1.05794587e+00]\n",
      " [-1.17602275e+00]\n",
      " [-4.23569099e-01]\n",
      " [-1.27082978e+00]]\n",
      "Initial freqs:  [1.209e-02 2.000e-06 5.850e-04 7.000e-06 2.000e-06 1.334e-03 1.000e-06\n",
      " 4.139e-03 1.230e-04 1.967e-03]\n",
      "Fitnesses:  [-1.06775505e+00 -4.93835509e-04 -9.27188751e-01 -3.75646315e-01\n",
      " -7.04134426e-01  1.49824100e-01 -9.53937873e-01 -1.06040646e+00\n",
      " -3.81927484e-01 -1.14589289e+00]\n",
      "Projected freqs:  [3.12280830e-03 1.50194724e-06 1.73909001e-04 3.61240197e-06\n",
      " 7.43134549e-07 1.16429428e-03 2.89433768e-07 1.07697570e-03\n",
      " 6.30776152e-05 4.69881722e-04]\n",
      "Predictors:  [[ 1.01525548]\n",
      " [-1.27228721]\n",
      " [ 0.74367148]\n",
      " [-1.02472795]\n",
      " [ 1.0159927 ]\n",
      " [ 0.78239641]\n",
      " [ 0.70509727]\n",
      " [ 1.16602446]\n",
      " [ 0.41724156]\n",
      " [ 0.41724156]]\n",
      "Initial freqs:  [0.001888 0.003102 0.004035 0.004277 0.001896 0.001891 0.001877 0.001901\n",
      " 0.001733 0.001733]\n",
      "Fitnesses:  [ 0.91544443 -1.14720704  0.67056019 -0.92398565  0.91610917  0.70547803\n",
      "  0.63577826  1.05139112  0.37622201  0.37622201]\n",
      "Projected freqs:  [0.00268756 0.00056131 0.00449622 0.00096748 0.00270074 0.00218202\n",
      " 0.00202005 0.00310012 0.00143871 0.00143871]\n",
      "Predictors:  [[ 0.47048746]\n",
      " [ 0.23055317]\n",
      " [ 1.33001696]\n",
      " [-1.04194901]\n",
      " [ 1.71902829]\n",
      " [ 1.2028907 ]\n",
      " [-0.20935796]\n",
      " [-0.3971942 ]\n",
      " [-0.54297419]\n",
      " [ 0.03211486]]\n",
      "Initial freqs:  [1.579e-03 1.599e-03 1.270e-04 4.247e-03 8.200e-05 1.070e-04 1.940e-04\n",
      " 2.000e-04 2.449e-03 1.762e-03]\n",
      "Fitnesses:  [ 0.42423324  0.20788719  1.19926131 -0.93951368  1.55002844  1.08463299\n",
      " -0.18877571 -0.35814553 -0.48959371  0.02895761]\n",
      "Projected freqs:  [1.71926406e-03 1.40233258e-03 3.00161224e-04 1.18242867e-03\n",
      " 2.75233282e-04 2.25502935e-04 1.14428915e-04 9.95881505e-05\n",
      " 1.06924994e-03 1.29211251e-03]\n",
      "Predictors:  [[-0.28248116]\n",
      " [ 0.14112431]\n",
      " [ 0.15669804]\n",
      " [-0.32509809]\n",
      " [ 0.2601265 ]\n",
      " [-0.68498321]\n",
      " [ 0.26378215]\n",
      " [-0.27180178]\n",
      " [-0.65175681]\n",
      " [ 0.20887552]]\n",
      "Initial freqs:  [1.226e-03 1.226e-03 1.227e-03 7.700e-04 3.000e-06 4.305e-03 4.329e-03\n",
      " 1.224e-03 1.225e-03 1.228e-03]\n",
      "Fitnesses:  [-0.25471008  0.1272502   0.14129286 -0.29313728  0.23455313 -0.61764164\n",
      "  0.2378494  -0.24508061 -0.58768177  0.1883407 ]\n",
      "Projected freqs:  [8.39027376e-04 1.22930422e-03 1.24770558e-03 5.07093058e-04\n",
      " 3.34881557e-06 2.04946093e-03 4.84829582e-03 8.45763829e-04\n",
      " 6.00916299e-04 1.30887610e-03]\n",
      "Predictors:  [[-0.76459732]\n",
      " [-0.52055371]\n",
      " [-0.51226611]\n",
      " [-1.16436074]\n",
      " [-0.92879109]\n",
      " [ 1.07512436]\n",
      " [ 1.29816393]\n",
      " [-0.77469085]\n",
      " [ 0.88989819]\n",
      " [ 0.01706585]]\n",
      "Initial freqs:  [2.800e-05 2.800e-05 2.300e-05 5.240e-04 4.000e-05 4.521e-03 3.724e-03\n",
      " 1.300e-05 9.114e-03 5.000e-05]\n",
      "Fitnesses:  [-0.68942879 -0.46937742 -0.46190458 -1.04989096 -0.83748046  0.96942752\n",
      "  1.17053978 -0.69853001  0.80241117  0.01538808]\n",
      "Projected freqs:  [7.33318473e-06 9.13818027e-06 7.56266634e-06 9.57015889e-05\n",
      " 9.03434275e-06 6.22015547e-03 6.26496073e-03 3.37384662e-06\n",
      " 1.06106376e-02 2.64973643e-05]\n"
     ]
    }
   ],
   "source": [
    "estimated_frequencies = []\n",
    "for timepoint, timepoint_df in X.groupby(\"timepoint\"):\n",
    "    # Select predictors from the timepoint.\n",
    "    predictors = timepoint_df.loc[:, model.predictors].values\n",
    "    print(\"Predictors: \", predictors[:10])\n",
    "\n",
    "    # Select frequencies from timepoint.\n",
    "    initial_frequencies = timepoint_df[\"frequency\"].values\n",
    "    print(\"Initial freqs: \", initial_frequencies[:10])\n",
    "\n",
    "    # Calculate fitnesses.\n",
    "    fitnesses = model.get_fitnesses(coefficients, predictors)\n",
    "    print(\"Fitnesses: \", fitnesses[:10])\n",
    "\n",
    "    # Project frequencies.\n",
    "    projected_frequencies = model.project_frequencies(\n",
    "        initial_frequencies,\n",
    "        fitnesses,\n",
    "        model.delta_time\n",
    "    )\n",
    "    print(\"Projected freqs: \", projected_frequencies[:10])\n",
    "\n",
    "    # Sum the estimated frequencies by clade.\n",
    "    projected_timepoint_df = timepoint_df[[\"timepoint\", \"clade_membership\"]].copy()\n",
    "    projected_timepoint_df[\"frequency\"] = projected_frequencies\n",
    "    projected_clade_frequencies = projected_timepoint_df.groupby([\n",
    "        \"timepoint\",\n",
    "        \"clade_membership\"\n",
    "    ])[\"frequency\"].sum().reset_index()\n",
    "\n",
    "    estimated_frequencies.append(projected_clade_frequencies)"
   ]
  },
  {
   "cell_type": "code",
   "execution_count": null,
   "metadata": {},
   "outputs": [],
   "source": []
  }
 ],
 "metadata": {
  "kernelspec": {
   "display_name": "Python 3",
   "language": "python",
   "name": "python3"
  },
  "language_info": {
   "codemirror_mode": {
    "name": "ipython",
    "version": 3
   },
   "file_extension": ".py",
   "mimetype": "text/x-python",
   "name": "python",
   "nbconvert_exporter": "python",
   "pygments_lexer": "ipython3",
   "version": "3.6.7"
  }
 },
 "nbformat": 4,
 "nbformat_minor": 2
}
